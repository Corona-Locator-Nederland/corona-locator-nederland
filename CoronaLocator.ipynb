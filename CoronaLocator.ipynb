{
  "nbformat": 4,
  "nbformat_minor": 0,
  "metadata": {
    "colab": {
      "name": "Corona locator.ipynb",
      "provenance": [],
      "collapsed_sections": [],
      "authorship_tag": "ABX9TyOTwhcdXxP5ZW3iLbyC7blt",
      "include_colab_link": true
    },
    "kernelspec": {
      "name": "python3",
      "display_name": "Python 3",
      "language": "python"
    }
  },
  "cells": [
    {
      "cell_type": "markdown",
      "metadata": {
        "id": "view-in-github",
        "colab_type": "text"
      },
      "source": [
        "<a href=\"https://colab.research.google.com/github/Corona-Locator-Nederland/corona-locator-nederland/blob/main/Corona_locator.ipynb\" target=\"_parent\"><img src=\"https://colab.research.google.com/assets/colab-badge.svg\" alt=\"Open In Colab\"/></a>"
      ]
    },
    {
      "cell_type": "code",
      "metadata": {
        "id": "6CSRx5bUZi8x"
      },
      "source": [
        "from urllib.request import urlopen\n",
        "from urllib.request import urlretrieve\n",
        "import pandas as pd\n",
        "import numpy as np\n",
        "import json\n",
        "import datetime\n",
        "import requests\n",
        "import json\n",
        "import math\n",
        "import os\n",
        "import seaborn as sns\n",
        "import glob\n",
        "from dateutil.parser import parse as parsedate\n",
        "\n",
        "from dotenv import load_dotenv, find_dotenv\n",
        "try:\n",
        "  load_dotenv(find_dotenv())\n",
        "except IOError:\n",
        "  load_dotenv(find_dotenv(filename='dot.env'))\n"
      ],
      "execution_count": 1,
      "outputs": []
    },
    {
      "cell_type": "markdown",
      "metadata": {
        "id": "tsZ-IFqjHxup"
      },
      "source": [
        "Download de RIVM data als die nieuwer is dan wat we al hebben (gecached want de download van RIVM is *zeer* traag)"
      ]
    },
    {
      "cell_type": "code",
      "metadata": {
        "colab": {
          "base_uri": "https://localhost:8080/",
          "height": 224
        },
        "id": "Jrbpq3dI9Jd4",
        "outputId": "81c780b9-7ea5-44de-d656-413a69eb752d"
      },
      "source": [
        "os.makedirs('downloads', exist_ok = True)\n",
        "\n",
        "rivm = requests.head('https://data.rivm.nl/covid-19/COVID-19_casus_landelijk.csv')\n",
        "latest = os.path.join('downloads', parsedate(rivm.headers['last-modified']).strftime('%Y-%m-%d@%H-%M.csv'))\n",
        "if not os.path.exists(latest):\n",
        "  print('downloading', latest)\n",
        "  for f in glob.glob('downloads/*.csv'):\n",
        "    if f != latest:\n",
        "      os.remove(f)\n",
        "  urlretrieve('https://data.rivm.nl/covid-19/COVID-19_casus_landelijk.csv', latest)\n",
        "else:\n",
        "  print(latest, 'exists')\n",
        "covid = pd.read_csv(latest, sep=';', header=0 )\n",
        "covid.head()"
      ],
      "execution_count": 2,
      "outputs": [
        {
          "output_type": "stream",
          "name": "stdout",
          "text": [
            "downloading downloads/2021-01-04@14-15.csv\n"
          ]
        },
        {
          "output_type": "execute_result",
          "data": {
            "text/plain": [
              "             Date_file Date_statistics Date_statistics_type Agegroup     Sex  \\\n",
              "0  2021-01-04 10:00:00      2020-01-01                  DOO    40-49  Female   \n",
              "1  2021-01-04 10:00:00      2020-01-01                  DOO    50-59    Male   \n",
              "2  2021-01-04 10:00:00      2020-01-02                  DOO    70-79  Female   \n",
              "3  2021-01-04 10:00:00      2020-01-16                  DOO      0-9  Female   \n",
              "4  2021-01-04 10:00:00      2020-01-20                  DOO    50-59  Female   \n",
              "\n",
              "        Province Hospital_admission Deceased  Week_of_death  \\\n",
              "0  Noord-Holland                 No       No            NaN   \n",
              "1     Gelderland                 No       No            NaN   \n",
              "2  Noord-Holland                 No       No            NaN   \n",
              "3   Zuid-Holland                 No       No            NaN   \n",
              "4     Gelderland                 No       No            NaN   \n",
              "\n",
              "                            Municipal_health_service  \n",
              "0                                      GGD Amsterdam  \n",
              "1  Veiligheids- en Gezondheidsregio Gelderland-Mi...  \n",
              "2                            GGD Gooi en Vechtstreek  \n",
              "3                             GGD Rotterdam-Rijnmond  \n",
              "4                                GGD Gelderland-Zuid  "
            ],
            "text/html": "<div>\n<style scoped>\n    .dataframe tbody tr th:only-of-type {\n        vertical-align: middle;\n    }\n\n    .dataframe tbody tr th {\n        vertical-align: top;\n    }\n\n    .dataframe thead th {\n        text-align: right;\n    }\n</style>\n<table border=\"1\" class=\"dataframe\">\n  <thead>\n    <tr style=\"text-align: right;\">\n      <th></th>\n      <th>Date_file</th>\n      <th>Date_statistics</th>\n      <th>Date_statistics_type</th>\n      <th>Agegroup</th>\n      <th>Sex</th>\n      <th>Province</th>\n      <th>Hospital_admission</th>\n      <th>Deceased</th>\n      <th>Week_of_death</th>\n      <th>Municipal_health_service</th>\n    </tr>\n  </thead>\n  <tbody>\n    <tr>\n      <th>0</th>\n      <td>2021-01-04 10:00:00</td>\n      <td>2020-01-01</td>\n      <td>DOO</td>\n      <td>40-49</td>\n      <td>Female</td>\n      <td>Noord-Holland</td>\n      <td>No</td>\n      <td>No</td>\n      <td>NaN</td>\n      <td>GGD Amsterdam</td>\n    </tr>\n    <tr>\n      <th>1</th>\n      <td>2021-01-04 10:00:00</td>\n      <td>2020-01-01</td>\n      <td>DOO</td>\n      <td>50-59</td>\n      <td>Male</td>\n      <td>Gelderland</td>\n      <td>No</td>\n      <td>No</td>\n      <td>NaN</td>\n      <td>Veiligheids- en Gezondheidsregio Gelderland-Mi...</td>\n    </tr>\n    <tr>\n      <th>2</th>\n      <td>2021-01-04 10:00:00</td>\n      <td>2020-01-02</td>\n      <td>DOO</td>\n      <td>70-79</td>\n      <td>Female</td>\n      <td>Noord-Holland</td>\n      <td>No</td>\n      <td>No</td>\n      <td>NaN</td>\n      <td>GGD Gooi en Vechtstreek</td>\n    </tr>\n    <tr>\n      <th>3</th>\n      <td>2021-01-04 10:00:00</td>\n      <td>2020-01-16</td>\n      <td>DOO</td>\n      <td>0-9</td>\n      <td>Female</td>\n      <td>Zuid-Holland</td>\n      <td>No</td>\n      <td>No</td>\n      <td>NaN</td>\n      <td>GGD Rotterdam-Rijnmond</td>\n    </tr>\n    <tr>\n      <th>4</th>\n      <td>2021-01-04 10:00:00</td>\n      <td>2020-01-20</td>\n      <td>DOO</td>\n      <td>50-59</td>\n      <td>Female</td>\n      <td>Gelderland</td>\n      <td>No</td>\n      <td>No</td>\n      <td>NaN</td>\n      <td>GGD Gelderland-Zuid</td>\n    </tr>\n  </tbody>\n</table>\n</div>"
          },
          "metadata": {},
          "execution_count": 2
        }
      ]
    },
    {
      "cell_type": "markdown",
      "metadata": {
        "id": "deDxbl8SH_ek"
      },
      "source": [
        "Download de bevolkings cijfers van CBS, uitgesplitst op de leeftijds categorien in de dataset van het RIVM"
      ]
    },
    {
      "cell_type": "code",
      "metadata": {
        "colab": {
          "base_uri": "https://localhost:8080/",
          "height": 394
        },
        "id": "hSzBmmVC3eAX",
        "outputId": "fc940ba4-a260-47d7-e880-301b9f0d3a2b"
      },
      "source": [
        "# https://www.cbs.nl/nl-nl/onze-diensten/open-data/open-data-v4/snelstartgids-odata-v4\n",
        "def get_odata(target_url):\n",
        "  data = pd.DataFrame()\n",
        "  while target_url:\n",
        "    r = requests.get(target_url).json()\n",
        "    data = data.append(pd.DataFrame(r['value']))\n",
        "        \n",
        "    if '@odata.nextLink' in r:\n",
        "      target_url = r['@odata.nextLink']\n",
        "    else:\n",
        "      target_url = None          \n",
        "  return data\n",
        "\n",
        "def roundup(x):\n",
        "  return int(math.ceil(x / 10.0)) * 10\n",
        "def rounddown(x):\n",
        "  return int(math.floor(x / 10.0)) * 10\n",
        "\n",
        "cbs = 'https://opendata.cbs.nl/ODataApi/OData/83482NED'\n",
        "\n",
        "leeftijden = get_odata(cbs + \"/Leeftijd?$select=Key, Title&$filter=CategoryGroupID eq 3\")\n",
        "leeftijden.set_index('Key', inplace=True)\n",
        "# zet de Title om naar begin-eind paar\n",
        "leeftijden_range = leeftijden['Title'].replace(r'^(\\d+) tot (\\d+) jaar$', r'\\1-\\2', regex=True).replace(r'^(\\d+) jaar of ouder$', r'\\1-1000', regex=True)\n",
        "# splits die paren in van-tot\n",
        "leeftijden_range = leeftijden_range.str.split('-', expand=True).astype(int)\n",
        "# rond the \"van\" naar beneden op tientallen, \"tot\" naar boven op tientallen, en knip af naar \"90+\" om de ranges uit de covid tabel te matchen\n",
        "leeftijden_range[0] = leeftijden_range[0].apply(lambda x: rounddown(x)).apply(lambda x: str(x) if x < 90 else '90')\n",
        "leeftijden_range[1] = (leeftijden_range[1].apply(lambda x: roundup(x)) - 1).apply(lambda x: f'-{x}' if x < 90 else '+')\n",
        "# en plak ze aan elkaar\n",
        "leeftijden['Range'] = leeftijden_range[0] + leeftijden_range[1]\n",
        "del leeftijden['Title']\n",
        "\n",
        "def query(f):\n",
        "  if f == 'Leeftijd':\n",
        "    # alle leeftijds categerien zoals hierboven opgehaald\n",
        "    return '(' + ' or '.join([f\"{f} eq '{k}'\" for k in leeftijden.index.values]) + ')'\n",
        "  if f in ['Geslacht', 'Migratieachtergrond', 'Generatie']:\n",
        "    # pak hier de key die overeenkomt met \"totaal\"\n",
        "    ids = get_odata(cbs + '/' + f)\n",
        "    return f + \" eq '\" + ids[ids['Title'].str.contains(\"totaal\", na=False, case=False)]['Key'].values[0] + \"'\"\n",
        "  if f == 'Perioden':\n",
        "    # voor perioden pak de laatste\n",
        "    return f + \" eq '\" + get_odata(cbs + '/Perioden').iloc[[-1]]['Key'].values[0] + \"'\"\n",
        "  raise ValueError(f)\n",
        "# haal alle properties op waar op kan worden gefiltered en stel de query samen\n",
        "filter = get_odata(cbs + '/DataProperties')\n",
        "filter = ' and '.join([query(f) for f in filter[filter.Type != 'Topic']['Key'].values])\n",
        "\n",
        "bevolking = get_odata(cbs + f\"/TypedDataSet?$top=100&$filter={filter}&$select=Leeftijd, BevolkingOpDeEersteVanDeMaand_1\")\n",
        "# die _1 betekent waarschijnlijk dat het gedrag ooit gewijzigd is en er een nieuwe \"versie\" van die kolom is gepubliceerd\n",
        "bevolking.rename(columns = {'BevolkingOpDeEersteVanDeMaand_1': 'BevolkingOpDeEersteVanDeMaand'}, inplace = True)\n",
        "bevolking = bevolking.merge(leeftijden, left_on = 'Leeftijd', right_index = True)\n",
        "# optellen om de leeftijds categorien bij elkaar te vegen om de \"agegroups\" uit \"covid\" te matchen \n",
        "bevolking = bevolking.groupby('Range')['BevolkingOpDeEersteVanDeMaand'].sum().to_frame()\n",
        "bevolking['per 100k'] = 100000 / bevolking['BevolkingOpDeEersteVanDeMaand']\n",
        "bevolking"
      ],
      "execution_count": 3,
      "outputs": [
        {
          "output_type": "execute_result",
          "data": {
            "text/plain": [
              "       BevolkingOpDeEersteVanDeMaand  per 100k\n",
              "Range                                         \n",
              "0-9                          1760648  0.056797\n",
              "10-19                        1988987  0.050277\n",
              "20-29                        2238892  0.044665\n",
              "30-39                        2174964  0.045978\n",
              "40-49                        2172032  0.046040\n",
              "50-59                        2546244  0.039274\n",
              "60-69                        2138705  0.046757\n",
              "70-79                        1610080  0.062109\n",
              "80-89                         706450  0.141553\n",
              "90+                           132633  0.753960"
            ],
            "text/html": "<div>\n<style scoped>\n    .dataframe tbody tr th:only-of-type {\n        vertical-align: middle;\n    }\n\n    .dataframe tbody tr th {\n        vertical-align: top;\n    }\n\n    .dataframe thead th {\n        text-align: right;\n    }\n</style>\n<table border=\"1\" class=\"dataframe\">\n  <thead>\n    <tr style=\"text-align: right;\">\n      <th></th>\n      <th>BevolkingOpDeEersteVanDeMaand</th>\n      <th>per 100k</th>\n    </tr>\n    <tr>\n      <th>Range</th>\n      <th></th>\n      <th></th>\n    </tr>\n  </thead>\n  <tbody>\n    <tr>\n      <th>0-9</th>\n      <td>1760648</td>\n      <td>0.056797</td>\n    </tr>\n    <tr>\n      <th>10-19</th>\n      <td>1988987</td>\n      <td>0.050277</td>\n    </tr>\n    <tr>\n      <th>20-29</th>\n      <td>2238892</td>\n      <td>0.044665</td>\n    </tr>\n    <tr>\n      <th>30-39</th>\n      <td>2174964</td>\n      <td>0.045978</td>\n    </tr>\n    <tr>\n      <th>40-49</th>\n      <td>2172032</td>\n      <td>0.046040</td>\n    </tr>\n    <tr>\n      <th>50-59</th>\n      <td>2546244</td>\n      <td>0.039274</td>\n    </tr>\n    <tr>\n      <th>60-69</th>\n      <td>2138705</td>\n      <td>0.046757</td>\n    </tr>\n    <tr>\n      <th>70-79</th>\n      <td>1610080</td>\n      <td>0.062109</td>\n    </tr>\n    <tr>\n      <th>80-89</th>\n      <td>706450</td>\n      <td>0.141553</td>\n    </tr>\n    <tr>\n      <th>90+</th>\n      <td>132633</td>\n      <td>0.753960</td>\n    </tr>\n  </tbody>\n</table>\n</div>"
          },
          "metadata": {},
          "execution_count": 3
        }
      ]
    },
    {
      "cell_type": "markdown",
      "metadata": {
        "id": "MPRacZsjIKD5"
      },
      "source": [
        "Bereken de stand van zaken van besmettingen / hospitalisaties / overlijden, per cohort in absolute aantallen en aantallen per 100k, met een kleur indicator voor de aantallen."
      ]
    },
    {
      "cell_type": "code",
      "metadata": {
        "colab": {
          "base_uri": "https://localhost:8080/",
          "height": 409
        },
        "id": "NnwQYng5brr8",
        "outputId": "aa3bccb9-ee92-4155-af35-50fed451de93"
      },
      "source": [
        "# vervang <50 en Unknown door Onbekend\n",
        "covid['Cohort'] = covid['Agegroup'].replace({'<50': 'Onbekend', 'Unknown': 'Onbekend'})\n",
        "# aangenomen 'gemiddelde' leeftijd van een cohort: minimum waarde + 5\n",
        "assumed_cohort_age = [(cohort, [int(n) for n in cohort.replace('+', '').split('-')]) for cohort in covid['Cohort'].unique() if cohort[0].isdigit()]\n",
        "assumed_cohort_age = { cohort: min(rng) + 5 for cohort, rng in assumed_cohort_age }\n",
        "covid['~Leeftijd'] = covid['Cohort'].apply(lambda x: assumed_cohort_age.get(x, np.nan))\n",
        "\n",
        "# vervang Yes door 1, No/Unkown door 0 zodat een simpele sum ons straks het totaal geeft\n",
        "for col in ['Hospital_admission', 'Deceased']:\n",
        "  covid[col + '_int'] = covid[col].replace({'Yes': 1, 'No': 0, 'Unknown': np.nan})\n",
        "\n",
        "# verwijder tijd\n",
        "covid['Date_file_date'] = pd.to_datetime(covid['Date_file'].replace(r' .*', '', regex=True))\n",
        "\n",
        "covid['Date_statistics_date'] = pd.to_datetime(covid['Date_statistics'])\n",
        "\n",
        "# weken terug = verschil tussen Date_file en Date_statistcs, gedeeld door 7 dagen\n",
        "covid['Weken terug'] = np.floor((covid['Date_file_date'] - covid['Date_statistics_date'])/np.timedelta64(7, 'D')).astype(np.int)\n",
        "\n",
        "# voeg kleurnummer en totaal toe\n",
        "def color_and_total(df, prefix, total):\n",
        "  columns = list(bevolking.index) + ['Onbekend']\n",
        "  # insert missing cohorts\n",
        "  for col in columns:\n",
        "    if not col in df:\n",
        "      df[col] = np.nan\n",
        "  # make sure the columns are ordered according to the cohorts, so the rename is safe\n",
        "  df = df[columns]\n",
        "  # geef de kolom een prefix om ze uniek te houden\n",
        "  df.columns = [prefix + col for col in columns]\n",
        "\n",
        "  # sommeer over de cohorten om een totaal te krijgen \n",
        "  df[total] = df.sum(axis=1)\n",
        "\n",
        "  # voeg de kleur kolommen toe\n",
        "  for col in columns:\n",
        "    df[prefix + 'c' + col] = ((df[prefix + col] / df[[prefix + col for col in columns]].max(axis=1)) * 1000).fillna(0).astype(int)\n",
        "\n",
        "  # voeg de \"per honderdduizend\" kolommen toe\n",
        "  for col in columns:\n",
        "    per100k = bevolking.loc[col]['per 100k'] if col in bevolking.index else np.nan\n",
        "    df[prefix + '100k' + col] = df[prefix + col] * per100k\n",
        "  \n",
        "  # en daarvoor ook kleur kolommen\n",
        "  for col in columns:\n",
        "\n",
        "    df[prefix + '100k' + 'c' + col] = ((df[prefix + '100k' + col] / df[[prefix + '100k' + col for col in columns]].max(axis=1)) * 1000).fillna(0).astype(int)\n",
        "\n",
        "  # herschikken van de kolommen om totaal vooraan te krijgen\n",
        "  return df[[total] + [col for col in df if col != total]]\n",
        "\n",
        "# registraties is een count per cohort\n",
        "registraties = covid.groupby(['Weken terug', 'Cohort'])['Date_file_date'].count().unstack(fill_value=np.nan).reset_index().rename_axis(None, axis=1)\n",
        "registraties.set_index('Weken terug', inplace=True)\n",
        "registraties = color_and_total(registraties, 'r', 'Totaal registraties')\n",
        "\n",
        "# hospitalised is de som van 'Yes' voor Hospital_admission per cohort\n",
        "hospitalised = covid.groupby(['Weken terug', 'Cohort'])['Hospital_admission_int'].sum().unstack(fill_value=np.nan).reset_index().rename_axis(None, axis=1)\n",
        "hospitalised.set_index('Weken terug', inplace=True)\n",
        "hospitalised = color_and_total(hospitalised, 'h', 'Totaal hospitalised')\n",
        "\n",
        "# deceased is de som van 'Yes' voor Deceased per cohort\n",
        "deceased = covid.groupby(['Weken terug', 'Cohort'])['Deceased_int'].sum().unstack(fill_value=np.nan).reset_index().rename_axis(None, axis=1)\n",
        "deceased.set_index('Weken terug', inplace=True)\n",
        "deceased = color_and_total(deceased, 'd', 'Totaal deceased')\n",
        "\n",
        "# de totale tabel is keyed op 'Weken terug', en we berekenen hier direct de mean aangenomen leeftijd per weken-terug van de registraties\n",
        "stats = covid.groupby(['Weken terug'])['~Leeftijd'].mean().to_frame()\n",
        "# hernoemen kolom\n",
        "stats.columns = ['Gemiddelde leeftijd']\n",
        "\n",
        "# Datum is de Date_file\n",
        "stats['Datum'] = Date_file = covid['Date_file_date'].unique()[0]\n",
        "# terug naar een datetime\n",
        "Date_file = Date_file.astype('M8[D]').astype('O')\n",
        "# periode afgeleid van weken-terug (= de index voor deze dataframe)\n",
        "stats['Periode'] = stats.index.to_series().apply(lambda x: (Date_file + datetime.timedelta(weeks=-(x+1), days=1)).strftime('%d/%m') + ' - ' + (Date_file + datetime.timedelta(weeks=-x)).strftime('%d/%m'))\n",
        "# herschikken\n",
        "stats = stats[['Datum', 'Periode', 'Gemiddelde leeftijd']]\n",
        "# toevoegen van registraties, hospitalized en deceased \n",
        "stats = stats.join(registraties).join(hospitalised).join(deceased)\n",
        "#cm = sns.light_palette(\"green\", as_cmap=True)\n",
        "#registraties[[col for col in registraties.columns if col[0] == 'r' and col[1] != 'c' and not col.startswith('r100')]].style.background_gradient(cmap=cm, axis=1)\n",
        "stats.fillna(0).head()"
      ],
      "execution_count": 4,
      "outputs": [
        {
          "output_type": "execute_result",
          "data": {
            "text/plain": [
              "                 Datum        Periode  Gemiddelde leeftijd  \\\n",
              "Weken terug                                                  \n",
              "0           2021-01-04  29/12 - 04/01            45.435181   \n",
              "1           2021-01-04  22/12 - 28/12            44.984622   \n",
              "2           2021-01-04  15/12 - 21/12            43.886693   \n",
              "3           2021-01-04  08/12 - 14/12            42.615364   \n",
              "4           2021-01-04  01/12 - 07/12            41.813932   \n",
              "\n",
              "             Totaal registraties    r0-9   r10-19   r20-29   r30-39   r40-49  \\\n",
              "Weken terug                                                                    \n",
              "0                        27276.0   446.0   3125.0   4773.0   3570.0   3659.0   \n",
              "1                        57877.0   947.0   6953.0   9173.0   7676.0   8742.0   \n",
              "2                        76416.0  1168.0  10749.0  11645.0  10108.0  12160.0   \n",
              "3                        70456.0  1260.0  11869.0  10276.0   9290.0  11094.0   \n",
              "4                        50704.0   895.0   9277.0   7474.0   6661.0   7976.0   \n",
              "\n",
              "              r50-59  ...  d100kc10-19  d100kc20-29  d100kc30-39  d100kc40-49  \\\n",
              "Weken terug           ...                                                       \n",
              "0             4646.0  ...            0            0            0            0   \n",
              "1            10384.0  ...            0            0            0            0   \n",
              "2            13471.0  ...            0            0            0            0   \n",
              "3            11850.0  ...            0            0            0            0   \n",
              "4             8215.0  ...            0            0            0            0   \n",
              "\n",
              "             d100kc50-59  d100kc60-69  d100kc70-79  d100kc80-89  d100kc90+  \\\n",
              "Weken terug                                                                  \n",
              "0                     17           20          247          813       1000   \n",
              "1                      2           19           58          288       1000   \n",
              "2                      2           13           56          289       1000   \n",
              "3                      3            7           69          378       1000   \n",
              "4                      3           16           66          312       1000   \n",
              "\n",
              "             d100kcOnbekend  \n",
              "Weken terug                  \n",
              "0                         0  \n",
              "1                         0  \n",
              "2                         0  \n",
              "3                         0  \n",
              "4                         0  \n",
              "\n",
              "[5 rows x 138 columns]"
            ],
            "text/html": "<div>\n<style scoped>\n    .dataframe tbody tr th:only-of-type {\n        vertical-align: middle;\n    }\n\n    .dataframe tbody tr th {\n        vertical-align: top;\n    }\n\n    .dataframe thead th {\n        text-align: right;\n    }\n</style>\n<table border=\"1\" class=\"dataframe\">\n  <thead>\n    <tr style=\"text-align: right;\">\n      <th></th>\n      <th>Datum</th>\n      <th>Periode</th>\n      <th>Gemiddelde leeftijd</th>\n      <th>Totaal registraties</th>\n      <th>r0-9</th>\n      <th>r10-19</th>\n      <th>r20-29</th>\n      <th>r30-39</th>\n      <th>r40-49</th>\n      <th>r50-59</th>\n      <th>...</th>\n      <th>d100kc10-19</th>\n      <th>d100kc20-29</th>\n      <th>d100kc30-39</th>\n      <th>d100kc40-49</th>\n      <th>d100kc50-59</th>\n      <th>d100kc60-69</th>\n      <th>d100kc70-79</th>\n      <th>d100kc80-89</th>\n      <th>d100kc90+</th>\n      <th>d100kcOnbekend</th>\n    </tr>\n    <tr>\n      <th>Weken terug</th>\n      <th></th>\n      <th></th>\n      <th></th>\n      <th></th>\n      <th></th>\n      <th></th>\n      <th></th>\n      <th></th>\n      <th></th>\n      <th></th>\n      <th></th>\n      <th></th>\n      <th></th>\n      <th></th>\n      <th></th>\n      <th></th>\n      <th></th>\n      <th></th>\n      <th></th>\n      <th></th>\n      <th></th>\n    </tr>\n  </thead>\n  <tbody>\n    <tr>\n      <th>0</th>\n      <td>2021-01-04</td>\n      <td>29/12 - 04/01</td>\n      <td>45.435181</td>\n      <td>27276.0</td>\n      <td>446.0</td>\n      <td>3125.0</td>\n      <td>4773.0</td>\n      <td>3570.0</td>\n      <td>3659.0</td>\n      <td>4646.0</td>\n      <td>...</td>\n      <td>0</td>\n      <td>0</td>\n      <td>0</td>\n      <td>0</td>\n      <td>17</td>\n      <td>20</td>\n      <td>247</td>\n      <td>813</td>\n      <td>1000</td>\n      <td>0</td>\n    </tr>\n    <tr>\n      <th>1</th>\n      <td>2021-01-04</td>\n      <td>22/12 - 28/12</td>\n      <td>44.984622</td>\n      <td>57877.0</td>\n      <td>947.0</td>\n      <td>6953.0</td>\n      <td>9173.0</td>\n      <td>7676.0</td>\n      <td>8742.0</td>\n      <td>10384.0</td>\n      <td>...</td>\n      <td>0</td>\n      <td>0</td>\n      <td>0</td>\n      <td>0</td>\n      <td>2</td>\n      <td>19</td>\n      <td>58</td>\n      <td>288</td>\n      <td>1000</td>\n      <td>0</td>\n    </tr>\n    <tr>\n      <th>2</th>\n      <td>2021-01-04</td>\n      <td>15/12 - 21/12</td>\n      <td>43.886693</td>\n      <td>76416.0</td>\n      <td>1168.0</td>\n      <td>10749.0</td>\n      <td>11645.0</td>\n      <td>10108.0</td>\n      <td>12160.0</td>\n      <td>13471.0</td>\n      <td>...</td>\n      <td>0</td>\n      <td>0</td>\n      <td>0</td>\n      <td>0</td>\n      <td>2</td>\n      <td>13</td>\n      <td>56</td>\n      <td>289</td>\n      <td>1000</td>\n      <td>0</td>\n    </tr>\n    <tr>\n      <th>3</th>\n      <td>2021-01-04</td>\n      <td>08/12 - 14/12</td>\n      <td>42.615364</td>\n      <td>70456.0</td>\n      <td>1260.0</td>\n      <td>11869.0</td>\n      <td>10276.0</td>\n      <td>9290.0</td>\n      <td>11094.0</td>\n      <td>11850.0</td>\n      <td>...</td>\n      <td>0</td>\n      <td>0</td>\n      <td>0</td>\n      <td>0</td>\n      <td>3</td>\n      <td>7</td>\n      <td>69</td>\n      <td>378</td>\n      <td>1000</td>\n      <td>0</td>\n    </tr>\n    <tr>\n      <th>4</th>\n      <td>2021-01-04</td>\n      <td>01/12 - 07/12</td>\n      <td>41.813932</td>\n      <td>50704.0</td>\n      <td>895.0</td>\n      <td>9277.0</td>\n      <td>7474.0</td>\n      <td>6661.0</td>\n      <td>7976.0</td>\n      <td>8215.0</td>\n      <td>...</td>\n      <td>0</td>\n      <td>0</td>\n      <td>0</td>\n      <td>0</td>\n      <td>3</td>\n      <td>16</td>\n      <td>66</td>\n      <td>312</td>\n      <td>1000</td>\n      <td>0</td>\n    </tr>\n  </tbody>\n</table>\n<p>5 rows × 138 columns</p>\n</div>"
          },
          "metadata": {},
          "execution_count": 4
        }
      ]
    },
    {
      "cell_type": "markdown",
      "metadata": {
        "id": "MALqmTgEIiJI"
      },
      "source": [
        "Publiceer de berekende statistieken indien we op github draaien\n"
      ]
    },
    {
      "cell_type": "code",
      "metadata": {
        "id": "M5M7Di_U2e-_"
      },
      "source": [
        "# publish\n",
        "if 'GITHUB_TOKEN' in os.environ:\n",
        "  print('Publishing to', os.environ['GITHUB_REPOSITORY'])\n",
        "  today = datetime.date.today().strftime('%Y-%m-%d') + '.csv'\n",
        "  latest = 'covid.csv'\n",
        "  stats.fillna(0).to_csv(latest)\n",
        "\n",
        "  import github3 as github\n",
        "  gh = github.GitHub(token=os.environ['GITHUB_TOKEN'], session=github.session.GitHubSession(default_read_timeout=60))\n",
        "  repo = gh.repository(*os.environ['GITHUB_REPOSITORY'].split('/'))\n",
        "  release = repo.release_from_tag('covid')\n",
        "  assets = { asset.name: asset for asset in release.assets() }\n",
        "\n",
        "  # remove existing\n",
        "  for asset in [today, latest]:\n",
        "    if asset in assets:\n",
        "      assets[asset].delete()\n",
        "    with open(latest) as f:\n",
        "      release.upload_asset(asset=f, name=asset, content_type='text/csv')"
      ],
      "execution_count": 5,
      "outputs": []
    },
    {
      "cell_type": "markdown",
      "metadata": {
        "id": "kB2mi5bAj2se"
      },
      "source": [
        "# Bart's speeltuin"
      ]
    },
    {
      "cell_type": "code",
      "metadata": {
        "id": "VxRg6q9Uj3cU",
        "colab": {
          "base_uri": "https://localhost:8080/"
        },
        "outputId": "b8b5eee3-3295-4ff5-8a65-d5edfac2d697"
      },
      "source": [
        "# speeltuin\n",
        "!jupyter --version"
      ],
      "execution_count": 23,
      "outputs": [
        {
          "output_type": "stream",
          "text": [
            "jupyter core     : 4.5.0\n",
            "jupyter-notebook : 5.2.2\n",
            "qtconsole        : 4.5.2\n",
            "ipython          : 5.5.0\n",
            "ipykernel        : 4.10.1\n",
            "jupyter client   : 5.3.1\n",
            "jupyter lab      : not installed\n",
            "nbconvert        : 5.5.0\n",
            "ipywidgets       : 7.5.0\n",
            "nbformat         : 4.4.0\n",
            "traitlets        : 4.3.2\n"
          ],
          "name": "stdout"
        }
      ]
    }
  ]
}