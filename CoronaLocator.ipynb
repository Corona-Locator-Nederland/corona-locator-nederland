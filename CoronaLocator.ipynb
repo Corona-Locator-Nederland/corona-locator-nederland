{
  "nbformat": 4,
  "nbformat_minor": 0,
  "metadata": {
    "colab": {
      "name": "Corona locator.ipynb",
      "provenance": [],
      "collapsed_sections": [],
      "authorship_tag": "ABX9TyOTwhcdXxP5ZW3iLbyC7blt",
      "include_colab_link": true
    },
    "kernelspec": {
      "name": "python3",
      "display_name": "Python 3",
      "language": "python"
    }
  },
  "cells": [
    {
      "cell_type": "markdown",
      "metadata": {
        "id": "view-in-github",
        "colab_type": "text"
      },
      "source": [
        "<a href=\"https://colab.research.google.com/github/Corona-Locator-Nederland/corona-locator-nederland/blob/main/Corona_locator.ipynb\" target=\"_parent\"><img src=\"https://colab.research.google.com/assets/colab-badge.svg\" alt=\"Open In Colab\"/></a>"
      ]
    },
    {
      "cell_type": "code",
      "metadata": {
        "id": "6CSRx5bUZi8x"
      },
      "source": [
        "from urllib.request import urlopen\n",
        "from urllib.request import urlretrieve\n",
        "import pandas as pd\n",
        "import numpy as np\n",
        "import json\n",
        "import datetime\n",
        "import requests\n",
        "import json\n",
        "import math\n",
        "import os\n",
        "import seaborn as sns\n",
        "import glob\n",
        "from dateutil.parser import parse as parsedate\n",
        "\n",
        "from dotenv import load_dotenv, find_dotenv\n",
        "try:\n",
        "  load_dotenv(find_dotenv())\n",
        "except IOError:\n",
        "  load_dotenv(find_dotenv(filename='dot.env'))\n"
      ],
      "execution_count": 2,
      "outputs": []
    },
    {
      "cell_type": "markdown",
      "metadata": {
        "id": "tsZ-IFqjHxup"
      },
      "source": [
        "Download de RIVM data als die nieuwer is dan wat we al hebben (gecached want de download van RIVM is *zeer* traag)"
      ]
    },
    {
      "cell_type": "code",
      "metadata": {
        "colab": {
          "base_uri": "https://localhost:8080/",
          "height": 224
        },
        "id": "Jrbpq3dI9Jd4",
        "outputId": "81c780b9-7ea5-44de-d656-413a69eb752d"
      },
      "source": [
        "os.makedirs('downloads', exist_ok = True)\n",
        "\n",
        "rivm = requests.head('https://data.rivm.nl/covid-19/COVID-19_casus_landelijk.csv')\n",
        "latest = os.path.join('downloads', parsedate(rivm.headers['last-modified']).strftime('%Y-%m-%d@%H-%M.csv'))\n",
        "if not os.path.exists(latest):\n",
        "  print('downloading', latest)\n",
        "  for f in glob.glob('downloads/*.csv'):\n",
        "    if f != latest:\n",
        "      os.remove(f)\n",
        "  urlretrieve('https://data.rivm.nl/covid-19/COVID-19_casus_landelijk.csv', latest)\n",
        "else:\n",
        "  print(latest, 'exists')\n",
        "covid = pd.read_csv(latest, sep=';', header=0 )\n",
        "covid.head()"
      ],
      "execution_count": 3,
      "outputs": [
        {
          "output_type": "stream",
          "name": "stdout",
          "text": [
            "downloads/2021-01-05@14-15.csv exists\n"
          ]
        },
        {
          "output_type": "execute_result",
          "data": {
            "text/plain": [
              "             Date_file Date_statistics Date_statistics_type Agegroup     Sex  \\\n",
              "0  2021-01-05 10:00:00      2020-01-01                  DOO    40-49  Female   \n",
              "1  2021-01-05 10:00:00      2020-01-01                  DOO    50-59    Male   \n",
              "2  2021-01-05 10:00:00      2020-01-02                  DOO    70-79  Female   \n",
              "3  2021-01-05 10:00:00      2020-01-16                  DOO      0-9  Female   \n",
              "4  2021-01-05 10:00:00      2020-01-20                  DOO    50-59  Female   \n",
              "\n",
              "        Province Hospital_admission Deceased  Week_of_death  \\\n",
              "0  Noord-Holland                 No       No            NaN   \n",
              "1     Gelderland                 No       No            NaN   \n",
              "2  Noord-Holland                 No       No            NaN   \n",
              "3   Zuid-Holland                 No       No            NaN   \n",
              "4     Gelderland                 No       No            NaN   \n",
              "\n",
              "                            Municipal_health_service  \n",
              "0                                      GGD Amsterdam  \n",
              "1  Veiligheids- en Gezondheidsregio Gelderland-Mi...  \n",
              "2                            GGD Gooi en Vechtstreek  \n",
              "3                             GGD Rotterdam-Rijnmond  \n",
              "4                                GGD Gelderland-Zuid  "
            ],
            "text/html": "<div>\n<style scoped>\n    .dataframe tbody tr th:only-of-type {\n        vertical-align: middle;\n    }\n\n    .dataframe tbody tr th {\n        vertical-align: top;\n    }\n\n    .dataframe thead th {\n        text-align: right;\n    }\n</style>\n<table border=\"1\" class=\"dataframe\">\n  <thead>\n    <tr style=\"text-align: right;\">\n      <th></th>\n      <th>Date_file</th>\n      <th>Date_statistics</th>\n      <th>Date_statistics_type</th>\n      <th>Agegroup</th>\n      <th>Sex</th>\n      <th>Province</th>\n      <th>Hospital_admission</th>\n      <th>Deceased</th>\n      <th>Week_of_death</th>\n      <th>Municipal_health_service</th>\n    </tr>\n  </thead>\n  <tbody>\n    <tr>\n      <th>0</th>\n      <td>2021-01-05 10:00:00</td>\n      <td>2020-01-01</td>\n      <td>DOO</td>\n      <td>40-49</td>\n      <td>Female</td>\n      <td>Noord-Holland</td>\n      <td>No</td>\n      <td>No</td>\n      <td>NaN</td>\n      <td>GGD Amsterdam</td>\n    </tr>\n    <tr>\n      <th>1</th>\n      <td>2021-01-05 10:00:00</td>\n      <td>2020-01-01</td>\n      <td>DOO</td>\n      <td>50-59</td>\n      <td>Male</td>\n      <td>Gelderland</td>\n      <td>No</td>\n      <td>No</td>\n      <td>NaN</td>\n      <td>Veiligheids- en Gezondheidsregio Gelderland-Mi...</td>\n    </tr>\n    <tr>\n      <th>2</th>\n      <td>2021-01-05 10:00:00</td>\n      <td>2020-01-02</td>\n      <td>DOO</td>\n      <td>70-79</td>\n      <td>Female</td>\n      <td>Noord-Holland</td>\n      <td>No</td>\n      <td>No</td>\n      <td>NaN</td>\n      <td>GGD Gooi en Vechtstreek</td>\n    </tr>\n    <tr>\n      <th>3</th>\n      <td>2021-01-05 10:00:00</td>\n      <td>2020-01-16</td>\n      <td>DOO</td>\n      <td>0-9</td>\n      <td>Female</td>\n      <td>Zuid-Holland</td>\n      <td>No</td>\n      <td>No</td>\n      <td>NaN</td>\n      <td>GGD Rotterdam-Rijnmond</td>\n    </tr>\n    <tr>\n      <th>4</th>\n      <td>2021-01-05 10:00:00</td>\n      <td>2020-01-20</td>\n      <td>DOO</td>\n      <td>50-59</td>\n      <td>Female</td>\n      <td>Gelderland</td>\n      <td>No</td>\n      <td>No</td>\n      <td>NaN</td>\n      <td>GGD Gelderland-Zuid</td>\n    </tr>\n  </tbody>\n</table>\n</div>"
          },
          "metadata": {},
          "execution_count": 3
        }
      ]
    },
    {
      "cell_type": "markdown",
      "metadata": {
        "id": "deDxbl8SH_ek"
      },
      "source": [
        "Download de bevolkings cijfers van CBS, uitgesplitst op de leeftijds categorien in de dataset van het RIVM"
      ]
    },
    {
      "cell_type": "code",
      "metadata": {
        "colab": {
          "base_uri": "https://localhost:8080/",
          "height": 394
        },
        "id": "hSzBmmVC3eAX",
        "outputId": "fc940ba4-a260-47d7-e880-301b9f0d3a2b"
      },
      "source": [
        "# https://www.cbs.nl/nl-nl/onze-diensten/open-data/open-data-v4/snelstartgids-odata-v4\n",
        "def get_odata(target_url):\n",
        "  data = pd.DataFrame()\n",
        "  while target_url:\n",
        "    r = requests.get(target_url).json()\n",
        "    data = data.append(pd.DataFrame(r['value']))\n",
        "        \n",
        "    if '@odata.nextLink' in r:\n",
        "      target_url = r['@odata.nextLink']\n",
        "    else:\n",
        "      target_url = None          \n",
        "  return data\n",
        "\n",
        "def roundup(x):\n",
        "  return int(math.ceil(x / 10.0)) * 10\n",
        "def rounddown(x):\n",
        "  return int(math.floor(x / 10.0)) * 10\n",
        "\n",
        "cbs = 'https://opendata.cbs.nl/ODataApi/OData/83482NED'\n",
        "\n",
        "leeftijden = get_odata(cbs + \"/Leeftijd?$select=Key, Title&$filter=CategoryGroupID eq 3\")\n",
        "leeftijden.set_index('Key', inplace=True)\n",
        "# zet de Title om naar begin-eind paar\n",
        "leeftijden_range = leeftijden['Title'].replace(r'^(\\d+) tot (\\d+) jaar$', r'\\1-\\2', regex=True).replace(r'^(\\d+) jaar of ouder$', r'\\1-1000', regex=True)\n",
        "# splits die paren in van-tot\n",
        "leeftijden_range = leeftijden_range.str.split('-', expand=True).astype(int)\n",
        "# rond the \"van\" naar beneden op tientallen, \"tot\" naar boven op tientallen, en knip af naar \"90+\" om de ranges uit de covid tabel te matchen\n",
        "leeftijden_range[0] = leeftijden_range[0].apply(lambda x: rounddown(x)).apply(lambda x: str(x) if x < 90 else '90')\n",
        "leeftijden_range[1] = (leeftijden_range[1].apply(lambda x: roundup(x)) - 1).apply(lambda x: f'-{x}' if x < 90 else '+')\n",
        "# en plak ze aan elkaar\n",
        "leeftijden['Range'] = leeftijden_range[0] + leeftijden_range[1]\n",
        "del leeftijden['Title']\n",
        "\n",
        "def query(f):\n",
        "  if f == 'Leeftijd':\n",
        "    # alle leeftijds categerien zoals hierboven opgehaald\n",
        "    return '(' + ' or '.join([f\"{f} eq '{k}'\" for k in leeftijden.index.values]) + ')'\n",
        "  if f in ['Geslacht', 'Migratieachtergrond', 'Generatie']:\n",
        "    # pak hier de key die overeenkomt met \"totaal\"\n",
        "    ids = get_odata(cbs + '/' + f)\n",
        "    return f + \" eq '\" + ids[ids['Title'].str.contains(\"totaal\", na=False, case=False)]['Key'].values[0] + \"'\"\n",
        "  if f == 'Perioden':\n",
        "    # voor perioden pak de laatste\n",
        "    return f + \" eq '\" + get_odata(cbs + '/Perioden').iloc[[-1]]['Key'].values[0] + \"'\"\n",
        "  raise ValueError(f)\n",
        "# haal alle properties op waar op kan worden gefiltered en stel de query samen\n",
        "filter = get_odata(cbs + '/DataProperties')\n",
        "filter = ' and '.join([query(f) for f in filter[filter.Type != 'Topic']['Key'].values])\n",
        "\n",
        "bevolking = get_odata(cbs + f\"/TypedDataSet?$top=100&$filter={filter}&$select=Leeftijd, BevolkingOpDeEersteVanDeMaand_1\")\n",
        "# die _1 betekent waarschijnlijk dat het gedrag ooit gewijzigd is en er een nieuwe \"versie\" van die kolom is gepubliceerd\n",
        "bevolking.rename(columns = {'BevolkingOpDeEersteVanDeMaand_1': 'BevolkingOpDeEersteVanDeMaand'}, inplace = True)\n",
        "bevolking = bevolking.merge(leeftijden, left_on = 'Leeftijd', right_index = True)\n",
        "# optellen om de leeftijds categorien bij elkaar te vegen om de \"agegroups\" uit \"covid\" te matchen \n",
        "bevolking = bevolking.groupby('Range')['BevolkingOpDeEersteVanDeMaand'].sum().to_frame()\n",
        "bevolking['per 100k'] = 100000 / bevolking['BevolkingOpDeEersteVanDeMaand']\n",
        "bevolking"
      ],
      "execution_count": 4,
      "outputs": [
        {
          "output_type": "execute_result",
          "data": {
            "text/plain": [
              "       BevolkingOpDeEersteVanDeMaand  per 100k\n",
              "Range                                         \n",
              "0-9                          1759195  0.056844\n",
              "10-19                        1987617  0.050312\n",
              "20-29                        2240262  0.044638\n",
              "30-39                        2178284  0.045908\n",
              "40-49                        2169549  0.046093\n",
              "50-59                        2547659  0.039252\n",
              "60-69                        2139971  0.046730\n",
              "70-79                        1613006  0.061996\n",
              "80-89                         706728  0.141497\n",
              "90+                           132406  0.755253"
            ],
            "text/html": "<div>\n<style scoped>\n    .dataframe tbody tr th:only-of-type {\n        vertical-align: middle;\n    }\n\n    .dataframe tbody tr th {\n        vertical-align: top;\n    }\n\n    .dataframe thead th {\n        text-align: right;\n    }\n</style>\n<table border=\"1\" class=\"dataframe\">\n  <thead>\n    <tr style=\"text-align: right;\">\n      <th></th>\n      <th>BevolkingOpDeEersteVanDeMaand</th>\n      <th>per 100k</th>\n    </tr>\n    <tr>\n      <th>Range</th>\n      <th></th>\n      <th></th>\n    </tr>\n  </thead>\n  <tbody>\n    <tr>\n      <th>0-9</th>\n      <td>1759195</td>\n      <td>0.056844</td>\n    </tr>\n    <tr>\n      <th>10-19</th>\n      <td>1987617</td>\n      <td>0.050312</td>\n    </tr>\n    <tr>\n      <th>20-29</th>\n      <td>2240262</td>\n      <td>0.044638</td>\n    </tr>\n    <tr>\n      <th>30-39</th>\n      <td>2178284</td>\n      <td>0.045908</td>\n    </tr>\n    <tr>\n      <th>40-49</th>\n      <td>2169549</td>\n      <td>0.046093</td>\n    </tr>\n    <tr>\n      <th>50-59</th>\n      <td>2547659</td>\n      <td>0.039252</td>\n    </tr>\n    <tr>\n      <th>60-69</th>\n      <td>2139971</td>\n      <td>0.046730</td>\n    </tr>\n    <tr>\n      <th>70-79</th>\n      <td>1613006</td>\n      <td>0.061996</td>\n    </tr>\n    <tr>\n      <th>80-89</th>\n      <td>706728</td>\n      <td>0.141497</td>\n    </tr>\n    <tr>\n      <th>90+</th>\n      <td>132406</td>\n      <td>0.755253</td>\n    </tr>\n  </tbody>\n</table>\n</div>"
          },
          "metadata": {},
          "execution_count": 4
        }
      ]
    },
    {
      "cell_type": "markdown",
      "metadata": {
        "id": "MPRacZsjIKD5"
      },
      "source": [
        "Bereken de stand van zaken van besmettingen / hospitalisaties / overlijden, per cohort in absolute aantallen en aantallen per 100k, met een kleur indicator voor de aantallen."
      ]
    },
    {
      "cell_type": "code",
      "metadata": {
        "colab": {
          "base_uri": "https://localhost:8080/",
          "height": 409
        },
        "id": "NnwQYng5brr8",
        "outputId": "aa3bccb9-ee92-4155-af35-50fed451de93"
      },
      "source": [
        "# vervang <50 en Unknown door Onbekend\n",
        "covid['Cohort'] = covid['Agegroup'].replace({'<50': 'Onbekend', 'Unknown': 'Onbekend'})\n",
        "# aangenomen 'gemiddelde' leeftijd van een cohort: minimum waarde + 5\n",
        "assumed_cohort_age = [(cohort, [int(n) for n in cohort.replace('+', '').split('-')]) for cohort in covid['Cohort'].unique() if cohort[0].isdigit()]\n",
        "assumed_cohort_age = { cohort: min(rng) + 5 for cohort, rng in assumed_cohort_age }\n",
        "covid['Gemiddelde leeftijd'] = covid['Cohort'].apply(lambda x: assumed_cohort_age.get(x, np.nan))\n",
        "\n",
        "# verwijder tijd\n",
        "covid['Date_file_date'] = pd.to_datetime(covid['Date_file'].replace(r' .*', '', regex=True))\n",
        "\n",
        "covid['Date_statistics_date'] = pd.to_datetime(covid['Date_statistics'])\n",
        "\n",
        "# weken terug = verschil tussen Date_file en Date_statistcs, gedeeld door 7 dagen\n",
        "covid['Weken terug'] = np.floor((covid['Date_file_date'] - covid['Date_statistics_date'])/np.timedelta64(7, 'D')).astype(np.int)\n",
        "\n",
        "# voeg key, gem leeftijd, kleurnummer en totaal toe\n",
        "Date_file = covid['Date_file_date'].unique()[0].astype('M8[D]').astype('O')\n",
        "cohorten = list(bevolking.index) + ['Onbekend']\n",
        "def summarize(df, category, prefix):\n",
        "  # doesn't matter what we count as long as it's guaranteed to be filled\n",
        "  df = (df.copy(deep=True)\n",
        "        .groupby(['Weken terug', 'Cohort'])['Date_file_date']\n",
        "        .count()\n",
        "        .unstack(fill_value=np.nan)\n",
        "        .reset_index()\n",
        "        .rename_axis(None, axis=1)\n",
        "      ).merge(df.copy(deep=True) # voeg hier gemiddelde leeftijd toe, want die willen we op een ander niveau aggregeren voor 'df' overschreven word\n",
        "        .groupby(['Weken terug'])['Gemiddelde leeftijd']\n",
        "        .mean()\n",
        "        .to_frame(), on='Weken terug'\n",
        "      )\n",
        "\n",
        "  # altijd 52 rijen\n",
        "  df = pd.Series(np.arange(52), name='Weken terug').to_frame().merge(df.copy(deep=True), how='left', on='Weken terug')\n",
        "\n",
        "  # insert missing cohorts\n",
        "  for col in cohorten:\n",
        "    if not col in df:\n",
        "      df[col] = np.nan\n",
        "\n",
        "  # sommeer over de cohorten om een totaal te krijgen \n",
        "  df['Totaal'] = df[cohorten].sum(axis=1)\n",
        "\n",
        "  # voeg periode en datum toe\n",
        "  # periode afgeleid van weken-terug (= de index voor deze dataframe)\n",
        "  df['Datum'] = Date_file\n",
        "  df['Periode'] = (df\n",
        "    .index.to_series()\n",
        "    .apply(\n",
        "      lambda x: (Date_file + datetime.timedelta(weeks=-(x+1), days=1)).strftime('%d/%m') + ' - ' + (Date_file + datetime.timedelta(weeks=-x)).strftime('%d/%m')\n",
        "    )\n",
        "  )\n",
        "\n",
        "  # voeg 'Key' en 'Type' kolom toe\n",
        "  df['Key'] = prefix + df.index.astype(str).str.rjust(3, fillchar='0')\n",
        "  df['Type'] = category\n",
        "\n",
        "  # voeg de kleur kolommen toe\n",
        "  for col in cohorten:\n",
        "    df['c' + col] = ((df[col] / df[[col for col in cohorten]].max(axis=1)) * 1000).fillna(0).astype(int)\n",
        "\n",
        "  # herschikken van de kolommen om totaal vooraan te krijgen\n",
        "  colorder = ['Key', 'Weken terug', 'Datum', 'Periode', 'Gemiddelde leeftijd', 'Totaal', 'Type']\n",
        "  return df[colorder + [col for col in df if col not in colorder]]\n",
        "\n",
        "def per100k(df):\n",
        "  df = df.copy(deep=True)\n",
        "  for col in cohorten:\n",
        "    if col in df:\n",
        "      factor = bevolking.loc[col]['per 100k'] if col in bevolking.index else np.nan\n",
        "      df[col] = df[col] * factor\n",
        "  return df\n",
        "\n",
        "subsets = [\n",
        "  (covid, 'Positief getest', 'p'), # volledige count per cohort\n",
        "  (covid[covid.Hospital_admission == 'Yes'], 'Ziekenhuisopname', 'h'), # count van cohort voor Hospital_admission == 'Yes'\n",
        "  (covid[covid.Deceased == 'Yes'], 'Overleden', 'd'), # count van cohort voor Deceased == 'Yes'\n",
        "]\n",
        "rivm = None\n",
        "for dataset, category, prefix in subsets:\n",
        "  if rivm is None:\n",
        "    rivm = summarize(dataset, category, prefix)\n",
        "  else:\n",
        "    rivm = pd.concat([rivm, summarize(dataset, category, prefix)])\n",
        "  rivm = pd.concat([rivm, summarize(per100k(dataset), category + ' per 100.000', prefix + '100k')])\n",
        "\n",
        "#cm = sns.light_palette(\"green\", as_cmap=True)\n",
        "#postest[[col for col in postest.columns if col[0] == 'r' and col[1] != 'c' and not col.startswith('r100')]].style.background_gradient(cmap=cm, axis=1)\n",
        "rivm.fillna(0).head()\n"
      ],
      "execution_count": 81,
      "outputs": [
        {
          "output_type": "execute_result",
          "data": {
            "text/plain": [
              "    Key  Weken terug       Datum        Periode  Gemiddelde leeftijd   Totaal  \\\n",
              "0  p000            0  2021-01-05  30/12 - 05/01            44.804839  25005.0   \n",
              "1  p001            1  2021-01-05  23/12 - 29/12            45.158832  56162.0   \n",
              "2  p002            2  2021-01-05  16/12 - 22/12            44.199673  74535.0   \n",
              "3  p003            3  2021-01-05  09/12 - 15/12            42.723033  73011.0   \n",
              "4  p004            4  2021-01-05  02/12 - 08/12            41.774415  53799.0   \n",
              "\n",
              "              Type     0-9    10-19    20-29  ...  c10-19  c20-29  c30-39  \\\n",
              "0  Positief getest   434.0   2977.0   4453.0  ...     668    1000     741   \n",
              "1  Positief getest   863.0   6586.0   9077.0  ...     657     905     743   \n",
              "2  Positief getest  1154.0  10125.0  11333.0  ...     764     855     745   \n",
              "3  Positief getest  1291.0  12084.0  10719.0  ...     976     866     779   \n",
              "4  Positief getest   982.0   9920.0   7850.0  ...    1000     791     708   \n",
              "\n",
              "   c40-49  c50-59  c60-69  c70-79  c80-89  c90+  cOnbekend  \n",
              "0     757     959     596     403     284   105          0  \n",
              "1     833    1000     617     403     268    87          0  \n",
              "2     889    1000     606     362     234    81          0  \n",
              "3     927    1000     593     354     220    76          0  \n",
              "4     854     880     527     312     185    64          0  \n",
              "\n",
              "[5 rows x 29 columns]"
            ],
            "text/html": "<div>\n<style scoped>\n    .dataframe tbody tr th:only-of-type {\n        vertical-align: middle;\n    }\n\n    .dataframe tbody tr th {\n        vertical-align: top;\n    }\n\n    .dataframe thead th {\n        text-align: right;\n    }\n</style>\n<table border=\"1\" class=\"dataframe\">\n  <thead>\n    <tr style=\"text-align: right;\">\n      <th></th>\n      <th>Key</th>\n      <th>Weken terug</th>\n      <th>Datum</th>\n      <th>Periode</th>\n      <th>Gemiddelde leeftijd</th>\n      <th>Totaal</th>\n      <th>Type</th>\n      <th>0-9</th>\n      <th>10-19</th>\n      <th>20-29</th>\n      <th>...</th>\n      <th>c10-19</th>\n      <th>c20-29</th>\n      <th>c30-39</th>\n      <th>c40-49</th>\n      <th>c50-59</th>\n      <th>c60-69</th>\n      <th>c70-79</th>\n      <th>c80-89</th>\n      <th>c90+</th>\n      <th>cOnbekend</th>\n    </tr>\n  </thead>\n  <tbody>\n    <tr>\n      <th>0</th>\n      <td>p000</td>\n      <td>0</td>\n      <td>2021-01-05</td>\n      <td>30/12 - 05/01</td>\n      <td>44.804839</td>\n      <td>25005.0</td>\n      <td>Positief getest</td>\n      <td>434.0</td>\n      <td>2977.0</td>\n      <td>4453.0</td>\n      <td>...</td>\n      <td>668</td>\n      <td>1000</td>\n      <td>741</td>\n      <td>757</td>\n      <td>959</td>\n      <td>596</td>\n      <td>403</td>\n      <td>284</td>\n      <td>105</td>\n      <td>0</td>\n    </tr>\n    <tr>\n      <th>1</th>\n      <td>p001</td>\n      <td>1</td>\n      <td>2021-01-05</td>\n      <td>23/12 - 29/12</td>\n      <td>45.158832</td>\n      <td>56162.0</td>\n      <td>Positief getest</td>\n      <td>863.0</td>\n      <td>6586.0</td>\n      <td>9077.0</td>\n      <td>...</td>\n      <td>657</td>\n      <td>905</td>\n      <td>743</td>\n      <td>833</td>\n      <td>1000</td>\n      <td>617</td>\n      <td>403</td>\n      <td>268</td>\n      <td>87</td>\n      <td>0</td>\n    </tr>\n    <tr>\n      <th>2</th>\n      <td>p002</td>\n      <td>2</td>\n      <td>2021-01-05</td>\n      <td>16/12 - 22/12</td>\n      <td>44.199673</td>\n      <td>74535.0</td>\n      <td>Positief getest</td>\n      <td>1154.0</td>\n      <td>10125.0</td>\n      <td>11333.0</td>\n      <td>...</td>\n      <td>764</td>\n      <td>855</td>\n      <td>745</td>\n      <td>889</td>\n      <td>1000</td>\n      <td>606</td>\n      <td>362</td>\n      <td>234</td>\n      <td>81</td>\n      <td>0</td>\n    </tr>\n    <tr>\n      <th>3</th>\n      <td>p003</td>\n      <td>3</td>\n      <td>2021-01-05</td>\n      <td>09/12 - 15/12</td>\n      <td>42.723033</td>\n      <td>73011.0</td>\n      <td>Positief getest</td>\n      <td>1291.0</td>\n      <td>12084.0</td>\n      <td>10719.0</td>\n      <td>...</td>\n      <td>976</td>\n      <td>866</td>\n      <td>779</td>\n      <td>927</td>\n      <td>1000</td>\n      <td>593</td>\n      <td>354</td>\n      <td>220</td>\n      <td>76</td>\n      <td>0</td>\n    </tr>\n    <tr>\n      <th>4</th>\n      <td>p004</td>\n      <td>4</td>\n      <td>2021-01-05</td>\n      <td>02/12 - 08/12</td>\n      <td>41.774415</td>\n      <td>53799.0</td>\n      <td>Positief getest</td>\n      <td>982.0</td>\n      <td>9920.0</td>\n      <td>7850.0</td>\n      <td>...</td>\n      <td>1000</td>\n      <td>791</td>\n      <td>708</td>\n      <td>854</td>\n      <td>880</td>\n      <td>527</td>\n      <td>312</td>\n      <td>185</td>\n      <td>64</td>\n      <td>0</td>\n    </tr>\n  </tbody>\n</table>\n<p>5 rows × 29 columns</p>\n</div>"
          },
          "metadata": {},
          "execution_count": 81
        }
      ]
    },
    {
      "cell_type": "code",
      "execution_count": 76,
      "metadata": {},
      "outputs": [
        {
          "output_type": "error",
          "ename": "IndexingError",
          "evalue": "Unalignable boolean Series provided as indexer (index of the boolean Series and of the indexed object do not match).",
          "traceback": [
            "\u001b[0;31m---------------------------------------------------------------------------\u001b[0m",
            "\u001b[0;31mIndexingError\u001b[0m                             Traceback (most recent call last)",
            "\u001b[0;32m<ipython-input-76-dae19558660f>\u001b[0m in \u001b[0;36m<module>\u001b[0;34m\u001b[0m\n\u001b[1;32m      1\u001b[0m \u001b[0;32mfor\u001b[0m \u001b[0mcond\u001b[0m \u001b[0;32min\u001b[0m \u001b[0;34m(\u001b[0m\u001b[0mpd\u001b[0m\u001b[0;34m.\u001b[0m\u001b[0mSeries\u001b[0m\u001b[0;34m(\u001b[0m\u001b[0mnp\u001b[0m\u001b[0;34m.\u001b[0m\u001b[0mrepeat\u001b[0m\u001b[0;34m(\u001b[0m\u001b[0;32mTrue\u001b[0m\u001b[0;34m,\u001b[0m \u001b[0mlen\u001b[0m\u001b[0;34m(\u001b[0m\u001b[0mdf\u001b[0m\u001b[0;34m.\u001b[0m\u001b[0mindex\u001b[0m\u001b[0;34m)\u001b[0m\u001b[0;34m)\u001b[0m\u001b[0;34m)\u001b[0m\u001b[0;34m,\u001b[0m \u001b[0mcovid\u001b[0m\u001b[0;34m.\u001b[0m\u001b[0mHospital_admission\u001b[0m \u001b[0;34m==\u001b[0m \u001b[0;34m'Yes'\u001b[0m\u001b[0;34m)\u001b[0m\u001b[0;34m:\u001b[0m\u001b[0;34m\u001b[0m\u001b[0;34m\u001b[0m\u001b[0m\n\u001b[0;32m----> 2\u001b[0;31m     \u001b[0mprint\u001b[0m\u001b[0;34m(\u001b[0m\u001b[0mcovid\u001b[0m\u001b[0;34m[\u001b[0m\u001b[0mcond\u001b[0m\u001b[0;34m]\u001b[0m\u001b[0;34m.\u001b[0m\u001b[0mhead\u001b[0m\u001b[0;34m(\u001b[0m\u001b[0;34m)\u001b[0m\u001b[0;34m)\u001b[0m\u001b[0;34m\u001b[0m\u001b[0;34m\u001b[0m\u001b[0m\n\u001b[0m",
            "\u001b[0;32m/usr/local/lib/python3.9/site-packages/pandas/core/frame.py\u001b[0m in \u001b[0;36m__getitem__\u001b[0;34m(self, key)\u001b[0m\n\u001b[1;32m   3013\u001b[0m         \u001b[0;31m# Do we have a (boolean) 1d indexer?\u001b[0m\u001b[0;34m\u001b[0m\u001b[0;34m\u001b[0m\u001b[0;34m\u001b[0m\u001b[0m\n\u001b[1;32m   3014\u001b[0m         \u001b[0;32mif\u001b[0m \u001b[0mcom\u001b[0m\u001b[0;34m.\u001b[0m\u001b[0mis_bool_indexer\u001b[0m\u001b[0;34m(\u001b[0m\u001b[0mkey\u001b[0m\u001b[0;34m)\u001b[0m\u001b[0;34m:\u001b[0m\u001b[0;34m\u001b[0m\u001b[0;34m\u001b[0m\u001b[0m\n\u001b[0;32m-> 3015\u001b[0;31m             \u001b[0;32mreturn\u001b[0m \u001b[0mself\u001b[0m\u001b[0;34m.\u001b[0m\u001b[0m_getitem_bool_array\u001b[0m\u001b[0;34m(\u001b[0m\u001b[0mkey\u001b[0m\u001b[0;34m)\u001b[0m\u001b[0;34m\u001b[0m\u001b[0;34m\u001b[0m\u001b[0m\n\u001b[0m\u001b[1;32m   3016\u001b[0m \u001b[0;34m\u001b[0m\u001b[0m\n\u001b[1;32m   3017\u001b[0m         \u001b[0;31m# We are left with two options: a single key, and a collection of keys,\u001b[0m\u001b[0;34m\u001b[0m\u001b[0;34m\u001b[0m\u001b[0;34m\u001b[0m\u001b[0m\n",
            "\u001b[0;32m/usr/local/lib/python3.9/site-packages/pandas/core/frame.py\u001b[0m in \u001b[0;36m_getitem_bool_array\u001b[0;34m(self, key)\u001b[0m\n\u001b[1;32m   3066\u001b[0m         \u001b[0;31m# check_bool_indexer will throw exception if Series key cannot\u001b[0m\u001b[0;34m\u001b[0m\u001b[0;34m\u001b[0m\u001b[0;34m\u001b[0m\u001b[0m\n\u001b[1;32m   3067\u001b[0m         \u001b[0;31m# be reindexed to match DataFrame rows\u001b[0m\u001b[0;34m\u001b[0m\u001b[0;34m\u001b[0m\u001b[0;34m\u001b[0m\u001b[0m\n\u001b[0;32m-> 3068\u001b[0;31m         \u001b[0mkey\u001b[0m \u001b[0;34m=\u001b[0m \u001b[0mcheck_bool_indexer\u001b[0m\u001b[0;34m(\u001b[0m\u001b[0mself\u001b[0m\u001b[0;34m.\u001b[0m\u001b[0mindex\u001b[0m\u001b[0;34m,\u001b[0m \u001b[0mkey\u001b[0m\u001b[0;34m)\u001b[0m\u001b[0;34m\u001b[0m\u001b[0;34m\u001b[0m\u001b[0m\n\u001b[0m\u001b[1;32m   3069\u001b[0m         \u001b[0mindexer\u001b[0m \u001b[0;34m=\u001b[0m \u001b[0mkey\u001b[0m\u001b[0;34m.\u001b[0m\u001b[0mnonzero\u001b[0m\u001b[0;34m(\u001b[0m\u001b[0;34m)\u001b[0m\u001b[0;34m[\u001b[0m\u001b[0;36m0\u001b[0m\u001b[0;34m]\u001b[0m\u001b[0;34m\u001b[0m\u001b[0;34m\u001b[0m\u001b[0m\n\u001b[1;32m   3070\u001b[0m         \u001b[0;32mreturn\u001b[0m \u001b[0mself\u001b[0m\u001b[0;34m.\u001b[0m\u001b[0m_take_with_is_copy\u001b[0m\u001b[0;34m(\u001b[0m\u001b[0mindexer\u001b[0m\u001b[0;34m,\u001b[0m \u001b[0maxis\u001b[0m\u001b[0;34m=\u001b[0m\u001b[0;36m0\u001b[0m\u001b[0;34m)\u001b[0m\u001b[0;34m\u001b[0m\u001b[0;34m\u001b[0m\u001b[0m\n",
            "\u001b[0;32m/usr/local/lib/python3.9/site-packages/pandas/core/indexing.py\u001b[0m in \u001b[0;36mcheck_bool_indexer\u001b[0;34m(index, key)\u001b[0m\n\u001b[1;32m   2264\u001b[0m         \u001b[0mmask\u001b[0m \u001b[0;34m=\u001b[0m \u001b[0misna\u001b[0m\u001b[0;34m(\u001b[0m\u001b[0mresult\u001b[0m\u001b[0;34m.\u001b[0m\u001b[0m_values\u001b[0m\u001b[0;34m)\u001b[0m\u001b[0;34m\u001b[0m\u001b[0;34m\u001b[0m\u001b[0m\n\u001b[1;32m   2265\u001b[0m         \u001b[0;32mif\u001b[0m \u001b[0mmask\u001b[0m\u001b[0;34m.\u001b[0m\u001b[0many\u001b[0m\u001b[0;34m(\u001b[0m\u001b[0;34m)\u001b[0m\u001b[0;34m:\u001b[0m\u001b[0;34m\u001b[0m\u001b[0;34m\u001b[0m\u001b[0m\n\u001b[0;32m-> 2266\u001b[0;31m             raise IndexingError(\n\u001b[0m\u001b[1;32m   2267\u001b[0m                 \u001b[0;34m\"Unalignable boolean Series provided as \"\u001b[0m\u001b[0;34m\u001b[0m\u001b[0;34m\u001b[0m\u001b[0m\n\u001b[1;32m   2268\u001b[0m                 \u001b[0;34m\"indexer (index of the boolean Series and of \"\u001b[0m\u001b[0;34m\u001b[0m\u001b[0;34m\u001b[0m\u001b[0m\n",
            "\u001b[0;31mIndexingError\u001b[0m: Unalignable boolean Series provided as indexer (index of the boolean Series and of the indexed object do not match)."
          ]
        }
      ],
      "source": [
        "for cond in (pd.Series(np.repeat(True, len(df.index))), covid.Hospital_admission == 'Yes'):\n",
        "    print(covid[cond].head())"
      ]
    },
    {
      "cell_type": "markdown",
      "metadata": {
        "id": "MALqmTgEIiJI"
      },
      "source": [
        "Publiceer de berekende statistieken indien we op github draaien\n"
      ]
    },
    {
      "cell_type": "code",
      "metadata": {
        "id": "M5M7Di_U2e-_"
      },
      "source": [
        "# publish\n",
        "if 'GITHUB_TOKEN' in os.environ:\n",
        "  os.makedirs('artifacts', exist_ok = True)\n",
        "  print('Publishing to', os.environ['GITHUB_REPOSITORY'])\n",
        "  today = os.path.join('artifacts', datetime.date.today().strftime('%Y-%m-%d') + '.csv')\n",
        "  latest = 'artifacts/covid.csv'\n",
        "  rivm.fillna(0).to_csv(latest, index=False)\n",
        "\n",
        "  import github3 as github\n",
        "  gh = github.GitHub(token=os.environ['GITHUB_TOKEN'], session=github.session.GitHubSession(default_read_timeout=60))\n",
        "  repo = gh.repository(*os.environ['GITHUB_REPOSITORY'].split('/'))\n",
        "  release = repo.release_from_tag('covid')\n",
        "  assets = { asset.name: asset for asset in release.assets() }\n",
        "\n",
        "  # remove existing\n",
        "  for asset in [today, latest]:\n",
        "    if os.path.basename(asset) in assets:\n",
        "      assets[os.path.basename(asset)].delete()\n",
        "    with open(latest) as f:\n",
        "      release.upload_asset(asset=f, name=os.path.basename(asset), content_type='text/csv')"
      ],
      "execution_count": 7,
      "outputs": []
    }
  ]
}