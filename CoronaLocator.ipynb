{
  "nbformat": 4,
  "nbformat_minor": 0,
  "metadata": {
    "colab": {
      "name": "Corona locator.ipynb",
      "provenance": [],
      "collapsed_sections": [],
      "authorship_tag": "ABX9TyOTwhcdXxP5ZW3iLbyC7blt",
      "include_colab_link": true
    },
    "kernelspec": {
      "name": "python3",
      "display_name": "Python 3",
      "language": "python"
    }
  },
  "cells": [
    {
      "cell_type": "markdown",
      "metadata": {
        "id": "view-in-github",
        "colab_type": "text"
      },
      "source": [
        "<a href=\"https://colab.research.google.com/github/Corona-Locator-Nederland/corona-locator-nederland/blob/main/Corona_locator.ipynb\" target=\"_parent\"><img src=\"https://colab.research.google.com/assets/colab-badge.svg\" alt=\"Open In Colab\"/></a>"
      ]
    },
    {
      "cell_type": "code",
      "metadata": {
        "id": "6CSRx5bUZi8x",
        "tags": []
      },
      "source": [
        "from dotenv import load_dotenv, find_dotenv\n",
        "try:\n",
        "  load_dotenv(find_dotenv(), override=True)\n",
        "except IOError:\n",
        "  load_dotenv(find_dotenv(filename='dot.env'), override=True)\n",
        "\n",
        "%run knack\n",
        "if 'KNACK_APP_ID' in os.environ:\n",
        "  knack = Knack(app_id = os.environ['KNACK_APP_ID'], api_key = os.environ['KNACK_API_KEY'])\n",
        "else:\n",
        "  knack = None\n",
        "\n",
        "from ruamel.yaml import YAML\n",
        "yaml = YAML(typ='safe')\n",
        "\n",
        "from urllib.request import urlopen\n",
        "from urllib.request import urlretrieve\n",
        "import pandas as pd\n",
        "import numpy as np\n",
        "import json\n",
        "import datetime\n",
        "import requests\n",
        "import json\n",
        "import math\n",
        "import os\n",
        "import seaborn as sns\n",
        "import glob\n",
        "from dateutil.parser import parse as parsedate\n",
        "import functools\n",
        "import matplotlib.colors as colors"
      ],
      "execution_count": 1,
      "outputs": [
        {
          "output_type": "stream",
          "name": "stdout",
          "text": [
            "notebook True\n"
          ]
        }
      ]
    },
    {
      "cell_type": "markdown",
      "metadata": {
        "id": "tsZ-IFqjHxup"
      },
      "source": [
        "Download de RIVM data als die nieuwer is dan wat we al hebben (gecached want de download van RIVM is *zeer* traag)"
      ]
    },
    {
      "cell_type": "code",
      "metadata": {
        "colab": {
          "base_uri": "https://localhost:8080/",
          "height": 224
        },
        "id": "Jrbpq3dI9Jd4",
        "outputId": "81c780b9-7ea5-44de-d656-413a69eb752d"
      },
      "source": [
        "os.makedirs('downloads', exist_ok = True)\n",
        "\n",
        "rivm = requests.head('https://data.rivm.nl/covid-19/COVID-19_casus_landelijk.csv')\n",
        "latest = os.path.join('downloads', parsedate(rivm.headers['last-modified']).strftime('%Y-%m-%d@%H-%M.csv'))\n",
        "if not os.path.exists(latest):\n",
        "  print('downloading', latest)\n",
        "  for f in glob.glob('downloads/*.csv'):\n",
        "    if f != latest:\n",
        "      os.remove(f)\n",
        "  urlretrieve('https://data.rivm.nl/covid-19/COVID-19_casus_landelijk.csv', latest)\n",
        "else:\n",
        "  print(latest, 'exists')\n",
        "covid = pd.read_csv(latest, sep=';', header=0 )\n",
        "covid.head()"
      ],
      "execution_count": 2,
      "outputs": [
        {
          "output_type": "stream",
          "name": "stdout",
          "text": [
            "downloading downloads/2021-01-08@14-15.csv\n"
          ]
        },
        {
          "output_type": "execute_result",
          "data": {
            "text/plain": [
              "             Date_file Date_statistics Date_statistics_type Agegroup     Sex  \\\n",
              "0  2021-01-08 10:00:00      2020-01-01                  DOO    40-49  Female   \n",
              "1  2021-01-08 10:00:00      2020-01-01                  DOO    50-59    Male   \n",
              "2  2021-01-08 10:00:00      2020-01-01                  DOO    20-29  Female   \n",
              "3  2021-01-08 10:00:00      2020-01-02                  DOO    70-79  Female   \n",
              "4  2021-01-08 10:00:00      2020-01-04                  DOO    10-19  Female   \n",
              "\n",
              "        Province Hospital_admission Deceased  Week_of_death  \\\n",
              "0  Noord-Holland                 No       No            NaN   \n",
              "1     Gelderland                 No       No            NaN   \n",
              "2   Zuid-Holland                 No       No            NaN   \n",
              "3  Noord-Holland                 No       No            NaN   \n",
              "4     Gelderland            Unknown       No            NaN   \n",
              "\n",
              "                            Municipal_health_service  \n",
              "0                                      GGD Amsterdam  \n",
              "1  Veiligheids- en Gezondheidsregio Gelderland-Mi...  \n",
              "2                                GGD Hollands-Midden  \n",
              "3                            GGD Gooi en Vechtstreek  \n",
              "4                                GGD Gelderland-Zuid  "
            ],
            "text/html": "<div>\n<style scoped>\n    .dataframe tbody tr th:only-of-type {\n        vertical-align: middle;\n    }\n\n    .dataframe tbody tr th {\n        vertical-align: top;\n    }\n\n    .dataframe thead th {\n        text-align: right;\n    }\n</style>\n<table border=\"1\" class=\"dataframe\">\n  <thead>\n    <tr style=\"text-align: right;\">\n      <th></th>\n      <th>Date_file</th>\n      <th>Date_statistics</th>\n      <th>Date_statistics_type</th>\n      <th>Agegroup</th>\n      <th>Sex</th>\n      <th>Province</th>\n      <th>Hospital_admission</th>\n      <th>Deceased</th>\n      <th>Week_of_death</th>\n      <th>Municipal_health_service</th>\n    </tr>\n  </thead>\n  <tbody>\n    <tr>\n      <th>0</th>\n      <td>2021-01-08 10:00:00</td>\n      <td>2020-01-01</td>\n      <td>DOO</td>\n      <td>40-49</td>\n      <td>Female</td>\n      <td>Noord-Holland</td>\n      <td>No</td>\n      <td>No</td>\n      <td>NaN</td>\n      <td>GGD Amsterdam</td>\n    </tr>\n    <tr>\n      <th>1</th>\n      <td>2021-01-08 10:00:00</td>\n      <td>2020-01-01</td>\n      <td>DOO</td>\n      <td>50-59</td>\n      <td>Male</td>\n      <td>Gelderland</td>\n      <td>No</td>\n      <td>No</td>\n      <td>NaN</td>\n      <td>Veiligheids- en Gezondheidsregio Gelderland-Mi...</td>\n    </tr>\n    <tr>\n      <th>2</th>\n      <td>2021-01-08 10:00:00</td>\n      <td>2020-01-01</td>\n      <td>DOO</td>\n      <td>20-29</td>\n      <td>Female</td>\n      <td>Zuid-Holland</td>\n      <td>No</td>\n      <td>No</td>\n      <td>NaN</td>\n      <td>GGD Hollands-Midden</td>\n    </tr>\n    <tr>\n      <th>3</th>\n      <td>2021-01-08 10:00:00</td>\n      <td>2020-01-02</td>\n      <td>DOO</td>\n      <td>70-79</td>\n      <td>Female</td>\n      <td>Noord-Holland</td>\n      <td>No</td>\n      <td>No</td>\n      <td>NaN</td>\n      <td>GGD Gooi en Vechtstreek</td>\n    </tr>\n    <tr>\n      <th>4</th>\n      <td>2021-01-08 10:00:00</td>\n      <td>2020-01-04</td>\n      <td>DOO</td>\n      <td>10-19</td>\n      <td>Female</td>\n      <td>Gelderland</td>\n      <td>Unknown</td>\n      <td>No</td>\n      <td>NaN</td>\n      <td>GGD Gelderland-Zuid</td>\n    </tr>\n  </tbody>\n</table>\n</div>"
          },
          "metadata": {},
          "execution_count": 2
        }
      ]
    },
    {
      "cell_type": "markdown",
      "metadata": {
        "id": "deDxbl8SH_ek"
      },
      "source": [
        "Download de bevolkings cijfers van CBS, uitgesplitst op de leeftijds categorien in de dataset van het RIVM"
      ]
    },
    {
      "cell_type": "code",
      "metadata": {
        "colab": {
          "base_uri": "https://localhost:8080/",
          "height": 394
        },
        "id": "hSzBmmVC3eAX",
        "outputId": "fc940ba4-a260-47d7-e880-301b9f0d3a2b"
      },
      "source": [
        "# https://www.cbs.nl/nl-nl/onze-diensten/open-data/open-data-v4/snelstartgids-odata-v4\n",
        "def get_odata(target_url):\n",
        "  data = pd.DataFrame()\n",
        "  while target_url:\n",
        "    r = requests.get(target_url).json()\n",
        "    data = data.append(pd.DataFrame(r['value']))\n",
        "        \n",
        "    if '@odata.nextLink' in r:\n",
        "      target_url = r['@odata.nextLink']\n",
        "    else:\n",
        "      target_url = None          \n",
        "  return data\n",
        "\n",
        "def roundup(x):\n",
        "  return int(math.ceil(x / 10.0)) * 10\n",
        "def rounddown(x):\n",
        "  return int(math.floor(x / 10.0)) * 10\n",
        "\n",
        "cbs = 'https://opendata.cbs.nl/ODataApi/OData/83482NED'\n",
        "\n",
        "leeftijden = get_odata(cbs + \"/Leeftijd?$select=Key, Title&$filter=CategoryGroupID eq 3\")\n",
        "leeftijden.set_index('Key', inplace=True)\n",
        "# zet de Title om naar begin-eind paar\n",
        "leeftijden_range = leeftijden['Title'].replace(r'^(\\d+) tot (\\d+) jaar$', r'\\1-\\2', regex=True).replace(r'^(\\d+) jaar of ouder$', r'\\1-1000', regex=True)\n",
        "# splits die paren in van-tot\n",
        "leeftijden_range = leeftijden_range.str.split('-', expand=True).astype(int)\n",
        "# rond the \"van\" naar beneden op tientallen, \"tot\" naar boven op tientallen, en knip af naar \"90+\" om de ranges uit de covid tabel te matchen\n",
        "leeftijden_range[0] = leeftijden_range[0].apply(lambda x: rounddown(x)).apply(lambda x: str(min(x, 90)))\n",
        "leeftijden_range[1] = (leeftijden_range[1].apply(lambda x: roundup(x)) - 1).apply(lambda x: f'-{x}' if x < 90 else '+')\n",
        "# en plak ze aan elkaar\n",
        "leeftijden['Range'] = leeftijden_range[0] + leeftijden_range[1]\n",
        "del leeftijden['Title']\n",
        "\n",
        "def query(f):\n",
        "  if f == 'Leeftijd':\n",
        "    # alle leeftijds categerien zoals hierboven opgehaald\n",
        "    return '(' + ' or '.join([f\"{f} eq '{k}'\" for k in leeftijden.index.values]) + ')'\n",
        "  if f in ['Geslacht', 'Migratieachtergrond', 'Generatie']:\n",
        "    # pak hier de key die overeenkomt met \"totaal\"\n",
        "    ids = get_odata(cbs + '/' + f)\n",
        "    return f + \" eq '\" + ids[ids['Title'].str.contains('totaal', na=False, case=False)]['Key'].values[0] + \"'\"\n",
        "  if f == 'Perioden':\n",
        "    # voor perioden pak de laatste\n",
        "    periode = get_odata(cbs + '/Perioden').iloc[[-1]]['Key'].values[0]\n",
        "    print('periode:', periode)\n",
        "    return f\"{f} eq '{periode}'\"\n",
        "  raise ValueError(f)\n",
        "# haal alle properties op waar op kan worden gefiltered en stel de query samen. Als we niet alle termen expliciet benoemen is\n",
        "# de default namelijk \"alles\"; dus als we \"Geslacht\" niet benoemen krijgen we de data voor *alle categorien* binnen geslacht.\n",
        "filter = get_odata(cbs + '/DataProperties')\n",
        "filter = ' and '.join([query(f) for f in filter[filter.Type != 'Topic']['Key'].values])\n",
        "\n",
        "bevolking = get_odata(cbs + f\"/TypedDataSet?$top=100&$filter={filter}&$select=Leeftijd, BevolkingOpDeEersteVanDeMaand_1\")\n",
        "# die _1 betekent waarschijnlijk dat het gedrag ooit gewijzigd is en er een nieuwe \"versie\" van die kolom is gepubliceerd\n",
        "bevolking.rename(columns = {'BevolkingOpDeEersteVanDeMaand_1': 'BevolkingOpDeEersteVanDeMaand'}, inplace = True)\n",
        "# merge de categoriecodes met de van-tot waarden\n",
        "bevolking = bevolking.merge(leeftijden, left_on = 'Leeftijd', right_index = True)\n",
        "# optellen om de leeftijds categorien bij elkaar te vegen zodat we de \"agegroups\" uit \"covid\" kunnen matchen \n",
        "bevolking = bevolking.groupby('Range')['BevolkingOpDeEersteVanDeMaand'].sum().to_frame()\n",
        "# deze factor hebben we vaker nodig\n",
        "bevolking['per 100k'] = 100000 / bevolking['BevolkingOpDeEersteVanDeMaand']\n",
        "bevolking"
      ],
      "execution_count": 3,
      "outputs": [
        {
          "output_type": "stream",
          "name": "stdout",
          "text": [
            "periode: 2020MM12\n"
          ]
        },
        {
          "output_type": "execute_result",
          "data": {
            "text/plain": [
              "       BevolkingOpDeEersteVanDeMaand  per 100k\n",
              "Range                                         \n",
              "0-9                          1759195  0.056844\n",
              "10-19                        1987617  0.050312\n",
              "20-29                        2240262  0.044638\n",
              "30-39                        2178284  0.045908\n",
              "40-49                        2169549  0.046093\n",
              "50-59                        2547659  0.039252\n",
              "60-69                        2139971  0.046730\n",
              "70-79                        1613006  0.061996\n",
              "80-89                         706728  0.141497\n",
              "90+                           132406  0.755253"
            ],
            "text/html": "<div>\n<style scoped>\n    .dataframe tbody tr th:only-of-type {\n        vertical-align: middle;\n    }\n\n    .dataframe tbody tr th {\n        vertical-align: top;\n    }\n\n    .dataframe thead th {\n        text-align: right;\n    }\n</style>\n<table border=\"1\" class=\"dataframe\">\n  <thead>\n    <tr style=\"text-align: right;\">\n      <th></th>\n      <th>BevolkingOpDeEersteVanDeMaand</th>\n      <th>per 100k</th>\n    </tr>\n    <tr>\n      <th>Range</th>\n      <th></th>\n      <th></th>\n    </tr>\n  </thead>\n  <tbody>\n    <tr>\n      <th>0-9</th>\n      <td>1759195</td>\n      <td>0.056844</td>\n    </tr>\n    <tr>\n      <th>10-19</th>\n      <td>1987617</td>\n      <td>0.050312</td>\n    </tr>\n    <tr>\n      <th>20-29</th>\n      <td>2240262</td>\n      <td>0.044638</td>\n    </tr>\n    <tr>\n      <th>30-39</th>\n      <td>2178284</td>\n      <td>0.045908</td>\n    </tr>\n    <tr>\n      <th>40-49</th>\n      <td>2169549</td>\n      <td>0.046093</td>\n    </tr>\n    <tr>\n      <th>50-59</th>\n      <td>2547659</td>\n      <td>0.039252</td>\n    </tr>\n    <tr>\n      <th>60-69</th>\n      <td>2139971</td>\n      <td>0.046730</td>\n    </tr>\n    <tr>\n      <th>70-79</th>\n      <td>1613006</td>\n      <td>0.061996</td>\n    </tr>\n    <tr>\n      <th>80-89</th>\n      <td>706728</td>\n      <td>0.141497</td>\n    </tr>\n    <tr>\n      <th>90+</th>\n      <td>132406</td>\n      <td>0.755253</td>\n    </tr>\n  </tbody>\n</table>\n</div>"
          },
          "metadata": {},
          "execution_count": 3
        }
      ]
    },
    {
      "cell_type": "markdown",
      "metadata": {
        "id": "MPRacZsjIKD5"
      },
      "source": [
        "Bereken de stand van zaken van besmettingen / hospitalisaties / overlijden, per cohort in absolute aantallen en aantallen per 100k, met een kleur indicator voor de aantallen."
      ]
    },
    {
      "cell_type": "code",
      "metadata": {
        "colab": {
          "base_uri": "https://localhost:8080/",
          "height": 409
        },
        "id": "NnwQYng5brr8",
        "outputId": "aa3bccb9-ee92-4155-af35-50fed451de93"
      },
      "source": [
        "# vervang <50 en Unknown door Onbekend\n",
        "covid['Cohort'] = covid['Agegroup'].replace({'<50': 'Onbekend', 'Unknown': 'Onbekend'})\n",
        "# aangenomen 'gemiddelde' leeftijd van een cohort: minimum waarde + 5\n",
        "assumed_cohort_age = [(cohort, [int(n) for n in cohort.replace('+', '').split('-')]) for cohort in covid['Cohort'].unique() if cohort[0].isdigit()]\n",
        "assumed_cohort_age = { cohort: min(rng) + 5 for cohort, rng in assumed_cohort_age }\n",
        "covid['Gemiddelde leeftijd'] = covid['Cohort'].apply(lambda x: assumed_cohort_age.get(x, np.nan))\n",
        "\n",
        "# verwijder tijd\n",
        "covid['Date_file_date'] = pd.to_datetime(covid['Date_file'].replace(r' .*', '', regex=True))\n",
        "\n",
        "covid['Date_statistics_date'] = pd.to_datetime(covid['Date_statistics'])\n",
        "\n",
        "# weken terug = verschil tussen Date_file en Date_statistcs, gedeeld door 7 dagen\n",
        "covid['Weken terug'] = np.floor((covid['Date_file_date'] - covid['Date_statistics_date'])/np.timedelta64(7, 'D')).astype(np.int)\n",
        "\n",
        "# voeg key, gem leeftijd, kleurnummer en totaal toe\n",
        "Date_file = covid['Date_file_date'].unique()[0].astype('M8[D]').astype('O')\n",
        "cohorten = list(bevolking.index) + ['Onbekend']\n",
        "def summarize(df, category, prefix):\n",
        "  # aangezien we hier de dataframe in-place wijzigen (bijv door toevoegen kolommen)\n",
        "  # en we het 'covid' frame later nog clean nodig hebben\n",
        "  df = df.copy(deep=True)\n",
        "  \n",
        "  df = (df\n",
        "        .groupby(['Weken terug', 'Cohort'])['count']\n",
        "        .sum()\n",
        "        .unstack(fill_value=np.nan)\n",
        "        .reset_index()\n",
        "        .rename_axis(None, axis=1)\n",
        "      ).merge(df\n",
        "        # we voegen hier gemiddelde leeftijd toe, want die willen we op een ander\n",
        "        # niveau aggregeren voor 'df' overschreven word\n",
        "        .groupby(['Weken terug'])['Gemiddelde leeftijd']\n",
        "        .mean()\n",
        "        .to_frame(), on='Weken terug'\n",
        "      )\n",
        "\n",
        "  # altijd 52 rijen\n",
        "  df = pd.Series(np.arange(52), name='Weken terug').to_frame().merge(df, how='left', on='Weken terug')\n",
        "\n",
        "  # toevoegen missende cohorten\n",
        "  for col in cohorten:\n",
        "    if not col in df:\n",
        "      df[col] = np.nan\n",
        "\n",
        "  # sommeer per rij (axis=1) over de cohorten om een totaal te krijgen \n",
        "  df['Totaal'] = df[cohorten].sum(axis=1)\n",
        "\n",
        "  # voeg periode en datum toe\n",
        "  # periode afgeleid van weken-terug (= de index voor deze dataframe)\n",
        "  df['Datum'] = pd.to_datetime(Date_file)\n",
        "  df['Periode'] = (df\n",
        "    .index.to_series()\n",
        "    .apply(\n",
        "      lambda x: (\n",
        "        (Date_file + datetime.timedelta(weeks=-(x+1), days=1)).strftime('%d/%m')\n",
        "        + ' - '\n",
        "        + (Date_file + datetime.timedelta(weeks=-x)).strftime('%d/%m')\n",
        "      )\n",
        "    )\n",
        "  )\n",
        "\n",
        "  # voeg 'Key' en 'Type' kolom toe. Variabele 'type' kan niet, is een language primitive.\n",
        "  df['Key'] = prefix + df.index.astype(str).str.rjust(3, fillchar='0')\n",
        "  df['Type'] = category\n",
        "\n",
        "  # voeg de kleur kolommen toe\n",
        "  for col in cohorten:\n",
        "    df['c' + col] = ((df[col] / df[[col for col in cohorten]].max(axis=1)) * 1000).fillna(0).astype(int)\n",
        "\n",
        "  # herschikken van de kolommen\n",
        "  colorder = ['Key', 'Weken terug', 'Datum', 'Periode', 'Gemiddelde leeftijd', 'Totaal', 'Type']\n",
        "  return df[colorder + [col for col in df if col not in colorder]]\n",
        "\n",
        "factor = bevolking.to_dict()['per 100k']\n",
        "rivm = pd.concat(\n",
        "  # flatten the result list zodat pd.concat ze onder elkaar kan plakken\n",
        "  functools.reduce(lambda a, b: a + b, [\n",
        "    [summarize(df.assign(count=1), label, prefix), summarize(df.assign(count=df['Cohort'].apply(lambda x: factor.get(x, np.nan))), label + ' per 100.000', prefix + '100k')]\n",
        "    for df, label, prefix in [\n",
        "      (covid, 'Positief getest', 'p'), # volledige count per cohort\n",
        "      (covid[covid.Hospital_admission == 'Yes'], 'Ziekenhuisopname', 'h'), # count van cohort voor Hospital_admission == 'Yes'\n",
        "      (covid[covid.Deceased == 'Yes'], 'Overleden', 'd'), # count van cohort voor Deceased == 'Yes'\n",
        "    ]\n",
        "  ])\n",
        ")\n",
        "\n",
        "# rood -> groen\n",
        "cdict = {\n",
        "  'red':   ((0.0, 0.0, 0.0),   # no red at 0\n",
        "            (0.5, 1.0, 1.0),   # all channels set to 1.0 at 0.5 to create white\n",
        "            (1.0, 0.8, 0.8)),  # set to 0.8 so its not too bright at 1\n",
        "  'green': ((0.0, 0.8, 0.8),   # set to 0.8 so its not too bright at 0\n",
        "            (0.5, 1.0, 1.0),   # all channels set to 1.0 at 0.5 to create white\n",
        "            (1.0, 0.0, 0.0)),  # no green at 1\n",
        "  'blue':  ((0.0, 0.0, 0.0),   # no blue at 0\n",
        "            (0.5, 1.0, 1.0),   # all channels set to 1.0 at 0.5 to create white\n",
        "            (1.0, 0.0, 0.0))   # no blue at 1\n",
        "}\n",
        "cm = colors.LinearSegmentedColormap('GnRd', cdict)\n",
        "# geel -> paars\n",
        "cm = sns.color_palette('viridis_r', as_cmap=True)\n",
        "(rivm\n",
        "  .fillna(0)\n",
        "  .head()\n",
        "  .round(1)\n",
        "  .reset_index(drop=True)\n",
        "  .style.background_gradient(cmap=cm, axis=1, subset=cohorten)\n",
        ")"
      ],
      "execution_count": 4,
      "outputs": [
        {
          "output_type": "execute_result",
          "data": {
            "text/plain": [
              "<pandas.io.formats.style.Styler at 0x1339d4d30>"
            ],
            "text/html": "<style  type=\"text/css\" >\n#T_11815_row0_col7,#T_11815_row4_col16{\n            background-color:  #d0e11c;\n            color:  #000000;\n        }#T_11815_row0_col8{\n            background-color:  #2e6d8e;\n            color:  #f1f1f1;\n        }#T_11815_row0_col9,#T_11815_row1_col12,#T_11815_row2_col12,#T_11815_row3_col12,#T_11815_row4_col8{\n            background-color:  #440154;\n            color:  #f1f1f1;\n        }#T_11815_row0_col10,#T_11815_row2_col13{\n            background-color:  #2a768e;\n            color:  #f1f1f1;\n        }#T_11815_row0_col11{\n            background-color:  #2d708e;\n            color:  #f1f1f1;\n        }#T_11815_row0_col12{\n            background-color:  #3e4c8a;\n            color:  #f1f1f1;\n        }#T_11815_row0_col13{\n            background-color:  #1f998a;\n            color:  #000000;\n        }#T_11815_row0_col14{\n            background-color:  #42be71;\n            color:  #000000;\n        }#T_11815_row0_col15{\n            background-color:  #63cb5f;\n            color:  #000000;\n        }#T_11815_row0_col16,#T_11815_row1_col16{\n            background-color:  #c5e021;\n            color:  #000000;\n        }#T_11815_row0_col17,#T_11815_row1_col17,#T_11815_row2_col17,#T_11815_row3_col17,#T_11815_row4_col17{\n            background-color:  #fde725;\n            color:  #000000;\n        }#T_11815_row1_col7,#T_11815_row2_col16{\n            background-color:  #c8e020;\n            color:  #000000;\n        }#T_11815_row1_col8,#T_11815_row1_col13{\n            background-color:  #2c718e;\n            color:  #f1f1f1;\n        }#T_11815_row1_col9{\n            background-color:  #481668;\n            color:  #f1f1f1;\n        }#T_11815_row1_col10{\n            background-color:  #3b518b;\n            color:  #f1f1f1;\n        }#T_11815_row1_col11{\n            background-color:  #414287;\n            color:  #f1f1f1;\n        }#T_11815_row1_col14{\n            background-color:  #20a486;\n            color:  #000000;\n        }#T_11815_row1_col15{\n            background-color:  #58c765;\n            color:  #000000;\n        }#T_11815_row2_col7{\n            background-color:  #c2df23;\n            color:  #000000;\n        }#T_11815_row2_col8{\n            background-color:  #365d8d;\n            color:  #f1f1f1;\n        }#T_11815_row2_col9{\n            background-color:  #453781;\n            color:  #f1f1f1;\n        }#T_11815_row2_col10{\n            background-color:  #39568c;\n            color:  #f1f1f1;\n        }#T_11815_row2_col11{\n            background-color:  #46327e;\n            color:  #f1f1f1;\n        }#T_11815_row2_col14{\n            background-color:  #29af7f;\n            color:  #000000;\n        }#T_11815_row2_col15{\n            background-color:  #5cc863;\n            color:  #000000;\n        }#T_11815_row3_col7{\n            background-color:  #c0df25;\n            color:  #000000;\n        }#T_11815_row3_col8{\n            background-color:  #482878;\n            color:  #f1f1f1;\n        }#T_11815_row3_col9{\n            background-color:  #472a7a;\n            color:  #f1f1f1;\n        }#T_11815_row3_col10{\n            background-color:  #3d4e8a;\n            color:  #f1f1f1;\n        }#T_11815_row3_col11{\n            background-color:  #481d6f;\n            color:  #f1f1f1;\n        }#T_11815_row3_col13{\n            background-color:  #2a778e;\n            color:  #000000;\n        }#T_11815_row3_col14{\n            background-color:  #2db27d;\n            color:  #000000;\n        }#T_11815_row3_col15{\n            background-color:  #69cd5b;\n            color:  #000000;\n        }#T_11815_row3_col16{\n            background-color:  #cde11d;\n            color:  #000000;\n        }#T_11815_row4_col7{\n            background-color:  #bddf26;\n            color:  #000000;\n        }#T_11815_row4_col9{\n            background-color:  #404688;\n            color:  #f1f1f1;\n        }#T_11815_row4_col10{\n            background-color:  #38588c;\n            color:  #f1f1f1;\n        }#T_11815_row4_col11{\n            background-color:  #472f7d;\n            color:  #f1f1f1;\n        }#T_11815_row4_col12{\n            background-color:  #482475;\n            color:  #f1f1f1;\n        }#T_11815_row4_col13{\n            background-color:  #24868e;\n            color:  #000000;\n        }#T_11815_row4_col14{\n            background-color:  #37b878;\n            color:  #000000;\n        }#T_11815_row4_col15{\n            background-color:  #7cd250;\n            color:  #000000;\n        }</style><table id=\"T_11815_\" ><thead>    <tr>        <th class=\"blank level0\" ></th>        <th class=\"col_heading level0 col0\" >Key</th>        <th class=\"col_heading level0 col1\" >Weken terug</th>        <th class=\"col_heading level0 col2\" >Datum</th>        <th class=\"col_heading level0 col3\" >Periode</th>        <th class=\"col_heading level0 col4\" >Gemiddelde leeftijd</th>        <th class=\"col_heading level0 col5\" >Totaal</th>        <th class=\"col_heading level0 col6\" >Type</th>        <th class=\"col_heading level0 col7\" >0-9</th>        <th class=\"col_heading level0 col8\" >10-19</th>        <th class=\"col_heading level0 col9\" >20-29</th>        <th class=\"col_heading level0 col10\" >30-39</th>        <th class=\"col_heading level0 col11\" >40-49</th>        <th class=\"col_heading level0 col12\" >50-59</th>        <th class=\"col_heading level0 col13\" >60-69</th>        <th class=\"col_heading level0 col14\" >70-79</th>        <th class=\"col_heading level0 col15\" >80-89</th>        <th class=\"col_heading level0 col16\" >90+</th>        <th class=\"col_heading level0 col17\" >Onbekend</th>        <th class=\"col_heading level0 col18\" >c0-9</th>        <th class=\"col_heading level0 col19\" >c10-19</th>        <th class=\"col_heading level0 col20\" >c20-29</th>        <th class=\"col_heading level0 col21\" >c30-39</th>        <th class=\"col_heading level0 col22\" >c40-49</th>        <th class=\"col_heading level0 col23\" >c50-59</th>        <th class=\"col_heading level0 col24\" >c60-69</th>        <th class=\"col_heading level0 col25\" >c70-79</th>        <th class=\"col_heading level0 col26\" >c80-89</th>        <th class=\"col_heading level0 col27\" >c90+</th>        <th class=\"col_heading level0 col28\" >cOnbekend</th>    </tr></thead><tbody>\n                <tr>\n                        <th id=\"T_11815_level0_row0\" class=\"row_heading level0 row0\" >0</th>\n                        <td id=\"T_11815_row0_col0\" class=\"data row0 col0\" >p000</td>\n                        <td id=\"T_11815_row0_col1\" class=\"data row0 col1\" >0</td>\n                        <td id=\"T_11815_row0_col2\" class=\"data row0 col2\" >2021-01-08 00:00:00</td>\n                        <td id=\"T_11815_row0_col3\" class=\"data row0 col3\" >02/01 - 08/01</td>\n                        <td id=\"T_11815_row0_col4\" class=\"data row0 col4\" >43.300000</td>\n                        <td id=\"T_11815_row0_col5\" class=\"data row0 col5\" >28394.000000</td>\n                        <td id=\"T_11815_row0_col6\" class=\"data row0 col6\" >Positief getest</td>\n                        <td id=\"T_11815_row0_col7\" class=\"data row0 col7\" >416.000000</td>\n                        <td id=\"T_11815_row0_col8\" class=\"data row0 col8\" >3803.000000</td>\n                        <td id=\"T_11815_row0_col9\" class=\"data row0 col9\" >5881.000000</td>\n                        <td id=\"T_11815_row0_col10\" class=\"data row0 col10\" >3576.000000</td>\n                        <td id=\"T_11815_row0_col11\" class=\"data row0 col11\" >3724.000000</td>\n                        <td id=\"T_11815_row0_col12\" class=\"data row0 col12\" >4542.000000</td>\n                        <td id=\"T_11815_row0_col13\" class=\"data row0 col13\" >2724.000000</td>\n                        <td id=\"T_11815_row0_col14\" class=\"data row0 col14\" >1788.000000</td>\n                        <td id=\"T_11815_row0_col15\" class=\"data row0 col15\" >1420.000000</td>\n                        <td id=\"T_11815_row0_col16\" class=\"data row0 col16\" >519.000000</td>\n                        <td id=\"T_11815_row0_col17\" class=\"data row0 col17\" >1.000000</td>\n                        <td id=\"T_11815_row0_col18\" class=\"data row0 col18\" >70</td>\n                        <td id=\"T_11815_row0_col19\" class=\"data row0 col19\" >646</td>\n                        <td id=\"T_11815_row0_col20\" class=\"data row0 col20\" >1000</td>\n                        <td id=\"T_11815_row0_col21\" class=\"data row0 col21\" >608</td>\n                        <td id=\"T_11815_row0_col22\" class=\"data row0 col22\" >633</td>\n                        <td id=\"T_11815_row0_col23\" class=\"data row0 col23\" >772</td>\n                        <td id=\"T_11815_row0_col24\" class=\"data row0 col24\" >463</td>\n                        <td id=\"T_11815_row0_col25\" class=\"data row0 col25\" >304</td>\n                        <td id=\"T_11815_row0_col26\" class=\"data row0 col26\" >241</td>\n                        <td id=\"T_11815_row0_col27\" class=\"data row0 col27\" >88</td>\n                        <td id=\"T_11815_row0_col28\" class=\"data row0 col28\" >0</td>\n            </tr>\n            <tr>\n                        <th id=\"T_11815_level0_row1\" class=\"row_heading level0 row1\" >1</th>\n                        <td id=\"T_11815_row1_col0\" class=\"data row1 col0\" >p001</td>\n                        <td id=\"T_11815_row1_col1\" class=\"data row1 col1\" >1</td>\n                        <td id=\"T_11815_row1_col2\" class=\"data row1 col2\" >2021-01-08 00:00:00</td>\n                        <td id=\"T_11815_row1_col3\" class=\"data row1 col3\" >26/12 - 01/01</td>\n                        <td id=\"T_11815_row1_col4\" class=\"data row1 col4\" >45.200000</td>\n                        <td id=\"T_11815_row1_col5\" class=\"data row1 col5\" >52057.000000</td>\n                        <td id=\"T_11815_row1_col6\" class=\"data row1 col6\" >Positief getest</td>\n                        <td id=\"T_11815_row1_col7\" class=\"data row1 col7\" >791.000000</td>\n                        <td id=\"T_11815_row1_col8\" class=\"data row1 col8\" >5830.000000</td>\n                        <td id=\"T_11815_row1_col9\" class=\"data row1 col9\" >8776.000000</td>\n                        <td id=\"T_11815_row1_col10\" class=\"data row1 col10\" >6999.000000</td>\n                        <td id=\"T_11815_row1_col11\" class=\"data row1 col11\" >7448.000000</td>\n                        <td id=\"T_11815_row1_col12\" class=\"data row1 col12\" >9291.000000</td>\n                        <td id=\"T_11815_row1_col13\" class=\"data row1 col13\" >5836.000000</td>\n                        <td id=\"T_11815_row1_col14\" class=\"data row1 col14\" >3866.000000</td>\n                        <td id=\"T_11815_row1_col15\" class=\"data row1 col15\" >2409.000000</td>\n                        <td id=\"T_11815_row1_col16\" class=\"data row1 col16\" >810.000000</td>\n                        <td id=\"T_11815_row1_col17\" class=\"data row1 col17\" >1.000000</td>\n                        <td id=\"T_11815_row1_col18\" class=\"data row1 col18\" >85</td>\n                        <td id=\"T_11815_row1_col19\" class=\"data row1 col19\" >627</td>\n                        <td id=\"T_11815_row1_col20\" class=\"data row1 col20\" >944</td>\n                        <td id=\"T_11815_row1_col21\" class=\"data row1 col21\" >753</td>\n                        <td id=\"T_11815_row1_col22\" class=\"data row1 col22\" >801</td>\n                        <td id=\"T_11815_row1_col23\" class=\"data row1 col23\" >1000</td>\n                        <td id=\"T_11815_row1_col24\" class=\"data row1 col24\" >628</td>\n                        <td id=\"T_11815_row1_col25\" class=\"data row1 col25\" >416</td>\n                        <td id=\"T_11815_row1_col26\" class=\"data row1 col26\" >259</td>\n                        <td id=\"T_11815_row1_col27\" class=\"data row1 col27\" >87</td>\n                        <td id=\"T_11815_row1_col28\" class=\"data row1 col28\" >0</td>\n            </tr>\n            <tr>\n                        <th id=\"T_11815_level0_row2\" class=\"row_heading level0 row2\" >2</th>\n                        <td id=\"T_11815_row2_col0\" class=\"data row2 col0\" >p002</td>\n                        <td id=\"T_11815_row2_col1\" class=\"data row2 col1\" >2</td>\n                        <td id=\"T_11815_row2_col2\" class=\"data row2 col2\" >2021-01-08 00:00:00</td>\n                        <td id=\"T_11815_row2_col3\" class=\"data row2 col3\" >19/12 - 25/12</td>\n                        <td id=\"T_11815_row2_col4\" class=\"data row2 col4\" >44.700000</td>\n                        <td id=\"T_11815_row2_col5\" class=\"data row2 col5\" >66458.000000</td>\n                        <td id=\"T_11815_row2_col6\" class=\"data row2 col6\" >Positief getest</td>\n                        <td id=\"T_11815_row2_col7\" class=\"data row2 col7\" >1099.000000</td>\n                        <td id=\"T_11815_row2_col8\" class=\"data row2 col8\" >8500.000000</td>\n                        <td id=\"T_11815_row2_col9\" class=\"data row2 col9\" >10103.000000</td>\n                        <td id=\"T_11815_row2_col10\" class=\"data row2 col10\" >8762.000000</td>\n                        <td id=\"T_11815_row2_col11\" class=\"data row2 col11\" >10270.000000</td>\n                        <td id=\"T_11815_row2_col12\" class=\"data row2 col12\" >11984.000000</td>\n                        <td id=\"T_11815_row2_col13\" class=\"data row2 col13\" >7259.000000</td>\n                        <td id=\"T_11815_row2_col14\" class=\"data row2 col14\" >4442.000000</td>\n                        <td id=\"T_11815_row2_col15\" class=\"data row2 col15\" >3015.000000</td>\n                        <td id=\"T_11815_row2_col16\" class=\"data row2 col16\" >1022.000000</td>\n                        <td id=\"T_11815_row2_col17\" class=\"data row2 col17\" >2.000000</td>\n                        <td id=\"T_11815_row2_col18\" class=\"data row2 col18\" >91</td>\n                        <td id=\"T_11815_row2_col19\" class=\"data row2 col19\" >709</td>\n                        <td id=\"T_11815_row2_col20\" class=\"data row2 col20\" >843</td>\n                        <td id=\"T_11815_row2_col21\" class=\"data row2 col21\" >731</td>\n                        <td id=\"T_11815_row2_col22\" class=\"data row2 col22\" >856</td>\n                        <td id=\"T_11815_row2_col23\" class=\"data row2 col23\" >1000</td>\n                        <td id=\"T_11815_row2_col24\" class=\"data row2 col24\" >605</td>\n                        <td id=\"T_11815_row2_col25\" class=\"data row2 col25\" >370</td>\n                        <td id=\"T_11815_row2_col26\" class=\"data row2 col26\" >251</td>\n                        <td id=\"T_11815_row2_col27\" class=\"data row2 col27\" >85</td>\n                        <td id=\"T_11815_row2_col28\" class=\"data row2 col28\" >0</td>\n            </tr>\n            <tr>\n                        <th id=\"T_11815_level0_row3\" class=\"row_heading level0 row3\" >3</th>\n                        <td id=\"T_11815_row3_col0\" class=\"data row3 col0\" >p003</td>\n                        <td id=\"T_11815_row3_col1\" class=\"data row3 col1\" >3</td>\n                        <td id=\"T_11815_row3_col2\" class=\"data row3 col2\" >2021-01-08 00:00:00</td>\n                        <td id=\"T_11815_row3_col3\" class=\"data row3 col3\" >12/12 - 18/12</td>\n                        <td id=\"T_11815_row3_col4\" class=\"data row3 col4\" >43.300000</td>\n                        <td id=\"T_11815_row3_col5\" class=\"data row3 col5\" >78019.000000</td>\n                        <td id=\"T_11815_row3_col6\" class=\"data row3 col6\" >Positief getest</td>\n                        <td id=\"T_11815_row3_col7\" class=\"data row3 col7\" >1269.000000</td>\n                        <td id=\"T_11815_row3_col8\" class=\"data row3 col8\" >11906.000000</td>\n                        <td id=\"T_11815_row3_col9\" class=\"data row3 col9\" >11818.000000</td>\n                        <td id=\"T_11815_row3_col10\" class=\"data row3 col10\" >10232.000000</td>\n                        <td id=\"T_11815_row3_col11\" class=\"data row3 col11\" >12350.000000</td>\n                        <td id=\"T_11815_row3_col12\" class=\"data row3 col12\" >13426.000000</td>\n                        <td id=\"T_11815_row3_col13\" class=\"data row3 col13\" >8129.000000</td>\n                        <td id=\"T_11815_row3_col14\" class=\"data row3 col14\" >4821.000000</td>\n                        <td id=\"T_11815_row3_col15\" class=\"data row3 col15\" >3049.000000</td>\n                        <td id=\"T_11815_row3_col16\" class=\"data row3 col16\" >1013.000000</td>\n                        <td id=\"T_11815_row3_col17\" class=\"data row3 col17\" >6.000000</td>\n                        <td id=\"T_11815_row3_col18\" class=\"data row3 col18\" >94</td>\n                        <td id=\"T_11815_row3_col19\" class=\"data row3 col19\" >886</td>\n                        <td id=\"T_11815_row3_col20\" class=\"data row3 col20\" >880</td>\n                        <td id=\"T_11815_row3_col21\" class=\"data row3 col21\" >762</td>\n                        <td id=\"T_11815_row3_col22\" class=\"data row3 col22\" >919</td>\n                        <td id=\"T_11815_row3_col23\" class=\"data row3 col23\" >1000</td>\n                        <td id=\"T_11815_row3_col24\" class=\"data row3 col24\" >605</td>\n                        <td id=\"T_11815_row3_col25\" class=\"data row3 col25\" >359</td>\n                        <td id=\"T_11815_row3_col26\" class=\"data row3 col26\" >227</td>\n                        <td id=\"T_11815_row3_col27\" class=\"data row3 col27\" >75</td>\n                        <td id=\"T_11815_row3_col28\" class=\"data row3 col28\" >0</td>\n            </tr>\n            <tr>\n                        <th id=\"T_11815_level0_row4\" class=\"row_heading level0 row4\" >4</th>\n                        <td id=\"T_11815_row4_col0\" class=\"data row4 col0\" >p004</td>\n                        <td id=\"T_11815_row4_col1\" class=\"data row4 col1\" >4</td>\n                        <td id=\"T_11815_row4_col2\" class=\"data row4 col2\" >2021-01-08 00:00:00</td>\n                        <td id=\"T_11815_row4_col3\" class=\"data row4 col3\" >05/12 - 11/12</td>\n                        <td id=\"T_11815_row4_col4\" class=\"data row4 col4\" >42.100000</td>\n                        <td id=\"T_11815_row4_col5\" class=\"data row4 col5\" >62018.000000</td>\n                        <td id=\"T_11815_row4_col6\" class=\"data row4 col6\" >Positief getest</td>\n                        <td id=\"T_11815_row4_col7\" class=\"data row4 col7\" >1131.000000</td>\n                        <td id=\"T_11815_row4_col8\" class=\"data row4 col8\" >11223.000000</td>\n                        <td id=\"T_11815_row4_col9\" class=\"data row4 col9\" >8872.000000</td>\n                        <td id=\"T_11815_row4_col10\" class=\"data row4 col10\" >8193.000000</td>\n                        <td id=\"T_11815_row4_col11\" class=\"data row4 col11\" >9697.000000</td>\n                        <td id=\"T_11815_row4_col12\" class=\"data row4 col12\" >10112.000000</td>\n                        <td id=\"T_11815_row4_col13\" class=\"data row4 col13\" >6082.000000</td>\n                        <td id=\"T_11815_row4_col14\" class=\"data row4 col14\" >3692.000000</td>\n                        <td id=\"T_11815_row4_col15\" class=\"data row4 col15\" >2216.000000</td>\n                        <td id=\"T_11815_row4_col16\" class=\"data row4 col16\" >797.000000</td>\n                        <td id=\"T_11815_row4_col17\" class=\"data row4 col17\" >3.000000</td>\n                        <td id=\"T_11815_row4_col18\" class=\"data row4 col18\" >100</td>\n                        <td id=\"T_11815_row4_col19\" class=\"data row4 col19\" >1000</td>\n                        <td id=\"T_11815_row4_col20\" class=\"data row4 col20\" >790</td>\n                        <td id=\"T_11815_row4_col21\" class=\"data row4 col21\" >730</td>\n                        <td id=\"T_11815_row4_col22\" class=\"data row4 col22\" >864</td>\n                        <td id=\"T_11815_row4_col23\" class=\"data row4 col23\" >901</td>\n                        <td id=\"T_11815_row4_col24\" class=\"data row4 col24\" >541</td>\n                        <td id=\"T_11815_row4_col25\" class=\"data row4 col25\" >328</td>\n                        <td id=\"T_11815_row4_col26\" class=\"data row4 col26\" >197</td>\n                        <td id=\"T_11815_row4_col27\" class=\"data row4 col27\" >71</td>\n                        <td id=\"T_11815_row4_col28\" class=\"data row4 col28\" >0</td>\n            </tr>\n    </tbody></table>"
          },
          "metadata": {},
          "execution_count": 4
        }
      ]
    },
    {
      "cell_type": "markdown",
      "metadata": {
        "id": "MALqmTgEIiJI"
      },
      "source": [
        "Publiceer de berekende statistieken indien we op github draaien\n"
      ]
    },
    {
      "cell_type": "code",
      "metadata": {
        "id": "M5M7Di_U2e-_"
      },
      "source": [
        "# publish\n",
        "if 'GITHUB_TOKEN' in os.environ:\n",
        "  os.makedirs('artifacts', exist_ok = True)\n",
        "  print('Publishing to', os.environ['GITHUB_REPOSITORY'])\n",
        "  today = os.path.join('artifacts', datetime.date.today().strftime('%Y-%m-%d') + '.csv')\n",
        "  latest = 'artifacts/covid.csv'\n",
        "  rivm.fillna(0).to_csv(latest, index=False)\n",
        "\n",
        "  import github3 as github\n",
        "  gh = github.GitHub(token=os.environ['GITHUB_TOKEN'], session=github.session.GitHubSession(default_read_timeout=60))\n",
        "  repo = gh.repository(*os.environ['GITHUB_REPOSITORY'].split('/'))\n",
        "  release = repo.release_from_tag('covid')\n",
        "  assets = { asset.name: asset for asset in release.assets() }\n",
        "\n",
        "  # remove existing\n",
        "  for asset in [today, latest]:\n",
        "    if os.path.basename(asset) in assets:\n",
        "      assets[os.path.basename(asset)].delete()\n",
        "    with open(latest) as f:\n",
        "      release.upload_asset(asset=f, name=os.path.basename(asset), content_type='text/csv')"
      ],
      "execution_count": 5,
      "outputs": []
    },
    {
      "cell_type": "code",
      "execution_count": 6,
      "metadata": {
        "tags": []
      },
      "outputs": [
        {
          "output_type": "error",
          "ename": "SyntaxError",
          "evalue": "positional argument follows keyword argument (<ipython-input-6-699f8c71ffe5>, line 2)",
          "traceback": [
            "\u001b[0;36m  File \u001b[0;32m\"<ipython-input-6-699f8c71ffe5>\"\u001b[0;36m, line \u001b[0;32m2\u001b[0m\n\u001b[0;31m    knack.update(scene='Leeftijdsgroepen', view='Leeftijdsgroepen', rivm.fillna(0).assign(Datum=rivm.Datum.dt.strftime('%Y-%m-%d')))\u001b[0m\n\u001b[0m                                                                                                                                   ^\u001b[0m\n\u001b[0;31mSyntaxError\u001b[0m\u001b[0;31m:\u001b[0m positional argument follows keyword argument\n"
          ]
        }
      ],
      "source": [
        "if knack:\n",
        "  knack.update(scene='Leeftijdsgroepen', view='Leeftijdsgroepen', df=rivm.fillna(0).assign(Datum=rivm.Datum.dt.strftime('%Y-%m-%d')))"
      ]
    },
    {
      "cell_type": "code",
      "execution_count": null,
      "metadata": {},
      "outputs": [],
      "source": []
    }
  ]
}