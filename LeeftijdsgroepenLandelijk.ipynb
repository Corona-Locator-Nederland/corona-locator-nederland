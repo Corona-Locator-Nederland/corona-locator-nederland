{
 "cells": [
  {
   "cell_type": "code",
   "execution_count": 1,
   "id": "11ff1972",
   "metadata": {
    "execution": {
     "iopub.execute_input": "2021-11-15T14:31:39.462355Z",
     "iopub.status.busy": "2021-11-15T14:31:39.461865Z",
     "iopub.status.idle": "2021-11-15T14:31:43.048464Z",
     "shell.execute_reply": "2021-11-15T14:31:43.048849Z"
    },
    "lines_to_next_cell": 1,
    "papermill": {
     "duration": 3.606222,
     "end_time": "2021-11-15T14:31:43.049091",
     "exception": false,
     "start_time": "2021-11-15T14:31:39.442869",
     "status": "completed"
    },
    "tags": []
   },
   "outputs": [],
   "source": [
    "from IPython import get_ipython\n",
    "from IPython.core.display import display\n",
    "get_ipython().run_line_magic('load_ext', 'autoreload')\n",
    "get_ipython().run_line_magic('autoreload', '2')\n",
    "get_ipython().run_line_magic('run', 'setup')"
   ]
  },
  {
   "cell_type": "code",
   "execution_count": 2,
   "id": "7d09c59a",
   "metadata": {
    "execution": {
     "iopub.execute_input": "2021-11-15T14:31:43.076200Z",
     "iopub.status.busy": "2021-11-15T14:31:43.075702Z",
     "iopub.status.idle": "2021-11-15T14:38:05.375870Z",
     "shell.execute_reply": "2021-11-15T14:38:05.376248Z"
    },
    "lines_to_next_cell": 1,
    "papermill": {
     "duration": 382.315784,
     "end_time": "2021-11-15T14:38:05.376379",
     "exception": false,
     "start_time": "2021-11-15T14:31:43.060595",
     "status": "completed"
    },
    "tags": [],
    "title": "leeftijdsgroepen: download RIVM data"
   },
   "outputs": [
    {
     "name": "stdout",
     "output_type": "stream",
     "text": [
      "downloading rivm/COVID-19_casus_landelijk-2021-11-15@14-15.csv\n"
     ]
    },
    {
     "name": "stdout",
     "output_type": "stream",
     "text": [
      "rivm COVID-19_casus_landelijk zipping rivm/COVID-19_casus_landelijk-2021-11-15@14-15.csv\n"
     ]
    },
    {
     "name": "stdout",
     "output_type": "stream",
     "text": [
      "loading rivm/COVID-19_casus_landelijk-2021-11-15@14-15.csv.gz\n"
     ]
    },
    {
     "data": {
      "text/html": [
       "<div>\n",
       "<style scoped>\n",
       "    .dataframe tbody tr th:only-of-type {\n",
       "        vertical-align: middle;\n",
       "    }\n",
       "\n",
       "    .dataframe tbody tr th {\n",
       "        vertical-align: top;\n",
       "    }\n",
       "\n",
       "    .dataframe thead th {\n",
       "        text-align: right;\n",
       "    }\n",
       "</style>\n",
       "<table border=\"1\" class=\"dataframe\">\n",
       "  <thead>\n",
       "    <tr style=\"text-align: right;\">\n",
       "      <th></th>\n",
       "      <th>Date_file</th>\n",
       "      <th>Date_statistics</th>\n",
       "      <th>Date_statistics_type</th>\n",
       "      <th>Agegroup</th>\n",
       "      <th>Sex</th>\n",
       "      <th>Province</th>\n",
       "      <th>Hospital_admission</th>\n",
       "      <th>Deceased</th>\n",
       "      <th>Week_of_death</th>\n",
       "      <th>Municipal_health_service</th>\n",
       "    </tr>\n",
       "  </thead>\n",
       "  <tbody>\n",
       "    <tr>\n",
       "      <th>0</th>\n",
       "      <td>2021-11-15 10:00:00</td>\n",
       "      <td>2020-01-01</td>\n",
       "      <td>DOO</td>\n",
       "      <td>40-49</td>\n",
       "      <td>Female</td>\n",
       "      <td>Noord-Holland</td>\n",
       "      <td>No</td>\n",
       "      <td>No</td>\n",
       "      <td>NaN</td>\n",
       "      <td>GGD Amsterdam</td>\n",
       "    </tr>\n",
       "    <tr>\n",
       "      <th>1</th>\n",
       "      <td>2021-11-15 10:00:00</td>\n",
       "      <td>2020-01-01</td>\n",
       "      <td>DOO</td>\n",
       "      <td>50-59</td>\n",
       "      <td>Male</td>\n",
       "      <td>Gelderland</td>\n",
       "      <td>No</td>\n",
       "      <td>No</td>\n",
       "      <td>NaN</td>\n",
       "      <td>Veiligheids- en Gezondheidsregio Gelderland-Mi...</td>\n",
       "    </tr>\n",
       "    <tr>\n",
       "      <th>2</th>\n",
       "      <td>2021-11-15 10:00:00</td>\n",
       "      <td>2020-01-01</td>\n",
       "      <td>DOO</td>\n",
       "      <td>20-29</td>\n",
       "      <td>Female</td>\n",
       "      <td>Zuid-Holland</td>\n",
       "      <td>No</td>\n",
       "      <td>No</td>\n",
       "      <td>NaN</td>\n",
       "      <td>GGD Hollands-Midden</td>\n",
       "    </tr>\n",
       "    <tr>\n",
       "      <th>3</th>\n",
       "      <td>2021-11-15 10:00:00</td>\n",
       "      <td>2020-01-01</td>\n",
       "      <td>DOO</td>\n",
       "      <td>60-69</td>\n",
       "      <td>Female</td>\n",
       "      <td>Noord-Holland</td>\n",
       "      <td>No</td>\n",
       "      <td>No</td>\n",
       "      <td>NaN</td>\n",
       "      <td>GGD Hollands-Noorden</td>\n",
       "    </tr>\n",
       "    <tr>\n",
       "      <th>4</th>\n",
       "      <td>2021-11-15 10:00:00</td>\n",
       "      <td>2020-01-04</td>\n",
       "      <td>DOO</td>\n",
       "      <td>10-19</td>\n",
       "      <td>Female</td>\n",
       "      <td>Gelderland</td>\n",
       "      <td>Unknown</td>\n",
       "      <td>No</td>\n",
       "      <td>NaN</td>\n",
       "      <td>GGD Gelderland-Zuid</td>\n",
       "    </tr>\n",
       "  </tbody>\n",
       "</table>\n",
       "</div>"
      ],
      "text/plain": [
       "             Date_file Date_statistics Date_statistics_type Agegroup     Sex  \\\n",
       "0  2021-11-15 10:00:00      2020-01-01                  DOO    40-49  Female   \n",
       "1  2021-11-15 10:00:00      2020-01-01                  DOO    50-59    Male   \n",
       "2  2021-11-15 10:00:00      2020-01-01                  DOO    20-29  Female   \n",
       "3  2021-11-15 10:00:00      2020-01-01                  DOO    60-69  Female   \n",
       "4  2021-11-15 10:00:00      2020-01-04                  DOO    10-19  Female   \n",
       "\n",
       "        Province Hospital_admission Deceased  Week_of_death  \\\n",
       "0  Noord-Holland                 No       No            NaN   \n",
       "1     Gelderland                 No       No            NaN   \n",
       "2   Zuid-Holland                 No       No            NaN   \n",
       "3  Noord-Holland                 No       No            NaN   \n",
       "4     Gelderland            Unknown       No            NaN   \n",
       "\n",
       "                            Municipal_health_service  \n",
       "0                                      GGD Amsterdam  \n",
       "1  Veiligheids- en Gezondheidsregio Gelderland-Mi...  \n",
       "2                                GGD Hollands-Midden  \n",
       "3                               GGD Hollands-Noorden  \n",
       "4                                GGD Gelderland-Zuid  "
      ]
     },
     "metadata": {},
     "output_type": "display_data"
    }
   ],
   "source": [
    "#leeftijdsgroepen = SimpleNamespace()\n",
    "@run\n",
    "def cell():\n",
    "  global rivm\n",
    "  rivm = RIVM.csv('COVID-19_casus_landelijk')\n",
    "  display(rivm.head())"
   ]
  },
  {
   "cell_type": "code",
   "execution_count": 3,
   "id": "b5cda972",
   "metadata": {
    "execution": {
     "iopub.execute_input": "2021-11-15T14:38:05.414043Z",
     "iopub.status.busy": "2021-11-15T14:38:05.413565Z",
     "iopub.status.idle": "2021-11-15T14:38:09.061972Z",
     "shell.execute_reply": "2021-11-15T14:38:09.061519Z"
    },
    "lines_to_next_cell": 1,
    "papermill": {
     "duration": 3.670124,
     "end_time": "2021-11-15T14:38:09.062101",
     "exception": false,
     "start_time": "2021-11-15T14:38:05.391977",
     "status": "completed"
    },
    "tags": [],
    "title": "Download de bevolkings cijfers van CBS, uitgesplitst op de leeftijds categorien in de dataset van het RIVM"
   },
   "outputs": [],
   "source": [
    "@run\n",
    "def cell():\n",
    "  global bevolking\n",
    "  bevolking = CBS.bevolking(leeftijdsgroepen=True)"
   ]
  },
  {
   "cell_type": "code",
   "execution_count": 4,
   "id": "f4808f4c",
   "metadata": {
    "execution": {
     "iopub.execute_input": "2021-11-15T14:38:09.109043Z",
     "iopub.status.busy": "2021-11-15T14:38:09.102915Z",
     "iopub.status.idle": "2021-11-15T14:38:17.571166Z",
     "shell.execute_reply": "2021-11-15T14:38:17.571533Z"
    },
    "lines_to_next_cell": 1,
    "papermill": {
     "duration": 8.493454,
     "end_time": "2021-11-15T14:38:17.571678",
     "exception": false,
     "start_time": "2021-11-15T14:38:09.078224",
     "status": "completed"
    },
    "tags": [],
    "title": "leeftijdsgroepen: prepareer tabel"
   },
   "outputs": [
    {
     "data": {
      "text/html": [
       "<style type=\"text/css\">\n",
       "#T_3055b_row0_col7 {\n",
       "  background-color: #2f6b8e;\n",
       "  color: #f1f1f1;\n",
       "}\n",
       "#T_3055b_row0_col8 {\n",
       "  background-color: #470d60;\n",
       "  color: #f1f1f1;\n",
       "}\n",
       "#T_3055b_row0_col9 {\n",
       "  background-color: #481a6c;\n",
       "  color: #f1f1f1;\n",
       "}\n",
       "#T_3055b_row0_col10, #T_3055b_row1_col10, #T_3055b_row2_col10, #T_3055b_row3_col10, #T_3055b_row4_col9 {\n",
       "  background-color: #440154;\n",
       "  color: #f1f1f1;\n",
       "}\n",
       "#T_3055b_row0_col11 {\n",
       "  background-color: #482475;\n",
       "  color: #f1f1f1;\n",
       "}\n",
       "#T_3055b_row0_col12 {\n",
       "  background-color: #3c508b;\n",
       "  color: #f1f1f1;\n",
       "}\n",
       "#T_3055b_row0_col13 {\n",
       "  background-color: #27808e;\n",
       "  color: #f1f1f1;\n",
       "}\n",
       "#T_3055b_row0_col14 {\n",
       "  background-color: #29af7f;\n",
       "  color: #f1f1f1;\n",
       "}\n",
       "#T_3055b_row0_col15 {\n",
       "  background-color: #7fd34e;\n",
       "  color: #000000;\n",
       "}\n",
       "#T_3055b_row0_col16 {\n",
       "  background-color: #dfe318;\n",
       "  color: #000000;\n",
       "}\n",
       "#T_3055b_row0_col17, #T_3055b_row1_col17, #T_3055b_row2_col17, #T_3055b_row3_col17, #T_3055b_row4_col17 {\n",
       "  background-color: #fde725;\n",
       "  color: #000000;\n",
       "}\n",
       "#T_3055b_row1_col7 {\n",
       "  background-color: #287c8e;\n",
       "  color: #f1f1f1;\n",
       "}\n",
       "#T_3055b_row1_col8, #T_3055b_row4_col8 {\n",
       "  background-color: #460b5e;\n",
       "  color: #f1f1f1;\n",
       "}\n",
       "#T_3055b_row1_col9 {\n",
       "  background-color: #46085c;\n",
       "  color: #f1f1f1;\n",
       "}\n",
       "#T_3055b_row1_col11 {\n",
       "  background-color: #482576;\n",
       "  color: #f1f1f1;\n",
       "}\n",
       "#T_3055b_row1_col12 {\n",
       "  background-color: #463480;\n",
       "  color: #f1f1f1;\n",
       "}\n",
       "#T_3055b_row1_col13 {\n",
       "  background-color: #32658e;\n",
       "  color: #f1f1f1;\n",
       "}\n",
       "#T_3055b_row1_col14 {\n",
       "  background-color: #1f9e89;\n",
       "  color: #f1f1f1;\n",
       "}\n",
       "#T_3055b_row1_col15 {\n",
       "  background-color: #75d054;\n",
       "  color: #000000;\n",
       "}\n",
       "#T_3055b_row1_col16, #T_3055b_row3_col16 {\n",
       "  background-color: #dae319;\n",
       "  color: #000000;\n",
       "}\n",
       "#T_3055b_row2_col7 {\n",
       "  background-color: #1f958b;\n",
       "  color: #f1f1f1;\n",
       "}\n",
       "#T_3055b_row2_col8 {\n",
       "  background-color: #453882;\n",
       "  color: #f1f1f1;\n",
       "}\n",
       "#T_3055b_row2_col9 {\n",
       "  background-color: #450457;\n",
       "  color: #f1f1f1;\n",
       "}\n",
       "#T_3055b_row2_col11 {\n",
       "  background-color: #482878;\n",
       "  color: #f1f1f1;\n",
       "}\n",
       "#T_3055b_row2_col12, #T_3055b_row3_col11 {\n",
       "  background-color: #482677;\n",
       "  color: #f1f1f1;\n",
       "}\n",
       "#T_3055b_row2_col13 {\n",
       "  background-color: #365c8d;\n",
       "  color: #f1f1f1;\n",
       "}\n",
       "#T_3055b_row2_col14 {\n",
       "  background-color: #21918c;\n",
       "  color: #f1f1f1;\n",
       "}\n",
       "#T_3055b_row2_col15 {\n",
       "  background-color: #5ac864;\n",
       "  color: #000000;\n",
       "}\n",
       "#T_3055b_row2_col16 {\n",
       "  background-color: #d5e21a;\n",
       "  color: #000000;\n",
       "}\n",
       "#T_3055b_row3_col7 {\n",
       "  background-color: #1f998a;\n",
       "  color: #f1f1f1;\n",
       "}\n",
       "#T_3055b_row3_col8 {\n",
       "  background-color: #443983;\n",
       "  color: #f1f1f1;\n",
       "}\n",
       "#T_3055b_row3_col9 {\n",
       "  background-color: #450559;\n",
       "  color: #f1f1f1;\n",
       "}\n",
       "#T_3055b_row3_col12 {\n",
       "  background-color: #404588;\n",
       "  color: #f1f1f1;\n",
       "}\n",
       "#T_3055b_row3_col13 {\n",
       "  background-color: #2e6d8e;\n",
       "  color: #f1f1f1;\n",
       "}\n",
       "#T_3055b_row3_col14 {\n",
       "  background-color: #1f978b;\n",
       "  color: #f1f1f1;\n",
       "}\n",
       "#T_3055b_row3_col15 {\n",
       "  background-color: #70cf57;\n",
       "  color: #000000;\n",
       "}\n",
       "#T_3055b_row4_col7 {\n",
       "  background-color: #25858e;\n",
       "  color: #f1f1f1;\n",
       "}\n",
       "#T_3055b_row4_col10 {\n",
       "  background-color: #481b6d;\n",
       "  color: #f1f1f1;\n",
       "}\n",
       "#T_3055b_row4_col11 {\n",
       "  background-color: #433e85;\n",
       "  color: #f1f1f1;\n",
       "}\n",
       "#T_3055b_row4_col12 {\n",
       "  background-color: #3a538b;\n",
       "  color: #f1f1f1;\n",
       "}\n",
       "#T_3055b_row4_col13 {\n",
       "  background-color: #25838e;\n",
       "  color: #f1f1f1;\n",
       "}\n",
       "#T_3055b_row4_col14 {\n",
       "  background-color: #23a983;\n",
       "  color: #f1f1f1;\n",
       "}\n",
       "#T_3055b_row4_col15 {\n",
       "  background-color: #7ad151;\n",
       "  color: #000000;\n",
       "}\n",
       "#T_3055b_row4_col16 {\n",
       "  background-color: #e2e418;\n",
       "  color: #000000;\n",
       "}\n",
       "</style>\n",
       "<table id=\"T_3055b_\">\n",
       "  <thead>\n",
       "    <tr>\n",
       "      <th class=\"blank level0\" >&nbsp;</th>\n",
       "      <th class=\"col_heading level0 col0\" >Key</th>\n",
       "      <th class=\"col_heading level0 col1\" >Weken terug</th>\n",
       "      <th class=\"col_heading level0 col2\" >Datum</th>\n",
       "      <th class=\"col_heading level0 col3\" >Periode</th>\n",
       "      <th class=\"col_heading level0 col4\" >Gemiddelde leeftijd</th>\n",
       "      <th class=\"col_heading level0 col5\" >Totaal</th>\n",
       "      <th class=\"col_heading level0 col6\" >Type</th>\n",
       "      <th class=\"col_heading level0 col7\" >0-9</th>\n",
       "      <th class=\"col_heading level0 col8\" >10-19</th>\n",
       "      <th class=\"col_heading level0 col9\" >20-29</th>\n",
       "      <th class=\"col_heading level0 col10\" >30-39</th>\n",
       "      <th class=\"col_heading level0 col11\" >40-49</th>\n",
       "      <th class=\"col_heading level0 col12\" >50-59</th>\n",
       "      <th class=\"col_heading level0 col13\" >60-69</th>\n",
       "      <th class=\"col_heading level0 col14\" >70-79</th>\n",
       "      <th class=\"col_heading level0 col15\" >80-89</th>\n",
       "      <th class=\"col_heading level0 col16\" >90+</th>\n",
       "      <th class=\"col_heading level0 col17\" >Onbekend</th>\n",
       "      <th class=\"col_heading level0 col18\" >c0-9</th>\n",
       "      <th class=\"col_heading level0 col19\" >c10-19</th>\n",
       "      <th class=\"col_heading level0 col20\" >c20-29</th>\n",
       "      <th class=\"col_heading level0 col21\" >c30-39</th>\n",
       "      <th class=\"col_heading level0 col22\" >c40-49</th>\n",
       "      <th class=\"col_heading level0 col23\" >c50-59</th>\n",
       "      <th class=\"col_heading level0 col24\" >c60-69</th>\n",
       "      <th class=\"col_heading level0 col25\" >c70-79</th>\n",
       "      <th class=\"col_heading level0 col26\" >c80-89</th>\n",
       "      <th class=\"col_heading level0 col27\" >c90+</th>\n",
       "      <th class=\"col_heading level0 col28\" >cOnbekend</th>\n",
       "    </tr>\n",
       "  </thead>\n",
       "  <tbody>\n",
       "    <tr>\n",
       "      <th id=\"T_3055b_level0_row0\" class=\"row_heading level0 row0\" >0</th>\n",
       "      <td id=\"T_3055b_row0_col0\" class=\"data row0 col0\" >p000</td>\n",
       "      <td id=\"T_3055b_row0_col1\" class=\"data row0 col1\" >0</td>\n",
       "      <td id=\"T_3055b_row0_col2\" class=\"data row0 col2\" >2021-11-15 00:00:00</td>\n",
       "      <td id=\"T_3055b_row0_col3\" class=\"data row0 col3\" >09/11-15/11</td>\n",
       "      <td id=\"T_3055b_row0_col4\" class=\"data row0 col4\" >38.200000</td>\n",
       "      <td id=\"T_3055b_row0_col5\" class=\"data row0 col5\" >57180.000000</td>\n",
       "      <td id=\"T_3055b_row0_col6\" class=\"data row0 col6\" >Positief getest</td>\n",
       "      <td id=\"T_3055b_row0_col7\" class=\"data row0 col7\" >5847.000000</td>\n",
       "      <td id=\"T_3055b_row0_col8\" class=\"data row0 col8\" >8648.000000</td>\n",
       "      <td id=\"T_3055b_row0_col9\" class=\"data row0 col9\" >8337.000000</td>\n",
       "      <td id=\"T_3055b_row0_col10\" class=\"data row0 col10\" >8944.000000</td>\n",
       "      <td id=\"T_3055b_row0_col11\" class=\"data row0 col11\" >8046.000000</td>\n",
       "      <td id=\"T_3055b_row0_col12\" class=\"data row0 col12\" >6775.000000</td>\n",
       "      <td id=\"T_3055b_row0_col13\" class=\"data row0 col13\" >5101.000000</td>\n",
       "      <td id=\"T_3055b_row0_col14\" class=\"data row0 col14\" >3286.000000</td>\n",
       "      <td id=\"T_3055b_row0_col15\" class=\"data row0 col15\" >1740.000000</td>\n",
       "      <td id=\"T_3055b_row0_col16\" class=\"data row0 col16\" >455.000000</td>\n",
       "      <td id=\"T_3055b_row0_col17\" class=\"data row0 col17\" >1.000000</td>\n",
       "      <td id=\"T_3055b_row0_col18\" class=\"data row0 col18\" >653</td>\n",
       "      <td id=\"T_3055b_row0_col19\" class=\"data row0 col19\" >966</td>\n",
       "      <td id=\"T_3055b_row0_col20\" class=\"data row0 col20\" >932</td>\n",
       "      <td id=\"T_3055b_row0_col21\" class=\"data row0 col21\" >1000</td>\n",
       "      <td id=\"T_3055b_row0_col22\" class=\"data row0 col22\" >899</td>\n",
       "      <td id=\"T_3055b_row0_col23\" class=\"data row0 col23\" >757</td>\n",
       "      <td id=\"T_3055b_row0_col24\" class=\"data row0 col24\" >570</td>\n",
       "      <td id=\"T_3055b_row0_col25\" class=\"data row0 col25\" >367</td>\n",
       "      <td id=\"T_3055b_row0_col26\" class=\"data row0 col26\" >194</td>\n",
       "      <td id=\"T_3055b_row0_col27\" class=\"data row0 col27\" >50</td>\n",
       "      <td id=\"T_3055b_row0_col28\" class=\"data row0 col28\" >0</td>\n",
       "    </tr>\n",
       "    <tr>\n",
       "      <th id=\"T_3055b_level0_row1\" class=\"row_heading level0 row1\" >1</th>\n",
       "      <td id=\"T_3055b_row1_col0\" class=\"data row1 col0\" >p001</td>\n",
       "      <td id=\"T_3055b_row1_col1\" class=\"data row1 col1\" >1</td>\n",
       "      <td id=\"T_3055b_row1_col2\" class=\"data row1 col2\" >2021-11-15 00:00:00</td>\n",
       "      <td id=\"T_3055b_row1_col3\" class=\"data row1 col3\" >02/11-08/11</td>\n",
       "      <td id=\"T_3055b_row1_col4\" class=\"data row1 col4\" >39.700000</td>\n",
       "      <td id=\"T_3055b_row1_col5\" class=\"data row1 col5\" >84224.000000</td>\n",
       "      <td id=\"T_3055b_row1_col6\" class=\"data row1 col6\" >Positief getest</td>\n",
       "      <td id=\"T_3055b_row1_col7\" class=\"data row1 col7\" >7371.000000</td>\n",
       "      <td id=\"T_3055b_row1_col8\" class=\"data row1 col8\" >12265.000000</td>\n",
       "      <td id=\"T_3055b_row1_col9\" class=\"data row1 col9\" >12379.000000</td>\n",
       "      <td id=\"T_3055b_row1_col10\" class=\"data row1 col10\" >12630.000000</td>\n",
       "      <td id=\"T_3055b_row1_col11\" class=\"data row1 col11\" >11346.000000</td>\n",
       "      <td id=\"T_3055b_row1_col12\" class=\"data row1 col12\" >10722.000000</td>\n",
       "      <td id=\"T_3055b_row1_col13\" class=\"data row1 col13\" >8540.000000</td>\n",
       "      <td id=\"T_3055b_row1_col14\" class=\"data row1 col14\" >5622.000000</td>\n",
       "      <td id=\"T_3055b_row1_col15\" class=\"data row1 col15\" >2644.000000</td>\n",
       "      <td id=\"T_3055b_row1_col16\" class=\"data row1 col16\" >705.000000</td>\n",
       "      <td id=\"T_3055b_row1_col17\" class=\"data row1 col17\" >0.000000</td>\n",
       "      <td id=\"T_3055b_row1_col18\" class=\"data row1 col18\" >583</td>\n",
       "      <td id=\"T_3055b_row1_col19\" class=\"data row1 col19\" >971</td>\n",
       "      <td id=\"T_3055b_row1_col20\" class=\"data row1 col20\" >980</td>\n",
       "      <td id=\"T_3055b_row1_col21\" class=\"data row1 col21\" >1000</td>\n",
       "      <td id=\"T_3055b_row1_col22\" class=\"data row1 col22\" >898</td>\n",
       "      <td id=\"T_3055b_row1_col23\" class=\"data row1 col23\" >848</td>\n",
       "      <td id=\"T_3055b_row1_col24\" class=\"data row1 col24\" >676</td>\n",
       "      <td id=\"T_3055b_row1_col25\" class=\"data row1 col25\" >445</td>\n",
       "      <td id=\"T_3055b_row1_col26\" class=\"data row1 col26\" >209</td>\n",
       "      <td id=\"T_3055b_row1_col27\" class=\"data row1 col27\" >55</td>\n",
       "      <td id=\"T_3055b_row1_col28\" class=\"data row1 col28\" >0</td>\n",
       "    </tr>\n",
       "    <tr>\n",
       "      <th id=\"T_3055b_level0_row2\" class=\"row_heading level0 row2\" >2</th>\n",
       "      <td id=\"T_3055b_row2_col0\" class=\"data row2 col0\" >p002</td>\n",
       "      <td id=\"T_3055b_row2_col1\" class=\"data row2 col1\" >2</td>\n",
       "      <td id=\"T_3055b_row2_col2\" class=\"data row2 col2\" >2021-11-15 00:00:00</td>\n",
       "      <td id=\"T_3055b_row2_col3\" class=\"data row2 col3\" >26/10-01/11</td>\n",
       "      <td id=\"T_3055b_row2_col4\" class=\"data row2 col4\" >41.600000</td>\n",
       "      <td id=\"T_3055b_row2_col5\" class=\"data row2 col5\" >60697.000000</td>\n",
       "      <td id=\"T_3055b_row2_col6\" class=\"data row2 col6\" >Positief getest</td>\n",
       "      <td id=\"T_3055b_row2_col7\" class=\"data row2 col7\" >4390.000000</td>\n",
       "      <td id=\"T_3055b_row2_col8\" class=\"data row2 col8\" >7675.000000</td>\n",
       "      <td id=\"T_3055b_row2_col9\" class=\"data row2 col9\" >9087.000000</td>\n",
       "      <td id=\"T_3055b_row2_col10\" class=\"data row2 col10\" >9179.000000</td>\n",
       "      <td id=\"T_3055b_row2_col11\" class=\"data row2 col11\" >8144.000000</td>\n",
       "      <td id=\"T_3055b_row2_col12\" class=\"data row2 col12\" >8187.000000</td>\n",
       "      <td id=\"T_3055b_row2_col13\" class=\"data row2 col13\" >6538.000000</td>\n",
       "      <td id=\"T_3055b_row2_col14\" class=\"data row2 col14\" >4579.000000</td>\n",
       "      <td id=\"T_3055b_row2_col15\" class=\"data row2 col15\" >2332.000000</td>\n",
       "      <td id=\"T_3055b_row2_col16\" class=\"data row2 col16\" >585.000000</td>\n",
       "      <td id=\"T_3055b_row2_col17\" class=\"data row2 col17\" >1.000000</td>\n",
       "      <td id=\"T_3055b_row2_col18\" class=\"data row2 col18\" >478</td>\n",
       "      <td id=\"T_3055b_row2_col19\" class=\"data row2 col19\" >836</td>\n",
       "      <td id=\"T_3055b_row2_col20\" class=\"data row2 col20\" >989</td>\n",
       "      <td id=\"T_3055b_row2_col21\" class=\"data row2 col21\" >1000</td>\n",
       "      <td id=\"T_3055b_row2_col22\" class=\"data row2 col22\" >887</td>\n",
       "      <td id=\"T_3055b_row2_col23\" class=\"data row2 col23\" >891</td>\n",
       "      <td id=\"T_3055b_row2_col24\" class=\"data row2 col24\" >712</td>\n",
       "      <td id=\"T_3055b_row2_col25\" class=\"data row2 col25\" >498</td>\n",
       "      <td id=\"T_3055b_row2_col26\" class=\"data row2 col26\" >254</td>\n",
       "      <td id=\"T_3055b_row2_col27\" class=\"data row2 col27\" >63</td>\n",
       "      <td id=\"T_3055b_row2_col28\" class=\"data row2 col28\" >0</td>\n",
       "    </tr>\n",
       "    <tr>\n",
       "      <th id=\"T_3055b_level0_row3\" class=\"row_heading level0 row3\" >3</th>\n",
       "      <td id=\"T_3055b_row3_col0\" class=\"data row3 col0\" >p003</td>\n",
       "      <td id=\"T_3055b_row3_col1\" class=\"data row3 col1\" >3</td>\n",
       "      <td id=\"T_3055b_row3_col2\" class=\"data row3 col2\" >2021-11-15 00:00:00</td>\n",
       "      <td id=\"T_3055b_row3_col3\" class=\"data row3 col3\" >19/10-25/10</td>\n",
       "      <td id=\"T_3055b_row3_col4\" class=\"data row3 col4\" >40.800000</td>\n",
       "      <td id=\"T_3055b_row3_col5\" class=\"data row3 col5\" >44358.000000</td>\n",
       "      <td id=\"T_3055b_row3_col6\" class=\"data row3 col6\" >Positief getest</td>\n",
       "      <td id=\"T_3055b_row3_col7\" class=\"data row3 col7\" >3223.000000</td>\n",
       "      <td id=\"T_3055b_row3_col8\" class=\"data row3 col8\" >5804.000000</td>\n",
       "      <td id=\"T_3055b_row3_col9\" class=\"data row3 col9\" >6865.000000</td>\n",
       "      <td id=\"T_3055b_row3_col10\" class=\"data row3 col10\" >6972.000000</td>\n",
       "      <td id=\"T_3055b_row3_col11\" class=\"data row3 col11\" >6235.000000</td>\n",
       "      <td id=\"T_3055b_row3_col12\" class=\"data row3 col12\" >5552.000000</td>\n",
       "      <td id=\"T_3055b_row3_col13\" class=\"data row3 col13\" >4504.000000</td>\n",
       "      <td id=\"T_3055b_row3_col14\" class=\"data row3 col14\" >3292.000000</td>\n",
       "      <td id=\"T_3055b_row3_col15\" class=\"data row3 col15\" >1524.000000</td>\n",
       "      <td id=\"T_3055b_row3_col16\" class=\"data row3 col16\" >385.000000</td>\n",
       "      <td id=\"T_3055b_row3_col17\" class=\"data row3 col17\" >2.000000</td>\n",
       "      <td id=\"T_3055b_row3_col18\" class=\"data row3 col18\" >462</td>\n",
       "      <td id=\"T_3055b_row3_col19\" class=\"data row3 col19\" >832</td>\n",
       "      <td id=\"T_3055b_row3_col20\" class=\"data row3 col20\" >984</td>\n",
       "      <td id=\"T_3055b_row3_col21\" class=\"data row3 col21\" >1000</td>\n",
       "      <td id=\"T_3055b_row3_col22\" class=\"data row3 col22\" >894</td>\n",
       "      <td id=\"T_3055b_row3_col23\" class=\"data row3 col23\" >796</td>\n",
       "      <td id=\"T_3055b_row3_col24\" class=\"data row3 col24\" >646</td>\n",
       "      <td id=\"T_3055b_row3_col25\" class=\"data row3 col25\" >472</td>\n",
       "      <td id=\"T_3055b_row3_col26\" class=\"data row3 col26\" >218</td>\n",
       "      <td id=\"T_3055b_row3_col27\" class=\"data row3 col27\" >55</td>\n",
       "      <td id=\"T_3055b_row3_col28\" class=\"data row3 col28\" >0</td>\n",
       "    </tr>\n",
       "    <tr>\n",
       "      <th id=\"T_3055b_level0_row4\" class=\"row_heading level0 row4\" >4</th>\n",
       "      <td id=\"T_3055b_row4_col0\" class=\"data row4 col0\" >p004</td>\n",
       "      <td id=\"T_3055b_row4_col1\" class=\"data row4 col1\" >4</td>\n",
       "      <td id=\"T_3055b_row4_col2\" class=\"data row4 col2\" >2021-11-15 00:00:00</td>\n",
       "      <td id=\"T_3055b_row4_col3\" class=\"data row4 col3\" >12/10-18/10</td>\n",
       "      <td id=\"T_3055b_row4_col4\" class=\"data row4 col4\" >38.600000</td>\n",
       "      <td id=\"T_3055b_row4_col5\" class=\"data row4 col5\" >29707.000000</td>\n",
       "      <td id=\"T_3055b_row4_col6\" class=\"data row4 col6\" >Positief getest</td>\n",
       "      <td id=\"T_3055b_row4_col7\" class=\"data row4 col7\" >2617.000000</td>\n",
       "      <td id=\"T_3055b_row4_col8\" class=\"data row4 col8\" >4654.000000</td>\n",
       "      <td id=\"T_3055b_row4_col9\" class=\"data row4 col9\" >4794.000000</td>\n",
       "      <td id=\"T_3055b_row4_col10\" class=\"data row4 col10\" >4445.000000</td>\n",
       "      <td id=\"T_3055b_row4_col11\" class=\"data row4 col11\" >3922.000000</td>\n",
       "      <td id=\"T_3055b_row4_col12\" class=\"data row4 col12\" >3560.000000</td>\n",
       "      <td id=\"T_3055b_row4_col13\" class=\"data row4 col13\" >2646.000000</td>\n",
       "      <td id=\"T_3055b_row4_col14\" class=\"data row4 col14\" >1901.000000</td>\n",
       "      <td id=\"T_3055b_row4_col15\" class=\"data row4 col15\" >956.000000</td>\n",
       "      <td id=\"T_3055b_row4_col16\" class=\"data row4 col16\" >211.000000</td>\n",
       "      <td id=\"T_3055b_row4_col17\" class=\"data row4 col17\" >1.000000</td>\n",
       "      <td id=\"T_3055b_row4_col18\" class=\"data row4 col18\" >545</td>\n",
       "      <td id=\"T_3055b_row4_col19\" class=\"data row4 col19\" >970</td>\n",
       "      <td id=\"T_3055b_row4_col20\" class=\"data row4 col20\" >1000</td>\n",
       "      <td id=\"T_3055b_row4_col21\" class=\"data row4 col21\" >927</td>\n",
       "      <td id=\"T_3055b_row4_col22\" class=\"data row4 col22\" >818</td>\n",
       "      <td id=\"T_3055b_row4_col23\" class=\"data row4 col23\" >742</td>\n",
       "      <td id=\"T_3055b_row4_col24\" class=\"data row4 col24\" >551</td>\n",
       "      <td id=\"T_3055b_row4_col25\" class=\"data row4 col25\" >396</td>\n",
       "      <td id=\"T_3055b_row4_col26\" class=\"data row4 col26\" >199</td>\n",
       "      <td id=\"T_3055b_row4_col27\" class=\"data row4 col27\" >44</td>\n",
       "      <td id=\"T_3055b_row4_col28\" class=\"data row4 col28\" >0</td>\n",
       "    </tr>\n",
       "  </tbody>\n",
       "</table>\n"
      ],
      "text/plain": [
       "<pandas.io.formats.style.Styler at 0x7ffb00ca6b80>"
      ]
     },
     "metadata": {},
     "output_type": "display_data"
    }
   ],
   "source": [
    "# Bereken de stand van zaken van besmettingen / hospitalisaties / overlijden, per cohort in absolute aantallen en aantallen per 100k, met een kleur indicator voor de aantallen.\n",
    "# vervang <50 en Unknown door Onbekend\n",
    "@run\n",
    "def cell():\n",
    "  rivm['Cohort'] = rivm['Agegroup'].replace({'<50': 'Onbekend', 'Unknown': 'Onbekend'})\n",
    "  # aangenomen 'gemiddelde' leeftijd van een cohort: minimum waarde + 5\n",
    "  assumed_cohort_age = [(cohort, [int(n) for n in cohort.replace('+', '').split('-')]) for cohort in rivm['Cohort'].unique() if cohort[0].isdigit()]\n",
    "  assumed_cohort_age = { cohort: min(rng) + 5 for cohort, rng in assumed_cohort_age }\n",
    "  rivm['Gemiddelde leeftijd'] = rivm['Cohort'].apply(lambda x: assumed_cohort_age.get(x, np.nan))\n",
    "\n",
    "  # verwijder tijd\n",
    "  rivm['Date_file_date'] = pd.to_datetime(rivm['Date_file'].replace(r' .*', '', regex=True))\n",
    "\n",
    "  rivm['Date_statistics_date'] = pd.to_datetime(rivm['Date_statistics'])\n",
    "\n",
    "  # weken terug = verschil tussen Date_file en Date_statistcs, gedeeld door 7 dagen\n",
    "  rivm['Weken terug'] = np.floor((rivm['Date_file_date'] - rivm['Date_statistics_date'])/np.timedelta64(7, 'D')).astype(int)\n",
    "\n",
    "  # voeg key, gem leeftijd, kleurnummer en totaal toe\n",
    "  Date_file = rivm['Date_file_date'].unique()[0].astype('M8[D]').astype('O')\n",
    "  cohorten = list(bevolking.index) + ['Onbekend']\n",
    "  def summarize(df, category, prefix):\n",
    "    # aangezien we hier de dataframe in-place wijzigen (bijv door toevoegen kolommen)\n",
    "    # en we het 'rivm' frame later nog clean nodig hebben\n",
    "    df = df.copy(deep=True)\n",
    "\n",
    "    df = (df\n",
    "          .groupby(['Weken terug', 'Cohort'])['count']\n",
    "          .sum()\n",
    "          .unstack(fill_value=np.nan)\n",
    "          .reset_index()\n",
    "          .rename_axis(None, axis=1)\n",
    "        ).merge(df\n",
    "          # we voegen hier gemiddelde leeftijd toe, want die willen we op een ander\n",
    "          # niveau aggregeren voor 'df' overschreven word\n",
    "          .groupby(['Weken terug'])['Gemiddelde leeftijd']\n",
    "          .mean()\n",
    "          .to_frame(), on='Weken terug'\n",
    "        )\n",
    "\n",
    "    # altijd 52 rijen\n",
    "    df = pd.Series(np.arange(52), name='Weken terug').to_frame().merge(df, how='left', on='Weken terug')\n",
    "\n",
    "    # toevoegen missende cohorten\n",
    "    for col in cohorten:\n",
    "      if not col in df:\n",
    "        df[col] = np.nan\n",
    "\n",
    "    # sommeer per rij (axis=1) over de cohorten om een totaal te krijgen\n",
    "    df['Totaal'] = df[cohorten].sum(axis=1)\n",
    "\n",
    "    # voeg periode en datum toe\n",
    "    # periode afgeleid van weken-terug (= de index voor deze dataframe)\n",
    "    df['Datum'] = pd.to_datetime(Date_file)\n",
    "    df['Periode'] = (df\n",
    "      .index.to_series()\n",
    "      .apply(\n",
    "        lambda x: (\n",
    "          (Date_file + datetime.timedelta(weeks=-(x+1), days=1)).strftime('%d/%m')\n",
    "          + '-'\n",
    "          + (Date_file + datetime.timedelta(weeks=-x)).strftime('%d/%m')\n",
    "        )\n",
    "      )\n",
    "    )\n",
    "\n",
    "    # voeg 'Key' en 'Type' kolom toe. Variabele 'type' kan niet, is een language primitive.\n",
    "    df['Key'] = prefix + df.index.astype(str).str.rjust(3, fillchar='0')\n",
    "    df['Type'] = category\n",
    "\n",
    "    # voeg de kleur kolommen toe\n",
    "    for col in cohorten:\n",
    "      df['c' + col] = ((df[col] / df[[col for col in cohorten]].max(axis=1)) * 1000).fillna(0).astype(int)\n",
    "\n",
    "    # herschikken van de kolommen\n",
    "    colorder = ['Key', 'Weken terug', 'Datum', 'Periode', 'Gemiddelde leeftijd', 'Totaal', 'Type']\n",
    "    return df[colorder + [col for col in df if col not in colorder]]\n",
    "\n",
    "  factor = bevolking.to_dict()['per 100k']\n",
    "  global tabel\n",
    "  tabel = pd.concat(\n",
    "    # flatten the result list zodat pd.concat ze onder elkaar kan plakken\n",
    "    functools.reduce(lambda a, b: a + b, [\n",
    "      [summarize(df.assign(count=1), label, prefix), summarize(df.assign(count=df['Cohort'].apply(lambda x: factor.get(x, np.nan))), label + ' per 100.000', prefix + '100k')]\n",
    "      for df, label, prefix in [\n",
    "        (rivm, 'Positief getest', 'p'), # volledige count per cohort\n",
    "        (rivm[rivm.Hospital_admission == 'Yes'], 'Ziekenhuisopname', 'h'), # count van cohort voor Hospital_admission == 'Yes'\n",
    "        (rivm[rivm.Deceased == 'Yes'], 'Overleden', 'd'), # count van cohort voor Deceased == 'Yes'\n",
    "      ]\n",
    "    ])\n",
    "  )\n",
    "\n",
    "  # rood -> groen\n",
    "  cdict = {\n",
    "    'red':   ((0.0, 0.0, 0.0),   # no red at 0\n",
    "              (0.5, 1.0, 1.0),   # all channels set to 1.0 at 0.5 to create white\n",
    "              (1.0, 0.8, 0.8)),  # set to 0.8 so its not too bright at 1\n",
    "    'green': ((0.0, 0.8, 0.8),   # set to 0.8 so its not too bright at 0\n",
    "              (0.5, 1.0, 1.0),   # all channels set to 1.0 at 0.5 to create white\n",
    "              (1.0, 0.0, 0.0)),  # no green at 1\n",
    "    'blue':  ((0.0, 0.0, 0.0),   # no blue at 0\n",
    "              (0.5, 1.0, 1.0),   # all channels set to 1.0 at 0.5 to create white\n",
    "              (1.0, 0.0, 0.0))   # no blue at 1\n",
    "  }\n",
    "  cm = colors.LinearSegmentedColormap('GnRd', cdict)\n",
    "  # geel -> paars\n",
    "  cm = sns.color_palette('viridis_r', as_cmap=True)\n",
    "  display(tabel\n",
    "    .fillna(0)\n",
    "    .head()\n",
    "    .round(1)\n",
    "    .reset_index(drop=True)\n",
    "    .style.background_gradient(cmap=cm, axis=1, subset=cohorten)\n",
    "  )"
   ]
  },
  {
   "cell_type": "code",
   "execution_count": 5,
   "id": "3b96a5a7",
   "metadata": {
    "execution": {
     "iopub.execute_input": "2021-11-15T14:38:17.609149Z",
     "iopub.status.busy": "2021-11-15T14:38:17.608650Z",
     "iopub.status.idle": "2021-11-15T14:39:05.324963Z",
     "shell.execute_reply": "2021-11-15T14:39:05.325363Z"
    },
    "papermill": {
     "duration": 47.736797,
     "end_time": "2021-11-15T14:39:05.325505",
     "exception": false,
     "start_time": "2021-11-15T14:38:17.588708",
     "status": "completed"
    },
    "tags": [],
    "title": "publish"
   },
   "outputs": [
    {
     "name": "stdout",
     "output_type": "stream",
     "text": [
      "infinities:\n"
     ]
    },
    {
     "name": "stdout",
     "output_type": "stream",
     "text": [
      "Empty DataFrame\n",
      "Columns: []\n",
      "Index: []\n"
     ]
    },
    {
     "name": "stdout",
     "output_type": "stream",
     "text": [
      "nan:\n"
     ]
    },
    {
     "name": "stdout",
     "output_type": "stream",
     "text": [
      "Empty DataFrame\n",
      "Columns: []\n",
      "Index: []\n"
     ]
    },
    {
     "name": "stdout",
     "output_type": "stream",
     "text": [
      "Key                     object\n",
      "Weken terug              int64\n",
      "Datum                   object\n",
      "Periode                 object\n",
      "Gemiddelde leeftijd    float64\n",
      "Totaal                 float64\n",
      "Type                    object\n",
      "0-9                    float64\n",
      "10-19                  float64\n",
      "20-29                  float64\n",
      "30-39                  float64\n",
      "40-49                  float64\n",
      "50-59                  float64\n",
      "60-69                  float64\n",
      "70-79                  float64\n",
      "80-89                  float64\n",
      "90+                    float64\n",
      "Onbekend               float64\n",
      "c0-9                     int64\n",
      "c10-19                   int64\n",
      "c20-29                   int64\n",
      "c30-39                   int64\n",
      "c40-49                   int64\n",
      "c50-59                   int64\n",
      "c60-69                   int64\n",
      "c70-79                   int64\n",
      "c80-89                   int64\n",
      "c90+                     int64\n",
      "cOnbekend                int64\n",
      "dtype: object\n",
      "updating knack\n"
     ]
    },
    {
     "name": "stdout",
     "output_type": "stream",
     "text": [
      "updating: [{'Key': 1, 'Updating Leeftijdsgroep': 'true'}]\n"
     ]
    },
    {
     "name": "stdout",
     "output_type": "stream",
     "text": [
      "restored LaatsteUpdate from hash\n"
     ]
    },
    {
     "name": "stdout",
     "output_type": "stream",
     "text": [
      "Key                         int64\n",
      "Updating Leeftijdsgroep    object\n",
      "dtype: object\n"
     ]
    },
    {
     "name": "stderr",
     "output_type": "stream",
     "text": [
      "\r",
      "  0%|          | 0/1 [00:00<?, ?it/s]"
     ]
    },
    {
     "name": "stderr",
     "output_type": "stream",
     "text": [
      "\r",
      "100%|██████████| 1/1 [00:00<00:00,  1.09it/s]"
     ]
    },
    {
     "name": "stderr",
     "output_type": "stream",
     "text": [
      "\r",
      "100%|██████████| 1/1 [00:00<00:00,  1.09it/s]"
     ]
    },
    {
     "name": "stdout",
     "output_type": "stream",
     "text": [
      "\n",
      "rate limit: 7 \n",
      "LaatsteUpdate API calls: create: 0, read: 1, update: 1, delete: 0, backoff: 0\n"
     ]
    },
    {
     "name": "stderr",
     "output_type": "stream",
     "text": [
      "\n"
     ]
    },
    {
     "name": "stdout",
     "output_type": "stream",
     "text": [
      "restored Leeftijdsgroep from hash\n"
     ]
    },
    {
     "name": "stdout",
     "output_type": "stream",
     "text": [
      "0-9                    float64\n",
      "10-19                  float64\n",
      "20-29                  float64\n",
      "30-39                  float64\n",
      "40-49                  float64\n",
      "50-59                  float64\n",
      "60-69                  float64\n",
      "70-79                  float64\n",
      "80-89                  float64\n",
      "90+                    float64\n",
      "Datum                   object\n",
      "Gemiddelde leeftijd    float64\n",
      "Key                     object\n",
      "Onbekend               float64\n",
      "Periode                 object\n",
      "Totaal                 float64\n",
      "Type                    object\n",
      "Weken terug              int64\n",
      "c0-9                     int64\n",
      "c10-19                   int64\n",
      "c20-29                   int64\n",
      "c30-39                   int64\n",
      "c40-49                   int64\n",
      "c50-59                   int64\n",
      "c60-69                   int64\n",
      "c70-79                   int64\n",
      "c80-89                   int64\n",
      "c90+                     int64\n",
      "cOnbekend                int64\n",
      "dtype: object\n"
     ]
    },
    {
     "name": "stderr",
     "output_type": "stream",
     "text": [
      "\r",
      "  0%|          | 0/145 [00:00<?, ?it/s]"
     ]
    },
    {
     "name": "stderr",
     "output_type": "stream",
     "text": [
      "\r",
      "  1%|          | 1/145 [00:00<02:19,  1.04it/s]"
     ]
    },
    {
     "name": "stderr",
     "output_type": "stream",
     "text": [
      "\r",
      "  3%|▎         | 4/145 [00:01<00:31,  4.49it/s]"
     ]
    },
    {
     "name": "stderr",
     "output_type": "stream",
     "text": [
      "\r",
      "  4%|▍         | 6/145 [00:01<00:21,  6.46it/s]"
     ]
    },
    {
     "name": "stderr",
     "output_type": "stream",
     "text": [
      "\r",
      "  6%|▌         | 8/145 [00:01<00:17,  7.85it/s]"
     ]
    },
    {
     "name": "stderr",
     "output_type": "stream",
     "text": [
      "\r",
      "  8%|▊         | 11/145 [00:02<00:21,  6.17it/s]"
     ]
    },
    {
     "name": "stderr",
     "output_type": "stream",
     "text": [
      "\r",
      "  9%|▉         | 13/145 [00:02<00:22,  5.85it/s]"
     ]
    },
    {
     "name": "stderr",
     "output_type": "stream",
     "text": [
      "\r",
      " 10%|▉         | 14/145 [00:02<00:25,  5.18it/s]"
     ]
    },
    {
     "name": "stderr",
     "output_type": "stream",
     "text": [
      "\r",
      " 10%|█         | 15/145 [00:02<00:27,  4.69it/s]"
     ]
    },
    {
     "name": "stderr",
     "output_type": "stream",
     "text": [
      "\r",
      " 12%|█▏        | 17/145 [00:03<00:24,  5.24it/s]"
     ]
    },
    {
     "name": "stderr",
     "output_type": "stream",
     "text": [
      "\r",
      " 12%|█▏        | 18/145 [00:03<00:29,  4.34it/s]"
     ]
    },
    {
     "name": "stderr",
     "output_type": "stream",
     "text": [
      "\r",
      " 14%|█▍        | 20/145 [00:03<00:25,  4.93it/s]"
     ]
    },
    {
     "name": "stderr",
     "output_type": "stream",
     "text": [
      "\r",
      " 14%|█▍        | 21/145 [00:04<00:30,  4.11it/s]"
     ]
    },
    {
     "name": "stderr",
     "output_type": "stream",
     "text": [
      "\r",
      " 16%|█▌        | 23/145 [00:04<00:22,  5.49it/s]"
     ]
    },
    {
     "name": "stderr",
     "output_type": "stream",
     "text": [
      "\r",
      " 17%|█▋        | 25/145 [00:04<00:16,  7.20it/s]"
     ]
    },
    {
     "name": "stderr",
     "output_type": "stream",
     "text": [
      "\r",
      " 19%|█▊        | 27/145 [00:04<00:17,  6.91it/s]"
     ]
    },
    {
     "name": "stderr",
     "output_type": "stream",
     "text": [
      "\r",
      " 20%|██        | 29/145 [00:05<00:16,  7.14it/s]"
     ]
    },
    {
     "name": "stderr",
     "output_type": "stream",
     "text": [
      "\r",
      " 21%|██▏       | 31/145 [00:05<00:14,  8.00it/s]"
     ]
    },
    {
     "name": "stderr",
     "output_type": "stream",
     "text": [
      "\r",
      " 23%|██▎       | 33/145 [00:05<00:11,  9.60it/s]"
     ]
    },
    {
     "name": "stderr",
     "output_type": "stream",
     "text": [
      "\r",
      " 24%|██▍       | 35/145 [00:06<00:16,  6.86it/s]"
     ]
    },
    {
     "name": "stderr",
     "output_type": "stream",
     "text": [
      "\r",
      " 26%|██▌       | 37/145 [00:06<00:17,  6.31it/s]"
     ]
    },
    {
     "name": "stderr",
     "output_type": "stream",
     "text": [
      "\r",
      " 26%|██▌       | 38/145 [00:06<00:18,  5.79it/s]"
     ]
    },
    {
     "name": "stderr",
     "output_type": "stream",
     "text": [
      "\r",
      " 27%|██▋       | 39/145 [00:06<00:17,  6.01it/s]"
     ]
    },
    {
     "name": "stderr",
     "output_type": "stream",
     "text": [
      "\r",
      " 28%|██▊       | 40/145 [00:06<00:18,  5.76it/s]"
     ]
    },
    {
     "name": "stderr",
     "output_type": "stream",
     "text": [
      "\r",
      " 29%|██▉       | 42/145 [00:07<00:14,  6.97it/s]"
     ]
    },
    {
     "name": "stderr",
     "output_type": "stream",
     "text": [
      "\r",
      " 30%|███       | 44/145 [00:07<00:17,  5.85it/s]"
     ]
    },
    {
     "name": "stderr",
     "output_type": "stream",
     "text": [
      "\r",
      " 31%|███       | 45/145 [00:07<00:16,  6.22it/s]"
     ]
    },
    {
     "name": "stderr",
     "output_type": "stream",
     "text": [
      "\r",
      " 32%|███▏      | 47/145 [00:08<00:15,  6.18it/s]"
     ]
    },
    {
     "name": "stderr",
     "output_type": "stream",
     "text": [
      "\r",
      " 34%|███▍      | 49/145 [00:08<00:13,  7.37it/s]"
     ]
    },
    {
     "name": "stderr",
     "output_type": "stream",
     "text": [
      "\r",
      " 34%|███▍      | 50/145 [00:08<00:14,  6.73it/s]"
     ]
    },
    {
     "name": "stderr",
     "output_type": "stream",
     "text": [
      "\r",
      " 37%|███▋      | 53/145 [00:08<00:10,  8.49it/s]"
     ]
    },
    {
     "name": "stderr",
     "output_type": "stream",
     "text": [
      "\r",
      " 38%|███▊      | 55/145 [00:08<00:09,  9.58it/s]"
     ]
    },
    {
     "name": "stderr",
     "output_type": "stream",
     "text": [
      "\r",
      " 39%|███▉      | 57/145 [00:09<00:11,  7.73it/s]"
     ]
    },
    {
     "name": "stderr",
     "output_type": "stream",
     "text": [
      "\r",
      " 40%|████      | 58/145 [00:09<00:14,  5.99it/s]"
     ]
    },
    {
     "name": "stderr",
     "output_type": "stream",
     "text": [
      "\r",
      " 41%|████▏     | 60/145 [00:09<00:11,  7.36it/s]"
     ]
    },
    {
     "name": "stderr",
     "output_type": "stream",
     "text": [
      "\r",
      " 42%|████▏     | 61/145 [00:09<00:12,  6.98it/s]"
     ]
    },
    {
     "name": "stderr",
     "output_type": "stream",
     "text": [
      "\r",
      " 43%|████▎     | 62/145 [00:10<00:14,  5.70it/s]"
     ]
    },
    {
     "name": "stderr",
     "output_type": "stream",
     "text": [
      "\r",
      " 43%|████▎     | 63/145 [00:10<00:13,  5.88it/s]"
     ]
    },
    {
     "name": "stderr",
     "output_type": "stream",
     "text": [
      "\r",
      " 44%|████▍     | 64/145 [00:10<00:12,  6.33it/s]"
     ]
    },
    {
     "name": "stderr",
     "output_type": "stream",
     "text": [
      "\r",
      " 45%|████▍     | 65/145 [00:10<00:12,  6.64it/s]"
     ]
    },
    {
     "name": "stderr",
     "output_type": "stream",
     "text": [
      "\r",
      " 46%|████▌     | 66/145 [00:10<00:16,  4.81it/s]"
     ]
    },
    {
     "name": "stderr",
     "output_type": "stream",
     "text": [
      "\r",
      " 47%|████▋     | 68/145 [00:11<00:11,  6.85it/s]"
     ]
    },
    {
     "name": "stderr",
     "output_type": "stream",
     "text": [
      "\r",
      " 48%|████▊     | 69/145 [00:11<00:10,  6.91it/s]"
     ]
    },
    {
     "name": "stderr",
     "output_type": "stream",
     "text": [
      "\r",
      " 48%|████▊     | 70/145 [00:11<00:10,  7.23it/s]"
     ]
    },
    {
     "name": "stderr",
     "output_type": "stream",
     "text": [
      "\r",
      " 49%|████▉     | 71/145 [00:11<00:10,  7.00it/s]"
     ]
    },
    {
     "name": "stderr",
     "output_type": "stream",
     "text": [
      "\r",
      " 50%|█████     | 73/145 [00:11<00:07,  9.29it/s]"
     ]
    },
    {
     "name": "stderr",
     "output_type": "stream",
     "text": [
      "\r",
      " 52%|█████▏    | 75/145 [00:11<00:08,  7.89it/s]"
     ]
    },
    {
     "name": "stderr",
     "output_type": "stream",
     "text": [
      "\r",
      " 52%|█████▏    | 76/145 [00:12<00:10,  6.84it/s]"
     ]
    },
    {
     "name": "stderr",
     "output_type": "stream",
     "text": [
      "\r",
      " 54%|█████▍    | 79/145 [00:12<00:07,  9.03it/s]"
     ]
    },
    {
     "name": "stderr",
     "output_type": "stream",
     "text": [
      "\r",
      " 55%|█████▌    | 80/145 [00:12<00:07,  8.78it/s]"
     ]
    },
    {
     "name": "stderr",
     "output_type": "stream",
     "text": [
      "\r",
      " 57%|█████▋    | 82/145 [00:12<00:06,  9.53it/s]"
     ]
    },
    {
     "name": "stderr",
     "output_type": "stream",
     "text": [
      "\r",
      " 57%|█████▋    | 83/145 [00:12<00:07,  8.83it/s]"
     ]
    },
    {
     "name": "stderr",
     "output_type": "stream",
     "text": [
      "\r",
      " 58%|█████▊    | 84/145 [00:12<00:07,  8.04it/s]"
     ]
    },
    {
     "name": "stderr",
     "output_type": "stream",
     "text": [
      "\r",
      " 59%|█████▊    | 85/145 [00:13<00:09,  6.02it/s]"
     ]
    },
    {
     "name": "stderr",
     "output_type": "stream",
     "text": [
      "\r",
      " 60%|██████    | 87/145 [00:13<00:09,  6.27it/s]"
     ]
    },
    {
     "name": "stderr",
     "output_type": "stream",
     "text": [
      "\r",
      " 61%|██████    | 88/145 [00:13<00:09,  5.85it/s]"
     ]
    },
    {
     "name": "stderr",
     "output_type": "stream",
     "text": [
      "\r",
      " 61%|██████▏   | 89/145 [00:13<00:09,  6.19it/s]"
     ]
    },
    {
     "name": "stderr",
     "output_type": "stream",
     "text": [
      "\r",
      " 63%|██████▎   | 91/145 [00:14<00:07,  7.38it/s]"
     ]
    },
    {
     "name": "stderr",
     "output_type": "stream",
     "text": [
      "\r",
      " 63%|██████▎   | 92/145 [00:14<00:08,  6.52it/s]"
     ]
    },
    {
     "name": "stderr",
     "output_type": "stream",
     "text": [
      "\r",
      " 65%|██████▍   | 94/145 [00:14<00:06,  8.33it/s]"
     ]
    },
    {
     "name": "stderr",
     "output_type": "stream",
     "text": [
      "\r",
      " 66%|██████▌   | 96/145 [00:15<00:08,  5.49it/s]"
     ]
    },
    {
     "name": "stderr",
     "output_type": "stream",
     "text": [
      "\r",
      " 67%|██████▋   | 97/145 [00:15<00:08,  5.61it/s]"
     ]
    },
    {
     "name": "stderr",
     "output_type": "stream",
     "text": [
      "\r",
      " 68%|██████▊   | 99/145 [00:15<00:06,  7.45it/s]"
     ]
    },
    {
     "name": "stderr",
     "output_type": "stream",
     "text": [
      "\r",
      " 69%|██████▉   | 100/145 [00:15<00:06,  6.79it/s]"
     ]
    },
    {
     "name": "stderr",
     "output_type": "stream",
     "text": [
      "\r",
      " 71%|███████   | 103/145 [00:15<00:04, 10.34it/s]"
     ]
    },
    {
     "name": "stderr",
     "output_type": "stream",
     "text": [
      "\r",
      " 72%|███████▏  | 105/145 [00:16<00:05,  6.93it/s]"
     ]
    },
    {
     "name": "stderr",
     "output_type": "stream",
     "text": [
      "\r",
      " 74%|███████▍  | 107/145 [00:16<00:05,  6.62it/s]"
     ]
    },
    {
     "name": "stderr",
     "output_type": "stream",
     "text": [
      "\r",
      " 74%|███████▍  | 108/145 [00:16<00:05,  6.48it/s]"
     ]
    },
    {
     "name": "stderr",
     "output_type": "stream",
     "text": [
      "\r",
      " 75%|███████▌  | 109/145 [00:16<00:05,  6.03it/s]"
     ]
    },
    {
     "name": "stderr",
     "output_type": "stream",
     "text": [
      "\r",
      " 76%|███████▌  | 110/145 [00:17<00:05,  5.85it/s]"
     ]
    },
    {
     "name": "stderr",
     "output_type": "stream",
     "text": [
      "\r",
      " 77%|███████▋  | 112/145 [00:17<00:07,  4.59it/s]"
     ]
    },
    {
     "name": "stderr",
     "output_type": "stream",
     "text": [
      "\r",
      " 79%|███████▊  | 114/145 [00:17<00:06,  5.00it/s]"
     ]
    },
    {
     "name": "stderr",
     "output_type": "stream",
     "text": [
      "\r",
      " 81%|████████  | 117/145 [00:18<00:04,  6.58it/s]"
     ]
    },
    {
     "name": "stderr",
     "output_type": "stream",
     "text": [
      "\r",
      " 82%|████████▏ | 119/145 [00:18<00:03,  7.08it/s]"
     ]
    },
    {
     "name": "stderr",
     "output_type": "stream",
     "text": [
      "\r",
      " 83%|████████▎ | 121/145 [00:18<00:03,  7.24it/s]"
     ]
    },
    {
     "name": "stderr",
     "output_type": "stream",
     "text": [
      "\r",
      " 85%|████████▍ | 123/145 [00:18<00:02,  7.88it/s]"
     ]
    },
    {
     "name": "stderr",
     "output_type": "stream",
     "text": [
      "\r",
      " 86%|████████▌ | 124/145 [00:19<00:02,  7.19it/s]"
     ]
    },
    {
     "name": "stderr",
     "output_type": "stream",
     "text": [
      "\r",
      " 86%|████████▌ | 125/145 [00:19<00:03,  6.55it/s]"
     ]
    },
    {
     "name": "stderr",
     "output_type": "stream",
     "text": [
      "\r",
      " 87%|████████▋ | 126/145 [00:19<00:02,  6.42it/s]"
     ]
    },
    {
     "name": "stderr",
     "output_type": "stream",
     "text": [
      "\r",
      " 88%|████████▊ | 128/145 [00:19<00:02,  6.53it/s]"
     ]
    },
    {
     "name": "stderr",
     "output_type": "stream",
     "text": [
      "\r",
      " 90%|████████▉ | 130/145 [00:19<00:01,  8.38it/s]"
     ]
    },
    {
     "name": "stderr",
     "output_type": "stream",
     "text": [
      "\r",
      " 91%|█████████ | 132/145 [00:20<00:01, 10.02it/s]"
     ]
    },
    {
     "name": "stderr",
     "output_type": "stream",
     "text": [
      "\r",
      " 92%|█████████▏| 134/145 [00:20<00:01,  7.51it/s]"
     ]
    },
    {
     "name": "stderr",
     "output_type": "stream",
     "text": [
      "\r",
      " 93%|█████████▎| 135/145 [00:20<00:01,  7.01it/s]"
     ]
    },
    {
     "name": "stderr",
     "output_type": "stream",
     "text": [
      "\r",
      " 94%|█████████▍| 137/145 [00:20<00:01,  7.82it/s]"
     ]
    },
    {
     "name": "stderr",
     "output_type": "stream",
     "text": [
      "\r",
      " 95%|█████████▌| 138/145 [00:20<00:00,  7.45it/s]"
     ]
    },
    {
     "name": "stderr",
     "output_type": "stream",
     "text": [
      "\r",
      " 96%|█████████▌| 139/145 [00:21<00:00,  7.88it/s]"
     ]
    },
    {
     "name": "stderr",
     "output_type": "stream",
     "text": [
      "\r",
      " 97%|█████████▋| 140/145 [00:21<00:00,  5.26it/s]"
     ]
    },
    {
     "name": "stderr",
     "output_type": "stream",
     "text": [
      "\r",
      " 98%|█████████▊| 142/145 [00:21<00:00,  7.37it/s]"
     ]
    },
    {
     "name": "stderr",
     "output_type": "stream",
     "text": [
      "\r",
      " 99%|█████████▉| 144/145 [00:23<00:00,  2.40it/s]"
     ]
    },
    {
     "name": "stderr",
     "output_type": "stream",
     "text": [
      "\r",
      "100%|██████████| 145/145 [00:37<00:00,  3.19s/it]"
     ]
    },
    {
     "name": "stderr",
     "output_type": "stream",
     "text": [
      "\r",
      "100%|██████████| 145/145 [00:37<00:00,  3.91it/s]"
     ]
    },
    {
     "name": "stdout",
     "output_type": "stream",
     "text": [
      "\n",
      "rate limit: 7 \n",
      "Leeftijdsgroep API calls: create: 0, read: 1, update: 145, delete: 0, backoff: 4\n",
      "errors:\n",
      "  503: Service Unavailable: 2\n"
     ]
    },
    {
     "name": "stdout",
     "output_type": "stream",
     "text": [
      "[{'Key': 1, 'Timestamp Leeftijdsgroep RIVM': '2021-11-15 15:15'}]\n"
     ]
    },
    {
     "name": "stderr",
     "output_type": "stream",
     "text": [
      "\n"
     ]
    },
    {
     "name": "stdout",
     "output_type": "stream",
     "text": [
      "timestamps: [{'Key': 1, 'Timestamp Leeftijdsgroep RIVM': '2021-11-15 15:15'}]\n",
      "Key                               int64\n",
      "Timestamp Leeftijdsgroep RIVM    object\n",
      "dtype: object\n"
     ]
    },
    {
     "name": "stderr",
     "output_type": "stream",
     "text": [
      "\r",
      "  0%|          | 0/1 [00:00<?, ?it/s]"
     ]
    },
    {
     "name": "stderr",
     "output_type": "stream",
     "text": [
      "\r",
      "100%|██████████| 1/1 [00:00<00:00,  1.14it/s]"
     ]
    },
    {
     "name": "stderr",
     "output_type": "stream",
     "text": [
      "\r",
      "100%|██████████| 1/1 [00:00<00:00,  1.13it/s]"
     ]
    },
    {
     "name": "stdout",
     "output_type": "stream",
     "text": [
      "\n",
      "rate limit: 7 \n",
      "LaatsteUpdate API calls: create: 0, read: 0, update: 1, delete: 0, backoff: 0\n"
     ]
    },
    {
     "name": "stderr",
     "output_type": "stream",
     "text": [
      "\n"
     ]
    },
    {
     "name": "stdout",
     "output_type": "stream",
     "text": [
      "BatchName     object\n",
      "ObjectName    object\n",
      "Source        object\n",
      "Timestamp     object\n",
      "dtype: object\n"
     ]
    },
    {
     "name": "stderr",
     "output_type": "stream",
     "text": [
      "\r",
      "  0%|          | 0/1 [00:00<?, ?it/s]"
     ]
    },
    {
     "name": "stderr",
     "output_type": "stream",
     "text": [
      "\r",
      "100%|██████████| 1/1 [00:02<00:00,  2.63s/it]"
     ]
    },
    {
     "name": "stderr",
     "output_type": "stream",
     "text": [
      "\r",
      "100%|██████████| 1/1 [00:02<00:00,  2.64s/it]"
     ]
    },
    {
     "name": "stdout",
     "output_type": "stream",
     "text": [
      "\n",
      "rate limit: 7 \n",
      "UpdateDetails API calls: create: 1, read: 0, update: 0, delete: 0, backoff: 0\n"
     ]
    },
    {
     "name": "stderr",
     "output_type": "stream",
     "text": [
      "\n"
     ]
    },
    {
     "name": "stdout",
     "output_type": "stream",
     "text": [
      "updating: [{'Key': 1, 'Updating Leeftijdsgroep': 'false'}]\n",
      "Key                         int64\n",
      "Updating Leeftijdsgroep    object\n",
      "dtype: object\n"
     ]
    },
    {
     "name": "stderr",
     "output_type": "stream",
     "text": [
      "\r",
      "  0%|          | 0/1 [00:00<?, ?it/s]"
     ]
    },
    {
     "name": "stderr",
     "output_type": "stream",
     "text": [
      "\r",
      "100%|██████████| 1/1 [00:01<00:00,  1.01s/it]"
     ]
    },
    {
     "name": "stderr",
     "output_type": "stream",
     "text": [
      "\r",
      "100%|██████████| 1/1 [00:01<00:00,  1.01s/it]"
     ]
    },
    {
     "name": "stdout",
     "output_type": "stream",
     "text": [
      "\n",
      "rate limit: 7 \n",
      "LaatsteUpdate API calls: create: 0, read: 0, update: 1, delete: 0, backoff: 0\n"
     ]
    },
    {
     "name": "stderr",
     "output_type": "stream",
     "text": [
      "\n"
     ]
    }
   ],
   "source": [
    "if knack:\n",
    "  await knack.publish(tabel.fillna(0).assign(Datum=tabel.Datum.dt.strftime('%Y-%m-%d')), 'Leeftijdsgroep', Cache)"
   ]
  }
 ],
 "metadata": {
  "jupytext": {
   "cell_metadata_filter": "title,-all"
  },
  "kernelspec": {
   "display_name": "Python 3 (ipykernel)",
   "language": "python",
   "name": "python3"
  },
  "language_info": {
   "codemirror_mode": {
    "name": "ipython",
    "version": 3
   },
   "file_extension": ".py",
   "mimetype": "text/x-python",
   "name": "python",
   "nbconvert_exporter": "python",
   "pygments_lexer": "ipython3",
   "version": "3.9.8"
  },
  "papermill": {
   "default_parameters": {},
   "duration": 447.516331,
   "end_time": "2021-11-15T14:39:05.845513",
   "environment_variables": {},
   "exception": null,
   "input_path": "-",
   "output_path": "LeeftijdsgroepenLandelijk.ipynb",
   "parameters": {},
   "start_time": "2021-11-15T14:31:38.329182",
   "version": "2.3.3"
  }
 },
 "nbformat": 4,
 "nbformat_minor": 5
}