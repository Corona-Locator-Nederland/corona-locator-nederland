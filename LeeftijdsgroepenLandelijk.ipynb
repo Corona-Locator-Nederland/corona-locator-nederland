{
 "cells": [
  {
   "cell_type": "code",
   "execution_count": 1,
   "id": "e77dc57c",
   "metadata": {
    "execution": {
     "iopub.execute_input": "2021-10-21T13:30:16.754546Z",
     "iopub.status.busy": "2021-10-21T13:30:16.752817Z",
     "iopub.status.idle": "2021-10-21T13:30:20.582561Z",
     "shell.execute_reply": "2021-10-21T13:30:20.582045Z"
    },
    "lines_to_next_cell": 1,
    "papermill": {
     "duration": 3.850816,
     "end_time": "2021-10-21T13:30:20.582687",
     "exception": false,
     "start_time": "2021-10-21T13:30:16.731871",
     "status": "completed"
    },
    "tags": []
   },
   "outputs": [],
   "source": [
    "from IPython import get_ipython\n",
    "from IPython.core.display import display\n",
    "get_ipython().run_line_magic('load_ext', 'autoreload')\n",
    "get_ipython().run_line_magic('autoreload', '2')\n",
    "get_ipython().run_line_magic('run', 'setup')"
   ]
  },
  {
   "cell_type": "code",
   "execution_count": 2,
   "id": "aa4e7ecb",
   "metadata": {
    "execution": {
     "iopub.execute_input": "2021-10-21T13:30:20.608637Z",
     "iopub.status.busy": "2021-10-21T13:30:20.608213Z",
     "iopub.status.idle": "2021-10-21T13:34:26.152858Z",
     "shell.execute_reply": "2021-10-21T13:34:26.152398Z"
    },
    "lines_to_next_cell": 1,
    "papermill": {
     "duration": 245.559118,
     "end_time": "2021-10-21T13:34:26.152993",
     "exception": false,
     "start_time": "2021-10-21T13:30:20.593875",
     "status": "completed"
    },
    "tags": [],
    "title": "leeftijdsgroepen: download RIVM data"
   },
   "outputs": [
    {
     "name": "stdout",
     "output_type": "stream",
     "text": [
      "downloading rivm/COVID-19_casus_landelijk-2021-10-21@13-15.csv\n"
     ]
    },
    {
     "name": "stdout",
     "output_type": "stream",
     "text": [
      "rivm COVID-19_casus_landelijk zipping rivm/COVID-19_casus_landelijk-2021-10-21@13-15.csv\n"
     ]
    },
    {
     "name": "stdout",
     "output_type": "stream",
     "text": [
      "loading rivm/COVID-19_casus_landelijk-2021-10-21@13-15.csv.gz\n"
     ]
    },
    {
     "data": {
      "text/html": [
       "<div>\n",
       "<style scoped>\n",
       "    .dataframe tbody tr th:only-of-type {\n",
       "        vertical-align: middle;\n",
       "    }\n",
       "\n",
       "    .dataframe tbody tr th {\n",
       "        vertical-align: top;\n",
       "    }\n",
       "\n",
       "    .dataframe thead th {\n",
       "        text-align: right;\n",
       "    }\n",
       "</style>\n",
       "<table border=\"1\" class=\"dataframe\">\n",
       "  <thead>\n",
       "    <tr style=\"text-align: right;\">\n",
       "      <th></th>\n",
       "      <th>Date_file</th>\n",
       "      <th>Date_statistics</th>\n",
       "      <th>Date_statistics_type</th>\n",
       "      <th>Agegroup</th>\n",
       "      <th>Sex</th>\n",
       "      <th>Province</th>\n",
       "      <th>Hospital_admission</th>\n",
       "      <th>Deceased</th>\n",
       "      <th>Week_of_death</th>\n",
       "      <th>Municipal_health_service</th>\n",
       "    </tr>\n",
       "  </thead>\n",
       "  <tbody>\n",
       "    <tr>\n",
       "      <th>0</th>\n",
       "      <td>2021-10-21 10:00:00</td>\n",
       "      <td>2020-01-01</td>\n",
       "      <td>DOO</td>\n",
       "      <td>40-49</td>\n",
       "      <td>Female</td>\n",
       "      <td>Noord-Holland</td>\n",
       "      <td>No</td>\n",
       "      <td>No</td>\n",
       "      <td>NaN</td>\n",
       "      <td>GGD Amsterdam</td>\n",
       "    </tr>\n",
       "    <tr>\n",
       "      <th>1</th>\n",
       "      <td>2021-10-21 10:00:00</td>\n",
       "      <td>2020-01-01</td>\n",
       "      <td>DOO</td>\n",
       "      <td>50-59</td>\n",
       "      <td>Male</td>\n",
       "      <td>Gelderland</td>\n",
       "      <td>No</td>\n",
       "      <td>No</td>\n",
       "      <td>NaN</td>\n",
       "      <td>Veiligheids- en Gezondheidsregio Gelderland-Mi...</td>\n",
       "    </tr>\n",
       "    <tr>\n",
       "      <th>2</th>\n",
       "      <td>2021-10-21 10:00:00</td>\n",
       "      <td>2020-01-01</td>\n",
       "      <td>DOO</td>\n",
       "      <td>20-29</td>\n",
       "      <td>Female</td>\n",
       "      <td>Zuid-Holland</td>\n",
       "      <td>No</td>\n",
       "      <td>No</td>\n",
       "      <td>NaN</td>\n",
       "      <td>GGD Hollands-Midden</td>\n",
       "    </tr>\n",
       "    <tr>\n",
       "      <th>3</th>\n",
       "      <td>2021-10-21 10:00:00</td>\n",
       "      <td>2020-01-01</td>\n",
       "      <td>DOO</td>\n",
       "      <td>60-69</td>\n",
       "      <td>Female</td>\n",
       "      <td>Noord-Holland</td>\n",
       "      <td>No</td>\n",
       "      <td>No</td>\n",
       "      <td>NaN</td>\n",
       "      <td>GGD Hollands-Noorden</td>\n",
       "    </tr>\n",
       "    <tr>\n",
       "      <th>4</th>\n",
       "      <td>2021-10-21 10:00:00</td>\n",
       "      <td>2020-01-04</td>\n",
       "      <td>DOO</td>\n",
       "      <td>10-19</td>\n",
       "      <td>Female</td>\n",
       "      <td>Gelderland</td>\n",
       "      <td>Unknown</td>\n",
       "      <td>No</td>\n",
       "      <td>NaN</td>\n",
       "      <td>GGD Gelderland-Zuid</td>\n",
       "    </tr>\n",
       "  </tbody>\n",
       "</table>\n",
       "</div>"
      ],
      "text/plain": [
       "             Date_file Date_statistics Date_statistics_type Agegroup     Sex  \\\n",
       "0  2021-10-21 10:00:00      2020-01-01                  DOO    40-49  Female   \n",
       "1  2021-10-21 10:00:00      2020-01-01                  DOO    50-59    Male   \n",
       "2  2021-10-21 10:00:00      2020-01-01                  DOO    20-29  Female   \n",
       "3  2021-10-21 10:00:00      2020-01-01                  DOO    60-69  Female   \n",
       "4  2021-10-21 10:00:00      2020-01-04                  DOO    10-19  Female   \n",
       "\n",
       "        Province Hospital_admission Deceased  Week_of_death  \\\n",
       "0  Noord-Holland                 No       No            NaN   \n",
       "1     Gelderland                 No       No            NaN   \n",
       "2   Zuid-Holland                 No       No            NaN   \n",
       "3  Noord-Holland                 No       No            NaN   \n",
       "4     Gelderland            Unknown       No            NaN   \n",
       "\n",
       "                            Municipal_health_service  \n",
       "0                                      GGD Amsterdam  \n",
       "1  Veiligheids- en Gezondheidsregio Gelderland-Mi...  \n",
       "2                                GGD Hollands-Midden  \n",
       "3                               GGD Hollands-Noorden  \n",
       "4                                GGD Gelderland-Zuid  "
      ]
     },
     "metadata": {},
     "output_type": "display_data"
    }
   ],
   "source": [
    "#leeftijdsgroepen = SimpleNamespace()\n",
    "@run\n",
    "def cell():\n",
    "  global rivm\n",
    "  rivm = RIVM.csv('COVID-19_casus_landelijk')\n",
    "  display(rivm.head())"
   ]
  },
  {
   "cell_type": "code",
   "execution_count": 3,
   "id": "457474fc",
   "metadata": {
    "execution": {
     "iopub.execute_input": "2021-10-21T13:34:26.189142Z",
     "iopub.status.busy": "2021-10-21T13:34:26.188675Z",
     "iopub.status.idle": "2021-10-21T13:34:28.954036Z",
     "shell.execute_reply": "2021-10-21T13:34:28.953545Z"
    },
    "lines_to_next_cell": 1,
    "papermill": {
     "duration": 2.78489,
     "end_time": "2021-10-21T13:34:28.954175",
     "exception": false,
     "start_time": "2021-10-21T13:34:26.169285",
     "status": "completed"
    },
    "tags": [],
    "title": "Download de bevolkings cijfers van CBS, uitgesplitst op de leeftijds categorien in de dataset van het RIVM"
   },
   "outputs": [],
   "source": [
    "@run\n",
    "def cell():\n",
    "  global bevolking\n",
    "  bevolking = CBS.bevolking(leeftijdsgroepen=True)"
   ]
  },
  {
   "cell_type": "code",
   "execution_count": 4,
   "id": "cfae84bb",
   "metadata": {
    "execution": {
     "iopub.execute_input": "2021-10-21T13:34:28.996816Z",
     "iopub.status.busy": "2021-10-21T13:34:28.991624Z",
     "iopub.status.idle": "2021-10-21T13:34:36.971137Z",
     "shell.execute_reply": "2021-10-21T13:34:36.970359Z"
    },
    "lines_to_next_cell": 1,
    "papermill": {
     "duration": 8.001756,
     "end_time": "2021-10-21T13:34:36.971274",
     "exception": false,
     "start_time": "2021-10-21T13:34:28.969518",
     "status": "completed"
    },
    "tags": [],
    "title": "leeftijdsgroepen: prepareer tabel"
   },
   "outputs": [
    {
     "data": {
      "text/html": [
       "<style type=\"text/css\">\n",
       "#T_9d7c7_row0_col7 {\n",
       "  background-color: #287d8e;\n",
       "  color: #f1f1f1;\n",
       "}\n",
       "#T_9d7c7_row0_col8 {\n",
       "  background-color: #450559;\n",
       "  color: #f1f1f1;\n",
       "}\n",
       "#T_9d7c7_row0_col9, #T_9d7c7_row1_col8, #T_9d7c7_row2_col8, #T_9d7c7_row3_col8, #T_9d7c7_row4_col8 {\n",
       "  background-color: #440154;\n",
       "  color: #f1f1f1;\n",
       "}\n",
       "#T_9d7c7_row0_col10 {\n",
       "  background-color: #482374;\n",
       "  color: #f1f1f1;\n",
       "}\n",
       "#T_9d7c7_row0_col11 {\n",
       "  background-color: #424186;\n",
       "  color: #f1f1f1;\n",
       "}\n",
       "#T_9d7c7_row0_col12 {\n",
       "  background-color: #38588c;\n",
       "  color: #f1f1f1;\n",
       "}\n",
       "#T_9d7c7_row0_col13, #T_9d7c7_row2_col7 {\n",
       "  background-color: #23898e;\n",
       "  color: #f1f1f1;\n",
       "}\n",
       "#T_9d7c7_row0_col14 {\n",
       "  background-color: #2db27d;\n",
       "  color: #f1f1f1;\n",
       "}\n",
       "#T_9d7c7_row0_col15 {\n",
       "  background-color: #7ad151;\n",
       "  color: #000000;\n",
       "}\n",
       "#T_9d7c7_row0_col16 {\n",
       "  background-color: #dde318;\n",
       "  color: #000000;\n",
       "}\n",
       "#T_9d7c7_row0_col17, #T_9d7c7_row1_col17, #T_9d7c7_row2_col17, #T_9d7c7_row3_col17, #T_9d7c7_row4_col17 {\n",
       "  background-color: #fde725;\n",
       "  color: #000000;\n",
       "}\n",
       "#T_9d7c7_row1_col7 {\n",
       "  background-color: #238a8d;\n",
       "  color: #f1f1f1;\n",
       "}\n",
       "#T_9d7c7_row1_col9 {\n",
       "  background-color: #471365;\n",
       "  color: #f1f1f1;\n",
       "}\n",
       "#T_9d7c7_row1_col10 {\n",
       "  background-color: #46307e;\n",
       "  color: #f1f1f1;\n",
       "}\n",
       "#T_9d7c7_row1_col11 {\n",
       "  background-color: #3c4f8a;\n",
       "  color: #f1f1f1;\n",
       "}\n",
       "#T_9d7c7_row1_col12 {\n",
       "  background-color: #31668e;\n",
       "  color: #f1f1f1;\n",
       "}\n",
       "#T_9d7c7_row1_col13 {\n",
       "  background-color: #1f988b;\n",
       "  color: #f1f1f1;\n",
       "}\n",
       "#T_9d7c7_row1_col14 {\n",
       "  background-color: #3aba76;\n",
       "  color: #f1f1f1;\n",
       "}\n",
       "#T_9d7c7_row1_col15 {\n",
       "  background-color: #a2da37;\n",
       "  color: #000000;\n",
       "}\n",
       "#T_9d7c7_row1_col16 {\n",
       "  background-color: #eae51a;\n",
       "  color: #000000;\n",
       "}\n",
       "#T_9d7c7_row2_col9 {\n",
       "  background-color: #481c6e;\n",
       "  color: #f1f1f1;\n",
       "}\n",
       "#T_9d7c7_row2_col10 {\n",
       "  background-color: #472e7c;\n",
       "  color: #f1f1f1;\n",
       "}\n",
       "#T_9d7c7_row2_col11, #T_9d7c7_row4_col10 {\n",
       "  background-color: #3f4788;\n",
       "  color: #f1f1f1;\n",
       "}\n",
       "#T_9d7c7_row2_col12 {\n",
       "  background-color: #2d708e;\n",
       "  color: #f1f1f1;\n",
       "}\n",
       "#T_9d7c7_row2_col13, #T_9d7c7_row3_col13 {\n",
       "  background-color: #1f9e89;\n",
       "  color: #f1f1f1;\n",
       "}\n",
       "#T_9d7c7_row2_col14 {\n",
       "  background-color: #56c667;\n",
       "  color: #000000;\n",
       "}\n",
       "#T_9d7c7_row2_col15 {\n",
       "  background-color: #a0da39;\n",
       "  color: #000000;\n",
       "}\n",
       "#T_9d7c7_row2_col16 {\n",
       "  background-color: #e7e419;\n",
       "  color: #000000;\n",
       "}\n",
       "#T_9d7c7_row3_col7 {\n",
       "  background-color: #26828e;\n",
       "  color: #f1f1f1;\n",
       "}\n",
       "#T_9d7c7_row3_col9 {\n",
       "  background-color: #481769;\n",
       "  color: #f1f1f1;\n",
       "}\n",
       "#T_9d7c7_row3_col10 {\n",
       "  background-color: #481668;\n",
       "  color: #f1f1f1;\n",
       "}\n",
       "#T_9d7c7_row3_col11 {\n",
       "  background-color: #3f4889;\n",
       "  color: #f1f1f1;\n",
       "}\n",
       "#T_9d7c7_row3_col12 {\n",
       "  background-color: #2a788e;\n",
       "  color: #f1f1f1;\n",
       "}\n",
       "#T_9d7c7_row3_col14 {\n",
       "  background-color: #60ca60;\n",
       "  color: #000000;\n",
       "}\n",
       "#T_9d7c7_row3_col15 {\n",
       "  background-color: #addc30;\n",
       "  color: #000000;\n",
       "}\n",
       "#T_9d7c7_row3_col16 {\n",
       "  background-color: #efe51c;\n",
       "  color: #000000;\n",
       "}\n",
       "#T_9d7c7_row4_col7 {\n",
       "  background-color: #29798e;\n",
       "  color: #f1f1f1;\n",
       "}\n",
       "#T_9d7c7_row4_col9 {\n",
       "  background-color: #3d4e8a;\n",
       "  color: #f1f1f1;\n",
       "}\n",
       "#T_9d7c7_row4_col11 {\n",
       "  background-color: #31688e;\n",
       "  color: #f1f1f1;\n",
       "}\n",
       "#T_9d7c7_row4_col12 {\n",
       "  background-color: #20938c;\n",
       "  color: #f1f1f1;\n",
       "}\n",
       "#T_9d7c7_row4_col13 {\n",
       "  background-color: #42be71;\n",
       "  color: #f1f1f1;\n",
       "}\n",
       "#T_9d7c7_row4_col14 {\n",
       "  background-color: #8ed645;\n",
       "  color: #000000;\n",
       "}\n",
       "#T_9d7c7_row4_col15 {\n",
       "  background-color: #c5e021;\n",
       "  color: #000000;\n",
       "}\n",
       "#T_9d7c7_row4_col16 {\n",
       "  background-color: #f1e51d;\n",
       "  color: #000000;\n",
       "}\n",
       "</style>\n",
       "<table id=\"T_9d7c7_\">\n",
       "  <thead>\n",
       "    <tr>\n",
       "      <th class=\"blank level0\" >&nbsp;</th>\n",
       "      <th class=\"col_heading level0 col0\" >Key</th>\n",
       "      <th class=\"col_heading level0 col1\" >Weken terug</th>\n",
       "      <th class=\"col_heading level0 col2\" >Datum</th>\n",
       "      <th class=\"col_heading level0 col3\" >Periode</th>\n",
       "      <th class=\"col_heading level0 col4\" >Gemiddelde leeftijd</th>\n",
       "      <th class=\"col_heading level0 col5\" >Totaal</th>\n",
       "      <th class=\"col_heading level0 col6\" >Type</th>\n",
       "      <th class=\"col_heading level0 col7\" >0-9</th>\n",
       "      <th class=\"col_heading level0 col8\" >10-19</th>\n",
       "      <th class=\"col_heading level0 col9\" >20-29</th>\n",
       "      <th class=\"col_heading level0 col10\" >30-39</th>\n",
       "      <th class=\"col_heading level0 col11\" >40-49</th>\n",
       "      <th class=\"col_heading level0 col12\" >50-59</th>\n",
       "      <th class=\"col_heading level0 col13\" >60-69</th>\n",
       "      <th class=\"col_heading level0 col14\" >70-79</th>\n",
       "      <th class=\"col_heading level0 col15\" >80-89</th>\n",
       "      <th class=\"col_heading level0 col16\" >90+</th>\n",
       "      <th class=\"col_heading level0 col17\" >Onbekend</th>\n",
       "      <th class=\"col_heading level0 col18\" >c0-9</th>\n",
       "      <th class=\"col_heading level0 col19\" >c10-19</th>\n",
       "      <th class=\"col_heading level0 col20\" >c20-29</th>\n",
       "      <th class=\"col_heading level0 col21\" >c30-39</th>\n",
       "      <th class=\"col_heading level0 col22\" >c40-49</th>\n",
       "      <th class=\"col_heading level0 col23\" >c50-59</th>\n",
       "      <th class=\"col_heading level0 col24\" >c60-69</th>\n",
       "      <th class=\"col_heading level0 col25\" >c70-79</th>\n",
       "      <th class=\"col_heading level0 col26\" >c80-89</th>\n",
       "      <th class=\"col_heading level0 col27\" >c90+</th>\n",
       "      <th class=\"col_heading level0 col28\" >cOnbekend</th>\n",
       "    </tr>\n",
       "  </thead>\n",
       "  <tbody>\n",
       "    <tr>\n",
       "      <th id=\"T_9d7c7_level0_row0\" class=\"row_heading level0 row0\" >0</th>\n",
       "      <td id=\"T_9d7c7_row0_col0\" class=\"data row0 col0\" >p000</td>\n",
       "      <td id=\"T_9d7c7_row0_col1\" class=\"data row0 col1\" >0</td>\n",
       "      <td id=\"T_9d7c7_row0_col2\" class=\"data row0 col2\" >2021-10-21 00:00:00</td>\n",
       "      <td id=\"T_9d7c7_row0_col3\" class=\"data row0 col3\" >15/10-21/10</td>\n",
       "      <td id=\"T_9d7c7_row0_col4\" class=\"data row0 col4\" >38.100000</td>\n",
       "      <td id=\"T_9d7c7_row0_col5\" class=\"data row0 col5\" >16740.000000</td>\n",
       "      <td id=\"T_9d7c7_row0_col6\" class=\"data row0 col6\" >Positief getest</td>\n",
       "      <td id=\"T_9d7c7_row0_col7\" class=\"data row0 col7\" >1577.000000</td>\n",
       "      <td id=\"T_9d7c7_row0_col8\" class=\"data row0 col8\" >2686.000000</td>\n",
       "      <td id=\"T_9d7c7_row0_col9\" class=\"data row0 col9\" >2726.000000</td>\n",
       "      <td id=\"T_9d7c7_row0_col10\" class=\"data row0 col10\" >2463.000000</td>\n",
       "      <td id=\"T_9d7c7_row0_col11\" class=\"data row0 col11\" >2196.000000</td>\n",
       "      <td id=\"T_9d7c7_row0_col12\" class=\"data row0 col12\" >1988.000000</td>\n",
       "      <td id=\"T_9d7c7_row0_col13\" class=\"data row0 col13\" >1439.000000</td>\n",
       "      <td id=\"T_9d7c7_row0_col14\" class=\"data row0 col14\" >975.000000</td>\n",
       "      <td id=\"T_9d7c7_row0_col15\" class=\"data row0 col15\" >545.000000</td>\n",
       "      <td id=\"T_9d7c7_row0_col16\" class=\"data row0 col16\" >145.000000</td>\n",
       "      <td id=\"T_9d7c7_row0_col17\" class=\"data row0 col17\" >0.000000</td>\n",
       "      <td id=\"T_9d7c7_row0_col18\" class=\"data row0 col18\" >578</td>\n",
       "      <td id=\"T_9d7c7_row0_col19\" class=\"data row0 col19\" >985</td>\n",
       "      <td id=\"T_9d7c7_row0_col20\" class=\"data row0 col20\" >1000</td>\n",
       "      <td id=\"T_9d7c7_row0_col21\" class=\"data row0 col21\" >903</td>\n",
       "      <td id=\"T_9d7c7_row0_col22\" class=\"data row0 col22\" >805</td>\n",
       "      <td id=\"T_9d7c7_row0_col23\" class=\"data row0 col23\" >729</td>\n",
       "      <td id=\"T_9d7c7_row0_col24\" class=\"data row0 col24\" >527</td>\n",
       "      <td id=\"T_9d7c7_row0_col25\" class=\"data row0 col25\" >357</td>\n",
       "      <td id=\"T_9d7c7_row0_col26\" class=\"data row0 col26\" >199</td>\n",
       "      <td id=\"T_9d7c7_row0_col27\" class=\"data row0 col27\" >53</td>\n",
       "      <td id=\"T_9d7c7_row0_col28\" class=\"data row0 col28\" >0</td>\n",
       "    </tr>\n",
       "    <tr>\n",
       "      <th id=\"T_9d7c7_level0_row1\" class=\"row_heading level0 row1\" >1</th>\n",
       "      <td id=\"T_9d7c7_row1_col0\" class=\"data row1 col0\" >p001</td>\n",
       "      <td id=\"T_9d7c7_row1_col1\" class=\"data row1 col1\" >1</td>\n",
       "      <td id=\"T_9d7c7_row1_col2\" class=\"data row1 col2\" >2021-10-21 00:00:00</td>\n",
       "      <td id=\"T_9d7c7_row1_col3\" class=\"data row1 col3\" >08/10-14/10</td>\n",
       "      <td id=\"T_9d7c7_row1_col4\" class=\"data row1 col4\" >37.000000</td>\n",
       "      <td id=\"T_9d7c7_row1_col5\" class=\"data row1 col5\" >22822.000000</td>\n",
       "      <td id=\"T_9d7c7_row1_col6\" class=\"data row1 col6\" >Positief getest</td>\n",
       "      <td id=\"T_9d7c7_row1_col7\" class=\"data row1 col7\" >2094.000000</td>\n",
       "      <td id=\"T_9d7c7_row1_col8\" class=\"data row1 col8\" >3981.000000</td>\n",
       "      <td id=\"T_9d7c7_row1_col9\" class=\"data row1 col9\" >3788.000000</td>\n",
       "      <td id=\"T_9d7c7_row1_col10\" class=\"data row1 col10\" >3422.000000</td>\n",
       "      <td id=\"T_9d7c7_row1_col11\" class=\"data row1 col11\" >3028.000000</td>\n",
       "      <td id=\"T_9d7c7_row1_col12\" class=\"data row1 col12\" >2684.000000</td>\n",
       "      <td id=\"T_9d7c7_row1_col13\" class=\"data row1 col13\" >1855.000000</td>\n",
       "      <td id=\"T_9d7c7_row1_col14\" class=\"data row1 col14\" >1283.000000</td>\n",
       "      <td id=\"T_9d7c7_row1_col15\" class=\"data row1 col15\" >554.000000</td>\n",
       "      <td id=\"T_9d7c7_row1_col16\" class=\"data row1 col16\" >132.000000</td>\n",
       "      <td id=\"T_9d7c7_row1_col17\" class=\"data row1 col17\" >1.000000</td>\n",
       "      <td id=\"T_9d7c7_row1_col18\" class=\"data row1 col18\" >525</td>\n",
       "      <td id=\"T_9d7c7_row1_col19\" class=\"data row1 col19\" >1000</td>\n",
       "      <td id=\"T_9d7c7_row1_col20\" class=\"data row1 col20\" >951</td>\n",
       "      <td id=\"T_9d7c7_row1_col21\" class=\"data row1 col21\" >859</td>\n",
       "      <td id=\"T_9d7c7_row1_col22\" class=\"data row1 col22\" >760</td>\n",
       "      <td id=\"T_9d7c7_row1_col23\" class=\"data row1 col23\" >674</td>\n",
       "      <td id=\"T_9d7c7_row1_col24\" class=\"data row1 col24\" >465</td>\n",
       "      <td id=\"T_9d7c7_row1_col25\" class=\"data row1 col25\" >322</td>\n",
       "      <td id=\"T_9d7c7_row1_col26\" class=\"data row1 col26\" >139</td>\n",
       "      <td id=\"T_9d7c7_row1_col27\" class=\"data row1 col27\" >33</td>\n",
       "      <td id=\"T_9d7c7_row1_col28\" class=\"data row1 col28\" >0</td>\n",
       "    </tr>\n",
       "    <tr>\n",
       "      <th id=\"T_9d7c7_level0_row2\" class=\"row_heading level0 row2\" >2</th>\n",
       "      <td id=\"T_9d7c7_row2_col0\" class=\"data row2 col0\" >p002</td>\n",
       "      <td id=\"T_9d7c7_row2_col1\" class=\"data row2 col1\" >2</td>\n",
       "      <td id=\"T_9d7c7_row2_col2\" class=\"data row2 col2\" >2021-10-21 00:00:00</td>\n",
       "      <td id=\"T_9d7c7_row2_col3\" class=\"data row2 col3\" >01/10-07/10</td>\n",
       "      <td id=\"T_9d7c7_row2_col4\" class=\"data row2 col4\" >36.500000</td>\n",
       "      <td id=\"T_9d7c7_row2_col5\" class=\"data row2 col5\" >16395.000000</td>\n",
       "      <td id=\"T_9d7c7_row2_col6\" class=\"data row2 col6\" >Positief getest</td>\n",
       "      <td id=\"T_9d7c7_row2_col7\" class=\"data row2 col7\" >1545.000000</td>\n",
       "      <td id=\"T_9d7c7_row2_col8\" class=\"data row2 col8\" >2913.000000</td>\n",
       "      <td id=\"T_9d7c7_row2_col9\" class=\"data row2 col9\" >2690.000000</td>\n",
       "      <td id=\"T_9d7c7_row2_col10\" class=\"data row2 col10\" >2536.000000</td>\n",
       "      <td id=\"T_9d7c7_row2_col11\" class=\"data row2 col11\" >2297.000000</td>\n",
       "      <td id=\"T_9d7c7_row2_col12\" class=\"data row2 col12\" >1844.000000</td>\n",
       "      <td id=\"T_9d7c7_row2_col13\" class=\"data row2 col13\" >1288.000000</td>\n",
       "      <td id=\"T_9d7c7_row2_col14\" class=\"data row2 col14\" >764.000000</td>\n",
       "      <td id=\"T_9d7c7_row2_col15\" class=\"data row2 col15\" >415.000000</td>\n",
       "      <td id=\"T_9d7c7_row2_col16\" class=\"data row2 col16\" >103.000000</td>\n",
       "      <td id=\"T_9d7c7_row2_col17\" class=\"data row2 col17\" >0.000000</td>\n",
       "      <td id=\"T_9d7c7_row2_col18\" class=\"data row2 col18\" >530</td>\n",
       "      <td id=\"T_9d7c7_row2_col19\" class=\"data row2 col19\" >1000</td>\n",
       "      <td id=\"T_9d7c7_row2_col20\" class=\"data row2 col20\" >923</td>\n",
       "      <td id=\"T_9d7c7_row2_col21\" class=\"data row2 col21\" >870</td>\n",
       "      <td id=\"T_9d7c7_row2_col22\" class=\"data row2 col22\" >788</td>\n",
       "      <td id=\"T_9d7c7_row2_col23\" class=\"data row2 col23\" >633</td>\n",
       "      <td id=\"T_9d7c7_row2_col24\" class=\"data row2 col24\" >442</td>\n",
       "      <td id=\"T_9d7c7_row2_col25\" class=\"data row2 col25\" >262</td>\n",
       "      <td id=\"T_9d7c7_row2_col26\" class=\"data row2 col26\" >142</td>\n",
       "      <td id=\"T_9d7c7_row2_col27\" class=\"data row2 col27\" >35</td>\n",
       "      <td id=\"T_9d7c7_row2_col28\" class=\"data row2 col28\" >0</td>\n",
       "    </tr>\n",
       "    <tr>\n",
       "      <th id=\"T_9d7c7_level0_row3\" class=\"row_heading level0 row3\" >3</th>\n",
       "      <td id=\"T_9d7c7_row3_col0\" class=\"data row3 col0\" >p003</td>\n",
       "      <td id=\"T_9d7c7_row3_col1\" class=\"data row3 col1\" >3</td>\n",
       "      <td id=\"T_9d7c7_row3_col2\" class=\"data row3 col2\" >2021-10-21 00:00:00</td>\n",
       "      <td id=\"T_9d7c7_row3_col3\" class=\"data row3 col3\" >24/09-30/09</td>\n",
       "      <td id=\"T_9d7c7_row3_col4\" class=\"data row3 col4\" >35.800000</td>\n",
       "      <td id=\"T_9d7c7_row3_col5\" class=\"data row3 col5\" >11692.000000</td>\n",
       "      <td id=\"T_9d7c7_row3_col6\" class=\"data row3 col6\" >Positief getest</td>\n",
       "      <td id=\"T_9d7c7_row3_col7\" class=\"data row3 col7\" >1153.000000</td>\n",
       "      <td id=\"T_9d7c7_row3_col8\" class=\"data row3 col8\" >2067.000000</td>\n",
       "      <td id=\"T_9d7c7_row3_col9\" class=\"data row3 col9\" >1943.000000</td>\n",
       "      <td id=\"T_9d7c7_row3_col10\" class=\"data row3 col10\" >1949.000000</td>\n",
       "      <td id=\"T_9d7c7_row3_col11\" class=\"data row3 col11\" >1616.000000</td>\n",
       "      <td id=\"T_9d7c7_row3_col12\" class=\"data row3 col12\" >1240.000000</td>\n",
       "      <td id=\"T_9d7c7_row3_col13\" class=\"data row3 col13\" >915.000000</td>\n",
       "      <td id=\"T_9d7c7_row3_col14\" class=\"data row3 col14\" >503.000000</td>\n",
       "      <td id=\"T_9d7c7_row3_col15\" class=\"data row3 col15\" >253.000000</td>\n",
       "      <td id=\"T_9d7c7_row3_col16\" class=\"data row3 col16\" >52.000000</td>\n",
       "      <td id=\"T_9d7c7_row3_col17\" class=\"data row3 col17\" >1.000000</td>\n",
       "      <td id=\"T_9d7c7_row3_col18\" class=\"data row3 col18\" >557</td>\n",
       "      <td id=\"T_9d7c7_row3_col19\" class=\"data row3 col19\" >1000</td>\n",
       "      <td id=\"T_9d7c7_row3_col20\" class=\"data row3 col20\" >940</td>\n",
       "      <td id=\"T_9d7c7_row3_col21\" class=\"data row3 col21\" >942</td>\n",
       "      <td id=\"T_9d7c7_row3_col22\" class=\"data row3 col22\" >781</td>\n",
       "      <td id=\"T_9d7c7_row3_col23\" class=\"data row3 col23\" >599</td>\n",
       "      <td id=\"T_9d7c7_row3_col24\" class=\"data row3 col24\" >442</td>\n",
       "      <td id=\"T_9d7c7_row3_col25\" class=\"data row3 col25\" >243</td>\n",
       "      <td id=\"T_9d7c7_row3_col26\" class=\"data row3 col26\" >122</td>\n",
       "      <td id=\"T_9d7c7_row3_col27\" class=\"data row3 col27\" >25</td>\n",
       "      <td id=\"T_9d7c7_row3_col28\" class=\"data row3 col28\" >0</td>\n",
       "    </tr>\n",
       "    <tr>\n",
       "      <th id=\"T_9d7c7_level0_row4\" class=\"row_heading level0 row4\" >4</th>\n",
       "      <td id=\"T_9d7c7_row4_col0\" class=\"data row4 col0\" >p004</td>\n",
       "      <td id=\"T_9d7c7_row4_col1\" class=\"data row4 col1\" >4</td>\n",
       "      <td id=\"T_9d7c7_row4_col2\" class=\"data row4 col2\" >2021-10-21 00:00:00</td>\n",
       "      <td id=\"T_9d7c7_row4_col3\" class=\"data row4 col3\" >17/09-23/09</td>\n",
       "      <td id=\"T_9d7c7_row4_col4\" class=\"data row4 col4\" >33.500000</td>\n",
       "      <td id=\"T_9d7c7_row4_col5\" class=\"data row4 col5\" >11744.000000</td>\n",
       "      <td id=\"T_9d7c7_row4_col6\" class=\"data row4 col6\" >Positief getest</td>\n",
       "      <td id=\"T_9d7c7_row4_col7\" class=\"data row4 col7\" >1433.000000</td>\n",
       "      <td id=\"T_9d7c7_row4_col8\" class=\"data row4 col8\" >2402.000000</td>\n",
       "      <td id=\"T_9d7c7_row4_col9\" class=\"data row4 col9\" >1835.000000</td>\n",
       "      <td id=\"T_9d7c7_row4_col10\" class=\"data row4 col10\" >1892.000000</td>\n",
       "      <td id=\"T_9d7c7_row4_col11\" class=\"data row4 col11\" >1603.000000</td>\n",
       "      <td id=\"T_9d7c7_row4_col12\" class=\"data row4 col12\" >1166.000000</td>\n",
       "      <td id=\"T_9d7c7_row4_col13\" class=\"data row4 col13\" >731.000000</td>\n",
       "      <td id=\"T_9d7c7_row4_col14\" class=\"data row4 col14\" >413.000000</td>\n",
       "      <td id=\"T_9d7c7_row4_col15\" class=\"data row4 col15\" >216.000000</td>\n",
       "      <td id=\"T_9d7c7_row4_col16\" class=\"data row4 col16\" >52.000000</td>\n",
       "      <td id=\"T_9d7c7_row4_col17\" class=\"data row4 col17\" >1.000000</td>\n",
       "      <td id=\"T_9d7c7_row4_col18\" class=\"data row4 col18\" >596</td>\n",
       "      <td id=\"T_9d7c7_row4_col19\" class=\"data row4 col19\" >1000</td>\n",
       "      <td id=\"T_9d7c7_row4_col20\" class=\"data row4 col20\" >763</td>\n",
       "      <td id=\"T_9d7c7_row4_col21\" class=\"data row4 col21\" >787</td>\n",
       "      <td id=\"T_9d7c7_row4_col22\" class=\"data row4 col22\" >667</td>\n",
       "      <td id=\"T_9d7c7_row4_col23\" class=\"data row4 col23\" >485</td>\n",
       "      <td id=\"T_9d7c7_row4_col24\" class=\"data row4 col24\" >304</td>\n",
       "      <td id=\"T_9d7c7_row4_col25\" class=\"data row4 col25\" >171</td>\n",
       "      <td id=\"T_9d7c7_row4_col26\" class=\"data row4 col26\" >89</td>\n",
       "      <td id=\"T_9d7c7_row4_col27\" class=\"data row4 col27\" >21</td>\n",
       "      <td id=\"T_9d7c7_row4_col28\" class=\"data row4 col28\" >0</td>\n",
       "    </tr>\n",
       "  </tbody>\n",
       "</table>\n"
      ],
      "text/plain": [
       "<pandas.io.formats.style.Styler at 0x7fefe1f12a00>"
      ]
     },
     "metadata": {},
     "output_type": "display_data"
    }
   ],
   "source": [
    "# Bereken de stand van zaken van besmettingen / hospitalisaties / overlijden, per cohort in absolute aantallen en aantallen per 100k, met een kleur indicator voor de aantallen.\n",
    "# vervang <50 en Unknown door Onbekend\n",
    "@run\n",
    "def cell():\n",
    "  rivm['Cohort'] = rivm['Agegroup'].replace({'<50': 'Onbekend', 'Unknown': 'Onbekend'})\n",
    "  # aangenomen 'gemiddelde' leeftijd van een cohort: minimum waarde + 5\n",
    "  assumed_cohort_age = [(cohort, [int(n) for n in cohort.replace('+', '').split('-')]) for cohort in rivm['Cohort'].unique() if cohort[0].isdigit()]\n",
    "  assumed_cohort_age = { cohort: min(rng) + 5 for cohort, rng in assumed_cohort_age }\n",
    "  rivm['Gemiddelde leeftijd'] = rivm['Cohort'].apply(lambda x: assumed_cohort_age.get(x, np.nan))\n",
    "\n",
    "  # verwijder tijd\n",
    "  rivm['Date_file_date'] = pd.to_datetime(rivm['Date_file'].replace(r' .*', '', regex=True))\n",
    "\n",
    "  rivm['Date_statistics_date'] = pd.to_datetime(rivm['Date_statistics'])\n",
    "\n",
    "  # weken terug = verschil tussen Date_file en Date_statistcs, gedeeld door 7 dagen\n",
    "  rivm['Weken terug'] = np.floor((rivm['Date_file_date'] - rivm['Date_statistics_date'])/np.timedelta64(7, 'D')).astype(int)\n",
    "\n",
    "  # voeg key, gem leeftijd, kleurnummer en totaal toe\n",
    "  Date_file = rivm['Date_file_date'].unique()[0].astype('M8[D]').astype('O')\n",
    "  cohorten = list(bevolking.index) + ['Onbekend']\n",
    "  def summarize(df, category, prefix):\n",
    "    # aangezien we hier de dataframe in-place wijzigen (bijv door toevoegen kolommen)\n",
    "    # en we het 'rivm' frame later nog clean nodig hebben\n",
    "    df = df.copy(deep=True)\n",
    "\n",
    "    df = (df\n",
    "          .groupby(['Weken terug', 'Cohort'])['count']\n",
    "          .sum()\n",
    "          .unstack(fill_value=np.nan)\n",
    "          .reset_index()\n",
    "          .rename_axis(None, axis=1)\n",
    "        ).merge(df\n",
    "          # we voegen hier gemiddelde leeftijd toe, want die willen we op een ander\n",
    "          # niveau aggregeren voor 'df' overschreven word\n",
    "          .groupby(['Weken terug'])['Gemiddelde leeftijd']\n",
    "          .mean()\n",
    "          .to_frame(), on='Weken terug'\n",
    "        )\n",
    "\n",
    "    # altijd 52 rijen\n",
    "    df = pd.Series(np.arange(52), name='Weken terug').to_frame().merge(df, how='left', on='Weken terug')\n",
    "\n",
    "    # toevoegen missende cohorten\n",
    "    for col in cohorten:\n",
    "      if not col in df:\n",
    "        df[col] = np.nan\n",
    "\n",
    "    # sommeer per rij (axis=1) over de cohorten om een totaal te krijgen\n",
    "    df['Totaal'] = df[cohorten].sum(axis=1)\n",
    "\n",
    "    # voeg periode en datum toe\n",
    "    # periode afgeleid van weken-terug (= de index voor deze dataframe)\n",
    "    df['Datum'] = pd.to_datetime(Date_file)\n",
    "    df['Periode'] = (df\n",
    "      .index.to_series()\n",
    "      .apply(\n",
    "        lambda x: (\n",
    "          (Date_file + datetime.timedelta(weeks=-(x+1), days=1)).strftime('%d/%m')\n",
    "          + '-'\n",
    "          + (Date_file + datetime.timedelta(weeks=-x)).strftime('%d/%m')\n",
    "        )\n",
    "      )\n",
    "    )\n",
    "\n",
    "    # voeg 'Key' en 'Type' kolom toe. Variabele 'type' kan niet, is een language primitive.\n",
    "    df['Key'] = prefix + df.index.astype(str).str.rjust(3, fillchar='0')\n",
    "    df['Type'] = category\n",
    "\n",
    "    # voeg de kleur kolommen toe\n",
    "    for col in cohorten:\n",
    "      df['c' + col] = ((df[col] / df[[col for col in cohorten]].max(axis=1)) * 1000).fillna(0).astype(int)\n",
    "\n",
    "    # herschikken van de kolommen\n",
    "    colorder = ['Key', 'Weken terug', 'Datum', 'Periode', 'Gemiddelde leeftijd', 'Totaal', 'Type']\n",
    "    return df[colorder + [col for col in df if col not in colorder]]\n",
    "\n",
    "  factor = bevolking.to_dict()['per 100k']\n",
    "  global tabel\n",
    "  tabel = pd.concat(\n",
    "    # flatten the result list zodat pd.concat ze onder elkaar kan plakken\n",
    "    functools.reduce(lambda a, b: a + b, [\n",
    "      [summarize(df.assign(count=1), label, prefix), summarize(df.assign(count=df['Cohort'].apply(lambda x: factor.get(x, np.nan))), label + ' per 100.000', prefix + '100k')]\n",
    "      for df, label, prefix in [\n",
    "        (rivm, 'Positief getest', 'p'), # volledige count per cohort\n",
    "        (rivm[rivm.Hospital_admission == 'Yes'], 'Ziekenhuisopname', 'h'), # count van cohort voor Hospital_admission == 'Yes'\n",
    "        (rivm[rivm.Deceased == 'Yes'], 'Overleden', 'd'), # count van cohort voor Deceased == 'Yes'\n",
    "      ]\n",
    "    ])\n",
    "  )\n",
    "\n",
    "  # rood -> groen\n",
    "  cdict = {\n",
    "    'red':   ((0.0, 0.0, 0.0),   # no red at 0\n",
    "              (0.5, 1.0, 1.0),   # all channels set to 1.0 at 0.5 to create white\n",
    "              (1.0, 0.8, 0.8)),  # set to 0.8 so its not too bright at 1\n",
    "    'green': ((0.0, 0.8, 0.8),   # set to 0.8 so its not too bright at 0\n",
    "              (0.5, 1.0, 1.0),   # all channels set to 1.0 at 0.5 to create white\n",
    "              (1.0, 0.0, 0.0)),  # no green at 1\n",
    "    'blue':  ((0.0, 0.0, 0.0),   # no blue at 0\n",
    "              (0.5, 1.0, 1.0),   # all channels set to 1.0 at 0.5 to create white\n",
    "              (1.0, 0.0, 0.0))   # no blue at 1\n",
    "  }\n",
    "  cm = colors.LinearSegmentedColormap('GnRd', cdict)\n",
    "  # geel -> paars\n",
    "  cm = sns.color_palette('viridis_r', as_cmap=True)\n",
    "  display(tabel\n",
    "    .fillna(0)\n",
    "    .head()\n",
    "    .round(1)\n",
    "    .reset_index(drop=True)\n",
    "    .style.background_gradient(cmap=cm, axis=1, subset=cohorten)\n",
    "  )"
   ]
  },
  {
   "cell_type": "code",
   "execution_count": 5,
   "id": "e2fbbdec",
   "metadata": {
    "execution": {
     "iopub.execute_input": "2021-10-21T13:34:37.015257Z",
     "iopub.status.busy": "2021-10-21T13:34:37.008415Z",
     "iopub.status.idle": "2021-10-21T13:35:38.776959Z",
     "shell.execute_reply": "2021-10-21T13:35:38.774903Z"
    },
    "papermill": {
     "duration": 61.788625,
     "end_time": "2021-10-21T13:35:38.777065",
     "exception": false,
     "start_time": "2021-10-21T13:34:36.988440",
     "status": "completed"
    },
    "tags": [],
    "title": "publish"
   },
   "outputs": [
    {
     "name": "stdout",
     "output_type": "stream",
     "text": [
      "infinities:\n"
     ]
    },
    {
     "name": "stdout",
     "output_type": "stream",
     "text": [
      "Empty DataFrame\n",
      "Columns: []\n",
      "Index: []\n"
     ]
    },
    {
     "name": "stdout",
     "output_type": "stream",
     "text": [
      "nan:\n"
     ]
    },
    {
     "name": "stdout",
     "output_type": "stream",
     "text": [
      "Empty DataFrame\n",
      "Columns: []\n",
      "Index: []\n"
     ]
    },
    {
     "name": "stdout",
     "output_type": "stream",
     "text": [
      "Key                     object\n",
      "Weken terug              int64\n",
      "Datum                   object\n",
      "Periode                 object\n",
      "Gemiddelde leeftijd    float64\n",
      "Totaal                 float64\n",
      "Type                    object\n",
      "0-9                    float64\n",
      "10-19                  float64\n",
      "20-29                  float64\n",
      "30-39                  float64\n",
      "40-49                  float64\n",
      "50-59                  float64\n",
      "60-69                  float64\n",
      "70-79                  float64\n",
      "80-89                  float64\n",
      "90+                    float64\n",
      "Onbekend               float64\n",
      "c0-9                     int64\n",
      "c10-19                   int64\n",
      "c20-29                   int64\n",
      "c30-39                   int64\n",
      "c40-49                   int64\n",
      "c50-59                   int64\n",
      "c60-69                   int64\n",
      "c70-79                   int64\n",
      "c80-89                   int64\n",
      "c90+                     int64\n",
      "cOnbekend                int64\n",
      "dtype: object\n",
      "updating knack\n"
     ]
    },
    {
     "name": "stdout",
     "output_type": "stream",
     "text": [
      "updating: [{'Key': 1, 'Updating Leeftijdsgroep': 'true'}]\n"
     ]
    },
    {
     "name": "stdout",
     "output_type": "stream",
     "text": [
      "restored LaatsteUpdate from hash\n"
     ]
    },
    {
     "name": "stdout",
     "output_type": "stream",
     "text": [
      "Key                         int64\n",
      "Updating Leeftijdsgroep    object\n",
      "dtype: object\n"
     ]
    },
    {
     "name": "stderr",
     "output_type": "stream",
     "text": [
      "\r",
      "  0%|          | 0/1 [00:00<?, ?it/s]"
     ]
    },
    {
     "name": "stderr",
     "output_type": "stream",
     "text": [
      "\r",
      "100%|██████████| 1/1 [00:02<00:00,  2.59s/it]"
     ]
    },
    {
     "name": "stderr",
     "output_type": "stream",
     "text": [
      "\r",
      "100%|██████████| 1/1 [00:02<00:00,  2.59s/it]"
     ]
    },
    {
     "name": "stdout",
     "output_type": "stream",
     "text": [
      "\n",
      "rate limit: 7 \n",
      "LaatsteUpdate API calls: create: 0, read: 1, update: 1, delete: 0, backoff: 0\n",
      "errors:\n",
      "  503: Service Unavailable: 1\n"
     ]
    },
    {
     "name": "stderr",
     "output_type": "stream",
     "text": [
      "\n"
     ]
    },
    {
     "name": "stdout",
     "output_type": "stream",
     "text": [
      "restored Leeftijdsgroep from hash\n"
     ]
    },
    {
     "name": "stdout",
     "output_type": "stream",
     "text": [
      "0-9                    float64\n",
      "10-19                  float64\n",
      "20-29                  float64\n",
      "30-39                  float64\n",
      "40-49                  float64\n",
      "50-59                  float64\n",
      "60-69                  float64\n",
      "70-79                  float64\n",
      "80-89                  float64\n",
      "90+                    float64\n",
      "Datum                   object\n",
      "Gemiddelde leeftijd    float64\n",
      "Key                     object\n",
      "Onbekend               float64\n",
      "Periode                 object\n",
      "Totaal                 float64\n",
      "Type                    object\n",
      "Weken terug              int64\n",
      "c0-9                     int64\n",
      "c10-19                   int64\n",
      "c20-29                   int64\n",
      "c30-39                   int64\n",
      "c40-49                   int64\n",
      "c50-59                   int64\n",
      "c60-69                   int64\n",
      "c70-79                   int64\n",
      "c80-89                   int64\n",
      "c90+                     int64\n",
      "cOnbekend                int64\n",
      "dtype: object\n"
     ]
    },
    {
     "name": "stderr",
     "output_type": "stream",
     "text": [
      "\r",
      "  0%|          | 0/142 [00:00<?, ?it/s]"
     ]
    },
    {
     "name": "stderr",
     "output_type": "stream",
     "text": [
      "\r",
      "  1%|          | 1/142 [00:00<01:36,  1.46it/s]"
     ]
    },
    {
     "name": "stderr",
     "output_type": "stream",
     "text": [
      "\r",
      "  2%|▏         | 3/142 [00:00<00:30,  4.55it/s]"
     ]
    },
    {
     "name": "stderr",
     "output_type": "stream",
     "text": [
      "\r",
      "  4%|▎         | 5/142 [00:00<00:20,  6.57it/s]"
     ]
    },
    {
     "name": "stderr",
     "output_type": "stream",
     "text": [
      "\r",
      "  5%|▍         | 7/142 [00:01<00:25,  5.34it/s]"
     ]
    },
    {
     "name": "stderr",
     "output_type": "stream",
     "text": [
      "\r",
      "  6%|▋         | 9/142 [00:01<00:28,  4.73it/s]"
     ]
    },
    {
     "name": "stderr",
     "output_type": "stream",
     "text": [
      "\r",
      "  8%|▊         | 12/142 [00:02<00:17,  7.25it/s]"
     ]
    },
    {
     "name": "stderr",
     "output_type": "stream",
     "text": [
      "\r",
      " 11%|█         | 15/142 [00:02<00:14,  8.49it/s]"
     ]
    },
    {
     "name": "stderr",
     "output_type": "stream",
     "text": [
      "\r",
      " 12%|█▏        | 17/142 [00:02<00:12,  9.65it/s]"
     ]
    },
    {
     "name": "stderr",
     "output_type": "stream",
     "text": [
      "\r",
      " 13%|█▎        | 19/142 [00:03<00:21,  5.64it/s]"
     ]
    },
    {
     "name": "stderr",
     "output_type": "stream",
     "text": [
      "\r",
      " 14%|█▍        | 20/142 [00:03<00:20,  5.99it/s]"
     ]
    },
    {
     "name": "stderr",
     "output_type": "stream",
     "text": [
      "\r",
      " 15%|█▌        | 22/142 [00:03<00:18,  6.40it/s]"
     ]
    },
    {
     "name": "stderr",
     "output_type": "stream",
     "text": [
      "\r",
      " 16%|█▌        | 23/142 [00:03<00:18,  6.42it/s]"
     ]
    },
    {
     "name": "stderr",
     "output_type": "stream",
     "text": [
      "\r",
      " 17%|█▋        | 24/142 [00:03<00:20,  5.83it/s]"
     ]
    },
    {
     "name": "stderr",
     "output_type": "stream",
     "text": [
      "\r",
      " 18%|█▊        | 25/142 [00:04<00:24,  4.76it/s]"
     ]
    },
    {
     "name": "stderr",
     "output_type": "stream",
     "text": [
      "\r",
      " 18%|█▊        | 26/142 [00:04<00:28,  4.14it/s]"
     ]
    },
    {
     "name": "stderr",
     "output_type": "stream",
     "text": [
      "\r",
      " 20%|██        | 29/142 [00:04<00:18,  6.04it/s]"
     ]
    },
    {
     "name": "stderr",
     "output_type": "stream",
     "text": [
      "\r",
      " 23%|██▎       | 32/142 [00:05<00:12,  8.66it/s]"
     ]
    },
    {
     "name": "stderr",
     "output_type": "stream",
     "text": [
      "\r",
      " 24%|██▍       | 34/142 [00:05<00:13,  8.24it/s]"
     ]
    },
    {
     "name": "stderr",
     "output_type": "stream",
     "text": [
      "\r",
      " 25%|██▍       | 35/142 [00:05<00:14,  7.22it/s]"
     ]
    },
    {
     "name": "stderr",
     "output_type": "stream",
     "text": [
      "\r",
      " 27%|██▋       | 38/142 [00:06<00:14,  6.98it/s]"
     ]
    },
    {
     "name": "stderr",
     "output_type": "stream",
     "text": [
      "\r",
      " 27%|██▋       | 39/142 [00:06<00:14,  7.15it/s]"
     ]
    },
    {
     "name": "stderr",
     "output_type": "stream",
     "text": [
      "\r",
      " 28%|██▊       | 40/142 [00:06<00:14,  6.83it/s]"
     ]
    },
    {
     "name": "stderr",
     "output_type": "stream",
     "text": [
      "\r",
      " 29%|██▉       | 41/142 [00:06<00:15,  6.53it/s]"
     ]
    },
    {
     "name": "stderr",
     "output_type": "stream",
     "text": [
      "\r",
      " 30%|███       | 43/142 [00:06<00:15,  6.45it/s]"
     ]
    },
    {
     "name": "stderr",
     "output_type": "stream",
     "text": [
      "\r",
      " 31%|███       | 44/142 [00:06<00:15,  6.45it/s]"
     ]
    },
    {
     "name": "stderr",
     "output_type": "stream",
     "text": [
      "\r",
      " 32%|███▏      | 45/142 [00:07<00:16,  5.85it/s]"
     ]
    },
    {
     "name": "stderr",
     "output_type": "stream",
     "text": [
      "\r",
      " 32%|███▏      | 46/142 [00:07<00:15,  6.20it/s]"
     ]
    },
    {
     "name": "stderr",
     "output_type": "stream",
     "text": [
      "\r",
      " 33%|███▎      | 47/142 [00:07<00:15,  6.13it/s]"
     ]
    },
    {
     "name": "stderr",
     "output_type": "stream",
     "text": [
      "\r",
      " 34%|███▍      | 48/142 [00:07<00:17,  5.34it/s]"
     ]
    },
    {
     "name": "stderr",
     "output_type": "stream",
     "text": [
      "\r",
      " 35%|███▍      | 49/142 [00:08<00:20,  4.48it/s]"
     ]
    },
    {
     "name": "stderr",
     "output_type": "stream",
     "text": [
      "\r",
      " 37%|███▋      | 52/142 [00:08<00:11,  7.56it/s]"
     ]
    },
    {
     "name": "stderr",
     "output_type": "stream",
     "text": [
      "\r",
      " 38%|███▊      | 54/142 [00:08<00:13,  6.66it/s]"
     ]
    },
    {
     "name": "stderr",
     "output_type": "stream",
     "text": [
      "\r",
      " 40%|████      | 57/142 [00:08<00:10,  8.48it/s]"
     ]
    },
    {
     "name": "stderr",
     "output_type": "stream",
     "text": [
      "\r",
      " 42%|████▏     | 59/142 [00:09<00:09,  8.80it/s]"
     ]
    },
    {
     "name": "stderr",
     "output_type": "stream",
     "text": [
      "\r",
      " 43%|████▎     | 61/142 [00:09<00:07, 10.25it/s]"
     ]
    },
    {
     "name": "stderr",
     "output_type": "stream",
     "text": [
      "\r",
      " 44%|████▍     | 63/142 [00:09<00:08,  9.60it/s]"
     ]
    },
    {
     "name": "stderr",
     "output_type": "stream",
     "text": [
      "\r",
      " 46%|████▌     | 65/142 [00:09<00:11,  6.74it/s]"
     ]
    },
    {
     "name": "stderr",
     "output_type": "stream",
     "text": [
      "\r",
      " 47%|████▋     | 67/142 [00:10<00:15,  4.69it/s]"
     ]
    },
    {
     "name": "stderr",
     "output_type": "stream",
     "text": [
      "\r",
      " 49%|████▊     | 69/142 [00:10<00:14,  5.16it/s]"
     ]
    },
    {
     "name": "stderr",
     "output_type": "stream",
     "text": [
      "\r",
      " 50%|█████     | 71/142 [00:11<00:12,  5.81it/s]"
     ]
    },
    {
     "name": "stderr",
     "output_type": "stream",
     "text": [
      "\r",
      " 51%|█████     | 72/142 [00:11<00:11,  5.97it/s]"
     ]
    },
    {
     "name": "stderr",
     "output_type": "stream",
     "text": [
      "\r",
      " 51%|█████▏    | 73/142 [00:11<00:16,  4.29it/s]"
     ]
    },
    {
     "name": "stderr",
     "output_type": "stream",
     "text": [
      "\r",
      " 52%|█████▏    | 74/142 [00:12<00:16,  4.21it/s]"
     ]
    },
    {
     "name": "stderr",
     "output_type": "stream",
     "text": [
      "\r",
      " 54%|█████▍    | 77/142 [00:12<00:09,  6.74it/s]"
     ]
    },
    {
     "name": "stderr",
     "output_type": "stream",
     "text": [
      "\r",
      " 55%|█████▍    | 78/142 [00:12<00:09,  7.09it/s]"
     ]
    },
    {
     "name": "stderr",
     "output_type": "stream",
     "text": [
      "\r",
      " 56%|█████▌    | 79/142 [00:12<00:08,  7.29it/s]"
     ]
    },
    {
     "name": "stderr",
     "output_type": "stream",
     "text": [
      "\r",
      " 56%|█████▋    | 80/142 [00:12<00:08,  7.17it/s]"
     ]
    },
    {
     "name": "stderr",
     "output_type": "stream",
     "text": [
      "\r",
      " 57%|█████▋    | 81/142 [00:12<00:08,  7.19it/s]"
     ]
    },
    {
     "name": "stderr",
     "output_type": "stream",
     "text": [
      "\r",
      " 59%|█████▉    | 84/142 [00:13<00:07,  7.79it/s]"
     ]
    },
    {
     "name": "stderr",
     "output_type": "stream",
     "text": [
      "\r",
      " 60%|█████▉    | 85/142 [00:13<00:07,  7.54it/s]"
     ]
    },
    {
     "name": "stderr",
     "output_type": "stream",
     "text": [
      "\r",
      " 61%|██████▏   | 87/142 [00:13<00:10,  5.40it/s]"
     ]
    },
    {
     "name": "stderr",
     "output_type": "stream",
     "text": [
      "\r",
      " 62%|██████▏   | 88/142 [00:13<00:09,  5.86it/s]"
     ]
    },
    {
     "name": "stderr",
     "output_type": "stream",
     "text": [
      "\r",
      " 63%|██████▎   | 90/142 [00:14<00:06,  7.76it/s]"
     ]
    },
    {
     "name": "stderr",
     "output_type": "stream",
     "text": [
      "\r",
      " 65%|██████▍   | 92/142 [00:14<00:06,  7.99it/s]"
     ]
    },
    {
     "name": "stderr",
     "output_type": "stream",
     "text": [
      "\r",
      " 66%|██████▌   | 94/142 [00:14<00:07,  6.31it/s]"
     ]
    },
    {
     "name": "stderr",
     "output_type": "stream",
     "text": [
      "\r",
      " 68%|██████▊   | 96/142 [00:15<00:07,  5.94it/s]"
     ]
    },
    {
     "name": "stderr",
     "output_type": "stream",
     "text": [
      "\r",
      " 68%|██████▊   | 97/142 [00:15<00:07,  5.73it/s]"
     ]
    },
    {
     "name": "stderr",
     "output_type": "stream",
     "text": [
      "\r",
      " 69%|██████▉   | 98/142 [00:15<00:07,  5.67it/s]"
     ]
    },
    {
     "name": "stderr",
     "output_type": "stream",
     "text": [
      "\r",
      " 70%|███████   | 100/142 [00:15<00:05,  7.23it/s]"
     ]
    },
    {
     "name": "stderr",
     "output_type": "stream",
     "text": [
      "\r",
      " 71%|███████   | 101/142 [00:15<00:06,  6.76it/s]"
     ]
    },
    {
     "name": "stderr",
     "output_type": "stream",
     "text": [
      "\r",
      " 73%|███████▎  | 103/142 [00:16<00:05,  6.57it/s]"
     ]
    },
    {
     "name": "stderr",
     "output_type": "stream",
     "text": [
      "\r",
      " 73%|███████▎  | 104/142 [00:16<00:05,  6.92it/s]"
     ]
    },
    {
     "name": "stderr",
     "output_type": "stream",
     "text": [
      "\r",
      " 74%|███████▍  | 105/142 [00:16<00:05,  7.01it/s]"
     ]
    },
    {
     "name": "stderr",
     "output_type": "stream",
     "text": [
      "\r",
      " 75%|███████▍  | 106/142 [00:16<00:05,  6.24it/s]"
     ]
    },
    {
     "name": "stderr",
     "output_type": "stream",
     "text": [
      "\r",
      " 75%|███████▌  | 107/142 [00:16<00:05,  6.89it/s]"
     ]
    },
    {
     "name": "stderr",
     "output_type": "stream",
     "text": [
      "\r",
      " 76%|███████▌  | 108/142 [00:16<00:04,  7.17it/s]"
     ]
    },
    {
     "name": "stderr",
     "output_type": "stream",
     "text": [
      "\r",
      " 77%|███████▋  | 109/142 [00:17<00:05,  6.24it/s]"
     ]
    },
    {
     "name": "stderr",
     "output_type": "stream",
     "text": [
      "\r",
      " 77%|███████▋  | 110/142 [00:17<00:06,  4.59it/s]"
     ]
    },
    {
     "name": "stderr",
     "output_type": "stream",
     "text": [
      "\r",
      " 79%|███████▉  | 112/142 [00:17<00:04,  6.37it/s]"
     ]
    },
    {
     "name": "stderr",
     "output_type": "stream",
     "text": [
      "\r",
      " 80%|████████  | 114/142 [00:17<00:03,  8.68it/s]"
     ]
    },
    {
     "name": "stderr",
     "output_type": "stream",
     "text": [
      "\r",
      " 82%|████████▏ | 116/142 [00:18<00:04,  5.74it/s]"
     ]
    },
    {
     "name": "stderr",
     "output_type": "stream",
     "text": [
      "\r",
      " 82%|████████▏ | 117/142 [00:18<00:04,  6.10it/s]"
     ]
    },
    {
     "name": "stderr",
     "output_type": "stream",
     "text": [
      "\r",
      " 83%|████████▎ | 118/142 [00:18<00:03,  6.24it/s]"
     ]
    },
    {
     "name": "stderr",
     "output_type": "stream",
     "text": [
      "\r",
      " 84%|████████▍ | 119/142 [00:18<00:03,  6.55it/s]"
     ]
    },
    {
     "name": "stderr",
     "output_type": "stream",
     "text": [
      "\r",
      " 85%|████████▌ | 121/142 [00:18<00:02,  7.12it/s]"
     ]
    },
    {
     "name": "stderr",
     "output_type": "stream",
     "text": [
      "\r",
      " 86%|████████▌ | 122/142 [00:18<00:02,  7.49it/s]"
     ]
    },
    {
     "name": "stderr",
     "output_type": "stream",
     "text": [
      "\r",
      " 87%|████████▋ | 123/142 [00:19<00:03,  5.99it/s]"
     ]
    },
    {
     "name": "stderr",
     "output_type": "stream",
     "text": [
      "\r",
      " 87%|████████▋ | 124/142 [00:19<00:03,  5.51it/s]"
     ]
    },
    {
     "name": "stderr",
     "output_type": "stream",
     "text": [
      "\r",
      " 89%|████████▊ | 126/142 [00:19<00:02,  7.86it/s]"
     ]
    },
    {
     "name": "stderr",
     "output_type": "stream",
     "text": [
      "\r",
      " 90%|█████████ | 128/142 [00:19<00:01,  9.33it/s]"
     ]
    },
    {
     "name": "stderr",
     "output_type": "stream",
     "text": [
      "\r",
      " 92%|█████████▏| 130/142 [00:20<00:01,  6.83it/s]"
     ]
    },
    {
     "name": "stderr",
     "output_type": "stream",
     "text": [
      "\r",
      " 92%|█████████▏| 131/142 [00:20<00:02,  4.92it/s]"
     ]
    },
    {
     "name": "stderr",
     "output_type": "stream",
     "text": [
      "\r",
      " 94%|█████████▎| 133/142 [00:20<00:01,  6.31it/s]"
     ]
    },
    {
     "name": "stderr",
     "output_type": "stream",
     "text": [
      "\r",
      " 94%|█████████▍| 134/142 [00:20<00:01,  6.24it/s]"
     ]
    },
    {
     "name": "stderr",
     "output_type": "stream",
     "text": [
      "\r",
      " 96%|█████████▌| 136/142 [00:21<00:00,  7.48it/s]"
     ]
    },
    {
     "name": "stderr",
     "output_type": "stream",
     "text": [
      "\r",
      " 97%|█████████▋| 138/142 [00:22<00:01,  3.86it/s]"
     ]
    },
    {
     "name": "stderr",
     "output_type": "stream",
     "text": [
      "\r",
      " 99%|█████████▊| 140/142 [00:22<00:00,  4.80it/s]"
     ]
    },
    {
     "name": "stderr",
     "output_type": "stream",
     "text": [
      "\r",
      " 99%|█████████▉| 141/142 [00:45<00:04,  4.68s/it]"
     ]
    },
    {
     "name": "stderr",
     "output_type": "stream",
     "text": [
      "\r",
      "100%|██████████| 142/142 [00:46<00:00,  3.75s/it]"
     ]
    },
    {
     "name": "stderr",
     "output_type": "stream",
     "text": [
      "\r",
      "100%|██████████| 142/142 [00:46<00:00,  3.07it/s]"
     ]
    },
    {
     "name": "stdout",
     "output_type": "stream",
     "text": [
      "\n",
      "rate limit: 7 \n",
      "Leeftijdsgroep API calls: create: 0, read: 1, update: 142, delete: 0, backoff: 2\n",
      "errors:\n",
      "  503: Service Unavailable: 3\n"
     ]
    },
    {
     "name": "stdout",
     "output_type": "stream",
     "text": [
      "[{'Key': 1, 'Timestamp Leeftijdsgroep RIVM': '2021-10-21 14:15'}]\n"
     ]
    },
    {
     "name": "stderr",
     "output_type": "stream",
     "text": [
      "\n"
     ]
    },
    {
     "name": "stdout",
     "output_type": "stream",
     "text": [
      "timestamps: [{'Key': 1, 'Timestamp Leeftijdsgroep RIVM': '2021-10-21 14:15'}]\n",
      "Key                               int64\n",
      "Timestamp Leeftijdsgroep RIVM    object\n",
      "dtype: object\n"
     ]
    },
    {
     "name": "stderr",
     "output_type": "stream",
     "text": [
      "\r",
      "  0%|          | 0/1 [00:00<?, ?it/s]"
     ]
    },
    {
     "name": "stderr",
     "output_type": "stream",
     "text": [
      "\r",
      "100%|██████████| 1/1 [00:00<00:00,  1.41it/s]"
     ]
    },
    {
     "name": "stderr",
     "output_type": "stream",
     "text": [
      "\r",
      "100%|██████████| 1/1 [00:00<00:00,  1.40it/s]"
     ]
    },
    {
     "name": "stdout",
     "output_type": "stream",
     "text": [
      "\n",
      "rate limit: 7 \n",
      "LaatsteUpdate API calls: create: 0, read: 0, update: 1, delete: 0, backoff: 0\n"
     ]
    },
    {
     "name": "stderr",
     "output_type": "stream",
     "text": [
      "\n"
     ]
    },
    {
     "name": "stdout",
     "output_type": "stream",
     "text": [
      "BatchName     object\n",
      "ObjectName    object\n",
      "Source        object\n",
      "Timestamp     object\n",
      "dtype: object\n"
     ]
    },
    {
     "name": "stderr",
     "output_type": "stream",
     "text": [
      "\r",
      "  0%|          | 0/1 [00:00<?, ?it/s]"
     ]
    },
    {
     "name": "stderr",
     "output_type": "stream",
     "text": [
      "\r",
      "100%|██████████| 1/1 [00:01<00:00,  1.03s/it]"
     ]
    },
    {
     "name": "stderr",
     "output_type": "stream",
     "text": [
      "\r",
      "100%|██████████| 1/1 [00:01<00:00,  1.03s/it]"
     ]
    },
    {
     "name": "stdout",
     "output_type": "stream",
     "text": [
      "\n",
      "rate limit: 7 \n",
      "UpdateDetails API calls: create: 1, read: 0, update: 0, delete: 0, backoff: 0\n"
     ]
    },
    {
     "name": "stderr",
     "output_type": "stream",
     "text": [
      "\n"
     ]
    },
    {
     "name": "stdout",
     "output_type": "stream",
     "text": [
      "updating: [{'Key': 1, 'Updating Leeftijdsgroep': 'false'}]\n",
      "Key                         int64\n",
      "Updating Leeftijdsgroep    object\n",
      "dtype: object\n"
     ]
    },
    {
     "name": "stderr",
     "output_type": "stream",
     "text": [
      "\r",
      "  0%|          | 0/1 [00:00<?, ?it/s]"
     ]
    },
    {
     "name": "stderr",
     "output_type": "stream",
     "text": [
      "\r",
      "100%|██████████| 1/1 [00:01<00:00,  1.12s/it]"
     ]
    },
    {
     "name": "stderr",
     "output_type": "stream",
     "text": [
      "\r",
      "100%|██████████| 1/1 [00:01<00:00,  1.12s/it]"
     ]
    },
    {
     "name": "stdout",
     "output_type": "stream",
     "text": [
      "\n",
      "rate limit: 7 \n",
      "LaatsteUpdate API calls: create: 0, read: 0, update: 1, delete: 0, backoff: 0\n"
     ]
    },
    {
     "name": "stderr",
     "output_type": "stream",
     "text": [
      "\n"
     ]
    }
   ],
   "source": [
    "if knack:\n",
    "  await knack.publish(tabel.fillna(0).assign(Datum=tabel.Datum.dt.strftime('%Y-%m-%d')), 'Leeftijdsgroep', Cache)"
   ]
  }
 ],
 "metadata": {
  "jupytext": {
   "cell_metadata_filter": "title,-all"
  },
  "kernelspec": {
   "display_name": "Python 3 (ipykernel)",
   "language": "python",
   "name": "python3"
  },
  "language_info": {
   "codemirror_mode": {
    "name": "ipython",
    "version": 3
   },
   "file_extension": ".py",
   "mimetype": "text/x-python",
   "name": "python",
   "nbconvert_exporter": "python",
   "pygments_lexer": "ipython3",
   "version": "3.9.7"
  },
  "papermill": {
   "default_parameters": {},
   "duration": 323.646671,
   "end_time": "2021-10-21T13:35:39.284665",
   "environment_variables": {},
   "exception": null,
   "input_path": "-",
   "output_path": "LeeftijdsgroepenLandelijk.ipynb",
   "parameters": {},
   "start_time": "2021-10-21T13:30:15.637994",
   "version": "2.3.3"
  }
 },
 "nbformat": 4,
 "nbformat_minor": 5
}