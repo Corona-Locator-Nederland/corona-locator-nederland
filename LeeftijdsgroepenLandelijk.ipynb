{
 "cells": [
  {
   "cell_type": "code",
   "execution_count": 1,
   "id": "5141a74e",
   "metadata": {
    "execution": {
     "iopub.execute_input": "2021-09-10T13:31:00.562287Z",
     "iopub.status.busy": "2021-09-10T13:31:00.561769Z",
     "iopub.status.idle": "2021-09-10T13:31:05.545842Z",
     "shell.execute_reply": "2021-09-10T13:31:05.545251Z"
    },
    "lines_to_next_cell": 1,
    "papermill": {
     "duration": 5.020611,
     "end_time": "2021-09-10T13:31:05.545992",
     "exception": false,
     "start_time": "2021-09-10T13:31:00.525381",
     "status": "completed"
    },
    "tags": []
   },
   "outputs": [],
   "source": [
    "from IPython import get_ipython\n",
    "from IPython.core.display import display\n",
    "get_ipython().run_line_magic('load_ext', 'autoreload')\n",
    "get_ipython().run_line_magic('autoreload', '2')\n",
    "get_ipython().run_line_magic('run', 'setup')"
   ]
  },
  {
   "cell_type": "code",
   "execution_count": 2,
   "id": "8b49c676",
   "metadata": {
    "execution": {
     "iopub.execute_input": "2021-09-10T13:31:05.559958Z",
     "iopub.status.busy": "2021-09-10T13:31:05.558678Z",
     "iopub.status.idle": "2021-09-10T13:36:17.610488Z",
     "shell.execute_reply": "2021-09-10T13:36:17.610810Z"
    },
    "lines_to_next_cell": 1,
    "papermill": {
     "duration": 312.060206,
     "end_time": "2021-09-10T13:36:17.610945",
     "exception": false,
     "start_time": "2021-09-10T13:31:05.550739",
     "status": "completed"
    },
    "tags": [],
    "title": "leeftijdsgroepen: download RIVM data"
   },
   "outputs": [
    {
     "name": "stdout",
     "output_type": "stream",
     "text": [
      "downloading rivm/COVID-19_casus_landelijk-2021-09-10@13-15.csv\n"
     ]
    },
    {
     "name": "stdout",
     "output_type": "stream",
     "text": [
      "rivm COVID-19_casus_landelijk zipping rivm/COVID-19_casus_landelijk-2021-09-10@13-15.csv\n"
     ]
    },
    {
     "name": "stdout",
     "output_type": "stream",
     "text": [
      "loading rivm/COVID-19_casus_landelijk-2021-09-10@13-15.csv.gz\n"
     ]
    },
    {
     "data": {
      "text/html": [
       "<div>\n",
       "<style scoped>\n",
       "    .dataframe tbody tr th:only-of-type {\n",
       "        vertical-align: middle;\n",
       "    }\n",
       "\n",
       "    .dataframe tbody tr th {\n",
       "        vertical-align: top;\n",
       "    }\n",
       "\n",
       "    .dataframe thead th {\n",
       "        text-align: right;\n",
       "    }\n",
       "</style>\n",
       "<table border=\"1\" class=\"dataframe\">\n",
       "  <thead>\n",
       "    <tr style=\"text-align: right;\">\n",
       "      <th></th>\n",
       "      <th>Date_file</th>\n",
       "      <th>Date_statistics</th>\n",
       "      <th>Date_statistics_type</th>\n",
       "      <th>Agegroup</th>\n",
       "      <th>Sex</th>\n",
       "      <th>Province</th>\n",
       "      <th>Hospital_admission</th>\n",
       "      <th>Deceased</th>\n",
       "      <th>Week_of_death</th>\n",
       "      <th>Municipal_health_service</th>\n",
       "    </tr>\n",
       "  </thead>\n",
       "  <tbody>\n",
       "    <tr>\n",
       "      <th>0</th>\n",
       "      <td>2021-09-10 10:00:00</td>\n",
       "      <td>2020-01-01</td>\n",
       "      <td>DOO</td>\n",
       "      <td>40-49</td>\n",
       "      <td>Female</td>\n",
       "      <td>Noord-Holland</td>\n",
       "      <td>No</td>\n",
       "      <td>No</td>\n",
       "      <td>NaN</td>\n",
       "      <td>GGD Amsterdam</td>\n",
       "    </tr>\n",
       "    <tr>\n",
       "      <th>1</th>\n",
       "      <td>2021-09-10 10:00:00</td>\n",
       "      <td>2020-01-01</td>\n",
       "      <td>DOO</td>\n",
       "      <td>50-59</td>\n",
       "      <td>Male</td>\n",
       "      <td>Gelderland</td>\n",
       "      <td>No</td>\n",
       "      <td>No</td>\n",
       "      <td>NaN</td>\n",
       "      <td>Veiligheids- en Gezondheidsregio Gelderland-Mi...</td>\n",
       "    </tr>\n",
       "    <tr>\n",
       "      <th>2</th>\n",
       "      <td>2021-09-10 10:00:00</td>\n",
       "      <td>2020-01-01</td>\n",
       "      <td>DOO</td>\n",
       "      <td>20-29</td>\n",
       "      <td>Female</td>\n",
       "      <td>Zuid-Holland</td>\n",
       "      <td>No</td>\n",
       "      <td>No</td>\n",
       "      <td>NaN</td>\n",
       "      <td>GGD Hollands-Midden</td>\n",
       "    </tr>\n",
       "    <tr>\n",
       "      <th>3</th>\n",
       "      <td>2021-09-10 10:00:00</td>\n",
       "      <td>2020-01-01</td>\n",
       "      <td>DOO</td>\n",
       "      <td>60-69</td>\n",
       "      <td>Female</td>\n",
       "      <td>Noord-Holland</td>\n",
       "      <td>No</td>\n",
       "      <td>No</td>\n",
       "      <td>NaN</td>\n",
       "      <td>GGD Hollands-Noorden</td>\n",
       "    </tr>\n",
       "    <tr>\n",
       "      <th>4</th>\n",
       "      <td>2021-09-10 10:00:00</td>\n",
       "      <td>2020-01-04</td>\n",
       "      <td>DOO</td>\n",
       "      <td>10-19</td>\n",
       "      <td>Female</td>\n",
       "      <td>Gelderland</td>\n",
       "      <td>Unknown</td>\n",
       "      <td>No</td>\n",
       "      <td>NaN</td>\n",
       "      <td>GGD Gelderland-Zuid</td>\n",
       "    </tr>\n",
       "  </tbody>\n",
       "</table>\n",
       "</div>"
      ],
      "text/plain": [
       "             Date_file Date_statistics Date_statistics_type Agegroup     Sex  \\\n",
       "0  2021-09-10 10:00:00      2020-01-01                  DOO    40-49  Female   \n",
       "1  2021-09-10 10:00:00      2020-01-01                  DOO    50-59    Male   \n",
       "2  2021-09-10 10:00:00      2020-01-01                  DOO    20-29  Female   \n",
       "3  2021-09-10 10:00:00      2020-01-01                  DOO    60-69  Female   \n",
       "4  2021-09-10 10:00:00      2020-01-04                  DOO    10-19  Female   \n",
       "\n",
       "        Province Hospital_admission Deceased  Week_of_death  \\\n",
       "0  Noord-Holland                 No       No            NaN   \n",
       "1     Gelderland                 No       No            NaN   \n",
       "2   Zuid-Holland                 No       No            NaN   \n",
       "3  Noord-Holland                 No       No            NaN   \n",
       "4     Gelderland            Unknown       No            NaN   \n",
       "\n",
       "                            Municipal_health_service  \n",
       "0                                      GGD Amsterdam  \n",
       "1  Veiligheids- en Gezondheidsregio Gelderland-Mi...  \n",
       "2                                GGD Hollands-Midden  \n",
       "3                               GGD Hollands-Noorden  \n",
       "4                                GGD Gelderland-Zuid  "
      ]
     },
     "metadata": {},
     "output_type": "display_data"
    }
   ],
   "source": [
    "#leeftijdsgroepen = SimpleNamespace()\n",
    "@run\n",
    "def cell():\n",
    "  global rivm\n",
    "  rivm = RIVM.csv('COVID-19_casus_landelijk')\n",
    "  display(rivm.head())"
   ]
  },
  {
   "cell_type": "code",
   "execution_count": 3,
   "id": "b378933e",
   "metadata": {
    "execution": {
     "iopub.execute_input": "2021-09-10T13:36:17.622691Z",
     "iopub.status.busy": "2021-09-10T13:36:17.621302Z",
     "iopub.status.idle": "2021-09-10T13:36:21.266235Z",
     "shell.execute_reply": "2021-09-10T13:36:21.265702Z"
    },
    "lines_to_next_cell": 1,
    "papermill": {
     "duration": 3.65097,
     "end_time": "2021-09-10T13:36:21.266365",
     "exception": false,
     "start_time": "2021-09-10T13:36:17.615395",
     "status": "completed"
    },
    "tags": [],
    "title": "Download de bevolkings cijfers van CBS, uitgesplitst op de leeftijds categorien in de dataset van het RIVM"
   },
   "outputs": [],
   "source": [
    "@run\n",
    "def cell():\n",
    "  global bevolking\n",
    "  bevolking = CBS.bevolking(leeftijdsgroepen=True)"
   ]
  },
  {
   "cell_type": "code",
   "execution_count": 4,
   "id": "4fd9fa39",
   "metadata": {
    "execution": {
     "iopub.execute_input": "2021-09-10T13:36:21.289852Z",
     "iopub.status.busy": "2021-09-10T13:36:21.280341Z",
     "iopub.status.idle": "2021-09-10T13:36:27.934780Z",
     "shell.execute_reply": "2021-09-10T13:36:27.934066Z"
    },
    "lines_to_next_cell": 1,
    "papermill": {
     "duration": 6.662714,
     "end_time": "2021-09-10T13:36:27.934898",
     "exception": false,
     "start_time": "2021-09-10T13:36:21.272184",
     "status": "completed"
    },
    "tags": [],
    "title": "leeftijdsgroepen: prepareer tabel"
   },
   "outputs": [
    {
     "data": {
      "text/html": [
       "<style type=\"text/css\">\n",
       "#T_ca46d_row0_col7 {\n",
       "  background-color: #404688;\n",
       "  color: #f1f1f1;\n",
       "}\n",
       "#T_ca46d_row0_col8, #T_ca46d_row1_col8, #T_ca46d_row2_col9, #T_ca46d_row3_col9, #T_ca46d_row4_col9 {\n",
       "  background-color: #440154;\n",
       "  color: #f1f1f1;\n",
       "}\n",
       "#T_ca46d_row0_col9 {\n",
       "  background-color: #424186;\n",
       "  color: #f1f1f1;\n",
       "}\n",
       "#T_ca46d_row0_col10 {\n",
       "  background-color: #3c4f8a;\n",
       "  color: #f1f1f1;\n",
       "}\n",
       "#T_ca46d_row0_col11 {\n",
       "  background-color: #297a8e;\n",
       "  color: #f1f1f1;\n",
       "}\n",
       "#T_ca46d_row0_col12 {\n",
       "  background-color: #22a884;\n",
       "  color: #f1f1f1;\n",
       "}\n",
       "#T_ca46d_row0_col13 {\n",
       "  background-color: #65cb5e;\n",
       "  color: #000000;\n",
       "}\n",
       "#T_ca46d_row0_col14 {\n",
       "  background-color: #b5de2b;\n",
       "  color: #000000;\n",
       "}\n",
       "#T_ca46d_row0_col15, #T_ca46d_row1_col15 {\n",
       "  background-color: #cde11d;\n",
       "  color: #000000;\n",
       "}\n",
       "#T_ca46d_row0_col16, #T_ca46d_row1_col16, #T_ca46d_row4_col16 {\n",
       "  background-color: #f4e61e;\n",
       "  color: #000000;\n",
       "}\n",
       "#T_ca46d_row0_col17, #T_ca46d_row1_col17, #T_ca46d_row2_col17, #T_ca46d_row3_col17, #T_ca46d_row4_col17 {\n",
       "  background-color: #fde725;\n",
       "  color: #000000;\n",
       "}\n",
       "#T_ca46d_row1_col7 {\n",
       "  background-color: #277f8e;\n",
       "  color: #f1f1f1;\n",
       "}\n",
       "#T_ca46d_row1_col9 {\n",
       "  background-color: #481a6c;\n",
       "  color: #f1f1f1;\n",
       "}\n",
       "#T_ca46d_row1_col10 {\n",
       "  background-color: #3e4989;\n",
       "  color: #f1f1f1;\n",
       "}\n",
       "#T_ca46d_row1_col11 {\n",
       "  background-color: #2a778e;\n",
       "  color: #f1f1f1;\n",
       "}\n",
       "#T_ca46d_row1_col12 {\n",
       "  background-color: #1e9d89;\n",
       "  color: #f1f1f1;\n",
       "}\n",
       "#T_ca46d_row1_col13 {\n",
       "  background-color: #4cc26c;\n",
       "  color: #000000;\n",
       "}\n",
       "#T_ca46d_row1_col14 {\n",
       "  background-color: #a5db36;\n",
       "  color: #000000;\n",
       "}\n",
       "#T_ca46d_row2_col7 {\n",
       "  background-color: #2eb37c;\n",
       "  color: #f1f1f1;\n",
       "}\n",
       "#T_ca46d_row2_col8 {\n",
       "  background-color: #423f85;\n",
       "  color: #f1f1f1;\n",
       "}\n",
       "#T_ca46d_row2_col10 {\n",
       "  background-color: #375a8c;\n",
       "  color: #f1f1f1;\n",
       "}\n",
       "#T_ca46d_row2_col11 {\n",
       "  background-color: #24878e;\n",
       "  color: #f1f1f1;\n",
       "}\n",
       "#T_ca46d_row2_col12 {\n",
       "  background-color: #22a785;\n",
       "  color: #f1f1f1;\n",
       "}\n",
       "#T_ca46d_row2_col13 {\n",
       "  background-color: #5ec962;\n",
       "  color: #000000;\n",
       "}\n",
       "#T_ca46d_row2_col14 {\n",
       "  background-color: #aadc32;\n",
       "  color: #000000;\n",
       "}\n",
       "#T_ca46d_row2_col15 {\n",
       "  background-color: #d5e21a;\n",
       "  color: #000000;\n",
       "}\n",
       "#T_ca46d_row2_col16 {\n",
       "  background-color: #f6e620;\n",
       "  color: #000000;\n",
       "}\n",
       "#T_ca46d_row3_col7 {\n",
       "  background-color: #5ac864;\n",
       "  color: #000000;\n",
       "}\n",
       "#T_ca46d_row3_col8 {\n",
       "  background-color: #3f4889;\n",
       "  color: #f1f1f1;\n",
       "}\n",
       "#T_ca46d_row3_col10 {\n",
       "  background-color: #2f6b8e;\n",
       "  color: #f1f1f1;\n",
       "}\n",
       "#T_ca46d_row3_col11 {\n",
       "  background-color: #1f978b;\n",
       "  color: #f1f1f1;\n",
       "}\n",
       "#T_ca46d_row3_col12 {\n",
       "  background-color: #27ad81;\n",
       "  color: #f1f1f1;\n",
       "}\n",
       "#T_ca46d_row3_col13 {\n",
       "  background-color: #77d153;\n",
       "  color: #000000;\n",
       "}\n",
       "#T_ca46d_row3_col14, #T_ca46d_row4_col14 {\n",
       "  background-color: #c0df25;\n",
       "  color: #000000;\n",
       "}\n",
       "#T_ca46d_row3_col15, #T_ca46d_row4_col15 {\n",
       "  background-color: #d8e219;\n",
       "  color: #000000;\n",
       "}\n",
       "#T_ca46d_row3_col16 {\n",
       "  background-color: #f1e51d;\n",
       "  color: #000000;\n",
       "}\n",
       "#T_ca46d_row4_col7 {\n",
       "  background-color: #84d44b;\n",
       "  color: #000000;\n",
       "}\n",
       "#T_ca46d_row4_col8 {\n",
       "  background-color: #31688e;\n",
       "  color: #f1f1f1;\n",
       "}\n",
       "#T_ca46d_row4_col10 {\n",
       "  background-color: #24868e;\n",
       "  color: #f1f1f1;\n",
       "}\n",
       "#T_ca46d_row4_col11 {\n",
       "  background-color: #26ad81;\n",
       "  color: #f1f1f1;\n",
       "}\n",
       "#T_ca46d_row4_col12 {\n",
       "  background-color: #35b779;\n",
       "  color: #f1f1f1;\n",
       "}\n",
       "#T_ca46d_row4_col13 {\n",
       "  background-color: #7fd34e;\n",
       "  color: #000000;\n",
       "}\n",
       "</style>\n",
       "<table id=\"T_ca46d_\">\n",
       "  <thead>\n",
       "    <tr>\n",
       "      <th class=\"blank level0\" >&nbsp;</th>\n",
       "      <th class=\"col_heading level0 col0\" >Key</th>\n",
       "      <th class=\"col_heading level0 col1\" >Weken terug</th>\n",
       "      <th class=\"col_heading level0 col2\" >Datum</th>\n",
       "      <th class=\"col_heading level0 col3\" >Periode</th>\n",
       "      <th class=\"col_heading level0 col4\" >Gemiddelde leeftijd</th>\n",
       "      <th class=\"col_heading level0 col5\" >Totaal</th>\n",
       "      <th class=\"col_heading level0 col6\" >Type</th>\n",
       "      <th class=\"col_heading level0 col7\" >0-9</th>\n",
       "      <th class=\"col_heading level0 col8\" >10-19</th>\n",
       "      <th class=\"col_heading level0 col9\" >20-29</th>\n",
       "      <th class=\"col_heading level0 col10\" >30-39</th>\n",
       "      <th class=\"col_heading level0 col11\" >40-49</th>\n",
       "      <th class=\"col_heading level0 col12\" >50-59</th>\n",
       "      <th class=\"col_heading level0 col13\" >60-69</th>\n",
       "      <th class=\"col_heading level0 col14\" >70-79</th>\n",
       "      <th class=\"col_heading level0 col15\" >80-89</th>\n",
       "      <th class=\"col_heading level0 col16\" >90+</th>\n",
       "      <th class=\"col_heading level0 col17\" >Onbekend</th>\n",
       "      <th class=\"col_heading level0 col18\" >c0-9</th>\n",
       "      <th class=\"col_heading level0 col19\" >c10-19</th>\n",
       "      <th class=\"col_heading level0 col20\" >c20-29</th>\n",
       "      <th class=\"col_heading level0 col21\" >c30-39</th>\n",
       "      <th class=\"col_heading level0 col22\" >c40-49</th>\n",
       "      <th class=\"col_heading level0 col23\" >c50-59</th>\n",
       "      <th class=\"col_heading level0 col24\" >c60-69</th>\n",
       "      <th class=\"col_heading level0 col25\" >c70-79</th>\n",
       "      <th class=\"col_heading level0 col26\" >c80-89</th>\n",
       "      <th class=\"col_heading level0 col27\" >c90+</th>\n",
       "      <th class=\"col_heading level0 col28\" >cOnbekend</th>\n",
       "    </tr>\n",
       "  </thead>\n",
       "  <tbody>\n",
       "    <tr>\n",
       "      <th id=\"T_ca46d_level0_row0\" class=\"row_heading level0 row0\" >0</th>\n",
       "      <td id=\"T_ca46d_row0_col0\" class=\"data row0 col0\" >p000</td>\n",
       "      <td id=\"T_ca46d_row0_col1\" class=\"data row0 col1\" >0</td>\n",
       "      <td id=\"T_ca46d_row0_col2\" class=\"data row0 col2\" >2021-09-10 00:00:00</td>\n",
       "      <td id=\"T_ca46d_row0_col3\" class=\"data row0 col3\" >04/09-10/09</td>\n",
       "      <td id=\"T_ca46d_row0_col4\" class=\"data row0 col4\" >30.500000</td>\n",
       "      <td id=\"T_ca46d_row0_col5\" class=\"data row0 col5\" >10053.000000</td>\n",
       "      <td id=\"T_ca46d_row0_col6\" class=\"data row0 col6\" >Positief getest</td>\n",
       "      <td id=\"T_ca46d_row0_col7\" class=\"data row0 col7\" >1658.000000</td>\n",
       "      <td id=\"T_ca46d_row0_col8\" class=\"data row0 col8\" >2099.000000</td>\n",
       "      <td id=\"T_ca46d_row0_col9\" class=\"data row0 col9\" >1694.000000</td>\n",
       "      <td id=\"T_ca46d_row0_col10\" class=\"data row0 col10\" >1593.000000</td>\n",
       "      <td id=\"T_ca46d_row0_col11\" class=\"data row0 col11\" >1244.000000</td>\n",
       "      <td id=\"T_ca46d_row0_col12\" class=\"data row0 col12\" >839.000000</td>\n",
       "      <td id=\"T_ca46d_row0_col13\" class=\"data row0 col13\" >499.000000</td>\n",
       "      <td id=\"T_ca46d_row0_col14\" class=\"data row0 col14\" >233.000000</td>\n",
       "      <td id=\"T_ca46d_row0_col15\" class=\"data row0 col15\" >159.000000</td>\n",
       "      <td id=\"T_ca46d_row0_col16\" class=\"data row0 col16\" >35.000000</td>\n",
       "      <td id=\"T_ca46d_row0_col17\" class=\"data row0 col17\" >0.000000</td>\n",
       "      <td id=\"T_ca46d_row0_col18\" class=\"data row0 col18\" >789</td>\n",
       "      <td id=\"T_ca46d_row0_col19\" class=\"data row0 col19\" >1000</td>\n",
       "      <td id=\"T_ca46d_row0_col20\" class=\"data row0 col20\" >807</td>\n",
       "      <td id=\"T_ca46d_row0_col21\" class=\"data row0 col21\" >758</td>\n",
       "      <td id=\"T_ca46d_row0_col22\" class=\"data row0 col22\" >592</td>\n",
       "      <td id=\"T_ca46d_row0_col23\" class=\"data row0 col23\" >399</td>\n",
       "      <td id=\"T_ca46d_row0_col24\" class=\"data row0 col24\" >237</td>\n",
       "      <td id=\"T_ca46d_row0_col25\" class=\"data row0 col25\" >111</td>\n",
       "      <td id=\"T_ca46d_row0_col26\" class=\"data row0 col26\" >75</td>\n",
       "      <td id=\"T_ca46d_row0_col27\" class=\"data row0 col27\" >16</td>\n",
       "      <td id=\"T_ca46d_row0_col28\" class=\"data row0 col28\" >0</td>\n",
       "    </tr>\n",
       "    <tr>\n",
       "      <th id=\"T_ca46d_level0_row1\" class=\"row_heading level0 row1\" >1</th>\n",
       "      <td id=\"T_ca46d_row1_col0\" class=\"data row1 col0\" >p001</td>\n",
       "      <td id=\"T_ca46d_row1_col1\" class=\"data row1 col1\" >1</td>\n",
       "      <td id=\"T_ca46d_row1_col2\" class=\"data row1 col2\" >2021-09-10 00:00:00</td>\n",
       "      <td id=\"T_ca46d_row1_col3\" class=\"data row1 col3\" >28/08-03/09</td>\n",
       "      <td id=\"T_ca46d_row1_col4\" class=\"data row1 col4\" >32.400000</td>\n",
       "      <td id=\"T_ca46d_row1_col5\" class=\"data row1 col5\" >16521.000000</td>\n",
       "      <td id=\"T_ca46d_row1_col6\" class=\"data row1 col6\" >Positief getest</td>\n",
       "      <td id=\"T_ca46d_row1_col7\" class=\"data row1 col7\" >1945.000000</td>\n",
       "      <td id=\"T_ca46d_row1_col8\" class=\"data row1 col8\" >3409.000000</td>\n",
       "      <td id=\"T_ca46d_row1_col9\" class=\"data row1 col9\" >3180.000000</td>\n",
       "      <td id=\"T_ca46d_row1_col10\" class=\"data row1 col10\" >2660.000000</td>\n",
       "      <td id=\"T_ca46d_row1_col11\" class=\"data row1 col11\" >2059.000000</td>\n",
       "      <td id=\"T_ca46d_row1_col12\" class=\"data row1 col12\" >1529.000000</td>\n",
       "      <td id=\"T_ca46d_row1_col13\" class=\"data row1 col13\" >960.000000</td>\n",
       "      <td id=\"T_ca46d_row1_col14\" class=\"data row1 col14\" >460.000000</td>\n",
       "      <td id=\"T_ca46d_row1_col15\" class=\"data row1 col15\" >258.000000</td>\n",
       "      <td id=\"T_ca46d_row1_col16\" class=\"data row1 col16\" >61.000000</td>\n",
       "      <td id=\"T_ca46d_row1_col17\" class=\"data row1 col17\" >0.000000</td>\n",
       "      <td id=\"T_ca46d_row1_col18\" class=\"data row1 col18\" >570</td>\n",
       "      <td id=\"T_ca46d_row1_col19\" class=\"data row1 col19\" >1000</td>\n",
       "      <td id=\"T_ca46d_row1_col20\" class=\"data row1 col20\" >932</td>\n",
       "      <td id=\"T_ca46d_row1_col21\" class=\"data row1 col21\" >780</td>\n",
       "      <td id=\"T_ca46d_row1_col22\" class=\"data row1 col22\" >603</td>\n",
       "      <td id=\"T_ca46d_row1_col23\" class=\"data row1 col23\" >448</td>\n",
       "      <td id=\"T_ca46d_row1_col24\" class=\"data row1 col24\" >281</td>\n",
       "      <td id=\"T_ca46d_row1_col25\" class=\"data row1 col25\" >134</td>\n",
       "      <td id=\"T_ca46d_row1_col26\" class=\"data row1 col26\" >75</td>\n",
       "      <td id=\"T_ca46d_row1_col27\" class=\"data row1 col27\" >17</td>\n",
       "      <td id=\"T_ca46d_row1_col28\" class=\"data row1 col28\" >0</td>\n",
       "    </tr>\n",
       "    <tr>\n",
       "      <th id=\"T_ca46d_level0_row2\" class=\"row_heading level0 row2\" >2</th>\n",
       "      <td id=\"T_ca46d_row2_col0\" class=\"data row2 col0\" >p002</td>\n",
       "      <td id=\"T_ca46d_row2_col1\" class=\"data row2 col1\" >2</td>\n",
       "      <td id=\"T_ca46d_row2_col2\" class=\"data row2 col2\" >2021-09-10 00:00:00</td>\n",
       "      <td id=\"T_ca46d_row2_col3\" class=\"data row2 col3\" >21/08-27/08</td>\n",
       "      <td id=\"T_ca46d_row2_col4\" class=\"data row2 col4\" >33.400000</td>\n",
       "      <td id=\"T_ca46d_row2_col5\" class=\"data row2 col5\" >17051.000000</td>\n",
       "      <td id=\"T_ca46d_row2_col6\" class=\"data row2 col6\" >Positief getest</td>\n",
       "      <td id=\"T_ca46d_row2_col7\" class=\"data row2 col7\" >1409.000000</td>\n",
       "      <td id=\"T_ca46d_row2_col8\" class=\"data row2 col8\" >3243.000000</td>\n",
       "      <td id=\"T_ca46d_row2_col9\" class=\"data row2 col9\" >3978.000000</td>\n",
       "      <td id=\"T_ca46d_row2_col10\" class=\"data row2 col10\" >2867.000000</td>\n",
       "      <td id=\"T_ca46d_row2_col11\" class=\"data row2 col11\" >2131.000000</td>\n",
       "      <td id=\"T_ca46d_row2_col12\" class=\"data row2 col12\" >1613.000000</td>\n",
       "      <td id=\"T_ca46d_row2_col13\" class=\"data row2 col13\" >983.000000</td>\n",
       "      <td id=\"T_ca46d_row2_col14\" class=\"data row2 col14\" >503.000000</td>\n",
       "      <td id=\"T_ca46d_row2_col15\" class=\"data row2 col15\" >260.000000</td>\n",
       "      <td id=\"T_ca46d_row2_col16\" class=\"data row2 col16\" >63.000000</td>\n",
       "      <td id=\"T_ca46d_row2_col17\" class=\"data row2 col17\" >1.000000</td>\n",
       "      <td id=\"T_ca46d_row2_col18\" class=\"data row2 col18\" >354</td>\n",
       "      <td id=\"T_ca46d_row2_col19\" class=\"data row2 col19\" >815</td>\n",
       "      <td id=\"T_ca46d_row2_col20\" class=\"data row2 col20\" >1000</td>\n",
       "      <td id=\"T_ca46d_row2_col21\" class=\"data row2 col21\" >720</td>\n",
       "      <td id=\"T_ca46d_row2_col22\" class=\"data row2 col22\" >535</td>\n",
       "      <td id=\"T_ca46d_row2_col23\" class=\"data row2 col23\" >405</td>\n",
       "      <td id=\"T_ca46d_row2_col24\" class=\"data row2 col24\" >247</td>\n",
       "      <td id=\"T_ca46d_row2_col25\" class=\"data row2 col25\" >126</td>\n",
       "      <td id=\"T_ca46d_row2_col26\" class=\"data row2 col26\" >65</td>\n",
       "      <td id=\"T_ca46d_row2_col27\" class=\"data row2 col27\" >15</td>\n",
       "      <td id=\"T_ca46d_row2_col28\" class=\"data row2 col28\" >0</td>\n",
       "    </tr>\n",
       "    <tr>\n",
       "      <th id=\"T_ca46d_level0_row3\" class=\"row_heading level0 row3\" >3</th>\n",
       "      <td id=\"T_ca46d_row3_col0\" class=\"data row3 col0\" >p003</td>\n",
       "      <td id=\"T_ca46d_row3_col1\" class=\"data row3 col1\" >3</td>\n",
       "      <td id=\"T_ca46d_row3_col2\" class=\"data row3 col2\" >2021-09-10 00:00:00</td>\n",
       "      <td id=\"T_ca46d_row3_col3\" class=\"data row3 col3\" >14/08-20/08</td>\n",
       "      <td id=\"T_ca46d_row3_col4\" class=\"data row3 col4\" >33.300000</td>\n",
       "      <td id=\"T_ca46d_row3_col5\" class=\"data row3 col5\" >16897.000000</td>\n",
       "      <td id=\"T_ca46d_row3_col6\" class=\"data row3 col6\" >Positief getest</td>\n",
       "      <td id=\"T_ca46d_row3_col7\" class=\"data row3 col7\" >1097.000000</td>\n",
       "      <td id=\"T_ca46d_row3_col8\" class=\"data row3 col8\" >3371.000000</td>\n",
       "      <td id=\"T_ca46d_row3_col9\" class=\"data row3 col9\" >4301.000000</td>\n",
       "      <td id=\"T_ca46d_row3_col10\" class=\"data row3 col10\" >2812.000000</td>\n",
       "      <td id=\"T_ca46d_row3_col11\" class=\"data row3 col11\" >2030.000000</td>\n",
       "      <td id=\"T_ca46d_row3_col12\" class=\"data row3 col12\" >1620.000000</td>\n",
       "      <td id=\"T_ca46d_row3_col13\" class=\"data row3 col13\" >889.000000</td>\n",
       "      <td id=\"T_ca46d_row3_col14\" class=\"data row3 col14\" >420.000000</td>\n",
       "      <td id=\"T_ca46d_row3_col15\" class=\"data row3 col15\" >268.000000</td>\n",
       "      <td id=\"T_ca46d_row3_col16\" class=\"data row3 col16\" >89.000000</td>\n",
       "      <td id=\"T_ca46d_row3_col17\" class=\"data row3 col17\" >0.000000</td>\n",
       "      <td id=\"T_ca46d_row3_col18\" class=\"data row3 col18\" >255</td>\n",
       "      <td id=\"T_ca46d_row3_col19\" class=\"data row3 col19\" >783</td>\n",
       "      <td id=\"T_ca46d_row3_col20\" class=\"data row3 col20\" >1000</td>\n",
       "      <td id=\"T_ca46d_row3_col21\" class=\"data row3 col21\" >653</td>\n",
       "      <td id=\"T_ca46d_row3_col22\" class=\"data row3 col22\" >471</td>\n",
       "      <td id=\"T_ca46d_row3_col23\" class=\"data row3 col23\" >376</td>\n",
       "      <td id=\"T_ca46d_row3_col24\" class=\"data row3 col24\" >206</td>\n",
       "      <td id=\"T_ca46d_row3_col25\" class=\"data row3 col25\" >97</td>\n",
       "      <td id=\"T_ca46d_row3_col26\" class=\"data row3 col26\" >62</td>\n",
       "      <td id=\"T_ca46d_row3_col27\" class=\"data row3 col27\" >20</td>\n",
       "      <td id=\"T_ca46d_row3_col28\" class=\"data row3 col28\" >0</td>\n",
       "    </tr>\n",
       "    <tr>\n",
       "      <th id=\"T_ca46d_level0_row4\" class=\"row_heading level0 row4\" >4</th>\n",
       "      <td id=\"T_ca46d_row4_col0\" class=\"data row4 col0\" >p004</td>\n",
       "      <td id=\"T_ca46d_row4_col1\" class=\"data row4 col1\" >4</td>\n",
       "      <td id=\"T_ca46d_row4_col2\" class=\"data row4 col2\" >2021-09-10 00:00:00</td>\n",
       "      <td id=\"T_ca46d_row4_col3\" class=\"data row4 col3\" >07/08-13/08</td>\n",
       "      <td id=\"T_ca46d_row4_col4\" class=\"data row4 col4\" >33.600000</td>\n",
       "      <td id=\"T_ca46d_row4_col5\" class=\"data row4 col5\" >16434.000000</td>\n",
       "      <td id=\"T_ca46d_row4_col6\" class=\"data row4 col6\" >Positief getest</td>\n",
       "      <td id=\"T_ca46d_row4_col7\" class=\"data row4 col7\" >885.000000</td>\n",
       "      <td id=\"T_ca46d_row4_col8\" class=\"data row4 col8\" >3152.000000</td>\n",
       "      <td id=\"T_ca46d_row4_col9\" class=\"data row4 col9\" >4728.000000</td>\n",
       "      <td id=\"T_ca46d_row4_col10\" class=\"data row4 col10\" >2559.000000</td>\n",
       "      <td id=\"T_ca46d_row4_col11\" class=\"data row4 col11\" >1798.000000</td>\n",
       "      <td id=\"T_ca46d_row4_col12\" class=\"data row4 col12\" >1579.000000</td>\n",
       "      <td id=\"T_ca46d_row4_col13\" class=\"data row4 col13\" >920.000000</td>\n",
       "      <td id=\"T_ca46d_row4_col14\" class=\"data row4 col14\" >446.000000</td>\n",
       "      <td id=\"T_ca46d_row4_col15\" class=\"data row4 col15\" >280.000000</td>\n",
       "      <td id=\"T_ca46d_row4_col16\" class=\"data row4 col16\" >84.000000</td>\n",
       "      <td id=\"T_ca46d_row4_col17\" class=\"data row4 col17\" >3.000000</td>\n",
       "      <td id=\"T_ca46d_row4_col18\" class=\"data row4 col18\" >187</td>\n",
       "      <td id=\"T_ca46d_row4_col19\" class=\"data row4 col19\" >666</td>\n",
       "      <td id=\"T_ca46d_row4_col20\" class=\"data row4 col20\" >1000</td>\n",
       "      <td id=\"T_ca46d_row4_col21\" class=\"data row4 col21\" >541</td>\n",
       "      <td id=\"T_ca46d_row4_col22\" class=\"data row4 col22\" >380</td>\n",
       "      <td id=\"T_ca46d_row4_col23\" class=\"data row4 col23\" >333</td>\n",
       "      <td id=\"T_ca46d_row4_col24\" class=\"data row4 col24\" >194</td>\n",
       "      <td id=\"T_ca46d_row4_col25\" class=\"data row4 col25\" >94</td>\n",
       "      <td id=\"T_ca46d_row4_col26\" class=\"data row4 col26\" >59</td>\n",
       "      <td id=\"T_ca46d_row4_col27\" class=\"data row4 col27\" >17</td>\n",
       "      <td id=\"T_ca46d_row4_col28\" class=\"data row4 col28\" >0</td>\n",
       "    </tr>\n",
       "  </tbody>\n",
       "</table>\n"
      ],
      "text/plain": [
       "<pandas.io.formats.style.Styler at 0x7fd609626df0>"
      ]
     },
     "metadata": {},
     "output_type": "display_data"
    }
   ],
   "source": [
    "# Bereken de stand van zaken van besmettingen / hospitalisaties / overlijden, per cohort in absolute aantallen en aantallen per 100k, met een kleur indicator voor de aantallen.\n",
    "# vervang <50 en Unknown door Onbekend\n",
    "@run\n",
    "def cell():\n",
    "  rivm['Cohort'] = rivm['Agegroup'].replace({'<50': 'Onbekend', 'Unknown': 'Onbekend'})\n",
    "  # aangenomen 'gemiddelde' leeftijd van een cohort: minimum waarde + 5\n",
    "  assumed_cohort_age = [(cohort, [int(n) for n in cohort.replace('+', '').split('-')]) for cohort in rivm['Cohort'].unique() if cohort[0].isdigit()]\n",
    "  assumed_cohort_age = { cohort: min(rng) + 5 for cohort, rng in assumed_cohort_age }\n",
    "  rivm['Gemiddelde leeftijd'] = rivm['Cohort'].apply(lambda x: assumed_cohort_age.get(x, np.nan))\n",
    "\n",
    "  # verwijder tijd\n",
    "  rivm['Date_file_date'] = pd.to_datetime(rivm['Date_file'].replace(r' .*', '', regex=True))\n",
    "\n",
    "  rivm['Date_statistics_date'] = pd.to_datetime(rivm['Date_statistics'])\n",
    "\n",
    "  # weken terug = verschil tussen Date_file en Date_statistcs, gedeeld door 7 dagen\n",
    "  rivm['Weken terug'] = np.floor((rivm['Date_file_date'] - rivm['Date_statistics_date'])/np.timedelta64(7, 'D')).astype(int)\n",
    "\n",
    "  # voeg key, gem leeftijd, kleurnummer en totaal toe\n",
    "  Date_file = rivm['Date_file_date'].unique()[0].astype('M8[D]').astype('O')\n",
    "  cohorten = list(bevolking.index) + ['Onbekend']\n",
    "  def summarize(df, category, prefix):\n",
    "    # aangezien we hier de dataframe in-place wijzigen (bijv door toevoegen kolommen)\n",
    "    # en we het 'rivm' frame later nog clean nodig hebben\n",
    "    df = df.copy(deep=True)\n",
    "\n",
    "    df = (df\n",
    "          .groupby(['Weken terug', 'Cohort'])['count']\n",
    "          .sum()\n",
    "          .unstack(fill_value=np.nan)\n",
    "          .reset_index()\n",
    "          .rename_axis(None, axis=1)\n",
    "        ).merge(df\n",
    "          # we voegen hier gemiddelde leeftijd toe, want die willen we op een ander\n",
    "          # niveau aggregeren voor 'df' overschreven word\n",
    "          .groupby(['Weken terug'])['Gemiddelde leeftijd']\n",
    "          .mean()\n",
    "          .to_frame(), on='Weken terug'\n",
    "        )\n",
    "\n",
    "    # altijd 52 rijen\n",
    "    df = pd.Series(np.arange(52), name='Weken terug').to_frame().merge(df, how='left', on='Weken terug')\n",
    "\n",
    "    # toevoegen missende cohorten\n",
    "    for col in cohorten:\n",
    "      if not col in df:\n",
    "        df[col] = np.nan\n",
    "\n",
    "    # sommeer per rij (axis=1) over de cohorten om een totaal te krijgen\n",
    "    df['Totaal'] = df[cohorten].sum(axis=1)\n",
    "\n",
    "    # voeg periode en datum toe\n",
    "    # periode afgeleid van weken-terug (= de index voor deze dataframe)\n",
    "    df['Datum'] = pd.to_datetime(Date_file)\n",
    "    df['Periode'] = (df\n",
    "      .index.to_series()\n",
    "      .apply(\n",
    "        lambda x: (\n",
    "          (Date_file + datetime.timedelta(weeks=-(x+1), days=1)).strftime('%d/%m')\n",
    "          + '-'\n",
    "          + (Date_file + datetime.timedelta(weeks=-x)).strftime('%d/%m')\n",
    "        )\n",
    "      )\n",
    "    )\n",
    "\n",
    "    # voeg 'Key' en 'Type' kolom toe. Variabele 'type' kan niet, is een language primitive.\n",
    "    df['Key'] = prefix + df.index.astype(str).str.rjust(3, fillchar='0')\n",
    "    df['Type'] = category\n",
    "\n",
    "    # voeg de kleur kolommen toe\n",
    "    for col in cohorten:\n",
    "      df['c' + col] = ((df[col] / df[[col for col in cohorten]].max(axis=1)) * 1000).fillna(0).astype(int)\n",
    "\n",
    "    # herschikken van de kolommen\n",
    "    colorder = ['Key', 'Weken terug', 'Datum', 'Periode', 'Gemiddelde leeftijd', 'Totaal', 'Type']\n",
    "    return df[colorder + [col for col in df if col not in colorder]]\n",
    "\n",
    "  factor = bevolking.to_dict()['per 100k']\n",
    "  global tabel\n",
    "  tabel = pd.concat(\n",
    "    # flatten the result list zodat pd.concat ze onder elkaar kan plakken\n",
    "    functools.reduce(lambda a, b: a + b, [\n",
    "      [summarize(df.assign(count=1), label, prefix), summarize(df.assign(count=df['Cohort'].apply(lambda x: factor.get(x, np.nan))), label + ' per 100.000', prefix + '100k')]\n",
    "      for df, label, prefix in [\n",
    "        (rivm, 'Positief getest', 'p'), # volledige count per cohort\n",
    "        (rivm[rivm.Hospital_admission == 'Yes'], 'Ziekenhuisopname', 'h'), # count van cohort voor Hospital_admission == 'Yes'\n",
    "        (rivm[rivm.Deceased == 'Yes'], 'Overleden', 'd'), # count van cohort voor Deceased == 'Yes'\n",
    "      ]\n",
    "    ])\n",
    "  )\n",
    "\n",
    "  # rood -> groen\n",
    "  cdict = {\n",
    "    'red':   ((0.0, 0.0, 0.0),   # no red at 0\n",
    "              (0.5, 1.0, 1.0),   # all channels set to 1.0 at 0.5 to create white\n",
    "              (1.0, 0.8, 0.8)),  # set to 0.8 so its not too bright at 1\n",
    "    'green': ((0.0, 0.8, 0.8),   # set to 0.8 so its not too bright at 0\n",
    "              (0.5, 1.0, 1.0),   # all channels set to 1.0 at 0.5 to create white\n",
    "              (1.0, 0.0, 0.0)),  # no green at 1\n",
    "    'blue':  ((0.0, 0.0, 0.0),   # no blue at 0\n",
    "              (0.5, 1.0, 1.0),   # all channels set to 1.0 at 0.5 to create white\n",
    "              (1.0, 0.0, 0.0))   # no blue at 1\n",
    "  }\n",
    "  cm = colors.LinearSegmentedColormap('GnRd', cdict)\n",
    "  # geel -> paars\n",
    "  cm = sns.color_palette('viridis_r', as_cmap=True)\n",
    "  display(tabel\n",
    "    .fillna(0)\n",
    "    .head()\n",
    "    .round(1)\n",
    "    .reset_index(drop=True)\n",
    "    .style.background_gradient(cmap=cm, axis=1, subset=cohorten)\n",
    "  )"
   ]
  },
  {
   "cell_type": "code",
   "execution_count": 5,
   "id": "43becd8a",
   "metadata": {
    "execution": {
     "iopub.execute_input": "2021-09-10T13:36:27.951276Z",
     "iopub.status.busy": "2021-09-10T13:36:27.950858Z",
     "iopub.status.idle": "2021-09-10T13:36:59.577999Z",
     "shell.execute_reply": "2021-09-10T13:36:59.577381Z"
    },
    "papermill": {
     "duration": 31.637861,
     "end_time": "2021-09-10T13:36:59.578109",
     "exception": false,
     "start_time": "2021-09-10T13:36:27.940248",
     "status": "completed"
    },
    "tags": [],
    "title": "publish"
   },
   "outputs": [
    {
     "name": "stdout",
     "output_type": "stream",
     "text": [
      "infinities:\n"
     ]
    },
    {
     "name": "stdout",
     "output_type": "stream",
     "text": [
      "Empty DataFrame\n",
      "Columns: []\n",
      "Index: []\n"
     ]
    },
    {
     "name": "stdout",
     "output_type": "stream",
     "text": [
      "nan:\n"
     ]
    },
    {
     "name": "stdout",
     "output_type": "stream",
     "text": [
      "Empty DataFrame\n",
      "Columns: []\n",
      "Index: []\n"
     ]
    },
    {
     "name": "stdout",
     "output_type": "stream",
     "text": [
      "Key                     object\n",
      "Weken terug              int64\n",
      "Datum                   object\n",
      "Periode                 object\n",
      "Gemiddelde leeftijd    float64\n",
      "Totaal                 float64\n",
      "Type                    object\n",
      "0-9                    float64\n",
      "10-19                  float64\n",
      "20-29                  float64\n",
      "30-39                  float64\n",
      "40-49                  float64\n",
      "50-59                  float64\n",
      "60-69                  float64\n",
      "70-79                  float64\n",
      "80-89                  float64\n",
      "90+                    float64\n",
      "Onbekend               float64\n",
      "c0-9                     int64\n",
      "c10-19                   int64\n",
      "c20-29                   int64\n",
      "c30-39                   int64\n",
      "c40-49                   int64\n",
      "c50-59                   int64\n",
      "c60-69                   int64\n",
      "c70-79                   int64\n",
      "c80-89                   int64\n",
      "c90+                     int64\n",
      "cOnbekend                int64\n",
      "dtype: object\n",
      "updating knack\n"
     ]
    },
    {
     "name": "stdout",
     "output_type": "stream",
     "text": [
      "updating: [{'Key': 1, 'Updating Leeftijdsgroep': 'true'}]\n"
     ]
    },
    {
     "name": "stdout",
     "output_type": "stream",
     "text": [
      "restored LaatsteUpdate from hash\n"
     ]
    },
    {
     "name": "stdout",
     "output_type": "stream",
     "text": [
      "Key                         int64\n",
      "Updating Leeftijdsgroep    object\n",
      "dtype: object\n"
     ]
    },
    {
     "name": "stderr",
     "output_type": "stream",
     "text": [
      "\r",
      "  0%|          | 0/1 [00:00<?, ?it/s]"
     ]
    },
    {
     "name": "stderr",
     "output_type": "stream",
     "text": [
      "\r",
      "100%|██████████| 1/1 [00:01<00:00,  1.24s/it]"
     ]
    },
    {
     "name": "stderr",
     "output_type": "stream",
     "text": [
      "\r",
      "100%|██████████| 1/1 [00:01<00:00,  1.25s/it]"
     ]
    },
    {
     "name": "stdout",
     "output_type": "stream",
     "text": [
      "\n",
      "rate limit: 7 \n",
      "LaatsteUpdate API calls: create: 0, read: 1, update: 1, delete: 0, backoff: 0\n"
     ]
    },
    {
     "name": "stderr",
     "output_type": "stream",
     "text": [
      "\n"
     ]
    },
    {
     "name": "stdout",
     "output_type": "stream",
     "text": [
      "restored Leeftijdsgroep from hash\n"
     ]
    },
    {
     "name": "stdout",
     "output_type": "stream",
     "text": [
      "0-9                    float64\n",
      "10-19                  float64\n",
      "20-29                  float64\n",
      "30-39                  float64\n",
      "40-49                  float64\n",
      "50-59                  float64\n",
      "60-69                  float64\n",
      "70-79                  float64\n",
      "80-89                  float64\n",
      "90+                    float64\n",
      "Datum                   object\n",
      "Gemiddelde leeftijd    float64\n",
      "Key                     object\n",
      "Onbekend               float64\n",
      "Periode                 object\n",
      "Totaal                 float64\n",
      "Type                    object\n",
      "Weken terug              int64\n",
      "c0-9                     int64\n",
      "c10-19                   int64\n",
      "c20-29                   int64\n",
      "c30-39                   int64\n",
      "c40-49                   int64\n",
      "c50-59                   int64\n",
      "c60-69                   int64\n",
      "c70-79                   int64\n",
      "c80-89                   int64\n",
      "c90+                     int64\n",
      "cOnbekend                int64\n",
      "dtype: object\n"
     ]
    },
    {
     "name": "stderr",
     "output_type": "stream",
     "text": [
      "\r",
      "  0%|          | 0/143 [00:00<?, ?it/s]"
     ]
    },
    {
     "name": "stderr",
     "output_type": "stream",
     "text": [
      "\r",
      "  1%|          | 1/143 [00:00<02:11,  1.08it/s]"
     ]
    },
    {
     "name": "stderr",
     "output_type": "stream",
     "text": [
      "\r",
      "  3%|▎         | 4/143 [00:01<00:29,  4.65it/s]"
     ]
    },
    {
     "name": "stderr",
     "output_type": "stream",
     "text": [
      "\r",
      "  4%|▍         | 6/143 [00:01<00:24,  5.50it/s]"
     ]
    },
    {
     "name": "stderr",
     "output_type": "stream",
     "text": [
      "\r",
      "  6%|▌         | 8/143 [00:01<00:20,  6.74it/s]"
     ]
    },
    {
     "name": "stderr",
     "output_type": "stream",
     "text": [
      "\r",
      "  7%|▋         | 10/143 [00:02<00:23,  5.63it/s]"
     ]
    },
    {
     "name": "stderr",
     "output_type": "stream",
     "text": [
      "\r",
      "  9%|▉         | 13/143 [00:02<00:24,  5.26it/s]"
     ]
    },
    {
     "name": "stderr",
     "output_type": "stream",
     "text": [
      "\r",
      " 10%|█         | 15/143 [00:02<00:23,  5.53it/s]"
     ]
    },
    {
     "name": "stderr",
     "output_type": "stream",
     "text": [
      "\r",
      " 11%|█         | 16/143 [00:03<00:23,  5.48it/s]"
     ]
    },
    {
     "name": "stderr",
     "output_type": "stream",
     "text": [
      "\r",
      " 13%|█▎        | 19/143 [00:03<00:17,  6.98it/s]"
     ]
    },
    {
     "name": "stderr",
     "output_type": "stream",
     "text": [
      "\r",
      " 14%|█▍        | 20/143 [00:03<00:19,  6.47it/s]"
     ]
    },
    {
     "name": "stderr",
     "output_type": "stream",
     "text": [
      "\r",
      " 15%|█▍        | 21/143 [00:03<00:18,  6.68it/s]"
     ]
    },
    {
     "name": "stderr",
     "output_type": "stream",
     "text": [
      "\r",
      " 15%|█▌        | 22/143 [00:03<00:19,  6.21it/s]"
     ]
    },
    {
     "name": "stderr",
     "output_type": "stream",
     "text": [
      "\r",
      " 17%|█▋        | 24/143 [00:04<00:17,  6.88it/s]"
     ]
    },
    {
     "name": "stderr",
     "output_type": "stream",
     "text": [
      "\r",
      " 19%|█▉        | 27/143 [00:04<00:16,  7.16it/s]"
     ]
    },
    {
     "name": "stderr",
     "output_type": "stream",
     "text": [
      "\r",
      " 20%|█▉        | 28/143 [00:04<00:16,  7.12it/s]"
     ]
    },
    {
     "name": "stderr",
     "output_type": "stream",
     "text": [
      "\r",
      " 20%|██        | 29/143 [00:04<00:15,  7.33it/s]"
     ]
    },
    {
     "name": "stderr",
     "output_type": "stream",
     "text": [
      "\r",
      " 22%|██▏       | 31/143 [00:04<00:12,  8.82it/s]"
     ]
    },
    {
     "name": "stderr",
     "output_type": "stream",
     "text": [
      "\r",
      " 22%|██▏       | 32/143 [00:05<00:16,  6.70it/s]"
     ]
    },
    {
     "name": "stderr",
     "output_type": "stream",
     "text": [
      "\r",
      " 24%|██▍       | 34/143 [00:05<00:12,  8.57it/s]"
     ]
    },
    {
     "name": "stderr",
     "output_type": "stream",
     "text": [
      "\r",
      " 25%|██▌       | 36/143 [00:05<00:18,  5.76it/s]"
     ]
    },
    {
     "name": "stderr",
     "output_type": "stream",
     "text": [
      "\r",
      " 26%|██▌       | 37/143 [00:06<00:19,  5.49it/s]"
     ]
    },
    {
     "name": "stderr",
     "output_type": "stream",
     "text": [
      "\r",
      " 27%|██▋       | 38/143 [00:06<00:18,  5.79it/s]"
     ]
    },
    {
     "name": "stderr",
     "output_type": "stream",
     "text": [
      "\r",
      " 28%|██▊       | 40/143 [00:06<00:13,  7.39it/s]"
     ]
    },
    {
     "name": "stderr",
     "output_type": "stream",
     "text": [
      "\r",
      " 29%|██▊       | 41/143 [00:06<00:18,  5.64it/s]"
     ]
    },
    {
     "name": "stderr",
     "output_type": "stream",
     "text": [
      "\r",
      " 31%|███       | 44/143 [00:06<00:11,  8.54it/s]"
     ]
    },
    {
     "name": "stderr",
     "output_type": "stream",
     "text": [
      "\r",
      " 32%|███▏      | 46/143 [00:07<00:13,  7.27it/s]"
     ]
    },
    {
     "name": "stderr",
     "output_type": "stream",
     "text": [
      "\r",
      " 34%|███▎      | 48/143 [00:07<00:11,  8.62it/s]"
     ]
    },
    {
     "name": "stderr",
     "output_type": "stream",
     "text": [
      "\r",
      " 35%|███▍      | 50/143 [00:07<00:10,  8.48it/s]"
     ]
    },
    {
     "name": "stderr",
     "output_type": "stream",
     "text": [
      "\r",
      " 36%|███▋      | 52/143 [00:08<00:12,  7.36it/s]"
     ]
    },
    {
     "name": "stderr",
     "output_type": "stream",
     "text": [
      "\r",
      " 37%|███▋      | 53/143 [00:08<00:21,  4.11it/s]"
     ]
    },
    {
     "name": "stderr",
     "output_type": "stream",
     "text": [
      "\r",
      " 38%|███▊      | 54/143 [00:08<00:20,  4.25it/s]"
     ]
    },
    {
     "name": "stderr",
     "output_type": "stream",
     "text": [
      "\r",
      " 38%|███▊      | 55/143 [00:09<00:19,  4.56it/s]"
     ]
    },
    {
     "name": "stderr",
     "output_type": "stream",
     "text": [
      "\r",
      " 40%|███▉      | 57/143 [00:09<00:14,  5.86it/s]"
     ]
    },
    {
     "name": "stderr",
     "output_type": "stream",
     "text": [
      "\r",
      " 42%|████▏     | 60/143 [00:09<00:09,  8.90it/s]"
     ]
    },
    {
     "name": "stderr",
     "output_type": "stream",
     "text": [
      "\r",
      " 43%|████▎     | 62/143 [00:09<00:10,  7.55it/s]"
     ]
    },
    {
     "name": "stderr",
     "output_type": "stream",
     "text": [
      "\r",
      " 45%|████▍     | 64/143 [00:10<00:09,  7.98it/s]"
     ]
    },
    {
     "name": "stderr",
     "output_type": "stream",
     "text": [
      "\r",
      " 46%|████▌     | 66/143 [00:10<00:08,  9.38it/s]"
     ]
    },
    {
     "name": "stderr",
     "output_type": "stream",
     "text": [
      "\r",
      " 48%|████▊     | 68/143 [00:10<00:09,  7.53it/s]"
     ]
    },
    {
     "name": "stderr",
     "output_type": "stream",
     "text": [
      "\r",
      " 49%|████▉     | 70/143 [00:10<00:09,  7.87it/s]"
     ]
    },
    {
     "name": "stderr",
     "output_type": "stream",
     "text": [
      "\r",
      " 50%|████▉     | 71/143 [00:11<00:11,  6.22it/s]"
     ]
    },
    {
     "name": "stderr",
     "output_type": "stream",
     "text": [
      "\r",
      " 52%|█████▏    | 75/143 [00:11<00:08,  8.27it/s]"
     ]
    },
    {
     "name": "stderr",
     "output_type": "stream",
     "text": [
      "\r",
      " 54%|█████▍    | 77/143 [00:11<00:09,  6.95it/s]"
     ]
    },
    {
     "name": "stderr",
     "output_type": "stream",
     "text": [
      "\r",
      " 56%|█████▌    | 80/143 [00:12<00:08,  7.76it/s]"
     ]
    },
    {
     "name": "stderr",
     "output_type": "stream",
     "text": [
      "\r",
      " 57%|█████▋    | 81/143 [00:12<00:08,  7.35it/s]"
     ]
    },
    {
     "name": "stderr",
     "output_type": "stream",
     "text": [
      "\r",
      " 57%|█████▋    | 82/143 [00:12<00:08,  7.33it/s]"
     ]
    },
    {
     "name": "stderr",
     "output_type": "stream",
     "text": [
      "\r",
      " 58%|█████▊    | 83/143 [00:12<00:08,  7.13it/s]"
     ]
    },
    {
     "name": "stderr",
     "output_type": "stream",
     "text": [
      "\r",
      " 59%|█████▊    | 84/143 [00:12<00:10,  5.78it/s]"
     ]
    },
    {
     "name": "stderr",
     "output_type": "stream",
     "text": [
      "\r",
      " 59%|█████▉    | 85/143 [00:13<00:10,  5.71it/s]"
     ]
    },
    {
     "name": "stderr",
     "output_type": "stream",
     "text": [
      "\r",
      " 60%|██████    | 86/143 [00:13<00:13,  4.27it/s]"
     ]
    },
    {
     "name": "stderr",
     "output_type": "stream",
     "text": [
      "\r",
      " 62%|██████▏   | 88/143 [00:13<00:10,  5.40it/s]"
     ]
    },
    {
     "name": "stderr",
     "output_type": "stream",
     "text": [
      "\r",
      " 62%|██████▏   | 89/143 [00:13<00:09,  5.82it/s]"
     ]
    },
    {
     "name": "stderr",
     "output_type": "stream",
     "text": [
      "\r",
      " 63%|██████▎   | 90/143 [00:14<00:09,  5.83it/s]"
     ]
    },
    {
     "name": "stderr",
     "output_type": "stream",
     "text": [
      "\r",
      " 64%|██████▎   | 91/143 [00:14<00:07,  6.51it/s]"
     ]
    },
    {
     "name": "stderr",
     "output_type": "stream",
     "text": [
      "\r",
      " 65%|██████▌   | 93/143 [00:14<00:07,  6.41it/s]"
     ]
    },
    {
     "name": "stderr",
     "output_type": "stream",
     "text": [
      "\r",
      " 66%|██████▋   | 95/143 [00:14<00:05,  8.32it/s]"
     ]
    },
    {
     "name": "stderr",
     "output_type": "stream",
     "text": [
      "\r",
      " 67%|██████▋   | 96/143 [00:14<00:06,  7.76it/s]"
     ]
    },
    {
     "name": "stderr",
     "output_type": "stream",
     "text": [
      "\r",
      " 69%|██████▊   | 98/143 [00:14<00:04,  9.43it/s]"
     ]
    },
    {
     "name": "stderr",
     "output_type": "stream",
     "text": [
      "\r",
      " 70%|██████▉   | 100/143 [00:15<00:07,  5.99it/s]"
     ]
    },
    {
     "name": "stderr",
     "output_type": "stream",
     "text": [
      "\r",
      " 71%|███████▏  | 102/143 [00:15<00:05,  7.59it/s]"
     ]
    },
    {
     "name": "stderr",
     "output_type": "stream",
     "text": [
      "\r",
      " 73%|███████▎  | 104/143 [00:15<00:05,  7.53it/s]"
     ]
    },
    {
     "name": "stderr",
     "output_type": "stream",
     "text": [
      "\r",
      " 76%|███████▌  | 108/143 [00:16<00:03, 10.64it/s]"
     ]
    },
    {
     "name": "stderr",
     "output_type": "stream",
     "text": [
      "\r",
      " 77%|███████▋  | 110/143 [00:16<00:04,  6.82it/s]"
     ]
    },
    {
     "name": "stderr",
     "output_type": "stream",
     "text": [
      "\r",
      " 78%|███████▊  | 112/143 [00:16<00:04,  6.88it/s]"
     ]
    },
    {
     "name": "stderr",
     "output_type": "stream",
     "text": [
      "\r",
      " 79%|███████▉  | 113/143 [00:17<00:04,  6.46it/s]"
     ]
    },
    {
     "name": "stderr",
     "output_type": "stream",
     "text": [
      "\r",
      " 80%|███████▉  | 114/143 [00:17<00:04,  5.94it/s]"
     ]
    },
    {
     "name": "stderr",
     "output_type": "stream",
     "text": [
      "\r",
      " 80%|████████  | 115/143 [00:17<00:04,  6.30it/s]"
     ]
    },
    {
     "name": "stderr",
     "output_type": "stream",
     "text": [
      "\r",
      " 81%|████████  | 116/143 [00:17<00:05,  5.39it/s]"
     ]
    },
    {
     "name": "stderr",
     "output_type": "stream",
     "text": [
      "\r",
      " 83%|████████▎ | 119/143 [00:17<00:03,  7.69it/s]"
     ]
    },
    {
     "name": "stderr",
     "output_type": "stream",
     "text": [
      "\r",
      " 85%|████████▍ | 121/143 [00:18<00:03,  5.66it/s]"
     ]
    },
    {
     "name": "stderr",
     "output_type": "stream",
     "text": [
      "\r",
      " 87%|████████▋ | 124/143 [00:18<00:02,  7.92it/s]"
     ]
    },
    {
     "name": "stderr",
     "output_type": "stream",
     "text": [
      "\r",
      " 88%|████████▊ | 126/143 [00:19<00:02,  6.04it/s]"
     ]
    },
    {
     "name": "stderr",
     "output_type": "stream",
     "text": [
      "\r",
      " 90%|████████▉ | 128/143 [00:19<00:02,  6.40it/s]"
     ]
    },
    {
     "name": "stderr",
     "output_type": "stream",
     "text": [
      "\r",
      " 90%|█████████ | 129/143 [00:19<00:02,  6.10it/s]"
     ]
    },
    {
     "name": "stderr",
     "output_type": "stream",
     "text": [
      "\r",
      " 91%|█████████ | 130/143 [00:19<00:02,  6.45it/s]"
     ]
    },
    {
     "name": "stderr",
     "output_type": "stream",
     "text": [
      "\r",
      " 92%|█████████▏| 131/143 [00:20<00:02,  5.54it/s]"
     ]
    },
    {
     "name": "stderr",
     "output_type": "stream",
     "text": [
      "\r",
      " 93%|█████████▎| 133/143 [00:20<00:01,  6.08it/s]"
     ]
    },
    {
     "name": "stderr",
     "output_type": "stream",
     "text": [
      "\r",
      " 94%|█████████▍| 135/143 [00:20<00:01,  6.61it/s]"
     ]
    },
    {
     "name": "stderr",
     "output_type": "stream",
     "text": [
      "\r",
      " 95%|█████████▌| 136/143 [00:20<00:01,  6.84it/s]"
     ]
    },
    {
     "name": "stderr",
     "output_type": "stream",
     "text": [
      "\r",
      " 97%|█████████▋| 138/143 [00:20<00:00,  8.64it/s]"
     ]
    },
    {
     "name": "stderr",
     "output_type": "stream",
     "text": [
      "\r",
      " 98%|█████████▊| 140/143 [00:21<00:00,  8.60it/s]"
     ]
    },
    {
     "name": "stderr",
     "output_type": "stream",
     "text": [
      "\r",
      " 99%|█████████▊| 141/143 [00:21<00:00,  8.73it/s]"
     ]
    },
    {
     "name": "stderr",
     "output_type": "stream",
     "text": [
      "\r",
      " 99%|█████████▉| 142/143 [00:21<00:00,  7.93it/s]"
     ]
    },
    {
     "name": "stderr",
     "output_type": "stream",
     "text": [
      "\r",
      "100%|██████████| 143/143 [00:22<00:00,  3.30it/s]"
     ]
    },
    {
     "name": "stderr",
     "output_type": "stream",
     "text": [
      "\r",
      "100%|██████████| 143/143 [00:22<00:00,  6.43it/s]"
     ]
    },
    {
     "name": "stdout",
     "output_type": "stream",
     "text": [
      "\n",
      "rate limit: 7 \n",
      "Leeftijdsgroep API calls: create: 0, read: 1, update: 143, delete: 0, backoff: 3\n",
      "errors:\n",
      "  503: Service Unavailable: 1\n"
     ]
    },
    {
     "name": "stdout",
     "output_type": "stream",
     "text": [
      "[{'Key': 1, 'Timestamp Leeftijdsgroep RIVM': '2021-09-10 14:15'}]\n"
     ]
    },
    {
     "name": "stderr",
     "output_type": "stream",
     "text": [
      "\n"
     ]
    },
    {
     "name": "stdout",
     "output_type": "stream",
     "text": [
      "timestamps: [{'Key': 1, 'Timestamp Leeftijdsgroep RIVM': '2021-09-10 14:15'}]\n",
      "Key                               int64\n",
      "Timestamp Leeftijdsgroep RIVM    object\n",
      "dtype: object\n"
     ]
    },
    {
     "name": "stderr",
     "output_type": "stream",
     "text": [
      "\r",
      "  0%|          | 0/1 [00:00<?, ?it/s]"
     ]
    },
    {
     "name": "stderr",
     "output_type": "stream",
     "text": [
      "\r",
      "100%|██████████| 1/1 [00:00<00:00,  1.25it/s]"
     ]
    },
    {
     "name": "stderr",
     "output_type": "stream",
     "text": [
      "\r",
      "100%|██████████| 1/1 [00:00<00:00,  1.25it/s]"
     ]
    },
    {
     "name": "stdout",
     "output_type": "stream",
     "text": [
      "\n",
      "rate limit: 7 \n",
      "LaatsteUpdate API calls: create: 0, read: 0, update: 1, delete: 0, backoff: 0\n"
     ]
    },
    {
     "name": "stderr",
     "output_type": "stream",
     "text": [
      "\n"
     ]
    },
    {
     "name": "stdout",
     "output_type": "stream",
     "text": [
      "BatchName     object\n",
      "ObjectName    object\n",
      "Source        object\n",
      "Timestamp     object\n",
      "dtype: object\n"
     ]
    },
    {
     "name": "stderr",
     "output_type": "stream",
     "text": [
      "\r",
      "  0%|          | 0/1 [00:00<?, ?it/s]"
     ]
    },
    {
     "name": "stderr",
     "output_type": "stream",
     "text": [
      "\r",
      "100%|██████████| 1/1 [00:01<00:00,  1.32s/it]"
     ]
    },
    {
     "name": "stderr",
     "output_type": "stream",
     "text": [
      "\r",
      "100%|██████████| 1/1 [00:01<00:00,  1.32s/it]"
     ]
    },
    {
     "name": "stdout",
     "output_type": "stream",
     "text": [
      "\n",
      "rate limit: 7 \n",
      "UpdateDetails API calls: create: 1, read: 0, update: 0, delete: 0, backoff: 0\n"
     ]
    },
    {
     "name": "stderr",
     "output_type": "stream",
     "text": [
      "\n"
     ]
    },
    {
     "name": "stdout",
     "output_type": "stream",
     "text": [
      "updating: [{'Key': 1, 'Updating Leeftijdsgroep': 'false'}]\n",
      "Key                         int64\n",
      "Updating Leeftijdsgroep    object\n",
      "dtype: object\n"
     ]
    },
    {
     "name": "stderr",
     "output_type": "stream",
     "text": [
      "\r",
      "  0%|          | 0/1 [00:00<?, ?it/s]"
     ]
    },
    {
     "name": "stderr",
     "output_type": "stream",
     "text": [
      "\r",
      "100%|██████████| 1/1 [00:01<00:00,  1.36s/it]"
     ]
    },
    {
     "name": "stderr",
     "output_type": "stream",
     "text": [
      "\r",
      "100%|██████████| 1/1 [00:01<00:00,  1.36s/it]"
     ]
    },
    {
     "name": "stderr",
     "output_type": "stream",
     "text": [
      "\n"
     ]
    },
    {
     "name": "stdout",
     "output_type": "stream",
     "text": [
      "\n",
      "rate limit: 7 \n",
      "LaatsteUpdate API calls: create: 0, read: 0, update: 1, delete: 0, backoff: 0\n"
     ]
    }
   ],
   "source": [
    "if knack:\n",
    "  await knack.publish(tabel.fillna(0).assign(Datum=tabel.Datum.dt.strftime('%Y-%m-%d')), 'Leeftijdsgroep', Cache)"
   ]
  }
 ],
 "metadata": {
  "jupytext": {
   "cell_metadata_filter": "title,-all"
  },
  "kernelspec": {
   "display_name": "Python 3 (ipykernel)",
   "language": "python",
   "name": "python3"
  },
  "language_info": {
   "codemirror_mode": {
    "name": "ipython",
    "version": 3
   },
   "file_extension": ".py",
   "mimetype": "text/x-python",
   "name": "python",
   "nbconvert_exporter": "python",
   "pygments_lexer": "ipython3",
   "version": "3.9.6"
  },
  "papermill": {
   "default_parameters": {},
   "duration": 360.827083,
   "end_time": "2021-09-10T13:37:00.116294",
   "environment_variables": {},
   "exception": null,
   "input_path": "-",
   "output_path": "LeeftijdsgroepenLandelijk.ipynb",
   "parameters": {},
   "start_time": "2021-09-10T13:30:59.289211",
   "version": "2.3.3"
  }
 },
 "nbformat": 4,
 "nbformat_minor": 5
}