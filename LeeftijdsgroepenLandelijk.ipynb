{
 "cells": [
  {
   "cell_type": "code",
   "execution_count": 1,
   "id": "ba06f23e",
   "metadata": {
    "execution": {
     "iopub.execute_input": "2021-12-20T14:32:04.929620Z",
     "iopub.status.busy": "2021-12-20T14:32:04.928879Z",
     "iopub.status.idle": "2021-12-20T14:32:08.493380Z",
     "shell.execute_reply": "2021-12-20T14:32:08.492211Z"
    },
    "lines_to_next_cell": 1,
    "papermill": {
     "duration": 3.588451,
     "end_time": "2021-12-20T14:32:08.493526",
     "exception": false,
     "start_time": "2021-12-20T14:32:04.905075",
     "status": "completed"
    },
    "tags": []
   },
   "outputs": [],
   "source": [
    "from IPython import get_ipython\n",
    "from IPython.core.display import display\n",
    "get_ipython().run_line_magic('load_ext', 'autoreload')\n",
    "get_ipython().run_line_magic('autoreload', '2')\n",
    "get_ipython().run_line_magic('run', 'setup')"
   ]
  },
  {
   "cell_type": "code",
   "execution_count": 2,
   "id": "a217d9b0",
   "metadata": {
    "execution": {
     "iopub.execute_input": "2021-12-20T14:32:08.508768Z",
     "iopub.status.busy": "2021-12-20T14:32:08.507307Z",
     "iopub.status.idle": "2021-12-20T14:37:56.624192Z",
     "shell.execute_reply": "2021-12-20T14:37:56.623721Z"
    },
    "lines_to_next_cell": 1,
    "papermill": {
     "duration": 348.125249,
     "end_time": "2021-12-20T14:37:56.624327",
     "exception": false,
     "start_time": "2021-12-20T14:32:08.499078",
     "status": "completed"
    },
    "tags": [],
    "title": "leeftijdsgroepen: download RIVM data"
   },
   "outputs": [
    {
     "name": "stdout",
     "output_type": "stream",
     "text": [
      "downloading rivm/COVID-19_casus_landelijk-2021-12-20@14-15.csv\n"
     ]
    },
    {
     "name": "stdout",
     "output_type": "stream",
     "text": [
      "rivm COVID-19_casus_landelijk zipping rivm/COVID-19_casus_landelijk-2021-12-20@14-15.csv\n"
     ]
    },
    {
     "name": "stdout",
     "output_type": "stream",
     "text": [
      "loading rivm/COVID-19_casus_landelijk-2021-12-20@14-15.csv.gz\n"
     ]
    },
    {
     "data": {
      "text/html": [
       "<div>\n",
       "<style scoped>\n",
       "    .dataframe tbody tr th:only-of-type {\n",
       "        vertical-align: middle;\n",
       "    }\n",
       "\n",
       "    .dataframe tbody tr th {\n",
       "        vertical-align: top;\n",
       "    }\n",
       "\n",
       "    .dataframe thead th {\n",
       "        text-align: right;\n",
       "    }\n",
       "</style>\n",
       "<table border=\"1\" class=\"dataframe\">\n",
       "  <thead>\n",
       "    <tr style=\"text-align: right;\">\n",
       "      <th></th>\n",
       "      <th>Date_file</th>\n",
       "      <th>Date_statistics</th>\n",
       "      <th>Date_statistics_type</th>\n",
       "      <th>Agegroup</th>\n",
       "      <th>Sex</th>\n",
       "      <th>Province</th>\n",
       "      <th>Hospital_admission</th>\n",
       "      <th>Deceased</th>\n",
       "      <th>Week_of_death</th>\n",
       "      <th>Municipal_health_service</th>\n",
       "    </tr>\n",
       "  </thead>\n",
       "  <tbody>\n",
       "    <tr>\n",
       "      <th>0</th>\n",
       "      <td>2021-12-20 10:00:00</td>\n",
       "      <td>2020-01-01</td>\n",
       "      <td>DOO</td>\n",
       "      <td>40-49</td>\n",
       "      <td>Female</td>\n",
       "      <td>Noord-Holland</td>\n",
       "      <td>No</td>\n",
       "      <td>No</td>\n",
       "      <td>NaN</td>\n",
       "      <td>GGD Amsterdam</td>\n",
       "    </tr>\n",
       "    <tr>\n",
       "      <th>1</th>\n",
       "      <td>2021-12-20 10:00:00</td>\n",
       "      <td>2020-01-01</td>\n",
       "      <td>DOO</td>\n",
       "      <td>50-59</td>\n",
       "      <td>Male</td>\n",
       "      <td>Gelderland</td>\n",
       "      <td>No</td>\n",
       "      <td>No</td>\n",
       "      <td>NaN</td>\n",
       "      <td>Veiligheids- en Gezondheidsregio Gelderland-Mi...</td>\n",
       "    </tr>\n",
       "    <tr>\n",
       "      <th>2</th>\n",
       "      <td>2021-12-20 10:00:00</td>\n",
       "      <td>2020-01-01</td>\n",
       "      <td>DOO</td>\n",
       "      <td>20-29</td>\n",
       "      <td>Female</td>\n",
       "      <td>Zuid-Holland</td>\n",
       "      <td>No</td>\n",
       "      <td>No</td>\n",
       "      <td>NaN</td>\n",
       "      <td>GGD Hollands-Midden</td>\n",
       "    </tr>\n",
       "    <tr>\n",
       "      <th>3</th>\n",
       "      <td>2021-12-20 10:00:00</td>\n",
       "      <td>2020-01-01</td>\n",
       "      <td>DOO</td>\n",
       "      <td>60-69</td>\n",
       "      <td>Female</td>\n",
       "      <td>Noord-Holland</td>\n",
       "      <td>No</td>\n",
       "      <td>No</td>\n",
       "      <td>NaN</td>\n",
       "      <td>GGD Hollands-Noorden</td>\n",
       "    </tr>\n",
       "    <tr>\n",
       "      <th>4</th>\n",
       "      <td>2021-12-20 10:00:00</td>\n",
       "      <td>2020-01-04</td>\n",
       "      <td>DOO</td>\n",
       "      <td>10-19</td>\n",
       "      <td>Female</td>\n",
       "      <td>Gelderland</td>\n",
       "      <td>Unknown</td>\n",
       "      <td>No</td>\n",
       "      <td>NaN</td>\n",
       "      <td>GGD Gelderland-Zuid</td>\n",
       "    </tr>\n",
       "  </tbody>\n",
       "</table>\n",
       "</div>"
      ],
      "text/plain": [
       "             Date_file Date_statistics Date_statistics_type Agegroup     Sex  \\\n",
       "0  2021-12-20 10:00:00      2020-01-01                  DOO    40-49  Female   \n",
       "1  2021-12-20 10:00:00      2020-01-01                  DOO    50-59    Male   \n",
       "2  2021-12-20 10:00:00      2020-01-01                  DOO    20-29  Female   \n",
       "3  2021-12-20 10:00:00      2020-01-01                  DOO    60-69  Female   \n",
       "4  2021-12-20 10:00:00      2020-01-04                  DOO    10-19  Female   \n",
       "\n",
       "        Province Hospital_admission Deceased  Week_of_death  \\\n",
       "0  Noord-Holland                 No       No            NaN   \n",
       "1     Gelderland                 No       No            NaN   \n",
       "2   Zuid-Holland                 No       No            NaN   \n",
       "3  Noord-Holland                 No       No            NaN   \n",
       "4     Gelderland            Unknown       No            NaN   \n",
       "\n",
       "                            Municipal_health_service  \n",
       "0                                      GGD Amsterdam  \n",
       "1  Veiligheids- en Gezondheidsregio Gelderland-Mi...  \n",
       "2                                GGD Hollands-Midden  \n",
       "3                               GGD Hollands-Noorden  \n",
       "4                                GGD Gelderland-Zuid  "
      ]
     },
     "metadata": {},
     "output_type": "display_data"
    }
   ],
   "source": [
    "#leeftijdsgroepen = SimpleNamespace()\n",
    "@run\n",
    "def cell():\n",
    "  global rivm\n",
    "  rivm = RIVM.csv('COVID-19_casus_landelijk')\n",
    "  display(rivm.head())"
   ]
  },
  {
   "cell_type": "code",
   "execution_count": 3,
   "id": "e2dbcf75",
   "metadata": {
    "execution": {
     "iopub.execute_input": "2021-12-20T14:37:56.652589Z",
     "iopub.status.busy": "2021-12-20T14:37:56.650904Z",
     "iopub.status.idle": "2021-12-20T14:37:59.423176Z",
     "shell.execute_reply": "2021-12-20T14:37:59.422241Z"
    },
    "lines_to_next_cell": 1,
    "papermill": {
     "duration": 2.78891,
     "end_time": "2021-12-20T14:37:59.423313",
     "exception": false,
     "start_time": "2021-12-20T14:37:56.634403",
     "status": "completed"
    },
    "tags": [],
    "title": "Download de bevolkings cijfers van CBS, uitgesplitst op de leeftijds categorien in de dataset van het RIVM"
   },
   "outputs": [],
   "source": [
    "@run\n",
    "def cell():\n",
    "  global bevolking\n",
    "  bevolking = CBS.bevolking(leeftijdsgroepen=True)"
   ]
  },
  {
   "cell_type": "code",
   "execution_count": 4,
   "id": "38a134f5",
   "metadata": {
    "execution": {
     "iopub.execute_input": "2021-12-20T14:37:59.451689Z",
     "iopub.status.busy": "2021-12-20T14:37:59.450795Z",
     "iopub.status.idle": "2021-12-20T14:38:12.647875Z",
     "shell.execute_reply": "2021-12-20T14:38:12.647442Z"
    },
    "lines_to_next_cell": 1,
    "papermill": {
     "duration": 13.2176,
     "end_time": "2021-12-20T14:38:12.648040",
     "exception": false,
     "start_time": "2021-12-20T14:37:59.430440",
     "status": "completed"
    },
    "tags": [],
    "title": "leeftijdsgroepen: prepareer tabel"
   },
   "outputs": [
    {
     "data": {
      "text/html": [
       "<style type=\"text/css\">\n",
       "#T_55461_row0_col7 {\n",
       "  background-color: #46327e;\n",
       "  color: #f1f1f1;\n",
       "}\n",
       "#T_55461_row0_col8 {\n",
       "  background-color: #482374;\n",
       "  color: #f1f1f1;\n",
       "}\n",
       "#T_55461_row0_col9 {\n",
       "  background-color: #443983;\n",
       "  color: #f1f1f1;\n",
       "}\n",
       "#T_55461_row0_col10, #T_55461_row1_col10, #T_55461_row2_col10, #T_55461_row3_col8, #T_55461_row4_col8 {\n",
       "  background-color: #440154;\n",
       "  color: #f1f1f1;\n",
       "}\n",
       "#T_55461_row0_col11 {\n",
       "  background-color: #482677;\n",
       "  color: #f1f1f1;\n",
       "}\n",
       "#T_55461_row0_col12, #T_55461_row4_col12 {\n",
       "  background-color: #31678e;\n",
       "  color: #f1f1f1;\n",
       "}\n",
       "#T_55461_row0_col13 {\n",
       "  background-color: #1f998a;\n",
       "  color: #f1f1f1;\n",
       "}\n",
       "#T_55461_row0_col14 {\n",
       "  background-color: #56c667;\n",
       "  color: #000000;\n",
       "}\n",
       "#T_55461_row0_col15 {\n",
       "  background-color: #addc30;\n",
       "  color: #000000;\n",
       "}\n",
       "#T_55461_row0_col16 {\n",
       "  background-color: #e5e419;\n",
       "  color: #000000;\n",
       "}\n",
       "#T_55461_row0_col17, #T_55461_row1_col17, #T_55461_row2_col17, #T_55461_row3_col17, #T_55461_row4_col17 {\n",
       "  background-color: #fde725;\n",
       "  color: #000000;\n",
       "}\n",
       "#T_55461_row1_col7, #T_55461_row4_col10 {\n",
       "  background-color: #482475;\n",
       "  color: #f1f1f1;\n",
       "}\n",
       "#T_55461_row1_col8 {\n",
       "  background-color: #481b6d;\n",
       "  color: #f1f1f1;\n",
       "}\n",
       "#T_55461_row1_col9 {\n",
       "  background-color: #39558c;\n",
       "  color: #f1f1f1;\n",
       "}\n",
       "#T_55461_row1_col11 {\n",
       "  background-color: #481d6f;\n",
       "  color: #f1f1f1;\n",
       "}\n",
       "#T_55461_row1_col12 {\n",
       "  background-color: #32658e;\n",
       "  color: #f1f1f1;\n",
       "}\n",
       "#T_55461_row1_col13, #T_55461_row2_col13 {\n",
       "  background-color: #228c8d;\n",
       "  color: #f1f1f1;\n",
       "}\n",
       "#T_55461_row1_col14, #T_55461_row2_col14 {\n",
       "  background-color: #3fbc73;\n",
       "  color: #f1f1f1;\n",
       "}\n",
       "#T_55461_row1_col15 {\n",
       "  background-color: #98d83e;\n",
       "  color: #000000;\n",
       "}\n",
       "#T_55461_row1_col16 {\n",
       "  background-color: #e2e418;\n",
       "  color: #000000;\n",
       "}\n",
       "#T_55461_row2_col7 {\n",
       "  background-color: #472c7a;\n",
       "  color: #f1f1f1;\n",
       "}\n",
       "#T_55461_row2_col8 {\n",
       "  background-color: #471365;\n",
       "  color: #f1f1f1;\n",
       "}\n",
       "#T_55461_row2_col9 {\n",
       "  background-color: #39568c;\n",
       "  color: #f1f1f1;\n",
       "}\n",
       "#T_55461_row2_col11 {\n",
       "  background-color: #48186a;\n",
       "  color: #f1f1f1;\n",
       "}\n",
       "#T_55461_row2_col12 {\n",
       "  background-color: #33628d;\n",
       "  color: #f1f1f1;\n",
       "}\n",
       "#T_55461_row2_col15 {\n",
       "  background-color: #90d743;\n",
       "  color: #000000;\n",
       "}\n",
       "#T_55461_row2_col16, #T_55461_row4_col16 {\n",
       "  background-color: #dfe318;\n",
       "  color: #000000;\n",
       "}\n",
       "#T_55461_row3_col7 {\n",
       "  background-color: #453581;\n",
       "  color: #f1f1f1;\n",
       "}\n",
       "#T_55461_row3_col9 {\n",
       "  background-color: #38588c;\n",
       "  color: #f1f1f1;\n",
       "}\n",
       "#T_55461_row3_col10 {\n",
       "  background-color: #460b5e;\n",
       "  color: #f1f1f1;\n",
       "}\n",
       "#T_55461_row3_col11 {\n",
       "  background-color: #481668;\n",
       "  color: #f1f1f1;\n",
       "}\n",
       "#T_55461_row3_col12 {\n",
       "  background-color: #375b8d;\n",
       "  color: #f1f1f1;\n",
       "}\n",
       "#T_55461_row3_col13, #T_55461_row4_col13 {\n",
       "  background-color: #23888e;\n",
       "  color: #f1f1f1;\n",
       "}\n",
       "#T_55461_row3_col14, #T_55461_row4_col14 {\n",
       "  background-color: #38b977;\n",
       "  color: #f1f1f1;\n",
       "}\n",
       "#T_55461_row3_col15 {\n",
       "  background-color: #8bd646;\n",
       "  color: #000000;\n",
       "}\n",
       "#T_55461_row3_col16 {\n",
       "  background-color: #dde318;\n",
       "  color: #000000;\n",
       "}\n",
       "#T_55461_row4_col7 {\n",
       "  background-color: #3b518b;\n",
       "  color: #f1f1f1;\n",
       "}\n",
       "#T_55461_row4_col9 {\n",
       "  background-color: #3e4c8a;\n",
       "  color: #f1f1f1;\n",
       "}\n",
       "#T_55461_row4_col11 {\n",
       "  background-color: #472f7d;\n",
       "  color: #f1f1f1;\n",
       "}\n",
       "#T_55461_row4_col15 {\n",
       "  background-color: #8ed645;\n",
       "  color: #000000;\n",
       "}\n",
       "</style>\n",
       "<table id=\"T_55461_\">\n",
       "  <thead>\n",
       "    <tr>\n",
       "      <th class=\"blank level0\" >&nbsp;</th>\n",
       "      <th class=\"col_heading level0 col0\" >Key</th>\n",
       "      <th class=\"col_heading level0 col1\" >Weken terug</th>\n",
       "      <th class=\"col_heading level0 col2\" >Datum</th>\n",
       "      <th class=\"col_heading level0 col3\" >Periode</th>\n",
       "      <th class=\"col_heading level0 col4\" >Gemiddelde leeftijd</th>\n",
       "      <th class=\"col_heading level0 col5\" >Totaal</th>\n",
       "      <th class=\"col_heading level0 col6\" >Type</th>\n",
       "      <th class=\"col_heading level0 col7\" >0-9</th>\n",
       "      <th class=\"col_heading level0 col8\" >10-19</th>\n",
       "      <th class=\"col_heading level0 col9\" >20-29</th>\n",
       "      <th class=\"col_heading level0 col10\" >30-39</th>\n",
       "      <th class=\"col_heading level0 col11\" >40-49</th>\n",
       "      <th class=\"col_heading level0 col12\" >50-59</th>\n",
       "      <th class=\"col_heading level0 col13\" >60-69</th>\n",
       "      <th class=\"col_heading level0 col14\" >70-79</th>\n",
       "      <th class=\"col_heading level0 col15\" >80-89</th>\n",
       "      <th class=\"col_heading level0 col16\" >90+</th>\n",
       "      <th class=\"col_heading level0 col17\" >Onbekend</th>\n",
       "      <th class=\"col_heading level0 col18\" >c0-9</th>\n",
       "      <th class=\"col_heading level0 col19\" >c10-19</th>\n",
       "      <th class=\"col_heading level0 col20\" >c20-29</th>\n",
       "      <th class=\"col_heading level0 col21\" >c30-39</th>\n",
       "      <th class=\"col_heading level0 col22\" >c40-49</th>\n",
       "      <th class=\"col_heading level0 col23\" >c50-59</th>\n",
       "      <th class=\"col_heading level0 col24\" >c60-69</th>\n",
       "      <th class=\"col_heading level0 col25\" >c70-79</th>\n",
       "      <th class=\"col_heading level0 col26\" >c80-89</th>\n",
       "      <th class=\"col_heading level0 col27\" >c90+</th>\n",
       "      <th class=\"col_heading level0 col28\" >cOnbekend</th>\n",
       "    </tr>\n",
       "  </thead>\n",
       "  <tbody>\n",
       "    <tr>\n",
       "      <th id=\"T_55461_level0_row0\" class=\"row_heading level0 row0\" >0</th>\n",
       "      <td id=\"T_55461_row0_col0\" class=\"data row0 col0\" >p000</td>\n",
       "      <td id=\"T_55461_row0_col1\" class=\"data row0 col1\" >0</td>\n",
       "      <td id=\"T_55461_row0_col2\" class=\"data row0 col2\" >2021-12-20 00:00:00</td>\n",
       "      <td id=\"T_55461_row0_col3\" class=\"data row0 col3\" >14/12-20/12</td>\n",
       "      <td id=\"T_55461_row0_col4\" class=\"data row0 col4\" >35.500000</td>\n",
       "      <td id=\"T_55461_row0_col5\" class=\"data row0 col5\" >54818.000000</td>\n",
       "      <td id=\"T_55461_row0_col6\" class=\"data row0 col6\" >Positief getest</td>\n",
       "      <td id=\"T_55461_row0_col7\" class=\"data row0 col7\" >7767.000000</td>\n",
       "      <td id=\"T_55461_row0_col8\" class=\"data row0 col8\" >8210.000000</td>\n",
       "      <td id=\"T_55461_row0_col9\" class=\"data row0 col9\" >7554.000000</td>\n",
       "      <td id=\"T_55461_row0_col10\" class=\"data row0 col10\" >9065.000000</td>\n",
       "      <td id=\"T_55461_row0_col11\" class=\"data row0 col11\" >8092.000000</td>\n",
       "      <td id=\"T_55461_row0_col12\" class=\"data row0 col12\" >6069.000000</td>\n",
       "      <td id=\"T_55461_row0_col13\" class=\"data row0 col13\" >4198.000000</td>\n",
       "      <td id=\"T_55461_row0_col14\" class=\"data row0 col14\" >2381.000000</td>\n",
       "      <td id=\"T_55461_row0_col15\" class=\"data row0 col15\" >1114.000000</td>\n",
       "      <td id=\"T_55461_row0_col16\" class=\"data row0 col16\" >367.000000</td>\n",
       "      <td id=\"T_55461_row0_col17\" class=\"data row0 col17\" >1.000000</td>\n",
       "      <td id=\"T_55461_row0_col18\" class=\"data row0 col18\" >856</td>\n",
       "      <td id=\"T_55461_row0_col19\" class=\"data row0 col19\" >905</td>\n",
       "      <td id=\"T_55461_row0_col20\" class=\"data row0 col20\" >833</td>\n",
       "      <td id=\"T_55461_row0_col21\" class=\"data row0 col21\" >1000</td>\n",
       "      <td id=\"T_55461_row0_col22\" class=\"data row0 col22\" >892</td>\n",
       "      <td id=\"T_55461_row0_col23\" class=\"data row0 col23\" >669</td>\n",
       "      <td id=\"T_55461_row0_col24\" class=\"data row0 col24\" >463</td>\n",
       "      <td id=\"T_55461_row0_col25\" class=\"data row0 col25\" >262</td>\n",
       "      <td id=\"T_55461_row0_col26\" class=\"data row0 col26\" >122</td>\n",
       "      <td id=\"T_55461_row0_col27\" class=\"data row0 col27\" >40</td>\n",
       "      <td id=\"T_55461_row0_col28\" class=\"data row0 col28\" >0</td>\n",
       "    </tr>\n",
       "    <tr>\n",
       "      <th id=\"T_55461_level0_row1\" class=\"row_heading level0 row1\" >1</th>\n",
       "      <td id=\"T_55461_row1_col0\" class=\"data row1 col0\" >p001</td>\n",
       "      <td id=\"T_55461_row1_col1\" class=\"data row1 col1\" >1</td>\n",
       "      <td id=\"T_55461_row1_col2\" class=\"data row1 col2\" >2021-12-20 00:00:00</td>\n",
       "      <td id=\"T_55461_row1_col3\" class=\"data row1 col3\" >07/12-13/12</td>\n",
       "      <td id=\"T_55461_row1_col4\" class=\"data row1 col4\" >36.300000</td>\n",
       "      <td id=\"T_55461_row1_col5\" class=\"data row1 col5\" >106724.000000</td>\n",
       "      <td id=\"T_55461_row1_col6\" class=\"data row1 col6\" >Positief getest</td>\n",
       "      <td id=\"T_55461_row1_col7\" class=\"data row1 col7\" >15525.000000</td>\n",
       "      <td id=\"T_55461_row1_col8\" class=\"data row1 col8\" >15971.000000</td>\n",
       "      <td id=\"T_55461_row1_col9\" class=\"data row1 col9\" >12714.000000</td>\n",
       "      <td id=\"T_55461_row1_col10\" class=\"data row1 col10\" >17226.000000</td>\n",
       "      <td id=\"T_55461_row1_col11\" class=\"data row1 col11\" >15854.000000</td>\n",
       "      <td id=\"T_55461_row1_col12\" class=\"data row1 col12\" >11658.000000</td>\n",
       "      <td id=\"T_55461_row1_col13\" class=\"data row1 col13\" >8946.000000</td>\n",
       "      <td id=\"T_55461_row1_col14\" class=\"data row1 col14\" >5356.000000</td>\n",
       "      <td id=\"T_55461_row1_col15\" class=\"data row1 col15\" >2666.000000</td>\n",
       "      <td id=\"T_55461_row1_col16\" class=\"data row1 col16\" >806.000000</td>\n",
       "      <td id=\"T_55461_row1_col17\" class=\"data row1 col17\" >2.000000</td>\n",
       "      <td id=\"T_55461_row1_col18\" class=\"data row1 col18\" >901</td>\n",
       "      <td id=\"T_55461_row1_col19\" class=\"data row1 col19\" >927</td>\n",
       "      <td id=\"T_55461_row1_col20\" class=\"data row1 col20\" >738</td>\n",
       "      <td id=\"T_55461_row1_col21\" class=\"data row1 col21\" >1000</td>\n",
       "      <td id=\"T_55461_row1_col22\" class=\"data row1 col22\" >920</td>\n",
       "      <td id=\"T_55461_row1_col23\" class=\"data row1 col23\" >676</td>\n",
       "      <td id=\"T_55461_row1_col24\" class=\"data row1 col24\" >519</td>\n",
       "      <td id=\"T_55461_row1_col25\" class=\"data row1 col25\" >310</td>\n",
       "      <td id=\"T_55461_row1_col26\" class=\"data row1 col26\" >154</td>\n",
       "      <td id=\"T_55461_row1_col27\" class=\"data row1 col27\" >46</td>\n",
       "      <td id=\"T_55461_row1_col28\" class=\"data row1 col28\" >0</td>\n",
       "    </tr>\n",
       "    <tr>\n",
       "      <th id=\"T_55461_level0_row2\" class=\"row_heading level0 row2\" >2</th>\n",
       "      <td id=\"T_55461_row2_col0\" class=\"data row2 col0\" >p002</td>\n",
       "      <td id=\"T_55461_row2_col1\" class=\"data row2 col1\" >2</td>\n",
       "      <td id=\"T_55461_row2_col2\" class=\"data row2 col2\" >2021-12-20 00:00:00</td>\n",
       "      <td id=\"T_55461_row2_col3\" class=\"data row2 col3\" >30/11-06/12</td>\n",
       "      <td id=\"T_55461_row2_col4\" class=\"data row2 col4\" >36.500000</td>\n",
       "      <td id=\"T_55461_row2_col5\" class=\"data row2 col5\" >135592.000000</td>\n",
       "      <td id=\"T_55461_row2_col6\" class=\"data row2 col6\" >Positief getest</td>\n",
       "      <td id=\"T_55461_row2_col7\" class=\"data row2 col7\" >19113.000000</td>\n",
       "      <td id=\"T_55461_row2_col8\" class=\"data row2 col8\" >20717.000000</td>\n",
       "      <td id=\"T_55461_row2_col9\" class=\"data row2 col9\" >15945.000000</td>\n",
       "      <td id=\"T_55461_row2_col10\" class=\"data row2 col10\" >21751.000000</td>\n",
       "      <td id=\"T_55461_row2_col11\" class=\"data row2 col11\" >20383.000000</td>\n",
       "      <td id=\"T_55461_row2_col12\" class=\"data row2 col12\" >15013.000000</td>\n",
       "      <td id=\"T_55461_row2_col13\" class=\"data row2 col13\" >11247.000000</td>\n",
       "      <td id=\"T_55461_row2_col14\" class=\"data row2 col14\" >6748.000000</td>\n",
       "      <td id=\"T_55461_row2_col15\" class=\"data row2 col15\" >3594.000000</td>\n",
       "      <td id=\"T_55461_row2_col16\" class=\"data row2 col16\" >1078.000000</td>\n",
       "      <td id=\"T_55461_row2_col17\" class=\"data row2 col17\" >3.000000</td>\n",
       "      <td id=\"T_55461_row2_col18\" class=\"data row2 col18\" >878</td>\n",
       "      <td id=\"T_55461_row2_col19\" class=\"data row2 col19\" >952</td>\n",
       "      <td id=\"T_55461_row2_col20\" class=\"data row2 col20\" >733</td>\n",
       "      <td id=\"T_55461_row2_col21\" class=\"data row2 col21\" >1000</td>\n",
       "      <td id=\"T_55461_row2_col22\" class=\"data row2 col22\" >937</td>\n",
       "      <td id=\"T_55461_row2_col23\" class=\"data row2 col23\" >690</td>\n",
       "      <td id=\"T_55461_row2_col24\" class=\"data row2 col24\" >517</td>\n",
       "      <td id=\"T_55461_row2_col25\" class=\"data row2 col25\" >310</td>\n",
       "      <td id=\"T_55461_row2_col26\" class=\"data row2 col26\" >165</td>\n",
       "      <td id=\"T_55461_row2_col27\" class=\"data row2 col27\" >49</td>\n",
       "      <td id=\"T_55461_row2_col28\" class=\"data row2 col28\" >0</td>\n",
       "    </tr>\n",
       "    <tr>\n",
       "      <th id=\"T_55461_level0_row3\" class=\"row_heading level0 row3\" >3</th>\n",
       "      <td id=\"T_55461_row3_col0\" class=\"data row3 col0\" >p003</td>\n",
       "      <td id=\"T_55461_row3_col1\" class=\"data row3 col1\" >3</td>\n",
       "      <td id=\"T_55461_row3_col2\" class=\"data row3 col2\" >2021-12-20 00:00:00</td>\n",
       "      <td id=\"T_55461_row3_col3\" class=\"data row3 col3\" >23/11-29/11</td>\n",
       "      <td id=\"T_55461_row3_col4\" class=\"data row3 col4\" >36.900000</td>\n",
       "      <td id=\"T_55461_row3_col5\" class=\"data row3 col5\" >148291.000000</td>\n",
       "      <td id=\"T_55461_row3_col6\" class=\"data row3 col6\" >Positief getest</td>\n",
       "      <td id=\"T_55461_row3_col7\" class=\"data row3 col7\" >19951.000000</td>\n",
       "      <td id=\"T_55461_row3_col8\" class=\"data row3 col8\" >23579.000000</td>\n",
       "      <td id=\"T_55461_row3_col9\" class=\"data row3 col9\" >17181.000000</td>\n",
       "      <td id=\"T_55461_row3_col10\" class=\"data row3 col10\" >22875.000000</td>\n",
       "      <td id=\"T_55461_row3_col11\" class=\"data row3 col11\" >22212.000000</td>\n",
       "      <td id=\"T_55461_row3_col12\" class=\"data row3 col12\" >16861.000000</td>\n",
       "      <td id=\"T_55461_row3_col13\" class=\"data row3 col13\" >12559.000000</td>\n",
       "      <td id=\"T_55461_row3_col14\" class=\"data row3 col14\" >7654.000000</td>\n",
       "      <td id=\"T_55461_row3_col15\" class=\"data row3 col15\" >4137.000000</td>\n",
       "      <td id=\"T_55461_row3_col16\" class=\"data row3 col16\" >1279.000000</td>\n",
       "      <td id=\"T_55461_row3_col17\" class=\"data row3 col17\" >3.000000</td>\n",
       "      <td id=\"T_55461_row3_col18\" class=\"data row3 col18\" >846</td>\n",
       "      <td id=\"T_55461_row3_col19\" class=\"data row3 col19\" >1000</td>\n",
       "      <td id=\"T_55461_row3_col20\" class=\"data row3 col20\" >728</td>\n",
       "      <td id=\"T_55461_row3_col21\" class=\"data row3 col21\" >970</td>\n",
       "      <td id=\"T_55461_row3_col22\" class=\"data row3 col22\" >942</td>\n",
       "      <td id=\"T_55461_row3_col23\" class=\"data row3 col23\" >715</td>\n",
       "      <td id=\"T_55461_row3_col24\" class=\"data row3 col24\" >532</td>\n",
       "      <td id=\"T_55461_row3_col25\" class=\"data row3 col25\" >324</td>\n",
       "      <td id=\"T_55461_row3_col26\" class=\"data row3 col26\" >175</td>\n",
       "      <td id=\"T_55461_row3_col27\" class=\"data row3 col27\" >54</td>\n",
       "      <td id=\"T_55461_row3_col28\" class=\"data row3 col28\" >0</td>\n",
       "    </tr>\n",
       "    <tr>\n",
       "      <th id=\"T_55461_level0_row4\" class=\"row_heading level0 row4\" >4</th>\n",
       "      <td id=\"T_55461_row4_col0\" class=\"data row4 col0\" >p004</td>\n",
       "      <td id=\"T_55461_row4_col1\" class=\"data row4 col1\" >4</td>\n",
       "      <td id=\"T_55461_row4_col2\" class=\"data row4 col2\" >2021-12-20 00:00:00</td>\n",
       "      <td id=\"T_55461_row4_col3\" class=\"data row4 col3\" >16/11-22/11</td>\n",
       "      <td id=\"T_55461_row4_col4\" class=\"data row4 col4\" >37.000000</td>\n",
       "      <td id=\"T_55461_row4_col5\" class=\"data row4 col5\" >157153.000000</td>\n",
       "      <td id=\"T_55461_row4_col6\" class=\"data row4 col6\" >Positief getest</td>\n",
       "      <td id=\"T_55461_row4_col7\" class=\"data row4 col7\" >19608.000000</td>\n",
       "      <td id=\"T_55461_row4_col8\" class=\"data row4 col8\" >26038.000000</td>\n",
       "      <td id=\"T_55461_row4_col9\" class=\"data row4 col9\" >20074.000000</td>\n",
       "      <td id=\"T_55461_row4_col10\" class=\"data row4 col10\" >23423.000000</td>\n",
       "      <td id=\"T_55461_row4_col11\" class=\"data row4 col11\" >22502.000000</td>\n",
       "      <td id=\"T_55461_row4_col12\" class=\"data row4 col12\" >17451.000000</td>\n",
       "      <td id=\"T_55461_row4_col13\" class=\"data row4 col13\" >13878.000000</td>\n",
       "      <td id=\"T_55461_row4_col14\" class=\"data row4 col14\" >8502.000000</td>\n",
       "      <td id=\"T_55461_row4_col15\" class=\"data row4 col15\" >4427.000000</td>\n",
       "      <td id=\"T_55461_row4_col16\" class=\"data row4 col16\" >1246.000000</td>\n",
       "      <td id=\"T_55461_row4_col17\" class=\"data row4 col17\" >4.000000</td>\n",
       "      <td id=\"T_55461_row4_col18\" class=\"data row4 col18\" >753</td>\n",
       "      <td id=\"T_55461_row4_col19\" class=\"data row4 col19\" >1000</td>\n",
       "      <td id=\"T_55461_row4_col20\" class=\"data row4 col20\" >770</td>\n",
       "      <td id=\"T_55461_row4_col21\" class=\"data row4 col21\" >899</td>\n",
       "      <td id=\"T_55461_row4_col22\" class=\"data row4 col22\" >864</td>\n",
       "      <td id=\"T_55461_row4_col23\" class=\"data row4 col23\" >670</td>\n",
       "      <td id=\"T_55461_row4_col24\" class=\"data row4 col24\" >532</td>\n",
       "      <td id=\"T_55461_row4_col25\" class=\"data row4 col25\" >326</td>\n",
       "      <td id=\"T_55461_row4_col26\" class=\"data row4 col26\" >170</td>\n",
       "      <td id=\"T_55461_row4_col27\" class=\"data row4 col27\" >47</td>\n",
       "      <td id=\"T_55461_row4_col28\" class=\"data row4 col28\" >0</td>\n",
       "    </tr>\n",
       "  </tbody>\n",
       "</table>\n"
      ],
      "text/plain": [
       "<pandas.io.formats.style.Styler at 0x7f2ea6a58a00>"
      ]
     },
     "metadata": {},
     "output_type": "display_data"
    }
   ],
   "source": [
    "# Bereken de stand van zaken van besmettingen / hospitalisaties / overlijden, per cohort in absolute aantallen en aantallen per 100k, met een kleur indicator voor de aantallen.\n",
    "# vervang <50 en Unknown door Onbekend\n",
    "@run\n",
    "def cell():\n",
    "  rivm['Cohort'] = rivm['Agegroup'].replace({'<50': 'Onbekend', 'Unknown': 'Onbekend'})\n",
    "  # aangenomen 'gemiddelde' leeftijd van een cohort: minimum waarde + 5\n",
    "  assumed_cohort_age = [(cohort, [int(n) for n in cohort.replace('+', '').split('-')]) for cohort in rivm['Cohort'].unique() if cohort[0].isdigit()]\n",
    "  assumed_cohort_age = { cohort: min(rng) + 5 for cohort, rng in assumed_cohort_age }\n",
    "  rivm['Gemiddelde leeftijd'] = rivm['Cohort'].apply(lambda x: assumed_cohort_age.get(x, np.nan))\n",
    "\n",
    "  # verwijder tijd\n",
    "  rivm['Date_file_date'] = pd.to_datetime(rivm['Date_file'].replace(r' .*', '', regex=True))\n",
    "\n",
    "  rivm['Date_statistics_date'] = pd.to_datetime(rivm['Date_statistics'])\n",
    "\n",
    "  # weken terug = verschil tussen Date_file en Date_statistcs, gedeeld door 7 dagen\n",
    "  rivm['Weken terug'] = np.floor((rivm['Date_file_date'] - rivm['Date_statistics_date'])/np.timedelta64(7, 'D')).astype(int)\n",
    "\n",
    "  # voeg key, gem leeftijd, kleurnummer en totaal toe\n",
    "  Date_file = rivm['Date_file_date'].unique()[0].astype('M8[D]').astype('O')\n",
    "  cohorten = list(bevolking.index) + ['Onbekend']\n",
    "  def summarize(df, category, prefix):\n",
    "    # aangezien we hier de dataframe in-place wijzigen (bijv door toevoegen kolommen)\n",
    "    # en we het 'rivm' frame later nog clean nodig hebben\n",
    "    df = df.copy(deep=True)\n",
    "\n",
    "    df = (df\n",
    "          .groupby(['Weken terug', 'Cohort'])['count']\n",
    "          .sum()\n",
    "          .unstack(fill_value=np.nan)\n",
    "          .reset_index()\n",
    "          .rename_axis(None, axis=1)\n",
    "        ).merge(df\n",
    "          # we voegen hier gemiddelde leeftijd toe, want die willen we op een ander\n",
    "          # niveau aggregeren voor 'df' overschreven word\n",
    "          .groupby(['Weken terug'])['Gemiddelde leeftijd']\n",
    "          .mean()\n",
    "          .to_frame(), on='Weken terug'\n",
    "        )\n",
    "\n",
    "    # altijd 52 rijen\n",
    "    df = pd.Series(np.arange(52), name='Weken terug').to_frame().merge(df, how='left', on='Weken terug')\n",
    "\n",
    "    # toevoegen missende cohorten\n",
    "    for col in cohorten:\n",
    "      if not col in df:\n",
    "        df[col] = np.nan\n",
    "\n",
    "    # sommeer per rij (axis=1) over de cohorten om een totaal te krijgen\n",
    "    df['Totaal'] = df[cohorten].sum(axis=1)\n",
    "\n",
    "    # voeg periode en datum toe\n",
    "    # periode afgeleid van weken-terug (= de index voor deze dataframe)\n",
    "    df['Datum'] = pd.to_datetime(Date_file)\n",
    "    df['Periode'] = (df\n",
    "      .index.to_series()\n",
    "      .apply(\n",
    "        lambda x: (\n",
    "          (Date_file + datetime.timedelta(weeks=-(x+1), days=1)).strftime('%d/%m')\n",
    "          + '-'\n",
    "          + (Date_file + datetime.timedelta(weeks=-x)).strftime('%d/%m')\n",
    "        )\n",
    "      )\n",
    "    )\n",
    "\n",
    "    # voeg 'Key' en 'Type' kolom toe. Variabele 'type' kan niet, is een language primitive.\n",
    "    df['Key'] = prefix + df.index.astype(str).str.rjust(3, fillchar='0')\n",
    "    df['Type'] = category\n",
    "\n",
    "    # voeg de kleur kolommen toe\n",
    "    for col in cohorten:\n",
    "      df['c' + col] = ((df[col] / df[[col for col in cohorten]].max(axis=1)) * 1000).fillna(0).astype(int)\n",
    "\n",
    "    # herschikken van de kolommen\n",
    "    colorder = ['Key', 'Weken terug', 'Datum', 'Periode', 'Gemiddelde leeftijd', 'Totaal', 'Type']\n",
    "    return df[colorder + [col for col in df if col not in colorder]]\n",
    "\n",
    "  factor = bevolking.to_dict()['per 100k']\n",
    "  global tabel\n",
    "  tabel = pd.concat(\n",
    "    # flatten the result list zodat pd.concat ze onder elkaar kan plakken\n",
    "    functools.reduce(lambda a, b: a + b, [\n",
    "      [summarize(df.assign(count=1), label, prefix), summarize(df.assign(count=df['Cohort'].apply(lambda x: factor.get(x, np.nan))), label + ' per 100.000', prefix + '100k')]\n",
    "      for df, label, prefix in [\n",
    "        (rivm, 'Positief getest', 'p'), # volledige count per cohort\n",
    "        (rivm[rivm.Hospital_admission == 'Yes'], 'Ziekenhuisopname', 'h'), # count van cohort voor Hospital_admission == 'Yes'\n",
    "        (rivm[rivm.Deceased == 'Yes'], 'Overleden', 'd'), # count van cohort voor Deceased == 'Yes'\n",
    "      ]\n",
    "    ])\n",
    "  )\n",
    "\n",
    "  # rood -> groen\n",
    "  cdict = {\n",
    "    'red':   ((0.0, 0.0, 0.0),   # no red at 0\n",
    "              (0.5, 1.0, 1.0),   # all channels set to 1.0 at 0.5 to create white\n",
    "              (1.0, 0.8, 0.8)),  # set to 0.8 so its not too bright at 1\n",
    "    'green': ((0.0, 0.8, 0.8),   # set to 0.8 so its not too bright at 0\n",
    "              (0.5, 1.0, 1.0),   # all channels set to 1.0 at 0.5 to create white\n",
    "              (1.0, 0.0, 0.0)),  # no green at 1\n",
    "    'blue':  ((0.0, 0.0, 0.0),   # no blue at 0\n",
    "              (0.5, 1.0, 1.0),   # all channels set to 1.0 at 0.5 to create white\n",
    "              (1.0, 0.0, 0.0))   # no blue at 1\n",
    "  }\n",
    "  cm = colors.LinearSegmentedColormap('GnRd', cdict)\n",
    "  # geel -> paars\n",
    "  cm = sns.color_palette('viridis_r', as_cmap=True)\n",
    "  display(tabel\n",
    "    .fillna(0)\n",
    "    .head()\n",
    "    .round(1)\n",
    "    .reset_index(drop=True)\n",
    "    .style.background_gradient(cmap=cm, axis=1, subset=cohorten)\n",
    "  )"
   ]
  },
  {
   "cell_type": "code",
   "execution_count": 5,
   "id": "4f855adb",
   "metadata": {
    "execution": {
     "iopub.execute_input": "2021-12-20T14:38:12.677301Z",
     "iopub.status.busy": "2021-12-20T14:38:12.675612Z",
     "iopub.status.idle": "2021-12-20T14:41:23.365826Z",
     "shell.execute_reply": "2021-12-20T14:41:23.363722Z"
    },
    "papermill": {
     "duration": 190.708783,
     "end_time": "2021-12-20T14:41:23.365966",
     "exception": false,
     "start_time": "2021-12-20T14:38:12.657183",
     "status": "completed"
    },
    "tags": [],
    "title": "publish"
   },
   "outputs": [
    {
     "name": "stdout",
     "output_type": "stream",
     "text": [
      "infinities:\n"
     ]
    },
    {
     "name": "stdout",
     "output_type": "stream",
     "text": [
      "Empty DataFrame\n",
      "Columns: []\n",
      "Index: []\n"
     ]
    },
    {
     "name": "stdout",
     "output_type": "stream",
     "text": [
      "nan:\n"
     ]
    },
    {
     "name": "stdout",
     "output_type": "stream",
     "text": [
      "Empty DataFrame\n",
      "Columns: []\n",
      "Index: []\n"
     ]
    },
    {
     "name": "stdout",
     "output_type": "stream",
     "text": [
      "Key                     object\n",
      "Weken terug              int64\n",
      "Datum                   object\n",
      "Periode                 object\n",
      "Gemiddelde leeftijd    float64\n",
      "Totaal                 float64\n",
      "Type                    object\n",
      "0-9                    float64\n",
      "10-19                  float64\n",
      "20-29                  float64\n",
      "30-39                  float64\n",
      "40-49                  float64\n",
      "50-59                  float64\n",
      "60-69                  float64\n",
      "70-79                  float64\n",
      "80-89                  float64\n",
      "90+                    float64\n",
      "Onbekend               float64\n",
      "c0-9                     int64\n",
      "c10-19                   int64\n",
      "c20-29                   int64\n",
      "c30-39                   int64\n",
      "c40-49                   int64\n",
      "c50-59                   int64\n",
      "c60-69                   int64\n",
      "c70-79                   int64\n",
      "c80-89                   int64\n",
      "c90+                     int64\n",
      "cOnbekend                int64\n",
      "dtype: object\n",
      "updating knack\n"
     ]
    },
    {
     "name": "stdout",
     "output_type": "stream",
     "text": [
      "updating: [{'Key': 1, 'Updating Leeftijdsgroep': 'true'}]\n"
     ]
    },
    {
     "name": "stdout",
     "output_type": "stream",
     "text": [
      "restored LaatsteUpdate from hash\n"
     ]
    },
    {
     "name": "stdout",
     "output_type": "stream",
     "text": [
      "Key                         int64\n",
      "Updating Leeftijdsgroep    object\n",
      "dtype: object\n"
     ]
    },
    {
     "name": "stderr",
     "output_type": "stream",
     "text": [
      "\r",
      "  0%|          | 0/1 [00:00<?, ?it/s]"
     ]
    },
    {
     "name": "stderr",
     "output_type": "stream",
     "text": [
      "\r",
      "100%|██████████| 1/1 [00:01<00:00,  1.20s/it]"
     ]
    },
    {
     "name": "stderr",
     "output_type": "stream",
     "text": [
      "\r",
      "100%|██████████| 1/1 [00:01<00:00,  1.20s/it]"
     ]
    },
    {
     "name": "stdout",
     "output_type": "stream",
     "text": [
      "\n",
      "rate limit: 7 \n",
      "LaatsteUpdate API calls: create: 0, read: 1, update: 1, delete: 0, backoff: 0\n"
     ]
    },
    {
     "name": "stderr",
     "output_type": "stream",
     "text": [
      "\n"
     ]
    },
    {
     "name": "stdout",
     "output_type": "stream",
     "text": [
      "restored Leeftijdsgroep from hash\n"
     ]
    },
    {
     "name": "stdout",
     "output_type": "stream",
     "text": [
      "0-9                    float64\n",
      "10-19                  float64\n",
      "20-29                  float64\n",
      "30-39                  float64\n",
      "40-49                  float64\n",
      "50-59                  float64\n",
      "60-69                  float64\n",
      "70-79                  float64\n",
      "80-89                  float64\n",
      "90+                    float64\n",
      "Datum                   object\n",
      "Gemiddelde leeftijd    float64\n",
      "Key                     object\n",
      "Onbekend               float64\n",
      "Periode                 object\n",
      "Totaal                 float64\n",
      "Type                    object\n",
      "Weken terug              int64\n",
      "c0-9                     int64\n",
      "c10-19                   int64\n",
      "c20-29                   int64\n",
      "c30-39                   int64\n",
      "c40-49                   int64\n",
      "c50-59                   int64\n",
      "c60-69                   int64\n",
      "c70-79                   int64\n",
      "c80-89                   int64\n",
      "c90+                     int64\n",
      "cOnbekend                int64\n",
      "dtype: object\n"
     ]
    },
    {
     "name": "stderr",
     "output_type": "stream",
     "text": [
      "\r",
      "  0%|          | 0/312 [00:00<?, ?it/s]"
     ]
    },
    {
     "name": "stderr",
     "output_type": "stream",
     "text": [
      "\r",
      "  0%|          | 1/312 [00:01<05:14,  1.01s/it]"
     ]
    },
    {
     "name": "stderr",
     "output_type": "stream",
     "text": [
      "\r",
      "  1%|          | 2/312 [00:01<03:48,  1.35it/s]"
     ]
    },
    {
     "name": "stderr",
     "output_type": "stream",
     "text": [
      "\r",
      "  2%|▏         | 7/312 [00:01<00:54,  5.61it/s]"
     ]
    },
    {
     "name": "stderr",
     "output_type": "stream",
     "text": [
      "\r",
      "  3%|▎         | 9/312 [00:02<01:04,  4.73it/s]"
     ]
    },
    {
     "name": "stderr",
     "output_type": "stream",
     "text": [
      "\r",
      "  3%|▎         | 10/312 [00:02<01:12,  4.14it/s]"
     ]
    },
    {
     "name": "stderr",
     "output_type": "stream",
     "text": [
      "\r",
      "  4%|▍         | 13/312 [00:02<00:48,  6.12it/s]"
     ]
    },
    {
     "name": "stderr",
     "output_type": "stream",
     "text": [
      "\r",
      "  5%|▍         | 15/312 [00:03<00:39,  7.48it/s]"
     ]
    },
    {
     "name": "stderr",
     "output_type": "stream",
     "text": [
      "\r",
      "  5%|▌         | 17/312 [00:03<00:37,  7.76it/s]"
     ]
    },
    {
     "name": "stderr",
     "output_type": "stream",
     "text": [
      "\r",
      "  6%|▌         | 19/312 [00:03<00:44,  6.52it/s]"
     ]
    },
    {
     "name": "stderr",
     "output_type": "stream",
     "text": [
      "\r",
      "  6%|▋         | 20/312 [00:03<00:46,  6.27it/s]"
     ]
    },
    {
     "name": "stderr",
     "output_type": "stream",
     "text": [
      "\r",
      "  7%|▋         | 21/312 [00:04<00:58,  4.99it/s]"
     ]
    },
    {
     "name": "stderr",
     "output_type": "stream",
     "text": [
      "\r",
      "  7%|▋         | 23/312 [00:04<00:59,  4.89it/s]"
     ]
    },
    {
     "name": "stderr",
     "output_type": "stream",
     "text": [
      "\r",
      "  8%|▊         | 26/312 [00:05<00:48,  5.88it/s]"
     ]
    },
    {
     "name": "stderr",
     "output_type": "stream",
     "text": [
      "\r",
      "  9%|▊         | 27/312 [00:05<00:48,  5.82it/s]"
     ]
    },
    {
     "name": "stderr",
     "output_type": "stream",
     "text": [
      "\r",
      "  9%|▉         | 28/312 [00:05<00:45,  6.30it/s]"
     ]
    },
    {
     "name": "stderr",
     "output_type": "stream",
     "text": [
      "\r",
      " 10%|▉         | 30/312 [00:05<00:45,  6.25it/s]"
     ]
    },
    {
     "name": "stderr",
     "output_type": "stream",
     "text": [
      "\r",
      " 10%|▉         | 31/312 [00:05<00:42,  6.55it/s]"
     ]
    },
    {
     "name": "stderr",
     "output_type": "stream",
     "text": [
      "\r",
      " 11%|█         | 34/312 [00:05<00:29,  9.50it/s]"
     ]
    },
    {
     "name": "stderr",
     "output_type": "stream",
     "text": [
      "\r",
      " 12%|█▏        | 38/312 [00:06<00:20, 13.20it/s]"
     ]
    },
    {
     "name": "stderr",
     "output_type": "stream",
     "text": [
      "\r",
      " 13%|█▎        | 40/312 [00:06<00:20, 13.34it/s]"
     ]
    },
    {
     "name": "stderr",
     "output_type": "stream",
     "text": [
      "\r",
      " 13%|█▎        | 42/312 [00:06<00:35,  7.66it/s]"
     ]
    },
    {
     "name": "stderr",
     "output_type": "stream",
     "text": [
      "\r",
      " 14%|█▍        | 44/312 [00:07<00:37,  7.18it/s]"
     ]
    },
    {
     "name": "stderr",
     "output_type": "stream",
     "text": [
      "\r",
      " 15%|█▌        | 47/312 [00:07<00:39,  6.67it/s]"
     ]
    },
    {
     "name": "stderr",
     "output_type": "stream",
     "text": [
      "\r",
      " 15%|█▌        | 48/312 [00:08<00:51,  5.17it/s]"
     ]
    },
    {
     "name": "stderr",
     "output_type": "stream",
     "text": [
      "\r",
      " 16%|█▌        | 49/312 [00:08<00:52,  4.97it/s]"
     ]
    },
    {
     "name": "stderr",
     "output_type": "stream",
     "text": [
      "\r",
      " 16%|█▋        | 51/312 [00:08<00:49,  5.28it/s]"
     ]
    },
    {
     "name": "stderr",
     "output_type": "stream",
     "text": [
      "\r",
      " 17%|█▋        | 52/312 [00:08<00:55,  4.69it/s]"
     ]
    },
    {
     "name": "stderr",
     "output_type": "stream",
     "text": [
      "\r",
      " 17%|█▋        | 54/312 [00:09<00:40,  6.44it/s]"
     ]
    },
    {
     "name": "stderr",
     "output_type": "stream",
     "text": [
      "\r",
      " 19%|█▊        | 58/312 [00:09<00:24, 10.32it/s]"
     ]
    },
    {
     "name": "stderr",
     "output_type": "stream",
     "text": [
      "\r",
      " 19%|█▉        | 60/312 [00:09<00:26,  9.37it/s]"
     ]
    },
    {
     "name": "stderr",
     "output_type": "stream",
     "text": [
      "\r",
      " 20%|█▉        | 62/312 [00:10<00:36,  6.78it/s]"
     ]
    },
    {
     "name": "stderr",
     "output_type": "stream",
     "text": [
      "\r",
      " 20%|██        | 63/312 [00:10<00:35,  6.92it/s]"
     ]
    },
    {
     "name": "stderr",
     "output_type": "stream",
     "text": [
      "\r",
      " 21%|██        | 65/312 [00:10<00:28,  8.59it/s]"
     ]
    },
    {
     "name": "stderr",
     "output_type": "stream",
     "text": [
      "\r",
      " 21%|██▏       | 67/312 [00:10<00:42,  5.73it/s]"
     ]
    },
    {
     "name": "stderr",
     "output_type": "stream",
     "text": [
      "\r",
      " 22%|██▏       | 68/312 [00:10<00:39,  6.18it/s]"
     ]
    },
    {
     "name": "stderr",
     "output_type": "stream",
     "text": [
      "\r",
      " 22%|██▏       | 70/312 [00:11<00:33,  7.33it/s]"
     ]
    },
    {
     "name": "stderr",
     "output_type": "stream",
     "text": [
      "\r",
      " 23%|██▎       | 71/312 [00:11<00:35,  6.73it/s]"
     ]
    },
    {
     "name": "stderr",
     "output_type": "stream",
     "text": [
      "\r",
      " 23%|██▎       | 72/312 [00:11<00:43,  5.53it/s]"
     ]
    },
    {
     "name": "stderr",
     "output_type": "stream",
     "text": [
      "\r",
      " 23%|██▎       | 73/312 [00:11<00:42,  5.65it/s]"
     ]
    },
    {
     "name": "stderr",
     "output_type": "stream",
     "text": [
      "\r",
      " 24%|██▍       | 75/312 [00:11<00:32,  7.19it/s]"
     ]
    },
    {
     "name": "stderr",
     "output_type": "stream",
     "text": [
      "\r",
      " 24%|██▍       | 76/312 [00:12<00:32,  7.37it/s]"
     ]
    },
    {
     "name": "stderr",
     "output_type": "stream",
     "text": [
      "\r",
      " 25%|██▍       | 77/312 [00:12<00:36,  6.44it/s]"
     ]
    },
    {
     "name": "stderr",
     "output_type": "stream",
     "text": [
      "\r",
      " 25%|██▌       | 78/312 [00:12<00:33,  6.94it/s]"
     ]
    },
    {
     "name": "stderr",
     "output_type": "stream",
     "text": [
      "\r",
      " 26%|██▌       | 80/312 [00:12<00:26,  8.79it/s]"
     ]
    },
    {
     "name": "stderr",
     "output_type": "stream",
     "text": [
      "\r",
      " 26%|██▋       | 82/312 [00:12<00:25,  8.87it/s]"
     ]
    },
    {
     "name": "stderr",
     "output_type": "stream",
     "text": [
      "\r",
      " 27%|██▋       | 83/312 [00:12<00:29,  7.69it/s]"
     ]
    },
    {
     "name": "stderr",
     "output_type": "stream",
     "text": [
      "\r",
      " 27%|██▋       | 85/312 [00:13<00:28,  7.85it/s]"
     ]
    },
    {
     "name": "stderr",
     "output_type": "stream",
     "text": [
      "\r",
      " 28%|██▊       | 87/312 [00:13<00:22,  9.85it/s]"
     ]
    },
    {
     "name": "stderr",
     "output_type": "stream",
     "text": [
      "\r",
      " 29%|██▊       | 89/312 [00:13<00:35,  6.27it/s]"
     ]
    },
    {
     "name": "stderr",
     "output_type": "stream",
     "text": [
      "\r",
      " 29%|██▉       | 92/312 [00:14<00:29,  7.50it/s]"
     ]
    },
    {
     "name": "stderr",
     "output_type": "stream",
     "text": [
      "\r",
      " 30%|██▉       | 93/312 [00:14<00:34,  6.36it/s]"
     ]
    },
    {
     "name": "stderr",
     "output_type": "stream",
     "text": [
      "\r",
      " 31%|███       | 96/312 [00:14<00:30,  7.01it/s]"
     ]
    },
    {
     "name": "stderr",
     "output_type": "stream",
     "text": [
      "\r",
      " 32%|███▏      | 99/312 [00:15<00:27,  7.65it/s]"
     ]
    },
    {
     "name": "stderr",
     "output_type": "stream",
     "text": [
      "\r",
      " 32%|███▏      | 101/312 [00:15<00:23,  8.95it/s]"
     ]
    },
    {
     "name": "stderr",
     "output_type": "stream",
     "text": [
      "\r",
      " 33%|███▎      | 104/312 [00:15<00:25,  8.02it/s]"
     ]
    },
    {
     "name": "stderr",
     "output_type": "stream",
     "text": [
      "\r",
      " 34%|███▍      | 106/312 [00:16<00:28,  7.30it/s]"
     ]
    },
    {
     "name": "stderr",
     "output_type": "stream",
     "text": [
      "\r",
      " 35%|███▍      | 109/312 [00:16<00:27,  7.27it/s]"
     ]
    },
    {
     "name": "stderr",
     "output_type": "stream",
     "text": [
      "\r",
      " 36%|███▌      | 111/312 [00:16<00:25,  7.77it/s]"
     ]
    },
    {
     "name": "stderr",
     "output_type": "stream",
     "text": [
      "\r",
      " 36%|███▌      | 113/312 [00:17<00:38,  5.23it/s]"
     ]
    },
    {
     "name": "stderr",
     "output_type": "stream",
     "text": [
      "\r",
      " 37%|███▋      | 116/312 [00:17<00:26,  7.36it/s]"
     ]
    },
    {
     "name": "stderr",
     "output_type": "stream",
     "text": [
      "\r",
      " 38%|███▊      | 118/312 [00:18<00:31,  6.09it/s]"
     ]
    },
    {
     "name": "stderr",
     "output_type": "stream",
     "text": [
      "\r",
      " 38%|███▊      | 120/312 [00:18<00:36,  5.33it/s]"
     ]
    },
    {
     "name": "stderr",
     "output_type": "stream",
     "text": [
      "\r",
      " 39%|███▉      | 122/312 [00:18<00:32,  5.79it/s]"
     ]
    },
    {
     "name": "stderr",
     "output_type": "stream",
     "text": [
      "\r",
      " 40%|████      | 126/312 [00:18<00:20,  9.11it/s]"
     ]
    },
    {
     "name": "stderr",
     "output_type": "stream",
     "text": [
      "\r",
      " 41%|████      | 128/312 [00:19<00:24,  7.54it/s]"
     ]
    },
    {
     "name": "stderr",
     "output_type": "stream",
     "text": [
      "\r",
      " 42%|████▏     | 130/312 [00:19<00:21,  8.29it/s]"
     ]
    },
    {
     "name": "stderr",
     "output_type": "stream",
     "text": [
      "\r",
      " 42%|████▏     | 132/312 [00:20<00:28,  6.33it/s]"
     ]
    },
    {
     "name": "stderr",
     "output_type": "stream",
     "text": [
      "\r",
      " 43%|████▎     | 133/312 [00:20<00:33,  5.33it/s]"
     ]
    },
    {
     "name": "stderr",
     "output_type": "stream",
     "text": [
      "\r",
      " 44%|████▎     | 136/312 [00:20<00:22,  7.98it/s]"
     ]
    },
    {
     "name": "stderr",
     "output_type": "stream",
     "text": [
      "\r",
      " 44%|████▍     | 138/312 [00:20<00:18,  9.19it/s]"
     ]
    },
    {
     "name": "stderr",
     "output_type": "stream",
     "text": [
      "\r",
      " 45%|████▍     | 140/312 [00:20<00:18,  9.50it/s]"
     ]
    },
    {
     "name": "stderr",
     "output_type": "stream",
     "text": [
      "\r",
      " 46%|████▌     | 142/312 [00:21<00:22,  7.54it/s]"
     ]
    },
    {
     "name": "stderr",
     "output_type": "stream",
     "text": [
      "\r",
      " 46%|████▌     | 144/312 [00:21<00:34,  4.88it/s]"
     ]
    },
    {
     "name": "stderr",
     "output_type": "stream",
     "text": [
      "\r",
      " 46%|████▋     | 145/312 [00:22<00:36,  4.64it/s]"
     ]
    },
    {
     "name": "stderr",
     "output_type": "stream",
     "text": [
      "\r",
      " 47%|████▋     | 147/312 [00:22<00:29,  5.61it/s]"
     ]
    },
    {
     "name": "stderr",
     "output_type": "stream",
     "text": [
      "\r",
      " 48%|████▊     | 149/312 [00:22<00:25,  6.31it/s]"
     ]
    },
    {
     "name": "stderr",
     "output_type": "stream",
     "text": [
      "\r",
      " 48%|████▊     | 151/312 [00:22<00:21,  7.44it/s]"
     ]
    },
    {
     "name": "stderr",
     "output_type": "stream",
     "text": [
      "\r",
      " 49%|████▉     | 153/312 [00:23<00:21,  7.50it/s]"
     ]
    },
    {
     "name": "stderr",
     "output_type": "stream",
     "text": [
      "\r",
      " 50%|████▉     | 155/312 [00:23<00:24,  6.50it/s]"
     ]
    },
    {
     "name": "stderr",
     "output_type": "stream",
     "text": [
      "\r",
      " 50%|█████     | 156/312 [00:23<00:24,  6.47it/s]"
     ]
    },
    {
     "name": "stderr",
     "output_type": "stream",
     "text": [
      "\r",
      " 50%|█████     | 157/312 [00:23<00:25,  6.11it/s]"
     ]
    },
    {
     "name": "stderr",
     "output_type": "stream",
     "text": [
      "\r",
      " 51%|█████     | 159/312 [00:23<00:18,  8.10it/s]"
     ]
    },
    {
     "name": "stderr",
     "output_type": "stream",
     "text": [
      "\r",
      " 52%|█████▏    | 161/312 [00:24<00:22,  6.82it/s]"
     ]
    },
    {
     "name": "stderr",
     "output_type": "stream",
     "text": [
      "\r",
      " 52%|█████▏    | 163/312 [00:24<00:25,  5.76it/s]"
     ]
    },
    {
     "name": "stderr",
     "output_type": "stream",
     "text": [
      "\r",
      " 53%|█████▎    | 164/312 [00:24<00:25,  5.75it/s]"
     ]
    },
    {
     "name": "stderr",
     "output_type": "stream",
     "text": [
      "\r",
      " 53%|█████▎    | 165/312 [00:25<00:23,  6.17it/s]"
     ]
    },
    {
     "name": "stderr",
     "output_type": "stream",
     "text": [
      "\r",
      " 53%|█████▎    | 166/312 [00:25<00:23,  6.09it/s]"
     ]
    },
    {
     "name": "stderr",
     "output_type": "stream",
     "text": [
      "\r",
      " 54%|█████▍    | 168/312 [00:25<00:20,  6.93it/s]"
     ]
    },
    {
     "name": "stderr",
     "output_type": "stream",
     "text": [
      "\r",
      " 54%|█████▍    | 170/312 [00:25<00:17,  8.09it/s]"
     ]
    },
    {
     "name": "stderr",
     "output_type": "stream",
     "text": [
      "\r",
      " 55%|█████▍    | 171/312 [00:25<00:19,  7.11it/s]"
     ]
    },
    {
     "name": "stderr",
     "output_type": "stream",
     "text": [
      "\r",
      " 55%|█████▌    | 173/312 [00:26<00:21,  6.56it/s]"
     ]
    },
    {
     "name": "stderr",
     "output_type": "stream",
     "text": [
      "\r",
      " 56%|█████▌    | 175/312 [00:26<00:22,  6.19it/s]"
     ]
    },
    {
     "name": "stderr",
     "output_type": "stream",
     "text": [
      "\r",
      " 57%|█████▋    | 177/312 [00:26<00:16,  7.95it/s]"
     ]
    },
    {
     "name": "stderr",
     "output_type": "stream",
     "text": [
      "\r",
      " 57%|█████▋    | 179/312 [00:26<00:16,  8.17it/s]"
     ]
    },
    {
     "name": "stderr",
     "output_type": "stream",
     "text": [
      "\r",
      " 58%|█████▊    | 180/312 [00:27<00:18,  6.95it/s]"
     ]
    },
    {
     "name": "stderr",
     "output_type": "stream",
     "text": [
      "\r",
      " 58%|█████▊    | 182/312 [00:27<00:16,  7.66it/s]"
     ]
    },
    {
     "name": "stderr",
     "output_type": "stream",
     "text": [
      "\r",
      " 59%|█████▊    | 183/312 [00:27<00:17,  7.51it/s]"
     ]
    },
    {
     "name": "stderr",
     "output_type": "stream",
     "text": [
      "\r",
      " 59%|█████▉    | 184/312 [00:27<00:17,  7.42it/s]"
     ]
    },
    {
     "name": "stderr",
     "output_type": "stream",
     "text": [
      "\r",
      " 59%|█████▉    | 185/312 [00:27<00:17,  7.15it/s]"
     ]
    },
    {
     "name": "stderr",
     "output_type": "stream",
     "text": [
      "\r",
      " 60%|█████▉    | 186/312 [00:28<00:20,  6.01it/s]"
     ]
    },
    {
     "name": "stderr",
     "output_type": "stream",
     "text": [
      "\r",
      " 61%|██████    | 189/312 [00:28<00:14,  8.49it/s]"
     ]
    },
    {
     "name": "stderr",
     "output_type": "stream",
     "text": [
      "\r",
      " 61%|██████    | 191/312 [00:28<00:16,  7.53it/s]"
     ]
    },
    {
     "name": "stderr",
     "output_type": "stream",
     "text": [
      "\r",
      " 62%|██████▏   | 192/312 [00:28<00:16,  7.44it/s]"
     ]
    },
    {
     "name": "stderr",
     "output_type": "stream",
     "text": [
      "\r",
      " 62%|██████▏   | 193/312 [00:28<00:19,  6.11it/s]"
     ]
    },
    {
     "name": "stderr",
     "output_type": "stream",
     "text": [
      "\r",
      " 62%|██████▎   | 195/312 [00:29<00:14,  8.02it/s]"
     ]
    },
    {
     "name": "stderr",
     "output_type": "stream",
     "text": [
      "\r",
      " 63%|██████▎   | 196/312 [00:29<00:14,  8.28it/s]"
     ]
    },
    {
     "name": "stderr",
     "output_type": "stream",
     "text": [
      "\r",
      " 63%|██████▎   | 197/312 [00:29<00:15,  7.48it/s]"
     ]
    },
    {
     "name": "stderr",
     "output_type": "stream",
     "text": [
      "\r",
      " 63%|██████▎   | 198/312 [00:29<00:16,  7.07it/s]"
     ]
    },
    {
     "name": "stderr",
     "output_type": "stream",
     "text": [
      "\r",
      " 64%|██████▍   | 200/312 [00:29<00:14,  7.82it/s]"
     ]
    },
    {
     "name": "stderr",
     "output_type": "stream",
     "text": [
      "\r",
      " 65%|██████▍   | 202/312 [00:30<00:15,  7.32it/s]"
     ]
    },
    {
     "name": "stderr",
     "output_type": "stream",
     "text": [
      "\r",
      " 65%|██████▌   | 204/312 [00:30<00:16,  6.69it/s]"
     ]
    },
    {
     "name": "stderr",
     "output_type": "stream",
     "text": [
      "\r",
      " 66%|██████▌   | 205/312 [00:30<00:15,  6.87it/s]"
     ]
    },
    {
     "name": "stderr",
     "output_type": "stream",
     "text": [
      "\r",
      " 66%|██████▋   | 207/312 [00:30<00:12,  8.71it/s]"
     ]
    },
    {
     "name": "stderr",
     "output_type": "stream",
     "text": [
      "\r",
      " 67%|██████▋   | 209/312 [00:31<00:17,  6.05it/s]"
     ]
    },
    {
     "name": "stderr",
     "output_type": "stream",
     "text": [
      "\r",
      " 67%|██████▋   | 210/312 [00:31<00:20,  4.92it/s]"
     ]
    },
    {
     "name": "stderr",
     "output_type": "stream",
     "text": [
      "\r",
      " 68%|██████▊   | 212/312 [00:31<00:17,  5.79it/s]"
     ]
    },
    {
     "name": "stderr",
     "output_type": "stream",
     "text": [
      "\r",
      " 69%|██████▊   | 214/312 [00:32<00:15,  6.29it/s]"
     ]
    },
    {
     "name": "stderr",
     "output_type": "stream",
     "text": [
      "\r",
      " 69%|██████▉   | 216/312 [00:32<00:13,  6.96it/s]"
     ]
    },
    {
     "name": "stderr",
     "output_type": "stream",
     "text": [
      "\r",
      " 70%|██████▉   | 217/312 [00:32<00:17,  5.36it/s]"
     ]
    },
    {
     "name": "stderr",
     "output_type": "stream",
     "text": [
      "\r",
      " 70%|███████   | 219/312 [00:32<00:15,  5.93it/s]"
     ]
    },
    {
     "name": "stderr",
     "output_type": "stream",
     "text": [
      "\r",
      " 71%|███████   | 220/312 [00:33<00:16,  5.60it/s]"
     ]
    },
    {
     "name": "stderr",
     "output_type": "stream",
     "text": [
      "\r",
      " 71%|███████   | 222/312 [00:33<00:13,  6.57it/s]"
     ]
    },
    {
     "name": "stderr",
     "output_type": "stream",
     "text": [
      "\r",
      " 72%|███████▏  | 224/312 [00:33<00:14,  6.11it/s]"
     ]
    },
    {
     "name": "stderr",
     "output_type": "stream",
     "text": [
      "\r",
      " 72%|███████▏  | 225/312 [00:33<00:13,  6.22it/s]"
     ]
    },
    {
     "name": "stderr",
     "output_type": "stream",
     "text": [
      "\r",
      " 73%|███████▎  | 227/312 [00:34<00:11,  7.10it/s]"
     ]
    },
    {
     "name": "stderr",
     "output_type": "stream",
     "text": [
      "\r",
      " 73%|███████▎  | 228/312 [00:34<00:16,  5.19it/s]"
     ]
    },
    {
     "name": "stderr",
     "output_type": "stream",
     "text": [
      "\r",
      " 74%|███████▎  | 230/312 [00:34<00:14,  5.49it/s]"
     ]
    },
    {
     "name": "stderr",
     "output_type": "stream",
     "text": [
      "\r",
      " 75%|███████▍  | 233/312 [00:35<00:10,  7.59it/s]"
     ]
    },
    {
     "name": "stderr",
     "output_type": "stream",
     "text": [
      "\r",
      " 75%|███████▌  | 234/312 [00:35<00:11,  6.76it/s]"
     ]
    },
    {
     "name": "stderr",
     "output_type": "stream",
     "text": [
      "\r",
      " 75%|███████▌  | 235/312 [00:35<00:11,  6.88it/s]"
     ]
    },
    {
     "name": "stderr",
     "output_type": "stream",
     "text": [
      "\r",
      " 76%|███████▌  | 236/312 [00:35<00:17,  4.47it/s]"
     ]
    },
    {
     "name": "stderr",
     "output_type": "stream",
     "text": [
      "\r",
      " 77%|███████▋  | 241/312 [00:36<00:07,  8.98it/s]"
     ]
    },
    {
     "name": "stderr",
     "output_type": "stream",
     "text": [
      "\r",
      " 78%|███████▊  | 244/312 [00:36<00:06, 11.22it/s]"
     ]
    },
    {
     "name": "stderr",
     "output_type": "stream",
     "text": [
      "\r",
      " 79%|███████▉  | 246/312 [00:36<00:07,  8.59it/s]"
     ]
    },
    {
     "name": "stderr",
     "output_type": "stream",
     "text": [
      "\r",
      " 80%|███████▉  | 249/312 [00:37<00:07,  7.92it/s]"
     ]
    },
    {
     "name": "stderr",
     "output_type": "stream",
     "text": [
      "\r",
      " 80%|████████  | 251/312 [00:37<00:09,  6.56it/s]"
     ]
    },
    {
     "name": "stderr",
     "output_type": "stream",
     "text": [
      "\r",
      " 81%|████████  | 253/312 [00:37<00:08,  7.24it/s]"
     ]
    },
    {
     "name": "stderr",
     "output_type": "stream",
     "text": [
      "\r",
      " 81%|████████▏ | 254/312 [00:37<00:08,  6.72it/s]"
     ]
    },
    {
     "name": "stderr",
     "output_type": "stream",
     "text": [
      "\r",
      " 82%|████████▏ | 255/312 [00:38<00:08,  6.56it/s]"
     ]
    },
    {
     "name": "stderr",
     "output_type": "stream",
     "text": [
      "\r",
      " 82%|████████▏ | 257/312 [00:38<00:06,  7.98it/s]"
     ]
    },
    {
     "name": "stderr",
     "output_type": "stream",
     "text": [
      "\r",
      " 83%|████████▎ | 258/312 [00:38<00:11,  4.71it/s]"
     ]
    },
    {
     "name": "stderr",
     "output_type": "stream",
     "text": [
      "\r",
      " 84%|████████▎ | 261/312 [00:38<00:06,  7.48it/s]"
     ]
    },
    {
     "name": "stderr",
     "output_type": "stream",
     "text": [
      "\r",
      " 84%|████████▍ | 263/312 [00:39<00:05,  8.83it/s]"
     ]
    },
    {
     "name": "stderr",
     "output_type": "stream",
     "text": [
      "\r",
      " 85%|████████▌ | 266/312 [00:39<00:04, 10.38it/s]"
     ]
    },
    {
     "name": "stderr",
     "output_type": "stream",
     "text": [
      "\r",
      " 86%|████████▌ | 268/312 [00:39<00:05,  7.68it/s]"
     ]
    },
    {
     "name": "stderr",
     "output_type": "stream",
     "text": [
      "\r",
      " 87%|████████▋ | 270/312 [00:40<00:08,  5.22it/s]"
     ]
    },
    {
     "name": "stderr",
     "output_type": "stream",
     "text": [
      "\r",
      " 87%|████████▋ | 271/312 [00:40<00:07,  5.44it/s]"
     ]
    },
    {
     "name": "stderr",
     "output_type": "stream",
     "text": [
      "\r",
      " 88%|████████▊ | 273/312 [00:40<00:06,  6.30it/s]"
     ]
    },
    {
     "name": "stderr",
     "output_type": "stream",
     "text": [
      "\r",
      " 88%|████████▊ | 275/312 [00:40<00:04,  7.52it/s]"
     ]
    },
    {
     "name": "stderr",
     "output_type": "stream",
     "text": [
      "\r",
      " 88%|████████▊ | 276/312 [00:41<00:05,  6.64it/s]"
     ]
    },
    {
     "name": "stderr",
     "output_type": "stream",
     "text": [
      "\r",
      " 89%|████████▉ | 278/312 [00:41<00:04,  8.42it/s]"
     ]
    },
    {
     "name": "stderr",
     "output_type": "stream",
     "text": [
      "\r",
      " 90%|████████▉ | 280/312 [00:41<00:04,  7.62it/s]"
     ]
    },
    {
     "name": "stderr",
     "output_type": "stream",
     "text": [
      "\r",
      " 90%|█████████ | 281/312 [00:41<00:04,  7.27it/s]"
     ]
    },
    {
     "name": "stderr",
     "output_type": "stream",
     "text": [
      "\r",
      " 90%|█████████ | 282/312 [00:41<00:04,  7.13it/s]"
     ]
    },
    {
     "name": "stderr",
     "output_type": "stream",
     "text": [
      "\r",
      " 91%|█████████ | 283/312 [00:42<00:04,  6.21it/s]"
     ]
    },
    {
     "name": "stderr",
     "output_type": "stream",
     "text": [
      "\r",
      " 91%|█████████▏| 285/312 [00:42<00:03,  8.24it/s]"
     ]
    },
    {
     "name": "stderr",
     "output_type": "stream",
     "text": [
      "\r",
      " 92%|█████████▏| 286/312 [00:42<00:03,  7.02it/s]"
     ]
    },
    {
     "name": "stderr",
     "output_type": "stream",
     "text": [
      "\r",
      " 92%|█████████▏| 287/312 [00:42<00:03,  6.36it/s]"
     ]
    },
    {
     "name": "stderr",
     "output_type": "stream",
     "text": [
      "\r",
      " 93%|█████████▎| 290/312 [00:42<00:02,  8.54it/s]"
     ]
    },
    {
     "name": "stderr",
     "output_type": "stream",
     "text": [
      "\r",
      " 93%|█████████▎| 291/312 [00:43<00:03,  6.84it/s]"
     ]
    },
    {
     "name": "stderr",
     "output_type": "stream",
     "text": [
      "\r",
      " 94%|█████████▎| 292/312 [00:43<00:02,  7.22it/s]"
     ]
    },
    {
     "name": "stderr",
     "output_type": "stream",
     "text": [
      "\r",
      " 94%|█████████▍| 294/312 [00:43<00:02,  6.54it/s]"
     ]
    },
    {
     "name": "stderr",
     "output_type": "stream",
     "text": [
      "\r",
      " 95%|█████████▍| 295/312 [00:43<00:02,  6.15it/s]"
     ]
    },
    {
     "name": "stderr",
     "output_type": "stream",
     "text": [
      "\r",
      " 95%|█████████▌| 297/312 [00:44<00:02,  6.15it/s]"
     ]
    },
    {
     "name": "stderr",
     "output_type": "stream",
     "text": [
      "\r",
      " 96%|█████████▌| 299/312 [00:44<00:01,  7.67it/s]"
     ]
    },
    {
     "name": "stderr",
     "output_type": "stream",
     "text": [
      "\r",
      " 97%|█████████▋| 302/312 [00:44<00:01,  9.57it/s]"
     ]
    },
    {
     "name": "stderr",
     "output_type": "stream",
     "text": [
      "\r",
      " 97%|█████████▋| 304/312 [00:44<00:01,  7.21it/s]"
     ]
    },
    {
     "name": "stderr",
     "output_type": "stream",
     "text": [
      "\r",
      " 98%|█████████▊| 307/312 [00:45<00:00,  7.87it/s]"
     ]
    },
    {
     "name": "stderr",
     "output_type": "stream",
     "text": [
      "\r",
      " 99%|█████████▉| 309/312 [00:45<00:00,  6.84it/s]"
     ]
    },
    {
     "name": "stderr",
     "output_type": "stream",
     "text": [
      "\r",
      "100%|█████████▉| 311/312 [00:45<00:00,  8.32it/s]"
     ]
    },
    {
     "name": "stderr",
     "output_type": "stream",
     "text": [
      "\r",
      "100%|██████████| 312/312 [00:46<00:00,  6.73it/s]"
     ]
    },
    {
     "name": "stdout",
     "output_type": "stream",
     "text": [
      "\n",
      "rate limit: 7 \n",
      "Leeftijdsgroep API calls: create: 0, read: 1, update: 312, delete: 0, backoff: 2\n",
      "errors:\n",
      "  503: Service Unavailable: 3\n"
     ]
    },
    {
     "name": "stdout",
     "output_type": "stream",
     "text": [
      "[{'Key': 1, 'Timestamp Leeftijdsgroep RIVM': '2021-12-20 15:15'}]\n"
     ]
    },
    {
     "name": "stderr",
     "output_type": "stream",
     "text": [
      "\n"
     ]
    },
    {
     "name": "stdout",
     "output_type": "stream",
     "text": [
      "timestamps: [{'Key': 1, 'Timestamp Leeftijdsgroep RIVM': '2021-12-20 15:15'}]\n",
      "Key                               int64\n",
      "Timestamp Leeftijdsgroep RIVM    object\n",
      "dtype: object\n"
     ]
    },
    {
     "name": "stderr",
     "output_type": "stream",
     "text": [
      "\r",
      "  0%|          | 0/1 [00:00<?, ?it/s]"
     ]
    },
    {
     "name": "stderr",
     "output_type": "stream",
     "text": [
      "\r",
      "100%|██████████| 1/1 [00:00<00:00,  1.05it/s]"
     ]
    },
    {
     "name": "stderr",
     "output_type": "stream",
     "text": [
      "\r",
      "100%|██████████| 1/1 [00:00<00:00,  1.05it/s]"
     ]
    },
    {
     "name": "stdout",
     "output_type": "stream",
     "text": [
      "\n",
      "rate limit: 7 \n",
      "LaatsteUpdate API calls: create: 0, read: 0, update: 1, delete: 0, backoff: 0\n"
     ]
    },
    {
     "name": "stderr",
     "output_type": "stream",
     "text": [
      "\n"
     ]
    },
    {
     "name": "stdout",
     "output_type": "stream",
     "text": [
      "BatchName     object\n",
      "ObjectName    object\n",
      "Source        object\n",
      "Timestamp     object\n",
      "dtype: object\n"
     ]
    },
    {
     "name": "stderr",
     "output_type": "stream",
     "text": [
      "\r",
      "  0%|          | 0/1 [00:00<?, ?it/s]"
     ]
    },
    {
     "name": "stderr",
     "output_type": "stream",
     "text": [
      "\r",
      "100%|██████████| 1/1 [00:02<00:00,  2.56s/it]"
     ]
    },
    {
     "name": "stderr",
     "output_type": "stream",
     "text": [
      "\r",
      "100%|██████████| 1/1 [00:02<00:00,  2.56s/it]"
     ]
    },
    {
     "name": "stdout",
     "output_type": "stream",
     "text": [
      "\n",
      "rate limit: 7 \n",
      "UpdateDetails API calls: create: 1, read: 0, update: 0, delete: 0, backoff: 0\n"
     ]
    },
    {
     "name": "stderr",
     "output_type": "stream",
     "text": [
      "\n"
     ]
    },
    {
     "name": "stdout",
     "output_type": "stream",
     "text": [
      "updating: [{'Key': 1, 'Updating Leeftijdsgroep': 'false'}]\n",
      "Key                         int64\n",
      "Updating Leeftijdsgroep    object\n",
      "dtype: object\n"
     ]
    },
    {
     "name": "stderr",
     "output_type": "stream",
     "text": [
      "\r",
      "  0%|          | 0/1 [00:00<?, ?it/s]"
     ]
    },
    {
     "name": "stderr",
     "output_type": "stream",
     "text": [
      "\r",
      "100%|██████████| 1/1 [00:03<00:00,  3.02s/it]"
     ]
    },
    {
     "name": "stderr",
     "output_type": "stream",
     "text": [
      "\r",
      "100%|██████████| 1/1 [00:03<00:00,  3.03s/it]"
     ]
    },
    {
     "name": "stdout",
     "output_type": "stream",
     "text": [
      "\n",
      "rate limit: 7 \n",
      "LaatsteUpdate API calls: create: 0, read: 0, update: 1, delete: 0, backoff: 0\n"
     ]
    },
    {
     "name": "stderr",
     "output_type": "stream",
     "text": [
      "\n"
     ]
    }
   ],
   "source": [
    "if knack:\n",
    "  await knack.publish(tabel.fillna(0).assign(Datum=tabel.Datum.dt.strftime('%Y-%m-%d')), 'Leeftijdsgroep', Cache)"
   ]
  }
 ],
 "metadata": {
  "jupytext": {
   "cell_metadata_filter": "title,-all"
  },
  "kernelspec": {
   "display_name": "Python 3 (ipykernel)",
   "language": "python",
   "name": "python3"
  },
  "language_info": {
   "codemirror_mode": {
    "name": "ipython",
    "version": 3
   },
   "file_extension": ".py",
   "mimetype": "text/x-python",
   "name": "python",
   "nbconvert_exporter": "python",
   "pygments_lexer": "ipython3",
   "version": "3.9.9"
  },
  "papermill": {
   "default_parameters": {},
   "duration": 560.783406,
   "end_time": "2021-12-20T14:41:23.952016",
   "environment_variables": {},
   "exception": null,
   "input_path": "-",
   "output_path": "LeeftijdsgroepenLandelijk.ipynb",
   "parameters": {},
   "start_time": "2021-12-20T14:32:03.168610",
   "version": "2.3.3"
  }
 },
 "nbformat": 4,
 "nbformat_minor": 5
}