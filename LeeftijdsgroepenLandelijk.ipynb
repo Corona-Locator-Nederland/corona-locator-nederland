{
 "cells": [
  {
   "cell_type": "code",
   "execution_count": 1,
   "id": "07767353",
   "metadata": {
    "execution": {
     "iopub.execute_input": "2021-07-25T11:12:02.472580Z",
     "iopub.status.busy": "2021-07-25T11:12:02.471916Z",
     "iopub.status.idle": "2021-07-25T11:12:07.595466Z",
     "shell.execute_reply": "2021-07-25T11:12:07.595943Z"
    },
    "lines_to_next_cell": 1,
    "papermill": {
     "duration": 5.140222,
     "end_time": "2021-07-25T11:12:07.596217",
     "exception": false,
     "start_time": "2021-07-25T11:12:02.455995",
     "status": "completed"
    },
    "tags": []
   },
   "outputs": [],
   "source": [
    "from IPython import get_ipython\n",
    "from IPython.core.display import display\n",
    "get_ipython().run_line_magic('load_ext', 'autoreload')\n",
    "get_ipython().run_line_magic('autoreload', '2')\n",
    "get_ipython().run_line_magic('run', 'setup')"
   ]
  },
  {
   "cell_type": "code",
   "execution_count": 2,
   "id": "8b1985f7",
   "metadata": {
    "execution": {
     "iopub.execute_input": "2021-07-25T11:12:07.611006Z",
     "iopub.status.busy": "2021-07-25T11:12:07.610185Z",
     "iopub.status.idle": "2021-07-25T11:12:11.399704Z",
     "shell.execute_reply": "2021-07-25T11:12:11.399136Z"
    },
    "lines_to_next_cell": 1,
    "papermill": {
     "duration": 3.798657,
     "end_time": "2021-07-25T11:12:11.399845",
     "exception": false,
     "start_time": "2021-07-25T11:12:07.601188",
     "status": "completed"
    },
    "tags": [],
    "title": "leeftijdsgroepen: download RIVM data"
   },
   "outputs": [
    {
     "name": "stdout",
     "output_type": "stream",
     "text": [
      "rivm/COVID-19_casus_landelijk-2021-07-24@13-15.csv exists\n"
     ]
    },
    {
     "name": "stdout",
     "output_type": "stream",
     "text": [
      "loading rivm/COVID-19_casus_landelijk-2021-07-24@13-15.csv.gz\n"
     ]
    },
    {
     "data": {
      "text/html": [
       "<div>\n",
       "<style scoped>\n",
       "    .dataframe tbody tr th:only-of-type {\n",
       "        vertical-align: middle;\n",
       "    }\n",
       "\n",
       "    .dataframe tbody tr th {\n",
       "        vertical-align: top;\n",
       "    }\n",
       "\n",
       "    .dataframe thead th {\n",
       "        text-align: right;\n",
       "    }\n",
       "</style>\n",
       "<table border=\"1\" class=\"dataframe\">\n",
       "  <thead>\n",
       "    <tr style=\"text-align: right;\">\n",
       "      <th></th>\n",
       "      <th>Date_file</th>\n",
       "      <th>Date_statistics</th>\n",
       "      <th>Date_statistics_type</th>\n",
       "      <th>Agegroup</th>\n",
       "      <th>Sex</th>\n",
       "      <th>Province</th>\n",
       "      <th>Hospital_admission</th>\n",
       "      <th>Deceased</th>\n",
       "      <th>Week_of_death</th>\n",
       "      <th>Municipal_health_service</th>\n",
       "    </tr>\n",
       "  </thead>\n",
       "  <tbody>\n",
       "    <tr>\n",
       "      <th>0</th>\n",
       "      <td>2021-07-24 10:00:00</td>\n",
       "      <td>2020-01-01</td>\n",
       "      <td>DOO</td>\n",
       "      <td>40-49</td>\n",
       "      <td>Female</td>\n",
       "      <td>Noord-Holland</td>\n",
       "      <td>No</td>\n",
       "      <td>No</td>\n",
       "      <td>NaN</td>\n",
       "      <td>GGD Amsterdam</td>\n",
       "    </tr>\n",
       "    <tr>\n",
       "      <th>1</th>\n",
       "      <td>2021-07-24 10:00:00</td>\n",
       "      <td>2020-01-01</td>\n",
       "      <td>DOO</td>\n",
       "      <td>50-59</td>\n",
       "      <td>Male</td>\n",
       "      <td>Gelderland</td>\n",
       "      <td>No</td>\n",
       "      <td>No</td>\n",
       "      <td>NaN</td>\n",
       "      <td>Veiligheids- en Gezondheidsregio Gelderland-Mi...</td>\n",
       "    </tr>\n",
       "    <tr>\n",
       "      <th>2</th>\n",
       "      <td>2021-07-24 10:00:00</td>\n",
       "      <td>2020-01-01</td>\n",
       "      <td>DOO</td>\n",
       "      <td>20-29</td>\n",
       "      <td>Female</td>\n",
       "      <td>Zuid-Holland</td>\n",
       "      <td>No</td>\n",
       "      <td>No</td>\n",
       "      <td>NaN</td>\n",
       "      <td>GGD Hollands-Midden</td>\n",
       "    </tr>\n",
       "    <tr>\n",
       "      <th>3</th>\n",
       "      <td>2021-07-24 10:00:00</td>\n",
       "      <td>2020-01-01</td>\n",
       "      <td>DOO</td>\n",
       "      <td>60-69</td>\n",
       "      <td>Female</td>\n",
       "      <td>Noord-Holland</td>\n",
       "      <td>No</td>\n",
       "      <td>No</td>\n",
       "      <td>NaN</td>\n",
       "      <td>GGD Hollands-Noorden</td>\n",
       "    </tr>\n",
       "    <tr>\n",
       "      <th>4</th>\n",
       "      <td>2021-07-24 10:00:00</td>\n",
       "      <td>2020-01-04</td>\n",
       "      <td>DOO</td>\n",
       "      <td>10-19</td>\n",
       "      <td>Female</td>\n",
       "      <td>Gelderland</td>\n",
       "      <td>Unknown</td>\n",
       "      <td>No</td>\n",
       "      <td>NaN</td>\n",
       "      <td>GGD Gelderland-Zuid</td>\n",
       "    </tr>\n",
       "  </tbody>\n",
       "</table>\n",
       "</div>"
      ],
      "text/plain": [
       "             Date_file Date_statistics Date_statistics_type Agegroup     Sex  \\\n",
       "0  2021-07-24 10:00:00      2020-01-01                  DOO    40-49  Female   \n",
       "1  2021-07-24 10:00:00      2020-01-01                  DOO    50-59    Male   \n",
       "2  2021-07-24 10:00:00      2020-01-01                  DOO    20-29  Female   \n",
       "3  2021-07-24 10:00:00      2020-01-01                  DOO    60-69  Female   \n",
       "4  2021-07-24 10:00:00      2020-01-04                  DOO    10-19  Female   \n",
       "\n",
       "        Province Hospital_admission Deceased  Week_of_death  \\\n",
       "0  Noord-Holland                 No       No            NaN   \n",
       "1     Gelderland                 No       No            NaN   \n",
       "2   Zuid-Holland                 No       No            NaN   \n",
       "3  Noord-Holland                 No       No            NaN   \n",
       "4     Gelderland            Unknown       No            NaN   \n",
       "\n",
       "                            Municipal_health_service  \n",
       "0                                      GGD Amsterdam  \n",
       "1  Veiligheids- en Gezondheidsregio Gelderland-Mi...  \n",
       "2                                GGD Hollands-Midden  \n",
       "3                               GGD Hollands-Noorden  \n",
       "4                                GGD Gelderland-Zuid  "
      ]
     },
     "metadata": {},
     "output_type": "display_data"
    }
   ],
   "source": [
    "#leeftijdsgroepen = SimpleNamespace()\n",
    "@run\n",
    "def cell():\n",
    "  global rivm\n",
    "  rivm = RIVM.csv('COVID-19_casus_landelijk')\n",
    "  display(rivm.head())"
   ]
  },
  {
   "cell_type": "code",
   "execution_count": 3,
   "id": "5e076077",
   "metadata": {
    "execution": {
     "iopub.execute_input": "2021-07-25T11:12:11.417736Z",
     "iopub.status.busy": "2021-07-25T11:12:11.416542Z",
     "iopub.status.idle": "2021-07-25T11:12:16.181824Z",
     "shell.execute_reply": "2021-07-25T11:12:16.181271Z"
    },
    "lines_to_next_cell": 1,
    "papermill": {
     "duration": 4.776016,
     "end_time": "2021-07-25T11:12:16.181965",
     "exception": false,
     "start_time": "2021-07-25T11:12:11.405949",
     "status": "completed"
    },
    "tags": [],
    "title": "Download de bevolkings cijfers van CBS, uitgesplitst op de leeftijds categorien in de dataset van het RIVM"
   },
   "outputs": [],
   "source": [
    "@run\n",
    "def cell():\n",
    "  global bevolking\n",
    "  bevolking = CBS.bevolking(leeftijdsgroepen=True)"
   ]
  },
  {
   "cell_type": "code",
   "execution_count": 4,
   "id": "323067ac",
   "metadata": {
    "execution": {
     "iopub.execute_input": "2021-07-25T11:12:16.196635Z",
     "iopub.status.busy": "2021-07-25T11:12:16.195963Z",
     "iopub.status.idle": "2021-07-25T11:12:24.286975Z",
     "shell.execute_reply": "2021-07-25T11:12:24.286146Z"
    },
    "lines_to_next_cell": 1,
    "papermill": {
     "duration": 8.099256,
     "end_time": "2021-07-25T11:12:24.287114",
     "exception": false,
     "start_time": "2021-07-25T11:12:16.187858",
     "status": "completed"
    },
    "tags": [],
    "title": "leeftijdsgroepen: prepareer tabel"
   },
   "outputs": [
    {
     "data": {
      "text/html": [
       "<style type=\"text/css\">\n",
       "#T_d99ea_row0_col7 {\n",
       "  background-color: #95d840;\n",
       "  color: #000000;\n",
       "}\n",
       "#T_d99ea_row0_col8 {\n",
       "  background-color: #482878;\n",
       "  color: #f1f1f1;\n",
       "}\n",
       "#T_d99ea_row0_col9, #T_d99ea_row1_col9, #T_d99ea_row2_col9, #T_d99ea_row3_col9, #T_d99ea_row4_col8 {\n",
       "  background-color: #440154;\n",
       "  color: #f1f1f1;\n",
       "}\n",
       "#T_d99ea_row0_col10 {\n",
       "  background-color: #1f958b;\n",
       "  color: #f1f1f1;\n",
       "}\n",
       "#T_d99ea_row0_col11 {\n",
       "  background-color: #2fb47c;\n",
       "  color: #f1f1f1;\n",
       "}\n",
       "#T_d99ea_row0_col12 {\n",
       "  background-color: #42be71;\n",
       "  color: #f1f1f1;\n",
       "}\n",
       "#T_d99ea_row0_col13 {\n",
       "  background-color: #aadc32;\n",
       "  color: #000000;\n",
       "}\n",
       "#T_d99ea_row0_col14 {\n",
       "  background-color: #e2e418;\n",
       "  color: #000000;\n",
       "}\n",
       "#T_d99ea_row0_col15 {\n",
       "  background-color: #ece51b;\n",
       "  color: #000000;\n",
       "}\n",
       "#T_d99ea_row0_col16, #T_d99ea_row1_col15, #T_d99ea_row3_col15 {\n",
       "  background-color: #f8e621;\n",
       "  color: #000000;\n",
       "}\n",
       "#T_d99ea_row0_col17, #T_d99ea_row1_col16, #T_d99ea_row1_col17, #T_d99ea_row2_col15, #T_d99ea_row2_col16, #T_d99ea_row2_col17, #T_d99ea_row3_col16, #T_d99ea_row3_col17, #T_d99ea_row4_col16, #T_d99ea_row4_col17 {\n",
       "  background-color: #fde725;\n",
       "  color: #000000;\n",
       "}\n",
       "#T_d99ea_row1_col7, #T_d99ea_row1_col13 {\n",
       "  background-color: #d5e21a;\n",
       "  color: #000000;\n",
       "}\n",
       "#T_d99ea_row1_col8 {\n",
       "  background-color: #2b748e;\n",
       "  color: #f1f1f1;\n",
       "}\n",
       "#T_d99ea_row1_col10 {\n",
       "  background-color: #48c16e;\n",
       "  color: #f1f1f1;\n",
       "}\n",
       "#T_d99ea_row1_col11 {\n",
       "  background-color: #7fd34e;\n",
       "  color: #000000;\n",
       "}\n",
       "#T_d99ea_row1_col12 {\n",
       "  background-color: #84d44b;\n",
       "  color: #000000;\n",
       "}\n",
       "#T_d99ea_row1_col14, #T_d99ea_row3_col14 {\n",
       "  background-color: #f4e61e;\n",
       "  color: #000000;\n",
       "}\n",
       "#T_d99ea_row2_col7, #T_d99ea_row2_col13, #T_d99ea_row4_col15 {\n",
       "  background-color: #efe51c;\n",
       "  color: #000000;\n",
       "}\n",
       "#T_d99ea_row2_col8 {\n",
       "  background-color: #1f948c;\n",
       "  color: #f1f1f1;\n",
       "}\n",
       "#T_d99ea_row2_col10 {\n",
       "  background-color: #90d743;\n",
       "  color: #000000;\n",
       "}\n",
       "#T_d99ea_row2_col11 {\n",
       "  background-color: #c5e021;\n",
       "  color: #000000;\n",
       "}\n",
       "#T_d99ea_row2_col12 {\n",
       "  background-color: #c2df23;\n",
       "  color: #000000;\n",
       "}\n",
       "#T_d99ea_row2_col14 {\n",
       "  background-color: #fbe723;\n",
       "  color: #000000;\n",
       "}\n",
       "#T_d99ea_row3_col7 {\n",
       "  background-color: #cde11d;\n",
       "  color: #000000;\n",
       "}\n",
       "#T_d99ea_row3_col8 {\n",
       "  background-color: #375b8d;\n",
       "  color: #f1f1f1;\n",
       "}\n",
       "#T_d99ea_row3_col10 {\n",
       "  background-color: #54c568;\n",
       "  color: #000000;\n",
       "}\n",
       "#T_d99ea_row3_col11 {\n",
       "  background-color: #8ed645;\n",
       "  color: #000000;\n",
       "}\n",
       "#T_d99ea_row3_col12 {\n",
       "  background-color: #a0da39;\n",
       "  color: #000000;\n",
       "}\n",
       "#T_d99ea_row3_col13 {\n",
       "  background-color: #dde318;\n",
       "  color: #000000;\n",
       "}\n",
       "#T_d99ea_row4_col7 {\n",
       "  background-color: #69cd5b;\n",
       "  color: #000000;\n",
       "}\n",
       "#T_d99ea_row4_col9 {\n",
       "  background-color: #482677;\n",
       "  color: #f1f1f1;\n",
       "}\n",
       "#T_d99ea_row4_col10 {\n",
       "  background-color: #287c8e;\n",
       "  color: #f1f1f1;\n",
       "}\n",
       "#T_d99ea_row4_col11 {\n",
       "  background-color: #20938c;\n",
       "  color: #f1f1f1;\n",
       "}\n",
       "#T_d99ea_row4_col12 {\n",
       "  background-color: #22a785;\n",
       "  color: #f1f1f1;\n",
       "}\n",
       "#T_d99ea_row4_col13 {\n",
       "  background-color: #93d741;\n",
       "  color: #000000;\n",
       "}\n",
       "#T_d99ea_row4_col14 {\n",
       "  background-color: #e7e419;\n",
       "  color: #000000;\n",
       "}\n",
       "</style>\n",
       "<table id=\"T_d99ea_\">\n",
       "  <thead>\n",
       "    <tr>\n",
       "      <th class=\"blank level0\" >&nbsp;</th>\n",
       "      <th class=\"col_heading level0 col0\" >Key</th>\n",
       "      <th class=\"col_heading level0 col1\" >Weken terug</th>\n",
       "      <th class=\"col_heading level0 col2\" >Datum</th>\n",
       "      <th class=\"col_heading level0 col3\" >Periode</th>\n",
       "      <th class=\"col_heading level0 col4\" >Gemiddelde leeftijd</th>\n",
       "      <th class=\"col_heading level0 col5\" >Totaal</th>\n",
       "      <th class=\"col_heading level0 col6\" >Type</th>\n",
       "      <th class=\"col_heading level0 col7\" >0-9</th>\n",
       "      <th class=\"col_heading level0 col8\" >10-19</th>\n",
       "      <th class=\"col_heading level0 col9\" >20-29</th>\n",
       "      <th class=\"col_heading level0 col10\" >30-39</th>\n",
       "      <th class=\"col_heading level0 col11\" >40-49</th>\n",
       "      <th class=\"col_heading level0 col12\" >50-59</th>\n",
       "      <th class=\"col_heading level0 col13\" >60-69</th>\n",
       "      <th class=\"col_heading level0 col14\" >70-79</th>\n",
       "      <th class=\"col_heading level0 col15\" >80-89</th>\n",
       "      <th class=\"col_heading level0 col16\" >90+</th>\n",
       "      <th class=\"col_heading level0 col17\" >Onbekend</th>\n",
       "      <th class=\"col_heading level0 col18\" >c0-9</th>\n",
       "      <th class=\"col_heading level0 col19\" >c10-19</th>\n",
       "      <th class=\"col_heading level0 col20\" >c20-29</th>\n",
       "      <th class=\"col_heading level0 col21\" >c30-39</th>\n",
       "      <th class=\"col_heading level0 col22\" >c40-49</th>\n",
       "      <th class=\"col_heading level0 col23\" >c50-59</th>\n",
       "      <th class=\"col_heading level0 col24\" >c60-69</th>\n",
       "      <th class=\"col_heading level0 col25\" >c70-79</th>\n",
       "      <th class=\"col_heading level0 col26\" >c80-89</th>\n",
       "      <th class=\"col_heading level0 col27\" >c90+</th>\n",
       "      <th class=\"col_heading level0 col28\" >cOnbekend</th>\n",
       "    </tr>\n",
       "  </thead>\n",
       "  <tbody>\n",
       "    <tr>\n",
       "      <th id=\"T_d99ea_level0_row0\" class=\"row_heading level0 row0\" >0</th>\n",
       "      <td id=\"T_d99ea_row0_col0\" class=\"data row0 col0\" >p000</td>\n",
       "      <td id=\"T_d99ea_row0_col1\" class=\"data row0 col1\" >0</td>\n",
       "      <td id=\"T_d99ea_row0_col2\" class=\"data row0 col2\" >2021-07-24 00:00:00</td>\n",
       "      <td id=\"T_d99ea_row0_col3\" class=\"data row0 col3\" >18/07-24/07</td>\n",
       "      <td id=\"T_d99ea_row0_col4\" class=\"data row0 col4\" >30.500000</td>\n",
       "      <td id=\"T_d99ea_row0_col5\" class=\"data row0 col5\" >23840.000000</td>\n",
       "      <td id=\"T_d99ea_row0_col6\" class=\"data row0 col6\" >Positief getest</td>\n",
       "      <td id=\"T_d99ea_row0_col7\" class=\"data row0 col7\" >1110.000000</td>\n",
       "      <td id=\"T_d99ea_row0_col8\" class=\"data row0 col8\" >6259.000000</td>\n",
       "      <td id=\"T_d99ea_row0_col9\" class=\"data row0 col9\" >7037.000000</td>\n",
       "      <td id=\"T_d99ea_row0_col10\" class=\"data row0 col10\" >3371.000000</td>\n",
       "      <td id=\"T_d99ea_row0_col11\" class=\"data row0 col11\" >2448.000000</td>\n",
       "      <td id=\"T_d99ea_row0_col12\" class=\"data row0 col12\" >2130.000000</td>\n",
       "      <td id=\"T_d99ea_row0_col13\" class=\"data row0 col13\" >883.000000</td>\n",
       "      <td id=\"T_d99ea_row0_col14\" class=\"data row0 col14\" >320.000000</td>\n",
       "      <td id=\"T_d99ea_row0_col15\" class=\"data row0 col15\" >205.000000</td>\n",
       "      <td id=\"T_d99ea_row0_col16\" class=\"data row0 col16\" >77.000000</td>\n",
       "      <td id=\"T_d99ea_row0_col17\" class=\"data row0 col17\" >0.000000</td>\n",
       "      <td id=\"T_d99ea_row0_col18\" class=\"data row0 col18\" >157</td>\n",
       "      <td id=\"T_d99ea_row0_col19\" class=\"data row0 col19\" >889</td>\n",
       "      <td id=\"T_d99ea_row0_col20\" class=\"data row0 col20\" >1000</td>\n",
       "      <td id=\"T_d99ea_row0_col21\" class=\"data row0 col21\" >479</td>\n",
       "      <td id=\"T_d99ea_row0_col22\" class=\"data row0 col22\" >347</td>\n",
       "      <td id=\"T_d99ea_row0_col23\" class=\"data row0 col23\" >302</td>\n",
       "      <td id=\"T_d99ea_row0_col24\" class=\"data row0 col24\" >125</td>\n",
       "      <td id=\"T_d99ea_row0_col25\" class=\"data row0 col25\" >45</td>\n",
       "      <td id=\"T_d99ea_row0_col26\" class=\"data row0 col26\" >29</td>\n",
       "      <td id=\"T_d99ea_row0_col27\" class=\"data row0 col27\" >10</td>\n",
       "      <td id=\"T_d99ea_row0_col28\" class=\"data row0 col28\" >0</td>\n",
       "    </tr>\n",
       "    <tr>\n",
       "      <th id=\"T_d99ea_level0_row1\" class=\"row_heading level0 row1\" >1</th>\n",
       "      <td id=\"T_d99ea_row1_col0\" class=\"data row1 col0\" >p001</td>\n",
       "      <td id=\"T_d99ea_row1_col1\" class=\"data row1 col1\" >1</td>\n",
       "      <td id=\"T_d99ea_row1_col2\" class=\"data row1 col2\" >2021-07-24 00:00:00</td>\n",
       "      <td id=\"T_d99ea_row1_col3\" class=\"data row1 col3\" >11/07-17/07</td>\n",
       "      <td id=\"T_d99ea_row1_col4\" class=\"data row1 col4\" >28.700000</td>\n",
       "      <td id=\"T_d99ea_row1_col5\" class=\"data row1 col5\" >64763.000000</td>\n",
       "      <td id=\"T_d99ea_row1_col6\" class=\"data row1 col6\" >Positief getest</td>\n",
       "      <td id=\"T_d99ea_row1_col7\" class=\"data row1 col7\" >1688.000000</td>\n",
       "      <td id=\"T_d99ea_row1_col8\" class=\"data row1 col8\" >16343.000000</td>\n",
       "      <td id=\"T_d99ea_row1_col9\" class=\"data row1 col9\" >26523.000000</td>\n",
       "      <td id=\"T_d99ea_row1_col10\" class=\"data row1 col10\" >7712.000000</td>\n",
       "      <td id=\"T_d99ea_row1_col11\" class=\"data row1 col11\" >5077.000000</td>\n",
       "      <td id=\"T_d99ea_row1_col12\" class=\"data row1 col12\" >4931.000000</td>\n",
       "      <td id=\"T_d99ea_row1_col13\" class=\"data row1 col13\" >1693.000000</td>\n",
       "      <td id=\"T_d99ea_row1_col14\" class=\"data row1 col14\" >508.000000</td>\n",
       "      <td id=\"T_d99ea_row1_col15\" class=\"data row1 col15\" >229.000000</td>\n",
       "      <td id=\"T_d99ea_row1_col16\" class=\"data row1 col16\" >59.000000</td>\n",
       "      <td id=\"T_d99ea_row1_col17\" class=\"data row1 col17\" >0.000000</td>\n",
       "      <td id=\"T_d99ea_row1_col18\" class=\"data row1 col18\" >63</td>\n",
       "      <td id=\"T_d99ea_row1_col19\" class=\"data row1 col19\" >616</td>\n",
       "      <td id=\"T_d99ea_row1_col20\" class=\"data row1 col20\" >1000</td>\n",
       "      <td id=\"T_d99ea_row1_col21\" class=\"data row1 col21\" >290</td>\n",
       "      <td id=\"T_d99ea_row1_col22\" class=\"data row1 col22\" >191</td>\n",
       "      <td id=\"T_d99ea_row1_col23\" class=\"data row1 col23\" >185</td>\n",
       "      <td id=\"T_d99ea_row1_col24\" class=\"data row1 col24\" >63</td>\n",
       "      <td id=\"T_d99ea_row1_col25\" class=\"data row1 col25\" >19</td>\n",
       "      <td id=\"T_d99ea_row1_col26\" class=\"data row1 col26\" >8</td>\n",
       "      <td id=\"T_d99ea_row1_col27\" class=\"data row1 col27\" >2</td>\n",
       "      <td id=\"T_d99ea_row1_col28\" class=\"data row1 col28\" >0</td>\n",
       "    </tr>\n",
       "    <tr>\n",
       "      <th id=\"T_d99ea_level0_row2\" class=\"row_heading level0 row2\" >2</th>\n",
       "      <td id=\"T_d99ea_row2_col0\" class=\"data row2 col0\" >p002</td>\n",
       "      <td id=\"T_d99ea_row2_col1\" class=\"data row2 col1\" >2</td>\n",
       "      <td id=\"T_d99ea_row2_col2\" class=\"data row2 col2\" >2021-07-24 00:00:00</td>\n",
       "      <td id=\"T_d99ea_row2_col3\" class=\"data row2 col3\" >04/07-10/07</td>\n",
       "      <td id=\"T_d99ea_row2_col4\" class=\"data row2 col4\" >26.300000</td>\n",
       "      <td id=\"T_d99ea_row2_col5\" class=\"data row2 col5\" >56878.000000</td>\n",
       "      <td id=\"T_d99ea_row2_col6\" class=\"data row2 col6\" >Positief getest</td>\n",
       "      <td id=\"T_d99ea_row2_col7\" class=\"data row2 col7\" >777.000000</td>\n",
       "      <td id=\"T_d99ea_row2_col8\" class=\"data row2 col8\" >14531.000000</td>\n",
       "      <td id=\"T_d99ea_row2_col9\" class=\"data row2 col9\" >30073.000000</td>\n",
       "      <td id=\"T_d99ea_row2_col10\" class=\"data row2 col10\" >5046.000000</td>\n",
       "      <td id=\"T_d99ea_row2_col11\" class=\"data row2 col11\" >2632.000000</td>\n",
       "      <td id=\"T_d99ea_row2_col12\" class=\"data row2 col12\" >2721.000000</td>\n",
       "      <td id=\"T_d99ea_row2_col13\" class=\"data row2 col13\" >788.000000</td>\n",
       "      <td id=\"T_d99ea_row2_col14\" class=\"data row2 col14\" >194.000000</td>\n",
       "      <td id=\"T_d99ea_row2_col15\" class=\"data row2 col15\" >98.000000</td>\n",
       "      <td id=\"T_d99ea_row2_col16\" class=\"data row2 col16\" >17.000000</td>\n",
       "      <td id=\"T_d99ea_row2_col17\" class=\"data row2 col17\" >1.000000</td>\n",
       "      <td id=\"T_d99ea_row2_col18\" class=\"data row2 col18\" >25</td>\n",
       "      <td id=\"T_d99ea_row2_col19\" class=\"data row2 col19\" >483</td>\n",
       "      <td id=\"T_d99ea_row2_col20\" class=\"data row2 col20\" >1000</td>\n",
       "      <td id=\"T_d99ea_row2_col21\" class=\"data row2 col21\" >167</td>\n",
       "      <td id=\"T_d99ea_row2_col22\" class=\"data row2 col22\" >87</td>\n",
       "      <td id=\"T_d99ea_row2_col23\" class=\"data row2 col23\" >90</td>\n",
       "      <td id=\"T_d99ea_row2_col24\" class=\"data row2 col24\" >26</td>\n",
       "      <td id=\"T_d99ea_row2_col25\" class=\"data row2 col25\" >6</td>\n",
       "      <td id=\"T_d99ea_row2_col26\" class=\"data row2 col26\" >3</td>\n",
       "      <td id=\"T_d99ea_row2_col27\" class=\"data row2 col27\" >0</td>\n",
       "      <td id=\"T_d99ea_row2_col28\" class=\"data row2 col28\" >0</td>\n",
       "    </tr>\n",
       "    <tr>\n",
       "      <th id=\"T_d99ea_level0_row3\" class=\"row_heading level0 row3\" >3</th>\n",
       "      <td id=\"T_d99ea_row3_col0\" class=\"data row3 col0\" >p003</td>\n",
       "      <td id=\"T_d99ea_row3_col1\" class=\"data row3 col1\" >3</td>\n",
       "      <td id=\"T_d99ea_row3_col2\" class=\"data row3 col2\" >2021-07-24 00:00:00</td>\n",
       "      <td id=\"T_d99ea_row3_col3\" class=\"data row3 col3\" >27/06-03/07</td>\n",
       "      <td id=\"T_d99ea_row3_col4\" class=\"data row3 col4\" >27.300000</td>\n",
       "      <td id=\"T_d99ea_row3_col5\" class=\"data row3 col5\" >8880.000000</td>\n",
       "      <td id=\"T_d99ea_row3_col6\" class=\"data row3 col6\" >Positief getest</td>\n",
       "      <td id=\"T_d99ea_row3_col7\" class=\"data row3 col7\" >270.000000</td>\n",
       "      <td id=\"T_d99ea_row3_col8\" class=\"data row3 col8\" >2588.000000</td>\n",
       "      <td id=\"T_d99ea_row3_col9\" class=\"data row3 col9\" >3617.000000</td>\n",
       "      <td id=\"T_d99ea_row3_col10\" class=\"data row3 col10\" >969.000000</td>\n",
       "      <td id=\"T_d99ea_row3_col11\" class=\"data row3 col11\" >611.000000</td>\n",
       "      <td id=\"T_d99ea_row3_col12\" class=\"data row3 col12\" >518.000000</td>\n",
       "      <td id=\"T_d99ea_row3_col13\" class=\"data row3 col13\" >192.000000</td>\n",
       "      <td id=\"T_d99ea_row3_col14\" class=\"data row3 col14\" >69.000000</td>\n",
       "      <td id=\"T_d99ea_row3_col15\" class=\"data row3 col15\" >34.000000</td>\n",
       "      <td id=\"T_d99ea_row3_col16\" class=\"data row3 col16\" >12.000000</td>\n",
       "      <td id=\"T_d99ea_row3_col17\" class=\"data row3 col17\" >0.000000</td>\n",
       "      <td id=\"T_d99ea_row3_col18\" class=\"data row3 col18\" >74</td>\n",
       "      <td id=\"T_d99ea_row3_col19\" class=\"data row3 col19\" >715</td>\n",
       "      <td id=\"T_d99ea_row3_col20\" class=\"data row3 col20\" >1000</td>\n",
       "      <td id=\"T_d99ea_row3_col21\" class=\"data row3 col21\" >267</td>\n",
       "      <td id=\"T_d99ea_row3_col22\" class=\"data row3 col22\" >168</td>\n",
       "      <td id=\"T_d99ea_row3_col23\" class=\"data row3 col23\" >143</td>\n",
       "      <td id=\"T_d99ea_row3_col24\" class=\"data row3 col24\" >53</td>\n",
       "      <td id=\"T_d99ea_row3_col25\" class=\"data row3 col25\" >19</td>\n",
       "      <td id=\"T_d99ea_row3_col26\" class=\"data row3 col26\" >9</td>\n",
       "      <td id=\"T_d99ea_row3_col27\" class=\"data row3 col27\" >3</td>\n",
       "      <td id=\"T_d99ea_row3_col28\" class=\"data row3 col28\" >0</td>\n",
       "    </tr>\n",
       "    <tr>\n",
       "      <th id=\"T_d99ea_level0_row4\" class=\"row_heading level0 row4\" >4</th>\n",
       "      <td id=\"T_d99ea_row4_col0\" class=\"data row4 col0\" >p004</td>\n",
       "      <td id=\"T_d99ea_row4_col1\" class=\"data row4 col1\" >4</td>\n",
       "      <td id=\"T_d99ea_row4_col2\" class=\"data row4 col2\" >2021-07-24 00:00:00</td>\n",
       "      <td id=\"T_d99ea_row4_col3\" class=\"data row4 col3\" >20/06-26/06</td>\n",
       "      <td id=\"T_d99ea_row4_col4\" class=\"data row4 col4\" >31.100000</td>\n",
       "      <td id=\"T_d99ea_row4_col5\" class=\"data row4 col5\" >4206.000000</td>\n",
       "      <td id=\"T_d99ea_row4_col6\" class=\"data row4 col6\" >Positief getest</td>\n",
       "      <td id=\"T_d99ea_row4_col7\" class=\"data row4 col7\" >250.000000</td>\n",
       "      <td id=\"T_d99ea_row4_col8\" class=\"data row4 col8\" >1101.000000</td>\n",
       "      <td id=\"T_d99ea_row4_col9\" class=\"data row4 col9\" >983.000000</td>\n",
       "      <td id=\"T_d99ea_row4_col10\" class=\"data row4 col10\" >642.000000</td>\n",
       "      <td id=\"T_d99ea_row4_col11\" class=\"data row4 col11\" >536.000000</td>\n",
       "      <td id=\"T_d99ea_row4_col12\" class=\"data row4 col12\" >445.000000</td>\n",
       "      <td id=\"T_d99ea_row4_col13\" class=\"data row4 col13\" >179.000000</td>\n",
       "      <td id=\"T_d99ea_row4_col14\" class=\"data row4 col14\" >41.000000</td>\n",
       "      <td id=\"T_d99ea_row4_col15\" class=\"data row4 col15\" >27.000000</td>\n",
       "      <td id=\"T_d99ea_row4_col16\" class=\"data row4 col16\" >2.000000</td>\n",
       "      <td id=\"T_d99ea_row4_col17\" class=\"data row4 col17\" >0.000000</td>\n",
       "      <td id=\"T_d99ea_row4_col18\" class=\"data row4 col18\" >227</td>\n",
       "      <td id=\"T_d99ea_row4_col19\" class=\"data row4 col19\" >1000</td>\n",
       "      <td id=\"T_d99ea_row4_col20\" class=\"data row4 col20\" >892</td>\n",
       "      <td id=\"T_d99ea_row4_col21\" class=\"data row4 col21\" >583</td>\n",
       "      <td id=\"T_d99ea_row4_col22\" class=\"data row4 col22\" >486</td>\n",
       "      <td id=\"T_d99ea_row4_col23\" class=\"data row4 col23\" >404</td>\n",
       "      <td id=\"T_d99ea_row4_col24\" class=\"data row4 col24\" >162</td>\n",
       "      <td id=\"T_d99ea_row4_col25\" class=\"data row4 col25\" >37</td>\n",
       "      <td id=\"T_d99ea_row4_col26\" class=\"data row4 col26\" >24</td>\n",
       "      <td id=\"T_d99ea_row4_col27\" class=\"data row4 col27\" >1</td>\n",
       "      <td id=\"T_d99ea_row4_col28\" class=\"data row4 col28\" >0</td>\n",
       "    </tr>\n",
       "  </tbody>\n",
       "</table>\n"
      ],
      "text/plain": [
       "<pandas.io.formats.style.Styler at 0x7fdc3cc629d0>"
      ]
     },
     "metadata": {},
     "output_type": "display_data"
    }
   ],
   "source": [
    "# Bereken de stand van zaken van besmettingen / hospitalisaties / overlijden, per cohort in absolute aantallen en aantallen per 100k, met een kleur indicator voor de aantallen.\n",
    "# vervang <50 en Unknown door Onbekend\n",
    "@run\n",
    "def cell():\n",
    "  rivm['Cohort'] = rivm['Agegroup'].replace({'<50': 'Onbekend', 'Unknown': 'Onbekend'})\n",
    "  # aangenomen 'gemiddelde' leeftijd van een cohort: minimum waarde + 5\n",
    "  assumed_cohort_age = [(cohort, [int(n) for n in cohort.replace('+', '').split('-')]) for cohort in rivm['Cohort'].unique() if cohort[0].isdigit()]\n",
    "  assumed_cohort_age = { cohort: min(rng) + 5 for cohort, rng in assumed_cohort_age }\n",
    "  rivm['Gemiddelde leeftijd'] = rivm['Cohort'].apply(lambda x: assumed_cohort_age.get(x, np.nan))\n",
    "\n",
    "  # verwijder tijd\n",
    "  rivm['Date_file_date'] = pd.to_datetime(rivm['Date_file'].replace(r' .*', '', regex=True))\n",
    "\n",
    "  rivm['Date_statistics_date'] = pd.to_datetime(rivm['Date_statistics'])\n",
    "\n",
    "  # weken terug = verschil tussen Date_file en Date_statistcs, gedeeld door 7 dagen\n",
    "  rivm['Weken terug'] = np.floor((rivm['Date_file_date'] - rivm['Date_statistics_date'])/np.timedelta64(7, 'D')).astype(int)\n",
    "\n",
    "  # voeg key, gem leeftijd, kleurnummer en totaal toe\n",
    "  Date_file = rivm['Date_file_date'].unique()[0].astype('M8[D]').astype('O')\n",
    "  cohorten = list(bevolking.index) + ['Onbekend']\n",
    "  def summarize(df, category, prefix):\n",
    "    # aangezien we hier de dataframe in-place wijzigen (bijv door toevoegen kolommen)\n",
    "    # en we het 'rivm' frame later nog clean nodig hebben\n",
    "    df = df.copy(deep=True)\n",
    "\n",
    "    df = (df\n",
    "          .groupby(['Weken terug', 'Cohort'])['count']\n",
    "          .sum()\n",
    "          .unstack(fill_value=np.nan)\n",
    "          .reset_index()\n",
    "          .rename_axis(None, axis=1)\n",
    "        ).merge(df\n",
    "          # we voegen hier gemiddelde leeftijd toe, want die willen we op een ander\n",
    "          # niveau aggregeren voor 'df' overschreven word\n",
    "          .groupby(['Weken terug'])['Gemiddelde leeftijd']\n",
    "          .mean()\n",
    "          .to_frame(), on='Weken terug'\n",
    "        )\n",
    "\n",
    "    # altijd 52 rijen\n",
    "    df = pd.Series(np.arange(52), name='Weken terug').to_frame().merge(df, how='left', on='Weken terug')\n",
    "\n",
    "    # toevoegen missende cohorten\n",
    "    for col in cohorten:\n",
    "      if not col in df:\n",
    "        df[col] = np.nan\n",
    "\n",
    "    # sommeer per rij (axis=1) over de cohorten om een totaal te krijgen\n",
    "    df['Totaal'] = df[cohorten].sum(axis=1)\n",
    "\n",
    "    # voeg periode en datum toe\n",
    "    # periode afgeleid van weken-terug (= de index voor deze dataframe)\n",
    "    df['Datum'] = pd.to_datetime(Date_file)\n",
    "    df['Periode'] = (df\n",
    "      .index.to_series()\n",
    "      .apply(\n",
    "        lambda x: (\n",
    "          (Date_file + datetime.timedelta(weeks=-(x+1), days=1)).strftime('%d/%m')\n",
    "          + '-'\n",
    "          + (Date_file + datetime.timedelta(weeks=-x)).strftime('%d/%m')\n",
    "        )\n",
    "      )\n",
    "    )\n",
    "\n",
    "    # voeg 'Key' en 'Type' kolom toe. Variabele 'type' kan niet, is een language primitive.\n",
    "    df['Key'] = prefix + df.index.astype(str).str.rjust(3, fillchar='0')\n",
    "    df['Type'] = category\n",
    "\n",
    "    # voeg de kleur kolommen toe\n",
    "    for col in cohorten:\n",
    "      df['c' + col] = ((df[col] / df[[col for col in cohorten]].max(axis=1)) * 1000).fillna(0).astype(int)\n",
    "\n",
    "    # herschikken van de kolommen\n",
    "    colorder = ['Key', 'Weken terug', 'Datum', 'Periode', 'Gemiddelde leeftijd', 'Totaal', 'Type']\n",
    "    return df[colorder + [col for col in df if col not in colorder]]\n",
    "\n",
    "  factor = bevolking.to_dict()['per 100k']\n",
    "  global tabel\n",
    "  tabel = pd.concat(\n",
    "    # flatten the result list zodat pd.concat ze onder elkaar kan plakken\n",
    "    functools.reduce(lambda a, b: a + b, [\n",
    "      [summarize(df.assign(count=1), label, prefix), summarize(df.assign(count=df['Cohort'].apply(lambda x: factor.get(x, np.nan))), label + ' per 100.000', prefix + '100k')]\n",
    "      for df, label, prefix in [\n",
    "        (rivm, 'Positief getest', 'p'), # volledige count per cohort\n",
    "        (rivm[rivm.Hospital_admission == 'Yes'], 'Ziekenhuisopname', 'h'), # count van cohort voor Hospital_admission == 'Yes'\n",
    "        (rivm[rivm.Deceased == 'Yes'], 'Overleden', 'd'), # count van cohort voor Deceased == 'Yes'\n",
    "      ]\n",
    "    ])\n",
    "  )\n",
    "\n",
    "  # rood -> groen\n",
    "  cdict = {\n",
    "    'red':   ((0.0, 0.0, 0.0),   # no red at 0\n",
    "              (0.5, 1.0, 1.0),   # all channels set to 1.0 at 0.5 to create white\n",
    "              (1.0, 0.8, 0.8)),  # set to 0.8 so its not too bright at 1\n",
    "    'green': ((0.0, 0.8, 0.8),   # set to 0.8 so its not too bright at 0\n",
    "              (0.5, 1.0, 1.0),   # all channels set to 1.0 at 0.5 to create white\n",
    "              (1.0, 0.0, 0.0)),  # no green at 1\n",
    "    'blue':  ((0.0, 0.0, 0.0),   # no blue at 0\n",
    "              (0.5, 1.0, 1.0),   # all channels set to 1.0 at 0.5 to create white\n",
    "              (1.0, 0.0, 0.0))   # no blue at 1\n",
    "  }\n",
    "  cm = colors.LinearSegmentedColormap('GnRd', cdict)\n",
    "  # geel -> paars\n",
    "  cm = sns.color_palette('viridis_r', as_cmap=True)\n",
    "  display(tabel\n",
    "    .fillna(0)\n",
    "    .head()\n",
    "    .round(1)\n",
    "    .reset_index(drop=True)\n",
    "    .style.background_gradient(cmap=cm, axis=1, subset=cohorten)\n",
    "  )"
   ]
  },
  {
   "cell_type": "code",
   "execution_count": 5,
   "id": "b25cb16c",
   "metadata": {
    "execution": {
     "iopub.execute_input": "2021-07-25T11:12:24.305903Z",
     "iopub.status.busy": "2021-07-25T11:12:24.305303Z",
     "iopub.status.idle": "2021-07-25T11:12:45.230153Z",
     "shell.execute_reply": "2021-07-25T11:12:45.230644Z"
    },
    "papermill": {
     "duration": 20.93687,
     "end_time": "2021-07-25T11:12:45.230810",
     "exception": false,
     "start_time": "2021-07-25T11:12:24.293940",
     "status": "completed"
    },
    "tags": [],
    "title": "publish"
   },
   "outputs": [
    {
     "name": "stdout",
     "output_type": "stream",
     "text": [
      "infinities:\n"
     ]
    },
    {
     "name": "stdout",
     "output_type": "stream",
     "text": [
      "Empty DataFrame\n",
      "Columns: []\n",
      "Index: []\n"
     ]
    },
    {
     "name": "stdout",
     "output_type": "stream",
     "text": [
      "nan:\n"
     ]
    },
    {
     "name": "stdout",
     "output_type": "stream",
     "text": [
      "Empty DataFrame\n",
      "Columns: []\n",
      "Index: []\n"
     ]
    },
    {
     "name": "stdout",
     "output_type": "stream",
     "text": [
      "Key                     object\n",
      "Weken terug              int64\n",
      "Datum                   object\n",
      "Periode                 object\n",
      "Gemiddelde leeftijd    float64\n",
      "Totaal                 float64\n",
      "Type                    object\n",
      "0-9                    float64\n",
      "10-19                  float64\n",
      "20-29                  float64\n",
      "30-39                  float64\n",
      "40-49                  float64\n",
      "50-59                  float64\n",
      "60-69                  float64\n",
      "70-79                  float64\n",
      "80-89                  float64\n",
      "90+                    float64\n",
      "Onbekend               float64\n",
      "c0-9                     int64\n",
      "c10-19                   int64\n",
      "c20-29                   int64\n",
      "c30-39                   int64\n",
      "c40-49                   int64\n",
      "c50-59                   int64\n",
      "c60-69                   int64\n",
      "c70-79                   int64\n",
      "c80-89                   int64\n",
      "c90+                     int64\n",
      "cOnbekend                int64\n",
      "dtype: object\n",
      "updating knack\n"
     ]
    },
    {
     "name": "stdout",
     "output_type": "stream",
     "text": [
      "updating: [{'Key': 1, 'Updating Leeftijdsgroep': 'true'}]\n"
     ]
    },
    {
     "name": "stdout",
     "output_type": "stream",
     "text": [
      "restored LaatsteUpdate from hash\n"
     ]
    },
    {
     "name": "stdout",
     "output_type": "stream",
     "text": [
      "Key                         int64\n",
      "Updating Leeftijdsgroep    object\n",
      "dtype: object\n"
     ]
    },
    {
     "name": "stderr",
     "output_type": "stream",
     "text": [
      "\r",
      "  0%|          | 0/1 [00:00<?, ?it/s]"
     ]
    },
    {
     "name": "stderr",
     "output_type": "stream",
     "text": [
      "\r",
      "100%|██████████| 1/1 [00:01<00:00,  1.18s/it]"
     ]
    },
    {
     "name": "stderr",
     "output_type": "stream",
     "text": [
      "\r",
      "100%|██████████| 1/1 [00:01<00:00,  1.18s/it]"
     ]
    },
    {
     "name": "stderr",
     "output_type": "stream",
     "text": [
      "\n"
     ]
    },
    {
     "name": "stdout",
     "output_type": "stream",
     "text": [
      "\n",
      "rate limit: 7 \n",
      "LaatsteUpdate API calls: create: 0, read: 1, update: 1, delete: 0, backoff: 0\n"
     ]
    },
    {
     "name": "stdout",
     "output_type": "stream",
     "text": [
      "restored Leeftijdsgroep from hash\n"
     ]
    },
    {
     "name": "stdout",
     "output_type": "stream",
     "text": [
      "0-9                    float64\n",
      "10-19                  float64\n",
      "20-29                  float64\n",
      "30-39                  float64\n",
      "40-49                  float64\n",
      "50-59                  float64\n",
      "60-69                  float64\n",
      "70-79                  float64\n",
      "80-89                  float64\n",
      "90+                    float64\n",
      "Datum                   object\n",
      "Gemiddelde leeftijd    float64\n",
      "Key                     object\n",
      "Onbekend               float64\n",
      "Periode                 object\n",
      "Totaal                 float64\n",
      "Type                    object\n",
      "Weken terug              int64\n",
      "c0-9                     int64\n",
      "c10-19                   int64\n",
      "c20-29                   int64\n",
      "c30-39                   int64\n",
      "c40-49                   int64\n",
      "c50-59                   int64\n",
      "c60-69                   int64\n",
      "c70-79                   int64\n",
      "c80-89                   int64\n",
      "c90+                     int64\n",
      "cOnbekend                int64\n",
      "dtype: object\n"
     ]
    },
    {
     "name": "stdout",
     "output_type": "stream",
     "text": [
      "nothing to do for Leeftijdsgroep\n"
     ]
    },
    {
     "name": "stdout",
     "output_type": "stream",
     "text": [
      "\n",
      "rate limit: 7 \n",
      "Leeftijdsgroep API calls: create: 0, read: 1, update: 0, delete: 0, backoff: 0\n"
     ]
    },
    {
     "name": "stdout",
     "output_type": "stream",
     "text": [
      "[{'Key': 1, 'Timestamp Leeftijdsgroep RIVM': '2021-07-24 14:15'}]\n"
     ]
    },
    {
     "name": "stdout",
     "output_type": "stream",
     "text": [
      "timestamps: [{'Key': 1, 'Timestamp Leeftijdsgroep RIVM': '2021-07-24 14:15'}]\n",
      "Key                               int64\n",
      "Timestamp Leeftijdsgroep RIVM    object\n",
      "dtype: object\n"
     ]
    },
    {
     "name": "stderr",
     "output_type": "stream",
     "text": [
      "\r",
      "  0%|          | 0/1 [00:00<?, ?it/s]"
     ]
    },
    {
     "name": "stderr",
     "output_type": "stream",
     "text": [
      "\r",
      "100%|██████████| 1/1 [00:01<00:00,  1.01s/it]"
     ]
    },
    {
     "name": "stderr",
     "output_type": "stream",
     "text": [
      "\r",
      "100%|██████████| 1/1 [00:01<00:00,  1.01s/it]"
     ]
    },
    {
     "name": "stderr",
     "output_type": "stream",
     "text": [
      "\n"
     ]
    },
    {
     "name": "stdout",
     "output_type": "stream",
     "text": [
      "\n",
      "rate limit: 7 \n",
      "LaatsteUpdate API calls: create: 0, read: 0, update: 1, delete: 0, backoff: 0\n"
     ]
    },
    {
     "name": "stdout",
     "output_type": "stream",
     "text": [
      "BatchName     object\n",
      "ObjectName    object\n",
      "Source        object\n",
      "Timestamp     object\n",
      "dtype: object\n"
     ]
    },
    {
     "name": "stderr",
     "output_type": "stream",
     "text": [
      "\r",
      "  0%|          | 0/1 [00:00<?, ?it/s]"
     ]
    },
    {
     "name": "stderr",
     "output_type": "stream",
     "text": [
      "\r",
      "100%|██████████| 1/1 [00:01<00:00,  1.85s/it]"
     ]
    },
    {
     "name": "stderr",
     "output_type": "stream",
     "text": [
      "\r",
      "100%|██████████| 1/1 [00:01<00:00,  1.86s/it]"
     ]
    },
    {
     "name": "stderr",
     "output_type": "stream",
     "text": [
      "\n"
     ]
    },
    {
     "name": "stdout",
     "output_type": "stream",
     "text": [
      "\n",
      "rate limit: 7 \n",
      "UpdateDetails API calls: create: 1, read: 0, update: 0, delete: 0, backoff: 0\n"
     ]
    },
    {
     "name": "stdout",
     "output_type": "stream",
     "text": [
      "updating: [{'Key': 1, 'Updating Leeftijdsgroep': 'false'}]\n",
      "Key                         int64\n",
      "Updating Leeftijdsgroep    object\n",
      "dtype: object\n"
     ]
    },
    {
     "name": "stderr",
     "output_type": "stream",
     "text": [
      "\r",
      "  0%|          | 0/1 [00:00<?, ?it/s]"
     ]
    },
    {
     "name": "stderr",
     "output_type": "stream",
     "text": [
      "\r",
      "100%|██████████| 1/1 [00:01<00:00,  1.19s/it]"
     ]
    },
    {
     "name": "stderr",
     "output_type": "stream",
     "text": [
      "\r",
      "100%|██████████| 1/1 [00:01<00:00,  1.19s/it]"
     ]
    },
    {
     "name": "stderr",
     "output_type": "stream",
     "text": [
      "\n"
     ]
    },
    {
     "name": "stdout",
     "output_type": "stream",
     "text": [
      "\n",
      "rate limit: 7 \n",
      "LaatsteUpdate API calls: create: 0, read: 0, update: 1, delete: 0, backoff: 0\n"
     ]
    }
   ],
   "source": [
    "if knack:\n",
    "  await knack.publish(tabel.fillna(0).assign(Datum=tabel.Datum.dt.strftime('%Y-%m-%d')), 'Leeftijdsgroep', Cache)"
   ]
  }
 ],
 "metadata": {
  "jupytext": {
   "cell_metadata_filter": "title,-all"
  },
  "kernelspec": {
   "display_name": "Python 3 (ipykernel)",
   "language": "python",
   "name": "python3"
  },
  "language_info": {
   "codemirror_mode": {
    "name": "ipython",
    "version": 3
   },
   "file_extension": ".py",
   "mimetype": "text/x-python",
   "name": "python",
   "nbconvert_exporter": "python",
   "pygments_lexer": "ipython3",
   "version": "3.9.6"
  },
  "papermill": {
   "default_parameters": {},
   "duration": 45.274694,
   "end_time": "2021-07-25T11:12:46.704486",
   "environment_variables": {},
   "exception": null,
   "input_path": "-",
   "output_path": "LeeftijdsgroepenLandelijk.ipynb",
   "parameters": {},
   "start_time": "2021-07-25T11:12:01.429792",
   "version": "2.3.3"
  }
 },
 "nbformat": 4,
 "nbformat_minor": 5
}