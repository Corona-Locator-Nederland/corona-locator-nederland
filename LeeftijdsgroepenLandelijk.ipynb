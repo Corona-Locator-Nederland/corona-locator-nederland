{
 "cells": [
  {
   "cell_type": "code",
   "execution_count": 1,
   "id": "f524e03e",
   "metadata": {
    "execution": {
     "iopub.execute_input": "2022-01-14T14:32:08.579838Z",
     "iopub.status.busy": "2022-01-14T14:32:08.579327Z",
     "iopub.status.idle": "2022-01-14T14:32:12.627723Z",
     "shell.execute_reply": "2022-01-14T14:32:12.628183Z"
    },
    "lines_to_next_cell": 1,
    "papermill": {
     "duration": 4.062777,
     "end_time": "2022-01-14T14:32:12.628435",
     "exception": false,
     "start_time": "2022-01-14T14:32:08.565658",
     "status": "completed"
    },
    "tags": []
   },
   "outputs": [
    {
     "name": "stderr",
     "output_type": "stream",
     "text": [
      "/tmp/ipykernel_1710/2820714271.py:2: DeprecationWarning: Importing display from IPython.core.display is deprecated since IPython 7.14, please import from IPython display\n",
      "  from IPython.core.display import display\n"
     ]
    }
   ],
   "source": [
    "from IPython import get_ipython\n",
    "from IPython.core.display import display\n",
    "get_ipython().run_line_magic('load_ext', 'autoreload')\n",
    "get_ipython().run_line_magic('autoreload', '2')\n",
    "get_ipython().run_line_magic('run', 'setup')"
   ]
  },
  {
   "cell_type": "code",
   "execution_count": 2,
   "id": "2d23d1cb",
   "metadata": {
    "execution": {
     "iopub.execute_input": "2022-01-14T14:32:12.644261Z",
     "iopub.status.busy": "2022-01-14T14:32:12.643777Z",
     "iopub.status.idle": "2022-01-14T14:41:33.944803Z",
     "shell.execute_reply": "2022-01-14T14:41:33.945581Z"
    },
    "lines_to_next_cell": 1,
    "papermill": {
     "duration": 561.311283,
     "end_time": "2022-01-14T14:41:33.945731",
     "exception": false,
     "start_time": "2022-01-14T14:32:12.634448",
     "status": "completed"
    },
    "tags": [],
    "title": "leeftijdsgroepen: download RIVM data"
   },
   "outputs": [
    {
     "name": "stdout",
     "output_type": "stream",
     "text": [
      "downloading rivm/COVID-19_casus_landelijk-2022-01-14@14-15.csv\n"
     ]
    },
    {
     "name": "stdout",
     "output_type": "stream",
     "text": [
      "rivm COVID-19_casus_landelijk zipping rivm/COVID-19_casus_landelijk-2022-01-14@14-15.csv\n"
     ]
    },
    {
     "name": "stdout",
     "output_type": "stream",
     "text": [
      "loading rivm/COVID-19_casus_landelijk-2022-01-14@14-15.csv.gz\n"
     ]
    },
    {
     "data": {
      "text/html": [
       "<div>\n",
       "<style scoped>\n",
       "    .dataframe tbody tr th:only-of-type {\n",
       "        vertical-align: middle;\n",
       "    }\n",
       "\n",
       "    .dataframe tbody tr th {\n",
       "        vertical-align: top;\n",
       "    }\n",
       "\n",
       "    .dataframe thead th {\n",
       "        text-align: right;\n",
       "    }\n",
       "</style>\n",
       "<table border=\"1\" class=\"dataframe\">\n",
       "  <thead>\n",
       "    <tr style=\"text-align: right;\">\n",
       "      <th></th>\n",
       "      <th>Date_file</th>\n",
       "      <th>Date_statistics</th>\n",
       "      <th>Date_statistics_type</th>\n",
       "      <th>Agegroup</th>\n",
       "      <th>Sex</th>\n",
       "      <th>Province</th>\n",
       "      <th>Hospital_admission</th>\n",
       "      <th>Deceased</th>\n",
       "      <th>Week_of_death</th>\n",
       "      <th>Municipal_health_service</th>\n",
       "    </tr>\n",
       "  </thead>\n",
       "  <tbody>\n",
       "    <tr>\n",
       "      <th>0</th>\n",
       "      <td>2022-01-14 10:00:00</td>\n",
       "      <td>2020-01-01</td>\n",
       "      <td>DOO</td>\n",
       "      <td>40-49</td>\n",
       "      <td>Female</td>\n",
       "      <td>Noord-Holland</td>\n",
       "      <td>No</td>\n",
       "      <td>No</td>\n",
       "      <td>NaN</td>\n",
       "      <td>GGD Amsterdam</td>\n",
       "    </tr>\n",
       "    <tr>\n",
       "      <th>1</th>\n",
       "      <td>2022-01-14 10:00:00</td>\n",
       "      <td>2020-01-01</td>\n",
       "      <td>DOO</td>\n",
       "      <td>50-59</td>\n",
       "      <td>Male</td>\n",
       "      <td>Gelderland</td>\n",
       "      <td>No</td>\n",
       "      <td>No</td>\n",
       "      <td>NaN</td>\n",
       "      <td>Veiligheids- en Gezondheidsregio Gelderland-Mi...</td>\n",
       "    </tr>\n",
       "    <tr>\n",
       "      <th>2</th>\n",
       "      <td>2022-01-14 10:00:00</td>\n",
       "      <td>2020-01-01</td>\n",
       "      <td>DOO</td>\n",
       "      <td>20-29</td>\n",
       "      <td>Female</td>\n",
       "      <td>Zuid-Holland</td>\n",
       "      <td>No</td>\n",
       "      <td>No</td>\n",
       "      <td>NaN</td>\n",
       "      <td>GGD Hollands-Midden</td>\n",
       "    </tr>\n",
       "    <tr>\n",
       "      <th>3</th>\n",
       "      <td>2022-01-14 10:00:00</td>\n",
       "      <td>2020-01-01</td>\n",
       "      <td>DOO</td>\n",
       "      <td>60-69</td>\n",
       "      <td>Female</td>\n",
       "      <td>Noord-Holland</td>\n",
       "      <td>No</td>\n",
       "      <td>No</td>\n",
       "      <td>NaN</td>\n",
       "      <td>GGD Hollands-Noorden</td>\n",
       "    </tr>\n",
       "    <tr>\n",
       "      <th>4</th>\n",
       "      <td>2022-01-14 10:00:00</td>\n",
       "      <td>2020-01-04</td>\n",
       "      <td>DOO</td>\n",
       "      <td>10-19</td>\n",
       "      <td>Female</td>\n",
       "      <td>Gelderland</td>\n",
       "      <td>Unknown</td>\n",
       "      <td>No</td>\n",
       "      <td>NaN</td>\n",
       "      <td>GGD Gelderland-Zuid</td>\n",
       "    </tr>\n",
       "  </tbody>\n",
       "</table>\n",
       "</div>"
      ],
      "text/plain": [
       "             Date_file Date_statistics Date_statistics_type Agegroup     Sex  \\\n",
       "0  2022-01-14 10:00:00      2020-01-01                  DOO    40-49  Female   \n",
       "1  2022-01-14 10:00:00      2020-01-01                  DOO    50-59    Male   \n",
       "2  2022-01-14 10:00:00      2020-01-01                  DOO    20-29  Female   \n",
       "3  2022-01-14 10:00:00      2020-01-01                  DOO    60-69  Female   \n",
       "4  2022-01-14 10:00:00      2020-01-04                  DOO    10-19  Female   \n",
       "\n",
       "        Province Hospital_admission Deceased  Week_of_death  \\\n",
       "0  Noord-Holland                 No       No            NaN   \n",
       "1     Gelderland                 No       No            NaN   \n",
       "2   Zuid-Holland                 No       No            NaN   \n",
       "3  Noord-Holland                 No       No            NaN   \n",
       "4     Gelderland            Unknown       No            NaN   \n",
       "\n",
       "                            Municipal_health_service  \n",
       "0                                      GGD Amsterdam  \n",
       "1  Veiligheids- en Gezondheidsregio Gelderland-Mi...  \n",
       "2                                GGD Hollands-Midden  \n",
       "3                               GGD Hollands-Noorden  \n",
       "4                                GGD Gelderland-Zuid  "
      ]
     },
     "metadata": {},
     "output_type": "display_data"
    }
   ],
   "source": [
    "#leeftijdsgroepen = SimpleNamespace()\n",
    "@run\n",
    "def cell():\n",
    "  global rivm\n",
    "  rivm = RIVM.csv('COVID-19_casus_landelijk')\n",
    "  display(rivm.head())"
   ]
  },
  {
   "cell_type": "code",
   "execution_count": 3,
   "id": "ead265ff",
   "metadata": {
    "execution": {
     "iopub.execute_input": "2022-01-14T14:41:33.964173Z",
     "iopub.status.busy": "2022-01-14T14:41:33.962940Z",
     "iopub.status.idle": "2022-01-14T14:41:37.663872Z",
     "shell.execute_reply": "2022-01-14T14:41:37.662945Z"
    },
    "lines_to_next_cell": 1,
    "papermill": {
     "duration": 3.711804,
     "end_time": "2022-01-14T14:41:37.664014",
     "exception": false,
     "start_time": "2022-01-14T14:41:33.952210",
     "status": "completed"
    },
    "tags": [],
    "title": "Download de bevolkings cijfers van CBS, uitgesplitst op de leeftijds categorien in de dataset van het RIVM"
   },
   "outputs": [],
   "source": [
    "@run\n",
    "def cell():\n",
    "  global bevolking\n",
    "\n",
    "  # December 2021 als backup:\n",
    "  aantallenpercohort = {'0-9': 1757736,\n",
    "    '10-19': 1981885,\n",
    "    '20-29': 2263186,\n",
    "    '30-39': 2213705,\n",
    "    '40-49': 2137833,\n",
    "    '50-59': 2550358,\n",
    "    '60-69': 2171183,\n",
    "    '70-79': 1649291,\n",
    "    '80-89': 722027,\n",
    "    '90+': 135289}\n",
    "\n",
    "  global bevolking\n",
    "\n",
    "  bevolking = None\n",
    "  try:\n",
    "    bevolking = CBS.bevolking(leeftijdsgroepen=True)\n",
    "    bevolking.to_csv(\"cbs/leeftijdsgroepen_cbs.csv\")\n",
    "  except Exception as e:\n",
    "    print(e)\n",
    "    # gebruik laatste csv\n",
    "    try:\n",
    "      bevolking = pd.read_csv(\"cbs/leeftijdsgroepen_cbs.csv\")\n",
    "      bevolking.set_index('Range', inplace=True)\n",
    "    except Exception as ee:\n",
    "      print(ee)\n",
    "      bevolking = None\n",
    "\n",
    "  if bevolking is None:\n",
    "    bevolking = aantallenpercohort"
   ]
  },
  {
   "cell_type": "code",
   "execution_count": 4,
   "id": "dad4bf03",
   "metadata": {
    "execution": {
     "iopub.execute_input": "2022-01-14T14:41:37.694118Z",
     "iopub.status.busy": "2022-01-14T14:41:37.689159Z",
     "iopub.status.idle": "2022-01-14T14:41:50.776364Z",
     "shell.execute_reply": "2022-01-14T14:41:50.775896Z"
    },
    "papermill": {
     "duration": 13.106065,
     "end_time": "2022-01-14T14:41:50.776488",
     "exception": false,
     "start_time": "2022-01-14T14:41:37.670423",
     "status": "completed"
    },
    "tags": [],
    "title": "leeftijdsgroepen: prepareer tabel"
   },
   "outputs": [
    {
     "data": {
      "text/html": [
       "<style type=\"text/css\">\n",
       "#T_2eddd_row0_col7 {\n",
       "  background-color: #77d153;\n",
       "  color: #000000;\n",
       "}\n",
       "#T_2eddd_row0_col8 {\n",
       "  background-color: #38598c;\n",
       "  color: #f1f1f1;\n",
       "}\n",
       "#T_2eddd_row0_col9, #T_2eddd_row1_col9, #T_2eddd_row2_col9, #T_2eddd_row3_col9, #T_2eddd_row3_col10, #T_2eddd_row4_col10 {\n",
       "  background-color: #440154;\n",
       "  color: #f1f1f1;\n",
       "}\n",
       "#T_2eddd_row0_col10 {\n",
       "  background-color: #287d8e;\n",
       "  color: #f1f1f1;\n",
       "}\n",
       "#T_2eddd_row0_col11 {\n",
       "  background-color: #228b8d;\n",
       "  color: #f1f1f1;\n",
       "}\n",
       "#T_2eddd_row0_col12 {\n",
       "  background-color: #1f988b;\n",
       "  color: #f1f1f1;\n",
       "}\n",
       "#T_2eddd_row0_col13 {\n",
       "  background-color: #9dd93b;\n",
       "  color: #000000;\n",
       "}\n",
       "#T_2eddd_row0_col14, #T_2eddd_row2_col15 {\n",
       "  background-color: #e2e418;\n",
       "  color: #000000;\n",
       "}\n",
       "#T_2eddd_row0_col15, #T_2eddd_row1_col15 {\n",
       "  background-color: #f4e61e;\n",
       "  color: #000000;\n",
       "}\n",
       "#T_2eddd_row0_col16, #T_2eddd_row1_col16 {\n",
       "  background-color: #fbe723;\n",
       "  color: #000000;\n",
       "}\n",
       "#T_2eddd_row0_col17, #T_2eddd_row1_col17, #T_2eddd_row2_col17, #T_2eddd_row3_col17, #T_2eddd_row4_col17 {\n",
       "  background-color: #fde725;\n",
       "  color: #000000;\n",
       "}\n",
       "#T_2eddd_row1_col7 {\n",
       "  background-color: #a5db36;\n",
       "  color: #000000;\n",
       "}\n",
       "#T_2eddd_row1_col8 {\n",
       "  background-color: #25848e;\n",
       "  color: #f1f1f1;\n",
       "}\n",
       "#T_2eddd_row1_col10 {\n",
       "  background-color: #1f958b;\n",
       "  color: #f1f1f1;\n",
       "}\n",
       "#T_2eddd_row1_col11 {\n",
       "  background-color: #25ac82;\n",
       "  color: #f1f1f1;\n",
       "}\n",
       "#T_2eddd_row1_col12 {\n",
       "  background-color: #25ab82;\n",
       "  color: #f1f1f1;\n",
       "}\n",
       "#T_2eddd_row1_col13 {\n",
       "  background-color: #a0da39;\n",
       "  color: #000000;\n",
       "}\n",
       "#T_2eddd_row1_col14 {\n",
       "  background-color: #dae319;\n",
       "  color: #000000;\n",
       "}\n",
       "#T_2eddd_row2_col7 {\n",
       "  background-color: #52c569;\n",
       "  color: #000000;\n",
       "}\n",
       "#T_2eddd_row2_col8 {\n",
       "  background-color: #26818e;\n",
       "  color: #f1f1f1;\n",
       "}\n",
       "#T_2eddd_row2_col10 {\n",
       "  background-color: #414487;\n",
       "  color: #f1f1f1;\n",
       "}\n",
       "#T_2eddd_row2_col11 {\n",
       "  background-color: #2d708e;\n",
       "  color: #f1f1f1;\n",
       "}\n",
       "#T_2eddd_row2_col12 {\n",
       "  background-color: #32658e;\n",
       "  color: #f1f1f1;\n",
       "}\n",
       "#T_2eddd_row2_col13 {\n",
       "  background-color: #28ae80;\n",
       "  color: #f1f1f1;\n",
       "}\n",
       "#T_2eddd_row2_col14 {\n",
       "  background-color: #93d741;\n",
       "  color: #000000;\n",
       "}\n",
       "#T_2eddd_row2_col16 {\n",
       "  background-color: #f8e621;\n",
       "  color: #000000;\n",
       "}\n",
       "#T_2eddd_row3_col7 {\n",
       "  background-color: #306a8e;\n",
       "  color: #f1f1f1;\n",
       "}\n",
       "#T_2eddd_row3_col8 {\n",
       "  background-color: #3b518b;\n",
       "  color: #f1f1f1;\n",
       "}\n",
       "#T_2eddd_row3_col11, #T_2eddd_row4_col7 {\n",
       "  background-color: #453581;\n",
       "  color: #f1f1f1;\n",
       "}\n",
       "#T_2eddd_row3_col12 {\n",
       "  background-color: #33628d;\n",
       "  color: #f1f1f1;\n",
       "}\n",
       "#T_2eddd_row3_col13 {\n",
       "  background-color: #1f998a;\n",
       "  color: #f1f1f1;\n",
       "}\n",
       "#T_2eddd_row3_col14 {\n",
       "  background-color: #6ece58;\n",
       "  color: #000000;\n",
       "}\n",
       "#T_2eddd_row3_col15 {\n",
       "  background-color: #cde11d;\n",
       "  color: #000000;\n",
       "}\n",
       "#T_2eddd_row3_col16 {\n",
       "  background-color: #f1e51d;\n",
       "  color: #000000;\n",
       "}\n",
       "#T_2eddd_row4_col8 {\n",
       "  background-color: #482475;\n",
       "  color: #f1f1f1;\n",
       "}\n",
       "#T_2eddd_row4_col9 {\n",
       "  background-color: #423f85;\n",
       "  color: #f1f1f1;\n",
       "}\n",
       "#T_2eddd_row4_col11 {\n",
       "  background-color: #482173;\n",
       "  color: #f1f1f1;\n",
       "}\n",
       "#T_2eddd_row4_col12 {\n",
       "  background-color: #355e8d;\n",
       "  color: #f1f1f1;\n",
       "}\n",
       "#T_2eddd_row4_col13 {\n",
       "  background-color: #218e8d;\n",
       "  color: #f1f1f1;\n",
       "}\n",
       "#T_2eddd_row4_col14 {\n",
       "  background-color: #46c06f;\n",
       "  color: #f1f1f1;\n",
       "}\n",
       "#T_2eddd_row4_col15 {\n",
       "  background-color: #a8db34;\n",
       "  color: #000000;\n",
       "}\n",
       "#T_2eddd_row4_col16 {\n",
       "  background-color: #e7e419;\n",
       "  color: #000000;\n",
       "}\n",
       "</style>\n",
       "<table id=\"T_2eddd_\">\n",
       "  <thead>\n",
       "    <tr>\n",
       "      <th class=\"blank level0\" >&nbsp;</th>\n",
       "      <th class=\"col_heading level0 col0\" >Key</th>\n",
       "      <th class=\"col_heading level0 col1\" >Weken terug</th>\n",
       "      <th class=\"col_heading level0 col2\" >Datum</th>\n",
       "      <th class=\"col_heading level0 col3\" >Periode</th>\n",
       "      <th class=\"col_heading level0 col4\" >Gemiddelde leeftijd</th>\n",
       "      <th class=\"col_heading level0 col5\" >Totaal</th>\n",
       "      <th class=\"col_heading level0 col6\" >Type</th>\n",
       "      <th class=\"col_heading level0 col7\" >0-9</th>\n",
       "      <th class=\"col_heading level0 col8\" >10-19</th>\n",
       "      <th class=\"col_heading level0 col9\" >20-29</th>\n",
       "      <th class=\"col_heading level0 col10\" >30-39</th>\n",
       "      <th class=\"col_heading level0 col11\" >40-49</th>\n",
       "      <th class=\"col_heading level0 col12\" >50-59</th>\n",
       "      <th class=\"col_heading level0 col13\" >60-69</th>\n",
       "      <th class=\"col_heading level0 col14\" >70-79</th>\n",
       "      <th class=\"col_heading level0 col15\" >80-89</th>\n",
       "      <th class=\"col_heading level0 col16\" >90+</th>\n",
       "      <th class=\"col_heading level0 col17\" >Onbekend</th>\n",
       "      <th class=\"col_heading level0 col18\" >c0-9</th>\n",
       "      <th class=\"col_heading level0 col19\" >c10-19</th>\n",
       "      <th class=\"col_heading level0 col20\" >c20-29</th>\n",
       "      <th class=\"col_heading level0 col21\" >c30-39</th>\n",
       "      <th class=\"col_heading level0 col22\" >c40-49</th>\n",
       "      <th class=\"col_heading level0 col23\" >c50-59</th>\n",
       "      <th class=\"col_heading level0 col24\" >c60-69</th>\n",
       "      <th class=\"col_heading level0 col25\" >c70-79</th>\n",
       "      <th class=\"col_heading level0 col26\" >c80-89</th>\n",
       "      <th class=\"col_heading level0 col27\" >c90+</th>\n",
       "      <th class=\"col_heading level0 col28\" >cOnbekend</th>\n",
       "    </tr>\n",
       "  </thead>\n",
       "  <tbody>\n",
       "    <tr>\n",
       "      <th id=\"T_2eddd_level0_row0\" class=\"row_heading level0 row0\" >0</th>\n",
       "      <td id=\"T_2eddd_row0_col0\" class=\"data row0 col0\" >p000</td>\n",
       "      <td id=\"T_2eddd_row0_col1\" class=\"data row0 col1\" >0</td>\n",
       "      <td id=\"T_2eddd_row0_col2\" class=\"data row0 col2\" >2022-01-14 00:00:00</td>\n",
       "      <td id=\"T_2eddd_row0_col3\" class=\"data row0 col3\" >08/01-14/01</td>\n",
       "      <td id=\"T_2eddd_row0_col4\" class=\"data row0 col4\" >32.600000</td>\n",
       "      <td id=\"T_2eddd_row0_col5\" class=\"data row0 col5\" >145057.000000</td>\n",
       "      <td id=\"T_2eddd_row0_col6\" class=\"data row0 col6\" >Positief getest</td>\n",
       "      <td id=\"T_2eddd_row0_col7\" class=\"data row0 col7\" >7983.000000</td>\n",
       "      <td id=\"T_2eddd_row0_col8\" class=\"data row0 col8\" >28381.000000</td>\n",
       "      <td id=\"T_2eddd_row0_col9\" class=\"data row0 col9\" >39083.000000</td>\n",
       "      <td id=\"T_2eddd_row0_col10\" class=\"data row0 col10\" >22662.000000</td>\n",
       "      <td id=\"T_2eddd_row0_col11\" class=\"data row0 col11\" >20319.000000</td>\n",
       "      <td id=\"T_2eddd_row0_col12\" class=\"data row0 col12\" >18217.000000</td>\n",
       "      <td id=\"T_2eddd_row0_col13\" class=\"data row0 col13\" >5786.000000</td>\n",
       "      <td id=\"T_2eddd_row0_col14\" class=\"data row0 col14\" >1777.000000</td>\n",
       "      <td id=\"T_2eddd_row0_col15\" class=\"data row0 col15\" >656.000000</td>\n",
       "      <td id=\"T_2eddd_row0_col16\" class=\"data row0 col16\" >193.000000</td>\n",
       "      <td id=\"T_2eddd_row0_col17\" class=\"data row0 col17\" >0.000000</td>\n",
       "      <td id=\"T_2eddd_row0_col18\" class=\"data row0 col18\" >204</td>\n",
       "      <td id=\"T_2eddd_row0_col19\" class=\"data row0 col19\" >726</td>\n",
       "      <td id=\"T_2eddd_row0_col20\" class=\"data row0 col20\" >1000</td>\n",
       "      <td id=\"T_2eddd_row0_col21\" class=\"data row0 col21\" >579</td>\n",
       "      <td id=\"T_2eddd_row0_col22\" class=\"data row0 col22\" >519</td>\n",
       "      <td id=\"T_2eddd_row0_col23\" class=\"data row0 col23\" >466</td>\n",
       "      <td id=\"T_2eddd_row0_col24\" class=\"data row0 col24\" >148</td>\n",
       "      <td id=\"T_2eddd_row0_col25\" class=\"data row0 col25\" >45</td>\n",
       "      <td id=\"T_2eddd_row0_col26\" class=\"data row0 col26\" >16</td>\n",
       "      <td id=\"T_2eddd_row0_col27\" class=\"data row0 col27\" >4</td>\n",
       "      <td id=\"T_2eddd_row0_col28\" class=\"data row0 col28\" >0</td>\n",
       "    </tr>\n",
       "    <tr>\n",
       "      <th id=\"T_2eddd_level0_row1\" class=\"row_heading level0 row1\" >1</th>\n",
       "      <td id=\"T_2eddd_row1_col0\" class=\"data row1 col0\" >p001</td>\n",
       "      <td id=\"T_2eddd_row1_col1\" class=\"data row1 col1\" >1</td>\n",
       "      <td id=\"T_2eddd_row1_col2\" class=\"data row1 col2\" >2022-01-14 00:00:00</td>\n",
       "      <td id=\"T_2eddd_row1_col3\" class=\"data row1 col3\" >01/01-07/01</td>\n",
       "      <td id=\"T_2eddd_row1_col4\" class=\"data row1 col4\" >33.200000</td>\n",
       "      <td id=\"T_2eddd_row1_col5\" class=\"data row1 col5\" >173808.000000</td>\n",
       "      <td id=\"T_2eddd_row1_col6\" class=\"data row1 col6\" >Positief getest</td>\n",
       "      <td id=\"T_2eddd_row1_col7\" class=\"data row1 col7\" >7349.000000</td>\n",
       "      <td id=\"T_2eddd_row1_col8\" class=\"data row1 col8\" >30138.000000</td>\n",
       "      <td id=\"T_2eddd_row1_col9\" class=\"data row1 col9\" >55102.000000</td>\n",
       "      <td id=\"T_2eddd_row1_col10\" class=\"data row1 col10\" >26441.000000</td>\n",
       "      <td id=\"T_2eddd_row1_col11\" class=\"data row1 col11\" >21099.000000</td>\n",
       "      <td id=\"T_2eddd_row1_col12\" class=\"data row1 col12\" >21454.000000</td>\n",
       "      <td id=\"T_2eddd_row1_col13\" class=\"data row1 col13\" >7849.000000</td>\n",
       "      <td id=\"T_2eddd_row1_col14\" class=\"data row1 col14\" >3137.000000</td>\n",
       "      <td id=\"T_2eddd_row1_col15\" class=\"data row1 col15\" >988.000000</td>\n",
       "      <td id=\"T_2eddd_row1_col16\" class=\"data row1 col16\" >250.000000</td>\n",
       "      <td id=\"T_2eddd_row1_col17\" class=\"data row1 col17\" >1.000000</td>\n",
       "      <td id=\"T_2eddd_row1_col18\" class=\"data row1 col18\" >133</td>\n",
       "      <td id=\"T_2eddd_row1_col19\" class=\"data row1 col19\" >546</td>\n",
       "      <td id=\"T_2eddd_row1_col20\" class=\"data row1 col20\" >1000</td>\n",
       "      <td id=\"T_2eddd_row1_col21\" class=\"data row1 col21\" >479</td>\n",
       "      <td id=\"T_2eddd_row1_col22\" class=\"data row1 col22\" >382</td>\n",
       "      <td id=\"T_2eddd_row1_col23\" class=\"data row1 col23\" >389</td>\n",
       "      <td id=\"T_2eddd_row1_col24\" class=\"data row1 col24\" >142</td>\n",
       "      <td id=\"T_2eddd_row1_col25\" class=\"data row1 col25\" >56</td>\n",
       "      <td id=\"T_2eddd_row1_col26\" class=\"data row1 col26\" >17</td>\n",
       "      <td id=\"T_2eddd_row1_col27\" class=\"data row1 col27\" >4</td>\n",
       "      <td id=\"T_2eddd_row1_col28\" class=\"data row1 col28\" >0</td>\n",
       "    </tr>\n",
       "    <tr>\n",
       "      <th id=\"T_2eddd_level0_row2\" class=\"row_heading level0 row2\" >2</th>\n",
       "      <td id=\"T_2eddd_row2_col0\" class=\"data row2 col0\" >p002</td>\n",
       "      <td id=\"T_2eddd_row2_col1\" class=\"data row2 col1\" >2</td>\n",
       "      <td id=\"T_2eddd_row2_col2\" class=\"data row2 col2\" >2022-01-14 00:00:00</td>\n",
       "      <td id=\"T_2eddd_row2_col3\" class=\"data row2 col3\" >25/12-31/12</td>\n",
       "      <td id=\"T_2eddd_row2_col4\" class=\"data row2 col4\" >37.500000</td>\n",
       "      <td id=\"T_2eddd_row2_col5\" class=\"data row2 col5\" >101855.000000</td>\n",
       "      <td id=\"T_2eddd_row2_col6\" class=\"data row2 col6\" >Positief getest</td>\n",
       "      <td id=\"T_2eddd_row2_col7\" class=\"data row2 col7\" >6074.000000</td>\n",
       "      <td id=\"T_2eddd_row2_col8\" class=\"data row2 col8\" >12635.000000</td>\n",
       "      <td id=\"T_2eddd_row2_col9\" class=\"data row2 col9\" >22446.000000</td>\n",
       "      <td id=\"T_2eddd_row2_col10\" class=\"data row2 col10\" >17958.000000</td>\n",
       "      <td id=\"T_2eddd_row2_col11\" class=\"data row2 col11\" >14256.000000</td>\n",
       "      <td id=\"T_2eddd_row2_col12\" class=\"data row2 col12\" >15179.000000</td>\n",
       "      <td id=\"T_2eddd_row2_col13\" class=\"data row2 col13\" >8394.000000</td>\n",
       "      <td id=\"T_2eddd_row2_col14\" class=\"data row2 col14\" >3675.000000</td>\n",
       "      <td id=\"T_2eddd_row2_col15\" class=\"data row2 col15\" >1003.000000</td>\n",
       "      <td id=\"T_2eddd_row2_col16\" class=\"data row2 col16\" >235.000000</td>\n",
       "      <td id=\"T_2eddd_row2_col17\" class=\"data row2 col17\" >0.000000</td>\n",
       "      <td id=\"T_2eddd_row2_col18\" class=\"data row2 col18\" >270</td>\n",
       "      <td id=\"T_2eddd_row2_col19\" class=\"data row2 col19\" >562</td>\n",
       "      <td id=\"T_2eddd_row2_col20\" class=\"data row2 col20\" >1000</td>\n",
       "      <td id=\"T_2eddd_row2_col21\" class=\"data row2 col21\" >800</td>\n",
       "      <td id=\"T_2eddd_row2_col22\" class=\"data row2 col22\" >635</td>\n",
       "      <td id=\"T_2eddd_row2_col23\" class=\"data row2 col23\" >676</td>\n",
       "      <td id=\"T_2eddd_row2_col24\" class=\"data row2 col24\" >373</td>\n",
       "      <td id=\"T_2eddd_row2_col25\" class=\"data row2 col25\" >163</td>\n",
       "      <td id=\"T_2eddd_row2_col26\" class=\"data row2 col26\" >44</td>\n",
       "      <td id=\"T_2eddd_row2_col27\" class=\"data row2 col27\" >10</td>\n",
       "      <td id=\"T_2eddd_row2_col28\" class=\"data row2 col28\" >0</td>\n",
       "    </tr>\n",
       "    <tr>\n",
       "      <th id=\"T_2eddd_level0_row3\" class=\"row_heading level0 row3\" >3</th>\n",
       "      <td id=\"T_2eddd_row3_col0\" class=\"data row3 col0\" >p003</td>\n",
       "      <td id=\"T_2eddd_row3_col1\" class=\"data row3 col1\" >3</td>\n",
       "      <td id=\"T_2eddd_row3_col2\" class=\"data row3 col2\" >2022-01-14 00:00:00</td>\n",
       "      <td id=\"T_2eddd_row3_col3\" class=\"data row3 col3\" >18/12-24/12</td>\n",
       "      <td id=\"T_2eddd_row3_col4\" class=\"data row3 col4\" >35.900000</td>\n",
       "      <td id=\"T_2eddd_row3_col5\" class=\"data row3 col5\" >86096.000000</td>\n",
       "      <td id=\"T_2eddd_row3_col6\" class=\"data row3 col6\" >Positief getest</td>\n",
       "      <td id=\"T_2eddd_row3_col7\" class=\"data row3 col7\" >9875.000000</td>\n",
       "      <td id=\"T_2eddd_row3_col8\" class=\"data row3 col8\" >11326.000000</td>\n",
       "      <td id=\"T_2eddd_row3_col9\" class=\"data row3 col9\" >15036.000000</td>\n",
       "      <td id=\"T_2eddd_row3_col10\" class=\"data row3 col10\" >15037.000000</td>\n",
       "      <td id=\"T_2eddd_row3_col11\" class=\"data row3 col11\" >12726.000000</td>\n",
       "      <td id=\"T_2eddd_row3_col12\" class=\"data row3 col12\" >10382.000000</td>\n",
       "      <td id=\"T_2eddd_row3_col13\" class=\"data row3 col13\" >6976.000000</td>\n",
       "      <td id=\"T_2eddd_row3_col14\" class=\"data row3 col14\" >3316.000000</td>\n",
       "      <td id=\"T_2eddd_row3_col15\" class=\"data row3 col15\" >1123.000000</td>\n",
       "      <td id=\"T_2eddd_row3_col16\" class=\"data row3 col16\" >298.000000</td>\n",
       "      <td id=\"T_2eddd_row3_col17\" class=\"data row3 col17\" >1.000000</td>\n",
       "      <td id=\"T_2eddd_row3_col18\" class=\"data row3 col18\" >656</td>\n",
       "      <td id=\"T_2eddd_row3_col19\" class=\"data row3 col19\" >753</td>\n",
       "      <td id=\"T_2eddd_row3_col20\" class=\"data row3 col20\" >999</td>\n",
       "      <td id=\"T_2eddd_row3_col21\" class=\"data row3 col21\" >1000</td>\n",
       "      <td id=\"T_2eddd_row3_col22\" class=\"data row3 col22\" >846</td>\n",
       "      <td id=\"T_2eddd_row3_col23\" class=\"data row3 col23\" >690</td>\n",
       "      <td id=\"T_2eddd_row3_col24\" class=\"data row3 col24\" >463</td>\n",
       "      <td id=\"T_2eddd_row3_col25\" class=\"data row3 col25\" >220</td>\n",
       "      <td id=\"T_2eddd_row3_col26\" class=\"data row3 col26\" >74</td>\n",
       "      <td id=\"T_2eddd_row3_col27\" class=\"data row3 col27\" >19</td>\n",
       "      <td id=\"T_2eddd_row3_col28\" class=\"data row3 col28\" >0</td>\n",
       "    </tr>\n",
       "    <tr>\n",
       "      <th id=\"T_2eddd_level0_row4\" class=\"row_heading level0 row4\" >4</th>\n",
       "      <td id=\"T_2eddd_row4_col0\" class=\"data row4 col0\" >p004</td>\n",
       "      <td id=\"T_2eddd_row4_col1\" class=\"data row4 col1\" >4</td>\n",
       "      <td id=\"T_2eddd_row4_col2\" class=\"data row4 col2\" >2022-01-14 00:00:00</td>\n",
       "      <td id=\"T_2eddd_row4_col3\" class=\"data row4 col3\" >11/12-17/12</td>\n",
       "      <td id=\"T_2eddd_row4_col4\" class=\"data row4 col4\" >36.200000</td>\n",
       "      <td id=\"T_2eddd_row4_col5\" class=\"data row4 col5\" >95121.000000</td>\n",
       "      <td id=\"T_2eddd_row4_col6\" class=\"data row4 col6\" >Positief getest</td>\n",
       "      <td id=\"T_2eddd_row4_col7\" class=\"data row4 col7\" >13102.000000</td>\n",
       "      <td id=\"T_2eddd_row4_col8\" class=\"data row4 col8\" >13919.000000</td>\n",
       "      <td id=\"T_2eddd_row4_col9\" class=\"data row4 col9\" >12614.000000</td>\n",
       "      <td id=\"T_2eddd_row4_col10\" class=\"data row4 col10\" >15464.000000</td>\n",
       "      <td id=\"T_2eddd_row4_col11\" class=\"data row4 col11\" >14017.000000</td>\n",
       "      <td id=\"T_2eddd_row4_col12\" class=\"data row4 col12\" >10905.000000</td>\n",
       "      <td id=\"T_2eddd_row4_col13\" class=\"data row4 col13\" >7863.000000</td>\n",
       "      <td id=\"T_2eddd_row4_col14\" class=\"data row4 col14\" >4592.000000</td>\n",
       "      <td id=\"T_2eddd_row4_col15\" class=\"data row4 col15\" >2040.000000</td>\n",
       "      <td id=\"T_2eddd_row4_col16\" class=\"data row4 col16\" >601.000000</td>\n",
       "      <td id=\"T_2eddd_row4_col17\" class=\"data row4 col17\" >4.000000</td>\n",
       "      <td id=\"T_2eddd_row4_col18\" class=\"data row4 col18\" >847</td>\n",
       "      <td id=\"T_2eddd_row4_col19\" class=\"data row4 col19\" >900</td>\n",
       "      <td id=\"T_2eddd_row4_col20\" class=\"data row4 col20\" >815</td>\n",
       "      <td id=\"T_2eddd_row4_col21\" class=\"data row4 col21\" >1000</td>\n",
       "      <td id=\"T_2eddd_row4_col22\" class=\"data row4 col22\" >906</td>\n",
       "      <td id=\"T_2eddd_row4_col23\" class=\"data row4 col23\" >705</td>\n",
       "      <td id=\"T_2eddd_row4_col24\" class=\"data row4 col24\" >508</td>\n",
       "      <td id=\"T_2eddd_row4_col25\" class=\"data row4 col25\" >296</td>\n",
       "      <td id=\"T_2eddd_row4_col26\" class=\"data row4 col26\" >131</td>\n",
       "      <td id=\"T_2eddd_row4_col27\" class=\"data row4 col27\" >38</td>\n",
       "      <td id=\"T_2eddd_row4_col28\" class=\"data row4 col28\" >0</td>\n",
       "    </tr>\n",
       "  </tbody>\n",
       "</table>\n"
      ],
      "text/plain": [
       "<pandas.io.formats.style.Styler at 0x7f10b00d35e0>"
      ]
     },
     "metadata": {},
     "output_type": "display_data"
    }
   ],
   "source": [
    "# Bereken de stand van zaken van besmettingen / hospitalisaties / overlijden, per cohort in absolute aantallen en aantallen per 100k, met een kleur indicator voor de aantallen.\n",
    "# vervang <50 en Unknown door Onbekend\n",
    "@run\n",
    "def cell():\n",
    "  rivm['Cohort'] = rivm['Agegroup'].replace({'<50': 'Onbekend', 'Unknown': 'Onbekend'})\n",
    "  # aangenomen 'gemiddelde' leeftijd van een cohort: minimum waarde + 5\n",
    "  assumed_cohort_age = [(cohort, [int(n) for n in cohort.replace('+', '').split('-')]) for cohort in rivm['Cohort'].unique() if cohort[0].isdigit()]\n",
    "  assumed_cohort_age = { cohort: min(rng) + 5 for cohort, rng in assumed_cohort_age }\n",
    "  rivm['Gemiddelde leeftijd'] = rivm['Cohort'].apply(lambda x: assumed_cohort_age.get(x, np.nan))\n",
    "\n",
    "  # verwijder tijd\n",
    "  rivm['Date_file_date'] = pd.to_datetime(rivm['Date_file'].replace(r' .*', '', regex=True))\n",
    "\n",
    "  rivm['Date_statistics_date'] = pd.to_datetime(rivm['Date_statistics'])\n",
    "\n",
    "  # weken terug = verschil tussen Date_file en Date_statistcs, gedeeld door 7 dagen\n",
    "  rivm['Weken terug'] = np.floor((rivm['Date_file_date'] - rivm['Date_statistics_date'])/np.timedelta64(7, 'D')).astype(int)\n",
    "\n",
    "  # voeg key, gem leeftijd, kleurnummer en totaal toe\n",
    "  Date_file = rivm['Date_file_date'].unique()[0].astype('M8[D]').astype('O')\n",
    "  # check type bevolking\n",
    "  if type(bevolking) == dict:\n",
    "    cohorten = list(bevolking.keys())\n",
    "  else:\n",
    "    cohorten = list(bevolking.index)\n",
    "  cohorten += ['Onbekend']\n",
    "\n",
    "  def summarize(df, category, prefix):\n",
    "    # aangezien we hier de dataframe in-place wijzigen (bijv door toevoegen kolommen)\n",
    "    # en we het 'rivm' frame later nog clean nodig hebben\n",
    "    df = df.copy(deep=True)\n",
    "\n",
    "    df = (df\n",
    "          .groupby(['Weken terug', 'Cohort'])['count']\n",
    "          .sum()\n",
    "          .unstack(fill_value=np.nan)\n",
    "          .reset_index()\n",
    "          .rename_axis(None, axis=1)\n",
    "        ).merge(df\n",
    "          # we voegen hier gemiddelde leeftijd toe, want die willen we op een ander\n",
    "          # niveau aggregeren voor 'df' overschreven word\n",
    "          .groupby(['Weken terug'])['Gemiddelde leeftijd']\n",
    "          .mean()\n",
    "          .to_frame(), on='Weken terug'\n",
    "        )\n",
    "\n",
    "    # altijd 52 rijen\n",
    "    df = pd.Series(np.arange(52), name='Weken terug').to_frame().merge(df, how='left', on='Weken terug')\n",
    "\n",
    "    # toevoegen missende cohorten\n",
    "    for col in cohorten:\n",
    "      if not col in df:\n",
    "        df[col] = np.nan\n",
    "\n",
    "    # sommeer per rij (axis=1) over de cohorten om een totaal te krijgen\n",
    "    df['Totaal'] = df[cohorten].sum(axis=1)\n",
    "\n",
    "    # voeg periode en datum toe\n",
    "    # periode afgeleid van weken-terug (= de index voor deze dataframe)\n",
    "    df['Datum'] = pd.to_datetime(Date_file)\n",
    "    df['Periode'] = (df\n",
    "      .index.to_series()\n",
    "      .apply(\n",
    "        lambda x: (\n",
    "          (Date_file + datetime.timedelta(weeks=-(x+1), days=1)).strftime('%d/%m')\n",
    "          + '-'\n",
    "          + (Date_file + datetime.timedelta(weeks=-x)).strftime('%d/%m')\n",
    "        )\n",
    "      )\n",
    "    )\n",
    "\n",
    "    # voeg 'Key' en 'Type' kolom toe. Variabele 'type' kan niet, is een language primitive.\n",
    "    df['Key'] = prefix + df.index.astype(str).str.rjust(3, fillchar='0')\n",
    "    df['Type'] = category\n",
    "\n",
    "    # voeg de kleur kolommen toe\n",
    "    for col in cohorten:\n",
    "      df['c' + col] = ((df[col] / df[[col for col in cohorten]].max(axis=1)) * 1000).fillna(0).astype(int)\n",
    "\n",
    "    # herschikken van de kolommen\n",
    "    colorder = ['Key', 'Weken terug', 'Datum', 'Periode', 'Gemiddelde leeftijd', 'Totaal', 'Type']\n",
    "    return df[colorder + [col for col in df if col not in colorder]]\n",
    "\n",
    "  if type(bevolking) == dict:\n",
    "    factor = {}\n",
    "    for c in bevolking: factor[c] = 100_000 / bevolking[c]\n",
    "  else:\n",
    "    factor = bevolking.to_dict()['per 100k']\n",
    "\n",
    "  global tabel\n",
    "  tabel = pd.concat(\n",
    "    # flatten the result list zodat pd.concat ze onder elkaar kan plakken\n",
    "    functools.reduce(lambda a, b: a + b, [\n",
    "      [summarize(df.assign(count=1), label, prefix), summarize(df.assign(count=df['Cohort'].apply(lambda x: factor.get(x, np.nan))), label + ' per 100.000', prefix + '100k')]\n",
    "      for df, label, prefix in [\n",
    "        (rivm, 'Positief getest', 'p'), # volledige count per cohort\n",
    "        (rivm[rivm.Hospital_admission == 'Yes'], 'Ziekenhuisopname', 'h'), # count van cohort voor Hospital_admission == 'Yes'\n",
    "        (rivm[rivm.Deceased == 'Yes'], 'Overleden', 'd'), # count van cohort voor Deceased == 'Yes'\n",
    "      ]\n",
    "    ])\n",
    "  )\n",
    "\n",
    "  if type(bevolking) == dict:\n",
    "    totale_bevolking = sum(bevolking.values())\n",
    "    print(totale_bevolking)\n",
    "  else:\n",
    "    totale_bevolking_per_cohort = bevolking.to_dict()['BevolkingOpDeEersteVanDeMaand']\n",
    "    totale_bevolking = sum( totale_bevolking_per_cohort.values())\n",
    "\n",
    "  keys = [ key for key in tabel[\"Key\"]]\n",
    "  totals = [ x for x in tabel[\"Totaal\"]]\n",
    "  for k in range(0, len(keys)):\n",
    "    key = keys[k]\n",
    "    if '100k' in key:\n",
    "      abskey = key[0] + key[5:]\n",
    "      kk = keys.index(abskey)\n",
    "      if isinstance(totals[k], float):\n",
    "        correctedtotal = totals[kk] * (100_000 / totale_bevolking)\n",
    "        # print([k, totals[k], totals[kk], correctedtotal])\n",
    "        totals[k] = correctedtotal\n",
    "\n",
    "  tabel[\"Totaal\"] = totals\n",
    "\n",
    "\n",
    "  # rood -> groen\n",
    "  cdict = {\n",
    "    'red':   ((0.0, 0.0, 0.0),   # no red at 0\n",
    "              (0.5, 1.0, 1.0),   # all channels set to 1.0 at 0.5 to create white\n",
    "              (1.0, 0.8, 0.8)),  # set to 0.8 so its not too bright at 1\n",
    "    'green': ((0.0, 0.8, 0.8),   # set to 0.8 so its not too bright at 0\n",
    "              (0.5, 1.0, 1.0),   # all channels set to 1.0 at 0.5 to create white\n",
    "              (1.0, 0.0, 0.0)),  # no green at 1\n",
    "    'blue':  ((0.0, 0.0, 0.0),   # no blue at 0\n",
    "              (0.5, 1.0, 1.0),   # all channels set to 1.0 at 0.5 to create white\n",
    "              (1.0, 0.0, 0.0))   # no blue at 1\n",
    "  }\n",
    "  cm = colors.LinearSegmentedColormap('GnRd', cdict)\n",
    "  # geel -> paars\n",
    "  cm = sns.color_palette('viridis_r', as_cmap=True)\n",
    "  display(tabel\n",
    "    .fillna(0)\n",
    "    .head()\n",
    "    .round(1)\n",
    "    .reset_index(drop=True)\n",
    "    .style.background_gradient(cmap=cm, axis=1, subset=cohorten)\n",
    "  )"
   ]
  },
  {
   "cell_type": "code",
   "execution_count": 5,
   "id": "34fa3b59",
   "metadata": {
    "execution": {
     "iopub.execute_input": "2022-01-14T14:41:50.795261Z",
     "iopub.status.busy": "2022-01-14T14:41:50.794798Z",
     "iopub.status.idle": "2022-01-14T14:42:22.517032Z",
     "shell.execute_reply": "2022-01-14T14:42:22.517408Z"
    },
    "papermill": {
     "duration": 31.732868,
     "end_time": "2022-01-14T14:42:22.517542",
     "exception": false,
     "start_time": "2022-01-14T14:41:50.784674",
     "status": "completed"
    },
    "tags": [],
    "title": "publish"
   },
   "outputs": [
    {
     "name": "stdout",
     "output_type": "stream",
     "text": [
      "infinities:\n"
     ]
    },
    {
     "name": "stdout",
     "output_type": "stream",
     "text": [
      "Empty DataFrame\n",
      "Columns: []\n",
      "Index: []\n"
     ]
    },
    {
     "name": "stdout",
     "output_type": "stream",
     "text": [
      "nan:\n"
     ]
    },
    {
     "name": "stdout",
     "output_type": "stream",
     "text": [
      "Empty DataFrame\n",
      "Columns: []\n",
      "Index: []\n"
     ]
    },
    {
     "name": "stdout",
     "output_type": "stream",
     "text": [
      "Key                     object\n",
      "Weken terug              int64\n",
      "Datum                   object\n",
      "Periode                 object\n",
      "Gemiddelde leeftijd    float64\n",
      "Totaal                 float64\n",
      "Type                    object\n",
      "0-9                    float64\n",
      "10-19                  float64\n",
      "20-29                  float64\n",
      "30-39                  float64\n",
      "40-49                  float64\n",
      "50-59                  float64\n",
      "60-69                  float64\n",
      "70-79                  float64\n",
      "80-89                  float64\n",
      "90+                    float64\n",
      "Onbekend               float64\n",
      "c0-9                     int64\n",
      "c10-19                   int64\n",
      "c20-29                   int64\n",
      "c30-39                   int64\n",
      "c40-49                   int64\n",
      "c50-59                   int64\n",
      "c60-69                   int64\n",
      "c70-79                   int64\n",
      "c80-89                   int64\n",
      "c90+                     int64\n",
      "cOnbekend                int64\n",
      "dtype: object\n",
      "updating knack\n"
     ]
    },
    {
     "name": "stdout",
     "output_type": "stream",
     "text": [
      "updating: [{'Key': 1, 'Updating Leeftijdsgroep': 'true'}]\n"
     ]
    },
    {
     "name": "stdout",
     "output_type": "stream",
     "text": [
      "restored LaatsteUpdate from hash\n"
     ]
    },
    {
     "name": "stdout",
     "output_type": "stream",
     "text": [
      "Key                         int64\n",
      "Updating Leeftijdsgroep    object\n",
      "dtype: object\n"
     ]
    },
    {
     "name": "stderr",
     "output_type": "stream",
     "text": [
      "\r",
      "  0%|          | 0/1 [00:00<?, ?it/s]"
     ]
    },
    {
     "name": "stderr",
     "output_type": "stream",
     "text": [
      "\r",
      "100%|██████████| 1/1 [00:01<00:00,  1.09s/it]"
     ]
    },
    {
     "name": "stderr",
     "output_type": "stream",
     "text": [
      "\r",
      "100%|██████████| 1/1 [00:01<00:00,  1.10s/it]"
     ]
    },
    {
     "name": "stdout",
     "output_type": "stream",
     "text": [
      "\n",
      "rate limit: 7 \n",
      "LaatsteUpdate API calls: create: 0, read: 1, update: 1, delete: 0, backoff: 0\n"
     ]
    },
    {
     "name": "stderr",
     "output_type": "stream",
     "text": [
      "\n"
     ]
    },
    {
     "name": "stdout",
     "output_type": "stream",
     "text": [
      "restored Leeftijdsgroep from hash\n"
     ]
    },
    {
     "name": "stdout",
     "output_type": "stream",
     "text": [
      "0-9                    float64\n",
      "10-19                  float64\n",
      "20-29                  float64\n",
      "30-39                  float64\n",
      "40-49                  float64\n",
      "50-59                  float64\n",
      "60-69                  float64\n",
      "70-79                  float64\n",
      "80-89                  float64\n",
      "90+                    float64\n",
      "Datum                   object\n",
      "Gemiddelde leeftijd    float64\n",
      "Key                     object\n",
      "Onbekend               float64\n",
      "Periode                 object\n",
      "Totaal                 float64\n",
      "Type                    object\n",
      "Weken terug              int64\n",
      "c0-9                     int64\n",
      "c10-19                   int64\n",
      "c20-29                   int64\n",
      "c30-39                   int64\n",
      "c40-49                   int64\n",
      "c50-59                   int64\n",
      "c60-69                   int64\n",
      "c70-79                   int64\n",
      "c80-89                   int64\n",
      "c90+                     int64\n",
      "cOnbekend                int64\n",
      "dtype: object\n"
     ]
    },
    {
     "name": "stderr",
     "output_type": "stream",
     "text": [
      "\r",
      "  0%|          | 0/138 [00:00<?, ?it/s]"
     ]
    },
    {
     "name": "stderr",
     "output_type": "stream",
     "text": [
      "\r",
      "  1%|          | 1/138 [00:00<01:56,  1.17it/s]"
     ]
    },
    {
     "name": "stderr",
     "output_type": "stream",
     "text": [
      "\r",
      "  2%|▏         | 3/138 [00:01<00:39,  3.39it/s]"
     ]
    },
    {
     "name": "stderr",
     "output_type": "stream",
     "text": [
      "\r",
      "  4%|▎         | 5/138 [00:01<00:25,  5.20it/s]"
     ]
    },
    {
     "name": "stderr",
     "output_type": "stream",
     "text": [
      "\r",
      "  5%|▌         | 7/138 [00:01<00:17,  7.44it/s]"
     ]
    },
    {
     "name": "stderr",
     "output_type": "stream",
     "text": [
      "\r",
      "  7%|▋         | 9/138 [00:01<00:16,  7.73it/s]"
     ]
    },
    {
     "name": "stderr",
     "output_type": "stream",
     "text": [
      "\r",
      "  8%|▊         | 11/138 [00:02<00:24,  5.20it/s]"
     ]
    },
    {
     "name": "stderr",
     "output_type": "stream",
     "text": [
      "\r",
      "  9%|▉         | 13/138 [00:02<00:22,  5.51it/s]"
     ]
    },
    {
     "name": "stderr",
     "output_type": "stream",
     "text": [
      "\r",
      " 10%|█         | 14/138 [00:02<00:22,  5.59it/s]"
     ]
    },
    {
     "name": "stderr",
     "output_type": "stream",
     "text": [
      "\r",
      " 11%|█         | 15/138 [00:02<00:24,  5.07it/s]"
     ]
    },
    {
     "name": "stderr",
     "output_type": "stream",
     "text": [
      "\r",
      " 12%|█▏        | 17/138 [00:03<00:23,  5.13it/s]"
     ]
    },
    {
     "name": "stderr",
     "output_type": "stream",
     "text": [
      "\r",
      " 13%|█▎        | 18/138 [00:03<00:21,  5.61it/s]"
     ]
    },
    {
     "name": "stderr",
     "output_type": "stream",
     "text": [
      "\r",
      " 14%|█▍        | 19/138 [00:03<00:21,  5.52it/s]"
     ]
    },
    {
     "name": "stderr",
     "output_type": "stream",
     "text": [
      "\r",
      " 16%|█▌        | 22/138 [00:03<00:15,  7.29it/s]"
     ]
    },
    {
     "name": "stderr",
     "output_type": "stream",
     "text": [
      "\r",
      " 18%|█▊        | 25/138 [00:04<00:12,  8.89it/s]"
     ]
    },
    {
     "name": "stderr",
     "output_type": "stream",
     "text": [
      "\r",
      " 20%|█▉        | 27/138 [00:04<00:10, 10.49it/s]"
     ]
    },
    {
     "name": "stderr",
     "output_type": "stream",
     "text": [
      "\r",
      " 21%|██        | 29/138 [00:04<00:14,  7.76it/s]"
     ]
    },
    {
     "name": "stderr",
     "output_type": "stream",
     "text": [
      "\r",
      " 22%|██▏       | 30/138 [00:05<00:20,  5.37it/s]"
     ]
    },
    {
     "name": "stderr",
     "output_type": "stream",
     "text": [
      "\r",
      " 23%|██▎       | 32/138 [00:05<00:18,  5.61it/s]"
     ]
    },
    {
     "name": "stderr",
     "output_type": "stream",
     "text": [
      "\r",
      " 24%|██▍       | 33/138 [00:05<00:20,  5.13it/s]"
     ]
    },
    {
     "name": "stderr",
     "output_type": "stream",
     "text": [
      "\r",
      " 25%|██▍       | 34/138 [00:05<00:19,  5.25it/s]"
     ]
    },
    {
     "name": "stderr",
     "output_type": "stream",
     "text": [
      "\r",
      " 25%|██▌       | 35/138 [00:06<00:18,  5.63it/s]"
     ]
    },
    {
     "name": "stderr",
     "output_type": "stream",
     "text": [
      "\r",
      " 26%|██▌       | 36/138 [00:06<00:17,  5.95it/s]"
     ]
    },
    {
     "name": "stderr",
     "output_type": "stream",
     "text": [
      "\r",
      " 28%|██▊       | 39/138 [00:06<00:11,  8.94it/s]"
     ]
    },
    {
     "name": "stderr",
     "output_type": "stream",
     "text": [
      "\r",
      " 29%|██▉       | 40/138 [00:06<00:11,  8.38it/s]"
     ]
    },
    {
     "name": "stderr",
     "output_type": "stream",
     "text": [
      "\r",
      " 30%|██▉       | 41/138 [00:06<00:12,  7.68it/s]"
     ]
    },
    {
     "name": "stderr",
     "output_type": "stream",
     "text": [
      "\r",
      " 30%|███       | 42/138 [00:06<00:13,  6.90it/s]"
     ]
    },
    {
     "name": "stderr",
     "output_type": "stream",
     "text": [
      "\r",
      " 31%|███       | 43/138 [00:07<00:14,  6.45it/s]"
     ]
    },
    {
     "name": "stderr",
     "output_type": "stream",
     "text": [
      "\r",
      " 33%|███▎      | 45/138 [00:07<00:11,  8.11it/s]"
     ]
    },
    {
     "name": "stderr",
     "output_type": "stream",
     "text": [
      "\r",
      " 35%|███▍      | 48/138 [00:07<00:07, 11.94it/s]"
     ]
    },
    {
     "name": "stderr",
     "output_type": "stream",
     "text": [
      "\r",
      " 36%|███▌      | 50/138 [00:07<00:09,  8.85it/s]"
     ]
    },
    {
     "name": "stderr",
     "output_type": "stream",
     "text": [
      "\r",
      " 38%|███▊      | 52/138 [00:08<00:11,  7.76it/s]"
     ]
    },
    {
     "name": "stderr",
     "output_type": "stream",
     "text": [
      "\r",
      " 39%|███▉      | 54/138 [00:08<00:09,  8.55it/s]"
     ]
    },
    {
     "name": "stderr",
     "output_type": "stream",
     "text": [
      "\r",
      " 41%|████      | 56/138 [00:08<00:11,  7.36it/s]"
     ]
    },
    {
     "name": "stderr",
     "output_type": "stream",
     "text": [
      "\r",
      " 42%|████▏     | 58/138 [00:08<00:11,  7.19it/s]"
     ]
    },
    {
     "name": "stderr",
     "output_type": "stream",
     "text": [
      "\r",
      " 43%|████▎     | 60/138 [00:09<00:12,  6.45it/s]"
     ]
    },
    {
     "name": "stderr",
     "output_type": "stream",
     "text": [
      "\r",
      " 45%|████▍     | 62/138 [00:09<00:09,  8.08it/s]"
     ]
    },
    {
     "name": "stderr",
     "output_type": "stream",
     "text": [
      "\r",
      " 46%|████▋     | 64/138 [00:09<00:12,  5.97it/s]"
     ]
    },
    {
     "name": "stderr",
     "output_type": "stream",
     "text": [
      "\r",
      " 48%|████▊     | 66/138 [00:10<00:11,  6.15it/s]"
     ]
    },
    {
     "name": "stderr",
     "output_type": "stream",
     "text": [
      "\r",
      " 49%|████▊     | 67/138 [00:10<00:10,  6.49it/s]"
     ]
    },
    {
     "name": "stderr",
     "output_type": "stream",
     "text": [
      "\r",
      " 49%|████▉     | 68/138 [00:10<00:10,  6.70it/s]"
     ]
    },
    {
     "name": "stderr",
     "output_type": "stream",
     "text": [
      "\r",
      " 51%|█████     | 70/138 [00:10<00:07,  8.82it/s]"
     ]
    },
    {
     "name": "stderr",
     "output_type": "stream",
     "text": [
      "\r",
      " 52%|█████▏    | 72/138 [00:10<00:08,  8.16it/s]"
     ]
    },
    {
     "name": "stderr",
     "output_type": "stream",
     "text": [
      "\r",
      " 54%|█████▎    | 74/138 [00:11<00:07,  8.14it/s]"
     ]
    },
    {
     "name": "stderr",
     "output_type": "stream",
     "text": [
      "\r",
      " 54%|█████▍    | 75/138 [00:11<00:09,  6.89it/s]"
     ]
    },
    {
     "name": "stderr",
     "output_type": "stream",
     "text": [
      "\r",
      " 55%|█████▌    | 76/138 [00:11<00:08,  6.99it/s]"
     ]
    },
    {
     "name": "stderr",
     "output_type": "stream",
     "text": [
      "\r",
      " 57%|█████▋    | 78/138 [00:11<00:07,  7.66it/s]"
     ]
    },
    {
     "name": "stderr",
     "output_type": "stream",
     "text": [
      "\r",
      " 57%|█████▋    | 79/138 [00:11<00:09,  6.33it/s]"
     ]
    },
    {
     "name": "stderr",
     "output_type": "stream",
     "text": [
      "\r",
      " 59%|█████▉    | 82/138 [00:12<00:06,  8.28it/s]"
     ]
    },
    {
     "name": "stderr",
     "output_type": "stream",
     "text": [
      "\r",
      " 60%|██████    | 83/138 [00:12<00:08,  6.24it/s]"
     ]
    },
    {
     "name": "stderr",
     "output_type": "stream",
     "text": [
      "\r",
      " 61%|██████    | 84/138 [00:12<00:11,  4.78it/s]"
     ]
    },
    {
     "name": "stderr",
     "output_type": "stream",
     "text": [
      "\r",
      " 62%|██████▏   | 85/138 [00:13<00:10,  4.82it/s]"
     ]
    },
    {
     "name": "stderr",
     "output_type": "stream",
     "text": [
      "\r",
      " 63%|██████▎   | 87/138 [00:13<00:08,  6.07it/s]"
     ]
    },
    {
     "name": "stderr",
     "output_type": "stream",
     "text": [
      "\r",
      " 64%|██████▍   | 89/138 [00:13<00:06,  7.71it/s]"
     ]
    },
    {
     "name": "stderr",
     "output_type": "stream",
     "text": [
      "\r",
      " 65%|██████▌   | 90/138 [00:13<00:06,  7.98it/s]"
     ]
    },
    {
     "name": "stderr",
     "output_type": "stream",
     "text": [
      "\r",
      " 66%|██████▌   | 91/138 [00:13<00:05,  7.84it/s]"
     ]
    },
    {
     "name": "stderr",
     "output_type": "stream",
     "text": [
      "\r",
      " 67%|██████▋   | 92/138 [00:13<00:07,  5.92it/s]"
     ]
    },
    {
     "name": "stderr",
     "output_type": "stream",
     "text": [
      "\r",
      " 68%|██████▊   | 94/138 [00:14<00:05,  7.41it/s]"
     ]
    },
    {
     "name": "stderr",
     "output_type": "stream",
     "text": [
      "\r",
      " 69%|██████▉   | 95/138 [00:14<00:05,  7.33it/s]"
     ]
    },
    {
     "name": "stderr",
     "output_type": "stream",
     "text": [
      "\r",
      " 70%|██████▉   | 96/138 [00:14<00:05,  7.60it/s]"
     ]
    },
    {
     "name": "stderr",
     "output_type": "stream",
     "text": [
      "\r",
      " 70%|███████   | 97/138 [00:14<00:06,  6.60it/s]"
     ]
    },
    {
     "name": "stderr",
     "output_type": "stream",
     "text": [
      "\r",
      " 72%|███████▏  | 99/138 [00:14<00:05,  6.75it/s]"
     ]
    },
    {
     "name": "stderr",
     "output_type": "stream",
     "text": [
      "\r",
      " 73%|███████▎  | 101/138 [00:15<00:04,  7.49it/s]"
     ]
    },
    {
     "name": "stderr",
     "output_type": "stream",
     "text": [
      "\r",
      " 75%|███████▍  | 103/138 [00:15<00:04,  8.58it/s]"
     ]
    },
    {
     "name": "stderr",
     "output_type": "stream",
     "text": [
      "\r",
      " 75%|███████▌  | 104/138 [00:15<00:04,  8.20it/s]"
     ]
    },
    {
     "name": "stderr",
     "output_type": "stream",
     "text": [
      "\r",
      " 76%|███████▌  | 105/138 [00:15<00:06,  5.22it/s]"
     ]
    },
    {
     "name": "stderr",
     "output_type": "stream",
     "text": [
      "\r",
      " 77%|███████▋  | 106/138 [00:15<00:05,  5.71it/s]"
     ]
    },
    {
     "name": "stderr",
     "output_type": "stream",
     "text": [
      "\r",
      " 78%|███████▊  | 108/138 [00:16<00:03,  7.75it/s]"
     ]
    },
    {
     "name": "stderr",
     "output_type": "stream",
     "text": [
      "\r",
      " 79%|███████▉  | 109/138 [00:16<00:03,  7.52it/s]"
     ]
    },
    {
     "name": "stderr",
     "output_type": "stream",
     "text": [
      "\r",
      " 80%|███████▉  | 110/138 [00:16<00:04,  6.22it/s]"
     ]
    },
    {
     "name": "stderr",
     "output_type": "stream",
     "text": [
      "\r",
      " 80%|████████  | 111/138 [00:16<00:05,  4.98it/s]"
     ]
    },
    {
     "name": "stderr",
     "output_type": "stream",
     "text": [
      "\r",
      " 82%|████████▏ | 113/138 [00:16<00:03,  6.53it/s]"
     ]
    },
    {
     "name": "stderr",
     "output_type": "stream",
     "text": [
      "\r",
      " 83%|████████▎ | 115/138 [00:17<00:03,  7.37it/s]"
     ]
    },
    {
     "name": "stderr",
     "output_type": "stream",
     "text": [
      "\r",
      " 85%|████████▍ | 117/138 [00:17<00:02,  9.39it/s]"
     ]
    },
    {
     "name": "stderr",
     "output_type": "stream",
     "text": [
      "\r",
      " 86%|████████▌ | 119/138 [00:17<00:02,  6.72it/s]"
     ]
    },
    {
     "name": "stderr",
     "output_type": "stream",
     "text": [
      "\r",
      " 87%|████████▋ | 120/138 [00:17<00:02,  7.10it/s]"
     ]
    },
    {
     "name": "stderr",
     "output_type": "stream",
     "text": [
      "\r",
      " 88%|████████▊ | 122/138 [00:18<00:02,  6.64it/s]"
     ]
    },
    {
     "name": "stderr",
     "output_type": "stream",
     "text": [
      "\r",
      " 90%|████████▉ | 124/138 [00:18<00:01,  8.07it/s]"
     ]
    },
    {
     "name": "stderr",
     "output_type": "stream",
     "text": [
      "\r",
      " 92%|█████████▏| 127/138 [00:18<00:01,  8.10it/s]"
     ]
    },
    {
     "name": "stderr",
     "output_type": "stream",
     "text": [
      "\r",
      " 93%|█████████▎| 128/138 [00:19<00:01,  6.17it/s]"
     ]
    },
    {
     "name": "stderr",
     "output_type": "stream",
     "text": [
      "\r",
      " 95%|█████████▍| 131/138 [00:19<00:00,  8.61it/s]"
     ]
    },
    {
     "name": "stderr",
     "output_type": "stream",
     "text": [
      "\r",
      " 96%|█████████▋| 133/138 [00:19<00:00,  7.04it/s]"
     ]
    },
    {
     "name": "stderr",
     "output_type": "stream",
     "text": [
      "\r",
      " 98%|█████████▊| 135/138 [00:20<00:00,  6.41it/s]"
     ]
    },
    {
     "name": "stderr",
     "output_type": "stream",
     "text": [
      "\r",
      " 99%|█████████▊| 136/138 [00:20<00:00,  5.94it/s]"
     ]
    },
    {
     "name": "stderr",
     "output_type": "stream",
     "text": [
      "\r",
      " 99%|█████████▉| 137/138 [00:20<00:00,  3.84it/s]"
     ]
    },
    {
     "name": "stderr",
     "output_type": "stream",
     "text": [
      "\r",
      "100%|██████████| 138/138 [00:20<00:00,  6.60it/s]"
     ]
    },
    {
     "name": "stderr",
     "output_type": "stream",
     "text": [
      "\n"
     ]
    },
    {
     "name": "stdout",
     "output_type": "stream",
     "text": [
      "\n",
      "rate limit: 7 \n",
      "Leeftijdsgroep API calls: create: 0, read: 1, update: 138, delete: 0, backoff: 2\n"
     ]
    },
    {
     "name": "stdout",
     "output_type": "stream",
     "text": [
      "[{'Key': 1, 'Timestamp Leeftijdsgroep RIVM': '2022-01-14 15:15'}]\n"
     ]
    },
    {
     "name": "stdout",
     "output_type": "stream",
     "text": [
      "timestamps: [{'Key': 1, 'Timestamp Leeftijdsgroep RIVM': '2022-01-14 15:15'}]\n",
      "Key                               int64\n",
      "Timestamp Leeftijdsgroep RIVM    object\n",
      "dtype: object\n"
     ]
    },
    {
     "name": "stderr",
     "output_type": "stream",
     "text": [
      "\r",
      "  0%|          | 0/1 [00:00<?, ?it/s]"
     ]
    },
    {
     "name": "stderr",
     "output_type": "stream",
     "text": [
      "\r",
      "100%|██████████| 1/1 [00:01<00:00,  1.11s/it]"
     ]
    },
    {
     "name": "stderr",
     "output_type": "stream",
     "text": [
      "\r",
      "100%|██████████| 1/1 [00:01<00:00,  1.11s/it]"
     ]
    },
    {
     "name": "stdout",
     "output_type": "stream",
     "text": [
      "\n",
      "rate limit: 7 \n",
      "LaatsteUpdate API calls: create: 0, read: 0, update: 1, delete: 0, backoff: 0\n"
     ]
    },
    {
     "name": "stderr",
     "output_type": "stream",
     "text": [
      "\n"
     ]
    },
    {
     "name": "stdout",
     "output_type": "stream",
     "text": [
      "BatchName     object\n",
      "ObjectName    object\n",
      "Source        object\n",
      "Timestamp     object\n",
      "dtype: object\n"
     ]
    },
    {
     "name": "stderr",
     "output_type": "stream",
     "text": [
      "\r",
      "  0%|          | 0/1 [00:00<?, ?it/s]"
     ]
    },
    {
     "name": "stderr",
     "output_type": "stream",
     "text": [
      "\r",
      "100%|██████████| 1/1 [00:01<00:00,  1.15s/it]"
     ]
    },
    {
     "name": "stderr",
     "output_type": "stream",
     "text": [
      "\r",
      "100%|██████████| 1/1 [00:01<00:00,  1.15s/it]"
     ]
    },
    {
     "name": "stdout",
     "output_type": "stream",
     "text": [
      "\n",
      "rate limit: 7 \n",
      "UpdateDetails API calls: create: 1, read: 0, update: 0, delete: 0, backoff: 0\n"
     ]
    },
    {
     "name": "stderr",
     "output_type": "stream",
     "text": [
      "\n"
     ]
    },
    {
     "name": "stdout",
     "output_type": "stream",
     "text": [
      "updating: [{'Key': 1, 'Updating Leeftijdsgroep': 'false'}]\n",
      "Key                         int64\n",
      "Updating Leeftijdsgroep    object\n",
      "dtype: object\n"
     ]
    },
    {
     "name": "stderr",
     "output_type": "stream",
     "text": [
      "\r",
      "  0%|          | 0/1 [00:00<?, ?it/s]"
     ]
    },
    {
     "name": "stderr",
     "output_type": "stream",
     "text": [
      "\r",
      "100%|██████████| 1/1 [00:01<00:00,  1.00s/it]"
     ]
    },
    {
     "name": "stderr",
     "output_type": "stream",
     "text": [
      "\r",
      "100%|██████████| 1/1 [00:01<00:00,  1.00s/it]"
     ]
    },
    {
     "name": "stdout",
     "output_type": "stream",
     "text": [
      "\n",
      "rate limit: 7 \n",
      "LaatsteUpdate API calls: create: 0, read: 0, update: 1, delete: 0, backoff: 0\n"
     ]
    },
    {
     "name": "stderr",
     "output_type": "stream",
     "text": [
      "\n"
     ]
    }
   ],
   "source": [
    "if knack:\n",
    "  await knack.publish(tabel.fillna(0).assign(Datum=tabel.Datum.dt.strftime('%Y-%m-%d')), 'Leeftijdsgroep', Cache)"
   ]
  }
 ],
 "metadata": {
  "jupytext": {
   "cell_metadata_filter": "title,-all"
  },
  "kernelspec": {
   "display_name": "Python 3 (ipykernel)",
   "language": "python",
   "name": "python3"
  },
  "language_info": {
   "codemirror_mode": {
    "name": "ipython",
    "version": 3
   },
   "file_extension": ".py",
   "mimetype": "text/x-python",
   "name": "python",
   "nbconvert_exporter": "python",
   "pygments_lexer": "ipython3",
   "version": "3.9.9"
  },
  "papermill": {
   "default_parameters": {},
   "duration": 615.758951,
   "end_time": "2022-01-14T14:42:22.967378",
   "environment_variables": {},
   "exception": null,
   "input_path": "-",
   "output_path": "LeeftijdsgroepenLandelijk.ipynb",
   "parameters": {},
   "start_time": "2022-01-14T14:32:07.208427",
   "version": "2.3.3"
  }
 },
 "nbformat": 4,
 "nbformat_minor": 5
}