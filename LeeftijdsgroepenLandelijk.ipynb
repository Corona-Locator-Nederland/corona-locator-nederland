{
 "cells": [
  {
   "cell_type": "code",
   "execution_count": 1,
   "id": "7f42deaf",
   "metadata": {
    "execution": {
     "iopub.execute_input": "2021-12-18T21:26:01.853234Z",
     "iopub.status.busy": "2021-12-18T21:26:01.852609Z",
     "iopub.status.idle": "2021-12-18T21:26:05.878790Z",
     "shell.execute_reply": "2021-12-18T21:26:05.878164Z"
    },
    "lines_to_next_cell": 1,
    "papermill": {
     "duration": 4.044708,
     "end_time": "2021-12-18T21:26:05.878956",
     "exception": false,
     "start_time": "2021-12-18T21:26:01.834248",
     "status": "completed"
    },
    "tags": []
   },
   "outputs": [],
   "source": [
    "from IPython import get_ipython\n",
    "from IPython.core.display import display\n",
    "get_ipython().run_line_magic('load_ext', 'autoreload')\n",
    "get_ipython().run_line_magic('autoreload', '2')\n",
    "get_ipython().run_line_magic('run', 'setup')"
   ]
  },
  {
   "cell_type": "code",
   "execution_count": 2,
   "id": "d402f6fe",
   "metadata": {
    "execution": {
     "iopub.execute_input": "2021-12-18T21:26:05.897570Z",
     "iopub.status.busy": "2021-12-18T21:26:05.895049Z",
     "iopub.status.idle": "2021-12-18T21:26:11.123530Z",
     "shell.execute_reply": "2021-12-18T21:26:11.123046Z"
    },
    "lines_to_next_cell": 1,
    "papermill": {
     "duration": 5.238814,
     "end_time": "2021-12-18T21:26:11.123663",
     "exception": false,
     "start_time": "2021-12-18T21:26:05.884849",
     "status": "completed"
    },
    "tags": [],
    "title": "leeftijdsgroepen: download RIVM data"
   },
   "outputs": [
    {
     "name": "stdout",
     "output_type": "stream",
     "text": [
      "rivm/COVID-19_casus_landelijk-2021-12-18@14-15.csv exists\n"
     ]
    },
    {
     "name": "stdout",
     "output_type": "stream",
     "text": [
      "loading rivm/COVID-19_casus_landelijk-2021-12-18@14-15.csv.gz\n"
     ]
    },
    {
     "data": {
      "text/html": [
       "<div>\n",
       "<style scoped>\n",
       "    .dataframe tbody tr th:only-of-type {\n",
       "        vertical-align: middle;\n",
       "    }\n",
       "\n",
       "    .dataframe tbody tr th {\n",
       "        vertical-align: top;\n",
       "    }\n",
       "\n",
       "    .dataframe thead th {\n",
       "        text-align: right;\n",
       "    }\n",
       "</style>\n",
       "<table border=\"1\" class=\"dataframe\">\n",
       "  <thead>\n",
       "    <tr style=\"text-align: right;\">\n",
       "      <th></th>\n",
       "      <th>Date_file</th>\n",
       "      <th>Date_statistics</th>\n",
       "      <th>Date_statistics_type</th>\n",
       "      <th>Agegroup</th>\n",
       "      <th>Sex</th>\n",
       "      <th>Province</th>\n",
       "      <th>Hospital_admission</th>\n",
       "      <th>Deceased</th>\n",
       "      <th>Week_of_death</th>\n",
       "      <th>Municipal_health_service</th>\n",
       "    </tr>\n",
       "  </thead>\n",
       "  <tbody>\n",
       "    <tr>\n",
       "      <th>0</th>\n",
       "      <td>2021-12-18 10:00:00</td>\n",
       "      <td>2020-01-01</td>\n",
       "      <td>DOO</td>\n",
       "      <td>40-49</td>\n",
       "      <td>Female</td>\n",
       "      <td>Noord-Holland</td>\n",
       "      <td>No</td>\n",
       "      <td>No</td>\n",
       "      <td>NaN</td>\n",
       "      <td>GGD Amsterdam</td>\n",
       "    </tr>\n",
       "    <tr>\n",
       "      <th>1</th>\n",
       "      <td>2021-12-18 10:00:00</td>\n",
       "      <td>2020-01-01</td>\n",
       "      <td>DOO</td>\n",
       "      <td>50-59</td>\n",
       "      <td>Male</td>\n",
       "      <td>Gelderland</td>\n",
       "      <td>No</td>\n",
       "      <td>No</td>\n",
       "      <td>NaN</td>\n",
       "      <td>Veiligheids- en Gezondheidsregio Gelderland-Mi...</td>\n",
       "    </tr>\n",
       "    <tr>\n",
       "      <th>2</th>\n",
       "      <td>2021-12-18 10:00:00</td>\n",
       "      <td>2020-01-01</td>\n",
       "      <td>DOO</td>\n",
       "      <td>20-29</td>\n",
       "      <td>Female</td>\n",
       "      <td>Zuid-Holland</td>\n",
       "      <td>No</td>\n",
       "      <td>No</td>\n",
       "      <td>NaN</td>\n",
       "      <td>GGD Hollands-Midden</td>\n",
       "    </tr>\n",
       "    <tr>\n",
       "      <th>3</th>\n",
       "      <td>2021-12-18 10:00:00</td>\n",
       "      <td>2020-01-01</td>\n",
       "      <td>DOO</td>\n",
       "      <td>60-69</td>\n",
       "      <td>Female</td>\n",
       "      <td>Noord-Holland</td>\n",
       "      <td>No</td>\n",
       "      <td>No</td>\n",
       "      <td>NaN</td>\n",
       "      <td>GGD Hollands-Noorden</td>\n",
       "    </tr>\n",
       "    <tr>\n",
       "      <th>4</th>\n",
       "      <td>2021-12-18 10:00:00</td>\n",
       "      <td>2020-01-04</td>\n",
       "      <td>DOO</td>\n",
       "      <td>10-19</td>\n",
       "      <td>Female</td>\n",
       "      <td>Gelderland</td>\n",
       "      <td>Unknown</td>\n",
       "      <td>No</td>\n",
       "      <td>NaN</td>\n",
       "      <td>GGD Gelderland-Zuid</td>\n",
       "    </tr>\n",
       "  </tbody>\n",
       "</table>\n",
       "</div>"
      ],
      "text/plain": [
       "             Date_file Date_statistics Date_statistics_type Agegroup     Sex  \\\n",
       "0  2021-12-18 10:00:00      2020-01-01                  DOO    40-49  Female   \n",
       "1  2021-12-18 10:00:00      2020-01-01                  DOO    50-59    Male   \n",
       "2  2021-12-18 10:00:00      2020-01-01                  DOO    20-29  Female   \n",
       "3  2021-12-18 10:00:00      2020-01-01                  DOO    60-69  Female   \n",
       "4  2021-12-18 10:00:00      2020-01-04                  DOO    10-19  Female   \n",
       "\n",
       "        Province Hospital_admission Deceased  Week_of_death  \\\n",
       "0  Noord-Holland                 No       No            NaN   \n",
       "1     Gelderland                 No       No            NaN   \n",
       "2   Zuid-Holland                 No       No            NaN   \n",
       "3  Noord-Holland                 No       No            NaN   \n",
       "4     Gelderland            Unknown       No            NaN   \n",
       "\n",
       "                            Municipal_health_service  \n",
       "0                                      GGD Amsterdam  \n",
       "1  Veiligheids- en Gezondheidsregio Gelderland-Mi...  \n",
       "2                                GGD Hollands-Midden  \n",
       "3                               GGD Hollands-Noorden  \n",
       "4                                GGD Gelderland-Zuid  "
      ]
     },
     "metadata": {},
     "output_type": "display_data"
    }
   ],
   "source": [
    "#leeftijdsgroepen = SimpleNamespace()\n",
    "@run\n",
    "def cell():\n",
    "  global rivm\n",
    "  rivm = RIVM.csv('COVID-19_casus_landelijk')\n",
    "  display(rivm.head())"
   ]
  },
  {
   "cell_type": "code",
   "execution_count": 3,
   "id": "58cdbb77",
   "metadata": {
    "execution": {
     "iopub.execute_input": "2021-12-18T21:26:11.144946Z",
     "iopub.status.busy": "2021-12-18T21:26:11.142929Z",
     "iopub.status.idle": "2021-12-18T21:26:14.127561Z",
     "shell.execute_reply": "2021-12-18T21:26:14.127038Z"
    },
    "lines_to_next_cell": 1,
    "papermill": {
     "duration": 2.996697,
     "end_time": "2021-12-18T21:26:14.127699",
     "exception": false,
     "start_time": "2021-12-18T21:26:11.131002",
     "status": "completed"
    },
    "tags": [],
    "title": "Download de bevolkings cijfers van CBS, uitgesplitst op de leeftijds categorien in de dataset van het RIVM"
   },
   "outputs": [],
   "source": [
    "@run\n",
    "def cell():\n",
    "  global bevolking\n",
    "  bevolking = CBS.bevolking(leeftijdsgroepen=True)"
   ]
  },
  {
   "cell_type": "code",
   "execution_count": 4,
   "id": "6fc8aa40",
   "metadata": {
    "execution": {
     "iopub.execute_input": "2021-12-18T21:26:14.145048Z",
     "iopub.status.busy": "2021-12-18T21:26:14.144455Z",
     "iopub.status.idle": "2021-12-18T21:26:27.064456Z",
     "shell.execute_reply": "2021-12-18T21:26:27.063981Z"
    },
    "lines_to_next_cell": 1,
    "papermill": {
     "duration": 12.930269,
     "end_time": "2021-12-18T21:26:27.064590",
     "exception": false,
     "start_time": "2021-12-18T21:26:14.134321",
     "status": "completed"
    },
    "tags": [],
    "title": "leeftijdsgroepen: prepareer tabel"
   },
   "outputs": [
    {
     "data": {
      "text/html": [
       "<style type=\"text/css\">\n",
       "#T_e210a_row0_col7 {\n",
       "  background-color: #481b6d;\n",
       "  color: #f1f1f1;\n",
       "}\n",
       "#T_e210a_row0_col8 {\n",
       "  background-color: #471063;\n",
       "  color: #f1f1f1;\n",
       "}\n",
       "#T_e210a_row0_col9 {\n",
       "  background-color: #424186;\n",
       "  color: #f1f1f1;\n",
       "}\n",
       "#T_e210a_row0_col10, #T_e210a_row1_col10, #T_e210a_row2_col10, #T_e210a_row3_col8, #T_e210a_row4_col8 {\n",
       "  background-color: #440154;\n",
       "  color: #f1f1f1;\n",
       "}\n",
       "#T_e210a_row0_col11 {\n",
       "  background-color: #482979;\n",
       "  color: #f1f1f1;\n",
       "}\n",
       "#T_e210a_row0_col12 {\n",
       "  background-color: #30698e;\n",
       "  color: #f1f1f1;\n",
       "}\n",
       "#T_e210a_row0_col13 {\n",
       "  background-color: #1f978b;\n",
       "  color: #f1f1f1;\n",
       "}\n",
       "#T_e210a_row0_col14 {\n",
       "  background-color: #4cc26c;\n",
       "  color: #000000;\n",
       "}\n",
       "#T_e210a_row0_col15 {\n",
       "  background-color: #a2da37;\n",
       "  color: #000000;\n",
       "}\n",
       "#T_e210a_row0_col16, #T_e210a_row1_col16 {\n",
       "  background-color: #e2e418;\n",
       "  color: #000000;\n",
       "}\n",
       "#T_e210a_row0_col17, #T_e210a_row1_col17, #T_e210a_row2_col17, #T_e210a_row3_col17, #T_e210a_row4_col17 {\n",
       "  background-color: #fde725;\n",
       "  color: #000000;\n",
       "}\n",
       "#T_e210a_row1_col7, #T_e210a_row1_col11 {\n",
       "  background-color: #481d6f;\n",
       "  color: #f1f1f1;\n",
       "}\n",
       "#T_e210a_row1_col8, #T_e210a_row2_col11, #T_e210a_row3_col10 {\n",
       "  background-color: #481769;\n",
       "  color: #f1f1f1;\n",
       "}\n",
       "#T_e210a_row1_col9, #T_e210a_row3_col9, #T_e210a_row4_col7 {\n",
       "  background-color: #38598c;\n",
       "  color: #f1f1f1;\n",
       "}\n",
       "#T_e210a_row1_col12 {\n",
       "  background-color: #31668e;\n",
       "  color: #f1f1f1;\n",
       "}\n",
       "#T_e210a_row1_col13 {\n",
       "  background-color: #228c8d;\n",
       "  color: #f1f1f1;\n",
       "}\n",
       "#T_e210a_row1_col14 {\n",
       "  background-color: #3fbc73;\n",
       "  color: #f1f1f1;\n",
       "}\n",
       "#T_e210a_row1_col15 {\n",
       "  background-color: #95d840;\n",
       "  color: #000000;\n",
       "}\n",
       "#T_e210a_row2_col7 {\n",
       "  background-color: #472f7d;\n",
       "  color: #f1f1f1;\n",
       "}\n",
       "#T_e210a_row2_col8 {\n",
       "  background-color: #460b5e;\n",
       "  color: #f1f1f1;\n",
       "}\n",
       "#T_e210a_row2_col9 {\n",
       "  background-color: #39568c;\n",
       "  color: #f1f1f1;\n",
       "}\n",
       "#T_e210a_row2_col12 {\n",
       "  background-color: #34608d;\n",
       "  color: #f1f1f1;\n",
       "}\n",
       "#T_e210a_row2_col13 {\n",
       "  background-color: #238a8d;\n",
       "  color: #f1f1f1;\n",
       "}\n",
       "#T_e210a_row2_col14 {\n",
       "  background-color: #3bbb75;\n",
       "  color: #f1f1f1;\n",
       "}\n",
       "#T_e210a_row2_col15 {\n",
       "  background-color: #8ed645;\n",
       "  color: #000000;\n",
       "}\n",
       "#T_e210a_row2_col16, #T_e210a_row3_col16 {\n",
       "  background-color: #dde318;\n",
       "  color: #000000;\n",
       "}\n",
       "#T_e210a_row3_col7 {\n",
       "  background-color: #443b84;\n",
       "  color: #f1f1f1;\n",
       "}\n",
       "#T_e210a_row3_col11 {\n",
       "  background-color: #481a6c;\n",
       "  color: #f1f1f1;\n",
       "}\n",
       "#T_e210a_row3_col12 {\n",
       "  background-color: #355e8d;\n",
       "  color: #f1f1f1;\n",
       "}\n",
       "#T_e210a_row3_col13 {\n",
       "  background-color: #23888e;\n",
       "  color: #f1f1f1;\n",
       "}\n",
       "#T_e210a_row3_col14 {\n",
       "  background-color: #38b977;\n",
       "  color: #f1f1f1;\n",
       "}\n",
       "#T_e210a_row3_col15, #T_e210a_row4_col15 {\n",
       "  background-color: #8bd646;\n",
       "  color: #000000;\n",
       "}\n",
       "#T_e210a_row4_col9 {\n",
       "  background-color: #414487;\n",
       "  color: #f1f1f1;\n",
       "}\n",
       "#T_e210a_row4_col10 {\n",
       "  background-color: #482677;\n",
       "  color: #f1f1f1;\n",
       "}\n",
       "#T_e210a_row4_col11 {\n",
       "  background-color: #463480;\n",
       "  color: #f1f1f1;\n",
       "}\n",
       "#T_e210a_row4_col12 {\n",
       "  background-color: #31678e;\n",
       "  color: #f1f1f1;\n",
       "}\n",
       "#T_e210a_row4_col13 {\n",
       "  background-color: #24868e;\n",
       "  color: #f1f1f1;\n",
       "}\n",
       "#T_e210a_row4_col14 {\n",
       "  background-color: #35b779;\n",
       "  color: #f1f1f1;\n",
       "}\n",
       "#T_e210a_row4_col16 {\n",
       "  background-color: #dfe318;\n",
       "  color: #000000;\n",
       "}\n",
       "</style>\n",
       "<table id=\"T_e210a_\">\n",
       "  <thead>\n",
       "    <tr>\n",
       "      <th class=\"blank level0\" >&nbsp;</th>\n",
       "      <th class=\"col_heading level0 col0\" >Key</th>\n",
       "      <th class=\"col_heading level0 col1\" >Weken terug</th>\n",
       "      <th class=\"col_heading level0 col2\" >Datum</th>\n",
       "      <th class=\"col_heading level0 col3\" >Periode</th>\n",
       "      <th class=\"col_heading level0 col4\" >Gemiddelde leeftijd</th>\n",
       "      <th class=\"col_heading level0 col5\" >Totaal</th>\n",
       "      <th class=\"col_heading level0 col6\" >Type</th>\n",
       "      <th class=\"col_heading level0 col7\" >0-9</th>\n",
       "      <th class=\"col_heading level0 col8\" >10-19</th>\n",
       "      <th class=\"col_heading level0 col9\" >20-29</th>\n",
       "      <th class=\"col_heading level0 col10\" >30-39</th>\n",
       "      <th class=\"col_heading level0 col11\" >40-49</th>\n",
       "      <th class=\"col_heading level0 col12\" >50-59</th>\n",
       "      <th class=\"col_heading level0 col13\" >60-69</th>\n",
       "      <th class=\"col_heading level0 col14\" >70-79</th>\n",
       "      <th class=\"col_heading level0 col15\" >80-89</th>\n",
       "      <th class=\"col_heading level0 col16\" >90+</th>\n",
       "      <th class=\"col_heading level0 col17\" >Onbekend</th>\n",
       "      <th class=\"col_heading level0 col18\" >c0-9</th>\n",
       "      <th class=\"col_heading level0 col19\" >c10-19</th>\n",
       "      <th class=\"col_heading level0 col20\" >c20-29</th>\n",
       "      <th class=\"col_heading level0 col21\" >c30-39</th>\n",
       "      <th class=\"col_heading level0 col22\" >c40-49</th>\n",
       "      <th class=\"col_heading level0 col23\" >c50-59</th>\n",
       "      <th class=\"col_heading level0 col24\" >c60-69</th>\n",
       "      <th class=\"col_heading level0 col25\" >c70-79</th>\n",
       "      <th class=\"col_heading level0 col26\" >c80-89</th>\n",
       "      <th class=\"col_heading level0 col27\" >c90+</th>\n",
       "      <th class=\"col_heading level0 col28\" >cOnbekend</th>\n",
       "    </tr>\n",
       "  </thead>\n",
       "  <tbody>\n",
       "    <tr>\n",
       "      <th id=\"T_e210a_level0_row0\" class=\"row_heading level0 row0\" >0</th>\n",
       "      <td id=\"T_e210a_row0_col0\" class=\"data row0 col0\" >p000</td>\n",
       "      <td id=\"T_e210a_row0_col1\" class=\"data row0 col1\" >0</td>\n",
       "      <td id=\"T_e210a_row0_col2\" class=\"data row0 col2\" >2021-12-18 00:00:00</td>\n",
       "      <td id=\"T_e210a_row0_col3\" class=\"data row0 col3\" >12/12-18/12</td>\n",
       "      <td id=\"T_e210a_row0_col4\" class=\"data row0 col4\" >35.300000</td>\n",
       "      <td id=\"T_e210a_row0_col5\" class=\"data row0 col5\" >57438.000000</td>\n",
       "      <td id=\"T_e210a_row0_col6\" class=\"data row0 col6\" >Positief getest</td>\n",
       "      <td id=\"T_e210a_row0_col7\" class=\"data row0 col7\" >8638.000000</td>\n",
       "      <td id=\"T_e210a_row0_col8\" class=\"data row0 col8\" >8923.000000</td>\n",
       "      <td id=\"T_e210a_row0_col9\" class=\"data row0 col9\" >7487.000000</td>\n",
       "      <td id=\"T_e210a_row0_col10\" class=\"data row0 col10\" >9299.000000</td>\n",
       "      <td id=\"T_e210a_row0_col11\" class=\"data row0 col11\" >8237.000000</td>\n",
       "      <td id=\"T_e210a_row0_col12\" class=\"data row0 col12\" >6143.000000</td>\n",
       "      <td id=\"T_e210a_row0_col13\" class=\"data row0 col13\" >4380.000000</td>\n",
       "      <td id=\"T_e210a_row0_col14\" class=\"data row0 col14\" >2617.000000</td>\n",
       "      <td id=\"T_e210a_row0_col15\" class=\"data row0 col15\" >1292.000000</td>\n",
       "      <td id=\"T_e210a_row0_col16\" class=\"data row0 col16\" >421.000000</td>\n",
       "      <td id=\"T_e210a_row0_col17\" class=\"data row0 col17\" >1.000000</td>\n",
       "      <td id=\"T_e210a_row0_col18\" class=\"data row0 col18\" >928</td>\n",
       "      <td id=\"T_e210a_row0_col19\" class=\"data row0 col19\" >959</td>\n",
       "      <td id=\"T_e210a_row0_col20\" class=\"data row0 col20\" >805</td>\n",
       "      <td id=\"T_e210a_row0_col21\" class=\"data row0 col21\" >1000</td>\n",
       "      <td id=\"T_e210a_row0_col22\" class=\"data row0 col22\" >885</td>\n",
       "      <td id=\"T_e210a_row0_col23\" class=\"data row0 col23\" >660</td>\n",
       "      <td id=\"T_e210a_row0_col24\" class=\"data row0 col24\" >471</td>\n",
       "      <td id=\"T_e210a_row0_col25\" class=\"data row0 col25\" >281</td>\n",
       "      <td id=\"T_e210a_row0_col26\" class=\"data row0 col26\" >138</td>\n",
       "      <td id=\"T_e210a_row0_col27\" class=\"data row0 col27\" >45</td>\n",
       "      <td id=\"T_e210a_row0_col28\" class=\"data row0 col28\" >0</td>\n",
       "    </tr>\n",
       "    <tr>\n",
       "      <th id=\"T_e210a_level0_row1\" class=\"row_heading level0 row1\" >1</th>\n",
       "      <td id=\"T_e210a_row1_col0\" class=\"data row1 col0\" >p001</td>\n",
       "      <td id=\"T_e210a_row1_col1\" class=\"data row1 col1\" >1</td>\n",
       "      <td id=\"T_e210a_row1_col2\" class=\"data row1 col2\" >2021-12-18 00:00:00</td>\n",
       "      <td id=\"T_e210a_row1_col3\" class=\"data row1 col3\" >05/12-11/12</td>\n",
       "      <td id=\"T_e210a_row1_col4\" class=\"data row1 col4\" >36.200000</td>\n",
       "      <td id=\"T_e210a_row1_col5\" class=\"data row1 col5\" >114936.000000</td>\n",
       "      <td id=\"T_e210a_row1_col6\" class=\"data row1 col6\" >Positief getest</td>\n",
       "      <td id=\"T_e210a_row1_col7\" class=\"data row1 col7\" >17015.000000</td>\n",
       "      <td id=\"T_e210a_row1_col8\" class=\"data row1 col8\" >17389.000000</td>\n",
       "      <td id=\"T_e210a_row1_col9\" class=\"data row1 col9\" >13401.000000</td>\n",
       "      <td id=\"T_e210a_row1_col10\" class=\"data row1 col10\" >18513.000000</td>\n",
       "      <td id=\"T_e210a_row1_col11\" class=\"data row1 col11\" >17041.000000</td>\n",
       "      <td id=\"T_e210a_row1_col12\" class=\"data row1 col12\" >12456.000000</td>\n",
       "      <td id=\"T_e210a_row1_col13\" class=\"data row1 col13\" >9610.000000</td>\n",
       "      <td id=\"T_e210a_row1_col14\" class=\"data row1 col14\" >5720.000000</td>\n",
       "      <td id=\"T_e210a_row1_col15\" class=\"data row1 col15\" >2928.000000</td>\n",
       "      <td id=\"T_e210a_row1_col16\" class=\"data row1 col16\" >862.000000</td>\n",
       "      <td id=\"T_e210a_row1_col17\" class=\"data row1 col17\" >1.000000</td>\n",
       "      <td id=\"T_e210a_row1_col18\" class=\"data row1 col18\" >919</td>\n",
       "      <td id=\"T_e210a_row1_col19\" class=\"data row1 col19\" >939</td>\n",
       "      <td id=\"T_e210a_row1_col20\" class=\"data row1 col20\" >723</td>\n",
       "      <td id=\"T_e210a_row1_col21\" class=\"data row1 col21\" >1000</td>\n",
       "      <td id=\"T_e210a_row1_col22\" class=\"data row1 col22\" >920</td>\n",
       "      <td id=\"T_e210a_row1_col23\" class=\"data row1 col23\" >672</td>\n",
       "      <td id=\"T_e210a_row1_col24\" class=\"data row1 col24\" >519</td>\n",
       "      <td id=\"T_e210a_row1_col25\" class=\"data row1 col25\" >308</td>\n",
       "      <td id=\"T_e210a_row1_col26\" class=\"data row1 col26\" >158</td>\n",
       "      <td id=\"T_e210a_row1_col27\" class=\"data row1 col27\" >46</td>\n",
       "      <td id=\"T_e210a_row1_col28\" class=\"data row1 col28\" >0</td>\n",
       "    </tr>\n",
       "    <tr>\n",
       "      <th id=\"T_e210a_level0_row2\" class=\"row_heading level0 row2\" >2</th>\n",
       "      <td id=\"T_e210a_row2_col0\" class=\"data row2 col0\" >p002</td>\n",
       "      <td id=\"T_e210a_row2_col1\" class=\"data row2 col1\" >2</td>\n",
       "      <td id=\"T_e210a_row2_col2\" class=\"data row2 col2\" >2021-12-18 00:00:00</td>\n",
       "      <td id=\"T_e210a_row2_col3\" class=\"data row2 col3\" >28/11-04/12</td>\n",
       "      <td id=\"T_e210a_row2_col4\" class=\"data row2 col4\" >36.700000</td>\n",
       "      <td id=\"T_e210a_row2_col5\" class=\"data row2 col5\" >141637.000000</td>\n",
       "      <td id=\"T_e210a_row2_col6\" class=\"data row2 col6\" >Positief getest</td>\n",
       "      <td id=\"T_e210a_row2_col7\" class=\"data row2 col7\" >19507.000000</td>\n",
       "      <td id=\"T_e210a_row2_col8\" class=\"data row2 col8\" >21913.000000</td>\n",
       "      <td id=\"T_e210a_row2_col9\" class=\"data row2 col9\" >16567.000000</td>\n",
       "      <td id=\"T_e210a_row2_col10\" class=\"data row2 col10\" >22588.000000</td>\n",
       "      <td id=\"T_e210a_row2_col11\" class=\"data row2 col11\" >21249.000000</td>\n",
       "      <td id=\"T_e210a_row2_col12\" class=\"data row2 col12\" >15754.000000</td>\n",
       "      <td id=\"T_e210a_row2_col13\" class=\"data row2 col13\" >11846.000000</td>\n",
       "      <td id=\"T_e210a_row2_col14\" class=\"data row2 col14\" >7160.000000</td>\n",
       "      <td id=\"T_e210a_row2_col15\" class=\"data row2 col15\" >3862.000000</td>\n",
       "      <td id=\"T_e210a_row2_col16\" class=\"data row2 col16\" >1188.000000</td>\n",
       "      <td id=\"T_e210a_row2_col17\" class=\"data row2 col17\" >3.000000</td>\n",
       "      <td id=\"T_e210a_row2_col18\" class=\"data row2 col18\" >863</td>\n",
       "      <td id=\"T_e210a_row2_col19\" class=\"data row2 col19\" >970</td>\n",
       "      <td id=\"T_e210a_row2_col20\" class=\"data row2 col20\" >733</td>\n",
       "      <td id=\"T_e210a_row2_col21\" class=\"data row2 col21\" >1000</td>\n",
       "      <td id=\"T_e210a_row2_col22\" class=\"data row2 col22\" >940</td>\n",
       "      <td id=\"T_e210a_row2_col23\" class=\"data row2 col23\" >697</td>\n",
       "      <td id=\"T_e210a_row2_col24\" class=\"data row2 col24\" >524</td>\n",
       "      <td id=\"T_e210a_row2_col25\" class=\"data row2 col25\" >316</td>\n",
       "      <td id=\"T_e210a_row2_col26\" class=\"data row2 col26\" >170</td>\n",
       "      <td id=\"T_e210a_row2_col27\" class=\"data row2 col27\" >52</td>\n",
       "      <td id=\"T_e210a_row2_col28\" class=\"data row2 col28\" >0</td>\n",
       "    </tr>\n",
       "    <tr>\n",
       "      <th id=\"T_e210a_level0_row3\" class=\"row_heading level0 row3\" >3</th>\n",
       "      <td id=\"T_e210a_row3_col0\" class=\"data row3 col0\" >p003</td>\n",
       "      <td id=\"T_e210a_row3_col1\" class=\"data row3 col1\" >3</td>\n",
       "      <td id=\"T_e210a_row3_col2\" class=\"data row3 col2\" >2021-12-18 00:00:00</td>\n",
       "      <td id=\"T_e210a_row3_col3\" class=\"data row3 col3\" >21/11-27/11</td>\n",
       "      <td id=\"T_e210a_row3_col4\" class=\"data row3 col4\" >36.900000</td>\n",
       "      <td id=\"T_e210a_row3_col5\" class=\"data row3 col5\" >150434.000000</td>\n",
       "      <td id=\"T_e210a_row3_col6\" class=\"data row3 col6\" >Positief getest</td>\n",
       "      <td id=\"T_e210a_row3_col7\" class=\"data row3 col7\" >20027.000000</td>\n",
       "      <td id=\"T_e210a_row3_col8\" class=\"data row3 col8\" >24196.000000</td>\n",
       "      <td id=\"T_e210a_row3_col9\" class=\"data row3 col9\" >17571.000000</td>\n",
       "      <td id=\"T_e210a_row3_col10\" class=\"data row3 col10\" >22770.000000</td>\n",
       "      <td id=\"T_e210a_row3_col11\" class=\"data row3 col11\" >22580.000000</td>\n",
       "      <td id=\"T_e210a_row3_col12\" class=\"data row3 col12\" >17093.000000</td>\n",
       "      <td id=\"T_e210a_row3_col13\" class=\"data row3 col13\" >12891.000000</td>\n",
       "      <td id=\"T_e210a_row3_col14\" class=\"data row3 col14\" >7860.000000</td>\n",
       "      <td id=\"T_e210a_row3_col15\" class=\"data row3 col15\" >4182.000000</td>\n",
       "      <td id=\"T_e210a_row3_col16\" class=\"data row3 col16\" >1261.000000</td>\n",
       "      <td id=\"T_e210a_row3_col17\" class=\"data row3 col17\" >3.000000</td>\n",
       "      <td id=\"T_e210a_row3_col18\" class=\"data row3 col18\" >827</td>\n",
       "      <td id=\"T_e210a_row3_col19\" class=\"data row3 col19\" >1000</td>\n",
       "      <td id=\"T_e210a_row3_col20\" class=\"data row3 col20\" >726</td>\n",
       "      <td id=\"T_e210a_row3_col21\" class=\"data row3 col21\" >941</td>\n",
       "      <td id=\"T_e210a_row3_col22\" class=\"data row3 col22\" >933</td>\n",
       "      <td id=\"T_e210a_row3_col23\" class=\"data row3 col23\" >706</td>\n",
       "      <td id=\"T_e210a_row3_col24\" class=\"data row3 col24\" >532</td>\n",
       "      <td id=\"T_e210a_row3_col25\" class=\"data row3 col25\" >324</td>\n",
       "      <td id=\"T_e210a_row3_col26\" class=\"data row3 col26\" >172</td>\n",
       "      <td id=\"T_e210a_row3_col27\" class=\"data row3 col27\" >52</td>\n",
       "      <td id=\"T_e210a_row3_col28\" class=\"data row3 col28\" >0</td>\n",
       "    </tr>\n",
       "    <tr>\n",
       "      <th id=\"T_e210a_level0_row4\" class=\"row_heading level0 row4\" >4</th>\n",
       "      <td id=\"T_e210a_row4_col0\" class=\"data row4 col0\" >p004</td>\n",
       "      <td id=\"T_e210a_row4_col1\" class=\"data row4 col1\" >4</td>\n",
       "      <td id=\"T_e210a_row4_col2\" class=\"data row4 col2\" >2021-12-18 00:00:00</td>\n",
       "      <td id=\"T_e210a_row4_col3\" class=\"data row4 col3\" >14/11-20/11</td>\n",
       "      <td id=\"T_e210a_row4_col4\" class=\"data row4 col4\" >37.200000</td>\n",
       "      <td id=\"T_e210a_row4_col5\" class=\"data row4 col5\" >154724.000000</td>\n",
       "      <td id=\"T_e210a_row4_col6\" class=\"data row4 col6\" >Positief getest</td>\n",
       "      <td id=\"T_e210a_row4_col7\" class=\"data row4 col7\" >18593.000000</td>\n",
       "      <td id=\"T_e210a_row4_col8\" class=\"data row4 col8\" >25657.000000</td>\n",
       "      <td id=\"T_e210a_row4_col9\" class=\"data row4 col9\" >20447.000000</td>\n",
       "      <td id=\"T_e210a_row4_col10\" class=\"data row4 col10\" >22929.000000</td>\n",
       "      <td id=\"T_e210a_row4_col11\" class=\"data row4 col11\" >21774.000000</td>\n",
       "      <td id=\"T_e210a_row4_col12\" class=\"data row4 col12\" >17226.000000</td>\n",
       "      <td id=\"T_e210a_row4_col13\" class=\"data row4 col13\" >13849.000000</td>\n",
       "      <td id=\"T_e210a_row4_col14\" class=\"data row4 col14\" >8565.000000</td>\n",
       "      <td id=\"T_e210a_row4_col15\" class=\"data row4 col15\" >4425.000000</td>\n",
       "      <td id=\"T_e210a_row4_col16\" class=\"data row4 col16\" >1255.000000</td>\n",
       "      <td id=\"T_e210a_row4_col17\" class=\"data row4 col17\" >4.000000</td>\n",
       "      <td id=\"T_e210a_row4_col18\" class=\"data row4 col18\" >724</td>\n",
       "      <td id=\"T_e210a_row4_col19\" class=\"data row4 col19\" >1000</td>\n",
       "      <td id=\"T_e210a_row4_col20\" class=\"data row4 col20\" >796</td>\n",
       "      <td id=\"T_e210a_row4_col21\" class=\"data row4 col21\" >893</td>\n",
       "      <td id=\"T_e210a_row4_col22\" class=\"data row4 col22\" >848</td>\n",
       "      <td id=\"T_e210a_row4_col23\" class=\"data row4 col23\" >671</td>\n",
       "      <td id=\"T_e210a_row4_col24\" class=\"data row4 col24\" >539</td>\n",
       "      <td id=\"T_e210a_row4_col25\" class=\"data row4 col25\" >333</td>\n",
       "      <td id=\"T_e210a_row4_col26\" class=\"data row4 col26\" >172</td>\n",
       "      <td id=\"T_e210a_row4_col27\" class=\"data row4 col27\" >48</td>\n",
       "      <td id=\"T_e210a_row4_col28\" class=\"data row4 col28\" >0</td>\n",
       "    </tr>\n",
       "  </tbody>\n",
       "</table>\n"
      ],
      "text/plain": [
       "<pandas.io.formats.style.Styler at 0x7f3db4467bb0>"
      ]
     },
     "metadata": {},
     "output_type": "display_data"
    }
   ],
   "source": [
    "# Bereken de stand van zaken van besmettingen / hospitalisaties / overlijden, per cohort in absolute aantallen en aantallen per 100k, met een kleur indicator voor de aantallen.\n",
    "# vervang <50 en Unknown door Onbekend\n",
    "@run\n",
    "def cell():\n",
    "  rivm['Cohort'] = rivm['Agegroup'].replace({'<50': 'Onbekend', 'Unknown': 'Onbekend'})\n",
    "  # aangenomen 'gemiddelde' leeftijd van een cohort: minimum waarde + 5\n",
    "  assumed_cohort_age = [(cohort, [int(n) for n in cohort.replace('+', '').split('-')]) for cohort in rivm['Cohort'].unique() if cohort[0].isdigit()]\n",
    "  assumed_cohort_age = { cohort: min(rng) + 5 for cohort, rng in assumed_cohort_age }\n",
    "  rivm['Gemiddelde leeftijd'] = rivm['Cohort'].apply(lambda x: assumed_cohort_age.get(x, np.nan))\n",
    "\n",
    "  # verwijder tijd\n",
    "  rivm['Date_file_date'] = pd.to_datetime(rivm['Date_file'].replace(r' .*', '', regex=True))\n",
    "\n",
    "  rivm['Date_statistics_date'] = pd.to_datetime(rivm['Date_statistics'])\n",
    "\n",
    "  # weken terug = verschil tussen Date_file en Date_statistcs, gedeeld door 7 dagen\n",
    "  rivm['Weken terug'] = np.floor((rivm['Date_file_date'] - rivm['Date_statistics_date'])/np.timedelta64(7, 'D')).astype(int)\n",
    "\n",
    "  # voeg key, gem leeftijd, kleurnummer en totaal toe\n",
    "  Date_file = rivm['Date_file_date'].unique()[0].astype('M8[D]').astype('O')\n",
    "  cohorten = list(bevolking.index) + ['Onbekend']\n",
    "  def summarize(df, category, prefix):\n",
    "    # aangezien we hier de dataframe in-place wijzigen (bijv door toevoegen kolommen)\n",
    "    # en we het 'rivm' frame later nog clean nodig hebben\n",
    "    df = df.copy(deep=True)\n",
    "\n",
    "    df = (df\n",
    "          .groupby(['Weken terug', 'Cohort'])['count']\n",
    "          .sum()\n",
    "          .unstack(fill_value=np.nan)\n",
    "          .reset_index()\n",
    "          .rename_axis(None, axis=1)\n",
    "        ).merge(df\n",
    "          # we voegen hier gemiddelde leeftijd toe, want die willen we op een ander\n",
    "          # niveau aggregeren voor 'df' overschreven word\n",
    "          .groupby(['Weken terug'])['Gemiddelde leeftijd']\n",
    "          .mean()\n",
    "          .to_frame(), on='Weken terug'\n",
    "        )\n",
    "\n",
    "    # altijd 52 rijen\n",
    "    df = pd.Series(np.arange(52), name='Weken terug').to_frame().merge(df, how='left', on='Weken terug')\n",
    "\n",
    "    # toevoegen missende cohorten\n",
    "    for col in cohorten:\n",
    "      if not col in df:\n",
    "        df[col] = np.nan\n",
    "\n",
    "    # sommeer per rij (axis=1) over de cohorten om een totaal te krijgen\n",
    "    df['Totaal'] = df[cohorten].sum(axis=1)\n",
    "\n",
    "    # voeg periode en datum toe\n",
    "    # periode afgeleid van weken-terug (= de index voor deze dataframe)\n",
    "    df['Datum'] = pd.to_datetime(Date_file)\n",
    "    df['Periode'] = (df\n",
    "      .index.to_series()\n",
    "      .apply(\n",
    "        lambda x: (\n",
    "          (Date_file + datetime.timedelta(weeks=-(x+1), days=1)).strftime('%d/%m')\n",
    "          + '-'\n",
    "          + (Date_file + datetime.timedelta(weeks=-x)).strftime('%d/%m')\n",
    "        )\n",
    "      )\n",
    "    )\n",
    "\n",
    "    # voeg 'Key' en 'Type' kolom toe. Variabele 'type' kan niet, is een language primitive.\n",
    "    df['Key'] = prefix + df.index.astype(str).str.rjust(3, fillchar='0')\n",
    "    df['Type'] = category\n",
    "\n",
    "    # voeg de kleur kolommen toe\n",
    "    for col in cohorten:\n",
    "      df['c' + col] = ((df[col] / df[[col for col in cohorten]].max(axis=1)) * 1000).fillna(0).astype(int)\n",
    "\n",
    "    # herschikken van de kolommen\n",
    "    colorder = ['Key', 'Weken terug', 'Datum', 'Periode', 'Gemiddelde leeftijd', 'Totaal', 'Type']\n",
    "    return df[colorder + [col for col in df if col not in colorder]]\n",
    "\n",
    "  factor = bevolking.to_dict()['per 100k']\n",
    "  global tabel\n",
    "  tabel = pd.concat(\n",
    "    # flatten the result list zodat pd.concat ze onder elkaar kan plakken\n",
    "    functools.reduce(lambda a, b: a + b, [\n",
    "      [summarize(df.assign(count=1), label, prefix), summarize(df.assign(count=df['Cohort'].apply(lambda x: factor.get(x, np.nan))), label + ' per 100.000', prefix + '100k')]\n",
    "      for df, label, prefix in [\n",
    "        (rivm, 'Positief getest', 'p'), # volledige count per cohort\n",
    "        (rivm[rivm.Hospital_admission == 'Yes'], 'Ziekenhuisopname', 'h'), # count van cohort voor Hospital_admission == 'Yes'\n",
    "        (rivm[rivm.Deceased == 'Yes'], 'Overleden', 'd'), # count van cohort voor Deceased == 'Yes'\n",
    "      ]\n",
    "    ])\n",
    "  )\n",
    "\n",
    "  # rood -> groen\n",
    "  cdict = {\n",
    "    'red':   ((0.0, 0.0, 0.0),   # no red at 0\n",
    "              (0.5, 1.0, 1.0),   # all channels set to 1.0 at 0.5 to create white\n",
    "              (1.0, 0.8, 0.8)),  # set to 0.8 so its not too bright at 1\n",
    "    'green': ((0.0, 0.8, 0.8),   # set to 0.8 so its not too bright at 0\n",
    "              (0.5, 1.0, 1.0),   # all channels set to 1.0 at 0.5 to create white\n",
    "              (1.0, 0.0, 0.0)),  # no green at 1\n",
    "    'blue':  ((0.0, 0.0, 0.0),   # no blue at 0\n",
    "              (0.5, 1.0, 1.0),   # all channels set to 1.0 at 0.5 to create white\n",
    "              (1.0, 0.0, 0.0))   # no blue at 1\n",
    "  }\n",
    "  cm = colors.LinearSegmentedColormap('GnRd', cdict)\n",
    "  # geel -> paars\n",
    "  cm = sns.color_palette('viridis_r', as_cmap=True)\n",
    "  display(tabel\n",
    "    .fillna(0)\n",
    "    .head()\n",
    "    .round(1)\n",
    "    .reset_index(drop=True)\n",
    "    .style.background_gradient(cmap=cm, axis=1, subset=cohorten)\n",
    "  )"
   ]
  },
  {
   "cell_type": "code",
   "execution_count": 5,
   "id": "dfb15fcc",
   "metadata": {
    "execution": {
     "iopub.execute_input": "2021-12-18T21:26:27.087346Z",
     "iopub.status.busy": "2021-12-18T21:26:27.085172Z",
     "iopub.status.idle": "2021-12-18T21:26:59.651760Z",
     "shell.execute_reply": "2021-12-18T21:26:59.652201Z"
    },
    "papermill": {
     "duration": 32.579507,
     "end_time": "2021-12-18T21:26:59.652364",
     "exception": false,
     "start_time": "2021-12-18T21:26:27.072857",
     "status": "completed"
    },
    "tags": [],
    "title": "publish"
   },
   "outputs": [
    {
     "name": "stdout",
     "output_type": "stream",
     "text": [
      "infinities:\n"
     ]
    },
    {
     "name": "stdout",
     "output_type": "stream",
     "text": [
      "Empty DataFrame\n",
      "Columns: []\n",
      "Index: []\n"
     ]
    },
    {
     "name": "stdout",
     "output_type": "stream",
     "text": [
      "nan:\n"
     ]
    },
    {
     "name": "stdout",
     "output_type": "stream",
     "text": [
      "Empty DataFrame\n",
      "Columns: []\n",
      "Index: []\n"
     ]
    },
    {
     "name": "stdout",
     "output_type": "stream",
     "text": [
      "Key                     object\n",
      "Weken terug              int64\n",
      "Datum                   object\n",
      "Periode                 object\n",
      "Gemiddelde leeftijd    float64\n",
      "Totaal                 float64\n",
      "Type                    object\n",
      "0-9                    float64\n",
      "10-19                  float64\n",
      "20-29                  float64\n",
      "30-39                  float64\n",
      "40-49                  float64\n",
      "50-59                  float64\n",
      "60-69                  float64\n",
      "70-79                  float64\n",
      "80-89                  float64\n",
      "90+                    float64\n",
      "Onbekend               float64\n",
      "c0-9                     int64\n",
      "c10-19                   int64\n",
      "c20-29                   int64\n",
      "c30-39                   int64\n",
      "c40-49                   int64\n",
      "c50-59                   int64\n",
      "c60-69                   int64\n",
      "c70-79                   int64\n",
      "c80-89                   int64\n",
      "c90+                     int64\n",
      "cOnbekend                int64\n",
      "dtype: object\n",
      "updating knack\n"
     ]
    },
    {
     "name": "stdout",
     "output_type": "stream",
     "text": [
      "updating: [{'Key': 1, 'Updating Leeftijdsgroep': 'true'}]\n"
     ]
    },
    {
     "name": "stdout",
     "output_type": "stream",
     "text": [
      "restored LaatsteUpdate from hash\n"
     ]
    },
    {
     "name": "stdout",
     "output_type": "stream",
     "text": [
      "Key                         int64\n",
      "Updating Leeftijdsgroep    object\n",
      "dtype: object\n"
     ]
    },
    {
     "name": "stderr",
     "output_type": "stream",
     "text": [
      "\r",
      "  0%|          | 0/1 [00:00<?, ?it/s]"
     ]
    },
    {
     "name": "stderr",
     "output_type": "stream",
     "text": [
      "\r",
      "100%|██████████| 1/1 [00:01<00:00,  1.04s/it]"
     ]
    },
    {
     "name": "stderr",
     "output_type": "stream",
     "text": [
      "\r",
      "100%|██████████| 1/1 [00:01<00:00,  1.04s/it]"
     ]
    },
    {
     "name": "stdout",
     "output_type": "stream",
     "text": [
      "\n",
      "rate limit: 7 \n",
      "LaatsteUpdate API calls: create: 0, read: 1, update: 1, delete: 0, backoff: 0\n"
     ]
    },
    {
     "name": "stderr",
     "output_type": "stream",
     "text": [
      "\n"
     ]
    },
    {
     "name": "stdout",
     "output_type": "stream",
     "text": [
      "restored Leeftijdsgroep from hash\n"
     ]
    },
    {
     "name": "stdout",
     "output_type": "stream",
     "text": [
      "0-9                    float64\n",
      "10-19                  float64\n",
      "20-29                  float64\n",
      "30-39                  float64\n",
      "40-49                  float64\n",
      "50-59                  float64\n",
      "60-69                  float64\n",
      "70-79                  float64\n",
      "80-89                  float64\n",
      "90+                    float64\n",
      "Datum                   object\n",
      "Gemiddelde leeftijd    float64\n",
      "Key                     object\n",
      "Onbekend               float64\n",
      "Periode                 object\n",
      "Totaal                 float64\n",
      "Type                    object\n",
      "Weken terug              int64\n",
      "c0-9                     int64\n",
      "c10-19                   int64\n",
      "c20-29                   int64\n",
      "c30-39                   int64\n",
      "c40-49                   int64\n",
      "c50-59                   int64\n",
      "c60-69                   int64\n",
      "c70-79                   int64\n",
      "c80-89                   int64\n",
      "c90+                     int64\n",
      "cOnbekend                int64\n",
      "dtype: object\n"
     ]
    },
    {
     "name": "stderr",
     "output_type": "stream",
     "text": [
      "\r",
      "  0%|          | 0/148 [00:00<?, ?it/s]"
     ]
    },
    {
     "name": "stderr",
     "output_type": "stream",
     "text": [
      "\r",
      "  1%|          | 1/148 [00:00<02:26,  1.00it/s]"
     ]
    },
    {
     "name": "stderr",
     "output_type": "stream",
     "text": [
      "\r",
      "  3%|▎         | 4/148 [00:01<00:37,  3.83it/s]"
     ]
    },
    {
     "name": "stderr",
     "output_type": "stream",
     "text": [
      "\r",
      "  4%|▍         | 6/148 [00:01<00:28,  4.98it/s]"
     ]
    },
    {
     "name": "stderr",
     "output_type": "stream",
     "text": [
      "\r",
      "  5%|▍         | 7/148 [00:01<00:25,  5.47it/s]"
     ]
    },
    {
     "name": "stderr",
     "output_type": "stream",
     "text": [
      "\r",
      "  7%|▋         | 10/148 [00:01<00:18,  7.36it/s]"
     ]
    },
    {
     "name": "stderr",
     "output_type": "stream",
     "text": [
      "\r",
      "  7%|▋         | 11/148 [00:02<00:17,  7.68it/s]"
     ]
    },
    {
     "name": "stderr",
     "output_type": "stream",
     "text": [
      "\r",
      "  8%|▊         | 12/148 [00:02<00:19,  7.10it/s]"
     ]
    },
    {
     "name": "stderr",
     "output_type": "stream",
     "text": [
      "\r",
      "  9%|▉         | 14/148 [00:02<00:18,  7.44it/s]"
     ]
    },
    {
     "name": "stderr",
     "output_type": "stream",
     "text": [
      "\r",
      " 11%|█         | 16/148 [00:03<00:29,  4.43it/s]"
     ]
    },
    {
     "name": "stderr",
     "output_type": "stream",
     "text": [
      "\r",
      " 13%|█▎        | 19/148 [00:03<00:22,  5.72it/s]"
     ]
    },
    {
     "name": "stderr",
     "output_type": "stream",
     "text": [
      "\r",
      " 14%|█▎        | 20/148 [00:03<00:22,  5.75it/s]"
     ]
    },
    {
     "name": "stderr",
     "output_type": "stream",
     "text": [
      "\r",
      " 14%|█▍        | 21/148 [00:03<00:21,  5.83it/s]"
     ]
    },
    {
     "name": "stderr",
     "output_type": "stream",
     "text": [
      "\r",
      " 15%|█▍        | 22/148 [00:04<00:23,  5.39it/s]"
     ]
    },
    {
     "name": "stderr",
     "output_type": "stream",
     "text": [
      "\r",
      " 16%|█▌        | 24/148 [00:04<00:19,  6.39it/s]"
     ]
    },
    {
     "name": "stderr",
     "output_type": "stream",
     "text": [
      "\r",
      " 18%|█▊        | 26/148 [00:04<00:20,  6.00it/s]"
     ]
    },
    {
     "name": "stderr",
     "output_type": "stream",
     "text": [
      "\r",
      " 18%|█▊        | 27/148 [00:04<00:19,  6.16it/s]"
     ]
    },
    {
     "name": "stderr",
     "output_type": "stream",
     "text": [
      "\r",
      " 19%|█▉        | 28/148 [00:05<00:19,  6.06it/s]"
     ]
    },
    {
     "name": "stderr",
     "output_type": "stream",
     "text": [
      "\r",
      " 20%|█▉        | 29/148 [00:05<00:18,  6.50it/s]"
     ]
    },
    {
     "name": "stderr",
     "output_type": "stream",
     "text": [
      "\r",
      " 21%|██        | 31/148 [00:05<00:14,  8.34it/s]"
     ]
    },
    {
     "name": "stderr",
     "output_type": "stream",
     "text": [
      "\r",
      " 22%|██▏       | 32/148 [00:05<00:16,  7.04it/s]"
     ]
    },
    {
     "name": "stderr",
     "output_type": "stream",
     "text": [
      "\r",
      " 22%|██▏       | 33/148 [00:05<00:16,  6.94it/s]"
     ]
    },
    {
     "name": "stderr",
     "output_type": "stream",
     "text": [
      "\r",
      " 24%|██▎       | 35/148 [00:06<00:20,  5.43it/s]"
     ]
    },
    {
     "name": "stderr",
     "output_type": "stream",
     "text": [
      "\r",
      " 24%|██▍       | 36/148 [00:06<00:23,  4.70it/s]"
     ]
    },
    {
     "name": "stderr",
     "output_type": "stream",
     "text": [
      "\r",
      " 25%|██▌       | 37/148 [00:06<00:21,  5.06it/s]"
     ]
    },
    {
     "name": "stderr",
     "output_type": "stream",
     "text": [
      "\r",
      " 26%|██▌       | 38/148 [00:06<00:22,  4.79it/s]"
     ]
    },
    {
     "name": "stderr",
     "output_type": "stream",
     "text": [
      "\r",
      " 28%|██▊       | 41/148 [00:06<00:12,  8.34it/s]"
     ]
    },
    {
     "name": "stderr",
     "output_type": "stream",
     "text": [
      "\r",
      " 29%|██▉       | 43/148 [00:07<00:15,  6.99it/s]"
     ]
    },
    {
     "name": "stderr",
     "output_type": "stream",
     "text": [
      "\r",
      " 30%|███       | 45/148 [00:07<00:16,  6.37it/s]"
     ]
    },
    {
     "name": "stderr",
     "output_type": "stream",
     "text": [
      "\r",
      " 31%|███       | 46/148 [00:07<00:15,  6.75it/s]"
     ]
    },
    {
     "name": "stderr",
     "output_type": "stream",
     "text": [
      "\r",
      " 32%|███▏      | 47/148 [00:08<00:17,  5.91it/s]"
     ]
    },
    {
     "name": "stderr",
     "output_type": "stream",
     "text": [
      "\r",
      " 33%|███▎      | 49/148 [00:08<00:14,  6.95it/s]"
     ]
    },
    {
     "name": "stderr",
     "output_type": "stream",
     "text": [
      "\r",
      " 34%|███▍      | 50/148 [00:08<00:14,  6.79it/s]"
     ]
    },
    {
     "name": "stderr",
     "output_type": "stream",
     "text": [
      "\r",
      " 36%|███▌      | 53/148 [00:08<00:13,  6.94it/s]"
     ]
    },
    {
     "name": "stderr",
     "output_type": "stream",
     "text": [
      "\r",
      " 37%|███▋      | 55/148 [00:09<00:12,  7.67it/s]"
     ]
    },
    {
     "name": "stderr",
     "output_type": "stream",
     "text": [
      "\r",
      " 39%|███▊      | 57/148 [00:09<00:09,  9.15it/s]"
     ]
    },
    {
     "name": "stderr",
     "output_type": "stream",
     "text": [
      "\r",
      " 41%|████      | 60/148 [00:09<00:09,  9.23it/s]"
     ]
    },
    {
     "name": "stderr",
     "output_type": "stream",
     "text": [
      "\r",
      " 43%|████▎     | 63/148 [00:10<00:11,  7.30it/s]"
     ]
    },
    {
     "name": "stderr",
     "output_type": "stream",
     "text": [
      "\r",
      " 43%|████▎     | 64/148 [00:10<00:11,  7.13it/s]"
     ]
    },
    {
     "name": "stderr",
     "output_type": "stream",
     "text": [
      "\r",
      " 45%|████▍     | 66/148 [00:10<00:11,  7.06it/s]"
     ]
    },
    {
     "name": "stderr",
     "output_type": "stream",
     "text": [
      "\r",
      " 45%|████▌     | 67/148 [00:10<00:11,  7.12it/s]"
     ]
    },
    {
     "name": "stderr",
     "output_type": "stream",
     "text": [
      "\r",
      " 46%|████▌     | 68/148 [00:10<00:14,  5.48it/s]"
     ]
    },
    {
     "name": "stderr",
     "output_type": "stream",
     "text": [
      "\r",
      " 47%|████▋     | 69/148 [00:11<00:14,  5.36it/s]"
     ]
    },
    {
     "name": "stderr",
     "output_type": "stream",
     "text": [
      "\r",
      " 47%|████▋     | 70/148 [00:11<00:17,  4.56it/s]"
     ]
    },
    {
     "name": "stderr",
     "output_type": "stream",
     "text": [
      "\r",
      " 49%|████▊     | 72/148 [00:11<00:12,  6.22it/s]"
     ]
    },
    {
     "name": "stderr",
     "output_type": "stream",
     "text": [
      "\r",
      " 49%|████▉     | 73/148 [00:11<00:13,  5.55it/s]"
     ]
    },
    {
     "name": "stderr",
     "output_type": "stream",
     "text": [
      "\r",
      " 50%|█████     | 74/148 [00:12<00:12,  6.09it/s]"
     ]
    },
    {
     "name": "stderr",
     "output_type": "stream",
     "text": [
      "\r",
      " 51%|█████     | 75/148 [00:12<00:12,  6.02it/s]"
     ]
    },
    {
     "name": "stderr",
     "output_type": "stream",
     "text": [
      "\r",
      " 51%|█████▏    | 76/148 [00:12<00:13,  5.24it/s]"
     ]
    },
    {
     "name": "stderr",
     "output_type": "stream",
     "text": [
      "\r",
      " 52%|█████▏    | 77/148 [00:12<00:12,  5.79it/s]"
     ]
    },
    {
     "name": "stderr",
     "output_type": "stream",
     "text": [
      "\r",
      " 53%|█████▎    | 78/148 [00:12<00:11,  6.10it/s]"
     ]
    },
    {
     "name": "stderr",
     "output_type": "stream",
     "text": [
      "\r",
      " 53%|█████▎    | 79/148 [00:13<00:15,  4.58it/s]"
     ]
    },
    {
     "name": "stderr",
     "output_type": "stream",
     "text": [
      "\r",
      " 54%|█████▍    | 80/148 [00:13<00:16,  4.17it/s]"
     ]
    },
    {
     "name": "stderr",
     "output_type": "stream",
     "text": [
      "\r",
      " 55%|█████▌    | 82/148 [00:13<00:10,  6.14it/s]"
     ]
    },
    {
     "name": "stderr",
     "output_type": "stream",
     "text": [
      "\r",
      " 57%|█████▋    | 84/148 [00:13<00:08,  7.85it/s]"
     ]
    },
    {
     "name": "stderr",
     "output_type": "stream",
     "text": [
      "\r",
      " 58%|█████▊    | 86/148 [00:13<00:07,  8.61it/s]"
     ]
    },
    {
     "name": "stderr",
     "output_type": "stream",
     "text": [
      "\r",
      " 59%|█████▉    | 87/148 [00:14<00:07,  7.85it/s]"
     ]
    },
    {
     "name": "stderr",
     "output_type": "stream",
     "text": [
      "\r",
      " 61%|██████    | 90/148 [00:14<00:06,  8.61it/s]"
     ]
    },
    {
     "name": "stderr",
     "output_type": "stream",
     "text": [
      "\r",
      " 61%|██████▏   | 91/148 [00:14<00:07,  7.88it/s]"
     ]
    },
    {
     "name": "stderr",
     "output_type": "stream",
     "text": [
      "\r",
      " 63%|██████▎   | 93/148 [00:14<00:06,  8.88it/s]"
     ]
    },
    {
     "name": "stderr",
     "output_type": "stream",
     "text": [
      "\r",
      " 64%|██████▎   | 94/148 [00:14<00:06,  7.83it/s]"
     ]
    },
    {
     "name": "stderr",
     "output_type": "stream",
     "text": [
      "\r",
      " 64%|██████▍   | 95/148 [00:14<00:06,  7.91it/s]"
     ]
    },
    {
     "name": "stderr",
     "output_type": "stream",
     "text": [
      "\r",
      " 65%|██████▍   | 96/148 [00:15<00:11,  4.60it/s]"
     ]
    },
    {
     "name": "stderr",
     "output_type": "stream",
     "text": [
      "\r",
      " 66%|██████▌   | 98/148 [00:15<00:07,  6.37it/s]"
     ]
    },
    {
     "name": "stderr",
     "output_type": "stream",
     "text": [
      "\r",
      " 68%|██████▊   | 101/148 [00:15<00:04,  9.44it/s]"
     ]
    },
    {
     "name": "stderr",
     "output_type": "stream",
     "text": [
      "\r",
      " 70%|██████▉   | 103/148 [00:15<00:04,  9.51it/s]"
     ]
    },
    {
     "name": "stderr",
     "output_type": "stream",
     "text": [
      "\r",
      " 71%|███████   | 105/148 [00:16<00:03, 10.79it/s]"
     ]
    },
    {
     "name": "stderr",
     "output_type": "stream",
     "text": [
      "\r",
      " 72%|███████▏  | 107/148 [00:16<00:04,  8.66it/s]"
     ]
    },
    {
     "name": "stderr",
     "output_type": "stream",
     "text": [
      "\r",
      " 74%|███████▎  | 109/148 [00:16<00:04,  8.08it/s]"
     ]
    },
    {
     "name": "stderr",
     "output_type": "stream",
     "text": [
      "\r",
      " 75%|███████▌  | 111/148 [00:17<00:05,  7.25it/s]"
     ]
    },
    {
     "name": "stderr",
     "output_type": "stream",
     "text": [
      "\r",
      " 77%|███████▋  | 114/148 [00:17<00:04,  7.91it/s]"
     ]
    },
    {
     "name": "stderr",
     "output_type": "stream",
     "text": [
      "\r",
      " 78%|███████▊  | 116/148 [00:17<00:03,  8.20it/s]"
     ]
    },
    {
     "name": "stderr",
     "output_type": "stream",
     "text": [
      "\r",
      " 80%|████████  | 119/148 [00:17<00:03,  9.26it/s]"
     ]
    },
    {
     "name": "stderr",
     "output_type": "stream",
     "text": [
      "\r",
      " 81%|████████  | 120/148 [00:18<00:03,  7.92it/s]"
     ]
    },
    {
     "name": "stderr",
     "output_type": "stream",
     "text": [
      "\r",
      " 82%|████████▏ | 121/148 [00:18<00:03,  7.84it/s]"
     ]
    },
    {
     "name": "stderr",
     "output_type": "stream",
     "text": [
      "\r",
      " 83%|████████▎ | 123/148 [00:18<00:03,  6.67it/s]"
     ]
    },
    {
     "name": "stderr",
     "output_type": "stream",
     "text": [
      "\r",
      " 84%|████████▍ | 124/148 [00:18<00:03,  6.10it/s]"
     ]
    },
    {
     "name": "stderr",
     "output_type": "stream",
     "text": [
      "\r",
      " 84%|████████▍ | 125/148 [00:19<00:04,  5.38it/s]"
     ]
    },
    {
     "name": "stderr",
     "output_type": "stream",
     "text": [
      "\r",
      " 86%|████████▌ | 127/148 [00:19<00:03,  5.65it/s]"
     ]
    },
    {
     "name": "stderr",
     "output_type": "stream",
     "text": [
      "\r",
      " 86%|████████▋ | 128/148 [00:19<00:03,  5.67it/s]"
     ]
    },
    {
     "name": "stderr",
     "output_type": "stream",
     "text": [
      "\r",
      " 88%|████████▊ | 130/148 [00:19<00:02,  7.38it/s]"
     ]
    },
    {
     "name": "stderr",
     "output_type": "stream",
     "text": [
      "\r",
      " 90%|████████▉ | 133/148 [00:20<00:02,  7.00it/s]"
     ]
    },
    {
     "name": "stderr",
     "output_type": "stream",
     "text": [
      "\r",
      " 91%|█████████ | 134/148 [00:20<00:02,  6.65it/s]"
     ]
    },
    {
     "name": "stderr",
     "output_type": "stream",
     "text": [
      "\r",
      " 91%|█████████ | 135/148 [00:20<00:02,  5.90it/s]"
     ]
    },
    {
     "name": "stderr",
     "output_type": "stream",
     "text": [
      "\r",
      " 93%|█████████▎| 137/148 [00:20<00:01,  7.51it/s]"
     ]
    },
    {
     "name": "stderr",
     "output_type": "stream",
     "text": [
      "\r",
      " 93%|█████████▎| 138/148 [00:20<00:01,  7.89it/s]"
     ]
    },
    {
     "name": "stderr",
     "output_type": "stream",
     "text": [
      "\r",
      " 96%|█████████▌| 142/148 [00:21<00:00, 10.50it/s]"
     ]
    },
    {
     "name": "stderr",
     "output_type": "stream",
     "text": [
      "\r",
      " 97%|█████████▋| 144/148 [00:21<00:00, 11.50it/s]"
     ]
    },
    {
     "name": "stderr",
     "output_type": "stream",
     "text": [
      "\r",
      " 99%|█████████▊| 146/148 [00:22<00:00,  3.76it/s]"
     ]
    },
    {
     "name": "stderr",
     "output_type": "stream",
     "text": [
      "\r",
      " 99%|█████████▉| 147/148 [00:24<00:00,  2.14it/s]"
     ]
    },
    {
     "name": "stderr",
     "output_type": "stream",
     "text": [
      "\r",
      "100%|██████████| 148/148 [00:24<00:00,  6.12it/s]"
     ]
    },
    {
     "name": "stdout",
     "output_type": "stream",
     "text": [
      "\n",
      "rate limit: 7 \n",
      "Leeftijdsgroep API calls: create: 0, read: 1, update: 148, delete: 0, backoff: 3\n",
      "errors:\n",
      "  503: Service Unavailable: 1\n"
     ]
    },
    {
     "name": "stdout",
     "output_type": "stream",
     "text": [
      "[{'Key': 1, 'Timestamp Leeftijdsgroep RIVM': '2021-12-18 15:15'}]\n"
     ]
    },
    {
     "name": "stderr",
     "output_type": "stream",
     "text": [
      "\n"
     ]
    },
    {
     "name": "stdout",
     "output_type": "stream",
     "text": [
      "timestamps: [{'Key': 1, 'Timestamp Leeftijdsgroep RIVM': '2021-12-18 15:15'}]\n",
      "Key                               int64\n",
      "Timestamp Leeftijdsgroep RIVM    object\n",
      "dtype: object\n"
     ]
    },
    {
     "name": "stderr",
     "output_type": "stream",
     "text": [
      "\r",
      "  0%|          | 0/1 [00:00<?, ?it/s]"
     ]
    },
    {
     "name": "stderr",
     "output_type": "stream",
     "text": [
      "\r",
      "100%|██████████| 1/1 [00:00<00:00,  1.20it/s]"
     ]
    },
    {
     "name": "stderr",
     "output_type": "stream",
     "text": [
      "\r",
      "100%|██████████| 1/1 [00:00<00:00,  1.19it/s]"
     ]
    },
    {
     "name": "stdout",
     "output_type": "stream",
     "text": [
      "\n",
      "rate limit: 7 \n",
      "LaatsteUpdate API calls: create: 0, read: 0, update: 1, delete: 0, backoff: 0\n"
     ]
    },
    {
     "name": "stderr",
     "output_type": "stream",
     "text": [
      "\n"
     ]
    },
    {
     "name": "stdout",
     "output_type": "stream",
     "text": [
      "BatchName     object\n",
      "ObjectName    object\n",
      "Source        object\n",
      "Timestamp     object\n",
      "dtype: object\n"
     ]
    },
    {
     "name": "stderr",
     "output_type": "stream",
     "text": [
      "\r",
      "  0%|          | 0/1 [00:00<?, ?it/s]"
     ]
    },
    {
     "name": "stderr",
     "output_type": "stream",
     "text": [
      "\r",
      "100%|██████████| 1/1 [00:01<00:00,  1.41s/it]"
     ]
    },
    {
     "name": "stderr",
     "output_type": "stream",
     "text": [
      "\r",
      "100%|██████████| 1/1 [00:01<00:00,  1.41s/it]"
     ]
    },
    {
     "name": "stdout",
     "output_type": "stream",
     "text": [
      "\n",
      "rate limit: 7 \n",
      "UpdateDetails API calls: create: 1, read: 0, update: 0, delete: 0, backoff: 0\n"
     ]
    },
    {
     "name": "stderr",
     "output_type": "stream",
     "text": [
      "\n"
     ]
    },
    {
     "name": "stdout",
     "output_type": "stream",
     "text": [
      "updating: [{'Key': 1, 'Updating Leeftijdsgroep': 'false'}]\n",
      "Key                         int64\n",
      "Updating Leeftijdsgroep    object\n",
      "dtype: object\n"
     ]
    },
    {
     "name": "stderr",
     "output_type": "stream",
     "text": [
      "\r",
      "  0%|          | 0/1 [00:00<?, ?it/s]"
     ]
    },
    {
     "name": "stderr",
     "output_type": "stream",
     "text": [
      "\r",
      "100%|██████████| 1/1 [00:00<00:00,  1.30it/s]"
     ]
    },
    {
     "name": "stderr",
     "output_type": "stream",
     "text": [
      "\r",
      "100%|██████████| 1/1 [00:00<00:00,  1.29it/s]"
     ]
    },
    {
     "name": "stdout",
     "output_type": "stream",
     "text": [
      "\n",
      "rate limit: 7 \n",
      "LaatsteUpdate API calls: create: 0, read: 0, update: 1, delete: 0, backoff: 0\n"
     ]
    },
    {
     "name": "stderr",
     "output_type": "stream",
     "text": [
      "\n"
     ]
    }
   ],
   "source": [
    "if knack:\n",
    "  await knack.publish(tabel.fillna(0).assign(Datum=tabel.Datum.dt.strftime('%Y-%m-%d')), 'Leeftijdsgroep', Cache)"
   ]
  }
 ],
 "metadata": {
  "jupytext": {
   "cell_metadata_filter": "title,-all"
  },
  "kernelspec": {
   "display_name": "Python 3 (ipykernel)",
   "language": "python",
   "name": "python3"
  },
  "language_info": {
   "codemirror_mode": {
    "name": "ipython",
    "version": 3
   },
   "file_extension": ".py",
   "mimetype": "text/x-python",
   "name": "python",
   "nbconvert_exporter": "python",
   "pygments_lexer": "ipython3",
   "version": "3.9.9"
  },
  "papermill": {
   "default_parameters": {},
   "duration": 59.814418,
   "end_time": "2021-12-18T21:27:00.315477",
   "environment_variables": {},
   "exception": null,
   "input_path": "-",
   "output_path": "LeeftijdsgroepenLandelijk.ipynb",
   "parameters": {},
   "start_time": "2021-12-18T21:26:00.501059",
   "version": "2.3.3"
  }
 },
 "nbformat": 4,
 "nbformat_minor": 5
}