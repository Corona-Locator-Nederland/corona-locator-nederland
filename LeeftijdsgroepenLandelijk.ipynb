{
 "cells": [
  {
   "cell_type": "code",
   "execution_count": 1,
   "id": "93cfdef2",
   "metadata": {
    "execution": {
     "iopub.execute_input": "2021-06-30T19:19:48.925932Z",
     "iopub.status.busy": "2021-06-30T19:19:48.920343Z",
     "iopub.status.idle": "2021-06-30T19:19:54.557352Z",
     "shell.execute_reply": "2021-06-30T19:19:54.556791Z"
    },
    "lines_to_next_cell": 1,
    "papermill": {
     "duration": 5.650129,
     "end_time": "2021-06-30T19:19:54.557515",
     "exception": false,
     "start_time": "2021-06-30T19:19:48.907386",
     "status": "completed"
    },
    "tags": []
   },
   "outputs": [],
   "source": [
    "from IPython import get_ipython\n",
    "from IPython.core.display import display\n",
    "get_ipython().run_line_magic('load_ext', 'autoreload')\n",
    "get_ipython().run_line_magic('autoreload', '2')\n",
    "get_ipython().run_line_magic('run', 'setup')"
   ]
  },
  {
   "cell_type": "code",
   "execution_count": 2,
   "id": "65801f6a",
   "metadata": {
    "execution": {
     "iopub.execute_input": "2021-06-30T19:19:54.572728Z",
     "iopub.status.busy": "2021-06-30T19:19:54.571085Z",
     "iopub.status.idle": "2021-06-30T19:19:57.614312Z",
     "shell.execute_reply": "2021-06-30T19:19:57.613883Z"
    },
    "lines_to_next_cell": 1,
    "papermill": {
     "duration": 3.052208,
     "end_time": "2021-06-30T19:19:57.614443",
     "exception": false,
     "start_time": "2021-06-30T19:19:54.562235",
     "status": "completed"
    },
    "tags": [],
    "title": "leeftijdsgroepen: download RIVM data"
   },
   "outputs": [
    {
     "name": "stdout",
     "output_type": "stream",
     "text": [
      "rivm/COVID-19_casus_landelijk-2021-06-30@13-15.csv exists\n"
     ]
    },
    {
     "name": "stdout",
     "output_type": "stream",
     "text": [
      "loading rivm/COVID-19_casus_landelijk-2021-06-30@13-15.csv.gz\n"
     ]
    },
    {
     "data": {
      "text/html": [
       "<div>\n",
       "<style scoped>\n",
       "    .dataframe tbody tr th:only-of-type {\n",
       "        vertical-align: middle;\n",
       "    }\n",
       "\n",
       "    .dataframe tbody tr th {\n",
       "        vertical-align: top;\n",
       "    }\n",
       "\n",
       "    .dataframe thead th {\n",
       "        text-align: right;\n",
       "    }\n",
       "</style>\n",
       "<table border=\"1\" class=\"dataframe\">\n",
       "  <thead>\n",
       "    <tr style=\"text-align: right;\">\n",
       "      <th></th>\n",
       "      <th>Date_file</th>\n",
       "      <th>Date_statistics</th>\n",
       "      <th>Date_statistics_type</th>\n",
       "      <th>Agegroup</th>\n",
       "      <th>Sex</th>\n",
       "      <th>Province</th>\n",
       "      <th>Hospital_admission</th>\n",
       "      <th>Deceased</th>\n",
       "      <th>Week_of_death</th>\n",
       "      <th>Municipal_health_service</th>\n",
       "    </tr>\n",
       "  </thead>\n",
       "  <tbody>\n",
       "    <tr>\n",
       "      <th>0</th>\n",
       "      <td>2021-06-30 10:00:00</td>\n",
       "      <td>2020-01-01</td>\n",
       "      <td>DOO</td>\n",
       "      <td>40-49</td>\n",
       "      <td>Female</td>\n",
       "      <td>Noord-Holland</td>\n",
       "      <td>No</td>\n",
       "      <td>No</td>\n",
       "      <td>NaN</td>\n",
       "      <td>GGD Amsterdam</td>\n",
       "    </tr>\n",
       "    <tr>\n",
       "      <th>1</th>\n",
       "      <td>2021-06-30 10:00:00</td>\n",
       "      <td>2020-01-01</td>\n",
       "      <td>DOO</td>\n",
       "      <td>50-59</td>\n",
       "      <td>Male</td>\n",
       "      <td>Gelderland</td>\n",
       "      <td>No</td>\n",
       "      <td>No</td>\n",
       "      <td>NaN</td>\n",
       "      <td>Veiligheids- en Gezondheidsregio Gelderland-Mi...</td>\n",
       "    </tr>\n",
       "    <tr>\n",
       "      <th>2</th>\n",
       "      <td>2021-06-30 10:00:00</td>\n",
       "      <td>2020-01-01</td>\n",
       "      <td>DOO</td>\n",
       "      <td>20-29</td>\n",
       "      <td>Female</td>\n",
       "      <td>Zuid-Holland</td>\n",
       "      <td>No</td>\n",
       "      <td>No</td>\n",
       "      <td>NaN</td>\n",
       "      <td>GGD Hollands-Midden</td>\n",
       "    </tr>\n",
       "    <tr>\n",
       "      <th>3</th>\n",
       "      <td>2021-06-30 10:00:00</td>\n",
       "      <td>2020-01-01</td>\n",
       "      <td>DOO</td>\n",
       "      <td>60-69</td>\n",
       "      <td>Female</td>\n",
       "      <td>Noord-Holland</td>\n",
       "      <td>No</td>\n",
       "      <td>No</td>\n",
       "      <td>NaN</td>\n",
       "      <td>GGD Hollands-Noorden</td>\n",
       "    </tr>\n",
       "    <tr>\n",
       "      <th>4</th>\n",
       "      <td>2021-06-30 10:00:00</td>\n",
       "      <td>2020-01-04</td>\n",
       "      <td>DOO</td>\n",
       "      <td>10-19</td>\n",
       "      <td>Female</td>\n",
       "      <td>Gelderland</td>\n",
       "      <td>Unknown</td>\n",
       "      <td>No</td>\n",
       "      <td>NaN</td>\n",
       "      <td>GGD Gelderland-Zuid</td>\n",
       "    </tr>\n",
       "  </tbody>\n",
       "</table>\n",
       "</div>"
      ],
      "text/plain": [
       "             Date_file Date_statistics Date_statistics_type Agegroup     Sex  \\\n",
       "0  2021-06-30 10:00:00      2020-01-01                  DOO    40-49  Female   \n",
       "1  2021-06-30 10:00:00      2020-01-01                  DOO    50-59    Male   \n",
       "2  2021-06-30 10:00:00      2020-01-01                  DOO    20-29  Female   \n",
       "3  2021-06-30 10:00:00      2020-01-01                  DOO    60-69  Female   \n",
       "4  2021-06-30 10:00:00      2020-01-04                  DOO    10-19  Female   \n",
       "\n",
       "        Province Hospital_admission Deceased  Week_of_death  \\\n",
       "0  Noord-Holland                 No       No            NaN   \n",
       "1     Gelderland                 No       No            NaN   \n",
       "2   Zuid-Holland                 No       No            NaN   \n",
       "3  Noord-Holland                 No       No            NaN   \n",
       "4     Gelderland            Unknown       No            NaN   \n",
       "\n",
       "                            Municipal_health_service  \n",
       "0                                      GGD Amsterdam  \n",
       "1  Veiligheids- en Gezondheidsregio Gelderland-Mi...  \n",
       "2                                GGD Hollands-Midden  \n",
       "3                               GGD Hollands-Noorden  \n",
       "4                                GGD Gelderland-Zuid  "
      ]
     },
     "metadata": {},
     "output_type": "display_data"
    }
   ],
   "source": [
    "#leeftijdsgroepen = SimpleNamespace()\n",
    "@run\n",
    "def cell():\n",
    "  global rivm\n",
    "  rivm = RIVM.csv('COVID-19_casus_landelijk')\n",
    "  display(rivm.head())"
   ]
  },
  {
   "cell_type": "code",
   "execution_count": 3,
   "id": "24e9a05e",
   "metadata": {
    "execution": {
     "iopub.execute_input": "2021-06-30T19:19:57.628775Z",
     "iopub.status.busy": "2021-06-30T19:19:57.628305Z",
     "iopub.status.idle": "2021-06-30T19:20:02.492468Z",
     "shell.execute_reply": "2021-06-30T19:20:02.492853Z"
    },
    "lines_to_next_cell": 1,
    "papermill": {
     "duration": 4.873235,
     "end_time": "2021-06-30T19:20:02.493022",
     "exception": false,
     "start_time": "2021-06-30T19:19:57.619787",
     "status": "completed"
    },
    "tags": [],
    "title": "Download de bevolkings cijfers van CBS, uitgesplitst op de leeftijds categorien in de dataset van het RIVM"
   },
   "outputs": [],
   "source": [
    "@run\n",
    "def cell():\n",
    "  global bevolking\n",
    "  bevolking = CBS.bevolking(leeftijdsgroepen=True)"
   ]
  },
  {
   "cell_type": "code",
   "execution_count": 4,
   "id": "4748503a",
   "metadata": {
    "execution": {
     "iopub.execute_input": "2021-06-30T19:20:02.505493Z",
     "iopub.status.busy": "2021-06-30T19:20:02.504941Z",
     "iopub.status.idle": "2021-06-30T19:20:09.083293Z",
     "shell.execute_reply": "2021-06-30T19:20:09.082236Z"
    },
    "lines_to_next_cell": 1,
    "papermill": {
     "duration": 6.585399,
     "end_time": "2021-06-30T19:20:09.083437",
     "exception": false,
     "start_time": "2021-06-30T19:20:02.498038",
     "status": "completed"
    },
    "tags": [],
    "title": "leeftijdsgroepen: prepareer tabel"
   },
   "outputs": [
    {
     "data": {
      "text/html": [
       "<style  type=\"text/css\" >\n",
       "#T_2cf87_row0_col7{\n",
       "            background-color:  #5cc863;\n",
       "            color:  #000000;\n",
       "        }#T_2cf87_row0_col8,#T_2cf87_row1_col8,#T_2cf87_row2_col8,#T_2cf87_row3_col8,#T_2cf87_row4_col8{\n",
       "            background-color:  #440154;\n",
       "            color:  #f1f1f1;\n",
       "        }#T_2cf87_row0_col9{\n",
       "            background-color:  #470d60;\n",
       "            color:  #f1f1f1;\n",
       "        }#T_2cf87_row0_col10{\n",
       "            background-color:  #297b8e;\n",
       "            color:  #000000;\n",
       "        }#T_2cf87_row0_col11{\n",
       "            background-color:  #20928c;\n",
       "            color:  #000000;\n",
       "        }#T_2cf87_row0_col12{\n",
       "            background-color:  #28ae80;\n",
       "            color:  #000000;\n",
       "        }#T_2cf87_row0_col13{\n",
       "            background-color:  #a2da37;\n",
       "            color:  #000000;\n",
       "        }#T_2cf87_row0_col14,#T_2cf87_row1_col14{\n",
       "            background-color:  #e7e419;\n",
       "            color:  #000000;\n",
       "        }#T_2cf87_row0_col15{\n",
       "            background-color:  #efe51c;\n",
       "            color:  #000000;\n",
       "        }#T_2cf87_row0_col16,#T_2cf87_row1_col16,#T_2cf87_row2_col16,#T_2cf87_row3_col16,#T_2cf87_row4_col16{\n",
       "            background-color:  #fbe723;\n",
       "            color:  #000000;\n",
       "        }#T_2cf87_row0_col17,#T_2cf87_row1_col17,#T_2cf87_row2_col17,#T_2cf87_row3_col17,#T_2cf87_row4_col17{\n",
       "            background-color:  #fde725;\n",
       "            color:  #000000;\n",
       "        }#T_2cf87_row1_col7{\n",
       "            background-color:  #7ad151;\n",
       "            color:  #000000;\n",
       "        }#T_2cf87_row1_col9{\n",
       "            background-color:  #3b528b;\n",
       "            color:  #f1f1f1;\n",
       "        }#T_2cf87_row1_col10{\n",
       "            background-color:  #21918c;\n",
       "            color:  #000000;\n",
       "        }#T_2cf87_row1_col11{\n",
       "            background-color:  #1e9c89;\n",
       "            color:  #000000;\n",
       "        }#T_2cf87_row1_col12{\n",
       "            background-color:  #2cb17e;\n",
       "            color:  #000000;\n",
       "        }#T_2cf87_row1_col13{\n",
       "            background-color:  #a0da39;\n",
       "            color:  #000000;\n",
       "        }#T_2cf87_row1_col15,#T_2cf87_row4_col15{\n",
       "            background-color:  #ece51b;\n",
       "            color:  #000000;\n",
       "        }#T_2cf87_row2_col7{\n",
       "            background-color:  #5ac864;\n",
       "            color:  #000000;\n",
       "        }#T_2cf87_row2_col9{\n",
       "            background-color:  #297a8e;\n",
       "            color:  #000000;\n",
       "        }#T_2cf87_row2_col10{\n",
       "            background-color:  #1f9e89;\n",
       "            color:  #000000;\n",
       "        }#T_2cf87_row2_col11{\n",
       "            background-color:  #21a585;\n",
       "            color:  #000000;\n",
       "        }#T_2cf87_row2_col12{\n",
       "            background-color:  #37b878;\n",
       "            color:  #000000;\n",
       "        }#T_2cf87_row2_col13{\n",
       "            background-color:  #b2dd2d;\n",
       "            color:  #000000;\n",
       "        }#T_2cf87_row2_col14{\n",
       "            background-color:  #eae51a;\n",
       "            color:  #000000;\n",
       "        }#T_2cf87_row2_col15,#T_2cf87_row3_col15{\n",
       "            background-color:  #f1e51d;\n",
       "            color:  #000000;\n",
       "        }#T_2cf87_row3_col7{\n",
       "            background-color:  #25ab82;\n",
       "            color:  #000000;\n",
       "        }#T_2cf87_row3_col9,#T_2cf87_row4_col10{\n",
       "            background-color:  #375a8c;\n",
       "            color:  #f1f1f1;\n",
       "        }#T_2cf87_row3_col10{\n",
       "            background-color:  #2f6b8e;\n",
       "            color:  #f1f1f1;\n",
       "        }#T_2cf87_row3_col11{\n",
       "            background-color:  #29798e;\n",
       "            color:  #000000;\n",
       "        }#T_2cf87_row3_col12{\n",
       "            background-color:  #21908d;\n",
       "            color:  #000000;\n",
       "        }#T_2cf87_row3_col13{\n",
       "            background-color:  #93d741;\n",
       "            color:  #000000;\n",
       "        }#T_2cf87_row3_col14{\n",
       "            background-color:  #dae319;\n",
       "            color:  #000000;\n",
       "        }#T_2cf87_row4_col7{\n",
       "            background-color:  #1f978b;\n",
       "            color:  #000000;\n",
       "        }#T_2cf87_row4_col9{\n",
       "            background-color:  #482576;\n",
       "            color:  #f1f1f1;\n",
       "        }#T_2cf87_row4_col11{\n",
       "            background-color:  #3d4d8a;\n",
       "            color:  #f1f1f1;\n",
       "        }#T_2cf87_row4_col12{\n",
       "            background-color:  #306a8e;\n",
       "            color:  #f1f1f1;\n",
       "        }#T_2cf87_row4_col13{\n",
       "            background-color:  #65cb5e;\n",
       "            color:  #000000;\n",
       "        }#T_2cf87_row4_col14{\n",
       "            background-color:  #c8e020;\n",
       "            color:  #000000;\n",
       "        }</style><table id=\"T_2cf87_\" ><thead>    <tr>        <th class=\"blank level0\" ></th>        <th class=\"col_heading level0 col0\" >Key</th>        <th class=\"col_heading level0 col1\" >Weken terug</th>        <th class=\"col_heading level0 col2\" >Datum</th>        <th class=\"col_heading level0 col3\" >Periode</th>        <th class=\"col_heading level0 col4\" >Gemiddelde leeftijd</th>        <th class=\"col_heading level0 col5\" >Totaal</th>        <th class=\"col_heading level0 col6\" >Type</th>        <th class=\"col_heading level0 col7\" >0-9</th>        <th class=\"col_heading level0 col8\" >10-19</th>        <th class=\"col_heading level0 col9\" >20-29</th>        <th class=\"col_heading level0 col10\" >30-39</th>        <th class=\"col_heading level0 col11\" >40-49</th>        <th class=\"col_heading level0 col12\" >50-59</th>        <th class=\"col_heading level0 col13\" >60-69</th>        <th class=\"col_heading level0 col14\" >70-79</th>        <th class=\"col_heading level0 col15\" >80-89</th>        <th class=\"col_heading level0 col16\" >90+</th>        <th class=\"col_heading level0 col17\" >Onbekend</th>        <th class=\"col_heading level0 col18\" >c0-9</th>        <th class=\"col_heading level0 col19\" >c10-19</th>        <th class=\"col_heading level0 col20\" >c20-29</th>        <th class=\"col_heading level0 col21\" >c30-39</th>        <th class=\"col_heading level0 col22\" >c40-49</th>        <th class=\"col_heading level0 col23\" >c50-59</th>        <th class=\"col_heading level0 col24\" >c60-69</th>        <th class=\"col_heading level0 col25\" >c70-79</th>        <th class=\"col_heading level0 col26\" >c80-89</th>        <th class=\"col_heading level0 col27\" >c90+</th>        <th class=\"col_heading level0 col28\" >cOnbekend</th>    </tr></thead><tbody>\n",
       "                <tr>\n",
       "                        <th id=\"T_2cf87_level0_row0\" class=\"row_heading level0 row0\" >0</th>\n",
       "                        <td id=\"T_2cf87_row0_col0\" class=\"data row0 col0\" >p000</td>\n",
       "                        <td id=\"T_2cf87_row0_col1\" class=\"data row0 col1\" >0</td>\n",
       "                        <td id=\"T_2cf87_row0_col2\" class=\"data row0 col2\" >2021-06-30 00:00:00</td>\n",
       "                        <td id=\"T_2cf87_row0_col3\" class=\"data row0 col3\" >24/06-30/06</td>\n",
       "                        <td id=\"T_2cf87_row0_col4\" class=\"data row0 col4\" >30.500000</td>\n",
       "                        <td id=\"T_2cf87_row0_col5\" class=\"data row0 col5\" >2357.000000</td>\n",
       "                        <td id=\"T_2cf87_row0_col6\" class=\"data row0 col6\" >Positief getest</td>\n",
       "                        <td id=\"T_2cf87_row0_col7\" class=\"data row0 col7\" >154.000000</td>\n",
       "                        <td id=\"T_2cf87_row0_col8\" class=\"data row0 col8\" >608.000000</td>\n",
       "                        <td id=\"T_2cf87_row0_col9\" class=\"data row0 col9\" >587.000000</td>\n",
       "                        <td id=\"T_2cf87_row0_col10\" class=\"data row0 col10\" >358.000000</td>\n",
       "                        <td id=\"T_2cf87_row0_col11\" class=\"data row0 col11\" >297.000000</td>\n",
       "                        <td id=\"T_2cf87_row0_col12\" class=\"data row0 col12\" >227.000000</td>\n",
       "                        <td id=\"T_2cf87_row0_col13\" class=\"data row0 col13\" >84.000000</td>\n",
       "                        <td id=\"T_2cf87_row0_col14\" class=\"data row0 col14\" >23.000000</td>\n",
       "                        <td id=\"T_2cf87_row0_col15\" class=\"data row0 col15\" >15.000000</td>\n",
       "                        <td id=\"T_2cf87_row0_col16\" class=\"data row0 col16\" >4.000000</td>\n",
       "                        <td id=\"T_2cf87_row0_col17\" class=\"data row0 col17\" >0.000000</td>\n",
       "                        <td id=\"T_2cf87_row0_col18\" class=\"data row0 col18\" >253</td>\n",
       "                        <td id=\"T_2cf87_row0_col19\" class=\"data row0 col19\" >1000</td>\n",
       "                        <td id=\"T_2cf87_row0_col20\" class=\"data row0 col20\" >965</td>\n",
       "                        <td id=\"T_2cf87_row0_col21\" class=\"data row0 col21\" >588</td>\n",
       "                        <td id=\"T_2cf87_row0_col22\" class=\"data row0 col22\" >488</td>\n",
       "                        <td id=\"T_2cf87_row0_col23\" class=\"data row0 col23\" >373</td>\n",
       "                        <td id=\"T_2cf87_row0_col24\" class=\"data row0 col24\" >138</td>\n",
       "                        <td id=\"T_2cf87_row0_col25\" class=\"data row0 col25\" >37</td>\n",
       "                        <td id=\"T_2cf87_row0_col26\" class=\"data row0 col26\" >24</td>\n",
       "                        <td id=\"T_2cf87_row0_col27\" class=\"data row0 col27\" >6</td>\n",
       "                        <td id=\"T_2cf87_row0_col28\" class=\"data row0 col28\" >0</td>\n",
       "            </tr>\n",
       "            <tr>\n",
       "                        <th id=\"T_2cf87_level0_row1\" class=\"row_heading level0 row1\" >1</th>\n",
       "                        <td id=\"T_2cf87_row1_col0\" class=\"data row1 col0\" >p001</td>\n",
       "                        <td id=\"T_2cf87_row1_col1\" class=\"data row1 col1\" >1</td>\n",
       "                        <td id=\"T_2cf87_row1_col2\" class=\"data row1 col2\" >2021-06-30 00:00:00</td>\n",
       "                        <td id=\"T_2cf87_row1_col3\" class=\"data row1 col3\" >17/06-23/06</td>\n",
       "                        <td id=\"T_2cf87_row1_col4\" class=\"data row1 col4\" >30.900000</td>\n",
       "                        <td id=\"T_2cf87_row1_col5\" class=\"data row1 col5\" >4438.000000</td>\n",
       "                        <td id=\"T_2cf87_row1_col6\" class=\"data row1 col6\" >Positief getest</td>\n",
       "                        <td id=\"T_2cf87_row1_col7\" class=\"data row1 col7\" >256.000000</td>\n",
       "                        <td id=\"T_2cf87_row1_col8\" class=\"data row1 col8\" >1280.000000</td>\n",
       "                        <td id=\"T_2cf87_row1_col9\" class=\"data row1 col9\" >955.000000</td>\n",
       "                        <td id=\"T_2cf87_row1_col10\" class=\"data row1 col10\" >637.000000</td>\n",
       "                        <td id=\"T_2cf87_row1_col11\" class=\"data row1 col11\" >578.000000</td>\n",
       "                        <td id=\"T_2cf87_row1_col12\" class=\"data row1 col12\" >463.000000</td>\n",
       "                        <td id=\"T_2cf87_row1_col13\" class=\"data row1 col13\" >183.000000</td>\n",
       "                        <td id=\"T_2cf87_row1_col14\" class=\"data row1 col14\" >46.000000</td>\n",
       "                        <td id=\"T_2cf87_row1_col15\" class=\"data row1 col15\" >35.000000</td>\n",
       "                        <td id=\"T_2cf87_row1_col16\" class=\"data row1 col16\" >5.000000</td>\n",
       "                        <td id=\"T_2cf87_row1_col17\" class=\"data row1 col17\" >0.000000</td>\n",
       "                        <td id=\"T_2cf87_row1_col18\" class=\"data row1 col18\" >200</td>\n",
       "                        <td id=\"T_2cf87_row1_col19\" class=\"data row1 col19\" >1000</td>\n",
       "                        <td id=\"T_2cf87_row1_col20\" class=\"data row1 col20\" >746</td>\n",
       "                        <td id=\"T_2cf87_row1_col21\" class=\"data row1 col21\" >497</td>\n",
       "                        <td id=\"T_2cf87_row1_col22\" class=\"data row1 col22\" >451</td>\n",
       "                        <td id=\"T_2cf87_row1_col23\" class=\"data row1 col23\" >361</td>\n",
       "                        <td id=\"T_2cf87_row1_col24\" class=\"data row1 col24\" >142</td>\n",
       "                        <td id=\"T_2cf87_row1_col25\" class=\"data row1 col25\" >35</td>\n",
       "                        <td id=\"T_2cf87_row1_col26\" class=\"data row1 col26\" >27</td>\n",
       "                        <td id=\"T_2cf87_row1_col27\" class=\"data row1 col27\" >3</td>\n",
       "                        <td id=\"T_2cf87_row1_col28\" class=\"data row1 col28\" >0</td>\n",
       "            </tr>\n",
       "            <tr>\n",
       "                        <th id=\"T_2cf87_level0_row2\" class=\"row_heading level0 row2\" >2</th>\n",
       "                        <td id=\"T_2cf87_row2_col0\" class=\"data row2 col0\" >p002</td>\n",
       "                        <td id=\"T_2cf87_row2_col1\" class=\"data row2 col1\" >2</td>\n",
       "                        <td id=\"T_2cf87_row2_col2\" class=\"data row2 col2\" >2021-06-30 00:00:00</td>\n",
       "                        <td id=\"T_2cf87_row2_col3\" class=\"data row2 col3\" >10/06-16/06</td>\n",
       "                        <td id=\"T_2cf87_row2_col4\" class=\"data row2 col4\" >29.800000</td>\n",
       "                        <td id=\"T_2cf87_row2_col5\" class=\"data row2 col5\" >6874.000000</td>\n",
       "                        <td id=\"T_2cf87_row2_col6\" class=\"data row2 col6\" >Positief getest</td>\n",
       "                        <td id=\"T_2cf87_row2_col7\" class=\"data row2 col7\" >547.000000</td>\n",
       "                        <td id=\"T_2cf87_row2_col8\" class=\"data row2 col8\" >2143.000000</td>\n",
       "                        <td id=\"T_2cf87_row2_col9\" class=\"data row2 col9\" >1271.000000</td>\n",
       "                        <td id=\"T_2cf87_row2_col10\" class=\"data row2 col10\" >947.000000</td>\n",
       "                        <td id=\"T_2cf87_row2_col11\" class=\"data row2 col11\" >881.000000</td>\n",
       "                        <td id=\"T_2cf87_row2_col12\" class=\"data row2 col12\" >707.000000</td>\n",
       "                        <td id=\"T_2cf87_row2_col13\" class=\"data row2 col13\" >244.000000</td>\n",
       "                        <td id=\"T_2cf87_row2_col14\" class=\"data row2 col14\" >73.000000</td>\n",
       "                        <td id=\"T_2cf87_row2_col15\" class=\"data row2 col15\" >50.000000</td>\n",
       "                        <td id=\"T_2cf87_row2_col16\" class=\"data row2 col16\" >11.000000</td>\n",
       "                        <td id=\"T_2cf87_row2_col17\" class=\"data row2 col17\" >0.000000</td>\n",
       "                        <td id=\"T_2cf87_row2_col18\" class=\"data row2 col18\" >255</td>\n",
       "                        <td id=\"T_2cf87_row2_col19\" class=\"data row2 col19\" >1000</td>\n",
       "                        <td id=\"T_2cf87_row2_col20\" class=\"data row2 col20\" >593</td>\n",
       "                        <td id=\"T_2cf87_row2_col21\" class=\"data row2 col21\" >441</td>\n",
       "                        <td id=\"T_2cf87_row2_col22\" class=\"data row2 col22\" >411</td>\n",
       "                        <td id=\"T_2cf87_row2_col23\" class=\"data row2 col23\" >329</td>\n",
       "                        <td id=\"T_2cf87_row2_col24\" class=\"data row2 col24\" >113</td>\n",
       "                        <td id=\"T_2cf87_row2_col25\" class=\"data row2 col25\" >34</td>\n",
       "                        <td id=\"T_2cf87_row2_col26\" class=\"data row2 col26\" >23</td>\n",
       "                        <td id=\"T_2cf87_row2_col27\" class=\"data row2 col27\" >5</td>\n",
       "                        <td id=\"T_2cf87_row2_col28\" class=\"data row2 col28\" >0</td>\n",
       "            </tr>\n",
       "            <tr>\n",
       "                        <th id=\"T_2cf87_level0_row3\" class=\"row_heading level0 row3\" >3</th>\n",
       "                        <td id=\"T_2cf87_row3_col0\" class=\"data row3 col0\" >p003</td>\n",
       "                        <td id=\"T_2cf87_row3_col1\" class=\"data row3 col1\" >3</td>\n",
       "                        <td id=\"T_2cf87_row3_col2\" class=\"data row3 col2\" >2021-06-30 00:00:00</td>\n",
       "                        <td id=\"T_2cf87_row3_col3\" class=\"data row3 col3\" >03/06-09/06</td>\n",
       "                        <td id=\"T_2cf87_row3_col4\" class=\"data row3 col4\" >31.500000</td>\n",
       "                        <td id=\"T_2cf87_row3_col5\" class=\"data row3 col5\" >10648.000000</td>\n",
       "                        <td id=\"T_2cf87_row3_col6\" class=\"data row3 col6\" >Positief getest</td>\n",
       "                        <td id=\"T_2cf87_row3_col7\" class=\"data row3 col7\" >1010.000000</td>\n",
       "                        <td id=\"T_2cf87_row3_col8\" class=\"data row3 col8\" >2591.000000</td>\n",
       "                        <td id=\"T_2cf87_row3_col9\" class=\"data row3 col9\" >1866.000000</td>\n",
       "                        <td id=\"T_2cf87_row3_col10\" class=\"data row3 col10\" >1693.000000</td>\n",
       "                        <td id=\"T_2cf87_row3_col11\" class=\"data row3 col11\" >1547.000000</td>\n",
       "                        <td id=\"T_2cf87_row3_col12\" class=\"data row3 col12\" >1301.000000</td>\n",
       "                        <td id=\"T_2cf87_row3_col13\" class=\"data row3 col13\" >417.000000</td>\n",
       "                        <td id=\"T_2cf87_row3_col14\" class=\"data row3 col14\" >151.000000</td>\n",
       "                        <td id=\"T_2cf87_row3_col15\" class=\"data row3 col15\" >55.000000</td>\n",
       "                        <td id=\"T_2cf87_row3_col16\" class=\"data row3 col16\" >17.000000</td>\n",
       "                        <td id=\"T_2cf87_row3_col17\" class=\"data row3 col17\" >0.000000</td>\n",
       "                        <td id=\"T_2cf87_row3_col18\" class=\"data row3 col18\" >389</td>\n",
       "                        <td id=\"T_2cf87_row3_col19\" class=\"data row3 col19\" >1000</td>\n",
       "                        <td id=\"T_2cf87_row3_col20\" class=\"data row3 col20\" >720</td>\n",
       "                        <td id=\"T_2cf87_row3_col21\" class=\"data row3 col21\" >653</td>\n",
       "                        <td id=\"T_2cf87_row3_col22\" class=\"data row3 col22\" >597</td>\n",
       "                        <td id=\"T_2cf87_row3_col23\" class=\"data row3 col23\" >502</td>\n",
       "                        <td id=\"T_2cf87_row3_col24\" class=\"data row3 col24\" >160</td>\n",
       "                        <td id=\"T_2cf87_row3_col25\" class=\"data row3 col25\" >58</td>\n",
       "                        <td id=\"T_2cf87_row3_col26\" class=\"data row3 col26\" >21</td>\n",
       "                        <td id=\"T_2cf87_row3_col27\" class=\"data row3 col27\" >6</td>\n",
       "                        <td id=\"T_2cf87_row3_col28\" class=\"data row3 col28\" >0</td>\n",
       "            </tr>\n",
       "            <tr>\n",
       "                        <th id=\"T_2cf87_level0_row4\" class=\"row_heading level0 row4\" >4</th>\n",
       "                        <td id=\"T_2cf87_row4_col0\" class=\"data row4 col0\" >p004</td>\n",
       "                        <td id=\"T_2cf87_row4_col1\" class=\"data row4 col1\" >4</td>\n",
       "                        <td id=\"T_2cf87_row4_col2\" class=\"data row4 col2\" >2021-06-30 00:00:00</td>\n",
       "                        <td id=\"T_2cf87_row4_col3\" class=\"data row4 col3\" >27/05-02/06</td>\n",
       "                        <td id=\"T_2cf87_row4_col4\" class=\"data row4 col4\" >32.900000</td>\n",
       "                        <td id=\"T_2cf87_row4_col5\" class=\"data row4 col5\" >16797.000000</td>\n",
       "                        <td id=\"T_2cf87_row4_col6\" class=\"data row4 col6\" >Positief getest</td>\n",
       "                        <td id=\"T_2cf87_row4_col7\" class=\"data row4 col7\" >1624.000000</td>\n",
       "                        <td id=\"T_2cf87_row4_col8\" class=\"data row4 col8\" >3449.000000</td>\n",
       "                        <td id=\"T_2cf87_row4_col9\" class=\"data row4 col9\" >3094.000000</td>\n",
       "                        <td id=\"T_2cf87_row4_col10\" class=\"data row4 col10\" >2486.000000</td>\n",
       "                        <td id=\"T_2cf87_row4_col11\" class=\"data row4 col11\" >2653.000000</td>\n",
       "                        <td id=\"T_2cf87_row4_col12\" class=\"data row4 col12\" >2269.000000</td>\n",
       "                        <td id=\"T_2cf87_row4_col13\" class=\"data row4 col13\" >811.000000</td>\n",
       "                        <td id=\"T_2cf87_row4_col14\" class=\"data row4 col14\" >292.000000</td>\n",
       "                        <td id=\"T_2cf87_row4_col15\" class=\"data row4 col15\" >101.000000</td>\n",
       "                        <td id=\"T_2cf87_row4_col16\" class=\"data row4 col16\" >18.000000</td>\n",
       "                        <td id=\"T_2cf87_row4_col17\" class=\"data row4 col17\" >0.000000</td>\n",
       "                        <td id=\"T_2cf87_row4_col18\" class=\"data row4 col18\" >470</td>\n",
       "                        <td id=\"T_2cf87_row4_col19\" class=\"data row4 col19\" >1000</td>\n",
       "                        <td id=\"T_2cf87_row4_col20\" class=\"data row4 col20\" >897</td>\n",
       "                        <td id=\"T_2cf87_row4_col21\" class=\"data row4 col21\" >720</td>\n",
       "                        <td id=\"T_2cf87_row4_col22\" class=\"data row4 col22\" >769</td>\n",
       "                        <td id=\"T_2cf87_row4_col23\" class=\"data row4 col23\" >657</td>\n",
       "                        <td id=\"T_2cf87_row4_col24\" class=\"data row4 col24\" >235</td>\n",
       "                        <td id=\"T_2cf87_row4_col25\" class=\"data row4 col25\" >84</td>\n",
       "                        <td id=\"T_2cf87_row4_col26\" class=\"data row4 col26\" >29</td>\n",
       "                        <td id=\"T_2cf87_row4_col27\" class=\"data row4 col27\" >5</td>\n",
       "                        <td id=\"T_2cf87_row4_col28\" class=\"data row4 col28\" >0</td>\n",
       "            </tr>\n",
       "    </tbody></table>"
      ],
      "text/plain": [
       "<pandas.io.formats.style.Styler at 0x7f8d19bea040>"
      ]
     },
     "metadata": {},
     "output_type": "display_data"
    }
   ],
   "source": [
    "# Bereken de stand van zaken van besmettingen / hospitalisaties / overlijden, per cohort in absolute aantallen en aantallen per 100k, met een kleur indicator voor de aantallen.\n",
    "# vervang <50 en Unknown door Onbekend\n",
    "@run\n",
    "def cell():\n",
    "  rivm['Cohort'] = rivm['Agegroup'].replace({'<50': 'Onbekend', 'Unknown': 'Onbekend'})\n",
    "  # aangenomen 'gemiddelde' leeftijd van een cohort: minimum waarde + 5\n",
    "  assumed_cohort_age = [(cohort, [int(n) for n in cohort.replace('+', '').split('-')]) for cohort in rivm['Cohort'].unique() if cohort[0].isdigit()]\n",
    "  assumed_cohort_age = { cohort: min(rng) + 5 for cohort, rng in assumed_cohort_age }\n",
    "  rivm['Gemiddelde leeftijd'] = rivm['Cohort'].apply(lambda x: assumed_cohort_age.get(x, np.nan))\n",
    "\n",
    "  # verwijder tijd\n",
    "  rivm['Date_file_date'] = pd.to_datetime(rivm['Date_file'].replace(r' .*', '', regex=True))\n",
    "\n",
    "  rivm['Date_statistics_date'] = pd.to_datetime(rivm['Date_statistics'])\n",
    "\n",
    "  # weken terug = verschil tussen Date_file en Date_statistcs, gedeeld door 7 dagen\n",
    "  rivm['Weken terug'] = np.floor((rivm['Date_file_date'] - rivm['Date_statistics_date'])/np.timedelta64(7, 'D')).astype(int)\n",
    "\n",
    "  # voeg key, gem leeftijd, kleurnummer en totaal toe\n",
    "  Date_file = rivm['Date_file_date'].unique()[0].astype('M8[D]').astype('O')\n",
    "  cohorten = list(bevolking.index) + ['Onbekend']\n",
    "  def summarize(df, category, prefix):\n",
    "    # aangezien we hier de dataframe in-place wijzigen (bijv door toevoegen kolommen)\n",
    "    # en we het 'rivm' frame later nog clean nodig hebben\n",
    "    df = df.copy(deep=True)\n",
    "\n",
    "    df = (df\n",
    "          .groupby(['Weken terug', 'Cohort'])['count']\n",
    "          .sum()\n",
    "          .unstack(fill_value=np.nan)\n",
    "          .reset_index()\n",
    "          .rename_axis(None, axis=1)\n",
    "        ).merge(df\n",
    "          # we voegen hier gemiddelde leeftijd toe, want die willen we op een ander\n",
    "          # niveau aggregeren voor 'df' overschreven word\n",
    "          .groupby(['Weken terug'])['Gemiddelde leeftijd']\n",
    "          .mean()\n",
    "          .to_frame(), on='Weken terug'\n",
    "        )\n",
    "\n",
    "    # altijd 52 rijen\n",
    "    df = pd.Series(np.arange(52), name='Weken terug').to_frame().merge(df, how='left', on='Weken terug')\n",
    "\n",
    "    # toevoegen missende cohorten\n",
    "    for col in cohorten:\n",
    "      if not col in df:\n",
    "        df[col] = np.nan\n",
    "\n",
    "    # sommeer per rij (axis=1) over de cohorten om een totaal te krijgen\n",
    "    df['Totaal'] = df[cohorten].sum(axis=1)\n",
    "\n",
    "    # voeg periode en datum toe\n",
    "    # periode afgeleid van weken-terug (= de index voor deze dataframe)\n",
    "    df['Datum'] = pd.to_datetime(Date_file)\n",
    "    df['Periode'] = (df\n",
    "      .index.to_series()\n",
    "      .apply(\n",
    "        lambda x: (\n",
    "          (Date_file + datetime.timedelta(weeks=-(x+1), days=1)).strftime('%d/%m')\n",
    "          + '-'\n",
    "          + (Date_file + datetime.timedelta(weeks=-x)).strftime('%d/%m')\n",
    "        )\n",
    "      )\n",
    "    )\n",
    "\n",
    "    # voeg 'Key' en 'Type' kolom toe. Variabele 'type' kan niet, is een language primitive.\n",
    "    df['Key'] = prefix + df.index.astype(str).str.rjust(3, fillchar='0')\n",
    "    df['Type'] = category\n",
    "\n",
    "    # voeg de kleur kolommen toe\n",
    "    for col in cohorten:\n",
    "      df['c' + col] = ((df[col] / df[[col for col in cohorten]].max(axis=1)) * 1000).fillna(0).astype(int)\n",
    "\n",
    "    # herschikken van de kolommen\n",
    "    colorder = ['Key', 'Weken terug', 'Datum', 'Periode', 'Gemiddelde leeftijd', 'Totaal', 'Type']\n",
    "    return df[colorder + [col for col in df if col not in colorder]]\n",
    "\n",
    "  factor = bevolking.to_dict()['per 100k']\n",
    "  global tabel\n",
    "  tabel = pd.concat(\n",
    "    # flatten the result list zodat pd.concat ze onder elkaar kan plakken\n",
    "    functools.reduce(lambda a, b: a + b, [\n",
    "      [summarize(df.assign(count=1), label, prefix), summarize(df.assign(count=df['Cohort'].apply(lambda x: factor.get(x, np.nan))), label + ' per 100.000', prefix + '100k')]\n",
    "      for df, label, prefix in [\n",
    "        (rivm, 'Positief getest', 'p'), # volledige count per cohort\n",
    "        (rivm[rivm.Hospital_admission == 'Yes'], 'Ziekenhuisopname', 'h'), # count van cohort voor Hospital_admission == 'Yes'\n",
    "        (rivm[rivm.Deceased == 'Yes'], 'Overleden', 'd'), # count van cohort voor Deceased == 'Yes'\n",
    "      ]\n",
    "    ])\n",
    "  )\n",
    "\n",
    "  # rood -> groen\n",
    "  cdict = {\n",
    "    'red':   ((0.0, 0.0, 0.0),   # no red at 0\n",
    "              (0.5, 1.0, 1.0),   # all channels set to 1.0 at 0.5 to create white\n",
    "              (1.0, 0.8, 0.8)),  # set to 0.8 so its not too bright at 1\n",
    "    'green': ((0.0, 0.8, 0.8),   # set to 0.8 so its not too bright at 0\n",
    "              (0.5, 1.0, 1.0),   # all channels set to 1.0 at 0.5 to create white\n",
    "              (1.0, 0.0, 0.0)),  # no green at 1\n",
    "    'blue':  ((0.0, 0.0, 0.0),   # no blue at 0\n",
    "              (0.5, 1.0, 1.0),   # all channels set to 1.0 at 0.5 to create white\n",
    "              (1.0, 0.0, 0.0))   # no blue at 1\n",
    "  }\n",
    "  cm = colors.LinearSegmentedColormap('GnRd', cdict)\n",
    "  # geel -> paars\n",
    "  cm = sns.color_palette('viridis_r', as_cmap=True)\n",
    "  display(tabel\n",
    "    .fillna(0)\n",
    "    .head()\n",
    "    .round(1)\n",
    "    .reset_index(drop=True)\n",
    "    .style.background_gradient(cmap=cm, axis=1, subset=cohorten)\n",
    "  )"
   ]
  },
  {
   "cell_type": "code",
   "execution_count": 5,
   "id": "992c64af",
   "metadata": {
    "execution": {
     "iopub.execute_input": "2021-06-30T19:20:09.102671Z",
     "iopub.status.busy": "2021-06-30T19:20:09.102111Z",
     "iopub.status.idle": "2021-06-30T19:20:23.465895Z",
     "shell.execute_reply": "2021-06-30T19:20:23.466336Z"
    },
    "papermill": {
     "duration": 14.375919,
     "end_time": "2021-06-30T19:20:23.466501",
     "exception": false,
     "start_time": "2021-06-30T19:20:09.090582",
     "status": "completed"
    },
    "tags": [],
    "title": "publish"
   },
   "outputs": [
    {
     "name": "stdout",
     "output_type": "stream",
     "text": [
      "infinities:\n"
     ]
    },
    {
     "name": "stdout",
     "output_type": "stream",
     "text": [
      "Empty DataFrame\n",
      "Columns: []\n",
      "Index: []\n"
     ]
    },
    {
     "name": "stdout",
     "output_type": "stream",
     "text": [
      "nan:\n"
     ]
    },
    {
     "name": "stdout",
     "output_type": "stream",
     "text": [
      "Empty DataFrame\n",
      "Columns: []\n",
      "Index: []\n"
     ]
    },
    {
     "name": "stdout",
     "output_type": "stream",
     "text": [
      "Key                     object\n",
      "Weken terug              int64\n",
      "Datum                   object\n",
      "Periode                 object\n",
      "Gemiddelde leeftijd    float64\n",
      "Totaal                 float64\n",
      "Type                    object\n",
      "0-9                    float64\n",
      "10-19                  float64\n",
      "20-29                  float64\n",
      "30-39                  float64\n",
      "40-49                  float64\n",
      "50-59                  float64\n",
      "60-69                  float64\n",
      "70-79                  float64\n",
      "80-89                  float64\n",
      "90+                    float64\n",
      "Onbekend               float64\n",
      "c0-9                     int64\n",
      "c10-19                   int64\n",
      "c20-29                   int64\n",
      "c30-39                   int64\n",
      "c40-49                   int64\n",
      "c50-59                   int64\n",
      "c60-69                   int64\n",
      "c70-79                   int64\n",
      "c80-89                   int64\n",
      "c90+                     int64\n",
      "cOnbekend                int64\n",
      "dtype: object\n",
      "updating knack\n"
     ]
    },
    {
     "name": "stdout",
     "output_type": "stream",
     "text": [
      "updating: [{'Key': 1, 'Updating Leeftijdsgroep': 'true'}]\n"
     ]
    },
    {
     "name": "stdout",
     "output_type": "stream",
     "text": [
      "restored LaatsteUpdate from hash\n"
     ]
    },
    {
     "name": "stderr",
     "output_type": "stream",
     "text": [
      "\r",
      "  0%|          | 0/1 [00:00<?, ?it/s]"
     ]
    },
    {
     "name": "stdout",
     "output_type": "stream",
     "text": [
      "Key                         int64\n",
      "Updating Leeftijdsgroep    object\n",
      "dtype: object\n"
     ]
    },
    {
     "name": "stderr",
     "output_type": "stream",
     "text": [
      "\r",
      "100%|██████████| 1/1 [00:04<00:00,  4.90s/it]"
     ]
    },
    {
     "name": "stderr",
     "output_type": "stream",
     "text": [
      "\r",
      "100%|██████████| 1/1 [00:04<00:00,  4.90s/it]"
     ]
    },
    {
     "name": "stderr",
     "output_type": "stream",
     "text": [
      "\n"
     ]
    },
    {
     "name": "stdout",
     "output_type": "stream",
     "text": [
      "\n",
      "rate limit: 7 \n",
      "LaatsteUpdate API calls: create: 0, read: 1, update: 1, delete: 0, backoff: 0\n"
     ]
    },
    {
     "name": "stdout",
     "output_type": "stream",
     "text": [
      "restored Leeftijdsgroep from hash\n"
     ]
    },
    {
     "name": "stdout",
     "output_type": "stream",
     "text": [
      "0-9                    float64\n",
      "10-19                  float64\n",
      "20-29                  float64\n",
      "30-39                  float64\n",
      "40-49                  float64\n",
      "50-59                  float64\n",
      "60-69                  float64\n",
      "70-79                  float64\n",
      "80-89                  float64\n",
      "90+                    float64\n",
      "Datum                   object\n",
      "Gemiddelde leeftijd    float64\n",
      "Key                     object\n",
      "Onbekend               float64\n",
      "Periode                 object\n",
      "Totaal                 float64\n",
      "Type                    object\n",
      "Weken terug              int64\n",
      "c0-9                     int64\n",
      "c10-19                   int64\n",
      "c20-29                   int64\n",
      "c30-39                   int64\n",
      "c40-49                   int64\n",
      "c50-59                   int64\n",
      "c60-69                   int64\n",
      "c70-79                   int64\n",
      "c80-89                   int64\n",
      "c90+                     int64\n",
      "cOnbekend                int64\n",
      "dtype: object\n",
      "nothing to do for Leeftijdsgroep\n"
     ]
    },
    {
     "name": "stdout",
     "output_type": "stream",
     "text": [
      "\n",
      "rate limit: 7 \n",
      "Leeftijdsgroep API calls: create: 0, read: 1, update: 0, delete: 0, backoff: 0\n"
     ]
    },
    {
     "name": "stdout",
     "output_type": "stream",
     "text": [
      "[{'Key': 1, 'Timestamp Leeftijdsgroep RIVM': '2021-06-30 14:15'}]\n"
     ]
    },
    {
     "name": "stderr",
     "output_type": "stream",
     "text": [
      "\r",
      "  0%|          | 0/1 [00:00<?, ?it/s]"
     ]
    },
    {
     "name": "stdout",
     "output_type": "stream",
     "text": [
      "timestamps: [{'Key': 1, 'Timestamp Leeftijdsgroep RIVM': '2021-06-30 14:15'}]\n",
      "Key                               int64\n",
      "Timestamp Leeftijdsgroep RIVM    object\n",
      "dtype: object\n"
     ]
    },
    {
     "name": "stderr",
     "output_type": "stream",
     "text": [
      "\r",
      "100%|██████████| 1/1 [00:01<00:00,  1.23s/it]"
     ]
    },
    {
     "name": "stderr",
     "output_type": "stream",
     "text": [
      "\r",
      "100%|██████████| 1/1 [00:01<00:00,  1.24s/it]"
     ]
    },
    {
     "name": "stderr",
     "output_type": "stream",
     "text": [
      "\n"
     ]
    },
    {
     "name": "stdout",
     "output_type": "stream",
     "text": [
      "\n",
      "rate limit: 7 \n",
      "LaatsteUpdate API calls: create: 0, read: 0, update: 1, delete: 0, backoff: 0\n"
     ]
    },
    {
     "name": "stderr",
     "output_type": "stream",
     "text": [
      "\r",
      "  0%|          | 0/1 [00:00<?, ?it/s]"
     ]
    },
    {
     "name": "stdout",
     "output_type": "stream",
     "text": [
      "BatchName     object\n",
      "ObjectName    object\n",
      "Source        object\n",
      "Timestamp     object\n",
      "dtype: object\n"
     ]
    },
    {
     "name": "stderr",
     "output_type": "stream",
     "text": [
      "\r",
      "100%|██████████| 1/1 [00:01<00:00,  1.03s/it]"
     ]
    },
    {
     "name": "stderr",
     "output_type": "stream",
     "text": [
      "\r",
      "100%|██████████| 1/1 [00:01<00:00,  1.04s/it]"
     ]
    },
    {
     "name": "stderr",
     "output_type": "stream",
     "text": [
      "\n"
     ]
    },
    {
     "name": "stdout",
     "output_type": "stream",
     "text": [
      "\n",
      "rate limit: 7 \n",
      "UpdateDetails API calls: create: 1, read: 0, update: 0, delete: 0, backoff: 0\n"
     ]
    },
    {
     "name": "stderr",
     "output_type": "stream",
     "text": [
      "\r",
      "  0%|          | 0/1 [00:00<?, ?it/s]"
     ]
    },
    {
     "name": "stdout",
     "output_type": "stream",
     "text": [
      "updating: [{'Key': 1, 'Updating Leeftijdsgroep': 'false'}]\n",
      "Key                         int64\n",
      "Updating Leeftijdsgroep    object\n",
      "dtype: object\n"
     ]
    },
    {
     "name": "stderr",
     "output_type": "stream",
     "text": [
      "\r",
      "100%|██████████| 1/1 [00:01<00:00,  1.14s/it]"
     ]
    },
    {
     "name": "stderr",
     "output_type": "stream",
     "text": [
      "\r",
      "100%|██████████| 1/1 [00:01<00:00,  1.14s/it]"
     ]
    },
    {
     "name": "stderr",
     "output_type": "stream",
     "text": [
      "\n"
     ]
    },
    {
     "name": "stdout",
     "output_type": "stream",
     "text": [
      "\n",
      "rate limit: 7 \n",
      "LaatsteUpdate API calls: create: 0, read: 0, update: 1, delete: 0, backoff: 0\n"
     ]
    }
   ],
   "source": [
    "if knack:\n",
    "  await knack.publish(tabel.fillna(0).assign(Datum=tabel.Datum.dt.strftime('%Y-%m-%d')), 'Leeftijdsgroep', Cache)"
   ]
  }
 ],
 "metadata": {
  "jupytext": {
   "cell_metadata_filter": "title,-all"
  },
  "kernelspec": {
   "display_name": "Python 3 (ipykernel)",
   "language": "python",
   "name": "python3"
  },
  "language_info": {
   "codemirror_mode": {
    "name": "ipython",
    "version": 3
   },
   "file_extension": ".py",
   "mimetype": "text/x-python",
   "name": "python",
   "nbconvert_exporter": "python",
   "pygments_lexer": "ipython3",
   "version": "3.9.5"
  },
  "papermill": {
   "default_parameters": {},
   "duration": 35.998203,
   "end_time": "2021-06-30T19:20:23.892700",
   "environment_variables": {},
   "exception": null,
   "input_path": "-",
   "output_path": "LeeftijdsgroepenLandelijk.ipynb",
   "parameters": {},
   "start_time": "2021-06-30T19:19:47.894497",
   "version": "2.3.3"
  }
 },
 "nbformat": 4,
 "nbformat_minor": 5
}