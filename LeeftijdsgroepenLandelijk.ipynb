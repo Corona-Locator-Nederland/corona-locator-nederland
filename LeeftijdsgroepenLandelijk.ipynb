{
 "cells": [
  {
   "cell_type": "code",
   "execution_count": 1,
   "id": "b6c81a0c",
   "metadata": {
    "execution": {
     "iopub.execute_input": "2021-12-05T14:30:56.137306Z",
     "iopub.status.busy": "2021-12-05T14:30:56.136665Z",
     "iopub.status.idle": "2021-12-05T14:31:00.899559Z",
     "shell.execute_reply": "2021-12-05T14:31:00.898404Z"
    },
    "lines_to_next_cell": 1,
    "papermill": {
     "duration": 4.79187,
     "end_time": "2021-12-05T14:31:00.899773",
     "exception": false,
     "start_time": "2021-12-05T14:30:56.107903",
     "status": "completed"
    },
    "tags": []
   },
   "outputs": [],
   "source": [
    "from IPython import get_ipython\n",
    "from IPython.core.display import display\n",
    "get_ipython().run_line_magic('load_ext', 'autoreload')\n",
    "get_ipython().run_line_magic('autoreload', '2')\n",
    "get_ipython().run_line_magic('run', 'setup')"
   ]
  },
  {
   "cell_type": "code",
   "execution_count": 2,
   "id": "5811c892",
   "metadata": {
    "execution": {
     "iopub.execute_input": "2021-12-05T14:31:00.937484Z",
     "iopub.status.busy": "2021-12-05T14:31:00.936817Z",
     "iopub.status.idle": "2021-12-05T14:40:38.942921Z",
     "shell.execute_reply": "2021-12-05T14:40:38.942377Z"
    },
    "lines_to_next_cell": 1,
    "papermill": {
     "duration": 578.026422,
     "end_time": "2021-12-05T14:40:38.943089",
     "exception": false,
     "start_time": "2021-12-05T14:31:00.916667",
     "status": "completed"
    },
    "tags": [],
    "title": "leeftijdsgroepen: download RIVM data"
   },
   "outputs": [
    {
     "name": "stdout",
     "output_type": "stream",
     "text": [
      "downloading rivm/COVID-19_casus_landelijk-2021-12-05@14-15.csv\n"
     ]
    },
    {
     "name": "stdout",
     "output_type": "stream",
     "text": [
      "rivm COVID-19_casus_landelijk zipping rivm/COVID-19_casus_landelijk-2021-12-05@14-15.csv\n"
     ]
    },
    {
     "name": "stdout",
     "output_type": "stream",
     "text": [
      "loading rivm/COVID-19_casus_landelijk-2021-12-05@14-15.csv.gz\n"
     ]
    },
    {
     "data": {
      "text/html": [
       "<div>\n",
       "<style scoped>\n",
       "    .dataframe tbody tr th:only-of-type {\n",
       "        vertical-align: middle;\n",
       "    }\n",
       "\n",
       "    .dataframe tbody tr th {\n",
       "        vertical-align: top;\n",
       "    }\n",
       "\n",
       "    .dataframe thead th {\n",
       "        text-align: right;\n",
       "    }\n",
       "</style>\n",
       "<table border=\"1\" class=\"dataframe\">\n",
       "  <thead>\n",
       "    <tr style=\"text-align: right;\">\n",
       "      <th></th>\n",
       "      <th>Date_file</th>\n",
       "      <th>Date_statistics</th>\n",
       "      <th>Date_statistics_type</th>\n",
       "      <th>Agegroup</th>\n",
       "      <th>Sex</th>\n",
       "      <th>Province</th>\n",
       "      <th>Hospital_admission</th>\n",
       "      <th>Deceased</th>\n",
       "      <th>Week_of_death</th>\n",
       "      <th>Municipal_health_service</th>\n",
       "    </tr>\n",
       "  </thead>\n",
       "  <tbody>\n",
       "    <tr>\n",
       "      <th>0</th>\n",
       "      <td>2021-12-05 10:00:00</td>\n",
       "      <td>2020-01-01</td>\n",
       "      <td>DOO</td>\n",
       "      <td>40-49</td>\n",
       "      <td>Female</td>\n",
       "      <td>Noord-Holland</td>\n",
       "      <td>No</td>\n",
       "      <td>No</td>\n",
       "      <td>NaN</td>\n",
       "      <td>GGD Amsterdam</td>\n",
       "    </tr>\n",
       "    <tr>\n",
       "      <th>1</th>\n",
       "      <td>2021-12-05 10:00:00</td>\n",
       "      <td>2020-01-01</td>\n",
       "      <td>DOO</td>\n",
       "      <td>50-59</td>\n",
       "      <td>Male</td>\n",
       "      <td>Gelderland</td>\n",
       "      <td>No</td>\n",
       "      <td>No</td>\n",
       "      <td>NaN</td>\n",
       "      <td>Veiligheids- en Gezondheidsregio Gelderland-Mi...</td>\n",
       "    </tr>\n",
       "    <tr>\n",
       "      <th>2</th>\n",
       "      <td>2021-12-05 10:00:00</td>\n",
       "      <td>2020-01-01</td>\n",
       "      <td>DOO</td>\n",
       "      <td>20-29</td>\n",
       "      <td>Female</td>\n",
       "      <td>Zuid-Holland</td>\n",
       "      <td>No</td>\n",
       "      <td>No</td>\n",
       "      <td>NaN</td>\n",
       "      <td>GGD Hollands-Midden</td>\n",
       "    </tr>\n",
       "    <tr>\n",
       "      <th>3</th>\n",
       "      <td>2021-12-05 10:00:00</td>\n",
       "      <td>2020-01-01</td>\n",
       "      <td>DOO</td>\n",
       "      <td>60-69</td>\n",
       "      <td>Female</td>\n",
       "      <td>Noord-Holland</td>\n",
       "      <td>No</td>\n",
       "      <td>No</td>\n",
       "      <td>NaN</td>\n",
       "      <td>GGD Hollands-Noorden</td>\n",
       "    </tr>\n",
       "    <tr>\n",
       "      <th>4</th>\n",
       "      <td>2021-12-05 10:00:00</td>\n",
       "      <td>2020-01-04</td>\n",
       "      <td>DOO</td>\n",
       "      <td>10-19</td>\n",
       "      <td>Female</td>\n",
       "      <td>Gelderland</td>\n",
       "      <td>Unknown</td>\n",
       "      <td>No</td>\n",
       "      <td>NaN</td>\n",
       "      <td>GGD Gelderland-Zuid</td>\n",
       "    </tr>\n",
       "  </tbody>\n",
       "</table>\n",
       "</div>"
      ],
      "text/plain": [
       "             Date_file Date_statistics Date_statistics_type Agegroup     Sex  \\\n",
       "0  2021-12-05 10:00:00      2020-01-01                  DOO    40-49  Female   \n",
       "1  2021-12-05 10:00:00      2020-01-01                  DOO    50-59    Male   \n",
       "2  2021-12-05 10:00:00      2020-01-01                  DOO    20-29  Female   \n",
       "3  2021-12-05 10:00:00      2020-01-01                  DOO    60-69  Female   \n",
       "4  2021-12-05 10:00:00      2020-01-04                  DOO    10-19  Female   \n",
       "\n",
       "        Province Hospital_admission Deceased  Week_of_death  \\\n",
       "0  Noord-Holland                 No       No            NaN   \n",
       "1     Gelderland                 No       No            NaN   \n",
       "2   Zuid-Holland                 No       No            NaN   \n",
       "3  Noord-Holland                 No       No            NaN   \n",
       "4     Gelderland            Unknown       No            NaN   \n",
       "\n",
       "                            Municipal_health_service  \n",
       "0                                      GGD Amsterdam  \n",
       "1  Veiligheids- en Gezondheidsregio Gelderland-Mi...  \n",
       "2                                GGD Hollands-Midden  \n",
       "3                               GGD Hollands-Noorden  \n",
       "4                                GGD Gelderland-Zuid  "
      ]
     },
     "metadata": {},
     "output_type": "display_data"
    }
   ],
   "source": [
    "#leeftijdsgroepen = SimpleNamespace()\n",
    "@run\n",
    "def cell():\n",
    "  global rivm\n",
    "  rivm = RIVM.csv('COVID-19_casus_landelijk')\n",
    "  display(rivm.head())"
   ]
  },
  {
   "cell_type": "code",
   "execution_count": 3,
   "id": "9d7315ae",
   "metadata": {
    "execution": {
     "iopub.execute_input": "2021-12-05T14:40:38.991864Z",
     "iopub.status.busy": "2021-12-05T14:40:38.991219Z",
     "iopub.status.idle": "2021-12-05T14:40:43.756337Z",
     "shell.execute_reply": "2021-12-05T14:40:43.755638Z"
    },
    "lines_to_next_cell": 1,
    "papermill": {
     "duration": 4.791268,
     "end_time": "2021-12-05T14:40:43.756492",
     "exception": false,
     "start_time": "2021-12-05T14:40:38.965224",
     "status": "completed"
    },
    "tags": [],
    "title": "Download de bevolkings cijfers van CBS, uitgesplitst op de leeftijds categorien in de dataset van het RIVM"
   },
   "outputs": [],
   "source": [
    "@run\n",
    "def cell():\n",
    "  global bevolking\n",
    "  bevolking = CBS.bevolking(leeftijdsgroepen=True)"
   ]
  },
  {
   "cell_type": "code",
   "execution_count": 4,
   "id": "1ee54c57",
   "metadata": {
    "execution": {
     "iopub.execute_input": "2021-12-05T14:40:43.809861Z",
     "iopub.status.busy": "2021-12-05T14:40:43.804360Z",
     "iopub.status.idle": "2021-12-05T14:40:57.411650Z",
     "shell.execute_reply": "2021-12-05T14:40:57.412182Z"
    },
    "lines_to_next_cell": 1,
    "papermill": {
     "duration": 13.633602,
     "end_time": "2021-12-05T14:40:57.412402",
     "exception": false,
     "start_time": "2021-12-05T14:40:43.778800",
     "status": "completed"
    },
    "tags": [],
    "title": "leeftijdsgroepen: prepareer tabel"
   },
   "outputs": [
    {
     "data": {
      "text/html": [
       "<style type=\"text/css\">\n",
       "#T_607c1_row0_col7 {\n",
       "  background-color: #472e7c;\n",
       "  color: #f1f1f1;\n",
       "}\n",
       "#T_607c1_row0_col8 {\n",
       "  background-color: #471063;\n",
       "  color: #f1f1f1;\n",
       "}\n",
       "#T_607c1_row0_col9 {\n",
       "  background-color: #3c4f8a;\n",
       "  color: #f1f1f1;\n",
       "}\n",
       "#T_607c1_row0_col10, #T_607c1_row1_col8, #T_607c1_row2_col8, #T_607c1_row3_col8, #T_607c1_row4_col10 {\n",
       "  background-color: #440154;\n",
       "  color: #f1f1f1;\n",
       "}\n",
       "#T_607c1_row0_col11 {\n",
       "  background-color: #481b6d;\n",
       "  color: #f1f1f1;\n",
       "}\n",
       "#T_607c1_row0_col12 {\n",
       "  background-color: #2f6c8e;\n",
       "  color: #f1f1f1;\n",
       "}\n",
       "#T_607c1_row0_col13 {\n",
       "  background-color: #1e9b8a;\n",
       "  color: #f1f1f1;\n",
       "}\n",
       "#T_607c1_row0_col14 {\n",
       "  background-color: #52c569;\n",
       "  color: #000000;\n",
       "}\n",
       "#T_607c1_row0_col15 {\n",
       "  background-color: #93d741;\n",
       "  color: #000000;\n",
       "}\n",
       "#T_607c1_row0_col16, #T_607c1_row4_col16 {\n",
       "  background-color: #dae319;\n",
       "  color: #000000;\n",
       "}\n",
       "#T_607c1_row0_col17, #T_607c1_row1_col17, #T_607c1_row2_col17, #T_607c1_row3_col17, #T_607c1_row4_col17 {\n",
       "  background-color: #fde725;\n",
       "  color: #000000;\n",
       "}\n",
       "#T_607c1_row1_col7 {\n",
       "  background-color: #453581;\n",
       "  color: #f1f1f1;\n",
       "}\n",
       "#T_607c1_row1_col9 {\n",
       "  background-color: #375a8c;\n",
       "  color: #f1f1f1;\n",
       "}\n",
       "#T_607c1_row1_col10 {\n",
       "  background-color: #481467;\n",
       "  color: #f1f1f1;\n",
       "}\n",
       "#T_607c1_row1_col11 {\n",
       "  background-color: #481a6c;\n",
       "  color: #f1f1f1;\n",
       "}\n",
       "#T_607c1_row1_col12 {\n",
       "  background-color: #365d8d;\n",
       "  color: #f1f1f1;\n",
       "}\n",
       "#T_607c1_row1_col13 {\n",
       "  background-color: #238a8d;\n",
       "  color: #f1f1f1;\n",
       "}\n",
       "#T_607c1_row1_col14 {\n",
       "  background-color: #3dbc74;\n",
       "  color: #f1f1f1;\n",
       "}\n",
       "#T_607c1_row1_col15, #T_607c1_row2_col15 {\n",
       "  background-color: #8ed645;\n",
       "  color: #000000;\n",
       "}\n",
       "#T_607c1_row1_col16, #T_607c1_row3_col16 {\n",
       "  background-color: #dde318;\n",
       "  color: #000000;\n",
       "}\n",
       "#T_607c1_row2_col7 {\n",
       "  background-color: #39558c;\n",
       "  color: #f1f1f1;\n",
       "}\n",
       "#T_607c1_row2_col9 {\n",
       "  background-color: #3e4989;\n",
       "  color: #f1f1f1;\n",
       "}\n",
       "#T_607c1_row2_col10 {\n",
       "  background-color: #482677;\n",
       "  color: #f1f1f1;\n",
       "}\n",
       "#T_607c1_row2_col11 {\n",
       "  background-color: #46337f;\n",
       "  color: #f1f1f1;\n",
       "}\n",
       "#T_607c1_row2_col12 {\n",
       "  background-color: #31678e;\n",
       "  color: #f1f1f1;\n",
       "}\n",
       "#T_607c1_row2_col13 {\n",
       "  background-color: #23888e;\n",
       "  color: #f1f1f1;\n",
       "}\n",
       "#T_607c1_row2_col14 {\n",
       "  background-color: #37b878;\n",
       "  color: #f1f1f1;\n",
       "}\n",
       "#T_607c1_row2_col16 {\n",
       "  background-color: #dfe318;\n",
       "  color: #000000;\n",
       "}\n",
       "#T_607c1_row3_col7 {\n",
       "  background-color: #31668e;\n",
       "  color: #f1f1f1;\n",
       "}\n",
       "#T_607c1_row3_col9, #T_607c1_row3_col11, #T_607c1_row4_col12 {\n",
       "  background-color: #472f7d;\n",
       "  color: #f1f1f1;\n",
       "}\n",
       "#T_607c1_row3_col10 {\n",
       "  background-color: #481769;\n",
       "  color: #f1f1f1;\n",
       "}\n",
       "#T_607c1_row3_col12 {\n",
       "  background-color: #3c508b;\n",
       "  color: #f1f1f1;\n",
       "}\n",
       "#T_607c1_row3_col13 {\n",
       "  background-color: #2c728e;\n",
       "  color: #f1f1f1;\n",
       "}\n",
       "#T_607c1_row3_col14 {\n",
       "  background-color: #21a685;\n",
       "  color: #f1f1f1;\n",
       "}\n",
       "#T_607c1_row3_col15 {\n",
       "  background-color: #77d153;\n",
       "  color: #000000;\n",
       "}\n",
       "#T_607c1_row4_col7 {\n",
       "  background-color: #26818e;\n",
       "  color: #f1f1f1;\n",
       "}\n",
       "#T_607c1_row4_col8 {\n",
       "  background-color: #471164;\n",
       "  color: #f1f1f1;\n",
       "}\n",
       "#T_607c1_row4_col9 {\n",
       "  background-color: #46075a;\n",
       "  color: #f1f1f1;\n",
       "}\n",
       "#T_607c1_row4_col11 {\n",
       "  background-color: #482576;\n",
       "  color: #f1f1f1;\n",
       "}\n",
       "#T_607c1_row4_col13 {\n",
       "  background-color: #33628d;\n",
       "  color: #f1f1f1;\n",
       "}\n",
       "#T_607c1_row4_col14 {\n",
       "  background-color: #1f978b;\n",
       "  color: #f1f1f1;\n",
       "}\n",
       "#T_607c1_row4_col15 {\n",
       "  background-color: #6ece58;\n",
       "  color: #000000;\n",
       "}\n",
       "</style>\n",
       "<table id=\"T_607c1_\">\n",
       "  <thead>\n",
       "    <tr>\n",
       "      <th class=\"blank level0\" >&nbsp;</th>\n",
       "      <th class=\"col_heading level0 col0\" >Key</th>\n",
       "      <th class=\"col_heading level0 col1\" >Weken terug</th>\n",
       "      <th class=\"col_heading level0 col2\" >Datum</th>\n",
       "      <th class=\"col_heading level0 col3\" >Periode</th>\n",
       "      <th class=\"col_heading level0 col4\" >Gemiddelde leeftijd</th>\n",
       "      <th class=\"col_heading level0 col5\" >Totaal</th>\n",
       "      <th class=\"col_heading level0 col6\" >Type</th>\n",
       "      <th class=\"col_heading level0 col7\" >0-9</th>\n",
       "      <th class=\"col_heading level0 col8\" >10-19</th>\n",
       "      <th class=\"col_heading level0 col9\" >20-29</th>\n",
       "      <th class=\"col_heading level0 col10\" >30-39</th>\n",
       "      <th class=\"col_heading level0 col11\" >40-49</th>\n",
       "      <th class=\"col_heading level0 col12\" >50-59</th>\n",
       "      <th class=\"col_heading level0 col13\" >60-69</th>\n",
       "      <th class=\"col_heading level0 col14\" >70-79</th>\n",
       "      <th class=\"col_heading level0 col15\" >80-89</th>\n",
       "      <th class=\"col_heading level0 col16\" >90+</th>\n",
       "      <th class=\"col_heading level0 col17\" >Onbekend</th>\n",
       "      <th class=\"col_heading level0 col18\" >c0-9</th>\n",
       "      <th class=\"col_heading level0 col19\" >c10-19</th>\n",
       "      <th class=\"col_heading level0 col20\" >c20-29</th>\n",
       "      <th class=\"col_heading level0 col21\" >c30-39</th>\n",
       "      <th class=\"col_heading level0 col22\" >c40-49</th>\n",
       "      <th class=\"col_heading level0 col23\" >c50-59</th>\n",
       "      <th class=\"col_heading level0 col24\" >c60-69</th>\n",
       "      <th class=\"col_heading level0 col25\" >c70-79</th>\n",
       "      <th class=\"col_heading level0 col26\" >c80-89</th>\n",
       "      <th class=\"col_heading level0 col27\" >c90+</th>\n",
       "      <th class=\"col_heading level0 col28\" >cOnbekend</th>\n",
       "    </tr>\n",
       "  </thead>\n",
       "  <tbody>\n",
       "    <tr>\n",
       "      <th id=\"T_607c1_level0_row0\" class=\"row_heading level0 row0\" >0</th>\n",
       "      <td id=\"T_607c1_row0_col0\" class=\"data row0 col0\" >p000</td>\n",
       "      <td id=\"T_607c1_row0_col1\" class=\"data row0 col1\" >0</td>\n",
       "      <td id=\"T_607c1_row0_col2\" class=\"data row0 col2\" >2021-12-05 00:00:00</td>\n",
       "      <td id=\"T_607c1_row0_col3\" class=\"data row0 col3\" >29/11-05/12</td>\n",
       "      <td id=\"T_607c1_row0_col4\" class=\"data row0 col4\" >35.900000</td>\n",
       "      <td id=\"T_607c1_row0_col5\" class=\"data row0 col5\" >84132.000000</td>\n",
       "      <td id=\"T_607c1_row0_col6\" class=\"data row0 col6\" >Positief getest</td>\n",
       "      <td id=\"T_607c1_row0_col7\" class=\"data row0 col7\" >11961.000000</td>\n",
       "      <td id=\"T_607c1_row0_col8\" class=\"data row0 col8\" >13209.000000</td>\n",
       "      <td id=\"T_607c1_row0_col9\" class=\"data row0 col9\" >10481.000000</td>\n",
       "      <td id=\"T_607c1_row0_col10\" class=\"data row0 col10\" >13762.000000</td>\n",
       "      <td id=\"T_607c1_row0_col11\" class=\"data row0 col11\" >12764.000000</td>\n",
       "      <td id=\"T_607c1_row0_col12\" class=\"data row0 col12\" >8964.000000</td>\n",
       "      <td id=\"T_607c1_row0_col13\" class=\"data row0 col13\" >6255.000000</td>\n",
       "      <td id=\"T_607c1_row0_col14\" class=\"data row0 col14\" >3738.000000</td>\n",
       "      <td id=\"T_607c1_row0_col15\" class=\"data row0 col15\" >2222.000000</td>\n",
       "      <td id=\"T_607c1_row0_col16\" class=\"data row0 col16\" >776.000000</td>\n",
       "      <td id=\"T_607c1_row0_col17\" class=\"data row0 col17\" >0.000000</td>\n",
       "      <td id=\"T_607c1_row0_col18\" class=\"data row0 col18\" >869</td>\n",
       "      <td id=\"T_607c1_row0_col19\" class=\"data row0 col19\" >959</td>\n",
       "      <td id=\"T_607c1_row0_col20\" class=\"data row0 col20\" >761</td>\n",
       "      <td id=\"T_607c1_row0_col21\" class=\"data row0 col21\" >1000</td>\n",
       "      <td id=\"T_607c1_row0_col22\" class=\"data row0 col22\" >927</td>\n",
       "      <td id=\"T_607c1_row0_col23\" class=\"data row0 col23\" >651</td>\n",
       "      <td id=\"T_607c1_row0_col24\" class=\"data row0 col24\" >454</td>\n",
       "      <td id=\"T_607c1_row0_col25\" class=\"data row0 col25\" >271</td>\n",
       "      <td id=\"T_607c1_row0_col26\" class=\"data row0 col26\" >161</td>\n",
       "      <td id=\"T_607c1_row0_col27\" class=\"data row0 col27\" >56</td>\n",
       "      <td id=\"T_607c1_row0_col28\" class=\"data row0 col28\" >0</td>\n",
       "    </tr>\n",
       "    <tr>\n",
       "      <th id=\"T_607c1_level0_row1\" class=\"row_heading level0 row1\" >1</th>\n",
       "      <td id=\"T_607c1_row1_col0\" class=\"data row1 col0\" >p001</td>\n",
       "      <td id=\"T_607c1_row1_col1\" class=\"data row1 col1\" >1</td>\n",
       "      <td id=\"T_607c1_row1_col2\" class=\"data row1 col2\" >2021-12-05 00:00:00</td>\n",
       "      <td id=\"T_607c1_row1_col3\" class=\"data row1 col3\" >22/11-28/11</td>\n",
       "      <td id=\"T_607c1_row1_col4\" class=\"data row1 col4\" >36.700000</td>\n",
       "      <td id=\"T_607c1_row1_col5\" class=\"data row1 col5\" >145514.000000</td>\n",
       "      <td id=\"T_607c1_row1_col6\" class=\"data row1 col6\" >Positief getest</td>\n",
       "      <td id=\"T_607c1_row1_col7\" class=\"data row1 col7\" >19774.000000</td>\n",
       "      <td id=\"T_607c1_row1_col8\" class=\"data row1 col8\" >23435.000000</td>\n",
       "      <td id=\"T_607c1_row1_col9\" class=\"data row1 col9\" >16895.000000</td>\n",
       "      <td id=\"T_607c1_row1_col10\" class=\"data row1 col10\" >22180.000000</td>\n",
       "      <td id=\"T_607c1_row1_col11\" class=\"data row1 col11\" >21813.000000</td>\n",
       "      <td id=\"T_607c1_row1_col12\" class=\"data row1 col12\" >16620.000000</td>\n",
       "      <td id=\"T_607c1_row1_col13\" class=\"data row1 col13\" >12293.000000</td>\n",
       "      <td id=\"T_607c1_row1_col14\" class=\"data row1 col14\" >7356.000000</td>\n",
       "      <td id=\"T_607c1_row1_col15\" class=\"data row1 col15\" >3947.000000</td>\n",
       "      <td id=\"T_607c1_row1_col16\" class=\"data row1 col16\" >1200.000000</td>\n",
       "      <td id=\"T_607c1_row1_col17\" class=\"data row1 col17\" >1.000000</td>\n",
       "      <td id=\"T_607c1_row1_col18\" class=\"data row1 col18\" >843</td>\n",
       "      <td id=\"T_607c1_row1_col19\" class=\"data row1 col19\" >1000</td>\n",
       "      <td id=\"T_607c1_row1_col20\" class=\"data row1 col20\" >720</td>\n",
       "      <td id=\"T_607c1_row1_col21\" class=\"data row1 col21\" >946</td>\n",
       "      <td id=\"T_607c1_row1_col22\" class=\"data row1 col22\" >930</td>\n",
       "      <td id=\"T_607c1_row1_col23\" class=\"data row1 col23\" >709</td>\n",
       "      <td id=\"T_607c1_row1_col24\" class=\"data row1 col24\" >524</td>\n",
       "      <td id=\"T_607c1_row1_col25\" class=\"data row1 col25\" >313</td>\n",
       "      <td id=\"T_607c1_row1_col26\" class=\"data row1 col26\" >168</td>\n",
       "      <td id=\"T_607c1_row1_col27\" class=\"data row1 col27\" >51</td>\n",
       "      <td id=\"T_607c1_row1_col28\" class=\"data row1 col28\" >0</td>\n",
       "    </tr>\n",
       "    <tr>\n",
       "      <th id=\"T_607c1_level0_row2\" class=\"row_heading level0 row2\" >2</th>\n",
       "      <td id=\"T_607c1_row2_col0\" class=\"data row2 col0\" >p002</td>\n",
       "      <td id=\"T_607c1_row2_col1\" class=\"data row2 col1\" >2</td>\n",
       "      <td id=\"T_607c1_row2_col2\" class=\"data row2 col2\" >2021-12-05 00:00:00</td>\n",
       "      <td id=\"T_607c1_row2_col3\" class=\"data row2 col3\" >15/11-21/11</td>\n",
       "      <td id=\"T_607c1_row2_col4\" class=\"data row2 col4\" >37.100000</td>\n",
       "      <td id=\"T_607c1_row2_col5\" class=\"data row2 col5\" >155668.000000</td>\n",
       "      <td id=\"T_607c1_row2_col6\" class=\"data row2 col6\" >Positief getest</td>\n",
       "      <td id=\"T_607c1_row2_col7\" class=\"data row2 col7\" >19095.000000</td>\n",
       "      <td id=\"T_607c1_row2_col8\" class=\"data row2 col8\" >25884.000000</td>\n",
       "      <td id=\"T_607c1_row2_col9\" class=\"data row2 col9\" >20209.000000</td>\n",
       "      <td id=\"T_607c1_row2_col10\" class=\"data row2 col10\" >23100.000000</td>\n",
       "      <td id=\"T_607c1_row2_col11\" class=\"data row2 col11\" >22129.000000</td>\n",
       "      <td id=\"T_607c1_row2_col12\" class=\"data row2 col12\" >17317.000000</td>\n",
       "      <td id=\"T_607c1_row2_col13\" class=\"data row2 col13\" >13815.000000</td>\n",
       "      <td id=\"T_607c1_row2_col14\" class=\"data row2 col14\" >8518.000000</td>\n",
       "      <td id=\"T_607c1_row2_col15\" class=\"data row2 col15\" >4360.000000</td>\n",
       "      <td id=\"T_607c1_row2_col16\" class=\"data row2 col16\" >1239.000000</td>\n",
       "      <td id=\"T_607c1_row2_col17\" class=\"data row2 col17\" >2.000000</td>\n",
       "      <td id=\"T_607c1_row2_col18\" class=\"data row2 col18\" >737</td>\n",
       "      <td id=\"T_607c1_row2_col19\" class=\"data row2 col19\" >1000</td>\n",
       "      <td id=\"T_607c1_row2_col20\" class=\"data row2 col20\" >780</td>\n",
       "      <td id=\"T_607c1_row2_col21\" class=\"data row2 col21\" >892</td>\n",
       "      <td id=\"T_607c1_row2_col22\" class=\"data row2 col22\" >854</td>\n",
       "      <td id=\"T_607c1_row2_col23\" class=\"data row2 col23\" >669</td>\n",
       "      <td id=\"T_607c1_row2_col24\" class=\"data row2 col24\" >533</td>\n",
       "      <td id=\"T_607c1_row2_col25\" class=\"data row2 col25\" >329</td>\n",
       "      <td id=\"T_607c1_row2_col26\" class=\"data row2 col26\" >168</td>\n",
       "      <td id=\"T_607c1_row2_col27\" class=\"data row2 col27\" >47</td>\n",
       "      <td id=\"T_607c1_row2_col28\" class=\"data row2 col28\" >0</td>\n",
       "    </tr>\n",
       "    <tr>\n",
       "      <th id=\"T_607c1_level0_row3\" class=\"row_heading level0 row3\" >3</th>\n",
       "      <td id=\"T_607c1_row3_col0\" class=\"data row3 col0\" >p003</td>\n",
       "      <td id=\"T_607c1_row3_col1\" class=\"data row3 col1\" >3</td>\n",
       "      <td id=\"T_607c1_row3_col2\" class=\"data row3 col2\" >2021-12-05 00:00:00</td>\n",
       "      <td id=\"T_607c1_row3_col3\" class=\"data row3 col3\" >08/11-14/11</td>\n",
       "      <td id=\"T_607c1_row3_col4\" class=\"data row3 col4\" >38.700000</td>\n",
       "      <td id=\"T_607c1_row3_col5\" class=\"data row3 col5\" >120925.000000</td>\n",
       "      <td id=\"T_607c1_row3_col6\" class=\"data row3 col6\" >Positief getest</td>\n",
       "      <td id=\"T_607c1_row3_col7\" class=\"data row3 col7\" >12722.000000</td>\n",
       "      <td id=\"T_607c1_row3_col8\" class=\"data row3 col8\" >18918.000000</td>\n",
       "      <td id=\"T_607c1_row3_col9\" class=\"data row3 col9\" >16393.000000</td>\n",
       "      <td id=\"T_607c1_row3_col10\" class=\"data row3 col10\" >17760.000000</td>\n",
       "      <td id=\"T_607c1_row3_col11\" class=\"data row3 col11\" >16382.000000</td>\n",
       "      <td id=\"T_607c1_row3_col12\" class=\"data row3 col12\" >14315.000000</td>\n",
       "      <td id=\"T_607c1_row3_col13\" class=\"data row3 col13\" >11804.000000</td>\n",
       "      <td id=\"T_607c1_row3_col14\" class=\"data row3 col14\" >7757.000000</td>\n",
       "      <td id=\"T_607c1_row3_col15\" class=\"data row3 col15\" >3884.000000</td>\n",
       "      <td id=\"T_607c1_row3_col16\" class=\"data row3 col16\" >989.000000</td>\n",
       "      <td id=\"T_607c1_row3_col17\" class=\"data row3 col17\" >1.000000</td>\n",
       "      <td id=\"T_607c1_row3_col18\" class=\"data row3 col18\" >672</td>\n",
       "      <td id=\"T_607c1_row3_col19\" class=\"data row3 col19\" >1000</td>\n",
       "      <td id=\"T_607c1_row3_col20\" class=\"data row3 col20\" >866</td>\n",
       "      <td id=\"T_607c1_row3_col21\" class=\"data row3 col21\" >938</td>\n",
       "      <td id=\"T_607c1_row3_col22\" class=\"data row3 col22\" >865</td>\n",
       "      <td id=\"T_607c1_row3_col23\" class=\"data row3 col23\" >756</td>\n",
       "      <td id=\"T_607c1_row3_col24\" class=\"data row3 col24\" >623</td>\n",
       "      <td id=\"T_607c1_row3_col25\" class=\"data row3 col25\" >410</td>\n",
       "      <td id=\"T_607c1_row3_col26\" class=\"data row3 col26\" >205</td>\n",
       "      <td id=\"T_607c1_row3_col27\" class=\"data row3 col27\" >52</td>\n",
       "      <td id=\"T_607c1_row3_col28\" class=\"data row3 col28\" >0</td>\n",
       "    </tr>\n",
       "    <tr>\n",
       "      <th id=\"T_607c1_level0_row4\" class=\"row_heading level0 row4\" >4</th>\n",
       "      <td id=\"T_607c1_row4_col0\" class=\"data row4 col0\" >p004</td>\n",
       "      <td id=\"T_607c1_row4_col1\" class=\"data row4 col1\" >4</td>\n",
       "      <td id=\"T_607c1_row4_col2\" class=\"data row4 col2\" >2021-12-05 00:00:00</td>\n",
       "      <td id=\"T_607c1_row4_col3\" class=\"data row4 col3\" >01/11-07/11</td>\n",
       "      <td id=\"T_607c1_row4_col4\" class=\"data row4 col4\" >40.100000</td>\n",
       "      <td id=\"T_607c1_row4_col5\" class=\"data row4 col5\" >83199.000000</td>\n",
       "      <td id=\"T_607c1_row4_col6\" class=\"data row4 col6\" >Positief getest</td>\n",
       "      <td id=\"T_607c1_row4_col7\" class=\"data row4 col7\" >7007.000000</td>\n",
       "      <td id=\"T_607c1_row4_col8\" class=\"data row4 col8\" >11858.000000</td>\n",
       "      <td id=\"T_607c1_row4_col9\" class=\"data row4 col9\" >12186.000000</td>\n",
       "      <td id=\"T_607c1_row4_col10\" class=\"data row4 col10\" >12422.000000</td>\n",
       "      <td id=\"T_607c1_row4_col11\" class=\"data row4 col11\" >11127.000000</td>\n",
       "      <td id=\"T_607c1_row4_col12\" class=\"data row4 col12\" >10741.000000</td>\n",
       "      <td id=\"T_607c1_row4_col13\" class=\"data row4 col13\" >8564.000000</td>\n",
       "      <td id=\"T_607c1_row4_col14\" class=\"data row4 col14\" >5857.000000</td>\n",
       "      <td id=\"T_607c1_row4_col15\" class=\"data row4 col15\" >2720.000000</td>\n",
       "      <td id=\"T_607c1_row4_col16\" class=\"data row4 col16\" >716.000000</td>\n",
       "      <td id=\"T_607c1_row4_col17\" class=\"data row4 col17\" >1.000000</td>\n",
       "      <td id=\"T_607c1_row4_col18\" class=\"data row4 col18\" >564</td>\n",
       "      <td id=\"T_607c1_row4_col19\" class=\"data row4 col19\" >954</td>\n",
       "      <td id=\"T_607c1_row4_col20\" class=\"data row4 col20\" >981</td>\n",
       "      <td id=\"T_607c1_row4_col21\" class=\"data row4 col21\" >1000</td>\n",
       "      <td id=\"T_607c1_row4_col22\" class=\"data row4 col22\" >895</td>\n",
       "      <td id=\"T_607c1_row4_col23\" class=\"data row4 col23\" >864</td>\n",
       "      <td id=\"T_607c1_row4_col24\" class=\"data row4 col24\" >689</td>\n",
       "      <td id=\"T_607c1_row4_col25\" class=\"data row4 col25\" >471</td>\n",
       "      <td id=\"T_607c1_row4_col26\" class=\"data row4 col26\" >218</td>\n",
       "      <td id=\"T_607c1_row4_col27\" class=\"data row4 col27\" >57</td>\n",
       "      <td id=\"T_607c1_row4_col28\" class=\"data row4 col28\" >0</td>\n",
       "    </tr>\n",
       "  </tbody>\n",
       "</table>\n"
      ],
      "text/plain": [
       "<pandas.io.formats.style.Styler at 0x7fe7de2725e0>"
      ]
     },
     "metadata": {},
     "output_type": "display_data"
    }
   ],
   "source": [
    "# Bereken de stand van zaken van besmettingen / hospitalisaties / overlijden, per cohort in absolute aantallen en aantallen per 100k, met een kleur indicator voor de aantallen.\n",
    "# vervang <50 en Unknown door Onbekend\n",
    "@run\n",
    "def cell():\n",
    "  rivm['Cohort'] = rivm['Agegroup'].replace({'<50': 'Onbekend', 'Unknown': 'Onbekend'})\n",
    "  # aangenomen 'gemiddelde' leeftijd van een cohort: minimum waarde + 5\n",
    "  assumed_cohort_age = [(cohort, [int(n) for n in cohort.replace('+', '').split('-')]) for cohort in rivm['Cohort'].unique() if cohort[0].isdigit()]\n",
    "  assumed_cohort_age = { cohort: min(rng) + 5 for cohort, rng in assumed_cohort_age }\n",
    "  rivm['Gemiddelde leeftijd'] = rivm['Cohort'].apply(lambda x: assumed_cohort_age.get(x, np.nan))\n",
    "\n",
    "  # verwijder tijd\n",
    "  rivm['Date_file_date'] = pd.to_datetime(rivm['Date_file'].replace(r' .*', '', regex=True))\n",
    "\n",
    "  rivm['Date_statistics_date'] = pd.to_datetime(rivm['Date_statistics'])\n",
    "\n",
    "  # weken terug = verschil tussen Date_file en Date_statistcs, gedeeld door 7 dagen\n",
    "  rivm['Weken terug'] = np.floor((rivm['Date_file_date'] - rivm['Date_statistics_date'])/np.timedelta64(7, 'D')).astype(int)\n",
    "\n",
    "  # voeg key, gem leeftijd, kleurnummer en totaal toe\n",
    "  Date_file = rivm['Date_file_date'].unique()[0].astype('M8[D]').astype('O')\n",
    "  cohorten = list(bevolking.index) + ['Onbekend']\n",
    "  def summarize(df, category, prefix):\n",
    "    # aangezien we hier de dataframe in-place wijzigen (bijv door toevoegen kolommen)\n",
    "    # en we het 'rivm' frame later nog clean nodig hebben\n",
    "    df = df.copy(deep=True)\n",
    "\n",
    "    df = (df\n",
    "          .groupby(['Weken terug', 'Cohort'])['count']\n",
    "          .sum()\n",
    "          .unstack(fill_value=np.nan)\n",
    "          .reset_index()\n",
    "          .rename_axis(None, axis=1)\n",
    "        ).merge(df\n",
    "          # we voegen hier gemiddelde leeftijd toe, want die willen we op een ander\n",
    "          # niveau aggregeren voor 'df' overschreven word\n",
    "          .groupby(['Weken terug'])['Gemiddelde leeftijd']\n",
    "          .mean()\n",
    "          .to_frame(), on='Weken terug'\n",
    "        )\n",
    "\n",
    "    # altijd 52 rijen\n",
    "    df = pd.Series(np.arange(52), name='Weken terug').to_frame().merge(df, how='left', on='Weken terug')\n",
    "\n",
    "    # toevoegen missende cohorten\n",
    "    for col in cohorten:\n",
    "      if not col in df:\n",
    "        df[col] = np.nan\n",
    "\n",
    "    # sommeer per rij (axis=1) over de cohorten om een totaal te krijgen\n",
    "    df['Totaal'] = df[cohorten].sum(axis=1)\n",
    "\n",
    "    # voeg periode en datum toe\n",
    "    # periode afgeleid van weken-terug (= de index voor deze dataframe)\n",
    "    df['Datum'] = pd.to_datetime(Date_file)\n",
    "    df['Periode'] = (df\n",
    "      .index.to_series()\n",
    "      .apply(\n",
    "        lambda x: (\n",
    "          (Date_file + datetime.timedelta(weeks=-(x+1), days=1)).strftime('%d/%m')\n",
    "          + '-'\n",
    "          + (Date_file + datetime.timedelta(weeks=-x)).strftime('%d/%m')\n",
    "        )\n",
    "      )\n",
    "    )\n",
    "\n",
    "    # voeg 'Key' en 'Type' kolom toe. Variabele 'type' kan niet, is een language primitive.\n",
    "    df['Key'] = prefix + df.index.astype(str).str.rjust(3, fillchar='0')\n",
    "    df['Type'] = category\n",
    "\n",
    "    # voeg de kleur kolommen toe\n",
    "    for col in cohorten:\n",
    "      df['c' + col] = ((df[col] / df[[col for col in cohorten]].max(axis=1)) * 1000).fillna(0).astype(int)\n",
    "\n",
    "    # herschikken van de kolommen\n",
    "    colorder = ['Key', 'Weken terug', 'Datum', 'Periode', 'Gemiddelde leeftijd', 'Totaal', 'Type']\n",
    "    return df[colorder + [col for col in df if col not in colorder]]\n",
    "\n",
    "  factor = bevolking.to_dict()['per 100k']\n",
    "  global tabel\n",
    "  tabel = pd.concat(\n",
    "    # flatten the result list zodat pd.concat ze onder elkaar kan plakken\n",
    "    functools.reduce(lambda a, b: a + b, [\n",
    "      [summarize(df.assign(count=1), label, prefix), summarize(df.assign(count=df['Cohort'].apply(lambda x: factor.get(x, np.nan))), label + ' per 100.000', prefix + '100k')]\n",
    "      for df, label, prefix in [\n",
    "        (rivm, 'Positief getest', 'p'), # volledige count per cohort\n",
    "        (rivm[rivm.Hospital_admission == 'Yes'], 'Ziekenhuisopname', 'h'), # count van cohort voor Hospital_admission == 'Yes'\n",
    "        (rivm[rivm.Deceased == 'Yes'], 'Overleden', 'd'), # count van cohort voor Deceased == 'Yes'\n",
    "      ]\n",
    "    ])\n",
    "  )\n",
    "\n",
    "  # rood -> groen\n",
    "  cdict = {\n",
    "    'red':   ((0.0, 0.0, 0.0),   # no red at 0\n",
    "              (0.5, 1.0, 1.0),   # all channels set to 1.0 at 0.5 to create white\n",
    "              (1.0, 0.8, 0.8)),  # set to 0.8 so its not too bright at 1\n",
    "    'green': ((0.0, 0.8, 0.8),   # set to 0.8 so its not too bright at 0\n",
    "              (0.5, 1.0, 1.0),   # all channels set to 1.0 at 0.5 to create white\n",
    "              (1.0, 0.0, 0.0)),  # no green at 1\n",
    "    'blue':  ((0.0, 0.0, 0.0),   # no blue at 0\n",
    "              (0.5, 1.0, 1.0),   # all channels set to 1.0 at 0.5 to create white\n",
    "              (1.0, 0.0, 0.0))   # no blue at 1\n",
    "  }\n",
    "  cm = colors.LinearSegmentedColormap('GnRd', cdict)\n",
    "  # geel -> paars\n",
    "  cm = sns.color_palette('viridis_r', as_cmap=True)\n",
    "  display(tabel\n",
    "    .fillna(0)\n",
    "    .head()\n",
    "    .round(1)\n",
    "    .reset_index(drop=True)\n",
    "    .style.background_gradient(cmap=cm, axis=1, subset=cohorten)\n",
    "  )"
   ]
  },
  {
   "cell_type": "code",
   "execution_count": 5,
   "id": "02cd5f0c",
   "metadata": {
    "execution": {
     "iopub.execute_input": "2021-12-05T14:40:57.466910Z",
     "iopub.status.busy": "2021-12-05T14:40:57.466025Z",
     "iopub.status.idle": "2021-12-05T14:41:29.368729Z",
     "shell.execute_reply": "2021-12-05T14:41:29.369319Z"
    },
    "papermill": {
     "duration": 31.931776,
     "end_time": "2021-12-05T14:41:29.369549",
     "exception": false,
     "start_time": "2021-12-05T14:40:57.437773",
     "status": "completed"
    },
    "tags": [],
    "title": "publish"
   },
   "outputs": [
    {
     "name": "stdout",
     "output_type": "stream",
     "text": [
      "infinities:\n"
     ]
    },
    {
     "name": "stdout",
     "output_type": "stream",
     "text": [
      "Empty DataFrame\n",
      "Columns: []\n",
      "Index: []\n"
     ]
    },
    {
     "name": "stdout",
     "output_type": "stream",
     "text": [
      "nan:\n"
     ]
    },
    {
     "name": "stdout",
     "output_type": "stream",
     "text": [
      "Empty DataFrame\n",
      "Columns: []\n",
      "Index: []\n"
     ]
    },
    {
     "name": "stdout",
     "output_type": "stream",
     "text": [
      "Key                     object\n",
      "Weken terug              int64\n",
      "Datum                   object\n",
      "Periode                 object\n",
      "Gemiddelde leeftijd    float64\n",
      "Totaal                 float64\n",
      "Type                    object\n",
      "0-9                    float64\n",
      "10-19                  float64\n",
      "20-29                  float64\n",
      "30-39                  float64\n",
      "40-49                  float64\n",
      "50-59                  float64\n",
      "60-69                  float64\n",
      "70-79                  float64\n",
      "80-89                  float64\n",
      "90+                    float64\n",
      "Onbekend               float64\n",
      "c0-9                     int64\n",
      "c10-19                   int64\n",
      "c20-29                   int64\n",
      "c30-39                   int64\n",
      "c40-49                   int64\n",
      "c50-59                   int64\n",
      "c60-69                   int64\n",
      "c70-79                   int64\n",
      "c80-89                   int64\n",
      "c90+                     int64\n",
      "cOnbekend                int64\n",
      "dtype: object\n",
      "updating knack\n"
     ]
    },
    {
     "name": "stdout",
     "output_type": "stream",
     "text": [
      "updating: [{'Key': 1, 'Updating Leeftijdsgroep': 'true'}]\n"
     ]
    },
    {
     "name": "stdout",
     "output_type": "stream",
     "text": [
      "restored LaatsteUpdate from hash\n"
     ]
    },
    {
     "name": "stdout",
     "output_type": "stream",
     "text": [
      "Key                         int64\n",
      "Updating Leeftijdsgroep    object\n",
      "dtype: object\n"
     ]
    },
    {
     "name": "stderr",
     "output_type": "stream",
     "text": [
      "\r",
      "  0%|          | 0/1 [00:00<?, ?it/s]"
     ]
    },
    {
     "name": "stderr",
     "output_type": "stream",
     "text": [
      "\r",
      "100%|██████████| 1/1 [00:01<00:00,  1.13s/it]"
     ]
    },
    {
     "name": "stderr",
     "output_type": "stream",
     "text": [
      "\r",
      "100%|██████████| 1/1 [00:01<00:00,  1.13s/it]"
     ]
    },
    {
     "name": "stdout",
     "output_type": "stream",
     "text": [
      "\n",
      "rate limit: 7 \n",
      "LaatsteUpdate API calls: create: 0, read: 1, update: 1, delete: 0, backoff: 0\n"
     ]
    },
    {
     "name": "stderr",
     "output_type": "stream",
     "text": [
      "\n"
     ]
    },
    {
     "name": "stdout",
     "output_type": "stream",
     "text": [
      "restored Leeftijdsgroep from hash\n"
     ]
    },
    {
     "name": "stdout",
     "output_type": "stream",
     "text": [
      "0-9                    float64\n",
      "10-19                  float64\n",
      "20-29                  float64\n",
      "30-39                  float64\n",
      "40-49                  float64\n",
      "50-59                  float64\n",
      "60-69                  float64\n",
      "70-79                  float64\n",
      "80-89                  float64\n",
      "90+                    float64\n",
      "Datum                   object\n",
      "Gemiddelde leeftijd    float64\n",
      "Key                     object\n",
      "Onbekend               float64\n",
      "Periode                 object\n",
      "Totaal                 float64\n",
      "Type                    object\n",
      "Weken terug              int64\n",
      "c0-9                     int64\n",
      "c10-19                   int64\n",
      "c20-29                   int64\n",
      "c30-39                   int64\n",
      "c40-49                   int64\n",
      "c50-59                   int64\n",
      "c60-69                   int64\n",
      "c70-79                   int64\n",
      "c80-89                   int64\n",
      "c90+                     int64\n",
      "cOnbekend                int64\n",
      "dtype: object\n"
     ]
    },
    {
     "name": "stderr",
     "output_type": "stream",
     "text": [
      "\r",
      "  0%|          | 0/149 [00:00<?, ?it/s]"
     ]
    },
    {
     "name": "stderr",
     "output_type": "stream",
     "text": [
      "\r",
      "  1%|          | 1/149 [00:01<02:45,  1.11s/it]"
     ]
    },
    {
     "name": "stderr",
     "output_type": "stream",
     "text": [
      "\r",
      "  3%|▎         | 5/149 [00:01<00:27,  5.23it/s]"
     ]
    },
    {
     "name": "stderr",
     "output_type": "stream",
     "text": [
      "\r",
      "  5%|▌         | 8/149 [00:01<00:24,  5.79it/s]"
     ]
    },
    {
     "name": "stderr",
     "output_type": "stream",
     "text": [
      "\r",
      "  7%|▋         | 11/149 [00:02<00:24,  5.72it/s]"
     ]
    },
    {
     "name": "stderr",
     "output_type": "stream",
     "text": [
      "\r",
      "  9%|▉         | 14/149 [00:02<00:19,  7.05it/s]"
     ]
    },
    {
     "name": "stderr",
     "output_type": "stream",
     "text": [
      "\r",
      " 11%|█▏        | 17/149 [00:02<00:16,  7.90it/s]"
     ]
    },
    {
     "name": "stderr",
     "output_type": "stream",
     "text": [
      "\r",
      " 13%|█▎        | 19/149 [00:03<00:18,  7.07it/s]"
     ]
    },
    {
     "name": "stderr",
     "output_type": "stream",
     "text": [
      "\r",
      " 14%|█▍        | 21/149 [00:03<00:18,  6.88it/s]"
     ]
    },
    {
     "name": "stderr",
     "output_type": "stream",
     "text": [
      "\r",
      " 15%|█▍        | 22/149 [00:03<00:18,  7.00it/s]"
     ]
    },
    {
     "name": "stderr",
     "output_type": "stream",
     "text": [
      "\r",
      " 16%|█▌        | 24/149 [00:03<00:14,  8.64it/s]"
     ]
    },
    {
     "name": "stderr",
     "output_type": "stream",
     "text": [
      "\r",
      " 17%|█▋        | 26/149 [00:04<00:17,  6.98it/s]"
     ]
    },
    {
     "name": "stderr",
     "output_type": "stream",
     "text": [
      "\r",
      " 19%|█▉        | 28/149 [00:04<00:17,  7.04it/s]"
     ]
    },
    {
     "name": "stderr",
     "output_type": "stream",
     "text": [
      "\r",
      " 19%|█▉        | 29/149 [00:04<00:24,  4.96it/s]"
     ]
    },
    {
     "name": "stderr",
     "output_type": "stream",
     "text": [
      "\r",
      " 21%|██▏       | 32/149 [00:04<00:15,  7.58it/s]"
     ]
    },
    {
     "name": "stderr",
     "output_type": "stream",
     "text": [
      "\r",
      " 23%|██▎       | 34/149 [00:05<00:16,  6.79it/s]"
     ]
    },
    {
     "name": "stderr",
     "output_type": "stream",
     "text": [
      "\r",
      " 24%|██▍       | 36/149 [00:05<00:14,  7.80it/s]"
     ]
    },
    {
     "name": "stderr",
     "output_type": "stream",
     "text": [
      "\r",
      " 26%|██▌       | 38/149 [00:05<00:11,  9.32it/s]"
     ]
    },
    {
     "name": "stderr",
     "output_type": "stream",
     "text": [
      "\r",
      " 27%|██▋       | 40/149 [00:05<00:11,  9.34it/s]"
     ]
    },
    {
     "name": "stderr",
     "output_type": "stream",
     "text": [
      "\r",
      " 28%|██▊       | 42/149 [00:06<00:14,  7.20it/s]"
     ]
    },
    {
     "name": "stderr",
     "output_type": "stream",
     "text": [
      "\r",
      " 29%|██▉       | 43/149 [00:06<00:16,  6.57it/s]"
     ]
    },
    {
     "name": "stderr",
     "output_type": "stream",
     "text": [
      "\r",
      " 30%|███       | 45/149 [00:06<00:12,  8.40it/s]"
     ]
    },
    {
     "name": "stderr",
     "output_type": "stream",
     "text": [
      "\r",
      " 32%|███▏      | 47/149 [00:06<00:13,  7.76it/s]"
     ]
    },
    {
     "name": "stderr",
     "output_type": "stream",
     "text": [
      "\r",
      " 32%|███▏      | 48/149 [00:07<00:15,  6.48it/s]"
     ]
    },
    {
     "name": "stderr",
     "output_type": "stream",
     "text": [
      "\r",
      " 33%|███▎      | 49/149 [00:07<00:20,  4.82it/s]"
     ]
    },
    {
     "name": "stderr",
     "output_type": "stream",
     "text": [
      "\r",
      " 35%|███▍      | 52/149 [00:07<00:14,  6.89it/s]"
     ]
    },
    {
     "name": "stderr",
     "output_type": "stream",
     "text": [
      "\r",
      " 36%|███▌      | 53/149 [00:07<00:13,  7.00it/s]"
     ]
    },
    {
     "name": "stderr",
     "output_type": "stream",
     "text": [
      "\r",
      " 37%|███▋      | 55/149 [00:08<00:14,  6.70it/s]"
     ]
    },
    {
     "name": "stderr",
     "output_type": "stream",
     "text": [
      "\r",
      " 38%|███▊      | 56/149 [00:08<00:13,  7.00it/s]"
     ]
    },
    {
     "name": "stderr",
     "output_type": "stream",
     "text": [
      "\r",
      " 38%|███▊      | 57/149 [00:08<00:13,  6.94it/s]"
     ]
    },
    {
     "name": "stderr",
     "output_type": "stream",
     "text": [
      "\r",
      " 39%|███▉      | 58/149 [00:08<00:15,  5.88it/s]"
     ]
    },
    {
     "name": "stderr",
     "output_type": "stream",
     "text": [
      "\r",
      " 40%|███▉      | 59/149 [00:08<00:16,  5.50it/s]"
     ]
    },
    {
     "name": "stderr",
     "output_type": "stream",
     "text": [
      "\r",
      " 40%|████      | 60/149 [00:09<00:19,  4.68it/s]"
     ]
    },
    {
     "name": "stderr",
     "output_type": "stream",
     "text": [
      "\r",
      " 42%|████▏     | 63/149 [00:09<00:11,  7.40it/s]"
     ]
    },
    {
     "name": "stderr",
     "output_type": "stream",
     "text": [
      "\r",
      " 44%|████▎     | 65/149 [00:09<00:10,  7.64it/s]"
     ]
    },
    {
     "name": "stderr",
     "output_type": "stream",
     "text": [
      "\r",
      " 44%|████▍     | 66/149 [00:09<00:10,  7.91it/s]"
     ]
    },
    {
     "name": "stderr",
     "output_type": "stream",
     "text": [
      "\r",
      " 46%|████▌     | 68/149 [00:10<00:10,  7.72it/s]"
     ]
    },
    {
     "name": "stderr",
     "output_type": "stream",
     "text": [
      "\r",
      " 47%|████▋     | 70/149 [00:10<00:09,  8.00it/s]"
     ]
    },
    {
     "name": "stderr",
     "output_type": "stream",
     "text": [
      "\r",
      " 48%|████▊     | 71/149 [00:10<00:09,  8.13it/s]"
     ]
    },
    {
     "name": "stderr",
     "output_type": "stream",
     "text": [
      "\r",
      " 49%|████▉     | 73/149 [00:10<00:08,  9.16it/s]"
     ]
    },
    {
     "name": "stderr",
     "output_type": "stream",
     "text": [
      "\r",
      " 50%|█████     | 75/149 [00:10<00:09,  7.83it/s]"
     ]
    },
    {
     "name": "stderr",
     "output_type": "stream",
     "text": [
      "\r",
      " 51%|█████     | 76/149 [00:11<00:11,  6.44it/s]"
     ]
    },
    {
     "name": "stderr",
     "output_type": "stream",
     "text": [
      "\r",
      " 52%|█████▏    | 78/149 [00:11<00:08,  8.36it/s]"
     ]
    },
    {
     "name": "stderr",
     "output_type": "stream",
     "text": [
      "\r",
      " 54%|█████▎    | 80/149 [00:11<00:11,  6.25it/s]"
     ]
    },
    {
     "name": "stderr",
     "output_type": "stream",
     "text": [
      "\r",
      " 54%|█████▍    | 81/149 [00:11<00:11,  6.07it/s]"
     ]
    },
    {
     "name": "stderr",
     "output_type": "stream",
     "text": [
      "\r",
      " 55%|█████▌    | 82/149 [00:12<00:10,  6.23it/s]"
     ]
    },
    {
     "name": "stderr",
     "output_type": "stream",
     "text": [
      "\r",
      " 56%|█████▋    | 84/149 [00:12<00:08,  7.25it/s]"
     ]
    },
    {
     "name": "stderr",
     "output_type": "stream",
     "text": [
      "\r",
      " 58%|█████▊    | 86/149 [00:12<00:08,  7.33it/s]"
     ]
    },
    {
     "name": "stderr",
     "output_type": "stream",
     "text": [
      "\r",
      " 60%|█████▉    | 89/149 [00:12<00:06,  9.95it/s]"
     ]
    },
    {
     "name": "stderr",
     "output_type": "stream",
     "text": [
      "\r",
      " 61%|██████    | 91/149 [00:13<00:07,  7.79it/s]"
     ]
    },
    {
     "name": "stderr",
     "output_type": "stream",
     "text": [
      "\r",
      " 62%|██████▏   | 93/149 [00:13<00:06,  8.47it/s]"
     ]
    },
    {
     "name": "stderr",
     "output_type": "stream",
     "text": [
      "\r",
      " 63%|██████▎   | 94/149 [00:13<00:07,  6.94it/s]"
     ]
    },
    {
     "name": "stderr",
     "output_type": "stream",
     "text": [
      "\r",
      " 64%|██████▍   | 96/149 [00:13<00:07,  7.01it/s]"
     ]
    },
    {
     "name": "stderr",
     "output_type": "stream",
     "text": [
      "\r",
      " 65%|██████▌   | 97/149 [00:14<00:07,  7.00it/s]"
     ]
    },
    {
     "name": "stderr",
     "output_type": "stream",
     "text": [
      "\r",
      " 67%|██████▋   | 100/149 [00:14<00:05,  8.95it/s]"
     ]
    },
    {
     "name": "stderr",
     "output_type": "stream",
     "text": [
      "\r",
      " 68%|██████▊   | 101/149 [00:14<00:07,  6.69it/s]"
     ]
    },
    {
     "name": "stderr",
     "output_type": "stream",
     "text": [
      "\r",
      " 68%|██████▊   | 102/149 [00:14<00:07,  5.89it/s]"
     ]
    },
    {
     "name": "stderr",
     "output_type": "stream",
     "text": [
      "\r",
      " 70%|██████▉   | 104/149 [00:15<00:07,  6.31it/s]"
     ]
    },
    {
     "name": "stderr",
     "output_type": "stream",
     "text": [
      "\r",
      " 70%|███████   | 105/149 [00:15<00:06,  6.78it/s]"
     ]
    },
    {
     "name": "stderr",
     "output_type": "stream",
     "text": [
      "\r",
      " 71%|███████   | 106/149 [00:15<00:07,  5.91it/s]"
     ]
    },
    {
     "name": "stderr",
     "output_type": "stream",
     "text": [
      "\r",
      " 72%|███████▏  | 108/149 [00:15<00:05,  6.87it/s]"
     ]
    },
    {
     "name": "stderr",
     "output_type": "stream",
     "text": [
      "\r",
      " 73%|███████▎  | 109/149 [00:16<00:08,  4.75it/s]"
     ]
    },
    {
     "name": "stderr",
     "output_type": "stream",
     "text": [
      "\r",
      " 74%|███████▍  | 110/149 [00:16<00:07,  5.30it/s]"
     ]
    },
    {
     "name": "stderr",
     "output_type": "stream",
     "text": [
      "\r",
      " 75%|███████▌  | 112/149 [00:16<00:05,  6.76it/s]"
     ]
    },
    {
     "name": "stderr",
     "output_type": "stream",
     "text": [
      "\r",
      " 77%|███████▋  | 114/149 [00:16<00:04,  7.05it/s]"
     ]
    },
    {
     "name": "stderr",
     "output_type": "stream",
     "text": [
      "\r",
      " 78%|███████▊  | 116/149 [00:16<00:03,  8.59it/s]"
     ]
    },
    {
     "name": "stderr",
     "output_type": "stream",
     "text": [
      "\r",
      " 80%|███████▉  | 119/149 [00:17<00:03,  7.66it/s]"
     ]
    },
    {
     "name": "stderr",
     "output_type": "stream",
     "text": [
      "\r",
      " 82%|████████▏ | 122/149 [00:17<00:03,  8.09it/s]"
     ]
    },
    {
     "name": "stderr",
     "output_type": "stream",
     "text": [
      "\r",
      " 83%|████████▎ | 124/149 [00:17<00:03,  7.99it/s]"
     ]
    },
    {
     "name": "stderr",
     "output_type": "stream",
     "text": [
      "\r",
      " 84%|████████▍ | 125/149 [00:18<00:03,  7.80it/s]"
     ]
    },
    {
     "name": "stderr",
     "output_type": "stream",
     "text": [
      "\r",
      " 85%|████████▍ | 126/149 [00:18<00:02,  8.06it/s]"
     ]
    },
    {
     "name": "stderr",
     "output_type": "stream",
     "text": [
      "\r",
      " 85%|████████▌ | 127/149 [00:18<00:03,  6.12it/s]"
     ]
    },
    {
     "name": "stderr",
     "output_type": "stream",
     "text": [
      "\r",
      " 86%|████████▌ | 128/149 [00:18<00:04,  4.73it/s]"
     ]
    },
    {
     "name": "stderr",
     "output_type": "stream",
     "text": [
      "\r",
      " 87%|████████▋ | 129/149 [00:19<00:04,  4.51it/s]"
     ]
    },
    {
     "name": "stderr",
     "output_type": "stream",
     "text": [
      "\r",
      " 88%|████████▊ | 131/149 [00:19<00:03,  5.39it/s]"
     ]
    },
    {
     "name": "stderr",
     "output_type": "stream",
     "text": [
      "\r",
      " 90%|████████▉ | 134/149 [00:19<00:01,  8.76it/s]"
     ]
    },
    {
     "name": "stderr",
     "output_type": "stream",
     "text": [
      "\r",
      " 91%|█████████▏| 136/149 [00:19<00:01,  9.80it/s]"
     ]
    },
    {
     "name": "stderr",
     "output_type": "stream",
     "text": [
      "\r",
      " 93%|█████████▎| 138/149 [00:20<00:01,  6.55it/s]"
     ]
    },
    {
     "name": "stderr",
     "output_type": "stream",
     "text": [
      "\r",
      " 95%|█████████▍| 141/149 [00:20<00:01,  7.93it/s]"
     ]
    },
    {
     "name": "stderr",
     "output_type": "stream",
     "text": [
      "\r",
      " 96%|█████████▌| 143/149 [00:20<00:00,  6.74it/s]"
     ]
    },
    {
     "name": "stderr",
     "output_type": "stream",
     "text": [
      "\r",
      " 97%|█████████▋| 144/149 [00:20<00:00,  6.58it/s]"
     ]
    },
    {
     "name": "stderr",
     "output_type": "stream",
     "text": [
      "\r",
      " 97%|█████████▋| 145/149 [00:21<00:00,  6.96it/s]"
     ]
    },
    {
     "name": "stderr",
     "output_type": "stream",
     "text": [
      "\r",
      " 99%|█████████▊| 147/149 [00:21<00:00,  8.32it/s]"
     ]
    },
    {
     "name": "stderr",
     "output_type": "stream",
     "text": [
      "\r",
      "100%|██████████| 149/149 [00:21<00:00,  8.11it/s]"
     ]
    },
    {
     "name": "stderr",
     "output_type": "stream",
     "text": [
      "\r",
      "100%|██████████| 149/149 [00:21<00:00,  6.94it/s]"
     ]
    },
    {
     "name": "stdout",
     "output_type": "stream",
     "text": [
      "\n",
      "rate limit: 7 \n",
      "Leeftijdsgroep API calls: create: 0, read: 1, update: 149, delete: 0, backoff: 0\n",
      "errors:\n",
      "  503: Service Unavailable: 1\n"
     ]
    },
    {
     "name": "stdout",
     "output_type": "stream",
     "text": [
      "[{'Key': 1, 'Timestamp Leeftijdsgroep RIVM': '2021-12-05 15:15'}]\n"
     ]
    },
    {
     "name": "stderr",
     "output_type": "stream",
     "text": [
      "\n"
     ]
    },
    {
     "name": "stdout",
     "output_type": "stream",
     "text": [
      "timestamps: [{'Key': 1, 'Timestamp Leeftijdsgroep RIVM': '2021-12-05 15:15'}]\n",
      "Key                               int64\n",
      "Timestamp Leeftijdsgroep RIVM    object\n",
      "dtype: object\n"
     ]
    },
    {
     "name": "stderr",
     "output_type": "stream",
     "text": [
      "\r",
      "  0%|          | 0/1 [00:00<?, ?it/s]"
     ]
    },
    {
     "name": "stderr",
     "output_type": "stream",
     "text": [
      "\r",
      "100%|██████████| 1/1 [00:01<00:00,  1.31s/it]"
     ]
    },
    {
     "name": "stderr",
     "output_type": "stream",
     "text": [
      "\r",
      "100%|██████████| 1/1 [00:01<00:00,  1.31s/it]"
     ]
    },
    {
     "name": "stderr",
     "output_type": "stream",
     "text": [
      "\n"
     ]
    },
    {
     "name": "stdout",
     "output_type": "stream",
     "text": [
      "\n",
      "rate limit: 7 \n",
      "LaatsteUpdate API calls: create: 0, read: 0, update: 1, delete: 0, backoff: 0\n"
     ]
    },
    {
     "name": "stdout",
     "output_type": "stream",
     "text": [
      "BatchName     object\n",
      "ObjectName    object\n",
      "Source        object\n",
      "Timestamp     object\n",
      "dtype: object\n"
     ]
    },
    {
     "name": "stderr",
     "output_type": "stream",
     "text": [
      "\r",
      "  0%|          | 0/1 [00:00<?, ?it/s]"
     ]
    },
    {
     "name": "stderr",
     "output_type": "stream",
     "text": [
      "\r",
      "100%|██████████| 1/1 [00:01<00:00,  1.17s/it]"
     ]
    },
    {
     "name": "stderr",
     "output_type": "stream",
     "text": [
      "\r",
      "100%|██████████| 1/1 [00:01<00:00,  1.17s/it]"
     ]
    },
    {
     "name": "stdout",
     "output_type": "stream",
     "text": [
      "\n",
      "rate limit: 7 \n",
      "UpdateDetails API calls: create: 1, read: 0, update: 0, delete: 0, backoff: 0\n"
     ]
    },
    {
     "name": "stderr",
     "output_type": "stream",
     "text": [
      "\n"
     ]
    },
    {
     "name": "stdout",
     "output_type": "stream",
     "text": [
      "updating: [{'Key': 1, 'Updating Leeftijdsgroep': 'false'}]\n",
      "Key                         int64\n",
      "Updating Leeftijdsgroep    object\n",
      "dtype: object\n"
     ]
    },
    {
     "name": "stderr",
     "output_type": "stream",
     "text": [
      "\r",
      "  0%|          | 0/1 [00:00<?, ?it/s]"
     ]
    },
    {
     "name": "stderr",
     "output_type": "stream",
     "text": [
      "\r",
      "100%|██████████| 1/1 [00:01<00:00,  1.26s/it]"
     ]
    },
    {
     "name": "stderr",
     "output_type": "stream",
     "text": [
      "\r",
      "100%|██████████| 1/1 [00:01<00:00,  1.26s/it]"
     ]
    },
    {
     "name": "stdout",
     "output_type": "stream",
     "text": [
      "\n",
      "rate limit: 7 \n",
      "LaatsteUpdate API calls: create: 0, read: 0, update: 1, delete: 0, backoff: 0\n"
     ]
    },
    {
     "name": "stderr",
     "output_type": "stream",
     "text": [
      "\n"
     ]
    }
   ],
   "source": [
    "if knack:\n",
    "  await knack.publish(tabel.fillna(0).assign(Datum=tabel.Datum.dt.strftime('%Y-%m-%d')), 'Leeftijdsgroep', Cache)"
   ]
  }
 ],
 "metadata": {
  "jupytext": {
   "cell_metadata_filter": "title,-all"
  },
  "kernelspec": {
   "display_name": "Python 3 (ipykernel)",
   "language": "python",
   "name": "python3"
  },
  "language_info": {
   "codemirror_mode": {
    "name": "ipython",
    "version": 3
   },
   "file_extension": ".py",
   "mimetype": "text/x-python",
   "name": "python",
   "nbconvert_exporter": "python",
   "pygments_lexer": "ipython3",
   "version": "3.9.9"
  },
  "papermill": {
   "default_parameters": {},
   "duration": 635.576643,
   "end_time": "2021-12-05T14:41:30.034043",
   "environment_variables": {},
   "exception": null,
   "input_path": "-",
   "output_path": "LeeftijdsgroepenLandelijk.ipynb",
   "parameters": {},
   "start_time": "2021-12-05T14:30:54.457400",
   "version": "2.3.3"
  }
 },
 "nbformat": 4,
 "nbformat_minor": 5
}