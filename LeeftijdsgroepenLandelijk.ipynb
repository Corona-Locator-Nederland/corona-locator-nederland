{
 "cells": [
  {
   "cell_type": "code",
   "execution_count": 1,
   "id": "becefda7",
   "metadata": {
    "execution": {
     "iopub.execute_input": "2021-07-19T13:29:41.400194Z",
     "iopub.status.busy": "2021-07-19T13:29:41.399728Z",
     "iopub.status.idle": "2021-07-19T13:29:49.453351Z",
     "shell.execute_reply": "2021-07-19T13:29:49.452780Z"
    },
    "lines_to_next_cell": 1,
    "papermill": {
     "duration": 8.063481,
     "end_time": "2021-07-19T13:29:49.453495",
     "exception": false,
     "start_time": "2021-07-19T13:29:41.390014",
     "status": "completed"
    },
    "tags": []
   },
   "outputs": [
    {
     "name": "stderr",
     "output_type": "stream",
     "text": [
      "Matplotlib is building the font cache; this may take a moment.\n"
     ]
    }
   ],
   "source": [
    "from IPython import get_ipython\n",
    "from IPython.core.display import display\n",
    "get_ipython().run_line_magic('load_ext', 'autoreload')\n",
    "get_ipython().run_line_magic('autoreload', '2')\n",
    "get_ipython().run_line_magic('run', 'setup')"
   ]
  },
  {
   "cell_type": "code",
   "execution_count": 2,
   "id": "ef3b41aa",
   "metadata": {
    "execution": {
     "iopub.execute_input": "2021-07-19T13:29:49.465894Z",
     "iopub.status.busy": "2021-07-19T13:29:49.465427Z",
     "iopub.status.idle": "2021-07-19T13:33:17.367375Z",
     "shell.execute_reply": "2021-07-19T13:33:17.367824Z"
    },
    "lines_to_next_cell": 1,
    "papermill": {
     "duration": 207.909698,
     "end_time": "2021-07-19T13:33:17.367981",
     "exception": false,
     "start_time": "2021-07-19T13:29:49.458283",
     "status": "completed"
    },
    "tags": [],
    "title": "leeftijdsgroepen: download RIVM data"
   },
   "outputs": [
    {
     "name": "stdout",
     "output_type": "stream",
     "text": [
      "downloading rivm/COVID-19_casus_landelijk-2021-07-19@13-15.csv\n"
     ]
    },
    {
     "name": "stdout",
     "output_type": "stream",
     "text": [
      "rivm COVID-19_casus_landelijk zipping rivm/COVID-19_casus_landelijk-2021-07-19@13-15.csv\n"
     ]
    },
    {
     "name": "stdout",
     "output_type": "stream",
     "text": [
      "loading rivm/COVID-19_casus_landelijk-2021-07-19@13-15.csv.gz\n"
     ]
    },
    {
     "data": {
      "text/html": [
       "<div>\n",
       "<style scoped>\n",
       "    .dataframe tbody tr th:only-of-type {\n",
       "        vertical-align: middle;\n",
       "    }\n",
       "\n",
       "    .dataframe tbody tr th {\n",
       "        vertical-align: top;\n",
       "    }\n",
       "\n",
       "    .dataframe thead th {\n",
       "        text-align: right;\n",
       "    }\n",
       "</style>\n",
       "<table border=\"1\" class=\"dataframe\">\n",
       "  <thead>\n",
       "    <tr style=\"text-align: right;\">\n",
       "      <th></th>\n",
       "      <th>Date_file</th>\n",
       "      <th>Date_statistics</th>\n",
       "      <th>Date_statistics_type</th>\n",
       "      <th>Agegroup</th>\n",
       "      <th>Sex</th>\n",
       "      <th>Province</th>\n",
       "      <th>Hospital_admission</th>\n",
       "      <th>Deceased</th>\n",
       "      <th>Week_of_death</th>\n",
       "      <th>Municipal_health_service</th>\n",
       "    </tr>\n",
       "  </thead>\n",
       "  <tbody>\n",
       "    <tr>\n",
       "      <th>0</th>\n",
       "      <td>2021-07-19 10:00:00</td>\n",
       "      <td>2020-01-01</td>\n",
       "      <td>DOO</td>\n",
       "      <td>40-49</td>\n",
       "      <td>Female</td>\n",
       "      <td>Noord-Holland</td>\n",
       "      <td>No</td>\n",
       "      <td>No</td>\n",
       "      <td>NaN</td>\n",
       "      <td>GGD Amsterdam</td>\n",
       "    </tr>\n",
       "    <tr>\n",
       "      <th>1</th>\n",
       "      <td>2021-07-19 10:00:00</td>\n",
       "      <td>2020-01-01</td>\n",
       "      <td>DOO</td>\n",
       "      <td>50-59</td>\n",
       "      <td>Male</td>\n",
       "      <td>Gelderland</td>\n",
       "      <td>No</td>\n",
       "      <td>No</td>\n",
       "      <td>NaN</td>\n",
       "      <td>Veiligheids- en Gezondheidsregio Gelderland-Mi...</td>\n",
       "    </tr>\n",
       "    <tr>\n",
       "      <th>2</th>\n",
       "      <td>2021-07-19 10:00:00</td>\n",
       "      <td>2020-01-01</td>\n",
       "      <td>DOO</td>\n",
       "      <td>20-29</td>\n",
       "      <td>Female</td>\n",
       "      <td>Zuid-Holland</td>\n",
       "      <td>No</td>\n",
       "      <td>No</td>\n",
       "      <td>NaN</td>\n",
       "      <td>GGD Hollands-Midden</td>\n",
       "    </tr>\n",
       "    <tr>\n",
       "      <th>3</th>\n",
       "      <td>2021-07-19 10:00:00</td>\n",
       "      <td>2020-01-01</td>\n",
       "      <td>DOO</td>\n",
       "      <td>60-69</td>\n",
       "      <td>Female</td>\n",
       "      <td>Noord-Holland</td>\n",
       "      <td>No</td>\n",
       "      <td>No</td>\n",
       "      <td>NaN</td>\n",
       "      <td>GGD Hollands-Noorden</td>\n",
       "    </tr>\n",
       "    <tr>\n",
       "      <th>4</th>\n",
       "      <td>2021-07-19 10:00:00</td>\n",
       "      <td>2020-01-04</td>\n",
       "      <td>DOO</td>\n",
       "      <td>10-19</td>\n",
       "      <td>Female</td>\n",
       "      <td>Gelderland</td>\n",
       "      <td>Unknown</td>\n",
       "      <td>No</td>\n",
       "      <td>NaN</td>\n",
       "      <td>GGD Gelderland-Zuid</td>\n",
       "    </tr>\n",
       "  </tbody>\n",
       "</table>\n",
       "</div>"
      ],
      "text/plain": [
       "             Date_file Date_statistics Date_statistics_type Agegroup     Sex  \\\n",
       "0  2021-07-19 10:00:00      2020-01-01                  DOO    40-49  Female   \n",
       "1  2021-07-19 10:00:00      2020-01-01                  DOO    50-59    Male   \n",
       "2  2021-07-19 10:00:00      2020-01-01                  DOO    20-29  Female   \n",
       "3  2021-07-19 10:00:00      2020-01-01                  DOO    60-69  Female   \n",
       "4  2021-07-19 10:00:00      2020-01-04                  DOO    10-19  Female   \n",
       "\n",
       "        Province Hospital_admission Deceased  Week_of_death  \\\n",
       "0  Noord-Holland                 No       No            NaN   \n",
       "1     Gelderland                 No       No            NaN   \n",
       "2   Zuid-Holland                 No       No            NaN   \n",
       "3  Noord-Holland                 No       No            NaN   \n",
       "4     Gelderland            Unknown       No            NaN   \n",
       "\n",
       "                            Municipal_health_service  \n",
       "0                                      GGD Amsterdam  \n",
       "1  Veiligheids- en Gezondheidsregio Gelderland-Mi...  \n",
       "2                                GGD Hollands-Midden  \n",
       "3                               GGD Hollands-Noorden  \n",
       "4                                GGD Gelderland-Zuid  "
      ]
     },
     "metadata": {},
     "output_type": "display_data"
    }
   ],
   "source": [
    "#leeftijdsgroepen = SimpleNamespace()\n",
    "@run\n",
    "def cell():\n",
    "  global rivm\n",
    "  rivm = RIVM.csv('COVID-19_casus_landelijk')\n",
    "  display(rivm.head())"
   ]
  },
  {
   "cell_type": "code",
   "execution_count": 3,
   "id": "2cc96601",
   "metadata": {
    "execution": {
     "iopub.execute_input": "2021-07-19T13:33:17.383007Z",
     "iopub.status.busy": "2021-07-19T13:33:17.382515Z",
     "iopub.status.idle": "2021-07-19T13:33:20.144444Z",
     "shell.execute_reply": "2021-07-19T13:33:20.143695Z"
    },
    "lines_to_next_cell": 1,
    "papermill": {
     "duration": 2.77094,
     "end_time": "2021-07-19T13:33:20.144557",
     "exception": false,
     "start_time": "2021-07-19T13:33:17.373617",
     "status": "completed"
    },
    "tags": [],
    "title": "Download de bevolkings cijfers van CBS, uitgesplitst op de leeftijds categorien in de dataset van het RIVM"
   },
   "outputs": [],
   "source": [
    "@run\n",
    "def cell():\n",
    "  global bevolking\n",
    "  bevolking = CBS.bevolking(leeftijdsgroepen=True)"
   ]
  },
  {
   "cell_type": "code",
   "execution_count": 4,
   "id": "bb56aca3",
   "metadata": {
    "execution": {
     "iopub.execute_input": "2021-07-19T13:33:20.168693Z",
     "iopub.status.busy": "2021-07-19T13:33:20.166549Z",
     "iopub.status.idle": "2021-07-19T13:33:26.802593Z",
     "shell.execute_reply": "2021-07-19T13:33:26.802144Z"
    },
    "lines_to_next_cell": 1,
    "papermill": {
     "duration": 6.653344,
     "end_time": "2021-07-19T13:33:26.802716",
     "exception": false,
     "start_time": "2021-07-19T13:33:20.149372",
     "status": "completed"
    },
    "tags": [],
    "title": "leeftijdsgroepen: prepareer tabel"
   },
   "outputs": [
    {
     "data": {
      "text/html": [
       "<style type=\"text/css\">\n",
       "#T_87e27_row0_col7 {\n",
       "  background-color: #d0e11c;\n",
       "  color: #000000;\n",
       "}\n",
       "#T_87e27_row0_col8 {\n",
       "  background-color: #2d708e;\n",
       "  color: #f1f1f1;\n",
       "}\n",
       "#T_87e27_row0_col9, #T_87e27_row1_col9, #T_87e27_row2_col9, #T_87e27_row3_col8, #T_87e27_row4_col8 {\n",
       "  background-color: #440154;\n",
       "  color: #f1f1f1;\n",
       "}\n",
       "#T_87e27_row0_col10 {\n",
       "  background-color: #44bf70;\n",
       "  color: #f1f1f1;\n",
       "}\n",
       "#T_87e27_row0_col11 {\n",
       "  background-color: #7fd34e;\n",
       "  color: #000000;\n",
       "}\n",
       "#T_87e27_row0_col12, #T_87e27_row1_col10 {\n",
       "  background-color: #81d34d;\n",
       "  color: #000000;\n",
       "}\n",
       "#T_87e27_row0_col13 {\n",
       "  background-color: #d8e219;\n",
       "  color: #000000;\n",
       "}\n",
       "#T_87e27_row0_col14 {\n",
       "  background-color: #f4e61e;\n",
       "  color: #000000;\n",
       "}\n",
       "#T_87e27_row0_col15, #T_87e27_row2_col14 {\n",
       "  background-color: #f8e621;\n",
       "  color: #000000;\n",
       "}\n",
       "#T_87e27_row0_col16, #T_87e27_row0_col17, #T_87e27_row1_col16, #T_87e27_row1_col17, #T_87e27_row2_col16, #T_87e27_row2_col17, #T_87e27_row3_col16, #T_87e27_row3_col17, #T_87e27_row4_col17 {\n",
       "  background-color: #fde725;\n",
       "  color: #000000;\n",
       "}\n",
       "#T_87e27_row1_col7, #T_87e27_row1_col13, #T_87e27_row2_col7 {\n",
       "  background-color: #eae51a;\n",
       "  color: #000000;\n",
       "}\n",
       "#T_87e27_row1_col8 {\n",
       "  background-color: #20928c;\n",
       "  color: #f1f1f1;\n",
       "}\n",
       "#T_87e27_row1_col11 {\n",
       "  background-color: #b8de29;\n",
       "  color: #000000;\n",
       "}\n",
       "#T_87e27_row1_col12 {\n",
       "  background-color: #b5de2b;\n",
       "  color: #000000;\n",
       "}\n",
       "#T_87e27_row1_col14, #T_87e27_row1_col15, #T_87e27_row2_col15, #T_87e27_row4_col16 {\n",
       "  background-color: #fbe723;\n",
       "  color: #000000;\n",
       "}\n",
       "#T_87e27_row2_col8 {\n",
       "  background-color: #277f8e;\n",
       "  color: #f1f1f1;\n",
       "}\n",
       "#T_87e27_row2_col10 {\n",
       "  background-color: #89d548;\n",
       "  color: #000000;\n",
       "}\n",
       "#T_87e27_row2_col11 {\n",
       "  background-color: #c0df25;\n",
       "  color: #000000;\n",
       "}\n",
       "#T_87e27_row2_col12 {\n",
       "  background-color: #c8e020;\n",
       "  color: #000000;\n",
       "}\n",
       "#T_87e27_row2_col13, #T_87e27_row4_col14 {\n",
       "  background-color: #ece51b;\n",
       "  color: #000000;\n",
       "}\n",
       "#T_87e27_row3_col7 {\n",
       "  background-color: #6ccd5a;\n",
       "  color: #000000;\n",
       "}\n",
       "#T_87e27_row3_col9 {\n",
       "  background-color: #450559;\n",
       "  color: #f1f1f1;\n",
       "}\n",
       "#T_87e27_row3_col10 {\n",
       "  background-color: #26818e;\n",
       "  color: #f1f1f1;\n",
       "}\n",
       "#T_87e27_row3_col11 {\n",
       "  background-color: #1f998a;\n",
       "  color: #f1f1f1;\n",
       "}\n",
       "#T_87e27_row3_col12 {\n",
       "  background-color: #2eb37c;\n",
       "  color: #f1f1f1;\n",
       "}\n",
       "#T_87e27_row3_col13 {\n",
       "  background-color: #a5db36;\n",
       "  color: #000000;\n",
       "}\n",
       "#T_87e27_row3_col14 {\n",
       "  background-color: #e7e419;\n",
       "  color: #000000;\n",
       "}\n",
       "#T_87e27_row3_col15, #T_87e27_row4_col15 {\n",
       "  background-color: #f1e51d;\n",
       "  color: #000000;\n",
       "}\n",
       "#T_87e27_row4_col7 {\n",
       "  background-color: #7ad151;\n",
       "  color: #000000;\n",
       "}\n",
       "#T_87e27_row4_col9 {\n",
       "  background-color: #31668e;\n",
       "  color: #f1f1f1;\n",
       "}\n",
       "#T_87e27_row4_col10 {\n",
       "  background-color: #1f988b;\n",
       "  color: #f1f1f1;\n",
       "}\n",
       "#T_87e27_row4_col11 {\n",
       "  background-color: #21a585;\n",
       "  color: #f1f1f1;\n",
       "}\n",
       "#T_87e27_row4_col12 {\n",
       "  background-color: #31b57b;\n",
       "  color: #f1f1f1;\n",
       "}\n",
       "#T_87e27_row4_col13 {\n",
       "  background-color: #addc30;\n",
       "  color: #000000;\n",
       "}\n",
       "</style>\n",
       "<table id=\"T_87e27_\">\n",
       "  <thead>\n",
       "    <tr>\n",
       "      <th class=\"blank level0\" >&nbsp;</th>\n",
       "      <th class=\"col_heading level0 col0\" >Key</th>\n",
       "      <th class=\"col_heading level0 col1\" >Weken terug</th>\n",
       "      <th class=\"col_heading level0 col2\" >Datum</th>\n",
       "      <th class=\"col_heading level0 col3\" >Periode</th>\n",
       "      <th class=\"col_heading level0 col4\" >Gemiddelde leeftijd</th>\n",
       "      <th class=\"col_heading level0 col5\" >Totaal</th>\n",
       "      <th class=\"col_heading level0 col6\" >Type</th>\n",
       "      <th class=\"col_heading level0 col7\" >0-9</th>\n",
       "      <th class=\"col_heading level0 col8\" >10-19</th>\n",
       "      <th class=\"col_heading level0 col9\" >20-29</th>\n",
       "      <th class=\"col_heading level0 col10\" >30-39</th>\n",
       "      <th class=\"col_heading level0 col11\" >40-49</th>\n",
       "      <th class=\"col_heading level0 col12\" >50-59</th>\n",
       "      <th class=\"col_heading level0 col13\" >60-69</th>\n",
       "      <th class=\"col_heading level0 col14\" >70-79</th>\n",
       "      <th class=\"col_heading level0 col15\" >80-89</th>\n",
       "      <th class=\"col_heading level0 col16\" >90+</th>\n",
       "      <th class=\"col_heading level0 col17\" >Onbekend</th>\n",
       "      <th class=\"col_heading level0 col18\" >c0-9</th>\n",
       "      <th class=\"col_heading level0 col19\" >c10-19</th>\n",
       "      <th class=\"col_heading level0 col20\" >c20-29</th>\n",
       "      <th class=\"col_heading level0 col21\" >c30-39</th>\n",
       "      <th class=\"col_heading level0 col22\" >c40-49</th>\n",
       "      <th class=\"col_heading level0 col23\" >c50-59</th>\n",
       "      <th class=\"col_heading level0 col24\" >c60-69</th>\n",
       "      <th class=\"col_heading level0 col25\" >c70-79</th>\n",
       "      <th class=\"col_heading level0 col26\" >c80-89</th>\n",
       "      <th class=\"col_heading level0 col27\" >c90+</th>\n",
       "      <th class=\"col_heading level0 col28\" >cOnbekend</th>\n",
       "    </tr>\n",
       "  </thead>\n",
       "  <tbody>\n",
       "    <tr>\n",
       "      <th id=\"T_87e27_level0_row0\" class=\"row_heading level0 row0\" >0</th>\n",
       "      <td id=\"T_87e27_row0_col0\" class=\"data row0 col0\" >p000</td>\n",
       "      <td id=\"T_87e27_row0_col1\" class=\"data row0 col1\" >0</td>\n",
       "      <td id=\"T_87e27_row0_col2\" class=\"data row0 col2\" >2021-07-19 00:00:00</td>\n",
       "      <td id=\"T_87e27_row0_col3\" class=\"data row0 col3\" >13/07-19/07</td>\n",
       "      <td id=\"T_87e27_row0_col4\" class=\"data row0 col4\" >28.600000</td>\n",
       "      <td id=\"T_87e27_row0_col5\" class=\"data row0 col5\" >37604.000000</td>\n",
       "      <td id=\"T_87e27_row0_col6\" class=\"data row0 col6\" >Positief getest</td>\n",
       "      <td id=\"T_87e27_row0_col7\" class=\"data row0 col7\" >1081.000000</td>\n",
       "      <td id=\"T_87e27_row0_col8\" class=\"data row0 col8\" >9642.000000</td>\n",
       "      <td id=\"T_87e27_row0_col9\" class=\"data row0 col9\" >15150.000000</td>\n",
       "      <td id=\"T_87e27_row0_col10\" class=\"data row0 col10\" >4540.000000</td>\n",
       "      <td id=\"T_87e27_row0_col11\" class=\"data row0 col11\" >2922.000000</td>\n",
       "      <td id=\"T_87e27_row0_col12\" class=\"data row0 col12\" >2890.000000</td>\n",
       "      <td id=\"T_87e27_row0_col13\" class=\"data row0 col13\" >944.000000</td>\n",
       "      <td id=\"T_87e27_row0_col14\" class=\"data row0 col14\" >263.000000</td>\n",
       "      <td id=\"T_87e27_row0_col15\" class=\"data row0 col15\" >125.000000</td>\n",
       "      <td id=\"T_87e27_row0_col16\" class=\"data row0 col16\" >47.000000</td>\n",
       "      <td id=\"T_87e27_row0_col17\" class=\"data row0 col17\" >0.000000</td>\n",
       "      <td id=\"T_87e27_row0_col18\" class=\"data row0 col18\" >71</td>\n",
       "      <td id=\"T_87e27_row0_col19\" class=\"data row0 col19\" >636</td>\n",
       "      <td id=\"T_87e27_row0_col20\" class=\"data row0 col20\" >1000</td>\n",
       "      <td id=\"T_87e27_row0_col21\" class=\"data row0 col21\" >299</td>\n",
       "      <td id=\"T_87e27_row0_col22\" class=\"data row0 col22\" >192</td>\n",
       "      <td id=\"T_87e27_row0_col23\" class=\"data row0 col23\" >190</td>\n",
       "      <td id=\"T_87e27_row0_col24\" class=\"data row0 col24\" >62</td>\n",
       "      <td id=\"T_87e27_row0_col25\" class=\"data row0 col25\" >17</td>\n",
       "      <td id=\"T_87e27_row0_col26\" class=\"data row0 col26\" >8</td>\n",
       "      <td id=\"T_87e27_row0_col27\" class=\"data row0 col27\" >3</td>\n",
       "      <td id=\"T_87e27_row0_col28\" class=\"data row0 col28\" >0</td>\n",
       "    </tr>\n",
       "    <tr>\n",
       "      <th id=\"T_87e27_level0_row1\" class=\"row_heading level0 row1\" >1</th>\n",
       "      <td id=\"T_87e27_row1_col0\" class=\"data row1 col0\" >p001</td>\n",
       "      <td id=\"T_87e27_row1_col1\" class=\"data row1 col1\" >1</td>\n",
       "      <td id=\"T_87e27_row1_col2\" class=\"data row1 col2\" >2021-07-19 00:00:00</td>\n",
       "      <td id=\"T_87e27_row1_col3\" class=\"data row1 col3\" >06/07-12/07</td>\n",
       "      <td id=\"T_87e27_row1_col4\" class=\"data row1 col4\" >26.900000</td>\n",
       "      <td id=\"T_87e27_row1_col5\" class=\"data row1 col5\" >66140.000000</td>\n",
       "      <td id=\"T_87e27_row1_col6\" class=\"data row1 col6\" >Positief getest</td>\n",
       "      <td id=\"T_87e27_row1_col7\" class=\"data row1 col7\" >1081.000000</td>\n",
       "      <td id=\"T_87e27_row1_col8\" class=\"data row1 col8\" >16444.000000</td>\n",
       "      <td id=\"T_87e27_row1_col9\" class=\"data row1 col9\" >33539.000000</td>\n",
       "      <td id=\"T_87e27_row1_col10\" class=\"data row1 col10\" >6368.000000</td>\n",
       "      <td id=\"T_87e27_row1_col11\" class=\"data row1 col11\" >3561.000000</td>\n",
       "      <td id=\"T_87e27_row1_col12\" class=\"data row1 col12\" >3675.000000</td>\n",
       "      <td id=\"T_87e27_row1_col13\" class=\"data row1 col13\" >1059.000000</td>\n",
       "      <td id=\"T_87e27_row1_col14\" class=\"data row1 col14\" >256.000000</td>\n",
       "      <td id=\"T_87e27_row1_col15\" class=\"data row1 col15\" >135.000000</td>\n",
       "      <td id=\"T_87e27_row1_col16\" class=\"data row1 col16\" >22.000000</td>\n",
       "      <td id=\"T_87e27_row1_col17\" class=\"data row1 col17\" >0.000000</td>\n",
       "      <td id=\"T_87e27_row1_col18\" class=\"data row1 col18\" >32</td>\n",
       "      <td id=\"T_87e27_row1_col19\" class=\"data row1 col19\" >490</td>\n",
       "      <td id=\"T_87e27_row1_col20\" class=\"data row1 col20\" >1000</td>\n",
       "      <td id=\"T_87e27_row1_col21\" class=\"data row1 col21\" >189</td>\n",
       "      <td id=\"T_87e27_row1_col22\" class=\"data row1 col22\" >106</td>\n",
       "      <td id=\"T_87e27_row1_col23\" class=\"data row1 col23\" >109</td>\n",
       "      <td id=\"T_87e27_row1_col24\" class=\"data row1 col24\" >31</td>\n",
       "      <td id=\"T_87e27_row1_col25\" class=\"data row1 col25\" >7</td>\n",
       "      <td id=\"T_87e27_row1_col26\" class=\"data row1 col26\" >4</td>\n",
       "      <td id=\"T_87e27_row1_col27\" class=\"data row1 col27\" >0</td>\n",
       "      <td id=\"T_87e27_row1_col28\" class=\"data row1 col28\" >0</td>\n",
       "    </tr>\n",
       "    <tr>\n",
       "      <th id=\"T_87e27_level0_row2\" class=\"row_heading level0 row2\" >2</th>\n",
       "      <td id=\"T_87e27_row2_col0\" class=\"data row2 col0\" >p002</td>\n",
       "      <td id=\"T_87e27_row2_col1\" class=\"data row2 col1\" >2</td>\n",
       "      <td id=\"T_87e27_row2_col2\" class=\"data row2 col2\" >2021-07-19 00:00:00</td>\n",
       "      <td id=\"T_87e27_row2_col3\" class=\"data row2 col3\" >29/06-05/07</td>\n",
       "      <td id=\"T_87e27_row2_col4\" class=\"data row2 col4\" >25.900000</td>\n",
       "      <td id=\"T_87e27_row2_col5\" class=\"data row2 col5\" >17735.000000</td>\n",
       "      <td id=\"T_87e27_row2_col6\" class=\"data row2 col6\" >Positief getest</td>\n",
       "      <td id=\"T_87e27_row2_col7\" class=\"data row2 col7\" >309.000000</td>\n",
       "      <td id=\"T_87e27_row2_col8\" class=\"data row2 col8\" >5046.000000</td>\n",
       "      <td id=\"T_87e27_row2_col9\" class=\"data row2 col9\" >8842.000000</td>\n",
       "      <td id=\"T_87e27_row2_col10\" class=\"data row2 col10\" >1581.000000</td>\n",
       "      <td id=\"T_87e27_row2_col11\" class=\"data row2 col11\" >832.000000</td>\n",
       "      <td id=\"T_87e27_row2_col12\" class=\"data row2 col12\" >740.000000</td>\n",
       "      <td id=\"T_87e27_row2_col13\" class=\"data row2 col13\" >242.000000</td>\n",
       "      <td id=\"T_87e27_row2_col14\" class=\"data row2 col14\" >94.000000</td>\n",
       "      <td id=\"T_87e27_row2_col15\" class=\"data row2 col15\" >39.000000</td>\n",
       "      <td id=\"T_87e27_row2_col16\" class=\"data row2 col16\" >10.000000</td>\n",
       "      <td id=\"T_87e27_row2_col17\" class=\"data row2 col17\" >0.000000</td>\n",
       "      <td id=\"T_87e27_row2_col18\" class=\"data row2 col18\" >34</td>\n",
       "      <td id=\"T_87e27_row2_col19\" class=\"data row2 col19\" >570</td>\n",
       "      <td id=\"T_87e27_row2_col20\" class=\"data row2 col20\" >1000</td>\n",
       "      <td id=\"T_87e27_row2_col21\" class=\"data row2 col21\" >178</td>\n",
       "      <td id=\"T_87e27_row2_col22\" class=\"data row2 col22\" >94</td>\n",
       "      <td id=\"T_87e27_row2_col23\" class=\"data row2 col23\" >83</td>\n",
       "      <td id=\"T_87e27_row2_col24\" class=\"data row2 col24\" >27</td>\n",
       "      <td id=\"T_87e27_row2_col25\" class=\"data row2 col25\" >10</td>\n",
       "      <td id=\"T_87e27_row2_col26\" class=\"data row2 col26\" >4</td>\n",
       "      <td id=\"T_87e27_row2_col27\" class=\"data row2 col27\" >1</td>\n",
       "      <td id=\"T_87e27_row2_col28\" class=\"data row2 col28\" >0</td>\n",
       "    </tr>\n",
       "    <tr>\n",
       "      <th id=\"T_87e27_level0_row3\" class=\"row_heading level0 row3\" >3</th>\n",
       "      <td id=\"T_87e27_row3_col0\" class=\"data row3 col0\" >p003</td>\n",
       "      <td id=\"T_87e27_row3_col1\" class=\"data row3 col1\" >3</td>\n",
       "      <td id=\"T_87e27_row3_col2\" class=\"data row3 col2\" >2021-07-19 00:00:00</td>\n",
       "      <td id=\"T_87e27_row3_col3\" class=\"data row3 col3\" >22/06-28/06</td>\n",
       "      <td id=\"T_87e27_row3_col4\" class=\"data row3 col4\" >30.200000</td>\n",
       "      <td id=\"T_87e27_row3_col5\" class=\"data row3 col5\" >4359.000000</td>\n",
       "      <td id=\"T_87e27_row3_col6\" class=\"data row3 col6\" >Positief getest</td>\n",
       "      <td id=\"T_87e27_row3_col7\" class=\"data row3 col7\" >259.000000</td>\n",
       "      <td id=\"T_87e27_row3_col8\" class=\"data row3 col8\" >1149.000000</td>\n",
       "      <td id=\"T_87e27_row3_col9\" class=\"data row3 col9\" >1134.000000</td>\n",
       "      <td id=\"T_87e27_row3_col10\" class=\"data row3 col10\" >650.000000</td>\n",
       "      <td id=\"T_87e27_row3_col11\" class=\"data row3 col11\" >533.000000</td>\n",
       "      <td id=\"T_87e27_row3_col12\" class=\"data row3 col12\" >407.000000</td>\n",
       "      <td id=\"T_87e27_row3_col13\" class=\"data row3 col13\" >157.000000</td>\n",
       "      <td id=\"T_87e27_row3_col14\" class=\"data row3 col14\" >43.000000</td>\n",
       "      <td id=\"T_87e27_row3_col15\" class=\"data row3 col15\" >23.000000</td>\n",
       "      <td id=\"T_87e27_row3_col16\" class=\"data row3 col16\" >4.000000</td>\n",
       "      <td id=\"T_87e27_row3_col17\" class=\"data row3 col17\" >0.000000</td>\n",
       "      <td id=\"T_87e27_row3_col18\" class=\"data row3 col18\" >225</td>\n",
       "      <td id=\"T_87e27_row3_col19\" class=\"data row3 col19\" >1000</td>\n",
       "      <td id=\"T_87e27_row3_col20\" class=\"data row3 col20\" >986</td>\n",
       "      <td id=\"T_87e27_row3_col21\" class=\"data row3 col21\" >565</td>\n",
       "      <td id=\"T_87e27_row3_col22\" class=\"data row3 col22\" >463</td>\n",
       "      <td id=\"T_87e27_row3_col23\" class=\"data row3 col23\" >354</td>\n",
       "      <td id=\"T_87e27_row3_col24\" class=\"data row3 col24\" >136</td>\n",
       "      <td id=\"T_87e27_row3_col25\" class=\"data row3 col25\" >37</td>\n",
       "      <td id=\"T_87e27_row3_col26\" class=\"data row3 col26\" >20</td>\n",
       "      <td id=\"T_87e27_row3_col27\" class=\"data row3 col27\" >3</td>\n",
       "      <td id=\"T_87e27_row3_col28\" class=\"data row3 col28\" >0</td>\n",
       "    </tr>\n",
       "    <tr>\n",
       "      <th id=\"T_87e27_level0_row4\" class=\"row_heading level0 row4\" >4</th>\n",
       "      <td id=\"T_87e27_row4_col0\" class=\"data row4 col0\" >p004</td>\n",
       "      <td id=\"T_87e27_row4_col1\" class=\"data row4 col1\" >4</td>\n",
       "      <td id=\"T_87e27_row4_col2\" class=\"data row4 col2\" >2021-07-19 00:00:00</td>\n",
       "      <td id=\"T_87e27_row4_col3\" class=\"data row4 col3\" >15/06-21/06</td>\n",
       "      <td id=\"T_87e27_row4_col4\" class=\"data row4 col4\" >30.300000</td>\n",
       "      <td id=\"T_87e27_row4_col5\" class=\"data row4 col5\" >4995.000000</td>\n",
       "      <td id=\"T_87e27_row4_col6\" class=\"data row4 col6\" >Positief getest</td>\n",
       "      <td id=\"T_87e27_row4_col7\" class=\"data row4 col7\" >304.000000</td>\n",
       "      <td id=\"T_87e27_row4_col8\" class=\"data row4 col8\" >1525.000000</td>\n",
       "      <td id=\"T_87e27_row4_col9\" class=\"data row4 col9\" >1026.000000</td>\n",
       "      <td id=\"T_87e27_row4_col10\" class=\"data row4 col10\" >713.000000</td>\n",
       "      <td id=\"T_87e27_row4_col11\" class=\"data row4 col11\" >631.000000</td>\n",
       "      <td id=\"T_87e27_row4_col12\" class=\"data row4 col12\" >525.000000</td>\n",
       "      <td id=\"T_87e27_row4_col13\" class=\"data row4 col13\" >189.000000</td>\n",
       "      <td id=\"T_87e27_row4_col14\" class=\"data row4 col14\" >43.000000</td>\n",
       "      <td id=\"T_87e27_row4_col15\" class=\"data row4 col15\" >32.000000</td>\n",
       "      <td id=\"T_87e27_row4_col16\" class=\"data row4 col16\" >7.000000</td>\n",
       "      <td id=\"T_87e27_row4_col17\" class=\"data row4 col17\" >0.000000</td>\n",
       "      <td id=\"T_87e27_row4_col18\" class=\"data row4 col18\" >199</td>\n",
       "      <td id=\"T_87e27_row4_col19\" class=\"data row4 col19\" >1000</td>\n",
       "      <td id=\"T_87e27_row4_col20\" class=\"data row4 col20\" >672</td>\n",
       "      <td id=\"T_87e27_row4_col21\" class=\"data row4 col21\" >467</td>\n",
       "      <td id=\"T_87e27_row4_col22\" class=\"data row4 col22\" >413</td>\n",
       "      <td id=\"T_87e27_row4_col23\" class=\"data row4 col23\" >344</td>\n",
       "      <td id=\"T_87e27_row4_col24\" class=\"data row4 col24\" >123</td>\n",
       "      <td id=\"T_87e27_row4_col25\" class=\"data row4 col25\" >28</td>\n",
       "      <td id=\"T_87e27_row4_col26\" class=\"data row4 col26\" >20</td>\n",
       "      <td id=\"T_87e27_row4_col27\" class=\"data row4 col27\" >4</td>\n",
       "      <td id=\"T_87e27_row4_col28\" class=\"data row4 col28\" >0</td>\n",
       "    </tr>\n",
       "  </tbody>\n",
       "</table>\n"
      ],
      "text/plain": [
       "<pandas.io.formats.style.Styler at 0x7f790b9ecf40>"
      ]
     },
     "metadata": {},
     "output_type": "display_data"
    }
   ],
   "source": [
    "# Bereken de stand van zaken van besmettingen / hospitalisaties / overlijden, per cohort in absolute aantallen en aantallen per 100k, met een kleur indicator voor de aantallen.\n",
    "# vervang <50 en Unknown door Onbekend\n",
    "@run\n",
    "def cell():\n",
    "  rivm['Cohort'] = rivm['Agegroup'].replace({'<50': 'Onbekend', 'Unknown': 'Onbekend'})\n",
    "  # aangenomen 'gemiddelde' leeftijd van een cohort: minimum waarde + 5\n",
    "  assumed_cohort_age = [(cohort, [int(n) for n in cohort.replace('+', '').split('-')]) for cohort in rivm['Cohort'].unique() if cohort[0].isdigit()]\n",
    "  assumed_cohort_age = { cohort: min(rng) + 5 for cohort, rng in assumed_cohort_age }\n",
    "  rivm['Gemiddelde leeftijd'] = rivm['Cohort'].apply(lambda x: assumed_cohort_age.get(x, np.nan))\n",
    "\n",
    "  # verwijder tijd\n",
    "  rivm['Date_file_date'] = pd.to_datetime(rivm['Date_file'].replace(r' .*', '', regex=True))\n",
    "\n",
    "  rivm['Date_statistics_date'] = pd.to_datetime(rivm['Date_statistics'])\n",
    "\n",
    "  # weken terug = verschil tussen Date_file en Date_statistcs, gedeeld door 7 dagen\n",
    "  rivm['Weken terug'] = np.floor((rivm['Date_file_date'] - rivm['Date_statistics_date'])/np.timedelta64(7, 'D')).astype(int)\n",
    "\n",
    "  # voeg key, gem leeftijd, kleurnummer en totaal toe\n",
    "  Date_file = rivm['Date_file_date'].unique()[0].astype('M8[D]').astype('O')\n",
    "  cohorten = list(bevolking.index) + ['Onbekend']\n",
    "  def summarize(df, category, prefix):\n",
    "    # aangezien we hier de dataframe in-place wijzigen (bijv door toevoegen kolommen)\n",
    "    # en we het 'rivm' frame later nog clean nodig hebben\n",
    "    df = df.copy(deep=True)\n",
    "\n",
    "    df = (df\n",
    "          .groupby(['Weken terug', 'Cohort'])['count']\n",
    "          .sum()\n",
    "          .unstack(fill_value=np.nan)\n",
    "          .reset_index()\n",
    "          .rename_axis(None, axis=1)\n",
    "        ).merge(df\n",
    "          # we voegen hier gemiddelde leeftijd toe, want die willen we op een ander\n",
    "          # niveau aggregeren voor 'df' overschreven word\n",
    "          .groupby(['Weken terug'])['Gemiddelde leeftijd']\n",
    "          .mean()\n",
    "          .to_frame(), on='Weken terug'\n",
    "        )\n",
    "\n",
    "    # altijd 52 rijen\n",
    "    df = pd.Series(np.arange(52), name='Weken terug').to_frame().merge(df, how='left', on='Weken terug')\n",
    "\n",
    "    # toevoegen missende cohorten\n",
    "    for col in cohorten:\n",
    "      if not col in df:\n",
    "        df[col] = np.nan\n",
    "\n",
    "    # sommeer per rij (axis=1) over de cohorten om een totaal te krijgen\n",
    "    df['Totaal'] = df[cohorten].sum(axis=1)\n",
    "\n",
    "    # voeg periode en datum toe\n",
    "    # periode afgeleid van weken-terug (= de index voor deze dataframe)\n",
    "    df['Datum'] = pd.to_datetime(Date_file)\n",
    "    df['Periode'] = (df\n",
    "      .index.to_series()\n",
    "      .apply(\n",
    "        lambda x: (\n",
    "          (Date_file + datetime.timedelta(weeks=-(x+1), days=1)).strftime('%d/%m')\n",
    "          + '-'\n",
    "          + (Date_file + datetime.timedelta(weeks=-x)).strftime('%d/%m')\n",
    "        )\n",
    "      )\n",
    "    )\n",
    "\n",
    "    # voeg 'Key' en 'Type' kolom toe. Variabele 'type' kan niet, is een language primitive.\n",
    "    df['Key'] = prefix + df.index.astype(str).str.rjust(3, fillchar='0')\n",
    "    df['Type'] = category\n",
    "\n",
    "    # voeg de kleur kolommen toe\n",
    "    for col in cohorten:\n",
    "      df['c' + col] = ((df[col] / df[[col for col in cohorten]].max(axis=1)) * 1000).fillna(0).astype(int)\n",
    "\n",
    "    # herschikken van de kolommen\n",
    "    colorder = ['Key', 'Weken terug', 'Datum', 'Periode', 'Gemiddelde leeftijd', 'Totaal', 'Type']\n",
    "    return df[colorder + [col for col in df if col not in colorder]]\n",
    "\n",
    "  factor = bevolking.to_dict()['per 100k']\n",
    "  global tabel\n",
    "  tabel = pd.concat(\n",
    "    # flatten the result list zodat pd.concat ze onder elkaar kan plakken\n",
    "    functools.reduce(lambda a, b: a + b, [\n",
    "      [summarize(df.assign(count=1), label, prefix), summarize(df.assign(count=df['Cohort'].apply(lambda x: factor.get(x, np.nan))), label + ' per 100.000', prefix + '100k')]\n",
    "      for df, label, prefix in [\n",
    "        (rivm, 'Positief getest', 'p'), # volledige count per cohort\n",
    "        (rivm[rivm.Hospital_admission == 'Yes'], 'Ziekenhuisopname', 'h'), # count van cohort voor Hospital_admission == 'Yes'\n",
    "        (rivm[rivm.Deceased == 'Yes'], 'Overleden', 'd'), # count van cohort voor Deceased == 'Yes'\n",
    "      ]\n",
    "    ])\n",
    "  )\n",
    "\n",
    "  # rood -> groen\n",
    "  cdict = {\n",
    "    'red':   ((0.0, 0.0, 0.0),   # no red at 0\n",
    "              (0.5, 1.0, 1.0),   # all channels set to 1.0 at 0.5 to create white\n",
    "              (1.0, 0.8, 0.8)),  # set to 0.8 so its not too bright at 1\n",
    "    'green': ((0.0, 0.8, 0.8),   # set to 0.8 so its not too bright at 0\n",
    "              (0.5, 1.0, 1.0),   # all channels set to 1.0 at 0.5 to create white\n",
    "              (1.0, 0.0, 0.0)),  # no green at 1\n",
    "    'blue':  ((0.0, 0.0, 0.0),   # no blue at 0\n",
    "              (0.5, 1.0, 1.0),   # all channels set to 1.0 at 0.5 to create white\n",
    "              (1.0, 0.0, 0.0))   # no blue at 1\n",
    "  }\n",
    "  cm = colors.LinearSegmentedColormap('GnRd', cdict)\n",
    "  # geel -> paars\n",
    "  cm = sns.color_palette('viridis_r', as_cmap=True)\n",
    "  display(tabel\n",
    "    .fillna(0)\n",
    "    .head()\n",
    "    .round(1)\n",
    "    .reset_index(drop=True)\n",
    "    .style.background_gradient(cmap=cm, axis=1, subset=cohorten)\n",
    "  )"
   ]
  },
  {
   "cell_type": "code",
   "execution_count": 5,
   "id": "bddec080",
   "metadata": {
    "execution": {
     "iopub.execute_input": "2021-07-19T13:33:26.819576Z",
     "iopub.status.busy": "2021-07-19T13:33:26.818217Z",
     "iopub.status.idle": "2021-07-19T13:34:08.531755Z",
     "shell.execute_reply": "2021-07-19T13:34:08.532064Z"
    },
    "papermill": {
     "duration": 41.722687,
     "end_time": "2021-07-19T13:34:08.532194",
     "exception": false,
     "start_time": "2021-07-19T13:33:26.809507",
     "status": "completed"
    },
    "tags": [],
    "title": "publish"
   },
   "outputs": [
    {
     "name": "stdout",
     "output_type": "stream",
     "text": [
      "infinities:\n"
     ]
    },
    {
     "name": "stdout",
     "output_type": "stream",
     "text": [
      "Empty DataFrame\n",
      "Columns: []\n",
      "Index: []\n"
     ]
    },
    {
     "name": "stdout",
     "output_type": "stream",
     "text": [
      "nan:\n"
     ]
    },
    {
     "name": "stdout",
     "output_type": "stream",
     "text": [
      "Empty DataFrame\n",
      "Columns: []\n",
      "Index: []\n"
     ]
    },
    {
     "name": "stdout",
     "output_type": "stream",
     "text": [
      "Key                     object\n",
      "Weken terug              int64\n",
      "Datum                   object\n",
      "Periode                 object\n",
      "Gemiddelde leeftijd    float64\n",
      "Totaal                 float64\n",
      "Type                    object\n",
      "0-9                    float64\n",
      "10-19                  float64\n",
      "20-29                  float64\n",
      "30-39                  float64\n",
      "40-49                  float64\n",
      "50-59                  float64\n",
      "60-69                  float64\n",
      "70-79                  float64\n",
      "80-89                  float64\n",
      "90+                    float64\n",
      "Onbekend               float64\n",
      "c0-9                     int64\n",
      "c10-19                   int64\n",
      "c20-29                   int64\n",
      "c30-39                   int64\n",
      "c40-49                   int64\n",
      "c50-59                   int64\n",
      "c60-69                   int64\n",
      "c70-79                   int64\n",
      "c80-89                   int64\n",
      "c90+                     int64\n",
      "cOnbekend                int64\n",
      "dtype: object\n",
      "updating knack\n"
     ]
    },
    {
     "name": "stdout",
     "output_type": "stream",
     "text": [
      "updating: [{'Key': 1, 'Updating Leeftijdsgroep': 'true'}]\n"
     ]
    },
    {
     "name": "stdout",
     "output_type": "stream",
     "text": [
      "restored LaatsteUpdate from hash\n"
     ]
    },
    {
     "name": "stdout",
     "output_type": "stream",
     "text": [
      "Key                         int64\n",
      "Updating Leeftijdsgroep    object\n",
      "dtype: object\n"
     ]
    },
    {
     "name": "stderr",
     "output_type": "stream",
     "text": [
      "\r",
      "  0%|          | 0/1 [00:00<?, ?it/s]"
     ]
    },
    {
     "name": "stderr",
     "output_type": "stream",
     "text": [
      "\r",
      "100%|██████████| 1/1 [00:00<00:00,  1.38it/s]"
     ]
    },
    {
     "name": "stderr",
     "output_type": "stream",
     "text": [
      "\r",
      "100%|██████████| 1/1 [00:00<00:00,  1.37it/s]"
     ]
    },
    {
     "name": "stdout",
     "output_type": "stream",
     "text": [
      "\n",
      "rate limit: 7 \n",
      "LaatsteUpdate API calls: create: 0, read: 1, update: 1, delete: 0, backoff: 0\n"
     ]
    },
    {
     "name": "stderr",
     "output_type": "stream",
     "text": [
      "\n"
     ]
    },
    {
     "name": "stdout",
     "output_type": "stream",
     "text": [
      "restored Leeftijdsgroep from hash\n"
     ]
    },
    {
     "name": "stdout",
     "output_type": "stream",
     "text": [
      "0-9                    float64\n",
      "10-19                  float64\n",
      "20-29                  float64\n",
      "30-39                  float64\n",
      "40-49                  float64\n",
      "50-59                  float64\n",
      "60-69                  float64\n",
      "70-79                  float64\n",
      "80-89                  float64\n",
      "90+                    float64\n",
      "Datum                   object\n",
      "Gemiddelde leeftijd    float64\n",
      "Key                     object\n",
      "Onbekend               float64\n",
      "Periode                 object\n",
      "Totaal                 float64\n",
      "Type                    object\n",
      "Weken terug              int64\n",
      "c0-9                     int64\n",
      "c10-19                   int64\n",
      "c20-29                   int64\n",
      "c30-39                   int64\n",
      "c40-49                   int64\n",
      "c50-59                   int64\n",
      "c60-69                   int64\n",
      "c70-79                   int64\n",
      "c80-89                   int64\n",
      "c90+                     int64\n",
      "cOnbekend                int64\n",
      "dtype: object\n"
     ]
    },
    {
     "name": "stderr",
     "output_type": "stream",
     "text": [
      "\r",
      "  0%|          | 0/144 [00:00<?, ?it/s]"
     ]
    },
    {
     "name": "stderr",
     "output_type": "stream",
     "text": [
      "\r",
      "  1%|          | 1/144 [00:00<01:58,  1.20it/s]"
     ]
    },
    {
     "name": "stderr",
     "output_type": "stream",
     "text": [
      "\r",
      "  3%|▎         | 4/144 [00:01<00:35,  3.91it/s]"
     ]
    },
    {
     "name": "stderr",
     "output_type": "stream",
     "text": [
      "\r",
      "  3%|▎         | 5/144 [00:01<00:30,  4.61it/s]"
     ]
    },
    {
     "name": "stderr",
     "output_type": "stream",
     "text": [
      "\r",
      "  4%|▍         | 6/144 [00:01<00:31,  4.38it/s]"
     ]
    },
    {
     "name": "stderr",
     "output_type": "stream",
     "text": [
      "\r",
      "  5%|▍         | 7/144 [00:01<00:28,  4.85it/s]"
     ]
    },
    {
     "name": "stderr",
     "output_type": "stream",
     "text": [
      "\r",
      "  7%|▋         | 10/144 [00:01<00:19,  7.01it/s]"
     ]
    },
    {
     "name": "stderr",
     "output_type": "stream",
     "text": [
      "\r",
      "  8%|▊         | 11/144 [00:02<00:28,  4.71it/s]"
     ]
    },
    {
     "name": "stderr",
     "output_type": "stream",
     "text": [
      "\r",
      "  9%|▉         | 13/144 [00:02<00:20,  6.46it/s]"
     ]
    },
    {
     "name": "stderr",
     "output_type": "stream",
     "text": [
      "\r",
      " 10%|█         | 15/144 [00:02<00:16,  7.94it/s]"
     ]
    },
    {
     "name": "stderr",
     "output_type": "stream",
     "text": [
      "\r",
      " 12%|█▏        | 17/144 [00:02<00:13,  9.43it/s]"
     ]
    },
    {
     "name": "stderr",
     "output_type": "stream",
     "text": [
      "\r",
      " 13%|█▎        | 19/144 [00:03<00:13,  9.21it/s]"
     ]
    },
    {
     "name": "stderr",
     "output_type": "stream",
     "text": [
      "\r",
      " 15%|█▌        | 22/144 [00:03<00:14,  8.46it/s]"
     ]
    },
    {
     "name": "stderr",
     "output_type": "stream",
     "text": [
      "\r",
      " 17%|█▋        | 24/144 [00:03<00:12,  9.68it/s]"
     ]
    },
    {
     "name": "stderr",
     "output_type": "stream",
     "text": [
      "\r",
      " 18%|█▊        | 26/144 [00:03<00:11, 10.46it/s]"
     ]
    },
    {
     "name": "stderr",
     "output_type": "stream",
     "text": [
      "\r",
      " 19%|█▉        | 28/144 [00:03<00:11, 10.32it/s]"
     ]
    },
    {
     "name": "stderr",
     "output_type": "stream",
     "text": [
      "\r",
      " 21%|██        | 30/144 [00:04<00:10, 11.34it/s]"
     ]
    },
    {
     "name": "stderr",
     "output_type": "stream",
     "text": [
      "\r",
      " 22%|██▏       | 32/144 [00:04<00:15,  7.35it/s]"
     ]
    },
    {
     "name": "stderr",
     "output_type": "stream",
     "text": [
      "\r",
      " 24%|██▎       | 34/144 [00:04<00:13,  8.35it/s]"
     ]
    },
    {
     "name": "stderr",
     "output_type": "stream",
     "text": [
      "\r",
      " 25%|██▌       | 36/144 [00:05<00:14,  7.32it/s]"
     ]
    },
    {
     "name": "stderr",
     "output_type": "stream",
     "text": [
      "\r",
      " 26%|██▌       | 37/144 [00:05<00:16,  6.35it/s]"
     ]
    },
    {
     "name": "stderr",
     "output_type": "stream",
     "text": [
      "\r",
      " 26%|██▋       | 38/144 [00:05<00:17,  6.19it/s]"
     ]
    },
    {
     "name": "stderr",
     "output_type": "stream",
     "text": [
      "\r",
      " 27%|██▋       | 39/144 [00:05<00:16,  6.27it/s]"
     ]
    },
    {
     "name": "stderr",
     "output_type": "stream",
     "text": [
      "\r",
      " 28%|██▊       | 41/144 [00:05<00:13,  7.49it/s]"
     ]
    },
    {
     "name": "stderr",
     "output_type": "stream",
     "text": [
      "\r",
      " 29%|██▉       | 42/144 [00:06<00:17,  5.87it/s]"
     ]
    },
    {
     "name": "stderr",
     "output_type": "stream",
     "text": [
      "\r",
      " 31%|███       | 44/144 [00:06<00:14,  7.05it/s]"
     ]
    },
    {
     "name": "stderr",
     "output_type": "stream",
     "text": [
      "\r",
      " 31%|███▏      | 45/144 [00:06<00:13,  7.24it/s]"
     ]
    },
    {
     "name": "stderr",
     "output_type": "stream",
     "text": [
      "\r",
      " 33%|███▎      | 47/144 [00:06<00:17,  5.62it/s]"
     ]
    },
    {
     "name": "stderr",
     "output_type": "stream",
     "text": [
      "\r",
      " 34%|███▍      | 49/144 [00:07<00:14,  6.47it/s]"
     ]
    },
    {
     "name": "stderr",
     "output_type": "stream",
     "text": [
      "\r",
      " 35%|███▍      | 50/144 [00:07<00:14,  6.66it/s]"
     ]
    },
    {
     "name": "stderr",
     "output_type": "stream",
     "text": [
      "\r",
      " 35%|███▌      | 51/144 [00:07<00:13,  7.02it/s]"
     ]
    },
    {
     "name": "stderr",
     "output_type": "stream",
     "text": [
      "\r",
      " 37%|███▋      | 53/144 [00:07<00:12,  7.44it/s]"
     ]
    },
    {
     "name": "stderr",
     "output_type": "stream",
     "text": [
      "\r",
      " 38%|███▊      | 54/144 [00:08<00:18,  4.86it/s]"
     ]
    },
    {
     "name": "stderr",
     "output_type": "stream",
     "text": [
      "\r",
      " 39%|███▉      | 56/144 [00:08<00:17,  5.05it/s]"
     ]
    },
    {
     "name": "stderr",
     "output_type": "stream",
     "text": [
      "\r",
      " 40%|███▉      | 57/144 [00:08<00:16,  5.41it/s]"
     ]
    },
    {
     "name": "stderr",
     "output_type": "stream",
     "text": [
      "\r",
      " 42%|████▏     | 60/144 [00:08<00:10,  8.19it/s]"
     ]
    },
    {
     "name": "stderr",
     "output_type": "stream",
     "text": [
      "\r",
      " 43%|████▎     | 62/144 [00:09<00:09,  8.44it/s]"
     ]
    },
    {
     "name": "stderr",
     "output_type": "stream",
     "text": [
      "\r",
      " 44%|████▍     | 63/144 [00:09<00:14,  5.76it/s]"
     ]
    },
    {
     "name": "stderr",
     "output_type": "stream",
     "text": [
      "\r",
      " 45%|████▌     | 65/144 [00:09<00:11,  6.70it/s]"
     ]
    },
    {
     "name": "stderr",
     "output_type": "stream",
     "text": [
      "\r",
      " 47%|████▋     | 67/144 [00:10<00:11,  6.54it/s]"
     ]
    },
    {
     "name": "stderr",
     "output_type": "stream",
     "text": [
      "\r",
      " 47%|████▋     | 68/144 [00:10<00:11,  6.82it/s]"
     ]
    },
    {
     "name": "stderr",
     "output_type": "stream",
     "text": [
      "\r",
      " 48%|████▊     | 69/144 [00:10<00:13,  5.37it/s]"
     ]
    },
    {
     "name": "stderr",
     "output_type": "stream",
     "text": [
      "\r",
      " 49%|████▉     | 71/144 [00:10<00:10,  6.97it/s]"
     ]
    },
    {
     "name": "stderr",
     "output_type": "stream",
     "text": [
      "\r",
      " 51%|█████     | 73/144 [00:10<00:08,  8.58it/s]"
     ]
    },
    {
     "name": "stderr",
     "output_type": "stream",
     "text": [
      "\r",
      " 52%|█████▏    | 75/144 [00:10<00:08,  8.37it/s]"
     ]
    },
    {
     "name": "stderr",
     "output_type": "stream",
     "text": [
      "\r",
      " 53%|█████▎    | 76/144 [00:11<00:10,  6.29it/s]"
     ]
    },
    {
     "name": "stderr",
     "output_type": "stream",
     "text": [
      "\r",
      " 53%|█████▎    | 77/144 [00:11<00:10,  6.23it/s]"
     ]
    },
    {
     "name": "stderr",
     "output_type": "stream",
     "text": [
      "\r",
      " 55%|█████▍    | 79/144 [00:11<00:07,  8.16it/s]"
     ]
    },
    {
     "name": "stderr",
     "output_type": "stream",
     "text": [
      "\r",
      " 56%|█████▌    | 80/144 [00:11<00:08,  7.70it/s]"
     ]
    },
    {
     "name": "stderr",
     "output_type": "stream",
     "text": [
      "\r",
      " 56%|█████▋    | 81/144 [00:12<00:10,  6.04it/s]"
     ]
    },
    {
     "name": "stderr",
     "output_type": "stream",
     "text": [
      "\r",
      " 58%|█████▊    | 83/144 [00:12<00:07,  7.85it/s]"
     ]
    },
    {
     "name": "stderr",
     "output_type": "stream",
     "text": [
      "\r",
      " 60%|█████▉    | 86/144 [00:12<00:05, 11.02it/s]"
     ]
    },
    {
     "name": "stderr",
     "output_type": "stream",
     "text": [
      "\r",
      " 61%|██████    | 88/144 [00:12<00:06,  8.81it/s]"
     ]
    },
    {
     "name": "stderr",
     "output_type": "stream",
     "text": [
      "\r",
      " 62%|██████▎   | 90/144 [00:13<00:09,  5.45it/s]"
     ]
    },
    {
     "name": "stderr",
     "output_type": "stream",
     "text": [
      "\r",
      " 65%|██████▍   | 93/144 [00:13<00:07,  6.98it/s]"
     ]
    },
    {
     "name": "stderr",
     "output_type": "stream",
     "text": [
      "\r",
      " 65%|██████▌   | 94/144 [00:13<00:07,  6.46it/s]"
     ]
    },
    {
     "name": "stderr",
     "output_type": "stream",
     "text": [
      "\r",
      " 66%|██████▌   | 95/144 [00:14<00:08,  5.93it/s]"
     ]
    },
    {
     "name": "stderr",
     "output_type": "stream",
     "text": [
      "\r",
      " 67%|██████▋   | 96/144 [00:14<00:07,  6.17it/s]"
     ]
    },
    {
     "name": "stderr",
     "output_type": "stream",
     "text": [
      "\r",
      " 68%|██████▊   | 98/144 [00:14<00:05,  8.29it/s]"
     ]
    },
    {
     "name": "stderr",
     "output_type": "stream",
     "text": [
      "\r",
      " 69%|██████▉   | 100/144 [00:14<00:08,  5.24it/s]"
     ]
    },
    {
     "name": "stderr",
     "output_type": "stream",
     "text": [
      "\r",
      " 71%|███████   | 102/144 [00:15<00:07,  5.72it/s]"
     ]
    },
    {
     "name": "stderr",
     "output_type": "stream",
     "text": [
      "\r",
      " 72%|███████▏  | 103/144 [00:15<00:07,  5.79it/s]"
     ]
    },
    {
     "name": "stderr",
     "output_type": "stream",
     "text": [
      "\r",
      " 72%|███████▏  | 104/144 [00:15<00:08,  4.96it/s]"
     ]
    },
    {
     "name": "stderr",
     "output_type": "stream",
     "text": [
      "\r",
      " 73%|███████▎  | 105/144 [00:15<00:07,  5.28it/s]"
     ]
    },
    {
     "name": "stderr",
     "output_type": "stream",
     "text": [
      "\r",
      " 74%|███████▎  | 106/144 [00:16<00:08,  4.60it/s]"
     ]
    },
    {
     "name": "stderr",
     "output_type": "stream",
     "text": [
      "\r",
      " 76%|███████▌  | 109/144 [00:16<00:04,  8.06it/s]"
     ]
    },
    {
     "name": "stderr",
     "output_type": "stream",
     "text": [
      "\r",
      " 77%|███████▋  | 111/144 [00:16<00:04,  7.99it/s]"
     ]
    },
    {
     "name": "stderr",
     "output_type": "stream",
     "text": [
      "\r",
      " 78%|███████▊  | 113/144 [00:16<00:03,  8.50it/s]"
     ]
    },
    {
     "name": "stderr",
     "output_type": "stream",
     "text": [
      "\r",
      " 80%|███████▉  | 115/144 [00:16<00:03,  8.56it/s]"
     ]
    },
    {
     "name": "stderr",
     "output_type": "stream",
     "text": [
      "\r",
      " 81%|████████  | 116/144 [00:17<00:04,  6.26it/s]"
     ]
    },
    {
     "name": "stderr",
     "output_type": "stream",
     "text": [
      "\r",
      " 81%|████████▏ | 117/144 [00:17<00:05,  4.76it/s]"
     ]
    },
    {
     "name": "stderr",
     "output_type": "stream",
     "text": [
      "\r",
      " 83%|████████▎ | 119/144 [00:17<00:04,  6.04it/s]"
     ]
    },
    {
     "name": "stderr",
     "output_type": "stream",
     "text": [
      "\r",
      " 83%|████████▎ | 120/144 [00:18<00:04,  5.86it/s]"
     ]
    },
    {
     "name": "stderr",
     "output_type": "stream",
     "text": [
      "\r",
      " 86%|████████▌ | 124/144 [00:18<00:02,  9.51it/s]"
     ]
    },
    {
     "name": "stderr",
     "output_type": "stream",
     "text": [
      "\r",
      " 88%|████████▊ | 126/144 [00:18<00:01,  9.16it/s]"
     ]
    },
    {
     "name": "stderr",
     "output_type": "stream",
     "text": [
      "\r",
      " 89%|████████▉ | 128/144 [00:18<00:02,  7.46it/s]"
     ]
    },
    {
     "name": "stderr",
     "output_type": "stream",
     "text": [
      "\r",
      " 90%|████████▉ | 129/144 [00:19<00:02,  7.22it/s]"
     ]
    },
    {
     "name": "stderr",
     "output_type": "stream",
     "text": [
      "\r",
      " 91%|█████████ | 131/144 [00:19<00:01,  7.41it/s]"
     ]
    },
    {
     "name": "stderr",
     "output_type": "stream",
     "text": [
      "\r",
      " 92%|█████████▏| 133/144 [00:19<00:01,  6.20it/s]"
     ]
    },
    {
     "name": "stderr",
     "output_type": "stream",
     "text": [
      "\r",
      " 94%|█████████▍| 135/144 [00:19<00:01,  7.27it/s]"
     ]
    },
    {
     "name": "stderr",
     "output_type": "stream",
     "text": [
      "\r",
      " 94%|█████████▍| 136/144 [00:20<00:01,  6.18it/s]"
     ]
    },
    {
     "name": "stderr",
     "output_type": "stream",
     "text": [
      "\r",
      " 95%|█████████▌| 137/144 [00:20<00:01,  4.81it/s]"
     ]
    },
    {
     "name": "stderr",
     "output_type": "stream",
     "text": [
      "\r",
      " 97%|█████████▋| 139/144 [00:22<00:02,  1.96it/s]"
     ]
    },
    {
     "name": "stderr",
     "output_type": "stream",
     "text": [
      "\r",
      " 98%|█████████▊| 141/144 [00:23<00:01,  2.38it/s]"
     ]
    },
    {
     "name": "stderr",
     "output_type": "stream",
     "text": [
      "\r",
      " 99%|█████████▊| 142/144 [00:23<00:00,  2.55it/s]"
     ]
    },
    {
     "name": "stderr",
     "output_type": "stream",
     "text": [
      "\r",
      " 99%|█████████▉| 143/144 [00:24<00:00,  2.15it/s]"
     ]
    },
    {
     "name": "stderr",
     "output_type": "stream",
     "text": [
      "\r",
      "100%|██████████| 144/144 [00:24<00:00,  2.13it/s]"
     ]
    },
    {
     "name": "stderr",
     "output_type": "stream",
     "text": [
      "\r",
      "100%|██████████| 144/144 [00:24<00:00,  5.85it/s]"
     ]
    },
    {
     "name": "stdout",
     "output_type": "stream",
     "text": [
      "\n",
      "rate limit: 7 \n",
      "Leeftijdsgroep API calls: create: 0, read: 1, update: 144, delete: 0, backoff: 0\n",
      "errors:\n",
      "  503: Service Unavailable: 3\n"
     ]
    },
    {
     "name": "stdout",
     "output_type": "stream",
     "text": [
      "[{'Key': 1, 'Timestamp Leeftijdsgroep RIVM': '2021-07-19 14:15'}]\n"
     ]
    },
    {
     "name": "stderr",
     "output_type": "stream",
     "text": [
      "\n"
     ]
    },
    {
     "name": "stdout",
     "output_type": "stream",
     "text": [
      "timestamps: [{'Key': 1, 'Timestamp Leeftijdsgroep RIVM': '2021-07-19 14:15'}]\n",
      "Key                               int64\n",
      "Timestamp Leeftijdsgroep RIVM    object\n",
      "dtype: object\n"
     ]
    },
    {
     "name": "stderr",
     "output_type": "stream",
     "text": [
      "\r",
      "  0%|          | 0/1 [00:00<?, ?it/s]"
     ]
    },
    {
     "name": "stderr",
     "output_type": "stream",
     "text": [
      "\r",
      "100%|██████████| 1/1 [00:01<00:00,  1.46s/it]"
     ]
    },
    {
     "name": "stderr",
     "output_type": "stream",
     "text": [
      "\r",
      "100%|██████████| 1/1 [00:01<00:00,  1.46s/it]"
     ]
    },
    {
     "name": "stdout",
     "output_type": "stream",
     "text": [
      "\n",
      "rate limit: 7 \n",
      "LaatsteUpdate API calls: create: 0, read: 0, update: 1, delete: 0, backoff: 0\n"
     ]
    },
    {
     "name": "stderr",
     "output_type": "stream",
     "text": [
      "\n"
     ]
    },
    {
     "name": "stdout",
     "output_type": "stream",
     "text": [
      "BatchName     object\n",
      "ObjectName    object\n",
      "Source        object\n",
      "Timestamp     object\n",
      "dtype: object\n"
     ]
    },
    {
     "name": "stderr",
     "output_type": "stream",
     "text": [
      "\r",
      "  0%|          | 0/1 [00:00<?, ?it/s]"
     ]
    },
    {
     "name": "stderr",
     "output_type": "stream",
     "text": [
      "\r",
      "100%|██████████| 1/1 [00:01<00:00,  1.56s/it]"
     ]
    },
    {
     "name": "stderr",
     "output_type": "stream",
     "text": [
      "\r",
      "100%|██████████| 1/1 [00:01<00:00,  1.56s/it]"
     ]
    },
    {
     "name": "stdout",
     "output_type": "stream",
     "text": [
      "\n",
      "rate limit: 7 \n",
      "UpdateDetails API calls: create: 1, read: 0, update: 0, delete: 0, backoff: 0\n"
     ]
    },
    {
     "name": "stderr",
     "output_type": "stream",
     "text": [
      "\n"
     ]
    },
    {
     "name": "stdout",
     "output_type": "stream",
     "text": [
      "updating: [{'Key': 1, 'Updating Leeftijdsgroep': 'false'}]\n",
      "Key                         int64\n",
      "Updating Leeftijdsgroep    object\n",
      "dtype: object\n"
     ]
    },
    {
     "name": "stderr",
     "output_type": "stream",
     "text": [
      "\r",
      "  0%|          | 0/1 [00:00<?, ?it/s]"
     ]
    },
    {
     "name": "stderr",
     "output_type": "stream",
     "text": [
      "\r",
      "100%|██████████| 1/1 [00:09<00:00,  9.41s/it]"
     ]
    },
    {
     "name": "stderr",
     "output_type": "stream",
     "text": [
      "\r",
      "100%|██████████| 1/1 [00:09<00:00,  9.41s/it]"
     ]
    },
    {
     "name": "stdout",
     "output_type": "stream",
     "text": [
      "\n",
      "rate limit: 7 \n",
      "LaatsteUpdate API calls: create: 0, read: 0, update: 1, delete: 0, backoff: 0\n"
     ]
    },
    {
     "name": "stderr",
     "output_type": "stream",
     "text": [
      "\n"
     ]
    }
   ],
   "source": [
    "if knack:\n",
    "  await knack.publish(tabel.fillna(0).assign(Datum=tabel.Datum.dt.strftime('%Y-%m-%d')), 'Leeftijdsgroep', Cache)"
   ]
  }
 ],
 "metadata": {
  "jupytext": {
   "cell_metadata_filter": "title,-all"
  },
  "kernelspec": {
   "display_name": "Python 3 (ipykernel)",
   "language": "python",
   "name": "python3"
  },
  "language_info": {
   "codemirror_mode": {
    "name": "ipython",
    "version": 3
   },
   "file_extension": ".py",
   "mimetype": "text/x-python",
   "name": "python",
   "nbconvert_exporter": "python",
   "pygments_lexer": "ipython3",
   "version": "3.9.6"
  },
  "papermill": {
   "default_parameters": {},
   "duration": 268.591358,
   "end_time": "2021-07-19T13:34:08.968827",
   "environment_variables": {},
   "exception": null,
   "input_path": "-",
   "output_path": "LeeftijdsgroepenLandelijk.ipynb",
   "parameters": {},
   "start_time": "2021-07-19T13:29:40.377469",
   "version": "2.3.3"
  }
 },
 "nbformat": 4,
 "nbformat_minor": 5
}