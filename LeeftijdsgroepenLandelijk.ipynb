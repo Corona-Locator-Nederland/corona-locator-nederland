{
 "cells": [
  {
   "cell_type": "code",
   "execution_count": 1,
   "id": "d0b16645",
   "metadata": {
    "execution": {
     "iopub.execute_input": "2021-04-29T09:17:16.508764Z",
     "iopub.status.busy": "2021-04-29T09:17:16.507897Z",
     "iopub.status.idle": "2021-04-29T09:17:22.668380Z",
     "shell.execute_reply": "2021-04-29T09:17:22.667486Z"
    },
    "lines_to_next_cell": 1,
    "papermill": {
     "duration": 6.178663,
     "end_time": "2021-04-29T09:17:22.668596",
     "exception": false,
     "start_time": "2021-04-29T09:17:16.489933",
     "status": "completed"
    },
    "tags": []
   },
   "outputs": [],
   "source": [
    "from IPython import get_ipython\n",
    "from IPython.core.display import display\n",
    "get_ipython().run_line_magic('load_ext', 'autoreload')\n",
    "get_ipython().run_line_magic('autoreload', '2')\n",
    "get_ipython().run_line_magic('run', 'setup')"
   ]
  },
  {
   "cell_type": "code",
   "execution_count": 2,
   "id": "6a41daf0",
   "metadata": {
    "execution": {
     "iopub.execute_input": "2021-04-29T09:17:22.682761Z",
     "iopub.status.busy": "2021-04-29T09:17:22.681671Z",
     "iopub.status.idle": "2021-04-29T09:17:25.591665Z",
     "shell.execute_reply": "2021-04-29T09:17:25.591210Z"
    },
    "lines_to_next_cell": 1,
    "papermill": {
     "duration": 2.918534,
     "end_time": "2021-04-29T09:17:25.591781",
     "exception": false,
     "start_time": "2021-04-29T09:17:22.673247",
     "status": "completed"
    },
    "tags": [],
    "title": "leeftijdsgroepen: download RIVM data"
   },
   "outputs": [
    {
     "name": "stdout",
     "output_type": "stream",
     "text": [
      "rivm/COVID-19_casus_landelijk-2021-04-28@13-15.csv exists\n"
     ]
    },
    {
     "name": "stdout",
     "output_type": "stream",
     "text": [
      "loading rivm/COVID-19_casus_landelijk-2021-04-28@13-15.csv.gz\n"
     ]
    },
    {
     "data": {
      "text/html": [
       "<div>\n",
       "<style scoped>\n",
       "    .dataframe tbody tr th:only-of-type {\n",
       "        vertical-align: middle;\n",
       "    }\n",
       "\n",
       "    .dataframe tbody tr th {\n",
       "        vertical-align: top;\n",
       "    }\n",
       "\n",
       "    .dataframe thead th {\n",
       "        text-align: right;\n",
       "    }\n",
       "</style>\n",
       "<table border=\"1\" class=\"dataframe\">\n",
       "  <thead>\n",
       "    <tr style=\"text-align: right;\">\n",
       "      <th></th>\n",
       "      <th>Date_file</th>\n",
       "      <th>Date_statistics</th>\n",
       "      <th>Date_statistics_type</th>\n",
       "      <th>Agegroup</th>\n",
       "      <th>Sex</th>\n",
       "      <th>Province</th>\n",
       "      <th>Hospital_admission</th>\n",
       "      <th>Deceased</th>\n",
       "      <th>Week_of_death</th>\n",
       "      <th>Municipal_health_service</th>\n",
       "    </tr>\n",
       "  </thead>\n",
       "  <tbody>\n",
       "    <tr>\n",
       "      <th>0</th>\n",
       "      <td>2021-04-28 10:00:00</td>\n",
       "      <td>2020-01-01</td>\n",
       "      <td>DOO</td>\n",
       "      <td>40-49</td>\n",
       "      <td>Female</td>\n",
       "      <td>Noord-Holland</td>\n",
       "      <td>No</td>\n",
       "      <td>No</td>\n",
       "      <td>NaN</td>\n",
       "      <td>GGD Amsterdam</td>\n",
       "    </tr>\n",
       "    <tr>\n",
       "      <th>1</th>\n",
       "      <td>2021-04-28 10:00:00</td>\n",
       "      <td>2020-01-01</td>\n",
       "      <td>DOO</td>\n",
       "      <td>50-59</td>\n",
       "      <td>Male</td>\n",
       "      <td>Gelderland</td>\n",
       "      <td>No</td>\n",
       "      <td>No</td>\n",
       "      <td>NaN</td>\n",
       "      <td>Veiligheids- en Gezondheidsregio Gelderland-Mi...</td>\n",
       "    </tr>\n",
       "    <tr>\n",
       "      <th>2</th>\n",
       "      <td>2021-04-28 10:00:00</td>\n",
       "      <td>2020-01-01</td>\n",
       "      <td>DOO</td>\n",
       "      <td>20-29</td>\n",
       "      <td>Female</td>\n",
       "      <td>Zuid-Holland</td>\n",
       "      <td>No</td>\n",
       "      <td>No</td>\n",
       "      <td>NaN</td>\n",
       "      <td>GGD Hollands-Midden</td>\n",
       "    </tr>\n",
       "    <tr>\n",
       "      <th>3</th>\n",
       "      <td>2021-04-28 10:00:00</td>\n",
       "      <td>2020-01-01</td>\n",
       "      <td>DOO</td>\n",
       "      <td>60-69</td>\n",
       "      <td>Female</td>\n",
       "      <td>Noord-Holland</td>\n",
       "      <td>No</td>\n",
       "      <td>No</td>\n",
       "      <td>NaN</td>\n",
       "      <td>GGD Hollands-Noorden</td>\n",
       "    </tr>\n",
       "    <tr>\n",
       "      <th>4</th>\n",
       "      <td>2021-04-28 10:00:00</td>\n",
       "      <td>2020-01-04</td>\n",
       "      <td>DOO</td>\n",
       "      <td>10-19</td>\n",
       "      <td>Female</td>\n",
       "      <td>Gelderland</td>\n",
       "      <td>Unknown</td>\n",
       "      <td>No</td>\n",
       "      <td>NaN</td>\n",
       "      <td>GGD Gelderland-Zuid</td>\n",
       "    </tr>\n",
       "  </tbody>\n",
       "</table>\n",
       "</div>"
      ],
      "text/plain": [
       "             Date_file Date_statistics Date_statistics_type Agegroup     Sex  \\\n",
       "0  2021-04-28 10:00:00      2020-01-01                  DOO    40-49  Female   \n",
       "1  2021-04-28 10:00:00      2020-01-01                  DOO    50-59    Male   \n",
       "2  2021-04-28 10:00:00      2020-01-01                  DOO    20-29  Female   \n",
       "3  2021-04-28 10:00:00      2020-01-01                  DOO    60-69  Female   \n",
       "4  2021-04-28 10:00:00      2020-01-04                  DOO    10-19  Female   \n",
       "\n",
       "        Province Hospital_admission Deceased  Week_of_death  \\\n",
       "0  Noord-Holland                 No       No            NaN   \n",
       "1     Gelderland                 No       No            NaN   \n",
       "2   Zuid-Holland                 No       No            NaN   \n",
       "3  Noord-Holland                 No       No            NaN   \n",
       "4     Gelderland            Unknown       No            NaN   \n",
       "\n",
       "                            Municipal_health_service  \n",
       "0                                      GGD Amsterdam  \n",
       "1  Veiligheids- en Gezondheidsregio Gelderland-Mi...  \n",
       "2                                GGD Hollands-Midden  \n",
       "3                               GGD Hollands-Noorden  \n",
       "4                                GGD Gelderland-Zuid  "
      ]
     },
     "metadata": {},
     "output_type": "display_data"
    }
   ],
   "source": [
    "#leeftijdsgroepen = SimpleNamespace()\n",
    "@run\n",
    "def cell():\n",
    "  global rivm\n",
    "  rivm = RIVM.csv('COVID-19_casus_landelijk')\n",
    "  display(rivm.head())"
   ]
  },
  {
   "cell_type": "code",
   "execution_count": 3,
   "id": "c9368f4f",
   "metadata": {
    "execution": {
     "iopub.execute_input": "2021-04-29T09:17:25.608539Z",
     "iopub.status.busy": "2021-04-29T09:17:25.608035Z",
     "iopub.status.idle": "2021-04-29T09:17:28.441934Z",
     "shell.execute_reply": "2021-04-29T09:17:28.441040Z"
    },
    "lines_to_next_cell": 1,
    "papermill": {
     "duration": 2.845317,
     "end_time": "2021-04-29T09:17:28.442140",
     "exception": false,
     "start_time": "2021-04-29T09:17:25.596823",
     "status": "completed"
    },
    "tags": [],
    "title": "Download de bevolkings cijfers van CBS, uitgesplitst op de leeftijds categorien in de dataset van het RIVM"
   },
   "outputs": [],
   "source": [
    "@run\n",
    "def cell():\n",
    "  global bevolking\n",
    "  bevolking = CBS.bevolking(leeftijdsgroepen=True)"
   ]
  },
  {
   "cell_type": "code",
   "execution_count": 4,
   "id": "d9332682",
   "metadata": {
    "execution": {
     "iopub.execute_input": "2021-04-29T09:17:28.467749Z",
     "iopub.status.busy": "2021-04-29T09:17:28.459670Z",
     "iopub.status.idle": "2021-04-29T09:17:34.012006Z",
     "shell.execute_reply": "2021-04-29T09:17:34.012391Z"
    },
    "lines_to_next_cell": 1,
    "papermill": {
     "duration": 5.565044,
     "end_time": "2021-04-29T09:17:34.012540",
     "exception": false,
     "start_time": "2021-04-29T09:17:28.447496",
     "status": "completed"
    },
    "tags": [],
    "title": "leeftijdsgroepen: prepareer tabel"
   },
   "outputs": [
    {
     "data": {
      "text/html": [
       "<style  type=\"text/css\" >\n",
       "#T_92c45_row0_col7{\n",
       "            background-color:  #1f958b;\n",
       "            color:  #000000;\n",
       "        }#T_92c45_row0_col8{\n",
       "            background-color:  #481668;\n",
       "            color:  #f1f1f1;\n",
       "        }#T_92c45_row0_col9,#T_92c45_row1_col9,#T_92c45_row2_col9,#T_92c45_row3_col9,#T_92c45_row4_col9{\n",
       "            background-color:  #440154;\n",
       "            color:  #f1f1f1;\n",
       "        }#T_92c45_row0_col10{\n",
       "            background-color:  #414487;\n",
       "            color:  #f1f1f1;\n",
       "        }#T_92c45_row0_col11,#T_92c45_row0_col12{\n",
       "            background-color:  #472e7c;\n",
       "            color:  #f1f1f1;\n",
       "        }#T_92c45_row0_col13{\n",
       "            background-color:  #1f9e89;\n",
       "            color:  #000000;\n",
       "        }#T_92c45_row0_col14{\n",
       "            background-color:  #69cd5b;\n",
       "            color:  #000000;\n",
       "        }#T_92c45_row0_col15{\n",
       "            background-color:  #dfe318;\n",
       "            color:  #000000;\n",
       "        }#T_92c45_row0_col16,#T_92c45_row4_col16{\n",
       "            background-color:  #f6e620;\n",
       "            color:  #000000;\n",
       "        }#T_92c45_row0_col17,#T_92c45_row1_col17,#T_92c45_row2_col17,#T_92c45_row3_col17,#T_92c45_row4_col17{\n",
       "            background-color:  #fde725;\n",
       "            color:  #000000;\n",
       "        }#T_92c45_row1_col7,#T_92c45_row3_col7{\n",
       "            background-color:  #21a585;\n",
       "            color:  #000000;\n",
       "        }#T_92c45_row1_col8{\n",
       "            background-color:  #482475;\n",
       "            color:  #f1f1f1;\n",
       "        }#T_92c45_row1_col10{\n",
       "            background-color:  #3f4889;\n",
       "            color:  #f1f1f1;\n",
       "        }#T_92c45_row1_col11{\n",
       "            background-color:  #453581;\n",
       "            color:  #f1f1f1;\n",
       "        }#T_92c45_row1_col12,#T_92c45_row2_col12{\n",
       "            background-color:  #482576;\n",
       "            color:  #f1f1f1;\n",
       "        }#T_92c45_row1_col13{\n",
       "            background-color:  #1f968b;\n",
       "            color:  #000000;\n",
       "        }#T_92c45_row1_col14{\n",
       "            background-color:  #63cb5f;\n",
       "            color:  #000000;\n",
       "        }#T_92c45_row1_col15{\n",
       "            background-color:  #dde318;\n",
       "            color:  #000000;\n",
       "        }#T_92c45_row1_col16,#T_92c45_row2_col16,#T_92c45_row3_col16{\n",
       "            background-color:  #f8e621;\n",
       "            color:  #000000;\n",
       "        }#T_92c45_row2_col7{\n",
       "            background-color:  #27ad81;\n",
       "            color:  #000000;\n",
       "        }#T_92c45_row2_col8,#T_92c45_row4_col10{\n",
       "            background-color:  #46337f;\n",
       "            color:  #f1f1f1;\n",
       "        }#T_92c45_row2_col10{\n",
       "            background-color:  #443b84;\n",
       "            color:  #f1f1f1;\n",
       "        }#T_92c45_row2_col11{\n",
       "            background-color:  #443983;\n",
       "            color:  #f1f1f1;\n",
       "        }#T_92c45_row2_col13{\n",
       "            background-color:  #20928c;\n",
       "            color:  #000000;\n",
       "        }#T_92c45_row2_col14{\n",
       "            background-color:  #48c16e;\n",
       "            color:  #000000;\n",
       "        }#T_92c45_row2_col15{\n",
       "            background-color:  #dae319;\n",
       "            color:  #000000;\n",
       "        }#T_92c45_row3_col8{\n",
       "            background-color:  #482878;\n",
       "            color:  #f1f1f1;\n",
       "        }#T_92c45_row3_col10{\n",
       "            background-color:  #453781;\n",
       "            color:  #f1f1f1;\n",
       "        }#T_92c45_row3_col11{\n",
       "            background-color:  #482677;\n",
       "            color:  #f1f1f1;\n",
       "        }#T_92c45_row3_col12,#T_92c45_row4_col12{\n",
       "            background-color:  #481f70;\n",
       "            color:  #f1f1f1;\n",
       "        }#T_92c45_row3_col13{\n",
       "            background-color:  #218e8d;\n",
       "            color:  #000000;\n",
       "        }#T_92c45_row3_col14{\n",
       "            background-color:  #50c46a;\n",
       "            color:  #000000;\n",
       "        }#T_92c45_row3_col15{\n",
       "            background-color:  #d5e21a;\n",
       "            color:  #000000;\n",
       "        }#T_92c45_row4_col7{\n",
       "            background-color:  #1f9a8a;\n",
       "            color:  #000000;\n",
       "        }#T_92c45_row4_col8,#T_92c45_row4_col11{\n",
       "            background-color:  #472c7a;\n",
       "            color:  #f1f1f1;\n",
       "        }#T_92c45_row4_col13{\n",
       "            background-color:  #238a8d;\n",
       "            color:  #000000;\n",
       "        }#T_92c45_row4_col14{\n",
       "            background-color:  #44bf70;\n",
       "            color:  #000000;\n",
       "        }#T_92c45_row4_col15{\n",
       "            background-color:  #c8e020;\n",
       "            color:  #000000;\n",
       "        }</style><table id=\"T_92c45_\" ><thead>    <tr>        <th class=\"blank level0\" ></th>        <th class=\"col_heading level0 col0\" >Key</th>        <th class=\"col_heading level0 col1\" >Weken terug</th>        <th class=\"col_heading level0 col2\" >Datum</th>        <th class=\"col_heading level0 col3\" >Periode</th>        <th class=\"col_heading level0 col4\" >Gemiddelde leeftijd</th>        <th class=\"col_heading level0 col5\" >Totaal</th>        <th class=\"col_heading level0 col6\" >Type</th>        <th class=\"col_heading level0 col7\" >0-9</th>        <th class=\"col_heading level0 col8\" >10-19</th>        <th class=\"col_heading level0 col9\" >20-29</th>        <th class=\"col_heading level0 col10\" >30-39</th>        <th class=\"col_heading level0 col11\" >40-49</th>        <th class=\"col_heading level0 col12\" >50-59</th>        <th class=\"col_heading level0 col13\" >60-69</th>        <th class=\"col_heading level0 col14\" >70-79</th>        <th class=\"col_heading level0 col15\" >80-89</th>        <th class=\"col_heading level0 col16\" >90+</th>        <th class=\"col_heading level0 col17\" >Onbekend</th>        <th class=\"col_heading level0 col18\" >c0-9</th>        <th class=\"col_heading level0 col19\" >c10-19</th>        <th class=\"col_heading level0 col20\" >c20-29</th>        <th class=\"col_heading level0 col21\" >c30-39</th>        <th class=\"col_heading level0 col22\" >c40-49</th>        <th class=\"col_heading level0 col23\" >c50-59</th>        <th class=\"col_heading level0 col24\" >c60-69</th>        <th class=\"col_heading level0 col25\" >c70-79</th>        <th class=\"col_heading level0 col26\" >c80-89</th>        <th class=\"col_heading level0 col27\" >c90+</th>        <th class=\"col_heading level0 col28\" >cOnbekend</th>    </tr></thead><tbody>\n",
       "                <tr>\n",
       "                        <th id=\"T_92c45_level0_row0\" class=\"row_heading level0 row0\" >0</th>\n",
       "                        <td id=\"T_92c45_row0_col0\" class=\"data row0 col0\" >p000</td>\n",
       "                        <td id=\"T_92c45_row0_col1\" class=\"data row0 col1\" >0</td>\n",
       "                        <td id=\"T_92c45_row0_col2\" class=\"data row0 col2\" >2021-04-28 00:00:00</td>\n",
       "                        <td id=\"T_92c45_row0_col3\" class=\"data row0 col3\" >22/04-28/04</td>\n",
       "                        <td id=\"T_92c45_row0_col4\" class=\"data row0 col4\" >36.500000</td>\n",
       "                        <td id=\"T_92c45_row0_col5\" class=\"data row0 col5\" >29272.000000</td>\n",
       "                        <td id=\"T_92c45_row0_col6\" class=\"data row0 col6\" >Positief getest</td>\n",
       "                        <td id=\"T_92c45_row0_col7\" class=\"data row0 col7\" >2461.000000</td>\n",
       "                        <td id=\"T_92c45_row0_col8\" class=\"data row0 col8\" >4851.000000</td>\n",
       "                        <td id=\"T_92c45_row0_col9\" class=\"data row0 col9\" >5139.000000</td>\n",
       "                        <td id=\"T_92c45_row0_col10\" class=\"data row0 col10\" >4114.000000</td>\n",
       "                        <td id=\"T_92c45_row0_col11\" class=\"data row0 col11\" >4459.000000</td>\n",
       "                        <td id=\"T_92c45_row0_col12\" class=\"data row0 col12\" >4474.000000</td>\n",
       "                        <td id=\"T_92c45_row0_col13\" class=\"data row0 col13\" >2271.000000</td>\n",
       "                        <td id=\"T_92c45_row0_col14\" class=\"data row0 col14\" >1177.000000</td>\n",
       "                        <td id=\"T_92c45_row0_col15\" class=\"data row0 col15\" >260.000000</td>\n",
       "                        <td id=\"T_92c45_row0_col16\" class=\"data row0 col16\" >66.000000</td>\n",
       "                        <td id=\"T_92c45_row0_col17\" class=\"data row0 col17\" >0.000000</td>\n",
       "                        <td id=\"T_92c45_row0_col18\" class=\"data row0 col18\" >478</td>\n",
       "                        <td id=\"T_92c45_row0_col19\" class=\"data row0 col19\" >943</td>\n",
       "                        <td id=\"T_92c45_row0_col20\" class=\"data row0 col20\" >1000</td>\n",
       "                        <td id=\"T_92c45_row0_col21\" class=\"data row0 col21\" >800</td>\n",
       "                        <td id=\"T_92c45_row0_col22\" class=\"data row0 col22\" >867</td>\n",
       "                        <td id=\"T_92c45_row0_col23\" class=\"data row0 col23\" >870</td>\n",
       "                        <td id=\"T_92c45_row0_col24\" class=\"data row0 col24\" >441</td>\n",
       "                        <td id=\"T_92c45_row0_col25\" class=\"data row0 col25\" >229</td>\n",
       "                        <td id=\"T_92c45_row0_col26\" class=\"data row0 col26\" >50</td>\n",
       "                        <td id=\"T_92c45_row0_col27\" class=\"data row0 col27\" >12</td>\n",
       "                        <td id=\"T_92c45_row0_col28\" class=\"data row0 col28\" >0</td>\n",
       "            </tr>\n",
       "            <tr>\n",
       "                        <th id=\"T_92c45_level0_row1\" class=\"row_heading level0 row1\" >1</th>\n",
       "                        <td id=\"T_92c45_row1_col0\" class=\"data row1 col0\" >p001</td>\n",
       "                        <td id=\"T_92c45_row1_col1\" class=\"data row1 col1\" >1</td>\n",
       "                        <td id=\"T_92c45_row1_col2\" class=\"data row1 col2\" >2021-04-28 00:00:00</td>\n",
       "                        <td id=\"T_92c45_row1_col3\" class=\"data row1 col3\" >15/04-21/04</td>\n",
       "                        <td id=\"T_92c45_row1_col4\" class=\"data row1 col4\" >37.300000</td>\n",
       "                        <td id=\"T_92c45_row1_col5\" class=\"data row1 col5\" >55079.000000</td>\n",
       "                        <td id=\"T_92c45_row1_col6\" class=\"data row1 col6\" >Positief getest</td>\n",
       "                        <td id=\"T_92c45_row1_col7\" class=\"data row1 col7\" >4051.000000</td>\n",
       "                        <td id=\"T_92c45_row1_col8\" class=\"data row1 col8\" >8846.000000</td>\n",
       "                        <td id=\"T_92c45_row1_col9\" class=\"data row1 col9\" >9809.000000</td>\n",
       "                        <td id=\"T_92c45_row1_col10\" class=\"data row1 col10\" >7671.000000</td>\n",
       "                        <td id=\"T_92c45_row1_col11\" class=\"data row1 col11\" >8289.000000</td>\n",
       "                        <td id=\"T_92c45_row1_col12\" class=\"data row1 col12\" >8806.000000</td>\n",
       "                        <td id=\"T_92c45_row1_col13\" class=\"data row1 col13\" >4638.000000</td>\n",
       "                        <td id=\"T_92c45_row1_col14\" class=\"data row1 col14\" >2369.000000</td>\n",
       "                        <td id=\"T_92c45_row1_col15\" class=\"data row1 col15\" >502.000000</td>\n",
       "                        <td id=\"T_92c45_row1_col16\" class=\"data row1 col16\" >98.000000</td>\n",
       "                        <td id=\"T_92c45_row1_col17\" class=\"data row1 col17\" >0.000000</td>\n",
       "                        <td id=\"T_92c45_row1_col18\" class=\"data row1 col18\" >412</td>\n",
       "                        <td id=\"T_92c45_row1_col19\" class=\"data row1 col19\" >901</td>\n",
       "                        <td id=\"T_92c45_row1_col20\" class=\"data row1 col20\" >1000</td>\n",
       "                        <td id=\"T_92c45_row1_col21\" class=\"data row1 col21\" >782</td>\n",
       "                        <td id=\"T_92c45_row1_col22\" class=\"data row1 col22\" >845</td>\n",
       "                        <td id=\"T_92c45_row1_col23\" class=\"data row1 col23\" >897</td>\n",
       "                        <td id=\"T_92c45_row1_col24\" class=\"data row1 col24\" >472</td>\n",
       "                        <td id=\"T_92c45_row1_col25\" class=\"data row1 col25\" >241</td>\n",
       "                        <td id=\"T_92c45_row1_col26\" class=\"data row1 col26\" >51</td>\n",
       "                        <td id=\"T_92c45_row1_col27\" class=\"data row1 col27\" >9</td>\n",
       "                        <td id=\"T_92c45_row1_col28\" class=\"data row1 col28\" >0</td>\n",
       "            </tr>\n",
       "            <tr>\n",
       "                        <th id=\"T_92c45_level0_row2\" class=\"row_heading level0 row2\" >2</th>\n",
       "                        <td id=\"T_92c45_row2_col0\" class=\"data row2 col0\" >p002</td>\n",
       "                        <td id=\"T_92c45_row2_col1\" class=\"data row2 col1\" >2</td>\n",
       "                        <td id=\"T_92c45_row2_col2\" class=\"data row2 col2\" >2021-04-28 00:00:00</td>\n",
       "                        <td id=\"T_92c45_row2_col3\" class=\"data row2 col3\" >08/04-14/04</td>\n",
       "                        <td id=\"T_92c45_row2_col4\" class=\"data row2 col4\" >38.200000</td>\n",
       "                        <td id=\"T_92c45_row2_col5\" class=\"data row2 col5\" >52258.000000</td>\n",
       "                        <td id=\"T_92c45_row2_col6\" class=\"data row2 col6\" >Positief getest</td>\n",
       "                        <td id=\"T_92c45_row2_col7\" class=\"data row2 col7\" >3491.000000</td>\n",
       "                        <td id=\"T_92c45_row2_col8\" class=\"data row2 col8\" >7899.000000</td>\n",
       "                        <td id=\"T_92c45_row2_col9\" class=\"data row2 col9\" >9275.000000</td>\n",
       "                        <td id=\"T_92c45_row2_col10\" class=\"data row2 col10\" >7656.000000</td>\n",
       "                        <td id=\"T_92c45_row2_col11\" class=\"data row2 col11\" >7746.000000</td>\n",
       "                        <td id=\"T_92c45_row2_col12\" class=\"data row2 col12\" >8328.000000</td>\n",
       "                        <td id=\"T_92c45_row2_col13\" class=\"data row2 col13\" >4538.000000</td>\n",
       "                        <td id=\"T_92c45_row2_col14\" class=\"data row2 col14\" >2682.000000</td>\n",
       "                        <td id=\"T_92c45_row2_col15\" class=\"data row2 col15\" >537.000000</td>\n",
       "                        <td id=\"T_92c45_row2_col16\" class=\"data row2 col16\" >105.000000</td>\n",
       "                        <td id=\"T_92c45_row2_col17\" class=\"data row2 col17\" >1.000000</td>\n",
       "                        <td id=\"T_92c45_row2_col18\" class=\"data row2 col18\" >376</td>\n",
       "                        <td id=\"T_92c45_row2_col19\" class=\"data row2 col19\" >851</td>\n",
       "                        <td id=\"T_92c45_row2_col20\" class=\"data row2 col20\" >1000</td>\n",
       "                        <td id=\"T_92c45_row2_col21\" class=\"data row2 col21\" >825</td>\n",
       "                        <td id=\"T_92c45_row2_col22\" class=\"data row2 col22\" >835</td>\n",
       "                        <td id=\"T_92c45_row2_col23\" class=\"data row2 col23\" >897</td>\n",
       "                        <td id=\"T_92c45_row2_col24\" class=\"data row2 col24\" >489</td>\n",
       "                        <td id=\"T_92c45_row2_col25\" class=\"data row2 col25\" >289</td>\n",
       "                        <td id=\"T_92c45_row2_col26\" class=\"data row2 col26\" >57</td>\n",
       "                        <td id=\"T_92c45_row2_col27\" class=\"data row2 col27\" >11</td>\n",
       "                        <td id=\"T_92c45_row2_col28\" class=\"data row2 col28\" >0</td>\n",
       "            </tr>\n",
       "            <tr>\n",
       "                        <th id=\"T_92c45_level0_row3\" class=\"row_heading level0 row3\" >3</th>\n",
       "                        <td id=\"T_92c45_row3_col0\" class=\"data row3 col0\" >p003</td>\n",
       "                        <td id=\"T_92c45_row3_col1\" class=\"data row3 col1\" >3</td>\n",
       "                        <td id=\"T_92c45_row3_col2\" class=\"data row3 col2\" >2021-04-28 00:00:00</td>\n",
       "                        <td id=\"T_92c45_row3_col3\" class=\"data row3 col3\" >01/04-07/04</td>\n",
       "                        <td id=\"T_92c45_row3_col4\" class=\"data row3 col4\" >38.000000</td>\n",
       "                        <td id=\"T_92c45_row3_col5\" class=\"data row3 col5\" >48113.000000</td>\n",
       "                        <td id=\"T_92c45_row3_col6\" class=\"data row3 col6\" >Positief getest</td>\n",
       "                        <td id=\"T_92c45_row3_col7\" class=\"data row3 col7\" >3404.000000</td>\n",
       "                        <td id=\"T_92c45_row3_col8\" class=\"data row3 col8\" >7352.000000</td>\n",
       "                        <td id=\"T_92c45_row3_col9\" class=\"data row3 col9\" >8265.000000</td>\n",
       "                        <td id=\"T_92c45_row3_col10\" class=\"data row3 col10\" >6963.000000</td>\n",
       "                        <td id=\"T_92c45_row3_col11\" class=\"data row3 col11\" >7390.000000</td>\n",
       "                        <td id=\"T_92c45_row3_col12\" class=\"data row3 col12\" >7581.000000</td>\n",
       "                        <td id=\"T_92c45_row3_col13\" class=\"data row3 col13\" >4222.000000</td>\n",
       "                        <td id=\"T_92c45_row3_col14\" class=\"data row3 col14\" >2289.000000</td>\n",
       "                        <td id=\"T_92c45_row3_col15\" class=\"data row3 col15\" >550.000000</td>\n",
       "                        <td id=\"T_92c45_row3_col16\" class=\"data row3 col16\" >95.000000</td>\n",
       "                        <td id=\"T_92c45_row3_col17\" class=\"data row3 col17\" >2.000000</td>\n",
       "                        <td id=\"T_92c45_row3_col18\" class=\"data row3 col18\" >411</td>\n",
       "                        <td id=\"T_92c45_row3_col19\" class=\"data row3 col19\" >889</td>\n",
       "                        <td id=\"T_92c45_row3_col20\" class=\"data row3 col20\" >1000</td>\n",
       "                        <td id=\"T_92c45_row3_col21\" class=\"data row3 col21\" >842</td>\n",
       "                        <td id=\"T_92c45_row3_col22\" class=\"data row3 col22\" >894</td>\n",
       "                        <td id=\"T_92c45_row3_col23\" class=\"data row3 col23\" >917</td>\n",
       "                        <td id=\"T_92c45_row3_col24\" class=\"data row3 col24\" >510</td>\n",
       "                        <td id=\"T_92c45_row3_col25\" class=\"data row3 col25\" >276</td>\n",
       "                        <td id=\"T_92c45_row3_col26\" class=\"data row3 col26\" >66</td>\n",
       "                        <td id=\"T_92c45_row3_col27\" class=\"data row3 col27\" >11</td>\n",
       "                        <td id=\"T_92c45_row3_col28\" class=\"data row3 col28\" >0</td>\n",
       "            </tr>\n",
       "            <tr>\n",
       "                        <th id=\"T_92c45_level0_row4\" class=\"row_heading level0 row4\" >4</th>\n",
       "                        <td id=\"T_92c45_row4_col0\" class=\"data row4 col0\" >p004</td>\n",
       "                        <td id=\"T_92c45_row4_col1\" class=\"data row4 col1\" >4</td>\n",
       "                        <td id=\"T_92c45_row4_col2\" class=\"data row4 col2\" >2021-04-28 00:00:00</td>\n",
       "                        <td id=\"T_92c45_row4_col3\" class=\"data row4 col3\" >25/03-31/03</td>\n",
       "                        <td id=\"T_92c45_row4_col4\" class=\"data row4 col4\" >38.100000</td>\n",
       "                        <td id=\"T_92c45_row4_col5\" class=\"data row4 col5\" >49680.000000</td>\n",
       "                        <td id=\"T_92c45_row4_col6\" class=\"data row4 col6\" >Positief getest</td>\n",
       "                        <td id=\"T_92c45_row4_col7\" class=\"data row4 col7\" >3864.000000</td>\n",
       "                        <td id=\"T_92c45_row4_col8\" class=\"data row4 col8\" >7374.000000</td>\n",
       "                        <td id=\"T_92c45_row4_col9\" class=\"data row4 col9\" >8410.000000</td>\n",
       "                        <td id=\"T_92c45_row4_col10\" class=\"data row4 col10\" >7181.000000</td>\n",
       "                        <td id=\"T_92c45_row4_col11\" class=\"data row4 col11\" >7390.000000</td>\n",
       "                        <td id=\"T_92c45_row4_col12\" class=\"data row4 col12\" >7715.000000</td>\n",
       "                        <td id=\"T_92c45_row4_col13\" class=\"data row4 col13\" >4407.000000</td>\n",
       "                        <td id=\"T_92c45_row4_col14\" class=\"data row4 col14\" >2516.000000</td>\n",
       "                        <td id=\"T_92c45_row4_col15\" class=\"data row4 col15\" >696.000000</td>\n",
       "                        <td id=\"T_92c45_row4_col16\" class=\"data row4 col16\" >124.000000</td>\n",
       "                        <td id=\"T_92c45_row4_col17\" class=\"data row4 col17\" >3.000000</td>\n",
       "                        <td id=\"T_92c45_row4_col18\" class=\"data row4 col18\" >459</td>\n",
       "                        <td id=\"T_92c45_row4_col19\" class=\"data row4 col19\" >876</td>\n",
       "                        <td id=\"T_92c45_row4_col20\" class=\"data row4 col20\" >1000</td>\n",
       "                        <td id=\"T_92c45_row4_col21\" class=\"data row4 col21\" >853</td>\n",
       "                        <td id=\"T_92c45_row4_col22\" class=\"data row4 col22\" >878</td>\n",
       "                        <td id=\"T_92c45_row4_col23\" class=\"data row4 col23\" >917</td>\n",
       "                        <td id=\"T_92c45_row4_col24\" class=\"data row4 col24\" >524</td>\n",
       "                        <td id=\"T_92c45_row4_col25\" class=\"data row4 col25\" >299</td>\n",
       "                        <td id=\"T_92c45_row4_col26\" class=\"data row4 col26\" >82</td>\n",
       "                        <td id=\"T_92c45_row4_col27\" class=\"data row4 col27\" >14</td>\n",
       "                        <td id=\"T_92c45_row4_col28\" class=\"data row4 col28\" >0</td>\n",
       "            </tr>\n",
       "    </tbody></table>"
      ],
      "text/plain": [
       "<pandas.io.formats.style.Styler at 0x7fed2199d880>"
      ]
     },
     "metadata": {},
     "output_type": "display_data"
    }
   ],
   "source": [
    "# Bereken de stand van zaken van besmettingen / hospitalisaties / overlijden, per cohort in absolute aantallen en aantallen per 100k, met een kleur indicator voor de aantallen.\n",
    "# vervang <50 en Unknown door Onbekend\n",
    "@run\n",
    "def cell():\n",
    "  rivm['Cohort'] = rivm['Agegroup'].replace({'<50': 'Onbekend', 'Unknown': 'Onbekend'})\n",
    "  # aangenomen 'gemiddelde' leeftijd van een cohort: minimum waarde + 5\n",
    "  assumed_cohort_age = [(cohort, [int(n) for n in cohort.replace('+', '').split('-')]) for cohort in rivm['Cohort'].unique() if cohort[0].isdigit()]\n",
    "  assumed_cohort_age = { cohort: min(rng) + 5 for cohort, rng in assumed_cohort_age }\n",
    "  rivm['Gemiddelde leeftijd'] = rivm['Cohort'].apply(lambda x: assumed_cohort_age.get(x, np.nan))\n",
    "\n",
    "  # verwijder tijd\n",
    "  rivm['Date_file_date'] = pd.to_datetime(rivm['Date_file'].replace(r' .*', '', regex=True))\n",
    "\n",
    "  rivm['Date_statistics_date'] = pd.to_datetime(rivm['Date_statistics'])\n",
    "\n",
    "  # weken terug = verschil tussen Date_file en Date_statistcs, gedeeld door 7 dagen\n",
    "  rivm['Weken terug'] = np.floor((rivm['Date_file_date'] - rivm['Date_statistics_date'])/np.timedelta64(7, 'D')).astype(int)\n",
    "\n",
    "  # voeg key, gem leeftijd, kleurnummer en totaal toe\n",
    "  Date_file = rivm['Date_file_date'].unique()[0].astype('M8[D]').astype('O')\n",
    "  cohorten = list(bevolking.index) + ['Onbekend']\n",
    "  def summarize(df, category, prefix):\n",
    "    # aangezien we hier de dataframe in-place wijzigen (bijv door toevoegen kolommen)\n",
    "    # en we het 'rivm' frame later nog clean nodig hebben\n",
    "    df = df.copy(deep=True)\n",
    "\n",
    "    df = (df\n",
    "          .groupby(['Weken terug', 'Cohort'])['count']\n",
    "          .sum()\n",
    "          .unstack(fill_value=np.nan)\n",
    "          .reset_index()\n",
    "          .rename_axis(None, axis=1)\n",
    "        ).merge(df\n",
    "          # we voegen hier gemiddelde leeftijd toe, want die willen we op een ander\n",
    "          # niveau aggregeren voor 'df' overschreven word\n",
    "          .groupby(['Weken terug'])['Gemiddelde leeftijd']\n",
    "          .mean()\n",
    "          .to_frame(), on='Weken terug'\n",
    "        )\n",
    "\n",
    "    # altijd 52 rijen\n",
    "    df = pd.Series(np.arange(52), name='Weken terug').to_frame().merge(df, how='left', on='Weken terug')\n",
    "\n",
    "    # toevoegen missende cohorten\n",
    "    for col in cohorten:\n",
    "      if not col in df:\n",
    "        df[col] = np.nan\n",
    "\n",
    "    # sommeer per rij (axis=1) over de cohorten om een totaal te krijgen\n",
    "    df['Totaal'] = df[cohorten].sum(axis=1)\n",
    "\n",
    "    # voeg periode en datum toe\n",
    "    # periode afgeleid van weken-terug (= de index voor deze dataframe)\n",
    "    df['Datum'] = pd.to_datetime(Date_file)\n",
    "    df['Periode'] = (df\n",
    "      .index.to_series()\n",
    "      .apply(\n",
    "        lambda x: (\n",
    "          (Date_file + datetime.timedelta(weeks=-(x+1), days=1)).strftime('%d/%m')\n",
    "          + '-'\n",
    "          + (Date_file + datetime.timedelta(weeks=-x)).strftime('%d/%m')\n",
    "        )\n",
    "      )\n",
    "    )\n",
    "\n",
    "    # voeg 'Key' en 'Type' kolom toe. Variabele 'type' kan niet, is een language primitive.\n",
    "    df['Key'] = prefix + df.index.astype(str).str.rjust(3, fillchar='0')\n",
    "    df['Type'] = category\n",
    "\n",
    "    # voeg de kleur kolommen toe\n",
    "    for col in cohorten:\n",
    "      df['c' + col] = ((df[col] / df[[col for col in cohorten]].max(axis=1)) * 1000).fillna(0).astype(int)\n",
    "\n",
    "    # herschikken van de kolommen\n",
    "    colorder = ['Key', 'Weken terug', 'Datum', 'Periode', 'Gemiddelde leeftijd', 'Totaal', 'Type']\n",
    "    return df[colorder + [col for col in df if col not in colorder]]\n",
    "\n",
    "  factor = bevolking.to_dict()['per 100k']\n",
    "  global tabel\n",
    "  tabel = pd.concat(\n",
    "    # flatten the result list zodat pd.concat ze onder elkaar kan plakken\n",
    "    functools.reduce(lambda a, b: a + b, [\n",
    "      [summarize(df.assign(count=1), label, prefix), summarize(df.assign(count=df['Cohort'].apply(lambda x: factor.get(x, np.nan))), label + ' per 100.000', prefix + '100k')]\n",
    "      for df, label, prefix in [\n",
    "        (rivm, 'Positief getest', 'p'), # volledige count per cohort\n",
    "        (rivm[rivm.Hospital_admission == 'Yes'], 'Ziekenhuisopname', 'h'), # count van cohort voor Hospital_admission == 'Yes'\n",
    "        (rivm[rivm.Deceased == 'Yes'], 'Overleden', 'd'), # count van cohort voor Deceased == 'Yes'\n",
    "      ]\n",
    "    ])\n",
    "  )\n",
    "\n",
    "  # rood -> groen\n",
    "  cdict = {\n",
    "    'red':   ((0.0, 0.0, 0.0),   # no red at 0\n",
    "              (0.5, 1.0, 1.0),   # all channels set to 1.0 at 0.5 to create white\n",
    "              (1.0, 0.8, 0.8)),  # set to 0.8 so its not too bright at 1\n",
    "    'green': ((0.0, 0.8, 0.8),   # set to 0.8 so its not too bright at 0\n",
    "              (0.5, 1.0, 1.0),   # all channels set to 1.0 at 0.5 to create white\n",
    "              (1.0, 0.0, 0.0)),  # no green at 1\n",
    "    'blue':  ((0.0, 0.0, 0.0),   # no blue at 0\n",
    "              (0.5, 1.0, 1.0),   # all channels set to 1.0 at 0.5 to create white\n",
    "              (1.0, 0.0, 0.0))   # no blue at 1\n",
    "  }\n",
    "  cm = colors.LinearSegmentedColormap('GnRd', cdict)\n",
    "  # geel -> paars\n",
    "  cm = sns.color_palette('viridis_r', as_cmap=True)\n",
    "  display(tabel\n",
    "    .fillna(0)\n",
    "    .head()\n",
    "    .round(1)\n",
    "    .reset_index(drop=True)\n",
    "    .style.background_gradient(cmap=cm, axis=1, subset=cohorten)\n",
    "  )"
   ]
  },
  {
   "cell_type": "code",
   "execution_count": 5,
   "id": "def7cb93",
   "metadata": {
    "execution": {
     "iopub.execute_input": "2021-04-29T09:17:34.030892Z",
     "iopub.status.busy": "2021-04-29T09:17:34.029208Z",
     "iopub.status.idle": "2021-04-29T09:18:08.371681Z",
     "shell.execute_reply": "2021-04-29T09:18:08.370247Z"
    },
    "papermill": {
     "duration": 34.352706,
     "end_time": "2021-04-29T09:18:08.371811",
     "exception": false,
     "start_time": "2021-04-29T09:17:34.019105",
     "status": "completed"
    },
    "tags": [],
    "title": "publish"
   },
   "outputs": [
    {
     "name": "stdout",
     "output_type": "stream",
     "text": [
      "infinities:\n"
     ]
    },
    {
     "name": "stdout",
     "output_type": "stream",
     "text": [
      "Empty DataFrame\n",
      "Columns: []\n",
      "Index: []\n"
     ]
    },
    {
     "name": "stdout",
     "output_type": "stream",
     "text": [
      "nan:\n"
     ]
    },
    {
     "name": "stdout",
     "output_type": "stream",
     "text": [
      "Empty DataFrame\n",
      "Columns: []\n",
      "Index: []\n"
     ]
    },
    {
     "name": "stdout",
     "output_type": "stream",
     "text": [
      "Key                     object\n",
      "Weken terug              int64\n",
      "Datum                   object\n",
      "Periode                 object\n",
      "Gemiddelde leeftijd    float64\n",
      "Totaal                 float64\n",
      "Type                    object\n",
      "0-9                    float64\n",
      "10-19                  float64\n",
      "20-29                  float64\n",
      "30-39                  float64\n",
      "40-49                  float64\n",
      "50-59                  float64\n",
      "60-69                  float64\n",
      "70-79                  float64\n",
      "80-89                  float64\n",
      "90+                    float64\n",
      "Onbekend               float64\n",
      "c0-9                     int64\n",
      "c10-19                   int64\n",
      "c20-29                   int64\n",
      "c30-39                   int64\n",
      "c40-49                   int64\n",
      "c50-59                   int64\n",
      "c60-69                   int64\n",
      "c70-79                   int64\n",
      "c80-89                   int64\n",
      "c90+                     int64\n",
      "cOnbekend                int64\n",
      "dtype: object\n",
      "updating knack\n"
     ]
    },
    {
     "name": "stdout",
     "output_type": "stream",
     "text": [
      "updating: [{'Key': 1, 'Updating Leeftijdsgroep': 'true'}]\n"
     ]
    },
    {
     "name": "stdout",
     "output_type": "stream",
     "text": [
      "restored LaatsteUpdate from hash\n"
     ]
    },
    {
     "name": "stdout",
     "output_type": "stream",
     "text": [
      "Key                         int64\n",
      "Updating Leeftijdsgroep    object\n",
      "dtype: object\n"
     ]
    },
    {
     "name": "stderr",
     "output_type": "stream",
     "text": [
      "\r",
      "  0%|          | 0/1 [00:00<?, ?it/s]"
     ]
    },
    {
     "name": "stderr",
     "output_type": "stream",
     "text": [
      "\r",
      "100%|██████████| 1/1 [00:00<00:00,  1.17it/s]"
     ]
    },
    {
     "name": "stderr",
     "output_type": "stream",
     "text": [
      "\r",
      "100%|██████████| 1/1 [00:00<00:00,  1.16it/s]"
     ]
    },
    {
     "name": "stdout",
     "output_type": "stream",
     "text": [
      "\n",
      "rate limit: 7 \n",
      "LaatsteUpdate API calls: create: 0, read: 1, update: 1, delete: 0, backoff: 0\n"
     ]
    },
    {
     "name": "stderr",
     "output_type": "stream",
     "text": [
      "\n"
     ]
    },
    {
     "name": "stdout",
     "output_type": "stream",
     "text": [
      "restored Leeftijdsgroep from hash\n"
     ]
    },
    {
     "name": "stderr",
     "output_type": "stream",
     "text": [
      "\r",
      "  0%|          | 0/156 [00:00<?, ?it/s]"
     ]
    },
    {
     "name": "stdout",
     "output_type": "stream",
     "text": [
      "0-9                    float64\n",
      "10-19                  float64\n",
      "20-29                  float64\n",
      "30-39                  float64\n",
      "40-49                  float64\n",
      "50-59                  float64\n",
      "60-69                  float64\n",
      "70-79                  float64\n",
      "80-89                  float64\n",
      "90+                    float64\n",
      "Datum                   object\n",
      "Gemiddelde leeftijd    float64\n",
      "Key                     object\n",
      "Onbekend               float64\n",
      "Periode                 object\n",
      "Totaal                 float64\n",
      "Type                    object\n",
      "Weken terug              int64\n",
      "c0-9                     int64\n",
      "c10-19                   int64\n",
      "c20-29                   int64\n",
      "c30-39                   int64\n",
      "c40-49                   int64\n",
      "c50-59                   int64\n",
      "c60-69                   int64\n",
      "c70-79                   int64\n",
      "c80-89                   int64\n",
      "c90+                     int64\n",
      "cOnbekend                int64\n",
      "dtype: object\n"
     ]
    },
    {
     "name": "stderr",
     "output_type": "stream",
     "text": [
      "\r",
      "  1%|          | 1/156 [00:00<02:08,  1.21it/s]"
     ]
    },
    {
     "name": "stderr",
     "output_type": "stream",
     "text": [
      "\r",
      "  4%|▍         | 6/156 [00:00<00:19,  7.80it/s]"
     ]
    },
    {
     "name": "stderr",
     "output_type": "stream",
     "text": [
      "\r",
      "  5%|▌         | 8/156 [00:01<00:23,  6.41it/s]"
     ]
    },
    {
     "name": "stderr",
     "output_type": "stream",
     "text": [
      "\r",
      "  7%|▋         | 11/156 [00:01<00:22,  6.38it/s]"
     ]
    },
    {
     "name": "stderr",
     "output_type": "stream",
     "text": [
      "\r",
      "  8%|▊         | 13/156 [00:02<00:21,  6.78it/s]"
     ]
    },
    {
     "name": "stderr",
     "output_type": "stream",
     "text": [
      "\r",
      " 10%|▉         | 15/156 [00:02<00:20,  6.96it/s]"
     ]
    },
    {
     "name": "stderr",
     "output_type": "stream",
     "text": [
      "\r",
      " 10%|█         | 16/156 [00:02<00:19,  7.26it/s]"
     ]
    },
    {
     "name": "stderr",
     "output_type": "stream",
     "text": [
      "\r",
      " 12%|█▏        | 18/156 [00:02<00:15,  9.11it/s]"
     ]
    },
    {
     "name": "stderr",
     "output_type": "stream",
     "text": [
      "\r",
      " 13%|█▎        | 20/156 [00:02<00:13, 10.37it/s]"
     ]
    },
    {
     "name": "stderr",
     "output_type": "stream",
     "text": [
      "\r",
      " 14%|█▍        | 22/156 [00:03<00:19,  6.73it/s]"
     ]
    },
    {
     "name": "stderr",
     "output_type": "stream",
     "text": [
      "\r",
      " 15%|█▌        | 24/156 [00:03<00:17,  7.57it/s]"
     ]
    },
    {
     "name": "stderr",
     "output_type": "stream",
     "text": [
      "\r",
      " 17%|█▋        | 26/156 [00:04<00:24,  5.34it/s]"
     ]
    },
    {
     "name": "stderr",
     "output_type": "stream",
     "text": [
      "\r",
      " 17%|█▋        | 27/156 [00:04<00:22,  5.71it/s]"
     ]
    },
    {
     "name": "stderr",
     "output_type": "stream",
     "text": [
      "\r",
      " 18%|█▊        | 28/156 [00:04<00:23,  5.41it/s]"
     ]
    },
    {
     "name": "stderr",
     "output_type": "stream",
     "text": [
      "\r",
      " 19%|█▉        | 30/156 [00:04<00:17,  7.13it/s]"
     ]
    },
    {
     "name": "stderr",
     "output_type": "stream",
     "text": [
      "\r",
      " 21%|██        | 32/156 [00:04<00:17,  7.26it/s]"
     ]
    },
    {
     "name": "stderr",
     "output_type": "stream",
     "text": [
      "\r",
      " 21%|██        | 33/156 [00:05<00:19,  6.17it/s]"
     ]
    },
    {
     "name": "stderr",
     "output_type": "stream",
     "text": [
      "\r",
      " 22%|██▏       | 34/156 [00:05<00:20,  5.97it/s]"
     ]
    },
    {
     "name": "stderr",
     "output_type": "stream",
     "text": [
      "\r",
      " 24%|██▎       | 37/156 [00:05<00:13,  8.57it/s]"
     ]
    },
    {
     "name": "stderr",
     "output_type": "stream",
     "text": [
      "\r",
      " 24%|██▍       | 38/156 [00:05<00:17,  6.92it/s]"
     ]
    },
    {
     "name": "stderr",
     "output_type": "stream",
     "text": [
      "\r",
      " 25%|██▌       | 39/156 [00:05<00:19,  5.95it/s]"
     ]
    },
    {
     "name": "stderr",
     "output_type": "stream",
     "text": [
      "\r",
      " 26%|██▌       | 40/156 [00:06<00:18,  6.23it/s]"
     ]
    },
    {
     "name": "stderr",
     "output_type": "stream",
     "text": [
      "\r",
      " 27%|██▋       | 42/156 [00:06<00:18,  6.27it/s]"
     ]
    },
    {
     "name": "stderr",
     "output_type": "stream",
     "text": [
      "\r",
      " 28%|██▊       | 44/156 [00:06<00:15,  7.22it/s]"
     ]
    },
    {
     "name": "stderr",
     "output_type": "stream",
     "text": [
      "\r",
      " 29%|██▉       | 46/156 [00:06<00:15,  6.96it/s]"
     ]
    },
    {
     "name": "stderr",
     "output_type": "stream",
     "text": [
      "\r",
      " 30%|███       | 47/156 [00:07<00:21,  5.04it/s]"
     ]
    },
    {
     "name": "stderr",
     "output_type": "stream",
     "text": [
      "\r",
      " 31%|███       | 48/156 [00:07<00:20,  5.23it/s]"
     ]
    },
    {
     "name": "stderr",
     "output_type": "stream",
     "text": [
      "\r",
      " 31%|███▏      | 49/156 [00:07<00:23,  4.55it/s]"
     ]
    },
    {
     "name": "stderr",
     "output_type": "stream",
     "text": [
      "\r",
      " 32%|███▏      | 50/156 [00:07<00:21,  5.03it/s]"
     ]
    },
    {
     "name": "stderr",
     "output_type": "stream",
     "text": [
      "\r",
      " 33%|███▎      | 52/156 [00:08<00:16,  6.42it/s]"
     ]
    },
    {
     "name": "stderr",
     "output_type": "stream",
     "text": [
      "\r",
      " 35%|███▍      | 54/156 [00:08<00:12,  8.42it/s]"
     ]
    },
    {
     "name": "stderr",
     "output_type": "stream",
     "text": [
      "\r",
      " 36%|███▌      | 56/156 [00:08<00:12,  7.79it/s]"
     ]
    },
    {
     "name": "stderr",
     "output_type": "stream",
     "text": [
      "\r",
      " 37%|███▋      | 57/156 [00:08<00:13,  7.43it/s]"
     ]
    },
    {
     "name": "stderr",
     "output_type": "stream",
     "text": [
      "\r",
      " 38%|███▊      | 60/156 [00:09<00:14,  6.41it/s]"
     ]
    },
    {
     "name": "stderr",
     "output_type": "stream",
     "text": [
      "\r",
      " 39%|███▉      | 61/156 [00:09<00:18,  5.18it/s]"
     ]
    },
    {
     "name": "stderr",
     "output_type": "stream",
     "text": [
      "\r",
      " 40%|███▉      | 62/156 [00:09<00:17,  5.38it/s]"
     ]
    },
    {
     "name": "stderr",
     "output_type": "stream",
     "text": [
      "\r",
      " 41%|████      | 64/156 [00:10<00:14,  6.43it/s]"
     ]
    },
    {
     "name": "stderr",
     "output_type": "stream",
     "text": [
      "\r",
      " 42%|████▏     | 65/156 [00:10<00:18,  4.83it/s]"
     ]
    },
    {
     "name": "stderr",
     "output_type": "stream",
     "text": [
      "\r",
      " 43%|████▎     | 67/156 [00:10<00:18,  4.92it/s]"
     ]
    },
    {
     "name": "stderr",
     "output_type": "stream",
     "text": [
      "\r",
      " 44%|████▎     | 68/156 [00:11<00:18,  4.88it/s]"
     ]
    },
    {
     "name": "stderr",
     "output_type": "stream",
     "text": [
      "\r",
      " 45%|████▍     | 70/156 [00:11<00:13,  6.35it/s]"
     ]
    },
    {
     "name": "stderr",
     "output_type": "stream",
     "text": [
      "\r",
      " 46%|████▌     | 71/156 [00:11<00:14,  5.70it/s]"
     ]
    },
    {
     "name": "stderr",
     "output_type": "stream",
     "text": [
      "\r",
      " 47%|████▋     | 73/156 [00:11<00:10,  7.75it/s]"
     ]
    },
    {
     "name": "stderr",
     "output_type": "stream",
     "text": [
      "\r",
      " 49%|████▊     | 76/156 [00:11<00:10,  7.45it/s]"
     ]
    },
    {
     "name": "stderr",
     "output_type": "stream",
     "text": [
      "\r",
      " 49%|████▉     | 77/156 [00:12<00:17,  4.63it/s]"
     ]
    },
    {
     "name": "stderr",
     "output_type": "stream",
     "text": [
      "\r",
      " 51%|█████     | 79/156 [00:12<00:13,  5.83it/s]"
     ]
    },
    {
     "name": "stderr",
     "output_type": "stream",
     "text": [
      "\r",
      " 51%|█████▏    | 80/156 [00:12<00:13,  5.71it/s]"
     ]
    },
    {
     "name": "stderr",
     "output_type": "stream",
     "text": [
      "\r",
      " 53%|█████▎    | 83/156 [00:13<00:11,  6.59it/s]"
     ]
    },
    {
     "name": "stderr",
     "output_type": "stream",
     "text": [
      "\r",
      " 54%|█████▍    | 84/156 [00:13<00:10,  6.99it/s]"
     ]
    },
    {
     "name": "stderr",
     "output_type": "stream",
     "text": [
      "\r",
      " 56%|█████▌    | 87/156 [00:13<00:06,  9.97it/s]"
     ]
    },
    {
     "name": "stderr",
     "output_type": "stream",
     "text": [
      "\r",
      " 57%|█████▋    | 89/156 [00:13<00:09,  7.21it/s]"
     ]
    },
    {
     "name": "stderr",
     "output_type": "stream",
     "text": [
      "\r",
      " 58%|█████▊    | 91/156 [00:14<00:07,  8.70it/s]"
     ]
    },
    {
     "name": "stderr",
     "output_type": "stream",
     "text": [
      "\r",
      " 60%|█████▉    | 93/156 [00:14<00:07,  8.43it/s]"
     ]
    },
    {
     "name": "stderr",
     "output_type": "stream",
     "text": [
      "\r",
      " 61%|██████    | 95/156 [00:14<00:07,  8.27it/s]"
     ]
    },
    {
     "name": "stderr",
     "output_type": "stream",
     "text": [
      "\r",
      " 62%|██████▏   | 97/156 [00:14<00:07,  8.11it/s]"
     ]
    },
    {
     "name": "stderr",
     "output_type": "stream",
     "text": [
      "\r",
      " 63%|██████▎   | 98/156 [00:15<00:15,  3.81it/s]"
     ]
    },
    {
     "name": "stderr",
     "output_type": "stream",
     "text": [
      "\r",
      " 65%|██████▍   | 101/156 [00:15<00:09,  5.85it/s]"
     ]
    },
    {
     "name": "stderr",
     "output_type": "stream",
     "text": [
      "\r",
      " 66%|██████▌   | 103/156 [00:16<00:07,  7.26it/s]"
     ]
    },
    {
     "name": "stderr",
     "output_type": "stream",
     "text": [
      "\r",
      " 67%|██████▋   | 105/156 [00:16<00:07,  6.48it/s]"
     ]
    },
    {
     "name": "stderr",
     "output_type": "stream",
     "text": [
      "\r",
      " 69%|██████▊   | 107/156 [00:16<00:06,  7.80it/s]"
     ]
    },
    {
     "name": "stderr",
     "output_type": "stream",
     "text": [
      "\r",
      " 70%|██████▉   | 109/156 [00:16<00:05,  8.55it/s]"
     ]
    },
    {
     "name": "stderr",
     "output_type": "stream",
     "text": [
      "\r",
      " 71%|███████   | 111/156 [00:17<00:05,  7.71it/s]"
     ]
    },
    {
     "name": "stderr",
     "output_type": "stream",
     "text": [
      "\r",
      " 73%|███████▎  | 114/156 [00:17<00:03, 10.63it/s]"
     ]
    },
    {
     "name": "stderr",
     "output_type": "stream",
     "text": [
      "\r",
      " 74%|███████▍  | 116/156 [00:17<00:04,  9.35it/s]"
     ]
    },
    {
     "name": "stderr",
     "output_type": "stream",
     "text": [
      "\r",
      " 76%|███████▌  | 118/156 [00:17<00:05,  6.59it/s]"
     ]
    },
    {
     "name": "stderr",
     "output_type": "stream",
     "text": [
      "\r",
      " 76%|███████▋  | 119/156 [00:18<00:05,  6.66it/s]"
     ]
    },
    {
     "name": "stderr",
     "output_type": "stream",
     "text": [
      "\r",
      " 78%|███████▊  | 122/156 [00:18<00:03,  8.90it/s]"
     ]
    },
    {
     "name": "stderr",
     "output_type": "stream",
     "text": [
      "\r",
      " 79%|███████▉  | 124/156 [00:18<00:04,  7.51it/s]"
     ]
    },
    {
     "name": "stderr",
     "output_type": "stream",
     "text": [
      "\r",
      " 80%|████████  | 125/156 [00:19<00:05,  5.80it/s]"
     ]
    },
    {
     "name": "stderr",
     "output_type": "stream",
     "text": [
      "\r",
      " 81%|████████  | 126/156 [00:19<00:05,  5.17it/s]"
     ]
    },
    {
     "name": "stderr",
     "output_type": "stream",
     "text": [
      "\r",
      " 82%|████████▏ | 128/156 [00:19<00:04,  5.92it/s]"
     ]
    },
    {
     "name": "stderr",
     "output_type": "stream",
     "text": [
      "\r",
      " 83%|████████▎ | 130/156 [00:19<00:04,  6.42it/s]"
     ]
    },
    {
     "name": "stderr",
     "output_type": "stream",
     "text": [
      "\r",
      " 85%|████████▍ | 132/156 [00:20<00:03,  7.38it/s]"
     ]
    },
    {
     "name": "stderr",
     "output_type": "stream",
     "text": [
      "\r",
      " 86%|████████▌ | 134/156 [00:20<00:03,  5.76it/s]"
     ]
    },
    {
     "name": "stderr",
     "output_type": "stream",
     "text": [
      "\r",
      " 87%|████████▋ | 136/156 [00:21<00:03,  5.06it/s]"
     ]
    },
    {
     "name": "stderr",
     "output_type": "stream",
     "text": [
      "\r",
      " 88%|████████▊ | 137/156 [00:21<00:03,  5.48it/s]"
     ]
    },
    {
     "name": "stderr",
     "output_type": "stream",
     "text": [
      "\r",
      " 88%|████████▊ | 138/156 [00:21<00:03,  5.25it/s]"
     ]
    },
    {
     "name": "stderr",
     "output_type": "stream",
     "text": [
      "\r",
      " 90%|████████▉ | 140/156 [00:21<00:02,  6.89it/s]"
     ]
    },
    {
     "name": "stderr",
     "output_type": "stream",
     "text": [
      "\r",
      " 91%|█████████ | 142/156 [00:21<00:01,  7.79it/s]"
     ]
    },
    {
     "name": "stderr",
     "output_type": "stream",
     "text": [
      "\r",
      " 92%|█████████▏| 143/156 [00:22<00:02,  5.44it/s]"
     ]
    },
    {
     "name": "stderr",
     "output_type": "stream",
     "text": [
      "\r",
      " 92%|█████████▏| 144/156 [00:22<00:02,  5.09it/s]"
     ]
    },
    {
     "name": "stderr",
     "output_type": "stream",
     "text": [
      "\r",
      " 94%|█████████▍| 147/156 [00:22<00:01,  6.27it/s]"
     ]
    },
    {
     "name": "stderr",
     "output_type": "stream",
     "text": [
      "\r",
      " 95%|█████████▍| 148/156 [00:22<00:01,  6.63it/s]"
     ]
    },
    {
     "name": "stderr",
     "output_type": "stream",
     "text": [
      "\r",
      " 97%|█████████▋| 151/156 [00:23<00:00,  7.07it/s]"
     ]
    },
    {
     "name": "stderr",
     "output_type": "stream",
     "text": [
      "\r",
      " 98%|█████████▊| 153/156 [00:23<00:00,  4.90it/s]"
     ]
    },
    {
     "name": "stderr",
     "output_type": "stream",
     "text": [
      "\r",
      " 99%|█████████▊| 154/156 [00:25<00:00,  2.70it/s]"
     ]
    },
    {
     "name": "stderr",
     "output_type": "stream",
     "text": [
      "\r",
      " 99%|█████████▉| 155/156 [00:25<00:00,  2.31it/s]"
     ]
    },
    {
     "name": "stderr",
     "output_type": "stream",
     "text": [
      "\r",
      "100%|██████████| 156/156 [00:25<00:00,  2.69it/s]"
     ]
    },
    {
     "name": "stderr",
     "output_type": "stream",
     "text": [
      "\r",
      "100%|██████████| 156/156 [00:25<00:00,  6.02it/s]"
     ]
    },
    {
     "name": "stderr",
     "output_type": "stream",
     "text": [
      "\n"
     ]
    },
    {
     "name": "stdout",
     "output_type": "stream",
     "text": [
      "\n",
      "rate limit: 7 \n",
      "Leeftijdsgroep API calls: create: 0, read: 1, update: 156, delete: 0, backoff: 2\n",
      "errors:\n",
      "  503: Service Unavailable: 5\n"
     ]
    },
    {
     "name": "stdout",
     "output_type": "stream",
     "text": [
      "[{'Key': 1, 'Timestamp Leeftijdsgroep RIVM': '2021-04-28 14:15'}]\n"
     ]
    },
    {
     "name": "stderr",
     "output_type": "stream",
     "text": [
      "\r",
      "  0%|          | 0/1 [00:00<?, ?it/s]"
     ]
    },
    {
     "name": "stdout",
     "output_type": "stream",
     "text": [
      "timestamps: [{'Key': 1, 'Timestamp Leeftijdsgroep RIVM': '2021-04-28 14:15'}]\n",
      "Key                               int64\n",
      "Timestamp Leeftijdsgroep RIVM    object\n",
      "dtype: object\n"
     ]
    },
    {
     "name": "stderr",
     "output_type": "stream",
     "text": [
      "\r",
      "100%|██████████| 1/1 [00:01<00:00,  1.43s/it]"
     ]
    },
    {
     "name": "stderr",
     "output_type": "stream",
     "text": [
      "\r",
      "100%|██████████| 1/1 [00:01<00:00,  1.43s/it]"
     ]
    },
    {
     "name": "stdout",
     "output_type": "stream",
     "text": [
      "\n",
      "rate limit: 7 \n",
      "LaatsteUpdate API calls: create: 0, read: 0, update: 1, delete: 0, backoff: 0\n"
     ]
    },
    {
     "name": "stderr",
     "output_type": "stream",
     "text": [
      "\n",
      "\r",
      "  0%|          | 0/1 [00:00<?, ?it/s]"
     ]
    },
    {
     "name": "stdout",
     "output_type": "stream",
     "text": [
      "BatchName     object\n",
      "ObjectName    object\n",
      "Source        object\n",
      "Timestamp     object\n",
      "dtype: object\n"
     ]
    },
    {
     "name": "stderr",
     "output_type": "stream",
     "text": [
      "\r",
      "100%|██████████| 1/1 [00:01<00:00,  1.06s/it]"
     ]
    },
    {
     "name": "stderr",
     "output_type": "stream",
     "text": [
      "\r",
      "100%|██████████| 1/1 [00:01<00:00,  1.07s/it]"
     ]
    },
    {
     "name": "stdout",
     "output_type": "stream",
     "text": [
      "\n",
      "rate limit: 7 \n",
      "UpdateDetails API calls: create: 1, read: 0, update: 0, delete: 0, backoff: 0\n"
     ]
    },
    {
     "name": "stderr",
     "output_type": "stream",
     "text": [
      "\n",
      "\r",
      "  0%|          | 0/1 [00:00<?, ?it/s]"
     ]
    },
    {
     "name": "stdout",
     "output_type": "stream",
     "text": [
      "updating: [{'Key': 1, 'Updating Leeftijdsgroep': 'false'}]\n",
      "Key                         int64\n",
      "Updating Leeftijdsgroep    object\n",
      "dtype: object\n"
     ]
    },
    {
     "name": "stderr",
     "output_type": "stream",
     "text": [
      "\r",
      "100%|██████████| 1/1 [00:00<00:00,  1.23it/s]"
     ]
    },
    {
     "name": "stderr",
     "output_type": "stream",
     "text": [
      "\r",
      "100%|██████████| 1/1 [00:00<00:00,  1.23it/s]"
     ]
    },
    {
     "name": "stdout",
     "output_type": "stream",
     "text": [
      "\n",
      "rate limit: 7 \n",
      "LaatsteUpdate API calls: create: 0, read: 0, update: 1, delete: 0, backoff: 0\n"
     ]
    },
    {
     "name": "stderr",
     "output_type": "stream",
     "text": [
      "\n"
     ]
    }
   ],
   "source": [
    "if knack:\n",
    "  await knack.publish(tabel.fillna(0).assign(Datum=tabel.Datum.dt.strftime('%Y-%m-%d')), 'Leeftijdsgroep', Cache)"
   ]
  }
 ],
 "metadata": {
  "jupytext": {
   "cell_metadata_filter": "title,-all"
  },
  "kernelspec": {
   "display_name": "Python 3",
   "language": "python",
   "name": "python3"
  },
  "language_info": {
   "codemirror_mode": {
    "name": "ipython",
    "version": 3
   },
   "file_extension": ".py",
   "mimetype": "text/x-python",
   "name": "python",
   "nbconvert_exporter": "python",
   "pygments_lexer": "ipython3",
   "version": "3.9.4"
  },
  "papermill": {
   "default_parameters": {},
   "duration": 54.247384,
   "end_time": "2021-04-29T09:18:09.803998",
   "environment_variables": {},
   "exception": null,
   "input_path": "-",
   "output_path": "LeeftijdsgroepenLandelijk.ipynb",
   "parameters": {},
   "start_time": "2021-04-29T09:17:15.556614",
   "version": "2.3.3"
  }
 },
 "nbformat": 4,
 "nbformat_minor": 5
}