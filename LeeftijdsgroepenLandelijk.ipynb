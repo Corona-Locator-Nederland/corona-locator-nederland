{
 "cells": [
  {
   "cell_type": "code",
   "execution_count": 1,
   "id": "8328fd06",
   "metadata": {
    "execution": {
     "iopub.execute_input": "2021-10-27T13:30:27.543812Z",
     "iopub.status.busy": "2021-10-27T13:30:27.543301Z",
     "iopub.status.idle": "2021-10-27T13:30:30.337410Z",
     "shell.execute_reply": "2021-10-27T13:30:30.336864Z"
    },
    "lines_to_next_cell": 1,
    "papermill": {
     "duration": 2.814713,
     "end_time": "2021-10-27T13:30:30.337552",
     "exception": false,
     "start_time": "2021-10-27T13:30:27.522839",
     "status": "completed"
    },
    "tags": []
   },
   "outputs": [],
   "source": [
    "from IPython import get_ipython\n",
    "from IPython.core.display import display\n",
    "get_ipython().run_line_magic('load_ext', 'autoreload')\n",
    "get_ipython().run_line_magic('autoreload', '2')\n",
    "get_ipython().run_line_magic('run', 'setup')"
   ]
  },
  {
   "cell_type": "code",
   "execution_count": 2,
   "id": "1104ad69",
   "metadata": {
    "execution": {
     "iopub.execute_input": "2021-10-27T13:30:30.367985Z",
     "iopub.status.busy": "2021-10-27T13:30:30.366105Z",
     "iopub.status.idle": "2021-10-27T13:34:39.358126Z",
     "shell.execute_reply": "2021-10-27T13:34:39.358504Z"
    },
    "lines_to_next_cell": 1,
    "papermill": {
     "duration": 249.008833,
     "end_time": "2021-10-27T13:34:39.358655",
     "exception": false,
     "start_time": "2021-10-27T13:30:30.349822",
     "status": "completed"
    },
    "tags": [],
    "title": "leeftijdsgroepen: download RIVM data"
   },
   "outputs": [
    {
     "name": "stdout",
     "output_type": "stream",
     "text": [
      "downloading rivm/COVID-19_casus_landelijk-2021-10-27@13-15.csv\n"
     ]
    },
    {
     "name": "stdout",
     "output_type": "stream",
     "text": [
      "rivm COVID-19_casus_landelijk zipping rivm/COVID-19_casus_landelijk-2021-10-27@13-15.csv\n"
     ]
    },
    {
     "name": "stdout",
     "output_type": "stream",
     "text": [
      "loading rivm/COVID-19_casus_landelijk-2021-10-27@13-15.csv.gz\n"
     ]
    },
    {
     "data": {
      "text/html": [
       "<div>\n",
       "<style scoped>\n",
       "    .dataframe tbody tr th:only-of-type {\n",
       "        vertical-align: middle;\n",
       "    }\n",
       "\n",
       "    .dataframe tbody tr th {\n",
       "        vertical-align: top;\n",
       "    }\n",
       "\n",
       "    .dataframe thead th {\n",
       "        text-align: right;\n",
       "    }\n",
       "</style>\n",
       "<table border=\"1\" class=\"dataframe\">\n",
       "  <thead>\n",
       "    <tr style=\"text-align: right;\">\n",
       "      <th></th>\n",
       "      <th>Date_file</th>\n",
       "      <th>Date_statistics</th>\n",
       "      <th>Date_statistics_type</th>\n",
       "      <th>Agegroup</th>\n",
       "      <th>Sex</th>\n",
       "      <th>Province</th>\n",
       "      <th>Hospital_admission</th>\n",
       "      <th>Deceased</th>\n",
       "      <th>Week_of_death</th>\n",
       "      <th>Municipal_health_service</th>\n",
       "    </tr>\n",
       "  </thead>\n",
       "  <tbody>\n",
       "    <tr>\n",
       "      <th>0</th>\n",
       "      <td>2021-10-27 10:00:00</td>\n",
       "      <td>2020-01-01</td>\n",
       "      <td>DOO</td>\n",
       "      <td>40-49</td>\n",
       "      <td>Female</td>\n",
       "      <td>Noord-Holland</td>\n",
       "      <td>No</td>\n",
       "      <td>No</td>\n",
       "      <td>NaN</td>\n",
       "      <td>GGD Amsterdam</td>\n",
       "    </tr>\n",
       "    <tr>\n",
       "      <th>1</th>\n",
       "      <td>2021-10-27 10:00:00</td>\n",
       "      <td>2020-01-01</td>\n",
       "      <td>DOO</td>\n",
       "      <td>50-59</td>\n",
       "      <td>Male</td>\n",
       "      <td>Gelderland</td>\n",
       "      <td>No</td>\n",
       "      <td>No</td>\n",
       "      <td>NaN</td>\n",
       "      <td>Veiligheids- en Gezondheidsregio Gelderland-Mi...</td>\n",
       "    </tr>\n",
       "    <tr>\n",
       "      <th>2</th>\n",
       "      <td>2021-10-27 10:00:00</td>\n",
       "      <td>2020-01-01</td>\n",
       "      <td>DOO</td>\n",
       "      <td>20-29</td>\n",
       "      <td>Female</td>\n",
       "      <td>Zuid-Holland</td>\n",
       "      <td>No</td>\n",
       "      <td>No</td>\n",
       "      <td>NaN</td>\n",
       "      <td>GGD Hollands-Midden</td>\n",
       "    </tr>\n",
       "    <tr>\n",
       "      <th>3</th>\n",
       "      <td>2021-10-27 10:00:00</td>\n",
       "      <td>2020-01-01</td>\n",
       "      <td>DOO</td>\n",
       "      <td>60-69</td>\n",
       "      <td>Female</td>\n",
       "      <td>Noord-Holland</td>\n",
       "      <td>No</td>\n",
       "      <td>No</td>\n",
       "      <td>NaN</td>\n",
       "      <td>GGD Hollands-Noorden</td>\n",
       "    </tr>\n",
       "    <tr>\n",
       "      <th>4</th>\n",
       "      <td>2021-10-27 10:00:00</td>\n",
       "      <td>2020-01-04</td>\n",
       "      <td>DOO</td>\n",
       "      <td>10-19</td>\n",
       "      <td>Female</td>\n",
       "      <td>Gelderland</td>\n",
       "      <td>Unknown</td>\n",
       "      <td>No</td>\n",
       "      <td>NaN</td>\n",
       "      <td>GGD Gelderland-Zuid</td>\n",
       "    </tr>\n",
       "  </tbody>\n",
       "</table>\n",
       "</div>"
      ],
      "text/plain": [
       "             Date_file Date_statistics Date_statistics_type Agegroup     Sex  \\\n",
       "0  2021-10-27 10:00:00      2020-01-01                  DOO    40-49  Female   \n",
       "1  2021-10-27 10:00:00      2020-01-01                  DOO    50-59    Male   \n",
       "2  2021-10-27 10:00:00      2020-01-01                  DOO    20-29  Female   \n",
       "3  2021-10-27 10:00:00      2020-01-01                  DOO    60-69  Female   \n",
       "4  2021-10-27 10:00:00      2020-01-04                  DOO    10-19  Female   \n",
       "\n",
       "        Province Hospital_admission Deceased  Week_of_death  \\\n",
       "0  Noord-Holland                 No       No            NaN   \n",
       "1     Gelderland                 No       No            NaN   \n",
       "2   Zuid-Holland                 No       No            NaN   \n",
       "3  Noord-Holland                 No       No            NaN   \n",
       "4     Gelderland            Unknown       No            NaN   \n",
       "\n",
       "                            Municipal_health_service  \n",
       "0                                      GGD Amsterdam  \n",
       "1  Veiligheids- en Gezondheidsregio Gelderland-Mi...  \n",
       "2                                GGD Hollands-Midden  \n",
       "3                               GGD Hollands-Noorden  \n",
       "4                                GGD Gelderland-Zuid  "
      ]
     },
     "metadata": {},
     "output_type": "display_data"
    }
   ],
   "source": [
    "#leeftijdsgroepen = SimpleNamespace()\n",
    "@run\n",
    "def cell():\n",
    "  global rivm\n",
    "  rivm = RIVM.csv('COVID-19_casus_landelijk')\n",
    "  display(rivm.head())"
   ]
  },
  {
   "cell_type": "code",
   "execution_count": 3,
   "id": "2f1169f6",
   "metadata": {
    "execution": {
     "iopub.execute_input": "2021-10-27T13:34:39.399672Z",
     "iopub.status.busy": "2021-10-27T13:34:39.399122Z",
     "iopub.status.idle": "2021-10-27T13:34:42.103911Z",
     "shell.execute_reply": "2021-10-27T13:34:42.103366Z"
    },
    "lines_to_next_cell": 1,
    "papermill": {
     "duration": 2.728751,
     "end_time": "2021-10-27T13:34:42.104054",
     "exception": false,
     "start_time": "2021-10-27T13:34:39.375303",
     "status": "completed"
    },
    "tags": [],
    "title": "Download de bevolkings cijfers van CBS, uitgesplitst op de leeftijds categorien in de dataset van het RIVM"
   },
   "outputs": [],
   "source": [
    "@run\n",
    "def cell():\n",
    "  global bevolking\n",
    "  bevolking = CBS.bevolking(leeftijdsgroepen=True)"
   ]
  },
  {
   "cell_type": "code",
   "execution_count": 4,
   "id": "fae69443",
   "metadata": {
    "execution": {
     "iopub.execute_input": "2021-10-27T13:34:42.146449Z",
     "iopub.status.busy": "2021-10-27T13:34:42.145941Z",
     "iopub.status.idle": "2021-10-27T13:34:50.218183Z",
     "shell.execute_reply": "2021-10-27T13:34:50.218562Z"
    },
    "lines_to_next_cell": 1,
    "papermill": {
     "duration": 8.097565,
     "end_time": "2021-10-27T13:34:50.218711",
     "exception": false,
     "start_time": "2021-10-27T13:34:42.121146",
     "status": "completed"
    },
    "tags": [],
    "title": "leeftijdsgroepen: prepareer tabel"
   },
   "outputs": [
    {
     "data": {
      "text/html": [
       "<style type=\"text/css\">\n",
       "#T_95f58_row0_col7, #T_95f58_row2_col7, #T_95f58_row3_col7 {\n",
       "  background-color: #23898e;\n",
       "  color: #f1f1f1;\n",
       "}\n",
       "#T_95f58_row0_col8 {\n",
       "  background-color: #482979;\n",
       "  color: #f1f1f1;\n",
       "}\n",
       "#T_95f58_row0_col9 {\n",
       "  background-color: #440256;\n",
       "  color: #f1f1f1;\n",
       "}\n",
       "#T_95f58_row0_col10, #T_95f58_row1_col9, #T_95f58_row2_col8, #T_95f58_row3_col8, #T_95f58_row4_col8 {\n",
       "  background-color: #440154;\n",
       "  color: #f1f1f1;\n",
       "}\n",
       "#T_95f58_row0_col11 {\n",
       "  background-color: #482173;\n",
       "  color: #f1f1f1;\n",
       "}\n",
       "#T_95f58_row0_col12 {\n",
       "  background-color: #3e4a89;\n",
       "  color: #f1f1f1;\n",
       "}\n",
       "#T_95f58_row0_col13 {\n",
       "  background-color: #2a788e;\n",
       "  color: #f1f1f1;\n",
       "}\n",
       "#T_95f58_row0_col14 {\n",
       "  background-color: #1f9f88;\n",
       "  color: #f1f1f1;\n",
       "}\n",
       "#T_95f58_row0_col15 {\n",
       "  background-color: #73d056;\n",
       "  color: #000000;\n",
       "}\n",
       "#T_95f58_row0_col16 {\n",
       "  background-color: #d5e21a;\n",
       "  color: #000000;\n",
       "}\n",
       "#T_95f58_row0_col17, #T_95f58_row1_col17, #T_95f58_row2_col17, #T_95f58_row3_col17, #T_95f58_row4_col17 {\n",
       "  background-color: #fde725;\n",
       "  color: #000000;\n",
       "}\n",
       "#T_95f58_row1_col7 {\n",
       "  background-color: #218e8d;\n",
       "  color: #f1f1f1;\n",
       "}\n",
       "#T_95f58_row1_col8 {\n",
       "  background-color: #481b6d;\n",
       "  color: #f1f1f1;\n",
       "}\n",
       "#T_95f58_row1_col10, #T_95f58_row2_col9 {\n",
       "  background-color: #471164;\n",
       "  color: #f1f1f1;\n",
       "}\n",
       "#T_95f58_row1_col11 {\n",
       "  background-color: #443983;\n",
       "  color: #f1f1f1;\n",
       "}\n",
       "#T_95f58_row1_col12 {\n",
       "  background-color: #3c4f8a;\n",
       "  color: #f1f1f1;\n",
       "}\n",
       "#T_95f58_row1_col13 {\n",
       "  background-color: #26818e;\n",
       "  color: #f1f1f1;\n",
       "}\n",
       "#T_95f58_row1_col14 {\n",
       "  background-color: #24aa83;\n",
       "  color: #f1f1f1;\n",
       "}\n",
       "#T_95f58_row1_col15 {\n",
       "  background-color: #7cd250;\n",
       "  color: #000000;\n",
       "}\n",
       "#T_95f58_row1_col16 {\n",
       "  background-color: #e2e418;\n",
       "  color: #000000;\n",
       "}\n",
       "#T_95f58_row2_col10 {\n",
       "  background-color: #46327e;\n",
       "  color: #f1f1f1;\n",
       "}\n",
       "#T_95f58_row2_col11 {\n",
       "  background-color: #3d4d8a;\n",
       "  color: #f1f1f1;\n",
       "}\n",
       "#T_95f58_row2_col12 {\n",
       "  background-color: #31688e;\n",
       "  color: #f1f1f1;\n",
       "}\n",
       "#T_95f58_row2_col13 {\n",
       "  background-color: #1f968b;\n",
       "  color: #f1f1f1;\n",
       "}\n",
       "#T_95f58_row2_col14 {\n",
       "  background-color: #3aba76;\n",
       "  color: #f1f1f1;\n",
       "}\n",
       "#T_95f58_row2_col15 {\n",
       "  background-color: #9dd93b;\n",
       "  color: #000000;\n",
       "}\n",
       "#T_95f58_row2_col16 {\n",
       "  background-color: #e7e419;\n",
       "  color: #000000;\n",
       "}\n",
       "#T_95f58_row3_col9 {\n",
       "  background-color: #481a6c;\n",
       "  color: #f1f1f1;\n",
       "}\n",
       "#T_95f58_row3_col10 {\n",
       "  background-color: #482576;\n",
       "  color: #f1f1f1;\n",
       "}\n",
       "#T_95f58_row3_col11 {\n",
       "  background-color: #404688;\n",
       "  color: #f1f1f1;\n",
       "}\n",
       "#T_95f58_row3_col12 {\n",
       "  background-color: #2e6e8e;\n",
       "  color: #f1f1f1;\n",
       "}\n",
       "#T_95f58_row3_col13 {\n",
       "  background-color: #1e9c89;\n",
       "  color: #f1f1f1;\n",
       "}\n",
       "#T_95f58_row3_col14 {\n",
       "  background-color: #58c765;\n",
       "  color: #000000;\n",
       "}\n",
       "#T_95f58_row3_col15 {\n",
       "  background-color: #a0da39;\n",
       "  color: #000000;\n",
       "}\n",
       "#T_95f58_row3_col16 {\n",
       "  background-color: #eae51a;\n",
       "  color: #000000;\n",
       "}\n",
       "#T_95f58_row4_col7 {\n",
       "  background-color: #26828e;\n",
       "  color: #f1f1f1;\n",
       "}\n",
       "#T_95f58_row4_col9 {\n",
       "  background-color: #482374;\n",
       "  color: #f1f1f1;\n",
       "}\n",
       "#T_95f58_row4_col10 {\n",
       "  background-color: #481f70;\n",
       "  color: #f1f1f1;\n",
       "}\n",
       "#T_95f58_row4_col11 {\n",
       "  background-color: #3c508b;\n",
       "  color: #f1f1f1;\n",
       "}\n",
       "#T_95f58_row4_col12 {\n",
       "  background-color: #287c8e;\n",
       "  color: #f1f1f1;\n",
       "}\n",
       "#T_95f58_row4_col13 {\n",
       "  background-color: #20a386;\n",
       "  color: #f1f1f1;\n",
       "}\n",
       "#T_95f58_row4_col14 {\n",
       "  background-color: #65cb5e;\n",
       "  color: #000000;\n",
       "}\n",
       "#T_95f58_row4_col15 {\n",
       "  background-color: #b5de2b;\n",
       "  color: #000000;\n",
       "}\n",
       "#T_95f58_row4_col16 {\n",
       "  background-color: #efe51c;\n",
       "  color: #000000;\n",
       "}\n",
       "</style>\n",
       "<table id=\"T_95f58_\">\n",
       "  <thead>\n",
       "    <tr>\n",
       "      <th class=\"blank level0\" >&nbsp;</th>\n",
       "      <th class=\"col_heading level0 col0\" >Key</th>\n",
       "      <th class=\"col_heading level0 col1\" >Weken terug</th>\n",
       "      <th class=\"col_heading level0 col2\" >Datum</th>\n",
       "      <th class=\"col_heading level0 col3\" >Periode</th>\n",
       "      <th class=\"col_heading level0 col4\" >Gemiddelde leeftijd</th>\n",
       "      <th class=\"col_heading level0 col5\" >Totaal</th>\n",
       "      <th class=\"col_heading level0 col6\" >Type</th>\n",
       "      <th class=\"col_heading level0 col7\" >0-9</th>\n",
       "      <th class=\"col_heading level0 col8\" >10-19</th>\n",
       "      <th class=\"col_heading level0 col9\" >20-29</th>\n",
       "      <th class=\"col_heading level0 col10\" >30-39</th>\n",
       "      <th class=\"col_heading level0 col11\" >40-49</th>\n",
       "      <th class=\"col_heading level0 col12\" >50-59</th>\n",
       "      <th class=\"col_heading level0 col13\" >60-69</th>\n",
       "      <th class=\"col_heading level0 col14\" >70-79</th>\n",
       "      <th class=\"col_heading level0 col15\" >80-89</th>\n",
       "      <th class=\"col_heading level0 col16\" >90+</th>\n",
       "      <th class=\"col_heading level0 col17\" >Onbekend</th>\n",
       "      <th class=\"col_heading level0 col18\" >c0-9</th>\n",
       "      <th class=\"col_heading level0 col19\" >c10-19</th>\n",
       "      <th class=\"col_heading level0 col20\" >c20-29</th>\n",
       "      <th class=\"col_heading level0 col21\" >c30-39</th>\n",
       "      <th class=\"col_heading level0 col22\" >c40-49</th>\n",
       "      <th class=\"col_heading level0 col23\" >c50-59</th>\n",
       "      <th class=\"col_heading level0 col24\" >c60-69</th>\n",
       "      <th class=\"col_heading level0 col25\" >c70-79</th>\n",
       "      <th class=\"col_heading level0 col26\" >c80-89</th>\n",
       "      <th class=\"col_heading level0 col27\" >c90+</th>\n",
       "      <th class=\"col_heading level0 col28\" >cOnbekend</th>\n",
       "    </tr>\n",
       "  </thead>\n",
       "  <tbody>\n",
       "    <tr>\n",
       "      <th id=\"T_95f58_level0_row0\" class=\"row_heading level0 row0\" >0</th>\n",
       "      <td id=\"T_95f58_row0_col0\" class=\"data row0 col0\" >p000</td>\n",
       "      <td id=\"T_95f58_row0_col1\" class=\"data row0 col1\" >0</td>\n",
       "      <td id=\"T_95f58_row0_col2\" class=\"data row0 col2\" >2021-10-27 00:00:00</td>\n",
       "      <td id=\"T_95f58_row0_col3\" class=\"data row0 col3\" >21/10-27/10</td>\n",
       "      <td id=\"T_95f58_row0_col4\" class=\"data row0 col4\" >39.800000</td>\n",
       "      <td id=\"T_95f58_row0_col5\" class=\"data row0 col5\" >23143.000000</td>\n",
       "      <td id=\"T_95f58_row0_col6\" class=\"data row0 col6\" >Positief getest</td>\n",
       "      <td id=\"T_95f58_row0_col7\" class=\"data row0 col7\" >1912.000000</td>\n",
       "      <td id=\"T_95f58_row0_col8\" class=\"data row0 col8\" >3196.000000</td>\n",
       "      <td id=\"T_95f58_row0_col9\" class=\"data row0 col9\" >3593.000000</td>\n",
       "      <td id=\"T_95f58_row0_col10\" class=\"data row0 col10\" >3610.000000</td>\n",
       "      <td id=\"T_95f58_row0_col11\" class=\"data row0 col11\" >3283.000000</td>\n",
       "      <td id=\"T_95f58_row0_col12\" class=\"data row0 col12\" >2802.000000</td>\n",
       "      <td id=\"T_95f58_row0_col13\" class=\"data row0 col13\" >2170.000000</td>\n",
       "      <td id=\"T_95f58_row0_col14\" class=\"data row0 col14\" >1580.000000</td>\n",
       "      <td id=\"T_95f58_row0_col15\" class=\"data row0 col15\" >765.000000</td>\n",
       "      <td id=\"T_95f58_row0_col16\" class=\"data row0 col16\" >232.000000</td>\n",
       "      <td id=\"T_95f58_row0_col17\" class=\"data row0 col17\" >0.000000</td>\n",
       "      <td id=\"T_95f58_row0_col18\" class=\"data row0 col18\" >529</td>\n",
       "      <td id=\"T_95f58_row0_col19\" class=\"data row0 col19\" >885</td>\n",
       "      <td id=\"T_95f58_row0_col20\" class=\"data row0 col20\" >995</td>\n",
       "      <td id=\"T_95f58_row0_col21\" class=\"data row0 col21\" >1000</td>\n",
       "      <td id=\"T_95f58_row0_col22\" class=\"data row0 col22\" >909</td>\n",
       "      <td id=\"T_95f58_row0_col23\" class=\"data row0 col23\" >776</td>\n",
       "      <td id=\"T_95f58_row0_col24\" class=\"data row0 col24\" >601</td>\n",
       "      <td id=\"T_95f58_row0_col25\" class=\"data row0 col25\" >437</td>\n",
       "      <td id=\"T_95f58_row0_col26\" class=\"data row0 col26\" >211</td>\n",
       "      <td id=\"T_95f58_row0_col27\" class=\"data row0 col27\" >64</td>\n",
       "      <td id=\"T_95f58_row0_col28\" class=\"data row0 col28\" >0</td>\n",
       "    </tr>\n",
       "    <tr>\n",
       "      <th id=\"T_95f58_level0_row1\" class=\"row_heading level0 row1\" >1</th>\n",
       "      <td id=\"T_95f58_row1_col0\" class=\"data row1 col0\" >p001</td>\n",
       "      <td id=\"T_95f58_row1_col1\" class=\"data row1 col1\" >1</td>\n",
       "      <td id=\"T_95f58_row1_col2\" class=\"data row1 col2\" >2021-10-27 00:00:00</td>\n",
       "      <td id=\"T_95f58_row1_col3\" class=\"data row1 col3\" >14/10-20/10</td>\n",
       "      <td id=\"T_95f58_row1_col4\" class=\"data row1 col4\" >39.000000</td>\n",
       "      <td id=\"T_95f58_row1_col5\" class=\"data row1 col5\" >32276.000000</td>\n",
       "      <td id=\"T_95f58_row1_col6\" class=\"data row1 col6\" >Positief getest</td>\n",
       "      <td id=\"T_95f58_row1_col7\" class=\"data row1 col7\" >2658.000000</td>\n",
       "      <td id=\"T_95f58_row1_col8\" class=\"data row1 col8\" >4835.000000</td>\n",
       "      <td id=\"T_95f58_row1_col9\" class=\"data row1 col9\" >5222.000000</td>\n",
       "      <td id=\"T_95f58_row1_col10\" class=\"data row1 col10\" >4982.000000</td>\n",
       "      <td id=\"T_95f58_row1_col11\" class=\"data row1 col11\" >4353.000000</td>\n",
       "      <td id=\"T_95f58_row1_col12\" class=\"data row1 col12\" >3961.000000</td>\n",
       "      <td id=\"T_95f58_row1_col13\" class=\"data row1 col13\" >2953.000000</td>\n",
       "      <td id=\"T_95f58_row1_col14\" class=\"data row1 col14\" >2058.000000</td>\n",
       "      <td id=\"T_95f58_row1_col15\" class=\"data row1 col15\" >1027.000000</td>\n",
       "      <td id=\"T_95f58_row1_col16\" class=\"data row1 col16\" >226.000000</td>\n",
       "      <td id=\"T_95f58_row1_col17\" class=\"data row1 col17\" >1.000000</td>\n",
       "      <td id=\"T_95f58_row1_col18\" class=\"data row1 col18\" >509</td>\n",
       "      <td id=\"T_95f58_row1_col19\" class=\"data row1 col19\" >925</td>\n",
       "      <td id=\"T_95f58_row1_col20\" class=\"data row1 col20\" >1000</td>\n",
       "      <td id=\"T_95f58_row1_col21\" class=\"data row1 col21\" >954</td>\n",
       "      <td id=\"T_95f58_row1_col22\" class=\"data row1 col22\" >833</td>\n",
       "      <td id=\"T_95f58_row1_col23\" class=\"data row1 col23\" >758</td>\n",
       "      <td id=\"T_95f58_row1_col24\" class=\"data row1 col24\" >565</td>\n",
       "      <td id=\"T_95f58_row1_col25\" class=\"data row1 col25\" >394</td>\n",
       "      <td id=\"T_95f58_row1_col26\" class=\"data row1 col26\" >196</td>\n",
       "      <td id=\"T_95f58_row1_col27\" class=\"data row1 col27\" >43</td>\n",
       "      <td id=\"T_95f58_row1_col28\" class=\"data row1 col28\" >0</td>\n",
       "    </tr>\n",
       "    <tr>\n",
       "      <th id=\"T_95f58_level0_row2\" class=\"row_heading level0 row2\" >2</th>\n",
       "      <td id=\"T_95f58_row2_col0\" class=\"data row2 col0\" >p002</td>\n",
       "      <td id=\"T_95f58_row2_col1\" class=\"data row2 col1\" >2</td>\n",
       "      <td id=\"T_95f58_row2_col2\" class=\"data row2 col2\" >2021-10-27 00:00:00</td>\n",
       "      <td id=\"T_95f58_row2_col3\" class=\"data row2 col3\" >07/10-13/10</td>\n",
       "      <td id=\"T_95f58_row2_col4\" class=\"data row2 col4\" >37.100000</td>\n",
       "      <td id=\"T_95f58_row2_col5\" class=\"data row2 col5\" >22740.000000</td>\n",
       "      <td id=\"T_95f58_row2_col6\" class=\"data row2 col6\" >Positief getest</td>\n",
       "      <td id=\"T_95f58_row2_col7\" class=\"data row2 col7\" >2096.000000</td>\n",
       "      <td id=\"T_95f58_row2_col8\" class=\"data row2 col8\" >3950.000000</td>\n",
       "      <td id=\"T_95f58_row2_col9\" class=\"data row2 col9\" >3767.000000</td>\n",
       "      <td id=\"T_95f58_row2_col10\" class=\"data row2 col10\" >3384.000000</td>\n",
       "      <td id=\"T_95f58_row2_col11\" class=\"data row2 col11\" >3036.000000</td>\n",
       "      <td id=\"T_95f58_row2_col12\" class=\"data row2 col12\" >2634.000000</td>\n",
       "      <td id=\"T_95f58_row2_col13\" class=\"data row2 col13\" >1871.000000</td>\n",
       "      <td id=\"T_95f58_row2_col14\" class=\"data row2 col14\" >1271.000000</td>\n",
       "      <td id=\"T_95f58_row2_col15\" class=\"data row2 col15\" >585.000000</td>\n",
       "      <td id=\"T_95f58_row2_col16\" class=\"data row2 col16\" >145.000000</td>\n",
       "      <td id=\"T_95f58_row2_col17\" class=\"data row2 col17\" >1.000000</td>\n",
       "      <td id=\"T_95f58_row2_col18\" class=\"data row2 col18\" >530</td>\n",
       "      <td id=\"T_95f58_row2_col19\" class=\"data row2 col19\" >1000</td>\n",
       "      <td id=\"T_95f58_row2_col20\" class=\"data row2 col20\" >953</td>\n",
       "      <td id=\"T_95f58_row2_col21\" class=\"data row2 col21\" >856</td>\n",
       "      <td id=\"T_95f58_row2_col22\" class=\"data row2 col22\" >768</td>\n",
       "      <td id=\"T_95f58_row2_col23\" class=\"data row2 col23\" >666</td>\n",
       "      <td id=\"T_95f58_row2_col24\" class=\"data row2 col24\" >473</td>\n",
       "      <td id=\"T_95f58_row2_col25\" class=\"data row2 col25\" >321</td>\n",
       "      <td id=\"T_95f58_row2_col26\" class=\"data row2 col26\" >148</td>\n",
       "      <td id=\"T_95f58_row2_col27\" class=\"data row2 col27\" >36</td>\n",
       "      <td id=\"T_95f58_row2_col28\" class=\"data row2 col28\" >0</td>\n",
       "    </tr>\n",
       "    <tr>\n",
       "      <th id=\"T_95f58_level0_row3\" class=\"row_heading level0 row3\" >3</th>\n",
       "      <td id=\"T_95f58_row3_col0\" class=\"data row3 col0\" >p003</td>\n",
       "      <td id=\"T_95f58_row3_col1\" class=\"data row3 col1\" >3</td>\n",
       "      <td id=\"T_95f58_row3_col2\" class=\"data row3 col2\" >2021-10-27 00:00:00</td>\n",
       "      <td id=\"T_95f58_row3_col3\" class=\"data row3 col3\" >30/09-06/10</td>\n",
       "      <td id=\"T_95f58_row3_col4\" class=\"data row3 col4\" >36.500000</td>\n",
       "      <td id=\"T_95f58_row3_col5\" class=\"data row3 col5\" >15592.000000</td>\n",
       "      <td id=\"T_95f58_row3_col6\" class=\"data row3 col6\" >Positief getest</td>\n",
       "      <td id=\"T_95f58_row3_col7\" class=\"data row3 col7\" >1455.000000</td>\n",
       "      <td id=\"T_95f58_row3_col8\" class=\"data row3 col8\" >2746.000000</td>\n",
       "      <td id=\"T_95f58_row3_col9\" class=\"data row3 col9\" >2557.000000</td>\n",
       "      <td id=\"T_95f58_row3_col10\" class=\"data row3 col10\" >2462.000000</td>\n",
       "      <td id=\"T_95f58_row3_col11\" class=\"data row3 col11\" >2168.000000</td>\n",
       "      <td id=\"T_95f58_row3_col12\" class=\"data row3 col12\" >1768.000000</td>\n",
       "      <td id=\"T_95f58_row3_col13\" class=\"data row3 col13\" >1237.000000</td>\n",
       "      <td id=\"T_95f58_row3_col14\" class=\"data row3 col14\" >718.000000</td>\n",
       "      <td id=\"T_95f58_row3_col15\" class=\"data row3 col15\" >387.000000</td>\n",
       "      <td id=\"T_95f58_row3_col16\" class=\"data row3 col16\" >94.000000</td>\n",
       "      <td id=\"T_95f58_row3_col17\" class=\"data row3 col17\" >0.000000</td>\n",
       "      <td id=\"T_95f58_row3_col18\" class=\"data row3 col18\" >529</td>\n",
       "      <td id=\"T_95f58_row3_col19\" class=\"data row3 col19\" >1000</td>\n",
       "      <td id=\"T_95f58_row3_col20\" class=\"data row3 col20\" >931</td>\n",
       "      <td id=\"T_95f58_row3_col21\" class=\"data row3 col21\" >896</td>\n",
       "      <td id=\"T_95f58_row3_col22\" class=\"data row3 col22\" >789</td>\n",
       "      <td id=\"T_95f58_row3_col23\" class=\"data row3 col23\" >643</td>\n",
       "      <td id=\"T_95f58_row3_col24\" class=\"data row3 col24\" >450</td>\n",
       "      <td id=\"T_95f58_row3_col25\" class=\"data row3 col25\" >261</td>\n",
       "      <td id=\"T_95f58_row3_col26\" class=\"data row3 col26\" >140</td>\n",
       "      <td id=\"T_95f58_row3_col27\" class=\"data row3 col27\" >34</td>\n",
       "      <td id=\"T_95f58_row3_col28\" class=\"data row3 col28\" >0</td>\n",
       "    </tr>\n",
       "    <tr>\n",
       "      <th id=\"T_95f58_level0_row4\" class=\"row_heading level0 row4\" >4</th>\n",
       "      <td id=\"T_95f58_row4_col0\" class=\"data row4 col0\" >p004</td>\n",
       "      <td id=\"T_95f58_row4_col1\" class=\"data row4 col1\" >4</td>\n",
       "      <td id=\"T_95f58_row4_col2\" class=\"data row4 col2\" >2021-10-27 00:00:00</td>\n",
       "      <td id=\"T_95f58_row4_col3\" class=\"data row4 col3\" >23/09-29/09</td>\n",
       "      <td id=\"T_95f58_row4_col4\" class=\"data row4 col4\" >35.400000</td>\n",
       "      <td id=\"T_95f58_row4_col5\" class=\"data row4 col5\" >11685.000000</td>\n",
       "      <td id=\"T_95f58_row4_col6\" class=\"data row4 col6\" >Positief getest</td>\n",
       "      <td id=\"T_95f58_row4_col7\" class=\"data row4 col7\" >1185.000000</td>\n",
       "      <td id=\"T_95f58_row4_col8\" class=\"data row4 col8\" >2119.000000</td>\n",
       "      <td id=\"T_95f58_row4_col9\" class=\"data row4 col9\" >1920.000000</td>\n",
       "      <td id=\"T_95f58_row4_col10\" class=\"data row4 col10\" >1943.000000</td>\n",
       "      <td id=\"T_95f58_row4_col11\" class=\"data row4 col11\" >1603.000000</td>\n",
       "      <td id=\"T_95f58_row4_col12\" class=\"data row4 col12\" >1236.000000</td>\n",
       "      <td id=\"T_95f58_row4_col13\" class=\"data row4 col13\" >892.000000</td>\n",
       "      <td id=\"T_95f58_row4_col14\" class=\"data row4 col14\" >499.000000</td>\n",
       "      <td id=\"T_95f58_row4_col15\" class=\"data row4 col15\" >234.000000</td>\n",
       "      <td id=\"T_95f58_row4_col16\" class=\"data row4 col16\" >53.000000</td>\n",
       "      <td id=\"T_95f58_row4_col17\" class=\"data row4 col17\" >1.000000</td>\n",
       "      <td id=\"T_95f58_row4_col18\" class=\"data row4 col18\" >559</td>\n",
       "      <td id=\"T_95f58_row4_col19\" class=\"data row4 col19\" >1000</td>\n",
       "      <td id=\"T_95f58_row4_col20\" class=\"data row4 col20\" >906</td>\n",
       "      <td id=\"T_95f58_row4_col21\" class=\"data row4 col21\" >916</td>\n",
       "      <td id=\"T_95f58_row4_col22\" class=\"data row4 col22\" >756</td>\n",
       "      <td id=\"T_95f58_row4_col23\" class=\"data row4 col23\" >583</td>\n",
       "      <td id=\"T_95f58_row4_col24\" class=\"data row4 col24\" >420</td>\n",
       "      <td id=\"T_95f58_row4_col25\" class=\"data row4 col25\" >235</td>\n",
       "      <td id=\"T_95f58_row4_col26\" class=\"data row4 col26\" >110</td>\n",
       "      <td id=\"T_95f58_row4_col27\" class=\"data row4 col27\" >25</td>\n",
       "      <td id=\"T_95f58_row4_col28\" class=\"data row4 col28\" >0</td>\n",
       "    </tr>\n",
       "  </tbody>\n",
       "</table>\n"
      ],
      "text/plain": [
       "<pandas.io.formats.style.Styler at 0x7fef5c929760>"
      ]
     },
     "metadata": {},
     "output_type": "display_data"
    }
   ],
   "source": [
    "# Bereken de stand van zaken van besmettingen / hospitalisaties / overlijden, per cohort in absolute aantallen en aantallen per 100k, met een kleur indicator voor de aantallen.\n",
    "# vervang <50 en Unknown door Onbekend\n",
    "@run\n",
    "def cell():\n",
    "  rivm['Cohort'] = rivm['Agegroup'].replace({'<50': 'Onbekend', 'Unknown': 'Onbekend'})\n",
    "  # aangenomen 'gemiddelde' leeftijd van een cohort: minimum waarde + 5\n",
    "  assumed_cohort_age = [(cohort, [int(n) for n in cohort.replace('+', '').split('-')]) for cohort in rivm['Cohort'].unique() if cohort[0].isdigit()]\n",
    "  assumed_cohort_age = { cohort: min(rng) + 5 for cohort, rng in assumed_cohort_age }\n",
    "  rivm['Gemiddelde leeftijd'] = rivm['Cohort'].apply(lambda x: assumed_cohort_age.get(x, np.nan))\n",
    "\n",
    "  # verwijder tijd\n",
    "  rivm['Date_file_date'] = pd.to_datetime(rivm['Date_file'].replace(r' .*', '', regex=True))\n",
    "\n",
    "  rivm['Date_statistics_date'] = pd.to_datetime(rivm['Date_statistics'])\n",
    "\n",
    "  # weken terug = verschil tussen Date_file en Date_statistcs, gedeeld door 7 dagen\n",
    "  rivm['Weken terug'] = np.floor((rivm['Date_file_date'] - rivm['Date_statistics_date'])/np.timedelta64(7, 'D')).astype(int)\n",
    "\n",
    "  # voeg key, gem leeftijd, kleurnummer en totaal toe\n",
    "  Date_file = rivm['Date_file_date'].unique()[0].astype('M8[D]').astype('O')\n",
    "  cohorten = list(bevolking.index) + ['Onbekend']\n",
    "  def summarize(df, category, prefix):\n",
    "    # aangezien we hier de dataframe in-place wijzigen (bijv door toevoegen kolommen)\n",
    "    # en we het 'rivm' frame later nog clean nodig hebben\n",
    "    df = df.copy(deep=True)\n",
    "\n",
    "    df = (df\n",
    "          .groupby(['Weken terug', 'Cohort'])['count']\n",
    "          .sum()\n",
    "          .unstack(fill_value=np.nan)\n",
    "          .reset_index()\n",
    "          .rename_axis(None, axis=1)\n",
    "        ).merge(df\n",
    "          # we voegen hier gemiddelde leeftijd toe, want die willen we op een ander\n",
    "          # niveau aggregeren voor 'df' overschreven word\n",
    "          .groupby(['Weken terug'])['Gemiddelde leeftijd']\n",
    "          .mean()\n",
    "          .to_frame(), on='Weken terug'\n",
    "        )\n",
    "\n",
    "    # altijd 52 rijen\n",
    "    df = pd.Series(np.arange(52), name='Weken terug').to_frame().merge(df, how='left', on='Weken terug')\n",
    "\n",
    "    # toevoegen missende cohorten\n",
    "    for col in cohorten:\n",
    "      if not col in df:\n",
    "        df[col] = np.nan\n",
    "\n",
    "    # sommeer per rij (axis=1) over de cohorten om een totaal te krijgen\n",
    "    df['Totaal'] = df[cohorten].sum(axis=1)\n",
    "\n",
    "    # voeg periode en datum toe\n",
    "    # periode afgeleid van weken-terug (= de index voor deze dataframe)\n",
    "    df['Datum'] = pd.to_datetime(Date_file)\n",
    "    df['Periode'] = (df\n",
    "      .index.to_series()\n",
    "      .apply(\n",
    "        lambda x: (\n",
    "          (Date_file + datetime.timedelta(weeks=-(x+1), days=1)).strftime('%d/%m')\n",
    "          + '-'\n",
    "          + (Date_file + datetime.timedelta(weeks=-x)).strftime('%d/%m')\n",
    "        )\n",
    "      )\n",
    "    )\n",
    "\n",
    "    # voeg 'Key' en 'Type' kolom toe. Variabele 'type' kan niet, is een language primitive.\n",
    "    df['Key'] = prefix + df.index.astype(str).str.rjust(3, fillchar='0')\n",
    "    df['Type'] = category\n",
    "\n",
    "    # voeg de kleur kolommen toe\n",
    "    for col in cohorten:\n",
    "      df['c' + col] = ((df[col] / df[[col for col in cohorten]].max(axis=1)) * 1000).fillna(0).astype(int)\n",
    "\n",
    "    # herschikken van de kolommen\n",
    "    colorder = ['Key', 'Weken terug', 'Datum', 'Periode', 'Gemiddelde leeftijd', 'Totaal', 'Type']\n",
    "    return df[colorder + [col for col in df if col not in colorder]]\n",
    "\n",
    "  factor = bevolking.to_dict()['per 100k']\n",
    "  global tabel\n",
    "  tabel = pd.concat(\n",
    "    # flatten the result list zodat pd.concat ze onder elkaar kan plakken\n",
    "    functools.reduce(lambda a, b: a + b, [\n",
    "      [summarize(df.assign(count=1), label, prefix), summarize(df.assign(count=df['Cohort'].apply(lambda x: factor.get(x, np.nan))), label + ' per 100.000', prefix + '100k')]\n",
    "      for df, label, prefix in [\n",
    "        (rivm, 'Positief getest', 'p'), # volledige count per cohort\n",
    "        (rivm[rivm.Hospital_admission == 'Yes'], 'Ziekenhuisopname', 'h'), # count van cohort voor Hospital_admission == 'Yes'\n",
    "        (rivm[rivm.Deceased == 'Yes'], 'Overleden', 'd'), # count van cohort voor Deceased == 'Yes'\n",
    "      ]\n",
    "    ])\n",
    "  )\n",
    "\n",
    "  # rood -> groen\n",
    "  cdict = {\n",
    "    'red':   ((0.0, 0.0, 0.0),   # no red at 0\n",
    "              (0.5, 1.0, 1.0),   # all channels set to 1.0 at 0.5 to create white\n",
    "              (1.0, 0.8, 0.8)),  # set to 0.8 so its not too bright at 1\n",
    "    'green': ((0.0, 0.8, 0.8),   # set to 0.8 so its not too bright at 0\n",
    "              (0.5, 1.0, 1.0),   # all channels set to 1.0 at 0.5 to create white\n",
    "              (1.0, 0.0, 0.0)),  # no green at 1\n",
    "    'blue':  ((0.0, 0.0, 0.0),   # no blue at 0\n",
    "              (0.5, 1.0, 1.0),   # all channels set to 1.0 at 0.5 to create white\n",
    "              (1.0, 0.0, 0.0))   # no blue at 1\n",
    "  }\n",
    "  cm = colors.LinearSegmentedColormap('GnRd', cdict)\n",
    "  # geel -> paars\n",
    "  cm = sns.color_palette('viridis_r', as_cmap=True)\n",
    "  display(tabel\n",
    "    .fillna(0)\n",
    "    .head()\n",
    "    .round(1)\n",
    "    .reset_index(drop=True)\n",
    "    .style.background_gradient(cmap=cm, axis=1, subset=cohorten)\n",
    "  )"
   ]
  },
  {
   "cell_type": "code",
   "execution_count": 5,
   "id": "50739b85",
   "metadata": {
    "execution": {
     "iopub.execute_input": "2021-10-27T13:34:50.257502Z",
     "iopub.status.busy": "2021-10-27T13:34:50.257031Z",
     "iopub.status.idle": "2021-10-27T13:35:39.624329Z",
     "shell.execute_reply": "2021-10-27T13:35:39.624707Z"
    },
    "papermill": {
     "duration": 49.388565,
     "end_time": "2021-10-27T13:35:39.624857",
     "exception": false,
     "start_time": "2021-10-27T13:34:50.236292",
     "status": "completed"
    },
    "tags": [],
    "title": "publish"
   },
   "outputs": [
    {
     "name": "stdout",
     "output_type": "stream",
     "text": [
      "infinities:\n"
     ]
    },
    {
     "name": "stdout",
     "output_type": "stream",
     "text": [
      "Empty DataFrame\n",
      "Columns: []\n",
      "Index: []\n"
     ]
    },
    {
     "name": "stdout",
     "output_type": "stream",
     "text": [
      "nan:\n"
     ]
    },
    {
     "name": "stdout",
     "output_type": "stream",
     "text": [
      "Empty DataFrame\n",
      "Columns: []\n",
      "Index: []\n"
     ]
    },
    {
     "name": "stdout",
     "output_type": "stream",
     "text": [
      "Key                     object\n",
      "Weken terug              int64\n",
      "Datum                   object\n",
      "Periode                 object\n",
      "Gemiddelde leeftijd    float64\n",
      "Totaal                 float64\n",
      "Type                    object\n",
      "0-9                    float64\n",
      "10-19                  float64\n",
      "20-29                  float64\n",
      "30-39                  float64\n",
      "40-49                  float64\n",
      "50-59                  float64\n",
      "60-69                  float64\n",
      "70-79                  float64\n",
      "80-89                  float64\n",
      "90+                    float64\n",
      "Onbekend               float64\n",
      "c0-9                     int64\n",
      "c10-19                   int64\n",
      "c20-29                   int64\n",
      "c30-39                   int64\n",
      "c40-49                   int64\n",
      "c50-59                   int64\n",
      "c60-69                   int64\n",
      "c70-79                   int64\n",
      "c80-89                   int64\n",
      "c90+                     int64\n",
      "cOnbekend                int64\n",
      "dtype: object\n",
      "updating knack\n"
     ]
    },
    {
     "name": "stdout",
     "output_type": "stream",
     "text": [
      "updating: [{'Key': 1, 'Updating Leeftijdsgroep': 'true'}]\n"
     ]
    },
    {
     "name": "stdout",
     "output_type": "stream",
     "text": [
      "restored LaatsteUpdate from hash\n"
     ]
    },
    {
     "name": "stdout",
     "output_type": "stream",
     "text": [
      "Key                         int64\n",
      "Updating Leeftijdsgroep    object\n",
      "dtype: object\n"
     ]
    },
    {
     "name": "stderr",
     "output_type": "stream",
     "text": [
      "\r",
      "  0%|          | 0/1 [00:00<?, ?it/s]"
     ]
    },
    {
     "name": "stderr",
     "output_type": "stream",
     "text": [
      "\r",
      "100%|██████████| 1/1 [00:00<00:00,  1.41it/s]"
     ]
    },
    {
     "name": "stderr",
     "output_type": "stream",
     "text": [
      "\r",
      "100%|██████████| 1/1 [00:00<00:00,  1.41it/s]"
     ]
    },
    {
     "name": "stdout",
     "output_type": "stream",
     "text": [
      "\n",
      "rate limit: 7 \n",
      "LaatsteUpdate API calls: create: 0, read: 1, update: 1, delete: 0, backoff: 0\n"
     ]
    },
    {
     "name": "stderr",
     "output_type": "stream",
     "text": [
      "\n"
     ]
    },
    {
     "name": "stdout",
     "output_type": "stream",
     "text": [
      "restored Leeftijdsgroep from hash\n"
     ]
    },
    {
     "name": "stdout",
     "output_type": "stream",
     "text": [
      "0-9                    float64\n",
      "10-19                  float64\n",
      "20-29                  float64\n",
      "30-39                  float64\n",
      "40-49                  float64\n",
      "50-59                  float64\n",
      "60-69                  float64\n",
      "70-79                  float64\n",
      "80-89                  float64\n",
      "90+                    float64\n",
      "Datum                   object\n",
      "Gemiddelde leeftijd    float64\n",
      "Key                     object\n",
      "Onbekend               float64\n",
      "Periode                 object\n",
      "Totaal                 float64\n",
      "Type                    object\n",
      "Weken terug              int64\n",
      "c0-9                     int64\n",
      "c10-19                   int64\n",
      "c20-29                   int64\n",
      "c30-39                   int64\n",
      "c40-49                   int64\n",
      "c50-59                   int64\n",
      "c60-69                   int64\n",
      "c70-79                   int64\n",
      "c80-89                   int64\n",
      "c90+                     int64\n",
      "cOnbekend                int64\n",
      "dtype: object\n"
     ]
    },
    {
     "name": "stderr",
     "output_type": "stream",
     "text": [
      "\r",
      "  0%|          | 0/144 [00:00<?, ?it/s]"
     ]
    },
    {
     "name": "stderr",
     "output_type": "stream",
     "text": [
      "\r",
      "  1%|          | 1/144 [00:00<01:48,  1.32it/s]"
     ]
    },
    {
     "name": "stderr",
     "output_type": "stream",
     "text": [
      "\r",
      "  3%|▎         | 4/144 [00:01<00:30,  4.54it/s]"
     ]
    },
    {
     "name": "stderr",
     "output_type": "stream",
     "text": [
      "\r",
      "  6%|▌         | 8/144 [00:01<00:17,  7.67it/s]"
     ]
    },
    {
     "name": "stderr",
     "output_type": "stream",
     "text": [
      "\r",
      "  7%|▋         | 10/144 [00:01<00:15,  8.47it/s]"
     ]
    },
    {
     "name": "stderr",
     "output_type": "stream",
     "text": [
      "\r",
      "  8%|▊         | 12/144 [00:02<00:22,  5.86it/s]"
     ]
    },
    {
     "name": "stderr",
     "output_type": "stream",
     "text": [
      "\r",
      "  9%|▉         | 13/144 [00:02<00:20,  6.26it/s]"
     ]
    },
    {
     "name": "stderr",
     "output_type": "stream",
     "text": [
      "\r",
      " 10%|█         | 15/144 [00:02<00:18,  6.96it/s]"
     ]
    },
    {
     "name": "stderr",
     "output_type": "stream",
     "text": [
      "\r",
      " 11%|█         | 16/144 [00:02<00:17,  7.29it/s]"
     ]
    },
    {
     "name": "stderr",
     "output_type": "stream",
     "text": [
      "\r",
      " 12%|█▎        | 18/144 [00:02<00:15,  8.34it/s]"
     ]
    },
    {
     "name": "stderr",
     "output_type": "stream",
     "text": [
      "\r",
      " 13%|█▎        | 19/144 [00:03<00:19,  6.48it/s]"
     ]
    },
    {
     "name": "stderr",
     "output_type": "stream",
     "text": [
      "\r",
      " 15%|█▍        | 21/144 [00:03<00:18,  6.75it/s]"
     ]
    },
    {
     "name": "stderr",
     "output_type": "stream",
     "text": [
      "\r",
      " 15%|█▌        | 22/144 [00:03<00:19,  6.23it/s]"
     ]
    },
    {
     "name": "stderr",
     "output_type": "stream",
     "text": [
      "\r",
      " 16%|█▌        | 23/144 [00:03<00:20,  5.89it/s]"
     ]
    },
    {
     "name": "stderr",
     "output_type": "stream",
     "text": [
      "\r",
      " 17%|█▋        | 24/144 [00:03<00:18,  6.51it/s]"
     ]
    },
    {
     "name": "stderr",
     "output_type": "stream",
     "text": [
      "\r",
      " 18%|█▊        | 26/144 [00:04<00:16,  7.23it/s]"
     ]
    },
    {
     "name": "stderr",
     "output_type": "stream",
     "text": [
      "\r",
      " 19%|█▉        | 27/144 [00:04<00:18,  6.23it/s]"
     ]
    },
    {
     "name": "stderr",
     "output_type": "stream",
     "text": [
      "\r",
      " 19%|█▉        | 28/144 [00:04<00:25,  4.53it/s]"
     ]
    },
    {
     "name": "stderr",
     "output_type": "stream",
     "text": [
      "\r",
      " 21%|██        | 30/144 [00:04<00:19,  5.88it/s]"
     ]
    },
    {
     "name": "stderr",
     "output_type": "stream",
     "text": [
      "\r",
      " 24%|██▎       | 34/144 [00:05<00:18,  6.09it/s]"
     ]
    },
    {
     "name": "stderr",
     "output_type": "stream",
     "text": [
      "\r",
      " 26%|██▌       | 37/144 [00:05<00:17,  6.20it/s]"
     ]
    },
    {
     "name": "stderr",
     "output_type": "stream",
     "text": [
      "\r",
      " 26%|██▋       | 38/144 [00:06<00:18,  5.60it/s]"
     ]
    },
    {
     "name": "stderr",
     "output_type": "stream",
     "text": [
      "\r",
      " 28%|██▊       | 40/144 [00:06<00:14,  7.05it/s]"
     ]
    },
    {
     "name": "stderr",
     "output_type": "stream",
     "text": [
      "\r",
      " 30%|██▉       | 43/144 [00:06<00:13,  7.22it/s]"
     ]
    },
    {
     "name": "stderr",
     "output_type": "stream",
     "text": [
      "\r",
      " 31%|███       | 44/144 [00:06<00:14,  6.80it/s]"
     ]
    },
    {
     "name": "stderr",
     "output_type": "stream",
     "text": [
      "\r",
      " 33%|███▎      | 47/144 [00:07<00:09,  9.75it/s]"
     ]
    },
    {
     "name": "stderr",
     "output_type": "stream",
     "text": [
      "\r",
      " 34%|███▍      | 49/144 [00:07<00:12,  7.38it/s]"
     ]
    },
    {
     "name": "stderr",
     "output_type": "stream",
     "text": [
      "\r",
      " 35%|███▌      | 51/144 [00:07<00:13,  6.89it/s]"
     ]
    },
    {
     "name": "stderr",
     "output_type": "stream",
     "text": [
      "\r",
      " 36%|███▌      | 52/144 [00:08<00:14,  6.31it/s]"
     ]
    },
    {
     "name": "stderr",
     "output_type": "stream",
     "text": [
      "\r",
      " 38%|███▊      | 55/144 [00:08<00:14,  6.34it/s]"
     ]
    },
    {
     "name": "stderr",
     "output_type": "stream",
     "text": [
      "\r",
      " 40%|███▉      | 57/144 [00:08<00:12,  6.94it/s]"
     ]
    },
    {
     "name": "stderr",
     "output_type": "stream",
     "text": [
      "\r",
      " 40%|████      | 58/144 [00:08<00:13,  6.60it/s]"
     ]
    },
    {
     "name": "stderr",
     "output_type": "stream",
     "text": [
      "\r",
      " 41%|████      | 59/144 [00:09<00:14,  6.01it/s]"
     ]
    },
    {
     "name": "stderr",
     "output_type": "stream",
     "text": [
      "\r",
      " 42%|████▏     | 61/144 [00:09<00:11,  7.33it/s]"
     ]
    },
    {
     "name": "stderr",
     "output_type": "stream",
     "text": [
      "\r",
      " 44%|████▍     | 63/144 [00:09<00:09,  8.65it/s]"
     ]
    },
    {
     "name": "stderr",
     "output_type": "stream",
     "text": [
      "\r",
      " 44%|████▍     | 64/144 [00:09<00:11,  6.89it/s]"
     ]
    },
    {
     "name": "stderr",
     "output_type": "stream",
     "text": [
      "\r",
      " 45%|████▌     | 65/144 [00:09<00:11,  6.81it/s]"
     ]
    },
    {
     "name": "stderr",
     "output_type": "stream",
     "text": [
      "\r",
      " 46%|████▌     | 66/144 [00:10<00:10,  7.31it/s]"
     ]
    },
    {
     "name": "stderr",
     "output_type": "stream",
     "text": [
      "\r",
      " 47%|████▋     | 67/144 [00:10<00:15,  4.93it/s]"
     ]
    },
    {
     "name": "stderr",
     "output_type": "stream",
     "text": [
      "\r",
      " 47%|████▋     | 68/144 [00:10<00:18,  4.11it/s]"
     ]
    },
    {
     "name": "stderr",
     "output_type": "stream",
     "text": [
      "\r",
      " 49%|████▉     | 71/144 [00:10<00:09,  7.52it/s]"
     ]
    },
    {
     "name": "stderr",
     "output_type": "stream",
     "text": [
      "\r",
      " 51%|█████     | 73/144 [00:11<00:10,  7.02it/s]"
     ]
    },
    {
     "name": "stderr",
     "output_type": "stream",
     "text": [
      "\r",
      " 52%|█████▏    | 75/144 [00:11<00:10,  6.39it/s]"
     ]
    },
    {
     "name": "stderr",
     "output_type": "stream",
     "text": [
      "\r",
      " 53%|█████▎    | 77/144 [00:11<00:08,  7.73it/s]"
     ]
    },
    {
     "name": "stderr",
     "output_type": "stream",
     "text": [
      "\r",
      " 55%|█████▍    | 79/144 [00:12<00:11,  5.45it/s]"
     ]
    },
    {
     "name": "stderr",
     "output_type": "stream",
     "text": [
      "\r",
      " 57%|█████▋    | 82/144 [00:12<00:08,  7.16it/s]"
     ]
    },
    {
     "name": "stderr",
     "output_type": "stream",
     "text": [
      "\r",
      " 58%|█████▊    | 84/144 [00:12<00:08,  6.69it/s]"
     ]
    },
    {
     "name": "stderr",
     "output_type": "stream",
     "text": [
      "\r",
      " 60%|██████    | 87/144 [00:13<00:06,  8.27it/s]"
     ]
    },
    {
     "name": "stderr",
     "output_type": "stream",
     "text": [
      "\r",
      " 62%|██████▏   | 89/144 [00:13<00:05,  9.23it/s]"
     ]
    },
    {
     "name": "stderr",
     "output_type": "stream",
     "text": [
      "\r",
      " 63%|██████▎   | 91/144 [00:13<00:05,  9.66it/s]"
     ]
    },
    {
     "name": "stderr",
     "output_type": "stream",
     "text": [
      "\r",
      " 65%|██████▌   | 94/144 [00:13<00:05,  9.45it/s]"
     ]
    },
    {
     "name": "stderr",
     "output_type": "stream",
     "text": [
      "\r",
      " 67%|██████▋   | 96/144 [00:14<00:06,  7.87it/s]"
     ]
    },
    {
     "name": "stderr",
     "output_type": "stream",
     "text": [
      "\r",
      " 68%|██████▊   | 98/144 [00:14<00:05,  8.84it/s]"
     ]
    },
    {
     "name": "stderr",
     "output_type": "stream",
     "text": [
      "\r",
      " 69%|██████▉   | 100/144 [00:14<00:06,  7.26it/s]"
     ]
    },
    {
     "name": "stderr",
     "output_type": "stream",
     "text": [
      "\r",
      " 71%|███████   | 102/144 [00:14<00:05,  7.67it/s]"
     ]
    },
    {
     "name": "stderr",
     "output_type": "stream",
     "text": [
      "\r",
      " 72%|███████▏  | 104/144 [00:15<00:04,  8.17it/s]"
     ]
    },
    {
     "name": "stderr",
     "output_type": "stream",
     "text": [
      "\r",
      " 74%|███████▎  | 106/144 [00:15<00:05,  6.86it/s]"
     ]
    },
    {
     "name": "stderr",
     "output_type": "stream",
     "text": [
      "\r",
      " 74%|███████▍  | 107/144 [00:15<00:06,  5.66it/s]"
     ]
    },
    {
     "name": "stderr",
     "output_type": "stream",
     "text": [
      "\r",
      " 76%|███████▌  | 109/144 [00:16<00:05,  6.40it/s]"
     ]
    },
    {
     "name": "stderr",
     "output_type": "stream",
     "text": [
      "\r",
      " 77%|███████▋  | 111/144 [00:16<00:04,  8.18it/s]"
     ]
    },
    {
     "name": "stderr",
     "output_type": "stream",
     "text": [
      "\r",
      " 79%|███████▉  | 114/144 [00:16<00:03,  7.96it/s]"
     ]
    },
    {
     "name": "stderr",
     "output_type": "stream",
     "text": [
      "\r",
      " 80%|███████▉  | 115/144 [00:16<00:04,  6.42it/s]"
     ]
    },
    {
     "name": "stderr",
     "output_type": "stream",
     "text": [
      "\r",
      " 82%|████████▏ | 118/144 [00:17<00:03,  8.08it/s]"
     ]
    },
    {
     "name": "stderr",
     "output_type": "stream",
     "text": [
      "\r",
      " 83%|████████▎ | 119/144 [00:17<00:03,  6.26it/s]"
     ]
    },
    {
     "name": "stderr",
     "output_type": "stream",
     "text": [
      "\r",
      " 84%|████████▍ | 121/144 [00:17<00:04,  5.63it/s]"
     ]
    },
    {
     "name": "stderr",
     "output_type": "stream",
     "text": [
      "\r",
      " 85%|████████▌ | 123/144 [00:18<00:03,  6.05it/s]"
     ]
    },
    {
     "name": "stderr",
     "output_type": "stream",
     "text": [
      "\r",
      " 86%|████████▌ | 124/144 [00:18<00:03,  6.32it/s]"
     ]
    },
    {
     "name": "stderr",
     "output_type": "stream",
     "text": [
      "\r",
      " 87%|████████▋ | 125/144 [00:18<00:02,  6.74it/s]"
     ]
    },
    {
     "name": "stderr",
     "output_type": "stream",
     "text": [
      "\r",
      " 88%|████████▊ | 126/144 [00:18<00:02,  6.51it/s]"
     ]
    },
    {
     "name": "stderr",
     "output_type": "stream",
     "text": [
      "\r",
      " 88%|████████▊ | 127/144 [00:18<00:02,  6.27it/s]"
     ]
    },
    {
     "name": "stderr",
     "output_type": "stream",
     "text": [
      "\r",
      " 89%|████████▉ | 128/144 [00:18<00:02,  5.67it/s]"
     ]
    },
    {
     "name": "stderr",
     "output_type": "stream",
     "text": [
      "\r",
      " 90%|█████████ | 130/144 [00:19<00:02,  6.45it/s]"
     ]
    },
    {
     "name": "stderr",
     "output_type": "stream",
     "text": [
      "\r",
      " 92%|█████████▏| 132/144 [00:19<00:01,  8.22it/s]"
     ]
    },
    {
     "name": "stderr",
     "output_type": "stream",
     "text": [
      "\r",
      " 92%|█████████▏| 133/144 [00:19<00:01,  6.30it/s]"
     ]
    },
    {
     "name": "stderr",
     "output_type": "stream",
     "text": [
      "\r",
      " 93%|█████████▎| 134/144 [00:19<00:01,  6.80it/s]"
     ]
    },
    {
     "name": "stderr",
     "output_type": "stream",
     "text": [
      "\r",
      " 94%|█████████▍| 135/144 [00:20<00:01,  4.81it/s]"
     ]
    },
    {
     "name": "stderr",
     "output_type": "stream",
     "text": [
      "\r",
      " 95%|█████████▌| 137/144 [00:20<00:01,  5.26it/s]"
     ]
    },
    {
     "name": "stderr",
     "output_type": "stream",
     "text": [
      "\r",
      " 97%|█████████▋| 139/144 [00:20<00:00,  5.88it/s]"
     ]
    },
    {
     "name": "stderr",
     "output_type": "stream",
     "text": [
      "\r",
      " 97%|█████████▋| 140/144 [00:20<00:00,  5.63it/s]"
     ]
    },
    {
     "name": "stderr",
     "output_type": "stream",
     "text": [
      "\r",
      " 98%|█████████▊| 141/144 [00:23<00:02,  1.24it/s]"
     ]
    },
    {
     "name": "stderr",
     "output_type": "stream",
     "text": [
      "\r",
      " 99%|█████████▊| 142/144 [00:24<00:01,  1.47it/s]"
     ]
    },
    {
     "name": "stderr",
     "output_type": "stream",
     "text": [
      "\r",
      " 99%|█████████▉| 143/144 [00:25<00:00,  1.15it/s]"
     ]
    },
    {
     "name": "stderr",
     "output_type": "stream",
     "text": [
      "\r",
      "100%|██████████| 144/144 [00:36<00:00,  3.61s/it]"
     ]
    },
    {
     "name": "stderr",
     "output_type": "stream",
     "text": [
      "\r",
      "100%|██████████| 144/144 [00:36<00:00,  3.94it/s]"
     ]
    },
    {
     "name": "stdout",
     "output_type": "stream",
     "text": [
      "\n",
      "rate limit: 7 \n",
      "Leeftijdsgroep API calls: create: 0, read: 1, update: 144, delete: 0, backoff: 0\n",
      "errors:\n",
      "  503: Service Unavailable: 2\n"
     ]
    },
    {
     "name": "stdout",
     "output_type": "stream",
     "text": [
      "[{'Key': 1, 'Timestamp Leeftijdsgroep RIVM': '2021-10-27 14:15'}]\n"
     ]
    },
    {
     "name": "stderr",
     "output_type": "stream",
     "text": [
      "\n"
     ]
    },
    {
     "name": "stdout",
     "output_type": "stream",
     "text": [
      "timestamps: [{'Key': 1, 'Timestamp Leeftijdsgroep RIVM': '2021-10-27 14:15'}]\n",
      "Key                               int64\n",
      "Timestamp Leeftijdsgroep RIVM    object\n",
      "dtype: object\n"
     ]
    },
    {
     "name": "stderr",
     "output_type": "stream",
     "text": [
      "\r",
      "  0%|          | 0/1 [00:00<?, ?it/s]"
     ]
    },
    {
     "name": "stderr",
     "output_type": "stream",
     "text": [
      "\r",
      "100%|██████████| 1/1 [00:03<00:00,  3.69s/it]"
     ]
    },
    {
     "name": "stderr",
     "output_type": "stream",
     "text": [
      "\r",
      "100%|██████████| 1/1 [00:03<00:00,  3.69s/it]"
     ]
    },
    {
     "name": "stdout",
     "output_type": "stream",
     "text": [
      "\n",
      "rate limit: 7 \n",
      "LaatsteUpdate API calls: create: 0, read: 0, update: 1, delete: 0, backoff: 0\n"
     ]
    },
    {
     "name": "stderr",
     "output_type": "stream",
     "text": [
      "\n"
     ]
    },
    {
     "name": "stdout",
     "output_type": "stream",
     "text": [
      "BatchName     object\n",
      "ObjectName    object\n",
      "Source        object\n",
      "Timestamp     object\n",
      "dtype: object\n"
     ]
    },
    {
     "name": "stderr",
     "output_type": "stream",
     "text": [
      "\r",
      "  0%|          | 0/1 [00:00<?, ?it/s]"
     ]
    },
    {
     "name": "stderr",
     "output_type": "stream",
     "text": [
      "\r",
      "100%|██████████| 1/1 [00:03<00:00,  3.68s/it]"
     ]
    },
    {
     "name": "stderr",
     "output_type": "stream",
     "text": [
      "\r",
      "100%|██████████| 1/1 [00:03<00:00,  3.68s/it]"
     ]
    },
    {
     "name": "stdout",
     "output_type": "stream",
     "text": [
      "\n",
      "rate limit: 7 \n",
      "UpdateDetails API calls: create: 1, read: 0, update: 0, delete: 0, backoff: 0\n"
     ]
    },
    {
     "name": "stderr",
     "output_type": "stream",
     "text": [
      "\n"
     ]
    },
    {
     "name": "stdout",
     "output_type": "stream",
     "text": [
      "updating: [{'Key': 1, 'Updating Leeftijdsgroep': 'false'}]\n",
      "Key                         int64\n",
      "Updating Leeftijdsgroep    object\n",
      "dtype: object\n"
     ]
    },
    {
     "name": "stderr",
     "output_type": "stream",
     "text": [
      "\r",
      "  0%|          | 0/1 [00:00<?, ?it/s]"
     ]
    },
    {
     "name": "stderr",
     "output_type": "stream",
     "text": [
      "\r",
      "100%|██████████| 1/1 [00:00<00:00,  1.22it/s]"
     ]
    },
    {
     "name": "stderr",
     "output_type": "stream",
     "text": [
      "\r",
      "100%|██████████| 1/1 [00:00<00:00,  1.22it/s]"
     ]
    },
    {
     "name": "stdout",
     "output_type": "stream",
     "text": [
      "\n",
      "rate limit: 7 \n",
      "LaatsteUpdate API calls: create: 0, read: 0, update: 1, delete: 0, backoff: 0\n"
     ]
    },
    {
     "name": "stderr",
     "output_type": "stream",
     "text": [
      "\n"
     ]
    }
   ],
   "source": [
    "if knack:\n",
    "  await knack.publish(tabel.fillna(0).assign(Datum=tabel.Datum.dt.strftime('%Y-%m-%d')), 'Leeftijdsgroep', Cache)"
   ]
  }
 ],
 "metadata": {
  "jupytext": {
   "cell_metadata_filter": "title,-all"
  },
  "kernelspec": {
   "display_name": "Python 3 (ipykernel)",
   "language": "python",
   "name": "python3"
  },
  "language_info": {
   "codemirror_mode": {
    "name": "ipython",
    "version": 3
   },
   "file_extension": ".py",
   "mimetype": "text/x-python",
   "name": "python",
   "nbconvert_exporter": "python",
   "pygments_lexer": "ipython3",
   "version": "3.9.7"
  },
  "papermill": {
   "default_parameters": {},
   "duration": 313.854177,
   "end_time": "2021-10-27T13:35:40.241424",
   "environment_variables": {},
   "exception": null,
   "input_path": "-",
   "output_path": "LeeftijdsgroepenLandelijk.ipynb",
   "parameters": {},
   "start_time": "2021-10-27T13:30:26.387247",
   "version": "2.3.3"
  }
 },
 "nbformat": 4,
 "nbformat_minor": 5
}