{
 "cells": [
  {
   "cell_type": "code",
   "execution_count": 1,
   "id": "intermediate-companion",
   "metadata": {
    "execution": {
     "iopub.execute_input": "2021-02-20T14:29:45.166591Z",
     "iopub.status.busy": "2021-02-20T14:29:45.166005Z",
     "iopub.status.idle": "2021-02-20T14:29:47.876619Z",
     "shell.execute_reply": "2021-02-20T14:29:47.877067Z"
    },
    "lines_to_next_cell": 1,
    "papermill": {
     "duration": 2.726827,
     "end_time": "2021-02-20T14:29:47.877330",
     "exception": false,
     "start_time": "2021-02-20T14:29:45.150503",
     "status": "completed"
    },
    "tags": []
   },
   "outputs": [],
   "source": [
    "from IPython import get_ipython\n",
    "from IPython.core.display import display\n",
    "get_ipython().run_line_magic('load_ext', 'autoreload')\n",
    "get_ipython().run_line_magic('autoreload', '2')\n",
    "get_ipython().run_line_magic('run', 'setup')"
   ]
  },
  {
   "cell_type": "code",
   "execution_count": 2,
   "id": "spatial-cheat",
   "metadata": {
    "execution": {
     "iopub.execute_input": "2021-02-20T14:29:47.891507Z",
     "iopub.status.busy": "2021-02-20T14:29:47.890963Z",
     "iopub.status.idle": "2021-02-20T14:32:39.139894Z",
     "shell.execute_reply": "2021-02-20T14:32:39.139544Z"
    },
    "lines_to_next_cell": 1,
    "papermill": {
     "duration": 171.257208,
     "end_time": "2021-02-20T14:32:39.139994",
     "exception": false,
     "start_time": "2021-02-20T14:29:47.882786",
     "status": "completed"
    },
    "tags": [],
    "title": "leeftijdsgroepen: download RIVM data"
   },
   "outputs": [
    {
     "name": "stdout",
     "output_type": "stream",
     "text": [
      "downloading rivm/COVID-19_casus_landelijk-2021-02-20@14-15.csv\n"
     ]
    },
    {
     "name": "stdout",
     "output_type": "stream",
     "text": [
      "rivm COVID-19_casus_landelijk zipping rivm/COVID-19_casus_landelijk-2021-02-20@14-15.csv\n"
     ]
    },
    {
     "name": "stdout",
     "output_type": "stream",
     "text": [
      "loading rivm/COVID-19_casus_landelijk-2021-02-20@14-15.csv.gz\n"
     ]
    },
    {
     "data": {
      "text/html": [
       "<div>\n",
       "<style scoped>\n",
       "    .dataframe tbody tr th:only-of-type {\n",
       "        vertical-align: middle;\n",
       "    }\n",
       "\n",
       "    .dataframe tbody tr th {\n",
       "        vertical-align: top;\n",
       "    }\n",
       "\n",
       "    .dataframe thead th {\n",
       "        text-align: right;\n",
       "    }\n",
       "</style>\n",
       "<table border=\"1\" class=\"dataframe\">\n",
       "  <thead>\n",
       "    <tr style=\"text-align: right;\">\n",
       "      <th></th>\n",
       "      <th>Date_file</th>\n",
       "      <th>Date_statistics</th>\n",
       "      <th>Date_statistics_type</th>\n",
       "      <th>Agegroup</th>\n",
       "      <th>Sex</th>\n",
       "      <th>Province</th>\n",
       "      <th>Hospital_admission</th>\n",
       "      <th>Deceased</th>\n",
       "      <th>Week_of_death</th>\n",
       "      <th>Municipal_health_service</th>\n",
       "    </tr>\n",
       "  </thead>\n",
       "  <tbody>\n",
       "    <tr>\n",
       "      <th>0</th>\n",
       "      <td>2021-02-20 10:00:00</td>\n",
       "      <td>2020-01-01</td>\n",
       "      <td>DOO</td>\n",
       "      <td>40-49</td>\n",
       "      <td>Female</td>\n",
       "      <td>Noord-Holland</td>\n",
       "      <td>No</td>\n",
       "      <td>No</td>\n",
       "      <td>NaN</td>\n",
       "      <td>GGD Amsterdam</td>\n",
       "    </tr>\n",
       "    <tr>\n",
       "      <th>1</th>\n",
       "      <td>2021-02-20 10:00:00</td>\n",
       "      <td>2020-01-01</td>\n",
       "      <td>DOO</td>\n",
       "      <td>50-59</td>\n",
       "      <td>Male</td>\n",
       "      <td>Gelderland</td>\n",
       "      <td>No</td>\n",
       "      <td>No</td>\n",
       "      <td>NaN</td>\n",
       "      <td>Veiligheids- en Gezondheidsregio Gelderland-Mi...</td>\n",
       "    </tr>\n",
       "    <tr>\n",
       "      <th>2</th>\n",
       "      <td>2021-02-20 10:00:00</td>\n",
       "      <td>2020-01-01</td>\n",
       "      <td>DOO</td>\n",
       "      <td>20-29</td>\n",
       "      <td>Female</td>\n",
       "      <td>Zuid-Holland</td>\n",
       "      <td>No</td>\n",
       "      <td>No</td>\n",
       "      <td>NaN</td>\n",
       "      <td>GGD Hollands-Midden</td>\n",
       "    </tr>\n",
       "    <tr>\n",
       "      <th>3</th>\n",
       "      <td>2021-02-20 10:00:00</td>\n",
       "      <td>2020-01-01</td>\n",
       "      <td>DOO</td>\n",
       "      <td>60-69</td>\n",
       "      <td>Female</td>\n",
       "      <td>Noord-Holland</td>\n",
       "      <td>No</td>\n",
       "      <td>No</td>\n",
       "      <td>NaN</td>\n",
       "      <td>GGD Hollands-Noorden</td>\n",
       "    </tr>\n",
       "    <tr>\n",
       "      <th>4</th>\n",
       "      <td>2021-02-20 10:00:00</td>\n",
       "      <td>2020-01-04</td>\n",
       "      <td>DOO</td>\n",
       "      <td>10-19</td>\n",
       "      <td>Female</td>\n",
       "      <td>Gelderland</td>\n",
       "      <td>Unknown</td>\n",
       "      <td>No</td>\n",
       "      <td>NaN</td>\n",
       "      <td>GGD Gelderland-Zuid</td>\n",
       "    </tr>\n",
       "  </tbody>\n",
       "</table>\n",
       "</div>"
      ],
      "text/plain": [
       "             Date_file Date_statistics Date_statistics_type Agegroup     Sex  \\\n",
       "0  2021-02-20 10:00:00      2020-01-01                  DOO    40-49  Female   \n",
       "1  2021-02-20 10:00:00      2020-01-01                  DOO    50-59    Male   \n",
       "2  2021-02-20 10:00:00      2020-01-01                  DOO    20-29  Female   \n",
       "3  2021-02-20 10:00:00      2020-01-01                  DOO    60-69  Female   \n",
       "4  2021-02-20 10:00:00      2020-01-04                  DOO    10-19  Female   \n",
       "\n",
       "        Province Hospital_admission Deceased  Week_of_death  \\\n",
       "0  Noord-Holland                 No       No            NaN   \n",
       "1     Gelderland                 No       No            NaN   \n",
       "2   Zuid-Holland                 No       No            NaN   \n",
       "3  Noord-Holland                 No       No            NaN   \n",
       "4     Gelderland            Unknown       No            NaN   \n",
       "\n",
       "                            Municipal_health_service  \n",
       "0                                      GGD Amsterdam  \n",
       "1  Veiligheids- en Gezondheidsregio Gelderland-Mi...  \n",
       "2                                GGD Hollands-Midden  \n",
       "3                               GGD Hollands-Noorden  \n",
       "4                                GGD Gelderland-Zuid  "
      ]
     },
     "metadata": {},
     "output_type": "display_data"
    }
   ],
   "source": [
    "#leeftijdsgroepen = SimpleNamespace()\n",
    "@run\n",
    "def cell():\n",
    "  global rivm\n",
    "  rivm = RIVM.csv('COVID-19_casus_landelijk')\n",
    "  display(rivm.head())"
   ]
  },
  {
   "cell_type": "code",
   "execution_count": 3,
   "id": "liberal-lawsuit",
   "metadata": {
    "execution": {
     "iopub.execute_input": "2021-02-20T14:32:39.152092Z",
     "iopub.status.busy": "2021-02-20T14:32:39.151561Z",
     "iopub.status.idle": "2021-02-20T14:32:42.856913Z",
     "shell.execute_reply": "2021-02-20T14:32:42.856386Z"
    },
    "lines_to_next_cell": 1,
    "papermill": {
     "duration": 3.712459,
     "end_time": "2021-02-20T14:32:42.857060",
     "exception": false,
     "start_time": "2021-02-20T14:32:39.144601",
     "status": "completed"
    },
    "tags": [],
    "title": "Download de bevolkings cijfers van CBS, uitgesplitst op de leeftijds categorien in de dataset van het RIVM"
   },
   "outputs": [],
   "source": [
    "@run\n",
    "def cell():\n",
    "  global bevolking\n",
    "  bevolking = CBS.bevolking(leeftijdsgroepen=True)"
   ]
  },
  {
   "cell_type": "code",
   "execution_count": 4,
   "id": "confused-quality",
   "metadata": {
    "execution": {
     "iopub.execute_input": "2021-02-20T14:32:42.878974Z",
     "iopub.status.busy": "2021-02-20T14:32:42.868563Z",
     "iopub.status.idle": "2021-02-20T14:32:46.578515Z",
     "shell.execute_reply": "2021-02-20T14:32:46.578921Z"
    },
    "lines_to_next_cell": 1,
    "papermill": {
     "duration": 3.717246,
     "end_time": "2021-02-20T14:32:46.579080",
     "exception": false,
     "start_time": "2021-02-20T14:32:42.861834",
     "status": "completed"
    },
    "tags": [],
    "title": "leeftijdsgroepen: prepareer tabel"
   },
   "outputs": [
    {
     "data": {
      "text/html": [
       "<style  type=\"text/css\" >\n",
       "#T_279d1_row0_col7{\n",
       "            background-color:  #37b878;\n",
       "            color:  #000000;\n",
       "        }#T_279d1_row0_col8{\n",
       "            background-color:  #2f6b8e;\n",
       "            color:  #f1f1f1;\n",
       "        }#T_279d1_row0_col9,#T_279d1_row1_col12,#T_279d1_row2_col12,#T_279d1_row3_col12,#T_279d1_row4_col12{\n",
       "            background-color:  #440154;\n",
       "            color:  #f1f1f1;\n",
       "        }#T_279d1_row0_col10{\n",
       "            background-color:  #46327e;\n",
       "            color:  #f1f1f1;\n",
       "        }#T_279d1_row0_col11,#T_279d1_row2_col10,#T_279d1_row3_col11{\n",
       "            background-color:  #3d4d8a;\n",
       "            color:  #f1f1f1;\n",
       "        }#T_279d1_row0_col12{\n",
       "            background-color:  #470d60;\n",
       "            color:  #f1f1f1;\n",
       "        }#T_279d1_row0_col13{\n",
       "            background-color:  #277e8e;\n",
       "            color:  #000000;\n",
       "        }#T_279d1_row0_col14,#T_279d1_row1_col14{\n",
       "            background-color:  #3aba76;\n",
       "            color:  #000000;\n",
       "        }#T_279d1_row0_col15{\n",
       "            background-color:  #67cc5c;\n",
       "            color:  #000000;\n",
       "        }#T_279d1_row0_col16{\n",
       "            background-color:  #cde11d;\n",
       "            color:  #000000;\n",
       "        }#T_279d1_row0_col17,#T_279d1_row1_col17,#T_279d1_row2_col17,#T_279d1_row3_col17,#T_279d1_row4_col17{\n",
       "            background-color:  #fde725;\n",
       "            color:  #000000;\n",
       "        }#T_279d1_row1_col7{\n",
       "            background-color:  #65cb5e;\n",
       "            color:  #000000;\n",
       "        }#T_279d1_row1_col8,#T_279d1_row4_col8{\n",
       "            background-color:  #27808e;\n",
       "            color:  #000000;\n",
       "        }#T_279d1_row1_col9{\n",
       "            background-color:  #482576;\n",
       "            color:  #f1f1f1;\n",
       "        }#T_279d1_row1_col10{\n",
       "            background-color:  #414487;\n",
       "            color:  #f1f1f1;\n",
       "        }#T_279d1_row1_col11{\n",
       "            background-color:  #3c4f8a;\n",
       "            color:  #f1f1f1;\n",
       "        }#T_279d1_row1_col13{\n",
       "            background-color:  #2a778e;\n",
       "            color:  #000000;\n",
       "        }#T_279d1_row1_col15{\n",
       "            background-color:  #5ac864;\n",
       "            color:  #000000;\n",
       "        }#T_279d1_row1_col16{\n",
       "            background-color:  #c8e020;\n",
       "            color:  #000000;\n",
       "        }#T_279d1_row2_col7{\n",
       "            background-color:  #6ccd5a;\n",
       "            color:  #000000;\n",
       "        }#T_279d1_row2_col8{\n",
       "            background-color:  #277f8e;\n",
       "            color:  #000000;\n",
       "        }#T_279d1_row2_col9{\n",
       "            background-color:  #482677;\n",
       "            color:  #f1f1f1;\n",
       "        }#T_279d1_row2_col11{\n",
       "            background-color:  #3e4a89;\n",
       "            color:  #f1f1f1;\n",
       "        }#T_279d1_row2_col13{\n",
       "            background-color:  #2c728e;\n",
       "            color:  #f1f1f1;\n",
       "        }#T_279d1_row2_col14{\n",
       "            background-color:  #31b57b;\n",
       "            color:  #000000;\n",
       "        }#T_279d1_row2_col15{\n",
       "            background-color:  #4ec36b;\n",
       "            color:  #000000;\n",
       "        }#T_279d1_row2_col16{\n",
       "            background-color:  #bade28;\n",
       "            color:  #000000;\n",
       "        }#T_279d1_row3_col7{\n",
       "            background-color:  #90d743;\n",
       "            color:  #000000;\n",
       "        }#T_279d1_row3_col8{\n",
       "            background-color:  #26818e;\n",
       "            color:  #000000;\n",
       "        }#T_279d1_row3_col9{\n",
       "            background-color:  #482173;\n",
       "            color:  #f1f1f1;\n",
       "        }#T_279d1_row3_col10{\n",
       "            background-color:  #3b528b;\n",
       "            color:  #f1f1f1;\n",
       "        }#T_279d1_row3_col13,#T_279d1_row4_col13{\n",
       "            background-color:  #2c718e;\n",
       "            color:  #f1f1f1;\n",
       "        }#T_279d1_row3_col14{\n",
       "            background-color:  #2eb37c;\n",
       "            color:  #000000;\n",
       "        }#T_279d1_row3_col15{\n",
       "            background-color:  #54c568;\n",
       "            color:  #000000;\n",
       "        }#T_279d1_row3_col16{\n",
       "            background-color:  #c0df25;\n",
       "            color:  #000000;\n",
       "        }#T_279d1_row4_col7{\n",
       "            background-color:  #a5db36;\n",
       "            color:  #000000;\n",
       "        }#T_279d1_row4_col9{\n",
       "            background-color:  #481f70;\n",
       "            color:  #f1f1f1;\n",
       "        }#T_279d1_row4_col10{\n",
       "            background-color:  #3c508b;\n",
       "            color:  #f1f1f1;\n",
       "        }#T_279d1_row4_col11{\n",
       "            background-color:  #3b518b;\n",
       "            color:  #f1f1f1;\n",
       "        }#T_279d1_row4_col14{\n",
       "            background-color:  #2fb47c;\n",
       "            color:  #000000;\n",
       "        }#T_279d1_row4_col15{\n",
       "            background-color:  #58c765;\n",
       "            color:  #000000;\n",
       "        }#T_279d1_row4_col16{\n",
       "            background-color:  #c2df23;\n",
       "            color:  #000000;\n",
       "        }</style><table id=\"T_279d1_\" ><thead>    <tr>        <th class=\"blank level0\" ></th>        <th class=\"col_heading level0 col0\" >Key</th>        <th class=\"col_heading level0 col1\" >Weken terug</th>        <th class=\"col_heading level0 col2\" >Datum</th>        <th class=\"col_heading level0 col3\" >Periode</th>        <th class=\"col_heading level0 col4\" >Gemiddelde leeftijd</th>        <th class=\"col_heading level0 col5\" >Totaal</th>        <th class=\"col_heading level0 col6\" >Type</th>        <th class=\"col_heading level0 col7\" >0-9</th>        <th class=\"col_heading level0 col8\" >10-19</th>        <th class=\"col_heading level0 col9\" >20-29</th>        <th class=\"col_heading level0 col10\" >30-39</th>        <th class=\"col_heading level0 col11\" >40-49</th>        <th class=\"col_heading level0 col12\" >50-59</th>        <th class=\"col_heading level0 col13\" >60-69</th>        <th class=\"col_heading level0 col14\" >70-79</th>        <th class=\"col_heading level0 col15\" >80-89</th>        <th class=\"col_heading level0 col16\" >90+</th>        <th class=\"col_heading level0 col17\" >Onbekend</th>        <th class=\"col_heading level0 col18\" >c0-9</th>        <th class=\"col_heading level0 col19\" >c10-19</th>        <th class=\"col_heading level0 col20\" >c20-29</th>        <th class=\"col_heading level0 col21\" >c30-39</th>        <th class=\"col_heading level0 col22\" >c40-49</th>        <th class=\"col_heading level0 col23\" >c50-59</th>        <th class=\"col_heading level0 col24\" >c60-69</th>        <th class=\"col_heading level0 col25\" >c70-79</th>        <th class=\"col_heading level0 col26\" >c80-89</th>        <th class=\"col_heading level0 col27\" >c90+</th>        <th class=\"col_heading level0 col28\" >cOnbekend</th>    </tr></thead><tbody>\n",
       "                <tr>\n",
       "                        <th id=\"T_279d1_level0_row0\" class=\"row_heading level0 row0\" >0</th>\n",
       "                        <td id=\"T_279d1_row0_col0\" class=\"data row0 col0\" >p000</td>\n",
       "                        <td id=\"T_279d1_row0_col1\" class=\"data row0 col1\" >0</td>\n",
       "                        <td id=\"T_279d1_row0_col2\" class=\"data row0 col2\" >2021-02-20 00:00:00</td>\n",
       "                        <td id=\"T_279d1_row0_col3\" class=\"data row0 col3\" >14/02-20/02</td>\n",
       "                        <td id=\"T_279d1_row0_col4\" class=\"data row0 col4\" >42.000000</td>\n",
       "                        <td id=\"T_279d1_row0_col5\" class=\"data row0 col5\" >16097.000000</td>\n",
       "                        <td id=\"T_279d1_row0_col6\" class=\"data row0 col6\" >Positief getest</td>\n",
       "                        <td id=\"T_279d1_row0_col7\" class=\"data row0 col7\" >914.000000</td>\n",
       "                        <td id=\"T_279d1_row0_col8\" class=\"data row0 col8\" >1815.000000</td>\n",
       "                        <td id=\"T_279d1_row0_col9\" class=\"data row0 col9\" >2782.000000</td>\n",
       "                        <td id=\"T_279d1_row0_col10\" class=\"data row0 col10\" >2389.000000</td>\n",
       "                        <td id=\"T_279d1_row0_col11\" class=\"data row0 col11\" >2135.000000</td>\n",
       "                        <td id=\"T_279d1_row0_col12\" class=\"data row0 col12\" >2695.000000</td>\n",
       "                        <td id=\"T_279d1_row0_col13\" class=\"data row0 col13\" >1608.000000</td>\n",
       "                        <td id=\"T_279d1_row0_col14\" class=\"data row0 col14\" >898.000000</td>\n",
       "                        <td id=\"T_279d1_row0_col15\" class=\"data row0 col15\" >647.000000</td>\n",
       "                        <td id=\"T_279d1_row0_col16\" class=\"data row0 col16\" >214.000000</td>\n",
       "                        <td id=\"T_279d1_row0_col17\" class=\"data row0 col17\" >0.000000</td>\n",
       "                        <td id=\"T_279d1_row0_col18\" class=\"data row0 col18\" >328</td>\n",
       "                        <td id=\"T_279d1_row0_col19\" class=\"data row0 col19\" >652</td>\n",
       "                        <td id=\"T_279d1_row0_col20\" class=\"data row0 col20\" >1000</td>\n",
       "                        <td id=\"T_279d1_row0_col21\" class=\"data row0 col21\" >858</td>\n",
       "                        <td id=\"T_279d1_row0_col22\" class=\"data row0 col22\" >767</td>\n",
       "                        <td id=\"T_279d1_row0_col23\" class=\"data row0 col23\" >968</td>\n",
       "                        <td id=\"T_279d1_row0_col24\" class=\"data row0 col24\" >578</td>\n",
       "                        <td id=\"T_279d1_row0_col25\" class=\"data row0 col25\" >322</td>\n",
       "                        <td id=\"T_279d1_row0_col26\" class=\"data row0 col26\" >232</td>\n",
       "                        <td id=\"T_279d1_row0_col27\" class=\"data row0 col27\" >76</td>\n",
       "                        <td id=\"T_279d1_row0_col28\" class=\"data row0 col28\" >0</td>\n",
       "            </tr>\n",
       "            <tr>\n",
       "                        <th id=\"T_279d1_level0_row1\" class=\"row_heading level0 row1\" >1</th>\n",
       "                        <td id=\"T_279d1_row1_col0\" class=\"data row1 col0\" >p001</td>\n",
       "                        <td id=\"T_279d1_row1_col1\" class=\"data row1 col1\" >1</td>\n",
       "                        <td id=\"T_279d1_row1_col2\" class=\"data row1 col2\" >2021-02-20 00:00:00</td>\n",
       "                        <td id=\"T_279d1_row1_col3\" class=\"data row1 col3\" >07/02-13/02</td>\n",
       "                        <td id=\"T_279d1_row1_col4\" class=\"data row1 col4\" >43.900000</td>\n",
       "                        <td id=\"T_279d1_row1_col5\" class=\"data row1 col5\" >23171.000000</td>\n",
       "                        <td id=\"T_279d1_row1_col6\" class=\"data row1 col6\" >Positief getest</td>\n",
       "                        <td id=\"T_279d1_row1_col7\" class=\"data row1 col7\" >993.000000</td>\n",
       "                        <td id=\"T_279d1_row1_col8\" class=\"data row1 col8\" >2384.000000</td>\n",
       "                        <td id=\"T_279d1_row1_col9\" class=\"data row1 col9\" >3755.000000</td>\n",
       "                        <td id=\"T_279d1_row1_col10\" class=\"data row1 col10\" >3343.000000</td>\n",
       "                        <td id=\"T_279d1_row1_col11\" class=\"data row1 col11\" >3186.000000</td>\n",
       "                        <td id=\"T_279d1_row1_col12\" class=\"data row1 col12\" >4188.000000</td>\n",
       "                        <td id=\"T_279d1_row1_col13\" class=\"data row1 col13\" >2531.000000</td>\n",
       "                        <td id=\"T_279d1_row1_col14\" class=\"data row1 col14\" >1353.000000</td>\n",
       "                        <td id=\"T_279d1_row1_col15\" class=\"data row1 col15\" >1080.000000</td>\n",
       "                        <td id=\"T_279d1_row1_col16\" class=\"data row1 col16\" >356.000000</td>\n",
       "                        <td id=\"T_279d1_row1_col17\" class=\"data row1 col17\" >2.000000</td>\n",
       "                        <td id=\"T_279d1_row1_col18\" class=\"data row1 col18\" >237</td>\n",
       "                        <td id=\"T_279d1_row1_col19\" class=\"data row1 col19\" >569</td>\n",
       "                        <td id=\"T_279d1_row1_col20\" class=\"data row1 col20\" >896</td>\n",
       "                        <td id=\"T_279d1_row1_col21\" class=\"data row1 col21\" >798</td>\n",
       "                        <td id=\"T_279d1_row1_col22\" class=\"data row1 col22\" >760</td>\n",
       "                        <td id=\"T_279d1_row1_col23\" class=\"data row1 col23\" >1000</td>\n",
       "                        <td id=\"T_279d1_row1_col24\" class=\"data row1 col24\" >604</td>\n",
       "                        <td id=\"T_279d1_row1_col25\" class=\"data row1 col25\" >323</td>\n",
       "                        <td id=\"T_279d1_row1_col26\" class=\"data row1 col26\" >257</td>\n",
       "                        <td id=\"T_279d1_row1_col27\" class=\"data row1 col27\" >85</td>\n",
       "                        <td id=\"T_279d1_row1_col28\" class=\"data row1 col28\" >0</td>\n",
       "            </tr>\n",
       "            <tr>\n",
       "                        <th id=\"T_279d1_level0_row2\" class=\"row_heading level0 row2\" >2</th>\n",
       "                        <td id=\"T_279d1_row2_col0\" class=\"data row2 col0\" >p002</td>\n",
       "                        <td id=\"T_279d1_row2_col1\" class=\"data row2 col1\" >2</td>\n",
       "                        <td id=\"T_279d1_row2_col2\" class=\"data row2 col2\" >2021-02-20 00:00:00</td>\n",
       "                        <td id=\"T_279d1_row2_col3\" class=\"data row2 col3\" >31/01-06/02</td>\n",
       "                        <td id=\"T_279d1_row2_col4\" class=\"data row2 col4\" >44.500000</td>\n",
       "                        <td id=\"T_279d1_row2_col5\" class=\"data row2 col5\" >25569.000000</td>\n",
       "                        <td id=\"T_279d1_row2_col6\" class=\"data row2 col6\" >Positief getest</td>\n",
       "                        <td id=\"T_279d1_row2_col7\" class=\"data row2 col7\" >1034.000000</td>\n",
       "                        <td id=\"T_279d1_row2_col8\" class=\"data row2 col8\" >2628.000000</td>\n",
       "                        <td id=\"T_279d1_row2_col9\" class=\"data row2 col9\" >4090.000000</td>\n",
       "                        <td id=\"T_279d1_row2_col10\" class=\"data row2 col10\" >3507.000000</td>\n",
       "                        <td id=\"T_279d1_row2_col11\" class=\"data row2 col11\" >3547.000000</td>\n",
       "                        <td id=\"T_279d1_row2_col12\" class=\"data row2 col12\" >4580.000000</td>\n",
       "                        <td id=\"T_279d1_row2_col13\" class=\"data row2 col13\" >2856.000000</td>\n",
       "                        <td id=\"T_279d1_row2_col14\" class=\"data row2 col14\" >1581.000000</td>\n",
       "                        <td id=\"T_279d1_row2_col15\" class=\"data row2 col15\" >1277.000000</td>\n",
       "                        <td id=\"T_279d1_row2_col16\" class=\"data row2 col16\" >468.000000</td>\n",
       "                        <td id=\"T_279d1_row2_col17\" class=\"data row2 col17\" >1.000000</td>\n",
       "                        <td id=\"T_279d1_row2_col18\" class=\"data row2 col18\" >225</td>\n",
       "                        <td id=\"T_279d1_row2_col19\" class=\"data row2 col19\" >573</td>\n",
       "                        <td id=\"T_279d1_row2_col20\" class=\"data row2 col20\" >893</td>\n",
       "                        <td id=\"T_279d1_row2_col21\" class=\"data row2 col21\" >765</td>\n",
       "                        <td id=\"T_279d1_row2_col22\" class=\"data row2 col22\" >774</td>\n",
       "                        <td id=\"T_279d1_row2_col23\" class=\"data row2 col23\" >1000</td>\n",
       "                        <td id=\"T_279d1_row2_col24\" class=\"data row2 col24\" >623</td>\n",
       "                        <td id=\"T_279d1_row2_col25\" class=\"data row2 col25\" >345</td>\n",
       "                        <td id=\"T_279d1_row2_col26\" class=\"data row2 col26\" >278</td>\n",
       "                        <td id=\"T_279d1_row2_col27\" class=\"data row2 col27\" >102</td>\n",
       "                        <td id=\"T_279d1_row2_col28\" class=\"data row2 col28\" >0</td>\n",
       "            </tr>\n",
       "            <tr>\n",
       "                        <th id=\"T_279d1_level0_row3\" class=\"row_heading level0 row3\" >3</th>\n",
       "                        <td id=\"T_279d1_row3_col0\" class=\"data row3 col0\" >p003</td>\n",
       "                        <td id=\"T_279d1_row3_col1\" class=\"data row3 col1\" >3</td>\n",
       "                        <td id=\"T_279d1_row3_col2\" class=\"data row3 col2\" >2021-02-20 00:00:00</td>\n",
       "                        <td id=\"T_279d1_row3_col3\" class=\"data row3 col3\" >24/01-30/01</td>\n",
       "                        <td id=\"T_279d1_row3_col4\" class=\"data row3 col4\" >44.900000</td>\n",
       "                        <td id=\"T_279d1_row3_col5\" class=\"data row3 col5\" >27972.000000</td>\n",
       "                        <td id=\"T_279d1_row3_col6\" class=\"data row3 col6\" >Positief getest</td>\n",
       "                        <td id=\"T_279d1_row3_col7\" class=\"data row3 col7\" >855.000000</td>\n",
       "                        <td id=\"T_279d1_row3_col8\" class=\"data row3 col8\" >2880.000000</td>\n",
       "                        <td id=\"T_279d1_row3_col9\" class=\"data row3 col9\" >4611.000000</td>\n",
       "                        <td id=\"T_279d1_row3_col10\" class=\"data row3 col10\" >3810.000000</td>\n",
       "                        <td id=\"T_279d1_row3_col11\" class=\"data row3 col11\" >3901.000000</td>\n",
       "                        <td id=\"T_279d1_row3_col12\" class=\"data row3 col12\" >5084.000000</td>\n",
       "                        <td id=\"T_279d1_row3_col13\" class=\"data row3 col13\" >3186.000000</td>\n",
       "                        <td id=\"T_279d1_row3_col14\" class=\"data row3 col14\" >1790.000000</td>\n",
       "                        <td id=\"T_279d1_row3_col15\" class=\"data row3 col15\" >1368.000000</td>\n",
       "                        <td id=\"T_279d1_row3_col16\" class=\"data row3 col16\" >485.000000</td>\n",
       "                        <td id=\"T_279d1_row3_col17\" class=\"data row3 col17\" >2.000000</td>\n",
       "                        <td id=\"T_279d1_row3_col18\" class=\"data row3 col18\" >168</td>\n",
       "                        <td id=\"T_279d1_row3_col19\" class=\"data row3 col19\" >566</td>\n",
       "                        <td id=\"T_279d1_row3_col20\" class=\"data row3 col20\" >906</td>\n",
       "                        <td id=\"T_279d1_row3_col21\" class=\"data row3 col21\" >749</td>\n",
       "                        <td id=\"T_279d1_row3_col22\" class=\"data row3 col22\" >767</td>\n",
       "                        <td id=\"T_279d1_row3_col23\" class=\"data row3 col23\" >1000</td>\n",
       "                        <td id=\"T_279d1_row3_col24\" class=\"data row3 col24\" >626</td>\n",
       "                        <td id=\"T_279d1_row3_col25\" class=\"data row3 col25\" >352</td>\n",
       "                        <td id=\"T_279d1_row3_col26\" class=\"data row3 col26\" >269</td>\n",
       "                        <td id=\"T_279d1_row3_col27\" class=\"data row3 col27\" >95</td>\n",
       "                        <td id=\"T_279d1_row3_col28\" class=\"data row3 col28\" >0</td>\n",
       "            </tr>\n",
       "            <tr>\n",
       "                        <th id=\"T_279d1_level0_row4\" class=\"row_heading level0 row4\" >4</th>\n",
       "                        <td id=\"T_279d1_row4_col0\" class=\"data row4 col0\" >p004</td>\n",
       "                        <td id=\"T_279d1_row4_col1\" class=\"data row4 col1\" >4</td>\n",
       "                        <td id=\"T_279d1_row4_col2\" class=\"data row4 col2\" >2021-02-20 00:00:00</td>\n",
       "                        <td id=\"T_279d1_row4_col3\" class=\"data row4 col3\" >17/01-23/01</td>\n",
       "                        <td id=\"T_279d1_row4_col4\" class=\"data row4 col4\" >45.000000</td>\n",
       "                        <td id=\"T_279d1_row4_col5\" class=\"data row4 col5\" >34239.000000</td>\n",
       "                        <td id=\"T_279d1_row4_col6\" class=\"data row4 col6\" >Positief getest</td>\n",
       "                        <td id=\"T_279d1_row4_col7\" class=\"data row4 col7\" >846.000000</td>\n",
       "                        <td id=\"T_279d1_row4_col8\" class=\"data row4 col8\" >3564.000000</td>\n",
       "                        <td id=\"T_279d1_row4_col9\" class=\"data row4 col9\" >5741.000000</td>\n",
       "                        <td id=\"T_279d1_row4_col10\" class=\"data row4 col10\" >4754.000000</td>\n",
       "                        <td id=\"T_279d1_row4_col11\" class=\"data row4 col11\" >4710.000000</td>\n",
       "                        <td id=\"T_279d1_row4_col12\" class=\"data row4 col12\" >6277.000000</td>\n",
       "                        <td id=\"T_279d1_row4_col13\" class=\"data row4 col13\" >3931.000000</td>\n",
       "                        <td id=\"T_279d1_row4_col14\" class=\"data row4 col14\" >2194.000000</td>\n",
       "                        <td id=\"T_279d1_row4_col15\" class=\"data row4 col15\" >1642.000000</td>\n",
       "                        <td id=\"T_279d1_row4_col16\" class=\"data row4 col16\" >576.000000</td>\n",
       "                        <td id=\"T_279d1_row4_col17\" class=\"data row4 col17\" >4.000000</td>\n",
       "                        <td id=\"T_279d1_row4_col18\" class=\"data row4 col18\" >134</td>\n",
       "                        <td id=\"T_279d1_row4_col19\" class=\"data row4 col19\" >567</td>\n",
       "                        <td id=\"T_279d1_row4_col20\" class=\"data row4 col20\" >914</td>\n",
       "                        <td id=\"T_279d1_row4_col21\" class=\"data row4 col21\" >757</td>\n",
       "                        <td id=\"T_279d1_row4_col22\" class=\"data row4 col22\" >750</td>\n",
       "                        <td id=\"T_279d1_row4_col23\" class=\"data row4 col23\" >1000</td>\n",
       "                        <td id=\"T_279d1_row4_col24\" class=\"data row4 col24\" >626</td>\n",
       "                        <td id=\"T_279d1_row4_col25\" class=\"data row4 col25\" >349</td>\n",
       "                        <td id=\"T_279d1_row4_col26\" class=\"data row4 col26\" >261</td>\n",
       "                        <td id=\"T_279d1_row4_col27\" class=\"data row4 col27\" >91</td>\n",
       "                        <td id=\"T_279d1_row4_col28\" class=\"data row4 col28\" >0</td>\n",
       "            </tr>\n",
       "    </tbody></table>"
      ],
      "text/plain": [
       "<pandas.io.formats.style.Styler at 0x7fb0de6c3c40>"
      ]
     },
     "metadata": {},
     "output_type": "display_data"
    }
   ],
   "source": [
    "# Bereken de stand van zaken van besmettingen / hospitalisaties / overlijden, per cohort in absolute aantallen en aantallen per 100k, met een kleur indicator voor de aantallen.\n",
    "# vervang <50 en Unknown door Onbekend\n",
    "@run\n",
    "def cell():\n",
    "  rivm['Cohort'] = rivm['Agegroup'].replace({'<50': 'Onbekend', 'Unknown': 'Onbekend'})\n",
    "  # aangenomen 'gemiddelde' leeftijd van een cohort: minimum waarde + 5\n",
    "  assumed_cohort_age = [(cohort, [int(n) for n in cohort.replace('+', '').split('-')]) for cohort in rivm['Cohort'].unique() if cohort[0].isdigit()]\n",
    "  assumed_cohort_age = { cohort: min(rng) + 5 for cohort, rng in assumed_cohort_age }\n",
    "  rivm['Gemiddelde leeftijd'] = rivm['Cohort'].apply(lambda x: assumed_cohort_age.get(x, np.nan))\n",
    "\n",
    "  # verwijder tijd\n",
    "  rivm['Date_file_date'] = pd.to_datetime(rivm['Date_file'].replace(r' .*', '', regex=True))\n",
    "\n",
    "  rivm['Date_statistics_date'] = pd.to_datetime(rivm['Date_statistics'])\n",
    "\n",
    "  # weken terug = verschil tussen Date_file en Date_statistcs, gedeeld door 7 dagen\n",
    "  rivm['Weken terug'] = np.floor((rivm['Date_file_date'] - rivm['Date_statistics_date'])/np.timedelta64(7, 'D')).astype(int)\n",
    "\n",
    "  # voeg key, gem leeftijd, kleurnummer en totaal toe\n",
    "  Date_file = rivm['Date_file_date'].unique()[0].astype('M8[D]').astype('O')\n",
    "  cohorten = list(bevolking.index) + ['Onbekend']\n",
    "  def summarize(df, category, prefix):\n",
    "    # aangezien we hier de dataframe in-place wijzigen (bijv door toevoegen kolommen)\n",
    "    # en we het 'rivm' frame later nog clean nodig hebben\n",
    "    df = df.copy(deep=True)\n",
    "\n",
    "    df = (df\n",
    "          .groupby(['Weken terug', 'Cohort'])['count']\n",
    "          .sum()\n",
    "          .unstack(fill_value=np.nan)\n",
    "          .reset_index()\n",
    "          .rename_axis(None, axis=1)\n",
    "        ).merge(df\n",
    "          # we voegen hier gemiddelde leeftijd toe, want die willen we op een ander\n",
    "          # niveau aggregeren voor 'df' overschreven word\n",
    "          .groupby(['Weken terug'])['Gemiddelde leeftijd']\n",
    "          .mean()\n",
    "          .to_frame(), on='Weken terug'\n",
    "        )\n",
    "\n",
    "    # altijd 52 rijen\n",
    "    df = pd.Series(np.arange(52), name='Weken terug').to_frame().merge(df, how='left', on='Weken terug')\n",
    "\n",
    "    # toevoegen missende cohorten\n",
    "    for col in cohorten:\n",
    "      if not col in df:\n",
    "        df[col] = np.nan\n",
    "\n",
    "    # sommeer per rij (axis=1) over de cohorten om een totaal te krijgen\n",
    "    df['Totaal'] = df[cohorten].sum(axis=1)\n",
    "\n",
    "    # voeg periode en datum toe\n",
    "    # periode afgeleid van weken-terug (= de index voor deze dataframe)\n",
    "    df['Datum'] = pd.to_datetime(Date_file)\n",
    "    df['Periode'] = (df\n",
    "      .index.to_series()\n",
    "      .apply(\n",
    "        lambda x: (\n",
    "          (Date_file + datetime.timedelta(weeks=-(x+1), days=1)).strftime('%d/%m')\n",
    "          + '-'\n",
    "          + (Date_file + datetime.timedelta(weeks=-x)).strftime('%d/%m')\n",
    "        )\n",
    "      )\n",
    "    )\n",
    "\n",
    "    # voeg 'Key' en 'Type' kolom toe. Variabele 'type' kan niet, is een language primitive.\n",
    "    df['Key'] = prefix + df.index.astype(str).str.rjust(3, fillchar='0')\n",
    "    df['Type'] = category\n",
    "\n",
    "    # voeg de kleur kolommen toe\n",
    "    for col in cohorten:\n",
    "      df['c' + col] = ((df[col] / df[[col for col in cohorten]].max(axis=1)) * 1000).fillna(0).astype(int)\n",
    "\n",
    "    # herschikken van de kolommen\n",
    "    colorder = ['Key', 'Weken terug', 'Datum', 'Periode', 'Gemiddelde leeftijd', 'Totaal', 'Type']\n",
    "    return df[colorder + [col for col in df if col not in colorder]]\n",
    "\n",
    "  factor = bevolking.to_dict()['per 100k']\n",
    "  global tabel\n",
    "  tabel = pd.concat(\n",
    "    # flatten the result list zodat pd.concat ze onder elkaar kan plakken\n",
    "    functools.reduce(lambda a, b: a + b, [\n",
    "      [summarize(df.assign(count=1), label, prefix), summarize(df.assign(count=df['Cohort'].apply(lambda x: factor.get(x, np.nan))), label + ' per 100.000', prefix + '100k')]\n",
    "      for df, label, prefix in [\n",
    "        (rivm, 'Positief getest', 'p'), # volledige count per cohort\n",
    "        (rivm[rivm.Hospital_admission == 'Yes'], 'Ziekenhuisopname', 'h'), # count van cohort voor Hospital_admission == 'Yes'\n",
    "        (rivm[rivm.Deceased == 'Yes'], 'Overleden', 'd'), # count van cohort voor Deceased == 'Yes'\n",
    "      ]\n",
    "    ])\n",
    "  )\n",
    "\n",
    "  # rood -> groen\n",
    "  cdict = {\n",
    "    'red':   ((0.0, 0.0, 0.0),   # no red at 0\n",
    "              (0.5, 1.0, 1.0),   # all channels set to 1.0 at 0.5 to create white\n",
    "              (1.0, 0.8, 0.8)),  # set to 0.8 so its not too bright at 1\n",
    "    'green': ((0.0, 0.8, 0.8),   # set to 0.8 so its not too bright at 0\n",
    "              (0.5, 1.0, 1.0),   # all channels set to 1.0 at 0.5 to create white\n",
    "              (1.0, 0.0, 0.0)),  # no green at 1\n",
    "    'blue':  ((0.0, 0.0, 0.0),   # no blue at 0\n",
    "              (0.5, 1.0, 1.0),   # all channels set to 1.0 at 0.5 to create white\n",
    "              (1.0, 0.0, 0.0))   # no blue at 1\n",
    "  }\n",
    "  cm = colors.LinearSegmentedColormap('GnRd', cdict)\n",
    "  # geel -> paars\n",
    "  cm = sns.color_palette('viridis_r', as_cmap=True)\n",
    "  display(tabel\n",
    "    .fillna(0)\n",
    "    .head()\n",
    "    .round(1)\n",
    "    .reset_index(drop=True)\n",
    "    .style.background_gradient(cmap=cm, axis=1, subset=cohorten)\n",
    "  )"
   ]
  },
  {
   "cell_type": "markdown",
   "id": "former-convention",
   "metadata": {
    "lines_to_next_cell": 0,
    "papermill": {
     "duration": 0.007408,
     "end_time": "2021-02-20T14:32:46.593569",
     "exception": false,
     "start_time": "2021-02-20T14:32:46.586161",
     "status": "completed"
    },
    "tags": []
   },
   "source": [
    "Publiceer de berekende statistieken indien we op github draaien\n"
   ]
  },
  {
   "cell_type": "code",
   "execution_count": 5,
   "id": "above-crest",
   "metadata": {
    "execution": {
     "iopub.execute_input": "2021-02-20T14:32:46.611854Z",
     "iopub.status.busy": "2021-02-20T14:32:46.610852Z",
     "iopub.status.idle": "2021-02-20T14:33:21.099278Z",
     "shell.execute_reply": "2021-02-20T14:33:21.097547Z"
    },
    "papermill": {
     "duration": 34.499121,
     "end_time": "2021-02-20T14:33:21.099416",
     "exception": false,
     "start_time": "2021-02-20T14:32:46.600295",
     "status": "completed"
    },
    "tags": []
   },
   "outputs": [
    {
     "name": "stderr",
     "output_type": "stream",
     "text": [
      "\r",
      "  0%|          | 0/126 [00:00<?, ?it/s]"
     ]
    },
    {
     "name": "stderr",
     "output_type": "stream",
     "text": [
      "\r",
      "  1%|          | 1/126 [00:00<01:50,  1.13it/s]"
     ]
    },
    {
     "name": "stderr",
     "output_type": "stream",
     "text": [
      "\r",
      "  5%|▍         | 6/126 [00:01<00:15,  7.72it/s]"
     ]
    },
    {
     "name": "stderr",
     "output_type": "stream",
     "text": [
      "\r",
      "  7%|▋         | 9/126 [00:01<00:16,  7.18it/s]"
     ]
    },
    {
     "name": "stderr",
     "output_type": "stream",
     "text": [
      "\r",
      "  9%|▊         | 11/126 [00:01<00:18,  6.32it/s]"
     ]
    },
    {
     "name": "stderr",
     "output_type": "stream",
     "text": [
      "\r",
      " 11%|█         | 14/126 [00:02<00:16,  6.91it/s]"
     ]
    },
    {
     "name": "stderr",
     "output_type": "stream",
     "text": [
      "\r",
      " 13%|█▎        | 16/126 [00:02<00:17,  6.44it/s]"
     ]
    },
    {
     "name": "stderr",
     "output_type": "stream",
     "text": [
      "\r",
      " 14%|█▍        | 18/126 [00:02<00:14,  7.33it/s]"
     ]
    },
    {
     "name": "stderr",
     "output_type": "stream",
     "text": [
      "\r",
      " 15%|█▌        | 19/126 [00:02<00:14,  7.35it/s]"
     ]
    },
    {
     "name": "stderr",
     "output_type": "stream",
     "text": [
      "\r",
      " 17%|█▋        | 21/126 [00:03<00:15,  6.89it/s]"
     ]
    },
    {
     "name": "stderr",
     "output_type": "stream",
     "text": [
      "\r",
      " 17%|█▋        | 22/126 [00:03<00:17,  5.94it/s]"
     ]
    },
    {
     "name": "stderr",
     "output_type": "stream",
     "text": [
      "\r",
      " 18%|█▊        | 23/126 [00:03<00:16,  6.29it/s]"
     ]
    },
    {
     "name": "stderr",
     "output_type": "stream",
     "text": [
      "\r",
      " 21%|██        | 26/126 [00:03<00:13,  7.27it/s]"
     ]
    },
    {
     "name": "stderr",
     "output_type": "stream",
     "text": [
      "\r",
      " 22%|██▏       | 28/126 [00:04<00:11,  8.90it/s]"
     ]
    },
    {
     "name": "stderr",
     "output_type": "stream",
     "text": [
      "\r",
      " 24%|██▍       | 30/126 [00:04<00:12,  7.54it/s]"
     ]
    },
    {
     "name": "stderr",
     "output_type": "stream",
     "text": [
      "\r",
      " 25%|██▍       | 31/126 [00:04<00:14,  6.71it/s]"
     ]
    },
    {
     "name": "stderr",
     "output_type": "stream",
     "text": [
      "\r",
      " 25%|██▌       | 32/126 [00:04<00:15,  6.18it/s]"
     ]
    },
    {
     "name": "stderr",
     "output_type": "stream",
     "text": [
      "\r",
      " 27%|██▋       | 34/126 [00:05<00:15,  5.89it/s]"
     ]
    },
    {
     "name": "stderr",
     "output_type": "stream",
     "text": [
      "\r",
      " 29%|██▊       | 36/126 [00:05<00:15,  5.63it/s]"
     ]
    },
    {
     "name": "stderr",
     "output_type": "stream",
     "text": [
      "\r",
      " 29%|██▉       | 37/126 [00:05<00:16,  5.25it/s]"
     ]
    },
    {
     "name": "stderr",
     "output_type": "stream",
     "text": [
      "\r",
      " 32%|███▏      | 40/126 [00:06<00:11,  7.46it/s]"
     ]
    },
    {
     "name": "stderr",
     "output_type": "stream",
     "text": [
      "\r",
      " 33%|███▎      | 41/126 [00:06<00:11,  7.43it/s]"
     ]
    },
    {
     "name": "stderr",
     "output_type": "stream",
     "text": [
      "\r",
      " 34%|███▍      | 43/126 [00:06<00:13,  6.23it/s]"
     ]
    },
    {
     "name": "stderr",
     "output_type": "stream",
     "text": [
      "\r",
      " 37%|███▋      | 47/126 [00:06<00:09,  8.27it/s]"
     ]
    },
    {
     "name": "stderr",
     "output_type": "stream",
     "text": [
      "\r",
      " 39%|███▉      | 49/126 [00:07<00:09,  8.42it/s]"
     ]
    },
    {
     "name": "stderr",
     "output_type": "stream",
     "text": [
      "\r",
      " 40%|████      | 51/126 [00:07<00:11,  6.34it/s]"
     ]
    },
    {
     "name": "stderr",
     "output_type": "stream",
     "text": [
      "\r",
      " 41%|████▏     | 52/126 [00:07<00:12,  5.77it/s]"
     ]
    },
    {
     "name": "stderr",
     "output_type": "stream",
     "text": [
      "\r",
      " 43%|████▎     | 54/126 [00:08<00:11,  6.42it/s]"
     ]
    },
    {
     "name": "stderr",
     "output_type": "stream",
     "text": [
      "\r",
      " 45%|████▌     | 57/126 [00:08<00:08,  8.10it/s]"
     ]
    },
    {
     "name": "stderr",
     "output_type": "stream",
     "text": [
      "\r",
      " 47%|████▋     | 59/126 [00:08<00:08,  7.99it/s]"
     ]
    },
    {
     "name": "stderr",
     "output_type": "stream",
     "text": [
      "\r",
      " 48%|████▊     | 60/126 [00:08<00:08,  7.49it/s]"
     ]
    },
    {
     "name": "stderr",
     "output_type": "stream",
     "text": [
      "\r",
      " 48%|████▊     | 61/126 [00:09<00:08,  7.36it/s]"
     ]
    },
    {
     "name": "stderr",
     "output_type": "stream",
     "text": [
      "\r",
      " 50%|█████     | 63/126 [00:09<00:08,  7.47it/s]"
     ]
    },
    {
     "name": "stderr",
     "output_type": "stream",
     "text": [
      "\r",
      " 52%|█████▏    | 65/126 [00:09<00:06,  8.72it/s]"
     ]
    },
    {
     "name": "stderr",
     "output_type": "stream",
     "text": [
      "\r",
      " 52%|█████▏    | 66/126 [00:09<00:06,  8.61it/s]"
     ]
    },
    {
     "name": "stderr",
     "output_type": "stream",
     "text": [
      "\r",
      " 53%|█████▎    | 67/126 [00:09<00:08,  6.89it/s]"
     ]
    },
    {
     "name": "stderr",
     "output_type": "stream",
     "text": [
      "\r",
      " 54%|█████▍    | 68/126 [00:09<00:09,  6.31it/s]"
     ]
    },
    {
     "name": "stderr",
     "output_type": "stream",
     "text": [
      "\r",
      " 55%|█████▍    | 69/126 [00:10<00:08,  6.91it/s]"
     ]
    },
    {
     "name": "stderr",
     "output_type": "stream",
     "text": [
      "\r",
      " 56%|█████▋    | 71/126 [00:10<00:07,  7.37it/s]"
     ]
    },
    {
     "name": "stderr",
     "output_type": "stream",
     "text": [
      "\r",
      " 57%|█████▋    | 72/126 [00:10<00:07,  7.14it/s]"
     ]
    },
    {
     "name": "stderr",
     "output_type": "stream",
     "text": [
      "\r",
      " 58%|█████▊    | 73/126 [00:10<00:06,  7.58it/s]"
     ]
    },
    {
     "name": "stderr",
     "output_type": "stream",
     "text": [
      "\r",
      " 60%|█████▉    | 75/126 [00:10<00:05,  9.38it/s]"
     ]
    },
    {
     "name": "stderr",
     "output_type": "stream",
     "text": [
      "\r",
      " 60%|██████    | 76/126 [00:10<00:06,  7.66it/s]"
     ]
    },
    {
     "name": "stderr",
     "output_type": "stream",
     "text": [
      "\r",
      " 62%|██████▏   | 78/126 [00:11<00:05,  8.15it/s]"
     ]
    },
    {
     "name": "stderr",
     "output_type": "stream",
     "text": [
      "\r",
      " 63%|██████▎   | 79/126 [00:11<00:07,  6.19it/s]"
     ]
    },
    {
     "name": "stderr",
     "output_type": "stream",
     "text": [
      "\r",
      " 64%|██████▍   | 81/126 [00:11<00:07,  6.40it/s]"
     ]
    },
    {
     "name": "stderr",
     "output_type": "stream",
     "text": [
      "\r",
      " 65%|██████▌   | 82/126 [00:11<00:07,  6.14it/s]"
     ]
    },
    {
     "name": "stderr",
     "output_type": "stream",
     "text": [
      "\r",
      " 66%|██████▌   | 83/126 [00:12<00:06,  6.18it/s]"
     ]
    },
    {
     "name": "stderr",
     "output_type": "stream",
     "text": [
      "\r",
      " 68%|██████▊   | 86/126 [00:12<00:07,  5.32it/s]"
     ]
    },
    {
     "name": "stderr",
     "output_type": "stream",
     "text": [
      "\r",
      " 71%|███████▏  | 90/126 [00:12<00:04,  8.46it/s]"
     ]
    },
    {
     "name": "stderr",
     "output_type": "stream",
     "text": [
      "\r",
      " 73%|███████▎  | 92/126 [00:13<00:04,  7.93it/s]"
     ]
    },
    {
     "name": "stderr",
     "output_type": "stream",
     "text": [
      "\r",
      " 74%|███████▍  | 93/126 [00:13<00:04,  7.17it/s]"
     ]
    },
    {
     "name": "stderr",
     "output_type": "stream",
     "text": [
      "\r",
      " 75%|███████▍  | 94/126 [00:13<00:04,  7.33it/s]"
     ]
    },
    {
     "name": "stderr",
     "output_type": "stream",
     "text": [
      "\r",
      " 75%|███████▌  | 95/126 [00:13<00:04,  7.11it/s]"
     ]
    },
    {
     "name": "stderr",
     "output_type": "stream",
     "text": [
      "\r",
      " 76%|███████▌  | 96/126 [00:14<00:05,  5.35it/s]"
     ]
    },
    {
     "name": "stderr",
     "output_type": "stream",
     "text": [
      "\r",
      " 78%|███████▊  | 98/126 [00:14<00:04,  6.28it/s]"
     ]
    },
    {
     "name": "stderr",
     "output_type": "stream",
     "text": [
      "\r",
      " 80%|████████  | 101/126 [00:14<00:03,  7.99it/s]"
     ]
    },
    {
     "name": "stderr",
     "output_type": "stream",
     "text": [
      "\r",
      " 81%|████████  | 102/126 [00:14<00:03,  6.85it/s]"
     ]
    },
    {
     "name": "stderr",
     "output_type": "stream",
     "text": [
      "\r",
      " 83%|████████▎ | 104/126 [00:14<00:02,  8.13it/s]"
     ]
    },
    {
     "name": "stderr",
     "output_type": "stream",
     "text": [
      "\r",
      " 83%|████████▎ | 105/126 [00:15<00:03,  6.37it/s]"
     ]
    },
    {
     "name": "stderr",
     "output_type": "stream",
     "text": [
      "\r",
      " 84%|████████▍ | 106/126 [00:15<00:03,  6.36it/s]"
     ]
    },
    {
     "name": "stderr",
     "output_type": "stream",
     "text": [
      "\r",
      " 86%|████████▌ | 108/126 [00:15<00:02,  7.19it/s]"
     ]
    },
    {
     "name": "stderr",
     "output_type": "stream",
     "text": [
      "\r",
      " 87%|████████▋ | 109/126 [00:15<00:02,  6.87it/s]"
     ]
    },
    {
     "name": "stderr",
     "output_type": "stream",
     "text": [
      "\r",
      " 88%|████████▊ | 111/126 [00:16<00:02,  5.50it/s]"
     ]
    },
    {
     "name": "stderr",
     "output_type": "stream",
     "text": [
      "\r",
      " 89%|████████▉ | 112/126 [00:16<00:02,  5.75it/s]"
     ]
    },
    {
     "name": "stderr",
     "output_type": "stream",
     "text": [
      "\r",
      " 90%|████████▉ | 113/126 [00:16<00:02,  5.05it/s]"
     ]
    },
    {
     "name": "stderr",
     "output_type": "stream",
     "text": [
      "\r",
      " 91%|█████████▏| 115/126 [00:16<00:01,  6.47it/s]"
     ]
    },
    {
     "name": "stderr",
     "output_type": "stream",
     "text": [
      "\r",
      " 94%|█████████▎| 118/126 [00:17<00:00,  9.53it/s]"
     ]
    },
    {
     "name": "stderr",
     "output_type": "stream",
     "text": [
      "\r",
      " 95%|█████████▌| 120/126 [00:17<00:00,  6.66it/s]"
     ]
    },
    {
     "name": "stderr",
     "output_type": "stream",
     "text": [
      "\r",
      " 96%|█████████▌| 121/126 [00:17<00:00,  6.36it/s]"
     ]
    },
    {
     "name": "stderr",
     "output_type": "stream",
     "text": [
      "\r",
      " 97%|█████████▋| 122/126 [00:17<00:00,  6.72it/s]"
     ]
    },
    {
     "name": "stderr",
     "output_type": "stream",
     "text": [
      "\r",
      " 98%|█████████▊| 123/126 [00:18<00:00,  5.42it/s]"
     ]
    },
    {
     "name": "stderr",
     "output_type": "stream",
     "text": [
      "\r",
      " 98%|█████████▊| 124/126 [00:18<00:00,  4.29it/s]"
     ]
    },
    {
     "name": "stderr",
     "output_type": "stream",
     "text": [
      "\r",
      " 99%|█████████▉| 125/126 [00:19<00:00,  2.99it/s]"
     ]
    },
    {
     "name": "stderr",
     "output_type": "stream",
     "text": [
      "\r",
      "100%|██████████| 126/126 [00:21<00:00,  1.03it/s]"
     ]
    },
    {
     "name": "stderr",
     "output_type": "stream",
     "text": [
      "\r",
      "100%|██████████| 126/126 [00:21<00:00,  5.76it/s]"
     ]
    },
    {
     "name": "stderr",
     "output_type": "stream",
     "text": [
      "\n"
     ]
    },
    {
     "name": "stdout",
     "output_type": "stream",
     "text": [
      "\n",
      "rate limit: 7 \n",
      "API calls: create: 0, read: 1, update: 126, delete: 0, backoff: 0\n",
      "errors:\n",
      "  503: Service Unavailable: 2\n"
     ]
    },
    {
     "name": "stderr",
     "output_type": "stream",
     "text": [
      "\r",
      "  0%|          | 0/1 [00:00<?, ?it/s]"
     ]
    },
    {
     "name": "stderr",
     "output_type": "stream",
     "text": [
      "\r",
      "100%|██████████| 1/1 [00:00<00:00,  1.22it/s]"
     ]
    },
    {
     "name": "stderr",
     "output_type": "stream",
     "text": [
      "\r",
      "100%|██████████| 1/1 [00:00<00:00,  1.21it/s]"
     ]
    },
    {
     "name": "stdout",
     "output_type": "stream",
     "text": [
      "\n",
      "rate limit: 7 \n",
      "API calls: create: 0, read: 1, update: 1, delete: 0, backoff: 0\n"
     ]
    },
    {
     "name": "stderr",
     "output_type": "stream",
     "text": [
      "\n"
     ]
    }
   ],
   "source": [
    "# publish\n",
    "async def publish():\n",
    "  df=tabel.fillna(0).assign(Datum=tabel.Datum.dt.strftime('%Y-%m-%d'))\n",
    "\n",
    "  os.makedirs('artifacts', exist_ok = True)\n",
    "  df.to_csv('artifacts/LeeftijdsgroepenLandelijk.csv', index=False)\n",
    "\n",
    "  if knack:\n",
    "    await knack.update(objectName='Leeftijdsgroep', df=df, slack=Munch(msg='\\n'.join(Cache.actions), emoji=None))\n",
    "    await knack.timestamps('Leeftijdsgroepen', Cache.timestamps)\n",
    "await publish()"
   ]
  }
 ],
 "metadata": {
  "jupytext": {
   "cell_metadata_filter": "title,-all"
  },
  "kernelspec": {
   "display_name": "Python 3",
   "language": "python",
   "name": "python3"
  },
  "language_info": {
   "codemirror_mode": {
    "name": "ipython",
    "version": 3
   },
   "file_extension": ".py",
   "mimetype": "text/x-python",
   "name": "python",
   "nbconvert_exporter": "python",
   "pygments_lexer": "ipython3",
   "version": "3.9.1"
  },
  "papermill": {
   "default_parameters": {},
   "duration": 218.274072,
   "end_time": "2021-02-20T14:33:22.429249",
   "environment_variables": {},
   "exception": null,
   "input_path": "-",
   "output_path": "LeeftijdsgroepenLandelijk.ipynb",
   "parameters": {},
   "start_time": "2021-02-20T14:29:44.155177",
   "version": "2.3.2"
  }
 },
 "nbformat": 4,
 "nbformat_minor": 5
}