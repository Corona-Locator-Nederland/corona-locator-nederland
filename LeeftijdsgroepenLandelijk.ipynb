{
 "cells": [
  {
   "cell_type": "code",
   "execution_count": 1,
   "id": "af348b5f",
   "metadata": {
    "execution": {
     "iopub.execute_input": "2021-09-10T09:14:56.388699Z",
     "iopub.status.busy": "2021-09-10T09:14:56.388097Z",
     "iopub.status.idle": "2021-09-10T09:14:59.244139Z",
     "shell.execute_reply": "2021-09-10T09:14:59.244655Z"
    },
    "lines_to_next_cell": 1,
    "papermill": {
     "duration": 2.865542,
     "end_time": "2021-09-10T09:14:59.244910",
     "exception": false,
     "start_time": "2021-09-10T09:14:56.379368",
     "status": "completed"
    },
    "tags": []
   },
   "outputs": [],
   "source": [
    "from IPython import get_ipython\n",
    "from IPython.core.display import display\n",
    "get_ipython().run_line_magic('load_ext', 'autoreload')\n",
    "get_ipython().run_line_magic('autoreload', '2')\n",
    "get_ipython().run_line_magic('run', 'setup')"
   ]
  },
  {
   "cell_type": "code",
   "execution_count": 2,
   "id": "2c9524e2",
   "metadata": {
    "execution": {
     "iopub.execute_input": "2021-09-10T09:14:59.258768Z",
     "iopub.status.busy": "2021-09-10T09:14:59.258172Z",
     "iopub.status.idle": "2021-09-10T09:15:02.808908Z",
     "shell.execute_reply": "2021-09-10T09:15:02.808320Z"
    },
    "lines_to_next_cell": 1,
    "papermill": {
     "duration": 3.559195,
     "end_time": "2021-09-10T09:15:02.809044",
     "exception": false,
     "start_time": "2021-09-10T09:14:59.249849",
     "status": "completed"
    },
    "tags": [],
    "title": "leeftijdsgroepen: download RIVM data"
   },
   "outputs": [
    {
     "name": "stdout",
     "output_type": "stream",
     "text": [
      "rivm/COVID-19_casus_landelijk-2021-09-09@13-15.csv exists\n"
     ]
    },
    {
     "name": "stdout",
     "output_type": "stream",
     "text": [
      "loading rivm/COVID-19_casus_landelijk-2021-09-09@13-15.csv.gz\n"
     ]
    },
    {
     "data": {
      "text/html": [
       "<div>\n",
       "<style scoped>\n",
       "    .dataframe tbody tr th:only-of-type {\n",
       "        vertical-align: middle;\n",
       "    }\n",
       "\n",
       "    .dataframe tbody tr th {\n",
       "        vertical-align: top;\n",
       "    }\n",
       "\n",
       "    .dataframe thead th {\n",
       "        text-align: right;\n",
       "    }\n",
       "</style>\n",
       "<table border=\"1\" class=\"dataframe\">\n",
       "  <thead>\n",
       "    <tr style=\"text-align: right;\">\n",
       "      <th></th>\n",
       "      <th>Date_file</th>\n",
       "      <th>Date_statistics</th>\n",
       "      <th>Date_statistics_type</th>\n",
       "      <th>Agegroup</th>\n",
       "      <th>Sex</th>\n",
       "      <th>Province</th>\n",
       "      <th>Hospital_admission</th>\n",
       "      <th>Deceased</th>\n",
       "      <th>Week_of_death</th>\n",
       "      <th>Municipal_health_service</th>\n",
       "    </tr>\n",
       "  </thead>\n",
       "  <tbody>\n",
       "    <tr>\n",
       "      <th>0</th>\n",
       "      <td>2021-09-09 10:00:00</td>\n",
       "      <td>2020-01-01</td>\n",
       "      <td>DOO</td>\n",
       "      <td>40-49</td>\n",
       "      <td>Female</td>\n",
       "      <td>Noord-Holland</td>\n",
       "      <td>No</td>\n",
       "      <td>No</td>\n",
       "      <td>NaN</td>\n",
       "      <td>GGD Amsterdam</td>\n",
       "    </tr>\n",
       "    <tr>\n",
       "      <th>1</th>\n",
       "      <td>2021-09-09 10:00:00</td>\n",
       "      <td>2020-01-01</td>\n",
       "      <td>DOO</td>\n",
       "      <td>50-59</td>\n",
       "      <td>Male</td>\n",
       "      <td>Gelderland</td>\n",
       "      <td>No</td>\n",
       "      <td>No</td>\n",
       "      <td>NaN</td>\n",
       "      <td>Veiligheids- en Gezondheidsregio Gelderland-Mi...</td>\n",
       "    </tr>\n",
       "    <tr>\n",
       "      <th>2</th>\n",
       "      <td>2021-09-09 10:00:00</td>\n",
       "      <td>2020-01-01</td>\n",
       "      <td>DOO</td>\n",
       "      <td>20-29</td>\n",
       "      <td>Female</td>\n",
       "      <td>Zuid-Holland</td>\n",
       "      <td>No</td>\n",
       "      <td>No</td>\n",
       "      <td>NaN</td>\n",
       "      <td>GGD Hollands-Midden</td>\n",
       "    </tr>\n",
       "    <tr>\n",
       "      <th>3</th>\n",
       "      <td>2021-09-09 10:00:00</td>\n",
       "      <td>2020-01-01</td>\n",
       "      <td>DOO</td>\n",
       "      <td>60-69</td>\n",
       "      <td>Female</td>\n",
       "      <td>Noord-Holland</td>\n",
       "      <td>No</td>\n",
       "      <td>No</td>\n",
       "      <td>NaN</td>\n",
       "      <td>GGD Hollands-Noorden</td>\n",
       "    </tr>\n",
       "    <tr>\n",
       "      <th>4</th>\n",
       "      <td>2021-09-09 10:00:00</td>\n",
       "      <td>2020-01-04</td>\n",
       "      <td>DOO</td>\n",
       "      <td>10-19</td>\n",
       "      <td>Female</td>\n",
       "      <td>Gelderland</td>\n",
       "      <td>Unknown</td>\n",
       "      <td>No</td>\n",
       "      <td>NaN</td>\n",
       "      <td>GGD Gelderland-Zuid</td>\n",
       "    </tr>\n",
       "  </tbody>\n",
       "</table>\n",
       "</div>"
      ],
      "text/plain": [
       "             Date_file Date_statistics Date_statistics_type Agegroup     Sex  \\\n",
       "0  2021-09-09 10:00:00      2020-01-01                  DOO    40-49  Female   \n",
       "1  2021-09-09 10:00:00      2020-01-01                  DOO    50-59    Male   \n",
       "2  2021-09-09 10:00:00      2020-01-01                  DOO    20-29  Female   \n",
       "3  2021-09-09 10:00:00      2020-01-01                  DOO    60-69  Female   \n",
       "4  2021-09-09 10:00:00      2020-01-04                  DOO    10-19  Female   \n",
       "\n",
       "        Province Hospital_admission Deceased  Week_of_death  \\\n",
       "0  Noord-Holland                 No       No            NaN   \n",
       "1     Gelderland                 No       No            NaN   \n",
       "2   Zuid-Holland                 No       No            NaN   \n",
       "3  Noord-Holland                 No       No            NaN   \n",
       "4     Gelderland            Unknown       No            NaN   \n",
       "\n",
       "                            Municipal_health_service  \n",
       "0                                      GGD Amsterdam  \n",
       "1  Veiligheids- en Gezondheidsregio Gelderland-Mi...  \n",
       "2                                GGD Hollands-Midden  \n",
       "3                               GGD Hollands-Noorden  \n",
       "4                                GGD Gelderland-Zuid  "
      ]
     },
     "metadata": {},
     "output_type": "display_data"
    }
   ],
   "source": [
    "#leeftijdsgroepen = SimpleNamespace()\n",
    "@run\n",
    "def cell():\n",
    "  global rivm\n",
    "  rivm = RIVM.csv('COVID-19_casus_landelijk')\n",
    "  display(rivm.head())"
   ]
  },
  {
   "cell_type": "code",
   "execution_count": 3,
   "id": "1545d194",
   "metadata": {
    "execution": {
     "iopub.execute_input": "2021-09-10T09:15:02.830093Z",
     "iopub.status.busy": "2021-09-10T09:15:02.827756Z",
     "iopub.status.idle": "2021-09-10T09:15:05.579282Z",
     "shell.execute_reply": "2021-09-10T09:15:05.579847Z"
    },
    "lines_to_next_cell": 1,
    "papermill": {
     "duration": 2.763908,
     "end_time": "2021-09-10T09:15:05.580063",
     "exception": false,
     "start_time": "2021-09-10T09:15:02.816155",
     "status": "completed"
    },
    "tags": [],
    "title": "Download de bevolkings cijfers van CBS, uitgesplitst op de leeftijds categorien in de dataset van het RIVM"
   },
   "outputs": [],
   "source": [
    "@run\n",
    "def cell():\n",
    "  global bevolking\n",
    "  bevolking = CBS.bevolking(leeftijdsgroepen=True)"
   ]
  },
  {
   "cell_type": "code",
   "execution_count": 4,
   "id": "2a9bb543",
   "metadata": {
    "execution": {
     "iopub.execute_input": "2021-09-10T09:15:05.594987Z",
     "iopub.status.busy": "2021-09-10T09:15:05.594266Z",
     "iopub.status.idle": "2021-09-10T09:15:14.629949Z",
     "shell.execute_reply": "2021-09-10T09:15:14.630427Z"
    },
    "lines_to_next_cell": 1,
    "papermill": {
     "duration": 9.044824,
     "end_time": "2021-09-10T09:15:14.630598",
     "exception": false,
     "start_time": "2021-09-10T09:15:05.585774",
     "status": "completed"
    },
    "tags": [],
    "title": "leeftijdsgroepen: prepareer tabel"
   },
   "outputs": [
    {
     "data": {
      "text/html": [
       "<style type=\"text/css\">\n",
       "#T_36d81_row0_col7 {\n",
       "  background-color: #3c4f8a;\n",
       "  color: #f1f1f1;\n",
       "}\n",
       "#T_36d81_row0_col8, #T_36d81_row1_col8, #T_36d81_row2_col9, #T_36d81_row3_col9, #T_36d81_row4_col9 {\n",
       "  background-color: #440154;\n",
       "  color: #f1f1f1;\n",
       "}\n",
       "#T_36d81_row0_col9, #T_36d81_row3_col8 {\n",
       "  background-color: #3e4c8a;\n",
       "  color: #f1f1f1;\n",
       "}\n",
       "#T_36d81_row0_col10 {\n",
       "  background-color: #39558c;\n",
       "  color: #f1f1f1;\n",
       "}\n",
       "#T_36d81_row0_col11 {\n",
       "  background-color: #26818e;\n",
       "  color: #f1f1f1;\n",
       "}\n",
       "#T_36d81_row0_col12 {\n",
       "  background-color: #24aa83;\n",
       "  color: #f1f1f1;\n",
       "}\n",
       "#T_36d81_row0_col13 {\n",
       "  background-color: #69cd5b;\n",
       "  color: #000000;\n",
       "}\n",
       "#T_36d81_row0_col14 {\n",
       "  background-color: #b8de29;\n",
       "  color: #000000;\n",
       "}\n",
       "#T_36d81_row0_col15 {\n",
       "  background-color: #d0e11c;\n",
       "  color: #000000;\n",
       "}\n",
       "#T_36d81_row0_col16, #T_36d81_row1_col16, #T_36d81_row2_col16, #T_36d81_row4_col16 {\n",
       "  background-color: #f4e61e;\n",
       "  color: #000000;\n",
       "}\n",
       "#T_36d81_row0_col17, #T_36d81_row1_col17, #T_36d81_row2_col17, #T_36d81_row3_col17, #T_36d81_row4_col17 {\n",
       "  background-color: #fde725;\n",
       "  color: #000000;\n",
       "}\n",
       "#T_36d81_row1_col7 {\n",
       "  background-color: #26828e;\n",
       "  color: #f1f1f1;\n",
       "}\n",
       "#T_36d81_row1_col9 {\n",
       "  background-color: #46075a;\n",
       "  color: #f1f1f1;\n",
       "}\n",
       "#T_36d81_row1_col10 {\n",
       "  background-color: #414287;\n",
       "  color: #f1f1f1;\n",
       "}\n",
       "#T_36d81_row1_col11 {\n",
       "  background-color: #2b748e;\n",
       "  color: #f1f1f1;\n",
       "}\n",
       "#T_36d81_row1_col12 {\n",
       "  background-color: #1f998a;\n",
       "  color: #f1f1f1;\n",
       "}\n",
       "#T_36d81_row1_col13 {\n",
       "  background-color: #46c06f;\n",
       "  color: #f1f1f1;\n",
       "}\n",
       "#T_36d81_row1_col14 {\n",
       "  background-color: #a2da37;\n",
       "  color: #000000;\n",
       "}\n",
       "#T_36d81_row1_col15 {\n",
       "  background-color: #cde11d;\n",
       "  color: #000000;\n",
       "}\n",
       "#T_36d81_row2_col7 {\n",
       "  background-color: #35b779;\n",
       "  color: #f1f1f1;\n",
       "}\n",
       "#T_36d81_row2_col8 {\n",
       "  background-color: #424186;\n",
       "  color: #f1f1f1;\n",
       "}\n",
       "#T_36d81_row2_col10 {\n",
       "  background-color: #355e8d;\n",
       "  color: #f1f1f1;\n",
       "}\n",
       "#T_36d81_row2_col11 {\n",
       "  background-color: #23888e;\n",
       "  color: #f1f1f1;\n",
       "}\n",
       "#T_36d81_row2_col12 {\n",
       "  background-color: #21a685;\n",
       "  color: #f1f1f1;\n",
       "}\n",
       "#T_36d81_row2_col13 {\n",
       "  background-color: #63cb5f;\n",
       "  color: #000000;\n",
       "}\n",
       "#T_36d81_row2_col14 {\n",
       "  background-color: #b0dd2f;\n",
       "  color: #000000;\n",
       "}\n",
       "#T_36d81_row2_col15 {\n",
       "  background-color: #d5e21a;\n",
       "  color: #000000;\n",
       "}\n",
       "#T_36d81_row3_col7 {\n",
       "  background-color: #60ca60;\n",
       "  color: #000000;\n",
       "}\n",
       "#T_36d81_row3_col10 {\n",
       "  background-color: #2e6f8e;\n",
       "  color: #f1f1f1;\n",
       "}\n",
       "#T_36d81_row3_col11 {\n",
       "  background-color: #1e9d89;\n",
       "  color: #f1f1f1;\n",
       "}\n",
       "#T_36d81_row3_col12 {\n",
       "  background-color: #2ab07f;\n",
       "  color: #f1f1f1;\n",
       "}\n",
       "#T_36d81_row3_col13 {\n",
       "  background-color: #7ad151;\n",
       "  color: #000000;\n",
       "}\n",
       "#T_36d81_row3_col14 {\n",
       "  background-color: #c0df25;\n",
       "  color: #000000;\n",
       "}\n",
       "#T_36d81_row3_col15, #T_36d81_row4_col15 {\n",
       "  background-color: #d8e219;\n",
       "  color: #000000;\n",
       "}\n",
       "#T_36d81_row3_col16 {\n",
       "  background-color: #f1e51d;\n",
       "  color: #000000;\n",
       "}\n",
       "#T_36d81_row4_col7 {\n",
       "  background-color: #84d44b;\n",
       "  color: #000000;\n",
       "}\n",
       "#T_36d81_row4_col8 {\n",
       "  background-color: #31688e;\n",
       "  color: #f1f1f1;\n",
       "}\n",
       "#T_36d81_row4_col10 {\n",
       "  background-color: #24878e;\n",
       "  color: #f1f1f1;\n",
       "}\n",
       "#T_36d81_row4_col11 {\n",
       "  background-color: #25ac82;\n",
       "  color: #f1f1f1;\n",
       "}\n",
       "#T_36d81_row4_col12 {\n",
       "  background-color: #38b977;\n",
       "  color: #f1f1f1;\n",
       "}\n",
       "#T_36d81_row4_col13 {\n",
       "  background-color: #7fd34e;\n",
       "  color: #000000;\n",
       "}\n",
       "#T_36d81_row4_col14 {\n",
       "  background-color: #c2df23;\n",
       "  color: #000000;\n",
       "}\n",
       "</style>\n",
       "<table id=\"T_36d81_\">\n",
       "  <thead>\n",
       "    <tr>\n",
       "      <th class=\"blank level0\" >&nbsp;</th>\n",
       "      <th class=\"col_heading level0 col0\" >Key</th>\n",
       "      <th class=\"col_heading level0 col1\" >Weken terug</th>\n",
       "      <th class=\"col_heading level0 col2\" >Datum</th>\n",
       "      <th class=\"col_heading level0 col3\" >Periode</th>\n",
       "      <th class=\"col_heading level0 col4\" >Gemiddelde leeftijd</th>\n",
       "      <th class=\"col_heading level0 col5\" >Totaal</th>\n",
       "      <th class=\"col_heading level0 col6\" >Type</th>\n",
       "      <th class=\"col_heading level0 col7\" >0-9</th>\n",
       "      <th class=\"col_heading level0 col8\" >10-19</th>\n",
       "      <th class=\"col_heading level0 col9\" >20-29</th>\n",
       "      <th class=\"col_heading level0 col10\" >30-39</th>\n",
       "      <th class=\"col_heading level0 col11\" >40-49</th>\n",
       "      <th class=\"col_heading level0 col12\" >50-59</th>\n",
       "      <th class=\"col_heading level0 col13\" >60-69</th>\n",
       "      <th class=\"col_heading level0 col14\" >70-79</th>\n",
       "      <th class=\"col_heading level0 col15\" >80-89</th>\n",
       "      <th class=\"col_heading level0 col16\" >90+</th>\n",
       "      <th class=\"col_heading level0 col17\" >Onbekend</th>\n",
       "      <th class=\"col_heading level0 col18\" >c0-9</th>\n",
       "      <th class=\"col_heading level0 col19\" >c10-19</th>\n",
       "      <th class=\"col_heading level0 col20\" >c20-29</th>\n",
       "      <th class=\"col_heading level0 col21\" >c30-39</th>\n",
       "      <th class=\"col_heading level0 col22\" >c40-49</th>\n",
       "      <th class=\"col_heading level0 col23\" >c50-59</th>\n",
       "      <th class=\"col_heading level0 col24\" >c60-69</th>\n",
       "      <th class=\"col_heading level0 col25\" >c70-79</th>\n",
       "      <th class=\"col_heading level0 col26\" >c80-89</th>\n",
       "      <th class=\"col_heading level0 col27\" >c90+</th>\n",
       "      <th class=\"col_heading level0 col28\" >cOnbekend</th>\n",
       "    </tr>\n",
       "  </thead>\n",
       "  <tbody>\n",
       "    <tr>\n",
       "      <th id=\"T_36d81_level0_row0\" class=\"row_heading level0 row0\" >0</th>\n",
       "      <td id=\"T_36d81_row0_col0\" class=\"data row0 col0\" >p000</td>\n",
       "      <td id=\"T_36d81_row0_col1\" class=\"data row0 col1\" >0</td>\n",
       "      <td id=\"T_36d81_row0_col2\" class=\"data row0 col2\" >2021-09-09 00:00:00</td>\n",
       "      <td id=\"T_36d81_row0_col3\" class=\"data row0 col3\" >03/09-09/09</td>\n",
       "      <td id=\"T_36d81_row0_col4\" class=\"data row0 col4\" >30.500000</td>\n",
       "      <td id=\"T_36d81_row0_col5\" class=\"data row0 col5\" >9835.000000</td>\n",
       "      <td id=\"T_36d81_row0_col6\" class=\"data row0 col6\" >Positief getest</td>\n",
       "      <td id=\"T_36d81_row0_col7\" class=\"data row0 col7\" >1605.000000</td>\n",
       "      <td id=\"T_36d81_row0_col8\" class=\"data row0 col8\" >2115.000000</td>\n",
       "      <td id=\"T_36d81_row0_col9\" class=\"data row0 col9\" >1635.000000</td>\n",
       "      <td id=\"T_36d81_row0_col10\" class=\"data row0 col10\" >1555.000000</td>\n",
       "      <td id=\"T_36d81_row0_col11\" class=\"data row0 col11\" >1191.000000</td>\n",
       "      <td id=\"T_36d81_row0_col12\" class=\"data row0 col12\" >830.000000</td>\n",
       "      <td id=\"T_36d81_row0_col13\" class=\"data row0 col13\" >480.000000</td>\n",
       "      <td id=\"T_36d81_row0_col14\" class=\"data row0 col14\" >228.000000</td>\n",
       "      <td id=\"T_36d81_row0_col15\" class=\"data row0 col15\" >156.000000</td>\n",
       "      <td id=\"T_36d81_row0_col16\" class=\"data row0 col16\" >40.000000</td>\n",
       "      <td id=\"T_36d81_row0_col17\" class=\"data row0 col17\" >0.000000</td>\n",
       "      <td id=\"T_36d81_row0_col18\" class=\"data row0 col18\" >758</td>\n",
       "      <td id=\"T_36d81_row0_col19\" class=\"data row0 col19\" >1000</td>\n",
       "      <td id=\"T_36d81_row0_col20\" class=\"data row0 col20\" >773</td>\n",
       "      <td id=\"T_36d81_row0_col21\" class=\"data row0 col21\" >735</td>\n",
       "      <td id=\"T_36d81_row0_col22\" class=\"data row0 col22\" >563</td>\n",
       "      <td id=\"T_36d81_row0_col23\" class=\"data row0 col23\" >392</td>\n",
       "      <td id=\"T_36d81_row0_col24\" class=\"data row0 col24\" >226</td>\n",
       "      <td id=\"T_36d81_row0_col25\" class=\"data row0 col25\" >107</td>\n",
       "      <td id=\"T_36d81_row0_col26\" class=\"data row0 col26\" >73</td>\n",
       "      <td id=\"T_36d81_row0_col27\" class=\"data row0 col27\" >18</td>\n",
       "      <td id=\"T_36d81_row0_col28\" class=\"data row0 col28\" >0</td>\n",
       "    </tr>\n",
       "    <tr>\n",
       "      <th id=\"T_36d81_level0_row1\" class=\"row_heading level0 row1\" >1</th>\n",
       "      <td id=\"T_36d81_row1_col0\" class=\"data row1 col0\" >p001</td>\n",
       "      <td id=\"T_36d81_row1_col1\" class=\"data row1 col1\" >1</td>\n",
       "      <td id=\"T_36d81_row1_col2\" class=\"data row1 col2\" >2021-09-09 00:00:00</td>\n",
       "      <td id=\"T_36d81_row1_col3\" class=\"data row1 col3\" >27/08-02/09</td>\n",
       "      <td id=\"T_36d81_row1_col4\" class=\"data row1 col4\" >32.600000</td>\n",
       "      <td id=\"T_36d81_row1_col5\" class=\"data row1 col5\" >16466.000000</td>\n",
       "      <td id=\"T_36d81_row1_col6\" class=\"data row1 col6\" >Positief getest</td>\n",
       "      <td id=\"T_36d81_row1_col7\" class=\"data row1 col7\" >1851.000000</td>\n",
       "      <td id=\"T_36d81_row1_col8\" class=\"data row1 col8\" >3330.000000</td>\n",
       "      <td id=\"T_36d81_row1_col9\" class=\"data row1 col9\" >3268.000000</td>\n",
       "      <td id=\"T_36d81_row1_col10\" class=\"data row1 col10\" >2667.000000</td>\n",
       "      <td id=\"T_36d81_row1_col11\" class=\"data row1 col11\" >2055.000000</td>\n",
       "      <td id=\"T_36d81_row1_col12\" class=\"data row1 col12\" >1541.000000</td>\n",
       "      <td id=\"T_36d81_row1_col13\" class=\"data row1 col13\" >979.000000</td>\n",
       "      <td id=\"T_36d81_row1_col14\" class=\"data row1 col14\" >467.000000</td>\n",
       "      <td id=\"T_36d81_row1_col15\" class=\"data row1 col15\" >252.000000</td>\n",
       "      <td id=\"T_36d81_row1_col16\" class=\"data row1 col16\" >56.000000</td>\n",
       "      <td id=\"T_36d81_row1_col17\" class=\"data row1 col17\" >0.000000</td>\n",
       "      <td id=\"T_36d81_row1_col18\" class=\"data row1 col18\" >555</td>\n",
       "      <td id=\"T_36d81_row1_col19\" class=\"data row1 col19\" >1000</td>\n",
       "      <td id=\"T_36d81_row1_col20\" class=\"data row1 col20\" >981</td>\n",
       "      <td id=\"T_36d81_row1_col21\" class=\"data row1 col21\" >800</td>\n",
       "      <td id=\"T_36d81_row1_col22\" class=\"data row1 col22\" >617</td>\n",
       "      <td id=\"T_36d81_row1_col23\" class=\"data row1 col23\" >462</td>\n",
       "      <td id=\"T_36d81_row1_col24\" class=\"data row1 col24\" >293</td>\n",
       "      <td id=\"T_36d81_row1_col25\" class=\"data row1 col25\" >140</td>\n",
       "      <td id=\"T_36d81_row1_col26\" class=\"data row1 col26\" >75</td>\n",
       "      <td id=\"T_36d81_row1_col27\" class=\"data row1 col27\" >16</td>\n",
       "      <td id=\"T_36d81_row1_col28\" class=\"data row1 col28\" >0</td>\n",
       "    </tr>\n",
       "    <tr>\n",
       "      <th id=\"T_36d81_level0_row2\" class=\"row_heading level0 row2\" >2</th>\n",
       "      <td id=\"T_36d81_row2_col0\" class=\"data row2 col0\" >p002</td>\n",
       "      <td id=\"T_36d81_row2_col1\" class=\"data row2 col1\" >2</td>\n",
       "      <td id=\"T_36d81_row2_col2\" class=\"data row2 col2\" >2021-09-09 00:00:00</td>\n",
       "      <td id=\"T_36d81_row2_col3\" class=\"data row2 col3\" >20/08-26/08</td>\n",
       "      <td id=\"T_36d81_row2_col4\" class=\"data row2 col4\" >33.500000</td>\n",
       "      <td id=\"T_36d81_row2_col5\" class=\"data row2 col5\" >17137.000000</td>\n",
       "      <td id=\"T_36d81_row2_col6\" class=\"data row2 col6\" >Positief getest</td>\n",
       "      <td id=\"T_36d81_row2_col7\" class=\"data row2 col7\" >1348.000000</td>\n",
       "      <td id=\"T_36d81_row2_col8\" class=\"data row2 col8\" >3265.000000</td>\n",
       "      <td id=\"T_36d81_row2_col9\" class=\"data row2 col9\" >4053.000000</td>\n",
       "      <td id=\"T_36d81_row2_col10\" class=\"data row2 col10\" >2862.000000</td>\n",
       "      <td id=\"T_36d81_row2_col11\" class=\"data row2 col11\" >2160.000000</td>\n",
       "      <td id=\"T_36d81_row2_col12\" class=\"data row2 col12\" >1656.000000</td>\n",
       "      <td id=\"T_36d81_row2_col13\" class=\"data row2 col13\" >980.000000</td>\n",
       "      <td id=\"T_36d81_row2_col14\" class=\"data row2 col14\" >486.000000</td>\n",
       "      <td id=\"T_36d81_row2_col15\" class=\"data row2 col15\" >259.000000</td>\n",
       "      <td id=\"T_36d81_row2_col16\" class=\"data row2 col16\" >67.000000</td>\n",
       "      <td id=\"T_36d81_row2_col17\" class=\"data row2 col17\" >1.000000</td>\n",
       "      <td id=\"T_36d81_row2_col18\" class=\"data row2 col18\" >332</td>\n",
       "      <td id=\"T_36d81_row2_col19\" class=\"data row2 col19\" >805</td>\n",
       "      <td id=\"T_36d81_row2_col20\" class=\"data row2 col20\" >1000</td>\n",
       "      <td id=\"T_36d81_row2_col21\" class=\"data row2 col21\" >706</td>\n",
       "      <td id=\"T_36d81_row2_col22\" class=\"data row2 col22\" >532</td>\n",
       "      <td id=\"T_36d81_row2_col23\" class=\"data row2 col23\" >408</td>\n",
       "      <td id=\"T_36d81_row2_col24\" class=\"data row2 col24\" >241</td>\n",
       "      <td id=\"T_36d81_row2_col25\" class=\"data row2 col25\" >119</td>\n",
       "      <td id=\"T_36d81_row2_col26\" class=\"data row2 col26\" >63</td>\n",
       "      <td id=\"T_36d81_row2_col27\" class=\"data row2 col27\" >16</td>\n",
       "      <td id=\"T_36d81_row2_col28\" class=\"data row2 col28\" >0</td>\n",
       "    </tr>\n",
       "    <tr>\n",
       "      <th id=\"T_36d81_level0_row3\" class=\"row_heading level0 row3\" >3</th>\n",
       "      <td id=\"T_36d81_row3_col0\" class=\"data row3 col0\" >p003</td>\n",
       "      <td id=\"T_36d81_row3_col1\" class=\"data row3 col1\" >3</td>\n",
       "      <td id=\"T_36d81_row3_col2\" class=\"data row3 col2\" >2021-09-09 00:00:00</td>\n",
       "      <td id=\"T_36d81_row3_col3\" class=\"data row3 col3\" >13/08-19/08</td>\n",
       "      <td id=\"T_36d81_row3_col4\" class=\"data row3 col4\" >33.200000</td>\n",
       "      <td id=\"T_36d81_row3_col5\" class=\"data row3 col5\" >16713.000000</td>\n",
       "      <td id=\"T_36d81_row3_col6\" class=\"data row3 col6\" >Positief getest</td>\n",
       "      <td id=\"T_36d81_row3_col7\" class=\"data row3 col7\" >1062.000000</td>\n",
       "      <td id=\"T_36d81_row3_col8\" class=\"data row3 col8\" >3347.000000</td>\n",
       "      <td id=\"T_36d81_row3_col9\" class=\"data row3 col9\" >4348.000000</td>\n",
       "      <td id=\"T_36d81_row3_col10\" class=\"data row3 col10\" >2773.000000</td>\n",
       "      <td id=\"T_36d81_row3_col11\" class=\"data row3 col11\" >1952.000000</td>\n",
       "      <td id=\"T_36d81_row3_col12\" class=\"data row3 col12\" >1588.000000</td>\n",
       "      <td id=\"T_36d81_row3_col13\" class=\"data row3 col13\" >878.000000</td>\n",
       "      <td id=\"T_36d81_row3_col14\" class=\"data row3 col14\" >417.000000</td>\n",
       "      <td id=\"T_36d81_row3_col15\" class=\"data row3 col15\" >261.000000</td>\n",
       "      <td id=\"T_36d81_row3_col16\" class=\"data row3 col16\" >87.000000</td>\n",
       "      <td id=\"T_36d81_row3_col17\" class=\"data row3 col17\" >0.000000</td>\n",
       "      <td id=\"T_36d81_row3_col18\" class=\"data row3 col18\" >244</td>\n",
       "      <td id=\"T_36d81_row3_col19\" class=\"data row3 col19\" >769</td>\n",
       "      <td id=\"T_36d81_row3_col20\" class=\"data row3 col20\" >1000</td>\n",
       "      <td id=\"T_36d81_row3_col21\" class=\"data row3 col21\" >637</td>\n",
       "      <td id=\"T_36d81_row3_col22\" class=\"data row3 col22\" >448</td>\n",
       "      <td id=\"T_36d81_row3_col23\" class=\"data row3 col23\" >365</td>\n",
       "      <td id=\"T_36d81_row3_col24\" class=\"data row3 col24\" >201</td>\n",
       "      <td id=\"T_36d81_row3_col25\" class=\"data row3 col25\" >95</td>\n",
       "      <td id=\"T_36d81_row3_col26\" class=\"data row3 col26\" >60</td>\n",
       "      <td id=\"T_36d81_row3_col27\" class=\"data row3 col27\" >20</td>\n",
       "      <td id=\"T_36d81_row3_col28\" class=\"data row3 col28\" >0</td>\n",
       "    </tr>\n",
       "    <tr>\n",
       "      <th id=\"T_36d81_level0_row4\" class=\"row_heading level0 row4\" >4</th>\n",
       "      <td id=\"T_36d81_row4_col0\" class=\"data row4 col0\" >p004</td>\n",
       "      <td id=\"T_36d81_row4_col1\" class=\"data row4 col1\" >4</td>\n",
       "      <td id=\"T_36d81_row4_col2\" class=\"data row4 col2\" >2021-09-09 00:00:00</td>\n",
       "      <td id=\"T_36d81_row4_col3\" class=\"data row4 col3\" >06/08-12/08</td>\n",
       "      <td id=\"T_36d81_row4_col4\" class=\"data row4 col4\" >33.600000</td>\n",
       "      <td id=\"T_36d81_row4_col5\" class=\"data row4 col5\" >16434.000000</td>\n",
       "      <td id=\"T_36d81_row4_col6\" class=\"data row4 col6\" >Positief getest</td>\n",
       "      <td id=\"T_36d81_row4_col7\" class=\"data row4 col7\" >875.000000</td>\n",
       "      <td id=\"T_36d81_row4_col8\" class=\"data row4 col8\" >3158.000000</td>\n",
       "      <td id=\"T_36d81_row4_col9\" class=\"data row4 col9\" >4744.000000</td>\n",
       "      <td id=\"T_36d81_row4_col10\" class=\"data row4 col10\" >2555.000000</td>\n",
       "      <td id=\"T_36d81_row4_col11\" class=\"data row4 col11\" >1827.000000</td>\n",
       "      <td id=\"T_36d81_row4_col12\" class=\"data row4 col12\" >1541.000000</td>\n",
       "      <td id=\"T_36d81_row4_col13\" class=\"data row4 col13\" >917.000000</td>\n",
       "      <td id=\"T_36d81_row4_col14\" class=\"data row4 col14\" >446.000000</td>\n",
       "      <td id=\"T_36d81_row4_col15\" class=\"data row4 col15\" >288.000000</td>\n",
       "      <td id=\"T_36d81_row4_col16\" class=\"data row4 col16\" >80.000000</td>\n",
       "      <td id=\"T_36d81_row4_col17\" class=\"data row4 col17\" >3.000000</td>\n",
       "      <td id=\"T_36d81_row4_col18\" class=\"data row4 col18\" >184</td>\n",
       "      <td id=\"T_36d81_row4_col19\" class=\"data row4 col19\" >665</td>\n",
       "      <td id=\"T_36d81_row4_col20\" class=\"data row4 col20\" >1000</td>\n",
       "      <td id=\"T_36d81_row4_col21\" class=\"data row4 col21\" >538</td>\n",
       "      <td id=\"T_36d81_row4_col22\" class=\"data row4 col22\" >385</td>\n",
       "      <td id=\"T_36d81_row4_col23\" class=\"data row4 col23\" >324</td>\n",
       "      <td id=\"T_36d81_row4_col24\" class=\"data row4 col24\" >193</td>\n",
       "      <td id=\"T_36d81_row4_col25\" class=\"data row4 col25\" >94</td>\n",
       "      <td id=\"T_36d81_row4_col26\" class=\"data row4 col26\" >60</td>\n",
       "      <td id=\"T_36d81_row4_col27\" class=\"data row4 col27\" >16</td>\n",
       "      <td id=\"T_36d81_row4_col28\" class=\"data row4 col28\" >0</td>\n",
       "    </tr>\n",
       "  </tbody>\n",
       "</table>\n"
      ],
      "text/plain": [
       "<pandas.io.formats.style.Styler at 0x7f8430f4a0d0>"
      ]
     },
     "metadata": {},
     "output_type": "display_data"
    }
   ],
   "source": [
    "# Bereken de stand van zaken van besmettingen / hospitalisaties / overlijden, per cohort in absolute aantallen en aantallen per 100k, met een kleur indicator voor de aantallen.\n",
    "# vervang <50 en Unknown door Onbekend\n",
    "@run\n",
    "def cell():\n",
    "  rivm['Cohort'] = rivm['Agegroup'].replace({'<50': 'Onbekend', 'Unknown': 'Onbekend'})\n",
    "  # aangenomen 'gemiddelde' leeftijd van een cohort: minimum waarde + 5\n",
    "  assumed_cohort_age = [(cohort, [int(n) for n in cohort.replace('+', '').split('-')]) for cohort in rivm['Cohort'].unique() if cohort[0].isdigit()]\n",
    "  assumed_cohort_age = { cohort: min(rng) + 5 for cohort, rng in assumed_cohort_age }\n",
    "  rivm['Gemiddelde leeftijd'] = rivm['Cohort'].apply(lambda x: assumed_cohort_age.get(x, np.nan))\n",
    "\n",
    "  # verwijder tijd\n",
    "  rivm['Date_file_date'] = pd.to_datetime(rivm['Date_file'].replace(r' .*', '', regex=True))\n",
    "\n",
    "  rivm['Date_statistics_date'] = pd.to_datetime(rivm['Date_statistics'])\n",
    "\n",
    "  # weken terug = verschil tussen Date_file en Date_statistcs, gedeeld door 7 dagen\n",
    "  rivm['Weken terug'] = np.floor((rivm['Date_file_date'] - rivm['Date_statistics_date'])/np.timedelta64(7, 'D')).astype(int)\n",
    "\n",
    "  # voeg key, gem leeftijd, kleurnummer en totaal toe\n",
    "  Date_file = rivm['Date_file_date'].unique()[0].astype('M8[D]').astype('O')\n",
    "  cohorten = list(bevolking.index) + ['Onbekend']\n",
    "  def summarize(df, category, prefix):\n",
    "    # aangezien we hier de dataframe in-place wijzigen (bijv door toevoegen kolommen)\n",
    "    # en we het 'rivm' frame later nog clean nodig hebben\n",
    "    df = df.copy(deep=True)\n",
    "\n",
    "    df = (df\n",
    "          .groupby(['Weken terug', 'Cohort'])['count']\n",
    "          .sum()\n",
    "          .unstack(fill_value=np.nan)\n",
    "          .reset_index()\n",
    "          .rename_axis(None, axis=1)\n",
    "        ).merge(df\n",
    "          # we voegen hier gemiddelde leeftijd toe, want die willen we op een ander\n",
    "          # niveau aggregeren voor 'df' overschreven word\n",
    "          .groupby(['Weken terug'])['Gemiddelde leeftijd']\n",
    "          .mean()\n",
    "          .to_frame(), on='Weken terug'\n",
    "        )\n",
    "\n",
    "    # altijd 52 rijen\n",
    "    df = pd.Series(np.arange(52), name='Weken terug').to_frame().merge(df, how='left', on='Weken terug')\n",
    "\n",
    "    # toevoegen missende cohorten\n",
    "    for col in cohorten:\n",
    "      if not col in df:\n",
    "        df[col] = np.nan\n",
    "\n",
    "    # sommeer per rij (axis=1) over de cohorten om een totaal te krijgen\n",
    "    df['Totaal'] = df[cohorten].sum(axis=1)\n",
    "\n",
    "    # voeg periode en datum toe\n",
    "    # periode afgeleid van weken-terug (= de index voor deze dataframe)\n",
    "    df['Datum'] = pd.to_datetime(Date_file)\n",
    "    df['Periode'] = (df\n",
    "      .index.to_series()\n",
    "      .apply(\n",
    "        lambda x: (\n",
    "          (Date_file + datetime.timedelta(weeks=-(x+1), days=1)).strftime('%d/%m')\n",
    "          + '-'\n",
    "          + (Date_file + datetime.timedelta(weeks=-x)).strftime('%d/%m')\n",
    "        )\n",
    "      )\n",
    "    )\n",
    "\n",
    "    # voeg 'Key' en 'Type' kolom toe. Variabele 'type' kan niet, is een language primitive.\n",
    "    df['Key'] = prefix + df.index.astype(str).str.rjust(3, fillchar='0')\n",
    "    df['Type'] = category\n",
    "\n",
    "    # voeg de kleur kolommen toe\n",
    "    for col in cohorten:\n",
    "      df['c' + col] = ((df[col] / df[[col for col in cohorten]].max(axis=1)) * 1000).fillna(0).astype(int)\n",
    "\n",
    "    # herschikken van de kolommen\n",
    "    colorder = ['Key', 'Weken terug', 'Datum', 'Periode', 'Gemiddelde leeftijd', 'Totaal', 'Type']\n",
    "    return df[colorder + [col for col in df if col not in colorder]]\n",
    "\n",
    "  factor = bevolking.to_dict()['per 100k']\n",
    "  global tabel\n",
    "  tabel = pd.concat(\n",
    "    # flatten the result list zodat pd.concat ze onder elkaar kan plakken\n",
    "    functools.reduce(lambda a, b: a + b, [\n",
    "      [summarize(df.assign(count=1), label, prefix), summarize(df.assign(count=df['Cohort'].apply(lambda x: factor.get(x, np.nan))), label + ' per 100.000', prefix + '100k')]\n",
    "      for df, label, prefix in [\n",
    "        (rivm, 'Positief getest', 'p'), # volledige count per cohort\n",
    "        (rivm[rivm.Hospital_admission == 'Yes'], 'Ziekenhuisopname', 'h'), # count van cohort voor Hospital_admission == 'Yes'\n",
    "        (rivm[rivm.Deceased == 'Yes'], 'Overleden', 'd'), # count van cohort voor Deceased == 'Yes'\n",
    "      ]\n",
    "    ])\n",
    "  )\n",
    "\n",
    "  # rood -> groen\n",
    "  cdict = {\n",
    "    'red':   ((0.0, 0.0, 0.0),   # no red at 0\n",
    "              (0.5, 1.0, 1.0),   # all channels set to 1.0 at 0.5 to create white\n",
    "              (1.0, 0.8, 0.8)),  # set to 0.8 so its not too bright at 1\n",
    "    'green': ((0.0, 0.8, 0.8),   # set to 0.8 so its not too bright at 0\n",
    "              (0.5, 1.0, 1.0),   # all channels set to 1.0 at 0.5 to create white\n",
    "              (1.0, 0.0, 0.0)),  # no green at 1\n",
    "    'blue':  ((0.0, 0.0, 0.0),   # no blue at 0\n",
    "              (0.5, 1.0, 1.0),   # all channels set to 1.0 at 0.5 to create white\n",
    "              (1.0, 0.0, 0.0))   # no blue at 1\n",
    "  }\n",
    "  cm = colors.LinearSegmentedColormap('GnRd', cdict)\n",
    "  # geel -> paars\n",
    "  cm = sns.color_palette('viridis_r', as_cmap=True)\n",
    "  display(tabel\n",
    "    .fillna(0)\n",
    "    .head()\n",
    "    .round(1)\n",
    "    .reset_index(drop=True)\n",
    "    .style.background_gradient(cmap=cm, axis=1, subset=cohorten)\n",
    "  )"
   ]
  },
  {
   "cell_type": "code",
   "execution_count": 5,
   "id": "4e3ab0f2",
   "metadata": {
    "execution": {
     "iopub.execute_input": "2021-09-10T09:15:14.651325Z",
     "iopub.status.busy": "2021-09-10T09:15:14.649480Z",
     "iopub.status.idle": "2021-09-10T09:15:24.162484Z",
     "shell.execute_reply": "2021-09-10T09:15:24.162998Z"
    },
    "papermill": {
     "duration": 9.525265,
     "end_time": "2021-09-10T09:15:24.163170",
     "exception": false,
     "start_time": "2021-09-10T09:15:14.637905",
     "status": "completed"
    },
    "tags": [],
    "title": "publish"
   },
   "outputs": [
    {
     "name": "stdout",
     "output_type": "stream",
     "text": [
      "infinities:\n"
     ]
    },
    {
     "name": "stdout",
     "output_type": "stream",
     "text": [
      "Empty DataFrame\n",
      "Columns: []\n",
      "Index: []\n"
     ]
    },
    {
     "name": "stdout",
     "output_type": "stream",
     "text": [
      "nan:\n"
     ]
    },
    {
     "name": "stdout",
     "output_type": "stream",
     "text": [
      "Empty DataFrame\n",
      "Columns: []\n",
      "Index: []\n"
     ]
    },
    {
     "name": "stdout",
     "output_type": "stream",
     "text": [
      "Key                     object\n",
      "Weken terug              int64\n",
      "Datum                   object\n",
      "Periode                 object\n",
      "Gemiddelde leeftijd    float64\n",
      "Totaal                 float64\n",
      "Type                    object\n",
      "0-9                    float64\n",
      "10-19                  float64\n",
      "20-29                  float64\n",
      "30-39                  float64\n",
      "40-49                  float64\n",
      "50-59                  float64\n",
      "60-69                  float64\n",
      "70-79                  float64\n",
      "80-89                  float64\n",
      "90+                    float64\n",
      "Onbekend               float64\n",
      "c0-9                     int64\n",
      "c10-19                   int64\n",
      "c20-29                   int64\n",
      "c30-39                   int64\n",
      "c40-49                   int64\n",
      "c50-59                   int64\n",
      "c60-69                   int64\n",
      "c70-79                   int64\n",
      "c80-89                   int64\n",
      "c90+                     int64\n",
      "cOnbekend                int64\n",
      "dtype: object\n",
      "updating knack\n"
     ]
    },
    {
     "name": "stdout",
     "output_type": "stream",
     "text": [
      "updating: [{'Key': 1, 'Updating Leeftijdsgroep': 'true'}]\n"
     ]
    },
    {
     "name": "stdout",
     "output_type": "stream",
     "text": [
      "restored LaatsteUpdate from hash\n"
     ]
    },
    {
     "name": "stdout",
     "output_type": "stream",
     "text": [
      "Key                         int64\n",
      "Updating Leeftijdsgroep    object\n",
      "dtype: object\n"
     ]
    },
    {
     "name": "stderr",
     "output_type": "stream",
     "text": [
      "\r",
      "  0%|          | 0/1 [00:00<?, ?it/s]"
     ]
    },
    {
     "name": "stderr",
     "output_type": "stream",
     "text": [
      "\r",
      "100%|██████████| 1/1 [00:00<00:00,  1.00it/s]"
     ]
    },
    {
     "name": "stderr",
     "output_type": "stream",
     "text": [
      "\r",
      "100%|██████████| 1/1 [00:01<00:00,  1.00s/it]"
     ]
    },
    {
     "name": "stdout",
     "output_type": "stream",
     "text": [
      "\n",
      "rate limit: 7 \n",
      "LaatsteUpdate API calls: create: 0, read: 1, update: 1, delete: 0, backoff: 0\n"
     ]
    },
    {
     "name": "stderr",
     "output_type": "stream",
     "text": [
      "\n"
     ]
    },
    {
     "name": "stdout",
     "output_type": "stream",
     "text": [
      "restored Leeftijdsgroep from hash\n"
     ]
    },
    {
     "name": "stdout",
     "output_type": "stream",
     "text": [
      "0-9                    float64\n",
      "10-19                  float64\n",
      "20-29                  float64\n",
      "30-39                  float64\n",
      "40-49                  float64\n",
      "50-59                  float64\n",
      "60-69                  float64\n",
      "70-79                  float64\n",
      "80-89                  float64\n",
      "90+                    float64\n",
      "Datum                   object\n",
      "Gemiddelde leeftijd    float64\n",
      "Key                     object\n",
      "Onbekend               float64\n",
      "Periode                 object\n",
      "Totaal                 float64\n",
      "Type                    object\n",
      "Weken terug              int64\n",
      "c0-9                     int64\n",
      "c10-19                   int64\n",
      "c20-29                   int64\n",
      "c30-39                   int64\n",
      "c40-49                   int64\n",
      "c50-59                   int64\n",
      "c60-69                   int64\n",
      "c70-79                   int64\n",
      "c80-89                   int64\n",
      "c90+                     int64\n",
      "cOnbekend                int64\n",
      "dtype: object\n",
      "nothing to do for Leeftijdsgroep\n"
     ]
    },
    {
     "name": "stdout",
     "output_type": "stream",
     "text": [
      "\n",
      "rate limit: 7 \n",
      "Leeftijdsgroep API calls: create: 0, read: 1, update: 0, delete: 0, backoff: 0\n"
     ]
    },
    {
     "name": "stdout",
     "output_type": "stream",
     "text": [
      "[{'Key': 1, 'Timestamp Leeftijdsgroep RIVM': '2021-09-09 14:15'}]\n"
     ]
    },
    {
     "name": "stdout",
     "output_type": "stream",
     "text": [
      "timestamps: [{'Key': 1, 'Timestamp Leeftijdsgroep RIVM': '2021-09-09 14:15'}]\n",
      "Key                               int64\n",
      "Timestamp Leeftijdsgroep RIVM    object\n",
      "dtype: object\n"
     ]
    },
    {
     "name": "stderr",
     "output_type": "stream",
     "text": [
      "\r",
      "  0%|          | 0/1 [00:00<?, ?it/s]"
     ]
    },
    {
     "name": "stderr",
     "output_type": "stream",
     "text": [
      "\r",
      "100%|██████████| 1/1 [00:00<00:00,  1.06it/s]"
     ]
    },
    {
     "name": "stderr",
     "output_type": "stream",
     "text": [
      "\r",
      "100%|██████████| 1/1 [00:00<00:00,  1.06it/s]"
     ]
    },
    {
     "name": "stdout",
     "output_type": "stream",
     "text": [
      "\n",
      "rate limit: 7 \n",
      "LaatsteUpdate API calls: create: 0, read: 0, update: 1, delete: 0, backoff: 0\n"
     ]
    },
    {
     "name": "stderr",
     "output_type": "stream",
     "text": [
      "\n"
     ]
    },
    {
     "name": "stdout",
     "output_type": "stream",
     "text": [
      "BatchName     object\n",
      "ObjectName    object\n",
      "Source        object\n",
      "Timestamp     object\n",
      "dtype: object\n"
     ]
    },
    {
     "name": "stderr",
     "output_type": "stream",
     "text": [
      "\r",
      "  0%|          | 0/1 [00:00<?, ?it/s]"
     ]
    },
    {
     "name": "stderr",
     "output_type": "stream",
     "text": [
      "\r",
      "100%|██████████| 1/1 [00:01<00:00,  1.20s/it]"
     ]
    },
    {
     "name": "stderr",
     "output_type": "stream",
     "text": [
      "\r",
      "100%|██████████| 1/1 [00:01<00:00,  1.21s/it]"
     ]
    },
    {
     "name": "stdout",
     "output_type": "stream",
     "text": [
      "\n",
      "rate limit: 7 \n",
      "UpdateDetails API calls: create: 1, read: 0, update: 0, delete: 0, backoff: 0\n"
     ]
    },
    {
     "name": "stderr",
     "output_type": "stream",
     "text": [
      "\n"
     ]
    },
    {
     "name": "stdout",
     "output_type": "stream",
     "text": [
      "updating: [{'Key': 1, 'Updating Leeftijdsgroep': 'false'}]\n",
      "Key                         int64\n",
      "Updating Leeftijdsgroep    object\n",
      "dtype: object\n"
     ]
    },
    {
     "name": "stderr",
     "output_type": "stream",
     "text": [
      "\r",
      "  0%|          | 0/1 [00:00<?, ?it/s]"
     ]
    },
    {
     "name": "stderr",
     "output_type": "stream",
     "text": [
      "\r",
      "100%|██████████| 1/1 [00:01<00:00,  1.69s/it]"
     ]
    },
    {
     "name": "stderr",
     "output_type": "stream",
     "text": [
      "\r",
      "100%|██████████| 1/1 [00:01<00:00,  1.69s/it]"
     ]
    },
    {
     "name": "stdout",
     "output_type": "stream",
     "text": [
      "\n",
      "rate limit: 7 \n",
      "LaatsteUpdate API calls: create: 0, read: 0, update: 1, delete: 0, backoff: 0\n"
     ]
    },
    {
     "name": "stderr",
     "output_type": "stream",
     "text": [
      "\n"
     ]
    }
   ],
   "source": [
    "if knack:\n",
    "  await knack.publish(tabel.fillna(0).assign(Datum=tabel.Datum.dt.strftime('%Y-%m-%d')), 'Leeftijdsgroep', Cache)"
   ]
  }
 ],
 "metadata": {
  "jupytext": {
   "cell_metadata_filter": "title,-all"
  },
  "kernelspec": {
   "display_name": "Python 3 (ipykernel)",
   "language": "python",
   "name": "python3"
  },
  "language_info": {
   "codemirror_mode": {
    "name": "ipython",
    "version": 3
   },
   "file_extension": ".py",
   "mimetype": "text/x-python",
   "name": "python",
   "nbconvert_exporter": "python",
   "pygments_lexer": "ipython3",
   "version": "3.9.6"
  },
  "papermill": {
   "default_parameters": {},
   "duration": 29.730086,
   "end_time": "2021-09-10T09:15:24.691724",
   "environment_variables": {},
   "exception": null,
   "input_path": "-",
   "output_path": "LeeftijdsgroepenLandelijk.ipynb",
   "parameters": {},
   "start_time": "2021-09-10T09:14:54.961638",
   "version": "2.3.3"
  }
 },
 "nbformat": 4,
 "nbformat_minor": 5
}