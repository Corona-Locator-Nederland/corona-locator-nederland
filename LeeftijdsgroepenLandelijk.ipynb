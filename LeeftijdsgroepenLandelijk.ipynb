{
 "cells": [
  {
   "cell_type": "code",
   "execution_count": 1,
   "id": "34364f8d",
   "metadata": {
    "execution": {
     "iopub.execute_input": "2021-11-30T09:13:45.643125Z",
     "iopub.status.busy": "2021-11-30T09:13:45.637949Z",
     "iopub.status.idle": "2021-11-30T09:13:50.034360Z",
     "shell.execute_reply": "2021-11-30T09:13:50.033224Z"
    },
    "lines_to_next_cell": 1,
    "papermill": {
     "duration": 4.437541,
     "end_time": "2021-11-30T09:13:50.034519",
     "exception": false,
     "start_time": "2021-11-30T09:13:45.596978",
     "status": "completed"
    },
    "tags": []
   },
   "outputs": [],
   "source": [
    "from IPython import get_ipython\n",
    "from IPython.core.display import display\n",
    "get_ipython().run_line_magic('load_ext', 'autoreload')\n",
    "get_ipython().run_line_magic('autoreload', '2')\n",
    "get_ipython().run_line_magic('run', 'setup')"
   ]
  },
  {
   "cell_type": "code",
   "execution_count": 2,
   "id": "6cba7392",
   "metadata": {
    "execution": {
     "iopub.execute_input": "2021-11-30T09:13:50.072771Z",
     "iopub.status.busy": "2021-11-30T09:13:50.072048Z",
     "iopub.status.idle": "2021-11-30T09:13:54.211540Z",
     "shell.execute_reply": "2021-11-30T09:13:54.212315Z"
    },
    "lines_to_next_cell": 1,
    "papermill": {
     "duration": 4.16267,
     "end_time": "2021-11-30T09:13:54.212502",
     "exception": false,
     "start_time": "2021-11-30T09:13:50.049832",
     "status": "completed"
    },
    "tags": [],
    "title": "leeftijdsgroepen: download RIVM data"
   },
   "outputs": [
    {
     "name": "stdout",
     "output_type": "stream",
     "text": [
      "rivm/COVID-19_casus_landelijk-2021-11-29@14-15.csv exists\n"
     ]
    },
    {
     "name": "stdout",
     "output_type": "stream",
     "text": [
      "loading rivm/COVID-19_casus_landelijk-2021-11-29@14-15.csv.gz\n"
     ]
    },
    {
     "data": {
      "text/html": [
       "<div>\n",
       "<style scoped>\n",
       "    .dataframe tbody tr th:only-of-type {\n",
       "        vertical-align: middle;\n",
       "    }\n",
       "\n",
       "    .dataframe tbody tr th {\n",
       "        vertical-align: top;\n",
       "    }\n",
       "\n",
       "    .dataframe thead th {\n",
       "        text-align: right;\n",
       "    }\n",
       "</style>\n",
       "<table border=\"1\" class=\"dataframe\">\n",
       "  <thead>\n",
       "    <tr style=\"text-align: right;\">\n",
       "      <th></th>\n",
       "      <th>Date_file</th>\n",
       "      <th>Date_statistics</th>\n",
       "      <th>Date_statistics_type</th>\n",
       "      <th>Agegroup</th>\n",
       "      <th>Sex</th>\n",
       "      <th>Province</th>\n",
       "      <th>Hospital_admission</th>\n",
       "      <th>Deceased</th>\n",
       "      <th>Week_of_death</th>\n",
       "      <th>Municipal_health_service</th>\n",
       "    </tr>\n",
       "  </thead>\n",
       "  <tbody>\n",
       "    <tr>\n",
       "      <th>0</th>\n",
       "      <td>2021-11-29 10:00:00</td>\n",
       "      <td>2020-01-01</td>\n",
       "      <td>DOO</td>\n",
       "      <td>40-49</td>\n",
       "      <td>Female</td>\n",
       "      <td>Noord-Holland</td>\n",
       "      <td>No</td>\n",
       "      <td>No</td>\n",
       "      <td>NaN</td>\n",
       "      <td>GGD Amsterdam</td>\n",
       "    </tr>\n",
       "    <tr>\n",
       "      <th>1</th>\n",
       "      <td>2021-11-29 10:00:00</td>\n",
       "      <td>2020-01-01</td>\n",
       "      <td>DOO</td>\n",
       "      <td>50-59</td>\n",
       "      <td>Male</td>\n",
       "      <td>Gelderland</td>\n",
       "      <td>No</td>\n",
       "      <td>No</td>\n",
       "      <td>NaN</td>\n",
       "      <td>Veiligheids- en Gezondheidsregio Gelderland-Mi...</td>\n",
       "    </tr>\n",
       "    <tr>\n",
       "      <th>2</th>\n",
       "      <td>2021-11-29 10:00:00</td>\n",
       "      <td>2020-01-01</td>\n",
       "      <td>DOO</td>\n",
       "      <td>20-29</td>\n",
       "      <td>Female</td>\n",
       "      <td>Zuid-Holland</td>\n",
       "      <td>No</td>\n",
       "      <td>No</td>\n",
       "      <td>NaN</td>\n",
       "      <td>GGD Hollands-Midden</td>\n",
       "    </tr>\n",
       "    <tr>\n",
       "      <th>3</th>\n",
       "      <td>2021-11-29 10:00:00</td>\n",
       "      <td>2020-01-01</td>\n",
       "      <td>DOO</td>\n",
       "      <td>60-69</td>\n",
       "      <td>Female</td>\n",
       "      <td>Noord-Holland</td>\n",
       "      <td>No</td>\n",
       "      <td>No</td>\n",
       "      <td>NaN</td>\n",
       "      <td>GGD Hollands-Noorden</td>\n",
       "    </tr>\n",
       "    <tr>\n",
       "      <th>4</th>\n",
       "      <td>2021-11-29 10:00:00</td>\n",
       "      <td>2020-01-04</td>\n",
       "      <td>DOO</td>\n",
       "      <td>10-19</td>\n",
       "      <td>Female</td>\n",
       "      <td>Gelderland</td>\n",
       "      <td>Unknown</td>\n",
       "      <td>No</td>\n",
       "      <td>NaN</td>\n",
       "      <td>GGD Gelderland-Zuid</td>\n",
       "    </tr>\n",
       "  </tbody>\n",
       "</table>\n",
       "</div>"
      ],
      "text/plain": [
       "             Date_file Date_statistics Date_statistics_type Agegroup     Sex  \\\n",
       "0  2021-11-29 10:00:00      2020-01-01                  DOO    40-49  Female   \n",
       "1  2021-11-29 10:00:00      2020-01-01                  DOO    50-59    Male   \n",
       "2  2021-11-29 10:00:00      2020-01-01                  DOO    20-29  Female   \n",
       "3  2021-11-29 10:00:00      2020-01-01                  DOO    60-69  Female   \n",
       "4  2021-11-29 10:00:00      2020-01-04                  DOO    10-19  Female   \n",
       "\n",
       "        Province Hospital_admission Deceased  Week_of_death  \\\n",
       "0  Noord-Holland                 No       No            NaN   \n",
       "1     Gelderland                 No       No            NaN   \n",
       "2   Zuid-Holland                 No       No            NaN   \n",
       "3  Noord-Holland                 No       No            NaN   \n",
       "4     Gelderland            Unknown       No            NaN   \n",
       "\n",
       "                            Municipal_health_service  \n",
       "0                                      GGD Amsterdam  \n",
       "1  Veiligheids- en Gezondheidsregio Gelderland-Mi...  \n",
       "2                                GGD Hollands-Midden  \n",
       "3                               GGD Hollands-Noorden  \n",
       "4                                GGD Gelderland-Zuid  "
      ]
     },
     "metadata": {},
     "output_type": "display_data"
    }
   ],
   "source": [
    "#leeftijdsgroepen = SimpleNamespace()\n",
    "@run\n",
    "def cell():\n",
    "  global rivm\n",
    "  rivm = RIVM.csv('COVID-19_casus_landelijk')\n",
    "  display(rivm.head())"
   ]
  },
  {
   "cell_type": "code",
   "execution_count": 3,
   "id": "3d7b56c2",
   "metadata": {
    "execution": {
     "iopub.execute_input": "2021-11-30T09:13:54.259862Z",
     "iopub.status.busy": "2021-11-30T09:13:54.259099Z",
     "iopub.status.idle": "2021-11-30T09:13:57.073940Z",
     "shell.execute_reply": "2021-11-30T09:13:57.072633Z"
    },
    "lines_to_next_cell": 1,
    "papermill": {
     "duration": 2.839751,
     "end_time": "2021-11-30T09:13:57.074090",
     "exception": false,
     "start_time": "2021-11-30T09:13:54.234339",
     "status": "completed"
    },
    "tags": [],
    "title": "Download de bevolkings cijfers van CBS, uitgesplitst op de leeftijds categorien in de dataset van het RIVM"
   },
   "outputs": [],
   "source": [
    "@run\n",
    "def cell():\n",
    "  global bevolking\n",
    "  bevolking = CBS.bevolking(leeftijdsgroepen=True)"
   ]
  },
  {
   "cell_type": "code",
   "execution_count": 4,
   "id": "87baf2b1",
   "metadata": {
    "execution": {
     "iopub.execute_input": "2021-11-30T09:13:57.127261Z",
     "iopub.status.busy": "2021-11-30T09:13:57.126692Z",
     "iopub.status.idle": "2021-11-30T09:14:08.293920Z",
     "shell.execute_reply": "2021-11-30T09:14:08.295228Z"
    },
    "lines_to_next_cell": 1,
    "papermill": {
     "duration": 11.203321,
     "end_time": "2021-11-30T09:14:08.295450",
     "exception": false,
     "start_time": "2021-11-30T09:13:57.092129",
     "status": "completed"
    },
    "tags": [],
    "title": "leeftijdsgroepen: prepareer tabel"
   },
   "outputs": [
    {
     "data": {
      "text/html": [
       "<style type=\"text/css\">\n",
       "#T_622f6_row0_col7 {\n",
       "  background-color: #453581;\n",
       "  color: #f1f1f1;\n",
       "}\n",
       "#T_622f6_row0_col8 {\n",
       "  background-color: #450559;\n",
       "  color: #f1f1f1;\n",
       "}\n",
       "#T_622f6_row0_col9 {\n",
       "  background-color: #3e4989;\n",
       "  color: #f1f1f1;\n",
       "}\n",
       "#T_622f6_row0_col10, #T_622f6_row1_col8, #T_622f6_row2_col8, #T_622f6_row3_col10, #T_622f6_row4_col10 {\n",
       "  background-color: #440154;\n",
       "  color: #f1f1f1;\n",
       "}\n",
       "#T_622f6_row0_col11, #T_622f6_row3_col8 {\n",
       "  background-color: #46085c;\n",
       "  color: #f1f1f1;\n",
       "}\n",
       "#T_622f6_row0_col12 {\n",
       "  background-color: #365d8d;\n",
       "  color: #f1f1f1;\n",
       "}\n",
       "#T_622f6_row0_col13, #T_622f6_row3_col14 {\n",
       "  background-color: #1f9a8a;\n",
       "  color: #f1f1f1;\n",
       "}\n",
       "#T_622f6_row0_col14 {\n",
       "  background-color: #52c569;\n",
       "  color: #000000;\n",
       "}\n",
       "#T_622f6_row0_col15, #T_622f6_row1_col15 {\n",
       "  background-color: #93d741;\n",
       "  color: #000000;\n",
       "}\n",
       "#T_622f6_row0_col16, #T_622f6_row3_col16 {\n",
       "  background-color: #dae319;\n",
       "  color: #000000;\n",
       "}\n",
       "#T_622f6_row0_col17, #T_622f6_row1_col17, #T_622f6_row2_col17, #T_622f6_row3_col17, #T_622f6_row4_col17 {\n",
       "  background-color: #fde725;\n",
       "  color: #000000;\n",
       "}\n",
       "#T_622f6_row1_col7 {\n",
       "  background-color: #3b518b;\n",
       "  color: #f1f1f1;\n",
       "}\n",
       "#T_622f6_row1_col9 {\n",
       "  background-color: #3e4c8a;\n",
       "  color: #f1f1f1;\n",
       "}\n",
       "#T_622f6_row1_col10 {\n",
       "  background-color: #482576;\n",
       "  color: #f1f1f1;\n",
       "}\n",
       "#T_622f6_row1_col11 {\n",
       "  background-color: #472f7d;\n",
       "  color: #f1f1f1;\n",
       "}\n",
       "#T_622f6_row1_col12 {\n",
       "  background-color: #31688e;\n",
       "  color: #f1f1f1;\n",
       "}\n",
       "#T_622f6_row1_col13 {\n",
       "  background-color: #238a8d;\n",
       "  color: #f1f1f1;\n",
       "}\n",
       "#T_622f6_row1_col14 {\n",
       "  background-color: #3bbb75;\n",
       "  color: #f1f1f1;\n",
       "}\n",
       "#T_622f6_row1_col16, #T_622f6_row2_col16 {\n",
       "  background-color: #dfe318;\n",
       "  color: #000000;\n",
       "}\n",
       "#T_622f6_row2_col7, #T_622f6_row3_col13 {\n",
       "  background-color: #33638d;\n",
       "  color: #f1f1f1;\n",
       "}\n",
       "#T_622f6_row2_col9 {\n",
       "  background-color: #453781;\n",
       "  color: #f1f1f1;\n",
       "}\n",
       "#T_622f6_row2_col10 {\n",
       "  background-color: #481f70;\n",
       "  color: #f1f1f1;\n",
       "}\n",
       "#T_622f6_row2_col11 {\n",
       "  background-color: #46327e;\n",
       "  color: #f1f1f1;\n",
       "}\n",
       "#T_622f6_row2_col12 {\n",
       "  background-color: #3a548c;\n",
       "  color: #f1f1f1;\n",
       "}\n",
       "#T_622f6_row2_col13 {\n",
       "  background-color: #2a768e;\n",
       "  color: #f1f1f1;\n",
       "}\n",
       "#T_622f6_row2_col14 {\n",
       "  background-color: #23a983;\n",
       "  color: #f1f1f1;\n",
       "}\n",
       "#T_622f6_row2_col15 {\n",
       "  background-color: #7fd34e;\n",
       "  color: #000000;\n",
       "}\n",
       "#T_622f6_row3_col7 {\n",
       "  background-color: #297a8e;\n",
       "  color: #f1f1f1;\n",
       "}\n",
       "#T_622f6_row3_col9 {\n",
       "  background-color: #46075a;\n",
       "  color: #f1f1f1;\n",
       "}\n",
       "#T_622f6_row3_col11 {\n",
       "  background-color: #482475;\n",
       "  color: #f1f1f1;\n",
       "}\n",
       "#T_622f6_row3_col12 {\n",
       "  background-color: #46337f;\n",
       "  color: #f1f1f1;\n",
       "}\n",
       "#T_622f6_row3_col15 {\n",
       "  background-color: #6ece58;\n",
       "  color: #000000;\n",
       "}\n",
       "#T_622f6_row4_col7 {\n",
       "  background-color: #1f958b;\n",
       "  color: #f1f1f1;\n",
       "}\n",
       "#T_622f6_row4_col8 {\n",
       "  background-color: #453882;\n",
       "  color: #f1f1f1;\n",
       "}\n",
       "#T_622f6_row4_col9 {\n",
       "  background-color: #450457;\n",
       "  color: #f1f1f1;\n",
       "}\n",
       "#T_622f6_row4_col11 {\n",
       "  background-color: #482878;\n",
       "  color: #f1f1f1;\n",
       "}\n",
       "#T_622f6_row4_col12 {\n",
       "  background-color: #482677;\n",
       "  color: #f1f1f1;\n",
       "}\n",
       "#T_622f6_row4_col13 {\n",
       "  background-color: #365c8d;\n",
       "  color: #f1f1f1;\n",
       "}\n",
       "#T_622f6_row4_col14 {\n",
       "  background-color: #21908d;\n",
       "  color: #f1f1f1;\n",
       "}\n",
       "#T_622f6_row4_col15 {\n",
       "  background-color: #5ac864;\n",
       "  color: #000000;\n",
       "}\n",
       "#T_622f6_row4_col16 {\n",
       "  background-color: #d5e21a;\n",
       "  color: #000000;\n",
       "}\n",
       "</style>\n",
       "<table id=\"T_622f6_\">\n",
       "  <thead>\n",
       "    <tr>\n",
       "      <th class=\"blank level0\" >&nbsp;</th>\n",
       "      <th class=\"col_heading level0 col0\" >Key</th>\n",
       "      <th class=\"col_heading level0 col1\" >Weken terug</th>\n",
       "      <th class=\"col_heading level0 col2\" >Datum</th>\n",
       "      <th class=\"col_heading level0 col3\" >Periode</th>\n",
       "      <th class=\"col_heading level0 col4\" >Gemiddelde leeftijd</th>\n",
       "      <th class=\"col_heading level0 col5\" >Totaal</th>\n",
       "      <th class=\"col_heading level0 col6\" >Type</th>\n",
       "      <th class=\"col_heading level0 col7\" >0-9</th>\n",
       "      <th class=\"col_heading level0 col8\" >10-19</th>\n",
       "      <th class=\"col_heading level0 col9\" >20-29</th>\n",
       "      <th class=\"col_heading level0 col10\" >30-39</th>\n",
       "      <th class=\"col_heading level0 col11\" >40-49</th>\n",
       "      <th class=\"col_heading level0 col12\" >50-59</th>\n",
       "      <th class=\"col_heading level0 col13\" >60-69</th>\n",
       "      <th class=\"col_heading level0 col14\" >70-79</th>\n",
       "      <th class=\"col_heading level0 col15\" >80-89</th>\n",
       "      <th class=\"col_heading level0 col16\" >90+</th>\n",
       "      <th class=\"col_heading level0 col17\" >Onbekend</th>\n",
       "      <th class=\"col_heading level0 col18\" >c0-9</th>\n",
       "      <th class=\"col_heading level0 col19\" >c10-19</th>\n",
       "      <th class=\"col_heading level0 col20\" >c20-29</th>\n",
       "      <th class=\"col_heading level0 col21\" >c30-39</th>\n",
       "      <th class=\"col_heading level0 col22\" >c40-49</th>\n",
       "      <th class=\"col_heading level0 col23\" >c50-59</th>\n",
       "      <th class=\"col_heading level0 col24\" >c60-69</th>\n",
       "      <th class=\"col_heading level0 col25\" >c70-79</th>\n",
       "      <th class=\"col_heading level0 col26\" >c80-89</th>\n",
       "      <th class=\"col_heading level0 col27\" >c90+</th>\n",
       "      <th class=\"col_heading level0 col28\" >cOnbekend</th>\n",
       "    </tr>\n",
       "  </thead>\n",
       "  <tbody>\n",
       "    <tr>\n",
       "      <th id=\"T_622f6_level0_row0\" class=\"row_heading level0 row0\" >0</th>\n",
       "      <td id=\"T_622f6_row0_col0\" class=\"data row0 col0\" >p000</td>\n",
       "      <td id=\"T_622f6_row0_col1\" class=\"data row0 col1\" >0</td>\n",
       "      <td id=\"T_622f6_row0_col2\" class=\"data row0 col2\" >2021-11-29 00:00:00</td>\n",
       "      <td id=\"T_622f6_row0_col3\" class=\"data row0 col3\" >23/11-29/11</td>\n",
       "      <td id=\"T_622f6_row0_col4\" class=\"data row0 col4\" >36.100000</td>\n",
       "      <td id=\"T_622f6_row0_col5\" class=\"data row0 col5\" >80812.000000</td>\n",
       "      <td id=\"T_622f6_row0_col6\" class=\"data row0 col6\" >Positief getest</td>\n",
       "      <td id=\"T_622f6_row0_col7\" class=\"data row0 col7\" >10937.000000</td>\n",
       "      <td id=\"T_622f6_row0_col8\" class=\"data row0 col8\" >12771.000000</td>\n",
       "      <td id=\"T_622f6_row0_col9\" class=\"data row0 col9\" >10088.000000</td>\n",
       "      <td id=\"T_622f6_row0_col10\" class=\"data row0 col10\" >12927.000000</td>\n",
       "      <td id=\"T_622f6_row0_col11\" class=\"data row0 col11\" >12674.000000</td>\n",
       "      <td id=\"T_622f6_row0_col12\" class=\"data row0 col12\" >9154.000000</td>\n",
       "      <td id=\"T_622f6_row0_col13\" class=\"data row0 col13\" >5952.000000</td>\n",
       "      <td id=\"T_622f6_row0_col14\" class=\"data row0 col14\" >3492.000000</td>\n",
       "      <td id=\"T_622f6_row0_col15\" class=\"data row0 col15\" >2094.000000</td>\n",
       "      <td id=\"T_622f6_row0_col16\" class=\"data row0 col16\" >722.000000</td>\n",
       "      <td id=\"T_622f6_row0_col17\" class=\"data row0 col17\" >1.000000</td>\n",
       "      <td id=\"T_622f6_row0_col18\" class=\"data row0 col18\" >846</td>\n",
       "      <td id=\"T_622f6_row0_col19\" class=\"data row0 col19\" >987</td>\n",
       "      <td id=\"T_622f6_row0_col20\" class=\"data row0 col20\" >780</td>\n",
       "      <td id=\"T_622f6_row0_col21\" class=\"data row0 col21\" >1000</td>\n",
       "      <td id=\"T_622f6_row0_col22\" class=\"data row0 col22\" >980</td>\n",
       "      <td id=\"T_622f6_row0_col23\" class=\"data row0 col23\" >708</td>\n",
       "      <td id=\"T_622f6_row0_col24\" class=\"data row0 col24\" >460</td>\n",
       "      <td id=\"T_622f6_row0_col25\" class=\"data row0 col25\" >270</td>\n",
       "      <td id=\"T_622f6_row0_col26\" class=\"data row0 col26\" >161</td>\n",
       "      <td id=\"T_622f6_row0_col27\" class=\"data row0 col27\" >55</td>\n",
       "      <td id=\"T_622f6_row0_col28\" class=\"data row0 col28\" >0</td>\n",
       "    </tr>\n",
       "    <tr>\n",
       "      <th id=\"T_622f6_level0_row1\" class=\"row_heading level0 row1\" >1</th>\n",
       "      <td id=\"T_622f6_row1_col0\" class=\"data row1 col0\" >p001</td>\n",
       "      <td id=\"T_622f6_row1_col1\" class=\"data row1 col1\" >1</td>\n",
       "      <td id=\"T_622f6_row1_col2\" class=\"data row1 col2\" >2021-11-29 00:00:00</td>\n",
       "      <td id=\"T_622f6_row1_col3\" class=\"data row1 col3\" >16/11-22/11</td>\n",
       "      <td id=\"T_622f6_row1_col4\" class=\"data row1 col4\" >36.900000</td>\n",
       "      <td id=\"T_622f6_row1_col5\" class=\"data row1 col5\" >152161.000000</td>\n",
       "      <td id=\"T_622f6_row1_col6\" class=\"data row1 col6\" >Positief getest</td>\n",
       "      <td id=\"T_622f6_row1_col7\" class=\"data row1 col7\" >19041.000000</td>\n",
       "      <td id=\"T_622f6_row1_col8\" class=\"data row1 col8\" >25356.000000</td>\n",
       "      <td id=\"T_622f6_row1_col9\" class=\"data row1 col9\" >19529.000000</td>\n",
       "      <td id=\"T_622f6_row1_col10\" class=\"data row1 col10\" >22734.000000</td>\n",
       "      <td id=\"T_622f6_row1_col11\" class=\"data row1 col11\" >21905.000000</td>\n",
       "      <td id=\"T_622f6_row1_col12\" class=\"data row1 col12\" >16902.000000</td>\n",
       "      <td id=\"T_622f6_row1_col13\" class=\"data row1 col13\" >13314.000000</td>\n",
       "      <td id=\"T_622f6_row1_col14\" class=\"data row1 col14\" >8029.000000</td>\n",
       "      <td id=\"T_622f6_row1_col15\" class=\"data row1 col15\" >4148.000000</td>\n",
       "      <td id=\"T_622f6_row1_col16\" class=\"data row1 col16\" >1202.000000</td>\n",
       "      <td id=\"T_622f6_row1_col17\" class=\"data row1 col17\" >1.000000</td>\n",
       "      <td id=\"T_622f6_row1_col18\" class=\"data row1 col18\" >750</td>\n",
       "      <td id=\"T_622f6_row1_col19\" class=\"data row1 col19\" >1000</td>\n",
       "      <td id=\"T_622f6_row1_col20\" class=\"data row1 col20\" >770</td>\n",
       "      <td id=\"T_622f6_row1_col21\" class=\"data row1 col21\" >896</td>\n",
       "      <td id=\"T_622f6_row1_col22\" class=\"data row1 col22\" >863</td>\n",
       "      <td id=\"T_622f6_row1_col23\" class=\"data row1 col23\" >666</td>\n",
       "      <td id=\"T_622f6_row1_col24\" class=\"data row1 col24\" >525</td>\n",
       "      <td id=\"T_622f6_row1_col25\" class=\"data row1 col25\" >316</td>\n",
       "      <td id=\"T_622f6_row1_col26\" class=\"data row1 col26\" >163</td>\n",
       "      <td id=\"T_622f6_row1_col27\" class=\"data row1 col27\" >47</td>\n",
       "      <td id=\"T_622f6_row1_col28\" class=\"data row1 col28\" >0</td>\n",
       "    </tr>\n",
       "    <tr>\n",
       "      <th id=\"T_622f6_level0_row2\" class=\"row_heading level0 row2\" >2</th>\n",
       "      <td id=\"T_622f6_row2_col0\" class=\"data row2 col0\" >p002</td>\n",
       "      <td id=\"T_622f6_row2_col1\" class=\"data row2 col1\" >2</td>\n",
       "      <td id=\"T_622f6_row2_col2\" class=\"data row2 col2\" >2021-11-29 00:00:00</td>\n",
       "      <td id=\"T_622f6_row2_col3\" class=\"data row2 col3\" >09/11-15/11</td>\n",
       "      <td id=\"T_622f6_row2_col4\" class=\"data row2 col4\" >38.400000</td>\n",
       "      <td id=\"T_622f6_row2_col5\" class=\"data row2 col5\" >126843.000000</td>\n",
       "      <td id=\"T_622f6_row2_col6\" class=\"data row2 col6\" >Positief getest</td>\n",
       "      <td id=\"T_622f6_row2_col7\" class=\"data row2 col7\" >13823.000000</td>\n",
       "      <td id=\"T_622f6_row2_col8\" class=\"data row2 col8\" >20168.000000</td>\n",
       "      <td id=\"T_622f6_row2_col9\" class=\"data row2 col9\" >16949.000000</td>\n",
       "      <td id=\"T_622f6_row2_col10\" class=\"data row2 col10\" >18513.000000</td>\n",
       "      <td id=\"T_622f6_row2_col11\" class=\"data row2 col11\" >17267.000000</td>\n",
       "      <td id=\"T_622f6_row2_col12\" class=\"data row2 col12\" >14967.000000</td>\n",
       "      <td id=\"T_622f6_row2_col13\" class=\"data row2 col13\" >12227.000000</td>\n",
       "      <td id=\"T_622f6_row2_col14\" class=\"data row2 col14\" >7998.000000</td>\n",
       "      <td id=\"T_622f6_row2_col15\" class=\"data row2 col15\" >3918.000000</td>\n",
       "      <td id=\"T_622f6_row2_col16\" class=\"data row2 col16\" >1012.000000</td>\n",
       "      <td id=\"T_622f6_row2_col17\" class=\"data row2 col17\" >1.000000</td>\n",
       "      <td id=\"T_622f6_row2_col18\" class=\"data row2 col18\" >685</td>\n",
       "      <td id=\"T_622f6_row2_col19\" class=\"data row2 col19\" >1000</td>\n",
       "      <td id=\"T_622f6_row2_col20\" class=\"data row2 col20\" >840</td>\n",
       "      <td id=\"T_622f6_row2_col21\" class=\"data row2 col21\" >917</td>\n",
       "      <td id=\"T_622f6_row2_col22\" class=\"data row2 col22\" >856</td>\n",
       "      <td id=\"T_622f6_row2_col23\" class=\"data row2 col23\" >742</td>\n",
       "      <td id=\"T_622f6_row2_col24\" class=\"data row2 col24\" >606</td>\n",
       "      <td id=\"T_622f6_row2_col25\" class=\"data row2 col25\" >396</td>\n",
       "      <td id=\"T_622f6_row2_col26\" class=\"data row2 col26\" >194</td>\n",
       "      <td id=\"T_622f6_row2_col27\" class=\"data row2 col27\" >50</td>\n",
       "      <td id=\"T_622f6_row2_col28\" class=\"data row2 col28\" >0</td>\n",
       "    </tr>\n",
       "    <tr>\n",
       "      <th id=\"T_622f6_level0_row3\" class=\"row_heading level0 row3\" >3</th>\n",
       "      <td id=\"T_622f6_row3_col0\" class=\"data row3 col0\" >p003</td>\n",
       "      <td id=\"T_622f6_row3_col1\" class=\"data row3 col1\" >3</td>\n",
       "      <td id=\"T_622f6_row3_col2\" class=\"data row3 col2\" >2021-11-29 00:00:00</td>\n",
       "      <td id=\"T_622f6_row3_col3\" class=\"data row3 col3\" >02/11-08/11</td>\n",
       "      <td id=\"T_622f6_row3_col4\" class=\"data row3 col4\" >39.800000</td>\n",
       "      <td id=\"T_622f6_row3_col5\" class=\"data row3 col5\" >87838.000000</td>\n",
       "      <td id=\"T_622f6_row3_col6\" class=\"data row3 col6\" >Positief getest</td>\n",
       "      <td id=\"T_622f6_row3_col7\" class=\"data row3 col7\" >7725.000000</td>\n",
       "      <td id=\"T_622f6_row3_col8\" class=\"data row3 col8\" >12771.000000</td>\n",
       "      <td id=\"T_622f6_row3_col9\" class=\"data row3 col9\" >12819.000000</td>\n",
       "      <td id=\"T_622f6_row3_col10\" class=\"data row3 col10\" >13053.000000</td>\n",
       "      <td id=\"T_622f6_row3_col11\" class=\"data row3 col11\" >11751.000000</td>\n",
       "      <td id=\"T_622f6_row3_col12\" class=\"data row3 col12\" >11127.000000</td>\n",
       "      <td id=\"T_622f6_row3_col13\" class=\"data row3 col13\" >8964.000000</td>\n",
       "      <td id=\"T_622f6_row3_col14\" class=\"data row3 col14\" >6014.000000</td>\n",
       "      <td id=\"T_622f6_row3_col15\" class=\"data row3 col15\" >2863.000000</td>\n",
       "      <td id=\"T_622f6_row3_col16\" class=\"data row3 col16\" >751.000000</td>\n",
       "      <td id=\"T_622f6_row3_col17\" class=\"data row3 col17\" >0.000000</td>\n",
       "      <td id=\"T_622f6_row3_col18\" class=\"data row3 col18\" >591</td>\n",
       "      <td id=\"T_622f6_row3_col19\" class=\"data row3 col19\" >978</td>\n",
       "      <td id=\"T_622f6_row3_col20\" class=\"data row3 col20\" >982</td>\n",
       "      <td id=\"T_622f6_row3_col21\" class=\"data row3 col21\" >1000</td>\n",
       "      <td id=\"T_622f6_row3_col22\" class=\"data row3 col22\" >900</td>\n",
       "      <td id=\"T_622f6_row3_col23\" class=\"data row3 col23\" >852</td>\n",
       "      <td id=\"T_622f6_row3_col24\" class=\"data row3 col24\" >686</td>\n",
       "      <td id=\"T_622f6_row3_col25\" class=\"data row3 col25\" >460</td>\n",
       "      <td id=\"T_622f6_row3_col26\" class=\"data row3 col26\" >219</td>\n",
       "      <td id=\"T_622f6_row3_col27\" class=\"data row3 col27\" >57</td>\n",
       "      <td id=\"T_622f6_row3_col28\" class=\"data row3 col28\" >0</td>\n",
       "    </tr>\n",
       "    <tr>\n",
       "      <th id=\"T_622f6_level0_row4\" class=\"row_heading level0 row4\" >4</th>\n",
       "      <td id=\"T_622f6_row4_col0\" class=\"data row4 col0\" >p004</td>\n",
       "      <td id=\"T_622f6_row4_col1\" class=\"data row4 col1\" >4</td>\n",
       "      <td id=\"T_622f6_row4_col2\" class=\"data row4 col2\" >2021-11-29 00:00:00</td>\n",
       "      <td id=\"T_622f6_row4_col3\" class=\"data row4 col3\" >26/10-01/11</td>\n",
       "      <td id=\"T_622f6_row4_col4\" class=\"data row4 col4\" >41.600000</td>\n",
       "      <td id=\"T_622f6_row4_col5\" class=\"data row4 col5\" >60985.000000</td>\n",
       "      <td id=\"T_622f6_row4_col6\" class=\"data row4 col6\" >Positief getest</td>\n",
       "      <td id=\"T_622f6_row4_col7\" class=\"data row4 col7\" >4410.000000</td>\n",
       "      <td id=\"T_622f6_row4_col8\" class=\"data row4 col8\" >7703.000000</td>\n",
       "      <td id=\"T_622f6_row4_col9\" class=\"data row4 col9\" >9117.000000</td>\n",
       "      <td id=\"T_622f6_row4_col10\" class=\"data row4 col10\" >9205.000000</td>\n",
       "      <td id=\"T_622f6_row4_col11\" class=\"data row4 col11\" >8167.000000</td>\n",
       "      <td id=\"T_622f6_row4_col12\" class=\"data row4 col12\" >8232.000000</td>\n",
       "      <td id=\"T_622f6_row4_col13\" class=\"data row4 col13\" >6571.000000</td>\n",
       "      <td id=\"T_622f6_row4_col14\" class=\"data row4 col14\" >4621.000000</td>\n",
       "      <td id=\"T_622f6_row4_col15\" class=\"data row4 col15\" >2370.000000</td>\n",
       "      <td id=\"T_622f6_row4_col16\" class=\"data row4 col16\" >588.000000</td>\n",
       "      <td id=\"T_622f6_row4_col17\" class=\"data row4 col17\" >1.000000</td>\n",
       "      <td id=\"T_622f6_row4_col18\" class=\"data row4 col18\" >479</td>\n",
       "      <td id=\"T_622f6_row4_col19\" class=\"data row4 col19\" >836</td>\n",
       "      <td id=\"T_622f6_row4_col20\" class=\"data row4 col20\" >990</td>\n",
       "      <td id=\"T_622f6_row4_col21\" class=\"data row4 col21\" >1000</td>\n",
       "      <td id=\"T_622f6_row4_col22\" class=\"data row4 col22\" >887</td>\n",
       "      <td id=\"T_622f6_row4_col23\" class=\"data row4 col23\" >894</td>\n",
       "      <td id=\"T_622f6_row4_col24\" class=\"data row4 col24\" >713</td>\n",
       "      <td id=\"T_622f6_row4_col25\" class=\"data row4 col25\" >502</td>\n",
       "      <td id=\"T_622f6_row4_col26\" class=\"data row4 col26\" >257</td>\n",
       "      <td id=\"T_622f6_row4_col27\" class=\"data row4 col27\" >63</td>\n",
       "      <td id=\"T_622f6_row4_col28\" class=\"data row4 col28\" >0</td>\n",
       "    </tr>\n",
       "  </tbody>\n",
       "</table>\n"
      ],
      "text/plain": [
       "<pandas.io.formats.style.Styler at 0x7fd6706c9b20>"
      ]
     },
     "metadata": {},
     "output_type": "display_data"
    }
   ],
   "source": [
    "# Bereken de stand van zaken van besmettingen / hospitalisaties / overlijden, per cohort in absolute aantallen en aantallen per 100k, met een kleur indicator voor de aantallen.\n",
    "# vervang <50 en Unknown door Onbekend\n",
    "@run\n",
    "def cell():\n",
    "  rivm['Cohort'] = rivm['Agegroup'].replace({'<50': 'Onbekend', 'Unknown': 'Onbekend'})\n",
    "  # aangenomen 'gemiddelde' leeftijd van een cohort: minimum waarde + 5\n",
    "  assumed_cohort_age = [(cohort, [int(n) for n in cohort.replace('+', '').split('-')]) for cohort in rivm['Cohort'].unique() if cohort[0].isdigit()]\n",
    "  assumed_cohort_age = { cohort: min(rng) + 5 for cohort, rng in assumed_cohort_age }\n",
    "  rivm['Gemiddelde leeftijd'] = rivm['Cohort'].apply(lambda x: assumed_cohort_age.get(x, np.nan))\n",
    "\n",
    "  # verwijder tijd\n",
    "  rivm['Date_file_date'] = pd.to_datetime(rivm['Date_file'].replace(r' .*', '', regex=True))\n",
    "\n",
    "  rivm['Date_statistics_date'] = pd.to_datetime(rivm['Date_statistics'])\n",
    "\n",
    "  # weken terug = verschil tussen Date_file en Date_statistcs, gedeeld door 7 dagen\n",
    "  rivm['Weken terug'] = np.floor((rivm['Date_file_date'] - rivm['Date_statistics_date'])/np.timedelta64(7, 'D')).astype(int)\n",
    "\n",
    "  # voeg key, gem leeftijd, kleurnummer en totaal toe\n",
    "  Date_file = rivm['Date_file_date'].unique()[0].astype('M8[D]').astype('O')\n",
    "  cohorten = list(bevolking.index) + ['Onbekend']\n",
    "  def summarize(df, category, prefix):\n",
    "    # aangezien we hier de dataframe in-place wijzigen (bijv door toevoegen kolommen)\n",
    "    # en we het 'rivm' frame later nog clean nodig hebben\n",
    "    df = df.copy(deep=True)\n",
    "\n",
    "    df = (df\n",
    "          .groupby(['Weken terug', 'Cohort'])['count']\n",
    "          .sum()\n",
    "          .unstack(fill_value=np.nan)\n",
    "          .reset_index()\n",
    "          .rename_axis(None, axis=1)\n",
    "        ).merge(df\n",
    "          # we voegen hier gemiddelde leeftijd toe, want die willen we op een ander\n",
    "          # niveau aggregeren voor 'df' overschreven word\n",
    "          .groupby(['Weken terug'])['Gemiddelde leeftijd']\n",
    "          .mean()\n",
    "          .to_frame(), on='Weken terug'\n",
    "        )\n",
    "\n",
    "    # altijd 52 rijen\n",
    "    df = pd.Series(np.arange(52), name='Weken terug').to_frame().merge(df, how='left', on='Weken terug')\n",
    "\n",
    "    # toevoegen missende cohorten\n",
    "    for col in cohorten:\n",
    "      if not col in df:\n",
    "        df[col] = np.nan\n",
    "\n",
    "    # sommeer per rij (axis=1) over de cohorten om een totaal te krijgen\n",
    "    df['Totaal'] = df[cohorten].sum(axis=1)\n",
    "\n",
    "    # voeg periode en datum toe\n",
    "    # periode afgeleid van weken-terug (= de index voor deze dataframe)\n",
    "    df['Datum'] = pd.to_datetime(Date_file)\n",
    "    df['Periode'] = (df\n",
    "      .index.to_series()\n",
    "      .apply(\n",
    "        lambda x: (\n",
    "          (Date_file + datetime.timedelta(weeks=-(x+1), days=1)).strftime('%d/%m')\n",
    "          + '-'\n",
    "          + (Date_file + datetime.timedelta(weeks=-x)).strftime('%d/%m')\n",
    "        )\n",
    "      )\n",
    "    )\n",
    "\n",
    "    # voeg 'Key' en 'Type' kolom toe. Variabele 'type' kan niet, is een language primitive.\n",
    "    df['Key'] = prefix + df.index.astype(str).str.rjust(3, fillchar='0')\n",
    "    df['Type'] = category\n",
    "\n",
    "    # voeg de kleur kolommen toe\n",
    "    for col in cohorten:\n",
    "      df['c' + col] = ((df[col] / df[[col for col in cohorten]].max(axis=1)) * 1000).fillna(0).astype(int)\n",
    "\n",
    "    # herschikken van de kolommen\n",
    "    colorder = ['Key', 'Weken terug', 'Datum', 'Periode', 'Gemiddelde leeftijd', 'Totaal', 'Type']\n",
    "    return df[colorder + [col for col in df if col not in colorder]]\n",
    "\n",
    "  factor = bevolking.to_dict()['per 100k']\n",
    "  global tabel\n",
    "  tabel = pd.concat(\n",
    "    # flatten the result list zodat pd.concat ze onder elkaar kan plakken\n",
    "    functools.reduce(lambda a, b: a + b, [\n",
    "      [summarize(df.assign(count=1), label, prefix), summarize(df.assign(count=df['Cohort'].apply(lambda x: factor.get(x, np.nan))), label + ' per 100.000', prefix + '100k')]\n",
    "      for df, label, prefix in [\n",
    "        (rivm, 'Positief getest', 'p'), # volledige count per cohort\n",
    "        (rivm[rivm.Hospital_admission == 'Yes'], 'Ziekenhuisopname', 'h'), # count van cohort voor Hospital_admission == 'Yes'\n",
    "        (rivm[rivm.Deceased == 'Yes'], 'Overleden', 'd'), # count van cohort voor Deceased == 'Yes'\n",
    "      ]\n",
    "    ])\n",
    "  )\n",
    "\n",
    "  # rood -> groen\n",
    "  cdict = {\n",
    "    'red':   ((0.0, 0.0, 0.0),   # no red at 0\n",
    "              (0.5, 1.0, 1.0),   # all channels set to 1.0 at 0.5 to create white\n",
    "              (1.0, 0.8, 0.8)),  # set to 0.8 so its not too bright at 1\n",
    "    'green': ((0.0, 0.8, 0.8),   # set to 0.8 so its not too bright at 0\n",
    "              (0.5, 1.0, 1.0),   # all channels set to 1.0 at 0.5 to create white\n",
    "              (1.0, 0.0, 0.0)),  # no green at 1\n",
    "    'blue':  ((0.0, 0.0, 0.0),   # no blue at 0\n",
    "              (0.5, 1.0, 1.0),   # all channels set to 1.0 at 0.5 to create white\n",
    "              (1.0, 0.0, 0.0))   # no blue at 1\n",
    "  }\n",
    "  cm = colors.LinearSegmentedColormap('GnRd', cdict)\n",
    "  # geel -> paars\n",
    "  cm = sns.color_palette('viridis_r', as_cmap=True)\n",
    "  display(tabel\n",
    "    .fillna(0)\n",
    "    .head()\n",
    "    .round(1)\n",
    "    .reset_index(drop=True)\n",
    "    .style.background_gradient(cmap=cm, axis=1, subset=cohorten)\n",
    "  )"
   ]
  },
  {
   "cell_type": "code",
   "execution_count": 5,
   "id": "fd31abfc",
   "metadata": {
    "execution": {
     "iopub.execute_input": "2021-11-30T09:14:08.347942Z",
     "iopub.status.busy": "2021-11-30T09:14:08.346260Z",
     "iopub.status.idle": "2021-11-30T09:14:37.901155Z",
     "shell.execute_reply": "2021-11-30T09:14:37.900481Z"
    },
    "papermill": {
     "duration": 29.58384,
     "end_time": "2021-11-30T09:14:37.901352",
     "exception": false,
     "start_time": "2021-11-30T09:14:08.317512",
     "status": "completed"
    },
    "tags": [],
    "title": "publish"
   },
   "outputs": [
    {
     "name": "stdout",
     "output_type": "stream",
     "text": [
      "infinities:\n"
     ]
    },
    {
     "name": "stdout",
     "output_type": "stream",
     "text": [
      "Empty DataFrame\n",
      "Columns: []\n",
      "Index: []\n"
     ]
    },
    {
     "name": "stdout",
     "output_type": "stream",
     "text": [
      "nan:\n"
     ]
    },
    {
     "name": "stdout",
     "output_type": "stream",
     "text": [
      "Empty DataFrame\n",
      "Columns: []\n",
      "Index: []\n"
     ]
    },
    {
     "name": "stdout",
     "output_type": "stream",
     "text": [
      "Key                     object\n",
      "Weken terug              int64\n",
      "Datum                   object\n",
      "Periode                 object\n",
      "Gemiddelde leeftijd    float64\n",
      "Totaal                 float64\n",
      "Type                    object\n",
      "0-9                    float64\n",
      "10-19                  float64\n",
      "20-29                  float64\n",
      "30-39                  float64\n",
      "40-49                  float64\n",
      "50-59                  float64\n",
      "60-69                  float64\n",
      "70-79                  float64\n",
      "80-89                  float64\n",
      "90+                    float64\n",
      "Onbekend               float64\n",
      "c0-9                     int64\n",
      "c10-19                   int64\n",
      "c20-29                   int64\n",
      "c30-39                   int64\n",
      "c40-49                   int64\n",
      "c50-59                   int64\n",
      "c60-69                   int64\n",
      "c70-79                   int64\n",
      "c80-89                   int64\n",
      "c90+                     int64\n",
      "cOnbekend                int64\n",
      "dtype: object\n",
      "updating knack\n"
     ]
    },
    {
     "name": "stdout",
     "output_type": "stream",
     "text": [
      "updating: [{'Key': 1, 'Updating Leeftijdsgroep': 'true'}]\n"
     ]
    },
    {
     "name": "stdout",
     "output_type": "stream",
     "text": [
      "restored LaatsteUpdate from hash\n"
     ]
    },
    {
     "name": "stdout",
     "output_type": "stream",
     "text": [
      "Key                         int64\n",
      "Updating Leeftijdsgroep    object\n",
      "dtype: object\n"
     ]
    },
    {
     "name": "stderr",
     "output_type": "stream",
     "text": [
      "\r",
      "  0%|          | 0/1 [00:00<?, ?it/s]"
     ]
    },
    {
     "name": "stderr",
     "output_type": "stream",
     "text": [
      "\r",
      "100%|██████████| 1/1 [00:00<00:00,  1.20it/s]"
     ]
    },
    {
     "name": "stderr",
     "output_type": "stream",
     "text": [
      "\r",
      "100%|██████████| 1/1 [00:00<00:00,  1.20it/s]"
     ]
    },
    {
     "name": "stdout",
     "output_type": "stream",
     "text": [
      "\n",
      "rate limit: 7 \n",
      "LaatsteUpdate API calls: create: 0, read: 1, update: 1, delete: 0, backoff: 0\n"
     ]
    },
    {
     "name": "stderr",
     "output_type": "stream",
     "text": [
      "\n"
     ]
    },
    {
     "name": "stdout",
     "output_type": "stream",
     "text": [
      "restored Leeftijdsgroep from hash\n"
     ]
    },
    {
     "name": "stdout",
     "output_type": "stream",
     "text": [
      "0-9                    float64\n",
      "10-19                  float64\n",
      "20-29                  float64\n",
      "30-39                  float64\n",
      "40-49                  float64\n",
      "50-59                  float64\n",
      "60-69                  float64\n",
      "70-79                  float64\n",
      "80-89                  float64\n",
      "90+                    float64\n",
      "Datum                   object\n",
      "Gemiddelde leeftijd    float64\n",
      "Key                     object\n",
      "Onbekend               float64\n",
      "Periode                 object\n",
      "Totaal                 float64\n",
      "Type                    object\n",
      "Weken terug              int64\n",
      "c0-9                     int64\n",
      "c10-19                   int64\n",
      "c20-29                   int64\n",
      "c30-39                   int64\n",
      "c40-49                   int64\n",
      "c50-59                   int64\n",
      "c60-69                   int64\n",
      "c70-79                   int64\n",
      "c80-89                   int64\n",
      "c90+                     int64\n",
      "cOnbekend                int64\n",
      "dtype: object\n"
     ]
    },
    {
     "name": "stderr",
     "output_type": "stream",
     "text": [
      "\r",
      "  0%|          | 0/156 [00:00<?, ?it/s]"
     ]
    },
    {
     "name": "stderr",
     "output_type": "stream",
     "text": [
      "\r",
      "  1%|          | 1/156 [00:00<01:48,  1.43it/s]"
     ]
    },
    {
     "name": "stderr",
     "output_type": "stream",
     "text": [
      "\r",
      "  3%|▎         | 5/156 [00:00<00:19,  7.79it/s]"
     ]
    },
    {
     "name": "stderr",
     "output_type": "stream",
     "text": [
      "\r",
      "  5%|▌         | 8/156 [00:01<00:18,  8.08it/s]"
     ]
    },
    {
     "name": "stderr",
     "output_type": "stream",
     "text": [
      "\r",
      "  6%|▋         | 10/156 [00:01<00:16,  9.05it/s]"
     ]
    },
    {
     "name": "stderr",
     "output_type": "stream",
     "text": [
      "\r",
      "  8%|▊         | 12/156 [00:01<00:20,  7.08it/s]"
     ]
    },
    {
     "name": "stderr",
     "output_type": "stream",
     "text": [
      "\r",
      "  9%|▉         | 14/156 [00:02<00:21,  6.60it/s]"
     ]
    },
    {
     "name": "stderr",
     "output_type": "stream",
     "text": [
      "\r",
      " 10%|█         | 16/156 [00:02<00:26,  5.19it/s]"
     ]
    },
    {
     "name": "stderr",
     "output_type": "stream",
     "text": [
      "\r",
      " 12%|█▏        | 19/156 [00:02<00:19,  6.91it/s]"
     ]
    },
    {
     "name": "stderr",
     "output_type": "stream",
     "text": [
      "\r",
      " 13%|█▎        | 20/156 [00:03<00:21,  6.35it/s]"
     ]
    },
    {
     "name": "stderr",
     "output_type": "stream",
     "text": [
      "\r",
      " 15%|█▌        | 24/156 [00:03<00:14,  9.34it/s]"
     ]
    },
    {
     "name": "stderr",
     "output_type": "stream",
     "text": [
      "\r",
      " 17%|█▋        | 26/156 [00:03<00:18,  7.14it/s]"
     ]
    },
    {
     "name": "stderr",
     "output_type": "stream",
     "text": [
      "\r",
      " 17%|█▋        | 27/156 [00:04<00:22,  5.74it/s]"
     ]
    },
    {
     "name": "stderr",
     "output_type": "stream",
     "text": [
      "\r",
      " 19%|█▊        | 29/156 [00:04<00:21,  5.97it/s]"
     ]
    },
    {
     "name": "stderr",
     "output_type": "stream",
     "text": [
      "\r",
      " 19%|█▉        | 30/156 [00:04<00:20,  6.09it/s]"
     ]
    },
    {
     "name": "stderr",
     "output_type": "stream",
     "text": [
      "\r",
      " 20%|█▉        | 31/156 [00:04<00:19,  6.33it/s]"
     ]
    },
    {
     "name": "stderr",
     "output_type": "stream",
     "text": [
      "\r",
      " 22%|██▏       | 34/156 [00:05<00:15,  7.66it/s]"
     ]
    },
    {
     "name": "stderr",
     "output_type": "stream",
     "text": [
      "\r",
      " 23%|██▎       | 36/156 [00:05<00:16,  7.13it/s]"
     ]
    },
    {
     "name": "stderr",
     "output_type": "stream",
     "text": [
      "\r",
      " 24%|██▍       | 38/156 [00:05<00:16,  7.04it/s]"
     ]
    },
    {
     "name": "stderr",
     "output_type": "stream",
     "text": [
      "\r",
      " 26%|██▌       | 40/156 [00:05<00:14,  7.94it/s]"
     ]
    },
    {
     "name": "stderr",
     "output_type": "stream",
     "text": [
      "\r",
      " 26%|██▋       | 41/156 [00:06<00:16,  6.79it/s]"
     ]
    },
    {
     "name": "stderr",
     "output_type": "stream",
     "text": [
      "\r",
      " 28%|██▊       | 43/156 [00:06<00:14,  7.97it/s]"
     ]
    },
    {
     "name": "stderr",
     "output_type": "stream",
     "text": [
      "\r",
      " 29%|██▉       | 46/156 [00:06<00:11,  9.92it/s]"
     ]
    },
    {
     "name": "stderr",
     "output_type": "stream",
     "text": [
      "\r",
      " 31%|███       | 48/156 [00:06<00:11,  9.30it/s]"
     ]
    },
    {
     "name": "stderr",
     "output_type": "stream",
     "text": [
      "\r",
      " 31%|███▏      | 49/156 [00:06<00:12,  8.58it/s]"
     ]
    },
    {
     "name": "stderr",
     "output_type": "stream",
     "text": [
      "\r",
      " 33%|███▎      | 51/156 [00:07<00:11,  9.27it/s]"
     ]
    },
    {
     "name": "stderr",
     "output_type": "stream",
     "text": [
      "\r",
      " 33%|███▎      | 52/156 [00:07<00:14,  7.41it/s]"
     ]
    },
    {
     "name": "stderr",
     "output_type": "stream",
     "text": [
      "\r",
      " 34%|███▍      | 53/156 [00:07<00:13,  7.50it/s]"
     ]
    },
    {
     "name": "stderr",
     "output_type": "stream",
     "text": [
      "\r",
      " 35%|███▍      | 54/156 [00:07<00:16,  6.35it/s]"
     ]
    },
    {
     "name": "stderr",
     "output_type": "stream",
     "text": [
      "\r",
      " 35%|███▌      | 55/156 [00:07<00:17,  5.83it/s]"
     ]
    },
    {
     "name": "stderr",
     "output_type": "stream",
     "text": [
      "\r",
      " 37%|███▋      | 57/156 [00:08<00:15,  6.35it/s]"
     ]
    },
    {
     "name": "stderr",
     "output_type": "stream",
     "text": [
      "\r",
      " 37%|███▋      | 58/156 [00:08<00:15,  6.36it/s]"
     ]
    },
    {
     "name": "stderr",
     "output_type": "stream",
     "text": [
      "\r",
      " 38%|███▊      | 59/156 [00:08<00:17,  5.54it/s]"
     ]
    },
    {
     "name": "stderr",
     "output_type": "stream",
     "text": [
      "\r",
      " 38%|███▊      | 60/156 [00:08<00:15,  6.08it/s]"
     ]
    },
    {
     "name": "stderr",
     "output_type": "stream",
     "text": [
      "\r",
      " 39%|███▉      | 61/156 [00:09<00:20,  4.60it/s]"
     ]
    },
    {
     "name": "stderr",
     "output_type": "stream",
     "text": [
      "\r",
      " 40%|███▉      | 62/156 [00:09<00:18,  5.10it/s]"
     ]
    },
    {
     "name": "stderr",
     "output_type": "stream",
     "text": [
      "\r",
      " 42%|████▏     | 66/156 [00:09<00:08, 10.28it/s]"
     ]
    },
    {
     "name": "stderr",
     "output_type": "stream",
     "text": [
      "\r",
      " 44%|████▎     | 68/156 [00:09<00:09,  8.95it/s]"
     ]
    },
    {
     "name": "stderr",
     "output_type": "stream",
     "text": [
      "\r",
      " 45%|████▍     | 70/156 [00:09<00:11,  7.52it/s]"
     ]
    },
    {
     "name": "stderr",
     "output_type": "stream",
     "text": [
      "\r",
      " 46%|████▌     | 71/156 [00:10<00:16,  5.28it/s]"
     ]
    },
    {
     "name": "stderr",
     "output_type": "stream",
     "text": [
      "\r",
      " 46%|████▌     | 72/156 [00:10<00:15,  5.29it/s]"
     ]
    },
    {
     "name": "stderr",
     "output_type": "stream",
     "text": [
      "\r",
      " 47%|████▋     | 74/156 [00:10<00:11,  6.97it/s]"
     ]
    },
    {
     "name": "stderr",
     "output_type": "stream",
     "text": [
      "\r",
      " 48%|████▊     | 75/156 [00:10<00:12,  6.73it/s]"
     ]
    },
    {
     "name": "stderr",
     "output_type": "stream",
     "text": [
      "\r",
      " 49%|████▊     | 76/156 [00:11<00:13,  5.78it/s]"
     ]
    },
    {
     "name": "stderr",
     "output_type": "stream",
     "text": [
      "\r",
      " 49%|████▉     | 77/156 [00:11<00:14,  5.40it/s]"
     ]
    },
    {
     "name": "stderr",
     "output_type": "stream",
     "text": [
      "\r",
      " 50%|█████     | 78/156 [00:11<00:15,  5.14it/s]"
     ]
    },
    {
     "name": "stderr",
     "output_type": "stream",
     "text": [
      "\r",
      " 52%|█████▏    | 81/156 [00:11<00:10,  7.03it/s]"
     ]
    },
    {
     "name": "stderr",
     "output_type": "stream",
     "text": [
      "\r",
      " 53%|█████▎    | 82/156 [00:12<00:10,  7.26it/s]"
     ]
    },
    {
     "name": "stderr",
     "output_type": "stream",
     "text": [
      "\r",
      " 54%|█████▍    | 84/156 [00:12<00:09,  7.81it/s]"
     ]
    },
    {
     "name": "stderr",
     "output_type": "stream",
     "text": [
      "\r",
      " 54%|█████▍    | 85/156 [00:12<00:08,  7.90it/s]"
     ]
    },
    {
     "name": "stderr",
     "output_type": "stream",
     "text": [
      "\r",
      " 56%|█████▌    | 87/156 [00:12<00:07,  9.22it/s]"
     ]
    },
    {
     "name": "stderr",
     "output_type": "stream",
     "text": [
      "\r",
      " 56%|█████▋    | 88/156 [00:12<00:07,  9.26it/s]"
     ]
    },
    {
     "name": "stderr",
     "output_type": "stream",
     "text": [
      "\r",
      " 57%|█████▋    | 89/156 [00:12<00:07,  9.02it/s]"
     ]
    },
    {
     "name": "stderr",
     "output_type": "stream",
     "text": [
      "\r",
      " 58%|█████▊    | 90/156 [00:12<00:08,  7.51it/s]"
     ]
    },
    {
     "name": "stderr",
     "output_type": "stream",
     "text": [
      "\r",
      " 58%|█████▊    | 91/156 [00:13<00:08,  7.72it/s]"
     ]
    },
    {
     "name": "stderr",
     "output_type": "stream",
     "text": [
      "\r",
      " 59%|█████▉    | 92/156 [00:13<00:11,  5.64it/s]"
     ]
    },
    {
     "name": "stderr",
     "output_type": "stream",
     "text": [
      "\r",
      " 60%|██████    | 94/156 [00:13<00:09,  6.80it/s]"
     ]
    },
    {
     "name": "stderr",
     "output_type": "stream",
     "text": [
      "\r",
      " 61%|██████    | 95/156 [00:13<00:09,  6.57it/s]"
     ]
    },
    {
     "name": "stderr",
     "output_type": "stream",
     "text": [
      "\r",
      " 62%|██████▏   | 97/156 [00:13<00:07,  7.66it/s]"
     ]
    },
    {
     "name": "stderr",
     "output_type": "stream",
     "text": [
      "\r",
      " 63%|██████▎   | 99/156 [00:14<00:07,  7.67it/s]"
     ]
    },
    {
     "name": "stderr",
     "output_type": "stream",
     "text": [
      "\r",
      " 64%|██████▍   | 100/156 [00:14<00:10,  5.47it/s]"
     ]
    },
    {
     "name": "stderr",
     "output_type": "stream",
     "text": [
      "\r",
      " 65%|██████▍   | 101/156 [00:14<00:11,  4.82it/s]"
     ]
    },
    {
     "name": "stderr",
     "output_type": "stream",
     "text": [
      "\r",
      " 67%|██████▋   | 104/156 [00:14<00:06,  7.94it/s]"
     ]
    },
    {
     "name": "stderr",
     "output_type": "stream",
     "text": [
      "\r",
      " 68%|██████▊   | 106/156 [00:15<00:06,  7.51it/s]"
     ]
    },
    {
     "name": "stderr",
     "output_type": "stream",
     "text": [
      "\r",
      " 69%|██████▉   | 108/156 [00:15<00:05,  9.14it/s]"
     ]
    },
    {
     "name": "stderr",
     "output_type": "stream",
     "text": [
      "\r",
      " 71%|███████   | 110/156 [00:15<00:05,  7.96it/s]"
     ]
    },
    {
     "name": "stderr",
     "output_type": "stream",
     "text": [
      "\r",
      " 72%|███████▏  | 112/156 [00:16<00:05,  7.67it/s]"
     ]
    },
    {
     "name": "stderr",
     "output_type": "stream",
     "text": [
      "\r",
      " 73%|███████▎  | 114/156 [00:16<00:05,  8.20it/s]"
     ]
    },
    {
     "name": "stderr",
     "output_type": "stream",
     "text": [
      "\r",
      " 74%|███████▎  | 115/156 [00:16<00:06,  5.90it/s]"
     ]
    },
    {
     "name": "stderr",
     "output_type": "stream",
     "text": [
      "\r",
      " 74%|███████▍  | 116/156 [00:16<00:06,  6.24it/s]"
     ]
    },
    {
     "name": "stderr",
     "output_type": "stream",
     "text": [
      "\r",
      " 76%|███████▌  | 118/156 [00:16<00:05,  7.48it/s]"
     ]
    },
    {
     "name": "stderr",
     "output_type": "stream",
     "text": [
      "\r",
      " 76%|███████▋  | 119/156 [00:17<00:06,  6.10it/s]"
     ]
    },
    {
     "name": "stderr",
     "output_type": "stream",
     "text": [
      "\r",
      " 77%|███████▋  | 120/156 [00:17<00:06,  5.77it/s]"
     ]
    },
    {
     "name": "stderr",
     "output_type": "stream",
     "text": [
      "\r",
      " 78%|███████▊  | 121/156 [00:17<00:06,  5.76it/s]"
     ]
    },
    {
     "name": "stderr",
     "output_type": "stream",
     "text": [
      "\r",
      " 79%|███████▉  | 123/156 [00:17<00:04,  7.77it/s]"
     ]
    },
    {
     "name": "stderr",
     "output_type": "stream",
     "text": [
      "\r",
      " 79%|███████▉  | 124/156 [00:17<00:04,  7.81it/s]"
     ]
    },
    {
     "name": "stderr",
     "output_type": "stream",
     "text": [
      "\r",
      " 80%|████████  | 125/156 [00:17<00:04,  7.56it/s]"
     ]
    },
    {
     "name": "stderr",
     "output_type": "stream",
     "text": [
      "\r",
      " 81%|████████  | 126/156 [00:18<00:05,  5.38it/s]"
     ]
    },
    {
     "name": "stderr",
     "output_type": "stream",
     "text": [
      "\r",
      " 82%|████████▏ | 128/156 [00:18<00:04,  6.82it/s]"
     ]
    },
    {
     "name": "stderr",
     "output_type": "stream",
     "text": [
      "\r",
      " 83%|████████▎ | 130/156 [00:18<00:03,  7.74it/s]"
     ]
    },
    {
     "name": "stderr",
     "output_type": "stream",
     "text": [
      "\r",
      " 84%|████████▍ | 131/156 [00:18<00:03,  6.46it/s]"
     ]
    },
    {
     "name": "stderr",
     "output_type": "stream",
     "text": [
      "\r",
      " 85%|████████▌ | 133/156 [00:19<00:03,  7.35it/s]"
     ]
    },
    {
     "name": "stderr",
     "output_type": "stream",
     "text": [
      "\r",
      " 87%|████████▋ | 135/156 [00:19<00:03,  5.68it/s]"
     ]
    },
    {
     "name": "stderr",
     "output_type": "stream",
     "text": [
      "\r",
      " 87%|████████▋ | 136/156 [00:19<00:03,  5.98it/s]"
     ]
    },
    {
     "name": "stderr",
     "output_type": "stream",
     "text": [
      "\r",
      " 88%|████████▊ | 138/156 [00:19<00:02,  6.93it/s]"
     ]
    },
    {
     "name": "stderr",
     "output_type": "stream",
     "text": [
      "\r",
      " 89%|████████▉ | 139/156 [00:20<00:02,  7.33it/s]"
     ]
    },
    {
     "name": "stderr",
     "output_type": "stream",
     "text": [
      "\r",
      " 90%|█████████ | 141/156 [00:20<00:01,  7.64it/s]"
     ]
    },
    {
     "name": "stderr",
     "output_type": "stream",
     "text": [
      "\r",
      " 92%|█████████▏| 143/156 [00:20<00:01,  9.71it/s]"
     ]
    },
    {
     "name": "stderr",
     "output_type": "stream",
     "text": [
      "\r",
      " 93%|█████████▎| 145/156 [00:20<00:01,  7.91it/s]"
     ]
    },
    {
     "name": "stderr",
     "output_type": "stream",
     "text": [
      "\r",
      " 94%|█████████▎| 146/156 [00:20<00:01,  7.65it/s]"
     ]
    },
    {
     "name": "stderr",
     "output_type": "stream",
     "text": [
      "\r",
      " 94%|█████████▍| 147/156 [00:21<00:01,  5.73it/s]"
     ]
    },
    {
     "name": "stderr",
     "output_type": "stream",
     "text": [
      "\r",
      " 95%|█████████▍| 148/156 [00:21<00:01,  5.64it/s]"
     ]
    },
    {
     "name": "stderr",
     "output_type": "stream",
     "text": [
      "\r",
      " 96%|█████████▌| 149/156 [00:21<00:01,  5.37it/s]"
     ]
    },
    {
     "name": "stderr",
     "output_type": "stream",
     "text": [
      "\r",
      " 98%|█████████▊| 153/156 [00:21<00:00, 10.62it/s]"
     ]
    },
    {
     "name": "stderr",
     "output_type": "stream",
     "text": [
      "\r",
      " 99%|█████████▉| 155/156 [00:22<00:00,  8.66it/s]"
     ]
    },
    {
     "name": "stderr",
     "output_type": "stream",
     "text": [
      "\r",
      "100%|██████████| 156/156 [00:22<00:00,  7.03it/s]"
     ]
    },
    {
     "name": "stdout",
     "output_type": "stream",
     "text": [
      "\n",
      "rate limit: 7 \n",
      "Leeftijdsgroep API calls: create: 0, read: 1, update: 156, delete: 0, backoff: 0\n",
      "errors:\n",
      "  503: Service Unavailable: 1\n"
     ]
    },
    {
     "name": "stdout",
     "output_type": "stream",
     "text": [
      "[{'Key': 1, 'Timestamp Leeftijdsgroep RIVM': '2021-11-29 15:15'}]\n"
     ]
    },
    {
     "name": "stderr",
     "output_type": "stream",
     "text": [
      "\n"
     ]
    },
    {
     "name": "stdout",
     "output_type": "stream",
     "text": [
      "timestamps: [{'Key': 1, 'Timestamp Leeftijdsgroep RIVM': '2021-11-29 15:15'}]\n",
      "Key                               int64\n",
      "Timestamp Leeftijdsgroep RIVM    object\n",
      "dtype: object\n"
     ]
    },
    {
     "name": "stderr",
     "output_type": "stream",
     "text": [
      "\r",
      "  0%|          | 0/1 [00:00<?, ?it/s]"
     ]
    },
    {
     "name": "stderr",
     "output_type": "stream",
     "text": [
      "\r",
      "100%|██████████| 1/1 [00:00<00:00,  1.32it/s]"
     ]
    },
    {
     "name": "stderr",
     "output_type": "stream",
     "text": [
      "\r",
      "100%|██████████| 1/1 [00:00<00:00,  1.31it/s]"
     ]
    },
    {
     "name": "stdout",
     "output_type": "stream",
     "text": [
      "\n",
      "rate limit: 7 \n",
      "LaatsteUpdate API calls: create: 0, read: 0, update: 1, delete: 0, backoff: 0\n"
     ]
    },
    {
     "name": "stderr",
     "output_type": "stream",
     "text": [
      "\n"
     ]
    },
    {
     "name": "stdout",
     "output_type": "stream",
     "text": [
      "BatchName     object\n",
      "ObjectName    object\n",
      "Source        object\n",
      "Timestamp     object\n",
      "dtype: object\n"
     ]
    },
    {
     "name": "stderr",
     "output_type": "stream",
     "text": [
      "\r",
      "  0%|          | 0/1 [00:00<?, ?it/s]"
     ]
    },
    {
     "name": "stderr",
     "output_type": "stream",
     "text": [
      "\r",
      "100%|██████████| 1/1 [00:00<00:00,  1.15it/s]"
     ]
    },
    {
     "name": "stderr",
     "output_type": "stream",
     "text": [
      "\r",
      "100%|██████████| 1/1 [00:00<00:00,  1.15it/s]"
     ]
    },
    {
     "name": "stdout",
     "output_type": "stream",
     "text": [
      "\n",
      "rate limit: 7 \n",
      "UpdateDetails API calls: create: 1, read: 0, update: 0, delete: 0, backoff: 0\n"
     ]
    },
    {
     "name": "stderr",
     "output_type": "stream",
     "text": [
      "\n"
     ]
    },
    {
     "name": "stdout",
     "output_type": "stream",
     "text": [
      "updating: [{'Key': 1, 'Updating Leeftijdsgroep': 'false'}]\n",
      "Key                         int64\n",
      "Updating Leeftijdsgroep    object\n",
      "dtype: object\n"
     ]
    },
    {
     "name": "stderr",
     "output_type": "stream",
     "text": [
      "\r",
      "  0%|          | 0/1 [00:00<?, ?it/s]"
     ]
    },
    {
     "name": "stderr",
     "output_type": "stream",
     "text": [
      "\r",
      "100%|██████████| 1/1 [00:00<00:00,  1.31it/s]"
     ]
    },
    {
     "name": "stderr",
     "output_type": "stream",
     "text": [
      "\r",
      "100%|██████████| 1/1 [00:00<00:00,  1.31it/s]"
     ]
    },
    {
     "name": "stdout",
     "output_type": "stream",
     "text": [
      "\n",
      "rate limit: 7 \n",
      "LaatsteUpdate API calls: create: 0, read: 0, update: 1, delete: 0, backoff: 0\n"
     ]
    },
    {
     "name": "stderr",
     "output_type": "stream",
     "text": [
      "\n"
     ]
    }
   ],
   "source": [
    "if knack:\n",
    "  await knack.publish(tabel.fillna(0).assign(Datum=tabel.Datum.dt.strftime('%Y-%m-%d')), 'Leeftijdsgroep', Cache)"
   ]
  }
 ],
 "metadata": {
  "jupytext": {
   "cell_metadata_filter": "title,-all"
  },
  "kernelspec": {
   "display_name": "Python 3 (ipykernel)",
   "language": "python",
   "name": "python3"
  },
  "language_info": {
   "codemirror_mode": {
    "name": "ipython",
    "version": 3
   },
   "file_extension": ".py",
   "mimetype": "text/x-python",
   "name": "python",
   "nbconvert_exporter": "python",
   "pygments_lexer": "ipython3",
   "version": "3.9.9"
  },
  "papermill": {
   "default_parameters": {},
   "duration": 54.623325,
   "end_time": "2021-11-30T09:14:38.572138",
   "environment_variables": {},
   "exception": null,
   "input_path": "-",
   "output_path": "LeeftijdsgroepenLandelijk.ipynb",
   "parameters": {},
   "start_time": "2021-11-30T09:13:43.948813",
   "version": "2.3.3"
  }
 },
 "nbformat": 4,
 "nbformat_minor": 5
}