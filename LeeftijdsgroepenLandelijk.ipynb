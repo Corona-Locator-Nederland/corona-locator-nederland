{
 "cells": [
  {
   "cell_type": "code",
   "execution_count": 1,
   "id": "338cc0af",
   "metadata": {
    "execution": {
     "iopub.execute_input": "2021-11-27T14:30:45.782290Z",
     "iopub.status.busy": "2021-11-27T14:30:45.781858Z",
     "iopub.status.idle": "2021-11-27T14:30:50.791584Z",
     "shell.execute_reply": "2021-11-27T14:30:50.792030Z"
    },
    "lines_to_next_cell": 1,
    "papermill": {
     "duration": 5.024309,
     "end_time": "2021-11-27T14:30:50.792298",
     "exception": false,
     "start_time": "2021-11-27T14:30:45.767989",
     "status": "completed"
    },
    "tags": []
   },
   "outputs": [],
   "source": [
    "from IPython import get_ipython\n",
    "from IPython.core.display import display\n",
    "get_ipython().run_line_magic('load_ext', 'autoreload')\n",
    "get_ipython().run_line_magic('autoreload', '2')\n",
    "get_ipython().run_line_magic('run', 'setup')"
   ]
  },
  {
   "cell_type": "code",
   "execution_count": 2,
   "id": "8ffb4875",
   "metadata": {
    "execution": {
     "iopub.execute_input": "2021-11-27T14:30:50.818229Z",
     "iopub.status.busy": "2021-11-27T14:30:50.817426Z",
     "iopub.status.idle": "2021-11-27T14:39:56.507679Z",
     "shell.execute_reply": "2021-11-27T14:39:56.508249Z"
    },
    "lines_to_next_cell": 1,
    "papermill": {
     "duration": 545.704609,
     "end_time": "2021-11-27T14:39:56.508392",
     "exception": false,
     "start_time": "2021-11-27T14:30:50.803783",
     "status": "completed"
    },
    "tags": [],
    "title": "leeftijdsgroepen: download RIVM data"
   },
   "outputs": [
    {
     "name": "stdout",
     "output_type": "stream",
     "text": [
      "downloading rivm/COVID-19_casus_landelijk-2021-11-27@14-15.csv\n"
     ]
    },
    {
     "name": "stdout",
     "output_type": "stream",
     "text": [
      "rivm COVID-19_casus_landelijk zipping rivm/COVID-19_casus_landelijk-2021-11-27@14-15.csv\n"
     ]
    },
    {
     "name": "stdout",
     "output_type": "stream",
     "text": [
      "loading rivm/COVID-19_casus_landelijk-2021-11-27@14-15.csv.gz\n"
     ]
    },
    {
     "data": {
      "text/html": [
       "<div>\n",
       "<style scoped>\n",
       "    .dataframe tbody tr th:only-of-type {\n",
       "        vertical-align: middle;\n",
       "    }\n",
       "\n",
       "    .dataframe tbody tr th {\n",
       "        vertical-align: top;\n",
       "    }\n",
       "\n",
       "    .dataframe thead th {\n",
       "        text-align: right;\n",
       "    }\n",
       "</style>\n",
       "<table border=\"1\" class=\"dataframe\">\n",
       "  <thead>\n",
       "    <tr style=\"text-align: right;\">\n",
       "      <th></th>\n",
       "      <th>Date_file</th>\n",
       "      <th>Date_statistics</th>\n",
       "      <th>Date_statistics_type</th>\n",
       "      <th>Agegroup</th>\n",
       "      <th>Sex</th>\n",
       "      <th>Province</th>\n",
       "      <th>Hospital_admission</th>\n",
       "      <th>Deceased</th>\n",
       "      <th>Week_of_death</th>\n",
       "      <th>Municipal_health_service</th>\n",
       "    </tr>\n",
       "  </thead>\n",
       "  <tbody>\n",
       "    <tr>\n",
       "      <th>0</th>\n",
       "      <td>2021-11-27 10:00:00</td>\n",
       "      <td>2020-01-01</td>\n",
       "      <td>DOO</td>\n",
       "      <td>40-49</td>\n",
       "      <td>Female</td>\n",
       "      <td>Noord-Holland</td>\n",
       "      <td>No</td>\n",
       "      <td>No</td>\n",
       "      <td>NaN</td>\n",
       "      <td>GGD Amsterdam</td>\n",
       "    </tr>\n",
       "    <tr>\n",
       "      <th>1</th>\n",
       "      <td>2021-11-27 10:00:00</td>\n",
       "      <td>2020-01-01</td>\n",
       "      <td>DOO</td>\n",
       "      <td>50-59</td>\n",
       "      <td>Male</td>\n",
       "      <td>Gelderland</td>\n",
       "      <td>No</td>\n",
       "      <td>No</td>\n",
       "      <td>NaN</td>\n",
       "      <td>Veiligheids- en Gezondheidsregio Gelderland-Mi...</td>\n",
       "    </tr>\n",
       "    <tr>\n",
       "      <th>2</th>\n",
       "      <td>2021-11-27 10:00:00</td>\n",
       "      <td>2020-01-01</td>\n",
       "      <td>DOO</td>\n",
       "      <td>20-29</td>\n",
       "      <td>Female</td>\n",
       "      <td>Zuid-Holland</td>\n",
       "      <td>No</td>\n",
       "      <td>No</td>\n",
       "      <td>NaN</td>\n",
       "      <td>GGD Hollands-Midden</td>\n",
       "    </tr>\n",
       "    <tr>\n",
       "      <th>3</th>\n",
       "      <td>2021-11-27 10:00:00</td>\n",
       "      <td>2020-01-01</td>\n",
       "      <td>DOO</td>\n",
       "      <td>60-69</td>\n",
       "      <td>Female</td>\n",
       "      <td>Noord-Holland</td>\n",
       "      <td>No</td>\n",
       "      <td>No</td>\n",
       "      <td>NaN</td>\n",
       "      <td>GGD Hollands-Noorden</td>\n",
       "    </tr>\n",
       "    <tr>\n",
       "      <th>4</th>\n",
       "      <td>2021-11-27 10:00:00</td>\n",
       "      <td>2020-01-04</td>\n",
       "      <td>DOO</td>\n",
       "      <td>10-19</td>\n",
       "      <td>Female</td>\n",
       "      <td>Gelderland</td>\n",
       "      <td>Unknown</td>\n",
       "      <td>No</td>\n",
       "      <td>NaN</td>\n",
       "      <td>GGD Gelderland-Zuid</td>\n",
       "    </tr>\n",
       "  </tbody>\n",
       "</table>\n",
       "</div>"
      ],
      "text/plain": [
       "             Date_file Date_statistics Date_statistics_type Agegroup     Sex  \\\n",
       "0  2021-11-27 10:00:00      2020-01-01                  DOO    40-49  Female   \n",
       "1  2021-11-27 10:00:00      2020-01-01                  DOO    50-59    Male   \n",
       "2  2021-11-27 10:00:00      2020-01-01                  DOO    20-29  Female   \n",
       "3  2021-11-27 10:00:00      2020-01-01                  DOO    60-69  Female   \n",
       "4  2021-11-27 10:00:00      2020-01-04                  DOO    10-19  Female   \n",
       "\n",
       "        Province Hospital_admission Deceased  Week_of_death  \\\n",
       "0  Noord-Holland                 No       No            NaN   \n",
       "1     Gelderland                 No       No            NaN   \n",
       "2   Zuid-Holland                 No       No            NaN   \n",
       "3  Noord-Holland                 No       No            NaN   \n",
       "4     Gelderland            Unknown       No            NaN   \n",
       "\n",
       "                            Municipal_health_service  \n",
       "0                                      GGD Amsterdam  \n",
       "1  Veiligheids- en Gezondheidsregio Gelderland-Mi...  \n",
       "2                                GGD Hollands-Midden  \n",
       "3                               GGD Hollands-Noorden  \n",
       "4                                GGD Gelderland-Zuid  "
      ]
     },
     "metadata": {},
     "output_type": "display_data"
    }
   ],
   "source": [
    "#leeftijdsgroepen = SimpleNamespace()\n",
    "@run\n",
    "def cell():\n",
    "  global rivm\n",
    "  rivm = RIVM.csv('COVID-19_casus_landelijk')\n",
    "  display(rivm.head())"
   ]
  },
  {
   "cell_type": "code",
   "execution_count": 3,
   "id": "9967b8b6",
   "metadata": {
    "execution": {
     "iopub.execute_input": "2021-11-27T14:39:56.540997Z",
     "iopub.status.busy": "2021-11-27T14:39:56.540556Z",
     "iopub.status.idle": "2021-11-27T14:40:01.948900Z",
     "shell.execute_reply": "2021-11-27T14:40:01.949258Z"
    },
    "lines_to_next_cell": 1,
    "papermill": {
     "duration": 5.427066,
     "end_time": "2021-11-27T14:40:01.949414",
     "exception": false,
     "start_time": "2021-11-27T14:39:56.522348",
     "status": "completed"
    },
    "tags": [],
    "title": "Download de bevolkings cijfers van CBS, uitgesplitst op de leeftijds categorien in de dataset van het RIVM"
   },
   "outputs": [],
   "source": [
    "@run\n",
    "def cell():\n",
    "  global bevolking\n",
    "  bevolking = CBS.bevolking(leeftijdsgroepen=True)"
   ]
  },
  {
   "cell_type": "code",
   "execution_count": 4,
   "id": "83748911",
   "metadata": {
    "execution": {
     "iopub.execute_input": "2021-11-27T14:40:01.991710Z",
     "iopub.status.busy": "2021-11-27T14:40:01.991262Z",
     "iopub.status.idle": "2021-11-27T14:40:11.012654Z",
     "shell.execute_reply": "2021-11-27T14:40:11.011853Z"
    },
    "lines_to_next_cell": 1,
    "papermill": {
     "duration": 9.049273,
     "end_time": "2021-11-27T14:40:11.012771",
     "exception": false,
     "start_time": "2021-11-27T14:40:01.963498",
     "status": "completed"
    },
    "tags": [],
    "title": "leeftijdsgroepen: prepareer tabel"
   },
   "outputs": [
    {
     "data": {
      "text/html": [
       "<style type=\"text/css\">\n",
       "#T_b3582_row0_col7 {\n",
       "  background-color: #453781;\n",
       "  color: #f1f1f1;\n",
       "}\n",
       "#T_b3582_row0_col8, #T_b3582_row1_col8, #T_b3582_row2_col8, #T_b3582_row3_col10, #T_b3582_row4_col10 {\n",
       "  background-color: #440154;\n",
       "  color: #f1f1f1;\n",
       "}\n",
       "#T_b3582_row0_col9 {\n",
       "  background-color: #3d4d8a;\n",
       "  color: #f1f1f1;\n",
       "}\n",
       "#T_b3582_row0_col10, #T_b3582_row2_col10 {\n",
       "  background-color: #471164;\n",
       "  color: #f1f1f1;\n",
       "}\n",
       "#T_b3582_row0_col11 {\n",
       "  background-color: #481a6c;\n",
       "  color: #f1f1f1;\n",
       "}\n",
       "#T_b3582_row0_col12 {\n",
       "  background-color: #32658e;\n",
       "  color: #f1f1f1;\n",
       "}\n",
       "#T_b3582_row0_col13 {\n",
       "  background-color: #1e9b8a;\n",
       "  color: #f1f1f1;\n",
       "}\n",
       "#T_b3582_row0_col14 {\n",
       "  background-color: #56c667;\n",
       "  color: #000000;\n",
       "}\n",
       "#T_b3582_row0_col15 {\n",
       "  background-color: #98d83e;\n",
       "  color: #000000;\n",
       "}\n",
       "#T_b3582_row0_col16, #T_b3582_row2_col16 {\n",
       "  background-color: #dde318;\n",
       "  color: #000000;\n",
       "}\n",
       "#T_b3582_row0_col17, #T_b3582_row1_col17, #T_b3582_row2_col17, #T_b3582_row3_col17, #T_b3582_row4_col17 {\n",
       "  background-color: #fde725;\n",
       "  color: #000000;\n",
       "}\n",
       "#T_b3582_row1_col7 {\n",
       "  background-color: #375a8c;\n",
       "  color: #f1f1f1;\n",
       "}\n",
       "#T_b3582_row1_col9 {\n",
       "  background-color: #404588;\n",
       "  color: #f1f1f1;\n",
       "}\n",
       "#T_b3582_row1_col10 {\n",
       "  background-color: #482677;\n",
       "  color: #f1f1f1;\n",
       "}\n",
       "#T_b3582_row1_col11 {\n",
       "  background-color: #463480;\n",
       "  color: #f1f1f1;\n",
       "}\n",
       "#T_b3582_row1_col12 {\n",
       "  background-color: #31678e;\n",
       "  color: #f1f1f1;\n",
       "}\n",
       "#T_b3582_row1_col13 {\n",
       "  background-color: #23888e;\n",
       "  color: #f1f1f1;\n",
       "}\n",
       "#T_b3582_row1_col14 {\n",
       "  background-color: #3aba76;\n",
       "  color: #f1f1f1;\n",
       "}\n",
       "#T_b3582_row1_col15 {\n",
       "  background-color: #90d743;\n",
       "  color: #000000;\n",
       "}\n",
       "#T_b3582_row1_col16 {\n",
       "  background-color: #dfe318;\n",
       "  color: #000000;\n",
       "}\n",
       "#T_b3582_row2_col7 {\n",
       "  background-color: #31688e;\n",
       "  color: #f1f1f1;\n",
       "}\n",
       "#T_b3582_row2_col9 {\n",
       "  background-color: #482878;\n",
       "  color: #f1f1f1;\n",
       "}\n",
       "#T_b3582_row2_col11, #T_b3582_row3_col12 {\n",
       "  background-color: #472d7b;\n",
       "  color: #f1f1f1;\n",
       "}\n",
       "#T_b3582_row2_col12 {\n",
       "  background-color: #3f4889;\n",
       "  color: #f1f1f1;\n",
       "}\n",
       "#T_b3582_row2_col13 {\n",
       "  background-color: #2e6f8e;\n",
       "  color: #f1f1f1;\n",
       "}\n",
       "#T_b3582_row2_col14 {\n",
       "  background-color: #20a386;\n",
       "  color: #f1f1f1;\n",
       "}\n",
       "#T_b3582_row2_col15 {\n",
       "  background-color: #75d054;\n",
       "  color: #000000;\n",
       "}\n",
       "#T_b3582_row3_col7 {\n",
       "  background-color: #24878e;\n",
       "  color: #f1f1f1;\n",
       "}\n",
       "#T_b3582_row3_col8 {\n",
       "  background-color: #48186a;\n",
       "  color: #f1f1f1;\n",
       "}\n",
       "#T_b3582_row3_col9 {\n",
       "  background-color: #450559;\n",
       "  color: #f1f1f1;\n",
       "}\n",
       "#T_b3582_row3_col11 {\n",
       "  background-color: #482475;\n",
       "  color: #f1f1f1;\n",
       "}\n",
       "#T_b3582_row3_col13 {\n",
       "  background-color: #33628d;\n",
       "  color: #f1f1f1;\n",
       "}\n",
       "#T_b3582_row3_col14 {\n",
       "  background-color: #1f958b;\n",
       "  color: #f1f1f1;\n",
       "}\n",
       "#T_b3582_row3_col15 {\n",
       "  background-color: #6ccd5a;\n",
       "  color: #000000;\n",
       "}\n",
       "#T_b3582_row3_col16 {\n",
       "  background-color: #dae319;\n",
       "  color: #000000;\n",
       "}\n",
       "#T_b3582_row4_col7 {\n",
       "  background-color: #1f998a;\n",
       "  color: #f1f1f1;\n",
       "}\n",
       "#T_b3582_row4_col8 {\n",
       "  background-color: #414287;\n",
       "  color: #f1f1f1;\n",
       "}\n",
       "#T_b3582_row4_col9 {\n",
       "  background-color: #440256;\n",
       "  color: #f1f1f1;\n",
       "}\n",
       "#T_b3582_row4_col11 {\n",
       "  background-color: #472a7a;\n",
       "  color: #f1f1f1;\n",
       "}\n",
       "#T_b3582_row4_col12 {\n",
       "  background-color: #472f7d;\n",
       "  color: #f1f1f1;\n",
       "}\n",
       "#T_b3582_row4_col13 {\n",
       "  background-color: #365c8d;\n",
       "  color: #f1f1f1;\n",
       "}\n",
       "#T_b3582_row4_col14 {\n",
       "  background-color: #21908d;\n",
       "  color: #f1f1f1;\n",
       "}\n",
       "#T_b3582_row4_col15 {\n",
       "  background-color: #5ac864;\n",
       "  color: #000000;\n",
       "}\n",
       "#T_b3582_row4_col16 {\n",
       "  background-color: #d5e21a;\n",
       "  color: #000000;\n",
       "}\n",
       "</style>\n",
       "<table id=\"T_b3582_\">\n",
       "  <thead>\n",
       "    <tr>\n",
       "      <th class=\"blank level0\" >&nbsp;</th>\n",
       "      <th class=\"col_heading level0 col0\" >Key</th>\n",
       "      <th class=\"col_heading level0 col1\" >Weken terug</th>\n",
       "      <th class=\"col_heading level0 col2\" >Datum</th>\n",
       "      <th class=\"col_heading level0 col3\" >Periode</th>\n",
       "      <th class=\"col_heading level0 col4\" >Gemiddelde leeftijd</th>\n",
       "      <th class=\"col_heading level0 col5\" >Totaal</th>\n",
       "      <th class=\"col_heading level0 col6\" >Type</th>\n",
       "      <th class=\"col_heading level0 col7\" >0-9</th>\n",
       "      <th class=\"col_heading level0 col8\" >10-19</th>\n",
       "      <th class=\"col_heading level0 col9\" >20-29</th>\n",
       "      <th class=\"col_heading level0 col10\" >30-39</th>\n",
       "      <th class=\"col_heading level0 col11\" >40-49</th>\n",
       "      <th class=\"col_heading level0 col12\" >50-59</th>\n",
       "      <th class=\"col_heading level0 col13\" >60-69</th>\n",
       "      <th class=\"col_heading level0 col14\" >70-79</th>\n",
       "      <th class=\"col_heading level0 col15\" >80-89</th>\n",
       "      <th class=\"col_heading level0 col16\" >90+</th>\n",
       "      <th class=\"col_heading level0 col17\" >Onbekend</th>\n",
       "      <th class=\"col_heading level0 col18\" >c0-9</th>\n",
       "      <th class=\"col_heading level0 col19\" >c10-19</th>\n",
       "      <th class=\"col_heading level0 col20\" >c20-29</th>\n",
       "      <th class=\"col_heading level0 col21\" >c30-39</th>\n",
       "      <th class=\"col_heading level0 col22\" >c40-49</th>\n",
       "      <th class=\"col_heading level0 col23\" >c50-59</th>\n",
       "      <th class=\"col_heading level0 col24\" >c60-69</th>\n",
       "      <th class=\"col_heading level0 col25\" >c70-79</th>\n",
       "      <th class=\"col_heading level0 col26\" >c80-89</th>\n",
       "      <th class=\"col_heading level0 col27\" >c90+</th>\n",
       "      <th class=\"col_heading level0 col28\" >cOnbekend</th>\n",
       "    </tr>\n",
       "  </thead>\n",
       "  <tbody>\n",
       "    <tr>\n",
       "      <th id=\"T_b3582_level0_row0\" class=\"row_heading level0 row0\" >0</th>\n",
       "      <td id=\"T_b3582_row0_col0\" class=\"data row0 col0\" >p000</td>\n",
       "      <td id=\"T_b3582_row0_col1\" class=\"data row0 col1\" >0</td>\n",
       "      <td id=\"T_b3582_row0_col2\" class=\"data row0 col2\" >2021-11-27 00:00:00</td>\n",
       "      <td id=\"T_b3582_row0_col3\" class=\"data row0 col3\" >21/11-27/11</td>\n",
       "      <td id=\"T_b3582_row0_col4\" class=\"data row0 col4\" >35.800000</td>\n",
       "      <td id=\"T_b3582_row0_col5\" class=\"data row0 col5\" >81816.000000</td>\n",
       "      <td id=\"T_b3582_row0_col6\" class=\"data row0 col6\" >Positief getest</td>\n",
       "      <td id=\"T_b3582_row0_col7\" class=\"data row0 col7\" >11276.000000</td>\n",
       "      <td id=\"T_b3582_row0_col8\" class=\"data row0 col8\" >13415.000000</td>\n",
       "      <td id=\"T_b3582_row0_col9\" class=\"data row0 col9\" >10307.000000</td>\n",
       "      <td id=\"T_b3582_row0_col10\" class=\"data row0 col10\" >12791.000000</td>\n",
       "      <td id=\"T_b3582_row0_col11\" class=\"data row0 col11\" >12523.000000</td>\n",
       "      <td id=\"T_b3582_row0_col12\" class=\"data row0 col12\" >9093.000000</td>\n",
       "      <td id=\"T_b3582_row0_col13\" class=\"data row0 col13\" >6092.000000</td>\n",
       "      <td id=\"T_b3582_row0_col14\" class=\"data row0 col14\" >3547.000000</td>\n",
       "      <td id=\"T_b3582_row0_col15\" class=\"data row0 col15\" >2058.000000</td>\n",
       "      <td id=\"T_b3582_row0_col16\" class=\"data row0 col16\" >713.000000</td>\n",
       "      <td id=\"T_b3582_row0_col17\" class=\"data row0 col17\" >1.000000</td>\n",
       "      <td id=\"T_b3582_row0_col18\" class=\"data row0 col18\" >840</td>\n",
       "      <td id=\"T_b3582_row0_col19\" class=\"data row0 col19\" >1000</td>\n",
       "      <td id=\"T_b3582_row0_col20\" class=\"data row0 col20\" >768</td>\n",
       "      <td id=\"T_b3582_row0_col21\" class=\"data row0 col21\" >953</td>\n",
       "      <td id=\"T_b3582_row0_col22\" class=\"data row0 col22\" >933</td>\n",
       "      <td id=\"T_b3582_row0_col23\" class=\"data row0 col23\" >677</td>\n",
       "      <td id=\"T_b3582_row0_col24\" class=\"data row0 col24\" >454</td>\n",
       "      <td id=\"T_b3582_row0_col25\" class=\"data row0 col25\" >264</td>\n",
       "      <td id=\"T_b3582_row0_col26\" class=\"data row0 col26\" >153</td>\n",
       "      <td id=\"T_b3582_row0_col27\" class=\"data row0 col27\" >53</td>\n",
       "      <td id=\"T_b3582_row0_col28\" class=\"data row0 col28\" >0</td>\n",
       "    </tr>\n",
       "    <tr>\n",
       "      <th id=\"T_b3582_level0_row1\" class=\"row_heading level0 row1\" >1</th>\n",
       "      <td id=\"T_b3582_row1_col0\" class=\"data row1 col0\" >p001</td>\n",
       "      <td id=\"T_b3582_row1_col1\" class=\"data row1 col1\" >1</td>\n",
       "      <td id=\"T_b3582_row1_col2\" class=\"data row1 col2\" >2021-11-27 00:00:00</td>\n",
       "      <td id=\"T_b3582_row1_col3\" class=\"data row1 col3\" >14/11-20/11</td>\n",
       "      <td id=\"T_b3582_row1_col4\" class=\"data row1 col4\" >37.100000</td>\n",
       "      <td id=\"T_b3582_row1_col5\" class=\"data row1 col5\" >149356.000000</td>\n",
       "      <td id=\"T_b3582_row1_col6\" class=\"data row1 col6\" >Positief getest</td>\n",
       "      <td id=\"T_b3582_row1_col7\" class=\"data row1 col7\" >17966.000000</td>\n",
       "      <td id=\"T_b3582_row1_col8\" class=\"data row1 col8\" >24911.000000</td>\n",
       "      <td id=\"T_b3582_row1_col9\" class=\"data row1 col9\" >19838.000000</td>\n",
       "      <td id=\"T_b3582_row1_col10\" class=\"data row1 col10\" >22199.000000</td>\n",
       "      <td id=\"T_b3582_row1_col11\" class=\"data row1 col11\" >21155.000000</td>\n",
       "      <td id=\"T_b3582_row1_col12\" class=\"data row1 col12\" >16668.000000</td>\n",
       "      <td id=\"T_b3582_row1_col13\" class=\"data row1 col13\" >13239.000000</td>\n",
       "      <td id=\"T_b3582_row1_col14\" class=\"data row1 col14\" >8067.000000</td>\n",
       "      <td id=\"T_b3582_row1_col15\" class=\"data row1 col15\" >4127.000000</td>\n",
       "      <td id=\"T_b3582_row1_col16\" class=\"data row1 col16\" >1186.000000</td>\n",
       "      <td id=\"T_b3582_row1_col17\" class=\"data row1 col17\" >0.000000</td>\n",
       "      <td id=\"T_b3582_row1_col18\" class=\"data row1 col18\" >721</td>\n",
       "      <td id=\"T_b3582_row1_col19\" class=\"data row1 col19\" >1000</td>\n",
       "      <td id=\"T_b3582_row1_col20\" class=\"data row1 col20\" >796</td>\n",
       "      <td id=\"T_b3582_row1_col21\" class=\"data row1 col21\" >891</td>\n",
       "      <td id=\"T_b3582_row1_col22\" class=\"data row1 col22\" >849</td>\n",
       "      <td id=\"T_b3582_row1_col23\" class=\"data row1 col23\" >669</td>\n",
       "      <td id=\"T_b3582_row1_col24\" class=\"data row1 col24\" >531</td>\n",
       "      <td id=\"T_b3582_row1_col25\" class=\"data row1 col25\" >323</td>\n",
       "      <td id=\"T_b3582_row1_col26\" class=\"data row1 col26\" >165</td>\n",
       "      <td id=\"T_b3582_row1_col27\" class=\"data row1 col27\" >47</td>\n",
       "      <td id=\"T_b3582_row1_col28\" class=\"data row1 col28\" >0</td>\n",
       "    </tr>\n",
       "    <tr>\n",
       "      <th id=\"T_b3582_level0_row2\" class=\"row_heading level0 row2\" >2</th>\n",
       "      <td id=\"T_b3582_row2_col0\" class=\"data row2 col0\" >p002</td>\n",
       "      <td id=\"T_b3582_row2_col1\" class=\"data row2 col1\" >2</td>\n",
       "      <td id=\"T_b3582_row2_col2\" class=\"data row2 col2\" >2021-11-27 00:00:00</td>\n",
       "      <td id=\"T_b3582_row2_col3\" class=\"data row2 col3\" >07/11-13/11</td>\n",
       "      <td id=\"T_b3582_row2_col4\" class=\"data row2 col4\" >38.900000</td>\n",
       "      <td id=\"T_b3582_row2_col5\" class=\"data row2 col5\" >114260.000000</td>\n",
       "      <td id=\"T_b3582_row2_col6\" class=\"data row2 col6\" >Positief getest</td>\n",
       "      <td id=\"T_b3582_row2_col7\" class=\"data row2 col7\" >11720.000000</td>\n",
       "      <td id=\"T_b3582_row2_col8\" class=\"data row2 col8\" >17614.000000</td>\n",
       "      <td id=\"T_b3582_row2_col9\" class=\"data row2 col9\" >15668.000000</td>\n",
       "      <td id=\"T_b3582_row2_col10\" class=\"data row2 col10\" >16829.000000</td>\n",
       "      <td id=\"T_b3582_row2_col11\" class=\"data row2 col11\" >15378.000000</td>\n",
       "      <td id=\"T_b3582_row2_col12\" class=\"data row2 col12\" >13785.000000</td>\n",
       "      <td id=\"T_b3582_row2_col13\" class=\"data row2 col13\" >11272.000000</td>\n",
       "      <td id=\"T_b3582_row2_col14\" class=\"data row2 col14\" >7404.000000</td>\n",
       "      <td id=\"T_b3582_row2_col15\" class=\"data row2 col15\" >3658.000000</td>\n",
       "      <td id=\"T_b3582_row2_col16\" class=\"data row2 col16\" >931.000000</td>\n",
       "      <td id=\"T_b3582_row2_col17\" class=\"data row2 col17\" >1.000000</td>\n",
       "      <td id=\"T_b3582_row2_col18\" class=\"data row2 col18\" >665</td>\n",
       "      <td id=\"T_b3582_row2_col19\" class=\"data row2 col19\" >1000</td>\n",
       "      <td id=\"T_b3582_row2_col20\" class=\"data row2 col20\" >889</td>\n",
       "      <td id=\"T_b3582_row2_col21\" class=\"data row2 col21\" >955</td>\n",
       "      <td id=\"T_b3582_row2_col22\" class=\"data row2 col22\" >873</td>\n",
       "      <td id=\"T_b3582_row2_col23\" class=\"data row2 col23\" >782</td>\n",
       "      <td id=\"T_b3582_row2_col24\" class=\"data row2 col24\" >639</td>\n",
       "      <td id=\"T_b3582_row2_col25\" class=\"data row2 col25\" >420</td>\n",
       "      <td id=\"T_b3582_row2_col26\" class=\"data row2 col26\" >207</td>\n",
       "      <td id=\"T_b3582_row2_col27\" class=\"data row2 col27\" >52</td>\n",
       "      <td id=\"T_b3582_row2_col28\" class=\"data row2 col28\" >0</td>\n",
       "    </tr>\n",
       "    <tr>\n",
       "      <th id=\"T_b3582_level0_row3\" class=\"row_heading level0 row3\" >3</th>\n",
       "      <td id=\"T_b3582_row3_col0\" class=\"data row3 col0\" >p003</td>\n",
       "      <td id=\"T_b3582_row3_col1\" class=\"data row3 col1\" >3</td>\n",
       "      <td id=\"T_b3582_row3_col2\" class=\"data row3 col2\" >2021-11-27 00:00:00</td>\n",
       "      <td id=\"T_b3582_row3_col3\" class=\"data row3 col3\" >31/10-06/11</td>\n",
       "      <td id=\"T_b3582_row3_col4\" class=\"data row3 col4\" >40.400000</td>\n",
       "      <td id=\"T_b3582_row3_col5\" class=\"data row3 col5\" >78487.000000</td>\n",
       "      <td id=\"T_b3582_row3_col6\" class=\"data row3 col6\" >Positief getest</td>\n",
       "      <td id=\"T_b3582_row3_col7\" class=\"data row3 col7\" >6315.000000</td>\n",
       "      <td id=\"T_b3582_row3_col8\" class=\"data row3 col8\" >10982.000000</td>\n",
       "      <td id=\"T_b3582_row3_col9\" class=\"data row3 col9\" >11574.000000</td>\n",
       "      <td id=\"T_b3582_row3_col10\" class=\"data row3 col10\" >11744.000000</td>\n",
       "      <td id=\"T_b3582_row3_col11\" class=\"data row3 col11\" >10597.000000</td>\n",
       "      <td id=\"T_b3582_row3_col12\" class=\"data row3 col12\" >10243.000000</td>\n",
       "      <td id=\"T_b3582_row3_col13\" class=\"data row3 col13\" >8081.000000</td>\n",
       "      <td id=\"T_b3582_row3_col14\" class=\"data row3 col14\" >5628.000000</td>\n",
       "      <td id=\"T_b3582_row3_col15\" class=\"data row3 col15\" >2639.000000</td>\n",
       "      <td id=\"T_b3582_row3_col16\" class=\"data row3 col16\" >683.000000</td>\n",
       "      <td id=\"T_b3582_row3_col17\" class=\"data row3 col17\" >1.000000</td>\n",
       "      <td id=\"T_b3582_row3_col18\" class=\"data row3 col18\" >537</td>\n",
       "      <td id=\"T_b3582_row3_col19\" class=\"data row3 col19\" >935</td>\n",
       "      <td id=\"T_b3582_row3_col20\" class=\"data row3 col20\" >985</td>\n",
       "      <td id=\"T_b3582_row3_col21\" class=\"data row3 col21\" >1000</td>\n",
       "      <td id=\"T_b3582_row3_col22\" class=\"data row3 col22\" >902</td>\n",
       "      <td id=\"T_b3582_row3_col23\" class=\"data row3 col23\" >872</td>\n",
       "      <td id=\"T_b3582_row3_col24\" class=\"data row3 col24\" >688</td>\n",
       "      <td id=\"T_b3582_row3_col25\" class=\"data row3 col25\" >479</td>\n",
       "      <td id=\"T_b3582_row3_col26\" class=\"data row3 col26\" >224</td>\n",
       "      <td id=\"T_b3582_row3_col27\" class=\"data row3 col27\" >58</td>\n",
       "      <td id=\"T_b3582_row3_col28\" class=\"data row3 col28\" >0</td>\n",
       "    </tr>\n",
       "    <tr>\n",
       "      <th id=\"T_b3582_level0_row4\" class=\"row_heading level0 row4\" >4</th>\n",
       "      <td id=\"T_b3582_row4_col0\" class=\"data row4 col0\" >p004</td>\n",
       "      <td id=\"T_b3582_row4_col1\" class=\"data row4 col1\" >4</td>\n",
       "      <td id=\"T_b3582_row4_col2\" class=\"data row4 col2\" >2021-11-27 00:00:00</td>\n",
       "      <td id=\"T_b3582_row4_col3\" class=\"data row4 col3\" >24/10-30/10</td>\n",
       "      <td id=\"T_b3582_row4_col4\" class=\"data row4 col4\" >41.800000</td>\n",
       "      <td id=\"T_b3582_row4_col5\" class=\"data row4 col5\" >55112.000000</td>\n",
       "      <td id=\"T_b3582_row4_col6\" class=\"data row4 col6\" >Positief getest</td>\n",
       "      <td id=\"T_b3582_row4_col7\" class=\"data row4 col7\" >3910.000000</td>\n",
       "      <td id=\"T_b3582_row4_col8\" class=\"data row4 col8\" >6761.000000</td>\n",
       "      <td id=\"T_b3582_row4_col9\" class=\"data row4 col9\" >8367.000000</td>\n",
       "      <td id=\"T_b3582_row4_col10\" class=\"data row4 col10\" >8419.000000</td>\n",
       "      <td id=\"T_b3582_row4_col11\" class=\"data row4 col11\" >7417.000000</td>\n",
       "      <td id=\"T_b3582_row4_col12\" class=\"data row4 col12\" >7299.000000</td>\n",
       "      <td id=\"T_b3582_row4_col13\" class=\"data row4 col13\" >5998.000000</td>\n",
       "      <td id=\"T_b3582_row4_col14\" class=\"data row4 col14\" >4224.000000</td>\n",
       "      <td id=\"T_b3582_row4_col15\" class=\"data row4 col15\" >2168.000000</td>\n",
       "      <td id=\"T_b3582_row4_col16\" class=\"data row4 col16\" >549.000000</td>\n",
       "      <td id=\"T_b3582_row4_col17\" class=\"data row4 col17\" >0.000000</td>\n",
       "      <td id=\"T_b3582_row4_col18\" class=\"data row4 col18\" >464</td>\n",
       "      <td id=\"T_b3582_row4_col19\" class=\"data row4 col19\" >803</td>\n",
       "      <td id=\"T_b3582_row4_col20\" class=\"data row4 col20\" >993</td>\n",
       "      <td id=\"T_b3582_row4_col21\" class=\"data row4 col21\" >1000</td>\n",
       "      <td id=\"T_b3582_row4_col22\" class=\"data row4 col22\" >880</td>\n",
       "      <td id=\"T_b3582_row4_col23\" class=\"data row4 col23\" >866</td>\n",
       "      <td id=\"T_b3582_row4_col24\" class=\"data row4 col24\" >712</td>\n",
       "      <td id=\"T_b3582_row4_col25\" class=\"data row4 col25\" >501</td>\n",
       "      <td id=\"T_b3582_row4_col26\" class=\"data row4 col26\" >257</td>\n",
       "      <td id=\"T_b3582_row4_col27\" class=\"data row4 col27\" >65</td>\n",
       "      <td id=\"T_b3582_row4_col28\" class=\"data row4 col28\" >0</td>\n",
       "    </tr>\n",
       "  </tbody>\n",
       "</table>\n"
      ],
      "text/plain": [
       "<pandas.io.formats.style.Styler at 0x7f9fa4fbfbb0>"
      ]
     },
     "metadata": {},
     "output_type": "display_data"
    }
   ],
   "source": [
    "# Bereken de stand van zaken van besmettingen / hospitalisaties / overlijden, per cohort in absolute aantallen en aantallen per 100k, met een kleur indicator voor de aantallen.\n",
    "# vervang <50 en Unknown door Onbekend\n",
    "@run\n",
    "def cell():\n",
    "  rivm['Cohort'] = rivm['Agegroup'].replace({'<50': 'Onbekend', 'Unknown': 'Onbekend'})\n",
    "  # aangenomen 'gemiddelde' leeftijd van een cohort: minimum waarde + 5\n",
    "  assumed_cohort_age = [(cohort, [int(n) for n in cohort.replace('+', '').split('-')]) for cohort in rivm['Cohort'].unique() if cohort[0].isdigit()]\n",
    "  assumed_cohort_age = { cohort: min(rng) + 5 for cohort, rng in assumed_cohort_age }\n",
    "  rivm['Gemiddelde leeftijd'] = rivm['Cohort'].apply(lambda x: assumed_cohort_age.get(x, np.nan))\n",
    "\n",
    "  # verwijder tijd\n",
    "  rivm['Date_file_date'] = pd.to_datetime(rivm['Date_file'].replace(r' .*', '', regex=True))\n",
    "\n",
    "  rivm['Date_statistics_date'] = pd.to_datetime(rivm['Date_statistics'])\n",
    "\n",
    "  # weken terug = verschil tussen Date_file en Date_statistcs, gedeeld door 7 dagen\n",
    "  rivm['Weken terug'] = np.floor((rivm['Date_file_date'] - rivm['Date_statistics_date'])/np.timedelta64(7, 'D')).astype(int)\n",
    "\n",
    "  # voeg key, gem leeftijd, kleurnummer en totaal toe\n",
    "  Date_file = rivm['Date_file_date'].unique()[0].astype('M8[D]').astype('O')\n",
    "  cohorten = list(bevolking.index) + ['Onbekend']\n",
    "  def summarize(df, category, prefix):\n",
    "    # aangezien we hier de dataframe in-place wijzigen (bijv door toevoegen kolommen)\n",
    "    # en we het 'rivm' frame later nog clean nodig hebben\n",
    "    df = df.copy(deep=True)\n",
    "\n",
    "    df = (df\n",
    "          .groupby(['Weken terug', 'Cohort'])['count']\n",
    "          .sum()\n",
    "          .unstack(fill_value=np.nan)\n",
    "          .reset_index()\n",
    "          .rename_axis(None, axis=1)\n",
    "        ).merge(df\n",
    "          # we voegen hier gemiddelde leeftijd toe, want die willen we op een ander\n",
    "          # niveau aggregeren voor 'df' overschreven word\n",
    "          .groupby(['Weken terug'])['Gemiddelde leeftijd']\n",
    "          .mean()\n",
    "          .to_frame(), on='Weken terug'\n",
    "        )\n",
    "\n",
    "    # altijd 52 rijen\n",
    "    df = pd.Series(np.arange(52), name='Weken terug').to_frame().merge(df, how='left', on='Weken terug')\n",
    "\n",
    "    # toevoegen missende cohorten\n",
    "    for col in cohorten:\n",
    "      if not col in df:\n",
    "        df[col] = np.nan\n",
    "\n",
    "    # sommeer per rij (axis=1) over de cohorten om een totaal te krijgen\n",
    "    df['Totaal'] = df[cohorten].sum(axis=1)\n",
    "\n",
    "    # voeg periode en datum toe\n",
    "    # periode afgeleid van weken-terug (= de index voor deze dataframe)\n",
    "    df['Datum'] = pd.to_datetime(Date_file)\n",
    "    df['Periode'] = (df\n",
    "      .index.to_series()\n",
    "      .apply(\n",
    "        lambda x: (\n",
    "          (Date_file + datetime.timedelta(weeks=-(x+1), days=1)).strftime('%d/%m')\n",
    "          + '-'\n",
    "          + (Date_file + datetime.timedelta(weeks=-x)).strftime('%d/%m')\n",
    "        )\n",
    "      )\n",
    "    )\n",
    "\n",
    "    # voeg 'Key' en 'Type' kolom toe. Variabele 'type' kan niet, is een language primitive.\n",
    "    df['Key'] = prefix + df.index.astype(str).str.rjust(3, fillchar='0')\n",
    "    df['Type'] = category\n",
    "\n",
    "    # voeg de kleur kolommen toe\n",
    "    for col in cohorten:\n",
    "      df['c' + col] = ((df[col] / df[[col for col in cohorten]].max(axis=1)) * 1000).fillna(0).astype(int)\n",
    "\n",
    "    # herschikken van de kolommen\n",
    "    colorder = ['Key', 'Weken terug', 'Datum', 'Periode', 'Gemiddelde leeftijd', 'Totaal', 'Type']\n",
    "    return df[colorder + [col for col in df if col not in colorder]]\n",
    "\n",
    "  factor = bevolking.to_dict()['per 100k']\n",
    "  global tabel\n",
    "  tabel = pd.concat(\n",
    "    # flatten the result list zodat pd.concat ze onder elkaar kan plakken\n",
    "    functools.reduce(lambda a, b: a + b, [\n",
    "      [summarize(df.assign(count=1), label, prefix), summarize(df.assign(count=df['Cohort'].apply(lambda x: factor.get(x, np.nan))), label + ' per 100.000', prefix + '100k')]\n",
    "      for df, label, prefix in [\n",
    "        (rivm, 'Positief getest', 'p'), # volledige count per cohort\n",
    "        (rivm[rivm.Hospital_admission == 'Yes'], 'Ziekenhuisopname', 'h'), # count van cohort voor Hospital_admission == 'Yes'\n",
    "        (rivm[rivm.Deceased == 'Yes'], 'Overleden', 'd'), # count van cohort voor Deceased == 'Yes'\n",
    "      ]\n",
    "    ])\n",
    "  )\n",
    "\n",
    "  # rood -> groen\n",
    "  cdict = {\n",
    "    'red':   ((0.0, 0.0, 0.0),   # no red at 0\n",
    "              (0.5, 1.0, 1.0),   # all channels set to 1.0 at 0.5 to create white\n",
    "              (1.0, 0.8, 0.8)),  # set to 0.8 so its not too bright at 1\n",
    "    'green': ((0.0, 0.8, 0.8),   # set to 0.8 so its not too bright at 0\n",
    "              (0.5, 1.0, 1.0),   # all channels set to 1.0 at 0.5 to create white\n",
    "              (1.0, 0.0, 0.0)),  # no green at 1\n",
    "    'blue':  ((0.0, 0.0, 0.0),   # no blue at 0\n",
    "              (0.5, 1.0, 1.0),   # all channels set to 1.0 at 0.5 to create white\n",
    "              (1.0, 0.0, 0.0))   # no blue at 1\n",
    "  }\n",
    "  cm = colors.LinearSegmentedColormap('GnRd', cdict)\n",
    "  # geel -> paars\n",
    "  cm = sns.color_palette('viridis_r', as_cmap=True)\n",
    "  display(tabel\n",
    "    .fillna(0)\n",
    "    .head()\n",
    "    .round(1)\n",
    "    .reset_index(drop=True)\n",
    "    .style.background_gradient(cmap=cm, axis=1, subset=cohorten)\n",
    "  )"
   ]
  },
  {
   "cell_type": "code",
   "execution_count": 5,
   "id": "aa3dad8f",
   "metadata": {
    "execution": {
     "iopub.execute_input": "2021-11-27T14:40:11.049028Z",
     "iopub.status.busy": "2021-11-27T14:40:11.048611Z",
     "iopub.status.idle": "2021-11-27T14:40:50.900032Z",
     "shell.execute_reply": "2021-11-27T14:40:50.900372Z"
    },
    "papermill": {
     "duration": 39.87263,
     "end_time": "2021-11-27T14:40:50.900510",
     "exception": false,
     "start_time": "2021-11-27T14:40:11.027880",
     "status": "completed"
    },
    "tags": [],
    "title": "publish"
   },
   "outputs": [
    {
     "name": "stdout",
     "output_type": "stream",
     "text": [
      "infinities:\n"
     ]
    },
    {
     "name": "stdout",
     "output_type": "stream",
     "text": [
      "Empty DataFrame\n",
      "Columns: []\n",
      "Index: []\n"
     ]
    },
    {
     "name": "stdout",
     "output_type": "stream",
     "text": [
      "nan:\n"
     ]
    },
    {
     "name": "stdout",
     "output_type": "stream",
     "text": [
      "Empty DataFrame\n",
      "Columns: []\n",
      "Index: []\n"
     ]
    },
    {
     "name": "stdout",
     "output_type": "stream",
     "text": [
      "Key                     object\n",
      "Weken terug              int64\n",
      "Datum                   object\n",
      "Periode                 object\n",
      "Gemiddelde leeftijd    float64\n",
      "Totaal                 float64\n",
      "Type                    object\n",
      "0-9                    float64\n",
      "10-19                  float64\n",
      "20-29                  float64\n",
      "30-39                  float64\n",
      "40-49                  float64\n",
      "50-59                  float64\n",
      "60-69                  float64\n",
      "70-79                  float64\n",
      "80-89                  float64\n",
      "90+                    float64\n",
      "Onbekend               float64\n",
      "c0-9                     int64\n",
      "c10-19                   int64\n",
      "c20-29                   int64\n",
      "c30-39                   int64\n",
      "c40-49                   int64\n",
      "c50-59                   int64\n",
      "c60-69                   int64\n",
      "c70-79                   int64\n",
      "c80-89                   int64\n",
      "c90+                     int64\n",
      "cOnbekend                int64\n",
      "dtype: object\n",
      "updating knack\n"
     ]
    },
    {
     "name": "stdout",
     "output_type": "stream",
     "text": [
      "updating: [{'Key': 1, 'Updating Leeftijdsgroep': 'true'}]\n"
     ]
    },
    {
     "name": "stdout",
     "output_type": "stream",
     "text": [
      "restored LaatsteUpdate from hash\n"
     ]
    },
    {
     "name": "stdout",
     "output_type": "stream",
     "text": [
      "Key                         int64\n",
      "Updating Leeftijdsgroep    object\n",
      "dtype: object\n"
     ]
    },
    {
     "name": "stderr",
     "output_type": "stream",
     "text": [
      "\r",
      "  0%|          | 0/1 [00:00<?, ?it/s]"
     ]
    },
    {
     "name": "stderr",
     "output_type": "stream",
     "text": [
      "\r",
      "100%|██████████| 1/1 [00:01<00:00,  1.12s/it]"
     ]
    },
    {
     "name": "stderr",
     "output_type": "stream",
     "text": [
      "\r",
      "100%|██████████| 1/1 [00:01<00:00,  1.12s/it]"
     ]
    },
    {
     "name": "stdout",
     "output_type": "stream",
     "text": [
      "\n",
      "rate limit: 7 \n",
      "LaatsteUpdate API calls: create: 0, read: 1, update: 1, delete: 0, backoff: 0\n"
     ]
    },
    {
     "name": "stderr",
     "output_type": "stream",
     "text": [
      "\n"
     ]
    },
    {
     "name": "stdout",
     "output_type": "stream",
     "text": [
      "restored Leeftijdsgroep from hash\n"
     ]
    },
    {
     "name": "stdout",
     "output_type": "stream",
     "text": [
      "0-9                    float64\n",
      "10-19                  float64\n",
      "20-29                  float64\n",
      "30-39                  float64\n",
      "40-49                  float64\n",
      "50-59                  float64\n",
      "60-69                  float64\n",
      "70-79                  float64\n",
      "80-89                  float64\n",
      "90+                    float64\n",
      "Datum                   object\n",
      "Gemiddelde leeftijd    float64\n",
      "Key                     object\n",
      "Onbekend               float64\n",
      "Periode                 object\n",
      "Totaal                 float64\n",
      "Type                    object\n",
      "Weken terug              int64\n",
      "c0-9                     int64\n",
      "c10-19                   int64\n",
      "c20-29                   int64\n",
      "c30-39                   int64\n",
      "c40-49                   int64\n",
      "c50-59                   int64\n",
      "c60-69                   int64\n",
      "c70-79                   int64\n",
      "c80-89                   int64\n",
      "c90+                     int64\n",
      "cOnbekend                int64\n",
      "dtype: object\n"
     ]
    },
    {
     "name": "stderr",
     "output_type": "stream",
     "text": [
      "\r",
      "  0%|          | 0/147 [00:00<?, ?it/s]"
     ]
    },
    {
     "name": "stderr",
     "output_type": "stream",
     "text": [
      "\r",
      "  1%|          | 1/147 [00:00<02:21,  1.03it/s]"
     ]
    },
    {
     "name": "stderr",
     "output_type": "stream",
     "text": [
      "\r",
      "  1%|▏         | 2/147 [00:01<01:09,  2.08it/s]"
     ]
    },
    {
     "name": "stderr",
     "output_type": "stream",
     "text": [
      "\r",
      "  3%|▎         | 4/147 [00:01<00:30,  4.70it/s]"
     ]
    },
    {
     "name": "stderr",
     "output_type": "stream",
     "text": [
      "\r",
      "  5%|▌         | 8/147 [00:01<00:15,  9.16it/s]"
     ]
    },
    {
     "name": "stderr",
     "output_type": "stream",
     "text": [
      "\r",
      "  7%|▋         | 10/147 [00:01<00:20,  6.64it/s]"
     ]
    },
    {
     "name": "stderr",
     "output_type": "stream",
     "text": [
      "\r",
      "  8%|▊         | 12/147 [00:02<00:22,  6.07it/s]"
     ]
    },
    {
     "name": "stderr",
     "output_type": "stream",
     "text": [
      "\r",
      " 10%|▉         | 14/147 [00:02<00:20,  6.51it/s]"
     ]
    },
    {
     "name": "stderr",
     "output_type": "stream",
     "text": [
      "\r",
      " 10%|█         | 15/147 [00:02<00:22,  5.99it/s]"
     ]
    },
    {
     "name": "stderr",
     "output_type": "stream",
     "text": [
      "\r",
      " 12%|█▏        | 17/147 [00:02<00:16,  7.66it/s]"
     ]
    },
    {
     "name": "stderr",
     "output_type": "stream",
     "text": [
      "\r",
      " 13%|█▎        | 19/147 [00:03<00:24,  5.23it/s]"
     ]
    },
    {
     "name": "stderr",
     "output_type": "stream",
     "text": [
      "\r",
      " 15%|█▍        | 22/147 [00:03<00:16,  7.42it/s]"
     ]
    },
    {
     "name": "stderr",
     "output_type": "stream",
     "text": [
      "\r",
      " 16%|█▋        | 24/147 [00:04<00:27,  4.46it/s]"
     ]
    },
    {
     "name": "stderr",
     "output_type": "stream",
     "text": [
      "\r",
      " 17%|█▋        | 25/147 [00:04<00:25,  4.82it/s]"
     ]
    },
    {
     "name": "stderr",
     "output_type": "stream",
     "text": [
      "\r",
      " 18%|█▊        | 27/147 [00:04<00:21,  5.48it/s]"
     ]
    },
    {
     "name": "stderr",
     "output_type": "stream",
     "text": [
      "\r",
      " 19%|█▉        | 28/147 [00:05<00:23,  5.00it/s]"
     ]
    },
    {
     "name": "stderr",
     "output_type": "stream",
     "text": [
      "\r",
      " 21%|██        | 31/147 [00:05<00:17,  6.80it/s]"
     ]
    },
    {
     "name": "stderr",
     "output_type": "stream",
     "text": [
      "\r",
      " 22%|██▏       | 32/147 [00:05<00:17,  6.64it/s]"
     ]
    },
    {
     "name": "stderr",
     "output_type": "stream",
     "text": [
      "\r",
      " 23%|██▎       | 34/147 [00:06<00:17,  6.37it/s]"
     ]
    },
    {
     "name": "stderr",
     "output_type": "stream",
     "text": [
      "\r",
      " 24%|██▍       | 36/147 [00:06<00:16,  6.80it/s]"
     ]
    },
    {
     "name": "stderr",
     "output_type": "stream",
     "text": [
      "\r",
      " 25%|██▌       | 37/147 [00:06<00:15,  7.18it/s]"
     ]
    },
    {
     "name": "stderr",
     "output_type": "stream",
     "text": [
      "\r",
      " 27%|██▋       | 40/147 [00:06<00:10,  9.93it/s]"
     ]
    },
    {
     "name": "stderr",
     "output_type": "stream",
     "text": [
      "\r",
      " 29%|██▊       | 42/147 [00:06<00:10,  9.86it/s]"
     ]
    },
    {
     "name": "stderr",
     "output_type": "stream",
     "text": [
      "\r",
      " 30%|██▉       | 44/147 [00:06<00:10, 10.29it/s]"
     ]
    },
    {
     "name": "stderr",
     "output_type": "stream",
     "text": [
      "\r",
      " 31%|███▏      | 46/147 [00:07<00:12,  7.86it/s]"
     ]
    },
    {
     "name": "stderr",
     "output_type": "stream",
     "text": [
      "\r",
      " 32%|███▏      | 47/147 [00:07<00:13,  7.14it/s]"
     ]
    },
    {
     "name": "stderr",
     "output_type": "stream",
     "text": [
      "\r",
      " 33%|███▎      | 49/147 [00:07<00:13,  7.14it/s]"
     ]
    },
    {
     "name": "stderr",
     "output_type": "stream",
     "text": [
      "\r",
      " 34%|███▍      | 50/147 [00:07<00:14,  6.85it/s]"
     ]
    },
    {
     "name": "stderr",
     "output_type": "stream",
     "text": [
      "\r",
      " 35%|███▍      | 51/147 [00:08<00:14,  6.65it/s]"
     ]
    },
    {
     "name": "stderr",
     "output_type": "stream",
     "text": [
      "\r",
      " 35%|███▌      | 52/147 [00:08<00:14,  6.42it/s]"
     ]
    },
    {
     "name": "stderr",
     "output_type": "stream",
     "text": [
      "\r",
      " 36%|███▌      | 53/147 [00:08<00:15,  5.98it/s]"
     ]
    },
    {
     "name": "stderr",
     "output_type": "stream",
     "text": [
      "\r",
      " 37%|███▋      | 55/147 [00:08<00:11,  7.86it/s]"
     ]
    },
    {
     "name": "stderr",
     "output_type": "stream",
     "text": [
      "\r",
      " 38%|███▊      | 56/147 [00:09<00:19,  4.62it/s]"
     ]
    },
    {
     "name": "stderr",
     "output_type": "stream",
     "text": [
      "\r",
      " 39%|███▉      | 58/147 [00:09<00:15,  5.78it/s]"
     ]
    },
    {
     "name": "stderr",
     "output_type": "stream",
     "text": [
      "\r",
      " 41%|████      | 60/147 [00:09<00:11,  7.35it/s]"
     ]
    },
    {
     "name": "stderr",
     "output_type": "stream",
     "text": [
      "\r",
      " 41%|████▏     | 61/147 [00:09<00:12,  6.95it/s]"
     ]
    },
    {
     "name": "stderr",
     "output_type": "stream",
     "text": [
      "\r",
      " 43%|████▎     | 63/147 [00:09<00:10,  8.00it/s]"
     ]
    },
    {
     "name": "stderr",
     "output_type": "stream",
     "text": [
      "\r",
      " 44%|████▎     | 64/147 [00:10<00:12,  6.86it/s]"
     ]
    },
    {
     "name": "stderr",
     "output_type": "stream",
     "text": [
      "\r",
      " 44%|████▍     | 65/147 [00:10<00:13,  6.19it/s]"
     ]
    },
    {
     "name": "stderr",
     "output_type": "stream",
     "text": [
      "\r",
      " 46%|████▌     | 67/147 [00:10<00:10,  7.32it/s]"
     ]
    },
    {
     "name": "stderr",
     "output_type": "stream",
     "text": [
      "\r",
      " 46%|████▋     | 68/147 [00:10<00:14,  5.38it/s]"
     ]
    },
    {
     "name": "stderr",
     "output_type": "stream",
     "text": [
      "\r",
      " 48%|████▊     | 70/147 [00:10<00:10,  7.40it/s]"
     ]
    },
    {
     "name": "stderr",
     "output_type": "stream",
     "text": [
      "\r",
      " 48%|████▊     | 71/147 [00:11<00:11,  6.42it/s]"
     ]
    },
    {
     "name": "stderr",
     "output_type": "stream",
     "text": [
      "\r",
      " 49%|████▉     | 72/147 [00:11<00:16,  4.50it/s]"
     ]
    },
    {
     "name": "stderr",
     "output_type": "stream",
     "text": [
      "\r",
      " 50%|█████     | 74/147 [00:11<00:13,  5.60it/s]"
     ]
    },
    {
     "name": "stderr",
     "output_type": "stream",
     "text": [
      "\r",
      " 51%|█████     | 75/147 [00:12<00:12,  5.91it/s]"
     ]
    },
    {
     "name": "stderr",
     "output_type": "stream",
     "text": [
      "\r",
      " 52%|█████▏    | 77/147 [00:12<00:08,  8.10it/s]"
     ]
    },
    {
     "name": "stderr",
     "output_type": "stream",
     "text": [
      "\r",
      " 54%|█████▍    | 80/147 [00:12<00:08,  7.56it/s]"
     ]
    },
    {
     "name": "stderr",
     "output_type": "stream",
     "text": [
      "\r",
      " 55%|█████▌    | 81/147 [00:12<00:08,  7.80it/s]"
     ]
    },
    {
     "name": "stderr",
     "output_type": "stream",
     "text": [
      "\r",
      " 56%|█████▌    | 82/147 [00:12<00:09,  6.63it/s]"
     ]
    },
    {
     "name": "stderr",
     "output_type": "stream",
     "text": [
      "\r",
      " 56%|█████▋    | 83/147 [00:13<00:09,  6.45it/s]"
     ]
    },
    {
     "name": "stderr",
     "output_type": "stream",
     "text": [
      "\r",
      " 58%|█████▊    | 85/147 [00:13<00:08,  7.54it/s]"
     ]
    },
    {
     "name": "stderr",
     "output_type": "stream",
     "text": [
      "\r",
      " 59%|█████▊    | 86/147 [00:13<00:09,  6.71it/s]"
     ]
    },
    {
     "name": "stderr",
     "output_type": "stream",
     "text": [
      "\r",
      " 60%|█████▉    | 88/147 [00:13<00:11,  5.14it/s]"
     ]
    },
    {
     "name": "stderr",
     "output_type": "stream",
     "text": [
      "\r",
      " 61%|██████    | 90/147 [00:14<00:09,  6.31it/s]"
     ]
    },
    {
     "name": "stderr",
     "output_type": "stream",
     "text": [
      "\r",
      " 63%|██████▎   | 93/147 [00:14<00:06,  7.88it/s]"
     ]
    },
    {
     "name": "stderr",
     "output_type": "stream",
     "text": [
      "\r",
      " 64%|██████▍   | 94/147 [00:14<00:07,  7.16it/s]"
     ]
    },
    {
     "name": "stderr",
     "output_type": "stream",
     "text": [
      "\r",
      " 66%|██████▌   | 97/147 [00:14<00:05,  8.94it/s]"
     ]
    },
    {
     "name": "stderr",
     "output_type": "stream",
     "text": [
      "\r",
      " 67%|██████▋   | 98/147 [00:15<00:05,  8.36it/s]"
     ]
    },
    {
     "name": "stderr",
     "output_type": "stream",
     "text": [
      "\r",
      " 67%|██████▋   | 99/147 [00:15<00:08,  5.34it/s]"
     ]
    },
    {
     "name": "stderr",
     "output_type": "stream",
     "text": [
      "\r",
      " 69%|██████▉   | 102/147 [00:15<00:06,  7.48it/s]"
     ]
    },
    {
     "name": "stderr",
     "output_type": "stream",
     "text": [
      "\r",
      " 71%|███████   | 104/147 [00:15<00:04,  8.68it/s]"
     ]
    },
    {
     "name": "stderr",
     "output_type": "stream",
     "text": [
      "\r",
      " 72%|███████▏  | 106/147 [00:16<00:05,  7.45it/s]"
     ]
    },
    {
     "name": "stderr",
     "output_type": "stream",
     "text": [
      "\r",
      " 73%|███████▎  | 107/147 [00:16<00:06,  6.19it/s]"
     ]
    },
    {
     "name": "stderr",
     "output_type": "stream",
     "text": [
      "\r",
      " 73%|███████▎  | 108/147 [00:16<00:06,  6.36it/s]"
     ]
    },
    {
     "name": "stderr",
     "output_type": "stream",
     "text": [
      "\r",
      " 75%|███████▍  | 110/147 [00:16<00:05,  6.26it/s]"
     ]
    },
    {
     "name": "stderr",
     "output_type": "stream",
     "text": [
      "\r",
      " 76%|███████▌  | 112/147 [00:17<00:04,  7.45it/s]"
     ]
    },
    {
     "name": "stderr",
     "output_type": "stream",
     "text": [
      "\r",
      " 77%|███████▋  | 113/147 [00:17<00:05,  6.64it/s]"
     ]
    },
    {
     "name": "stderr",
     "output_type": "stream",
     "text": [
      "\r",
      " 78%|███████▊  | 114/147 [00:17<00:04,  7.06it/s]"
     ]
    },
    {
     "name": "stderr",
     "output_type": "stream",
     "text": [
      "\r",
      " 79%|███████▉  | 116/147 [00:17<00:05,  6.02it/s]"
     ]
    },
    {
     "name": "stderr",
     "output_type": "stream",
     "text": [
      "\r",
      " 80%|████████  | 118/147 [00:18<00:03,  7.45it/s]"
     ]
    },
    {
     "name": "stderr",
     "output_type": "stream",
     "text": [
      "\r",
      " 81%|████████  | 119/147 [00:18<00:04,  6.52it/s]"
     ]
    },
    {
     "name": "stderr",
     "output_type": "stream",
     "text": [
      "\r",
      " 82%|████████▏ | 121/147 [00:18<00:03,  7.19it/s]"
     ]
    },
    {
     "name": "stderr",
     "output_type": "stream",
     "text": [
      "\r",
      " 83%|████████▎ | 122/147 [00:18<00:03,  7.03it/s]"
     ]
    },
    {
     "name": "stderr",
     "output_type": "stream",
     "text": [
      "\r",
      " 84%|████████▍ | 124/147 [00:18<00:02,  7.80it/s]"
     ]
    },
    {
     "name": "stderr",
     "output_type": "stream",
     "text": [
      "\r",
      " 85%|████████▌ | 125/147 [00:19<00:03,  7.24it/s]"
     ]
    },
    {
     "name": "stderr",
     "output_type": "stream",
     "text": [
      "\r",
      " 86%|████████▋ | 127/147 [00:19<00:02,  7.48it/s]"
     ]
    },
    {
     "name": "stderr",
     "output_type": "stream",
     "text": [
      "\r",
      " 88%|████████▊ | 129/147 [00:19<00:01,  9.27it/s]"
     ]
    },
    {
     "name": "stderr",
     "output_type": "stream",
     "text": [
      "\r",
      " 89%|████████▉ | 131/147 [00:19<00:02,  5.93it/s]"
     ]
    },
    {
     "name": "stderr",
     "output_type": "stream",
     "text": [
      "\r",
      " 90%|█████████ | 133/147 [00:20<00:02,  6.99it/s]"
     ]
    },
    {
     "name": "stderr",
     "output_type": "stream",
     "text": [
      "\r",
      " 92%|█████████▏| 135/147 [00:20<00:02,  5.69it/s]"
     ]
    },
    {
     "name": "stderr",
     "output_type": "stream",
     "text": [
      "\r",
      " 93%|█████████▎| 137/147 [00:20<00:01,  5.98it/s]"
     ]
    },
    {
     "name": "stderr",
     "output_type": "stream",
     "text": [
      "\r",
      " 94%|█████████▍| 138/147 [00:21<00:01,  6.15it/s]"
     ]
    },
    {
     "name": "stderr",
     "output_type": "stream",
     "text": [
      "\r",
      " 95%|█████████▍| 139/147 [00:21<00:01,  5.71it/s]"
     ]
    },
    {
     "name": "stderr",
     "output_type": "stream",
     "text": [
      "\r",
      " 95%|█████████▌| 140/147 [00:21<00:01,  5.67it/s]"
     ]
    },
    {
     "name": "stderr",
     "output_type": "stream",
     "text": [
      "\r",
      " 96%|█████████▌| 141/147 [00:21<00:01,  5.00it/s]"
     ]
    },
    {
     "name": "stderr",
     "output_type": "stream",
     "text": [
      "\r",
      " 97%|█████████▋| 142/147 [00:21<00:00,  5.62it/s]"
     ]
    },
    {
     "name": "stderr",
     "output_type": "stream",
     "text": [
      "\r",
      " 97%|█████████▋| 143/147 [00:22<00:00,  5.67it/s]"
     ]
    },
    {
     "name": "stderr",
     "output_type": "stream",
     "text": [
      "\r",
      " 98%|█████████▊| 144/147 [00:22<00:00,  5.21it/s]"
     ]
    },
    {
     "name": "stderr",
     "output_type": "stream",
     "text": [
      "\r",
      " 99%|█████████▊| 145/147 [00:22<00:00,  4.72it/s]"
     ]
    },
    {
     "name": "stderr",
     "output_type": "stream",
     "text": [
      "\r",
      " 99%|█████████▉| 146/147 [00:22<00:00,  4.38it/s]"
     ]
    },
    {
     "name": "stderr",
     "output_type": "stream",
     "text": [
      "\r",
      "100%|██████████| 147/147 [00:29<00:00,  2.16s/it]"
     ]
    },
    {
     "name": "stderr",
     "output_type": "stream",
     "text": [
      "\r",
      "100%|██████████| 147/147 [00:29<00:00,  4.96it/s]"
     ]
    },
    {
     "name": "stdout",
     "output_type": "stream",
     "text": [
      "\n",
      "rate limit: 7 \n",
      "Leeftijdsgroep API calls: create: 0, read: 1, update: 147, delete: 0, backoff: 3\n",
      "errors:\n",
      "  503: Service Unavailable: 2\n"
     ]
    },
    {
     "name": "stdout",
     "output_type": "stream",
     "text": [
      "[{'Key': 1, 'Timestamp Leeftijdsgroep RIVM': '2021-11-27 15:15'}]\n"
     ]
    },
    {
     "name": "stderr",
     "output_type": "stream",
     "text": [
      "\n"
     ]
    },
    {
     "name": "stdout",
     "output_type": "stream",
     "text": [
      "timestamps: [{'Key': 1, 'Timestamp Leeftijdsgroep RIVM': '2021-11-27 15:15'}]\n",
      "Key                               int64\n",
      "Timestamp Leeftijdsgroep RIVM    object\n",
      "dtype: object\n"
     ]
    },
    {
     "name": "stderr",
     "output_type": "stream",
     "text": [
      "\r",
      "  0%|          | 0/1 [00:00<?, ?it/s]"
     ]
    },
    {
     "name": "stderr",
     "output_type": "stream",
     "text": [
      "\r",
      "100%|██████████| 1/1 [00:00<00:00,  1.04it/s]"
     ]
    },
    {
     "name": "stderr",
     "output_type": "stream",
     "text": [
      "\r",
      "100%|██████████| 1/1 [00:00<00:00,  1.03it/s]"
     ]
    },
    {
     "name": "stdout",
     "output_type": "stream",
     "text": [
      "\n",
      "rate limit: 7 \n",
      "LaatsteUpdate API calls: create: 0, read: 0, update: 1, delete: 0, backoff: 0\n"
     ]
    },
    {
     "name": "stderr",
     "output_type": "stream",
     "text": [
      "\n"
     ]
    },
    {
     "name": "stdout",
     "output_type": "stream",
     "text": [
      "BatchName     object\n",
      "ObjectName    object\n",
      "Source        object\n",
      "Timestamp     object\n",
      "dtype: object\n"
     ]
    },
    {
     "name": "stderr",
     "output_type": "stream",
     "text": [
      "\r",
      "  0%|          | 0/1 [00:00<?, ?it/s]"
     ]
    },
    {
     "name": "stderr",
     "output_type": "stream",
     "text": [
      "\r",
      "100%|██████████| 1/1 [00:01<00:00,  1.10s/it]"
     ]
    },
    {
     "name": "stderr",
     "output_type": "stream",
     "text": [
      "\r",
      "100%|██████████| 1/1 [00:01<00:00,  1.10s/it]"
     ]
    },
    {
     "name": "stdout",
     "output_type": "stream",
     "text": [
      "\n",
      "rate limit: 7 \n",
      "UpdateDetails API calls: create: 1, read: 0, update: 0, delete: 0, backoff: 0\n"
     ]
    },
    {
     "name": "stderr",
     "output_type": "stream",
     "text": [
      "\n"
     ]
    },
    {
     "name": "stdout",
     "output_type": "stream",
     "text": [
      "updating: [{'Key': 1, 'Updating Leeftijdsgroep': 'false'}]\n",
      "Key                         int64\n",
      "Updating Leeftijdsgroep    object\n",
      "dtype: object\n"
     ]
    },
    {
     "name": "stderr",
     "output_type": "stream",
     "text": [
      "\r",
      "  0%|          | 0/1 [00:00<?, ?it/s]"
     ]
    },
    {
     "name": "stderr",
     "output_type": "stream",
     "text": [
      "\r",
      "100%|██████████| 1/1 [00:01<00:00,  1.20s/it]"
     ]
    },
    {
     "name": "stderr",
     "output_type": "stream",
     "text": [
      "\r",
      "100%|██████████| 1/1 [00:01<00:00,  1.20s/it]"
     ]
    },
    {
     "name": "stdout",
     "output_type": "stream",
     "text": [
      "\n",
      "rate limit: 7 \n",
      "LaatsteUpdate API calls: create: 0, read: 0, update: 1, delete: 0, backoff: 0\n"
     ]
    },
    {
     "name": "stderr",
     "output_type": "stream",
     "text": [
      "\n"
     ]
    }
   ],
   "source": [
    "if knack:\n",
    "  await knack.publish(tabel.fillna(0).assign(Datum=tabel.Datum.dt.strftime('%Y-%m-%d')), 'Leeftijdsgroep', Cache)"
   ]
  }
 ],
 "metadata": {
  "jupytext": {
   "cell_metadata_filter": "title,-all"
  },
  "kernelspec": {
   "display_name": "Python 3 (ipykernel)",
   "language": "python",
   "name": "python3"
  },
  "language_info": {
   "codemirror_mode": {
    "name": "ipython",
    "version": 3
   },
   "file_extension": ".py",
   "mimetype": "text/x-python",
   "name": "python",
   "nbconvert_exporter": "python",
   "pygments_lexer": "ipython3",
   "version": "3.9.9"
  },
  "papermill": {
   "default_parameters": {},
   "duration": 606.738881,
   "end_time": "2021-11-27T14:40:51.508450",
   "environment_variables": {},
   "exception": null,
   "input_path": "-",
   "output_path": "LeeftijdsgroepenLandelijk.ipynb",
   "parameters": {},
   "start_time": "2021-11-27T14:30:44.769569",
   "version": "2.3.3"
  }
 },
 "nbformat": 4,
 "nbformat_minor": 5
}