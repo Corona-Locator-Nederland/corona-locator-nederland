{
 "cells": [
  {
   "cell_type": "code",
   "execution_count": 1,
   "id": "a7225969",
   "metadata": {
    "execution": {
     "iopub.execute_input": "2021-12-24T14:31:33.186035Z",
     "iopub.status.busy": "2021-12-24T14:31:33.185430Z",
     "iopub.status.idle": "2021-12-24T14:31:36.378262Z",
     "shell.execute_reply": "2021-12-24T14:31:36.377665Z"
    },
    "lines_to_next_cell": 1,
    "papermill": {
     "duration": 3.207589,
     "end_time": "2021-12-24T14:31:36.378407",
     "exception": false,
     "start_time": "2021-12-24T14:31:33.170818",
     "status": "completed"
    },
    "tags": []
   },
   "outputs": [],
   "source": [
    "from IPython import get_ipython\n",
    "from IPython.core.display import display\n",
    "get_ipython().run_line_magic('load_ext', 'autoreload')\n",
    "get_ipython().run_line_magic('autoreload', '2')\n",
    "get_ipython().run_line_magic('run', 'setup')"
   ]
  },
  {
   "cell_type": "code",
   "execution_count": 2,
   "id": "5543bcc8",
   "metadata": {
    "execution": {
     "iopub.execute_input": "2021-12-24T14:31:36.393939Z",
     "iopub.status.busy": "2021-12-24T14:31:36.390997Z",
     "iopub.status.idle": "2021-12-24T14:37:27.774809Z",
     "shell.execute_reply": "2021-12-24T14:37:27.775282Z"
    },
    "lines_to_next_cell": 1,
    "papermill": {
     "duration": 351.391245,
     "end_time": "2021-12-24T14:37:27.775464",
     "exception": false,
     "start_time": "2021-12-24T14:31:36.384219",
     "status": "completed"
    },
    "tags": [],
    "title": "leeftijdsgroepen: download RIVM data"
   },
   "outputs": [
    {
     "name": "stdout",
     "output_type": "stream",
     "text": [
      "downloading rivm/COVID-19_casus_landelijk-2021-12-24@14-15.csv\n"
     ]
    },
    {
     "name": "stdout",
     "output_type": "stream",
     "text": [
      "rivm COVID-19_casus_landelijk zipping rivm/COVID-19_casus_landelijk-2021-12-24@14-15.csv\n"
     ]
    },
    {
     "name": "stdout",
     "output_type": "stream",
     "text": [
      "loading rivm/COVID-19_casus_landelijk-2021-12-24@14-15.csv.gz\n"
     ]
    },
    {
     "data": {
      "text/html": [
       "<div>\n",
       "<style scoped>\n",
       "    .dataframe tbody tr th:only-of-type {\n",
       "        vertical-align: middle;\n",
       "    }\n",
       "\n",
       "    .dataframe tbody tr th {\n",
       "        vertical-align: top;\n",
       "    }\n",
       "\n",
       "    .dataframe thead th {\n",
       "        text-align: right;\n",
       "    }\n",
       "</style>\n",
       "<table border=\"1\" class=\"dataframe\">\n",
       "  <thead>\n",
       "    <tr style=\"text-align: right;\">\n",
       "      <th></th>\n",
       "      <th>Date_file</th>\n",
       "      <th>Date_statistics</th>\n",
       "      <th>Date_statistics_type</th>\n",
       "      <th>Agegroup</th>\n",
       "      <th>Sex</th>\n",
       "      <th>Province</th>\n",
       "      <th>Hospital_admission</th>\n",
       "      <th>Deceased</th>\n",
       "      <th>Week_of_death</th>\n",
       "      <th>Municipal_health_service</th>\n",
       "    </tr>\n",
       "  </thead>\n",
       "  <tbody>\n",
       "    <tr>\n",
       "      <th>0</th>\n",
       "      <td>2021-12-24 10:00:00</td>\n",
       "      <td>2020-01-01</td>\n",
       "      <td>DOO</td>\n",
       "      <td>40-49</td>\n",
       "      <td>Female</td>\n",
       "      <td>Noord-Holland</td>\n",
       "      <td>No</td>\n",
       "      <td>No</td>\n",
       "      <td>NaN</td>\n",
       "      <td>GGD Amsterdam</td>\n",
       "    </tr>\n",
       "    <tr>\n",
       "      <th>1</th>\n",
       "      <td>2021-12-24 10:00:00</td>\n",
       "      <td>2020-01-01</td>\n",
       "      <td>DOO</td>\n",
       "      <td>50-59</td>\n",
       "      <td>Male</td>\n",
       "      <td>Gelderland</td>\n",
       "      <td>No</td>\n",
       "      <td>No</td>\n",
       "      <td>NaN</td>\n",
       "      <td>Veiligheids- en Gezondheidsregio Gelderland-Mi...</td>\n",
       "    </tr>\n",
       "    <tr>\n",
       "      <th>2</th>\n",
       "      <td>2021-12-24 10:00:00</td>\n",
       "      <td>2020-01-01</td>\n",
       "      <td>DOO</td>\n",
       "      <td>20-29</td>\n",
       "      <td>Female</td>\n",
       "      <td>Zuid-Holland</td>\n",
       "      <td>No</td>\n",
       "      <td>No</td>\n",
       "      <td>NaN</td>\n",
       "      <td>GGD Hollands-Midden</td>\n",
       "    </tr>\n",
       "    <tr>\n",
       "      <th>3</th>\n",
       "      <td>2021-12-24 10:00:00</td>\n",
       "      <td>2020-01-01</td>\n",
       "      <td>DOO</td>\n",
       "      <td>60-69</td>\n",
       "      <td>Female</td>\n",
       "      <td>Noord-Holland</td>\n",
       "      <td>No</td>\n",
       "      <td>No</td>\n",
       "      <td>NaN</td>\n",
       "      <td>GGD Hollands-Noorden</td>\n",
       "    </tr>\n",
       "    <tr>\n",
       "      <th>4</th>\n",
       "      <td>2021-12-24 10:00:00</td>\n",
       "      <td>2020-01-04</td>\n",
       "      <td>DOO</td>\n",
       "      <td>10-19</td>\n",
       "      <td>Female</td>\n",
       "      <td>Gelderland</td>\n",
       "      <td>Unknown</td>\n",
       "      <td>No</td>\n",
       "      <td>NaN</td>\n",
       "      <td>GGD Gelderland-Zuid</td>\n",
       "    </tr>\n",
       "  </tbody>\n",
       "</table>\n",
       "</div>"
      ],
      "text/plain": [
       "             Date_file Date_statistics Date_statistics_type Agegroup     Sex  \\\n",
       "0  2021-12-24 10:00:00      2020-01-01                  DOO    40-49  Female   \n",
       "1  2021-12-24 10:00:00      2020-01-01                  DOO    50-59    Male   \n",
       "2  2021-12-24 10:00:00      2020-01-01                  DOO    20-29  Female   \n",
       "3  2021-12-24 10:00:00      2020-01-01                  DOO    60-69  Female   \n",
       "4  2021-12-24 10:00:00      2020-01-04                  DOO    10-19  Female   \n",
       "\n",
       "        Province Hospital_admission Deceased  Week_of_death  \\\n",
       "0  Noord-Holland                 No       No            NaN   \n",
       "1     Gelderland                 No       No            NaN   \n",
       "2   Zuid-Holland                 No       No            NaN   \n",
       "3  Noord-Holland                 No       No            NaN   \n",
       "4     Gelderland            Unknown       No            NaN   \n",
       "\n",
       "                            Municipal_health_service  \n",
       "0                                      GGD Amsterdam  \n",
       "1  Veiligheids- en Gezondheidsregio Gelderland-Mi...  \n",
       "2                                GGD Hollands-Midden  \n",
       "3                               GGD Hollands-Noorden  \n",
       "4                                GGD Gelderland-Zuid  "
      ]
     },
     "metadata": {},
     "output_type": "display_data"
    }
   ],
   "source": [
    "#leeftijdsgroepen = SimpleNamespace()\n",
    "@run\n",
    "def cell():\n",
    "  global rivm\n",
    "  rivm = RIVM.csv('COVID-19_casus_landelijk')\n",
    "  display(rivm.head())"
   ]
  },
  {
   "cell_type": "code",
   "execution_count": 3,
   "id": "e6c8bccc",
   "metadata": {
    "execution": {
     "iopub.execute_input": "2021-12-24T14:37:27.798815Z",
     "iopub.status.busy": "2021-12-24T14:37:27.798073Z",
     "iopub.status.idle": "2021-12-24T14:37:30.787399Z",
     "shell.execute_reply": "2021-12-24T14:37:30.786393Z"
    },
    "papermill": {
     "duration": 3.00424,
     "end_time": "2021-12-24T14:37:30.787546",
     "exception": false,
     "start_time": "2021-12-24T14:37:27.783306",
     "status": "completed"
    },
    "tags": [],
    "title": "Download de bevolkings cijfers van CBS, uitgesplitst op de leeftijds categorien in de dataset van het RIVM"
   },
   "outputs": [],
   "source": [
    "@run\n",
    "def cell():\n",
    "  global bevolking\n",
    "\n",
    "  # December 2021:\n",
    "  aantallenpercohort = {'0-9': 1757736,\n",
    "    '10-19': 1981885,\n",
    "    '20-29': 2263186,\n",
    "    '30-39': 2213705,\n",
    "    '40-49': 2137833,\n",
    "    '50-59': 2550358,\n",
    "    '60-69': 2171183,\n",
    "    '70-79': 1649291,\n",
    "    '80-89': 722027,\n",
    "    '90+': 135289}\n",
    "\n",
    "  global bevolking\n",
    "\n",
    "  bevolking = None\n",
    "  try:\n",
    "    bevolking = CBS.bevolking(leeftijdsgroepen=True)\n",
    "  except Exception as e:\n",
    "    print(e)\n",
    "    bevolking = None\n",
    "\n",
    "  if bevolking is None:\n",
    "    bevolking = aantallenpercohort\n",
    "\n"
   ]
  },
  {
   "cell_type": "code",
   "execution_count": 4,
   "id": "d61143c7",
   "metadata": {
    "execution": {
     "iopub.execute_input": "2021-12-24T14:37:30.823489Z",
     "iopub.status.busy": "2021-12-24T14:37:30.818039Z",
     "iopub.status.idle": "2021-12-24T14:37:44.747041Z",
     "shell.execute_reply": "2021-12-24T14:37:44.746145Z"
    },
    "papermill": {
     "duration": 13.950629,
     "end_time": "2021-12-24T14:37:44.747177",
     "exception": false,
     "start_time": "2021-12-24T14:37:30.796548",
     "status": "completed"
    },
    "tags": [],
    "title": "leeftijdsgroepen: prepareer tabel"
   },
   "outputs": [
    {
     "data": {
      "text/html": [
       "<style type=\"text/css\">\n",
       "#T_387ad_row0_col7 {\n",
       "  background-color: #404688;\n",
       "  color: #f1f1f1;\n",
       "}\n",
       "#T_387ad_row0_col8 {\n",
       "  background-color: #443a83;\n",
       "  color: #f1f1f1;\n",
       "}\n",
       "#T_387ad_row0_col9, #T_387ad_row3_col8 {\n",
       "  background-color: #46075a;\n",
       "  color: #f1f1f1;\n",
       "}\n",
       "#T_387ad_row0_col10, #T_387ad_row1_col10, #T_387ad_row2_col10, #T_387ad_row3_col10, #T_387ad_row4_col8 {\n",
       "  background-color: #440154;\n",
       "  color: #f1f1f1;\n",
       "}\n",
       "#T_387ad_row0_col11 {\n",
       "  background-color: #453882;\n",
       "  color: #f1f1f1;\n",
       "}\n",
       "#T_387ad_row0_col12 {\n",
       "  background-color: #2e6d8e;\n",
       "  color: #f1f1f1;\n",
       "}\n",
       "#T_387ad_row0_col13 {\n",
       "  background-color: #1e9d89;\n",
       "  color: #f1f1f1;\n",
       "}\n",
       "#T_387ad_row0_col14 {\n",
       "  background-color: #70cf57;\n",
       "  color: #000000;\n",
       "}\n",
       "#T_387ad_row0_col15 {\n",
       "  background-color: #cae11f;\n",
       "  color: #000000;\n",
       "}\n",
       "#T_387ad_row0_col16 {\n",
       "  background-color: #efe51c;\n",
       "  color: #000000;\n",
       "}\n",
       "#T_387ad_row0_col17, #T_387ad_row1_col17, #T_387ad_row2_col17, #T_387ad_row3_col17, #T_387ad_row4_col17 {\n",
       "  background-color: #fde725;\n",
       "  color: #000000;\n",
       "}\n",
       "#T_387ad_row1_col7 {\n",
       "  background-color: #46337f;\n",
       "  color: #f1f1f1;\n",
       "}\n",
       "#T_387ad_row1_col8, #T_387ad_row2_col7 {\n",
       "  background-color: #482374;\n",
       "  color: #f1f1f1;\n",
       "}\n",
       "#T_387ad_row1_col9 {\n",
       "  background-color: #424086;\n",
       "  color: #f1f1f1;\n",
       "}\n",
       "#T_387ad_row1_col11, #T_387ad_row2_col11 {\n",
       "  background-color: #482173;\n",
       "  color: #f1f1f1;\n",
       "}\n",
       "#T_387ad_row1_col12, #T_387ad_row4_col12 {\n",
       "  background-color: #355e8d;\n",
       "  color: #f1f1f1;\n",
       "}\n",
       "#T_387ad_row1_col13, #T_387ad_row2_col13 {\n",
       "  background-color: #218f8d;\n",
       "  color: #f1f1f1;\n",
       "}\n",
       "#T_387ad_row1_col14 {\n",
       "  background-color: #48c16e;\n",
       "  color: #f1f1f1;\n",
       "}\n",
       "#T_387ad_row1_col15 {\n",
       "  background-color: #a8db34;\n",
       "  color: #000000;\n",
       "}\n",
       "#T_387ad_row1_col16 {\n",
       "  background-color: #e7e419;\n",
       "  color: #000000;\n",
       "}\n",
       "#T_387ad_row2_col8 {\n",
       "  background-color: #481a6c;\n",
       "  color: #f1f1f1;\n",
       "}\n",
       "#T_387ad_row2_col9 {\n",
       "  background-color: #365c8d;\n",
       "  color: #f1f1f1;\n",
       "}\n",
       "#T_387ad_row2_col12 {\n",
       "  background-color: #31688e;\n",
       "  color: #f1f1f1;\n",
       "}\n",
       "#T_387ad_row2_col14 {\n",
       "  background-color: #40bd72;\n",
       "  color: #f1f1f1;\n",
       "}\n",
       "#T_387ad_row2_col15 {\n",
       "  background-color: #95d840;\n",
       "  color: #000000;\n",
       "}\n",
       "#T_387ad_row2_col16 {\n",
       "  background-color: #e2e418;\n",
       "  color: #000000;\n",
       "}\n",
       "#T_387ad_row3_col7 {\n",
       "  background-color: #46307e;\n",
       "  color: #f1f1f1;\n",
       "}\n",
       "#T_387ad_row3_col9 {\n",
       "  background-color: #39558c;\n",
       "  color: #f1f1f1;\n",
       "}\n",
       "#T_387ad_row3_col11 {\n",
       "  background-color: #471365;\n",
       "  color: #f1f1f1;\n",
       "}\n",
       "#T_387ad_row3_col12 {\n",
       "  background-color: #355f8d;\n",
       "  color: #f1f1f1;\n",
       "}\n",
       "#T_387ad_row3_col13 {\n",
       "  background-color: #24878e;\n",
       "  color: #f1f1f1;\n",
       "}\n",
       "#T_387ad_row3_col14, #T_387ad_row4_col14 {\n",
       "  background-color: #3aba76;\n",
       "  color: #f1f1f1;\n",
       "}\n",
       "#T_387ad_row3_col15 {\n",
       "  background-color: #89d548;\n",
       "  color: #000000;\n",
       "}\n",
       "#T_387ad_row3_col16 {\n",
       "  background-color: #dae319;\n",
       "  color: #000000;\n",
       "}\n",
       "#T_387ad_row4_col7 {\n",
       "  background-color: #423f85;\n",
       "  color: #f1f1f1;\n",
       "}\n",
       "#T_387ad_row4_col9 {\n",
       "  background-color: #38588c;\n",
       "  color: #f1f1f1;\n",
       "}\n",
       "#T_387ad_row4_col10 {\n",
       "  background-color: #481c6e;\n",
       "  color: #f1f1f1;\n",
       "}\n",
       "#T_387ad_row4_col11 {\n",
       "  background-color: #481f70;\n",
       "  color: #f1f1f1;\n",
       "}\n",
       "#T_387ad_row4_col13 {\n",
       "  background-color: #23888e;\n",
       "  color: #f1f1f1;\n",
       "}\n",
       "#T_387ad_row4_col15 {\n",
       "  background-color: #8ed645;\n",
       "  color: #000000;\n",
       "}\n",
       "#T_387ad_row4_col16 {\n",
       "  background-color: #dde318;\n",
       "  color: #000000;\n",
       "}\n",
       "</style>\n",
       "<table id=\"T_387ad_\">\n",
       "  <thead>\n",
       "    <tr>\n",
       "      <th class=\"blank level0\" >&nbsp;</th>\n",
       "      <th class=\"col_heading level0 col0\" >Key</th>\n",
       "      <th class=\"col_heading level0 col1\" >Weken terug</th>\n",
       "      <th class=\"col_heading level0 col2\" >Datum</th>\n",
       "      <th class=\"col_heading level0 col3\" >Periode</th>\n",
       "      <th class=\"col_heading level0 col4\" >Gemiddelde leeftijd</th>\n",
       "      <th class=\"col_heading level0 col5\" >Totaal</th>\n",
       "      <th class=\"col_heading level0 col6\" >Type</th>\n",
       "      <th class=\"col_heading level0 col7\" >0-9</th>\n",
       "      <th class=\"col_heading level0 col8\" >10-19</th>\n",
       "      <th class=\"col_heading level0 col9\" >20-29</th>\n",
       "      <th class=\"col_heading level0 col10\" >30-39</th>\n",
       "      <th class=\"col_heading level0 col11\" >40-49</th>\n",
       "      <th class=\"col_heading level0 col12\" >50-59</th>\n",
       "      <th class=\"col_heading level0 col13\" >60-69</th>\n",
       "      <th class=\"col_heading level0 col14\" >70-79</th>\n",
       "      <th class=\"col_heading level0 col15\" >80-89</th>\n",
       "      <th class=\"col_heading level0 col16\" >90+</th>\n",
       "      <th class=\"col_heading level0 col17\" >Onbekend</th>\n",
       "      <th class=\"col_heading level0 col18\" >c0-9</th>\n",
       "      <th class=\"col_heading level0 col19\" >c10-19</th>\n",
       "      <th class=\"col_heading level0 col20\" >c20-29</th>\n",
       "      <th class=\"col_heading level0 col21\" >c30-39</th>\n",
       "      <th class=\"col_heading level0 col22\" >c40-49</th>\n",
       "      <th class=\"col_heading level0 col23\" >c50-59</th>\n",
       "      <th class=\"col_heading level0 col24\" >c60-69</th>\n",
       "      <th class=\"col_heading level0 col25\" >c70-79</th>\n",
       "      <th class=\"col_heading level0 col26\" >c80-89</th>\n",
       "      <th class=\"col_heading level0 col27\" >c90+</th>\n",
       "      <th class=\"col_heading level0 col28\" >cOnbekend</th>\n",
       "    </tr>\n",
       "  </thead>\n",
       "  <tbody>\n",
       "    <tr>\n",
       "      <th id=\"T_387ad_level0_row0\" class=\"row_heading level0 row0\" >0</th>\n",
       "      <td id=\"T_387ad_row0_col0\" class=\"data row0 col0\" >p000</td>\n",
       "      <td id=\"T_387ad_row0_col1\" class=\"data row0 col1\" >0</td>\n",
       "      <td id=\"T_387ad_row0_col2\" class=\"data row0 col2\" >2021-12-24 00:00:00</td>\n",
       "      <td id=\"T_387ad_row0_col3\" class=\"data row0 col3\" >18/12-24/12</td>\n",
       "      <td id=\"T_387ad_row0_col4\" class=\"data row0 col4\" >34.800000</td>\n",
       "      <td id=\"T_387ad_row0_col5\" class=\"data row0 col5\" >49561.000000</td>\n",
       "      <td id=\"T_387ad_row0_col6\" class=\"data row0 col6\" >Positief getest</td>\n",
       "      <td id=\"T_387ad_row0_col7\" class=\"data row0 col7\" >6699.000000</td>\n",
       "      <td id=\"T_387ad_row0_col8\" class=\"data row0 col8\" >7015.000000</td>\n",
       "      <td id=\"T_387ad_row0_col9\" class=\"data row0 col9\" >8320.000000</td>\n",
       "      <td id=\"T_387ad_row0_col10\" class=\"data row0 col10\" >8464.000000</td>\n",
       "      <td id=\"T_387ad_row0_col11\" class=\"data row0 col11\" >7077.000000</td>\n",
       "      <td id=\"T_387ad_row0_col12\" class=\"data row0 col12\" >5487.000000</td>\n",
       "      <td id=\"T_387ad_row0_col13\" class=\"data row0 col13\" >3782.000000</td>\n",
       "      <td id=\"T_387ad_row0_col14\" class=\"data row0 col14\" >1827.000000</td>\n",
       "      <td id=\"T_387ad_row0_col15\" class=\"data row0 col15\" >676.000000</td>\n",
       "      <td id=\"T_387ad_row0_col16\" class=\"data row0 col16\" >214.000000</td>\n",
       "      <td id=\"T_387ad_row0_col17\" class=\"data row0 col17\" >0.000000</td>\n",
       "      <td id=\"T_387ad_row0_col18\" class=\"data row0 col18\" >791</td>\n",
       "      <td id=\"T_387ad_row0_col19\" class=\"data row0 col19\" >828</td>\n",
       "      <td id=\"T_387ad_row0_col20\" class=\"data row0 col20\" >982</td>\n",
       "      <td id=\"T_387ad_row0_col21\" class=\"data row0 col21\" >1000</td>\n",
       "      <td id=\"T_387ad_row0_col22\" class=\"data row0 col22\" >836</td>\n",
       "      <td id=\"T_387ad_row0_col23\" class=\"data row0 col23\" >648</td>\n",
       "      <td id=\"T_387ad_row0_col24\" class=\"data row0 col24\" >446</td>\n",
       "      <td id=\"T_387ad_row0_col25\" class=\"data row0 col25\" >215</td>\n",
       "      <td id=\"T_387ad_row0_col26\" class=\"data row0 col26\" >79</td>\n",
       "      <td id=\"T_387ad_row0_col27\" class=\"data row0 col27\" >25</td>\n",
       "      <td id=\"T_387ad_row0_col28\" class=\"data row0 col28\" >0</td>\n",
       "    </tr>\n",
       "    <tr>\n",
       "      <th id=\"T_387ad_level0_row1\" class=\"row_heading level0 row1\" >1</th>\n",
       "      <td id=\"T_387ad_row1_col0\" class=\"data row1 col0\" >p001</td>\n",
       "      <td id=\"T_387ad_row1_col1\" class=\"data row1 col1\" >1</td>\n",
       "      <td id=\"T_387ad_row1_col2\" class=\"data row1 col2\" >2021-12-24 00:00:00</td>\n",
       "      <td id=\"T_387ad_row1_col3\" class=\"data row1 col3\" >11/12-17/12</td>\n",
       "      <td id=\"T_387ad_row1_col4\" class=\"data row1 col4\" >36.200000</td>\n",
       "      <td id=\"T_387ad_row1_col5\" class=\"data row1 col5\" >93261.000000</td>\n",
       "      <td id=\"T_387ad_row1_col6\" class=\"data row1 col6\" >Positief getest</td>\n",
       "      <td id=\"T_387ad_row1_col7\" class=\"data row1 col7\" >12933.000000</td>\n",
       "      <td id=\"T_387ad_row1_col8\" class=\"data row1 col8\" >13739.000000</td>\n",
       "      <td id=\"T_387ad_row1_col9\" class=\"data row1 col9\" >12276.000000</td>\n",
       "      <td id=\"T_387ad_row1_col10\" class=\"data row1 col10\" >15164.000000</td>\n",
       "      <td id=\"T_387ad_row1_col11\" class=\"data row1 col11\" >13777.000000</td>\n",
       "      <td id=\"T_387ad_row1_col12\" class=\"data row1 col12\" >10671.000000</td>\n",
       "      <td id=\"T_387ad_row1_col13\" class=\"data row1 col13\" >7676.000000</td>\n",
       "      <td id=\"T_387ad_row1_col14\" class=\"data row1 col14\" >4443.000000</td>\n",
       "      <td id=\"T_387ad_row1_col15\" class=\"data row1 col15\" >2001.000000</td>\n",
       "      <td id=\"T_387ad_row1_col16\" class=\"data row1 col16\" >579.000000</td>\n",
       "      <td id=\"T_387ad_row1_col17\" class=\"data row1 col17\" >2.000000</td>\n",
       "      <td id=\"T_387ad_row1_col18\" class=\"data row1 col18\" >852</td>\n",
       "      <td id=\"T_387ad_row1_col19\" class=\"data row1 col19\" >906</td>\n",
       "      <td id=\"T_387ad_row1_col20\" class=\"data row1 col20\" >809</td>\n",
       "      <td id=\"T_387ad_row1_col21\" class=\"data row1 col21\" >1000</td>\n",
       "      <td id=\"T_387ad_row1_col22\" class=\"data row1 col22\" >908</td>\n",
       "      <td id=\"T_387ad_row1_col23\" class=\"data row1 col23\" >703</td>\n",
       "      <td id=\"T_387ad_row1_col24\" class=\"data row1 col24\" >506</td>\n",
       "      <td id=\"T_387ad_row1_col25\" class=\"data row1 col25\" >292</td>\n",
       "      <td id=\"T_387ad_row1_col26\" class=\"data row1 col26\" >131</td>\n",
       "      <td id=\"T_387ad_row1_col27\" class=\"data row1 col27\" >38</td>\n",
       "      <td id=\"T_387ad_row1_col28\" class=\"data row1 col28\" >0</td>\n",
       "    </tr>\n",
       "    <tr>\n",
       "      <th id=\"T_387ad_level0_row2\" class=\"row_heading level0 row2\" >2</th>\n",
       "      <td id=\"T_387ad_row2_col0\" class=\"data row2 col0\" >p002</td>\n",
       "      <td id=\"T_387ad_row2_col1\" class=\"data row2 col1\" >2</td>\n",
       "      <td id=\"T_387ad_row2_col2\" class=\"data row2 col2\" >2021-12-24 00:00:00</td>\n",
       "      <td id=\"T_387ad_row2_col3\" class=\"data row2 col3\" >04/12-10/12</td>\n",
       "      <td id=\"T_387ad_row2_col4\" class=\"data row2 col4\" >36.300000</td>\n",
       "      <td id=\"T_387ad_row2_col5\" class=\"data row2 col5\" >121317.000000</td>\n",
       "      <td id=\"T_387ad_row2_col6\" class=\"data row2 col6\" >Positief getest</td>\n",
       "      <td id=\"T_387ad_row2_col7\" class=\"data row2 col7\" >17823.000000</td>\n",
       "      <td id=\"T_387ad_row2_col8\" class=\"data row2 col8\" >18421.000000</td>\n",
       "      <td id=\"T_387ad_row2_col9\" class=\"data row2 col9\" >14095.000000</td>\n",
       "      <td id=\"T_387ad_row2_col10\" class=\"data row2 col10\" >19738.000000</td>\n",
       "      <td id=\"T_387ad_row2_col11\" class=\"data row2 col11\" >17956.000000</td>\n",
       "      <td id=\"T_387ad_row2_col12\" class=\"data row2 col12\" >13152.000000</td>\n",
       "      <td id=\"T_387ad_row2_col13\" class=\"data row2 col13\" >10023.000000</td>\n",
       "      <td id=\"T_387ad_row2_col14\" class=\"data row2 col14\" >6062.000000</td>\n",
       "      <td id=\"T_387ad_row2_col15\" class=\"data row2 col15\" >3144.000000</td>\n",
       "      <td id=\"T_387ad_row2_col16\" class=\"data row2 col16\" >901.000000</td>\n",
       "      <td id=\"T_387ad_row2_col17\" class=\"data row2 col17\" >2.000000</td>\n",
       "      <td id=\"T_387ad_row2_col18\" class=\"data row2 col18\" >902</td>\n",
       "      <td id=\"T_387ad_row2_col19\" class=\"data row2 col19\" >933</td>\n",
       "      <td id=\"T_387ad_row2_col20\" class=\"data row2 col20\" >714</td>\n",
       "      <td id=\"T_387ad_row2_col21\" class=\"data row2 col21\" >1000</td>\n",
       "      <td id=\"T_387ad_row2_col22\" class=\"data row2 col22\" >909</td>\n",
       "      <td id=\"T_387ad_row2_col23\" class=\"data row2 col23\" >666</td>\n",
       "      <td id=\"T_387ad_row2_col24\" class=\"data row2 col24\" >507</td>\n",
       "      <td id=\"T_387ad_row2_col25\" class=\"data row2 col25\" >307</td>\n",
       "      <td id=\"T_387ad_row2_col26\" class=\"data row2 col26\" >159</td>\n",
       "      <td id=\"T_387ad_row2_col27\" class=\"data row2 col27\" >45</td>\n",
       "      <td id=\"T_387ad_row2_col28\" class=\"data row2 col28\" >0</td>\n",
       "    </tr>\n",
       "    <tr>\n",
       "      <th id=\"T_387ad_level0_row3\" class=\"row_heading level0 row3\" >3</th>\n",
       "      <td id=\"T_387ad_row3_col0\" class=\"data row3 col0\" >p003</td>\n",
       "      <td id=\"T_387ad_row3_col1\" class=\"data row3 col1\" >3</td>\n",
       "      <td id=\"T_387ad_row3_col2\" class=\"data row3 col2\" >2021-12-24 00:00:00</td>\n",
       "      <td id=\"T_387ad_row3_col3\" class=\"data row3 col3\" >27/11-03/12</td>\n",
       "      <td id=\"T_387ad_row3_col4\" class=\"data row3 col4\" >36.900000</td>\n",
       "      <td id=\"T_387ad_row3_col5\" class=\"data row3 col5\" >143573.000000</td>\n",
       "      <td id=\"T_387ad_row3_col6\" class=\"data row3 col6\" >Positief getest</td>\n",
       "      <td id=\"T_387ad_row3_col7\" class=\"data row3 col7\" >19561.000000</td>\n",
       "      <td id=\"T_387ad_row3_col8\" class=\"data row3 col8\" >22272.000000</td>\n",
       "      <td id=\"T_387ad_row3_col9\" class=\"data row3 col9\" >16750.000000</td>\n",
       "      <td id=\"T_387ad_row3_col10\" class=\"data row3 col10\" >22692.000000</td>\n",
       "      <td id=\"T_387ad_row3_col11\" class=\"data row3 col11\" >21562.000000</td>\n",
       "      <td id=\"T_387ad_row3_col12\" class=\"data row3 col12\" >15921.000000</td>\n",
       "      <td id=\"T_387ad_row3_col13\" class=\"data row3 col13\" >12190.000000</td>\n",
       "      <td id=\"T_387ad_row3_col14\" class=\"data row3 col14\" >7353.000000</td>\n",
       "      <td id=\"T_387ad_row3_col15\" class=\"data row3 col15\" >3998.000000</td>\n",
       "      <td id=\"T_387ad_row3_col16\" class=\"data row3 col16\" >1270.000000</td>\n",
       "      <td id=\"T_387ad_row3_col17\" class=\"data row3 col17\" >4.000000</td>\n",
       "      <td id=\"T_387ad_row3_col18\" class=\"data row3 col18\" >862</td>\n",
       "      <td id=\"T_387ad_row3_col19\" class=\"data row3 col19\" >981</td>\n",
       "      <td id=\"T_387ad_row3_col20\" class=\"data row3 col20\" >738</td>\n",
       "      <td id=\"T_387ad_row3_col21\" class=\"data row3 col21\" >1000</td>\n",
       "      <td id=\"T_387ad_row3_col22\" class=\"data row3 col22\" >950</td>\n",
       "      <td id=\"T_387ad_row3_col23\" class=\"data row3 col23\" >701</td>\n",
       "      <td id=\"T_387ad_row3_col24\" class=\"data row3 col24\" >537</td>\n",
       "      <td id=\"T_387ad_row3_col25\" class=\"data row3 col25\" >324</td>\n",
       "      <td id=\"T_387ad_row3_col26\" class=\"data row3 col26\" >176</td>\n",
       "      <td id=\"T_387ad_row3_col27\" class=\"data row3 col27\" >55</td>\n",
       "      <td id=\"T_387ad_row3_col28\" class=\"data row3 col28\" >0</td>\n",
       "    </tr>\n",
       "    <tr>\n",
       "      <th id=\"T_387ad_level0_row4\" class=\"row_heading level0 row4\" >4</th>\n",
       "      <td id=\"T_387ad_row4_col0\" class=\"data row4 col0\" >p004</td>\n",
       "      <td id=\"T_387ad_row4_col1\" class=\"data row4 col1\" >4</td>\n",
       "      <td id=\"T_387ad_row4_col2\" class=\"data row4 col2\" >2021-12-24 00:00:00</td>\n",
       "      <td id=\"T_387ad_row4_col3\" class=\"data row4 col3\" >20/11-26/11</td>\n",
       "      <td id=\"T_387ad_row4_col4\" class=\"data row4 col4\" >37.000000</td>\n",
       "      <td id=\"T_387ad_row4_col5\" class=\"data row4 col5\" >152078.000000</td>\n",
       "      <td id=\"T_387ad_row4_col6\" class=\"data row4 col6\" >Positief getest</td>\n",
       "      <td id=\"T_387ad_row4_col7\" class=\"data row4 col7\" >20105.000000</td>\n",
       "      <td id=\"T_387ad_row4_col8\" class=\"data row4 col8\" >24649.000000</td>\n",
       "      <td id=\"T_387ad_row4_col9\" class=\"data row4 col9\" >17950.000000</td>\n",
       "      <td id=\"T_387ad_row4_col10\" class=\"data row4 col10\" >22741.000000</td>\n",
       "      <td id=\"T_387ad_row4_col11\" class=\"data row4 col11\" >22594.000000</td>\n",
       "      <td id=\"T_387ad_row4_col12\" class=\"data row4 col12\" >17376.000000</td>\n",
       "      <td id=\"T_387ad_row4_col13\" class=\"data row4 col13\" >13182.000000</td>\n",
       "      <td id=\"T_387ad_row4_col14\" class=\"data row4 col14\" >7977.000000</td>\n",
       "      <td id=\"T_387ad_row4_col15\" class=\"data row4 col15\" >4224.000000</td>\n",
       "      <td id=\"T_387ad_row4_col16\" class=\"data row4 col16\" >1276.000000</td>\n",
       "      <td id=\"T_387ad_row4_col17\" class=\"data row4 col17\" >4.000000</td>\n",
       "      <td id=\"T_387ad_row4_col18\" class=\"data row4 col18\" >815</td>\n",
       "      <td id=\"T_387ad_row4_col19\" class=\"data row4 col19\" >1000</td>\n",
       "      <td id=\"T_387ad_row4_col20\" class=\"data row4 col20\" >728</td>\n",
       "      <td id=\"T_387ad_row4_col21\" class=\"data row4 col21\" >922</td>\n",
       "      <td id=\"T_387ad_row4_col22\" class=\"data row4 col22\" >916</td>\n",
       "      <td id=\"T_387ad_row4_col23\" class=\"data row4 col23\" >704</td>\n",
       "      <td id=\"T_387ad_row4_col24\" class=\"data row4 col24\" >534</td>\n",
       "      <td id=\"T_387ad_row4_col25\" class=\"data row4 col25\" >323</td>\n",
       "      <td id=\"T_387ad_row4_col26\" class=\"data row4 col26\" >171</td>\n",
       "      <td id=\"T_387ad_row4_col27\" class=\"data row4 col27\" >51</td>\n",
       "      <td id=\"T_387ad_row4_col28\" class=\"data row4 col28\" >0</td>\n",
       "    </tr>\n",
       "  </tbody>\n",
       "</table>\n"
      ],
      "text/plain": [
       "<pandas.io.formats.style.Styler at 0x7f9193736550>"
      ]
     },
     "metadata": {},
     "output_type": "display_data"
    }
   ],
   "source": [
    "# Bereken de stand van zaken van besmettingen / hospitalisaties / overlijden, per cohort in absolute aantallen en aantallen per 100k, met een kleur indicator voor de aantallen.\n",
    "# vervang <50 en Unknown door Onbekend\n",
    "@run\n",
    "def cell():\n",
    "  rivm['Cohort'] = rivm['Agegroup'].replace({'<50': 'Onbekend', 'Unknown': 'Onbekend'})\n",
    "  # aangenomen 'gemiddelde' leeftijd van een cohort: minimum waarde + 5\n",
    "  assumed_cohort_age = [(cohort, [int(n) for n in cohort.replace('+', '').split('-')]) for cohort in rivm['Cohort'].unique() if cohort[0].isdigit()]\n",
    "  assumed_cohort_age = { cohort: min(rng) + 5 for cohort, rng in assumed_cohort_age }\n",
    "  rivm['Gemiddelde leeftijd'] = rivm['Cohort'].apply(lambda x: assumed_cohort_age.get(x, np.nan))\n",
    "\n",
    "  # verwijder tijd\n",
    "  rivm['Date_file_date'] = pd.to_datetime(rivm['Date_file'].replace(r' .*', '', regex=True))\n",
    "\n",
    "  rivm['Date_statistics_date'] = pd.to_datetime(rivm['Date_statistics'])\n",
    "\n",
    "  # weken terug = verschil tussen Date_file en Date_statistcs, gedeeld door 7 dagen\n",
    "  rivm['Weken terug'] = np.floor((rivm['Date_file_date'] - rivm['Date_statistics_date'])/np.timedelta64(7, 'D')).astype(int)\n",
    "\n",
    "  # voeg key, gem leeftijd, kleurnummer en totaal toe\n",
    "  Date_file = rivm['Date_file_date'].unique()[0].astype('M8[D]').astype('O')\n",
    "  # check type bevolking\n",
    "  if type(bevolking) == dict:\n",
    "    cohorten = list(bevolking.keys())\n",
    "  else:\n",
    "    cohorten = list(bevolking.index)\n",
    "  cohorten += ['Onbekend']\n",
    "\n",
    "  def summarize(df, category, prefix):\n",
    "    # aangezien we hier de dataframe in-place wijzigen (bijv door toevoegen kolommen)\n",
    "    # en we het 'rivm' frame later nog clean nodig hebben\n",
    "    df = df.copy(deep=True)\n",
    "\n",
    "    df = (df\n",
    "          .groupby(['Weken terug', 'Cohort'])['count']\n",
    "          .sum()\n",
    "          .unstack(fill_value=np.nan)\n",
    "          .reset_index()\n",
    "          .rename_axis(None, axis=1)\n",
    "        ).merge(df\n",
    "          # we voegen hier gemiddelde leeftijd toe, want die willen we op een ander\n",
    "          # niveau aggregeren voor 'df' overschreven word\n",
    "          .groupby(['Weken terug'])['Gemiddelde leeftijd']\n",
    "          .mean()\n",
    "          .to_frame(), on='Weken terug'\n",
    "        )\n",
    "\n",
    "    # altijd 52 rijen\n",
    "    df = pd.Series(np.arange(52), name='Weken terug').to_frame().merge(df, how='left', on='Weken terug')\n",
    "\n",
    "    # toevoegen missende cohorten\n",
    "    for col in cohorten:\n",
    "      if not col in df:\n",
    "        df[col] = np.nan\n",
    "\n",
    "    # sommeer per rij (axis=1) over de cohorten om een totaal te krijgen\n",
    "    df['Totaal'] = df[cohorten].sum(axis=1)\n",
    "\n",
    "    # voeg periode en datum toe\n",
    "    # periode afgeleid van weken-terug (= de index voor deze dataframe)\n",
    "    df['Datum'] = pd.to_datetime(Date_file)\n",
    "    df['Periode'] = (df\n",
    "      .index.to_series()\n",
    "      .apply(\n",
    "        lambda x: (\n",
    "          (Date_file + datetime.timedelta(weeks=-(x+1), days=1)).strftime('%d/%m')\n",
    "          + '-'\n",
    "          + (Date_file + datetime.timedelta(weeks=-x)).strftime('%d/%m')\n",
    "        )\n",
    "      )\n",
    "    )\n",
    "\n",
    "    # voeg 'Key' en 'Type' kolom toe. Variabele 'type' kan niet, is een language primitive.\n",
    "    df['Key'] = prefix + df.index.astype(str).str.rjust(3, fillchar='0')\n",
    "    df['Type'] = category\n",
    "\n",
    "    # voeg de kleur kolommen toe\n",
    "    for col in cohorten:\n",
    "      df['c' + col] = ((df[col] / df[[col for col in cohorten]].max(axis=1)) * 1000).fillna(0).astype(int)\n",
    "\n",
    "    # herschikken van de kolommen\n",
    "    colorder = ['Key', 'Weken terug', 'Datum', 'Periode', 'Gemiddelde leeftijd', 'Totaal', 'Type']\n",
    "    return df[colorder + [col for col in df if col not in colorder]]\n",
    "\n",
    "  if type(bevolking) == dict:\n",
    "    factor = {}\n",
    "    for c in bevolking: factor[c] = 100_000 / bevolking[c]\n",
    "  else:\n",
    "    factor = bevolking.to_dict()['per 100k']\n",
    "\n",
    "  global tabel\n",
    "  tabel = pd.concat(\n",
    "    # flatten the result list zodat pd.concat ze onder elkaar kan plakken\n",
    "    functools.reduce(lambda a, b: a + b, [\n",
    "      [summarize(df.assign(count=1), label, prefix), summarize(df.assign(count=df['Cohort'].apply(lambda x: factor.get(x, np.nan))), label + ' per 100.000', prefix + '100k')]\n",
    "      for df, label, prefix in [\n",
    "        (rivm, 'Positief getest', 'p'), # volledige count per cohort\n",
    "        (rivm[rivm.Hospital_admission == 'Yes'], 'Ziekenhuisopname', 'h'), # count van cohort voor Hospital_admission == 'Yes'\n",
    "        (rivm[rivm.Deceased == 'Yes'], 'Overleden', 'd'), # count van cohort voor Deceased == 'Yes'\n",
    "      ]\n",
    "    ])\n",
    "  )\n",
    "\n",
    "  if type(bevolking) == dict:\n",
    "    totale_bevolking = sum(bevolking.values())\n",
    "    print(totale_bevolking)\n",
    "  else:\n",
    "    totale_bevolking_per_cohort = bevolking.to_dict()['BevolkingOpDeEersteVanDeMaand']\n",
    "    totale_bevolking = sum( totale_bevolking_per_cohort.values())\n",
    "\n",
    "  keys = [ key for key in tabel[\"Key\"]]\n",
    "  totals = [ x for x in tabel[\"Totaal\"]]\n",
    "  for k in range(0, len(keys)):\n",
    "    key = keys[k]\n",
    "    if '100k' in key:\n",
    "      abskey = key[0] + key[5:]\n",
    "      kk = keys.index(abskey)\n",
    "      if isinstance(totals[k], float):\n",
    "        correctedtotal = totals[kk] * (100_000 / totale_bevolking)\n",
    "        # print([k, totals[k], totals[kk], correctedtotal])\n",
    "        totals[k] = correctedtotal\n",
    "\n",
    "  tabel[\"Totaal\"] = totals\n",
    "\n",
    "\n",
    "  # rood -> groen\n",
    "  cdict = {\n",
    "    'red':   ((0.0, 0.0, 0.0),   # no red at 0\n",
    "              (0.5, 1.0, 1.0),   # all channels set to 1.0 at 0.5 to create white\n",
    "              (1.0, 0.8, 0.8)),  # set to 0.8 so its not too bright at 1\n",
    "    'green': ((0.0, 0.8, 0.8),   # set to 0.8 so its not too bright at 0\n",
    "              (0.5, 1.0, 1.0),   # all channels set to 1.0 at 0.5 to create white\n",
    "              (1.0, 0.0, 0.0)),  # no green at 1\n",
    "    'blue':  ((0.0, 0.0, 0.0),   # no blue at 0\n",
    "              (0.5, 1.0, 1.0),   # all channels set to 1.0 at 0.5 to create white\n",
    "              (1.0, 0.0, 0.0))   # no blue at 1\n",
    "  }\n",
    "  cm = colors.LinearSegmentedColormap('GnRd', cdict)\n",
    "  # geel -> paars\n",
    "  cm = sns.color_palette('viridis_r', as_cmap=True)\n",
    "  display(tabel\n",
    "    .fillna(0)\n",
    "    .head()\n",
    "    .round(1)\n",
    "    .reset_index(drop=True)\n",
    "    .style.background_gradient(cmap=cm, axis=1, subset=cohorten)\n",
    "  )"
   ]
  },
  {
   "cell_type": "code",
   "execution_count": 5,
   "id": "106a5f69",
   "metadata": {
    "execution": {
     "iopub.execute_input": "2021-12-24T14:37:44.772446Z",
     "iopub.status.busy": "2021-12-24T14:37:44.771739Z",
     "iopub.status.idle": "2021-12-24T14:38:17.965783Z",
     "shell.execute_reply": "2021-12-24T14:38:17.966366Z"
    },
    "papermill": {
     "duration": 33.210177,
     "end_time": "2021-12-24T14:38:17.966541",
     "exception": false,
     "start_time": "2021-12-24T14:37:44.756364",
     "status": "completed"
    },
    "tags": [],
    "title": "publish"
   },
   "outputs": [
    {
     "name": "stdout",
     "output_type": "stream",
     "text": [
      "infinities:\n"
     ]
    },
    {
     "name": "stdout",
     "output_type": "stream",
     "text": [
      "Empty DataFrame\n",
      "Columns: []\n",
      "Index: []\n"
     ]
    },
    {
     "name": "stdout",
     "output_type": "stream",
     "text": [
      "nan:\n"
     ]
    },
    {
     "name": "stdout",
     "output_type": "stream",
     "text": [
      "Empty DataFrame\n",
      "Columns: []\n",
      "Index: []\n"
     ]
    },
    {
     "name": "stdout",
     "output_type": "stream",
     "text": [
      "Key                     object\n",
      "Weken terug              int64\n",
      "Datum                   object\n",
      "Periode                 object\n",
      "Gemiddelde leeftijd    float64\n",
      "Totaal                 float64\n",
      "Type                    object\n",
      "0-9                    float64\n",
      "10-19                  float64\n",
      "20-29                  float64\n",
      "30-39                  float64\n",
      "40-49                  float64\n",
      "50-59                  float64\n",
      "60-69                  float64\n",
      "70-79                  float64\n",
      "80-89                  float64\n",
      "90+                    float64\n",
      "Onbekend               float64\n",
      "c0-9                     int64\n",
      "c10-19                   int64\n",
      "c20-29                   int64\n",
      "c30-39                   int64\n",
      "c40-49                   int64\n",
      "c50-59                   int64\n",
      "c60-69                   int64\n",
      "c70-79                   int64\n",
      "c80-89                   int64\n",
      "c90+                     int64\n",
      "cOnbekend                int64\n",
      "dtype: object\n",
      "updating knack\n"
     ]
    },
    {
     "name": "stdout",
     "output_type": "stream",
     "text": [
      "updating: [{'Key': 1, 'Updating Leeftijdsgroep': 'true'}]\n"
     ]
    },
    {
     "name": "stdout",
     "output_type": "stream",
     "text": [
      "restored LaatsteUpdate from hash\n"
     ]
    },
    {
     "name": "stdout",
     "output_type": "stream",
     "text": [
      "Key                         int64\n",
      "Updating Leeftijdsgroep    object\n",
      "dtype: object\n"
     ]
    },
    {
     "name": "stderr",
     "output_type": "stream",
     "text": [
      "\r",
      "  0%|          | 0/1 [00:00<?, ?it/s]"
     ]
    },
    {
     "name": "stderr",
     "output_type": "stream",
     "text": [
      "\r",
      "100%|██████████| 1/1 [00:01<00:00,  1.09s/it]"
     ]
    },
    {
     "name": "stderr",
     "output_type": "stream",
     "text": [
      "\r",
      "100%|██████████| 1/1 [00:01<00:00,  1.09s/it]"
     ]
    },
    {
     "name": "stdout",
     "output_type": "stream",
     "text": [
      "\n",
      "rate limit: 7 \n",
      "LaatsteUpdate API calls: create: 0, read: 1, update: 1, delete: 0, backoff: 0\n"
     ]
    },
    {
     "name": "stderr",
     "output_type": "stream",
     "text": [
      "\n"
     ]
    },
    {
     "name": "stdout",
     "output_type": "stream",
     "text": [
      "restored Leeftijdsgroep from hash\n"
     ]
    },
    {
     "name": "stdout",
     "output_type": "stream",
     "text": [
      "0-9                    float64\n",
      "10-19                  float64\n",
      "20-29                  float64\n",
      "30-39                  float64\n",
      "40-49                  float64\n",
      "50-59                  float64\n",
      "60-69                  float64\n",
      "70-79                  float64\n",
      "80-89                  float64\n",
      "90+                    float64\n",
      "Datum                   object\n",
      "Gemiddelde leeftijd    float64\n",
      "Key                     object\n",
      "Onbekend               float64\n",
      "Periode                 object\n",
      "Totaal                 float64\n",
      "Type                    object\n",
      "Weken terug              int64\n",
      "c0-9                     int64\n",
      "c10-19                   int64\n",
      "c20-29                   int64\n",
      "c30-39                   int64\n",
      "c40-49                   int64\n",
      "c50-59                   int64\n",
      "c60-69                   int64\n",
      "c70-79                   int64\n",
      "c80-89                   int64\n",
      "c90+                     int64\n",
      "cOnbekend                int64\n",
      "dtype: object\n"
     ]
    },
    {
     "name": "stderr",
     "output_type": "stream",
     "text": [
      "\r",
      "  0%|          | 0/145 [00:00<?, ?it/s]"
     ]
    },
    {
     "name": "stderr",
     "output_type": "stream",
     "text": [
      "\r",
      "  1%|          | 1/145 [00:00<02:17,  1.04it/s]"
     ]
    },
    {
     "name": "stderr",
     "output_type": "stream",
     "text": [
      "\r",
      "  2%|▏         | 3/145 [00:01<00:41,  3.41it/s]"
     ]
    },
    {
     "name": "stderr",
     "output_type": "stream",
     "text": [
      "\r",
      "  3%|▎         | 5/145 [00:01<00:29,  4.69it/s]"
     ]
    },
    {
     "name": "stderr",
     "output_type": "stream",
     "text": [
      "\r",
      "  5%|▍         | 7/145 [00:01<00:22,  6.08it/s]"
     ]
    },
    {
     "name": "stderr",
     "output_type": "stream",
     "text": [
      "\r",
      "  6%|▌         | 8/145 [00:01<00:23,  5.90it/s]"
     ]
    },
    {
     "name": "stderr",
     "output_type": "stream",
     "text": [
      "\r",
      "  6%|▌         | 9/145 [00:01<00:22,  5.96it/s]"
     ]
    },
    {
     "name": "stderr",
     "output_type": "stream",
     "text": [
      "\r",
      "  8%|▊         | 11/145 [00:02<00:17,  7.83it/s]"
     ]
    },
    {
     "name": "stderr",
     "output_type": "stream",
     "text": [
      "\r",
      "  8%|▊         | 12/145 [00:02<00:21,  6.20it/s]"
     ]
    },
    {
     "name": "stderr",
     "output_type": "stream",
     "text": [
      "\r",
      "  9%|▉         | 13/145 [00:02<00:25,  5.25it/s]"
     ]
    },
    {
     "name": "stderr",
     "output_type": "stream",
     "text": [
      "\r",
      " 10%|█         | 15/145 [00:02<00:17,  7.45it/s]"
     ]
    },
    {
     "name": "stderr",
     "output_type": "stream",
     "text": [
      "\r",
      " 12%|█▏        | 17/145 [00:02<00:14,  8.54it/s]"
     ]
    },
    {
     "name": "stderr",
     "output_type": "stream",
     "text": [
      "\r",
      " 13%|█▎        | 19/145 [00:03<00:12, 10.09it/s]"
     ]
    },
    {
     "name": "stderr",
     "output_type": "stream",
     "text": [
      "\r",
      " 14%|█▍        | 21/145 [00:03<00:10, 11.51it/s]"
     ]
    },
    {
     "name": "stderr",
     "output_type": "stream",
     "text": [
      "\r",
      " 16%|█▌        | 23/145 [00:03<00:15,  7.79it/s]"
     ]
    },
    {
     "name": "stderr",
     "output_type": "stream",
     "text": [
      "\r",
      " 17%|█▋        | 25/145 [00:03<00:16,  7.40it/s]"
     ]
    },
    {
     "name": "stderr",
     "output_type": "stream",
     "text": [
      "\r",
      " 18%|█▊        | 26/145 [00:04<00:16,  7.36it/s]"
     ]
    },
    {
     "name": "stderr",
     "output_type": "stream",
     "text": [
      "\r",
      " 19%|█▊        | 27/145 [00:04<00:16,  7.26it/s]"
     ]
    },
    {
     "name": "stderr",
     "output_type": "stream",
     "text": [
      "\r",
      " 19%|█▉        | 28/145 [00:04<00:18,  6.43it/s]"
     ]
    },
    {
     "name": "stderr",
     "output_type": "stream",
     "text": [
      "\r",
      " 20%|██        | 29/145 [00:04<00:23,  4.92it/s]"
     ]
    },
    {
     "name": "stderr",
     "output_type": "stream",
     "text": [
      "\r",
      " 21%|██        | 30/145 [00:05<00:30,  3.76it/s]"
     ]
    },
    {
     "name": "stderr",
     "output_type": "stream",
     "text": [
      "\r",
      " 21%|██▏       | 31/145 [00:05<00:29,  3.87it/s]"
     ]
    },
    {
     "name": "stderr",
     "output_type": "stream",
     "text": [
      "\r",
      " 23%|██▎       | 33/145 [00:05<00:20,  5.48it/s]"
     ]
    },
    {
     "name": "stderr",
     "output_type": "stream",
     "text": [
      "\r",
      " 23%|██▎       | 34/145 [00:05<00:25,  4.41it/s]"
     ]
    },
    {
     "name": "stderr",
     "output_type": "stream",
     "text": [
      "\r",
      " 25%|██▍       | 36/145 [00:06<00:21,  5.15it/s]"
     ]
    },
    {
     "name": "stderr",
     "output_type": "stream",
     "text": [
      "\r",
      " 26%|██▌       | 37/145 [00:06<00:20,  5.33it/s]"
     ]
    },
    {
     "name": "stderr",
     "output_type": "stream",
     "text": [
      "\r",
      " 26%|██▌       | 38/145 [00:06<00:21,  4.99it/s]"
     ]
    },
    {
     "name": "stderr",
     "output_type": "stream",
     "text": [
      "\r",
      " 27%|██▋       | 39/145 [00:06<00:24,  4.33it/s]"
     ]
    },
    {
     "name": "stderr",
     "output_type": "stream",
     "text": [
      "\r",
      " 28%|██▊       | 40/145 [00:07<00:21,  4.88it/s]"
     ]
    },
    {
     "name": "stderr",
     "output_type": "stream",
     "text": [
      "\r",
      " 29%|██▉       | 42/145 [00:07<00:17,  5.94it/s]"
     ]
    },
    {
     "name": "stderr",
     "output_type": "stream",
     "text": [
      "\r",
      " 30%|███       | 44/145 [00:07<00:12,  8.09it/s]"
     ]
    },
    {
     "name": "stderr",
     "output_type": "stream",
     "text": [
      "\r",
      " 32%|███▏      | 46/145 [00:07<00:13,  7.13it/s]"
     ]
    },
    {
     "name": "stderr",
     "output_type": "stream",
     "text": [
      "\r",
      " 33%|███▎      | 48/145 [00:08<00:13,  7.04it/s]"
     ]
    },
    {
     "name": "stderr",
     "output_type": "stream",
     "text": [
      "\r",
      " 34%|███▍      | 49/145 [00:08<00:12,  7.41it/s]"
     ]
    },
    {
     "name": "stderr",
     "output_type": "stream",
     "text": [
      "\r",
      " 34%|███▍      | 50/145 [00:08<00:15,  6.10it/s]"
     ]
    },
    {
     "name": "stderr",
     "output_type": "stream",
     "text": [
      "\r",
      " 35%|███▌      | 51/145 [00:08<00:15,  6.15it/s]"
     ]
    },
    {
     "name": "stderr",
     "output_type": "stream",
     "text": [
      "\r",
      " 37%|███▋      | 53/145 [00:08<00:11,  8.12it/s]"
     ]
    },
    {
     "name": "stderr",
     "output_type": "stream",
     "text": [
      "\r",
      " 39%|███▊      | 56/145 [00:08<00:09,  9.56it/s]"
     ]
    },
    {
     "name": "stderr",
     "output_type": "stream",
     "text": [
      "\r",
      " 40%|████      | 58/145 [00:09<00:08, 10.00it/s]"
     ]
    },
    {
     "name": "stderr",
     "output_type": "stream",
     "text": [
      "\r",
      " 41%|████▏     | 60/145 [00:09<00:07, 11.03it/s]"
     ]
    },
    {
     "name": "stderr",
     "output_type": "stream",
     "text": [
      "\r",
      " 43%|████▎     | 62/145 [00:09<00:12,  6.80it/s]"
     ]
    },
    {
     "name": "stderr",
     "output_type": "stream",
     "text": [
      "\r",
      " 45%|████▍     | 65/145 [00:10<00:08,  9.02it/s]"
     ]
    },
    {
     "name": "stderr",
     "output_type": "stream",
     "text": [
      "\r",
      " 46%|████▌     | 67/145 [00:10<00:10,  7.21it/s]"
     ]
    },
    {
     "name": "stderr",
     "output_type": "stream",
     "text": [
      "\r",
      " 48%|████▊     | 70/145 [00:10<00:08,  8.68it/s]"
     ]
    },
    {
     "name": "stderr",
     "output_type": "stream",
     "text": [
      "\r",
      " 50%|████▉     | 72/145 [00:11<00:09,  7.51it/s]"
     ]
    },
    {
     "name": "stderr",
     "output_type": "stream",
     "text": [
      "\r",
      " 51%|█████     | 74/145 [00:11<00:08,  8.40it/s]"
     ]
    },
    {
     "name": "stderr",
     "output_type": "stream",
     "text": [
      "\r",
      " 52%|█████▏    | 76/145 [00:11<00:09,  7.63it/s]"
     ]
    },
    {
     "name": "stderr",
     "output_type": "stream",
     "text": [
      "\r",
      " 54%|█████▍    | 78/145 [00:11<00:08,  7.52it/s]"
     ]
    },
    {
     "name": "stderr",
     "output_type": "stream",
     "text": [
      "\r",
      " 54%|█████▍    | 79/145 [00:11<00:09,  7.04it/s]"
     ]
    },
    {
     "name": "stderr",
     "output_type": "stream",
     "text": [
      "\r",
      " 55%|█████▌    | 80/145 [00:12<00:10,  6.40it/s]"
     ]
    },
    {
     "name": "stderr",
     "output_type": "stream",
     "text": [
      "\r",
      " 57%|█████▋    | 82/145 [00:12<00:09,  6.57it/s]"
     ]
    },
    {
     "name": "stderr",
     "output_type": "stream",
     "text": [
      "\r",
      " 57%|█████▋    | 83/145 [00:12<00:10,  5.89it/s]"
     ]
    },
    {
     "name": "stderr",
     "output_type": "stream",
     "text": [
      "\r",
      " 59%|█████▊    | 85/145 [00:13<00:10,  5.75it/s]"
     ]
    },
    {
     "name": "stderr",
     "output_type": "stream",
     "text": [
      "\r",
      " 59%|█████▉    | 86/145 [00:13<00:11,  5.25it/s]"
     ]
    },
    {
     "name": "stderr",
     "output_type": "stream",
     "text": [
      "\r",
      " 60%|██████    | 87/145 [00:13<00:10,  5.49it/s]"
     ]
    },
    {
     "name": "stderr",
     "output_type": "stream",
     "text": [
      "\r",
      " 61%|██████    | 88/145 [00:13<00:09,  6.14it/s]"
     ]
    },
    {
     "name": "stderr",
     "output_type": "stream",
     "text": [
      "\r",
      " 62%|██████▏   | 90/145 [00:13<00:09,  5.79it/s]"
     ]
    },
    {
     "name": "stderr",
     "output_type": "stream",
     "text": [
      "\r",
      " 64%|██████▍   | 93/145 [00:14<00:06,  8.42it/s]"
     ]
    },
    {
     "name": "stderr",
     "output_type": "stream",
     "text": [
      "\r",
      " 66%|██████▌   | 95/145 [00:14<00:06,  7.48it/s]"
     ]
    },
    {
     "name": "stderr",
     "output_type": "stream",
     "text": [
      "\r",
      " 67%|██████▋   | 97/145 [00:14<00:05,  8.94it/s]"
     ]
    },
    {
     "name": "stderr",
     "output_type": "stream",
     "text": [
      "\r",
      " 68%|██████▊   | 99/145 [00:14<00:04,  9.82it/s]"
     ]
    },
    {
     "name": "stderr",
     "output_type": "stream",
     "text": [
      "\r",
      " 70%|██████▉   | 101/145 [00:15<00:06,  7.09it/s]"
     ]
    },
    {
     "name": "stderr",
     "output_type": "stream",
     "text": [
      "\r",
      " 70%|███████   | 102/145 [00:15<00:05,  7.25it/s]"
     ]
    },
    {
     "name": "stderr",
     "output_type": "stream",
     "text": [
      "\r",
      " 71%|███████   | 103/145 [00:15<00:06,  6.32it/s]"
     ]
    },
    {
     "name": "stderr",
     "output_type": "stream",
     "text": [
      "\r",
      " 72%|███████▏  | 104/145 [00:15<00:06,  6.30it/s]"
     ]
    },
    {
     "name": "stderr",
     "output_type": "stream",
     "text": [
      "\r",
      " 73%|███████▎  | 106/145 [00:15<00:05,  7.08it/s]"
     ]
    },
    {
     "name": "stderr",
     "output_type": "stream",
     "text": [
      "\r",
      " 74%|███████▍  | 107/145 [00:16<00:05,  7.28it/s]"
     ]
    },
    {
     "name": "stderr",
     "output_type": "stream",
     "text": [
      "\r",
      " 74%|███████▍  | 108/145 [00:16<00:06,  5.72it/s]"
     ]
    },
    {
     "name": "stderr",
     "output_type": "stream",
     "text": [
      "\r",
      " 76%|███████▌  | 110/145 [00:16<00:05,  6.91it/s]"
     ]
    },
    {
     "name": "stderr",
     "output_type": "stream",
     "text": [
      "\r",
      " 77%|███████▋  | 111/145 [00:17<00:07,  4.74it/s]"
     ]
    },
    {
     "name": "stderr",
     "output_type": "stream",
     "text": [
      "\r",
      " 77%|███████▋  | 112/145 [00:17<00:06,  5.34it/s]"
     ]
    },
    {
     "name": "stderr",
     "output_type": "stream",
     "text": [
      "\r",
      " 78%|███████▊  | 113/145 [00:17<00:05,  5.52it/s]"
     ]
    },
    {
     "name": "stderr",
     "output_type": "stream",
     "text": [
      "\r",
      " 79%|███████▊  | 114/145 [00:17<00:06,  5.09it/s]"
     ]
    },
    {
     "name": "stderr",
     "output_type": "stream",
     "text": [
      "\r",
      " 81%|████████▏ | 118/145 [00:17<00:03,  7.67it/s]"
     ]
    },
    {
     "name": "stderr",
     "output_type": "stream",
     "text": [
      "\r",
      " 83%|████████▎ | 120/145 [00:18<00:03,  7.35it/s]"
     ]
    },
    {
     "name": "stderr",
     "output_type": "stream",
     "text": [
      "\r",
      " 85%|████████▍ | 123/145 [00:18<00:02,  9.43it/s]"
     ]
    },
    {
     "name": "stderr",
     "output_type": "stream",
     "text": [
      "\r",
      " 86%|████████▌ | 125/145 [00:18<00:01, 10.42it/s]"
     ]
    },
    {
     "name": "stderr",
     "output_type": "stream",
     "text": [
      "\r",
      " 88%|████████▊ | 127/145 [00:18<00:02,  7.82it/s]"
     ]
    },
    {
     "name": "stderr",
     "output_type": "stream",
     "text": [
      "\r",
      " 88%|████████▊ | 128/145 [00:19<00:02,  8.11it/s]"
     ]
    },
    {
     "name": "stderr",
     "output_type": "stream",
     "text": [
      "\r",
      " 89%|████████▉ | 129/145 [00:19<00:02,  6.30it/s]"
     ]
    },
    {
     "name": "stderr",
     "output_type": "stream",
     "text": [
      "\r",
      " 90%|█████████ | 131/145 [00:19<00:02,  5.57it/s]"
     ]
    },
    {
     "name": "stderr",
     "output_type": "stream",
     "text": [
      "\r",
      " 92%|█████████▏| 133/145 [00:20<00:01,  6.26it/s]"
     ]
    },
    {
     "name": "stderr",
     "output_type": "stream",
     "text": [
      "\r",
      " 92%|█████████▏| 134/145 [00:20<00:02,  5.27it/s]"
     ]
    },
    {
     "name": "stderr",
     "output_type": "stream",
     "text": [
      "\r",
      " 94%|█████████▍| 136/145 [00:20<00:01,  5.30it/s]"
     ]
    },
    {
     "name": "stderr",
     "output_type": "stream",
     "text": [
      "\r",
      " 96%|█████████▌| 139/145 [00:20<00:00,  7.30it/s]"
     ]
    },
    {
     "name": "stderr",
     "output_type": "stream",
     "text": [
      "\r",
      " 98%|█████████▊| 142/145 [00:21<00:00,  7.30it/s]"
     ]
    },
    {
     "name": "stderr",
     "output_type": "stream",
     "text": [
      "\r",
      " 99%|█████████▊| 143/145 [00:21<00:00,  7.34it/s]"
     ]
    },
    {
     "name": "stderr",
     "output_type": "stream",
     "text": [
      "\r",
      " 99%|█████████▉| 144/145 [00:22<00:00,  3.04it/s]"
     ]
    },
    {
     "name": "stderr",
     "output_type": "stream",
     "text": [
      "\r",
      "100%|██████████| 145/145 [00:22<00:00,  3.06it/s]"
     ]
    },
    {
     "name": "stderr",
     "output_type": "stream",
     "text": [
      "\r",
      "100%|██████████| 145/145 [00:22<00:00,  6.31it/s]"
     ]
    },
    {
     "name": "stdout",
     "output_type": "stream",
     "text": [
      "\n",
      "rate limit: 7 \n",
      "Leeftijdsgroep API calls: create: 0, read: 1, update: 145, delete: 0, backoff: 3\n"
     ]
    },
    {
     "name": "stdout",
     "output_type": "stream",
     "text": [
      "[{'Key': 1, 'Timestamp Leeftijdsgroep RIVM': '2021-12-24 15:15'}]\n"
     ]
    },
    {
     "name": "stderr",
     "output_type": "stream",
     "text": [
      "\n"
     ]
    },
    {
     "name": "stdout",
     "output_type": "stream",
     "text": [
      "timestamps: [{'Key': 1, 'Timestamp Leeftijdsgroep RIVM': '2021-12-24 15:15'}]\n",
      "Key                               int64\n",
      "Timestamp Leeftijdsgroep RIVM    object\n",
      "dtype: object\n"
     ]
    },
    {
     "name": "stderr",
     "output_type": "stream",
     "text": [
      "\r",
      "  0%|          | 0/1 [00:00<?, ?it/s]"
     ]
    },
    {
     "name": "stderr",
     "output_type": "stream",
     "text": [
      "\r",
      "100%|██████████| 1/1 [00:00<00:00,  1.00it/s]"
     ]
    },
    {
     "name": "stderr",
     "output_type": "stream",
     "text": [
      "\r",
      "100%|██████████| 1/1 [00:00<00:00,  1.00it/s]"
     ]
    },
    {
     "name": "stdout",
     "output_type": "stream",
     "text": [
      "\n",
      "rate limit: 7 \n",
      "LaatsteUpdate API calls: create: 0, read: 0, update: 1, delete: 0, backoff: 0\n"
     ]
    },
    {
     "name": "stderr",
     "output_type": "stream",
     "text": [
      "\n"
     ]
    },
    {
     "name": "stdout",
     "output_type": "stream",
     "text": [
      "BatchName     object\n",
      "ObjectName    object\n",
      "Source        object\n",
      "Timestamp     object\n",
      "dtype: object\n"
     ]
    },
    {
     "name": "stderr",
     "output_type": "stream",
     "text": [
      "\r",
      "  0%|          | 0/1 [00:00<?, ?it/s]"
     ]
    },
    {
     "name": "stderr",
     "output_type": "stream",
     "text": [
      "\r",
      "100%|██████████| 1/1 [00:01<00:00,  1.24s/it]"
     ]
    },
    {
     "name": "stderr",
     "output_type": "stream",
     "text": [
      "\r",
      "100%|██████████| 1/1 [00:01<00:00,  1.24s/it]"
     ]
    },
    {
     "name": "stdout",
     "output_type": "stream",
     "text": [
      "\n",
      "rate limit: 7 \n",
      "UpdateDetails API calls: create: 1, read: 0, update: 0, delete: 0, backoff: 0\n"
     ]
    },
    {
     "name": "stderr",
     "output_type": "stream",
     "text": [
      "\n"
     ]
    },
    {
     "name": "stdout",
     "output_type": "stream",
     "text": [
      "updating: [{'Key': 1, 'Updating Leeftijdsgroep': 'false'}]\n",
      "Key                         int64\n",
      "Updating Leeftijdsgroep    object\n",
      "dtype: object\n"
     ]
    },
    {
     "name": "stderr",
     "output_type": "stream",
     "text": [
      "\r",
      "  0%|          | 0/1 [00:00<?, ?it/s]"
     ]
    },
    {
     "name": "stderr",
     "output_type": "stream",
     "text": [
      "\r",
      "100%|██████████| 1/1 [00:00<00:00,  1.23it/s]"
     ]
    },
    {
     "name": "stderr",
     "output_type": "stream",
     "text": [
      "\r",
      "100%|██████████| 1/1 [00:00<00:00,  1.22it/s]"
     ]
    },
    {
     "name": "stdout",
     "output_type": "stream",
     "text": [
      "\n",
      "rate limit: 7 \n",
      "LaatsteUpdate API calls: create: 0, read: 0, update: 1, delete: 0, backoff: 0\n"
     ]
    },
    {
     "name": "stderr",
     "output_type": "stream",
     "text": [
      "\n"
     ]
    }
   ],
   "source": [
    "if knack:\n",
    "  await knack.publish(tabel.fillna(0).assign(Datum=tabel.Datum.dt.strftime('%Y-%m-%d')), 'Leeftijdsgroep', Cache)"
   ]
  }
 ],
 "metadata": {
  "jupytext": {
   "cell_metadata_filter": "title,-all"
  },
  "kernelspec": {
   "display_name": "Python 3 (ipykernel)",
   "language": "python",
   "name": "python3"
  },
  "language_info": {
   "codemirror_mode": {
    "name": "ipython",
    "version": 3
   },
   "file_extension": ".py",
   "mimetype": "text/x-python",
   "name": "python",
   "nbconvert_exporter": "python",
   "pygments_lexer": "ipython3",
   "version": "3.9.9"
  },
  "papermill": {
   "default_parameters": {},
   "duration": 407.249786,
   "end_time": "2021-12-24T14:38:18.529303",
   "environment_variables": {},
   "exception": null,
   "input_path": "-",
   "output_path": "LeeftijdsgroepenLandelijk.ipynb",
   "parameters": {},
   "start_time": "2021-12-24T14:31:31.279517",
   "version": "2.3.3"
  }
 },
 "nbformat": 4,
 "nbformat_minor": 5
}