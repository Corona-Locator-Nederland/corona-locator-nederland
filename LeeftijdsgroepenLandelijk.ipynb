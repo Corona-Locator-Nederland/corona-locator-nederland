{
 "cells": [
  {
   "cell_type": "markdown",
   "id": "f573ed63",
   "metadata": {
    "tags": [
     "papermill-error-cell-tag"
    ]
   },
   "source": [
    "<span style=\"color:red; font-family:Helvetica Neue, Helvetica, Arial, sans-serif; font-size:2em;\">An Exception was encountered at '<a href=\"#papermill-error-cell\">In [5]</a>'.</span>"
   ]
  },
  {
   "cell_type": "code",
   "execution_count": 1,
   "id": "7c83b966",
   "metadata": {
    "execution": {
     "iopub.execute_input": "2022-01-27T14:29:17.540242Z",
     "iopub.status.busy": "2022-01-27T14:29:17.539578Z",
     "iopub.status.idle": "2022-01-27T14:29:20.134612Z",
     "shell.execute_reply": "2022-01-27T14:29:20.133525Z"
    },
    "lines_to_next_cell": 1,
    "papermill": {
     "duration": 2.611275,
     "end_time": "2022-01-27T14:29:20.134788",
     "exception": false,
     "start_time": "2022-01-27T14:29:17.523513",
     "status": "completed"
    },
    "tags": []
   },
   "outputs": [
    {
     "name": "stderr",
     "output_type": "stream",
     "text": [
      "/tmp/ipykernel_1665/2820714271.py:2: DeprecationWarning: Importing display from IPython.core.display is deprecated since IPython 7.14, please import from IPython display\n",
      "  from IPython.core.display import display\n"
     ]
    }
   ],
   "source": [
    "from IPython import get_ipython\n",
    "from IPython.core.display import display\n",
    "get_ipython().run_line_magic('load_ext', 'autoreload')\n",
    "get_ipython().run_line_magic('autoreload', '2')\n",
    "get_ipython().run_line_magic('run', 'setup')"
   ]
  },
  {
   "cell_type": "code",
   "execution_count": 2,
   "id": "172275e1",
   "metadata": {
    "execution": {
     "iopub.execute_input": "2022-01-27T14:29:20.151088Z",
     "iopub.status.busy": "2022-01-27T14:29:20.150475Z",
     "iopub.status.idle": "2022-01-27T14:40:20.834149Z",
     "shell.execute_reply": "2022-01-27T14:40:20.834570Z"
    },
    "lines_to_next_cell": 1,
    "papermill": {
     "duration": 660.693877,
     "end_time": "2022-01-27T14:40:20.834733",
     "exception": false,
     "start_time": "2022-01-27T14:29:20.140856",
     "status": "completed"
    },
    "tags": [],
    "title": "Leeftijdsgroepen: download RIVM casus-data"
   },
   "outputs": [
    {
     "name": "stdout",
     "output_type": "stream",
     "text": [
      "downloading rivm/COVID-19_casus_landelijk-2022-01-27@14-15.csv\n"
     ]
    },
    {
     "name": "stdout",
     "output_type": "stream",
     "text": [
      "rivm COVID-19_casus_landelijk zipping rivm/COVID-19_casus_landelijk-2022-01-27@14-15.csv\n"
     ]
    },
    {
     "name": "stdout",
     "output_type": "stream",
     "text": [
      "loading rivm/COVID-19_casus_landelijk-2022-01-27@14-15.csv.gz\n"
     ]
    },
    {
     "data": {
      "text/html": [
       "<div>\n",
       "<style scoped>\n",
       "    .dataframe tbody tr th:only-of-type {\n",
       "        vertical-align: middle;\n",
       "    }\n",
       "\n",
       "    .dataframe tbody tr th {\n",
       "        vertical-align: top;\n",
       "    }\n",
       "\n",
       "    .dataframe thead th {\n",
       "        text-align: right;\n",
       "    }\n",
       "</style>\n",
       "<table border=\"1\" class=\"dataframe\">\n",
       "  <thead>\n",
       "    <tr style=\"text-align: right;\">\n",
       "      <th></th>\n",
       "      <th>Version</th>\n",
       "      <th>Date_file</th>\n",
       "      <th>Date_statistics</th>\n",
       "      <th>Date_statistics_type</th>\n",
       "      <th>Agegroup</th>\n",
       "      <th>Sex</th>\n",
       "      <th>Province</th>\n",
       "      <th>Deceased</th>\n",
       "      <th>Week_of_death</th>\n",
       "      <th>Municipal_health_service</th>\n",
       "    </tr>\n",
       "  </thead>\n",
       "  <tbody>\n",
       "    <tr>\n",
       "      <th>0</th>\n",
       "      <td>2</td>\n",
       "      <td>2022-01-27 10:00:00</td>\n",
       "      <td>2020-01-01</td>\n",
       "      <td>DOO</td>\n",
       "      <td>40-49</td>\n",
       "      <td>Female</td>\n",
       "      <td>Noord-Holland</td>\n",
       "      <td>No</td>\n",
       "      <td>NaN</td>\n",
       "      <td>GGD Amsterdam</td>\n",
       "    </tr>\n",
       "    <tr>\n",
       "      <th>1</th>\n",
       "      <td>2</td>\n",
       "      <td>2022-01-27 10:00:00</td>\n",
       "      <td>2020-01-01</td>\n",
       "      <td>DOO</td>\n",
       "      <td>50-59</td>\n",
       "      <td>Male</td>\n",
       "      <td>Gelderland</td>\n",
       "      <td>No</td>\n",
       "      <td>NaN</td>\n",
       "      <td>Veiligheids- en Gezondheidsregio Gelderland-Mi...</td>\n",
       "    </tr>\n",
       "    <tr>\n",
       "      <th>2</th>\n",
       "      <td>2</td>\n",
       "      <td>2022-01-27 10:00:00</td>\n",
       "      <td>2020-01-01</td>\n",
       "      <td>DOO</td>\n",
       "      <td>20-29</td>\n",
       "      <td>Female</td>\n",
       "      <td>Zuid-Holland</td>\n",
       "      <td>No</td>\n",
       "      <td>NaN</td>\n",
       "      <td>GGD Hollands-Midden</td>\n",
       "    </tr>\n",
       "    <tr>\n",
       "      <th>3</th>\n",
       "      <td>2</td>\n",
       "      <td>2022-01-27 10:00:00</td>\n",
       "      <td>2020-01-01</td>\n",
       "      <td>DOO</td>\n",
       "      <td>60-69</td>\n",
       "      <td>Female</td>\n",
       "      <td>Noord-Holland</td>\n",
       "      <td>No</td>\n",
       "      <td>NaN</td>\n",
       "      <td>GGD Hollands-Noorden</td>\n",
       "    </tr>\n",
       "    <tr>\n",
       "      <th>4</th>\n",
       "      <td>2</td>\n",
       "      <td>2022-01-27 10:00:00</td>\n",
       "      <td>2020-01-04</td>\n",
       "      <td>DOO</td>\n",
       "      <td>10-19</td>\n",
       "      <td>Female</td>\n",
       "      <td>Gelderland</td>\n",
       "      <td>No</td>\n",
       "      <td>NaN</td>\n",
       "      <td>GGD Gelderland-Zuid</td>\n",
       "    </tr>\n",
       "  </tbody>\n",
       "</table>\n",
       "</div>"
      ],
      "text/plain": [
       "   Version            Date_file Date_statistics Date_statistics_type Agegroup  \\\n",
       "0        2  2022-01-27 10:00:00      2020-01-01                  DOO    40-49   \n",
       "1        2  2022-01-27 10:00:00      2020-01-01                  DOO    50-59   \n",
       "2        2  2022-01-27 10:00:00      2020-01-01                  DOO    20-29   \n",
       "3        2  2022-01-27 10:00:00      2020-01-01                  DOO    60-69   \n",
       "4        2  2022-01-27 10:00:00      2020-01-04                  DOO    10-19   \n",
       "\n",
       "      Sex       Province Deceased  Week_of_death  \\\n",
       "0  Female  Noord-Holland       No            NaN   \n",
       "1    Male     Gelderland       No            NaN   \n",
       "2  Female   Zuid-Holland       No            NaN   \n",
       "3  Female  Noord-Holland       No            NaN   \n",
       "4  Female     Gelderland       No            NaN   \n",
       "\n",
       "                            Municipal_health_service  \n",
       "0                                      GGD Amsterdam  \n",
       "1  Veiligheids- en Gezondheidsregio Gelderland-Mi...  \n",
       "2                                GGD Hollands-Midden  \n",
       "3                               GGD Hollands-Noorden  \n",
       "4                                GGD Gelderland-Zuid  "
      ]
     },
     "metadata": {},
     "output_type": "display_data"
    }
   ],
   "source": [
    "# Leeftijdsgroepen: download RIVM casus-data\n",
    "@run\n",
    "def cell():\n",
    "  global rivm\n",
    "  rivm = RIVM.csv('COVID-19_casus_landelijk')\n",
    "  display(rivm.head())"
   ]
  },
  {
   "cell_type": "code",
   "execution_count": 3,
   "id": "5372b4dd",
   "metadata": {
    "execution": {
     "iopub.execute_input": "2022-01-27T14:40:20.853432Z",
     "iopub.status.busy": "2022-01-27T14:40:20.852871Z",
     "iopub.status.idle": "2022-01-27T14:40:24.906090Z",
     "shell.execute_reply": "2022-01-27T14:40:24.906566Z"
    },
    "lines_to_next_cell": 1,
    "papermill": {
     "duration": 4.064856,
     "end_time": "2022-01-27T14:40:24.906726",
     "exception": false,
     "start_time": "2022-01-27T14:40:20.841870",
     "status": "completed"
    },
    "tags": [],
    "title": "Leeftijdsgroepen: download CBS bevolkingscijfers, uitgesplitst op de leeftijdscategorien zoals bij RIVM"
   },
   "outputs": [
    {
     "name": "stderr",
     "output_type": "stream",
     "text": [
      "/home/runner/work/corona-locator-nederland/corona-locator-nederland/setup.py:146: FutureWarning: The frame.append method is deprecated and will be removed from pandas in a future version. Use pandas.concat instead.\n",
      "  data = data.append(pd.DataFrame(r['value']))\n"
     ]
    },
    {
     "name": "stderr",
     "output_type": "stream",
     "text": [
      "/home/runner/work/corona-locator-nederland/corona-locator-nederland/setup.py:146: FutureWarning: The frame.append method is deprecated and will be removed from pandas in a future version. Use pandas.concat instead.\n",
      "  data = data.append(pd.DataFrame(r['value']))\n"
     ]
    },
    {
     "name": "stderr",
     "output_type": "stream",
     "text": [
      "/home/runner/work/corona-locator-nederland/corona-locator-nederland/setup.py:146: FutureWarning: The frame.append method is deprecated and will be removed from pandas in a future version. Use pandas.concat instead.\n",
      "  data = data.append(pd.DataFrame(r['value']))\n"
     ]
    },
    {
     "name": "stderr",
     "output_type": "stream",
     "text": [
      "/home/runner/work/corona-locator-nederland/corona-locator-nederland/setup.py:146: FutureWarning: The frame.append method is deprecated and will be removed from pandas in a future version. Use pandas.concat instead.\n",
      "  data = data.append(pd.DataFrame(r['value']))\n"
     ]
    },
    {
     "name": "stderr",
     "output_type": "stream",
     "text": [
      "/home/runner/work/corona-locator-nederland/corona-locator-nederland/setup.py:146: FutureWarning: The frame.append method is deprecated and will be removed from pandas in a future version. Use pandas.concat instead.\n",
      "  data = data.append(pd.DataFrame(r['value']))\n"
     ]
    },
    {
     "name": "stderr",
     "output_type": "stream",
     "text": [
      "/home/runner/work/corona-locator-nederland/corona-locator-nederland/setup.py:146: FutureWarning: The frame.append method is deprecated and will be removed from pandas in a future version. Use pandas.concat instead.\n",
      "  data = data.append(pd.DataFrame(r['value']))\n"
     ]
    },
    {
     "name": "stderr",
     "output_type": "stream",
     "text": [
      "/home/runner/work/corona-locator-nederland/corona-locator-nederland/setup.py:146: FutureWarning: The frame.append method is deprecated and will be removed from pandas in a future version. Use pandas.concat instead.\n",
      "  data = data.append(pd.DataFrame(r['value']))\n"
     ]
    },
    {
     "data": {
      "text/html": [
       "<div>\n",
       "<style scoped>\n",
       "    .dataframe tbody tr th:only-of-type {\n",
       "        vertical-align: middle;\n",
       "    }\n",
       "\n",
       "    .dataframe tbody tr th {\n",
       "        vertical-align: top;\n",
       "    }\n",
       "\n",
       "    .dataframe thead th {\n",
       "        text-align: right;\n",
       "    }\n",
       "</style>\n",
       "<table border=\"1\" class=\"dataframe\">\n",
       "  <thead>\n",
       "    <tr style=\"text-align: right;\">\n",
       "      <th></th>\n",
       "      <th>BevolkingOpDeEersteVanDeMaand</th>\n",
       "      <th>per 100k</th>\n",
       "    </tr>\n",
       "    <tr>\n",
       "      <th>Range</th>\n",
       "      <th></th>\n",
       "      <th></th>\n",
       "    </tr>\n",
       "  </thead>\n",
       "  <tbody>\n",
       "    <tr>\n",
       "      <th>0-9</th>\n",
       "      <td>1758742</td>\n",
       "      <td>0.056859</td>\n",
       "    </tr>\n",
       "    <tr>\n",
       "      <th>10-19</th>\n",
       "      <td>1980401</td>\n",
       "      <td>0.050495</td>\n",
       "    </tr>\n",
       "    <tr>\n",
       "      <th>20-29</th>\n",
       "      <td>2267060</td>\n",
       "      <td>0.044110</td>\n",
       "    </tr>\n",
       "    <tr>\n",
       "      <th>30-39</th>\n",
       "      <td>2218431</td>\n",
       "      <td>0.045077</td>\n",
       "    </tr>\n",
       "    <tr>\n",
       "      <th>40-49</th>\n",
       "      <td>2135367</td>\n",
       "      <td>0.046830</td>\n",
       "    </tr>\n",
       "  </tbody>\n",
       "</table>\n",
       "</div>"
      ],
      "text/plain": [
       "       BevolkingOpDeEersteVanDeMaand  per 100k\n",
       "Range                                         \n",
       "0-9                          1758742  0.056859\n",
       "10-19                        1980401  0.050495\n",
       "20-29                        2267060  0.044110\n",
       "30-39                        2218431  0.045077\n",
       "40-49                        2135367  0.046830"
      ]
     },
     "metadata": {},
     "output_type": "display_data"
    }
   ],
   "source": [
    "# Leeftijdsgroepen: download CBS bevolkingscijfers, uitgesplitst op de leeftijdscategorien zoals bij RIVM\n",
    "@run\n",
    "def cell():\n",
    "  global bevolking\n",
    "  # probeer de laatste leeftijdsgroepen op te halen bij het CBS, ververs de fallback-file \n",
    "  try:\n",
    "    bevolking = CBS.bevolking(leeftijdsgroepen=True)\n",
    "    bevolking.to_csv(\"cbs/leeftijdsgroepen_cbs.csv\")\n",
    "  # als het niet is gelukt de CBS file op te halen, gebruik de fallback-file en pas de index klom aan\n",
    "  except Exception as e:\n",
    "    print(e)\n",
    "    bevolking = pd.read_csv(\"cbs/leeftijdsgroepen_cbs.csv\")\n",
    "    bevolking.set_index('Range', inplace=True)\n",
    "  display(bevolking.head())"
   ]
  },
  {
   "cell_type": "code",
   "execution_count": 4,
   "id": "44aa8c02",
   "metadata": {
    "execution": {
     "iopub.execute_input": "2022-01-27T14:40:24.929886Z",
     "iopub.status.busy": "2022-01-27T14:40:24.929309Z",
     "iopub.status.idle": "2022-01-27T14:40:41.700685Z",
     "shell.execute_reply": "2022-01-27T14:40:41.699748Z"
    },
    "lines_to_next_cell": 1,
    "papermill": {
     "duration": 16.784084,
     "end_time": "2022-01-27T14:40:41.700827",
     "exception": false,
     "start_time": "2022-01-27T14:40:24.916743",
     "status": "completed"
    },
    "tags": [],
    "title": "Leeftijdsgroepen: bereken per cohort besmettingen / opnamen / sterfte (incl. kleurcode), in aantal en per 100k. Vervang <50 en Unknown door Onbekend"
   },
   "outputs": [
    {
     "data": {
      "text/html": [
       "<div>\n",
       "<style scoped>\n",
       "    .dataframe tbody tr th:only-of-type {\n",
       "        vertical-align: middle;\n",
       "    }\n",
       "\n",
       "    .dataframe tbody tr th {\n",
       "        vertical-align: top;\n",
       "    }\n",
       "\n",
       "    .dataframe thead th {\n",
       "        text-align: right;\n",
       "    }\n",
       "</style>\n",
       "<table border=\"1\" class=\"dataframe\">\n",
       "  <thead>\n",
       "    <tr style=\"text-align: right;\">\n",
       "      <th></th>\n",
       "      <th>Date_file</th>\n",
       "      <th>Date_statistics</th>\n",
       "      <th>Date_statistics_type</th>\n",
       "      <th>Agegroup</th>\n",
       "      <th>Sex</th>\n",
       "      <th>Province</th>\n",
       "      <th>Deceased</th>\n",
       "      <th>Week_of_death</th>\n",
       "      <th>Municipal_health_service</th>\n",
       "    </tr>\n",
       "  </thead>\n",
       "  <tbody>\n",
       "    <tr>\n",
       "      <th>0</th>\n",
       "      <td>2022-01-27 10:00:00</td>\n",
       "      <td>2020-01-01</td>\n",
       "      <td>DOO</td>\n",
       "      <td>40-49</td>\n",
       "      <td>Female</td>\n",
       "      <td>Noord-Holland</td>\n",
       "      <td>No</td>\n",
       "      <td>NaN</td>\n",
       "      <td>GGD Amsterdam</td>\n",
       "    </tr>\n",
       "    <tr>\n",
       "      <th>1</th>\n",
       "      <td>2022-01-27 10:00:00</td>\n",
       "      <td>2020-01-01</td>\n",
       "      <td>DOO</td>\n",
       "      <td>50-59</td>\n",
       "      <td>Male</td>\n",
       "      <td>Gelderland</td>\n",
       "      <td>No</td>\n",
       "      <td>NaN</td>\n",
       "      <td>Veiligheids- en Gezondheidsregio Gelderland-Mi...</td>\n",
       "    </tr>\n",
       "    <tr>\n",
       "      <th>2</th>\n",
       "      <td>2022-01-27 10:00:00</td>\n",
       "      <td>2020-01-01</td>\n",
       "      <td>DOO</td>\n",
       "      <td>20-29</td>\n",
       "      <td>Female</td>\n",
       "      <td>Zuid-Holland</td>\n",
       "      <td>No</td>\n",
       "      <td>NaN</td>\n",
       "      <td>GGD Hollands-Midden</td>\n",
       "    </tr>\n",
       "    <tr>\n",
       "      <th>3</th>\n",
       "      <td>2022-01-27 10:00:00</td>\n",
       "      <td>2020-01-01</td>\n",
       "      <td>DOO</td>\n",
       "      <td>60-69</td>\n",
       "      <td>Female</td>\n",
       "      <td>Noord-Holland</td>\n",
       "      <td>No</td>\n",
       "      <td>NaN</td>\n",
       "      <td>GGD Hollands-Noorden</td>\n",
       "    </tr>\n",
       "    <tr>\n",
       "      <th>4</th>\n",
       "      <td>2022-01-27 10:00:00</td>\n",
       "      <td>2020-01-04</td>\n",
       "      <td>DOO</td>\n",
       "      <td>10-19</td>\n",
       "      <td>Female</td>\n",
       "      <td>Gelderland</td>\n",
       "      <td>No</td>\n",
       "      <td>NaN</td>\n",
       "      <td>GGD Gelderland-Zuid</td>\n",
       "    </tr>\n",
       "  </tbody>\n",
       "</table>\n",
       "</div>"
      ],
      "text/plain": [
       "             Date_file Date_statistics Date_statistics_type Agegroup     Sex  \\\n",
       "0  2022-01-27 10:00:00      2020-01-01                  DOO    40-49  Female   \n",
       "1  2022-01-27 10:00:00      2020-01-01                  DOO    50-59    Male   \n",
       "2  2022-01-27 10:00:00      2020-01-01                  DOO    20-29  Female   \n",
       "3  2022-01-27 10:00:00      2020-01-01                  DOO    60-69  Female   \n",
       "4  2022-01-27 10:00:00      2020-01-04                  DOO    10-19  Female   \n",
       "\n",
       "        Province Deceased  Week_of_death  \\\n",
       "0  Noord-Holland       No            NaN   \n",
       "1     Gelderland       No            NaN   \n",
       "2   Zuid-Holland       No            NaN   \n",
       "3  Noord-Holland       No            NaN   \n",
       "4     Gelderland       No            NaN   \n",
       "\n",
       "                            Municipal_health_service  \n",
       "0                                      GGD Amsterdam  \n",
       "1  Veiligheids- en Gezondheidsregio Gelderland-Mi...  \n",
       "2                                GGD Hollands-Midden  \n",
       "3                               GGD Hollands-Noorden  \n",
       "4                                GGD Gelderland-Zuid  "
      ]
     },
     "metadata": {},
     "output_type": "display_data"
    },
    {
     "data": {
      "text/html": [
       "<div>\n",
       "<style scoped>\n",
       "    .dataframe tbody tr th:only-of-type {\n",
       "        vertical-align: middle;\n",
       "    }\n",
       "\n",
       "    .dataframe tbody tr th {\n",
       "        vertical-align: top;\n",
       "    }\n",
       "\n",
       "    .dataframe thead th {\n",
       "        text-align: right;\n",
       "    }\n",
       "</style>\n",
       "<table border=\"1\" class=\"dataframe\">\n",
       "  <thead>\n",
       "    <tr style=\"text-align: right;\">\n",
       "      <th></th>\n",
       "      <th>Key</th>\n",
       "      <th>Weken terug</th>\n",
       "      <th>Datum</th>\n",
       "      <th>Periode</th>\n",
       "      <th>Gemiddelde leeftijd</th>\n",
       "      <th>Totaal</th>\n",
       "      <th>Type</th>\n",
       "      <th>0-9</th>\n",
       "      <th>10-19</th>\n",
       "      <th>20-29</th>\n",
       "      <th>...</th>\n",
       "      <th>c10-19</th>\n",
       "      <th>c20-29</th>\n",
       "      <th>c30-39</th>\n",
       "      <th>c40-49</th>\n",
       "      <th>c50-59</th>\n",
       "      <th>c60-69</th>\n",
       "      <th>c70-79</th>\n",
       "      <th>c80-89</th>\n",
       "      <th>c90+</th>\n",
       "      <th>cOnbekend</th>\n",
       "    </tr>\n",
       "  </thead>\n",
       "  <tbody>\n",
       "    <tr>\n",
       "      <th>0</th>\n",
       "      <td>p000</td>\n",
       "      <td>0</td>\n",
       "      <td>2022-01-27</td>\n",
       "      <td>21/01-27/01</td>\n",
       "      <td>28.421802</td>\n",
       "      <td>255685.0</td>\n",
       "      <td>Positief getest</td>\n",
       "      <td>34163.0</td>\n",
       "      <td>73771.0</td>\n",
       "      <td>35223.0</td>\n",
       "      <td>...</td>\n",
       "      <td>1000</td>\n",
       "      <td>477</td>\n",
       "      <td>566</td>\n",
       "      <td>535</td>\n",
       "      <td>279</td>\n",
       "      <td>100</td>\n",
       "      <td>28</td>\n",
       "      <td>10</td>\n",
       "      <td>4</td>\n",
       "      <td>0</td>\n",
       "    </tr>\n",
       "    <tr>\n",
       "      <th>1</th>\n",
       "      <td>p001</td>\n",
       "      <td>1</td>\n",
       "      <td>2022-01-27</td>\n",
       "      <td>14/01-20/01</td>\n",
       "      <td>28.601121</td>\n",
       "      <td>326229.0</td>\n",
       "      <td>Positief getest</td>\n",
       "      <td>41431.0</td>\n",
       "      <td>92496.0</td>\n",
       "      <td>54501.0</td>\n",
       "      <td>...</td>\n",
       "      <td>1000</td>\n",
       "      <td>589</td>\n",
       "      <td>542</td>\n",
       "      <td>468</td>\n",
       "      <td>309</td>\n",
       "      <td>113</td>\n",
       "      <td>37</td>\n",
       "      <td>13</td>\n",
       "      <td>4</td>\n",
       "      <td>0</td>\n",
       "    </tr>\n",
       "    <tr>\n",
       "      <th>2</th>\n",
       "      <td>p002</td>\n",
       "      <td>2</td>\n",
       "      <td>2022-01-27</td>\n",
       "      <td>07/01-13/01</td>\n",
       "      <td>32.756319</td>\n",
       "      <td>220010.0</td>\n",
       "      <td>Positief getest</td>\n",
       "      <td>13091.0</td>\n",
       "      <td>44241.0</td>\n",
       "      <td>56867.0</td>\n",
       "      <td>...</td>\n",
       "      <td>777</td>\n",
       "      <td>1000</td>\n",
       "      <td>590</td>\n",
       "      <td>526</td>\n",
       "      <td>492</td>\n",
       "      <td>166</td>\n",
       "      <td>57</td>\n",
       "      <td>20</td>\n",
       "      <td>5</td>\n",
       "      <td>0</td>\n",
       "    </tr>\n",
       "    <tr>\n",
       "      <th>3</th>\n",
       "      <td>p003</td>\n",
       "      <td>3</td>\n",
       "      <td>2022-01-27</td>\n",
       "      <td>31/12-06/01</td>\n",
       "      <td>33.639764</td>\n",
       "      <td>164965.0</td>\n",
       "      <td>Positief getest</td>\n",
       "      <td>7051.0</td>\n",
       "      <td>27481.0</td>\n",
       "      <td>51583.0</td>\n",
       "      <td>...</td>\n",
       "      <td>532</td>\n",
       "      <td>1000</td>\n",
       "      <td>494</td>\n",
       "      <td>390</td>\n",
       "      <td>398</td>\n",
       "      <td>155</td>\n",
       "      <td>64</td>\n",
       "      <td>19</td>\n",
       "      <td>5</td>\n",
       "      <td>0</td>\n",
       "    </tr>\n",
       "    <tr>\n",
       "      <th>4</th>\n",
       "      <td>p004</td>\n",
       "      <td>4</td>\n",
       "      <td>2022-01-27</td>\n",
       "      <td>24/12-30/12</td>\n",
       "      <td>37.560312</td>\n",
       "      <td>96789.0</td>\n",
       "      <td>Positief getest</td>\n",
       "      <td>6297.0</td>\n",
       "      <td>11790.0</td>\n",
       "      <td>20528.0</td>\n",
       "      <td>...</td>\n",
       "      <td>574</td>\n",
       "      <td>1000</td>\n",
       "      <td>832</td>\n",
       "      <td>670</td>\n",
       "      <td>695</td>\n",
       "      <td>397</td>\n",
       "      <td>176</td>\n",
       "      <td>49</td>\n",
       "      <td>11</td>\n",
       "      <td>0</td>\n",
       "    </tr>\n",
       "  </tbody>\n",
       "</table>\n",
       "<p>5 rows × 29 columns</p>\n",
       "</div>"
      ],
      "text/plain": [
       "    Key  Weken terug      Datum      Periode  Gemiddelde leeftijd    Totaal  \\\n",
       "0  p000            0 2022-01-27  21/01-27/01            28.421802  255685.0   \n",
       "1  p001            1 2022-01-27  14/01-20/01            28.601121  326229.0   \n",
       "2  p002            2 2022-01-27  07/01-13/01            32.756319  220010.0   \n",
       "3  p003            3 2022-01-27  31/12-06/01            33.639764  164965.0   \n",
       "4  p004            4 2022-01-27  24/12-30/12            37.560312   96789.0   \n",
       "\n",
       "              Type      0-9    10-19    20-29  ...  c10-19  c20-29  c30-39  \\\n",
       "0  Positief getest  34163.0  73771.0  35223.0  ...    1000     477     566   \n",
       "1  Positief getest  41431.0  92496.0  54501.0  ...    1000     589     542   \n",
       "2  Positief getest  13091.0  44241.0  56867.0  ...     777    1000     590   \n",
       "3  Positief getest   7051.0  27481.0  51583.0  ...     532    1000     494   \n",
       "4  Positief getest   6297.0  11790.0  20528.0  ...     574    1000     832   \n",
       "\n",
       "   c40-49  c50-59  c60-69  c70-79  c80-89  c90+  cOnbekend  \n",
       "0     535     279     100      28      10     4          0  \n",
       "1     468     309     113      37      13     4          0  \n",
       "2     526     492     166      57      20     5          0  \n",
       "3     390     398     155      64      19     5          0  \n",
       "4     670     695     397     176      49    11          0  \n",
       "\n",
       "[5 rows x 29 columns]"
      ]
     },
     "metadata": {},
     "output_type": "display_data"
    }
   ],
   "source": [
    "# Leeftijdsgroepen: bereken per cohort besmettingen / opnamen / sterfte (incl. kleurcode), in aantal en per 100k. Vervang <50 en Unknown door Onbekend\n",
    "@run\n",
    "def cell():\n",
    "  #  kolom is in version 2 per 18-1-22 toegevoegd, verwijderen:\n",
    "  rivm.drop('Version', inplace=True, axis=1)\n",
    "  display(rivm.head())\n",
    "  rivm['Cohort'] = rivm['Agegroup'].replace({'<50': 'Onbekend', 'Unknown': 'Onbekend'})\n",
    "  # aangenomen 'gemiddelde' leeftijd van een cohort: minimum waarde + 5\n",
    "  assumed_cohort_age = [(cohort, [int(n) for n in cohort.replace('+', '').split('-')]) for cohort in rivm['Cohort'].unique() if cohort[0].isdigit()]\n",
    "  assumed_cohort_age = { cohort: min(rng) + 5 for cohort, rng in assumed_cohort_age }\n",
    "  rivm['Gemiddelde leeftijd'] = rivm['Cohort'].apply(lambda x: assumed_cohort_age.get(x, np.nan))\n",
    "\n",
    "  # verwijder tijd\n",
    "  rivm['Date_file_date'] = pd.to_datetime(rivm['Date_file'].replace(r' .*', '', regex=True))\n",
    "\n",
    "  rivm['Date_statistics_date'] = pd.to_datetime(rivm['Date_statistics'])\n",
    "\n",
    "  # weken terug = verschil tussen Date_file en Date_statistcs, gedeeld door 7 dagen\n",
    "  rivm['Weken terug'] = np.floor((rivm['Date_file_date'] - rivm['Date_statistics_date'])/np.timedelta64(7, 'D')).astype(int)\n",
    "\n",
    "  # voeg key, gem leeftijd, kleurnummer en totaal toe\n",
    "  Date_file = rivm['Date_file_date'].unique()[0].astype('M8[D]').astype('O')\n",
    "  cohorten = list(bevolking.index) + ['Onbekend']\n",
    "\n",
    "  def summarize(df, category, prefix):\n",
    "    # aangezien we hier de dataframe in-place wijzigen (bijv door toevoegen kolommen)\n",
    "    # en we het 'rivm' frame later nog clean nodig hebben\n",
    "    df = df.copy(deep=True)\n",
    "\n",
    "    df = (df\n",
    "          .groupby(['Weken terug', 'Cohort'])['count']\n",
    "          .sum()\n",
    "          .unstack(fill_value=np.nan)\n",
    "          .reset_index()\n",
    "          .rename_axis(None, axis=1)\n",
    "        ).merge(df\n",
    "          # we voegen hier gemiddelde leeftijd toe, want die willen we op een ander\n",
    "          # niveau aggregeren voor 'df' overschreven word\n",
    "          .groupby(['Weken terug'])['Gemiddelde leeftijd']\n",
    "          .mean()\n",
    "          .to_frame(), on='Weken terug'\n",
    "        )\n",
    "\n",
    "    # altijd 52 rijen\n",
    "    df = pd.Series(np.arange(52), name='Weken terug').to_frame().merge(df, how='left', on='Weken terug')\n",
    "\n",
    "    # toevoegen missende cohorten\n",
    "    for col in cohorten:\n",
    "      if not col in df:\n",
    "        df[col] = np.nan\n",
    "\n",
    "    # sommeer per rij (axis=1) over de cohorten om een totaal te krijgen\n",
    "    df['Totaal'] = df[cohorten].sum(axis=1)\n",
    "\n",
    "    # voeg periode en datum toe\n",
    "    # periode afgeleid van weken-terug (= de index voor deze dataframe)\n",
    "    df['Datum'] = pd.to_datetime(Date_file)\n",
    "    df['Periode'] = (df\n",
    "      .index.to_series()\n",
    "      .apply(\n",
    "        lambda x: (\n",
    "          (Date_file + datetime.timedelta(weeks=-(x+1), days=1)).strftime('%d/%m')\n",
    "          + '-'\n",
    "          + (Date_file + datetime.timedelta(weeks=-x)).strftime('%d/%m')\n",
    "        )\n",
    "      )\n",
    "    )\n",
    "\n",
    "    # voeg 'Key' en 'Type' kolom toe. Variabele 'type' kan niet, is een language primitive.\n",
    "    df['Key'] = prefix + df.index.astype(str).str.rjust(3, fillchar='0')\n",
    "    df['Type'] = category\n",
    "\n",
    "    # voeg de kleur kolommen toe\n",
    "    for col in cohorten:\n",
    "      df['c' + col] = ((df[col] / df[[col for col in cohorten]].max(axis=1)) * 1000).fillna(0).astype(int)\n",
    "\n",
    "    # herschikken van de kolommen\n",
    "    colorder = ['Key', 'Weken terug', 'Datum', 'Periode', 'Gemiddelde leeftijd', 'Totaal', 'Type']\n",
    "    return df[colorder + [col for col in df if col not in colorder]]\n",
    "\n",
    "  factor = bevolking.to_dict()['per 100k']\n",
    "\n",
    "  global tabel\n",
    "  tabel = pd.concat(\n",
    "    # flatten the result list zodat pd.concat ze onder elkaar kan plakken\n",
    "    functools.reduce(lambda a, b: a + b, [\n",
    "      [summarize(df.assign(count=1), label, prefix), summarize(df.assign(count=df['Cohort'].apply(lambda x: factor.get(x, np.nan))), label + ' per 100.000', prefix + '100k')]\n",
    "      for df, label, prefix in [\n",
    "        (rivm, 'Positief getest', 'p'), # volledige count per cohort\n",
    "        (rivm[rivm.Deceased == 'Yes'], 'Overleden', 'd'), # count van cohort voor Deceased == 'Yes'\n",
    "      ]\n",
    "    ])\n",
    "  )\n",
    "\n",
    "  # bij /100k is het Totaal-veld geen optelsom maar wordt berekend obv de gehele bevolking\n",
    "  totale_bevolking_per_cohort = bevolking.to_dict()['BevolkingOpDeEersteVanDeMaand']\n",
    "  totale_bevolking = sum(totale_bevolking_per_cohort.values())\n",
    "  keys = [ key for key in tabel[\"Key\"]]\n",
    "  totals = [ x for x in tabel[\"Totaal\"]]\n",
    "  for k in range(0, len(keys)):\n",
    "    key = keys[k]\n",
    "    if '100k' in key:\n",
    "      abskey = key[0] + key[5:]\n",
    "      kk = keys.index(abskey)\n",
    "      if isinstance(totals[k], float):\n",
    "        correctedtotal = totals[kk] * (100_000 / totale_bevolking)\n",
    "        # print([k, totals[k], totals[kk], correctedtotal])\n",
    "        totals[k] = correctedtotal\n",
    "  tabel[\"Totaal\"] = totals\n",
    "\n",
    "  display(tabel.head())"
   ]
  },
  {
   "cell_type": "markdown",
   "id": "df0a5ba1",
   "metadata": {
    "tags": [
     "papermill-error-cell-tag"
    ]
   },
   "source": [
    "<span id=\"papermill-error-cell\" style=\"color:red; font-family:Helvetica Neue, Helvetica, Arial, sans-serif; font-size:2em;\">Execution using papermill encountered an exception here and stopped:</span>"
   ]
  },
  {
   "cell_type": "code",
   "execution_count": 5,
   "id": "7296d361",
   "metadata": {
    "execution": {
     "iopub.execute_input": "2022-01-27T14:40:41.729245Z",
     "iopub.status.busy": "2022-01-27T14:40:41.728674Z",
     "iopub.status.idle": "2022-01-27T14:45:51.822382Z",
     "shell.execute_reply": "2022-01-27T14:45:51.822963Z"
    },
    "papermill": {
     "duration": 310.110604,
     "end_time": "2022-01-27T14:45:51.823280",
     "exception": true,
     "start_time": "2022-01-27T14:40:41.712676",
     "status": "failed"
    },
    "tags": [],
    "title": "publish"
   },
   "outputs": [
    {
     "name": "stdout",
     "output_type": "stream",
     "text": [
      "infinities:\n"
     ]
    },
    {
     "name": "stdout",
     "output_type": "stream",
     "text": [
      "Empty DataFrame\n",
      "Columns: []\n",
      "Index: []\n"
     ]
    },
    {
     "name": "stdout",
     "output_type": "stream",
     "text": [
      "nan:\n"
     ]
    },
    {
     "name": "stdout",
     "output_type": "stream",
     "text": [
      "Empty DataFrame\n",
      "Columns: []\n",
      "Index: []\n"
     ]
    },
    {
     "name": "stdout",
     "output_type": "stream",
     "text": [
      "updating knack\n"
     ]
    },
    {
     "name": "stdout",
     "output_type": "stream",
     "text": [
      "updating: [{'Key': 1, 'Updating Leeftijdsgroep': 'true'}]\n"
     ]
    },
    {
     "name": "stdout",
     "output_type": "stream",
     "text": [
      "restored LaatsteUpdate from hash\n"
     ]
    },
    {
     "name": "stderr",
     "output_type": "stream",
     "text": [
      "\r",
      "  0%|          | 0/1 [00:00<?, ?it/s]"
     ]
    },
    {
     "name": "stderr",
     "output_type": "stream",
     "text": [
      "\r",
      "100%|██████████| 1/1 [00:02<00:00,  2.55s/it]"
     ]
    },
    {
     "name": "stderr",
     "output_type": "stream",
     "text": [
      "\r",
      "100%|██████████| 1/1 [00:02<00:00,  2.55s/it]"
     ]
    },
    {
     "name": "stdout",
     "output_type": "stream",
     "text": [
      "\n",
      "rate limit: 7 \n",
      "LaatsteUpdate API calls: create: 0, read: 1, update: 1, delete: 0, backoff: 0\n"
     ]
    },
    {
     "name": "stderr",
     "output_type": "stream",
     "text": [
      "\n"
     ]
    },
    {
     "name": "stdout",
     "output_type": "stream",
     "text": [
      "restored Leeftijdsgroep from hash\n"
     ]
    },
    {
     "name": "stderr",
     "output_type": "stream",
     "text": [
      "\r",
      "  0%|          | 0/88 [00:00<?, ?it/s]"
     ]
    },
    {
     "name": "stderr",
     "output_type": "stream",
     "text": [
      "\r",
      "  1%|          | 1/88 [00:00<01:19,  1.09it/s]"
     ]
    },
    {
     "name": "stderr",
     "output_type": "stream",
     "text": [
      "\r",
      "  5%|▍         | 4/88 [00:01<00:22,  3.73it/s]"
     ]
    },
    {
     "name": "stderr",
     "output_type": "stream",
     "text": [
      "\r",
      "  6%|▌         | 5/88 [00:01<00:19,  4.32it/s]"
     ]
    },
    {
     "name": "stderr",
     "output_type": "stream",
     "text": [
      "\r",
      "  8%|▊         | 7/88 [00:01<00:14,  5.77it/s]"
     ]
    },
    {
     "name": "stderr",
     "output_type": "stream",
     "text": [
      "\r",
      "  9%|▉         | 8/88 [00:02<00:18,  4.29it/s]"
     ]
    },
    {
     "name": "stderr",
     "output_type": "stream",
     "text": [
      "\r",
      " 12%|█▎        | 11/88 [00:02<00:10,  7.54it/s]"
     ]
    },
    {
     "name": "stderr",
     "output_type": "stream",
     "text": [
      "\r",
      " 15%|█▍        | 13/88 [00:02<00:10,  7.08it/s]"
     ]
    },
    {
     "name": "stderr",
     "output_type": "stream",
     "text": [
      "\r",
      " 17%|█▋        | 15/88 [00:02<00:09,  8.07it/s]"
     ]
    },
    {
     "name": "stderr",
     "output_type": "stream",
     "text": [
      "\r",
      " 20%|██        | 18/88 [00:03<00:10,  6.88it/s]"
     ]
    },
    {
     "name": "stderr",
     "output_type": "stream",
     "text": [
      "\r",
      " 22%|██▏       | 19/88 [00:03<00:10,  6.55it/s]"
     ]
    },
    {
     "name": "stderr",
     "output_type": "stream",
     "text": [
      "\r",
      " 23%|██▎       | 20/88 [00:03<00:11,  5.92it/s]"
     ]
    },
    {
     "name": "stderr",
     "output_type": "stream",
     "text": [
      "\r",
      " 25%|██▌       | 22/88 [00:03<00:11,  5.52it/s]"
     ]
    },
    {
     "name": "stderr",
     "output_type": "stream",
     "text": [
      "\r",
      " 26%|██▌       | 23/88 [00:04<00:11,  5.43it/s]"
     ]
    },
    {
     "name": "stderr",
     "output_type": "stream",
     "text": [
      "\r",
      " 31%|███       | 27/88 [00:04<00:06,  8.93it/s]"
     ]
    },
    {
     "name": "stderr",
     "output_type": "stream",
     "text": [
      "\r",
      " 33%|███▎      | 29/88 [00:04<00:08,  6.78it/s]"
     ]
    },
    {
     "name": "stderr",
     "output_type": "stream",
     "text": [
      "\r",
      " 35%|███▌      | 31/88 [00:05<00:08,  7.10it/s]"
     ]
    },
    {
     "name": "stderr",
     "output_type": "stream",
     "text": [
      "\r",
      " 36%|███▋      | 32/88 [00:05<00:10,  5.53it/s]"
     ]
    },
    {
     "name": "stderr",
     "output_type": "stream",
     "text": [
      "\r",
      " 40%|███▉      | 35/88 [00:05<00:06,  8.11it/s]"
     ]
    },
    {
     "name": "stderr",
     "output_type": "stream",
     "text": [
      "\r",
      " 42%|████▏     | 37/88 [00:06<00:07,  6.82it/s]"
     ]
    },
    {
     "name": "stderr",
     "output_type": "stream",
     "text": [
      "\r",
      " 44%|████▍     | 39/88 [00:06<00:05,  8.26it/s]"
     ]
    },
    {
     "name": "stderr",
     "output_type": "stream",
     "text": [
      "\r",
      " 47%|████▋     | 41/88 [00:06<00:05,  7.88it/s]"
     ]
    },
    {
     "name": "stderr",
     "output_type": "stream",
     "text": [
      "\r",
      " 49%|████▉     | 43/88 [00:06<00:05,  8.24it/s]"
     ]
    },
    {
     "name": "stderr",
     "output_type": "stream",
     "text": [
      "\r",
      " 51%|█████     | 45/88 [00:06<00:05,  7.98it/s]"
     ]
    },
    {
     "name": "stderr",
     "output_type": "stream",
     "text": [
      "\r",
      " 53%|█████▎    | 47/88 [00:07<00:06,  6.57it/s]"
     ]
    },
    {
     "name": "stderr",
     "output_type": "stream",
     "text": [
      "\r",
      " 55%|█████▍    | 48/88 [00:07<00:06,  5.76it/s]"
     ]
    },
    {
     "name": "stderr",
     "output_type": "stream",
     "text": [
      "\r",
      " 58%|█████▊    | 51/88 [00:07<00:04,  8.24it/s]"
     ]
    },
    {
     "name": "stderr",
     "output_type": "stream",
     "text": [
      "\r",
      " 60%|██████    | 53/88 [00:08<00:05,  6.78it/s]"
     ]
    },
    {
     "name": "stderr",
     "output_type": "stream",
     "text": [
      "\r",
      " 61%|██████▏   | 54/88 [00:08<00:04,  6.93it/s]"
     ]
    },
    {
     "name": "stderr",
     "output_type": "stream",
     "text": [
      "\r",
      " 62%|██████▎   | 55/88 [00:08<00:06,  5.04it/s]"
     ]
    },
    {
     "name": "stderr",
     "output_type": "stream",
     "text": [
      "\r",
      " 64%|██████▎   | 56/88 [00:08<00:06,  5.16it/s]"
     ]
    },
    {
     "name": "stderr",
     "output_type": "stream",
     "text": [
      "\r",
      " 65%|██████▍   | 57/88 [00:09<00:06,  4.78it/s]"
     ]
    },
    {
     "name": "stderr",
     "output_type": "stream",
     "text": [
      "\r",
      " 67%|██████▋   | 59/88 [00:09<00:05,  5.21it/s]"
     ]
    },
    {
     "name": "stderr",
     "output_type": "stream",
     "text": [
      "\r",
      " 68%|██████▊   | 60/88 [00:09<00:05,  5.53it/s]"
     ]
    },
    {
     "name": "stderr",
     "output_type": "stream",
     "text": [
      "\r",
      " 72%|███████▏  | 63/88 [00:09<00:02,  9.00it/s]"
     ]
    },
    {
     "name": "stderr",
     "output_type": "stream",
     "text": [
      "\r",
      " 74%|███████▍  | 65/88 [00:10<00:03,  7.27it/s]"
     ]
    },
    {
     "name": "stderr",
     "output_type": "stream",
     "text": [
      "\r",
      " 75%|███████▌  | 66/88 [00:10<00:03,  6.41it/s]"
     ]
    },
    {
     "name": "stderr",
     "output_type": "stream",
     "text": [
      "\r",
      " 76%|███████▌  | 67/88 [00:10<00:03,  6.82it/s]"
     ]
    },
    {
     "name": "stderr",
     "output_type": "stream",
     "text": [
      "\r",
      " 77%|███████▋  | 68/88 [00:10<00:02,  6.83it/s]"
     ]
    },
    {
     "name": "stderr",
     "output_type": "stream",
     "text": [
      "\r",
      " 78%|███████▊  | 69/88 [00:11<00:03,  4.85it/s]"
     ]
    },
    {
     "name": "stderr",
     "output_type": "stream",
     "text": [
      "\r",
      " 81%|████████  | 71/88 [00:11<00:02,  6.10it/s]"
     ]
    },
    {
     "name": "stderr",
     "output_type": "stream",
     "text": [
      "\r",
      " 82%|████████▏ | 72/88 [00:11<00:02,  5.54it/s]"
     ]
    },
    {
     "name": "stderr",
     "output_type": "stream",
     "text": [
      "\r",
      " 85%|████████▌ | 75/88 [00:11<00:01,  7.49it/s]"
     ]
    },
    {
     "name": "stderr",
     "output_type": "stream",
     "text": [
      "\r",
      " 86%|████████▋ | 76/88 [00:12<00:02,  5.30it/s]"
     ]
    },
    {
     "name": "stderr",
     "output_type": "stream",
     "text": [
      "\r",
      " 88%|████████▊ | 77/88 [00:12<00:01,  5.89it/s]"
     ]
    },
    {
     "name": "stderr",
     "output_type": "stream",
     "text": [
      "\r",
      " 91%|█████████ | 80/88 [00:12<00:00,  8.90it/s]"
     ]
    },
    {
     "name": "stderr",
     "output_type": "stream",
     "text": [
      "\r",
      " 93%|█████████▎| 82/88 [00:12<00:00,  9.25it/s]"
     ]
    },
    {
     "name": "stderr",
     "output_type": "stream",
     "text": [
      "\r",
      " 95%|█████████▌| 84/88 [00:12<00:00,  9.60it/s]"
     ]
    },
    {
     "name": "stderr",
     "output_type": "stream",
     "text": [
      "\r",
      " 98%|█████████▊| 86/88 [00:13<00:00,  3.96it/s]"
     ]
    },
    {
     "name": "stderr",
     "output_type": "stream",
     "text": [
      "\r",
      " 99%|█████████▉| 87/88 [00:14<00:00,  3.93it/s]"
     ]
    },
    {
     "ename": "TimeoutError",
     "evalue": "",
     "output_type": "error",
     "traceback": [
      "\u001b[0;31m---------------------------------------------------------------------------\u001b[0m",
      "\u001b[0;31mTimeoutError\u001b[0m                              Traceback (most recent call last)",
      "Input \u001b[0;32mIn [5]\u001b[0m, in \u001b[0;36m<module>\u001b[0;34m\u001b[0m\n\u001b[1;32m      1\u001b[0m \u001b[38;5;28;01mif\u001b[39;00m knack:\n\u001b[0;32m----> 2\u001b[0m   \u001b[38;5;28;01mawait\u001b[39;00m knack\u001b[38;5;241m.\u001b[39mpublish(tabel\u001b[38;5;241m.\u001b[39mfillna(\u001b[38;5;241m0\u001b[39m)\u001b[38;5;241m.\u001b[39massign(Datum\u001b[38;5;241m=\u001b[39mtabel\u001b[38;5;241m.\u001b[39mDatum\u001b[38;5;241m.\u001b[39mdt\u001b[38;5;241m.\u001b[39mstrftime(\u001b[38;5;124m'\u001b[39m\u001b[38;5;124m%\u001b[39m\u001b[38;5;124mY-\u001b[39m\u001b[38;5;124m%\u001b[39m\u001b[38;5;124mm-\u001b[39m\u001b[38;5;132;01m%d\u001b[39;00m\u001b[38;5;124m'\u001b[39m)), \u001b[38;5;124m'\u001b[39m\u001b[38;5;124mLeeftijdsgroep\u001b[39m\u001b[38;5;124m'\u001b[39m, Cache)\n",
      "File \u001b[0;32m~/work/corona-locator-nederland/corona-locator-nederland/knack.py:415\u001b[0m, in \u001b[0;36mKnack.publish\u001b[0;34m(self, df, object_name, downloads, update_timestamps)\u001b[0m\n\u001b[1;32m    413\u001b[0m \u001b[38;5;28mprint\u001b[39m(\u001b[38;5;124m'\u001b[39m\u001b[38;5;124mupdating knack\u001b[39m\u001b[38;5;124m'\u001b[39m, flush\u001b[38;5;241m=\u001b[39m\u001b[38;5;28;01mTrue\u001b[39;00m)\n\u001b[1;32m    414\u001b[0m \u001b[38;5;28;01mawait\u001b[39;00m \u001b[38;5;28mself\u001b[39m\u001b[38;5;241m.\u001b[39mupdating(object_name, \u001b[38;5;28;01mTrue\u001b[39;00m)\n\u001b[0;32m--> 415\u001b[0m \u001b[38;5;28;01mawait\u001b[39;00m \u001b[38;5;28mself\u001b[39m\u001b[38;5;241m.\u001b[39mupdate(object_name\u001b[38;5;241m=\u001b[39mobject_name, df\u001b[38;5;241m=\u001b[39mdf, slack\u001b[38;5;241m=\u001b[39mMunch(msg\u001b[38;5;241m=\u001b[39m\u001b[38;5;124m'\u001b[39m\u001b[38;5;130;01m\\n\u001b[39;00m\u001b[38;5;124m'\u001b[39m\u001b[38;5;241m.\u001b[39mjoin(downloads\u001b[38;5;241m.\u001b[39mactions), emoji\u001b[38;5;241m=\u001b[39m\u001b[38;5;28;01mNone\u001b[39;00m))\n\u001b[1;32m    416\u001b[0m \u001b[38;5;28;01mawait\u001b[39;00m \u001b[38;5;28mself\u001b[39m\u001b[38;5;241m.\u001b[39mtimestamps(object_name, downloads\u001b[38;5;241m.\u001b[39mtimestamps)\n\u001b[1;32m    417\u001b[0m \u001b[38;5;28;01mawait\u001b[39;00m \u001b[38;5;28mself\u001b[39m\u001b[38;5;241m.\u001b[39mupdating(object_name, \u001b[38;5;28;01mFalse\u001b[39;00m)\n",
      "File \u001b[0;32m~/work/corona-locator-nederland/corona-locator-nederland/knack.py:346\u001b[0m, in \u001b[0;36mKnack.update\u001b[0;34m(self, object_name, df, force, rate_limit, slack)\u001b[0m\n\u001b[1;32m    344\u001b[0m   \u001b[38;5;28mself\u001b[39m\u001b[38;5;241m.\u001b[39mslack(slack\u001b[38;5;241m.\u001b[39mmsg \u001b[38;5;241m+\u001b[39m \u001b[38;5;124mf\u001b[39m\u001b[38;5;124m'\u001b[39m\u001b[38;5;124mnothing to do for \u001b[39m\u001b[38;5;132;01m{\u001b[39;00mobj\u001b[38;5;241m.\u001b[39mmeta\u001b[38;5;241m.\u001b[39mname\u001b[38;5;132;01m}\u001b[39;00m\u001b[38;5;124m'\u001b[39m, obj\u001b[38;5;241m.\u001b[39mmeta\u001b[38;5;241m.\u001b[39mname, emoji\u001b[38;5;241m=\u001b[39m\u001b[38;5;124m'\u001b[39m\u001b[38;5;124m:sleeping:\u001b[39m\u001b[38;5;124m'\u001b[39m)\n\u001b[1;32m    345\u001b[0m \u001b[38;5;28;01melse\u001b[39;00m:\n\u001b[0;32m--> 346\u001b[0m   responses \u001b[38;5;241m=\u001b[39m [\u001b[38;5;28;01mawait\u001b[39;00m req \u001b[38;5;28;01mfor\u001b[39;00m req \u001b[38;5;129;01min\u001b[39;00m tqdm\u001b[38;5;241m.\u001b[39mtqdm(asyncio\u001b[38;5;241m.\u001b[39mas_completed(tasks), total\u001b[38;5;241m=\u001b[39m\u001b[38;5;28mlen\u001b[39m(tasks))]\n\u001b[1;32m    347\u001b[0m   \u001b[38;5;28mself\u001b[39m\u001b[38;5;241m.\u001b[39mslack(slack\u001b[38;5;241m.\u001b[39mmsg \u001b[38;5;241m+\u001b[39m \u001b[38;5;124mf\u001b[39m\u001b[38;5;124m'\u001b[39m\u001b[38;5;132;01m{\u001b[39;00mobj\u001b[38;5;241m.\u001b[39mmeta\u001b[38;5;241m.\u001b[39mname\u001b[38;5;132;01m}\u001b[39;00m\u001b[38;5;124m API calls: \u001b[39m\u001b[38;5;132;01m{\u001b[39;00m\u001b[38;5;28mself\u001b[39m\u001b[38;5;241m.\u001b[39mcalls\u001b[38;5;132;01m}\u001b[39;00m\u001b[38;5;124m'\u001b[39m, obj\u001b[38;5;241m.\u001b[39mmeta\u001b[38;5;241m.\u001b[39mname, emoji\u001b[38;5;241m=\u001b[39mslack\u001b[38;5;241m.\u001b[39memoji \u001b[38;5;129;01mor\u001b[39;00m \u001b[38;5;124m'\u001b[39m\u001b[38;5;124m:white_check_mark:\u001b[39m\u001b[38;5;124m'\u001b[39m)\n\u001b[1;32m    348\u001b[0m \u001b[38;5;28mprint\u001b[39m(\u001b[38;5;124m'\u001b[39m\u001b[38;5;130;01m\\n\u001b[39;00m\u001b[38;5;124mrate limit:\u001b[39m\u001b[38;5;124m'\u001b[39m, rate_limit, \u001b[38;5;124mf\u001b[39m\u001b[38;5;124m'\u001b[39m\u001b[38;5;130;01m\\n\u001b[39;00m\u001b[38;5;132;01m{\u001b[39;00mobj\u001b[38;5;241m.\u001b[39mmeta\u001b[38;5;241m.\u001b[39mname\u001b[38;5;132;01m}\u001b[39;00m\u001b[38;5;124m API calls:\u001b[39m\u001b[38;5;124m'\u001b[39m, \u001b[38;5;28mself\u001b[39m\u001b[38;5;241m.\u001b[39mcalls, flush\u001b[38;5;241m=\u001b[39m\u001b[38;5;28;01mTrue\u001b[39;00m)\n",
      "File \u001b[0;32m~/work/corona-locator-nederland/corona-locator-nederland/knack.py:346\u001b[0m, in \u001b[0;36m<listcomp>\u001b[0;34m(.0)\u001b[0m\n\u001b[1;32m    344\u001b[0m   \u001b[38;5;28mself\u001b[39m\u001b[38;5;241m.\u001b[39mslack(slack\u001b[38;5;241m.\u001b[39mmsg \u001b[38;5;241m+\u001b[39m \u001b[38;5;124mf\u001b[39m\u001b[38;5;124m'\u001b[39m\u001b[38;5;124mnothing to do for \u001b[39m\u001b[38;5;132;01m{\u001b[39;00mobj\u001b[38;5;241m.\u001b[39mmeta\u001b[38;5;241m.\u001b[39mname\u001b[38;5;132;01m}\u001b[39;00m\u001b[38;5;124m'\u001b[39m, obj\u001b[38;5;241m.\u001b[39mmeta\u001b[38;5;241m.\u001b[39mname, emoji\u001b[38;5;241m=\u001b[39m\u001b[38;5;124m'\u001b[39m\u001b[38;5;124m:sleeping:\u001b[39m\u001b[38;5;124m'\u001b[39m)\n\u001b[1;32m    345\u001b[0m \u001b[38;5;28;01melse\u001b[39;00m:\n\u001b[0;32m--> 346\u001b[0m   responses \u001b[38;5;241m=\u001b[39m [\u001b[38;5;28;01mawait\u001b[39;00m req \u001b[38;5;28;01mfor\u001b[39;00m req \u001b[38;5;129;01min\u001b[39;00m tqdm\u001b[38;5;241m.\u001b[39mtqdm(asyncio\u001b[38;5;241m.\u001b[39mas_completed(tasks), total\u001b[38;5;241m=\u001b[39m\u001b[38;5;28mlen\u001b[39m(tasks))]\n\u001b[1;32m    347\u001b[0m   \u001b[38;5;28mself\u001b[39m\u001b[38;5;241m.\u001b[39mslack(slack\u001b[38;5;241m.\u001b[39mmsg \u001b[38;5;241m+\u001b[39m \u001b[38;5;124mf\u001b[39m\u001b[38;5;124m'\u001b[39m\u001b[38;5;132;01m{\u001b[39;00mobj\u001b[38;5;241m.\u001b[39mmeta\u001b[38;5;241m.\u001b[39mname\u001b[38;5;132;01m}\u001b[39;00m\u001b[38;5;124m API calls: \u001b[39m\u001b[38;5;132;01m{\u001b[39;00m\u001b[38;5;28mself\u001b[39m\u001b[38;5;241m.\u001b[39mcalls\u001b[38;5;132;01m}\u001b[39;00m\u001b[38;5;124m'\u001b[39m, obj\u001b[38;5;241m.\u001b[39mmeta\u001b[38;5;241m.\u001b[39mname, emoji\u001b[38;5;241m=\u001b[39mslack\u001b[38;5;241m.\u001b[39memoji \u001b[38;5;129;01mor\u001b[39;00m \u001b[38;5;124m'\u001b[39m\u001b[38;5;124m:white_check_mark:\u001b[39m\u001b[38;5;124m'\u001b[39m)\n\u001b[1;32m    348\u001b[0m \u001b[38;5;28mprint\u001b[39m(\u001b[38;5;124m'\u001b[39m\u001b[38;5;130;01m\\n\u001b[39;00m\u001b[38;5;124mrate limit:\u001b[39m\u001b[38;5;124m'\u001b[39m, rate_limit, \u001b[38;5;124mf\u001b[39m\u001b[38;5;124m'\u001b[39m\u001b[38;5;130;01m\\n\u001b[39;00m\u001b[38;5;132;01m{\u001b[39;00mobj\u001b[38;5;241m.\u001b[39mmeta\u001b[38;5;241m.\u001b[39mname\u001b[38;5;132;01m}\u001b[39;00m\u001b[38;5;124m API calls:\u001b[39m\u001b[38;5;124m'\u001b[39m, \u001b[38;5;28mself\u001b[39m\u001b[38;5;241m.\u001b[39mcalls, flush\u001b[38;5;241m=\u001b[39m\u001b[38;5;28;01mTrue\u001b[39;00m)\n",
      "File \u001b[0;32m/opt/hostedtoolcache/Python/3.9.10/x64/lib/python3.9/asyncio/tasks.py:611\u001b[0m, in \u001b[0;36mas_completed.<locals>._wait_for_one\u001b[0;34m()\u001b[0m\n\u001b[1;32m    608\u001b[0m \u001b[38;5;28;01mif\u001b[39;00m f \u001b[38;5;129;01mis\u001b[39;00m \u001b[38;5;28;01mNone\u001b[39;00m:\n\u001b[1;32m    609\u001b[0m     \u001b[38;5;66;03m# Dummy value from _on_timeout().\u001b[39;00m\n\u001b[1;32m    610\u001b[0m     \u001b[38;5;28;01mraise\u001b[39;00m exceptions\u001b[38;5;241m.\u001b[39mTimeoutError\n\u001b[0;32m--> 611\u001b[0m \u001b[38;5;28;01mreturn\u001b[39;00m \u001b[43mf\u001b[49m\u001b[38;5;241;43m.\u001b[39;49m\u001b[43mresult\u001b[49m\u001b[43m(\u001b[49m\u001b[43m)\u001b[49m\n",
      "File \u001b[0;32m/opt/hostedtoolcache/Python/3.9.10/x64/lib/python3.9/site-packages/backoff/_async.py:133\u001b[0m, in \u001b[0;36mretry_exception.<locals>.retry\u001b[0;34m(*args, **kwargs)\u001b[0m\n\u001b[1;32m    130\u001b[0m details \u001b[38;5;241m=\u001b[39m (target, args, kwargs, tries, elapsed)\n\u001b[1;32m    132\u001b[0m \u001b[38;5;28;01mtry\u001b[39;00m:\n\u001b[0;32m--> 133\u001b[0m     ret \u001b[38;5;241m=\u001b[39m \u001b[38;5;28;01mawait\u001b[39;00m target(\u001b[38;5;241m*\u001b[39margs, \u001b[38;5;241m*\u001b[39m\u001b[38;5;241m*\u001b[39mkwargs)\n\u001b[1;32m    134\u001b[0m \u001b[38;5;28;01mexcept\u001b[39;00m exception \u001b[38;5;28;01mas\u001b[39;00m e:\n\u001b[1;32m    135\u001b[0m     giveup_result \u001b[38;5;241m=\u001b[39m \u001b[38;5;28;01mawait\u001b[39;00m giveup(e)\n",
      "File \u001b[0;32m~/work/corona-locator-nederland/corona-locator-nederland/knack.py:151\u001b[0m, in \u001b[0;36mKnack.execute\u001b[0;34m(self, task)\u001b[0m\n\u001b[1;32m    149\u001b[0m     \u001b[38;5;28;01mreturn\u001b[39;00m \u001b[38;5;28;01mawait\u001b[39;00m response\u001b[38;5;241m.\u001b[39mread()\n\u001b[1;32m    150\u001b[0m \u001b[38;5;28;01melif\u001b[39;00m task\u001b[38;5;241m.\u001b[39maction \u001b[38;5;241m==\u001b[39m \u001b[38;5;124m'\u001b[39m\u001b[38;5;124mupdate\u001b[39m\u001b[38;5;124m'\u001b[39m:\n\u001b[0;32m--> 151\u001b[0m   \u001b[38;5;28;01masync\u001b[39;00m \u001b[38;5;28;01mwith\u001b[39;00m \u001b[38;5;28mself\u001b[39m\u001b[38;5;241m.\u001b[39msession\u001b[38;5;241m.\u001b[39mput(\u001b[38;5;124mf\u001b[39m\u001b[38;5;124m'\u001b[39m\u001b[38;5;124mhttps://api.knack.com/v1/objects/\u001b[39m\u001b[38;5;132;01m{\u001b[39;00mtask\u001b[38;5;241m.\u001b[39mobject_key\u001b[38;5;132;01m}\u001b[39;00m\u001b[38;5;124m/records/\u001b[39m\u001b[38;5;132;01m{\u001b[39;00mtask\u001b[38;5;241m.\u001b[39mrecord_id\u001b[38;5;132;01m}\u001b[39;00m\u001b[38;5;124m'\u001b[39m, json\u001b[38;5;241m=\u001b[39mtask\u001b[38;5;241m.\u001b[39mdata, headers\u001b[38;5;241m=\u001b[39m\u001b[38;5;28mself\u001b[39m\u001b[38;5;241m.\u001b[39mheaders, raise_for_status\u001b[38;5;241m=\u001b[39m\u001b[38;5;28;01mTrue\u001b[39;00m) \u001b[38;5;28;01mas\u001b[39;00m response:\n\u001b[1;32m    152\u001b[0m     \u001b[38;5;28;01mreturn\u001b[39;00m \u001b[38;5;28;01mawait\u001b[39;00m response\u001b[38;5;241m.\u001b[39mread()\n\u001b[1;32m    153\u001b[0m \u001b[38;5;28;01melif\u001b[39;00m task\u001b[38;5;241m.\u001b[39maction \u001b[38;5;241m==\u001b[39m \u001b[38;5;124m'\u001b[39m\u001b[38;5;124mdelete\u001b[39m\u001b[38;5;124m'\u001b[39m:\n",
      "File \u001b[0;32m/opt/hostedtoolcache/Python/3.9.10/x64/lib/python3.9/site-packages/aiohttp/client.py:1138\u001b[0m, in \u001b[0;36m_BaseRequestContextManager.__aenter__\u001b[0;34m(self)\u001b[0m\n\u001b[1;32m   1137\u001b[0m \u001b[38;5;28;01masync\u001b[39;00m \u001b[38;5;28;01mdef\u001b[39;00m \u001b[38;5;21m__aenter__\u001b[39m(\u001b[38;5;28mself\u001b[39m) \u001b[38;5;241m-\u001b[39m\u001b[38;5;241m>\u001b[39m _RetType:\n\u001b[0;32m-> 1138\u001b[0m     \u001b[38;5;28mself\u001b[39m\u001b[38;5;241m.\u001b[39m_resp \u001b[38;5;241m=\u001b[39m \u001b[38;5;28;01mawait\u001b[39;00m \u001b[38;5;28mself\u001b[39m\u001b[38;5;241m.\u001b[39m_coro\n\u001b[1;32m   1139\u001b[0m     \u001b[38;5;28;01mreturn\u001b[39;00m \u001b[38;5;28mself\u001b[39m\u001b[38;5;241m.\u001b[39m_resp\n",
      "File \u001b[0;32m/opt/hostedtoolcache/Python/3.9.10/x64/lib/python3.9/site-packages/aiohttp/client.py:559\u001b[0m, in \u001b[0;36mClientSession._request\u001b[0;34m(self, method, str_or_url, params, data, json, cookies, headers, skip_auto_headers, auth, allow_redirects, max_redirects, compress, chunked, expect100, raise_for_status, read_until_eof, proxy, proxy_auth, timeout, verify_ssl, fingerprint, ssl_context, ssl, proxy_headers, trace_request_ctx, read_bufsize)\u001b[0m\n\u001b[1;32m    557\u001b[0m resp \u001b[38;5;241m=\u001b[39m \u001b[38;5;28;01mawait\u001b[39;00m req\u001b[38;5;241m.\u001b[39msend(conn)\n\u001b[1;32m    558\u001b[0m \u001b[38;5;28;01mtry\u001b[39;00m:\n\u001b[0;32m--> 559\u001b[0m     \u001b[38;5;28;01mawait\u001b[39;00m resp\u001b[38;5;241m.\u001b[39mstart(conn)\n\u001b[1;32m    560\u001b[0m \u001b[38;5;28;01mexcept\u001b[39;00m \u001b[38;5;167;01mBaseException\u001b[39;00m:\n\u001b[1;32m    561\u001b[0m     resp\u001b[38;5;241m.\u001b[39mclose()\n",
      "File \u001b[0;32m/opt/hostedtoolcache/Python/3.9.10/x64/lib/python3.9/site-packages/aiohttp/client_reqrep.py:913\u001b[0m, in \u001b[0;36mClientResponse.start\u001b[0;34m(self, connection)\u001b[0m\n\u001b[1;32m    911\u001b[0m         \u001b[38;5;28;01mif\u001b[39;00m \u001b[38;5;28mself\u001b[39m\u001b[38;5;241m.\u001b[39m_continue \u001b[38;5;129;01mis\u001b[39;00m \u001b[38;5;129;01mnot\u001b[39;00m \u001b[38;5;28;01mNone\u001b[39;00m:\n\u001b[1;32m    912\u001b[0m             set_result(\u001b[38;5;28mself\u001b[39m\u001b[38;5;241m.\u001b[39m_continue, \u001b[38;5;28;01mTrue\u001b[39;00m)\n\u001b[0;32m--> 913\u001b[0m             \u001b[38;5;28mself\u001b[39m\u001b[38;5;241m.\u001b[39m_continue \u001b[38;5;241m=\u001b[39m \u001b[38;5;28;01mNone\u001b[39;00m\n\u001b[1;32m    915\u001b[0m \u001b[38;5;66;03m# payload eof handler\u001b[39;00m\n\u001b[1;32m    916\u001b[0m payload\u001b[38;5;241m.\u001b[39mon_eof(\u001b[38;5;28mself\u001b[39m\u001b[38;5;241m.\u001b[39m_response_eof)\n",
      "File \u001b[0;32m/opt/hostedtoolcache/Python/3.9.10/x64/lib/python3.9/site-packages/aiohttp/helpers.py:721\u001b[0m, in \u001b[0;36mTimerContext.__exit__\u001b[0;34m(self, exc_type, exc_val, exc_tb)\u001b[0m\n\u001b[1;32m    718\u001b[0m     \u001b[38;5;28mself\u001b[39m\u001b[38;5;241m.\u001b[39m_tasks\u001b[38;5;241m.\u001b[39mpop()\n\u001b[1;32m    720\u001b[0m \u001b[38;5;28;01mif\u001b[39;00m exc_type \u001b[38;5;129;01mis\u001b[39;00m asyncio\u001b[38;5;241m.\u001b[39mCancelledError \u001b[38;5;129;01mand\u001b[39;00m \u001b[38;5;28mself\u001b[39m\u001b[38;5;241m.\u001b[39m_cancelled:\n\u001b[0;32m--> 721\u001b[0m     \u001b[38;5;28;01mraise\u001b[39;00m asyncio\u001b[38;5;241m.\u001b[39mTimeoutError \u001b[38;5;28;01mfrom\u001b[39;00m \u001b[38;5;28mNone\u001b[39m\n\u001b[1;32m    722\u001b[0m \u001b[38;5;28;01mreturn\u001b[39;00m \u001b[38;5;28;01mNone\u001b[39;00m\n",
      "\u001b[0;31mTimeoutError\u001b[0m: "
     ]
    }
   ],
   "source": [
    "if knack:\n",
    "  await knack.publish(tabel.fillna(0).assign(Datum=tabel.Datum.dt.strftime('%Y-%m-%d')), 'Leeftijdsgroep', Cache)"
   ]
  }
 ],
 "metadata": {
  "jupytext": {
   "cell_metadata_filter": "title,-all"
  },
  "kernelspec": {
   "display_name": "Python 3 (ipykernel)",
   "language": "python",
   "name": "python3"
  },
  "language_info": {
   "codemirror_mode": {
    "name": "ipython",
    "version": 3
   },
   "file_extension": ".py",
   "mimetype": "text/x-python",
   "name": "python",
   "nbconvert_exporter": "python",
   "pygments_lexer": "ipython3",
   "version": "3.9.10"
  },
  "papermill": {
   "default_parameters": {},
   "duration": 996.630324,
   "end_time": "2022-01-27T14:45:52.575471",
   "environment_variables": {},
   "exception": true,
   "input_path": "-",
   "output_path": "LeeftijdsgroepenLandelijk.ipynb",
   "parameters": {},
   "start_time": "2022-01-27T14:29:15.945147",
   "version": "2.3.4"
  }
 },
 "nbformat": 4,
 "nbformat_minor": 5
}