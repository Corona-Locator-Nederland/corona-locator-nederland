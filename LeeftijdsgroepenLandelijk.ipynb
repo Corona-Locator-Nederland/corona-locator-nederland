{
 "cells": [
  {
   "cell_type": "code",
   "execution_count": 1,
   "id": "df8c059f",
   "metadata": {
    "execution": {
     "iopub.execute_input": "2022-11-17T12:55:21.061390Z",
     "iopub.status.busy": "2022-11-17T12:55:21.060944Z",
     "iopub.status.idle": "2022-11-17T12:55:24.078443Z",
     "shell.execute_reply": "2022-11-17T12:55:24.077361Z"
    },
    "lines_to_next_cell": 1,
    "papermill": {
     "duration": 3.025021,
     "end_time": "2022-11-17T12:55:24.081368",
     "exception": false,
     "start_time": "2022-11-17T12:55:21.056347",
     "status": "completed"
    },
    "tags": []
   },
   "outputs": [
    {
     "name": "stderr",
     "output_type": "stream",
     "text": [
      "/tmp/ipykernel_1863/2820714271.py:2: DeprecationWarning: Importing display from IPython.core.display is deprecated since IPython 7.14, please import from IPython display\n",
      "  from IPython.core.display import display\n"
     ]
    }
   ],
   "source": [
    "from IPython import get_ipython\n",
    "from IPython.core.display import display\n",
    "get_ipython().run_line_magic('load_ext', 'autoreload')\n",
    "get_ipython().run_line_magic('autoreload', '2')\n",
    "get_ipython().run_line_magic('run', 'setup')"
   ]
  },
  {
   "cell_type": "code",
   "execution_count": 2,
   "id": "a1670efc",
   "metadata": {
    "execution": {
     "iopub.execute_input": "2022-11-17T12:55:24.089006Z",
     "iopub.status.busy": "2022-11-17T12:55:24.088033Z",
     "iopub.status.idle": "2022-11-17T12:55:36.149346Z",
     "shell.execute_reply": "2022-11-17T12:55:36.148381Z"
    },
    "lines_to_next_cell": 1,
    "papermill": {
     "duration": 12.066851,
     "end_time": "2022-11-17T12:55:36.151372",
     "exception": false,
     "start_time": "2022-11-17T12:55:24.084521",
     "status": "completed"
    },
    "tags": [],
    "title": "Leeftijdsgroepen: download RIVM casus-data"
   },
   "outputs": [
    {
     "name": "stdout",
     "output_type": "stream",
     "text": [
      "rivm/COVID-19_casus_landelijk-2022-11-16@14-15.csv exists\n"
     ]
    },
    {
     "name": "stdout",
     "output_type": "stream",
     "text": [
      "loading rivm/COVID-19_casus_landelijk-2022-11-16@14-15.csv.gz\n"
     ]
    },
    {
     "data": {
      "text/html": [
       "<div>\n",
       "<style scoped>\n",
       "    .dataframe tbody tr th:only-of-type {\n",
       "        vertical-align: middle;\n",
       "    }\n",
       "\n",
       "    .dataframe tbody tr th {\n",
       "        vertical-align: top;\n",
       "    }\n",
       "\n",
       "    .dataframe thead th {\n",
       "        text-align: right;\n",
       "    }\n",
       "</style>\n",
       "<table border=\"1\" class=\"dataframe\">\n",
       "  <thead>\n",
       "    <tr style=\"text-align: right;\">\n",
       "      <th></th>\n",
       "      <th>Version</th>\n",
       "      <th>Date_file</th>\n",
       "      <th>Date_statistics</th>\n",
       "      <th>Date_statistics_type</th>\n",
       "      <th>Agegroup</th>\n",
       "      <th>Sex</th>\n",
       "      <th>Province</th>\n",
       "      <th>Deceased</th>\n",
       "      <th>Week_of_death</th>\n",
       "      <th>Municipal_health_service</th>\n",
       "    </tr>\n",
       "  </thead>\n",
       "  <tbody>\n",
       "    <tr>\n",
       "      <th>0</th>\n",
       "      <td>6</td>\n",
       "      <td>2022-11-15 10:00:00</td>\n",
       "      <td>2021-10-04</td>\n",
       "      <td>DPL</td>\n",
       "      <td>50-59</td>\n",
       "      <td>Male</td>\n",
       "      <td>Zuid-Holland</td>\n",
       "      <td>No</td>\n",
       "      <td>NaN</td>\n",
       "      <td>GGD Haaglanden</td>\n",
       "    </tr>\n",
       "    <tr>\n",
       "      <th>1</th>\n",
       "      <td>6</td>\n",
       "      <td>2022-11-15 10:00:00</td>\n",
       "      <td>2021-10-04</td>\n",
       "      <td>DPL</td>\n",
       "      <td>10-19</td>\n",
       "      <td>Male</td>\n",
       "      <td>Zuid-Holland</td>\n",
       "      <td>No</td>\n",
       "      <td>NaN</td>\n",
       "      <td>GGD Haaglanden</td>\n",
       "    </tr>\n",
       "    <tr>\n",
       "      <th>2</th>\n",
       "      <td>6</td>\n",
       "      <td>2022-11-15 10:00:00</td>\n",
       "      <td>2021-10-04</td>\n",
       "      <td>DPL</td>\n",
       "      <td>20-29</td>\n",
       "      <td>Male</td>\n",
       "      <td>Groningen</td>\n",
       "      <td>No</td>\n",
       "      <td>NaN</td>\n",
       "      <td>GGD Groningen</td>\n",
       "    </tr>\n",
       "    <tr>\n",
       "      <th>3</th>\n",
       "      <td>6</td>\n",
       "      <td>2022-11-15 10:00:00</td>\n",
       "      <td>2021-10-04</td>\n",
       "      <td>DOO</td>\n",
       "      <td>0-9</td>\n",
       "      <td>Male</td>\n",
       "      <td>Noord-Brabant</td>\n",
       "      <td>No</td>\n",
       "      <td>NaN</td>\n",
       "      <td>GGD Hart voor Brabant</td>\n",
       "    </tr>\n",
       "    <tr>\n",
       "      <th>4</th>\n",
       "      <td>6</td>\n",
       "      <td>2022-11-15 10:00:00</td>\n",
       "      <td>2021-10-04</td>\n",
       "      <td>DOO</td>\n",
       "      <td>30-39</td>\n",
       "      <td>Female</td>\n",
       "      <td>Zuid-Holland</td>\n",
       "      <td>No</td>\n",
       "      <td>NaN</td>\n",
       "      <td>GGD Hollands-Midden</td>\n",
       "    </tr>\n",
       "  </tbody>\n",
       "</table>\n",
       "</div>"
      ],
      "text/plain": [
       "   Version            Date_file Date_statistics Date_statistics_type Agegroup  \\\n",
       "0        6  2022-11-15 10:00:00      2021-10-04                  DPL    50-59   \n",
       "1        6  2022-11-15 10:00:00      2021-10-04                  DPL    10-19   \n",
       "2        6  2022-11-15 10:00:00      2021-10-04                  DPL    20-29   \n",
       "3        6  2022-11-15 10:00:00      2021-10-04                  DOO      0-9   \n",
       "4        6  2022-11-15 10:00:00      2021-10-04                  DOO    30-39   \n",
       "\n",
       "      Sex       Province Deceased  Week_of_death Municipal_health_service  \n",
       "0    Male   Zuid-Holland       No            NaN           GGD Haaglanden  \n",
       "1    Male   Zuid-Holland       No            NaN           GGD Haaglanden  \n",
       "2    Male      Groningen       No            NaN            GGD Groningen  \n",
       "3    Male  Noord-Brabant       No            NaN    GGD Hart voor Brabant  \n",
       "4  Female   Zuid-Holland       No            NaN      GGD Hollands-Midden  "
      ]
     },
     "metadata": {},
     "output_type": "display_data"
    }
   ],
   "source": [
    "# Leeftijdsgroepen: download RIVM casus-data\n",
    "@run\n",
    "def cell():\n",
    "  global rivm\n",
    "  rivm = RIVM.csv('COVID-19_casus_landelijk')\n",
    "  display(rivm.head())"
   ]
  },
  {
   "cell_type": "code",
   "execution_count": 3,
   "id": "a2da79cc",
   "metadata": {
    "execution": {
     "iopub.execute_input": "2022-11-17T12:55:36.158693Z",
     "iopub.status.busy": "2022-11-17T12:55:36.158407Z",
     "iopub.status.idle": "2022-11-17T12:55:41.017763Z",
     "shell.execute_reply": "2022-11-17T12:55:41.016988Z"
    },
    "lines_to_next_cell": 1,
    "papermill": {
     "duration": 4.866069,
     "end_time": "2022-11-17T12:55:41.020576",
     "exception": false,
     "start_time": "2022-11-17T12:55:36.154507",
     "status": "completed"
    },
    "tags": [],
    "title": "Leeftijdsgroepen: download CBS bevolkingscijfers, uitgesplitst op de leeftijdscategorien zoals bij RIVM"
   },
   "outputs": [
    {
     "name": "stderr",
     "output_type": "stream",
     "text": [
      "/home/runner/work/corona-locator-nederland/corona-locator-nederland/setup.py:146: FutureWarning: The frame.append method is deprecated and will be removed from pandas in a future version. Use pandas.concat instead.\n",
      "  data = data.append(pd.DataFrame(r['value']))\n"
     ]
    },
    {
     "name": "stderr",
     "output_type": "stream",
     "text": [
      "/home/runner/work/corona-locator-nederland/corona-locator-nederland/setup.py:146: FutureWarning: The frame.append method is deprecated and will be removed from pandas in a future version. Use pandas.concat instead.\n",
      "  data = data.append(pd.DataFrame(r['value']))\n"
     ]
    },
    {
     "name": "stderr",
     "output_type": "stream",
     "text": [
      "/home/runner/work/corona-locator-nederland/corona-locator-nederland/setup.py:146: FutureWarning: The frame.append method is deprecated and will be removed from pandas in a future version. Use pandas.concat instead.\n",
      "  data = data.append(pd.DataFrame(r['value']))\n"
     ]
    },
    {
     "name": "stderr",
     "output_type": "stream",
     "text": [
      "/home/runner/work/corona-locator-nederland/corona-locator-nederland/setup.py:146: FutureWarning: The frame.append method is deprecated and will be removed from pandas in a future version. Use pandas.concat instead.\n",
      "  data = data.append(pd.DataFrame(r['value']))\n"
     ]
    },
    {
     "name": "stderr",
     "output_type": "stream",
     "text": [
      "/home/runner/work/corona-locator-nederland/corona-locator-nederland/setup.py:146: FutureWarning: The frame.append method is deprecated and will be removed from pandas in a future version. Use pandas.concat instead.\n",
      "  data = data.append(pd.DataFrame(r['value']))\n"
     ]
    },
    {
     "name": "stderr",
     "output_type": "stream",
     "text": [
      "/home/runner/work/corona-locator-nederland/corona-locator-nederland/setup.py:146: FutureWarning: The frame.append method is deprecated and will be removed from pandas in a future version. Use pandas.concat instead.\n",
      "  data = data.append(pd.DataFrame(r['value']))\n"
     ]
    },
    {
     "name": "stderr",
     "output_type": "stream",
     "text": [
      "/home/runner/work/corona-locator-nederland/corona-locator-nederland/setup.py:146: FutureWarning: The frame.append method is deprecated and will be removed from pandas in a future version. Use pandas.concat instead.\n",
      "  data = data.append(pd.DataFrame(r['value']))\n"
     ]
    },
    {
     "data": {
      "text/html": [
       "<div>\n",
       "<style scoped>\n",
       "    .dataframe tbody tr th:only-of-type {\n",
       "        vertical-align: middle;\n",
       "    }\n",
       "\n",
       "    .dataframe tbody tr th {\n",
       "        vertical-align: top;\n",
       "    }\n",
       "\n",
       "    .dataframe thead th {\n",
       "        text-align: right;\n",
       "    }\n",
       "</style>\n",
       "<table border=\"1\" class=\"dataframe\">\n",
       "  <thead>\n",
       "    <tr style=\"text-align: right;\">\n",
       "      <th></th>\n",
       "      <th>BevolkingOpDeEersteVanDeMaand</th>\n",
       "      <th>per 100k</th>\n",
       "    </tr>\n",
       "    <tr>\n",
       "      <th>Range</th>\n",
       "      <th></th>\n",
       "      <th></th>\n",
       "    </tr>\n",
       "  </thead>\n",
       "  <tbody>\n",
       "    <tr>\n",
       "      <th>0-9</th>\n",
       "      <td>1768001</td>\n",
       "      <td>0.056561</td>\n",
       "    </tr>\n",
       "    <tr>\n",
       "      <th>10-19</th>\n",
       "      <td>1988652</td>\n",
       "      <td>0.050285</td>\n",
       "    </tr>\n",
       "    <tr>\n",
       "      <th>20-29</th>\n",
       "      <td>2310274</td>\n",
       "      <td>0.043285</td>\n",
       "    </tr>\n",
       "    <tr>\n",
       "      <th>30-39</th>\n",
       "      <td>2276633</td>\n",
       "      <td>0.043925</td>\n",
       "    </tr>\n",
       "    <tr>\n",
       "      <th>40-49</th>\n",
       "      <td>2125958</td>\n",
       "      <td>0.047038</td>\n",
       "    </tr>\n",
       "  </tbody>\n",
       "</table>\n",
       "</div>"
      ],
      "text/plain": [
       "       BevolkingOpDeEersteVanDeMaand  per 100k\n",
       "Range                                         \n",
       "0-9                          1768001  0.056561\n",
       "10-19                        1988652  0.050285\n",
       "20-29                        2310274  0.043285\n",
       "30-39                        2276633  0.043925\n",
       "40-49                        2125958  0.047038"
      ]
     },
     "metadata": {},
     "output_type": "display_data"
    }
   ],
   "source": [
    "# Leeftijdsgroepen: download CBS bevolkingscijfers, uitgesplitst op de leeftijdscategorien zoals bij RIVM\n",
    "@run\n",
    "def cell():\n",
    "  global bevolking\n",
    "  # probeer de laatste leeftijdsgroepen op te halen bij het CBS, ververs de fallback-file \n",
    "  try:\n",
    "    bevolking = CBS.bevolking(leeftijdsgroepen=True)\n",
    "    bevolking.to_csv(\"cbs/leeftijdsgroepen_cbs.csv\")\n",
    "  # als het niet is gelukt de CBS file op te halen, gebruik de fallback-file en pas de index klom aan\n",
    "  except Exception as e:\n",
    "    print(e)\n",
    "    bevolking = pd.read_csv(\"cbs/leeftijdsgroepen_cbs.csv\")\n",
    "    bevolking.set_index('Range', inplace=True)\n",
    "  display(bevolking.head())"
   ]
  },
  {
   "cell_type": "code",
   "execution_count": 4,
   "id": "d8ceda81",
   "metadata": {
    "execution": {
     "iopub.execute_input": "2022-11-17T12:55:41.028993Z",
     "iopub.status.busy": "2022-11-17T12:55:41.028142Z",
     "iopub.status.idle": "2022-11-17T12:56:11.021335Z",
     "shell.execute_reply": "2022-11-17T12:56:11.020324Z"
    },
    "lines_to_next_cell": 1,
    "papermill": {
     "duration": 30.000183,
     "end_time": "2022-11-17T12:56:11.023834",
     "exception": false,
     "start_time": "2022-11-17T12:55:41.023651",
     "status": "completed"
    },
    "tags": [],
    "title": "Leeftijdsgroepen: bereken per cohort besmettingen / opnamen / sterfte (incl. kleurcode), in aantal en per 100k. Vervang <50 en Unknown door Onbekend"
   },
   "outputs": [
    {
     "data": {
      "text/html": [
       "<div>\n",
       "<style scoped>\n",
       "    .dataframe tbody tr th:only-of-type {\n",
       "        vertical-align: middle;\n",
       "    }\n",
       "\n",
       "    .dataframe tbody tr th {\n",
       "        vertical-align: top;\n",
       "    }\n",
       "\n",
       "    .dataframe thead th {\n",
       "        text-align: right;\n",
       "    }\n",
       "</style>\n",
       "<table border=\"1\" class=\"dataframe\">\n",
       "  <thead>\n",
       "    <tr style=\"text-align: right;\">\n",
       "      <th></th>\n",
       "      <th>Date_file</th>\n",
       "      <th>Date_statistics</th>\n",
       "      <th>Date_statistics_type</th>\n",
       "      <th>Agegroup</th>\n",
       "      <th>Sex</th>\n",
       "      <th>Province</th>\n",
       "      <th>Deceased</th>\n",
       "      <th>Week_of_death</th>\n",
       "      <th>Municipal_health_service</th>\n",
       "    </tr>\n",
       "  </thead>\n",
       "  <tbody>\n",
       "    <tr>\n",
       "      <th>0</th>\n",
       "      <td>2022-11-15 10:00:00</td>\n",
       "      <td>2021-10-04</td>\n",
       "      <td>DPL</td>\n",
       "      <td>50-59</td>\n",
       "      <td>Male</td>\n",
       "      <td>Zuid-Holland</td>\n",
       "      <td>No</td>\n",
       "      <td>NaN</td>\n",
       "      <td>GGD Haaglanden</td>\n",
       "    </tr>\n",
       "    <tr>\n",
       "      <th>1</th>\n",
       "      <td>2022-11-15 10:00:00</td>\n",
       "      <td>2021-10-04</td>\n",
       "      <td>DPL</td>\n",
       "      <td>10-19</td>\n",
       "      <td>Male</td>\n",
       "      <td>Zuid-Holland</td>\n",
       "      <td>No</td>\n",
       "      <td>NaN</td>\n",
       "      <td>GGD Haaglanden</td>\n",
       "    </tr>\n",
       "    <tr>\n",
       "      <th>2</th>\n",
       "      <td>2022-11-15 10:00:00</td>\n",
       "      <td>2021-10-04</td>\n",
       "      <td>DPL</td>\n",
       "      <td>20-29</td>\n",
       "      <td>Male</td>\n",
       "      <td>Groningen</td>\n",
       "      <td>No</td>\n",
       "      <td>NaN</td>\n",
       "      <td>GGD Groningen</td>\n",
       "    </tr>\n",
       "    <tr>\n",
       "      <th>3</th>\n",
       "      <td>2022-11-15 10:00:00</td>\n",
       "      <td>2021-10-04</td>\n",
       "      <td>DOO</td>\n",
       "      <td>0-9</td>\n",
       "      <td>Male</td>\n",
       "      <td>Noord-Brabant</td>\n",
       "      <td>No</td>\n",
       "      <td>NaN</td>\n",
       "      <td>GGD Hart voor Brabant</td>\n",
       "    </tr>\n",
       "    <tr>\n",
       "      <th>4</th>\n",
       "      <td>2022-11-15 10:00:00</td>\n",
       "      <td>2021-10-04</td>\n",
       "      <td>DOO</td>\n",
       "      <td>30-39</td>\n",
       "      <td>Female</td>\n",
       "      <td>Zuid-Holland</td>\n",
       "      <td>No</td>\n",
       "      <td>NaN</td>\n",
       "      <td>GGD Hollands-Midden</td>\n",
       "    </tr>\n",
       "  </tbody>\n",
       "</table>\n",
       "</div>"
      ],
      "text/plain": [
       "             Date_file Date_statistics Date_statistics_type Agegroup     Sex  \\\n",
       "0  2022-11-15 10:00:00      2021-10-04                  DPL    50-59    Male   \n",
       "1  2022-11-15 10:00:00      2021-10-04                  DPL    10-19    Male   \n",
       "2  2022-11-15 10:00:00      2021-10-04                  DPL    20-29    Male   \n",
       "3  2022-11-15 10:00:00      2021-10-04                  DOO      0-9    Male   \n",
       "4  2022-11-15 10:00:00      2021-10-04                  DOO    30-39  Female   \n",
       "\n",
       "        Province Deceased  Week_of_death Municipal_health_service  \n",
       "0   Zuid-Holland       No            NaN           GGD Haaglanden  \n",
       "1   Zuid-Holland       No            NaN           GGD Haaglanden  \n",
       "2      Groningen       No            NaN            GGD Groningen  \n",
       "3  Noord-Brabant       No            NaN    GGD Hart voor Brabant  \n",
       "4   Zuid-Holland       No            NaN      GGD Hollands-Midden  "
      ]
     },
     "metadata": {},
     "output_type": "display_data"
    },
    {
     "data": {
      "text/html": [
       "<div>\n",
       "<style scoped>\n",
       "    .dataframe tbody tr th:only-of-type {\n",
       "        vertical-align: middle;\n",
       "    }\n",
       "\n",
       "    .dataframe tbody tr th {\n",
       "        vertical-align: top;\n",
       "    }\n",
       "\n",
       "    .dataframe thead th {\n",
       "        text-align: right;\n",
       "    }\n",
       "</style>\n",
       "<table border=\"1\" class=\"dataframe\">\n",
       "  <thead>\n",
       "    <tr style=\"text-align: right;\">\n",
       "      <th></th>\n",
       "      <th>Key</th>\n",
       "      <th>Weken terug</th>\n",
       "      <th>Datum</th>\n",
       "      <th>Periode</th>\n",
       "      <th>Gemiddelde leeftijd</th>\n",
       "      <th>Totaal</th>\n",
       "      <th>Type</th>\n",
       "      <th>0-9</th>\n",
       "      <th>10-19</th>\n",
       "      <th>20-29</th>\n",
       "      <th>...</th>\n",
       "      <th>c10-19</th>\n",
       "      <th>c20-29</th>\n",
       "      <th>c30-39</th>\n",
       "      <th>c40-49</th>\n",
       "      <th>c50-59</th>\n",
       "      <th>c60-69</th>\n",
       "      <th>c70-79</th>\n",
       "      <th>c80-89</th>\n",
       "      <th>c90+</th>\n",
       "      <th>cOnbekend</th>\n",
       "    </tr>\n",
       "  </thead>\n",
       "  <tbody>\n",
       "    <tr>\n",
       "      <th>0</th>\n",
       "      <td>p000</td>\n",
       "      <td>0</td>\n",
       "      <td>2022-11-15</td>\n",
       "      <td>09/11-15/11</td>\n",
       "      <td>48.507937</td>\n",
       "      <td>4411.0</td>\n",
       "      <td>Positief getest</td>\n",
       "      <td>114.0</td>\n",
       "      <td>264.0</td>\n",
       "      <td>537.0</td>\n",
       "      <td>...</td>\n",
       "      <td>355</td>\n",
       "      <td>722</td>\n",
       "      <td>987</td>\n",
       "      <td>990</td>\n",
       "      <td>1000</td>\n",
       "      <td>643</td>\n",
       "      <td>551</td>\n",
       "      <td>398</td>\n",
       "      <td>131</td>\n",
       "      <td>1</td>\n",
       "    </tr>\n",
       "    <tr>\n",
       "      <th>1</th>\n",
       "      <td>p001</td>\n",
       "      <td>1</td>\n",
       "      <td>2022-11-15</td>\n",
       "      <td>02/11-08/11</td>\n",
       "      <td>50.311661</td>\n",
       "      <td>7075.0</td>\n",
       "      <td>Positief getest</td>\n",
       "      <td>151.0</td>\n",
       "      <td>336.0</td>\n",
       "      <td>844.0</td>\n",
       "      <td>...</td>\n",
       "      <td>283</td>\n",
       "      <td>712</td>\n",
       "      <td>952</td>\n",
       "      <td>958</td>\n",
       "      <td>1000</td>\n",
       "      <td>712</td>\n",
       "      <td>600</td>\n",
       "      <td>432</td>\n",
       "      <td>190</td>\n",
       "      <td>0</td>\n",
       "    </tr>\n",
       "    <tr>\n",
       "      <th>2</th>\n",
       "      <td>p002</td>\n",
       "      <td>2</td>\n",
       "      <td>2022-11-15</td>\n",
       "      <td>26/10-01/11</td>\n",
       "      <td>50.911627</td>\n",
       "      <td>11113.0</td>\n",
       "      <td>Positief getest</td>\n",
       "      <td>197.0</td>\n",
       "      <td>462.0</td>\n",
       "      <td>1350.0</td>\n",
       "      <td>...</td>\n",
       "      <td>230</td>\n",
       "      <td>672</td>\n",
       "      <td>815</td>\n",
       "      <td>871</td>\n",
       "      <td>1000</td>\n",
       "      <td>717</td>\n",
       "      <td>577</td>\n",
       "      <td>411</td>\n",
       "      <td>139</td>\n",
       "      <td>0</td>\n",
       "    </tr>\n",
       "    <tr>\n",
       "      <th>3</th>\n",
       "      <td>p003</td>\n",
       "      <td>3</td>\n",
       "      <td>2022-11-15</td>\n",
       "      <td>19/10-25/10</td>\n",
       "      <td>52.799751</td>\n",
       "      <td>16082.0</td>\n",
       "      <td>Positief getest</td>\n",
       "      <td>232.0</td>\n",
       "      <td>578.0</td>\n",
       "      <td>1686.0</td>\n",
       "      <td>...</td>\n",
       "      <td>197</td>\n",
       "      <td>576</td>\n",
       "      <td>769</td>\n",
       "      <td>819</td>\n",
       "      <td>1000</td>\n",
       "      <td>816</td>\n",
       "      <td>619</td>\n",
       "      <td>459</td>\n",
       "      <td>157</td>\n",
       "      <td>0</td>\n",
       "    </tr>\n",
       "    <tr>\n",
       "      <th>4</th>\n",
       "      <td>p004</td>\n",
       "      <td>4</td>\n",
       "      <td>2022-11-15</td>\n",
       "      <td>12/10-18/10</td>\n",
       "      <td>53.966554</td>\n",
       "      <td>21948.0</td>\n",
       "      <td>Positief getest</td>\n",
       "      <td>259.0</td>\n",
       "      <td>659.0</td>\n",
       "      <td>2161.0</td>\n",
       "      <td>...</td>\n",
       "      <td>162</td>\n",
       "      <td>534</td>\n",
       "      <td>738</td>\n",
       "      <td>760</td>\n",
       "      <td>1000</td>\n",
       "      <td>864</td>\n",
       "      <td>684</td>\n",
       "      <td>454</td>\n",
       "      <td>163</td>\n",
       "      <td>0</td>\n",
       "    </tr>\n",
       "  </tbody>\n",
       "</table>\n",
       "<p>5 rows × 29 columns</p>\n",
       "</div>"
      ],
      "text/plain": [
       "    Key  Weken terug      Datum      Periode  Gemiddelde leeftijd   Totaal  \\\n",
       "0  p000            0 2022-11-15  09/11-15/11            48.507937   4411.0   \n",
       "1  p001            1 2022-11-15  02/11-08/11            50.311661   7075.0   \n",
       "2  p002            2 2022-11-15  26/10-01/11            50.911627  11113.0   \n",
       "3  p003            3 2022-11-15  19/10-25/10            52.799751  16082.0   \n",
       "4  p004            4 2022-11-15  12/10-18/10            53.966554  21948.0   \n",
       "\n",
       "              Type    0-9  10-19   20-29  ...  c10-19  c20-29  c30-39  c40-49  \\\n",
       "0  Positief getest  114.0  264.0   537.0  ...     355     722     987     990   \n",
       "1  Positief getest  151.0  336.0   844.0  ...     283     712     952     958   \n",
       "2  Positief getest  197.0  462.0  1350.0  ...     230     672     815     871   \n",
       "3  Positief getest  232.0  578.0  1686.0  ...     197     576     769     819   \n",
       "4  Positief getest  259.0  659.0  2161.0  ...     162     534     738     760   \n",
       "\n",
       "   c50-59  c60-69  c70-79  c80-89  c90+  cOnbekend  \n",
       "0    1000     643     551     398   131          1  \n",
       "1    1000     712     600     432   190          0  \n",
       "2    1000     717     577     411   139          0  \n",
       "3    1000     816     619     459   157          0  \n",
       "4    1000     864     684     454   163          0  \n",
       "\n",
       "[5 rows x 29 columns]"
      ]
     },
     "metadata": {},
     "output_type": "display_data"
    }
   ],
   "source": [
    "# Leeftijdsgroepen: bereken per cohort besmettingen / opnamen / sterfte (incl. kleurcode), in aantal en per 100k. Vervang <50 en Unknown door Onbekend\n",
    "@run\n",
    "def cell():\n",
    "  #  kolom is in version 2 per 18-1-22 toegevoegd, verwijderen:\n",
    "  rivm.drop('Version', inplace=True, axis=1)\n",
    "  display(rivm.head())\n",
    "  rivm['Cohort'] = rivm['Agegroup'].replace({'<50': 'Onbekend', 'Unknown': 'Onbekend'})\n",
    "  # aangenomen 'gemiddelde' leeftijd van een cohort: minimum waarde + 5\n",
    "  assumed_cohort_age = [(cohort, [int(n) for n in cohort.replace('+', '').split('-')]) for cohort in rivm['Cohort'].unique() if cohort[0].isdigit()]\n",
    "  assumed_cohort_age = { cohort: min(rng) + 5 for cohort, rng in assumed_cohort_age }\n",
    "  rivm['Gemiddelde leeftijd'] = rivm['Cohort'].apply(lambda x: assumed_cohort_age.get(x, np.nan))\n",
    "\n",
    "  # verwijder tijd\n",
    "  rivm['Date_file_date'] = pd.to_datetime(rivm['Date_file'].replace(r' .*', '', regex=True))\n",
    "\n",
    "  rivm['Date_statistics_date'] = pd.to_datetime(rivm['Date_statistics'])\n",
    "\n",
    "  # weken terug = verschil tussen Date_file en Date_statistcs, gedeeld door 7 dagen\n",
    "  rivm['Weken terug'] = np.floor((rivm['Date_file_date'] - rivm['Date_statistics_date'])/np.timedelta64(7, 'D')).astype(int)\n",
    "\n",
    "  # voeg key, gem leeftijd, kleurnummer en totaal toe\n",
    "  Date_file = rivm['Date_file_date'].unique()[0].astype('M8[D]').astype('O')\n",
    "  cohorten = list(bevolking.index) + ['Onbekend']\n",
    "\n",
    "  def summarize(df, category, prefix):\n",
    "    # aangezien we hier de dataframe in-place wijzigen (bijv door toevoegen kolommen)\n",
    "    # en we het 'rivm' frame later nog clean nodig hebben\n",
    "    df = df.copy(deep=True)\n",
    "\n",
    "    df = (df\n",
    "          .groupby(['Weken terug', 'Cohort'])['count']\n",
    "          .sum()\n",
    "          .unstack(fill_value=np.nan)\n",
    "          .reset_index()\n",
    "          .rename_axis(None, axis=1)\n",
    "        ).merge(df\n",
    "          # we voegen hier gemiddelde leeftijd toe, want die willen we op een ander\n",
    "          # niveau aggregeren voor 'df' overschreven word\n",
    "          .groupby(['Weken terug'])['Gemiddelde leeftijd']\n",
    "          .mean()\n",
    "          .to_frame(), on='Weken terug'\n",
    "        )\n",
    "\n",
    "    # altijd 52 rijen\n",
    "    df = pd.Series(np.arange(52), name='Weken terug').to_frame().merge(df, how='left', on='Weken terug')\n",
    "\n",
    "    # toevoegen missende cohorten\n",
    "    for col in cohorten:\n",
    "      if not col in df:\n",
    "        df[col] = np.nan\n",
    "\n",
    "    # sommeer per rij (axis=1) over de cohorten om een totaal te krijgen\n",
    "    df['Totaal'] = df[cohorten].sum(axis=1)\n",
    "\n",
    "    # voeg periode en datum toe\n",
    "    # periode afgeleid van weken-terug (= de index voor deze dataframe)\n",
    "    df['Datum'] = pd.to_datetime(Date_file)\n",
    "    df['Periode'] = (df\n",
    "      .index.to_series()\n",
    "      .apply(\n",
    "        lambda x: (\n",
    "          (Date_file + datetime.timedelta(weeks=-(x+1), days=1)).strftime('%d/%m')\n",
    "          + '-'\n",
    "          + (Date_file + datetime.timedelta(weeks=-x)).strftime('%d/%m')\n",
    "        )\n",
    "      )\n",
    "    )\n",
    "\n",
    "    # voeg 'Key' en 'Type' kolom toe. Variabele 'type' kan niet, is een language primitive.\n",
    "    df['Key'] = prefix + df.index.astype(str).str.rjust(3, fillchar='0')\n",
    "    df['Type'] = category\n",
    "\n",
    "    # voeg de kleur kolommen toe\n",
    "    for col in cohorten:\n",
    "      df['c' + col] = ((df[col] / df[[col for col in cohorten]].max(axis=1)) * 1000).fillna(0).astype(int)\n",
    "\n",
    "    # herschikken van de kolommen\n",
    "    colorder = ['Key', 'Weken terug', 'Datum', 'Periode', 'Gemiddelde leeftijd', 'Totaal', 'Type']\n",
    "    return df[colorder + [col for col in df if col not in colorder]]\n",
    "\n",
    "  factor = bevolking.to_dict()['per 100k']\n",
    "\n",
    "  global tabel\n",
    "  tabel = pd.concat(\n",
    "    # flatten the result list zodat pd.concat ze onder elkaar kan plakken\n",
    "    functools.reduce(lambda a, b: a + b, [\n",
    "      [summarize(df.assign(count=1), label, prefix), summarize(df.assign(count=df['Cohort'].apply(lambda x: factor.get(x, np.nan))), label + ' per 100.000', prefix + '100k')]\n",
    "      for df, label, prefix in [\n",
    "        (rivm, 'Positief getest', 'p'), # volledige count per cohort\n",
    "        (rivm[rivm.Deceased == 'Yes'], 'Overleden', 'd'), # count van cohort voor Deceased == 'Yes'\n",
    "      ]\n",
    "    ])\n",
    "  )\n",
    "\n",
    "  # bij /100k is het Totaal-veld geen optelsom maar wordt berekend obv de gehele bevolking\n",
    "  totale_bevolking_per_cohort = bevolking.to_dict()['BevolkingOpDeEersteVanDeMaand']\n",
    "  totale_bevolking = sum(totale_bevolking_per_cohort.values())\n",
    "  keys = [ key for key in tabel[\"Key\"]]\n",
    "  totals = [ x for x in tabel[\"Totaal\"]]\n",
    "  for k in range(0, len(keys)):\n",
    "    key = keys[k]\n",
    "    if '100k' in key:\n",
    "      abskey = key[0] + key[5:]\n",
    "      kk = keys.index(abskey)\n",
    "      if isinstance(totals[k], float):\n",
    "        correctedtotal = totals[kk] * (100_000 / totale_bevolking)\n",
    "        # print([k, totals[k], totals[kk], correctedtotal])\n",
    "        totals[k] = correctedtotal\n",
    "  tabel[\"Totaal\"] = totals\n",
    "\n",
    "  display(tabel.head())"
   ]
  },
  {
   "cell_type": "code",
   "execution_count": 5,
   "id": "a8733fac",
   "metadata": {
    "execution": {
     "iopub.execute_input": "2022-11-17T12:56:11.034692Z",
     "iopub.status.busy": "2022-11-17T12:56:11.034305Z",
     "iopub.status.idle": "2022-11-17T12:56:27.216305Z",
     "shell.execute_reply": "2022-11-17T12:56:27.215241Z"
    },
    "papermill": {
     "duration": 16.192885,
     "end_time": "2022-11-17T12:56:27.221020",
     "exception": false,
     "start_time": "2022-11-17T12:56:11.028135",
     "status": "completed"
    },
    "tags": [],
    "title": "publish"
   },
   "outputs": [
    {
     "name": "stdout",
     "output_type": "stream",
     "text": [
      "infinities:\n"
     ]
    },
    {
     "name": "stdout",
     "output_type": "stream",
     "text": [
      "Empty DataFrame\n",
      "Columns: []\n",
      "Index: []\n"
     ]
    },
    {
     "name": "stdout",
     "output_type": "stream",
     "text": [
      "nan:\n"
     ]
    },
    {
     "name": "stdout",
     "output_type": "stream",
     "text": [
      "Empty DataFrame\n",
      "Columns: []\n",
      "Index: []\n"
     ]
    },
    {
     "name": "stdout",
     "output_type": "stream",
     "text": [
      "updating knack\n"
     ]
    },
    {
     "name": "stdout",
     "output_type": "stream",
     "text": [
      "updating: [{'Key': 1, 'Updating Leeftijdsgroep': 'true'}]\n"
     ]
    },
    {
     "name": "stdout",
     "output_type": "stream",
     "text": [
      "restored LaatsteUpdate from hash\n"
     ]
    },
    {
     "name": "stderr",
     "output_type": "stream",
     "text": [
      "\r",
      "  0%|          | 0/1 [00:00<?, ?it/s]"
     ]
    },
    {
     "name": "stderr",
     "output_type": "stream",
     "text": [
      "\r",
      "100%|██████████| 1/1 [00:03<00:00,  3.63s/it]"
     ]
    },
    {
     "name": "stderr",
     "output_type": "stream",
     "text": [
      "\r",
      "100%|██████████| 1/1 [00:03<00:00,  3.63s/it]"
     ]
    },
    {
     "name": "stdout",
     "output_type": "stream",
     "text": [
      "\n",
      "rate limit: 7 \n",
      "LaatsteUpdate API calls: create: 0, read: 1, update: 1, delete: 0, backoff: 0\n"
     ]
    },
    {
     "name": "stderr",
     "output_type": "stream",
     "text": [
      "\n"
     ]
    },
    {
     "name": "stdout",
     "output_type": "stream",
     "text": [
      "restored Leeftijdsgroep from hash\n"
     ]
    },
    {
     "name": "stdout",
     "output_type": "stream",
     "text": [
      "nothing to do for Leeftijdsgroep\n"
     ]
    },
    {
     "name": "stdout",
     "output_type": "stream",
     "text": [
      "\n",
      "rate limit: 7 \n",
      "Leeftijdsgroep API calls: create: 0, read: 1, update: 0, delete: 0, backoff: 0\n"
     ]
    },
    {
     "name": "stdout",
     "output_type": "stream",
     "text": [
      "[{'Key': 1, 'Timestamp Leeftijdsgroep RIVM': '2022-11-16 15:15'}]\n"
     ]
    },
    {
     "name": "stdout",
     "output_type": "stream",
     "text": [
      "timestamps: [{'Key': 1, 'Timestamp Leeftijdsgroep RIVM': '2022-11-16 15:15'}]\n"
     ]
    },
    {
     "name": "stderr",
     "output_type": "stream",
     "text": [
      "\r",
      "  0%|          | 0/1 [00:00<?, ?it/s]"
     ]
    },
    {
     "name": "stderr",
     "output_type": "stream",
     "text": [
      "\r",
      "100%|██████████| 1/1 [00:03<00:00,  3.25s/it]"
     ]
    },
    {
     "name": "stderr",
     "output_type": "stream",
     "text": [
      "\r",
      "100%|██████████| 1/1 [00:03<00:00,  3.25s/it]"
     ]
    },
    {
     "name": "stdout",
     "output_type": "stream",
     "text": [
      "\n",
      "rate limit: 7 \n",
      "LaatsteUpdate API calls: create: 0, read: 0, update: 1, delete: 0, backoff: 0\n"
     ]
    },
    {
     "name": "stderr",
     "output_type": "stream",
     "text": [
      "\n"
     ]
    },
    {
     "name": "stderr",
     "output_type": "stream",
     "text": [
      "\r",
      "  0%|          | 0/1 [00:00<?, ?it/s]"
     ]
    },
    {
     "name": "stderr",
     "output_type": "stream",
     "text": [
      "\r",
      "100%|██████████| 1/1 [00:01<00:00,  1.51s/it]"
     ]
    },
    {
     "name": "stderr",
     "output_type": "stream",
     "text": [
      "\r",
      "100%|██████████| 1/1 [00:01<00:00,  1.51s/it]"
     ]
    },
    {
     "name": "stdout",
     "output_type": "stream",
     "text": [
      "\n",
      "rate limit: 7 \n",
      "UpdateDetails API calls: create: 1, read: 0, update: 0, delete: 0, backoff: 0\n"
     ]
    },
    {
     "name": "stderr",
     "output_type": "stream",
     "text": [
      "\n"
     ]
    },
    {
     "name": "stdout",
     "output_type": "stream",
     "text": [
      "updating: [{'Key': 1, 'Updating Leeftijdsgroep': 'false'}]\n"
     ]
    },
    {
     "name": "stderr",
     "output_type": "stream",
     "text": [
      "\r",
      "  0%|          | 0/1 [00:00<?, ?it/s]"
     ]
    },
    {
     "name": "stderr",
     "output_type": "stream",
     "text": [
      "\r",
      "100%|██████████| 1/1 [00:01<00:00,  1.79s/it]"
     ]
    },
    {
     "name": "stderr",
     "output_type": "stream",
     "text": [
      "\r",
      "100%|██████████| 1/1 [00:01<00:00,  1.79s/it]"
     ]
    },
    {
     "name": "stderr",
     "output_type": "stream",
     "text": [
      "\n"
     ]
    },
    {
     "name": "stdout",
     "output_type": "stream",
     "text": [
      "\n",
      "rate limit: 7 \n",
      "LaatsteUpdate API calls: create: 0, read: 0, update: 1, delete: 0, backoff: 0\n"
     ]
    }
   ],
   "source": [
    "if knack:\n",
    "  await knack.publish(tabel.fillna(0).assign(Datum=tabel.Datum.dt.strftime('%Y-%m-%d')), 'Leeftijdsgroep', Cache)"
   ]
  }
 ],
 "metadata": {
  "jupytext": {
   "cell_metadata_filter": "title,-all"
  },
  "kernelspec": {
   "display_name": "Python 3 (ipykernel)",
   "language": "python",
   "name": "python3"
  },
  "language_info": {
   "codemirror_mode": {
    "name": "ipython",
    "version": 3
   },
   "file_extension": ".py",
   "mimetype": "text/x-python",
   "name": "python",
   "nbconvert_exporter": "python",
   "pygments_lexer": "ipython3",
   "version": "3.9.15"
  },
  "papermill": {
   "default_parameters": {},
   "duration": 68.216595,
   "end_time": "2022-11-17T12:56:27.749127",
   "environment_variables": {},
   "exception": null,
   "input_path": "-",
   "output_path": "LeeftijdsgroepenLandelijk.ipynb",
   "parameters": {},
   "start_time": "2022-11-17T12:55:19.532532",
   "version": "2.4.0"
  }
 },
 "nbformat": 4,
 "nbformat_minor": 5
}