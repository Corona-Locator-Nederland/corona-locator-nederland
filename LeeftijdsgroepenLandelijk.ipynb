{
 "cells": [
  {
   "cell_type": "code",
   "execution_count": 1,
   "id": "f5b01b9b",
   "metadata": {
    "execution": {
     "iopub.execute_input": "2021-12-10T14:32:47.597143Z",
     "iopub.status.busy": "2021-12-10T14:32:47.596615Z",
     "iopub.status.idle": "2021-12-10T14:32:52.846456Z",
     "shell.execute_reply": "2021-12-10T14:32:52.846924Z"
    },
    "lines_to_next_cell": 1,
    "papermill": {
     "duration": 5.273113,
     "end_time": "2021-12-10T14:32:52.847209",
     "exception": false,
     "start_time": "2021-12-10T14:32:47.574096",
     "status": "completed"
    },
    "tags": []
   },
   "outputs": [],
   "source": [
    "from IPython import get_ipython\n",
    "from IPython.core.display import display\n",
    "get_ipython().run_line_magic('load_ext', 'autoreload')\n",
    "get_ipython().run_line_magic('autoreload', '2')\n",
    "get_ipython().run_line_magic('run', 'setup')"
   ]
  },
  {
   "cell_type": "code",
   "execution_count": 2,
   "id": "4f729b39",
   "metadata": {
    "execution": {
     "iopub.execute_input": "2021-12-10T14:32:52.877100Z",
     "iopub.status.busy": "2021-12-10T14:32:52.876609Z",
     "iopub.status.idle": "2021-12-10T14:42:54.361427Z",
     "shell.execute_reply": "2021-12-10T14:42:54.361872Z"
    },
    "lines_to_next_cell": 1,
    "papermill": {
     "duration": 601.502168,
     "end_time": "2021-12-10T14:42:54.362039",
     "exception": false,
     "start_time": "2021-12-10T14:32:52.859871",
     "status": "completed"
    },
    "tags": [],
    "title": "leeftijdsgroepen: download RIVM data"
   },
   "outputs": [
    {
     "name": "stdout",
     "output_type": "stream",
     "text": [
      "downloading rivm/COVID-19_casus_landelijk-2021-12-10@14-15.csv\n"
     ]
    },
    {
     "name": "stdout",
     "output_type": "stream",
     "text": [
      "rivm COVID-19_casus_landelijk zipping rivm/COVID-19_casus_landelijk-2021-12-10@14-15.csv\n"
     ]
    },
    {
     "name": "stdout",
     "output_type": "stream",
     "text": [
      "loading rivm/COVID-19_casus_landelijk-2021-12-10@14-15.csv.gz\n"
     ]
    },
    {
     "data": {
      "text/html": [
       "<div>\n",
       "<style scoped>\n",
       "    .dataframe tbody tr th:only-of-type {\n",
       "        vertical-align: middle;\n",
       "    }\n",
       "\n",
       "    .dataframe tbody tr th {\n",
       "        vertical-align: top;\n",
       "    }\n",
       "\n",
       "    .dataframe thead th {\n",
       "        text-align: right;\n",
       "    }\n",
       "</style>\n",
       "<table border=\"1\" class=\"dataframe\">\n",
       "  <thead>\n",
       "    <tr style=\"text-align: right;\">\n",
       "      <th></th>\n",
       "      <th>Date_file</th>\n",
       "      <th>Date_statistics</th>\n",
       "      <th>Date_statistics_type</th>\n",
       "      <th>Agegroup</th>\n",
       "      <th>Sex</th>\n",
       "      <th>Province</th>\n",
       "      <th>Hospital_admission</th>\n",
       "      <th>Deceased</th>\n",
       "      <th>Week_of_death</th>\n",
       "      <th>Municipal_health_service</th>\n",
       "    </tr>\n",
       "  </thead>\n",
       "  <tbody>\n",
       "    <tr>\n",
       "      <th>0</th>\n",
       "      <td>2021-12-10 10:00:00</td>\n",
       "      <td>2020-01-01</td>\n",
       "      <td>DOO</td>\n",
       "      <td>40-49</td>\n",
       "      <td>Female</td>\n",
       "      <td>Noord-Holland</td>\n",
       "      <td>No</td>\n",
       "      <td>No</td>\n",
       "      <td>NaN</td>\n",
       "      <td>GGD Amsterdam</td>\n",
       "    </tr>\n",
       "    <tr>\n",
       "      <th>1</th>\n",
       "      <td>2021-12-10 10:00:00</td>\n",
       "      <td>2020-01-01</td>\n",
       "      <td>DOO</td>\n",
       "      <td>50-59</td>\n",
       "      <td>Male</td>\n",
       "      <td>Gelderland</td>\n",
       "      <td>No</td>\n",
       "      <td>No</td>\n",
       "      <td>NaN</td>\n",
       "      <td>Veiligheids- en Gezondheidsregio Gelderland-Mi...</td>\n",
       "    </tr>\n",
       "    <tr>\n",
       "      <th>2</th>\n",
       "      <td>2021-12-10 10:00:00</td>\n",
       "      <td>2020-01-01</td>\n",
       "      <td>DOO</td>\n",
       "      <td>20-29</td>\n",
       "      <td>Female</td>\n",
       "      <td>Zuid-Holland</td>\n",
       "      <td>No</td>\n",
       "      <td>No</td>\n",
       "      <td>NaN</td>\n",
       "      <td>GGD Hollands-Midden</td>\n",
       "    </tr>\n",
       "    <tr>\n",
       "      <th>3</th>\n",
       "      <td>2021-12-10 10:00:00</td>\n",
       "      <td>2020-01-01</td>\n",
       "      <td>DOO</td>\n",
       "      <td>60-69</td>\n",
       "      <td>Female</td>\n",
       "      <td>Noord-Holland</td>\n",
       "      <td>No</td>\n",
       "      <td>No</td>\n",
       "      <td>NaN</td>\n",
       "      <td>GGD Hollands-Noorden</td>\n",
       "    </tr>\n",
       "    <tr>\n",
       "      <th>4</th>\n",
       "      <td>2021-12-10 10:00:00</td>\n",
       "      <td>2020-01-04</td>\n",
       "      <td>DOO</td>\n",
       "      <td>10-19</td>\n",
       "      <td>Female</td>\n",
       "      <td>Gelderland</td>\n",
       "      <td>Unknown</td>\n",
       "      <td>No</td>\n",
       "      <td>NaN</td>\n",
       "      <td>GGD Gelderland-Zuid</td>\n",
       "    </tr>\n",
       "  </tbody>\n",
       "</table>\n",
       "</div>"
      ],
      "text/plain": [
       "             Date_file Date_statistics Date_statistics_type Agegroup     Sex  \\\n",
       "0  2021-12-10 10:00:00      2020-01-01                  DOO    40-49  Female   \n",
       "1  2021-12-10 10:00:00      2020-01-01                  DOO    50-59    Male   \n",
       "2  2021-12-10 10:00:00      2020-01-01                  DOO    20-29  Female   \n",
       "3  2021-12-10 10:00:00      2020-01-01                  DOO    60-69  Female   \n",
       "4  2021-12-10 10:00:00      2020-01-04                  DOO    10-19  Female   \n",
       "\n",
       "        Province Hospital_admission Deceased  Week_of_death  \\\n",
       "0  Noord-Holland                 No       No            NaN   \n",
       "1     Gelderland                 No       No            NaN   \n",
       "2   Zuid-Holland                 No       No            NaN   \n",
       "3  Noord-Holland                 No       No            NaN   \n",
       "4     Gelderland            Unknown       No            NaN   \n",
       "\n",
       "                            Municipal_health_service  \n",
       "0                                      GGD Amsterdam  \n",
       "1  Veiligheids- en Gezondheidsregio Gelderland-Mi...  \n",
       "2                                GGD Hollands-Midden  \n",
       "3                               GGD Hollands-Noorden  \n",
       "4                                GGD Gelderland-Zuid  "
      ]
     },
     "metadata": {},
     "output_type": "display_data"
    }
   ],
   "source": [
    "#leeftijdsgroepen = SimpleNamespace()\n",
    "@run\n",
    "def cell():\n",
    "  global rivm\n",
    "  rivm = RIVM.csv('COVID-19_casus_landelijk')\n",
    "  display(rivm.head())"
   ]
  },
  {
   "cell_type": "code",
   "execution_count": 3,
   "id": "8e03bd52",
   "metadata": {
    "execution": {
     "iopub.execute_input": "2021-12-10T14:42:54.404051Z",
     "iopub.status.busy": "2021-12-10T14:42:54.403559Z",
     "iopub.status.idle": "2021-12-10T14:42:59.134678Z",
     "shell.execute_reply": "2021-12-10T14:42:59.134115Z"
    },
    "lines_to_next_cell": 1,
    "papermill": {
     "duration": 4.7564,
     "end_time": "2021-12-10T14:42:59.134829",
     "exception": false,
     "start_time": "2021-12-10T14:42:54.378429",
     "status": "completed"
    },
    "tags": [],
    "title": "Download de bevolkings cijfers van CBS, uitgesplitst op de leeftijds categorien in de dataset van het RIVM"
   },
   "outputs": [],
   "source": [
    "@run\n",
    "def cell():\n",
    "  global bevolking\n",
    "  bevolking = CBS.bevolking(leeftijdsgroepen=True)"
   ]
  },
  {
   "cell_type": "code",
   "execution_count": 4,
   "id": "9b1c3239",
   "metadata": {
    "execution": {
     "iopub.execute_input": "2021-12-10T14:42:59.182523Z",
     "iopub.status.busy": "2021-12-10T14:42:59.176816Z",
     "iopub.status.idle": "2021-12-10T14:43:09.981421Z",
     "shell.execute_reply": "2021-12-10T14:43:09.981000Z"
    },
    "lines_to_next_cell": 1,
    "papermill": {
     "duration": 10.829776,
     "end_time": "2021-12-10T14:43:09.981548",
     "exception": false,
     "start_time": "2021-12-10T14:42:59.151772",
     "status": "completed"
    },
    "tags": [],
    "title": "leeftijdsgroepen: prepareer tabel"
   },
   "outputs": [
    {
     "data": {
      "text/html": [
       "<style type=\"text/css\">\n",
       "#T_dbc16_row0_col7, #T_dbc16_row0_col10, #T_dbc16_row1_col10, #T_dbc16_row2_col8, #T_dbc16_row3_col8, #T_dbc16_row4_col8 {\n",
       "  background-color: #440154;\n",
       "  color: #f1f1f1;\n",
       "}\n",
       "#T_dbc16_row0_col8 {\n",
       "  background-color: #440256;\n",
       "  color: #f1f1f1;\n",
       "}\n",
       "#T_dbc16_row0_col9, #T_dbc16_row3_col7 {\n",
       "  background-color: #375b8d;\n",
       "  color: #f1f1f1;\n",
       "}\n",
       "#T_dbc16_row0_col11, #T_dbc16_row3_col10 {\n",
       "  background-color: #482374;\n",
       "  color: #f1f1f1;\n",
       "}\n",
       "#T_dbc16_row0_col12, #T_dbc16_row4_col7 {\n",
       "  background-color: #2f6b8e;\n",
       "  color: #f1f1f1;\n",
       "}\n",
       "#T_dbc16_row0_col13 {\n",
       "  background-color: #1f9a8a;\n",
       "  color: #f1f1f1;\n",
       "}\n",
       "#T_dbc16_row0_col14 {\n",
       "  background-color: #50c46a;\n",
       "  color: #000000;\n",
       "}\n",
       "#T_dbc16_row0_col15 {\n",
       "  background-color: #95d840;\n",
       "  color: #000000;\n",
       "}\n",
       "#T_dbc16_row0_col16, #T_dbc16_row2_col16, #T_dbc16_row3_col16 {\n",
       "  background-color: #dfe318;\n",
       "  color: #000000;\n",
       "}\n",
       "#T_dbc16_row0_col17, #T_dbc16_row1_col17, #T_dbc16_row2_col17, #T_dbc16_row3_col17, #T_dbc16_row4_col17 {\n",
       "  background-color: #fde725;\n",
       "  color: #000000;\n",
       "}\n",
       "#T_dbc16_row1_col7 {\n",
       "  background-color: #472f7d;\n",
       "  color: #f1f1f1;\n",
       "}\n",
       "#T_dbc16_row1_col8 {\n",
       "  background-color: #450457;\n",
       "  color: #f1f1f1;\n",
       "}\n",
       "#T_dbc16_row1_col9 {\n",
       "  background-color: #39558c;\n",
       "  color: #f1f1f1;\n",
       "}\n",
       "#T_dbc16_row1_col11 {\n",
       "  background-color: #471365;\n",
       "  color: #f1f1f1;\n",
       "}\n",
       "#T_dbc16_row1_col12 {\n",
       "  background-color: #355f8d;\n",
       "  color: #f1f1f1;\n",
       "}\n",
       "#T_dbc16_row1_col13, #T_dbc16_row2_col13 {\n",
       "  background-color: #23888e;\n",
       "  color: #f1f1f1;\n",
       "}\n",
       "#T_dbc16_row1_col14 {\n",
       "  background-color: #3bbb75;\n",
       "  color: #f1f1f1;\n",
       "}\n",
       "#T_dbc16_row1_col15, #T_dbc16_row3_col15 {\n",
       "  background-color: #8bd646;\n",
       "  color: #000000;\n",
       "}\n",
       "#T_dbc16_row1_col16 {\n",
       "  background-color: #dae319;\n",
       "  color: #000000;\n",
       "}\n",
       "#T_dbc16_row2_col7 {\n",
       "  background-color: #423f85;\n",
       "  color: #f1f1f1;\n",
       "}\n",
       "#T_dbc16_row2_col9 {\n",
       "  background-color: #38598c;\n",
       "  color: #f1f1f1;\n",
       "}\n",
       "#T_dbc16_row2_col10 {\n",
       "  background-color: #481d6f;\n",
       "  color: #f1f1f1;\n",
       "}\n",
       "#T_dbc16_row2_col11 {\n",
       "  background-color: #481f70;\n",
       "  color: #f1f1f1;\n",
       "}\n",
       "#T_dbc16_row2_col12 {\n",
       "  background-color: #355e8d;\n",
       "  color: #f1f1f1;\n",
       "}\n",
       "#T_dbc16_row2_col14 {\n",
       "  background-color: #3aba76;\n",
       "  color: #f1f1f1;\n",
       "}\n",
       "#T_dbc16_row2_col15 {\n",
       "  background-color: #8ed645;\n",
       "  color: #000000;\n",
       "}\n",
       "#T_dbc16_row3_col9 {\n",
       "  background-color: #433e85;\n",
       "  color: #f1f1f1;\n",
       "}\n",
       "#T_dbc16_row3_col11 {\n",
       "  background-color: #46337f;\n",
       "  color: #f1f1f1;\n",
       "}\n",
       "#T_dbc16_row3_col12 {\n",
       "  background-color: #32648e;\n",
       "  color: #f1f1f1;\n",
       "}\n",
       "#T_dbc16_row3_col13 {\n",
       "  background-color: #25848e;\n",
       "  color: #f1f1f1;\n",
       "}\n",
       "#T_dbc16_row3_col14 {\n",
       "  background-color: #31b57b;\n",
       "  color: #f1f1f1;\n",
       "}\n",
       "#T_dbc16_row4_col9 {\n",
       "  background-color: #482677;\n",
       "  color: #f1f1f1;\n",
       "}\n",
       "#T_dbc16_row4_col10 {\n",
       "  background-color: #470e61;\n",
       "  color: #f1f1f1;\n",
       "}\n",
       "#T_dbc16_row4_col11 {\n",
       "  background-color: #472c7a;\n",
       "  color: #f1f1f1;\n",
       "}\n",
       "#T_dbc16_row4_col12 {\n",
       "  background-color: #404588;\n",
       "  color: #f1f1f1;\n",
       "}\n",
       "#T_dbc16_row4_col13 {\n",
       "  background-color: #2e6d8e;\n",
       "  color: #f1f1f1;\n",
       "}\n",
       "#T_dbc16_row4_col14 {\n",
       "  background-color: #1fa188;\n",
       "  color: #f1f1f1;\n",
       "}\n",
       "#T_dbc16_row4_col15 {\n",
       "  background-color: #73d056;\n",
       "  color: #000000;\n",
       "}\n",
       "#T_dbc16_row4_col16 {\n",
       "  background-color: #dde318;\n",
       "  color: #000000;\n",
       "}\n",
       "</style>\n",
       "<table id=\"T_dbc16_\">\n",
       "  <thead>\n",
       "    <tr>\n",
       "      <th class=\"blank level0\" >&nbsp;</th>\n",
       "      <th class=\"col_heading level0 col0\" >Key</th>\n",
       "      <th class=\"col_heading level0 col1\" >Weken terug</th>\n",
       "      <th class=\"col_heading level0 col2\" >Datum</th>\n",
       "      <th class=\"col_heading level0 col3\" >Periode</th>\n",
       "      <th class=\"col_heading level0 col4\" >Gemiddelde leeftijd</th>\n",
       "      <th class=\"col_heading level0 col5\" >Totaal</th>\n",
       "      <th class=\"col_heading level0 col6\" >Type</th>\n",
       "      <th class=\"col_heading level0 col7\" >0-9</th>\n",
       "      <th class=\"col_heading level0 col8\" >10-19</th>\n",
       "      <th class=\"col_heading level0 col9\" >20-29</th>\n",
       "      <th class=\"col_heading level0 col10\" >30-39</th>\n",
       "      <th class=\"col_heading level0 col11\" >40-49</th>\n",
       "      <th class=\"col_heading level0 col12\" >50-59</th>\n",
       "      <th class=\"col_heading level0 col13\" >60-69</th>\n",
       "      <th class=\"col_heading level0 col14\" >70-79</th>\n",
       "      <th class=\"col_heading level0 col15\" >80-89</th>\n",
       "      <th class=\"col_heading level0 col16\" >90+</th>\n",
       "      <th class=\"col_heading level0 col17\" >Onbekend</th>\n",
       "      <th class=\"col_heading level0 col18\" >c0-9</th>\n",
       "      <th class=\"col_heading level0 col19\" >c10-19</th>\n",
       "      <th class=\"col_heading level0 col20\" >c20-29</th>\n",
       "      <th class=\"col_heading level0 col21\" >c30-39</th>\n",
       "      <th class=\"col_heading level0 col22\" >c40-49</th>\n",
       "      <th class=\"col_heading level0 col23\" >c50-59</th>\n",
       "      <th class=\"col_heading level0 col24\" >c60-69</th>\n",
       "      <th class=\"col_heading level0 col25\" >c70-79</th>\n",
       "      <th class=\"col_heading level0 col26\" >c80-89</th>\n",
       "      <th class=\"col_heading level0 col27\" >c90+</th>\n",
       "      <th class=\"col_heading level0 col28\" >cOnbekend</th>\n",
       "    </tr>\n",
       "  </thead>\n",
       "  <tbody>\n",
       "    <tr>\n",
       "      <th id=\"T_dbc16_level0_row0\" class=\"row_heading level0 row0\" >0</th>\n",
       "      <td id=\"T_dbc16_row0_col0\" class=\"data row0 col0\" >p000</td>\n",
       "      <td id=\"T_dbc16_row0_col1\" class=\"data row0 col1\" >0</td>\n",
       "      <td id=\"T_dbc16_row0_col2\" class=\"data row0 col2\" >2021-12-10 00:00:00</td>\n",
       "      <td id=\"T_dbc16_row0_col3\" class=\"data row0 col3\" >04/12-10/12</td>\n",
       "      <td id=\"T_dbc16_row0_col4\" class=\"data row0 col4\" >35.100000</td>\n",
       "      <td id=\"T_dbc16_row0_col5\" class=\"data row0 col5\" >74528.000000</td>\n",
       "      <td id=\"T_dbc16_row0_col6\" class=\"data row0 col6\" >Positief getest</td>\n",
       "      <td id=\"T_dbc16_row0_col7\" class=\"data row0 col7\" >11966.000000</td>\n",
       "      <td id=\"T_dbc16_row0_col8\" class=\"data row0 col8\" >11952.000000</td>\n",
       "      <td id=\"T_dbc16_row0_col9\" class=\"data row0 col9\" >8622.000000</td>\n",
       "      <td id=\"T_dbc16_row0_col10\" class=\"data row0 col10\" >12012.000000</td>\n",
       "      <td id=\"T_dbc16_row0_col11\" class=\"data row0 col11\" >10856.000000</td>\n",
       "      <td id=\"T_dbc16_row0_col12\" class=\"data row0 col12\" >7842.000000</td>\n",
       "      <td id=\"T_dbc16_row0_col13\" class=\"data row0 col13\" >5492.000000</td>\n",
       "      <td id=\"T_dbc16_row0_col14\" class=\"data row0 col14\" >3308.000000</td>\n",
       "      <td id=\"T_dbc16_row0_col15\" class=\"data row0 col15\" >1910.000000</td>\n",
       "      <td id=\"T_dbc16_row0_col16\" class=\"data row0 col16\" >567.000000</td>\n",
       "      <td id=\"T_dbc16_row0_col17\" class=\"data row0 col17\" >1.000000</td>\n",
       "      <td id=\"T_dbc16_row0_col18\" class=\"data row0 col18\" >996</td>\n",
       "      <td id=\"T_dbc16_row0_col19\" class=\"data row0 col19\" >995</td>\n",
       "      <td id=\"T_dbc16_row0_col20\" class=\"data row0 col20\" >717</td>\n",
       "      <td id=\"T_dbc16_row0_col21\" class=\"data row0 col21\" >1000</td>\n",
       "      <td id=\"T_dbc16_row0_col22\" class=\"data row0 col22\" >903</td>\n",
       "      <td id=\"T_dbc16_row0_col23\" class=\"data row0 col23\" >652</td>\n",
       "      <td id=\"T_dbc16_row0_col24\" class=\"data row0 col24\" >457</td>\n",
       "      <td id=\"T_dbc16_row0_col25\" class=\"data row0 col25\" >275</td>\n",
       "      <td id=\"T_dbc16_row0_col26\" class=\"data row0 col26\" >159</td>\n",
       "      <td id=\"T_dbc16_row0_col27\" class=\"data row0 col27\" >47</td>\n",
       "      <td id=\"T_dbc16_row0_col28\" class=\"data row0 col28\" >0</td>\n",
       "    </tr>\n",
       "    <tr>\n",
       "      <th id=\"T_dbc16_level0_row1\" class=\"row_heading level0 row1\" >1</th>\n",
       "      <td id=\"T_dbc16_row1_col0\" class=\"data row1 col0\" >p001</td>\n",
       "      <td id=\"T_dbc16_row1_col1\" class=\"data row1 col1\" >1</td>\n",
       "      <td id=\"T_dbc16_row1_col2\" class=\"data row1 col2\" >2021-12-10 00:00:00</td>\n",
       "      <td id=\"T_dbc16_row1_col3\" class=\"data row1 col3\" >27/11-03/12</td>\n",
       "      <td id=\"T_dbc16_row1_col4\" class=\"data row1 col4\" >36.700000</td>\n",
       "      <td id=\"T_dbc16_row1_col5\" class=\"data row1 col5\" >139902.000000</td>\n",
       "      <td id=\"T_dbc16_row1_col6\" class=\"data row1 col6\" >Positief getest</td>\n",
       "      <td id=\"T_dbc16_row1_col7\" class=\"data row1 col7\" >19156.000000</td>\n",
       "      <td id=\"T_dbc16_row1_col8\" class=\"data row1 col8\" >21898.000000</td>\n",
       "      <td id=\"T_dbc16_row1_col9\" class=\"data row1 col9\" >16326.000000</td>\n",
       "      <td id=\"T_dbc16_row1_col10\" class=\"data row1 col10\" >22114.000000</td>\n",
       "      <td id=\"T_dbc16_row1_col11\" class=\"data row1 col11\" >21057.000000</td>\n",
       "      <td id=\"T_dbc16_row1_col12\" class=\"data row1 col12\" >15487.000000</td>\n",
       "      <td id=\"T_dbc16_row1_col13\" class=\"data row1 col13\" >11776.000000</td>\n",
       "      <td id=\"T_dbc16_row1_col14\" class=\"data row1 col14\" >7014.000000</td>\n",
       "      <td id=\"T_dbc16_row1_col15\" class=\"data row1 col15\" >3858.000000</td>\n",
       "      <td id=\"T_dbc16_row1_col16\" class=\"data row1 col16\" >1214.000000</td>\n",
       "      <td id=\"T_dbc16_row1_col17\" class=\"data row1 col17\" >2.000000</td>\n",
       "      <td id=\"T_dbc16_row1_col18\" class=\"data row1 col18\" >866</td>\n",
       "      <td id=\"T_dbc16_row1_col19\" class=\"data row1 col19\" >990</td>\n",
       "      <td id=\"T_dbc16_row1_col20\" class=\"data row1 col20\" >738</td>\n",
       "      <td id=\"T_dbc16_row1_col21\" class=\"data row1 col21\" >1000</td>\n",
       "      <td id=\"T_dbc16_row1_col22\" class=\"data row1 col22\" >952</td>\n",
       "      <td id=\"T_dbc16_row1_col23\" class=\"data row1 col23\" >700</td>\n",
       "      <td id=\"T_dbc16_row1_col24\" class=\"data row1 col24\" >532</td>\n",
       "      <td id=\"T_dbc16_row1_col25\" class=\"data row1 col25\" >317</td>\n",
       "      <td id=\"T_dbc16_row1_col26\" class=\"data row1 col26\" >174</td>\n",
       "      <td id=\"T_dbc16_row1_col27\" class=\"data row1 col27\" >54</td>\n",
       "      <td id=\"T_dbc16_row1_col28\" class=\"data row1 col28\" >0</td>\n",
       "    </tr>\n",
       "    <tr>\n",
       "      <th id=\"T_dbc16_level0_row2\" class=\"row_heading level0 row2\" >2</th>\n",
       "      <td id=\"T_dbc16_row2_col0\" class=\"data row2 col0\" >p002</td>\n",
       "      <td id=\"T_dbc16_row2_col1\" class=\"data row2 col1\" >2</td>\n",
       "      <td id=\"T_dbc16_row2_col2\" class=\"data row2 col2\" >2021-12-10 00:00:00</td>\n",
       "      <td id=\"T_dbc16_row2_col3\" class=\"data row2 col3\" >20/11-26/11</td>\n",
       "      <td id=\"T_dbc16_row2_col4\" class=\"data row2 col4\" >36.900000</td>\n",
       "      <td id=\"T_dbc16_row2_col5\" class=\"data row2 col5\" >151326.000000</td>\n",
       "      <td id=\"T_dbc16_row2_col6\" class=\"data row2 col6\" >Positief getest</td>\n",
       "      <td id=\"T_dbc16_row2_col7\" class=\"data row2 col7\" >20051.000000</td>\n",
       "      <td id=\"T_dbc16_row2_col8\" class=\"data row2 col8\" >24587.000000</td>\n",
       "      <td id=\"T_dbc16_row2_col9\" class=\"data row2 col9\" >17850.000000</td>\n",
       "      <td id=\"T_dbc16_row2_col10\" class=\"data row2 col10\" >22601.000000</td>\n",
       "      <td id=\"T_dbc16_row2_col11\" class=\"data row2 col11\" >22477.000000</td>\n",
       "      <td id=\"T_dbc16_row2_col12\" class=\"data row2 col12\" >17290.000000</td>\n",
       "      <td id=\"T_dbc16_row2_col13\" class=\"data row2 col13\" >13113.000000</td>\n",
       "      <td id=\"T_dbc16_row2_col14\" class=\"data row2 col14\" >7930.000000</td>\n",
       "      <td id=\"T_dbc16_row2_col15\" class=\"data row2 col15\" >4173.000000</td>\n",
       "      <td id=\"T_dbc16_row2_col16\" class=\"data row2 col16\" >1251.000000</td>\n",
       "      <td id=\"T_dbc16_row2_col17\" class=\"data row2 col17\" >3.000000</td>\n",
       "      <td id=\"T_dbc16_row2_col18\" class=\"data row2 col18\" >815</td>\n",
       "      <td id=\"T_dbc16_row2_col19\" class=\"data row2 col19\" >1000</td>\n",
       "      <td id=\"T_dbc16_row2_col20\" class=\"data row2 col20\" >725</td>\n",
       "      <td id=\"T_dbc16_row2_col21\" class=\"data row2 col21\" >919</td>\n",
       "      <td id=\"T_dbc16_row2_col22\" class=\"data row2 col22\" >914</td>\n",
       "      <td id=\"T_dbc16_row2_col23\" class=\"data row2 col23\" >703</td>\n",
       "      <td id=\"T_dbc16_row2_col24\" class=\"data row2 col24\" >533</td>\n",
       "      <td id=\"T_dbc16_row2_col25\" class=\"data row2 col25\" >322</td>\n",
       "      <td id=\"T_dbc16_row2_col26\" class=\"data row2 col26\" >169</td>\n",
       "      <td id=\"T_dbc16_row2_col27\" class=\"data row2 col27\" >50</td>\n",
       "      <td id=\"T_dbc16_row2_col28\" class=\"data row2 col28\" >0</td>\n",
       "    </tr>\n",
       "    <tr>\n",
       "      <th id=\"T_dbc16_level0_row3\" class=\"row_heading level0 row3\" >3</th>\n",
       "      <td id=\"T_dbc16_row3_col0\" class=\"data row3 col0\" >p003</td>\n",
       "      <td id=\"T_dbc16_row3_col1\" class=\"data row3 col1\" >3</td>\n",
       "      <td id=\"T_dbc16_row3_col2\" class=\"data row3 col2\" >2021-12-10 00:00:00</td>\n",
       "      <td id=\"T_dbc16_row3_col3\" class=\"data row3 col3\" >13/11-19/11</td>\n",
       "      <td id=\"T_dbc16_row3_col4\" class=\"data row3 col4\" >37.400000</td>\n",
       "      <td id=\"T_dbc16_row3_col5\" class=\"data row3 col5\" >151647.000000</td>\n",
       "      <td id=\"T_dbc16_row3_col6\" class=\"data row3 col6\" >Positief getest</td>\n",
       "      <td id=\"T_dbc16_row3_col7\" class=\"data row3 col7\" >17858.000000</td>\n",
       "      <td id=\"T_dbc16_row3_col8\" class=\"data row3 col8\" >24919.000000</td>\n",
       "      <td id=\"T_dbc16_row3_col9\" class=\"data row3 col9\" >20359.000000</td>\n",
       "      <td id=\"T_dbc16_row3_col10\" class=\"data row3 col10\" >22506.000000</td>\n",
       "      <td id=\"T_dbc16_row3_col11\" class=\"data row3 col11\" >21251.000000</td>\n",
       "      <td id=\"T_dbc16_row3_col12\" class=\"data row3 col12\" >16967.000000</td>\n",
       "      <td id=\"T_dbc16_row3_col13\" class=\"data row3 col13\" >13629.000000</td>\n",
       "      <td id=\"T_dbc16_row3_col14\" class=\"data row3 col14\" >8580.000000</td>\n",
       "      <td id=\"T_dbc16_row3_col15\" class=\"data row3 col15\" >4367.000000</td>\n",
       "      <td id=\"T_dbc16_row3_col16\" class=\"data row3 col16\" >1209.000000</td>\n",
       "      <td id=\"T_dbc16_row3_col17\" class=\"data row3 col17\" >2.000000</td>\n",
       "      <td id=\"T_dbc16_row3_col18\" class=\"data row3 col18\" >716</td>\n",
       "      <td id=\"T_dbc16_row3_col19\" class=\"data row3 col19\" >1000</td>\n",
       "      <td id=\"T_dbc16_row3_col20\" class=\"data row3 col20\" >817</td>\n",
       "      <td id=\"T_dbc16_row3_col21\" class=\"data row3 col21\" >903</td>\n",
       "      <td id=\"T_dbc16_row3_col22\" class=\"data row3 col22\" >852</td>\n",
       "      <td id=\"T_dbc16_row3_col23\" class=\"data row3 col23\" >680</td>\n",
       "      <td id=\"T_dbc16_row3_col24\" class=\"data row3 col24\" >546</td>\n",
       "      <td id=\"T_dbc16_row3_col25\" class=\"data row3 col25\" >344</td>\n",
       "      <td id=\"T_dbc16_row3_col26\" class=\"data row3 col26\" >175</td>\n",
       "      <td id=\"T_dbc16_row3_col27\" class=\"data row3 col27\" >48</td>\n",
       "      <td id=\"T_dbc16_row3_col28\" class=\"data row3 col28\" >0</td>\n",
       "    </tr>\n",
       "    <tr>\n",
       "      <th id=\"T_dbc16_level0_row4\" class=\"row_heading level0 row4\" >4</th>\n",
       "      <td id=\"T_dbc16_row4_col0\" class=\"data row4 col0\" >p004</td>\n",
       "      <td id=\"T_dbc16_row4_col1\" class=\"data row4 col1\" >4</td>\n",
       "      <td id=\"T_dbc16_row4_col2\" class=\"data row4 col2\" >2021-12-10 00:00:00</td>\n",
       "      <td id=\"T_dbc16_row4_col3\" class=\"data row4 col3\" >06/11-12/11</td>\n",
       "      <td id=\"T_dbc16_row4_col4\" class=\"data row4 col4\" >39.100000</td>\n",
       "      <td id=\"T_dbc16_row4_col5\" class=\"data row4 col5\" >108924.000000</td>\n",
       "      <td id=\"T_dbc16_row4_col6\" class=\"data row4 col6\" >Positief getest</td>\n",
       "      <td id=\"T_dbc16_row4_col7\" class=\"data row4 col7\" >10948.000000</td>\n",
       "      <td id=\"T_dbc16_row4_col8\" class=\"data row4 col8\" >16690.000000</td>\n",
       "      <td id=\"T_dbc16_row4_col9\" class=\"data row4 col9\" >14909.000000</td>\n",
       "      <td id=\"T_dbc16_row4_col10\" class=\"data row4 col10\" >16063.000000</td>\n",
       "      <td id=\"T_dbc16_row4_col11\" class=\"data row4 col11\" >14625.000000</td>\n",
       "      <td id=\"T_dbc16_row4_col12\" class=\"data row4 col12\" >13283.000000</td>\n",
       "      <td id=\"T_dbc16_row4_col13\" class=\"data row4 col13\" >10778.000000</td>\n",
       "      <td id=\"T_dbc16_row4_col14\" class=\"data row4 col14\" >7178.000000</td>\n",
       "      <td id=\"T_dbc16_row4_col15\" class=\"data row4 col15\" >3540.000000</td>\n",
       "      <td id=\"T_dbc16_row4_col16\" class=\"data row4 col16\" >908.000000</td>\n",
       "      <td id=\"T_dbc16_row4_col17\" class=\"data row4 col17\" >2.000000</td>\n",
       "      <td id=\"T_dbc16_row4_col18\" class=\"data row4 col18\" >655</td>\n",
       "      <td id=\"T_dbc16_row4_col19\" class=\"data row4 col19\" >1000</td>\n",
       "      <td id=\"T_dbc16_row4_col20\" class=\"data row4 col20\" >893</td>\n",
       "      <td id=\"T_dbc16_row4_col21\" class=\"data row4 col21\" >962</td>\n",
       "      <td id=\"T_dbc16_row4_col22\" class=\"data row4 col22\" >876</td>\n",
       "      <td id=\"T_dbc16_row4_col23\" class=\"data row4 col23\" >795</td>\n",
       "      <td id=\"T_dbc16_row4_col24\" class=\"data row4 col24\" >645</td>\n",
       "      <td id=\"T_dbc16_row4_col25\" class=\"data row4 col25\" >430</td>\n",
       "      <td id=\"T_dbc16_row4_col26\" class=\"data row4 col26\" >212</td>\n",
       "      <td id=\"T_dbc16_row4_col27\" class=\"data row4 col27\" >54</td>\n",
       "      <td id=\"T_dbc16_row4_col28\" class=\"data row4 col28\" >0</td>\n",
       "    </tr>\n",
       "  </tbody>\n",
       "</table>\n"
      ],
      "text/plain": [
       "<pandas.io.formats.style.Styler at 0x7f55220ab490>"
      ]
     },
     "metadata": {},
     "output_type": "display_data"
    }
   ],
   "source": [
    "# Bereken de stand van zaken van besmettingen / hospitalisaties / overlijden, per cohort in absolute aantallen en aantallen per 100k, met een kleur indicator voor de aantallen.\n",
    "# vervang <50 en Unknown door Onbekend\n",
    "@run\n",
    "def cell():\n",
    "  rivm['Cohort'] = rivm['Agegroup'].replace({'<50': 'Onbekend', 'Unknown': 'Onbekend'})\n",
    "  # aangenomen 'gemiddelde' leeftijd van een cohort: minimum waarde + 5\n",
    "  assumed_cohort_age = [(cohort, [int(n) for n in cohort.replace('+', '').split('-')]) for cohort in rivm['Cohort'].unique() if cohort[0].isdigit()]\n",
    "  assumed_cohort_age = { cohort: min(rng) + 5 for cohort, rng in assumed_cohort_age }\n",
    "  rivm['Gemiddelde leeftijd'] = rivm['Cohort'].apply(lambda x: assumed_cohort_age.get(x, np.nan))\n",
    "\n",
    "  # verwijder tijd\n",
    "  rivm['Date_file_date'] = pd.to_datetime(rivm['Date_file'].replace(r' .*', '', regex=True))\n",
    "\n",
    "  rivm['Date_statistics_date'] = pd.to_datetime(rivm['Date_statistics'])\n",
    "\n",
    "  # weken terug = verschil tussen Date_file en Date_statistcs, gedeeld door 7 dagen\n",
    "  rivm['Weken terug'] = np.floor((rivm['Date_file_date'] - rivm['Date_statistics_date'])/np.timedelta64(7, 'D')).astype(int)\n",
    "\n",
    "  # voeg key, gem leeftijd, kleurnummer en totaal toe\n",
    "  Date_file = rivm['Date_file_date'].unique()[0].astype('M8[D]').astype('O')\n",
    "  cohorten = list(bevolking.index) + ['Onbekend']\n",
    "  def summarize(df, category, prefix):\n",
    "    # aangezien we hier de dataframe in-place wijzigen (bijv door toevoegen kolommen)\n",
    "    # en we het 'rivm' frame later nog clean nodig hebben\n",
    "    df = df.copy(deep=True)\n",
    "\n",
    "    df = (df\n",
    "          .groupby(['Weken terug', 'Cohort'])['count']\n",
    "          .sum()\n",
    "          .unstack(fill_value=np.nan)\n",
    "          .reset_index()\n",
    "          .rename_axis(None, axis=1)\n",
    "        ).merge(df\n",
    "          # we voegen hier gemiddelde leeftijd toe, want die willen we op een ander\n",
    "          # niveau aggregeren voor 'df' overschreven word\n",
    "          .groupby(['Weken terug'])['Gemiddelde leeftijd']\n",
    "          .mean()\n",
    "          .to_frame(), on='Weken terug'\n",
    "        )\n",
    "\n",
    "    # altijd 52 rijen\n",
    "    df = pd.Series(np.arange(52), name='Weken terug').to_frame().merge(df, how='left', on='Weken terug')\n",
    "\n",
    "    # toevoegen missende cohorten\n",
    "    for col in cohorten:\n",
    "      if not col in df:\n",
    "        df[col] = np.nan\n",
    "\n",
    "    # sommeer per rij (axis=1) over de cohorten om een totaal te krijgen\n",
    "    df['Totaal'] = df[cohorten].sum(axis=1)\n",
    "\n",
    "    # voeg periode en datum toe\n",
    "    # periode afgeleid van weken-terug (= de index voor deze dataframe)\n",
    "    df['Datum'] = pd.to_datetime(Date_file)\n",
    "    df['Periode'] = (df\n",
    "      .index.to_series()\n",
    "      .apply(\n",
    "        lambda x: (\n",
    "          (Date_file + datetime.timedelta(weeks=-(x+1), days=1)).strftime('%d/%m')\n",
    "          + '-'\n",
    "          + (Date_file + datetime.timedelta(weeks=-x)).strftime('%d/%m')\n",
    "        )\n",
    "      )\n",
    "    )\n",
    "\n",
    "    # voeg 'Key' en 'Type' kolom toe. Variabele 'type' kan niet, is een language primitive.\n",
    "    df['Key'] = prefix + df.index.astype(str).str.rjust(3, fillchar='0')\n",
    "    df['Type'] = category\n",
    "\n",
    "    # voeg de kleur kolommen toe\n",
    "    for col in cohorten:\n",
    "      df['c' + col] = ((df[col] / df[[col for col in cohorten]].max(axis=1)) * 1000).fillna(0).astype(int)\n",
    "\n",
    "    # herschikken van de kolommen\n",
    "    colorder = ['Key', 'Weken terug', 'Datum', 'Periode', 'Gemiddelde leeftijd', 'Totaal', 'Type']\n",
    "    return df[colorder + [col for col in df if col not in colorder]]\n",
    "\n",
    "  factor = bevolking.to_dict()['per 100k']\n",
    "  global tabel\n",
    "  tabel = pd.concat(\n",
    "    # flatten the result list zodat pd.concat ze onder elkaar kan plakken\n",
    "    functools.reduce(lambda a, b: a + b, [\n",
    "      [summarize(df.assign(count=1), label, prefix), summarize(df.assign(count=df['Cohort'].apply(lambda x: factor.get(x, np.nan))), label + ' per 100.000', prefix + '100k')]\n",
    "      for df, label, prefix in [\n",
    "        (rivm, 'Positief getest', 'p'), # volledige count per cohort\n",
    "        (rivm[rivm.Hospital_admission == 'Yes'], 'Ziekenhuisopname', 'h'), # count van cohort voor Hospital_admission == 'Yes'\n",
    "        (rivm[rivm.Deceased == 'Yes'], 'Overleden', 'd'), # count van cohort voor Deceased == 'Yes'\n",
    "      ]\n",
    "    ])\n",
    "  )\n",
    "\n",
    "  # rood -> groen\n",
    "  cdict = {\n",
    "    'red':   ((0.0, 0.0, 0.0),   # no red at 0\n",
    "              (0.5, 1.0, 1.0),   # all channels set to 1.0 at 0.5 to create white\n",
    "              (1.0, 0.8, 0.8)),  # set to 0.8 so its not too bright at 1\n",
    "    'green': ((0.0, 0.8, 0.8),   # set to 0.8 so its not too bright at 0\n",
    "              (0.5, 1.0, 1.0),   # all channels set to 1.0 at 0.5 to create white\n",
    "              (1.0, 0.0, 0.0)),  # no green at 1\n",
    "    'blue':  ((0.0, 0.0, 0.0),   # no blue at 0\n",
    "              (0.5, 1.0, 1.0),   # all channels set to 1.0 at 0.5 to create white\n",
    "              (1.0, 0.0, 0.0))   # no blue at 1\n",
    "  }\n",
    "  cm = colors.LinearSegmentedColormap('GnRd', cdict)\n",
    "  # geel -> paars\n",
    "  cm = sns.color_palette('viridis_r', as_cmap=True)\n",
    "  display(tabel\n",
    "    .fillna(0)\n",
    "    .head()\n",
    "    .round(1)\n",
    "    .reset_index(drop=True)\n",
    "    .style.background_gradient(cmap=cm, axis=1, subset=cohorten)\n",
    "  )"
   ]
  },
  {
   "cell_type": "code",
   "execution_count": 5,
   "id": "081bc7d4",
   "metadata": {
    "execution": {
     "iopub.execute_input": "2021-12-10T14:43:10.020081Z",
     "iopub.status.busy": "2021-12-10T14:43:10.019588Z",
     "iopub.status.idle": "2021-12-10T14:43:45.838859Z",
     "shell.execute_reply": "2021-12-10T14:43:45.838412Z"
    },
    "papermill": {
     "duration": 35.840095,
     "end_time": "2021-12-10T14:43:45.838981",
     "exception": false,
     "start_time": "2021-12-10T14:43:09.998886",
     "status": "completed"
    },
    "tags": [],
    "title": "publish"
   },
   "outputs": [
    {
     "name": "stdout",
     "output_type": "stream",
     "text": [
      "infinities:\n"
     ]
    },
    {
     "name": "stdout",
     "output_type": "stream",
     "text": [
      "Empty DataFrame\n",
      "Columns: []\n",
      "Index: []\n"
     ]
    },
    {
     "name": "stdout",
     "output_type": "stream",
     "text": [
      "nan:\n"
     ]
    },
    {
     "name": "stdout",
     "output_type": "stream",
     "text": [
      "Empty DataFrame\n",
      "Columns: []\n",
      "Index: []\n"
     ]
    },
    {
     "name": "stdout",
     "output_type": "stream",
     "text": [
      "Key                     object\n",
      "Weken terug              int64\n",
      "Datum                   object\n",
      "Periode                 object\n",
      "Gemiddelde leeftijd    float64\n",
      "Totaal                 float64\n",
      "Type                    object\n",
      "0-9                    float64\n",
      "10-19                  float64\n",
      "20-29                  float64\n",
      "30-39                  float64\n",
      "40-49                  float64\n",
      "50-59                  float64\n",
      "60-69                  float64\n",
      "70-79                  float64\n",
      "80-89                  float64\n",
      "90+                    float64\n",
      "Onbekend               float64\n",
      "c0-9                     int64\n",
      "c10-19                   int64\n",
      "c20-29                   int64\n",
      "c30-39                   int64\n",
      "c40-49                   int64\n",
      "c50-59                   int64\n",
      "c60-69                   int64\n",
      "c70-79                   int64\n",
      "c80-89                   int64\n",
      "c90+                     int64\n",
      "cOnbekend                int64\n",
      "dtype: object\n",
      "updating knack\n"
     ]
    },
    {
     "name": "stdout",
     "output_type": "stream",
     "text": [
      "updating: [{'Key': 1, 'Updating Leeftijdsgroep': 'true'}]\n"
     ]
    },
    {
     "name": "stdout",
     "output_type": "stream",
     "text": [
      "restored LaatsteUpdate from hash\n"
     ]
    },
    {
     "name": "stdout",
     "output_type": "stream",
     "text": [
      "Key                         int64\n",
      "Updating Leeftijdsgroep    object\n",
      "dtype: object\n"
     ]
    },
    {
     "name": "stderr",
     "output_type": "stream",
     "text": [
      "\r",
      "  0%|          | 0/1 [00:00<?, ?it/s]"
     ]
    },
    {
     "name": "stderr",
     "output_type": "stream",
     "text": [
      "\r",
      "100%|██████████| 1/1 [00:01<00:00,  1.89s/it]"
     ]
    },
    {
     "name": "stderr",
     "output_type": "stream",
     "text": [
      "\r",
      "100%|██████████| 1/1 [00:01<00:00,  1.89s/it]"
     ]
    },
    {
     "name": "stdout",
     "output_type": "stream",
     "text": [
      "\n",
      "rate limit: 7 \n",
      "LaatsteUpdate API calls: create: 0, read: 1, update: 1, delete: 0, backoff: 0\n"
     ]
    },
    {
     "name": "stderr",
     "output_type": "stream",
     "text": [
      "\n"
     ]
    },
    {
     "name": "stdout",
     "output_type": "stream",
     "text": [
      "restored Leeftijdsgroep from hash\n"
     ]
    },
    {
     "name": "stdout",
     "output_type": "stream",
     "text": [
      "0-9                    float64\n",
      "10-19                  float64\n",
      "20-29                  float64\n",
      "30-39                  float64\n",
      "40-49                  float64\n",
      "50-59                  float64\n",
      "60-69                  float64\n",
      "70-79                  float64\n",
      "80-89                  float64\n",
      "90+                    float64\n",
      "Datum                   object\n",
      "Gemiddelde leeftijd    float64\n",
      "Key                     object\n",
      "Onbekend               float64\n",
      "Periode                 object\n",
      "Totaal                 float64\n",
      "Type                    object\n",
      "Weken terug              int64\n",
      "c0-9                     int64\n",
      "c10-19                   int64\n",
      "c20-29                   int64\n",
      "c30-39                   int64\n",
      "c40-49                   int64\n",
      "c50-59                   int64\n",
      "c60-69                   int64\n",
      "c70-79                   int64\n",
      "c80-89                   int64\n",
      "c90+                     int64\n",
      "cOnbekend                int64\n",
      "dtype: object\n"
     ]
    },
    {
     "name": "stderr",
     "output_type": "stream",
     "text": [
      "\r",
      "  0%|          | 0/146 [00:00<?, ?it/s]"
     ]
    },
    {
     "name": "stderr",
     "output_type": "stream",
     "text": [
      "\r",
      "  1%|          | 1/146 [00:01<03:00,  1.25s/it]"
     ]
    },
    {
     "name": "stderr",
     "output_type": "stream",
     "text": [
      "\r",
      "  2%|▏         | 3/146 [00:01<00:55,  2.56it/s]"
     ]
    },
    {
     "name": "stderr",
     "output_type": "stream",
     "text": [
      "\r",
      "  3%|▎         | 4/146 [00:01<00:52,  2.72it/s]"
     ]
    },
    {
     "name": "stderr",
     "output_type": "stream",
     "text": [
      "\r",
      "  3%|▎         | 5/146 [00:01<00:40,  3.46it/s]"
     ]
    },
    {
     "name": "stderr",
     "output_type": "stream",
     "text": [
      "\r",
      "  5%|▌         | 8/146 [00:02<00:24,  5.70it/s]"
     ]
    },
    {
     "name": "stderr",
     "output_type": "stream",
     "text": [
      "\r",
      "  6%|▌         | 9/146 [00:02<00:23,  5.85it/s]"
     ]
    },
    {
     "name": "stderr",
     "output_type": "stream",
     "text": [
      "\r",
      "  8%|▊         | 12/146 [00:02<00:16,  8.18it/s]"
     ]
    },
    {
     "name": "stderr",
     "output_type": "stream",
     "text": [
      "\r",
      " 10%|▉         | 14/146 [00:02<00:16,  8.11it/s]"
     ]
    },
    {
     "name": "stderr",
     "output_type": "stream",
     "text": [
      "\r",
      " 10%|█         | 15/146 [00:03<00:18,  7.11it/s]"
     ]
    },
    {
     "name": "stderr",
     "output_type": "stream",
     "text": [
      "\r",
      " 12%|█▏        | 17/146 [00:03<00:15,  8.37it/s]"
     ]
    },
    {
     "name": "stderr",
     "output_type": "stream",
     "text": [
      "\r",
      " 12%|█▏        | 18/146 [00:03<00:17,  7.33it/s]"
     ]
    },
    {
     "name": "stderr",
     "output_type": "stream",
     "text": [
      "\r",
      " 14%|█▎        | 20/146 [00:03<00:13,  9.17it/s]"
     ]
    },
    {
     "name": "stderr",
     "output_type": "stream",
     "text": [
      "\r",
      " 15%|█▌        | 22/146 [00:03<00:11, 11.16it/s]"
     ]
    },
    {
     "name": "stderr",
     "output_type": "stream",
     "text": [
      "\r",
      " 16%|█▋        | 24/146 [00:03<00:12,  9.59it/s]"
     ]
    },
    {
     "name": "stderr",
     "output_type": "stream",
     "text": [
      "\r",
      " 18%|█▊        | 26/146 [00:04<00:15,  7.79it/s]"
     ]
    },
    {
     "name": "stderr",
     "output_type": "stream",
     "text": [
      "\r",
      " 19%|█▉        | 28/146 [00:04<00:15,  7.86it/s]"
     ]
    },
    {
     "name": "stderr",
     "output_type": "stream",
     "text": [
      "\r",
      " 20%|█▉        | 29/146 [00:04<00:20,  5.64it/s]"
     ]
    },
    {
     "name": "stderr",
     "output_type": "stream",
     "text": [
      "\r",
      " 21%|██        | 30/146 [00:05<00:20,  5.56it/s]"
     ]
    },
    {
     "name": "stderr",
     "output_type": "stream",
     "text": [
      "\r",
      " 22%|██▏       | 32/146 [00:05<00:18,  6.22it/s]"
     ]
    },
    {
     "name": "stderr",
     "output_type": "stream",
     "text": [
      "\r",
      " 23%|██▎       | 33/146 [00:05<00:17,  6.58it/s]"
     ]
    },
    {
     "name": "stderr",
     "output_type": "stream",
     "text": [
      "\r",
      " 23%|██▎       | 34/146 [00:05<00:19,  5.87it/s]"
     ]
    },
    {
     "name": "stderr",
     "output_type": "stream",
     "text": [
      "\r",
      " 25%|██▍       | 36/146 [00:05<00:14,  7.35it/s]"
     ]
    },
    {
     "name": "stderr",
     "output_type": "stream",
     "text": [
      "\r",
      " 25%|██▌       | 37/146 [00:06<00:20,  5.28it/s]"
     ]
    },
    {
     "name": "stderr",
     "output_type": "stream",
     "text": [
      "\r",
      " 27%|██▋       | 39/146 [00:06<00:15,  6.70it/s]"
     ]
    },
    {
     "name": "stderr",
     "output_type": "stream",
     "text": [
      "\r",
      " 29%|██▉       | 42/146 [00:06<00:10,  9.49it/s]"
     ]
    },
    {
     "name": "stderr",
     "output_type": "stream",
     "text": [
      "\r",
      " 30%|███       | 44/146 [00:06<00:14,  7.21it/s]"
     ]
    },
    {
     "name": "stderr",
     "output_type": "stream",
     "text": [
      "\r",
      " 32%|███▏      | 46/146 [00:07<00:20,  4.83it/s]"
     ]
    },
    {
     "name": "stderr",
     "output_type": "stream",
     "text": [
      "\r",
      " 33%|███▎      | 48/146 [00:07<00:16,  5.91it/s]"
     ]
    },
    {
     "name": "stderr",
     "output_type": "stream",
     "text": [
      "\r",
      " 34%|███▎      | 49/146 [00:08<00:16,  5.83it/s]"
     ]
    },
    {
     "name": "stderr",
     "output_type": "stream",
     "text": [
      "\r",
      " 34%|███▍      | 50/146 [00:08<00:17,  5.54it/s]"
     ]
    },
    {
     "name": "stderr",
     "output_type": "stream",
     "text": [
      "\r",
      " 36%|███▋      | 53/146 [00:08<00:12,  7.30it/s]"
     ]
    },
    {
     "name": "stderr",
     "output_type": "stream",
     "text": [
      "\r",
      " 38%|███▊      | 55/146 [00:08<00:11,  7.95it/s]"
     ]
    },
    {
     "name": "stderr",
     "output_type": "stream",
     "text": [
      "\r",
      " 38%|███▊      | 56/146 [00:08<00:11,  8.06it/s]"
     ]
    },
    {
     "name": "stderr",
     "output_type": "stream",
     "text": [
      "\r",
      " 39%|███▉      | 57/146 [00:09<00:13,  6.42it/s]"
     ]
    },
    {
     "name": "stderr",
     "output_type": "stream",
     "text": [
      "\r",
      " 40%|███▉      | 58/146 [00:09<00:13,  6.56it/s]"
     ]
    },
    {
     "name": "stderr",
     "output_type": "stream",
     "text": [
      "\r",
      " 42%|████▏     | 61/146 [00:09<00:13,  6.38it/s]"
     ]
    },
    {
     "name": "stderr",
     "output_type": "stream",
     "text": [
      "\r",
      " 44%|████▍     | 64/146 [00:10<00:11,  7.37it/s]"
     ]
    },
    {
     "name": "stderr",
     "output_type": "stream",
     "text": [
      "\r",
      " 45%|████▌     | 66/146 [00:10<00:09,  8.05it/s]"
     ]
    },
    {
     "name": "stderr",
     "output_type": "stream",
     "text": [
      "\r",
      " 46%|████▌     | 67/146 [00:10<00:13,  5.90it/s]"
     ]
    },
    {
     "name": "stderr",
     "output_type": "stream",
     "text": [
      "\r",
      " 47%|████▋     | 68/146 [00:10<00:12,  6.38it/s]"
     ]
    },
    {
     "name": "stderr",
     "output_type": "stream",
     "text": [
      "\r",
      " 47%|████▋     | 69/146 [00:11<00:14,  5.24it/s]"
     ]
    },
    {
     "name": "stderr",
     "output_type": "stream",
     "text": [
      "\r",
      " 49%|████▊     | 71/146 [00:11<00:11,  6.78it/s]"
     ]
    },
    {
     "name": "stderr",
     "output_type": "stream",
     "text": [
      "\r",
      " 49%|████▉     | 72/146 [00:11<00:12,  6.01it/s]"
     ]
    },
    {
     "name": "stderr",
     "output_type": "stream",
     "text": [
      "\r",
      " 53%|█████▎    | 77/146 [00:11<00:06, 10.51it/s]"
     ]
    },
    {
     "name": "stderr",
     "output_type": "stream",
     "text": [
      "\r",
      " 54%|█████▍    | 79/146 [00:12<00:08,  8.18it/s]"
     ]
    },
    {
     "name": "stderr",
     "output_type": "stream",
     "text": [
      "\r",
      " 55%|█████▌    | 81/146 [00:12<00:07,  8.37it/s]"
     ]
    },
    {
     "name": "stderr",
     "output_type": "stream",
     "text": [
      "\r",
      " 57%|█████▋    | 83/146 [00:13<00:11,  5.28it/s]"
     ]
    },
    {
     "name": "stderr",
     "output_type": "stream",
     "text": [
      "\r",
      " 60%|█████▉    | 87/146 [00:13<00:07,  8.21it/s]"
     ]
    },
    {
     "name": "stderr",
     "output_type": "stream",
     "text": [
      "\r",
      " 61%|██████    | 89/146 [00:14<00:11,  5.09it/s]"
     ]
    },
    {
     "name": "stderr",
     "output_type": "stream",
     "text": [
      "\r",
      " 62%|██████▏   | 91/146 [00:14<00:09,  6.04it/s]"
     ]
    },
    {
     "name": "stderr",
     "output_type": "stream",
     "text": [
      "\r",
      " 64%|██████▍   | 94/146 [00:14<00:06,  8.17it/s]"
     ]
    },
    {
     "name": "stderr",
     "output_type": "stream",
     "text": [
      "\r",
      " 66%|██████▌   | 96/146 [00:14<00:07,  6.88it/s]"
     ]
    },
    {
     "name": "stderr",
     "output_type": "stream",
     "text": [
      "\r",
      " 67%|██████▋   | 98/146 [00:15<00:07,  6.63it/s]"
     ]
    },
    {
     "name": "stderr",
     "output_type": "stream",
     "text": [
      "\r",
      " 68%|██████▊   | 100/146 [00:15<00:07,  6.18it/s]"
     ]
    },
    {
     "name": "stderr",
     "output_type": "stream",
     "text": [
      "\r",
      " 69%|██████▉   | 101/146 [00:15<00:07,  6.01it/s]"
     ]
    },
    {
     "name": "stderr",
     "output_type": "stream",
     "text": [
      "\r",
      " 71%|███████   | 104/146 [00:15<00:05,  8.22it/s]"
     ]
    },
    {
     "name": "stderr",
     "output_type": "stream",
     "text": [
      "\r",
      " 73%|███████▎  | 106/146 [00:16<00:04,  9.25it/s]"
     ]
    },
    {
     "name": "stderr",
     "output_type": "stream",
     "text": [
      "\r",
      " 74%|███████▍  | 108/146 [00:16<00:04,  8.55it/s]"
     ]
    },
    {
     "name": "stderr",
     "output_type": "stream",
     "text": [
      "\r",
      " 75%|███████▌  | 110/146 [00:16<00:06,  5.82it/s]"
     ]
    },
    {
     "name": "stderr",
     "output_type": "stream",
     "text": [
      "\r",
      " 76%|███████▌  | 111/146 [00:17<00:05,  6.17it/s]"
     ]
    },
    {
     "name": "stderr",
     "output_type": "stream",
     "text": [
      "\r",
      " 77%|███████▋  | 112/146 [00:17<00:05,  6.42it/s]"
     ]
    },
    {
     "name": "stderr",
     "output_type": "stream",
     "text": [
      "\r",
      " 79%|███████▉  | 115/146 [00:17<00:03,  8.65it/s]"
     ]
    },
    {
     "name": "stderr",
     "output_type": "stream",
     "text": [
      "\r",
      " 80%|████████  | 117/146 [00:17<00:04,  6.85it/s]"
     ]
    },
    {
     "name": "stderr",
     "output_type": "stream",
     "text": [
      "\r",
      " 81%|████████  | 118/146 [00:18<00:04,  6.10it/s]"
     ]
    },
    {
     "name": "stderr",
     "output_type": "stream",
     "text": [
      "\r",
      " 82%|████████▏ | 120/146 [00:18<00:03,  6.89it/s]"
     ]
    },
    {
     "name": "stderr",
     "output_type": "stream",
     "text": [
      "\r",
      " 84%|████████▎ | 122/146 [00:18<00:02,  8.26it/s]"
     ]
    },
    {
     "name": "stderr",
     "output_type": "stream",
     "text": [
      "\r",
      " 84%|████████▍ | 123/146 [00:18<00:03,  5.96it/s]"
     ]
    },
    {
     "name": "stderr",
     "output_type": "stream",
     "text": [
      "\r",
      " 85%|████████▍ | 124/146 [00:18<00:04,  5.47it/s]"
     ]
    },
    {
     "name": "stderr",
     "output_type": "stream",
     "text": [
      "\r",
      " 87%|████████▋ | 127/146 [00:19<00:02,  7.57it/s]"
     ]
    },
    {
     "name": "stderr",
     "output_type": "stream",
     "text": [
      "\r",
      " 88%|████████▊ | 128/146 [00:19<00:02,  7.41it/s]"
     ]
    },
    {
     "name": "stderr",
     "output_type": "stream",
     "text": [
      "\r",
      " 89%|████████▉ | 130/146 [00:19<00:02,  6.17it/s]"
     ]
    },
    {
     "name": "stderr",
     "output_type": "stream",
     "text": [
      "\r",
      " 90%|█████████ | 132/146 [00:20<00:02,  6.16it/s]"
     ]
    },
    {
     "name": "stderr",
     "output_type": "stream",
     "text": [
      "\r",
      " 91%|█████████ | 133/146 [00:20<00:02,  5.85it/s]"
     ]
    },
    {
     "name": "stderr",
     "output_type": "stream",
     "text": [
      "\r",
      " 92%|█████████▏| 134/146 [00:20<00:01,  6.37it/s]"
     ]
    },
    {
     "name": "stderr",
     "output_type": "stream",
     "text": [
      "\r",
      " 93%|█████████▎| 136/146 [00:20<00:01,  8.40it/s]"
     ]
    },
    {
     "name": "stderr",
     "output_type": "stream",
     "text": [
      "\r",
      " 95%|█████████▍| 138/146 [00:21<00:01,  5.81it/s]"
     ]
    },
    {
     "name": "stderr",
     "output_type": "stream",
     "text": [
      "\r",
      " 97%|█████████▋| 141/146 [00:21<00:00,  8.02it/s]"
     ]
    },
    {
     "name": "stderr",
     "output_type": "stream",
     "text": [
      "\r",
      " 98%|█████████▊| 143/146 [00:21<00:00,  9.38it/s]"
     ]
    },
    {
     "name": "stderr",
     "output_type": "stream",
     "text": [
      "\r",
      " 99%|█████████▉| 145/146 [00:22<00:00,  4.06it/s]"
     ]
    },
    {
     "name": "stderr",
     "output_type": "stream",
     "text": [
      "\r",
      "100%|██████████| 146/146 [00:24<00:00,  1.78it/s]"
     ]
    },
    {
     "name": "stderr",
     "output_type": "stream",
     "text": [
      "\r",
      "100%|██████████| 146/146 [00:24<00:00,  5.92it/s]"
     ]
    },
    {
     "name": "stdout",
     "output_type": "stream",
     "text": [
      "\n",
      "rate limit: 7 \n",
      "Leeftijdsgroep API calls: create: 0, read: 1, update: 146, delete: 0, backoff: 1\n",
      "errors:\n",
      "  503: Service Unavailable: 3\n"
     ]
    },
    {
     "name": "stdout",
     "output_type": "stream",
     "text": [
      "[{'Key': 1, 'Timestamp Leeftijdsgroep RIVM': '2021-12-10 15:15'}]\n"
     ]
    },
    {
     "name": "stderr",
     "output_type": "stream",
     "text": [
      "\n"
     ]
    },
    {
     "name": "stdout",
     "output_type": "stream",
     "text": [
      "timestamps: [{'Key': 1, 'Timestamp Leeftijdsgroep RIVM': '2021-12-10 15:15'}]\n",
      "Key                               int64\n",
      "Timestamp Leeftijdsgroep RIVM    object\n",
      "dtype: object\n"
     ]
    },
    {
     "name": "stderr",
     "output_type": "stream",
     "text": [
      "\r",
      "  0%|          | 0/1 [00:00<?, ?it/s]"
     ]
    },
    {
     "name": "stderr",
     "output_type": "stream",
     "text": [
      "\r",
      "100%|██████████| 1/1 [00:01<00:00,  1.20s/it]"
     ]
    },
    {
     "name": "stderr",
     "output_type": "stream",
     "text": [
      "\r",
      "100%|██████████| 1/1 [00:01<00:00,  1.20s/it]"
     ]
    },
    {
     "name": "stdout",
     "output_type": "stream",
     "text": [
      "\n",
      "rate limit: 7 \n",
      "LaatsteUpdate API calls: create: 0, read: 0, update: 1, delete: 0, backoff: 0\n"
     ]
    },
    {
     "name": "stderr",
     "output_type": "stream",
     "text": [
      "\n"
     ]
    },
    {
     "name": "stdout",
     "output_type": "stream",
     "text": [
      "BatchName     object\n",
      "ObjectName    object\n",
      "Source        object\n",
      "Timestamp     object\n",
      "dtype: object\n"
     ]
    },
    {
     "name": "stderr",
     "output_type": "stream",
     "text": [
      "\r",
      "  0%|          | 0/1 [00:00<?, ?it/s]"
     ]
    },
    {
     "name": "stderr",
     "output_type": "stream",
     "text": [
      "\r",
      "100%|██████████| 1/1 [00:01<00:00,  1.51s/it]"
     ]
    },
    {
     "name": "stderr",
     "output_type": "stream",
     "text": [
      "\r",
      "100%|██████████| 1/1 [00:01<00:00,  1.51s/it]"
     ]
    },
    {
     "name": "stdout",
     "output_type": "stream",
     "text": [
      "\n",
      "rate limit: 7 \n",
      "UpdateDetails API calls: create: 1, read: 0, update: 0, delete: 0, backoff: 0\n"
     ]
    },
    {
     "name": "stderr",
     "output_type": "stream",
     "text": [
      "\n"
     ]
    },
    {
     "name": "stdout",
     "output_type": "stream",
     "text": [
      "updating: [{'Key': 1, 'Updating Leeftijdsgroep': 'false'}]\n",
      "Key                         int64\n",
      "Updating Leeftijdsgroep    object\n",
      "dtype: object\n"
     ]
    },
    {
     "name": "stderr",
     "output_type": "stream",
     "text": [
      "\r",
      "  0%|          | 0/1 [00:00<?, ?it/s]"
     ]
    },
    {
     "name": "stderr",
     "output_type": "stream",
     "text": [
      "\r",
      "100%|██████████| 1/1 [00:01<00:00,  1.56s/it]"
     ]
    },
    {
     "name": "stderr",
     "output_type": "stream",
     "text": [
      "\r",
      "100%|██████████| 1/1 [00:01<00:00,  1.56s/it]"
     ]
    },
    {
     "name": "stdout",
     "output_type": "stream",
     "text": [
      "\n",
      "rate limit: 7 \n",
      "LaatsteUpdate API calls: create: 0, read: 0, update: 1, delete: 0, backoff: 0\n"
     ]
    },
    {
     "name": "stderr",
     "output_type": "stream",
     "text": [
      "\n"
     ]
    }
   ],
   "source": [
    "if knack:\n",
    "  await knack.publish(tabel.fillna(0).assign(Datum=tabel.Datum.dt.strftime('%Y-%m-%d')), 'Leeftijdsgroep', Cache)"
   ]
  }
 ],
 "metadata": {
  "jupytext": {
   "cell_metadata_filter": "title,-all"
  },
  "kernelspec": {
   "display_name": "Python 3 (ipykernel)",
   "language": "python",
   "name": "python3"
  },
  "language_info": {
   "codemirror_mode": {
    "name": "ipython",
    "version": 3
   },
   "file_extension": ".py",
   "mimetype": "text/x-python",
   "name": "python",
   "nbconvert_exporter": "python",
   "pygments_lexer": "ipython3",
   "version": "3.9.9"
  },
  "papermill": {
   "default_parameters": {},
   "duration": 660.35112,
   "end_time": "2021-12-10T14:43:46.556620",
   "environment_variables": {},
   "exception": null,
   "input_path": "-",
   "output_path": "LeeftijdsgroepenLandelijk.ipynb",
   "parameters": {},
   "start_time": "2021-12-10T14:32:46.205500",
   "version": "2.3.3"
  }
 },
 "nbformat": 4,
 "nbformat_minor": 5
}