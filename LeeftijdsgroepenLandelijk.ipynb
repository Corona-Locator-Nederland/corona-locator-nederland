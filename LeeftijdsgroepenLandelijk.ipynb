{
 "cells": [
  {
   "cell_type": "code",
   "execution_count": 1,
   "id": "3d55ec87",
   "metadata": {
    "execution": {
     "iopub.execute_input": "2022-03-30T11:14:48.582770Z",
     "iopub.status.busy": "2022-03-30T11:14:48.582409Z",
     "iopub.status.idle": "2022-03-30T11:14:50.964683Z",
     "shell.execute_reply": "2022-03-30T11:14:50.963744Z"
    },
    "lines_to_next_cell": 1,
    "papermill": {
     "duration": 2.392941,
     "end_time": "2022-03-30T11:14:50.967294",
     "exception": false,
     "start_time": "2022-03-30T11:14:48.574353",
     "status": "completed"
    },
    "tags": []
   },
   "outputs": [
    {
     "name": "stderr",
     "output_type": "stream",
     "text": [
      "/tmp/ipykernel_2024/2820714271.py:2: DeprecationWarning: Importing display from IPython.core.display is deprecated since IPython 7.14, please import from IPython display\n",
      "  from IPython.core.display import display\n"
     ]
    }
   ],
   "source": [
    "from IPython import get_ipython\n",
    "from IPython.core.display import display\n",
    "get_ipython().run_line_magic('load_ext', 'autoreload')\n",
    "get_ipython().run_line_magic('autoreload', '2')\n",
    "get_ipython().run_line_magic('run', 'setup')"
   ]
  },
  {
   "cell_type": "code",
   "execution_count": 2,
   "id": "cf4ec389",
   "metadata": {
    "execution": {
     "iopub.execute_input": "2022-03-30T11:14:50.982417Z",
     "iopub.status.busy": "2022-03-30T11:14:50.982172Z",
     "iopub.status.idle": "2022-03-30T11:15:05.635501Z",
     "shell.execute_reply": "2022-03-30T11:15:05.634750Z"
    },
    "lines_to_next_cell": 1,
    "papermill": {
     "duration": 14.663067,
     "end_time": "2022-03-30T11:15:05.637742",
     "exception": false,
     "start_time": "2022-03-30T11:14:50.974675",
     "status": "completed"
    },
    "tags": [],
    "title": "Leeftijdsgroepen: download RIVM casus-data"
   },
   "outputs": [
    {
     "name": "stdout",
     "output_type": "stream",
     "text": [
      "rivm/COVID-19_casus_landelijk-2022-03-29@13-15.csv exists\n"
     ]
    },
    {
     "name": "stdout",
     "output_type": "stream",
     "text": [
      "loading rivm/COVID-19_casus_landelijk-2022-03-29@13-15.csv.gz\n"
     ]
    },
    {
     "data": {
      "text/html": [
       "<div>\n",
       "<style scoped>\n",
       "    .dataframe tbody tr th:only-of-type {\n",
       "        vertical-align: middle;\n",
       "    }\n",
       "\n",
       "    .dataframe tbody tr th {\n",
       "        vertical-align: top;\n",
       "    }\n",
       "\n",
       "    .dataframe thead th {\n",
       "        text-align: right;\n",
       "    }\n",
       "</style>\n",
       "<table border=\"1\" class=\"dataframe\">\n",
       "  <thead>\n",
       "    <tr style=\"text-align: right;\">\n",
       "      <th></th>\n",
       "      <th>Version</th>\n",
       "      <th>Date_file</th>\n",
       "      <th>Date_statistics</th>\n",
       "      <th>Date_statistics_type</th>\n",
       "      <th>Agegroup</th>\n",
       "      <th>Sex</th>\n",
       "      <th>Province</th>\n",
       "      <th>Deceased</th>\n",
       "      <th>Week_of_death</th>\n",
       "      <th>Municipal_health_service</th>\n",
       "    </tr>\n",
       "  </thead>\n",
       "  <tbody>\n",
       "    <tr>\n",
       "      <th>0</th>\n",
       "      <td>4</td>\n",
       "      <td>2022-03-29 10:00:00</td>\n",
       "      <td>2020-01-01</td>\n",
       "      <td>DOO</td>\n",
       "      <td>40-49</td>\n",
       "      <td>Female</td>\n",
       "      <td>Noord-Holland</td>\n",
       "      <td>No</td>\n",
       "      <td>NaN</td>\n",
       "      <td>GGD Amsterdam</td>\n",
       "    </tr>\n",
       "    <tr>\n",
       "      <th>1</th>\n",
       "      <td>4</td>\n",
       "      <td>2022-03-29 10:00:00</td>\n",
       "      <td>2020-01-01</td>\n",
       "      <td>DOO</td>\n",
       "      <td>50-59</td>\n",
       "      <td>Male</td>\n",
       "      <td>Gelderland</td>\n",
       "      <td>No</td>\n",
       "      <td>NaN</td>\n",
       "      <td>Veiligheids- en Gezondheidsregio Gelderland-Mi...</td>\n",
       "    </tr>\n",
       "    <tr>\n",
       "      <th>2</th>\n",
       "      <td>4</td>\n",
       "      <td>2022-03-29 10:00:00</td>\n",
       "      <td>2020-01-01</td>\n",
       "      <td>DOO</td>\n",
       "      <td>20-29</td>\n",
       "      <td>Female</td>\n",
       "      <td>Zuid-Holland</td>\n",
       "      <td>No</td>\n",
       "      <td>NaN</td>\n",
       "      <td>GGD Hollands-Midden</td>\n",
       "    </tr>\n",
       "    <tr>\n",
       "      <th>3</th>\n",
       "      <td>4</td>\n",
       "      <td>2022-03-29 10:00:00</td>\n",
       "      <td>2020-01-01</td>\n",
       "      <td>DOO</td>\n",
       "      <td>60-69</td>\n",
       "      <td>Female</td>\n",
       "      <td>Noord-Holland</td>\n",
       "      <td>No</td>\n",
       "      <td>NaN</td>\n",
       "      <td>GGD Hollands-Noorden</td>\n",
       "    </tr>\n",
       "    <tr>\n",
       "      <th>4</th>\n",
       "      <td>4</td>\n",
       "      <td>2022-03-29 10:00:00</td>\n",
       "      <td>2020-01-04</td>\n",
       "      <td>DOO</td>\n",
       "      <td>10-19</td>\n",
       "      <td>Female</td>\n",
       "      <td>Gelderland</td>\n",
       "      <td>No</td>\n",
       "      <td>NaN</td>\n",
       "      <td>GGD Gelderland-Zuid</td>\n",
       "    </tr>\n",
       "  </tbody>\n",
       "</table>\n",
       "</div>"
      ],
      "text/plain": [
       "   Version            Date_file Date_statistics Date_statistics_type Agegroup  \\\n",
       "0        4  2022-03-29 10:00:00      2020-01-01                  DOO    40-49   \n",
       "1        4  2022-03-29 10:00:00      2020-01-01                  DOO    50-59   \n",
       "2        4  2022-03-29 10:00:00      2020-01-01                  DOO    20-29   \n",
       "3        4  2022-03-29 10:00:00      2020-01-01                  DOO    60-69   \n",
       "4        4  2022-03-29 10:00:00      2020-01-04                  DOO    10-19   \n",
       "\n",
       "      Sex       Province Deceased  Week_of_death  \\\n",
       "0  Female  Noord-Holland       No            NaN   \n",
       "1    Male     Gelderland       No            NaN   \n",
       "2  Female   Zuid-Holland       No            NaN   \n",
       "3  Female  Noord-Holland       No            NaN   \n",
       "4  Female     Gelderland       No            NaN   \n",
       "\n",
       "                            Municipal_health_service  \n",
       "0                                      GGD Amsterdam  \n",
       "1  Veiligheids- en Gezondheidsregio Gelderland-Mi...  \n",
       "2                                GGD Hollands-Midden  \n",
       "3                               GGD Hollands-Noorden  \n",
       "4                                GGD Gelderland-Zuid  "
      ]
     },
     "metadata": {},
     "output_type": "display_data"
    }
   ],
   "source": [
    "# Leeftijdsgroepen: download RIVM casus-data\n",
    "@run\n",
    "def cell():\n",
    "  global rivm\n",
    "  rivm = RIVM.csv('COVID-19_casus_landelijk')\n",
    "  display(rivm.head())"
   ]
  },
  {
   "cell_type": "code",
   "execution_count": 3,
   "id": "44053b8c",
   "metadata": {
    "execution": {
     "iopub.execute_input": "2022-03-30T11:15:05.661120Z",
     "iopub.status.busy": "2022-03-30T11:15:05.660440Z",
     "iopub.status.idle": "2022-03-30T11:15:10.834370Z",
     "shell.execute_reply": "2022-03-30T11:15:10.833428Z"
    },
    "lines_to_next_cell": 1,
    "papermill": {
     "duration": 5.189484,
     "end_time": "2022-03-30T11:15:10.836337",
     "exception": false,
     "start_time": "2022-03-30T11:15:05.646853",
     "status": "completed"
    },
    "tags": [],
    "title": "Leeftijdsgroepen: download CBS bevolkingscijfers, uitgesplitst op de leeftijdscategorien zoals bij RIVM"
   },
   "outputs": [
    {
     "name": "stderr",
     "output_type": "stream",
     "text": [
      "/home/runner/work/corona-locator-nederland/corona-locator-nederland/setup.py:146: FutureWarning: The frame.append method is deprecated and will be removed from pandas in a future version. Use pandas.concat instead.\n",
      "  data = data.append(pd.DataFrame(r['value']))\n"
     ]
    },
    {
     "name": "stderr",
     "output_type": "stream",
     "text": [
      "/home/runner/work/corona-locator-nederland/corona-locator-nederland/setup.py:146: FutureWarning: The frame.append method is deprecated and will be removed from pandas in a future version. Use pandas.concat instead.\n",
      "  data = data.append(pd.DataFrame(r['value']))\n"
     ]
    },
    {
     "name": "stderr",
     "output_type": "stream",
     "text": [
      "/home/runner/work/corona-locator-nederland/corona-locator-nederland/setup.py:146: FutureWarning: The frame.append method is deprecated and will be removed from pandas in a future version. Use pandas.concat instead.\n",
      "  data = data.append(pd.DataFrame(r['value']))\n"
     ]
    },
    {
     "name": "stderr",
     "output_type": "stream",
     "text": [
      "/home/runner/work/corona-locator-nederland/corona-locator-nederland/setup.py:146: FutureWarning: The frame.append method is deprecated and will be removed from pandas in a future version. Use pandas.concat instead.\n",
      "  data = data.append(pd.DataFrame(r['value']))\n"
     ]
    },
    {
     "name": "stderr",
     "output_type": "stream",
     "text": [
      "/home/runner/work/corona-locator-nederland/corona-locator-nederland/setup.py:146: FutureWarning: The frame.append method is deprecated and will be removed from pandas in a future version. Use pandas.concat instead.\n",
      "  data = data.append(pd.DataFrame(r['value']))\n"
     ]
    },
    {
     "name": "stderr",
     "output_type": "stream",
     "text": [
      "/home/runner/work/corona-locator-nederland/corona-locator-nederland/setup.py:146: FutureWarning: The frame.append method is deprecated and will be removed from pandas in a future version. Use pandas.concat instead.\n",
      "  data = data.append(pd.DataFrame(r['value']))\n"
     ]
    },
    {
     "name": "stderr",
     "output_type": "stream",
     "text": [
      "/home/runner/work/corona-locator-nederland/corona-locator-nederland/setup.py:146: FutureWarning: The frame.append method is deprecated and will be removed from pandas in a future version. Use pandas.concat instead.\n",
      "  data = data.append(pd.DataFrame(r['value']))\n"
     ]
    },
    {
     "data": {
      "text/html": [
       "<div>\n",
       "<style scoped>\n",
       "    .dataframe tbody tr th:only-of-type {\n",
       "        vertical-align: middle;\n",
       "    }\n",
       "\n",
       "    .dataframe tbody tr th {\n",
       "        vertical-align: top;\n",
       "    }\n",
       "\n",
       "    .dataframe thead th {\n",
       "        text-align: right;\n",
       "    }\n",
       "</style>\n",
       "<table border=\"1\" class=\"dataframe\">\n",
       "  <thead>\n",
       "    <tr style=\"text-align: right;\">\n",
       "      <th></th>\n",
       "      <th>BevolkingOpDeEersteVanDeMaand</th>\n",
       "      <th>per 100k</th>\n",
       "    </tr>\n",
       "    <tr>\n",
       "      <th>Range</th>\n",
       "      <th></th>\n",
       "      <th></th>\n",
       "    </tr>\n",
       "  </thead>\n",
       "  <tbody>\n",
       "    <tr>\n",
       "      <th>0-9</th>\n",
       "      <td>1758061</td>\n",
       "      <td>0.056881</td>\n",
       "    </tr>\n",
       "    <tr>\n",
       "      <th>10-19</th>\n",
       "      <td>1975597</td>\n",
       "      <td>0.050618</td>\n",
       "    </tr>\n",
       "    <tr>\n",
       "      <th>20-29</th>\n",
       "      <td>2268528</td>\n",
       "      <td>0.044081</td>\n",
       "    </tr>\n",
       "    <tr>\n",
       "      <th>30-39</th>\n",
       "      <td>2225390</td>\n",
       "      <td>0.044936</td>\n",
       "    </tr>\n",
       "    <tr>\n",
       "      <th>40-49</th>\n",
       "      <td>2130965</td>\n",
       "      <td>0.046927</td>\n",
       "    </tr>\n",
       "  </tbody>\n",
       "</table>\n",
       "</div>"
      ],
      "text/plain": [
       "       BevolkingOpDeEersteVanDeMaand  per 100k\n",
       "Range                                         \n",
       "0-9                          1758061  0.056881\n",
       "10-19                        1975597  0.050618\n",
       "20-29                        2268528  0.044081\n",
       "30-39                        2225390  0.044936\n",
       "40-49                        2130965  0.046927"
      ]
     },
     "metadata": {},
     "output_type": "display_data"
    }
   ],
   "source": [
    "# Leeftijdsgroepen: download CBS bevolkingscijfers, uitgesplitst op de leeftijdscategorien zoals bij RIVM\n",
    "@run\n",
    "def cell():\n",
    "  global bevolking\n",
    "  # probeer de laatste leeftijdsgroepen op te halen bij het CBS, ververs de fallback-file \n",
    "  try:\n",
    "    bevolking = CBS.bevolking(leeftijdsgroepen=True)\n",
    "    bevolking.to_csv(\"cbs/leeftijdsgroepen_cbs.csv\")\n",
    "  # als het niet is gelukt de CBS file op te halen, gebruik de fallback-file en pas de index klom aan\n",
    "  except Exception as e:\n",
    "    print(e)\n",
    "    bevolking = pd.read_csv(\"cbs/leeftijdsgroepen_cbs.csv\")\n",
    "    bevolking.set_index('Range', inplace=True)\n",
    "  display(bevolking.head())"
   ]
  },
  {
   "cell_type": "code",
   "execution_count": 4,
   "id": "948f613e",
   "metadata": {
    "execution": {
     "iopub.execute_input": "2022-03-30T11:15:10.865222Z",
     "iopub.status.busy": "2022-03-30T11:15:10.864952Z",
     "iopub.status.idle": "2022-03-30T11:15:47.882110Z",
     "shell.execute_reply": "2022-03-30T11:15:47.881277Z"
    },
    "lines_to_next_cell": 1,
    "papermill": {
     "duration": 37.048427,
     "end_time": "2022-03-30T11:15:47.895823",
     "exception": false,
     "start_time": "2022-03-30T11:15:10.847396",
     "status": "completed"
    },
    "tags": [],
    "title": "Leeftijdsgroepen: bereken per cohort besmettingen / opnamen / sterfte (incl. kleurcode), in aantal en per 100k. Vervang <50 en Unknown door Onbekend"
   },
   "outputs": [
    {
     "data": {
      "text/html": [
       "<div>\n",
       "<style scoped>\n",
       "    .dataframe tbody tr th:only-of-type {\n",
       "        vertical-align: middle;\n",
       "    }\n",
       "\n",
       "    .dataframe tbody tr th {\n",
       "        vertical-align: top;\n",
       "    }\n",
       "\n",
       "    .dataframe thead th {\n",
       "        text-align: right;\n",
       "    }\n",
       "</style>\n",
       "<table border=\"1\" class=\"dataframe\">\n",
       "  <thead>\n",
       "    <tr style=\"text-align: right;\">\n",
       "      <th></th>\n",
       "      <th>Date_file</th>\n",
       "      <th>Date_statistics</th>\n",
       "      <th>Date_statistics_type</th>\n",
       "      <th>Agegroup</th>\n",
       "      <th>Sex</th>\n",
       "      <th>Province</th>\n",
       "      <th>Deceased</th>\n",
       "      <th>Week_of_death</th>\n",
       "      <th>Municipal_health_service</th>\n",
       "    </tr>\n",
       "  </thead>\n",
       "  <tbody>\n",
       "    <tr>\n",
       "      <th>0</th>\n",
       "      <td>2022-03-29 10:00:00</td>\n",
       "      <td>2020-01-01</td>\n",
       "      <td>DOO</td>\n",
       "      <td>40-49</td>\n",
       "      <td>Female</td>\n",
       "      <td>Noord-Holland</td>\n",
       "      <td>No</td>\n",
       "      <td>NaN</td>\n",
       "      <td>GGD Amsterdam</td>\n",
       "    </tr>\n",
       "    <tr>\n",
       "      <th>1</th>\n",
       "      <td>2022-03-29 10:00:00</td>\n",
       "      <td>2020-01-01</td>\n",
       "      <td>DOO</td>\n",
       "      <td>50-59</td>\n",
       "      <td>Male</td>\n",
       "      <td>Gelderland</td>\n",
       "      <td>No</td>\n",
       "      <td>NaN</td>\n",
       "      <td>Veiligheids- en Gezondheidsregio Gelderland-Mi...</td>\n",
       "    </tr>\n",
       "    <tr>\n",
       "      <th>2</th>\n",
       "      <td>2022-03-29 10:00:00</td>\n",
       "      <td>2020-01-01</td>\n",
       "      <td>DOO</td>\n",
       "      <td>20-29</td>\n",
       "      <td>Female</td>\n",
       "      <td>Zuid-Holland</td>\n",
       "      <td>No</td>\n",
       "      <td>NaN</td>\n",
       "      <td>GGD Hollands-Midden</td>\n",
       "    </tr>\n",
       "    <tr>\n",
       "      <th>3</th>\n",
       "      <td>2022-03-29 10:00:00</td>\n",
       "      <td>2020-01-01</td>\n",
       "      <td>DOO</td>\n",
       "      <td>60-69</td>\n",
       "      <td>Female</td>\n",
       "      <td>Noord-Holland</td>\n",
       "      <td>No</td>\n",
       "      <td>NaN</td>\n",
       "      <td>GGD Hollands-Noorden</td>\n",
       "    </tr>\n",
       "    <tr>\n",
       "      <th>4</th>\n",
       "      <td>2022-03-29 10:00:00</td>\n",
       "      <td>2020-01-04</td>\n",
       "      <td>DOO</td>\n",
       "      <td>10-19</td>\n",
       "      <td>Female</td>\n",
       "      <td>Gelderland</td>\n",
       "      <td>No</td>\n",
       "      <td>NaN</td>\n",
       "      <td>GGD Gelderland-Zuid</td>\n",
       "    </tr>\n",
       "  </tbody>\n",
       "</table>\n",
       "</div>"
      ],
      "text/plain": [
       "             Date_file Date_statistics Date_statistics_type Agegroup     Sex  \\\n",
       "0  2022-03-29 10:00:00      2020-01-01                  DOO    40-49  Female   \n",
       "1  2022-03-29 10:00:00      2020-01-01                  DOO    50-59    Male   \n",
       "2  2022-03-29 10:00:00      2020-01-01                  DOO    20-29  Female   \n",
       "3  2022-03-29 10:00:00      2020-01-01                  DOO    60-69  Female   \n",
       "4  2022-03-29 10:00:00      2020-01-04                  DOO    10-19  Female   \n",
       "\n",
       "        Province Deceased  Week_of_death  \\\n",
       "0  Noord-Holland       No            NaN   \n",
       "1     Gelderland       No            NaN   \n",
       "2   Zuid-Holland       No            NaN   \n",
       "3  Noord-Holland       No            NaN   \n",
       "4     Gelderland       No            NaN   \n",
       "\n",
       "                            Municipal_health_service  \n",
       "0                                      GGD Amsterdam  \n",
       "1  Veiligheids- en Gezondheidsregio Gelderland-Mi...  \n",
       "2                                GGD Hollands-Midden  \n",
       "3                               GGD Hollands-Noorden  \n",
       "4                                GGD Gelderland-Zuid  "
      ]
     },
     "metadata": {},
     "output_type": "display_data"
    },
    {
     "data": {
      "text/html": [
       "<div>\n",
       "<style scoped>\n",
       "    .dataframe tbody tr th:only-of-type {\n",
       "        vertical-align: middle;\n",
       "    }\n",
       "\n",
       "    .dataframe tbody tr th {\n",
       "        vertical-align: top;\n",
       "    }\n",
       "\n",
       "    .dataframe thead th {\n",
       "        text-align: right;\n",
       "    }\n",
       "</style>\n",
       "<table border=\"1\" class=\"dataframe\">\n",
       "  <thead>\n",
       "    <tr style=\"text-align: right;\">\n",
       "      <th></th>\n",
       "      <th>Key</th>\n",
       "      <th>Weken terug</th>\n",
       "      <th>Datum</th>\n",
       "      <th>Periode</th>\n",
       "      <th>Gemiddelde leeftijd</th>\n",
       "      <th>Totaal</th>\n",
       "      <th>Type</th>\n",
       "      <th>0-9</th>\n",
       "      <th>10-19</th>\n",
       "      <th>20-29</th>\n",
       "      <th>...</th>\n",
       "      <th>c10-19</th>\n",
       "      <th>c20-29</th>\n",
       "      <th>c30-39</th>\n",
       "      <th>c40-49</th>\n",
       "      <th>c50-59</th>\n",
       "      <th>c60-69</th>\n",
       "      <th>c70-79</th>\n",
       "      <th>c80-89</th>\n",
       "      <th>c90+</th>\n",
       "      <th>cOnbekend</th>\n",
       "    </tr>\n",
       "  </thead>\n",
       "  <tbody>\n",
       "    <tr>\n",
       "      <th>0</th>\n",
       "      <td>p000</td>\n",
       "      <td>0</td>\n",
       "      <td>2022-03-29</td>\n",
       "      <td>23/03-29/03</td>\n",
       "      <td>46.199771</td>\n",
       "      <td>164552.0</td>\n",
       "      <td>Positief getest</td>\n",
       "      <td>5706.0</td>\n",
       "      <td>10880.0</td>\n",
       "      <td>21110.0</td>\n",
       "      <td>...</td>\n",
       "      <td>372</td>\n",
       "      <td>721</td>\n",
       "      <td>976</td>\n",
       "      <td>834</td>\n",
       "      <td>1000</td>\n",
       "      <td>822</td>\n",
       "      <td>509</td>\n",
       "      <td>154</td>\n",
       "      <td>39</td>\n",
       "      <td>0</td>\n",
       "    </tr>\n",
       "    <tr>\n",
       "      <th>1</th>\n",
       "      <td>p001</td>\n",
       "      <td>1</td>\n",
       "      <td>2022-03-29</td>\n",
       "      <td>16/03-22/03</td>\n",
       "      <td>45.036841</td>\n",
       "      <td>291530.0</td>\n",
       "      <td>Positief getest</td>\n",
       "      <td>11452.0</td>\n",
       "      <td>22394.0</td>\n",
       "      <td>40865.0</td>\n",
       "      <td>...</td>\n",
       "      <td>444</td>\n",
       "      <td>811</td>\n",
       "      <td>1000</td>\n",
       "      <td>844</td>\n",
       "      <td>990</td>\n",
       "      <td>763</td>\n",
       "      <td>495</td>\n",
       "      <td>168</td>\n",
       "      <td>41</td>\n",
       "      <td>0</td>\n",
       "    </tr>\n",
       "    <tr>\n",
       "      <th>2</th>\n",
       "      <td>p002</td>\n",
       "      <td>2</td>\n",
       "      <td>2022-03-29</td>\n",
       "      <td>09/03-15/03</td>\n",
       "      <td>42.956369</td>\n",
       "      <td>413580.0</td>\n",
       "      <td>Positief getest</td>\n",
       "      <td>15349.0</td>\n",
       "      <td>37412.0</td>\n",
       "      <td>70714.0</td>\n",
       "      <td>...</td>\n",
       "      <td>514</td>\n",
       "      <td>972</td>\n",
       "      <td>1000</td>\n",
       "      <td>811</td>\n",
       "      <td>950</td>\n",
       "      <td>663</td>\n",
       "      <td>393</td>\n",
       "      <td>138</td>\n",
       "      <td>31</td>\n",
       "      <td>0</td>\n",
       "    </tr>\n",
       "    <tr>\n",
       "      <th>3</th>\n",
       "      <td>p003</td>\n",
       "      <td>3</td>\n",
       "      <td>2022-03-29</td>\n",
       "      <td>02/03-08/03</td>\n",
       "      <td>38.436251</td>\n",
       "      <td>468059.0</td>\n",
       "      <td>Positief getest</td>\n",
       "      <td>14385.0</td>\n",
       "      <td>57048.0</td>\n",
       "      <td>115290.0</td>\n",
       "      <td>...</td>\n",
       "      <td>494</td>\n",
       "      <td>1000</td>\n",
       "      <td>717</td>\n",
       "      <td>557</td>\n",
       "      <td>607</td>\n",
       "      <td>326</td>\n",
       "      <td>162</td>\n",
       "      <td>56</td>\n",
       "      <td>12</td>\n",
       "      <td>0</td>\n",
       "    </tr>\n",
       "    <tr>\n",
       "      <th>4</th>\n",
       "      <td>p004</td>\n",
       "      <td>4</td>\n",
       "      <td>2022-03-29</td>\n",
       "      <td>23/02-01/03</td>\n",
       "      <td>37.279577</td>\n",
       "      <td>253523.0</td>\n",
       "      <td>Positief getest</td>\n",
       "      <td>11092.0</td>\n",
       "      <td>30919.0</td>\n",
       "      <td>63839.0</td>\n",
       "      <td>...</td>\n",
       "      <td>484</td>\n",
       "      <td>1000</td>\n",
       "      <td>747</td>\n",
       "      <td>537</td>\n",
       "      <td>519</td>\n",
       "      <td>295</td>\n",
       "      <td>147</td>\n",
       "      <td>52</td>\n",
       "      <td>13</td>\n",
       "      <td>0</td>\n",
       "    </tr>\n",
       "  </tbody>\n",
       "</table>\n",
       "<p>5 rows × 29 columns</p>\n",
       "</div>"
      ],
      "text/plain": [
       "    Key  Weken terug      Datum      Periode  Gemiddelde leeftijd    Totaal  \\\n",
       "0  p000            0 2022-03-29  23/03-29/03            46.199771  164552.0   \n",
       "1  p001            1 2022-03-29  16/03-22/03            45.036841  291530.0   \n",
       "2  p002            2 2022-03-29  09/03-15/03            42.956369  413580.0   \n",
       "3  p003            3 2022-03-29  02/03-08/03            38.436251  468059.0   \n",
       "4  p004            4 2022-03-29  23/02-01/03            37.279577  253523.0   \n",
       "\n",
       "              Type      0-9    10-19     20-29  ...  c10-19  c20-29  c30-39  \\\n",
       "0  Positief getest   5706.0  10880.0   21110.0  ...     372     721     976   \n",
       "1  Positief getest  11452.0  22394.0   40865.0  ...     444     811    1000   \n",
       "2  Positief getest  15349.0  37412.0   70714.0  ...     514     972    1000   \n",
       "3  Positief getest  14385.0  57048.0  115290.0  ...     494    1000     717   \n",
       "4  Positief getest  11092.0  30919.0   63839.0  ...     484    1000     747   \n",
       "\n",
       "   c40-49  c50-59  c60-69  c70-79  c80-89  c90+  cOnbekend  \n",
       "0     834    1000     822     509     154    39          0  \n",
       "1     844     990     763     495     168    41          0  \n",
       "2     811     950     663     393     138    31          0  \n",
       "3     557     607     326     162      56    12          0  \n",
       "4     537     519     295     147      52    13          0  \n",
       "\n",
       "[5 rows x 29 columns]"
      ]
     },
     "metadata": {},
     "output_type": "display_data"
    }
   ],
   "source": [
    "# Leeftijdsgroepen: bereken per cohort besmettingen / opnamen / sterfte (incl. kleurcode), in aantal en per 100k. Vervang <50 en Unknown door Onbekend\n",
    "@run\n",
    "def cell():\n",
    "  #  kolom is in version 2 per 18-1-22 toegevoegd, verwijderen:\n",
    "  rivm.drop('Version', inplace=True, axis=1)\n",
    "  display(rivm.head())\n",
    "  rivm['Cohort'] = rivm['Agegroup'].replace({'<50': 'Onbekend', 'Unknown': 'Onbekend'})\n",
    "  # aangenomen 'gemiddelde' leeftijd van een cohort: minimum waarde + 5\n",
    "  assumed_cohort_age = [(cohort, [int(n) for n in cohort.replace('+', '').split('-')]) for cohort in rivm['Cohort'].unique() if cohort[0].isdigit()]\n",
    "  assumed_cohort_age = { cohort: min(rng) + 5 for cohort, rng in assumed_cohort_age }\n",
    "  rivm['Gemiddelde leeftijd'] = rivm['Cohort'].apply(lambda x: assumed_cohort_age.get(x, np.nan))\n",
    "\n",
    "  # verwijder tijd\n",
    "  rivm['Date_file_date'] = pd.to_datetime(rivm['Date_file'].replace(r' .*', '', regex=True))\n",
    "\n",
    "  rivm['Date_statistics_date'] = pd.to_datetime(rivm['Date_statistics'])\n",
    "\n",
    "  # weken terug = verschil tussen Date_file en Date_statistcs, gedeeld door 7 dagen\n",
    "  rivm['Weken terug'] = np.floor((rivm['Date_file_date'] - rivm['Date_statistics_date'])/np.timedelta64(7, 'D')).astype(int)\n",
    "\n",
    "  # voeg key, gem leeftijd, kleurnummer en totaal toe\n",
    "  Date_file = rivm['Date_file_date'].unique()[0].astype('M8[D]').astype('O')\n",
    "  cohorten = list(bevolking.index) + ['Onbekend']\n",
    "\n",
    "  def summarize(df, category, prefix):\n",
    "    # aangezien we hier de dataframe in-place wijzigen (bijv door toevoegen kolommen)\n",
    "    # en we het 'rivm' frame later nog clean nodig hebben\n",
    "    df = df.copy(deep=True)\n",
    "\n",
    "    df = (df\n",
    "          .groupby(['Weken terug', 'Cohort'])['count']\n",
    "          .sum()\n",
    "          .unstack(fill_value=np.nan)\n",
    "          .reset_index()\n",
    "          .rename_axis(None, axis=1)\n",
    "        ).merge(df\n",
    "          # we voegen hier gemiddelde leeftijd toe, want die willen we op een ander\n",
    "          # niveau aggregeren voor 'df' overschreven word\n",
    "          .groupby(['Weken terug'])['Gemiddelde leeftijd']\n",
    "          .mean()\n",
    "          .to_frame(), on='Weken terug'\n",
    "        )\n",
    "\n",
    "    # altijd 52 rijen\n",
    "    df = pd.Series(np.arange(52), name='Weken terug').to_frame().merge(df, how='left', on='Weken terug')\n",
    "\n",
    "    # toevoegen missende cohorten\n",
    "    for col in cohorten:\n",
    "      if not col in df:\n",
    "        df[col] = np.nan\n",
    "\n",
    "    # sommeer per rij (axis=1) over de cohorten om een totaal te krijgen\n",
    "    df['Totaal'] = df[cohorten].sum(axis=1)\n",
    "\n",
    "    # voeg periode en datum toe\n",
    "    # periode afgeleid van weken-terug (= de index voor deze dataframe)\n",
    "    df['Datum'] = pd.to_datetime(Date_file)\n",
    "    df['Periode'] = (df\n",
    "      .index.to_series()\n",
    "      .apply(\n",
    "        lambda x: (\n",
    "          (Date_file + datetime.timedelta(weeks=-(x+1), days=1)).strftime('%d/%m')\n",
    "          + '-'\n",
    "          + (Date_file + datetime.timedelta(weeks=-x)).strftime('%d/%m')\n",
    "        )\n",
    "      )\n",
    "    )\n",
    "\n",
    "    # voeg 'Key' en 'Type' kolom toe. Variabele 'type' kan niet, is een language primitive.\n",
    "    df['Key'] = prefix + df.index.astype(str).str.rjust(3, fillchar='0')\n",
    "    df['Type'] = category\n",
    "\n",
    "    # voeg de kleur kolommen toe\n",
    "    for col in cohorten:\n",
    "      df['c' + col] = ((df[col] / df[[col for col in cohorten]].max(axis=1)) * 1000).fillna(0).astype(int)\n",
    "\n",
    "    # herschikken van de kolommen\n",
    "    colorder = ['Key', 'Weken terug', 'Datum', 'Periode', 'Gemiddelde leeftijd', 'Totaal', 'Type']\n",
    "    return df[colorder + [col for col in df if col not in colorder]]\n",
    "\n",
    "  factor = bevolking.to_dict()['per 100k']\n",
    "\n",
    "  global tabel\n",
    "  tabel = pd.concat(\n",
    "    # flatten the result list zodat pd.concat ze onder elkaar kan plakken\n",
    "    functools.reduce(lambda a, b: a + b, [\n",
    "      [summarize(df.assign(count=1), label, prefix), summarize(df.assign(count=df['Cohort'].apply(lambda x: factor.get(x, np.nan))), label + ' per 100.000', prefix + '100k')]\n",
    "      for df, label, prefix in [\n",
    "        (rivm, 'Positief getest', 'p'), # volledige count per cohort\n",
    "        (rivm[rivm.Deceased == 'Yes'], 'Overleden', 'd'), # count van cohort voor Deceased == 'Yes'\n",
    "      ]\n",
    "    ])\n",
    "  )\n",
    "\n",
    "  # bij /100k is het Totaal-veld geen optelsom maar wordt berekend obv de gehele bevolking\n",
    "  totale_bevolking_per_cohort = bevolking.to_dict()['BevolkingOpDeEersteVanDeMaand']\n",
    "  totale_bevolking = sum(totale_bevolking_per_cohort.values())\n",
    "  keys = [ key for key in tabel[\"Key\"]]\n",
    "  totals = [ x for x in tabel[\"Totaal\"]]\n",
    "  for k in range(0, len(keys)):\n",
    "    key = keys[k]\n",
    "    if '100k' in key:\n",
    "      abskey = key[0] + key[5:]\n",
    "      kk = keys.index(abskey)\n",
    "      if isinstance(totals[k], float):\n",
    "        correctedtotal = totals[kk] * (100_000 / totale_bevolking)\n",
    "        # print([k, totals[k], totals[kk], correctedtotal])\n",
    "        totals[k] = correctedtotal\n",
    "  tabel[\"Totaal\"] = totals\n",
    "\n",
    "  display(tabel.head())"
   ]
  },
  {
   "cell_type": "code",
   "execution_count": 5,
   "id": "35de1afd",
   "metadata": {
    "execution": {
     "iopub.execute_input": "2022-03-30T11:15:47.923726Z",
     "iopub.status.busy": "2022-03-30T11:15:47.923054Z",
     "iopub.status.idle": "2022-03-30T11:15:58.700425Z",
     "shell.execute_reply": "2022-03-30T11:15:58.699454Z"
    },
    "papermill": {
     "duration": 10.793511,
     "end_time": "2022-03-30T11:15:58.702196",
     "exception": false,
     "start_time": "2022-03-30T11:15:47.908685",
     "status": "completed"
    },
    "tags": [],
    "title": "publish"
   },
   "outputs": [
    {
     "name": "stdout",
     "output_type": "stream",
     "text": [
      "infinities:\n"
     ]
    },
    {
     "name": "stdout",
     "output_type": "stream",
     "text": [
      "Empty DataFrame\n",
      "Columns: []\n",
      "Index: []\n"
     ]
    },
    {
     "name": "stdout",
     "output_type": "stream",
     "text": [
      "nan:\n"
     ]
    },
    {
     "name": "stdout",
     "output_type": "stream",
     "text": [
      "Empty DataFrame\n",
      "Columns: []\n",
      "Index: []\n"
     ]
    },
    {
     "name": "stdout",
     "output_type": "stream",
     "text": [
      "updating knack\n"
     ]
    },
    {
     "name": "stdout",
     "output_type": "stream",
     "text": [
      "updating: [{'Key': 1, 'Updating Leeftijdsgroep': 'true'}]\n"
     ]
    },
    {
     "name": "stdout",
     "output_type": "stream",
     "text": [
      "restored LaatsteUpdate from hash\n"
     ]
    },
    {
     "name": "stderr",
     "output_type": "stream",
     "text": [
      "\r",
      "  0%|          | 0/1 [00:00<?, ?it/s]"
     ]
    },
    {
     "name": "stderr",
     "output_type": "stream",
     "text": [
      "\r",
      "100%|██████████| 1/1 [00:02<00:00,  2.12s/it]"
     ]
    },
    {
     "name": "stderr",
     "output_type": "stream",
     "text": [
      "\r",
      "100%|██████████| 1/1 [00:02<00:00,  2.13s/it]"
     ]
    },
    {
     "name": "stderr",
     "output_type": "stream",
     "text": [
      "\n"
     ]
    },
    {
     "name": "stdout",
     "output_type": "stream",
     "text": [
      "\n",
      "rate limit: 7 \n",
      "LaatsteUpdate API calls: create: 0, read: 1, update: 1, delete: 0, backoff: 0\n"
     ]
    },
    {
     "name": "stdout",
     "output_type": "stream",
     "text": [
      "restored Leeftijdsgroep from hash\n"
     ]
    },
    {
     "name": "stdout",
     "output_type": "stream",
     "text": [
      "nothing to do for Leeftijdsgroep\n"
     ]
    },
    {
     "name": "stdout",
     "output_type": "stream",
     "text": [
      "\n",
      "rate limit: 7 \n",
      "Leeftijdsgroep API calls: create: 0, read: 1, update: 0, delete: 0, backoff: 0\n"
     ]
    },
    {
     "name": "stdout",
     "output_type": "stream",
     "text": [
      "[{'Key': 1, 'Timestamp Leeftijdsgroep RIVM': '2022-03-29 14:15'}]\n"
     ]
    },
    {
     "name": "stdout",
     "output_type": "stream",
     "text": [
      "timestamps: [{'Key': 1, 'Timestamp Leeftijdsgroep RIVM': '2022-03-29 14:15'}]\n"
     ]
    },
    {
     "name": "stderr",
     "output_type": "stream",
     "text": [
      "\r",
      "  0%|          | 0/1 [00:00<?, ?it/s]"
     ]
    },
    {
     "name": "stderr",
     "output_type": "stream",
     "text": [
      "\r",
      "100%|██████████| 1/1 [00:01<00:00,  1.37s/it]"
     ]
    },
    {
     "name": "stderr",
     "output_type": "stream",
     "text": [
      "\r",
      "100%|██████████| 1/1 [00:01<00:00,  1.37s/it]"
     ]
    },
    {
     "name": "stdout",
     "output_type": "stream",
     "text": [
      "\n",
      "rate limit: 7 \n",
      "LaatsteUpdate API calls: create: 0, read: 0, update: 1, delete: 0, backoff: 0\n"
     ]
    },
    {
     "name": "stderr",
     "output_type": "stream",
     "text": [
      "\n"
     ]
    },
    {
     "name": "stderr",
     "output_type": "stream",
     "text": [
      "\r",
      "  0%|          | 0/1 [00:00<?, ?it/s]"
     ]
    },
    {
     "name": "stderr",
     "output_type": "stream",
     "text": [
      "\r",
      "100%|██████████| 1/1 [00:01<00:00,  1.21s/it]"
     ]
    },
    {
     "name": "stderr",
     "output_type": "stream",
     "text": [
      "\r",
      "100%|██████████| 1/1 [00:01<00:00,  1.21s/it]"
     ]
    },
    {
     "name": "stdout",
     "output_type": "stream",
     "text": [
      "\n",
      "rate limit: 7 \n",
      "UpdateDetails API calls: create: 1, read: 0, update: 0, delete: 0, backoff: 0\n"
     ]
    },
    {
     "name": "stderr",
     "output_type": "stream",
     "text": [
      "\n"
     ]
    },
    {
     "name": "stdout",
     "output_type": "stream",
     "text": [
      "updating: [{'Key': 1, 'Updating Leeftijdsgroep': 'false'}]\n"
     ]
    },
    {
     "name": "stderr",
     "output_type": "stream",
     "text": [
      "\r",
      "  0%|          | 0/1 [00:00<?, ?it/s]"
     ]
    },
    {
     "name": "stderr",
     "output_type": "stream",
     "text": [
      "\r",
      "100%|██████████| 1/1 [00:01<00:00,  1.24s/it]"
     ]
    },
    {
     "name": "stderr",
     "output_type": "stream",
     "text": [
      "\r",
      "100%|██████████| 1/1 [00:01<00:00,  1.24s/it]"
     ]
    },
    {
     "name": "stdout",
     "output_type": "stream",
     "text": [
      "\n",
      "rate limit: 7 \n",
      "LaatsteUpdate API calls: create: 0, read: 0, update: 1, delete: 0, backoff: 0\n"
     ]
    },
    {
     "name": "stderr",
     "output_type": "stream",
     "text": [
      "\n"
     ]
    }
   ],
   "source": [
    "if knack:\n",
    "  await knack.publish(tabel.fillna(0).assign(Datum=tabel.Datum.dt.strftime('%Y-%m-%d')), 'Leeftijdsgroep', Cache)"
   ]
  }
 ],
 "metadata": {
  "jupytext": {
   "cell_metadata_filter": "title,-all"
  },
  "kernelspec": {
   "display_name": "Python 3 (ipykernel)",
   "language": "python",
   "name": "python3"
  },
  "language_info": {
   "codemirror_mode": {
    "name": "ipython",
    "version": 3
   },
   "file_extension": ".py",
   "mimetype": "text/x-python",
   "name": "python",
   "nbconvert_exporter": "python",
   "pygments_lexer": "ipython3",
   "version": "3.9.10"
  },
  "papermill": {
   "default_parameters": {},
   "duration": 72.368149,
   "end_time": "2022-03-30T11:15:59.356767",
   "environment_variables": {},
   "exception": null,
   "input_path": "-",
   "output_path": "LeeftijdsgroepenLandelijk.ipynb",
   "parameters": {},
   "start_time": "2022-03-30T11:14:46.988618",
   "version": "2.3.4"
  }
 },
 "nbformat": 4,
 "nbformat_minor": 5
}