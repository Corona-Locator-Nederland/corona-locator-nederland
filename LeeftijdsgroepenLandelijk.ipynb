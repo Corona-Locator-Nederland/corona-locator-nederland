{
 "cells": [
  {
   "cell_type": "code",
   "execution_count": 1,
   "id": "b819a384",
   "metadata": {
    "execution": {
     "iopub.execute_input": "2022-10-28T14:09:06.774500Z",
     "iopub.status.busy": "2022-10-28T14:09:06.773882Z",
     "iopub.status.idle": "2022-10-28T14:09:09.280040Z",
     "shell.execute_reply": "2022-10-28T14:09:09.279193Z"
    },
    "lines_to_next_cell": 1,
    "papermill": {
     "duration": 2.513166,
     "end_time": "2022-10-28T14:09:09.282820",
     "exception": false,
     "start_time": "2022-10-28T14:09:06.769654",
     "status": "completed"
    },
    "tags": []
   },
   "outputs": [
    {
     "name": "stderr",
     "output_type": "stream",
     "text": [
      "/tmp/ipykernel_1954/2820714271.py:2: DeprecationWarning: Importing display from IPython.core.display is deprecated since IPython 7.14, please import from IPython display\n",
      "  from IPython.core.display import display\n"
     ]
    }
   ],
   "source": [
    "from IPython import get_ipython\n",
    "from IPython.core.display import display\n",
    "get_ipython().run_line_magic('load_ext', 'autoreload')\n",
    "get_ipython().run_line_magic('autoreload', '2')\n",
    "get_ipython().run_line_magic('run', 'setup')"
   ]
  },
  {
   "cell_type": "code",
   "execution_count": 2,
   "id": "24bd7014",
   "metadata": {
    "execution": {
     "iopub.execute_input": "2022-10-28T14:09:09.288279Z",
     "iopub.status.busy": "2022-10-28T14:09:09.287581Z",
     "iopub.status.idle": "2022-10-28T14:22:16.621243Z",
     "shell.execute_reply": "2022-10-28T14:22:16.620657Z"
    },
    "lines_to_next_cell": 1,
    "papermill": {
     "duration": 787.337934,
     "end_time": "2022-10-28T14:22:16.622788",
     "exception": false,
     "start_time": "2022-10-28T14:09:09.284854",
     "status": "completed"
    },
    "tags": [],
    "title": "Leeftijdsgroepen: download RIVM casus-data"
   },
   "outputs": [
    {
     "name": "stdout",
     "output_type": "stream",
     "text": [
      "downloading rivm/COVID-19_casus_landelijk-2022-10-28@13-15.csv\n"
     ]
    },
    {
     "name": "stdout",
     "output_type": "stream",
     "text": [
      "rivm COVID-19_casus_landelijk zipping rivm/COVID-19_casus_landelijk-2022-10-28@13-15.csv\n"
     ]
    },
    {
     "name": "stdout",
     "output_type": "stream",
     "text": [
      "loading rivm/COVID-19_casus_landelijk-2022-10-28@13-15.csv.gz\n"
     ]
    },
    {
     "data": {
      "text/html": [
       "<div>\n",
       "<style scoped>\n",
       "    .dataframe tbody tr th:only-of-type {\n",
       "        vertical-align: middle;\n",
       "    }\n",
       "\n",
       "    .dataframe tbody tr th {\n",
       "        vertical-align: top;\n",
       "    }\n",
       "\n",
       "    .dataframe thead th {\n",
       "        text-align: right;\n",
       "    }\n",
       "</style>\n",
       "<table border=\"1\" class=\"dataframe\">\n",
       "  <thead>\n",
       "    <tr style=\"text-align: right;\">\n",
       "      <th></th>\n",
       "      <th>Version</th>\n",
       "      <th>Date_file</th>\n",
       "      <th>Date_statistics</th>\n",
       "      <th>Date_statistics_type</th>\n",
       "      <th>Agegroup</th>\n",
       "      <th>Sex</th>\n",
       "      <th>Province</th>\n",
       "      <th>Deceased</th>\n",
       "      <th>Week_of_death</th>\n",
       "      <th>Municipal_health_service</th>\n",
       "    </tr>\n",
       "  </thead>\n",
       "  <tbody>\n",
       "    <tr>\n",
       "      <th>0</th>\n",
       "      <td>6</td>\n",
       "      <td>2022-10-28 10:00:00</td>\n",
       "      <td>2021-10-04</td>\n",
       "      <td>DPL</td>\n",
       "      <td>50-59</td>\n",
       "      <td>Male</td>\n",
       "      <td>Zuid-Holland</td>\n",
       "      <td>No</td>\n",
       "      <td>NaN</td>\n",
       "      <td>GGD Haaglanden</td>\n",
       "    </tr>\n",
       "    <tr>\n",
       "      <th>1</th>\n",
       "      <td>6</td>\n",
       "      <td>2022-10-28 10:00:00</td>\n",
       "      <td>2021-10-04</td>\n",
       "      <td>DPL</td>\n",
       "      <td>10-19</td>\n",
       "      <td>Male</td>\n",
       "      <td>Zuid-Holland</td>\n",
       "      <td>No</td>\n",
       "      <td>NaN</td>\n",
       "      <td>GGD Haaglanden</td>\n",
       "    </tr>\n",
       "    <tr>\n",
       "      <th>2</th>\n",
       "      <td>6</td>\n",
       "      <td>2022-10-28 10:00:00</td>\n",
       "      <td>2021-10-04</td>\n",
       "      <td>DPL</td>\n",
       "      <td>20-29</td>\n",
       "      <td>Male</td>\n",
       "      <td>Groningen</td>\n",
       "      <td>No</td>\n",
       "      <td>NaN</td>\n",
       "      <td>GGD Groningen</td>\n",
       "    </tr>\n",
       "    <tr>\n",
       "      <th>3</th>\n",
       "      <td>6</td>\n",
       "      <td>2022-10-28 10:00:00</td>\n",
       "      <td>2021-10-04</td>\n",
       "      <td>DOO</td>\n",
       "      <td>0-9</td>\n",
       "      <td>Male</td>\n",
       "      <td>Noord-Brabant</td>\n",
       "      <td>No</td>\n",
       "      <td>NaN</td>\n",
       "      <td>GGD Hart voor Brabant</td>\n",
       "    </tr>\n",
       "    <tr>\n",
       "      <th>4</th>\n",
       "      <td>6</td>\n",
       "      <td>2022-10-28 10:00:00</td>\n",
       "      <td>2021-10-04</td>\n",
       "      <td>DOO</td>\n",
       "      <td>30-39</td>\n",
       "      <td>Female</td>\n",
       "      <td>Zuid-Holland</td>\n",
       "      <td>No</td>\n",
       "      <td>NaN</td>\n",
       "      <td>GGD Hollands-Midden</td>\n",
       "    </tr>\n",
       "  </tbody>\n",
       "</table>\n",
       "</div>"
      ],
      "text/plain": [
       "   Version            Date_file Date_statistics Date_statistics_type Agegroup  \\\n",
       "0        6  2022-10-28 10:00:00      2021-10-04                  DPL    50-59   \n",
       "1        6  2022-10-28 10:00:00      2021-10-04                  DPL    10-19   \n",
       "2        6  2022-10-28 10:00:00      2021-10-04                  DPL    20-29   \n",
       "3        6  2022-10-28 10:00:00      2021-10-04                  DOO      0-9   \n",
       "4        6  2022-10-28 10:00:00      2021-10-04                  DOO    30-39   \n",
       "\n",
       "      Sex       Province Deceased  Week_of_death Municipal_health_service  \n",
       "0    Male   Zuid-Holland       No            NaN           GGD Haaglanden  \n",
       "1    Male   Zuid-Holland       No            NaN           GGD Haaglanden  \n",
       "2    Male      Groningen       No            NaN            GGD Groningen  \n",
       "3    Male  Noord-Brabant       No            NaN    GGD Hart voor Brabant  \n",
       "4  Female   Zuid-Holland       No            NaN      GGD Hollands-Midden  "
      ]
     },
     "metadata": {},
     "output_type": "display_data"
    }
   ],
   "source": [
    "# Leeftijdsgroepen: download RIVM casus-data\n",
    "@run\n",
    "def cell():\n",
    "  global rivm\n",
    "  rivm = RIVM.csv('COVID-19_casus_landelijk')\n",
    "  display(rivm.head())"
   ]
  },
  {
   "cell_type": "code",
   "execution_count": 3,
   "id": "d02ff8ca",
   "metadata": {
    "execution": {
     "iopub.execute_input": "2022-10-28T14:22:16.631199Z",
     "iopub.status.busy": "2022-10-28T14:22:16.630757Z",
     "iopub.status.idle": "2022-10-28T14:22:19.682468Z",
     "shell.execute_reply": "2022-10-28T14:22:19.681017Z"
    },
    "lines_to_next_cell": 1,
    "papermill": {
     "duration": 3.057945,
     "end_time": "2022-10-28T14:22:19.685593",
     "exception": false,
     "start_time": "2022-10-28T14:22:16.627648",
     "status": "completed"
    },
    "tags": [],
    "title": "Leeftijdsgroepen: download CBS bevolkingscijfers, uitgesplitst op de leeftijdscategorien zoals bij RIVM"
   },
   "outputs": [
    {
     "name": "stderr",
     "output_type": "stream",
     "text": [
      "/home/runner/work/corona-locator-nederland/corona-locator-nederland/setup.py:146: FutureWarning: The frame.append method is deprecated and will be removed from pandas in a future version. Use pandas.concat instead.\n",
      "  data = data.append(pd.DataFrame(r['value']))\n"
     ]
    },
    {
     "name": "stderr",
     "output_type": "stream",
     "text": [
      "/home/runner/work/corona-locator-nederland/corona-locator-nederland/setup.py:146: FutureWarning: The frame.append method is deprecated and will be removed from pandas in a future version. Use pandas.concat instead.\n",
      "  data = data.append(pd.DataFrame(r['value']))\n"
     ]
    },
    {
     "name": "stderr",
     "output_type": "stream",
     "text": [
      "/home/runner/work/corona-locator-nederland/corona-locator-nederland/setup.py:146: FutureWarning: The frame.append method is deprecated and will be removed from pandas in a future version. Use pandas.concat instead.\n",
      "  data = data.append(pd.DataFrame(r['value']))\n"
     ]
    },
    {
     "name": "stderr",
     "output_type": "stream",
     "text": [
      "/home/runner/work/corona-locator-nederland/corona-locator-nederland/setup.py:146: FutureWarning: The frame.append method is deprecated and will be removed from pandas in a future version. Use pandas.concat instead.\n",
      "  data = data.append(pd.DataFrame(r['value']))\n"
     ]
    },
    {
     "name": "stderr",
     "output_type": "stream",
     "text": [
      "/home/runner/work/corona-locator-nederland/corona-locator-nederland/setup.py:146: FutureWarning: The frame.append method is deprecated and will be removed from pandas in a future version. Use pandas.concat instead.\n",
      "  data = data.append(pd.DataFrame(r['value']))\n"
     ]
    },
    {
     "name": "stderr",
     "output_type": "stream",
     "text": [
      "/home/runner/work/corona-locator-nederland/corona-locator-nederland/setup.py:146: FutureWarning: The frame.append method is deprecated and will be removed from pandas in a future version. Use pandas.concat instead.\n",
      "  data = data.append(pd.DataFrame(r['value']))\n"
     ]
    },
    {
     "name": "stderr",
     "output_type": "stream",
     "text": [
      "/home/runner/work/corona-locator-nederland/corona-locator-nederland/setup.py:146: FutureWarning: The frame.append method is deprecated and will be removed from pandas in a future version. Use pandas.concat instead.\n",
      "  data = data.append(pd.DataFrame(r['value']))\n"
     ]
    },
    {
     "data": {
      "text/html": [
       "<div>\n",
       "<style scoped>\n",
       "    .dataframe tbody tr th:only-of-type {\n",
       "        vertical-align: middle;\n",
       "    }\n",
       "\n",
       "    .dataframe tbody tr th {\n",
       "        vertical-align: top;\n",
       "    }\n",
       "\n",
       "    .dataframe thead th {\n",
       "        text-align: right;\n",
       "    }\n",
       "</style>\n",
       "<table border=\"1\" class=\"dataframe\">\n",
       "  <thead>\n",
       "    <tr style=\"text-align: right;\">\n",
       "      <th></th>\n",
       "      <th>BevolkingOpDeEersteVanDeMaand</th>\n",
       "      <th>per 100k</th>\n",
       "    </tr>\n",
       "    <tr>\n",
       "      <th>Range</th>\n",
       "      <th></th>\n",
       "      <th></th>\n",
       "    </tr>\n",
       "  </thead>\n",
       "  <tbody>\n",
       "    <tr>\n",
       "      <th>0-9</th>\n",
       "      <td>1768001</td>\n",
       "      <td>0.056561</td>\n",
       "    </tr>\n",
       "    <tr>\n",
       "      <th>10-19</th>\n",
       "      <td>1988652</td>\n",
       "      <td>0.050285</td>\n",
       "    </tr>\n",
       "    <tr>\n",
       "      <th>20-29</th>\n",
       "      <td>2310274</td>\n",
       "      <td>0.043285</td>\n",
       "    </tr>\n",
       "    <tr>\n",
       "      <th>30-39</th>\n",
       "      <td>2276633</td>\n",
       "      <td>0.043925</td>\n",
       "    </tr>\n",
       "    <tr>\n",
       "      <th>40-49</th>\n",
       "      <td>2125958</td>\n",
       "      <td>0.047038</td>\n",
       "    </tr>\n",
       "  </tbody>\n",
       "</table>\n",
       "</div>"
      ],
      "text/plain": [
       "       BevolkingOpDeEersteVanDeMaand  per 100k\n",
       "Range                                         \n",
       "0-9                          1768001  0.056561\n",
       "10-19                        1988652  0.050285\n",
       "20-29                        2310274  0.043285\n",
       "30-39                        2276633  0.043925\n",
       "40-49                        2125958  0.047038"
      ]
     },
     "metadata": {},
     "output_type": "display_data"
    }
   ],
   "source": [
    "# Leeftijdsgroepen: download CBS bevolkingscijfers, uitgesplitst op de leeftijdscategorien zoals bij RIVM\n",
    "@run\n",
    "def cell():\n",
    "  global bevolking\n",
    "  # probeer de laatste leeftijdsgroepen op te halen bij het CBS, ververs de fallback-file \n",
    "  try:\n",
    "    bevolking = CBS.bevolking(leeftijdsgroepen=True)\n",
    "    bevolking.to_csv(\"cbs/leeftijdsgroepen_cbs.csv\")\n",
    "  # als het niet is gelukt de CBS file op te halen, gebruik de fallback-file en pas de index klom aan\n",
    "  except Exception as e:\n",
    "    print(e)\n",
    "    bevolking = pd.read_csv(\"cbs/leeftijdsgroepen_cbs.csv\")\n",
    "    bevolking.set_index('Range', inplace=True)\n",
    "  display(bevolking.head())"
   ]
  },
  {
   "cell_type": "code",
   "execution_count": 4,
   "id": "f593077d",
   "metadata": {
    "execution": {
     "iopub.execute_input": "2022-10-28T14:22:19.692272Z",
     "iopub.status.busy": "2022-10-28T14:22:19.692014Z",
     "iopub.status.idle": "2022-10-28T14:22:43.692718Z",
     "shell.execute_reply": "2022-10-28T14:22:43.691923Z"
    },
    "lines_to_next_cell": 1,
    "papermill": {
     "duration": 24.006296,
     "end_time": "2022-10-28T14:22:43.694501",
     "exception": false,
     "start_time": "2022-10-28T14:22:19.688205",
     "status": "completed"
    },
    "tags": [],
    "title": "Leeftijdsgroepen: bereken per cohort besmettingen / opnamen / sterfte (incl. kleurcode), in aantal en per 100k. Vervang <50 en Unknown door Onbekend"
   },
   "outputs": [
    {
     "data": {
      "text/html": [
       "<div>\n",
       "<style scoped>\n",
       "    .dataframe tbody tr th:only-of-type {\n",
       "        vertical-align: middle;\n",
       "    }\n",
       "\n",
       "    .dataframe tbody tr th {\n",
       "        vertical-align: top;\n",
       "    }\n",
       "\n",
       "    .dataframe thead th {\n",
       "        text-align: right;\n",
       "    }\n",
       "</style>\n",
       "<table border=\"1\" class=\"dataframe\">\n",
       "  <thead>\n",
       "    <tr style=\"text-align: right;\">\n",
       "      <th></th>\n",
       "      <th>Date_file</th>\n",
       "      <th>Date_statistics</th>\n",
       "      <th>Date_statistics_type</th>\n",
       "      <th>Agegroup</th>\n",
       "      <th>Sex</th>\n",
       "      <th>Province</th>\n",
       "      <th>Deceased</th>\n",
       "      <th>Week_of_death</th>\n",
       "      <th>Municipal_health_service</th>\n",
       "    </tr>\n",
       "  </thead>\n",
       "  <tbody>\n",
       "    <tr>\n",
       "      <th>0</th>\n",
       "      <td>2022-10-28 10:00:00</td>\n",
       "      <td>2021-10-04</td>\n",
       "      <td>DPL</td>\n",
       "      <td>50-59</td>\n",
       "      <td>Male</td>\n",
       "      <td>Zuid-Holland</td>\n",
       "      <td>No</td>\n",
       "      <td>NaN</td>\n",
       "      <td>GGD Haaglanden</td>\n",
       "    </tr>\n",
       "    <tr>\n",
       "      <th>1</th>\n",
       "      <td>2022-10-28 10:00:00</td>\n",
       "      <td>2021-10-04</td>\n",
       "      <td>DPL</td>\n",
       "      <td>10-19</td>\n",
       "      <td>Male</td>\n",
       "      <td>Zuid-Holland</td>\n",
       "      <td>No</td>\n",
       "      <td>NaN</td>\n",
       "      <td>GGD Haaglanden</td>\n",
       "    </tr>\n",
       "    <tr>\n",
       "      <th>2</th>\n",
       "      <td>2022-10-28 10:00:00</td>\n",
       "      <td>2021-10-04</td>\n",
       "      <td>DPL</td>\n",
       "      <td>20-29</td>\n",
       "      <td>Male</td>\n",
       "      <td>Groningen</td>\n",
       "      <td>No</td>\n",
       "      <td>NaN</td>\n",
       "      <td>GGD Groningen</td>\n",
       "    </tr>\n",
       "    <tr>\n",
       "      <th>3</th>\n",
       "      <td>2022-10-28 10:00:00</td>\n",
       "      <td>2021-10-04</td>\n",
       "      <td>DOO</td>\n",
       "      <td>0-9</td>\n",
       "      <td>Male</td>\n",
       "      <td>Noord-Brabant</td>\n",
       "      <td>No</td>\n",
       "      <td>NaN</td>\n",
       "      <td>GGD Hart voor Brabant</td>\n",
       "    </tr>\n",
       "    <tr>\n",
       "      <th>4</th>\n",
       "      <td>2022-10-28 10:00:00</td>\n",
       "      <td>2021-10-04</td>\n",
       "      <td>DOO</td>\n",
       "      <td>30-39</td>\n",
       "      <td>Female</td>\n",
       "      <td>Zuid-Holland</td>\n",
       "      <td>No</td>\n",
       "      <td>NaN</td>\n",
       "      <td>GGD Hollands-Midden</td>\n",
       "    </tr>\n",
       "  </tbody>\n",
       "</table>\n",
       "</div>"
      ],
      "text/plain": [
       "             Date_file Date_statistics Date_statistics_type Agegroup     Sex  \\\n",
       "0  2022-10-28 10:00:00      2021-10-04                  DPL    50-59    Male   \n",
       "1  2022-10-28 10:00:00      2021-10-04                  DPL    10-19    Male   \n",
       "2  2022-10-28 10:00:00      2021-10-04                  DPL    20-29    Male   \n",
       "3  2022-10-28 10:00:00      2021-10-04                  DOO      0-9    Male   \n",
       "4  2022-10-28 10:00:00      2021-10-04                  DOO    30-39  Female   \n",
       "\n",
       "        Province Deceased  Week_of_death Municipal_health_service  \n",
       "0   Zuid-Holland       No            NaN           GGD Haaglanden  \n",
       "1   Zuid-Holland       No            NaN           GGD Haaglanden  \n",
       "2      Groningen       No            NaN            GGD Groningen  \n",
       "3  Noord-Brabant       No            NaN    GGD Hart voor Brabant  \n",
       "4   Zuid-Holland       No            NaN      GGD Hollands-Midden  "
      ]
     },
     "metadata": {},
     "output_type": "display_data"
    },
    {
     "data": {
      "text/html": [
       "<div>\n",
       "<style scoped>\n",
       "    .dataframe tbody tr th:only-of-type {\n",
       "        vertical-align: middle;\n",
       "    }\n",
       "\n",
       "    .dataframe tbody tr th {\n",
       "        vertical-align: top;\n",
       "    }\n",
       "\n",
       "    .dataframe thead th {\n",
       "        text-align: right;\n",
       "    }\n",
       "</style>\n",
       "<table border=\"1\" class=\"dataframe\">\n",
       "  <thead>\n",
       "    <tr style=\"text-align: right;\">\n",
       "      <th></th>\n",
       "      <th>Key</th>\n",
       "      <th>Weken terug</th>\n",
       "      <th>Datum</th>\n",
       "      <th>Periode</th>\n",
       "      <th>Gemiddelde leeftijd</th>\n",
       "      <th>Totaal</th>\n",
       "      <th>Type</th>\n",
       "      <th>0-9</th>\n",
       "      <th>10-19</th>\n",
       "      <th>20-29</th>\n",
       "      <th>...</th>\n",
       "      <th>c10-19</th>\n",
       "      <th>c20-29</th>\n",
       "      <th>c30-39</th>\n",
       "      <th>c40-49</th>\n",
       "      <th>c50-59</th>\n",
       "      <th>c60-69</th>\n",
       "      <th>c70-79</th>\n",
       "      <th>c80-89</th>\n",
       "      <th>c90+</th>\n",
       "      <th>cOnbekend</th>\n",
       "    </tr>\n",
       "  </thead>\n",
       "  <tbody>\n",
       "    <tr>\n",
       "      <th>0</th>\n",
       "      <td>p000</td>\n",
       "      <td>0</td>\n",
       "      <td>2022-10-28</td>\n",
       "      <td>22/10-28/10</td>\n",
       "      <td>51.559082</td>\n",
       "      <td>11248.0</td>\n",
       "      <td>Positief getest</td>\n",
       "      <td>161.0</td>\n",
       "      <td>427.0</td>\n",
       "      <td>1231.0</td>\n",
       "      <td>...</td>\n",
       "      <td>202</td>\n",
       "      <td>582</td>\n",
       "      <td>800</td>\n",
       "      <td>839</td>\n",
       "      <td>1000</td>\n",
       "      <td>729</td>\n",
       "      <td>592</td>\n",
       "      <td>376</td>\n",
       "      <td>125</td>\n",
       "      <td>0</td>\n",
       "    </tr>\n",
       "    <tr>\n",
       "      <th>1</th>\n",
       "      <td>p001</td>\n",
       "      <td>1</td>\n",
       "      <td>2022-10-28</td>\n",
       "      <td>15/10-21/10</td>\n",
       "      <td>53.366651</td>\n",
       "      <td>19360.0</td>\n",
       "      <td>Positief getest</td>\n",
       "      <td>253.0</td>\n",
       "      <td>630.0</td>\n",
       "      <td>2007.0</td>\n",
       "      <td>...</td>\n",
       "      <td>179</td>\n",
       "      <td>571</td>\n",
       "      <td>760</td>\n",
       "      <td>790</td>\n",
       "      <td>1000</td>\n",
       "      <td>858</td>\n",
       "      <td>654</td>\n",
       "      <td>461</td>\n",
       "      <td>162</td>\n",
       "      <td>0</td>\n",
       "    </tr>\n",
       "    <tr>\n",
       "      <th>2</th>\n",
       "      <td>p002</td>\n",
       "      <td>2</td>\n",
       "      <td>2022-10-28</td>\n",
       "      <td>08/10-14/10</td>\n",
       "      <td>54.209545</td>\n",
       "      <td>22800.0</td>\n",
       "      <td>Positief getest</td>\n",
       "      <td>276.0</td>\n",
       "      <td>673.0</td>\n",
       "      <td>2178.0</td>\n",
       "      <td>...</td>\n",
       "      <td>158</td>\n",
       "      <td>512</td>\n",
       "      <td>703</td>\n",
       "      <td>746</td>\n",
       "      <td>1000</td>\n",
       "      <td>878</td>\n",
       "      <td>699</td>\n",
       "      <td>437</td>\n",
       "      <td>158</td>\n",
       "      <td>0</td>\n",
       "    </tr>\n",
       "    <tr>\n",
       "      <th>3</th>\n",
       "      <td>p003</td>\n",
       "      <td>3</td>\n",
       "      <td>2022-10-28</td>\n",
       "      <td>01/10-07/10</td>\n",
       "      <td>53.930847</td>\n",
       "      <td>23387.0</td>\n",
       "      <td>Positief getest</td>\n",
       "      <td>285.0</td>\n",
       "      <td>737.0</td>\n",
       "      <td>2273.0</td>\n",
       "      <td>...</td>\n",
       "      <td>177</td>\n",
       "      <td>548</td>\n",
       "      <td>768</td>\n",
       "      <td>814</td>\n",
       "      <td>1000</td>\n",
       "      <td>861</td>\n",
       "      <td>777</td>\n",
       "      <td>469</td>\n",
       "      <td>156</td>\n",
       "      <td>0</td>\n",
       "    </tr>\n",
       "    <tr>\n",
       "      <th>4</th>\n",
       "      <td>p004</td>\n",
       "      <td>4</td>\n",
       "      <td>2022-10-28</td>\n",
       "      <td>24/09-30/09</td>\n",
       "      <td>53.592632</td>\n",
       "      <td>16911.0</td>\n",
       "      <td>Positief getest</td>\n",
       "      <td>206.0</td>\n",
       "      <td>618.0</td>\n",
       "      <td>1600.0</td>\n",
       "      <td>...</td>\n",
       "      <td>220</td>\n",
       "      <td>570</td>\n",
       "      <td>849</td>\n",
       "      <td>927</td>\n",
       "      <td>1000</td>\n",
       "      <td>845</td>\n",
       "      <td>886</td>\n",
       "      <td>491</td>\n",
       "      <td>160</td>\n",
       "      <td>0</td>\n",
       "    </tr>\n",
       "  </tbody>\n",
       "</table>\n",
       "<p>5 rows × 29 columns</p>\n",
       "</div>"
      ],
      "text/plain": [
       "    Key  Weken terug      Datum      Periode  Gemiddelde leeftijd   Totaal  \\\n",
       "0  p000            0 2022-10-28  22/10-28/10            51.559082  11248.0   \n",
       "1  p001            1 2022-10-28  15/10-21/10            53.366651  19360.0   \n",
       "2  p002            2 2022-10-28  08/10-14/10            54.209545  22800.0   \n",
       "3  p003            3 2022-10-28  01/10-07/10            53.930847  23387.0   \n",
       "4  p004            4 2022-10-28  24/09-30/09            53.592632  16911.0   \n",
       "\n",
       "              Type    0-9  10-19   20-29  ...  c10-19  c20-29  c30-39  c40-49  \\\n",
       "0  Positief getest  161.0  427.0  1231.0  ...     202     582     800     839   \n",
       "1  Positief getest  253.0  630.0  2007.0  ...     179     571     760     790   \n",
       "2  Positief getest  276.0  673.0  2178.0  ...     158     512     703     746   \n",
       "3  Positief getest  285.0  737.0  2273.0  ...     177     548     768     814   \n",
       "4  Positief getest  206.0  618.0  1600.0  ...     220     570     849     927   \n",
       "\n",
       "   c50-59  c60-69  c70-79  c80-89  c90+  cOnbekend  \n",
       "0    1000     729     592     376   125          0  \n",
       "1    1000     858     654     461   162          0  \n",
       "2    1000     878     699     437   158          0  \n",
       "3    1000     861     777     469   156          0  \n",
       "4    1000     845     886     491   160          0  \n",
       "\n",
       "[5 rows x 29 columns]"
      ]
     },
     "metadata": {},
     "output_type": "display_data"
    }
   ],
   "source": [
    "# Leeftijdsgroepen: bereken per cohort besmettingen / opnamen / sterfte (incl. kleurcode), in aantal en per 100k. Vervang <50 en Unknown door Onbekend\n",
    "@run\n",
    "def cell():\n",
    "  #  kolom is in version 2 per 18-1-22 toegevoegd, verwijderen:\n",
    "  rivm.drop('Version', inplace=True, axis=1)\n",
    "  display(rivm.head())\n",
    "  rivm['Cohort'] = rivm['Agegroup'].replace({'<50': 'Onbekend', 'Unknown': 'Onbekend'})\n",
    "  # aangenomen 'gemiddelde' leeftijd van een cohort: minimum waarde + 5\n",
    "  assumed_cohort_age = [(cohort, [int(n) for n in cohort.replace('+', '').split('-')]) for cohort in rivm['Cohort'].unique() if cohort[0].isdigit()]\n",
    "  assumed_cohort_age = { cohort: min(rng) + 5 for cohort, rng in assumed_cohort_age }\n",
    "  rivm['Gemiddelde leeftijd'] = rivm['Cohort'].apply(lambda x: assumed_cohort_age.get(x, np.nan))\n",
    "\n",
    "  # verwijder tijd\n",
    "  rivm['Date_file_date'] = pd.to_datetime(rivm['Date_file'].replace(r' .*', '', regex=True))\n",
    "\n",
    "  rivm['Date_statistics_date'] = pd.to_datetime(rivm['Date_statistics'])\n",
    "\n",
    "  # weken terug = verschil tussen Date_file en Date_statistcs, gedeeld door 7 dagen\n",
    "  rivm['Weken terug'] = np.floor((rivm['Date_file_date'] - rivm['Date_statistics_date'])/np.timedelta64(7, 'D')).astype(int)\n",
    "\n",
    "  # voeg key, gem leeftijd, kleurnummer en totaal toe\n",
    "  Date_file = rivm['Date_file_date'].unique()[0].astype('M8[D]').astype('O')\n",
    "  cohorten = list(bevolking.index) + ['Onbekend']\n",
    "\n",
    "  def summarize(df, category, prefix):\n",
    "    # aangezien we hier de dataframe in-place wijzigen (bijv door toevoegen kolommen)\n",
    "    # en we het 'rivm' frame later nog clean nodig hebben\n",
    "    df = df.copy(deep=True)\n",
    "\n",
    "    df = (df\n",
    "          .groupby(['Weken terug', 'Cohort'])['count']\n",
    "          .sum()\n",
    "          .unstack(fill_value=np.nan)\n",
    "          .reset_index()\n",
    "          .rename_axis(None, axis=1)\n",
    "        ).merge(df\n",
    "          # we voegen hier gemiddelde leeftijd toe, want die willen we op een ander\n",
    "          # niveau aggregeren voor 'df' overschreven word\n",
    "          .groupby(['Weken terug'])['Gemiddelde leeftijd']\n",
    "          .mean()\n",
    "          .to_frame(), on='Weken terug'\n",
    "        )\n",
    "\n",
    "    # altijd 52 rijen\n",
    "    df = pd.Series(np.arange(52), name='Weken terug').to_frame().merge(df, how='left', on='Weken terug')\n",
    "\n",
    "    # toevoegen missende cohorten\n",
    "    for col in cohorten:\n",
    "      if not col in df:\n",
    "        df[col] = np.nan\n",
    "\n",
    "    # sommeer per rij (axis=1) over de cohorten om een totaal te krijgen\n",
    "    df['Totaal'] = df[cohorten].sum(axis=1)\n",
    "\n",
    "    # voeg periode en datum toe\n",
    "    # periode afgeleid van weken-terug (= de index voor deze dataframe)\n",
    "    df['Datum'] = pd.to_datetime(Date_file)\n",
    "    df['Periode'] = (df\n",
    "      .index.to_series()\n",
    "      .apply(\n",
    "        lambda x: (\n",
    "          (Date_file + datetime.timedelta(weeks=-(x+1), days=1)).strftime('%d/%m')\n",
    "          + '-'\n",
    "          + (Date_file + datetime.timedelta(weeks=-x)).strftime('%d/%m')\n",
    "        )\n",
    "      )\n",
    "    )\n",
    "\n",
    "    # voeg 'Key' en 'Type' kolom toe. Variabele 'type' kan niet, is een language primitive.\n",
    "    df['Key'] = prefix + df.index.astype(str).str.rjust(3, fillchar='0')\n",
    "    df['Type'] = category\n",
    "\n",
    "    # voeg de kleur kolommen toe\n",
    "    for col in cohorten:\n",
    "      df['c' + col] = ((df[col] / df[[col for col in cohorten]].max(axis=1)) * 1000).fillna(0).astype(int)\n",
    "\n",
    "    # herschikken van de kolommen\n",
    "    colorder = ['Key', 'Weken terug', 'Datum', 'Periode', 'Gemiddelde leeftijd', 'Totaal', 'Type']\n",
    "    return df[colorder + [col for col in df if col not in colorder]]\n",
    "\n",
    "  factor = bevolking.to_dict()['per 100k']\n",
    "\n",
    "  global tabel\n",
    "  tabel = pd.concat(\n",
    "    # flatten the result list zodat pd.concat ze onder elkaar kan plakken\n",
    "    functools.reduce(lambda a, b: a + b, [\n",
    "      [summarize(df.assign(count=1), label, prefix), summarize(df.assign(count=df['Cohort'].apply(lambda x: factor.get(x, np.nan))), label + ' per 100.000', prefix + '100k')]\n",
    "      for df, label, prefix in [\n",
    "        (rivm, 'Positief getest', 'p'), # volledige count per cohort\n",
    "        (rivm[rivm.Deceased == 'Yes'], 'Overleden', 'd'), # count van cohort voor Deceased == 'Yes'\n",
    "      ]\n",
    "    ])\n",
    "  )\n",
    "\n",
    "  # bij /100k is het Totaal-veld geen optelsom maar wordt berekend obv de gehele bevolking\n",
    "  totale_bevolking_per_cohort = bevolking.to_dict()['BevolkingOpDeEersteVanDeMaand']\n",
    "  totale_bevolking = sum(totale_bevolking_per_cohort.values())\n",
    "  keys = [ key for key in tabel[\"Key\"]]\n",
    "  totals = [ x for x in tabel[\"Totaal\"]]\n",
    "  for k in range(0, len(keys)):\n",
    "    key = keys[k]\n",
    "    if '100k' in key:\n",
    "      abskey = key[0] + key[5:]\n",
    "      kk = keys.index(abskey)\n",
    "      if isinstance(totals[k], float):\n",
    "        correctedtotal = totals[kk] * (100_000 / totale_bevolking)\n",
    "        # print([k, totals[k], totals[kk], correctedtotal])\n",
    "        totals[k] = correctedtotal\n",
    "  tabel[\"Totaal\"] = totals\n",
    "\n",
    "  display(tabel.head())"
   ]
  },
  {
   "cell_type": "code",
   "execution_count": 5,
   "id": "6e72a73f",
   "metadata": {
    "execution": {
     "iopub.execute_input": "2022-10-28T14:22:43.702909Z",
     "iopub.status.busy": "2022-10-28T14:22:43.702213Z",
     "iopub.status.idle": "2022-10-28T14:23:32.981751Z",
     "shell.execute_reply": "2022-10-28T14:23:32.980854Z"
    },
    "papermill": {
     "duration": 49.285584,
     "end_time": "2022-10-28T14:23:32.983621",
     "exception": false,
     "start_time": "2022-10-28T14:22:43.698037",
     "status": "completed"
    },
    "tags": [],
    "title": "publish"
   },
   "outputs": [
    {
     "name": "stdout",
     "output_type": "stream",
     "text": [
      "infinities:\n"
     ]
    },
    {
     "name": "stdout",
     "output_type": "stream",
     "text": [
      "Empty DataFrame\n",
      "Columns: []\n",
      "Index: []\n"
     ]
    },
    {
     "name": "stdout",
     "output_type": "stream",
     "text": [
      "nan:\n"
     ]
    },
    {
     "name": "stdout",
     "output_type": "stream",
     "text": [
      "Empty DataFrame\n",
      "Columns: []\n",
      "Index: []\n"
     ]
    },
    {
     "name": "stdout",
     "output_type": "stream",
     "text": [
      "updating knack\n"
     ]
    },
    {
     "name": "stdout",
     "output_type": "stream",
     "text": [
      "updating: [{'Key': 1, 'Updating Leeftijdsgroep': 'true'}]\n"
     ]
    },
    {
     "name": "stdout",
     "output_type": "stream",
     "text": [
      "restored LaatsteUpdate from hash\n"
     ]
    },
    {
     "name": "stderr",
     "output_type": "stream",
     "text": [
      "\r",
      "  0%|          | 0/1 [00:00<?, ?it/s]"
     ]
    },
    {
     "name": "stderr",
     "output_type": "stream",
     "text": [
      "\r",
      "100%|██████████| 1/1 [00:00<00:00,  1.00it/s]"
     ]
    },
    {
     "name": "stderr",
     "output_type": "stream",
     "text": [
      "\r",
      "100%|██████████| 1/1 [00:00<00:00,  1.00it/s]"
     ]
    },
    {
     "name": "stdout",
     "output_type": "stream",
     "text": [
      "\n",
      "rate limit: 7 \n",
      "LaatsteUpdate API calls: create: 0, read: 1, update: 1, delete: 0, backoff: 0\n"
     ]
    },
    {
     "name": "stderr",
     "output_type": "stream",
     "text": [
      "\n"
     ]
    },
    {
     "name": "stdout",
     "output_type": "stream",
     "text": [
      "restored Leeftijdsgroep from hash\n"
     ]
    },
    {
     "name": "stderr",
     "output_type": "stream",
     "text": [
      "\r",
      "  0%|          | 0/208 [00:00<?, ?it/s]"
     ]
    },
    {
     "name": "stderr",
     "output_type": "stream",
     "text": [
      "\r",
      "  0%|          | 1/208 [00:01<04:09,  1.21s/it]"
     ]
    },
    {
     "name": "stderr",
     "output_type": "stream",
     "text": [
      "\r",
      "  1%|▏         | 3/208 [00:01<01:14,  2.75it/s]"
     ]
    },
    {
     "name": "stderr",
     "output_type": "stream",
     "text": [
      "\r",
      "  2%|▏         | 5/208 [00:01<00:50,  3.99it/s]"
     ]
    },
    {
     "name": "stderr",
     "output_type": "stream",
     "text": [
      "\r",
      "  3%|▎         | 7/208 [00:01<00:39,  5.06it/s]"
     ]
    },
    {
     "name": "stderr",
     "output_type": "stream",
     "text": [
      "\r",
      "  5%|▍         | 10/208 [00:02<00:32,  6.19it/s]"
     ]
    },
    {
     "name": "stderr",
     "output_type": "stream",
     "text": [
      "\r",
      "  6%|▋         | 13/208 [00:03<00:58,  3.36it/s]"
     ]
    },
    {
     "name": "stderr",
     "output_type": "stream",
     "text": [
      "\r",
      "  8%|▊         | 16/208 [00:04<00:42,  4.49it/s]"
     ]
    },
    {
     "name": "stderr",
     "output_type": "stream",
     "text": [
      "\r",
      "  8%|▊         | 17/208 [00:04<00:44,  4.26it/s]"
     ]
    },
    {
     "name": "stderr",
     "output_type": "stream",
     "text": [
      "\r",
      "  9%|▊         | 18/208 [00:04<00:43,  4.36it/s]"
     ]
    },
    {
     "name": "stderr",
     "output_type": "stream",
     "text": [
      "\r",
      " 10%|▉         | 20/208 [00:04<00:41,  4.56it/s]"
     ]
    },
    {
     "name": "stderr",
     "output_type": "stream",
     "text": [
      "\r",
      " 10%|█         | 21/208 [00:05<00:39,  4.75it/s]"
     ]
    },
    {
     "name": "stderr",
     "output_type": "stream",
     "text": [
      "\r",
      " 11%|█         | 22/208 [00:05<00:36,  5.05it/s]"
     ]
    },
    {
     "name": "stderr",
     "output_type": "stream",
     "text": [
      "\r",
      " 11%|█         | 23/208 [00:05<00:33,  5.48it/s]"
     ]
    },
    {
     "name": "stderr",
     "output_type": "stream",
     "text": [
      "\r",
      " 12%|█▏        | 25/208 [00:05<00:28,  6.53it/s]"
     ]
    },
    {
     "name": "stderr",
     "output_type": "stream",
     "text": [
      "\r",
      " 12%|█▎        | 26/208 [00:05<00:26,  6.93it/s]"
     ]
    },
    {
     "name": "stderr",
     "output_type": "stream",
     "text": [
      "\r",
      " 13%|█▎        | 27/208 [00:05<00:24,  7.31it/s]"
     ]
    },
    {
     "name": "stderr",
     "output_type": "stream",
     "text": [
      "\r",
      " 14%|█▍        | 29/208 [00:06<00:21,  8.20it/s]"
     ]
    },
    {
     "name": "stderr",
     "output_type": "stream",
     "text": [
      "\r",
      " 15%|█▍        | 31/208 [00:06<00:19,  9.11it/s]"
     ]
    },
    {
     "name": "stderr",
     "output_type": "stream",
     "text": [
      "\r",
      " 16%|█▋        | 34/208 [00:06<00:20,  8.45it/s]"
     ]
    },
    {
     "name": "stderr",
     "output_type": "stream",
     "text": [
      "\r",
      " 17%|█▋        | 36/208 [00:06<00:18,  9.12it/s]"
     ]
    },
    {
     "name": "stderr",
     "output_type": "stream",
     "text": [
      "\r",
      " 18%|█▊        | 37/208 [00:07<00:31,  5.50it/s]"
     ]
    },
    {
     "name": "stderr",
     "output_type": "stream",
     "text": [
      "\r",
      " 19%|█▉        | 39/208 [00:07<00:25,  6.53it/s]"
     ]
    },
    {
     "name": "stderr",
     "output_type": "stream",
     "text": [
      "\r",
      " 20%|█▉        | 41/208 [00:07<00:20,  8.05it/s]"
     ]
    },
    {
     "name": "stderr",
     "output_type": "stream",
     "text": [
      "\r",
      " 21%|██        | 43/208 [00:08<00:25,  6.37it/s]"
     ]
    },
    {
     "name": "stderr",
     "output_type": "stream",
     "text": [
      "\r",
      " 21%|██        | 44/208 [00:08<00:25,  6.55it/s]"
     ]
    },
    {
     "name": "stderr",
     "output_type": "stream",
     "text": [
      "\r",
      " 23%|██▎       | 47/208 [00:08<00:20,  7.96it/s]"
     ]
    },
    {
     "name": "stderr",
     "output_type": "stream",
     "text": [
      "\r",
      " 24%|██▎       | 49/208 [00:08<00:18,  8.61it/s]"
     ]
    },
    {
     "name": "stderr",
     "output_type": "stream",
     "text": [
      "\r",
      " 24%|██▍       | 50/208 [00:08<00:18,  8.77it/s]"
     ]
    },
    {
     "name": "stderr",
     "output_type": "stream",
     "text": [
      "\r",
      " 25%|██▍       | 51/208 [00:08<00:19,  7.87it/s]"
     ]
    },
    {
     "name": "stderr",
     "output_type": "stream",
     "text": [
      "\r",
      " 26%|██▌       | 54/208 [00:09<00:15, 10.04it/s]"
     ]
    },
    {
     "name": "stderr",
     "output_type": "stream",
     "text": [
      "\r",
      " 27%|██▋       | 56/208 [00:09<00:14, 10.61it/s]"
     ]
    },
    {
     "name": "stderr",
     "output_type": "stream",
     "text": [
      "\r",
      " 28%|██▊       | 58/208 [00:09<00:24,  6.08it/s]"
     ]
    },
    {
     "name": "stderr",
     "output_type": "stream",
     "text": [
      "\r",
      " 28%|██▊       | 59/208 [00:10<00:24,  6.20it/s]"
     ]
    },
    {
     "name": "stderr",
     "output_type": "stream",
     "text": [
      "\r",
      " 29%|██▉       | 61/208 [00:10<00:20,  7.35it/s]"
     ]
    },
    {
     "name": "stderr",
     "output_type": "stream",
     "text": [
      "\r",
      " 30%|██▉       | 62/208 [00:10<00:21,  6.85it/s]"
     ]
    },
    {
     "name": "stderr",
     "output_type": "stream",
     "text": [
      "\r",
      " 30%|███       | 63/208 [00:10<00:26,  5.53it/s]"
     ]
    },
    {
     "name": "stderr",
     "output_type": "stream",
     "text": [
      "\r",
      " 33%|███▎      | 68/208 [00:11<00:18,  7.42it/s]"
     ]
    },
    {
     "name": "stderr",
     "output_type": "stream",
     "text": [
      "\r",
      " 34%|███▎      | 70/208 [00:11<00:19,  7.19it/s]"
     ]
    },
    {
     "name": "stderr",
     "output_type": "stream",
     "text": [
      "\r",
      " 34%|███▍      | 71/208 [00:11<00:20,  6.71it/s]"
     ]
    },
    {
     "name": "stderr",
     "output_type": "stream",
     "text": [
      "\r",
      " 35%|███▌      | 73/208 [00:12<00:22,  6.12it/s]"
     ]
    },
    {
     "name": "stderr",
     "output_type": "stream",
     "text": [
      "\r",
      " 36%|███▌      | 74/208 [00:12<00:20,  6.46it/s]"
     ]
    },
    {
     "name": "stderr",
     "output_type": "stream",
     "text": [
      "\r",
      " 37%|███▋      | 76/208 [00:12<00:16,  8.01it/s]"
     ]
    },
    {
     "name": "stderr",
     "output_type": "stream",
     "text": [
      "\r",
      " 37%|███▋      | 77/208 [00:12<00:18,  6.94it/s]"
     ]
    },
    {
     "name": "stderr",
     "output_type": "stream",
     "text": [
      "\r",
      " 38%|███▊      | 80/208 [00:12<00:13,  9.40it/s]"
     ]
    },
    {
     "name": "stderr",
     "output_type": "stream",
     "text": [
      "\r",
      " 39%|███▉      | 82/208 [00:13<00:13,  9.36it/s]"
     ]
    },
    {
     "name": "stderr",
     "output_type": "stream",
     "text": [
      "\r",
      " 41%|████      | 85/208 [00:13<00:12,  9.50it/s]"
     ]
    },
    {
     "name": "stderr",
     "output_type": "stream",
     "text": [
      "\r",
      " 41%|████▏     | 86/208 [00:13<00:14,  8.63it/s]"
     ]
    },
    {
     "name": "stderr",
     "output_type": "stream",
     "text": [
      "\r",
      " 42%|████▏     | 87/208 [00:14<00:22,  5.32it/s]"
     ]
    },
    {
     "name": "stderr",
     "output_type": "stream",
     "text": [
      "\r",
      " 42%|████▏     | 88/208 [00:14<00:26,  4.54it/s]"
     ]
    },
    {
     "name": "stderr",
     "output_type": "stream",
     "text": [
      "\r",
      " 43%|████▎     | 89/208 [00:14<00:25,  4.69it/s]"
     ]
    },
    {
     "name": "stderr",
     "output_type": "stream",
     "text": [
      "\r",
      " 43%|████▎     | 90/208 [00:14<00:28,  4.16it/s]"
     ]
    },
    {
     "name": "stderr",
     "output_type": "stream",
     "text": [
      "\r",
      " 44%|████▍     | 91/208 [00:15<00:27,  4.21it/s]"
     ]
    },
    {
     "name": "stderr",
     "output_type": "stream",
     "text": [
      "\r",
      " 44%|████▍     | 92/208 [00:15<00:24,  4.67it/s]"
     ]
    },
    {
     "name": "stderr",
     "output_type": "stream",
     "text": [
      "\r",
      " 45%|████▍     | 93/208 [00:15<00:22,  5.01it/s]"
     ]
    },
    {
     "name": "stderr",
     "output_type": "stream",
     "text": [
      "\r",
      " 46%|████▌     | 95/208 [00:15<00:21,  5.14it/s]"
     ]
    },
    {
     "name": "stderr",
     "output_type": "stream",
     "text": [
      "\r",
      " 47%|████▋     | 97/208 [00:16<00:19,  5.76it/s]"
     ]
    },
    {
     "name": "stderr",
     "output_type": "stream",
     "text": [
      "\r",
      " 48%|████▊     | 99/208 [00:16<00:16,  6.81it/s]"
     ]
    },
    {
     "name": "stderr",
     "output_type": "stream",
     "text": [
      "\r",
      " 49%|████▊     | 101/208 [00:16<00:14,  7.53it/s]"
     ]
    },
    {
     "name": "stderr",
     "output_type": "stream",
     "text": [
      "\r",
      " 50%|████▉     | 103/208 [00:16<00:12,  8.57it/s]"
     ]
    },
    {
     "name": "stderr",
     "output_type": "stream",
     "text": [
      "\r",
      " 50%|█████     | 104/208 [00:16<00:15,  6.61it/s]"
     ]
    },
    {
     "name": "stderr",
     "output_type": "stream",
     "text": [
      "\r",
      " 52%|█████▏    | 108/208 [00:17<00:10,  9.14it/s]"
     ]
    },
    {
     "name": "stderr",
     "output_type": "stream",
     "text": [
      "\r",
      " 53%|█████▎    | 110/208 [00:17<00:12,  7.76it/s]"
     ]
    },
    {
     "name": "stderr",
     "output_type": "stream",
     "text": [
      "\r",
      " 53%|█████▎    | 111/208 [00:17<00:15,  6.44it/s]"
     ]
    },
    {
     "name": "stderr",
     "output_type": "stream",
     "text": [
      "\r",
      " 54%|█████▍    | 113/208 [00:18<00:17,  5.31it/s]"
     ]
    },
    {
     "name": "stderr",
     "output_type": "stream",
     "text": [
      "\r",
      " 55%|█████▌    | 115/208 [00:18<00:15,  5.82it/s]"
     ]
    },
    {
     "name": "stderr",
     "output_type": "stream",
     "text": [
      "\r",
      " 56%|█████▋    | 117/208 [00:18<00:12,  7.32it/s]"
     ]
    },
    {
     "name": "stderr",
     "output_type": "stream",
     "text": [
      "\r",
      " 57%|█████▋    | 119/208 [00:19<00:12,  7.36it/s]"
     ]
    },
    {
     "name": "stderr",
     "output_type": "stream",
     "text": [
      "\r",
      " 59%|█████▉    | 123/208 [00:19<00:08,  9.80it/s]"
     ]
    },
    {
     "name": "stderr",
     "output_type": "stream",
     "text": [
      "\r",
      " 60%|██████    | 125/208 [00:19<00:09,  8.74it/s]"
     ]
    },
    {
     "name": "stderr",
     "output_type": "stream",
     "text": [
      "\r",
      " 61%|██████    | 126/208 [00:19<00:09,  8.32it/s]"
     ]
    },
    {
     "name": "stderr",
     "output_type": "stream",
     "text": [
      "\r",
      " 61%|██████    | 127/208 [00:20<00:10,  7.48it/s]"
     ]
    },
    {
     "name": "stderr",
     "output_type": "stream",
     "text": [
      "\r",
      " 62%|██████▏   | 129/208 [00:20<00:12,  6.32it/s]"
     ]
    },
    {
     "name": "stderr",
     "output_type": "stream",
     "text": [
      "\r",
      " 63%|██████▎   | 131/208 [00:20<00:12,  6.03it/s]"
     ]
    },
    {
     "name": "stderr",
     "output_type": "stream",
     "text": [
      "\r",
      " 63%|██████▎   | 132/208 [00:21<00:13,  5.67it/s]"
     ]
    },
    {
     "name": "stderr",
     "output_type": "stream",
     "text": [
      "\r",
      " 64%|██████▍   | 133/208 [00:21<00:12,  5.78it/s]"
     ]
    },
    {
     "name": "stderr",
     "output_type": "stream",
     "text": [
      "\r",
      " 65%|██████▍   | 135/208 [00:21<00:09,  7.63it/s]"
     ]
    },
    {
     "name": "stderr",
     "output_type": "stream",
     "text": [
      "\r",
      " 66%|██████▌   | 137/208 [00:22<00:15,  4.69it/s]"
     ]
    },
    {
     "name": "stderr",
     "output_type": "stream",
     "text": [
      "\r",
      " 66%|██████▋   | 138/208 [00:22<00:16,  4.14it/s]"
     ]
    },
    {
     "name": "stderr",
     "output_type": "stream",
     "text": [
      "\r",
      " 67%|██████▋   | 139/208 [00:22<00:14,  4.70it/s]"
     ]
    },
    {
     "name": "stderr",
     "output_type": "stream",
     "text": [
      "\r",
      " 67%|██████▋   | 140/208 [00:22<00:15,  4.48it/s]"
     ]
    },
    {
     "name": "stderr",
     "output_type": "stream",
     "text": [
      "\r",
      " 69%|██████▉   | 143/208 [00:23<00:12,  5.18it/s]"
     ]
    },
    {
     "name": "stderr",
     "output_type": "stream",
     "text": [
      "\r",
      " 69%|██████▉   | 144/208 [00:23<00:14,  4.33it/s]"
     ]
    },
    {
     "name": "stderr",
     "output_type": "stream",
     "text": [
      "\r",
      " 71%|███████   | 148/208 [00:23<00:08,  6.98it/s]"
     ]
    },
    {
     "name": "stderr",
     "output_type": "stream",
     "text": [
      "\r",
      " 72%|███████▏  | 150/208 [00:24<00:07,  7.34it/s]"
     ]
    },
    {
     "name": "stderr",
     "output_type": "stream",
     "text": [
      "\r",
      " 73%|███████▎  | 151/208 [00:24<00:08,  6.96it/s]"
     ]
    },
    {
     "name": "stderr",
     "output_type": "stream",
     "text": [
      "\r",
      " 73%|███████▎  | 152/208 [00:24<00:08,  6.36it/s]"
     ]
    },
    {
     "name": "stderr",
     "output_type": "stream",
     "text": [
      "\r",
      " 74%|███████▍  | 154/208 [00:24<00:07,  7.36it/s]"
     ]
    },
    {
     "name": "stderr",
     "output_type": "stream",
     "text": [
      "\r",
      " 75%|███████▍  | 155/208 [00:25<00:09,  5.54it/s]"
     ]
    },
    {
     "name": "stderr",
     "output_type": "stream",
     "text": [
      "\r",
      " 76%|███████▌  | 158/208 [00:25<00:05,  8.38it/s]"
     ]
    },
    {
     "name": "stderr",
     "output_type": "stream",
     "text": [
      "\r",
      " 77%|███████▋  | 160/208 [00:25<00:05,  9.10it/s]"
     ]
    },
    {
     "name": "stderr",
     "output_type": "stream",
     "text": [
      "\r",
      " 78%|███████▊  | 162/208 [00:25<00:06,  7.62it/s]"
     ]
    },
    {
     "name": "stderr",
     "output_type": "stream",
     "text": [
      "\r",
      " 78%|███████▊  | 163/208 [00:25<00:05,  7.77it/s]"
     ]
    },
    {
     "name": "stderr",
     "output_type": "stream",
     "text": [
      "\r",
      " 79%|███████▉  | 165/208 [00:26<00:05,  7.56it/s]"
     ]
    },
    {
     "name": "stderr",
     "output_type": "stream",
     "text": [
      "\r",
      " 80%|███████▉  | 166/208 [00:26<00:05,  7.62it/s]"
     ]
    },
    {
     "name": "stderr",
     "output_type": "stream",
     "text": [
      "\r",
      " 81%|████████  | 168/208 [00:26<00:04,  9.21it/s]"
     ]
    },
    {
     "name": "stderr",
     "output_type": "stream",
     "text": [
      "\r",
      " 82%|████████▏ | 170/208 [00:26<00:05,  6.48it/s]"
     ]
    },
    {
     "name": "stderr",
     "output_type": "stream",
     "text": [
      "\r",
      " 83%|████████▎ | 172/208 [00:27<00:04,  8.06it/s]"
     ]
    },
    {
     "name": "stderr",
     "output_type": "stream",
     "text": [
      "\r",
      " 84%|████████▎ | 174/208 [00:27<00:04,  8.38it/s]"
     ]
    },
    {
     "name": "stderr",
     "output_type": "stream",
     "text": [
      "\r",
      " 86%|████████▌ | 178/208 [00:27<00:03,  9.16it/s]"
     ]
    },
    {
     "name": "stderr",
     "output_type": "stream",
     "text": [
      "\r",
      " 88%|████████▊ | 182/208 [00:27<00:02,  9.98it/s]"
     ]
    },
    {
     "name": "stderr",
     "output_type": "stream",
     "text": [
      "\r",
      " 88%|████████▊ | 184/208 [00:28<00:03,  6.49it/s]"
     ]
    },
    {
     "name": "stderr",
     "output_type": "stream",
     "text": [
      "\r",
      " 89%|████████▉ | 185/208 [00:28<00:03,  5.85it/s]"
     ]
    },
    {
     "name": "stderr",
     "output_type": "stream",
     "text": [
      "\r",
      " 90%|████████▉ | 187/208 [00:29<00:02,  7.11it/s]"
     ]
    },
    {
     "name": "stderr",
     "output_type": "stream",
     "text": [
      "\r",
      " 90%|█████████ | 188/208 [00:29<00:03,  5.87it/s]"
     ]
    },
    {
     "name": "stderr",
     "output_type": "stream",
     "text": [
      "\r",
      " 91%|█████████ | 189/208 [00:29<00:03,  4.99it/s]"
     ]
    },
    {
     "name": "stderr",
     "output_type": "stream",
     "text": [
      "\r",
      " 92%|█████████▏| 191/208 [00:29<00:02,  5.72it/s]"
     ]
    },
    {
     "name": "stderr",
     "output_type": "stream",
     "text": [
      "\r",
      " 93%|█████████▎| 193/208 [00:30<00:02,  7.35it/s]"
     ]
    },
    {
     "name": "stderr",
     "output_type": "stream",
     "text": [
      "\r",
      " 94%|█████████▍| 195/208 [00:30<00:01,  7.77it/s]"
     ]
    },
    {
     "name": "stderr",
     "output_type": "stream",
     "text": [
      "\r",
      " 95%|█████████▍| 197/208 [00:30<00:01,  9.31it/s]"
     ]
    },
    {
     "name": "stderr",
     "output_type": "stream",
     "text": [
      "\r",
      " 96%|█████████▌| 199/208 [00:30<00:00,  9.31it/s]"
     ]
    },
    {
     "name": "stderr",
     "output_type": "stream",
     "text": [
      "\r",
      " 97%|█████████▋| 202/208 [00:30<00:00, 11.26it/s]"
     ]
    },
    {
     "name": "stderr",
     "output_type": "stream",
     "text": [
      "\r",
      " 98%|█████████▊| 204/208 [00:31<00:00,  7.72it/s]"
     ]
    },
    {
     "name": "stderr",
     "output_type": "stream",
     "text": [
      "\r",
      " 99%|█████████▉| 206/208 [00:34<00:00,  2.05it/s]"
     ]
    },
    {
     "name": "stderr",
     "output_type": "stream",
     "text": [
      "\r",
      "100%|█████████▉| 207/208 [00:35<00:00,  1.64it/s]"
     ]
    },
    {
     "name": "stderr",
     "output_type": "stream",
     "text": [
      "\r",
      "100%|██████████| 208/208 [00:35<00:00,  1.69it/s]"
     ]
    },
    {
     "name": "stderr",
     "output_type": "stream",
     "text": [
      "\r",
      "100%|██████████| 208/208 [00:35<00:00,  5.81it/s]"
     ]
    },
    {
     "name": "stdout",
     "output_type": "stream",
     "text": [
      "\n",
      "rate limit: 7 \n",
      "Leeftijdsgroep API calls: create: 0, read: 1, update: 208, delete: 0, backoff: 3\n",
      "errors:\n",
      "  503: Service Unavailable: 2\n"
     ]
    },
    {
     "name": "stdout",
     "output_type": "stream",
     "text": [
      "[{'Key': 1, 'Timestamp Leeftijdsgroep RIVM': '2022-10-28 14:15'}]\n"
     ]
    },
    {
     "name": "stderr",
     "output_type": "stream",
     "text": [
      "\n"
     ]
    },
    {
     "name": "stdout",
     "output_type": "stream",
     "text": [
      "timestamps: [{'Key': 1, 'Timestamp Leeftijdsgroep RIVM': '2022-10-28 14:15'}]\n"
     ]
    },
    {
     "name": "stderr",
     "output_type": "stream",
     "text": [
      "\r",
      "  0%|          | 0/1 [00:00<?, ?it/s]"
     ]
    },
    {
     "name": "stderr",
     "output_type": "stream",
     "text": [
      "\r",
      "100%|██████████| 1/1 [00:01<00:00,  1.44s/it]"
     ]
    },
    {
     "name": "stderr",
     "output_type": "stream",
     "text": [
      "\r",
      "100%|██████████| 1/1 [00:01<00:00,  1.44s/it]"
     ]
    },
    {
     "name": "stdout",
     "output_type": "stream",
     "text": [
      "\n",
      "rate limit: 7 \n",
      "LaatsteUpdate API calls: create: 0, read: 0, update: 1, delete: 0, backoff: 0\n"
     ]
    },
    {
     "name": "stderr",
     "output_type": "stream",
     "text": [
      "\n"
     ]
    },
    {
     "name": "stderr",
     "output_type": "stream",
     "text": [
      "\r",
      "  0%|          | 0/1 [00:00<?, ?it/s]"
     ]
    },
    {
     "name": "stderr",
     "output_type": "stream",
     "text": [
      "\r",
      "100%|██████████| 1/1 [00:01<00:00,  1.34s/it]"
     ]
    },
    {
     "name": "stderr",
     "output_type": "stream",
     "text": [
      "\r",
      "100%|██████████| 1/1 [00:01<00:00,  1.34s/it]"
     ]
    },
    {
     "name": "stdout",
     "output_type": "stream",
     "text": [
      "\n",
      "rate limit: 7 \n",
      "UpdateDetails API calls: create: 1, read: 0, update: 0, delete: 0, backoff: 0\n"
     ]
    },
    {
     "name": "stderr",
     "output_type": "stream",
     "text": [
      "\n"
     ]
    },
    {
     "name": "stdout",
     "output_type": "stream",
     "text": [
      "updating: [{'Key': 1, 'Updating Leeftijdsgroep': 'false'}]\n"
     ]
    },
    {
     "name": "stderr",
     "output_type": "stream",
     "text": [
      "\r",
      "  0%|          | 0/1 [00:00<?, ?it/s]"
     ]
    },
    {
     "name": "stderr",
     "output_type": "stream",
     "text": [
      "\r",
      "100%|██████████| 1/1 [00:03<00:00,  3.17s/it]"
     ]
    },
    {
     "name": "stderr",
     "output_type": "stream",
     "text": [
      "\r",
      "100%|██████████| 1/1 [00:03<00:00,  3.17s/it]"
     ]
    },
    {
     "name": "stdout",
     "output_type": "stream",
     "text": [
      "\n",
      "rate limit: 7 \n",
      "LaatsteUpdate API calls: create: 0, read: 0, update: 1, delete: 0, backoff: 0\n"
     ]
    },
    {
     "name": "stderr",
     "output_type": "stream",
     "text": [
      "\n"
     ]
    }
   ],
   "source": [
    "if knack:\n",
    "  await knack.publish(tabel.fillna(0).assign(Datum=tabel.Datum.dt.strftime('%Y-%m-%d')), 'Leeftijdsgroep', Cache)"
   ]
  }
 ],
 "metadata": {
  "jupytext": {
   "cell_metadata_filter": "title,-all"
  },
  "kernelspec": {
   "display_name": "Python 3 (ipykernel)",
   "language": "python",
   "name": "python3"
  },
  "language_info": {
   "codemirror_mode": {
    "name": "ipython",
    "version": 3
   },
   "file_extension": ".py",
   "mimetype": "text/x-python",
   "name": "python",
   "nbconvert_exporter": "python",
   "pygments_lexer": "ipython3",
   "version": "3.9.15"
  },
  "papermill": {
   "default_parameters": {},
   "duration": 868.179108,
   "end_time": "2022-10-28T14:23:33.551050",
   "environment_variables": {},
   "exception": null,
   "input_path": "-",
   "output_path": "LeeftijdsgroepenLandelijk.ipynb",
   "parameters": {},
   "start_time": "2022-10-28T14:09:05.371942",
   "version": "2.4.0"
  }
 },
 "nbformat": 4,
 "nbformat_minor": 5
}