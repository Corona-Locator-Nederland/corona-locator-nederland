{
 "cells": [
  {
   "cell_type": "code",
   "execution_count": 1,
   "id": "000e12e1",
   "metadata": {
    "execution": {
     "iopub.execute_input": "2021-09-01T17:34:37.268217Z",
     "iopub.status.busy": "2021-09-01T17:34:37.267552Z",
     "iopub.status.idle": "2021-09-01T17:34:40.923484Z",
     "shell.execute_reply": "2021-09-01T17:34:40.923955Z"
    },
    "lines_to_next_cell": 1,
    "papermill": {
     "duration": 3.675534,
     "end_time": "2021-09-01T17:34:40.924207",
     "exception": false,
     "start_time": "2021-09-01T17:34:37.248673",
     "status": "completed"
    },
    "tags": []
   },
   "outputs": [],
   "source": [
    "from IPython import get_ipython\n",
    "from IPython.core.display import display\n",
    "get_ipython().run_line_magic('load_ext', 'autoreload')\n",
    "get_ipython().run_line_magic('autoreload', '2')\n",
    "get_ipython().run_line_magic('run', 'setup')"
   ]
  },
  {
   "cell_type": "code",
   "execution_count": 2,
   "id": "9373bb35",
   "metadata": {
    "execution": {
     "iopub.execute_input": "2021-09-01T17:34:40.941344Z",
     "iopub.status.busy": "2021-09-01T17:34:40.939782Z",
     "iopub.status.idle": "2021-09-01T17:34:44.860095Z",
     "shell.execute_reply": "2021-09-01T17:34:44.860668Z"
    },
    "lines_to_next_cell": 1,
    "papermill": {
     "duration": 3.930902,
     "end_time": "2021-09-01T17:34:44.860879",
     "exception": false,
     "start_time": "2021-09-01T17:34:40.929977",
     "status": "completed"
    },
    "tags": [],
    "title": "leeftijdsgroepen: download RIVM data"
   },
   "outputs": [
    {
     "name": "stdout",
     "output_type": "stream",
     "text": [
      "rivm/COVID-19_casus_landelijk-2021-09-01@13-15.csv exists\n"
     ]
    },
    {
     "name": "stdout",
     "output_type": "stream",
     "text": [
      "loading rivm/COVID-19_casus_landelijk-2021-09-01@13-15.csv.gz\n"
     ]
    },
    {
     "data": {
      "text/html": [
       "<div>\n",
       "<style scoped>\n",
       "    .dataframe tbody tr th:only-of-type {\n",
       "        vertical-align: middle;\n",
       "    }\n",
       "\n",
       "    .dataframe tbody tr th {\n",
       "        vertical-align: top;\n",
       "    }\n",
       "\n",
       "    .dataframe thead th {\n",
       "        text-align: right;\n",
       "    }\n",
       "</style>\n",
       "<table border=\"1\" class=\"dataframe\">\n",
       "  <thead>\n",
       "    <tr style=\"text-align: right;\">\n",
       "      <th></th>\n",
       "      <th>Date_file</th>\n",
       "      <th>Date_statistics</th>\n",
       "      <th>Date_statistics_type</th>\n",
       "      <th>Agegroup</th>\n",
       "      <th>Sex</th>\n",
       "      <th>Province</th>\n",
       "      <th>Hospital_admission</th>\n",
       "      <th>Deceased</th>\n",
       "      <th>Week_of_death</th>\n",
       "      <th>Municipal_health_service</th>\n",
       "    </tr>\n",
       "  </thead>\n",
       "  <tbody>\n",
       "    <tr>\n",
       "      <th>0</th>\n",
       "      <td>2021-09-01 10:00:00</td>\n",
       "      <td>2020-01-01</td>\n",
       "      <td>DOO</td>\n",
       "      <td>40-49</td>\n",
       "      <td>Female</td>\n",
       "      <td>Noord-Holland</td>\n",
       "      <td>No</td>\n",
       "      <td>No</td>\n",
       "      <td>NaN</td>\n",
       "      <td>GGD Amsterdam</td>\n",
       "    </tr>\n",
       "    <tr>\n",
       "      <th>1</th>\n",
       "      <td>2021-09-01 10:00:00</td>\n",
       "      <td>2020-01-01</td>\n",
       "      <td>DOO</td>\n",
       "      <td>50-59</td>\n",
       "      <td>Male</td>\n",
       "      <td>Gelderland</td>\n",
       "      <td>No</td>\n",
       "      <td>No</td>\n",
       "      <td>NaN</td>\n",
       "      <td>Veiligheids- en Gezondheidsregio Gelderland-Mi...</td>\n",
       "    </tr>\n",
       "    <tr>\n",
       "      <th>2</th>\n",
       "      <td>2021-09-01 10:00:00</td>\n",
       "      <td>2020-01-01</td>\n",
       "      <td>DOO</td>\n",
       "      <td>20-29</td>\n",
       "      <td>Female</td>\n",
       "      <td>Zuid-Holland</td>\n",
       "      <td>No</td>\n",
       "      <td>No</td>\n",
       "      <td>NaN</td>\n",
       "      <td>GGD Hollands-Midden</td>\n",
       "    </tr>\n",
       "    <tr>\n",
       "      <th>3</th>\n",
       "      <td>2021-09-01 10:00:00</td>\n",
       "      <td>2020-01-01</td>\n",
       "      <td>DOO</td>\n",
       "      <td>60-69</td>\n",
       "      <td>Female</td>\n",
       "      <td>Noord-Holland</td>\n",
       "      <td>No</td>\n",
       "      <td>No</td>\n",
       "      <td>NaN</td>\n",
       "      <td>GGD Hollands-Noorden</td>\n",
       "    </tr>\n",
       "    <tr>\n",
       "      <th>4</th>\n",
       "      <td>2021-09-01 10:00:00</td>\n",
       "      <td>2020-01-04</td>\n",
       "      <td>DOO</td>\n",
       "      <td>10-19</td>\n",
       "      <td>Female</td>\n",
       "      <td>Gelderland</td>\n",
       "      <td>Unknown</td>\n",
       "      <td>No</td>\n",
       "      <td>NaN</td>\n",
       "      <td>GGD Gelderland-Zuid</td>\n",
       "    </tr>\n",
       "  </tbody>\n",
       "</table>\n",
       "</div>"
      ],
      "text/plain": [
       "             Date_file Date_statistics Date_statistics_type Agegroup     Sex  \\\n",
       "0  2021-09-01 10:00:00      2020-01-01                  DOO    40-49  Female   \n",
       "1  2021-09-01 10:00:00      2020-01-01                  DOO    50-59    Male   \n",
       "2  2021-09-01 10:00:00      2020-01-01                  DOO    20-29  Female   \n",
       "3  2021-09-01 10:00:00      2020-01-01                  DOO    60-69  Female   \n",
       "4  2021-09-01 10:00:00      2020-01-04                  DOO    10-19  Female   \n",
       "\n",
       "        Province Hospital_admission Deceased  Week_of_death  \\\n",
       "0  Noord-Holland                 No       No            NaN   \n",
       "1     Gelderland                 No       No            NaN   \n",
       "2   Zuid-Holland                 No       No            NaN   \n",
       "3  Noord-Holland                 No       No            NaN   \n",
       "4     Gelderland            Unknown       No            NaN   \n",
       "\n",
       "                            Municipal_health_service  \n",
       "0                                      GGD Amsterdam  \n",
       "1  Veiligheids- en Gezondheidsregio Gelderland-Mi...  \n",
       "2                                GGD Hollands-Midden  \n",
       "3                               GGD Hollands-Noorden  \n",
       "4                                GGD Gelderland-Zuid  "
      ]
     },
     "metadata": {},
     "output_type": "display_data"
    }
   ],
   "source": [
    "#leeftijdsgroepen = SimpleNamespace()\n",
    "@run\n",
    "def cell():\n",
    "  global rivm\n",
    "  rivm = RIVM.csv('COVID-19_casus_landelijk')\n",
    "  display(rivm.head())"
   ]
  },
  {
   "cell_type": "code",
   "execution_count": 3,
   "id": "65a2483d",
   "metadata": {
    "execution": {
     "iopub.execute_input": "2021-09-01T17:34:44.879443Z",
     "iopub.status.busy": "2021-09-01T17:34:44.878353Z",
     "iopub.status.idle": "2021-09-01T17:34:49.550464Z",
     "shell.execute_reply": "2021-09-01T17:34:49.550999Z"
    },
    "lines_to_next_cell": 1,
    "papermill": {
     "duration": 4.683385,
     "end_time": "2021-09-01T17:34:49.551168",
     "exception": false,
     "start_time": "2021-09-01T17:34:44.867783",
     "status": "completed"
    },
    "tags": [],
    "title": "Download de bevolkings cijfers van CBS, uitgesplitst op de leeftijds categorien in de dataset van het RIVM"
   },
   "outputs": [],
   "source": [
    "@run\n",
    "def cell():\n",
    "  global bevolking\n",
    "  bevolking = CBS.bevolking(leeftijdsgroepen=True)"
   ]
  },
  {
   "cell_type": "code",
   "execution_count": 4,
   "id": "c6767d3b",
   "metadata": {
    "execution": {
     "iopub.execute_input": "2021-09-01T17:34:49.573258Z",
     "iopub.status.busy": "2021-09-01T17:34:49.566932Z",
     "iopub.status.idle": "2021-09-01T17:34:58.343862Z",
     "shell.execute_reply": "2021-09-01T17:34:58.343382Z"
    },
    "lines_to_next_cell": 1,
    "papermill": {
     "duration": 8.786205,
     "end_time": "2021-09-01T17:34:58.343994",
     "exception": false,
     "start_time": "2021-09-01T17:34:49.557789",
     "status": "completed"
    },
    "tags": [],
    "title": "leeftijdsgroepen: prepareer tabel"
   },
   "outputs": [
    {
     "data": {
      "text/html": [
       "<style type=\"text/css\">\n",
       "#T_56632_row0_col7 {\n",
       "  background-color: #218f8d;\n",
       "  color: #f1f1f1;\n",
       "}\n",
       "#T_56632_row0_col8 {\n",
       "  background-color: #481467;\n",
       "  color: #f1f1f1;\n",
       "}\n",
       "#T_56632_row0_col9, #T_56632_row1_col9, #T_56632_row2_col9, #T_56632_row3_col9, #T_56632_row4_col9 {\n",
       "  background-color: #440154;\n",
       "  color: #f1f1f1;\n",
       "}\n",
       "#T_56632_row0_col10 {\n",
       "  background-color: #3b528b;\n",
       "  color: #f1f1f1;\n",
       "}\n",
       "#T_56632_row0_col11 {\n",
       "  background-color: #26828e;\n",
       "  color: #f1f1f1;\n",
       "}\n",
       "#T_56632_row0_col12 {\n",
       "  background-color: #1fa188;\n",
       "  color: #f1f1f1;\n",
       "}\n",
       "#T_56632_row0_col13 {\n",
       "  background-color: #5cc863;\n",
       "  color: #000000;\n",
       "}\n",
       "#T_56632_row0_col14 {\n",
       "  background-color: #addc30;\n",
       "  color: #000000;\n",
       "}\n",
       "#T_56632_row0_col15 {\n",
       "  background-color: #d0e11c;\n",
       "  color: #000000;\n",
       "}\n",
       "#T_56632_row0_col16, #T_56632_row2_col16 {\n",
       "  background-color: #f1e51d;\n",
       "  color: #000000;\n",
       "}\n",
       "#T_56632_row0_col17, #T_56632_row1_col17, #T_56632_row2_col17, #T_56632_row3_col17, #T_56632_row4_col17 {\n",
       "  background-color: #fde725;\n",
       "  color: #000000;\n",
       "}\n",
       "#T_56632_row1_col7 {\n",
       "  background-color: #3aba76;\n",
       "  color: #f1f1f1;\n",
       "}\n",
       "#T_56632_row1_col8 {\n",
       "  background-color: #433e85;\n",
       "  color: #f1f1f1;\n",
       "}\n",
       "#T_56632_row1_col10 {\n",
       "  background-color: #365c8d;\n",
       "  color: #f1f1f1;\n",
       "}\n",
       "#T_56632_row1_col11 {\n",
       "  background-color: #23888e;\n",
       "  color: #f1f1f1;\n",
       "}\n",
       "#T_56632_row1_col12 {\n",
       "  background-color: #21a585;\n",
       "  color: #f1f1f1;\n",
       "}\n",
       "#T_56632_row1_col13, #T_56632_row2_col7 {\n",
       "  background-color: #69cd5b;\n",
       "  color: #000000;\n",
       "}\n",
       "#T_56632_row1_col14 {\n",
       "  background-color: #b0dd2f;\n",
       "  color: #000000;\n",
       "}\n",
       "#T_56632_row1_col15 {\n",
       "  background-color: #d2e21b;\n",
       "  color: #000000;\n",
       "}\n",
       "#T_56632_row1_col16, #T_56632_row4_col16 {\n",
       "  background-color: #f4e61e;\n",
       "  color: #000000;\n",
       "}\n",
       "#T_56632_row2_col8 {\n",
       "  background-color: #3c508b;\n",
       "  color: #f1f1f1;\n",
       "}\n",
       "#T_56632_row2_col10 {\n",
       "  background-color: #2a778e;\n",
       "  color: #f1f1f1;\n",
       "}\n",
       "#T_56632_row2_col11 {\n",
       "  background-color: #1fa187;\n",
       "  color: #f1f1f1;\n",
       "}\n",
       "#T_56632_row2_col12 {\n",
       "  background-color: #2cb17e;\n",
       "  color: #f1f1f1;\n",
       "}\n",
       "#T_56632_row2_col13, #T_56632_row4_col7 {\n",
       "  background-color: #7ad151;\n",
       "  color: #000000;\n",
       "}\n",
       "#T_56632_row2_col14 {\n",
       "  background-color: #c0df25;\n",
       "  color: #000000;\n",
       "}\n",
       "#T_56632_row2_col15 {\n",
       "  background-color: #dae319;\n",
       "  color: #000000;\n",
       "}\n",
       "#T_56632_row3_col7, #T_56632_row3_col13 {\n",
       "  background-color: #84d44b;\n",
       "  color: #000000;\n",
       "}\n",
       "#T_56632_row3_col8 {\n",
       "  background-color: #30698e;\n",
       "  color: #f1f1f1;\n",
       "}\n",
       "#T_56632_row3_col10 {\n",
       "  background-color: #24878e;\n",
       "  color: #f1f1f1;\n",
       "}\n",
       "#T_56632_row3_col11 {\n",
       "  background-color: #27ad81;\n",
       "  color: #f1f1f1;\n",
       "}\n",
       "#T_56632_row3_col12 {\n",
       "  background-color: #3dbc74;\n",
       "  color: #f1f1f1;\n",
       "}\n",
       "#T_56632_row3_col14 {\n",
       "  background-color: #c8e020;\n",
       "  color: #000000;\n",
       "}\n",
       "#T_56632_row3_col15, #T_56632_row4_col15 {\n",
       "  background-color: #d8e219;\n",
       "  color: #000000;\n",
       "}\n",
       "#T_56632_row3_col16 {\n",
       "  background-color: #f6e620;\n",
       "  color: #000000;\n",
       "}\n",
       "#T_56632_row4_col8 {\n",
       "  background-color: #443a83;\n",
       "  color: #f1f1f1;\n",
       "}\n",
       "#T_56632_row4_col10 {\n",
       "  background-color: #2d718e;\n",
       "  color: #f1f1f1;\n",
       "}\n",
       "#T_56632_row4_col11 {\n",
       "  background-color: #20a486;\n",
       "  color: #f1f1f1;\n",
       "}\n",
       "#T_56632_row4_col12 {\n",
       "  background-color: #37b878;\n",
       "  color: #f1f1f1;\n",
       "}\n",
       "#T_56632_row4_col13 {\n",
       "  background-color: #7fd34e;\n",
       "  color: #000000;\n",
       "}\n",
       "#T_56632_row4_col14 {\n",
       "  background-color: #c5e021;\n",
       "  color: #000000;\n",
       "}\n",
       "</style>\n",
       "<table id=\"T_56632_\">\n",
       "  <thead>\n",
       "    <tr>\n",
       "      <th class=\"blank level0\" >&nbsp;</th>\n",
       "      <th class=\"col_heading level0 col0\" >Key</th>\n",
       "      <th class=\"col_heading level0 col1\" >Weken terug</th>\n",
       "      <th class=\"col_heading level0 col2\" >Datum</th>\n",
       "      <th class=\"col_heading level0 col3\" >Periode</th>\n",
       "      <th class=\"col_heading level0 col4\" >Gemiddelde leeftijd</th>\n",
       "      <th class=\"col_heading level0 col5\" >Totaal</th>\n",
       "      <th class=\"col_heading level0 col6\" >Type</th>\n",
       "      <th class=\"col_heading level0 col7\" >0-9</th>\n",
       "      <th class=\"col_heading level0 col8\" >10-19</th>\n",
       "      <th class=\"col_heading level0 col9\" >20-29</th>\n",
       "      <th class=\"col_heading level0 col10\" >30-39</th>\n",
       "      <th class=\"col_heading level0 col11\" >40-49</th>\n",
       "      <th class=\"col_heading level0 col12\" >50-59</th>\n",
       "      <th class=\"col_heading level0 col13\" >60-69</th>\n",
       "      <th class=\"col_heading level0 col14\" >70-79</th>\n",
       "      <th class=\"col_heading level0 col15\" >80-89</th>\n",
       "      <th class=\"col_heading level0 col16\" >90+</th>\n",
       "      <th class=\"col_heading level0 col17\" >Onbekend</th>\n",
       "      <th class=\"col_heading level0 col18\" >c0-9</th>\n",
       "      <th class=\"col_heading level0 col19\" >c10-19</th>\n",
       "      <th class=\"col_heading level0 col20\" >c20-29</th>\n",
       "      <th class=\"col_heading level0 col21\" >c30-39</th>\n",
       "      <th class=\"col_heading level0 col22\" >c40-49</th>\n",
       "      <th class=\"col_heading level0 col23\" >c50-59</th>\n",
       "      <th class=\"col_heading level0 col24\" >c60-69</th>\n",
       "      <th class=\"col_heading level0 col25\" >c70-79</th>\n",
       "      <th class=\"col_heading level0 col26\" >c80-89</th>\n",
       "      <th class=\"col_heading level0 col27\" >c90+</th>\n",
       "      <th class=\"col_heading level0 col28\" >cOnbekend</th>\n",
       "    </tr>\n",
       "  </thead>\n",
       "  <tbody>\n",
       "    <tr>\n",
       "      <th id=\"T_56632_level0_row0\" class=\"row_heading level0 row0\" >0</th>\n",
       "      <td id=\"T_56632_row0_col0\" class=\"data row0 col0\" >p000</td>\n",
       "      <td id=\"T_56632_row0_col1\" class=\"data row0 col1\" >0</td>\n",
       "      <td id=\"T_56632_row0_col2\" class=\"data row0 col2\" >2021-09-01 00:00:00</td>\n",
       "      <td id=\"T_56632_row0_col3\" class=\"data row0 col3\" >26/08-01/09</td>\n",
       "      <td id=\"T_56632_row0_col4\" class=\"data row0 col4\" >32.300000</td>\n",
       "      <td id=\"T_56632_row0_col5\" class=\"data row0 col5\" >9512.000000</td>\n",
       "      <td id=\"T_56632_row0_col6\" class=\"data row0 col6\" >Positief getest</td>\n",
       "      <td id=\"T_56632_row0_col7\" class=\"data row0 col7\" >1034.000000</td>\n",
       "      <td id=\"T_56632_row0_col8\" class=\"data row0 col8\" >1938.000000</td>\n",
       "      <td id=\"T_56632_row0_col9\" class=\"data row0 col9\" >2043.000000</td>\n",
       "      <td id=\"T_56632_row0_col10\" class=\"data row0 col10\" >1525.000000</td>\n",
       "      <td id=\"T_56632_row0_col11\" class=\"data row0 col11\" >1138.000000</td>\n",
       "      <td id=\"T_56632_row0_col12\" class=\"data row0 col12\" >879.000000</td>\n",
       "      <td id=\"T_56632_row0_col13\" class=\"data row0 col13\" >516.000000</td>\n",
       "      <td id=\"T_56632_row0_col14\" class=\"data row0 col14\" >250.000000</td>\n",
       "      <td id=\"T_56632_row0_col15\" class=\"data row0 col15\" >146.000000</td>\n",
       "      <td id=\"T_56632_row0_col16\" class=\"data row0 col16\" >43.000000</td>\n",
       "      <td id=\"T_56632_row0_col17\" class=\"data row0 col17\" >0.000000</td>\n",
       "      <td id=\"T_56632_row0_col18\" class=\"data row0 col18\" >506</td>\n",
       "      <td id=\"T_56632_row0_col19\" class=\"data row0 col19\" >948</td>\n",
       "      <td id=\"T_56632_row0_col20\" class=\"data row0 col20\" >1000</td>\n",
       "      <td id=\"T_56632_row0_col21\" class=\"data row0 col21\" >746</td>\n",
       "      <td id=\"T_56632_row0_col22\" class=\"data row0 col22\" >557</td>\n",
       "      <td id=\"T_56632_row0_col23\" class=\"data row0 col23\" >430</td>\n",
       "      <td id=\"T_56632_row0_col24\" class=\"data row0 col24\" >252</td>\n",
       "      <td id=\"T_56632_row0_col25\" class=\"data row0 col25\" >122</td>\n",
       "      <td id=\"T_56632_row0_col26\" class=\"data row0 col26\" >71</td>\n",
       "      <td id=\"T_56632_row0_col27\" class=\"data row0 col27\" >21</td>\n",
       "      <td id=\"T_56632_row0_col28\" class=\"data row0 col28\" >0</td>\n",
       "    </tr>\n",
       "    <tr>\n",
       "      <th id=\"T_56632_level0_row1\" class=\"row_heading level0 row1\" >1</th>\n",
       "      <td id=\"T_56632_row1_col0\" class=\"data row1 col0\" >p001</td>\n",
       "      <td id=\"T_56632_row1_col1\" class=\"data row1 col1\" >1</td>\n",
       "      <td id=\"T_56632_row1_col2\" class=\"data row1 col2\" >2021-09-01 00:00:00</td>\n",
       "      <td id=\"T_56632_row1_col3\" class=\"data row1 col3\" >19/08-25/08</td>\n",
       "      <td id=\"T_56632_row1_col4\" class=\"data row1 col4\" >33.500000</td>\n",
       "      <td id=\"T_56632_row1_col5\" class=\"data row1 col5\" >16432.000000</td>\n",
       "      <td id=\"T_56632_row1_col6\" class=\"data row1 col6\" >Positief getest</td>\n",
       "      <td id=\"T_56632_row1_col7\" class=\"data row1 col7\" >1259.000000</td>\n",
       "      <td id=\"T_56632_row1_col8\" class=\"data row1 col8\" >3177.000000</td>\n",
       "      <td id=\"T_56632_row1_col9\" class=\"data row1 col9\" >3882.000000</td>\n",
       "      <td id=\"T_56632_row1_col10\" class=\"data row1 col10\" >2766.000000</td>\n",
       "      <td id=\"T_56632_row1_col11\" class=\"data row1 col11\" >2066.000000</td>\n",
       "      <td id=\"T_56632_row1_col12\" class=\"data row1 col12\" >1597.000000</td>\n",
       "      <td id=\"T_56632_row1_col13\" class=\"data row1 col13\" >895.000000</td>\n",
       "      <td id=\"T_56632_row1_col14\" class=\"data row1 col14\" >461.000000</td>\n",
       "      <td id=\"T_56632_row1_col15\" class=\"data row1 col15\" >262.000000</td>\n",
       "      <td id=\"T_56632_row1_col16\" class=\"data row1 col16\" >66.000000</td>\n",
       "      <td id=\"T_56632_row1_col17\" class=\"data row1 col17\" >1.000000</td>\n",
       "      <td id=\"T_56632_row1_col18\" class=\"data row1 col18\" >324</td>\n",
       "      <td id=\"T_56632_row1_col19\" class=\"data row1 col19\" >818</td>\n",
       "      <td id=\"T_56632_row1_col20\" class=\"data row1 col20\" >1000</td>\n",
       "      <td id=\"T_56632_row1_col21\" class=\"data row1 col21\" >712</td>\n",
       "      <td id=\"T_56632_row1_col22\" class=\"data row1 col22\" >532</td>\n",
       "      <td id=\"T_56632_row1_col23\" class=\"data row1 col23\" >411</td>\n",
       "      <td id=\"T_56632_row1_col24\" class=\"data row1 col24\" >230</td>\n",
       "      <td id=\"T_56632_row1_col25\" class=\"data row1 col25\" >118</td>\n",
       "      <td id=\"T_56632_row1_col26\" class=\"data row1 col26\" >67</td>\n",
       "      <td id=\"T_56632_row1_col27\" class=\"data row1 col27\" >17</td>\n",
       "      <td id=\"T_56632_row1_col28\" class=\"data row1 col28\" >0</td>\n",
       "    </tr>\n",
       "    <tr>\n",
       "      <th id=\"T_56632_level0_row2\" class=\"row_heading level0 row2\" >2</th>\n",
       "      <td id=\"T_56632_row2_col0\" class=\"data row2 col0\" >p002</td>\n",
       "      <td id=\"T_56632_row2_col1\" class=\"data row2 col1\" >2</td>\n",
       "      <td id=\"T_56632_row2_col2\" class=\"data row2 col2\" >2021-09-01 00:00:00</td>\n",
       "      <td id=\"T_56632_row2_col3\" class=\"data row2 col3\" >12/08-18/08</td>\n",
       "      <td id=\"T_56632_row2_col4\" class=\"data row2 col4\" >33.300000</td>\n",
       "      <td id=\"T_56632_row2_col5\" class=\"data row2 col5\" >16653.000000</td>\n",
       "      <td id=\"T_56632_row2_col6\" class=\"data row2 col6\" >Positief getest</td>\n",
       "      <td id=\"T_56632_row2_col7\" class=\"data row2 col7\" >1012.000000</td>\n",
       "      <td id=\"T_56632_row2_col8\" class=\"data row2 col8\" >3351.000000</td>\n",
       "      <td id=\"T_56632_row2_col9\" class=\"data row2 col9\" >4442.000000</td>\n",
       "      <td id=\"T_56632_row2_col10\" class=\"data row2 col10\" >2683.000000</td>\n",
       "      <td id=\"T_56632_row2_col11\" class=\"data row2 col11\" >1896.000000</td>\n",
       "      <td id=\"T_56632_row2_col12\" class=\"data row2 col12\" >1600.000000</td>\n",
       "      <td id=\"T_56632_row2_col13\" class=\"data row2 col13\" >898.000000</td>\n",
       "      <td id=\"T_56632_row2_col14\" class=\"data row2 col14\" >422.000000</td>\n",
       "      <td id=\"T_56632_row2_col15\" class=\"data row2 col15\" >257.000000</td>\n",
       "      <td id=\"T_56632_row2_col16\" class=\"data row2 col16\" >92.000000</td>\n",
       "      <td id=\"T_56632_row2_col17\" class=\"data row2 col17\" >0.000000</td>\n",
       "      <td id=\"T_56632_row2_col18\" class=\"data row2 col18\" >227</td>\n",
       "      <td id=\"T_56632_row2_col19\" class=\"data row2 col19\" >754</td>\n",
       "      <td id=\"T_56632_row2_col20\" class=\"data row2 col20\" >1000</td>\n",
       "      <td id=\"T_56632_row2_col21\" class=\"data row2 col21\" >604</td>\n",
       "      <td id=\"T_56632_row2_col22\" class=\"data row2 col22\" >426</td>\n",
       "      <td id=\"T_56632_row2_col23\" class=\"data row2 col23\" >360</td>\n",
       "      <td id=\"T_56632_row2_col24\" class=\"data row2 col24\" >202</td>\n",
       "      <td id=\"T_56632_row2_col25\" class=\"data row2 col25\" >95</td>\n",
       "      <td id=\"T_56632_row2_col26\" class=\"data row2 col26\" >57</td>\n",
       "      <td id=\"T_56632_row2_col27\" class=\"data row2 col27\" >20</td>\n",
       "      <td id=\"T_56632_row2_col28\" class=\"data row2 col28\" >0</td>\n",
       "    </tr>\n",
       "    <tr>\n",
       "      <th id=\"T_56632_level0_row3\" class=\"row_heading level0 row3\" >3</th>\n",
       "      <td id=\"T_56632_row3_col0\" class=\"data row3 col0\" >p003</td>\n",
       "      <td id=\"T_56632_row3_col1\" class=\"data row3 col1\" >3</td>\n",
       "      <td id=\"T_56632_row3_col2\" class=\"data row3 col2\" >2021-09-01 00:00:00</td>\n",
       "      <td id=\"T_56632_row3_col3\" class=\"data row3 col3\" >05/08-11/08</td>\n",
       "      <td id=\"T_56632_row3_col4\" class=\"data row3 col4\" >33.400000</td>\n",
       "      <td id=\"T_56632_row3_col5\" class=\"data row3 col5\" >16353.000000</td>\n",
       "      <td id=\"T_56632_row3_col6\" class=\"data row3 col6\" >Positief getest</td>\n",
       "      <td id=\"T_56632_row3_col7\" class=\"data row3 col7\" >879.000000</td>\n",
       "      <td id=\"T_56632_row3_col8\" class=\"data row3 col8\" >3157.000000</td>\n",
       "      <td id=\"T_56632_row3_col9\" class=\"data row3 col9\" >4766.000000</td>\n",
       "      <td id=\"T_56632_row3_col10\" class=\"data row3 col10\" >2570.000000</td>\n",
       "      <td id=\"T_56632_row3_col11\" class=\"data row3 col11\" >1806.000000</td>\n",
       "      <td id=\"T_56632_row3_col12\" class=\"data row3 col12\" >1507.000000</td>\n",
       "      <td id=\"T_56632_row3_col13\" class=\"data row3 col13\" >892.000000</td>\n",
       "      <td id=\"T_56632_row3_col14\" class=\"data row3 col14\" >406.000000</td>\n",
       "      <td id=\"T_56632_row3_col15\" class=\"data row3 col15\" >290.000000</td>\n",
       "      <td id=\"T_56632_row3_col16\" class=\"data row3 col16\" >77.000000</td>\n",
       "      <td id=\"T_56632_row3_col17\" class=\"data row3 col17\" >3.000000</td>\n",
       "      <td id=\"T_56632_row3_col18\" class=\"data row3 col18\" >184</td>\n",
       "      <td id=\"T_56632_row3_col19\" class=\"data row3 col19\" >662</td>\n",
       "      <td id=\"T_56632_row3_col20\" class=\"data row3 col20\" >1000</td>\n",
       "      <td id=\"T_56632_row3_col21\" class=\"data row3 col21\" >539</td>\n",
       "      <td id=\"T_56632_row3_col22\" class=\"data row3 col22\" >378</td>\n",
       "      <td id=\"T_56632_row3_col23\" class=\"data row3 col23\" >316</td>\n",
       "      <td id=\"T_56632_row3_col24\" class=\"data row3 col24\" >187</td>\n",
       "      <td id=\"T_56632_row3_col25\" class=\"data row3 col25\" >85</td>\n",
       "      <td id=\"T_56632_row3_col26\" class=\"data row3 col26\" >60</td>\n",
       "      <td id=\"T_56632_row3_col27\" class=\"data row3 col27\" >16</td>\n",
       "      <td id=\"T_56632_row3_col28\" class=\"data row3 col28\" >0</td>\n",
       "    </tr>\n",
       "    <tr>\n",
       "      <th id=\"T_56632_level0_row4\" class=\"row_heading level0 row4\" >4</th>\n",
       "      <td id=\"T_56632_row4_col0\" class=\"data row4 col0\" >p004</td>\n",
       "      <td id=\"T_56632_row4_col1\" class=\"data row4 col1\" >4</td>\n",
       "      <td id=\"T_56632_row4_col2\" class=\"data row4 col2\" >2021-09-01 00:00:00</td>\n",
       "      <td id=\"T_56632_row4_col3\" class=\"data row4 col3\" >29/07-04/08</td>\n",
       "      <td id=\"T_56632_row4_col4\" class=\"data row4 col4\" >32.800000</td>\n",
       "      <td id=\"T_56632_row4_col5\" class=\"data row4 col5\" >18023.000000</td>\n",
       "      <td id=\"T_56632_row4_col6\" class=\"data row4 col6\" >Positief getest</td>\n",
       "      <td id=\"T_56632_row4_col7\" class=\"data row4 col7\" >957.000000</td>\n",
       "      <td id=\"T_56632_row4_col8\" class=\"data row4 col8\" >3967.000000</td>\n",
       "      <td id=\"T_56632_row4_col9\" class=\"data row4 col9\" >4786.000000</td>\n",
       "      <td id=\"T_56632_row4_col10\" class=\"data row4 col10\" >3022.000000</td>\n",
       "      <td id=\"T_56632_row4_col11\" class=\"data row4 col11\" >1986.000000</td>\n",
       "      <td id=\"T_56632_row4_col12\" class=\"data row4 col12\" >1586.000000</td>\n",
       "      <td id=\"T_56632_row4_col13\" class=\"data row4 col13\" >926.000000</td>\n",
       "      <td id=\"T_56632_row4_col14\" class=\"data row4 col14\" >423.000000</td>\n",
       "      <td id=\"T_56632_row4_col15\" class=\"data row4 col15\" >287.000000</td>\n",
       "      <td id=\"T_56632_row4_col16\" class=\"data row4 col16\" >82.000000</td>\n",
       "      <td id=\"T_56632_row4_col17\" class=\"data row4 col17\" >1.000000</td>\n",
       "      <td id=\"T_56632_row4_col18\" class=\"data row4 col18\" >199</td>\n",
       "      <td id=\"T_56632_row4_col19\" class=\"data row4 col19\" >828</td>\n",
       "      <td id=\"T_56632_row4_col20\" class=\"data row4 col20\" >1000</td>\n",
       "      <td id=\"T_56632_row4_col21\" class=\"data row4 col21\" >631</td>\n",
       "      <td id=\"T_56632_row4_col22\" class=\"data row4 col22\" >414</td>\n",
       "      <td id=\"T_56632_row4_col23\" class=\"data row4 col23\" >331</td>\n",
       "      <td id=\"T_56632_row4_col24\" class=\"data row4 col24\" >193</td>\n",
       "      <td id=\"T_56632_row4_col25\" class=\"data row4 col25\" >88</td>\n",
       "      <td id=\"T_56632_row4_col26\" class=\"data row4 col26\" >59</td>\n",
       "      <td id=\"T_56632_row4_col27\" class=\"data row4 col27\" >17</td>\n",
       "      <td id=\"T_56632_row4_col28\" class=\"data row4 col28\" >0</td>\n",
       "    </tr>\n",
       "  </tbody>\n",
       "</table>\n"
      ],
      "text/plain": [
       "<pandas.io.formats.style.Styler at 0x7f6a1ceb0a00>"
      ]
     },
     "metadata": {},
     "output_type": "display_data"
    }
   ],
   "source": [
    "# Bereken de stand van zaken van besmettingen / hospitalisaties / overlijden, per cohort in absolute aantallen en aantallen per 100k, met een kleur indicator voor de aantallen.\n",
    "# vervang <50 en Unknown door Onbekend\n",
    "@run\n",
    "def cell():\n",
    "  rivm['Cohort'] = rivm['Agegroup'].replace({'<50': 'Onbekend', 'Unknown': 'Onbekend'})\n",
    "  # aangenomen 'gemiddelde' leeftijd van een cohort: minimum waarde + 5\n",
    "  assumed_cohort_age = [(cohort, [int(n) for n in cohort.replace('+', '').split('-')]) for cohort in rivm['Cohort'].unique() if cohort[0].isdigit()]\n",
    "  assumed_cohort_age = { cohort: min(rng) + 5 for cohort, rng in assumed_cohort_age }\n",
    "  rivm['Gemiddelde leeftijd'] = rivm['Cohort'].apply(lambda x: assumed_cohort_age.get(x, np.nan))\n",
    "\n",
    "  # verwijder tijd\n",
    "  rivm['Date_file_date'] = pd.to_datetime(rivm['Date_file'].replace(r' .*', '', regex=True))\n",
    "\n",
    "  rivm['Date_statistics_date'] = pd.to_datetime(rivm['Date_statistics'])\n",
    "\n",
    "  # weken terug = verschil tussen Date_file en Date_statistcs, gedeeld door 7 dagen\n",
    "  rivm['Weken terug'] = np.floor((rivm['Date_file_date'] - rivm['Date_statistics_date'])/np.timedelta64(7, 'D')).astype(int)\n",
    "\n",
    "  # voeg key, gem leeftijd, kleurnummer en totaal toe\n",
    "  Date_file = rivm['Date_file_date'].unique()[0].astype('M8[D]').astype('O')\n",
    "  cohorten = list(bevolking.index) + ['Onbekend']\n",
    "  def summarize(df, category, prefix):\n",
    "    # aangezien we hier de dataframe in-place wijzigen (bijv door toevoegen kolommen)\n",
    "    # en we het 'rivm' frame later nog clean nodig hebben\n",
    "    df = df.copy(deep=True)\n",
    "\n",
    "    df = (df\n",
    "          .groupby(['Weken terug', 'Cohort'])['count']\n",
    "          .sum()\n",
    "          .unstack(fill_value=np.nan)\n",
    "          .reset_index()\n",
    "          .rename_axis(None, axis=1)\n",
    "        ).merge(df\n",
    "          # we voegen hier gemiddelde leeftijd toe, want die willen we op een ander\n",
    "          # niveau aggregeren voor 'df' overschreven word\n",
    "          .groupby(['Weken terug'])['Gemiddelde leeftijd']\n",
    "          .mean()\n",
    "          .to_frame(), on='Weken terug'\n",
    "        )\n",
    "\n",
    "    # altijd 52 rijen\n",
    "    df = pd.Series(np.arange(52), name='Weken terug').to_frame().merge(df, how='left', on='Weken terug')\n",
    "\n",
    "    # toevoegen missende cohorten\n",
    "    for col in cohorten:\n",
    "      if not col in df:\n",
    "        df[col] = np.nan\n",
    "\n",
    "    # sommeer per rij (axis=1) over de cohorten om een totaal te krijgen\n",
    "    df['Totaal'] = df[cohorten].sum(axis=1)\n",
    "\n",
    "    # voeg periode en datum toe\n",
    "    # periode afgeleid van weken-terug (= de index voor deze dataframe)\n",
    "    df['Datum'] = pd.to_datetime(Date_file)\n",
    "    df['Periode'] = (df\n",
    "      .index.to_series()\n",
    "      .apply(\n",
    "        lambda x: (\n",
    "          (Date_file + datetime.timedelta(weeks=-(x+1), days=1)).strftime('%d/%m')\n",
    "          + '-'\n",
    "          + (Date_file + datetime.timedelta(weeks=-x)).strftime('%d/%m')\n",
    "        )\n",
    "      )\n",
    "    )\n",
    "\n",
    "    # voeg 'Key' en 'Type' kolom toe. Variabele 'type' kan niet, is een language primitive.\n",
    "    df['Key'] = prefix + df.index.astype(str).str.rjust(3, fillchar='0')\n",
    "    df['Type'] = category\n",
    "\n",
    "    # voeg de kleur kolommen toe\n",
    "    for col in cohorten:\n",
    "      df['c' + col] = ((df[col] / df[[col for col in cohorten]].max(axis=1)) * 1000).fillna(0).astype(int)\n",
    "\n",
    "    # herschikken van de kolommen\n",
    "    colorder = ['Key', 'Weken terug', 'Datum', 'Periode', 'Gemiddelde leeftijd', 'Totaal', 'Type']\n",
    "    return df[colorder + [col for col in df if col not in colorder]]\n",
    "\n",
    "  factor = bevolking.to_dict()['per 100k']\n",
    "  global tabel\n",
    "  tabel = pd.concat(\n",
    "    # flatten the result list zodat pd.concat ze onder elkaar kan plakken\n",
    "    functools.reduce(lambda a, b: a + b, [\n",
    "      [summarize(df.assign(count=1), label, prefix), summarize(df.assign(count=df['Cohort'].apply(lambda x: factor.get(x, np.nan))), label + ' per 100.000', prefix + '100k')]\n",
    "      for df, label, prefix in [\n",
    "        (rivm, 'Positief getest', 'p'), # volledige count per cohort\n",
    "        (rivm[rivm.Hospital_admission == 'Yes'], 'Ziekenhuisopname', 'h'), # count van cohort voor Hospital_admission == 'Yes'\n",
    "        (rivm[rivm.Deceased == 'Yes'], 'Overleden', 'd'), # count van cohort voor Deceased == 'Yes'\n",
    "      ]\n",
    "    ])\n",
    "  )\n",
    "\n",
    "  # rood -> groen\n",
    "  cdict = {\n",
    "    'red':   ((0.0, 0.0, 0.0),   # no red at 0\n",
    "              (0.5, 1.0, 1.0),   # all channels set to 1.0 at 0.5 to create white\n",
    "              (1.0, 0.8, 0.8)),  # set to 0.8 so its not too bright at 1\n",
    "    'green': ((0.0, 0.8, 0.8),   # set to 0.8 so its not too bright at 0\n",
    "              (0.5, 1.0, 1.0),   # all channels set to 1.0 at 0.5 to create white\n",
    "              (1.0, 0.0, 0.0)),  # no green at 1\n",
    "    'blue':  ((0.0, 0.0, 0.0),   # no blue at 0\n",
    "              (0.5, 1.0, 1.0),   # all channels set to 1.0 at 0.5 to create white\n",
    "              (1.0, 0.0, 0.0))   # no blue at 1\n",
    "  }\n",
    "  cm = colors.LinearSegmentedColormap('GnRd', cdict)\n",
    "  # geel -> paars\n",
    "  cm = sns.color_palette('viridis_r', as_cmap=True)\n",
    "  display(tabel\n",
    "    .fillna(0)\n",
    "    .head()\n",
    "    .round(1)\n",
    "    .reset_index(drop=True)\n",
    "    .style.background_gradient(cmap=cm, axis=1, subset=cohorten)\n",
    "  )"
   ]
  },
  {
   "cell_type": "code",
   "execution_count": 5,
   "id": "990b92ce",
   "metadata": {
    "execution": {
     "iopub.execute_input": "2021-09-01T17:34:58.364707Z",
     "iopub.status.busy": "2021-09-01T17:34:58.361654Z",
     "iopub.status.idle": "2021-09-01T17:35:12.183723Z",
     "shell.execute_reply": "2021-09-01T17:35:12.184251Z"
    },
    "papermill": {
     "duration": 13.83361,
     "end_time": "2021-09-01T17:35:12.184438",
     "exception": false,
     "start_time": "2021-09-01T17:34:58.350828",
     "status": "completed"
    },
    "tags": [],
    "title": "publish"
   },
   "outputs": [
    {
     "name": "stdout",
     "output_type": "stream",
     "text": [
      "infinities:\n"
     ]
    },
    {
     "name": "stdout",
     "output_type": "stream",
     "text": [
      "Empty DataFrame\n",
      "Columns: []\n",
      "Index: []\n"
     ]
    },
    {
     "name": "stdout",
     "output_type": "stream",
     "text": [
      "nan:\n"
     ]
    },
    {
     "name": "stdout",
     "output_type": "stream",
     "text": [
      "Empty DataFrame\n",
      "Columns: []\n",
      "Index: []\n"
     ]
    },
    {
     "name": "stdout",
     "output_type": "stream",
     "text": [
      "Key                     object\n",
      "Weken terug              int64\n",
      "Datum                   object\n",
      "Periode                 object\n",
      "Gemiddelde leeftijd    float64\n",
      "Totaal                 float64\n",
      "Type                    object\n",
      "0-9                    float64\n",
      "10-19                  float64\n",
      "20-29                  float64\n",
      "30-39                  float64\n",
      "40-49                  float64\n",
      "50-59                  float64\n",
      "60-69                  float64\n",
      "70-79                  float64\n",
      "80-89                  float64\n",
      "90+                    float64\n",
      "Onbekend               float64\n",
      "c0-9                     int64\n",
      "c10-19                   int64\n",
      "c20-29                   int64\n",
      "c30-39                   int64\n",
      "c40-49                   int64\n",
      "c50-59                   int64\n",
      "c60-69                   int64\n",
      "c70-79                   int64\n",
      "c80-89                   int64\n",
      "c90+                     int64\n",
      "cOnbekend                int64\n",
      "dtype: object\n",
      "updating knack\n"
     ]
    },
    {
     "name": "stdout",
     "output_type": "stream",
     "text": [
      "updating: [{'Key': 1, 'Updating Leeftijdsgroep': 'true'}]\n"
     ]
    },
    {
     "name": "stdout",
     "output_type": "stream",
     "text": [
      "restored LaatsteUpdate from hash\n"
     ]
    },
    {
     "name": "stdout",
     "output_type": "stream",
     "text": [
      "Key                         int64\n",
      "Updating Leeftijdsgroep    object\n",
      "dtype: object\n"
     ]
    },
    {
     "name": "stderr",
     "output_type": "stream",
     "text": [
      "\r",
      "  0%|          | 0/1 [00:00<?, ?it/s]"
     ]
    },
    {
     "name": "stderr",
     "output_type": "stream",
     "text": [
      "\r",
      "100%|██████████| 1/1 [00:01<00:00,  1.21s/it]"
     ]
    },
    {
     "name": "stderr",
     "output_type": "stream",
     "text": [
      "\r",
      "100%|██████████| 1/1 [00:01<00:00,  1.21s/it]"
     ]
    },
    {
     "name": "stderr",
     "output_type": "stream",
     "text": [
      "\n"
     ]
    },
    {
     "name": "stdout",
     "output_type": "stream",
     "text": [
      "\n",
      "rate limit: 7 \n",
      "LaatsteUpdate API calls: create: 0, read: 1, update: 1, delete: 0, backoff: 0\n"
     ]
    },
    {
     "name": "stdout",
     "output_type": "stream",
     "text": [
      "restored Leeftijdsgroep from hash\n"
     ]
    },
    {
     "name": "stdout",
     "output_type": "stream",
     "text": [
      "0-9                    float64\n",
      "10-19                  float64\n",
      "20-29                  float64\n",
      "30-39                  float64\n",
      "40-49                  float64\n",
      "50-59                  float64\n",
      "60-69                  float64\n",
      "70-79                  float64\n",
      "80-89                  float64\n",
      "90+                    float64\n",
      "Datum                   object\n",
      "Gemiddelde leeftijd    float64\n",
      "Key                     object\n",
      "Onbekend               float64\n",
      "Periode                 object\n",
      "Totaal                 float64\n",
      "Type                    object\n",
      "Weken terug              int64\n",
      "c0-9                     int64\n",
      "c10-19                   int64\n",
      "c20-29                   int64\n",
      "c30-39                   int64\n",
      "c40-49                   int64\n",
      "c50-59                   int64\n",
      "c60-69                   int64\n",
      "c70-79                   int64\n",
      "c80-89                   int64\n",
      "c90+                     int64\n",
      "cOnbekend                int64\n",
      "dtype: object\n",
      "nothing to do for Leeftijdsgroep\n"
     ]
    },
    {
     "name": "stdout",
     "output_type": "stream",
     "text": [
      "\n",
      "rate limit: 7 \n",
      "Leeftijdsgroep API calls: create: 0, read: 1, update: 0, delete: 0, backoff: 0\n"
     ]
    },
    {
     "name": "stdout",
     "output_type": "stream",
     "text": [
      "[{'Key': 1, 'Timestamp Leeftijdsgroep RIVM': '2021-09-01 14:15'}]\n"
     ]
    },
    {
     "name": "stdout",
     "output_type": "stream",
     "text": [
      "timestamps: [{'Key': 1, 'Timestamp Leeftijdsgroep RIVM': '2021-09-01 14:15'}]\n",
      "Key                               int64\n",
      "Timestamp Leeftijdsgroep RIVM    object\n",
      "dtype: object\n"
     ]
    },
    {
     "name": "stderr",
     "output_type": "stream",
     "text": [
      "\r",
      "  0%|          | 0/1 [00:00<?, ?it/s]"
     ]
    },
    {
     "name": "stderr",
     "output_type": "stream",
     "text": [
      "\r",
      "100%|██████████| 1/1 [00:01<00:00,  1.98s/it]"
     ]
    },
    {
     "name": "stderr",
     "output_type": "stream",
     "text": [
      "\r",
      "100%|██████████| 1/1 [00:01<00:00,  1.98s/it]"
     ]
    },
    {
     "name": "stderr",
     "output_type": "stream",
     "text": [
      "\n"
     ]
    },
    {
     "name": "stdout",
     "output_type": "stream",
     "text": [
      "\n",
      "rate limit: 7 \n",
      "LaatsteUpdate API calls: create: 0, read: 0, update: 1, delete: 0, backoff: 0\n"
     ]
    },
    {
     "name": "stdout",
     "output_type": "stream",
     "text": [
      "BatchName     object\n",
      "ObjectName    object\n",
      "Source        object\n",
      "Timestamp     object\n",
      "dtype: object\n"
     ]
    },
    {
     "name": "stderr",
     "output_type": "stream",
     "text": [
      "\r",
      "  0%|          | 0/1 [00:00<?, ?it/s]"
     ]
    },
    {
     "name": "stderr",
     "output_type": "stream",
     "text": [
      "\r",
      "100%|██████████| 1/1 [00:02<00:00,  2.23s/it]"
     ]
    },
    {
     "name": "stderr",
     "output_type": "stream",
     "text": [
      "\r",
      "100%|██████████| 1/1 [00:02<00:00,  2.23s/it]"
     ]
    },
    {
     "name": "stderr",
     "output_type": "stream",
     "text": [
      "\n"
     ]
    },
    {
     "name": "stdout",
     "output_type": "stream",
     "text": [
      "\n",
      "rate limit: 7 \n",
      "UpdateDetails API calls: create: 1, read: 0, update: 0, delete: 0, backoff: 0\n"
     ]
    },
    {
     "name": "stdout",
     "output_type": "stream",
     "text": [
      "updating: [{'Key': 1, 'Updating Leeftijdsgroep': 'false'}]\n",
      "Key                         int64\n",
      "Updating Leeftijdsgroep    object\n",
      "dtype: object\n"
     ]
    },
    {
     "name": "stderr",
     "output_type": "stream",
     "text": [
      "\r",
      "  0%|          | 0/1 [00:00<?, ?it/s]"
     ]
    },
    {
     "name": "stderr",
     "output_type": "stream",
     "text": [
      "\r",
      "100%|██████████| 1/1 [00:01<00:00,  1.02s/it]"
     ]
    },
    {
     "name": "stderr",
     "output_type": "stream",
     "text": [
      "\r",
      "100%|██████████| 1/1 [00:01<00:00,  1.02s/it]"
     ]
    },
    {
     "name": "stderr",
     "output_type": "stream",
     "text": [
      "\n"
     ]
    },
    {
     "name": "stdout",
     "output_type": "stream",
     "text": [
      "\n",
      "rate limit: 7 \n",
      "LaatsteUpdate API calls: create: 0, read: 0, update: 1, delete: 0, backoff: 0\n"
     ]
    }
   ],
   "source": [
    "if knack:\n",
    "  await knack.publish(tabel.fillna(0).assign(Datum=tabel.Datum.dt.strftime('%Y-%m-%d')), 'Leeftijdsgroep', Cache)"
   ]
  }
 ],
 "metadata": {
  "jupytext": {
   "cell_metadata_filter": "title,-all"
  },
  "kernelspec": {
   "display_name": "Python 3 (ipykernel)",
   "language": "python",
   "name": "python3"
  },
  "language_info": {
   "codemirror_mode": {
    "name": "ipython",
    "version": 3
   },
   "file_extension": ".py",
   "mimetype": "text/x-python",
   "name": "python",
   "nbconvert_exporter": "python",
   "pygments_lexer": "ipython3",
   "version": "3.9.6"
  },
  "papermill": {
   "default_parameters": {},
   "duration": 36.605307,
   "end_time": "2021-09-01T17:35:12.611789",
   "environment_variables": {},
   "exception": null,
   "input_path": "-",
   "output_path": "LeeftijdsgroepenLandelijk.ipynb",
   "parameters": {},
   "start_time": "2021-09-01T17:34:36.006482",
   "version": "2.3.3"
  }
 },
 "nbformat": 4,
 "nbformat_minor": 5
}