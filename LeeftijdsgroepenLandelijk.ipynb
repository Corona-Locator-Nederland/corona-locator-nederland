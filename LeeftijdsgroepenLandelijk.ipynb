{
 "cells": [
  {
   "cell_type": "code",
   "execution_count": 1,
   "id": "91c0cc1d",
   "metadata": {
    "execution": {
     "iopub.execute_input": "2021-12-08T09:17:38.043363Z",
     "iopub.status.busy": "2021-12-08T09:17:38.042721Z",
     "iopub.status.idle": "2021-12-08T09:17:44.392201Z",
     "shell.execute_reply": "2021-12-08T09:17:44.391092Z"
    },
    "lines_to_next_cell": 1,
    "papermill": {
     "duration": 6.369967,
     "end_time": "2021-12-08T09:17:44.392409",
     "exception": false,
     "start_time": "2021-12-08T09:17:38.022442",
     "status": "completed"
    },
    "tags": []
   },
   "outputs": [],
   "source": [
    "from IPython import get_ipython\n",
    "from IPython.core.display import display\n",
    "get_ipython().run_line_magic('load_ext', 'autoreload')\n",
    "get_ipython().run_line_magic('autoreload', '2')\n",
    "get_ipython().run_line_magic('run', 'setup')"
   ]
  },
  {
   "cell_type": "code",
   "execution_count": 2,
   "id": "c0c69b99",
   "metadata": {
    "execution": {
     "iopub.execute_input": "2021-12-08T09:17:44.439553Z",
     "iopub.status.busy": "2021-12-08T09:17:44.434494Z",
     "iopub.status.idle": "2021-12-08T09:17:49.685728Z",
     "shell.execute_reply": "2021-12-08T09:17:49.687182Z"
    },
    "lines_to_next_cell": 1,
    "papermill": {
     "duration": 5.27765,
     "end_time": "2021-12-08T09:17:49.687389",
     "exception": false,
     "start_time": "2021-12-08T09:17:44.409739",
     "status": "completed"
    },
    "tags": [],
    "title": "leeftijdsgroepen: download RIVM data"
   },
   "outputs": [
    {
     "name": "stdout",
     "output_type": "stream",
     "text": [
      "rivm/COVID-19_casus_landelijk-2021-12-07@14-15.csv exists\n"
     ]
    },
    {
     "name": "stdout",
     "output_type": "stream",
     "text": [
      "loading rivm/COVID-19_casus_landelijk-2021-12-07@14-15.csv.gz\n"
     ]
    },
    {
     "data": {
      "text/html": [
       "<div>\n",
       "<style scoped>\n",
       "    .dataframe tbody tr th:only-of-type {\n",
       "        vertical-align: middle;\n",
       "    }\n",
       "\n",
       "    .dataframe tbody tr th {\n",
       "        vertical-align: top;\n",
       "    }\n",
       "\n",
       "    .dataframe thead th {\n",
       "        text-align: right;\n",
       "    }\n",
       "</style>\n",
       "<table border=\"1\" class=\"dataframe\">\n",
       "  <thead>\n",
       "    <tr style=\"text-align: right;\">\n",
       "      <th></th>\n",
       "      <th>Date_file</th>\n",
       "      <th>Date_statistics</th>\n",
       "      <th>Date_statistics_type</th>\n",
       "      <th>Agegroup</th>\n",
       "      <th>Sex</th>\n",
       "      <th>Province</th>\n",
       "      <th>Hospital_admission</th>\n",
       "      <th>Deceased</th>\n",
       "      <th>Week_of_death</th>\n",
       "      <th>Municipal_health_service</th>\n",
       "    </tr>\n",
       "  </thead>\n",
       "  <tbody>\n",
       "    <tr>\n",
       "      <th>0</th>\n",
       "      <td>2021-12-07 10:00:00</td>\n",
       "      <td>2020-01-01</td>\n",
       "      <td>DOO</td>\n",
       "      <td>40-49</td>\n",
       "      <td>Female</td>\n",
       "      <td>Noord-Holland</td>\n",
       "      <td>No</td>\n",
       "      <td>No</td>\n",
       "      <td>NaN</td>\n",
       "      <td>GGD Amsterdam</td>\n",
       "    </tr>\n",
       "    <tr>\n",
       "      <th>1</th>\n",
       "      <td>2021-12-07 10:00:00</td>\n",
       "      <td>2020-01-01</td>\n",
       "      <td>DOO</td>\n",
       "      <td>50-59</td>\n",
       "      <td>Male</td>\n",
       "      <td>Gelderland</td>\n",
       "      <td>No</td>\n",
       "      <td>No</td>\n",
       "      <td>NaN</td>\n",
       "      <td>Veiligheids- en Gezondheidsregio Gelderland-Mi...</td>\n",
       "    </tr>\n",
       "    <tr>\n",
       "      <th>2</th>\n",
       "      <td>2021-12-07 10:00:00</td>\n",
       "      <td>2020-01-01</td>\n",
       "      <td>DOO</td>\n",
       "      <td>20-29</td>\n",
       "      <td>Female</td>\n",
       "      <td>Zuid-Holland</td>\n",
       "      <td>No</td>\n",
       "      <td>No</td>\n",
       "      <td>NaN</td>\n",
       "      <td>GGD Hollands-Midden</td>\n",
       "    </tr>\n",
       "    <tr>\n",
       "      <th>3</th>\n",
       "      <td>2021-12-07 10:00:00</td>\n",
       "      <td>2020-01-01</td>\n",
       "      <td>DOO</td>\n",
       "      <td>60-69</td>\n",
       "      <td>Female</td>\n",
       "      <td>Noord-Holland</td>\n",
       "      <td>No</td>\n",
       "      <td>No</td>\n",
       "      <td>NaN</td>\n",
       "      <td>GGD Hollands-Noorden</td>\n",
       "    </tr>\n",
       "    <tr>\n",
       "      <th>4</th>\n",
       "      <td>2021-12-07 10:00:00</td>\n",
       "      <td>2020-01-04</td>\n",
       "      <td>DOO</td>\n",
       "      <td>10-19</td>\n",
       "      <td>Female</td>\n",
       "      <td>Gelderland</td>\n",
       "      <td>Unknown</td>\n",
       "      <td>No</td>\n",
       "      <td>NaN</td>\n",
       "      <td>GGD Gelderland-Zuid</td>\n",
       "    </tr>\n",
       "  </tbody>\n",
       "</table>\n",
       "</div>"
      ],
      "text/plain": [
       "             Date_file Date_statistics Date_statistics_type Agegroup     Sex  \\\n",
       "0  2021-12-07 10:00:00      2020-01-01                  DOO    40-49  Female   \n",
       "1  2021-12-07 10:00:00      2020-01-01                  DOO    50-59    Male   \n",
       "2  2021-12-07 10:00:00      2020-01-01                  DOO    20-29  Female   \n",
       "3  2021-12-07 10:00:00      2020-01-01                  DOO    60-69  Female   \n",
       "4  2021-12-07 10:00:00      2020-01-04                  DOO    10-19  Female   \n",
       "\n",
       "        Province Hospital_admission Deceased  Week_of_death  \\\n",
       "0  Noord-Holland                 No       No            NaN   \n",
       "1     Gelderland                 No       No            NaN   \n",
       "2   Zuid-Holland                 No       No            NaN   \n",
       "3  Noord-Holland                 No       No            NaN   \n",
       "4     Gelderland            Unknown       No            NaN   \n",
       "\n",
       "                            Municipal_health_service  \n",
       "0                                      GGD Amsterdam  \n",
       "1  Veiligheids- en Gezondheidsregio Gelderland-Mi...  \n",
       "2                                GGD Hollands-Midden  \n",
       "3                               GGD Hollands-Noorden  \n",
       "4                                GGD Gelderland-Zuid  "
      ]
     },
     "metadata": {},
     "output_type": "display_data"
    }
   ],
   "source": [
    "#leeftijdsgroepen = SimpleNamespace()\n",
    "@run\n",
    "def cell():\n",
    "  global rivm\n",
    "  rivm = RIVM.csv('COVID-19_casus_landelijk')\n",
    "  display(rivm.head())"
   ]
  },
  {
   "cell_type": "code",
   "execution_count": 3,
   "id": "8b95949a",
   "metadata": {
    "execution": {
     "iopub.execute_input": "2021-12-08T09:17:49.735501Z",
     "iopub.status.busy": "2021-12-08T09:17:49.734845Z",
     "iopub.status.idle": "2021-12-08T09:17:56.090988Z",
     "shell.execute_reply": "2021-12-08T09:17:56.090400Z"
    },
    "lines_to_next_cell": 1,
    "papermill": {
     "duration": 6.381108,
     "end_time": "2021-12-08T09:17:56.091143",
     "exception": false,
     "start_time": "2021-12-08T09:17:49.710035",
     "status": "completed"
    },
    "tags": [],
    "title": "Download de bevolkings cijfers van CBS, uitgesplitst op de leeftijds categorien in de dataset van het RIVM"
   },
   "outputs": [],
   "source": [
    "@run\n",
    "def cell():\n",
    "  global bevolking\n",
    "  bevolking = CBS.bevolking(leeftijdsgroepen=True)"
   ]
  },
  {
   "cell_type": "code",
   "execution_count": 4,
   "id": "3d897bd5",
   "metadata": {
    "execution": {
     "iopub.execute_input": "2021-12-08T09:17:56.168516Z",
     "iopub.status.busy": "2021-12-08T09:17:56.167147Z",
     "iopub.status.idle": "2021-12-08T09:18:09.389030Z",
     "shell.execute_reply": "2021-12-08T09:18:09.389521Z"
    },
    "lines_to_next_cell": 1,
    "papermill": {
     "duration": 13.267431,
     "end_time": "2021-12-08T09:18:09.389693",
     "exception": false,
     "start_time": "2021-12-08T09:17:56.122262",
     "status": "completed"
    },
    "tags": [],
    "title": "leeftijdsgroepen: prepareer tabel"
   },
   "outputs": [
    {
     "data": {
      "text/html": [
       "<style type=\"text/css\">\n",
       "#T_1ca2c_row0_col7 {\n",
       "  background-color: #482979;\n",
       "  color: #f1f1f1;\n",
       "}\n",
       "#T_1ca2c_row0_col8 {\n",
       "  background-color: #481c6e;\n",
       "  color: #f1f1f1;\n",
       "}\n",
       "#T_1ca2c_row0_col9 {\n",
       "  background-color: #39568c;\n",
       "  color: #f1f1f1;\n",
       "}\n",
       "#T_1ca2c_row0_col10, #T_1ca2c_row1_col8, #T_1ca2c_row2_col8, #T_1ca2c_row3_col8, #T_1ca2c_row4_col10 {\n",
       "  background-color: #440154;\n",
       "  color: #f1f1f1;\n",
       "}\n",
       "#T_1ca2c_row0_col11 {\n",
       "  background-color: #48186a;\n",
       "  color: #f1f1f1;\n",
       "}\n",
       "#T_1ca2c_row0_col12 {\n",
       "  background-color: #2f6c8e;\n",
       "  color: #f1f1f1;\n",
       "}\n",
       "#T_1ca2c_row0_col13, #T_1ca2c_row4_col14 {\n",
       "  background-color: #1e9c89;\n",
       "  color: #f1f1f1;\n",
       "}\n",
       "#T_1ca2c_row0_col14 {\n",
       "  background-color: #54c568;\n",
       "  color: #000000;\n",
       "}\n",
       "#T_1ca2c_row0_col15 {\n",
       "  background-color: #a0da39;\n",
       "  color: #000000;\n",
       "}\n",
       "#T_1ca2c_row0_col16 {\n",
       "  background-color: #e2e418;\n",
       "  color: #000000;\n",
       "}\n",
       "#T_1ca2c_row0_col17, #T_1ca2c_row1_col17, #T_1ca2c_row2_col17, #T_1ca2c_row3_col17, #T_1ca2c_row4_col17 {\n",
       "  background-color: #fde725;\n",
       "  color: #000000;\n",
       "}\n",
       "#T_1ca2c_row1_col7 {\n",
       "  background-color: #453581;\n",
       "  color: #f1f1f1;\n",
       "}\n",
       "#T_1ca2c_row1_col9, #T_1ca2c_row3_col12 {\n",
       "  background-color: #375a8c;\n",
       "  color: #f1f1f1;\n",
       "}\n",
       "#T_1ca2c_row1_col10 {\n",
       "  background-color: #460b5e;\n",
       "  color: #f1f1f1;\n",
       "}\n",
       "#T_1ca2c_row1_col11 {\n",
       "  background-color: #481769;\n",
       "  color: #f1f1f1;\n",
       "}\n",
       "#T_1ca2c_row1_col12 {\n",
       "  background-color: #355e8d;\n",
       "  color: #f1f1f1;\n",
       "}\n",
       "#T_1ca2c_row1_col13 {\n",
       "  background-color: #228b8d;\n",
       "  color: #f1f1f1;\n",
       "}\n",
       "#T_1ca2c_row1_col14 {\n",
       "  background-color: #3dbc74;\n",
       "  color: #f1f1f1;\n",
       "}\n",
       "#T_1ca2c_row1_col15 {\n",
       "  background-color: #8bd646;\n",
       "  color: #000000;\n",
       "}\n",
       "#T_1ca2c_row1_col16 {\n",
       "  background-color: #dde318;\n",
       "  color: #000000;\n",
       "}\n",
       "#T_1ca2c_row2_col7 {\n",
       "  background-color: #3d4d8a;\n",
       "  color: #f1f1f1;\n",
       "}\n",
       "#T_1ca2c_row2_col9 {\n",
       "  background-color: #3c508b;\n",
       "  color: #f1f1f1;\n",
       "}\n",
       "#T_1ca2c_row2_col10 {\n",
       "  background-color: #482576;\n",
       "  color: #f1f1f1;\n",
       "}\n",
       "#T_1ca2c_row2_col11 {\n",
       "  background-color: #472e7c;\n",
       "  color: #f1f1f1;\n",
       "}\n",
       "#T_1ca2c_row2_col12, #T_1ca2c_row4_col13 {\n",
       "  background-color: #32648e;\n",
       "  color: #f1f1f1;\n",
       "}\n",
       "#T_1ca2c_row2_col13 {\n",
       "  background-color: #23888e;\n",
       "  color: #f1f1f1;\n",
       "}\n",
       "#T_1ca2c_row2_col14 {\n",
       "  background-color: #3aba76;\n",
       "  color: #f1f1f1;\n",
       "}\n",
       "#T_1ca2c_row2_col15 {\n",
       "  background-color: #8ed645;\n",
       "  color: #000000;\n",
       "}\n",
       "#T_1ca2c_row2_col16, #T_1ca2c_row3_col16 {\n",
       "  background-color: #dfe318;\n",
       "  color: #000000;\n",
       "}\n",
       "#T_1ca2c_row3_col7 {\n",
       "  background-color: #34608d;\n",
       "  color: #f1f1f1;\n",
       "}\n",
       "#T_1ca2c_row3_col9 {\n",
       "  background-color: #443983;\n",
       "  color: #f1f1f1;\n",
       "}\n",
       "#T_1ca2c_row3_col10 {\n",
       "  background-color: #482071;\n",
       "  color: #f1f1f1;\n",
       "}\n",
       "#T_1ca2c_row3_col11 {\n",
       "  background-color: #463480;\n",
       "  color: #f1f1f1;\n",
       "}\n",
       "#T_1ca2c_row3_col13 {\n",
       "  background-color: #297b8e;\n",
       "  color: #f1f1f1;\n",
       "}\n",
       "#T_1ca2c_row3_col14 {\n",
       "  background-color: #25ac82;\n",
       "  color: #f1f1f1;\n",
       "}\n",
       "#T_1ca2c_row3_col15 {\n",
       "  background-color: #81d34d;\n",
       "  color: #000000;\n",
       "}\n",
       "#T_1ca2c_row4_col7 {\n",
       "  background-color: #2b758e;\n",
       "  color: #f1f1f1;\n",
       "}\n",
       "#T_1ca2c_row4_col8 {\n",
       "  background-color: #450559;\n",
       "  color: #f1f1f1;\n",
       "}\n",
       "#T_1ca2c_row4_col9 {\n",
       "  background-color: #460a5d;\n",
       "  color: #f1f1f1;\n",
       "}\n",
       "#T_1ca2c_row4_col11 {\n",
       "  background-color: #482475;\n",
       "  color: #f1f1f1;\n",
       "}\n",
       "#T_1ca2c_row4_col12 {\n",
       "  background-color: #453781;\n",
       "  color: #f1f1f1;\n",
       "}\n",
       "#T_1ca2c_row4_col15 {\n",
       "  background-color: #70cf57;\n",
       "  color: #000000;\n",
       "}\n",
       "#T_1ca2c_row4_col16 {\n",
       "  background-color: #dae319;\n",
       "  color: #000000;\n",
       "}\n",
       "</style>\n",
       "<table id=\"T_1ca2c_\">\n",
       "  <thead>\n",
       "    <tr>\n",
       "      <th class=\"blank level0\" >&nbsp;</th>\n",
       "      <th class=\"col_heading level0 col0\" >Key</th>\n",
       "      <th class=\"col_heading level0 col1\" >Weken terug</th>\n",
       "      <th class=\"col_heading level0 col2\" >Datum</th>\n",
       "      <th class=\"col_heading level0 col3\" >Periode</th>\n",
       "      <th class=\"col_heading level0 col4\" >Gemiddelde leeftijd</th>\n",
       "      <th class=\"col_heading level0 col5\" >Totaal</th>\n",
       "      <th class=\"col_heading level0 col6\" >Type</th>\n",
       "      <th class=\"col_heading level0 col7\" >0-9</th>\n",
       "      <th class=\"col_heading level0 col8\" >10-19</th>\n",
       "      <th class=\"col_heading level0 col9\" >20-29</th>\n",
       "      <th class=\"col_heading level0 col10\" >30-39</th>\n",
       "      <th class=\"col_heading level0 col11\" >40-49</th>\n",
       "      <th class=\"col_heading level0 col12\" >50-59</th>\n",
       "      <th class=\"col_heading level0 col13\" >60-69</th>\n",
       "      <th class=\"col_heading level0 col14\" >70-79</th>\n",
       "      <th class=\"col_heading level0 col15\" >80-89</th>\n",
       "      <th class=\"col_heading level0 col16\" >90+</th>\n",
       "      <th class=\"col_heading level0 col17\" >Onbekend</th>\n",
       "      <th class=\"col_heading level0 col18\" >c0-9</th>\n",
       "      <th class=\"col_heading level0 col19\" >c10-19</th>\n",
       "      <th class=\"col_heading level0 col20\" >c20-29</th>\n",
       "      <th class=\"col_heading level0 col21\" >c30-39</th>\n",
       "      <th class=\"col_heading level0 col22\" >c40-49</th>\n",
       "      <th class=\"col_heading level0 col23\" >c50-59</th>\n",
       "      <th class=\"col_heading level0 col24\" >c60-69</th>\n",
       "      <th class=\"col_heading level0 col25\" >c70-79</th>\n",
       "      <th class=\"col_heading level0 col26\" >c80-89</th>\n",
       "      <th class=\"col_heading level0 col27\" >c90+</th>\n",
       "      <th class=\"col_heading level0 col28\" >cOnbekend</th>\n",
       "    </tr>\n",
       "  </thead>\n",
       "  <tbody>\n",
       "    <tr>\n",
       "      <th id=\"T_1ca2c_level0_row0\" class=\"row_heading level0 row0\" >0</th>\n",
       "      <td id=\"T_1ca2c_row0_col0\" class=\"data row0 col0\" >p000</td>\n",
       "      <td id=\"T_1ca2c_row0_col1\" class=\"data row0 col1\" >0</td>\n",
       "      <td id=\"T_1ca2c_row0_col2\" class=\"data row0 col2\" >2021-12-07 00:00:00</td>\n",
       "      <td id=\"T_1ca2c_row0_col3\" class=\"data row0 col3\" >01/12-07/12</td>\n",
       "      <td id=\"T_1ca2c_row0_col4\" class=\"data row0 col4\" >35.700000</td>\n",
       "      <td id=\"T_1ca2c_row0_col5\" class=\"data row0 col5\" >79467.000000</td>\n",
       "      <td id=\"T_1ca2c_row0_col6\" class=\"data row0 col6\" >Positief getest</td>\n",
       "      <td id=\"T_1ca2c_row0_col7\" class=\"data row0 col7\" >11635.000000</td>\n",
       "      <td id=\"T_1ca2c_row0_col8\" class=\"data row0 col8\" >12161.000000</td>\n",
       "      <td id=\"T_1ca2c_row0_col9\" class=\"data row0 col9\" >9641.000000</td>\n",
       "      <td id=\"T_1ca2c_row0_col10\" class=\"data row0 col10\" >13167.000000</td>\n",
       "      <td id=\"T_1ca2c_row0_col11\" class=\"data row0 col11\" >12298.000000</td>\n",
       "      <td id=\"T_1ca2c_row0_col12\" class=\"data row0 col12\" >8578.000000</td>\n",
       "      <td id=\"T_1ca2c_row0_col13\" class=\"data row0 col13\" >5961.000000</td>\n",
       "      <td id=\"T_1ca2c_row0_col14\" class=\"data row0 col14\" >3523.000000</td>\n",
       "      <td id=\"T_1ca2c_row0_col15\" class=\"data row0 col15\" >1898.000000</td>\n",
       "      <td id=\"T_1ca2c_row0_col16\" class=\"data row0 col16\" >605.000000</td>\n",
       "      <td id=\"T_1ca2c_row0_col17\" class=\"data row0 col17\" >0.000000</td>\n",
       "      <td id=\"T_1ca2c_row0_col18\" class=\"data row0 col18\" >883</td>\n",
       "      <td id=\"T_1ca2c_row0_col19\" class=\"data row0 col19\" >923</td>\n",
       "      <td id=\"T_1ca2c_row0_col20\" class=\"data row0 col20\" >732</td>\n",
       "      <td id=\"T_1ca2c_row0_col21\" class=\"data row0 col21\" >1000</td>\n",
       "      <td id=\"T_1ca2c_row0_col22\" class=\"data row0 col22\" >934</td>\n",
       "      <td id=\"T_1ca2c_row0_col23\" class=\"data row0 col23\" >651</td>\n",
       "      <td id=\"T_1ca2c_row0_col24\" class=\"data row0 col24\" >452</td>\n",
       "      <td id=\"T_1ca2c_row0_col25\" class=\"data row0 col25\" >267</td>\n",
       "      <td id=\"T_1ca2c_row0_col26\" class=\"data row0 col26\" >144</td>\n",
       "      <td id=\"T_1ca2c_row0_col27\" class=\"data row0 col27\" >45</td>\n",
       "      <td id=\"T_1ca2c_row0_col28\" class=\"data row0 col28\" >0</td>\n",
       "    </tr>\n",
       "    <tr>\n",
       "      <th id=\"T_1ca2c_level0_row1\" class=\"row_heading level0 row1\" >1</th>\n",
       "      <td id=\"T_1ca2c_row1_col0\" class=\"data row1 col0\" >p001</td>\n",
       "      <td id=\"T_1ca2c_row1_col1\" class=\"data row1 col1\" >1</td>\n",
       "      <td id=\"T_1ca2c_row1_col2\" class=\"data row1 col2\" >2021-12-07 00:00:00</td>\n",
       "      <td id=\"T_1ca2c_row1_col3\" class=\"data row1 col3\" >24/11-30/11</td>\n",
       "      <td id=\"T_1ca2c_row1_col4\" class=\"data row1 col4\" >36.800000</td>\n",
       "      <td id=\"T_1ca2c_row1_col5\" class=\"data row1 col5\" >143221.000000</td>\n",
       "      <td id=\"T_1ca2c_row1_col6\" class=\"data row1 col6\" >Positief getest</td>\n",
       "      <td id=\"T_1ca2c_row1_col7\" class=\"data row1 col7\" >19387.000000</td>\n",
       "      <td id=\"T_1ca2c_row1_col8\" class=\"data row1 col8\" >22948.000000</td>\n",
       "      <td id=\"T_1ca2c_row1_col9\" class=\"data row1 col9\" >16515.000000</td>\n",
       "      <td id=\"T_1ca2c_row1_col10\" class=\"data row1 col10\" >22281.000000</td>\n",
       "      <td id=\"T_1ca2c_row1_col11\" class=\"data row1 col11\" >21572.000000</td>\n",
       "      <td id=\"T_1ca2c_row1_col12\" class=\"data row1 col12\" >16143.000000</td>\n",
       "      <td id=\"T_1ca2c_row1_col13\" class=\"data row1 col13\" >11981.000000</td>\n",
       "      <td id=\"T_1ca2c_row1_col14\" class=\"data row1 col14\" >7209.000000</td>\n",
       "      <td id=\"T_1ca2c_row1_col15\" class=\"data row1 col15\" >3957.000000</td>\n",
       "      <td id=\"T_1ca2c_row1_col16\" class=\"data row1 col16\" >1226.000000</td>\n",
       "      <td id=\"T_1ca2c_row1_col17\" class=\"data row1 col17\" >2.000000</td>\n",
       "      <td id=\"T_1ca2c_row1_col18\" class=\"data row1 col18\" >844</td>\n",
       "      <td id=\"T_1ca2c_row1_col19\" class=\"data row1 col19\" >1000</td>\n",
       "      <td id=\"T_1ca2c_row1_col20\" class=\"data row1 col20\" >719</td>\n",
       "      <td id=\"T_1ca2c_row1_col21\" class=\"data row1 col21\" >970</td>\n",
       "      <td id=\"T_1ca2c_row1_col22\" class=\"data row1 col22\" >940</td>\n",
       "      <td id=\"T_1ca2c_row1_col23\" class=\"data row1 col23\" >703</td>\n",
       "      <td id=\"T_1ca2c_row1_col24\" class=\"data row1 col24\" >522</td>\n",
       "      <td id=\"T_1ca2c_row1_col25\" class=\"data row1 col25\" >314</td>\n",
       "      <td id=\"T_1ca2c_row1_col26\" class=\"data row1 col26\" >172</td>\n",
       "      <td id=\"T_1ca2c_row1_col27\" class=\"data row1 col27\" >53</td>\n",
       "      <td id=\"T_1ca2c_row1_col28\" class=\"data row1 col28\" >0</td>\n",
       "    </tr>\n",
       "    <tr>\n",
       "      <th id=\"T_1ca2c_level0_row2\" class=\"row_heading level0 row2\" >2</th>\n",
       "      <td id=\"T_1ca2c_row2_col0\" class=\"data row2 col0\" >p002</td>\n",
       "      <td id=\"T_1ca2c_row2_col1\" class=\"data row2 col1\" >2</td>\n",
       "      <td id=\"T_1ca2c_row2_col2\" class=\"data row2 col2\" >2021-12-07 00:00:00</td>\n",
       "      <td id=\"T_1ca2c_row2_col3\" class=\"data row2 col3\" >17/11-23/11</td>\n",
       "      <td id=\"T_1ca2c_row2_col4\" class=\"data row2 col4\" >37.000000</td>\n",
       "      <td id=\"T_1ca2c_row2_col5\" class=\"data row2 col5\" >156695.000000</td>\n",
       "      <td id=\"T_1ca2c_row2_col6\" class=\"data row2 col6\" >Positief getest</td>\n",
       "      <td id=\"T_1ca2c_row2_col7\" class=\"data row2 col7\" >19928.000000</td>\n",
       "      <td id=\"T_1ca2c_row2_col8\" class=\"data row2 col8\" >25910.000000</td>\n",
       "      <td id=\"T_1ca2c_row2_col9\" class=\"data row2 col9\" >19615.000000</td>\n",
       "      <td id=\"T_1ca2c_row2_col10\" class=\"data row2 col10\" >23243.000000</td>\n",
       "      <td id=\"T_1ca2c_row2_col11\" class=\"data row2 col11\" >22539.000000</td>\n",
       "      <td id=\"T_1ca2c_row2_col12\" class=\"data row2 col12\" >17634.000000</td>\n",
       "      <td id=\"T_1ca2c_row2_col13\" class=\"data row2 col13\" >13817.000000</td>\n",
       "      <td id=\"T_1ca2c_row2_col14\" class=\"data row2 col14\" >8308.000000</td>\n",
       "      <td id=\"T_1ca2c_row2_col15\" class=\"data row2 col15\" >4412.000000</td>\n",
       "      <td id=\"T_1ca2c_row2_col16\" class=\"data row2 col16\" >1288.000000</td>\n",
       "      <td id=\"T_1ca2c_row2_col17\" class=\"data row2 col17\" >1.000000</td>\n",
       "      <td id=\"T_1ca2c_row2_col18\" class=\"data row2 col18\" >769</td>\n",
       "      <td id=\"T_1ca2c_row2_col19\" class=\"data row2 col19\" >1000</td>\n",
       "      <td id=\"T_1ca2c_row2_col20\" class=\"data row2 col20\" >757</td>\n",
       "      <td id=\"T_1ca2c_row2_col21\" class=\"data row2 col21\" >897</td>\n",
       "      <td id=\"T_1ca2c_row2_col22\" class=\"data row2 col22\" >869</td>\n",
       "      <td id=\"T_1ca2c_row2_col23\" class=\"data row2 col23\" >680</td>\n",
       "      <td id=\"T_1ca2c_row2_col24\" class=\"data row2 col24\" >533</td>\n",
       "      <td id=\"T_1ca2c_row2_col25\" class=\"data row2 col25\" >320</td>\n",
       "      <td id=\"T_1ca2c_row2_col26\" class=\"data row2 col26\" >170</td>\n",
       "      <td id=\"T_1ca2c_row2_col27\" class=\"data row2 col27\" >49</td>\n",
       "      <td id=\"T_1ca2c_row2_col28\" class=\"data row2 col28\" >0</td>\n",
       "    </tr>\n",
       "    <tr>\n",
       "      <th id=\"T_1ca2c_level0_row3\" class=\"row_heading level0 row3\" >3</th>\n",
       "      <td id=\"T_1ca2c_row3_col0\" class=\"data row3 col0\" >p003</td>\n",
       "      <td id=\"T_1ca2c_row3_col1\" class=\"data row3 col1\" >3</td>\n",
       "      <td id=\"T_1ca2c_row3_col2\" class=\"data row3 col2\" >2021-12-07 00:00:00</td>\n",
       "      <td id=\"T_1ca2c_row3_col3\" class=\"data row3 col3\" >10/11-16/11</td>\n",
       "      <td id=\"T_1ca2c_row3_col4\" class=\"data row3 col4\" >38.100000</td>\n",
       "      <td id=\"T_1ca2c_row3_col5\" class=\"data row3 col5\" >134256.000000</td>\n",
       "      <td id=\"T_1ca2c_row3_col6\" class=\"data row3 col6\" >Positief getest</td>\n",
       "      <td id=\"T_1ca2c_row3_col7\" class=\"data row3 col7\" >15026.000000</td>\n",
       "      <td id=\"T_1ca2c_row3_col8\" class=\"data row3 col8\" >21569.000000</td>\n",
       "      <td id=\"T_1ca2c_row3_col9\" class=\"data row3 col9\" >17961.000000</td>\n",
       "      <td id=\"T_1ca2c_row3_col10\" class=\"data row3 col10\" >19632.000000</td>\n",
       "      <td id=\"T_1ca2c_row3_col11\" class=\"data row3 col11\" >18360.000000</td>\n",
       "      <td id=\"T_1ca2c_row3_col12\" class=\"data row3 col12\" >15522.000000</td>\n",
       "      <td id=\"T_1ca2c_row3_col13\" class=\"data row3 col13\" >12685.000000</td>\n",
       "      <td id=\"T_1ca2c_row3_col14\" class=\"data row3 col14\" >8335.000000</td>\n",
       "      <td id=\"T_1ca2c_row3_col15\" class=\"data row3 col15\" >4098.000000</td>\n",
       "      <td id=\"T_1ca2c_row3_col16\" class=\"data row3 col16\" >1067.000000</td>\n",
       "      <td id=\"T_1ca2c_row3_col17\" class=\"data row3 col17\" >1.000000</td>\n",
       "      <td id=\"T_1ca2c_row3_col18\" class=\"data row3 col18\" >696</td>\n",
       "      <td id=\"T_1ca2c_row3_col19\" class=\"data row3 col19\" >1000</td>\n",
       "      <td id=\"T_1ca2c_row3_col20\" class=\"data row3 col20\" >832</td>\n",
       "      <td id=\"T_1ca2c_row3_col21\" class=\"data row3 col21\" >910</td>\n",
       "      <td id=\"T_1ca2c_row3_col22\" class=\"data row3 col22\" >851</td>\n",
       "      <td id=\"T_1ca2c_row3_col23\" class=\"data row3 col23\" >719</td>\n",
       "      <td id=\"T_1ca2c_row3_col24\" class=\"data row3 col24\" >588</td>\n",
       "      <td id=\"T_1ca2c_row3_col25\" class=\"data row3 col25\" >386</td>\n",
       "      <td id=\"T_1ca2c_row3_col26\" class=\"data row3 col26\" >189</td>\n",
       "      <td id=\"T_1ca2c_row3_col27\" class=\"data row3 col27\" >49</td>\n",
       "      <td id=\"T_1ca2c_row3_col28\" class=\"data row3 col28\" >0</td>\n",
       "    </tr>\n",
       "    <tr>\n",
       "      <th id=\"T_1ca2c_level0_row4\" class=\"row_heading level0 row4\" >4</th>\n",
       "      <td id=\"T_1ca2c_row4_col0\" class=\"data row4 col0\" >p004</td>\n",
       "      <td id=\"T_1ca2c_row4_col1\" class=\"data row4 col1\" >4</td>\n",
       "      <td id=\"T_1ca2c_row4_col2\" class=\"data row4 col2\" >2021-12-07 00:00:00</td>\n",
       "      <td id=\"T_1ca2c_row4_col3\" class=\"data row4 col3\" >03/11-09/11</td>\n",
       "      <td id=\"T_1ca2c_row4_col4\" class=\"data row4 col4\" >39.600000</td>\n",
       "      <td id=\"T_1ca2c_row4_col5\" class=\"data row4 col5\" >92380.000000</td>\n",
       "      <td id=\"T_1ca2c_row4_col6\" class=\"data row4 col6\" >Positief getest</td>\n",
       "      <td id=\"T_1ca2c_row4_col7\" class=\"data row4 col7\" >8423.000000</td>\n",
       "      <td id=\"T_1ca2c_row4_col8\" class=\"data row4 col8\" >13567.000000</td>\n",
       "      <td id=\"T_1ca2c_row4_col9\" class=\"data row4 col9\" >13375.000000</td>\n",
       "      <td id=\"T_1ca2c_row4_col10\" class=\"data row4 col10\" >13745.000000</td>\n",
       "      <td id=\"T_1ca2c_row4_col11\" class=\"data row4 col11\" >12363.000000</td>\n",
       "      <td id=\"T_1ca2c_row4_col12\" class=\"data row4 col12\" >11549.000000</td>\n",
       "      <td id=\"T_1ca2c_row4_col13\" class=\"data row4 col13\" >9359.000000</td>\n",
       "      <td id=\"T_1ca2c_row4_col14\" class=\"data row4 col14\" >6208.000000</td>\n",
       "      <td id=\"T_1ca2c_row4_col15\" class=\"data row4 col15\" >3002.000000</td>\n",
       "      <td id=\"T_1ca2c_row4_col16\" class=\"data row4 col16\" >788.000000</td>\n",
       "      <td id=\"T_1ca2c_row4_col17\" class=\"data row4 col17\" >1.000000</td>\n",
       "      <td id=\"T_1ca2c_row4_col18\" class=\"data row4 col18\" >612</td>\n",
       "      <td id=\"T_1ca2c_row4_col19\" class=\"data row4 col19\" >987</td>\n",
       "      <td id=\"T_1ca2c_row4_col20\" class=\"data row4 col20\" >973</td>\n",
       "      <td id=\"T_1ca2c_row4_col21\" class=\"data row4 col21\" >1000</td>\n",
       "      <td id=\"T_1ca2c_row4_col22\" class=\"data row4 col22\" >899</td>\n",
       "      <td id=\"T_1ca2c_row4_col23\" class=\"data row4 col23\" >840</td>\n",
       "      <td id=\"T_1ca2c_row4_col24\" class=\"data row4 col24\" >680</td>\n",
       "      <td id=\"T_1ca2c_row4_col25\" class=\"data row4 col25\" >451</td>\n",
       "      <td id=\"T_1ca2c_row4_col26\" class=\"data row4 col26\" >218</td>\n",
       "      <td id=\"T_1ca2c_row4_col27\" class=\"data row4 col27\" >57</td>\n",
       "      <td id=\"T_1ca2c_row4_col28\" class=\"data row4 col28\" >0</td>\n",
       "    </tr>\n",
       "  </tbody>\n",
       "</table>\n"
      ],
      "text/plain": [
       "<pandas.io.formats.style.Styler at 0x7f36a8d323d0>"
      ]
     },
     "metadata": {},
     "output_type": "display_data"
    }
   ],
   "source": [
    "# Bereken de stand van zaken van besmettingen / hospitalisaties / overlijden, per cohort in absolute aantallen en aantallen per 100k, met een kleur indicator voor de aantallen.\n",
    "# vervang <50 en Unknown door Onbekend\n",
    "@run\n",
    "def cell():\n",
    "  rivm['Cohort'] = rivm['Agegroup'].replace({'<50': 'Onbekend', 'Unknown': 'Onbekend'})\n",
    "  # aangenomen 'gemiddelde' leeftijd van een cohort: minimum waarde + 5\n",
    "  assumed_cohort_age = [(cohort, [int(n) for n in cohort.replace('+', '').split('-')]) for cohort in rivm['Cohort'].unique() if cohort[0].isdigit()]\n",
    "  assumed_cohort_age = { cohort: min(rng) + 5 for cohort, rng in assumed_cohort_age }\n",
    "  rivm['Gemiddelde leeftijd'] = rivm['Cohort'].apply(lambda x: assumed_cohort_age.get(x, np.nan))\n",
    "\n",
    "  # verwijder tijd\n",
    "  rivm['Date_file_date'] = pd.to_datetime(rivm['Date_file'].replace(r' .*', '', regex=True))\n",
    "\n",
    "  rivm['Date_statistics_date'] = pd.to_datetime(rivm['Date_statistics'])\n",
    "\n",
    "  # weken terug = verschil tussen Date_file en Date_statistcs, gedeeld door 7 dagen\n",
    "  rivm['Weken terug'] = np.floor((rivm['Date_file_date'] - rivm['Date_statistics_date'])/np.timedelta64(7, 'D')).astype(int)\n",
    "\n",
    "  # voeg key, gem leeftijd, kleurnummer en totaal toe\n",
    "  Date_file = rivm['Date_file_date'].unique()[0].astype('M8[D]').astype('O')\n",
    "  cohorten = list(bevolking.index) + ['Onbekend']\n",
    "  def summarize(df, category, prefix):\n",
    "    # aangezien we hier de dataframe in-place wijzigen (bijv door toevoegen kolommen)\n",
    "    # en we het 'rivm' frame later nog clean nodig hebben\n",
    "    df = df.copy(deep=True)\n",
    "\n",
    "    df = (df\n",
    "          .groupby(['Weken terug', 'Cohort'])['count']\n",
    "          .sum()\n",
    "          .unstack(fill_value=np.nan)\n",
    "          .reset_index()\n",
    "          .rename_axis(None, axis=1)\n",
    "        ).merge(df\n",
    "          # we voegen hier gemiddelde leeftijd toe, want die willen we op een ander\n",
    "          # niveau aggregeren voor 'df' overschreven word\n",
    "          .groupby(['Weken terug'])['Gemiddelde leeftijd']\n",
    "          .mean()\n",
    "          .to_frame(), on='Weken terug'\n",
    "        )\n",
    "\n",
    "    # altijd 52 rijen\n",
    "    df = pd.Series(np.arange(52), name='Weken terug').to_frame().merge(df, how='left', on='Weken terug')\n",
    "\n",
    "    # toevoegen missende cohorten\n",
    "    for col in cohorten:\n",
    "      if not col in df:\n",
    "        df[col] = np.nan\n",
    "\n",
    "    # sommeer per rij (axis=1) over de cohorten om een totaal te krijgen\n",
    "    df['Totaal'] = df[cohorten].sum(axis=1)\n",
    "\n",
    "    # voeg periode en datum toe\n",
    "    # periode afgeleid van weken-terug (= de index voor deze dataframe)\n",
    "    df['Datum'] = pd.to_datetime(Date_file)\n",
    "    df['Periode'] = (df\n",
    "      .index.to_series()\n",
    "      .apply(\n",
    "        lambda x: (\n",
    "          (Date_file + datetime.timedelta(weeks=-(x+1), days=1)).strftime('%d/%m')\n",
    "          + '-'\n",
    "          + (Date_file + datetime.timedelta(weeks=-x)).strftime('%d/%m')\n",
    "        )\n",
    "      )\n",
    "    )\n",
    "\n",
    "    # voeg 'Key' en 'Type' kolom toe. Variabele 'type' kan niet, is een language primitive.\n",
    "    df['Key'] = prefix + df.index.astype(str).str.rjust(3, fillchar='0')\n",
    "    df['Type'] = category\n",
    "\n",
    "    # voeg de kleur kolommen toe\n",
    "    for col in cohorten:\n",
    "      df['c' + col] = ((df[col] / df[[col for col in cohorten]].max(axis=1)) * 1000).fillna(0).astype(int)\n",
    "\n",
    "    # herschikken van de kolommen\n",
    "    colorder = ['Key', 'Weken terug', 'Datum', 'Periode', 'Gemiddelde leeftijd', 'Totaal', 'Type']\n",
    "    return df[colorder + [col for col in df if col not in colorder]]\n",
    "\n",
    "  factor = bevolking.to_dict()['per 100k']\n",
    "  global tabel\n",
    "  tabel = pd.concat(\n",
    "    # flatten the result list zodat pd.concat ze onder elkaar kan plakken\n",
    "    functools.reduce(lambda a, b: a + b, [\n",
    "      [summarize(df.assign(count=1), label, prefix), summarize(df.assign(count=df['Cohort'].apply(lambda x: factor.get(x, np.nan))), label + ' per 100.000', prefix + '100k')]\n",
    "      for df, label, prefix in [\n",
    "        (rivm, 'Positief getest', 'p'), # volledige count per cohort\n",
    "        (rivm[rivm.Hospital_admission == 'Yes'], 'Ziekenhuisopname', 'h'), # count van cohort voor Hospital_admission == 'Yes'\n",
    "        (rivm[rivm.Deceased == 'Yes'], 'Overleden', 'd'), # count van cohort voor Deceased == 'Yes'\n",
    "      ]\n",
    "    ])\n",
    "  )\n",
    "\n",
    "  # rood -> groen\n",
    "  cdict = {\n",
    "    'red':   ((0.0, 0.0, 0.0),   # no red at 0\n",
    "              (0.5, 1.0, 1.0),   # all channels set to 1.0 at 0.5 to create white\n",
    "              (1.0, 0.8, 0.8)),  # set to 0.8 so its not too bright at 1\n",
    "    'green': ((0.0, 0.8, 0.8),   # set to 0.8 so its not too bright at 0\n",
    "              (0.5, 1.0, 1.0),   # all channels set to 1.0 at 0.5 to create white\n",
    "              (1.0, 0.0, 0.0)),  # no green at 1\n",
    "    'blue':  ((0.0, 0.0, 0.0),   # no blue at 0\n",
    "              (0.5, 1.0, 1.0),   # all channels set to 1.0 at 0.5 to create white\n",
    "              (1.0, 0.0, 0.0))   # no blue at 1\n",
    "  }\n",
    "  cm = colors.LinearSegmentedColormap('GnRd', cdict)\n",
    "  # geel -> paars\n",
    "  cm = sns.color_palette('viridis_r', as_cmap=True)\n",
    "  display(tabel\n",
    "    .fillna(0)\n",
    "    .head()\n",
    "    .round(1)\n",
    "    .reset_index(drop=True)\n",
    "    .style.background_gradient(cmap=cm, axis=1, subset=cohorten)\n",
    "  )"
   ]
  },
  {
   "cell_type": "code",
   "execution_count": 5,
   "id": "e6ab3379",
   "metadata": {
    "execution": {
     "iopub.execute_input": "2021-12-08T09:18:09.443001Z",
     "iopub.status.busy": "2021-12-08T09:18:09.442305Z",
     "iopub.status.idle": "2021-12-08T09:19:06.704082Z",
     "shell.execute_reply": "2021-12-08T09:19:06.704571Z"
    },
    "papermill": {
     "duration": 57.290077,
     "end_time": "2021-12-08T09:19:06.704751",
     "exception": false,
     "start_time": "2021-12-08T09:18:09.414674",
     "status": "completed"
    },
    "tags": [],
    "title": "publish"
   },
   "outputs": [
    {
     "name": "stdout",
     "output_type": "stream",
     "text": [
      "infinities:\n"
     ]
    },
    {
     "name": "stdout",
     "output_type": "stream",
     "text": [
      "Empty DataFrame\n",
      "Columns: []\n",
      "Index: []\n"
     ]
    },
    {
     "name": "stdout",
     "output_type": "stream",
     "text": [
      "nan:\n"
     ]
    },
    {
     "name": "stdout",
     "output_type": "stream",
     "text": [
      "Empty DataFrame\n",
      "Columns: []\n",
      "Index: []\n"
     ]
    },
    {
     "name": "stdout",
     "output_type": "stream",
     "text": [
      "Key                     object\n",
      "Weken terug              int64\n",
      "Datum                   object\n",
      "Periode                 object\n",
      "Gemiddelde leeftijd    float64\n",
      "Totaal                 float64\n",
      "Type                    object\n",
      "0-9                    float64\n",
      "10-19                  float64\n",
      "20-29                  float64\n",
      "30-39                  float64\n",
      "40-49                  float64\n",
      "50-59                  float64\n",
      "60-69                  float64\n",
      "70-79                  float64\n",
      "80-89                  float64\n",
      "90+                    float64\n",
      "Onbekend               float64\n",
      "c0-9                     int64\n",
      "c10-19                   int64\n",
      "c20-29                   int64\n",
      "c30-39                   int64\n",
      "c40-49                   int64\n",
      "c50-59                   int64\n",
      "c60-69                   int64\n",
      "c70-79                   int64\n",
      "c80-89                   int64\n",
      "c90+                     int64\n",
      "cOnbekend                int64\n",
      "dtype: object\n",
      "updating knack\n"
     ]
    },
    {
     "name": "stdout",
     "output_type": "stream",
     "text": [
      "updating: [{'Key': 1, 'Updating Leeftijdsgroep': 'true'}]\n"
     ]
    },
    {
     "name": "stdout",
     "output_type": "stream",
     "text": [
      "restored LaatsteUpdate from hash\n"
     ]
    },
    {
     "name": "stdout",
     "output_type": "stream",
     "text": [
      "Key                         int64\n",
      "Updating Leeftijdsgroep    object\n",
      "dtype: object\n"
     ]
    },
    {
     "name": "stderr",
     "output_type": "stream",
     "text": [
      "\r",
      "  0%|          | 0/1 [00:00<?, ?it/s]"
     ]
    },
    {
     "name": "stderr",
     "output_type": "stream",
     "text": [
      "\r",
      "100%|██████████| 1/1 [00:02<00:00,  2.03s/it]"
     ]
    },
    {
     "name": "stderr",
     "output_type": "stream",
     "text": [
      "\r",
      "100%|██████████| 1/1 [00:02<00:00,  2.03s/it]"
     ]
    },
    {
     "name": "stdout",
     "output_type": "stream",
     "text": [
      "\n",
      "rate limit: 7 \n",
      "LaatsteUpdate API calls: create: 0, read: 1, update: 1, delete: 0, backoff: 0\n"
     ]
    },
    {
     "name": "stderr",
     "output_type": "stream",
     "text": [
      "\n"
     ]
    },
    {
     "name": "stdout",
     "output_type": "stream",
     "text": [
      "restored Leeftijdsgroep from hash\n"
     ]
    },
    {
     "name": "stdout",
     "output_type": "stream",
     "text": [
      "0-9                    float64\n",
      "10-19                  float64\n",
      "20-29                  float64\n",
      "30-39                  float64\n",
      "40-49                  float64\n",
      "50-59                  float64\n",
      "60-69                  float64\n",
      "70-79                  float64\n",
      "80-89                  float64\n",
      "90+                    float64\n",
      "Datum                   object\n",
      "Gemiddelde leeftijd    float64\n",
      "Key                     object\n",
      "Onbekend               float64\n",
      "Periode                 object\n",
      "Totaal                 float64\n",
      "Type                    object\n",
      "Weken terug              int64\n",
      "c0-9                     int64\n",
      "c10-19                   int64\n",
      "c20-29                   int64\n",
      "c30-39                   int64\n",
      "c40-49                   int64\n",
      "c50-59                   int64\n",
      "c60-69                   int64\n",
      "c70-79                   int64\n",
      "c80-89                   int64\n",
      "c90+                     int64\n",
      "cOnbekend                int64\n",
      "dtype: object\n"
     ]
    },
    {
     "name": "stderr",
     "output_type": "stream",
     "text": [
      "\r",
      "  0%|          | 0/312 [00:00<?, ?it/s]"
     ]
    },
    {
     "name": "stderr",
     "output_type": "stream",
     "text": [
      "\r",
      "  0%|          | 1/312 [00:01<06:52,  1.33s/it]"
     ]
    },
    {
     "name": "stderr",
     "output_type": "stream",
     "text": [
      "\r",
      "  1%|          | 3/312 [00:01<02:01,  2.54it/s]"
     ]
    },
    {
     "name": "stderr",
     "output_type": "stream",
     "text": [
      "\r",
      "  2%|▏         | 7/312 [00:01<00:45,  6.64it/s]"
     ]
    },
    {
     "name": "stderr",
     "output_type": "stream",
     "text": [
      "\r",
      "  3%|▎         | 9/312 [00:01<00:50,  6.05it/s]"
     ]
    },
    {
     "name": "stderr",
     "output_type": "stream",
     "text": [
      "\r",
      "  4%|▎         | 11/312 [00:02<00:53,  5.63it/s]"
     ]
    },
    {
     "name": "stderr",
     "output_type": "stream",
     "text": [
      "\r",
      "  4%|▍         | 14/312 [00:02<00:36,  8.25it/s]"
     ]
    },
    {
     "name": "stderr",
     "output_type": "stream",
     "text": [
      "\r",
      "  5%|▌         | 16/312 [00:02<00:30,  9.61it/s]"
     ]
    },
    {
     "name": "stderr",
     "output_type": "stream",
     "text": [
      "\r",
      "  6%|▌         | 18/312 [00:02<00:33,  8.83it/s]"
     ]
    },
    {
     "name": "stderr",
     "output_type": "stream",
     "text": [
      "\r",
      "  6%|▋         | 20/312 [00:03<00:52,  5.56it/s]"
     ]
    },
    {
     "name": "stderr",
     "output_type": "stream",
     "text": [
      "\r",
      "  7%|▋         | 22/312 [00:03<00:50,  5.77it/s]"
     ]
    },
    {
     "name": "stderr",
     "output_type": "stream",
     "text": [
      "\r",
      "  7%|▋         | 23/312 [00:04<01:09,  4.17it/s]"
     ]
    },
    {
     "name": "stderr",
     "output_type": "stream",
     "text": [
      "\r",
      "  8%|▊         | 25/312 [00:04<00:52,  5.48it/s]"
     ]
    },
    {
     "name": "stderr",
     "output_type": "stream",
     "text": [
      "\r",
      "  8%|▊         | 26/312 [00:04<00:52,  5.50it/s]"
     ]
    },
    {
     "name": "stderr",
     "output_type": "stream",
     "text": [
      "\r",
      "  9%|▉         | 28/312 [00:05<00:56,  5.07it/s]"
     ]
    },
    {
     "name": "stderr",
     "output_type": "stream",
     "text": [
      "\r",
      " 10%|▉         | 30/312 [00:05<00:50,  5.59it/s]"
     ]
    },
    {
     "name": "stderr",
     "output_type": "stream",
     "text": [
      "\r",
      " 10%|▉         | 31/312 [00:05<00:48,  5.84it/s]"
     ]
    },
    {
     "name": "stderr",
     "output_type": "stream",
     "text": [
      "\r",
      " 10%|█         | 32/312 [00:05<00:54,  5.13it/s]"
     ]
    },
    {
     "name": "stderr",
     "output_type": "stream",
     "text": [
      "\r",
      " 11%|█         | 34/312 [00:06<00:49,  5.66it/s]"
     ]
    },
    {
     "name": "stderr",
     "output_type": "stream",
     "text": [
      "\r",
      " 11%|█         | 35/312 [00:06<00:46,  5.91it/s]"
     ]
    },
    {
     "name": "stderr",
     "output_type": "stream",
     "text": [
      "\r",
      " 12%|█▏        | 37/312 [00:06<00:41,  6.55it/s]"
     ]
    },
    {
     "name": "stderr",
     "output_type": "stream",
     "text": [
      "\r",
      " 13%|█▎        | 40/312 [00:06<00:27,  9.81it/s]"
     ]
    },
    {
     "name": "stderr",
     "output_type": "stream",
     "text": [
      "\r",
      " 13%|█▎        | 42/312 [00:07<00:38,  7.03it/s]"
     ]
    },
    {
     "name": "stderr",
     "output_type": "stream",
     "text": [
      "\r",
      " 14%|█▍        | 45/312 [00:07<00:29,  8.90it/s]"
     ]
    },
    {
     "name": "stderr",
     "output_type": "stream",
     "text": [
      "\r",
      " 15%|█▌        | 47/312 [00:07<00:33,  7.83it/s]"
     ]
    },
    {
     "name": "stderr",
     "output_type": "stream",
     "text": [
      "\r",
      " 15%|█▌        | 48/312 [00:07<00:34,  7.71it/s]"
     ]
    },
    {
     "name": "stderr",
     "output_type": "stream",
     "text": [
      "\r",
      " 16%|█▌        | 50/312 [00:08<00:28,  9.12it/s]"
     ]
    },
    {
     "name": "stderr",
     "output_type": "stream",
     "text": [
      "\r",
      " 17%|█▋        | 52/312 [00:08<00:38,  6.69it/s]"
     ]
    },
    {
     "name": "stderr",
     "output_type": "stream",
     "text": [
      "\r",
      " 17%|█▋        | 54/312 [00:08<00:35,  7.36it/s]"
     ]
    },
    {
     "name": "stderr",
     "output_type": "stream",
     "text": [
      "\r",
      " 18%|█▊        | 55/312 [00:08<00:34,  7.45it/s]"
     ]
    },
    {
     "name": "stderr",
     "output_type": "stream",
     "text": [
      "\r",
      " 18%|█▊        | 56/312 [00:08<00:35,  7.30it/s]"
     ]
    },
    {
     "name": "stderr",
     "output_type": "stream",
     "text": [
      "\r",
      " 19%|█▉        | 60/312 [00:09<00:19, 12.74it/s]"
     ]
    },
    {
     "name": "stderr",
     "output_type": "stream",
     "text": [
      "\r",
      " 20%|█▉        | 62/312 [00:09<00:44,  5.67it/s]"
     ]
    },
    {
     "name": "stderr",
     "output_type": "stream",
     "text": [
      "\r",
      " 21%|██        | 65/312 [00:10<00:32,  7.60it/s]"
     ]
    },
    {
     "name": "stderr",
     "output_type": "stream",
     "text": [
      "\r",
      " 21%|██▏       | 67/312 [00:10<00:31,  7.84it/s]"
     ]
    },
    {
     "name": "stderr",
     "output_type": "stream",
     "text": [
      "\r",
      " 22%|██▏       | 69/312 [00:10<00:35,  6.93it/s]"
     ]
    },
    {
     "name": "stderr",
     "output_type": "stream",
     "text": [
      "\r",
      " 23%|██▎       | 71/312 [00:11<00:38,  6.21it/s]"
     ]
    },
    {
     "name": "stderr",
     "output_type": "stream",
     "text": [
      "\r",
      " 23%|██▎       | 73/312 [00:11<00:42,  5.61it/s]"
     ]
    },
    {
     "name": "stderr",
     "output_type": "stream",
     "text": [
      "\r",
      " 24%|██▍       | 75/312 [00:11<00:36,  6.51it/s]"
     ]
    },
    {
     "name": "stderr",
     "output_type": "stream",
     "text": [
      "\r",
      " 25%|██▍       | 77/312 [00:12<00:34,  6.85it/s]"
     ]
    },
    {
     "name": "stderr",
     "output_type": "stream",
     "text": [
      "\r",
      " 25%|██▌       | 78/312 [00:12<00:37,  6.24it/s]"
     ]
    },
    {
     "name": "stderr",
     "output_type": "stream",
     "text": [
      "\r",
      " 25%|██▌       | 79/312 [00:12<00:45,  5.15it/s]"
     ]
    },
    {
     "name": "stderr",
     "output_type": "stream",
     "text": [
      "\r",
      " 26%|██▌       | 80/312 [00:12<00:47,  4.84it/s]"
     ]
    },
    {
     "name": "stderr",
     "output_type": "stream",
     "text": [
      "\r",
      " 26%|██▌       | 81/312 [00:12<00:42,  5.37it/s]"
     ]
    },
    {
     "name": "stderr",
     "output_type": "stream",
     "text": [
      "\r",
      " 27%|██▋       | 84/312 [00:13<00:41,  5.53it/s]"
     ]
    },
    {
     "name": "stderr",
     "output_type": "stream",
     "text": [
      "\r",
      " 27%|██▋       | 85/312 [00:13<00:37,  6.00it/s]"
     ]
    },
    {
     "name": "stderr",
     "output_type": "stream",
     "text": [
      "\r",
      " 28%|██▊       | 88/312 [00:13<00:29,  7.67it/s]"
     ]
    },
    {
     "name": "stderr",
     "output_type": "stream",
     "text": [
      "\r",
      " 29%|██▉       | 90/312 [00:14<00:26,  8.32it/s]"
     ]
    },
    {
     "name": "stderr",
     "output_type": "stream",
     "text": [
      "\r",
      " 29%|██▉       | 92/312 [00:14<00:32,  6.68it/s]"
     ]
    },
    {
     "name": "stderr",
     "output_type": "stream",
     "text": [
      "\r",
      " 30%|██▉       | 93/312 [00:14<00:34,  6.36it/s]"
     ]
    },
    {
     "name": "stderr",
     "output_type": "stream",
     "text": [
      "\r",
      " 30%|███       | 94/312 [00:15<00:42,  5.10it/s]"
     ]
    },
    {
     "name": "stderr",
     "output_type": "stream",
     "text": [
      "\r",
      " 31%|███       | 96/312 [00:15<00:33,  6.51it/s]"
     ]
    },
    {
     "name": "stderr",
     "output_type": "stream",
     "text": [
      "\r",
      " 32%|███▏      | 101/312 [00:15<00:17, 11.84it/s]"
     ]
    },
    {
     "name": "stderr",
     "output_type": "stream",
     "text": [
      "\r",
      " 33%|███▎      | 103/312 [00:15<00:27,  7.63it/s]"
     ]
    },
    {
     "name": "stderr",
     "output_type": "stream",
     "text": [
      "\r",
      " 34%|███▎      | 105/312 [00:16<00:29,  7.09it/s]"
     ]
    },
    {
     "name": "stderr",
     "output_type": "stream",
     "text": [
      "\r",
      " 34%|███▍      | 107/312 [00:16<00:27,  7.40it/s]"
     ]
    },
    {
     "name": "stderr",
     "output_type": "stream",
     "text": [
      "\r",
      " 35%|███▍      | 108/312 [00:16<00:26,  7.62it/s]"
     ]
    },
    {
     "name": "stderr",
     "output_type": "stream",
     "text": [
      "\r",
      " 35%|███▍      | 109/312 [00:16<00:28,  7.03it/s]"
     ]
    },
    {
     "name": "stderr",
     "output_type": "stream",
     "text": [
      "\r",
      " 36%|███▌      | 111/312 [00:17<00:30,  6.55it/s]"
     ]
    },
    {
     "name": "stderr",
     "output_type": "stream",
     "text": [
      "\r",
      " 36%|███▌      | 112/312 [00:17<00:29,  6.83it/s]"
     ]
    },
    {
     "name": "stderr",
     "output_type": "stream",
     "text": [
      "\r",
      " 36%|███▌      | 113/312 [00:17<00:27,  7.29it/s]"
     ]
    },
    {
     "name": "stderr",
     "output_type": "stream",
     "text": [
      "\r",
      " 37%|███▋      | 114/312 [00:17<00:26,  7.40it/s]"
     ]
    },
    {
     "name": "stderr",
     "output_type": "stream",
     "text": [
      "\r",
      " 37%|███▋      | 115/312 [00:17<00:29,  6.58it/s]"
     ]
    },
    {
     "name": "stderr",
     "output_type": "stream",
     "text": [
      "\r",
      " 38%|███▊      | 117/312 [00:17<00:21,  8.91it/s]"
     ]
    },
    {
     "name": "stderr",
     "output_type": "stream",
     "text": [
      "\r",
      " 38%|███▊      | 119/312 [00:18<00:35,  5.46it/s]"
     ]
    },
    {
     "name": "stderr",
     "output_type": "stream",
     "text": [
      "\r",
      " 39%|███▉      | 121/312 [00:18<00:29,  6.47it/s]"
     ]
    },
    {
     "name": "stderr",
     "output_type": "stream",
     "text": [
      "\r",
      " 39%|███▉      | 122/312 [00:18<00:36,  5.23it/s]"
     ]
    },
    {
     "name": "stderr",
     "output_type": "stream",
     "text": [
      "\r",
      " 40%|████      | 125/312 [00:19<00:27,  6.72it/s]"
     ]
    },
    {
     "name": "stderr",
     "output_type": "stream",
     "text": [
      "\r",
      " 40%|████      | 126/312 [00:19<00:28,  6.56it/s]"
     ]
    },
    {
     "name": "stderr",
     "output_type": "stream",
     "text": [
      "\r",
      " 41%|████      | 128/312 [00:19<00:22,  8.02it/s]"
     ]
    },
    {
     "name": "stderr",
     "output_type": "stream",
     "text": [
      "\r",
      " 42%|████▏     | 130/312 [00:19<00:19,  9.38it/s]"
     ]
    },
    {
     "name": "stderr",
     "output_type": "stream",
     "text": [
      "\r",
      " 42%|████▏     | 132/312 [00:20<00:31,  5.81it/s]"
     ]
    },
    {
     "name": "stderr",
     "output_type": "stream",
     "text": [
      "\r",
      " 43%|████▎     | 134/312 [00:20<00:28,  6.30it/s]"
     ]
    },
    {
     "name": "stderr",
     "output_type": "stream",
     "text": [
      "\r",
      " 44%|████▎     | 136/312 [00:20<00:30,  5.77it/s]"
     ]
    },
    {
     "name": "stderr",
     "output_type": "stream",
     "text": [
      "\r",
      " 44%|████▍     | 137/312 [00:21<00:30,  5.67it/s]"
     ]
    },
    {
     "name": "stderr",
     "output_type": "stream",
     "text": [
      "\r",
      " 44%|████▍     | 138/312 [00:21<00:31,  5.47it/s]"
     ]
    },
    {
     "name": "stderr",
     "output_type": "stream",
     "text": [
      "\r",
      " 45%|████▍     | 139/312 [00:21<00:35,  4.89it/s]"
     ]
    },
    {
     "name": "stderr",
     "output_type": "stream",
     "text": [
      "\r",
      " 45%|████▍     | 140/312 [00:21<00:34,  5.04it/s]"
     ]
    },
    {
     "name": "stderr",
     "output_type": "stream",
     "text": [
      "\r",
      " 46%|████▌     | 142/312 [00:22<00:29,  5.71it/s]"
     ]
    },
    {
     "name": "stderr",
     "output_type": "stream",
     "text": [
      "\r",
      " 46%|████▌     | 144/312 [00:22<00:25,  6.63it/s]"
     ]
    },
    {
     "name": "stderr",
     "output_type": "stream",
     "text": [
      "\r",
      " 46%|████▋     | 145/312 [00:22<00:27,  6.01it/s]"
     ]
    },
    {
     "name": "stderr",
     "output_type": "stream",
     "text": [
      "\r",
      " 47%|████▋     | 148/312 [00:22<00:21,  7.62it/s]"
     ]
    },
    {
     "name": "stderr",
     "output_type": "stream",
     "text": [
      "\r",
      " 48%|████▊     | 149/312 [00:22<00:22,  7.30it/s]"
     ]
    },
    {
     "name": "stderr",
     "output_type": "stream",
     "text": [
      "\r",
      " 48%|████▊     | 151/312 [00:23<00:22,  7.30it/s]"
     ]
    },
    {
     "name": "stderr",
     "output_type": "stream",
     "text": [
      "\r",
      " 49%|████▉     | 153/312 [00:23<00:18,  8.74it/s]"
     ]
    },
    {
     "name": "stderr",
     "output_type": "stream",
     "text": [
      "\r",
      " 49%|████▉     | 154/312 [00:23<00:17,  8.79it/s]"
     ]
    },
    {
     "name": "stderr",
     "output_type": "stream",
     "text": [
      "\r",
      " 50%|████▉     | 155/312 [00:23<00:20,  7.74it/s]"
     ]
    },
    {
     "name": "stderr",
     "output_type": "stream",
     "text": [
      "\r",
      " 50%|█████     | 157/312 [00:23<00:20,  7.49it/s]"
     ]
    },
    {
     "name": "stderr",
     "output_type": "stream",
     "text": [
      "\r",
      " 51%|█████▏    | 160/312 [00:24<00:13, 10.98it/s]"
     ]
    },
    {
     "name": "stderr",
     "output_type": "stream",
     "text": [
      "\r",
      " 52%|█████▏    | 162/312 [00:24<00:23,  6.48it/s]"
     ]
    },
    {
     "name": "stderr",
     "output_type": "stream",
     "text": [
      "\r",
      " 53%|█████▎    | 164/312 [00:25<00:23,  6.43it/s]"
     ]
    },
    {
     "name": "stderr",
     "output_type": "stream",
     "text": [
      "\r",
      " 53%|█████▎    | 165/312 [00:25<00:22,  6.46it/s]"
     ]
    },
    {
     "name": "stderr",
     "output_type": "stream",
     "text": [
      "\r",
      " 54%|█████▎    | 167/312 [00:25<00:18,  7.75it/s]"
     ]
    },
    {
     "name": "stderr",
     "output_type": "stream",
     "text": [
      "\r",
      " 54%|█████▍    | 168/312 [00:25<00:20,  7.04it/s]"
     ]
    },
    {
     "name": "stderr",
     "output_type": "stream",
     "text": [
      "\r",
      " 54%|█████▍    | 169/312 [00:25<00:29,  4.77it/s]"
     ]
    },
    {
     "name": "stderr",
     "output_type": "stream",
     "text": [
      "\r",
      " 55%|█████▍    | 171/312 [00:26<00:20,  6.72it/s]"
     ]
    },
    {
     "name": "stderr",
     "output_type": "stream",
     "text": [
      "\r",
      " 55%|█████▌    | 173/312 [00:26<00:17,  8.03it/s]"
     ]
    },
    {
     "name": "stderr",
     "output_type": "stream",
     "text": [
      "\r",
      " 56%|█████▋    | 176/312 [00:26<00:12, 11.28it/s]"
     ]
    },
    {
     "name": "stderr",
     "output_type": "stream",
     "text": [
      "\r",
      " 57%|█████▋    | 178/312 [00:26<00:17,  7.48it/s]"
     ]
    },
    {
     "name": "stderr",
     "output_type": "stream",
     "text": [
      "\r",
      " 58%|█████▊    | 181/312 [00:27<00:13,  9.73it/s]"
     ]
    },
    {
     "name": "stderr",
     "output_type": "stream",
     "text": [
      "\r",
      " 59%|█████▊    | 183/312 [00:27<00:15,  8.48it/s]"
     ]
    },
    {
     "name": "stderr",
     "output_type": "stream",
     "text": [
      "\r",
      " 59%|█████▉    | 185/312 [00:27<00:20,  6.10it/s]"
     ]
    },
    {
     "name": "stderr",
     "output_type": "stream",
     "text": [
      "\r",
      " 60%|█████▉    | 187/312 [00:28<00:17,  7.27it/s]"
     ]
    },
    {
     "name": "stderr",
     "output_type": "stream",
     "text": [
      "\r",
      " 61%|██████    | 190/312 [00:28<00:12,  9.38it/s]"
     ]
    },
    {
     "name": "stderr",
     "output_type": "stream",
     "text": [
      "\r",
      " 62%|██████▏   | 192/312 [00:28<00:15,  7.73it/s]"
     ]
    },
    {
     "name": "stderr",
     "output_type": "stream",
     "text": [
      "\r",
      " 62%|██████▏   | 194/312 [00:28<00:16,  7.14it/s]"
     ]
    },
    {
     "name": "stderr",
     "output_type": "stream",
     "text": [
      "\r",
      " 62%|██████▎   | 195/312 [00:29<00:16,  7.10it/s]"
     ]
    },
    {
     "name": "stderr",
     "output_type": "stream",
     "text": [
      "\r",
      " 63%|██████▎   | 197/312 [00:29<00:17,  6.71it/s]"
     ]
    },
    {
     "name": "stderr",
     "output_type": "stream",
     "text": [
      "\r",
      " 63%|██████▎   | 198/312 [00:29<00:18,  6.13it/s]"
     ]
    },
    {
     "name": "stderr",
     "output_type": "stream",
     "text": [
      "\r",
      " 64%|██████▍   | 200/312 [00:29<00:13,  8.05it/s]"
     ]
    },
    {
     "name": "stderr",
     "output_type": "stream",
     "text": [
      "\r",
      " 65%|██████▍   | 202/312 [00:30<00:15,  7.08it/s]"
     ]
    },
    {
     "name": "stderr",
     "output_type": "stream",
     "text": [
      "\r",
      " 66%|██████▌   | 205/312 [00:30<00:12,  8.68it/s]"
     ]
    },
    {
     "name": "stderr",
     "output_type": "stream",
     "text": [
      "\r",
      " 66%|██████▋   | 207/312 [00:30<00:11,  9.32it/s]"
     ]
    },
    {
     "name": "stderr",
     "output_type": "stream",
     "text": [
      "\r",
      " 67%|██████▋   | 209/312 [00:31<00:19,  5.32it/s]"
     ]
    },
    {
     "name": "stderr",
     "output_type": "stream",
     "text": [
      "\r",
      " 67%|██████▋   | 210/312 [00:31<00:21,  4.76it/s]"
     ]
    },
    {
     "name": "stderr",
     "output_type": "stream",
     "text": [
      "\r",
      " 68%|██████▊   | 213/312 [00:31<00:15,  6.20it/s]"
     ]
    },
    {
     "name": "stderr",
     "output_type": "stream",
     "text": [
      "\r",
      " 69%|██████▉   | 215/312 [00:31<00:12,  7.54it/s]"
     ]
    },
    {
     "name": "stderr",
     "output_type": "stream",
     "text": [
      "\r",
      " 70%|██████▉   | 217/312 [00:32<00:14,  6.54it/s]"
     ]
    },
    {
     "name": "stderr",
     "output_type": "stream",
     "text": [
      "\r",
      " 70%|███████   | 219/312 [00:32<00:13,  6.65it/s]"
     ]
    },
    {
     "name": "stderr",
     "output_type": "stream",
     "text": [
      "\r",
      " 71%|███████   | 221/312 [00:32<00:11,  8.12it/s]"
     ]
    },
    {
     "name": "stderr",
     "output_type": "stream",
     "text": [
      "\r",
      " 71%|███████▏  | 223/312 [00:33<00:13,  6.58it/s]"
     ]
    },
    {
     "name": "stderr",
     "output_type": "stream",
     "text": [
      "\r",
      " 72%|███████▏  | 224/312 [00:33<00:13,  6.32it/s]"
     ]
    },
    {
     "name": "stderr",
     "output_type": "stream",
     "text": [
      "\r",
      " 72%|███████▏  | 225/312 [00:33<00:17,  4.93it/s]"
     ]
    },
    {
     "name": "stderr",
     "output_type": "stream",
     "text": [
      "\r",
      " 73%|███████▎  | 228/312 [00:33<00:10,  8.00it/s]"
     ]
    },
    {
     "name": "stderr",
     "output_type": "stream",
     "text": [
      "\r",
      " 74%|███████▎  | 230/312 [00:34<00:11,  6.93it/s]"
     ]
    },
    {
     "name": "stderr",
     "output_type": "stream",
     "text": [
      "\r",
      " 74%|███████▍  | 232/312 [00:34<00:12,  6.56it/s]"
     ]
    },
    {
     "name": "stderr",
     "output_type": "stream",
     "text": [
      "\r",
      " 75%|███████▍  | 233/312 [00:34<00:12,  6.08it/s]"
     ]
    },
    {
     "name": "stderr",
     "output_type": "stream",
     "text": [
      "\r",
      " 75%|███████▌  | 234/312 [00:35<00:14,  5.48it/s]"
     ]
    },
    {
     "name": "stderr",
     "output_type": "stream",
     "text": [
      "\r",
      " 76%|███████▌  | 236/312 [00:35<00:11,  6.50it/s]"
     ]
    },
    {
     "name": "stderr",
     "output_type": "stream",
     "text": [
      "\r",
      " 76%|███████▋  | 238/312 [00:35<00:09,  7.56it/s]"
     ]
    },
    {
     "name": "stderr",
     "output_type": "stream",
     "text": [
      "\r",
      " 77%|███████▋  | 239/312 [00:35<00:13,  5.27it/s]"
     ]
    },
    {
     "name": "stderr",
     "output_type": "stream",
     "text": [
      "\r",
      " 77%|███████▋  | 241/312 [00:36<00:12,  5.46it/s]"
     ]
    },
    {
     "name": "stderr",
     "output_type": "stream",
     "text": [
      "\r",
      " 78%|███████▊  | 242/312 [00:36<00:14,  4.82it/s]"
     ]
    },
    {
     "name": "stderr",
     "output_type": "stream",
     "text": [
      "\r",
      " 78%|███████▊  | 243/312 [00:36<00:14,  4.84it/s]"
     ]
    },
    {
     "name": "stderr",
     "output_type": "stream",
     "text": [
      "\r",
      " 79%|███████▉  | 247/312 [00:36<00:07,  8.50it/s]"
     ]
    },
    {
     "name": "stderr",
     "output_type": "stream",
     "text": [
      "\r",
      " 79%|███████▉  | 248/312 [00:37<00:07,  8.09it/s]"
     ]
    },
    {
     "name": "stderr",
     "output_type": "stream",
     "text": [
      "\r",
      " 80%|████████  | 250/312 [00:37<00:07,  8.24it/s]"
     ]
    },
    {
     "name": "stderr",
     "output_type": "stream",
     "text": [
      "\r",
      " 80%|████████  | 251/312 [00:37<00:08,  7.12it/s]"
     ]
    },
    {
     "name": "stderr",
     "output_type": "stream",
     "text": [
      "\r",
      " 81%|████████  | 253/312 [00:37<00:08,  6.86it/s]"
     ]
    },
    {
     "name": "stderr",
     "output_type": "stream",
     "text": [
      "\r",
      " 82%|████████▏ | 255/312 [00:38<00:07,  7.75it/s]"
     ]
    },
    {
     "name": "stderr",
     "output_type": "stream",
     "text": [
      "\r",
      " 82%|████████▏ | 256/312 [00:38<00:11,  4.93it/s]"
     ]
    },
    {
     "name": "stderr",
     "output_type": "stream",
     "text": [
      "\r",
      " 82%|████████▏ | 257/312 [00:38<00:12,  4.57it/s]"
     ]
    },
    {
     "name": "stderr",
     "output_type": "stream",
     "text": [
      "\r",
      " 83%|████████▎ | 258/312 [00:39<00:10,  5.01it/s]"
     ]
    },
    {
     "name": "stderr",
     "output_type": "stream",
     "text": [
      "\r",
      " 83%|████████▎ | 260/312 [00:39<00:09,  5.61it/s]"
     ]
    },
    {
     "name": "stderr",
     "output_type": "stream",
     "text": [
      "\r",
      " 84%|████████▍ | 262/312 [00:39<00:07,  6.60it/s]"
     ]
    },
    {
     "name": "stderr",
     "output_type": "stream",
     "text": [
      "\r",
      " 84%|████████▍ | 263/312 [00:39<00:08,  5.84it/s]"
     ]
    },
    {
     "name": "stderr",
     "output_type": "stream",
     "text": [
      "\r",
      " 85%|████████▍ | 264/312 [00:39<00:08,  5.66it/s]"
     ]
    },
    {
     "name": "stderr",
     "output_type": "stream",
     "text": [
      "\r",
      " 85%|████████▍ | 265/312 [00:40<00:07,  6.33it/s]"
     ]
    },
    {
     "name": "stderr",
     "output_type": "stream",
     "text": [
      "\r",
      " 86%|████████▌ | 267/312 [00:40<00:05,  8.21it/s]"
     ]
    },
    {
     "name": "stderr",
     "output_type": "stream",
     "text": [
      "\r",
      " 87%|████████▋ | 270/312 [00:40<00:04,  9.72it/s]"
     ]
    },
    {
     "name": "stderr",
     "output_type": "stream",
     "text": [
      "\r",
      " 87%|████████▋ | 272/312 [00:40<00:03, 10.55it/s]"
     ]
    },
    {
     "name": "stderr",
     "output_type": "stream",
     "text": [
      "\r",
      " 88%|████████▊ | 275/312 [00:40<00:02, 12.39it/s]"
     ]
    },
    {
     "name": "stderr",
     "output_type": "stream",
     "text": [
      "\r",
      " 89%|████████▉ | 277/312 [00:41<00:04,  7.23it/s]"
     ]
    },
    {
     "name": "stderr",
     "output_type": "stream",
     "text": [
      "\r",
      " 89%|████████▉ | 279/312 [00:41<00:05,  6.47it/s]"
     ]
    },
    {
     "name": "stderr",
     "output_type": "stream",
     "text": [
      "\r",
      " 90%|█████████ | 281/312 [00:41<00:03,  7.81it/s]"
     ]
    },
    {
     "name": "stderr",
     "output_type": "stream",
     "text": [
      "\r",
      " 91%|█████████ | 283/312 [00:42<00:04,  6.45it/s]"
     ]
    },
    {
     "name": "stderr",
     "output_type": "stream",
     "text": [
      "\r",
      " 91%|█████████ | 284/312 [00:42<00:04,  6.76it/s]"
     ]
    },
    {
     "name": "stderr",
     "output_type": "stream",
     "text": [
      "\r",
      " 91%|█████████▏| 285/312 [00:42<00:04,  5.80it/s]"
     ]
    },
    {
     "name": "stderr",
     "output_type": "stream",
     "text": [
      "\r",
      " 92%|█████████▏| 287/312 [00:42<00:03,  6.85it/s]"
     ]
    },
    {
     "name": "stderr",
     "output_type": "stream",
     "text": [
      "\r",
      " 92%|█████████▏| 288/312 [00:43<00:03,  6.38it/s]"
     ]
    },
    {
     "name": "stderr",
     "output_type": "stream",
     "text": [
      "\r",
      " 93%|█████████▎| 290/312 [00:43<00:03,  6.87it/s]"
     ]
    },
    {
     "name": "stderr",
     "output_type": "stream",
     "text": [
      "\r",
      " 94%|█████████▎| 292/312 [00:43<00:02,  6.74it/s]"
     ]
    },
    {
     "name": "stderr",
     "output_type": "stream",
     "text": [
      "\r",
      " 94%|█████████▍| 294/312 [00:44<00:02,  6.37it/s]"
     ]
    },
    {
     "name": "stderr",
     "output_type": "stream",
     "text": [
      "\r",
      " 95%|█████████▍| 295/312 [00:44<00:02,  5.80it/s]"
     ]
    },
    {
     "name": "stderr",
     "output_type": "stream",
     "text": [
      "\r",
      " 95%|█████████▌| 297/312 [00:44<00:01,  7.69it/s]"
     ]
    },
    {
     "name": "stderr",
     "output_type": "stream",
     "text": [
      "\r",
      " 96%|█████████▌| 298/312 [00:44<00:02,  6.86it/s]"
     ]
    },
    {
     "name": "stderr",
     "output_type": "stream",
     "text": [
      "\r",
      " 96%|█████████▌| 300/312 [00:44<00:01,  8.99it/s]"
     ]
    },
    {
     "name": "stderr",
     "output_type": "stream",
     "text": [
      "\r",
      " 97%|█████████▋| 302/312 [00:45<00:01,  7.50it/s]"
     ]
    },
    {
     "name": "stderr",
     "output_type": "stream",
     "text": [
      "\r",
      " 97%|█████████▋| 303/312 [00:45<00:01,  7.72it/s]"
     ]
    },
    {
     "name": "stderr",
     "output_type": "stream",
     "text": [
      "\r",
      " 98%|█████████▊| 305/312 [00:45<00:00,  8.52it/s]"
     ]
    },
    {
     "name": "stderr",
     "output_type": "stream",
     "text": [
      "\r",
      " 98%|█████████▊| 306/312 [00:45<00:00,  7.72it/s]"
     ]
    },
    {
     "name": "stderr",
     "output_type": "stream",
     "text": [
      "\r",
      " 99%|█████████▊| 308/312 [00:45<00:00,  7.66it/s]"
     ]
    },
    {
     "name": "stderr",
     "output_type": "stream",
     "text": [
      "\r",
      " 99%|█████████▉| 309/312 [00:46<00:00,  6.39it/s]"
     ]
    },
    {
     "name": "stderr",
     "output_type": "stream",
     "text": [
      "\r",
      " 99%|█████████▉| 310/312 [00:46<00:00,  4.45it/s]"
     ]
    },
    {
     "name": "stderr",
     "output_type": "stream",
     "text": [
      "\r",
      "100%|██████████| 312/312 [00:46<00:00,  4.50it/s]"
     ]
    },
    {
     "name": "stderr",
     "output_type": "stream",
     "text": [
      "\r",
      "100%|██████████| 312/312 [00:46<00:00,  6.65it/s]"
     ]
    },
    {
     "name": "stdout",
     "output_type": "stream",
     "text": [
      "\n",
      "rate limit: 7 \n",
      "Leeftijdsgroep API calls: create: 0, read: 1, update: 312, delete: 0, backoff: 1\n",
      "errors:\n",
      "  503: Service Unavailable: 5\n"
     ]
    },
    {
     "name": "stdout",
     "output_type": "stream",
     "text": [
      "[{'Key': 1, 'Timestamp Leeftijdsgroep RIVM': '2021-12-07 15:15'}]\n"
     ]
    },
    {
     "name": "stderr",
     "output_type": "stream",
     "text": [
      "\n"
     ]
    },
    {
     "name": "stdout",
     "output_type": "stream",
     "text": [
      "timestamps: [{'Key': 1, 'Timestamp Leeftijdsgroep RIVM': '2021-12-07 15:15'}]\n",
      "Key                               int64\n",
      "Timestamp Leeftijdsgroep RIVM    object\n",
      "dtype: object\n"
     ]
    },
    {
     "name": "stderr",
     "output_type": "stream",
     "text": [
      "\r",
      "  0%|          | 0/1 [00:00<?, ?it/s]"
     ]
    },
    {
     "name": "stderr",
     "output_type": "stream",
     "text": [
      "\r",
      "100%|██████████| 1/1 [00:01<00:00,  1.32s/it]"
     ]
    },
    {
     "name": "stderr",
     "output_type": "stream",
     "text": [
      "\r",
      "100%|██████████| 1/1 [00:01<00:00,  1.32s/it]"
     ]
    },
    {
     "name": "stdout",
     "output_type": "stream",
     "text": [
      "\n",
      "rate limit: 7 \n",
      "LaatsteUpdate API calls: create: 0, read: 0, update: 1, delete: 0, backoff: 0\n"
     ]
    },
    {
     "name": "stderr",
     "output_type": "stream",
     "text": [
      "\n"
     ]
    },
    {
     "name": "stdout",
     "output_type": "stream",
     "text": [
      "BatchName     object\n",
      "ObjectName    object\n",
      "Source        object\n",
      "Timestamp     object\n",
      "dtype: object\n"
     ]
    },
    {
     "name": "stderr",
     "output_type": "stream",
     "text": [
      "\r",
      "  0%|          | 0/1 [00:00<?, ?it/s]"
     ]
    },
    {
     "name": "stderr",
     "output_type": "stream",
     "text": [
      "\r",
      "100%|██████████| 1/1 [00:01<00:00,  1.40s/it]"
     ]
    },
    {
     "name": "stderr",
     "output_type": "stream",
     "text": [
      "\r",
      "100%|██████████| 1/1 [00:01<00:00,  1.40s/it]"
     ]
    },
    {
     "name": "stdout",
     "output_type": "stream",
     "text": [
      "\n",
      "rate limit: 7 \n",
      "UpdateDetails API calls: create: 1, read: 0, update: 0, delete: 0, backoff: 0\n"
     ]
    },
    {
     "name": "stdout",
     "output_type": "stream",
     "text": [
      "updating: [{'Key': 1, 'Updating Leeftijdsgroep': 'false'}]\n",
      "Key                         int64\n",
      "Updating Leeftijdsgroep    object\n",
      "dtype: object\n",
      "nothing to do for LaatsteUpdate\n"
     ]
    },
    {
     "name": "stderr",
     "output_type": "stream",
     "text": [
      "\n"
     ]
    },
    {
     "name": "stdout",
     "output_type": "stream",
     "text": [
      "\n",
      "rate limit: 7 \n",
      "LaatsteUpdate API calls: create: 0, read: 0, update: 0, delete: 0, backoff: 0\n"
     ]
    }
   ],
   "source": [
    "if knack:\n",
    "  await knack.publish(tabel.fillna(0).assign(Datum=tabel.Datum.dt.strftime('%Y-%m-%d')), 'Leeftijdsgroep', Cache)"
   ]
  }
 ],
 "metadata": {
  "jupytext": {
   "cell_metadata_filter": "title,-all"
  },
  "kernelspec": {
   "display_name": "Python 3 (ipykernel)",
   "language": "python",
   "name": "python3"
  },
  "language_info": {
   "codemirror_mode": {
    "name": "ipython",
    "version": 3
   },
   "file_extension": ".py",
   "mimetype": "text/x-python",
   "name": "python",
   "nbconvert_exporter": "python",
   "pygments_lexer": "ipython3",
   "version": "3.9.9"
  },
  "papermill": {
   "default_parameters": {},
   "duration": 91.013756,
   "end_time": "2021-12-08T09:19:07.467293",
   "environment_variables": {},
   "exception": null,
   "input_path": "-",
   "output_path": "LeeftijdsgroepenLandelijk.ipynb",
   "parameters": {},
   "start_time": "2021-12-08T09:17:36.453537",
   "version": "2.3.3"
  }
 },
 "nbformat": 4,
 "nbformat_minor": 5
}