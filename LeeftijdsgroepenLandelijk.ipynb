{
 "cells": [
  {
   "cell_type": "code",
   "execution_count": 1,
   "id": "0fa6f55c",
   "metadata": {
    "execution": {
     "iopub.execute_input": "2021-07-20T13:28:42.336195Z",
     "iopub.status.busy": "2021-07-20T13:28:42.335450Z",
     "iopub.status.idle": "2021-07-20T13:28:47.118423Z",
     "shell.execute_reply": "2021-07-20T13:28:47.117806Z"
    },
    "lines_to_next_cell": 1,
    "papermill": {
     "duration": 4.799802,
     "end_time": "2021-07-20T13:28:47.118575",
     "exception": false,
     "start_time": "2021-07-20T13:28:42.318773",
     "status": "completed"
    },
    "tags": []
   },
   "outputs": [],
   "source": [
    "from IPython import get_ipython\n",
    "from IPython.core.display import display\n",
    "get_ipython().run_line_magic('load_ext', 'autoreload')\n",
    "get_ipython().run_line_magic('autoreload', '2')\n",
    "get_ipython().run_line_magic('run', 'setup')"
   ]
  },
  {
   "cell_type": "code",
   "execution_count": 2,
   "id": "53a90631",
   "metadata": {
    "execution": {
     "iopub.execute_input": "2021-07-20T13:28:47.138970Z",
     "iopub.status.busy": "2021-07-20T13:28:47.133399Z",
     "iopub.status.idle": "2021-07-20T13:32:23.592143Z",
     "shell.execute_reply": "2021-07-20T13:32:23.592747Z"
    },
    "lines_to_next_cell": 1,
    "papermill": {
     "duration": 216.468331,
     "end_time": "2021-07-20T13:32:23.592925",
     "exception": false,
     "start_time": "2021-07-20T13:28:47.124594",
     "status": "completed"
    },
    "tags": [],
    "title": "leeftijdsgroepen: download RIVM data"
   },
   "outputs": [
    {
     "name": "stdout",
     "output_type": "stream",
     "text": [
      "downloading rivm/COVID-19_casus_landelijk-2021-07-20@13-15.csv\n"
     ]
    },
    {
     "name": "stdout",
     "output_type": "stream",
     "text": [
      "rivm COVID-19_casus_landelijk zipping rivm/COVID-19_casus_landelijk-2021-07-20@13-15.csv\n"
     ]
    },
    {
     "name": "stdout",
     "output_type": "stream",
     "text": [
      "loading rivm/COVID-19_casus_landelijk-2021-07-20@13-15.csv.gz\n"
     ]
    },
    {
     "data": {
      "text/html": [
       "<div>\n",
       "<style scoped>\n",
       "    .dataframe tbody tr th:only-of-type {\n",
       "        vertical-align: middle;\n",
       "    }\n",
       "\n",
       "    .dataframe tbody tr th {\n",
       "        vertical-align: top;\n",
       "    }\n",
       "\n",
       "    .dataframe thead th {\n",
       "        text-align: right;\n",
       "    }\n",
       "</style>\n",
       "<table border=\"1\" class=\"dataframe\">\n",
       "  <thead>\n",
       "    <tr style=\"text-align: right;\">\n",
       "      <th></th>\n",
       "      <th>Date_file</th>\n",
       "      <th>Date_statistics</th>\n",
       "      <th>Date_statistics_type</th>\n",
       "      <th>Agegroup</th>\n",
       "      <th>Sex</th>\n",
       "      <th>Province</th>\n",
       "      <th>Hospital_admission</th>\n",
       "      <th>Deceased</th>\n",
       "      <th>Week_of_death</th>\n",
       "      <th>Municipal_health_service</th>\n",
       "    </tr>\n",
       "  </thead>\n",
       "  <tbody>\n",
       "    <tr>\n",
       "      <th>0</th>\n",
       "      <td>2021-07-20 10:00:00</td>\n",
       "      <td>2020-01-01</td>\n",
       "      <td>DOO</td>\n",
       "      <td>40-49</td>\n",
       "      <td>Female</td>\n",
       "      <td>Noord-Holland</td>\n",
       "      <td>No</td>\n",
       "      <td>No</td>\n",
       "      <td>NaN</td>\n",
       "      <td>GGD Amsterdam</td>\n",
       "    </tr>\n",
       "    <tr>\n",
       "      <th>1</th>\n",
       "      <td>2021-07-20 10:00:00</td>\n",
       "      <td>2020-01-01</td>\n",
       "      <td>DOO</td>\n",
       "      <td>50-59</td>\n",
       "      <td>Male</td>\n",
       "      <td>Gelderland</td>\n",
       "      <td>No</td>\n",
       "      <td>No</td>\n",
       "      <td>NaN</td>\n",
       "      <td>Veiligheids- en Gezondheidsregio Gelderland-Mi...</td>\n",
       "    </tr>\n",
       "    <tr>\n",
       "      <th>2</th>\n",
       "      <td>2021-07-20 10:00:00</td>\n",
       "      <td>2020-01-01</td>\n",
       "      <td>DOO</td>\n",
       "      <td>20-29</td>\n",
       "      <td>Female</td>\n",
       "      <td>Zuid-Holland</td>\n",
       "      <td>No</td>\n",
       "      <td>No</td>\n",
       "      <td>NaN</td>\n",
       "      <td>GGD Hollands-Midden</td>\n",
       "    </tr>\n",
       "    <tr>\n",
       "      <th>3</th>\n",
       "      <td>2021-07-20 10:00:00</td>\n",
       "      <td>2020-01-01</td>\n",
       "      <td>DOO</td>\n",
       "      <td>60-69</td>\n",
       "      <td>Female</td>\n",
       "      <td>Noord-Holland</td>\n",
       "      <td>No</td>\n",
       "      <td>No</td>\n",
       "      <td>NaN</td>\n",
       "      <td>GGD Hollands-Noorden</td>\n",
       "    </tr>\n",
       "    <tr>\n",
       "      <th>4</th>\n",
       "      <td>2021-07-20 10:00:00</td>\n",
       "      <td>2020-01-04</td>\n",
       "      <td>DOO</td>\n",
       "      <td>10-19</td>\n",
       "      <td>Female</td>\n",
       "      <td>Gelderland</td>\n",
       "      <td>Unknown</td>\n",
       "      <td>No</td>\n",
       "      <td>NaN</td>\n",
       "      <td>GGD Gelderland-Zuid</td>\n",
       "    </tr>\n",
       "  </tbody>\n",
       "</table>\n",
       "</div>"
      ],
      "text/plain": [
       "             Date_file Date_statistics Date_statistics_type Agegroup     Sex  \\\n",
       "0  2021-07-20 10:00:00      2020-01-01                  DOO    40-49  Female   \n",
       "1  2021-07-20 10:00:00      2020-01-01                  DOO    50-59    Male   \n",
       "2  2021-07-20 10:00:00      2020-01-01                  DOO    20-29  Female   \n",
       "3  2021-07-20 10:00:00      2020-01-01                  DOO    60-69  Female   \n",
       "4  2021-07-20 10:00:00      2020-01-04                  DOO    10-19  Female   \n",
       "\n",
       "        Province Hospital_admission Deceased  Week_of_death  \\\n",
       "0  Noord-Holland                 No       No            NaN   \n",
       "1     Gelderland                 No       No            NaN   \n",
       "2   Zuid-Holland                 No       No            NaN   \n",
       "3  Noord-Holland                 No       No            NaN   \n",
       "4     Gelderland            Unknown       No            NaN   \n",
       "\n",
       "                            Municipal_health_service  \n",
       "0                                      GGD Amsterdam  \n",
       "1  Veiligheids- en Gezondheidsregio Gelderland-Mi...  \n",
       "2                                GGD Hollands-Midden  \n",
       "3                               GGD Hollands-Noorden  \n",
       "4                                GGD Gelderland-Zuid  "
      ]
     },
     "metadata": {},
     "output_type": "display_data"
    }
   ],
   "source": [
    "#leeftijdsgroepen = SimpleNamespace()\n",
    "@run\n",
    "def cell():\n",
    "  global rivm\n",
    "  rivm = RIVM.csv('COVID-19_casus_landelijk')\n",
    "  display(rivm.head())"
   ]
  },
  {
   "cell_type": "code",
   "execution_count": 3,
   "id": "da74ddd5",
   "metadata": {
    "execution": {
     "iopub.execute_input": "2021-07-20T13:32:23.608042Z",
     "iopub.status.busy": "2021-07-20T13:32:23.607296Z",
     "iopub.status.idle": "2021-07-20T13:32:26.568256Z",
     "shell.execute_reply": "2021-07-20T13:32:26.567707Z"
    },
    "lines_to_next_cell": 1,
    "papermill": {
     "duration": 2.968981,
     "end_time": "2021-07-20T13:32:26.568442",
     "exception": false,
     "start_time": "2021-07-20T13:32:23.599461",
     "status": "completed"
    },
    "tags": [],
    "title": "Download de bevolkings cijfers van CBS, uitgesplitst op de leeftijds categorien in de dataset van het RIVM"
   },
   "outputs": [],
   "source": [
    "@run\n",
    "def cell():\n",
    "  global bevolking\n",
    "  bevolking = CBS.bevolking(leeftijdsgroepen=True)"
   ]
  },
  {
   "cell_type": "code",
   "execution_count": 4,
   "id": "9341cb8f",
   "metadata": {
    "execution": {
     "iopub.execute_input": "2021-07-20T13:32:26.584012Z",
     "iopub.status.busy": "2021-07-20T13:32:26.583231Z",
     "iopub.status.idle": "2021-07-20T13:32:34.919553Z",
     "shell.execute_reply": "2021-07-20T13:32:34.918978Z"
    },
    "lines_to_next_cell": 1,
    "papermill": {
     "duration": 8.344976,
     "end_time": "2021-07-20T13:32:34.919703",
     "exception": false,
     "start_time": "2021-07-20T13:32:26.574727",
     "status": "completed"
    },
    "tags": [],
    "title": "leeftijdsgroepen: prepareer tabel"
   },
   "outputs": [
    {
     "data": {
      "text/html": [
       "<style type=\"text/css\">\n",
       "#T_92885_row0_col7 {\n",
       "  background-color: #c2df23;\n",
       "  color: #000000;\n",
       "}\n",
       "#T_92885_row0_col8 {\n",
       "  background-color: #38598c;\n",
       "  color: #f1f1f1;\n",
       "}\n",
       "#T_92885_row0_col9, #T_92885_row1_col9, #T_92885_row2_col9, #T_92885_row3_col9, #T_92885_row4_col8 {\n",
       "  background-color: #440154;\n",
       "  color: #f1f1f1;\n",
       "}\n",
       "#T_92885_row0_col10 {\n",
       "  background-color: #35b779;\n",
       "  color: #f1f1f1;\n",
       "}\n",
       "#T_92885_row0_col11, #T_92885_row0_col12 {\n",
       "  background-color: #6ccd5a;\n",
       "  color: #000000;\n",
       "}\n",
       "#T_92885_row0_col13, #T_92885_row2_col11 {\n",
       "  background-color: #cde11d;\n",
       "  color: #000000;\n",
       "}\n",
       "#T_92885_row0_col14, #T_92885_row2_col13 {\n",
       "  background-color: #f1e51d;\n",
       "  color: #000000;\n",
       "}\n",
       "#T_92885_row0_col15, #T_92885_row1_col14 {\n",
       "  background-color: #f8e621;\n",
       "  color: #000000;\n",
       "}\n",
       "#T_92885_row0_col16, #T_92885_row0_col17, #T_92885_row1_col16, #T_92885_row1_col17, #T_92885_row2_col15, #T_92885_row2_col16, #T_92885_row2_col17, #T_92885_row3_col16, #T_92885_row3_col17, #T_92885_row4_col16, #T_92885_row4_col17 {\n",
       "  background-color: #fde725;\n",
       "  color: #000000;\n",
       "}\n",
       "#T_92885_row1_col7, #T_92885_row1_col13 {\n",
       "  background-color: #e7e419;\n",
       "  color: #000000;\n",
       "}\n",
       "#T_92885_row1_col8 {\n",
       "  background-color: #218e8d;\n",
       "  color: #f1f1f1;\n",
       "}\n",
       "#T_92885_row1_col10 {\n",
       "  background-color: #77d153;\n",
       "  color: #000000;\n",
       "}\n",
       "#T_92885_row1_col11 {\n",
       "  background-color: #addc30;\n",
       "  color: #000000;\n",
       "}\n",
       "#T_92885_row1_col12 {\n",
       "  background-color: #aadc32;\n",
       "  color: #000000;\n",
       "}\n",
       "#T_92885_row1_col15, #T_92885_row2_col14 {\n",
       "  background-color: #fbe723;\n",
       "  color: #000000;\n",
       "}\n",
       "#T_92885_row2_col7, #T_92885_row4_col15 {\n",
       "  background-color: #efe51c;\n",
       "  color: #000000;\n",
       "}\n",
       "#T_92885_row2_col8 {\n",
       "  background-color: #218f8d;\n",
       "  color: #f1f1f1;\n",
       "}\n",
       "#T_92885_row2_col10 {\n",
       "  background-color: #93d741;\n",
       "  color: #000000;\n",
       "}\n",
       "#T_92885_row2_col12 {\n",
       "  background-color: #d5e21a;\n",
       "  color: #000000;\n",
       "}\n",
       "#T_92885_row3_col7 {\n",
       "  background-color: #7fd34e;\n",
       "  color: #000000;\n",
       "}\n",
       "#T_92885_row3_col8 {\n",
       "  background-color: #481f70;\n",
       "  color: #f1f1f1;\n",
       "}\n",
       "#T_92885_row3_col10 {\n",
       "  background-color: #228b8d;\n",
       "  color: #f1f1f1;\n",
       "}\n",
       "#T_92885_row3_col11 {\n",
       "  background-color: #22a884;\n",
       "  color: #f1f1f1;\n",
       "}\n",
       "#T_92885_row3_col12 {\n",
       "  background-color: #44bf70;\n",
       "  color: #f1f1f1;\n",
       "}\n",
       "#T_92885_row3_col13 {\n",
       "  background-color: #b5de2b;\n",
       "  color: #000000;\n",
       "}\n",
       "#T_92885_row3_col14, #T_92885_row4_col14 {\n",
       "  background-color: #eae51a;\n",
       "  color: #000000;\n",
       "}\n",
       "#T_92885_row3_col15 {\n",
       "  background-color: #f4e61e;\n",
       "  color: #000000;\n",
       "}\n",
       "#T_92885_row4_col7 {\n",
       "  background-color: #7ad151;\n",
       "  color: #000000;\n",
       "}\n",
       "#T_92885_row4_col9 {\n",
       "  background-color: #375b8d;\n",
       "  color: #f1f1f1;\n",
       "}\n",
       "#T_92885_row4_col10 {\n",
       "  background-color: #20928c;\n",
       "  color: #f1f1f1;\n",
       "}\n",
       "#T_92885_row4_col11 {\n",
       "  background-color: #1fa187;\n",
       "  color: #f1f1f1;\n",
       "}\n",
       "#T_92885_row4_col12 {\n",
       "  background-color: #2db27d;\n",
       "  color: #f1f1f1;\n",
       "}\n",
       "#T_92885_row4_col13 {\n",
       "  background-color: #a2da37;\n",
       "  color: #000000;\n",
       "}\n",
       "</style>\n",
       "<table id=\"T_92885_\">\n",
       "  <thead>\n",
       "    <tr>\n",
       "      <th class=\"blank level0\" >&nbsp;</th>\n",
       "      <th class=\"col_heading level0 col0\" >Key</th>\n",
       "      <th class=\"col_heading level0 col1\" >Weken terug</th>\n",
       "      <th class=\"col_heading level0 col2\" >Datum</th>\n",
       "      <th class=\"col_heading level0 col3\" >Periode</th>\n",
       "      <th class=\"col_heading level0 col4\" >Gemiddelde leeftijd</th>\n",
       "      <th class=\"col_heading level0 col5\" >Totaal</th>\n",
       "      <th class=\"col_heading level0 col6\" >Type</th>\n",
       "      <th class=\"col_heading level0 col7\" >0-9</th>\n",
       "      <th class=\"col_heading level0 col8\" >10-19</th>\n",
       "      <th class=\"col_heading level0 col9\" >20-29</th>\n",
       "      <th class=\"col_heading level0 col10\" >30-39</th>\n",
       "      <th class=\"col_heading level0 col11\" >40-49</th>\n",
       "      <th class=\"col_heading level0 col12\" >50-59</th>\n",
       "      <th class=\"col_heading level0 col13\" >60-69</th>\n",
       "      <th class=\"col_heading level0 col14\" >70-79</th>\n",
       "      <th class=\"col_heading level0 col15\" >80-89</th>\n",
       "      <th class=\"col_heading level0 col16\" >90+</th>\n",
       "      <th class=\"col_heading level0 col17\" >Onbekend</th>\n",
       "      <th class=\"col_heading level0 col18\" >c0-9</th>\n",
       "      <th class=\"col_heading level0 col19\" >c10-19</th>\n",
       "      <th class=\"col_heading level0 col20\" >c20-29</th>\n",
       "      <th class=\"col_heading level0 col21\" >c30-39</th>\n",
       "      <th class=\"col_heading level0 col22\" >c40-49</th>\n",
       "      <th class=\"col_heading level0 col23\" >c50-59</th>\n",
       "      <th class=\"col_heading level0 col24\" >c60-69</th>\n",
       "      <th class=\"col_heading level0 col25\" >c70-79</th>\n",
       "      <th class=\"col_heading level0 col26\" >c80-89</th>\n",
       "      <th class=\"col_heading level0 col27\" >c90+</th>\n",
       "      <th class=\"col_heading level0 col28\" >cOnbekend</th>\n",
       "    </tr>\n",
       "  </thead>\n",
       "  <tbody>\n",
       "    <tr>\n",
       "      <th id=\"T_92885_level0_row0\" class=\"row_heading level0 row0\" >0</th>\n",
       "      <td id=\"T_92885_row0_col0\" class=\"data row0 col0\" >p000</td>\n",
       "      <td id=\"T_92885_row0_col1\" class=\"data row0 col1\" >0</td>\n",
       "      <td id=\"T_92885_row0_col2\" class=\"data row0 col2\" >2021-07-20 00:00:00</td>\n",
       "      <td id=\"T_92885_row0_col3\" class=\"data row0 col3\" >14/07-20/07</td>\n",
       "      <td id=\"T_92885_row0_col4\" class=\"data row0 col4\" >28.900000</td>\n",
       "      <td id=\"T_92885_row0_col5\" class=\"data row0 col5\" >33144.000000</td>\n",
       "      <td id=\"T_92885_row0_col6\" class=\"data row0 col6\" >Positief getest</td>\n",
       "      <td id=\"T_92885_row0_col7\" class=\"data row0 col7\" >1123.000000</td>\n",
       "      <td id=\"T_92885_row0_col8\" class=\"data row0 col8\" >8834.000000</td>\n",
       "      <td id=\"T_92885_row0_col9\" class=\"data row0 col9\" >12210.000000</td>\n",
       "      <td id=\"T_92885_row0_col10\" class=\"data row0 col10\" >4082.000000</td>\n",
       "      <td id=\"T_92885_row0_col11\" class=\"data row0 col11\" >2756.000000</td>\n",
       "      <td id=\"T_92885_row0_col12\" class=\"data row0 col12\" >2751.000000</td>\n",
       "      <td id=\"T_92885_row0_col13\" class=\"data row0 col13\" >949.000000</td>\n",
       "      <td id=\"T_92885_row0_col14\" class=\"data row0 col14\" >268.000000</td>\n",
       "      <td id=\"T_92885_row0_col15\" class=\"data row0 col15\" >125.000000</td>\n",
       "      <td id=\"T_92885_row0_col16\" class=\"data row0 col16\" >46.000000</td>\n",
       "      <td id=\"T_92885_row0_col17\" class=\"data row0 col17\" >0.000000</td>\n",
       "      <td id=\"T_92885_row0_col18\" class=\"data row0 col18\" >91</td>\n",
       "      <td id=\"T_92885_row0_col19\" class=\"data row0 col19\" >723</td>\n",
       "      <td id=\"T_92885_row0_col20\" class=\"data row0 col20\" >1000</td>\n",
       "      <td id=\"T_92885_row0_col21\" class=\"data row0 col21\" >334</td>\n",
       "      <td id=\"T_92885_row0_col22\" class=\"data row0 col22\" >225</td>\n",
       "      <td id=\"T_92885_row0_col23\" class=\"data row0 col23\" >225</td>\n",
       "      <td id=\"T_92885_row0_col24\" class=\"data row0 col24\" >77</td>\n",
       "      <td id=\"T_92885_row0_col25\" class=\"data row0 col25\" >21</td>\n",
       "      <td id=\"T_92885_row0_col26\" class=\"data row0 col26\" >10</td>\n",
       "      <td id=\"T_92885_row0_col27\" class=\"data row0 col27\" >3</td>\n",
       "      <td id=\"T_92885_row0_col28\" class=\"data row0 col28\" >0</td>\n",
       "    </tr>\n",
       "    <tr>\n",
       "      <th id=\"T_92885_level0_row1\" class=\"row_heading level0 row1\" >1</th>\n",
       "      <td id=\"T_92885_row1_col0\" class=\"data row1 col0\" >p001</td>\n",
       "      <td id=\"T_92885_row1_col1\" class=\"data row1 col1\" >1</td>\n",
       "      <td id=\"T_92885_row1_col2\" class=\"data row1 col2\" >2021-07-20 00:00:00</td>\n",
       "      <td id=\"T_92885_row1_col3\" class=\"data row1 col3\" >07/07-13/07</td>\n",
       "      <td id=\"T_92885_row1_col4\" class=\"data row1 col4\" >27.300000</td>\n",
       "      <td id=\"T_92885_row1_col5\" class=\"data row1 col5\" >67817.000000</td>\n",
       "      <td id=\"T_92885_row1_col6\" class=\"data row1 col6\" >Positief getest</td>\n",
       "      <td id=\"T_92885_row1_col7\" class=\"data row1 col7\" >1219.000000</td>\n",
       "      <td id=\"T_92885_row1_col8\" class=\"data row1 col8\" >16785.000000</td>\n",
       "      <td id=\"T_92885_row1_col9\" class=\"data row1 col9\" >33026.000000</td>\n",
       "      <td id=\"T_92885_row1_col10\" class=\"data row1 col10\" >6826.000000</td>\n",
       "      <td id=\"T_92885_row1_col11\" class=\"data row1 col11\" >4044.000000</td>\n",
       "      <td id=\"T_92885_row1_col12\" class=\"data row1 col12\" >4176.000000</td>\n",
       "      <td id=\"T_92885_row1_col13\" class=\"data row1 col13\" >1218.000000</td>\n",
       "      <td id=\"T_92885_row1_col14\" class=\"data row1 col14\" >325.000000</td>\n",
       "      <td id=\"T_92885_row1_col15\" class=\"data row1 col15\" >163.000000</td>\n",
       "      <td id=\"T_92885_row1_col16\" class=\"data row1 col16\" >34.000000</td>\n",
       "      <td id=\"T_92885_row1_col17\" class=\"data row1 col17\" >1.000000</td>\n",
       "      <td id=\"T_92885_row1_col18\" class=\"data row1 col18\" >36</td>\n",
       "      <td id=\"T_92885_row1_col19\" class=\"data row1 col19\" >508</td>\n",
       "      <td id=\"T_92885_row1_col20\" class=\"data row1 col20\" >1000</td>\n",
       "      <td id=\"T_92885_row1_col21\" class=\"data row1 col21\" >206</td>\n",
       "      <td id=\"T_92885_row1_col22\" class=\"data row1 col22\" >122</td>\n",
       "      <td id=\"T_92885_row1_col23\" class=\"data row1 col23\" >126</td>\n",
       "      <td id=\"T_92885_row1_col24\" class=\"data row1 col24\" >36</td>\n",
       "      <td id=\"T_92885_row1_col25\" class=\"data row1 col25\" >9</td>\n",
       "      <td id=\"T_92885_row1_col26\" class=\"data row1 col26\" >4</td>\n",
       "      <td id=\"T_92885_row1_col27\" class=\"data row1 col27\" >1</td>\n",
       "      <td id=\"T_92885_row1_col28\" class=\"data row1 col28\" >0</td>\n",
       "    </tr>\n",
       "    <tr>\n",
       "      <th id=\"T_92885_level0_row2\" class=\"row_heading level0 row2\" >2</th>\n",
       "      <td id=\"T_92885_row2_col0\" class=\"data row2 col0\" >p002</td>\n",
       "      <td id=\"T_92885_row2_col1\" class=\"data row2 col1\" >2</td>\n",
       "      <td id=\"T_92885_row2_col2\" class=\"data row2 col2\" >2021-07-20 00:00:00</td>\n",
       "      <td id=\"T_92885_row2_col3\" class=\"data row2 col3\" >30/06-06/07</td>\n",
       "      <td id=\"T_92885_row2_col4\" class=\"data row2 col4\" >25.600000</td>\n",
       "      <td id=\"T_92885_row2_col5\" class=\"data row2 col5\" >26204.000000</td>\n",
       "      <td id=\"T_92885_row2_col6\" class=\"data row2 col6\" >Positief getest</td>\n",
       "      <td id=\"T_92885_row2_col7\" class=\"data row2 col7\" >344.000000</td>\n",
       "      <td id=\"T_92885_row2_col8\" class=\"data row2 col8\" >7102.000000</td>\n",
       "      <td id=\"T_92885_row2_col9\" class=\"data row2 col9\" >14033.000000</td>\n",
       "      <td id=\"T_92885_row2_col10\" class=\"data row2 col10\" >2267.000000</td>\n",
       "      <td id=\"T_92885_row2_col11\" class=\"data row2 col11\" >1072.000000</td>\n",
       "      <td id=\"T_92885_row2_col12\" class=\"data row2 col12\" >931.000000</td>\n",
       "      <td id=\"T_92885_row2_col13\" class=\"data row2 col13\" >298.000000</td>\n",
       "      <td id=\"T_92885_row2_col14\" class=\"data row2 col14\" >103.000000</td>\n",
       "      <td id=\"T_92885_row2_col15\" class=\"data row2 col15\" >46.000000</td>\n",
       "      <td id=\"T_92885_row2_col16\" class=\"data row2 col16\" >8.000000</td>\n",
       "      <td id=\"T_92885_row2_col17\" class=\"data row2 col17\" >0.000000</td>\n",
       "      <td id=\"T_92885_row2_col18\" class=\"data row2 col18\" >24</td>\n",
       "      <td id=\"T_92885_row2_col19\" class=\"data row2 col19\" >506</td>\n",
       "      <td id=\"T_92885_row2_col20\" class=\"data row2 col20\" >1000</td>\n",
       "      <td id=\"T_92885_row2_col21\" class=\"data row2 col21\" >161</td>\n",
       "      <td id=\"T_92885_row2_col22\" class=\"data row2 col22\" >76</td>\n",
       "      <td id=\"T_92885_row2_col23\" class=\"data row2 col23\" >66</td>\n",
       "      <td id=\"T_92885_row2_col24\" class=\"data row2 col24\" >21</td>\n",
       "      <td id=\"T_92885_row2_col25\" class=\"data row2 col25\" >7</td>\n",
       "      <td id=\"T_92885_row2_col26\" class=\"data row2 col26\" >3</td>\n",
       "      <td id=\"T_92885_row2_col27\" class=\"data row2 col27\" >0</td>\n",
       "      <td id=\"T_92885_row2_col28\" class=\"data row2 col28\" >0</td>\n",
       "    </tr>\n",
       "    <tr>\n",
       "      <th id=\"T_92885_level0_row3\" class=\"row_heading level0 row3\" >3</th>\n",
       "      <td id=\"T_92885_row3_col0\" class=\"data row3 col0\" >p003</td>\n",
       "      <td id=\"T_92885_row3_col1\" class=\"data row3 col1\" >3</td>\n",
       "      <td id=\"T_92885_row3_col2\" class=\"data row3 col2\" >2021-07-20 00:00:00</td>\n",
       "      <td id=\"T_92885_row3_col3\" class=\"data row3 col3\" >23/06-29/06</td>\n",
       "      <td id=\"T_92885_row3_col4\" class=\"data row3 col4\" >29.700000</td>\n",
       "      <td id=\"T_92885_row3_col5\" class=\"data row3 col5\" >4764.000000</td>\n",
       "      <td id=\"T_92885_row3_col6\" class=\"data row3 col6\" >Positief getest</td>\n",
       "      <td id=\"T_92885_row3_col7\" class=\"data row3 col7\" >265.000000</td>\n",
       "      <td id=\"T_92885_row3_col8\" class=\"data row3 col8\" >1249.000000</td>\n",
       "      <td id=\"T_92885_row3_col9\" class=\"data row3 col9\" >1362.000000</td>\n",
       "      <td id=\"T_92885_row3_col10\" class=\"data row3 col10\" >712.000000</td>\n",
       "      <td id=\"T_92885_row3_col11\" class=\"data row3 col11\" >543.000000</td>\n",
       "      <td id=\"T_92885_row3_col12\" class=\"data row3 col12\" >406.000000</td>\n",
       "      <td id=\"T_92885_row3_col13\" class=\"data row3 col13\" >154.000000</td>\n",
       "      <td id=\"T_92885_row3_col14\" class=\"data row3 col14\" >46.000000</td>\n",
       "      <td id=\"T_92885_row3_col15\" class=\"data row3 col15\" >22.000000</td>\n",
       "      <td id=\"T_92885_row3_col16\" class=\"data row3 col16\" >5.000000</td>\n",
       "      <td id=\"T_92885_row3_col17\" class=\"data row3 col17\" >0.000000</td>\n",
       "      <td id=\"T_92885_row3_col18\" class=\"data row3 col18\" >194</td>\n",
       "      <td id=\"T_92885_row3_col19\" class=\"data row3 col19\" >917</td>\n",
       "      <td id=\"T_92885_row3_col20\" class=\"data row3 col20\" >1000</td>\n",
       "      <td id=\"T_92885_row3_col21\" class=\"data row3 col21\" >522</td>\n",
       "      <td id=\"T_92885_row3_col22\" class=\"data row3 col22\" >398</td>\n",
       "      <td id=\"T_92885_row3_col23\" class=\"data row3 col23\" >298</td>\n",
       "      <td id=\"T_92885_row3_col24\" class=\"data row3 col24\" >113</td>\n",
       "      <td id=\"T_92885_row3_col25\" class=\"data row3 col25\" >33</td>\n",
       "      <td id=\"T_92885_row3_col26\" class=\"data row3 col26\" >16</td>\n",
       "      <td id=\"T_92885_row3_col27\" class=\"data row3 col27\" >3</td>\n",
       "      <td id=\"T_92885_row3_col28\" class=\"data row3 col28\" >0</td>\n",
       "    </tr>\n",
       "    <tr>\n",
       "      <th id=\"T_92885_level0_row4\" class=\"row_heading level0 row4\" >4</th>\n",
       "      <td id=\"T_92885_row4_col0\" class=\"data row4 col0\" >p004</td>\n",
       "      <td id=\"T_92885_row4_col1\" class=\"data row4 col1\" >4</td>\n",
       "      <td id=\"T_92885_row4_col2\" class=\"data row4 col2\" >2021-07-20 00:00:00</td>\n",
       "      <td id=\"T_92885_row4_col3\" class=\"data row4 col3\" >16/06-22/06</td>\n",
       "      <td id=\"T_92885_row4_col4\" class=\"data row4 col4\" >30.600000</td>\n",
       "      <td id=\"T_92885_row4_col5\" class=\"data row4 col5\" >4743.000000</td>\n",
       "      <td id=\"T_92885_row4_col6\" class=\"data row4 col6\" >Positief getest</td>\n",
       "      <td id=\"T_92885_row4_col7\" class=\"data row4 col7\" >281.000000</td>\n",
       "      <td id=\"T_92885_row4_col8\" class=\"data row4 col8\" >1399.000000</td>\n",
       "      <td id=\"T_92885_row4_col9\" class=\"data row4 col9\" >1004.000000</td>\n",
       "      <td id=\"T_92885_row4_col10\" class=\"data row4 col10\" >686.000000</td>\n",
       "      <td id=\"T_92885_row4_col11\" class=\"data row4 col11\" >597.000000</td>\n",
       "      <td id=\"T_92885_row4_col12\" class=\"data row4 col12\" >498.000000</td>\n",
       "      <td id=\"T_92885_row4_col13\" class=\"data row4 col13\" >193.000000</td>\n",
       "      <td id=\"T_92885_row4_col14\" class=\"data row4 col14\" >45.000000</td>\n",
       "      <td id=\"T_92885_row4_col15\" class=\"data row4 col15\" >35.000000</td>\n",
       "      <td id=\"T_92885_row4_col16\" class=\"data row4 col16\" >5.000000</td>\n",
       "      <td id=\"T_92885_row4_col17\" class=\"data row4 col17\" >0.000000</td>\n",
       "      <td id=\"T_92885_row4_col18\" class=\"data row4 col18\" >200</td>\n",
       "      <td id=\"T_92885_row4_col19\" class=\"data row4 col19\" >1000</td>\n",
       "      <td id=\"T_92885_row4_col20\" class=\"data row4 col20\" >717</td>\n",
       "      <td id=\"T_92885_row4_col21\" class=\"data row4 col21\" >490</td>\n",
       "      <td id=\"T_92885_row4_col22\" class=\"data row4 col22\" >426</td>\n",
       "      <td id=\"T_92885_row4_col23\" class=\"data row4 col23\" >355</td>\n",
       "      <td id=\"T_92885_row4_col24\" class=\"data row4 col24\" >137</td>\n",
       "      <td id=\"T_92885_row4_col25\" class=\"data row4 col25\" >32</td>\n",
       "      <td id=\"T_92885_row4_col26\" class=\"data row4 col26\" >25</td>\n",
       "      <td id=\"T_92885_row4_col27\" class=\"data row4 col27\" >3</td>\n",
       "      <td id=\"T_92885_row4_col28\" class=\"data row4 col28\" >0</td>\n",
       "    </tr>\n",
       "  </tbody>\n",
       "</table>\n"
      ],
      "text/plain": [
       "<pandas.io.formats.style.Styler at 0x7fbaf674a100>"
      ]
     },
     "metadata": {},
     "output_type": "display_data"
    }
   ],
   "source": [
    "# Bereken de stand van zaken van besmettingen / hospitalisaties / overlijden, per cohort in absolute aantallen en aantallen per 100k, met een kleur indicator voor de aantallen.\n",
    "# vervang <50 en Unknown door Onbekend\n",
    "@run\n",
    "def cell():\n",
    "  rivm['Cohort'] = rivm['Agegroup'].replace({'<50': 'Onbekend', 'Unknown': 'Onbekend'})\n",
    "  # aangenomen 'gemiddelde' leeftijd van een cohort: minimum waarde + 5\n",
    "  assumed_cohort_age = [(cohort, [int(n) for n in cohort.replace('+', '').split('-')]) for cohort in rivm['Cohort'].unique() if cohort[0].isdigit()]\n",
    "  assumed_cohort_age = { cohort: min(rng) + 5 for cohort, rng in assumed_cohort_age }\n",
    "  rivm['Gemiddelde leeftijd'] = rivm['Cohort'].apply(lambda x: assumed_cohort_age.get(x, np.nan))\n",
    "\n",
    "  # verwijder tijd\n",
    "  rivm['Date_file_date'] = pd.to_datetime(rivm['Date_file'].replace(r' .*', '', regex=True))\n",
    "\n",
    "  rivm['Date_statistics_date'] = pd.to_datetime(rivm['Date_statistics'])\n",
    "\n",
    "  # weken terug = verschil tussen Date_file en Date_statistcs, gedeeld door 7 dagen\n",
    "  rivm['Weken terug'] = np.floor((rivm['Date_file_date'] - rivm['Date_statistics_date'])/np.timedelta64(7, 'D')).astype(int)\n",
    "\n",
    "  # voeg key, gem leeftijd, kleurnummer en totaal toe\n",
    "  Date_file = rivm['Date_file_date'].unique()[0].astype('M8[D]').astype('O')\n",
    "  cohorten = list(bevolking.index) + ['Onbekend']\n",
    "  def summarize(df, category, prefix):\n",
    "    # aangezien we hier de dataframe in-place wijzigen (bijv door toevoegen kolommen)\n",
    "    # en we het 'rivm' frame later nog clean nodig hebben\n",
    "    df = df.copy(deep=True)\n",
    "\n",
    "    df = (df\n",
    "          .groupby(['Weken terug', 'Cohort'])['count']\n",
    "          .sum()\n",
    "          .unstack(fill_value=np.nan)\n",
    "          .reset_index()\n",
    "          .rename_axis(None, axis=1)\n",
    "        ).merge(df\n",
    "          # we voegen hier gemiddelde leeftijd toe, want die willen we op een ander\n",
    "          # niveau aggregeren voor 'df' overschreven word\n",
    "          .groupby(['Weken terug'])['Gemiddelde leeftijd']\n",
    "          .mean()\n",
    "          .to_frame(), on='Weken terug'\n",
    "        )\n",
    "\n",
    "    # altijd 52 rijen\n",
    "    df = pd.Series(np.arange(52), name='Weken terug').to_frame().merge(df, how='left', on='Weken terug')\n",
    "\n",
    "    # toevoegen missende cohorten\n",
    "    for col in cohorten:\n",
    "      if not col in df:\n",
    "        df[col] = np.nan\n",
    "\n",
    "    # sommeer per rij (axis=1) over de cohorten om een totaal te krijgen\n",
    "    df['Totaal'] = df[cohorten].sum(axis=1)\n",
    "\n",
    "    # voeg periode en datum toe\n",
    "    # periode afgeleid van weken-terug (= de index voor deze dataframe)\n",
    "    df['Datum'] = pd.to_datetime(Date_file)\n",
    "    df['Periode'] = (df\n",
    "      .index.to_series()\n",
    "      .apply(\n",
    "        lambda x: (\n",
    "          (Date_file + datetime.timedelta(weeks=-(x+1), days=1)).strftime('%d/%m')\n",
    "          + '-'\n",
    "          + (Date_file + datetime.timedelta(weeks=-x)).strftime('%d/%m')\n",
    "        )\n",
    "      )\n",
    "    )\n",
    "\n",
    "    # voeg 'Key' en 'Type' kolom toe. Variabele 'type' kan niet, is een language primitive.\n",
    "    df['Key'] = prefix + df.index.astype(str).str.rjust(3, fillchar='0')\n",
    "    df['Type'] = category\n",
    "\n",
    "    # voeg de kleur kolommen toe\n",
    "    for col in cohorten:\n",
    "      df['c' + col] = ((df[col] / df[[col for col in cohorten]].max(axis=1)) * 1000).fillna(0).astype(int)\n",
    "\n",
    "    # herschikken van de kolommen\n",
    "    colorder = ['Key', 'Weken terug', 'Datum', 'Periode', 'Gemiddelde leeftijd', 'Totaal', 'Type']\n",
    "    return df[colorder + [col for col in df if col not in colorder]]\n",
    "\n",
    "  factor = bevolking.to_dict()['per 100k']\n",
    "  global tabel\n",
    "  tabel = pd.concat(\n",
    "    # flatten the result list zodat pd.concat ze onder elkaar kan plakken\n",
    "    functools.reduce(lambda a, b: a + b, [\n",
    "      [summarize(df.assign(count=1), label, prefix), summarize(df.assign(count=df['Cohort'].apply(lambda x: factor.get(x, np.nan))), label + ' per 100.000', prefix + '100k')]\n",
    "      for df, label, prefix in [\n",
    "        (rivm, 'Positief getest', 'p'), # volledige count per cohort\n",
    "        (rivm[rivm.Hospital_admission == 'Yes'], 'Ziekenhuisopname', 'h'), # count van cohort voor Hospital_admission == 'Yes'\n",
    "        (rivm[rivm.Deceased == 'Yes'], 'Overleden', 'd'), # count van cohort voor Deceased == 'Yes'\n",
    "      ]\n",
    "    ])\n",
    "  )\n",
    "\n",
    "  # rood -> groen\n",
    "  cdict = {\n",
    "    'red':   ((0.0, 0.0, 0.0),   # no red at 0\n",
    "              (0.5, 1.0, 1.0),   # all channels set to 1.0 at 0.5 to create white\n",
    "              (1.0, 0.8, 0.8)),  # set to 0.8 so its not too bright at 1\n",
    "    'green': ((0.0, 0.8, 0.8),   # set to 0.8 so its not too bright at 0\n",
    "              (0.5, 1.0, 1.0),   # all channels set to 1.0 at 0.5 to create white\n",
    "              (1.0, 0.0, 0.0)),  # no green at 1\n",
    "    'blue':  ((0.0, 0.0, 0.0),   # no blue at 0\n",
    "              (0.5, 1.0, 1.0),   # all channels set to 1.0 at 0.5 to create white\n",
    "              (1.0, 0.0, 0.0))   # no blue at 1\n",
    "  }\n",
    "  cm = colors.LinearSegmentedColormap('GnRd', cdict)\n",
    "  # geel -> paars\n",
    "  cm = sns.color_palette('viridis_r', as_cmap=True)\n",
    "  display(tabel\n",
    "    .fillna(0)\n",
    "    .head()\n",
    "    .round(1)\n",
    "    .reset_index(drop=True)\n",
    "    .style.background_gradient(cmap=cm, axis=1, subset=cohorten)\n",
    "  )"
   ]
  },
  {
   "cell_type": "code",
   "execution_count": 5,
   "id": "ebf8b18b",
   "metadata": {
    "execution": {
     "iopub.execute_input": "2021-07-20T13:32:34.940846Z",
     "iopub.status.busy": "2021-07-20T13:32:34.940161Z",
     "iopub.status.idle": "2021-07-20T13:33:22.054106Z",
     "shell.execute_reply": "2021-07-20T13:33:22.053585Z"
    },
    "papermill": {
     "duration": 47.126668,
     "end_time": "2021-07-20T13:33:22.054344",
     "exception": false,
     "start_time": "2021-07-20T13:32:34.927676",
     "status": "completed"
    },
    "tags": [],
    "title": "publish"
   },
   "outputs": [
    {
     "name": "stdout",
     "output_type": "stream",
     "text": [
      "infinities:\n"
     ]
    },
    {
     "name": "stdout",
     "output_type": "stream",
     "text": [
      "Empty DataFrame\n",
      "Columns: []\n",
      "Index: []\n"
     ]
    },
    {
     "name": "stdout",
     "output_type": "stream",
     "text": [
      "nan:\n"
     ]
    },
    {
     "name": "stdout",
     "output_type": "stream",
     "text": [
      "Empty DataFrame\n",
      "Columns: []\n",
      "Index: []\n"
     ]
    },
    {
     "name": "stdout",
     "output_type": "stream",
     "text": [
      "Key                     object\n",
      "Weken terug              int64\n",
      "Datum                   object\n",
      "Periode                 object\n",
      "Gemiddelde leeftijd    float64\n",
      "Totaal                 float64\n",
      "Type                    object\n",
      "0-9                    float64\n",
      "10-19                  float64\n",
      "20-29                  float64\n",
      "30-39                  float64\n",
      "40-49                  float64\n",
      "50-59                  float64\n",
      "60-69                  float64\n",
      "70-79                  float64\n",
      "80-89                  float64\n",
      "90+                    float64\n",
      "Onbekend               float64\n",
      "c0-9                     int64\n",
      "c10-19                   int64\n",
      "c20-29                   int64\n",
      "c30-39                   int64\n",
      "c40-49                   int64\n",
      "c50-59                   int64\n",
      "c60-69                   int64\n",
      "c70-79                   int64\n",
      "c80-89                   int64\n",
      "c90+                     int64\n",
      "cOnbekend                int64\n",
      "dtype: object\n",
      "updating knack\n"
     ]
    },
    {
     "name": "stdout",
     "output_type": "stream",
     "text": [
      "updating: [{'Key': 1, 'Updating Leeftijdsgroep': 'true'}]\n"
     ]
    },
    {
     "name": "stdout",
     "output_type": "stream",
     "text": [
      "restored LaatsteUpdate from hash\n"
     ]
    },
    {
     "name": "stdout",
     "output_type": "stream",
     "text": [
      "Key                         int64\n",
      "Updating Leeftijdsgroep    object\n",
      "dtype: object\n"
     ]
    },
    {
     "name": "stderr",
     "output_type": "stream",
     "text": [
      "\r",
      "  0%|          | 0/1 [00:00<?, ?it/s]"
     ]
    },
    {
     "name": "stderr",
     "output_type": "stream",
     "text": [
      "\r",
      "100%|██████████| 1/1 [00:00<00:00,  1.16it/s]"
     ]
    },
    {
     "name": "stderr",
     "output_type": "stream",
     "text": [
      "\r",
      "100%|██████████| 1/1 [00:00<00:00,  1.16it/s]"
     ]
    },
    {
     "name": "stdout",
     "output_type": "stream",
     "text": [
      "\n",
      "rate limit: 7 \n",
      "LaatsteUpdate API calls: create: 0, read: 1, update: 1, delete: 0, backoff: 0\n"
     ]
    },
    {
     "name": "stderr",
     "output_type": "stream",
     "text": [
      "\n"
     ]
    },
    {
     "name": "stdout",
     "output_type": "stream",
     "text": [
      "restored Leeftijdsgroep from hash\n"
     ]
    },
    {
     "name": "stdout",
     "output_type": "stream",
     "text": [
      "0-9                    float64\n",
      "10-19                  float64\n",
      "20-29                  float64\n",
      "30-39                  float64\n",
      "40-49                  float64\n",
      "50-59                  float64\n",
      "60-69                  float64\n",
      "70-79                  float64\n",
      "80-89                  float64\n",
      "90+                    float64\n",
      "Datum                   object\n",
      "Gemiddelde leeftijd    float64\n",
      "Key                     object\n",
      "Onbekend               float64\n",
      "Periode                 object\n",
      "Totaal                 float64\n",
      "Type                    object\n",
      "Weken terug              int64\n",
      "c0-9                     int64\n",
      "c10-19                   int64\n",
      "c20-29                   int64\n",
      "c30-39                   int64\n",
      "c40-49                   int64\n",
      "c50-59                   int64\n",
      "c60-69                   int64\n",
      "c70-79                   int64\n",
      "c80-89                   int64\n",
      "c90+                     int64\n",
      "cOnbekend                int64\n",
      "dtype: object\n"
     ]
    },
    {
     "name": "stderr",
     "output_type": "stream",
     "text": [
      "\r",
      "  0%|          | 0/141 [00:00<?, ?it/s]"
     ]
    },
    {
     "name": "stderr",
     "output_type": "stream",
     "text": [
      "\r",
      "  1%|          | 1/141 [00:00<01:54,  1.22it/s]"
     ]
    },
    {
     "name": "stderr",
     "output_type": "stream",
     "text": [
      "\r",
      "  2%|▏         | 3/141 [00:00<00:34,  4.01it/s]"
     ]
    },
    {
     "name": "stderr",
     "output_type": "stream",
     "text": [
      "\r",
      "  4%|▎         | 5/141 [00:01<00:23,  5.83it/s]"
     ]
    },
    {
     "name": "stderr",
     "output_type": "stream",
     "text": [
      "\r",
      "  5%|▍         | 7/141 [00:01<00:16,  7.98it/s]"
     ]
    },
    {
     "name": "stderr",
     "output_type": "stream",
     "text": [
      "\r",
      "  6%|▋         | 9/141 [00:01<00:19,  6.91it/s]"
     ]
    },
    {
     "name": "stderr",
     "output_type": "stream",
     "text": [
      "\r",
      "  8%|▊         | 11/141 [00:02<00:25,  5.18it/s]"
     ]
    },
    {
     "name": "stderr",
     "output_type": "stream",
     "text": [
      "\r",
      "  9%|▉         | 13/141 [00:02<00:20,  6.14it/s]"
     ]
    },
    {
     "name": "stderr",
     "output_type": "stream",
     "text": [
      "\r",
      " 11%|█         | 15/141 [00:02<00:19,  6.37it/s]"
     ]
    },
    {
     "name": "stderr",
     "output_type": "stream",
     "text": [
      "\r",
      " 11%|█▏        | 16/141 [00:02<00:20,  6.19it/s]"
     ]
    },
    {
     "name": "stderr",
     "output_type": "stream",
     "text": [
      "\r",
      " 12%|█▏        | 17/141 [00:03<00:21,  5.84it/s]"
     ]
    },
    {
     "name": "stderr",
     "output_type": "stream",
     "text": [
      "\r",
      " 13%|█▎        | 18/141 [00:03<00:20,  5.90it/s]"
     ]
    },
    {
     "name": "stderr",
     "output_type": "stream",
     "text": [
      "\r",
      " 14%|█▍        | 20/141 [00:03<00:22,  5.50it/s]"
     ]
    },
    {
     "name": "stderr",
     "output_type": "stream",
     "text": [
      "\r",
      " 15%|█▍        | 21/141 [00:03<00:21,  5.64it/s]"
     ]
    },
    {
     "name": "stderr",
     "output_type": "stream",
     "text": [
      "\r",
      " 16%|█▋        | 23/141 [00:03<00:15,  7.49it/s]"
     ]
    },
    {
     "name": "stderr",
     "output_type": "stream",
     "text": [
      "\r",
      " 17%|█▋        | 24/141 [00:04<00:17,  6.73it/s]"
     ]
    },
    {
     "name": "stderr",
     "output_type": "stream",
     "text": [
      "\r",
      " 19%|█▉        | 27/141 [00:04<00:16,  6.89it/s]"
     ]
    },
    {
     "name": "stderr",
     "output_type": "stream",
     "text": [
      "\r",
      " 21%|██        | 29/141 [00:04<00:17,  6.25it/s]"
     ]
    },
    {
     "name": "stderr",
     "output_type": "stream",
     "text": [
      "\r",
      " 21%|██▏       | 30/141 [00:05<00:17,  6.45it/s]"
     ]
    },
    {
     "name": "stderr",
     "output_type": "stream",
     "text": [
      "\r",
      " 23%|██▎       | 32/141 [00:05<00:14,  7.63it/s]"
     ]
    },
    {
     "name": "stderr",
     "output_type": "stream",
     "text": [
      "\r",
      " 25%|██▍       | 35/141 [00:05<00:13,  7.72it/s]"
     ]
    },
    {
     "name": "stderr",
     "output_type": "stream",
     "text": [
      "\r",
      " 26%|██▌       | 36/141 [00:05<00:17,  5.84it/s]"
     ]
    },
    {
     "name": "stderr",
     "output_type": "stream",
     "text": [
      "\r",
      " 28%|██▊       | 40/141 [00:06<00:13,  7.61it/s]"
     ]
    },
    {
     "name": "stderr",
     "output_type": "stream",
     "text": [
      "\r",
      " 29%|██▉       | 41/141 [00:06<00:13,  7.28it/s]"
     ]
    },
    {
     "name": "stderr",
     "output_type": "stream",
     "text": [
      "\r",
      " 30%|██▉       | 42/141 [00:06<00:13,  7.31it/s]"
     ]
    },
    {
     "name": "stderr",
     "output_type": "stream",
     "text": [
      "\r",
      " 30%|███       | 43/141 [00:06<00:14,  6.85it/s]"
     ]
    },
    {
     "name": "stderr",
     "output_type": "stream",
     "text": [
      "\r",
      " 31%|███       | 44/141 [00:07<00:16,  5.94it/s]"
     ]
    },
    {
     "name": "stderr",
     "output_type": "stream",
     "text": [
      "\r",
      " 33%|███▎      | 46/141 [00:07<00:12,  7.62it/s]"
     ]
    },
    {
     "name": "stderr",
     "output_type": "stream",
     "text": [
      "\r",
      " 33%|███▎      | 47/141 [00:07<00:22,  4.24it/s]"
     ]
    },
    {
     "name": "stderr",
     "output_type": "stream",
     "text": [
      "\r",
      " 34%|███▍      | 48/141 [00:08<00:20,  4.45it/s]"
     ]
    },
    {
     "name": "stderr",
     "output_type": "stream",
     "text": [
      "\r",
      " 37%|███▋      | 52/141 [00:08<00:10,  8.68it/s]"
     ]
    },
    {
     "name": "stderr",
     "output_type": "stream",
     "text": [
      "\r",
      " 38%|███▊      | 54/141 [00:08<00:15,  5.61it/s]"
     ]
    },
    {
     "name": "stderr",
     "output_type": "stream",
     "text": [
      "\r",
      " 39%|███▉      | 55/141 [00:08<00:15,  5.64it/s]"
     ]
    },
    {
     "name": "stderr",
     "output_type": "stream",
     "text": [
      "\r",
      " 40%|███▉      | 56/141 [00:09<00:21,  3.94it/s]"
     ]
    },
    {
     "name": "stderr",
     "output_type": "stream",
     "text": [
      "\r",
      " 41%|████      | 58/141 [00:09<00:17,  4.66it/s]"
     ]
    },
    {
     "name": "stderr",
     "output_type": "stream",
     "text": [
      "\r",
      " 43%|████▎     | 61/141 [00:09<00:11,  7.20it/s]"
     ]
    },
    {
     "name": "stderr",
     "output_type": "stream",
     "text": [
      "\r",
      " 45%|████▍     | 63/141 [00:10<00:09,  8.08it/s]"
     ]
    },
    {
     "name": "stderr",
     "output_type": "stream",
     "text": [
      "\r",
      " 46%|████▌     | 65/141 [00:10<00:10,  7.43it/s]"
     ]
    },
    {
     "name": "stderr",
     "output_type": "stream",
     "text": [
      "\r",
      " 48%|████▊     | 67/141 [00:10<00:11,  6.23it/s]"
     ]
    },
    {
     "name": "stderr",
     "output_type": "stream",
     "text": [
      "\r",
      " 50%|█████     | 71/141 [00:11<00:07,  9.27it/s]"
     ]
    },
    {
     "name": "stderr",
     "output_type": "stream",
     "text": [
      "\r",
      " 52%|█████▏    | 73/141 [00:11<00:07,  9.19it/s]"
     ]
    },
    {
     "name": "stderr",
     "output_type": "stream",
     "text": [
      "\r",
      " 53%|█████▎    | 75/141 [00:11<00:06, 10.61it/s]"
     ]
    },
    {
     "name": "stderr",
     "output_type": "stream",
     "text": [
      "\r",
      " 55%|█████▍    | 77/141 [00:12<00:10,  5.91it/s]"
     ]
    },
    {
     "name": "stderr",
     "output_type": "stream",
     "text": [
      "\r",
      " 56%|█████▌    | 79/141 [00:12<00:09,  6.60it/s]"
     ]
    },
    {
     "name": "stderr",
     "output_type": "stream",
     "text": [
      "\r",
      " 57%|█████▋    | 81/141 [00:12<00:08,  7.48it/s]"
     ]
    },
    {
     "name": "stderr",
     "output_type": "stream",
     "text": [
      "\r",
      " 60%|██████    | 85/141 [00:12<00:05,  9.85it/s]"
     ]
    },
    {
     "name": "stderr",
     "output_type": "stream",
     "text": [
      "\r",
      " 62%|██████▏   | 87/141 [00:13<00:07,  6.76it/s]"
     ]
    },
    {
     "name": "stderr",
     "output_type": "stream",
     "text": [
      "\r",
      " 63%|██████▎   | 89/141 [00:13<00:08,  6.24it/s]"
     ]
    },
    {
     "name": "stderr",
     "output_type": "stream",
     "text": [
      "\r",
      " 64%|██████▍   | 90/141 [00:14<00:09,  5.58it/s]"
     ]
    },
    {
     "name": "stderr",
     "output_type": "stream",
     "text": [
      "\r",
      " 65%|██████▍   | 91/141 [00:14<00:11,  4.25it/s]"
     ]
    },
    {
     "name": "stderr",
     "output_type": "stream",
     "text": [
      "\r",
      " 65%|██████▌   | 92/141 [00:14<00:10,  4.58it/s]"
     ]
    },
    {
     "name": "stderr",
     "output_type": "stream",
     "text": [
      "\r",
      " 66%|██████▌   | 93/141 [00:14<00:09,  5.07it/s]"
     ]
    },
    {
     "name": "stderr",
     "output_type": "stream",
     "text": [
      "\r",
      " 68%|██████▊   | 96/141 [00:14<00:05,  8.02it/s]"
     ]
    },
    {
     "name": "stderr",
     "output_type": "stream",
     "text": [
      "\r",
      " 70%|██████▉   | 98/141 [00:15<00:04,  9.90it/s]"
     ]
    },
    {
     "name": "stderr",
     "output_type": "stream",
     "text": [
      "\r",
      " 71%|███████   | 100/141 [00:15<00:05,  6.84it/s]"
     ]
    },
    {
     "name": "stderr",
     "output_type": "stream",
     "text": [
      "\r",
      " 72%|███████▏  | 102/141 [00:15<00:05,  6.82it/s]"
     ]
    },
    {
     "name": "stderr",
     "output_type": "stream",
     "text": [
      "\r",
      " 74%|███████▍  | 104/141 [00:16<00:05,  6.28it/s]"
     ]
    },
    {
     "name": "stderr",
     "output_type": "stream",
     "text": [
      "\r",
      " 75%|███████▌  | 106/141 [00:16<00:06,  5.73it/s]"
     ]
    },
    {
     "name": "stderr",
     "output_type": "stream",
     "text": [
      "\r",
      " 76%|███████▌  | 107/141 [00:16<00:06,  5.63it/s]"
     ]
    },
    {
     "name": "stderr",
     "output_type": "stream",
     "text": [
      "\r",
      " 77%|███████▋  | 108/141 [00:17<00:05,  5.77it/s]"
     ]
    },
    {
     "name": "stderr",
     "output_type": "stream",
     "text": [
      "\r",
      " 77%|███████▋  | 109/141 [00:17<00:05,  5.73it/s]"
     ]
    },
    {
     "name": "stderr",
     "output_type": "stream",
     "text": [
      "\r",
      " 78%|███████▊  | 110/141 [00:17<00:05,  6.18it/s]"
     ]
    },
    {
     "name": "stderr",
     "output_type": "stream",
     "text": [
      "\r",
      " 81%|████████  | 114/141 [00:17<00:04,  6.48it/s]"
     ]
    },
    {
     "name": "stderr",
     "output_type": "stream",
     "text": [
      "\r",
      " 82%|████████▏ | 116/141 [00:18<00:03,  6.80it/s]"
     ]
    },
    {
     "name": "stderr",
     "output_type": "stream",
     "text": [
      "\r",
      " 83%|████████▎ | 117/141 [00:18<00:03,  6.10it/s]"
     ]
    },
    {
     "name": "stderr",
     "output_type": "stream",
     "text": [
      "\r",
      " 86%|████████▌ | 121/141 [00:18<00:02,  6.86it/s]"
     ]
    },
    {
     "name": "stderr",
     "output_type": "stream",
     "text": [
      "\r",
      " 87%|████████▋ | 123/141 [00:19<00:03,  5.26it/s]"
     ]
    },
    {
     "name": "stderr",
     "output_type": "stream",
     "text": [
      "\r",
      " 88%|████████▊ | 124/141 [00:19<00:03,  5.64it/s]"
     ]
    },
    {
     "name": "stderr",
     "output_type": "stream",
     "text": [
      "\r",
      " 89%|████████▉ | 126/141 [00:19<00:02,  5.79it/s]"
     ]
    },
    {
     "name": "stderr",
     "output_type": "stream",
     "text": [
      "\r",
      " 91%|█████████ | 128/141 [00:20<00:01,  6.66it/s]"
     ]
    },
    {
     "name": "stderr",
     "output_type": "stream",
     "text": [
      "\r",
      " 93%|█████████▎| 131/141 [00:20<00:01,  7.07it/s]"
     ]
    },
    {
     "name": "stderr",
     "output_type": "stream",
     "text": [
      "\r",
      " 94%|█████████▍| 133/141 [00:20<00:01,  7.15it/s]"
     ]
    },
    {
     "name": "stderr",
     "output_type": "stream",
     "text": [
      "\r",
      " 95%|█████████▌| 134/141 [00:20<00:00,  7.07it/s]"
     ]
    },
    {
     "name": "stderr",
     "output_type": "stream",
     "text": [
      "\r",
      " 96%|█████████▋| 136/141 [00:21<00:00,  8.07it/s]"
     ]
    },
    {
     "name": "stderr",
     "output_type": "stream",
     "text": [
      "\r",
      " 98%|█████████▊| 138/141 [00:21<00:00,  6.16it/s]"
     ]
    },
    {
     "name": "stderr",
     "output_type": "stream",
     "text": [
      "\r",
      " 99%|█████████▊| 139/141 [00:22<00:00,  3.49it/s]"
     ]
    },
    {
     "name": "stderr",
     "output_type": "stream",
     "text": [
      "\r",
      " 99%|█████████▉| 140/141 [00:23<00:00,  2.27it/s]"
     ]
    },
    {
     "name": "stderr",
     "output_type": "stream",
     "text": [
      "\r",
      "100%|██████████| 141/141 [00:29<00:00,  1.63s/it]"
     ]
    },
    {
     "name": "stderr",
     "output_type": "stream",
     "text": [
      "\r",
      "100%|██████████| 141/141 [00:29<00:00,  4.84it/s]"
     ]
    },
    {
     "name": "stdout",
     "output_type": "stream",
     "text": [
      "\n",
      "rate limit: 7 \n",
      "Leeftijdsgroep API calls: create: 0, read: 1, update: 141, delete: 0, backoff: 3\n",
      "errors:\n",
      "  503: Service Unavailable: 4\n"
     ]
    },
    {
     "name": "stdout",
     "output_type": "stream",
     "text": [
      "[{'Key': 1, 'Timestamp Leeftijdsgroep RIVM': '2021-07-20 14:15'}]\n"
     ]
    },
    {
     "name": "stderr",
     "output_type": "stream",
     "text": [
      "\n"
     ]
    },
    {
     "name": "stdout",
     "output_type": "stream",
     "text": [
      "timestamps: [{'Key': 1, 'Timestamp Leeftijdsgroep RIVM': '2021-07-20 14:15'}]\n",
      "Key                               int64\n",
      "Timestamp Leeftijdsgroep RIVM    object\n",
      "dtype: object\n"
     ]
    },
    {
     "name": "stderr",
     "output_type": "stream",
     "text": [
      "\r",
      "  0%|          | 0/1 [00:00<?, ?it/s]"
     ]
    },
    {
     "name": "stderr",
     "output_type": "stream",
     "text": [
      "\r",
      "100%|██████████| 1/1 [00:01<00:00,  1.14s/it]"
     ]
    },
    {
     "name": "stderr",
     "output_type": "stream",
     "text": [
      "\r",
      "100%|██████████| 1/1 [00:01<00:00,  1.14s/it]"
     ]
    },
    {
     "name": "stdout",
     "output_type": "stream",
     "text": [
      "\n",
      "rate limit: 7 \n",
      "LaatsteUpdate API calls: create: 0, read: 0, update: 1, delete: 0, backoff: 0\n"
     ]
    },
    {
     "name": "stderr",
     "output_type": "stream",
     "text": [
      "\n"
     ]
    },
    {
     "name": "stdout",
     "output_type": "stream",
     "text": [
      "BatchName     object\n",
      "ObjectName    object\n",
      "Source        object\n",
      "Timestamp     object\n",
      "dtype: object\n"
     ]
    },
    {
     "name": "stderr",
     "output_type": "stream",
     "text": [
      "\r",
      "  0%|          | 0/1 [00:00<?, ?it/s]"
     ]
    },
    {
     "name": "stderr",
     "output_type": "stream",
     "text": [
      "\r",
      "100%|██████████| 1/1 [00:02<00:00,  2.98s/it]"
     ]
    },
    {
     "name": "stderr",
     "output_type": "stream",
     "text": [
      "\r",
      "100%|██████████| 1/1 [00:02<00:00,  2.98s/it]"
     ]
    },
    {
     "name": "stdout",
     "output_type": "stream",
     "text": [
      "\n",
      "rate limit: 7 \n",
      "UpdateDetails API calls: create: 1, read: 0, update: 0, delete: 0, backoff: 0\n"
     ]
    },
    {
     "name": "stderr",
     "output_type": "stream",
     "text": [
      "\n"
     ]
    },
    {
     "name": "stdout",
     "output_type": "stream",
     "text": [
      "updating: [{'Key': 1, 'Updating Leeftijdsgroep': 'false'}]\n",
      "Key                         int64\n",
      "Updating Leeftijdsgroep    object\n",
      "dtype: object\n"
     ]
    },
    {
     "name": "stderr",
     "output_type": "stream",
     "text": [
      "\r",
      "  0%|          | 0/1 [00:00<?, ?it/s]"
     ]
    },
    {
     "name": "stderr",
     "output_type": "stream",
     "text": [
      "\r",
      "100%|██████████| 1/1 [00:08<00:00,  8.75s/it]"
     ]
    },
    {
     "name": "stderr",
     "output_type": "stream",
     "text": [
      "\r",
      "100%|██████████| 1/1 [00:08<00:00,  8.75s/it]"
     ]
    },
    {
     "name": "stdout",
     "output_type": "stream",
     "text": [
      "\n",
      "rate limit: 7 \n",
      "LaatsteUpdate API calls: create: 0, read: 0, update: 1, delete: 0, backoff: 0\n"
     ]
    },
    {
     "name": "stderr",
     "output_type": "stream",
     "text": [
      "\n"
     ]
    }
   ],
   "source": [
    "if knack:\n",
    "  await knack.publish(tabel.fillna(0).assign(Datum=tabel.Datum.dt.strftime('%Y-%m-%d')), 'Leeftijdsgroep', Cache)"
   ]
  }
 ],
 "metadata": {
  "jupytext": {
   "cell_metadata_filter": "title,-all"
  },
  "kernelspec": {
   "display_name": "Python 3 (ipykernel)",
   "language": "python",
   "name": "python3"
  },
  "language_info": {
   "codemirror_mode": {
    "name": "ipython",
    "version": 3
   },
   "file_extension": ".py",
   "mimetype": "text/x-python",
   "name": "python",
   "nbconvert_exporter": "python",
   "pygments_lexer": "ipython3",
   "version": "3.9.6"
  },
  "papermill": {
   "default_parameters": {},
   "duration": 281.245056,
   "end_time": "2021-07-20T13:33:22.508251",
   "environment_variables": {},
   "exception": null,
   "input_path": "-",
   "output_path": "LeeftijdsgroepenLandelijk.ipynb",
   "parameters": {},
   "start_time": "2021-07-20T13:28:41.263195",
   "version": "2.3.3"
  }
 },
 "nbformat": 4,
 "nbformat_minor": 5
}