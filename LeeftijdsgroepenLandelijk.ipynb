{
 "cells": [
  {
   "cell_type": "code",
   "execution_count": 1,
   "id": "517a6331",
   "metadata": {
    "execution": {
     "iopub.execute_input": "2021-04-17T13:32:02.104179Z",
     "iopub.status.busy": "2021-04-17T13:32:02.100585Z",
     "iopub.status.idle": "2021-04-17T13:32:06.257009Z",
     "shell.execute_reply": "2021-04-17T13:32:06.256300Z"
    },
    "lines_to_next_cell": 1,
    "papermill": {
     "duration": 4.171503,
     "end_time": "2021-04-17T13:32:06.257210",
     "exception": false,
     "start_time": "2021-04-17T13:32:02.085707",
     "status": "completed"
    },
    "tags": []
   },
   "outputs": [],
   "source": [
    "from IPython import get_ipython\n",
    "from IPython.core.display import display\n",
    "get_ipython().run_line_magic('load_ext', 'autoreload')\n",
    "get_ipython().run_line_magic('autoreload', '2')\n",
    "get_ipython().run_line_magic('run', 'setup')"
   ]
  },
  {
   "cell_type": "code",
   "execution_count": 2,
   "id": "16a9bdf4",
   "metadata": {
    "execution": {
     "iopub.execute_input": "2021-04-17T13:32:06.273908Z",
     "iopub.status.busy": "2021-04-17T13:32:06.272614Z",
     "iopub.status.idle": "2021-04-17T13:34:52.808341Z",
     "shell.execute_reply": "2021-04-17T13:34:52.808879Z"
    },
    "lines_to_next_cell": 1,
    "papermill": {
     "duration": 166.545315,
     "end_time": "2021-04-17T13:34:52.809067",
     "exception": false,
     "start_time": "2021-04-17T13:32:06.263752",
     "status": "completed"
    },
    "tags": [],
    "title": "leeftijdsgroepen: download RIVM data"
   },
   "outputs": [
    {
     "name": "stdout",
     "output_type": "stream",
     "text": [
      "downloading rivm/COVID-19_casus_landelijk-2021-04-17@13-15.csv\n"
     ]
    },
    {
     "name": "stdout",
     "output_type": "stream",
     "text": [
      "rivm COVID-19_casus_landelijk zipping rivm/COVID-19_casus_landelijk-2021-04-17@13-15.csv\n"
     ]
    },
    {
     "name": "stdout",
     "output_type": "stream",
     "text": [
      "loading rivm/COVID-19_casus_landelijk-2021-04-17@13-15.csv.gz\n"
     ]
    },
    {
     "data": {
      "text/html": [
       "<div>\n",
       "<style scoped>\n",
       "    .dataframe tbody tr th:only-of-type {\n",
       "        vertical-align: middle;\n",
       "    }\n",
       "\n",
       "    .dataframe tbody tr th {\n",
       "        vertical-align: top;\n",
       "    }\n",
       "\n",
       "    .dataframe thead th {\n",
       "        text-align: right;\n",
       "    }\n",
       "</style>\n",
       "<table border=\"1\" class=\"dataframe\">\n",
       "  <thead>\n",
       "    <tr style=\"text-align: right;\">\n",
       "      <th></th>\n",
       "      <th>Date_file</th>\n",
       "      <th>Date_statistics</th>\n",
       "      <th>Date_statistics_type</th>\n",
       "      <th>Agegroup</th>\n",
       "      <th>Sex</th>\n",
       "      <th>Province</th>\n",
       "      <th>Hospital_admission</th>\n",
       "      <th>Deceased</th>\n",
       "      <th>Week_of_death</th>\n",
       "      <th>Municipal_health_service</th>\n",
       "    </tr>\n",
       "  </thead>\n",
       "  <tbody>\n",
       "    <tr>\n",
       "      <th>0</th>\n",
       "      <td>2021-04-17 10:00:00</td>\n",
       "      <td>2020-01-01</td>\n",
       "      <td>DOO</td>\n",
       "      <td>40-49</td>\n",
       "      <td>Female</td>\n",
       "      <td>Noord-Holland</td>\n",
       "      <td>No</td>\n",
       "      <td>No</td>\n",
       "      <td>NaN</td>\n",
       "      <td>GGD Amsterdam</td>\n",
       "    </tr>\n",
       "    <tr>\n",
       "      <th>1</th>\n",
       "      <td>2021-04-17 10:00:00</td>\n",
       "      <td>2020-01-01</td>\n",
       "      <td>DOO</td>\n",
       "      <td>50-59</td>\n",
       "      <td>Male</td>\n",
       "      <td>Gelderland</td>\n",
       "      <td>No</td>\n",
       "      <td>No</td>\n",
       "      <td>NaN</td>\n",
       "      <td>Veiligheids- en Gezondheidsregio Gelderland-Mi...</td>\n",
       "    </tr>\n",
       "    <tr>\n",
       "      <th>2</th>\n",
       "      <td>2021-04-17 10:00:00</td>\n",
       "      <td>2020-01-01</td>\n",
       "      <td>DOO</td>\n",
       "      <td>20-29</td>\n",
       "      <td>Female</td>\n",
       "      <td>Zuid-Holland</td>\n",
       "      <td>No</td>\n",
       "      <td>No</td>\n",
       "      <td>NaN</td>\n",
       "      <td>GGD Hollands-Midden</td>\n",
       "    </tr>\n",
       "    <tr>\n",
       "      <th>3</th>\n",
       "      <td>2021-04-17 10:00:00</td>\n",
       "      <td>2020-01-01</td>\n",
       "      <td>DOO</td>\n",
       "      <td>60-69</td>\n",
       "      <td>Female</td>\n",
       "      <td>Noord-Holland</td>\n",
       "      <td>No</td>\n",
       "      <td>No</td>\n",
       "      <td>NaN</td>\n",
       "      <td>GGD Hollands-Noorden</td>\n",
       "    </tr>\n",
       "    <tr>\n",
       "      <th>4</th>\n",
       "      <td>2021-04-17 10:00:00</td>\n",
       "      <td>2020-01-04</td>\n",
       "      <td>DOO</td>\n",
       "      <td>10-19</td>\n",
       "      <td>Female</td>\n",
       "      <td>Gelderland</td>\n",
       "      <td>Unknown</td>\n",
       "      <td>No</td>\n",
       "      <td>NaN</td>\n",
       "      <td>GGD Gelderland-Zuid</td>\n",
       "    </tr>\n",
       "  </tbody>\n",
       "</table>\n",
       "</div>"
      ],
      "text/plain": [
       "             Date_file Date_statistics Date_statistics_type Agegroup     Sex  \\\n",
       "0  2021-04-17 10:00:00      2020-01-01                  DOO    40-49  Female   \n",
       "1  2021-04-17 10:00:00      2020-01-01                  DOO    50-59    Male   \n",
       "2  2021-04-17 10:00:00      2020-01-01                  DOO    20-29  Female   \n",
       "3  2021-04-17 10:00:00      2020-01-01                  DOO    60-69  Female   \n",
       "4  2021-04-17 10:00:00      2020-01-04                  DOO    10-19  Female   \n",
       "\n",
       "        Province Hospital_admission Deceased  Week_of_death  \\\n",
       "0  Noord-Holland                 No       No            NaN   \n",
       "1     Gelderland                 No       No            NaN   \n",
       "2   Zuid-Holland                 No       No            NaN   \n",
       "3  Noord-Holland                 No       No            NaN   \n",
       "4     Gelderland            Unknown       No            NaN   \n",
       "\n",
       "                            Municipal_health_service  \n",
       "0                                      GGD Amsterdam  \n",
       "1  Veiligheids- en Gezondheidsregio Gelderland-Mi...  \n",
       "2                                GGD Hollands-Midden  \n",
       "3                               GGD Hollands-Noorden  \n",
       "4                                GGD Gelderland-Zuid  "
      ]
     },
     "metadata": {},
     "output_type": "display_data"
    }
   ],
   "source": [
    "#leeftijdsgroepen = SimpleNamespace()\n",
    "@run\n",
    "def cell():\n",
    "  global rivm\n",
    "  rivm = RIVM.csv('COVID-19_casus_landelijk')\n",
    "  display(rivm.head())"
   ]
  },
  {
   "cell_type": "code",
   "execution_count": 3,
   "id": "cf99fe92",
   "metadata": {
    "execution": {
     "iopub.execute_input": "2021-04-17T13:34:52.828737Z",
     "iopub.status.busy": "2021-04-17T13:34:52.827768Z",
     "iopub.status.idle": "2021-04-17T13:34:55.664939Z",
     "shell.execute_reply": "2021-04-17T13:34:55.664429Z"
    },
    "lines_to_next_cell": 1,
    "papermill": {
     "duration": 2.848046,
     "end_time": "2021-04-17T13:34:55.665097",
     "exception": false,
     "start_time": "2021-04-17T13:34:52.817051",
     "status": "completed"
    },
    "tags": [],
    "title": "Download de bevolkings cijfers van CBS, uitgesplitst op de leeftijds categorien in de dataset van het RIVM"
   },
   "outputs": [],
   "source": [
    "@run\n",
    "def cell():\n",
    "  global bevolking\n",
    "  bevolking = CBS.bevolking(leeftijdsgroepen=True)"
   ]
  },
  {
   "cell_type": "code",
   "execution_count": 4,
   "id": "7e072a81",
   "metadata": {
    "execution": {
     "iopub.execute_input": "2021-04-17T13:34:55.690213Z",
     "iopub.status.busy": "2021-04-17T13:34:55.679392Z",
     "iopub.status.idle": "2021-04-17T13:35:01.960753Z",
     "shell.execute_reply": "2021-04-17T13:35:01.961315Z"
    },
    "lines_to_next_cell": 1,
    "papermill": {
     "duration": 6.290251,
     "end_time": "2021-04-17T13:35:01.961517",
     "exception": false,
     "start_time": "2021-04-17T13:34:55.671266",
     "status": "completed"
    },
    "tags": [],
    "title": "leeftijdsgroepen: prepareer tabel"
   },
   "outputs": [
    {
     "data": {
      "text/html": [
       "<style  type=\"text/css\" >\n",
       "#T_6fff5_row0_col7{\n",
       "            background-color:  #21a685;\n",
       "            color:  #000000;\n",
       "        }#T_6fff5_row0_col8{\n",
       "            background-color:  #46327e;\n",
       "            color:  #f1f1f1;\n",
       "        }#T_6fff5_row0_col9,#T_6fff5_row1_col9,#T_6fff5_row2_col9,#T_6fff5_row3_col9,#T_6fff5_row4_col9{\n",
       "            background-color:  #440154;\n",
       "            color:  #f1f1f1;\n",
       "        }#T_6fff5_row0_col10{\n",
       "            background-color:  #3b528b;\n",
       "            color:  #f1f1f1;\n",
       "        }#T_6fff5_row0_col11{\n",
       "            background-color:  #3d4d8a;\n",
       "            color:  #f1f1f1;\n",
       "        }#T_6fff5_row0_col12{\n",
       "            background-color:  #423f85;\n",
       "            color:  #f1f1f1;\n",
       "        }#T_6fff5_row0_col13{\n",
       "            background-color:  #22a884;\n",
       "            color:  #000000;\n",
       "        }#T_6fff5_row0_col14{\n",
       "            background-color:  #67cc5c;\n",
       "            color:  #000000;\n",
       "        }#T_6fff5_row0_col15{\n",
       "            background-color:  #dfe318;\n",
       "            color:  #000000;\n",
       "        }#T_6fff5_row0_col16{\n",
       "            background-color:  #f8e621;\n",
       "            color:  #000000;\n",
       "        }#T_6fff5_row0_col17,#T_6fff5_row1_col17,#T_6fff5_row2_col17,#T_6fff5_row3_col17,#T_6fff5_row4_col17{\n",
       "            background-color:  #fde725;\n",
       "            color:  #000000;\n",
       "        }#T_6fff5_row1_col7{\n",
       "            background-color:  #25ac82;\n",
       "            color:  #000000;\n",
       "        }#T_6fff5_row1_col8{\n",
       "            background-color:  #472a7a;\n",
       "            color:  #f1f1f1;\n",
       "        }#T_6fff5_row1_col10{\n",
       "            background-color:  #453781;\n",
       "            color:  #f1f1f1;\n",
       "        }#T_6fff5_row1_col11{\n",
       "            background-color:  #472f7d;\n",
       "            color:  #f1f1f1;\n",
       "        }#T_6fff5_row1_col12,#T_6fff5_row4_col8{\n",
       "            background-color:  #482071;\n",
       "            color:  #f1f1f1;\n",
       "        }#T_6fff5_row1_col13{\n",
       "            background-color:  #21918c;\n",
       "            color:  #000000;\n",
       "        }#T_6fff5_row1_col14{\n",
       "            background-color:  #50c46a;\n",
       "            color:  #000000;\n",
       "        }#T_6fff5_row1_col15{\n",
       "            background-color:  #d5e21a;\n",
       "            color:  #000000;\n",
       "        }#T_6fff5_row1_col16,#T_6fff5_row2_col16{\n",
       "            background-color:  #f6e620;\n",
       "            color:  #000000;\n",
       "        }#T_6fff5_row2_col7{\n",
       "            background-color:  #1f9e89;\n",
       "            color:  #000000;\n",
       "        }#T_6fff5_row2_col8{\n",
       "            background-color:  #472d7b;\n",
       "            color:  #f1f1f1;\n",
       "        }#T_6fff5_row2_col10{\n",
       "            background-color:  #46337f;\n",
       "            color:  #f1f1f1;\n",
       "        }#T_6fff5_row2_col11{\n",
       "            background-color:  #472c7a;\n",
       "            color:  #f1f1f1;\n",
       "        }#T_6fff5_row2_col12,#T_6fff5_row3_col11{\n",
       "            background-color:  #481f70;\n",
       "            color:  #f1f1f1;\n",
       "        }#T_6fff5_row2_col13,#T_6fff5_row3_col13{\n",
       "            background-color:  #23898e;\n",
       "            color:  #000000;\n",
       "        }#T_6fff5_row2_col14,#T_6fff5_row4_col14{\n",
       "            background-color:  #48c16e;\n",
       "            color:  #000000;\n",
       "        }#T_6fff5_row2_col15{\n",
       "            background-color:  #cde11d;\n",
       "            color:  #000000;\n",
       "        }#T_6fff5_row3_col7{\n",
       "            background-color:  #1f988b;\n",
       "            color:  #000000;\n",
       "        }#T_6fff5_row3_col8,#T_6fff5_row3_col12,#T_6fff5_row4_col12{\n",
       "            background-color:  #48186a;\n",
       "            color:  #f1f1f1;\n",
       "        }#T_6fff5_row3_col10{\n",
       "            background-color:  #482878;\n",
       "            color:  #f1f1f1;\n",
       "        }#T_6fff5_row3_col14{\n",
       "            background-color:  #3fbc73;\n",
       "            color:  #000000;\n",
       "        }#T_6fff5_row3_col15{\n",
       "            background-color:  #c0df25;\n",
       "            color:  #000000;\n",
       "        }#T_6fff5_row3_col16,#T_6fff5_row4_col16{\n",
       "            background-color:  #f4e61e;\n",
       "            color:  #000000;\n",
       "        }#T_6fff5_row4_col7{\n",
       "            background-color:  #1f958b;\n",
       "            color:  #000000;\n",
       "        }#T_6fff5_row4_col10,#T_6fff5_row4_col11{\n",
       "            background-color:  #482475;\n",
       "            color:  #f1f1f1;\n",
       "        }#T_6fff5_row4_col13{\n",
       "            background-color:  #24878e;\n",
       "            color:  #000000;\n",
       "        }#T_6fff5_row4_col15{\n",
       "            background-color:  #bddf26;\n",
       "            color:  #000000;\n",
       "        }</style><table id=\"T_6fff5_\" ><thead>    <tr>        <th class=\"blank level0\" ></th>        <th class=\"col_heading level0 col0\" >Key</th>        <th class=\"col_heading level0 col1\" >Weken terug</th>        <th class=\"col_heading level0 col2\" >Datum</th>        <th class=\"col_heading level0 col3\" >Periode</th>        <th class=\"col_heading level0 col4\" >Gemiddelde leeftijd</th>        <th class=\"col_heading level0 col5\" >Totaal</th>        <th class=\"col_heading level0 col6\" >Type</th>        <th class=\"col_heading level0 col7\" >0-9</th>        <th class=\"col_heading level0 col8\" >10-19</th>        <th class=\"col_heading level0 col9\" >20-29</th>        <th class=\"col_heading level0 col10\" >30-39</th>        <th class=\"col_heading level0 col11\" >40-49</th>        <th class=\"col_heading level0 col12\" >50-59</th>        <th class=\"col_heading level0 col13\" >60-69</th>        <th class=\"col_heading level0 col14\" >70-79</th>        <th class=\"col_heading level0 col15\" >80-89</th>        <th class=\"col_heading level0 col16\" >90+</th>        <th class=\"col_heading level0 col17\" >Onbekend</th>        <th class=\"col_heading level0 col18\" >c0-9</th>        <th class=\"col_heading level0 col19\" >c10-19</th>        <th class=\"col_heading level0 col20\" >c20-29</th>        <th class=\"col_heading level0 col21\" >c30-39</th>        <th class=\"col_heading level0 col22\" >c40-49</th>        <th class=\"col_heading level0 col23\" >c50-59</th>        <th class=\"col_heading level0 col24\" >c60-69</th>        <th class=\"col_heading level0 col25\" >c70-79</th>        <th class=\"col_heading level0 col26\" >c80-89</th>        <th class=\"col_heading level0 col27\" >c90+</th>        <th class=\"col_heading level0 col28\" >cOnbekend</th>    </tr></thead><tbody>\n",
       "                <tr>\n",
       "                        <th id=\"T_6fff5_level0_row0\" class=\"row_heading level0 row0\" >0</th>\n",
       "                        <td id=\"T_6fff5_row0_col0\" class=\"data row0 col0\" >p000</td>\n",
       "                        <td id=\"T_6fff5_row0_col1\" class=\"data row0 col1\" >0</td>\n",
       "                        <td id=\"T_6fff5_row0_col2\" class=\"data row0 col2\" >2021-04-17 00:00:00</td>\n",
       "                        <td id=\"T_6fff5_row0_col3\" class=\"data row0 col3\" >11/04-17/04</td>\n",
       "                        <td id=\"T_6fff5_row0_col4\" class=\"data row0 col4\" >36.700000</td>\n",
       "                        <td id=\"T_6fff5_row0_col5\" class=\"data row0 col5\" >30755.000000</td>\n",
       "                        <td id=\"T_6fff5_row0_col6\" class=\"data row0 col6\" >Positief getest</td>\n",
       "                        <td id=\"T_6fff5_row0_col7\" class=\"data row0 col7\" >2373.000000</td>\n",
       "                        <td id=\"T_6fff5_row0_col8\" class=\"data row0 col8\" >4997.000000</td>\n",
       "                        <td id=\"T_6fff5_row0_col9\" class=\"data row0 col9\" >5819.000000</td>\n",
       "                        <td id=\"T_6fff5_row0_col10\" class=\"data row0 col10\" >4354.000000</td>\n",
       "                        <td id=\"T_6fff5_row0_col11\" class=\"data row0 col11\" >4458.000000</td>\n",
       "                        <td id=\"T_6fff5_row0_col12\" class=\"data row0 col12\" >4731.000000</td>\n",
       "                        <td id=\"T_6fff5_row0_col13\" class=\"data row0 col13\" >2332.000000</td>\n",
       "                        <td id=\"T_6fff5_row0_col14\" class=\"data row0 col14\" >1342.000000</td>\n",
       "                        <td id=\"T_6fff5_row0_col15\" class=\"data row0 col15\" >285.000000</td>\n",
       "                        <td id=\"T_6fff5_row0_col16\" class=\"data row0 col16\" >64.000000</td>\n",
       "                        <td id=\"T_6fff5_row0_col17\" class=\"data row0 col17\" >0.000000</td>\n",
       "                        <td id=\"T_6fff5_row0_col18\" class=\"data row0 col18\" >407</td>\n",
       "                        <td id=\"T_6fff5_row0_col19\" class=\"data row0 col19\" >858</td>\n",
       "                        <td id=\"T_6fff5_row0_col20\" class=\"data row0 col20\" >1000</td>\n",
       "                        <td id=\"T_6fff5_row0_col21\" class=\"data row0 col21\" >748</td>\n",
       "                        <td id=\"T_6fff5_row0_col22\" class=\"data row0 col22\" >766</td>\n",
       "                        <td id=\"T_6fff5_row0_col23\" class=\"data row0 col23\" >813</td>\n",
       "                        <td id=\"T_6fff5_row0_col24\" class=\"data row0 col24\" >400</td>\n",
       "                        <td id=\"T_6fff5_row0_col25\" class=\"data row0 col25\" >230</td>\n",
       "                        <td id=\"T_6fff5_row0_col26\" class=\"data row0 col26\" >48</td>\n",
       "                        <td id=\"T_6fff5_row0_col27\" class=\"data row0 col27\" >10</td>\n",
       "                        <td id=\"T_6fff5_row0_col28\" class=\"data row0 col28\" >0</td>\n",
       "            </tr>\n",
       "            <tr>\n",
       "                        <th id=\"T_6fff5_level0_row1\" class=\"row_heading level0 row1\" >1</th>\n",
       "                        <td id=\"T_6fff5_row1_col0\" class=\"data row1 col0\" >p001</td>\n",
       "                        <td id=\"T_6fff5_row1_col1\" class=\"data row1 col1\" >1</td>\n",
       "                        <td id=\"T_6fff5_row1_col2\" class=\"data row1 col2\" >2021-04-17 00:00:00</td>\n",
       "                        <td id=\"T_6fff5_row1_col3\" class=\"data row1 col3\" >04/04-10/04</td>\n",
       "                        <td id=\"T_6fff5_row1_col4\" class=\"data row1 col4\" >38.100000</td>\n",
       "                        <td id=\"T_6fff5_row1_col5\" class=\"data row1 col5\" >48413.000000</td>\n",
       "                        <td id=\"T_6fff5_row1_col6\" class=\"data row1 col6\" >Positief getest</td>\n",
       "                        <td id=\"T_6fff5_row1_col7\" class=\"data row1 col7\" >3234.000000</td>\n",
       "                        <td id=\"T_6fff5_row1_col8\" class=\"data row1 col8\" >7442.000000</td>\n",
       "                        <td id=\"T_6fff5_row1_col9\" class=\"data row1 col9\" >8447.000000</td>\n",
       "                        <td id=\"T_6fff5_row1_col10\" class=\"data row1 col10\" >7125.000000</td>\n",
       "                        <td id=\"T_6fff5_row1_col11\" class=\"data row1 col11\" >7304.000000</td>\n",
       "                        <td id=\"T_6fff5_row1_col12\" class=\"data row1 col12\" >7693.000000</td>\n",
       "                        <td id=\"T_6fff5_row1_col13\" class=\"data row1 col13\" >4205.000000</td>\n",
       "                        <td id=\"T_6fff5_row1_col14\" class=\"data row1 col14\" >2327.000000</td>\n",
       "                        <td id=\"T_6fff5_row1_col15\" class=\"data row1 col15\" >535.000000</td>\n",
       "                        <td id=\"T_6fff5_row1_col16\" class=\"data row1 col16\" >101.000000</td>\n",
       "                        <td id=\"T_6fff5_row1_col17\" class=\"data row1 col17\" >0.000000</td>\n",
       "                        <td id=\"T_6fff5_row1_col18\" class=\"data row1 col18\" >382</td>\n",
       "                        <td id=\"T_6fff5_row1_col19\" class=\"data row1 col19\" >881</td>\n",
       "                        <td id=\"T_6fff5_row1_col20\" class=\"data row1 col20\" >1000</td>\n",
       "                        <td id=\"T_6fff5_row1_col21\" class=\"data row1 col21\" >843</td>\n",
       "                        <td id=\"T_6fff5_row1_col22\" class=\"data row1 col22\" >864</td>\n",
       "                        <td id=\"T_6fff5_row1_col23\" class=\"data row1 col23\" >910</td>\n",
       "                        <td id=\"T_6fff5_row1_col24\" class=\"data row1 col24\" >497</td>\n",
       "                        <td id=\"T_6fff5_row1_col25\" class=\"data row1 col25\" >275</td>\n",
       "                        <td id=\"T_6fff5_row1_col26\" class=\"data row1 col26\" >63</td>\n",
       "                        <td id=\"T_6fff5_row1_col27\" class=\"data row1 col27\" >11</td>\n",
       "                        <td id=\"T_6fff5_row1_col28\" class=\"data row1 col28\" >0</td>\n",
       "            </tr>\n",
       "            <tr>\n",
       "                        <th id=\"T_6fff5_level0_row2\" class=\"row_heading level0 row2\" >2</th>\n",
       "                        <td id=\"T_6fff5_row2_col0\" class=\"data row2 col0\" >p002</td>\n",
       "                        <td id=\"T_6fff5_row2_col1\" class=\"data row2 col1\" >2</td>\n",
       "                        <td id=\"T_6fff5_row2_col2\" class=\"data row2 col2\" >2021-04-17 00:00:00</td>\n",
       "                        <td id=\"T_6fff5_row2_col3\" class=\"data row2 col3\" >28/03-03/04</td>\n",
       "                        <td id=\"T_6fff5_row2_col4\" class=\"data row2 col4\" >38.100000</td>\n",
       "                        <td id=\"T_6fff5_row2_col5\" class=\"data row2 col5\" >47799.000000</td>\n",
       "                        <td id=\"T_6fff5_row2_col6\" class=\"data row2 col6\" >Positief getest</td>\n",
       "                        <td id=\"T_6fff5_row2_col7\" class=\"data row2 col7\" >3613.000000</td>\n",
       "                        <td id=\"T_6fff5_row2_col8\" class=\"data row2 col8\" >7106.000000</td>\n",
       "                        <td id=\"T_6fff5_row2_col9\" class=\"data row2 col9\" >8138.000000</td>\n",
       "                        <td id=\"T_6fff5_row2_col10\" class=\"data row2 col10\" >6956.000000</td>\n",
       "                        <td id=\"T_6fff5_row2_col11\" class=\"data row2 col11\" >7134.000000</td>\n",
       "                        <td id=\"T_6fff5_row2_col12\" class=\"data row2 col12\" >7441.000000</td>\n",
       "                        <td id=\"T_6fff5_row2_col13\" class=\"data row2 col13\" >4311.000000</td>\n",
       "                        <td id=\"T_6fff5_row2_col14\" class=\"data row2 col14\" >2367.000000</td>\n",
       "                        <td id=\"T_6fff5_row2_col15\" class=\"data row2 col15\" >624.000000</td>\n",
       "                        <td id=\"T_6fff5_row2_col16\" class=\"data row2 col16\" >107.000000</td>\n",
       "                        <td id=\"T_6fff5_row2_col17\" class=\"data row2 col17\" >2.000000</td>\n",
       "                        <td id=\"T_6fff5_row2_col18\" class=\"data row2 col18\" >443</td>\n",
       "                        <td id=\"T_6fff5_row2_col19\" class=\"data row2 col19\" >873</td>\n",
       "                        <td id=\"T_6fff5_row2_col20\" class=\"data row2 col20\" >1000</td>\n",
       "                        <td id=\"T_6fff5_row2_col21\" class=\"data row2 col21\" >854</td>\n",
       "                        <td id=\"T_6fff5_row2_col22\" class=\"data row2 col22\" >876</td>\n",
       "                        <td id=\"T_6fff5_row2_col23\" class=\"data row2 col23\" >914</td>\n",
       "                        <td id=\"T_6fff5_row2_col24\" class=\"data row2 col24\" >529</td>\n",
       "                        <td id=\"T_6fff5_row2_col25\" class=\"data row2 col25\" >290</td>\n",
       "                        <td id=\"T_6fff5_row2_col26\" class=\"data row2 col26\" >76</td>\n",
       "                        <td id=\"T_6fff5_row2_col27\" class=\"data row2 col27\" >13</td>\n",
       "                        <td id=\"T_6fff5_row2_col28\" class=\"data row2 col28\" >0</td>\n",
       "            </tr>\n",
       "            <tr>\n",
       "                        <th id=\"T_6fff5_level0_row3\" class=\"row_heading level0 row3\" >3</th>\n",
       "                        <td id=\"T_6fff5_row3_col0\" class=\"data row3 col0\" >p003</td>\n",
       "                        <td id=\"T_6fff5_row3_col1\" class=\"data row3 col1\" >3</td>\n",
       "                        <td id=\"T_6fff5_row3_col2\" class=\"data row3 col2\" >2021-04-17 00:00:00</td>\n",
       "                        <td id=\"T_6fff5_row3_col3\" class=\"data row3 col3\" >21/03-27/03</td>\n",
       "                        <td id=\"T_6fff5_row3_col4\" class=\"data row3 col4\" >38.200000</td>\n",
       "                        <td id=\"T_6fff5_row3_col5\" class=\"data row3 col5\" >51176.000000</td>\n",
       "                        <td id=\"T_6fff5_row3_col6\" class=\"data row3 col6\" >Positief getest</td>\n",
       "                        <td id=\"T_6fff5_row3_col7\" class=\"data row3 col7\" >3904.000000</td>\n",
       "                        <td id=\"T_6fff5_row3_col8\" class=\"data row3 col8\" >7847.000000</td>\n",
       "                        <td id=\"T_6fff5_row3_col9\" class=\"data row3 col9\" >8396.000000</td>\n",
       "                        <td id=\"T_6fff5_row3_col10\" class=\"data row3 col10\" >7464.000000</td>\n",
       "                        <td id=\"T_6fff5_row3_col11\" class=\"data row3 col11\" >7696.000000</td>\n",
       "                        <td id=\"T_6fff5_row3_col12\" class=\"data row3 col12\" >7858.000000</td>\n",
       "                        <td id=\"T_6fff5_row3_col13\" class=\"data row3 col13\" >4441.000000</td>\n",
       "                        <td id=\"T_6fff5_row3_col14\" class=\"data row3 col14\" >2620.000000</td>\n",
       "                        <td id=\"T_6fff5_row3_col15\" class=\"data row3 col15\" >798.000000</td>\n",
       "                        <td id=\"T_6fff5_row3_col16\" class=\"data row3 col16\" >151.000000</td>\n",
       "                        <td id=\"T_6fff5_row3_col17\" class=\"data row3 col17\" >1.000000</td>\n",
       "                        <td id=\"T_6fff5_row3_col18\" class=\"data row3 col18\" >464</td>\n",
       "                        <td id=\"T_6fff5_row3_col19\" class=\"data row3 col19\" >934</td>\n",
       "                        <td id=\"T_6fff5_row3_col20\" class=\"data row3 col20\" >1000</td>\n",
       "                        <td id=\"T_6fff5_row3_col21\" class=\"data row3 col21\" >888</td>\n",
       "                        <td id=\"T_6fff5_row3_col22\" class=\"data row3 col22\" >916</td>\n",
       "                        <td id=\"T_6fff5_row3_col23\" class=\"data row3 col23\" >935</td>\n",
       "                        <td id=\"T_6fff5_row3_col24\" class=\"data row3 col24\" >528</td>\n",
       "                        <td id=\"T_6fff5_row3_col25\" class=\"data row3 col25\" >312</td>\n",
       "                        <td id=\"T_6fff5_row3_col26\" class=\"data row3 col26\" >95</td>\n",
       "                        <td id=\"T_6fff5_row3_col27\" class=\"data row3 col27\" >17</td>\n",
       "                        <td id=\"T_6fff5_row3_col28\" class=\"data row3 col28\" >0</td>\n",
       "            </tr>\n",
       "            <tr>\n",
       "                        <th id=\"T_6fff5_level0_row4\" class=\"row_heading level0 row4\" >4</th>\n",
       "                        <td id=\"T_6fff5_row4_col0\" class=\"data row4 col0\" >p004</td>\n",
       "                        <td id=\"T_6fff5_row4_col1\" class=\"data row4 col1\" >4</td>\n",
       "                        <td id=\"T_6fff5_row4_col2\" class=\"data row4 col2\" >2021-04-17 00:00:00</td>\n",
       "                        <td id=\"T_6fff5_row4_col3\" class=\"data row4 col3\" >14/03-20/03</td>\n",
       "                        <td id=\"T_6fff5_row4_col4\" class=\"data row4 col4\" >38.100000</td>\n",
       "                        <td id=\"T_6fff5_row4_col5\" class=\"data row4 col5\" >46406.000000</td>\n",
       "                        <td id=\"T_6fff5_row4_col6\" class=\"data row4 col6\" >Positief getest</td>\n",
       "                        <td id=\"T_6fff5_row4_col7\" class=\"data row4 col7\" >3650.000000</td>\n",
       "                        <td id=\"T_6fff5_row4_col8\" class=\"data row4 col8\" >6964.000000</td>\n",
       "                        <td id=\"T_6fff5_row4_col9\" class=\"data row4 col9\" >7638.000000</td>\n",
       "                        <td id=\"T_6fff5_row4_col10\" class=\"data row4 col10\" >6885.000000</td>\n",
       "                        <td id=\"T_6fff5_row4_col11\" class=\"data row4 col11\" >6892.000000</td>\n",
       "                        <td id=\"T_6fff5_row4_col12\" class=\"data row4 col12\" >7155.000000</td>\n",
       "                        <td id=\"T_6fff5_row4_col13\" class=\"data row4 col13\" >4100.000000</td>\n",
       "                        <td id=\"T_6fff5_row4_col14\" class=\"data row4 col14\" >2229.000000</td>\n",
       "                        <td id=\"T_6fff5_row4_col15\" class=\"data row4 col15\" >752.000000</td>\n",
       "                        <td id=\"T_6fff5_row4_col16\" class=\"data row4 col16\" >141.000000</td>\n",
       "                        <td id=\"T_6fff5_row4_col17\" class=\"data row4 col17\" >0.000000</td>\n",
       "                        <td id=\"T_6fff5_row4_col18\" class=\"data row4 col18\" >477</td>\n",
       "                        <td id=\"T_6fff5_row4_col19\" class=\"data row4 col19\" >911</td>\n",
       "                        <td id=\"T_6fff5_row4_col20\" class=\"data row4 col20\" >1000</td>\n",
       "                        <td id=\"T_6fff5_row4_col21\" class=\"data row4 col21\" >901</td>\n",
       "                        <td id=\"T_6fff5_row4_col22\" class=\"data row4 col22\" >902</td>\n",
       "                        <td id=\"T_6fff5_row4_col23\" class=\"data row4 col23\" >936</td>\n",
       "                        <td id=\"T_6fff5_row4_col24\" class=\"data row4 col24\" >536</td>\n",
       "                        <td id=\"T_6fff5_row4_col25\" class=\"data row4 col25\" >291</td>\n",
       "                        <td id=\"T_6fff5_row4_col26\" class=\"data row4 col26\" >98</td>\n",
       "                        <td id=\"T_6fff5_row4_col27\" class=\"data row4 col27\" >18</td>\n",
       "                        <td id=\"T_6fff5_row4_col28\" class=\"data row4 col28\" >0</td>\n",
       "            </tr>\n",
       "    </tbody></table>"
      ],
      "text/plain": [
       "<pandas.io.formats.style.Styler at 0x7fc91af12130>"
      ]
     },
     "metadata": {},
     "output_type": "display_data"
    }
   ],
   "source": [
    "# Bereken de stand van zaken van besmettingen / hospitalisaties / overlijden, per cohort in absolute aantallen en aantallen per 100k, met een kleur indicator voor de aantallen.\n",
    "# vervang <50 en Unknown door Onbekend\n",
    "@run\n",
    "def cell():\n",
    "  rivm['Cohort'] = rivm['Agegroup'].replace({'<50': 'Onbekend', 'Unknown': 'Onbekend'})\n",
    "  # aangenomen 'gemiddelde' leeftijd van een cohort: minimum waarde + 5\n",
    "  assumed_cohort_age = [(cohort, [int(n) for n in cohort.replace('+', '').split('-')]) for cohort in rivm['Cohort'].unique() if cohort[0].isdigit()]\n",
    "  assumed_cohort_age = { cohort: min(rng) + 5 for cohort, rng in assumed_cohort_age }\n",
    "  rivm['Gemiddelde leeftijd'] = rivm['Cohort'].apply(lambda x: assumed_cohort_age.get(x, np.nan))\n",
    "\n",
    "  # verwijder tijd\n",
    "  rivm['Date_file_date'] = pd.to_datetime(rivm['Date_file'].replace(r' .*', '', regex=True))\n",
    "\n",
    "  rivm['Date_statistics_date'] = pd.to_datetime(rivm['Date_statistics'])\n",
    "\n",
    "  # weken terug = verschil tussen Date_file en Date_statistcs, gedeeld door 7 dagen\n",
    "  rivm['Weken terug'] = np.floor((rivm['Date_file_date'] - rivm['Date_statistics_date'])/np.timedelta64(7, 'D')).astype(int)\n",
    "\n",
    "  # voeg key, gem leeftijd, kleurnummer en totaal toe\n",
    "  Date_file = rivm['Date_file_date'].unique()[0].astype('M8[D]').astype('O')\n",
    "  cohorten = list(bevolking.index) + ['Onbekend']\n",
    "  def summarize(df, category, prefix):\n",
    "    # aangezien we hier de dataframe in-place wijzigen (bijv door toevoegen kolommen)\n",
    "    # en we het 'rivm' frame later nog clean nodig hebben\n",
    "    df = df.copy(deep=True)\n",
    "\n",
    "    df = (df\n",
    "          .groupby(['Weken terug', 'Cohort'])['count']\n",
    "          .sum()\n",
    "          .unstack(fill_value=np.nan)\n",
    "          .reset_index()\n",
    "          .rename_axis(None, axis=1)\n",
    "        ).merge(df\n",
    "          # we voegen hier gemiddelde leeftijd toe, want die willen we op een ander\n",
    "          # niveau aggregeren voor 'df' overschreven word\n",
    "          .groupby(['Weken terug'])['Gemiddelde leeftijd']\n",
    "          .mean()\n",
    "          .to_frame(), on='Weken terug'\n",
    "        )\n",
    "\n",
    "    # altijd 52 rijen\n",
    "    df = pd.Series(np.arange(52), name='Weken terug').to_frame().merge(df, how='left', on='Weken terug')\n",
    "\n",
    "    # toevoegen missende cohorten\n",
    "    for col in cohorten:\n",
    "      if not col in df:\n",
    "        df[col] = np.nan\n",
    "\n",
    "    # sommeer per rij (axis=1) over de cohorten om een totaal te krijgen\n",
    "    df['Totaal'] = df[cohorten].sum(axis=1)\n",
    "\n",
    "    # voeg periode en datum toe\n",
    "    # periode afgeleid van weken-terug (= de index voor deze dataframe)\n",
    "    df['Datum'] = pd.to_datetime(Date_file)\n",
    "    df['Periode'] = (df\n",
    "      .index.to_series()\n",
    "      .apply(\n",
    "        lambda x: (\n",
    "          (Date_file + datetime.timedelta(weeks=-(x+1), days=1)).strftime('%d/%m')\n",
    "          + '-'\n",
    "          + (Date_file + datetime.timedelta(weeks=-x)).strftime('%d/%m')\n",
    "        )\n",
    "      )\n",
    "    )\n",
    "\n",
    "    # voeg 'Key' en 'Type' kolom toe. Variabele 'type' kan niet, is een language primitive.\n",
    "    df['Key'] = prefix + df.index.astype(str).str.rjust(3, fillchar='0')\n",
    "    df['Type'] = category\n",
    "\n",
    "    # voeg de kleur kolommen toe\n",
    "    for col in cohorten:\n",
    "      df['c' + col] = ((df[col] / df[[col for col in cohorten]].max(axis=1)) * 1000).fillna(0).astype(int)\n",
    "\n",
    "    # herschikken van de kolommen\n",
    "    colorder = ['Key', 'Weken terug', 'Datum', 'Periode', 'Gemiddelde leeftijd', 'Totaal', 'Type']\n",
    "    return df[colorder + [col for col in df if col not in colorder]]\n",
    "\n",
    "  factor = bevolking.to_dict()['per 100k']\n",
    "  global tabel\n",
    "  tabel = pd.concat(\n",
    "    # flatten the result list zodat pd.concat ze onder elkaar kan plakken\n",
    "    functools.reduce(lambda a, b: a + b, [\n",
    "      [summarize(df.assign(count=1), label, prefix), summarize(df.assign(count=df['Cohort'].apply(lambda x: factor.get(x, np.nan))), label + ' per 100.000', prefix + '100k')]\n",
    "      for df, label, prefix in [\n",
    "        (rivm, 'Positief getest', 'p'), # volledige count per cohort\n",
    "        (rivm[rivm.Hospital_admission == 'Yes'], 'Ziekenhuisopname', 'h'), # count van cohort voor Hospital_admission == 'Yes'\n",
    "        (rivm[rivm.Deceased == 'Yes'], 'Overleden', 'd'), # count van cohort voor Deceased == 'Yes'\n",
    "      ]\n",
    "    ])\n",
    "  )\n",
    "\n",
    "  # rood -> groen\n",
    "  cdict = {\n",
    "    'red':   ((0.0, 0.0, 0.0),   # no red at 0\n",
    "              (0.5, 1.0, 1.0),   # all channels set to 1.0 at 0.5 to create white\n",
    "              (1.0, 0.8, 0.8)),  # set to 0.8 so its not too bright at 1\n",
    "    'green': ((0.0, 0.8, 0.8),   # set to 0.8 so its not too bright at 0\n",
    "              (0.5, 1.0, 1.0),   # all channels set to 1.0 at 0.5 to create white\n",
    "              (1.0, 0.0, 0.0)),  # no green at 1\n",
    "    'blue':  ((0.0, 0.0, 0.0),   # no blue at 0\n",
    "              (0.5, 1.0, 1.0),   # all channels set to 1.0 at 0.5 to create white\n",
    "              (1.0, 0.0, 0.0))   # no blue at 1\n",
    "  }\n",
    "  cm = colors.LinearSegmentedColormap('GnRd', cdict)\n",
    "  # geel -> paars\n",
    "  cm = sns.color_palette('viridis_r', as_cmap=True)\n",
    "  display(tabel\n",
    "    .fillna(0)\n",
    "    .head()\n",
    "    .round(1)\n",
    "    .reset_index(drop=True)\n",
    "    .style.background_gradient(cmap=cm, axis=1, subset=cohorten)\n",
    "  )"
   ]
  },
  {
   "cell_type": "code",
   "execution_count": 5,
   "id": "c9710633",
   "metadata": {
    "execution": {
     "iopub.execute_input": "2021-04-17T13:35:01.982860Z",
     "iopub.status.busy": "2021-04-17T13:35:01.982233Z",
     "iopub.status.idle": "2021-04-17T13:35:56.074097Z",
     "shell.execute_reply": "2021-04-17T13:35:56.073015Z"
    },
    "papermill": {
     "duration": 54.104951,
     "end_time": "2021-04-17T13:35:56.074232",
     "exception": false,
     "start_time": "2021-04-17T13:35:01.969281",
     "status": "completed"
    },
    "tags": [],
    "title": "publish"
   },
   "outputs": [
    {
     "name": "stdout",
     "output_type": "stream",
     "text": [
      "infinities:\n"
     ]
    },
    {
     "name": "stdout",
     "output_type": "stream",
     "text": [
      "Empty DataFrame\n",
      "Columns: []\n",
      "Index: []\n"
     ]
    },
    {
     "name": "stdout",
     "output_type": "stream",
     "text": [
      "nan:\n"
     ]
    },
    {
     "name": "stdout",
     "output_type": "stream",
     "text": [
      "Empty DataFrame\n",
      "Columns: []\n",
      "Index: []\n"
     ]
    },
    {
     "name": "stdout",
     "output_type": "stream",
     "text": [
      "Key                     object\n",
      "Weken terug              int64\n",
      "Datum                   object\n",
      "Periode                 object\n",
      "Gemiddelde leeftijd    float64\n",
      "Totaal                 float64\n",
      "Type                    object\n",
      "0-9                    float64\n",
      "10-19                  float64\n",
      "20-29                  float64\n",
      "30-39                  float64\n",
      "40-49                  float64\n",
      "50-59                  float64\n",
      "60-69                  float64\n",
      "70-79                  float64\n",
      "80-89                  float64\n",
      "90+                    float64\n",
      "Onbekend               float64\n",
      "c0-9                     int64\n",
      "c10-19                   int64\n",
      "c20-29                   int64\n",
      "c30-39                   int64\n",
      "c40-49                   int64\n",
      "c50-59                   int64\n",
      "c60-69                   int64\n",
      "c70-79                   int64\n",
      "c80-89                   int64\n",
      "c90+                     int64\n",
      "cOnbekend                int64\n",
      "dtype: object\n",
      "updating knack\n"
     ]
    },
    {
     "name": "stdout",
     "output_type": "stream",
     "text": [
      "updating: [{'Key': 1, 'Updating Leeftijdsgroep': 'true'}]\n"
     ]
    },
    {
     "name": "stdout",
     "output_type": "stream",
     "text": [
      "restored LaatsteUpdate from hash\n"
     ]
    },
    {
     "name": "stderr",
     "output_type": "stream",
     "text": [
      "\r",
      "  0%|          | 0/1 [00:00<?, ?it/s]"
     ]
    },
    {
     "name": "stdout",
     "output_type": "stream",
     "text": [
      "Key                         int64\n",
      "Updating Leeftijdsgroep    object\n",
      "dtype: object\n"
     ]
    },
    {
     "name": "stderr",
     "output_type": "stream",
     "text": [
      "\r",
      "100%|██████████| 1/1 [00:01<00:00,  1.43s/it]"
     ]
    },
    {
     "name": "stderr",
     "output_type": "stream",
     "text": [
      "\r",
      "100%|██████████| 1/1 [00:01<00:00,  1.43s/it]"
     ]
    },
    {
     "name": "stdout",
     "output_type": "stream",
     "text": [
      "\n",
      "rate limit: 7 \n",
      "LaatsteUpdate API calls: create: 0, read: 1, update: 1, delete: 0, backoff: 0\n"
     ]
    },
    {
     "name": "stderr",
     "output_type": "stream",
     "text": [
      "\n"
     ]
    },
    {
     "name": "stdout",
     "output_type": "stream",
     "text": [
      "restored Leeftijdsgroep from hash\n"
     ]
    },
    {
     "name": "stdout",
     "output_type": "stream",
     "text": [
      "0-9                    float64\n",
      "10-19                  float64\n",
      "20-29                  float64\n",
      "30-39                  float64\n",
      "40-49                  float64\n",
      "50-59                  float64\n",
      "60-69                  float64\n",
      "70-79                  float64\n",
      "80-89                  float64\n",
      "90+                    float64\n",
      "Datum                   object\n",
      "Gemiddelde leeftijd    float64\n",
      "Key                     object\n",
      "Onbekend               float64\n",
      "Periode                 object\n",
      "Totaal                 float64\n",
      "Type                    object\n",
      "Weken terug              int64\n",
      "c0-9                     int64\n",
      "c10-19                   int64\n",
      "c20-29                   int64\n",
      "c30-39                   int64\n",
      "c40-49                   int64\n",
      "c50-59                   int64\n",
      "c60-69                   int64\n",
      "c70-79                   int64\n",
      "c80-89                   int64\n",
      "c90+                     int64\n",
      "cOnbekend                int64\n",
      "dtype: object\n"
     ]
    },
    {
     "name": "stderr",
     "output_type": "stream",
     "text": [
      "\r",
      "  0%|          | 0/312 [00:00<?, ?it/s]"
     ]
    },
    {
     "name": "stderr",
     "output_type": "stream",
     "text": [
      "\r",
      "  0%|          | 1/312 [00:00<03:22,  1.54it/s]"
     ]
    },
    {
     "name": "stderr",
     "output_type": "stream",
     "text": [
      "\r",
      "  1%|          | 2/312 [00:00<01:41,  3.05it/s]"
     ]
    },
    {
     "name": "stderr",
     "output_type": "stream",
     "text": [
      "\r",
      "  2%|▏         | 5/312 [00:00<00:36,  8.35it/s]"
     ]
    },
    {
     "name": "stderr",
     "output_type": "stream",
     "text": [
      "\r",
      "  2%|▏         | 7/312 [00:01<00:32,  9.44it/s]"
     ]
    },
    {
     "name": "stderr",
     "output_type": "stream",
     "text": [
      "\r",
      "  3%|▎         | 9/312 [00:01<00:37,  8.01it/s]"
     ]
    },
    {
     "name": "stderr",
     "output_type": "stream",
     "text": [
      "\r",
      "  4%|▎         | 11/312 [00:01<00:46,  6.42it/s]"
     ]
    },
    {
     "name": "stderr",
     "output_type": "stream",
     "text": [
      "\r",
      "  4%|▍         | 12/312 [00:01<00:44,  6.74it/s]"
     ]
    },
    {
     "name": "stderr",
     "output_type": "stream",
     "text": [
      "\r",
      "  4%|▍         | 13/312 [00:02<00:45,  6.63it/s]"
     ]
    },
    {
     "name": "stderr",
     "output_type": "stream",
     "text": [
      "\r",
      "  4%|▍         | 14/312 [00:02<00:43,  6.85it/s]"
     ]
    },
    {
     "name": "stderr",
     "output_type": "stream",
     "text": [
      "\r",
      "  5%|▍         | 15/312 [00:02<00:43,  6.85it/s]"
     ]
    },
    {
     "name": "stderr",
     "output_type": "stream",
     "text": [
      "\r",
      "  5%|▌         | 16/312 [00:02<00:51,  5.71it/s]"
     ]
    },
    {
     "name": "stderr",
     "output_type": "stream",
     "text": [
      "\r",
      "  5%|▌         | 17/312 [00:02<00:52,  5.57it/s]"
     ]
    },
    {
     "name": "stderr",
     "output_type": "stream",
     "text": [
      "\r",
      "  6%|▌         | 18/312 [00:02<00:52,  5.64it/s]"
     ]
    },
    {
     "name": "stderr",
     "output_type": "stream",
     "text": [
      "\r",
      "  6%|▌         | 19/312 [00:03<01:06,  4.42it/s]"
     ]
    },
    {
     "name": "stderr",
     "output_type": "stream",
     "text": [
      "\r",
      "  7%|▋         | 21/312 [00:03<00:45,  6.39it/s]"
     ]
    },
    {
     "name": "stderr",
     "output_type": "stream",
     "text": [
      "\r",
      "  7%|▋         | 22/312 [00:03<00:56,  5.10it/s]"
     ]
    },
    {
     "name": "stderr",
     "output_type": "stream",
     "text": [
      "\r",
      "  7%|▋         | 23/312 [00:04<01:02,  4.63it/s]"
     ]
    },
    {
     "name": "stderr",
     "output_type": "stream",
     "text": [
      "\r",
      "  8%|▊         | 25/312 [00:04<00:42,  6.68it/s]"
     ]
    },
    {
     "name": "stderr",
     "output_type": "stream",
     "text": [
      "\r",
      "  9%|▊         | 27/312 [00:04<00:34,  8.14it/s]"
     ]
    },
    {
     "name": "stderr",
     "output_type": "stream",
     "text": [
      "\r",
      "  9%|▉         | 29/312 [00:04<00:27, 10.24it/s]"
     ]
    },
    {
     "name": "stderr",
     "output_type": "stream",
     "text": [
      "\r",
      " 10%|▉         | 31/312 [00:04<00:28,  9.93it/s]"
     ]
    },
    {
     "name": "stderr",
     "output_type": "stream",
     "text": [
      "\r",
      " 11%|█         | 33/312 [00:05<00:46,  5.96it/s]"
     ]
    },
    {
     "name": "stderr",
     "output_type": "stream",
     "text": [
      "\r",
      " 11%|█         | 34/312 [00:05<00:57,  4.87it/s]"
     ]
    },
    {
     "name": "stderr",
     "output_type": "stream",
     "text": [
      "\r",
      " 11%|█         | 35/312 [00:05<00:58,  4.77it/s]"
     ]
    },
    {
     "name": "stderr",
     "output_type": "stream",
     "text": [
      "\r",
      " 12%|█▏        | 38/312 [00:06<00:44,  6.21it/s]"
     ]
    },
    {
     "name": "stderr",
     "output_type": "stream",
     "text": [
      "\r",
      " 13%|█▎        | 40/312 [00:06<00:41,  6.55it/s]"
     ]
    },
    {
     "name": "stderr",
     "output_type": "stream",
     "text": [
      "\r",
      " 14%|█▍        | 43/312 [00:06<00:28,  9.32it/s]"
     ]
    },
    {
     "name": "stderr",
     "output_type": "stream",
     "text": [
      "\r",
      " 15%|█▍        | 46/312 [00:06<00:26,  9.89it/s]"
     ]
    },
    {
     "name": "stderr",
     "output_type": "stream",
     "text": [
      "\r",
      " 15%|█▌        | 48/312 [00:07<00:34,  7.65it/s]"
     ]
    },
    {
     "name": "stderr",
     "output_type": "stream",
     "text": [
      "\r",
      " 16%|█▌        | 49/312 [00:07<00:37,  6.99it/s]"
     ]
    },
    {
     "name": "stderr",
     "output_type": "stream",
     "text": [
      "\r",
      " 16%|█▋        | 51/312 [00:08<00:59,  4.41it/s]"
     ]
    },
    {
     "name": "stderr",
     "output_type": "stream",
     "text": [
      "\r",
      " 17%|█▋        | 52/312 [00:08<00:53,  4.87it/s]"
     ]
    },
    {
     "name": "stderr",
     "output_type": "stream",
     "text": [
      "\r",
      " 17%|█▋        | 54/312 [00:08<00:46,  5.52it/s]"
     ]
    },
    {
     "name": "stderr",
     "output_type": "stream",
     "text": [
      "\r",
      " 18%|█▊        | 55/312 [00:08<00:47,  5.42it/s]"
     ]
    },
    {
     "name": "stderr",
     "output_type": "stream",
     "text": [
      "\r",
      " 18%|█▊        | 56/312 [00:08<00:43,  5.89it/s]"
     ]
    },
    {
     "name": "stderr",
     "output_type": "stream",
     "text": [
      "\r",
      " 19%|█▊        | 58/312 [00:09<00:34,  7.40it/s]"
     ]
    },
    {
     "name": "stderr",
     "output_type": "stream",
     "text": [
      "\r",
      " 19%|█▉        | 60/312 [00:09<00:32,  7.71it/s]"
     ]
    },
    {
     "name": "stderr",
     "output_type": "stream",
     "text": [
      "\r",
      " 20%|█▉        | 61/312 [00:09<00:35,  7.11it/s]"
     ]
    },
    {
     "name": "stderr",
     "output_type": "stream",
     "text": [
      "\r",
      " 20%|█▉        | 62/312 [00:09<00:49,  5.00it/s]"
     ]
    },
    {
     "name": "stderr",
     "output_type": "stream",
     "text": [
      "\r",
      " 21%|██        | 65/312 [00:10<00:39,  6.18it/s]"
     ]
    },
    {
     "name": "stderr",
     "output_type": "stream",
     "text": [
      "\r",
      " 21%|██▏       | 67/312 [00:10<00:34,  7.19it/s]"
     ]
    },
    {
     "name": "stderr",
     "output_type": "stream",
     "text": [
      "\r",
      " 22%|██▏       | 70/312 [00:10<00:28,  8.49it/s]"
     ]
    },
    {
     "name": "stderr",
     "output_type": "stream",
     "text": [
      "\r",
      " 23%|██▎       | 71/312 [00:11<00:34,  6.95it/s]"
     ]
    },
    {
     "name": "stderr",
     "output_type": "stream",
     "text": [
      "\r",
      " 23%|██▎       | 73/312 [00:11<00:29,  7.97it/s]"
     ]
    },
    {
     "name": "stderr",
     "output_type": "stream",
     "text": [
      "\r",
      " 24%|██▎       | 74/312 [00:11<00:38,  6.13it/s]"
     ]
    },
    {
     "name": "stderr",
     "output_type": "stream",
     "text": [
      "\r",
      " 24%|██▍       | 76/312 [00:11<00:32,  7.17it/s]"
     ]
    },
    {
     "name": "stderr",
     "output_type": "stream",
     "text": [
      "\r",
      " 25%|██▍       | 77/312 [00:11<00:31,  7.54it/s]"
     ]
    },
    {
     "name": "stderr",
     "output_type": "stream",
     "text": [
      "\r",
      " 25%|██▌       | 78/312 [00:12<00:35,  6.59it/s]"
     ]
    },
    {
     "name": "stderr",
     "output_type": "stream",
     "text": [
      "\r",
      " 25%|██▌       | 79/312 [00:12<00:34,  6.69it/s]"
     ]
    },
    {
     "name": "stderr",
     "output_type": "stream",
     "text": [
      "\r",
      " 26%|██▌       | 80/312 [00:12<00:33,  6.96it/s]"
     ]
    },
    {
     "name": "stderr",
     "output_type": "stream",
     "text": [
      "\r",
      " 26%|██▋       | 82/312 [00:12<00:32,  7.09it/s]"
     ]
    },
    {
     "name": "stderr",
     "output_type": "stream",
     "text": [
      "\r",
      " 27%|██▋       | 84/312 [00:12<00:33,  6.86it/s]"
     ]
    },
    {
     "name": "stderr",
     "output_type": "stream",
     "text": [
      "\r",
      " 27%|██▋       | 85/312 [00:13<00:36,  6.25it/s]"
     ]
    },
    {
     "name": "stderr",
     "output_type": "stream",
     "text": [
      "\r",
      " 28%|██▊       | 87/312 [00:13<00:34,  6.47it/s]"
     ]
    },
    {
     "name": "stderr",
     "output_type": "stream",
     "text": [
      "\r",
      " 28%|██▊       | 88/312 [00:13<00:35,  6.30it/s]"
     ]
    },
    {
     "name": "stderr",
     "output_type": "stream",
     "text": [
      "\r",
      " 29%|██▉       | 90/312 [00:13<00:28,  7.86it/s]"
     ]
    },
    {
     "name": "stderr",
     "output_type": "stream",
     "text": [
      "\r",
      " 29%|██▉       | 91/312 [00:14<00:35,  6.19it/s]"
     ]
    },
    {
     "name": "stderr",
     "output_type": "stream",
     "text": [
      "\r",
      " 29%|██▉       | 92/312 [00:14<00:36,  6.10it/s]"
     ]
    },
    {
     "name": "stderr",
     "output_type": "stream",
     "text": [
      "\r",
      " 30%|██▉       | 93/312 [00:14<00:41,  5.22it/s]"
     ]
    },
    {
     "name": "stderr",
     "output_type": "stream",
     "text": [
      "\r",
      " 30%|███       | 94/312 [00:14<00:47,  4.55it/s]"
     ]
    },
    {
     "name": "stderr",
     "output_type": "stream",
     "text": [
      "\r",
      " 30%|███       | 95/312 [00:14<00:41,  5.27it/s]"
     ]
    },
    {
     "name": "stderr",
     "output_type": "stream",
     "text": [
      "\r",
      " 31%|███       | 96/312 [00:15<00:37,  5.75it/s]"
     ]
    },
    {
     "name": "stderr",
     "output_type": "stream",
     "text": [
      "\r",
      " 31%|███       | 97/312 [00:15<00:33,  6.42it/s]"
     ]
    },
    {
     "name": "stderr",
     "output_type": "stream",
     "text": [
      "\r",
      " 32%|███▏      | 100/312 [00:15<00:23,  8.89it/s]"
     ]
    },
    {
     "name": "stderr",
     "output_type": "stream",
     "text": [
      "\r",
      " 32%|███▏      | 101/312 [00:15<00:28,  7.46it/s]"
     ]
    },
    {
     "name": "stderr",
     "output_type": "stream",
     "text": [
      "\r",
      " 33%|███▎      | 104/312 [00:15<00:22,  9.44it/s]"
     ]
    },
    {
     "name": "stderr",
     "output_type": "stream",
     "text": [
      "\r",
      " 34%|███▍      | 106/312 [00:16<00:23,  8.91it/s]"
     ]
    },
    {
     "name": "stderr",
     "output_type": "stream",
     "text": [
      "\r",
      " 34%|███▍      | 107/312 [00:16<00:27,  7.50it/s]"
     ]
    },
    {
     "name": "stderr",
     "output_type": "stream",
     "text": [
      "\r",
      " 35%|███▍      | 109/312 [00:16<00:28,  7.01it/s]"
     ]
    },
    {
     "name": "stderr",
     "output_type": "stream",
     "text": [
      "\r",
      " 35%|███▌      | 110/312 [00:16<00:34,  5.94it/s]"
     ]
    },
    {
     "name": "stderr",
     "output_type": "stream",
     "text": [
      "\r",
      " 36%|███▌      | 112/312 [00:17<00:34,  5.77it/s]"
     ]
    },
    {
     "name": "stderr",
     "output_type": "stream",
     "text": [
      "\r",
      " 37%|███▋      | 114/312 [00:17<00:26,  7.48it/s]"
     ]
    },
    {
     "name": "stderr",
     "output_type": "stream",
     "text": [
      "\r",
      " 37%|███▋      | 115/312 [00:17<00:31,  6.18it/s]"
     ]
    },
    {
     "name": "stderr",
     "output_type": "stream",
     "text": [
      "\r",
      " 38%|███▊      | 117/312 [00:17<00:28,  6.93it/s]"
     ]
    },
    {
     "name": "stderr",
     "output_type": "stream",
     "text": [
      "\r",
      " 38%|███▊      | 119/312 [00:17<00:22,  8.60it/s]"
     ]
    },
    {
     "name": "stderr",
     "output_type": "stream",
     "text": [
      "\r",
      " 39%|███▉      | 121/312 [00:18<00:23,  8.26it/s]"
     ]
    },
    {
     "name": "stderr",
     "output_type": "stream",
     "text": [
      "\r",
      " 39%|███▉      | 122/312 [00:18<00:23,  8.06it/s]"
     ]
    },
    {
     "name": "stderr",
     "output_type": "stream",
     "text": [
      "\r",
      " 39%|███▉      | 123/312 [00:18<00:28,  6.74it/s]"
     ]
    },
    {
     "name": "stderr",
     "output_type": "stream",
     "text": [
      "\r",
      " 40%|███▉      | 124/312 [00:18<00:27,  6.83it/s]"
     ]
    },
    {
     "name": "stderr",
     "output_type": "stream",
     "text": [
      "\r",
      " 40%|████      | 125/312 [00:18<00:29,  6.38it/s]"
     ]
    },
    {
     "name": "stderr",
     "output_type": "stream",
     "text": [
      "\r",
      " 40%|████      | 126/312 [00:19<00:32,  5.78it/s]"
     ]
    },
    {
     "name": "stderr",
     "output_type": "stream",
     "text": [
      "\r",
      " 41%|████      | 127/312 [00:19<00:32,  5.69it/s]"
     ]
    },
    {
     "name": "stderr",
     "output_type": "stream",
     "text": [
      "\r",
      " 41%|████      | 128/312 [00:19<00:29,  6.17it/s]"
     ]
    },
    {
     "name": "stderr",
     "output_type": "stream",
     "text": [
      "\r",
      " 42%|████▏     | 130/312 [00:19<00:31,  5.80it/s]"
     ]
    },
    {
     "name": "stderr",
     "output_type": "stream",
     "text": [
      "\r",
      " 42%|████▏     | 132/312 [00:20<00:28,  6.32it/s]"
     ]
    },
    {
     "name": "stderr",
     "output_type": "stream",
     "text": [
      "\r",
      " 43%|████▎     | 135/312 [00:20<00:23,  7.42it/s]"
     ]
    },
    {
     "name": "stderr",
     "output_type": "stream",
     "text": [
      "\r",
      " 44%|████▍     | 137/312 [00:20<00:24,  7.19it/s]"
     ]
    },
    {
     "name": "stderr",
     "output_type": "stream",
     "text": [
      "\r",
      " 45%|████▍     | 139/312 [00:21<00:28,  5.98it/s]"
     ]
    },
    {
     "name": "stderr",
     "output_type": "stream",
     "text": [
      "\r",
      " 45%|████▍     | 140/312 [00:21<00:27,  6.36it/s]"
     ]
    },
    {
     "name": "stderr",
     "output_type": "stream",
     "text": [
      "\r",
      " 45%|████▌     | 141/312 [00:21<00:26,  6.46it/s]"
     ]
    },
    {
     "name": "stderr",
     "output_type": "stream",
     "text": [
      "\r",
      " 46%|████▌     | 142/312 [00:21<00:27,  6.22it/s]"
     ]
    },
    {
     "name": "stderr",
     "output_type": "stream",
     "text": [
      "\r",
      " 46%|████▌     | 144/312 [00:22<00:32,  5.13it/s]"
     ]
    },
    {
     "name": "stderr",
     "output_type": "stream",
     "text": [
      "\r",
      " 47%|████▋     | 146/312 [00:22<00:26,  6.35it/s]"
     ]
    },
    {
     "name": "stderr",
     "output_type": "stream",
     "text": [
      "\r",
      " 47%|████▋     | 147/312 [00:22<00:39,  4.21it/s]"
     ]
    },
    {
     "name": "stderr",
     "output_type": "stream",
     "text": [
      "\r",
      " 47%|████▋     | 148/312 [00:23<00:37,  4.37it/s]"
     ]
    },
    {
     "name": "stderr",
     "output_type": "stream",
     "text": [
      "\r",
      " 48%|████▊     | 151/312 [00:23<00:31,  5.13it/s]"
     ]
    },
    {
     "name": "stderr",
     "output_type": "stream",
     "text": [
      "\r",
      " 49%|████▉     | 153/312 [00:23<00:27,  5.81it/s]"
     ]
    },
    {
     "name": "stderr",
     "output_type": "stream",
     "text": [
      "\r",
      " 50%|████▉     | 155/312 [00:23<00:22,  6.87it/s]"
     ]
    },
    {
     "name": "stderr",
     "output_type": "stream",
     "text": [
      "\r",
      " 50%|█████     | 156/312 [00:24<00:25,  6.11it/s]"
     ]
    },
    {
     "name": "stderr",
     "output_type": "stream",
     "text": [
      "\r",
      " 50%|█████     | 157/312 [00:24<00:23,  6.48it/s]"
     ]
    },
    {
     "name": "stderr",
     "output_type": "stream",
     "text": [
      "\r",
      " 51%|█████     | 158/312 [00:24<00:23,  6.67it/s]"
     ]
    },
    {
     "name": "stderr",
     "output_type": "stream",
     "text": [
      "\r",
      " 51%|█████▏    | 160/312 [00:24<00:18,  8.40it/s]"
     ]
    },
    {
     "name": "stderr",
     "output_type": "stream",
     "text": [
      "\r",
      " 52%|█████▏    | 162/312 [00:24<00:17,  8.61it/s]"
     ]
    },
    {
     "name": "stderr",
     "output_type": "stream",
     "text": [
      "\r",
      " 53%|█████▎    | 164/312 [00:25<00:18,  8.21it/s]"
     ]
    },
    {
     "name": "stderr",
     "output_type": "stream",
     "text": [
      "\r",
      " 53%|█████▎    | 165/312 [00:25<00:20,  7.20it/s]"
     ]
    },
    {
     "name": "stderr",
     "output_type": "stream",
     "text": [
      "\r",
      " 54%|█████▍    | 169/312 [00:25<00:12, 11.04it/s]"
     ]
    },
    {
     "name": "stderr",
     "output_type": "stream",
     "text": [
      "\r",
      " 55%|█████▍    | 171/312 [00:25<00:13, 10.62it/s]"
     ]
    },
    {
     "name": "stderr",
     "output_type": "stream",
     "text": [
      "\r",
      " 55%|█████▌    | 173/312 [00:25<00:13, 10.04it/s]"
     ]
    },
    {
     "name": "stderr",
     "output_type": "stream",
     "text": [
      "\r",
      " 56%|█████▌    | 175/312 [00:26<00:15,  8.63it/s]"
     ]
    },
    {
     "name": "stderr",
     "output_type": "stream",
     "text": [
      "\r",
      " 56%|█████▋    | 176/312 [00:26<00:16,  8.26it/s]"
     ]
    },
    {
     "name": "stderr",
     "output_type": "stream",
     "text": [
      "\r",
      " 57%|█████▋    | 177/312 [00:26<00:15,  8.49it/s]"
     ]
    },
    {
     "name": "stderr",
     "output_type": "stream",
     "text": [
      "\r",
      " 57%|█████▋    | 178/312 [00:26<00:18,  7.32it/s]"
     ]
    },
    {
     "name": "stderr",
     "output_type": "stream",
     "text": [
      "\r",
      " 57%|█████▋    | 179/312 [00:26<00:20,  6.35it/s]"
     ]
    },
    {
     "name": "stderr",
     "output_type": "stream",
     "text": [
      "\r",
      " 58%|█████▊    | 180/312 [00:27<00:19,  6.76it/s]"
     ]
    },
    {
     "name": "stderr",
     "output_type": "stream",
     "text": [
      "\r",
      " 58%|█████▊    | 182/312 [00:27<00:17,  7.26it/s]"
     ]
    },
    {
     "name": "stderr",
     "output_type": "stream",
     "text": [
      "\r",
      " 59%|█████▊    | 183/312 [00:27<00:33,  3.83it/s]"
     ]
    },
    {
     "name": "stderr",
     "output_type": "stream",
     "text": [
      "\r",
      " 60%|█████▉    | 186/312 [00:28<00:20,  6.16it/s]"
     ]
    },
    {
     "name": "stderr",
     "output_type": "stream",
     "text": [
      "\r",
      " 60%|██████    | 188/312 [00:28<00:21,  5.87it/s]"
     ]
    },
    {
     "name": "stderr",
     "output_type": "stream",
     "text": [
      "\r",
      " 61%|██████    | 191/312 [00:28<00:15,  7.94it/s]"
     ]
    },
    {
     "name": "stderr",
     "output_type": "stream",
     "text": [
      "\r",
      " 62%|██████▏   | 193/312 [00:28<00:15,  7.75it/s]"
     ]
    },
    {
     "name": "stderr",
     "output_type": "stream",
     "text": [
      "\r",
      " 62%|██████▎   | 195/312 [00:29<00:13,  8.75it/s]"
     ]
    },
    {
     "name": "stderr",
     "output_type": "stream",
     "text": [
      "\r",
      " 63%|██████▎   | 197/312 [00:29<00:19,  6.00it/s]"
     ]
    },
    {
     "name": "stderr",
     "output_type": "stream",
     "text": [
      "\r",
      " 64%|██████▍   | 199/312 [00:29<00:17,  6.41it/s]"
     ]
    },
    {
     "name": "stderr",
     "output_type": "stream",
     "text": [
      "\r",
      " 64%|██████▍   | 200/312 [00:30<00:22,  4.98it/s]"
     ]
    },
    {
     "name": "stderr",
     "output_type": "stream",
     "text": [
      "\r",
      " 64%|██████▍   | 201/312 [00:30<00:23,  4.63it/s]"
     ]
    },
    {
     "name": "stderr",
     "output_type": "stream",
     "text": [
      "\r",
      " 65%|██████▍   | 202/312 [00:30<00:23,  4.60it/s]"
     ]
    },
    {
     "name": "stderr",
     "output_type": "stream",
     "text": [
      "\r",
      " 65%|██████▌   | 204/312 [00:31<00:19,  5.49it/s]"
     ]
    },
    {
     "name": "stderr",
     "output_type": "stream",
     "text": [
      "\r",
      " 66%|██████▌   | 206/312 [00:31<00:15,  6.70it/s]"
     ]
    },
    {
     "name": "stderr",
     "output_type": "stream",
     "text": [
      "\r",
      " 66%|██████▋   | 207/312 [00:31<00:15,  6.89it/s]"
     ]
    },
    {
     "name": "stderr",
     "output_type": "stream",
     "text": [
      "\r",
      " 67%|██████▋   | 209/312 [00:31<00:12,  8.12it/s]"
     ]
    },
    {
     "name": "stderr",
     "output_type": "stream",
     "text": [
      "\r",
      " 67%|██████▋   | 210/312 [00:31<00:12,  8.03it/s]"
     ]
    },
    {
     "name": "stderr",
     "output_type": "stream",
     "text": [
      "\r",
      " 68%|██████▊   | 211/312 [00:31<00:12,  8.07it/s]"
     ]
    },
    {
     "name": "stderr",
     "output_type": "stream",
     "text": [
      "\r",
      " 68%|██████▊   | 212/312 [00:32<00:14,  7.02it/s]"
     ]
    },
    {
     "name": "stderr",
     "output_type": "stream",
     "text": [
      "\r",
      " 68%|██████▊   | 213/312 [00:32<00:18,  5.46it/s]"
     ]
    },
    {
     "name": "stderr",
     "output_type": "stream",
     "text": [
      "\r",
      " 69%|██████▊   | 214/312 [00:32<00:19,  4.94it/s]"
     ]
    },
    {
     "name": "stderr",
     "output_type": "stream",
     "text": [
      "\r",
      " 69%|██████▉   | 216/312 [00:32<00:13,  7.17it/s]"
     ]
    },
    {
     "name": "stderr",
     "output_type": "stream",
     "text": [
      "\r",
      " 70%|██████▉   | 217/312 [00:32<00:12,  7.56it/s]"
     ]
    },
    {
     "name": "stderr",
     "output_type": "stream",
     "text": [
      "\r",
      " 70%|███████   | 219/312 [00:33<00:14,  6.40it/s]"
     ]
    },
    {
     "name": "stderr",
     "output_type": "stream",
     "text": [
      "\r",
      " 71%|███████   | 221/312 [00:33<00:11,  7.78it/s]"
     ]
    },
    {
     "name": "stderr",
     "output_type": "stream",
     "text": [
      "\r",
      " 71%|███████▏  | 223/312 [00:33<00:10,  8.26it/s]"
     ]
    },
    {
     "name": "stderr",
     "output_type": "stream",
     "text": [
      "\r",
      " 72%|███████▏  | 224/312 [00:33<00:11,  7.96it/s]"
     ]
    },
    {
     "name": "stderr",
     "output_type": "stream",
     "text": [
      "\r",
      " 72%|███████▏  | 225/312 [00:33<00:12,  6.92it/s]"
     ]
    },
    {
     "name": "stderr",
     "output_type": "stream",
     "text": [
      "\r",
      " 72%|███████▏  | 226/312 [00:34<00:12,  6.69it/s]"
     ]
    },
    {
     "name": "stderr",
     "output_type": "stream",
     "text": [
      "\r",
      " 73%|███████▎  | 229/312 [00:34<00:08,  9.54it/s]"
     ]
    },
    {
     "name": "stderr",
     "output_type": "stream",
     "text": [
      "\r",
      " 74%|███████▎  | 230/312 [00:34<00:12,  6.55it/s]"
     ]
    },
    {
     "name": "stderr",
     "output_type": "stream",
     "text": [
      "\r",
      " 74%|███████▍  | 231/312 [00:34<00:13,  5.89it/s]"
     ]
    },
    {
     "name": "stderr",
     "output_type": "stream",
     "text": [
      "\r",
      " 75%|███████▍  | 233/312 [00:35<00:12,  6.48it/s]"
     ]
    },
    {
     "name": "stderr",
     "output_type": "stream",
     "text": [
      "\r",
      " 75%|███████▌  | 234/312 [00:35<00:13,  5.73it/s]"
     ]
    },
    {
     "name": "stderr",
     "output_type": "stream",
     "text": [
      "\r",
      " 76%|███████▌  | 236/312 [00:35<00:10,  7.43it/s]"
     ]
    },
    {
     "name": "stderr",
     "output_type": "stream",
     "text": [
      "\r",
      " 76%|███████▌  | 237/312 [00:35<00:09,  7.77it/s]"
     ]
    },
    {
     "name": "stderr",
     "output_type": "stream",
     "text": [
      "\r",
      " 77%|███████▋  | 239/312 [00:35<00:09,  7.56it/s]"
     ]
    },
    {
     "name": "stderr",
     "output_type": "stream",
     "text": [
      "\r",
      " 77%|███████▋  | 240/312 [00:36<00:09,  7.73it/s]"
     ]
    },
    {
     "name": "stderr",
     "output_type": "stream",
     "text": [
      "\r",
      " 78%|███████▊  | 242/312 [00:36<00:08,  8.66it/s]"
     ]
    },
    {
     "name": "stderr",
     "output_type": "stream",
     "text": [
      "\r",
      " 78%|███████▊  | 243/312 [00:36<00:08,  8.43it/s]"
     ]
    },
    {
     "name": "stderr",
     "output_type": "stream",
     "text": [
      "\r",
      " 78%|███████▊  | 244/312 [00:36<00:10,  6.78it/s]"
     ]
    },
    {
     "name": "stderr",
     "output_type": "stream",
     "text": [
      "\r",
      " 79%|███████▊  | 245/312 [00:36<00:11,  5.98it/s]"
     ]
    },
    {
     "name": "stderr",
     "output_type": "stream",
     "text": [
      "\r",
      " 79%|███████▉  | 247/312 [00:37<00:10,  6.32it/s]"
     ]
    },
    {
     "name": "stderr",
     "output_type": "stream",
     "text": [
      "\r",
      " 79%|███████▉  | 248/312 [00:37<00:10,  6.21it/s]"
     ]
    },
    {
     "name": "stderr",
     "output_type": "stream",
     "text": [
      "\r",
      " 80%|███████▉  | 249/312 [00:37<00:09,  6.38it/s]"
     ]
    },
    {
     "name": "stderr",
     "output_type": "stream",
     "text": [
      "\r",
      " 80%|████████  | 251/312 [00:37<00:11,  5.31it/s]"
     ]
    },
    {
     "name": "stderr",
     "output_type": "stream",
     "text": [
      "\r",
      " 81%|████████  | 252/312 [00:38<00:11,  5.08it/s]"
     ]
    },
    {
     "name": "stderr",
     "output_type": "stream",
     "text": [
      "\r",
      " 81%|████████  | 253/312 [00:38<00:11,  4.96it/s]"
     ]
    },
    {
     "name": "stderr",
     "output_type": "stream",
     "text": [
      "\r",
      " 81%|████████▏ | 254/312 [00:38<00:10,  5.30it/s]"
     ]
    },
    {
     "name": "stderr",
     "output_type": "stream",
     "text": [
      "\r",
      " 82%|████████▏ | 257/312 [00:38<00:06,  8.92it/s]"
     ]
    },
    {
     "name": "stderr",
     "output_type": "stream",
     "text": [
      "\r",
      " 83%|████████▎ | 259/312 [00:38<00:06,  8.80it/s]"
     ]
    },
    {
     "name": "stderr",
     "output_type": "stream",
     "text": [
      "\r",
      " 84%|████████▎ | 261/312 [00:39<00:05,  8.51it/s]"
     ]
    },
    {
     "name": "stderr",
     "output_type": "stream",
     "text": [
      "\r",
      " 84%|████████▍ | 262/312 [00:39<00:06,  7.46it/s]"
     ]
    },
    {
     "name": "stderr",
     "output_type": "stream",
     "text": [
      "\r",
      " 85%|████████▍ | 264/312 [00:39<00:06,  7.89it/s]"
     ]
    },
    {
     "name": "stderr",
     "output_type": "stream",
     "text": [
      "\r",
      " 85%|████████▍ | 265/312 [00:39<00:06,  6.91it/s]"
     ]
    },
    {
     "name": "stderr",
     "output_type": "stream",
     "text": [
      "\r",
      " 86%|████████▌ | 267/312 [00:40<00:06,  6.55it/s]"
     ]
    },
    {
     "name": "stderr",
     "output_type": "stream",
     "text": [
      "\r",
      " 86%|████████▌ | 268/312 [00:40<00:07,  5.93it/s]"
     ]
    },
    {
     "name": "stderr",
     "output_type": "stream",
     "text": [
      "\r",
      " 87%|████████▋ | 271/312 [00:40<00:06,  6.10it/s]"
     ]
    },
    {
     "name": "stderr",
     "output_type": "stream",
     "text": [
      "\r",
      " 88%|████████▊ | 273/312 [00:40<00:05,  7.58it/s]"
     ]
    },
    {
     "name": "stderr",
     "output_type": "stream",
     "text": [
      "\r",
      " 88%|████████▊ | 275/312 [00:41<00:04,  9.09it/s]"
     ]
    },
    {
     "name": "stderr",
     "output_type": "stream",
     "text": [
      "\r",
      " 89%|████████▉ | 277/312 [00:41<00:04,  8.16it/s]"
     ]
    },
    {
     "name": "stderr",
     "output_type": "stream",
     "text": [
      "\r",
      " 89%|████████▉ | 279/312 [00:41<00:05,  6.52it/s]"
     ]
    },
    {
     "name": "stderr",
     "output_type": "stream",
     "text": [
      "\r",
      " 90%|████████▉ | 280/312 [00:41<00:04,  6.69it/s]"
     ]
    },
    {
     "name": "stderr",
     "output_type": "stream",
     "text": [
      "\r",
      " 90%|█████████ | 282/312 [00:42<00:03,  7.85it/s]"
     ]
    },
    {
     "name": "stderr",
     "output_type": "stream",
     "text": [
      "\r",
      " 91%|█████████ | 284/312 [00:42<00:04,  5.78it/s]"
     ]
    },
    {
     "name": "stderr",
     "output_type": "stream",
     "text": [
      "\r",
      " 91%|█████████▏| 285/312 [00:42<00:04,  5.86it/s]"
     ]
    },
    {
     "name": "stderr",
     "output_type": "stream",
     "text": [
      "\r",
      " 92%|█████████▏| 286/312 [00:42<00:04,  6.41it/s]"
     ]
    },
    {
     "name": "stderr",
     "output_type": "stream",
     "text": [
      "\r",
      " 93%|█████████▎| 289/312 [00:43<00:02,  9.53it/s]"
     ]
    },
    {
     "name": "stderr",
     "output_type": "stream",
     "text": [
      "\r",
      " 93%|█████████▎| 291/312 [00:43<00:02,  8.28it/s]"
     ]
    },
    {
     "name": "stderr",
     "output_type": "stream",
     "text": [
      "\r",
      " 94%|█████████▍| 293/312 [00:43<00:02,  7.91it/s]"
     ]
    },
    {
     "name": "stderr",
     "output_type": "stream",
     "text": [
      "\r",
      " 95%|█████████▍| 295/312 [00:43<00:01,  9.10it/s]"
     ]
    },
    {
     "name": "stderr",
     "output_type": "stream",
     "text": [
      "\r",
      " 95%|█████████▌| 297/312 [00:44<00:02,  6.48it/s]"
     ]
    },
    {
     "name": "stderr",
     "output_type": "stream",
     "text": [
      "\r",
      " 96%|█████████▌| 299/312 [00:44<00:02,  6.32it/s]"
     ]
    },
    {
     "name": "stderr",
     "output_type": "stream",
     "text": [
      "\r",
      " 96%|█████████▋| 301/312 [00:44<00:01,  6.29it/s]"
     ]
    },
    {
     "name": "stderr",
     "output_type": "stream",
     "text": [
      "\r",
      " 97%|█████████▋| 302/312 [00:45<00:01,  6.67it/s]"
     ]
    },
    {
     "name": "stderr",
     "output_type": "stream",
     "text": [
      "\r",
      " 97%|█████████▋| 303/312 [00:45<00:01,  6.44it/s]"
     ]
    },
    {
     "name": "stderr",
     "output_type": "stream",
     "text": [
      "\r",
      " 98%|█████████▊| 305/312 [00:45<00:00,  7.89it/s]"
     ]
    },
    {
     "name": "stderr",
     "output_type": "stream",
     "text": [
      "\r",
      " 98%|█████████▊| 306/312 [00:45<00:00,  7.53it/s]"
     ]
    },
    {
     "name": "stderr",
     "output_type": "stream",
     "text": [
      "\r",
      " 99%|█████████▊| 308/312 [00:45<00:00,  8.64it/s]"
     ]
    },
    {
     "name": "stderr",
     "output_type": "stream",
     "text": [
      "\r",
      " 99%|█████████▉| 309/312 [00:45<00:00,  8.21it/s]"
     ]
    },
    {
     "name": "stderr",
     "output_type": "stream",
     "text": [
      "\r",
      " 99%|█████████▉| 310/312 [00:45<00:00,  8.38it/s]"
     ]
    },
    {
     "name": "stderr",
     "output_type": "stream",
     "text": [
      "\r",
      "100%|██████████| 312/312 [00:46<00:00,  9.03it/s]"
     ]
    },
    {
     "name": "stderr",
     "output_type": "stream",
     "text": [
      "\r",
      "100%|██████████| 312/312 [00:46<00:00,  6.76it/s]"
     ]
    },
    {
     "name": "stderr",
     "output_type": "stream",
     "text": [
      "\n"
     ]
    },
    {
     "name": "stdout",
     "output_type": "stream",
     "text": [
      "\n",
      "rate limit: 7 \n",
      "Leeftijdsgroep API calls: create: 0, read: 1, update: 312, delete: 0, backoff: 5\n",
      "errors:\n",
      "  503: Service Unavailable: 3\n"
     ]
    },
    {
     "name": "stdout",
     "output_type": "stream",
     "text": [
      "[{'Key': 1, 'Timestamp Leeftijdsgroep RIVM': '2021-04-17 14:15'}]\n"
     ]
    },
    {
     "name": "stderr",
     "output_type": "stream",
     "text": [
      "\r",
      "  0%|          | 0/1 [00:00<?, ?it/s]"
     ]
    },
    {
     "name": "stdout",
     "output_type": "stream",
     "text": [
      "timestamps: [{'Key': 1, 'Timestamp Leeftijdsgroep RIVM': '2021-04-17 14:15'}]\n",
      "Key                               int64\n",
      "Timestamp Leeftijdsgroep RIVM    object\n",
      "dtype: object\n"
     ]
    },
    {
     "name": "stderr",
     "output_type": "stream",
     "text": [
      "\r",
      "100%|██████████| 1/1 [00:00<00:00,  1.31it/s]"
     ]
    },
    {
     "name": "stderr",
     "output_type": "stream",
     "text": [
      "\r",
      "100%|██████████| 1/1 [00:00<00:00,  1.31it/s]"
     ]
    },
    {
     "name": "stdout",
     "output_type": "stream",
     "text": [
      "\n",
      "rate limit: 7 \n",
      "LaatsteUpdate API calls: create: 0, read: 0, update: 1, delete: 0, backoff: 0\n"
     ]
    },
    {
     "name": "stderr",
     "output_type": "stream",
     "text": [
      "\n",
      "\r",
      "  0%|          | 0/1 [00:00<?, ?it/s]"
     ]
    },
    {
     "name": "stdout",
     "output_type": "stream",
     "text": [
      "BatchName     object\n",
      "ObjectName    object\n",
      "Source        object\n",
      "Timestamp     object\n",
      "dtype: object\n"
     ]
    },
    {
     "name": "stderr",
     "output_type": "stream",
     "text": [
      "\r",
      "100%|██████████| 1/1 [00:00<00:00,  1.13it/s]"
     ]
    },
    {
     "name": "stderr",
     "output_type": "stream",
     "text": [
      "\r",
      "100%|██████████| 1/1 [00:00<00:00,  1.13it/s]"
     ]
    },
    {
     "name": "stdout",
     "output_type": "stream",
     "text": [
      "\n",
      "rate limit: 7 \n",
      "UpdateDetails API calls: create: 1, read: 0, update: 0, delete: 0, backoff: 0\n"
     ]
    },
    {
     "name": "stderr",
     "output_type": "stream",
     "text": [
      "\n",
      "\r",
      "  0%|          | 0/1 [00:00<?, ?it/s]"
     ]
    },
    {
     "name": "stdout",
     "output_type": "stream",
     "text": [
      "updating: [{'Key': 1, 'Updating Leeftijdsgroep': 'false'}]\n",
      "Key                         int64\n",
      "Updating Leeftijdsgroep    object\n",
      "dtype: object\n"
     ]
    },
    {
     "name": "stderr",
     "output_type": "stream",
     "text": [
      "\r",
      "100%|██████████| 1/1 [00:00<00:00,  1.39it/s]"
     ]
    },
    {
     "name": "stderr",
     "output_type": "stream",
     "text": [
      "\r",
      "100%|██████████| 1/1 [00:00<00:00,  1.38it/s]"
     ]
    },
    {
     "name": "stdout",
     "output_type": "stream",
     "text": [
      "\n",
      "rate limit: 7 \n",
      "LaatsteUpdate API calls: create: 0, read: 0, update: 1, delete: 0, backoff: 0\n"
     ]
    },
    {
     "name": "stderr",
     "output_type": "stream",
     "text": [
      "\n"
     ]
    }
   ],
   "source": [
    "if knack:\n",
    "  await knack.publish(tabel.fillna(0).assign(Datum=tabel.Datum.dt.strftime('%Y-%m-%d')), 'Leeftijdsgroep', Cache)"
   ]
  }
 ],
 "metadata": {
  "jupytext": {
   "cell_metadata_filter": "title,-all"
  },
  "kernelspec": {
   "display_name": "Python 3",
   "language": "python",
   "name": "python3"
  },
  "language_info": {
   "codemirror_mode": {
    "name": "ipython",
    "version": 3
   },
   "file_extension": ".py",
   "mimetype": "text/x-python",
   "name": "python",
   "nbconvert_exporter": "python",
   "pygments_lexer": "ipython3",
   "version": "3.9.4"
  },
  "papermill": {
   "default_parameters": {},
   "duration": 236.350118,
   "end_time": "2021-04-17T13:35:57.386421",
   "environment_variables": {},
   "exception": null,
   "input_path": "-",
   "output_path": "LeeftijdsgroepenLandelijk.ipynb",
   "parameters": {},
   "start_time": "2021-04-17T13:32:01.036303",
   "version": "2.3.3"
  }
 },
 "nbformat": 4,
 "nbformat_minor": 5
}