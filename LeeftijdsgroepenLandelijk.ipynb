{
 "cells": [
  {
   "cell_type": "code",
   "execution_count": 1,
   "id": "7fffbe0c",
   "metadata": {
    "execution": {
     "iopub.execute_input": "2021-12-26T14:31:24.052881Z",
     "iopub.status.busy": "2021-12-26T14:31:24.052188Z",
     "iopub.status.idle": "2021-12-26T14:31:28.749080Z",
     "shell.execute_reply": "2021-12-26T14:31:28.748389Z"
    },
    "lines_to_next_cell": 1,
    "papermill": {
     "duration": 4.714603,
     "end_time": "2021-12-26T14:31:28.749301",
     "exception": false,
     "start_time": "2021-12-26T14:31:24.034698",
     "status": "completed"
    },
    "tags": []
   },
   "outputs": [],
   "source": [
    "from IPython import get_ipython\n",
    "from IPython.core.display import display\n",
    "get_ipython().run_line_magic('load_ext', 'autoreload')\n",
    "get_ipython().run_line_magic('autoreload', '2')\n",
    "get_ipython().run_line_magic('run', 'setup')"
   ]
  },
  {
   "cell_type": "code",
   "execution_count": 2,
   "id": "c9ab49d9",
   "metadata": {
    "execution": {
     "iopub.execute_input": "2021-12-26T14:31:28.767342Z",
     "iopub.status.busy": "2021-12-26T14:31:28.766480Z",
     "iopub.status.idle": "2021-12-26T14:37:22.909122Z",
     "shell.execute_reply": "2021-12-26T14:37:22.909809Z"
    },
    "lines_to_next_cell": 1,
    "papermill": {
     "duration": 354.153838,
     "end_time": "2021-12-26T14:37:22.909983",
     "exception": false,
     "start_time": "2021-12-26T14:31:28.756145",
     "status": "completed"
    },
    "tags": [],
    "title": "leeftijdsgroepen: download RIVM data"
   },
   "outputs": [
    {
     "name": "stdout",
     "output_type": "stream",
     "text": [
      "downloading rivm/COVID-19_casus_landelijk-2021-12-26@14-15.csv\n"
     ]
    },
    {
     "name": "stdout",
     "output_type": "stream",
     "text": [
      "rivm COVID-19_casus_landelijk zipping rivm/COVID-19_casus_landelijk-2021-12-26@14-15.csv\n"
     ]
    },
    {
     "name": "stdout",
     "output_type": "stream",
     "text": [
      "loading rivm/COVID-19_casus_landelijk-2021-12-26@14-15.csv.gz\n"
     ]
    },
    {
     "data": {
      "text/html": [
       "<div>\n",
       "<style scoped>\n",
       "    .dataframe tbody tr th:only-of-type {\n",
       "        vertical-align: middle;\n",
       "    }\n",
       "\n",
       "    .dataframe tbody tr th {\n",
       "        vertical-align: top;\n",
       "    }\n",
       "\n",
       "    .dataframe thead th {\n",
       "        text-align: right;\n",
       "    }\n",
       "</style>\n",
       "<table border=\"1\" class=\"dataframe\">\n",
       "  <thead>\n",
       "    <tr style=\"text-align: right;\">\n",
       "      <th></th>\n",
       "      <th>Date_file</th>\n",
       "      <th>Date_statistics</th>\n",
       "      <th>Date_statistics_type</th>\n",
       "      <th>Agegroup</th>\n",
       "      <th>Sex</th>\n",
       "      <th>Province</th>\n",
       "      <th>Hospital_admission</th>\n",
       "      <th>Deceased</th>\n",
       "      <th>Week_of_death</th>\n",
       "      <th>Municipal_health_service</th>\n",
       "    </tr>\n",
       "  </thead>\n",
       "  <tbody>\n",
       "    <tr>\n",
       "      <th>0</th>\n",
       "      <td>2021-12-26 10:00:00</td>\n",
       "      <td>2020-01-01</td>\n",
       "      <td>DOO</td>\n",
       "      <td>40-49</td>\n",
       "      <td>Female</td>\n",
       "      <td>Noord-Holland</td>\n",
       "      <td>No</td>\n",
       "      <td>No</td>\n",
       "      <td>NaN</td>\n",
       "      <td>GGD Amsterdam</td>\n",
       "    </tr>\n",
       "    <tr>\n",
       "      <th>1</th>\n",
       "      <td>2021-12-26 10:00:00</td>\n",
       "      <td>2020-01-01</td>\n",
       "      <td>DOO</td>\n",
       "      <td>50-59</td>\n",
       "      <td>Male</td>\n",
       "      <td>Gelderland</td>\n",
       "      <td>No</td>\n",
       "      <td>No</td>\n",
       "      <td>NaN</td>\n",
       "      <td>Veiligheids- en Gezondheidsregio Gelderland-Mi...</td>\n",
       "    </tr>\n",
       "    <tr>\n",
       "      <th>2</th>\n",
       "      <td>2021-12-26 10:00:00</td>\n",
       "      <td>2020-01-01</td>\n",
       "      <td>DOO</td>\n",
       "      <td>20-29</td>\n",
       "      <td>Female</td>\n",
       "      <td>Zuid-Holland</td>\n",
       "      <td>No</td>\n",
       "      <td>No</td>\n",
       "      <td>NaN</td>\n",
       "      <td>GGD Hollands-Midden</td>\n",
       "    </tr>\n",
       "    <tr>\n",
       "      <th>3</th>\n",
       "      <td>2021-12-26 10:00:00</td>\n",
       "      <td>2020-01-01</td>\n",
       "      <td>DOO</td>\n",
       "      <td>60-69</td>\n",
       "      <td>Female</td>\n",
       "      <td>Noord-Holland</td>\n",
       "      <td>No</td>\n",
       "      <td>No</td>\n",
       "      <td>NaN</td>\n",
       "      <td>GGD Hollands-Noorden</td>\n",
       "    </tr>\n",
       "    <tr>\n",
       "      <th>4</th>\n",
       "      <td>2021-12-26 10:00:00</td>\n",
       "      <td>2020-01-04</td>\n",
       "      <td>DOO</td>\n",
       "      <td>10-19</td>\n",
       "      <td>Female</td>\n",
       "      <td>Gelderland</td>\n",
       "      <td>Unknown</td>\n",
       "      <td>No</td>\n",
       "      <td>NaN</td>\n",
       "      <td>GGD Gelderland-Zuid</td>\n",
       "    </tr>\n",
       "  </tbody>\n",
       "</table>\n",
       "</div>"
      ],
      "text/plain": [
       "             Date_file Date_statistics Date_statistics_type Agegroup     Sex  \\\n",
       "0  2021-12-26 10:00:00      2020-01-01                  DOO    40-49  Female   \n",
       "1  2021-12-26 10:00:00      2020-01-01                  DOO    50-59    Male   \n",
       "2  2021-12-26 10:00:00      2020-01-01                  DOO    20-29  Female   \n",
       "3  2021-12-26 10:00:00      2020-01-01                  DOO    60-69  Female   \n",
       "4  2021-12-26 10:00:00      2020-01-04                  DOO    10-19  Female   \n",
       "\n",
       "        Province Hospital_admission Deceased  Week_of_death  \\\n",
       "0  Noord-Holland                 No       No            NaN   \n",
       "1     Gelderland                 No       No            NaN   \n",
       "2   Zuid-Holland                 No       No            NaN   \n",
       "3  Noord-Holland                 No       No            NaN   \n",
       "4     Gelderland            Unknown       No            NaN   \n",
       "\n",
       "                            Municipal_health_service  \n",
       "0                                      GGD Amsterdam  \n",
       "1  Veiligheids- en Gezondheidsregio Gelderland-Mi...  \n",
       "2                                GGD Hollands-Midden  \n",
       "3                               GGD Hollands-Noorden  \n",
       "4                                GGD Gelderland-Zuid  "
      ]
     },
     "metadata": {},
     "output_type": "display_data"
    }
   ],
   "source": [
    "#leeftijdsgroepen = SimpleNamespace()\n",
    "@run\n",
    "def cell():\n",
    "  global rivm\n",
    "  rivm = RIVM.csv('COVID-19_casus_landelijk')\n",
    "  display(rivm.head())"
   ]
  },
  {
   "cell_type": "code",
   "execution_count": 3,
   "id": "95bd4c6c",
   "metadata": {
    "execution": {
     "iopub.execute_input": "2021-12-26T14:37:22.933615Z",
     "iopub.status.busy": "2021-12-26T14:37:22.931984Z",
     "iopub.status.idle": "2021-12-26T14:37:25.716961Z",
     "shell.execute_reply": "2021-12-26T14:37:25.717465Z"
    },
    "papermill": {
     "duration": 2.797385,
     "end_time": "2021-12-26T14:37:25.717652",
     "exception": false,
     "start_time": "2021-12-26T14:37:22.920267",
     "status": "completed"
    },
    "tags": [],
    "title": "Download de bevolkings cijfers van CBS, uitgesplitst op de leeftijds categorien in de dataset van het RIVM"
   },
   "outputs": [],
   "source": [
    "@run\n",
    "def cell():\n",
    "  global bevolking\n",
    "\n",
    "  # December 2021:\n",
    "  aantallenpercohort = {'0-9': 1757736,\n",
    "    '10-19': 1981885,\n",
    "    '20-29': 2263186,\n",
    "    '30-39': 2213705,\n",
    "    '40-49': 2137833,\n",
    "    '50-59': 2550358,\n",
    "    '60-69': 2171183,\n",
    "    '70-79': 1649291,\n",
    "    '80-89': 722027,\n",
    "    '90+': 135289}\n",
    "\n",
    "  global bevolking\n",
    "\n",
    "  bevolking = None\n",
    "  try:\n",
    "    bevolking = CBS.bevolking(leeftijdsgroepen=True)\n",
    "  except Exception as e:\n",
    "    print(e)\n",
    "    bevolking = None\n",
    "\n",
    "  if bevolking is None:\n",
    "    bevolking = aantallenpercohort\n",
    "\n"
   ]
  },
  {
   "cell_type": "code",
   "execution_count": 4,
   "id": "29bdecfd",
   "metadata": {
    "execution": {
     "iopub.execute_input": "2021-12-26T14:37:25.752643Z",
     "iopub.status.busy": "2021-12-26T14:37:25.747222Z",
     "iopub.status.idle": "2021-12-26T14:37:40.231880Z",
     "shell.execute_reply": "2021-12-26T14:37:40.230898Z"
    },
    "papermill": {
     "duration": 14.505927,
     "end_time": "2021-12-26T14:37:40.232027",
     "exception": false,
     "start_time": "2021-12-26T14:37:25.726100",
     "status": "completed"
    },
    "tags": [],
    "title": "leeftijdsgroepen: prepareer tabel"
   },
   "outputs": [
    {
     "data": {
      "text/html": [
       "<style type=\"text/css\">\n",
       "#T_fafd8_row0_col7 {\n",
       "  background-color: #2c738e;\n",
       "  color: #f1f1f1;\n",
       "}\n",
       "#T_fafd8_row0_col8, #T_fafd8_row3_col12 {\n",
       "  background-color: #34618d;\n",
       "  color: #f1f1f1;\n",
       "}\n",
       "#T_fafd8_row0_col9, #T_fafd8_row1_col10, #T_fafd8_row2_col10, #T_fafd8_row3_col10, #T_fafd8_row4_col8 {\n",
       "  background-color: #440154;\n",
       "  color: #f1f1f1;\n",
       "}\n",
       "#T_fafd8_row0_col10 {\n",
       "  background-color: #481467;\n",
       "  color: #f1f1f1;\n",
       "}\n",
       "#T_fafd8_row0_col11 {\n",
       "  background-color: #3c4f8a;\n",
       "  color: #f1f1f1;\n",
       "}\n",
       "#T_fafd8_row0_col12 {\n",
       "  background-color: #2a778e;\n",
       "  color: #f1f1f1;\n",
       "}\n",
       "#T_fafd8_row0_col13 {\n",
       "  background-color: #22a884;\n",
       "  color: #f1f1f1;\n",
       "}\n",
       "#T_fafd8_row0_col14 {\n",
       "  background-color: #84d44b;\n",
       "  color: #000000;\n",
       "}\n",
       "#T_fafd8_row0_col15 {\n",
       "  background-color: #d5e21a;\n",
       "  color: #000000;\n",
       "}\n",
       "#T_fafd8_row0_col16 {\n",
       "  background-color: #f1e51d;\n",
       "  color: #000000;\n",
       "}\n",
       "#T_fafd8_row0_col17, #T_fafd8_row1_col17, #T_fafd8_row2_col17, #T_fafd8_row3_col17, #T_fafd8_row4_col17 {\n",
       "  background-color: #fde725;\n",
       "  color: #000000;\n",
       "}\n",
       "#T_fafd8_row1_col7 {\n",
       "  background-color: #423f85;\n",
       "  color: #f1f1f1;\n",
       "}\n",
       "#T_fafd8_row1_col8 {\n",
       "  background-color: #472c7a;\n",
       "  color: #f1f1f1;\n",
       "}\n",
       "#T_fafd8_row1_col9, #T_fafd8_row4_col7 {\n",
       "  background-color: #453781;\n",
       "  color: #f1f1f1;\n",
       "}\n",
       "#T_fafd8_row1_col11 {\n",
       "  background-color: #482677;\n",
       "  color: #f1f1f1;\n",
       "}\n",
       "#T_fafd8_row1_col12 {\n",
       "  background-color: #34608d;\n",
       "  color: #f1f1f1;\n",
       "}\n",
       "#T_fafd8_row1_col13 {\n",
       "  background-color: #20928c;\n",
       "  color: #f1f1f1;\n",
       "}\n",
       "#T_fafd8_row1_col14 {\n",
       "  background-color: #50c46a;\n",
       "  color: #000000;\n",
       "}\n",
       "#T_fafd8_row1_col15 {\n",
       "  background-color: #b2dd2d;\n",
       "  color: #000000;\n",
       "}\n",
       "#T_fafd8_row1_col16 {\n",
       "  background-color: #eae51a;\n",
       "  color: #000000;\n",
       "}\n",
       "#T_fafd8_row2_col7 {\n",
       "  background-color: #482071;\n",
       "  color: #f1f1f1;\n",
       "}\n",
       "#T_fafd8_row2_col8, #T_fafd8_row3_col11, #T_fafd8_row4_col11 {\n",
       "  background-color: #48186a;\n",
       "  color: #f1f1f1;\n",
       "}\n",
       "#T_fafd8_row2_col9, #T_fafd8_row4_col9 {\n",
       "  background-color: #38588c;\n",
       "  color: #f1f1f1;\n",
       "}\n",
       "#T_fafd8_row2_col11 {\n",
       "  background-color: #481c6e;\n",
       "  color: #f1f1f1;\n",
       "}\n",
       "#T_fafd8_row2_col12 {\n",
       "  background-color: #32658e;\n",
       "  color: #f1f1f1;\n",
       "}\n",
       "#T_fafd8_row2_col13 {\n",
       "  background-color: #238a8d;\n",
       "  color: #f1f1f1;\n",
       "}\n",
       "#T_fafd8_row2_col14 {\n",
       "  background-color: #3bbb75;\n",
       "  color: #f1f1f1;\n",
       "}\n",
       "#T_fafd8_row2_col15 {\n",
       "  background-color: #93d741;\n",
       "  color: #000000;\n",
       "}\n",
       "#T_fafd8_row2_col16 {\n",
       "  background-color: #dfe318;\n",
       "  color: #000000;\n",
       "}\n",
       "#T_fafd8_row3_col7 {\n",
       "  background-color: #472f7d;\n",
       "  color: #f1f1f1;\n",
       "}\n",
       "#T_fafd8_row3_col8 {\n",
       "  background-color: #471063;\n",
       "  color: #f1f1f1;\n",
       "}\n",
       "#T_fafd8_row3_col9 {\n",
       "  background-color: #39558c;\n",
       "  color: #f1f1f1;\n",
       "}\n",
       "#T_fafd8_row3_col13 {\n",
       "  background-color: #228c8d;\n",
       "  color: #f1f1f1;\n",
       "}\n",
       "#T_fafd8_row3_col14 {\n",
       "  background-color: #3fbc73;\n",
       "  color: #f1f1f1;\n",
       "}\n",
       "#T_fafd8_row3_col15 {\n",
       "  background-color: #90d743;\n",
       "  color: #000000;\n",
       "}\n",
       "#T_fafd8_row3_col16, #T_fafd8_row4_col16 {\n",
       "  background-color: #dde318;\n",
       "  color: #000000;\n",
       "}\n",
       "#T_fafd8_row4_col10 {\n",
       "  background-color: #471164;\n",
       "  color: #f1f1f1;\n",
       "}\n",
       "#T_fafd8_row4_col12 {\n",
       "  background-color: #365c8d;\n",
       "  color: #f1f1f1;\n",
       "}\n",
       "#T_fafd8_row4_col13 {\n",
       "  background-color: #23888e;\n",
       "  color: #f1f1f1;\n",
       "}\n",
       "#T_fafd8_row4_col14 {\n",
       "  background-color: #3aba76;\n",
       "  color: #f1f1f1;\n",
       "}\n",
       "#T_fafd8_row4_col15 {\n",
       "  background-color: #8bd646;\n",
       "  color: #000000;\n",
       "}\n",
       "</style>\n",
       "<table id=\"T_fafd8_\">\n",
       "  <thead>\n",
       "    <tr>\n",
       "      <th class=\"blank level0\" >&nbsp;</th>\n",
       "      <th class=\"col_heading level0 col0\" >Key</th>\n",
       "      <th class=\"col_heading level0 col1\" >Weken terug</th>\n",
       "      <th class=\"col_heading level0 col2\" >Datum</th>\n",
       "      <th class=\"col_heading level0 col3\" >Periode</th>\n",
       "      <th class=\"col_heading level0 col4\" >Gemiddelde leeftijd</th>\n",
       "      <th class=\"col_heading level0 col5\" >Totaal</th>\n",
       "      <th class=\"col_heading level0 col6\" >Type</th>\n",
       "      <th class=\"col_heading level0 col7\" >0-9</th>\n",
       "      <th class=\"col_heading level0 col8\" >10-19</th>\n",
       "      <th class=\"col_heading level0 col9\" >20-29</th>\n",
       "      <th class=\"col_heading level0 col10\" >30-39</th>\n",
       "      <th class=\"col_heading level0 col11\" >40-49</th>\n",
       "      <th class=\"col_heading level0 col12\" >50-59</th>\n",
       "      <th class=\"col_heading level0 col13\" >60-69</th>\n",
       "      <th class=\"col_heading level0 col14\" >70-79</th>\n",
       "      <th class=\"col_heading level0 col15\" >80-89</th>\n",
       "      <th class=\"col_heading level0 col16\" >90+</th>\n",
       "      <th class=\"col_heading level0 col17\" >Onbekend</th>\n",
       "      <th class=\"col_heading level0 col18\" >c0-9</th>\n",
       "      <th class=\"col_heading level0 col19\" >c10-19</th>\n",
       "      <th class=\"col_heading level0 col20\" >c20-29</th>\n",
       "      <th class=\"col_heading level0 col21\" >c30-39</th>\n",
       "      <th class=\"col_heading level0 col22\" >c40-49</th>\n",
       "      <th class=\"col_heading level0 col23\" >c50-59</th>\n",
       "      <th class=\"col_heading level0 col24\" >c60-69</th>\n",
       "      <th class=\"col_heading level0 col25\" >c70-79</th>\n",
       "      <th class=\"col_heading level0 col26\" >c80-89</th>\n",
       "      <th class=\"col_heading level0 col27\" >c90+</th>\n",
       "      <th class=\"col_heading level0 col28\" >cOnbekend</th>\n",
       "    </tr>\n",
       "  </thead>\n",
       "  <tbody>\n",
       "    <tr>\n",
       "      <th id=\"T_fafd8_level0_row0\" class=\"row_heading level0 row0\" >0</th>\n",
       "      <td id=\"T_fafd8_row0_col0\" class=\"data row0 col0\" >p000</td>\n",
       "      <td id=\"T_fafd8_row0_col1\" class=\"data row0 col1\" >0</td>\n",
       "      <td id=\"T_fafd8_row0_col2\" class=\"data row0 col2\" >2021-12-26 00:00:00</td>\n",
       "      <td id=\"T_fafd8_row0_col3\" class=\"data row0 col3\" >20/12-26/12</td>\n",
       "      <td id=\"T_fafd8_row0_col4\" class=\"data row0 col4\" >35.200000</td>\n",
       "      <td id=\"T_fafd8_row0_col5\" class=\"data row0 col5\" >49975.000000</td>\n",
       "      <td id=\"T_fafd8_row0_col6\" class=\"data row0 col6\" >Positief getest</td>\n",
       "      <td id=\"T_fafd8_row0_col7\" class=\"data row0 col7\" >5839.000000</td>\n",
       "      <td id=\"T_fafd8_row0_col8\" class=\"data row0 col8\" >6551.000000</td>\n",
       "      <td id=\"T_fafd8_row0_col9\" class=\"data row0 col9\" >9425.000000</td>\n",
       "      <td id=\"T_fafd8_row0_col10\" class=\"data row0 col10\" >8927.000000</td>\n",
       "      <td id=\"T_fafd8_row0_col11\" class=\"data row0 col11\" >7178.000000</td>\n",
       "      <td id=\"T_fafd8_row0_col12\" class=\"data row0 col12\" >5691.000000</td>\n",
       "      <td id=\"T_fafd8_row0_col13\" class=\"data row0 col13\" >3783.000000</td>\n",
       "      <td id=\"T_fafd8_row0_col14\" class=\"data row0 col14\" >1767.000000</td>\n",
       "      <td id=\"T_fafd8_row0_col15\" class=\"data row0 col15\" >614.000000</td>\n",
       "      <td id=\"T_fafd8_row0_col16\" class=\"data row0 col16\" >200.000000</td>\n",
       "      <td id=\"T_fafd8_row0_col17\" class=\"data row0 col17\" >0.000000</td>\n",
       "      <td id=\"T_fafd8_row0_col18\" class=\"data row0 col18\" >619</td>\n",
       "      <td id=\"T_fafd8_row0_col19\" class=\"data row0 col19\" >695</td>\n",
       "      <td id=\"T_fafd8_row0_col20\" class=\"data row0 col20\" >1000</td>\n",
       "      <td id=\"T_fafd8_row0_col21\" class=\"data row0 col21\" >947</td>\n",
       "      <td id=\"T_fafd8_row0_col22\" class=\"data row0 col22\" >761</td>\n",
       "      <td id=\"T_fafd8_row0_col23\" class=\"data row0 col23\" >603</td>\n",
       "      <td id=\"T_fafd8_row0_col24\" class=\"data row0 col24\" >401</td>\n",
       "      <td id=\"T_fafd8_row0_col25\" class=\"data row0 col25\" >187</td>\n",
       "      <td id=\"T_fafd8_row0_col26\" class=\"data row0 col26\" >65</td>\n",
       "      <td id=\"T_fafd8_row0_col27\" class=\"data row0 col27\" >21</td>\n",
       "      <td id=\"T_fafd8_row0_col28\" class=\"data row0 col28\" >0</td>\n",
       "    </tr>\n",
       "    <tr>\n",
       "      <th id=\"T_fafd8_level0_row1\" class=\"row_heading level0 row1\" >1</th>\n",
       "      <td id=\"T_fafd8_row1_col0\" class=\"data row1 col0\" >p001</td>\n",
       "      <td id=\"T_fafd8_row1_col1\" class=\"data row1 col1\" >1</td>\n",
       "      <td id=\"T_fafd8_row1_col2\" class=\"data row1 col2\" >2021-12-26 00:00:00</td>\n",
       "      <td id=\"T_fafd8_row1_col3\" class=\"data row1 col3\" >13/12-19/12</td>\n",
       "      <td id=\"T_fafd8_row1_col4\" class=\"data row1 col4\" >36.000000</td>\n",
       "      <td id=\"T_fafd8_row1_col5\" class=\"data row1 col5\" >90080.000000</td>\n",
       "      <td id=\"T_fafd8_row1_col6\" class=\"data row1 col6\" >Positief getest</td>\n",
       "      <td id=\"T_fafd8_row1_col7\" class=\"data row1 col7\" >12154.000000</td>\n",
       "      <td id=\"T_fafd8_row1_col8\" class=\"data row1 col8\" >13073.000000</td>\n",
       "      <td id=\"T_fafd8_row1_col9\" class=\"data row1 col9\" >12546.000000</td>\n",
       "      <td id=\"T_fafd8_row1_col10\" class=\"data row1 col10\" >14910.000000</td>\n",
       "      <td id=\"T_fafd8_row1_col11\" class=\"data row1 col11\" >13288.000000</td>\n",
       "      <td id=\"T_fafd8_row1_col12\" class=\"data row1 col12\" >10425.000000</td>\n",
       "      <td id=\"T_fafd8_row1_col13\" class=\"data row1 col13\" >7342.000000</td>\n",
       "      <td id=\"T_fafd8_row1_col14\" class=\"data row1 col14\" >4101.000000</td>\n",
       "      <td id=\"T_fafd8_row1_col15\" class=\"data row1 col15\" >1719.000000</td>\n",
       "      <td id=\"T_fafd8_row1_col16\" class=\"data row1 col16\" >520.000000</td>\n",
       "      <td id=\"T_fafd8_row1_col17\" class=\"data row1 col17\" >2.000000</td>\n",
       "      <td id=\"T_fafd8_row1_col18\" class=\"data row1 col18\" >815</td>\n",
       "      <td id=\"T_fafd8_row1_col19\" class=\"data row1 col19\" >876</td>\n",
       "      <td id=\"T_fafd8_row1_col20\" class=\"data row1 col20\" >841</td>\n",
       "      <td id=\"T_fafd8_row1_col21\" class=\"data row1 col21\" >1000</td>\n",
       "      <td id=\"T_fafd8_row1_col22\" class=\"data row1 col22\" >891</td>\n",
       "      <td id=\"T_fafd8_row1_col23\" class=\"data row1 col23\" >699</td>\n",
       "      <td id=\"T_fafd8_row1_col24\" class=\"data row1 col24\" >492</td>\n",
       "      <td id=\"T_fafd8_row1_col25\" class=\"data row1 col25\" >275</td>\n",
       "      <td id=\"T_fafd8_row1_col26\" class=\"data row1 col26\" >115</td>\n",
       "      <td id=\"T_fafd8_row1_col27\" class=\"data row1 col27\" >34</td>\n",
       "      <td id=\"T_fafd8_row1_col28\" class=\"data row1 col28\" >0</td>\n",
       "    </tr>\n",
       "    <tr>\n",
       "      <th id=\"T_fafd8_level0_row2\" class=\"row_heading level0 row2\" >2</th>\n",
       "      <td id=\"T_fafd8_row2_col0\" class=\"data row2 col0\" >p002</td>\n",
       "      <td id=\"T_fafd8_row2_col1\" class=\"data row2 col1\" >2</td>\n",
       "      <td id=\"T_fafd8_row2_col2\" class=\"data row2 col2\" >2021-12-26 00:00:00</td>\n",
       "      <td id=\"T_fafd8_row2_col3\" class=\"data row2 col3\" >06/12-12/12</td>\n",
       "      <td id=\"T_fafd8_row2_col4\" class=\"data row2 col4\" >36.400000</td>\n",
       "      <td id=\"T_fafd8_row2_col5\" class=\"data row2 col5\" >112044.000000</td>\n",
       "      <td id=\"T_fafd8_row2_col6\" class=\"data row2 col6\" >Positief getest</td>\n",
       "      <td id=\"T_fafd8_row2_col7\" class=\"data row2 col7\" >16385.000000</td>\n",
       "      <td id=\"T_fafd8_row2_col8\" class=\"data row2 col8\" >16836.000000</td>\n",
       "      <td id=\"T_fafd8_row2_col9\" class=\"data row2 col9\" >13119.000000</td>\n",
       "      <td id=\"T_fafd8_row2_col10\" class=\"data row2 col10\" >17981.000000</td>\n",
       "      <td id=\"T_fafd8_row2_col11\" class=\"data row2 col11\" >16582.000000</td>\n",
       "      <td id=\"T_fafd8_row2_col12\" class=\"data row2 col12\" >12173.000000</td>\n",
       "      <td id=\"T_fafd8_row2_col13\" class=\"data row2 col13\" >9461.000000</td>\n",
       "      <td id=\"T_fafd8_row2_col14\" class=\"data row2 col14\" >5717.000000</td>\n",
       "      <td id=\"T_fafd8_row2_col15\" class=\"data row2 col15\" >2928.000000</td>\n",
       "      <td id=\"T_fafd8_row2_col16\" class=\"data row2 col16\" >860.000000</td>\n",
       "      <td id=\"T_fafd8_row2_col17\" class=\"data row2 col17\" >2.000000</td>\n",
       "      <td id=\"T_fafd8_row2_col18\" class=\"data row2 col18\" >911</td>\n",
       "      <td id=\"T_fafd8_row2_col19\" class=\"data row2 col19\" >936</td>\n",
       "      <td id=\"T_fafd8_row2_col20\" class=\"data row2 col20\" >729</td>\n",
       "      <td id=\"T_fafd8_row2_col21\" class=\"data row2 col21\" >1000</td>\n",
       "      <td id=\"T_fafd8_row2_col22\" class=\"data row2 col22\" >922</td>\n",
       "      <td id=\"T_fafd8_row2_col23\" class=\"data row2 col23\" >676</td>\n",
       "      <td id=\"T_fafd8_row2_col24\" class=\"data row2 col24\" >526</td>\n",
       "      <td id=\"T_fafd8_row2_col25\" class=\"data row2 col25\" >317</td>\n",
       "      <td id=\"T_fafd8_row2_col26\" class=\"data row2 col26\" >162</td>\n",
       "      <td id=\"T_fafd8_row2_col27\" class=\"data row2 col27\" >47</td>\n",
       "      <td id=\"T_fafd8_row2_col28\" class=\"data row2 col28\" >0</td>\n",
       "    </tr>\n",
       "    <tr>\n",
       "      <th id=\"T_fafd8_level0_row3\" class=\"row_heading level0 row3\" >3</th>\n",
       "      <td id=\"T_fafd8_row3_col0\" class=\"data row3 col0\" >p003</td>\n",
       "      <td id=\"T_fafd8_row3_col1\" class=\"data row3 col1\" >3</td>\n",
       "      <td id=\"T_fafd8_row3_col2\" class=\"data row3 col2\" >2021-12-26 00:00:00</td>\n",
       "      <td id=\"T_fafd8_row3_col3\" class=\"data row3 col3\" >29/11-05/12</td>\n",
       "      <td id=\"T_fafd8_row3_col4\" class=\"data row3 col4\" >36.600000</td>\n",
       "      <td id=\"T_fafd8_row3_col5\" class=\"data row3 col5\" >139674.000000</td>\n",
       "      <td id=\"T_fafd8_row3_col6\" class=\"data row3 col6\" >Positief getest</td>\n",
       "      <td id=\"T_fafd8_row3_col7\" class=\"data row3 col7\" >19362.000000</td>\n",
       "      <td id=\"T_fafd8_row3_col8\" class=\"data row3 col8\" >21444.000000</td>\n",
       "      <td id=\"T_fafd8_row3_col9\" class=\"data row3 col9\" >16499.000000</td>\n",
       "      <td id=\"T_fafd8_row3_col10\" class=\"data row3 col10\" >22404.000000</td>\n",
       "      <td id=\"T_fafd8_row3_col11\" class=\"data row3 col11\" >20992.000000</td>\n",
       "      <td id=\"T_fafd8_row3_col12\" class=\"data row3 col12\" >15499.000000</td>\n",
       "      <td id=\"T_fafd8_row3_col13\" class=\"data row3 col13\" >11617.000000</td>\n",
       "      <td id=\"T_fafd8_row3_col14\" class=\"data row3 col14\" >6978.000000</td>\n",
       "      <td id=\"T_fafd8_row3_col15\" class=\"data row3 col15\" >3733.000000</td>\n",
       "      <td id=\"T_fafd8_row3_col16\" class=\"data row3 col16\" >1143.000000</td>\n",
       "      <td id=\"T_fafd8_row3_col17\" class=\"data row3 col17\" >3.000000</td>\n",
       "      <td id=\"T_fafd8_row3_col18\" class=\"data row3 col18\" >864</td>\n",
       "      <td id=\"T_fafd8_row3_col19\" class=\"data row3 col19\" >957</td>\n",
       "      <td id=\"T_fafd8_row3_col20\" class=\"data row3 col20\" >736</td>\n",
       "      <td id=\"T_fafd8_row3_col21\" class=\"data row3 col21\" >1000</td>\n",
       "      <td id=\"T_fafd8_row3_col22\" class=\"data row3 col22\" >936</td>\n",
       "      <td id=\"T_fafd8_row3_col23\" class=\"data row3 col23\" >691</td>\n",
       "      <td id=\"T_fafd8_row3_col24\" class=\"data row3 col24\" >518</td>\n",
       "      <td id=\"T_fafd8_row3_col25\" class=\"data row3 col25\" >311</td>\n",
       "      <td id=\"T_fafd8_row3_col26\" class=\"data row3 col26\" >166</td>\n",
       "      <td id=\"T_fafd8_row3_col27\" class=\"data row3 col27\" >51</td>\n",
       "      <td id=\"T_fafd8_row3_col28\" class=\"data row3 col28\" >0</td>\n",
       "    </tr>\n",
       "    <tr>\n",
       "      <th id=\"T_fafd8_level0_row4\" class=\"row_heading level0 row4\" >4</th>\n",
       "      <td id=\"T_fafd8_row4_col0\" class=\"data row4 col0\" >p004</td>\n",
       "      <td id=\"T_fafd8_row4_col1\" class=\"data row4 col1\" >4</td>\n",
       "      <td id=\"T_fafd8_row4_col2\" class=\"data row4 col2\" >2021-12-26 00:00:00</td>\n",
       "      <td id=\"T_fafd8_row4_col3\" class=\"data row4 col3\" >22/11-28/11</td>\n",
       "      <td id=\"T_fafd8_row4_col4\" class=\"data row4 col4\" >36.900000</td>\n",
       "      <td id=\"T_fafd8_row4_col5\" class=\"data row4 col5\" >149656.000000</td>\n",
       "      <td id=\"T_fafd8_row4_col6\" class=\"data row4 col6\" >Positief getest</td>\n",
       "      <td id=\"T_fafd8_row4_col7\" class=\"data row4 col7\" >20131.000000</td>\n",
       "      <td id=\"T_fafd8_row4_col8\" class=\"data row4 col8\" >23906.000000</td>\n",
       "      <td id=\"T_fafd8_row4_col9\" class=\"data row4 col9\" >17379.000000</td>\n",
       "      <td id=\"T_fafd8_row4_col10\" class=\"data row4 col10\" >22841.000000</td>\n",
       "      <td id=\"T_fafd8_row4_col11\" class=\"data row4 col11\" >22379.000000</td>\n",
       "      <td id=\"T_fafd8_row4_col12\" class=\"data row4 col12\" >17076.000000</td>\n",
       "      <td id=\"T_fafd8_row4_col13\" class=\"data row4 col13\" >12726.000000</td>\n",
       "      <td id=\"T_fafd8_row4_col14\" class=\"data row4 col14\" >7745.000000</td>\n",
       "      <td id=\"T_fafd8_row4_col15\" class=\"data row4 col15\" >4194.000000</td>\n",
       "      <td id=\"T_fafd8_row4_col16\" class=\"data row4 col16\" >1275.000000</td>\n",
       "      <td id=\"T_fafd8_row4_col17\" class=\"data row4 col17\" >4.000000</td>\n",
       "      <td id=\"T_fafd8_row4_col18\" class=\"data row4 col18\" >842</td>\n",
       "      <td id=\"T_fafd8_row4_col19\" class=\"data row4 col19\" >1000</td>\n",
       "      <td id=\"T_fafd8_row4_col20\" class=\"data row4 col20\" >726</td>\n",
       "      <td id=\"T_fafd8_row4_col21\" class=\"data row4 col21\" >955</td>\n",
       "      <td id=\"T_fafd8_row4_col22\" class=\"data row4 col22\" >936</td>\n",
       "      <td id=\"T_fafd8_row4_col23\" class=\"data row4 col23\" >714</td>\n",
       "      <td id=\"T_fafd8_row4_col24\" class=\"data row4 col24\" >532</td>\n",
       "      <td id=\"T_fafd8_row4_col25\" class=\"data row4 col25\" >323</td>\n",
       "      <td id=\"T_fafd8_row4_col26\" class=\"data row4 col26\" >175</td>\n",
       "      <td id=\"T_fafd8_row4_col27\" class=\"data row4 col27\" >53</td>\n",
       "      <td id=\"T_fafd8_row4_col28\" class=\"data row4 col28\" >0</td>\n",
       "    </tr>\n",
       "  </tbody>\n",
       "</table>\n"
      ],
      "text/plain": [
       "<pandas.io.formats.style.Styler at 0x7f9ce3789c10>"
      ]
     },
     "metadata": {},
     "output_type": "display_data"
    }
   ],
   "source": [
    "# Bereken de stand van zaken van besmettingen / hospitalisaties / overlijden, per cohort in absolute aantallen en aantallen per 100k, met een kleur indicator voor de aantallen.\n",
    "# vervang <50 en Unknown door Onbekend\n",
    "@run\n",
    "def cell():\n",
    "  rivm['Cohort'] = rivm['Agegroup'].replace({'<50': 'Onbekend', 'Unknown': 'Onbekend'})\n",
    "  # aangenomen 'gemiddelde' leeftijd van een cohort: minimum waarde + 5\n",
    "  assumed_cohort_age = [(cohort, [int(n) for n in cohort.replace('+', '').split('-')]) for cohort in rivm['Cohort'].unique() if cohort[0].isdigit()]\n",
    "  assumed_cohort_age = { cohort: min(rng) + 5 for cohort, rng in assumed_cohort_age }\n",
    "  rivm['Gemiddelde leeftijd'] = rivm['Cohort'].apply(lambda x: assumed_cohort_age.get(x, np.nan))\n",
    "\n",
    "  # verwijder tijd\n",
    "  rivm['Date_file_date'] = pd.to_datetime(rivm['Date_file'].replace(r' .*', '', regex=True))\n",
    "\n",
    "  rivm['Date_statistics_date'] = pd.to_datetime(rivm['Date_statistics'])\n",
    "\n",
    "  # weken terug = verschil tussen Date_file en Date_statistcs, gedeeld door 7 dagen\n",
    "  rivm['Weken terug'] = np.floor((rivm['Date_file_date'] - rivm['Date_statistics_date'])/np.timedelta64(7, 'D')).astype(int)\n",
    "\n",
    "  # voeg key, gem leeftijd, kleurnummer en totaal toe\n",
    "  Date_file = rivm['Date_file_date'].unique()[0].astype('M8[D]').astype('O')\n",
    "  # check type bevolking\n",
    "  if type(bevolking) == dict:\n",
    "    cohorten = list(bevolking.keys())\n",
    "  else:\n",
    "    cohorten = list(bevolking.index)\n",
    "  cohorten += ['Onbekend']\n",
    "\n",
    "  def summarize(df, category, prefix):\n",
    "    # aangezien we hier de dataframe in-place wijzigen (bijv door toevoegen kolommen)\n",
    "    # en we het 'rivm' frame later nog clean nodig hebben\n",
    "    df = df.copy(deep=True)\n",
    "\n",
    "    df = (df\n",
    "          .groupby(['Weken terug', 'Cohort'])['count']\n",
    "          .sum()\n",
    "          .unstack(fill_value=np.nan)\n",
    "          .reset_index()\n",
    "          .rename_axis(None, axis=1)\n",
    "        ).merge(df\n",
    "          # we voegen hier gemiddelde leeftijd toe, want die willen we op een ander\n",
    "          # niveau aggregeren voor 'df' overschreven word\n",
    "          .groupby(['Weken terug'])['Gemiddelde leeftijd']\n",
    "          .mean()\n",
    "          .to_frame(), on='Weken terug'\n",
    "        )\n",
    "\n",
    "    # altijd 52 rijen\n",
    "    df = pd.Series(np.arange(52), name='Weken terug').to_frame().merge(df, how='left', on='Weken terug')\n",
    "\n",
    "    # toevoegen missende cohorten\n",
    "    for col in cohorten:\n",
    "      if not col in df:\n",
    "        df[col] = np.nan\n",
    "\n",
    "    # sommeer per rij (axis=1) over de cohorten om een totaal te krijgen\n",
    "    df['Totaal'] = df[cohorten].sum(axis=1)\n",
    "\n",
    "    # voeg periode en datum toe\n",
    "    # periode afgeleid van weken-terug (= de index voor deze dataframe)\n",
    "    df['Datum'] = pd.to_datetime(Date_file)\n",
    "    df['Periode'] = (df\n",
    "      .index.to_series()\n",
    "      .apply(\n",
    "        lambda x: (\n",
    "          (Date_file + datetime.timedelta(weeks=-(x+1), days=1)).strftime('%d/%m')\n",
    "          + '-'\n",
    "          + (Date_file + datetime.timedelta(weeks=-x)).strftime('%d/%m')\n",
    "        )\n",
    "      )\n",
    "    )\n",
    "\n",
    "    # voeg 'Key' en 'Type' kolom toe. Variabele 'type' kan niet, is een language primitive.\n",
    "    df['Key'] = prefix + df.index.astype(str).str.rjust(3, fillchar='0')\n",
    "    df['Type'] = category\n",
    "\n",
    "    # voeg de kleur kolommen toe\n",
    "    for col in cohorten:\n",
    "      df['c' + col] = ((df[col] / df[[col for col in cohorten]].max(axis=1)) * 1000).fillna(0).astype(int)\n",
    "\n",
    "    # herschikken van de kolommen\n",
    "    colorder = ['Key', 'Weken terug', 'Datum', 'Periode', 'Gemiddelde leeftijd', 'Totaal', 'Type']\n",
    "    return df[colorder + [col for col in df if col not in colorder]]\n",
    "\n",
    "  if type(bevolking) == dict:\n",
    "    factor = {}\n",
    "    for c in bevolking: factor[c] = 100_000 / bevolking[c]\n",
    "  else:\n",
    "    factor = bevolking.to_dict()['per 100k']\n",
    "\n",
    "  global tabel\n",
    "  tabel = pd.concat(\n",
    "    # flatten the result list zodat pd.concat ze onder elkaar kan plakken\n",
    "    functools.reduce(lambda a, b: a + b, [\n",
    "      [summarize(df.assign(count=1), label, prefix), summarize(df.assign(count=df['Cohort'].apply(lambda x: factor.get(x, np.nan))), label + ' per 100.000', prefix + '100k')]\n",
    "      for df, label, prefix in [\n",
    "        (rivm, 'Positief getest', 'p'), # volledige count per cohort\n",
    "        (rivm[rivm.Hospital_admission == 'Yes'], 'Ziekenhuisopname', 'h'), # count van cohort voor Hospital_admission == 'Yes'\n",
    "        (rivm[rivm.Deceased == 'Yes'], 'Overleden', 'd'), # count van cohort voor Deceased == 'Yes'\n",
    "      ]\n",
    "    ])\n",
    "  )\n",
    "\n",
    "  if type(bevolking) == dict:\n",
    "    totale_bevolking = sum(bevolking.values())\n",
    "    print(totale_bevolking)\n",
    "  else:\n",
    "    totale_bevolking_per_cohort = bevolking.to_dict()['BevolkingOpDeEersteVanDeMaand']\n",
    "    totale_bevolking = sum( totale_bevolking_per_cohort.values())\n",
    "\n",
    "  keys = [ key for key in tabel[\"Key\"]]\n",
    "  totals = [ x for x in tabel[\"Totaal\"]]\n",
    "  for k in range(0, len(keys)):\n",
    "    key = keys[k]\n",
    "    if '100k' in key:\n",
    "      abskey = key[0] + key[5:]\n",
    "      kk = keys.index(abskey)\n",
    "      if isinstance(totals[k], float):\n",
    "        correctedtotal = totals[kk] * (100_000 / totale_bevolking)\n",
    "        # print([k, totals[k], totals[kk], correctedtotal])\n",
    "        totals[k] = correctedtotal\n",
    "\n",
    "  tabel[\"Totaal\"] = totals\n",
    "\n",
    "\n",
    "  # rood -> groen\n",
    "  cdict = {\n",
    "    'red':   ((0.0, 0.0, 0.0),   # no red at 0\n",
    "              (0.5, 1.0, 1.0),   # all channels set to 1.0 at 0.5 to create white\n",
    "              (1.0, 0.8, 0.8)),  # set to 0.8 so its not too bright at 1\n",
    "    'green': ((0.0, 0.8, 0.8),   # set to 0.8 so its not too bright at 0\n",
    "              (0.5, 1.0, 1.0),   # all channels set to 1.0 at 0.5 to create white\n",
    "              (1.0, 0.0, 0.0)),  # no green at 1\n",
    "    'blue':  ((0.0, 0.0, 0.0),   # no blue at 0\n",
    "              (0.5, 1.0, 1.0),   # all channels set to 1.0 at 0.5 to create white\n",
    "              (1.0, 0.0, 0.0))   # no blue at 1\n",
    "  }\n",
    "  cm = colors.LinearSegmentedColormap('GnRd', cdict)\n",
    "  # geel -> paars\n",
    "  cm = sns.color_palette('viridis_r', as_cmap=True)\n",
    "  display(tabel\n",
    "    .fillna(0)\n",
    "    .head()\n",
    "    .round(1)\n",
    "    .reset_index(drop=True)\n",
    "    .style.background_gradient(cmap=cm, axis=1, subset=cohorten)\n",
    "  )"
   ]
  },
  {
   "cell_type": "code",
   "execution_count": 5,
   "id": "f6414282",
   "metadata": {
    "execution": {
     "iopub.execute_input": "2021-12-26T14:37:40.255781Z",
     "iopub.status.busy": "2021-12-26T14:37:40.254222Z",
     "iopub.status.idle": "2021-12-26T14:38:13.300314Z",
     "shell.execute_reply": "2021-12-26T14:38:13.300839Z"
    },
    "papermill": {
     "duration": 33.059499,
     "end_time": "2021-12-26T14:38:13.301037",
     "exception": false,
     "start_time": "2021-12-26T14:37:40.241538",
     "status": "completed"
    },
    "tags": [],
    "title": "publish"
   },
   "outputs": [
    {
     "name": "stdout",
     "output_type": "stream",
     "text": [
      "infinities:\n"
     ]
    },
    {
     "name": "stdout",
     "output_type": "stream",
     "text": [
      "Empty DataFrame\n",
      "Columns: []\n",
      "Index: []\n"
     ]
    },
    {
     "name": "stdout",
     "output_type": "stream",
     "text": [
      "nan:\n"
     ]
    },
    {
     "name": "stdout",
     "output_type": "stream",
     "text": [
      "Empty DataFrame\n",
      "Columns: []\n",
      "Index: []\n"
     ]
    },
    {
     "name": "stdout",
     "output_type": "stream",
     "text": [
      "Key                     object\n",
      "Weken terug              int64\n",
      "Datum                   object\n",
      "Periode                 object\n",
      "Gemiddelde leeftijd    float64\n",
      "Totaal                 float64\n",
      "Type                    object\n",
      "0-9                    float64\n",
      "10-19                  float64\n",
      "20-29                  float64\n",
      "30-39                  float64\n",
      "40-49                  float64\n",
      "50-59                  float64\n",
      "60-69                  float64\n",
      "70-79                  float64\n",
      "80-89                  float64\n",
      "90+                    float64\n",
      "Onbekend               float64\n",
      "c0-9                     int64\n",
      "c10-19                   int64\n",
      "c20-29                   int64\n",
      "c30-39                   int64\n",
      "c40-49                   int64\n",
      "c50-59                   int64\n",
      "c60-69                   int64\n",
      "c70-79                   int64\n",
      "c80-89                   int64\n",
      "c90+                     int64\n",
      "cOnbekend                int64\n",
      "dtype: object\n",
      "updating knack\n"
     ]
    },
    {
     "name": "stdout",
     "output_type": "stream",
     "text": [
      "updating: [{'Key': 1, 'Updating Leeftijdsgroep': 'true'}]\n"
     ]
    },
    {
     "name": "stdout",
     "output_type": "stream",
     "text": [
      "restored LaatsteUpdate from hash\n"
     ]
    },
    {
     "name": "stdout",
     "output_type": "stream",
     "text": [
      "Key                         int64\n",
      "Updating Leeftijdsgroep    object\n",
      "dtype: object\n"
     ]
    },
    {
     "name": "stderr",
     "output_type": "stream",
     "text": [
      "\r",
      "  0%|          | 0/1 [00:00<?, ?it/s]"
     ]
    },
    {
     "name": "stderr",
     "output_type": "stream",
     "text": [
      "\r",
      "100%|██████████| 1/1 [00:00<00:00,  1.17it/s]"
     ]
    },
    {
     "name": "stderr",
     "output_type": "stream",
     "text": [
      "\r",
      "100%|██████████| 1/1 [00:00<00:00,  1.17it/s]"
     ]
    },
    {
     "name": "stdout",
     "output_type": "stream",
     "text": [
      "\n",
      "rate limit: 7 \n",
      "LaatsteUpdate API calls: create: 0, read: 1, update: 1, delete: 0, backoff: 0\n"
     ]
    },
    {
     "name": "stderr",
     "output_type": "stream",
     "text": [
      "\n"
     ]
    },
    {
     "name": "stdout",
     "output_type": "stream",
     "text": [
      "restored Leeftijdsgroep from hash\n"
     ]
    },
    {
     "name": "stdout",
     "output_type": "stream",
     "text": [
      "0-9                    float64\n",
      "10-19                  float64\n",
      "20-29                  float64\n",
      "30-39                  float64\n",
      "40-49                  float64\n",
      "50-59                  float64\n",
      "60-69                  float64\n",
      "70-79                  float64\n",
      "80-89                  float64\n",
      "90+                    float64\n",
      "Datum                   object\n",
      "Gemiddelde leeftijd    float64\n",
      "Key                     object\n",
      "Onbekend               float64\n",
      "Periode                 object\n",
      "Totaal                 float64\n",
      "Type                    object\n",
      "Weken terug              int64\n",
      "c0-9                     int64\n",
      "c10-19                   int64\n",
      "c20-29                   int64\n",
      "c30-39                   int64\n",
      "c40-49                   int64\n",
      "c50-59                   int64\n",
      "c60-69                   int64\n",
      "c70-79                   int64\n",
      "c80-89                   int64\n",
      "c90+                     int64\n",
      "cOnbekend                int64\n",
      "dtype: object\n"
     ]
    },
    {
     "name": "stderr",
     "output_type": "stream",
     "text": [
      "\r",
      "  0%|          | 0/149 [00:00<?, ?it/s]"
     ]
    },
    {
     "name": "stderr",
     "output_type": "stream",
     "text": [
      "\r",
      "  1%|          | 1/149 [00:00<02:15,  1.10it/s]"
     ]
    },
    {
     "name": "stderr",
     "output_type": "stream",
     "text": [
      "\r",
      "  1%|▏         | 2/149 [00:01<01:04,  2.28it/s]"
     ]
    },
    {
     "name": "stderr",
     "output_type": "stream",
     "text": [
      "\r",
      "  3%|▎         | 4/149 [00:01<00:30,  4.73it/s]"
     ]
    },
    {
     "name": "stderr",
     "output_type": "stream",
     "text": [
      "\r",
      "  4%|▍         | 6/149 [00:01<00:20,  7.03it/s]"
     ]
    },
    {
     "name": "stderr",
     "output_type": "stream",
     "text": [
      "\r",
      "  5%|▌         | 8/149 [00:01<00:20,  7.01it/s]"
     ]
    },
    {
     "name": "stderr",
     "output_type": "stream",
     "text": [
      "\r",
      "  7%|▋         | 11/149 [00:02<00:21,  6.55it/s]"
     ]
    },
    {
     "name": "stderr",
     "output_type": "stream",
     "text": [
      "\r",
      "  9%|▊         | 13/149 [00:02<00:23,  5.73it/s]"
     ]
    },
    {
     "name": "stderr",
     "output_type": "stream",
     "text": [
      "\r",
      " 10%|█         | 15/149 [00:02<00:22,  5.97it/s]"
     ]
    },
    {
     "name": "stderr",
     "output_type": "stream",
     "text": [
      "\r",
      " 11%|█         | 16/149 [00:03<00:29,  4.59it/s]"
     ]
    },
    {
     "name": "stderr",
     "output_type": "stream",
     "text": [
      "\r",
      " 11%|█▏        | 17/149 [00:03<00:30,  4.39it/s]"
     ]
    },
    {
     "name": "stderr",
     "output_type": "stream",
     "text": [
      "\r",
      " 13%|█▎        | 19/149 [00:03<00:22,  5.79it/s]"
     ]
    },
    {
     "name": "stderr",
     "output_type": "stream",
     "text": [
      "\r",
      " 13%|█▎        | 20/149 [00:03<00:20,  6.25it/s]"
     ]
    },
    {
     "name": "stderr",
     "output_type": "stream",
     "text": [
      "\r",
      " 14%|█▍        | 21/149 [00:03<00:21,  6.07it/s]"
     ]
    },
    {
     "name": "stderr",
     "output_type": "stream",
     "text": [
      "\r",
      " 16%|█▌        | 24/149 [00:04<00:13,  9.52it/s]"
     ]
    },
    {
     "name": "stderr",
     "output_type": "stream",
     "text": [
      "\r",
      " 17%|█▋        | 26/149 [00:04<00:21,  5.60it/s]"
     ]
    },
    {
     "name": "stderr",
     "output_type": "stream",
     "text": [
      "\r",
      " 19%|█▉        | 28/149 [00:04<00:16,  7.18it/s]"
     ]
    },
    {
     "name": "stderr",
     "output_type": "stream",
     "text": [
      "\r",
      " 20%|██        | 30/149 [00:05<00:13,  8.64it/s]"
     ]
    },
    {
     "name": "stderr",
     "output_type": "stream",
     "text": [
      "\r",
      " 21%|██▏       | 32/149 [00:05<00:11, 10.39it/s]"
     ]
    },
    {
     "name": "stderr",
     "output_type": "stream",
     "text": [
      "\r",
      " 23%|██▎       | 34/149 [00:05<00:16,  6.94it/s]"
     ]
    },
    {
     "name": "stderr",
     "output_type": "stream",
     "text": [
      "\r",
      " 24%|██▍       | 36/149 [00:05<00:14,  7.79it/s]"
     ]
    },
    {
     "name": "stderr",
     "output_type": "stream",
     "text": [
      "\r",
      " 26%|██▌       | 38/149 [00:06<00:15,  7.01it/s]"
     ]
    },
    {
     "name": "stderr",
     "output_type": "stream",
     "text": [
      "\r",
      " 26%|██▌       | 39/149 [00:06<00:15,  7.17it/s]"
     ]
    },
    {
     "name": "stderr",
     "output_type": "stream",
     "text": [
      "\r",
      " 28%|██▊       | 41/149 [00:06<00:12,  8.61it/s]"
     ]
    },
    {
     "name": "stderr",
     "output_type": "stream",
     "text": [
      "\r",
      " 29%|██▉       | 43/149 [00:06<00:13,  7.58it/s]"
     ]
    },
    {
     "name": "stderr",
     "output_type": "stream",
     "text": [
      "\r",
      " 30%|██▉       | 44/149 [00:07<00:16,  6.41it/s]"
     ]
    },
    {
     "name": "stderr",
     "output_type": "stream",
     "text": [
      "\r",
      " 30%|███       | 45/149 [00:07<00:17,  5.92it/s]"
     ]
    },
    {
     "name": "stderr",
     "output_type": "stream",
     "text": [
      "\r",
      " 32%|███▏      | 47/149 [00:07<00:12,  8.02it/s]"
     ]
    },
    {
     "name": "stderr",
     "output_type": "stream",
     "text": [
      "\r",
      " 33%|███▎      | 49/149 [00:07<00:13,  7.47it/s]"
     ]
    },
    {
     "name": "stderr",
     "output_type": "stream",
     "text": [
      "\r",
      " 34%|███▍      | 51/149 [00:07<00:10,  9.19it/s]"
     ]
    },
    {
     "name": "stderr",
     "output_type": "stream",
     "text": [
      "\r",
      " 36%|███▌      | 53/149 [00:08<00:24,  3.95it/s]"
     ]
    },
    {
     "name": "stderr",
     "output_type": "stream",
     "text": [
      "\r",
      " 36%|███▌      | 54/149 [00:09<00:21,  4.40it/s]"
     ]
    },
    {
     "name": "stderr",
     "output_type": "stream",
     "text": [
      "\r",
      " 38%|███▊      | 56/149 [00:09<00:16,  5.71it/s]"
     ]
    },
    {
     "name": "stderr",
     "output_type": "stream",
     "text": [
      "\r",
      " 39%|███▉      | 58/149 [00:09<00:12,  7.21it/s]"
     ]
    },
    {
     "name": "stderr",
     "output_type": "stream",
     "text": [
      "\r",
      " 40%|████      | 60/149 [00:09<00:11,  7.52it/s]"
     ]
    },
    {
     "name": "stderr",
     "output_type": "stream",
     "text": [
      "\r",
      " 42%|████▏     | 62/149 [00:09<00:10,  8.28it/s]"
     ]
    },
    {
     "name": "stderr",
     "output_type": "stream",
     "text": [
      "\r",
      " 43%|████▎     | 64/149 [00:09<00:08,  9.84it/s]"
     ]
    },
    {
     "name": "stderr",
     "output_type": "stream",
     "text": [
      "\r",
      " 44%|████▍     | 66/149 [00:10<00:11,  7.07it/s]"
     ]
    },
    {
     "name": "stderr",
     "output_type": "stream",
     "text": [
      "\r",
      " 46%|████▌     | 68/149 [00:10<00:09,  8.38it/s]"
     ]
    },
    {
     "name": "stderr",
     "output_type": "stream",
     "text": [
      "\r",
      " 47%|████▋     | 70/149 [00:10<00:09,  8.59it/s]"
     ]
    },
    {
     "name": "stderr",
     "output_type": "stream",
     "text": [
      "\r",
      " 48%|████▊     | 72/149 [00:10<00:09,  8.33it/s]"
     ]
    },
    {
     "name": "stderr",
     "output_type": "stream",
     "text": [
      "\r",
      " 49%|████▉     | 73/149 [00:11<00:11,  6.68it/s]"
     ]
    },
    {
     "name": "stderr",
     "output_type": "stream",
     "text": [
      "\r",
      " 50%|█████     | 75/149 [00:11<00:08,  8.25it/s]"
     ]
    },
    {
     "name": "stderr",
     "output_type": "stream",
     "text": [
      "\r",
      " 52%|█████▏    | 77/149 [00:11<00:13,  5.36it/s]"
     ]
    },
    {
     "name": "stderr",
     "output_type": "stream",
     "text": [
      "\r",
      " 53%|█████▎    | 79/149 [00:12<00:10,  6.85it/s]"
     ]
    },
    {
     "name": "stderr",
     "output_type": "stream",
     "text": [
      "\r",
      " 55%|█████▌    | 82/149 [00:12<00:07,  8.94it/s]"
     ]
    },
    {
     "name": "stderr",
     "output_type": "stream",
     "text": [
      "\r",
      " 56%|█████▋    | 84/149 [00:12<00:07,  9.15it/s]"
     ]
    },
    {
     "name": "stderr",
     "output_type": "stream",
     "text": [
      "\r",
      " 58%|█████▊    | 86/149 [00:13<00:10,  6.15it/s]"
     ]
    },
    {
     "name": "stderr",
     "output_type": "stream",
     "text": [
      "\r",
      " 58%|█████▊    | 87/149 [00:13<00:10,  6.10it/s]"
     ]
    },
    {
     "name": "stderr",
     "output_type": "stream",
     "text": [
      "\r",
      " 60%|██████    | 90/149 [00:13<00:06,  8.98it/s]"
     ]
    },
    {
     "name": "stderr",
     "output_type": "stream",
     "text": [
      "\r",
      " 62%|██████▏   | 92/149 [00:13<00:07,  7.66it/s]"
     ]
    },
    {
     "name": "stderr",
     "output_type": "stream",
     "text": [
      "\r",
      " 63%|██████▎   | 94/149 [00:14<00:07,  7.49it/s]"
     ]
    },
    {
     "name": "stderr",
     "output_type": "stream",
     "text": [
      "\r",
      " 64%|██████▍   | 95/149 [00:14<00:09,  5.82it/s]"
     ]
    },
    {
     "name": "stderr",
     "output_type": "stream",
     "text": [
      "\r",
      " 64%|██████▍   | 96/149 [00:14<00:08,  6.27it/s]"
     ]
    },
    {
     "name": "stderr",
     "output_type": "stream",
     "text": [
      "\r",
      " 65%|██████▌   | 97/149 [00:14<00:09,  5.41it/s]"
     ]
    },
    {
     "name": "stderr",
     "output_type": "stream",
     "text": [
      "\r",
      " 66%|██████▌   | 98/149 [00:14<00:09,  5.64it/s]"
     ]
    },
    {
     "name": "stderr",
     "output_type": "stream",
     "text": [
      "\r",
      " 66%|██████▋   | 99/149 [00:15<00:08,  6.05it/s]"
     ]
    },
    {
     "name": "stderr",
     "output_type": "stream",
     "text": [
      "\r",
      " 68%|██████▊   | 101/149 [00:15<00:05,  8.25it/s]"
     ]
    },
    {
     "name": "stderr",
     "output_type": "stream",
     "text": [
      "\r",
      " 68%|██████▊   | 102/149 [00:15<00:05,  8.18it/s]"
     ]
    },
    {
     "name": "stderr",
     "output_type": "stream",
     "text": [
      "\r",
      " 69%|██████▉   | 103/149 [00:15<00:07,  5.96it/s]"
     ]
    },
    {
     "name": "stderr",
     "output_type": "stream",
     "text": [
      "\r",
      " 70%|███████   | 105/149 [00:16<00:08,  5.04it/s]"
     ]
    },
    {
     "name": "stderr",
     "output_type": "stream",
     "text": [
      "\r",
      " 72%|███████▏  | 107/149 [00:16<00:07,  5.68it/s]"
     ]
    },
    {
     "name": "stderr",
     "output_type": "stream",
     "text": [
      "\r",
      " 72%|███████▏  | 108/149 [00:16<00:10,  3.77it/s]"
     ]
    },
    {
     "name": "stderr",
     "output_type": "stream",
     "text": [
      "\r",
      " 74%|███████▍  | 111/149 [00:17<00:07,  4.94it/s]"
     ]
    },
    {
     "name": "stderr",
     "output_type": "stream",
     "text": [
      "\r",
      " 77%|███████▋  | 114/149 [00:17<00:04,  7.32it/s]"
     ]
    },
    {
     "name": "stderr",
     "output_type": "stream",
     "text": [
      "\r",
      " 79%|███████▊  | 117/149 [00:17<00:03,  8.44it/s]"
     ]
    },
    {
     "name": "stderr",
     "output_type": "stream",
     "text": [
      "\r",
      " 80%|███████▉  | 119/149 [00:17<00:03,  8.09it/s]"
     ]
    },
    {
     "name": "stderr",
     "output_type": "stream",
     "text": [
      "\r",
      " 81%|████████  | 121/149 [00:18<00:03,  7.89it/s]"
     ]
    },
    {
     "name": "stderr",
     "output_type": "stream",
     "text": [
      "\r",
      " 83%|████████▎ | 123/149 [00:18<00:02,  8.70it/s]"
     ]
    },
    {
     "name": "stderr",
     "output_type": "stream",
     "text": [
      "\r",
      " 84%|████████▍ | 125/149 [00:18<00:03,  7.16it/s]"
     ]
    },
    {
     "name": "stderr",
     "output_type": "stream",
     "text": [
      "\r",
      " 85%|████████▌ | 127/149 [00:19<00:03,  7.24it/s]"
     ]
    },
    {
     "name": "stderr",
     "output_type": "stream",
     "text": [
      "\r",
      " 86%|████████▌ | 128/149 [00:19<00:03,  6.91it/s]"
     ]
    },
    {
     "name": "stderr",
     "output_type": "stream",
     "text": [
      "\r",
      " 88%|████████▊ | 131/149 [00:19<00:02,  8.39it/s]"
     ]
    },
    {
     "name": "stderr",
     "output_type": "stream",
     "text": [
      "\r",
      " 89%|████████▊ | 132/149 [00:19<00:02,  6.89it/s]"
     ]
    },
    {
     "name": "stderr",
     "output_type": "stream",
     "text": [
      "\r",
      " 90%|████████▉ | 134/149 [00:19<00:01,  8.72it/s]"
     ]
    },
    {
     "name": "stderr",
     "output_type": "stream",
     "text": [
      "\r",
      " 91%|█████████▏| 136/149 [00:20<00:01,  7.61it/s]"
     ]
    },
    {
     "name": "stderr",
     "output_type": "stream",
     "text": [
      "\r",
      " 92%|█████████▏| 137/149 [00:20<00:01,  7.38it/s]"
     ]
    },
    {
     "name": "stderr",
     "output_type": "stream",
     "text": [
      "\r",
      " 93%|█████████▎| 138/149 [00:20<00:01,  6.73it/s]"
     ]
    },
    {
     "name": "stderr",
     "output_type": "stream",
     "text": [
      "\r",
      " 93%|█████████▎| 139/149 [00:20<00:01,  7.01it/s]"
     ]
    },
    {
     "name": "stderr",
     "output_type": "stream",
     "text": [
      "\r",
      " 95%|█████████▍| 141/149 [00:21<00:01,  5.60it/s]"
     ]
    },
    {
     "name": "stderr",
     "output_type": "stream",
     "text": [
      "\r",
      " 96%|█████████▌| 143/149 [00:21<00:00,  6.28it/s]"
     ]
    },
    {
     "name": "stderr",
     "output_type": "stream",
     "text": [
      "\r",
      " 98%|█████████▊| 146/149 [00:21<00:00,  6.64it/s]"
     ]
    },
    {
     "name": "stderr",
     "output_type": "stream",
     "text": [
      "\r",
      " 99%|█████████▊| 147/149 [00:23<00:00,  2.92it/s]"
     ]
    },
    {
     "name": "stderr",
     "output_type": "stream",
     "text": [
      "\r",
      " 99%|█████████▉| 148/149 [00:23<00:00,  2.66it/s]"
     ]
    },
    {
     "name": "stderr",
     "output_type": "stream",
     "text": [
      "\r",
      "100%|██████████| 149/149 [00:24<00:00,  2.27it/s]"
     ]
    },
    {
     "name": "stderr",
     "output_type": "stream",
     "text": [
      "\r",
      "100%|██████████| 149/149 [00:24<00:00,  6.13it/s]"
     ]
    },
    {
     "name": "stdout",
     "output_type": "stream",
     "text": [
      "\n",
      "rate limit: 7 \n",
      "Leeftijdsgroep API calls: create: 0, read: 1, update: 149, delete: 0, backoff: 2\n"
     ]
    },
    {
     "name": "stdout",
     "output_type": "stream",
     "text": [
      "[{'Key': 1, 'Timestamp Leeftijdsgroep RIVM': '2021-12-26 15:15'}]\n"
     ]
    },
    {
     "name": "stderr",
     "output_type": "stream",
     "text": [
      "\n"
     ]
    },
    {
     "name": "stdout",
     "output_type": "stream",
     "text": [
      "timestamps: [{'Key': 1, 'Timestamp Leeftijdsgroep RIVM': '2021-12-26 15:15'}]\n",
      "Key                               int64\n",
      "Timestamp Leeftijdsgroep RIVM    object\n",
      "dtype: object\n"
     ]
    },
    {
     "name": "stderr",
     "output_type": "stream",
     "text": [
      "\r",
      "  0%|          | 0/1 [00:00<?, ?it/s]"
     ]
    },
    {
     "name": "stderr",
     "output_type": "stream",
     "text": [
      "\r",
      "100%|██████████| 1/1 [00:00<00:00,  1.08it/s]"
     ]
    },
    {
     "name": "stderr",
     "output_type": "stream",
     "text": [
      "\r",
      "100%|██████████| 1/1 [00:00<00:00,  1.08it/s]"
     ]
    },
    {
     "name": "stdout",
     "output_type": "stream",
     "text": [
      "\n",
      "rate limit: 7 \n",
      "LaatsteUpdate API calls: create: 0, read: 0, update: 1, delete: 0, backoff: 0\n"
     ]
    },
    {
     "name": "stderr",
     "output_type": "stream",
     "text": [
      "\n"
     ]
    },
    {
     "name": "stdout",
     "output_type": "stream",
     "text": [
      "BatchName     object\n",
      "ObjectName    object\n",
      "Source        object\n",
      "Timestamp     object\n",
      "dtype: object\n"
     ]
    },
    {
     "name": "stderr",
     "output_type": "stream",
     "text": [
      "\r",
      "  0%|          | 0/1 [00:00<?, ?it/s]"
     ]
    },
    {
     "name": "stderr",
     "output_type": "stream",
     "text": [
      "\r",
      "100%|██████████| 1/1 [00:00<00:00,  1.22it/s]"
     ]
    },
    {
     "name": "stderr",
     "output_type": "stream",
     "text": [
      "\r",
      "100%|██████████| 1/1 [00:00<00:00,  1.22it/s]"
     ]
    },
    {
     "name": "stdout",
     "output_type": "stream",
     "text": [
      "\n",
      "rate limit: 7 \n",
      "UpdateDetails API calls: create: 1, read: 0, update: 0, delete: 0, backoff: 0\n"
     ]
    },
    {
     "name": "stderr",
     "output_type": "stream",
     "text": [
      "\n"
     ]
    },
    {
     "name": "stdout",
     "output_type": "stream",
     "text": [
      "updating: [{'Key': 1, 'Updating Leeftijdsgroep': 'false'}]\n",
      "Key                         int64\n",
      "Updating Leeftijdsgroep    object\n",
      "dtype: object\n"
     ]
    },
    {
     "name": "stderr",
     "output_type": "stream",
     "text": [
      "\r",
      "  0%|          | 0/1 [00:00<?, ?it/s]"
     ]
    },
    {
     "name": "stderr",
     "output_type": "stream",
     "text": [
      "\r",
      "100%|██████████| 1/1 [00:01<00:00,  1.20s/it]"
     ]
    },
    {
     "name": "stderr",
     "output_type": "stream",
     "text": [
      "\r",
      "100%|██████████| 1/1 [00:01<00:00,  1.20s/it]"
     ]
    },
    {
     "name": "stdout",
     "output_type": "stream",
     "text": [
      "\n",
      "rate limit: 7 \n",
      "LaatsteUpdate API calls: create: 0, read: 0, update: 1, delete: 0, backoff: 0\n"
     ]
    },
    {
     "name": "stderr",
     "output_type": "stream",
     "text": [
      "\n"
     ]
    }
   ],
   "source": [
    "if knack:\n",
    "  await knack.publish(tabel.fillna(0).assign(Datum=tabel.Datum.dt.strftime('%Y-%m-%d')), 'Leeftijdsgroep', Cache)"
   ]
  }
 ],
 "metadata": {
  "jupytext": {
   "cell_metadata_filter": "title,-all"
  },
  "kernelspec": {
   "display_name": "Python 3 (ipykernel)",
   "language": "python",
   "name": "python3"
  },
  "language_info": {
   "codemirror_mode": {
    "name": "ipython",
    "version": 3
   },
   "file_extension": ".py",
   "mimetype": "text/x-python",
   "name": "python",
   "nbconvert_exporter": "python",
   "pygments_lexer": "ipython3",
   "version": "3.9.9"
  },
  "papermill": {
   "default_parameters": {},
   "duration": 411.590247,
   "end_time": "2021-12-26T14:38:13.866212",
   "environment_variables": {},
   "exception": null,
   "input_path": "-",
   "output_path": "LeeftijdsgroepenLandelijk.ipynb",
   "parameters": {},
   "start_time": "2021-12-26T14:31:22.275965",
   "version": "2.3.3"
  }
 },
 "nbformat": 4,
 "nbformat_minor": 5
}