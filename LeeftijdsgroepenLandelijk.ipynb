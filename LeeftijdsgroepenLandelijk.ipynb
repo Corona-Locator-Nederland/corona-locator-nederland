{
 "cells": [
  {
   "cell_type": "code",
   "execution_count": 1,
   "id": "a90d956f",
   "metadata": {
    "execution": {
     "iopub.execute_input": "2021-08-23T13:29:31.851494Z",
     "iopub.status.busy": "2021-08-23T13:29:31.850887Z",
     "iopub.status.idle": "2021-08-23T13:29:35.652413Z",
     "shell.execute_reply": "2021-08-23T13:29:35.651783Z"
    },
    "lines_to_next_cell": 1,
    "papermill": {
     "duration": 3.817332,
     "end_time": "2021-08-23T13:29:35.652546",
     "exception": false,
     "start_time": "2021-08-23T13:29:31.835214",
     "status": "completed"
    },
    "tags": []
   },
   "outputs": [],
   "source": [
    "from IPython import get_ipython\n",
    "from IPython.core.display import display\n",
    "get_ipython().run_line_magic('load_ext', 'autoreload')\n",
    "get_ipython().run_line_magic('autoreload', '2')\n",
    "get_ipython().run_line_magic('run', 'setup')"
   ]
  },
  {
   "cell_type": "code",
   "execution_count": 2,
   "id": "ec27d4bf",
   "metadata": {
    "execution": {
     "iopub.execute_input": "2021-08-23T13:29:35.668317Z",
     "iopub.status.busy": "2021-08-23T13:29:35.666685Z",
     "iopub.status.idle": "2021-08-23T13:36:16.047903Z",
     "shell.execute_reply": "2021-08-23T13:36:16.048366Z"
    },
    "lines_to_next_cell": 1,
    "papermill": {
     "duration": 400.391425,
     "end_time": "2021-08-23T13:36:16.048525",
     "exception": false,
     "start_time": "2021-08-23T13:29:35.657100",
     "status": "completed"
    },
    "tags": [],
    "title": "leeftijdsgroepen: download RIVM data"
   },
   "outputs": [
    {
     "name": "stdout",
     "output_type": "stream",
     "text": [
      "downloading rivm/COVID-19_casus_landelijk-2021-08-23@13-15.csv\n"
     ]
    },
    {
     "name": "stdout",
     "output_type": "stream",
     "text": [
      "rivm COVID-19_casus_landelijk zipping rivm/COVID-19_casus_landelijk-2021-08-23@13-15.csv\n"
     ]
    },
    {
     "name": "stdout",
     "output_type": "stream",
     "text": [
      "loading rivm/COVID-19_casus_landelijk-2021-08-23@13-15.csv.gz\n"
     ]
    },
    {
     "data": {
      "text/html": [
       "<div>\n",
       "<style scoped>\n",
       "    .dataframe tbody tr th:only-of-type {\n",
       "        vertical-align: middle;\n",
       "    }\n",
       "\n",
       "    .dataframe tbody tr th {\n",
       "        vertical-align: top;\n",
       "    }\n",
       "\n",
       "    .dataframe thead th {\n",
       "        text-align: right;\n",
       "    }\n",
       "</style>\n",
       "<table border=\"1\" class=\"dataframe\">\n",
       "  <thead>\n",
       "    <tr style=\"text-align: right;\">\n",
       "      <th></th>\n",
       "      <th>Date_file</th>\n",
       "      <th>Date_statistics</th>\n",
       "      <th>Date_statistics_type</th>\n",
       "      <th>Agegroup</th>\n",
       "      <th>Sex</th>\n",
       "      <th>Province</th>\n",
       "      <th>Hospital_admission</th>\n",
       "      <th>Deceased</th>\n",
       "      <th>Week_of_death</th>\n",
       "      <th>Municipal_health_service</th>\n",
       "    </tr>\n",
       "  </thead>\n",
       "  <tbody>\n",
       "    <tr>\n",
       "      <th>0</th>\n",
       "      <td>2021-08-23 10:00:00</td>\n",
       "      <td>2020-01-01</td>\n",
       "      <td>DOO</td>\n",
       "      <td>40-49</td>\n",
       "      <td>Female</td>\n",
       "      <td>Noord-Holland</td>\n",
       "      <td>No</td>\n",
       "      <td>No</td>\n",
       "      <td>NaN</td>\n",
       "      <td>GGD Amsterdam</td>\n",
       "    </tr>\n",
       "    <tr>\n",
       "      <th>1</th>\n",
       "      <td>2021-08-23 10:00:00</td>\n",
       "      <td>2020-01-01</td>\n",
       "      <td>DOO</td>\n",
       "      <td>50-59</td>\n",
       "      <td>Male</td>\n",
       "      <td>Gelderland</td>\n",
       "      <td>No</td>\n",
       "      <td>No</td>\n",
       "      <td>NaN</td>\n",
       "      <td>Veiligheids- en Gezondheidsregio Gelderland-Mi...</td>\n",
       "    </tr>\n",
       "    <tr>\n",
       "      <th>2</th>\n",
       "      <td>2021-08-23 10:00:00</td>\n",
       "      <td>2020-01-01</td>\n",
       "      <td>DOO</td>\n",
       "      <td>20-29</td>\n",
       "      <td>Female</td>\n",
       "      <td>Zuid-Holland</td>\n",
       "      <td>No</td>\n",
       "      <td>No</td>\n",
       "      <td>NaN</td>\n",
       "      <td>GGD Hollands-Midden</td>\n",
       "    </tr>\n",
       "    <tr>\n",
       "      <th>3</th>\n",
       "      <td>2021-08-23 10:00:00</td>\n",
       "      <td>2020-01-01</td>\n",
       "      <td>DOO</td>\n",
       "      <td>60-69</td>\n",
       "      <td>Female</td>\n",
       "      <td>Noord-Holland</td>\n",
       "      <td>No</td>\n",
       "      <td>No</td>\n",
       "      <td>NaN</td>\n",
       "      <td>GGD Hollands-Noorden</td>\n",
       "    </tr>\n",
       "    <tr>\n",
       "      <th>4</th>\n",
       "      <td>2021-08-23 10:00:00</td>\n",
       "      <td>2020-01-04</td>\n",
       "      <td>DOO</td>\n",
       "      <td>10-19</td>\n",
       "      <td>Female</td>\n",
       "      <td>Gelderland</td>\n",
       "      <td>Unknown</td>\n",
       "      <td>No</td>\n",
       "      <td>NaN</td>\n",
       "      <td>GGD Gelderland-Zuid</td>\n",
       "    </tr>\n",
       "  </tbody>\n",
       "</table>\n",
       "</div>"
      ],
      "text/plain": [
       "             Date_file Date_statistics Date_statistics_type Agegroup     Sex  \\\n",
       "0  2021-08-23 10:00:00      2020-01-01                  DOO    40-49  Female   \n",
       "1  2021-08-23 10:00:00      2020-01-01                  DOO    50-59    Male   \n",
       "2  2021-08-23 10:00:00      2020-01-01                  DOO    20-29  Female   \n",
       "3  2021-08-23 10:00:00      2020-01-01                  DOO    60-69  Female   \n",
       "4  2021-08-23 10:00:00      2020-01-04                  DOO    10-19  Female   \n",
       "\n",
       "        Province Hospital_admission Deceased  Week_of_death  \\\n",
       "0  Noord-Holland                 No       No            NaN   \n",
       "1     Gelderland                 No       No            NaN   \n",
       "2   Zuid-Holland                 No       No            NaN   \n",
       "3  Noord-Holland                 No       No            NaN   \n",
       "4     Gelderland            Unknown       No            NaN   \n",
       "\n",
       "                            Municipal_health_service  \n",
       "0                                      GGD Amsterdam  \n",
       "1  Veiligheids- en Gezondheidsregio Gelderland-Mi...  \n",
       "2                                GGD Hollands-Midden  \n",
       "3                               GGD Hollands-Noorden  \n",
       "4                                GGD Gelderland-Zuid  "
      ]
     },
     "metadata": {},
     "output_type": "display_data"
    }
   ],
   "source": [
    "#leeftijdsgroepen = SimpleNamespace()\n",
    "@run\n",
    "def cell():\n",
    "  global rivm\n",
    "  rivm = RIVM.csv('COVID-19_casus_landelijk')\n",
    "  display(rivm.head())"
   ]
  },
  {
   "cell_type": "code",
   "execution_count": 3,
   "id": "163d6ea3",
   "metadata": {
    "execution": {
     "iopub.execute_input": "2021-08-23T13:36:16.065291Z",
     "iopub.status.busy": "2021-08-23T13:36:16.064688Z",
     "iopub.status.idle": "2021-08-23T13:36:20.753402Z",
     "shell.execute_reply": "2021-08-23T13:36:20.752878Z"
    },
    "lines_to_next_cell": 1,
    "papermill": {
     "duration": 4.699023,
     "end_time": "2021-08-23T13:36:20.753537",
     "exception": false,
     "start_time": "2021-08-23T13:36:16.054514",
     "status": "completed"
    },
    "tags": [],
    "title": "Download de bevolkings cijfers van CBS, uitgesplitst op de leeftijds categorien in de dataset van het RIVM"
   },
   "outputs": [],
   "source": [
    "@run\n",
    "def cell():\n",
    "  global bevolking\n",
    "  bevolking = CBS.bevolking(leeftijdsgroepen=True)"
   ]
  },
  {
   "cell_type": "code",
   "execution_count": 4,
   "id": "6f7c8d01",
   "metadata": {
    "execution": {
     "iopub.execute_input": "2021-08-23T13:36:20.777868Z",
     "iopub.status.busy": "2021-08-23T13:36:20.772578Z",
     "iopub.status.idle": "2021-08-23T13:36:28.969023Z",
     "shell.execute_reply": "2021-08-23T13:36:28.968195Z"
    },
    "lines_to_next_cell": 1,
    "papermill": {
     "duration": 8.209941,
     "end_time": "2021-08-23T13:36:28.969139",
     "exception": false,
     "start_time": "2021-08-23T13:36:20.759198",
     "status": "completed"
    },
    "tags": [],
    "title": "leeftijdsgroepen: prepareer tabel"
   },
   "outputs": [
    {
     "data": {
      "text/html": [
       "<style type=\"text/css\">\n",
       "#T_64fbb_row0_col7 {\n",
       "  background-color: #52c569;\n",
       "  color: #000000;\n",
       "}\n",
       "#T_64fbb_row0_col8 {\n",
       "  background-color: #3f4788;\n",
       "  color: #f1f1f1;\n",
       "}\n",
       "#T_64fbb_row0_col9, #T_64fbb_row1_col9, #T_64fbb_row2_col9, #T_64fbb_row3_col9, #T_64fbb_row4_col8, #T_64fbb_row4_col9 {\n",
       "  background-color: #440154;\n",
       "  color: #f1f1f1;\n",
       "}\n",
       "#T_64fbb_row0_col10 {\n",
       "  background-color: #2f6b8e;\n",
       "  color: #f1f1f1;\n",
       "}\n",
       "#T_64fbb_row0_col11 {\n",
       "  background-color: #1e9b8a;\n",
       "  color: #f1f1f1;\n",
       "}\n",
       "#T_64fbb_row0_col12 {\n",
       "  background-color: #29af7f;\n",
       "  color: #f1f1f1;\n",
       "}\n",
       "#T_64fbb_row0_col13, #T_64fbb_row3_col13, #T_64fbb_row4_col7 {\n",
       "  background-color: #7fd34e;\n",
       "  color: #000000;\n",
       "}\n",
       "#T_64fbb_row0_col14 {\n",
       "  background-color: #c0df25;\n",
       "  color: #000000;\n",
       "}\n",
       "#T_64fbb_row0_col15 {\n",
       "  background-color: #d5e21a;\n",
       "  color: #000000;\n",
       "}\n",
       "#T_64fbb_row0_col16, #T_64fbb_row1_col16 {\n",
       "  background-color: #f1e51d;\n",
       "  color: #000000;\n",
       "}\n",
       "#T_64fbb_row0_col17, #T_64fbb_row1_col17, #T_64fbb_row2_col17, #T_64fbb_row3_col17, #T_64fbb_row4_col17 {\n",
       "  background-color: #fde725;\n",
       "  color: #000000;\n",
       "}\n",
       "#T_64fbb_row1_col7, #T_64fbb_row3_col7 {\n",
       "  background-color: #77d153;\n",
       "  color: #000000;\n",
       "}\n",
       "#T_64fbb_row1_col8 {\n",
       "  background-color: #355f8d;\n",
       "  color: #f1f1f1;\n",
       "}\n",
       "#T_64fbb_row1_col10, #T_64fbb_row2_col10 {\n",
       "  background-color: #25848e;\n",
       "  color: #f1f1f1;\n",
       "}\n",
       "#T_64fbb_row1_col11 {\n",
       "  background-color: #24aa83;\n",
       "  color: #f1f1f1;\n",
       "}\n",
       "#T_64fbb_row1_col12 {\n",
       "  background-color: #2fb47c;\n",
       "  color: #f1f1f1;\n",
       "}\n",
       "#T_64fbb_row1_col13 {\n",
       "  background-color: #7cd250;\n",
       "  color: #000000;\n",
       "}\n",
       "#T_64fbb_row1_col14 {\n",
       "  background-color: #c8e020;\n",
       "  color: #000000;\n",
       "}\n",
       "#T_64fbb_row1_col15 {\n",
       "  background-color: #dde318;\n",
       "  color: #000000;\n",
       "}\n",
       "#T_64fbb_row2_col7 {\n",
       "  background-color: #89d548;\n",
       "  color: #000000;\n",
       "}\n",
       "#T_64fbb_row2_col8 {\n",
       "  background-color: #31668e;\n",
       "  color: #f1f1f1;\n",
       "}\n",
       "#T_64fbb_row2_col11 {\n",
       "  background-color: #27ad81;\n",
       "  color: #f1f1f1;\n",
       "}\n",
       "#T_64fbb_row2_col12 {\n",
       "  background-color: #40bd72;\n",
       "  color: #f1f1f1;\n",
       "}\n",
       "#T_64fbb_row2_col13 {\n",
       "  background-color: #86d549;\n",
       "  color: #000000;\n",
       "}\n",
       "#T_64fbb_row2_col14, #T_64fbb_row3_col14 {\n",
       "  background-color: #c5e021;\n",
       "  color: #000000;\n",
       "}\n",
       "#T_64fbb_row2_col15, #T_64fbb_row3_col15 {\n",
       "  background-color: #d8e219;\n",
       "  color: #000000;\n",
       "}\n",
       "#T_64fbb_row2_col16, #T_64fbb_row4_col16 {\n",
       "  background-color: #f6e620;\n",
       "  color: #000000;\n",
       "}\n",
       "#T_64fbb_row3_col8 {\n",
       "  background-color: #482677;\n",
       "  color: #f1f1f1;\n",
       "}\n",
       "#T_64fbb_row3_col10 {\n",
       "  background-color: #2c718e;\n",
       "  color: #f1f1f1;\n",
       "}\n",
       "#T_64fbb_row3_col11 {\n",
       "  background-color: #20a486;\n",
       "  color: #f1f1f1;\n",
       "}\n",
       "#T_64fbb_row3_col12 {\n",
       "  background-color: #35b779;\n",
       "  color: #f1f1f1;\n",
       "}\n",
       "#T_64fbb_row3_col16 {\n",
       "  background-color: #f4e61e;\n",
       "  color: #000000;\n",
       "}\n",
       "#T_64fbb_row4_col10 {\n",
       "  background-color: #297b8e;\n",
       "  color: #f1f1f1;\n",
       "}\n",
       "#T_64fbb_row4_col11 {\n",
       "  background-color: #1fa088;\n",
       "  color: #f1f1f1;\n",
       "}\n",
       "#T_64fbb_row4_col12 {\n",
       "  background-color: #31b57b;\n",
       "  color: #f1f1f1;\n",
       "}\n",
       "#T_64fbb_row4_col13 {\n",
       "  background-color: #93d741;\n",
       "  color: #000000;\n",
       "}\n",
       "#T_64fbb_row4_col14 {\n",
       "  background-color: #d0e11c;\n",
       "  color: #000000;\n",
       "}\n",
       "#T_64fbb_row4_col15 {\n",
       "  background-color: #e2e418;\n",
       "  color: #000000;\n",
       "}\n",
       "</style>\n",
       "<table id=\"T_64fbb_\">\n",
       "  <thead>\n",
       "    <tr>\n",
       "      <th class=\"blank level0\" >&nbsp;</th>\n",
       "      <th class=\"col_heading level0 col0\" >Key</th>\n",
       "      <th class=\"col_heading level0 col1\" >Weken terug</th>\n",
       "      <th class=\"col_heading level0 col2\" >Datum</th>\n",
       "      <th class=\"col_heading level0 col3\" >Periode</th>\n",
       "      <th class=\"col_heading level0 col4\" >Gemiddelde leeftijd</th>\n",
       "      <th class=\"col_heading level0 col5\" >Totaal</th>\n",
       "      <th class=\"col_heading level0 col6\" >Type</th>\n",
       "      <th class=\"col_heading level0 col7\" >0-9</th>\n",
       "      <th class=\"col_heading level0 col8\" >10-19</th>\n",
       "      <th class=\"col_heading level0 col9\" >20-29</th>\n",
       "      <th class=\"col_heading level0 col10\" >30-39</th>\n",
       "      <th class=\"col_heading level0 col11\" >40-49</th>\n",
       "      <th class=\"col_heading level0 col12\" >50-59</th>\n",
       "      <th class=\"col_heading level0 col13\" >60-69</th>\n",
       "      <th class=\"col_heading level0 col14\" >70-79</th>\n",
       "      <th class=\"col_heading level0 col15\" >80-89</th>\n",
       "      <th class=\"col_heading level0 col16\" >90+</th>\n",
       "      <th class=\"col_heading level0 col17\" >Onbekend</th>\n",
       "      <th class=\"col_heading level0 col18\" >c0-9</th>\n",
       "      <th class=\"col_heading level0 col19\" >c10-19</th>\n",
       "      <th class=\"col_heading level0 col20\" >c20-29</th>\n",
       "      <th class=\"col_heading level0 col21\" >c30-39</th>\n",
       "      <th class=\"col_heading level0 col22\" >c40-49</th>\n",
       "      <th class=\"col_heading level0 col23\" >c50-59</th>\n",
       "      <th class=\"col_heading level0 col24\" >c60-69</th>\n",
       "      <th class=\"col_heading level0 col25\" >c70-79</th>\n",
       "      <th class=\"col_heading level0 col26\" >c80-89</th>\n",
       "      <th class=\"col_heading level0 col27\" >c90+</th>\n",
       "      <th class=\"col_heading level0 col28\" >cOnbekend</th>\n",
       "    </tr>\n",
       "  </thead>\n",
       "  <tbody>\n",
       "    <tr>\n",
       "      <th id=\"T_64fbb_level0_row0\" class=\"row_heading level0 row0\" >0</th>\n",
       "      <td id=\"T_64fbb_row0_col0\" class=\"data row0 col0\" >p000</td>\n",
       "      <td id=\"T_64fbb_row0_col1\" class=\"data row0 col1\" >0</td>\n",
       "      <td id=\"T_64fbb_row0_col2\" class=\"data row0 col2\" >2021-08-23 00:00:00</td>\n",
       "      <td id=\"T_64fbb_row0_col3\" class=\"data row0 col3\" >17/08-23/08</td>\n",
       "      <td id=\"T_64fbb_row0_col4\" class=\"data row0 col4\" >33.000000</td>\n",
       "      <td id=\"T_64fbb_row0_col5\" class=\"data row0 col5\" >9206.000000</td>\n",
       "      <td id=\"T_64fbb_row0_col6\" class=\"data row0 col6\" >Positief getest</td>\n",
       "      <td id=\"T_64fbb_row0_col7\" class=\"data row0 col7\" >640.000000</td>\n",
       "      <td id=\"T_64fbb_row0_col8\" class=\"data row0 col8\" >1853.000000</td>\n",
       "      <td id=\"T_64fbb_row0_col9\" class=\"data row0 col9\" >2351.000000</td>\n",
       "      <td id=\"T_64fbb_row0_col10\" class=\"data row0 col10\" >1536.000000</td>\n",
       "      <td id=\"T_64fbb_row0_col11\" class=\"data row0 col11\" >1071.000000</td>\n",
       "      <td id=\"T_64fbb_row0_col12\" class=\"data row0 col12\" >865.000000</td>\n",
       "      <td id=\"T_64fbb_row0_col13\" class=\"data row0 col13\" >459.000000</td>\n",
       "      <td id=\"T_64fbb_row0_col14\" class=\"data row0 col14\" >226.000000</td>\n",
       "      <td id=\"T_64fbb_row0_col15\" class=\"data row0 col15\" >156.000000</td>\n",
       "      <td id=\"T_64fbb_row0_col16\" class=\"data row0 col16\" >49.000000</td>\n",
       "      <td id=\"T_64fbb_row0_col17\" class=\"data row0 col17\" >0.000000</td>\n",
       "      <td id=\"T_64fbb_row0_col18\" class=\"data row0 col18\" >272</td>\n",
       "      <td id=\"T_64fbb_row0_col19\" class=\"data row0 col19\" >788</td>\n",
       "      <td id=\"T_64fbb_row0_col20\" class=\"data row0 col20\" >1000</td>\n",
       "      <td id=\"T_64fbb_row0_col21\" class=\"data row0 col21\" >653</td>\n",
       "      <td id=\"T_64fbb_row0_col22\" class=\"data row0 col22\" >455</td>\n",
       "      <td id=\"T_64fbb_row0_col23\" class=\"data row0 col23\" >367</td>\n",
       "      <td id=\"T_64fbb_row0_col24\" class=\"data row0 col24\" >195</td>\n",
       "      <td id=\"T_64fbb_row0_col25\" class=\"data row0 col25\" >96</td>\n",
       "      <td id=\"T_64fbb_row0_col26\" class=\"data row0 col26\" >66</td>\n",
       "      <td id=\"T_64fbb_row0_col27\" class=\"data row0 col27\" >20</td>\n",
       "      <td id=\"T_64fbb_row0_col28\" class=\"data row0 col28\" >0</td>\n",
       "    </tr>\n",
       "    <tr>\n",
       "      <th id=\"T_64fbb_level0_row1\" class=\"row_heading level0 row1\" >1</th>\n",
       "      <td id=\"T_64fbb_row1_col0\" class=\"data row1 col0\" >p001</td>\n",
       "      <td id=\"T_64fbb_row1_col1\" class=\"data row1 col1\" >1</td>\n",
       "      <td id=\"T_64fbb_row1_col2\" class=\"data row1 col2\" >2021-08-23 00:00:00</td>\n",
       "      <td id=\"T_64fbb_row1_col3\" class=\"data row1 col3\" >10/08-16/08</td>\n",
       "      <td id=\"T_64fbb_row1_col4\" class=\"data row1 col4\" >33.300000</td>\n",
       "      <td id=\"T_64fbb_row1_col5\" class=\"data row1 col5\" >15742.000000</td>\n",
       "      <td id=\"T_64fbb_row1_col6\" class=\"data row1 col6\" >Positief getest</td>\n",
       "      <td id=\"T_64fbb_row1_col7\" class=\"data row1 col7\" >911.000000</td>\n",
       "      <td id=\"T_64fbb_row1_col8\" class=\"data row1 col8\" >3111.000000</td>\n",
       "      <td id=\"T_64fbb_row1_col9\" class=\"data row1 col9\" >4433.000000</td>\n",
       "      <td id=\"T_64fbb_row1_col10\" class=\"data row1 col10\" >2428.000000</td>\n",
       "      <td id=\"T_64fbb_row1_col11\" class=\"data row1 col11\" >1744.000000</td>\n",
       "      <td id=\"T_64fbb_row1_col12\" class=\"data row1 col12\" >1549.000000</td>\n",
       "      <td id=\"T_64fbb_row1_col13\" class=\"data row1 col13\" >868.000000</td>\n",
       "      <td id=\"T_64fbb_row1_col14\" class=\"data row1 col14\" >378.000000</td>\n",
       "      <td id=\"T_64fbb_row1_col15\" class=\"data row1 col15\" >232.000000</td>\n",
       "      <td id=\"T_64fbb_row1_col16\" class=\"data row1 col16\" >88.000000</td>\n",
       "      <td id=\"T_64fbb_row1_col17\" class=\"data row1 col17\" >0.000000</td>\n",
       "      <td id=\"T_64fbb_row1_col18\" class=\"data row1 col18\" >205</td>\n",
       "      <td id=\"T_64fbb_row1_col19\" class=\"data row1 col19\" >701</td>\n",
       "      <td id=\"T_64fbb_row1_col20\" class=\"data row1 col20\" >1000</td>\n",
       "      <td id=\"T_64fbb_row1_col21\" class=\"data row1 col21\" >547</td>\n",
       "      <td id=\"T_64fbb_row1_col22\" class=\"data row1 col22\" >393</td>\n",
       "      <td id=\"T_64fbb_row1_col23\" class=\"data row1 col23\" >349</td>\n",
       "      <td id=\"T_64fbb_row1_col24\" class=\"data row1 col24\" >195</td>\n",
       "      <td id=\"T_64fbb_row1_col25\" class=\"data row1 col25\" >85</td>\n",
       "      <td id=\"T_64fbb_row1_col26\" class=\"data row1 col26\" >52</td>\n",
       "      <td id=\"T_64fbb_row1_col27\" class=\"data row1 col27\" >19</td>\n",
       "      <td id=\"T_64fbb_row1_col28\" class=\"data row1 col28\" >0</td>\n",
       "    </tr>\n",
       "    <tr>\n",
       "      <th id=\"T_64fbb_level0_row2\" class=\"row_heading level0 row2\" >2</th>\n",
       "      <td id=\"T_64fbb_row2_col0\" class=\"data row2 col0\" >p002</td>\n",
       "      <td id=\"T_64fbb_row2_col1\" class=\"data row2 col1\" >2</td>\n",
       "      <td id=\"T_64fbb_row2_col2\" class=\"data row2 col2\" >2021-08-23 00:00:00</td>\n",
       "      <td id=\"T_64fbb_row2_col3\" class=\"data row2 col3\" >03/08-09/08</td>\n",
       "      <td id=\"T_64fbb_row2_col4\" class=\"data row2 col4\" >33.300000</td>\n",
       "      <td id=\"T_64fbb_row2_col5\" class=\"data row2 col5\" >16391.000000</td>\n",
       "      <td id=\"T_64fbb_row2_col6\" class=\"data row2 col6\" >Positief getest</td>\n",
       "      <td id=\"T_64fbb_row2_col7\" class=\"data row2 col7\" >854.000000</td>\n",
       "      <td id=\"T_64fbb_row2_col8\" class=\"data row2 col8\" >3218.000000</td>\n",
       "      <td id=\"T_64fbb_row2_col9\" class=\"data row2 col9\" >4767.000000</td>\n",
       "      <td id=\"T_64fbb_row2_col10\" class=\"data row2 col10\" >2624.000000</td>\n",
       "      <td id=\"T_64fbb_row2_col11\" class=\"data row2 col11\" >1804.000000</td>\n",
       "      <td id=\"T_64fbb_row2_col12\" class=\"data row2 col12\" >1462.000000</td>\n",
       "      <td id=\"T_64fbb_row2_col13\" class=\"data row2 col13\" >864.000000</td>\n",
       "      <td id=\"T_64fbb_row2_col14\" class=\"data row2 col14\" >430.000000</td>\n",
       "      <td id=\"T_64fbb_row2_col15\" class=\"data row2 col15\" >293.000000</td>\n",
       "      <td id=\"T_64fbb_row2_col16\" class=\"data row2 col16\" >71.000000</td>\n",
       "      <td id=\"T_64fbb_row2_col17\" class=\"data row2 col17\" >4.000000</td>\n",
       "      <td id=\"T_64fbb_row2_col18\" class=\"data row2 col18\" >179</td>\n",
       "      <td id=\"T_64fbb_row2_col19\" class=\"data row2 col19\" >675</td>\n",
       "      <td id=\"T_64fbb_row2_col20\" class=\"data row2 col20\" >1000</td>\n",
       "      <td id=\"T_64fbb_row2_col21\" class=\"data row2 col21\" >550</td>\n",
       "      <td id=\"T_64fbb_row2_col22\" class=\"data row2 col22\" >378</td>\n",
       "      <td id=\"T_64fbb_row2_col23\" class=\"data row2 col23\" >306</td>\n",
       "      <td id=\"T_64fbb_row2_col24\" class=\"data row2 col24\" >181</td>\n",
       "      <td id=\"T_64fbb_row2_col25\" class=\"data row2 col25\" >90</td>\n",
       "      <td id=\"T_64fbb_row2_col26\" class=\"data row2 col26\" >61</td>\n",
       "      <td id=\"T_64fbb_row2_col27\" class=\"data row2 col27\" >14</td>\n",
       "      <td id=\"T_64fbb_row2_col28\" class=\"data row2 col28\" >0</td>\n",
       "    </tr>\n",
       "    <tr>\n",
       "      <th id=\"T_64fbb_level0_row3\" class=\"row_heading level0 row3\" >3</th>\n",
       "      <td id=\"T_64fbb_row3_col0\" class=\"data row3 col0\" >p003</td>\n",
       "      <td id=\"T_64fbb_row3_col1\" class=\"data row3 col1\" >3</td>\n",
       "      <td id=\"T_64fbb_row3_col2\" class=\"data row3 col2\" >2021-08-23 00:00:00</td>\n",
       "      <td id=\"T_64fbb_row3_col3\" class=\"data row3 col3\" >27/07-02/08</td>\n",
       "      <td id=\"T_64fbb_row3_col4\" class=\"data row3 col4\" >32.400000</td>\n",
       "      <td id=\"T_64fbb_row3_col5\" class=\"data row3 col5\" >19286.000000</td>\n",
       "      <td id=\"T_64fbb_row3_col6\" class=\"data row3 col6\" >Positief getest</td>\n",
       "      <td id=\"T_64fbb_row3_col7\" class=\"data row3 col7\" >1040.000000</td>\n",
       "      <td id=\"T_64fbb_row3_col8\" class=\"data row3 col8\" >4486.000000</td>\n",
       "      <td id=\"T_64fbb_row3_col9\" class=\"data row3 col9\" >5030.000000</td>\n",
       "      <td id=\"T_64fbb_row3_col10\" class=\"data row3 col10\" >3151.000000</td>\n",
       "      <td id=\"T_64fbb_row3_col11\" class=\"data row3 col11\" >2086.000000</td>\n",
       "      <td id=\"T_64fbb_row3_col12\" class=\"data row3 col12\" >1685.000000</td>\n",
       "      <td id=\"T_64fbb_row3_col13\" class=\"data row3 col13\" >978.000000</td>\n",
       "      <td id=\"T_64fbb_row3_col14\" class=\"data row3 col14\" >440.000000</td>\n",
       "      <td id=\"T_64fbb_row3_col15\" class=\"data row3 col15\" >299.000000</td>\n",
       "      <td id=\"T_64fbb_row3_col16\" class=\"data row3 col16\" >91.000000</td>\n",
       "      <td id=\"T_64fbb_row3_col17\" class=\"data row3 col17\" >0.000000</td>\n",
       "      <td id=\"T_64fbb_row3_col18\" class=\"data row3 col18\" >206</td>\n",
       "      <td id=\"T_64fbb_row3_col19\" class=\"data row3 col19\" >891</td>\n",
       "      <td id=\"T_64fbb_row3_col20\" class=\"data row3 col20\" >1000</td>\n",
       "      <td id=\"T_64fbb_row3_col21\" class=\"data row3 col21\" >626</td>\n",
       "      <td id=\"T_64fbb_row3_col22\" class=\"data row3 col22\" >414</td>\n",
       "      <td id=\"T_64fbb_row3_col23\" class=\"data row3 col23\" >334</td>\n",
       "      <td id=\"T_64fbb_row3_col24\" class=\"data row3 col24\" >194</td>\n",
       "      <td id=\"T_64fbb_row3_col25\" class=\"data row3 col25\" >87</td>\n",
       "      <td id=\"T_64fbb_row3_col26\" class=\"data row3 col26\" >59</td>\n",
       "      <td id=\"T_64fbb_row3_col27\" class=\"data row3 col27\" >18</td>\n",
       "      <td id=\"T_64fbb_row3_col28\" class=\"data row3 col28\" >0</td>\n",
       "    </tr>\n",
       "    <tr>\n",
       "      <th id=\"T_64fbb_level0_row4\" class=\"row_heading level0 row4\" >4</th>\n",
       "      <td id=\"T_64fbb_row4_col0\" class=\"data row4 col0\" >p004</td>\n",
       "      <td id=\"T_64fbb_row4_col1\" class=\"data row4 col1\" >4</td>\n",
       "      <td id=\"T_64fbb_row4_col2\" class=\"data row4 col2\" >2021-08-23 00:00:00</td>\n",
       "      <td id=\"T_64fbb_row4_col3\" class=\"data row4 col3\" >20/07-26/07</td>\n",
       "      <td id=\"T_64fbb_row4_col4\" class=\"data row4 col4\" >31.400000</td>\n",
       "      <td id=\"T_64fbb_row4_col5\" class=\"data row4 col5\" >30510.000000</td>\n",
       "      <td id=\"T_64fbb_row4_col6\" class=\"data row4 col6\" >Positief getest</td>\n",
       "      <td id=\"T_64fbb_row4_col7\" class=\"data row4 col7\" >1542.000000</td>\n",
       "      <td id=\"T_64fbb_row4_col8\" class=\"data row4 col8\" >7904.000000</td>\n",
       "      <td id=\"T_64fbb_row4_col9\" class=\"data row4 col9\" >7923.000000</td>\n",
       "      <td id=\"T_64fbb_row4_col10\" class=\"data row4 col10\" >4653.000000</td>\n",
       "      <td id=\"T_64fbb_row4_col11\" class=\"data row4 col11\" >3438.000000</td>\n",
       "      <td id=\"T_64fbb_row4_col12\" class=\"data row4 col12\" >2731.000000</td>\n",
       "      <td id=\"T_64fbb_row4_col13\" class=\"data row4 col13\" >1292.000000</td>\n",
       "      <td id=\"T_64fbb_row4_col14\" class=\"data row4 col14\" >568.000000</td>\n",
       "      <td id=\"T_64fbb_row4_col15\" class=\"data row4 col15\" >343.000000</td>\n",
       "      <td id=\"T_64fbb_row4_col16\" class=\"data row4 col16\" >115.000000</td>\n",
       "      <td id=\"T_64fbb_row4_col17\" class=\"data row4 col17\" >1.000000</td>\n",
       "      <td id=\"T_64fbb_row4_col18\" class=\"data row4 col18\" >194</td>\n",
       "      <td id=\"T_64fbb_row4_col19\" class=\"data row4 col19\" >997</td>\n",
       "      <td id=\"T_64fbb_row4_col20\" class=\"data row4 col20\" >1000</td>\n",
       "      <td id=\"T_64fbb_row4_col21\" class=\"data row4 col21\" >587</td>\n",
       "      <td id=\"T_64fbb_row4_col22\" class=\"data row4 col22\" >433</td>\n",
       "      <td id=\"T_64fbb_row4_col23\" class=\"data row4 col23\" >344</td>\n",
       "      <td id=\"T_64fbb_row4_col24\" class=\"data row4 col24\" >163</td>\n",
       "      <td id=\"T_64fbb_row4_col25\" class=\"data row4 col25\" >71</td>\n",
       "      <td id=\"T_64fbb_row4_col26\" class=\"data row4 col26\" >43</td>\n",
       "      <td id=\"T_64fbb_row4_col27\" class=\"data row4 col27\" >14</td>\n",
       "      <td id=\"T_64fbb_row4_col28\" class=\"data row4 col28\" >0</td>\n",
       "    </tr>\n",
       "  </tbody>\n",
       "</table>\n"
      ],
      "text/plain": [
       "<pandas.io.formats.style.Styler at 0x7fb098c48280>"
      ]
     },
     "metadata": {},
     "output_type": "display_data"
    }
   ],
   "source": [
    "# Bereken de stand van zaken van besmettingen / hospitalisaties / overlijden, per cohort in absolute aantallen en aantallen per 100k, met een kleur indicator voor de aantallen.\n",
    "# vervang <50 en Unknown door Onbekend\n",
    "@run\n",
    "def cell():\n",
    "  rivm['Cohort'] = rivm['Agegroup'].replace({'<50': 'Onbekend', 'Unknown': 'Onbekend'})\n",
    "  # aangenomen 'gemiddelde' leeftijd van een cohort: minimum waarde + 5\n",
    "  assumed_cohort_age = [(cohort, [int(n) for n in cohort.replace('+', '').split('-')]) for cohort in rivm['Cohort'].unique() if cohort[0].isdigit()]\n",
    "  assumed_cohort_age = { cohort: min(rng) + 5 for cohort, rng in assumed_cohort_age }\n",
    "  rivm['Gemiddelde leeftijd'] = rivm['Cohort'].apply(lambda x: assumed_cohort_age.get(x, np.nan))\n",
    "\n",
    "  # verwijder tijd\n",
    "  rivm['Date_file_date'] = pd.to_datetime(rivm['Date_file'].replace(r' .*', '', regex=True))\n",
    "\n",
    "  rivm['Date_statistics_date'] = pd.to_datetime(rivm['Date_statistics'])\n",
    "\n",
    "  # weken terug = verschil tussen Date_file en Date_statistcs, gedeeld door 7 dagen\n",
    "  rivm['Weken terug'] = np.floor((rivm['Date_file_date'] - rivm['Date_statistics_date'])/np.timedelta64(7, 'D')).astype(int)\n",
    "\n",
    "  # voeg key, gem leeftijd, kleurnummer en totaal toe\n",
    "  Date_file = rivm['Date_file_date'].unique()[0].astype('M8[D]').astype('O')\n",
    "  cohorten = list(bevolking.index) + ['Onbekend']\n",
    "  def summarize(df, category, prefix):\n",
    "    # aangezien we hier de dataframe in-place wijzigen (bijv door toevoegen kolommen)\n",
    "    # en we het 'rivm' frame later nog clean nodig hebben\n",
    "    df = df.copy(deep=True)\n",
    "\n",
    "    df = (df\n",
    "          .groupby(['Weken terug', 'Cohort'])['count']\n",
    "          .sum()\n",
    "          .unstack(fill_value=np.nan)\n",
    "          .reset_index()\n",
    "          .rename_axis(None, axis=1)\n",
    "        ).merge(df\n",
    "          # we voegen hier gemiddelde leeftijd toe, want die willen we op een ander\n",
    "          # niveau aggregeren voor 'df' overschreven word\n",
    "          .groupby(['Weken terug'])['Gemiddelde leeftijd']\n",
    "          .mean()\n",
    "          .to_frame(), on='Weken terug'\n",
    "        )\n",
    "\n",
    "    # altijd 52 rijen\n",
    "    df = pd.Series(np.arange(52), name='Weken terug').to_frame().merge(df, how='left', on='Weken terug')\n",
    "\n",
    "    # toevoegen missende cohorten\n",
    "    for col in cohorten:\n",
    "      if not col in df:\n",
    "        df[col] = np.nan\n",
    "\n",
    "    # sommeer per rij (axis=1) over de cohorten om een totaal te krijgen\n",
    "    df['Totaal'] = df[cohorten].sum(axis=1)\n",
    "\n",
    "    # voeg periode en datum toe\n",
    "    # periode afgeleid van weken-terug (= de index voor deze dataframe)\n",
    "    df['Datum'] = pd.to_datetime(Date_file)\n",
    "    df['Periode'] = (df\n",
    "      .index.to_series()\n",
    "      .apply(\n",
    "        lambda x: (\n",
    "          (Date_file + datetime.timedelta(weeks=-(x+1), days=1)).strftime('%d/%m')\n",
    "          + '-'\n",
    "          + (Date_file + datetime.timedelta(weeks=-x)).strftime('%d/%m')\n",
    "        )\n",
    "      )\n",
    "    )\n",
    "\n",
    "    # voeg 'Key' en 'Type' kolom toe. Variabele 'type' kan niet, is een language primitive.\n",
    "    df['Key'] = prefix + df.index.astype(str).str.rjust(3, fillchar='0')\n",
    "    df['Type'] = category\n",
    "\n",
    "    # voeg de kleur kolommen toe\n",
    "    for col in cohorten:\n",
    "      df['c' + col] = ((df[col] / df[[col for col in cohorten]].max(axis=1)) * 1000).fillna(0).astype(int)\n",
    "\n",
    "    # herschikken van de kolommen\n",
    "    colorder = ['Key', 'Weken terug', 'Datum', 'Periode', 'Gemiddelde leeftijd', 'Totaal', 'Type']\n",
    "    return df[colorder + [col for col in df if col not in colorder]]\n",
    "\n",
    "  factor = bevolking.to_dict()['per 100k']\n",
    "  global tabel\n",
    "  tabel = pd.concat(\n",
    "    # flatten the result list zodat pd.concat ze onder elkaar kan plakken\n",
    "    functools.reduce(lambda a, b: a + b, [\n",
    "      [summarize(df.assign(count=1), label, prefix), summarize(df.assign(count=df['Cohort'].apply(lambda x: factor.get(x, np.nan))), label + ' per 100.000', prefix + '100k')]\n",
    "      for df, label, prefix in [\n",
    "        (rivm, 'Positief getest', 'p'), # volledige count per cohort\n",
    "        (rivm[rivm.Hospital_admission == 'Yes'], 'Ziekenhuisopname', 'h'), # count van cohort voor Hospital_admission == 'Yes'\n",
    "        (rivm[rivm.Deceased == 'Yes'], 'Overleden', 'd'), # count van cohort voor Deceased == 'Yes'\n",
    "      ]\n",
    "    ])\n",
    "  )\n",
    "\n",
    "  # rood -> groen\n",
    "  cdict = {\n",
    "    'red':   ((0.0, 0.0, 0.0),   # no red at 0\n",
    "              (0.5, 1.0, 1.0),   # all channels set to 1.0 at 0.5 to create white\n",
    "              (1.0, 0.8, 0.8)),  # set to 0.8 so its not too bright at 1\n",
    "    'green': ((0.0, 0.8, 0.8),   # set to 0.8 so its not too bright at 0\n",
    "              (0.5, 1.0, 1.0),   # all channels set to 1.0 at 0.5 to create white\n",
    "              (1.0, 0.0, 0.0)),  # no green at 1\n",
    "    'blue':  ((0.0, 0.0, 0.0),   # no blue at 0\n",
    "              (0.5, 1.0, 1.0),   # all channels set to 1.0 at 0.5 to create white\n",
    "              (1.0, 0.0, 0.0))   # no blue at 1\n",
    "  }\n",
    "  cm = colors.LinearSegmentedColormap('GnRd', cdict)\n",
    "  # geel -> paars\n",
    "  cm = sns.color_palette('viridis_r', as_cmap=True)\n",
    "  display(tabel\n",
    "    .fillna(0)\n",
    "    .head()\n",
    "    .round(1)\n",
    "    .reset_index(drop=True)\n",
    "    .style.background_gradient(cmap=cm, axis=1, subset=cohorten)\n",
    "  )"
   ]
  },
  {
   "cell_type": "code",
   "execution_count": 5,
   "id": "2128cc24",
   "metadata": {
    "execution": {
     "iopub.execute_input": "2021-08-23T13:36:28.985635Z",
     "iopub.status.busy": "2021-08-23T13:36:28.984286Z",
     "iopub.status.idle": "2021-08-23T13:37:34.785430Z",
     "shell.execute_reply": "2021-08-23T13:37:34.785849Z"
    },
    "papermill": {
     "duration": 65.810196,
     "end_time": "2021-08-23T13:37:34.786006",
     "exception": false,
     "start_time": "2021-08-23T13:36:28.975810",
     "status": "completed"
    },
    "tags": [],
    "title": "publish"
   },
   "outputs": [
    {
     "name": "stdout",
     "output_type": "stream",
     "text": [
      "infinities:\n"
     ]
    },
    {
     "name": "stdout",
     "output_type": "stream",
     "text": [
      "Empty DataFrame\n",
      "Columns: []\n",
      "Index: []\n"
     ]
    },
    {
     "name": "stdout",
     "output_type": "stream",
     "text": [
      "nan:\n"
     ]
    },
    {
     "name": "stdout",
     "output_type": "stream",
     "text": [
      "Empty DataFrame\n",
      "Columns: []\n",
      "Index: []\n"
     ]
    },
    {
     "name": "stdout",
     "output_type": "stream",
     "text": [
      "Key                     object\n",
      "Weken terug              int64\n",
      "Datum                   object\n",
      "Periode                 object\n",
      "Gemiddelde leeftijd    float64\n",
      "Totaal                 float64\n",
      "Type                    object\n",
      "0-9                    float64\n",
      "10-19                  float64\n",
      "20-29                  float64\n",
      "30-39                  float64\n",
      "40-49                  float64\n",
      "50-59                  float64\n",
      "60-69                  float64\n",
      "70-79                  float64\n",
      "80-89                  float64\n",
      "90+                    float64\n",
      "Onbekend               float64\n",
      "c0-9                     int64\n",
      "c10-19                   int64\n",
      "c20-29                   int64\n",
      "c30-39                   int64\n",
      "c40-49                   int64\n",
      "c50-59                   int64\n",
      "c60-69                   int64\n",
      "c70-79                   int64\n",
      "c80-89                   int64\n",
      "c90+                     int64\n",
      "cOnbekend                int64\n",
      "dtype: object\n",
      "updating knack\n"
     ]
    },
    {
     "name": "stdout",
     "output_type": "stream",
     "text": [
      "updating: [{'Key': 1, 'Updating Leeftijdsgroep': 'true'}]\n"
     ]
    },
    {
     "name": "stdout",
     "output_type": "stream",
     "text": [
      "restored LaatsteUpdate from hash\n"
     ]
    },
    {
     "name": "stdout",
     "output_type": "stream",
     "text": [
      "Key                         int64\n",
      "Updating Leeftijdsgroep    object\n",
      "dtype: object\n"
     ]
    },
    {
     "name": "stderr",
     "output_type": "stream",
     "text": [
      "\r",
      "  0%|          | 0/1 [00:00<?, ?it/s]"
     ]
    },
    {
     "name": "stderr",
     "output_type": "stream",
     "text": [
      "\r",
      "100%|██████████| 1/1 [00:01<00:00,  1.20s/it]"
     ]
    },
    {
     "name": "stderr",
     "output_type": "stream",
     "text": [
      "\r",
      "100%|██████████| 1/1 [00:01<00:00,  1.20s/it]"
     ]
    },
    {
     "name": "stderr",
     "output_type": "stream",
     "text": [
      "\n"
     ]
    },
    {
     "name": "stdout",
     "output_type": "stream",
     "text": [
      "\n",
      "rate limit: 7 \n",
      "LaatsteUpdate API calls: create: 0, read: 1, update: 1, delete: 0, backoff: 0\n"
     ]
    },
    {
     "name": "stdout",
     "output_type": "stream",
     "text": [
      "restored Leeftijdsgroep from hash\n"
     ]
    },
    {
     "name": "stdout",
     "output_type": "stream",
     "text": [
      "0-9                    float64\n",
      "10-19                  float64\n",
      "20-29                  float64\n",
      "30-39                  float64\n",
      "40-49                  float64\n",
      "50-59                  float64\n",
      "60-69                  float64\n",
      "70-79                  float64\n",
      "80-89                  float64\n",
      "90+                    float64\n",
      "Datum                   object\n",
      "Gemiddelde leeftijd    float64\n",
      "Key                     object\n",
      "Onbekend               float64\n",
      "Periode                 object\n",
      "Totaal                 float64\n",
      "Type                    object\n",
      "Weken terug              int64\n",
      "c0-9                     int64\n",
      "c10-19                   int64\n",
      "c20-29                   int64\n",
      "c30-39                   int64\n",
      "c40-49                   int64\n",
      "c50-59                   int64\n",
      "c60-69                   int64\n",
      "c70-79                   int64\n",
      "c80-89                   int64\n",
      "c90+                     int64\n",
      "cOnbekend                int64\n",
      "dtype: object\n"
     ]
    },
    {
     "name": "stderr",
     "output_type": "stream",
     "text": [
      "\r",
      "  0%|          | 0/312 [00:00<?, ?it/s]"
     ]
    },
    {
     "name": "stderr",
     "output_type": "stream",
     "text": [
      "\r",
      "  0%|          | 1/312 [00:00<04:58,  1.04it/s]"
     ]
    },
    {
     "name": "stderr",
     "output_type": "stream",
     "text": [
      "\r",
      "  1%|▏         | 4/312 [00:01<01:06,  4.66it/s]"
     ]
    },
    {
     "name": "stderr",
     "output_type": "stream",
     "text": [
      "\r",
      "  2%|▏         | 6/312 [00:01<00:45,  6.68it/s]"
     ]
    },
    {
     "name": "stderr",
     "output_type": "stream",
     "text": [
      "\r",
      "  3%|▎         | 8/312 [00:01<00:38,  7.93it/s]"
     ]
    },
    {
     "name": "stderr",
     "output_type": "stream",
     "text": [
      "\r",
      "  3%|▎         | 10/312 [00:01<00:47,  6.41it/s]"
     ]
    },
    {
     "name": "stderr",
     "output_type": "stream",
     "text": [
      "\r",
      "  4%|▍         | 12/312 [00:01<00:37,  8.02it/s]"
     ]
    },
    {
     "name": "stderr",
     "output_type": "stream",
     "text": [
      "\r",
      "  4%|▍         | 14/312 [00:02<00:51,  5.84it/s]"
     ]
    },
    {
     "name": "stderr",
     "output_type": "stream",
     "text": [
      "\r",
      "  5%|▍         | 15/312 [00:02<01:08,  4.34it/s]"
     ]
    },
    {
     "name": "stderr",
     "output_type": "stream",
     "text": [
      "\r",
      "  5%|▌         | 17/312 [00:03<00:49,  5.97it/s]"
     ]
    },
    {
     "name": "stderr",
     "output_type": "stream",
     "text": [
      "\r",
      "  6%|▌         | 19/312 [00:03<00:57,  5.07it/s]"
     ]
    },
    {
     "name": "stderr",
     "output_type": "stream",
     "text": [
      "\r",
      "  6%|▋         | 20/312 [00:03<01:04,  4.50it/s]"
     ]
    },
    {
     "name": "stderr",
     "output_type": "stream",
     "text": [
      "\r",
      "  7%|▋         | 22/312 [00:04<00:48,  5.97it/s]"
     ]
    },
    {
     "name": "stderr",
     "output_type": "stream",
     "text": [
      "\r",
      "  7%|▋         | 23/312 [00:04<00:52,  5.52it/s]"
     ]
    },
    {
     "name": "stderr",
     "output_type": "stream",
     "text": [
      "\r",
      "  8%|▊         | 25/312 [00:04<00:40,  7.04it/s]"
     ]
    },
    {
     "name": "stderr",
     "output_type": "stream",
     "text": [
      "\r",
      "  9%|▉         | 28/312 [00:04<00:32,  8.84it/s]"
     ]
    },
    {
     "name": "stderr",
     "output_type": "stream",
     "text": [
      "\r",
      " 10%|▉         | 30/312 [00:05<00:42,  6.65it/s]"
     ]
    },
    {
     "name": "stderr",
     "output_type": "stream",
     "text": [
      "\r",
      " 10%|█         | 32/312 [00:05<00:35,  7.98it/s]"
     ]
    },
    {
     "name": "stderr",
     "output_type": "stream",
     "text": [
      "\r",
      " 11%|█         | 34/312 [00:05<00:36,  7.66it/s]"
     ]
    },
    {
     "name": "stderr",
     "output_type": "stream",
     "text": [
      "\r",
      " 11%|█         | 35/312 [00:05<00:43,  6.35it/s]"
     ]
    },
    {
     "name": "stderr",
     "output_type": "stream",
     "text": [
      "\r",
      " 12%|█▏        | 36/312 [00:05<00:43,  6.39it/s]"
     ]
    },
    {
     "name": "stderr",
     "output_type": "stream",
     "text": [
      "\r",
      " 12%|█▎        | 39/312 [00:06<00:39,  6.96it/s]"
     ]
    },
    {
     "name": "stderr",
     "output_type": "stream",
     "text": [
      "\r",
      " 13%|█▎        | 40/312 [00:06<00:42,  6.46it/s]"
     ]
    },
    {
     "name": "stderr",
     "output_type": "stream",
     "text": [
      "\r",
      " 13%|█▎        | 41/312 [00:06<00:41,  6.60it/s]"
     ]
    },
    {
     "name": "stderr",
     "output_type": "stream",
     "text": [
      "\r",
      " 13%|█▎        | 42/312 [00:06<00:41,  6.48it/s]"
     ]
    },
    {
     "name": "stderr",
     "output_type": "stream",
     "text": [
      "\r",
      " 14%|█▍        | 43/312 [00:07<00:46,  5.79it/s]"
     ]
    },
    {
     "name": "stderr",
     "output_type": "stream",
     "text": [
      "\r",
      " 14%|█▍        | 44/312 [00:07<00:50,  5.34it/s]"
     ]
    },
    {
     "name": "stderr",
     "output_type": "stream",
     "text": [
      "\r",
      " 14%|█▍        | 45/312 [00:07<00:58,  4.59it/s]"
     ]
    },
    {
     "name": "stderr",
     "output_type": "stream",
     "text": [
      "\r",
      " 15%|█▌        | 47/312 [00:07<00:44,  5.90it/s]"
     ]
    },
    {
     "name": "stderr",
     "output_type": "stream",
     "text": [
      "\r",
      " 16%|█▌        | 49/312 [00:08<00:38,  6.88it/s]"
     ]
    },
    {
     "name": "stderr",
     "output_type": "stream",
     "text": [
      "\r",
      " 17%|█▋        | 52/312 [00:08<00:36,  7.12it/s]"
     ]
    },
    {
     "name": "stderr",
     "output_type": "stream",
     "text": [
      "\r",
      " 17%|█▋        | 54/312 [00:09<01:00,  4.25it/s]"
     ]
    },
    {
     "name": "stderr",
     "output_type": "stream",
     "text": [
      "\r",
      " 18%|█▊        | 55/312 [00:09<01:09,  3.72it/s]"
     ]
    },
    {
     "name": "stderr",
     "output_type": "stream",
     "text": [
      "\r",
      " 18%|█▊        | 57/312 [00:09<00:52,  4.90it/s]"
     ]
    },
    {
     "name": "stderr",
     "output_type": "stream",
     "text": [
      "\r",
      " 19%|█▉        | 60/312 [00:10<00:36,  6.94it/s]"
     ]
    },
    {
     "name": "stderr",
     "output_type": "stream",
     "text": [
      "\r",
      " 20%|██        | 63/312 [00:10<00:32,  7.68it/s]"
     ]
    },
    {
     "name": "stderr",
     "output_type": "stream",
     "text": [
      "\r",
      " 21%|██        | 66/312 [00:10<00:26,  9.41it/s]"
     ]
    },
    {
     "name": "stderr",
     "output_type": "stream",
     "text": [
      "\r",
      " 22%|██▏       | 68/312 [00:11<00:31,  7.70it/s]"
     ]
    },
    {
     "name": "stderr",
     "output_type": "stream",
     "text": [
      "\r",
      " 23%|██▎       | 71/312 [00:11<00:28,  8.40it/s]"
     ]
    },
    {
     "name": "stderr",
     "output_type": "stream",
     "text": [
      "\r",
      " 23%|██▎       | 73/312 [00:11<00:32,  7.26it/s]"
     ]
    },
    {
     "name": "stderr",
     "output_type": "stream",
     "text": [
      "\r",
      " 25%|██▌       | 78/312 [00:12<00:26,  8.73it/s]"
     ]
    },
    {
     "name": "stderr",
     "output_type": "stream",
     "text": [
      "\r",
      " 26%|██▌       | 81/312 [00:12<00:31,  7.42it/s]"
     ]
    },
    {
     "name": "stderr",
     "output_type": "stream",
     "text": [
      "\r",
      " 26%|██▋       | 82/312 [00:13<00:37,  6.17it/s]"
     ]
    },
    {
     "name": "stderr",
     "output_type": "stream",
     "text": [
      "\r",
      " 27%|██▋       | 84/312 [00:13<00:32,  6.94it/s]"
     ]
    },
    {
     "name": "stderr",
     "output_type": "stream",
     "text": [
      "\r",
      " 27%|██▋       | 85/312 [00:13<00:33,  6.72it/s]"
     ]
    },
    {
     "name": "stderr",
     "output_type": "stream",
     "text": [
      "\r",
      " 28%|██▊       | 86/312 [00:13<00:38,  5.89it/s]"
     ]
    },
    {
     "name": "stderr",
     "output_type": "stream",
     "text": [
      "\r",
      " 28%|██▊       | 87/312 [00:13<00:36,  6.23it/s]"
     ]
    },
    {
     "name": "stderr",
     "output_type": "stream",
     "text": [
      "\r",
      " 29%|██▉       | 91/312 [00:13<00:20, 10.71it/s]"
     ]
    },
    {
     "name": "stderr",
     "output_type": "stream",
     "text": [
      "\r",
      " 30%|███       | 94/312 [00:14<00:16, 13.53it/s]"
     ]
    },
    {
     "name": "stderr",
     "output_type": "stream",
     "text": [
      "\r",
      " 31%|███       | 96/312 [00:14<00:26,  8.13it/s]"
     ]
    },
    {
     "name": "stderr",
     "output_type": "stream",
     "text": [
      "\r",
      " 31%|███▏      | 98/312 [00:15<00:38,  5.58it/s]"
     ]
    },
    {
     "name": "stderr",
     "output_type": "stream",
     "text": [
      "\r",
      " 32%|███▏      | 99/312 [00:15<00:35,  6.01it/s]"
     ]
    },
    {
     "name": "stderr",
     "output_type": "stream",
     "text": [
      "\r",
      " 33%|███▎      | 102/312 [00:15<00:25,  8.25it/s]"
     ]
    },
    {
     "name": "stderr",
     "output_type": "stream",
     "text": [
      "\r",
      " 33%|███▎      | 104/312 [00:15<00:26,  7.76it/s]"
     ]
    },
    {
     "name": "stderr",
     "output_type": "stream",
     "text": [
      "\r",
      " 34%|███▍      | 107/312 [00:16<00:22,  9.12it/s]"
     ]
    },
    {
     "name": "stderr",
     "output_type": "stream",
     "text": [
      "\r",
      " 35%|███▍      | 109/312 [00:16<00:34,  5.97it/s]"
     ]
    },
    {
     "name": "stderr",
     "output_type": "stream",
     "text": [
      "\r",
      " 36%|███▌      | 113/312 [00:16<00:23,  8.33it/s]"
     ]
    },
    {
     "name": "stderr",
     "output_type": "stream",
     "text": [
      "\r",
      " 37%|███▋      | 115/312 [00:17<00:31,  6.31it/s]"
     ]
    },
    {
     "name": "stderr",
     "output_type": "stream",
     "text": [
      "\r",
      " 37%|███▋      | 116/312 [00:17<00:32,  6.07it/s]"
     ]
    },
    {
     "name": "stderr",
     "output_type": "stream",
     "text": [
      "\r",
      " 38%|███▊      | 118/312 [00:18<00:31,  6.22it/s]"
     ]
    },
    {
     "name": "stderr",
     "output_type": "stream",
     "text": [
      "\r",
      " 39%|███▉      | 121/312 [00:18<00:26,  7.21it/s]"
     ]
    },
    {
     "name": "stderr",
     "output_type": "stream",
     "text": [
      "\r",
      " 39%|███▉      | 122/312 [00:18<00:30,  6.29it/s]"
     ]
    },
    {
     "name": "stderr",
     "output_type": "stream",
     "text": [
      "\r",
      " 39%|███▉      | 123/312 [00:18<00:28,  6.52it/s]"
     ]
    },
    {
     "name": "stderr",
     "output_type": "stream",
     "text": [
      "\r",
      " 40%|████      | 125/312 [00:19<00:31,  5.98it/s]"
     ]
    },
    {
     "name": "stderr",
     "output_type": "stream",
     "text": [
      "\r",
      " 41%|████      | 127/312 [00:19<00:29,  6.29it/s]"
     ]
    },
    {
     "name": "stderr",
     "output_type": "stream",
     "text": [
      "\r",
      " 41%|████      | 128/312 [00:19<00:27,  6.75it/s]"
     ]
    },
    {
     "name": "stderr",
     "output_type": "stream",
     "text": [
      "\r",
      " 42%|████▏     | 130/312 [00:19<00:27,  6.60it/s]"
     ]
    },
    {
     "name": "stderr",
     "output_type": "stream",
     "text": [
      "\r",
      " 42%|████▏     | 131/312 [00:19<00:26,  6.78it/s]"
     ]
    },
    {
     "name": "stderr",
     "output_type": "stream",
     "text": [
      "\r",
      " 43%|████▎     | 133/312 [00:20<00:22,  7.94it/s]"
     ]
    },
    {
     "name": "stderr",
     "output_type": "stream",
     "text": [
      "\r",
      " 43%|████▎     | 135/312 [00:20<00:18,  9.53it/s]"
     ]
    },
    {
     "name": "stderr",
     "output_type": "stream",
     "text": [
      "\r",
      " 44%|████▍     | 137/312 [00:20<00:20,  8.62it/s]"
     ]
    },
    {
     "name": "stderr",
     "output_type": "stream",
     "text": [
      "\r",
      " 44%|████▍     | 138/312 [00:20<00:20,  8.63it/s]"
     ]
    },
    {
     "name": "stderr",
     "output_type": "stream",
     "text": [
      "\r",
      " 45%|████▍     | 139/312 [00:20<00:25,  6.87it/s]"
     ]
    },
    {
     "name": "stderr",
     "output_type": "stream",
     "text": [
      "\r",
      " 46%|████▌     | 142/312 [00:21<00:21,  7.99it/s]"
     ]
    },
    {
     "name": "stderr",
     "output_type": "stream",
     "text": [
      "\r",
      " 46%|████▌     | 143/312 [00:21<00:24,  6.89it/s]"
     ]
    },
    {
     "name": "stderr",
     "output_type": "stream",
     "text": [
      "\r",
      " 46%|████▌     | 144/312 [00:21<00:27,  6.09it/s]"
     ]
    },
    {
     "name": "stderr",
     "output_type": "stream",
     "text": [
      "\r",
      " 47%|████▋     | 147/312 [00:21<00:18,  9.02it/s]"
     ]
    },
    {
     "name": "stderr",
     "output_type": "stream",
     "text": [
      "\r",
      " 48%|████▊     | 149/312 [00:22<00:34,  4.77it/s]"
     ]
    },
    {
     "name": "stderr",
     "output_type": "stream",
     "text": [
      "\r",
      " 48%|████▊     | 151/312 [00:22<00:26,  6.11it/s]"
     ]
    },
    {
     "name": "stderr",
     "output_type": "stream",
     "text": [
      "\r",
      " 49%|████▉     | 153/312 [00:23<00:27,  5.78it/s]"
     ]
    },
    {
     "name": "stderr",
     "output_type": "stream",
     "text": [
      "\r",
      " 49%|████▉     | 154/312 [00:23<00:25,  6.08it/s]"
     ]
    },
    {
     "name": "stderr",
     "output_type": "stream",
     "text": [
      "\r",
      " 50%|█████     | 157/312 [00:23<00:27,  5.65it/s]"
     ]
    },
    {
     "name": "stderr",
     "output_type": "stream",
     "text": [
      "\r",
      " 51%|█████     | 158/312 [00:24<00:38,  3.97it/s]"
     ]
    },
    {
     "name": "stderr",
     "output_type": "stream",
     "text": [
      "\r",
      " 52%|█████▏    | 161/312 [00:24<00:26,  5.67it/s]"
     ]
    },
    {
     "name": "stderr",
     "output_type": "stream",
     "text": [
      "\r",
      " 52%|█████▏    | 162/312 [00:24<00:25,  5.97it/s]"
     ]
    },
    {
     "name": "stderr",
     "output_type": "stream",
     "text": [
      "\r",
      " 53%|█████▎    | 164/312 [00:25<00:20,  7.21it/s]"
     ]
    },
    {
     "name": "stderr",
     "output_type": "stream",
     "text": [
      "\r",
      " 53%|█████▎    | 165/312 [00:25<00:19,  7.40it/s]"
     ]
    },
    {
     "name": "stderr",
     "output_type": "stream",
     "text": [
      "\r",
      " 54%|█████▍    | 168/312 [00:25<00:13, 10.51it/s]"
     ]
    },
    {
     "name": "stderr",
     "output_type": "stream",
     "text": [
      "\r",
      " 54%|█████▍    | 170/312 [00:25<00:16,  8.63it/s]"
     ]
    },
    {
     "name": "stderr",
     "output_type": "stream",
     "text": [
      "\r",
      " 55%|█████▌    | 172/312 [00:25<00:18,  7.60it/s]"
     ]
    },
    {
     "name": "stderr",
     "output_type": "stream",
     "text": [
      "\r",
      " 55%|█████▌    | 173/312 [00:26<00:18,  7.54it/s]"
     ]
    },
    {
     "name": "stderr",
     "output_type": "stream",
     "text": [
      "\r",
      " 56%|█████▌    | 174/312 [00:26<00:17,  7.77it/s]"
     ]
    },
    {
     "name": "stderr",
     "output_type": "stream",
     "text": [
      "\r",
      " 56%|█████▌    | 175/312 [00:26<00:19,  6.91it/s]"
     ]
    },
    {
     "name": "stderr",
     "output_type": "stream",
     "text": [
      "\r",
      " 56%|█████▋    | 176/312 [00:26<00:32,  4.25it/s]"
     ]
    },
    {
     "name": "stderr",
     "output_type": "stream",
     "text": [
      "\r",
      " 57%|█████▋    | 178/312 [00:27<00:24,  5.48it/s]"
     ]
    },
    {
     "name": "stderr",
     "output_type": "stream",
     "text": [
      "\r",
      " 57%|█████▋    | 179/312 [00:27<00:23,  5.64it/s]"
     ]
    },
    {
     "name": "stderr",
     "output_type": "stream",
     "text": [
      "\r",
      " 58%|█████▊    | 181/312 [00:27<00:19,  6.81it/s]"
     ]
    },
    {
     "name": "stderr",
     "output_type": "stream",
     "text": [
      "\r",
      " 59%|█████▊    | 183/312 [00:27<00:16,  7.61it/s]"
     ]
    },
    {
     "name": "stderr",
     "output_type": "stream",
     "text": [
      "\r",
      " 59%|█████▉    | 184/312 [00:27<00:20,  6.24it/s]"
     ]
    },
    {
     "name": "stderr",
     "output_type": "stream",
     "text": [
      "\r",
      " 59%|█████▉    | 185/312 [00:28<00:20,  6.32it/s]"
     ]
    },
    {
     "name": "stderr",
     "output_type": "stream",
     "text": [
      "\r",
      " 60%|█████▉    | 186/312 [00:28<00:29,  4.23it/s]"
     ]
    },
    {
     "name": "stderr",
     "output_type": "stream",
     "text": [
      "\r",
      " 61%|██████    | 189/312 [00:28<00:20,  6.13it/s]"
     ]
    },
    {
     "name": "stderr",
     "output_type": "stream",
     "text": [
      "\r",
      " 61%|██████    | 191/312 [00:29<00:16,  7.52it/s]"
     ]
    },
    {
     "name": "stderr",
     "output_type": "stream",
     "text": [
      "\r",
      " 62%|██████▏   | 192/312 [00:29<00:16,  7.35it/s]"
     ]
    },
    {
     "name": "stderr",
     "output_type": "stream",
     "text": [
      "\r",
      " 62%|██████▏   | 193/312 [00:29<00:18,  6.43it/s]"
     ]
    },
    {
     "name": "stderr",
     "output_type": "stream",
     "text": [
      "\r",
      " 62%|██████▏   | 194/312 [00:29<00:17,  6.94it/s]"
     ]
    },
    {
     "name": "stderr",
     "output_type": "stream",
     "text": [
      "\r",
      " 62%|██████▎   | 195/312 [00:29<00:17,  6.85it/s]"
     ]
    },
    {
     "name": "stderr",
     "output_type": "stream",
     "text": [
      "\r",
      " 63%|██████▎   | 196/312 [00:29<00:18,  6.35it/s]"
     ]
    },
    {
     "name": "stderr",
     "output_type": "stream",
     "text": [
      "\r",
      " 63%|██████▎   | 198/312 [00:30<00:16,  7.07it/s]"
     ]
    },
    {
     "name": "stderr",
     "output_type": "stream",
     "text": [
      "\r",
      " 64%|██████▍   | 200/312 [00:30<00:12,  9.03it/s]"
     ]
    },
    {
     "name": "stderr",
     "output_type": "stream",
     "text": [
      "\r",
      " 65%|██████▍   | 202/312 [00:30<00:18,  6.11it/s]"
     ]
    },
    {
     "name": "stderr",
     "output_type": "stream",
     "text": [
      "\r",
      " 65%|██████▌   | 204/312 [00:30<00:14,  7.51it/s]"
     ]
    },
    {
     "name": "stderr",
     "output_type": "stream",
     "text": [
      "\r",
      " 66%|██████▋   | 207/312 [00:31<00:10,  9.64it/s]"
     ]
    },
    {
     "name": "stderr",
     "output_type": "stream",
     "text": [
      "\r",
      " 67%|██████▋   | 209/312 [00:31<00:14,  6.99it/s]"
     ]
    },
    {
     "name": "stderr",
     "output_type": "stream",
     "text": [
      "\r",
      " 68%|██████▊   | 211/312 [00:31<00:15,  6.52it/s]"
     ]
    },
    {
     "name": "stderr",
     "output_type": "stream",
     "text": [
      "\r",
      " 68%|██████▊   | 213/312 [00:32<00:17,  5.61it/s]"
     ]
    },
    {
     "name": "stderr",
     "output_type": "stream",
     "text": [
      "\r",
      " 69%|██████▉   | 216/312 [00:32<00:12,  7.99it/s]"
     ]
    },
    {
     "name": "stderr",
     "output_type": "stream",
     "text": [
      "\r",
      " 70%|██████▉   | 218/312 [00:32<00:11,  8.24it/s]"
     ]
    },
    {
     "name": "stderr",
     "output_type": "stream",
     "text": [
      "\r",
      " 71%|███████   | 220/312 [00:32<00:11,  8.15it/s]"
     ]
    },
    {
     "name": "stderr",
     "output_type": "stream",
     "text": [
      "\r",
      " 71%|███████   | 222/312 [00:33<00:12,  7.02it/s]"
     ]
    },
    {
     "name": "stderr",
     "output_type": "stream",
     "text": [
      "\r",
      " 72%|███████▏  | 224/312 [00:33<00:11,  7.39it/s]"
     ]
    },
    {
     "name": "stderr",
     "output_type": "stream",
     "text": [
      "\r",
      " 72%|███████▏  | 226/312 [00:33<00:10,  8.39it/s]"
     ]
    },
    {
     "name": "stderr",
     "output_type": "stream",
     "text": [
      "\r",
      " 73%|███████▎  | 227/312 [00:34<00:12,  6.81it/s]"
     ]
    },
    {
     "name": "stderr",
     "output_type": "stream",
     "text": [
      "\r",
      " 73%|███████▎  | 229/312 [00:34<00:11,  7.32it/s]"
     ]
    },
    {
     "name": "stderr",
     "output_type": "stream",
     "text": [
      "\r",
      " 74%|███████▎  | 230/312 [00:34<00:13,  6.22it/s]"
     ]
    },
    {
     "name": "stderr",
     "output_type": "stream",
     "text": [
      "\r",
      " 74%|███████▍  | 232/312 [00:34<00:10,  7.73it/s]"
     ]
    },
    {
     "name": "stderr",
     "output_type": "stream",
     "text": [
      "\r",
      " 75%|███████▍  | 233/312 [00:34<00:10,  7.23it/s]"
     ]
    },
    {
     "name": "stderr",
     "output_type": "stream",
     "text": [
      "\r",
      " 75%|███████▌  | 235/312 [00:35<00:09,  8.11it/s]"
     ]
    },
    {
     "name": "stderr",
     "output_type": "stream",
     "text": [
      "\r",
      " 76%|███████▌  | 237/312 [00:35<00:07,  9.66it/s]"
     ]
    },
    {
     "name": "stderr",
     "output_type": "stream",
     "text": [
      "\r",
      " 77%|███████▋  | 239/312 [00:35<00:06, 11.29it/s]"
     ]
    },
    {
     "name": "stderr",
     "output_type": "stream",
     "text": [
      "\r",
      " 77%|███████▋  | 241/312 [00:36<00:12,  5.53it/s]"
     ]
    },
    {
     "name": "stderr",
     "output_type": "stream",
     "text": [
      "\r",
      " 78%|███████▊  | 243/312 [00:36<00:09,  7.09it/s]"
     ]
    },
    {
     "name": "stderr",
     "output_type": "stream",
     "text": [
      "\r",
      " 79%|███████▊  | 245/312 [00:36<00:11,  5.90it/s]"
     ]
    },
    {
     "name": "stderr",
     "output_type": "stream",
     "text": [
      "\r",
      " 79%|███████▉  | 246/312 [00:36<00:12,  5.41it/s]"
     ]
    },
    {
     "name": "stderr",
     "output_type": "stream",
     "text": [
      "\r",
      " 79%|███████▉  | 247/312 [00:37<00:11,  5.88it/s]"
     ]
    },
    {
     "name": "stderr",
     "output_type": "stream",
     "text": [
      "\r",
      " 80%|████████  | 250/312 [00:37<00:07,  7.83it/s]"
     ]
    },
    {
     "name": "stderr",
     "output_type": "stream",
     "text": [
      "\r",
      " 80%|████████  | 251/312 [00:37<00:07,  7.96it/s]"
     ]
    },
    {
     "name": "stderr",
     "output_type": "stream",
     "text": [
      "\r",
      " 81%|████████  | 252/312 [00:37<00:10,  5.88it/s]"
     ]
    },
    {
     "name": "stderr",
     "output_type": "stream",
     "text": [
      "\r",
      " 82%|████████▏ | 255/312 [00:38<00:08,  6.66it/s]"
     ]
    },
    {
     "name": "stderr",
     "output_type": "stream",
     "text": [
      "\r",
      " 82%|████████▏ | 257/312 [00:38<00:07,  7.33it/s]"
     ]
    },
    {
     "name": "stderr",
     "output_type": "stream",
     "text": [
      "\r",
      " 83%|████████▎ | 258/312 [00:38<00:07,  7.38it/s]"
     ]
    },
    {
     "name": "stderr",
     "output_type": "stream",
     "text": [
      "\r",
      " 83%|████████▎ | 259/312 [00:38<00:09,  5.52it/s]"
     ]
    },
    {
     "name": "stderr",
     "output_type": "stream",
     "text": [
      "\r",
      " 84%|████████▎ | 261/312 [00:38<00:07,  6.51it/s]"
     ]
    },
    {
     "name": "stderr",
     "output_type": "stream",
     "text": [
      "\r",
      " 84%|████████▍ | 263/312 [00:39<00:05,  8.34it/s]"
     ]
    },
    {
     "name": "stderr",
     "output_type": "stream",
     "text": [
      "\r",
      " 85%|████████▍ | 265/312 [00:39<00:05,  8.84it/s]"
     ]
    },
    {
     "name": "stderr",
     "output_type": "stream",
     "text": [
      "\r",
      " 86%|████████▌ | 267/312 [00:39<00:06,  6.48it/s]"
     ]
    },
    {
     "name": "stderr",
     "output_type": "stream",
     "text": [
      "\r",
      " 86%|████████▌ | 268/312 [00:39<00:06,  6.76it/s]"
     ]
    },
    {
     "name": "stderr",
     "output_type": "stream",
     "text": [
      "\r",
      " 87%|████████▋ | 270/312 [00:40<00:06,  6.77it/s]"
     ]
    },
    {
     "name": "stderr",
     "output_type": "stream",
     "text": [
      "\r",
      " 87%|████████▋ | 271/312 [00:40<00:07,  5.39it/s]"
     ]
    },
    {
     "name": "stderr",
     "output_type": "stream",
     "text": [
      "\r",
      " 88%|████████▊ | 273/312 [00:40<00:06,  6.42it/s]"
     ]
    },
    {
     "name": "stderr",
     "output_type": "stream",
     "text": [
      "\r",
      " 88%|████████▊ | 274/312 [00:40<00:05,  6.70it/s]"
     ]
    },
    {
     "name": "stderr",
     "output_type": "stream",
     "text": [
      "\r",
      " 88%|████████▊ | 275/312 [00:41<00:08,  4.39it/s]"
     ]
    },
    {
     "name": "stderr",
     "output_type": "stream",
     "text": [
      "\r",
      " 90%|█████████ | 281/312 [00:41<00:03,  8.92it/s]"
     ]
    },
    {
     "name": "stderr",
     "output_type": "stream",
     "text": [
      "\r",
      " 90%|█████████ | 282/312 [00:41<00:03,  7.98it/s]"
     ]
    },
    {
     "name": "stderr",
     "output_type": "stream",
     "text": [
      "\r",
      " 91%|█████████ | 284/312 [00:42<00:03,  7.39it/s]"
     ]
    },
    {
     "name": "stderr",
     "output_type": "stream",
     "text": [
      "\r",
      " 91%|█████████▏| 285/312 [00:42<00:04,  6.10it/s]"
     ]
    },
    {
     "name": "stderr",
     "output_type": "stream",
     "text": [
      "\r",
      " 92%|█████████▏| 286/312 [00:42<00:04,  6.33it/s]"
     ]
    },
    {
     "name": "stderr",
     "output_type": "stream",
     "text": [
      "\r",
      " 92%|█████████▏| 287/312 [00:42<00:04,  5.87it/s]"
     ]
    },
    {
     "name": "stderr",
     "output_type": "stream",
     "text": [
      "\r",
      " 92%|█████████▏| 288/312 [00:43<00:04,  4.99it/s]"
     ]
    },
    {
     "name": "stderr",
     "output_type": "stream",
     "text": [
      "\r",
      " 93%|█████████▎| 291/312 [00:43<00:02,  7.48it/s]"
     ]
    },
    {
     "name": "stderr",
     "output_type": "stream",
     "text": [
      "\r",
      " 94%|█████████▍| 293/312 [00:43<00:02,  7.87it/s]"
     ]
    },
    {
     "name": "stderr",
     "output_type": "stream",
     "text": [
      "\r",
      " 94%|█████████▍| 294/312 [00:43<00:02,  6.49it/s]"
     ]
    },
    {
     "name": "stderr",
     "output_type": "stream",
     "text": [
      "\r",
      " 95%|█████████▍| 295/312 [00:44<00:03,  4.50it/s]"
     ]
    },
    {
     "name": "stderr",
     "output_type": "stream",
     "text": [
      "\r",
      " 95%|█████████▌| 297/312 [00:44<00:02,  5.51it/s]"
     ]
    },
    {
     "name": "stderr",
     "output_type": "stream",
     "text": [
      "\r",
      " 96%|█████████▌| 299/312 [00:44<00:01,  6.58it/s]"
     ]
    },
    {
     "name": "stderr",
     "output_type": "stream",
     "text": [
      "\r",
      " 97%|█████████▋| 302/312 [00:45<00:01,  8.16it/s]"
     ]
    },
    {
     "name": "stderr",
     "output_type": "stream",
     "text": [
      "\r",
      " 97%|█████████▋| 304/312 [00:45<00:01,  7.72it/s]"
     ]
    },
    {
     "name": "stderr",
     "output_type": "stream",
     "text": [
      "\r",
      " 98%|█████████▊| 306/312 [00:45<00:00,  8.73it/s]"
     ]
    },
    {
     "name": "stderr",
     "output_type": "stream",
     "text": [
      "\r",
      " 98%|█████████▊| 307/312 [00:45<00:00,  8.63it/s]"
     ]
    },
    {
     "name": "stderr",
     "output_type": "stream",
     "text": [
      "\r",
      " 99%|█████████▊| 308/312 [00:46<00:00,  4.05it/s]"
     ]
    },
    {
     "name": "stderr",
     "output_type": "stream",
     "text": [
      "\r",
      " 99%|█████████▉| 310/312 [00:48<00:01,  1.95it/s]"
     ]
    },
    {
     "name": "stderr",
     "output_type": "stream",
     "text": [
      "\r",
      "100%|█████████▉| 311/312 [00:50<00:00,  1.15it/s]"
     ]
    },
    {
     "name": "stderr",
     "output_type": "stream",
     "text": [
      "\r",
      "100%|██████████| 312/312 [00:52<00:00,  1.12s/it]"
     ]
    },
    {
     "name": "stderr",
     "output_type": "stream",
     "text": [
      "\r",
      "100%|██████████| 312/312 [00:52<00:00,  5.93it/s]"
     ]
    },
    {
     "name": "stderr",
     "output_type": "stream",
     "text": [
      "\n"
     ]
    },
    {
     "name": "stdout",
     "output_type": "stream",
     "text": [
      "\n",
      "rate limit: 7 \n",
      "Leeftijdsgroep API calls: create: 0, read: 1, update: 312, delete: 0, backoff: 3\n",
      "errors:\n",
      "  503: Service Unavailable: 4\n"
     ]
    },
    {
     "name": "stdout",
     "output_type": "stream",
     "text": [
      "[{'Key': 1, 'Timestamp Leeftijdsgroep RIVM': '2021-08-23 14:15'}]\n"
     ]
    },
    {
     "name": "stdout",
     "output_type": "stream",
     "text": [
      "timestamps: [{'Key': 1, 'Timestamp Leeftijdsgroep RIVM': '2021-08-23 14:15'}]\n",
      "Key                               int64\n",
      "Timestamp Leeftijdsgroep RIVM    object\n",
      "dtype: object\n"
     ]
    },
    {
     "name": "stderr",
     "output_type": "stream",
     "text": [
      "\r",
      "  0%|          | 0/1 [00:00<?, ?it/s]"
     ]
    },
    {
     "name": "stderr",
     "output_type": "stream",
     "text": [
      "\r",
      "100%|██████████| 1/1 [00:01<00:00,  1.93s/it]"
     ]
    },
    {
     "name": "stderr",
     "output_type": "stream",
     "text": [
      "\r",
      "100%|██████████| 1/1 [00:01<00:00,  1.93s/it]"
     ]
    },
    {
     "name": "stderr",
     "output_type": "stream",
     "text": [
      "\n"
     ]
    },
    {
     "name": "stdout",
     "output_type": "stream",
     "text": [
      "\n",
      "rate limit: 7 \n",
      "LaatsteUpdate API calls: create: 0, read: 0, update: 1, delete: 0, backoff: 0\n"
     ]
    },
    {
     "name": "stdout",
     "output_type": "stream",
     "text": [
      "BatchName     object\n",
      "ObjectName    object\n",
      "Source        object\n",
      "Timestamp     object\n",
      "dtype: object\n"
     ]
    },
    {
     "name": "stderr",
     "output_type": "stream",
     "text": [
      "\r",
      "  0%|          | 0/1 [00:00<?, ?it/s]"
     ]
    },
    {
     "name": "stderr",
     "output_type": "stream",
     "text": [
      "\r",
      "100%|██████████| 1/1 [00:01<00:00,  1.42s/it]"
     ]
    },
    {
     "name": "stderr",
     "output_type": "stream",
     "text": [
      "\r",
      "100%|██████████| 1/1 [00:01<00:00,  1.42s/it]"
     ]
    },
    {
     "name": "stderr",
     "output_type": "stream",
     "text": [
      "\n"
     ]
    },
    {
     "name": "stdout",
     "output_type": "stream",
     "text": [
      "\n",
      "rate limit: 7 \n",
      "UpdateDetails API calls: create: 1, read: 0, update: 0, delete: 0, backoff: 0\n"
     ]
    },
    {
     "name": "stdout",
     "output_type": "stream",
     "text": [
      "updating: [{'Key': 1, 'Updating Leeftijdsgroep': 'false'}]\n",
      "Key                         int64\n",
      "Updating Leeftijdsgroep    object\n",
      "dtype: object\n"
     ]
    },
    {
     "name": "stderr",
     "output_type": "stream",
     "text": [
      "\r",
      "  0%|          | 0/1 [00:00<?, ?it/s]"
     ]
    },
    {
     "name": "stderr",
     "output_type": "stream",
     "text": [
      "\r",
      "100%|██████████| 1/1 [00:02<00:00,  2.42s/it]"
     ]
    },
    {
     "name": "stderr",
     "output_type": "stream",
     "text": [
      "\r",
      "100%|██████████| 1/1 [00:02<00:00,  2.42s/it]"
     ]
    },
    {
     "name": "stderr",
     "output_type": "stream",
     "text": [
      "\n"
     ]
    },
    {
     "name": "stdout",
     "output_type": "stream",
     "text": [
      "\n",
      "rate limit: 7 \n",
      "LaatsteUpdate API calls: create: 0, read: 0, update: 1, delete: 0, backoff: 0\n"
     ]
    }
   ],
   "source": [
    "if knack:\n",
    "  await knack.publish(tabel.fillna(0).assign(Datum=tabel.Datum.dt.strftime('%Y-%m-%d')), 'Leeftijdsgroep', Cache)"
   ]
  }
 ],
 "metadata": {
  "jupytext": {
   "cell_metadata_filter": "title,-all"
  },
  "kernelspec": {
   "display_name": "Python 3 (ipykernel)",
   "language": "python",
   "name": "python3"
  },
  "language_info": {
   "codemirror_mode": {
    "name": "ipython",
    "version": 3
   },
   "file_extension": ".py",
   "mimetype": "text/x-python",
   "name": "python",
   "nbconvert_exporter": "python",
   "pygments_lexer": "ipython3",
   "version": "3.9.6"
  },
  "papermill": {
   "default_parameters": {},
   "duration": 484.435929,
   "end_time": "2021-08-23T13:37:35.251928",
   "environment_variables": {},
   "exception": null,
   "input_path": "-",
   "output_path": "LeeftijdsgroepenLandelijk.ipynb",
   "parameters": {},
   "start_time": "2021-08-23T13:29:30.815999",
   "version": "2.3.3"
  }
 },
 "nbformat": 4,
 "nbformat_minor": 5
}