{
 "cells": [
  {
   "cell_type": "code",
   "execution_count": 1,
   "id": "0b4334bc",
   "metadata": {
    "execution": {
     "iopub.execute_input": "2021-07-13T13:30:08.607895Z",
     "iopub.status.busy": "2021-07-13T13:30:08.607362Z",
     "iopub.status.idle": "2021-07-13T13:30:12.367549Z",
     "shell.execute_reply": "2021-07-13T13:30:12.367032Z"
    },
    "lines_to_next_cell": 1,
    "papermill": {
     "duration": 3.767866,
     "end_time": "2021-07-13T13:30:12.367685",
     "exception": false,
     "start_time": "2021-07-13T13:30:08.599819",
     "status": "completed"
    },
    "tags": []
   },
   "outputs": [],
   "source": [
    "from IPython import get_ipython\n",
    "from IPython.core.display import display\n",
    "get_ipython().run_line_magic('load_ext', 'autoreload')\n",
    "get_ipython().run_line_magic('autoreload', '2')\n",
    "get_ipython().run_line_magic('run', 'setup')"
   ]
  },
  {
   "cell_type": "code",
   "execution_count": 2,
   "id": "cca94e7a",
   "metadata": {
    "execution": {
     "iopub.execute_input": "2021-07-13T13:30:12.379409Z",
     "iopub.status.busy": "2021-07-13T13:30:12.377005Z",
     "iopub.status.idle": "2021-07-13T13:33:36.896230Z",
     "shell.execute_reply": "2021-07-13T13:33:36.895767Z"
    },
    "lines_to_next_cell": 1,
    "papermill": {
     "duration": 204.524702,
     "end_time": "2021-07-13T13:33:36.896363",
     "exception": false,
     "start_time": "2021-07-13T13:30:12.371661",
     "status": "completed"
    },
    "tags": [],
    "title": "leeftijdsgroepen: download RIVM data"
   },
   "outputs": [
    {
     "name": "stdout",
     "output_type": "stream",
     "text": [
      "downloading rivm/COVID-19_casus_landelijk-2021-07-13@13-15.csv\n"
     ]
    },
    {
     "name": "stdout",
     "output_type": "stream",
     "text": [
      "rivm COVID-19_casus_landelijk zipping rivm/COVID-19_casus_landelijk-2021-07-13@13-15.csv\n"
     ]
    },
    {
     "name": "stdout",
     "output_type": "stream",
     "text": [
      "loading rivm/COVID-19_casus_landelijk-2021-07-13@13-15.csv.gz\n"
     ]
    },
    {
     "data": {
      "text/html": [
       "<div>\n",
       "<style scoped>\n",
       "    .dataframe tbody tr th:only-of-type {\n",
       "        vertical-align: middle;\n",
       "    }\n",
       "\n",
       "    .dataframe tbody tr th {\n",
       "        vertical-align: top;\n",
       "    }\n",
       "\n",
       "    .dataframe thead th {\n",
       "        text-align: right;\n",
       "    }\n",
       "</style>\n",
       "<table border=\"1\" class=\"dataframe\">\n",
       "  <thead>\n",
       "    <tr style=\"text-align: right;\">\n",
       "      <th></th>\n",
       "      <th>Date_file</th>\n",
       "      <th>Date_statistics</th>\n",
       "      <th>Date_statistics_type</th>\n",
       "      <th>Agegroup</th>\n",
       "      <th>Sex</th>\n",
       "      <th>Province</th>\n",
       "      <th>Hospital_admission</th>\n",
       "      <th>Deceased</th>\n",
       "      <th>Week_of_death</th>\n",
       "      <th>Municipal_health_service</th>\n",
       "    </tr>\n",
       "  </thead>\n",
       "  <tbody>\n",
       "    <tr>\n",
       "      <th>0</th>\n",
       "      <td>2021-07-13 10:00:00</td>\n",
       "      <td>2020-01-01</td>\n",
       "      <td>DOO</td>\n",
       "      <td>40-49</td>\n",
       "      <td>Female</td>\n",
       "      <td>Noord-Holland</td>\n",
       "      <td>No</td>\n",
       "      <td>No</td>\n",
       "      <td>NaN</td>\n",
       "      <td>GGD Amsterdam</td>\n",
       "    </tr>\n",
       "    <tr>\n",
       "      <th>1</th>\n",
       "      <td>2021-07-13 10:00:00</td>\n",
       "      <td>2020-01-01</td>\n",
       "      <td>DOO</td>\n",
       "      <td>50-59</td>\n",
       "      <td>Male</td>\n",
       "      <td>Gelderland</td>\n",
       "      <td>No</td>\n",
       "      <td>No</td>\n",
       "      <td>NaN</td>\n",
       "      <td>Veiligheids- en Gezondheidsregio Gelderland-Mi...</td>\n",
       "    </tr>\n",
       "    <tr>\n",
       "      <th>2</th>\n",
       "      <td>2021-07-13 10:00:00</td>\n",
       "      <td>2020-01-01</td>\n",
       "      <td>DOO</td>\n",
       "      <td>20-29</td>\n",
       "      <td>Female</td>\n",
       "      <td>Zuid-Holland</td>\n",
       "      <td>No</td>\n",
       "      <td>No</td>\n",
       "      <td>NaN</td>\n",
       "      <td>GGD Hollands-Midden</td>\n",
       "    </tr>\n",
       "    <tr>\n",
       "      <th>3</th>\n",
       "      <td>2021-07-13 10:00:00</td>\n",
       "      <td>2020-01-01</td>\n",
       "      <td>DOO</td>\n",
       "      <td>60-69</td>\n",
       "      <td>Female</td>\n",
       "      <td>Noord-Holland</td>\n",
       "      <td>No</td>\n",
       "      <td>No</td>\n",
       "      <td>NaN</td>\n",
       "      <td>GGD Hollands-Noorden</td>\n",
       "    </tr>\n",
       "    <tr>\n",
       "      <th>4</th>\n",
       "      <td>2021-07-13 10:00:00</td>\n",
       "      <td>2020-01-04</td>\n",
       "      <td>DOO</td>\n",
       "      <td>10-19</td>\n",
       "      <td>Female</td>\n",
       "      <td>Gelderland</td>\n",
       "      <td>Unknown</td>\n",
       "      <td>No</td>\n",
       "      <td>NaN</td>\n",
       "      <td>GGD Gelderland-Zuid</td>\n",
       "    </tr>\n",
       "  </tbody>\n",
       "</table>\n",
       "</div>"
      ],
      "text/plain": [
       "             Date_file Date_statistics Date_statistics_type Agegroup     Sex  \\\n",
       "0  2021-07-13 10:00:00      2020-01-01                  DOO    40-49  Female   \n",
       "1  2021-07-13 10:00:00      2020-01-01                  DOO    50-59    Male   \n",
       "2  2021-07-13 10:00:00      2020-01-01                  DOO    20-29  Female   \n",
       "3  2021-07-13 10:00:00      2020-01-01                  DOO    60-69  Female   \n",
       "4  2021-07-13 10:00:00      2020-01-04                  DOO    10-19  Female   \n",
       "\n",
       "        Province Hospital_admission Deceased  Week_of_death  \\\n",
       "0  Noord-Holland                 No       No            NaN   \n",
       "1     Gelderland                 No       No            NaN   \n",
       "2   Zuid-Holland                 No       No            NaN   \n",
       "3  Noord-Holland                 No       No            NaN   \n",
       "4     Gelderland            Unknown       No            NaN   \n",
       "\n",
       "                            Municipal_health_service  \n",
       "0                                      GGD Amsterdam  \n",
       "1  Veiligheids- en Gezondheidsregio Gelderland-Mi...  \n",
       "2                                GGD Hollands-Midden  \n",
       "3                               GGD Hollands-Noorden  \n",
       "4                                GGD Gelderland-Zuid  "
      ]
     },
     "metadata": {},
     "output_type": "display_data"
    }
   ],
   "source": [
    "#leeftijdsgroepen = SimpleNamespace()\n",
    "@run\n",
    "def cell():\n",
    "  global rivm\n",
    "  rivm = RIVM.csv('COVID-19_casus_landelijk')\n",
    "  display(rivm.head())"
   ]
  },
  {
   "cell_type": "code",
   "execution_count": 3,
   "id": "3a6d6039",
   "metadata": {
    "execution": {
     "iopub.execute_input": "2021-07-13T13:33:36.909998Z",
     "iopub.status.busy": "2021-07-13T13:33:36.908442Z",
     "iopub.status.idle": "2021-07-13T13:33:39.845728Z",
     "shell.execute_reply": "2021-07-13T13:33:39.845261Z"
    },
    "lines_to_next_cell": 1,
    "papermill": {
     "duration": 2.944135,
     "end_time": "2021-07-13T13:33:39.845836",
     "exception": false,
     "start_time": "2021-07-13T13:33:36.901701",
     "status": "completed"
    },
    "tags": [],
    "title": "Download de bevolkings cijfers van CBS, uitgesplitst op de leeftijds categorien in de dataset van het RIVM"
   },
   "outputs": [],
   "source": [
    "@run\n",
    "def cell():\n",
    "  global bevolking\n",
    "  bevolking = CBS.bevolking(leeftijdsgroepen=True)"
   ]
  },
  {
   "cell_type": "code",
   "execution_count": 4,
   "id": "f47a6c24",
   "metadata": {
    "execution": {
     "iopub.execute_input": "2021-07-13T13:33:39.869094Z",
     "iopub.status.busy": "2021-07-13T13:33:39.863078Z",
     "iopub.status.idle": "2021-07-13T13:33:46.410359Z",
     "shell.execute_reply": "2021-07-13T13:33:46.409997Z"
    },
    "lines_to_next_cell": 1,
    "papermill": {
     "duration": 6.560017,
     "end_time": "2021-07-13T13:33:46.410467",
     "exception": false,
     "start_time": "2021-07-13T13:33:39.850450",
     "status": "completed"
    },
    "tags": [],
    "title": "leeftijdsgroepen: prepareer tabel"
   },
   "outputs": [
    {
     "data": {
      "text/html": [
       "<style type=\"text/css\">\n",
       "#T_46d8e_row0_col7, #T_46d8e_row2_col14, #T_46d8e_row3_col14 {\n",
       "  background-color: #eae51a;\n",
       "  color: #000000;\n",
       "}\n",
       "#T_46d8e_row0_col8, #T_46d8e_row3_col10 {\n",
       "  background-color: #20928c;\n",
       "  color: #f1f1f1;\n",
       "}\n",
       "#T_46d8e_row0_col9, #T_46d8e_row1_col9, #T_46d8e_row2_col9, #T_46d8e_row3_col8, #T_46d8e_row4_col8 {\n",
       "  background-color: #440154;\n",
       "  color: #f1f1f1;\n",
       "}\n",
       "#T_46d8e_row0_col10 {\n",
       "  background-color: #93d741;\n",
       "  color: #000000;\n",
       "}\n",
       "#T_46d8e_row0_col11 {\n",
       "  background-color: #c5e021;\n",
       "  color: #000000;\n",
       "}\n",
       "#T_46d8e_row0_col12 {\n",
       "  background-color: #bddf26;\n",
       "  color: #000000;\n",
       "}\n",
       "#T_46d8e_row0_col13, #T_46d8e_row1_col7, #T_46d8e_row3_col15, #T_46d8e_row4_col15 {\n",
       "  background-color: #efe51c;\n",
       "  color: #000000;\n",
       "}\n",
       "#T_46d8e_row0_col14, #T_46d8e_row1_col14, #T_46d8e_row4_col16 {\n",
       "  background-color: #fbe723;\n",
       "  color: #000000;\n",
       "}\n",
       "#T_46d8e_row0_col15, #T_46d8e_row0_col16, #T_46d8e_row0_col17, #T_46d8e_row1_col15, #T_46d8e_row1_col16, #T_46d8e_row1_col17, #T_46d8e_row2_col16, #T_46d8e_row2_col17, #T_46d8e_row3_col16, #T_46d8e_row3_col17, #T_46d8e_row4_col17 {\n",
       "  background-color: #fde725;\n",
       "  color: #000000;\n",
       "}\n",
       "#T_46d8e_row1_col8 {\n",
       "  background-color: #218e8d;\n",
       "  color: #f1f1f1;\n",
       "}\n",
       "#T_46d8e_row1_col10 {\n",
       "  background-color: #95d840;\n",
       "  color: #000000;\n",
       "}\n",
       "#T_46d8e_row1_col11 {\n",
       "  background-color: #cde11d;\n",
       "  color: #000000;\n",
       "}\n",
       "#T_46d8e_row1_col12 {\n",
       "  background-color: #d5e21a;\n",
       "  color: #000000;\n",
       "}\n",
       "#T_46d8e_row1_col13 {\n",
       "  background-color: #f1e51d;\n",
       "  color: #000000;\n",
       "}\n",
       "#T_46d8e_row2_col7 {\n",
       "  background-color: #7cd250;\n",
       "  color: #000000;\n",
       "}\n",
       "#T_46d8e_row2_col8 {\n",
       "  background-color: #481d6f;\n",
       "  color: #f1f1f1;\n",
       "}\n",
       "#T_46d8e_row2_col10 {\n",
       "  background-color: #228b8d;\n",
       "  color: #f1f1f1;\n",
       "}\n",
       "#T_46d8e_row2_col11 {\n",
       "  background-color: #22a884;\n",
       "  color: #f1f1f1;\n",
       "}\n",
       "#T_46d8e_row2_col12 {\n",
       "  background-color: #42be71;\n",
       "  color: #f1f1f1;\n",
       "}\n",
       "#T_46d8e_row2_col13 {\n",
       "  background-color: #b5de2b;\n",
       "  color: #000000;\n",
       "}\n",
       "#T_46d8e_row2_col15 {\n",
       "  background-color: #f4e61e;\n",
       "  color: #000000;\n",
       "}\n",
       "#T_46d8e_row3_col7 {\n",
       "  background-color: #7ad151;\n",
       "  color: #000000;\n",
       "}\n",
       "#T_46d8e_row3_col9 {\n",
       "  background-color: #375a8c;\n",
       "  color: #f1f1f1;\n",
       "}\n",
       "#T_46d8e_row3_col11 {\n",
       "  background-color: #1fa287;\n",
       "  color: #f1f1f1;\n",
       "}\n",
       "#T_46d8e_row3_col12 {\n",
       "  background-color: #2eb37c;\n",
       "  color: #f1f1f1;\n",
       "}\n",
       "#T_46d8e_row3_col13 {\n",
       "  background-color: #a2da37;\n",
       "  color: #000000;\n",
       "}\n",
       "#T_46d8e_row4_col7 {\n",
       "  background-color: #52c569;\n",
       "  color: #000000;\n",
       "}\n",
       "#T_46d8e_row4_col9 {\n",
       "  background-color: #297a8e;\n",
       "  color: #f1f1f1;\n",
       "}\n",
       "#T_46d8e_row4_col10 {\n",
       "  background-color: #1f9a8a;\n",
       "  color: #f1f1f1;\n",
       "}\n",
       "#T_46d8e_row4_col11 {\n",
       "  background-color: #20a486;\n",
       "  color: #f1f1f1;\n",
       "}\n",
       "#T_46d8e_row4_col12 {\n",
       "  background-color: #34b679;\n",
       "  color: #f1f1f1;\n",
       "}\n",
       "#T_46d8e_row4_col13 {\n",
       "  background-color: #b2dd2d;\n",
       "  color: #000000;\n",
       "}\n",
       "#T_46d8e_row4_col14 {\n",
       "  background-color: #e7e419;\n",
       "  color: #000000;\n",
       "}\n",
       "</style>\n",
       "<table id=\"T_46d8e_\">\n",
       "  <thead>\n",
       "    <tr>\n",
       "      <th class=\"blank level0\" >&nbsp;</th>\n",
       "      <th class=\"col_heading level0 col0\" >Key</th>\n",
       "      <th class=\"col_heading level0 col1\" >Weken terug</th>\n",
       "      <th class=\"col_heading level0 col2\" >Datum</th>\n",
       "      <th class=\"col_heading level0 col3\" >Periode</th>\n",
       "      <th class=\"col_heading level0 col4\" >Gemiddelde leeftijd</th>\n",
       "      <th class=\"col_heading level0 col5\" >Totaal</th>\n",
       "      <th class=\"col_heading level0 col6\" >Type</th>\n",
       "      <th class=\"col_heading level0 col7\" >0-9</th>\n",
       "      <th class=\"col_heading level0 col8\" >10-19</th>\n",
       "      <th class=\"col_heading level0 col9\" >20-29</th>\n",
       "      <th class=\"col_heading level0 col10\" >30-39</th>\n",
       "      <th class=\"col_heading level0 col11\" >40-49</th>\n",
       "      <th class=\"col_heading level0 col12\" >50-59</th>\n",
       "      <th class=\"col_heading level0 col13\" >60-69</th>\n",
       "      <th class=\"col_heading level0 col14\" >70-79</th>\n",
       "      <th class=\"col_heading level0 col15\" >80-89</th>\n",
       "      <th class=\"col_heading level0 col16\" >90+</th>\n",
       "      <th class=\"col_heading level0 col17\" >Onbekend</th>\n",
       "      <th class=\"col_heading level0 col18\" >c0-9</th>\n",
       "      <th class=\"col_heading level0 col19\" >c10-19</th>\n",
       "      <th class=\"col_heading level0 col20\" >c20-29</th>\n",
       "      <th class=\"col_heading level0 col21\" >c30-39</th>\n",
       "      <th class=\"col_heading level0 col22\" >c40-49</th>\n",
       "      <th class=\"col_heading level0 col23\" >c50-59</th>\n",
       "      <th class=\"col_heading level0 col24\" >c60-69</th>\n",
       "      <th class=\"col_heading level0 col25\" >c70-79</th>\n",
       "      <th class=\"col_heading level0 col26\" >c80-89</th>\n",
       "      <th class=\"col_heading level0 col27\" >c90+</th>\n",
       "      <th class=\"col_heading level0 col28\" >cOnbekend</th>\n",
       "    </tr>\n",
       "  </thead>\n",
       "  <tbody>\n",
       "    <tr>\n",
       "      <th id=\"T_46d8e_level0_row0\" class=\"row_heading level0 row0\" >0</th>\n",
       "      <td id=\"T_46d8e_row0_col0\" class=\"data row0 col0\" >p000</td>\n",
       "      <td id=\"T_46d8e_row0_col1\" class=\"data row0 col1\" >0</td>\n",
       "      <td id=\"T_46d8e_row0_col2\" class=\"data row0 col2\" >2021-07-13 00:00:00</td>\n",
       "      <td id=\"T_46d8e_row0_col3\" class=\"data row0 col3\" >07/07-13/07</td>\n",
       "      <td id=\"T_46d8e_row0_col4\" class=\"data row0 col4\" >26.200000</td>\n",
       "      <td id=\"T_46d8e_row0_col5\" class=\"data row0 col5\" >33510.000000</td>\n",
       "      <td id=\"T_46d8e_row0_col6\" class=\"data row0 col6\" >Positief getest</td>\n",
       "      <td id=\"T_46d8e_row0_col7\" class=\"data row0 col7\" >601.000000</td>\n",
       "      <td id=\"T_46d8e_row0_col8\" class=\"data row0 col8\" >8603.000000</td>\n",
       "      <td id=\"T_46d8e_row0_col9\" class=\"data row0 col9\" >17576.000000</td>\n",
       "      <td id=\"T_46d8e_row0_col10\" class=\"data row0 col10\" >2862.000000</td>\n",
       "      <td id=\"T_46d8e_row0_col11\" class=\"data row0 col11\" >1559.000000</td>\n",
       "      <td id=\"T_46d8e_row0_col12\" class=\"data row0 col12\" >1718.000000</td>\n",
       "      <td id=\"T_46d8e_row0_col13\" class=\"data row0 col13\" >443.000000</td>\n",
       "      <td id=\"T_46d8e_row0_col14\" class=\"data row0 col14\" >89.000000</td>\n",
       "      <td id=\"T_46d8e_row0_col15\" class=\"data row0 col15\" >50.000000</td>\n",
       "      <td id=\"T_46d8e_row0_col16\" class=\"data row0 col16\" >9.000000</td>\n",
       "      <td id=\"T_46d8e_row0_col17\" class=\"data row0 col17\" >0.000000</td>\n",
       "      <td id=\"T_46d8e_row0_col18\" class=\"data row0 col18\" >34</td>\n",
       "      <td id=\"T_46d8e_row0_col19\" class=\"data row0 col19\" >489</td>\n",
       "      <td id=\"T_46d8e_row0_col20\" class=\"data row0 col20\" >1000</td>\n",
       "      <td id=\"T_46d8e_row0_col21\" class=\"data row0 col21\" >162</td>\n",
       "      <td id=\"T_46d8e_row0_col22\" class=\"data row0 col22\" >88</td>\n",
       "      <td id=\"T_46d8e_row0_col23\" class=\"data row0 col23\" >97</td>\n",
       "      <td id=\"T_46d8e_row0_col24\" class=\"data row0 col24\" >25</td>\n",
       "      <td id=\"T_46d8e_row0_col25\" class=\"data row0 col25\" >5</td>\n",
       "      <td id=\"T_46d8e_row0_col26\" class=\"data row0 col26\" >2</td>\n",
       "      <td id=\"T_46d8e_row0_col27\" class=\"data row0 col27\" >0</td>\n",
       "      <td id=\"T_46d8e_row0_col28\" class=\"data row0 col28\" >0</td>\n",
       "    </tr>\n",
       "    <tr>\n",
       "      <th id=\"T_46d8e_level0_row1\" class=\"row_heading level0 row1\" >1</th>\n",
       "      <td id=\"T_46d8e_row1_col0\" class=\"data row1 col0\" >p001</td>\n",
       "      <td id=\"T_46d8e_row1_col1\" class=\"data row1 col1\" >1</td>\n",
       "      <td id=\"T_46d8e_row1_col2\" class=\"data row1 col2\" >2021-07-13 00:00:00</td>\n",
       "      <td id=\"T_46d8e_row1_col3\" class=\"data row1 col3\" >30/06-06/07</td>\n",
       "      <td id=\"T_46d8e_row1_col4\" class=\"data row1 col4\" >25.400000</td>\n",
       "      <td id=\"T_46d8e_row1_col5\" class=\"data row1 col5\" >24239.000000</td>\n",
       "      <td id=\"T_46d8e_row1_col6\" class=\"data row1 col6\" >Positief getest</td>\n",
       "      <td id=\"T_46d8e_row1_col7\" class=\"data row1 col7\" >325.000000</td>\n",
       "      <td id=\"T_46d8e_row1_col8\" class=\"data row1 col8\" >6639.000000</td>\n",
       "      <td id=\"T_46d8e_row1_col9\" class=\"data row1 col9\" >12993.000000</td>\n",
       "      <td id=\"T_46d8e_row1_col10\" class=\"data row1 col10\" >2055.000000</td>\n",
       "      <td id=\"T_46d8e_row1_col11\" class=\"data row1 col11\" >976.000000</td>\n",
       "      <td id=\"T_46d8e_row1_col12\" class=\"data row1 col12\" >856.000000</td>\n",
       "      <td id=\"T_46d8e_row1_col13\" class=\"data row1 col13\" >267.000000</td>\n",
       "      <td id=\"T_46d8e_row1_col14\" class=\"data row1 col14\" >82.000000</td>\n",
       "      <td id=\"T_46d8e_row1_col15\" class=\"data row1 col15\" >39.000000</td>\n",
       "      <td id=\"T_46d8e_row1_col16\" class=\"data row1 col16\" >7.000000</td>\n",
       "      <td id=\"T_46d8e_row1_col17\" class=\"data row1 col17\" >0.000000</td>\n",
       "      <td id=\"T_46d8e_row1_col18\" class=\"data row1 col18\" >25</td>\n",
       "      <td id=\"T_46d8e_row1_col19\" class=\"data row1 col19\" >510</td>\n",
       "      <td id=\"T_46d8e_row1_col20\" class=\"data row1 col20\" >1000</td>\n",
       "      <td id=\"T_46d8e_row1_col21\" class=\"data row1 col21\" >158</td>\n",
       "      <td id=\"T_46d8e_row1_col22\" class=\"data row1 col22\" >75</td>\n",
       "      <td id=\"T_46d8e_row1_col23\" class=\"data row1 col23\" >65</td>\n",
       "      <td id=\"T_46d8e_row1_col24\" class=\"data row1 col24\" >20</td>\n",
       "      <td id=\"T_46d8e_row1_col25\" class=\"data row1 col25\" >6</td>\n",
       "      <td id=\"T_46d8e_row1_col26\" class=\"data row1 col26\" >3</td>\n",
       "      <td id=\"T_46d8e_row1_col27\" class=\"data row1 col27\" >0</td>\n",
       "      <td id=\"T_46d8e_row1_col28\" class=\"data row1 col28\" >0</td>\n",
       "    </tr>\n",
       "    <tr>\n",
       "      <th id=\"T_46d8e_level0_row2\" class=\"row_heading level0 row2\" >2</th>\n",
       "      <td id=\"T_46d8e_row2_col0\" class=\"data row2 col0\" >p002</td>\n",
       "      <td id=\"T_46d8e_row2_col1\" class=\"data row2 col1\" >2</td>\n",
       "      <td id=\"T_46d8e_row2_col2\" class=\"data row2 col2\" >2021-07-13 00:00:00</td>\n",
       "      <td id=\"T_46d8e_row2_col3\" class=\"data row2 col3\" >23/06-29/06</td>\n",
       "      <td id=\"T_46d8e_row2_col4\" class=\"data row2 col4\" >29.700000</td>\n",
       "      <td id=\"T_46d8e_row2_col5\" class=\"data row2 col5\" >4709.000000</td>\n",
       "      <td id=\"T_46d8e_row2_col6\" class=\"data row2 col6\" >Positief getest</td>\n",
       "      <td id=\"T_46d8e_row2_col7\" class=\"data row2 col7\" >263.000000</td>\n",
       "      <td id=\"T_46d8e_row2_col8\" class=\"data row2 col8\" >1235.000000</td>\n",
       "      <td id=\"T_46d8e_row2_col9\" class=\"data row2 col9\" >1343.000000</td>\n",
       "      <td id=\"T_46d8e_row2_col10\" class=\"data row2 col10\" >702.000000</td>\n",
       "      <td id=\"T_46d8e_row2_col11\" class=\"data row2 col11\" >539.000000</td>\n",
       "      <td id=\"T_46d8e_row2_col12\" class=\"data row2 col12\" >404.000000</td>\n",
       "      <td id=\"T_46d8e_row2_col13\" class=\"data row2 col13\" >152.000000</td>\n",
       "      <td id=\"T_46d8e_row2_col14\" class=\"data row2 col14\" >44.000000</td>\n",
       "      <td id=\"T_46d8e_row2_col15\" class=\"data row2 col15\" >22.000000</td>\n",
       "      <td id=\"T_46d8e_row2_col16\" class=\"data row2 col16\" >5.000000</td>\n",
       "      <td id=\"T_46d8e_row2_col17\" class=\"data row2 col17\" >0.000000</td>\n",
       "      <td id=\"T_46d8e_row2_col18\" class=\"data row2 col18\" >195</td>\n",
       "      <td id=\"T_46d8e_row2_col19\" class=\"data row2 col19\" >919</td>\n",
       "      <td id=\"T_46d8e_row2_col20\" class=\"data row2 col20\" >1000</td>\n",
       "      <td id=\"T_46d8e_row2_col21\" class=\"data row2 col21\" >522</td>\n",
       "      <td id=\"T_46d8e_row2_col22\" class=\"data row2 col22\" >401</td>\n",
       "      <td id=\"T_46d8e_row2_col23\" class=\"data row2 col23\" >300</td>\n",
       "      <td id=\"T_46d8e_row2_col24\" class=\"data row2 col24\" >113</td>\n",
       "      <td id=\"T_46d8e_row2_col25\" class=\"data row2 col25\" >32</td>\n",
       "      <td id=\"T_46d8e_row2_col26\" class=\"data row2 col26\" >16</td>\n",
       "      <td id=\"T_46d8e_row2_col27\" class=\"data row2 col27\" >3</td>\n",
       "      <td id=\"T_46d8e_row2_col28\" class=\"data row2 col28\" >0</td>\n",
       "    </tr>\n",
       "    <tr>\n",
       "      <th id=\"T_46d8e_level0_row3\" class=\"row_heading level0 row3\" >3</th>\n",
       "      <td id=\"T_46d8e_row3_col0\" class=\"data row3 col0\" >p003</td>\n",
       "      <td id=\"T_46d8e_row3_col1\" class=\"data row3 col1\" >3</td>\n",
       "      <td id=\"T_46d8e_row3_col2\" class=\"data row3 col2\" >2021-07-13 00:00:00</td>\n",
       "      <td id=\"T_46d8e_row3_col3\" class=\"data row3 col3\" >16/06-22/06</td>\n",
       "      <td id=\"T_46d8e_row3_col4\" class=\"data row3 col4\" >30.600000</td>\n",
       "      <td id=\"T_46d8e_row3_col5\" class=\"data row3 col5\" >4747.000000</td>\n",
       "      <td id=\"T_46d8e_row3_col6\" class=\"data row3 col6\" >Positief getest</td>\n",
       "      <td id=\"T_46d8e_row3_col7\" class=\"data row3 col7\" >283.000000</td>\n",
       "      <td id=\"T_46d8e_row3_col8\" class=\"data row3 col8\" >1401.000000</td>\n",
       "      <td id=\"T_46d8e_row3_col9\" class=\"data row3 col9\" >1007.000000</td>\n",
       "      <td id=\"T_46d8e_row3_col10\" class=\"data row3 col10\" >687.000000</td>\n",
       "      <td id=\"T_46d8e_row3_col11\" class=\"data row3 col11\" >595.000000</td>\n",
       "      <td id=\"T_46d8e_row3_col12\" class=\"data row3 col12\" >495.000000</td>\n",
       "      <td id=\"T_46d8e_row3_col13\" class=\"data row3 col13\" >194.000000</td>\n",
       "      <td id=\"T_46d8e_row3_col14\" class=\"data row3 col14\" >45.000000</td>\n",
       "      <td id=\"T_46d8e_row3_col15\" class=\"data row3 col15\" >35.000000</td>\n",
       "      <td id=\"T_46d8e_row3_col16\" class=\"data row3 col16\" >5.000000</td>\n",
       "      <td id=\"T_46d8e_row3_col17\" class=\"data row3 col17\" >0.000000</td>\n",
       "      <td id=\"T_46d8e_row3_col18\" class=\"data row3 col18\" >201</td>\n",
       "      <td id=\"T_46d8e_row3_col19\" class=\"data row3 col19\" >1000</td>\n",
       "      <td id=\"T_46d8e_row3_col20\" class=\"data row3 col20\" >718</td>\n",
       "      <td id=\"T_46d8e_row3_col21\" class=\"data row3 col21\" >490</td>\n",
       "      <td id=\"T_46d8e_row3_col22\" class=\"data row3 col22\" >424</td>\n",
       "      <td id=\"T_46d8e_row3_col23\" class=\"data row3 col23\" >353</td>\n",
       "      <td id=\"T_46d8e_row3_col24\" class=\"data row3 col24\" >138</td>\n",
       "      <td id=\"T_46d8e_row3_col25\" class=\"data row3 col25\" >32</td>\n",
       "      <td id=\"T_46d8e_row3_col26\" class=\"data row3 col26\" >24</td>\n",
       "      <td id=\"T_46d8e_row3_col27\" class=\"data row3 col27\" >3</td>\n",
       "      <td id=\"T_46d8e_row3_col28\" class=\"data row3 col28\" >0</td>\n",
       "    </tr>\n",
       "    <tr>\n",
       "      <th id=\"T_46d8e_level0_row4\" class=\"row_heading level0 row4\" >4</th>\n",
       "      <td id=\"T_46d8e_row4_col0\" class=\"data row4 col0\" >p004</td>\n",
       "      <td id=\"T_46d8e_row4_col1\" class=\"data row4 col1\" >4</td>\n",
       "      <td id=\"T_46d8e_row4_col2\" class=\"data row4 col2\" >2021-07-13 00:00:00</td>\n",
       "      <td id=\"T_46d8e_row4_col3\" class=\"data row4 col3\" >09/06-15/06</td>\n",
       "      <td id=\"T_46d8e_row4_col4\" class=\"data row4 col4\" >29.900000</td>\n",
       "      <td id=\"T_46d8e_row4_col5\" class=\"data row4 col5\" >7350.000000</td>\n",
       "      <td id=\"T_46d8e_row4_col6\" class=\"data row4 col6\" >Positief getest</td>\n",
       "      <td id=\"T_46d8e_row4_col7\" class=\"data row4 col7\" >614.000000</td>\n",
       "      <td id=\"T_46d8e_row4_col8\" class=\"data row4 col8\" >2258.000000</td>\n",
       "      <td id=\"T_46d8e_row4_col9\" class=\"data row4 col9\" >1333.000000</td>\n",
       "      <td id=\"T_46d8e_row4_col10\" class=\"data row4 col10\" >1039.000000</td>\n",
       "      <td id=\"T_46d8e_row4_col11\" class=\"data row4 col11\" >935.000000</td>\n",
       "      <td id=\"T_46d8e_row4_col12\" class=\"data row4 col12\" >762.000000</td>\n",
       "      <td id=\"T_46d8e_row4_col13\" class=\"data row4 col13\" >260.000000</td>\n",
       "      <td id=\"T_46d8e_row4_col14\" class=\"data row4 col14\" >80.000000</td>\n",
       "      <td id=\"T_46d8e_row4_col15\" class=\"data row4 col15\" >54.000000</td>\n",
       "      <td id=\"T_46d8e_row4_col16\" class=\"data row4 col16\" >15.000000</td>\n",
       "      <td id=\"T_46d8e_row4_col17\" class=\"data row4 col17\" >0.000000</td>\n",
       "      <td id=\"T_46d8e_row4_col18\" class=\"data row4 col18\" >271</td>\n",
       "      <td id=\"T_46d8e_row4_col19\" class=\"data row4 col19\" >1000</td>\n",
       "      <td id=\"T_46d8e_row4_col20\" class=\"data row4 col20\" >590</td>\n",
       "      <td id=\"T_46d8e_row4_col21\" class=\"data row4 col21\" >460</td>\n",
       "      <td id=\"T_46d8e_row4_col22\" class=\"data row4 col22\" >414</td>\n",
       "      <td id=\"T_46d8e_row4_col23\" class=\"data row4 col23\" >337</td>\n",
       "      <td id=\"T_46d8e_row4_col24\" class=\"data row4 col24\" >115</td>\n",
       "      <td id=\"T_46d8e_row4_col25\" class=\"data row4 col25\" >35</td>\n",
       "      <td id=\"T_46d8e_row4_col26\" class=\"data row4 col26\" >23</td>\n",
       "      <td id=\"T_46d8e_row4_col27\" class=\"data row4 col27\" >6</td>\n",
       "      <td id=\"T_46d8e_row4_col28\" class=\"data row4 col28\" >0</td>\n",
       "    </tr>\n",
       "  </tbody>\n",
       "</table>\n"
      ],
      "text/plain": [
       "<pandas.io.formats.style.Styler at 0x7f503909af10>"
      ]
     },
     "metadata": {},
     "output_type": "display_data"
    }
   ],
   "source": [
    "# Bereken de stand van zaken van besmettingen / hospitalisaties / overlijden, per cohort in absolute aantallen en aantallen per 100k, met een kleur indicator voor de aantallen.\n",
    "# vervang <50 en Unknown door Onbekend\n",
    "@run\n",
    "def cell():\n",
    "  rivm['Cohort'] = rivm['Agegroup'].replace({'<50': 'Onbekend', 'Unknown': 'Onbekend'})\n",
    "  # aangenomen 'gemiddelde' leeftijd van een cohort: minimum waarde + 5\n",
    "  assumed_cohort_age = [(cohort, [int(n) for n in cohort.replace('+', '').split('-')]) for cohort in rivm['Cohort'].unique() if cohort[0].isdigit()]\n",
    "  assumed_cohort_age = { cohort: min(rng) + 5 for cohort, rng in assumed_cohort_age }\n",
    "  rivm['Gemiddelde leeftijd'] = rivm['Cohort'].apply(lambda x: assumed_cohort_age.get(x, np.nan))\n",
    "\n",
    "  # verwijder tijd\n",
    "  rivm['Date_file_date'] = pd.to_datetime(rivm['Date_file'].replace(r' .*', '', regex=True))\n",
    "\n",
    "  rivm['Date_statistics_date'] = pd.to_datetime(rivm['Date_statistics'])\n",
    "\n",
    "  # weken terug = verschil tussen Date_file en Date_statistcs, gedeeld door 7 dagen\n",
    "  rivm['Weken terug'] = np.floor((rivm['Date_file_date'] - rivm['Date_statistics_date'])/np.timedelta64(7, 'D')).astype(int)\n",
    "\n",
    "  # voeg key, gem leeftijd, kleurnummer en totaal toe\n",
    "  Date_file = rivm['Date_file_date'].unique()[0].astype('M8[D]').astype('O')\n",
    "  cohorten = list(bevolking.index) + ['Onbekend']\n",
    "  def summarize(df, category, prefix):\n",
    "    # aangezien we hier de dataframe in-place wijzigen (bijv door toevoegen kolommen)\n",
    "    # en we het 'rivm' frame later nog clean nodig hebben\n",
    "    df = df.copy(deep=True)\n",
    "\n",
    "    df = (df\n",
    "          .groupby(['Weken terug', 'Cohort'])['count']\n",
    "          .sum()\n",
    "          .unstack(fill_value=np.nan)\n",
    "          .reset_index()\n",
    "          .rename_axis(None, axis=1)\n",
    "        ).merge(df\n",
    "          # we voegen hier gemiddelde leeftijd toe, want die willen we op een ander\n",
    "          # niveau aggregeren voor 'df' overschreven word\n",
    "          .groupby(['Weken terug'])['Gemiddelde leeftijd']\n",
    "          .mean()\n",
    "          .to_frame(), on='Weken terug'\n",
    "        )\n",
    "\n",
    "    # altijd 52 rijen\n",
    "    df = pd.Series(np.arange(52), name='Weken terug').to_frame().merge(df, how='left', on='Weken terug')\n",
    "\n",
    "    # toevoegen missende cohorten\n",
    "    for col in cohorten:\n",
    "      if not col in df:\n",
    "        df[col] = np.nan\n",
    "\n",
    "    # sommeer per rij (axis=1) over de cohorten om een totaal te krijgen\n",
    "    df['Totaal'] = df[cohorten].sum(axis=1)\n",
    "\n",
    "    # voeg periode en datum toe\n",
    "    # periode afgeleid van weken-terug (= de index voor deze dataframe)\n",
    "    df['Datum'] = pd.to_datetime(Date_file)\n",
    "    df['Periode'] = (df\n",
    "      .index.to_series()\n",
    "      .apply(\n",
    "        lambda x: (\n",
    "          (Date_file + datetime.timedelta(weeks=-(x+1), days=1)).strftime('%d/%m')\n",
    "          + '-'\n",
    "          + (Date_file + datetime.timedelta(weeks=-x)).strftime('%d/%m')\n",
    "        )\n",
    "      )\n",
    "    )\n",
    "\n",
    "    # voeg 'Key' en 'Type' kolom toe. Variabele 'type' kan niet, is een language primitive.\n",
    "    df['Key'] = prefix + df.index.astype(str).str.rjust(3, fillchar='0')\n",
    "    df['Type'] = category\n",
    "\n",
    "    # voeg de kleur kolommen toe\n",
    "    for col in cohorten:\n",
    "      df['c' + col] = ((df[col] / df[[col for col in cohorten]].max(axis=1)) * 1000).fillna(0).astype(int)\n",
    "\n",
    "    # herschikken van de kolommen\n",
    "    colorder = ['Key', 'Weken terug', 'Datum', 'Periode', 'Gemiddelde leeftijd', 'Totaal', 'Type']\n",
    "    return df[colorder + [col for col in df if col not in colorder]]\n",
    "\n",
    "  factor = bevolking.to_dict()['per 100k']\n",
    "  global tabel\n",
    "  tabel = pd.concat(\n",
    "    # flatten the result list zodat pd.concat ze onder elkaar kan plakken\n",
    "    functools.reduce(lambda a, b: a + b, [\n",
    "      [summarize(df.assign(count=1), label, prefix), summarize(df.assign(count=df['Cohort'].apply(lambda x: factor.get(x, np.nan))), label + ' per 100.000', prefix + '100k')]\n",
    "      for df, label, prefix in [\n",
    "        (rivm, 'Positief getest', 'p'), # volledige count per cohort\n",
    "        (rivm[rivm.Hospital_admission == 'Yes'], 'Ziekenhuisopname', 'h'), # count van cohort voor Hospital_admission == 'Yes'\n",
    "        (rivm[rivm.Deceased == 'Yes'], 'Overleden', 'd'), # count van cohort voor Deceased == 'Yes'\n",
    "      ]\n",
    "    ])\n",
    "  )\n",
    "\n",
    "  # rood -> groen\n",
    "  cdict = {\n",
    "    'red':   ((0.0, 0.0, 0.0),   # no red at 0\n",
    "              (0.5, 1.0, 1.0),   # all channels set to 1.0 at 0.5 to create white\n",
    "              (1.0, 0.8, 0.8)),  # set to 0.8 so its not too bright at 1\n",
    "    'green': ((0.0, 0.8, 0.8),   # set to 0.8 so its not too bright at 0\n",
    "              (0.5, 1.0, 1.0),   # all channels set to 1.0 at 0.5 to create white\n",
    "              (1.0, 0.0, 0.0)),  # no green at 1\n",
    "    'blue':  ((0.0, 0.0, 0.0),   # no blue at 0\n",
    "              (0.5, 1.0, 1.0),   # all channels set to 1.0 at 0.5 to create white\n",
    "              (1.0, 0.0, 0.0))   # no blue at 1\n",
    "  }\n",
    "  cm = colors.LinearSegmentedColormap('GnRd', cdict)\n",
    "  # geel -> paars\n",
    "  cm = sns.color_palette('viridis_r', as_cmap=True)\n",
    "  display(tabel\n",
    "    .fillna(0)\n",
    "    .head()\n",
    "    .round(1)\n",
    "    .reset_index(drop=True)\n",
    "    .style.background_gradient(cmap=cm, axis=1, subset=cohorten)\n",
    "  )"
   ]
  },
  {
   "cell_type": "code",
   "execution_count": 5,
   "id": "2d3a1b0c",
   "metadata": {
    "execution": {
     "iopub.execute_input": "2021-07-13T13:33:46.423982Z",
     "iopub.status.busy": "2021-07-13T13:33:46.423573Z",
     "iopub.status.idle": "2021-07-13T13:34:17.668288Z",
     "shell.execute_reply": "2021-07-13T13:34:17.668657Z"
    },
    "papermill": {
     "duration": 31.253068,
     "end_time": "2021-07-13T13:34:17.668806",
     "exception": false,
     "start_time": "2021-07-13T13:33:46.415738",
     "status": "completed"
    },
    "tags": [],
    "title": "publish"
   },
   "outputs": [
    {
     "name": "stdout",
     "output_type": "stream",
     "text": [
      "infinities:\n"
     ]
    },
    {
     "name": "stdout",
     "output_type": "stream",
     "text": [
      "Empty DataFrame\n",
      "Columns: []\n",
      "Index: []\n"
     ]
    },
    {
     "name": "stdout",
     "output_type": "stream",
     "text": [
      "nan:\n"
     ]
    },
    {
     "name": "stdout",
     "output_type": "stream",
     "text": [
      "Empty DataFrame\n",
      "Columns: []\n",
      "Index: []\n"
     ]
    },
    {
     "name": "stdout",
     "output_type": "stream",
     "text": [
      "Key                     object\n",
      "Weken terug              int64\n",
      "Datum                   object\n",
      "Periode                 object\n",
      "Gemiddelde leeftijd    float64\n",
      "Totaal                 float64\n",
      "Type                    object\n",
      "0-9                    float64\n",
      "10-19                  float64\n",
      "20-29                  float64\n",
      "30-39                  float64\n",
      "40-49                  float64\n",
      "50-59                  float64\n",
      "60-69                  float64\n",
      "70-79                  float64\n",
      "80-89                  float64\n",
      "90+                    float64\n",
      "Onbekend               float64\n",
      "c0-9                     int64\n",
      "c10-19                   int64\n",
      "c20-29                   int64\n",
      "c30-39                   int64\n",
      "c40-49                   int64\n",
      "c50-59                   int64\n",
      "c60-69                   int64\n",
      "c70-79                   int64\n",
      "c80-89                   int64\n",
      "c90+                     int64\n",
      "cOnbekend                int64\n",
      "dtype: object\n",
      "updating knack\n"
     ]
    },
    {
     "name": "stdout",
     "output_type": "stream",
     "text": [
      "updating: [{'Key': 1, 'Updating Leeftijdsgroep': 'true'}]\n"
     ]
    },
    {
     "name": "stdout",
     "output_type": "stream",
     "text": [
      "restored LaatsteUpdate from hash\n"
     ]
    },
    {
     "name": "stdout",
     "output_type": "stream",
     "text": [
      "Key                         int64\n",
      "Updating Leeftijdsgroep    object\n",
      "dtype: object\n"
     ]
    },
    {
     "name": "stderr",
     "output_type": "stream",
     "text": [
      "\r",
      "  0%|          | 0/1 [00:00<?, ?it/s]"
     ]
    },
    {
     "name": "stderr",
     "output_type": "stream",
     "text": [
      "\r",
      "100%|██████████| 1/1 [00:01<00:00,  1.54s/it]"
     ]
    },
    {
     "name": "stderr",
     "output_type": "stream",
     "text": [
      "\r",
      "100%|██████████| 1/1 [00:01<00:00,  1.54s/it]"
     ]
    },
    {
     "name": "stdout",
     "output_type": "stream",
     "text": [
      "\n",
      "rate limit: 7 \n",
      "LaatsteUpdate API calls: create: 0, read: 1, update: 1, delete: 0, backoff: 0\n"
     ]
    },
    {
     "name": "stderr",
     "output_type": "stream",
     "text": [
      "\n"
     ]
    },
    {
     "name": "stdout",
     "output_type": "stream",
     "text": [
      "restored Leeftijdsgroep from hash\n"
     ]
    },
    {
     "name": "stdout",
     "output_type": "stream",
     "text": [
      "0-9                    float64\n",
      "10-19                  float64\n",
      "20-29                  float64\n",
      "30-39                  float64\n",
      "40-49                  float64\n",
      "50-59                  float64\n",
      "60-69                  float64\n",
      "70-79                  float64\n",
      "80-89                  float64\n",
      "90+                    float64\n",
      "Datum                   object\n",
      "Gemiddelde leeftijd    float64\n",
      "Key                     object\n",
      "Onbekend               float64\n",
      "Periode                 object\n",
      "Totaal                 float64\n",
      "Type                    object\n",
      "Weken terug              int64\n",
      "c0-9                     int64\n",
      "c10-19                   int64\n",
      "c20-29                   int64\n",
      "c30-39                   int64\n",
      "c40-49                   int64\n",
      "c50-59                   int64\n",
      "c60-69                   int64\n",
      "c70-79                   int64\n",
      "c80-89                   int64\n",
      "c90+                     int64\n",
      "cOnbekend                int64\n",
      "dtype: object\n"
     ]
    },
    {
     "name": "stderr",
     "output_type": "stream",
     "text": [
      "\r",
      "  0%|          | 0/138 [00:00<?, ?it/s]"
     ]
    },
    {
     "name": "stderr",
     "output_type": "stream",
     "text": [
      "\r",
      "  1%|          | 1/138 [00:00<01:27,  1.56it/s]"
     ]
    },
    {
     "name": "stderr",
     "output_type": "stream",
     "text": [
      "\r",
      "  2%|▏         | 3/138 [00:00<00:29,  4.64it/s]"
     ]
    },
    {
     "name": "stderr",
     "output_type": "stream",
     "text": [
      "\r",
      "  4%|▎         | 5/138 [00:00<00:17,  7.62it/s]"
     ]
    },
    {
     "name": "stderr",
     "output_type": "stream",
     "text": [
      "\r",
      "  5%|▌         | 7/138 [00:01<00:15,  8.24it/s]"
     ]
    },
    {
     "name": "stderr",
     "output_type": "stream",
     "text": [
      "\r",
      "  7%|▋         | 10/138 [00:01<00:14,  8.74it/s]"
     ]
    },
    {
     "name": "stderr",
     "output_type": "stream",
     "text": [
      "\r",
      "  9%|▊         | 12/138 [00:01<00:18,  6.76it/s]"
     ]
    },
    {
     "name": "stderr",
     "output_type": "stream",
     "text": [
      "\r",
      "  9%|▉         | 13/138 [00:01<00:18,  6.83it/s]"
     ]
    },
    {
     "name": "stderr",
     "output_type": "stream",
     "text": [
      "\r",
      " 10%|█         | 14/138 [00:02<00:18,  6.84it/s]"
     ]
    },
    {
     "name": "stderr",
     "output_type": "stream",
     "text": [
      "\r",
      " 11%|█         | 15/138 [00:02<00:26,  4.70it/s]"
     ]
    },
    {
     "name": "stderr",
     "output_type": "stream",
     "text": [
      "\r",
      " 12%|█▏        | 17/138 [00:03<00:32,  3.73it/s]"
     ]
    },
    {
     "name": "stderr",
     "output_type": "stream",
     "text": [
      "\r",
      " 14%|█▍        | 19/138 [00:03<00:23,  5.17it/s]"
     ]
    },
    {
     "name": "stderr",
     "output_type": "stream",
     "text": [
      "\r",
      " 14%|█▍        | 20/138 [00:03<00:21,  5.43it/s]"
     ]
    },
    {
     "name": "stderr",
     "output_type": "stream",
     "text": [
      "\r",
      " 15%|█▌        | 21/138 [00:03<00:22,  5.17it/s]"
     ]
    },
    {
     "name": "stderr",
     "output_type": "stream",
     "text": [
      "\r",
      " 17%|█▋        | 23/138 [00:03<00:17,  6.39it/s]"
     ]
    },
    {
     "name": "stderr",
     "output_type": "stream",
     "text": [
      "\r",
      " 17%|█▋        | 24/138 [00:04<00:16,  6.78it/s]"
     ]
    },
    {
     "name": "stderr",
     "output_type": "stream",
     "text": [
      "\r",
      " 18%|█▊        | 25/138 [00:04<00:16,  6.81it/s]"
     ]
    },
    {
     "name": "stderr",
     "output_type": "stream",
     "text": [
      "\r",
      " 19%|█▉        | 26/138 [00:04<00:16,  6.84it/s]"
     ]
    },
    {
     "name": "stderr",
     "output_type": "stream",
     "text": [
      "\r",
      " 20%|█▉        | 27/138 [00:04<00:20,  5.51it/s]"
     ]
    },
    {
     "name": "stderr",
     "output_type": "stream",
     "text": [
      "\r",
      " 21%|██        | 29/138 [00:04<00:14,  7.53it/s]"
     ]
    },
    {
     "name": "stderr",
     "output_type": "stream",
     "text": [
      "\r",
      " 22%|██▏       | 31/138 [00:05<00:14,  7.28it/s]"
     ]
    },
    {
     "name": "stderr",
     "output_type": "stream",
     "text": [
      "\r",
      " 23%|██▎       | 32/138 [00:05<00:16,  6.56it/s]"
     ]
    },
    {
     "name": "stderr",
     "output_type": "stream",
     "text": [
      "\r",
      " 25%|██▍       | 34/138 [00:05<00:14,  6.99it/s]"
     ]
    },
    {
     "name": "stderr",
     "output_type": "stream",
     "text": [
      "\r",
      " 26%|██▌       | 36/138 [00:05<00:16,  6.25it/s]"
     ]
    },
    {
     "name": "stderr",
     "output_type": "stream",
     "text": [
      "\r",
      " 28%|██▊       | 39/138 [00:06<00:16,  6.13it/s]"
     ]
    },
    {
     "name": "stderr",
     "output_type": "stream",
     "text": [
      "\r",
      " 30%|██▉       | 41/138 [00:06<00:13,  7.46it/s]"
     ]
    },
    {
     "name": "stderr",
     "output_type": "stream",
     "text": [
      "\r",
      " 30%|███       | 42/138 [00:06<00:16,  5.70it/s]"
     ]
    },
    {
     "name": "stderr",
     "output_type": "stream",
     "text": [
      "\r",
      " 31%|███       | 43/138 [00:07<00:16,  5.80it/s]"
     ]
    },
    {
     "name": "stderr",
     "output_type": "stream",
     "text": [
      "\r",
      " 32%|███▏      | 44/138 [00:07<00:18,  5.18it/s]"
     ]
    },
    {
     "name": "stderr",
     "output_type": "stream",
     "text": [
      "\r",
      " 33%|███▎      | 46/138 [00:07<00:13,  6.82it/s]"
     ]
    },
    {
     "name": "stderr",
     "output_type": "stream",
     "text": [
      "\r",
      " 34%|███▍      | 47/138 [00:07<00:13,  6.61it/s]"
     ]
    },
    {
     "name": "stderr",
     "output_type": "stream",
     "text": [
      "\r",
      " 35%|███▍      | 48/138 [00:07<00:13,  6.49it/s]"
     ]
    },
    {
     "name": "stderr",
     "output_type": "stream",
     "text": [
      "\r",
      " 37%|███▋      | 51/138 [00:08<00:11,  7.74it/s]"
     ]
    },
    {
     "name": "stderr",
     "output_type": "stream",
     "text": [
      "\r",
      " 38%|███▊      | 52/138 [00:08<00:14,  6.12it/s]"
     ]
    },
    {
     "name": "stderr",
     "output_type": "stream",
     "text": [
      "\r",
      " 38%|███▊      | 53/138 [00:08<00:18,  4.55it/s]"
     ]
    },
    {
     "name": "stderr",
     "output_type": "stream",
     "text": [
      "\r",
      " 39%|███▉      | 54/138 [00:09<00:18,  4.58it/s]"
     ]
    },
    {
     "name": "stderr",
     "output_type": "stream",
     "text": [
      "\r",
      " 40%|███▉      | 55/138 [00:09<00:16,  5.11it/s]"
     ]
    },
    {
     "name": "stderr",
     "output_type": "stream",
     "text": [
      "\r",
      " 41%|████▏     | 57/138 [00:09<00:10,  7.42it/s]"
     ]
    },
    {
     "name": "stderr",
     "output_type": "stream",
     "text": [
      "\r",
      " 44%|████▍     | 61/138 [00:09<00:07, 10.77it/s]"
     ]
    },
    {
     "name": "stderr",
     "output_type": "stream",
     "text": [
      "\r",
      " 46%|████▋     | 64/138 [00:09<00:06, 12.14it/s]"
     ]
    },
    {
     "name": "stderr",
     "output_type": "stream",
     "text": [
      "\r",
      " 48%|████▊     | 66/138 [00:10<00:12,  5.82it/s]"
     ]
    },
    {
     "name": "stderr",
     "output_type": "stream",
     "text": [
      "\r",
      " 49%|████▊     | 67/138 [00:10<00:11,  6.17it/s]"
     ]
    },
    {
     "name": "stderr",
     "output_type": "stream",
     "text": [
      "\r",
      " 49%|████▉     | 68/138 [00:10<00:11,  6.19it/s]"
     ]
    },
    {
     "name": "stderr",
     "output_type": "stream",
     "text": [
      "\r",
      " 50%|█████     | 69/138 [00:11<00:11,  6.13it/s]"
     ]
    },
    {
     "name": "stderr",
     "output_type": "stream",
     "text": [
      "\r",
      " 51%|█████▏    | 71/138 [00:11<00:10,  6.42it/s]"
     ]
    },
    {
     "name": "stderr",
     "output_type": "stream",
     "text": [
      "\r",
      " 54%|█████▍    | 75/138 [00:11<00:09,  6.46it/s]"
     ]
    },
    {
     "name": "stderr",
     "output_type": "stream",
     "text": [
      "\r",
      " 56%|█████▌    | 77/138 [00:12<00:07,  7.77it/s]"
     ]
    },
    {
     "name": "stderr",
     "output_type": "stream",
     "text": [
      "\r",
      " 57%|█████▋    | 79/138 [00:12<00:09,  6.43it/s]"
     ]
    },
    {
     "name": "stderr",
     "output_type": "stream",
     "text": [
      "\r",
      " 59%|█████▊    | 81/138 [00:13<00:11,  4.80it/s]"
     ]
    },
    {
     "name": "stderr",
     "output_type": "stream",
     "text": [
      "\r",
      " 59%|█████▉    | 82/138 [00:13<00:12,  4.45it/s]"
     ]
    },
    {
     "name": "stderr",
     "output_type": "stream",
     "text": [
      "\r",
      " 61%|██████    | 84/138 [00:13<00:10,  5.25it/s]"
     ]
    },
    {
     "name": "stderr",
     "output_type": "stream",
     "text": [
      "\r",
      " 63%|██████▎   | 87/138 [00:13<00:06,  7.60it/s]"
     ]
    },
    {
     "name": "stderr",
     "output_type": "stream",
     "text": [
      "\r",
      " 64%|██████▍   | 89/138 [00:14<00:08,  5.77it/s]"
     ]
    },
    {
     "name": "stderr",
     "output_type": "stream",
     "text": [
      "\r",
      " 67%|██████▋   | 92/138 [00:14<00:05,  8.18it/s]"
     ]
    },
    {
     "name": "stderr",
     "output_type": "stream",
     "text": [
      "\r",
      " 68%|██████▊   | 94/138 [00:14<00:04,  8.98it/s]"
     ]
    },
    {
     "name": "stderr",
     "output_type": "stream",
     "text": [
      "\r",
      " 70%|██████▉   | 96/138 [00:14<00:04, 10.04it/s]"
     ]
    },
    {
     "name": "stderr",
     "output_type": "stream",
     "text": [
      "\r",
      " 72%|███████▏  | 99/138 [00:15<00:03, 10.27it/s]"
     ]
    },
    {
     "name": "stderr",
     "output_type": "stream",
     "text": [
      "\r",
      " 73%|███████▎  | 101/138 [00:15<00:05,  6.65it/s]"
     ]
    },
    {
     "name": "stderr",
     "output_type": "stream",
     "text": [
      "\r",
      " 75%|███████▍  | 103/138 [00:15<00:04,  7.02it/s]"
     ]
    },
    {
     "name": "stderr",
     "output_type": "stream",
     "text": [
      "\r",
      " 77%|███████▋  | 106/138 [00:16<00:03,  9.21it/s]"
     ]
    },
    {
     "name": "stderr",
     "output_type": "stream",
     "text": [
      "\r",
      " 78%|███████▊  | 108/138 [00:16<00:04,  6.75it/s]"
     ]
    },
    {
     "name": "stderr",
     "output_type": "stream",
     "text": [
      "\r",
      " 80%|███████▉  | 110/138 [00:16<00:03,  7.62it/s]"
     ]
    },
    {
     "name": "stderr",
     "output_type": "stream",
     "text": [
      "\r",
      " 83%|████████▎ | 114/138 [00:17<00:02, 10.45it/s]"
     ]
    },
    {
     "name": "stderr",
     "output_type": "stream",
     "text": [
      "\r",
      " 84%|████████▍ | 116/138 [00:17<00:02,  8.08it/s]"
     ]
    },
    {
     "name": "stderr",
     "output_type": "stream",
     "text": [
      "\r",
      " 86%|████████▌ | 119/138 [00:17<00:01,  9.52it/s]"
     ]
    },
    {
     "name": "stderr",
     "output_type": "stream",
     "text": [
      "\r",
      " 88%|████████▊ | 121/138 [00:18<00:02,  7.28it/s]"
     ]
    },
    {
     "name": "stderr",
     "output_type": "stream",
     "text": [
      "\r",
      " 90%|████████▉ | 124/138 [00:18<00:01,  8.26it/s]"
     ]
    },
    {
     "name": "stderr",
     "output_type": "stream",
     "text": [
      "\r",
      " 91%|█████████▏| 126/138 [00:18<00:01,  7.72it/s]"
     ]
    },
    {
     "name": "stderr",
     "output_type": "stream",
     "text": [
      "\r",
      " 92%|█████████▏| 127/138 [00:18<00:01,  7.38it/s]"
     ]
    },
    {
     "name": "stderr",
     "output_type": "stream",
     "text": [
      "\r",
      " 93%|█████████▎| 129/138 [00:19<00:01,  4.94it/s]"
     ]
    },
    {
     "name": "stderr",
     "output_type": "stream",
     "text": [
      "\r",
      " 94%|█████████▍| 130/138 [00:19<00:01,  4.61it/s]"
     ]
    },
    {
     "name": "stderr",
     "output_type": "stream",
     "text": [
      "\r",
      " 95%|█████████▍| 131/138 [00:20<00:01,  5.03it/s]"
     ]
    },
    {
     "name": "stderr",
     "output_type": "stream",
     "text": [
      "\r",
      " 97%|█████████▋| 134/138 [00:20<00:00,  7.41it/s]"
     ]
    },
    {
     "name": "stderr",
     "output_type": "stream",
     "text": [
      "\r",
      " 99%|█████████▊| 136/138 [00:20<00:00,  6.46it/s]"
     ]
    },
    {
     "name": "stderr",
     "output_type": "stream",
     "text": [
      "\r",
      " 99%|█████████▉| 137/138 [00:21<00:00,  4.36it/s]"
     ]
    },
    {
     "name": "stderr",
     "output_type": "stream",
     "text": [
      "\r",
      "100%|██████████| 138/138 [00:21<00:00,  2.95it/s]"
     ]
    },
    {
     "name": "stderr",
     "output_type": "stream",
     "text": [
      "\r",
      "100%|██████████| 138/138 [00:21<00:00,  6.29it/s]"
     ]
    },
    {
     "name": "stdout",
     "output_type": "stream",
     "text": [
      "\n",
      "rate limit: 7 \n",
      "Leeftijdsgroep API calls: create: 0, read: 1, update: 138, delete: 0, backoff: 2\n",
      "errors:\n",
      "  503: Service Unavailable: 1\n"
     ]
    },
    {
     "name": "stdout",
     "output_type": "stream",
     "text": [
      "[{'Key': 1, 'Timestamp Leeftijdsgroep RIVM': '2021-07-13 14:15'}]\n"
     ]
    },
    {
     "name": "stderr",
     "output_type": "stream",
     "text": [
      "\n"
     ]
    },
    {
     "name": "stdout",
     "output_type": "stream",
     "text": [
      "timestamps: [{'Key': 1, 'Timestamp Leeftijdsgroep RIVM': '2021-07-13 14:15'}]\n",
      "Key                               int64\n",
      "Timestamp Leeftijdsgroep RIVM    object\n",
      "dtype: object\n"
     ]
    },
    {
     "name": "stderr",
     "output_type": "stream",
     "text": [
      "\r",
      "  0%|          | 0/1 [00:00<?, ?it/s]"
     ]
    },
    {
     "name": "stderr",
     "output_type": "stream",
     "text": [
      "\r",
      "100%|██████████| 1/1 [00:00<00:00,  1.27it/s]"
     ]
    },
    {
     "name": "stderr",
     "output_type": "stream",
     "text": [
      "\r",
      "100%|██████████| 1/1 [00:00<00:00,  1.27it/s]"
     ]
    },
    {
     "name": "stdout",
     "output_type": "stream",
     "text": [
      "\n",
      "rate limit: 7 \n",
      "LaatsteUpdate API calls: create: 0, read: 0, update: 1, delete: 0, backoff: 0\n"
     ]
    },
    {
     "name": "stderr",
     "output_type": "stream",
     "text": [
      "\n"
     ]
    },
    {
     "name": "stdout",
     "output_type": "stream",
     "text": [
      "BatchName     object\n",
      "ObjectName    object\n",
      "Source        object\n",
      "Timestamp     object\n",
      "dtype: object\n"
     ]
    },
    {
     "name": "stderr",
     "output_type": "stream",
     "text": [
      "\r",
      "  0%|          | 0/1 [00:00<?, ?it/s]"
     ]
    },
    {
     "name": "stderr",
     "output_type": "stream",
     "text": [
      "\r",
      "100%|██████████| 1/1 [00:01<00:00,  1.14s/it]"
     ]
    },
    {
     "name": "stderr",
     "output_type": "stream",
     "text": [
      "\r",
      "100%|██████████| 1/1 [00:01<00:00,  1.14s/it]"
     ]
    },
    {
     "name": "stdout",
     "output_type": "stream",
     "text": [
      "\n",
      "rate limit: 7 \n",
      "UpdateDetails API calls: create: 1, read: 0, update: 0, delete: 0, backoff: 0\n"
     ]
    },
    {
     "name": "stderr",
     "output_type": "stream",
     "text": [
      "\n"
     ]
    },
    {
     "name": "stdout",
     "output_type": "stream",
     "text": [
      "updating: [{'Key': 1, 'Updating Leeftijdsgroep': 'false'}]\n",
      "Key                         int64\n",
      "Updating Leeftijdsgroep    object\n",
      "dtype: object\n"
     ]
    },
    {
     "name": "stderr",
     "output_type": "stream",
     "text": [
      "\r",
      "  0%|          | 0/1 [00:00<?, ?it/s]"
     ]
    },
    {
     "name": "stderr",
     "output_type": "stream",
     "text": [
      "\r",
      "100%|██████████| 1/1 [00:01<00:00,  1.57s/it]"
     ]
    },
    {
     "name": "stderr",
     "output_type": "stream",
     "text": [
      "\r",
      "100%|██████████| 1/1 [00:01<00:00,  1.57s/it]"
     ]
    },
    {
     "name": "stdout",
     "output_type": "stream",
     "text": [
      "\n",
      "rate limit: 7 \n",
      "LaatsteUpdate API calls: create: 0, read: 0, update: 1, delete: 0, backoff: 0\n"
     ]
    },
    {
     "name": "stderr",
     "output_type": "stream",
     "text": [
      "\n"
     ]
    }
   ],
   "source": [
    "if knack:\n",
    "  await knack.publish(tabel.fillna(0).assign(Datum=tabel.Datum.dt.strftime('%Y-%m-%d')), 'Leeftijdsgroep', Cache)"
   ]
  }
 ],
 "metadata": {
  "jupytext": {
   "cell_metadata_filter": "title,-all"
  },
  "kernelspec": {
   "display_name": "Python 3 (ipykernel)",
   "language": "python",
   "name": "python3"
  },
  "language_info": {
   "codemirror_mode": {
    "name": "ipython",
    "version": 3
   },
   "file_extension": ".py",
   "mimetype": "text/x-python",
   "name": "python",
   "nbconvert_exporter": "python",
   "pygments_lexer": "ipython3",
   "version": "3.9.5"
  },
  "papermill": {
   "default_parameters": {},
   "duration": 251.288083,
   "end_time": "2021-07-13T13:34:18.883046",
   "environment_variables": {},
   "exception": null,
   "input_path": "-",
   "output_path": "LeeftijdsgroepenLandelijk.ipynb",
   "parameters": {},
   "start_time": "2021-07-13T13:30:07.594963",
   "version": "2.3.3"
  }
 },
 "nbformat": 4,
 "nbformat_minor": 5
}