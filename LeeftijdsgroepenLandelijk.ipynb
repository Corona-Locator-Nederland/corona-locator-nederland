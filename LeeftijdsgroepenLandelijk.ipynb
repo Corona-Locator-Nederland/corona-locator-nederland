{
 "cells": [
  {
   "cell_type": "code",
   "execution_count": 1,
   "id": "9e55d3af",
   "metadata": {
    "execution": {
     "iopub.execute_input": "2022-09-09T16:43:26.337826Z",
     "iopub.status.busy": "2022-09-09T16:43:26.337267Z",
     "iopub.status.idle": "2022-09-09T16:43:28.303870Z",
     "shell.execute_reply": "2022-09-09T16:43:28.303099Z"
    },
    "lines_to_next_cell": 1,
    "papermill": {
     "duration": 1.9747,
     "end_time": "2022-09-09T16:43:28.306433",
     "exception": false,
     "start_time": "2022-09-09T16:43:26.331733",
     "status": "completed"
    },
    "tags": []
   },
   "outputs": [
    {
     "name": "stderr",
     "output_type": "stream",
     "text": [
      "/tmp/ipykernel_1957/2820714271.py:2: DeprecationWarning: Importing display from IPython.core.display is deprecated since IPython 7.14, please import from IPython display\n",
      "  from IPython.core.display import display\n"
     ]
    }
   ],
   "source": [
    "from IPython import get_ipython\n",
    "from IPython.core.display import display\n",
    "get_ipython().run_line_magic('load_ext', 'autoreload')\n",
    "get_ipython().run_line_magic('autoreload', '2')\n",
    "get_ipython().run_line_magic('run', 'setup')"
   ]
  },
  {
   "cell_type": "code",
   "execution_count": 2,
   "id": "81c62317",
   "metadata": {
    "execution": {
     "iopub.execute_input": "2022-09-09T16:43:28.311821Z",
     "iopub.status.busy": "2022-09-09T16:43:28.311236Z",
     "iopub.status.idle": "2022-09-09T16:43:37.769810Z",
     "shell.execute_reply": "2022-09-09T16:43:37.769037Z"
    },
    "lines_to_next_cell": 1,
    "papermill": {
     "duration": 9.463337,
     "end_time": "2022-09-09T16:43:37.771708",
     "exception": false,
     "start_time": "2022-09-09T16:43:28.308371",
     "status": "completed"
    },
    "tags": [],
    "title": "Leeftijdsgroepen: download RIVM casus-data"
   },
   "outputs": [
    {
     "name": "stdout",
     "output_type": "stream",
     "text": [
      "rivm/COVID-19_casus_landelijk-2022-09-09@13-15.csv exists\n"
     ]
    },
    {
     "name": "stdout",
     "output_type": "stream",
     "text": [
      "loading rivm/COVID-19_casus_landelijk-2022-09-09@13-15.csv.gz\n"
     ]
    },
    {
     "data": {
      "text/html": [
       "<div>\n",
       "<style scoped>\n",
       "    .dataframe tbody tr th:only-of-type {\n",
       "        vertical-align: middle;\n",
       "    }\n",
       "\n",
       "    .dataframe tbody tr th {\n",
       "        vertical-align: top;\n",
       "    }\n",
       "\n",
       "    .dataframe thead th {\n",
       "        text-align: right;\n",
       "    }\n",
       "</style>\n",
       "<table border=\"1\" class=\"dataframe\">\n",
       "  <thead>\n",
       "    <tr style=\"text-align: right;\">\n",
       "      <th></th>\n",
       "      <th>Version</th>\n",
       "      <th>Date_file</th>\n",
       "      <th>Date_statistics</th>\n",
       "      <th>Date_statistics_type</th>\n",
       "      <th>Agegroup</th>\n",
       "      <th>Sex</th>\n",
       "      <th>Province</th>\n",
       "      <th>Deceased</th>\n",
       "      <th>Week_of_death</th>\n",
       "      <th>Municipal_health_service</th>\n",
       "    </tr>\n",
       "  </thead>\n",
       "  <tbody>\n",
       "    <tr>\n",
       "      <th>0</th>\n",
       "      <td>6</td>\n",
       "      <td>2022-09-09 10:00:00</td>\n",
       "      <td>2021-10-04</td>\n",
       "      <td>DPL</td>\n",
       "      <td>50-59</td>\n",
       "      <td>Male</td>\n",
       "      <td>Zuid-Holland</td>\n",
       "      <td>No</td>\n",
       "      <td>NaN</td>\n",
       "      <td>GGD Haaglanden</td>\n",
       "    </tr>\n",
       "    <tr>\n",
       "      <th>1</th>\n",
       "      <td>6</td>\n",
       "      <td>2022-09-09 10:00:00</td>\n",
       "      <td>2021-10-04</td>\n",
       "      <td>DPL</td>\n",
       "      <td>10-19</td>\n",
       "      <td>Male</td>\n",
       "      <td>Zuid-Holland</td>\n",
       "      <td>No</td>\n",
       "      <td>NaN</td>\n",
       "      <td>GGD Haaglanden</td>\n",
       "    </tr>\n",
       "    <tr>\n",
       "      <th>2</th>\n",
       "      <td>6</td>\n",
       "      <td>2022-09-09 10:00:00</td>\n",
       "      <td>2021-10-04</td>\n",
       "      <td>DPL</td>\n",
       "      <td>20-29</td>\n",
       "      <td>Male</td>\n",
       "      <td>Groningen</td>\n",
       "      <td>No</td>\n",
       "      <td>NaN</td>\n",
       "      <td>GGD Groningen</td>\n",
       "    </tr>\n",
       "    <tr>\n",
       "      <th>3</th>\n",
       "      <td>6</td>\n",
       "      <td>2022-09-09 10:00:00</td>\n",
       "      <td>2021-10-04</td>\n",
       "      <td>DOO</td>\n",
       "      <td>0-9</td>\n",
       "      <td>Male</td>\n",
       "      <td>Noord-Brabant</td>\n",
       "      <td>No</td>\n",
       "      <td>NaN</td>\n",
       "      <td>GGD Hart voor Brabant</td>\n",
       "    </tr>\n",
       "    <tr>\n",
       "      <th>4</th>\n",
       "      <td>6</td>\n",
       "      <td>2022-09-09 10:00:00</td>\n",
       "      <td>2021-10-04</td>\n",
       "      <td>DOO</td>\n",
       "      <td>30-39</td>\n",
       "      <td>Female</td>\n",
       "      <td>Zuid-Holland</td>\n",
       "      <td>No</td>\n",
       "      <td>NaN</td>\n",
       "      <td>GGD Hollands-Midden</td>\n",
       "    </tr>\n",
       "  </tbody>\n",
       "</table>\n",
       "</div>"
      ],
      "text/plain": [
       "   Version            Date_file Date_statistics Date_statistics_type Agegroup  \\\n",
       "0        6  2022-09-09 10:00:00      2021-10-04                  DPL    50-59   \n",
       "1        6  2022-09-09 10:00:00      2021-10-04                  DPL    10-19   \n",
       "2        6  2022-09-09 10:00:00      2021-10-04                  DPL    20-29   \n",
       "3        6  2022-09-09 10:00:00      2021-10-04                  DOO      0-9   \n",
       "4        6  2022-09-09 10:00:00      2021-10-04                  DOO    30-39   \n",
       "\n",
       "      Sex       Province Deceased  Week_of_death Municipal_health_service  \n",
       "0    Male   Zuid-Holland       No            NaN           GGD Haaglanden  \n",
       "1    Male   Zuid-Holland       No            NaN           GGD Haaglanden  \n",
       "2    Male      Groningen       No            NaN            GGD Groningen  \n",
       "3    Male  Noord-Brabant       No            NaN    GGD Hart voor Brabant  \n",
       "4  Female   Zuid-Holland       No            NaN      GGD Hollands-Midden  "
      ]
     },
     "metadata": {},
     "output_type": "display_data"
    }
   ],
   "source": [
    "# Leeftijdsgroepen: download RIVM casus-data\n",
    "@run\n",
    "def cell():\n",
    "  global rivm\n",
    "  rivm = RIVM.csv('COVID-19_casus_landelijk')\n",
    "  display(rivm.head())"
   ]
  },
  {
   "cell_type": "code",
   "execution_count": 3,
   "id": "e49eb2b8",
   "metadata": {
    "execution": {
     "iopub.execute_input": "2022-09-09T16:43:37.777161Z",
     "iopub.status.busy": "2022-09-09T16:43:37.776633Z",
     "iopub.status.idle": "2022-09-09T16:43:40.460727Z",
     "shell.execute_reply": "2022-09-09T16:43:40.460035Z"
    },
    "lines_to_next_cell": 1,
    "papermill": {
     "duration": 2.688571,
     "end_time": "2022-09-09T16:43:40.462323",
     "exception": false,
     "start_time": "2022-09-09T16:43:37.773752",
     "status": "completed"
    },
    "tags": [],
    "title": "Leeftijdsgroepen: download CBS bevolkingscijfers, uitgesplitst op de leeftijdscategorien zoals bij RIVM"
   },
   "outputs": [
    {
     "name": "stderr",
     "output_type": "stream",
     "text": [
      "/home/runner/work/corona-locator-nederland/corona-locator-nederland/setup.py:146: FutureWarning: The frame.append method is deprecated and will be removed from pandas in a future version. Use pandas.concat instead.\n",
      "  data = data.append(pd.DataFrame(r['value']))\n"
     ]
    },
    {
     "name": "stderr",
     "output_type": "stream",
     "text": [
      "/home/runner/work/corona-locator-nederland/corona-locator-nederland/setup.py:146: FutureWarning: The frame.append method is deprecated and will be removed from pandas in a future version. Use pandas.concat instead.\n",
      "  data = data.append(pd.DataFrame(r['value']))\n"
     ]
    },
    {
     "name": "stderr",
     "output_type": "stream",
     "text": [
      "/home/runner/work/corona-locator-nederland/corona-locator-nederland/setup.py:146: FutureWarning: The frame.append method is deprecated and will be removed from pandas in a future version. Use pandas.concat instead.\n",
      "  data = data.append(pd.DataFrame(r['value']))\n"
     ]
    },
    {
     "name": "stderr",
     "output_type": "stream",
     "text": [
      "/home/runner/work/corona-locator-nederland/corona-locator-nederland/setup.py:146: FutureWarning: The frame.append method is deprecated and will be removed from pandas in a future version. Use pandas.concat instead.\n",
      "  data = data.append(pd.DataFrame(r['value']))\n"
     ]
    },
    {
     "name": "stderr",
     "output_type": "stream",
     "text": [
      "/home/runner/work/corona-locator-nederland/corona-locator-nederland/setup.py:146: FutureWarning: The frame.append method is deprecated and will be removed from pandas in a future version. Use pandas.concat instead.\n",
      "  data = data.append(pd.DataFrame(r['value']))\n"
     ]
    },
    {
     "name": "stderr",
     "output_type": "stream",
     "text": [
      "/home/runner/work/corona-locator-nederland/corona-locator-nederland/setup.py:146: FutureWarning: The frame.append method is deprecated and will be removed from pandas in a future version. Use pandas.concat instead.\n",
      "  data = data.append(pd.DataFrame(r['value']))\n"
     ]
    },
    {
     "name": "stderr",
     "output_type": "stream",
     "text": [
      "/home/runner/work/corona-locator-nederland/corona-locator-nederland/setup.py:146: FutureWarning: The frame.append method is deprecated and will be removed from pandas in a future version. Use pandas.concat instead.\n",
      "  data = data.append(pd.DataFrame(r['value']))\n"
     ]
    },
    {
     "data": {
      "text/html": [
       "<div>\n",
       "<style scoped>\n",
       "    .dataframe tbody tr th:only-of-type {\n",
       "        vertical-align: middle;\n",
       "    }\n",
       "\n",
       "    .dataframe tbody tr th {\n",
       "        vertical-align: top;\n",
       "    }\n",
       "\n",
       "    .dataframe thead th {\n",
       "        text-align: right;\n",
       "    }\n",
       "</style>\n",
       "<table border=\"1\" class=\"dataframe\">\n",
       "  <thead>\n",
       "    <tr style=\"text-align: right;\">\n",
       "      <th></th>\n",
       "      <th>BevolkingOpDeEersteVanDeMaand</th>\n",
       "      <th>per 100k</th>\n",
       "    </tr>\n",
       "    <tr>\n",
       "      <th>Range</th>\n",
       "      <th></th>\n",
       "      <th></th>\n",
       "    </tr>\n",
       "  </thead>\n",
       "  <tbody>\n",
       "    <tr>\n",
       "      <th>0-9</th>\n",
       "      <td>1766712</td>\n",
       "      <td>0.056602</td>\n",
       "    </tr>\n",
       "    <tr>\n",
       "      <th>10-19</th>\n",
       "      <td>1977063</td>\n",
       "      <td>0.050580</td>\n",
       "    </tr>\n",
       "    <tr>\n",
       "      <th>20-29</th>\n",
       "      <td>2289091</td>\n",
       "      <td>0.043685</td>\n",
       "    </tr>\n",
       "    <tr>\n",
       "      <th>30-39</th>\n",
       "      <td>2264891</td>\n",
       "      <td>0.044152</td>\n",
       "    </tr>\n",
       "    <tr>\n",
       "      <th>40-49</th>\n",
       "      <td>2125245</td>\n",
       "      <td>0.047053</td>\n",
       "    </tr>\n",
       "  </tbody>\n",
       "</table>\n",
       "</div>"
      ],
      "text/plain": [
       "       BevolkingOpDeEersteVanDeMaand  per 100k\n",
       "Range                                         \n",
       "0-9                          1766712  0.056602\n",
       "10-19                        1977063  0.050580\n",
       "20-29                        2289091  0.043685\n",
       "30-39                        2264891  0.044152\n",
       "40-49                        2125245  0.047053"
      ]
     },
     "metadata": {},
     "output_type": "display_data"
    }
   ],
   "source": [
    "# Leeftijdsgroepen: download CBS bevolkingscijfers, uitgesplitst op de leeftijdscategorien zoals bij RIVM\n",
    "@run\n",
    "def cell():\n",
    "  global bevolking\n",
    "  # probeer de laatste leeftijdsgroepen op te halen bij het CBS, ververs de fallback-file \n",
    "  try:\n",
    "    bevolking = CBS.bevolking(leeftijdsgroepen=True)\n",
    "    bevolking.to_csv(\"cbs/leeftijdsgroepen_cbs.csv\")\n",
    "  # als het niet is gelukt de CBS file op te halen, gebruik de fallback-file en pas de index klom aan\n",
    "  except Exception as e:\n",
    "    print(e)\n",
    "    bevolking = pd.read_csv(\"cbs/leeftijdsgroepen_cbs.csv\")\n",
    "    bevolking.set_index('Range', inplace=True)\n",
    "  display(bevolking.head())"
   ]
  },
  {
   "cell_type": "code",
   "execution_count": 4,
   "id": "21a69066",
   "metadata": {
    "execution": {
     "iopub.execute_input": "2022-09-09T16:43:40.468862Z",
     "iopub.status.busy": "2022-09-09T16:43:40.468584Z",
     "iopub.status.idle": "2022-09-09T16:44:03.671567Z",
     "shell.execute_reply": "2022-09-09T16:44:03.670797Z"
    },
    "lines_to_next_cell": 1,
    "papermill": {
     "duration": 23.208616,
     "end_time": "2022-09-09T16:44:03.673486",
     "exception": false,
     "start_time": "2022-09-09T16:43:40.464870",
     "status": "completed"
    },
    "tags": [],
    "title": "Leeftijdsgroepen: bereken per cohort besmettingen / opnamen / sterfte (incl. kleurcode), in aantal en per 100k. Vervang <50 en Unknown door Onbekend"
   },
   "outputs": [
    {
     "data": {
      "text/html": [
       "<div>\n",
       "<style scoped>\n",
       "    .dataframe tbody tr th:only-of-type {\n",
       "        vertical-align: middle;\n",
       "    }\n",
       "\n",
       "    .dataframe tbody tr th {\n",
       "        vertical-align: top;\n",
       "    }\n",
       "\n",
       "    .dataframe thead th {\n",
       "        text-align: right;\n",
       "    }\n",
       "</style>\n",
       "<table border=\"1\" class=\"dataframe\">\n",
       "  <thead>\n",
       "    <tr style=\"text-align: right;\">\n",
       "      <th></th>\n",
       "      <th>Date_file</th>\n",
       "      <th>Date_statistics</th>\n",
       "      <th>Date_statistics_type</th>\n",
       "      <th>Agegroup</th>\n",
       "      <th>Sex</th>\n",
       "      <th>Province</th>\n",
       "      <th>Deceased</th>\n",
       "      <th>Week_of_death</th>\n",
       "      <th>Municipal_health_service</th>\n",
       "    </tr>\n",
       "  </thead>\n",
       "  <tbody>\n",
       "    <tr>\n",
       "      <th>0</th>\n",
       "      <td>2022-09-09 10:00:00</td>\n",
       "      <td>2021-10-04</td>\n",
       "      <td>DPL</td>\n",
       "      <td>50-59</td>\n",
       "      <td>Male</td>\n",
       "      <td>Zuid-Holland</td>\n",
       "      <td>No</td>\n",
       "      <td>NaN</td>\n",
       "      <td>GGD Haaglanden</td>\n",
       "    </tr>\n",
       "    <tr>\n",
       "      <th>1</th>\n",
       "      <td>2022-09-09 10:00:00</td>\n",
       "      <td>2021-10-04</td>\n",
       "      <td>DPL</td>\n",
       "      <td>10-19</td>\n",
       "      <td>Male</td>\n",
       "      <td>Zuid-Holland</td>\n",
       "      <td>No</td>\n",
       "      <td>NaN</td>\n",
       "      <td>GGD Haaglanden</td>\n",
       "    </tr>\n",
       "    <tr>\n",
       "      <th>2</th>\n",
       "      <td>2022-09-09 10:00:00</td>\n",
       "      <td>2021-10-04</td>\n",
       "      <td>DPL</td>\n",
       "      <td>20-29</td>\n",
       "      <td>Male</td>\n",
       "      <td>Groningen</td>\n",
       "      <td>No</td>\n",
       "      <td>NaN</td>\n",
       "      <td>GGD Groningen</td>\n",
       "    </tr>\n",
       "    <tr>\n",
       "      <th>3</th>\n",
       "      <td>2022-09-09 10:00:00</td>\n",
       "      <td>2021-10-04</td>\n",
       "      <td>DOO</td>\n",
       "      <td>0-9</td>\n",
       "      <td>Male</td>\n",
       "      <td>Noord-Brabant</td>\n",
       "      <td>No</td>\n",
       "      <td>NaN</td>\n",
       "      <td>GGD Hart voor Brabant</td>\n",
       "    </tr>\n",
       "    <tr>\n",
       "      <th>4</th>\n",
       "      <td>2022-09-09 10:00:00</td>\n",
       "      <td>2021-10-04</td>\n",
       "      <td>DOO</td>\n",
       "      <td>30-39</td>\n",
       "      <td>Female</td>\n",
       "      <td>Zuid-Holland</td>\n",
       "      <td>No</td>\n",
       "      <td>NaN</td>\n",
       "      <td>GGD Hollands-Midden</td>\n",
       "    </tr>\n",
       "  </tbody>\n",
       "</table>\n",
       "</div>"
      ],
      "text/plain": [
       "             Date_file Date_statistics Date_statistics_type Agegroup     Sex  \\\n",
       "0  2022-09-09 10:00:00      2021-10-04                  DPL    50-59    Male   \n",
       "1  2022-09-09 10:00:00      2021-10-04                  DPL    10-19    Male   \n",
       "2  2022-09-09 10:00:00      2021-10-04                  DPL    20-29    Male   \n",
       "3  2022-09-09 10:00:00      2021-10-04                  DOO      0-9    Male   \n",
       "4  2022-09-09 10:00:00      2021-10-04                  DOO    30-39  Female   \n",
       "\n",
       "        Province Deceased  Week_of_death Municipal_health_service  \n",
       "0   Zuid-Holland       No            NaN           GGD Haaglanden  \n",
       "1   Zuid-Holland       No            NaN           GGD Haaglanden  \n",
       "2      Groningen       No            NaN            GGD Groningen  \n",
       "3  Noord-Brabant       No            NaN    GGD Hart voor Brabant  \n",
       "4   Zuid-Holland       No            NaN      GGD Hollands-Midden  "
      ]
     },
     "metadata": {},
     "output_type": "display_data"
    },
    {
     "data": {
      "text/html": [
       "<div>\n",
       "<style scoped>\n",
       "    .dataframe tbody tr th:only-of-type {\n",
       "        vertical-align: middle;\n",
       "    }\n",
       "\n",
       "    .dataframe tbody tr th {\n",
       "        vertical-align: top;\n",
       "    }\n",
       "\n",
       "    .dataframe thead th {\n",
       "        text-align: right;\n",
       "    }\n",
       "</style>\n",
       "<table border=\"1\" class=\"dataframe\">\n",
       "  <thead>\n",
       "    <tr style=\"text-align: right;\">\n",
       "      <th></th>\n",
       "      <th>Key</th>\n",
       "      <th>Weken terug</th>\n",
       "      <th>Datum</th>\n",
       "      <th>Periode</th>\n",
       "      <th>Gemiddelde leeftijd</th>\n",
       "      <th>Totaal</th>\n",
       "      <th>Type</th>\n",
       "      <th>0-9</th>\n",
       "      <th>10-19</th>\n",
       "      <th>20-29</th>\n",
       "      <th>...</th>\n",
       "      <th>c10-19</th>\n",
       "      <th>c20-29</th>\n",
       "      <th>c30-39</th>\n",
       "      <th>c40-49</th>\n",
       "      <th>c50-59</th>\n",
       "      <th>c60-69</th>\n",
       "      <th>c70-79</th>\n",
       "      <th>c80-89</th>\n",
       "      <th>c90+</th>\n",
       "      <th>cOnbekend</th>\n",
       "    </tr>\n",
       "  </thead>\n",
       "  <tbody>\n",
       "    <tr>\n",
       "      <th>0</th>\n",
       "      <td>p000</td>\n",
       "      <td>0</td>\n",
       "      <td>2022-09-09</td>\n",
       "      <td>03/09-09/09</td>\n",
       "      <td>47.907372</td>\n",
       "      <td>6769.0</td>\n",
       "      <td>Positief getest</td>\n",
       "      <td>169.0</td>\n",
       "      <td>433.0</td>\n",
       "      <td>822.0</td>\n",
       "      <td>...</td>\n",
       "      <td>364</td>\n",
       "      <td>691</td>\n",
       "      <td>1000</td>\n",
       "      <td>933</td>\n",
       "      <td>925</td>\n",
       "      <td>657</td>\n",
       "      <td>566</td>\n",
       "      <td>301</td>\n",
       "      <td>111</td>\n",
       "      <td>0</td>\n",
       "    </tr>\n",
       "    <tr>\n",
       "      <th>1</th>\n",
       "      <td>p001</td>\n",
       "      <td>1</td>\n",
       "      <td>2022-09-09</td>\n",
       "      <td>27/08-02/09</td>\n",
       "      <td>47.393098</td>\n",
       "      <td>6665.0</td>\n",
       "      <td>Positief getest</td>\n",
       "      <td>171.0</td>\n",
       "      <td>423.0</td>\n",
       "      <td>941.0</td>\n",
       "      <td>...</td>\n",
       "      <td>358</td>\n",
       "      <td>796</td>\n",
       "      <td>1000</td>\n",
       "      <td>871</td>\n",
       "      <td>872</td>\n",
       "      <td>607</td>\n",
       "      <td>562</td>\n",
       "      <td>327</td>\n",
       "      <td>102</td>\n",
       "      <td>0</td>\n",
       "    </tr>\n",
       "    <tr>\n",
       "      <th>2</th>\n",
       "      <td>p002</td>\n",
       "      <td>2</td>\n",
       "      <td>2022-09-09</td>\n",
       "      <td>20/08-26/08</td>\n",
       "      <td>47.397014</td>\n",
       "      <td>7502.0</td>\n",
       "      <td>Positief getest</td>\n",
       "      <td>169.0</td>\n",
       "      <td>432.0</td>\n",
       "      <td>1114.0</td>\n",
       "      <td>...</td>\n",
       "      <td>319</td>\n",
       "      <td>823</td>\n",
       "      <td>1000</td>\n",
       "      <td>833</td>\n",
       "      <td>871</td>\n",
       "      <td>649</td>\n",
       "      <td>507</td>\n",
       "      <td>331</td>\n",
       "      <td>82</td>\n",
       "      <td>0</td>\n",
       "    </tr>\n",
       "    <tr>\n",
       "      <th>3</th>\n",
       "      <td>p003</td>\n",
       "      <td>3</td>\n",
       "      <td>2022-09-09</td>\n",
       "      <td>13/08-19/08</td>\n",
       "      <td>48.796492</td>\n",
       "      <td>9464.0</td>\n",
       "      <td>Positief getest</td>\n",
       "      <td>223.0</td>\n",
       "      <td>496.0</td>\n",
       "      <td>1282.0</td>\n",
       "      <td>...</td>\n",
       "      <td>318</td>\n",
       "      <td>822</td>\n",
       "      <td>1000</td>\n",
       "      <td>905</td>\n",
       "      <td>991</td>\n",
       "      <td>776</td>\n",
       "      <td>628</td>\n",
       "      <td>376</td>\n",
       "      <td>107</td>\n",
       "      <td>0</td>\n",
       "    </tr>\n",
       "    <tr>\n",
       "      <th>4</th>\n",
       "      <td>p004</td>\n",
       "      <td>4</td>\n",
       "      <td>2022-09-09</td>\n",
       "      <td>06/08-12/08</td>\n",
       "      <td>49.115163</td>\n",
       "      <td>12315.0</td>\n",
       "      <td>Positief getest</td>\n",
       "      <td>226.0</td>\n",
       "      <td>611.0</td>\n",
       "      <td>1803.0</td>\n",
       "      <td>...</td>\n",
       "      <td>284</td>\n",
       "      <td>840</td>\n",
       "      <td>936</td>\n",
       "      <td>784</td>\n",
       "      <td>1000</td>\n",
       "      <td>714</td>\n",
       "      <td>587</td>\n",
       "      <td>369</td>\n",
       "      <td>117</td>\n",
       "      <td>0</td>\n",
       "    </tr>\n",
       "  </tbody>\n",
       "</table>\n",
       "<p>5 rows × 29 columns</p>\n",
       "</div>"
      ],
      "text/plain": [
       "    Key  Weken terug      Datum      Periode  Gemiddelde leeftijd   Totaal  \\\n",
       "0  p000            0 2022-09-09  03/09-09/09            47.907372   6769.0   \n",
       "1  p001            1 2022-09-09  27/08-02/09            47.393098   6665.0   \n",
       "2  p002            2 2022-09-09  20/08-26/08            47.397014   7502.0   \n",
       "3  p003            3 2022-09-09  13/08-19/08            48.796492   9464.0   \n",
       "4  p004            4 2022-09-09  06/08-12/08            49.115163  12315.0   \n",
       "\n",
       "              Type    0-9  10-19   20-29  ...  c10-19  c20-29  c30-39  c40-49  \\\n",
       "0  Positief getest  169.0  433.0   822.0  ...     364     691    1000     933   \n",
       "1  Positief getest  171.0  423.0   941.0  ...     358     796    1000     871   \n",
       "2  Positief getest  169.0  432.0  1114.0  ...     319     823    1000     833   \n",
       "3  Positief getest  223.0  496.0  1282.0  ...     318     822    1000     905   \n",
       "4  Positief getest  226.0  611.0  1803.0  ...     284     840     936     784   \n",
       "\n",
       "   c50-59  c60-69  c70-79  c80-89  c90+  cOnbekend  \n",
       "0     925     657     566     301   111          0  \n",
       "1     872     607     562     327   102          0  \n",
       "2     871     649     507     331    82          0  \n",
       "3     991     776     628     376   107          0  \n",
       "4    1000     714     587     369   117          0  \n",
       "\n",
       "[5 rows x 29 columns]"
      ]
     },
     "metadata": {},
     "output_type": "display_data"
    }
   ],
   "source": [
    "# Leeftijdsgroepen: bereken per cohort besmettingen / opnamen / sterfte (incl. kleurcode), in aantal en per 100k. Vervang <50 en Unknown door Onbekend\n",
    "@run\n",
    "def cell():\n",
    "  #  kolom is in version 2 per 18-1-22 toegevoegd, verwijderen:\n",
    "  rivm.drop('Version', inplace=True, axis=1)\n",
    "  display(rivm.head())\n",
    "  rivm['Cohort'] = rivm['Agegroup'].replace({'<50': 'Onbekend', 'Unknown': 'Onbekend'})\n",
    "  # aangenomen 'gemiddelde' leeftijd van een cohort: minimum waarde + 5\n",
    "  assumed_cohort_age = [(cohort, [int(n) for n in cohort.replace('+', '').split('-')]) for cohort in rivm['Cohort'].unique() if cohort[0].isdigit()]\n",
    "  assumed_cohort_age = { cohort: min(rng) + 5 for cohort, rng in assumed_cohort_age }\n",
    "  rivm['Gemiddelde leeftijd'] = rivm['Cohort'].apply(lambda x: assumed_cohort_age.get(x, np.nan))\n",
    "\n",
    "  # verwijder tijd\n",
    "  rivm['Date_file_date'] = pd.to_datetime(rivm['Date_file'].replace(r' .*', '', regex=True))\n",
    "\n",
    "  rivm['Date_statistics_date'] = pd.to_datetime(rivm['Date_statistics'])\n",
    "\n",
    "  # weken terug = verschil tussen Date_file en Date_statistcs, gedeeld door 7 dagen\n",
    "  rivm['Weken terug'] = np.floor((rivm['Date_file_date'] - rivm['Date_statistics_date'])/np.timedelta64(7, 'D')).astype(int)\n",
    "\n",
    "  # voeg key, gem leeftijd, kleurnummer en totaal toe\n",
    "  Date_file = rivm['Date_file_date'].unique()[0].astype('M8[D]').astype('O')\n",
    "  cohorten = list(bevolking.index) + ['Onbekend']\n",
    "\n",
    "  def summarize(df, category, prefix):\n",
    "    # aangezien we hier de dataframe in-place wijzigen (bijv door toevoegen kolommen)\n",
    "    # en we het 'rivm' frame later nog clean nodig hebben\n",
    "    df = df.copy(deep=True)\n",
    "\n",
    "    df = (df\n",
    "          .groupby(['Weken terug', 'Cohort'])['count']\n",
    "          .sum()\n",
    "          .unstack(fill_value=np.nan)\n",
    "          .reset_index()\n",
    "          .rename_axis(None, axis=1)\n",
    "        ).merge(df\n",
    "          # we voegen hier gemiddelde leeftijd toe, want die willen we op een ander\n",
    "          # niveau aggregeren voor 'df' overschreven word\n",
    "          .groupby(['Weken terug'])['Gemiddelde leeftijd']\n",
    "          .mean()\n",
    "          .to_frame(), on='Weken terug'\n",
    "        )\n",
    "\n",
    "    # altijd 52 rijen\n",
    "    df = pd.Series(np.arange(52), name='Weken terug').to_frame().merge(df, how='left', on='Weken terug')\n",
    "\n",
    "    # toevoegen missende cohorten\n",
    "    for col in cohorten:\n",
    "      if not col in df:\n",
    "        df[col] = np.nan\n",
    "\n",
    "    # sommeer per rij (axis=1) over de cohorten om een totaal te krijgen\n",
    "    df['Totaal'] = df[cohorten].sum(axis=1)\n",
    "\n",
    "    # voeg periode en datum toe\n",
    "    # periode afgeleid van weken-terug (= de index voor deze dataframe)\n",
    "    df['Datum'] = pd.to_datetime(Date_file)\n",
    "    df['Periode'] = (df\n",
    "      .index.to_series()\n",
    "      .apply(\n",
    "        lambda x: (\n",
    "          (Date_file + datetime.timedelta(weeks=-(x+1), days=1)).strftime('%d/%m')\n",
    "          + '-'\n",
    "          + (Date_file + datetime.timedelta(weeks=-x)).strftime('%d/%m')\n",
    "        )\n",
    "      )\n",
    "    )\n",
    "\n",
    "    # voeg 'Key' en 'Type' kolom toe. Variabele 'type' kan niet, is een language primitive.\n",
    "    df['Key'] = prefix + df.index.astype(str).str.rjust(3, fillchar='0')\n",
    "    df['Type'] = category\n",
    "\n",
    "    # voeg de kleur kolommen toe\n",
    "    for col in cohorten:\n",
    "      df['c' + col] = ((df[col] / df[[col for col in cohorten]].max(axis=1)) * 1000).fillna(0).astype(int)\n",
    "\n",
    "    # herschikken van de kolommen\n",
    "    colorder = ['Key', 'Weken terug', 'Datum', 'Periode', 'Gemiddelde leeftijd', 'Totaal', 'Type']\n",
    "    return df[colorder + [col for col in df if col not in colorder]]\n",
    "\n",
    "  factor = bevolking.to_dict()['per 100k']\n",
    "\n",
    "  global tabel\n",
    "  tabel = pd.concat(\n",
    "    # flatten the result list zodat pd.concat ze onder elkaar kan plakken\n",
    "    functools.reduce(lambda a, b: a + b, [\n",
    "      [summarize(df.assign(count=1), label, prefix), summarize(df.assign(count=df['Cohort'].apply(lambda x: factor.get(x, np.nan))), label + ' per 100.000', prefix + '100k')]\n",
    "      for df, label, prefix in [\n",
    "        (rivm, 'Positief getest', 'p'), # volledige count per cohort\n",
    "        (rivm[rivm.Deceased == 'Yes'], 'Overleden', 'd'), # count van cohort voor Deceased == 'Yes'\n",
    "      ]\n",
    "    ])\n",
    "  )\n",
    "\n",
    "  # bij /100k is het Totaal-veld geen optelsom maar wordt berekend obv de gehele bevolking\n",
    "  totale_bevolking_per_cohort = bevolking.to_dict()['BevolkingOpDeEersteVanDeMaand']\n",
    "  totale_bevolking = sum(totale_bevolking_per_cohort.values())\n",
    "  keys = [ key for key in tabel[\"Key\"]]\n",
    "  totals = [ x for x in tabel[\"Totaal\"]]\n",
    "  for k in range(0, len(keys)):\n",
    "    key = keys[k]\n",
    "    if '100k' in key:\n",
    "      abskey = key[0] + key[5:]\n",
    "      kk = keys.index(abskey)\n",
    "      if isinstance(totals[k], float):\n",
    "        correctedtotal = totals[kk] * (100_000 / totale_bevolking)\n",
    "        # print([k, totals[k], totals[kk], correctedtotal])\n",
    "        totals[k] = correctedtotal\n",
    "  tabel[\"Totaal\"] = totals\n",
    "\n",
    "  display(tabel.head())"
   ]
  },
  {
   "cell_type": "code",
   "execution_count": 5,
   "id": "7c79d32b",
   "metadata": {
    "execution": {
     "iopub.execute_input": "2022-09-09T16:44:03.681747Z",
     "iopub.status.busy": "2022-09-09T16:44:03.681079Z",
     "iopub.status.idle": "2022-09-09T16:44:11.719172Z",
     "shell.execute_reply": "2022-09-09T16:44:11.718338Z"
    },
    "papermill": {
     "duration": 8.044429,
     "end_time": "2022-09-09T16:44:11.721457",
     "exception": false,
     "start_time": "2022-09-09T16:44:03.677028",
     "status": "completed"
    },
    "tags": [],
    "title": "publish"
   },
   "outputs": [
    {
     "name": "stdout",
     "output_type": "stream",
     "text": [
      "infinities:\n"
     ]
    },
    {
     "name": "stdout",
     "output_type": "stream",
     "text": [
      "Empty DataFrame\n",
      "Columns: []\n",
      "Index: []\n"
     ]
    },
    {
     "name": "stdout",
     "output_type": "stream",
     "text": [
      "nan:\n"
     ]
    },
    {
     "name": "stdout",
     "output_type": "stream",
     "text": [
      "Empty DataFrame\n",
      "Columns: []\n",
      "Index: []\n"
     ]
    },
    {
     "name": "stdout",
     "output_type": "stream",
     "text": [
      "updating knack\n"
     ]
    },
    {
     "name": "stdout",
     "output_type": "stream",
     "text": [
      "updating: [{'Key': 1, 'Updating Leeftijdsgroep': 'true'}]\n"
     ]
    },
    {
     "name": "stdout",
     "output_type": "stream",
     "text": [
      "restored LaatsteUpdate from hash\n"
     ]
    },
    {
     "name": "stderr",
     "output_type": "stream",
     "text": [
      "\r",
      "  0%|          | 0/1 [00:00<?, ?it/s]"
     ]
    },
    {
     "name": "stderr",
     "output_type": "stream",
     "text": [
      "\r",
      "100%|██████████| 1/1 [00:01<00:00,  1.06s/it]"
     ]
    },
    {
     "name": "stderr",
     "output_type": "stream",
     "text": [
      "\r",
      "100%|██████████| 1/1 [00:01<00:00,  1.06s/it]"
     ]
    },
    {
     "name": "stdout",
     "output_type": "stream",
     "text": [
      "\n",
      "rate limit: 7 \n",
      "LaatsteUpdate API calls: create: 0, read: 1, update: 1, delete: 0, backoff: 0\n"
     ]
    },
    {
     "name": "stderr",
     "output_type": "stream",
     "text": [
      "\n"
     ]
    },
    {
     "name": "stdout",
     "output_type": "stream",
     "text": [
      "restored Leeftijdsgroep from hash\n"
     ]
    },
    {
     "name": "stdout",
     "output_type": "stream",
     "text": [
      "nothing to do for Leeftijdsgroep\n"
     ]
    },
    {
     "name": "stdout",
     "output_type": "stream",
     "text": [
      "\n",
      "rate limit: 7 \n",
      "Leeftijdsgroep API calls: create: 0, read: 1, update: 0, delete: 0, backoff: 0\n"
     ]
    },
    {
     "name": "stdout",
     "output_type": "stream",
     "text": [
      "[{'Key': 1, 'Timestamp Leeftijdsgroep RIVM': '2022-09-09 14:15'}]\n"
     ]
    },
    {
     "name": "stdout",
     "output_type": "stream",
     "text": [
      "timestamps: [{'Key': 1, 'Timestamp Leeftijdsgroep RIVM': '2022-09-09 14:15'}]\n"
     ]
    },
    {
     "name": "stderr",
     "output_type": "stream",
     "text": [
      "\r",
      "  0%|          | 0/1 [00:00<?, ?it/s]"
     ]
    },
    {
     "name": "stderr",
     "output_type": "stream",
     "text": [
      "\r",
      "100%|██████████| 1/1 [00:01<00:00,  1.47s/it]"
     ]
    },
    {
     "name": "stderr",
     "output_type": "stream",
     "text": [
      "\r",
      "100%|██████████| 1/1 [00:01<00:00,  1.48s/it]"
     ]
    },
    {
     "name": "stdout",
     "output_type": "stream",
     "text": [
      "\n",
      "rate limit: 7 \n",
      "LaatsteUpdate API calls: create: 0, read: 0, update: 1, delete: 0, backoff: 0\n"
     ]
    },
    {
     "name": "stderr",
     "output_type": "stream",
     "text": [
      "\n"
     ]
    },
    {
     "name": "stderr",
     "output_type": "stream",
     "text": [
      "\r",
      "  0%|          | 0/1 [00:00<?, ?it/s]"
     ]
    },
    {
     "name": "stderr",
     "output_type": "stream",
     "text": [
      "\r",
      "100%|██████████| 1/1 [00:00<00:00,  1.16it/s]"
     ]
    },
    {
     "name": "stderr",
     "output_type": "stream",
     "text": [
      "\r",
      "100%|██████████| 1/1 [00:00<00:00,  1.15it/s]"
     ]
    },
    {
     "name": "stdout",
     "output_type": "stream",
     "text": [
      "\n",
      "rate limit: 7 \n",
      "UpdateDetails API calls: create: 1, read: 0, update: 0, delete: 0, backoff: 0\n"
     ]
    },
    {
     "name": "stderr",
     "output_type": "stream",
     "text": [
      "\n"
     ]
    },
    {
     "name": "stdout",
     "output_type": "stream",
     "text": [
      "updating: [{'Key': 1, 'Updating Leeftijdsgroep': 'false'}]\n"
     ]
    },
    {
     "name": "stderr",
     "output_type": "stream",
     "text": [
      "\r",
      "  0%|          | 0/1 [00:00<?, ?it/s]"
     ]
    },
    {
     "name": "stderr",
     "output_type": "stream",
     "text": [
      "\r",
      "100%|██████████| 1/1 [00:01<00:00,  1.18s/it]"
     ]
    },
    {
     "name": "stderr",
     "output_type": "stream",
     "text": [
      "\r",
      "100%|██████████| 1/1 [00:01<00:00,  1.18s/it]"
     ]
    },
    {
     "name": "stdout",
     "output_type": "stream",
     "text": [
      "\n",
      "rate limit: 7 \n",
      "LaatsteUpdate API calls: create: 0, read: 0, update: 1, delete: 0, backoff: 0\n"
     ]
    },
    {
     "name": "stderr",
     "output_type": "stream",
     "text": [
      "\n"
     ]
    }
   ],
   "source": [
    "if knack:\n",
    "  await knack.publish(tabel.fillna(0).assign(Datum=tabel.Datum.dt.strftime('%Y-%m-%d')), 'Leeftijdsgroep', Cache)"
   ]
  }
 ],
 "metadata": {
  "jupytext": {
   "cell_metadata_filter": "title,-all"
  },
  "kernelspec": {
   "display_name": "Python 3 (ipykernel)",
   "language": "python",
   "name": "python3"
  },
  "language_info": {
   "codemirror_mode": {
    "name": "ipython",
    "version": 3
   },
   "file_extension": ".py",
   "mimetype": "text/x-python",
   "name": "python",
   "nbconvert_exporter": "python",
   "pygments_lexer": "ipython3",
   "version": "3.9.13"
  },
  "papermill": {
   "default_parameters": {},
   "duration": 47.273695,
   "end_time": "2022-09-09T16:44:12.244485",
   "environment_variables": {},
   "exception": null,
   "input_path": "-",
   "output_path": "LeeftijdsgroepenLandelijk.ipynb",
   "parameters": {},
   "start_time": "2022-09-09T16:43:24.970790",
   "version": "2.4.0"
  }
 },
 "nbformat": 4,
 "nbformat_minor": 5
}