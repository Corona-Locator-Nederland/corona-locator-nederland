{
 "cells": [
  {
   "cell_type": "code",
   "execution_count": 1,
   "id": "patient-incentive",
   "metadata": {
    "execution": {
     "iopub.execute_input": "2021-02-26T07:43:40.070987Z",
     "iopub.status.busy": "2021-02-26T07:43:40.070479Z",
     "iopub.status.idle": "2021-02-26T07:43:43.172492Z",
     "shell.execute_reply": "2021-02-26T07:43:43.171788Z"
    },
    "lines_to_next_cell": 1,
    "papermill": {
     "duration": 3.116706,
     "end_time": "2021-02-26T07:43:43.172649",
     "exception": false,
     "start_time": "2021-02-26T07:43:40.055943",
     "status": "completed"
    },
    "tags": []
   },
   "outputs": [],
   "source": [
    "from IPython import get_ipython\n",
    "from IPython.core.display import display\n",
    "get_ipython().run_line_magic('load_ext', 'autoreload')\n",
    "get_ipython().run_line_magic('autoreload', '2')\n",
    "get_ipython().run_line_magic('run', 'setup')"
   ]
  },
  {
   "cell_type": "code",
   "execution_count": 2,
   "id": "painful-representation",
   "metadata": {
    "execution": {
     "iopub.execute_input": "2021-02-26T07:43:43.184913Z",
     "iopub.status.busy": "2021-02-26T07:43:43.184368Z",
     "iopub.status.idle": "2021-02-26T07:43:45.737811Z",
     "shell.execute_reply": "2021-02-26T07:43:45.738260Z"
    },
    "lines_to_next_cell": 1,
    "papermill": {
     "duration": 2.561259,
     "end_time": "2021-02-26T07:43:45.738425",
     "exception": false,
     "start_time": "2021-02-26T07:43:43.177166",
     "status": "completed"
    },
    "tags": [],
    "title": "leeftijdsgroepen: download RIVM data"
   },
   "outputs": [
    {
     "name": "stdout",
     "output_type": "stream",
     "text": [
      "rivm/COVID-19_casus_landelijk-2021-02-25@14-15.csv exists\n",
      "loading rivm/COVID-19_casus_landelijk-2021-02-25@14-15.csv.gz\n"
     ]
    },
    {
     "data": {
      "text/html": [
       "<div>\n",
       "<style scoped>\n",
       "    .dataframe tbody tr th:only-of-type {\n",
       "        vertical-align: middle;\n",
       "    }\n",
       "\n",
       "    .dataframe tbody tr th {\n",
       "        vertical-align: top;\n",
       "    }\n",
       "\n",
       "    .dataframe thead th {\n",
       "        text-align: right;\n",
       "    }\n",
       "</style>\n",
       "<table border=\"1\" class=\"dataframe\">\n",
       "  <thead>\n",
       "    <tr style=\"text-align: right;\">\n",
       "      <th></th>\n",
       "      <th>Date_file</th>\n",
       "      <th>Date_statistics</th>\n",
       "      <th>Date_statistics_type</th>\n",
       "      <th>Agegroup</th>\n",
       "      <th>Sex</th>\n",
       "      <th>Province</th>\n",
       "      <th>Hospital_admission</th>\n",
       "      <th>Deceased</th>\n",
       "      <th>Week_of_death</th>\n",
       "      <th>Municipal_health_service</th>\n",
       "    </tr>\n",
       "  </thead>\n",
       "  <tbody>\n",
       "    <tr>\n",
       "      <th>0</th>\n",
       "      <td>2021-02-25 10:00:00</td>\n",
       "      <td>2020-01-01</td>\n",
       "      <td>DOO</td>\n",
       "      <td>40-49</td>\n",
       "      <td>Female</td>\n",
       "      <td>Noord-Holland</td>\n",
       "      <td>No</td>\n",
       "      <td>No</td>\n",
       "      <td>NaN</td>\n",
       "      <td>GGD Amsterdam</td>\n",
       "    </tr>\n",
       "    <tr>\n",
       "      <th>1</th>\n",
       "      <td>2021-02-25 10:00:00</td>\n",
       "      <td>2020-01-01</td>\n",
       "      <td>DOO</td>\n",
       "      <td>50-59</td>\n",
       "      <td>Male</td>\n",
       "      <td>Gelderland</td>\n",
       "      <td>No</td>\n",
       "      <td>No</td>\n",
       "      <td>NaN</td>\n",
       "      <td>Veiligheids- en Gezondheidsregio Gelderland-Mi...</td>\n",
       "    </tr>\n",
       "    <tr>\n",
       "      <th>2</th>\n",
       "      <td>2021-02-25 10:00:00</td>\n",
       "      <td>2020-01-01</td>\n",
       "      <td>DOO</td>\n",
       "      <td>20-29</td>\n",
       "      <td>Female</td>\n",
       "      <td>Zuid-Holland</td>\n",
       "      <td>No</td>\n",
       "      <td>No</td>\n",
       "      <td>NaN</td>\n",
       "      <td>GGD Hollands-Midden</td>\n",
       "    </tr>\n",
       "    <tr>\n",
       "      <th>3</th>\n",
       "      <td>2021-02-25 10:00:00</td>\n",
       "      <td>2020-01-01</td>\n",
       "      <td>DOO</td>\n",
       "      <td>60-69</td>\n",
       "      <td>Female</td>\n",
       "      <td>Noord-Holland</td>\n",
       "      <td>No</td>\n",
       "      <td>No</td>\n",
       "      <td>NaN</td>\n",
       "      <td>GGD Hollands-Noorden</td>\n",
       "    </tr>\n",
       "    <tr>\n",
       "      <th>4</th>\n",
       "      <td>2021-02-25 10:00:00</td>\n",
       "      <td>2020-01-04</td>\n",
       "      <td>DOO</td>\n",
       "      <td>10-19</td>\n",
       "      <td>Female</td>\n",
       "      <td>Gelderland</td>\n",
       "      <td>Unknown</td>\n",
       "      <td>No</td>\n",
       "      <td>NaN</td>\n",
       "      <td>GGD Gelderland-Zuid</td>\n",
       "    </tr>\n",
       "  </tbody>\n",
       "</table>\n",
       "</div>"
      ],
      "text/plain": [
       "             Date_file Date_statistics Date_statistics_type Agegroup     Sex  \\\n",
       "0  2021-02-25 10:00:00      2020-01-01                  DOO    40-49  Female   \n",
       "1  2021-02-25 10:00:00      2020-01-01                  DOO    50-59    Male   \n",
       "2  2021-02-25 10:00:00      2020-01-01                  DOO    20-29  Female   \n",
       "3  2021-02-25 10:00:00      2020-01-01                  DOO    60-69  Female   \n",
       "4  2021-02-25 10:00:00      2020-01-04                  DOO    10-19  Female   \n",
       "\n",
       "        Province Hospital_admission Deceased  Week_of_death  \\\n",
       "0  Noord-Holland                 No       No            NaN   \n",
       "1     Gelderland                 No       No            NaN   \n",
       "2   Zuid-Holland                 No       No            NaN   \n",
       "3  Noord-Holland                 No       No            NaN   \n",
       "4     Gelderland            Unknown       No            NaN   \n",
       "\n",
       "                            Municipal_health_service  \n",
       "0                                      GGD Amsterdam  \n",
       "1  Veiligheids- en Gezondheidsregio Gelderland-Mi...  \n",
       "2                                GGD Hollands-Midden  \n",
       "3                               GGD Hollands-Noorden  \n",
       "4                                GGD Gelderland-Zuid  "
      ]
     },
     "metadata": {},
     "output_type": "display_data"
    }
   ],
   "source": [
    "#leeftijdsgroepen = SimpleNamespace()\n",
    "@run\n",
    "def cell():\n",
    "  global rivm\n",
    "  rivm = RIVM.csv('COVID-19_casus_landelijk')\n",
    "  display(rivm.head())"
   ]
  },
  {
   "cell_type": "code",
   "execution_count": 3,
   "id": "mysterious-destination",
   "metadata": {
    "execution": {
     "iopub.execute_input": "2021-02-26T07:43:45.799228Z",
     "iopub.status.busy": "2021-02-26T07:43:45.798678Z",
     "iopub.status.idle": "2021-02-26T07:43:49.557046Z",
     "shell.execute_reply": "2021-02-26T07:43:49.556047Z"
    },
    "lines_to_next_cell": 1,
    "papermill": {
     "duration": 3.809663,
     "end_time": "2021-02-26T07:43:49.557171",
     "exception": false,
     "start_time": "2021-02-26T07:43:45.747508",
     "status": "completed"
    },
    "tags": [],
    "title": "Download de bevolkings cijfers van CBS, uitgesplitst op de leeftijds categorien in de dataset van het RIVM"
   },
   "outputs": [],
   "source": [
    "@run\n",
    "def cell():\n",
    "  global bevolking\n",
    "  bevolking = CBS.bevolking(leeftijdsgroepen=True)"
   ]
  },
  {
   "cell_type": "code",
   "execution_count": 4,
   "id": "cultural-wildlife",
   "metadata": {
    "execution": {
     "iopub.execute_input": "2021-02-26T07:43:49.584548Z",
     "iopub.status.busy": "2021-02-26T07:43:49.575505Z",
     "iopub.status.idle": "2021-02-26T07:43:53.799560Z",
     "shell.execute_reply": "2021-02-26T07:43:53.798677Z"
    },
    "lines_to_next_cell": 1,
    "papermill": {
     "duration": 4.236979,
     "end_time": "2021-02-26T07:43:53.799694",
     "exception": false,
     "start_time": "2021-02-26T07:43:49.562715",
     "status": "completed"
    },
    "tags": [],
    "title": "leeftijdsgroepen: prepareer tabel"
   },
   "outputs": [
    {
     "data": {
      "text/html": [
       "<style  type=\"text/css\" >\n",
       "#T_570a1_row0_col7{\n",
       "            background-color:  #21a585;\n",
       "            color:  #000000;\n",
       "        }#T_570a1_row0_col8{\n",
       "            background-color:  #355e8d;\n",
       "            color:  #f1f1f1;\n",
       "        }#T_570a1_row0_col9,#T_570a1_row1_col12,#T_570a1_row2_col12,#T_570a1_row3_col12,#T_570a1_row4_col12{\n",
       "            background-color:  #440154;\n",
       "            color:  #f1f1f1;\n",
       "        }#T_570a1_row0_col10{\n",
       "            background-color:  #482878;\n",
       "            color:  #f1f1f1;\n",
       "        }#T_570a1_row0_col11{\n",
       "            background-color:  #423f85;\n",
       "            color:  #f1f1f1;\n",
       "        }#T_570a1_row0_col12{\n",
       "            background-color:  #460a5d;\n",
       "            color:  #f1f1f1;\n",
       "        }#T_570a1_row0_col13,#T_570a1_row3_col8{\n",
       "            background-color:  #26828e;\n",
       "            color:  #000000;\n",
       "        }#T_570a1_row0_col14{\n",
       "            background-color:  #3fbc73;\n",
       "            color:  #000000;\n",
       "        }#T_570a1_row0_col15{\n",
       "            background-color:  #7fd34e;\n",
       "            color:  #000000;\n",
       "        }#T_570a1_row0_col16{\n",
       "            background-color:  #dae319;\n",
       "            color:  #000000;\n",
       "        }#T_570a1_row0_col17,#T_570a1_row1_col17,#T_570a1_row2_col17,#T_570a1_row3_col17,#T_570a1_row4_col17{\n",
       "            background-color:  #fde725;\n",
       "            color:  #000000;\n",
       "        }#T_570a1_row1_col7{\n",
       "            background-color:  #44bf70;\n",
       "            color:  #000000;\n",
       "        }#T_570a1_row1_col8{\n",
       "            background-color:  #2c738e;\n",
       "            color:  #f1f1f1;\n",
       "        }#T_570a1_row1_col9{\n",
       "            background-color:  #48186a;\n",
       "            color:  #f1f1f1;\n",
       "        }#T_570a1_row1_col10{\n",
       "            background-color:  #453581;\n",
       "            color:  #f1f1f1;\n",
       "        }#T_570a1_row1_col11,#T_570a1_row2_col10{\n",
       "            background-color:  #414487;\n",
       "            color:  #f1f1f1;\n",
       "        }#T_570a1_row1_col13{\n",
       "            background-color:  #29798e;\n",
       "            color:  #000000;\n",
       "        }#T_570a1_row1_col14{\n",
       "            background-color:  #35b779;\n",
       "            color:  #000000;\n",
       "        }#T_570a1_row1_col15,#T_570a1_row3_col7{\n",
       "            background-color:  #70cf57;\n",
       "            color:  #000000;\n",
       "        }#T_570a1_row1_col16{\n",
       "            background-color:  #d2e21b;\n",
       "            color:  #000000;\n",
       "        }#T_570a1_row2_col7{\n",
       "            background-color:  #60ca60;\n",
       "            color:  #000000;\n",
       "        }#T_570a1_row2_col8{\n",
       "            background-color:  #277e8e;\n",
       "            color:  #000000;\n",
       "        }#T_570a1_row2_col9{\n",
       "            background-color:  #482576;\n",
       "            color:  #f1f1f1;\n",
       "        }#T_570a1_row2_col11{\n",
       "            background-color:  #3d4e8a;\n",
       "            color:  #f1f1f1;\n",
       "        }#T_570a1_row2_col13{\n",
       "            background-color:  #2c718e;\n",
       "            color:  #f1f1f1;\n",
       "        }#T_570a1_row2_col14,#T_570a1_row3_col14{\n",
       "            background-color:  #34b679;\n",
       "            color:  #000000;\n",
       "        }#T_570a1_row2_col15{\n",
       "            background-color:  #4ec36b;\n",
       "            color:  #000000;\n",
       "        }#T_570a1_row2_col16{\n",
       "            background-color:  #c5e021;\n",
       "            color:  #000000;\n",
       "        }#T_570a1_row3_col9{\n",
       "            background-color:  #482374;\n",
       "            color:  #f1f1f1;\n",
       "        }#T_570a1_row3_col10{\n",
       "            background-color:  #3e4c8a;\n",
       "            color:  #f1f1f1;\n",
       "        }#T_570a1_row3_col11{\n",
       "            background-color:  #3e4989;\n",
       "            color:  #f1f1f1;\n",
       "        }#T_570a1_row3_col13{\n",
       "            background-color:  #2b748e;\n",
       "            color:  #f1f1f1;\n",
       "        }#T_570a1_row3_col15{\n",
       "            background-color:  #52c569;\n",
       "            color:  #000000;\n",
       "        }#T_570a1_row3_col16,#T_570a1_row4_col16{\n",
       "            background-color:  #c0df25;\n",
       "            color:  #000000;\n",
       "        }#T_570a1_row4_col7{\n",
       "            background-color:  #9bd93c;\n",
       "            color:  #000000;\n",
       "        }#T_570a1_row4_col8{\n",
       "            background-color:  #26818e;\n",
       "            color:  #000000;\n",
       "        }#T_570a1_row4_col9{\n",
       "            background-color:  #482677;\n",
       "            color:  #f1f1f1;\n",
       "        }#T_570a1_row4_col10{\n",
       "            background-color:  #39558c;\n",
       "            color:  #f1f1f1;\n",
       "        }#T_570a1_row4_col11{\n",
       "            background-color:  #3b518b;\n",
       "            color:  #f1f1f1;\n",
       "        }#T_570a1_row4_col13{\n",
       "            background-color:  #2d718e;\n",
       "            color:  #f1f1f1;\n",
       "        }#T_570a1_row4_col14{\n",
       "            background-color:  #31b57b;\n",
       "            color:  #000000;\n",
       "        }#T_570a1_row4_col15{\n",
       "            background-color:  #56c667;\n",
       "            color:  #000000;\n",
       "        }</style><table id=\"T_570a1_\" ><thead>    <tr>        <th class=\"blank level0\" ></th>        <th class=\"col_heading level0 col0\" >Key</th>        <th class=\"col_heading level0 col1\" >Weken terug</th>        <th class=\"col_heading level0 col2\" >Datum</th>        <th class=\"col_heading level0 col3\" >Periode</th>        <th class=\"col_heading level0 col4\" >Gemiddelde leeftijd</th>        <th class=\"col_heading level0 col5\" >Totaal</th>        <th class=\"col_heading level0 col6\" >Type</th>        <th class=\"col_heading level0 col7\" >0-9</th>        <th class=\"col_heading level0 col8\" >10-19</th>        <th class=\"col_heading level0 col9\" >20-29</th>        <th class=\"col_heading level0 col10\" >30-39</th>        <th class=\"col_heading level0 col11\" >40-49</th>        <th class=\"col_heading level0 col12\" >50-59</th>        <th class=\"col_heading level0 col13\" >60-69</th>        <th class=\"col_heading level0 col14\" >70-79</th>        <th class=\"col_heading level0 col15\" >80-89</th>        <th class=\"col_heading level0 col16\" >90+</th>        <th class=\"col_heading level0 col17\" >Onbekend</th>        <th class=\"col_heading level0 col18\" >c0-9</th>        <th class=\"col_heading level0 col19\" >c10-19</th>        <th class=\"col_heading level0 col20\" >c20-29</th>        <th class=\"col_heading level0 col21\" >c30-39</th>        <th class=\"col_heading level0 col22\" >c40-49</th>        <th class=\"col_heading level0 col23\" >c50-59</th>        <th class=\"col_heading level0 col24\" >c60-69</th>        <th class=\"col_heading level0 col25\" >c70-79</th>        <th class=\"col_heading level0 col26\" >c80-89</th>        <th class=\"col_heading level0 col27\" >c90+</th>        <th class=\"col_heading level0 col28\" >cOnbekend</th>    </tr></thead><tbody>\n",
       "                <tr>\n",
       "                        <th id=\"T_570a1_level0_row0\" class=\"row_heading level0 row0\" >0</th>\n",
       "                        <td id=\"T_570a1_row0_col0\" class=\"data row0 col0\" >p000</td>\n",
       "                        <td id=\"T_570a1_row0_col1\" class=\"data row0 col1\" >0</td>\n",
       "                        <td id=\"T_570a1_row0_col2\" class=\"data row0 col2\" >2021-02-25 00:00:00</td>\n",
       "                        <td id=\"T_570a1_row0_col3\" class=\"data row0 col3\" >19/02-25/02</td>\n",
       "                        <td id=\"T_570a1_row0_col4\" class=\"data row0 col4\" >40.600000</td>\n",
       "                        <td id=\"T_570a1_row0_col5\" class=\"data row0 col5\" >17448.000000</td>\n",
       "                        <td id=\"T_570a1_row0_col6\" class=\"data row0 col6\" >Positief getest</td>\n",
       "                        <td id=\"T_570a1_row0_col7\" class=\"data row0 col7\" >1222.000000</td>\n",
       "                        <td id=\"T_570a1_row0_col8\" class=\"data row0 col8\" >2087.000000</td>\n",
       "                        <td id=\"T_570a1_row0_col9\" class=\"data row0 col9\" >2952.000000</td>\n",
       "                        <td id=\"T_570a1_row0_col10\" class=\"data row0 col10\" >2622.000000</td>\n",
       "                        <td id=\"T_570a1_row0_col11\" class=\"data row0 col11\" >2400.000000</td>\n",
       "                        <td id=\"T_570a1_row0_col12\" class=\"data row0 col12\" >2875.000000</td>\n",
       "                        <td id=\"T_570a1_row0_col13\" class=\"data row0 col13\" >1638.000000</td>\n",
       "                        <td id=\"T_570a1_row0_col14\" class=\"data row0 col14\" >911.000000</td>\n",
       "                        <td id=\"T_570a1_row0_col15\" class=\"data row0 col15\" >571.000000</td>\n",
       "                        <td id=\"T_570a1_row0_col16\" class=\"data row0 col16\" >170.000000</td>\n",
       "                        <td id=\"T_570a1_row0_col17\" class=\"data row0 col17\" >0.000000</td>\n",
       "                        <td id=\"T_570a1_row0_col18\" class=\"data row0 col18\" >413</td>\n",
       "                        <td id=\"T_570a1_row0_col19\" class=\"data row0 col19\" >706</td>\n",
       "                        <td id=\"T_570a1_row0_col20\" class=\"data row0 col20\" >1000</td>\n",
       "                        <td id=\"T_570a1_row0_col21\" class=\"data row0 col21\" >888</td>\n",
       "                        <td id=\"T_570a1_row0_col22\" class=\"data row0 col22\" >813</td>\n",
       "                        <td id=\"T_570a1_row0_col23\" class=\"data row0 col23\" >973</td>\n",
       "                        <td id=\"T_570a1_row0_col24\" class=\"data row0 col24\" >554</td>\n",
       "                        <td id=\"T_570a1_row0_col25\" class=\"data row0 col25\" >308</td>\n",
       "                        <td id=\"T_570a1_row0_col26\" class=\"data row0 col26\" >193</td>\n",
       "                        <td id=\"T_570a1_row0_col27\" class=\"data row0 col27\" >57</td>\n",
       "                        <td id=\"T_570a1_row0_col28\" class=\"data row0 col28\" >0</td>\n",
       "            </tr>\n",
       "            <tr>\n",
       "                        <th id=\"T_570a1_level0_row1\" class=\"row_heading level0 row1\" >1</th>\n",
       "                        <td id=\"T_570a1_row1_col0\" class=\"data row1 col0\" >p001</td>\n",
       "                        <td id=\"T_570a1_row1_col1\" class=\"data row1 col1\" >1</td>\n",
       "                        <td id=\"T_570a1_row1_col2\" class=\"data row1 col2\" >2021-02-25 00:00:00</td>\n",
       "                        <td id=\"T_570a1_row1_col3\" class=\"data row1 col3\" >12/02-18/02</td>\n",
       "                        <td id=\"T_570a1_row1_col4\" class=\"data row1 col4\" >42.600000</td>\n",
       "                        <td id=\"T_570a1_row1_col5\" class=\"data row1 col5\" >26511.000000</td>\n",
       "                        <td id=\"T_570a1_row1_col6\" class=\"data row1 col6\" >Positief getest</td>\n",
       "                        <td id=\"T_570a1_row1_col7\" class=\"data row1 col7\" >1379.000000</td>\n",
       "                        <td id=\"T_570a1_row1_col8\" class=\"data row1 col8\" >2873.000000</td>\n",
       "                        <td id=\"T_570a1_row1_col9\" class=\"data row1 col9\" >4339.000000</td>\n",
       "                        <td id=\"T_570a1_row1_col10\" class=\"data row1 col10\" >3926.000000</td>\n",
       "                        <td id=\"T_570a1_row1_col11\" class=\"data row1 col11\" >3710.000000</td>\n",
       "                        <td id=\"T_570a1_row1_col12\" class=\"data row1 col12\" >4637.000000</td>\n",
       "                        <td id=\"T_570a1_row1_col13\" class=\"data row1 col13\" >2755.000000</td>\n",
       "                        <td id=\"T_570a1_row1_col14\" class=\"data row1 col14\" >1557.000000</td>\n",
       "                        <td id=\"T_570a1_row1_col15\" class=\"data row1 col15\" >1013.000000</td>\n",
       "                        <td id=\"T_570a1_row1_col16\" class=\"data row1 col16\" >322.000000</td>\n",
       "                        <td id=\"T_570a1_row1_col17\" class=\"data row1 col17\" >0.000000</td>\n",
       "                        <td id=\"T_570a1_row1_col18\" class=\"data row1 col18\" >297</td>\n",
       "                        <td id=\"T_570a1_row1_col19\" class=\"data row1 col19\" >619</td>\n",
       "                        <td id=\"T_570a1_row1_col20\" class=\"data row1 col20\" >935</td>\n",
       "                        <td id=\"T_570a1_row1_col21\" class=\"data row1 col21\" >846</td>\n",
       "                        <td id=\"T_570a1_row1_col22\" class=\"data row1 col22\" >800</td>\n",
       "                        <td id=\"T_570a1_row1_col23\" class=\"data row1 col23\" >1000</td>\n",
       "                        <td id=\"T_570a1_row1_col24\" class=\"data row1 col24\" >594</td>\n",
       "                        <td id=\"T_570a1_row1_col25\" class=\"data row1 col25\" >335</td>\n",
       "                        <td id=\"T_570a1_row1_col26\" class=\"data row1 col26\" >218</td>\n",
       "                        <td id=\"T_570a1_row1_col27\" class=\"data row1 col27\" >69</td>\n",
       "                        <td id=\"T_570a1_row1_col28\" class=\"data row1 col28\" >0</td>\n",
       "            </tr>\n",
       "            <tr>\n",
       "                        <th id=\"T_570a1_level0_row2\" class=\"row_heading level0 row2\" >2</th>\n",
       "                        <td id=\"T_570a1_row2_col0\" class=\"data row2 col0\" >p002</td>\n",
       "                        <td id=\"T_570a1_row2_col1\" class=\"data row2 col1\" >2</td>\n",
       "                        <td id=\"T_570a1_row2_col2\" class=\"data row2 col2\" >2021-02-25 00:00:00</td>\n",
       "                        <td id=\"T_570a1_row2_col3\" class=\"data row2 col3\" >05/02-11/02</td>\n",
       "                        <td id=\"T_570a1_row2_col4\" class=\"data row2 col4\" >44.200000</td>\n",
       "                        <td id=\"T_570a1_row2_col5\" class=\"data row2 col5\" >24096.000000</td>\n",
       "                        <td id=\"T_570a1_row2_col6\" class=\"data row2 col6\" >Positief getest</td>\n",
       "                        <td id=\"T_570a1_row2_col7\" class=\"data row2 col7\" >1050.000000</td>\n",
       "                        <td id=\"T_570a1_row2_col8\" class=\"data row2 col8\" >2478.000000</td>\n",
       "                        <td id=\"T_570a1_row2_col9\" class=\"data row2 col9\" >3842.000000</td>\n",
       "                        <td id=\"T_570a1_row2_col10\" class=\"data row2 col10\" >3426.000000</td>\n",
       "                        <td id=\"T_570a1_row2_col11\" class=\"data row2 col11\" >3272.000000</td>\n",
       "                        <td id=\"T_570a1_row2_col12\" class=\"data row2 col12\" >4291.000000</td>\n",
       "                        <td id=\"T_570a1_row2_col13\" class=\"data row2 col13\" >2697.000000</td>\n",
       "                        <td id=\"T_570a1_row2_col14\" class=\"data row2 col14\" >1456.000000</td>\n",
       "                        <td id=\"T_570a1_row2_col15\" class=\"data row2 col15\" >1196.000000</td>\n",
       "                        <td id=\"T_570a1_row2_col16\" class=\"data row2 col16\" >386.000000</td>\n",
       "                        <td id=\"T_570a1_row2_col17\" class=\"data row2 col17\" >2.000000</td>\n",
       "                        <td id=\"T_570a1_row2_col18\" class=\"data row2 col18\" >244</td>\n",
       "                        <td id=\"T_570a1_row2_col19\" class=\"data row2 col19\" >577</td>\n",
       "                        <td id=\"T_570a1_row2_col20\" class=\"data row2 col20\" >895</td>\n",
       "                        <td id=\"T_570a1_row2_col21\" class=\"data row2 col21\" >798</td>\n",
       "                        <td id=\"T_570a1_row2_col22\" class=\"data row2 col22\" >762</td>\n",
       "                        <td id=\"T_570a1_row2_col23\" class=\"data row2 col23\" >1000</td>\n",
       "                        <td id=\"T_570a1_row2_col24\" class=\"data row2 col24\" >628</td>\n",
       "                        <td id=\"T_570a1_row2_col25\" class=\"data row2 col25\" >339</td>\n",
       "                        <td id=\"T_570a1_row2_col26\" class=\"data row2 col26\" >278</td>\n",
       "                        <td id=\"T_570a1_row2_col27\" class=\"data row2 col27\" >89</td>\n",
       "                        <td id=\"T_570a1_row2_col28\" class=\"data row2 col28\" >0</td>\n",
       "            </tr>\n",
       "            <tr>\n",
       "                        <th id=\"T_570a1_level0_row3\" class=\"row_heading level0 row3\" >3</th>\n",
       "                        <td id=\"T_570a1_row3_col0\" class=\"data row3 col0\" >p003</td>\n",
       "                        <td id=\"T_570a1_row3_col1\" class=\"data row3 col1\" >3</td>\n",
       "                        <td id=\"T_570a1_row3_col2\" class=\"data row3 col2\" >2021-02-25 00:00:00</td>\n",
       "                        <td id=\"T_570a1_row3_col3\" class=\"data row3 col3\" >29/01-04/02</td>\n",
       "                        <td id=\"T_570a1_row3_col4\" class=\"data row3 col4\" >44.500000</td>\n",
       "                        <td id=\"T_570a1_row3_col5\" class=\"data row3 col5\" >26112.000000</td>\n",
       "                        <td id=\"T_570a1_row3_col6\" class=\"data row3 col6\" >Positief getest</td>\n",
       "                        <td id=\"T_570a1_row3_col7\" class=\"data row3 col7\" >1013.000000</td>\n",
       "                        <td id=\"T_570a1_row3_col8\" class=\"data row3 col8\" >2632.000000</td>\n",
       "                        <td id=\"T_570a1_row3_col9\" class=\"data row3 col9\" >4251.000000</td>\n",
       "                        <td id=\"T_570a1_row3_col10\" class=\"data row3 col10\" >3629.000000</td>\n",
       "                        <td id=\"T_570a1_row3_col11\" class=\"data row3 col11\" >3658.000000</td>\n",
       "                        <td id=\"T_570a1_row3_col12\" class=\"data row3 col12\" >4702.000000</td>\n",
       "                        <td id=\"T_570a1_row3_col13\" class=\"data row3 col13\" >2902.000000</td>\n",
       "                        <td id=\"T_570a1_row3_col14\" class=\"data row3 col14\" >1598.000000</td>\n",
       "                        <td id=\"T_570a1_row3_col15\" class=\"data row3 col15\" >1278.000000</td>\n",
       "                        <td id=\"T_570a1_row3_col16\" class=\"data row3 col16\" >448.000000</td>\n",
       "                        <td id=\"T_570a1_row3_col17\" class=\"data row3 col17\" >1.000000</td>\n",
       "                        <td id=\"T_570a1_row3_col18\" class=\"data row3 col18\" >215</td>\n",
       "                        <td id=\"T_570a1_row3_col19\" class=\"data row3 col19\" >559</td>\n",
       "                        <td id=\"T_570a1_row3_col20\" class=\"data row3 col20\" >904</td>\n",
       "                        <td id=\"T_570a1_row3_col21\" class=\"data row3 col21\" >771</td>\n",
       "                        <td id=\"T_570a1_row3_col22\" class=\"data row3 col22\" >777</td>\n",
       "                        <td id=\"T_570a1_row3_col23\" class=\"data row3 col23\" >1000</td>\n",
       "                        <td id=\"T_570a1_row3_col24\" class=\"data row3 col24\" >617</td>\n",
       "                        <td id=\"T_570a1_row3_col25\" class=\"data row3 col25\" >339</td>\n",
       "                        <td id=\"T_570a1_row3_col26\" class=\"data row3 col26\" >271</td>\n",
       "                        <td id=\"T_570a1_row3_col27\" class=\"data row3 col27\" >95</td>\n",
       "                        <td id=\"T_570a1_row3_col28\" class=\"data row3 col28\" >0</td>\n",
       "            </tr>\n",
       "            <tr>\n",
       "                        <th id=\"T_570a1_level0_row4\" class=\"row_heading level0 row4\" >4</th>\n",
       "                        <td id=\"T_570a1_row4_col0\" class=\"data row4 col0\" >p004</td>\n",
       "                        <td id=\"T_570a1_row4_col1\" class=\"data row4 col1\" >4</td>\n",
       "                        <td id=\"T_570a1_row4_col2\" class=\"data row4 col2\" >2021-02-25 00:00:00</td>\n",
       "                        <td id=\"T_570a1_row4_col3\" class=\"data row4 col3\" >22/01-28/01</td>\n",
       "                        <td id=\"T_570a1_row4_col4\" class=\"data row4 col4\" >45.000000</td>\n",
       "                        <td id=\"T_570a1_row4_col5\" class=\"data row4 col5\" >29423.000000</td>\n",
       "                        <td id=\"T_570a1_row4_col6\" class=\"data row4 col6\" >Positief getest</td>\n",
       "                        <td id=\"T_570a1_row4_col7\" class=\"data row4 col7\" >825.000000</td>\n",
       "                        <td id=\"T_570a1_row4_col8\" class=\"data row4 col8\" >3056.000000</td>\n",
       "                        <td id=\"T_570a1_row4_col9\" class=\"data row4 col9\" >4820.000000</td>\n",
       "                        <td id=\"T_570a1_row4_col10\" class=\"data row4 col10\" >3987.000000</td>\n",
       "                        <td id=\"T_570a1_row4_col11\" class=\"data row4 col11\" >4067.000000</td>\n",
       "                        <td id=\"T_570a1_row4_col12\" class=\"data row4 col12\" >5406.000000</td>\n",
       "                        <td id=\"T_570a1_row4_col13\" class=\"data row4 col13\" >3422.000000</td>\n",
       "                        <td id=\"T_570a1_row4_col14\" class=\"data row4 col14\" >1878.000000</td>\n",
       "                        <td id=\"T_570a1_row4_col15\" class=\"data row4 col15\" >1431.000000</td>\n",
       "                        <td id=\"T_570a1_row4_col16\" class=\"data row4 col16\" >526.000000</td>\n",
       "                        <td id=\"T_570a1_row4_col17\" class=\"data row4 col17\" >5.000000</td>\n",
       "                        <td id=\"T_570a1_row4_col18\" class=\"data row4 col18\" >152</td>\n",
       "                        <td id=\"T_570a1_row4_col19\" class=\"data row4 col19\" >565</td>\n",
       "                        <td id=\"T_570a1_row4_col20\" class=\"data row4 col20\" >891</td>\n",
       "                        <td id=\"T_570a1_row4_col21\" class=\"data row4 col21\" >737</td>\n",
       "                        <td id=\"T_570a1_row4_col22\" class=\"data row4 col22\" >752</td>\n",
       "                        <td id=\"T_570a1_row4_col23\" class=\"data row4 col23\" >1000</td>\n",
       "                        <td id=\"T_570a1_row4_col24\" class=\"data row4 col24\" >633</td>\n",
       "                        <td id=\"T_570a1_row4_col25\" class=\"data row4 col25\" >347</td>\n",
       "                        <td id=\"T_570a1_row4_col26\" class=\"data row4 col26\" >264</td>\n",
       "                        <td id=\"T_570a1_row4_col27\" class=\"data row4 col27\" >97</td>\n",
       "                        <td id=\"T_570a1_row4_col28\" class=\"data row4 col28\" >0</td>\n",
       "            </tr>\n",
       "    </tbody></table>"
      ],
      "text/plain": [
       "<pandas.io.formats.style.Styler at 0x7fb6bd7b1910>"
      ]
     },
     "metadata": {},
     "output_type": "display_data"
    }
   ],
   "source": [
    "# Bereken de stand van zaken van besmettingen / hospitalisaties / overlijden, per cohort in absolute aantallen en aantallen per 100k, met een kleur indicator voor de aantallen.\n",
    "# vervang <50 en Unknown door Onbekend\n",
    "@run\n",
    "def cell():\n",
    "  rivm['Cohort'] = rivm['Agegroup'].replace({'<50': 'Onbekend', 'Unknown': 'Onbekend'})\n",
    "  # aangenomen 'gemiddelde' leeftijd van een cohort: minimum waarde + 5\n",
    "  assumed_cohort_age = [(cohort, [int(n) for n in cohort.replace('+', '').split('-')]) for cohort in rivm['Cohort'].unique() if cohort[0].isdigit()]\n",
    "  assumed_cohort_age = { cohort: min(rng) + 5 for cohort, rng in assumed_cohort_age }\n",
    "  rivm['Gemiddelde leeftijd'] = rivm['Cohort'].apply(lambda x: assumed_cohort_age.get(x, np.nan))\n",
    "\n",
    "  # verwijder tijd\n",
    "  rivm['Date_file_date'] = pd.to_datetime(rivm['Date_file'].replace(r' .*', '', regex=True))\n",
    "\n",
    "  rivm['Date_statistics_date'] = pd.to_datetime(rivm['Date_statistics'])\n",
    "\n",
    "  # weken terug = verschil tussen Date_file en Date_statistcs, gedeeld door 7 dagen\n",
    "  rivm['Weken terug'] = np.floor((rivm['Date_file_date'] - rivm['Date_statistics_date'])/np.timedelta64(7, 'D')).astype(int)\n",
    "\n",
    "  # voeg key, gem leeftijd, kleurnummer en totaal toe\n",
    "  Date_file = rivm['Date_file_date'].unique()[0].astype('M8[D]').astype('O')\n",
    "  cohorten = list(bevolking.index) + ['Onbekend']\n",
    "  def summarize(df, category, prefix):\n",
    "    # aangezien we hier de dataframe in-place wijzigen (bijv door toevoegen kolommen)\n",
    "    # en we het 'rivm' frame later nog clean nodig hebben\n",
    "    df = df.copy(deep=True)\n",
    "\n",
    "    df = (df\n",
    "          .groupby(['Weken terug', 'Cohort'])['count']\n",
    "          .sum()\n",
    "          .unstack(fill_value=np.nan)\n",
    "          .reset_index()\n",
    "          .rename_axis(None, axis=1)\n",
    "        ).merge(df\n",
    "          # we voegen hier gemiddelde leeftijd toe, want die willen we op een ander\n",
    "          # niveau aggregeren voor 'df' overschreven word\n",
    "          .groupby(['Weken terug'])['Gemiddelde leeftijd']\n",
    "          .mean()\n",
    "          .to_frame(), on='Weken terug'\n",
    "        )\n",
    "\n",
    "    # altijd 52 rijen\n",
    "    df = pd.Series(np.arange(52), name='Weken terug').to_frame().merge(df, how='left', on='Weken terug')\n",
    "\n",
    "    # toevoegen missende cohorten\n",
    "    for col in cohorten:\n",
    "      if not col in df:\n",
    "        df[col] = np.nan\n",
    "\n",
    "    # sommeer per rij (axis=1) over de cohorten om een totaal te krijgen\n",
    "    df['Totaal'] = df[cohorten].sum(axis=1)\n",
    "\n",
    "    # voeg periode en datum toe\n",
    "    # periode afgeleid van weken-terug (= de index voor deze dataframe)\n",
    "    df['Datum'] = pd.to_datetime(Date_file)\n",
    "    df['Periode'] = (df\n",
    "      .index.to_series()\n",
    "      .apply(\n",
    "        lambda x: (\n",
    "          (Date_file + datetime.timedelta(weeks=-(x+1), days=1)).strftime('%d/%m')\n",
    "          + '-'\n",
    "          + (Date_file + datetime.timedelta(weeks=-x)).strftime('%d/%m')\n",
    "        )\n",
    "      )\n",
    "    )\n",
    "\n",
    "    # voeg 'Key' en 'Type' kolom toe. Variabele 'type' kan niet, is een language primitive.\n",
    "    df['Key'] = prefix + df.index.astype(str).str.rjust(3, fillchar='0')\n",
    "    df['Type'] = category\n",
    "\n",
    "    # voeg de kleur kolommen toe\n",
    "    for col in cohorten:\n",
    "      df['c' + col] = ((df[col] / df[[col for col in cohorten]].max(axis=1)) * 1000).fillna(0).astype(int)\n",
    "\n",
    "    # herschikken van de kolommen\n",
    "    colorder = ['Key', 'Weken terug', 'Datum', 'Periode', 'Gemiddelde leeftijd', 'Totaal', 'Type']\n",
    "    return df[colorder + [col for col in df if col not in colorder]]\n",
    "\n",
    "  factor = bevolking.to_dict()['per 100k']\n",
    "  global tabel\n",
    "  tabel = pd.concat(\n",
    "    # flatten the result list zodat pd.concat ze onder elkaar kan plakken\n",
    "    functools.reduce(lambda a, b: a + b, [\n",
    "      [summarize(df.assign(count=1), label, prefix), summarize(df.assign(count=df['Cohort'].apply(lambda x: factor.get(x, np.nan))), label + ' per 100.000', prefix + '100k')]\n",
    "      for df, label, prefix in [\n",
    "        (rivm, 'Positief getest', 'p'), # volledige count per cohort\n",
    "        (rivm[rivm.Hospital_admission == 'Yes'], 'Ziekenhuisopname', 'h'), # count van cohort voor Hospital_admission == 'Yes'\n",
    "        (rivm[rivm.Deceased == 'Yes'], 'Overleden', 'd'), # count van cohort voor Deceased == 'Yes'\n",
    "      ]\n",
    "    ])\n",
    "  )\n",
    "\n",
    "  # rood -> groen\n",
    "  cdict = {\n",
    "    'red':   ((0.0, 0.0, 0.0),   # no red at 0\n",
    "              (0.5, 1.0, 1.0),   # all channels set to 1.0 at 0.5 to create white\n",
    "              (1.0, 0.8, 0.8)),  # set to 0.8 so its not too bright at 1\n",
    "    'green': ((0.0, 0.8, 0.8),   # set to 0.8 so its not too bright at 0\n",
    "              (0.5, 1.0, 1.0),   # all channels set to 1.0 at 0.5 to create white\n",
    "              (1.0, 0.0, 0.0)),  # no green at 1\n",
    "    'blue':  ((0.0, 0.0, 0.0),   # no blue at 0\n",
    "              (0.5, 1.0, 1.0),   # all channels set to 1.0 at 0.5 to create white\n",
    "              (1.0, 0.0, 0.0))   # no blue at 1\n",
    "  }\n",
    "  cm = colors.LinearSegmentedColormap('GnRd', cdict)\n",
    "  # geel -> paars\n",
    "  cm = sns.color_palette('viridis_r', as_cmap=True)\n",
    "  display(tabel\n",
    "    .fillna(0)\n",
    "    .head()\n",
    "    .round(1)\n",
    "    .reset_index(drop=True)\n",
    "    .style.background_gradient(cmap=cm, axis=1, subset=cohorten)\n",
    "  )"
   ]
  },
  {
   "cell_type": "code",
   "execution_count": 5,
   "id": "legislative-priority",
   "metadata": {
    "execution": {
     "iopub.execute_input": "2021-02-26T07:43:53.818185Z",
     "iopub.status.busy": "2021-02-26T07:43:53.816138Z",
     "iopub.status.idle": "2021-02-26T07:44:48.352810Z",
     "shell.execute_reply": "2021-02-26T07:44:48.351909Z"
    },
    "papermill": {
     "duration": 54.547131,
     "end_time": "2021-02-26T07:44:48.352935",
     "exception": false,
     "start_time": "2021-02-26T07:43:53.805804",
     "status": "completed"
    },
    "tags": [],
    "title": "publish"
   },
   "outputs": [
    {
     "name": "stdout",
     "output_type": "stream",
     "text": [
      "infinities:\n",
      "Empty DataFrame\n",
      "Columns: []\n",
      "Index: []\n",
      "nan:\n",
      "Empty DataFrame\n",
      "Columns: []\n",
      "Index: []\n",
      "updating knack\n"
     ]
    },
    {
     "name": "stderr",
     "output_type": "stream",
     "text": [
      "\r",
      "  0%|          | 0/312 [00:00<?, ?it/s]"
     ]
    },
    {
     "name": "stdout",
     "output_type": "stream",
     "text": [
      "312 knack actions ahead\n"
     ]
    },
    {
     "name": "stderr",
     "output_type": "stream",
     "text": [
      "\r",
      "  0%|          | 1/312 [00:00<04:19,  1.20it/s]"
     ]
    },
    {
     "name": "stderr",
     "output_type": "stream",
     "text": [
      "\r",
      "  2%|▏         | 5/312 [00:00<00:46,  6.65it/s]"
     ]
    },
    {
     "name": "stderr",
     "output_type": "stream",
     "text": [
      "\r",
      "  2%|▏         | 7/312 [00:01<00:38,  7.91it/s]"
     ]
    },
    {
     "name": "stderr",
     "output_type": "stream",
     "text": [
      "\r",
      "  3%|▎         | 9/312 [00:01<00:38,  7.91it/s]"
     ]
    },
    {
     "name": "stderr",
     "output_type": "stream",
     "text": [
      "\r",
      "  4%|▎         | 11/312 [00:01<00:51,  5.82it/s]"
     ]
    },
    {
     "name": "stderr",
     "output_type": "stream",
     "text": [
      "\r",
      "  4%|▍         | 14/312 [00:02<00:35,  8.50it/s]"
     ]
    },
    {
     "name": "stderr",
     "output_type": "stream",
     "text": [
      "\r",
      "  5%|▌         | 16/312 [00:02<00:56,  5.21it/s]"
     ]
    },
    {
     "name": "stderr",
     "output_type": "stream",
     "text": [
      "\r",
      "  6%|▌         | 18/312 [00:02<00:47,  6.18it/s]"
     ]
    },
    {
     "name": "stderr",
     "output_type": "stream",
     "text": [
      "\r",
      "  6%|▋         | 20/312 [00:03<00:45,  6.45it/s]"
     ]
    },
    {
     "name": "stderr",
     "output_type": "stream",
     "text": [
      "\r",
      "  7%|▋         | 22/312 [00:03<00:37,  7.78it/s]"
     ]
    },
    {
     "name": "stderr",
     "output_type": "stream",
     "text": [
      "\r",
      "  8%|▊         | 24/312 [00:03<00:31,  9.05it/s]"
     ]
    },
    {
     "name": "stderr",
     "output_type": "stream",
     "text": [
      "\r",
      "  8%|▊         | 26/312 [00:03<00:28, 10.07it/s]"
     ]
    },
    {
     "name": "stderr",
     "output_type": "stream",
     "text": [
      "\r",
      "  9%|▉         | 28/312 [00:03<00:34,  8.33it/s]"
     ]
    },
    {
     "name": "stderr",
     "output_type": "stream",
     "text": [
      "\r",
      " 10%|▉         | 30/312 [00:04<00:46,  6.02it/s]"
     ]
    },
    {
     "name": "stderr",
     "output_type": "stream",
     "text": [
      "\r",
      " 10%|▉         | 31/312 [00:04<00:45,  6.19it/s]"
     ]
    },
    {
     "name": "stderr",
     "output_type": "stream",
     "text": [
      "\r",
      " 11%|█         | 33/312 [00:04<00:35,  7.82it/s]"
     ]
    },
    {
     "name": "stderr",
     "output_type": "stream",
     "text": [
      "\r",
      " 11%|█         | 35/312 [00:04<00:29,  9.37it/s]"
     ]
    },
    {
     "name": "stderr",
     "output_type": "stream",
     "text": [
      "\r",
      " 12%|█▏        | 37/312 [00:05<00:32,  8.45it/s]"
     ]
    },
    {
     "name": "stderr",
     "output_type": "stream",
     "text": [
      "\r",
      " 12%|█▎        | 39/312 [00:05<00:35,  7.80it/s]"
     ]
    },
    {
     "name": "stderr",
     "output_type": "stream",
     "text": [
      "\r",
      " 13%|█▎        | 40/312 [00:05<00:34,  7.99it/s]"
     ]
    },
    {
     "name": "stderr",
     "output_type": "stream",
     "text": [
      "\r",
      " 13%|█▎        | 41/312 [00:05<00:32,  8.31it/s]"
     ]
    },
    {
     "name": "stderr",
     "output_type": "stream",
     "text": [
      "\r",
      " 13%|█▎        | 42/312 [00:05<00:38,  7.05it/s]"
     ]
    },
    {
     "name": "stderr",
     "output_type": "stream",
     "text": [
      "\r",
      " 14%|█▍        | 43/312 [00:06<00:48,  5.59it/s]"
     ]
    },
    {
     "name": "stderr",
     "output_type": "stream",
     "text": [
      "\r",
      " 14%|█▍        | 44/312 [00:06<00:55,  4.80it/s]"
     ]
    },
    {
     "name": "stderr",
     "output_type": "stream",
     "text": [
      "\r",
      " 14%|█▍        | 45/312 [00:06<00:48,  5.51it/s]"
     ]
    },
    {
     "name": "stderr",
     "output_type": "stream",
     "text": [
      "\r",
      " 15%|█▍        | 46/312 [00:07<01:02,  4.29it/s]"
     ]
    },
    {
     "name": "stderr",
     "output_type": "stream",
     "text": [
      "\r",
      " 15%|█▌        | 47/312 [00:07<00:53,  4.96it/s]"
     ]
    },
    {
     "name": "stderr",
     "output_type": "stream",
     "text": [
      "\r",
      " 15%|█▌        | 48/312 [00:07<01:05,  4.03it/s]"
     ]
    },
    {
     "name": "stderr",
     "output_type": "stream",
     "text": [
      "\r",
      " 16%|█▋        | 51/312 [00:07<00:39,  6.69it/s]"
     ]
    },
    {
     "name": "stderr",
     "output_type": "stream",
     "text": [
      "\r",
      " 17%|█▋        | 54/312 [00:07<00:27,  9.41it/s]"
     ]
    },
    {
     "name": "stderr",
     "output_type": "stream",
     "text": [
      "\r",
      " 18%|█▊        | 56/312 [00:08<00:29,  8.58it/s]"
     ]
    },
    {
     "name": "stderr",
     "output_type": "stream",
     "text": [
      "\r",
      " 19%|█▊        | 58/312 [00:08<00:37,  6.85it/s]"
     ]
    },
    {
     "name": "stderr",
     "output_type": "stream",
     "text": [
      "\r",
      " 19%|█▉        | 59/312 [00:08<00:41,  6.16it/s]"
     ]
    },
    {
     "name": "stderr",
     "output_type": "stream",
     "text": [
      "\r",
      " 20%|█▉        | 61/312 [00:09<00:35,  7.09it/s]"
     ]
    },
    {
     "name": "stderr",
     "output_type": "stream",
     "text": [
      "\r",
      " 20%|█▉        | 62/312 [00:09<00:41,  5.98it/s]"
     ]
    },
    {
     "name": "stderr",
     "output_type": "stream",
     "text": [
      "\r",
      " 20%|██        | 63/312 [00:09<00:38,  6.40it/s]"
     ]
    },
    {
     "name": "stderr",
     "output_type": "stream",
     "text": [
      "\r",
      " 21%|██        | 64/312 [00:09<00:44,  5.53it/s]"
     ]
    },
    {
     "name": "stderr",
     "output_type": "stream",
     "text": [
      "\r",
      " 21%|██        | 65/312 [00:09<00:40,  6.08it/s]"
     ]
    },
    {
     "name": "stderr",
     "output_type": "stream",
     "text": [
      "\r",
      " 21%|██        | 66/312 [00:09<00:42,  5.83it/s]"
     ]
    },
    {
     "name": "stderr",
     "output_type": "stream",
     "text": [
      "\r",
      " 22%|██▏       | 69/312 [00:10<00:27,  8.92it/s]"
     ]
    },
    {
     "name": "stderr",
     "output_type": "stream",
     "text": [
      "\r",
      " 22%|██▏       | 70/312 [00:10<00:32,  7.53it/s]"
     ]
    },
    {
     "name": "stderr",
     "output_type": "stream",
     "text": [
      "\r",
      " 23%|██▎       | 72/312 [00:10<00:31,  7.67it/s]"
     ]
    },
    {
     "name": "stderr",
     "output_type": "stream",
     "text": [
      "\r",
      " 23%|██▎       | 73/312 [00:10<00:31,  7.64it/s]"
     ]
    },
    {
     "name": "stderr",
     "output_type": "stream",
     "text": [
      "\r",
      " 24%|██▍       | 75/312 [00:10<00:30,  7.88it/s]"
     ]
    },
    {
     "name": "stderr",
     "output_type": "stream",
     "text": [
      "\r",
      " 24%|██▍       | 76/312 [00:11<00:34,  6.75it/s]"
     ]
    },
    {
     "name": "stderr",
     "output_type": "stream",
     "text": [
      "\r",
      " 25%|██▌       | 78/312 [00:11<00:36,  6.47it/s]"
     ]
    },
    {
     "name": "stderr",
     "output_type": "stream",
     "text": [
      "\r",
      " 26%|██▌       | 80/312 [00:11<00:32,  7.17it/s]"
     ]
    },
    {
     "name": "stderr",
     "output_type": "stream",
     "text": [
      "\r",
      " 26%|██▌       | 81/312 [00:11<00:30,  7.59it/s]"
     ]
    },
    {
     "name": "stderr",
     "output_type": "stream",
     "text": [
      "\r",
      " 26%|██▋       | 82/312 [00:12<00:31,  7.33it/s]"
     ]
    },
    {
     "name": "stderr",
     "output_type": "stream",
     "text": [
      "\r",
      " 27%|██▋       | 83/312 [00:12<00:32,  6.95it/s]"
     ]
    },
    {
     "name": "stderr",
     "output_type": "stream",
     "text": [
      "\r",
      " 27%|██▋       | 84/312 [00:12<00:39,  5.76it/s]"
     ]
    },
    {
     "name": "stderr",
     "output_type": "stream",
     "text": [
      "\r",
      " 27%|██▋       | 85/312 [00:12<00:39,  5.80it/s]"
     ]
    },
    {
     "name": "stderr",
     "output_type": "stream",
     "text": [
      "\r",
      " 28%|██▊       | 86/312 [00:12<00:43,  5.18it/s]"
     ]
    },
    {
     "name": "stderr",
     "output_type": "stream",
     "text": [
      "\r",
      " 28%|██▊       | 87/312 [00:13<00:45,  4.99it/s]"
     ]
    },
    {
     "name": "stderr",
     "output_type": "stream",
     "text": [
      "\r",
      " 29%|██▊       | 89/312 [00:13<00:36,  6.13it/s]"
     ]
    },
    {
     "name": "stderr",
     "output_type": "stream",
     "text": [
      "\r",
      " 29%|██▉       | 90/312 [00:13<00:37,  5.94it/s]"
     ]
    },
    {
     "name": "stderr",
     "output_type": "stream",
     "text": [
      "\r",
      " 29%|██▉       | 92/312 [00:13<00:35,  6.26it/s]"
     ]
    },
    {
     "name": "stderr",
     "output_type": "stream",
     "text": [
      "\r",
      " 30%|███       | 94/312 [00:13<00:26,  8.16it/s]"
     ]
    },
    {
     "name": "stderr",
     "output_type": "stream",
     "text": [
      "\r",
      " 30%|███       | 95/312 [00:14<00:27,  7.83it/s]"
     ]
    },
    {
     "name": "stderr",
     "output_type": "stream",
     "text": [
      "\r",
      " 31%|███       | 96/312 [00:14<00:26,  8.17it/s]"
     ]
    },
    {
     "name": "stderr",
     "output_type": "stream",
     "text": [
      "\r",
      " 31%|███       | 97/312 [00:14<00:38,  5.61it/s]"
     ]
    },
    {
     "name": "stderr",
     "output_type": "stream",
     "text": [
      "\r",
      " 32%|███▏      | 99/312 [00:14<00:27,  7.73it/s]"
     ]
    },
    {
     "name": "stderr",
     "output_type": "stream",
     "text": [
      "\r",
      " 32%|███▏      | 100/312 [00:14<00:30,  7.04it/s]"
     ]
    },
    {
     "name": "stderr",
     "output_type": "stream",
     "text": [
      "\r",
      " 32%|███▏      | 101/312 [00:14<00:29,  7.06it/s]"
     ]
    },
    {
     "name": "stderr",
     "output_type": "stream",
     "text": [
      "\r",
      " 33%|███▎      | 102/312 [00:15<00:33,  6.30it/s]"
     ]
    },
    {
     "name": "stderr",
     "output_type": "stream",
     "text": [
      "\r",
      " 33%|███▎      | 103/312 [00:15<00:33,  6.21it/s]"
     ]
    },
    {
     "name": "stderr",
     "output_type": "stream",
     "text": [
      "\r",
      " 34%|███▍      | 106/312 [00:15<00:22,  9.07it/s]"
     ]
    },
    {
     "name": "stderr",
     "output_type": "stream",
     "text": [
      "\r",
      " 35%|███▍      | 108/312 [00:15<00:20,  9.79it/s]"
     ]
    },
    {
     "name": "stderr",
     "output_type": "stream",
     "text": [
      "\r",
      " 35%|███▍      | 109/312 [00:16<00:29,  6.86it/s]"
     ]
    },
    {
     "name": "stderr",
     "output_type": "stream",
     "text": [
      "\r",
      " 35%|███▌      | 110/312 [00:16<00:32,  6.31it/s]"
     ]
    },
    {
     "name": "stderr",
     "output_type": "stream",
     "text": [
      "\r",
      " 36%|███▌      | 111/312 [00:16<00:29,  6.89it/s]"
     ]
    },
    {
     "name": "stderr",
     "output_type": "stream",
     "text": [
      "\r",
      " 36%|███▌      | 113/312 [00:16<00:25,  7.81it/s]"
     ]
    },
    {
     "name": "stderr",
     "output_type": "stream",
     "text": [
      "\r",
      " 37%|███▋      | 114/312 [00:17<00:40,  4.92it/s]"
     ]
    },
    {
     "name": "stderr",
     "output_type": "stream",
     "text": [
      "\r",
      " 38%|███▊      | 117/312 [00:17<00:26,  7.45it/s]"
     ]
    },
    {
     "name": "stderr",
     "output_type": "stream",
     "text": [
      "\r",
      " 38%|███▊      | 118/312 [00:17<00:25,  7.67it/s]"
     ]
    },
    {
     "name": "stderr",
     "output_type": "stream",
     "text": [
      "\r",
      " 38%|███▊      | 119/312 [00:17<00:30,  6.39it/s]"
     ]
    },
    {
     "name": "stderr",
     "output_type": "stream",
     "text": [
      "\r",
      " 39%|███▉      | 121/312 [00:17<00:24,  7.74it/s]"
     ]
    },
    {
     "name": "stderr",
     "output_type": "stream",
     "text": [
      "\r",
      " 39%|███▉      | 122/312 [00:17<00:24,  7.65it/s]"
     ]
    },
    {
     "name": "stderr",
     "output_type": "stream",
     "text": [
      "\r",
      " 39%|███▉      | 123/312 [00:18<00:30,  6.24it/s]"
     ]
    },
    {
     "name": "stderr",
     "output_type": "stream",
     "text": [
      "\r",
      " 40%|███▉      | 124/312 [00:18<00:34,  5.45it/s]"
     ]
    },
    {
     "name": "stderr",
     "output_type": "stream",
     "text": [
      "\r",
      " 41%|████      | 127/312 [00:18<00:19,  9.42it/s]"
     ]
    },
    {
     "name": "stderr",
     "output_type": "stream",
     "text": [
      "\r",
      " 41%|████▏     | 129/312 [00:18<00:16, 10.84it/s]"
     ]
    },
    {
     "name": "stderr",
     "output_type": "stream",
     "text": [
      "\r",
      " 42%|████▏     | 131/312 [00:18<00:21,  8.39it/s]"
     ]
    },
    {
     "name": "stderr",
     "output_type": "stream",
     "text": [
      "\r",
      " 43%|████▎     | 133/312 [00:19<00:22,  7.86it/s]"
     ]
    },
    {
     "name": "stderr",
     "output_type": "stream",
     "text": [
      "\r",
      " 43%|████▎     | 135/312 [00:19<00:19,  9.26it/s]"
     ]
    },
    {
     "name": "stderr",
     "output_type": "stream",
     "text": [
      "\r",
      " 44%|████▍     | 137/312 [00:19<00:23,  7.43it/s]"
     ]
    },
    {
     "name": "stderr",
     "output_type": "stream",
     "text": [
      "\r",
      " 44%|████▍     | 138/312 [00:19<00:25,  6.93it/s]"
     ]
    },
    {
     "name": "stderr",
     "output_type": "stream",
     "text": [
      "\r",
      " 45%|████▍     | 139/312 [00:20<00:30,  5.61it/s]"
     ]
    },
    {
     "name": "stderr",
     "output_type": "stream",
     "text": [
      "\r",
      " 45%|████▌     | 141/312 [00:20<00:22,  7.52it/s]"
     ]
    },
    {
     "name": "stderr",
     "output_type": "stream",
     "text": [
      "\r",
      " 46%|████▌     | 143/312 [00:20<00:29,  5.71it/s]"
     ]
    },
    {
     "name": "stderr",
     "output_type": "stream",
     "text": [
      "\r",
      " 46%|████▌     | 144/312 [00:21<00:32,  5.24it/s]"
     ]
    },
    {
     "name": "stderr",
     "output_type": "stream",
     "text": [
      "\r",
      " 46%|████▋     | 145/312 [00:21<00:34,  4.82it/s]"
     ]
    },
    {
     "name": "stderr",
     "output_type": "stream",
     "text": [
      "\r",
      " 47%|████▋     | 146/312 [00:21<00:30,  5.36it/s]"
     ]
    },
    {
     "name": "stderr",
     "output_type": "stream",
     "text": [
      "\r",
      " 47%|████▋     | 147/312 [00:21<00:36,  4.51it/s]"
     ]
    },
    {
     "name": "stderr",
     "output_type": "stream",
     "text": [
      "\r",
      " 48%|████▊     | 149/312 [00:22<00:29,  5.49it/s]"
     ]
    },
    {
     "name": "stderr",
     "output_type": "stream",
     "text": [
      "\r",
      " 48%|████▊     | 150/312 [00:22<00:28,  5.69it/s]"
     ]
    },
    {
     "name": "stderr",
     "output_type": "stream",
     "text": [
      "\r",
      " 48%|████▊     | 151/312 [00:22<00:31,  5.04it/s]"
     ]
    },
    {
     "name": "stderr",
     "output_type": "stream",
     "text": [
      "\r",
      " 49%|████▉     | 153/312 [00:22<00:28,  5.59it/s]"
     ]
    },
    {
     "name": "stderr",
     "output_type": "stream",
     "text": [
      "\r",
      " 50%|█████     | 157/312 [00:23<00:17,  8.71it/s]"
     ]
    },
    {
     "name": "stderr",
     "output_type": "stream",
     "text": [
      "\r",
      " 51%|█████     | 158/312 [00:23<00:23,  6.47it/s]"
     ]
    },
    {
     "name": "stderr",
     "output_type": "stream",
     "text": [
      "\r",
      " 51%|█████▏    | 160/312 [00:23<00:18,  8.10it/s]"
     ]
    },
    {
     "name": "stderr",
     "output_type": "stream",
     "text": [
      "\r",
      " 52%|█████▏    | 163/312 [00:23<00:14, 10.01it/s]"
     ]
    },
    {
     "name": "stderr",
     "output_type": "stream",
     "text": [
      "\r",
      " 53%|█████▎    | 165/312 [00:23<00:14, 10.15it/s]"
     ]
    },
    {
     "name": "stderr",
     "output_type": "stream",
     "text": [
      "\r",
      " 54%|█████▎    | 167/312 [00:24<00:23,  6.21it/s]"
     ]
    },
    {
     "name": "stderr",
     "output_type": "stream",
     "text": [
      "\r",
      " 54%|█████▍    | 169/312 [00:24<00:18,  7.69it/s]"
     ]
    },
    {
     "name": "stderr",
     "output_type": "stream",
     "text": [
      "\r",
      " 55%|█████▍    | 171/312 [00:25<00:20,  6.99it/s]"
     ]
    },
    {
     "name": "stderr",
     "output_type": "stream",
     "text": [
      "\r",
      " 55%|█████▌    | 173/312 [00:25<00:19,  7.11it/s]"
     ]
    },
    {
     "name": "stderr",
     "output_type": "stream",
     "text": [
      "\r",
      " 56%|█████▌    | 174/312 [00:25<00:19,  7.17it/s]"
     ]
    },
    {
     "name": "stderr",
     "output_type": "stream",
     "text": [
      "\r",
      " 56%|█████▌    | 175/312 [00:25<00:18,  7.39it/s]"
     ]
    },
    {
     "name": "stderr",
     "output_type": "stream",
     "text": [
      "\r",
      " 57%|█████▋    | 177/312 [00:25<00:17,  7.58it/s]"
     ]
    },
    {
     "name": "stderr",
     "output_type": "stream",
     "text": [
      "\r",
      " 57%|█████▋    | 178/312 [00:25<00:18,  7.39it/s]"
     ]
    },
    {
     "name": "stderr",
     "output_type": "stream",
     "text": [
      "\r",
      " 58%|█████▊    | 180/312 [00:26<00:16,  8.20it/s]"
     ]
    },
    {
     "name": "stderr",
     "output_type": "stream",
     "text": [
      "\r",
      " 58%|█████▊    | 181/312 [00:26<00:18,  7.11it/s]"
     ]
    },
    {
     "name": "stderr",
     "output_type": "stream",
     "text": [
      "\r",
      " 58%|█████▊    | 182/312 [00:26<00:26,  4.88it/s]"
     ]
    },
    {
     "name": "stderr",
     "output_type": "stream",
     "text": [
      "\r",
      " 59%|█████▉    | 184/312 [00:27<00:24,  5.24it/s]"
     ]
    },
    {
     "name": "stderr",
     "output_type": "stream",
     "text": [
      "\r",
      " 60%|█████▉    | 187/312 [00:27<00:16,  7.45it/s]"
     ]
    },
    {
     "name": "stderr",
     "output_type": "stream",
     "text": [
      "\r",
      " 60%|██████    | 188/312 [00:27<00:19,  6.37it/s]"
     ]
    },
    {
     "name": "stderr",
     "output_type": "stream",
     "text": [
      "\r",
      " 61%|██████    | 191/312 [00:27<00:14,  8.42it/s]"
     ]
    },
    {
     "name": "stderr",
     "output_type": "stream",
     "text": [
      "\r",
      " 62%|██████▏   | 193/312 [00:28<00:15,  7.54it/s]"
     ]
    },
    {
     "name": "stderr",
     "output_type": "stream",
     "text": [
      "\r",
      " 62%|██████▏   | 194/312 [00:28<00:19,  6.15it/s]"
     ]
    },
    {
     "name": "stderr",
     "output_type": "stream",
     "text": [
      "\r",
      " 62%|██████▎   | 195/312 [00:28<00:18,  6.35it/s]"
     ]
    },
    {
     "name": "stderr",
     "output_type": "stream",
     "text": [
      "\r",
      " 63%|██████▎   | 198/312 [00:28<00:12,  9.12it/s]"
     ]
    },
    {
     "name": "stderr",
     "output_type": "stream",
     "text": [
      "\r",
      " 64%|██████▍   | 200/312 [00:29<00:15,  7.20it/s]"
     ]
    },
    {
     "name": "stderr",
     "output_type": "stream",
     "text": [
      "\r",
      " 64%|██████▍   | 201/312 [00:29<00:15,  7.30it/s]"
     ]
    },
    {
     "name": "stderr",
     "output_type": "stream",
     "text": [
      "\r",
      " 65%|██████▌   | 203/312 [00:29<00:12,  8.66it/s]"
     ]
    },
    {
     "name": "stderr",
     "output_type": "stream",
     "text": [
      "\r",
      " 66%|██████▌   | 205/312 [00:29<00:13,  7.93it/s]"
     ]
    },
    {
     "name": "stderr",
     "output_type": "stream",
     "text": [
      "\r",
      " 66%|██████▋   | 207/312 [00:30<00:13,  7.53it/s]"
     ]
    },
    {
     "name": "stderr",
     "output_type": "stream",
     "text": [
      "\r",
      " 67%|██████▋   | 209/312 [00:30<00:13,  7.68it/s]"
     ]
    },
    {
     "name": "stderr",
     "output_type": "stream",
     "text": [
      "\r",
      " 68%|██████▊   | 211/312 [00:30<00:14,  7.11it/s]"
     ]
    },
    {
     "name": "stderr",
     "output_type": "stream",
     "text": [
      "\r",
      " 68%|██████▊   | 213/312 [00:31<00:19,  5.21it/s]"
     ]
    },
    {
     "name": "stderr",
     "output_type": "stream",
     "text": [
      "\r",
      " 69%|██████▉   | 215/312 [00:31<00:16,  5.96it/s]"
     ]
    },
    {
     "name": "stderr",
     "output_type": "stream",
     "text": [
      "\r",
      " 69%|██████▉   | 216/312 [00:31<00:18,  5.15it/s]"
     ]
    },
    {
     "name": "stderr",
     "output_type": "stream",
     "text": [
      "\r",
      " 70%|██████▉   | 218/312 [00:31<00:14,  6.49it/s]"
     ]
    },
    {
     "name": "stderr",
     "output_type": "stream",
     "text": [
      "\r",
      " 70%|███████   | 219/312 [00:32<00:16,  5.64it/s]"
     ]
    },
    {
     "name": "stderr",
     "output_type": "stream",
     "text": [
      "\r",
      " 71%|███████   | 220/312 [00:32<00:16,  5.69it/s]"
     ]
    },
    {
     "name": "stderr",
     "output_type": "stream",
     "text": [
      "\r",
      " 71%|███████▏  | 223/312 [00:32<00:09,  9.21it/s]"
     ]
    },
    {
     "name": "stderr",
     "output_type": "stream",
     "text": [
      "\r",
      " 72%|███████▏  | 225/312 [00:32<00:10,  8.12it/s]"
     ]
    },
    {
     "name": "stderr",
     "output_type": "stream",
     "text": [
      "\r",
      " 73%|███████▎  | 227/312 [00:33<00:12,  6.95it/s]"
     ]
    },
    {
     "name": "stderr",
     "output_type": "stream",
     "text": [
      "\r",
      " 73%|███████▎  | 229/312 [00:33<00:10,  8.23it/s]"
     ]
    },
    {
     "name": "stderr",
     "output_type": "stream",
     "text": [
      "\r",
      " 74%|███████▍  | 231/312 [00:33<00:08,  9.43it/s]"
     ]
    },
    {
     "name": "stderr",
     "output_type": "stream",
     "text": [
      "\r",
      " 75%|███████▍  | 233/312 [00:33<00:09,  8.78it/s]"
     ]
    },
    {
     "name": "stderr",
     "output_type": "stream",
     "text": [
      "\r",
      " 75%|███████▌  | 235/312 [00:33<00:08,  9.06it/s]"
     ]
    },
    {
     "name": "stderr",
     "output_type": "stream",
     "text": [
      "\r",
      " 76%|███████▌  | 237/312 [00:34<00:14,  5.10it/s]"
     ]
    },
    {
     "name": "stderr",
     "output_type": "stream",
     "text": [
      "\r",
      " 77%|███████▋  | 241/312 [00:34<00:08,  8.47it/s]"
     ]
    },
    {
     "name": "stderr",
     "output_type": "stream",
     "text": [
      "\r",
      " 78%|███████▊  | 243/312 [00:35<00:09,  7.49it/s]"
     ]
    },
    {
     "name": "stderr",
     "output_type": "stream",
     "text": [
      "\r",
      " 79%|███████▊  | 245/312 [00:35<00:08,  7.69it/s]"
     ]
    },
    {
     "name": "stderr",
     "output_type": "stream",
     "text": [
      "\r",
      " 79%|███████▉  | 247/312 [00:35<00:10,  6.01it/s]"
     ]
    },
    {
     "name": "stderr",
     "output_type": "stream",
     "text": [
      "\r",
      " 80%|███████▉  | 249/312 [00:36<00:10,  6.05it/s]"
     ]
    },
    {
     "name": "stderr",
     "output_type": "stream",
     "text": [
      "\r",
      " 80%|████████  | 251/312 [00:36<00:08,  6.87it/s]"
     ]
    },
    {
     "name": "stderr",
     "output_type": "stream",
     "text": [
      "\r",
      " 81%|████████  | 252/312 [00:36<00:09,  6.28it/s]"
     ]
    },
    {
     "name": "stderr",
     "output_type": "stream",
     "text": [
      "\r",
      " 81%|████████▏ | 254/312 [00:36<00:07,  7.73it/s]"
     ]
    },
    {
     "name": "stderr",
     "output_type": "stream",
     "text": [
      "\r",
      " 82%|████████▏ | 256/312 [00:37<00:07,  7.24it/s]"
     ]
    },
    {
     "name": "stderr",
     "output_type": "stream",
     "text": [
      "\r",
      " 83%|████████▎ | 258/312 [00:37<00:07,  7.34it/s]"
     ]
    },
    {
     "name": "stderr",
     "output_type": "stream",
     "text": [
      "\r",
      " 83%|████████▎ | 260/312 [00:37<00:07,  6.53it/s]"
     ]
    },
    {
     "name": "stderr",
     "output_type": "stream",
     "text": [
      "\r",
      " 84%|████████▎ | 261/312 [00:37<00:07,  6.94it/s]"
     ]
    },
    {
     "name": "stderr",
     "output_type": "stream",
     "text": [
      "\r",
      " 84%|████████▍ | 262/312 [00:37<00:07,  6.93it/s]"
     ]
    },
    {
     "name": "stderr",
     "output_type": "stream",
     "text": [
      "\r",
      " 85%|████████▍ | 264/312 [00:38<00:06,  7.99it/s]"
     ]
    },
    {
     "name": "stderr",
     "output_type": "stream",
     "text": [
      "\r",
      " 85%|████████▍ | 265/312 [00:38<00:05,  7.91it/s]"
     ]
    },
    {
     "name": "stderr",
     "output_type": "stream",
     "text": [
      "\r",
      " 85%|████████▌ | 266/312 [00:38<00:08,  5.61it/s]"
     ]
    },
    {
     "name": "stderr",
     "output_type": "stream",
     "text": [
      "\r",
      " 86%|████████▌ | 268/312 [00:38<00:06,  7.13it/s]"
     ]
    },
    {
     "name": "stderr",
     "output_type": "stream",
     "text": [
      "\r",
      " 86%|████████▌ | 269/312 [00:38<00:06,  7.10it/s]"
     ]
    },
    {
     "name": "stderr",
     "output_type": "stream",
     "text": [
      "\r",
      " 87%|████████▋ | 270/312 [00:39<00:07,  5.45it/s]"
     ]
    },
    {
     "name": "stderr",
     "output_type": "stream",
     "text": [
      "\r",
      " 87%|████████▋ | 272/312 [00:39<00:05,  7.40it/s]"
     ]
    },
    {
     "name": "stderr",
     "output_type": "stream",
     "text": [
      "\r",
      " 88%|████████▊ | 273/312 [00:39<00:05,  7.09it/s]"
     ]
    },
    {
     "name": "stderr",
     "output_type": "stream",
     "text": [
      "\r",
      " 88%|████████▊ | 274/312 [00:39<00:05,  6.94it/s]"
     ]
    },
    {
     "name": "stderr",
     "output_type": "stream",
     "text": [
      "\r",
      " 88%|████████▊ | 275/312 [00:39<00:05,  6.24it/s]"
     ]
    },
    {
     "name": "stderr",
     "output_type": "stream",
     "text": [
      "\r",
      " 88%|████████▊ | 276/312 [00:40<00:05,  6.64it/s]"
     ]
    },
    {
     "name": "stderr",
     "output_type": "stream",
     "text": [
      "\r",
      " 89%|████████▉ | 277/312 [00:40<00:05,  5.97it/s]"
     ]
    },
    {
     "name": "stderr",
     "output_type": "stream",
     "text": [
      "\r",
      " 89%|████████▉ | 278/312 [00:40<00:07,  4.54it/s]"
     ]
    },
    {
     "name": "stderr",
     "output_type": "stream",
     "text": [
      "\r",
      " 89%|████████▉ | 279/312 [00:40<00:06,  4.76it/s]"
     ]
    },
    {
     "name": "stderr",
     "output_type": "stream",
     "text": [
      "\r",
      " 90%|█████████ | 281/312 [00:41<00:05,  5.81it/s]"
     ]
    },
    {
     "name": "stderr",
     "output_type": "stream",
     "text": [
      "\r",
      " 90%|█████████ | 282/312 [00:41<00:04,  6.10it/s]"
     ]
    },
    {
     "name": "stderr",
     "output_type": "stream",
     "text": [
      "\r",
      " 91%|█████████ | 284/312 [00:41<00:03,  8.45it/s]"
     ]
    },
    {
     "name": "stderr",
     "output_type": "stream",
     "text": [
      "\r",
      " 92%|█████████▏| 286/312 [00:41<00:02,  9.09it/s]"
     ]
    },
    {
     "name": "stderr",
     "output_type": "stream",
     "text": [
      "\r",
      " 92%|█████████▏| 288/312 [00:41<00:03,  7.94it/s]"
     ]
    },
    {
     "name": "stderr",
     "output_type": "stream",
     "text": [
      "\r",
      " 93%|█████████▎| 289/312 [00:42<00:03,  5.80it/s]"
     ]
    },
    {
     "name": "stderr",
     "output_type": "stream",
     "text": [
      "\r",
      " 93%|█████████▎| 291/312 [00:42<00:02,  7.63it/s]"
     ]
    },
    {
     "name": "stderr",
     "output_type": "stream",
     "text": [
      "\r",
      " 94%|█████████▍| 293/312 [00:42<00:02,  6.49it/s]"
     ]
    },
    {
     "name": "stderr",
     "output_type": "stream",
     "text": [
      "\r",
      " 94%|█████████▍| 294/312 [00:42<00:03,  5.71it/s]"
     ]
    },
    {
     "name": "stderr",
     "output_type": "stream",
     "text": [
      "\r",
      " 95%|█████████▍| 295/312 [00:43<00:02,  5.82it/s]"
     ]
    },
    {
     "name": "stderr",
     "output_type": "stream",
     "text": [
      "\r",
      " 95%|█████████▌| 297/312 [00:43<00:02,  6.32it/s]"
     ]
    },
    {
     "name": "stderr",
     "output_type": "stream",
     "text": [
      "\r",
      " 96%|█████████▌| 298/312 [00:43<00:02,  6.08it/s]"
     ]
    },
    {
     "name": "stderr",
     "output_type": "stream",
     "text": [
      "\r",
      " 96%|█████████▌| 300/312 [00:43<00:01,  8.02it/s]"
     ]
    },
    {
     "name": "stderr",
     "output_type": "stream",
     "text": [
      "\r",
      " 97%|█████████▋| 302/312 [00:44<00:01,  7.26it/s]"
     ]
    },
    {
     "name": "stderr",
     "output_type": "stream",
     "text": [
      "\r",
      " 97%|█████████▋| 304/312 [00:44<00:01,  6.64it/s]"
     ]
    },
    {
     "name": "stderr",
     "output_type": "stream",
     "text": [
      "\r",
      " 98%|█████████▊| 307/312 [00:44<00:00,  8.53it/s]"
     ]
    },
    {
     "name": "stderr",
     "output_type": "stream",
     "text": [
      "\r",
      " 99%|█████████▊| 308/312 [00:44<00:00,  8.46it/s]"
     ]
    },
    {
     "name": "stderr",
     "output_type": "stream",
     "text": [
      "\r",
      " 99%|█████████▉| 309/312 [00:44<00:00,  7.52it/s]"
     ]
    },
    {
     "name": "stderr",
     "output_type": "stream",
     "text": [
      "\r",
      " 99%|█████████▉| 310/312 [00:45<00:00,  7.44it/s]"
     ]
    },
    {
     "name": "stderr",
     "output_type": "stream",
     "text": [
      "\r",
      "100%|█████████▉| 311/312 [00:45<00:00,  4.03it/s]"
     ]
    },
    {
     "name": "stderr",
     "output_type": "stream",
     "text": [
      "\r",
      "100%|██████████| 312/312 [00:49<00:00,  1.13s/it]"
     ]
    },
    {
     "name": "stderr",
     "output_type": "stream",
     "text": [
      "\r",
      "100%|██████████| 312/312 [00:49<00:00,  6.32it/s]"
     ]
    },
    {
     "name": "stderr",
     "output_type": "stream",
     "text": [
      "\n"
     ]
    },
    {
     "name": "stdout",
     "output_type": "stream",
     "text": [
      "\n",
      "rate limit: 7 \n",
      "Leeftijdsgroep API calls: create: 0, read: 1, update: 312, delete: 0, backoff: 1\n",
      "errors:\n",
      "  503: Service Unavailable: 3\n",
      "[{'Key': 1, 'Timestamp Leeftijdsgroep RIVM': '2021-02-25 15:15'}]\n"
     ]
    },
    {
     "name": "stderr",
     "output_type": "stream",
     "text": [
      "\r",
      "  0%|          | 0/1 [00:00<?, ?it/s]"
     ]
    },
    {
     "name": "stdout",
     "output_type": "stream",
     "text": [
      "1 knack actions ahead\n"
     ]
    },
    {
     "name": "stderr",
     "output_type": "stream",
     "text": [
      "\r",
      "100%|██████████| 1/1 [00:01<00:00,  1.09s/it]"
     ]
    },
    {
     "name": "stderr",
     "output_type": "stream",
     "text": [
      "\r",
      "100%|██████████| 1/1 [00:01<00:00,  1.09s/it]"
     ]
    },
    {
     "name": "stdout",
     "output_type": "stream",
     "text": [
      "\n",
      "rate limit: 7 \n",
      "LaatsteUpdate API calls: create: 0, read: 1, update: 1, delete: 0, backoff: 0\n"
     ]
    },
    {
     "name": "stderr",
     "output_type": "stream",
     "text": [
      "\n"
     ]
    }
   ],
   "source": [
    "if knack:\n",
    "  await knack.publish(tabel.fillna(0).assign(Datum=tabel.Datum.dt.strftime('%Y-%m-%d')), 'Leeftijdsgroep', Cache)"
   ]
  }
 ],
 "metadata": {
  "jupytext": {
   "cell_metadata_filter": "title,-all"
  },
  "kernelspec": {
   "display_name": "Python 3",
   "language": "python",
   "name": "python3"
  },
  "language_info": {
   "codemirror_mode": {
    "name": "ipython",
    "version": 3
   },
   "file_extension": ".py",
   "mimetype": "text/x-python",
   "name": "python",
   "nbconvert_exporter": "python",
   "pygments_lexer": "ipython3",
   "version": "3.9.1"
  },
  "papermill": {
   "default_parameters": {},
   "duration": 69.882247,
   "end_time": "2021-02-26T07:44:48.918150",
   "environment_variables": {},
   "exception": null,
   "input_path": "-",
   "output_path": "LeeftijdsgroepenLandelijk.ipynb",
   "parameters": {},
   "start_time": "2021-02-26T07:43:39.035903",
   "version": "2.3.2"
  }
 },
 "nbformat": 4,
 "nbformat_minor": 5
}