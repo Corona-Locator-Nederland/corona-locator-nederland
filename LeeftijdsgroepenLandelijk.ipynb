{
 "cells": [
  {
   "cell_type": "code",
   "execution_count": 1,
   "id": "95128afd",
   "metadata": {
    "execution": {
     "iopub.execute_input": "2021-09-13T13:32:41.145065Z",
     "iopub.status.busy": "2021-09-13T13:32:41.143690Z",
     "iopub.status.idle": "2021-09-13T13:32:44.910324Z",
     "shell.execute_reply": "2021-09-13T13:32:44.909653Z"
    },
    "lines_to_next_cell": 1,
    "papermill": {
     "duration": 3.78097,
     "end_time": "2021-09-13T13:32:44.910471",
     "exception": false,
     "start_time": "2021-09-13T13:32:41.129501",
     "status": "completed"
    },
    "tags": []
   },
   "outputs": [],
   "source": [
    "from IPython import get_ipython\n",
    "from IPython.core.display import display\n",
    "get_ipython().run_line_magic('load_ext', 'autoreload')\n",
    "get_ipython().run_line_magic('autoreload', '2')\n",
    "get_ipython().run_line_magic('run', 'setup')"
   ]
  },
  {
   "cell_type": "code",
   "execution_count": 2,
   "id": "341fdbdd",
   "metadata": {
    "execution": {
     "iopub.execute_input": "2021-09-13T13:32:44.927856Z",
     "iopub.status.busy": "2021-09-13T13:32:44.925595Z",
     "iopub.status.idle": "2021-09-13T13:39:39.183455Z",
     "shell.execute_reply": "2021-09-13T13:39:39.184135Z"
    },
    "lines_to_next_cell": 1,
    "papermill": {
     "duration": 414.268783,
     "end_time": "2021-09-13T13:39:39.184307",
     "exception": false,
     "start_time": "2021-09-13T13:32:44.915524",
     "status": "completed"
    },
    "tags": [],
    "title": "leeftijdsgroepen: download RIVM data"
   },
   "outputs": [
    {
     "name": "stdout",
     "output_type": "stream",
     "text": [
      "downloading rivm/COVID-19_casus_landelijk-2021-09-13@13-15.csv\n"
     ]
    },
    {
     "name": "stdout",
     "output_type": "stream",
     "text": [
      "rivm COVID-19_casus_landelijk zipping rivm/COVID-19_casus_landelijk-2021-09-13@13-15.csv\n"
     ]
    },
    {
     "name": "stdout",
     "output_type": "stream",
     "text": [
      "loading rivm/COVID-19_casus_landelijk-2021-09-13@13-15.csv.gz\n"
     ]
    },
    {
     "data": {
      "text/html": [
       "<div>\n",
       "<style scoped>\n",
       "    .dataframe tbody tr th:only-of-type {\n",
       "        vertical-align: middle;\n",
       "    }\n",
       "\n",
       "    .dataframe tbody tr th {\n",
       "        vertical-align: top;\n",
       "    }\n",
       "\n",
       "    .dataframe thead th {\n",
       "        text-align: right;\n",
       "    }\n",
       "</style>\n",
       "<table border=\"1\" class=\"dataframe\">\n",
       "  <thead>\n",
       "    <tr style=\"text-align: right;\">\n",
       "      <th></th>\n",
       "      <th>Date_file</th>\n",
       "      <th>Date_statistics</th>\n",
       "      <th>Date_statistics_type</th>\n",
       "      <th>Agegroup</th>\n",
       "      <th>Sex</th>\n",
       "      <th>Province</th>\n",
       "      <th>Hospital_admission</th>\n",
       "      <th>Deceased</th>\n",
       "      <th>Week_of_death</th>\n",
       "      <th>Municipal_health_service</th>\n",
       "    </tr>\n",
       "  </thead>\n",
       "  <tbody>\n",
       "    <tr>\n",
       "      <th>0</th>\n",
       "      <td>2021-09-13 10:00:00</td>\n",
       "      <td>2020-01-01</td>\n",
       "      <td>DOO</td>\n",
       "      <td>40-49</td>\n",
       "      <td>Female</td>\n",
       "      <td>Noord-Holland</td>\n",
       "      <td>No</td>\n",
       "      <td>No</td>\n",
       "      <td>NaN</td>\n",
       "      <td>GGD Amsterdam</td>\n",
       "    </tr>\n",
       "    <tr>\n",
       "      <th>1</th>\n",
       "      <td>2021-09-13 10:00:00</td>\n",
       "      <td>2020-01-01</td>\n",
       "      <td>DOO</td>\n",
       "      <td>50-59</td>\n",
       "      <td>Male</td>\n",
       "      <td>Gelderland</td>\n",
       "      <td>No</td>\n",
       "      <td>No</td>\n",
       "      <td>NaN</td>\n",
       "      <td>Veiligheids- en Gezondheidsregio Gelderland-Mi...</td>\n",
       "    </tr>\n",
       "    <tr>\n",
       "      <th>2</th>\n",
       "      <td>2021-09-13 10:00:00</td>\n",
       "      <td>2020-01-01</td>\n",
       "      <td>DOO</td>\n",
       "      <td>20-29</td>\n",
       "      <td>Female</td>\n",
       "      <td>Zuid-Holland</td>\n",
       "      <td>No</td>\n",
       "      <td>No</td>\n",
       "      <td>NaN</td>\n",
       "      <td>GGD Hollands-Midden</td>\n",
       "    </tr>\n",
       "    <tr>\n",
       "      <th>3</th>\n",
       "      <td>2021-09-13 10:00:00</td>\n",
       "      <td>2020-01-01</td>\n",
       "      <td>DOO</td>\n",
       "      <td>60-69</td>\n",
       "      <td>Female</td>\n",
       "      <td>Noord-Holland</td>\n",
       "      <td>No</td>\n",
       "      <td>No</td>\n",
       "      <td>NaN</td>\n",
       "      <td>GGD Hollands-Noorden</td>\n",
       "    </tr>\n",
       "    <tr>\n",
       "      <th>4</th>\n",
       "      <td>2021-09-13 10:00:00</td>\n",
       "      <td>2020-01-04</td>\n",
       "      <td>DOO</td>\n",
       "      <td>10-19</td>\n",
       "      <td>Female</td>\n",
       "      <td>Gelderland</td>\n",
       "      <td>Unknown</td>\n",
       "      <td>No</td>\n",
       "      <td>NaN</td>\n",
       "      <td>GGD Gelderland-Zuid</td>\n",
       "    </tr>\n",
       "  </tbody>\n",
       "</table>\n",
       "</div>"
      ],
      "text/plain": [
       "             Date_file Date_statistics Date_statistics_type Agegroup     Sex  \\\n",
       "0  2021-09-13 10:00:00      2020-01-01                  DOO    40-49  Female   \n",
       "1  2021-09-13 10:00:00      2020-01-01                  DOO    50-59    Male   \n",
       "2  2021-09-13 10:00:00      2020-01-01                  DOO    20-29  Female   \n",
       "3  2021-09-13 10:00:00      2020-01-01                  DOO    60-69  Female   \n",
       "4  2021-09-13 10:00:00      2020-01-04                  DOO    10-19  Female   \n",
       "\n",
       "        Province Hospital_admission Deceased  Week_of_death  \\\n",
       "0  Noord-Holland                 No       No            NaN   \n",
       "1     Gelderland                 No       No            NaN   \n",
       "2   Zuid-Holland                 No       No            NaN   \n",
       "3  Noord-Holland                 No       No            NaN   \n",
       "4     Gelderland            Unknown       No            NaN   \n",
       "\n",
       "                            Municipal_health_service  \n",
       "0                                      GGD Amsterdam  \n",
       "1  Veiligheids- en Gezondheidsregio Gelderland-Mi...  \n",
       "2                                GGD Hollands-Midden  \n",
       "3                               GGD Hollands-Noorden  \n",
       "4                                GGD Gelderland-Zuid  "
      ]
     },
     "metadata": {},
     "output_type": "display_data"
    }
   ],
   "source": [
    "#leeftijdsgroepen = SimpleNamespace()\n",
    "@run\n",
    "def cell():\n",
    "  global rivm\n",
    "  rivm = RIVM.csv('COVID-19_casus_landelijk')\n",
    "  display(rivm.head())"
   ]
  },
  {
   "cell_type": "code",
   "execution_count": 3,
   "id": "e56480c4",
   "metadata": {
    "execution": {
     "iopub.execute_input": "2021-09-13T13:39:39.202605Z",
     "iopub.status.busy": "2021-09-13T13:39:39.202012Z",
     "iopub.status.idle": "2021-09-13T13:39:43.872579Z",
     "shell.execute_reply": "2021-09-13T13:39:43.872029Z"
    },
    "lines_to_next_cell": 1,
    "papermill": {
     "duration": 4.680867,
     "end_time": "2021-09-13T13:39:43.872712",
     "exception": false,
     "start_time": "2021-09-13T13:39:39.191845",
     "status": "completed"
    },
    "tags": [],
    "title": "Download de bevolkings cijfers van CBS, uitgesplitst op de leeftijds categorien in de dataset van het RIVM"
   },
   "outputs": [],
   "source": [
    "@run\n",
    "def cell():\n",
    "  global bevolking\n",
    "  bevolking = CBS.bevolking(leeftijdsgroepen=True)"
   ]
  },
  {
   "cell_type": "code",
   "execution_count": 4,
   "id": "4f607874",
   "metadata": {
    "execution": {
     "iopub.execute_input": "2021-09-13T13:39:43.904502Z",
     "iopub.status.busy": "2021-09-13T13:39:43.898723Z",
     "iopub.status.idle": "2021-09-13T13:39:52.812998Z",
     "shell.execute_reply": "2021-09-13T13:39:52.812489Z"
    },
    "lines_to_next_cell": 1,
    "papermill": {
     "duration": 8.934154,
     "end_time": "2021-09-13T13:39:52.813146",
     "exception": false,
     "start_time": "2021-09-13T13:39:43.878992",
     "status": "completed"
    },
    "tags": [],
    "title": "leeftijdsgroepen: prepareer tabel"
   },
   "outputs": [
    {
     "data": {
      "text/html": [
       "<style type=\"text/css\">\n",
       "#T_14664_row0_col7, #T_14664_row2_col10 {\n",
       "  background-color: #3c508b;\n",
       "  color: #f1f1f1;\n",
       "}\n",
       "#T_14664_row0_col8, #T_14664_row1_col8, #T_14664_row2_col9, #T_14664_row3_col9, #T_14664_row4_col9 {\n",
       "  background-color: #440154;\n",
       "  color: #f1f1f1;\n",
       "}\n",
       "#T_14664_row0_col9 {\n",
       "  background-color: #414287;\n",
       "  color: #f1f1f1;\n",
       "}\n",
       "#T_14664_row0_col10, #T_14664_row4_col8 {\n",
       "  background-color: #365d8d;\n",
       "  color: #f1f1f1;\n",
       "}\n",
       "#T_14664_row0_col11 {\n",
       "  background-color: #297b8e;\n",
       "  color: #f1f1f1;\n",
       "}\n",
       "#T_14664_row0_col12 {\n",
       "  background-color: #21a585;\n",
       "  color: #f1f1f1;\n",
       "}\n",
       "#T_14664_row0_col13 {\n",
       "  background-color: #60ca60;\n",
       "  color: #000000;\n",
       "}\n",
       "#T_14664_row0_col14 {\n",
       "  background-color: #a8db34;\n",
       "  color: #000000;\n",
       "}\n",
       "#T_14664_row0_col15 {\n",
       "  background-color: #cae11f;\n",
       "  color: #000000;\n",
       "}\n",
       "#T_14664_row0_col16, #T_14664_row2_col16 {\n",
       "  background-color: #f1e51d;\n",
       "  color: #000000;\n",
       "}\n",
       "#T_14664_row0_col17, #T_14664_row1_col17, #T_14664_row2_col17, #T_14664_row3_col17, #T_14664_row4_col17 {\n",
       "  background-color: #fde725;\n",
       "  color: #000000;\n",
       "}\n",
       "#T_14664_row1_col7 {\n",
       "  background-color: #2f6c8e;\n",
       "  color: #f1f1f1;\n",
       "}\n",
       "#T_14664_row1_col9 {\n",
       "  background-color: #472f7d;\n",
       "  color: #f1f1f1;\n",
       "}\n",
       "#T_14664_row1_col10 {\n",
       "  background-color: #404588;\n",
       "  color: #f1f1f1;\n",
       "}\n",
       "#T_14664_row1_col11 {\n",
       "  background-color: #297a8e;\n",
       "  color: #f1f1f1;\n",
       "}\n",
       "#T_14664_row1_col12 {\n",
       "  background-color: #1fa187;\n",
       "  color: #f1f1f1;\n",
       "}\n",
       "#T_14664_row1_col13 {\n",
       "  background-color: #58c765;\n",
       "  color: #000000;\n",
       "}\n",
       "#T_14664_row1_col14 {\n",
       "  background-color: #aadc32;\n",
       "  color: #000000;\n",
       "}\n",
       "#T_14664_row1_col15 {\n",
       "  background-color: #d0e11c;\n",
       "  color: #000000;\n",
       "}\n",
       "#T_14664_row1_col16 {\n",
       "  background-color: #f6e620;\n",
       "  color: #000000;\n",
       "}\n",
       "#T_14664_row2_col7 {\n",
       "  background-color: #1f9f88;\n",
       "  color: #f1f1f1;\n",
       "}\n",
       "#T_14664_row2_col8 {\n",
       "  background-color: #472c7a;\n",
       "  color: #f1f1f1;\n",
       "}\n",
       "#T_14664_row2_col11, #T_14664_row4_col10 {\n",
       "  background-color: #277f8e;\n",
       "  color: #f1f1f1;\n",
       "}\n",
       "#T_14664_row2_col12 {\n",
       "  background-color: #1fa287;\n",
       "  color: #f1f1f1;\n",
       "}\n",
       "#T_14664_row2_col13 {\n",
       "  background-color: #50c46a;\n",
       "  color: #000000;\n",
       "}\n",
       "#T_14664_row2_col14 {\n",
       "  background-color: #a5db36;\n",
       "  color: #000000;\n",
       "}\n",
       "#T_14664_row2_col15 {\n",
       "  background-color: #cde11d;\n",
       "  color: #000000;\n",
       "}\n",
       "#T_14664_row3_col7 {\n",
       "  background-color: #48c16e;\n",
       "  color: #f1f1f1;\n",
       "}\n",
       "#T_14664_row3_col8 {\n",
       "  background-color: #443b84;\n",
       "  color: #f1f1f1;\n",
       "}\n",
       "#T_14664_row3_col10 {\n",
       "  background-color: #34618d;\n",
       "  color: #f1f1f1;\n",
       "}\n",
       "#T_14664_row3_col11 {\n",
       "  background-color: #228c8d;\n",
       "  color: #f1f1f1;\n",
       "}\n",
       "#T_14664_row3_col12 {\n",
       "  background-color: #22a884;\n",
       "  color: #f1f1f1;\n",
       "}\n",
       "#T_14664_row3_col13 {\n",
       "  background-color: #6ccd5a;\n",
       "  color: #000000;\n",
       "}\n",
       "#T_14664_row3_col14 {\n",
       "  background-color: #b2dd2d;\n",
       "  color: #000000;\n",
       "}\n",
       "#T_14664_row3_col15 {\n",
       "  background-color: #d5e21a;\n",
       "  color: #000000;\n",
       "}\n",
       "#T_14664_row3_col16, #T_14664_row4_col16 {\n",
       "  background-color: #f4e61e;\n",
       "  color: #000000;\n",
       "}\n",
       "#T_14664_row4_col7 {\n",
       "  background-color: #73d056;\n",
       "  color: #000000;\n",
       "}\n",
       "#T_14664_row4_col11 {\n",
       "  background-color: #22a785;\n",
       "  color: #f1f1f1;\n",
       "}\n",
       "#T_14664_row4_col12 {\n",
       "  background-color: #2db27d;\n",
       "  color: #f1f1f1;\n",
       "}\n",
       "#T_14664_row4_col13 {\n",
       "  background-color: #77d153;\n",
       "  color: #000000;\n",
       "}\n",
       "#T_14664_row4_col14 {\n",
       "  background-color: #c5e021;\n",
       "  color: #000000;\n",
       "}\n",
       "#T_14664_row4_col15 {\n",
       "  background-color: #dde318;\n",
       "  color: #000000;\n",
       "}\n",
       "</style>\n",
       "<table id=\"T_14664_\">\n",
       "  <thead>\n",
       "    <tr>\n",
       "      <th class=\"blank level0\" >&nbsp;</th>\n",
       "      <th class=\"col_heading level0 col0\" >Key</th>\n",
       "      <th class=\"col_heading level0 col1\" >Weken terug</th>\n",
       "      <th class=\"col_heading level0 col2\" >Datum</th>\n",
       "      <th class=\"col_heading level0 col3\" >Periode</th>\n",
       "      <th class=\"col_heading level0 col4\" >Gemiddelde leeftijd</th>\n",
       "      <th class=\"col_heading level0 col5\" >Totaal</th>\n",
       "      <th class=\"col_heading level0 col6\" >Type</th>\n",
       "      <th class=\"col_heading level0 col7\" >0-9</th>\n",
       "      <th class=\"col_heading level0 col8\" >10-19</th>\n",
       "      <th class=\"col_heading level0 col9\" >20-29</th>\n",
       "      <th class=\"col_heading level0 col10\" >30-39</th>\n",
       "      <th class=\"col_heading level0 col11\" >40-49</th>\n",
       "      <th class=\"col_heading level0 col12\" >50-59</th>\n",
       "      <th class=\"col_heading level0 col13\" >60-69</th>\n",
       "      <th class=\"col_heading level0 col14\" >70-79</th>\n",
       "      <th class=\"col_heading level0 col15\" >80-89</th>\n",
       "      <th class=\"col_heading level0 col16\" >90+</th>\n",
       "      <th class=\"col_heading level0 col17\" >Onbekend</th>\n",
       "      <th class=\"col_heading level0 col18\" >c0-9</th>\n",
       "      <th class=\"col_heading level0 col19\" >c10-19</th>\n",
       "      <th class=\"col_heading level0 col20\" >c20-29</th>\n",
       "      <th class=\"col_heading level0 col21\" >c30-39</th>\n",
       "      <th class=\"col_heading level0 col22\" >c40-49</th>\n",
       "      <th class=\"col_heading level0 col23\" >c50-59</th>\n",
       "      <th class=\"col_heading level0 col24\" >c60-69</th>\n",
       "      <th class=\"col_heading level0 col25\" >c70-79</th>\n",
       "      <th class=\"col_heading level0 col26\" >c80-89</th>\n",
       "      <th class=\"col_heading level0 col27\" >c90+</th>\n",
       "      <th class=\"col_heading level0 col28\" >cOnbekend</th>\n",
       "    </tr>\n",
       "  </thead>\n",
       "  <tbody>\n",
       "    <tr>\n",
       "      <th id=\"T_14664_level0_row0\" class=\"row_heading level0 row0\" >0</th>\n",
       "      <td id=\"T_14664_row0_col0\" class=\"data row0 col0\" >p000</td>\n",
       "      <td id=\"T_14664_row0_col1\" class=\"data row0 col1\" >0</td>\n",
       "      <td id=\"T_14664_row0_col2\" class=\"data row0 col2\" >2021-09-13 00:00:00</td>\n",
       "      <td id=\"T_14664_row0_col3\" class=\"data row0 col3\" >07/09-13/09</td>\n",
       "      <td id=\"T_14664_row0_col4\" class=\"data row0 col4\" >31.000000</td>\n",
       "      <td id=\"T_14664_row0_col5\" class=\"data row0 col5\" >8943.000000</td>\n",
       "      <td id=\"T_14664_row0_col6\" class=\"data row0 col6\" >Positief getest</td>\n",
       "      <td id=\"T_14664_row0_col7\" class=\"data row0 col7\" >1423.000000</td>\n",
       "      <td id=\"T_14664_row0_col8\" class=\"data row0 col8\" >1886.000000</td>\n",
       "      <td id=\"T_14664_row0_col9\" class=\"data row0 col9\" >1513.000000</td>\n",
       "      <td id=\"T_14664_row0_col10\" class=\"data row0 col10\" >1340.000000</td>\n",
       "      <td id=\"T_14664_row0_col11\" class=\"data row0 col11\" >1112.000000</td>\n",
       "      <td id=\"T_14664_row0_col12\" class=\"data row0 col12\" >775.000000</td>\n",
       "      <td id=\"T_14664_row0_col13\" class=\"data row0 col13\" >458.000000</td>\n",
       "      <td id=\"T_14664_row0_col14\" class=\"data row0 col14\" >248.000000</td>\n",
       "      <td id=\"T_14664_row0_col15\" class=\"data row0 col15\" >151.000000</td>\n",
       "      <td id=\"T_14664_row0_col16\" class=\"data row0 col16\" >37.000000</td>\n",
       "      <td id=\"T_14664_row0_col17\" class=\"data row0 col17\" >0.000000</td>\n",
       "      <td id=\"T_14664_row0_col18\" class=\"data row0 col18\" >754</td>\n",
       "      <td id=\"T_14664_row0_col19\" class=\"data row0 col19\" >1000</td>\n",
       "      <td id=\"T_14664_row0_col20\" class=\"data row0 col20\" >802</td>\n",
       "      <td id=\"T_14664_row0_col21\" class=\"data row0 col21\" >710</td>\n",
       "      <td id=\"T_14664_row0_col22\" class=\"data row0 col22\" >589</td>\n",
       "      <td id=\"T_14664_row0_col23\" class=\"data row0 col23\" >410</td>\n",
       "      <td id=\"T_14664_row0_col24\" class=\"data row0 col24\" >242</td>\n",
       "      <td id=\"T_14664_row0_col25\" class=\"data row0 col25\" >131</td>\n",
       "      <td id=\"T_14664_row0_col26\" class=\"data row0 col26\" >80</td>\n",
       "      <td id=\"T_14664_row0_col27\" class=\"data row0 col27\" >19</td>\n",
       "      <td id=\"T_14664_row0_col28\" class=\"data row0 col28\" >0</td>\n",
       "    </tr>\n",
       "    <tr>\n",
       "      <th id=\"T_14664_level0_row1\" class=\"row_heading level0 row1\" >1</th>\n",
       "      <td id=\"T_14664_row1_col0\" class=\"data row1 col0\" >p001</td>\n",
       "      <td id=\"T_14664_row1_col1\" class=\"data row1 col1\" >1</td>\n",
       "      <td id=\"T_14664_row1_col2\" class=\"data row1 col2\" >2021-09-13 00:00:00</td>\n",
       "      <td id=\"T_14664_row1_col3\" class=\"data row1 col3\" >31/08-06/09</td>\n",
       "      <td id=\"T_14664_row1_col4\" class=\"data row1 col4\" >31.600000</td>\n",
       "      <td id=\"T_14664_row1_col5\" class=\"data row1 col5\" >16542.000000</td>\n",
       "      <td id=\"T_14664_row1_col6\" class=\"data row1 col6\" >Positief getest</td>\n",
       "      <td id=\"T_14664_row1_col7\" class=\"data row1 col7\" >2244.000000</td>\n",
       "      <td id=\"T_14664_row1_col8\" class=\"data row1 col8\" >3443.000000</td>\n",
       "      <td id=\"T_14664_row1_col9\" class=\"data row1 col9\" >2977.000000</td>\n",
       "      <td id=\"T_14664_row1_col10\" class=\"data row1 col10\" >2740.000000</td>\n",
       "      <td id=\"T_14664_row1_col11\" class=\"data row1 col11\" >2034.000000</td>\n",
       "      <td id=\"T_14664_row1_col12\" class=\"data row1 col12\" >1470.000000</td>\n",
       "      <td id=\"T_14664_row1_col13\" class=\"data row1 col13\" >899.000000</td>\n",
       "      <td id=\"T_14664_row1_col14\" class=\"data row1 col14\" >441.000000</td>\n",
       "      <td id=\"T_14664_row1_col15\" class=\"data row1 col15\" >245.000000</td>\n",
       "      <td id=\"T_14664_row1_col16\" class=\"data row1 col16\" >49.000000</td>\n",
       "      <td id=\"T_14664_row1_col17\" class=\"data row1 col17\" >0.000000</td>\n",
       "      <td id=\"T_14664_row1_col18\" class=\"data row1 col18\" >651</td>\n",
       "      <td id=\"T_14664_row1_col19\" class=\"data row1 col19\" >1000</td>\n",
       "      <td id=\"T_14664_row1_col20\" class=\"data row1 col20\" >864</td>\n",
       "      <td id=\"T_14664_row1_col21\" class=\"data row1 col21\" >795</td>\n",
       "      <td id=\"T_14664_row1_col22\" class=\"data row1 col22\" >590</td>\n",
       "      <td id=\"T_14664_row1_col23\" class=\"data row1 col23\" >426</td>\n",
       "      <td id=\"T_14664_row1_col24\" class=\"data row1 col24\" >261</td>\n",
       "      <td id=\"T_14664_row1_col25\" class=\"data row1 col25\" >128</td>\n",
       "      <td id=\"T_14664_row1_col26\" class=\"data row1 col26\" >71</td>\n",
       "      <td id=\"T_14664_row1_col27\" class=\"data row1 col27\" >14</td>\n",
       "      <td id=\"T_14664_row1_col28\" class=\"data row1 col28\" >0</td>\n",
       "    </tr>\n",
       "    <tr>\n",
       "      <th id=\"T_14664_level0_row2\" class=\"row_heading level0 row2\" >2</th>\n",
       "      <td id=\"T_14664_row2_col0\" class=\"data row2 col0\" >p002</td>\n",
       "      <td id=\"T_14664_row2_col1\" class=\"data row2 col1\" >2</td>\n",
       "      <td id=\"T_14664_row2_col2\" class=\"data row2 col2\" >2021-09-13 00:00:00</td>\n",
       "      <td id=\"T_14664_row2_col3\" class=\"data row2 col3\" >24/08-30/08</td>\n",
       "      <td id=\"T_14664_row2_col4\" class=\"data row2 col4\" >33.300000</td>\n",
       "      <td id=\"T_14664_row2_col5\" class=\"data row2 col5\" >16832.000000</td>\n",
       "      <td id=\"T_14664_row2_col6\" class=\"data row2 col6\" >Positief getest</td>\n",
       "      <td id=\"T_14664_row2_col7\" class=\"data row2 col7\" >1613.000000</td>\n",
       "      <td id=\"T_14664_row2_col8\" class=\"data row2 col8\" >3232.000000</td>\n",
       "      <td id=\"T_14664_row2_col9\" class=\"data row2 col9\" >3685.000000</td>\n",
       "      <td id=\"T_14664_row2_col10\" class=\"data row2 col10\" >2782.000000</td>\n",
       "      <td id=\"T_14664_row2_col11\" class=\"data row2 col11\" >2105.000000</td>\n",
       "      <td id=\"T_14664_row2_col12\" class=\"data row2 col12\" >1559.000000</td>\n",
       "      <td id=\"T_14664_row2_col13\" class=\"data row2 col13\" >1008.000000</td>\n",
       "      <td id=\"T_14664_row2_col14\" class=\"data row2 col14\" >491.000000</td>\n",
       "      <td id=\"T_14664_row2_col15\" class=\"data row2 col15\" >280.000000</td>\n",
       "      <td id=\"T_14664_row2_col16\" class=\"data row2 col16\" >77.000000</td>\n",
       "      <td id=\"T_14664_row2_col17\" class=\"data row2 col17\" >0.000000</td>\n",
       "      <td id=\"T_14664_row2_col18\" class=\"data row2 col18\" >437</td>\n",
       "      <td id=\"T_14664_row2_col19\" class=\"data row2 col19\" >877</td>\n",
       "      <td id=\"T_14664_row2_col20\" class=\"data row2 col20\" >1000</td>\n",
       "      <td id=\"T_14664_row2_col21\" class=\"data row2 col21\" >754</td>\n",
       "      <td id=\"T_14664_row2_col22\" class=\"data row2 col22\" >571</td>\n",
       "      <td id=\"T_14664_row2_col23\" class=\"data row2 col23\" >423</td>\n",
       "      <td id=\"T_14664_row2_col24\" class=\"data row2 col24\" >273</td>\n",
       "      <td id=\"T_14664_row2_col25\" class=\"data row2 col25\" >133</td>\n",
       "      <td id=\"T_14664_row2_col26\" class=\"data row2 col26\" >75</td>\n",
       "      <td id=\"T_14664_row2_col27\" class=\"data row2 col27\" >20</td>\n",
       "      <td id=\"T_14664_row2_col28\" class=\"data row2 col28\" >0</td>\n",
       "    </tr>\n",
       "    <tr>\n",
       "      <th id=\"T_14664_level0_row3\" class=\"row_heading level0 row3\" >3</th>\n",
       "      <td id=\"T_14664_row3_col0\" class=\"data row3 col0\" >p003</td>\n",
       "      <td id=\"T_14664_row3_col1\" class=\"data row3 col1\" >3</td>\n",
       "      <td id=\"T_14664_row3_col2\" class=\"data row3 col2\" >2021-09-13 00:00:00</td>\n",
       "      <td id=\"T_14664_row3_col3\" class=\"data row3 col3\" >17/08-23/08</td>\n",
       "      <td id=\"T_14664_row3_col4\" class=\"data row3 col4\" >33.500000</td>\n",
       "      <td id=\"T_14664_row3_col5\" class=\"data row3 col5\" >17103.000000</td>\n",
       "      <td id=\"T_14664_row3_col6\" class=\"data row3 col6\" >Positief getest</td>\n",
       "      <td id=\"T_14664_row3_col7\" class=\"data row3 col7\" >1199.000000</td>\n",
       "      <td id=\"T_14664_row3_col8\" class=\"data row3 col8\" >3393.000000</td>\n",
       "      <td id=\"T_14664_row3_col9\" class=\"data row3 col9\" >4116.000000</td>\n",
       "      <td id=\"T_14664_row3_col10\" class=\"data row3 col10\" >2861.000000</td>\n",
       "      <td id=\"T_14664_row3_col11\" class=\"data row3 col11\" >2135.000000</td>\n",
       "      <td id=\"T_14664_row3_col12\" class=\"data row3 col12\" >1651.000000</td>\n",
       "      <td id=\"T_14664_row3_col13\" class=\"data row3 col13\" >922.000000</td>\n",
       "      <td id=\"T_14664_row3_col14\" class=\"data row3 col14\" >477.000000</td>\n",
       "      <td id=\"T_14664_row3_col15\" class=\"data row3 col15\" >273.000000</td>\n",
       "      <td id=\"T_14664_row3_col16\" class=\"data row3 col16\" >75.000000</td>\n",
       "      <td id=\"T_14664_row3_col17\" class=\"data row3 col17\" >1.000000</td>\n",
       "      <td id=\"T_14664_row3_col18\" class=\"data row3 col18\" >291</td>\n",
       "      <td id=\"T_14664_row3_col19\" class=\"data row3 col19\" >824</td>\n",
       "      <td id=\"T_14664_row3_col20\" class=\"data row3 col20\" >1000</td>\n",
       "      <td id=\"T_14664_row3_col21\" class=\"data row3 col21\" >695</td>\n",
       "      <td id=\"T_14664_row3_col22\" class=\"data row3 col22\" >518</td>\n",
       "      <td id=\"T_14664_row3_col23\" class=\"data row3 col23\" >401</td>\n",
       "      <td id=\"T_14664_row3_col24\" class=\"data row3 col24\" >224</td>\n",
       "      <td id=\"T_14664_row3_col25\" class=\"data row3 col25\" >115</td>\n",
       "      <td id=\"T_14664_row3_col26\" class=\"data row3 col26\" >66</td>\n",
       "      <td id=\"T_14664_row3_col27\" class=\"data row3 col27\" >18</td>\n",
       "      <td id=\"T_14664_row3_col28\" class=\"data row3 col28\" >0</td>\n",
       "    </tr>\n",
       "    <tr>\n",
       "      <th id=\"T_14664_level0_row4\" class=\"row_heading level0 row4\" >4</th>\n",
       "      <td id=\"T_14664_row4_col0\" class=\"data row4 col0\" >p004</td>\n",
       "      <td id=\"T_14664_row4_col1\" class=\"data row4 col1\" >4</td>\n",
       "      <td id=\"T_14664_row4_col2\" class=\"data row4 col2\" >2021-09-13 00:00:00</td>\n",
       "      <td id=\"T_14664_row4_col3\" class=\"data row4 col3\" >10/08-16/08</td>\n",
       "      <td id=\"T_14664_row4_col4\" class=\"data row4 col4\" >33.400000</td>\n",
       "      <td id=\"T_14664_row4_col5\" class=\"data row4 col5\" >16724.000000</td>\n",
       "      <td id=\"T_14664_row4_col6\" class=\"data row4 col6\" >Positief getest</td>\n",
       "      <td id=\"T_14664_row4_col7\" class=\"data row4 col7\" >981.000000</td>\n",
       "      <td id=\"T_14664_row4_col8\" class=\"data row4 col8\" >3281.000000</td>\n",
       "      <td id=\"T_14664_row4_col9\" class=\"data row4 col9\" >4620.000000</td>\n",
       "      <td id=\"T_14664_row4_col10\" class=\"data row4 col10\" >2637.000000</td>\n",
       "      <td id=\"T_14664_row4_col11\" class=\"data row4 col11\" >1868.000000</td>\n",
       "      <td id=\"T_14664_row4_col12\" class=\"data row4 col12\" >1651.000000</td>\n",
       "      <td id=\"T_14664_row4_col13\" class=\"data row4 col13\" >939.000000</td>\n",
       "      <td id=\"T_14664_row4_col14\" class=\"data row4 col14\" >409.000000</td>\n",
       "      <td id=\"T_14664_row4_col15\" class=\"data row4 col15\" >248.000000</td>\n",
       "      <td id=\"T_14664_row4_col16\" class=\"data row4 col16\" >90.000000</td>\n",
       "      <td id=\"T_14664_row4_col17\" class=\"data row4 col17\" >0.000000</td>\n",
       "      <td id=\"T_14664_row4_col18\" class=\"data row4 col18\" >212</td>\n",
       "      <td id=\"T_14664_row4_col19\" class=\"data row4 col19\" >710</td>\n",
       "      <td id=\"T_14664_row4_col20\" class=\"data row4 col20\" >1000</td>\n",
       "      <td id=\"T_14664_row4_col21\" class=\"data row4 col21\" >570</td>\n",
       "      <td id=\"T_14664_row4_col22\" class=\"data row4 col22\" >404</td>\n",
       "      <td id=\"T_14664_row4_col23\" class=\"data row4 col23\" >357</td>\n",
       "      <td id=\"T_14664_row4_col24\" class=\"data row4 col24\" >203</td>\n",
       "      <td id=\"T_14664_row4_col25\" class=\"data row4 col25\" >88</td>\n",
       "      <td id=\"T_14664_row4_col26\" class=\"data row4 col26\" >53</td>\n",
       "      <td id=\"T_14664_row4_col27\" class=\"data row4 col27\" >19</td>\n",
       "      <td id=\"T_14664_row4_col28\" class=\"data row4 col28\" >0</td>\n",
       "    </tr>\n",
       "  </tbody>\n",
       "</table>\n"
      ],
      "text/plain": [
       "<pandas.io.formats.style.Styler at 0x7f8b47044760>"
      ]
     },
     "metadata": {},
     "output_type": "display_data"
    }
   ],
   "source": [
    "# Bereken de stand van zaken van besmettingen / hospitalisaties / overlijden, per cohort in absolute aantallen en aantallen per 100k, met een kleur indicator voor de aantallen.\n",
    "# vervang <50 en Unknown door Onbekend\n",
    "@run\n",
    "def cell():\n",
    "  rivm['Cohort'] = rivm['Agegroup'].replace({'<50': 'Onbekend', 'Unknown': 'Onbekend'})\n",
    "  # aangenomen 'gemiddelde' leeftijd van een cohort: minimum waarde + 5\n",
    "  assumed_cohort_age = [(cohort, [int(n) for n in cohort.replace('+', '').split('-')]) for cohort in rivm['Cohort'].unique() if cohort[0].isdigit()]\n",
    "  assumed_cohort_age = { cohort: min(rng) + 5 for cohort, rng in assumed_cohort_age }\n",
    "  rivm['Gemiddelde leeftijd'] = rivm['Cohort'].apply(lambda x: assumed_cohort_age.get(x, np.nan))\n",
    "\n",
    "  # verwijder tijd\n",
    "  rivm['Date_file_date'] = pd.to_datetime(rivm['Date_file'].replace(r' .*', '', regex=True))\n",
    "\n",
    "  rivm['Date_statistics_date'] = pd.to_datetime(rivm['Date_statistics'])\n",
    "\n",
    "  # weken terug = verschil tussen Date_file en Date_statistcs, gedeeld door 7 dagen\n",
    "  rivm['Weken terug'] = np.floor((rivm['Date_file_date'] - rivm['Date_statistics_date'])/np.timedelta64(7, 'D')).astype(int)\n",
    "\n",
    "  # voeg key, gem leeftijd, kleurnummer en totaal toe\n",
    "  Date_file = rivm['Date_file_date'].unique()[0].astype('M8[D]').astype('O')\n",
    "  cohorten = list(bevolking.index) + ['Onbekend']\n",
    "  def summarize(df, category, prefix):\n",
    "    # aangezien we hier de dataframe in-place wijzigen (bijv door toevoegen kolommen)\n",
    "    # en we het 'rivm' frame later nog clean nodig hebben\n",
    "    df = df.copy(deep=True)\n",
    "\n",
    "    df = (df\n",
    "          .groupby(['Weken terug', 'Cohort'])['count']\n",
    "          .sum()\n",
    "          .unstack(fill_value=np.nan)\n",
    "          .reset_index()\n",
    "          .rename_axis(None, axis=1)\n",
    "        ).merge(df\n",
    "          # we voegen hier gemiddelde leeftijd toe, want die willen we op een ander\n",
    "          # niveau aggregeren voor 'df' overschreven word\n",
    "          .groupby(['Weken terug'])['Gemiddelde leeftijd']\n",
    "          .mean()\n",
    "          .to_frame(), on='Weken terug'\n",
    "        )\n",
    "\n",
    "    # altijd 52 rijen\n",
    "    df = pd.Series(np.arange(52), name='Weken terug').to_frame().merge(df, how='left', on='Weken terug')\n",
    "\n",
    "    # toevoegen missende cohorten\n",
    "    for col in cohorten:\n",
    "      if not col in df:\n",
    "        df[col] = np.nan\n",
    "\n",
    "    # sommeer per rij (axis=1) over de cohorten om een totaal te krijgen\n",
    "    df['Totaal'] = df[cohorten].sum(axis=1)\n",
    "\n",
    "    # voeg periode en datum toe\n",
    "    # periode afgeleid van weken-terug (= de index voor deze dataframe)\n",
    "    df['Datum'] = pd.to_datetime(Date_file)\n",
    "    df['Periode'] = (df\n",
    "      .index.to_series()\n",
    "      .apply(\n",
    "        lambda x: (\n",
    "          (Date_file + datetime.timedelta(weeks=-(x+1), days=1)).strftime('%d/%m')\n",
    "          + '-'\n",
    "          + (Date_file + datetime.timedelta(weeks=-x)).strftime('%d/%m')\n",
    "        )\n",
    "      )\n",
    "    )\n",
    "\n",
    "    # voeg 'Key' en 'Type' kolom toe. Variabele 'type' kan niet, is een language primitive.\n",
    "    df['Key'] = prefix + df.index.astype(str).str.rjust(3, fillchar='0')\n",
    "    df['Type'] = category\n",
    "\n",
    "    # voeg de kleur kolommen toe\n",
    "    for col in cohorten:\n",
    "      df['c' + col] = ((df[col] / df[[col for col in cohorten]].max(axis=1)) * 1000).fillna(0).astype(int)\n",
    "\n",
    "    # herschikken van de kolommen\n",
    "    colorder = ['Key', 'Weken terug', 'Datum', 'Periode', 'Gemiddelde leeftijd', 'Totaal', 'Type']\n",
    "    return df[colorder + [col for col in df if col not in colorder]]\n",
    "\n",
    "  factor = bevolking.to_dict()['per 100k']\n",
    "  global tabel\n",
    "  tabel = pd.concat(\n",
    "    # flatten the result list zodat pd.concat ze onder elkaar kan plakken\n",
    "    functools.reduce(lambda a, b: a + b, [\n",
    "      [summarize(df.assign(count=1), label, prefix), summarize(df.assign(count=df['Cohort'].apply(lambda x: factor.get(x, np.nan))), label + ' per 100.000', prefix + '100k')]\n",
    "      for df, label, prefix in [\n",
    "        (rivm, 'Positief getest', 'p'), # volledige count per cohort\n",
    "        (rivm[rivm.Hospital_admission == 'Yes'], 'Ziekenhuisopname', 'h'), # count van cohort voor Hospital_admission == 'Yes'\n",
    "        (rivm[rivm.Deceased == 'Yes'], 'Overleden', 'd'), # count van cohort voor Deceased == 'Yes'\n",
    "      ]\n",
    "    ])\n",
    "  )\n",
    "\n",
    "  # rood -> groen\n",
    "  cdict = {\n",
    "    'red':   ((0.0, 0.0, 0.0),   # no red at 0\n",
    "              (0.5, 1.0, 1.0),   # all channels set to 1.0 at 0.5 to create white\n",
    "              (1.0, 0.8, 0.8)),  # set to 0.8 so its not too bright at 1\n",
    "    'green': ((0.0, 0.8, 0.8),   # set to 0.8 so its not too bright at 0\n",
    "              (0.5, 1.0, 1.0),   # all channels set to 1.0 at 0.5 to create white\n",
    "              (1.0, 0.0, 0.0)),  # no green at 1\n",
    "    'blue':  ((0.0, 0.0, 0.0),   # no blue at 0\n",
    "              (0.5, 1.0, 1.0),   # all channels set to 1.0 at 0.5 to create white\n",
    "              (1.0, 0.0, 0.0))   # no blue at 1\n",
    "  }\n",
    "  cm = colors.LinearSegmentedColormap('GnRd', cdict)\n",
    "  # geel -> paars\n",
    "  cm = sns.color_palette('viridis_r', as_cmap=True)\n",
    "  display(tabel\n",
    "    .fillna(0)\n",
    "    .head()\n",
    "    .round(1)\n",
    "    .reset_index(drop=True)\n",
    "    .style.background_gradient(cmap=cm, axis=1, subset=cohorten)\n",
    "  )"
   ]
  },
  {
   "cell_type": "code",
   "execution_count": 5,
   "id": "6fc9fdff",
   "metadata": {
    "execution": {
     "iopub.execute_input": "2021-09-13T13:39:52.832516Z",
     "iopub.status.busy": "2021-09-13T13:39:52.831886Z",
     "iopub.status.idle": "2021-09-13T13:40:36.438988Z",
     "shell.execute_reply": "2021-09-13T13:40:36.438422Z"
    },
    "papermill": {
     "duration": 43.618238,
     "end_time": "2021-09-13T13:40:36.439118",
     "exception": false,
     "start_time": "2021-09-13T13:39:52.820880",
     "status": "completed"
    },
    "tags": [],
    "title": "publish"
   },
   "outputs": [
    {
     "name": "stdout",
     "output_type": "stream",
     "text": [
      "infinities:\n"
     ]
    },
    {
     "name": "stdout",
     "output_type": "stream",
     "text": [
      "Empty DataFrame\n",
      "Columns: []\n",
      "Index: []\n"
     ]
    },
    {
     "name": "stdout",
     "output_type": "stream",
     "text": [
      "nan:\n"
     ]
    },
    {
     "name": "stdout",
     "output_type": "stream",
     "text": [
      "Empty DataFrame\n",
      "Columns: []\n",
      "Index: []\n"
     ]
    },
    {
     "name": "stdout",
     "output_type": "stream",
     "text": [
      "Key                     object\n",
      "Weken terug              int64\n",
      "Datum                   object\n",
      "Periode                 object\n",
      "Gemiddelde leeftijd    float64\n",
      "Totaal                 float64\n",
      "Type                    object\n",
      "0-9                    float64\n",
      "10-19                  float64\n",
      "20-29                  float64\n",
      "30-39                  float64\n",
      "40-49                  float64\n",
      "50-59                  float64\n",
      "60-69                  float64\n",
      "70-79                  float64\n",
      "80-89                  float64\n",
      "90+                    float64\n",
      "Onbekend               float64\n",
      "c0-9                     int64\n",
      "c10-19                   int64\n",
      "c20-29                   int64\n",
      "c30-39                   int64\n",
      "c40-49                   int64\n",
      "c50-59                   int64\n",
      "c60-69                   int64\n",
      "c70-79                   int64\n",
      "c80-89                   int64\n",
      "c90+                     int64\n",
      "cOnbekend                int64\n",
      "dtype: object\n",
      "updating knack\n"
     ]
    },
    {
     "name": "stdout",
     "output_type": "stream",
     "text": [
      "updating: [{'Key': 1, 'Updating Leeftijdsgroep': 'true'}]\n"
     ]
    },
    {
     "name": "stdout",
     "output_type": "stream",
     "text": [
      "restored LaatsteUpdate from hash\n"
     ]
    },
    {
     "name": "stdout",
     "output_type": "stream",
     "text": [
      "Key                         int64\n",
      "Updating Leeftijdsgroep    object\n",
      "dtype: object\n"
     ]
    },
    {
     "name": "stderr",
     "output_type": "stream",
     "text": [
      "\r",
      "  0%|          | 0/1 [00:00<?, ?it/s]"
     ]
    },
    {
     "name": "stderr",
     "output_type": "stream",
     "text": [
      "\r",
      "100%|██████████| 1/1 [00:01<00:00,  1.20s/it]"
     ]
    },
    {
     "name": "stderr",
     "output_type": "stream",
     "text": [
      "\r",
      "100%|██████████| 1/1 [00:01<00:00,  1.20s/it]"
     ]
    },
    {
     "name": "stderr",
     "output_type": "stream",
     "text": [
      "\n"
     ]
    },
    {
     "name": "stdout",
     "output_type": "stream",
     "text": [
      "\n",
      "rate limit: 7 \n",
      "LaatsteUpdate API calls: create: 0, read: 1, update: 1, delete: 0, backoff: 0\n"
     ]
    },
    {
     "name": "stdout",
     "output_type": "stream",
     "text": [
      "restored Leeftijdsgroep from hash\n"
     ]
    },
    {
     "name": "stdout",
     "output_type": "stream",
     "text": [
      "0-9                    float64\n",
      "10-19                  float64\n",
      "20-29                  float64\n",
      "30-39                  float64\n",
      "40-49                  float64\n",
      "50-59                  float64\n",
      "60-69                  float64\n",
      "70-79                  float64\n",
      "80-89                  float64\n",
      "90+                    float64\n",
      "Datum                   object\n",
      "Gemiddelde leeftijd    float64\n",
      "Key                     object\n",
      "Onbekend               float64\n",
      "Periode                 object\n",
      "Totaal                 float64\n",
      "Type                    object\n",
      "Weken terug              int64\n",
      "c0-9                     int64\n",
      "c10-19                   int64\n",
      "c20-29                   int64\n",
      "c30-39                   int64\n",
      "c40-49                   int64\n",
      "c50-59                   int64\n",
      "c60-69                   int64\n",
      "c70-79                   int64\n",
      "c80-89                   int64\n",
      "c90+                     int64\n",
      "cOnbekend                int64\n",
      "dtype: object\n"
     ]
    },
    {
     "name": "stderr",
     "output_type": "stream",
     "text": [
      "\r",
      "  0%|          | 0/144 [00:00<?, ?it/s]"
     ]
    },
    {
     "name": "stderr",
     "output_type": "stream",
     "text": [
      "\r",
      "  1%|          | 1/144 [00:01<02:38,  1.11s/it]"
     ]
    },
    {
     "name": "stderr",
     "output_type": "stream",
     "text": [
      "\r",
      "  2%|▏         | 3/144 [00:01<00:46,  3.02it/s]"
     ]
    },
    {
     "name": "stderr",
     "output_type": "stream",
     "text": [
      "\r",
      "  3%|▎         | 5/144 [00:01<00:32,  4.29it/s]"
     ]
    },
    {
     "name": "stderr",
     "output_type": "stream",
     "text": [
      "\r",
      "  5%|▍         | 7/144 [00:01<00:24,  5.65it/s]"
     ]
    },
    {
     "name": "stderr",
     "output_type": "stream",
     "text": [
      "\r",
      "  6%|▋         | 9/144 [00:01<00:19,  6.99it/s]"
     ]
    },
    {
     "name": "stderr",
     "output_type": "stream",
     "text": [
      "\r",
      "  8%|▊         | 11/144 [00:02<00:18,  7.06it/s]"
     ]
    },
    {
     "name": "stderr",
     "output_type": "stream",
     "text": [
      "\r",
      "  9%|▉         | 13/144 [00:02<00:15,  8.32it/s]"
     ]
    },
    {
     "name": "stderr",
     "output_type": "stream",
     "text": [
      "\r",
      " 10%|█         | 15/144 [00:02<00:13,  9.79it/s]"
     ]
    },
    {
     "name": "stderr",
     "output_type": "stream",
     "text": [
      "\r",
      " 12%|█▏        | 17/144 [00:02<00:18,  6.79it/s]"
     ]
    },
    {
     "name": "stderr",
     "output_type": "stream",
     "text": [
      "\r",
      " 13%|█▎        | 19/144 [00:03<00:18,  6.71it/s]"
     ]
    },
    {
     "name": "stderr",
     "output_type": "stream",
     "text": [
      "\r",
      " 14%|█▍        | 20/144 [00:03<00:19,  6.45it/s]"
     ]
    },
    {
     "name": "stderr",
     "output_type": "stream",
     "text": [
      "\r",
      " 15%|█▍        | 21/144 [00:03<00:20,  6.09it/s]"
     ]
    },
    {
     "name": "stderr",
     "output_type": "stream",
     "text": [
      "\r",
      " 15%|█▌        | 22/144 [00:03<00:20,  5.82it/s]"
     ]
    },
    {
     "name": "stderr",
     "output_type": "stream",
     "text": [
      "\r",
      " 17%|█▋        | 24/144 [00:04<00:24,  4.94it/s]"
     ]
    },
    {
     "name": "stderr",
     "output_type": "stream",
     "text": [
      "\r",
      " 18%|█▊        | 26/144 [00:04<00:18,  6.46it/s]"
     ]
    },
    {
     "name": "stderr",
     "output_type": "stream",
     "text": [
      "\r",
      " 19%|█▉        | 27/144 [00:04<00:19,  6.12it/s]"
     ]
    },
    {
     "name": "stderr",
     "output_type": "stream",
     "text": [
      "\r",
      " 19%|█▉        | 28/144 [00:04<00:17,  6.69it/s]"
     ]
    },
    {
     "name": "stderr",
     "output_type": "stream",
     "text": [
      "\r",
      " 20%|██        | 29/144 [00:05<00:22,  5.02it/s]"
     ]
    },
    {
     "name": "stderr",
     "output_type": "stream",
     "text": [
      "\r",
      " 21%|██        | 30/144 [00:05<00:22,  5.11it/s]"
     ]
    },
    {
     "name": "stderr",
     "output_type": "stream",
     "text": [
      "\r",
      " 22%|██▏       | 32/144 [00:05<00:25,  4.34it/s]"
     ]
    },
    {
     "name": "stderr",
     "output_type": "stream",
     "text": [
      "\r",
      " 24%|██▎       | 34/144 [00:05<00:18,  6.11it/s]"
     ]
    },
    {
     "name": "stderr",
     "output_type": "stream",
     "text": [
      "\r",
      " 25%|██▌       | 36/144 [00:06<00:14,  7.38it/s]"
     ]
    },
    {
     "name": "stderr",
     "output_type": "stream",
     "text": [
      "\r",
      " 27%|██▋       | 39/144 [00:06<00:13,  8.07it/s]"
     ]
    },
    {
     "name": "stderr",
     "output_type": "stream",
     "text": [
      "\r",
      " 29%|██▉       | 42/144 [00:06<00:13,  7.43it/s]"
     ]
    },
    {
     "name": "stderr",
     "output_type": "stream",
     "text": [
      "\r",
      " 31%|███       | 44/144 [00:07<00:11,  8.86it/s]"
     ]
    },
    {
     "name": "stderr",
     "output_type": "stream",
     "text": [
      "\r",
      " 32%|███▏      | 46/144 [00:07<00:15,  6.42it/s]"
     ]
    },
    {
     "name": "stderr",
     "output_type": "stream",
     "text": [
      "\r",
      " 33%|███▎      | 47/144 [00:07<00:15,  6.11it/s]"
     ]
    },
    {
     "name": "stderr",
     "output_type": "stream",
     "text": [
      "\r",
      " 34%|███▍      | 49/144 [00:08<00:15,  6.01it/s]"
     ]
    },
    {
     "name": "stderr",
     "output_type": "stream",
     "text": [
      "\r",
      " 36%|███▌      | 52/144 [00:08<00:10,  8.68it/s]"
     ]
    },
    {
     "name": "stderr",
     "output_type": "stream",
     "text": [
      "\r",
      " 38%|███▊      | 54/144 [00:08<00:11,  8.00it/s]"
     ]
    },
    {
     "name": "stderr",
     "output_type": "stream",
     "text": [
      "\r",
      " 39%|███▉      | 56/144 [00:08<00:10,  8.43it/s]"
     ]
    },
    {
     "name": "stderr",
     "output_type": "stream",
     "text": [
      "\r",
      " 40%|████      | 58/144 [00:09<00:11,  7.70it/s]"
     ]
    },
    {
     "name": "stderr",
     "output_type": "stream",
     "text": [
      "\r",
      " 41%|████      | 59/144 [00:09<00:11,  7.41it/s]"
     ]
    },
    {
     "name": "stderr",
     "output_type": "stream",
     "text": [
      "\r",
      " 42%|████▏     | 60/144 [00:09<00:14,  5.73it/s]"
     ]
    },
    {
     "name": "stderr",
     "output_type": "stream",
     "text": [
      "\r",
      " 42%|████▏     | 61/144 [00:09<00:13,  6.19it/s]"
     ]
    },
    {
     "name": "stderr",
     "output_type": "stream",
     "text": [
      "\r",
      " 44%|████▍     | 63/144 [00:09<00:09,  8.28it/s]"
     ]
    },
    {
     "name": "stderr",
     "output_type": "stream",
     "text": [
      "\r",
      " 45%|████▌     | 65/144 [00:09<00:08,  9.40it/s]"
     ]
    },
    {
     "name": "stderr",
     "output_type": "stream",
     "text": [
      "\r",
      " 47%|████▋     | 67/144 [00:10<00:08,  8.93it/s]"
     ]
    },
    {
     "name": "stderr",
     "output_type": "stream",
     "text": [
      "\r",
      " 48%|████▊     | 69/144 [00:10<00:08,  8.46it/s]"
     ]
    },
    {
     "name": "stderr",
     "output_type": "stream",
     "text": [
      "\r",
      " 49%|████▊     | 70/144 [00:10<00:09,  7.85it/s]"
     ]
    },
    {
     "name": "stderr",
     "output_type": "stream",
     "text": [
      "\r",
      " 49%|████▉     | 71/144 [00:10<00:12,  5.79it/s]"
     ]
    },
    {
     "name": "stderr",
     "output_type": "stream",
     "text": [
      "\r",
      " 50%|█████     | 72/144 [00:11<00:11,  6.24it/s]"
     ]
    },
    {
     "name": "stderr",
     "output_type": "stream",
     "text": [
      "\r",
      " 51%|█████     | 73/144 [00:11<00:12,  5.55it/s]"
     ]
    },
    {
     "name": "stderr",
     "output_type": "stream",
     "text": [
      "\r",
      " 51%|█████▏    | 74/144 [00:11<00:11,  5.91it/s]"
     ]
    },
    {
     "name": "stderr",
     "output_type": "stream",
     "text": [
      "\r",
      " 52%|█████▏    | 75/144 [00:11<00:11,  5.88it/s]"
     ]
    },
    {
     "name": "stderr",
     "output_type": "stream",
     "text": [
      "\r",
      " 53%|█████▎    | 76/144 [00:12<00:16,  4.17it/s]"
     ]
    },
    {
     "name": "stderr",
     "output_type": "stream",
     "text": [
      "\r",
      " 53%|█████▎    | 77/144 [00:12<00:17,  3.88it/s]"
     ]
    },
    {
     "name": "stderr",
     "output_type": "stream",
     "text": [
      "\r",
      " 55%|█████▍    | 79/144 [00:12<00:12,  5.13it/s]"
     ]
    },
    {
     "name": "stderr",
     "output_type": "stream",
     "text": [
      "\r",
      " 56%|█████▌    | 80/144 [00:12<00:11,  5.74it/s]"
     ]
    },
    {
     "name": "stderr",
     "output_type": "stream",
     "text": [
      "\r",
      " 56%|█████▋    | 81/144 [00:12<00:10,  5.75it/s]"
     ]
    },
    {
     "name": "stderr",
     "output_type": "stream",
     "text": [
      "\r",
      " 57%|█████▋    | 82/144 [00:12<00:10,  6.02it/s]"
     ]
    },
    {
     "name": "stderr",
     "output_type": "stream",
     "text": [
      "\r",
      " 58%|█████▊    | 83/144 [00:13<00:09,  6.48it/s]"
     ]
    },
    {
     "name": "stderr",
     "output_type": "stream",
     "text": [
      "\r",
      " 58%|█████▊    | 84/144 [00:13<00:09,  6.28it/s]"
     ]
    },
    {
     "name": "stderr",
     "output_type": "stream",
     "text": [
      "\r",
      " 60%|██████    | 87/144 [00:13<00:05,  9.61it/s]"
     ]
    },
    {
     "name": "stderr",
     "output_type": "stream",
     "text": [
      "\r",
      " 61%|██████    | 88/144 [00:13<00:06,  9.26it/s]"
     ]
    },
    {
     "name": "stderr",
     "output_type": "stream",
     "text": [
      "\r",
      " 62%|██████▏   | 89/144 [00:13<00:06,  8.19it/s]"
     ]
    },
    {
     "name": "stderr",
     "output_type": "stream",
     "text": [
      "\r",
      " 62%|██████▎   | 90/144 [00:13<00:07,  7.06it/s]"
     ]
    },
    {
     "name": "stderr",
     "output_type": "stream",
     "text": [
      "\r",
      " 63%|██████▎   | 91/144 [00:14<00:09,  5.78it/s]"
     ]
    },
    {
     "name": "stderr",
     "output_type": "stream",
     "text": [
      "\r",
      " 65%|██████▍   | 93/144 [00:14<00:08,  6.11it/s]"
     ]
    },
    {
     "name": "stderr",
     "output_type": "stream",
     "text": [
      "\r",
      " 66%|██████▌   | 95/144 [00:14<00:08,  6.03it/s]"
     ]
    },
    {
     "name": "stderr",
     "output_type": "stream",
     "text": [
      "\r",
      " 67%|██████▋   | 96/144 [00:15<00:10,  4.41it/s]"
     ]
    },
    {
     "name": "stderr",
     "output_type": "stream",
     "text": [
      "\r",
      " 67%|██████▋   | 97/144 [00:15<00:10,  4.53it/s]"
     ]
    },
    {
     "name": "stderr",
     "output_type": "stream",
     "text": [
      "\r",
      " 69%|██████▉   | 100/144 [00:15<00:05,  7.85it/s]"
     ]
    },
    {
     "name": "stderr",
     "output_type": "stream",
     "text": [
      "\r",
      " 71%|███████   | 102/144 [00:15<00:05,  7.86it/s]"
     ]
    },
    {
     "name": "stderr",
     "output_type": "stream",
     "text": [
      "\r",
      " 72%|███████▏  | 104/144 [00:16<00:05,  7.67it/s]"
     ]
    },
    {
     "name": "stderr",
     "output_type": "stream",
     "text": [
      "\r",
      " 73%|███████▎  | 105/144 [00:16<00:04,  8.01it/s]"
     ]
    },
    {
     "name": "stderr",
     "output_type": "stream",
     "text": [
      "\r",
      " 74%|███████▎  | 106/144 [00:16<00:05,  7.31it/s]"
     ]
    },
    {
     "name": "stderr",
     "output_type": "stream",
     "text": [
      "\r",
      " 74%|███████▍  | 107/144 [00:16<00:05,  7.20it/s]"
     ]
    },
    {
     "name": "stderr",
     "output_type": "stream",
     "text": [
      "\r",
      " 76%|███████▌  | 109/144 [00:16<00:04,  7.12it/s]"
     ]
    },
    {
     "name": "stderr",
     "output_type": "stream",
     "text": [
      "\r",
      " 77%|███████▋  | 111/144 [00:17<00:04,  6.97it/s]"
     ]
    },
    {
     "name": "stderr",
     "output_type": "stream",
     "text": [
      "\r",
      " 78%|███████▊  | 112/144 [00:17<00:05,  5.95it/s]"
     ]
    },
    {
     "name": "stderr",
     "output_type": "stream",
     "text": [
      "\r",
      " 79%|███████▉  | 114/144 [00:17<00:03,  7.73it/s]"
     ]
    },
    {
     "name": "stderr",
     "output_type": "stream",
     "text": [
      "\r",
      " 81%|████████  | 116/144 [00:17<00:03,  7.85it/s]"
     ]
    },
    {
     "name": "stderr",
     "output_type": "stream",
     "text": [
      "\r",
      " 81%|████████▏ | 117/144 [00:17<00:03,  7.38it/s]"
     ]
    },
    {
     "name": "stderr",
     "output_type": "stream",
     "text": [
      "\r",
      " 83%|████████▎ | 119/144 [00:18<00:03,  7.02it/s]"
     ]
    },
    {
     "name": "stderr",
     "output_type": "stream",
     "text": [
      "\r",
      " 83%|████████▎ | 120/144 [00:18<00:04,  5.76it/s]"
     ]
    },
    {
     "name": "stderr",
     "output_type": "stream",
     "text": [
      "\r",
      " 84%|████████▍ | 121/144 [00:18<00:03,  5.82it/s]"
     ]
    },
    {
     "name": "stderr",
     "output_type": "stream",
     "text": [
      "\r",
      " 85%|████████▍ | 122/144 [00:18<00:04,  5.44it/s]"
     ]
    },
    {
     "name": "stderr",
     "output_type": "stream",
     "text": [
      "\r",
      " 85%|████████▌ | 123/144 [00:19<00:05,  4.11it/s]"
     ]
    },
    {
     "name": "stderr",
     "output_type": "stream",
     "text": [
      "\r",
      " 87%|████████▋ | 125/144 [00:19<00:04,  4.40it/s]"
     ]
    },
    {
     "name": "stderr",
     "output_type": "stream",
     "text": [
      "\r",
      " 88%|████████▊ | 127/144 [00:19<00:02,  5.78it/s]"
     ]
    },
    {
     "name": "stderr",
     "output_type": "stream",
     "text": [
      "\r",
      " 90%|████████▉ | 129/144 [00:20<00:02,  7.16it/s]"
     ]
    },
    {
     "name": "stderr",
     "output_type": "stream",
     "text": [
      "\r",
      " 90%|█████████ | 130/144 [00:20<00:02,  6.83it/s]"
     ]
    },
    {
     "name": "stderr",
     "output_type": "stream",
     "text": [
      "\r",
      " 92%|█████████▏| 132/144 [00:20<00:01,  7.28it/s]"
     ]
    },
    {
     "name": "stderr",
     "output_type": "stream",
     "text": [
      "\r",
      " 93%|█████████▎| 134/144 [00:20<00:01,  9.08it/s]"
     ]
    },
    {
     "name": "stderr",
     "output_type": "stream",
     "text": [
      "\r",
      " 94%|█████████▍| 136/144 [00:20<00:00,  8.39it/s]"
     ]
    },
    {
     "name": "stderr",
     "output_type": "stream",
     "text": [
      "\r",
      " 95%|█████████▌| 137/144 [00:21<00:00,  8.53it/s]"
     ]
    },
    {
     "name": "stderr",
     "output_type": "stream",
     "text": [
      "\r",
      " 97%|█████████▋| 139/144 [00:21<00:00,  8.75it/s]"
     ]
    },
    {
     "name": "stderr",
     "output_type": "stream",
     "text": [
      "\r",
      " 97%|█████████▋| 140/144 [00:22<00:01,  3.19it/s]"
     ]
    },
    {
     "name": "stderr",
     "output_type": "stream",
     "text": [
      "\r",
      " 98%|█████████▊| 141/144 [00:22<00:00,  3.13it/s]"
     ]
    },
    {
     "name": "stderr",
     "output_type": "stream",
     "text": [
      "\r",
      " 99%|█████████▊| 142/144 [00:23<00:00,  3.08it/s]"
     ]
    },
    {
     "name": "stderr",
     "output_type": "stream",
     "text": [
      "\r",
      "100%|██████████| 144/144 [00:30<00:00,  1.80s/it]"
     ]
    },
    {
     "name": "stderr",
     "output_type": "stream",
     "text": [
      "\r",
      "100%|██████████| 144/144 [00:30<00:00,  4.66it/s]"
     ]
    },
    {
     "name": "stderr",
     "output_type": "stream",
     "text": [
      "\n"
     ]
    },
    {
     "name": "stdout",
     "output_type": "stream",
     "text": [
      "\n",
      "rate limit: 7 \n",
      "Leeftijdsgroep API calls: create: 0, read: 1, update: 144, delete: 0, backoff: 1\n",
      "errors:\n",
      "  503: Service Unavailable: 4\n"
     ]
    },
    {
     "name": "stdout",
     "output_type": "stream",
     "text": [
      "[{'Key': 1, 'Timestamp Leeftijdsgroep RIVM': '2021-09-13 14:15'}]\n"
     ]
    },
    {
     "name": "stdout",
     "output_type": "stream",
     "text": [
      "timestamps: [{'Key': 1, 'Timestamp Leeftijdsgroep RIVM': '2021-09-13 14:15'}]\n",
      "Key                               int64\n",
      "Timestamp Leeftijdsgroep RIVM    object\n",
      "dtype: object\n"
     ]
    },
    {
     "name": "stderr",
     "output_type": "stream",
     "text": [
      "\r",
      "  0%|          | 0/1 [00:00<?, ?it/s]"
     ]
    },
    {
     "name": "stderr",
     "output_type": "stream",
     "text": [
      "\r",
      "100%|██████████| 1/1 [00:01<00:00,  1.19s/it]"
     ]
    },
    {
     "name": "stderr",
     "output_type": "stream",
     "text": [
      "\r",
      "100%|██████████| 1/1 [00:01<00:00,  1.19s/it]"
     ]
    },
    {
     "name": "stderr",
     "output_type": "stream",
     "text": [
      "\n"
     ]
    },
    {
     "name": "stdout",
     "output_type": "stream",
     "text": [
      "\n",
      "rate limit: 7 \n",
      "LaatsteUpdate API calls: create: 0, read: 0, update: 1, delete: 0, backoff: 0\n"
     ]
    },
    {
     "name": "stdout",
     "output_type": "stream",
     "text": [
      "BatchName     object\n",
      "ObjectName    object\n",
      "Source        object\n",
      "Timestamp     object\n",
      "dtype: object\n"
     ]
    },
    {
     "name": "stderr",
     "output_type": "stream",
     "text": [
      "\r",
      "  0%|          | 0/1 [00:00<?, ?it/s]"
     ]
    },
    {
     "name": "stderr",
     "output_type": "stream",
     "text": [
      "\r",
      "100%|██████████| 1/1 [00:03<00:00,  3.92s/it]"
     ]
    },
    {
     "name": "stderr",
     "output_type": "stream",
     "text": [
      "\r",
      "100%|██████████| 1/1 [00:03<00:00,  3.92s/it]"
     ]
    },
    {
     "name": "stderr",
     "output_type": "stream",
     "text": [
      "\n"
     ]
    },
    {
     "name": "stdout",
     "output_type": "stream",
     "text": [
      "\n",
      "rate limit: 7 \n",
      "UpdateDetails API calls: create: 1, read: 0, update: 0, delete: 0, backoff: 0\n"
     ]
    },
    {
     "name": "stdout",
     "output_type": "stream",
     "text": [
      "updating: [{'Key': 1, 'Updating Leeftijdsgroep': 'false'}]\n",
      "Key                         int64\n",
      "Updating Leeftijdsgroep    object\n",
      "dtype: object\n"
     ]
    },
    {
     "name": "stderr",
     "output_type": "stream",
     "text": [
      "\r",
      "  0%|          | 0/1 [00:00<?, ?it/s]"
     ]
    },
    {
     "name": "stderr",
     "output_type": "stream",
     "text": [
      "\r",
      "100%|██████████| 1/1 [00:01<00:00,  1.23s/it]"
     ]
    },
    {
     "name": "stderr",
     "output_type": "stream",
     "text": [
      "\r",
      "100%|██████████| 1/1 [00:01<00:00,  1.24s/it]"
     ]
    },
    {
     "name": "stderr",
     "output_type": "stream",
     "text": [
      "\n"
     ]
    },
    {
     "name": "stdout",
     "output_type": "stream",
     "text": [
      "\n",
      "rate limit: 7 \n",
      "LaatsteUpdate API calls: create: 0, read: 0, update: 1, delete: 0, backoff: 0\n"
     ]
    }
   ],
   "source": [
    "if knack:\n",
    "  await knack.publish(tabel.fillna(0).assign(Datum=tabel.Datum.dt.strftime('%Y-%m-%d')), 'Leeftijdsgroep', Cache)"
   ]
  }
 ],
 "metadata": {
  "jupytext": {
   "cell_metadata_filter": "title,-all"
  },
  "kernelspec": {
   "display_name": "Python 3 (ipykernel)",
   "language": "python",
   "name": "python3"
  },
  "language_info": {
   "codemirror_mode": {
    "name": "ipython",
    "version": 3
   },
   "file_extension": ".py",
   "mimetype": "text/x-python",
   "name": "python",
   "nbconvert_exporter": "python",
   "pygments_lexer": "ipython3",
   "version": "3.9.6"
  },
  "papermill": {
   "default_parameters": {},
   "duration": 477.270131,
   "end_time": "2021-09-13T13:40:36.994101",
   "environment_variables": {},
   "exception": null,
   "input_path": "-",
   "output_path": "LeeftijdsgroepenLandelijk.ipynb",
   "parameters": {},
   "start_time": "2021-09-13T13:32:39.723970",
   "version": "2.3.3"
  }
 },
 "nbformat": 4,
 "nbformat_minor": 5
}