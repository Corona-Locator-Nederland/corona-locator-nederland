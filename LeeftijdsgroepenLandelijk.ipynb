{
 "cells": [
  {
   "cell_type": "code",
   "execution_count": 1,
   "id": "c9399fea",
   "metadata": {
    "execution": {
     "iopub.execute_input": "2022-01-08T14:32:12.160220Z",
     "iopub.status.busy": "2022-01-08T14:32:12.159313Z",
     "iopub.status.idle": "2022-01-08T14:32:15.677355Z",
     "shell.execute_reply": "2022-01-08T14:32:15.676381Z"
    },
    "lines_to_next_cell": 1,
    "papermill": {
     "duration": 3.528143,
     "end_time": "2022-01-08T14:32:15.677518",
     "exception": false,
     "start_time": "2022-01-08T14:32:12.149375",
     "status": "completed"
    },
    "tags": []
   },
   "outputs": [],
   "source": [
    "from IPython import get_ipython\n",
    "from IPython.core.display import display\n",
    "get_ipython().run_line_magic('load_ext', 'autoreload')\n",
    "get_ipython().run_line_magic('autoreload', '2')\n",
    "get_ipython().run_line_magic('run', 'setup')"
   ]
  },
  {
   "cell_type": "code",
   "execution_count": 2,
   "id": "c07498ce",
   "metadata": {
    "execution": {
     "iopub.execute_input": "2022-01-08T14:32:15.695477Z",
     "iopub.status.busy": "2022-01-08T14:32:15.694795Z",
     "iopub.status.idle": "2022-01-08T14:38:41.778447Z",
     "shell.execute_reply": "2022-01-08T14:38:41.778908Z"
    },
    "lines_to_next_cell": 1,
    "papermill": {
     "duration": 386.095406,
     "end_time": "2022-01-08T14:38:41.779085",
     "exception": false,
     "start_time": "2022-01-08T14:32:15.683679",
     "status": "completed"
    },
    "tags": [],
    "title": "leeftijdsgroepen: download RIVM data"
   },
   "outputs": [
    {
     "name": "stdout",
     "output_type": "stream",
     "text": [
      "downloading rivm/COVID-19_casus_landelijk-2022-01-08@14-15.csv\n"
     ]
    },
    {
     "name": "stdout",
     "output_type": "stream",
     "text": [
      "rivm COVID-19_casus_landelijk zipping rivm/COVID-19_casus_landelijk-2022-01-08@14-15.csv\n"
     ]
    },
    {
     "name": "stdout",
     "output_type": "stream",
     "text": [
      "loading rivm/COVID-19_casus_landelijk-2022-01-08@14-15.csv.gz\n"
     ]
    },
    {
     "data": {
      "text/html": [
       "<div>\n",
       "<style scoped>\n",
       "    .dataframe tbody tr th:only-of-type {\n",
       "        vertical-align: middle;\n",
       "    }\n",
       "\n",
       "    .dataframe tbody tr th {\n",
       "        vertical-align: top;\n",
       "    }\n",
       "\n",
       "    .dataframe thead th {\n",
       "        text-align: right;\n",
       "    }\n",
       "</style>\n",
       "<table border=\"1\" class=\"dataframe\">\n",
       "  <thead>\n",
       "    <tr style=\"text-align: right;\">\n",
       "      <th></th>\n",
       "      <th>Date_file</th>\n",
       "      <th>Date_statistics</th>\n",
       "      <th>Date_statistics_type</th>\n",
       "      <th>Agegroup</th>\n",
       "      <th>Sex</th>\n",
       "      <th>Province</th>\n",
       "      <th>Hospital_admission</th>\n",
       "      <th>Deceased</th>\n",
       "      <th>Week_of_death</th>\n",
       "      <th>Municipal_health_service</th>\n",
       "    </tr>\n",
       "  </thead>\n",
       "  <tbody>\n",
       "    <tr>\n",
       "      <th>0</th>\n",
       "      <td>2022-01-08 10:00:00</td>\n",
       "      <td>2020-01-01</td>\n",
       "      <td>DOO</td>\n",
       "      <td>40-49</td>\n",
       "      <td>Female</td>\n",
       "      <td>Noord-Holland</td>\n",
       "      <td>No</td>\n",
       "      <td>No</td>\n",
       "      <td>NaN</td>\n",
       "      <td>GGD Amsterdam</td>\n",
       "    </tr>\n",
       "    <tr>\n",
       "      <th>1</th>\n",
       "      <td>2022-01-08 10:00:00</td>\n",
       "      <td>2020-01-01</td>\n",
       "      <td>DOO</td>\n",
       "      <td>50-59</td>\n",
       "      <td>Male</td>\n",
       "      <td>Gelderland</td>\n",
       "      <td>No</td>\n",
       "      <td>No</td>\n",
       "      <td>NaN</td>\n",
       "      <td>Veiligheids- en Gezondheidsregio Gelderland-Mi...</td>\n",
       "    </tr>\n",
       "    <tr>\n",
       "      <th>2</th>\n",
       "      <td>2022-01-08 10:00:00</td>\n",
       "      <td>2020-01-01</td>\n",
       "      <td>DOO</td>\n",
       "      <td>20-29</td>\n",
       "      <td>Female</td>\n",
       "      <td>Zuid-Holland</td>\n",
       "      <td>No</td>\n",
       "      <td>No</td>\n",
       "      <td>NaN</td>\n",
       "      <td>GGD Hollands-Midden</td>\n",
       "    </tr>\n",
       "    <tr>\n",
       "      <th>3</th>\n",
       "      <td>2022-01-08 10:00:00</td>\n",
       "      <td>2020-01-01</td>\n",
       "      <td>DOO</td>\n",
       "      <td>60-69</td>\n",
       "      <td>Female</td>\n",
       "      <td>Noord-Holland</td>\n",
       "      <td>No</td>\n",
       "      <td>No</td>\n",
       "      <td>NaN</td>\n",
       "      <td>GGD Hollands-Noorden</td>\n",
       "    </tr>\n",
       "    <tr>\n",
       "      <th>4</th>\n",
       "      <td>2022-01-08 10:00:00</td>\n",
       "      <td>2020-01-04</td>\n",
       "      <td>DOO</td>\n",
       "      <td>10-19</td>\n",
       "      <td>Female</td>\n",
       "      <td>Gelderland</td>\n",
       "      <td>Unknown</td>\n",
       "      <td>No</td>\n",
       "      <td>NaN</td>\n",
       "      <td>GGD Gelderland-Zuid</td>\n",
       "    </tr>\n",
       "  </tbody>\n",
       "</table>\n",
       "</div>"
      ],
      "text/plain": [
       "             Date_file Date_statistics Date_statistics_type Agegroup     Sex  \\\n",
       "0  2022-01-08 10:00:00      2020-01-01                  DOO    40-49  Female   \n",
       "1  2022-01-08 10:00:00      2020-01-01                  DOO    50-59    Male   \n",
       "2  2022-01-08 10:00:00      2020-01-01                  DOO    20-29  Female   \n",
       "3  2022-01-08 10:00:00      2020-01-01                  DOO    60-69  Female   \n",
       "4  2022-01-08 10:00:00      2020-01-04                  DOO    10-19  Female   \n",
       "\n",
       "        Province Hospital_admission Deceased  Week_of_death  \\\n",
       "0  Noord-Holland                 No       No            NaN   \n",
       "1     Gelderland                 No       No            NaN   \n",
       "2   Zuid-Holland                 No       No            NaN   \n",
       "3  Noord-Holland                 No       No            NaN   \n",
       "4     Gelderland            Unknown       No            NaN   \n",
       "\n",
       "                            Municipal_health_service  \n",
       "0                                      GGD Amsterdam  \n",
       "1  Veiligheids- en Gezondheidsregio Gelderland-Mi...  \n",
       "2                                GGD Hollands-Midden  \n",
       "3                               GGD Hollands-Noorden  \n",
       "4                                GGD Gelderland-Zuid  "
      ]
     },
     "metadata": {},
     "output_type": "display_data"
    }
   ],
   "source": [
    "#leeftijdsgroepen = SimpleNamespace()\n",
    "@run\n",
    "def cell():\n",
    "  global rivm\n",
    "  rivm = RIVM.csv('COVID-19_casus_landelijk')\n",
    "  display(rivm.head())"
   ]
  },
  {
   "cell_type": "code",
   "execution_count": 3,
   "id": "fccc97e8",
   "metadata": {
    "execution": {
     "iopub.execute_input": "2022-01-08T14:38:41.808618Z",
     "iopub.status.busy": "2022-01-08T14:38:41.807902Z",
     "iopub.status.idle": "2022-01-08T14:38:44.554289Z",
     "shell.execute_reply": "2022-01-08T14:38:44.553736Z"
    },
    "lines_to_next_cell": 1,
    "papermill": {
     "duration": 2.765571,
     "end_time": "2022-01-08T14:38:44.554426",
     "exception": false,
     "start_time": "2022-01-08T14:38:41.788855",
     "status": "completed"
    },
    "tags": [],
    "title": "Download de bevolkings cijfers van CBS, uitgesplitst op de leeftijds categorien in de dataset van het RIVM"
   },
   "outputs": [],
   "source": [
    "@run\n",
    "def cell():\n",
    "  global bevolking\n",
    "\n",
    "  # December 2021 als backup:\n",
    "  aantallenpercohort = {'0-9': 1757736,\n",
    "    '10-19': 1981885,\n",
    "    '20-29': 2263186,\n",
    "    '30-39': 2213705,\n",
    "    '40-49': 2137833,\n",
    "    '50-59': 2550358,\n",
    "    '60-69': 2171183,\n",
    "    '70-79': 1649291,\n",
    "    '80-89': 722027,\n",
    "    '90+': 135289}\n",
    "\n",
    "  global bevolking\n",
    "\n",
    "  bevolking = None\n",
    "  try:\n",
    "    bevolking = CBS.bevolking(leeftijdsgroepen=True)\n",
    "    bevolking.to_csv(\"cbs/leeftijdsgroepen_cbs.csv\")\n",
    "  except Exception as e:\n",
    "    print(e)\n",
    "    # gebruik laatste csv\n",
    "    try:\n",
    "      bevolking = pd.read_csv(\"cbs/leeftijdsgroepen_cbs.csv\")\n",
    "      bevolking.set_index('Range', inplace=True)\n",
    "    except Exception as ee:\n",
    "      print(ee)\n",
    "      bevolking = None\n",
    "\n",
    "  if bevolking is None:\n",
    "    bevolking = aantallenpercohort"
   ]
  },
  {
   "cell_type": "code",
   "execution_count": 4,
   "id": "ef67c66f",
   "metadata": {
    "execution": {
     "iopub.execute_input": "2022-01-08T14:38:44.572598Z",
     "iopub.status.busy": "2022-01-08T14:38:44.571902Z",
     "iopub.status.idle": "2022-01-08T14:38:59.993691Z",
     "shell.execute_reply": "2022-01-08T14:38:59.993134Z"
    },
    "papermill": {
     "duration": 15.431744,
     "end_time": "2022-01-08T14:38:59.993830",
     "exception": false,
     "start_time": "2022-01-08T14:38:44.562086",
     "status": "completed"
    },
    "tags": [],
    "title": "leeftijdsgroepen: prepareer tabel"
   },
   "outputs": [
    {
     "data": {
      "text/html": [
       "<style type=\"text/css\">\n",
       "#T_dd101_row0_col7 {\n",
       "  background-color: #bade28;\n",
       "  color: #000000;\n",
       "}\n",
       "#T_dd101_row0_col8 {\n",
       "  background-color: #20938c;\n",
       "  color: #f1f1f1;\n",
       "}\n",
       "#T_dd101_row0_col9, #T_dd101_row1_col9, #T_dd101_row2_col9, #T_dd101_row3_col10, #T_dd101_row4_col10 {\n",
       "  background-color: #440154;\n",
       "  color: #f1f1f1;\n",
       "}\n",
       "#T_dd101_row0_col10 {\n",
       "  background-color: #1f9f88;\n",
       "  color: #f1f1f1;\n",
       "}\n",
       "#T_dd101_row0_col11 {\n",
       "  background-color: #3aba76;\n",
       "  color: #f1f1f1;\n",
       "}\n",
       "#T_dd101_row0_col12 {\n",
       "  background-color: #38b977;\n",
       "  color: #f1f1f1;\n",
       "}\n",
       "#T_dd101_row0_col13 {\n",
       "  background-color: #b0dd2f;\n",
       "  color: #000000;\n",
       "}\n",
       "#T_dd101_row0_col14, #T_dd101_row4_col16 {\n",
       "  background-color: #e2e418;\n",
       "  color: #000000;\n",
       "}\n",
       "#T_dd101_row0_col15 {\n",
       "  background-color: #f6e620;\n",
       "  color: #000000;\n",
       "}\n",
       "#T_dd101_row0_col16 {\n",
       "  background-color: #fbe723;\n",
       "  color: #000000;\n",
       "}\n",
       "#T_dd101_row0_col17, #T_dd101_row1_col17, #T_dd101_row2_col17, #T_dd101_row3_col17, #T_dd101_row4_col17 {\n",
       "  background-color: #fde725;\n",
       "  color: #000000;\n",
       "}\n",
       "#T_dd101_row1_col7 {\n",
       "  background-color: #63cb5f;\n",
       "  color: #000000;\n",
       "}\n",
       "#T_dd101_row1_col8 {\n",
       "  background-color: #25838e;\n",
       "  color: #f1f1f1;\n",
       "}\n",
       "#T_dd101_row1_col10 {\n",
       "  background-color: #3b518b;\n",
       "  color: #f1f1f1;\n",
       "}\n",
       "#T_dd101_row1_col11, #T_dd101_row2_col7 {\n",
       "  background-color: #2a788e;\n",
       "  color: #f1f1f1;\n",
       "}\n",
       "#T_dd101_row1_col12 {\n",
       "  background-color: #2e6e8e;\n",
       "  color: #f1f1f1;\n",
       "}\n",
       "#T_dd101_row1_col13 {\n",
       "  background-color: #32b67a;\n",
       "  color: #f1f1f1;\n",
       "}\n",
       "#T_dd101_row1_col14 {\n",
       "  background-color: #9dd93b;\n",
       "  color: #000000;\n",
       "}\n",
       "#T_dd101_row1_col15 {\n",
       "  background-color: #e5e419;\n",
       "  color: #000000;\n",
       "}\n",
       "#T_dd101_row1_col16 {\n",
       "  background-color: #f8e621;\n",
       "  color: #000000;\n",
       "}\n",
       "#T_dd101_row2_col8 {\n",
       "  background-color: #365c8d;\n",
       "  color: #f1f1f1;\n",
       "}\n",
       "#T_dd101_row2_col10 {\n",
       "  background-color: #46075a;\n",
       "  color: #f1f1f1;\n",
       "}\n",
       "#T_dd101_row2_col11, #T_dd101_row3_col9 {\n",
       "  background-color: #443a83;\n",
       "  color: #f1f1f1;\n",
       "}\n",
       "#T_dd101_row2_col12 {\n",
       "  background-color: #33628d;\n",
       "  color: #f1f1f1;\n",
       "}\n",
       "#T_dd101_row2_col13 {\n",
       "  background-color: #1e9c89;\n",
       "  color: #f1f1f1;\n",
       "}\n",
       "#T_dd101_row2_col14 {\n",
       "  background-color: #73d056;\n",
       "  color: #000000;\n",
       "}\n",
       "#T_dd101_row2_col15 {\n",
       "  background-color: #d5e21a;\n",
       "  color: #000000;\n",
       "}\n",
       "#T_dd101_row2_col16 {\n",
       "  background-color: #f4e61e;\n",
       "  color: #000000;\n",
       "}\n",
       "#T_dd101_row3_col7 {\n",
       "  background-color: #443983;\n",
       "  color: #f1f1f1;\n",
       "}\n",
       "#T_dd101_row3_col8 {\n",
       "  background-color: #482677;\n",
       "  color: #f1f1f1;\n",
       "}\n",
       "#T_dd101_row3_col11 {\n",
       "  background-color: #482878;\n",
       "  color: #f1f1f1;\n",
       "}\n",
       "#T_dd101_row3_col12 {\n",
       "  background-color: #355e8d;\n",
       "  color: #f1f1f1;\n",
       "}\n",
       "#T_dd101_row3_col13 {\n",
       "  background-color: #21908d;\n",
       "  color: #f1f1f1;\n",
       "}\n",
       "#T_dd101_row3_col14 {\n",
       "  background-color: #4ac16d;\n",
       "  color: #000000;\n",
       "}\n",
       "#T_dd101_row3_col15 {\n",
       "  background-color: #addc30;\n",
       "  color: #000000;\n",
       "}\n",
       "#T_dd101_row3_col16 {\n",
       "  background-color: #e7e419;\n",
       "  color: #000000;\n",
       "}\n",
       "#T_dd101_row4_col7 {\n",
       "  background-color: #482173;\n",
       "  color: #f1f1f1;\n",
       "}\n",
       "#T_dd101_row4_col8 {\n",
       "  background-color: #481a6c;\n",
       "  color: #f1f1f1;\n",
       "}\n",
       "#T_dd101_row4_col9 {\n",
       "  background-color: #38598c;\n",
       "  color: #f1f1f1;\n",
       "}\n",
       "#T_dd101_row4_col11 {\n",
       "  background-color: #481f70;\n",
       "  color: #f1f1f1;\n",
       "}\n",
       "#T_dd101_row4_col12 {\n",
       "  background-color: #31668e;\n",
       "  color: #f1f1f1;\n",
       "}\n",
       "#T_dd101_row4_col13 {\n",
       "  background-color: #228c8d;\n",
       "  color: #f1f1f1;\n",
       "}\n",
       "#T_dd101_row4_col14 {\n",
       "  background-color: #3fbc73;\n",
       "  color: #f1f1f1;\n",
       "}\n",
       "#T_dd101_row4_col15 {\n",
       "  background-color: #93d741;\n",
       "  color: #000000;\n",
       "}\n",
       "</style>\n",
       "<table id=\"T_dd101_\">\n",
       "  <thead>\n",
       "    <tr>\n",
       "      <th class=\"blank level0\" >&nbsp;</th>\n",
       "      <th class=\"col_heading level0 col0\" >Key</th>\n",
       "      <th class=\"col_heading level0 col1\" >Weken terug</th>\n",
       "      <th class=\"col_heading level0 col2\" >Datum</th>\n",
       "      <th class=\"col_heading level0 col3\" >Periode</th>\n",
       "      <th class=\"col_heading level0 col4\" >Gemiddelde leeftijd</th>\n",
       "      <th class=\"col_heading level0 col5\" >Totaal</th>\n",
       "      <th class=\"col_heading level0 col6\" >Type</th>\n",
       "      <th class=\"col_heading level0 col7\" >0-9</th>\n",
       "      <th class=\"col_heading level0 col8\" >10-19</th>\n",
       "      <th class=\"col_heading level0 col9\" >20-29</th>\n",
       "      <th class=\"col_heading level0 col10\" >30-39</th>\n",
       "      <th class=\"col_heading level0 col11\" >40-49</th>\n",
       "      <th class=\"col_heading level0 col12\" >50-59</th>\n",
       "      <th class=\"col_heading level0 col13\" >60-69</th>\n",
       "      <th class=\"col_heading level0 col14\" >70-79</th>\n",
       "      <th class=\"col_heading level0 col15\" >80-89</th>\n",
       "      <th class=\"col_heading level0 col16\" >90+</th>\n",
       "      <th class=\"col_heading level0 col17\" >Onbekend</th>\n",
       "      <th class=\"col_heading level0 col18\" >c0-9</th>\n",
       "      <th class=\"col_heading level0 col19\" >c10-19</th>\n",
       "      <th class=\"col_heading level0 col20\" >c20-29</th>\n",
       "      <th class=\"col_heading level0 col21\" >c30-39</th>\n",
       "      <th class=\"col_heading level0 col22\" >c40-49</th>\n",
       "      <th class=\"col_heading level0 col23\" >c50-59</th>\n",
       "      <th class=\"col_heading level0 col24\" >c60-69</th>\n",
       "      <th class=\"col_heading level0 col25\" >c70-79</th>\n",
       "      <th class=\"col_heading level0 col26\" >c80-89</th>\n",
       "      <th class=\"col_heading level0 col27\" >c90+</th>\n",
       "      <th class=\"col_heading level0 col28\" >cOnbekend</th>\n",
       "    </tr>\n",
       "  </thead>\n",
       "  <tbody>\n",
       "    <tr>\n",
       "      <th id=\"T_dd101_level0_row0\" class=\"row_heading level0 row0\" >0</th>\n",
       "      <td id=\"T_dd101_row0_col0\" class=\"data row0 col0\" >p000</td>\n",
       "      <td id=\"T_dd101_row0_col1\" class=\"data row0 col1\" >0</td>\n",
       "      <td id=\"T_dd101_row0_col2\" class=\"data row0 col2\" >2022-01-08 00:00:00</td>\n",
       "      <td id=\"T_dd101_row0_col3\" class=\"data row0 col3\" >02/01-08/01</td>\n",
       "      <td id=\"T_dd101_row0_col4\" class=\"data row0 col4\" >32.600000</td>\n",
       "      <td id=\"T_dd101_row0_col5\" class=\"data row0 col5\" >115597.000000</td>\n",
       "      <td id=\"T_dd101_row0_col6\" class=\"data row0 col6\" >Positief getest</td>\n",
       "      <td id=\"T_dd101_row0_col7\" class=\"data row0 col7\" >4199.000000</td>\n",
       "      <td id=\"T_dd101_row0_col8\" class=\"data row0 col8\" >19648.000000</td>\n",
       "      <td id=\"T_dd101_row0_col9\" class=\"data row0 col9\" >40424.000000</td>\n",
       "      <td id=\"T_dd101_row0_col10\" class=\"data row0 col10\" >17757.000000</td>\n",
       "      <td id=\"T_dd101_row0_col11\" class=\"data row0 col11\" >13051.000000</td>\n",
       "      <td id=\"T_dd101_row0_col12\" class=\"data row0 col12\" >13210.000000</td>\n",
       "      <td id=\"T_dd101_row0_col13\" class=\"data row0 col13\" >4781.000000</td>\n",
       "      <td id=\"T_dd101_row0_col14\" class=\"data row0 col14\" >1810.000000</td>\n",
       "      <td id=\"T_dd101_row0_col15\" class=\"data row0 col15\" >553.000000</td>\n",
       "      <td id=\"T_dd101_row0_col16\" class=\"data row0 col16\" >164.000000</td>\n",
       "      <td id=\"T_dd101_row0_col17\" class=\"data row0 col17\" >0.000000</td>\n",
       "      <td id=\"T_dd101_row0_col18\" class=\"data row0 col18\" >103</td>\n",
       "      <td id=\"T_dd101_row0_col19\" class=\"data row0 col19\" >486</td>\n",
       "      <td id=\"T_dd101_row0_col20\" class=\"data row0 col20\" >1000</td>\n",
       "      <td id=\"T_dd101_row0_col21\" class=\"data row0 col21\" >439</td>\n",
       "      <td id=\"T_dd101_row0_col22\" class=\"data row0 col22\" >322</td>\n",
       "      <td id=\"T_dd101_row0_col23\" class=\"data row0 col23\" >326</td>\n",
       "      <td id=\"T_dd101_row0_col24\" class=\"data row0 col24\" >118</td>\n",
       "      <td id=\"T_dd101_row0_col25\" class=\"data row0 col25\" >44</td>\n",
       "      <td id=\"T_dd101_row0_col26\" class=\"data row0 col26\" >13</td>\n",
       "      <td id=\"T_dd101_row0_col27\" class=\"data row0 col27\" >4</td>\n",
       "      <td id=\"T_dd101_row0_col28\" class=\"data row0 col28\" >0</td>\n",
       "    </tr>\n",
       "    <tr>\n",
       "      <th id=\"T_dd101_level0_row1\" class=\"row_heading level0 row1\" >1</th>\n",
       "      <td id=\"T_dd101_row1_col0\" class=\"data row1 col0\" >p001</td>\n",
       "      <td id=\"T_dd101_row1_col1\" class=\"data row1 col1\" >1</td>\n",
       "      <td id=\"T_dd101_row1_col2\" class=\"data row1 col2\" >2022-01-08 00:00:00</td>\n",
       "      <td id=\"T_dd101_row1_col3\" class=\"data row1 col3\" >26/12-01/01</td>\n",
       "      <td id=\"T_dd101_row1_col4\" class=\"data row1 col4\" >37.200000</td>\n",
       "      <td id=\"T_dd101_row1_col5\" class=\"data row1 col5\" >104071.000000</td>\n",
       "      <td id=\"T_dd101_row1_col6\" class=\"data row1 col6\" >Positief getest</td>\n",
       "      <td id=\"T_dd101_row1_col7\" class=\"data row1 col7\" >5754.000000</td>\n",
       "      <td id=\"T_dd101_row1_col8\" class=\"data row1 col8\" >13333.000000</td>\n",
       "      <td id=\"T_dd101_row1_col9\" class=\"data row1 col9\" >24060.000000</td>\n",
       "      <td id=\"T_dd101_row1_col10\" class=\"data row1 col10\" >18055.000000</td>\n",
       "      <td id=\"T_dd101_row1_col11\" class=\"data row1 col11\" >14387.000000</td>\n",
       "      <td id=\"T_dd101_row1_col12\" class=\"data row1 col12\" >15490.000000</td>\n",
       "      <td id=\"T_dd101_row1_col13\" class=\"data row1 col13\" >8203.000000</td>\n",
       "      <td id=\"T_dd101_row1_col14\" class=\"data row1 col14\" >3560.000000</td>\n",
       "      <td id=\"T_dd101_row1_col15\" class=\"data row1 col15\" >1003.000000</td>\n",
       "      <td id=\"T_dd101_row1_col16\" class=\"data row1 col16\" >226.000000</td>\n",
       "      <td id=\"T_dd101_row1_col17\" class=\"data row1 col17\" >0.000000</td>\n",
       "      <td id=\"T_dd101_row1_col18\" class=\"data row1 col18\" >239</td>\n",
       "      <td id=\"T_dd101_row1_col19\" class=\"data row1 col19\" >554</td>\n",
       "      <td id=\"T_dd101_row1_col20\" class=\"data row1 col20\" >1000</td>\n",
       "      <td id=\"T_dd101_row1_col21\" class=\"data row1 col21\" >750</td>\n",
       "      <td id=\"T_dd101_row1_col22\" class=\"data row1 col22\" >597</td>\n",
       "      <td id=\"T_dd101_row1_col23\" class=\"data row1 col23\" >643</td>\n",
       "      <td id=\"T_dd101_row1_col24\" class=\"data row1 col24\" >340</td>\n",
       "      <td id=\"T_dd101_row1_col25\" class=\"data row1 col25\" >147</td>\n",
       "      <td id=\"T_dd101_row1_col26\" class=\"data row1 col26\" >41</td>\n",
       "      <td id=\"T_dd101_row1_col27\" class=\"data row1 col27\" >9</td>\n",
       "      <td id=\"T_dd101_row1_col28\" class=\"data row1 col28\" >0</td>\n",
       "    </tr>\n",
       "    <tr>\n",
       "      <th id=\"T_dd101_level0_row2\" class=\"row_heading level0 row2\" >2</th>\n",
       "      <td id=\"T_dd101_row2_col0\" class=\"data row2 col0\" >p002</td>\n",
       "      <td id=\"T_dd101_row2_col1\" class=\"data row2 col1\" >2</td>\n",
       "      <td id=\"T_dd101_row2_col2\" class=\"data row2 col2\" >2022-01-08 00:00:00</td>\n",
       "      <td id=\"T_dd101_row2_col3\" class=\"data row2 col3\" >19/12-25/12</td>\n",
       "      <td id=\"T_dd101_row2_col4\" class=\"data row2 col4\" >36.100000</td>\n",
       "      <td id=\"T_dd101_row2_col5\" class=\"data row2 col5\" >84883.000000</td>\n",
       "      <td id=\"T_dd101_row2_col6\" class=\"data row2 col6\" >Positief getest</td>\n",
       "      <td id=\"T_dd101_row2_col7\" class=\"data row2 col7\" >9124.000000</td>\n",
       "      <td id=\"T_dd101_row2_col8\" class=\"data row2 col8\" >10887.000000</td>\n",
       "      <td id=\"T_dd101_row2_col9\" class=\"data row2 col9\" >15257.000000</td>\n",
       "      <td id=\"T_dd101_row2_col10\" class=\"data row2 col10\" >14993.000000</td>\n",
       "      <td id=\"T_dd101_row2_col11\" class=\"data row2 col11\" >12686.000000</td>\n",
       "      <td id=\"T_dd101_row2_col12\" class=\"data row2 col12\" >10509.000000</td>\n",
       "      <td id=\"T_dd101_row2_col13\" class=\"data row2 col13\" >6903.000000</td>\n",
       "      <td id=\"T_dd101_row2_col14\" class=\"data row2 col14\" >3231.000000</td>\n",
       "      <td id=\"T_dd101_row2_col15\" class=\"data row2 col15\" >1001.000000</td>\n",
       "      <td id=\"T_dd101_row2_col16\" class=\"data row2 col16\" >291.000000</td>\n",
       "      <td id=\"T_dd101_row2_col17\" class=\"data row2 col17\" >1.000000</td>\n",
       "      <td id=\"T_dd101_row2_col18\" class=\"data row2 col18\" >598</td>\n",
       "      <td id=\"T_dd101_row2_col19\" class=\"data row2 col19\" >713</td>\n",
       "      <td id=\"T_dd101_row2_col20\" class=\"data row2 col20\" >1000</td>\n",
       "      <td id=\"T_dd101_row2_col21\" class=\"data row2 col21\" >982</td>\n",
       "      <td id=\"T_dd101_row2_col22\" class=\"data row2 col22\" >831</td>\n",
       "      <td id=\"T_dd101_row2_col23\" class=\"data row2 col23\" >688</td>\n",
       "      <td id=\"T_dd101_row2_col24\" class=\"data row2 col24\" >452</td>\n",
       "      <td id=\"T_dd101_row2_col25\" class=\"data row2 col25\" >211</td>\n",
       "      <td id=\"T_dd101_row2_col26\" class=\"data row2 col26\" >65</td>\n",
       "      <td id=\"T_dd101_row2_col27\" class=\"data row2 col27\" >19</td>\n",
       "      <td id=\"T_dd101_row2_col28\" class=\"data row2 col28\" >0</td>\n",
       "    </tr>\n",
       "    <tr>\n",
       "      <th id=\"T_dd101_level0_row3\" class=\"row_heading level0 row3\" >3</th>\n",
       "      <td id=\"T_dd101_row3_col0\" class=\"data row3 col0\" >p003</td>\n",
       "      <td id=\"T_dd101_row3_col1\" class=\"data row3 col1\" >3</td>\n",
       "      <td id=\"T_dd101_row3_col2\" class=\"data row3 col2\" >2022-01-08 00:00:00</td>\n",
       "      <td id=\"T_dd101_row3_col3\" class=\"data row3 col3\" >12/12-18/12</td>\n",
       "      <td id=\"T_dd101_row3_col4\" class=\"data row3 col4\" >36.100000</td>\n",
       "      <td id=\"T_dd101_row3_col5\" class=\"data row3 col5\" >93402.000000</td>\n",
       "      <td id=\"T_dd101_row3_col6\" class=\"data row3 col6\" >Positief getest</td>\n",
       "      <td id=\"T_dd101_row3_col7\" class=\"data row3 col7\" >12781.000000</td>\n",
       "      <td id=\"T_dd101_row3_col8\" class=\"data row3 col8\" >13683.000000</td>\n",
       "      <td id=\"T_dd101_row3_col9\" class=\"data row3 col9\" >12684.000000</td>\n",
       "      <td id=\"T_dd101_row3_col10\" class=\"data row3 col10\" >15314.000000</td>\n",
       "      <td id=\"T_dd101_row3_col11\" class=\"data row3 col11\" >13618.000000</td>\n",
       "      <td id=\"T_dd101_row3_col12\" class=\"data row3 col12\" >10776.000000</td>\n",
       "      <td id=\"T_dd101_row3_col13\" class=\"data row3 col13\" >7659.000000</td>\n",
       "      <td id=\"T_dd101_row3_col14\" class=\"data row3 col14\" >4413.000000</td>\n",
       "      <td id=\"T_dd101_row3_col15\" class=\"data row3 col15\" >1912.000000</td>\n",
       "      <td id=\"T_dd101_row3_col16\" class=\"data row3 col16\" >559.000000</td>\n",
       "      <td id=\"T_dd101_row3_col17\" class=\"data row3 col17\" >3.000000</td>\n",
       "      <td id=\"T_dd101_row3_col18\" class=\"data row3 col18\" >834</td>\n",
       "      <td id=\"T_dd101_row3_col19\" class=\"data row3 col19\" >893</td>\n",
       "      <td id=\"T_dd101_row3_col20\" class=\"data row3 col20\" >828</td>\n",
       "      <td id=\"T_dd101_row3_col21\" class=\"data row3 col21\" >1000</td>\n",
       "      <td id=\"T_dd101_row3_col22\" class=\"data row3 col22\" >889</td>\n",
       "      <td id=\"T_dd101_row3_col23\" class=\"data row3 col23\" >703</td>\n",
       "      <td id=\"T_dd101_row3_col24\" class=\"data row3 col24\" >500</td>\n",
       "      <td id=\"T_dd101_row3_col25\" class=\"data row3 col25\" >288</td>\n",
       "      <td id=\"T_dd101_row3_col26\" class=\"data row3 col26\" >124</td>\n",
       "      <td id=\"T_dd101_row3_col27\" class=\"data row3 col27\" >36</td>\n",
       "      <td id=\"T_dd101_row3_col28\" class=\"data row3 col28\" >0</td>\n",
       "    </tr>\n",
       "    <tr>\n",
       "      <th id=\"T_dd101_level0_row4\" class=\"row_heading level0 row4\" >4</th>\n",
       "      <td id=\"T_dd101_row4_col0\" class=\"data row4 col0\" >p004</td>\n",
       "      <td id=\"T_dd101_row4_col1\" class=\"data row4 col1\" >4</td>\n",
       "      <td id=\"T_dd101_row4_col2\" class=\"data row4 col2\" >2022-01-08 00:00:00</td>\n",
       "      <td id=\"T_dd101_row4_col3\" class=\"data row4 col3\" >05/12-11/12</td>\n",
       "      <td id=\"T_dd101_row4_col4\" class=\"data row4 col4\" >36.300000</td>\n",
       "      <td id=\"T_dd101_row4_col5\" class=\"data row4 col5\" >116971.000000</td>\n",
       "      <td id=\"T_dd101_row4_col6\" class=\"data row4 col6\" >Positief getest</td>\n",
       "      <td id=\"T_dd101_row4_col7\" class=\"data row4 col7\" >17184.000000</td>\n",
       "      <td id=\"T_dd101_row4_col8\" class=\"data row4 col8\" >17599.000000</td>\n",
       "      <td id=\"T_dd101_row4_col9\" class=\"data row4 col9\" >13679.000000</td>\n",
       "      <td id=\"T_dd101_row4_col10\" class=\"data row4 col10\" >18890.000000</td>\n",
       "      <td id=\"T_dd101_row4_col11\" class=\"data row4 col11\" >17312.000000</td>\n",
       "      <td id=\"T_dd101_row4_col12\" class=\"data row4 col12\" >12697.000000</td>\n",
       "      <td id=\"T_dd101_row4_col13\" class=\"data row4 col13\" >9798.000000</td>\n",
       "      <td id=\"T_dd101_row4_col14\" class=\"data row4 col14\" >5886.000000</td>\n",
       "      <td id=\"T_dd101_row4_col15\" class=\"data row4 col15\" >3036.000000</td>\n",
       "      <td id=\"T_dd101_row4_col16\" class=\"data row4 col16\" >887.000000</td>\n",
       "      <td id=\"T_dd101_row4_col17\" class=\"data row4 col17\" >3.000000</td>\n",
       "      <td id=\"T_dd101_row4_col18\" class=\"data row4 col18\" >909</td>\n",
       "      <td id=\"T_dd101_row4_col19\" class=\"data row4 col19\" >931</td>\n",
       "      <td id=\"T_dd101_row4_col20\" class=\"data row4 col20\" >724</td>\n",
       "      <td id=\"T_dd101_row4_col21\" class=\"data row4 col21\" >1000</td>\n",
       "      <td id=\"T_dd101_row4_col22\" class=\"data row4 col22\" >916</td>\n",
       "      <td id=\"T_dd101_row4_col23\" class=\"data row4 col23\" >672</td>\n",
       "      <td id=\"T_dd101_row4_col24\" class=\"data row4 col24\" >518</td>\n",
       "      <td id=\"T_dd101_row4_col25\" class=\"data row4 col25\" >311</td>\n",
       "      <td id=\"T_dd101_row4_col26\" class=\"data row4 col26\" >160</td>\n",
       "      <td id=\"T_dd101_row4_col27\" class=\"data row4 col27\" >46</td>\n",
       "      <td id=\"T_dd101_row4_col28\" class=\"data row4 col28\" >0</td>\n",
       "    </tr>\n",
       "  </tbody>\n",
       "</table>\n"
      ],
      "text/plain": [
       "<pandas.io.formats.style.Styler at 0x7f895ae47040>"
      ]
     },
     "metadata": {},
     "output_type": "display_data"
    }
   ],
   "source": [
    "# Bereken de stand van zaken van besmettingen / hospitalisaties / overlijden, per cohort in absolute aantallen en aantallen per 100k, met een kleur indicator voor de aantallen.\n",
    "# vervang <50 en Unknown door Onbekend\n",
    "@run\n",
    "def cell():\n",
    "  rivm['Cohort'] = rivm['Agegroup'].replace({'<50': 'Onbekend', 'Unknown': 'Onbekend'})\n",
    "  # aangenomen 'gemiddelde' leeftijd van een cohort: minimum waarde + 5\n",
    "  assumed_cohort_age = [(cohort, [int(n) for n in cohort.replace('+', '').split('-')]) for cohort in rivm['Cohort'].unique() if cohort[0].isdigit()]\n",
    "  assumed_cohort_age = { cohort: min(rng) + 5 for cohort, rng in assumed_cohort_age }\n",
    "  rivm['Gemiddelde leeftijd'] = rivm['Cohort'].apply(lambda x: assumed_cohort_age.get(x, np.nan))\n",
    "\n",
    "  # verwijder tijd\n",
    "  rivm['Date_file_date'] = pd.to_datetime(rivm['Date_file'].replace(r' .*', '', regex=True))\n",
    "\n",
    "  rivm['Date_statistics_date'] = pd.to_datetime(rivm['Date_statistics'])\n",
    "\n",
    "  # weken terug = verschil tussen Date_file en Date_statistcs, gedeeld door 7 dagen\n",
    "  rivm['Weken terug'] = np.floor((rivm['Date_file_date'] - rivm['Date_statistics_date'])/np.timedelta64(7, 'D')).astype(int)\n",
    "\n",
    "  # voeg key, gem leeftijd, kleurnummer en totaal toe\n",
    "  Date_file = rivm['Date_file_date'].unique()[0].astype('M8[D]').astype('O')\n",
    "  # check type bevolking\n",
    "  if type(bevolking) == dict:\n",
    "    cohorten = list(bevolking.keys())\n",
    "  else:\n",
    "    cohorten = list(bevolking.index)\n",
    "  cohorten += ['Onbekend']\n",
    "\n",
    "  def summarize(df, category, prefix):\n",
    "    # aangezien we hier de dataframe in-place wijzigen (bijv door toevoegen kolommen)\n",
    "    # en we het 'rivm' frame later nog clean nodig hebben\n",
    "    df = df.copy(deep=True)\n",
    "\n",
    "    df = (df\n",
    "          .groupby(['Weken terug', 'Cohort'])['count']\n",
    "          .sum()\n",
    "          .unstack(fill_value=np.nan)\n",
    "          .reset_index()\n",
    "          .rename_axis(None, axis=1)\n",
    "        ).merge(df\n",
    "          # we voegen hier gemiddelde leeftijd toe, want die willen we op een ander\n",
    "          # niveau aggregeren voor 'df' overschreven word\n",
    "          .groupby(['Weken terug'])['Gemiddelde leeftijd']\n",
    "          .mean()\n",
    "          .to_frame(), on='Weken terug'\n",
    "        )\n",
    "\n",
    "    # altijd 52 rijen\n",
    "    df = pd.Series(np.arange(52), name='Weken terug').to_frame().merge(df, how='left', on='Weken terug')\n",
    "\n",
    "    # toevoegen missende cohorten\n",
    "    for col in cohorten:\n",
    "      if not col in df:\n",
    "        df[col] = np.nan\n",
    "\n",
    "    # sommeer per rij (axis=1) over de cohorten om een totaal te krijgen\n",
    "    df['Totaal'] = df[cohorten].sum(axis=1)\n",
    "\n",
    "    # voeg periode en datum toe\n",
    "    # periode afgeleid van weken-terug (= de index voor deze dataframe)\n",
    "    df['Datum'] = pd.to_datetime(Date_file)\n",
    "    df['Periode'] = (df\n",
    "      .index.to_series()\n",
    "      .apply(\n",
    "        lambda x: (\n",
    "          (Date_file + datetime.timedelta(weeks=-(x+1), days=1)).strftime('%d/%m')\n",
    "          + '-'\n",
    "          + (Date_file + datetime.timedelta(weeks=-x)).strftime('%d/%m')\n",
    "        )\n",
    "      )\n",
    "    )\n",
    "\n",
    "    # voeg 'Key' en 'Type' kolom toe. Variabele 'type' kan niet, is een language primitive.\n",
    "    df['Key'] = prefix + df.index.astype(str).str.rjust(3, fillchar='0')\n",
    "    df['Type'] = category\n",
    "\n",
    "    # voeg de kleur kolommen toe\n",
    "    for col in cohorten:\n",
    "      df['c' + col] = ((df[col] / df[[col for col in cohorten]].max(axis=1)) * 1000).fillna(0).astype(int)\n",
    "\n",
    "    # herschikken van de kolommen\n",
    "    colorder = ['Key', 'Weken terug', 'Datum', 'Periode', 'Gemiddelde leeftijd', 'Totaal', 'Type']\n",
    "    return df[colorder + [col for col in df if col not in colorder]]\n",
    "\n",
    "  if type(bevolking) == dict:\n",
    "    factor = {}\n",
    "    for c in bevolking: factor[c] = 100_000 / bevolking[c]\n",
    "  else:\n",
    "    factor = bevolking.to_dict()['per 100k']\n",
    "\n",
    "  global tabel\n",
    "  tabel = pd.concat(\n",
    "    # flatten the result list zodat pd.concat ze onder elkaar kan plakken\n",
    "    functools.reduce(lambda a, b: a + b, [\n",
    "      [summarize(df.assign(count=1), label, prefix), summarize(df.assign(count=df['Cohort'].apply(lambda x: factor.get(x, np.nan))), label + ' per 100.000', prefix + '100k')]\n",
    "      for df, label, prefix in [\n",
    "        (rivm, 'Positief getest', 'p'), # volledige count per cohort\n",
    "        (rivm[rivm.Hospital_admission == 'Yes'], 'Ziekenhuisopname', 'h'), # count van cohort voor Hospital_admission == 'Yes'\n",
    "        (rivm[rivm.Deceased == 'Yes'], 'Overleden', 'd'), # count van cohort voor Deceased == 'Yes'\n",
    "      ]\n",
    "    ])\n",
    "  )\n",
    "\n",
    "  if type(bevolking) == dict:\n",
    "    totale_bevolking = sum(bevolking.values())\n",
    "    print(totale_bevolking)\n",
    "  else:\n",
    "    totale_bevolking_per_cohort = bevolking.to_dict()['BevolkingOpDeEersteVanDeMaand']\n",
    "    totale_bevolking = sum( totale_bevolking_per_cohort.values())\n",
    "\n",
    "  keys = [ key for key in tabel[\"Key\"]]\n",
    "  totals = [ x for x in tabel[\"Totaal\"]]\n",
    "  for k in range(0, len(keys)):\n",
    "    key = keys[k]\n",
    "    if '100k' in key:\n",
    "      abskey = key[0] + key[5:]\n",
    "      kk = keys.index(abskey)\n",
    "      if isinstance(totals[k], float):\n",
    "        correctedtotal = totals[kk] * (100_000 / totale_bevolking)\n",
    "        # print([k, totals[k], totals[kk], correctedtotal])\n",
    "        totals[k] = correctedtotal\n",
    "\n",
    "  tabel[\"Totaal\"] = totals\n",
    "\n",
    "\n",
    "  # rood -> groen\n",
    "  cdict = {\n",
    "    'red':   ((0.0, 0.0, 0.0),   # no red at 0\n",
    "              (0.5, 1.0, 1.0),   # all channels set to 1.0 at 0.5 to create white\n",
    "              (1.0, 0.8, 0.8)),  # set to 0.8 so its not too bright at 1\n",
    "    'green': ((0.0, 0.8, 0.8),   # set to 0.8 so its not too bright at 0\n",
    "              (0.5, 1.0, 1.0),   # all channels set to 1.0 at 0.5 to create white\n",
    "              (1.0, 0.0, 0.0)),  # no green at 1\n",
    "    'blue':  ((0.0, 0.0, 0.0),   # no blue at 0\n",
    "              (0.5, 1.0, 1.0),   # all channels set to 1.0 at 0.5 to create white\n",
    "              (1.0, 0.0, 0.0))   # no blue at 1\n",
    "  }\n",
    "  cm = colors.LinearSegmentedColormap('GnRd', cdict)\n",
    "  # geel -> paars\n",
    "  cm = sns.color_palette('viridis_r', as_cmap=True)\n",
    "  display(tabel\n",
    "    .fillna(0)\n",
    "    .head()\n",
    "    .round(1)\n",
    "    .reset_index(drop=True)\n",
    "    .style.background_gradient(cmap=cm, axis=1, subset=cohorten)\n",
    "  )"
   ]
  },
  {
   "cell_type": "code",
   "execution_count": 5,
   "id": "eb31071b",
   "metadata": {
    "execution": {
     "iopub.execute_input": "2022-01-08T14:39:00.022700Z",
     "iopub.status.busy": "2022-01-08T14:39:00.021975Z",
     "iopub.status.idle": "2022-01-08T14:39:32.098882Z",
     "shell.execute_reply": "2022-01-08T14:39:32.099505Z"
    },
    "papermill": {
     "duration": 32.094951,
     "end_time": "2022-01-08T14:39:32.099665",
     "exception": false,
     "start_time": "2022-01-08T14:39:00.004714",
     "status": "completed"
    },
    "tags": [],
    "title": "publish"
   },
   "outputs": [
    {
     "name": "stdout",
     "output_type": "stream",
     "text": [
      "infinities:\n"
     ]
    },
    {
     "name": "stdout",
     "output_type": "stream",
     "text": [
      "Empty DataFrame\n",
      "Columns: []\n",
      "Index: []\n"
     ]
    },
    {
     "name": "stdout",
     "output_type": "stream",
     "text": [
      "nan:\n"
     ]
    },
    {
     "name": "stdout",
     "output_type": "stream",
     "text": [
      "Empty DataFrame\n",
      "Columns: []\n",
      "Index: []\n"
     ]
    },
    {
     "name": "stdout",
     "output_type": "stream",
     "text": [
      "Key                     object\n",
      "Weken terug              int64\n",
      "Datum                   object\n",
      "Periode                 object\n",
      "Gemiddelde leeftijd    float64\n",
      "Totaal                 float64\n",
      "Type                    object\n",
      "0-9                    float64\n",
      "10-19                  float64\n",
      "20-29                  float64\n",
      "30-39                  float64\n",
      "40-49                  float64\n",
      "50-59                  float64\n",
      "60-69                  float64\n",
      "70-79                  float64\n",
      "80-89                  float64\n",
      "90+                    float64\n",
      "Onbekend               float64\n",
      "c0-9                     int64\n",
      "c10-19                   int64\n",
      "c20-29                   int64\n",
      "c30-39                   int64\n",
      "c40-49                   int64\n",
      "c50-59                   int64\n",
      "c60-69                   int64\n",
      "c70-79                   int64\n",
      "c80-89                   int64\n",
      "c90+                     int64\n",
      "cOnbekend                int64\n",
      "dtype: object\n",
      "updating knack\n"
     ]
    },
    {
     "name": "stdout",
     "output_type": "stream",
     "text": [
      "updating: [{'Key': 1, 'Updating Leeftijdsgroep': 'true'}]\n"
     ]
    },
    {
     "name": "stdout",
     "output_type": "stream",
     "text": [
      "restored LaatsteUpdate from hash\n"
     ]
    },
    {
     "name": "stdout",
     "output_type": "stream",
     "text": [
      "Key                         int64\n",
      "Updating Leeftijdsgroep    object\n",
      "dtype: object\n"
     ]
    },
    {
     "name": "stderr",
     "output_type": "stream",
     "text": [
      "\r",
      "  0%|          | 0/1 [00:00<?, ?it/s]"
     ]
    },
    {
     "name": "stderr",
     "output_type": "stream",
     "text": [
      "\r",
      "100%|██████████| 1/1 [00:01<00:00,  1.09s/it]"
     ]
    },
    {
     "name": "stderr",
     "output_type": "stream",
     "text": [
      "\r",
      "100%|██████████| 1/1 [00:01<00:00,  1.09s/it]"
     ]
    },
    {
     "name": "stdout",
     "output_type": "stream",
     "text": [
      "\n",
      "rate limit: 7 \n",
      "LaatsteUpdate API calls: create: 0, read: 1, update: 1, delete: 0, backoff: 0\n"
     ]
    },
    {
     "name": "stderr",
     "output_type": "stream",
     "text": [
      "\n"
     ]
    },
    {
     "name": "stdout",
     "output_type": "stream",
     "text": [
      "restored Leeftijdsgroep from hash\n"
     ]
    },
    {
     "name": "stdout",
     "output_type": "stream",
     "text": [
      "0-9                    float64\n",
      "10-19                  float64\n",
      "20-29                  float64\n",
      "30-39                  float64\n",
      "40-49                  float64\n",
      "50-59                  float64\n",
      "60-69                  float64\n",
      "70-79                  float64\n",
      "80-89                  float64\n",
      "90+                    float64\n",
      "Datum                   object\n",
      "Gemiddelde leeftijd    float64\n",
      "Key                     object\n",
      "Onbekend               float64\n",
      "Periode                 object\n",
      "Totaal                 float64\n",
      "Type                    object\n",
      "Weken terug              int64\n",
      "c0-9                     int64\n",
      "c10-19                   int64\n",
      "c20-29                   int64\n",
      "c30-39                   int64\n",
      "c40-49                   int64\n",
      "c50-59                   int64\n",
      "c60-69                   int64\n",
      "c70-79                   int64\n",
      "c80-89                   int64\n",
      "c90+                     int64\n",
      "cOnbekend                int64\n",
      "dtype: object\n"
     ]
    },
    {
     "name": "stderr",
     "output_type": "stream",
     "text": [
      "\r",
      "  0%|          | 0/140 [00:00<?, ?it/s]"
     ]
    },
    {
     "name": "stderr",
     "output_type": "stream",
     "text": [
      "\r",
      "  1%|          | 1/140 [00:00<02:06,  1.10it/s]"
     ]
    },
    {
     "name": "stderr",
     "output_type": "stream",
     "text": [
      "\r",
      "  1%|▏         | 2/140 [00:01<01:01,  2.25it/s]"
     ]
    },
    {
     "name": "stderr",
     "output_type": "stream",
     "text": [
      "\r",
      "  3%|▎         | 4/140 [00:01<00:32,  4.19it/s]"
     ]
    },
    {
     "name": "stderr",
     "output_type": "stream",
     "text": [
      "\r",
      "  4%|▎         | 5/140 [00:01<00:32,  4.20it/s]"
     ]
    },
    {
     "name": "stderr",
     "output_type": "stream",
     "text": [
      "\r",
      "  4%|▍         | 6/140 [00:01<00:27,  4.95it/s]"
     ]
    },
    {
     "name": "stderr",
     "output_type": "stream",
     "text": [
      "\r",
      "  6%|▌         | 8/140 [00:01<00:22,  5.74it/s]"
     ]
    },
    {
     "name": "stderr",
     "output_type": "stream",
     "text": [
      "\r",
      "  9%|▊         | 12/140 [00:02<00:12, 10.26it/s]"
     ]
    },
    {
     "name": "stderr",
     "output_type": "stream",
     "text": [
      "\r",
      " 10%|█         | 14/140 [00:02<00:13,  9.46it/s]"
     ]
    },
    {
     "name": "stderr",
     "output_type": "stream",
     "text": [
      "\r",
      " 11%|█▏        | 16/140 [00:02<00:16,  7.48it/s]"
     ]
    },
    {
     "name": "stderr",
     "output_type": "stream",
     "text": [
      "\r",
      " 13%|█▎        | 18/140 [00:02<00:15,  7.65it/s]"
     ]
    },
    {
     "name": "stderr",
     "output_type": "stream",
     "text": [
      "\r",
      " 15%|█▌        | 21/140 [00:03<00:11,  9.97it/s]"
     ]
    },
    {
     "name": "stderr",
     "output_type": "stream",
     "text": [
      "\r",
      " 16%|█▋        | 23/140 [00:03<00:14,  8.31it/s]"
     ]
    },
    {
     "name": "stderr",
     "output_type": "stream",
     "text": [
      "\r",
      " 18%|█▊        | 25/140 [00:03<00:14,  7.79it/s]"
     ]
    },
    {
     "name": "stderr",
     "output_type": "stream",
     "text": [
      "\r",
      " 20%|██        | 28/140 [00:04<00:14,  7.50it/s]"
     ]
    },
    {
     "name": "stderr",
     "output_type": "stream",
     "text": [
      "\r",
      " 21%|██        | 29/140 [00:04<00:17,  6.31it/s]"
     ]
    },
    {
     "name": "stderr",
     "output_type": "stream",
     "text": [
      "\r",
      " 21%|██▏       | 30/140 [00:04<00:19,  5.72it/s]"
     ]
    },
    {
     "name": "stderr",
     "output_type": "stream",
     "text": [
      "\r",
      " 22%|██▏       | 31/140 [00:04<00:17,  6.14it/s]"
     ]
    },
    {
     "name": "stderr",
     "output_type": "stream",
     "text": [
      "\r",
      " 24%|██▎       | 33/140 [00:05<00:15,  7.02it/s]"
     ]
    },
    {
     "name": "stderr",
     "output_type": "stream",
     "text": [
      "\r",
      " 25%|██▌       | 35/140 [00:05<00:15,  6.83it/s]"
     ]
    },
    {
     "name": "stderr",
     "output_type": "stream",
     "text": [
      "\r",
      " 26%|██▋       | 37/140 [00:05<00:14,  7.19it/s]"
     ]
    },
    {
     "name": "stderr",
     "output_type": "stream",
     "text": [
      "\r",
      " 27%|██▋       | 38/140 [00:05<00:16,  6.25it/s]"
     ]
    },
    {
     "name": "stderr",
     "output_type": "stream",
     "text": [
      "\r",
      " 28%|██▊       | 39/140 [00:05<00:15,  6.70it/s]"
     ]
    },
    {
     "name": "stderr",
     "output_type": "stream",
     "text": [
      "\r",
      " 29%|██▊       | 40/140 [00:06<00:16,  6.17it/s]"
     ]
    },
    {
     "name": "stderr",
     "output_type": "stream",
     "text": [
      "\r",
      " 30%|███       | 42/140 [00:06<00:14,  6.95it/s]"
     ]
    },
    {
     "name": "stderr",
     "output_type": "stream",
     "text": [
      "\r",
      " 32%|███▏      | 45/140 [00:06<00:12,  7.83it/s]"
     ]
    },
    {
     "name": "stderr",
     "output_type": "stream",
     "text": [
      "\r",
      " 33%|███▎      | 46/140 [00:06<00:12,  7.47it/s]"
     ]
    },
    {
     "name": "stderr",
     "output_type": "stream",
     "text": [
      "\r",
      " 34%|███▍      | 48/140 [00:07<00:13,  7.04it/s]"
     ]
    },
    {
     "name": "stderr",
     "output_type": "stream",
     "text": [
      "\r",
      " 35%|███▌      | 49/140 [00:07<00:13,  7.00it/s]"
     ]
    },
    {
     "name": "stderr",
     "output_type": "stream",
     "text": [
      "\r",
      " 36%|███▌      | 50/140 [00:07<00:12,  7.06it/s]"
     ]
    },
    {
     "name": "stderr",
     "output_type": "stream",
     "text": [
      "\r",
      " 36%|███▋      | 51/140 [00:07<00:17,  5.02it/s]"
     ]
    },
    {
     "name": "stderr",
     "output_type": "stream",
     "text": [
      "\r",
      " 38%|███▊      | 53/140 [00:08<00:14,  6.19it/s]"
     ]
    },
    {
     "name": "stderr",
     "output_type": "stream",
     "text": [
      "\r",
      " 39%|███▊      | 54/140 [00:08<00:13,  6.35it/s]"
     ]
    },
    {
     "name": "stderr",
     "output_type": "stream",
     "text": [
      "\r",
      " 40%|████      | 56/140 [00:08<00:13,  6.20it/s]"
     ]
    },
    {
     "name": "stderr",
     "output_type": "stream",
     "text": [
      "\r",
      " 41%|████▏     | 58/140 [00:08<00:12,  6.43it/s]"
     ]
    },
    {
     "name": "stderr",
     "output_type": "stream",
     "text": [
      "\r",
      " 42%|████▏     | 59/140 [00:09<00:13,  5.89it/s]"
     ]
    },
    {
     "name": "stderr",
     "output_type": "stream",
     "text": [
      "\r",
      " 44%|████▎     | 61/140 [00:09<00:11,  6.86it/s]"
     ]
    },
    {
     "name": "stderr",
     "output_type": "stream",
     "text": [
      "\r",
      " 46%|████▌     | 64/140 [00:09<00:10,  7.40it/s]"
     ]
    },
    {
     "name": "stderr",
     "output_type": "stream",
     "text": [
      "\r",
      " 46%|████▋     | 65/140 [00:10<00:19,  3.86it/s]"
     ]
    },
    {
     "name": "stderr",
     "output_type": "stream",
     "text": [
      "\r",
      " 47%|████▋     | 66/140 [00:10<00:18,  3.96it/s]"
     ]
    },
    {
     "name": "stderr",
     "output_type": "stream",
     "text": [
      "\r",
      " 50%|█████     | 70/140 [00:10<00:09,  7.25it/s]"
     ]
    },
    {
     "name": "stderr",
     "output_type": "stream",
     "text": [
      "\r",
      " 51%|█████▏    | 72/140 [00:11<00:11,  5.93it/s]"
     ]
    },
    {
     "name": "stderr",
     "output_type": "stream",
     "text": [
      "\r",
      " 53%|█████▎    | 74/140 [00:11<00:13,  4.91it/s]"
     ]
    },
    {
     "name": "stderr",
     "output_type": "stream",
     "text": [
      "\r",
      " 55%|█████▌    | 77/140 [00:12<00:08,  7.08it/s]"
     ]
    },
    {
     "name": "stderr",
     "output_type": "stream",
     "text": [
      "\r",
      " 56%|█████▋    | 79/140 [00:12<00:08,  6.80it/s]"
     ]
    },
    {
     "name": "stderr",
     "output_type": "stream",
     "text": [
      "\r",
      " 58%|█████▊    | 81/140 [00:12<00:07,  7.70it/s]"
     ]
    },
    {
     "name": "stderr",
     "output_type": "stream",
     "text": [
      "\r",
      " 59%|█████▉    | 83/140 [00:12<00:07,  7.98it/s]"
     ]
    },
    {
     "name": "stderr",
     "output_type": "stream",
     "text": [
      "\r",
      " 61%|██████    | 85/140 [00:13<00:08,  6.71it/s]"
     ]
    },
    {
     "name": "stderr",
     "output_type": "stream",
     "text": [
      "\r",
      " 61%|██████▏   | 86/140 [00:13<00:07,  7.11it/s]"
     ]
    },
    {
     "name": "stderr",
     "output_type": "stream",
     "text": [
      "\r",
      " 64%|██████▎   | 89/140 [00:13<00:05,  9.59it/s]"
     ]
    },
    {
     "name": "stderr",
     "output_type": "stream",
     "text": [
      "\r",
      " 65%|██████▌   | 91/140 [00:13<00:06,  7.86it/s]"
     ]
    },
    {
     "name": "stderr",
     "output_type": "stream",
     "text": [
      "\r",
      " 66%|██████▋   | 93/140 [00:14<00:05,  9.02it/s]"
     ]
    },
    {
     "name": "stderr",
     "output_type": "stream",
     "text": [
      "\r",
      " 68%|██████▊   | 95/140 [00:14<00:04, 10.22it/s]"
     ]
    },
    {
     "name": "stderr",
     "output_type": "stream",
     "text": [
      "\r",
      " 69%|██████▉   | 97/140 [00:14<00:05,  7.69it/s]"
     ]
    },
    {
     "name": "stderr",
     "output_type": "stream",
     "text": [
      "\r",
      " 71%|███████   | 99/140 [00:14<00:05,  7.88it/s]"
     ]
    },
    {
     "name": "stderr",
     "output_type": "stream",
     "text": [
      "\r",
      " 71%|███████▏  | 100/140 [00:15<00:06,  6.04it/s]"
     ]
    },
    {
     "name": "stderr",
     "output_type": "stream",
     "text": [
      "\r",
      " 72%|███████▏  | 101/140 [00:15<00:07,  5.26it/s]"
     ]
    },
    {
     "name": "stderr",
     "output_type": "stream",
     "text": [
      "\r",
      " 73%|███████▎  | 102/140 [00:15<00:06,  5.56it/s]"
     ]
    },
    {
     "name": "stderr",
     "output_type": "stream",
     "text": [
      "\r",
      " 74%|███████▍  | 104/140 [00:15<00:04,  7.60it/s]"
     ]
    },
    {
     "name": "stderr",
     "output_type": "stream",
     "text": [
      "\r",
      " 75%|███████▌  | 105/140 [00:15<00:05,  6.76it/s]"
     ]
    },
    {
     "name": "stderr",
     "output_type": "stream",
     "text": [
      "\r",
      " 76%|███████▌  | 106/140 [00:16<00:04,  7.01it/s]"
     ]
    },
    {
     "name": "stderr",
     "output_type": "stream",
     "text": [
      "\r",
      " 77%|███████▋  | 108/140 [00:16<00:03,  9.45it/s]"
     ]
    },
    {
     "name": "stderr",
     "output_type": "stream",
     "text": [
      "\r",
      " 79%|███████▊  | 110/140 [00:16<00:03,  9.44it/s]"
     ]
    },
    {
     "name": "stderr",
     "output_type": "stream",
     "text": [
      "\r",
      " 81%|████████  | 113/140 [00:16<00:02, 12.26it/s]"
     ]
    },
    {
     "name": "stderr",
     "output_type": "stream",
     "text": [
      "\r",
      " 82%|████████▏ | 115/140 [00:16<00:02,  8.35it/s]"
     ]
    },
    {
     "name": "stderr",
     "output_type": "stream",
     "text": [
      "\r",
      " 84%|████████▎ | 117/140 [00:17<00:03,  6.70it/s]"
     ]
    },
    {
     "name": "stderr",
     "output_type": "stream",
     "text": [
      "\r",
      " 84%|████████▍ | 118/140 [00:17<00:03,  6.92it/s]"
     ]
    },
    {
     "name": "stderr",
     "output_type": "stream",
     "text": [
      "\r",
      " 85%|████████▌ | 119/140 [00:17<00:02,  7.19it/s]"
     ]
    },
    {
     "name": "stderr",
     "output_type": "stream",
     "text": [
      "\r",
      " 86%|████████▌ | 120/140 [00:17<00:03,  5.09it/s]"
     ]
    },
    {
     "name": "stderr",
     "output_type": "stream",
     "text": [
      "\r",
      " 87%|████████▋ | 122/140 [00:18<00:02,  6.94it/s]"
     ]
    },
    {
     "name": "stderr",
     "output_type": "stream",
     "text": [
      "\r",
      " 88%|████████▊ | 123/140 [00:18<00:02,  6.65it/s]"
     ]
    },
    {
     "name": "stderr",
     "output_type": "stream",
     "text": [
      "\r",
      " 89%|████████▉ | 125/140 [00:18<00:01,  8.04it/s]"
     ]
    },
    {
     "name": "stderr",
     "output_type": "stream",
     "text": [
      "\r",
      " 90%|█████████ | 126/140 [00:18<00:02,  4.73it/s]"
     ]
    },
    {
     "name": "stderr",
     "output_type": "stream",
     "text": [
      "\r",
      " 91%|█████████▏| 128/140 [00:19<00:01,  6.65it/s]"
     ]
    },
    {
     "name": "stderr",
     "output_type": "stream",
     "text": [
      "\r",
      " 93%|█████████▎| 130/140 [00:19<00:01,  7.09it/s]"
     ]
    },
    {
     "name": "stderr",
     "output_type": "stream",
     "text": [
      "\r",
      " 94%|█████████▍| 132/140 [00:19<00:01,  5.46it/s]"
     ]
    },
    {
     "name": "stderr",
     "output_type": "stream",
     "text": [
      "\r",
      " 96%|█████████▌| 134/140 [00:20<00:00,  6.74it/s]"
     ]
    },
    {
     "name": "stderr",
     "output_type": "stream",
     "text": [
      "\r",
      " 97%|█████████▋| 136/140 [00:20<00:00,  8.42it/s]"
     ]
    },
    {
     "name": "stderr",
     "output_type": "stream",
     "text": [
      "\r",
      " 99%|█████████▊| 138/140 [00:22<00:00,  2.67it/s]"
     ]
    },
    {
     "name": "stderr",
     "output_type": "stream",
     "text": [
      "\r",
      " 99%|█████████▉| 139/140 [00:22<00:00,  2.53it/s]"
     ]
    },
    {
     "name": "stderr",
     "output_type": "stream",
     "text": [
      "\r",
      "100%|██████████| 140/140 [00:23<00:00,  1.83it/s]"
     ]
    },
    {
     "name": "stderr",
     "output_type": "stream",
     "text": [
      "\r",
      "100%|██████████| 140/140 [00:23<00:00,  5.93it/s]"
     ]
    },
    {
     "name": "stdout",
     "output_type": "stream",
     "text": [
      "\n",
      "rate limit: 7 \n",
      "Leeftijdsgroep API calls: create: 0, read: 1, update: 140, delete: 0, backoff: 1\n"
     ]
    },
    {
     "name": "stdout",
     "output_type": "stream",
     "text": [
      "[{'Key': 1, 'Timestamp Leeftijdsgroep RIVM': '2022-01-08 15:15'}]\n"
     ]
    },
    {
     "name": "stderr",
     "output_type": "stream",
     "text": [
      "\n"
     ]
    },
    {
     "name": "stdout",
     "output_type": "stream",
     "text": [
      "timestamps: [{'Key': 1, 'Timestamp Leeftijdsgroep RIVM': '2022-01-08 15:15'}]\n",
      "Key                               int64\n",
      "Timestamp Leeftijdsgroep RIVM    object\n",
      "dtype: object\n"
     ]
    },
    {
     "name": "stderr",
     "output_type": "stream",
     "text": [
      "\r",
      "  0%|          | 0/1 [00:00<?, ?it/s]"
     ]
    },
    {
     "name": "stderr",
     "output_type": "stream",
     "text": [
      "\r",
      "100%|██████████| 1/1 [00:01<00:00,  1.01s/it]"
     ]
    },
    {
     "name": "stderr",
     "output_type": "stream",
     "text": [
      "\r",
      "100%|██████████| 1/1 [00:01<00:00,  1.01s/it]"
     ]
    },
    {
     "name": "stdout",
     "output_type": "stream",
     "text": [
      "\n",
      "rate limit: 7 \n",
      "LaatsteUpdate API calls: create: 0, read: 0, update: 1, delete: 0, backoff: 0\n"
     ]
    },
    {
     "name": "stderr",
     "output_type": "stream",
     "text": [
      "\n"
     ]
    },
    {
     "name": "stdout",
     "output_type": "stream",
     "text": [
      "BatchName     object\n",
      "ObjectName    object\n",
      "Source        object\n",
      "Timestamp     object\n",
      "dtype: object\n"
     ]
    },
    {
     "name": "stderr",
     "output_type": "stream",
     "text": [
      "\r",
      "  0%|          | 0/1 [00:00<?, ?it/s]"
     ]
    },
    {
     "name": "stderr",
     "output_type": "stream",
     "text": [
      "\r",
      "100%|██████████| 1/1 [00:01<00:00,  1.09s/it]"
     ]
    },
    {
     "name": "stderr",
     "output_type": "stream",
     "text": [
      "\r",
      "100%|██████████| 1/1 [00:01<00:00,  1.09s/it]"
     ]
    },
    {
     "name": "stdout",
     "output_type": "stream",
     "text": [
      "\n",
      "rate limit: 7 \n",
      "UpdateDetails API calls: create: 1, read: 0, update: 0, delete: 0, backoff: 0\n"
     ]
    },
    {
     "name": "stderr",
     "output_type": "stream",
     "text": [
      "\n"
     ]
    },
    {
     "name": "stdout",
     "output_type": "stream",
     "text": [
      "updating: [{'Key': 1, 'Updating Leeftijdsgroep': 'false'}]\n",
      "Key                         int64\n",
      "Updating Leeftijdsgroep    object\n",
      "dtype: object\n"
     ]
    },
    {
     "name": "stderr",
     "output_type": "stream",
     "text": [
      "\r",
      "  0%|          | 0/1 [00:00<?, ?it/s]"
     ]
    },
    {
     "name": "stderr",
     "output_type": "stream",
     "text": [
      "\r",
      "100%|██████████| 1/1 [00:00<00:00,  1.09it/s]"
     ]
    },
    {
     "name": "stderr",
     "output_type": "stream",
     "text": [
      "\r",
      "100%|██████████| 1/1 [00:00<00:00,  1.09it/s]"
     ]
    },
    {
     "name": "stdout",
     "output_type": "stream",
     "text": [
      "\n",
      "rate limit: 7 \n",
      "LaatsteUpdate API calls: create: 0, read: 0, update: 1, delete: 0, backoff: 0\n"
     ]
    },
    {
     "name": "stderr",
     "output_type": "stream",
     "text": [
      "\n"
     ]
    }
   ],
   "source": [
    "if knack:\n",
    "  await knack.publish(tabel.fillna(0).assign(Datum=tabel.Datum.dt.strftime('%Y-%m-%d')), 'Leeftijdsgroep', Cache)"
   ]
  }
 ],
 "metadata": {
  "jupytext": {
   "cell_metadata_filter": "title,-all"
  },
  "kernelspec": {
   "display_name": "Python 3 (ipykernel)",
   "language": "python",
   "name": "python3"
  },
  "language_info": {
   "codemirror_mode": {
    "name": "ipython",
    "version": 3
   },
   "file_extension": ".py",
   "mimetype": "text/x-python",
   "name": "python",
   "nbconvert_exporter": "python",
   "pygments_lexer": "ipython3",
   "version": "3.9.9"
  },
  "papermill": {
   "default_parameters": {},
   "duration": 442.256381,
   "end_time": "2022-01-08T14:39:32.764035",
   "environment_variables": {},
   "exception": null,
   "input_path": "-",
   "output_path": "LeeftijdsgroepenLandelijk.ipynb",
   "parameters": {},
   "start_time": "2022-01-08T14:32:10.507654",
   "version": "2.3.3"
  }
 },
 "nbformat": 4,
 "nbformat_minor": 5
}