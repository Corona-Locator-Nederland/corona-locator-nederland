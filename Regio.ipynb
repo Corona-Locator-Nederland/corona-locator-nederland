{
 "cells": [
  {
   "cell_type": "code",
   "execution_count": 1,
   "id": "17cffeb3",
   "metadata": {
    "execution": {
     "iopub.execute_input": "2021-08-09T17:11:27.273039Z",
     "iopub.status.busy": "2021-08-09T17:11:27.265690Z",
     "iopub.status.idle": "2021-08-09T17:11:30.354926Z",
     "shell.execute_reply": "2021-08-09T17:11:30.354404Z"
    },
    "lines_to_next_cell": 1,
    "papermill": {
     "duration": 3.103857,
     "end_time": "2021-08-09T17:11:30.355069",
     "exception": false,
     "start_time": "2021-08-09T17:11:27.251212",
     "status": "completed"
    },
    "tags": [],
    "title": "setup"
   },
   "outputs": [],
   "source": [
    "from IPython import get_ipython\n",
    "from IPython.core.display import display\n",
    "from typing_extensions import runtime\n",
    "import numpy as np\n",
    "get_ipython().run_line_magic('load_ext', 'autoreload')\n",
    "get_ipython().run_line_magic('autoreload', '2')\n",
    "get_ipython().run_line_magic('run', 'setup')\n",
    "\n",
    "# sorteert de kolommen alfabetisch, is makkelijker visueel te debuggen.\n",
    "def sortcolumns(df):\n",
    "  return df[sorted(df.columns)]\n",
    "\n",
    "# prepareer een RIVM dataset\n",
    "def prepare(dataset, day=0):\n",
    "  # hernoem kolommen voor makkelijker uniforme data bewerking\n",
    "  df = RIVM.csv(dataset, day).rename(columns={\n",
    "    'Municipality_code': 'GemeenteCode',\n",
    "    'Municipality_name': 'Gemeente',\n",
    "    'Security_region_code': 'VeiligheidsregioCode',\n",
    "    'Security_region_name': 'Veiligheidsregio',\n",
    "  })\n",
    "  if 'GemeenteCode' in df:\n",
    "    df['GemeenteCode'] = df['GemeenteCode'].fillna('GM0000')\n",
    "\n",
    "  if 'Agegroup' in df:\n",
    "    df['LeeftijdCode'] = 'LE' + df['Agegroup'].replace({'0-9': '00-09', '<50': '00-00', 'Unknown': '00-00', 'Onbekend': '00-00'}).replace('-', '', regex=True).astype(str)\n",
    "    df['Total_reported'] = 1 # impliciet in casus-landelijk\n",
    "    df = df.replace({'Hospital_admission': {'Yes': 1, 'No': 0, 'Unknown': 0}, 'Deceased': {'Yes': 1, 'No': 0, 'Unknown': 0}})\n",
    "\n",
    "  # voeg regiocodes to aan elke regel in de dataset\n",
    "  if 'GemeenteCode' in df:\n",
    "    for regiotype in ['GGDregio', 'Provincie', 'Landsdeel', 'Schoolregio']:\n",
    "      df = df.merge(gemeenten[['GemeenteCode', f'{regiotype}Code']].drop_duplicates(), on='GemeenteCode')\n",
    "\n",
    "  # als er geen gemeentecode is, maar misschien wel een VR code, vervang die door VR00\n",
    "  if 'GemeenteCode' in df and 'VeiligheidsregioCode' in df:\n",
    "    df.loc[df.GemeenteCode == 'GM0000', 'VeiligheidsregioCode'] = 'VR00'\n",
    "    df.loc[df.GemeenteCode == 'GM0000', 'Veiligheidsregio'] = ''\n",
    "\n",
    "  df['LandCode'] = 'NL'\n",
    "  df['Land'] = 'Nederland'\n",
    "\n",
    "  # knip de tijd van de datum af, en stop hem in 'Today' (referentiepunt metingen)\n",
    "  if 'Date_of_report' in df:\n",
    "    df['Datum'] = df.Date_of_report.str.replace(' .*', '', regex=True)\n",
    "  elif 'Date_file' in df:\n",
    "    df['Datum'] = df.Date_file.str.replace(' .*', '', regex=True)\n",
    "  df['Today'] = pd.to_datetime(df.Datum)\n",
    "\n",
    "  # zet 'Date' naar de bij de betreffende dataset horende meetdatum-kolom\n",
    "  for when in ['Date_statistics', 'Date_of_statistics', 'Date_of_publication']:\n",
    "    if when in df:\n",
    "      df['Date'] = pd.to_datetime(df[when])\n",
    "      # en direct maar weken terug, die hebben we vaker nodig\n",
    "      df['WekenTerug'] = ((df.Today - df.Date) / np.timedelta64(7, 'D')).astype(int)\n",
    "\n",
    "  return sortcolumns(df).sort_values(by=['Date'])"
   ]
  },
  {
   "cell_type": "code",
   "execution_count": 2,
   "id": "baad2da1",
   "metadata": {
    "execution": {
     "iopub.execute_input": "2021-08-09T17:11:30.377629Z",
     "iopub.status.busy": "2021-08-09T17:11:30.374669Z",
     "iopub.status.idle": "2021-08-09T17:12:02.979240Z",
     "shell.execute_reply": "2021-08-09T17:12:02.978419Z"
    },
    "lines_to_next_cell": 1,
    "papermill": {
     "duration": 32.618135,
     "end_time": "2021-08-09T17:12:02.979368",
     "exception": false,
     "start_time": "2021-08-09T17:11:30.361233",
     "status": "completed"
    },
    "tags": [],
    "title": "regio: load regios en hun basisgegevens"
   },
   "outputs": [
    {
     "name": "stdout",
     "output_type": "stream",
     "text": [
      "rivm/COVID-19_aantallen_gemeente_per_dag-2021-08-09@13-15.csv exists\n"
     ]
    },
    {
     "name": "stdout",
     "output_type": "stream",
     "text": [
      "loading rivm/COVID-19_aantallen_gemeente_per_dag-2021-08-09@13-15.csv.gz\n"
     ]
    },
    {
     "name": "stdout",
     "output_type": "stream",
     "text": [
      "rivm/COVID-19_ziekenhuisopnames-2021-08-09@13-15.csv exists\n"
     ]
    },
    {
     "name": "stdout",
     "output_type": "stream",
     "text": [
      "loading rivm/COVID-19_ziekenhuisopnames-2021-08-09@13-15.csv.gz\n"
     ]
    },
    {
     "name": "stdout",
     "output_type": "stream",
     "text": [
      "loading rivm/COVID-19_ziekenhuisopnames-2021-08-08@13-15.csv.gz\n"
     ]
    },
    {
     "name": "stdout",
     "output_type": "stream",
     "text": [
      "rivm/COVID-19_casus_landelijk-2021-08-09@13-15.csv exists\n"
     ]
    },
    {
     "name": "stdout",
     "output_type": "stream",
     "text": [
      "loading rivm/COVID-19_casus_landelijk-2021-08-09@13-15.csv.gz\n"
     ]
    },
    {
     "name": "stdout",
     "output_type": "stream",
     "text": [
      "loading rivm/COVID-19_casus_landelijk-2021-08-08@13-15.csv.gz\n"
     ]
    }
   ],
   "source": [
    "@run\n",
    "def cell():\n",
    "  global gemeenten\n",
    "  # rename de kolommen naar \"Naam\" + \"NaamCode\" voor makkelijker uniforme data bewerking\n",
    "  gemeenten = pd.read_csv('gemeenten.csv').rename(columns={\n",
    "    'Code': 'GemeenteCode',\n",
    "    'Naam': 'Gemeente',\n",
    "    'Veiligheidsregio Code': 'VeiligheidsregioCode',\n",
    "    'GGD regio': 'GGDregio',\n",
    "    'Landcode': 'LandCode',\n",
    "  })\n",
    "  # niet nodig want die voegen we vanzelf toe bij de per-type constructie van de cijfers\n",
    "  del gemeenten['Type']\n",
    "  \n",
    "  global leeftijdsgroepen\n",
    "  leeftijdsgroepen = pd.read_csv('leeftijdsgroepen.csv')\n",
    "  del leeftijdsgroepen['Type']\n",
    "  lgb = CBS.bevolking(leeftijdsgroepen=True).reset_index()\n",
    "  lgb['Code'] = 'LE' + lgb['Range'].replace({'0-9': '00-09'}).replace('-', '', regex=True).astype(str)\n",
    "  lgb = lgb.rename(columns={'BevolkingOpDeEersteVanDeMaand': 'Personen'})\n",
    "  leeftijdsgroepen = leeftijdsgroepen.merge(lgb[['Code', 'Personen']], how='left', on='Code')\n",
    "\n",
    "  global regiocodes\n",
    "  regiocodes = pd.read_csv('regiocodes.csv')\n",
    "  # sluit aan bij de uniforme naamgeving van hierboven\n",
    "  regiocodes = regiocodes.rename(columns={'Landcode': 'LandCode'})\n",
    "  regiocodes.loc[regiocodes.Type == 'GGD', 'Type'] = 'GGDregio'\n",
    "  \n",
    "  # voeg de regiocodes toe aan de gemeenten tabel voor makkelijker uniforme data bewerking\n",
    "  for regiotype in ['GGDregio', 'Provincie', 'Landsdeel', 'Schoolregio']:\n",
    "    gemeenten = gemeenten.merge(\n",
    "      regiocodes[regiocodes.Type == regiotype][['LandCode', 'Regio', 'Code']].rename(columns={'Code': regiotype + 'Code', 'Regio': regiotype}),\n",
    "      how='left',\n",
    "      on=[regiotype, 'LandCode'],\n",
    "    )\n",
    "  gemeenten = gemeenten.merge(\n",
    "    regiocodes[regiocodes.Type == 'Land'][['LandCode', 'Regio']].rename(columns={'Regio': 'Land'}),\n",
    "    how='left',\n",
    "    on='LandCode'\n",
    "  )\n",
    "\n",
    "  # lege regel voor GM0000\n",
    "  for regiotype, prefix in [('GGDregio', 'GG'), ('Veiligheidsregio', 'VR'), ('Provincie', 'PV'), ('Landsdeel', 'LD'), ('Schoolregio', 'SR')]:\n",
    "    gemeenten.loc[gemeenten.GemeenteCode == 'GM0000', regiotype] = ''\n",
    "    gemeenten.loc[gemeenten.GemeenteCode == 'GM0000', f'{regiotype}Code'] = f'{prefix}00'\n",
    "  gemeenten.loc[gemeenten.GemeenteCode == 'GM0000', 'LandCode'] = 'NL'\n",
    "  \n",
    "  base = 'https://opendata.cbs.nl/ODataApi/OData/37230ned'\n",
    "  \n",
    "  # voor perioden pak de laatste\n",
    "  periode = CBS.odata(base + '/Perioden').iloc[[-1]]['Key'].values[0]\n",
    "  \n",
    "  # startsWith would have been better to do in the filter but then the CBS \"odata-ish\" server responds with\n",
    "  # \"Object reference not set to an instance of an object.\"\n",
    "  bevolking = CBS.odata(base + f\"/TypedDataSet?$filter=(Perioden eq '{periode}')&$select=RegioS, BevolkingAanHetBeginVanDePeriode_1\")\n",
    "  # want de CBS odata API snap startsWith niet...\n",
    "  bevolking = bevolking[bevolking.RegioS.str.startswith('GM')]\n",
    "  # die _1 betekent waarschijnlijk dat het gedrag ooit gewijzigd is en er een nieuwe \"versie\" van die kolom is gepubliceerd\n",
    "  bevolking.rename(columns={'RegioS': 'GemeenteCode', 'BevolkingAanHetBeginVanDePeriode_1': 'BevolkingAanHetBeginVanDePeriode'}, inplace=True)\n",
    "  \n",
    "  gemeenten = gemeenten.merge(bevolking, how='left', on='GemeenteCode')\n",
    "  # default naar gegeven waarde bij ontbrekende data\n",
    "  gemeenten.loc[gemeenten.Personen == 0, 'Personen'] = gemeenten.BevolkingAanHetBeginVanDePeriode\n",
    "  del gemeenten['BevolkingAanHetBeginVanDePeriode']\n",
    "  gemeenten = sortcolumns(gemeenten)\n",
    "\n",
    "  global aantallen, ziekenhuisopnames, ziekenhuisopnames_1, casus_landelijk, casus_landelijk_1\n",
    "  aantallen = prepare('COVID-19_aantallen_gemeente_per_dag', 0)\n",
    "  ziekenhuisopnames = prepare('COVID-19_ziekenhuisopnames', 0)\n",
    "  ziekenhuisopnames_1 = prepare('COVID-19_ziekenhuisopnames', 1)\n",
    "  casus_landelijk = prepare('COVID-19_casus_landelijk', 0)\n",
    "  casus_landelijk_1 = prepare('COVID-19_casus_landelijk', 1)"
   ]
  },
  {
   "cell_type": "code",
   "execution_count": 3,
   "id": "eb1cbb6b",
   "metadata": {
    "execution": {
     "iopub.execute_input": "2021-08-09T17:12:03.100849Z",
     "iopub.status.busy": "2021-08-09T17:12:03.091378Z",
     "iopub.status.idle": "2021-08-09T17:12:03.123518Z",
     "shell.execute_reply": "2021-08-09T17:12:03.122750Z"
    },
    "lines_to_next_cell": 1,
    "papermill": {
     "duration": 0.136176,
     "end_time": "2021-08-09T17:12:03.123640",
     "exception": false,
     "start_time": "2021-08-09T17:12:02.987464",
     "status": "completed"
    },
    "tags": [],
    "title": "Ondersteunde code voor de regio berekeningen"
   },
   "outputs": [],
   "source": [
    "def groupregio(regiotype):\n",
    "  \"\"\"\n",
    "    Groepeer de gemeenten tabel op gegeven regiotypen en sommeer personen/oppervlakte\n",
    "  \"\"\"\n",
    "  global gemeenten\n",
    "\n",
    "  grouping = [ f'{regiotype}Code', regiotype]\n",
    "  if regiotype != 'Land':\n",
    "    grouping += [ 'LandCode' ]\n",
    "\n",
    "  # deze kolommen willen we voor de resultset, ook al zijn ze voor alles behalve 'Gemeente' leeg\n",
    "  columns = [\n",
    "    'GGDregio',\n",
    "    'Veiligheidsregio',\n",
    "    'VeiligheidsregioCode',\n",
    "    'Provincie',\n",
    "    'Landsdeel',\n",
    "    'Schoolregio',\n",
    "    'Land',\n",
    "  ]\n",
    "\n",
    "  if regiotype == 'Gemeente':\n",
    "    # hier hoeven we niets te doen dan de juiste kolommen te selecteren\n",
    "    df = gemeenten[grouping + columns + ['Personen', 'Opp land km2']].rename(columns={'Gemeente': 'Naam', 'GemeenteCode': 'Code'})\n",
    "  elif regiotype == 'Leeftijd':\n",
    "    df = (leeftijdsgroepen\n",
    "      # voeg de lege kolommen toe\n",
    "      .assign(**{ col: '' for col in columns})\n",
    "      .assign(**{'Opp land km2': 0})\n",
    "    )\n",
    "  else:\n",
    "    df = (gemeenten[gemeenten.GemeenteCode != 'GM0000']\n",
    "      # groupeer op regiotype, sommeer oppervlakte en personen\n",
    "      .groupby(grouping).agg({ 'Personen': 'sum', 'Opp land km2': 'sum' })\n",
    "      .reset_index()\n",
    "      # standardiseerd de 'Naam' en 'Code' kolommen zodat ze klaar zijn voor output.\n",
    "      .rename(columns={regiotype: 'Naam', f'{regiotype}Code': 'Code'})\n",
    "      # voeg de lege kolommen toe\n",
    "      .assign(**{ col: '' for col in columns })\n",
    "    )\n",
    "    if regiotype == 'Land':\n",
    "      df['Land'] = df['Naam']\n",
    "      df['LandCode'] = df['Code']\n",
    "  # voeg het regiotype toe in de Type kolom\n",
    "  return df.assign(Type=regiotype)\n",
    "\n",
    "def sumcols(df, regiotype, columns):\n",
    "  \"\"\"\n",
    "    groepeer en sommeer deceased/admission/positive\n",
    "  \"\"\"\n",
    "  regiotype_code = f'{regiotype}Code'\n",
    "  return (df\n",
    "    # groepeer op regiotype en selecteer de gewenste kolommen\n",
    "    .groupby([regiotype_code])[list(columns.keys())]\n",
    "    # sommeer\n",
    "    .sum()\n",
    "    # rename naar gewenste output kolommen\n",
    "    .rename(columns=columns)\n",
    "  )\n",
    "\n",
    "def histcols(df, regiotype, maxweeks, column, colors=False, highestweek=False):\n",
    "  \"\"\"\n",
    "    voeg week historie toe:\n",
    "    - regiotype\n",
    "    - maxweeks = hoeveel weken\n",
    "    - column = deceased/admission/positive naam => output kolom\n",
    "    - colors = toevoegen schaalverdeling kleuren\n",
    "    - highestweek = toevoegen op welke week het maximum was behaald\n",
    "  \"\"\"\n",
    "  # in principe zouden we kunnen groeperen/sommeren op meerdere kolommen tegelijk maar dan worden colors en highestweek weer heel complex\n",
    "  assert len(column) == 1\n",
    "  label = list(column.values())[0]\n",
    "  datacolumn = list(column.keys())[0]\n",
    "  regiotype_code = f'{regiotype}Code'\n",
    "\n",
    "  # knip alle data van >= maxweeks eruit\n",
    "  df = df[df.WekenTerug < maxweeks]\n",
    "\n",
    "  # als we schalen naar 100.000, voor hoeveel telt elke melding dan mee\n",
    "  if 'scale' in df:\n",
    "    df = df.assign(count=df[datacolumn] * df.scale).replace(np.inf, 0)\n",
    "  else:\n",
    "    df = df.assign(count=df[datacolumn])\n",
    "\n",
    "  df = (df\n",
    "    # groepeer op reguitype en wekenterug\n",
    "    .groupby([regiotype_code, 'WekenTerug'])['count']\n",
    "    # optellen (de aantallen zijn eventueel hierboven al geschaald)\n",
    "    .sum()\n",
    "    # maak de week nummers kolommen\n",
    "    .unstack(level=-1)\n",
    "    # en vul de kolommen uit zodat als een week helemaal geen meldingen heeft dat die niet weg blijft maar 0 bevat\n",
    "    .reindex(columns=np.arange(maxweeks), fill_value=0)\n",
    "  )\n",
    "\n",
    "  merges = []\n",
    "  # must be done before colors is merged and before the columns are renamed\n",
    "  if highestweek:\n",
    "    merges.append(df.idxmax(axis=1).to_frame().rename(columns={0: f'{label} hoogste week'}))\n",
    "\n",
    "  # hernoem de kolommen van de getallen die ze nu zijn\n",
    "  df.columns = [f'{label} w{-col}' for col in df.columns.values]\n",
    "\n",
    "  # must be done before highestweek is merged but after the columns are renamed\n",
    "  if colors:\n",
    "    # kleurkolommen zijn waarde van de week gedeeld door het maximum over de weken heen\n",
    "    merges.append((df.divide(df.max(axis=1), axis=0) * 1000).rename(columns={col:col.replace(' w', ' cw') for col in df}))\n",
    "\n",
    "  for extra in merges:\n",
    "    df = df.merge(extra, left_index=True, right_index=True)\n",
    "\n",
    "  # bij ontbreken van w-1 vaste waarde 9.99\n",
    "  df[f'{label} t.o.v. vorige week'] = (df[f'{label} w0'] / df[f'{label} w-1']).replace(np.inf, 9.99)\n",
    "  return df\n",
    "\n",
    "def collect(regiotype):\n",
    "  \"\"\"\n",
    "    verzamel alle kolommen voor gegeven regiotype\n",
    "  \"\"\"\n",
    "  regiotype_code = f'{regiotype}Code'\n",
    "\n",
    "  def datasets():\n",
    "    if regiotype == 'Leeftijd':\n",
    "      global casus_landelijk, casus_landelijk_1\n",
    "      return (casus_landelijk, casus_landelijk, casus_landelijk_1)\n",
    "    else:\n",
    "      global aantallen, ziekenhuisopnames, ziekenhuisopnames_1\n",
    "      return (aantallen, ziekenhuisopnames, ziekenhuisopnames_1)\n",
    "\n",
    "  aantallen, ziekenhuisopnames, ziekenhuisopnames_1 = datasets()\n",
    "\n",
    "  assert len(aantallen.Datum.unique()) == 1\n",
    "  assert len(ziekenhuisopnames_1.Datum.unique()) == 1\n",
    "  assert list(aantallen.Datum.unique()) == list(ziekenhuisopnames.Datum.unique()), list(aantallen.Datum.unique()) + list(ziekenhuisopnames.Datum.unique())\n",
    "\n",
    "  # sommeer Total_reported en Deceased voor gegeven regiotype\n",
    "  pos_dec = sumcols(aantallen, regiotype, {'Total_reported':'Positief getest', 'Deceased':'Overleden'})\n",
    "  # toename is precies hetzelfde maar dan alleen voor de metingen van 'vandaag'\n",
    "  pos_dec_delta = sumcols(\n",
    "    aantallen[aantallen.Date == aantallen.Today],\n",
    "    regiotype,\n",
    "    {'Total_reported':'Positief getest (toename)', 'Deceased':'Overleden (toename)'}\n",
    "  )\n",
    "  # sommeer Hospital_admission voor gegeven regiotype\n",
    "  admissions = sumcols(ziekenhuisopnames, regiotype, {'Hospital_admission':'Ziekenhuisopname'})\n",
    "  # sommeer Hospital_admission van 'vorige dag' voor gegeven regiotype\n",
    "  admissions_1 = sumcols(ziekenhuisopnames_1, regiotype, {'Hospital_admission':'Ziekenhuisopname_1'})\n",
    "  # voeg ze bij elkaar en trek ze van elkaar af\n",
    "  admissions_delta = admissions.merge(admissions_1, how='left', on=regiotype_code)\n",
    "  admissions_delta['Ziekenhuisopname (toename)'] = admissions_delta.Ziekenhuisopname - admissions_delta.Ziekenhuisopname_1\n",
    "  # niet meer nodig en vervuilen anders het resultaat\n",
    "  del admissions_delta['Ziekenhuisopname']\n",
    "  del admissions_delta['Ziekenhuisopname_1']\n",
    "\n",
    "  # groupeer de gemeenten op gegeven regiotype\n",
    "  df = (groupregio(regiotype)\n",
    "    # en voeg de berekende kolommen toe\n",
    "    .merge(pos_dec, how='left', left_on='Code', right_index=True)\n",
    "    .merge(admissions, how='left', left_on='Code', right_index=True)\n",
    "    .merge(pos_dec_delta, how='left', left_on='Code', right_index=True)\n",
    "    .merge(admissions_delta, how='left', left_on='Code', right_index=True)\n",
    "    .fillna(0)\n",
    "  )\n",
    "  # per 100k voor de absolute kolommen\n",
    "  for cat in [pos_dec, admissions]:\n",
    "    for col in cat.columns:\n",
    "      df[col + ' per 100.000'] = ((df[col] * 100000) / df.Personen).replace(np.inf, 0)\n",
    "\n",
    "  df['Positief getest 1d/100k'] = ((df['Positief getest (toename)'] * 100000) / df.Personen).replace(np.inf, 0)\n",
    "  df['Positief getest percentage'] = (df['Positief getest'] / df.Personen).replace(np.inf, 0)\n",
    "  df['Positief getest per km2'] = (df['Positief getest'] / df['Opp land km2']).replace(np.inf, 0)\n",
    "\n",
    "  # weekhistories\n",
    "  maxweeks = 26\n",
    "  df = (df\n",
    "    .merge(histcols(\n",
    "      aantallen,\n",
    "      regiotype,\n",
    "      maxweeks=maxweeks,\n",
    "      colors=True,\n",
    "      highestweek=True,\n",
    "      column={'Total_reported':'Positief getest'}), how='left', left_on='Code', right_index=True)\n",
    "    .merge(histcols(\n",
    "      aantallen.merge(df.assign(scale=100000 / df.Personen)[['Code', 'scale']], left_on=regiotype_code, right_on='Code'),\n",
    "      regiotype,\n",
    "      maxweeks=maxweeks,\n",
    "      column={'Total_reported':'Positief getest 7d/100k'}), how='left', left_on='Code', right_index=True)\n",
    "    .merge(histcols(ziekenhuisopnames,\n",
    "      regiotype,\n",
    "      maxweeks=maxweeks,\n",
    "      colors=True,\n",
    "      column={'Hospital_admission':'Ziekenhuisopname'}), how='left', left_on='Code', right_index=True)\n",
    "    .merge(histcols(\n",
    "      aantallen,\n",
    "      regiotype,\n",
    "      maxweeks=maxweeks,\n",
    "      colors=True,\n",
    "      column={'Deceased':'Overleden'}), how='left', left_on='Code', right_index=True)\n",
    "  )\n",
    "  df['Datum'] = aantallen.Datum.unique()[0]\n",
    "\n",
    "  return df"
   ]
  },
  {
   "cell_type": "code",
   "execution_count": 4,
   "id": "38e57478",
   "metadata": {
    "execution": {
     "iopub.execute_input": "2021-08-09T17:12:03.145029Z",
     "iopub.status.busy": "2021-08-09T17:12:03.143339Z",
     "iopub.status.idle": "2021-08-09T17:12:14.733204Z",
     "shell.execute_reply": "2021-08-09T17:12:14.732381Z"
    },
    "lines_to_next_cell": 1,
    "papermill": {
     "duration": 11.601923,
     "end_time": "2021-08-09T17:12:14.733334",
     "exception": false,
     "start_time": "2021-08-09T17:12:03.131411",
     "status": "completed"
    },
    "tags": [],
    "title": "regio: load verschillende aggregatie niveaus"
   },
   "outputs": [],
   "source": [
    "@run\n",
    "def cell():\n",
    "  global regios\n",
    "  # verzamel de data voor de gegeven regiotypes en plak ze onder elkaar\n",
    "  regios = pd.concat([\n",
    "    collect(regiotype)\n",
    "    for regiotype in\n",
    "    [\n",
    "      'Gemeente',\n",
    "      'GGDregio',\n",
    "      'Veiligheidsregio',\n",
    "      'Provincie',\n",
    "      'Landsdeel',\n",
    "      'Schoolregio',\n",
    "      'Land',\n",
    "      'Leeftijd',\n",
    "    ]\n",
    "  ])\n",
    "  # maak de kolommen leeg voor GM0000\n",
    "  # hernoem de eerder geuniformeerde kolomen terug naar de gewenste output\n",
    "  regios = regios.rename(columns={\n",
    "    'LandCode': 'Landcode',\n",
    "    'VeiligheidsregioCode': 'Veiligheidsregio Code',\n",
    "    'GGDregio': 'GGD regio'\n",
    "  })"
   ]
  },
  {
   "cell_type": "code",
   "execution_count": 5,
   "id": "136c7121",
   "metadata": {
    "execution": {
     "iopub.execute_input": "2021-08-09T17:12:14.756194Z",
     "iopub.status.busy": "2021-08-09T17:12:14.755723Z",
     "iopub.status.idle": "2021-08-09T17:12:38.665957Z",
     "shell.execute_reply": "2021-08-09T17:12:38.666361Z"
    },
    "lines_to_next_cell": 1,
    "papermill": {
     "duration": 23.925334,
     "end_time": "2021-08-09T17:12:38.666520",
     "exception": false,
     "start_time": "2021-08-09T17:12:14.741186",
     "status": "completed"
    },
    "tags": [],
    "title": "publiceer RegioV2"
   },
   "outputs": [
    {
     "name": "stdout",
     "output_type": "stream",
     "text": [
      "infinities:\n"
     ]
    },
    {
     "name": "stdout",
     "output_type": "stream",
     "text": [
      "Empty DataFrame\n",
      "Columns: []\n",
      "Index: []\n"
     ]
    },
    {
     "name": "stdout",
     "output_type": "stream",
     "text": [
      "nan:\n"
     ]
    },
    {
     "name": "stdout",
     "output_type": "stream",
     "text": [
      "Empty DataFrame\n",
      "Columns: []\n",
      "Index: []\n"
     ]
    },
    {
     "name": "stdout",
     "output_type": "stream",
     "text": [
      "Code                             object\n",
      "Naam                             object\n",
      "Landcode                         object\n",
      "GGD regio                        object\n",
      "Veiligheidsregio                 object\n",
      "                                 ...   \n",
      "Overleden cw-23                 float64\n",
      "Overleden cw-24                 float64\n",
      "Overleden cw-25                 float64\n",
      "Overleden t.o.v. vorige week    float64\n",
      "Datum                            object\n",
      "Length: 212, dtype: object\n",
      "updating knack\n"
     ]
    },
    {
     "name": "stdout",
     "output_type": "stream",
     "text": [
      "updating: [{'Key': 1, 'Updating RegioV2': 'true'}]\n"
     ]
    },
    {
     "name": "stdout",
     "output_type": "stream",
     "text": [
      "restored LaatsteUpdate from hash\n"
     ]
    },
    {
     "name": "stdout",
     "output_type": "stream",
     "text": [
      "Key                  int64\n",
      "Updating RegioV2    object\n",
      "dtype: object\n"
     ]
    },
    {
     "name": "stderr",
     "output_type": "stream",
     "text": [
      "\r",
      "  0%|          | 0/1 [00:00<?, ?it/s]"
     ]
    },
    {
     "name": "stderr",
     "output_type": "stream",
     "text": [
      "\r",
      "100%|██████████| 1/1 [00:00<00:00,  1.08it/s]"
     ]
    },
    {
     "name": "stderr",
     "output_type": "stream",
     "text": [
      "\r",
      "100%|██████████| 1/1 [00:00<00:00,  1.08it/s]"
     ]
    },
    {
     "name": "stdout",
     "output_type": "stream",
     "text": [
      "\n",
      "rate limit: 7 \n",
      "LaatsteUpdate API calls: create: 0, read: 1, update: 1, delete: 0, backoff: 0\n"
     ]
    },
    {
     "name": "stderr",
     "output_type": "stream",
     "text": [
      "\n"
     ]
    },
    {
     "name": "stdout",
     "output_type": "stream",
     "text": [
      "restored RegioV2 from hash\n"
     ]
    },
    {
     "name": "stdout",
     "output_type": "stream",
     "text": [
      "Code                     object\n",
      "Datum                    object\n",
      "GGD regio                object\n",
      "Landcode                 object\n",
      "Landsdeel                object\n",
      "                         ...   \n",
      "Ziekenhuisopname w-6    float64\n",
      "Ziekenhuisopname w-7    float64\n",
      "Ziekenhuisopname w-8    float64\n",
      "Ziekenhuisopname w-9    float64\n",
      "Ziekenhuisopname w0     float64\n",
      "Length: 212, dtype: object\n"
     ]
    },
    {
     "name": "stdout",
     "output_type": "stream",
     "text": [
      "nothing to do for RegioV2\n"
     ]
    },
    {
     "name": "stdout",
     "output_type": "stream",
     "text": [
      "\n",
      "rate limit: 7 \n",
      "RegioV2 API calls: create: 0, read: 2, update: 0, delete: 0, backoff: 0\n"
     ]
    },
    {
     "name": "stdout",
     "output_type": "stream",
     "text": [
      "[{'Key': 1, 'Timestamp RegioV2 RIVM': '2021-08-09 14:15'}]\n"
     ]
    },
    {
     "name": "stdout",
     "output_type": "stream",
     "text": [
      "timestamps: [{'Key': 1, 'Timestamp RegioV2 RIVM': '2021-08-09 14:15'}]\n",
      "Key                        int64\n",
      "Timestamp RegioV2 RIVM    object\n",
      "dtype: object\n"
     ]
    },
    {
     "name": "stderr",
     "output_type": "stream",
     "text": [
      "\r",
      "  0%|          | 0/1 [00:00<?, ?it/s]"
     ]
    },
    {
     "name": "stderr",
     "output_type": "stream",
     "text": [
      "\r",
      "100%|██████████| 1/1 [00:01<00:00,  1.75s/it]"
     ]
    },
    {
     "name": "stderr",
     "output_type": "stream",
     "text": [
      "\r",
      "100%|██████████| 1/1 [00:01<00:00,  1.76s/it]"
     ]
    },
    {
     "name": "stdout",
     "output_type": "stream",
     "text": [
      "\n",
      "rate limit: 7 \n",
      "LaatsteUpdate API calls: create: 0, read: 0, update: 1, delete: 0, backoff: 0\n"
     ]
    },
    {
     "name": "stderr",
     "output_type": "stream",
     "text": [
      "\n"
     ]
    },
    {
     "name": "stdout",
     "output_type": "stream",
     "text": [
      "BatchName     object\n",
      "ObjectName    object\n",
      "Source        object\n",
      "Timestamp     object\n",
      "dtype: object\n"
     ]
    },
    {
     "name": "stderr",
     "output_type": "stream",
     "text": [
      "\r",
      "  0%|          | 0/1 [00:00<?, ?it/s]"
     ]
    },
    {
     "name": "stderr",
     "output_type": "stream",
     "text": [
      "\r",
      "100%|██████████| 1/1 [00:00<00:00,  1.05it/s]"
     ]
    },
    {
     "name": "stderr",
     "output_type": "stream",
     "text": [
      "\r",
      "100%|██████████| 1/1 [00:00<00:00,  1.05it/s]"
     ]
    },
    {
     "name": "stderr",
     "output_type": "stream",
     "text": [
      "\n"
     ]
    },
    {
     "name": "stdout",
     "output_type": "stream",
     "text": [
      "\n",
      "rate limit: 7 \n",
      "UpdateDetails API calls: create: 1, read: 0, update: 0, delete: 0, backoff: 0\n"
     ]
    },
    {
     "name": "stdout",
     "output_type": "stream",
     "text": [
      "updating: [{'Key': 1, 'Updating RegioV2': 'false'}]\n",
      "Key                  int64\n",
      "Updating RegioV2    object\n",
      "dtype: object\n"
     ]
    },
    {
     "name": "stderr",
     "output_type": "stream",
     "text": [
      "\r",
      "  0%|          | 0/1 [00:00<?, ?it/s]"
     ]
    },
    {
     "name": "stderr",
     "output_type": "stream",
     "text": [
      "\r",
      "100%|██████████| 1/1 [00:03<00:00,  3.54s/it]"
     ]
    },
    {
     "name": "stderr",
     "output_type": "stream",
     "text": [
      "\r",
      "100%|██████████| 1/1 [00:03<00:00,  3.54s/it]"
     ]
    },
    {
     "name": "stdout",
     "output_type": "stream",
     "text": [
      "\n",
      "rate limit: 7 \n",
      "LaatsteUpdate API calls: create: 0, read: 0, update: 1, delete: 0, backoff: 0\n"
     ]
    },
    {
     "name": "stderr",
     "output_type": "stream",
     "text": [
      "\n"
     ]
    }
   ],
   "source": [
    "if knack:\n",
    "  await knack.publish(regios[[col for col in regios.columns if col != 'Land']].fillna(0), 'RegioV2', Cache)"
   ]
  },
  {
   "cell_type": "code",
   "execution_count": 6,
   "id": "faadbab7",
   "metadata": {
    "execution": {
     "iopub.execute_input": "2021-08-09T17:12:38.716267Z",
     "iopub.status.busy": "2021-08-09T17:12:38.706645Z",
     "iopub.status.idle": "2021-08-09T17:12:47.043813Z",
     "shell.execute_reply": "2021-08-09T17:12:47.043372Z"
    },
    "lines_to_next_cell": 0,
    "papermill": {
     "duration": 8.361011,
     "end_time": "2021-08-09T17:12:47.043928",
     "exception": false,
     "start_time": "2021-08-09T17:12:38.682917",
     "status": "completed"
    },
    "tags": [],
    "title": "Regioposten"
   },
   "outputs": [
    {
     "name": "stdout",
     "output_type": "stream",
     "text": [
      "rivm/COVID-19_aantallen_gemeente_per_dag-2021-08-09@13-15.csv exists\n"
     ]
    },
    {
     "name": "stdout",
     "output_type": "stream",
     "text": [
      "loading rivm/COVID-19_aantallen_gemeente_per_dag-2021-08-09@13-15.csv.gz\n"
     ]
    },
    {
     "name": "stdout",
     "output_type": "stream",
     "text": [
      "rivm/COVID-19_ziekenhuisopnames-2021-08-09@13-15.csv exists\n"
     ]
    },
    {
     "name": "stdout",
     "output_type": "stream",
     "text": [
      "loading rivm/COVID-19_ziekenhuisopnames-2021-08-09@13-15.csv.gz\n"
     ]
    },
    {
     "name": "stdout",
     "output_type": "stream",
     "text": [
      "78 weken\n",
      "GGDregio\n"
     ]
    },
    {
     "name": "stdout",
     "output_type": "stream",
     "text": [
      "Gemeente\n"
     ]
    },
    {
     "name": "stdout",
     "output_type": "stream",
     "text": [
      "Land\n"
     ]
    },
    {
     "name": "stdout",
     "output_type": "stream",
     "text": [
      "Landsdeel\n"
     ]
    },
    {
     "name": "stdout",
     "output_type": "stream",
     "text": [
      "Provincie\n"
     ]
    },
    {
     "name": "stdout",
     "output_type": "stream",
     "text": [
      "Schoolregio\n"
     ]
    },
    {
     "name": "stdout",
     "output_type": "stream",
     "text": [
      "Veiligheidsregio\n"
     ]
    },
    {
     "data": {
      "text/html": [
       "<div>\n",
       "<style scoped>\n",
       "    .dataframe tbody tr th:only-of-type {\n",
       "        vertical-align: middle;\n",
       "    }\n",
       "\n",
       "    .dataframe tbody tr th {\n",
       "        vertical-align: top;\n",
       "    }\n",
       "\n",
       "    .dataframe thead th {\n",
       "        text-align: right;\n",
       "    }\n",
       "</style>\n",
       "<table border=\"1\" class=\"dataframe\">\n",
       "  <thead>\n",
       "    <tr style=\"text-align: right;\">\n",
       "      <th></th>\n",
       "      <th>Week</th>\n",
       "      <th>Positief getest week</th>\n",
       "      <th>Positief getest laatste dag</th>\n",
       "      <th>Positief getest ma</th>\n",
       "      <th>Positief getest di</th>\n",
       "      <th>Positief getest wo</th>\n",
       "      <th>Positief getest do</th>\n",
       "      <th>Positief getest vr</th>\n",
       "      <th>Positief getest za</th>\n",
       "      <th>Positief getest zo</th>\n",
       "      <th>Positief getest week -1</th>\n",
       "    </tr>\n",
       "  </thead>\n",
       "  <tbody>\n",
       "    <tr>\n",
       "      <th>0</th>\n",
       "      <td>2020-09</td>\n",
       "      <td>0.0</td>\n",
       "      <td>0.0</td>\n",
       "      <td>0.0</td>\n",
       "      <td>0.0</td>\n",
       "      <td>0.0</td>\n",
       "      <td>0.0</td>\n",
       "      <td>0.0</td>\n",
       "      <td>0.0</td>\n",
       "      <td>0.0</td>\n",
       "      <td>0.0</td>\n",
       "    </tr>\n",
       "    <tr>\n",
       "      <th>1</th>\n",
       "      <td>2020-10</td>\n",
       "      <td>1.0</td>\n",
       "      <td>1.0</td>\n",
       "      <td>0.0</td>\n",
       "      <td>0.0</td>\n",
       "      <td>0.0</td>\n",
       "      <td>0.0</td>\n",
       "      <td>0.0</td>\n",
       "      <td>0.0</td>\n",
       "      <td>1.0</td>\n",
       "      <td>0.0</td>\n",
       "    </tr>\n",
       "    <tr>\n",
       "      <th>2</th>\n",
       "      <td>2020-11</td>\n",
       "      <td>13.0</td>\n",
       "      <td>9.0</td>\n",
       "      <td>0.0</td>\n",
       "      <td>1.0</td>\n",
       "      <td>0.0</td>\n",
       "      <td>0.0</td>\n",
       "      <td>0.0</td>\n",
       "      <td>3.0</td>\n",
       "      <td>9.0</td>\n",
       "      <td>1.0</td>\n",
       "    </tr>\n",
       "    <tr>\n",
       "      <th>3</th>\n",
       "      <td>2020-12</td>\n",
       "      <td>21.0</td>\n",
       "      <td>3.0</td>\n",
       "      <td>3.0</td>\n",
       "      <td>2.0</td>\n",
       "      <td>2.0</td>\n",
       "      <td>1.0</td>\n",
       "      <td>5.0</td>\n",
       "      <td>5.0</td>\n",
       "      <td>3.0</td>\n",
       "      <td>13.0</td>\n",
       "    </tr>\n",
       "    <tr>\n",
       "      <th>4</th>\n",
       "      <td>2020-13</td>\n",
       "      <td>36.0</td>\n",
       "      <td>6.0</td>\n",
       "      <td>3.0</td>\n",
       "      <td>3.0</td>\n",
       "      <td>4.0</td>\n",
       "      <td>6.0</td>\n",
       "      <td>7.0</td>\n",
       "      <td>7.0</td>\n",
       "      <td>6.0</td>\n",
       "      <td>21.0</td>\n",
       "    </tr>\n",
       "  </tbody>\n",
       "</table>\n",
       "</div>"
      ],
      "text/plain": [
       "      Week  Positief getest week  Positief getest laatste dag  \\\n",
       "0  2020-09                   0.0                          0.0   \n",
       "1  2020-10                   1.0                          1.0   \n",
       "2  2020-11                  13.0                          9.0   \n",
       "3  2020-12                  21.0                          3.0   \n",
       "4  2020-13                  36.0                          6.0   \n",
       "\n",
       "   Positief getest ma  Positief getest di  Positief getest wo  \\\n",
       "0                 0.0                 0.0                 0.0   \n",
       "1                 0.0                 0.0                 0.0   \n",
       "2                 0.0                 1.0                 0.0   \n",
       "3                 3.0                 2.0                 2.0   \n",
       "4                 3.0                 3.0                 4.0   \n",
       "\n",
       "   Positief getest do  Positief getest vr  Positief getest za  \\\n",
       "0                 0.0                 0.0                 0.0   \n",
       "1                 0.0                 0.0                 0.0   \n",
       "2                 0.0                 0.0                 3.0   \n",
       "3                 1.0                 5.0                 5.0   \n",
       "4                 6.0                 7.0                 7.0   \n",
       "\n",
       "   Positief getest zo  Positief getest week -1  \n",
       "0                 0.0                      0.0  \n",
       "1                 1.0                      0.0  \n",
       "2                 9.0                      1.0  \n",
       "3                 3.0                     13.0  \n",
       "4                 6.0                     21.0  "
      ]
     },
     "metadata": {},
     "output_type": "display_data"
    }
   ],
   "source": [
    "@run\n",
    "def cell():\n",
    "  # just so the timestamps update OK\n",
    "  Cache.reset()\n",
    "\n",
    "  import sys\n",
    "  aantallen = prepare('COVID-19_aantallen_gemeente_per_dag').assign(Hospital_admission=np.nan)\n",
    "  aantallen['Week'] = aantallen['Date'].dt.strftime('%Y-%V')\n",
    "  ziekenhuisopnames = prepare('COVID-19_ziekenhuisopnames').assign(Total_reported=np.nan, Deceased=np.nan)\n",
    "  ziekenhuisopnames['Week'] = ziekenhuisopnames['Date'].dt.strftime('%Y-%V')\n",
    "\n",
    "  regiotypes = [ 'GGDregio', 'Gemeente', 'Land', 'Landsdeel', 'Provincie', 'Schoolregio', 'Veiligheidsregio' ]\n",
    "  regiocodecols = [f'{regiotype}Code' for regiotype in regiotypes]\n",
    "  datafields = [ 'Date', 'Week', 'Hospital_admission', 'Total_reported', 'Deceased']\n",
    "  rivm = pd.concat([\n",
    "    aantallen[regiocodecols + datafields],\n",
    "    ziekenhuisopnames[regiocodecols + datafields],\n",
    "  ], axis=0)\n",
    "\n",
    "  weken = list(pd.date_range(\n",
    "    start=min(aantallen.Date.min(), ziekenhuisopnames.Date.min()),\n",
    "    end=max(aantallen.Date.max(), ziekenhuisopnames.Date.max())\n",
    "  ).strftime('%Y-%V').unique())\n",
    "  print(len(weken), 'weken')\n",
    "  week = ['ma', 'di', 'wo', 'do', 'vr', 'za', 'zo']\n",
    "  metrics = [\n",
    "    'Total_reported',\n",
    "    'Deceased',\n",
    "    'Hospital_admission',\n",
    "  ]\n",
    "\n",
    "  global regioposten\n",
    "  regioposten = []\n",
    "  for regiotype in regiotypes:\n",
    "    print(regiotype)\n",
    "    sys.stdout.flush()\n",
    "    code = regiotype + 'Code'\n",
    "\n",
    "    df = (rivm\n",
    "      .sort_values(by=[code, 'Date'])\n",
    "      .groupby([code, 'Week', 'Date'])\n",
    "      .agg({ metric: 'sum' for metric in metrics })\n",
    "      .reset_index()\n",
    "    )\n",
    "    for dow, dayname in enumerate(week):\n",
    "      for metric in metrics:\n",
    "        df.loc[df['Date'].dt.dayofweek == dow, f'{metric} {dayname}'] = df[metric]\n",
    "\n",
    "    df = (df\n",
    "      .sort_values(by=[code, 'Date'])\n",
    "      .groupby([code, 'Week'])\n",
    "      .agg({\n",
    "        'Date': [ 'max', 'nunique' ],\n",
    "        'Total_reported': [ 'sum', 'last' ],\n",
    "        'Deceased': [ 'sum', 'last' ],\n",
    "        'Hospital_admission': [ 'sum', 'last' ],\n",
    "        **{\n",
    "          f'{metric} {day}': 'sum'\n",
    "          for metric in metrics\n",
    "          for day in week\n",
    "        }\n",
    "      })\n",
    "      .reset_index()\n",
    "    )\n",
    "    df.columns = [' '.join(col).strip() for col in df.columns.values]\n",
    "    df.rename(columns={\n",
    "      code: 'Code',\n",
    "      'Date max': 'Datum',\n",
    "      'Date nunique': 'Dagen',\n",
    "      'Total_reported sum': 'Positief getest week',\n",
    "      'Total_reported last': 'Positief getest laatste dag',\n",
    "      'Deceased sum': 'Overleden week',\n",
    "      'Deceased last': 'Overleden laatste dag',\n",
    "      'Hospital_admission sum': 'Ziekenhuisopname week',\n",
    "      'Hospital_admission last': 'Ziekenhuisopname laatste dag',\n",
    "      **{ f'Total_reported {day} sum': f'Positief getest {day}' for day in week },\n",
    "      **{ f'Deceased {day} sum': f'Overleden {day}' for day in week },\n",
    "      **{ f'Hospital_admission {day} sum': f'Ziekenhuisopname {day}' for day in week },\n",
    "    }, inplace=True)\n",
    "\n",
    "    regio = groupregio(regiotype)\n",
    "    regio = regio[[col for col in regio.columns if col == 'Code' or 'Code' not in col and 'km2' not in col]]\n",
    "    df = df.merge(regio, how='left', on='Code')\n",
    "    for col, coltype in zip(regio.columns, regio.dtypes):\n",
    "      if col == 'Personen':\n",
    "        df[col] = df[col].fillna(0).astype(int)\n",
    "      elif col == 'Type':\n",
    "        df[col] = df[col].fillna(regiotype)\n",
    "      elif coltype == np.float64:\n",
    "        df[col] = df[col].fillna(0)\n",
    "      elif coltype == object:\n",
    "        df[col] = df[col].fillna('')\n",
    "      else:\n",
    "        raise KeyError(col)\n",
    "    df['Landcode'] = 'NL'\n",
    "\n",
    "    base = [\n",
    "      (code, week)\n",
    "      for code in list(df.Code.unique())\n",
    "      for week in weken\n",
    "    ]\n",
    "    base = pd.DataFrame({\n",
    "        'Week': [week for code, week in base],\n",
    "        'Code': [code for code, week in base],\n",
    "      },\n",
    "      index=['-'.join(codeweek) for codeweek in base]\n",
    "    )\n",
    "\n",
    "    df['Naam + Type'] = df['Naam'] + ' (' + df['Type'] + ')'\n",
    "    df['Key'] = df['Code'] + '-' + df['Week']\n",
    "    df.set_index('Key', inplace=True)\n",
    "    df.drop(columns=['Code', 'Week'], inplace=True)\n",
    "\n",
    "    df = base.join(df)\n",
    "\n",
    "    for col in ['Positief getest', 'Overleden', 'Ziekenhuisopname']:\n",
    "      # vul missende waarden met 0 vanaf de eerstgevonden waarde zodat cumsum goed werkt\n",
    "      #df[f'{col} week'] = df[f'{col} week'].mask(df[f'{col} week'].ffill().isnull(), 0)\n",
    "      #df[f'{col} cumulatief'] = df[f'{col} week'].cumsum().fillna(0)\n",
    "      #df[f'{col} week -1'] = df[f'{col} cumulatief'].shift(1).fillna(0)\n",
    "      df[f'{col} week'] = df[f'{col} week'].fillna(0)\n",
    "      df[f'{col} week -1'] = df[f'{col} week'].shift(1).fillna(0)\n",
    "\n",
    "    df.index.rename('Key', inplace=True)\n",
    "    df = df[[col for col in df.columns if col != 'Land']]\n",
    "    regioposten.append(df.reset_index())\n",
    "  regioposten = pd.concat(regioposten, axis=0)\n",
    "  regioposten['Datum'] = regioposten['Datum'].dt.strftime('%Y-%m-%d')\n",
    "  regioposten.rename(columns={'GGDregio': 'GGD regio'}, inplace=True)\n",
    "\n",
    "  display(regioposten[['Week'] + [col for col in regioposten.columns if 'Positief getest' in col]].head())"
   ]
  },
  {
   "cell_type": "code",
   "execution_count": 7,
   "id": "df7fb580",
   "metadata": {
    "execution": {
     "iopub.execute_input": "2021-08-09T17:12:47.086902Z",
     "iopub.status.busy": "2021-08-09T17:12:47.085721Z",
     "iopub.status.idle": "2021-08-09T17:17:11.135503Z",
     "shell.execute_reply": "2021-08-09T17:17:11.135025Z"
    },
    "lines_to_next_cell": 1,
    "papermill": {
     "duration": 264.072107,
     "end_time": "2021-08-09T17:17:11.135626",
     "exception": false,
     "start_time": "2021-08-09T17:12:47.063519",
     "status": "completed"
    },
    "tags": []
   },
   "outputs": [
    {
     "name": "stdout",
     "output_type": "stream",
     "text": [
      "infinities:\n"
     ]
    },
    {
     "name": "stdout",
     "output_type": "stream",
     "text": [
      "Empty DataFrame\n",
      "Columns: []\n",
      "Index: []\n"
     ]
    },
    {
     "name": "stdout",
     "output_type": "stream",
     "text": [
      "nan:\n"
     ]
    },
    {
     "name": "stdout",
     "output_type": "stream",
     "text": [
      "Empty DataFrame\n",
      "Columns: []\n",
      "Index: []\n"
     ]
    },
    {
     "name": "stdout",
     "output_type": "stream",
     "text": [
      "Key                              object\n",
      "Week                             object\n",
      "Code                             object\n",
      "Datum                            object\n",
      "Dagen                             int64\n",
      "Positief getest week            float64\n",
      "Positief getest laatste dag     float64\n",
      "Overleden week                  float64\n",
      "Overleden laatste dag           float64\n",
      "Ziekenhuisopname week           float64\n",
      "Ziekenhuisopname laatste dag    float64\n",
      "Positief getest ma              float64\n",
      "Positief getest di              float64\n",
      "Positief getest wo              float64\n",
      "Positief getest do              float64\n",
      "Positief getest vr              float64\n",
      "Positief getest za              float64\n",
      "Positief getest zo              float64\n",
      "Overleden ma                    float64\n",
      "Overleden di                    float64\n",
      "Overleden wo                    float64\n",
      "Overleden do                    float64\n",
      "Overleden vr                    float64\n",
      "Overleden za                    float64\n",
      "Overleden zo                    float64\n",
      "Ziekenhuisopname ma             float64\n",
      "Ziekenhuisopname di             float64\n",
      "Ziekenhuisopname wo             float64\n",
      "Ziekenhuisopname do             float64\n",
      "Ziekenhuisopname vr             float64\n",
      "Ziekenhuisopname za             float64\n",
      "Ziekenhuisopname zo             float64\n",
      "Naam                             object\n",
      "Personen                          int64\n",
      "GGD regio                        object\n",
      "Veiligheidsregio                 object\n",
      "Provincie                        object\n",
      "Landsdeel                        object\n",
      "Schoolregio                      object\n",
      "Type                             object\n",
      "Landcode                         object\n",
      "Naam + Type                      object\n",
      "Positief getest week -1         float64\n",
      "Overleden week -1               float64\n",
      "Ziekenhuisopname week -1        float64\n",
      "dtype: object\n"
     ]
    },
    {
     "name": "stdout",
     "output_type": "stream",
     "text": [
      "updating knack\n"
     ]
    },
    {
     "name": "stdout",
     "output_type": "stream",
     "text": [
      "updating: [{'Key': 1, 'Updating Regioposten': 'true'}]\n",
      "Key                      int64\n",
      "Updating Regioposten    object\n",
      "dtype: object\n"
     ]
    },
    {
     "name": "stderr",
     "output_type": "stream",
     "text": [
      "\r",
      "  0%|          | 0/1 [00:00<?, ?it/s]"
     ]
    },
    {
     "name": "stderr",
     "output_type": "stream",
     "text": [
      "\r",
      "100%|██████████| 1/1 [00:00<00:00,  1.23it/s]"
     ]
    },
    {
     "name": "stderr",
     "output_type": "stream",
     "text": [
      "\r",
      "100%|██████████| 1/1 [00:00<00:00,  1.23it/s]"
     ]
    },
    {
     "name": "stdout",
     "output_type": "stream",
     "text": [
      "\n",
      "rate limit: 7 \n",
      "LaatsteUpdate API calls: create: 0, read: 0, update: 1, delete: 0, backoff: 0\n"
     ]
    },
    {
     "name": "stderr",
     "output_type": "stream",
     "text": [
      "\n"
     ]
    },
    {
     "name": "stdout",
     "output_type": "stream",
     "text": [
      "restored Regioposten from hash\n"
     ]
    },
    {
     "name": "stdout",
     "output_type": "stream",
     "text": [
      "Code                             object\n",
      "Dagen                             int64\n",
      "Datum                            object\n",
      "GGD regio                        object\n",
      "Key                              object\n",
      "Landcode                         object\n",
      "Landsdeel                        object\n",
      "Naam                             object\n",
      "Naam + Type                      object\n",
      "Overleden di                    float64\n",
      "Overleden do                    float64\n",
      "Overleden laatste dag           float64\n",
      "Overleden ma                    float64\n",
      "Overleden vr                    float64\n",
      "Overleden week                  float64\n",
      "Overleden week -1               float64\n",
      "Overleden wo                    float64\n",
      "Overleden za                    float64\n",
      "Overleden zo                    float64\n",
      "Personen                          int64\n",
      "Positief getest di              float64\n",
      "Positief getest do              float64\n",
      "Positief getest laatste dag     float64\n",
      "Positief getest ma              float64\n",
      "Positief getest vr              float64\n",
      "Positief getest week            float64\n",
      "Positief getest week -1         float64\n",
      "Positief getest wo              float64\n",
      "Positief getest za              float64\n",
      "Positief getest zo              float64\n",
      "Provincie                        object\n",
      "Schoolregio                      object\n",
      "Type                             object\n",
      "Veiligheidsregio                 object\n",
      "Week                             object\n",
      "Ziekenhuisopname di             float64\n",
      "Ziekenhuisopname do             float64\n",
      "Ziekenhuisopname laatste dag    float64\n",
      "Ziekenhuisopname ma             float64\n",
      "Ziekenhuisopname vr             float64\n",
      "Ziekenhuisopname week           float64\n",
      "Ziekenhuisopname week -1        float64\n",
      "Ziekenhuisopname wo             float64\n",
      "Ziekenhuisopname za             float64\n",
      "Ziekenhuisopname zo             float64\n",
      "dtype: object\n"
     ]
    },
    {
     "name": "stdout",
     "output_type": "stream",
     "text": [
      "nothing to do for Regioposten\n"
     ]
    },
    {
     "name": "stdout",
     "output_type": "stream",
     "text": [
      "\n",
      "rate limit: 7 \n",
      "Regioposten API calls: create: 0, read: 34, update: 0, delete: 0, backoff: 0\n"
     ]
    },
    {
     "name": "stdout",
     "output_type": "stream",
     "text": [
      "[{'Key': 1, 'Timestamp Regioposten RIVM': '2021-08-09 14:15'}]\n"
     ]
    },
    {
     "name": "stdout",
     "output_type": "stream",
     "text": [
      "timestamps: [{'Key': 1, 'Timestamp Regioposten RIVM': '2021-08-09 14:15'}]\n",
      "Key                            int64\n",
      "Timestamp Regioposten RIVM    object\n",
      "dtype: object\n"
     ]
    },
    {
     "name": "stderr",
     "output_type": "stream",
     "text": [
      "\r",
      "  0%|          | 0/1 [00:00<?, ?it/s]"
     ]
    },
    {
     "name": "stderr",
     "output_type": "stream",
     "text": [
      "\r",
      "100%|██████████| 1/1 [00:00<00:00,  1.04it/s]"
     ]
    },
    {
     "name": "stderr",
     "output_type": "stream",
     "text": [
      "\r",
      "100%|██████████| 1/1 [00:00<00:00,  1.04it/s]"
     ]
    },
    {
     "name": "stdout",
     "output_type": "stream",
     "text": [
      "\n",
      "rate limit: 7 \n",
      "LaatsteUpdate API calls: create: 0, read: 0, update: 1, delete: 0, backoff: 0\n"
     ]
    },
    {
     "name": "stderr",
     "output_type": "stream",
     "text": [
      "\n"
     ]
    },
    {
     "name": "stdout",
     "output_type": "stream",
     "text": [
      "BatchName     object\n",
      "ObjectName    object\n",
      "Source        object\n",
      "Timestamp     object\n",
      "dtype: object\n"
     ]
    },
    {
     "name": "stderr",
     "output_type": "stream",
     "text": [
      "\r",
      "  0%|          | 0/1 [00:00<?, ?it/s]"
     ]
    },
    {
     "name": "stderr",
     "output_type": "stream",
     "text": [
      "\r",
      "100%|██████████| 1/1 [00:00<00:00,  1.14it/s]"
     ]
    },
    {
     "name": "stderr",
     "output_type": "stream",
     "text": [
      "\r",
      "100%|██████████| 1/1 [00:00<00:00,  1.14it/s]"
     ]
    },
    {
     "name": "stdout",
     "output_type": "stream",
     "text": [
      "\n",
      "rate limit: 7 \n",
      "UpdateDetails API calls: create: 1, read: 0, update: 0, delete: 0, backoff: 0\n"
     ]
    },
    {
     "name": "stderr",
     "output_type": "stream",
     "text": [
      "\n"
     ]
    },
    {
     "name": "stdout",
     "output_type": "stream",
     "text": [
      "updating: [{'Key': 1, 'Updating Regioposten': 'false'}]\n",
      "Key                      int64\n",
      "Updating Regioposten    object\n",
      "dtype: object\n"
     ]
    },
    {
     "name": "stderr",
     "output_type": "stream",
     "text": [
      "\r",
      "  0%|          | 0/1 [00:00<?, ?it/s]"
     ]
    },
    {
     "name": "stderr",
     "output_type": "stream",
     "text": [
      "\r",
      "100%|██████████| 1/1 [00:00<00:00,  1.29it/s]"
     ]
    },
    {
     "name": "stderr",
     "output_type": "stream",
     "text": [
      "\r",
      "100%|██████████| 1/1 [00:00<00:00,  1.29it/s]"
     ]
    },
    {
     "name": "stdout",
     "output_type": "stream",
     "text": [
      "\n",
      "rate limit: 7 \n",
      "LaatsteUpdate API calls: create: 0, read: 0, update: 1, delete: 0, backoff: 0\n"
     ]
    },
    {
     "name": "stderr",
     "output_type": "stream",
     "text": [
      "\n"
     ]
    }
   ],
   "source": [
    "if knack:\n",
    "  await knack.publish(regioposten, 'Regioposten', Cache)"
   ]
  },
  {
   "cell_type": "code",
   "execution_count": 8,
   "id": "9eb25eb3",
   "metadata": {
    "execution": {
     "iopub.execute_input": "2021-08-09T17:17:11.201442Z",
     "iopub.status.busy": "2021-08-09T17:17:11.198594Z",
     "iopub.status.idle": "2021-08-09T17:17:11.218602Z",
     "shell.execute_reply": "2021-08-09T17:17:11.218130Z"
    },
    "papermill": {
     "duration": 0.055086,
     "end_time": "2021-08-09T17:17:11.218713",
     "exception": false,
     "start_time": "2021-08-09T17:17:11.163627",
     "status": "completed"
    },
    "tags": []
   },
   "outputs": [],
   "source": [
    "@ignore\n",
    "def cell():\n",
    "  def diff(naam):\n",
    "    def make(dag):\n",
    "      df = RIVM.csv(naam, dag).drop(columns=['Date_of_report'])\n",
    "      for col in df.columns:\n",
    "        if df[col].dtype in [np.float64, np.int64, int]:\n",
    "          df[col] = df[col].fillna(0)\n",
    "        else:\n",
    "          df[col] = df[col].fillna('')\n",
    "      df.insert(0, 'id', df.index)\n",
    "      return df\n",
    "\n",
    "    vandaag = make(0)\n",
    "    if 'Date_of_publication' in vandaag:\n",
    "      dop = 'Date_of_publication'\n",
    "    else:\n",
    "      dop = 'Date_of_statistics'\n",
    "    delta = vandaag[dop].max()\n",
    "    vandaag = vandaag[vandaag[dop]!= delta]\n",
    "    gisteren = make(1)\n",
    "\n",
    "    df_all = gisteren.merge(vandaag, how='outer', on=[str(col) for col in gisteren.columns], indicator=True)\n",
    "    gisteren=df_all[df_all._merge == 'left_only'].drop(columns=['_merge'])\n",
    "    vandaag=df_all[df_all._merge == 'right_only'].drop(columns=['_merge'])\n",
    "\n",
    "    assert len(vandaag) == len(gisteren), (len(vandaag), len(gisteren))\n",
    "\n",
    "    df_all = pd.concat([gisteren.set_index('id'), vandaag.set_index('id')], axis='columns', keys=['Gisteren', 'Vandaag'])\n",
    "    df_all = df_all.swaplevel(axis='columns')[gisteren.columns[1:]]\n",
    "    def highlight_diff(data):\n",
    "      attr = 'background-color: yellow'\n",
    "      other = data.xs('Gisteren', axis='columns', level=-1)\n",
    "      return pd.DataFrame(np.where(data.ne(other, level=0), attr, ''), index=data.index, columns=data.columns)\n",
    "\n",
    "    df_all.style.apply(highlight_diff, axis=None).to_excel(f'diff-{naam}.xlsx')\n",
    "\n",
    "  diff('COVID-19_aantallen_gemeente_per_dag')\n",
    "  diff('COVID-19_ziekenhuisopnames')"
   ]
  }
 ],
 "metadata": {
  "jupytext": {
   "cell_metadata_filter": "title,-all"
  },
  "kernelspec": {
   "display_name": "Python 3 (ipykernel)",
   "language": "python",
   "name": "python3"
  },
  "language_info": {
   "codemirror_mode": {
    "name": "ipython",
    "version": 3
   },
   "file_extension": ".py",
   "mimetype": "text/x-python",
   "name": "python",
   "nbconvert_exporter": "python",
   "pygments_lexer": "ipython3",
   "version": "3.9.6"
  },
  "papermill": {
   "default_parameters": {},
   "duration": 345.955501,
   "end_time": "2021-08-09T17:17:12.055993",
   "environment_variables": {},
   "exception": null,
   "input_path": "-",
   "output_path": "Regio.ipynb",
   "parameters": {},
   "start_time": "2021-08-09T17:11:26.100492",
   "version": "2.3.3"
  }
 },
 "nbformat": 4,
 "nbformat_minor": 5
}