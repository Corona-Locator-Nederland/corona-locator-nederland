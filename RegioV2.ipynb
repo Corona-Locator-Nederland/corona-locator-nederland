{
 "cells": [
  {
   "cell_type": "markdown",
   "id": "revolutionary-lincoln",
   "metadata": {
    "tags": [
     "papermill-error-cell-tag"
    ]
   },
   "source": [
    "<span style=\"color:red; font-family:Helvetica Neue, Helvetica, Arial, sans-serif; font-size:2em;\">An Exception was encountered at '<a href=\"#papermill-error-cell\">In [7]</a>'.</span>"
   ]
  },
  {
   "cell_type": "code",
   "execution_count": 1,
   "id": "retained-promotion",
   "metadata": {
    "execution": {
     "iopub.execute_input": "2021-02-23T18:28:20.288012Z",
     "iopub.status.busy": "2021-02-23T18:28:20.285902Z",
     "iopub.status.idle": "2021-02-23T18:28:22.354400Z",
     "shell.execute_reply": "2021-02-23T18:28:22.353456Z"
    },
    "lines_to_next_cell": 1,
    "papermill": {
     "duration": 2.096255,
     "end_time": "2021-02-23T18:28:22.354666",
     "exception": false,
     "start_time": "2021-02-23T18:28:20.258411",
     "status": "completed"
    },
    "tags": [],
    "title": "setup"
   },
   "outputs": [],
   "source": [
    "from IPython import get_ipython\n",
    "from IPython.core.display import display\n",
    "from typing_extensions import runtime\n",
    "import numpy as np\n",
    "get_ipython().run_line_magic('load_ext', 'autoreload')\n",
    "get_ipython().run_line_magic('autoreload', '2')\n",
    "get_ipython().run_line_magic('run', 'setup')\n",
    "\n",
    "# sorteert de kolommen alfabetisch, is makkelijker visueel te debuggen.\n",
    "def sortcolumns(df):\n",
    "  return df[sorted(df.columns)]\n",
    "\n",
    "# prepareer een RIVM dataset\n",
    "def prepare(dataset, day=0):\n",
    "  df = RIVM.csv(dataset, day)\n",
    "  # hernoem kolommen voor makkelijker uniforme data bewerking\n",
    "  for old, new in [('Municipality_code', 'GemeenteCode'), ('Security_region_code', 'VeiligheidsregioCode'), ('Security_region_name', 'Veiligheidsregio')]:\n",
    "    if old in df:\n",
    "      df[new] = df[old]\n",
    "  if 'GemeenteCode' in df:\n",
    "    df['GemeenteCode'] = df['GemeenteCode'].fillna('GM0000')\n",
    "\n",
    "  if 'Agegroup' in df:\n",
    "    df['LeeftijdCode'] = 'LE' + df['Agegroup'].replace({'0-9': '00-09', '<50': '00-00', 'Unknown': '00-00', 'Onbekend': '00-00'}).replace('-', '', regex=True).astype(str)\n",
    "    df['Total_reported'] = 1 # impliciet in casus-landelijk\n",
    "    df = df.replace({'Hospital_admission': {'Yes': 1, 'No': 0, 'Unknown': 0}, 'Deceased': {'Yes': 1, 'No': 0, 'Unknown': 0}})\n",
    "\n",
    "  # voeg regiocodes to aan elke regel in de dataset\n",
    "  if 'GemeenteCode' in df:\n",
    "    for regiotype in ['GGDregio', 'Provincie', 'Landsdeel', 'Schoolregio']:\n",
    "      df = df.merge(gemeenten[['GemeenteCode', f'{regiotype}Code']].drop_duplicates(), on='GemeenteCode')\n",
    "\n",
    "  # als er geen gemeentecode is, maar misschien wel een VR code, vervang die door VR00\n",
    "  if 'GemeenteCode' in df and 'VeiligheidsregioCode' in df:\n",
    "    df.loc[df.GemeenteCode == 'GM0000', 'VeiligheidsregioCode'] = 'VR00'\n",
    "    df.loc[df.GemeenteCode == 'GM0000', 'Veiligheidsregio'] = ''\n",
    "\n",
    "  df['LandCode'] = 'NL'\n",
    "  df['Land'] = 'Nederland'\n",
    "\n",
    "  # knip de tijd van de datum af, en stop hem in 'Today' (referentiepunt metingen)\n",
    "  if 'Date_of_report' in df:\n",
    "    df['Datum'] = df.Date_of_report.str.replace(' .*', '', regex=True)\n",
    "  elif 'Date_file' in df:\n",
    "    df['Datum'] = df.Date_file.str.replace(' .*', '', regex=True)\n",
    "  df['Today'] = pd.to_datetime(df.Datum)\n",
    "\n",
    "  # zet 'Date' naar de bij de betreffende dataset horende meetdatum-kolom\n",
    "  for when in ['Date_statistics', 'Date_of_statistics', 'Date_of_publication']:\n",
    "    if when in df:\n",
    "      df['Date'] = pd.to_datetime(df[when])\n",
    "      # en direct maar weken terug, die hebben we vaker nodig\n",
    "      df['WekenTerug'] = ((df.Today - df.Date) / np.timedelta64(7, 'D')).astype(int)\n",
    "\n",
    "  return sortcolumns(df).sort_values(by=['Date'])\n",
    "\n",
    "async def publish(df, objectName):\n",
    "  #df2 = df.set_index('Code')\n",
    "  m = (df == np.inf)\n",
    "  df2 = df.loc[m.any(axis=1), m.any(axis=0)]\n",
    "  display(df2.head())\n",
    "\n",
    "  os.makedirs('artifacts', exist_ok = True)\n",
    "  df.to_csv(f'artifacts/{objectName}.csv', index=True)\n",
    "\n",
    "  if knack:\n",
    "    print('updating knack')\n",
    "    await knack.update(objectName=objectName, df=df, slack=Munch(msg='\\n'.join(Cache.actions), emoji=None))\n",
    "    await knack.timestamps(objectName, Cache.timestamps)"
   ]
  },
  {
   "cell_type": "code",
   "execution_count": 2,
   "id": "czech-continuity",
   "metadata": {
    "execution": {
     "iopub.execute_input": "2021-02-23T18:28:22.388851Z",
     "iopub.status.busy": "2021-02-23T18:28:22.383801Z",
     "iopub.status.idle": "2021-02-23T18:28:42.972884Z",
     "shell.execute_reply": "2021-02-23T18:28:42.972003Z"
    },
    "lines_to_next_cell": 1,
    "papermill": {
     "duration": 20.612194,
     "end_time": "2021-02-23T18:28:42.973098",
     "exception": false,
     "start_time": "2021-02-23T18:28:22.360904",
     "status": "completed"
    },
    "tags": [],
    "title": "regio: load regios en hun basisgegevens"
   },
   "outputs": [
    {
     "name": "stdout",
     "output_type": "stream",
     "text": [
      "rivm/COVID-19_aantallen_gemeente_per_dag-2021-02-23@14-15.csv exists\n",
      "loading rivm/COVID-19_aantallen_gemeente_per_dag-2021-02-23@14-15.csv.gz\n"
     ]
    },
    {
     "name": "stdout",
     "output_type": "stream",
     "text": [
      "rivm/COVID-19_ziekenhuisopnames-2021-02-23@14-15.csv exists\n",
      "loading rivm/COVID-19_ziekenhuisopnames-2021-02-23@14-15.csv.gz\n"
     ]
    },
    {
     "name": "stdout",
     "output_type": "stream",
     "text": [
      "loading rivm/COVID-19_ziekenhuisopnames-2021-02-22@14-15.csv.gz\n"
     ]
    },
    {
     "name": "stdout",
     "output_type": "stream",
     "text": [
      "rivm/COVID-19_casus_landelijk-2021-02-23@14-15.csv exists\n",
      "loading rivm/COVID-19_casus_landelijk-2021-02-23@14-15.csv.gz\n"
     ]
    },
    {
     "name": "stdout",
     "output_type": "stream",
     "text": [
      "loading rivm/COVID-19_casus_landelijk-2021-02-22@14-15.csv.gz\n"
     ]
    }
   ],
   "source": [
    "@run\n",
    "def cell():\n",
    "  global gemeenten\n",
    "  # rename de kolommen naar \"Naam\" + \"NaamCode\" voor makkelijker uniforme data bewerking\n",
    "  gemeenten = pd.read_csv('gemeenten.csv').rename(columns={\n",
    "    'Code': 'GemeenteCode',\n",
    "    'Naam': 'Gemeente',\n",
    "    'Veiligheidsregio Code': 'VeiligheidsregioCode',\n",
    "    'GGD regio': 'GGDregio',\n",
    "    'Landcode': 'LandCode',\n",
    "  })\n",
    "  # niet nodig want die voegen we vanzelf toe bij de per-type constructie van de cijfers\n",
    "  del gemeenten['Type']\n",
    "  \n",
    "  global leeftijdsgroepen\n",
    "  leeftijdsgroepen = pd.read_csv('leeftijdsgroepen.csv')\n",
    "  del leeftijdsgroepen['Type']\n",
    "  lgb = CBS.bevolking(leeftijdsgroepen=True).reset_index()\n",
    "  lgb['Code'] = 'LE' + lgb['Range'].replace({'0-9': '00-09'}).replace('-', '', regex=True).astype(str)\n",
    "  lgb = lgb.rename(columns={'BevolkingOpDeEersteVanDeMaand': 'Personen'})\n",
    "  leeftijdsgroepen = leeftijdsgroepen.merge(lgb[['Code', 'Personen']], how='left', on='Code')\n",
    "\n",
    "  global regiocodes\n",
    "  regiocodes = pd.read_csv('regiocodes.csv')\n",
    "  # sluit aan bij de uniforme naamgeving van hierboven\n",
    "  regiocodes = regiocodes.rename(columns={'Landcode': 'LandCode'})\n",
    "  regiocodes.loc[regiocodes.Type == 'GGD', 'Type'] = 'GGDregio'\n",
    "  \n",
    "  # voeg de regiocodes toe aan de gemeenten tabel voor makkelijker uniforme data bewerking\n",
    "  for regiotype in ['GGDregio', 'Provincie', 'Landsdeel', 'Schoolregio']:\n",
    "    gemeenten = gemeenten.merge(\n",
    "      regiocodes[regiocodes.Type == regiotype][['LandCode', 'Regio', 'Code']].rename(columns={'Code': regiotype + 'Code', 'Regio': regiotype}),\n",
    "      how='left',\n",
    "      on=[regiotype, 'LandCode'],\n",
    "    )\n",
    "  gemeenten = gemeenten.merge(\n",
    "    regiocodes[regiocodes.Type == 'Land'][['LandCode', 'Regio']].rename(columns={'Regio': 'Land'}),\n",
    "    how='left',\n",
    "    on='LandCode'\n",
    "  )\n",
    "\n",
    "  # lege regel voor GM0000\n",
    "  for regiotype, prefix in [('GGDregio', 'GG'), ('Veiligheidsregio', 'VR'), ('Provincie', 'PV'), ('Landsdeel', 'LD'), ('Schoolregio', 'SR')]:\n",
    "    gemeenten.loc[gemeenten.GemeenteCode == 'GM0000', regiotype] = ''\n",
    "    gemeenten.loc[gemeenten.GemeenteCode == 'GM0000', f'{regiotype}Code'] = f'{prefix}00'\n",
    "  gemeenten.loc[gemeenten.GemeenteCode == 'GM0000', 'LandCode'] = 'NL'\n",
    "  \n",
    "  base = 'https://opendata.cbs.nl/ODataApi/OData/37230ned'\n",
    "  \n",
    "  # voor perioden pak de laatste\n",
    "  periode = CBS.odata(base + '/Perioden').iloc[[-1]]['Key'].values[0]\n",
    "  \n",
    "  # startsWith would have been better to do in the filter but then the CBS \"odata-ish\" server responds with\n",
    "  # \"Object reference not set to an instance of an object.\"\n",
    "  bevolking = CBS.odata(base + f\"/TypedDataSet?$filter=(Perioden eq '{periode}')&$select=RegioS, BevolkingAanHetBeginVanDePeriode_1\")\n",
    "  # want de CBS odata API snap startsWith niet...\n",
    "  bevolking = bevolking[bevolking.RegioS.str.startswith('GM')]\n",
    "  # die _1 betekent waarschijnlijk dat het gedrag ooit gewijzigd is en er een nieuwe \"versie\" van die kolom is gepubliceerd\n",
    "  bevolking.rename(columns={'RegioS': 'GemeenteCode', 'BevolkingAanHetBeginVanDePeriode_1': 'BevolkingAanHetBeginVanDePeriode'}, inplace=True)\n",
    "  \n",
    "  gemeenten = gemeenten.merge(bevolking, how='left', on='GemeenteCode')\n",
    "  # default naar gegeven waarde bij ontbrekende data\n",
    "  gemeenten.loc[gemeenten.Personen == 0, 'Personen'] = gemeenten.BevolkingAanHetBeginVanDePeriode\n",
    "  del gemeenten['BevolkingAanHetBeginVanDePeriode']\n",
    "  gemeenten = sortcolumns(gemeenten)\n",
    "\n",
    "  global aantallen, ziekenhuisopnames, ziekenhuisopnames_1, casus_landelijk, casus_landelijk_1\n",
    "  aantallen = prepare('COVID-19_aantallen_gemeente_per_dag', 0)\n",
    "  ziekenhuisopnames = prepare('COVID-19_ziekenhuisopnames', 0)\n",
    "  ziekenhuisopnames_1 = prepare('COVID-19_ziekenhuisopnames', 1)\n",
    "  casus_landelijk = prepare('COVID-19_casus_landelijk', 0)\n",
    "  casus_landelijk_1 = prepare('COVID-19_casus_landelijk', 1)"
   ]
  },
  {
   "cell_type": "code",
   "execution_count": 3,
   "id": "unauthorized-cambodia",
   "metadata": {
    "execution": {
     "iopub.execute_input": "2021-02-23T18:28:43.026584Z",
     "iopub.status.busy": "2021-02-23T18:28:43.002757Z",
     "iopub.status.idle": "2021-02-23T18:28:43.045375Z",
     "shell.execute_reply": "2021-02-23T18:28:43.044569Z"
    },
    "lines_to_next_cell": 1,
    "papermill": {
     "duration": 0.061488,
     "end_time": "2021-02-23T18:28:43.045561",
     "exception": false,
     "start_time": "2021-02-23T18:28:42.984073",
     "status": "completed"
    },
    "tags": [],
    "title": "Ondersteunde code voor de regio berekeningen"
   },
   "outputs": [],
   "source": [
    "def groupregio(regiotype):\n",
    "  \"\"\"\n",
    "    Groepeer de gemeenten tabel op gegeven regiotypen en sommeer personen/oppervlakte\n",
    "  \"\"\"\n",
    "  global gemeenten\n",
    "\n",
    "  grouping = [ f'{regiotype}Code', regiotype]\n",
    "  if regiotype != 'Land':\n",
    "    grouping += [ 'LandCode' ]\n",
    "\n",
    "  # deze kolommen willen we voor de resultset, ook al zijn ze voor alles behalve 'Gemeente' leeg\n",
    "  columns = [\n",
    "    'GGDregio',\n",
    "    'Veiligheidsregio',\n",
    "    'VeiligheidsregioCode',\n",
    "    'Provincie',\n",
    "    'Landsdeel',\n",
    "    'Schoolregio',\n",
    "    'Land',\n",
    "  ]\n",
    "\n",
    "  if regiotype == 'Gemeente':\n",
    "    # hier hoeven we niets te doen dan de juiste kolommen te selecteren\n",
    "    df = gemeenten[grouping + columns + ['Personen', 'Opp land km2']].rename(columns={'Gemeente': 'Naam', 'GemeenteCode': 'Code'})\n",
    "  elif regiotype == 'Leeftijd':\n",
    "    df = (leeftijdsgroepen\n",
    "      # voeg de lege kolommen toe\n",
    "      .assign(**{ col: '' for col in columns})\n",
    "      .assign(**{'Opp land km2': 0})\n",
    "    )\n",
    "  else:\n",
    "    df = (gemeenten[gemeenten.GemeenteCode != 'GM0000']\n",
    "      # groupeer op regiotype, sommeer oppervlakte en personen\n",
    "      .groupby(grouping).agg({ 'Personen': 'sum', 'Opp land km2': 'sum' })\n",
    "      .reset_index()\n",
    "      # standardiseerd de 'Naam' en 'Code' kolommen zodat ze klaar zijn voor output.\n",
    "      .rename(columns={regiotype: 'Naam', f'{regiotype}Code': 'Code'})\n",
    "      # voeg de lege kolommen toe\n",
    "      .assign(**{ col: '' for col in columns })\n",
    "    )\n",
    "    if regiotype == 'Land':\n",
    "      df['Land'] = df['Naam']\n",
    "      df['LandCode'] = df['Code']\n",
    "  # voeg het regiotype toe in de Type kolom\n",
    "  return df.assign(Type=regiotype)\n",
    "\n",
    "def sumcols(df, regiotype, columns):\n",
    "  \"\"\"\n",
    "    groepeer en sommeer deceased/admission/positive\n",
    "  \"\"\"\n",
    "  regiotype_code = f'{regiotype}Code'\n",
    "  return (df\n",
    "    # groepeer op regiotype en selecteer de gewenste kolommen\n",
    "    .groupby([regiotype_code])[list(columns.keys())]\n",
    "    # sommeer\n",
    "    .sum()\n",
    "    # rename naar gewenste output kolommen\n",
    "    .rename(columns=columns)\n",
    "  )\n",
    "\n",
    "def histcols(df, regiotype, maxweeks, column, colors=False, highestweek=False):\n",
    "  \"\"\"\n",
    "    voeg week historie toe:\n",
    "    - regiotype\n",
    "    - maxweeks = hoeveel weken\n",
    "    - column = deceased/admission/positive naam => output kolom\n",
    "    - colors = toevoegen schaalverdeling kleuren\n",
    "    - highestweek = toevoegen op welke week het maximum was behaald\n",
    "  \"\"\"\n",
    "  # in principe zouden we kunnen groeperen/sommeren op meerdere kolommen tegelijk maar dan worden colors en highestweek weer heel complex\n",
    "  assert len(column) == 1\n",
    "  label = list(column.values())[0]\n",
    "  datacolumn = list(column.keys())[0]\n",
    "  regiotype_code = f'{regiotype}Code'\n",
    "\n",
    "  # knip alle data van >= maxweeks eruit\n",
    "  df = df[df.WekenTerug < maxweeks]\n",
    "\n",
    "  # als we schalen naar 100.000, voor hoeveel telt elke melding dan mee\n",
    "  if 'scale' in df:\n",
    "    df = df.assign(count=df[datacolumn] * df.scale).replace(np.inf, 0)\n",
    "  else:\n",
    "    df = df.assign(count=df[datacolumn])\n",
    "\n",
    "  df = (df\n",
    "    # groepeer op reguitype en wekenterug\n",
    "    .groupby([regiotype_code, 'WekenTerug'])['count']\n",
    "    # optellen (de aantallen zijn eventueel hierboven al geschaald)\n",
    "    .sum()\n",
    "    # maak de week nummers kolommen\n",
    "    .unstack(level=-1)\n",
    "    # en vul de kolommen uit zodat als een week helemaal geen meldingen heeft dat die niet weg blijft maar 0 bevat\n",
    "    .reindex(columns=np.arange(maxweeks), fill_value=0)\n",
    "  )\n",
    "\n",
    "  merges = []\n",
    "  # must be done before colors is merged and before the columns are renamed\n",
    "  if highestweek:\n",
    "    merges.append(df.idxmax(axis=1).to_frame().rename(columns={0: f'{label} hoogste week'}))\n",
    "\n",
    "  # hernoem de kolommen van de getallen die ze nu zijn\n",
    "  df.columns = [f'{label} w{-col}' for col in df.columns.values]\n",
    "\n",
    "  # must be done before highestweek is merged but after the columns are renamed\n",
    "  if colors:\n",
    "    # kleurkolommen zijn waarde van de week gedeeld door het maximum over de weken heen\n",
    "    merges.append((df.divide(df.max(axis=1), axis=0) * 1000).rename(columns={col:col.replace(' w', ' cw') for col in df}))\n",
    "\n",
    "  for extra in merges:\n",
    "    df = df.merge(extra, left_index=True, right_index=True)\n",
    "\n",
    "  # bij ontbreken van w-1 vaste waarde 9.99\n",
    "  df[f'{label} t.o.v. vorige week'] = (df[f'{label} w0'] / df[f'{label} w-1']).replace(np.inf, 9.99)\n",
    "  return df\n",
    "\n",
    "def collect(regiotype):\n",
    "  \"\"\"\n",
    "    verzamel alle kolommen voor gegeven regiotype\n",
    "  \"\"\"\n",
    "  regiotype_code = f'{regiotype}Code'\n",
    "\n",
    "  def datasets():\n",
    "    if regiotype == 'Leeftijd':\n",
    "      global casus_landelijk, casus_landelijk_1\n",
    "      return (casus_landelijk, casus_landelijk, casus_landelijk_1)\n",
    "    else:\n",
    "      global aantallen, ziekenhuisopnames, ziekenhuisopnames_1\n",
    "      return (aantallen, ziekenhuisopnames, ziekenhuisopnames_1)\n",
    "\n",
    "  aantallen, ziekenhuisopnames, ziekenhuisopnames_1 = datasets()\n",
    "\n",
    "  assert len(aantallen.Datum.unique()) == 1\n",
    "  assert len(ziekenhuisopnames_1.Datum.unique()) == 1\n",
    "  assert list(aantallen.Datum.unique()) == list(ziekenhuisopnames.Datum.unique()), list(aantallen.Datum.unique()) + list(ziekenhuisopnames.Datum.unique())\n",
    "\n",
    "  # sommeer Total_reported en Deceased voor gegeven regiotype\n",
    "  pos_dec = sumcols(aantallen, regiotype, {'Total_reported':'Positief getest', 'Deceased':'Overleden'})\n",
    "  # toename is precies hetzelfde maar dan alleen voor de metingen van 'vandaag'\n",
    "  pos_dec_delta = sumcols(\n",
    "    aantallen[aantallen.Date == aantallen.Today],\n",
    "    regiotype,\n",
    "    {'Total_reported':'Positief getest (toename)', 'Deceased':'Overleden (toename)'}\n",
    "  )\n",
    "  # sommeer Hospital_admission voor gegeven regiotype\n",
    "  admissions = sumcols(ziekenhuisopnames, regiotype, {'Hospital_admission':'Ziekenhuisopname'})\n",
    "  # sommeer Hospital_admission van 'vorige dag' voor gegeven regiotype\n",
    "  admissions_1 = sumcols(ziekenhuisopnames_1, regiotype, {'Hospital_admission':'Ziekenhuisopname_1'})\n",
    "  # voeg ze bij elkaar en trek ze van elkaar af\n",
    "  admissions_delta = admissions.merge(admissions_1, how='left', on=regiotype_code)\n",
    "  admissions_delta['Ziekenhuisopname (toename)'] = admissions_delta.Ziekenhuisopname - admissions_delta.Ziekenhuisopname_1\n",
    "  # niet meer nodig en vervuilen anders het resultaat\n",
    "  del admissions_delta['Ziekenhuisopname']\n",
    "  del admissions_delta['Ziekenhuisopname_1']\n",
    "\n",
    "  # groupeer de gemeenten op gegeven regiotype\n",
    "  df = (groupregio(regiotype)\n",
    "    # en voeg de berekende kolommen toe\n",
    "    .merge(pos_dec, how='left', left_on='Code', right_index=True)\n",
    "    .merge(admissions, how='left', left_on='Code', right_index=True)\n",
    "    .merge(pos_dec_delta, how='left', left_on='Code', right_index=True)\n",
    "    .merge(admissions_delta, how='left', left_on='Code', right_index=True)\n",
    "    .fillna(0)\n",
    "  )\n",
    "  # per 100k voor de absolute kolommen\n",
    "  for cat in [pos_dec, admissions]:\n",
    "    for col in cat.columns:\n",
    "      df[col + ' per 100.000'] = ((df[col] * 100000) / df.Personen).replace(np.inf, 0)\n",
    "\n",
    "  df['Positief getest 1d/100k'] = ((df['Positief getest (toename)'] * 100000) / df.Personen).replace(np.inf, 0)\n",
    "  df['Positief getest percentage'] = (df['Positief getest'] / df.Personen).replace(np.inf, 0)\n",
    "  df['Positief getest per km2'] = (df['Positief getest'] / df['Opp land km2']).replace(np.inf, 0)\n",
    "\n",
    "  # weekhistories\n",
    "  maxweeks = 26\n",
    "  df = (df\n",
    "    .merge(histcols(\n",
    "      aantallen,\n",
    "      regiotype,\n",
    "      maxweeks=maxweeks,\n",
    "      colors=True,\n",
    "      highestweek=True,\n",
    "      column={'Total_reported':'Positief getest'}), how='left', left_on='Code', right_index=True)\n",
    "    .merge(histcols(\n",
    "      aantallen.merge(df.assign(scale=100000 / df.Personen)[['Code', 'scale']], left_on=regiotype_code, right_on='Code'),\n",
    "      regiotype,\n",
    "      maxweeks=maxweeks,\n",
    "      column={'Total_reported':'Positief getest 7d/100k'}), how='left', left_on='Code', right_index=True)\n",
    "    .merge(histcols(ziekenhuisopnames,\n",
    "      regiotype,\n",
    "      maxweeks=maxweeks,\n",
    "      colors=True,\n",
    "      column={'Hospital_admission':'Ziekenhuisopname'}), how='left', left_on='Code', right_index=True)\n",
    "    .merge(histcols(\n",
    "      aantallen,\n",
    "      regiotype,\n",
    "      maxweeks=maxweeks,\n",
    "      colors=True,\n",
    "      column={'Deceased':'Overleden'}), how='left', left_on='Code', right_index=True)\n",
    "  )\n",
    "  df['Datum'] = aantallen.Datum.unique()[0]\n",
    "\n",
    "  return df"
   ]
  },
  {
   "cell_type": "code",
   "execution_count": 4,
   "id": "disabled-monster",
   "metadata": {
    "execution": {
     "iopub.execute_input": "2021-02-23T18:28:43.067383Z",
     "iopub.status.busy": "2021-02-23T18:28:43.066837Z",
     "iopub.status.idle": "2021-02-23T18:28:50.809448Z",
     "shell.execute_reply": "2021-02-23T18:28:50.808575Z"
    },
    "lines_to_next_cell": 1,
    "papermill": {
     "duration": 7.753725,
     "end_time": "2021-02-23T18:28:50.809557",
     "exception": false,
     "start_time": "2021-02-23T18:28:43.055832",
     "status": "completed"
    },
    "tags": [],
    "title": "regio: load verschillende aggregatie niveaus"
   },
   "outputs": [],
   "source": [
    "@run\n",
    "def cell():\n",
    "  global regios\n",
    "  # verzamel de data voor de gegeven regiotypes en plak ze onder elkaar\n",
    "  regios = pd.concat([\n",
    "    collect(regiotype)\n",
    "    for regiotype in\n",
    "    [\n",
    "      'Gemeente',\n",
    "      'GGDregio',\n",
    "      'Veiligheidsregio',\n",
    "      'Provincie',\n",
    "      'Landsdeel',\n",
    "      'Schoolregio',\n",
    "      'Land',\n",
    "      'Leeftijd',\n",
    "    ]\n",
    "  ])\n",
    "  # maak de kolommen leeg voor GM0000\n",
    "  # hernoem de eerder geuniformeerde kolomen terug naar de gewenste output\n",
    "  regios = regios.rename(columns={\n",
    "    'LandCode': 'Landcode',\n",
    "    'VeiligheidsregioCode': 'Veiligheidsregio Code',\n",
    "    'GGDregio': 'GGD regio'\n",
    "  })"
   ]
  },
  {
   "cell_type": "code",
   "execution_count": 5,
   "id": "headed-speaking",
   "metadata": {
    "execution": {
     "iopub.execute_input": "2021-02-23T18:28:50.825305Z",
     "iopub.status.busy": "2021-02-23T18:28:50.824918Z",
     "iopub.status.idle": "2021-02-23T18:29:04.088907Z",
     "shell.execute_reply": "2021-02-23T18:29:04.088537Z"
    },
    "papermill": {
     "duration": 13.273288,
     "end_time": "2021-02-23T18:29:04.089010",
     "exception": false,
     "start_time": "2021-02-23T18:28:50.815722",
     "status": "completed"
    },
    "tags": [],
    "title": "load de gewenste kolom volgorde uit een file en publiceer"
   },
   "outputs": [
    {
     "data": {
      "text/html": [
       "<div>\n",
       "<style scoped>\n",
       "    .dataframe tbody tr th:only-of-type {\n",
       "        vertical-align: middle;\n",
       "    }\n",
       "\n",
       "    .dataframe tbody tr th {\n",
       "        vertical-align: top;\n",
       "    }\n",
       "\n",
       "    .dataframe thead th {\n",
       "        text-align: right;\n",
       "    }\n",
       "</style>\n",
       "<table border=\"1\" class=\"dataframe\">\n",
       "  <thead>\n",
       "    <tr style=\"text-align: right;\">\n",
       "      <th></th>\n",
       "    </tr>\n",
       "  </thead>\n",
       "  <tbody>\n",
       "  </tbody>\n",
       "</table>\n",
       "</div>"
      ],
      "text/plain": [
       "Empty DataFrame\n",
       "Columns: []\n",
       "Index: []"
      ]
     },
     "metadata": {},
     "output_type": "display_data"
    },
    {
     "name": "stdout",
     "output_type": "stream",
     "text": [
      "updating knack\n"
     ]
    },
    {
     "name": "stdout",
     "output_type": "stream",
     "text": [
      "nothing to do\n"
     ]
    },
    {
     "name": "stdout",
     "output_type": "stream",
     "text": [
      "\n",
      "rate limit: 7 \n",
      "API calls: create: 0, read: 2, update: 0, delete: 0, backoff: 0\n"
     ]
    },
    {
     "name": "stderr",
     "output_type": "stream",
     "text": [
      "\r",
      "  0%|          | 0/1 [00:00<?, ?it/s]"
     ]
    },
    {
     "name": "stderr",
     "output_type": "stream",
     "text": [
      "\r",
      "100%|██████████| 1/1 [00:00<00:00,  1.04it/s]"
     ]
    },
    {
     "name": "stderr",
     "output_type": "stream",
     "text": [
      "\r",
      "100%|██████████| 1/1 [00:00<00:00,  1.04it/s]"
     ]
    },
    {
     "name": "stdout",
     "output_type": "stream",
     "text": [
      "\n",
      "rate limit: 7 \n",
      "API calls: create: 0, read: 1, update: 1, delete: 0, backoff: 0\n"
     ]
    },
    {
     "name": "stderr",
     "output_type": "stream",
     "text": [
      "\n"
     ]
    }
   ],
   "source": [
    "order = pd.read_csv('RegioV2.csv')\n",
    "await publish(regios[order.columns.values].fillna(0), 'RegioV2')"
   ]
  },
  {
   "cell_type": "code",
   "execution_count": 6,
   "id": "chicken-investment",
   "metadata": {
    "execution": {
     "iopub.execute_input": "2021-02-23T18:29:04.118867Z",
     "iopub.status.busy": "2021-02-23T18:29:04.118313Z",
     "iopub.status.idle": "2021-02-23T18:29:09.218265Z",
     "shell.execute_reply": "2021-02-23T18:29:09.218681Z"
    },
    "lines_to_next_cell": 0,
    "papermill": {
     "duration": 5.121386,
     "end_time": "2021-02-23T18:29:09.218826",
     "exception": false,
     "start_time": "2021-02-23T18:29:04.097440",
     "status": "completed"
    },
    "tags": [],
    "title": "Regioposten"
   },
   "outputs": [
    {
     "name": "stdout",
     "output_type": "stream",
     "text": [
      "rivm/COVID-19_aantallen_gemeente_per_dag-2021-02-23@14-15.csv exists\n",
      "loading rivm/COVID-19_aantallen_gemeente_per_dag-2021-02-23@14-15.csv.gz\n"
     ]
    },
    {
     "name": "stdout",
     "output_type": "stream",
     "text": [
      "rivm/COVID-19_ziekenhuisopnames-2021-02-23@14-15.csv exists\n",
      "loading rivm/COVID-19_ziekenhuisopnames-2021-02-23@14-15.csv.gz\n"
     ]
    },
    {
     "name": "stdout",
     "output_type": "stream",
     "text": [
      "54 weken\n",
      "GGDregio\n"
     ]
    },
    {
     "name": "stdout",
     "output_type": "stream",
     "text": [
      "Gemeente\n"
     ]
    },
    {
     "name": "stdout",
     "output_type": "stream",
     "text": [
      "Land\n"
     ]
    },
    {
     "name": "stdout",
     "output_type": "stream",
     "text": [
      "Landsdeel\n"
     ]
    },
    {
     "name": "stdout",
     "output_type": "stream",
     "text": [
      "Provincie\n"
     ]
    },
    {
     "name": "stdout",
     "output_type": "stream",
     "text": [
      "Schoolregio\n"
     ]
    },
    {
     "name": "stdout",
     "output_type": "stream",
     "text": [
      "Veiligheidsregio\n"
     ]
    },
    {
     "data": {
      "text/html": [
       "<div>\n",
       "<style scoped>\n",
       "    .dataframe tbody tr th:only-of-type {\n",
       "        vertical-align: middle;\n",
       "    }\n",
       "\n",
       "    .dataframe tbody tr th {\n",
       "        vertical-align: top;\n",
       "    }\n",
       "\n",
       "    .dataframe thead th {\n",
       "        text-align: right;\n",
       "    }\n",
       "</style>\n",
       "<table border=\"1\" class=\"dataframe\">\n",
       "  <thead>\n",
       "    <tr style=\"text-align: right;\">\n",
       "      <th></th>\n",
       "      <th>Key</th>\n",
       "      <th>Week</th>\n",
       "      <th>Code</th>\n",
       "      <th>Datum</th>\n",
       "      <th>Dagen</th>\n",
       "      <th>Positief getest week</th>\n",
       "      <th>Positief getest laatste dag</th>\n",
       "      <th>Overleden week</th>\n",
       "      <th>Overleden laatste dag</th>\n",
       "      <th>Ziekenhuisopname week</th>\n",
       "      <th>...</th>\n",
       "      <th>Landsdeel</th>\n",
       "      <th>Schoolregio</th>\n",
       "      <th>Type</th>\n",
       "      <th>Landcode</th>\n",
       "      <th>Positief getest cumulatief</th>\n",
       "      <th>Positief getest week -1</th>\n",
       "      <th>Overleden cumulatief</th>\n",
       "      <th>Overleden week -1</th>\n",
       "      <th>Ziekenhuisopname cumulatief</th>\n",
       "      <th>Ziekenhuisopname week -1</th>\n",
       "    </tr>\n",
       "  </thead>\n",
       "  <tbody>\n",
       "    <tr>\n",
       "      <th>0</th>\n",
       "      <td>GG00-2020-08</td>\n",
       "      <td>2020-08</td>\n",
       "      <td>GG00</td>\n",
       "      <td>2020-02-d 00:00</td>\n",
       "      <td>3</td>\n",
       "      <td>0.0</td>\n",
       "      <td>0.0</td>\n",
       "      <td>0.0</td>\n",
       "      <td>0.0</td>\n",
       "      <td>0.0</td>\n",
       "      <td>...</td>\n",
       "      <td></td>\n",
       "      <td></td>\n",
       "      <td>GGDregio</td>\n",
       "      <td>NL</td>\n",
       "      <td>0.0</td>\n",
       "      <td>0.0</td>\n",
       "      <td>0.0</td>\n",
       "      <td>0.0</td>\n",
       "      <td>0.0</td>\n",
       "      <td>0.0</td>\n",
       "    </tr>\n",
       "    <tr>\n",
       "      <th>1</th>\n",
       "      <td>GG00-2020-09</td>\n",
       "      <td>2020-09</td>\n",
       "      <td>GG00</td>\n",
       "      <td>2020-03-d 00:00</td>\n",
       "      <td>7</td>\n",
       "      <td>0.0</td>\n",
       "      <td>0.0</td>\n",
       "      <td>0.0</td>\n",
       "      <td>0.0</td>\n",
       "      <td>2.0</td>\n",
       "      <td>...</td>\n",
       "      <td></td>\n",
       "      <td></td>\n",
       "      <td>GGDregio</td>\n",
       "      <td>NL</td>\n",
       "      <td>0.0</td>\n",
       "      <td>0.0</td>\n",
       "      <td>0.0</td>\n",
       "      <td>0.0</td>\n",
       "      <td>2.0</td>\n",
       "      <td>0.0</td>\n",
       "    </tr>\n",
       "    <tr>\n",
       "      <th>2</th>\n",
       "      <td>GG00-2020-10</td>\n",
       "      <td>2020-10</td>\n",
       "      <td>GG00</td>\n",
       "      <td>2020-03-d 00:00</td>\n",
       "      <td>7</td>\n",
       "      <td>5.0</td>\n",
       "      <td>0.0</td>\n",
       "      <td>0.0</td>\n",
       "      <td>0.0</td>\n",
       "      <td>18.0</td>\n",
       "      <td>...</td>\n",
       "      <td></td>\n",
       "      <td></td>\n",
       "      <td>GGDregio</td>\n",
       "      <td>NL</td>\n",
       "      <td>5.0</td>\n",
       "      <td>0.0</td>\n",
       "      <td>0.0</td>\n",
       "      <td>0.0</td>\n",
       "      <td>20.0</td>\n",
       "      <td>2.0</td>\n",
       "    </tr>\n",
       "    <tr>\n",
       "      <th>3</th>\n",
       "      <td>GG00-2020-11</td>\n",
       "      <td>2020-11</td>\n",
       "      <td>GG00</td>\n",
       "      <td>2020-03-d 00:00</td>\n",
       "      <td>7</td>\n",
       "      <td>27.0</td>\n",
       "      <td>0.0</td>\n",
       "      <td>0.0</td>\n",
       "      <td>0.0</td>\n",
       "      <td>32.0</td>\n",
       "      <td>...</td>\n",
       "      <td></td>\n",
       "      <td></td>\n",
       "      <td>GGDregio</td>\n",
       "      <td>NL</td>\n",
       "      <td>32.0</td>\n",
       "      <td>5.0</td>\n",
       "      <td>0.0</td>\n",
       "      <td>0.0</td>\n",
       "      <td>52.0</td>\n",
       "      <td>20.0</td>\n",
       "    </tr>\n",
       "    <tr>\n",
       "      <th>4</th>\n",
       "      <td>GG00-2020-12</td>\n",
       "      <td>2020-12</td>\n",
       "      <td>GG00</td>\n",
       "      <td>2020-03-d 00:00</td>\n",
       "      <td>7</td>\n",
       "      <td>33.0</td>\n",
       "      <td>0.0</td>\n",
       "      <td>1.0</td>\n",
       "      <td>0.0</td>\n",
       "      <td>72.0</td>\n",
       "      <td>...</td>\n",
       "      <td></td>\n",
       "      <td></td>\n",
       "      <td>GGDregio</td>\n",
       "      <td>NL</td>\n",
       "      <td>65.0</td>\n",
       "      <td>32.0</td>\n",
       "      <td>1.0</td>\n",
       "      <td>0.0</td>\n",
       "      <td>124.0</td>\n",
       "      <td>52.0</td>\n",
       "    </tr>\n",
       "    <tr>\n",
       "      <th>...</th>\n",
       "      <td>...</td>\n",
       "      <td>...</td>\n",
       "      <td>...</td>\n",
       "      <td>...</td>\n",
       "      <td>...</td>\n",
       "      <td>...</td>\n",
       "      <td>...</td>\n",
       "      <td>...</td>\n",
       "      <td>...</td>\n",
       "      <td>...</td>\n",
       "      <td>...</td>\n",
       "      <td>...</td>\n",
       "      <td>...</td>\n",
       "      <td>...</td>\n",
       "      <td>...</td>\n",
       "      <td>...</td>\n",
       "      <td>...</td>\n",
       "      <td>...</td>\n",
       "      <td>...</td>\n",
       "      <td>...</td>\n",
       "      <td>...</td>\n",
       "    </tr>\n",
       "    <tr>\n",
       "      <th>1399</th>\n",
       "      <td>VR25-2021-04</td>\n",
       "      <td>2021-04</td>\n",
       "      <td>VR25</td>\n",
       "      <td>2021-01-d 00:00</td>\n",
       "      <td>7</td>\n",
       "      <td>664.0</td>\n",
       "      <td>5.0</td>\n",
       "      <td>5.0</td>\n",
       "      <td>0.0</td>\n",
       "      <td>12.0</td>\n",
       "      <td>...</td>\n",
       "      <td></td>\n",
       "      <td></td>\n",
       "      <td>Veiligheidsregio</td>\n",
       "      <td>NL</td>\n",
       "      <td>1062913.0</td>\n",
       "      <td>1062249.0</td>\n",
       "      <td>15328.0</td>\n",
       "      <td>15323.0</td>\n",
       "      <td>45376.0</td>\n",
       "      <td>45364.0</td>\n",
       "    </tr>\n",
       "    <tr>\n",
       "      <th>1400</th>\n",
       "      <td>VR25-2021-05</td>\n",
       "      <td>2021-05</td>\n",
       "      <td>VR25</td>\n",
       "      <td>2021-02-d 00:00</td>\n",
       "      <td>7</td>\n",
       "      <td>547.0</td>\n",
       "      <td>16.0</td>\n",
       "      <td>4.0</td>\n",
       "      <td>0.0</td>\n",
       "      <td>16.0</td>\n",
       "      <td>...</td>\n",
       "      <td></td>\n",
       "      <td></td>\n",
       "      <td>Veiligheidsregio</td>\n",
       "      <td>NL</td>\n",
       "      <td>1063460.0</td>\n",
       "      <td>1062913.0</td>\n",
       "      <td>15332.0</td>\n",
       "      <td>15328.0</td>\n",
       "      <td>45392.0</td>\n",
       "      <td>45376.0</td>\n",
       "    </tr>\n",
       "    <tr>\n",
       "      <th>1401</th>\n",
       "      <td>VR25-2021-06</td>\n",
       "      <td>2021-06</td>\n",
       "      <td>VR25</td>\n",
       "      <td>2021-02-d 00:00</td>\n",
       "      <td>7</td>\n",
       "      <td>463.0</td>\n",
       "      <td>2.0</td>\n",
       "      <td>3.0</td>\n",
       "      <td>0.0</td>\n",
       "      <td>8.0</td>\n",
       "      <td>...</td>\n",
       "      <td></td>\n",
       "      <td></td>\n",
       "      <td>Veiligheidsregio</td>\n",
       "      <td>NL</td>\n",
       "      <td>1063923.0</td>\n",
       "      <td>1063460.0</td>\n",
       "      <td>15335.0</td>\n",
       "      <td>15332.0</td>\n",
       "      <td>45400.0</td>\n",
       "      <td>45392.0</td>\n",
       "    </tr>\n",
       "    <tr>\n",
       "      <th>1402</th>\n",
       "      <td>VR25-2021-07</td>\n",
       "      <td>2021-07</td>\n",
       "      <td>VR25</td>\n",
       "      <td>2021-02-d 00:00</td>\n",
       "      <td>7</td>\n",
       "      <td>452.0</td>\n",
       "      <td>12.0</td>\n",
       "      <td>6.0</td>\n",
       "      <td>0.0</td>\n",
       "      <td>9.0</td>\n",
       "      <td>...</td>\n",
       "      <td></td>\n",
       "      <td></td>\n",
       "      <td>Veiligheidsregio</td>\n",
       "      <td>NL</td>\n",
       "      <td>1064375.0</td>\n",
       "      <td>1063923.0</td>\n",
       "      <td>15341.0</td>\n",
       "      <td>15335.0</td>\n",
       "      <td>45409.0</td>\n",
       "      <td>45400.0</td>\n",
       "    </tr>\n",
       "    <tr>\n",
       "      <th>1403</th>\n",
       "      <td>VR25-2021-08</td>\n",
       "      <td>2021-08</td>\n",
       "      <td>VR25</td>\n",
       "      <td>2021-02-d 00:00</td>\n",
       "      <td>3</td>\n",
       "      <td>223.0</td>\n",
       "      <td>1.0</td>\n",
       "      <td>2.0</td>\n",
       "      <td>0.0</td>\n",
       "      <td>3.0</td>\n",
       "      <td>...</td>\n",
       "      <td></td>\n",
       "      <td></td>\n",
       "      <td>Veiligheidsregio</td>\n",
       "      <td>NL</td>\n",
       "      <td>1064598.0</td>\n",
       "      <td>1064375.0</td>\n",
       "      <td>15343.0</td>\n",
       "      <td>15341.0</td>\n",
       "      <td>45412.0</td>\n",
       "      <td>45409.0</td>\n",
       "    </tr>\n",
       "  </tbody>\n",
       "</table>\n",
       "<p>23112 rows × 26 columns</p>\n",
       "</div>"
      ],
      "text/plain": [
       "               Key     Week  Code            Datum  Dagen  \\\n",
       "0     GG00-2020-08  2020-08  GG00  2020-02-d 00:00      3   \n",
       "1     GG00-2020-09  2020-09  GG00  2020-03-d 00:00      7   \n",
       "2     GG00-2020-10  2020-10  GG00  2020-03-d 00:00      7   \n",
       "3     GG00-2020-11  2020-11  GG00  2020-03-d 00:00      7   \n",
       "4     GG00-2020-12  2020-12  GG00  2020-03-d 00:00      7   \n",
       "...            ...      ...   ...              ...    ...   \n",
       "1399  VR25-2021-04  2021-04  VR25  2021-01-d 00:00      7   \n",
       "1400  VR25-2021-05  2021-05  VR25  2021-02-d 00:00      7   \n",
       "1401  VR25-2021-06  2021-06  VR25  2021-02-d 00:00      7   \n",
       "1402  VR25-2021-07  2021-07  VR25  2021-02-d 00:00      7   \n",
       "1403  VR25-2021-08  2021-08  VR25  2021-02-d 00:00      3   \n",
       "\n",
       "      Positief getest week  Positief getest laatste dag  Overleden week  \\\n",
       "0                      0.0                          0.0             0.0   \n",
       "1                      0.0                          0.0             0.0   \n",
       "2                      5.0                          0.0             0.0   \n",
       "3                     27.0                          0.0             0.0   \n",
       "4                     33.0                          0.0             1.0   \n",
       "...                    ...                          ...             ...   \n",
       "1399                 664.0                          5.0             5.0   \n",
       "1400                 547.0                         16.0             4.0   \n",
       "1401                 463.0                          2.0             3.0   \n",
       "1402                 452.0                         12.0             6.0   \n",
       "1403                 223.0                          1.0             2.0   \n",
       "\n",
       "      Overleden laatste dag  Ziekenhuisopname week  ...  Landsdeel  \\\n",
       "0                       0.0                    0.0  ...              \n",
       "1                       0.0                    2.0  ...              \n",
       "2                       0.0                   18.0  ...              \n",
       "3                       0.0                   32.0  ...              \n",
       "4                       0.0                   72.0  ...              \n",
       "...                     ...                    ...  ...        ...   \n",
       "1399                    0.0                   12.0  ...              \n",
       "1400                    0.0                   16.0  ...              \n",
       "1401                    0.0                    8.0  ...              \n",
       "1402                    0.0                    9.0  ...              \n",
       "1403                    0.0                    3.0  ...              \n",
       "\n",
       "     Schoolregio              Type Landcode Positief getest cumulatief  \\\n",
       "0                         GGDregio       NL                        0.0   \n",
       "1                         GGDregio       NL                        0.0   \n",
       "2                         GGDregio       NL                        5.0   \n",
       "3                         GGDregio       NL                       32.0   \n",
       "4                         GGDregio       NL                       65.0   \n",
       "...          ...               ...      ...                        ...   \n",
       "1399              Veiligheidsregio       NL                  1062913.0   \n",
       "1400              Veiligheidsregio       NL                  1063460.0   \n",
       "1401              Veiligheidsregio       NL                  1063923.0   \n",
       "1402              Veiligheidsregio       NL                  1064375.0   \n",
       "1403              Veiligheidsregio       NL                  1064598.0   \n",
       "\n",
       "     Positief getest week -1 Overleden cumulatief Overleden week -1  \\\n",
       "0                        0.0                  0.0               0.0   \n",
       "1                        0.0                  0.0               0.0   \n",
       "2                        0.0                  0.0               0.0   \n",
       "3                        5.0                  0.0               0.0   \n",
       "4                       32.0                  1.0               0.0   \n",
       "...                      ...                  ...               ...   \n",
       "1399               1062249.0              15328.0           15323.0   \n",
       "1400               1062913.0              15332.0           15328.0   \n",
       "1401               1063460.0              15335.0           15332.0   \n",
       "1402               1063923.0              15341.0           15335.0   \n",
       "1403               1064375.0              15343.0           15341.0   \n",
       "\n",
       "     Ziekenhuisopname cumulatief Ziekenhuisopname week -1  \n",
       "0                            0.0                      0.0  \n",
       "1                            2.0                      0.0  \n",
       "2                           20.0                      2.0  \n",
       "3                           52.0                     20.0  \n",
       "4                          124.0                     52.0  \n",
       "...                          ...                      ...  \n",
       "1399                     45376.0                  45364.0  \n",
       "1400                     45392.0                  45376.0  \n",
       "1401                     45400.0                  45392.0  \n",
       "1402                     45409.0                  45400.0  \n",
       "1403                     45412.0                  45409.0  \n",
       "\n",
       "[23112 rows x 26 columns]"
      ]
     },
     "metadata": {},
     "output_type": "display_data"
    }
   ],
   "source": [
    "# just so the timestamps update OK\n",
    "Cache.reset()\n",
    "aantallen = prepare('COVID-19_aantallen_gemeente_per_dag')\n",
    "ziekenhuisopnames = prepare('COVID-19_ziekenhuisopnames')\n",
    "@run\n",
    "def cell():\n",
    "  import sys\n",
    "  global aantallen, ziekenhuisopnames\n",
    "  aantallen['Week'] = aantallen['Date'].dt.strftime('%Y-%U')\n",
    "  ziekenhuisopnames['Week'] = ziekenhuisopnames['Date'].dt.strftime('%Y-%U')\n",
    "\n",
    "  weken = list(pd.date_range(\n",
    "    start=min(aantallen.Date.min(), ziekenhuisopnames.Date.min()),\n",
    "    end=max(aantallen.Date.max(), ziekenhuisopnames.Date.max())\n",
    "  ).strftime('%Y-%U').unique())\n",
    "  print(len(weken), 'weken')\n",
    "\n",
    "  regiotypes = [ 'GGDregio', 'Gemeente', 'Land', 'Landsdeel', 'Provincie', 'Schoolregio', 'Veiligheidsregio' ]\n",
    "  for regiotype in regiotypes:\n",
    "    assert regiotype + 'Code' in aantallen, (regiotype, aantallen.columns)\n",
    "    assert regiotype + 'Code' in ziekenhuisopnames, (regiotype, ziekenhuisopnames.columns)\n",
    "\n",
    "  global regioposten\n",
    "  regioposten = []\n",
    "  for regiotype in regiotypes:\n",
    "    print(regiotype)\n",
    "    sys.stdout.flush()\n",
    "    code = regiotype + 'Code'\n",
    "\n",
    "    ag = sortcolumns(\n",
    "      aantallen[['Week', code, 'Date', 'Total_reported', 'Deceased']]\n",
    "      .assign(Hospital_admission=np.nan)\n",
    "    )\n",
    "    zo = sortcolumns(\n",
    "      ziekenhuisopnames[['Week', code, 'Date', 'Hospital_admission']]\n",
    "      .assign(Total_reported=np.nan, Deceased=np.nan)\n",
    "    )\n",
    "    df = (pd.concat([ag, zo], axis=0)\n",
    "      .sort_values(by=['Date'])\n",
    "      .groupby(['Week', code])\n",
    "      .agg({\n",
    "        'Date': [ 'max', 'nunique' ],\n",
    "        'Total_reported': [ 'sum', 'last' ],\n",
    "        'Deceased': [ 'sum', 'last' ],\n",
    "        'Hospital_admission': [ 'sum', 'last' ],\n",
    "      })\n",
    "      .reset_index()\n",
    "    )\n",
    "    df.columns = [' '.join(col).strip() for col in df.columns.values]\n",
    "    df.rename(columns={\n",
    "      code: 'Code',\n",
    "      'Date max': 'Datum',\n",
    "      'Date nunique': 'Dagen',\n",
    "      'Total_reported sum': 'Positief getest week',\n",
    "      'Total_reported last': 'Positief getest laatste dag',\n",
    "      'Deceased sum': 'Overleden week',\n",
    "      'Deceased last': 'Overleden laatste dag',\n",
    "      'Hospital_admission sum': 'Ziekenhuisopname week',\n",
    "      'Hospital_admission last': 'Ziekenhuisopname laatste dag',\n",
    "    }, inplace=True)\n",
    "\n",
    "    regio = groupregio(regiotype)\n",
    "    regio = regio[[col for col in regio.columns if col == 'Code' or 'Code' not in col and 'km2' not in col]]\n",
    "    df = df.merge(regio, how='left', on='Code')\n",
    "    for col, coltype in zip(regio.columns, regio.dtypes):\n",
    "      if col == 'Personen':\n",
    "        df[col] = df[col].fillna(0).astype(int)\n",
    "      elif col == 'Type':\n",
    "        df[col] = df[col].fillna(regiotype)\n",
    "      elif coltype == np.float64:\n",
    "        df[col] = df[col].fillna(0)\n",
    "      elif coltype == object:\n",
    "        df[col] = df[col].fillna('')\n",
    "      else:\n",
    "        raise KeyError(col)\n",
    "    df['Landcode'] = 'NL'\n",
    "\n",
    "    base = [\n",
    "      (code, week)\n",
    "      for code in list(df.Code.unique())\n",
    "      for week in weken\n",
    "    ]\n",
    "    base = pd.DataFrame({\n",
    "        'Week': [week for code, week in base],\n",
    "        'Code': [code for code, week in base],\n",
    "      },\n",
    "      index=['-'.join(codeweek) for codeweek in base]\n",
    "    )\n",
    "\n",
    "    df['Key'] = df['Code'] + '-' + df['Week']\n",
    "    df.set_index('Key', inplace=True)\n",
    "    df.drop(columns=['Code', 'Week'], inplace=True)\n",
    "\n",
    "    df = base.join(df)\n",
    "\n",
    "    for col in ['Positief getest', 'Overleden', 'Ziekenhuisopname']:\n",
    "      # vul missende waarden met 0 vanaf de eerstgevonden waarde zodat cumsum goed werkt\n",
    "      df[f'{col} week'] = df[f'{col} week'].mask(df[f'{col} week'].ffill().isnull(), 0)\n",
    "      df[f'{col} cumulatief'] = df[f'{col} week'].cumsum().fillna(0)\n",
    "      df[f'{col} week -1'] = df[f'{col} cumulatief'].shift(1).fillna(0)\n",
    "      df[f'{col} week'] = df[f'{col} week'].fillna(0)\n",
    "\n",
    "    df.index.rename('Key', inplace=True)\n",
    "    df = df[[col for col in df.columns if col != 'Land']]\n",
    "    regioposten.append(df.reset_index())\n",
    "  regioposten = pd.concat(regioposten, axis=0)\n",
    "  regioposten['Datum'] = regioposten['Datum'].dt.strftime('%Y-%m-d %H:%M')\n",
    "  regioposten.rename(columns={'GGDregio': 'GGD regio'}, inplace=True)\n",
    "  display(regioposten)"
   ]
  },
  {
   "cell_type": "markdown",
   "id": "lovely-custody",
   "metadata": {
    "tags": [
     "papermill-error-cell-tag"
    ]
   },
   "source": [
    "<span id=\"papermill-error-cell\" style=\"color:red; font-family:Helvetica Neue, Helvetica, Arial, sans-serif; font-size:2em;\">Execution using papermill encountered an exception here and stopped:</span>"
   ]
  },
  {
   "cell_type": "code",
   "execution_count": 7,
   "id": "overhead-clock",
   "metadata": {
    "execution": {
     "iopub.execute_input": "2021-02-23T18:29:09.247237Z",
     "iopub.status.busy": "2021-02-23T18:29:09.246719Z",
     "iopub.status.idle": "2021-02-23T18:32:46.933779Z",
     "shell.execute_reply": "2021-02-23T18:32:46.933374Z"
    },
    "lines_to_next_cell": 2,
    "papermill": {
     "duration": 217.70193,
     "end_time": "2021-02-23T18:32:46.934055",
     "exception": true,
     "start_time": "2021-02-23T18:29:09.232125",
     "status": "failed"
    },
    "tags": []
   },
   "outputs": [
    {
     "data": {
      "text/html": [
       "<div>\n",
       "<style scoped>\n",
       "    .dataframe tbody tr th:only-of-type {\n",
       "        vertical-align: middle;\n",
       "    }\n",
       "\n",
       "    .dataframe tbody tr th {\n",
       "        vertical-align: top;\n",
       "    }\n",
       "\n",
       "    .dataframe thead th {\n",
       "        text-align: right;\n",
       "    }\n",
       "</style>\n",
       "<table border=\"1\" class=\"dataframe\">\n",
       "  <thead>\n",
       "    <tr style=\"text-align: right;\">\n",
       "      <th></th>\n",
       "    </tr>\n",
       "  </thead>\n",
       "  <tbody>\n",
       "  </tbody>\n",
       "</table>\n",
       "</div>"
      ],
      "text/plain": [
       "Empty DataFrame\n",
       "Columns: []\n",
       "Index: []"
      ]
     },
     "metadata": {},
     "output_type": "display_data"
    },
    {
     "name": "stdout",
     "output_type": "stream",
     "text": [
      "updating knack\n"
     ]
    },
    {
     "name": "stderr",
     "output_type": "stream",
     "text": [
      "\r",
      "  0%|          | 0/1190 [00:00<?, ?it/s]"
     ]
    },
    {
     "name": "stderr",
     "output_type": "stream",
     "text": [
      "\r",
      "  0%|          | 1/1190 [00:00<18:01,  1.10it/s]"
     ]
    },
    {
     "name": "stderr",
     "output_type": "stream",
     "text": [
      "\r",
      "  0%|          | 3/1190 [00:01<06:00,  3.29it/s]"
     ]
    },
    {
     "name": "stderr",
     "output_type": "stream",
     "text": [
      "\r",
      "  1%|          | 6/1190 [00:01<03:13,  6.12it/s]"
     ]
    },
    {
     "name": "stderr",
     "output_type": "stream",
     "text": [
      "\r",
      "  1%|          | 8/1190 [00:01<02:33,  7.72it/s]"
     ]
    },
    {
     "name": "stderr",
     "output_type": "stream",
     "text": [
      "\r",
      "  1%|          | 10/1190 [00:01<02:44,  7.19it/s]"
     ]
    },
    {
     "name": "stderr",
     "output_type": "stream",
     "text": [
      "\r",
      "  1%|          | 11/1190 [00:01<02:56,  6.67it/s]"
     ]
    },
    {
     "name": "stderr",
     "output_type": "stream",
     "text": [
      "\r",
      "  1%|          | 12/1190 [00:02<03:38,  5.40it/s]"
     ]
    },
    {
     "name": "stderr",
     "output_type": "stream",
     "text": [
      "\r",
      "  1%|          | 13/1190 [00:02<03:46,  5.21it/s]"
     ]
    },
    {
     "name": "stderr",
     "output_type": "stream",
     "text": [
      "\r",
      "  1%|          | 14/1190 [00:02<03:55,  5.00it/s]"
     ]
    },
    {
     "name": "stderr",
     "output_type": "stream",
     "text": [
      "\r",
      "  1%|▏         | 15/1190 [00:02<03:30,  5.59it/s]"
     ]
    },
    {
     "name": "stderr",
     "output_type": "stream",
     "text": [
      "\r",
      "  1%|▏         | 17/1190 [00:03<02:58,  6.58it/s]"
     ]
    },
    {
     "name": "stderr",
     "output_type": "stream",
     "text": [
      "\r",
      "  2%|▏         | 19/1190 [00:03<02:29,  7.84it/s]"
     ]
    },
    {
     "name": "stderr",
     "output_type": "stream",
     "text": [
      "\r",
      "  2%|▏         | 22/1190 [00:03<02:15,  8.60it/s]"
     ]
    },
    {
     "name": "stderr",
     "output_type": "stream",
     "text": [
      "\r",
      "  2%|▏         | 24/1190 [00:03<01:55, 10.08it/s]"
     ]
    },
    {
     "name": "stderr",
     "output_type": "stream",
     "text": [
      "\r",
      "  2%|▏         | 26/1190 [00:04<02:51,  6.79it/s]"
     ]
    },
    {
     "name": "stderr",
     "output_type": "stream",
     "text": [
      "\r",
      "  2%|▏         | 27/1190 [00:04<03:01,  6.40it/s]"
     ]
    },
    {
     "name": "stderr",
     "output_type": "stream",
     "text": [
      "\r",
      "  3%|▎         | 30/1190 [00:04<02:12,  8.73it/s]"
     ]
    },
    {
     "name": "stderr",
     "output_type": "stream",
     "text": [
      "\r",
      "  3%|▎         | 32/1190 [00:04<02:10,  8.91it/s]"
     ]
    },
    {
     "name": "stderr",
     "output_type": "stream",
     "text": [
      "\r",
      "  3%|▎         | 34/1190 [00:05<02:29,  7.75it/s]"
     ]
    },
    {
     "name": "stderr",
     "output_type": "stream",
     "text": [
      "\r",
      "  3%|▎         | 35/1190 [00:05<02:36,  7.40it/s]"
     ]
    },
    {
     "name": "stderr",
     "output_type": "stream",
     "text": [
      "\r",
      "  3%|▎         | 36/1190 [00:05<03:00,  6.40it/s]"
     ]
    },
    {
     "name": "stderr",
     "output_type": "stream",
     "text": [
      "\r",
      "  3%|▎         | 37/1190 [00:05<03:09,  6.09it/s]"
     ]
    },
    {
     "name": "stderr",
     "output_type": "stream",
     "text": [
      "\r",
      "  3%|▎         | 39/1190 [00:05<02:19,  8.26it/s]"
     ]
    },
    {
     "name": "stderr",
     "output_type": "stream",
     "text": [
      "\r",
      "  3%|▎         | 41/1190 [00:06<02:40,  7.18it/s]"
     ]
    },
    {
     "name": "stderr",
     "output_type": "stream",
     "text": [
      "\r",
      "  4%|▎         | 43/1190 [00:06<02:33,  7.48it/s]"
     ]
    },
    {
     "name": "stderr",
     "output_type": "stream",
     "text": [
      "\r",
      "  4%|▎         | 44/1190 [00:06<02:50,  6.71it/s]"
     ]
    },
    {
     "name": "stderr",
     "output_type": "stream",
     "text": [
      "\r",
      "  4%|▍         | 45/1190 [00:06<02:43,  7.00it/s]"
     ]
    },
    {
     "name": "stderr",
     "output_type": "stream",
     "text": [
      "\r",
      "  4%|▍         | 46/1190 [00:06<02:59,  6.36it/s]"
     ]
    },
    {
     "name": "stderr",
     "output_type": "stream",
     "text": [
      "\r",
      "  4%|▍         | 47/1190 [00:07<03:37,  5.26it/s]"
     ]
    },
    {
     "name": "stderr",
     "output_type": "stream",
     "text": [
      "\r",
      "  4%|▍         | 49/1190 [00:07<03:28,  5.47it/s]"
     ]
    },
    {
     "name": "stderr",
     "output_type": "stream",
     "text": [
      "\r",
      "  4%|▍         | 51/1190 [00:07<03:05,  6.14it/s]"
     ]
    },
    {
     "name": "stderr",
     "output_type": "stream",
     "text": [
      "\r",
      "  4%|▍         | 52/1190 [00:07<02:59,  6.35it/s]"
     ]
    },
    {
     "name": "stderr",
     "output_type": "stream",
     "text": [
      "\r",
      "  5%|▍         | 54/1190 [00:08<02:23,  7.89it/s]"
     ]
    },
    {
     "name": "stderr",
     "output_type": "stream",
     "text": [
      "\r",
      "  5%|▍         | 55/1190 [00:08<02:27,  7.68it/s]"
     ]
    },
    {
     "name": "stderr",
     "output_type": "stream",
     "text": [
      "\r",
      "  5%|▍         | 56/1190 [00:08<03:14,  5.83it/s]"
     ]
    },
    {
     "name": "stderr",
     "output_type": "stream",
     "text": [
      "\r",
      "  5%|▍         | 57/1190 [00:08<02:56,  6.40it/s]"
     ]
    },
    {
     "name": "stderr",
     "output_type": "stream",
     "text": [
      "\r",
      "  5%|▍         | 59/1190 [00:08<02:35,  7.26it/s]"
     ]
    },
    {
     "name": "stderr",
     "output_type": "stream",
     "text": [
      "\r",
      "  5%|▌         | 61/1190 [00:09<02:08,  8.80it/s]"
     ]
    },
    {
     "name": "stderr",
     "output_type": "stream",
     "text": [
      "\r",
      "  5%|▌         | 63/1190 [00:09<01:50, 10.18it/s]"
     ]
    },
    {
     "name": "stderr",
     "output_type": "stream",
     "text": [
      "\r",
      "  5%|▌         | 65/1190 [00:09<02:20,  7.99it/s]"
     ]
    },
    {
     "name": "stderr",
     "output_type": "stream",
     "text": [
      "\r",
      "  6%|▌         | 66/1190 [00:09<02:49,  6.62it/s]"
     ]
    },
    {
     "name": "stderr",
     "output_type": "stream",
     "text": [
      "\r",
      "  6%|▌         | 68/1190 [00:09<02:19,  8.06it/s]"
     ]
    },
    {
     "name": "stderr",
     "output_type": "stream",
     "text": [
      "\r",
      "  6%|▌         | 69/1190 [00:10<02:28,  7.53it/s]"
     ]
    },
    {
     "name": "stderr",
     "output_type": "stream",
     "text": [
      "\r",
      "  6%|▌         | 71/1190 [00:10<03:01,  6.16it/s]"
     ]
    },
    {
     "name": "stderr",
     "output_type": "stream",
     "text": [
      "\r",
      "  6%|▌         | 73/1190 [00:10<02:42,  6.88it/s]"
     ]
    },
    {
     "name": "stderr",
     "output_type": "stream",
     "text": [
      "\r",
      "  6%|▌         | 74/1190 [00:10<02:46,  6.69it/s]"
     ]
    },
    {
     "name": "stderr",
     "output_type": "stream",
     "text": [
      "\r",
      "  6%|▋         | 75/1190 [00:11<03:28,  5.35it/s]"
     ]
    },
    {
     "name": "stderr",
     "output_type": "stream",
     "text": [
      "\r",
      "  6%|▋         | 76/1190 [00:11<03:49,  4.86it/s]"
     ]
    },
    {
     "name": "stderr",
     "output_type": "stream",
     "text": [
      "\r",
      "  6%|▋         | 77/1190 [00:11<04:21,  4.25it/s]"
     ]
    },
    {
     "name": "stderr",
     "output_type": "stream",
     "text": [
      "\r",
      "  7%|▋         | 78/1190 [00:12<03:53,  4.76it/s]"
     ]
    },
    {
     "name": "stderr",
     "output_type": "stream",
     "text": [
      "\r",
      "  7%|▋         | 80/1190 [00:12<02:44,  6.75it/s]"
     ]
    },
    {
     "name": "stderr",
     "output_type": "stream",
     "text": [
      "\r",
      "  7%|▋         | 82/1190 [00:12<02:42,  6.80it/s]"
     ]
    },
    {
     "name": "stderr",
     "output_type": "stream",
     "text": [
      "\r",
      "  7%|▋         | 84/1190 [00:12<02:39,  6.94it/s]"
     ]
    },
    {
     "name": "stderr",
     "output_type": "stream",
     "text": [
      "\r",
      "  7%|▋         | 86/1190 [00:12<02:14,  8.20it/s]"
     ]
    },
    {
     "name": "stderr",
     "output_type": "stream",
     "text": [
      "\r",
      "  7%|▋         | 87/1190 [00:12<02:11,  8.37it/s]"
     ]
    },
    {
     "name": "stderr",
     "output_type": "stream",
     "text": [
      "\r",
      "  7%|▋         | 88/1190 [00:13<02:46,  6.60it/s]"
     ]
    },
    {
     "name": "stderr",
     "output_type": "stream",
     "text": [
      "\r",
      "  8%|▊         | 90/1190 [00:13<02:35,  7.09it/s]"
     ]
    },
    {
     "name": "stderr",
     "output_type": "stream",
     "text": [
      "\r",
      "  8%|▊         | 91/1190 [00:13<02:45,  6.64it/s]"
     ]
    },
    {
     "name": "stderr",
     "output_type": "stream",
     "text": [
      "\r",
      "  8%|▊         | 92/1190 [00:13<02:39,  6.87it/s]"
     ]
    },
    {
     "name": "stderr",
     "output_type": "stream",
     "text": [
      "\r",
      "  8%|▊         | 93/1190 [00:13<02:28,  7.40it/s]"
     ]
    },
    {
     "name": "stderr",
     "output_type": "stream",
     "text": [
      "\r",
      "  8%|▊         | 94/1190 [00:14<02:36,  7.01it/s]"
     ]
    },
    {
     "name": "stderr",
     "output_type": "stream",
     "text": [
      "\r",
      "  8%|▊         | 96/1190 [00:14<02:13,  8.20it/s]"
     ]
    },
    {
     "name": "stderr",
     "output_type": "stream",
     "text": [
      "\r",
      "  8%|▊         | 97/1190 [00:14<02:11,  8.30it/s]"
     ]
    },
    {
     "name": "stderr",
     "output_type": "stream",
     "text": [
      "\r",
      "  8%|▊         | 99/1190 [00:14<02:34,  7.08it/s]"
     ]
    },
    {
     "name": "stderr",
     "output_type": "stream",
     "text": [
      "\r",
      "  8%|▊         | 100/1190 [00:14<02:35,  7.01it/s]"
     ]
    },
    {
     "name": "stderr",
     "output_type": "stream",
     "text": [
      "\r",
      "  9%|▊         | 102/1190 [00:14<01:58,  9.18it/s]"
     ]
    },
    {
     "name": "stderr",
     "output_type": "stream",
     "text": [
      "\r",
      "  9%|▊         | 104/1190 [00:15<02:12,  8.20it/s]"
     ]
    },
    {
     "name": "stderr",
     "output_type": "stream",
     "text": [
      "\r",
      "  9%|▉         | 105/1190 [00:15<02:15,  8.01it/s]"
     ]
    },
    {
     "name": "stderr",
     "output_type": "stream",
     "text": [
      "\r",
      "  9%|▉         | 106/1190 [00:15<02:39,  6.79it/s]"
     ]
    },
    {
     "name": "stderr",
     "output_type": "stream",
     "text": [
      "\r",
      "  9%|▉         | 107/1190 [00:15<03:10,  5.68it/s]"
     ]
    },
    {
     "name": "stderr",
     "output_type": "stream",
     "text": [
      "\r",
      "  9%|▉         | 108/1190 [00:16<03:15,  5.55it/s]"
     ]
    },
    {
     "name": "stderr",
     "output_type": "stream",
     "text": [
      "\r",
      "  9%|▉         | 109/1190 [00:16<04:00,  4.50it/s]"
     ]
    },
    {
     "name": "stderr",
     "output_type": "stream",
     "text": [
      "\r",
      "  9%|▉         | 112/1190 [00:16<02:20,  7.67it/s]"
     ]
    },
    {
     "name": "stderr",
     "output_type": "stream",
     "text": [
      "\r",
      "  9%|▉         | 113/1190 [00:16<02:26,  7.36it/s]"
     ]
    },
    {
     "name": "stderr",
     "output_type": "stream",
     "text": [
      "\r",
      " 10%|▉         | 114/1190 [00:17<04:24,  4.07it/s]"
     ]
    },
    {
     "name": "stderr",
     "output_type": "stream",
     "text": [
      "\r",
      " 10%|▉         | 117/1190 [00:17<02:38,  6.76it/s]"
     ]
    },
    {
     "name": "stderr",
     "output_type": "stream",
     "text": [
      "\r",
      " 10%|█         | 119/1190 [00:17<02:57,  6.04it/s]"
     ]
    },
    {
     "name": "stderr",
     "output_type": "stream",
     "text": [
      "\r",
      " 10%|█         | 120/1190 [00:18<03:22,  5.29it/s]"
     ]
    },
    {
     "name": "stderr",
     "output_type": "stream",
     "text": [
      "\r",
      " 10%|█         | 122/1190 [00:18<02:34,  6.93it/s]"
     ]
    },
    {
     "name": "stderr",
     "output_type": "stream",
     "text": [
      "\r",
      " 10%|█         | 124/1190 [00:18<02:35,  6.86it/s]"
     ]
    },
    {
     "name": "stderr",
     "output_type": "stream",
     "text": [
      "\r",
      " 11%|█         | 126/1190 [00:19<02:56,  6.02it/s]"
     ]
    },
    {
     "name": "stderr",
     "output_type": "stream",
     "text": [
      "\r",
      " 11%|█         | 127/1190 [00:19<02:53,  6.13it/s]"
     ]
    },
    {
     "name": "stderr",
     "output_type": "stream",
     "text": [
      "\r",
      " 11%|█         | 128/1190 [00:19<02:46,  6.38it/s]"
     ]
    },
    {
     "name": "stderr",
     "output_type": "stream",
     "text": [
      "\r",
      " 11%|█         | 130/1190 [00:19<02:10,  8.15it/s]"
     ]
    },
    {
     "name": "stderr",
     "output_type": "stream",
     "text": [
      "\r",
      " 11%|█         | 133/1190 [00:19<01:35, 11.02it/s]"
     ]
    },
    {
     "name": "stderr",
     "output_type": "stream",
     "text": [
      "\r",
      " 11%|█▏        | 135/1190 [00:19<01:57,  8.97it/s]"
     ]
    },
    {
     "name": "stderr",
     "output_type": "stream",
     "text": [
      "\r",
      " 12%|█▏        | 137/1190 [00:20<02:32,  6.92it/s]"
     ]
    },
    {
     "name": "stderr",
     "output_type": "stream",
     "text": [
      "\r",
      " 12%|█▏        | 138/1190 [00:20<02:45,  6.36it/s]"
     ]
    },
    {
     "name": "stderr",
     "output_type": "stream",
     "text": [
      "\r",
      " 12%|█▏        | 140/1190 [00:20<02:07,  8.23it/s]"
     ]
    },
    {
     "name": "stderr",
     "output_type": "stream",
     "text": [
      "\r",
      " 12%|█▏        | 142/1190 [00:21<02:29,  7.03it/s]"
     ]
    },
    {
     "name": "stderr",
     "output_type": "stream",
     "text": [
      "\r",
      " 12%|█▏        | 143/1190 [00:21<02:31,  6.91it/s]"
     ]
    },
    {
     "name": "stderr",
     "output_type": "stream",
     "text": [
      "\r",
      " 12%|█▏        | 144/1190 [00:21<02:26,  7.13it/s]"
     ]
    },
    {
     "name": "stderr",
     "output_type": "stream",
     "text": [
      "\r",
      " 12%|█▏        | 145/1190 [00:21<02:30,  6.96it/s]"
     ]
    },
    {
     "name": "stderr",
     "output_type": "stream",
     "text": [
      "\r",
      " 12%|█▏        | 147/1190 [00:21<02:05,  8.28it/s]"
     ]
    },
    {
     "name": "stderr",
     "output_type": "stream",
     "text": [
      "\r",
      " 12%|█▏        | 148/1190 [00:21<02:28,  7.03it/s]"
     ]
    },
    {
     "name": "stderr",
     "output_type": "stream",
     "text": [
      "\r",
      " 13%|█▎        | 149/1190 [00:22<03:07,  5.55it/s]"
     ]
    },
    {
     "name": "stderr",
     "output_type": "stream",
     "text": [
      "\r",
      " 13%|█▎        | 152/1190 [00:22<02:01,  8.53it/s]"
     ]
    },
    {
     "name": "stderr",
     "output_type": "stream",
     "text": [
      "\r",
      " 13%|█▎        | 153/1190 [00:22<02:53,  5.96it/s]"
     ]
    },
    {
     "name": "stderr",
     "output_type": "stream",
     "text": [
      "\r",
      " 13%|█▎        | 155/1190 [00:23<02:44,  6.30it/s]"
     ]
    },
    {
     "name": "stderr",
     "output_type": "stream",
     "text": [
      "\r",
      " 13%|█▎        | 157/1190 [00:23<02:13,  7.73it/s]"
     ]
    },
    {
     "name": "stderr",
     "output_type": "stream",
     "text": [
      "\r",
      " 13%|█▎        | 159/1190 [00:23<01:52,  9.14it/s]"
     ]
    },
    {
     "name": "stderr",
     "output_type": "stream",
     "text": [
      "\r",
      " 14%|█▎        | 161/1190 [00:23<02:41,  6.39it/s]"
     ]
    },
    {
     "name": "stderr",
     "output_type": "stream",
     "text": [
      "\r",
      " 14%|█▎        | 162/1190 [00:23<02:35,  6.60it/s]"
     ]
    },
    {
     "name": "stderr",
     "output_type": "stream",
     "text": [
      "\r",
      " 14%|█▍        | 164/1190 [00:24<02:33,  6.66it/s]"
     ]
    },
    {
     "name": "stderr",
     "output_type": "stream",
     "text": [
      "\r",
      " 14%|█▍        | 165/1190 [00:24<02:37,  6.51it/s]"
     ]
    },
    {
     "name": "stderr",
     "output_type": "stream",
     "text": [
      "\r",
      " 14%|█▍        | 167/1190 [00:24<02:15,  7.58it/s]"
     ]
    },
    {
     "name": "stderr",
     "output_type": "stream",
     "text": [
      "\r",
      " 14%|█▍        | 169/1190 [00:24<02:31,  6.73it/s]"
     ]
    },
    {
     "name": "stderr",
     "output_type": "stream",
     "text": [
      "\r",
      " 14%|█▍        | 172/1190 [00:25<01:45,  9.66it/s]"
     ]
    },
    {
     "name": "stderr",
     "output_type": "stream",
     "text": [
      "\r",
      " 15%|█▍        | 174/1190 [00:25<01:59,  8.54it/s]"
     ]
    },
    {
     "name": "stderr",
     "output_type": "stream",
     "text": [
      "\r",
      " 15%|█▍        | 176/1190 [00:25<02:20,  7.21it/s]"
     ]
    },
    {
     "name": "stderr",
     "output_type": "stream",
     "text": [
      "\r",
      " 15%|█▍        | 177/1190 [00:25<02:16,  7.44it/s]"
     ]
    },
    {
     "name": "stderr",
     "output_type": "stream",
     "text": [
      "\r",
      " 15%|█▍        | 178/1190 [00:26<02:16,  7.40it/s]"
     ]
    },
    {
     "name": "stderr",
     "output_type": "stream",
     "text": [
      "\r",
      " 15%|█▌        | 179/1190 [00:26<02:31,  6.69it/s]"
     ]
    },
    {
     "name": "stderr",
     "output_type": "stream",
     "text": [
      "\r",
      " 15%|█▌        | 180/1190 [00:26<02:29,  6.77it/s]"
     ]
    },
    {
     "name": "stderr",
     "output_type": "stream",
     "text": [
      "\r",
      " 15%|█▌        | 181/1190 [00:26<02:41,  6.25it/s]"
     ]
    },
    {
     "name": "stderr",
     "output_type": "stream",
     "text": [
      "\r",
      " 15%|█▌        | 183/1190 [00:26<02:17,  7.30it/s]"
     ]
    },
    {
     "name": "stderr",
     "output_type": "stream",
     "text": [
      "\r",
      " 15%|█▌        | 184/1190 [00:26<02:33,  6.55it/s]"
     ]
    },
    {
     "name": "stderr",
     "output_type": "stream",
     "text": [
      "\r",
      " 16%|█▌        | 186/1190 [00:27<02:00,  8.33it/s]"
     ]
    },
    {
     "name": "stderr",
     "output_type": "stream",
     "text": [
      "\r",
      " 16%|█▌        | 187/1190 [00:27<03:05,  5.40it/s]"
     ]
    },
    {
     "name": "stderr",
     "output_type": "stream",
     "text": [
      "\r",
      " 16%|█▌        | 189/1190 [00:27<03:24,  4.90it/s]"
     ]
    },
    {
     "name": "stderr",
     "output_type": "stream",
     "text": [
      "\r",
      " 16%|█▌        | 190/1190 [00:28<03:04,  5.43it/s]"
     ]
    },
    {
     "name": "stderr",
     "output_type": "stream",
     "text": [
      "\r",
      " 16%|█▌        | 192/1190 [00:28<02:28,  6.70it/s]"
     ]
    },
    {
     "name": "stderr",
     "output_type": "stream",
     "text": [
      "\r",
      " 16%|█▌        | 193/1190 [00:28<02:30,  6.64it/s]"
     ]
    },
    {
     "name": "stderr",
     "output_type": "stream",
     "text": [
      "\r",
      " 16%|█▋        | 195/1190 [00:28<02:00,  8.23it/s]"
     ]
    },
    {
     "name": "stderr",
     "output_type": "stream",
     "text": [
      "\r",
      " 16%|█▋        | 196/1190 [00:28<02:35,  6.39it/s]"
     ]
    },
    {
     "name": "stderr",
     "output_type": "stream",
     "text": [
      "\r",
      " 17%|█▋        | 198/1190 [00:29<02:07,  7.81it/s]"
     ]
    },
    {
     "name": "stderr",
     "output_type": "stream",
     "text": [
      "\r",
      " 17%|█▋        | 200/1190 [00:29<01:42,  9.69it/s]"
     ]
    },
    {
     "name": "stderr",
     "output_type": "stream",
     "text": [
      "\r",
      " 17%|█▋        | 202/1190 [00:29<01:56,  8.48it/s]"
     ]
    },
    {
     "name": "stderr",
     "output_type": "stream",
     "text": [
      "\r",
      " 17%|█▋        | 204/1190 [00:30<02:49,  5.81it/s]"
     ]
    },
    {
     "name": "stderr",
     "output_type": "stream",
     "text": [
      "\r",
      " 17%|█▋        | 206/1190 [00:30<02:26,  6.71it/s]"
     ]
    },
    {
     "name": "stderr",
     "output_type": "stream",
     "text": [
      "\r",
      " 17%|█▋        | 207/1190 [00:30<02:23,  6.86it/s]"
     ]
    },
    {
     "name": "stderr",
     "output_type": "stream",
     "text": [
      "\r",
      " 17%|█▋        | 208/1190 [00:30<02:27,  6.64it/s]"
     ]
    },
    {
     "name": "stderr",
     "output_type": "stream",
     "text": [
      "\r",
      " 18%|█▊        | 209/1190 [00:30<03:23,  4.81it/s]"
     ]
    },
    {
     "name": "stderr",
     "output_type": "stream",
     "text": [
      "\r",
      " 18%|█▊        | 211/1190 [00:31<02:54,  5.62it/s]"
     ]
    },
    {
     "name": "stderr",
     "output_type": "stream",
     "text": [
      "\r",
      " 18%|█▊        | 212/1190 [00:31<02:47,  5.84it/s]"
     ]
    },
    {
     "name": "stderr",
     "output_type": "stream",
     "text": [
      "\r",
      " 18%|█▊        | 213/1190 [00:31<03:27,  4.71it/s]"
     ]
    },
    {
     "name": "stderr",
     "output_type": "stream",
     "text": [
      "\r",
      " 18%|█▊        | 216/1190 [00:31<02:02,  7.96it/s]"
     ]
    },
    {
     "name": "stderr",
     "output_type": "stream",
     "text": [
      "\r",
      " 18%|█▊        | 218/1190 [00:32<03:01,  5.36it/s]"
     ]
    },
    {
     "name": "stderr",
     "output_type": "stream",
     "text": [
      "\r",
      " 18%|█▊        | 220/1190 [00:32<02:27,  6.56it/s]"
     ]
    },
    {
     "name": "stderr",
     "output_type": "stream",
     "text": [
      "\r",
      " 19%|█▊        | 221/1190 [00:32<02:25,  6.66it/s]"
     ]
    },
    {
     "name": "stderr",
     "output_type": "stream",
     "text": [
      "\r",
      " 19%|█▊        | 222/1190 [00:32<02:19,  6.96it/s]"
     ]
    },
    {
     "name": "stderr",
     "output_type": "stream",
     "text": [
      "\r",
      " 19%|█▊        | 223/1190 [00:32<02:11,  7.36it/s]"
     ]
    },
    {
     "name": "stderr",
     "output_type": "stream",
     "text": [
      "\r",
      " 19%|█▉        | 225/1190 [00:33<01:43,  9.31it/s]"
     ]
    },
    {
     "name": "stderr",
     "output_type": "stream",
     "text": [
      "\r",
      " 19%|█▉        | 227/1190 [00:33<01:50,  8.69it/s]"
     ]
    },
    {
     "name": "stderr",
     "output_type": "stream",
     "text": [
      "\r",
      " 19%|█▉        | 229/1190 [00:33<01:43,  9.30it/s]"
     ]
    },
    {
     "name": "stderr",
     "output_type": "stream",
     "text": [
      "\r",
      " 19%|█▉        | 231/1190 [00:33<01:47,  8.96it/s]"
     ]
    },
    {
     "name": "stderr",
     "output_type": "stream",
     "text": [
      "\r",
      " 19%|█▉        | 232/1190 [00:34<02:21,  6.78it/s]"
     ]
    },
    {
     "name": "stderr",
     "output_type": "stream",
     "text": [
      "\r",
      " 20%|█▉        | 233/1190 [00:34<02:31,  6.32it/s]"
     ]
    },
    {
     "name": "stderr",
     "output_type": "stream",
     "text": [
      "\r",
      " 20%|█▉        | 234/1190 [00:34<02:29,  6.38it/s]"
     ]
    },
    {
     "name": "stderr",
     "output_type": "stream",
     "text": [
      "\r",
      " 20%|█▉        | 235/1190 [00:34<03:00,  5.29it/s]"
     ]
    },
    {
     "name": "stderr",
     "output_type": "stream",
     "text": [
      "\r",
      " 20%|█▉        | 236/1190 [00:34<03:15,  4.88it/s]"
     ]
    },
    {
     "name": "stderr",
     "output_type": "stream",
     "text": [
      "\r",
      " 20%|██        | 238/1190 [00:35<02:48,  5.65it/s]"
     ]
    },
    {
     "name": "stderr",
     "output_type": "stream",
     "text": [
      "\r",
      " 20%|██        | 239/1190 [00:35<02:34,  6.14it/s]"
     ]
    },
    {
     "name": "stderr",
     "output_type": "stream",
     "text": [
      "\r",
      " 20%|██        | 240/1190 [00:35<02:41,  5.90it/s]"
     ]
    },
    {
     "name": "stderr",
     "output_type": "stream",
     "text": [
      "\r",
      " 20%|██        | 242/1190 [00:35<02:07,  7.43it/s]"
     ]
    },
    {
     "name": "stderr",
     "output_type": "stream",
     "text": [
      "\r",
      " 21%|██        | 245/1190 [00:35<01:40,  9.39it/s]"
     ]
    },
    {
     "name": "stderr",
     "output_type": "stream",
     "text": [
      "\r",
      " 21%|██        | 247/1190 [00:36<01:34,  9.96it/s]"
     ]
    },
    {
     "name": "stderr",
     "output_type": "stream",
     "text": [
      "\r",
      " 21%|██        | 249/1190 [00:36<01:48,  8.69it/s]"
     ]
    },
    {
     "name": "stderr",
     "output_type": "stream",
     "text": [
      "\r",
      " 21%|██        | 250/1190 [00:36<02:15,  6.96it/s]"
     ]
    },
    {
     "name": "stderr",
     "output_type": "stream",
     "text": [
      "\r",
      " 21%|██        | 251/1190 [00:36<02:16,  6.90it/s]"
     ]
    },
    {
     "name": "stderr",
     "output_type": "stream",
     "text": [
      "\r",
      " 21%|██        | 252/1190 [00:37<02:27,  6.37it/s]"
     ]
    },
    {
     "name": "stderr",
     "output_type": "stream",
     "text": [
      "\r",
      " 21%|██▏       | 253/1190 [00:37<02:15,  6.91it/s]"
     ]
    },
    {
     "name": "stderr",
     "output_type": "stream",
     "text": [
      "\r",
      " 21%|██▏       | 254/1190 [00:37<02:12,  7.09it/s]"
     ]
    },
    {
     "name": "stderr",
     "output_type": "stream",
     "text": [
      "\r",
      " 22%|██▏       | 256/1190 [00:37<01:53,  8.26it/s]"
     ]
    },
    {
     "name": "stderr",
     "output_type": "stream",
     "text": [
      "\r",
      " 22%|██▏       | 258/1190 [00:37<02:06,  7.39it/s]"
     ]
    },
    {
     "name": "stderr",
     "output_type": "stream",
     "text": [
      "\r",
      " 22%|██▏       | 260/1190 [00:38<03:05,  5.01it/s]"
     ]
    },
    {
     "name": "stderr",
     "output_type": "stream",
     "text": [
      "\r",
      " 22%|██▏       | 263/1190 [00:38<02:14,  6.90it/s]"
     ]
    },
    {
     "name": "stderr",
     "output_type": "stream",
     "text": [
      "\r",
      " 22%|██▏       | 265/1190 [00:38<01:53,  8.15it/s]"
     ]
    },
    {
     "name": "stderr",
     "output_type": "stream",
     "text": [
      "\r",
      " 22%|██▏       | 267/1190 [00:39<02:37,  5.87it/s]"
     ]
    },
    {
     "name": "stderr",
     "output_type": "stream",
     "text": [
      "\r",
      " 23%|██▎       | 268/1190 [00:39<03:09,  4.88it/s]"
     ]
    },
    {
     "name": "stderr",
     "output_type": "stream",
     "text": [
      "\r",
      " 23%|██▎       | 270/1190 [00:39<02:21,  6.48it/s]"
     ]
    },
    {
     "name": "stderr",
     "output_type": "stream",
     "text": [
      "\r",
      " 23%|██▎       | 272/1190 [00:40<02:13,  6.85it/s]"
     ]
    },
    {
     "name": "stderr",
     "output_type": "stream",
     "text": [
      "\r",
      " 23%|██▎       | 274/1190 [00:40<02:06,  7.23it/s]"
     ]
    },
    {
     "name": "stderr",
     "output_type": "stream",
     "text": [
      "\r",
      " 23%|██▎       | 275/1190 [00:40<02:04,  7.33it/s]"
     ]
    },
    {
     "name": "stderr",
     "output_type": "stream",
     "text": [
      "\r",
      " 23%|██▎       | 276/1190 [00:40<02:12,  6.89it/s]"
     ]
    },
    {
     "name": "stderr",
     "output_type": "stream",
     "text": [
      "\r",
      " 23%|██▎       | 279/1190 [00:40<01:37,  9.34it/s]"
     ]
    },
    {
     "name": "stderr",
     "output_type": "stream",
     "text": [
      "\r",
      " 24%|██▎       | 281/1190 [00:41<01:43,  8.79it/s]"
     ]
    },
    {
     "name": "stderr",
     "output_type": "stream",
     "text": [
      "\r",
      " 24%|██▎       | 282/1190 [00:41<01:46,  8.50it/s]"
     ]
    },
    {
     "name": "stderr",
     "output_type": "stream",
     "text": [
      "\r",
      " 24%|██▍       | 283/1190 [00:41<01:53,  7.96it/s]"
     ]
    },
    {
     "name": "stderr",
     "output_type": "stream",
     "text": [
      "\r",
      " 24%|██▍       | 284/1190 [00:41<01:53,  7.95it/s]"
     ]
    },
    {
     "name": "stderr",
     "output_type": "stream",
     "text": [
      "\r",
      " 24%|██▍       | 285/1190 [00:41<01:51,  8.12it/s]"
     ]
    },
    {
     "name": "stderr",
     "output_type": "stream",
     "text": [
      "\r",
      " 24%|██▍       | 286/1190 [00:41<02:23,  6.30it/s]"
     ]
    },
    {
     "name": "stderr",
     "output_type": "stream",
     "text": [
      "\r",
      " 24%|██▍       | 287/1190 [00:41<02:19,  6.48it/s]"
     ]
    },
    {
     "name": "stderr",
     "output_type": "stream",
     "text": [
      "\r",
      " 24%|██▍       | 288/1190 [00:42<02:29,  6.02it/s]"
     ]
    },
    {
     "name": "stderr",
     "output_type": "stream",
     "text": [
      "\r",
      " 24%|██▍       | 290/1190 [00:42<01:51,  8.11it/s]"
     ]
    },
    {
     "name": "stderr",
     "output_type": "stream",
     "text": [
      "\r",
      " 24%|██▍       | 291/1190 [00:42<01:46,  8.42it/s]"
     ]
    },
    {
     "name": "stderr",
     "output_type": "stream",
     "text": [
      "\r",
      " 25%|██▍       | 292/1190 [00:42<02:43,  5.50it/s]"
     ]
    },
    {
     "name": "stderr",
     "output_type": "stream",
     "text": [
      "\r",
      " 25%|██▍       | 293/1190 [00:42<02:30,  5.96it/s]"
     ]
    },
    {
     "name": "stderr",
     "output_type": "stream",
     "text": [
      "\r",
      " 25%|██▍       | 294/1190 [00:43<02:19,  6.44it/s]"
     ]
    },
    {
     "name": "stderr",
     "output_type": "stream",
     "text": [
      "\r",
      " 25%|██▍       | 295/1190 [00:43<02:12,  6.77it/s]"
     ]
    },
    {
     "name": "stderr",
     "output_type": "stream",
     "text": [
      "\r",
      " 25%|██▍       | 297/1190 [00:43<02:12,  6.75it/s]"
     ]
    },
    {
     "name": "stderr",
     "output_type": "stream",
     "text": [
      "\r",
      " 25%|██▌       | 298/1190 [00:43<02:15,  6.60it/s]"
     ]
    },
    {
     "name": "stderr",
     "output_type": "stream",
     "text": [
      "\r",
      " 25%|██▌       | 300/1190 [00:43<01:44,  8.53it/s]"
     ]
    },
    {
     "name": "stderr",
     "output_type": "stream",
     "text": [
      "\r",
      " 25%|██▌       | 301/1190 [00:43<01:52,  7.93it/s]"
     ]
    },
    {
     "name": "stderr",
     "output_type": "stream",
     "text": [
      "\r",
      " 25%|██▌       | 302/1190 [00:44<02:55,  5.05it/s]"
     ]
    },
    {
     "name": "stderr",
     "output_type": "stream",
     "text": [
      "\r",
      " 26%|██▌       | 304/1190 [00:44<02:02,  7.25it/s]"
     ]
    },
    {
     "name": "stderr",
     "output_type": "stream",
     "text": [
      "\r",
      " 26%|██▌       | 306/1190 [00:44<02:10,  6.79it/s]"
     ]
    },
    {
     "name": "stderr",
     "output_type": "stream",
     "text": [
      "\r",
      " 26%|██▌       | 307/1190 [00:44<02:08,  6.86it/s]"
     ]
    },
    {
     "name": "stderr",
     "output_type": "stream",
     "text": [
      "\r",
      " 26%|██▌       | 309/1190 [00:45<01:50,  7.97it/s]"
     ]
    },
    {
     "name": "stderr",
     "output_type": "stream",
     "text": [
      "\r",
      " 26%|██▌       | 311/1190 [00:45<01:49,  8.03it/s]"
     ]
    },
    {
     "name": "stderr",
     "output_type": "stream",
     "text": [
      "\r",
      " 26%|██▌       | 312/1190 [00:45<02:18,  6.33it/s]"
     ]
    },
    {
     "name": "stderr",
     "output_type": "stream",
     "text": [
      "\r",
      " 26%|██▋       | 314/1190 [00:45<02:22,  6.16it/s]"
     ]
    },
    {
     "name": "stderr",
     "output_type": "stream",
     "text": [
      "\r",
      " 26%|██▋       | 315/1190 [00:46<03:00,  4.84it/s]"
     ]
    },
    {
     "name": "stderr",
     "output_type": "stream",
     "text": [
      "\r",
      " 27%|██▋       | 317/1190 [00:46<02:19,  6.27it/s]"
     ]
    },
    {
     "name": "stderr",
     "output_type": "stream",
     "text": [
      "\r",
      " 27%|██▋       | 318/1190 [00:46<02:40,  5.42it/s]"
     ]
    },
    {
     "name": "stderr",
     "output_type": "stream",
     "text": [
      "\r",
      " 27%|██▋       | 319/1190 [00:46<02:30,  5.80it/s]"
     ]
    },
    {
     "name": "stderr",
     "output_type": "stream",
     "text": [
      "\r",
      " 27%|██▋       | 320/1190 [00:47<02:22,  6.12it/s]"
     ]
    },
    {
     "name": "stderr",
     "output_type": "stream",
     "text": [
      "\r",
      " 27%|██▋       | 322/1190 [00:47<01:46,  8.18it/s]"
     ]
    },
    {
     "name": "stderr",
     "output_type": "stream",
     "text": [
      "\r",
      " 27%|██▋       | 323/1190 [00:47<01:47,  8.05it/s]"
     ]
    },
    {
     "name": "stderr",
     "output_type": "stream",
     "text": [
      "\r",
      " 27%|██▋       | 325/1190 [00:47<01:22, 10.47it/s]"
     ]
    },
    {
     "name": "stderr",
     "output_type": "stream",
     "text": [
      "\r",
      " 27%|██▋       | 327/1190 [00:47<01:31,  9.44it/s]"
     ]
    },
    {
     "name": "stderr",
     "output_type": "stream",
     "text": [
      "\r",
      " 28%|██▊       | 329/1190 [00:47<01:17, 11.10it/s]"
     ]
    },
    {
     "name": "stderr",
     "output_type": "stream",
     "text": [
      "\r",
      " 28%|██▊       | 331/1190 [00:48<02:17,  6.27it/s]"
     ]
    },
    {
     "name": "stderr",
     "output_type": "stream",
     "text": [
      "\r",
      " 28%|██▊       | 333/1190 [00:48<02:07,  6.73it/s]"
     ]
    },
    {
     "name": "stderr",
     "output_type": "stream",
     "text": [
      "\r",
      " 28%|██▊       | 335/1190 [00:48<01:53,  7.53it/s]"
     ]
    },
    {
     "name": "stderr",
     "output_type": "stream",
     "text": [
      "\r",
      " 28%|██▊       | 337/1190 [00:49<01:55,  7.38it/s]"
     ]
    },
    {
     "name": "stderr",
     "output_type": "stream",
     "text": [
      "\r",
      " 28%|██▊       | 338/1190 [00:49<01:50,  7.74it/s]"
     ]
    },
    {
     "name": "stderr",
     "output_type": "stream",
     "text": [
      "\r",
      " 28%|██▊       | 339/1190 [00:49<02:01,  7.01it/s]"
     ]
    },
    {
     "name": "stderr",
     "output_type": "stream",
     "text": [
      "\r",
      " 29%|██▊       | 340/1190 [00:49<02:08,  6.61it/s]"
     ]
    },
    {
     "name": "stderr",
     "output_type": "stream",
     "text": [
      "\r",
      " 29%|██▊       | 341/1190 [00:49<02:05,  6.75it/s]"
     ]
    },
    {
     "name": "stderr",
     "output_type": "stream",
     "text": [
      "\r",
      " 29%|██▉       | 344/1190 [00:50<01:45,  8.04it/s]"
     ]
    },
    {
     "name": "stderr",
     "output_type": "stream",
     "text": [
      "\r",
      " 29%|██▉       | 345/1190 [00:50<01:45,  8.03it/s]"
     ]
    },
    {
     "name": "stderr",
     "output_type": "stream",
     "text": [
      "\r",
      " 29%|██▉       | 346/1190 [00:50<02:07,  6.63it/s]"
     ]
    },
    {
     "name": "stderr",
     "output_type": "stream",
     "text": [
      "\r",
      " 29%|██▉       | 347/1190 [00:50<02:06,  6.64it/s]"
     ]
    },
    {
     "name": "stderr",
     "output_type": "stream",
     "text": [
      "\r",
      " 29%|██▉       | 349/1190 [00:50<01:43,  8.15it/s]"
     ]
    },
    {
     "name": "stderr",
     "output_type": "stream",
     "text": [
      "\r",
      " 29%|██▉       | 350/1190 [00:51<02:31,  5.55it/s]"
     ]
    },
    {
     "name": "stderr",
     "output_type": "stream",
     "text": [
      "\r",
      " 30%|██▉       | 352/1190 [00:51<02:16,  6.16it/s]"
     ]
    },
    {
     "name": "stderr",
     "output_type": "stream",
     "text": [
      "\r",
      " 30%|██▉       | 354/1190 [00:51<02:00,  6.96it/s]"
     ]
    },
    {
     "name": "stderr",
     "output_type": "stream",
     "text": [
      "\r",
      " 30%|██▉       | 355/1190 [00:51<02:18,  6.02it/s]"
     ]
    },
    {
     "name": "stderr",
     "output_type": "stream",
     "text": [
      "\r",
      " 30%|██▉       | 356/1190 [00:52<02:45,  5.05it/s]"
     ]
    },
    {
     "name": "stderr",
     "output_type": "stream",
     "text": [
      "\r",
      " 30%|███       | 357/1190 [00:52<02:44,  5.05it/s]"
     ]
    },
    {
     "name": "stderr",
     "output_type": "stream",
     "text": [
      "\r",
      " 30%|███       | 358/1190 [00:52<02:34,  5.37it/s]"
     ]
    },
    {
     "name": "stderr",
     "output_type": "stream",
     "text": [
      "\r",
      " 30%|███       | 359/1190 [00:52<02:37,  5.26it/s]"
     ]
    },
    {
     "name": "stderr",
     "output_type": "stream",
     "text": [
      "\r",
      " 30%|███       | 361/1190 [00:52<02:12,  6.26it/s]"
     ]
    },
    {
     "name": "stderr",
     "output_type": "stream",
     "text": [
      "\r",
      " 31%|███       | 364/1190 [00:53<01:22, 10.06it/s]"
     ]
    },
    {
     "name": "stderr",
     "output_type": "stream",
     "text": [
      "\r",
      " 31%|███       | 366/1190 [00:53<02:12,  6.21it/s]"
     ]
    },
    {
     "name": "stderr",
     "output_type": "stream",
     "text": [
      "\r",
      " 31%|███       | 368/1190 [00:53<02:12,  6.21it/s]"
     ]
    },
    {
     "name": "stderr",
     "output_type": "stream",
     "text": [
      "\r",
      " 31%|███       | 369/1190 [00:54<02:04,  6.58it/s]"
     ]
    },
    {
     "name": "stderr",
     "output_type": "stream",
     "text": [
      "\r",
      " 31%|███       | 371/1190 [00:54<02:26,  5.60it/s]"
     ]
    },
    {
     "name": "stderr",
     "output_type": "stream",
     "text": [
      "\r",
      " 31%|███▏      | 372/1190 [00:54<02:16,  5.97it/s]"
     ]
    },
    {
     "name": "stderr",
     "output_type": "stream",
     "text": [
      "\r",
      " 31%|███▏      | 373/1190 [00:54<02:09,  6.30it/s]"
     ]
    },
    {
     "name": "stderr",
     "output_type": "stream",
     "text": [
      "\r",
      " 31%|███▏      | 374/1190 [00:54<02:14,  6.05it/s]"
     ]
    },
    {
     "name": "stderr",
     "output_type": "stream",
     "text": [
      "\r",
      " 32%|███▏      | 376/1190 [00:55<02:06,  6.44it/s]"
     ]
    },
    {
     "name": "stderr",
     "output_type": "stream",
     "text": [
      "\r",
      " 32%|███▏      | 377/1190 [00:55<02:06,  6.42it/s]"
     ]
    },
    {
     "name": "stderr",
     "output_type": "stream",
     "text": [
      "\r",
      " 32%|███▏      | 379/1190 [00:55<01:44,  7.78it/s]"
     ]
    },
    {
     "name": "stderr",
     "output_type": "stream",
     "text": [
      "\r",
      " 32%|███▏      | 381/1190 [00:55<01:44,  7.71it/s]"
     ]
    },
    {
     "name": "stderr",
     "output_type": "stream",
     "text": [
      "\r",
      " 32%|███▏      | 382/1190 [00:56<01:56,  6.95it/s]"
     ]
    },
    {
     "name": "stderr",
     "output_type": "stream",
     "text": [
      "\r",
      " 32%|███▏      | 386/1190 [00:56<01:16, 10.47it/s]"
     ]
    },
    {
     "name": "stderr",
     "output_type": "stream",
     "text": [
      "\r",
      " 33%|███▎      | 388/1190 [00:56<01:34,  8.52it/s]"
     ]
    },
    {
     "name": "stderr",
     "output_type": "stream",
     "text": [
      "\r",
      " 33%|███▎      | 389/1190 [00:56<01:35,  8.42it/s]"
     ]
    },
    {
     "name": "stderr",
     "output_type": "stream",
     "text": [
      "\r",
      " 33%|███▎      | 390/1190 [00:56<01:42,  7.79it/s]"
     ]
    },
    {
     "name": "stderr",
     "output_type": "stream",
     "text": [
      "\r",
      " 33%|███▎      | 391/1190 [00:57<01:38,  8.10it/s]"
     ]
    },
    {
     "name": "stderr",
     "output_type": "stream",
     "text": [
      "\r",
      " 33%|███▎      | 392/1190 [00:57<02:09,  6.18it/s]"
     ]
    },
    {
     "name": "stderr",
     "output_type": "stream",
     "text": [
      "\r",
      " 33%|███▎      | 394/1190 [00:57<02:01,  6.54it/s]"
     ]
    },
    {
     "name": "stderr",
     "output_type": "stream",
     "text": [
      "\r",
      " 33%|███▎      | 395/1190 [00:57<02:46,  4.79it/s]"
     ]
    },
    {
     "name": "stderr",
     "output_type": "stream",
     "text": [
      "\r",
      " 33%|███▎      | 398/1190 [00:58<01:42,  7.74it/s]"
     ]
    },
    {
     "name": "stderr",
     "output_type": "stream",
     "text": [
      "\r",
      " 34%|███▎      | 400/1190 [00:58<01:26,  9.16it/s]"
     ]
    },
    {
     "name": "stderr",
     "output_type": "stream",
     "text": [
      "\r",
      " 34%|███▍      | 402/1190 [00:58<01:41,  7.80it/s]"
     ]
    },
    {
     "name": "stderr",
     "output_type": "stream",
     "text": [
      "\r",
      " 34%|███▍      | 404/1190 [00:58<01:38,  7.96it/s]"
     ]
    },
    {
     "name": "stderr",
     "output_type": "stream",
     "text": [
      "\r",
      " 34%|███▍      | 406/1190 [00:58<01:27,  8.91it/s]"
     ]
    },
    {
     "name": "stderr",
     "output_type": "stream",
     "text": [
      "\r",
      " 34%|███▍      | 408/1190 [00:59<01:36,  8.10it/s]"
     ]
    },
    {
     "name": "stderr",
     "output_type": "stream",
     "text": [
      "\r",
      " 34%|███▍      | 409/1190 [00:59<01:39,  7.81it/s]"
     ]
    },
    {
     "name": "stderr",
     "output_type": "stream",
     "text": [
      "\r",
      " 34%|███▍      | 410/1190 [00:59<02:20,  5.56it/s]"
     ]
    },
    {
     "name": "stderr",
     "output_type": "stream",
     "text": [
      "\r",
      " 35%|███▍      | 411/1190 [00:59<02:10,  5.95it/s]"
     ]
    },
    {
     "name": "stderr",
     "output_type": "stream",
     "text": [
      "\r",
      " 35%|███▍      | 412/1190 [01:00<02:25,  5.36it/s]"
     ]
    },
    {
     "name": "stderr",
     "output_type": "stream",
     "text": [
      "\r",
      " 35%|███▍      | 413/1190 [01:00<02:28,  5.23it/s]"
     ]
    },
    {
     "name": "stderr",
     "output_type": "stream",
     "text": [
      "\r",
      " 35%|███▍      | 415/1190 [01:00<01:55,  6.72it/s]"
     ]
    },
    {
     "name": "stderr",
     "output_type": "stream",
     "text": [
      "\r",
      " 35%|███▍      | 416/1190 [01:00<01:51,  6.91it/s]"
     ]
    },
    {
     "name": "stderr",
     "output_type": "stream",
     "text": [
      "\r",
      " 35%|███▌      | 417/1190 [01:00<02:10,  5.92it/s]"
     ]
    },
    {
     "name": "stderr",
     "output_type": "stream",
     "text": [
      "\r",
      " 35%|███▌      | 420/1190 [01:01<01:35,  8.07it/s]"
     ]
    },
    {
     "name": "stderr",
     "output_type": "stream",
     "text": [
      "\r",
      " 35%|███▌      | 422/1190 [01:01<01:50,  6.93it/s]"
     ]
    },
    {
     "name": "stderr",
     "output_type": "stream",
     "text": [
      "\r",
      " 36%|███▌      | 424/1190 [01:01<01:43,  7.43it/s]"
     ]
    },
    {
     "name": "stderr",
     "output_type": "stream",
     "text": [
      "\r",
      " 36%|███▌      | 425/1190 [01:02<01:53,  6.71it/s]"
     ]
    },
    {
     "name": "stderr",
     "output_type": "stream",
     "text": [
      "\r",
      " 36%|███▌      | 427/1190 [01:02<01:27,  8.69it/s]"
     ]
    },
    {
     "name": "stderr",
     "output_type": "stream",
     "text": [
      "\r",
      " 36%|███▌      | 429/1190 [01:02<02:03,  6.16it/s]"
     ]
    },
    {
     "name": "stderr",
     "output_type": "stream",
     "text": [
      "\r",
      " 36%|███▌      | 431/1190 [01:02<01:50,  6.85it/s]"
     ]
    },
    {
     "name": "stderr",
     "output_type": "stream",
     "text": [
      "\r",
      " 36%|███▋      | 433/1190 [01:03<01:48,  7.00it/s]"
     ]
    },
    {
     "name": "stderr",
     "output_type": "stream",
     "text": [
      "\r",
      " 37%|███▋      | 436/1190 [01:03<01:46,  7.07it/s]"
     ]
    },
    {
     "name": "stderr",
     "output_type": "stream",
     "text": [
      "\r",
      " 37%|███▋      | 439/1190 [01:03<01:31,  8.20it/s]"
     ]
    },
    {
     "name": "stderr",
     "output_type": "stream",
     "text": [
      "\r",
      " 37%|███▋      | 440/1190 [01:04<02:09,  5.78it/s]"
     ]
    },
    {
     "name": "stderr",
     "output_type": "stream",
     "text": [
      "\r",
      " 37%|███▋      | 442/1190 [01:04<01:42,  7.31it/s]"
     ]
    },
    {
     "name": "stderr",
     "output_type": "stream",
     "text": [
      "\r",
      " 37%|███▋      | 444/1190 [01:04<01:44,  7.13it/s]"
     ]
    },
    {
     "name": "stderr",
     "output_type": "stream",
     "text": [
      "\r",
      " 37%|███▋      | 445/1190 [01:04<01:39,  7.47it/s]"
     ]
    },
    {
     "name": "stderr",
     "output_type": "stream",
     "text": [
      "\r",
      " 37%|███▋      | 446/1190 [01:04<01:50,  6.76it/s]"
     ]
    },
    {
     "name": "stderr",
     "output_type": "stream",
     "text": [
      "\r",
      " 38%|███▊      | 448/1190 [01:05<01:42,  7.23it/s]"
     ]
    },
    {
     "name": "stderr",
     "output_type": "stream",
     "text": [
      "\r",
      " 38%|███▊      | 450/1190 [01:05<01:41,  7.29it/s]"
     ]
    },
    {
     "name": "stderr",
     "output_type": "stream",
     "text": [
      "\r",
      " 38%|███▊      | 451/1190 [01:05<01:49,  6.75it/s]"
     ]
    },
    {
     "name": "stderr",
     "output_type": "stream",
     "text": [
      "\r",
      " 38%|███▊      | 452/1190 [01:05<01:53,  6.48it/s]"
     ]
    },
    {
     "name": "stderr",
     "output_type": "stream",
     "text": [
      "\r",
      " 38%|███▊      | 454/1190 [01:06<01:43,  7.13it/s]"
     ]
    },
    {
     "name": "stderr",
     "output_type": "stream",
     "text": [
      "\r",
      " 38%|███▊      | 455/1190 [01:06<01:58,  6.23it/s]"
     ]
    },
    {
     "name": "stderr",
     "output_type": "stream",
     "text": [
      "\r",
      " 38%|███▊      | 457/1190 [01:06<02:03,  5.95it/s]"
     ]
    },
    {
     "name": "stderr",
     "output_type": "stream",
     "text": [
      "\r",
      " 38%|███▊      | 458/1190 [01:06<02:12,  5.52it/s]"
     ]
    },
    {
     "name": "stderr",
     "output_type": "stream",
     "text": [
      "\r",
      " 39%|███▊      | 460/1190 [01:07<02:12,  5.51it/s]"
     ]
    },
    {
     "name": "stderr",
     "output_type": "stream",
     "text": [
      "\r",
      " 39%|███▉      | 462/1190 [01:07<02:01,  6.00it/s]"
     ]
    },
    {
     "name": "stderr",
     "output_type": "stream",
     "text": [
      "\r",
      " 39%|███▉      | 463/1190 [01:07<02:24,  5.02it/s]"
     ]
    },
    {
     "name": "stderr",
     "output_type": "stream",
     "text": [
      "\r",
      " 39%|███▉      | 465/1190 [01:08<01:48,  6.70it/s]"
     ]
    },
    {
     "name": "stderr",
     "output_type": "stream",
     "text": [
      "\r",
      " 39%|███▉      | 466/1190 [01:08<01:46,  6.79it/s]"
     ]
    },
    {
     "name": "stderr",
     "output_type": "stream",
     "text": [
      "\r",
      " 39%|███▉      | 467/1190 [01:08<01:47,  6.74it/s]"
     ]
    },
    {
     "name": "stderr",
     "output_type": "stream",
     "text": [
      "\r",
      " 39%|███▉      | 469/1190 [01:08<01:23,  8.64it/s]"
     ]
    },
    {
     "name": "stderr",
     "output_type": "stream",
     "text": [
      "\r",
      " 40%|███▉      | 471/1190 [01:08<01:31,  7.89it/s]"
     ]
    },
    {
     "name": "stderr",
     "output_type": "stream",
     "text": [
      "\r",
      " 40%|███▉      | 473/1190 [01:09<01:34,  7.59it/s]"
     ]
    },
    {
     "name": "stderr",
     "output_type": "stream",
     "text": [
      "\r",
      " 40%|███▉      | 474/1190 [01:09<01:38,  7.28it/s]"
     ]
    },
    {
     "name": "stderr",
     "output_type": "stream",
     "text": [
      "\r",
      " 40%|████      | 476/1190 [01:09<01:27,  8.16it/s]"
     ]
    },
    {
     "name": "stderr",
     "output_type": "stream",
     "text": [
      "\r",
      " 40%|████      | 478/1190 [01:09<01:09, 10.18it/s]"
     ]
    },
    {
     "name": "stderr",
     "output_type": "stream",
     "text": [
      "\r",
      " 40%|████      | 480/1190 [01:09<01:32,  7.64it/s]"
     ]
    },
    {
     "name": "stderr",
     "output_type": "stream",
     "text": [
      "\r",
      " 40%|████      | 481/1190 [01:09<01:31,  7.79it/s]"
     ]
    },
    {
     "name": "stderr",
     "output_type": "stream",
     "text": [
      "\r",
      " 41%|████      | 482/1190 [01:10<01:34,  7.47it/s]"
     ]
    },
    {
     "name": "stderr",
     "output_type": "stream",
     "text": [
      "\r",
      " 41%|████      | 483/1190 [01:10<01:56,  6.06it/s]"
     ]
    },
    {
     "name": "stderr",
     "output_type": "stream",
     "text": [
      "\r",
      " 41%|████      | 485/1190 [01:10<01:49,  6.45it/s]"
     ]
    },
    {
     "name": "stderr",
     "output_type": "stream",
     "text": [
      "\r",
      " 41%|████      | 487/1190 [01:10<01:22,  8.53it/s]"
     ]
    },
    {
     "name": "stderr",
     "output_type": "stream",
     "text": [
      "\r",
      " 41%|████      | 489/1190 [01:11<01:26,  8.13it/s]"
     ]
    },
    {
     "name": "stderr",
     "output_type": "stream",
     "text": [
      "\r",
      " 41%|████▏     | 491/1190 [01:11<01:16,  9.10it/s]"
     ]
    },
    {
     "name": "stderr",
     "output_type": "stream",
     "text": [
      "\r",
      " 41%|████▏     | 493/1190 [01:11<01:36,  7.21it/s]"
     ]
    },
    {
     "name": "stderr",
     "output_type": "stream",
     "text": [
      "\r",
      " 42%|████▏     | 494/1190 [01:11<01:42,  6.76it/s]"
     ]
    },
    {
     "name": "stderr",
     "output_type": "stream",
     "text": [
      "\r",
      " 42%|████▏     | 495/1190 [01:11<01:41,  6.83it/s]"
     ]
    },
    {
     "name": "stderr",
     "output_type": "stream",
     "text": [
      "\r",
      " 42%|████▏     | 497/1190 [01:12<01:34,  7.36it/s]"
     ]
    },
    {
     "name": "stderr",
     "output_type": "stream",
     "text": [
      "\r",
      " 42%|████▏     | 499/1190 [01:12<02:07,  5.43it/s]"
     ]
    },
    {
     "name": "stderr",
     "output_type": "stream",
     "text": [
      "\r",
      " 42%|████▏     | 500/1190 [01:12<02:03,  5.59it/s]"
     ]
    },
    {
     "name": "stderr",
     "output_type": "stream",
     "text": [
      "\r",
      " 42%|████▏     | 501/1190 [01:13<01:53,  6.07it/s]"
     ]
    },
    {
     "name": "stderr",
     "output_type": "stream",
     "text": [
      "\r",
      " 42%|████▏     | 503/1190 [01:13<01:41,  6.79it/s]"
     ]
    },
    {
     "name": "stderr",
     "output_type": "stream",
     "text": [
      "\r",
      " 42%|████▏     | 504/1190 [01:13<01:38,  6.93it/s]"
     ]
    },
    {
     "name": "stderr",
     "output_type": "stream",
     "text": [
      "\r",
      " 42%|████▏     | 505/1190 [01:13<02:01,  5.64it/s]"
     ]
    },
    {
     "name": "stderr",
     "output_type": "stream",
     "text": [
      "\r",
      " 43%|████▎     | 507/1190 [01:14<02:03,  5.52it/s]"
     ]
    },
    {
     "name": "stderr",
     "output_type": "stream",
     "text": [
      "\r",
      " 43%|████▎     | 508/1190 [01:14<01:58,  5.75it/s]"
     ]
    },
    {
     "name": "stderr",
     "output_type": "stream",
     "text": [
      "\r",
      " 43%|████▎     | 509/1190 [01:14<02:02,  5.58it/s]"
     ]
    },
    {
     "name": "stderr",
     "output_type": "stream",
     "text": [
      "\r",
      " 43%|████▎     | 510/1190 [01:14<02:00,  5.64it/s]"
     ]
    },
    {
     "name": "stderr",
     "output_type": "stream",
     "text": [
      "\r",
      " 43%|████▎     | 512/1190 [01:14<01:29,  7.58it/s]"
     ]
    },
    {
     "name": "stderr",
     "output_type": "stream",
     "text": [
      "\r",
      " 43%|████▎     | 513/1190 [01:14<01:25,  7.91it/s]"
     ]
    },
    {
     "name": "stderr",
     "output_type": "stream",
     "text": [
      "\r",
      " 43%|████▎     | 515/1190 [01:15<01:24,  7.95it/s]"
     ]
    },
    {
     "name": "stderr",
     "output_type": "stream",
     "text": [
      "\r",
      " 43%|████▎     | 516/1190 [01:15<01:47,  6.29it/s]"
     ]
    },
    {
     "name": "stderr",
     "output_type": "stream",
     "text": [
      "\r",
      " 44%|████▎     | 518/1190 [01:15<01:27,  7.70it/s]"
     ]
    },
    {
     "name": "stderr",
     "output_type": "stream",
     "text": [
      "\r",
      " 44%|████▎     | 520/1190 [01:15<01:24,  7.89it/s]"
     ]
    },
    {
     "name": "stderr",
     "output_type": "stream",
     "text": [
      "\r",
      " 44%|████▍     | 521/1190 [01:15<01:21,  8.23it/s]"
     ]
    },
    {
     "name": "stderr",
     "output_type": "stream",
     "text": [
      "\r",
      " 44%|████▍     | 522/1190 [01:16<01:27,  7.67it/s]"
     ]
    },
    {
     "name": "stderr",
     "output_type": "stream",
     "text": [
      "\r",
      " 44%|████▍     | 523/1190 [01:16<01:24,  7.93it/s]"
     ]
    },
    {
     "name": "stderr",
     "output_type": "stream",
     "text": [
      "\r",
      " 44%|████▍     | 525/1190 [01:16<01:34,  7.06it/s]"
     ]
    },
    {
     "name": "stderr",
     "output_type": "stream",
     "text": [
      "\r",
      " 44%|████▍     | 526/1190 [01:16<02:04,  5.33it/s]"
     ]
    },
    {
     "name": "stderr",
     "output_type": "stream",
     "text": [
      "\r",
      " 44%|████▍     | 528/1190 [01:16<01:31,  7.22it/s]"
     ]
    },
    {
     "name": "stderr",
     "output_type": "stream",
     "text": [
      "\r",
      " 45%|████▍     | 530/1190 [01:17<01:29,  7.41it/s]"
     ]
    },
    {
     "name": "stderr",
     "output_type": "stream",
     "text": [
      "\r",
      " 45%|████▍     | 532/1190 [01:17<01:46,  6.18it/s]"
     ]
    },
    {
     "name": "stderr",
     "output_type": "stream",
     "text": [
      "\r",
      " 45%|████▍     | 533/1190 [01:17<01:47,  6.14it/s]"
     ]
    },
    {
     "name": "stderr",
     "output_type": "stream",
     "text": [
      "\r",
      " 45%|████▍     | 535/1190 [01:17<01:21,  8.07it/s]"
     ]
    },
    {
     "name": "stderr",
     "output_type": "stream",
     "text": [
      "\r",
      " 45%|████▌     | 537/1190 [01:18<01:27,  7.47it/s]"
     ]
    },
    {
     "name": "stderr",
     "output_type": "stream",
     "text": [
      "\r",
      " 45%|████▌     | 538/1190 [01:18<01:36,  6.76it/s]"
     ]
    },
    {
     "name": "stderr",
     "output_type": "stream",
     "text": [
      "\r",
      " 45%|████▌     | 539/1190 [01:18<01:34,  6.87it/s]"
     ]
    },
    {
     "name": "stderr",
     "output_type": "stream",
     "text": [
      "\r",
      " 45%|████▌     | 541/1190 [01:18<01:36,  6.72it/s]"
     ]
    },
    {
     "name": "stderr",
     "output_type": "stream",
     "text": [
      "\r",
      " 46%|████▌     | 542/1190 [01:19<02:03,  5.23it/s]"
     ]
    },
    {
     "name": "stderr",
     "output_type": "stream",
     "text": [
      "\r",
      " 46%|████▌     | 543/1190 [01:19<02:18,  4.67it/s]"
     ]
    },
    {
     "name": "stderr",
     "output_type": "stream",
     "text": [
      "\r",
      " 46%|████▌     | 545/1190 [01:19<02:14,  4.81it/s]"
     ]
    },
    {
     "name": "stderr",
     "output_type": "stream",
     "text": [
      "\r",
      " 46%|████▌     | 547/1190 [01:20<01:44,  6.18it/s]"
     ]
    },
    {
     "name": "stderr",
     "output_type": "stream",
     "text": [
      "\r",
      " 46%|████▌     | 549/1190 [01:20<01:43,  6.16it/s]"
     ]
    },
    {
     "name": "stderr",
     "output_type": "stream",
     "text": [
      "\r",
      " 46%|████▌     | 550/1190 [01:20<01:36,  6.62it/s]"
     ]
    },
    {
     "name": "stderr",
     "output_type": "stream",
     "text": [
      "\r",
      " 46%|████▋     | 553/1190 [01:20<01:16,  8.35it/s]"
     ]
    },
    {
     "name": "stderr",
     "output_type": "stream",
     "text": [
      "\r",
      " 47%|████▋     | 554/1190 [01:20<01:21,  7.79it/s]"
     ]
    },
    {
     "name": "stderr",
     "output_type": "stream",
     "text": [
      "\r",
      " 47%|████▋     | 555/1190 [01:20<01:20,  7.94it/s]"
     ]
    },
    {
     "name": "stderr",
     "output_type": "stream",
     "text": [
      "\r",
      " 47%|████▋     | 556/1190 [01:21<01:43,  6.15it/s]"
     ]
    },
    {
     "name": "stderr",
     "output_type": "stream",
     "text": [
      "\r",
      " 47%|████▋     | 559/1190 [01:21<01:09,  9.04it/s]"
     ]
    },
    {
     "name": "stderr",
     "output_type": "stream",
     "text": [
      "\r",
      " 47%|████▋     | 561/1190 [01:21<01:12,  8.65it/s]"
     ]
    },
    {
     "name": "stderr",
     "output_type": "stream",
     "text": [
      "\r",
      " 47%|████▋     | 562/1190 [01:22<01:54,  5.48it/s]"
     ]
    },
    {
     "name": "stderr",
     "output_type": "stream",
     "text": [
      "\r",
      " 47%|████▋     | 565/1190 [01:22<01:55,  5.43it/s]"
     ]
    },
    {
     "name": "stderr",
     "output_type": "stream",
     "text": [
      "\r",
      " 48%|████▊     | 566/1190 [01:22<01:48,  5.76it/s]"
     ]
    },
    {
     "name": "stderr",
     "output_type": "stream",
     "text": [
      "\r",
      " 48%|████▊     | 569/1190 [01:22<01:13,  8.45it/s]"
     ]
    },
    {
     "name": "stderr",
     "output_type": "stream",
     "text": [
      "\r",
      " 48%|████▊     | 571/1190 [01:23<01:22,  7.50it/s]"
     ]
    },
    {
     "name": "stderr",
     "output_type": "stream",
     "text": [
      "\r",
      " 48%|████▊     | 572/1190 [01:23<01:27,  7.04it/s]"
     ]
    },
    {
     "name": "stderr",
     "output_type": "stream",
     "text": [
      "\r",
      " 48%|████▊     | 574/1190 [01:23<01:13,  8.41it/s]"
     ]
    },
    {
     "name": "stderr",
     "output_type": "stream",
     "text": [
      "\r",
      " 48%|████▊     | 576/1190 [01:23<01:12,  8.45it/s]"
     ]
    },
    {
     "name": "stderr",
     "output_type": "stream",
     "text": [
      "\r",
      " 48%|████▊     | 577/1190 [01:24<01:22,  7.47it/s]"
     ]
    },
    {
     "name": "stderr",
     "output_type": "stream",
     "text": [
      "\r",
      " 49%|████▊     | 578/1190 [01:24<01:34,  6.45it/s]"
     ]
    },
    {
     "name": "stderr",
     "output_type": "stream",
     "text": [
      "\r",
      " 49%|████▊     | 579/1190 [01:24<01:28,  6.89it/s]"
     ]
    },
    {
     "name": "stderr",
     "output_type": "stream",
     "text": [
      "\r",
      " 49%|████▉     | 581/1190 [01:24<01:39,  6.14it/s]"
     ]
    },
    {
     "name": "stderr",
     "output_type": "stream",
     "text": [
      "\r",
      " 49%|████▉     | 583/1190 [01:24<01:18,  7.73it/s]"
     ]
    },
    {
     "name": "stderr",
     "output_type": "stream",
     "text": [
      "\r",
      " 49%|████▉     | 584/1190 [01:25<01:26,  7.03it/s]"
     ]
    },
    {
     "name": "stderr",
     "output_type": "stream",
     "text": [
      "\r",
      " 49%|████▉     | 585/1190 [01:25<01:22,  7.32it/s]"
     ]
    },
    {
     "name": "stderr",
     "output_type": "stream",
     "text": [
      "\r",
      " 49%|████▉     | 586/1190 [01:25<01:58,  5.08it/s]"
     ]
    },
    {
     "name": "stderr",
     "output_type": "stream",
     "text": [
      "\r",
      " 49%|████▉     | 587/1190 [01:25<01:58,  5.10it/s]"
     ]
    },
    {
     "name": "stderr",
     "output_type": "stream",
     "text": [
      "\r",
      " 49%|████▉     | 589/1190 [01:26<01:29,  6.68it/s]"
     ]
    },
    {
     "name": "stderr",
     "output_type": "stream",
     "text": [
      "\r",
      " 50%|████▉     | 590/1190 [01:26<01:27,  6.88it/s]"
     ]
    },
    {
     "name": "stderr",
     "output_type": "stream",
     "text": [
      "\r",
      " 50%|████▉     | 592/1190 [01:26<01:16,  7.82it/s]"
     ]
    },
    {
     "name": "stderr",
     "output_type": "stream",
     "text": [
      "\r",
      " 50%|████▉     | 593/1190 [01:26<01:20,  7.38it/s]"
     ]
    },
    {
     "name": "stderr",
     "output_type": "stream",
     "text": [
      "\r",
      " 50%|█████     | 595/1190 [01:26<01:09,  8.56it/s]"
     ]
    },
    {
     "name": "stderr",
     "output_type": "stream",
     "text": [
      "\r",
      " 50%|█████     | 596/1190 [01:26<01:14,  7.99it/s]"
     ]
    },
    {
     "name": "stderr",
     "output_type": "stream",
     "text": [
      "\r",
      " 50%|█████     | 597/1190 [01:27<01:24,  7.00it/s]"
     ]
    },
    {
     "name": "stderr",
     "output_type": "stream",
     "text": [
      "\r",
      " 50%|█████     | 598/1190 [01:27<01:51,  5.33it/s]"
     ]
    },
    {
     "name": "stderr",
     "output_type": "stream",
     "text": [
      "\r",
      " 50%|█████     | 600/1190 [01:27<01:31,  6.44it/s]"
     ]
    },
    {
     "name": "stderr",
     "output_type": "stream",
     "text": [
      "\r",
      " 51%|█████     | 603/1190 [01:27<01:13,  8.02it/s]"
     ]
    },
    {
     "name": "stderr",
     "output_type": "stream",
     "text": [
      "\r",
      " 51%|█████     | 605/1190 [01:28<01:10,  8.30it/s]"
     ]
    },
    {
     "name": "stderr",
     "output_type": "stream",
     "text": [
      "\r",
      " 51%|█████     | 606/1190 [01:28<01:20,  7.29it/s]"
     ]
    },
    {
     "name": "stderr",
     "output_type": "stream",
     "text": [
      "\r",
      " 51%|█████     | 607/1190 [01:28<01:20,  7.28it/s]"
     ]
    },
    {
     "name": "stderr",
     "output_type": "stream",
     "text": [
      "\r",
      " 51%|█████     | 608/1190 [01:28<01:21,  7.17it/s]"
     ]
    },
    {
     "name": "stderr",
     "output_type": "stream",
     "text": [
      "\r",
      " 51%|█████     | 609/1190 [01:28<01:23,  6.93it/s]"
     ]
    },
    {
     "name": "stderr",
     "output_type": "stream",
     "text": [
      "\r",
      " 51%|█████▏    | 610/1190 [01:28<01:31,  6.31it/s]"
     ]
    },
    {
     "name": "stderr",
     "output_type": "stream",
     "text": [
      "\r",
      " 51%|█████▏    | 611/1190 [01:29<01:24,  6.84it/s]"
     ]
    },
    {
     "name": "stderr",
     "output_type": "stream",
     "text": [
      "\r",
      " 51%|█████▏    | 612/1190 [01:29<01:18,  7.33it/s]"
     ]
    },
    {
     "name": "stderr",
     "output_type": "stream",
     "text": [
      "\r",
      " 52%|█████▏    | 614/1190 [01:29<01:14,  7.76it/s]"
     ]
    },
    {
     "name": "stderr",
     "output_type": "stream",
     "text": [
      "\r",
      " 52%|█████▏    | 615/1190 [01:29<01:18,  7.36it/s]"
     ]
    },
    {
     "name": "stderr",
     "output_type": "stream",
     "text": [
      "\r",
      " 52%|█████▏    | 617/1190 [01:29<01:24,  6.80it/s]"
     ]
    },
    {
     "name": "stderr",
     "output_type": "stream",
     "text": [
      "\r",
      " 52%|█████▏    | 619/1190 [01:30<01:08,  8.34it/s]"
     ]
    },
    {
     "name": "stderr",
     "output_type": "stream",
     "text": [
      "\r",
      " 52%|█████▏    | 621/1190 [01:30<01:12,  7.88it/s]"
     ]
    },
    {
     "name": "stderr",
     "output_type": "stream",
     "text": [
      "\r",
      " 52%|█████▏    | 622/1190 [01:30<01:34,  6.01it/s]"
     ]
    },
    {
     "name": "stderr",
     "output_type": "stream",
     "text": [
      "\r",
      " 53%|█████▎    | 625/1190 [01:30<01:11,  7.86it/s]"
     ]
    },
    {
     "name": "stderr",
     "output_type": "stream",
     "text": [
      "\r",
      " 53%|█████▎    | 626/1190 [01:31<01:17,  7.32it/s]"
     ]
    },
    {
     "name": "stderr",
     "output_type": "stream",
     "text": [
      "\r",
      " 53%|█████▎    | 627/1190 [01:31<01:45,  5.33it/s]"
     ]
    },
    {
     "name": "stderr",
     "output_type": "stream",
     "text": [
      "\r",
      " 53%|█████▎    | 628/1190 [01:31<01:46,  5.28it/s]"
     ]
    },
    {
     "name": "stderr",
     "output_type": "stream",
     "text": [
      "\r",
      " 53%|█████▎    | 629/1190 [01:31<02:00,  4.67it/s]"
     ]
    },
    {
     "name": "stderr",
     "output_type": "stream",
     "text": [
      "\r",
      " 53%|█████▎    | 630/1190 [01:32<01:47,  5.19it/s]"
     ]
    },
    {
     "name": "stderr",
     "output_type": "stream",
     "text": [
      "\r",
      " 53%|█████▎    | 633/1190 [01:32<01:03,  8.80it/s]"
     ]
    },
    {
     "name": "stderr",
     "output_type": "stream",
     "text": [
      "\r",
      " 53%|█████▎    | 635/1190 [01:32<01:25,  6.46it/s]"
     ]
    },
    {
     "name": "stderr",
     "output_type": "stream",
     "text": [
      "\r",
      " 54%|█████▎    | 637/1190 [01:32<01:07,  8.18it/s]"
     ]
    },
    {
     "name": "stderr",
     "output_type": "stream",
     "text": [
      "\r",
      " 54%|█████▎    | 639/1190 [01:33<01:22,  6.69it/s]"
     ]
    },
    {
     "name": "stderr",
     "output_type": "stream",
     "text": [
      "\r",
      " 54%|█████▍    | 641/1190 [01:33<01:24,  6.46it/s]"
     ]
    },
    {
     "name": "stderr",
     "output_type": "stream",
     "text": [
      "\r",
      " 54%|█████▍    | 643/1190 [01:33<01:16,  7.13it/s]"
     ]
    },
    {
     "name": "stderr",
     "output_type": "stream",
     "text": [
      "\r",
      " 54%|█████▍    | 645/1190 [01:34<01:17,  7.06it/s]"
     ]
    },
    {
     "name": "stderr",
     "output_type": "stream",
     "text": [
      "\r",
      " 54%|█████▍    | 647/1190 [01:34<01:09,  7.82it/s]"
     ]
    },
    {
     "name": "stderr",
     "output_type": "stream",
     "text": [
      "\r",
      " 54%|█████▍    | 648/1190 [01:34<01:15,  7.22it/s]"
     ]
    },
    {
     "name": "stderr",
     "output_type": "stream",
     "text": [
      "\r",
      " 55%|█████▍    | 650/1190 [01:34<01:21,  6.63it/s]"
     ]
    },
    {
     "name": "stderr",
     "output_type": "stream",
     "text": [
      "\r",
      " 55%|█████▍    | 652/1190 [01:34<01:08,  7.89it/s]"
     ]
    },
    {
     "name": "stderr",
     "output_type": "stream",
     "text": [
      "\r",
      " 55%|█████▍    | 653/1190 [01:35<01:18,  6.87it/s]"
     ]
    },
    {
     "name": "stderr",
     "output_type": "stream",
     "text": [
      "\r",
      " 55%|█████▍    | 654/1190 [01:35<01:40,  5.32it/s]"
     ]
    },
    {
     "name": "stderr",
     "output_type": "stream",
     "text": [
      "\r",
      " 55%|█████▌    | 655/1190 [01:35<01:49,  4.90it/s]"
     ]
    },
    {
     "name": "stderr",
     "output_type": "stream",
     "text": [
      "\r",
      " 55%|█████▌    | 657/1190 [01:35<01:23,  6.37it/s]"
     ]
    },
    {
     "name": "stderr",
     "output_type": "stream",
     "text": [
      "\r",
      " 55%|█████▌    | 660/1190 [01:36<00:54,  9.64it/s]"
     ]
    },
    {
     "name": "stderr",
     "output_type": "stream",
     "text": [
      "\r",
      " 56%|█████▌    | 662/1190 [01:36<00:58,  8.98it/s]"
     ]
    },
    {
     "name": "stderr",
     "output_type": "stream",
     "text": [
      "\r",
      " 56%|█████▌    | 664/1190 [01:36<00:57,  9.19it/s]"
     ]
    },
    {
     "name": "stderr",
     "output_type": "stream",
     "text": [
      "\r",
      " 56%|█████▌    | 666/1190 [01:36<01:09,  7.58it/s]"
     ]
    },
    {
     "name": "stderr",
     "output_type": "stream",
     "text": [
      "\r",
      " 56%|█████▌    | 668/1190 [01:37<01:08,  7.61it/s]"
     ]
    },
    {
     "name": "stderr",
     "output_type": "stream",
     "text": [
      "\r",
      " 56%|█████▌    | 669/1190 [01:37<01:21,  6.42it/s]"
     ]
    },
    {
     "name": "stderr",
     "output_type": "stream",
     "text": [
      "\r",
      " 56%|█████▋    | 671/1190 [01:37<01:11,  7.23it/s]"
     ]
    },
    {
     "name": "stderr",
     "output_type": "stream",
     "text": [
      "\r",
      " 57%|█████▋    | 673/1190 [01:37<01:03,  8.20it/s]"
     ]
    },
    {
     "name": "stderr",
     "output_type": "stream",
     "text": [
      "\r",
      " 57%|█████▋    | 674/1190 [01:38<01:12,  7.09it/s]"
     ]
    },
    {
     "name": "stderr",
     "output_type": "stream",
     "text": [
      "\r",
      " 57%|█████▋    | 675/1190 [01:38<01:09,  7.46it/s]"
     ]
    },
    {
     "name": "stderr",
     "output_type": "stream",
     "text": [
      "\r",
      " 57%|█████▋    | 676/1190 [01:38<01:25,  6.04it/s]"
     ]
    },
    {
     "name": "stderr",
     "output_type": "stream",
     "text": [
      "\r",
      " 57%|█████▋    | 677/1190 [01:38<01:32,  5.52it/s]"
     ]
    },
    {
     "name": "stderr",
     "output_type": "stream",
     "text": [
      "\r",
      " 57%|█████▋    | 678/1190 [01:38<01:39,  5.15it/s]"
     ]
    },
    {
     "name": "stderr",
     "output_type": "stream",
     "text": [
      "\r",
      " 57%|█████▋    | 681/1190 [01:39<01:31,  5.59it/s]"
     ]
    },
    {
     "name": "stderr",
     "output_type": "stream",
     "text": [
      "\r",
      " 57%|█████▋    | 683/1190 [01:39<01:27,  5.81it/s]"
     ]
    },
    {
     "name": "stderr",
     "output_type": "stream",
     "text": [
      "\r",
      " 57%|█████▋    | 684/1190 [01:39<01:22,  6.10it/s]"
     ]
    },
    {
     "name": "stderr",
     "output_type": "stream",
     "text": [
      "\r",
      " 58%|█████▊    | 686/1190 [01:39<01:08,  7.31it/s]"
     ]
    },
    {
     "name": "stderr",
     "output_type": "stream",
     "text": [
      "\r",
      " 58%|█████▊    | 687/1190 [01:40<01:15,  6.65it/s]"
     ]
    },
    {
     "name": "stderr",
     "output_type": "stream",
     "text": [
      "\r",
      " 58%|█████▊    | 690/1190 [01:40<00:50,  9.91it/s]"
     ]
    },
    {
     "name": "stderr",
     "output_type": "stream",
     "text": [
      "\r",
      " 58%|█████▊    | 692/1190 [01:40<00:53,  9.28it/s]"
     ]
    },
    {
     "name": "stderr",
     "output_type": "stream",
     "text": [
      "\r",
      " 58%|█████▊    | 694/1190 [01:40<00:54,  9.16it/s]"
     ]
    },
    {
     "name": "stderr",
     "output_type": "stream",
     "text": [
      "\r",
      " 58%|█████▊    | 696/1190 [01:41<00:57,  8.63it/s]"
     ]
    },
    {
     "name": "stderr",
     "output_type": "stream",
     "text": [
      "\r",
      " 59%|█████▊    | 697/1190 [01:41<01:15,  6.50it/s]"
     ]
    },
    {
     "name": "stderr",
     "output_type": "stream",
     "text": [
      "\r",
      " 59%|█████▊    | 698/1190 [01:41<01:38,  4.99it/s]"
     ]
    },
    {
     "name": "stderr",
     "output_type": "stream",
     "text": [
      "\r",
      " 59%|█████▊    | 699/1190 [01:41<01:34,  5.19it/s]"
     ]
    },
    {
     "name": "stderr",
     "output_type": "stream",
     "text": [
      "\r",
      " 59%|█████▉    | 701/1190 [01:42<01:09,  7.02it/s]"
     ]
    },
    {
     "name": "stderr",
     "output_type": "stream",
     "text": [
      "\r",
      " 59%|█████▉    | 703/1190 [01:42<01:06,  7.32it/s]"
     ]
    },
    {
     "name": "stderr",
     "output_type": "stream",
     "text": [
      "\r",
      " 59%|█████▉    | 705/1190 [01:42<01:11,  6.82it/s]"
     ]
    },
    {
     "name": "stderr",
     "output_type": "stream",
     "text": [
      "\r",
      " 59%|█████▉    | 707/1190 [01:42<01:13,  6.56it/s]"
     ]
    },
    {
     "name": "stderr",
     "output_type": "stream",
     "text": [
      "\r",
      " 59%|█████▉    | 708/1190 [01:43<01:13,  6.53it/s]"
     ]
    },
    {
     "name": "stderr",
     "output_type": "stream",
     "text": [
      "\r",
      " 60%|█████▉    | 709/1190 [01:43<01:23,  5.73it/s]"
     ]
    },
    {
     "name": "stderr",
     "output_type": "stream",
     "text": [
      "\r",
      " 60%|█████▉    | 711/1190 [01:43<01:21,  5.85it/s]"
     ]
    },
    {
     "name": "stderr",
     "output_type": "stream",
     "text": [
      "\r",
      " 60%|█████▉    | 713/1190 [01:43<01:03,  7.46it/s]"
     ]
    },
    {
     "name": "stderr",
     "output_type": "stream",
     "text": [
      "\r",
      " 60%|██████    | 715/1190 [01:44<01:07,  7.00it/s]"
     ]
    },
    {
     "name": "stderr",
     "output_type": "stream",
     "text": [
      "\r",
      " 60%|██████    | 716/1190 [01:44<01:12,  6.55it/s]"
     ]
    },
    {
     "name": "stderr",
     "output_type": "stream",
     "text": [
      "\r",
      " 60%|██████    | 717/1190 [01:44<01:14,  6.38it/s]"
     ]
    },
    {
     "name": "stderr",
     "output_type": "stream",
     "text": [
      "\r",
      " 60%|██████    | 719/1190 [01:44<01:07,  6.93it/s]"
     ]
    },
    {
     "name": "stderr",
     "output_type": "stream",
     "text": [
      "\r",
      " 61%|██████    | 721/1190 [01:44<00:55,  8.43it/s]"
     ]
    },
    {
     "name": "stderr",
     "output_type": "stream",
     "text": [
      "\r",
      " 61%|██████    | 722/1190 [01:45<00:58,  7.97it/s]"
     ]
    },
    {
     "name": "stderr",
     "output_type": "stream",
     "text": [
      "\r",
      " 61%|██████    | 723/1190 [01:45<01:19,  5.89it/s]"
     ]
    },
    {
     "name": "stderr",
     "output_type": "stream",
     "text": [
      "\r",
      " 61%|██████    | 725/1190 [01:45<01:02,  7.43it/s]"
     ]
    },
    {
     "name": "stderr",
     "output_type": "stream",
     "text": [
      "\r",
      " 61%|██████    | 726/1190 [01:45<01:01,  7.52it/s]"
     ]
    },
    {
     "name": "stderr",
     "output_type": "stream",
     "text": [
      "\r",
      " 61%|██████    | 727/1190 [01:45<01:07,  6.90it/s]"
     ]
    },
    {
     "name": "stderr",
     "output_type": "stream",
     "text": [
      "\r",
      " 61%|██████    | 728/1190 [01:45<01:02,  7.44it/s]"
     ]
    },
    {
     "name": "stderr",
     "output_type": "stream",
     "text": [
      "\r",
      " 61%|██████▏   | 730/1190 [01:46<00:50,  9.04it/s]"
     ]
    },
    {
     "name": "stderr",
     "output_type": "stream",
     "text": [
      "\r",
      " 61%|██████▏   | 731/1190 [01:46<00:56,  8.09it/s]"
     ]
    },
    {
     "name": "stderr",
     "output_type": "stream",
     "text": [
      "\r",
      " 62%|██████▏   | 732/1190 [01:46<00:55,  8.29it/s]"
     ]
    },
    {
     "name": "stderr",
     "output_type": "stream",
     "text": [
      "\r",
      " 62%|██████▏   | 733/1190 [01:46<01:15,  6.05it/s]"
     ]
    },
    {
     "name": "stderr",
     "output_type": "stream",
     "text": [
      "\r",
      " 62%|██████▏   | 735/1190 [01:46<00:58,  7.73it/s]"
     ]
    },
    {
     "name": "stderr",
     "output_type": "stream",
     "text": [
      "\r",
      " 62%|██████▏   | 736/1190 [01:46<00:56,  7.99it/s]"
     ]
    },
    {
     "name": "stderr",
     "output_type": "stream",
     "text": [
      "\r",
      " 62%|██████▏   | 737/1190 [01:47<01:01,  7.32it/s]"
     ]
    },
    {
     "name": "stderr",
     "output_type": "stream",
     "text": [
      "\r",
      " 62%|██████▏   | 738/1190 [01:47<01:27,  5.14it/s]"
     ]
    },
    {
     "name": "stderr",
     "output_type": "stream",
     "text": [
      "\r",
      " 62%|██████▏   | 739/1190 [01:47<01:19,  5.68it/s]"
     ]
    },
    {
     "name": "stderr",
     "output_type": "stream",
     "text": [
      "\r",
      " 62%|██████▏   | 740/1190 [01:47<01:29,  5.00it/s]"
     ]
    },
    {
     "name": "stdout",
     "output_type": "stream",
     "text": [
      "create\n",
      "Munch({'field_1809': 'GM1942-2021-01', 'field_1810': '2021-01', 'field_1815': 'GM1942', 'field_1811': '2021-01-d 00:00', 'field_1812': 7, 'field_1824': 113.0, 'field_1826': 21.0, 'field_1832': 3.0, 'field_1834': 1.0, 'field_1828': 5.0, 'field_1830': 0.0, 'field_1836': 'Gooise Meren', 'field_1816': 58466, 'field_1818': 'GGD Gooi en Vechtstreek', 'field_1819': 'Gooi en Vechtstreek', 'field_1817': 'Noord-Holland', 'field_1820': 'West-Nederland', 'field_1821': 'Noord', 'field_1813': 'Gemeente', 'field_1837': '5f0dfbfb80347906bdc450a6', 'field_1823': 1018697.0, 'field_1825': 1018584.0, 'field_1831': 14656.0, 'field_1833': 14653.0, 'field_1827': 43423.0, 'field_1829': 43418.0, 'field_1835': 'ca2779d3339527ebe5f64d663132c35d57089fbcd3e65aeeee014478df46217e'})\n"
     ]
    },
    {
     "ename": "ClientResponseError",
     "evalue": "429, message='Too Many Requests', url=URL('https://api.knack.com/v1/objects/object_60/records')",
     "output_type": "error",
     "traceback": [
      "\u001b[0;31m---------------------------------------------------------------------------\u001b[0m",
      "\u001b[0;31mClientResponseError\u001b[0m                       Traceback (most recent call last)",
      "\u001b[0;32m<ipython-input-7-813d518d4cad>\u001b[0m in \u001b[0;36m<module>\u001b[0;34m\u001b[0m\n\u001b[0;32m----> 1\u001b[0;31m \u001b[0;32mawait\u001b[0m \u001b[0mpublish\u001b[0m\u001b[0;34m(\u001b[0m\u001b[0mregioposten\u001b[0m\u001b[0;34m,\u001b[0m \u001b[0;34m'Regioposten'\u001b[0m\u001b[0;34m)\u001b[0m\u001b[0;34m\u001b[0m\u001b[0;34m\u001b[0m\u001b[0m\n\u001b[0m",
      "\u001b[0;32m<ipython-input-1-c96c703d1e68>\u001b[0m in \u001b[0;36mpublish\u001b[0;34m(df, objectName)\u001b[0m\n\u001b[1;32m     66\u001b[0m   \u001b[0;32mif\u001b[0m \u001b[0mknack\u001b[0m\u001b[0;34m:\u001b[0m\u001b[0;34m\u001b[0m\u001b[0;34m\u001b[0m\u001b[0m\n\u001b[1;32m     67\u001b[0m     \u001b[0mprint\u001b[0m\u001b[0;34m(\u001b[0m\u001b[0;34m'updating knack'\u001b[0m\u001b[0;34m)\u001b[0m\u001b[0;34m\u001b[0m\u001b[0;34m\u001b[0m\u001b[0m\n\u001b[0;32m---> 68\u001b[0;31m     \u001b[0;32mawait\u001b[0m \u001b[0mknack\u001b[0m\u001b[0;34m.\u001b[0m\u001b[0mupdate\u001b[0m\u001b[0;34m(\u001b[0m\u001b[0mobjectName\u001b[0m\u001b[0;34m=\u001b[0m\u001b[0mobjectName\u001b[0m\u001b[0;34m,\u001b[0m \u001b[0mdf\u001b[0m\u001b[0;34m=\u001b[0m\u001b[0mdf\u001b[0m\u001b[0;34m,\u001b[0m \u001b[0mslack\u001b[0m\u001b[0;34m=\u001b[0m\u001b[0mMunch\u001b[0m\u001b[0;34m(\u001b[0m\u001b[0mmsg\u001b[0m\u001b[0;34m=\u001b[0m\u001b[0;34m'\\n'\u001b[0m\u001b[0;34m.\u001b[0m\u001b[0mjoin\u001b[0m\u001b[0;34m(\u001b[0m\u001b[0mCache\u001b[0m\u001b[0;34m.\u001b[0m\u001b[0mactions\u001b[0m\u001b[0;34m)\u001b[0m\u001b[0;34m,\u001b[0m \u001b[0memoji\u001b[0m\u001b[0;34m=\u001b[0m\u001b[0;32mNone\u001b[0m\u001b[0;34m)\u001b[0m\u001b[0;34m)\u001b[0m\u001b[0;34m\u001b[0m\u001b[0;34m\u001b[0m\u001b[0m\n\u001b[0m\u001b[1;32m     69\u001b[0m     \u001b[0;32mawait\u001b[0m \u001b[0mknack\u001b[0m\u001b[0;34m.\u001b[0m\u001b[0mtimestamps\u001b[0m\u001b[0;34m(\u001b[0m\u001b[0mobjectName\u001b[0m\u001b[0;34m,\u001b[0m \u001b[0mCache\u001b[0m\u001b[0;34m.\u001b[0m\u001b[0mtimestamps\u001b[0m\u001b[0;34m)\u001b[0m\u001b[0;34m\u001b[0m\u001b[0;34m\u001b[0m\u001b[0m\n",
      "\u001b[0;32m~/work/corona-locator-nederland/corona-locator-nederland/knack.py\u001b[0m in \u001b[0;36mupdate\u001b[0;34m(self, sceneName, viewName, objectName, df, force, rate_limit, slack)\u001b[0m\n\u001b[1;32m    255\u001b[0m         \u001b[0mself\u001b[0m\u001b[0;34m.\u001b[0m\u001b[0mslack\u001b[0m\u001b[0;34m(\u001b[0m\u001b[0mslack\u001b[0m\u001b[0;34m.\u001b[0m\u001b[0mmsg\u001b[0m \u001b[0;34m+\u001b[0m \u001b[0;34m'nothing to do'\u001b[0m\u001b[0;34m,\u001b[0m \u001b[0memoji\u001b[0m\u001b[0;34m=\u001b[0m\u001b[0;34m':sleeping:'\u001b[0m\u001b[0;34m)\u001b[0m\u001b[0;34m\u001b[0m\u001b[0;34m\u001b[0m\u001b[0m\n\u001b[1;32m    256\u001b[0m       \u001b[0;32melse\u001b[0m\u001b[0;34m:\u001b[0m\u001b[0;34m\u001b[0m\u001b[0;34m\u001b[0m\u001b[0m\n\u001b[0;32m--> 257\u001b[0;31m         \u001b[0mresponses\u001b[0m \u001b[0;34m=\u001b[0m \u001b[0;34m[\u001b[0m\u001b[0;32mawait\u001b[0m \u001b[0mreq\u001b[0m \u001b[0;32mfor\u001b[0m \u001b[0mreq\u001b[0m \u001b[0;32min\u001b[0m \u001b[0mtqdm\u001b[0m\u001b[0;34m.\u001b[0m\u001b[0mtqdm\u001b[0m\u001b[0;34m(\u001b[0m\u001b[0masyncio\u001b[0m\u001b[0;34m.\u001b[0m\u001b[0mas_completed\u001b[0m\u001b[0;34m(\u001b[0m\u001b[0mtasks\u001b[0m\u001b[0;34m)\u001b[0m\u001b[0;34m,\u001b[0m \u001b[0mtotal\u001b[0m\u001b[0;34m=\u001b[0m\u001b[0mlen\u001b[0m\u001b[0;34m(\u001b[0m\u001b[0mtasks\u001b[0m\u001b[0;34m)\u001b[0m\u001b[0;34m)\u001b[0m\u001b[0;34m]\u001b[0m\u001b[0;34m\u001b[0m\u001b[0;34m\u001b[0m\u001b[0m\n\u001b[0m\u001b[1;32m    258\u001b[0m         \u001b[0;32mif\u001b[0m \u001b[0mhashing\u001b[0m\u001b[0;34m:\u001b[0m\u001b[0;34m\u001b[0m\u001b[0;34m\u001b[0m\u001b[0m\n\u001b[1;32m    259\u001b[0m           \u001b[0mslack\u001b[0m\u001b[0;34m.\u001b[0m\u001b[0memoji\u001b[0m \u001b[0;34m=\u001b[0m \u001b[0mslack\u001b[0m\u001b[0;34m.\u001b[0m\u001b[0memoji\u001b[0m \u001b[0;32mor\u001b[0m \u001b[0;34m':white_check_mark:'\u001b[0m\u001b[0;34m\u001b[0m\u001b[0;34m\u001b[0m\u001b[0m\n",
      "\u001b[0;32m~/work/corona-locator-nederland/corona-locator-nederland/knack.py\u001b[0m in \u001b[0;36m<listcomp>\u001b[0;34m(.0)\u001b[0m\n\u001b[1;32m    255\u001b[0m         \u001b[0mself\u001b[0m\u001b[0;34m.\u001b[0m\u001b[0mslack\u001b[0m\u001b[0;34m(\u001b[0m\u001b[0mslack\u001b[0m\u001b[0;34m.\u001b[0m\u001b[0mmsg\u001b[0m \u001b[0;34m+\u001b[0m \u001b[0;34m'nothing to do'\u001b[0m\u001b[0;34m,\u001b[0m \u001b[0memoji\u001b[0m\u001b[0;34m=\u001b[0m\u001b[0;34m':sleeping:'\u001b[0m\u001b[0;34m)\u001b[0m\u001b[0;34m\u001b[0m\u001b[0;34m\u001b[0m\u001b[0m\n\u001b[1;32m    256\u001b[0m       \u001b[0;32melse\u001b[0m\u001b[0;34m:\u001b[0m\u001b[0;34m\u001b[0m\u001b[0;34m\u001b[0m\u001b[0m\n\u001b[0;32m--> 257\u001b[0;31m         \u001b[0mresponses\u001b[0m \u001b[0;34m=\u001b[0m \u001b[0;34m[\u001b[0m\u001b[0;32mawait\u001b[0m \u001b[0mreq\u001b[0m \u001b[0;32mfor\u001b[0m \u001b[0mreq\u001b[0m \u001b[0;32min\u001b[0m \u001b[0mtqdm\u001b[0m\u001b[0;34m.\u001b[0m\u001b[0mtqdm\u001b[0m\u001b[0;34m(\u001b[0m\u001b[0masyncio\u001b[0m\u001b[0;34m.\u001b[0m\u001b[0mas_completed\u001b[0m\u001b[0;34m(\u001b[0m\u001b[0mtasks\u001b[0m\u001b[0;34m)\u001b[0m\u001b[0;34m,\u001b[0m \u001b[0mtotal\u001b[0m\u001b[0;34m=\u001b[0m\u001b[0mlen\u001b[0m\u001b[0;34m(\u001b[0m\u001b[0mtasks\u001b[0m\u001b[0;34m)\u001b[0m\u001b[0;34m)\u001b[0m\u001b[0;34m]\u001b[0m\u001b[0;34m\u001b[0m\u001b[0;34m\u001b[0m\u001b[0m\n\u001b[0m\u001b[1;32m    258\u001b[0m         \u001b[0;32mif\u001b[0m \u001b[0mhashing\u001b[0m\u001b[0;34m:\u001b[0m\u001b[0;34m\u001b[0m\u001b[0;34m\u001b[0m\u001b[0m\n\u001b[1;32m    259\u001b[0m           \u001b[0mslack\u001b[0m\u001b[0;34m.\u001b[0m\u001b[0memoji\u001b[0m \u001b[0;34m=\u001b[0m \u001b[0mslack\u001b[0m\u001b[0;34m.\u001b[0m\u001b[0memoji\u001b[0m \u001b[0;32mor\u001b[0m \u001b[0;34m':white_check_mark:'\u001b[0m\u001b[0;34m\u001b[0m\u001b[0;34m\u001b[0m\u001b[0m\n",
      "\u001b[0;32m/opt/hostedtoolcache/Python/3.9.1/x64/lib/python3.9/asyncio/tasks.py\u001b[0m in \u001b[0;36m_wait_for_one\u001b[0;34m()\u001b[0m\n\u001b[1;32m    609\u001b[0m             \u001b[0;31m# Dummy value from _on_timeout().\u001b[0m\u001b[0;34m\u001b[0m\u001b[0;34m\u001b[0m\u001b[0;34m\u001b[0m\u001b[0m\n\u001b[1;32m    610\u001b[0m             \u001b[0;32mraise\u001b[0m \u001b[0mexceptions\u001b[0m\u001b[0;34m.\u001b[0m\u001b[0mTimeoutError\u001b[0m\u001b[0;34m\u001b[0m\u001b[0;34m\u001b[0m\u001b[0m\n\u001b[0;32m--> 611\u001b[0;31m         \u001b[0;32mreturn\u001b[0m \u001b[0mf\u001b[0m\u001b[0;34m.\u001b[0m\u001b[0mresult\u001b[0m\u001b[0;34m(\u001b[0m\u001b[0;34m)\u001b[0m  \u001b[0;31m# May raise f.exception().\u001b[0m\u001b[0;34m\u001b[0m\u001b[0;34m\u001b[0m\u001b[0m\n\u001b[0m\u001b[1;32m    612\u001b[0m \u001b[0;34m\u001b[0m\u001b[0m\n\u001b[1;32m    613\u001b[0m     \u001b[0;32mfor\u001b[0m \u001b[0mf\u001b[0m \u001b[0;32min\u001b[0m \u001b[0mtodo\u001b[0m\u001b[0;34m:\u001b[0m\u001b[0;34m\u001b[0m\u001b[0;34m\u001b[0m\u001b[0m\n",
      "\u001b[0;32m/opt/hostedtoolcache/Python/3.9.1/x64/lib/python3.9/site-packages/backoff/_async.py\u001b[0m in \u001b[0;36mretry\u001b[0;34m(*args, **kwargs)\u001b[0m\n\u001b[1;32m    131\u001b[0m \u001b[0;34m\u001b[0m\u001b[0m\n\u001b[1;32m    132\u001b[0m             \u001b[0;32mtry\u001b[0m\u001b[0;34m:\u001b[0m\u001b[0;34m\u001b[0m\u001b[0;34m\u001b[0m\u001b[0m\n\u001b[0;32m--> 133\u001b[0;31m                 \u001b[0mret\u001b[0m \u001b[0;34m=\u001b[0m \u001b[0;32mawait\u001b[0m \u001b[0mtarget\u001b[0m\u001b[0;34m(\u001b[0m\u001b[0;34m*\u001b[0m\u001b[0margs\u001b[0m\u001b[0;34m,\u001b[0m \u001b[0;34m**\u001b[0m\u001b[0mkwargs\u001b[0m\u001b[0;34m)\u001b[0m\u001b[0;34m\u001b[0m\u001b[0;34m\u001b[0m\u001b[0m\n\u001b[0m\u001b[1;32m    134\u001b[0m             \u001b[0;32mexcept\u001b[0m \u001b[0mexception\u001b[0m \u001b[0;32mas\u001b[0m \u001b[0me\u001b[0m\u001b[0;34m:\u001b[0m\u001b[0;34m\u001b[0m\u001b[0;34m\u001b[0m\u001b[0m\n\u001b[1;32m    135\u001b[0m                 \u001b[0mgiveup_result\u001b[0m \u001b[0;34m=\u001b[0m \u001b[0;32mawait\u001b[0m \u001b[0mgiveup\u001b[0m\u001b[0;34m(\u001b[0m\u001b[0me\u001b[0m\u001b[0;34m)\u001b[0m\u001b[0;34m\u001b[0m\u001b[0;34m\u001b[0m\u001b[0m\n",
      "\u001b[0;32m~/work/corona-locator-nederland/corona-locator-nederland/knack.py\u001b[0m in \u001b[0;36mexecute\u001b[0;34m(self, task)\u001b[0m\n\u001b[1;32m    116\u001b[0m     \u001b[0;32masync\u001b[0m \u001b[0;32mwith\u001b[0m \u001b[0mself\u001b[0m\u001b[0;34m.\u001b[0m\u001b[0mlimiter\u001b[0m\u001b[0;34m:\u001b[0m\u001b[0;34m\u001b[0m\u001b[0;34m\u001b[0m\u001b[0m\n\u001b[1;32m    117\u001b[0m       \u001b[0;32mif\u001b[0m \u001b[0mtask\u001b[0m\u001b[0;34m.\u001b[0m\u001b[0maction\u001b[0m \u001b[0;34m==\u001b[0m \u001b[0;34m'create'\u001b[0m\u001b[0;34m:\u001b[0m\u001b[0;34m\u001b[0m\u001b[0;34m\u001b[0m\u001b[0m\n\u001b[0;32m--> 118\u001b[0;31m         \u001b[0;32masync\u001b[0m \u001b[0;32mwith\u001b[0m \u001b[0mself\u001b[0m\u001b[0;34m.\u001b[0m\u001b[0msession\u001b[0m\u001b[0;34m.\u001b[0m\u001b[0mpost\u001b[0m\u001b[0;34m(\u001b[0m\u001b[0;34mf'https://api.knack.com/v1/objects/{task.object_key}/records'\u001b[0m\u001b[0;34m,\u001b[0m \u001b[0mjson\u001b[0m\u001b[0;34m=\u001b[0m\u001b[0mtask\u001b[0m\u001b[0;34m.\u001b[0m\u001b[0mdata\u001b[0m\u001b[0;34m,\u001b[0m \u001b[0mheaders\u001b[0m\u001b[0;34m=\u001b[0m\u001b[0mself\u001b[0m\u001b[0;34m.\u001b[0m\u001b[0mheaders\u001b[0m\u001b[0;34m,\u001b[0m \u001b[0mraise_for_status\u001b[0m\u001b[0;34m=\u001b[0m\u001b[0;32mTrue\u001b[0m\u001b[0;34m)\u001b[0m \u001b[0;32mas\u001b[0m \u001b[0mresponse\u001b[0m\u001b[0;34m:\u001b[0m\u001b[0;34m\u001b[0m\u001b[0;34m\u001b[0m\u001b[0m\n\u001b[0m\u001b[1;32m    119\u001b[0m           \u001b[0;32mreturn\u001b[0m \u001b[0;32mawait\u001b[0m \u001b[0mresponse\u001b[0m\u001b[0;34m.\u001b[0m\u001b[0mread\u001b[0m\u001b[0;34m(\u001b[0m\u001b[0;34m)\u001b[0m\u001b[0;34m\u001b[0m\u001b[0;34m\u001b[0m\u001b[0m\n\u001b[1;32m    120\u001b[0m       \u001b[0;32melif\u001b[0m \u001b[0mtask\u001b[0m\u001b[0;34m.\u001b[0m\u001b[0maction\u001b[0m \u001b[0;34m==\u001b[0m \u001b[0;34m'update'\u001b[0m\u001b[0;34m:\u001b[0m\u001b[0;34m\u001b[0m\u001b[0;34m\u001b[0m\u001b[0m\n",
      "\u001b[0;32m/opt/hostedtoolcache/Python/3.9.1/x64/lib/python3.9/site-packages/aiohttp/client.py\u001b[0m in \u001b[0;36m__aenter__\u001b[0;34m(self)\u001b[0m\n\u001b[1;32m   1115\u001b[0m \u001b[0;34m\u001b[0m\u001b[0m\n\u001b[1;32m   1116\u001b[0m     \u001b[0;32masync\u001b[0m \u001b[0;32mdef\u001b[0m \u001b[0m__aenter__\u001b[0m\u001b[0;34m(\u001b[0m\u001b[0mself\u001b[0m\u001b[0;34m)\u001b[0m \u001b[0;34m->\u001b[0m \u001b[0m_RetType\u001b[0m\u001b[0;34m:\u001b[0m\u001b[0;34m\u001b[0m\u001b[0;34m\u001b[0m\u001b[0m\n\u001b[0;32m-> 1117\u001b[0;31m         \u001b[0mself\u001b[0m\u001b[0;34m.\u001b[0m\u001b[0m_resp\u001b[0m \u001b[0;34m=\u001b[0m \u001b[0;32mawait\u001b[0m \u001b[0mself\u001b[0m\u001b[0;34m.\u001b[0m\u001b[0m_coro\u001b[0m\u001b[0;34m\u001b[0m\u001b[0;34m\u001b[0m\u001b[0m\n\u001b[0m\u001b[1;32m   1118\u001b[0m         \u001b[0;32mreturn\u001b[0m \u001b[0mself\u001b[0m\u001b[0;34m.\u001b[0m\u001b[0m_resp\u001b[0m\u001b[0;34m\u001b[0m\u001b[0;34m\u001b[0m\u001b[0m\n\u001b[1;32m   1119\u001b[0m \u001b[0;34m\u001b[0m\u001b[0m\n",
      "\u001b[0;32m/opt/hostedtoolcache/Python/3.9.1/x64/lib/python3.9/site-packages/aiohttp/client.py\u001b[0m in \u001b[0;36m_request\u001b[0;34m(self, method, str_or_url, params, data, json, cookies, headers, skip_auto_headers, auth, allow_redirects, max_redirects, compress, chunked, expect100, raise_for_status, read_until_eof, proxy, proxy_auth, timeout, verify_ssl, fingerprint, ssl_context, ssl, proxy_headers, trace_request_ctx, read_bufsize)\u001b[0m\n\u001b[1;32m    623\u001b[0m                 \u001b[0mraise_for_status\u001b[0m \u001b[0;34m=\u001b[0m \u001b[0mself\u001b[0m\u001b[0;34m.\u001b[0m\u001b[0m_raise_for_status\u001b[0m\u001b[0;34m\u001b[0m\u001b[0;34m\u001b[0m\u001b[0m\n\u001b[1;32m    624\u001b[0m             \u001b[0;32mif\u001b[0m \u001b[0mraise_for_status\u001b[0m\u001b[0;34m:\u001b[0m\u001b[0;34m\u001b[0m\u001b[0;34m\u001b[0m\u001b[0m\n\u001b[0;32m--> 625\u001b[0;31m                 \u001b[0mresp\u001b[0m\u001b[0;34m.\u001b[0m\u001b[0mraise_for_status\u001b[0m\u001b[0;34m(\u001b[0m\u001b[0;34m)\u001b[0m\u001b[0;34m\u001b[0m\u001b[0;34m\u001b[0m\u001b[0m\n\u001b[0m\u001b[1;32m    626\u001b[0m \u001b[0;34m\u001b[0m\u001b[0m\n\u001b[1;32m    627\u001b[0m             \u001b[0;31m# register connection\u001b[0m\u001b[0;34m\u001b[0m\u001b[0;34m\u001b[0m\u001b[0;34m\u001b[0m\u001b[0m\n",
      "\u001b[0;32m/opt/hostedtoolcache/Python/3.9.1/x64/lib/python3.9/site-packages/aiohttp/client_reqrep.py\u001b[0m in \u001b[0;36mraise_for_status\u001b[0;34m(self)\u001b[0m\n\u001b[1;32m    998\u001b[0m             \u001b[0;32massert\u001b[0m \u001b[0mself\u001b[0m\u001b[0;34m.\u001b[0m\u001b[0mreason\u001b[0m \u001b[0;32mis\u001b[0m \u001b[0;32mnot\u001b[0m \u001b[0;32mNone\u001b[0m\u001b[0;34m\u001b[0m\u001b[0;34m\u001b[0m\u001b[0m\n\u001b[1;32m    999\u001b[0m             \u001b[0mself\u001b[0m\u001b[0;34m.\u001b[0m\u001b[0mrelease\u001b[0m\u001b[0;34m(\u001b[0m\u001b[0;34m)\u001b[0m\u001b[0;34m\u001b[0m\u001b[0;34m\u001b[0m\u001b[0m\n\u001b[0;32m-> 1000\u001b[0;31m             raise ClientResponseError(\n\u001b[0m\u001b[1;32m   1001\u001b[0m                 \u001b[0mself\u001b[0m\u001b[0;34m.\u001b[0m\u001b[0mrequest_info\u001b[0m\u001b[0;34m,\u001b[0m\u001b[0;34m\u001b[0m\u001b[0;34m\u001b[0m\u001b[0m\n\u001b[1;32m   1002\u001b[0m                 \u001b[0mself\u001b[0m\u001b[0;34m.\u001b[0m\u001b[0mhistory\u001b[0m\u001b[0;34m,\u001b[0m\u001b[0;34m\u001b[0m\u001b[0;34m\u001b[0m\u001b[0m\n",
      "\u001b[0;31mClientResponseError\u001b[0m: 429, message='Too Many Requests', url=URL('https://api.knack.com/v1/objects/object_60/records')"
     ]
    }
   ],
   "source": [
    "await publish(regioposten, 'Regioposten')"
   ]
  },
  {
   "cell_type": "code",
   "execution_count": null,
   "id": "printable-citizen",
   "metadata": {
    "papermill": {
     "duration": null,
     "end_time": null,
     "exception": null,
     "start_time": null,
     "status": "pending"
    },
    "tags": []
   },
   "outputs": [],
   "source": []
  }
 ],
 "metadata": {
  "jupytext": {
   "cell_metadata_filter": "title,-all"
  },
  "kernelspec": {
   "display_name": "Python 3",
   "language": "python",
   "name": "python3"
  },
  "language_info": {
   "codemirror_mode": {
    "name": "ipython",
    "version": 3
   },
   "file_extension": ".py",
   "mimetype": "text/x-python",
   "name": "python",
   "nbconvert_exporter": "python",
   "pygments_lexer": "ipython3",
   "version": "3.9.1"
  },
  "papermill": {
   "default_parameters": {},
   "duration": 269.292516,
   "end_time": "2021-02-23T18:32:48.553050",
   "environment_variables": {},
   "exception": true,
   "input_path": "-",
   "output_path": "RegioV2.ipynb",
   "parameters": {},
   "start_time": "2021-02-23T18:28:19.260534",
   "version": "2.3.2"
  }
 },
 "nbformat": 4,
 "nbformat_minor": 5
}