{
 "cells": [
  {
   "cell_type": "code",
   "execution_count": 1,
   "id": "equal-picking",
   "metadata": {
    "execution": {
     "iopub.execute_input": "2021-02-21T14:32:46.963978Z",
     "iopub.status.busy": "2021-02-21T14:32:46.953116Z",
     "iopub.status.idle": "2021-02-21T14:32:49.122950Z",
     "shell.execute_reply": "2021-02-21T14:32:49.122019Z"
    },
    "lines_to_next_cell": 1,
    "papermill": {
     "duration": 2.184774,
     "end_time": "2021-02-21T14:32:49.123098",
     "exception": false,
     "start_time": "2021-02-21T14:32:46.938324",
     "status": "completed"
    },
    "tags": []
   },
   "outputs": [],
   "source": [
    "from IPython import get_ipython\n",
    "from IPython.core.display import display\n",
    "get_ipython().run_line_magic('load_ext', 'autoreload')\n",
    "get_ipython().run_line_magic('autoreload', '2')\n",
    "get_ipython().run_line_magic('run', 'setup')\n",
    "\n",
    "# sorteert de kolommen alfabetisch, is makkelijker visueel te debuggen.\n",
    "def sortcolumns(df):\n",
    "  return df[sorted(df.columns)]"
   ]
  },
  {
   "cell_type": "code",
   "execution_count": 2,
   "id": "inner-ireland",
   "metadata": {
    "execution": {
     "iopub.execute_input": "2021-02-21T14:32:49.224066Z",
     "iopub.status.busy": "2021-02-21T14:32:49.223399Z",
     "iopub.status.idle": "2021-02-21T14:34:02.959724Z",
     "shell.execute_reply": "2021-02-21T14:34:02.958885Z"
    },
    "lines_to_next_cell": 1,
    "papermill": {
     "duration": 73.832399,
     "end_time": "2021-02-21T14:34:02.959872",
     "exception": false,
     "start_time": "2021-02-21T14:32:49.127473",
     "status": "completed"
    },
    "tags": [],
    "title": "regio: load regios en hun basisgegevens"
   },
   "outputs": [
    {
     "name": "stdout",
     "output_type": "stream",
     "text": [
      "downloading rivm/COVID-19_aantallen_gemeente_per_dag-2021-02-21@14-15.csv\n"
     ]
    },
    {
     "name": "stdout",
     "output_type": "stream",
     "text": [
      "rivm COVID-19_aantallen_gemeente_per_dag zipping rivm/COVID-19_aantallen_gemeente_per_dag-2021-02-21@14-15.csv\n"
     ]
    },
    {
     "name": "stdout",
     "output_type": "stream",
     "text": [
      "loading rivm/COVID-19_aantallen_gemeente_per_dag-2021-02-21@14-15.csv.gz\n"
     ]
    },
    {
     "name": "stdout",
     "output_type": "stream",
     "text": [
      "downloading rivm/COVID-19_ziekenhuisopnames-2021-02-21@14-15.csv\n"
     ]
    },
    {
     "name": "stdout",
     "output_type": "stream",
     "text": [
      "rivm COVID-19_ziekenhuisopnames zipping rivm/COVID-19_ziekenhuisopnames-2021-02-21@14-15.csv\n"
     ]
    },
    {
     "name": "stdout",
     "output_type": "stream",
     "text": [
      "loading rivm/COVID-19_ziekenhuisopnames-2021-02-21@14-15.csv.gz\n"
     ]
    },
    {
     "name": "stdout",
     "output_type": "stream",
     "text": [
      "loading rivm/COVID-19_ziekenhuisopnames-2021-02-20@14-15.csv.gz\n"
     ]
    },
    {
     "name": "stdout",
     "output_type": "stream",
     "text": [
      "rivm/COVID-19_casus_landelijk-2021-02-21@14-15.csv exists\n",
      "loading rivm/COVID-19_casus_landelijk-2021-02-21@14-15.csv.gz\n"
     ]
    },
    {
     "name": "stdout",
     "output_type": "stream",
     "text": [
      "loading rivm/COVID-19_casus_landelijk-2021-02-20@14-15.csv.gz\n"
     ]
    }
   ],
   "source": [
    "@run\n",
    "def cell():\n",
    "  global gemeenten\n",
    "  # rename de kolommen naar \"Naam\" + \"NaamCode\" voor makkelijker uniforme data bewerking\n",
    "  gemeenten = pd.read_csv('gemeenten.csv').rename(columns={\n",
    "    'Code': 'GemeenteCode',\n",
    "    'Naam': 'Gemeente',\n",
    "    'Veiligheidsregio Code': 'VeiligheidsregioCode',\n",
    "    'GGD regio': 'GGDregio',\n",
    "    'Landcode': 'LandCode',\n",
    "  })\n",
    "  # niet nodig want die voegen we vanzelf toe bij de per-type constructie van de cijfers\n",
    "  del gemeenten['Type']\n",
    "  \n",
    "  global leeftijdsgroepen\n",
    "  leeftijdsgroepen = pd.read_csv('leeftijdsgroepen.csv')\n",
    "  del leeftijdsgroepen['Type']\n",
    "  lgb = CBS.bevolking(leeftijdsgroepen=True).reset_index()\n",
    "  lgb['Code'] = 'LE' + lgb['Range'].replace({'0-9': '00-09'}).replace('-', '', regex=True).astype(str)\n",
    "  lgb = lgb.rename(columns={'BevolkingOpDeEersteVanDeMaand': 'Personen'})\n",
    "  leeftijdsgroepen = leeftijdsgroepen.merge(lgb[['Code', 'Personen']], how='left', on='Code')\n",
    "\n",
    "  global regiocodes\n",
    "  regiocodes = pd.read_csv('regiocodes.csv')\n",
    "  # sluit aan bij de uniforme naamgeving van hierboven\n",
    "  regiocodes = regiocodes.rename(columns={'Landcode': 'LandCode'})\n",
    "  regiocodes.loc[regiocodes.Type == 'GGD', 'Type'] = 'GGDregio'\n",
    "  \n",
    "  # voeg de regiocodes toe aan de gemeenten tabel voor makkelijker uniforme data bewerking\n",
    "  for regiotype in ['GGDregio', 'Provincie', 'Landsdeel', 'Schoolregio']:\n",
    "    gemeenten = gemeenten.merge(\n",
    "      regiocodes[regiocodes.Type == regiotype][['LandCode', 'Regio', 'Code']].rename(columns={'Code': regiotype + 'Code', 'Regio': regiotype}),\n",
    "      how='left',\n",
    "      on=[regiotype, 'LandCode'],\n",
    "    )\n",
    "  gemeenten = gemeenten.merge(\n",
    "    regiocodes[regiocodes.Type == 'Land'][['LandCode', 'Regio']].rename(columns={'Regio': 'Land'}),\n",
    "    how='left',\n",
    "    on='LandCode'\n",
    "  )\n",
    "\n",
    "  # lege regel voor GM0000\n",
    "  for regiotype, prefix in [('GGDregio', 'GG'), ('Veiligheidsregio', 'VR'), ('Provincie', 'PV'), ('Landsdeel', 'LD'), ('Schoolregio', 'SR')]:\n",
    "    gemeenten.loc[gemeenten.GemeenteCode == 'GM0000', regiotype] = ''\n",
    "    gemeenten.loc[gemeenten.GemeenteCode == 'GM0000', f'{regiotype}Code'] = f'{prefix}00'\n",
    "  gemeenten.loc[gemeenten.GemeenteCode == 'GM0000', 'LandCode'] = 'NL'\n",
    "  \n",
    "  base = 'https://opendata.cbs.nl/ODataApi/OData/37230ned'\n",
    "  \n",
    "  # voor perioden pak de laatste\n",
    "  periode = CBS.odata(base + '/Perioden').iloc[[-1]]['Key'].values[0]\n",
    "  \n",
    "  # startsWith would have been better to do in the filter but then the CBS \"odata-ish\" server responds with\n",
    "  # \"Object reference not set to an instance of an object.\"\n",
    "  bevolking = CBS.odata(base + f\"/TypedDataSet?$filter=(Perioden eq '{periode}')&$select=RegioS, BevolkingAanHetBeginVanDePeriode_1\")\n",
    "  # want de CBS odata API snap startsWith niet...\n",
    "  bevolking = bevolking[bevolking.RegioS.str.startswith('GM')]\n",
    "  # die _1 betekent waarschijnlijk dat het gedrag ooit gewijzigd is en er een nieuwe \"versie\" van die kolom is gepubliceerd\n",
    "  bevolking.rename(columns={'RegioS': 'GemeenteCode', 'BevolkingAanHetBeginVanDePeriode_1': 'BevolkingAanHetBeginVanDePeriode'}, inplace=True)\n",
    "  \n",
    "  gemeenten = gemeenten.merge(bevolking, how='left', on='GemeenteCode')\n",
    "  # default naar gegeven waarde bij ontbrekende data\n",
    "  gemeenten.loc[gemeenten.Personen == 0, 'Personen'] = gemeenten.BevolkingAanHetBeginVanDePeriode\n",
    "  del gemeenten['BevolkingAanHetBeginVanDePeriode']\n",
    "  gemeenten = sortcolumns(gemeenten)\n",
    "\n",
    "  # prepareer een RIVM dataset\n",
    "  def prepare(dataset, day):\n",
    "    df = RIVM.csv(dataset, day)\n",
    "    # hernoem kolommen voor makkelijker uniforme data bewerking\n",
    "    for old, new in [('Municipality_code', 'GemeenteCode'), ('Security_region_code', 'VeiligheidsregioCode'), ('Security_region_name', 'Veiligheidsregio')]:\n",
    "      if old in df:\n",
    "        df[new] = df[old]\n",
    "    if 'GemeenteCode' in df:\n",
    "      df['GemeenteCode'] = df['GemeenteCode'].fillna('GM0000')\n",
    "\n",
    "    if 'Agegroup' in df:\n",
    "      df['LeeftijdCode'] = 'LE' + df['Agegroup'].replace({'0-9': '00-09', '<50': '00-00', 'Unknown': '00-00', 'Onbekend': '00-00'}).replace('-', '', regex=True).astype(str)\n",
    "      df['Total_reported'] = 1 # impliciet in casus-landelijk\n",
    "      df = df.replace({'Hospital_admission': {'Yes': 1, 'No': 0, 'Unknown': 0}, 'Deceased': {'Yes': 1, 'No': 0, 'Unknown': 0}})\n",
    "\n",
    "    # voeg regiocodes to aan elke regel in de dataset\n",
    "    if 'GemeenteCode' in df:\n",
    "      for regiotype in ['GGDregio', 'Provincie', 'Landsdeel', 'Schoolregio']:\n",
    "        df = df.merge(gemeenten[['GemeenteCode', f'{regiotype}Code']].drop_duplicates(), on='GemeenteCode')\n",
    "\n",
    "    # als er geen gemeentecode is, maar misschien wel een VR code, vervang die door VR00\n",
    "    if 'GemeenteCode' in df and 'VeiligheidsregioCode' in df:\n",
    "      df.loc[df.GemeenteCode == 'GM0000', 'VeiligheidsregioCode'] = 'VR00'\n",
    "      df.loc[df.GemeenteCode == 'GM0000', 'Veiligheidsregio'] = ''\n",
    "\n",
    "    df['LandCode'] = 'NL'\n",
    "    df['Land'] = 'Nederland'\n",
    "  \n",
    "    # knip de tijd van de datum af, en stop hem in 'Today' (referentiepunt metingen)\n",
    "    if 'Date_of_report' in df:\n",
    "      df['Datum'] = df.Date_of_report.str.replace(' .*', '', regex=True)\n",
    "    elif 'Date_file' in df:\n",
    "      df['Datum'] = df.Date_file.str.replace(' .*', '', regex=True)\n",
    "    df['Today'] = pd.to_datetime(df.Datum)\n",
    "  \n",
    "    # zet 'Date' naar de bij de betreffende dataset horende meetdatum-kolom\n",
    "    for when in ['Date_statistics', 'Date_of_statistics', 'Date_of_publication']:\n",
    "      if when in df:\n",
    "        df['Date'] = pd.to_datetime(df[when])\n",
    "        # en direct maar weken terug, die hebben we vaker nodig\n",
    "        df['WekenTerug'] = ((df.Today - df.Date) / np.timedelta64(7, 'D')).astype(int)\n",
    "\n",
    "    return sortcolumns(df)\n",
    "\n",
    "  global aantallen, ziekenhuisopnames, ziekenhuisopnames_1, casus_landelijk, casus_landelijk_1\n",
    "  aantallen = prepare('COVID-19_aantallen_gemeente_per_dag', 0)\n",
    "  ziekenhuisopnames = prepare('COVID-19_ziekenhuisopnames', 0)\n",
    "  ziekenhuisopnames_1 = prepare('COVID-19_ziekenhuisopnames', 1)\n",
    "  casus_landelijk = prepare('COVID-19_casus_landelijk', 0)\n",
    "  casus_landelijk_1 = prepare('COVID-19_casus_landelijk', 1)"
   ]
  },
  {
   "cell_type": "code",
   "execution_count": 3,
   "id": "native-nightlife",
   "metadata": {
    "execution": {
     "iopub.execute_input": "2021-02-21T14:34:03.034416Z",
     "iopub.status.busy": "2021-02-21T14:34:03.033794Z",
     "iopub.status.idle": "2021-02-21T14:34:03.052865Z",
     "shell.execute_reply": "2021-02-21T14:34:03.052423Z"
    },
    "lines_to_next_cell": 1,
    "papermill": {
     "duration": 0.086849,
     "end_time": "2021-02-21T14:34:03.052979",
     "exception": false,
     "start_time": "2021-02-21T14:34:02.966130",
     "status": "completed"
    },
    "tags": [],
    "title": "Ondersteunde code voor de regio berekeningen"
   },
   "outputs": [],
   "source": [
    "def groupregio(regiotype):\n",
    "  \"\"\"\n",
    "    Groepeer de gemeenten tabel op gegeven regiotypen en sommeer personen/oppervlakte\n",
    "  \"\"\"\n",
    "  global gemeenten\n",
    "\n",
    "  grouping = [ f'{regiotype}Code', regiotype]\n",
    "  if regiotype != 'Land':\n",
    "    grouping += [ 'LandCode' ]\n",
    "\n",
    "  # deze kolommen willen we voor de resultset, ook al zijn ze voor alles behalve 'Gemeente' leeg\n",
    "  columns = [\n",
    "    'GGDregio',\n",
    "    'Veiligheidsregio',\n",
    "    'VeiligheidsregioCode',\n",
    "    'Provincie',\n",
    "    'Landsdeel',\n",
    "    'Schoolregio',\n",
    "    'Land',\n",
    "  ]\n",
    "\n",
    "  if regiotype == 'Gemeente':\n",
    "    # hier hoeven we niets te doen dan de juiste kolommen te selecteren\n",
    "    df = gemeenten[grouping + columns + ['Personen', 'Opp land km2']].rename(columns={'Gemeente': 'Naam', 'GemeenteCode': 'Code'})\n",
    "  elif regiotype == 'Leeftijd':\n",
    "    df = (leeftijdsgroepen\n",
    "      # voeg de lege kolommen toe\n",
    "      .assign(**{ col: '' for col in columns})\n",
    "      .assign(**{'Opp land km2': 0})\n",
    "    )\n",
    "  else:\n",
    "    df = (gemeenten[gemeenten.GemeenteCode != 'GM0000']\n",
    "      # groupeer op regiotype, sommeer oppervlakte en personen\n",
    "      .groupby(grouping).agg({ 'Personen': 'sum', 'Opp land km2': 'sum' })\n",
    "      .reset_index()\n",
    "      # standardiseerd de 'Naam' en 'Code' kolommen zodat ze klaar zijn voor output.\n",
    "      .rename(columns={regiotype: 'Naam', f'{regiotype}Code': 'Code'})\n",
    "      # voeg de lege kolommen toe\n",
    "      .assign(**{ col: '' for col in columns })\n",
    "    )\n",
    "    if regiotype == 'Land':\n",
    "      df['Land'] = df['Naam']\n",
    "      df['LandCode'] = df['Code']\n",
    "  # voeg het regiotype toe in de Type kolom\n",
    "  return df.assign(Type=regiotype)\n",
    "\n",
    "def sumcols(df, regiotype, columns):\n",
    "  \"\"\"\n",
    "    groepeer en sommeer deceased/admission/positive\n",
    "  \"\"\"\n",
    "  regiotype_code = f'{regiotype}Code'\n",
    "  return (df\n",
    "    # groepeer op regiotype en selecteer de gewenste kolommen\n",
    "    .groupby([regiotype_code])[list(columns.keys())]\n",
    "    # sommeer\n",
    "    .sum()\n",
    "    # rename naar gewenste output kolommen\n",
    "    .rename(columns=columns)\n",
    "  )\n",
    "\n",
    "def histcols(df, regiotype, maxweeks, column, colors=False, highestweek=False):\n",
    "  \"\"\"\n",
    "    voeg week historie toe:\n",
    "    - regiotype\n",
    "    - maxweeks = hoeveel weken\n",
    "    - column = deceased/admission/positive naam => output kolom\n",
    "    - colors = toevoegen schaalverdeling kleuren\n",
    "    - highestweek = toevoegen op welke week het maximum was behaald\n",
    "  \"\"\"\n",
    "  # in principe zouden we kunnen groeperen/sommeren op meerdere kolommen tegelijk maar dan worden colors en highestweek weer heel complex\n",
    "  assert len(column) == 1\n",
    "  label = list(column.values())[0]\n",
    "  datacolumn = list(column.keys())[0]\n",
    "  regiotype_code = f'{regiotype}Code'\n",
    "\n",
    "  # knip alle data van >= maxweeks eruit\n",
    "  df = df[df.WekenTerug < maxweeks]\n",
    "\n",
    "  # als we schalen naar 100.000, voor hoeveel telt elke melding dan mee\n",
    "  if 'scale' in df:\n",
    "    df = df.assign(count=df[datacolumn] * df.scale).replace(np.inf, 0)\n",
    "  else:\n",
    "    df = df.assign(count=df[datacolumn])\n",
    "\n",
    "  df = (df\n",
    "    # groepeer op reguitype en wekenterug\n",
    "    .groupby([regiotype_code, 'WekenTerug'])['count']\n",
    "    # optellen (de aantallen zijn eventueel hierboven al geschaald)\n",
    "    .sum()\n",
    "    # maak de week nummers kolommen\n",
    "    .unstack(level=-1)\n",
    "    # en vul de kolommen uit zodat als een week helemaal geen meldingen heeft dat die niet weg blijft maar 0 bevat\n",
    "    .reindex(columns=np.arange(maxweeks), fill_value=0)\n",
    "  )\n",
    "\n",
    "  merges = []\n",
    "  # must be done before colors is merged and before the columns are renamed\n",
    "  if highestweek:\n",
    "    merges.append(df.idxmax(axis=1).to_frame().rename(columns={0: f'{label} hoogste week'}))\n",
    "\n",
    "  # hernoem de kolommen van de getallen die ze nu zijn\n",
    "  df.columns = [f'{label} w{-col}' for col in df.columns.values]\n",
    "\n",
    "  # must be done before highestweek is merged but after the columns are renamed\n",
    "  if colors:\n",
    "    # kleurkolommen zijn waarde van de week gedeeld door het maximum over de weken heen\n",
    "    merges.append((df.divide(df.max(axis=1), axis=0) * 1000).rename(columns={col:col.replace(' w', ' cw') for col in df}))\n",
    "\n",
    "  for extra in merges:\n",
    "    df = df.merge(extra, left_index=True, right_index=True)\n",
    "\n",
    "  # bij ontbreken van w-1 vaste waarde 9.99\n",
    "  df[f'{label} t.o.v. vorige week'] = (df[f'{label} w0'] / df[f'{label} w-1']).replace(np.inf, 9.99)\n",
    "  return df\n",
    "\n",
    "def collect(regiotype):\n",
    "  \"\"\"\n",
    "    verzamel alle kolommen voor gegeven regiotype\n",
    "  \"\"\"\n",
    "  regiotype_code = f'{regiotype}Code'\n",
    "\n",
    "  def datasets():\n",
    "    if regiotype == 'Leeftijd':\n",
    "      global casus_landelijk, casus_landelijk_1\n",
    "      return (casus_landelijk, casus_landelijk, casus_landelijk_1)\n",
    "    else:\n",
    "      global aantallen, ziekenhuisopnames, ziekenhuisopnames_1\n",
    "      return (aantallen, ziekenhuisopnames, ziekenhuisopnames_1)\n",
    "\n",
    "  aantallen, ziekenhuisopnames, ziekenhuisopnames_1 = datasets()\n",
    "\n",
    "  assert len(aantallen.Datum.unique()) == 1\n",
    "  assert len(ziekenhuisopnames_1.Datum.unique()) == 1\n",
    "  assert list(aantallen.Datum.unique()) == list(ziekenhuisopnames.Datum.unique()), list(aantallen.Datum.unique()) + list(ziekenhuisopnames.Datum.unique())\n",
    "\n",
    "  # sommeer Total_reported en Deceased voor gegeven regiotype\n",
    "  pos_dec = sumcols(aantallen, regiotype, {'Total_reported':'Positief getest', 'Deceased':'Overleden'})\n",
    "  # toename is precies hetzelfde maar dan alleen voor de metingen van 'vandaag'\n",
    "  pos_dec_delta = sumcols(\n",
    "    aantallen[aantallen.Date == aantallen.Today],\n",
    "    regiotype,\n",
    "    {'Total_reported':'Positief getest (toename)', 'Deceased':'Overleden (toename)'}\n",
    "  )\n",
    "  # sommeer Hospital_admission voor gegeven regiotype\n",
    "  admissions = sumcols(ziekenhuisopnames, regiotype, {'Hospital_admission':'Ziekenhuisopname'})\n",
    "  # sommeer Hospital_admission van 'vorige dag' voor gegeven regiotype\n",
    "  admissions_1 = sumcols(ziekenhuisopnames_1, regiotype, {'Hospital_admission':'Ziekenhuisopname_1'})\n",
    "  # voeg ze bij elkaar en trek ze van elkaar af\n",
    "  admissions_delta = admissions.merge(admissions_1, how='left', on=regiotype_code)\n",
    "  admissions_delta['Ziekenhuisopname (toename)'] = admissions_delta.Ziekenhuisopname - admissions_delta.Ziekenhuisopname_1\n",
    "  # niet meer nodig en vervuilen anders het resultaat\n",
    "  del admissions_delta['Ziekenhuisopname']\n",
    "  del admissions_delta['Ziekenhuisopname_1']\n",
    "\n",
    "  # groupeer de gemeenten op gegeven regiotype\n",
    "  df = (groupregio(regiotype)\n",
    "    # en voeg de berekende kolommen toe\n",
    "    .merge(pos_dec, how='left', left_on='Code', right_index=True)\n",
    "    .merge(admissions, how='left', left_on='Code', right_index=True)\n",
    "    .merge(pos_dec_delta, how='left', left_on='Code', right_index=True)\n",
    "    .merge(admissions_delta, how='left', left_on='Code', right_index=True)\n",
    "    .fillna(0)\n",
    "  )\n",
    "  # per 100k voor de absolute kolommen\n",
    "  for cat in [pos_dec, admissions]:\n",
    "    for col in cat.columns:\n",
    "      df[col + ' per 100.000'] = ((df[col] * 100000) / df.Personen).replace(np.inf, 0)\n",
    "\n",
    "  df['Positief getest 1d/100k'] = ((df['Positief getest (toename)'] * 100000) / df.Personen).replace(np.inf, 0)\n",
    "  df['Positief getest percentage'] = (df['Positief getest'] / df.Personen).replace(np.inf, 0)\n",
    "  df['Positief getest per km2'] = (df['Positief getest'] / df['Opp land km2']).replace(np.inf, 0)\n",
    "\n",
    "  # weekhistories\n",
    "  maxweeks = 26\n",
    "  df = (df\n",
    "    .merge(histcols(\n",
    "      aantallen,\n",
    "      regiotype,\n",
    "      maxweeks=maxweeks,\n",
    "      colors=True,\n",
    "      highestweek=True,\n",
    "      column={'Total_reported':'Positief getest'}), how='left', left_on='Code', right_index=True)\n",
    "    .merge(histcols(\n",
    "      aantallen.merge(df.assign(scale=100000 / df.Personen)[['Code', 'scale']], left_on=regiotype_code, right_on='Code'),\n",
    "      regiotype,\n",
    "      maxweeks=maxweeks,\n",
    "      column={'Total_reported':'Positief getest 7d/100k'}), how='left', left_on='Code', right_index=True)\n",
    "    .merge(histcols(ziekenhuisopnames,\n",
    "      regiotype,\n",
    "      maxweeks=maxweeks,\n",
    "      colors=True,\n",
    "      column={'Hospital_admission':'Ziekenhuisopname'}), how='left', left_on='Code', right_index=True)\n",
    "    .merge(histcols(\n",
    "      aantallen,\n",
    "      regiotype,\n",
    "      maxweeks=maxweeks,\n",
    "      colors=True,\n",
    "      column={'Deceased':'Overleden'}), how='left', left_on='Code', right_index=True)\n",
    "  )\n",
    "  df['Datum'] = aantallen.Datum.unique()[0]\n",
    "\n",
    "  return df"
   ]
  },
  {
   "cell_type": "code",
   "execution_count": 4,
   "id": "overhead-aging",
   "metadata": {
    "execution": {
     "iopub.execute_input": "2021-02-21T14:34:03.074814Z",
     "iopub.status.busy": "2021-02-21T14:34:03.074326Z",
     "iopub.status.idle": "2021-02-21T14:34:11.008059Z",
     "shell.execute_reply": "2021-02-21T14:34:11.007519Z"
    },
    "lines_to_next_cell": 1,
    "papermill": {
     "duration": 7.948612,
     "end_time": "2021-02-21T14:34:11.008198",
     "exception": false,
     "start_time": "2021-02-21T14:34:03.059586",
     "status": "completed"
    },
    "tags": [],
    "title": "regio: load verschillende aggregatie niveaus"
   },
   "outputs": [],
   "source": [
    "@run\n",
    "def cell():\n",
    "  global regios\n",
    "  # verzamel de data voor de gegeven regiotypes en plak ze onder elkaar\n",
    "  regios = pd.concat([\n",
    "    collect(regiotype)\n",
    "    for regiotype in\n",
    "    [\n",
    "      'Gemeente',\n",
    "      'GGDregio',\n",
    "      'Veiligheidsregio',\n",
    "      'Provincie',\n",
    "      'Landsdeel',\n",
    "      'Schoolregio',\n",
    "      'Land',\n",
    "      'Leeftijd',\n",
    "    ]\n",
    "  ])\n",
    "  # maak de kolommen leeg voor GM0000\n",
    "  # hernoem de eerder geuniformeerde kolomen terug naar de gewenste output\n",
    "  regios = regios.rename(columns={\n",
    "    'LandCode': 'Landcode',\n",
    "    'VeiligheidsregioCode': 'Veiligheidsregio Code',\n",
    "    'GGDregio': 'GGD regio'\n",
    "  })"
   ]
  },
  {
   "cell_type": "code",
   "execution_count": 5,
   "id": "bizarre-darwin",
   "metadata": {
    "execution": {
     "iopub.execute_input": "2021-02-21T14:34:11.028057Z",
     "iopub.status.busy": "2021-02-21T14:34:11.027540Z",
     "iopub.status.idle": "2021-02-21T14:35:33.305211Z",
     "shell.execute_reply": "2021-02-21T14:35:33.303721Z"
    },
    "papermill": {
     "duration": 82.290746,
     "end_time": "2021-02-21T14:35:33.305343",
     "exception": false,
     "start_time": "2021-02-21T14:34:11.014597",
     "status": "completed"
    },
    "tags": []
   },
   "outputs": [
    {
     "data": {
      "text/html": [
       "<div>\n",
       "<style scoped>\n",
       "    .dataframe tbody tr th:only-of-type {\n",
       "        vertical-align: middle;\n",
       "    }\n",
       "\n",
       "    .dataframe tbody tr th {\n",
       "        vertical-align: top;\n",
       "    }\n",
       "\n",
       "    .dataframe thead th {\n",
       "        text-align: right;\n",
       "    }\n",
       "</style>\n",
       "<table border=\"1\" class=\"dataframe\">\n",
       "  <thead>\n",
       "    <tr style=\"text-align: right;\">\n",
       "      <th></th>\n",
       "    </tr>\n",
       "    <tr>\n",
       "      <th>Code</th>\n",
       "    </tr>\n",
       "  </thead>\n",
       "  <tbody>\n",
       "  </tbody>\n",
       "</table>\n",
       "</div>"
      ],
      "text/plain": [
       "Empty DataFrame\n",
       "Columns: []\n",
       "Index: []"
      ]
     },
     "metadata": {},
     "output_type": "display_data"
    },
    {
     "name": "stdout",
     "output_type": "stream",
     "text": [
      "updating knack\n"
     ]
    },
    {
     "name": "stderr",
     "output_type": "stream",
     "text": [
      "\r",
      "  0%|          | 0/434 [00:00<?, ?it/s]"
     ]
    },
    {
     "name": "stderr",
     "output_type": "stream",
     "text": [
      "\r",
      "  0%|          | 1/434 [00:00<06:34,  1.10it/s]"
     ]
    },
    {
     "name": "stderr",
     "output_type": "stream",
     "text": [
      "\r",
      "  1%|          | 3/434 [00:01<02:11,  3.28it/s]"
     ]
    },
    {
     "name": "stderr",
     "output_type": "stream",
     "text": [
      "\r",
      "  1%|          | 4/434 [00:01<01:51,  3.85it/s]"
     ]
    },
    {
     "name": "stderr",
     "output_type": "stream",
     "text": [
      "\r",
      "  2%|▏         | 8/434 [00:01<00:44,  9.58it/s]"
     ]
    },
    {
     "name": "stderr",
     "output_type": "stream",
     "text": [
      "\r",
      "  2%|▏         | 10/434 [00:01<00:48,  8.81it/s]"
     ]
    },
    {
     "name": "stderr",
     "output_type": "stream",
     "text": [
      "\r",
      "  3%|▎         | 12/434 [00:01<00:54,  7.74it/s]"
     ]
    },
    {
     "name": "stderr",
     "output_type": "stream",
     "text": [
      "\r",
      "  3%|▎         | 14/434 [00:02<01:04,  6.50it/s]"
     ]
    },
    {
     "name": "stderr",
     "output_type": "stream",
     "text": [
      "\r",
      "  3%|▎         | 15/434 [00:02<01:06,  6.31it/s]"
     ]
    },
    {
     "name": "stderr",
     "output_type": "stream",
     "text": [
      "\r",
      "  4%|▎         | 16/434 [00:02<01:21,  5.15it/s]"
     ]
    },
    {
     "name": "stderr",
     "output_type": "stream",
     "text": [
      "\r",
      "  4%|▍         | 18/434 [00:03<01:23,  4.96it/s]"
     ]
    },
    {
     "name": "stderr",
     "output_type": "stream",
     "text": [
      "\r",
      "  5%|▍         | 20/434 [00:03<01:33,  4.41it/s]"
     ]
    },
    {
     "name": "stderr",
     "output_type": "stream",
     "text": [
      "\r",
      "  5%|▍         | 21/434 [00:03<01:23,  4.92it/s]"
     ]
    },
    {
     "name": "stderr",
     "output_type": "stream",
     "text": [
      "\r",
      "  6%|▌         | 25/434 [00:04<00:51,  7.95it/s]"
     ]
    },
    {
     "name": "stderr",
     "output_type": "stream",
     "text": [
      "\r",
      "  6%|▌         | 27/434 [00:04<00:46,  8.71it/s]"
     ]
    },
    {
     "name": "stderr",
     "output_type": "stream",
     "text": [
      "\r",
      "  7%|▋         | 29/434 [00:04<00:55,  7.32it/s]"
     ]
    },
    {
     "name": "stderr",
     "output_type": "stream",
     "text": [
      "\r",
      "  7%|▋         | 30/434 [00:05<01:03,  6.32it/s]"
     ]
    },
    {
     "name": "stderr",
     "output_type": "stream",
     "text": [
      "\r",
      "  7%|▋         | 31/434 [00:05<01:04,  6.27it/s]"
     ]
    },
    {
     "name": "stderr",
     "output_type": "stream",
     "text": [
      "\r",
      "  7%|▋         | 32/434 [00:05<01:01,  6.50it/s]"
     ]
    },
    {
     "name": "stderr",
     "output_type": "stream",
     "text": [
      "\r",
      "  8%|▊         | 34/434 [00:05<00:53,  7.46it/s]"
     ]
    },
    {
     "name": "stderr",
     "output_type": "stream",
     "text": [
      "\r",
      "  9%|▊         | 37/434 [00:05<00:53,  7.45it/s]"
     ]
    },
    {
     "name": "stderr",
     "output_type": "stream",
     "text": [
      "\r",
      "  9%|▉         | 39/434 [00:06<00:47,  8.30it/s]"
     ]
    },
    {
     "name": "stderr",
     "output_type": "stream",
     "text": [
      "\r",
      "  9%|▉         | 40/434 [00:06<01:13,  5.37it/s]"
     ]
    },
    {
     "name": "stderr",
     "output_type": "stream",
     "text": [
      "\r",
      " 10%|▉         | 42/434 [00:06<00:59,  6.59it/s]"
     ]
    },
    {
     "name": "stderr",
     "output_type": "stream",
     "text": [
      "\r",
      " 10%|█         | 44/434 [00:06<00:53,  7.27it/s]"
     ]
    },
    {
     "name": "stderr",
     "output_type": "stream",
     "text": [
      "\r",
      " 10%|█         | 45/434 [00:07<00:56,  6.94it/s]"
     ]
    },
    {
     "name": "stderr",
     "output_type": "stream",
     "text": [
      "\r",
      " 11%|█         | 46/434 [00:07<01:05,  5.96it/s]"
     ]
    },
    {
     "name": "stderr",
     "output_type": "stream",
     "text": [
      "\r",
      " 11%|█         | 48/434 [00:07<01:02,  6.20it/s]"
     ]
    },
    {
     "name": "stderr",
     "output_type": "stream",
     "text": [
      "\r",
      " 12%|█▏        | 50/434 [00:07<00:53,  7.23it/s]"
     ]
    },
    {
     "name": "stderr",
     "output_type": "stream",
     "text": [
      "\r",
      " 12%|█▏        | 51/434 [00:08<00:57,  6.68it/s]"
     ]
    },
    {
     "name": "stderr",
     "output_type": "stream",
     "text": [
      "\r",
      " 12%|█▏        | 53/434 [00:08<00:55,  6.80it/s]"
     ]
    },
    {
     "name": "stderr",
     "output_type": "stream",
     "text": [
      "\r",
      " 13%|█▎        | 55/434 [00:08<00:43,  8.62it/s]"
     ]
    },
    {
     "name": "stderr",
     "output_type": "stream",
     "text": [
      "\r",
      " 13%|█▎        | 57/434 [00:08<00:48,  7.71it/s]"
     ]
    },
    {
     "name": "stderr",
     "output_type": "stream",
     "text": [
      "\r",
      " 14%|█▎        | 59/434 [00:09<00:49,  7.63it/s]"
     ]
    },
    {
     "name": "stderr",
     "output_type": "stream",
     "text": [
      "\r",
      " 14%|█▍        | 60/434 [00:09<00:48,  7.73it/s]"
     ]
    },
    {
     "name": "stderr",
     "output_type": "stream",
     "text": [
      "\r",
      " 14%|█▍        | 61/434 [00:09<00:46,  8.08it/s]"
     ]
    },
    {
     "name": "stderr",
     "output_type": "stream",
     "text": [
      "\r",
      " 15%|█▍        | 63/434 [00:09<00:42,  8.81it/s]"
     ]
    },
    {
     "name": "stderr",
     "output_type": "stream",
     "text": [
      "\r",
      " 15%|█▍        | 64/434 [00:09<00:47,  7.84it/s]"
     ]
    },
    {
     "name": "stderr",
     "output_type": "stream",
     "text": [
      "\r",
      " 15%|█▌        | 66/434 [00:09<00:45,  8.01it/s]"
     ]
    },
    {
     "name": "stderr",
     "output_type": "stream",
     "text": [
      "\r",
      " 15%|█▌        | 67/434 [00:10<01:16,  4.81it/s]"
     ]
    },
    {
     "name": "stderr",
     "output_type": "stream",
     "text": [
      "\r",
      " 16%|█▌        | 68/434 [00:10<01:09,  5.24it/s]"
     ]
    },
    {
     "name": "stderr",
     "output_type": "stream",
     "text": [
      "\r",
      " 16%|█▌        | 69/434 [00:10<01:12,  5.00it/s]"
     ]
    },
    {
     "name": "stderr",
     "output_type": "stream",
     "text": [
      "\r",
      " 16%|█▌        | 70/434 [00:10<01:09,  5.22it/s]"
     ]
    },
    {
     "name": "stderr",
     "output_type": "stream",
     "text": [
      "\r",
      " 17%|█▋        | 72/434 [00:11<00:53,  6.71it/s]"
     ]
    },
    {
     "name": "stderr",
     "output_type": "stream",
     "text": [
      "\r",
      " 17%|█▋        | 73/434 [00:11<00:52,  6.91it/s]"
     ]
    },
    {
     "name": "stderr",
     "output_type": "stream",
     "text": [
      "\r",
      " 17%|█▋        | 75/434 [00:11<00:41,  8.62it/s]"
     ]
    },
    {
     "name": "stderr",
     "output_type": "stream",
     "text": [
      "\r",
      " 18%|█▊        | 76/434 [00:11<00:42,  8.47it/s]"
     ]
    },
    {
     "name": "stderr",
     "output_type": "stream",
     "text": [
      "\r",
      " 18%|█▊        | 77/434 [00:11<00:57,  6.22it/s]"
     ]
    },
    {
     "name": "stderr",
     "output_type": "stream",
     "text": [
      "\r",
      " 18%|█▊        | 79/434 [00:12<01:00,  5.91it/s]"
     ]
    },
    {
     "name": "stderr",
     "output_type": "stream",
     "text": [
      "\r",
      " 18%|█▊        | 80/434 [00:12<01:13,  4.84it/s]"
     ]
    },
    {
     "name": "stderr",
     "output_type": "stream",
     "text": [
      "\r",
      " 19%|█▉        | 82/434 [00:12<00:58,  6.02it/s]"
     ]
    },
    {
     "name": "stderr",
     "output_type": "stream",
     "text": [
      "\r",
      " 19%|█▉        | 84/434 [00:13<01:12,  4.85it/s]"
     ]
    },
    {
     "name": "stderr",
     "output_type": "stream",
     "text": [
      "\r",
      " 20%|█▉        | 86/434 [00:13<01:04,  5.37it/s]"
     ]
    },
    {
     "name": "stderr",
     "output_type": "stream",
     "text": [
      "\r",
      " 21%|██        | 89/434 [00:13<00:45,  7.57it/s]"
     ]
    },
    {
     "name": "stderr",
     "output_type": "stream",
     "text": [
      "\r",
      " 21%|██        | 91/434 [00:14<00:48,  7.05it/s]"
     ]
    },
    {
     "name": "stderr",
     "output_type": "stream",
     "text": [
      "\r",
      " 21%|██        | 92/434 [00:14<00:47,  7.21it/s]"
     ]
    },
    {
     "name": "stderr",
     "output_type": "stream",
     "text": [
      "\r",
      " 21%|██▏       | 93/434 [00:14<00:53,  6.38it/s]"
     ]
    },
    {
     "name": "stderr",
     "output_type": "stream",
     "text": [
      "\r",
      " 22%|██▏       | 94/434 [00:14<00:56,  6.05it/s]"
     ]
    },
    {
     "name": "stderr",
     "output_type": "stream",
     "text": [
      "\r",
      " 22%|██▏       | 96/434 [00:15<00:57,  5.90it/s]"
     ]
    },
    {
     "name": "stderr",
     "output_type": "stream",
     "text": [
      "\r",
      " 22%|██▏       | 97/434 [00:15<01:00,  5.57it/s]"
     ]
    },
    {
     "name": "stderr",
     "output_type": "stream",
     "text": [
      "\r",
      " 23%|██▎       | 99/434 [00:15<00:44,  7.51it/s]"
     ]
    },
    {
     "name": "stderr",
     "output_type": "stream",
     "text": [
      "\r",
      " 23%|██▎       | 100/434 [00:15<00:47,  7.06it/s]"
     ]
    },
    {
     "name": "stderr",
     "output_type": "stream",
     "text": [
      "\r",
      " 23%|██▎       | 101/434 [00:15<00:54,  6.12it/s]"
     ]
    },
    {
     "name": "stderr",
     "output_type": "stream",
     "text": [
      "\r",
      " 24%|██▎       | 103/434 [00:15<00:48,  6.87it/s]"
     ]
    },
    {
     "name": "stderr",
     "output_type": "stream",
     "text": [
      "\r",
      " 24%|██▍       | 105/434 [00:16<00:46,  7.10it/s]"
     ]
    },
    {
     "name": "stderr",
     "output_type": "stream",
     "text": [
      "\r",
      " 24%|██▍       | 106/434 [00:16<00:45,  7.28it/s]"
     ]
    },
    {
     "name": "stderr",
     "output_type": "stream",
     "text": [
      "\r",
      " 25%|██▍       | 108/434 [00:16<00:34,  9.41it/s]"
     ]
    },
    {
     "name": "stderr",
     "output_type": "stream",
     "text": [
      "\r",
      " 25%|██▌       | 110/434 [00:16<00:47,  6.77it/s]"
     ]
    },
    {
     "name": "stderr",
     "output_type": "stream",
     "text": [
      "\r",
      " 26%|██▌       | 112/434 [00:17<00:45,  7.03it/s]"
     ]
    },
    {
     "name": "stderr",
     "output_type": "stream",
     "text": [
      "\r",
      " 26%|██▌       | 113/434 [00:17<00:48,  6.58it/s]"
     ]
    },
    {
     "name": "stderr",
     "output_type": "stream",
     "text": [
      "\r",
      " 26%|██▋       | 115/434 [00:17<00:37,  8.52it/s]"
     ]
    },
    {
     "name": "stderr",
     "output_type": "stream",
     "text": [
      "\r",
      " 27%|██▋       | 117/434 [00:17<00:41,  7.66it/s]"
     ]
    },
    {
     "name": "stderr",
     "output_type": "stream",
     "text": [
      "\r",
      " 27%|██▋       | 118/434 [00:17<00:39,  7.93it/s]"
     ]
    },
    {
     "name": "stderr",
     "output_type": "stream",
     "text": [
      "\r",
      " 27%|██▋       | 119/434 [00:18<00:46,  6.80it/s]"
     ]
    },
    {
     "name": "stderr",
     "output_type": "stream",
     "text": [
      "\r",
      " 28%|██▊       | 120/434 [00:18<00:43,  7.26it/s]"
     ]
    },
    {
     "name": "stderr",
     "output_type": "stream",
     "text": [
      "\r",
      " 28%|██▊       | 121/434 [00:18<01:04,  4.88it/s]"
     ]
    },
    {
     "name": "stderr",
     "output_type": "stream",
     "text": [
      "\r",
      " 28%|██▊       | 122/434 [00:18<00:58,  5.31it/s]"
     ]
    },
    {
     "name": "stderr",
     "output_type": "stream",
     "text": [
      "\r",
      " 29%|██▊       | 124/434 [00:18<00:43,  7.13it/s]"
     ]
    },
    {
     "name": "stderr",
     "output_type": "stream",
     "text": [
      "\r",
      " 29%|██▉       | 125/434 [00:19<00:52,  5.93it/s]"
     ]
    },
    {
     "name": "stderr",
     "output_type": "stream",
     "text": [
      "\r",
      " 29%|██▉       | 126/434 [00:19<00:48,  6.34it/s]"
     ]
    },
    {
     "name": "stderr",
     "output_type": "stream",
     "text": [
      "\r",
      " 29%|██▉       | 127/434 [00:19<00:46,  6.58it/s]"
     ]
    },
    {
     "name": "stderr",
     "output_type": "stream",
     "text": [
      "\r",
      " 30%|██▉       | 129/434 [00:19<00:53,  5.71it/s]"
     ]
    },
    {
     "name": "stderr",
     "output_type": "stream",
     "text": [
      "\r",
      " 30%|███       | 132/434 [00:20<00:47,  6.39it/s]"
     ]
    },
    {
     "name": "stderr",
     "output_type": "stream",
     "text": [
      "\r",
      " 31%|███       | 134/434 [00:20<01:04,  4.69it/s]"
     ]
    },
    {
     "name": "stderr",
     "output_type": "stream",
     "text": [
      "\r",
      " 32%|███▏      | 137/434 [00:21<00:47,  6.19it/s]"
     ]
    },
    {
     "name": "stderr",
     "output_type": "stream",
     "text": [
      "\r",
      " 32%|███▏      | 139/434 [00:21<00:44,  6.57it/s]"
     ]
    },
    {
     "name": "stderr",
     "output_type": "stream",
     "text": [
      "\r",
      " 32%|███▏      | 140/434 [00:21<00:42,  6.88it/s]"
     ]
    },
    {
     "name": "stderr",
     "output_type": "stream",
     "text": [
      "\r",
      " 33%|███▎      | 142/434 [00:21<00:41,  7.08it/s]"
     ]
    },
    {
     "name": "stderr",
     "output_type": "stream",
     "text": [
      "\r",
      " 33%|███▎      | 143/434 [00:22<01:03,  4.62it/s]"
     ]
    },
    {
     "name": "stderr",
     "output_type": "stream",
     "text": [
      "\r",
      " 33%|███▎      | 145/434 [00:22<00:54,  5.28it/s]"
     ]
    },
    {
     "name": "stderr",
     "output_type": "stream",
     "text": [
      "\r",
      " 34%|███▎      | 146/434 [00:22<00:53,  5.33it/s]"
     ]
    },
    {
     "name": "stderr",
     "output_type": "stream",
     "text": [
      "\r",
      " 34%|███▍      | 147/434 [00:23<00:56,  5.11it/s]"
     ]
    },
    {
     "name": "stderr",
     "output_type": "stream",
     "text": [
      "\r",
      " 34%|███▍      | 148/434 [00:23<00:49,  5.74it/s]"
     ]
    },
    {
     "name": "stderr",
     "output_type": "stream",
     "text": [
      "\r",
      " 35%|███▍      | 150/434 [00:23<00:53,  5.28it/s]"
     ]
    },
    {
     "name": "stderr",
     "output_type": "stream",
     "text": [
      "\r",
      " 35%|███▍      | 151/434 [00:23<00:58,  4.82it/s]"
     ]
    },
    {
     "name": "stderr",
     "output_type": "stream",
     "text": [
      "\r",
      " 35%|███▌      | 152/434 [00:24<01:00,  4.69it/s]"
     ]
    },
    {
     "name": "stderr",
     "output_type": "stream",
     "text": [
      "\r",
      " 36%|███▌      | 156/434 [00:24<00:30,  9.06it/s]"
     ]
    },
    {
     "name": "stderr",
     "output_type": "stream",
     "text": [
      "\r",
      " 36%|███▋      | 158/434 [00:24<00:30,  9.19it/s]"
     ]
    },
    {
     "name": "stderr",
     "output_type": "stream",
     "text": [
      "\r",
      " 37%|███▋      | 160/434 [00:24<00:29,  9.32it/s]"
     ]
    },
    {
     "name": "stderr",
     "output_type": "stream",
     "text": [
      "\r",
      " 37%|███▋      | 162/434 [00:25<00:43,  6.28it/s]"
     ]
    },
    {
     "name": "stderr",
     "output_type": "stream",
     "text": [
      "\r",
      " 38%|███▊      | 166/434 [00:25<00:27,  9.62it/s]"
     ]
    },
    {
     "name": "stderr",
     "output_type": "stream",
     "text": [
      "\r",
      " 39%|███▊      | 168/434 [00:25<00:28,  9.30it/s]"
     ]
    },
    {
     "name": "stderr",
     "output_type": "stream",
     "text": [
      "\r",
      " 39%|███▉      | 170/434 [00:26<00:35,  7.40it/s]"
     ]
    },
    {
     "name": "stderr",
     "output_type": "stream",
     "text": [
      "\r",
      " 39%|███▉      | 171/434 [00:26<00:49,  5.29it/s]"
     ]
    },
    {
     "name": "stderr",
     "output_type": "stream",
     "text": [
      "\r",
      " 40%|████      | 174/434 [00:26<00:33,  7.69it/s]"
     ]
    },
    {
     "name": "stderr",
     "output_type": "stream",
     "text": [
      "\r",
      " 41%|████      | 177/434 [00:26<00:27,  9.41it/s]"
     ]
    },
    {
     "name": "stderr",
     "output_type": "stream",
     "text": [
      "\r",
      " 41%|████      | 179/434 [00:27<00:30,  8.36it/s]"
     ]
    },
    {
     "name": "stderr",
     "output_type": "stream",
     "text": [
      "\r",
      " 42%|████▏     | 181/434 [00:27<00:37,  6.70it/s]"
     ]
    },
    {
     "name": "stderr",
     "output_type": "stream",
     "text": [
      "\r",
      " 42%|████▏     | 183/434 [00:27<00:32,  7.76it/s]"
     ]
    },
    {
     "name": "stderr",
     "output_type": "stream",
     "text": [
      "\r",
      " 43%|████▎     | 185/434 [00:28<00:32,  7.75it/s]"
     ]
    },
    {
     "name": "stderr",
     "output_type": "stream",
     "text": [
      "\r",
      " 43%|████▎     | 187/434 [00:28<00:26,  9.34it/s]"
     ]
    },
    {
     "name": "stderr",
     "output_type": "stream",
     "text": [
      "\r",
      " 44%|████▎     | 189/434 [00:28<00:42,  5.79it/s]"
     ]
    },
    {
     "name": "stderr",
     "output_type": "stream",
     "text": [
      "\r",
      " 44%|████▍     | 192/434 [00:28<00:31,  7.80it/s]"
     ]
    },
    {
     "name": "stderr",
     "output_type": "stream",
     "text": [
      "\r",
      " 45%|████▍     | 194/434 [00:29<00:29,  8.19it/s]"
     ]
    },
    {
     "name": "stderr",
     "output_type": "stream",
     "text": [
      "\r",
      " 45%|████▌     | 196/434 [00:29<00:31,  7.52it/s]"
     ]
    },
    {
     "name": "stderr",
     "output_type": "stream",
     "text": [
      "\r",
      " 45%|████▌     | 197/434 [00:29<00:36,  6.45it/s]"
     ]
    },
    {
     "name": "stderr",
     "output_type": "stream",
     "text": [
      "\r",
      " 46%|████▌     | 198/434 [00:30<00:40,  5.83it/s]"
     ]
    },
    {
     "name": "stderr",
     "output_type": "stream",
     "text": [
      "\r",
      " 46%|████▌     | 199/434 [00:30<00:46,  5.02it/s]"
     ]
    },
    {
     "name": "stderr",
     "output_type": "stream",
     "text": [
      "\r",
      " 46%|████▌     | 200/434 [00:30<00:41,  5.61it/s]"
     ]
    },
    {
     "name": "stderr",
     "output_type": "stream",
     "text": [
      "\r",
      " 47%|████▋     | 202/434 [00:30<00:31,  7.34it/s]"
     ]
    },
    {
     "name": "stderr",
     "output_type": "stream",
     "text": [
      "\r",
      " 47%|████▋     | 203/434 [00:30<00:32,  7.18it/s]"
     ]
    },
    {
     "name": "stderr",
     "output_type": "stream",
     "text": [
      "\r",
      " 47%|████▋     | 205/434 [00:30<00:26,  8.50it/s]"
     ]
    },
    {
     "name": "stderr",
     "output_type": "stream",
     "text": [
      "\r",
      " 47%|████▋     | 206/434 [00:31<00:27,  8.34it/s]"
     ]
    },
    {
     "name": "stderr",
     "output_type": "stream",
     "text": [
      "\r",
      " 48%|████▊     | 207/434 [00:31<00:29,  7.57it/s]"
     ]
    },
    {
     "name": "stderr",
     "output_type": "stream",
     "text": [
      "\r",
      " 48%|████▊     | 208/434 [00:31<00:49,  4.59it/s]"
     ]
    },
    {
     "name": "stderr",
     "output_type": "stream",
     "text": [
      "\r",
      " 48%|████▊     | 209/434 [00:31<00:44,  5.02it/s]"
     ]
    },
    {
     "name": "stderr",
     "output_type": "stream",
     "text": [
      "\r",
      " 49%|████▊     | 211/434 [00:32<00:40,  5.50it/s]"
     ]
    },
    {
     "name": "stderr",
     "output_type": "stream",
     "text": [
      "\r",
      " 49%|████▉     | 212/434 [00:32<00:42,  5.18it/s]"
     ]
    },
    {
     "name": "stderr",
     "output_type": "stream",
     "text": [
      "\r",
      " 49%|████▉     | 214/434 [00:32<00:30,  7.33it/s]"
     ]
    },
    {
     "name": "stderr",
     "output_type": "stream",
     "text": [
      "\r",
      " 50%|████▉     | 215/434 [00:32<00:40,  5.46it/s]"
     ]
    },
    {
     "name": "stderr",
     "output_type": "stream",
     "text": [
      "\r",
      " 50%|█████     | 217/434 [00:33<00:42,  5.16it/s]"
     ]
    },
    {
     "name": "stderr",
     "output_type": "stream",
     "text": [
      "\r",
      " 50%|█████     | 218/434 [00:33<00:37,  5.70it/s]"
     ]
    },
    {
     "name": "stderr",
     "output_type": "stream",
     "text": [
      "\r",
      " 51%|█████     | 221/434 [00:33<00:23,  9.02it/s]"
     ]
    },
    {
     "name": "stderr",
     "output_type": "stream",
     "text": [
      "\r",
      " 51%|█████▏    | 223/434 [00:33<00:22,  9.41it/s]"
     ]
    },
    {
     "name": "stderr",
     "output_type": "stream",
     "text": [
      "\r",
      " 52%|█████▏    | 225/434 [00:33<00:20,  9.97it/s]"
     ]
    },
    {
     "name": "stderr",
     "output_type": "stream",
     "text": [
      "\r",
      " 52%|█████▏    | 227/434 [00:34<00:23,  8.76it/s]"
     ]
    },
    {
     "name": "stderr",
     "output_type": "stream",
     "text": [
      "\r",
      " 53%|█████▎    | 229/434 [00:34<00:24,  8.30it/s]"
     ]
    },
    {
     "name": "stderr",
     "output_type": "stream",
     "text": [
      "\r",
      " 53%|█████▎    | 230/434 [00:34<00:25,  8.14it/s]"
     ]
    },
    {
     "name": "stderr",
     "output_type": "stream",
     "text": [
      "\r",
      " 53%|█████▎    | 232/434 [00:34<00:28,  7.18it/s]"
     ]
    },
    {
     "name": "stderr",
     "output_type": "stream",
     "text": [
      "\r",
      " 54%|█████▎    | 233/434 [00:35<00:29,  6.79it/s]"
     ]
    },
    {
     "name": "stderr",
     "output_type": "stream",
     "text": [
      "\r",
      " 54%|█████▍    | 234/434 [00:35<00:27,  7.26it/s]"
     ]
    },
    {
     "name": "stderr",
     "output_type": "stream",
     "text": [
      "\r",
      " 54%|█████▍    | 236/434 [00:35<00:33,  5.99it/s]"
     ]
    },
    {
     "name": "stderr",
     "output_type": "stream",
     "text": [
      "\r",
      " 55%|█████▍    | 237/434 [00:35<00:34,  5.76it/s]"
     ]
    },
    {
     "name": "stderr",
     "output_type": "stream",
     "text": [
      "\r",
      " 55%|█████▌    | 239/434 [00:35<00:26,  7.42it/s]"
     ]
    },
    {
     "name": "stderr",
     "output_type": "stream",
     "text": [
      "\r",
      " 55%|█████▌    | 240/434 [00:36<00:38,  5.10it/s]"
     ]
    },
    {
     "name": "stderr",
     "output_type": "stream",
     "text": [
      "\r",
      " 56%|█████▌    | 242/434 [00:36<00:31,  6.16it/s]"
     ]
    },
    {
     "name": "stderr",
     "output_type": "stream",
     "text": [
      "\r",
      " 56%|█████▌    | 244/434 [00:36<00:25,  7.59it/s]"
     ]
    },
    {
     "name": "stderr",
     "output_type": "stream",
     "text": [
      "\r",
      " 56%|█████▋    | 245/434 [00:36<00:24,  7.72it/s]"
     ]
    },
    {
     "name": "stderr",
     "output_type": "stream",
     "text": [
      "\r",
      " 57%|█████▋    | 246/434 [00:36<00:24,  7.77it/s]"
     ]
    },
    {
     "name": "stderr",
     "output_type": "stream",
     "text": [
      "\r",
      " 57%|█████▋    | 248/434 [00:37<00:23,  8.02it/s]"
     ]
    },
    {
     "name": "stderr",
     "output_type": "stream",
     "text": [
      "\r",
      " 57%|█████▋    | 249/434 [00:37<00:27,  6.74it/s]"
     ]
    },
    {
     "name": "stderr",
     "output_type": "stream",
     "text": [
      "\r",
      " 58%|█████▊    | 251/434 [00:37<00:35,  5.11it/s]"
     ]
    },
    {
     "name": "stderr",
     "output_type": "stream",
     "text": [
      "\r",
      " 59%|█████▊    | 254/434 [00:38<00:22,  7.91it/s]"
     ]
    },
    {
     "name": "stderr",
     "output_type": "stream",
     "text": [
      "\r",
      " 59%|█████▉    | 256/434 [00:38<00:19,  9.15it/s]"
     ]
    },
    {
     "name": "stderr",
     "output_type": "stream",
     "text": [
      "\r",
      " 59%|█████▉    | 258/434 [00:38<00:29,  5.91it/s]"
     ]
    },
    {
     "name": "stderr",
     "output_type": "stream",
     "text": [
      "\r",
      " 60%|█████▉    | 259/434 [00:39<00:30,  5.78it/s]"
     ]
    },
    {
     "name": "stderr",
     "output_type": "stream",
     "text": [
      "\r",
      " 60%|██████    | 261/434 [00:39<00:26,  6.58it/s]"
     ]
    },
    {
     "name": "stderr",
     "output_type": "stream",
     "text": [
      "\r",
      " 60%|██████    | 262/434 [00:39<00:25,  6.86it/s]"
     ]
    },
    {
     "name": "stderr",
     "output_type": "stream",
     "text": [
      "\r",
      " 61%|██████    | 263/434 [00:39<00:23,  7.25it/s]"
     ]
    },
    {
     "name": "stderr",
     "output_type": "stream",
     "text": [
      "\r",
      " 61%|██████    | 264/434 [00:39<00:25,  6.68it/s]"
     ]
    },
    {
     "name": "stderr",
     "output_type": "stream",
     "text": [
      "\r",
      " 61%|██████▏   | 266/434 [00:39<00:21,  7.66it/s]"
     ]
    },
    {
     "name": "stderr",
     "output_type": "stream",
     "text": [
      "\r",
      " 62%|██████▏   | 268/434 [00:40<00:19,  8.72it/s]"
     ]
    },
    {
     "name": "stderr",
     "output_type": "stream",
     "text": [
      "\r",
      " 62%|██████▏   | 269/434 [00:40<00:19,  8.50it/s]"
     ]
    },
    {
     "name": "stderr",
     "output_type": "stream",
     "text": [
      "\r",
      " 62%|██████▏   | 270/434 [00:40<00:26,  6.25it/s]"
     ]
    },
    {
     "name": "stderr",
     "output_type": "stream",
     "text": [
      "\r",
      " 63%|██████▎   | 272/434 [00:40<00:19,  8.39it/s]"
     ]
    },
    {
     "name": "stderr",
     "output_type": "stream",
     "text": [
      "\r",
      " 63%|██████▎   | 274/434 [00:40<00:17,  8.95it/s]"
     ]
    },
    {
     "name": "stderr",
     "output_type": "stream",
     "text": [
      "\r",
      " 64%|██████▎   | 276/434 [00:41<00:23,  6.78it/s]"
     ]
    },
    {
     "name": "stderr",
     "output_type": "stream",
     "text": [
      "\r",
      " 64%|██████▍   | 277/434 [00:41<00:22,  6.90it/s]"
     ]
    },
    {
     "name": "stderr",
     "output_type": "stream",
     "text": [
      "\r",
      " 64%|██████▍   | 278/434 [00:41<00:22,  7.06it/s]"
     ]
    },
    {
     "name": "stderr",
     "output_type": "stream",
     "text": [
      "\r",
      " 64%|██████▍   | 279/434 [00:41<00:23,  6.49it/s]"
     ]
    },
    {
     "name": "stderr",
     "output_type": "stream",
     "text": [
      "\r",
      " 65%|██████▍   | 280/434 [00:41<00:26,  5.74it/s]"
     ]
    },
    {
     "name": "stderr",
     "output_type": "stream",
     "text": [
      "\r",
      " 65%|██████▍   | 282/434 [00:42<00:21,  6.97it/s]"
     ]
    },
    {
     "name": "stderr",
     "output_type": "stream",
     "text": [
      "\r",
      " 65%|██████▌   | 283/434 [00:42<00:32,  4.58it/s]"
     ]
    },
    {
     "name": "stderr",
     "output_type": "stream",
     "text": [
      "\r",
      " 65%|██████▌   | 284/434 [00:42<00:29,  5.16it/s]"
     ]
    },
    {
     "name": "stderr",
     "output_type": "stream",
     "text": [
      "\r",
      " 66%|██████▌   | 287/434 [00:43<00:22,  6.66it/s]"
     ]
    },
    {
     "name": "stderr",
     "output_type": "stream",
     "text": [
      "\r",
      " 67%|██████▋   | 290/434 [00:43<00:14,  9.86it/s]"
     ]
    },
    {
     "name": "stderr",
     "output_type": "stream",
     "text": [
      "\r",
      " 67%|██████▋   | 292/434 [00:43<00:18,  7.59it/s]"
     ]
    },
    {
     "name": "stderr",
     "output_type": "stream",
     "text": [
      "\r",
      " 68%|██████▊   | 294/434 [00:43<00:21,  6.45it/s]"
     ]
    },
    {
     "name": "stderr",
     "output_type": "stream",
     "text": [
      "\r",
      " 68%|██████▊   | 295/434 [00:44<00:21,  6.54it/s]"
     ]
    },
    {
     "name": "stderr",
     "output_type": "stream",
     "text": [
      "\r",
      " 68%|██████▊   | 296/434 [00:44<00:26,  5.30it/s]"
     ]
    },
    {
     "name": "stderr",
     "output_type": "stream",
     "text": [
      "\r",
      " 69%|██████▊   | 298/434 [00:44<00:19,  6.89it/s]"
     ]
    },
    {
     "name": "stderr",
     "output_type": "stream",
     "text": [
      "\r",
      " 69%|██████▉   | 299/434 [00:44<00:21,  6.41it/s]"
     ]
    },
    {
     "name": "stderr",
     "output_type": "stream",
     "text": [
      "\r",
      " 69%|██████▉   | 301/434 [00:45<00:19,  7.00it/s]"
     ]
    },
    {
     "name": "stderr",
     "output_type": "stream",
     "text": [
      "\r",
      " 70%|██████▉   | 302/434 [00:45<00:18,  7.26it/s]"
     ]
    },
    {
     "name": "stderr",
     "output_type": "stream",
     "text": [
      "\r",
      " 70%|██████▉   | 303/434 [00:45<00:16,  7.72it/s]"
     ]
    },
    {
     "name": "stderr",
     "output_type": "stream",
     "text": [
      "\r",
      " 70%|███████   | 305/434 [00:45<00:15,  8.09it/s]"
     ]
    },
    {
     "name": "stderr",
     "output_type": "stream",
     "text": [
      "\r",
      " 71%|███████   | 306/434 [00:45<00:16,  7.79it/s]"
     ]
    },
    {
     "name": "stderr",
     "output_type": "stream",
     "text": [
      "\r",
      " 71%|███████   | 307/434 [00:45<00:17,  7.12it/s]"
     ]
    },
    {
     "name": "stderr",
     "output_type": "stream",
     "text": [
      "\r",
      " 71%|███████   | 309/434 [00:46<00:19,  6.34it/s]"
     ]
    },
    {
     "name": "stderr",
     "output_type": "stream",
     "text": [
      "\r",
      " 72%|███████▏  | 311/434 [00:46<00:17,  7.19it/s]"
     ]
    },
    {
     "name": "stderr",
     "output_type": "stream",
     "text": [
      "\r",
      " 72%|███████▏  | 312/434 [00:46<00:16,  7.19it/s]"
     ]
    },
    {
     "name": "stderr",
     "output_type": "stream",
     "text": [
      "\r",
      " 72%|███████▏  | 313/434 [00:46<00:18,  6.69it/s]"
     ]
    },
    {
     "name": "stderr",
     "output_type": "stream",
     "text": [
      "\r",
      " 72%|███████▏  | 314/434 [00:46<00:19,  6.28it/s]"
     ]
    },
    {
     "name": "stderr",
     "output_type": "stream",
     "text": [
      "\r",
      " 73%|███████▎  | 315/434 [00:47<00:20,  5.79it/s]"
     ]
    },
    {
     "name": "stderr",
     "output_type": "stream",
     "text": [
      "\r",
      " 73%|███████▎  | 316/434 [00:47<00:18,  6.38it/s]"
     ]
    },
    {
     "name": "stderr",
     "output_type": "stream",
     "text": [
      "\r",
      " 73%|███████▎  | 317/434 [00:47<00:18,  6.27it/s]"
     ]
    },
    {
     "name": "stderr",
     "output_type": "stream",
     "text": [
      "\r",
      " 74%|███████▎  | 320/434 [00:47<00:14,  7.86it/s]"
     ]
    },
    {
     "name": "stderr",
     "output_type": "stream",
     "text": [
      "\r",
      " 74%|███████▍  | 322/434 [00:48<00:16,  6.77it/s]"
     ]
    },
    {
     "name": "stderr",
     "output_type": "stream",
     "text": [
      "\r",
      " 75%|███████▍  | 325/434 [00:48<00:11,  9.46it/s]"
     ]
    },
    {
     "name": "stderr",
     "output_type": "stream",
     "text": [
      "\r",
      " 75%|███████▌  | 327/434 [00:48<00:10, 10.43it/s]"
     ]
    },
    {
     "name": "stderr",
     "output_type": "stream",
     "text": [
      "\r",
      " 76%|███████▌  | 329/434 [00:48<00:12,  8.18it/s]"
     ]
    },
    {
     "name": "stderr",
     "output_type": "stream",
     "text": [
      "\r",
      " 76%|███████▋  | 331/434 [00:49<00:16,  6.26it/s]"
     ]
    },
    {
     "name": "stderr",
     "output_type": "stream",
     "text": [
      "\r",
      " 77%|███████▋  | 333/434 [00:49<00:15,  6.45it/s]"
     ]
    },
    {
     "name": "stderr",
     "output_type": "stream",
     "text": [
      "\r",
      " 77%|███████▋  | 335/434 [00:49<00:12,  7.71it/s]"
     ]
    },
    {
     "name": "stderr",
     "output_type": "stream",
     "text": [
      "\r",
      " 77%|███████▋  | 336/434 [00:49<00:12,  7.77it/s]"
     ]
    },
    {
     "name": "stderr",
     "output_type": "stream",
     "text": [
      "\r",
      " 78%|███████▊  | 338/434 [00:50<00:14,  6.62it/s]"
     ]
    },
    {
     "name": "stderr",
     "output_type": "stream",
     "text": [
      "\r",
      " 78%|███████▊  | 340/434 [00:50<00:12,  7.32it/s]"
     ]
    },
    {
     "name": "stderr",
     "output_type": "stream",
     "text": [
      "\r",
      " 79%|███████▊  | 341/434 [00:50<00:13,  6.70it/s]"
     ]
    },
    {
     "name": "stderr",
     "output_type": "stream",
     "text": [
      "\r",
      " 79%|███████▉  | 342/434 [00:50<00:15,  6.10it/s]"
     ]
    },
    {
     "name": "stderr",
     "output_type": "stream",
     "text": [
      "\r",
      " 79%|███████▉  | 344/434 [00:50<00:12,  7.35it/s]"
     ]
    },
    {
     "name": "stderr",
     "output_type": "stream",
     "text": [
      "\r",
      " 80%|███████▉  | 347/434 [00:51<00:11,  7.30it/s]"
     ]
    },
    {
     "name": "stderr",
     "output_type": "stream",
     "text": [
      "\r",
      " 80%|████████  | 348/434 [00:51<00:13,  6.34it/s]"
     ]
    },
    {
     "name": "stderr",
     "output_type": "stream",
     "text": [
      "\r",
      " 81%|████████  | 350/434 [00:51<00:12,  6.87it/s]"
     ]
    },
    {
     "name": "stderr",
     "output_type": "stream",
     "text": [
      "\r",
      " 81%|████████  | 351/434 [00:52<00:11,  6.92it/s]"
     ]
    },
    {
     "name": "stderr",
     "output_type": "stream",
     "text": [
      "\r",
      " 82%|████████▏ | 354/434 [00:52<00:11,  7.11it/s]"
     ]
    },
    {
     "name": "stderr",
     "output_type": "stream",
     "text": [
      "\r",
      " 82%|████████▏ | 355/434 [00:52<00:11,  6.62it/s]"
     ]
    },
    {
     "name": "stderr",
     "output_type": "stream",
     "text": [
      "\r",
      " 82%|████████▏ | 356/434 [00:52<00:12,  6.26it/s]"
     ]
    },
    {
     "name": "stderr",
     "output_type": "stream",
     "text": [
      "\r",
      " 82%|████████▏ | 357/434 [00:52<00:11,  6.81it/s]"
     ]
    },
    {
     "name": "stderr",
     "output_type": "stream",
     "text": [
      "\r",
      " 83%|████████▎ | 359/434 [00:53<00:09,  8.25it/s]"
     ]
    },
    {
     "name": "stderr",
     "output_type": "stream",
     "text": [
      "\r",
      " 83%|████████▎ | 361/434 [00:53<00:07, 10.15it/s]"
     ]
    },
    {
     "name": "stderr",
     "output_type": "stream",
     "text": [
      "\r",
      " 84%|████████▎ | 363/434 [00:54<00:14,  5.02it/s]"
     ]
    },
    {
     "name": "stderr",
     "output_type": "stream",
     "text": [
      "\r",
      " 84%|████████▍ | 365/434 [00:54<00:11,  5.77it/s]"
     ]
    },
    {
     "name": "stderr",
     "output_type": "stream",
     "text": [
      "\r",
      " 84%|████████▍ | 366/434 [00:54<00:14,  4.71it/s]"
     ]
    },
    {
     "name": "stderr",
     "output_type": "stream",
     "text": [
      "\r",
      " 85%|████████▌ | 369/434 [00:54<00:09,  7.16it/s]"
     ]
    },
    {
     "name": "stderr",
     "output_type": "stream",
     "text": [
      "\r",
      " 85%|████████▌ | 371/434 [00:54<00:08,  7.87it/s]"
     ]
    },
    {
     "name": "stderr",
     "output_type": "stream",
     "text": [
      "\r",
      " 86%|████████▌ | 373/434 [00:55<00:08,  7.36it/s]"
     ]
    },
    {
     "name": "stderr",
     "output_type": "stream",
     "text": [
      "\r",
      " 86%|████████▌ | 374/434 [00:55<00:08,  7.23it/s]"
     ]
    },
    {
     "name": "stderr",
     "output_type": "stream",
     "text": [
      "\r",
      " 86%|████████▋ | 375/434 [00:55<00:11,  5.24it/s]"
     ]
    },
    {
     "name": "stderr",
     "output_type": "stream",
     "text": [
      "\r",
      " 87%|████████▋ | 376/434 [00:56<00:10,  5.30it/s]"
     ]
    },
    {
     "name": "stderr",
     "output_type": "stream",
     "text": [
      "\r",
      " 87%|████████▋ | 377/434 [00:56<00:11,  4.91it/s]"
     ]
    },
    {
     "name": "stderr",
     "output_type": "stream",
     "text": [
      "\r",
      " 87%|████████▋ | 378/434 [00:56<00:10,  5.17it/s]"
     ]
    },
    {
     "name": "stderr",
     "output_type": "stream",
     "text": [
      "\r",
      " 88%|████████▊ | 380/434 [00:57<00:12,  4.32it/s]"
     ]
    },
    {
     "name": "stderr",
     "output_type": "stream",
     "text": [
      "\r",
      " 88%|████████▊ | 381/434 [00:57<00:12,  4.40it/s]"
     ]
    },
    {
     "name": "stderr",
     "output_type": "stream",
     "text": [
      "\r",
      " 89%|████████▊ | 385/434 [00:57<00:06,  8.04it/s]"
     ]
    },
    {
     "name": "stderr",
     "output_type": "stream",
     "text": [
      "\r",
      " 89%|████████▉ | 387/434 [00:57<00:05,  7.95it/s]"
     ]
    },
    {
     "name": "stderr",
     "output_type": "stream",
     "text": [
      "\r",
      " 90%|█████████ | 391/434 [00:57<00:04, 10.38it/s]"
     ]
    },
    {
     "name": "stderr",
     "output_type": "stream",
     "text": [
      "\r",
      " 91%|█████████ | 393/434 [00:58<00:05,  7.05it/s]"
     ]
    },
    {
     "name": "stderr",
     "output_type": "stream",
     "text": [
      "\r",
      " 91%|█████████ | 394/434 [00:59<00:07,  5.01it/s]"
     ]
    },
    {
     "name": "stderr",
     "output_type": "stream",
     "text": [
      "\r",
      " 91%|█████████ | 395/434 [00:59<00:08,  4.72it/s]"
     ]
    },
    {
     "name": "stderr",
     "output_type": "stream",
     "text": [
      "\r",
      " 91%|█████████▏| 397/434 [00:59<00:05,  6.29it/s]"
     ]
    },
    {
     "name": "stderr",
     "output_type": "stream",
     "text": [
      "\r",
      " 92%|█████████▏| 398/434 [00:59<00:05,  6.74it/s]"
     ]
    },
    {
     "name": "stderr",
     "output_type": "stream",
     "text": [
      "\r",
      " 92%|█████████▏| 399/434 [00:59<00:05,  6.96it/s]"
     ]
    },
    {
     "name": "stderr",
     "output_type": "stream",
     "text": [
      "\r",
      " 92%|█████████▏| 400/434 [00:59<00:05,  6.68it/s]"
     ]
    },
    {
     "name": "stderr",
     "output_type": "stream",
     "text": [
      "\r",
      " 92%|█████████▏| 401/434 [00:59<00:05,  6.17it/s]"
     ]
    },
    {
     "name": "stderr",
     "output_type": "stream",
     "text": [
      "\r",
      " 93%|█████████▎| 402/434 [01:00<00:05,  5.71it/s]"
     ]
    },
    {
     "name": "stderr",
     "output_type": "stream",
     "text": [
      "\r",
      " 93%|█████████▎| 403/434 [01:00<00:07,  4.05it/s]"
     ]
    },
    {
     "name": "stderr",
     "output_type": "stream",
     "text": [
      "\r",
      " 93%|█████████▎| 405/434 [01:00<00:05,  5.21it/s]"
     ]
    },
    {
     "name": "stderr",
     "output_type": "stream",
     "text": [
      "\r",
      " 94%|█████████▎| 406/434 [01:01<00:05,  5.16it/s]"
     ]
    },
    {
     "name": "stderr",
     "output_type": "stream",
     "text": [
      "\r",
      " 94%|█████████▍| 407/434 [01:01<00:05,  4.87it/s]"
     ]
    },
    {
     "name": "stderr",
     "output_type": "stream",
     "text": [
      "\r",
      " 94%|█████████▍| 409/434 [01:01<00:03,  7.02it/s]"
     ]
    },
    {
     "name": "stderr",
     "output_type": "stream",
     "text": [
      "\r",
      " 94%|█████████▍| 410/434 [01:01<00:03,  6.76it/s]"
     ]
    },
    {
     "name": "stderr",
     "output_type": "stream",
     "text": [
      "\r",
      " 95%|█████████▍| 412/434 [01:02<00:03,  5.70it/s]"
     ]
    },
    {
     "name": "stderr",
     "output_type": "stream",
     "text": [
      "\r",
      " 95%|█████████▌| 413/434 [01:02<00:03,  6.04it/s]"
     ]
    },
    {
     "name": "stderr",
     "output_type": "stream",
     "text": [
      "\r",
      " 96%|█████████▌| 415/434 [01:02<00:02,  7.27it/s]"
     ]
    },
    {
     "name": "stderr",
     "output_type": "stream",
     "text": [
      "\r",
      " 96%|█████████▌| 416/434 [01:02<00:02,  7.08it/s]"
     ]
    },
    {
     "name": "stderr",
     "output_type": "stream",
     "text": [
      "\r",
      " 96%|█████████▌| 417/434 [01:02<00:02,  6.83it/s]"
     ]
    },
    {
     "name": "stderr",
     "output_type": "stream",
     "text": [
      "\r",
      " 96%|█████████▋| 418/434 [01:02<00:02,  6.90it/s]"
     ]
    },
    {
     "name": "stderr",
     "output_type": "stream",
     "text": [
      "\r",
      " 97%|█████████▋| 419/434 [01:02<00:02,  7.19it/s]"
     ]
    },
    {
     "name": "stderr",
     "output_type": "stream",
     "text": [
      "\r",
      " 97%|█████████▋| 421/434 [01:03<00:01,  7.28it/s]"
     ]
    },
    {
     "name": "stderr",
     "output_type": "stream",
     "text": [
      "\r",
      " 97%|█████████▋| 422/434 [01:03<00:01,  7.24it/s]"
     ]
    },
    {
     "name": "stderr",
     "output_type": "stream",
     "text": [
      "\r",
      " 98%|█████████▊| 424/434 [01:03<00:01,  8.78it/s]"
     ]
    },
    {
     "name": "stderr",
     "output_type": "stream",
     "text": [
      "\r",
      " 98%|█████████▊| 426/434 [01:03<00:01,  7.35it/s]"
     ]
    },
    {
     "name": "stderr",
     "output_type": "stream",
     "text": [
      "\r",
      " 98%|█████████▊| 427/434 [01:04<00:01,  5.57it/s]"
     ]
    },
    {
     "name": "stderr",
     "output_type": "stream",
     "text": [
      "\r",
      " 99%|█████████▊| 428/434 [01:04<00:01,  5.58it/s]"
     ]
    },
    {
     "name": "stderr",
     "output_type": "stream",
     "text": [
      "\r",
      " 99%|█████████▉| 429/434 [01:04<00:00,  5.08it/s]"
     ]
    },
    {
     "name": "stderr",
     "output_type": "stream",
     "text": [
      "\r",
      " 99%|█████████▉| 431/434 [01:04<00:00,  7.24it/s]"
     ]
    },
    {
     "name": "stderr",
     "output_type": "stream",
     "text": [
      "\r",
      "100%|█████████▉| 433/434 [01:04<00:00,  7.79it/s]"
     ]
    },
    {
     "name": "stderr",
     "output_type": "stream",
     "text": [
      "\r",
      "100%|██████████| 434/434 [01:09<00:00,  1.08s/it]"
     ]
    },
    {
     "name": "stderr",
     "output_type": "stream",
     "text": [
      "\r",
      "100%|██████████| 434/434 [01:09<00:00,  6.23it/s]"
     ]
    },
    {
     "name": "stderr",
     "output_type": "stream",
     "text": [
      "\n"
     ]
    },
    {
     "name": "stdout",
     "output_type": "stream",
     "text": [
      "\n",
      "rate limit: 7 \n",
      "API calls: create: 0, read: 2, update: 434, delete: 0, backoff: 7\n",
      "errors:\n",
      "  503: Service Unavailable: 8\n"
     ]
    },
    {
     "name": "stderr",
     "output_type": "stream",
     "text": [
      "\r",
      "  0%|          | 0/1 [00:00<?, ?it/s]"
     ]
    },
    {
     "name": "stderr",
     "output_type": "stream",
     "text": [
      "\r",
      "100%|██████████| 1/1 [00:00<00:00,  1.18it/s]"
     ]
    },
    {
     "name": "stderr",
     "output_type": "stream",
     "text": [
      "\r",
      "100%|██████████| 1/1 [00:00<00:00,  1.18it/s]"
     ]
    },
    {
     "name": "stdout",
     "output_type": "stream",
     "text": [
      "\n",
      "rate limit: 7 \n",
      "API calls: create: 0, read: 1, update: 1, delete: 0, backoff: 0\n"
     ]
    },
    {
     "name": "stderr",
     "output_type": "stream",
     "text": [
      "\n"
     ]
    }
   ],
   "source": [
    "# load de gewenste kolom volgorde uit een file en publiceer\n",
    "async def publish(df):\n",
    "  df2 = df.set_index('Code')\n",
    "  m = (df2 == np.inf)\n",
    "  df2 = df2.loc[m.any(axis=1), m.any(axis=0)]\n",
    "  display(df2.head())\n",
    "\n",
    "  os.makedirs('artifacts', exist_ok = True)\n",
    "  df.to_csv('artifacts/RegioV2.csv', index=True)\n",
    "\n",
    "  if knack:\n",
    "    print('updating knack')\n",
    "    await knack.update(objectName='RegioV2', df=df, slack=Munch(msg='\\n'.join(Cache.actions), emoji=None))\n",
    "    await knack.timestamps('RegioV2', Cache.timestamps)\n",
    "\n",
    "order = pd.read_csv('RegioV2.csv')\n",
    "await publish(regios[order.columns.values].fillna(0))"
   ]
  }
 ],
 "metadata": {
  "jupytext": {
   "cell_metadata_filter": "title,-all"
  },
  "kernelspec": {
   "display_name": "Python 3",
   "language": "python",
   "name": "python3"
  },
  "language_info": {
   "codemirror_mode": {
    "name": "ipython",
    "version": 3
   },
   "file_extension": ".py",
   "mimetype": "text/x-python",
   "name": "python",
   "nbconvert_exporter": "python",
   "pygments_lexer": "ipython3",
   "version": "3.9.1"
  },
  "papermill": {
   "default_parameters": {},
   "duration": 168.060371,
   "end_time": "2021-02-21T14:35:33.980601",
   "environment_variables": {},
   "exception": null,
   "input_path": "-",
   "output_path": "RegioV2.ipynb",
   "parameters": {},
   "start_time": "2021-02-21T14:32:45.920230",
   "version": "2.3.2"
  }
 },
 "nbformat": 4,
 "nbformat_minor": 5
}