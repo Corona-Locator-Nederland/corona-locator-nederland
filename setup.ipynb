{
 "cells": [
  {
   "cell_type": "code",
   "execution_count": null,
   "metadata": {
    "lines_to_next_cell": 0
   },
   "outputs": [],
   "source": [
    "# To add a new cell, type '# %%'\n",
    "# To add a new markdown cell, type '# %% [markdown]'"
   ]
  },
  {
   "cell_type": "code",
   "execution_count": null,
   "metadata": {
    "lines_to_next_cell": 2
   },
   "outputs": [],
   "source": [
    "from IPython import get_ipython\n",
    "get_ipython().run_line_magic('load_ext', 'autoreload')\n",
    "get_ipython().run_line_magic('autoreload', '2')\n",
    "\n",
    "from dotenv import load_dotenv, find_dotenv\n",
    "dot_env = find_dotenv()\n",
    "if dot_env == '': dot_env = find_dotenv(filename='dot.env')\n",
    "load_dotenv(dot_env, override=True)\n",
    "\n",
    "from ruamel.yaml import YAML\n",
    "yaml = YAML(typ='safe')\n",
    "\n",
    "from urllib.request import urlopen\n",
    "from urllib.request import urlretrieve\n",
    "import pandas as pd\n",
    "import numpy as np\n",
    "import json\n",
    "import datetime\n",
    "import requests\n",
    "import json\n",
    "import math\n",
    "import os\n",
    "import seaborn as sns\n",
    "import glob\n",
    "from dateutil.parser import parse as parsedate\n",
    "import functools\n",
    "import matplotlib.colors as colors\n",
    "#from types import SimpleNamespace\n",
    "\n",
    "if 'KNACK_APP_ID' in os.environ:\n",
    "  from knack import Knack\n",
    "  knack = Knack(app_id = os.environ['KNACK_APP_ID'], api_key = os.environ['KNACK_API_KEY'])\n",
    "else:\n",
    "  knack = None\n",
    "\n",
    "def run(*args):\n",
    "  if len(args) == 1 and callable(args[0]):\n",
    "    return args[0]()\n",
    "  else:\n",
    "    print(*args)\n",
    "    return lambda func: func()\n",
    "\n",
    "# https://www.cbs.nl/nl-nl/onze-diensten/open-data/open-data-v4/snelstartgids-odata-v4\n",
    "def get_odata(url):\n",
    "  data = pd.DataFrame()\n",
    "  top = 100\n",
    "  skip = 0\n",
    "  sep = '?' if not '?' in url else '&'\n",
    "  while True\n",
    "    r = requests.get(f'{url}{sep}$top={top}&$skip={skip}').json()\n",
    "    if len(r['value']) == 0:\n",
    "      break\n",
    "    data = data.append(pd.DataFrame(r['value']))\n",
    "    skip += top\n",
    "  return data"
   ]
  }
 ],
 "metadata": {
  "jupytext": {
   "cell_metadata_filter": "-all"
  },
  "kernelspec": {
   "display_name": "Python 3",
   "language": "python",
   "name": "python3"
  }
 },
 "nbformat": 4,
 "nbformat_minor": 4
}
