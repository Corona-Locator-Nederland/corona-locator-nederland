{
 "cells": [
  {
   "cell_type": "code",
   "execution_count": null,
   "metadata": {
    "lines_to_next_cell": 0
   },
   "outputs": [],
   "source": [
    "# To add a new cell, type '# %%'\n",
    "# To add a new markdown cell, type '# %% [markdown]'"
   ]
  },
  {
   "cell_type": "code",
   "execution_count": null,
   "metadata": {
    "lines_to_next_cell": 1
   },
   "outputs": [],
   "source": [
    "from IPython import get_ipython\n",
    "get_ipython().run_line_magic('run', 'setup')\n",
    "import gspread\n",
    "import df2gspread as d2g\n",
    "\n",
    "gc = gspread.service_account()\n",
    "sh = gc.open_by_key('1OOXPXubXqnsOdNckUvVqt5M6b6q9oMwJMKhSbK4BQyk')\n",
    "ws = sh.get_worksheet(0)\n",
    "\n",
    "def publish(df):\n",
    "  sh.values_clear(\"'Regios'!A1:ZZ10000\")\n",
    "  sh.values_clear(\"'Regios'!A1:ZZ10000\")\n",
    "  ws.update([df.columns.values.tolist()] + df.values.tolist())"
   ]
  },
  {
   "cell_type": "code",
   "execution_count": null,
   "metadata": {
    "lines_to_next_cell": 0
   },
   "outputs": [],
   "source": [
    "@run('regios: download gemeenten en hun codes')\n",
    "def cell():\n",
    "  global gemeenten\n",
    "  global bevolking\n",
    "  gemeenten = pd.read_csv('gemeenten.csv')\n",
    "\n",
    "  base = 'https://opendata.cbs.nl/ODataApi/OData/37230ned'\n",
    "\n",
    "  # voor perioden pak de laatste\n",
    "  periode = get_odata(base + '/Perioden').iloc[[-1]]['Key'].values[0]\n",
    "\n",
    "  # startsWith would have been better to do in the filter but then the CBS \"odata-ish\" server responds with\n",
    "  # \"Object reference not set to an instance of an object.\"\n",
    "  bevolking = get_odata(base + f\"/TypedDataSet?$filter=(Perioden eq '{periode}')&$select=RegioS, BevolkingAanHetBeginVanDePeriode_1\")\n",
    "  bevolking = bevolking[bevolking.RegioS.str.startswith('GM')]\n",
    "  bevolking.set_index('RegioS', inplace=True)\n",
    "  # die _1 betekent waarschijnlijk dat het gedrag ooit gewijzigd is en er een nieuwe \"versie\" van die kolom is gepubliceerd\n",
    "  bevolking.rename(columns = {'BevolkingAanHetBeginVanDePeriode_1': 'BevolkingAanHetBeginVanDePeriode'}, inplace = True)\n",
    "  gemeenten = gemeenten.merge(bevolking, how='left', left_on='Code', right_index=True)\n",
    "  gemeenten.loc[gemeenten.Personen == 0, 'Personen'] = gemeenten.BevolkingAanHetBeginVanDePeriode\n",
    "\n",
    "  gemeenten = gemeenten[['Type', 'Landcode', 'GGD regio', 'Veiligheidsregio', 'Veiligheidsregio Code', 'Provincie', 'Landsdeel', 'Schoolregio', 'Personen', 'Opp land km2', 'Naam', 'Code']]\n",
    "  publish(gemeenten.fillna(0))\n",
    "  "
   ]
  },
  {
   "cell_type": "code",
   "execution_count": null,
   "metadata": {},
   "outputs": [],
   "source": []
  },
  {
   "cell_type": "code",
   "execution_count": null,
   "metadata": {},
   "outputs": [],
   "source": [
    "@run('regios: RIVM cijfers')\n",
    "def cell():    \n",
    "    global aantallen_gemeenten\n",
    "    aantallen_gemeenten = rivm_cijfers('COVID-19_aantallen_gemeente_per_dag')\n",
    "    # vervang lege gemeentecodes door de fallback 'GM0000'\n",
    "    aantallen_gemeenten['Municipality_code'] = aantallen_gemeenten['Municipality_code'].fillna('GM0000')\n",
    "    # knip de tijd van de datum af\n",
    "    aantallen_gemeenten.Date_of_report = aantallen_gemeenten.Date_of_report.str.replace(' .*', '', regex=True)\n",
    "\n",
    "    # simpele sum over groepering op gemeentecode, met rename\n",
    "    positief_overleden = aantallen_gemeenten.groupby(['Municipality_code'])[['Total_reported', 'Deceased']].sum()\n",
    "    positief_overleden.rename(columns={'Total_reported':'Positief getest', 'Deceased':'Overleden'}, inplace=True)\n",
    "    \n",
    "    # simpele sum over groepering op gemeentecode, met rename, voor records op de datum van publicatie\n",
    "    positief_overleden_toename = aantallen_gemeenten[aantallen_gemeenten.Date_of_report == aantallen_gemeenten.Date_of_publication].groupby(['Municipality_code'])[['Total_reported', 'Deceased']].sum()\n",
    "    positief_overleden_toename.rename(columns={'Total_reported':'Positief getest (toename)', 'Deceased':'Overleden (toename)'}, inplace=True)\n",
    "    #Positief getest (toename)\n",
    "    \n",
    "    # al hetzelfde nog eens voor ziekenhuis opnames\n",
    "    global ziekenhuisopnames\n",
    "    ziekenhuisopnames = rivm_cijfers('COVID-19_ziekenhuisopnames')\n",
    "    ziekenhuisopnames['Municipality_code'] = ziekenhuisopnames['Municipality_code'].fillna('GM0000')\n",
    "    ziekenhuisopnames.Date_of_report = ziekenhuisopnames.Date_of_report.str.replace(' .*', '', regex=True)\n",
    "\n",
    "    admissions = ziekenhuisopnames.groupby(['Municipality_code'])[['Hospital_admission']].sum()\n",
    "    admissions.rename(columns={'Hospital_admission':'Ziekenhuisopname'}, inplace=True)\n",
    "    admissions_toename = ziekenhuisopnames[ziekenhuisopnames.Date_of_report == ziekenhuisopnames.Date_of_statistics].groupby(['Municipality_code'])[['Hospital_admission']].sum()\n",
    "    admissions_toename.rename(columns={'Hospital_admission':'Ziekenhuisopname (toename)'}, inplace=True)\n",
    "\n",
    "    # en plak het zwik aan elkaar\n",
    "    publish(\n",
    "        gemeenten\n",
    "        .merge(positief_overleden, how='left', left_on='Code', right_index=True)\n",
    "        .merge(admissions, how='left', left_on='Code', right_index=True)\n",
    "        .merge(positief_overleden_toename, how='left', left_on='Code', right_index=True)\n",
    "        .merge(admissions_toename, how='left', left_on='Code', right_index=True)\n",
    "        .fillna(0)\n",
    "    )"
   ]
  },
  {
   "cell_type": "code",
   "execution_count": null,
   "metadata": {},
   "outputs": [],
   "source": [
    "ziekenhuisopnames.groupby(['Date_of_statistics'])[['Hospital_admission']].sum()"
   ]
  },
  {
   "cell_type": "code",
   "execution_count": null,
   "metadata": {},
   "outputs": [],
   "source": []
  }
 ],
 "metadata": {
  "jupytext": {
   "cell_metadata_filter": "-all"
  },
  "kernelspec": {
   "display_name": "Python 3",
   "language": "python",
   "name": "python3"
  }
 },
 "nbformat": 4,
 "nbformat_minor": 4
}
