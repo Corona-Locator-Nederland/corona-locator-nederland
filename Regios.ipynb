{
 "cells": [
  {
   "cell_type": "code",
   "execution_count": null,
   "metadata": {
    "lines_to_next_cell": 0
   },
   "outputs": [],
   "source": [
    "# To add a new cell, type '# %%'\n",
    "# To add a new markdown cell, type '# %% [markdown]'"
   ]
  },
  {
   "cell_type": "code",
   "execution_count": null,
   "metadata": {
    "lines_to_next_cell": 1
   },
   "outputs": [],
   "source": [
    "from IPython import get_ipython\n",
    "get_ipython().run_line_magic('run', 'setup')\n",
    "import gspread\n",
    "import df2gspread as d2g\n",
    "\n",
    "gc = gspread.service_account()\n",
    "sh = gc.open_by_key('1OOXPXubXqnsOdNckUvVqt5M6b6q9oMwJMKhSbK4BQyk')\n",
    "ws = sh.get_worksheet(0)\n",
    "\n",
    "def publish(df):\n",
    "  sh.values_clear(\"'Regios'!A1:ZZ10000\")\n",
    "  sh.values_clear(\"'Regios'!A1:ZZ10000\")\n",
    "  ws.update([df.columns.values.tolist()] + df.values.tolist())"
   ]
  },
  {
   "cell_type": "code",
   "execution_count": null,
   "metadata": {
    "lines_to_next_cell": 0
   },
   "outputs": [],
   "source": [
    "@run('regios: download gemeenten en hun codes')\n",
    "def cell():\n",
    "  global gemeenten\n",
    "  gemeenten = pd.read_csv('gemeenten.csv')\n",
    "\n",
    "  base = 'https://opendata.cbs.nl/ODataApi/OData/37230ned'\n",
    "\n",
    "  # voor perioden pak de laatste\n",
    "  periode = get_odata(base + '/Perioden').iloc[[-1]]['Key'].values[0]\n",
    "\n",
    "  # startsWith would have been better to do in the filter but then the CBS \"odata-ish\" server responds with\n",
    "  # \"Object reference not set to an instance of an object.\"\n",
    "  bevolking = get_odata(base + f\"/TypedDataSet?$filter=(Perioden eq '{periode}')&$select=RegioS, BevolkingAanHetBeginVanDePeriode_1\")\n",
    "  bevolking = bevolking[bevolking.RegioS.str.startswith('GM')]\n",
    "  # die _1 betekent waarschijnlijk dat het gedrag ooit gewijzigd is en er een nieuwe \"versie\" van die kolom is gepubliceerd\n",
    "  bevolking.rename(columns = {'BevolkingAanHetBeginVanDePeriode_1': 'BevolkingAanHetBeginVanDePeriode'}, inplace = True)\n",
    "  gemeenten = gemeenten.merge(bevolking, how='left', left_on='Code', right_on='RegioS')\n",
    "  gemeenten = gemeenten[~np.isnan(gemeenten.BevolkingAanHetBeginVanDePeriode)]\n",
    "  publish(gemeenten)"
   ]
  },
  {
   "cell_type": "code",
   "execution_count": null,
   "metadata": {},
   "outputs": [],
   "source": [
    "# Download de bevolkings cijfers van CBS, uitgesplitst op gemeenten\n",
    "@run('regios: download demografische data van CBS')\n",
    "def cell():"
   ]
  },
  {
   "cell_type": "code",
   "execution_count": null,
   "metadata": {
    "lines_to_next_cell": 2
   },
   "outputs": [],
   "source": [
    "gc = gspread.service_account()\n",
    "sh = gc.open_by_key('1OOXPXubXqnsOdNckUvVqt5M6b6q9oMwJMKhSbK4BQyk')\n",
    "ws = sh.get_worksheet(0)\n",
    "sh.values_clear(\"'Regios'!A1:ZZ10000\")\n",
    "ws.update([gemeenten.columns.values.tolist()] + gemeenten.values.tolist())"
   ]
  }
 ],
 "metadata": {
  "jupytext": {
   "cell_metadata_filter": "-all"
  },
  "kernelspec": {
   "display_name": "Python 3",
   "language": "python",
   "name": "python3"
  }
 },
 "nbformat": 4,
 "nbformat_minor": 4
}
