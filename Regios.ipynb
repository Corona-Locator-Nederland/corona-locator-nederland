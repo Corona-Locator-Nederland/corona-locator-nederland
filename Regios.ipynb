{
 "cells": [
  {
   "cell_type": "code",
   "execution_count": 1,
   "metadata": {
    "lines_to_next_cell": 0
   },
   "outputs": [],
   "source": [
    "# To add a new cell, type '# %%'\n",
    "# To add a new markdown cell, type '# %% [markdown]'"
   ]
  },
  {
   "cell_type": "code",
   "execution_count": 94,
   "metadata": {
    "lines_to_next_cell": 1
   },
   "outputs": [
    {
     "output_type": "stream",
     "name": "stdout",
     "text": [
      "The autoreload extension is already loaded. To reload it, use:\n  %reload_ext autoreload\n"
     ]
    }
   ],
   "source": [
    "from IPython import get_ipython\n",
    "get_ipython().run_line_magic('run', 'setup')\n",
    "import gspread\n",
    "import df2gspread as d2\n",
    "import itertools\n",
    "\n",
    "gc = gspread.service_account()\n",
    "sh = gc.open_by_key('1OOXPXubXqnsOdNckUvVqt5M6b6q9oMwJMKhSbK4BQyk')\n",
    "ws = sh.get_worksheet(0)\n",
    "\n",
    "def publish(df):\n",
    "  df = df.reset_index(level=0)\n",
    "  sh.values_clear(\"'Regios'!A1:ZZ10000\")\n",
    "  sh.values_clear(\"'Regios'!A1:ZZ10000\")\n",
    "  ws.update([df.columns.values.tolist()] + df.values.tolist())"
   ]
  },
  {
   "cell_type": "code",
   "execution_count": 3,
   "metadata": {
    "lines_to_next_cell": 0
   },
   "outputs": [
    {
     "output_type": "stream",
     "name": "stdout",
     "text": [
      "regios: download gemeenten en hun codes\nhttps://opendata.cbs.nl/ODataApi/OData/37230ned/Perioden\nhttps://opendata.cbs.nl/ODataApi/OData/37230ned/TypedDataSet?$filter=(Perioden eq '2020MM11')&$select=RegioS, BevolkingAanHetBeginVanDePeriode_1\n"
     ]
    },
    {
     "output_type": "display_data",
     "data": {
      "text/plain": "            Type Landcode                      GGD regio  \\\nCode                                                       \nGM0000  Gemeente       NL                            NaN   \nGM1680  Gemeente       NL                    GGD Drenthe   \nGM0358  Gemeente       NL                  GGD Amsterdam   \nGM0197  Gemeente       NL  GGD Noord- en Oost-Gelderland   \nGM0059  Gemeente       NL                    GGD Fryslân   \n...          ...      ...                            ...   \nGM0879  Gemeente       NL               GGD West-Brabant   \nGM0301  Gemeente       NL  GGD Noord- en Oost-Gelderland   \nGM1896  Gemeente       NL                 GGD IJsselland   \nGM0642  Gemeente       NL          GGD Zuid-Holland Zuid   \nGM0193  Gemeente       NL                 GGD IJsselland   \n\n                 Veiligheidsregio Veiligheidsregio Code      Provincie  \\\nCode                                                                     \nGM0000                        NaN                   NaN            NaN   \nGM1680                    Drenthe                  VR03        Drenthe   \nGM0358       Amsterdam-Amstelland                  VR13  Noord-Holland   \nGM0197  Noord- en Oost-Gelderland                  VR06     Gelderland   \nGM0059                    Fryslân                  VR02      Friesland   \n...                           ...                   ...            ...   \nGM0879    Midden- en West-Brabant                  VR20  Noord-Brabant   \nGM0301  Noord- en Oost-Gelderland                  VR06     Gelderland   \nGM1896                 IJsselland                  VR04     Overijssel   \nGM0642          Zuid-Holland-Zuid                  VR18   Zuid-Holland   \nGM0193                 IJsselland                  VR04     Overijssel   \n\n              Landsdeel Schoolregio  Personen  Opp land km2  \\\nCode                                                          \nGM0000              NaN         NaN       NaN             0   \nGM1680  Noord-Nederland       Noord   25366.0           276   \nGM0358   West-Nederland       Noord   31957.0            20   \nGM0197   Oost-Nederland      Midden   27133.0            97   \nGM0059  Noord-Nederland       Noord   27881.0           102   \n...                 ...         ...       ...           ...   \nGM0879   Zuid-Nederland        Zuid   21995.0           121   \nGM0301   Oost-Nederland      Midden   48105.0            41   \nGM1896   Oost-Nederland       Noord   22797.0            82   \nGM0642   West-Nederland      Midden   44763.0            20   \nGM0193   Oost-Nederland       Noord  129697.0           111   \n\n                       Naam  \nCode                         \nGM0000  (niet gedefinieerd)  \nGM1680          Aa en Hunze  \nGM0358             Aalsmeer  \nGM0197               Aalten  \nGM0059        Achtkarspelen  \n...                     ...  \nGM0879              Zundert  \nGM0301              Zutphen  \nGM1896      Zwartewaterland  \nGM0642          Zwijndrecht  \nGM0193               Zwolle  \n\n[353 rows x 11 columns]",
      "text/html": "<div>\n<style scoped>\n    .dataframe tbody tr th:only-of-type {\n        vertical-align: middle;\n    }\n\n    .dataframe tbody tr th {\n        vertical-align: top;\n    }\n\n    .dataframe thead th {\n        text-align: right;\n    }\n</style>\n<table border=\"1\" class=\"dataframe\">\n  <thead>\n    <tr style=\"text-align: right;\">\n      <th></th>\n      <th>Type</th>\n      <th>Landcode</th>\n      <th>GGD regio</th>\n      <th>Veiligheidsregio</th>\n      <th>Veiligheidsregio Code</th>\n      <th>Provincie</th>\n      <th>Landsdeel</th>\n      <th>Schoolregio</th>\n      <th>Personen</th>\n      <th>Opp land km2</th>\n      <th>Naam</th>\n    </tr>\n    <tr>\n      <th>Code</th>\n      <th></th>\n      <th></th>\n      <th></th>\n      <th></th>\n      <th></th>\n      <th></th>\n      <th></th>\n      <th></th>\n      <th></th>\n      <th></th>\n      <th></th>\n    </tr>\n  </thead>\n  <tbody>\n    <tr>\n      <th>GM0000</th>\n      <td>Gemeente</td>\n      <td>NL</td>\n      <td>NaN</td>\n      <td>NaN</td>\n      <td>NaN</td>\n      <td>NaN</td>\n      <td>NaN</td>\n      <td>NaN</td>\n      <td>NaN</td>\n      <td>0</td>\n      <td>(niet gedefinieerd)</td>\n    </tr>\n    <tr>\n      <th>GM1680</th>\n      <td>Gemeente</td>\n      <td>NL</td>\n      <td>GGD Drenthe</td>\n      <td>Drenthe</td>\n      <td>VR03</td>\n      <td>Drenthe</td>\n      <td>Noord-Nederland</td>\n      <td>Noord</td>\n      <td>25366.0</td>\n      <td>276</td>\n      <td>Aa en Hunze</td>\n    </tr>\n    <tr>\n      <th>GM0358</th>\n      <td>Gemeente</td>\n      <td>NL</td>\n      <td>GGD Amsterdam</td>\n      <td>Amsterdam-Amstelland</td>\n      <td>VR13</td>\n      <td>Noord-Holland</td>\n      <td>West-Nederland</td>\n      <td>Noord</td>\n      <td>31957.0</td>\n      <td>20</td>\n      <td>Aalsmeer</td>\n    </tr>\n    <tr>\n      <th>GM0197</th>\n      <td>Gemeente</td>\n      <td>NL</td>\n      <td>GGD Noord- en Oost-Gelderland</td>\n      <td>Noord- en Oost-Gelderland</td>\n      <td>VR06</td>\n      <td>Gelderland</td>\n      <td>Oost-Nederland</td>\n      <td>Midden</td>\n      <td>27133.0</td>\n      <td>97</td>\n      <td>Aalten</td>\n    </tr>\n    <tr>\n      <th>GM0059</th>\n      <td>Gemeente</td>\n      <td>NL</td>\n      <td>GGD Fryslân</td>\n      <td>Fryslân</td>\n      <td>VR02</td>\n      <td>Friesland</td>\n      <td>Noord-Nederland</td>\n      <td>Noord</td>\n      <td>27881.0</td>\n      <td>102</td>\n      <td>Achtkarspelen</td>\n    </tr>\n    <tr>\n      <th>...</th>\n      <td>...</td>\n      <td>...</td>\n      <td>...</td>\n      <td>...</td>\n      <td>...</td>\n      <td>...</td>\n      <td>...</td>\n      <td>...</td>\n      <td>...</td>\n      <td>...</td>\n      <td>...</td>\n    </tr>\n    <tr>\n      <th>GM0879</th>\n      <td>Gemeente</td>\n      <td>NL</td>\n      <td>GGD West-Brabant</td>\n      <td>Midden- en West-Brabant</td>\n      <td>VR20</td>\n      <td>Noord-Brabant</td>\n      <td>Zuid-Nederland</td>\n      <td>Zuid</td>\n      <td>21995.0</td>\n      <td>121</td>\n      <td>Zundert</td>\n    </tr>\n    <tr>\n      <th>GM0301</th>\n      <td>Gemeente</td>\n      <td>NL</td>\n      <td>GGD Noord- en Oost-Gelderland</td>\n      <td>Noord- en Oost-Gelderland</td>\n      <td>VR06</td>\n      <td>Gelderland</td>\n      <td>Oost-Nederland</td>\n      <td>Midden</td>\n      <td>48105.0</td>\n      <td>41</td>\n      <td>Zutphen</td>\n    </tr>\n    <tr>\n      <th>GM1896</th>\n      <td>Gemeente</td>\n      <td>NL</td>\n      <td>GGD IJsselland</td>\n      <td>IJsselland</td>\n      <td>VR04</td>\n      <td>Overijssel</td>\n      <td>Oost-Nederland</td>\n      <td>Noord</td>\n      <td>22797.0</td>\n      <td>82</td>\n      <td>Zwartewaterland</td>\n    </tr>\n    <tr>\n      <th>GM0642</th>\n      <td>Gemeente</td>\n      <td>NL</td>\n      <td>GGD Zuid-Holland Zuid</td>\n      <td>Zuid-Holland-Zuid</td>\n      <td>VR18</td>\n      <td>Zuid-Holland</td>\n      <td>West-Nederland</td>\n      <td>Midden</td>\n      <td>44763.0</td>\n      <td>20</td>\n      <td>Zwijndrecht</td>\n    </tr>\n    <tr>\n      <th>GM0193</th>\n      <td>Gemeente</td>\n      <td>NL</td>\n      <td>GGD IJsselland</td>\n      <td>IJsselland</td>\n      <td>VR04</td>\n      <td>Overijssel</td>\n      <td>Oost-Nederland</td>\n      <td>Noord</td>\n      <td>129697.0</td>\n      <td>111</td>\n      <td>Zwolle</td>\n    </tr>\n  </tbody>\n</table>\n<p>353 rows × 11 columns</p>\n</div>"
     },
     "metadata": {}
    }
   ],
   "source": [
    "@run('regios: download gemeenten en hun codes')\n",
    "def cell():\n",
    "  global gemeenten\n",
    "  global bevolking\n",
    "  gemeenten = pd.read_csv('gemeenten.csv')\n",
    "\n",
    "  base = 'https://opendata.cbs.nl/ODataApi/OData/37230ned'\n",
    "\n",
    "  # voor perioden pak de laatste\n",
    "  periode = get_odata(base + '/Perioden').iloc[[-1]]['Key'].values[0]\n",
    "\n",
    "  # startsWith would have been better to do in the filter but then the CBS \"odata-ish\" server responds with\n",
    "  # \"Object reference not set to an instance of an object.\"\n",
    "  bevolking = get_odata(base + f\"/TypedDataSet?$filter=(Perioden eq '{periode}')&$select=RegioS, BevolkingAanHetBeginVanDePeriode_1\")\n",
    "  # want de CBS odata API snap startsWith niet...\n",
    "  bevolking = bevolking[bevolking.RegioS.str.startswith('GM')]\n",
    "  # die _1 betekent waarschijnlijk dat het gedrag ooit gewijzigd is en er een nieuwe \"versie\" van die kolom is gepubliceerd\n",
    "  bevolking.rename(columns={'RegioS': 'Code', 'BevolkingAanHetBeginVanDePeriode_1': 'BevolkingAanHetBeginVanDePeriode'}, inplace=True)\n",
    "  bevolking.set_index('Code', inplace=True)\n",
    "  \n",
    "  gemeenten = gemeenten.merge(bevolking, how='left', left_on='Code', right_index=True)\n",
    "  gemeenten.loc[gemeenten.Personen == 0, 'Personen'] = gemeenten.BevolkingAanHetBeginVanDePeriode\n",
    "  gemeenten.set_index('Code', inplace=True)\n",
    "\n",
    "  gemeenten = gemeenten[['Type', 'Landcode', 'GGD regio', 'Veiligheidsregio', 'Veiligheidsregio Code', 'Provincie', 'Landsdeel', 'Schoolregio', 'Personen', 'Opp land km2', 'Naam']]\n",
    "  display(gemeenten)\n",
    "  "
   ]
  },
  {
   "cell_type": "code",
   "execution_count": 79,
   "metadata": {},
   "outputs": [
    {
     "output_type": "stream",
     "name": "stdout",
     "text": [
      "regios: RIVM cijfers ophalen\n",
      "downloads/COVID-19_aantallen_gemeente_per_dag-2021-01-14@14-15.csv exists\n",
      "loading 0 downloads/COVID-19_aantallen_gemeente_per_dag-2021-01-14@14-15.csv\n",
      "downloads/COVID-19_ziekenhuisopnames-2021-01-14@14-15.csv exists\n",
      "loading 0 downloads/COVID-19_ziekenhuisopnames-2021-01-14@14-15.csv\n",
      "loading 1 downloads/COVID-19_ziekenhuisopnames-2021-01-13@14-15.csv\n"
     ]
    }
   ],
   "source": [
    "@run('regios: RIVM cijfers ophalen')\n",
    "def cell():\n",
    "    datasets = [\n",
    "        ('aantallen_gemeenten', 'COVID-19_aantallen_gemeente_per_dag', 0),\n",
    "        ('ziekenhuisopnames', 'COVID-19_ziekenhuisopnames', 0),\n",
    "        ('ziekenhuisopnames_gisteren', 'COVID-19_ziekenhuisopnames', 1),\n",
    "    ]\n",
    "    for df, dataset, day in datasets:\n",
    "        globals()[df] = rivm_cijfers(dataset, day)\n",
    "        # vervang lege gemeentecodes door de fallback 'GM0000'\n",
    "        globals()[df]['Municipality_code'] = globals()[df]['Municipality_code'].fillna('GM0000')\n",
    "        # knip de tijd van de datum af\n",
    "        globals()[df].Date_of_report = globals()[df].Date_of_report.str.replace(' .*', '', regex=True)"
   ]
  },
  {
   "cell_type": "code",
   "execution_count": 99,
   "metadata": {},
   "outputs": [
    {
     "output_type": "stream",
     "name": "stdout",
     "text": [
      "regios: absolute aantallen per gemeente\n"
     ]
    },
    {
     "output_type": "display_data",
     "data": {
      "text/plain": "            Type Landcode                      GGD regio  \\\nCode                                                       \nGM0000  Gemeente       NL                              0   \nGM1680  Gemeente       NL                    GGD Drenthe   \nGM0358  Gemeente       NL                  GGD Amsterdam   \nGM0197  Gemeente       NL  GGD Noord- en Oost-Gelderland   \nGM0059  Gemeente       NL                    GGD Fryslân   \n\n                 Veiligheidsregio Veiligheidsregio Code      Provincie  \\\nCode                                                                     \nGM0000                          0                     0              0   \nGM1680                    Drenthe                  VR03        Drenthe   \nGM0358       Amsterdam-Amstelland                  VR13  Noord-Holland   \nGM0197  Noord- en Oost-Gelderland                  VR06     Gelderland   \nGM0059                    Fryslân                  VR02      Friesland   \n\n              Landsdeel Schoolregio  Personen  Opp land km2  ...  \\\nCode                                                         ...   \nGM0000                0           0       0.0             0  ...   \nGM1680  Noord-Nederland       Noord   25366.0           276  ...   \nGM0358   West-Nederland       Noord   31957.0            20  ...   \nGM0197   Oost-Nederland      Midden   27133.0            97  ...   \nGM0059  Noord-Nederland       Noord   27881.0           102  ...   \n\n       Positief getest  Overleden  Ziekenhuisopname  \\\nCode                                                  \nGM0000            3740         32              1091   \nGM1680             711          8                 9   \nGM0358            1607         22                42   \nGM0197            1200         17                41   \nGM0059             815          3                20   \n\n        Positief getest (toename)  Overleden (toename)  \\\nCode                                                     \nGM0000                         71                    0   \nGM1680                         13                    0   \nGM0358                          8                    0   \nGM0197                         11                    0   \nGM0059                         14                    0   \n\n        Ziekenhuisopname (toename)  Positief getest per 100.000  \\\nCode                                                              \nGM0000                          11                     0.000000   \nGM1680                           0                  2802.964598   \nGM0358                           2                  5028.632225   \nGM0197                           1                  4422.658755   \nGM0059                           0                  2923.137621   \n\n        Overleden per 100.000  Ziekenhuisopname per 100.000  \\\nCode                                                          \nGM0000               0.000000                      0.000000   \nGM1680              31.538280                     35.480565   \nGM0358              68.842507                    131.426604   \nGM0197              62.654332                    151.107507   \nGM0059              10.760016                     71.733439   \n\n        Positief getest 1d/100k  \nCode                             \nGM0000                 0.000000  \nGM1680                 8.704859  \nGM0358                15.616870  \nGM0197                13.734965  \nGM0059                 9.078067  \n\n[5 rows x 21 columns]",
      "text/html": "<div>\n<style scoped>\n    .dataframe tbody tr th:only-of-type {\n        vertical-align: middle;\n    }\n\n    .dataframe tbody tr th {\n        vertical-align: top;\n    }\n\n    .dataframe thead th {\n        text-align: right;\n    }\n</style>\n<table border=\"1\" class=\"dataframe\">\n  <thead>\n    <tr style=\"text-align: right;\">\n      <th></th>\n      <th>Type</th>\n      <th>Landcode</th>\n      <th>GGD regio</th>\n      <th>Veiligheidsregio</th>\n      <th>Veiligheidsregio Code</th>\n      <th>Provincie</th>\n      <th>Landsdeel</th>\n      <th>Schoolregio</th>\n      <th>Personen</th>\n      <th>Opp land km2</th>\n      <th>...</th>\n      <th>Positief getest</th>\n      <th>Overleden</th>\n      <th>Ziekenhuisopname</th>\n      <th>Positief getest (toename)</th>\n      <th>Overleden (toename)</th>\n      <th>Ziekenhuisopname (toename)</th>\n      <th>Positief getest per 100.000</th>\n      <th>Overleden per 100.000</th>\n      <th>Ziekenhuisopname per 100.000</th>\n      <th>Positief getest 1d/100k</th>\n    </tr>\n    <tr>\n      <th>Code</th>\n      <th></th>\n      <th></th>\n      <th></th>\n      <th></th>\n      <th></th>\n      <th></th>\n      <th></th>\n      <th></th>\n      <th></th>\n      <th></th>\n      <th></th>\n      <th></th>\n      <th></th>\n      <th></th>\n      <th></th>\n      <th></th>\n      <th></th>\n      <th></th>\n      <th></th>\n      <th></th>\n      <th></th>\n    </tr>\n  </thead>\n  <tbody>\n    <tr>\n      <th>GM0000</th>\n      <td>Gemeente</td>\n      <td>NL</td>\n      <td>0</td>\n      <td>0</td>\n      <td>0</td>\n      <td>0</td>\n      <td>0</td>\n      <td>0</td>\n      <td>0.0</td>\n      <td>0</td>\n      <td>...</td>\n      <td>3740</td>\n      <td>32</td>\n      <td>1091</td>\n      <td>71</td>\n      <td>0</td>\n      <td>11</td>\n      <td>0.000000</td>\n      <td>0.000000</td>\n      <td>0.000000</td>\n      <td>0.000000</td>\n    </tr>\n    <tr>\n      <th>GM1680</th>\n      <td>Gemeente</td>\n      <td>NL</td>\n      <td>GGD Drenthe</td>\n      <td>Drenthe</td>\n      <td>VR03</td>\n      <td>Drenthe</td>\n      <td>Noord-Nederland</td>\n      <td>Noord</td>\n      <td>25366.0</td>\n      <td>276</td>\n      <td>...</td>\n      <td>711</td>\n      <td>8</td>\n      <td>9</td>\n      <td>13</td>\n      <td>0</td>\n      <td>0</td>\n      <td>2802.964598</td>\n      <td>31.538280</td>\n      <td>35.480565</td>\n      <td>8.704859</td>\n    </tr>\n    <tr>\n      <th>GM0358</th>\n      <td>Gemeente</td>\n      <td>NL</td>\n      <td>GGD Amsterdam</td>\n      <td>Amsterdam-Amstelland</td>\n      <td>VR13</td>\n      <td>Noord-Holland</td>\n      <td>West-Nederland</td>\n      <td>Noord</td>\n      <td>31957.0</td>\n      <td>20</td>\n      <td>...</td>\n      <td>1607</td>\n      <td>22</td>\n      <td>42</td>\n      <td>8</td>\n      <td>0</td>\n      <td>2</td>\n      <td>5028.632225</td>\n      <td>68.842507</td>\n      <td>131.426604</td>\n      <td>15.616870</td>\n    </tr>\n    <tr>\n      <th>GM0197</th>\n      <td>Gemeente</td>\n      <td>NL</td>\n      <td>GGD Noord- en Oost-Gelderland</td>\n      <td>Noord- en Oost-Gelderland</td>\n      <td>VR06</td>\n      <td>Gelderland</td>\n      <td>Oost-Nederland</td>\n      <td>Midden</td>\n      <td>27133.0</td>\n      <td>97</td>\n      <td>...</td>\n      <td>1200</td>\n      <td>17</td>\n      <td>41</td>\n      <td>11</td>\n      <td>0</td>\n      <td>1</td>\n      <td>4422.658755</td>\n      <td>62.654332</td>\n      <td>151.107507</td>\n      <td>13.734965</td>\n    </tr>\n    <tr>\n      <th>GM0059</th>\n      <td>Gemeente</td>\n      <td>NL</td>\n      <td>GGD Fryslân</td>\n      <td>Fryslân</td>\n      <td>VR02</td>\n      <td>Friesland</td>\n      <td>Noord-Nederland</td>\n      <td>Noord</td>\n      <td>27881.0</td>\n      <td>102</td>\n      <td>...</td>\n      <td>815</td>\n      <td>3</td>\n      <td>20</td>\n      <td>14</td>\n      <td>0</td>\n      <td>0</td>\n      <td>2923.137621</td>\n      <td>10.760016</td>\n      <td>71.733439</td>\n      <td>9.078067</td>\n    </tr>\n  </tbody>\n</table>\n<p>5 rows × 21 columns</p>\n</div>"
     },
     "metadata": {}
    }
   ],
   "source": [
    "@run('regios: absolute aantallen per gemeente')\n",
    "def cell():\n",
    "    def groepeer_op_gemeente(ag, columns):\n",
    "        # simpele sum over groepering op gemeentecode, met rename\n",
    "        df = ag.groupby(['Municipality_code'])[list(columns.keys())].sum()\n",
    "        df.rename(columns=columns, inplace=True)\n",
    "        return df\n",
    "\n",
    "    positief_overleden = groepeer_op_gemeente(aantallen_gemeenten, {'Total_reported':'Positief getest', 'Deceased':'Overleden'})\n",
    "    # beperk tot records op de datum van publicatie\n",
    "    positief_overleden_toename = groepeer_op_gemeente(\n",
    "        aantallen_gemeenten[aantallen_gemeenten.Date_of_report == aantallen_gemeenten.Date_of_publication],\n",
    "        {'Total_reported':'Positief getest (toename)', 'Deceased':'Overleden (toename)'}\n",
    "    )\n",
    "    #print(positief_overleden.head())\n",
    "    #print(positief_overleden_toename.head())\n",
    "    \n",
    "    admissions = groepeer_op_gemeente(ziekenhuisopnames, {'Hospital_admission':'Ziekenhuisopname'})\n",
    "    admissions_gisteren = groepeer_op_gemeente(ziekenhuisopnames_gisteren, {'Hospital_admission':'Ziekenhuisopname_gisteren'})\n",
    "    admissions_toename = admissions.merge(admissions_gisteren, how='left', on='Municipality_code')\n",
    "\n",
    "    admissions_toename['Ziekenhuisopname (toename)'] = admissions_toename.Ziekenhuisopname - admissions_toename.Ziekenhuisopname_gisteren\n",
    "    del admissions_toename['Ziekenhuisopname']\n",
    "    del admissions_toename['Ziekenhuisopname_gisteren']\n",
    "\n",
    "    # en plak het zwik aan elkaar\n",
    "    global gemeenten\n",
    "    new_columns = [df.columns.tolist() for df in [positief_overleden, positief_overleden_toename, admissions, admissions_toename]]\n",
    "    new_columns = list(itertools.chain(*new_columns))\n",
    "    gemeenten = (gemeenten[[col for col in gemeenten.columns if col not in new_columns and not 'per 100.000' in col and not '100k' in col]]\n",
    "        .merge(positief_overleden, how='left', left_index=True, right_index=True)\n",
    "        .merge(admissions, how='left', left_index=True, right_index=True)\n",
    "        .merge(positief_overleden_toename, how='left', left_index=True, right_index=True)\n",
    "        .merge(admissions_toename, how='left', left_index=True, right_index=True)\n",
    "        .fillna(0)\n",
    "    )\n",
    "\n",
    "    # per 100k voor de absolute kolommen\n",
    "    for df in [positief_overleden, admissions]:\n",
    "        for col in df.columns:\n",
    "            gemeenten[col + ' per 100.000'] = (gemeenten[col] * (100000 / gemeenten.Personen)).replace(np.inf, 0)\n",
    "    \n",
    "    days = (pd.to_datetime(aantallen_gemeenten['Date_of_publication']).max() - pd.to_datetime(aantallen_gemeenten['Date_of_publication']).min()) / np.timedelta64(1, 'D')\n",
    "    gemeenten['Positief getest 1d/100k'] = gemeenten['Positief getest per 100.000'] / days\n",
    "    display(gemeenten.head())\n",
    "    publish(gemeenten.fillna(0))"
   ]
  },
  {
   "cell_type": "code",
   "execution_count": 89,
   "metadata": {},
   "outputs": [
    {
     "output_type": "stream",
     "name": "stdout",
     "text": [
      "2312 2358 46\n"
     ]
    },
    {
     "output_type": "execute_result",
     "data": {
      "text/plain": [
       "Type                             object\n",
       "Landcode                         object\n",
       "GGD regio                        object\n",
       "Veiligheidsregio                 object\n",
       "Veiligheidsregio Code            object\n",
       "Provincie                        object\n",
       "Landsdeel                        object\n",
       "Schoolregio                      object\n",
       "Personen                        float64\n",
       "Opp land km2                      int64\n",
       "Naam                             object\n",
       "Positief getest                   int64\n",
       "Overleden                         int64\n",
       "Ziekenhuisopname                  int64\n",
       "Positief getest (toename)         int64\n",
       "Overleden (toename)               int64\n",
       "Ziekenhuisopname (toename)        int64\n",
       "Positief getest per 100.000     float64\n",
       "Overleden per 100.000           float64\n",
       "Ziekenhuisopname per 100.000    float64\n",
       "Positief getest 1d/100k         float64\n",
       "dtype: object"
      ]
     },
     "metadata": {},
     "execution_count": 89
    }
   ],
   "source": [
    "r = ziekenhuisopnames[ziekenhuisopnames.Municipality_code == 'GM0599']['Hospital_admission'].sum()\n",
    "ry = ziekenhuisopnames_gisteren[ziekenhuisopnames_gisteren.Municipality_code == 'GM0599']['Hospital_admission'].sum()\n",
    "print(ry, r, r - ry)\n",
    "gemeenten.dtypes"
   ]
  },
  {
   "cell_type": "code",
   "execution_count": null,
   "metadata": {},
   "outputs": [],
   "source": []
  }
 ],
 "metadata": {
  "jupytext": {
   "cell_metadata_filter": "-all"
  },
  "kernelspec": {
   "display_name": "Python 3",
   "language": "python",
   "name": "python3"
  }
 },
 "nbformat": 4,
 "nbformat_minor": 4
}