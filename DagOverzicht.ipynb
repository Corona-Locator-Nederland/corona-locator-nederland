{
 "cells": [
  {
   "cell_type": "code",
   "execution_count": null,
   "id": "excellent-institution",
   "metadata": {
    "lines_to_next_cell": 1
   },
   "outputs": [],
   "source": [
    "from IPython import get_ipython\n",
    "from IPython.display import clear_output\n",
    "get_ipython().run_line_magic('run', 'setup')\n",
    "import itertools"
   ]
  },
  {
   "cell_type": "code",
   "execution_count": null,
   "id": "turkish-recommendation",
   "metadata": {
    "lines_to_next_cell": 1
   },
   "outputs": [],
   "source": [
    "@run('set up base frame + overleden + positief getest')\n",
    "def cell():\n",
    "  df = RIVM.csv('COVID-19_aantallen_gemeente_per_dag').rename(columns={\n",
    "    'Total_reported': 'Positief getest',\n",
    "    'Deceased': 'Overleden',\n",
    "    'Date_of_publication': 'Datum',\n",
    "    'Date_of_report': 'Today',\n",
    "  })\n",
    "  df['Datum'] = pd.to_datetime(df.Datum.str.replace(' .*', '', regex=True))\n",
    "  df['Today'] = pd.to_datetime(df.Today.str.replace(' .*', '', regex=True))\n",
    "\n",
    "  global dagoverzicht\n",
    "  dagoverzicht = pd.DataFrame(index=pd.date_range(start='2020-02-27', end=df.Today.max()))\n",
    "  dagoverzicht.index.name='Key'\n",
    "  dagoverzicht['Datum'] = dagoverzicht.index.strftime('%Y-%m-%d')\n",
    "  dagoverzicht['LandCode'] = 'NL'\n",
    "\n",
    "  df = (df\n",
    "        .groupby(['Datum'])\n",
    "        .agg({'Positief getest': 'sum', 'Overleden': 'sum'})\n",
    "  )\n",
    "  df['Positief getest'] = df['Positief getest'].cumsum()\n",
    "  df['Positief getest (toename)'] = (df['Positief getest'] - df['Positief getest'].shift(1)).fillna(0).astype(int)\n",
    "  df['Overleden'] = df['Overleden'].cumsum()\n",
    "  df['Overleden (toename)'] = (df['Overleden'] - df['Overleden'].shift(1)).fillna(0).astype(int)\n",
    "  dagoverzicht = dagoverzicht.merge(df, how='left', left_index=True, right_index=True)\n",
    "  display(dagoverzicht)"
   ]
  },
  {
   "cell_type": "code",
   "execution_count": null,
   "id": "completed-steam",
   "metadata": {
    "lines_to_next_cell": 0
   },
   "outputs": [],
   "source": [
    "@run('ziekenhuisopnames')\n",
    "def cell():\n",
    "  df = RIVM.csv('COVID-19_ziekenhuisopnames').rename(columns={\n",
    "    'Hospital_admission': 'Ziekenhuisopnames',\n",
    "    'Date_of_statistics': 'Datum',\n",
    "  })\n",
    "  df['Datum'] = pd.to_datetime(df.Datum.str.replace(' .*', '', regex=True))\n",
    "  df = (df\n",
    "        .groupby(['Datum'])\n",
    "        .agg({'Ziekenhuisopnames': 'sum'})\n",
    "  )\n",
    "  display(df)\n",
    "  global dagoverzicht\n",
    "  dagoverzicht = dagoverzicht.merge(df, how='left', left_index=True, right_index=True)\n",
    "  dagoverzicht['Ziekenhuisopnames'] = dagoverzicht['Ziekenhuisopnames'].fillna(0).astype(int).cumsum()\n",
    "  dagoverzicht['Ziekenhuisopnames (toename)'] = (dagoverzicht['Ziekenhuisopnames'] - dagoverzicht['Ziekenhuisopnames'].shift(1)).fillna(0).astype(int)\n",
    "\n",
    "  display(dagoverzicht)"
   ]
  },
  {
   "cell_type": "code",
   "execution_count": null,
   "id": "comprehensive-billion",
   "metadata": {
    "lines_to_next_cell": 0
   },
   "outputs": [],
   "source": [
    "@run('publish')\n",
    "def cell():\n",
    "  global dagoverzicht\n",
    "\n",
    "  os.makedirs('artifacts', exist_ok = True)\n",
    "  dagoverzicht.to_csv('artifacts/DagOverzicht.csv', index=True)"
   ]
  },
  {
   "cell_type": "code",
   "execution_count": null,
   "id": "later-slovakia",
   "metadata": {},
   "outputs": [],
   "source": []
  }
 ],
 "metadata": {
  "jupytext": {
   "cell_metadata_filter": "-all"
  },
  "kernelspec": {
   "display_name": "Python 3",
   "language": "python",
   "name": "python3"
  }
 },
 "nbformat": 4,
 "nbformat_minor": 5
}
