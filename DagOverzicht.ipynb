{
 "cells": [
  {
   "cell_type": "code",
   "execution_count": 1,
   "id": "romantic-mileage",
   "metadata": {
    "execution": {
     "iopub.execute_input": "2021-02-18T17:12:58.067908Z",
     "iopub.status.busy": "2021-02-18T17:12:58.066574Z",
     "iopub.status.idle": "2021-02-18T17:13:02.827452Z",
     "shell.execute_reply": "2021-02-18T17:13:02.826816Z"
    },
    "lines_to_next_cell": 1,
    "papermill": {
     "duration": 4.786886,
     "end_time": "2021-02-18T17:13:02.827597",
     "exception": false,
     "start_time": "2021-02-18T17:12:58.040711",
     "status": "completed"
    },
    "tags": []
   },
   "outputs": [],
   "source": [
    "from IPython import get_ipython\n",
    "from IPython.core.display import display\n",
    "get_ipython().run_line_magic('load_ext', 'autoreload')\n",
    "get_ipython().run_line_magic('autoreload', '2')\n",
    "get_ipython().run_line_magic('run', 'setup')\n",
    "\n",
    "bevolking = CBS.bevolking().iloc[0]\n",
    "#display(bevolking.BevolkingOpDeEersteVanDeMaand)\n",
    "#display(bevolking['per 100k'])\n",
    "\n",
    "def addstats(df):\n",
    "  global dagoverzicht\n",
    "\n",
    "  # de aanname is dat df al gegroepeerd is op datum, en dat de kolommen de dagtotalen zijn\n",
    "  dagoverzicht = dagoverzicht.merge(df, how='left', left_index=True, right_index=True)\n",
    "  for stat in df.columns:\n",
    "    # nieuw = dagtotaal, zet missende dagtotalen op 0\n",
    "    dagoverzicht[f'{stat} (nieuw)'] = dagoverzicht[stat].fillna(0).astype(int)\n",
    "    # kolom met eerder de dagtotalen = cumulatieve som over dagtotalen\n",
    "    dagoverzicht[stat] = dagoverzicht[f'{stat} (nieuw)'].cumsum()\n",
    "    # factor voor 100k\n",
    "    dagoverzicht[f'{stat} per 100.000'] = dagoverzicht[stat] * bevolking['per 100k']\n",
    "    # verschil met 7 dagen terug\n",
    "    dagoverzicht[f'{stat} 7d'] = dagoverzicht[f'{stat} (nieuw)'].rolling(7).sum().fillna(0)\n",
    "    # en weer factor 100 k\n",
    "    dagoverzicht[f'{stat} 7d per 100.000'] = dagoverzicht[f'{stat} 7d'] * bevolking['per 100k']"
   ]
  },
  {
   "cell_type": "code",
   "execution_count": 2,
   "id": "focused-rabbit",
   "metadata": {
    "execution": {
     "iopub.execute_input": "2021-02-18T17:13:02.851527Z",
     "iopub.status.busy": "2021-02-18T17:13:02.850203Z",
     "iopub.status.idle": "2021-02-18T17:13:03.254696Z",
     "shell.execute_reply": "2021-02-18T17:13:03.254222Z"
    },
    "lines_to_next_cell": 1,
    "papermill": {
     "duration": 0.419646,
     "end_time": "2021-02-18T17:13:03.254851",
     "exception": false,
     "start_time": "2021-02-18T17:13:02.835205",
     "status": "completed"
    },
    "tags": []
   },
   "outputs": [
    {
     "name": "stdout",
     "output_type": "stream",
     "text": [
      "set up base frame from ESRI -> NICE\n"
     ]
    },
    {
     "name": "stdout",
     "output_type": "stream",
     "text": [
      "nice/f27f743476a142538e8054f7a7ce12e1_0-2021-02-18@16-47.csv exists\n",
      "loading nice/f27f743476a142538e8054f7a7ce12e1_0-2021-02-18@16-47.csv.gz\n"
     ]
    }
   ],
   "source": [
    "@run('set up base frame from ESRI -> NICE')\n",
    "def cell():\n",
    "  df = ArcGIS.nice('f27f743476a142538e8054f7a7ce12e1')\n",
    "\n",
    "  df['date'] = pd.to_datetime(df.date.str.replace(' .*', '', regex=True))\n",
    "  df.set_index('date', inplace=True)\n",
    "\n",
    "  # base date range uit NICE\n",
    "  global dagoverzicht\n",
    "  # maak leeg dataframe met een rij voor elke dag van 2020-02-27 tm Date_of_publication\n",
    "  dagoverzicht = pd.DataFrame(index=pd.date_range(start='2020-02-27', end=df.index.max()))\n",
    "  # noem de index Key\n",
    "  dagoverzicht.index.name='Key'\n",
    "  # vul de datum kolom\n",
    "  dagoverzicht['Datum'] = dagoverzicht.index.strftime('%Y-%m-%d')\n",
    "  # vaste waarde voor LandCode\n",
    "  dagoverzicht['LandCode'] = 'NL'\n",
    "\n",
    "  # the NICE data as prepared by ESRI can just be used as-is, so just rename the columns\n",
    "  for prefix, kind in [ ('ic', 'IC'), ('zkh', 'Ziekenhuis') ]:\n",
    "    df = df.rename(columns={\n",
    "      f'{prefix}NewIntake': f'NICE {kind} Bedden (intake)',\n",
    "      f'{prefix}IntakeCount': f'NICE {kind} Bedden',\n",
    "      f'{prefix}IntakeCumulative': f'NICE {kind} Bedden (cumulatief)',\n",
    "      f'{prefix}DiedCumulative': f'NICE {kind} Overleden',\n",
    "    })\n",
    "\n",
    "  # remove the columns we don't use\n",
    "  df = df[[col for col in df.columns if 'NICE' in col]]\n",
    "  dagoverzicht = dagoverzicht.merge(df, how='left', left_index=True, right_index=True)\n",
    "\n",
    "  # after the merge, dates missing in the ESRI/NICE set will be `nan`, so fill these\n",
    "  for col in df.columns:\n",
    "    # for cumulatief columns, fill-forward from last known value\n",
    "    if 'cumulatief' in col:\n",
    "      dagoverzicht[col] = dagoverzicht[col].ffill()\n",
    "    # for non-cumulative and whatever remains in cumulative after fill forward (which will be leading nan's), fill with 0\n",
    "    dagoverzicht[col] = dagoverzicht[col].fillna(0)\n",
    "\n",
    "  for kind in [ 'IC', 'Ziekenhuis' ]:\n",
    "    dagoverzicht[f'NICE {kind} Bedden (toename)'] = (dagoverzicht[f'NICE {kind} Bedden'] - dagoverzicht[f'NICE {kind} Bedden'].shift(1)).fillna(0)\n",
    "\n",
    "  for window, shift, past in [(3, 1, 'afgelopen '), (7, 0, '')]:\n",
    "    dagoverzicht[f'NICE IC Bedden (intake) {past}{window}d'] = dagoverzicht['NICE IC Bedden (intake)'].shift(shift).rolling(window).sum().fillna(0)\n",
    "\n",
    "  dagoverzicht['NICE IC Bedden (intake) week-1'] = dagoverzicht['NICE IC Bedden (intake) 7d'].shift(7).fillna(0)"
   ]
  },
  {
   "cell_type": "code",
   "execution_count": 3,
   "id": "verbal-eleven",
   "metadata": {
    "execution": {
     "iopub.execute_input": "2021-02-18T17:13:03.277152Z",
     "iopub.status.busy": "2021-02-18T17:13:03.276593Z",
     "iopub.status.idle": "2021-02-18T17:13:04.297270Z",
     "shell.execute_reply": "2021-02-18T17:13:04.297877Z"
    },
    "lines_to_next_cell": 1,
    "papermill": {
     "duration": 1.034667,
     "end_time": "2021-02-18T17:13:04.298049",
     "exception": false,
     "start_time": "2021-02-18T17:13:03.263382",
     "status": "completed"
    },
    "tags": []
   },
   "outputs": [
    {
     "name": "stdout",
     "output_type": "stream",
     "text": [
      "overleden + positief getest\n"
     ]
    },
    {
     "name": "stdout",
     "output_type": "stream",
     "text": [
      "rivm/COVID-19_aantallen_gemeente_per_dag-2021-02-18@14-15.csv exists\n",
      "loading rivm/COVID-19_aantallen_gemeente_per_dag-2021-02-18@14-15.csv.gz\n"
     ]
    },
    {
     "data": {
      "text/html": [
       "<div>\n",
       "<style scoped>\n",
       "    .dataframe tbody tr th:only-of-type {\n",
       "        vertical-align: middle;\n",
       "    }\n",
       "\n",
       "    .dataframe tbody tr th {\n",
       "        vertical-align: top;\n",
       "    }\n",
       "\n",
       "    .dataframe thead th {\n",
       "        text-align: right;\n",
       "    }\n",
       "</style>\n",
       "<table border=\"1\" class=\"dataframe\">\n",
       "  <thead>\n",
       "    <tr style=\"text-align: right;\">\n",
       "      <th></th>\n",
       "      <th>Datum</th>\n",
       "      <th>LandCode</th>\n",
       "      <th>NICE IC Bedden (intake)</th>\n",
       "      <th>NICE IC Bedden (cumulatief)</th>\n",
       "      <th>NICE IC Bedden</th>\n",
       "      <th>NICE IC Overleden</th>\n",
       "      <th>NICE Ziekenhuis Bedden (intake)</th>\n",
       "      <th>NICE Ziekenhuis Bedden (cumulatief)</th>\n",
       "      <th>NICE Ziekenhuis Bedden</th>\n",
       "      <th>NICE Ziekenhuis Overleden</th>\n",
       "      <th>...</th>\n",
       "      <th>Positief getest (nieuw)</th>\n",
       "      <th>Positief getest per 100.000</th>\n",
       "      <th>Positief getest 7d</th>\n",
       "      <th>Positief getest 7d per 100.000</th>\n",
       "      <th>Overleden (nieuw)</th>\n",
       "      <th>Overleden per 100.000</th>\n",
       "      <th>Overleden 7d</th>\n",
       "      <th>Overleden 7d per 100.000</th>\n",
       "      <th>Overleden week-1</th>\n",
       "      <th>Positief getest week-1</th>\n",
       "    </tr>\n",
       "    <tr>\n",
       "      <th>Key</th>\n",
       "      <th></th>\n",
       "      <th></th>\n",
       "      <th></th>\n",
       "      <th></th>\n",
       "      <th></th>\n",
       "      <th></th>\n",
       "      <th></th>\n",
       "      <th></th>\n",
       "      <th></th>\n",
       "      <th></th>\n",
       "      <th></th>\n",
       "      <th></th>\n",
       "      <th></th>\n",
       "      <th></th>\n",
       "      <th></th>\n",
       "      <th></th>\n",
       "      <th></th>\n",
       "      <th></th>\n",
       "      <th></th>\n",
       "      <th></th>\n",
       "      <th></th>\n",
       "    </tr>\n",
       "  </thead>\n",
       "  <tbody>\n",
       "    <tr>\n",
       "      <th>2020-02-27</th>\n",
       "      <td>2020-02-27</td>\n",
       "      <td>NL</td>\n",
       "      <td>1</td>\n",
       "      <td>13</td>\n",
       "      <td>13</td>\n",
       "      <td>0</td>\n",
       "      <td>2</td>\n",
       "      <td>65</td>\n",
       "      <td>62</td>\n",
       "      <td>0</td>\n",
       "      <td>...</td>\n",
       "      <td>0</td>\n",
       "      <td>0.000000</td>\n",
       "      <td>0.0</td>\n",
       "      <td>0.000000</td>\n",
       "      <td>0</td>\n",
       "      <td>0.000000</td>\n",
       "      <td>0.0</td>\n",
       "      <td>0.000000</td>\n",
       "      <td>0.0</td>\n",
       "      <td>0.0</td>\n",
       "    </tr>\n",
       "    <tr>\n",
       "      <th>2020-02-28</th>\n",
       "      <td>2020-02-28</td>\n",
       "      <td>NL</td>\n",
       "      <td>0</td>\n",
       "      <td>14</td>\n",
       "      <td>14</td>\n",
       "      <td>0</td>\n",
       "      <td>4</td>\n",
       "      <td>69</td>\n",
       "      <td>66</td>\n",
       "      <td>0</td>\n",
       "      <td>...</td>\n",
       "      <td>1</td>\n",
       "      <td>0.005723</td>\n",
       "      <td>0.0</td>\n",
       "      <td>0.000000</td>\n",
       "      <td>0</td>\n",
       "      <td>0.000000</td>\n",
       "      <td>0.0</td>\n",
       "      <td>0.000000</td>\n",
       "      <td>0.0</td>\n",
       "      <td>0.0</td>\n",
       "    </tr>\n",
       "    <tr>\n",
       "      <th>2020-02-29</th>\n",
       "      <td>2020-02-29</td>\n",
       "      <td>NL</td>\n",
       "      <td>0</td>\n",
       "      <td>15</td>\n",
       "      <td>15</td>\n",
       "      <td>0</td>\n",
       "      <td>1</td>\n",
       "      <td>70</td>\n",
       "      <td>66</td>\n",
       "      <td>0</td>\n",
       "      <td>...</td>\n",
       "      <td>1</td>\n",
       "      <td>0.011445</td>\n",
       "      <td>0.0</td>\n",
       "      <td>0.000000</td>\n",
       "      <td>0</td>\n",
       "      <td>0.000000</td>\n",
       "      <td>0.0</td>\n",
       "      <td>0.000000</td>\n",
       "      <td>0.0</td>\n",
       "      <td>0.0</td>\n",
       "    </tr>\n",
       "    <tr>\n",
       "      <th>2020-03-01</th>\n",
       "      <td>2020-03-01</td>\n",
       "      <td>NL</td>\n",
       "      <td>2</td>\n",
       "      <td>17</td>\n",
       "      <td>17</td>\n",
       "      <td>0</td>\n",
       "      <td>7</td>\n",
       "      <td>77</td>\n",
       "      <td>73</td>\n",
       "      <td>0</td>\n",
       "      <td>...</td>\n",
       "      <td>3</td>\n",
       "      <td>0.028613</td>\n",
       "      <td>0.0</td>\n",
       "      <td>0.000000</td>\n",
       "      <td>0</td>\n",
       "      <td>0.000000</td>\n",
       "      <td>0.0</td>\n",
       "      <td>0.000000</td>\n",
       "      <td>0.0</td>\n",
       "      <td>0.0</td>\n",
       "    </tr>\n",
       "    <tr>\n",
       "      <th>2020-03-02</th>\n",
       "      <td>2020-03-02</td>\n",
       "      <td>NL</td>\n",
       "      <td>0</td>\n",
       "      <td>17</td>\n",
       "      <td>16</td>\n",
       "      <td>0</td>\n",
       "      <td>10</td>\n",
       "      <td>88</td>\n",
       "      <td>84</td>\n",
       "      <td>0</td>\n",
       "      <td>...</td>\n",
       "      <td>5</td>\n",
       "      <td>0.057226</td>\n",
       "      <td>0.0</td>\n",
       "      <td>0.000000</td>\n",
       "      <td>0</td>\n",
       "      <td>0.000000</td>\n",
       "      <td>0.0</td>\n",
       "      <td>0.000000</td>\n",
       "      <td>0.0</td>\n",
       "      <td>0.0</td>\n",
       "    </tr>\n",
       "    <tr>\n",
       "      <th>2020-03-03</th>\n",
       "      <td>2020-03-03</td>\n",
       "      <td>NL</td>\n",
       "      <td>1</td>\n",
       "      <td>19</td>\n",
       "      <td>18</td>\n",
       "      <td>0</td>\n",
       "      <td>8</td>\n",
       "      <td>96</td>\n",
       "      <td>91</td>\n",
       "      <td>0</td>\n",
       "      <td>...</td>\n",
       "      <td>4</td>\n",
       "      <td>0.080116</td>\n",
       "      <td>0.0</td>\n",
       "      <td>0.000000</td>\n",
       "      <td>0</td>\n",
       "      <td>0.000000</td>\n",
       "      <td>0.0</td>\n",
       "      <td>0.000000</td>\n",
       "      <td>0.0</td>\n",
       "      <td>0.0</td>\n",
       "    </tr>\n",
       "    <tr>\n",
       "      <th>2020-03-04</th>\n",
       "      <td>2020-03-04</td>\n",
       "      <td>NL</td>\n",
       "      <td>3</td>\n",
       "      <td>22</td>\n",
       "      <td>21</td>\n",
       "      <td>0</td>\n",
       "      <td>10</td>\n",
       "      <td>109</td>\n",
       "      <td>103</td>\n",
       "      <td>0</td>\n",
       "      <td>...</td>\n",
       "      <td>10</td>\n",
       "      <td>0.137341</td>\n",
       "      <td>24.0</td>\n",
       "      <td>0.137341</td>\n",
       "      <td>0</td>\n",
       "      <td>0.000000</td>\n",
       "      <td>0.0</td>\n",
       "      <td>0.000000</td>\n",
       "      <td>0.0</td>\n",
       "      <td>0.0</td>\n",
       "    </tr>\n",
       "    <tr>\n",
       "      <th>2020-03-05</th>\n",
       "      <td>2020-03-05</td>\n",
       "      <td>NL</td>\n",
       "      <td>1</td>\n",
       "      <td>24</td>\n",
       "      <td>21</td>\n",
       "      <td>0</td>\n",
       "      <td>12</td>\n",
       "      <td>121</td>\n",
       "      <td>113</td>\n",
       "      <td>0</td>\n",
       "      <td>...</td>\n",
       "      <td>17</td>\n",
       "      <td>0.234625</td>\n",
       "      <td>41.0</td>\n",
       "      <td>0.234625</td>\n",
       "      <td>0</td>\n",
       "      <td>0.000000</td>\n",
       "      <td>0.0</td>\n",
       "      <td>0.000000</td>\n",
       "      <td>0.0</td>\n",
       "      <td>0.0</td>\n",
       "    </tr>\n",
       "    <tr>\n",
       "      <th>2020-03-06</th>\n",
       "      <td>2020-03-06</td>\n",
       "      <td>NL</td>\n",
       "      <td>4</td>\n",
       "      <td>28</td>\n",
       "      <td>24</td>\n",
       "      <td>0</td>\n",
       "      <td>19</td>\n",
       "      <td>138</td>\n",
       "      <td>129</td>\n",
       "      <td>0</td>\n",
       "      <td>...</td>\n",
       "      <td>40</td>\n",
       "      <td>0.463527</td>\n",
       "      <td>80.0</td>\n",
       "      <td>0.457805</td>\n",
       "      <td>0</td>\n",
       "      <td>0.000000</td>\n",
       "      <td>0.0</td>\n",
       "      <td>0.000000</td>\n",
       "      <td>0.0</td>\n",
       "      <td>0.0</td>\n",
       "    </tr>\n",
       "    <tr>\n",
       "      <th>2020-03-07</th>\n",
       "      <td>2020-03-07</td>\n",
       "      <td>NL</td>\n",
       "      <td>3</td>\n",
       "      <td>31</td>\n",
       "      <td>26</td>\n",
       "      <td>0</td>\n",
       "      <td>7</td>\n",
       "      <td>146</td>\n",
       "      <td>137</td>\n",
       "      <td>1</td>\n",
       "      <td>...</td>\n",
       "      <td>50</td>\n",
       "      <td>0.749656</td>\n",
       "      <td>129.0</td>\n",
       "      <td>0.738210</td>\n",
       "      <td>1</td>\n",
       "      <td>0.005723</td>\n",
       "      <td>1.0</td>\n",
       "      <td>0.005723</td>\n",
       "      <td>0.0</td>\n",
       "      <td>0.0</td>\n",
       "    </tr>\n",
       "  </tbody>\n",
       "</table>\n",
       "<p>10 rows × 27 columns</p>\n",
       "</div>"
      ],
      "text/plain": [
       "                 Datum LandCode  NICE IC Bedden (intake)  \\\n",
       "Key                                                        \n",
       "2020-02-27  2020-02-27       NL                        1   \n",
       "2020-02-28  2020-02-28       NL                        0   \n",
       "2020-02-29  2020-02-29       NL                        0   \n",
       "2020-03-01  2020-03-01       NL                        2   \n",
       "2020-03-02  2020-03-02       NL                        0   \n",
       "2020-03-03  2020-03-03       NL                        1   \n",
       "2020-03-04  2020-03-04       NL                        3   \n",
       "2020-03-05  2020-03-05       NL                        1   \n",
       "2020-03-06  2020-03-06       NL                        4   \n",
       "2020-03-07  2020-03-07       NL                        3   \n",
       "\n",
       "            NICE IC Bedden (cumulatief)  NICE IC Bedden  NICE IC Overleden  \\\n",
       "Key                                                                          \n",
       "2020-02-27                           13              13                  0   \n",
       "2020-02-28                           14              14                  0   \n",
       "2020-02-29                           15              15                  0   \n",
       "2020-03-01                           17              17                  0   \n",
       "2020-03-02                           17              16                  0   \n",
       "2020-03-03                           19              18                  0   \n",
       "2020-03-04                           22              21                  0   \n",
       "2020-03-05                           24              21                  0   \n",
       "2020-03-06                           28              24                  0   \n",
       "2020-03-07                           31              26                  0   \n",
       "\n",
       "            NICE Ziekenhuis Bedden (intake)  \\\n",
       "Key                                           \n",
       "2020-02-27                                2   \n",
       "2020-02-28                                4   \n",
       "2020-02-29                                1   \n",
       "2020-03-01                                7   \n",
       "2020-03-02                               10   \n",
       "2020-03-03                                8   \n",
       "2020-03-04                               10   \n",
       "2020-03-05                               12   \n",
       "2020-03-06                               19   \n",
       "2020-03-07                                7   \n",
       "\n",
       "            NICE Ziekenhuis Bedden (cumulatief)  NICE Ziekenhuis Bedden  \\\n",
       "Key                                                                       \n",
       "2020-02-27                                   65                      62   \n",
       "2020-02-28                                   69                      66   \n",
       "2020-02-29                                   70                      66   \n",
       "2020-03-01                                   77                      73   \n",
       "2020-03-02                                   88                      84   \n",
       "2020-03-03                                   96                      91   \n",
       "2020-03-04                                  109                     103   \n",
       "2020-03-05                                  121                     113   \n",
       "2020-03-06                                  138                     129   \n",
       "2020-03-07                                  146                     137   \n",
       "\n",
       "            NICE Ziekenhuis Overleden  ...  Positief getest (nieuw)  \\\n",
       "Key                                    ...                            \n",
       "2020-02-27                          0  ...                        0   \n",
       "2020-02-28                          0  ...                        1   \n",
       "2020-02-29                          0  ...                        1   \n",
       "2020-03-01                          0  ...                        3   \n",
       "2020-03-02                          0  ...                        5   \n",
       "2020-03-03                          0  ...                        4   \n",
       "2020-03-04                          0  ...                       10   \n",
       "2020-03-05                          0  ...                       17   \n",
       "2020-03-06                          0  ...                       40   \n",
       "2020-03-07                          1  ...                       50   \n",
       "\n",
       "            Positief getest per 100.000  Positief getest 7d  \\\n",
       "Key                                                           \n",
       "2020-02-27                     0.000000                 0.0   \n",
       "2020-02-28                     0.005723                 0.0   \n",
       "2020-02-29                     0.011445                 0.0   \n",
       "2020-03-01                     0.028613                 0.0   \n",
       "2020-03-02                     0.057226                 0.0   \n",
       "2020-03-03                     0.080116                 0.0   \n",
       "2020-03-04                     0.137341                24.0   \n",
       "2020-03-05                     0.234625                41.0   \n",
       "2020-03-06                     0.463527                80.0   \n",
       "2020-03-07                     0.749656               129.0   \n",
       "\n",
       "            Positief getest 7d per 100.000  Overleden (nieuw)  \\\n",
       "Key                                                             \n",
       "2020-02-27                        0.000000                  0   \n",
       "2020-02-28                        0.000000                  0   \n",
       "2020-02-29                        0.000000                  0   \n",
       "2020-03-01                        0.000000                  0   \n",
       "2020-03-02                        0.000000                  0   \n",
       "2020-03-03                        0.000000                  0   \n",
       "2020-03-04                        0.137341                  0   \n",
       "2020-03-05                        0.234625                  0   \n",
       "2020-03-06                        0.457805                  0   \n",
       "2020-03-07                        0.738210                  1   \n",
       "\n",
       "            Overleden per 100.000  Overleden 7d  Overleden 7d per 100.000  \\\n",
       "Key                                                                         \n",
       "2020-02-27               0.000000           0.0                  0.000000   \n",
       "2020-02-28               0.000000           0.0                  0.000000   \n",
       "2020-02-29               0.000000           0.0                  0.000000   \n",
       "2020-03-01               0.000000           0.0                  0.000000   \n",
       "2020-03-02               0.000000           0.0                  0.000000   \n",
       "2020-03-03               0.000000           0.0                  0.000000   \n",
       "2020-03-04               0.000000           0.0                  0.000000   \n",
       "2020-03-05               0.000000           0.0                  0.000000   \n",
       "2020-03-06               0.000000           0.0                  0.000000   \n",
       "2020-03-07               0.005723           1.0                  0.005723   \n",
       "\n",
       "            Overleden week-1  Positief getest week-1  \n",
       "Key                                                   \n",
       "2020-02-27               0.0                     0.0  \n",
       "2020-02-28               0.0                     0.0  \n",
       "2020-02-29               0.0                     0.0  \n",
       "2020-03-01               0.0                     0.0  \n",
       "2020-03-02               0.0                     0.0  \n",
       "2020-03-03               0.0                     0.0  \n",
       "2020-03-04               0.0                     0.0  \n",
       "2020-03-05               0.0                     0.0  \n",
       "2020-03-06               0.0                     0.0  \n",
       "2020-03-07               0.0                     0.0  \n",
       "\n",
       "[10 rows x 27 columns]"
      ]
     },
     "metadata": {},
     "output_type": "display_data"
    }
   ],
   "source": [
    "@run('overleden + positief getest')\n",
    "def cell():\n",
    "  df = RIVM.csv('COVID-19_aantallen_gemeente_per_dag').rename(columns={\n",
    "    'Total_reported': 'Positief getest',\n",
    "    'Deceased': 'Overleden',\n",
    "    'Date_of_publication': 'Datum',\n",
    "    'Date_of_report': 'Today',\n",
    "  })\n",
    "  # sloop tijd van de datum en zet om in datetime object\n",
    "  df['Datum'] = pd.to_datetime(df.Datum.str.replace(' .*', '', regex=True))\n",
    "\n",
    "  # sommeer pos en overl op datum en voeg toe aan dagoverzicht\n",
    "  addstats(df.groupby(['Datum']).agg({'Positief getest': 'sum', 'Overleden': 'sum'}))\n",
    "  global dagoverzicht\n",
    "  for col in ['Overleden', 'Positief getest']:\n",
    "    dagoverzicht[f'{col} week-1'] = dagoverzicht[f'{col} 7d'].shift(7).fillna(0)\n",
    "  display(dagoverzicht.head(10))"
   ]
  },
  {
   "cell_type": "code",
   "execution_count": 4,
   "id": "fifteen-algeria",
   "metadata": {
    "execution": {
     "iopub.execute_input": "2021-02-18T17:13:04.322474Z",
     "iopub.status.busy": "2021-02-18T17:13:04.321908Z",
     "iopub.status.idle": "2021-02-18T17:13:05.129993Z",
     "shell.execute_reply": "2021-02-18T17:13:05.129485Z"
    },
    "lines_to_next_cell": 1,
    "papermill": {
     "duration": 0.822405,
     "end_time": "2021-02-18T17:13:05.130120",
     "exception": false,
     "start_time": "2021-02-18T17:13:04.307715",
     "status": "completed"
    },
    "tags": []
   },
   "outputs": [
    {
     "name": "stdout",
     "output_type": "stream",
     "text": [
      "ziekenhuisopnames\n"
     ]
    },
    {
     "name": "stdout",
     "output_type": "stream",
     "text": [
      "rivm/COVID-19_ziekenhuisopnames-2021-02-18@14-15.csv exists\n",
      "loading rivm/COVID-19_ziekenhuisopnames-2021-02-18@14-15.csv.gz\n"
     ]
    },
    {
     "data": {
      "text/html": [
       "<div>\n",
       "<style scoped>\n",
       "    .dataframe tbody tr th:only-of-type {\n",
       "        vertical-align: middle;\n",
       "    }\n",
       "\n",
       "    .dataframe tbody tr th {\n",
       "        vertical-align: top;\n",
       "    }\n",
       "\n",
       "    .dataframe thead th {\n",
       "        text-align: right;\n",
       "    }\n",
       "</style>\n",
       "<table border=\"1\" class=\"dataframe\">\n",
       "  <thead>\n",
       "    <tr style=\"text-align: right;\">\n",
       "      <th></th>\n",
       "      <th>Datum</th>\n",
       "      <th>LandCode</th>\n",
       "      <th>NICE IC Bedden (intake)</th>\n",
       "      <th>NICE IC Bedden (cumulatief)</th>\n",
       "      <th>NICE IC Bedden</th>\n",
       "      <th>NICE IC Overleden</th>\n",
       "      <th>NICE Ziekenhuis Bedden (intake)</th>\n",
       "      <th>NICE Ziekenhuis Bedden (cumulatief)</th>\n",
       "      <th>NICE Ziekenhuis Bedden</th>\n",
       "      <th>NICE Ziekenhuis Overleden</th>\n",
       "      <th>...</th>\n",
       "      <th>Overleden 7d</th>\n",
       "      <th>Overleden 7d per 100.000</th>\n",
       "      <th>Overleden week-1</th>\n",
       "      <th>Positief getest week-1</th>\n",
       "      <th>Ziekenhuisopnames</th>\n",
       "      <th>Ziekenhuisopnames (nieuw)</th>\n",
       "      <th>Ziekenhuisopnames per 100.000</th>\n",
       "      <th>Ziekenhuisopnames 7d</th>\n",
       "      <th>Ziekenhuisopnames 7d per 100.000</th>\n",
       "      <th>Ziekenhuisopnames week-1</th>\n",
       "    </tr>\n",
       "    <tr>\n",
       "      <th>Key</th>\n",
       "      <th></th>\n",
       "      <th></th>\n",
       "      <th></th>\n",
       "      <th></th>\n",
       "      <th></th>\n",
       "      <th></th>\n",
       "      <th></th>\n",
       "      <th></th>\n",
       "      <th></th>\n",
       "      <th></th>\n",
       "      <th></th>\n",
       "      <th></th>\n",
       "      <th></th>\n",
       "      <th></th>\n",
       "      <th></th>\n",
       "      <th></th>\n",
       "      <th></th>\n",
       "      <th></th>\n",
       "      <th></th>\n",
       "      <th></th>\n",
       "      <th></th>\n",
       "    </tr>\n",
       "  </thead>\n",
       "  <tbody>\n",
       "    <tr>\n",
       "      <th>2020-02-27</th>\n",
       "      <td>2020-02-27</td>\n",
       "      <td>NL</td>\n",
       "      <td>1</td>\n",
       "      <td>13</td>\n",
       "      <td>13</td>\n",
       "      <td>0</td>\n",
       "      <td>2</td>\n",
       "      <td>65</td>\n",
       "      <td>62</td>\n",
       "      <td>0</td>\n",
       "      <td>...</td>\n",
       "      <td>0.0</td>\n",
       "      <td>0.0</td>\n",
       "      <td>0.0</td>\n",
       "      <td>0.0</td>\n",
       "      <td>3</td>\n",
       "      <td>3</td>\n",
       "      <td>0.017168</td>\n",
       "      <td>0.0</td>\n",
       "      <td>0.0</td>\n",
       "      <td>0.0</td>\n",
       "    </tr>\n",
       "    <tr>\n",
       "      <th>2020-02-28</th>\n",
       "      <td>2020-02-28</td>\n",
       "      <td>NL</td>\n",
       "      <td>0</td>\n",
       "      <td>14</td>\n",
       "      <td>14</td>\n",
       "      <td>0</td>\n",
       "      <td>4</td>\n",
       "      <td>69</td>\n",
       "      <td>66</td>\n",
       "      <td>0</td>\n",
       "      <td>...</td>\n",
       "      <td>0.0</td>\n",
       "      <td>0.0</td>\n",
       "      <td>0.0</td>\n",
       "      <td>0.0</td>\n",
       "      <td>6</td>\n",
       "      <td>3</td>\n",
       "      <td>0.034335</td>\n",
       "      <td>0.0</td>\n",
       "      <td>0.0</td>\n",
       "      <td>0.0</td>\n",
       "    </tr>\n",
       "    <tr>\n",
       "      <th>2020-02-29</th>\n",
       "      <td>2020-02-29</td>\n",
       "      <td>NL</td>\n",
       "      <td>0</td>\n",
       "      <td>15</td>\n",
       "      <td>15</td>\n",
       "      <td>0</td>\n",
       "      <td>1</td>\n",
       "      <td>70</td>\n",
       "      <td>66</td>\n",
       "      <td>0</td>\n",
       "      <td>...</td>\n",
       "      <td>0.0</td>\n",
       "      <td>0.0</td>\n",
       "      <td>0.0</td>\n",
       "      <td>0.0</td>\n",
       "      <td>8</td>\n",
       "      <td>2</td>\n",
       "      <td>0.045780</td>\n",
       "      <td>0.0</td>\n",
       "      <td>0.0</td>\n",
       "      <td>0.0</td>\n",
       "    </tr>\n",
       "    <tr>\n",
       "      <th>2020-03-01</th>\n",
       "      <td>2020-03-01</td>\n",
       "      <td>NL</td>\n",
       "      <td>2</td>\n",
       "      <td>17</td>\n",
       "      <td>17</td>\n",
       "      <td>0</td>\n",
       "      <td>7</td>\n",
       "      <td>77</td>\n",
       "      <td>73</td>\n",
       "      <td>0</td>\n",
       "      <td>...</td>\n",
       "      <td>0.0</td>\n",
       "      <td>0.0</td>\n",
       "      <td>0.0</td>\n",
       "      <td>0.0</td>\n",
       "      <td>17</td>\n",
       "      <td>9</td>\n",
       "      <td>0.097284</td>\n",
       "      <td>0.0</td>\n",
       "      <td>0.0</td>\n",
       "      <td>0.0</td>\n",
       "    </tr>\n",
       "    <tr>\n",
       "      <th>2020-03-02</th>\n",
       "      <td>2020-03-02</td>\n",
       "      <td>NL</td>\n",
       "      <td>0</td>\n",
       "      <td>17</td>\n",
       "      <td>16</td>\n",
       "      <td>0</td>\n",
       "      <td>10</td>\n",
       "      <td>88</td>\n",
       "      <td>84</td>\n",
       "      <td>0</td>\n",
       "      <td>...</td>\n",
       "      <td>0.0</td>\n",
       "      <td>0.0</td>\n",
       "      <td>0.0</td>\n",
       "      <td>0.0</td>\n",
       "      <td>27</td>\n",
       "      <td>10</td>\n",
       "      <td>0.154509</td>\n",
       "      <td>0.0</td>\n",
       "      <td>0.0</td>\n",
       "      <td>0.0</td>\n",
       "    </tr>\n",
       "  </tbody>\n",
       "</table>\n",
       "<p>5 rows × 33 columns</p>\n",
       "</div>"
      ],
      "text/plain": [
       "                 Datum LandCode  NICE IC Bedden (intake)  \\\n",
       "Key                                                        \n",
       "2020-02-27  2020-02-27       NL                        1   \n",
       "2020-02-28  2020-02-28       NL                        0   \n",
       "2020-02-29  2020-02-29       NL                        0   \n",
       "2020-03-01  2020-03-01       NL                        2   \n",
       "2020-03-02  2020-03-02       NL                        0   \n",
       "\n",
       "            NICE IC Bedden (cumulatief)  NICE IC Bedden  NICE IC Overleden  \\\n",
       "Key                                                                          \n",
       "2020-02-27                           13              13                  0   \n",
       "2020-02-28                           14              14                  0   \n",
       "2020-02-29                           15              15                  0   \n",
       "2020-03-01                           17              17                  0   \n",
       "2020-03-02                           17              16                  0   \n",
       "\n",
       "            NICE Ziekenhuis Bedden (intake)  \\\n",
       "Key                                           \n",
       "2020-02-27                                2   \n",
       "2020-02-28                                4   \n",
       "2020-02-29                                1   \n",
       "2020-03-01                                7   \n",
       "2020-03-02                               10   \n",
       "\n",
       "            NICE Ziekenhuis Bedden (cumulatief)  NICE Ziekenhuis Bedden  \\\n",
       "Key                                                                       \n",
       "2020-02-27                                   65                      62   \n",
       "2020-02-28                                   69                      66   \n",
       "2020-02-29                                   70                      66   \n",
       "2020-03-01                                   77                      73   \n",
       "2020-03-02                                   88                      84   \n",
       "\n",
       "            NICE Ziekenhuis Overleden  ...  Overleden 7d  \\\n",
       "Key                                    ...                 \n",
       "2020-02-27                          0  ...           0.0   \n",
       "2020-02-28                          0  ...           0.0   \n",
       "2020-02-29                          0  ...           0.0   \n",
       "2020-03-01                          0  ...           0.0   \n",
       "2020-03-02                          0  ...           0.0   \n",
       "\n",
       "            Overleden 7d per 100.000  Overleden week-1  \\\n",
       "Key                                                      \n",
       "2020-02-27                       0.0               0.0   \n",
       "2020-02-28                       0.0               0.0   \n",
       "2020-02-29                       0.0               0.0   \n",
       "2020-03-01                       0.0               0.0   \n",
       "2020-03-02                       0.0               0.0   \n",
       "\n",
       "            Positief getest week-1  Ziekenhuisopnames  \\\n",
       "Key                                                     \n",
       "2020-02-27                     0.0                  3   \n",
       "2020-02-28                     0.0                  6   \n",
       "2020-02-29                     0.0                  8   \n",
       "2020-03-01                     0.0                 17   \n",
       "2020-03-02                     0.0                 27   \n",
       "\n",
       "            Ziekenhuisopnames (nieuw)  Ziekenhuisopnames per 100.000  \\\n",
       "Key                                                                    \n",
       "2020-02-27                          3                       0.017168   \n",
       "2020-02-28                          3                       0.034335   \n",
       "2020-02-29                          2                       0.045780   \n",
       "2020-03-01                          9                       0.097284   \n",
       "2020-03-02                         10                       0.154509   \n",
       "\n",
       "            Ziekenhuisopnames 7d  Ziekenhuisopnames 7d per 100.000  \\\n",
       "Key                                                                  \n",
       "2020-02-27                   0.0                               0.0   \n",
       "2020-02-28                   0.0                               0.0   \n",
       "2020-02-29                   0.0                               0.0   \n",
       "2020-03-01                   0.0                               0.0   \n",
       "2020-03-02                   0.0                               0.0   \n",
       "\n",
       "            Ziekenhuisopnames week-1  \n",
       "Key                                   \n",
       "2020-02-27                       0.0  \n",
       "2020-02-28                       0.0  \n",
       "2020-02-29                       0.0  \n",
       "2020-03-01                       0.0  \n",
       "2020-03-02                       0.0  \n",
       "\n",
       "[5 rows x 33 columns]"
      ]
     },
     "metadata": {},
     "output_type": "display_data"
    }
   ],
   "source": [
    "@run('ziekenhuisopnames')\n",
    "def cell():\n",
    "  df = RIVM.csv('COVID-19_ziekenhuisopnames').rename(columns={\n",
    "    'Hospital_admission': 'Ziekenhuisopnames',\n",
    "    'Date_of_statistics': 'Datum',\n",
    "  })\n",
    "  # datum naar datetime\n",
    "  df['Datum'] = pd.to_datetime(df.Datum.str.replace(' .*', '', regex=True))\n",
    "  # sommeer op datum en voeg toe aan dagoverzicht\n",
    "  addstats(df.groupby(['Datum']).agg({'Ziekenhuisopnames': 'sum'}))\n",
    "  dagoverzicht['Ziekenhuisopnames week-1'] = dagoverzicht['Ziekenhuisopnames 7d'].shift(7).fillna(0)\n",
    "  display(dagoverzicht.head())"
   ]
  },
  {
   "cell_type": "code",
   "execution_count": 5,
   "id": "demanding-antenna",
   "metadata": {
    "execution": {
     "iopub.execute_input": "2021-02-18T17:13:05.168273Z",
     "iopub.status.busy": "2021-02-18T17:13:05.167318Z",
     "iopub.status.idle": "2021-02-18T17:13:06.139885Z",
     "shell.execute_reply": "2021-02-18T17:13:06.139379Z"
    },
    "lines_to_next_cell": 1,
    "papermill": {
     "duration": 0.999026,
     "end_time": "2021-02-18T17:13:06.140010",
     "exception": false,
     "start_time": "2021-02-18T17:13:05.140984",
     "status": "completed"
    },
    "tags": []
   },
   "outputs": [
    {
     "name": "stdout",
     "output_type": "stream",
     "text": [
      "reproductiegetal en besmettelijkheid\n"
     ]
    },
    {
     "name": "stdout",
     "output_type": "stream",
     "text": [
      "rivm/COVID-19_reproductiegetal-2021-02-18@14-15.json exists\n",
      "loading rivm/COVID-19_reproductiegetal-2021-02-18@14-15.json.gz\n"
     ]
    },
    {
     "name": "stdout",
     "output_type": "stream",
     "text": [
      "rivm/COVID-19_prevalentie-2021-02-18@14-15.json exists\n",
      "loading rivm/COVID-19_prevalentie-2021-02-18@14-15.json.gz\n"
     ]
    },
    {
     "data": {
      "text/html": [
       "<div>\n",
       "<style scoped>\n",
       "    .dataframe tbody tr th:only-of-type {\n",
       "        vertical-align: middle;\n",
       "    }\n",
       "\n",
       "    .dataframe tbody tr th {\n",
       "        vertical-align: top;\n",
       "    }\n",
       "\n",
       "    .dataframe thead th {\n",
       "        text-align: right;\n",
       "    }\n",
       "</style>\n",
       "<table border=\"1\" class=\"dataframe\">\n",
       "  <thead>\n",
       "    <tr style=\"text-align: right;\">\n",
       "      <th></th>\n",
       "      <th>Datum</th>\n",
       "      <th>LandCode</th>\n",
       "      <th>NICE IC Bedden (intake)</th>\n",
       "      <th>NICE IC Bedden (cumulatief)</th>\n",
       "      <th>NICE IC Bedden</th>\n",
       "      <th>NICE IC Overleden</th>\n",
       "      <th>NICE Ziekenhuis Bedden (intake)</th>\n",
       "      <th>NICE Ziekenhuis Bedden (cumulatief)</th>\n",
       "      <th>NICE Ziekenhuis Bedden</th>\n",
       "      <th>NICE Ziekenhuis Overleden</th>\n",
       "      <th>...</th>\n",
       "      <th>Positief getest week-1</th>\n",
       "      <th>Ziekenhuisopnames</th>\n",
       "      <th>Ziekenhuisopnames (nieuw)</th>\n",
       "      <th>Ziekenhuisopnames per 100.000</th>\n",
       "      <th>Ziekenhuisopnames 7d</th>\n",
       "      <th>Ziekenhuisopnames 7d per 100.000</th>\n",
       "      <th>Ziekenhuisopnames week-1</th>\n",
       "      <th>Reproductiegetal</th>\n",
       "      <th>Besmettelijk</th>\n",
       "      <th>Besmettelijk per 100.000</th>\n",
       "    </tr>\n",
       "    <tr>\n",
       "      <th>Key</th>\n",
       "      <th></th>\n",
       "      <th></th>\n",
       "      <th></th>\n",
       "      <th></th>\n",
       "      <th></th>\n",
       "      <th></th>\n",
       "      <th></th>\n",
       "      <th></th>\n",
       "      <th></th>\n",
       "      <th></th>\n",
       "      <th></th>\n",
       "      <th></th>\n",
       "      <th></th>\n",
       "      <th></th>\n",
       "      <th></th>\n",
       "      <th></th>\n",
       "      <th></th>\n",
       "      <th></th>\n",
       "      <th></th>\n",
       "      <th></th>\n",
       "      <th></th>\n",
       "    </tr>\n",
       "  </thead>\n",
       "  <tbody>\n",
       "    <tr>\n",
       "      <th>2020-02-27</th>\n",
       "      <td>2020-02-27</td>\n",
       "      <td>NL</td>\n",
       "      <td>1</td>\n",
       "      <td>13</td>\n",
       "      <td>13</td>\n",
       "      <td>0</td>\n",
       "      <td>2</td>\n",
       "      <td>65</td>\n",
       "      <td>62</td>\n",
       "      <td>0</td>\n",
       "      <td>...</td>\n",
       "      <td>0.0</td>\n",
       "      <td>3</td>\n",
       "      <td>3</td>\n",
       "      <td>0.017168</td>\n",
       "      <td>0.0</td>\n",
       "      <td>0.000000</td>\n",
       "      <td>0.0</td>\n",
       "      <td>2.06</td>\n",
       "      <td>6808.0</td>\n",
       "      <td>39.0</td>\n",
       "    </tr>\n",
       "    <tr>\n",
       "      <th>2020-02-28</th>\n",
       "      <td>2020-02-28</td>\n",
       "      <td>NL</td>\n",
       "      <td>0</td>\n",
       "      <td>14</td>\n",
       "      <td>14</td>\n",
       "      <td>0</td>\n",
       "      <td>4</td>\n",
       "      <td>69</td>\n",
       "      <td>66</td>\n",
       "      <td>0</td>\n",
       "      <td>...</td>\n",
       "      <td>0.0</td>\n",
       "      <td>6</td>\n",
       "      <td>3</td>\n",
       "      <td>0.034335</td>\n",
       "      <td>0.0</td>\n",
       "      <td>0.000000</td>\n",
       "      <td>0.0</td>\n",
       "      <td>2.10</td>\n",
       "      <td>8500.0</td>\n",
       "      <td>49.0</td>\n",
       "    </tr>\n",
       "    <tr>\n",
       "      <th>2020-02-29</th>\n",
       "      <td>2020-02-29</td>\n",
       "      <td>NL</td>\n",
       "      <td>0</td>\n",
       "      <td>15</td>\n",
       "      <td>15</td>\n",
       "      <td>0</td>\n",
       "      <td>1</td>\n",
       "      <td>70</td>\n",
       "      <td>66</td>\n",
       "      <td>0</td>\n",
       "      <td>...</td>\n",
       "      <td>0.0</td>\n",
       "      <td>8</td>\n",
       "      <td>2</td>\n",
       "      <td>0.045780</td>\n",
       "      <td>0.0</td>\n",
       "      <td>0.000000</td>\n",
       "      <td>0.0</td>\n",
       "      <td>1.99</td>\n",
       "      <td>10568.0</td>\n",
       "      <td>60.0</td>\n",
       "    </tr>\n",
       "    <tr>\n",
       "      <th>2020-03-01</th>\n",
       "      <td>2020-03-01</td>\n",
       "      <td>NL</td>\n",
       "      <td>2</td>\n",
       "      <td>17</td>\n",
       "      <td>17</td>\n",
       "      <td>0</td>\n",
       "      <td>7</td>\n",
       "      <td>77</td>\n",
       "      <td>73</td>\n",
       "      <td>0</td>\n",
       "      <td>...</td>\n",
       "      <td>0.0</td>\n",
       "      <td>17</td>\n",
       "      <td>9</td>\n",
       "      <td>0.097284</td>\n",
       "      <td>0.0</td>\n",
       "      <td>0.000000</td>\n",
       "      <td>0.0</td>\n",
       "      <td>1.83</td>\n",
       "      <td>13044.0</td>\n",
       "      <td>75.0</td>\n",
       "    </tr>\n",
       "    <tr>\n",
       "      <th>2020-03-02</th>\n",
       "      <td>2020-03-02</td>\n",
       "      <td>NL</td>\n",
       "      <td>0</td>\n",
       "      <td>17</td>\n",
       "      <td>16</td>\n",
       "      <td>0</td>\n",
       "      <td>10</td>\n",
       "      <td>88</td>\n",
       "      <td>84</td>\n",
       "      <td>0</td>\n",
       "      <td>...</td>\n",
       "      <td>0.0</td>\n",
       "      <td>27</td>\n",
       "      <td>10</td>\n",
       "      <td>0.154509</td>\n",
       "      <td>0.0</td>\n",
       "      <td>0.000000</td>\n",
       "      <td>0.0</td>\n",
       "      <td>1.79</td>\n",
       "      <td>15996.0</td>\n",
       "      <td>92.0</td>\n",
       "    </tr>\n",
       "    <tr>\n",
       "      <th>...</th>\n",
       "      <td>...</td>\n",
       "      <td>...</td>\n",
       "      <td>...</td>\n",
       "      <td>...</td>\n",
       "      <td>...</td>\n",
       "      <td>...</td>\n",
       "      <td>...</td>\n",
       "      <td>...</td>\n",
       "      <td>...</td>\n",
       "      <td>...</td>\n",
       "      <td>...</td>\n",
       "      <td>...</td>\n",
       "      <td>...</td>\n",
       "      <td>...</td>\n",
       "      <td>...</td>\n",
       "      <td>...</td>\n",
       "      <td>...</td>\n",
       "      <td>...</td>\n",
       "      <td>...</td>\n",
       "      <td>...</td>\n",
       "      <td>...</td>\n",
       "    </tr>\n",
       "    <tr>\n",
       "      <th>2021-02-14</th>\n",
       "      <td>2021-02-14</td>\n",
       "      <td>NL</td>\n",
       "      <td>25</td>\n",
       "      <td>8311</td>\n",
       "      <td>542</td>\n",
       "      <td>2396</td>\n",
       "      <td>134</td>\n",
       "      <td>39162</td>\n",
       "      <td>1499</td>\n",
       "      <td>5705</td>\n",
       "      <td>...</td>\n",
       "      <td>27409.0</td>\n",
       "      <td>43999</td>\n",
       "      <td>136</td>\n",
       "      <td>251.786970</td>\n",
       "      <td>1162.0</td>\n",
       "      <td>6.649616</td>\n",
       "      <td>1173.0</td>\n",
       "      <td>0.00</td>\n",
       "      <td>0.0</td>\n",
       "      <td>0.0</td>\n",
       "    </tr>\n",
       "    <tr>\n",
       "      <th>2021-02-15</th>\n",
       "      <td>2021-02-15</td>\n",
       "      <td>NL</td>\n",
       "      <td>32</td>\n",
       "      <td>8346</td>\n",
       "      <td>554</td>\n",
       "      <td>2402</td>\n",
       "      <td>188</td>\n",
       "      <td>39348</td>\n",
       "      <td>1607</td>\n",
       "      <td>5726</td>\n",
       "      <td>...</td>\n",
       "      <td>26426.0</td>\n",
       "      <td>44191</td>\n",
       "      <td>192</td>\n",
       "      <td>252.885702</td>\n",
       "      <td>1166.0</td>\n",
       "      <td>6.672506</td>\n",
       "      <td>1146.0</td>\n",
       "      <td>0.00</td>\n",
       "      <td>0.0</td>\n",
       "      <td>0.0</td>\n",
       "    </tr>\n",
       "    <tr>\n",
       "      <th>2021-02-16</th>\n",
       "      <td>2021-02-16</td>\n",
       "      <td>NL</td>\n",
       "      <td>38</td>\n",
       "      <td>8386</td>\n",
       "      <td>551</td>\n",
       "      <td>2409</td>\n",
       "      <td>150</td>\n",
       "      <td>39505</td>\n",
       "      <td>1608</td>\n",
       "      <td>5752</td>\n",
       "      <td>...</td>\n",
       "      <td>24627.0</td>\n",
       "      <td>44333</td>\n",
       "      <td>142</td>\n",
       "      <td>253.698305</td>\n",
       "      <td>1122.0</td>\n",
       "      <td>6.420714</td>\n",
       "      <td>1153.0</td>\n",
       "      <td>0.00</td>\n",
       "      <td>0.0</td>\n",
       "      <td>0.0</td>\n",
       "    </tr>\n",
       "    <tr>\n",
       "      <th>2021-02-17</th>\n",
       "      <td>2021-02-17</td>\n",
       "      <td>NL</td>\n",
       "      <td>32</td>\n",
       "      <td>8422</td>\n",
       "      <td>548</td>\n",
       "      <td>2416</td>\n",
       "      <td>112</td>\n",
       "      <td>39630</td>\n",
       "      <td>1585</td>\n",
       "      <td>5770</td>\n",
       "      <td>...</td>\n",
       "      <td>23789.0</td>\n",
       "      <td>44362</td>\n",
       "      <td>29</td>\n",
       "      <td>253.864260</td>\n",
       "      <td>964.0</td>\n",
       "      <td>5.516549</td>\n",
       "      <td>1168.0</td>\n",
       "      <td>0.00</td>\n",
       "      <td>0.0</td>\n",
       "      <td>0.0</td>\n",
       "    </tr>\n",
       "    <tr>\n",
       "      <th>2021-02-18</th>\n",
       "      <td>2021-02-18</td>\n",
       "      <td>NL</td>\n",
       "      <td>9</td>\n",
       "      <td>8432</td>\n",
       "      <td>524</td>\n",
       "      <td>2420</td>\n",
       "      <td>15</td>\n",
       "      <td>39656</td>\n",
       "      <td>1468</td>\n",
       "      <td>5773</td>\n",
       "      <td>...</td>\n",
       "      <td>24012.0</td>\n",
       "      <td>44362</td>\n",
       "      <td>0</td>\n",
       "      <td>253.864260</td>\n",
       "      <td>791.0</td>\n",
       "      <td>4.526546</td>\n",
       "      <td>1155.0</td>\n",
       "      <td>0.00</td>\n",
       "      <td>0.0</td>\n",
       "      <td>0.0</td>\n",
       "    </tr>\n",
       "  </tbody>\n",
       "</table>\n",
       "<p>358 rows × 36 columns</p>\n",
       "</div>"
      ],
      "text/plain": [
       "                 Datum LandCode  NICE IC Bedden (intake)  \\\n",
       "Key                                                        \n",
       "2020-02-27  2020-02-27       NL                        1   \n",
       "2020-02-28  2020-02-28       NL                        0   \n",
       "2020-02-29  2020-02-29       NL                        0   \n",
       "2020-03-01  2020-03-01       NL                        2   \n",
       "2020-03-02  2020-03-02       NL                        0   \n",
       "...                ...      ...                      ...   \n",
       "2021-02-14  2021-02-14       NL                       25   \n",
       "2021-02-15  2021-02-15       NL                       32   \n",
       "2021-02-16  2021-02-16       NL                       38   \n",
       "2021-02-17  2021-02-17       NL                       32   \n",
       "2021-02-18  2021-02-18       NL                        9   \n",
       "\n",
       "            NICE IC Bedden (cumulatief)  NICE IC Bedden  NICE IC Overleden  \\\n",
       "Key                                                                          \n",
       "2020-02-27                           13              13                  0   \n",
       "2020-02-28                           14              14                  0   \n",
       "2020-02-29                           15              15                  0   \n",
       "2020-03-01                           17              17                  0   \n",
       "2020-03-02                           17              16                  0   \n",
       "...                                 ...             ...                ...   \n",
       "2021-02-14                         8311             542               2396   \n",
       "2021-02-15                         8346             554               2402   \n",
       "2021-02-16                         8386             551               2409   \n",
       "2021-02-17                         8422             548               2416   \n",
       "2021-02-18                         8432             524               2420   \n",
       "\n",
       "            NICE Ziekenhuis Bedden (intake)  \\\n",
       "Key                                           \n",
       "2020-02-27                                2   \n",
       "2020-02-28                                4   \n",
       "2020-02-29                                1   \n",
       "2020-03-01                                7   \n",
       "2020-03-02                               10   \n",
       "...                                     ...   \n",
       "2021-02-14                              134   \n",
       "2021-02-15                              188   \n",
       "2021-02-16                              150   \n",
       "2021-02-17                              112   \n",
       "2021-02-18                               15   \n",
       "\n",
       "            NICE Ziekenhuis Bedden (cumulatief)  NICE Ziekenhuis Bedden  \\\n",
       "Key                                                                       \n",
       "2020-02-27                                   65                      62   \n",
       "2020-02-28                                   69                      66   \n",
       "2020-02-29                                   70                      66   \n",
       "2020-03-01                                   77                      73   \n",
       "2020-03-02                                   88                      84   \n",
       "...                                         ...                     ...   \n",
       "2021-02-14                                39162                    1499   \n",
       "2021-02-15                                39348                    1607   \n",
       "2021-02-16                                39505                    1608   \n",
       "2021-02-17                                39630                    1585   \n",
       "2021-02-18                                39656                    1468   \n",
       "\n",
       "            NICE Ziekenhuis Overleden  ...  Positief getest week-1  \\\n",
       "Key                                    ...                           \n",
       "2020-02-27                          0  ...                     0.0   \n",
       "2020-02-28                          0  ...                     0.0   \n",
       "2020-02-29                          0  ...                     0.0   \n",
       "2020-03-01                          0  ...                     0.0   \n",
       "2020-03-02                          0  ...                     0.0   \n",
       "...                               ...  ...                     ...   \n",
       "2021-02-14                       5705  ...                 27409.0   \n",
       "2021-02-15                       5726  ...                 26426.0   \n",
       "2021-02-16                       5752  ...                 24627.0   \n",
       "2021-02-17                       5770  ...                 23789.0   \n",
       "2021-02-18                       5773  ...                 24012.0   \n",
       "\n",
       "            Ziekenhuisopnames  Ziekenhuisopnames (nieuw)  \\\n",
       "Key                                                        \n",
       "2020-02-27                  3                          3   \n",
       "2020-02-28                  6                          3   \n",
       "2020-02-29                  8                          2   \n",
       "2020-03-01                 17                          9   \n",
       "2020-03-02                 27                         10   \n",
       "...                       ...                        ...   \n",
       "2021-02-14              43999                        136   \n",
       "2021-02-15              44191                        192   \n",
       "2021-02-16              44333                        142   \n",
       "2021-02-17              44362                         29   \n",
       "2021-02-18              44362                          0   \n",
       "\n",
       "            Ziekenhuisopnames per 100.000  Ziekenhuisopnames 7d  \\\n",
       "Key                                                               \n",
       "2020-02-27                       0.017168                   0.0   \n",
       "2020-02-28                       0.034335                   0.0   \n",
       "2020-02-29                       0.045780                   0.0   \n",
       "2020-03-01                       0.097284                   0.0   \n",
       "2020-03-02                       0.154509                   0.0   \n",
       "...                                   ...                   ...   \n",
       "2021-02-14                     251.786970                1162.0   \n",
       "2021-02-15                     252.885702                1166.0   \n",
       "2021-02-16                     253.698305                1122.0   \n",
       "2021-02-17                     253.864260                 964.0   \n",
       "2021-02-18                     253.864260                 791.0   \n",
       "\n",
       "            Ziekenhuisopnames 7d per 100.000  Ziekenhuisopnames week-1  \\\n",
       "Key                                                                      \n",
       "2020-02-27                          0.000000                       0.0   \n",
       "2020-02-28                          0.000000                       0.0   \n",
       "2020-02-29                          0.000000                       0.0   \n",
       "2020-03-01                          0.000000                       0.0   \n",
       "2020-03-02                          0.000000                       0.0   \n",
       "...                                      ...                       ...   \n",
       "2021-02-14                          6.649616                    1173.0   \n",
       "2021-02-15                          6.672506                    1146.0   \n",
       "2021-02-16                          6.420714                    1153.0   \n",
       "2021-02-17                          5.516549                    1168.0   \n",
       "2021-02-18                          4.526546                    1155.0   \n",
       "\n",
       "            Reproductiegetal  Besmettelijk  Besmettelijk per 100.000  \n",
       "Key                                                                   \n",
       "2020-02-27              2.06        6808.0                      39.0  \n",
       "2020-02-28              2.10        8500.0                      49.0  \n",
       "2020-02-29              1.99       10568.0                      60.0  \n",
       "2020-03-01              1.83       13044.0                      75.0  \n",
       "2020-03-02              1.79       15996.0                      92.0  \n",
       "...                      ...           ...                       ...  \n",
       "2021-02-14              0.00           0.0                       0.0  \n",
       "2021-02-15              0.00           0.0                       0.0  \n",
       "2021-02-16              0.00           0.0                       0.0  \n",
       "2021-02-17              0.00           0.0                       0.0  \n",
       "2021-02-18              0.00           0.0                       0.0  \n",
       "\n",
       "[358 rows x 36 columns]"
      ]
     },
     "metadata": {},
     "output_type": "display_data"
    }
   ],
   "source": [
    "@run('reproductiegetal en besmettelijkheid')\n",
    "def cell():\n",
    "  global dagoverzicht\n",
    "\n",
    "  datasets = [\n",
    "    ('COVID-19_reproductiegetal', 'Rt_avg', 'Reproductiegetal'),\n",
    "    ('COVID-19_prevalentie', 'prev_avg', 'Besmettelijk'),\n",
    "  ]\n",
    "  for dataset, source, target in datasets:\n",
    "    # laad de dataset\n",
    "    df = RIVM.json(dataset).rename(columns={source: target})\n",
    "    # Date naar datetime index voor de merge\n",
    "    df['Date'] = pd.to_datetime(df['Date'])\n",
    "    df.set_index('Date', inplace=True)\n",
    "    # merge alleen de target kolom\n",
    "    df = df[[target]]\n",
    "    # voeg to aan dagoverzicht\n",
    "    dagoverzicht = dagoverzicht.merge(df, how='left', left_index=True, right_index=True)\n",
    "    # vul lege waarden met 0\n",
    "    dagoverzicht[target] = dagoverzicht[target].fillna(0)\n",
    "  # per 100k factor\n",
    "  dagoverzicht['Besmettelijk per 100.000'] = (dagoverzicht['Besmettelijk']  * bevolking['per 100k']).round(0)\n",
    "  display(dagoverzicht)"
   ]
  },
  {
   "cell_type": "code",
   "execution_count": 6,
   "id": "recreational-conditions",
   "metadata": {
    "execution": {
     "iopub.execute_input": "2021-02-18T17:13:06.176994Z",
     "iopub.status.busy": "2021-02-18T17:13:06.176337Z",
     "iopub.status.idle": "2021-02-18T17:13:06.716939Z",
     "shell.execute_reply": "2021-02-18T17:13:06.716130Z"
    },
    "lines_to_next_cell": 1,
    "papermill": {
     "duration": 0.562874,
     "end_time": "2021-02-18T17:13:06.717078",
     "exception": false,
     "start_time": "2021-02-18T17:13:06.154204",
     "status": "completed"
    },
    "tags": []
   },
   "outputs": [
    {
     "name": "stdout",
     "output_type": "stream",
     "text": [
      "uitgevoerde testen\n"
     ]
    },
    {
     "name": "stdout",
     "output_type": "stream",
     "text": [
      "rivm/COVID-19_uitgevoerde_testen-2021-02-18@14-15.csv exists\n",
      "loading rivm/COVID-19_uitgevoerde_testen-2021-02-18@14-15.csv.gz\n"
     ]
    },
    {
     "data": {
      "text/html": [
       "<div>\n",
       "<style scoped>\n",
       "    .dataframe tbody tr th:only-of-type {\n",
       "        vertical-align: middle;\n",
       "    }\n",
       "\n",
       "    .dataframe tbody tr th {\n",
       "        vertical-align: top;\n",
       "    }\n",
       "\n",
       "    .dataframe thead th {\n",
       "        text-align: right;\n",
       "    }\n",
       "</style>\n",
       "<table border=\"1\" class=\"dataframe\">\n",
       "  <thead>\n",
       "    <tr style=\"text-align: right;\">\n",
       "      <th></th>\n",
       "      <th>GGD getest</th>\n",
       "      <th>GGD getest positief</th>\n",
       "    </tr>\n",
       "    <tr>\n",
       "      <th>Datum</th>\n",
       "      <th></th>\n",
       "      <th></th>\n",
       "    </tr>\n",
       "  </thead>\n",
       "  <tbody>\n",
       "    <tr>\n",
       "      <th>2020-06-01</th>\n",
       "      <td>1552</td>\n",
       "      <td>73</td>\n",
       "    </tr>\n",
       "    <tr>\n",
       "      <th>2020-06-02</th>\n",
       "      <td>6819</td>\n",
       "      <td>203</td>\n",
       "    </tr>\n",
       "    <tr>\n",
       "      <th>2020-06-03</th>\n",
       "      <td>8867</td>\n",
       "      <td>165</td>\n",
       "    </tr>\n",
       "    <tr>\n",
       "      <th>2020-06-04</th>\n",
       "      <td>9339</td>\n",
       "      <td>171</td>\n",
       "    </tr>\n",
       "    <tr>\n",
       "      <th>2020-06-05</th>\n",
       "      <td>9464</td>\n",
       "      <td>135</td>\n",
       "    </tr>\n",
       "    <tr>\n",
       "      <th>...</th>\n",
       "      <td>...</td>\n",
       "      <td>...</td>\n",
       "    </tr>\n",
       "    <tr>\n",
       "      <th>2021-02-12</th>\n",
       "      <td>27670</td>\n",
       "      <td>2935</td>\n",
       "    </tr>\n",
       "    <tr>\n",
       "      <th>2021-02-13</th>\n",
       "      <td>22255</td>\n",
       "      <td>2553</td>\n",
       "    </tr>\n",
       "    <tr>\n",
       "      <th>2021-02-14</th>\n",
       "      <td>21390</td>\n",
       "      <td>2381</td>\n",
       "    </tr>\n",
       "    <tr>\n",
       "      <th>2021-02-15</th>\n",
       "      <td>22707</td>\n",
       "      <td>2076</td>\n",
       "    </tr>\n",
       "    <tr>\n",
       "      <th>2021-02-16</th>\n",
       "      <td>45376</td>\n",
       "      <td>4294</td>\n",
       "    </tr>\n",
       "  </tbody>\n",
       "</table>\n",
       "<p>261 rows × 2 columns</p>\n",
       "</div>"
      ],
      "text/plain": [
       "            GGD getest  GGD getest positief\n",
       "Datum                                      \n",
       "2020-06-01        1552                   73\n",
       "2020-06-02        6819                  203\n",
       "2020-06-03        8867                  165\n",
       "2020-06-04        9339                  171\n",
       "2020-06-05        9464                  135\n",
       "...                ...                  ...\n",
       "2021-02-12       27670                 2935\n",
       "2021-02-13       22255                 2553\n",
       "2021-02-14       21390                 2381\n",
       "2021-02-15       22707                 2076\n",
       "2021-02-16       45376                 4294\n",
       "\n",
       "[261 rows x 2 columns]"
      ]
     },
     "metadata": {},
     "output_type": "display_data"
    },
    {
     "data": {
      "text/html": [
       "<div>\n",
       "<style scoped>\n",
       "    .dataframe tbody tr th:only-of-type {\n",
       "        vertical-align: middle;\n",
       "    }\n",
       "\n",
       "    .dataframe tbody tr th {\n",
       "        vertical-align: top;\n",
       "    }\n",
       "\n",
       "    .dataframe thead th {\n",
       "        text-align: right;\n",
       "    }\n",
       "</style>\n",
       "<table border=\"1\" class=\"dataframe\">\n",
       "  <thead>\n",
       "    <tr style=\"text-align: right;\">\n",
       "      <th></th>\n",
       "      <th>Datum</th>\n",
       "      <th>LandCode</th>\n",
       "      <th>NICE IC Bedden (intake)</th>\n",
       "      <th>NICE IC Bedden (cumulatief)</th>\n",
       "      <th>NICE IC Bedden</th>\n",
       "      <th>NICE IC Overleden</th>\n",
       "      <th>NICE Ziekenhuis Bedden (intake)</th>\n",
       "      <th>NICE Ziekenhuis Bedden (cumulatief)</th>\n",
       "      <th>NICE Ziekenhuis Bedden</th>\n",
       "      <th>NICE Ziekenhuis Overleden</th>\n",
       "      <th>...</th>\n",
       "      <th>Besmettelijk per 100.000</th>\n",
       "      <th>GGD getest</th>\n",
       "      <th>GGD getest positief</th>\n",
       "      <th>GGD percentage positief</th>\n",
       "      <th>GGD getest (7 daags)</th>\n",
       "      <th>GGD getest positief (7 daags)</th>\n",
       "      <th>GGD percentage positief (7 daags)</th>\n",
       "      <th>GGD getest (cumulatief)</th>\n",
       "      <th>GGD getest positief (cumulatief)</th>\n",
       "      <th>GGD percentage positief (cumulatief)</th>\n",
       "    </tr>\n",
       "    <tr>\n",
       "      <th>Key</th>\n",
       "      <th></th>\n",
       "      <th></th>\n",
       "      <th></th>\n",
       "      <th></th>\n",
       "      <th></th>\n",
       "      <th></th>\n",
       "      <th></th>\n",
       "      <th></th>\n",
       "      <th></th>\n",
       "      <th></th>\n",
       "      <th></th>\n",
       "      <th></th>\n",
       "      <th></th>\n",
       "      <th></th>\n",
       "      <th></th>\n",
       "      <th></th>\n",
       "      <th></th>\n",
       "      <th></th>\n",
       "      <th></th>\n",
       "      <th></th>\n",
       "      <th></th>\n",
       "    </tr>\n",
       "  </thead>\n",
       "  <tbody>\n",
       "    <tr>\n",
       "      <th>2020-02-27</th>\n",
       "      <td>2020-02-27</td>\n",
       "      <td>NL</td>\n",
       "      <td>1</td>\n",
       "      <td>13</td>\n",
       "      <td>13</td>\n",
       "      <td>0</td>\n",
       "      <td>2</td>\n",
       "      <td>65</td>\n",
       "      <td>62</td>\n",
       "      <td>0</td>\n",
       "      <td>...</td>\n",
       "      <td>39.0</td>\n",
       "      <td>0.0</td>\n",
       "      <td>0.0</td>\n",
       "      <td>0.0</td>\n",
       "      <td>0.0</td>\n",
       "      <td>0.0</td>\n",
       "      <td>0.0</td>\n",
       "      <td>0.0</td>\n",
       "      <td>0.0</td>\n",
       "      <td>0.0</td>\n",
       "    </tr>\n",
       "    <tr>\n",
       "      <th>2020-02-28</th>\n",
       "      <td>2020-02-28</td>\n",
       "      <td>NL</td>\n",
       "      <td>0</td>\n",
       "      <td>14</td>\n",
       "      <td>14</td>\n",
       "      <td>0</td>\n",
       "      <td>4</td>\n",
       "      <td>69</td>\n",
       "      <td>66</td>\n",
       "      <td>0</td>\n",
       "      <td>...</td>\n",
       "      <td>49.0</td>\n",
       "      <td>0.0</td>\n",
       "      <td>0.0</td>\n",
       "      <td>0.0</td>\n",
       "      <td>0.0</td>\n",
       "      <td>0.0</td>\n",
       "      <td>0.0</td>\n",
       "      <td>0.0</td>\n",
       "      <td>0.0</td>\n",
       "      <td>0.0</td>\n",
       "    </tr>\n",
       "    <tr>\n",
       "      <th>2020-02-29</th>\n",
       "      <td>2020-02-29</td>\n",
       "      <td>NL</td>\n",
       "      <td>0</td>\n",
       "      <td>15</td>\n",
       "      <td>15</td>\n",
       "      <td>0</td>\n",
       "      <td>1</td>\n",
       "      <td>70</td>\n",
       "      <td>66</td>\n",
       "      <td>0</td>\n",
       "      <td>...</td>\n",
       "      <td>60.0</td>\n",
       "      <td>0.0</td>\n",
       "      <td>0.0</td>\n",
       "      <td>0.0</td>\n",
       "      <td>0.0</td>\n",
       "      <td>0.0</td>\n",
       "      <td>0.0</td>\n",
       "      <td>0.0</td>\n",
       "      <td>0.0</td>\n",
       "      <td>0.0</td>\n",
       "    </tr>\n",
       "    <tr>\n",
       "      <th>2020-03-01</th>\n",
       "      <td>2020-03-01</td>\n",
       "      <td>NL</td>\n",
       "      <td>2</td>\n",
       "      <td>17</td>\n",
       "      <td>17</td>\n",
       "      <td>0</td>\n",
       "      <td>7</td>\n",
       "      <td>77</td>\n",
       "      <td>73</td>\n",
       "      <td>0</td>\n",
       "      <td>...</td>\n",
       "      <td>75.0</td>\n",
       "      <td>0.0</td>\n",
       "      <td>0.0</td>\n",
       "      <td>0.0</td>\n",
       "      <td>0.0</td>\n",
       "      <td>0.0</td>\n",
       "      <td>0.0</td>\n",
       "      <td>0.0</td>\n",
       "      <td>0.0</td>\n",
       "      <td>0.0</td>\n",
       "    </tr>\n",
       "    <tr>\n",
       "      <th>2020-03-02</th>\n",
       "      <td>2020-03-02</td>\n",
       "      <td>NL</td>\n",
       "      <td>0</td>\n",
       "      <td>17</td>\n",
       "      <td>16</td>\n",
       "      <td>0</td>\n",
       "      <td>10</td>\n",
       "      <td>88</td>\n",
       "      <td>84</td>\n",
       "      <td>0</td>\n",
       "      <td>...</td>\n",
       "      <td>92.0</td>\n",
       "      <td>0.0</td>\n",
       "      <td>0.0</td>\n",
       "      <td>0.0</td>\n",
       "      <td>0.0</td>\n",
       "      <td>0.0</td>\n",
       "      <td>0.0</td>\n",
       "      <td>0.0</td>\n",
       "      <td>0.0</td>\n",
       "      <td>0.0</td>\n",
       "    </tr>\n",
       "    <tr>\n",
       "      <th>2020-03-03</th>\n",
       "      <td>2020-03-03</td>\n",
       "      <td>NL</td>\n",
       "      <td>1</td>\n",
       "      <td>19</td>\n",
       "      <td>18</td>\n",
       "      <td>0</td>\n",
       "      <td>8</td>\n",
       "      <td>96</td>\n",
       "      <td>91</td>\n",
       "      <td>0</td>\n",
       "      <td>...</td>\n",
       "      <td>111.0</td>\n",
       "      <td>0.0</td>\n",
       "      <td>0.0</td>\n",
       "      <td>0.0</td>\n",
       "      <td>0.0</td>\n",
       "      <td>0.0</td>\n",
       "      <td>0.0</td>\n",
       "      <td>0.0</td>\n",
       "      <td>0.0</td>\n",
       "      <td>0.0</td>\n",
       "    </tr>\n",
       "    <tr>\n",
       "      <th>2020-03-04</th>\n",
       "      <td>2020-03-04</td>\n",
       "      <td>NL</td>\n",
       "      <td>3</td>\n",
       "      <td>22</td>\n",
       "      <td>21</td>\n",
       "      <td>0</td>\n",
       "      <td>10</td>\n",
       "      <td>109</td>\n",
       "      <td>103</td>\n",
       "      <td>0</td>\n",
       "      <td>...</td>\n",
       "      <td>133.0</td>\n",
       "      <td>0.0</td>\n",
       "      <td>0.0</td>\n",
       "      <td>0.0</td>\n",
       "      <td>0.0</td>\n",
       "      <td>0.0</td>\n",
       "      <td>0.0</td>\n",
       "      <td>0.0</td>\n",
       "      <td>0.0</td>\n",
       "      <td>0.0</td>\n",
       "    </tr>\n",
       "    <tr>\n",
       "      <th>2020-03-05</th>\n",
       "      <td>2020-03-05</td>\n",
       "      <td>NL</td>\n",
       "      <td>1</td>\n",
       "      <td>24</td>\n",
       "      <td>21</td>\n",
       "      <td>0</td>\n",
       "      <td>12</td>\n",
       "      <td>121</td>\n",
       "      <td>113</td>\n",
       "      <td>0</td>\n",
       "      <td>...</td>\n",
       "      <td>158.0</td>\n",
       "      <td>0.0</td>\n",
       "      <td>0.0</td>\n",
       "      <td>0.0</td>\n",
       "      <td>0.0</td>\n",
       "      <td>0.0</td>\n",
       "      <td>0.0</td>\n",
       "      <td>0.0</td>\n",
       "      <td>0.0</td>\n",
       "      <td>0.0</td>\n",
       "    </tr>\n",
       "    <tr>\n",
       "      <th>2020-03-06</th>\n",
       "      <td>2020-03-06</td>\n",
       "      <td>NL</td>\n",
       "      <td>4</td>\n",
       "      <td>28</td>\n",
       "      <td>24</td>\n",
       "      <td>0</td>\n",
       "      <td>19</td>\n",
       "      <td>138</td>\n",
       "      <td>129</td>\n",
       "      <td>0</td>\n",
       "      <td>...</td>\n",
       "      <td>186.0</td>\n",
       "      <td>0.0</td>\n",
       "      <td>0.0</td>\n",
       "      <td>0.0</td>\n",
       "      <td>0.0</td>\n",
       "      <td>0.0</td>\n",
       "      <td>0.0</td>\n",
       "      <td>0.0</td>\n",
       "      <td>0.0</td>\n",
       "      <td>0.0</td>\n",
       "    </tr>\n",
       "    <tr>\n",
       "      <th>2020-03-07</th>\n",
       "      <td>2020-03-07</td>\n",
       "      <td>NL</td>\n",
       "      <td>3</td>\n",
       "      <td>31</td>\n",
       "      <td>26</td>\n",
       "      <td>0</td>\n",
       "      <td>7</td>\n",
       "      <td>146</td>\n",
       "      <td>137</td>\n",
       "      <td>1</td>\n",
       "      <td>...</td>\n",
       "      <td>220.0</td>\n",
       "      <td>0.0</td>\n",
       "      <td>0.0</td>\n",
       "      <td>0.0</td>\n",
       "      <td>0.0</td>\n",
       "      <td>0.0</td>\n",
       "      <td>0.0</td>\n",
       "      <td>0.0</td>\n",
       "      <td>0.0</td>\n",
       "      <td>0.0</td>\n",
       "    </tr>\n",
       "  </tbody>\n",
       "</table>\n",
       "<p>10 rows × 45 columns</p>\n",
       "</div>"
      ],
      "text/plain": [
       "                 Datum LandCode  NICE IC Bedden (intake)  \\\n",
       "Key                                                        \n",
       "2020-02-27  2020-02-27       NL                        1   \n",
       "2020-02-28  2020-02-28       NL                        0   \n",
       "2020-02-29  2020-02-29       NL                        0   \n",
       "2020-03-01  2020-03-01       NL                        2   \n",
       "2020-03-02  2020-03-02       NL                        0   \n",
       "2020-03-03  2020-03-03       NL                        1   \n",
       "2020-03-04  2020-03-04       NL                        3   \n",
       "2020-03-05  2020-03-05       NL                        1   \n",
       "2020-03-06  2020-03-06       NL                        4   \n",
       "2020-03-07  2020-03-07       NL                        3   \n",
       "\n",
       "            NICE IC Bedden (cumulatief)  NICE IC Bedden  NICE IC Overleden  \\\n",
       "Key                                                                          \n",
       "2020-02-27                           13              13                  0   \n",
       "2020-02-28                           14              14                  0   \n",
       "2020-02-29                           15              15                  0   \n",
       "2020-03-01                           17              17                  0   \n",
       "2020-03-02                           17              16                  0   \n",
       "2020-03-03                           19              18                  0   \n",
       "2020-03-04                           22              21                  0   \n",
       "2020-03-05                           24              21                  0   \n",
       "2020-03-06                           28              24                  0   \n",
       "2020-03-07                           31              26                  0   \n",
       "\n",
       "            NICE Ziekenhuis Bedden (intake)  \\\n",
       "Key                                           \n",
       "2020-02-27                                2   \n",
       "2020-02-28                                4   \n",
       "2020-02-29                                1   \n",
       "2020-03-01                                7   \n",
       "2020-03-02                               10   \n",
       "2020-03-03                                8   \n",
       "2020-03-04                               10   \n",
       "2020-03-05                               12   \n",
       "2020-03-06                               19   \n",
       "2020-03-07                                7   \n",
       "\n",
       "            NICE Ziekenhuis Bedden (cumulatief)  NICE Ziekenhuis Bedden  \\\n",
       "Key                                                                       \n",
       "2020-02-27                                   65                      62   \n",
       "2020-02-28                                   69                      66   \n",
       "2020-02-29                                   70                      66   \n",
       "2020-03-01                                   77                      73   \n",
       "2020-03-02                                   88                      84   \n",
       "2020-03-03                                   96                      91   \n",
       "2020-03-04                                  109                     103   \n",
       "2020-03-05                                  121                     113   \n",
       "2020-03-06                                  138                     129   \n",
       "2020-03-07                                  146                     137   \n",
       "\n",
       "            NICE Ziekenhuis Overleden  ...  Besmettelijk per 100.000  \\\n",
       "Key                                    ...                             \n",
       "2020-02-27                          0  ...                      39.0   \n",
       "2020-02-28                          0  ...                      49.0   \n",
       "2020-02-29                          0  ...                      60.0   \n",
       "2020-03-01                          0  ...                      75.0   \n",
       "2020-03-02                          0  ...                      92.0   \n",
       "2020-03-03                          0  ...                     111.0   \n",
       "2020-03-04                          0  ...                     133.0   \n",
       "2020-03-05                          0  ...                     158.0   \n",
       "2020-03-06                          0  ...                     186.0   \n",
       "2020-03-07                          1  ...                     220.0   \n",
       "\n",
       "            GGD getest  GGD getest positief  GGD percentage positief  \\\n",
       "Key                                                                    \n",
       "2020-02-27         0.0                  0.0                      0.0   \n",
       "2020-02-28         0.0                  0.0                      0.0   \n",
       "2020-02-29         0.0                  0.0                      0.0   \n",
       "2020-03-01         0.0                  0.0                      0.0   \n",
       "2020-03-02         0.0                  0.0                      0.0   \n",
       "2020-03-03         0.0                  0.0                      0.0   \n",
       "2020-03-04         0.0                  0.0                      0.0   \n",
       "2020-03-05         0.0                  0.0                      0.0   \n",
       "2020-03-06         0.0                  0.0                      0.0   \n",
       "2020-03-07         0.0                  0.0                      0.0   \n",
       "\n",
       "            GGD getest (7 daags)  GGD getest positief (7 daags)  \\\n",
       "Key                                                               \n",
       "2020-02-27                   0.0                            0.0   \n",
       "2020-02-28                   0.0                            0.0   \n",
       "2020-02-29                   0.0                            0.0   \n",
       "2020-03-01                   0.0                            0.0   \n",
       "2020-03-02                   0.0                            0.0   \n",
       "2020-03-03                   0.0                            0.0   \n",
       "2020-03-04                   0.0                            0.0   \n",
       "2020-03-05                   0.0                            0.0   \n",
       "2020-03-06                   0.0                            0.0   \n",
       "2020-03-07                   0.0                            0.0   \n",
       "\n",
       "            GGD percentage positief (7 daags)  GGD getest (cumulatief)  \\\n",
       "Key                                                                      \n",
       "2020-02-27                                0.0                      0.0   \n",
       "2020-02-28                                0.0                      0.0   \n",
       "2020-02-29                                0.0                      0.0   \n",
       "2020-03-01                                0.0                      0.0   \n",
       "2020-03-02                                0.0                      0.0   \n",
       "2020-03-03                                0.0                      0.0   \n",
       "2020-03-04                                0.0                      0.0   \n",
       "2020-03-05                                0.0                      0.0   \n",
       "2020-03-06                                0.0                      0.0   \n",
       "2020-03-07                                0.0                      0.0   \n",
       "\n",
       "            GGD getest positief (cumulatief)  \\\n",
       "Key                                            \n",
       "2020-02-27                               0.0   \n",
       "2020-02-28                               0.0   \n",
       "2020-02-29                               0.0   \n",
       "2020-03-01                               0.0   \n",
       "2020-03-02                               0.0   \n",
       "2020-03-03                               0.0   \n",
       "2020-03-04                               0.0   \n",
       "2020-03-05                               0.0   \n",
       "2020-03-06                               0.0   \n",
       "2020-03-07                               0.0   \n",
       "\n",
       "            GGD percentage positief (cumulatief)  \n",
       "Key                                               \n",
       "2020-02-27                                   0.0  \n",
       "2020-02-28                                   0.0  \n",
       "2020-02-29                                   0.0  \n",
       "2020-03-01                                   0.0  \n",
       "2020-03-02                                   0.0  \n",
       "2020-03-03                                   0.0  \n",
       "2020-03-04                                   0.0  \n",
       "2020-03-05                                   0.0  \n",
       "2020-03-06                                   0.0  \n",
       "2020-03-07                                   0.0  \n",
       "\n",
       "[10 rows x 45 columns]"
      ]
     },
     "metadata": {},
     "output_type": "display_data"
    }
   ],
   "source": [
    "@run('uitgevoerde testen')\n",
    "def cell():\n",
    "  df = RIVM.csv('COVID-19_uitgevoerde_testen').rename(columns={\n",
    "    'Date_of_statistics': 'Datum',\n",
    "    'Tested_with_result': 'GGD getest',\n",
    "    'Tested_positive': 'GGD getest positief',\n",
    "  })\n",
    "  df['Datum'] = pd.to_datetime(df.Datum)\n",
    "  df = df.groupby(['Datum']).agg({'GGD getest': 'sum', 'GGD getest positief': 'sum'})\n",
    "  display(df)\n",
    "\n",
    "  global dagoverzicht\n",
    "  columns = dagoverzicht.columns\n",
    "\n",
    "  dagoverzicht = dagoverzicht.merge(df, how='left', left_index=True, right_index=True)\n",
    "\n",
    "  dagoverzicht['GGD percentage positief'] = (dagoverzicht['GGD getest positief'] / dagoverzicht['GGD getest']).fillna(0)\n",
    "\n",
    "  dagoverzicht['GGD getest (7 daags)'] = dagoverzicht['GGD getest'].rolling(7).sum().fillna(0)\n",
    "  dagoverzicht['GGD getest positief (7 daags)'] = dagoverzicht['GGD getest positief'].rolling(7).sum().fillna(0)\n",
    "\n",
    "  dagoverzicht['GGD percentage positief (7 daags)'] = (dagoverzicht['GGD getest positief (7 daags)'] / dagoverzicht['GGD getest (7 daags)']).fillna(0)\n",
    "\n",
    "  dagoverzicht['GGD getest (cumulatief)'] = dagoverzicht['GGD getest'].cumsum()\n",
    "  dagoverzicht['GGD getest positief (cumulatief)'] = dagoverzicht['GGD getest positief'].cumsum()\n",
    "\n",
    "  dagoverzicht['GGD percentage positief (cumulatief)'] = (dagoverzicht['GGD getest positief (cumulatief)'] / dagoverzicht['GGD getest (cumulatief)']).fillna(0)\n",
    "\n",
    "  # fill 0 *after* the calculations above to prevent summing 'GGD getest (7 daags) from the starting date of the 'GGD getest' series\n",
    "  for col in dagoverzicht.columns:\n",
    "    # only zero out new columns\n",
    "    if col in columns: continue\n",
    "    dagoverzicht[col] = dagoverzicht[col].fillna(0)\n",
    "\n",
    "  display(dagoverzicht.head(10))"
   ]
  },
  {
   "cell_type": "code",
   "execution_count": 7,
   "id": "atlantic-gilbert",
   "metadata": {
    "execution": {
     "iopub.execute_input": "2021-02-18T17:13:06.762415Z",
     "iopub.status.busy": "2021-02-18T17:13:06.761834Z",
     "iopub.status.idle": "2021-02-18T17:13:07.585023Z",
     "shell.execute_reply": "2021-02-18T17:13:07.585465Z"
    },
    "lines_to_next_cell": 1,
    "papermill": {
     "duration": 0.850938,
     "end_time": "2021-02-18T17:13:07.585621",
     "exception": false,
     "start_time": "2021-02-18T17:13:06.734683",
     "status": "completed"
    },
    "tags": []
   },
   "outputs": [
    {
     "name": "stdout",
     "output_type": "stream",
     "text": [
      "LCPS\n"
     ]
    },
    {
     "name": "stdout",
     "output_type": "stream",
     "text": [
      "lcps/covid-19-2021-02-18@13-00.csv exists\n",
      "loading lcps/covid-19-2021-02-18@13-00.csv.gz\n"
     ]
    }
   ],
   "source": [
    "@run('LCPS')\n",
    "def cell():\n",
    "  # laad dataset\n",
    "  df = LCPS.csv('covid-19').rename(columns={\n",
    "    'IC_Bedden_COVID': 'LCPS IC Bedden COVID',\n",
    "    'IC_Bedden_Non_COVID': 'LCPS IC Bedden Non COVID',\n",
    "    'Kliniek_Bedden': 'LCPS Kliniek Bedden COVID',\n",
    "    'IC_Nieuwe_Opnames_COVID': 'LCPS IC Nieuwe Opnames COVID',\n",
    "    'Kliniek_Nieuwe_Opnames_COVID': 'LCPS Kliniek Nieuwe Opnames COVID',\n",
    "  })\n",
    "  # datum naar datetime index voor merge\n",
    "  df['Datum'] = pd.to_datetime(df['Datum'], format='%d-%m-%Y')\n",
    "  df.set_index('Datum', inplace=True)\n",
    "\n",
    "  # sommeer op datum\n",
    "  df = df.groupby(['Datum']).agg({col: 'sum' for col in df.columns})\n",
    "\n",
    "  # toename = waarde - vorige\n",
    "  df['LCPS IC Bedden COVID (toename)'] = (df['LCPS IC Bedden COVID'] - df['LCPS IC Bedden COVID'].shift(1)).fillna(0)\n",
    "  df['LCPS Kliniek Bedden COVID (toename)'] = (df['LCPS Kliniek Bedden COVID'] - df['LCPS Kliniek Bedden COVID'].shift(1)).fillna(0)\n",
    "\n",
    "  global dagoverzicht\n",
    "  # voeg toe aan dagoverzicht\n",
    "  dagoverzicht = dagoverzicht.merge(df, how='left', left_index=True, right_index=True)\n",
    "  for col in df.columns:\n",
    "    # vervang lege waarden door 0\n",
    "    dagoverzicht[col] = dagoverzicht[col].fillna(0).astype(int)"
   ]
  },
  {
   "cell_type": "code",
   "execution_count": 8,
   "id": "eleven-charlotte",
   "metadata": {
    "execution": {
     "iopub.execute_input": "2021-02-18T17:13:07.627985Z",
     "iopub.status.busy": "2021-02-18T17:13:07.627410Z",
     "iopub.status.idle": "2021-02-18T17:13:07.780995Z",
     "shell.execute_reply": "2021-02-18T17:13:07.781440Z"
    },
    "lines_to_next_cell": 1,
    "papermill": {
     "duration": 0.179679,
     "end_time": "2021-02-18T17:13:07.781599",
     "exception": false,
     "start_time": "2021-02-18T17:13:07.601920",
     "status": "completed"
    },
    "tags": []
   },
   "outputs": [
    {
     "name": "stdout",
     "output_type": "stream",
     "text": [
      "corrections\n",
      "https://api.github.com/repos/mzelst/covid-19/contents/corrections/corrections_perday.csv\n"
     ]
    },
    {
     "name": "stdout",
     "output_type": "stream",
     "text": [
      "github/corrections_perday-2021-02-18@14-23.csv exists\n"
     ]
    }
   ],
   "source": [
    "@run('corrections')\n",
    "def cell():\n",
    "  # laad corrections van mzelst\n",
    "  df = GitHub.csv('mzelst/covid-19/contents/corrections/corrections_perday.csv')\n",
    "  # date naar datetime index voor merge\n",
    "  df['date'] = pd.to_datetime(df.date)\n",
    "  df.set_index('date', inplace=True)\n",
    "  columns =  {\n",
    "    'net.infection': 'Positief getest (toename)',\n",
    "    'net.hospitals': 'Ziekenhuisopnames (toename)',\n",
    "    'net.deaths': 'Overleden (toename)'\n",
    "  }\n",
    "  # rename kolommen naar onze namen\n",
    "  df = df.rename(columns=columns)[list(columns.values())]\n",
    "\n",
    "  global dagoverzicht\n",
    "  # voeg toe aan dagoverxicht\n",
    "  dagoverzicht = dagoverzicht.merge(df, how='left', left_index=True, right_index=True)\n",
    "  for col in columns.values():\n",
    "    # set lege waarden op 0\n",
    "    dagoverzicht[col] = dagoverzicht[col].fillna(0).astype(int)"
   ]
  },
  {
   "cell_type": "code",
   "execution_count": 9,
   "id": "confidential-carpet",
   "metadata": {
    "execution": {
     "iopub.execute_input": "2021-02-18T17:13:07.819599Z",
     "iopub.status.busy": "2021-02-18T17:13:07.819034Z",
     "iopub.status.idle": "2021-02-18T17:13:07.870743Z",
     "shell.execute_reply": "2021-02-18T17:13:07.871228Z"
    },
    "lines_to_next_cell": 1,
    "papermill": {
     "duration": 0.073542,
     "end_time": "2021-02-18T17:13:07.871386",
     "exception": false,
     "start_time": "2021-02-18T17:13:07.797844",
     "status": "completed"
    },
    "tags": []
   },
   "outputs": [
    {
     "name": "stdout",
     "output_type": "stream",
     "text": [
      "Personen\n"
     ]
    },
    {
     "data": {
      "text/html": [
       "<div>\n",
       "<style scoped>\n",
       "    .dataframe tbody tr th:only-of-type {\n",
       "        vertical-align: middle;\n",
       "    }\n",
       "\n",
       "    .dataframe tbody tr th {\n",
       "        vertical-align: top;\n",
       "    }\n",
       "\n",
       "    .dataframe thead th {\n",
       "        text-align: right;\n",
       "    }\n",
       "</style>\n",
       "<table border=\"1\" class=\"dataframe\">\n",
       "  <thead>\n",
       "    <tr style=\"text-align: right;\">\n",
       "      <th></th>\n",
       "      <th>Datum</th>\n",
       "      <th>LandCode</th>\n",
       "      <th>NICE IC Bedden (intake)</th>\n",
       "      <th>NICE IC Bedden (cumulatief)</th>\n",
       "      <th>NICE IC Bedden</th>\n",
       "      <th>NICE IC Overleden</th>\n",
       "      <th>NICE Ziekenhuis Bedden (intake)</th>\n",
       "      <th>NICE Ziekenhuis Bedden (cumulatief)</th>\n",
       "      <th>NICE Ziekenhuis Bedden</th>\n",
       "      <th>NICE Ziekenhuis Overleden</th>\n",
       "      <th>...</th>\n",
       "      <th>LCPS IC Bedden Non COVID</th>\n",
       "      <th>LCPS Kliniek Bedden COVID</th>\n",
       "      <th>LCPS IC Nieuwe Opnames COVID</th>\n",
       "      <th>LCPS Kliniek Nieuwe Opnames COVID</th>\n",
       "      <th>LCPS IC Bedden COVID (toename)</th>\n",
       "      <th>LCPS Kliniek Bedden COVID (toename)</th>\n",
       "      <th>Positief getest (toename)</th>\n",
       "      <th>Ziekenhuisopnames (toename)</th>\n",
       "      <th>Overleden (toename)</th>\n",
       "      <th>Personen</th>\n",
       "    </tr>\n",
       "    <tr>\n",
       "      <th>Key</th>\n",
       "      <th></th>\n",
       "      <th></th>\n",
       "      <th></th>\n",
       "      <th></th>\n",
       "      <th></th>\n",
       "      <th></th>\n",
       "      <th></th>\n",
       "      <th></th>\n",
       "      <th></th>\n",
       "      <th></th>\n",
       "      <th></th>\n",
       "      <th></th>\n",
       "      <th></th>\n",
       "      <th></th>\n",
       "      <th></th>\n",
       "      <th></th>\n",
       "      <th></th>\n",
       "      <th></th>\n",
       "      <th></th>\n",
       "      <th></th>\n",
       "      <th></th>\n",
       "    </tr>\n",
       "  </thead>\n",
       "  <tbody>\n",
       "    <tr>\n",
       "      <th>2020-02-27</th>\n",
       "      <td>2020-02-27</td>\n",
       "      <td>NL</td>\n",
       "      <td>1</td>\n",
       "      <td>13</td>\n",
       "      <td>13</td>\n",
       "      <td>0</td>\n",
       "      <td>2</td>\n",
       "      <td>65</td>\n",
       "      <td>62</td>\n",
       "      <td>0</td>\n",
       "      <td>...</td>\n",
       "      <td>0</td>\n",
       "      <td>1</td>\n",
       "      <td>0</td>\n",
       "      <td>0</td>\n",
       "      <td>0</td>\n",
       "      <td>0</td>\n",
       "      <td>0</td>\n",
       "      <td>0</td>\n",
       "      <td>0</td>\n",
       "      <td>17474693</td>\n",
       "    </tr>\n",
       "    <tr>\n",
       "      <th>2020-02-28</th>\n",
       "      <td>2020-02-28</td>\n",
       "      <td>NL</td>\n",
       "      <td>0</td>\n",
       "      <td>14</td>\n",
       "      <td>14</td>\n",
       "      <td>0</td>\n",
       "      <td>4</td>\n",
       "      <td>69</td>\n",
       "      <td>66</td>\n",
       "      <td>0</td>\n",
       "      <td>...</td>\n",
       "      <td>0</td>\n",
       "      <td>9</td>\n",
       "      <td>0</td>\n",
       "      <td>0</td>\n",
       "      <td>1</td>\n",
       "      <td>8</td>\n",
       "      <td>0</td>\n",
       "      <td>0</td>\n",
       "      <td>0</td>\n",
       "      <td>17474693</td>\n",
       "    </tr>\n",
       "    <tr>\n",
       "      <th>2020-02-29</th>\n",
       "      <td>2020-02-29</td>\n",
       "      <td>NL</td>\n",
       "      <td>0</td>\n",
       "      <td>15</td>\n",
       "      <td>15</td>\n",
       "      <td>0</td>\n",
       "      <td>1</td>\n",
       "      <td>70</td>\n",
       "      <td>66</td>\n",
       "      <td>0</td>\n",
       "      <td>...</td>\n",
       "      <td>0</td>\n",
       "      <td>10</td>\n",
       "      <td>0</td>\n",
       "      <td>0</td>\n",
       "      <td>1</td>\n",
       "      <td>1</td>\n",
       "      <td>0</td>\n",
       "      <td>0</td>\n",
       "      <td>0</td>\n",
       "      <td>17474693</td>\n",
       "    </tr>\n",
       "    <tr>\n",
       "      <th>2020-03-01</th>\n",
       "      <td>2020-03-01</td>\n",
       "      <td>NL</td>\n",
       "      <td>2</td>\n",
       "      <td>17</td>\n",
       "      <td>17</td>\n",
       "      <td>0</td>\n",
       "      <td>7</td>\n",
       "      <td>77</td>\n",
       "      <td>73</td>\n",
       "      <td>0</td>\n",
       "      <td>...</td>\n",
       "      <td>0</td>\n",
       "      <td>20</td>\n",
       "      <td>0</td>\n",
       "      <td>0</td>\n",
       "      <td>2</td>\n",
       "      <td>10</td>\n",
       "      <td>0</td>\n",
       "      <td>0</td>\n",
       "      <td>0</td>\n",
       "      <td>17474693</td>\n",
       "    </tr>\n",
       "    <tr>\n",
       "      <th>2020-03-02</th>\n",
       "      <td>2020-03-02</td>\n",
       "      <td>NL</td>\n",
       "      <td>0</td>\n",
       "      <td>17</td>\n",
       "      <td>16</td>\n",
       "      <td>0</td>\n",
       "      <td>10</td>\n",
       "      <td>88</td>\n",
       "      <td>84</td>\n",
       "      <td>0</td>\n",
       "      <td>...</td>\n",
       "      <td>0</td>\n",
       "      <td>34</td>\n",
       "      <td>0</td>\n",
       "      <td>0</td>\n",
       "      <td>-1</td>\n",
       "      <td>14</td>\n",
       "      <td>0</td>\n",
       "      <td>0</td>\n",
       "      <td>0</td>\n",
       "      <td>17474693</td>\n",
       "    </tr>\n",
       "    <tr>\n",
       "      <th>...</th>\n",
       "      <td>...</td>\n",
       "      <td>...</td>\n",
       "      <td>...</td>\n",
       "      <td>...</td>\n",
       "      <td>...</td>\n",
       "      <td>...</td>\n",
       "      <td>...</td>\n",
       "      <td>...</td>\n",
       "      <td>...</td>\n",
       "      <td>...</td>\n",
       "      <td>...</td>\n",
       "      <td>...</td>\n",
       "      <td>...</td>\n",
       "      <td>...</td>\n",
       "      <td>...</td>\n",
       "      <td>...</td>\n",
       "      <td>...</td>\n",
       "      <td>...</td>\n",
       "      <td>...</td>\n",
       "      <td>...</td>\n",
       "      <td>...</td>\n",
       "    </tr>\n",
       "    <tr>\n",
       "      <th>2021-02-14</th>\n",
       "      <td>2021-02-14</td>\n",
       "      <td>NL</td>\n",
       "      <td>25</td>\n",
       "      <td>8311</td>\n",
       "      <td>542</td>\n",
       "      <td>2396</td>\n",
       "      <td>134</td>\n",
       "      <td>39162</td>\n",
       "      <td>1499</td>\n",
       "      <td>5705</td>\n",
       "      <td>...</td>\n",
       "      <td>470</td>\n",
       "      <td>1329</td>\n",
       "      <td>19</td>\n",
       "      <td>135</td>\n",
       "      <td>-8</td>\n",
       "      <td>4</td>\n",
       "      <td>3447</td>\n",
       "      <td>61</td>\n",
       "      <td>23</td>\n",
       "      <td>17474693</td>\n",
       "    </tr>\n",
       "    <tr>\n",
       "      <th>2021-02-15</th>\n",
       "      <td>2021-02-15</td>\n",
       "      <td>NL</td>\n",
       "      <td>32</td>\n",
       "      <td>8346</td>\n",
       "      <td>554</td>\n",
       "      <td>2402</td>\n",
       "      <td>188</td>\n",
       "      <td>39348</td>\n",
       "      <td>1607</td>\n",
       "      <td>5726</td>\n",
       "      <td>...</td>\n",
       "      <td>499</td>\n",
       "      <td>1386</td>\n",
       "      <td>22</td>\n",
       "      <td>143</td>\n",
       "      <td>6</td>\n",
       "      <td>57</td>\n",
       "      <td>2810</td>\n",
       "      <td>45</td>\n",
       "      <td>27</td>\n",
       "      <td>17474693</td>\n",
       "    </tr>\n",
       "    <tr>\n",
       "      <th>2021-02-16</th>\n",
       "      <td>2021-02-16</td>\n",
       "      <td>NL</td>\n",
       "      <td>38</td>\n",
       "      <td>8386</td>\n",
       "      <td>551</td>\n",
       "      <td>2409</td>\n",
       "      <td>150</td>\n",
       "      <td>39505</td>\n",
       "      <td>1608</td>\n",
       "      <td>5752</td>\n",
       "      <td>...</td>\n",
       "      <td>528</td>\n",
       "      <td>1400</td>\n",
       "      <td>32</td>\n",
       "      <td>209</td>\n",
       "      <td>-10</td>\n",
       "      <td>14</td>\n",
       "      <td>2701</td>\n",
       "      <td>58</td>\n",
       "      <td>86</td>\n",
       "      <td>17474693</td>\n",
       "    </tr>\n",
       "    <tr>\n",
       "      <th>2021-02-17</th>\n",
       "      <td>2021-02-17</td>\n",
       "      <td>NL</td>\n",
       "      <td>32</td>\n",
       "      <td>8422</td>\n",
       "      <td>548</td>\n",
       "      <td>2416</td>\n",
       "      <td>112</td>\n",
       "      <td>39630</td>\n",
       "      <td>1585</td>\n",
       "      <td>5770</td>\n",
       "      <td>...</td>\n",
       "      <td>516</td>\n",
       "      <td>1399</td>\n",
       "      <td>34</td>\n",
       "      <td>177</td>\n",
       "      <td>-6</td>\n",
       "      <td>-1</td>\n",
       "      <td>3361</td>\n",
       "      <td>77</td>\n",
       "      <td>88</td>\n",
       "      <td>17474693</td>\n",
       "    </tr>\n",
       "    <tr>\n",
       "      <th>2021-02-18</th>\n",
       "      <td>2021-02-18</td>\n",
       "      <td>NL</td>\n",
       "      <td>9</td>\n",
       "      <td>8432</td>\n",
       "      <td>524</td>\n",
       "      <td>2420</td>\n",
       "      <td>15</td>\n",
       "      <td>39656</td>\n",
       "      <td>1468</td>\n",
       "      <td>5773</td>\n",
       "      <td>...</td>\n",
       "      <td>511</td>\n",
       "      <td>1408</td>\n",
       "      <td>33</td>\n",
       "      <td>205</td>\n",
       "      <td>3</td>\n",
       "      <td>9</td>\n",
       "      <td>4518</td>\n",
       "      <td>63</td>\n",
       "      <td>72</td>\n",
       "      <td>17474693</td>\n",
       "    </tr>\n",
       "  </tbody>\n",
       "</table>\n",
       "<p>358 rows × 56 columns</p>\n",
       "</div>"
      ],
      "text/plain": [
       "                 Datum LandCode  NICE IC Bedden (intake)  \\\n",
       "Key                                                        \n",
       "2020-02-27  2020-02-27       NL                        1   \n",
       "2020-02-28  2020-02-28       NL                        0   \n",
       "2020-02-29  2020-02-29       NL                        0   \n",
       "2020-03-01  2020-03-01       NL                        2   \n",
       "2020-03-02  2020-03-02       NL                        0   \n",
       "...                ...      ...                      ...   \n",
       "2021-02-14  2021-02-14       NL                       25   \n",
       "2021-02-15  2021-02-15       NL                       32   \n",
       "2021-02-16  2021-02-16       NL                       38   \n",
       "2021-02-17  2021-02-17       NL                       32   \n",
       "2021-02-18  2021-02-18       NL                        9   \n",
       "\n",
       "            NICE IC Bedden (cumulatief)  NICE IC Bedden  NICE IC Overleden  \\\n",
       "Key                                                                          \n",
       "2020-02-27                           13              13                  0   \n",
       "2020-02-28                           14              14                  0   \n",
       "2020-02-29                           15              15                  0   \n",
       "2020-03-01                           17              17                  0   \n",
       "2020-03-02                           17              16                  0   \n",
       "...                                 ...             ...                ...   \n",
       "2021-02-14                         8311             542               2396   \n",
       "2021-02-15                         8346             554               2402   \n",
       "2021-02-16                         8386             551               2409   \n",
       "2021-02-17                         8422             548               2416   \n",
       "2021-02-18                         8432             524               2420   \n",
       "\n",
       "            NICE Ziekenhuis Bedden (intake)  \\\n",
       "Key                                           \n",
       "2020-02-27                                2   \n",
       "2020-02-28                                4   \n",
       "2020-02-29                                1   \n",
       "2020-03-01                                7   \n",
       "2020-03-02                               10   \n",
       "...                                     ...   \n",
       "2021-02-14                              134   \n",
       "2021-02-15                              188   \n",
       "2021-02-16                              150   \n",
       "2021-02-17                              112   \n",
       "2021-02-18                               15   \n",
       "\n",
       "            NICE Ziekenhuis Bedden (cumulatief)  NICE Ziekenhuis Bedden  \\\n",
       "Key                                                                       \n",
       "2020-02-27                                   65                      62   \n",
       "2020-02-28                                   69                      66   \n",
       "2020-02-29                                   70                      66   \n",
       "2020-03-01                                   77                      73   \n",
       "2020-03-02                                   88                      84   \n",
       "...                                         ...                     ...   \n",
       "2021-02-14                                39162                    1499   \n",
       "2021-02-15                                39348                    1607   \n",
       "2021-02-16                                39505                    1608   \n",
       "2021-02-17                                39630                    1585   \n",
       "2021-02-18                                39656                    1468   \n",
       "\n",
       "            NICE Ziekenhuis Overleden  ...  LCPS IC Bedden Non COVID  \\\n",
       "Key                                    ...                             \n",
       "2020-02-27                          0  ...                         0   \n",
       "2020-02-28                          0  ...                         0   \n",
       "2020-02-29                          0  ...                         0   \n",
       "2020-03-01                          0  ...                         0   \n",
       "2020-03-02                          0  ...                         0   \n",
       "...                               ...  ...                       ...   \n",
       "2021-02-14                       5705  ...                       470   \n",
       "2021-02-15                       5726  ...                       499   \n",
       "2021-02-16                       5752  ...                       528   \n",
       "2021-02-17                       5770  ...                       516   \n",
       "2021-02-18                       5773  ...                       511   \n",
       "\n",
       "            LCPS Kliniek Bedden COVID  LCPS IC Nieuwe Opnames COVID  \\\n",
       "Key                                                                   \n",
       "2020-02-27                          1                             0   \n",
       "2020-02-28                          9                             0   \n",
       "2020-02-29                         10                             0   \n",
       "2020-03-01                         20                             0   \n",
       "2020-03-02                         34                             0   \n",
       "...                               ...                           ...   \n",
       "2021-02-14                       1329                            19   \n",
       "2021-02-15                       1386                            22   \n",
       "2021-02-16                       1400                            32   \n",
       "2021-02-17                       1399                            34   \n",
       "2021-02-18                       1408                            33   \n",
       "\n",
       "            LCPS Kliniek Nieuwe Opnames COVID  LCPS IC Bedden COVID (toename)  \\\n",
       "Key                                                                             \n",
       "2020-02-27                                  0                               0   \n",
       "2020-02-28                                  0                               1   \n",
       "2020-02-29                                  0                               1   \n",
       "2020-03-01                                  0                               2   \n",
       "2020-03-02                                  0                              -1   \n",
       "...                                       ...                             ...   \n",
       "2021-02-14                                135                              -8   \n",
       "2021-02-15                                143                               6   \n",
       "2021-02-16                                209                             -10   \n",
       "2021-02-17                                177                              -6   \n",
       "2021-02-18                                205                               3   \n",
       "\n",
       "            LCPS Kliniek Bedden COVID (toename)  Positief getest (toename)  \\\n",
       "Key                                                                          \n",
       "2020-02-27                                    0                          0   \n",
       "2020-02-28                                    8                          0   \n",
       "2020-02-29                                    1                          0   \n",
       "2020-03-01                                   10                          0   \n",
       "2020-03-02                                   14                          0   \n",
       "...                                         ...                        ...   \n",
       "2021-02-14                                    4                       3447   \n",
       "2021-02-15                                   57                       2810   \n",
       "2021-02-16                                   14                       2701   \n",
       "2021-02-17                                   -1                       3361   \n",
       "2021-02-18                                    9                       4518   \n",
       "\n",
       "            Ziekenhuisopnames (toename)  Overleden (toename)  Personen  \n",
       "Key                                                                     \n",
       "2020-02-27                            0                    0  17474693  \n",
       "2020-02-28                            0                    0  17474693  \n",
       "2020-02-29                            0                    0  17474693  \n",
       "2020-03-01                            0                    0  17474693  \n",
       "2020-03-02                            0                    0  17474693  \n",
       "...                                 ...                  ...       ...  \n",
       "2021-02-14                           61                   23  17474693  \n",
       "2021-02-15                           45                   27  17474693  \n",
       "2021-02-16                           58                   86  17474693  \n",
       "2021-02-17                           77                   88  17474693  \n",
       "2021-02-18                           63                   72  17474693  \n",
       "\n",
       "[358 rows x 56 columns]"
      ]
     },
     "metadata": {},
     "output_type": "display_data"
    }
   ],
   "source": [
    "@run('Personen')\n",
    "def cell():\n",
    "  global dagoverzicht\n",
    "  dagoverzicht['Personen'] = bevolking.BevolkingOpDeEersteVanDeMaand\n",
    "  display(dagoverzicht)"
   ]
  },
  {
   "cell_type": "code",
   "execution_count": 10,
   "id": "respiratory-badge",
   "metadata": {
    "execution": {
     "iopub.execute_input": "2021-02-18T17:13:07.928584Z",
     "iopub.status.busy": "2021-02-18T17:13:07.920858Z",
     "iopub.status.idle": "2021-02-18T17:14:07.455077Z",
     "shell.execute_reply": "2021-02-18T17:14:07.453464Z"
    },
    "lines_to_next_cell": 0,
    "papermill": {
     "duration": 59.564725,
     "end_time": "2021-02-18T17:14:07.455206",
     "exception": false,
     "start_time": "2021-02-18T17:13:07.890481",
     "status": "completed"
    },
    "tags": []
   },
   "outputs": [
    {
     "data": {
      "text/html": [
       "<div>\n",
       "<style scoped>\n",
       "    .dataframe tbody tr th:only-of-type {\n",
       "        vertical-align: middle;\n",
       "    }\n",
       "\n",
       "    .dataframe tbody tr th {\n",
       "        vertical-align: top;\n",
       "    }\n",
       "\n",
       "    .dataframe thead th {\n",
       "        text-align: right;\n",
       "    }\n",
       "</style>\n",
       "<table border=\"1\" class=\"dataframe\">\n",
       "  <thead>\n",
       "    <tr style=\"text-align: right;\">\n",
       "      <th></th>\n",
       "    </tr>\n",
       "    <tr>\n",
       "      <th>Key</th>\n",
       "    </tr>\n",
       "  </thead>\n",
       "  <tbody>\n",
       "  </tbody>\n",
       "</table>\n",
       "</div>"
      ],
      "text/plain": [
       "Empty DataFrame\n",
       "Columns: []\n",
       "Index: []"
      ]
     },
     "metadata": {},
     "output_type": "display_data"
    },
    {
     "data": {
      "text/html": [
       "<div>\n",
       "<style scoped>\n",
       "    .dataframe tbody tr th:only-of-type {\n",
       "        vertical-align: middle;\n",
       "    }\n",
       "\n",
       "    .dataframe tbody tr th {\n",
       "        vertical-align: top;\n",
       "    }\n",
       "\n",
       "    .dataframe thead th {\n",
       "        text-align: right;\n",
       "    }\n",
       "</style>\n",
       "<table border=\"1\" class=\"dataframe\">\n",
       "  <thead>\n",
       "    <tr style=\"text-align: right;\">\n",
       "      <th></th>\n",
       "    </tr>\n",
       "    <tr>\n",
       "      <th>Key</th>\n",
       "    </tr>\n",
       "  </thead>\n",
       "  <tbody>\n",
       "  </tbody>\n",
       "</table>\n",
       "</div>"
      ],
      "text/plain": [
       "Empty DataFrame\n",
       "Columns: []\n",
       "Index: []"
      ]
     },
     "metadata": {},
     "output_type": "display_data"
    },
    {
     "name": "stdout",
     "output_type": "stream",
     "text": [
      "updating knack\n"
     ]
    },
    {
     "name": "stderr",
     "output_type": "stream",
     "text": [
      "\r",
      "  0%|          | 0/356 [00:00<?, ?it/s]"
     ]
    },
    {
     "name": "stderr",
     "output_type": "stream",
     "text": [
      "\r",
      "  0%|          | 1/356 [00:00<04:15,  1.39it/s]"
     ]
    },
    {
     "name": "stderr",
     "output_type": "stream",
     "text": [
      "\r",
      "  1%|          | 4/356 [00:00<00:57,  6.13it/s]"
     ]
    },
    {
     "name": "stderr",
     "output_type": "stream",
     "text": [
      "\r",
      "  2%|▏         | 8/356 [00:01<00:44,  7.85it/s]"
     ]
    },
    {
     "name": "stderr",
     "output_type": "stream",
     "text": [
      "\r",
      "  3%|▎         | 10/356 [00:01<00:51,  6.69it/s]"
     ]
    },
    {
     "name": "stderr",
     "output_type": "stream",
     "text": [
      "\r",
      "  3%|▎         | 12/356 [00:01<00:43,  7.89it/s]"
     ]
    },
    {
     "name": "stderr",
     "output_type": "stream",
     "text": [
      "\r",
      "  4%|▍         | 14/356 [00:02<00:55,  6.15it/s]"
     ]
    },
    {
     "name": "stderr",
     "output_type": "stream",
     "text": [
      "\r",
      "  4%|▍         | 15/356 [00:02<01:00,  5.62it/s]"
     ]
    },
    {
     "name": "stderr",
     "output_type": "stream",
     "text": [
      "\r",
      "  4%|▍         | 16/356 [00:02<01:18,  4.33it/s]"
     ]
    },
    {
     "name": "stderr",
     "output_type": "stream",
     "text": [
      "\r",
      "  5%|▍         | 17/356 [00:03<01:12,  4.67it/s]"
     ]
    },
    {
     "name": "stderr",
     "output_type": "stream",
     "text": [
      "\r",
      "  5%|▌         | 18/356 [00:03<01:05,  5.19it/s]"
     ]
    },
    {
     "name": "stderr",
     "output_type": "stream",
     "text": [
      "\r",
      "  6%|▌         | 20/356 [00:03<00:51,  6.54it/s]"
     ]
    },
    {
     "name": "stderr",
     "output_type": "stream",
     "text": [
      "\r",
      "  6%|▌         | 22/356 [00:03<00:52,  6.35it/s]"
     ]
    },
    {
     "name": "stderr",
     "output_type": "stream",
     "text": [
      "\r",
      "  7%|▋         | 24/356 [00:03<00:45,  7.37it/s]"
     ]
    },
    {
     "name": "stderr",
     "output_type": "stream",
     "text": [
      "\r",
      "  7%|▋         | 26/356 [00:04<00:52,  6.25it/s]"
     ]
    },
    {
     "name": "stderr",
     "output_type": "stream",
     "text": [
      "\r",
      "  8%|▊         | 28/356 [00:04<00:42,  7.67it/s]"
     ]
    },
    {
     "name": "stderr",
     "output_type": "stream",
     "text": [
      "\r",
      "  8%|▊         | 30/356 [00:04<00:42,  7.67it/s]"
     ]
    },
    {
     "name": "stderr",
     "output_type": "stream",
     "text": [
      "\r",
      "  9%|▉         | 32/356 [00:04<00:34,  9.33it/s]"
     ]
    },
    {
     "name": "stderr",
     "output_type": "stream",
     "text": [
      "\r",
      " 10%|▉         | 34/356 [00:05<00:38,  8.43it/s]"
     ]
    },
    {
     "name": "stderr",
     "output_type": "stream",
     "text": [
      "\r",
      " 10%|█         | 36/356 [00:05<00:45,  6.96it/s]"
     ]
    },
    {
     "name": "stderr",
     "output_type": "stream",
     "text": [
      "\r",
      " 11%|█         | 38/356 [00:05<00:37,  8.42it/s]"
     ]
    },
    {
     "name": "stderr",
     "output_type": "stream",
     "text": [
      "\r",
      " 11%|█         | 40/356 [00:06<00:41,  7.53it/s]"
     ]
    },
    {
     "name": "stderr",
     "output_type": "stream",
     "text": [
      "\r",
      " 12%|█▏        | 41/356 [00:06<00:40,  7.76it/s]"
     ]
    },
    {
     "name": "stderr",
     "output_type": "stream",
     "text": [
      "\r",
      " 12%|█▏        | 42/356 [00:06<00:47,  6.60it/s]"
     ]
    },
    {
     "name": "stderr",
     "output_type": "stream",
     "text": [
      "\r",
      " 12%|█▏        | 43/356 [00:06<00:50,  6.16it/s]"
     ]
    },
    {
     "name": "stderr",
     "output_type": "stream",
     "text": [
      "\r",
      " 12%|█▏        | 44/356 [00:06<00:58,  5.33it/s]"
     ]
    },
    {
     "name": "stderr",
     "output_type": "stream",
     "text": [
      "\r",
      " 13%|█▎        | 46/356 [00:07<00:47,  6.57it/s]"
     ]
    },
    {
     "name": "stderr",
     "output_type": "stream",
     "text": [
      "\r",
      " 13%|█▎        | 47/356 [00:07<00:50,  6.17it/s]"
     ]
    },
    {
     "name": "stderr",
     "output_type": "stream",
     "text": [
      "\r",
      " 13%|█▎        | 48/356 [00:07<00:47,  6.53it/s]"
     ]
    },
    {
     "name": "stderr",
     "output_type": "stream",
     "text": [
      "\r",
      " 14%|█▍        | 49/356 [00:07<00:43,  7.12it/s]"
     ]
    },
    {
     "name": "stderr",
     "output_type": "stream",
     "text": [
      "\r",
      " 14%|█▍        | 50/356 [00:07<00:57,  5.36it/s]"
     ]
    },
    {
     "name": "stderr",
     "output_type": "stream",
     "text": [
      "\r",
      " 15%|█▍        | 52/356 [00:07<00:43,  7.06it/s]"
     ]
    },
    {
     "name": "stderr",
     "output_type": "stream",
     "text": [
      "\r",
      " 15%|█▍        | 53/356 [00:08<00:45,  6.68it/s]"
     ]
    },
    {
     "name": "stderr",
     "output_type": "stream",
     "text": [
      "\r",
      " 15%|█▌        | 55/356 [00:08<00:38,  7.87it/s]"
     ]
    },
    {
     "name": "stderr",
     "output_type": "stream",
     "text": [
      "\r",
      " 16%|█▌        | 56/356 [00:08<00:38,  7.84it/s]"
     ]
    },
    {
     "name": "stderr",
     "output_type": "stream",
     "text": [
      "\r",
      " 16%|█▌        | 57/356 [00:08<00:41,  7.19it/s]"
     ]
    },
    {
     "name": "stderr",
     "output_type": "stream",
     "text": [
      "\r",
      " 17%|█▋        | 59/356 [00:08<00:42,  6.91it/s]"
     ]
    },
    {
     "name": "stderr",
     "output_type": "stream",
     "text": [
      "\r",
      " 17%|█▋        | 60/356 [00:09<00:52,  5.67it/s]"
     ]
    },
    {
     "name": "stderr",
     "output_type": "stream",
     "text": [
      "\r",
      " 17%|█▋        | 61/356 [00:09<00:47,  6.26it/s]"
     ]
    },
    {
     "name": "stderr",
     "output_type": "stream",
     "text": [
      "\r",
      " 18%|█▊        | 63/356 [00:09<00:36,  7.97it/s]"
     ]
    },
    {
     "name": "stderr",
     "output_type": "stream",
     "text": [
      "\r",
      " 18%|█▊        | 65/356 [00:09<00:40,  7.22it/s]"
     ]
    },
    {
     "name": "stderr",
     "output_type": "stream",
     "text": [
      "\r",
      " 19%|█▉        | 68/356 [00:10<00:35,  8.10it/s]"
     ]
    },
    {
     "name": "stderr",
     "output_type": "stream",
     "text": [
      "\r",
      " 20%|█▉        | 71/356 [00:10<00:45,  6.31it/s]"
     ]
    },
    {
     "name": "stderr",
     "output_type": "stream",
     "text": [
      "\r",
      " 21%|██        | 73/356 [00:10<00:39,  7.12it/s]"
     ]
    },
    {
     "name": "stderr",
     "output_type": "stream",
     "text": [
      "\r",
      " 21%|██        | 75/356 [00:11<00:35,  7.90it/s]"
     ]
    },
    {
     "name": "stderr",
     "output_type": "stream",
     "text": [
      "\r",
      " 22%|██▏       | 77/356 [00:11<00:41,  6.80it/s]"
     ]
    },
    {
     "name": "stderr",
     "output_type": "stream",
     "text": [
      "\r",
      " 22%|██▏       | 79/356 [00:11<00:37,  7.30it/s]"
     ]
    },
    {
     "name": "stderr",
     "output_type": "stream",
     "text": [
      "\r",
      " 22%|██▏       | 80/356 [00:11<00:36,  7.65it/s]"
     ]
    },
    {
     "name": "stderr",
     "output_type": "stream",
     "text": [
      "\r",
      " 23%|██▎       | 81/356 [00:12<00:38,  7.13it/s]"
     ]
    },
    {
     "name": "stderr",
     "output_type": "stream",
     "text": [
      "\r",
      " 23%|██▎       | 82/356 [00:12<00:51,  5.36it/s]"
     ]
    },
    {
     "name": "stderr",
     "output_type": "stream",
     "text": [
      "\r",
      " 24%|██▎       | 84/356 [00:12<00:40,  6.65it/s]"
     ]
    },
    {
     "name": "stderr",
     "output_type": "stream",
     "text": [
      "\r",
      " 24%|██▍       | 85/356 [00:12<00:43,  6.20it/s]"
     ]
    },
    {
     "name": "stderr",
     "output_type": "stream",
     "text": [
      "\r",
      " 24%|██▍       | 86/356 [00:13<00:49,  5.40it/s]"
     ]
    },
    {
     "name": "stderr",
     "output_type": "stream",
     "text": [
      "\r",
      " 24%|██▍       | 87/356 [00:13<01:07,  4.00it/s]"
     ]
    },
    {
     "name": "stderr",
     "output_type": "stream",
     "text": [
      "\r",
      " 25%|██▍       | 88/356 [00:13<01:04,  4.13it/s]"
     ]
    },
    {
     "name": "stderr",
     "output_type": "stream",
     "text": [
      "\r",
      " 25%|██▌       | 89/356 [00:13<00:56,  4.76it/s]"
     ]
    },
    {
     "name": "stderr",
     "output_type": "stream",
     "text": [
      "\r",
      " 26%|██▌       | 91/356 [00:13<00:41,  6.44it/s]"
     ]
    },
    {
     "name": "stderr",
     "output_type": "stream",
     "text": [
      "\r",
      " 26%|██▌       | 93/356 [00:14<00:32,  8.21it/s]"
     ]
    },
    {
     "name": "stderr",
     "output_type": "stream",
     "text": [
      "\r",
      " 27%|██▋       | 95/356 [00:14<00:36,  7.17it/s]"
     ]
    },
    {
     "name": "stderr",
     "output_type": "stream",
     "text": [
      "\r",
      " 27%|██▋       | 96/356 [00:14<00:35,  7.38it/s]"
     ]
    },
    {
     "name": "stderr",
     "output_type": "stream",
     "text": [
      "\r",
      " 28%|██▊       | 98/356 [00:14<00:35,  7.23it/s]"
     ]
    },
    {
     "name": "stderr",
     "output_type": "stream",
     "text": [
      "\r",
      " 28%|██▊       | 100/356 [00:15<00:39,  6.49it/s]"
     ]
    },
    {
     "name": "stderr",
     "output_type": "stream",
     "text": [
      "\r",
      " 29%|██▉       | 103/356 [00:15<00:29,  8.63it/s]"
     ]
    },
    {
     "name": "stderr",
     "output_type": "stream",
     "text": [
      "\r",
      " 29%|██▉       | 105/356 [00:15<00:26,  9.54it/s]"
     ]
    },
    {
     "name": "stderr",
     "output_type": "stream",
     "text": [
      "\r",
      " 30%|███       | 107/356 [00:16<00:36,  6.86it/s]"
     ]
    },
    {
     "name": "stderr",
     "output_type": "stream",
     "text": [
      "\r",
      " 31%|███       | 109/356 [00:16<00:34,  7.18it/s]"
     ]
    },
    {
     "name": "stderr",
     "output_type": "stream",
     "text": [
      "\r",
      " 31%|███       | 111/356 [00:16<00:29,  8.24it/s]"
     ]
    },
    {
     "name": "stderr",
     "output_type": "stream",
     "text": [
      "\r",
      " 31%|███▏      | 112/356 [00:16<00:39,  6.25it/s]"
     ]
    },
    {
     "name": "stderr",
     "output_type": "stream",
     "text": [
      "\r",
      " 32%|███▏      | 113/356 [00:16<00:36,  6.72it/s]"
     ]
    },
    {
     "name": "stderr",
     "output_type": "stream",
     "text": [
      "\r",
      " 32%|███▏      | 115/356 [00:17<00:32,  7.31it/s]"
     ]
    },
    {
     "name": "stderr",
     "output_type": "stream",
     "text": [
      "\r",
      " 33%|███▎      | 117/356 [00:17<00:39,  6.06it/s]"
     ]
    },
    {
     "name": "stderr",
     "output_type": "stream",
     "text": [
      "\r",
      " 33%|███▎      | 119/356 [00:17<00:33,  7.15it/s]"
     ]
    },
    {
     "name": "stderr",
     "output_type": "stream",
     "text": [
      "\r",
      " 34%|███▎      | 120/356 [00:17<00:32,  7.31it/s]"
     ]
    },
    {
     "name": "stderr",
     "output_type": "stream",
     "text": [
      "\r",
      " 34%|███▍      | 122/356 [00:18<00:36,  6.45it/s]"
     ]
    },
    {
     "name": "stderr",
     "output_type": "stream",
     "text": [
      "\r",
      " 35%|███▍      | 123/356 [00:18<00:35,  6.54it/s]"
     ]
    },
    {
     "name": "stderr",
     "output_type": "stream",
     "text": [
      "\r",
      " 35%|███▌      | 126/356 [00:18<00:31,  7.35it/s]"
     ]
    },
    {
     "name": "stderr",
     "output_type": "stream",
     "text": [
      "\r",
      " 36%|███▌      | 128/356 [00:18<00:27,  8.36it/s]"
     ]
    },
    {
     "name": "stderr",
     "output_type": "stream",
     "text": [
      "\r",
      " 36%|███▌      | 129/356 [00:19<00:27,  8.27it/s]"
     ]
    },
    {
     "name": "stderr",
     "output_type": "stream",
     "text": [
      "\r",
      " 37%|███▋      | 130/356 [00:19<00:28,  7.88it/s]"
     ]
    },
    {
     "name": "stderr",
     "output_type": "stream",
     "text": [
      "\r",
      " 37%|███▋      | 131/356 [00:19<00:32,  6.97it/s]"
     ]
    },
    {
     "name": "stderr",
     "output_type": "stream",
     "text": [
      "\r",
      " 37%|███▋      | 132/356 [00:19<00:45,  4.92it/s]"
     ]
    },
    {
     "name": "stderr",
     "output_type": "stream",
     "text": [
      "\r",
      " 37%|███▋      | 133/356 [00:19<00:41,  5.42it/s]"
     ]
    },
    {
     "name": "stderr",
     "output_type": "stream",
     "text": [
      "\r",
      " 38%|███▊      | 135/356 [00:20<00:31,  6.97it/s]"
     ]
    },
    {
     "name": "stderr",
     "output_type": "stream",
     "text": [
      "\r",
      " 38%|███▊      | 137/356 [00:20<00:28,  7.72it/s]"
     ]
    },
    {
     "name": "stderr",
     "output_type": "stream",
     "text": [
      "\r",
      " 39%|███▉      | 138/356 [00:20<00:39,  5.57it/s]"
     ]
    },
    {
     "name": "stderr",
     "output_type": "stream",
     "text": [
      "\r",
      " 39%|███▉      | 139/356 [00:20<00:37,  5.81it/s]"
     ]
    },
    {
     "name": "stderr",
     "output_type": "stream",
     "text": [
      "\r",
      " 40%|███▉      | 141/356 [00:20<00:28,  7.58it/s]"
     ]
    },
    {
     "name": "stderr",
     "output_type": "stream",
     "text": [
      "\r",
      " 40%|████      | 143/356 [00:21<00:29,  7.29it/s]"
     ]
    },
    {
     "name": "stderr",
     "output_type": "stream",
     "text": [
      "\r",
      " 41%|████      | 145/356 [00:21<00:23,  8.89it/s]"
     ]
    },
    {
     "name": "stderr",
     "output_type": "stream",
     "text": [
      "\r",
      " 41%|████▏     | 147/356 [00:21<00:24,  8.62it/s]"
     ]
    },
    {
     "name": "stderr",
     "output_type": "stream",
     "text": [
      "\r",
      " 42%|████▏     | 148/356 [00:21<00:26,  7.99it/s]"
     ]
    },
    {
     "name": "stderr",
     "output_type": "stream",
     "text": [
      "\r",
      " 42%|████▏     | 150/356 [00:21<00:21,  9.64it/s]"
     ]
    },
    {
     "name": "stderr",
     "output_type": "stream",
     "text": [
      "\r",
      " 43%|████▎     | 152/356 [00:22<00:20, 10.17it/s]"
     ]
    },
    {
     "name": "stderr",
     "output_type": "stream",
     "text": [
      "\r",
      " 43%|████▎     | 154/356 [00:22<00:21,  9.61it/s]"
     ]
    },
    {
     "name": "stderr",
     "output_type": "stream",
     "text": [
      "\r",
      " 44%|████▍     | 156/356 [00:22<00:20,  9.94it/s]"
     ]
    },
    {
     "name": "stderr",
     "output_type": "stream",
     "text": [
      "\r",
      " 44%|████▍     | 158/356 [00:22<00:24,  8.17it/s]"
     ]
    },
    {
     "name": "stderr",
     "output_type": "stream",
     "text": [
      "\r",
      " 45%|████▍     | 159/356 [00:23<00:25,  7.67it/s]"
     ]
    },
    {
     "name": "stderr",
     "output_type": "stream",
     "text": [
      "\r",
      " 45%|████▍     | 160/356 [00:23<00:30,  6.40it/s]"
     ]
    },
    {
     "name": "stderr",
     "output_type": "stream",
     "text": [
      "\r",
      " 46%|████▌     | 162/356 [00:23<00:31,  6.22it/s]"
     ]
    },
    {
     "name": "stderr",
     "output_type": "stream",
     "text": [
      "\r",
      " 46%|████▌     | 163/356 [00:23<00:29,  6.64it/s]"
     ]
    },
    {
     "name": "stderr",
     "output_type": "stream",
     "text": [
      "\r",
      " 46%|████▌     | 164/356 [00:23<00:29,  6.49it/s]"
     ]
    },
    {
     "name": "stderr",
     "output_type": "stream",
     "text": [
      "\r",
      " 47%|████▋     | 166/356 [00:24<00:29,  6.38it/s]"
     ]
    },
    {
     "name": "stderr",
     "output_type": "stream",
     "text": [
      "\r",
      " 47%|████▋     | 168/356 [00:24<00:23,  7.87it/s]"
     ]
    },
    {
     "name": "stderr",
     "output_type": "stream",
     "text": [
      "\r",
      " 48%|████▊     | 170/356 [00:24<00:27,  6.80it/s]"
     ]
    },
    {
     "name": "stderr",
     "output_type": "stream",
     "text": [
      "\r",
      " 48%|████▊     | 171/356 [00:24<00:27,  6.69it/s]"
     ]
    },
    {
     "name": "stderr",
     "output_type": "stream",
     "text": [
      "\r",
      " 48%|████▊     | 172/356 [00:25<00:27,  6.76it/s]"
     ]
    },
    {
     "name": "stderr",
     "output_type": "stream",
     "text": [
      "\r",
      " 49%|████▊     | 173/356 [00:25<00:26,  7.01it/s]"
     ]
    },
    {
     "name": "stderr",
     "output_type": "stream",
     "text": [
      "\r",
      " 49%|████▉     | 174/356 [00:25<00:46,  3.88it/s]"
     ]
    },
    {
     "name": "stderr",
     "output_type": "stream",
     "text": [
      "\r",
      " 49%|████▉     | 176/356 [00:26<00:39,  4.61it/s]"
     ]
    },
    {
     "name": "stderr",
     "output_type": "stream",
     "text": [
      "\r",
      " 50%|█████     | 178/356 [00:26<00:33,  5.29it/s]"
     ]
    },
    {
     "name": "stderr",
     "output_type": "stream",
     "text": [
      "\r",
      " 51%|█████     | 180/356 [00:26<00:29,  5.93it/s]"
     ]
    },
    {
     "name": "stderr",
     "output_type": "stream",
     "text": [
      "\r",
      " 51%|█████     | 181/356 [00:26<00:27,  6.33it/s]"
     ]
    },
    {
     "name": "stderr",
     "output_type": "stream",
     "text": [
      "\r",
      " 51%|█████     | 182/356 [00:27<00:34,  5.08it/s]"
     ]
    },
    {
     "name": "stderr",
     "output_type": "stream",
     "text": [
      "\r",
      " 51%|█████▏    | 183/356 [00:27<00:30,  5.74it/s]"
     ]
    },
    {
     "name": "stderr",
     "output_type": "stream",
     "text": [
      "\r",
      " 52%|█████▏    | 185/356 [00:27<00:22,  7.68it/s]"
     ]
    },
    {
     "name": "stderr",
     "output_type": "stream",
     "text": [
      "\r",
      " 53%|█████▎    | 187/356 [00:27<00:20,  8.12it/s]"
     ]
    },
    {
     "name": "stderr",
     "output_type": "stream",
     "text": [
      "\r",
      " 53%|█████▎    | 188/356 [00:27<00:20,  8.14it/s]"
     ]
    },
    {
     "name": "stderr",
     "output_type": "stream",
     "text": [
      "\r",
      " 53%|█████▎    | 189/356 [00:27<00:28,  5.83it/s]"
     ]
    },
    {
     "name": "stderr",
     "output_type": "stream",
     "text": [
      "\r",
      " 54%|█████▍    | 193/356 [00:28<00:18,  8.83it/s]"
     ]
    },
    {
     "name": "stderr",
     "output_type": "stream",
     "text": [
      "\r",
      " 55%|█████▍    | 195/356 [00:28<00:21,  7.60it/s]"
     ]
    },
    {
     "name": "stderr",
     "output_type": "stream",
     "text": [
      "\r",
      " 55%|█████▌    | 197/356 [00:28<00:20,  7.88it/s]"
     ]
    },
    {
     "name": "stderr",
     "output_type": "stream",
     "text": [
      "\r",
      " 56%|█████▌    | 199/356 [00:28<00:16,  9.51it/s]"
     ]
    },
    {
     "name": "stderr",
     "output_type": "stream",
     "text": [
      "\r",
      " 56%|█████▋    | 201/356 [00:29<00:18,  8.58it/s]"
     ]
    },
    {
     "name": "stderr",
     "output_type": "stream",
     "text": [
      "\r",
      " 57%|█████▋    | 203/356 [00:29<00:16,  9.34it/s]"
     ]
    },
    {
     "name": "stderr",
     "output_type": "stream",
     "text": [
      "\r",
      " 58%|█████▊    | 205/356 [00:29<00:19,  7.62it/s]"
     ]
    },
    {
     "name": "stderr",
     "output_type": "stream",
     "text": [
      "\r",
      " 58%|█████▊    | 206/356 [00:30<00:28,  5.34it/s]"
     ]
    },
    {
     "name": "stderr",
     "output_type": "stream",
     "text": [
      "\r",
      " 58%|█████▊    | 208/356 [00:30<00:22,  6.56it/s]"
     ]
    },
    {
     "name": "stderr",
     "output_type": "stream",
     "text": [
      "\r",
      " 59%|█████▉    | 210/356 [00:30<00:23,  6.26it/s]"
     ]
    },
    {
     "name": "stderr",
     "output_type": "stream",
     "text": [
      "\r",
      " 60%|█████▉    | 212/356 [00:31<00:23,  6.14it/s]"
     ]
    },
    {
     "name": "stderr",
     "output_type": "stream",
     "text": [
      "\r",
      " 60%|█████▉    | 213/356 [00:31<00:22,  6.36it/s]"
     ]
    },
    {
     "name": "stderr",
     "output_type": "stream",
     "text": [
      "\r",
      " 60%|██████    | 215/356 [00:31<00:18,  7.54it/s]"
     ]
    },
    {
     "name": "stderr",
     "output_type": "stream",
     "text": [
      "\r",
      " 61%|██████    | 216/356 [00:31<00:22,  6.20it/s]"
     ]
    },
    {
     "name": "stderr",
     "output_type": "stream",
     "text": [
      "\r",
      " 61%|██████    | 217/356 [00:31<00:21,  6.59it/s]"
     ]
    },
    {
     "name": "stderr",
     "output_type": "stream",
     "text": [
      "\r",
      " 61%|██████    | 218/356 [00:31<00:21,  6.44it/s]"
     ]
    },
    {
     "name": "stderr",
     "output_type": "stream",
     "text": [
      "\r",
      " 62%|██████▏   | 220/356 [00:32<00:19,  6.96it/s]"
     ]
    },
    {
     "name": "stderr",
     "output_type": "stream",
     "text": [
      "\r",
      " 62%|██████▏   | 221/356 [00:32<00:20,  6.73it/s]"
     ]
    },
    {
     "name": "stderr",
     "output_type": "stream",
     "text": [
      "\r",
      " 63%|██████▎   | 223/356 [00:32<00:18,  7.20it/s]"
     ]
    },
    {
     "name": "stderr",
     "output_type": "stream",
     "text": [
      "\r",
      " 63%|██████▎   | 225/356 [00:33<00:32,  4.09it/s]"
     ]
    },
    {
     "name": "stderr",
     "output_type": "stream",
     "text": [
      "\r",
      " 64%|██████▍   | 228/356 [00:33<00:26,  4.74it/s]"
     ]
    },
    {
     "name": "stderr",
     "output_type": "stream",
     "text": [
      "\r",
      " 64%|██████▍   | 229/356 [00:34<00:26,  4.72it/s]"
     ]
    },
    {
     "name": "stderr",
     "output_type": "stream",
     "text": [
      "\r",
      " 65%|██████▌   | 232/356 [00:34<00:19,  6.48it/s]"
     ]
    },
    {
     "name": "stderr",
     "output_type": "stream",
     "text": [
      "\r",
      " 65%|██████▌   | 233/356 [00:34<00:17,  6.86it/s]"
     ]
    },
    {
     "name": "stderr",
     "output_type": "stream",
     "text": [
      "\r",
      " 66%|██████▌   | 234/356 [00:34<00:16,  7.19it/s]"
     ]
    },
    {
     "name": "stderr",
     "output_type": "stream",
     "text": [
      "\r",
      " 66%|██████▌   | 235/356 [00:34<00:18,  6.68it/s]"
     ]
    },
    {
     "name": "stderr",
     "output_type": "stream",
     "text": [
      "\r",
      " 67%|██████▋   | 237/356 [00:34<00:14,  8.47it/s]"
     ]
    },
    {
     "name": "stderr",
     "output_type": "stream",
     "text": [
      "\r",
      " 67%|██████▋   | 239/356 [00:35<00:13,  8.63it/s]"
     ]
    },
    {
     "name": "stderr",
     "output_type": "stream",
     "text": [
      "\r",
      " 67%|██████▋   | 240/356 [00:35<00:21,  5.44it/s]"
     ]
    },
    {
     "name": "stderr",
     "output_type": "stream",
     "text": [
      "\r",
      " 68%|██████▊   | 242/356 [00:36<00:20,  5.51it/s]"
     ]
    },
    {
     "name": "stderr",
     "output_type": "stream",
     "text": [
      "\r",
      " 68%|██████▊   | 243/356 [00:36<00:18,  5.99it/s]"
     ]
    },
    {
     "name": "stderr",
     "output_type": "stream",
     "text": [
      "\r",
      " 69%|██████▊   | 244/356 [00:36<00:18,  5.99it/s]"
     ]
    },
    {
     "name": "stderr",
     "output_type": "stream",
     "text": [
      "\r",
      " 69%|██████▉   | 246/356 [00:36<00:15,  7.33it/s]"
     ]
    },
    {
     "name": "stderr",
     "output_type": "stream",
     "text": [
      "\r",
      " 69%|██████▉   | 247/356 [00:36<00:16,  6.60it/s]"
     ]
    },
    {
     "name": "stderr",
     "output_type": "stream",
     "text": [
      "\r",
      " 70%|██████▉   | 248/356 [00:36<00:15,  7.15it/s]"
     ]
    },
    {
     "name": "stderr",
     "output_type": "stream",
     "text": [
      "\r",
      " 70%|███████   | 250/356 [00:36<00:12,  8.22it/s]"
     ]
    },
    {
     "name": "stderr",
     "output_type": "stream",
     "text": [
      "\r",
      " 71%|███████   | 252/356 [00:37<00:14,  7.19it/s]"
     ]
    },
    {
     "name": "stderr",
     "output_type": "stream",
     "text": [
      "\r",
      " 71%|███████   | 253/356 [00:37<00:15,  6.68it/s]"
     ]
    },
    {
     "name": "stderr",
     "output_type": "stream",
     "text": [
      "\r",
      " 72%|███████▏  | 255/356 [00:37<00:11,  8.45it/s]"
     ]
    },
    {
     "name": "stderr",
     "output_type": "stream",
     "text": [
      "\r",
      " 72%|███████▏  | 256/356 [00:37<00:12,  7.75it/s]"
     ]
    },
    {
     "name": "stderr",
     "output_type": "stream",
     "text": [
      "\r",
      " 72%|███████▏  | 258/356 [00:37<00:09,  9.97it/s]"
     ]
    },
    {
     "name": "stderr",
     "output_type": "stream",
     "text": [
      "\r",
      " 73%|███████▎  | 260/356 [00:38<00:14,  6.58it/s]"
     ]
    },
    {
     "name": "stderr",
     "output_type": "stream",
     "text": [
      "\r",
      " 73%|███████▎  | 261/356 [00:38<00:16,  5.64it/s]"
     ]
    },
    {
     "name": "stderr",
     "output_type": "stream",
     "text": [
      "\r",
      " 74%|███████▍  | 263/356 [00:38<00:12,  7.30it/s]"
     ]
    },
    {
     "name": "stderr",
     "output_type": "stream",
     "text": [
      "\r",
      " 74%|███████▍  | 264/356 [00:38<00:12,  7.33it/s]"
     ]
    },
    {
     "name": "stderr",
     "output_type": "stream",
     "text": [
      "\r",
      " 75%|███████▍  | 266/356 [00:39<00:10,  8.84it/s]"
     ]
    },
    {
     "name": "stderr",
     "output_type": "stream",
     "text": [
      "\r",
      " 75%|███████▌  | 268/356 [00:39<00:11,  7.93it/s]"
     ]
    },
    {
     "name": "stderr",
     "output_type": "stream",
     "text": [
      "\r",
      " 76%|███████▌  | 270/356 [00:39<00:10,  7.97it/s]"
     ]
    },
    {
     "name": "stderr",
     "output_type": "stream",
     "text": [
      "\r",
      " 76%|███████▋  | 272/356 [00:39<00:09,  8.53it/s]"
     ]
    },
    {
     "name": "stderr",
     "output_type": "stream",
     "text": [
      "\r",
      " 77%|███████▋  | 274/356 [00:40<00:08,  9.12it/s]"
     ]
    },
    {
     "name": "stderr",
     "output_type": "stream",
     "text": [
      "\r",
      " 77%|███████▋  | 275/356 [00:40<00:08,  9.20it/s]"
     ]
    },
    {
     "name": "stderr",
     "output_type": "stream",
     "text": [
      "\r",
      " 78%|███████▊  | 277/356 [00:40<00:06, 11.29it/s]"
     ]
    },
    {
     "name": "stderr",
     "output_type": "stream",
     "text": [
      "\r",
      " 78%|███████▊  | 279/356 [00:40<00:08,  9.36it/s]"
     ]
    },
    {
     "name": "stderr",
     "output_type": "stream",
     "text": [
      "\r",
      " 79%|███████▉  | 281/356 [00:40<00:10,  7.48it/s]"
     ]
    },
    {
     "name": "stderr",
     "output_type": "stream",
     "text": [
      "\r",
      " 79%|███████▉  | 282/356 [00:41<00:10,  7.28it/s]"
     ]
    },
    {
     "name": "stderr",
     "output_type": "stream",
     "text": [
      "\r",
      " 79%|███████▉  | 283/356 [00:41<00:10,  7.21it/s]"
     ]
    },
    {
     "name": "stderr",
     "output_type": "stream",
     "text": [
      "\r",
      " 80%|███████▉  | 284/356 [00:41<00:13,  5.15it/s]"
     ]
    },
    {
     "name": "stderr",
     "output_type": "stream",
     "text": [
      "\r",
      " 80%|████████  | 286/356 [00:41<00:09,  7.19it/s]"
     ]
    },
    {
     "name": "stderr",
     "output_type": "stream",
     "text": [
      "\r",
      " 81%|████████  | 288/356 [00:42<00:09,  6.88it/s]"
     ]
    },
    {
     "name": "stderr",
     "output_type": "stream",
     "text": [
      "\r",
      " 81%|████████  | 289/356 [00:42<00:09,  7.30it/s]"
     ]
    },
    {
     "name": "stderr",
     "output_type": "stream",
     "text": [
      "\r",
      " 81%|████████▏ | 290/356 [00:42<00:09,  7.27it/s]"
     ]
    },
    {
     "name": "stderr",
     "output_type": "stream",
     "text": [
      "\r",
      " 82%|████████▏ | 291/356 [00:42<00:09,  6.90it/s]"
     ]
    },
    {
     "name": "stderr",
     "output_type": "stream",
     "text": [
      "\r",
      " 82%|████████▏ | 292/356 [00:42<00:10,  5.94it/s]"
     ]
    },
    {
     "name": "stderr",
     "output_type": "stream",
     "text": [
      "\r",
      " 83%|████████▎ | 295/356 [00:42<00:07,  7.66it/s]"
     ]
    },
    {
     "name": "stderr",
     "output_type": "stream",
     "text": [
      "\r",
      " 83%|████████▎ | 296/356 [00:43<00:07,  7.57it/s]"
     ]
    },
    {
     "name": "stderr",
     "output_type": "stream",
     "text": [
      "\r",
      " 83%|████████▎ | 297/356 [00:43<00:08,  6.93it/s]"
     ]
    },
    {
     "name": "stderr",
     "output_type": "stream",
     "text": [
      "\r",
      " 84%|████████▍ | 299/356 [00:43<00:06,  8.28it/s]"
     ]
    },
    {
     "name": "stderr",
     "output_type": "stream",
     "text": [
      "\r",
      " 84%|████████▍ | 300/356 [00:43<00:08,  6.98it/s]"
     ]
    },
    {
     "name": "stderr",
     "output_type": "stream",
     "text": [
      "\r",
      " 85%|████████▍ | 301/356 [00:43<00:08,  6.26it/s]"
     ]
    },
    {
     "name": "stderr",
     "output_type": "stream",
     "text": [
      "\r",
      " 85%|████████▍ | 302/356 [00:44<00:08,  6.43it/s]"
     ]
    },
    {
     "name": "stderr",
     "output_type": "stream",
     "text": [
      "\r",
      " 85%|████████▌ | 303/356 [00:44<00:13,  3.98it/s]"
     ]
    },
    {
     "name": "stderr",
     "output_type": "stream",
     "text": [
      "\r",
      " 86%|████████▌ | 305/356 [00:44<00:09,  5.23it/s]"
     ]
    },
    {
     "name": "stderr",
     "output_type": "stream",
     "text": [
      "\r",
      " 86%|████████▌ | 306/356 [00:44<00:09,  5.37it/s]"
     ]
    },
    {
     "name": "stderr",
     "output_type": "stream",
     "text": [
      "\r",
      " 87%|████████▋ | 308/356 [00:45<00:09,  5.16it/s]"
     ]
    },
    {
     "name": "stderr",
     "output_type": "stream",
     "text": [
      "\r",
      " 87%|████████▋ | 309/356 [00:45<00:08,  5.26it/s]"
     ]
    },
    {
     "name": "stderr",
     "output_type": "stream",
     "text": [
      "\r",
      " 87%|████████▋ | 310/356 [00:45<00:10,  4.51it/s]"
     ]
    },
    {
     "name": "stderr",
     "output_type": "stream",
     "text": [
      "\r",
      " 88%|████████▊ | 313/356 [00:46<00:06,  7.12it/s]"
     ]
    },
    {
     "name": "stderr",
     "output_type": "stream",
     "text": [
      "\r",
      " 89%|████████▉ | 316/356 [00:46<00:05,  7.39it/s]"
     ]
    },
    {
     "name": "stderr",
     "output_type": "stream",
     "text": [
      "\r",
      " 89%|████████▉ | 317/356 [00:46<00:05,  7.18it/s]"
     ]
    },
    {
     "name": "stderr",
     "output_type": "stream",
     "text": [
      "\r",
      " 89%|████████▉ | 318/356 [00:46<00:05,  6.55it/s]"
     ]
    },
    {
     "name": "stderr",
     "output_type": "stream",
     "text": [
      "\r",
      " 90%|████████▉ | 319/356 [00:46<00:05,  6.25it/s]"
     ]
    },
    {
     "name": "stderr",
     "output_type": "stream",
     "text": [
      "\r",
      " 90%|█████████ | 321/356 [00:47<00:04,  8.42it/s]"
     ]
    },
    {
     "name": "stderr",
     "output_type": "stream",
     "text": [
      "\r",
      " 91%|█████████ | 323/356 [00:47<00:05,  5.63it/s]"
     ]
    },
    {
     "name": "stderr",
     "output_type": "stream",
     "text": [
      "\r",
      " 91%|█████████ | 324/356 [00:47<00:05,  6.03it/s]"
     ]
    },
    {
     "name": "stderr",
     "output_type": "stream",
     "text": [
      "\r",
      " 91%|█████████▏| 325/356 [00:47<00:05,  5.62it/s]"
     ]
    },
    {
     "name": "stderr",
     "output_type": "stream",
     "text": [
      "\r",
      " 92%|█████████▏| 327/356 [00:48<00:03,  7.49it/s]"
     ]
    },
    {
     "name": "stderr",
     "output_type": "stream",
     "text": [
      "\r",
      " 92%|█████████▏| 329/356 [00:48<00:03,  8.40it/s]"
     ]
    },
    {
     "name": "stderr",
     "output_type": "stream",
     "text": [
      "\r",
      " 93%|█████████▎| 331/356 [00:48<00:03,  7.45it/s]"
     ]
    },
    {
     "name": "stderr",
     "output_type": "stream",
     "text": [
      "\r",
      " 94%|█████████▎| 333/356 [00:48<00:02,  7.72it/s]"
     ]
    },
    {
     "name": "stderr",
     "output_type": "stream",
     "text": [
      "\r",
      " 94%|█████████▍| 336/356 [00:49<00:02,  9.63it/s]"
     ]
    },
    {
     "name": "stderr",
     "output_type": "stream",
     "text": [
      "\r",
      " 95%|█████████▍| 338/356 [00:49<00:01, 10.37it/s]"
     ]
    },
    {
     "name": "stderr",
     "output_type": "stream",
     "text": [
      "\r",
      " 96%|█████████▌| 340/356 [00:49<00:01,  9.05it/s]"
     ]
    },
    {
     "name": "stderr",
     "output_type": "stream",
     "text": [
      "\r",
      " 96%|█████████▌| 341/356 [00:49<00:01,  8.09it/s]"
     ]
    },
    {
     "name": "stderr",
     "output_type": "stream",
     "text": [
      "\r",
      " 96%|█████████▌| 342/356 [00:49<00:02,  6.62it/s]"
     ]
    },
    {
     "name": "stderr",
     "output_type": "stream",
     "text": [
      "\r",
      " 97%|█████████▋| 344/356 [00:50<00:01,  7.33it/s]"
     ]
    },
    {
     "name": "stderr",
     "output_type": "stream",
     "text": [
      "\r",
      " 97%|█████████▋| 345/356 [00:50<00:01,  7.65it/s]"
     ]
    },
    {
     "name": "stderr",
     "output_type": "stream",
     "text": [
      "\r",
      " 97%|█████████▋| 346/356 [00:50<00:02,  4.77it/s]"
     ]
    },
    {
     "name": "stderr",
     "output_type": "stream",
     "text": [
      "\r",
      " 98%|█████████▊| 348/356 [00:50<00:01,  6.76it/s]"
     ]
    },
    {
     "name": "stderr",
     "output_type": "stream",
     "text": [
      "\r",
      " 98%|█████████▊| 350/356 [00:50<00:00,  8.78it/s]"
     ]
    },
    {
     "name": "stderr",
     "output_type": "stream",
     "text": [
      "\r",
      " 99%|█████████▉| 353/356 [00:51<00:00,  9.63it/s]"
     ]
    },
    {
     "name": "stderr",
     "output_type": "stream",
     "text": [
      "\r",
      "100%|█████████▉| 355/356 [00:51<00:00,  8.30it/s]"
     ]
    },
    {
     "name": "stderr",
     "output_type": "stream",
     "text": [
      "\r",
      "100%|██████████| 356/356 [00:53<00:00,  6.70it/s]"
     ]
    },
    {
     "name": "stderr",
     "output_type": "stream",
     "text": [
      "\n"
     ]
    },
    {
     "name": "stdout",
     "output_type": "stream",
     "text": [
      "\n",
      "rate limit: 7 \n",
      "API calls: create: 0, read: 2, update: 356, delete: 0, backoff: 2\n",
      "errors:\n",
      "  503: Service Unavailable: 4\n"
     ]
    },
    {
     "name": "stderr",
     "output_type": "stream",
     "text": [
      "\r",
      "  0%|          | 0/1 [00:00<?, ?it/s]"
     ]
    },
    {
     "name": "stderr",
     "output_type": "stream",
     "text": [
      "\r",
      "100%|██████████| 1/1 [00:00<00:00,  1.35it/s]"
     ]
    },
    {
     "name": "stderr",
     "output_type": "stream",
     "text": [
      "\r",
      "100%|██████████| 1/1 [00:00<00:00,  1.34it/s]"
     ]
    },
    {
     "name": "stdout",
     "output_type": "stream",
     "text": [
      "\n",
      "rate limit: 7 \n",
      "API calls: create: 0, read: 1, update: 1, delete: 0, backoff: 0\n"
     ]
    },
    {
     "name": "stderr",
     "output_type": "stream",
     "text": [
      "\n"
     ]
    }
   ],
   "source": [
    "async def publish():\n",
    "  global dagoverzicht\n",
    "\n",
    "  m = (dagoverzicht == np.inf)\n",
    "  df = dagoverzicht.loc[m.any(axis=1), m.any(axis=0)]\n",
    "  display(df.head())\n",
    "  m = (dagoverzicht == np.nan)\n",
    "  df = dagoverzicht.loc[m.any(axis=1), m.any(axis=0)]\n",
    "  display(df.head())\n",
    "\n",
    "  os.makedirs('artifacts', exist_ok = True)\n",
    "  dagoverzicht.to_csv('artifacts/DagOverzicht.csv', index=True)\n",
    "\n",
    "  if knack:\n",
    "    print('updating knack')\n",
    "    df = dagoverzicht.assign(Key=dagoverzicht.index.strftime('%Y-%m-%d'))\n",
    "    await knack.update(objectName='Dagoverzicht', df=df)\n",
    "    await knack.timestamps('Dagoverzicht', Cache.timestamps)\n",
    "await publish()"
   ]
  },
  {
   "cell_type": "code",
   "execution_count": null,
   "id": "extreme-horizon",
   "metadata": {
    "papermill": {
     "duration": 0.074744,
     "end_time": "2021-02-18T17:14:07.605115",
     "exception": false,
     "start_time": "2021-02-18T17:14:07.530371",
     "status": "completed"
    },
    "tags": []
   },
   "outputs": [],
   "source": []
  }
 ],
 "metadata": {
  "jupytext": {
   "cell_metadata_filter": "-all"
  },
  "kernelspec": {
   "display_name": "Python 3",
   "language": "python",
   "name": "python3"
  },
  "language_info": {
   "codemirror_mode": {
    "name": "ipython",
    "version": 3
   },
   "file_extension": ".py",
   "mimetype": "text/x-python",
   "name": "python",
   "nbconvert_exporter": "python",
   "pygments_lexer": "ipython3",
   "version": "3.9.1"
  },
  "papermill": {
   "default_parameters": {},
   "duration": 71.175766,
   "end_time": "2021-02-18T17:14:08.189105",
   "environment_variables": {},
   "exception": null,
   "input_path": "-",
   "output_path": "DagOverzicht.ipynb",
   "parameters": {},
   "start_time": "2021-02-18T17:12:57.013339",
   "version": "2.3.2"
  }
 },
 "nbformat": 4,
 "nbformat_minor": 5
}