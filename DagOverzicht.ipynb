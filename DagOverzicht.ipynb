{
 "cells": [
  {
   "cell_type": "code",
   "execution_count": 1,
   "id": "looking-gilbert",
   "metadata": {
    "execution": {
     "iopub.execute_input": "2021-02-13T14:33:47.949940Z",
     "iopub.status.busy": "2021-02-13T14:33:47.949424Z",
     "iopub.status.idle": "2021-02-13T14:33:52.400559Z",
     "shell.execute_reply": "2021-02-13T14:33:52.399938Z"
    },
    "lines_to_next_cell": 1,
    "papermill": {
     "duration": 4.476596,
     "end_time": "2021-02-13T14:33:52.400706",
     "exception": false,
     "start_time": "2021-02-13T14:33:47.924110",
     "status": "completed"
    },
    "tags": []
   },
   "outputs": [],
   "source": [
    "from IPython import get_ipython\n",
    "from IPython.core.display import display\n",
    "get_ipython().run_line_magic('load_ext', 'autoreload')\n",
    "get_ipython().run_line_magic('autoreload', '2')\n",
    "get_ipython().run_line_magic('run', 'setup')\n",
    "\n",
    "bevolking = CBS.bevolking().iloc[0]\n",
    "#display(bevolking.BevolkingOpDeEersteVanDeMaand)\n",
    "#display(bevolking['per 100k'])\n",
    "\n",
    "def addstats(df):\n",
    "  global dagoverzicht\n",
    "\n",
    "  # de aanname is dat df al gegroepeerd is op datum, en dat de kolommen de dagtotalen zijn\n",
    "  dagoverzicht = dagoverzicht.merge(df, how='left', left_index=True, right_index=True)\n",
    "  for stat in df.columns:\n",
    "    # nieuw = dagtotaal, zet missende dagtotalen op 0\n",
    "    dagoverzicht[f'{stat} (nieuw)'] = dagoverzicht[stat].fillna(0).astype(int)\n",
    "    # kolom met eerder de dagtotalen = cumulatieve som over dagtotalen\n",
    "    dagoverzicht[stat] = dagoverzicht[f'{stat} (nieuw)'].cumsum()\n",
    "    # factor voor 100k\n",
    "    dagoverzicht[f'{stat} per 100.000'] = dagoverzicht[stat] * bevolking['per 100k']\n",
    "    # verschil met 7 dagen terug\n",
    "    dagoverzicht[f'{stat} 7d'] = (dagoverzicht[stat] - dagoverzicht[stat].shift(6)).fillna(0).astype(int)\n",
    "    # en weer factor 100 k\n",
    "    dagoverzicht[f'{stat} 7d per 100.000'] = dagoverzicht[f'{stat} 7d'] * bevolking['per 100k']"
   ]
  },
  {
   "cell_type": "code",
   "execution_count": 2,
   "id": "collect-horse",
   "metadata": {
    "execution": {
     "iopub.execute_input": "2021-02-13T14:33:52.426207Z",
     "iopub.status.busy": "2021-02-13T14:33:52.424746Z",
     "iopub.status.idle": "2021-02-13T14:33:53.421223Z",
     "shell.execute_reply": "2021-02-13T14:33:53.421636Z"
    },
    "lines_to_next_cell": 1,
    "papermill": {
     "duration": 1.013429,
     "end_time": "2021-02-13T14:33:53.421767",
     "exception": false,
     "start_time": "2021-02-13T14:33:52.408338",
     "status": "completed"
    },
    "tags": []
   },
   "outputs": [
    {
     "name": "stdout",
     "output_type": "stream",
     "text": [
      "set up base frame + overleden + positief getest\n"
     ]
    },
    {
     "name": "stdout",
     "output_type": "stream",
     "text": [
      "rivm/COVID-19_aantallen_gemeente_per_dag-2021-02-13@14-15.csv exists\n",
      "loading rivm/COVID-19_aantallen_gemeente_per_dag-2021-02-13@14-15.csv.gz\n"
     ]
    },
    {
     "data": {
      "text/html": [
       "<div>\n",
       "<style scoped>\n",
       "    .dataframe tbody tr th:only-of-type {\n",
       "        vertical-align: middle;\n",
       "    }\n",
       "\n",
       "    .dataframe tbody tr th {\n",
       "        vertical-align: top;\n",
       "    }\n",
       "\n",
       "    .dataframe thead th {\n",
       "        text-align: right;\n",
       "    }\n",
       "</style>\n",
       "<table border=\"1\" class=\"dataframe\">\n",
       "  <thead>\n",
       "    <tr style=\"text-align: right;\">\n",
       "      <th></th>\n",
       "      <th>Datum</th>\n",
       "      <th>LandCode</th>\n",
       "      <th>Positief getest</th>\n",
       "      <th>Overleden</th>\n",
       "      <th>Positief getest (nieuw)</th>\n",
       "      <th>Positief getest per 100.000</th>\n",
       "      <th>Positief getest 7d</th>\n",
       "      <th>Positief getest 7d per 100.000</th>\n",
       "      <th>Overleden (nieuw)</th>\n",
       "      <th>Overleden per 100.000</th>\n",
       "      <th>Overleden 7d</th>\n",
       "      <th>Overleden 7d per 100.000</th>\n",
       "      <th>Overleden week-1</th>\n",
       "      <th>Positief getest week-1</th>\n",
       "    </tr>\n",
       "    <tr>\n",
       "      <th>Key</th>\n",
       "      <th></th>\n",
       "      <th></th>\n",
       "      <th></th>\n",
       "      <th></th>\n",
       "      <th></th>\n",
       "      <th></th>\n",
       "      <th></th>\n",
       "      <th></th>\n",
       "      <th></th>\n",
       "      <th></th>\n",
       "      <th></th>\n",
       "      <th></th>\n",
       "      <th></th>\n",
       "      <th></th>\n",
       "    </tr>\n",
       "  </thead>\n",
       "  <tbody>\n",
       "    <tr>\n",
       "      <th>2020-02-27</th>\n",
       "      <td>2020-02-27</td>\n",
       "      <td>NL</td>\n",
       "      <td>0</td>\n",
       "      <td>0</td>\n",
       "      <td>0</td>\n",
       "      <td>0.000000</td>\n",
       "      <td>0</td>\n",
       "      <td>0.000000</td>\n",
       "      <td>0</td>\n",
       "      <td>0.000000</td>\n",
       "      <td>0</td>\n",
       "      <td>0.000000</td>\n",
       "      <td>0.0</td>\n",
       "      <td>0.0</td>\n",
       "    </tr>\n",
       "    <tr>\n",
       "      <th>2020-02-28</th>\n",
       "      <td>2020-02-28</td>\n",
       "      <td>NL</td>\n",
       "      <td>1</td>\n",
       "      <td>0</td>\n",
       "      <td>1</td>\n",
       "      <td>0.005723</td>\n",
       "      <td>0</td>\n",
       "      <td>0.000000</td>\n",
       "      <td>0</td>\n",
       "      <td>0.000000</td>\n",
       "      <td>0</td>\n",
       "      <td>0.000000</td>\n",
       "      <td>0.0</td>\n",
       "      <td>0.0</td>\n",
       "    </tr>\n",
       "    <tr>\n",
       "      <th>2020-02-29</th>\n",
       "      <td>2020-02-29</td>\n",
       "      <td>NL</td>\n",
       "      <td>2</td>\n",
       "      <td>0</td>\n",
       "      <td>1</td>\n",
       "      <td>0.011445</td>\n",
       "      <td>0</td>\n",
       "      <td>0.000000</td>\n",
       "      <td>0</td>\n",
       "      <td>0.000000</td>\n",
       "      <td>0</td>\n",
       "      <td>0.000000</td>\n",
       "      <td>0.0</td>\n",
       "      <td>0.0</td>\n",
       "    </tr>\n",
       "    <tr>\n",
       "      <th>2020-03-01</th>\n",
       "      <td>2020-03-01</td>\n",
       "      <td>NL</td>\n",
       "      <td>5</td>\n",
       "      <td>0</td>\n",
       "      <td>3</td>\n",
       "      <td>0.028613</td>\n",
       "      <td>0</td>\n",
       "      <td>0.000000</td>\n",
       "      <td>0</td>\n",
       "      <td>0.000000</td>\n",
       "      <td>0</td>\n",
       "      <td>0.000000</td>\n",
       "      <td>0.0</td>\n",
       "      <td>0.0</td>\n",
       "    </tr>\n",
       "    <tr>\n",
       "      <th>2020-03-02</th>\n",
       "      <td>2020-03-02</td>\n",
       "      <td>NL</td>\n",
       "      <td>10</td>\n",
       "      <td>0</td>\n",
       "      <td>5</td>\n",
       "      <td>0.057226</td>\n",
       "      <td>0</td>\n",
       "      <td>0.000000</td>\n",
       "      <td>0</td>\n",
       "      <td>0.000000</td>\n",
       "      <td>0</td>\n",
       "      <td>0.000000</td>\n",
       "      <td>0.0</td>\n",
       "      <td>0.0</td>\n",
       "    </tr>\n",
       "    <tr>\n",
       "      <th>2020-03-03</th>\n",
       "      <td>2020-03-03</td>\n",
       "      <td>NL</td>\n",
       "      <td>14</td>\n",
       "      <td>0</td>\n",
       "      <td>4</td>\n",
       "      <td>0.080116</td>\n",
       "      <td>0</td>\n",
       "      <td>0.000000</td>\n",
       "      <td>0</td>\n",
       "      <td>0.000000</td>\n",
       "      <td>0</td>\n",
       "      <td>0.000000</td>\n",
       "      <td>0.0</td>\n",
       "      <td>0.0</td>\n",
       "    </tr>\n",
       "    <tr>\n",
       "      <th>2020-03-04</th>\n",
       "      <td>2020-03-04</td>\n",
       "      <td>NL</td>\n",
       "      <td>24</td>\n",
       "      <td>0</td>\n",
       "      <td>10</td>\n",
       "      <td>0.137341</td>\n",
       "      <td>24</td>\n",
       "      <td>0.137341</td>\n",
       "      <td>0</td>\n",
       "      <td>0.000000</td>\n",
       "      <td>0</td>\n",
       "      <td>0.000000</td>\n",
       "      <td>0.0</td>\n",
       "      <td>0.0</td>\n",
       "    </tr>\n",
       "    <tr>\n",
       "      <th>2020-03-05</th>\n",
       "      <td>2020-03-05</td>\n",
       "      <td>NL</td>\n",
       "      <td>41</td>\n",
       "      <td>0</td>\n",
       "      <td>17</td>\n",
       "      <td>0.234625</td>\n",
       "      <td>40</td>\n",
       "      <td>0.228902</td>\n",
       "      <td>0</td>\n",
       "      <td>0.000000</td>\n",
       "      <td>0</td>\n",
       "      <td>0.000000</td>\n",
       "      <td>0.0</td>\n",
       "      <td>0.0</td>\n",
       "    </tr>\n",
       "    <tr>\n",
       "      <th>2020-03-06</th>\n",
       "      <td>2020-03-06</td>\n",
       "      <td>NL</td>\n",
       "      <td>81</td>\n",
       "      <td>0</td>\n",
       "      <td>40</td>\n",
       "      <td>0.463527</td>\n",
       "      <td>79</td>\n",
       "      <td>0.452082</td>\n",
       "      <td>0</td>\n",
       "      <td>0.000000</td>\n",
       "      <td>0</td>\n",
       "      <td>0.000000</td>\n",
       "      <td>0.0</td>\n",
       "      <td>0.0</td>\n",
       "    </tr>\n",
       "    <tr>\n",
       "      <th>2020-03-07</th>\n",
       "      <td>2020-03-07</td>\n",
       "      <td>NL</td>\n",
       "      <td>131</td>\n",
       "      <td>1</td>\n",
       "      <td>50</td>\n",
       "      <td>0.749656</td>\n",
       "      <td>126</td>\n",
       "      <td>0.721043</td>\n",
       "      <td>1</td>\n",
       "      <td>0.005723</td>\n",
       "      <td>1</td>\n",
       "      <td>0.005723</td>\n",
       "      <td>0.0</td>\n",
       "      <td>0.0</td>\n",
       "    </tr>\n",
       "  </tbody>\n",
       "</table>\n",
       "</div>"
      ],
      "text/plain": [
       "                 Datum LandCode  Positief getest  Overleden  \\\n",
       "Key                                                           \n",
       "2020-02-27  2020-02-27       NL                0          0   \n",
       "2020-02-28  2020-02-28       NL                1          0   \n",
       "2020-02-29  2020-02-29       NL                2          0   \n",
       "2020-03-01  2020-03-01       NL                5          0   \n",
       "2020-03-02  2020-03-02       NL               10          0   \n",
       "2020-03-03  2020-03-03       NL               14          0   \n",
       "2020-03-04  2020-03-04       NL               24          0   \n",
       "2020-03-05  2020-03-05       NL               41          0   \n",
       "2020-03-06  2020-03-06       NL               81          0   \n",
       "2020-03-07  2020-03-07       NL              131          1   \n",
       "\n",
       "            Positief getest (nieuw)  Positief getest per 100.000  \\\n",
       "Key                                                                \n",
       "2020-02-27                        0                     0.000000   \n",
       "2020-02-28                        1                     0.005723   \n",
       "2020-02-29                        1                     0.011445   \n",
       "2020-03-01                        3                     0.028613   \n",
       "2020-03-02                        5                     0.057226   \n",
       "2020-03-03                        4                     0.080116   \n",
       "2020-03-04                       10                     0.137341   \n",
       "2020-03-05                       17                     0.234625   \n",
       "2020-03-06                       40                     0.463527   \n",
       "2020-03-07                       50                     0.749656   \n",
       "\n",
       "            Positief getest 7d  Positief getest 7d per 100.000  \\\n",
       "Key                                                              \n",
       "2020-02-27                   0                        0.000000   \n",
       "2020-02-28                   0                        0.000000   \n",
       "2020-02-29                   0                        0.000000   \n",
       "2020-03-01                   0                        0.000000   \n",
       "2020-03-02                   0                        0.000000   \n",
       "2020-03-03                   0                        0.000000   \n",
       "2020-03-04                  24                        0.137341   \n",
       "2020-03-05                  40                        0.228902   \n",
       "2020-03-06                  79                        0.452082   \n",
       "2020-03-07                 126                        0.721043   \n",
       "\n",
       "            Overleden (nieuw)  Overleden per 100.000  Overleden 7d  \\\n",
       "Key                                                                  \n",
       "2020-02-27                  0               0.000000             0   \n",
       "2020-02-28                  0               0.000000             0   \n",
       "2020-02-29                  0               0.000000             0   \n",
       "2020-03-01                  0               0.000000             0   \n",
       "2020-03-02                  0               0.000000             0   \n",
       "2020-03-03                  0               0.000000             0   \n",
       "2020-03-04                  0               0.000000             0   \n",
       "2020-03-05                  0               0.000000             0   \n",
       "2020-03-06                  0               0.000000             0   \n",
       "2020-03-07                  1               0.005723             1   \n",
       "\n",
       "            Overleden 7d per 100.000  Overleden week-1  Positief getest week-1  \n",
       "Key                                                                             \n",
       "2020-02-27                  0.000000               0.0                     0.0  \n",
       "2020-02-28                  0.000000               0.0                     0.0  \n",
       "2020-02-29                  0.000000               0.0                     0.0  \n",
       "2020-03-01                  0.000000               0.0                     0.0  \n",
       "2020-03-02                  0.000000               0.0                     0.0  \n",
       "2020-03-03                  0.000000               0.0                     0.0  \n",
       "2020-03-04                  0.000000               0.0                     0.0  \n",
       "2020-03-05                  0.000000               0.0                     0.0  \n",
       "2020-03-06                  0.000000               0.0                     0.0  \n",
       "2020-03-07                  0.005723               0.0                     0.0  "
      ]
     },
     "metadata": {},
     "output_type": "display_data"
    }
   ],
   "source": [
    "@run('set up base frame + overleden + positief getest')\n",
    "def cell():\n",
    "  # 2 vliegen in 1 klap -- aantallen pos + overleden, en laatste datum met data voor de datum range\n",
    "  df = RIVM.csv('COVID-19_aantallen_gemeente_per_dag').rename(columns={\n",
    "    'Total_reported': 'Positief getest',\n",
    "    'Deceased': 'Overleden',\n",
    "    'Date_of_publication': 'Datum',\n",
    "    'Date_of_report': 'Today',\n",
    "  })\n",
    "  # sloop tijd van de datum en zet om in datetime object\n",
    "  df['Datum'] = pd.to_datetime(df.Datum.str.replace(' .*', '', regex=True))\n",
    "  #df['Today'] = pd.to_datetime(df.Today.str.replace(' .*', '', regex=True))\n",
    "\n",
    "  global dagoverzicht\n",
    "  # maak leeg dataframe met een rij voor elke dag van 2020-02-27 tm Date_of_publication\n",
    "  dagoverzicht = pd.DataFrame(index=pd.date_range(start='2020-02-27', end=df.Datum.max()))\n",
    "  # noem de index Key\n",
    "  dagoverzicht.index.name='Key'\n",
    "  # vul de datum kolom\n",
    "  dagoverzicht['Datum'] = dagoverzicht.index.strftime('%Y-%m-%d')\n",
    "  # vaste waarde voor LandCode\n",
    "  dagoverzicht['LandCode'] = 'NL'\n",
    "\n",
    "  # sommeer pos en overl op datum en voeg toe aan dagoverzicht\n",
    "  addstats(df.groupby(['Datum']).agg({'Positief getest': 'sum', 'Overleden': 'sum'}))\n",
    "  for col in ['Overleden', 'Positief getest']:\n",
    "    dagoverzicht[f'{col} week-1'] = dagoverzicht[f'{col} 7d'].shift(7).fillna(0)\n",
    "  display(dagoverzicht.head(10))"
   ]
  },
  {
   "cell_type": "code",
   "execution_count": 3,
   "id": "consecutive-vietnamese",
   "metadata": {
    "execution": {
     "iopub.execute_input": "2021-02-13T14:33:53.445463Z",
     "iopub.status.busy": "2021-02-13T14:33:53.443597Z",
     "iopub.status.idle": "2021-02-13T14:33:54.201440Z",
     "shell.execute_reply": "2021-02-13T14:33:54.199526Z"
    },
    "lines_to_next_cell": 1,
    "papermill": {
     "duration": 0.771377,
     "end_time": "2021-02-13T14:33:54.201572",
     "exception": false,
     "start_time": "2021-02-13T14:33:53.430195",
     "status": "completed"
    },
    "tags": []
   },
   "outputs": [
    {
     "name": "stdout",
     "output_type": "stream",
     "text": [
      "ziekenhuisopnames\n"
     ]
    },
    {
     "name": "stdout",
     "output_type": "stream",
     "text": [
      "rivm/COVID-19_ziekenhuisopnames-2021-02-13@14-15.csv exists\n",
      "loading rivm/COVID-19_ziekenhuisopnames-2021-02-13@14-15.csv.gz\n"
     ]
    },
    {
     "data": {
      "text/html": [
       "<div>\n",
       "<style scoped>\n",
       "    .dataframe tbody tr th:only-of-type {\n",
       "        vertical-align: middle;\n",
       "    }\n",
       "\n",
       "    .dataframe tbody tr th {\n",
       "        vertical-align: top;\n",
       "    }\n",
       "\n",
       "    .dataframe thead th {\n",
       "        text-align: right;\n",
       "    }\n",
       "</style>\n",
       "<table border=\"1\" class=\"dataframe\">\n",
       "  <thead>\n",
       "    <tr style=\"text-align: right;\">\n",
       "      <th></th>\n",
       "      <th>Datum</th>\n",
       "      <th>LandCode</th>\n",
       "      <th>Positief getest</th>\n",
       "      <th>Overleden</th>\n",
       "      <th>Positief getest (nieuw)</th>\n",
       "      <th>Positief getest per 100.000</th>\n",
       "      <th>Positief getest 7d</th>\n",
       "      <th>Positief getest 7d per 100.000</th>\n",
       "      <th>Overleden (nieuw)</th>\n",
       "      <th>Overleden per 100.000</th>\n",
       "      <th>Overleden 7d</th>\n",
       "      <th>Overleden 7d per 100.000</th>\n",
       "      <th>Overleden week-1</th>\n",
       "      <th>Positief getest week-1</th>\n",
       "      <th>Ziekenhuisopnames</th>\n",
       "      <th>Ziekenhuisopnames (nieuw)</th>\n",
       "      <th>Ziekenhuisopnames per 100.000</th>\n",
       "      <th>Ziekenhuisopnames 7d</th>\n",
       "      <th>Ziekenhuisopnames 7d per 100.000</th>\n",
       "      <th>Ziekenhuisopnames week-1</th>\n",
       "    </tr>\n",
       "    <tr>\n",
       "      <th>Key</th>\n",
       "      <th></th>\n",
       "      <th></th>\n",
       "      <th></th>\n",
       "      <th></th>\n",
       "      <th></th>\n",
       "      <th></th>\n",
       "      <th></th>\n",
       "      <th></th>\n",
       "      <th></th>\n",
       "      <th></th>\n",
       "      <th></th>\n",
       "      <th></th>\n",
       "      <th></th>\n",
       "      <th></th>\n",
       "      <th></th>\n",
       "      <th></th>\n",
       "      <th></th>\n",
       "      <th></th>\n",
       "      <th></th>\n",
       "      <th></th>\n",
       "    </tr>\n",
       "  </thead>\n",
       "  <tbody>\n",
       "    <tr>\n",
       "      <th>2020-02-27</th>\n",
       "      <td>2020-02-27</td>\n",
       "      <td>NL</td>\n",
       "      <td>0</td>\n",
       "      <td>0</td>\n",
       "      <td>0</td>\n",
       "      <td>0.000000</td>\n",
       "      <td>0</td>\n",
       "      <td>0.0</td>\n",
       "      <td>0</td>\n",
       "      <td>0.0</td>\n",
       "      <td>0</td>\n",
       "      <td>0.0</td>\n",
       "      <td>0.0</td>\n",
       "      <td>0.0</td>\n",
       "      <td>3</td>\n",
       "      <td>3</td>\n",
       "      <td>0.017168</td>\n",
       "      <td>0</td>\n",
       "      <td>0.0</td>\n",
       "      <td>0.0</td>\n",
       "    </tr>\n",
       "    <tr>\n",
       "      <th>2020-02-28</th>\n",
       "      <td>2020-02-28</td>\n",
       "      <td>NL</td>\n",
       "      <td>1</td>\n",
       "      <td>0</td>\n",
       "      <td>1</td>\n",
       "      <td>0.005723</td>\n",
       "      <td>0</td>\n",
       "      <td>0.0</td>\n",
       "      <td>0</td>\n",
       "      <td>0.0</td>\n",
       "      <td>0</td>\n",
       "      <td>0.0</td>\n",
       "      <td>0.0</td>\n",
       "      <td>0.0</td>\n",
       "      <td>6</td>\n",
       "      <td>3</td>\n",
       "      <td>0.034335</td>\n",
       "      <td>0</td>\n",
       "      <td>0.0</td>\n",
       "      <td>0.0</td>\n",
       "    </tr>\n",
       "    <tr>\n",
       "      <th>2020-02-29</th>\n",
       "      <td>2020-02-29</td>\n",
       "      <td>NL</td>\n",
       "      <td>2</td>\n",
       "      <td>0</td>\n",
       "      <td>1</td>\n",
       "      <td>0.011445</td>\n",
       "      <td>0</td>\n",
       "      <td>0.0</td>\n",
       "      <td>0</td>\n",
       "      <td>0.0</td>\n",
       "      <td>0</td>\n",
       "      <td>0.0</td>\n",
       "      <td>0.0</td>\n",
       "      <td>0.0</td>\n",
       "      <td>8</td>\n",
       "      <td>2</td>\n",
       "      <td>0.045780</td>\n",
       "      <td>0</td>\n",
       "      <td>0.0</td>\n",
       "      <td>0.0</td>\n",
       "    </tr>\n",
       "    <tr>\n",
       "      <th>2020-03-01</th>\n",
       "      <td>2020-03-01</td>\n",
       "      <td>NL</td>\n",
       "      <td>5</td>\n",
       "      <td>0</td>\n",
       "      <td>3</td>\n",
       "      <td>0.028613</td>\n",
       "      <td>0</td>\n",
       "      <td>0.0</td>\n",
       "      <td>0</td>\n",
       "      <td>0.0</td>\n",
       "      <td>0</td>\n",
       "      <td>0.0</td>\n",
       "      <td>0.0</td>\n",
       "      <td>0.0</td>\n",
       "      <td>17</td>\n",
       "      <td>9</td>\n",
       "      <td>0.097284</td>\n",
       "      <td>0</td>\n",
       "      <td>0.0</td>\n",
       "      <td>0.0</td>\n",
       "    </tr>\n",
       "    <tr>\n",
       "      <th>2020-03-02</th>\n",
       "      <td>2020-03-02</td>\n",
       "      <td>NL</td>\n",
       "      <td>10</td>\n",
       "      <td>0</td>\n",
       "      <td>5</td>\n",
       "      <td>0.057226</td>\n",
       "      <td>0</td>\n",
       "      <td>0.0</td>\n",
       "      <td>0</td>\n",
       "      <td>0.0</td>\n",
       "      <td>0</td>\n",
       "      <td>0.0</td>\n",
       "      <td>0.0</td>\n",
       "      <td>0.0</td>\n",
       "      <td>27</td>\n",
       "      <td>10</td>\n",
       "      <td>0.154509</td>\n",
       "      <td>0</td>\n",
       "      <td>0.0</td>\n",
       "      <td>0.0</td>\n",
       "    </tr>\n",
       "  </tbody>\n",
       "</table>\n",
       "</div>"
      ],
      "text/plain": [
       "                 Datum LandCode  Positief getest  Overleden  \\\n",
       "Key                                                           \n",
       "2020-02-27  2020-02-27       NL                0          0   \n",
       "2020-02-28  2020-02-28       NL                1          0   \n",
       "2020-02-29  2020-02-29       NL                2          0   \n",
       "2020-03-01  2020-03-01       NL                5          0   \n",
       "2020-03-02  2020-03-02       NL               10          0   \n",
       "\n",
       "            Positief getest (nieuw)  Positief getest per 100.000  \\\n",
       "Key                                                                \n",
       "2020-02-27                        0                     0.000000   \n",
       "2020-02-28                        1                     0.005723   \n",
       "2020-02-29                        1                     0.011445   \n",
       "2020-03-01                        3                     0.028613   \n",
       "2020-03-02                        5                     0.057226   \n",
       "\n",
       "            Positief getest 7d  Positief getest 7d per 100.000  \\\n",
       "Key                                                              \n",
       "2020-02-27                   0                             0.0   \n",
       "2020-02-28                   0                             0.0   \n",
       "2020-02-29                   0                             0.0   \n",
       "2020-03-01                   0                             0.0   \n",
       "2020-03-02                   0                             0.0   \n",
       "\n",
       "            Overleden (nieuw)  Overleden per 100.000  Overleden 7d  \\\n",
       "Key                                                                  \n",
       "2020-02-27                  0                    0.0             0   \n",
       "2020-02-28                  0                    0.0             0   \n",
       "2020-02-29                  0                    0.0             0   \n",
       "2020-03-01                  0                    0.0             0   \n",
       "2020-03-02                  0                    0.0             0   \n",
       "\n",
       "            Overleden 7d per 100.000  Overleden week-1  \\\n",
       "Key                                                      \n",
       "2020-02-27                       0.0               0.0   \n",
       "2020-02-28                       0.0               0.0   \n",
       "2020-02-29                       0.0               0.0   \n",
       "2020-03-01                       0.0               0.0   \n",
       "2020-03-02                       0.0               0.0   \n",
       "\n",
       "            Positief getest week-1  Ziekenhuisopnames  \\\n",
       "Key                                                     \n",
       "2020-02-27                     0.0                  3   \n",
       "2020-02-28                     0.0                  6   \n",
       "2020-02-29                     0.0                  8   \n",
       "2020-03-01                     0.0                 17   \n",
       "2020-03-02                     0.0                 27   \n",
       "\n",
       "            Ziekenhuisopnames (nieuw)  Ziekenhuisopnames per 100.000  \\\n",
       "Key                                                                    \n",
       "2020-02-27                          3                       0.017168   \n",
       "2020-02-28                          3                       0.034335   \n",
       "2020-02-29                          2                       0.045780   \n",
       "2020-03-01                          9                       0.097284   \n",
       "2020-03-02                         10                       0.154509   \n",
       "\n",
       "            Ziekenhuisopnames 7d  Ziekenhuisopnames 7d per 100.000  \\\n",
       "Key                                                                  \n",
       "2020-02-27                     0                               0.0   \n",
       "2020-02-28                     0                               0.0   \n",
       "2020-02-29                     0                               0.0   \n",
       "2020-03-01                     0                               0.0   \n",
       "2020-03-02                     0                               0.0   \n",
       "\n",
       "            Ziekenhuisopnames week-1  \n",
       "Key                                   \n",
       "2020-02-27                       0.0  \n",
       "2020-02-28                       0.0  \n",
       "2020-02-29                       0.0  \n",
       "2020-03-01                       0.0  \n",
       "2020-03-02                       0.0  "
      ]
     },
     "metadata": {},
     "output_type": "display_data"
    }
   ],
   "source": [
    "@run('ziekenhuisopnames')\n",
    "def cell():\n",
    "  df = RIVM.csv('COVID-19_ziekenhuisopnames').rename(columns={\n",
    "    'Hospital_admission': 'Ziekenhuisopnames',\n",
    "    'Date_of_statistics': 'Datum',\n",
    "  })\n",
    "  # datum naar datetime\n",
    "  df['Datum'] = pd.to_datetime(df.Datum.str.replace(' .*', '', regex=True))\n",
    "  # sommeer op datum en voeg toe aan dagoverzicht\n",
    "  addstats(df.groupby(['Datum']).agg({'Ziekenhuisopnames': 'sum'}))\n",
    "  dagoverzicht['Ziekenhuisopnames week-1'] = dagoverzicht['Ziekenhuisopnames 7d'].shift(7).fillna(0)\n",
    "  display(dagoverzicht.head())"
   ]
  },
  {
   "cell_type": "code",
   "execution_count": 4,
   "id": "liked-heart",
   "metadata": {
    "execution": {
     "iopub.execute_input": "2021-02-13T14:33:54.226709Z",
     "iopub.status.busy": "2021-02-13T14:33:54.225775Z",
     "iopub.status.idle": "2021-02-13T14:33:56.416308Z",
     "shell.execute_reply": "2021-02-13T14:33:56.415795Z"
    },
    "lines_to_next_cell": 1,
    "papermill": {
     "duration": 2.205026,
     "end_time": "2021-02-13T14:33:56.416434",
     "exception": false,
     "start_time": "2021-02-13T14:33:54.211408",
     "status": "completed"
    },
    "tags": []
   },
   "outputs": [
    {
     "name": "stdout",
     "output_type": "stream",
     "text": [
      "reproductiegetal en besmettelijkheid\n"
     ]
    },
    {
     "name": "stdout",
     "output_type": "stream",
     "text": [
      "downloading rivm/COVID-19_reproductiegetal-2021-02-13@14-15.json\n"
     ]
    },
    {
     "name": "stdout",
     "output_type": "stream",
     "text": [
      "loading rivm/COVID-19_reproductiegetal-2021-02-13@14-15.json.gz\n"
     ]
    },
    {
     "name": "stdout",
     "output_type": "stream",
     "text": [
      "downloading rivm/COVID-19_prevalentie-2021-02-13@14-15.json\n"
     ]
    },
    {
     "name": "stdout",
     "output_type": "stream",
     "text": [
      "loading rivm/COVID-19_prevalentie-2021-02-13@14-15.json.gz\n"
     ]
    },
    {
     "data": {
      "text/html": [
       "<div>\n",
       "<style scoped>\n",
       "    .dataframe tbody tr th:only-of-type {\n",
       "        vertical-align: middle;\n",
       "    }\n",
       "\n",
       "    .dataframe tbody tr th {\n",
       "        vertical-align: top;\n",
       "    }\n",
       "\n",
       "    .dataframe thead th {\n",
       "        text-align: right;\n",
       "    }\n",
       "</style>\n",
       "<table border=\"1\" class=\"dataframe\">\n",
       "  <thead>\n",
       "    <tr style=\"text-align: right;\">\n",
       "      <th></th>\n",
       "      <th>Datum</th>\n",
       "      <th>LandCode</th>\n",
       "      <th>Positief getest</th>\n",
       "      <th>Overleden</th>\n",
       "      <th>Positief getest (nieuw)</th>\n",
       "      <th>Positief getest per 100.000</th>\n",
       "      <th>Positief getest 7d</th>\n",
       "      <th>Positief getest 7d per 100.000</th>\n",
       "      <th>Overleden (nieuw)</th>\n",
       "      <th>Overleden per 100.000</th>\n",
       "      <th>...</th>\n",
       "      <th>Positief getest week-1</th>\n",
       "      <th>Ziekenhuisopnames</th>\n",
       "      <th>Ziekenhuisopnames (nieuw)</th>\n",
       "      <th>Ziekenhuisopnames per 100.000</th>\n",
       "      <th>Ziekenhuisopnames 7d</th>\n",
       "      <th>Ziekenhuisopnames 7d per 100.000</th>\n",
       "      <th>Ziekenhuisopnames week-1</th>\n",
       "      <th>Reproductiegetal</th>\n",
       "      <th>Besmettelijk</th>\n",
       "      <th>Besmettelijk per 100.000</th>\n",
       "    </tr>\n",
       "    <tr>\n",
       "      <th>Key</th>\n",
       "      <th></th>\n",
       "      <th></th>\n",
       "      <th></th>\n",
       "      <th></th>\n",
       "      <th></th>\n",
       "      <th></th>\n",
       "      <th></th>\n",
       "      <th></th>\n",
       "      <th></th>\n",
       "      <th></th>\n",
       "      <th></th>\n",
       "      <th></th>\n",
       "      <th></th>\n",
       "      <th></th>\n",
       "      <th></th>\n",
       "      <th></th>\n",
       "      <th></th>\n",
       "      <th></th>\n",
       "      <th></th>\n",
       "      <th></th>\n",
       "      <th></th>\n",
       "    </tr>\n",
       "  </thead>\n",
       "  <tbody>\n",
       "    <tr>\n",
       "      <th>2020-02-27</th>\n",
       "      <td>2020-02-27</td>\n",
       "      <td>NL</td>\n",
       "      <td>0</td>\n",
       "      <td>0</td>\n",
       "      <td>0</td>\n",
       "      <td>0.000000</td>\n",
       "      <td>0</td>\n",
       "      <td>0.000000</td>\n",
       "      <td>0</td>\n",
       "      <td>0.000000</td>\n",
       "      <td>...</td>\n",
       "      <td>0.0</td>\n",
       "      <td>3</td>\n",
       "      <td>3</td>\n",
       "      <td>0.017168</td>\n",
       "      <td>0</td>\n",
       "      <td>0.000000</td>\n",
       "      <td>0.0</td>\n",
       "      <td>2.06</td>\n",
       "      <td>6501.0</td>\n",
       "      <td>37.0</td>\n",
       "    </tr>\n",
       "    <tr>\n",
       "      <th>2020-02-28</th>\n",
       "      <td>2020-02-28</td>\n",
       "      <td>NL</td>\n",
       "      <td>1</td>\n",
       "      <td>0</td>\n",
       "      <td>1</td>\n",
       "      <td>0.005723</td>\n",
       "      <td>0</td>\n",
       "      <td>0.000000</td>\n",
       "      <td>0</td>\n",
       "      <td>0.000000</td>\n",
       "      <td>...</td>\n",
       "      <td>0.0</td>\n",
       "      <td>6</td>\n",
       "      <td>3</td>\n",
       "      <td>0.034335</td>\n",
       "      <td>0</td>\n",
       "      <td>0.000000</td>\n",
       "      <td>0.0</td>\n",
       "      <td>2.10</td>\n",
       "      <td>8184.0</td>\n",
       "      <td>47.0</td>\n",
       "    </tr>\n",
       "    <tr>\n",
       "      <th>2020-02-29</th>\n",
       "      <td>2020-02-29</td>\n",
       "      <td>NL</td>\n",
       "      <td>2</td>\n",
       "      <td>0</td>\n",
       "      <td>1</td>\n",
       "      <td>0.011445</td>\n",
       "      <td>0</td>\n",
       "      <td>0.000000</td>\n",
       "      <td>0</td>\n",
       "      <td>0.000000</td>\n",
       "      <td>...</td>\n",
       "      <td>0.0</td>\n",
       "      <td>8</td>\n",
       "      <td>2</td>\n",
       "      <td>0.045780</td>\n",
       "      <td>0</td>\n",
       "      <td>0.000000</td>\n",
       "      <td>0.0</td>\n",
       "      <td>1.99</td>\n",
       "      <td>10266.0</td>\n",
       "      <td>59.0</td>\n",
       "    </tr>\n",
       "    <tr>\n",
       "      <th>2020-03-01</th>\n",
       "      <td>2020-03-01</td>\n",
       "      <td>NL</td>\n",
       "      <td>5</td>\n",
       "      <td>0</td>\n",
       "      <td>3</td>\n",
       "      <td>0.028613</td>\n",
       "      <td>0</td>\n",
       "      <td>0.000000</td>\n",
       "      <td>0</td>\n",
       "      <td>0.000000</td>\n",
       "      <td>...</td>\n",
       "      <td>0.0</td>\n",
       "      <td>17</td>\n",
       "      <td>9</td>\n",
       "      <td>0.097284</td>\n",
       "      <td>0</td>\n",
       "      <td>0.000000</td>\n",
       "      <td>0.0</td>\n",
       "      <td>1.83</td>\n",
       "      <td>12757.0</td>\n",
       "      <td>73.0</td>\n",
       "    </tr>\n",
       "    <tr>\n",
       "      <th>2020-03-02</th>\n",
       "      <td>2020-03-02</td>\n",
       "      <td>NL</td>\n",
       "      <td>10</td>\n",
       "      <td>0</td>\n",
       "      <td>5</td>\n",
       "      <td>0.057226</td>\n",
       "      <td>0</td>\n",
       "      <td>0.000000</td>\n",
       "      <td>0</td>\n",
       "      <td>0.000000</td>\n",
       "      <td>...</td>\n",
       "      <td>0.0</td>\n",
       "      <td>27</td>\n",
       "      <td>10</td>\n",
       "      <td>0.154509</td>\n",
       "      <td>0</td>\n",
       "      <td>0.000000</td>\n",
       "      <td>0.0</td>\n",
       "      <td>1.79</td>\n",
       "      <td>15691.0</td>\n",
       "      <td>90.0</td>\n",
       "    </tr>\n",
       "    <tr>\n",
       "      <th>...</th>\n",
       "      <td>...</td>\n",
       "      <td>...</td>\n",
       "      <td>...</td>\n",
       "      <td>...</td>\n",
       "      <td>...</td>\n",
       "      <td>...</td>\n",
       "      <td>...</td>\n",
       "      <td>...</td>\n",
       "      <td>...</td>\n",
       "      <td>...</td>\n",
       "      <td>...</td>\n",
       "      <td>...</td>\n",
       "      <td>...</td>\n",
       "      <td>...</td>\n",
       "      <td>...</td>\n",
       "      <td>...</td>\n",
       "      <td>...</td>\n",
       "      <td>...</td>\n",
       "      <td>...</td>\n",
       "      <td>...</td>\n",
       "      <td>...</td>\n",
       "    </tr>\n",
       "    <tr>\n",
       "      <th>2021-02-09</th>\n",
       "      <td>2021-02-09</td>\n",
       "      <td>NL</td>\n",
       "      <td>1009588</td>\n",
       "      <td>14508</td>\n",
       "      <td>1765</td>\n",
       "      <td>5777.429108</td>\n",
       "      <td>20606</td>\n",
       "      <td>117.919096</td>\n",
       "      <td>85</td>\n",
       "      <td>83.022918</td>\n",
       "      <td>...</td>\n",
       "      <td>23792.0</td>\n",
       "      <td>43181</td>\n",
       "      <td>180</td>\n",
       "      <td>247.105915</td>\n",
       "      <td>970</td>\n",
       "      <td>5.550884</td>\n",
       "      <td>1105.0</td>\n",
       "      <td>0.00</td>\n",
       "      <td>0.0</td>\n",
       "      <td>0.0</td>\n",
       "    </tr>\n",
       "    <tr>\n",
       "      <th>2021-02-10</th>\n",
       "      <td>2021-02-10</td>\n",
       "      <td>NL</td>\n",
       "      <td>1012793</td>\n",
       "      <td>14586</td>\n",
       "      <td>3205</td>\n",
       "      <td>5795.769917</td>\n",
       "      <td>19595</td>\n",
       "      <td>112.133587</td>\n",
       "      <td>78</td>\n",
       "      <td>83.469278</td>\n",
       "      <td>...</td>\n",
       "      <td>23117.0</td>\n",
       "      <td>43355</td>\n",
       "      <td>174</td>\n",
       "      <td>248.101640</td>\n",
       "      <td>962</td>\n",
       "      <td>5.505104</td>\n",
       "      <td>1064.0</td>\n",
       "      <td>0.00</td>\n",
       "      <td>0.0</td>\n",
       "      <td>0.0</td>\n",
       "    </tr>\n",
       "    <tr>\n",
       "      <th>2021-02-11</th>\n",
       "      <td>2021-02-11</td>\n",
       "      <td>NL</td>\n",
       "      <td>1017237</td>\n",
       "      <td>14660</td>\n",
       "      <td>4444</td>\n",
       "      <td>5821.200979</td>\n",
       "      <td>19706</td>\n",
       "      <td>112.768791</td>\n",
       "      <td>74</td>\n",
       "      <td>83.892747</td>\n",
       "      <td>...</td>\n",
       "      <td>22924.0</td>\n",
       "      <td>43488</td>\n",
       "      <td>133</td>\n",
       "      <td>248.862741</td>\n",
       "      <td>917</td>\n",
       "      <td>5.247589</td>\n",
       "      <td>1027.0</td>\n",
       "      <td>0.00</td>\n",
       "      <td>0.0</td>\n",
       "      <td>0.0</td>\n",
       "    </tr>\n",
       "    <tr>\n",
       "      <th>2021-02-12</th>\n",
       "      <td>2021-02-12</td>\n",
       "      <td>NL</td>\n",
       "      <td>1021608</td>\n",
       "      <td>14726</td>\n",
       "      <td>4371</td>\n",
       "      <td>5846.214294</td>\n",
       "      <td>19978</td>\n",
       "      <td>114.325327</td>\n",
       "      <td>66</td>\n",
       "      <td>84.270436</td>\n",
       "      <td>...</td>\n",
       "      <td>23078.0</td>\n",
       "      <td>43531</td>\n",
       "      <td>43</td>\n",
       "      <td>249.108811</td>\n",
       "      <td>827</td>\n",
       "      <td>4.732558</td>\n",
       "      <td>1069.0</td>\n",
       "      <td>0.00</td>\n",
       "      <td>0.0</td>\n",
       "      <td>0.0</td>\n",
       "    </tr>\n",
       "    <tr>\n",
       "      <th>2021-02-13</th>\n",
       "      <td>2021-02-13</td>\n",
       "      <td>NL</td>\n",
       "      <td>1025837</td>\n",
       "      <td>14793</td>\n",
       "      <td>4229</td>\n",
       "      <td>5870.415005</td>\n",
       "      <td>20276</td>\n",
       "      <td>116.030651</td>\n",
       "      <td>67</td>\n",
       "      <td>84.653848</td>\n",
       "      <td>...</td>\n",
       "      <td>23491.0</td>\n",
       "      <td>43531</td>\n",
       "      <td>0</td>\n",
       "      <td>249.108811</td>\n",
       "      <td>718</td>\n",
       "      <td>4.108799</td>\n",
       "      <td>1052.0</td>\n",
       "      <td>0.00</td>\n",
       "      <td>0.0</td>\n",
       "      <td>0.0</td>\n",
       "    </tr>\n",
       "  </tbody>\n",
       "</table>\n",
       "<p>353 rows × 23 columns</p>\n",
       "</div>"
      ],
      "text/plain": [
       "                 Datum LandCode  Positief getest  Overleden  \\\n",
       "Key                                                           \n",
       "2020-02-27  2020-02-27       NL                0          0   \n",
       "2020-02-28  2020-02-28       NL                1          0   \n",
       "2020-02-29  2020-02-29       NL                2          0   \n",
       "2020-03-01  2020-03-01       NL                5          0   \n",
       "2020-03-02  2020-03-02       NL               10          0   \n",
       "...                ...      ...              ...        ...   \n",
       "2021-02-09  2021-02-09       NL          1009588      14508   \n",
       "2021-02-10  2021-02-10       NL          1012793      14586   \n",
       "2021-02-11  2021-02-11       NL          1017237      14660   \n",
       "2021-02-12  2021-02-12       NL          1021608      14726   \n",
       "2021-02-13  2021-02-13       NL          1025837      14793   \n",
       "\n",
       "            Positief getest (nieuw)  Positief getest per 100.000  \\\n",
       "Key                                                                \n",
       "2020-02-27                        0                     0.000000   \n",
       "2020-02-28                        1                     0.005723   \n",
       "2020-02-29                        1                     0.011445   \n",
       "2020-03-01                        3                     0.028613   \n",
       "2020-03-02                        5                     0.057226   \n",
       "...                             ...                          ...   \n",
       "2021-02-09                     1765                  5777.429108   \n",
       "2021-02-10                     3205                  5795.769917   \n",
       "2021-02-11                     4444                  5821.200979   \n",
       "2021-02-12                     4371                  5846.214294   \n",
       "2021-02-13                     4229                  5870.415005   \n",
       "\n",
       "            Positief getest 7d  Positief getest 7d per 100.000  \\\n",
       "Key                                                              \n",
       "2020-02-27                   0                        0.000000   \n",
       "2020-02-28                   0                        0.000000   \n",
       "2020-02-29                   0                        0.000000   \n",
       "2020-03-01                   0                        0.000000   \n",
       "2020-03-02                   0                        0.000000   \n",
       "...                        ...                             ...   \n",
       "2021-02-09               20606                      117.919096   \n",
       "2021-02-10               19595                      112.133587   \n",
       "2021-02-11               19706                      112.768791   \n",
       "2021-02-12               19978                      114.325327   \n",
       "2021-02-13               20276                      116.030651   \n",
       "\n",
       "            Overleden (nieuw)  Overleden per 100.000  ...  \\\n",
       "Key                                                   ...   \n",
       "2020-02-27                  0               0.000000  ...   \n",
       "2020-02-28                  0               0.000000  ...   \n",
       "2020-02-29                  0               0.000000  ...   \n",
       "2020-03-01                  0               0.000000  ...   \n",
       "2020-03-02                  0               0.000000  ...   \n",
       "...                       ...                    ...  ...   \n",
       "2021-02-09                 85              83.022918  ...   \n",
       "2021-02-10                 78              83.469278  ...   \n",
       "2021-02-11                 74              83.892747  ...   \n",
       "2021-02-12                 66              84.270436  ...   \n",
       "2021-02-13                 67              84.653848  ...   \n",
       "\n",
       "            Positief getest week-1  Ziekenhuisopnames  \\\n",
       "Key                                                     \n",
       "2020-02-27                     0.0                  3   \n",
       "2020-02-28                     0.0                  6   \n",
       "2020-02-29                     0.0                  8   \n",
       "2020-03-01                     0.0                 17   \n",
       "2020-03-02                     0.0                 27   \n",
       "...                            ...                ...   \n",
       "2021-02-09                 23792.0              43181   \n",
       "2021-02-10                 23117.0              43355   \n",
       "2021-02-11                 22924.0              43488   \n",
       "2021-02-12                 23078.0              43531   \n",
       "2021-02-13                 23491.0              43531   \n",
       "\n",
       "            Ziekenhuisopnames (nieuw)  Ziekenhuisopnames per 100.000  \\\n",
       "Key                                                                    \n",
       "2020-02-27                          3                       0.017168   \n",
       "2020-02-28                          3                       0.034335   \n",
       "2020-02-29                          2                       0.045780   \n",
       "2020-03-01                          9                       0.097284   \n",
       "2020-03-02                         10                       0.154509   \n",
       "...                               ...                            ...   \n",
       "2021-02-09                        180                     247.105915   \n",
       "2021-02-10                        174                     248.101640   \n",
       "2021-02-11                        133                     248.862741   \n",
       "2021-02-12                         43                     249.108811   \n",
       "2021-02-13                          0                     249.108811   \n",
       "\n",
       "            Ziekenhuisopnames 7d  Ziekenhuisopnames 7d per 100.000  \\\n",
       "Key                                                                  \n",
       "2020-02-27                     0                          0.000000   \n",
       "2020-02-28                     0                          0.000000   \n",
       "2020-02-29                     0                          0.000000   \n",
       "2020-03-01                     0                          0.000000   \n",
       "2020-03-02                     0                          0.000000   \n",
       "...                          ...                               ...   \n",
       "2021-02-09                   970                          5.550884   \n",
       "2021-02-10                   962                          5.505104   \n",
       "2021-02-11                   917                          5.247589   \n",
       "2021-02-12                   827                          4.732558   \n",
       "2021-02-13                   718                          4.108799   \n",
       "\n",
       "            Ziekenhuisopnames week-1  Reproductiegetal  Besmettelijk  \\\n",
       "Key                                                                    \n",
       "2020-02-27                       0.0              2.06        6501.0   \n",
       "2020-02-28                       0.0              2.10        8184.0   \n",
       "2020-02-29                       0.0              1.99       10266.0   \n",
       "2020-03-01                       0.0              1.83       12757.0   \n",
       "2020-03-02                       0.0              1.79       15691.0   \n",
       "...                              ...               ...           ...   \n",
       "2021-02-09                    1105.0              0.00           0.0   \n",
       "2021-02-10                    1064.0              0.00           0.0   \n",
       "2021-02-11                    1027.0              0.00           0.0   \n",
       "2021-02-12                    1069.0              0.00           0.0   \n",
       "2021-02-13                    1052.0              0.00           0.0   \n",
       "\n",
       "            Besmettelijk per 100.000  \n",
       "Key                                   \n",
       "2020-02-27                      37.0  \n",
       "2020-02-28                      47.0  \n",
       "2020-02-29                      59.0  \n",
       "2020-03-01                      73.0  \n",
       "2020-03-02                      90.0  \n",
       "...                              ...  \n",
       "2021-02-09                       0.0  \n",
       "2021-02-10                       0.0  \n",
       "2021-02-11                       0.0  \n",
       "2021-02-12                       0.0  \n",
       "2021-02-13                       0.0  \n",
       "\n",
       "[353 rows x 23 columns]"
      ]
     },
     "metadata": {},
     "output_type": "display_data"
    }
   ],
   "source": [
    "@run('reproductiegetal en besmettelijkheid')\n",
    "def cell():\n",
    "  global dagoverzicht\n",
    "\n",
    "  datasets = [\n",
    "    ('COVID-19_reproductiegetal', 'Rt_avg', 'Reproductiegetal'),\n",
    "    ('COVID-19_prevalentie', 'prev_avg', 'Besmettelijk'),\n",
    "  ]\n",
    "  for dataset, source, target in datasets:\n",
    "    # laad de dataset\n",
    "    df = RIVM.json(dataset).rename(columns={source: target})\n",
    "    # Date naar datetime index voor de merge\n",
    "    df['Date'] = pd.to_datetime(df['Date'])\n",
    "    df.set_index('Date', inplace=True)\n",
    "    # merge alleen de target kolom\n",
    "    df = df[[target]]\n",
    "    # voeg to aan dagoverzicht\n",
    "    dagoverzicht = dagoverzicht.merge(df, how='left', left_index=True, right_index=True)\n",
    "    # vul lege waarden met 0\n",
    "    dagoverzicht[target] = dagoverzicht[target].fillna(0)\n",
    "  # per 100k factor\n",
    "  dagoverzicht['Besmettelijk per 100.000'] = (dagoverzicht['Besmettelijk']  * bevolking['per 100k']).round(0)\n",
    "  display(dagoverzicht)"
   ]
  },
  {
   "cell_type": "code",
   "execution_count": 5,
   "id": "associate-third",
   "metadata": {
    "execution": {
     "iopub.execute_input": "2021-02-13T14:33:56.449037Z",
     "iopub.status.busy": "2021-02-13T14:33:56.447963Z",
     "iopub.status.idle": "2021-02-13T14:33:58.260845Z",
     "shell.execute_reply": "2021-02-13T14:33:58.261183Z"
    },
    "lines_to_next_cell": 1,
    "papermill": {
     "duration": 1.832625,
     "end_time": "2021-02-13T14:33:58.261317",
     "exception": false,
     "start_time": "2021-02-13T14:33:56.428692",
     "status": "completed"
    },
    "tags": []
   },
   "outputs": [
    {
     "name": "stdout",
     "output_type": "stream",
     "text": [
      "uitgevoerde testen\n"
     ]
    },
    {
     "name": "stdout",
     "output_type": "stream",
     "text": [
      "downloading rivm/COVID-19_uitgevoerde_testen-2021-02-13@14-15.csv\n"
     ]
    },
    {
     "name": "stdout",
     "output_type": "stream",
     "text": [
      "loading rivm/COVID-19_uitgevoerde_testen-2021-02-13@14-15.csv.gz\n"
     ]
    },
    {
     "data": {
      "text/html": [
       "<div>\n",
       "<style scoped>\n",
       "    .dataframe tbody tr th:only-of-type {\n",
       "        vertical-align: middle;\n",
       "    }\n",
       "\n",
       "    .dataframe tbody tr th {\n",
       "        vertical-align: top;\n",
       "    }\n",
       "\n",
       "    .dataframe thead th {\n",
       "        text-align: right;\n",
       "    }\n",
       "</style>\n",
       "<table border=\"1\" class=\"dataframe\">\n",
       "  <thead>\n",
       "    <tr style=\"text-align: right;\">\n",
       "      <th></th>\n",
       "      <th>GGD getest</th>\n",
       "      <th>GGD getest positief</th>\n",
       "    </tr>\n",
       "    <tr>\n",
       "      <th>Datum</th>\n",
       "      <th></th>\n",
       "      <th></th>\n",
       "    </tr>\n",
       "  </thead>\n",
       "  <tbody>\n",
       "    <tr>\n",
       "      <th>2020-06-01</th>\n",
       "      <td>1552</td>\n",
       "      <td>73</td>\n",
       "    </tr>\n",
       "    <tr>\n",
       "      <th>2020-06-02</th>\n",
       "      <td>6819</td>\n",
       "      <td>203</td>\n",
       "    </tr>\n",
       "    <tr>\n",
       "      <th>2020-06-03</th>\n",
       "      <td>8867</td>\n",
       "      <td>165</td>\n",
       "    </tr>\n",
       "    <tr>\n",
       "      <th>2020-06-04</th>\n",
       "      <td>9339</td>\n",
       "      <td>171</td>\n",
       "    </tr>\n",
       "    <tr>\n",
       "      <th>2020-06-05</th>\n",
       "      <td>9464</td>\n",
       "      <td>135</td>\n",
       "    </tr>\n",
       "    <tr>\n",
       "      <th>...</th>\n",
       "      <td>...</td>\n",
       "      <td>...</td>\n",
       "    </tr>\n",
       "    <tr>\n",
       "      <th>2021-02-07</th>\n",
       "      <td>94</td>\n",
       "      <td>6</td>\n",
       "    </tr>\n",
       "    <tr>\n",
       "      <th>2021-02-08</th>\n",
       "      <td>24488</td>\n",
       "      <td>3010</td>\n",
       "    </tr>\n",
       "    <tr>\n",
       "      <th>2021-02-09</th>\n",
       "      <td>30912</td>\n",
       "      <td>3588</td>\n",
       "    </tr>\n",
       "    <tr>\n",
       "      <th>2021-02-10</th>\n",
       "      <td>32404</td>\n",
       "      <td>3634</td>\n",
       "    </tr>\n",
       "    <tr>\n",
       "      <th>2021-02-11</th>\n",
       "      <td>31033</td>\n",
       "      <td>3270</td>\n",
       "    </tr>\n",
       "  </tbody>\n",
       "</table>\n",
       "<p>256 rows × 2 columns</p>\n",
       "</div>"
      ],
      "text/plain": [
       "            GGD getest  GGD getest positief\n",
       "Datum                                      \n",
       "2020-06-01        1552                   73\n",
       "2020-06-02        6819                  203\n",
       "2020-06-03        8867                  165\n",
       "2020-06-04        9339                  171\n",
       "2020-06-05        9464                  135\n",
       "...                ...                  ...\n",
       "2021-02-07          94                    6\n",
       "2021-02-08       24488                 3010\n",
       "2021-02-09       30912                 3588\n",
       "2021-02-10       32404                 3634\n",
       "2021-02-11       31033                 3270\n",
       "\n",
       "[256 rows x 2 columns]"
      ]
     },
     "metadata": {},
     "output_type": "display_data"
    },
    {
     "data": {
      "text/html": [
       "<div>\n",
       "<style scoped>\n",
       "    .dataframe tbody tr th:only-of-type {\n",
       "        vertical-align: middle;\n",
       "    }\n",
       "\n",
       "    .dataframe tbody tr th {\n",
       "        vertical-align: top;\n",
       "    }\n",
       "\n",
       "    .dataframe thead th {\n",
       "        text-align: right;\n",
       "    }\n",
       "</style>\n",
       "<table border=\"1\" class=\"dataframe\">\n",
       "  <thead>\n",
       "    <tr style=\"text-align: right;\">\n",
       "      <th></th>\n",
       "      <th>Datum</th>\n",
       "      <th>LandCode</th>\n",
       "      <th>Positief getest</th>\n",
       "      <th>Overleden</th>\n",
       "      <th>Positief getest (nieuw)</th>\n",
       "      <th>Positief getest per 100.000</th>\n",
       "      <th>Positief getest 7d</th>\n",
       "      <th>Positief getest 7d per 100.000</th>\n",
       "      <th>Overleden (nieuw)</th>\n",
       "      <th>Overleden per 100.000</th>\n",
       "      <th>...</th>\n",
       "      <th>Besmettelijk per 100.000</th>\n",
       "      <th>GGD getest</th>\n",
       "      <th>GGD getest positief</th>\n",
       "      <th>GGD percentage positief</th>\n",
       "      <th>GGD getest (7 daags)</th>\n",
       "      <th>GGD getest positief (7 daags)</th>\n",
       "      <th>GGD percentage positief (7 daags)</th>\n",
       "      <th>GGD getest (cumulatief)</th>\n",
       "      <th>GGD getest positief (cumulatief)</th>\n",
       "      <th>GGD percentage positief (cumulatief)</th>\n",
       "    </tr>\n",
       "    <tr>\n",
       "      <th>Key</th>\n",
       "      <th></th>\n",
       "      <th></th>\n",
       "      <th></th>\n",
       "      <th></th>\n",
       "      <th></th>\n",
       "      <th></th>\n",
       "      <th></th>\n",
       "      <th></th>\n",
       "      <th></th>\n",
       "      <th></th>\n",
       "      <th></th>\n",
       "      <th></th>\n",
       "      <th></th>\n",
       "      <th></th>\n",
       "      <th></th>\n",
       "      <th></th>\n",
       "      <th></th>\n",
       "      <th></th>\n",
       "      <th></th>\n",
       "      <th></th>\n",
       "      <th></th>\n",
       "    </tr>\n",
       "  </thead>\n",
       "  <tbody>\n",
       "    <tr>\n",
       "      <th>2020-02-27</th>\n",
       "      <td>2020-02-27</td>\n",
       "      <td>NL</td>\n",
       "      <td>0</td>\n",
       "      <td>0</td>\n",
       "      <td>0</td>\n",
       "      <td>0.000000</td>\n",
       "      <td>0</td>\n",
       "      <td>0.0</td>\n",
       "      <td>0</td>\n",
       "      <td>0.0</td>\n",
       "      <td>...</td>\n",
       "      <td>37.0</td>\n",
       "      <td>0.0</td>\n",
       "      <td>0.0</td>\n",
       "      <td>0.0</td>\n",
       "      <td>0.0</td>\n",
       "      <td>0.0</td>\n",
       "      <td>0.0</td>\n",
       "      <td>0.0</td>\n",
       "      <td>0.0</td>\n",
       "      <td>0.0</td>\n",
       "    </tr>\n",
       "    <tr>\n",
       "      <th>2020-02-28</th>\n",
       "      <td>2020-02-28</td>\n",
       "      <td>NL</td>\n",
       "      <td>1</td>\n",
       "      <td>0</td>\n",
       "      <td>1</td>\n",
       "      <td>0.005723</td>\n",
       "      <td>0</td>\n",
       "      <td>0.0</td>\n",
       "      <td>0</td>\n",
       "      <td>0.0</td>\n",
       "      <td>...</td>\n",
       "      <td>47.0</td>\n",
       "      <td>0.0</td>\n",
       "      <td>0.0</td>\n",
       "      <td>0.0</td>\n",
       "      <td>0.0</td>\n",
       "      <td>0.0</td>\n",
       "      <td>0.0</td>\n",
       "      <td>0.0</td>\n",
       "      <td>0.0</td>\n",
       "      <td>0.0</td>\n",
       "    </tr>\n",
       "    <tr>\n",
       "      <th>2020-02-29</th>\n",
       "      <td>2020-02-29</td>\n",
       "      <td>NL</td>\n",
       "      <td>2</td>\n",
       "      <td>0</td>\n",
       "      <td>1</td>\n",
       "      <td>0.011445</td>\n",
       "      <td>0</td>\n",
       "      <td>0.0</td>\n",
       "      <td>0</td>\n",
       "      <td>0.0</td>\n",
       "      <td>...</td>\n",
       "      <td>59.0</td>\n",
       "      <td>0.0</td>\n",
       "      <td>0.0</td>\n",
       "      <td>0.0</td>\n",
       "      <td>0.0</td>\n",
       "      <td>0.0</td>\n",
       "      <td>0.0</td>\n",
       "      <td>0.0</td>\n",
       "      <td>0.0</td>\n",
       "      <td>0.0</td>\n",
       "    </tr>\n",
       "    <tr>\n",
       "      <th>2020-03-01</th>\n",
       "      <td>2020-03-01</td>\n",
       "      <td>NL</td>\n",
       "      <td>5</td>\n",
       "      <td>0</td>\n",
       "      <td>3</td>\n",
       "      <td>0.028613</td>\n",
       "      <td>0</td>\n",
       "      <td>0.0</td>\n",
       "      <td>0</td>\n",
       "      <td>0.0</td>\n",
       "      <td>...</td>\n",
       "      <td>73.0</td>\n",
       "      <td>0.0</td>\n",
       "      <td>0.0</td>\n",
       "      <td>0.0</td>\n",
       "      <td>0.0</td>\n",
       "      <td>0.0</td>\n",
       "      <td>0.0</td>\n",
       "      <td>0.0</td>\n",
       "      <td>0.0</td>\n",
       "      <td>0.0</td>\n",
       "    </tr>\n",
       "    <tr>\n",
       "      <th>2020-03-02</th>\n",
       "      <td>2020-03-02</td>\n",
       "      <td>NL</td>\n",
       "      <td>10</td>\n",
       "      <td>0</td>\n",
       "      <td>5</td>\n",
       "      <td>0.057226</td>\n",
       "      <td>0</td>\n",
       "      <td>0.0</td>\n",
       "      <td>0</td>\n",
       "      <td>0.0</td>\n",
       "      <td>...</td>\n",
       "      <td>90.0</td>\n",
       "      <td>0.0</td>\n",
       "      <td>0.0</td>\n",
       "      <td>0.0</td>\n",
       "      <td>0.0</td>\n",
       "      <td>0.0</td>\n",
       "      <td>0.0</td>\n",
       "      <td>0.0</td>\n",
       "      <td>0.0</td>\n",
       "      <td>0.0</td>\n",
       "    </tr>\n",
       "  </tbody>\n",
       "</table>\n",
       "<p>5 rows × 32 columns</p>\n",
       "</div>"
      ],
      "text/plain": [
       "                 Datum LandCode  Positief getest  Overleden  \\\n",
       "Key                                                           \n",
       "2020-02-27  2020-02-27       NL                0          0   \n",
       "2020-02-28  2020-02-28       NL                1          0   \n",
       "2020-02-29  2020-02-29       NL                2          0   \n",
       "2020-03-01  2020-03-01       NL                5          0   \n",
       "2020-03-02  2020-03-02       NL               10          0   \n",
       "\n",
       "            Positief getest (nieuw)  Positief getest per 100.000  \\\n",
       "Key                                                                \n",
       "2020-02-27                        0                     0.000000   \n",
       "2020-02-28                        1                     0.005723   \n",
       "2020-02-29                        1                     0.011445   \n",
       "2020-03-01                        3                     0.028613   \n",
       "2020-03-02                        5                     0.057226   \n",
       "\n",
       "            Positief getest 7d  Positief getest 7d per 100.000  \\\n",
       "Key                                                              \n",
       "2020-02-27                   0                             0.0   \n",
       "2020-02-28                   0                             0.0   \n",
       "2020-02-29                   0                             0.0   \n",
       "2020-03-01                   0                             0.0   \n",
       "2020-03-02                   0                             0.0   \n",
       "\n",
       "            Overleden (nieuw)  Overleden per 100.000  ...  \\\n",
       "Key                                                   ...   \n",
       "2020-02-27                  0                    0.0  ...   \n",
       "2020-02-28                  0                    0.0  ...   \n",
       "2020-02-29                  0                    0.0  ...   \n",
       "2020-03-01                  0                    0.0  ...   \n",
       "2020-03-02                  0                    0.0  ...   \n",
       "\n",
       "            Besmettelijk per 100.000  GGD getest  GGD getest positief  \\\n",
       "Key                                                                     \n",
       "2020-02-27                      37.0         0.0                  0.0   \n",
       "2020-02-28                      47.0         0.0                  0.0   \n",
       "2020-02-29                      59.0         0.0                  0.0   \n",
       "2020-03-01                      73.0         0.0                  0.0   \n",
       "2020-03-02                      90.0         0.0                  0.0   \n",
       "\n",
       "            GGD percentage positief  GGD getest (7 daags)  \\\n",
       "Key                                                         \n",
       "2020-02-27                      0.0                   0.0   \n",
       "2020-02-28                      0.0                   0.0   \n",
       "2020-02-29                      0.0                   0.0   \n",
       "2020-03-01                      0.0                   0.0   \n",
       "2020-03-02                      0.0                   0.0   \n",
       "\n",
       "            GGD getest positief (7 daags)  GGD percentage positief (7 daags)  \\\n",
       "Key                                                                            \n",
       "2020-02-27                            0.0                                0.0   \n",
       "2020-02-28                            0.0                                0.0   \n",
       "2020-02-29                            0.0                                0.0   \n",
       "2020-03-01                            0.0                                0.0   \n",
       "2020-03-02                            0.0                                0.0   \n",
       "\n",
       "            GGD getest (cumulatief)  GGD getest positief (cumulatief)  \\\n",
       "Key                                                                     \n",
       "2020-02-27                      0.0                               0.0   \n",
       "2020-02-28                      0.0                               0.0   \n",
       "2020-02-29                      0.0                               0.0   \n",
       "2020-03-01                      0.0                               0.0   \n",
       "2020-03-02                      0.0                               0.0   \n",
       "\n",
       "            GGD percentage positief (cumulatief)  \n",
       "Key                                               \n",
       "2020-02-27                                   0.0  \n",
       "2020-02-28                                   0.0  \n",
       "2020-02-29                                   0.0  \n",
       "2020-03-01                                   0.0  \n",
       "2020-03-02                                   0.0  \n",
       "\n",
       "[5 rows x 32 columns]"
      ]
     },
     "metadata": {},
     "output_type": "display_data"
    }
   ],
   "source": [
    "@run('uitgevoerde testen')\n",
    "def cell():\n",
    "  df = RIVM.csv('COVID-19_uitgevoerde_testen').rename(columns={\n",
    "    'Date_of_statistics': 'Datum',\n",
    "    'Tested_with_result': 'GGD getest',\n",
    "    'Tested_positive': 'GGD getest positief',\n",
    "  })\n",
    "  df['Datum'] = pd.to_datetime(df.Datum)\n",
    "  df = df.groupby(['Datum']).agg({'GGD getest': 'sum', 'GGD getest positief': 'sum'})\n",
    "  display(df)\n",
    "\n",
    "  global dagoverzicht\n",
    "  dagoverzicht = dagoverzicht.merge(df, how='left', left_index=True, right_index=True)\n",
    "  for col in df.columns:\n",
    "    dagoverzicht[col] = dagoverzicht[col].fillna(0)\n",
    "\n",
    "  dagoverzicht['GGD percentage positief'] = (dagoverzicht['GGD getest positief'] / dagoverzicht['GGD getest']).fillna(0)\n",
    "\n",
    "  dagoverzicht['GGD getest (7 daags)'] = dagoverzicht['GGD getest'].rolling(7).sum().fillna(0)\n",
    "  dagoverzicht['GGD getest positief (7 daags)'] = dagoverzicht['GGD getest positief'].rolling(7).sum().fillna(0)\n",
    "\n",
    "  dagoverzicht['GGD percentage positief (7 daags)'] = (dagoverzicht['GGD getest positief (7 daags)'] / dagoverzicht['GGD getest (7 daags)']).fillna(0)\n",
    "\n",
    "  dagoverzicht['GGD getest (cumulatief)'] = dagoverzicht['GGD getest'].cumsum()\n",
    "  dagoverzicht['GGD getest positief (cumulatief)'] = dagoverzicht['GGD getest positief'].cumsum()\n",
    "\n",
    "  dagoverzicht['GGD percentage positief (cumulatief)'] = (dagoverzicht['GGD getest positief (cumulatief)'] / dagoverzicht['GGD getest (cumulatief)']).fillna(0)\n",
    "\n",
    "  display(dagoverzicht.head())"
   ]
  },
  {
   "cell_type": "code",
   "execution_count": 6,
   "id": "tired-dollar",
   "metadata": {
    "execution": {
     "iopub.execute_input": "2021-02-13T14:33:58.301388Z",
     "iopub.status.busy": "2021-02-13T14:33:58.300869Z",
     "iopub.status.idle": "2021-02-13T14:33:58.839438Z",
     "shell.execute_reply": "2021-02-13T14:33:58.838958Z"
    },
    "lines_to_next_cell": 1,
    "papermill": {
     "duration": 0.560749,
     "end_time": "2021-02-13T14:33:58.839556",
     "exception": false,
     "start_time": "2021-02-13T14:33:58.278807",
     "status": "completed"
    },
    "tags": []
   },
   "outputs": [
    {
     "name": "stdout",
     "output_type": "stream",
     "text": [
      "LCPS\n"
     ]
    },
    {
     "name": "stdout",
     "output_type": "stream",
     "text": [
      "lcps/covid-19-2021-02-13@13-00.csv exists\n",
      "loading lcps/covid-19-2021-02-13@13-00.csv.gz\n"
     ]
    }
   ],
   "source": [
    "@run('LCPS')\n",
    "def cell():\n",
    "  # laad dataset\n",
    "  df = LCPS.csv('covid-19').rename(columns={\n",
    "    'IC_Bedden_COVID': 'LCPS IC Bedden COVID',\n",
    "    'IC_Bedden_Non_COVID': 'LCPS IC Bedden Non COVID',\n",
    "    'Kliniek_Bedden': 'LCPS Kliniek Bedden COVID',\n",
    "    'IC_Nieuwe_Opnames_COVID': 'LCPS IC Nieuwe Opnames COVID',\n",
    "    'Kliniek_Nieuwe_Opnames_COVID': 'LCPS Kliniek Nieuwe Opnames COVID',\n",
    "  })\n",
    "  # datum naar datetime index voor merge\n",
    "  df['Datum'] = pd.to_datetime(df['Datum'], format='%d-%m-%Y')\n",
    "  df.set_index('Datum', inplace=True)\n",
    "\n",
    "  # sommeer op datum\n",
    "  df = df.groupby(['Datum']).agg({col: 'sum' for col in df.columns})\n",
    "\n",
    "  # toename = waarde - vorige\n",
    "  df['LCPS IC Bedden COVID (toename)'] = (df['LCPS IC Bedden COVID'] - df['LCPS IC Bedden COVID'].shift(1)).fillna(0)\n",
    "  df['LCPS Kliniek Bedden COVID (toename)'] = (df['LCPS Kliniek Bedden COVID'] - df['LCPS Kliniek Bedden COVID'].shift(1)).fillna(0)\n",
    "\n",
    "  global dagoverzicht\n",
    "  # voeg toe aan dagoverzicht\n",
    "  dagoverzicht = dagoverzicht.merge(df, how='left', left_index=True, right_index=True)\n",
    "  for col in df.columns:\n",
    "    # vervang lege waarden door 0\n",
    "    dagoverzicht[col] = dagoverzicht[col].fillna(0).astype(int)"
   ]
  },
  {
   "cell_type": "code",
   "execution_count": 7,
   "id": "specified-reporter",
   "metadata": {
    "execution": {
     "iopub.execute_input": "2021-02-13T14:33:58.876863Z",
     "iopub.status.busy": "2021-02-13T14:33:58.875868Z",
     "iopub.status.idle": "2021-02-13T14:33:59.129445Z",
     "shell.execute_reply": "2021-02-13T14:33:59.128984Z"
    },
    "lines_to_next_cell": 1,
    "papermill": {
     "duration": 0.274092,
     "end_time": "2021-02-13T14:33:59.129568",
     "exception": false,
     "start_time": "2021-02-13T14:33:58.855476",
     "status": "completed"
    },
    "tags": []
   },
   "outputs": [
    {
     "name": "stdout",
     "output_type": "stream",
     "text": [
      "corrections\n",
      "https://api.github.com/repos/mzelst/covid-19/contents/corrections/corrections_perday.csv\n"
     ]
    },
    {
     "name": "stdout",
     "output_type": "stream",
     "text": [
      "downloading github/corrections_perday-2021-02-13@14-21.csv\n"
     ]
    }
   ],
   "source": [
    "@run('corrections')\n",
    "def cell():\n",
    "  # laad corrections van mzelst\n",
    "  df = GitHub.csv('mzelst/covid-19/contents/corrections/corrections_perday.csv')\n",
    "  # date naar datetime index voor merge\n",
    "  df['date'] = pd.to_datetime(df.date)\n",
    "  df.set_index('date', inplace=True)\n",
    "  columns =  {\n",
    "    'net.infection': 'Positief getest (toename)',\n",
    "    'net.hospitals': 'Ziekenhuisopnames (toename)',\n",
    "    'net.deaths': 'Overleden (toename)'\n",
    "  }\n",
    "  # rename kolommen naar onze namen\n",
    "  df = df.rename(columns=columns)[list(columns.values())]\n",
    "\n",
    "  global dagoverzicht\n",
    "  # voeg toe aan dagoverxicht\n",
    "  dagoverzicht = dagoverzicht.merge(df, how='left', left_index=True, right_index=True)\n",
    "  for col in columns.values():\n",
    "    # set lege waarden op 0\n",
    "    dagoverzicht[col] = dagoverzicht[col].fillna(0).astype(int)"
   ]
  },
  {
   "cell_type": "code",
   "execution_count": 8,
   "id": "pleasant-transportation",
   "metadata": {
    "execution": {
     "iopub.execute_input": "2021-02-13T14:33:59.167588Z",
     "iopub.status.busy": "2021-02-13T14:33:59.167051Z",
     "iopub.status.idle": "2021-02-13T14:34:00.119164Z",
     "shell.execute_reply": "2021-02-13T14:34:00.119904Z"
    },
    "lines_to_next_cell": 1,
    "papermill": {
     "duration": 0.975021,
     "end_time": "2021-02-13T14:34:00.120058",
     "exception": false,
     "start_time": "2021-02-13T14:33:59.145037",
     "status": "completed"
    },
    "tags": []
   },
   "outputs": [
    {
     "name": "stdout",
     "output_type": "stream",
     "text": [
      "ESRI -> NICE\n"
     ]
    },
    {
     "name": "stdout",
     "output_type": "stream",
     "text": [
      "downloading nice/f27f743476a142538e8054f7a7ce12e1_0-2021-02-13@13-26.csv\n"
     ]
    },
    {
     "name": "stdout",
     "output_type": "stream",
     "text": [
      "loading nice/f27f743476a142538e8054f7a7ce12e1_0-2021-02-13@13-26.csv.gz\n"
     ]
    }
   ],
   "source": [
    "@run('ESRI -> NICE')\n",
    "def cell():\n",
    "  global dagoverzicht\n",
    "  df = ArcGIS.nice('f27f743476a142538e8054f7a7ce12e1')\n",
    "\n",
    "  df['date'] = pd.to_datetime(df.date.str.replace(' .*', '', regex=True))\n",
    "  df.set_index('date', inplace=True)\n",
    "\n",
    "  # the NICE data as prepared by ESRI can just be used as-is, so just rename the columns\n",
    "  for prefix, kind in [ ('ic', 'IC'), ('zkh', 'Ziekenhuis') ]:\n",
    "    df = df.rename(columns={\n",
    "      f'{prefix}NewIntake': f'NICE {kind} Bedden (intake)',\n",
    "      f'{prefix}IntakeCount': f'NICE {kind} Bedden',\n",
    "      f'{prefix}IntakeCumulative': f'NICE {kind} Bedden (cumulatief)',\n",
    "      f'{prefix}DiedCumulative': f'NICE {kind} Overleden',\n",
    "    })\n",
    "\n",
    "  # remove the columns we don't use\n",
    "  df = df[[col for col in df.columns if 'NICE' in col]]\n",
    "  dagoverzicht = dagoverzicht.merge(df, how='left', left_index=True, right_index=True)\n",
    "\n",
    "  # after the merge, dates missing in the ESRI/NICE set will be `nan`, so fill these\n",
    "  for col in df.columns:\n",
    "    # for cumulatief columns, fill-forward from last known value\n",
    "    if 'cumulatief' in col:\n",
    "      dagoverzicht[col] = dagoverzicht[col].ffill()\n",
    "    # for non-cumulative and whatever remains in cumulative after fill forward (which will be leading nan's), fill with 0\n",
    "    dagoverzicht[col] = dagoverzicht[col].fillna(0)\n",
    "\n",
    "  for kind in [ 'IC', 'Ziekenhuis' ]:\n",
    "    dagoverzicht[f'NICE {kind} Bedden (toename)'] = (dagoverzicht[f'NICE {kind} Bedden'] - dagoverzicht[f'NICE {kind} Bedden'].shift(1)).fillna(0)\n",
    "\n",
    "  for window, shift, past in [(3, 1, 'afgelopen '), (7, 0, '')]:\n",
    "    dagoverzicht[f'NICE IC Bedden (intake) {past}{window}d'] = dagoverzicht['NICE IC Bedden (intake)'].shift(shift).rolling(window).sum().fillna(0)\n",
    "\n",
    "  dagoverzicht['NICE IC Bedden (intake) week-1'] = dagoverzicht['NICE IC Bedden (intake) 7d'].shift(7).fillna(0)"
   ]
  },
  {
   "cell_type": "code",
   "execution_count": 9,
   "id": "patent-burden",
   "metadata": {
    "execution": {
     "iopub.execute_input": "2021-02-13T14:34:00.160502Z",
     "iopub.status.busy": "2021-02-13T14:34:00.152859Z",
     "iopub.status.idle": "2021-02-13T14:34:00.210846Z",
     "shell.execute_reply": "2021-02-13T14:34:00.211318Z"
    },
    "lines_to_next_cell": 1,
    "papermill": {
     "duration": 0.076766,
     "end_time": "2021-02-13T14:34:00.211464",
     "exception": false,
     "start_time": "2021-02-13T14:34:00.134698",
     "status": "completed"
    },
    "tags": []
   },
   "outputs": [
    {
     "name": "stdout",
     "output_type": "stream",
     "text": [
      "Personen\n"
     ]
    },
    {
     "data": {
      "text/html": [
       "<div>\n",
       "<style scoped>\n",
       "    .dataframe tbody tr th:only-of-type {\n",
       "        vertical-align: middle;\n",
       "    }\n",
       "\n",
       "    .dataframe tbody tr th {\n",
       "        vertical-align: top;\n",
       "    }\n",
       "\n",
       "    .dataframe thead th {\n",
       "        text-align: right;\n",
       "    }\n",
       "</style>\n",
       "<table border=\"1\" class=\"dataframe\">\n",
       "  <thead>\n",
       "    <tr style=\"text-align: right;\">\n",
       "      <th></th>\n",
       "      <th>Datum</th>\n",
       "      <th>LandCode</th>\n",
       "      <th>Positief getest</th>\n",
       "      <th>Overleden</th>\n",
       "      <th>Positief getest (nieuw)</th>\n",
       "      <th>Positief getest per 100.000</th>\n",
       "      <th>Positief getest 7d</th>\n",
       "      <th>Positief getest 7d per 100.000</th>\n",
       "      <th>Overleden (nieuw)</th>\n",
       "      <th>Overleden per 100.000</th>\n",
       "      <th>...</th>\n",
       "      <th>NICE Ziekenhuis Bedden (intake)</th>\n",
       "      <th>NICE Ziekenhuis Bedden (cumulatief)</th>\n",
       "      <th>NICE Ziekenhuis Bedden</th>\n",
       "      <th>NICE Ziekenhuis Overleden</th>\n",
       "      <th>NICE IC Bedden (toename)</th>\n",
       "      <th>NICE Ziekenhuis Bedden (toename)</th>\n",
       "      <th>NICE IC Bedden (intake) afgelopen 3d</th>\n",
       "      <th>NICE IC Bedden (intake) 7d</th>\n",
       "      <th>NICE IC Bedden (intake) week-1</th>\n",
       "      <th>Personen</th>\n",
       "    </tr>\n",
       "    <tr>\n",
       "      <th>Key</th>\n",
       "      <th></th>\n",
       "      <th></th>\n",
       "      <th></th>\n",
       "      <th></th>\n",
       "      <th></th>\n",
       "      <th></th>\n",
       "      <th></th>\n",
       "      <th></th>\n",
       "      <th></th>\n",
       "      <th></th>\n",
       "      <th></th>\n",
       "      <th></th>\n",
       "      <th></th>\n",
       "      <th></th>\n",
       "      <th></th>\n",
       "      <th></th>\n",
       "      <th></th>\n",
       "      <th></th>\n",
       "      <th></th>\n",
       "      <th></th>\n",
       "      <th></th>\n",
       "    </tr>\n",
       "  </thead>\n",
       "  <tbody>\n",
       "    <tr>\n",
       "      <th>2020-02-27</th>\n",
       "      <td>2020-02-27</td>\n",
       "      <td>NL</td>\n",
       "      <td>0</td>\n",
       "      <td>0</td>\n",
       "      <td>0</td>\n",
       "      <td>0.000000</td>\n",
       "      <td>0</td>\n",
       "      <td>0.000000</td>\n",
       "      <td>0</td>\n",
       "      <td>0.000000</td>\n",
       "      <td>...</td>\n",
       "      <td>2</td>\n",
       "      <td>67</td>\n",
       "      <td>64</td>\n",
       "      <td>0</td>\n",
       "      <td>0.0</td>\n",
       "      <td>0.0</td>\n",
       "      <td>0.0</td>\n",
       "      <td>0.0</td>\n",
       "      <td>0.0</td>\n",
       "      <td>17474693</td>\n",
       "    </tr>\n",
       "    <tr>\n",
       "      <th>2020-02-28</th>\n",
       "      <td>2020-02-28</td>\n",
       "      <td>NL</td>\n",
       "      <td>1</td>\n",
       "      <td>0</td>\n",
       "      <td>1</td>\n",
       "      <td>0.005723</td>\n",
       "      <td>0</td>\n",
       "      <td>0.000000</td>\n",
       "      <td>0</td>\n",
       "      <td>0.000000</td>\n",
       "      <td>...</td>\n",
       "      <td>3</td>\n",
       "      <td>70</td>\n",
       "      <td>67</td>\n",
       "      <td>0</td>\n",
       "      <td>1.0</td>\n",
       "      <td>3.0</td>\n",
       "      <td>0.0</td>\n",
       "      <td>0.0</td>\n",
       "      <td>0.0</td>\n",
       "      <td>17474693</td>\n",
       "    </tr>\n",
       "    <tr>\n",
       "      <th>2020-02-29</th>\n",
       "      <td>2020-02-29</td>\n",
       "      <td>NL</td>\n",
       "      <td>2</td>\n",
       "      <td>0</td>\n",
       "      <td>1</td>\n",
       "      <td>0.011445</td>\n",
       "      <td>0</td>\n",
       "      <td>0.000000</td>\n",
       "      <td>0</td>\n",
       "      <td>0.000000</td>\n",
       "      <td>...</td>\n",
       "      <td>1</td>\n",
       "      <td>71</td>\n",
       "      <td>67</td>\n",
       "      <td>0</td>\n",
       "      <td>1.0</td>\n",
       "      <td>0.0</td>\n",
       "      <td>0.0</td>\n",
       "      <td>0.0</td>\n",
       "      <td>0.0</td>\n",
       "      <td>17474693</td>\n",
       "    </tr>\n",
       "    <tr>\n",
       "      <th>2020-03-01</th>\n",
       "      <td>2020-03-01</td>\n",
       "      <td>NL</td>\n",
       "      <td>5</td>\n",
       "      <td>0</td>\n",
       "      <td>3</td>\n",
       "      <td>0.028613</td>\n",
       "      <td>0</td>\n",
       "      <td>0.000000</td>\n",
       "      <td>0</td>\n",
       "      <td>0.000000</td>\n",
       "      <td>...</td>\n",
       "      <td>7</td>\n",
       "      <td>79</td>\n",
       "      <td>75</td>\n",
       "      <td>0</td>\n",
       "      <td>2.0</td>\n",
       "      <td>8.0</td>\n",
       "      <td>1.0</td>\n",
       "      <td>0.0</td>\n",
       "      <td>0.0</td>\n",
       "      <td>17474693</td>\n",
       "    </tr>\n",
       "    <tr>\n",
       "      <th>2020-03-02</th>\n",
       "      <td>2020-03-02</td>\n",
       "      <td>NL</td>\n",
       "      <td>10</td>\n",
       "      <td>0</td>\n",
       "      <td>5</td>\n",
       "      <td>0.057226</td>\n",
       "      <td>0</td>\n",
       "      <td>0.000000</td>\n",
       "      <td>0</td>\n",
       "      <td>0.000000</td>\n",
       "      <td>...</td>\n",
       "      <td>10</td>\n",
       "      <td>90</td>\n",
       "      <td>86</td>\n",
       "      <td>0</td>\n",
       "      <td>-1.0</td>\n",
       "      <td>11.0</td>\n",
       "      <td>2.0</td>\n",
       "      <td>0.0</td>\n",
       "      <td>0.0</td>\n",
       "      <td>17474693</td>\n",
       "    </tr>\n",
       "    <tr>\n",
       "      <th>...</th>\n",
       "      <td>...</td>\n",
       "      <td>...</td>\n",
       "      <td>...</td>\n",
       "      <td>...</td>\n",
       "      <td>...</td>\n",
       "      <td>...</td>\n",
       "      <td>...</td>\n",
       "      <td>...</td>\n",
       "      <td>...</td>\n",
       "      <td>...</td>\n",
       "      <td>...</td>\n",
       "      <td>...</td>\n",
       "      <td>...</td>\n",
       "      <td>...</td>\n",
       "      <td>...</td>\n",
       "      <td>...</td>\n",
       "      <td>...</td>\n",
       "      <td>...</td>\n",
       "      <td>...</td>\n",
       "      <td>...</td>\n",
       "      <td>...</td>\n",
       "    </tr>\n",
       "    <tr>\n",
       "      <th>2021-02-09</th>\n",
       "      <td>2021-02-09</td>\n",
       "      <td>NL</td>\n",
       "      <td>1009588</td>\n",
       "      <td>14508</td>\n",
       "      <td>1765</td>\n",
       "      <td>5777.429108</td>\n",
       "      <td>20606</td>\n",
       "      <td>117.919096</td>\n",
       "      <td>85</td>\n",
       "      <td>83.022918</td>\n",
       "      <td>...</td>\n",
       "      <td>178</td>\n",
       "      <td>38459</td>\n",
       "      <td>1630</td>\n",
       "      <td>5573</td>\n",
       "      <td>-1.0</td>\n",
       "      <td>-21.0</td>\n",
       "      <td>72.0</td>\n",
       "      <td>161.0</td>\n",
       "      <td>221.0</td>\n",
       "      <td>17474693</td>\n",
       "    </tr>\n",
       "    <tr>\n",
       "      <th>2021-02-10</th>\n",
       "      <td>2021-02-10</td>\n",
       "      <td>NL</td>\n",
       "      <td>1012793</td>\n",
       "      <td>14586</td>\n",
       "      <td>3205</td>\n",
       "      <td>5795.769917</td>\n",
       "      <td>19595</td>\n",
       "      <td>112.133587</td>\n",
       "      <td>78</td>\n",
       "      <td>83.469278</td>\n",
       "      <td>...</td>\n",
       "      <td>170</td>\n",
       "      <td>38617</td>\n",
       "      <td>1623</td>\n",
       "      <td>5595</td>\n",
       "      <td>0.0</td>\n",
       "      <td>-7.0</td>\n",
       "      <td>70.0</td>\n",
       "      <td>161.0</td>\n",
       "      <td>221.0</td>\n",
       "      <td>17474693</td>\n",
       "    </tr>\n",
       "    <tr>\n",
       "      <th>2021-02-11</th>\n",
       "      <td>2021-02-11</td>\n",
       "      <td>NL</td>\n",
       "      <td>1017237</td>\n",
       "      <td>14660</td>\n",
       "      <td>4444</td>\n",
       "      <td>5821.200979</td>\n",
       "      <td>19706</td>\n",
       "      <td>112.768791</td>\n",
       "      <td>74</td>\n",
       "      <td>83.892747</td>\n",
       "      <td>...</td>\n",
       "      <td>146</td>\n",
       "      <td>38759</td>\n",
       "      <td>1601</td>\n",
       "      <td>5619</td>\n",
       "      <td>-3.0</td>\n",
       "      <td>-22.0</td>\n",
       "      <td>78.0</td>\n",
       "      <td>165.0</td>\n",
       "      <td>203.0</td>\n",
       "      <td>17474693</td>\n",
       "    </tr>\n",
       "    <tr>\n",
       "      <th>2021-02-12</th>\n",
       "      <td>2021-02-12</td>\n",
       "      <td>NL</td>\n",
       "      <td>1021608</td>\n",
       "      <td>14726</td>\n",
       "      <td>4371</td>\n",
       "      <td>5846.214294</td>\n",
       "      <td>19978</td>\n",
       "      <td>114.325327</td>\n",
       "      <td>66</td>\n",
       "      <td>84.270436</td>\n",
       "      <td>...</td>\n",
       "      <td>107</td>\n",
       "      <td>38885</td>\n",
       "      <td>1566</td>\n",
       "      <td>5637</td>\n",
       "      <td>-8.0</td>\n",
       "      <td>-35.0</td>\n",
       "      <td>75.0</td>\n",
       "      <td>171.0</td>\n",
       "      <td>193.0</td>\n",
       "      <td>17474693</td>\n",
       "    </tr>\n",
       "    <tr>\n",
       "      <th>2021-02-13</th>\n",
       "      <td>2021-02-13</td>\n",
       "      <td>NL</td>\n",
       "      <td>1025837</td>\n",
       "      <td>14793</td>\n",
       "      <td>4229</td>\n",
       "      <td>5870.415005</td>\n",
       "      <td>20276</td>\n",
       "      <td>116.030651</td>\n",
       "      <td>67</td>\n",
       "      <td>84.653848</td>\n",
       "      <td>...</td>\n",
       "      <td>13</td>\n",
       "      <td>38904</td>\n",
       "      <td>1452</td>\n",
       "      <td>5637</td>\n",
       "      <td>-24.0</td>\n",
       "      <td>-114.0</td>\n",
       "      <td>81.0</td>\n",
       "      <td>153.0</td>\n",
       "      <td>183.0</td>\n",
       "      <td>17474693</td>\n",
       "    </tr>\n",
       "  </tbody>\n",
       "</table>\n",
       "<p>353 rows × 56 columns</p>\n",
       "</div>"
      ],
      "text/plain": [
       "                 Datum LandCode  Positief getest  Overleden  \\\n",
       "Key                                                           \n",
       "2020-02-27  2020-02-27       NL                0          0   \n",
       "2020-02-28  2020-02-28       NL                1          0   \n",
       "2020-02-29  2020-02-29       NL                2          0   \n",
       "2020-03-01  2020-03-01       NL                5          0   \n",
       "2020-03-02  2020-03-02       NL               10          0   \n",
       "...                ...      ...              ...        ...   \n",
       "2021-02-09  2021-02-09       NL          1009588      14508   \n",
       "2021-02-10  2021-02-10       NL          1012793      14586   \n",
       "2021-02-11  2021-02-11       NL          1017237      14660   \n",
       "2021-02-12  2021-02-12       NL          1021608      14726   \n",
       "2021-02-13  2021-02-13       NL          1025837      14793   \n",
       "\n",
       "            Positief getest (nieuw)  Positief getest per 100.000  \\\n",
       "Key                                                                \n",
       "2020-02-27                        0                     0.000000   \n",
       "2020-02-28                        1                     0.005723   \n",
       "2020-02-29                        1                     0.011445   \n",
       "2020-03-01                        3                     0.028613   \n",
       "2020-03-02                        5                     0.057226   \n",
       "...                             ...                          ...   \n",
       "2021-02-09                     1765                  5777.429108   \n",
       "2021-02-10                     3205                  5795.769917   \n",
       "2021-02-11                     4444                  5821.200979   \n",
       "2021-02-12                     4371                  5846.214294   \n",
       "2021-02-13                     4229                  5870.415005   \n",
       "\n",
       "            Positief getest 7d  Positief getest 7d per 100.000  \\\n",
       "Key                                                              \n",
       "2020-02-27                   0                        0.000000   \n",
       "2020-02-28                   0                        0.000000   \n",
       "2020-02-29                   0                        0.000000   \n",
       "2020-03-01                   0                        0.000000   \n",
       "2020-03-02                   0                        0.000000   \n",
       "...                        ...                             ...   \n",
       "2021-02-09               20606                      117.919096   \n",
       "2021-02-10               19595                      112.133587   \n",
       "2021-02-11               19706                      112.768791   \n",
       "2021-02-12               19978                      114.325327   \n",
       "2021-02-13               20276                      116.030651   \n",
       "\n",
       "            Overleden (nieuw)  Overleden per 100.000  ...  \\\n",
       "Key                                                   ...   \n",
       "2020-02-27                  0               0.000000  ...   \n",
       "2020-02-28                  0               0.000000  ...   \n",
       "2020-02-29                  0               0.000000  ...   \n",
       "2020-03-01                  0               0.000000  ...   \n",
       "2020-03-02                  0               0.000000  ...   \n",
       "...                       ...                    ...  ...   \n",
       "2021-02-09                 85              83.022918  ...   \n",
       "2021-02-10                 78              83.469278  ...   \n",
       "2021-02-11                 74              83.892747  ...   \n",
       "2021-02-12                 66              84.270436  ...   \n",
       "2021-02-13                 67              84.653848  ...   \n",
       "\n",
       "            NICE Ziekenhuis Bedden (intake)  \\\n",
       "Key                                           \n",
       "2020-02-27                                2   \n",
       "2020-02-28                                3   \n",
       "2020-02-29                                1   \n",
       "2020-03-01                                7   \n",
       "2020-03-02                               10   \n",
       "...                                     ...   \n",
       "2021-02-09                              178   \n",
       "2021-02-10                              170   \n",
       "2021-02-11                              146   \n",
       "2021-02-12                              107   \n",
       "2021-02-13                               13   \n",
       "\n",
       "            NICE Ziekenhuis Bedden (cumulatief)  NICE Ziekenhuis Bedden  \\\n",
       "Key                                                                       \n",
       "2020-02-27                                   67                      64   \n",
       "2020-02-28                                   70                      67   \n",
       "2020-02-29                                   71                      67   \n",
       "2020-03-01                                   79                      75   \n",
       "2020-03-02                                   90                      86   \n",
       "...                                         ...                     ...   \n",
       "2021-02-09                                38459                    1630   \n",
       "2021-02-10                                38617                    1623   \n",
       "2021-02-11                                38759                    1601   \n",
       "2021-02-12                                38885                    1566   \n",
       "2021-02-13                                38904                    1452   \n",
       "\n",
       "            NICE Ziekenhuis Overleden  NICE IC Bedden (toename)  \\\n",
       "Key                                                               \n",
       "2020-02-27                          0                       0.0   \n",
       "2020-02-28                          0                       1.0   \n",
       "2020-02-29                          0                       1.0   \n",
       "2020-03-01                          0                       2.0   \n",
       "2020-03-02                          0                      -1.0   \n",
       "...                               ...                       ...   \n",
       "2021-02-09                       5573                      -1.0   \n",
       "2021-02-10                       5595                       0.0   \n",
       "2021-02-11                       5619                      -3.0   \n",
       "2021-02-12                       5637                      -8.0   \n",
       "2021-02-13                       5637                     -24.0   \n",
       "\n",
       "            NICE Ziekenhuis Bedden (toename)  \\\n",
       "Key                                            \n",
       "2020-02-27                               0.0   \n",
       "2020-02-28                               3.0   \n",
       "2020-02-29                               0.0   \n",
       "2020-03-01                               8.0   \n",
       "2020-03-02                              11.0   \n",
       "...                                      ...   \n",
       "2021-02-09                             -21.0   \n",
       "2021-02-10                              -7.0   \n",
       "2021-02-11                             -22.0   \n",
       "2021-02-12                             -35.0   \n",
       "2021-02-13                            -114.0   \n",
       "\n",
       "            NICE IC Bedden (intake) afgelopen 3d  NICE IC Bedden (intake) 7d  \\\n",
       "Key                                                                            \n",
       "2020-02-27                                   0.0                         0.0   \n",
       "2020-02-28                                   0.0                         0.0   \n",
       "2020-02-29                                   0.0                         0.0   \n",
       "2020-03-01                                   1.0                         0.0   \n",
       "2020-03-02                                   2.0                         0.0   \n",
       "...                                          ...                         ...   \n",
       "2021-02-09                                  72.0                       161.0   \n",
       "2021-02-10                                  70.0                       161.0   \n",
       "2021-02-11                                  78.0                       165.0   \n",
       "2021-02-12                                  75.0                       171.0   \n",
       "2021-02-13                                  81.0                       153.0   \n",
       "\n",
       "            NICE IC Bedden (intake) week-1  Personen  \n",
       "Key                                                   \n",
       "2020-02-27                             0.0  17474693  \n",
       "2020-02-28                             0.0  17474693  \n",
       "2020-02-29                             0.0  17474693  \n",
       "2020-03-01                             0.0  17474693  \n",
       "2020-03-02                             0.0  17474693  \n",
       "...                                    ...       ...  \n",
       "2021-02-09                           221.0  17474693  \n",
       "2021-02-10                           221.0  17474693  \n",
       "2021-02-11                           203.0  17474693  \n",
       "2021-02-12                           193.0  17474693  \n",
       "2021-02-13                           183.0  17474693  \n",
       "\n",
       "[353 rows x 56 columns]"
      ]
     },
     "metadata": {},
     "output_type": "display_data"
    }
   ],
   "source": [
    "@run('Personen')\n",
    "def cell():\n",
    "  global dagoverzicht\n",
    "  dagoverzicht['Personen'] = bevolking.BevolkingOpDeEersteVanDeMaand\n",
    "  display(dagoverzicht)"
   ]
  },
  {
   "cell_type": "code",
   "execution_count": 10,
   "id": "driven-truck",
   "metadata": {
    "execution": {
     "iopub.execute_input": "2021-02-13T14:34:00.257584Z",
     "iopub.status.busy": "2021-02-13T14:34:00.256950Z",
     "iopub.status.idle": "2021-02-13T14:34:58.047587Z",
     "shell.execute_reply": "2021-02-13T14:34:58.045059Z"
    },
    "lines_to_next_cell": 0,
    "papermill": {
     "duration": 57.816378,
     "end_time": "2021-02-13T14:34:58.047715",
     "exception": false,
     "start_time": "2021-02-13T14:34:00.231337",
     "status": "completed"
    },
    "tags": []
   },
   "outputs": [
    {
     "data": {
      "text/html": [
       "<div>\n",
       "<style scoped>\n",
       "    .dataframe tbody tr th:only-of-type {\n",
       "        vertical-align: middle;\n",
       "    }\n",
       "\n",
       "    .dataframe tbody tr th {\n",
       "        vertical-align: top;\n",
       "    }\n",
       "\n",
       "    .dataframe thead th {\n",
       "        text-align: right;\n",
       "    }\n",
       "</style>\n",
       "<table border=\"1\" class=\"dataframe\">\n",
       "  <thead>\n",
       "    <tr style=\"text-align: right;\">\n",
       "      <th></th>\n",
       "    </tr>\n",
       "    <tr>\n",
       "      <th>Key</th>\n",
       "    </tr>\n",
       "  </thead>\n",
       "  <tbody>\n",
       "  </tbody>\n",
       "</table>\n",
       "</div>"
      ],
      "text/plain": [
       "Empty DataFrame\n",
       "Columns: []\n",
       "Index: []"
      ]
     },
     "metadata": {},
     "output_type": "display_data"
    },
    {
     "data": {
      "text/html": [
       "<div>\n",
       "<style scoped>\n",
       "    .dataframe tbody tr th:only-of-type {\n",
       "        vertical-align: middle;\n",
       "    }\n",
       "\n",
       "    .dataframe tbody tr th {\n",
       "        vertical-align: top;\n",
       "    }\n",
       "\n",
       "    .dataframe thead th {\n",
       "        text-align: right;\n",
       "    }\n",
       "</style>\n",
       "<table border=\"1\" class=\"dataframe\">\n",
       "  <thead>\n",
       "    <tr style=\"text-align: right;\">\n",
       "      <th></th>\n",
       "    </tr>\n",
       "    <tr>\n",
       "      <th>Key</th>\n",
       "    </tr>\n",
       "  </thead>\n",
       "  <tbody>\n",
       "  </tbody>\n",
       "</table>\n",
       "</div>"
      ],
      "text/plain": [
       "Empty DataFrame\n",
       "Columns: []\n",
       "Index: []"
      ]
     },
     "metadata": {},
     "output_type": "display_data"
    },
    {
     "name": "stdout",
     "output_type": "stream",
     "text": [
      "updating knack\n"
     ]
    },
    {
     "name": "stderr",
     "output_type": "stream",
     "text": [
      "\r",
      "  0%|          | 0/348 [00:00<?, ?it/s]"
     ]
    },
    {
     "name": "stderr",
     "output_type": "stream",
     "text": [
      "\r",
      "  0%|          | 1/348 [00:00<04:05,  1.41it/s]"
     ]
    },
    {
     "name": "stderr",
     "output_type": "stream",
     "text": [
      "\r",
      "  1%|          | 4/348 [00:00<00:57,  6.02it/s]"
     ]
    },
    {
     "name": "stderr",
     "output_type": "stream",
     "text": [
      "\r",
      "  2%|▏         | 7/348 [00:00<00:34,  9.86it/s]"
     ]
    },
    {
     "name": "stderr",
     "output_type": "stream",
     "text": [
      "\r",
      "  3%|▎         | 9/348 [00:01<00:44,  7.54it/s]"
     ]
    },
    {
     "name": "stderr",
     "output_type": "stream",
     "text": [
      "\r",
      "  3%|▎         | 11/348 [00:01<00:47,  7.15it/s]"
     ]
    },
    {
     "name": "stderr",
     "output_type": "stream",
     "text": [
      "\r",
      "  4%|▎         | 13/348 [00:01<00:41,  8.13it/s]"
     ]
    },
    {
     "name": "stderr",
     "output_type": "stream",
     "text": [
      "\r",
      "  4%|▍         | 15/348 [00:02<00:40,  8.19it/s]"
     ]
    },
    {
     "name": "stderr",
     "output_type": "stream",
     "text": [
      "\r",
      "  5%|▍         | 17/348 [00:02<00:41,  7.94it/s]"
     ]
    },
    {
     "name": "stderr",
     "output_type": "stream",
     "text": [
      "\r",
      "  5%|▌         | 18/348 [00:02<00:45,  7.20it/s]"
     ]
    },
    {
     "name": "stderr",
     "output_type": "stream",
     "text": [
      "\r",
      "  5%|▌         | 19/348 [00:02<00:43,  7.48it/s]"
     ]
    },
    {
     "name": "stderr",
     "output_type": "stream",
     "text": [
      "\r",
      "  6%|▌         | 20/348 [00:02<00:58,  5.63it/s]"
     ]
    },
    {
     "name": "stderr",
     "output_type": "stream",
     "text": [
      "\r",
      "  6%|▌         | 21/348 [00:03<00:59,  5.50it/s]"
     ]
    },
    {
     "name": "stderr",
     "output_type": "stream",
     "text": [
      "\r",
      "  6%|▋         | 22/348 [00:03<01:00,  5.41it/s]"
     ]
    },
    {
     "name": "stderr",
     "output_type": "stream",
     "text": [
      "\r",
      "  7%|▋         | 23/348 [00:03<00:52,  6.17it/s]"
     ]
    },
    {
     "name": "stderr",
     "output_type": "stream",
     "text": [
      "\r",
      "  7%|▋         | 24/348 [00:03<01:09,  4.69it/s]"
     ]
    },
    {
     "name": "stderr",
     "output_type": "stream",
     "text": [
      "\r",
      "  7%|▋         | 25/348 [00:03<00:58,  5.51it/s]"
     ]
    },
    {
     "name": "stderr",
     "output_type": "stream",
     "text": [
      "\r",
      "  7%|▋         | 26/348 [00:04<00:55,  5.75it/s]"
     ]
    },
    {
     "name": "stderr",
     "output_type": "stream",
     "text": [
      "\r",
      "  8%|▊         | 27/348 [00:04<01:10,  4.58it/s]"
     ]
    },
    {
     "name": "stderr",
     "output_type": "stream",
     "text": [
      "\r",
      "  8%|▊         | 29/348 [00:04<00:49,  6.42it/s]"
     ]
    },
    {
     "name": "stderr",
     "output_type": "stream",
     "text": [
      "\r",
      "  9%|▉         | 31/348 [00:04<00:47,  6.66it/s]"
     ]
    },
    {
     "name": "stderr",
     "output_type": "stream",
     "text": [
      "\r",
      "  9%|▉         | 32/348 [00:04<00:45,  6.94it/s]"
     ]
    },
    {
     "name": "stderr",
     "output_type": "stream",
     "text": [
      "\r",
      " 10%|█         | 35/348 [00:05<00:43,  7.18it/s]"
     ]
    },
    {
     "name": "stderr",
     "output_type": "stream",
     "text": [
      "\r",
      " 11%|█         | 37/348 [00:05<00:47,  6.51it/s]"
     ]
    },
    {
     "name": "stderr",
     "output_type": "stream",
     "text": [
      "\r",
      " 11%|█▏        | 40/348 [00:05<00:33,  9.32it/s]"
     ]
    },
    {
     "name": "stderr",
     "output_type": "stream",
     "text": [
      "\r",
      " 12%|█▏        | 42/348 [00:06<00:41,  7.39it/s]"
     ]
    },
    {
     "name": "stderr",
     "output_type": "stream",
     "text": [
      "\r",
      " 13%|█▎        | 44/348 [00:06<00:39,  7.61it/s]"
     ]
    },
    {
     "name": "stderr",
     "output_type": "stream",
     "text": [
      "\r",
      " 13%|█▎        | 45/348 [00:06<00:42,  7.11it/s]"
     ]
    },
    {
     "name": "stderr",
     "output_type": "stream",
     "text": [
      "\r",
      " 14%|█▎        | 47/348 [00:06<00:37,  8.09it/s]"
     ]
    },
    {
     "name": "stderr",
     "output_type": "stream",
     "text": [
      "\r",
      " 14%|█▍        | 48/348 [00:07<00:37,  7.96it/s]"
     ]
    },
    {
     "name": "stderr",
     "output_type": "stream",
     "text": [
      "\r",
      " 14%|█▍        | 49/348 [00:07<00:37,  7.99it/s]"
     ]
    },
    {
     "name": "stderr",
     "output_type": "stream",
     "text": [
      "\r",
      " 14%|█▍        | 50/348 [00:07<00:49,  6.05it/s]"
     ]
    },
    {
     "name": "stderr",
     "output_type": "stream",
     "text": [
      "\r",
      " 15%|█▍        | 51/348 [00:07<00:46,  6.40it/s]"
     ]
    },
    {
     "name": "stderr",
     "output_type": "stream",
     "text": [
      "\r",
      " 15%|█▌        | 53/348 [00:07<00:37,  7.84it/s]"
     ]
    },
    {
     "name": "stderr",
     "output_type": "stream",
     "text": [
      "\r",
      " 16%|█▌        | 54/348 [00:08<00:47,  6.19it/s]"
     ]
    },
    {
     "name": "stderr",
     "output_type": "stream",
     "text": [
      "\r",
      " 16%|█▌        | 55/348 [00:08<00:42,  6.82it/s]"
     ]
    },
    {
     "name": "stderr",
     "output_type": "stream",
     "text": [
      "\r",
      " 16%|█▌        | 56/348 [00:08<00:43,  6.71it/s]"
     ]
    },
    {
     "name": "stderr",
     "output_type": "stream",
     "text": [
      "\r",
      " 16%|█▋        | 57/348 [00:08<01:09,  4.16it/s]"
     ]
    },
    {
     "name": "stderr",
     "output_type": "stream",
     "text": [
      "\r",
      " 17%|█▋        | 58/348 [00:08<01:06,  4.34it/s]"
     ]
    },
    {
     "name": "stderr",
     "output_type": "stream",
     "text": [
      "\r",
      " 17%|█▋        | 59/348 [00:09<01:03,  4.56it/s]"
     ]
    },
    {
     "name": "stderr",
     "output_type": "stream",
     "text": [
      "\r",
      " 18%|█▊        | 61/348 [00:09<00:45,  6.31it/s]"
     ]
    },
    {
     "name": "stderr",
     "output_type": "stream",
     "text": [
      "\r",
      " 18%|█▊        | 63/348 [00:09<00:35,  8.02it/s]"
     ]
    },
    {
     "name": "stderr",
     "output_type": "stream",
     "text": [
      "\r",
      " 18%|█▊        | 64/348 [00:09<00:35,  7.91it/s]"
     ]
    },
    {
     "name": "stderr",
     "output_type": "stream",
     "text": [
      "\r",
      " 19%|█▉        | 67/348 [00:09<00:24, 11.26it/s]"
     ]
    },
    {
     "name": "stderr",
     "output_type": "stream",
     "text": [
      "\r",
      " 20%|█▉        | 69/348 [00:10<00:32,  8.47it/s]"
     ]
    },
    {
     "name": "stderr",
     "output_type": "stream",
     "text": [
      "\r",
      " 20%|██        | 71/348 [00:10<00:37,  7.49it/s]"
     ]
    },
    {
     "name": "stderr",
     "output_type": "stream",
     "text": [
      "\r",
      " 21%|██        | 73/348 [00:10<00:36,  7.53it/s]"
     ]
    },
    {
     "name": "stderr",
     "output_type": "stream",
     "text": [
      "\r",
      " 21%|██▏       | 74/348 [00:10<00:36,  7.55it/s]"
     ]
    },
    {
     "name": "stderr",
     "output_type": "stream",
     "text": [
      "\r",
      " 22%|██▏       | 76/348 [00:10<00:29,  9.36it/s]"
     ]
    },
    {
     "name": "stderr",
     "output_type": "stream",
     "text": [
      "\r",
      " 22%|██▏       | 78/348 [00:11<00:43,  6.16it/s]"
     ]
    },
    {
     "name": "stderr",
     "output_type": "stream",
     "text": [
      "\r",
      " 23%|██▎       | 80/348 [00:11<00:36,  7.36it/s]"
     ]
    },
    {
     "name": "stderr",
     "output_type": "stream",
     "text": [
      "\r",
      " 24%|██▎       | 82/348 [00:11<00:29,  9.09it/s]"
     ]
    },
    {
     "name": "stderr",
     "output_type": "stream",
     "text": [
      "\r",
      " 24%|██▍       | 84/348 [00:11<00:28,  9.37it/s]"
     ]
    },
    {
     "name": "stderr",
     "output_type": "stream",
     "text": [
      "\r",
      " 25%|██▍       | 86/348 [00:12<00:33,  7.71it/s]"
     ]
    },
    {
     "name": "stderr",
     "output_type": "stream",
     "text": [
      "\r",
      " 25%|██▌       | 88/348 [00:12<00:34,  7.58it/s]"
     ]
    },
    {
     "name": "stderr",
     "output_type": "stream",
     "text": [
      "\r",
      " 26%|██▌       | 89/348 [00:12<00:38,  6.77it/s]"
     ]
    },
    {
     "name": "stderr",
     "output_type": "stream",
     "text": [
      "\r",
      " 26%|██▌       | 90/348 [00:13<00:52,  4.93it/s]"
     ]
    },
    {
     "name": "stderr",
     "output_type": "stream",
     "text": [
      "\r",
      " 27%|██▋       | 93/348 [00:13<00:36,  6.94it/s]"
     ]
    },
    {
     "name": "stderr",
     "output_type": "stream",
     "text": [
      "\r",
      " 27%|██▋       | 95/348 [00:13<00:35,  7.11it/s]"
     ]
    },
    {
     "name": "stderr",
     "output_type": "stream",
     "text": [
      "\r",
      " 28%|██▊       | 97/348 [00:13<00:33,  7.39it/s]"
     ]
    },
    {
     "name": "stderr",
     "output_type": "stream",
     "text": [
      "\r",
      " 28%|██▊       | 99/348 [00:14<00:31,  7.82it/s]"
     ]
    },
    {
     "name": "stderr",
     "output_type": "stream",
     "text": [
      "\r",
      " 29%|██▉       | 101/348 [00:14<00:39,  6.21it/s]"
     ]
    },
    {
     "name": "stderr",
     "output_type": "stream",
     "text": [
      "\r",
      " 30%|██▉       | 103/348 [00:14<00:36,  6.68it/s]"
     ]
    },
    {
     "name": "stderr",
     "output_type": "stream",
     "text": [
      "\r",
      " 30%|███       | 105/348 [00:15<00:29,  8.23it/s]"
     ]
    },
    {
     "name": "stderr",
     "output_type": "stream",
     "text": [
      "\r",
      " 31%|███       | 107/348 [00:15<00:29,  8.22it/s]"
     ]
    },
    {
     "name": "stderr",
     "output_type": "stream",
     "text": [
      "\r",
      " 31%|███       | 108/348 [00:15<00:29,  8.22it/s]"
     ]
    },
    {
     "name": "stderr",
     "output_type": "stream",
     "text": [
      "\r",
      " 31%|███▏      | 109/348 [00:15<00:33,  7.21it/s]"
     ]
    },
    {
     "name": "stderr",
     "output_type": "stream",
     "text": [
      "\r",
      " 32%|███▏      | 110/348 [00:15<00:32,  7.29it/s]"
     ]
    },
    {
     "name": "stderr",
     "output_type": "stream",
     "text": [
      "\r",
      " 32%|███▏      | 111/348 [00:16<00:41,  5.71it/s]"
     ]
    },
    {
     "name": "stderr",
     "output_type": "stream",
     "text": [
      "\r",
      " 32%|███▏      | 113/348 [00:16<00:34,  6.79it/s]"
     ]
    },
    {
     "name": "stderr",
     "output_type": "stream",
     "text": [
      "\r",
      " 33%|███▎      | 115/348 [00:16<00:31,  7.28it/s]"
     ]
    },
    {
     "name": "stderr",
     "output_type": "stream",
     "text": [
      "\r",
      " 33%|███▎      | 116/348 [00:16<00:36,  6.35it/s]"
     ]
    },
    {
     "name": "stderr",
     "output_type": "stream",
     "text": [
      "\r",
      " 34%|███▍      | 118/348 [00:17<00:34,  6.61it/s]"
     ]
    },
    {
     "name": "stderr",
     "output_type": "stream",
     "text": [
      "\r",
      " 34%|███▍      | 120/348 [00:17<00:28,  8.03it/s]"
     ]
    },
    {
     "name": "stderr",
     "output_type": "stream",
     "text": [
      "\r",
      " 35%|███▍      | 121/348 [00:17<00:30,  7.56it/s]"
     ]
    },
    {
     "name": "stderr",
     "output_type": "stream",
     "text": [
      "\r",
      " 35%|███▌      | 122/348 [00:17<00:30,  7.46it/s]"
     ]
    },
    {
     "name": "stderr",
     "output_type": "stream",
     "text": [
      "\r",
      " 35%|███▌      | 123/348 [00:17<00:33,  6.78it/s]"
     ]
    },
    {
     "name": "stderr",
     "output_type": "stream",
     "text": [
      "\r",
      " 36%|███▌      | 125/348 [00:18<00:35,  6.20it/s]"
     ]
    },
    {
     "name": "stderr",
     "output_type": "stream",
     "text": [
      "\r",
      " 36%|███▋      | 127/348 [00:18<00:35,  6.14it/s]"
     ]
    },
    {
     "name": "stderr",
     "output_type": "stream",
     "text": [
      "\r",
      " 37%|███▋      | 129/348 [00:18<00:28,  7.60it/s]"
     ]
    },
    {
     "name": "stderr",
     "output_type": "stream",
     "text": [
      "\r",
      " 37%|███▋      | 130/348 [00:18<00:40,  5.33it/s]"
     ]
    },
    {
     "name": "stderr",
     "output_type": "stream",
     "text": [
      "\r",
      " 38%|███▊      | 131/348 [00:19<00:39,  5.46it/s]"
     ]
    },
    {
     "name": "stderr",
     "output_type": "stream",
     "text": [
      "\r",
      " 38%|███▊      | 133/348 [00:19<00:34,  6.25it/s]"
     ]
    },
    {
     "name": "stderr",
     "output_type": "stream",
     "text": [
      "\r",
      " 39%|███▊      | 134/348 [00:19<00:42,  5.04it/s]"
     ]
    },
    {
     "name": "stderr",
     "output_type": "stream",
     "text": [
      "\r",
      " 39%|███▉      | 135/348 [00:19<00:42,  5.01it/s]"
     ]
    },
    {
     "name": "stderr",
     "output_type": "stream",
     "text": [
      "\r",
      " 40%|███▉      | 138/348 [00:20<00:26,  7.85it/s]"
     ]
    },
    {
     "name": "stderr",
     "output_type": "stream",
     "text": [
      "\r",
      " 40%|███▉      | 139/348 [00:20<00:36,  5.80it/s]"
     ]
    },
    {
     "name": "stderr",
     "output_type": "stream",
     "text": [
      "\r",
      " 41%|████      | 142/348 [00:20<00:27,  7.46it/s]"
     ]
    },
    {
     "name": "stderr",
     "output_type": "stream",
     "text": [
      "\r",
      " 41%|████      | 143/348 [00:20<00:26,  7.68it/s]"
     ]
    },
    {
     "name": "stderr",
     "output_type": "stream",
     "text": [
      "\r",
      " 41%|████▏     | 144/348 [00:21<00:33,  6.11it/s]"
     ]
    },
    {
     "name": "stderr",
     "output_type": "stream",
     "text": [
      "\r",
      " 42%|████▏     | 146/348 [00:21<00:29,  6.96it/s]"
     ]
    },
    {
     "name": "stderr",
     "output_type": "stream",
     "text": [
      "\r",
      " 43%|████▎     | 148/348 [00:21<00:25,  7.82it/s]"
     ]
    },
    {
     "name": "stderr",
     "output_type": "stream",
     "text": [
      "\r",
      " 43%|████▎     | 149/348 [00:21<00:30,  6.47it/s]"
     ]
    },
    {
     "name": "stderr",
     "output_type": "stream",
     "text": [
      "\r",
      " 43%|████▎     | 150/348 [00:21<00:32,  6.12it/s]"
     ]
    },
    {
     "name": "stderr",
     "output_type": "stream",
     "text": [
      "\r",
      " 43%|████▎     | 151/348 [00:22<00:32,  6.02it/s]"
     ]
    },
    {
     "name": "stderr",
     "output_type": "stream",
     "text": [
      "\r",
      " 44%|████▎     | 152/348 [00:22<00:29,  6.60it/s]"
     ]
    },
    {
     "name": "stderr",
     "output_type": "stream",
     "text": [
      "\r",
      " 44%|████▍     | 154/348 [00:22<00:29,  6.57it/s]"
     ]
    },
    {
     "name": "stderr",
     "output_type": "stream",
     "text": [
      "\r",
      " 45%|████▌     | 157/348 [00:22<00:24,  7.77it/s]"
     ]
    },
    {
     "name": "stderr",
     "output_type": "stream",
     "text": [
      "\r",
      " 46%|████▌     | 160/348 [00:22<00:17, 10.80it/s]"
     ]
    },
    {
     "name": "stderr",
     "output_type": "stream",
     "text": [
      "\r",
      " 47%|████▋     | 162/348 [00:23<00:17, 10.64it/s]"
     ]
    },
    {
     "name": "stderr",
     "output_type": "stream",
     "text": [
      "\r",
      " 47%|████▋     | 164/348 [00:23<00:27,  6.76it/s]"
     ]
    },
    {
     "name": "stderr",
     "output_type": "stream",
     "text": [
      "\r",
      " 47%|████▋     | 165/348 [00:23<00:25,  7.12it/s]"
     ]
    },
    {
     "name": "stderr",
     "output_type": "stream",
     "text": [
      "\r",
      " 48%|████▊     | 167/348 [00:23<00:20,  8.73it/s]"
     ]
    },
    {
     "name": "stderr",
     "output_type": "stream",
     "text": [
      "\r",
      " 49%|████▊     | 169/348 [00:24<00:20,  8.61it/s]"
     ]
    },
    {
     "name": "stderr",
     "output_type": "stream",
     "text": [
      "\r",
      " 49%|████▉     | 171/348 [00:24<00:23,  7.49it/s]"
     ]
    },
    {
     "name": "stderr",
     "output_type": "stream",
     "text": [
      "\r",
      " 49%|████▉     | 172/348 [00:24<00:27,  6.36it/s]"
     ]
    },
    {
     "name": "stderr",
     "output_type": "stream",
     "text": [
      "\r",
      " 50%|████▉     | 173/348 [00:25<00:40,  4.33it/s]"
     ]
    },
    {
     "name": "stderr",
     "output_type": "stream",
     "text": [
      "\r",
      " 50%|█████     | 175/348 [00:25<00:31,  5.56it/s]"
     ]
    },
    {
     "name": "stderr",
     "output_type": "stream",
     "text": [
      "\r",
      " 51%|█████     | 177/348 [00:25<00:23,  7.38it/s]"
     ]
    },
    {
     "name": "stderr",
     "output_type": "stream",
     "text": [
      "\r",
      " 51%|█████▏    | 179/348 [00:25<00:19,  8.67it/s]"
     ]
    },
    {
     "name": "stderr",
     "output_type": "stream",
     "text": [
      "\r",
      " 52%|█████▏    | 181/348 [00:26<00:23,  7.14it/s]"
     ]
    },
    {
     "name": "stderr",
     "output_type": "stream",
     "text": [
      "\r",
      " 53%|█████▎    | 183/348 [00:26<00:24,  6.80it/s]"
     ]
    },
    {
     "name": "stderr",
     "output_type": "stream",
     "text": [
      "\r",
      " 53%|█████▎    | 184/348 [00:26<00:23,  6.97it/s]"
     ]
    },
    {
     "name": "stderr",
     "output_type": "stream",
     "text": [
      "\r",
      " 53%|█████▎    | 186/348 [00:26<00:21,  7.47it/s]"
     ]
    },
    {
     "name": "stderr",
     "output_type": "stream",
     "text": [
      "\r",
      " 54%|█████▍    | 188/348 [00:27<00:27,  5.84it/s]"
     ]
    },
    {
     "name": "stderr",
     "output_type": "stream",
     "text": [
      "\r",
      " 55%|█████▍    | 191/348 [00:27<00:20,  7.74it/s]"
     ]
    },
    {
     "name": "stderr",
     "output_type": "stream",
     "text": [
      "\r",
      " 55%|█████▌    | 193/348 [00:27<00:23,  6.52it/s]"
     ]
    },
    {
     "name": "stderr",
     "output_type": "stream",
     "text": [
      "\r",
      " 56%|█████▌    | 194/348 [00:28<00:22,  6.90it/s]"
     ]
    },
    {
     "name": "stderr",
     "output_type": "stream",
     "text": [
      "\r",
      " 56%|█████▋    | 196/348 [00:28<00:22,  6.77it/s]"
     ]
    },
    {
     "name": "stderr",
     "output_type": "stream",
     "text": [
      "\r",
      " 57%|█████▋    | 198/348 [00:28<00:18,  8.19it/s]"
     ]
    },
    {
     "name": "stderr",
     "output_type": "stream",
     "text": [
      "\r",
      " 57%|█████▋    | 200/348 [00:28<00:14,  9.95it/s]"
     ]
    },
    {
     "name": "stderr",
     "output_type": "stream",
     "text": [
      "\r",
      " 58%|█████▊    | 202/348 [00:28<00:18,  7.87it/s]"
     ]
    },
    {
     "name": "stderr",
     "output_type": "stream",
     "text": [
      "\r",
      " 59%|█████▊    | 204/348 [00:29<00:19,  7.35it/s]"
     ]
    },
    {
     "name": "stderr",
     "output_type": "stream",
     "text": [
      "\r",
      " 59%|█████▉    | 206/348 [00:29<00:22,  6.25it/s]"
     ]
    },
    {
     "name": "stderr",
     "output_type": "stream",
     "text": [
      "\r",
      " 59%|█████▉    | 207/348 [00:29<00:23,  6.03it/s]"
     ]
    },
    {
     "name": "stderr",
     "output_type": "stream",
     "text": [
      "\r",
      " 60%|█████▉    | 208/348 [00:30<00:23,  5.99it/s]"
     ]
    },
    {
     "name": "stderr",
     "output_type": "stream",
     "text": [
      "\r",
      " 60%|██████    | 209/348 [00:30<00:23,  5.98it/s]"
     ]
    },
    {
     "name": "stderr",
     "output_type": "stream",
     "text": [
      "\r",
      " 61%|██████    | 211/348 [00:30<00:17,  7.74it/s]"
     ]
    },
    {
     "name": "stderr",
     "output_type": "stream",
     "text": [
      "\r",
      " 61%|██████    | 212/348 [00:30<00:18,  7.28it/s]"
     ]
    },
    {
     "name": "stderr",
     "output_type": "stream",
     "text": [
      "\r",
      " 61%|██████    | 213/348 [00:30<00:17,  7.75it/s]"
     ]
    },
    {
     "name": "stderr",
     "output_type": "stream",
     "text": [
      "\r",
      " 61%|██████▏   | 214/348 [00:30<00:23,  5.61it/s]"
     ]
    },
    {
     "name": "stderr",
     "output_type": "stream",
     "text": [
      "\r",
      " 62%|██████▏   | 215/348 [00:31<00:21,  6.26it/s]"
     ]
    },
    {
     "name": "stderr",
     "output_type": "stream",
     "text": [
      "\r",
      " 62%|██████▏   | 216/348 [00:31<00:30,  4.36it/s]"
     ]
    },
    {
     "name": "stderr",
     "output_type": "stream",
     "text": [
      "\r",
      " 62%|██████▏   | 217/348 [00:31<00:28,  4.53it/s]"
     ]
    },
    {
     "name": "stderr",
     "output_type": "stream",
     "text": [
      "\r",
      " 63%|██████▎   | 219/348 [00:31<00:18,  6.81it/s]"
     ]
    },
    {
     "name": "stderr",
     "output_type": "stream",
     "text": [
      "\r",
      " 64%|██████▎   | 221/348 [00:31<00:14,  8.83it/s]"
     ]
    },
    {
     "name": "stderr",
     "output_type": "stream",
     "text": [
      "\r",
      " 64%|██████▍   | 223/348 [00:32<00:16,  7.63it/s]"
     ]
    },
    {
     "name": "stderr",
     "output_type": "stream",
     "text": [
      "\r",
      " 65%|██████▍   | 225/348 [00:32<00:16,  7.57it/s]"
     ]
    },
    {
     "name": "stderr",
     "output_type": "stream",
     "text": [
      "\r",
      " 65%|██████▍   | 226/348 [00:32<00:16,  7.47it/s]"
     ]
    },
    {
     "name": "stderr",
     "output_type": "stream",
     "text": [
      "\r",
      " 65%|██████▌   | 227/348 [00:32<00:17,  7.00it/s]"
     ]
    },
    {
     "name": "stderr",
     "output_type": "stream",
     "text": [
      "\r",
      " 66%|██████▌   | 228/348 [00:32<00:17,  6.82it/s]"
     ]
    },
    {
     "name": "stderr",
     "output_type": "stream",
     "text": [
      "\r",
      " 66%|██████▌   | 229/348 [00:33<00:17,  6.99it/s]"
     ]
    },
    {
     "name": "stderr",
     "output_type": "stream",
     "text": [
      "\r",
      " 66%|██████▌   | 230/348 [00:33<00:16,  7.18it/s]"
     ]
    },
    {
     "name": "stderr",
     "output_type": "stream",
     "text": [
      "\r",
      " 67%|██████▋   | 232/348 [00:33<00:20,  5.79it/s]"
     ]
    },
    {
     "name": "stderr",
     "output_type": "stream",
     "text": [
      "\r",
      " 67%|██████▋   | 234/348 [00:33<00:17,  6.66it/s]"
     ]
    },
    {
     "name": "stderr",
     "output_type": "stream",
     "text": [
      "\r",
      " 68%|██████▊   | 237/348 [00:34<00:12,  8.84it/s]"
     ]
    },
    {
     "name": "stderr",
     "output_type": "stream",
     "text": [
      "\r",
      " 68%|██████▊   | 238/348 [00:34<00:14,  7.74it/s]"
     ]
    },
    {
     "name": "stderr",
     "output_type": "stream",
     "text": [
      "\r",
      " 69%|██████▊   | 239/348 [00:34<00:18,  5.92it/s]"
     ]
    },
    {
     "name": "stderr",
     "output_type": "stream",
     "text": [
      "\r",
      " 70%|██████▉   | 242/348 [00:34<00:13,  8.06it/s]"
     ]
    },
    {
     "name": "stderr",
     "output_type": "stream",
     "text": [
      "\r",
      " 70%|██████▉   | 243/348 [00:34<00:13,  8.08it/s]"
     ]
    },
    {
     "name": "stderr",
     "output_type": "stream",
     "text": [
      "\r",
      " 70%|███████   | 244/348 [00:35<00:14,  7.20it/s]"
     ]
    },
    {
     "name": "stderr",
     "output_type": "stream",
     "text": [
      "\r",
      " 70%|███████   | 245/348 [00:35<00:19,  5.17it/s]"
     ]
    },
    {
     "name": "stderr",
     "output_type": "stream",
     "text": [
      "\r",
      " 71%|███████   | 247/348 [00:35<00:15,  6.61it/s]"
     ]
    },
    {
     "name": "stderr",
     "output_type": "stream",
     "text": [
      "\r",
      " 71%|███████▏  | 248/348 [00:35<00:16,  6.20it/s]"
     ]
    },
    {
     "name": "stderr",
     "output_type": "stream",
     "text": [
      "\r",
      " 72%|███████▏  | 250/348 [00:36<00:18,  5.18it/s]"
     ]
    },
    {
     "name": "stderr",
     "output_type": "stream",
     "text": [
      "\r",
      " 72%|███████▏  | 251/348 [00:36<00:17,  5.57it/s]"
     ]
    },
    {
     "name": "stderr",
     "output_type": "stream",
     "text": [
      "\r",
      " 72%|███████▏  | 252/348 [00:36<00:16,  5.70it/s]"
     ]
    },
    {
     "name": "stderr",
     "output_type": "stream",
     "text": [
      "\r",
      " 73%|███████▎  | 254/348 [00:36<00:12,  7.50it/s]"
     ]
    },
    {
     "name": "stderr",
     "output_type": "stream",
     "text": [
      "\r",
      " 74%|███████▎  | 256/348 [00:37<00:10,  8.37it/s]"
     ]
    },
    {
     "name": "stderr",
     "output_type": "stream",
     "text": [
      "\r",
      " 74%|███████▍  | 257/348 [00:37<00:11,  8.20it/s]"
     ]
    },
    {
     "name": "stderr",
     "output_type": "stream",
     "text": [
      "\r",
      " 74%|███████▍  | 258/348 [00:37<00:18,  4.99it/s]"
     ]
    },
    {
     "name": "stderr",
     "output_type": "stream",
     "text": [
      "\r",
      " 75%|███████▍  | 260/348 [00:37<00:15,  5.79it/s]"
     ]
    },
    {
     "name": "stderr",
     "output_type": "stream",
     "text": [
      "\r",
      " 76%|███████▌  | 264/348 [00:38<00:11,  7.12it/s]"
     ]
    },
    {
     "name": "stderr",
     "output_type": "stream",
     "text": [
      "\r",
      " 76%|███████▌  | 265/348 [00:38<00:12,  6.76it/s]"
     ]
    },
    {
     "name": "stderr",
     "output_type": "stream",
     "text": [
      "\r",
      " 77%|███████▋  | 267/348 [00:38<00:10,  7.84it/s]"
     ]
    },
    {
     "name": "stderr",
     "output_type": "stream",
     "text": [
      "\r",
      " 77%|███████▋  | 269/348 [00:38<00:09,  8.04it/s]"
     ]
    },
    {
     "name": "stderr",
     "output_type": "stream",
     "text": [
      "\r",
      " 78%|███████▊  | 272/348 [00:39<00:08,  8.85it/s]"
     ]
    },
    {
     "name": "stderr",
     "output_type": "stream",
     "text": [
      "\r",
      " 78%|███████▊  | 273/348 [00:39<00:10,  7.15it/s]"
     ]
    },
    {
     "name": "stderr",
     "output_type": "stream",
     "text": [
      "\r",
      " 79%|███████▉  | 275/348 [00:39<00:11,  6.38it/s]"
     ]
    },
    {
     "name": "stderr",
     "output_type": "stream",
     "text": [
      "\r",
      " 79%|███████▉  | 276/348 [00:40<00:13,  5.53it/s]"
     ]
    },
    {
     "name": "stderr",
     "output_type": "stream",
     "text": [
      "\r",
      " 80%|███████▉  | 277/348 [00:40<00:13,  5.28it/s]"
     ]
    },
    {
     "name": "stderr",
     "output_type": "stream",
     "text": [
      "\r",
      " 80%|███████▉  | 278/348 [00:40<00:15,  4.41it/s]"
     ]
    },
    {
     "name": "stderr",
     "output_type": "stream",
     "text": [
      "\r",
      " 80%|████████  | 280/348 [00:40<00:10,  6.34it/s]"
     ]
    },
    {
     "name": "stderr",
     "output_type": "stream",
     "text": [
      "\r",
      " 81%|████████  | 281/348 [00:40<00:09,  6.84it/s]"
     ]
    },
    {
     "name": "stderr",
     "output_type": "stream",
     "text": [
      "\r",
      " 81%|████████  | 282/348 [00:41<00:09,  6.93it/s]"
     ]
    },
    {
     "name": "stderr",
     "output_type": "stream",
     "text": [
      "\r",
      " 81%|████████▏ | 283/348 [00:41<00:11,  5.49it/s]"
     ]
    },
    {
     "name": "stderr",
     "output_type": "stream",
     "text": [
      "\r",
      " 82%|████████▏ | 284/348 [00:41<00:11,  5.59it/s]"
     ]
    },
    {
     "name": "stderr",
     "output_type": "stream",
     "text": [
      "\r",
      " 82%|████████▏ | 285/348 [00:41<00:11,  5.67it/s]"
     ]
    },
    {
     "name": "stderr",
     "output_type": "stream",
     "text": [
      "\r",
      " 82%|████████▏ | 287/348 [00:41<00:08,  6.80it/s]"
     ]
    },
    {
     "name": "stderr",
     "output_type": "stream",
     "text": [
      "\r",
      " 83%|████████▎ | 290/348 [00:42<00:05,  9.87it/s]"
     ]
    },
    {
     "name": "stderr",
     "output_type": "stream",
     "text": [
      "\r",
      " 84%|████████▍ | 292/348 [00:42<00:06,  9.22it/s]"
     ]
    },
    {
     "name": "stderr",
     "output_type": "stream",
     "text": [
      "\r",
      " 84%|████████▍ | 293/348 [00:42<00:06,  8.34it/s]"
     ]
    },
    {
     "name": "stderr",
     "output_type": "stream",
     "text": [
      "\r",
      " 85%|████████▍ | 295/348 [00:42<00:05,  9.83it/s]"
     ]
    },
    {
     "name": "stderr",
     "output_type": "stream",
     "text": [
      "\r",
      " 85%|████████▌ | 297/348 [00:42<00:06,  8.40it/s]"
     ]
    },
    {
     "name": "stderr",
     "output_type": "stream",
     "text": [
      "\r",
      " 86%|████████▌ | 298/348 [00:43<00:09,  5.48it/s]"
     ]
    },
    {
     "name": "stderr",
     "output_type": "stream",
     "text": [
      "\r",
      " 86%|████████▌ | 300/348 [00:43<00:06,  6.86it/s]"
     ]
    },
    {
     "name": "stderr",
     "output_type": "stream",
     "text": [
      "\r",
      " 86%|████████▋ | 301/348 [00:43<00:07,  5.88it/s]"
     ]
    },
    {
     "name": "stderr",
     "output_type": "stream",
     "text": [
      "\r",
      " 87%|████████▋ | 303/348 [00:44<00:06,  7.08it/s]"
     ]
    },
    {
     "name": "stderr",
     "output_type": "stream",
     "text": [
      "\r",
      " 87%|████████▋ | 304/348 [00:44<00:05,  7.47it/s]"
     ]
    },
    {
     "name": "stderr",
     "output_type": "stream",
     "text": [
      "\r",
      " 88%|████████▊ | 305/348 [00:44<00:08,  4.83it/s]"
     ]
    },
    {
     "name": "stderr",
     "output_type": "stream",
     "text": [
      "\r",
      " 88%|████████▊ | 306/348 [00:44<00:09,  4.39it/s]"
     ]
    },
    {
     "name": "stderr",
     "output_type": "stream",
     "text": [
      "\r",
      " 89%|████████▊ | 308/348 [00:44<00:06,  6.42it/s]"
     ]
    },
    {
     "name": "stderr",
     "output_type": "stream",
     "text": [
      "\r",
      " 89%|████████▉ | 310/348 [00:45<00:06,  6.10it/s]"
     ]
    },
    {
     "name": "stderr",
     "output_type": "stream",
     "text": [
      "\r",
      " 90%|████████▉ | 312/348 [00:45<00:04,  7.92it/s]"
     ]
    },
    {
     "name": "stderr",
     "output_type": "stream",
     "text": [
      "\r",
      " 90%|█████████ | 314/348 [00:46<00:06,  5.44it/s]"
     ]
    },
    {
     "name": "stderr",
     "output_type": "stream",
     "text": [
      "\r",
      " 91%|█████████ | 315/348 [00:46<00:05,  5.92it/s]"
     ]
    },
    {
     "name": "stderr",
     "output_type": "stream",
     "text": [
      "\r",
      " 91%|█████████ | 317/348 [00:46<00:04,  7.47it/s]"
     ]
    },
    {
     "name": "stderr",
     "output_type": "stream",
     "text": [
      "\r",
      " 92%|█████████▏| 319/348 [00:46<00:03,  8.44it/s]"
     ]
    },
    {
     "name": "stderr",
     "output_type": "stream",
     "text": [
      "\r",
      " 92%|█████████▏| 321/348 [00:46<00:03,  7.39it/s]"
     ]
    },
    {
     "name": "stderr",
     "output_type": "stream",
     "text": [
      "\r",
      " 93%|█████████▎| 323/348 [00:47<00:03,  7.81it/s]"
     ]
    },
    {
     "name": "stderr",
     "output_type": "stream",
     "text": [
      "\r",
      " 93%|█████████▎| 325/348 [00:47<00:03,  7.59it/s]"
     ]
    },
    {
     "name": "stderr",
     "output_type": "stream",
     "text": [
      "\r",
      " 94%|█████████▎| 326/348 [00:47<00:03,  6.50it/s]"
     ]
    },
    {
     "name": "stderr",
     "output_type": "stream",
     "text": [
      "\r",
      " 95%|█████████▍| 329/348 [00:47<00:02,  7.43it/s]"
     ]
    },
    {
     "name": "stderr",
     "output_type": "stream",
     "text": [
      "\r",
      " 95%|█████████▌| 332/348 [00:48<00:01,  9.08it/s]"
     ]
    },
    {
     "name": "stderr",
     "output_type": "stream",
     "text": [
      "\r",
      " 96%|█████████▌| 333/348 [00:48<00:01,  8.89it/s]"
     ]
    },
    {
     "name": "stderr",
     "output_type": "stream",
     "text": [
      "\r",
      " 96%|█████████▌| 334/348 [00:48<00:01,  8.92it/s]"
     ]
    },
    {
     "name": "stderr",
     "output_type": "stream",
     "text": [
      "\r",
      " 97%|█████████▋| 336/348 [00:48<00:01, 10.82it/s]"
     ]
    },
    {
     "name": "stderr",
     "output_type": "stream",
     "text": [
      "\r",
      " 97%|█████████▋| 338/348 [00:48<00:01,  8.58it/s]"
     ]
    },
    {
     "name": "stderr",
     "output_type": "stream",
     "text": [
      "\r",
      " 98%|█████████▊| 340/348 [00:49<00:00,  8.03it/s]"
     ]
    },
    {
     "name": "stderr",
     "output_type": "stream",
     "text": [
      "\r",
      " 98%|█████████▊| 341/348 [00:49<00:00,  7.76it/s]"
     ]
    },
    {
     "name": "stderr",
     "output_type": "stream",
     "text": [
      "\r",
      " 98%|█████████▊| 342/348 [00:49<00:00,  8.03it/s]"
     ]
    },
    {
     "name": "stderr",
     "output_type": "stream",
     "text": [
      "\r",
      " 99%|█████████▊| 343/348 [00:49<00:00,  5.70it/s]"
     ]
    },
    {
     "name": "stderr",
     "output_type": "stream",
     "text": [
      "\r",
      " 99%|█████████▉| 345/348 [00:49<00:00,  6.44it/s]"
     ]
    },
    {
     "name": "stderr",
     "output_type": "stream",
     "text": [
      "\r",
      " 99%|█████████▉| 346/348 [00:50<00:00,  4.55it/s]"
     ]
    },
    {
     "name": "stderr",
     "output_type": "stream",
     "text": [
      "\r",
      "100%|█████████▉| 347/348 [00:50<00:00,  4.59it/s]"
     ]
    },
    {
     "name": "stderr",
     "output_type": "stream",
     "text": [
      "\r",
      "100%|██████████| 348/348 [00:51<00:00,  3.00it/s]"
     ]
    },
    {
     "name": "stderr",
     "output_type": "stream",
     "text": [
      "\r",
      "100%|██████████| 348/348 [00:51<00:00,  6.79it/s]"
     ]
    },
    {
     "name": "stderr",
     "output_type": "stream",
     "text": [
      "\n"
     ]
    },
    {
     "name": "stdout",
     "output_type": "stream",
     "text": [
      "\n",
      "rate limit: 7 \n",
      "API calls: create: 1, read: 2, update: 347, delete: 0, backoff: 1\n",
      "errors:\n",
      "  503: Service Unavailable: 2\n",
      "  504: Gateway Time-out: 1\n"
     ]
    },
    {
     "name": "stderr",
     "output_type": "stream",
     "text": [
      "\r",
      "  0%|          | 0/1 [00:00<?, ?it/s]"
     ]
    },
    {
     "name": "stderr",
     "output_type": "stream",
     "text": [
      "\r",
      "100%|██████████| 1/1 [00:00<00:00,  1.46it/s]"
     ]
    },
    {
     "name": "stderr",
     "output_type": "stream",
     "text": [
      "\r",
      "100%|██████████| 1/1 [00:00<00:00,  1.46it/s]"
     ]
    },
    {
     "name": "stdout",
     "output_type": "stream",
     "text": [
      "\n",
      "rate limit: 7 \n",
      "API calls: create: 0, read: 1, update: 1, delete: 0, backoff: 0\n"
     ]
    },
    {
     "name": "stderr",
     "output_type": "stream",
     "text": [
      "\n"
     ]
    }
   ],
   "source": [
    "async def publish():\n",
    "  global dagoverzicht\n",
    "\n",
    "  m = (dagoverzicht == np.inf)\n",
    "  df = dagoverzicht.loc[m.any(axis=1), m.any(axis=0)]\n",
    "  display(df.head())\n",
    "  m = (dagoverzicht == np.nan)\n",
    "  df = dagoverzicht.loc[m.any(axis=1), m.any(axis=0)]\n",
    "  display(df.head())\n",
    "\n",
    "  os.makedirs('artifacts', exist_ok = True)\n",
    "  dagoverzicht.to_csv('artifacts/DagOverzicht.csv', index=True)\n",
    "\n",
    "  if knack:\n",
    "    print('updating knack')\n",
    "    df = dagoverzicht.assign(Key=dagoverzicht.index.strftime('%Y-%m-%d'))\n",
    "    await knack.update(objectName='Dagoverzicht', df=df)\n",
    "    await knack.update(objectName='LaatsteUpdate', df=pd.DataFrame([{'Key': 1, **{ f'Timestamp Dagoverzicht {provider.upper()}': ts for provider, ts in Cache.timestamps.items() if provider != 'github' }}]))\n",
    "await publish()"
   ]
  },
  {
   "cell_type": "code",
   "execution_count": null,
   "id": "photographic-layer",
   "metadata": {
    "papermill": {
     "duration": 0.07261,
     "end_time": "2021-02-13T14:34:58.201554",
     "exception": false,
     "start_time": "2021-02-13T14:34:58.128944",
     "status": "completed"
    },
    "tags": []
   },
   "outputs": [],
   "source": []
  }
 ],
 "metadata": {
  "jupytext": {
   "cell_metadata_filter": "-all"
  },
  "kernelspec": {
   "display_name": "Python 3",
   "language": "python",
   "name": "python3"
  },
  "language_info": {
   "codemirror_mode": {
    "name": "ipython",
    "version": 3
   },
   "file_extension": ".py",
   "mimetype": "text/x-python",
   "name": "python",
   "nbconvert_exporter": "python",
   "pygments_lexer": "ipython3",
   "version": "3.9.1"
  },
  "papermill": {
   "default_parameters": {},
   "duration": 71.768793,
   "end_time": "2021-02-13T14:34:58.679859",
   "environment_variables": {},
   "exception": null,
   "input_path": "-",
   "output_path": "DagOverzicht.ipynb",
   "parameters": {},
   "start_time": "2021-02-13T14:33:46.911066",
   "version": "2.3.2"
  }
 },
 "nbformat": 4,
 "nbformat_minor": 5
}