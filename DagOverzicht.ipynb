{
 "cells": [
  {
   "cell_type": "code",
   "execution_count": null,
   "id": "neutral-officer",
   "metadata": {
    "lines_to_next_cell": 1
   },
   "outputs": [],
   "source": [
    "from IPython import get_ipython\n",
    "from IPython.display import clear_output\n",
    "get_ipython().run_line_magic('run', 'setup')\n",
    "\n",
    "bevolking = CBS.bevolking().iloc[0]\n",
    "#display(bevolking.BevolkingOpDeEersteVanDeMaand)\n",
    "#display(bevolking['per 100k'])\n",
    "\n",
    "def addstats(df):\n",
    "  global dagoverzicht\n",
    "\n",
    "  dagoverzicht = dagoverzicht.merge(df, how='left', left_index=True, right_index=True)\n",
    "  for stat in df.columns:\n",
    "    dagoverzicht[f'{stat} (niew)'] = dagoverzicht[stat].fillna(0).astype(int)\n",
    "    dagoverzicht[stat] = dagoverzicht[f'{stat} (niew)'].cumsum()\n",
    "    dagoverzicht[f'{stat} per 100.000'] = dagoverzicht[stat] * bevolking['per 100k']\n",
    "    dagoverzicht[f'{stat} 7d'] = (dagoverzicht[stat] - dagoverzicht[stat].shift(7)).fillna(0).astype(int)\n",
    "    dagoverzicht[f'{stat} 7d per 100.000'] = dagoverzicht[f'{stat} 7d'] * bevolking['per 100k']"
   ]
  },
  {
   "cell_type": "code",
   "execution_count": null,
   "id": "proof-police",
   "metadata": {
    "lines_to_next_cell": 1
   },
   "outputs": [],
   "source": [
    "@run('set up base frame + overleden + positief getest')\n",
    "def cell():\n",
    "  df = RIVM.csv('COVID-19_aantallen_gemeente_per_dag').rename(columns={\n",
    "    'Total_reported': 'Positief getest',\n",
    "    'Deceased': 'Overleden',\n",
    "    'Date_of_publication': 'Datum',\n",
    "    'Date_of_report': 'Today',\n",
    "  })\n",
    "  df['Datum'] = pd.to_datetime(df.Datum.str.replace(' .*', '', regex=True))\n",
    "  df['Today'] = pd.to_datetime(df.Today.str.replace(' .*', '', regex=True))\n",
    "\n",
    "  global dagoverzicht\n",
    "  dagoverzicht = pd.DataFrame(index=pd.date_range(start='2020-02-27', end=df.Today.max()))\n",
    "  dagoverzicht.index.name='Key'\n",
    "  dagoverzicht['Datum'] = dagoverzicht.index.strftime('%Y-%m-%d')\n",
    "  dagoverzicht['LandCode'] = 'NL'\n",
    "\n",
    "  addstats(df.groupby(['Datum']).agg({'Positief getest': 'sum', 'Overleden': 'sum'}))\n",
    "  display(dagoverzicht.head(10))"
   ]
  },
  {
   "cell_type": "code",
   "execution_count": null,
   "id": "intelligent-asthma",
   "metadata": {
    "lines_to_next_cell": 0
   },
   "outputs": [],
   "source": [
    "@run('ziekenhuisopnames')\n",
    "def cell():\n",
    "  df = RIVM.csv('COVID-19_ziekenhuisopnames').rename(columns={\n",
    "    'Hospital_admission': 'Ziekenhuisopnames',\n",
    "    'Date_of_statistics': 'Datum',\n",
    "  })\n",
    "  df['Datum'] = pd.to_datetime(df.Datum.str.replace(' .*', '', regex=True))\n",
    "  addstats(df.groupby(['Datum']).agg({'Ziekenhuisopnames': 'sum'}))\n",
    "  display(dagoverzicht.head())"
   ]
  },
  {
   "cell_type": "code",
   "execution_count": null,
   "id": "dramatic-penalty",
   "metadata": {
    "lines_to_next_cell": 0
   },
   "outputs": [],
   "source": [
    "@run('publish')\n",
    "def cell():\n",
    "  global dagoverzicht\n",
    "\n",
    "  os.makedirs('artifacts', exist_ok = True)\n",
    "  dagoverzicht.to_csv('artifacts/DagOverzicht.csv', index=True)"
   ]
  },
  {
   "cell_type": "code",
   "execution_count": null,
   "id": "verbal-words",
   "metadata": {},
   "outputs": [],
   "source": []
  }
 ],
 "metadata": {
  "jupytext": {
   "cell_metadata_filter": "-all"
  },
  "kernelspec": {
   "display_name": "Python 3",
   "language": "python",
   "name": "python3"
  }
 },
 "nbformat": 4,
 "nbformat_minor": 5
}
