{
 "cells": [
  {
   "cell_type": "code",
   "execution_count": 1,
   "id": "retained-apple",
   "metadata": {
    "execution": {
     "iopub.execute_input": "2021-02-14T17:10:45.946278Z",
     "iopub.status.busy": "2021-02-14T17:10:45.932793Z",
     "iopub.status.idle": "2021-02-14T17:10:53.029867Z",
     "shell.execute_reply": "2021-02-14T17:10:53.029169Z"
    },
    "lines_to_next_cell": 1,
    "papermill": {
     "duration": 7.117343,
     "end_time": "2021-02-14T17:10:53.030041",
     "exception": false,
     "start_time": "2021-02-14T17:10:45.912698",
     "status": "completed"
    },
    "tags": []
   },
   "outputs": [],
   "source": [
    "from IPython import get_ipython\n",
    "from IPython.core.display import display\n",
    "get_ipython().run_line_magic('load_ext', 'autoreload')\n",
    "get_ipython().run_line_magic('autoreload', '2')\n",
    "get_ipython().run_line_magic('run', 'setup')\n",
    "\n",
    "bevolking = CBS.bevolking().iloc[0]\n",
    "#display(bevolking.BevolkingOpDeEersteVanDeMaand)\n",
    "#display(bevolking['per 100k'])\n",
    "\n",
    "def addstats(df):\n",
    "  global dagoverzicht\n",
    "\n",
    "  # de aanname is dat df al gegroepeerd is op datum, en dat de kolommen de dagtotalen zijn\n",
    "  dagoverzicht = dagoverzicht.merge(df, how='left', left_index=True, right_index=True)\n",
    "  for stat in df.columns:\n",
    "    # nieuw = dagtotaal, zet missende dagtotalen op 0\n",
    "    dagoverzicht[f'{stat} (nieuw)'] = dagoverzicht[stat].fillna(0).astype(int)\n",
    "    # kolom met eerder de dagtotalen = cumulatieve som over dagtotalen\n",
    "    dagoverzicht[stat] = dagoverzicht[f'{stat} (nieuw)'].cumsum()\n",
    "    # factor voor 100k\n",
    "    dagoverzicht[f'{stat} per 100.000'] = dagoverzicht[stat] * bevolking['per 100k']\n",
    "    # verschil met 7 dagen terug\n",
    "    dagoverzicht[f'{stat} 7d'] = dagoverzicht[f'{stat} (nieuw)'].rolling(7).sum().fillna(0)\n",
    "    # en weer factor 100 k\n",
    "    dagoverzicht[f'{stat} 7d per 100.000'] = dagoverzicht[f'{stat} 7d'] * bevolking['per 100k']"
   ]
  },
  {
   "cell_type": "code",
   "execution_count": 2,
   "id": "pleasant-emission",
   "metadata": {
    "execution": {
     "iopub.execute_input": "2021-02-14T17:10:53.061466Z",
     "iopub.status.busy": "2021-02-14T17:10:53.053809Z",
     "iopub.status.idle": "2021-02-14T17:10:54.269036Z",
     "shell.execute_reply": "2021-02-14T17:10:54.268488Z"
    },
    "lines_to_next_cell": 1,
    "papermill": {
     "duration": 1.230603,
     "end_time": "2021-02-14T17:10:54.269182",
     "exception": false,
     "start_time": "2021-02-14T17:10:53.038579",
     "status": "completed"
    },
    "tags": []
   },
   "outputs": [
    {
     "name": "stdout",
     "output_type": "stream",
     "text": [
      "set up base frame from ESRI -> NICE\n"
     ]
    },
    {
     "name": "stdout",
     "output_type": "stream",
     "text": [
      "downloading nice/f27f743476a142538e8054f7a7ce12e1_0-2021-02-14@16-47.csv\n"
     ]
    },
    {
     "name": "stdout",
     "output_type": "stream",
     "text": [
      "loading nice/f27f743476a142538e8054f7a7ce12e1_0-2021-02-14@16-47.csv.gz\n"
     ]
    }
   ],
   "source": [
    "@run('set up base frame from ESRI -> NICE')\n",
    "def cell():\n",
    "  df = ArcGIS.nice('f27f743476a142538e8054f7a7ce12e1')\n",
    "\n",
    "  df['date'] = pd.to_datetime(df.date.str.replace(' .*', '', regex=True))\n",
    "  df.set_index('date', inplace=True)\n",
    "\n",
    "  # base date range uit NICE\n",
    "  global dagoverzicht\n",
    "  # maak leeg dataframe met een rij voor elke dag van 2020-02-27 tm Date_of_publication\n",
    "  dagoverzicht = pd.DataFrame(index=pd.date_range(start='2020-02-27', end=df.index.max()))\n",
    "  # noem de index Key\n",
    "  dagoverzicht.index.name='Key'\n",
    "  # vul de datum kolom\n",
    "  dagoverzicht['Datum'] = dagoverzicht.index.strftime('%Y-%m-%d')\n",
    "  # vaste waarde voor LandCode\n",
    "  dagoverzicht['LandCode'] = 'NL'\n",
    "\n",
    "  # the NICE data as prepared by ESRI can just be used as-is, so just rename the columns\n",
    "  for prefix, kind in [ ('ic', 'IC'), ('zkh', 'Ziekenhuis') ]:\n",
    "    df = df.rename(columns={\n",
    "      f'{prefix}NewIntake': f'NICE {kind} Bedden (intake)',\n",
    "      f'{prefix}IntakeCount': f'NICE {kind} Bedden',\n",
    "      f'{prefix}IntakeCumulative': f'NICE {kind} Bedden (cumulatief)',\n",
    "      f'{prefix}DiedCumulative': f'NICE {kind} Overleden',\n",
    "    })\n",
    "\n",
    "  # remove the columns we don't use\n",
    "  df = df[[col for col in df.columns if 'NICE' in col]]\n",
    "  dagoverzicht = dagoverzicht.merge(df, how='left', left_index=True, right_index=True)\n",
    "\n",
    "  # after the merge, dates missing in the ESRI/NICE set will be `nan`, so fill these\n",
    "  for col in df.columns:\n",
    "    # for cumulatief columns, fill-forward from last known value\n",
    "    if 'cumulatief' in col:\n",
    "      dagoverzicht[col] = dagoverzicht[col].ffill()\n",
    "    # for non-cumulative and whatever remains in cumulative after fill forward (which will be leading nan's), fill with 0\n",
    "    dagoverzicht[col] = dagoverzicht[col].fillna(0)\n",
    "\n",
    "  for kind in [ 'IC', 'Ziekenhuis' ]:\n",
    "    dagoverzicht[f'NICE {kind} Bedden (toename)'] = (dagoverzicht[f'NICE {kind} Bedden'] - dagoverzicht[f'NICE {kind} Bedden'].shift(1)).fillna(0)\n",
    "\n",
    "  for window, shift, past in [(3, 1, 'afgelopen '), (7, 0, '')]:\n",
    "    dagoverzicht[f'NICE IC Bedden (intake) {past}{window}d'] = dagoverzicht['NICE IC Bedden (intake)'].shift(shift).rolling(window).sum().fillna(0)\n",
    "\n",
    "  dagoverzicht['NICE IC Bedden (intake) week-1'] = dagoverzicht['NICE IC Bedden (intake) 7d'].shift(7).fillna(0)"
   ]
  },
  {
   "cell_type": "code",
   "execution_count": 3,
   "id": "lesser-instruction",
   "metadata": {
    "execution": {
     "iopub.execute_input": "2021-02-14T17:10:54.294689Z",
     "iopub.status.busy": "2021-02-14T17:10:54.294072Z",
     "iopub.status.idle": "2021-02-14T17:10:55.415901Z",
     "shell.execute_reply": "2021-02-14T17:10:55.416381Z"
    },
    "lines_to_next_cell": 1,
    "papermill": {
     "duration": 1.138044,
     "end_time": "2021-02-14T17:10:55.416598",
     "exception": false,
     "start_time": "2021-02-14T17:10:54.278554",
     "status": "completed"
    },
    "tags": []
   },
   "outputs": [
    {
     "name": "stdout",
     "output_type": "stream",
     "text": [
      "overleden + positief getest\n"
     ]
    },
    {
     "name": "stdout",
     "output_type": "stream",
     "text": [
      "rivm/COVID-19_aantallen_gemeente_per_dag-2021-02-14@14-15.csv exists\n",
      "loading rivm/COVID-19_aantallen_gemeente_per_dag-2021-02-14@14-15.csv.gz\n"
     ]
    },
    {
     "data": {
      "text/html": [
       "<div>\n",
       "<style scoped>\n",
       "    .dataframe tbody tr th:only-of-type {\n",
       "        vertical-align: middle;\n",
       "    }\n",
       "\n",
       "    .dataframe tbody tr th {\n",
       "        vertical-align: top;\n",
       "    }\n",
       "\n",
       "    .dataframe thead th {\n",
       "        text-align: right;\n",
       "    }\n",
       "</style>\n",
       "<table border=\"1\" class=\"dataframe\">\n",
       "  <thead>\n",
       "    <tr style=\"text-align: right;\">\n",
       "      <th></th>\n",
       "      <th>Datum</th>\n",
       "      <th>LandCode</th>\n",
       "      <th>NICE IC Bedden (intake)</th>\n",
       "      <th>NICE IC Bedden (cumulatief)</th>\n",
       "      <th>NICE IC Bedden</th>\n",
       "      <th>NICE IC Overleden</th>\n",
       "      <th>NICE Ziekenhuis Bedden (intake)</th>\n",
       "      <th>NICE Ziekenhuis Bedden (cumulatief)</th>\n",
       "      <th>NICE Ziekenhuis Bedden</th>\n",
       "      <th>NICE Ziekenhuis Overleden</th>\n",
       "      <th>...</th>\n",
       "      <th>Positief getest (nieuw)</th>\n",
       "      <th>Positief getest per 100.000</th>\n",
       "      <th>Positief getest 7d</th>\n",
       "      <th>Positief getest 7d per 100.000</th>\n",
       "      <th>Overleden (nieuw)</th>\n",
       "      <th>Overleden per 100.000</th>\n",
       "      <th>Overleden 7d</th>\n",
       "      <th>Overleden 7d per 100.000</th>\n",
       "      <th>Overleden week-1</th>\n",
       "      <th>Positief getest week-1</th>\n",
       "    </tr>\n",
       "    <tr>\n",
       "      <th>Key</th>\n",
       "      <th></th>\n",
       "      <th></th>\n",
       "      <th></th>\n",
       "      <th></th>\n",
       "      <th></th>\n",
       "      <th></th>\n",
       "      <th></th>\n",
       "      <th></th>\n",
       "      <th></th>\n",
       "      <th></th>\n",
       "      <th></th>\n",
       "      <th></th>\n",
       "      <th></th>\n",
       "      <th></th>\n",
       "      <th></th>\n",
       "      <th></th>\n",
       "      <th></th>\n",
       "      <th></th>\n",
       "      <th></th>\n",
       "      <th></th>\n",
       "      <th></th>\n",
       "    </tr>\n",
       "  </thead>\n",
       "  <tbody>\n",
       "    <tr>\n",
       "      <th>2020-02-27</th>\n",
       "      <td>2020-02-27</td>\n",
       "      <td>NL</td>\n",
       "      <td>1</td>\n",
       "      <td>13</td>\n",
       "      <td>13</td>\n",
       "      <td>0</td>\n",
       "      <td>2</td>\n",
       "      <td>65</td>\n",
       "      <td>63</td>\n",
       "      <td>0</td>\n",
       "      <td>...</td>\n",
       "      <td>0</td>\n",
       "      <td>0.000000</td>\n",
       "      <td>0.0</td>\n",
       "      <td>0.000000</td>\n",
       "      <td>0</td>\n",
       "      <td>0.000000</td>\n",
       "      <td>0.0</td>\n",
       "      <td>0.000000</td>\n",
       "      <td>0.0</td>\n",
       "      <td>0.0</td>\n",
       "    </tr>\n",
       "    <tr>\n",
       "      <th>2020-02-28</th>\n",
       "      <td>2020-02-28</td>\n",
       "      <td>NL</td>\n",
       "      <td>0</td>\n",
       "      <td>14</td>\n",
       "      <td>14</td>\n",
       "      <td>0</td>\n",
       "      <td>3</td>\n",
       "      <td>68</td>\n",
       "      <td>66</td>\n",
       "      <td>0</td>\n",
       "      <td>...</td>\n",
       "      <td>1</td>\n",
       "      <td>0.005723</td>\n",
       "      <td>0.0</td>\n",
       "      <td>0.000000</td>\n",
       "      <td>0</td>\n",
       "      <td>0.000000</td>\n",
       "      <td>0.0</td>\n",
       "      <td>0.000000</td>\n",
       "      <td>0.0</td>\n",
       "      <td>0.0</td>\n",
       "    </tr>\n",
       "    <tr>\n",
       "      <th>2020-02-29</th>\n",
       "      <td>2020-02-29</td>\n",
       "      <td>NL</td>\n",
       "      <td>0</td>\n",
       "      <td>15</td>\n",
       "      <td>15</td>\n",
       "      <td>0</td>\n",
       "      <td>1</td>\n",
       "      <td>69</td>\n",
       "      <td>66</td>\n",
       "      <td>0</td>\n",
       "      <td>...</td>\n",
       "      <td>1</td>\n",
       "      <td>0.011445</td>\n",
       "      <td>0.0</td>\n",
       "      <td>0.000000</td>\n",
       "      <td>0</td>\n",
       "      <td>0.000000</td>\n",
       "      <td>0.0</td>\n",
       "      <td>0.000000</td>\n",
       "      <td>0.0</td>\n",
       "      <td>0.0</td>\n",
       "    </tr>\n",
       "    <tr>\n",
       "      <th>2020-03-01</th>\n",
       "      <td>2020-03-01</td>\n",
       "      <td>NL</td>\n",
       "      <td>2</td>\n",
       "      <td>17</td>\n",
       "      <td>17</td>\n",
       "      <td>0</td>\n",
       "      <td>7</td>\n",
       "      <td>77</td>\n",
       "      <td>74</td>\n",
       "      <td>0</td>\n",
       "      <td>...</td>\n",
       "      <td>3</td>\n",
       "      <td>0.028613</td>\n",
       "      <td>0.0</td>\n",
       "      <td>0.000000</td>\n",
       "      <td>0</td>\n",
       "      <td>0.000000</td>\n",
       "      <td>0.0</td>\n",
       "      <td>0.000000</td>\n",
       "      <td>0.0</td>\n",
       "      <td>0.0</td>\n",
       "    </tr>\n",
       "    <tr>\n",
       "      <th>2020-03-02</th>\n",
       "      <td>2020-03-02</td>\n",
       "      <td>NL</td>\n",
       "      <td>0</td>\n",
       "      <td>17</td>\n",
       "      <td>16</td>\n",
       "      <td>0</td>\n",
       "      <td>10</td>\n",
       "      <td>88</td>\n",
       "      <td>85</td>\n",
       "      <td>0</td>\n",
       "      <td>...</td>\n",
       "      <td>5</td>\n",
       "      <td>0.057226</td>\n",
       "      <td>0.0</td>\n",
       "      <td>0.000000</td>\n",
       "      <td>0</td>\n",
       "      <td>0.000000</td>\n",
       "      <td>0.0</td>\n",
       "      <td>0.000000</td>\n",
       "      <td>0.0</td>\n",
       "      <td>0.0</td>\n",
       "    </tr>\n",
       "    <tr>\n",
       "      <th>2020-03-03</th>\n",
       "      <td>2020-03-03</td>\n",
       "      <td>NL</td>\n",
       "      <td>1</td>\n",
       "      <td>19</td>\n",
       "      <td>18</td>\n",
       "      <td>0</td>\n",
       "      <td>8</td>\n",
       "      <td>96</td>\n",
       "      <td>92</td>\n",
       "      <td>0</td>\n",
       "      <td>...</td>\n",
       "      <td>4</td>\n",
       "      <td>0.080116</td>\n",
       "      <td>0.0</td>\n",
       "      <td>0.000000</td>\n",
       "      <td>0</td>\n",
       "      <td>0.000000</td>\n",
       "      <td>0.0</td>\n",
       "      <td>0.000000</td>\n",
       "      <td>0.0</td>\n",
       "      <td>0.0</td>\n",
       "    </tr>\n",
       "    <tr>\n",
       "      <th>2020-03-04</th>\n",
       "      <td>2020-03-04</td>\n",
       "      <td>NL</td>\n",
       "      <td>3</td>\n",
       "      <td>22</td>\n",
       "      <td>21</td>\n",
       "      <td>0</td>\n",
       "      <td>10</td>\n",
       "      <td>109</td>\n",
       "      <td>104</td>\n",
       "      <td>0</td>\n",
       "      <td>...</td>\n",
       "      <td>10</td>\n",
       "      <td>0.137341</td>\n",
       "      <td>24.0</td>\n",
       "      <td>0.137341</td>\n",
       "      <td>0</td>\n",
       "      <td>0.000000</td>\n",
       "      <td>0.0</td>\n",
       "      <td>0.000000</td>\n",
       "      <td>0.0</td>\n",
       "      <td>0.0</td>\n",
       "    </tr>\n",
       "    <tr>\n",
       "      <th>2020-03-05</th>\n",
       "      <td>2020-03-05</td>\n",
       "      <td>NL</td>\n",
       "      <td>1</td>\n",
       "      <td>24</td>\n",
       "      <td>21</td>\n",
       "      <td>0</td>\n",
       "      <td>12</td>\n",
       "      <td>121</td>\n",
       "      <td>114</td>\n",
       "      <td>0</td>\n",
       "      <td>...</td>\n",
       "      <td>17</td>\n",
       "      <td>0.234625</td>\n",
       "      <td>41.0</td>\n",
       "      <td>0.234625</td>\n",
       "      <td>0</td>\n",
       "      <td>0.000000</td>\n",
       "      <td>0.0</td>\n",
       "      <td>0.000000</td>\n",
       "      <td>0.0</td>\n",
       "      <td>0.0</td>\n",
       "    </tr>\n",
       "    <tr>\n",
       "      <th>2020-03-06</th>\n",
       "      <td>2020-03-06</td>\n",
       "      <td>NL</td>\n",
       "      <td>4</td>\n",
       "      <td>28</td>\n",
       "      <td>25</td>\n",
       "      <td>0</td>\n",
       "      <td>19</td>\n",
       "      <td>138</td>\n",
       "      <td>130</td>\n",
       "      <td>0</td>\n",
       "      <td>...</td>\n",
       "      <td>40</td>\n",
       "      <td>0.463527</td>\n",
       "      <td>80.0</td>\n",
       "      <td>0.457805</td>\n",
       "      <td>0</td>\n",
       "      <td>0.000000</td>\n",
       "      <td>0.0</td>\n",
       "      <td>0.000000</td>\n",
       "      <td>0.0</td>\n",
       "      <td>0.0</td>\n",
       "    </tr>\n",
       "    <tr>\n",
       "      <th>2020-03-07</th>\n",
       "      <td>2020-03-07</td>\n",
       "      <td>NL</td>\n",
       "      <td>3</td>\n",
       "      <td>31</td>\n",
       "      <td>27</td>\n",
       "      <td>0</td>\n",
       "      <td>7</td>\n",
       "      <td>146</td>\n",
       "      <td>138</td>\n",
       "      <td>1</td>\n",
       "      <td>...</td>\n",
       "      <td>50</td>\n",
       "      <td>0.749656</td>\n",
       "      <td>129.0</td>\n",
       "      <td>0.738210</td>\n",
       "      <td>1</td>\n",
       "      <td>0.005723</td>\n",
       "      <td>1.0</td>\n",
       "      <td>0.005723</td>\n",
       "      <td>0.0</td>\n",
       "      <td>0.0</td>\n",
       "    </tr>\n",
       "  </tbody>\n",
       "</table>\n",
       "<p>10 rows × 27 columns</p>\n",
       "</div>"
      ],
      "text/plain": [
       "                 Datum LandCode  NICE IC Bedden (intake)  \\\n",
       "Key                                                        \n",
       "2020-02-27  2020-02-27       NL                        1   \n",
       "2020-02-28  2020-02-28       NL                        0   \n",
       "2020-02-29  2020-02-29       NL                        0   \n",
       "2020-03-01  2020-03-01       NL                        2   \n",
       "2020-03-02  2020-03-02       NL                        0   \n",
       "2020-03-03  2020-03-03       NL                        1   \n",
       "2020-03-04  2020-03-04       NL                        3   \n",
       "2020-03-05  2020-03-05       NL                        1   \n",
       "2020-03-06  2020-03-06       NL                        4   \n",
       "2020-03-07  2020-03-07       NL                        3   \n",
       "\n",
       "            NICE IC Bedden (cumulatief)  NICE IC Bedden  NICE IC Overleden  \\\n",
       "Key                                                                          \n",
       "2020-02-27                           13              13                  0   \n",
       "2020-02-28                           14              14                  0   \n",
       "2020-02-29                           15              15                  0   \n",
       "2020-03-01                           17              17                  0   \n",
       "2020-03-02                           17              16                  0   \n",
       "2020-03-03                           19              18                  0   \n",
       "2020-03-04                           22              21                  0   \n",
       "2020-03-05                           24              21                  0   \n",
       "2020-03-06                           28              25                  0   \n",
       "2020-03-07                           31              27                  0   \n",
       "\n",
       "            NICE Ziekenhuis Bedden (intake)  \\\n",
       "Key                                           \n",
       "2020-02-27                                2   \n",
       "2020-02-28                                3   \n",
       "2020-02-29                                1   \n",
       "2020-03-01                                7   \n",
       "2020-03-02                               10   \n",
       "2020-03-03                                8   \n",
       "2020-03-04                               10   \n",
       "2020-03-05                               12   \n",
       "2020-03-06                               19   \n",
       "2020-03-07                                7   \n",
       "\n",
       "            NICE Ziekenhuis Bedden (cumulatief)  NICE Ziekenhuis Bedden  \\\n",
       "Key                                                                       \n",
       "2020-02-27                                   65                      63   \n",
       "2020-02-28                                   68                      66   \n",
       "2020-02-29                                   69                      66   \n",
       "2020-03-01                                   77                      74   \n",
       "2020-03-02                                   88                      85   \n",
       "2020-03-03                                   96                      92   \n",
       "2020-03-04                                  109                     104   \n",
       "2020-03-05                                  121                     114   \n",
       "2020-03-06                                  138                     130   \n",
       "2020-03-07                                  146                     138   \n",
       "\n",
       "            NICE Ziekenhuis Overleden  ...  Positief getest (nieuw)  \\\n",
       "Key                                    ...                            \n",
       "2020-02-27                          0  ...                        0   \n",
       "2020-02-28                          0  ...                        1   \n",
       "2020-02-29                          0  ...                        1   \n",
       "2020-03-01                          0  ...                        3   \n",
       "2020-03-02                          0  ...                        5   \n",
       "2020-03-03                          0  ...                        4   \n",
       "2020-03-04                          0  ...                       10   \n",
       "2020-03-05                          0  ...                       17   \n",
       "2020-03-06                          0  ...                       40   \n",
       "2020-03-07                          1  ...                       50   \n",
       "\n",
       "            Positief getest per 100.000  Positief getest 7d  \\\n",
       "Key                                                           \n",
       "2020-02-27                     0.000000                 0.0   \n",
       "2020-02-28                     0.005723                 0.0   \n",
       "2020-02-29                     0.011445                 0.0   \n",
       "2020-03-01                     0.028613                 0.0   \n",
       "2020-03-02                     0.057226                 0.0   \n",
       "2020-03-03                     0.080116                 0.0   \n",
       "2020-03-04                     0.137341                24.0   \n",
       "2020-03-05                     0.234625                41.0   \n",
       "2020-03-06                     0.463527                80.0   \n",
       "2020-03-07                     0.749656               129.0   \n",
       "\n",
       "            Positief getest 7d per 100.000  Overleden (nieuw)  \\\n",
       "Key                                                             \n",
       "2020-02-27                        0.000000                  0   \n",
       "2020-02-28                        0.000000                  0   \n",
       "2020-02-29                        0.000000                  0   \n",
       "2020-03-01                        0.000000                  0   \n",
       "2020-03-02                        0.000000                  0   \n",
       "2020-03-03                        0.000000                  0   \n",
       "2020-03-04                        0.137341                  0   \n",
       "2020-03-05                        0.234625                  0   \n",
       "2020-03-06                        0.457805                  0   \n",
       "2020-03-07                        0.738210                  1   \n",
       "\n",
       "            Overleden per 100.000  Overleden 7d  Overleden 7d per 100.000  \\\n",
       "Key                                                                         \n",
       "2020-02-27               0.000000           0.0                  0.000000   \n",
       "2020-02-28               0.000000           0.0                  0.000000   \n",
       "2020-02-29               0.000000           0.0                  0.000000   \n",
       "2020-03-01               0.000000           0.0                  0.000000   \n",
       "2020-03-02               0.000000           0.0                  0.000000   \n",
       "2020-03-03               0.000000           0.0                  0.000000   \n",
       "2020-03-04               0.000000           0.0                  0.000000   \n",
       "2020-03-05               0.000000           0.0                  0.000000   \n",
       "2020-03-06               0.000000           0.0                  0.000000   \n",
       "2020-03-07               0.005723           1.0                  0.005723   \n",
       "\n",
       "            Overleden week-1  Positief getest week-1  \n",
       "Key                                                   \n",
       "2020-02-27               0.0                     0.0  \n",
       "2020-02-28               0.0                     0.0  \n",
       "2020-02-29               0.0                     0.0  \n",
       "2020-03-01               0.0                     0.0  \n",
       "2020-03-02               0.0                     0.0  \n",
       "2020-03-03               0.0                     0.0  \n",
       "2020-03-04               0.0                     0.0  \n",
       "2020-03-05               0.0                     0.0  \n",
       "2020-03-06               0.0                     0.0  \n",
       "2020-03-07               0.0                     0.0  \n",
       "\n",
       "[10 rows x 27 columns]"
      ]
     },
     "metadata": {},
     "output_type": "display_data"
    }
   ],
   "source": [
    "@run('overleden + positief getest')\n",
    "def cell():\n",
    "  df = RIVM.csv('COVID-19_aantallen_gemeente_per_dag').rename(columns={\n",
    "    'Total_reported': 'Positief getest',\n",
    "    'Deceased': 'Overleden',\n",
    "    'Date_of_publication': 'Datum',\n",
    "    'Date_of_report': 'Today',\n",
    "  })\n",
    "  # sloop tijd van de datum en zet om in datetime object\n",
    "  df['Datum'] = pd.to_datetime(df.Datum.str.replace(' .*', '', regex=True))\n",
    "\n",
    "  # sommeer pos en overl op datum en voeg toe aan dagoverzicht\n",
    "  addstats(df.groupby(['Datum']).agg({'Positief getest': 'sum', 'Overleden': 'sum'}))\n",
    "  global dagoverzicht\n",
    "  for col in ['Overleden', 'Positief getest']:\n",
    "    dagoverzicht[f'{col} week-1'] = dagoverzicht[f'{col} 7d'].shift(7).fillna(0)\n",
    "  display(dagoverzicht.head(10))"
   ]
  },
  {
   "cell_type": "code",
   "execution_count": 4,
   "id": "executive-broadcast",
   "metadata": {
    "execution": {
     "iopub.execute_input": "2021-02-14T17:10:55.455809Z",
     "iopub.status.busy": "2021-02-14T17:10:55.450277Z",
     "iopub.status.idle": "2021-02-14T17:10:56.399282Z",
     "shell.execute_reply": "2021-02-14T17:10:56.398768Z"
    },
    "lines_to_next_cell": 1,
    "papermill": {
     "duration": 0.970367,
     "end_time": "2021-02-14T17:10:56.399426",
     "exception": false,
     "start_time": "2021-02-14T17:10:55.429059",
     "status": "completed"
    },
    "tags": []
   },
   "outputs": [
    {
     "name": "stdout",
     "output_type": "stream",
     "text": [
      "ziekenhuisopnames\n"
     ]
    },
    {
     "name": "stdout",
     "output_type": "stream",
     "text": [
      "rivm/COVID-19_ziekenhuisopnames-2021-02-14@14-15.csv exists\n",
      "loading rivm/COVID-19_ziekenhuisopnames-2021-02-14@14-15.csv.gz\n"
     ]
    },
    {
     "data": {
      "text/html": [
       "<div>\n",
       "<style scoped>\n",
       "    .dataframe tbody tr th:only-of-type {\n",
       "        vertical-align: middle;\n",
       "    }\n",
       "\n",
       "    .dataframe tbody tr th {\n",
       "        vertical-align: top;\n",
       "    }\n",
       "\n",
       "    .dataframe thead th {\n",
       "        text-align: right;\n",
       "    }\n",
       "</style>\n",
       "<table border=\"1\" class=\"dataframe\">\n",
       "  <thead>\n",
       "    <tr style=\"text-align: right;\">\n",
       "      <th></th>\n",
       "      <th>Datum</th>\n",
       "      <th>LandCode</th>\n",
       "      <th>NICE IC Bedden (intake)</th>\n",
       "      <th>NICE IC Bedden (cumulatief)</th>\n",
       "      <th>NICE IC Bedden</th>\n",
       "      <th>NICE IC Overleden</th>\n",
       "      <th>NICE Ziekenhuis Bedden (intake)</th>\n",
       "      <th>NICE Ziekenhuis Bedden (cumulatief)</th>\n",
       "      <th>NICE Ziekenhuis Bedden</th>\n",
       "      <th>NICE Ziekenhuis Overleden</th>\n",
       "      <th>...</th>\n",
       "      <th>Overleden 7d</th>\n",
       "      <th>Overleden 7d per 100.000</th>\n",
       "      <th>Overleden week-1</th>\n",
       "      <th>Positief getest week-1</th>\n",
       "      <th>Ziekenhuisopnames</th>\n",
       "      <th>Ziekenhuisopnames (nieuw)</th>\n",
       "      <th>Ziekenhuisopnames per 100.000</th>\n",
       "      <th>Ziekenhuisopnames 7d</th>\n",
       "      <th>Ziekenhuisopnames 7d per 100.000</th>\n",
       "      <th>Ziekenhuisopnames week-1</th>\n",
       "    </tr>\n",
       "    <tr>\n",
       "      <th>Key</th>\n",
       "      <th></th>\n",
       "      <th></th>\n",
       "      <th></th>\n",
       "      <th></th>\n",
       "      <th></th>\n",
       "      <th></th>\n",
       "      <th></th>\n",
       "      <th></th>\n",
       "      <th></th>\n",
       "      <th></th>\n",
       "      <th></th>\n",
       "      <th></th>\n",
       "      <th></th>\n",
       "      <th></th>\n",
       "      <th></th>\n",
       "      <th></th>\n",
       "      <th></th>\n",
       "      <th></th>\n",
       "      <th></th>\n",
       "      <th></th>\n",
       "      <th></th>\n",
       "    </tr>\n",
       "  </thead>\n",
       "  <tbody>\n",
       "    <tr>\n",
       "      <th>2020-02-27</th>\n",
       "      <td>2020-02-27</td>\n",
       "      <td>NL</td>\n",
       "      <td>1</td>\n",
       "      <td>13</td>\n",
       "      <td>13</td>\n",
       "      <td>0</td>\n",
       "      <td>2</td>\n",
       "      <td>65</td>\n",
       "      <td>63</td>\n",
       "      <td>0</td>\n",
       "      <td>...</td>\n",
       "      <td>0.0</td>\n",
       "      <td>0.0</td>\n",
       "      <td>0.0</td>\n",
       "      <td>0.0</td>\n",
       "      <td>3</td>\n",
       "      <td>3</td>\n",
       "      <td>0.017168</td>\n",
       "      <td>0.0</td>\n",
       "      <td>0.0</td>\n",
       "      <td>0.0</td>\n",
       "    </tr>\n",
       "    <tr>\n",
       "      <th>2020-02-28</th>\n",
       "      <td>2020-02-28</td>\n",
       "      <td>NL</td>\n",
       "      <td>0</td>\n",
       "      <td>14</td>\n",
       "      <td>14</td>\n",
       "      <td>0</td>\n",
       "      <td>3</td>\n",
       "      <td>68</td>\n",
       "      <td>66</td>\n",
       "      <td>0</td>\n",
       "      <td>...</td>\n",
       "      <td>0.0</td>\n",
       "      <td>0.0</td>\n",
       "      <td>0.0</td>\n",
       "      <td>0.0</td>\n",
       "      <td>6</td>\n",
       "      <td>3</td>\n",
       "      <td>0.034335</td>\n",
       "      <td>0.0</td>\n",
       "      <td>0.0</td>\n",
       "      <td>0.0</td>\n",
       "    </tr>\n",
       "    <tr>\n",
       "      <th>2020-02-29</th>\n",
       "      <td>2020-02-29</td>\n",
       "      <td>NL</td>\n",
       "      <td>0</td>\n",
       "      <td>15</td>\n",
       "      <td>15</td>\n",
       "      <td>0</td>\n",
       "      <td>1</td>\n",
       "      <td>69</td>\n",
       "      <td>66</td>\n",
       "      <td>0</td>\n",
       "      <td>...</td>\n",
       "      <td>0.0</td>\n",
       "      <td>0.0</td>\n",
       "      <td>0.0</td>\n",
       "      <td>0.0</td>\n",
       "      <td>8</td>\n",
       "      <td>2</td>\n",
       "      <td>0.045780</td>\n",
       "      <td>0.0</td>\n",
       "      <td>0.0</td>\n",
       "      <td>0.0</td>\n",
       "    </tr>\n",
       "    <tr>\n",
       "      <th>2020-03-01</th>\n",
       "      <td>2020-03-01</td>\n",
       "      <td>NL</td>\n",
       "      <td>2</td>\n",
       "      <td>17</td>\n",
       "      <td>17</td>\n",
       "      <td>0</td>\n",
       "      <td>7</td>\n",
       "      <td>77</td>\n",
       "      <td>74</td>\n",
       "      <td>0</td>\n",
       "      <td>...</td>\n",
       "      <td>0.0</td>\n",
       "      <td>0.0</td>\n",
       "      <td>0.0</td>\n",
       "      <td>0.0</td>\n",
       "      <td>17</td>\n",
       "      <td>9</td>\n",
       "      <td>0.097284</td>\n",
       "      <td>0.0</td>\n",
       "      <td>0.0</td>\n",
       "      <td>0.0</td>\n",
       "    </tr>\n",
       "    <tr>\n",
       "      <th>2020-03-02</th>\n",
       "      <td>2020-03-02</td>\n",
       "      <td>NL</td>\n",
       "      <td>0</td>\n",
       "      <td>17</td>\n",
       "      <td>16</td>\n",
       "      <td>0</td>\n",
       "      <td>10</td>\n",
       "      <td>88</td>\n",
       "      <td>85</td>\n",
       "      <td>0</td>\n",
       "      <td>...</td>\n",
       "      <td>0.0</td>\n",
       "      <td>0.0</td>\n",
       "      <td>0.0</td>\n",
       "      <td>0.0</td>\n",
       "      <td>27</td>\n",
       "      <td>10</td>\n",
       "      <td>0.154509</td>\n",
       "      <td>0.0</td>\n",
       "      <td>0.0</td>\n",
       "      <td>0.0</td>\n",
       "    </tr>\n",
       "  </tbody>\n",
       "</table>\n",
       "<p>5 rows × 33 columns</p>\n",
       "</div>"
      ],
      "text/plain": [
       "                 Datum LandCode  NICE IC Bedden (intake)  \\\n",
       "Key                                                        \n",
       "2020-02-27  2020-02-27       NL                        1   \n",
       "2020-02-28  2020-02-28       NL                        0   \n",
       "2020-02-29  2020-02-29       NL                        0   \n",
       "2020-03-01  2020-03-01       NL                        2   \n",
       "2020-03-02  2020-03-02       NL                        0   \n",
       "\n",
       "            NICE IC Bedden (cumulatief)  NICE IC Bedden  NICE IC Overleden  \\\n",
       "Key                                                                          \n",
       "2020-02-27                           13              13                  0   \n",
       "2020-02-28                           14              14                  0   \n",
       "2020-02-29                           15              15                  0   \n",
       "2020-03-01                           17              17                  0   \n",
       "2020-03-02                           17              16                  0   \n",
       "\n",
       "            NICE Ziekenhuis Bedden (intake)  \\\n",
       "Key                                           \n",
       "2020-02-27                                2   \n",
       "2020-02-28                                3   \n",
       "2020-02-29                                1   \n",
       "2020-03-01                                7   \n",
       "2020-03-02                               10   \n",
       "\n",
       "            NICE Ziekenhuis Bedden (cumulatief)  NICE Ziekenhuis Bedden  \\\n",
       "Key                                                                       \n",
       "2020-02-27                                   65                      63   \n",
       "2020-02-28                                   68                      66   \n",
       "2020-02-29                                   69                      66   \n",
       "2020-03-01                                   77                      74   \n",
       "2020-03-02                                   88                      85   \n",
       "\n",
       "            NICE Ziekenhuis Overleden  ...  Overleden 7d  \\\n",
       "Key                                    ...                 \n",
       "2020-02-27                          0  ...           0.0   \n",
       "2020-02-28                          0  ...           0.0   \n",
       "2020-02-29                          0  ...           0.0   \n",
       "2020-03-01                          0  ...           0.0   \n",
       "2020-03-02                          0  ...           0.0   \n",
       "\n",
       "            Overleden 7d per 100.000  Overleden week-1  \\\n",
       "Key                                                      \n",
       "2020-02-27                       0.0               0.0   \n",
       "2020-02-28                       0.0               0.0   \n",
       "2020-02-29                       0.0               0.0   \n",
       "2020-03-01                       0.0               0.0   \n",
       "2020-03-02                       0.0               0.0   \n",
       "\n",
       "            Positief getest week-1  Ziekenhuisopnames  \\\n",
       "Key                                                     \n",
       "2020-02-27                     0.0                  3   \n",
       "2020-02-28                     0.0                  6   \n",
       "2020-02-29                     0.0                  8   \n",
       "2020-03-01                     0.0                 17   \n",
       "2020-03-02                     0.0                 27   \n",
       "\n",
       "            Ziekenhuisopnames (nieuw)  Ziekenhuisopnames per 100.000  \\\n",
       "Key                                                                    \n",
       "2020-02-27                          3                       0.017168   \n",
       "2020-02-28                          3                       0.034335   \n",
       "2020-02-29                          2                       0.045780   \n",
       "2020-03-01                          9                       0.097284   \n",
       "2020-03-02                         10                       0.154509   \n",
       "\n",
       "            Ziekenhuisopnames 7d  Ziekenhuisopnames 7d per 100.000  \\\n",
       "Key                                                                  \n",
       "2020-02-27                   0.0                               0.0   \n",
       "2020-02-28                   0.0                               0.0   \n",
       "2020-02-29                   0.0                               0.0   \n",
       "2020-03-01                   0.0                               0.0   \n",
       "2020-03-02                   0.0                               0.0   \n",
       "\n",
       "            Ziekenhuisopnames week-1  \n",
       "Key                                   \n",
       "2020-02-27                       0.0  \n",
       "2020-02-28                       0.0  \n",
       "2020-02-29                       0.0  \n",
       "2020-03-01                       0.0  \n",
       "2020-03-02                       0.0  \n",
       "\n",
       "[5 rows x 33 columns]"
      ]
     },
     "metadata": {},
     "output_type": "display_data"
    }
   ],
   "source": [
    "@run('ziekenhuisopnames')\n",
    "def cell():\n",
    "  df = RIVM.csv('COVID-19_ziekenhuisopnames').rename(columns={\n",
    "    'Hospital_admission': 'Ziekenhuisopnames',\n",
    "    'Date_of_statistics': 'Datum',\n",
    "  })\n",
    "  # datum naar datetime\n",
    "  df['Datum'] = pd.to_datetime(df.Datum.str.replace(' .*', '', regex=True))\n",
    "  # sommeer op datum en voeg toe aan dagoverzicht\n",
    "  addstats(df.groupby(['Datum']).agg({'Ziekenhuisopnames': 'sum'}))\n",
    "  dagoverzicht['Ziekenhuisopnames week-1'] = dagoverzicht['Ziekenhuisopnames 7d'].shift(7).fillna(0)\n",
    "  display(dagoverzicht.head())"
   ]
  },
  {
   "cell_type": "code",
   "execution_count": 5,
   "id": "precise-thomas",
   "metadata": {
    "execution": {
     "iopub.execute_input": "2021-02-14T17:10:56.433846Z",
     "iopub.status.busy": "2021-02-14T17:10:56.433233Z",
     "iopub.status.idle": "2021-02-14T17:10:57.730050Z",
     "shell.execute_reply": "2021-02-14T17:10:57.730756Z"
    },
    "lines_to_next_cell": 1,
    "papermill": {
     "duration": 1.318897,
     "end_time": "2021-02-14T17:10:57.730930",
     "exception": false,
     "start_time": "2021-02-14T17:10:56.412033",
     "status": "completed"
    },
    "tags": []
   },
   "outputs": [
    {
     "name": "stdout",
     "output_type": "stream",
     "text": [
      "reproductiegetal en besmettelijkheid\n"
     ]
    },
    {
     "name": "stdout",
     "output_type": "stream",
     "text": [
      "rivm/COVID-19_reproductiegetal-2021-02-14@14-15.json exists\n",
      "loading rivm/COVID-19_reproductiegetal-2021-02-14@14-15.json.gz\n"
     ]
    },
    {
     "name": "stdout",
     "output_type": "stream",
     "text": [
      "rivm/COVID-19_prevalentie-2021-02-14@14-15.json exists\n",
      "loading rivm/COVID-19_prevalentie-2021-02-14@14-15.json.gz\n"
     ]
    },
    {
     "data": {
      "text/html": [
       "<div>\n",
       "<style scoped>\n",
       "    .dataframe tbody tr th:only-of-type {\n",
       "        vertical-align: middle;\n",
       "    }\n",
       "\n",
       "    .dataframe tbody tr th {\n",
       "        vertical-align: top;\n",
       "    }\n",
       "\n",
       "    .dataframe thead th {\n",
       "        text-align: right;\n",
       "    }\n",
       "</style>\n",
       "<table border=\"1\" class=\"dataframe\">\n",
       "  <thead>\n",
       "    <tr style=\"text-align: right;\">\n",
       "      <th></th>\n",
       "      <th>Datum</th>\n",
       "      <th>LandCode</th>\n",
       "      <th>NICE IC Bedden (intake)</th>\n",
       "      <th>NICE IC Bedden (cumulatief)</th>\n",
       "      <th>NICE IC Bedden</th>\n",
       "      <th>NICE IC Overleden</th>\n",
       "      <th>NICE Ziekenhuis Bedden (intake)</th>\n",
       "      <th>NICE Ziekenhuis Bedden (cumulatief)</th>\n",
       "      <th>NICE Ziekenhuis Bedden</th>\n",
       "      <th>NICE Ziekenhuis Overleden</th>\n",
       "      <th>...</th>\n",
       "      <th>Positief getest week-1</th>\n",
       "      <th>Ziekenhuisopnames</th>\n",
       "      <th>Ziekenhuisopnames (nieuw)</th>\n",
       "      <th>Ziekenhuisopnames per 100.000</th>\n",
       "      <th>Ziekenhuisopnames 7d</th>\n",
       "      <th>Ziekenhuisopnames 7d per 100.000</th>\n",
       "      <th>Ziekenhuisopnames week-1</th>\n",
       "      <th>Reproductiegetal</th>\n",
       "      <th>Besmettelijk</th>\n",
       "      <th>Besmettelijk per 100.000</th>\n",
       "    </tr>\n",
       "    <tr>\n",
       "      <th>Key</th>\n",
       "      <th></th>\n",
       "      <th></th>\n",
       "      <th></th>\n",
       "      <th></th>\n",
       "      <th></th>\n",
       "      <th></th>\n",
       "      <th></th>\n",
       "      <th></th>\n",
       "      <th></th>\n",
       "      <th></th>\n",
       "      <th></th>\n",
       "      <th></th>\n",
       "      <th></th>\n",
       "      <th></th>\n",
       "      <th></th>\n",
       "      <th></th>\n",
       "      <th></th>\n",
       "      <th></th>\n",
       "      <th></th>\n",
       "      <th></th>\n",
       "      <th></th>\n",
       "    </tr>\n",
       "  </thead>\n",
       "  <tbody>\n",
       "    <tr>\n",
       "      <th>2020-02-27</th>\n",
       "      <td>2020-02-27</td>\n",
       "      <td>NL</td>\n",
       "      <td>1</td>\n",
       "      <td>13</td>\n",
       "      <td>13</td>\n",
       "      <td>0</td>\n",
       "      <td>2</td>\n",
       "      <td>65</td>\n",
       "      <td>63</td>\n",
       "      <td>0</td>\n",
       "      <td>...</td>\n",
       "      <td>0.0</td>\n",
       "      <td>3</td>\n",
       "      <td>3</td>\n",
       "      <td>0.017168</td>\n",
       "      <td>0.0</td>\n",
       "      <td>0.000000</td>\n",
       "      <td>0.0</td>\n",
       "      <td>2.06</td>\n",
       "      <td>6501.0</td>\n",
       "      <td>37.0</td>\n",
       "    </tr>\n",
       "    <tr>\n",
       "      <th>2020-02-28</th>\n",
       "      <td>2020-02-28</td>\n",
       "      <td>NL</td>\n",
       "      <td>0</td>\n",
       "      <td>14</td>\n",
       "      <td>14</td>\n",
       "      <td>0</td>\n",
       "      <td>3</td>\n",
       "      <td>68</td>\n",
       "      <td>66</td>\n",
       "      <td>0</td>\n",
       "      <td>...</td>\n",
       "      <td>0.0</td>\n",
       "      <td>6</td>\n",
       "      <td>3</td>\n",
       "      <td>0.034335</td>\n",
       "      <td>0.0</td>\n",
       "      <td>0.000000</td>\n",
       "      <td>0.0</td>\n",
       "      <td>2.10</td>\n",
       "      <td>8184.0</td>\n",
       "      <td>47.0</td>\n",
       "    </tr>\n",
       "    <tr>\n",
       "      <th>2020-02-29</th>\n",
       "      <td>2020-02-29</td>\n",
       "      <td>NL</td>\n",
       "      <td>0</td>\n",
       "      <td>15</td>\n",
       "      <td>15</td>\n",
       "      <td>0</td>\n",
       "      <td>1</td>\n",
       "      <td>69</td>\n",
       "      <td>66</td>\n",
       "      <td>0</td>\n",
       "      <td>...</td>\n",
       "      <td>0.0</td>\n",
       "      <td>8</td>\n",
       "      <td>2</td>\n",
       "      <td>0.045780</td>\n",
       "      <td>0.0</td>\n",
       "      <td>0.000000</td>\n",
       "      <td>0.0</td>\n",
       "      <td>1.99</td>\n",
       "      <td>10266.0</td>\n",
       "      <td>59.0</td>\n",
       "    </tr>\n",
       "    <tr>\n",
       "      <th>2020-03-01</th>\n",
       "      <td>2020-03-01</td>\n",
       "      <td>NL</td>\n",
       "      <td>2</td>\n",
       "      <td>17</td>\n",
       "      <td>17</td>\n",
       "      <td>0</td>\n",
       "      <td>7</td>\n",
       "      <td>77</td>\n",
       "      <td>74</td>\n",
       "      <td>0</td>\n",
       "      <td>...</td>\n",
       "      <td>0.0</td>\n",
       "      <td>17</td>\n",
       "      <td>9</td>\n",
       "      <td>0.097284</td>\n",
       "      <td>0.0</td>\n",
       "      <td>0.000000</td>\n",
       "      <td>0.0</td>\n",
       "      <td>1.83</td>\n",
       "      <td>12757.0</td>\n",
       "      <td>73.0</td>\n",
       "    </tr>\n",
       "    <tr>\n",
       "      <th>2020-03-02</th>\n",
       "      <td>2020-03-02</td>\n",
       "      <td>NL</td>\n",
       "      <td>0</td>\n",
       "      <td>17</td>\n",
       "      <td>16</td>\n",
       "      <td>0</td>\n",
       "      <td>10</td>\n",
       "      <td>88</td>\n",
       "      <td>85</td>\n",
       "      <td>0</td>\n",
       "      <td>...</td>\n",
       "      <td>0.0</td>\n",
       "      <td>27</td>\n",
       "      <td>10</td>\n",
       "      <td>0.154509</td>\n",
       "      <td>0.0</td>\n",
       "      <td>0.000000</td>\n",
       "      <td>0.0</td>\n",
       "      <td>1.79</td>\n",
       "      <td>15691.0</td>\n",
       "      <td>90.0</td>\n",
       "    </tr>\n",
       "    <tr>\n",
       "      <th>...</th>\n",
       "      <td>...</td>\n",
       "      <td>...</td>\n",
       "      <td>...</td>\n",
       "      <td>...</td>\n",
       "      <td>...</td>\n",
       "      <td>...</td>\n",
       "      <td>...</td>\n",
       "      <td>...</td>\n",
       "      <td>...</td>\n",
       "      <td>...</td>\n",
       "      <td>...</td>\n",
       "      <td>...</td>\n",
       "      <td>...</td>\n",
       "      <td>...</td>\n",
       "      <td>...</td>\n",
       "      <td>...</td>\n",
       "      <td>...</td>\n",
       "      <td>...</td>\n",
       "      <td>...</td>\n",
       "      <td>...</td>\n",
       "      <td>...</td>\n",
       "    </tr>\n",
       "    <tr>\n",
       "      <th>2021-02-10</th>\n",
       "      <td>2021-02-10</td>\n",
       "      <td>NL</td>\n",
       "      <td>30</td>\n",
       "      <td>8202</td>\n",
       "      <td>551</td>\n",
       "      <td>2361</td>\n",
       "      <td>179</td>\n",
       "      <td>38636</td>\n",
       "      <td>1642</td>\n",
       "      <td>5596</td>\n",
       "      <td>...</td>\n",
       "      <td>27821.0</td>\n",
       "      <td>43354</td>\n",
       "      <td>174</td>\n",
       "      <td>248.095918</td>\n",
       "      <td>1142.0</td>\n",
       "      <td>6.535165</td>\n",
       "      <td>1273.0</td>\n",
       "      <td>0.00</td>\n",
       "      <td>0.0</td>\n",
       "      <td>0.0</td>\n",
       "    </tr>\n",
       "    <tr>\n",
       "      <th>2021-02-11</th>\n",
       "      <td>2021-02-11</td>\n",
       "      <td>NL</td>\n",
       "      <td>28</td>\n",
       "      <td>8233</td>\n",
       "      <td>548</td>\n",
       "      <td>2369</td>\n",
       "      <td>154</td>\n",
       "      <td>38785</td>\n",
       "      <td>1623</td>\n",
       "      <td>5621</td>\n",
       "      <td>...</td>\n",
       "      <td>27331.0</td>\n",
       "      <td>43502</td>\n",
       "      <td>148</td>\n",
       "      <td>248.942857</td>\n",
       "      <td>1108.0</td>\n",
       "      <td>6.340598</td>\n",
       "      <td>1247.0</td>\n",
       "      <td>0.00</td>\n",
       "      <td>0.0</td>\n",
       "      <td>0.0</td>\n",
       "    </tr>\n",
       "    <tr>\n",
       "      <th>2021-02-12</th>\n",
       "      <td>2021-02-12</td>\n",
       "      <td>NL</td>\n",
       "      <td>28</td>\n",
       "      <td>8263</td>\n",
       "      <td>539</td>\n",
       "      <td>2379</td>\n",
       "      <td>143</td>\n",
       "      <td>38929</td>\n",
       "      <td>1604</td>\n",
       "      <td>5642</td>\n",
       "      <td>...</td>\n",
       "      <td>27255.0</td>\n",
       "      <td>43625</td>\n",
       "      <td>123</td>\n",
       "      <td>249.646732</td>\n",
       "      <td>1053.0</td>\n",
       "      <td>6.025857</td>\n",
       "      <td>1206.0</td>\n",
       "      <td>0.00</td>\n",
       "      <td>0.0</td>\n",
       "      <td>0.0</td>\n",
       "    </tr>\n",
       "    <tr>\n",
       "      <th>2021-02-13</th>\n",
       "      <td>2021-02-13</td>\n",
       "      <td>NL</td>\n",
       "      <td>15</td>\n",
       "      <td>8280</td>\n",
       "      <td>528</td>\n",
       "      <td>2385</td>\n",
       "      <td>77</td>\n",
       "      <td>39027</td>\n",
       "      <td>1553</td>\n",
       "      <td>5656</td>\n",
       "      <td>...</td>\n",
       "      <td>27175.0</td>\n",
       "      <td>43654</td>\n",
       "      <td>29</td>\n",
       "      <td>249.812686</td>\n",
       "      <td>949.0</td>\n",
       "      <td>5.430711</td>\n",
       "      <td>1203.0</td>\n",
       "      <td>0.00</td>\n",
       "      <td>0.0</td>\n",
       "      <td>0.0</td>\n",
       "    </tr>\n",
       "    <tr>\n",
       "      <th>2021-02-14</th>\n",
       "      <td>2021-02-14</td>\n",
       "      <td>NL</td>\n",
       "      <td>8</td>\n",
       "      <td>8291</td>\n",
       "      <td>521</td>\n",
       "      <td>2386</td>\n",
       "      <td>23</td>\n",
       "      <td>39061</td>\n",
       "      <td>1508</td>\n",
       "      <td>5659</td>\n",
       "      <td>...</td>\n",
       "      <td>27419.0</td>\n",
       "      <td>43654</td>\n",
       "      <td>0</td>\n",
       "      <td>249.812686</td>\n",
       "      <td>842.0</td>\n",
       "      <td>4.818397</td>\n",
       "      <td>1160.0</td>\n",
       "      <td>0.00</td>\n",
       "      <td>0.0</td>\n",
       "      <td>0.0</td>\n",
       "    </tr>\n",
       "  </tbody>\n",
       "</table>\n",
       "<p>354 rows × 36 columns</p>\n",
       "</div>"
      ],
      "text/plain": [
       "                 Datum LandCode  NICE IC Bedden (intake)  \\\n",
       "Key                                                        \n",
       "2020-02-27  2020-02-27       NL                        1   \n",
       "2020-02-28  2020-02-28       NL                        0   \n",
       "2020-02-29  2020-02-29       NL                        0   \n",
       "2020-03-01  2020-03-01       NL                        2   \n",
       "2020-03-02  2020-03-02       NL                        0   \n",
       "...                ...      ...                      ...   \n",
       "2021-02-10  2021-02-10       NL                       30   \n",
       "2021-02-11  2021-02-11       NL                       28   \n",
       "2021-02-12  2021-02-12       NL                       28   \n",
       "2021-02-13  2021-02-13       NL                       15   \n",
       "2021-02-14  2021-02-14       NL                        8   \n",
       "\n",
       "            NICE IC Bedden (cumulatief)  NICE IC Bedden  NICE IC Overleden  \\\n",
       "Key                                                                          \n",
       "2020-02-27                           13              13                  0   \n",
       "2020-02-28                           14              14                  0   \n",
       "2020-02-29                           15              15                  0   \n",
       "2020-03-01                           17              17                  0   \n",
       "2020-03-02                           17              16                  0   \n",
       "...                                 ...             ...                ...   \n",
       "2021-02-10                         8202             551               2361   \n",
       "2021-02-11                         8233             548               2369   \n",
       "2021-02-12                         8263             539               2379   \n",
       "2021-02-13                         8280             528               2385   \n",
       "2021-02-14                         8291             521               2386   \n",
       "\n",
       "            NICE Ziekenhuis Bedden (intake)  \\\n",
       "Key                                           \n",
       "2020-02-27                                2   \n",
       "2020-02-28                                3   \n",
       "2020-02-29                                1   \n",
       "2020-03-01                                7   \n",
       "2020-03-02                               10   \n",
       "...                                     ...   \n",
       "2021-02-10                              179   \n",
       "2021-02-11                              154   \n",
       "2021-02-12                              143   \n",
       "2021-02-13                               77   \n",
       "2021-02-14                               23   \n",
       "\n",
       "            NICE Ziekenhuis Bedden (cumulatief)  NICE Ziekenhuis Bedden  \\\n",
       "Key                                                                       \n",
       "2020-02-27                                   65                      63   \n",
       "2020-02-28                                   68                      66   \n",
       "2020-02-29                                   69                      66   \n",
       "2020-03-01                                   77                      74   \n",
       "2020-03-02                                   88                      85   \n",
       "...                                         ...                     ...   \n",
       "2021-02-10                                38636                    1642   \n",
       "2021-02-11                                38785                    1623   \n",
       "2021-02-12                                38929                    1604   \n",
       "2021-02-13                                39027                    1553   \n",
       "2021-02-14                                39061                    1508   \n",
       "\n",
       "            NICE Ziekenhuis Overleden  ...  Positief getest week-1  \\\n",
       "Key                                    ...                           \n",
       "2020-02-27                          0  ...                     0.0   \n",
       "2020-02-28                          0  ...                     0.0   \n",
       "2020-02-29                          0  ...                     0.0   \n",
       "2020-03-01                          0  ...                     0.0   \n",
       "2020-03-02                          0  ...                     0.0   \n",
       "...                               ...  ...                     ...   \n",
       "2021-02-10                       5596  ...                 27821.0   \n",
       "2021-02-11                       5621  ...                 27331.0   \n",
       "2021-02-12                       5642  ...                 27255.0   \n",
       "2021-02-13                       5656  ...                 27175.0   \n",
       "2021-02-14                       5659  ...                 27419.0   \n",
       "\n",
       "            Ziekenhuisopnames  Ziekenhuisopnames (nieuw)  \\\n",
       "Key                                                        \n",
       "2020-02-27                  3                          3   \n",
       "2020-02-28                  6                          3   \n",
       "2020-02-29                  8                          2   \n",
       "2020-03-01                 17                          9   \n",
       "2020-03-02                 27                         10   \n",
       "...                       ...                        ...   \n",
       "2021-02-10              43354                        174   \n",
       "2021-02-11              43502                        148   \n",
       "2021-02-12              43625                        123   \n",
       "2021-02-13              43654                         29   \n",
       "2021-02-14              43654                          0   \n",
       "\n",
       "            Ziekenhuisopnames per 100.000  Ziekenhuisopnames 7d  \\\n",
       "Key                                                               \n",
       "2020-02-27                       0.017168                   0.0   \n",
       "2020-02-28                       0.034335                   0.0   \n",
       "2020-02-29                       0.045780                   0.0   \n",
       "2020-03-01                       0.097284                   0.0   \n",
       "2020-03-02                       0.154509                   0.0   \n",
       "...                                   ...                   ...   \n",
       "2021-02-10                     248.095918                1142.0   \n",
       "2021-02-11                     248.942857                1108.0   \n",
       "2021-02-12                     249.646732                1053.0   \n",
       "2021-02-13                     249.812686                 949.0   \n",
       "2021-02-14                     249.812686                 842.0   \n",
       "\n",
       "            Ziekenhuisopnames 7d per 100.000  Ziekenhuisopnames week-1  \\\n",
       "Key                                                                      \n",
       "2020-02-27                          0.000000                       0.0   \n",
       "2020-02-28                          0.000000                       0.0   \n",
       "2020-02-29                          0.000000                       0.0   \n",
       "2020-03-01                          0.000000                       0.0   \n",
       "2020-03-02                          0.000000                       0.0   \n",
       "...                                      ...                       ...   \n",
       "2021-02-10                          6.535165                    1273.0   \n",
       "2021-02-11                          6.340598                    1247.0   \n",
       "2021-02-12                          6.025857                    1206.0   \n",
       "2021-02-13                          5.430711                    1203.0   \n",
       "2021-02-14                          4.818397                    1160.0   \n",
       "\n",
       "            Reproductiegetal  Besmettelijk  Besmettelijk per 100.000  \n",
       "Key                                                                   \n",
       "2020-02-27              2.06        6501.0                      37.0  \n",
       "2020-02-28              2.10        8184.0                      47.0  \n",
       "2020-02-29              1.99       10266.0                      59.0  \n",
       "2020-03-01              1.83       12757.0                      73.0  \n",
       "2020-03-02              1.79       15691.0                      90.0  \n",
       "...                      ...           ...                       ...  \n",
       "2021-02-10              0.00           0.0                       0.0  \n",
       "2021-02-11              0.00           0.0                       0.0  \n",
       "2021-02-12              0.00           0.0                       0.0  \n",
       "2021-02-13              0.00           0.0                       0.0  \n",
       "2021-02-14              0.00           0.0                       0.0  \n",
       "\n",
       "[354 rows x 36 columns]"
      ]
     },
     "metadata": {},
     "output_type": "display_data"
    }
   ],
   "source": [
    "@run('reproductiegetal en besmettelijkheid')\n",
    "def cell():\n",
    "  global dagoverzicht\n",
    "\n",
    "  datasets = [\n",
    "    ('COVID-19_reproductiegetal', 'Rt_avg', 'Reproductiegetal'),\n",
    "    ('COVID-19_prevalentie', 'prev_avg', 'Besmettelijk'),\n",
    "  ]\n",
    "  for dataset, source, target in datasets:\n",
    "    # laad de dataset\n",
    "    df = RIVM.json(dataset).rename(columns={source: target})\n",
    "    # Date naar datetime index voor de merge\n",
    "    df['Date'] = pd.to_datetime(df['Date'])\n",
    "    df.set_index('Date', inplace=True)\n",
    "    # merge alleen de target kolom\n",
    "    df = df[[target]]\n",
    "    # voeg to aan dagoverzicht\n",
    "    dagoverzicht = dagoverzicht.merge(df, how='left', left_index=True, right_index=True)\n",
    "    # vul lege waarden met 0\n",
    "    dagoverzicht[target] = dagoverzicht[target].fillna(0)\n",
    "  # per 100k factor\n",
    "  dagoverzicht['Besmettelijk per 100.000'] = (dagoverzicht['Besmettelijk']  * bevolking['per 100k']).round(0)\n",
    "  display(dagoverzicht)"
   ]
  },
  {
   "cell_type": "code",
   "execution_count": 6,
   "id": "other-olive",
   "metadata": {
    "execution": {
     "iopub.execute_input": "2021-02-14T17:10:57.770997Z",
     "iopub.status.busy": "2021-02-14T17:10:57.770380Z",
     "iopub.status.idle": "2021-02-14T17:10:58.474338Z",
     "shell.execute_reply": "2021-02-14T17:10:58.474878Z"
    },
    "lines_to_next_cell": 1,
    "papermill": {
     "duration": 0.730144,
     "end_time": "2021-02-14T17:10:58.475069",
     "exception": false,
     "start_time": "2021-02-14T17:10:57.744925",
     "status": "completed"
    },
    "tags": []
   },
   "outputs": [
    {
     "name": "stdout",
     "output_type": "stream",
     "text": [
      "uitgevoerde testen\n"
     ]
    },
    {
     "name": "stdout",
     "output_type": "stream",
     "text": [
      "rivm/COVID-19_uitgevoerde_testen-2021-02-14@14-15.csv exists\n",
      "loading rivm/COVID-19_uitgevoerde_testen-2021-02-14@14-15.csv.gz\n"
     ]
    },
    {
     "data": {
      "text/html": [
       "<div>\n",
       "<style scoped>\n",
       "    .dataframe tbody tr th:only-of-type {\n",
       "        vertical-align: middle;\n",
       "    }\n",
       "\n",
       "    .dataframe tbody tr th {\n",
       "        vertical-align: top;\n",
       "    }\n",
       "\n",
       "    .dataframe thead th {\n",
       "        text-align: right;\n",
       "    }\n",
       "</style>\n",
       "<table border=\"1\" class=\"dataframe\">\n",
       "  <thead>\n",
       "    <tr style=\"text-align: right;\">\n",
       "      <th></th>\n",
       "      <th>GGD getest</th>\n",
       "      <th>GGD getest positief</th>\n",
       "    </tr>\n",
       "    <tr>\n",
       "      <th>Datum</th>\n",
       "      <th></th>\n",
       "      <th></th>\n",
       "    </tr>\n",
       "  </thead>\n",
       "  <tbody>\n",
       "    <tr>\n",
       "      <th>2020-06-01</th>\n",
       "      <td>1552</td>\n",
       "      <td>73</td>\n",
       "    </tr>\n",
       "    <tr>\n",
       "      <th>2020-06-02</th>\n",
       "      <td>6819</td>\n",
       "      <td>203</td>\n",
       "    </tr>\n",
       "    <tr>\n",
       "      <th>2020-06-03</th>\n",
       "      <td>8867</td>\n",
       "      <td>165</td>\n",
       "    </tr>\n",
       "    <tr>\n",
       "      <th>2020-06-04</th>\n",
       "      <td>9339</td>\n",
       "      <td>171</td>\n",
       "    </tr>\n",
       "    <tr>\n",
       "      <th>2020-06-05</th>\n",
       "      <td>9464</td>\n",
       "      <td>135</td>\n",
       "    </tr>\n",
       "    <tr>\n",
       "      <th>...</th>\n",
       "      <td>...</td>\n",
       "      <td>...</td>\n",
       "    </tr>\n",
       "    <tr>\n",
       "      <th>2021-02-08</th>\n",
       "      <td>24488</td>\n",
       "      <td>3010</td>\n",
       "    </tr>\n",
       "    <tr>\n",
       "      <th>2021-02-09</th>\n",
       "      <td>30912</td>\n",
       "      <td>3588</td>\n",
       "    </tr>\n",
       "    <tr>\n",
       "      <th>2021-02-10</th>\n",
       "      <td>32406</td>\n",
       "      <td>3635</td>\n",
       "    </tr>\n",
       "    <tr>\n",
       "      <th>2021-02-11</th>\n",
       "      <td>31096</td>\n",
       "      <td>3271</td>\n",
       "    </tr>\n",
       "    <tr>\n",
       "      <th>2021-02-12</th>\n",
       "      <td>27615</td>\n",
       "      <td>2931</td>\n",
       "    </tr>\n",
       "  </tbody>\n",
       "</table>\n",
       "<p>257 rows × 2 columns</p>\n",
       "</div>"
      ],
      "text/plain": [
       "            GGD getest  GGD getest positief\n",
       "Datum                                      \n",
       "2020-06-01        1552                   73\n",
       "2020-06-02        6819                  203\n",
       "2020-06-03        8867                  165\n",
       "2020-06-04        9339                  171\n",
       "2020-06-05        9464                  135\n",
       "...                ...                  ...\n",
       "2021-02-08       24488                 3010\n",
       "2021-02-09       30912                 3588\n",
       "2021-02-10       32406                 3635\n",
       "2021-02-11       31096                 3271\n",
       "2021-02-12       27615                 2931\n",
       "\n",
       "[257 rows x 2 columns]"
      ]
     },
     "metadata": {},
     "output_type": "display_data"
    },
    {
     "data": {
      "text/html": [
       "<div>\n",
       "<style scoped>\n",
       "    .dataframe tbody tr th:only-of-type {\n",
       "        vertical-align: middle;\n",
       "    }\n",
       "\n",
       "    .dataframe tbody tr th {\n",
       "        vertical-align: top;\n",
       "    }\n",
       "\n",
       "    .dataframe thead th {\n",
       "        text-align: right;\n",
       "    }\n",
       "</style>\n",
       "<table border=\"1\" class=\"dataframe\">\n",
       "  <thead>\n",
       "    <tr style=\"text-align: right;\">\n",
       "      <th></th>\n",
       "      <th>Datum</th>\n",
       "      <th>LandCode</th>\n",
       "      <th>NICE IC Bedden (intake)</th>\n",
       "      <th>NICE IC Bedden (cumulatief)</th>\n",
       "      <th>NICE IC Bedden</th>\n",
       "      <th>NICE IC Overleden</th>\n",
       "      <th>NICE Ziekenhuis Bedden (intake)</th>\n",
       "      <th>NICE Ziekenhuis Bedden (cumulatief)</th>\n",
       "      <th>NICE Ziekenhuis Bedden</th>\n",
       "      <th>NICE Ziekenhuis Overleden</th>\n",
       "      <th>...</th>\n",
       "      <th>Besmettelijk per 100.000</th>\n",
       "      <th>GGD getest</th>\n",
       "      <th>GGD getest positief</th>\n",
       "      <th>GGD percentage positief</th>\n",
       "      <th>GGD getest (7 daags)</th>\n",
       "      <th>GGD getest positief (7 daags)</th>\n",
       "      <th>GGD percentage positief (7 daags)</th>\n",
       "      <th>GGD getest (cumulatief)</th>\n",
       "      <th>GGD getest positief (cumulatief)</th>\n",
       "      <th>GGD percentage positief (cumulatief)</th>\n",
       "    </tr>\n",
       "    <tr>\n",
       "      <th>Key</th>\n",
       "      <th></th>\n",
       "      <th></th>\n",
       "      <th></th>\n",
       "      <th></th>\n",
       "      <th></th>\n",
       "      <th></th>\n",
       "      <th></th>\n",
       "      <th></th>\n",
       "      <th></th>\n",
       "      <th></th>\n",
       "      <th></th>\n",
       "      <th></th>\n",
       "      <th></th>\n",
       "      <th></th>\n",
       "      <th></th>\n",
       "      <th></th>\n",
       "      <th></th>\n",
       "      <th></th>\n",
       "      <th></th>\n",
       "      <th></th>\n",
       "      <th></th>\n",
       "    </tr>\n",
       "  </thead>\n",
       "  <tbody>\n",
       "    <tr>\n",
       "      <th>2020-02-27</th>\n",
       "      <td>2020-02-27</td>\n",
       "      <td>NL</td>\n",
       "      <td>1</td>\n",
       "      <td>13</td>\n",
       "      <td>13</td>\n",
       "      <td>0</td>\n",
       "      <td>2</td>\n",
       "      <td>65</td>\n",
       "      <td>63</td>\n",
       "      <td>0</td>\n",
       "      <td>...</td>\n",
       "      <td>37.0</td>\n",
       "      <td>0.0</td>\n",
       "      <td>0.0</td>\n",
       "      <td>0.0</td>\n",
       "      <td>0.0</td>\n",
       "      <td>0.0</td>\n",
       "      <td>0.0</td>\n",
       "      <td>0.0</td>\n",
       "      <td>0.0</td>\n",
       "      <td>0.0</td>\n",
       "    </tr>\n",
       "    <tr>\n",
       "      <th>2020-02-28</th>\n",
       "      <td>2020-02-28</td>\n",
       "      <td>NL</td>\n",
       "      <td>0</td>\n",
       "      <td>14</td>\n",
       "      <td>14</td>\n",
       "      <td>0</td>\n",
       "      <td>3</td>\n",
       "      <td>68</td>\n",
       "      <td>66</td>\n",
       "      <td>0</td>\n",
       "      <td>...</td>\n",
       "      <td>47.0</td>\n",
       "      <td>0.0</td>\n",
       "      <td>0.0</td>\n",
       "      <td>0.0</td>\n",
       "      <td>0.0</td>\n",
       "      <td>0.0</td>\n",
       "      <td>0.0</td>\n",
       "      <td>0.0</td>\n",
       "      <td>0.0</td>\n",
       "      <td>0.0</td>\n",
       "    </tr>\n",
       "    <tr>\n",
       "      <th>2020-02-29</th>\n",
       "      <td>2020-02-29</td>\n",
       "      <td>NL</td>\n",
       "      <td>0</td>\n",
       "      <td>15</td>\n",
       "      <td>15</td>\n",
       "      <td>0</td>\n",
       "      <td>1</td>\n",
       "      <td>69</td>\n",
       "      <td>66</td>\n",
       "      <td>0</td>\n",
       "      <td>...</td>\n",
       "      <td>59.0</td>\n",
       "      <td>0.0</td>\n",
       "      <td>0.0</td>\n",
       "      <td>0.0</td>\n",
       "      <td>0.0</td>\n",
       "      <td>0.0</td>\n",
       "      <td>0.0</td>\n",
       "      <td>0.0</td>\n",
       "      <td>0.0</td>\n",
       "      <td>0.0</td>\n",
       "    </tr>\n",
       "    <tr>\n",
       "      <th>2020-03-01</th>\n",
       "      <td>2020-03-01</td>\n",
       "      <td>NL</td>\n",
       "      <td>2</td>\n",
       "      <td>17</td>\n",
       "      <td>17</td>\n",
       "      <td>0</td>\n",
       "      <td>7</td>\n",
       "      <td>77</td>\n",
       "      <td>74</td>\n",
       "      <td>0</td>\n",
       "      <td>...</td>\n",
       "      <td>73.0</td>\n",
       "      <td>0.0</td>\n",
       "      <td>0.0</td>\n",
       "      <td>0.0</td>\n",
       "      <td>0.0</td>\n",
       "      <td>0.0</td>\n",
       "      <td>0.0</td>\n",
       "      <td>0.0</td>\n",
       "      <td>0.0</td>\n",
       "      <td>0.0</td>\n",
       "    </tr>\n",
       "    <tr>\n",
       "      <th>2020-03-02</th>\n",
       "      <td>2020-03-02</td>\n",
       "      <td>NL</td>\n",
       "      <td>0</td>\n",
       "      <td>17</td>\n",
       "      <td>16</td>\n",
       "      <td>0</td>\n",
       "      <td>10</td>\n",
       "      <td>88</td>\n",
       "      <td>85</td>\n",
       "      <td>0</td>\n",
       "      <td>...</td>\n",
       "      <td>90.0</td>\n",
       "      <td>0.0</td>\n",
       "      <td>0.0</td>\n",
       "      <td>0.0</td>\n",
       "      <td>0.0</td>\n",
       "      <td>0.0</td>\n",
       "      <td>0.0</td>\n",
       "      <td>0.0</td>\n",
       "      <td>0.0</td>\n",
       "      <td>0.0</td>\n",
       "    </tr>\n",
       "    <tr>\n",
       "      <th>2020-03-03</th>\n",
       "      <td>2020-03-03</td>\n",
       "      <td>NL</td>\n",
       "      <td>1</td>\n",
       "      <td>19</td>\n",
       "      <td>18</td>\n",
       "      <td>0</td>\n",
       "      <td>8</td>\n",
       "      <td>96</td>\n",
       "      <td>92</td>\n",
       "      <td>0</td>\n",
       "      <td>...</td>\n",
       "      <td>109.0</td>\n",
       "      <td>0.0</td>\n",
       "      <td>0.0</td>\n",
       "      <td>0.0</td>\n",
       "      <td>0.0</td>\n",
       "      <td>0.0</td>\n",
       "      <td>0.0</td>\n",
       "      <td>0.0</td>\n",
       "      <td>0.0</td>\n",
       "      <td>0.0</td>\n",
       "    </tr>\n",
       "    <tr>\n",
       "      <th>2020-03-04</th>\n",
       "      <td>2020-03-04</td>\n",
       "      <td>NL</td>\n",
       "      <td>3</td>\n",
       "      <td>22</td>\n",
       "      <td>21</td>\n",
       "      <td>0</td>\n",
       "      <td>10</td>\n",
       "      <td>109</td>\n",
       "      <td>104</td>\n",
       "      <td>0</td>\n",
       "      <td>...</td>\n",
       "      <td>131.0</td>\n",
       "      <td>0.0</td>\n",
       "      <td>0.0</td>\n",
       "      <td>0.0</td>\n",
       "      <td>0.0</td>\n",
       "      <td>0.0</td>\n",
       "      <td>0.0</td>\n",
       "      <td>0.0</td>\n",
       "      <td>0.0</td>\n",
       "      <td>0.0</td>\n",
       "    </tr>\n",
       "    <tr>\n",
       "      <th>2020-03-05</th>\n",
       "      <td>2020-03-05</td>\n",
       "      <td>NL</td>\n",
       "      <td>1</td>\n",
       "      <td>24</td>\n",
       "      <td>21</td>\n",
       "      <td>0</td>\n",
       "      <td>12</td>\n",
       "      <td>121</td>\n",
       "      <td>114</td>\n",
       "      <td>0</td>\n",
       "      <td>...</td>\n",
       "      <td>156.0</td>\n",
       "      <td>0.0</td>\n",
       "      <td>0.0</td>\n",
       "      <td>0.0</td>\n",
       "      <td>0.0</td>\n",
       "      <td>0.0</td>\n",
       "      <td>0.0</td>\n",
       "      <td>0.0</td>\n",
       "      <td>0.0</td>\n",
       "      <td>0.0</td>\n",
       "    </tr>\n",
       "    <tr>\n",
       "      <th>2020-03-06</th>\n",
       "      <td>2020-03-06</td>\n",
       "      <td>NL</td>\n",
       "      <td>4</td>\n",
       "      <td>28</td>\n",
       "      <td>25</td>\n",
       "      <td>0</td>\n",
       "      <td>19</td>\n",
       "      <td>138</td>\n",
       "      <td>130</td>\n",
       "      <td>0</td>\n",
       "      <td>...</td>\n",
       "      <td>184.0</td>\n",
       "      <td>0.0</td>\n",
       "      <td>0.0</td>\n",
       "      <td>0.0</td>\n",
       "      <td>0.0</td>\n",
       "      <td>0.0</td>\n",
       "      <td>0.0</td>\n",
       "      <td>0.0</td>\n",
       "      <td>0.0</td>\n",
       "      <td>0.0</td>\n",
       "    </tr>\n",
       "    <tr>\n",
       "      <th>2020-03-07</th>\n",
       "      <td>2020-03-07</td>\n",
       "      <td>NL</td>\n",
       "      <td>3</td>\n",
       "      <td>31</td>\n",
       "      <td>27</td>\n",
       "      <td>0</td>\n",
       "      <td>7</td>\n",
       "      <td>146</td>\n",
       "      <td>138</td>\n",
       "      <td>1</td>\n",
       "      <td>...</td>\n",
       "      <td>217.0</td>\n",
       "      <td>0.0</td>\n",
       "      <td>0.0</td>\n",
       "      <td>0.0</td>\n",
       "      <td>0.0</td>\n",
       "      <td>0.0</td>\n",
       "      <td>0.0</td>\n",
       "      <td>0.0</td>\n",
       "      <td>0.0</td>\n",
       "      <td>0.0</td>\n",
       "    </tr>\n",
       "  </tbody>\n",
       "</table>\n",
       "<p>10 rows × 45 columns</p>\n",
       "</div>"
      ],
      "text/plain": [
       "                 Datum LandCode  NICE IC Bedden (intake)  \\\n",
       "Key                                                        \n",
       "2020-02-27  2020-02-27       NL                        1   \n",
       "2020-02-28  2020-02-28       NL                        0   \n",
       "2020-02-29  2020-02-29       NL                        0   \n",
       "2020-03-01  2020-03-01       NL                        2   \n",
       "2020-03-02  2020-03-02       NL                        0   \n",
       "2020-03-03  2020-03-03       NL                        1   \n",
       "2020-03-04  2020-03-04       NL                        3   \n",
       "2020-03-05  2020-03-05       NL                        1   \n",
       "2020-03-06  2020-03-06       NL                        4   \n",
       "2020-03-07  2020-03-07       NL                        3   \n",
       "\n",
       "            NICE IC Bedden (cumulatief)  NICE IC Bedden  NICE IC Overleden  \\\n",
       "Key                                                                          \n",
       "2020-02-27                           13              13                  0   \n",
       "2020-02-28                           14              14                  0   \n",
       "2020-02-29                           15              15                  0   \n",
       "2020-03-01                           17              17                  0   \n",
       "2020-03-02                           17              16                  0   \n",
       "2020-03-03                           19              18                  0   \n",
       "2020-03-04                           22              21                  0   \n",
       "2020-03-05                           24              21                  0   \n",
       "2020-03-06                           28              25                  0   \n",
       "2020-03-07                           31              27                  0   \n",
       "\n",
       "            NICE Ziekenhuis Bedden (intake)  \\\n",
       "Key                                           \n",
       "2020-02-27                                2   \n",
       "2020-02-28                                3   \n",
       "2020-02-29                                1   \n",
       "2020-03-01                                7   \n",
       "2020-03-02                               10   \n",
       "2020-03-03                                8   \n",
       "2020-03-04                               10   \n",
       "2020-03-05                               12   \n",
       "2020-03-06                               19   \n",
       "2020-03-07                                7   \n",
       "\n",
       "            NICE Ziekenhuis Bedden (cumulatief)  NICE Ziekenhuis Bedden  \\\n",
       "Key                                                                       \n",
       "2020-02-27                                   65                      63   \n",
       "2020-02-28                                   68                      66   \n",
       "2020-02-29                                   69                      66   \n",
       "2020-03-01                                   77                      74   \n",
       "2020-03-02                                   88                      85   \n",
       "2020-03-03                                   96                      92   \n",
       "2020-03-04                                  109                     104   \n",
       "2020-03-05                                  121                     114   \n",
       "2020-03-06                                  138                     130   \n",
       "2020-03-07                                  146                     138   \n",
       "\n",
       "            NICE Ziekenhuis Overleden  ...  Besmettelijk per 100.000  \\\n",
       "Key                                    ...                             \n",
       "2020-02-27                          0  ...                      37.0   \n",
       "2020-02-28                          0  ...                      47.0   \n",
       "2020-02-29                          0  ...                      59.0   \n",
       "2020-03-01                          0  ...                      73.0   \n",
       "2020-03-02                          0  ...                      90.0   \n",
       "2020-03-03                          0  ...                     109.0   \n",
       "2020-03-04                          0  ...                     131.0   \n",
       "2020-03-05                          0  ...                     156.0   \n",
       "2020-03-06                          0  ...                     184.0   \n",
       "2020-03-07                          1  ...                     217.0   \n",
       "\n",
       "            GGD getest  GGD getest positief  GGD percentage positief  \\\n",
       "Key                                                                    \n",
       "2020-02-27         0.0                  0.0                      0.0   \n",
       "2020-02-28         0.0                  0.0                      0.0   \n",
       "2020-02-29         0.0                  0.0                      0.0   \n",
       "2020-03-01         0.0                  0.0                      0.0   \n",
       "2020-03-02         0.0                  0.0                      0.0   \n",
       "2020-03-03         0.0                  0.0                      0.0   \n",
       "2020-03-04         0.0                  0.0                      0.0   \n",
       "2020-03-05         0.0                  0.0                      0.0   \n",
       "2020-03-06         0.0                  0.0                      0.0   \n",
       "2020-03-07         0.0                  0.0                      0.0   \n",
       "\n",
       "            GGD getest (7 daags)  GGD getest positief (7 daags)  \\\n",
       "Key                                                               \n",
       "2020-02-27                   0.0                            0.0   \n",
       "2020-02-28                   0.0                            0.0   \n",
       "2020-02-29                   0.0                            0.0   \n",
       "2020-03-01                   0.0                            0.0   \n",
       "2020-03-02                   0.0                            0.0   \n",
       "2020-03-03                   0.0                            0.0   \n",
       "2020-03-04                   0.0                            0.0   \n",
       "2020-03-05                   0.0                            0.0   \n",
       "2020-03-06                   0.0                            0.0   \n",
       "2020-03-07                   0.0                            0.0   \n",
       "\n",
       "            GGD percentage positief (7 daags)  GGD getest (cumulatief)  \\\n",
       "Key                                                                      \n",
       "2020-02-27                                0.0                      0.0   \n",
       "2020-02-28                                0.0                      0.0   \n",
       "2020-02-29                                0.0                      0.0   \n",
       "2020-03-01                                0.0                      0.0   \n",
       "2020-03-02                                0.0                      0.0   \n",
       "2020-03-03                                0.0                      0.0   \n",
       "2020-03-04                                0.0                      0.0   \n",
       "2020-03-05                                0.0                      0.0   \n",
       "2020-03-06                                0.0                      0.0   \n",
       "2020-03-07                                0.0                      0.0   \n",
       "\n",
       "            GGD getest positief (cumulatief)  \\\n",
       "Key                                            \n",
       "2020-02-27                               0.0   \n",
       "2020-02-28                               0.0   \n",
       "2020-02-29                               0.0   \n",
       "2020-03-01                               0.0   \n",
       "2020-03-02                               0.0   \n",
       "2020-03-03                               0.0   \n",
       "2020-03-04                               0.0   \n",
       "2020-03-05                               0.0   \n",
       "2020-03-06                               0.0   \n",
       "2020-03-07                               0.0   \n",
       "\n",
       "            GGD percentage positief (cumulatief)  \n",
       "Key                                               \n",
       "2020-02-27                                   0.0  \n",
       "2020-02-28                                   0.0  \n",
       "2020-02-29                                   0.0  \n",
       "2020-03-01                                   0.0  \n",
       "2020-03-02                                   0.0  \n",
       "2020-03-03                                   0.0  \n",
       "2020-03-04                                   0.0  \n",
       "2020-03-05                                   0.0  \n",
       "2020-03-06                                   0.0  \n",
       "2020-03-07                                   0.0  \n",
       "\n",
       "[10 rows x 45 columns]"
      ]
     },
     "metadata": {},
     "output_type": "display_data"
    }
   ],
   "source": [
    "@run('uitgevoerde testen')\n",
    "def cell():\n",
    "  df = RIVM.csv('COVID-19_uitgevoerde_testen').rename(columns={\n",
    "    'Date_of_statistics': 'Datum',\n",
    "    'Tested_with_result': 'GGD getest',\n",
    "    'Tested_positive': 'GGD getest positief',\n",
    "  })\n",
    "  df['Datum'] = pd.to_datetime(df.Datum)\n",
    "  df = df.groupby(['Datum']).agg({'GGD getest': 'sum', 'GGD getest positief': 'sum'})\n",
    "  display(df)\n",
    "\n",
    "  global dagoverzicht\n",
    "  columns = dagoverzicht.columns\n",
    "\n",
    "  dagoverzicht = dagoverzicht.merge(df, how='left', left_index=True, right_index=True)\n",
    "\n",
    "  dagoverzicht['GGD percentage positief'] = (dagoverzicht['GGD getest positief'] / dagoverzicht['GGD getest']).fillna(0)\n",
    "\n",
    "  dagoverzicht['GGD getest (7 daags)'] = dagoverzicht['GGD getest'].rolling(7).sum().fillna(0)\n",
    "  dagoverzicht['GGD getest positief (7 daags)'] = dagoverzicht['GGD getest positief'].rolling(7).sum().fillna(0)\n",
    "\n",
    "  dagoverzicht['GGD percentage positief (7 daags)'] = (dagoverzicht['GGD getest positief (7 daags)'] / dagoverzicht['GGD getest (7 daags)']).fillna(0)\n",
    "\n",
    "  dagoverzicht['GGD getest (cumulatief)'] = dagoverzicht['GGD getest'].cumsum()\n",
    "  dagoverzicht['GGD getest positief (cumulatief)'] = dagoverzicht['GGD getest positief'].cumsum()\n",
    "\n",
    "  dagoverzicht['GGD percentage positief (cumulatief)'] = (dagoverzicht['GGD getest positief (cumulatief)'] / dagoverzicht['GGD getest (cumulatief)']).fillna(0)\n",
    "\n",
    "  # fill 0 *after* the calculations above to prevent summing 'GGD getest (7 daags) from the starting date of the 'GGD getest' series\n",
    "  for col in dagoverzicht.columns:\n",
    "    # only zero out new columns\n",
    "    if col in columns: continue\n",
    "    dagoverzicht[col] = dagoverzicht[col].fillna(0)\n",
    "\n",
    "  display(dagoverzicht.head(10))"
   ]
  },
  {
   "cell_type": "code",
   "execution_count": 7,
   "id": "funny-water",
   "metadata": {
    "execution": {
     "iopub.execute_input": "2021-02-14T17:10:58.520590Z",
     "iopub.status.busy": "2021-02-14T17:10:58.518787Z",
     "iopub.status.idle": "2021-02-14T17:10:59.076137Z",
     "shell.execute_reply": "2021-02-14T17:10:59.075246Z"
    },
    "lines_to_next_cell": 1,
    "papermill": {
     "duration": 0.584577,
     "end_time": "2021-02-14T17:10:59.076283",
     "exception": false,
     "start_time": "2021-02-14T17:10:58.491706",
     "status": "completed"
    },
    "tags": []
   },
   "outputs": [
    {
     "name": "stdout",
     "output_type": "stream",
     "text": [
      "LCPS\n"
     ]
    },
    {
     "name": "stdout",
     "output_type": "stream",
     "text": [
      "lcps/covid-19-2021-02-14@13-00.csv exists\n",
      "loading lcps/covid-19-2021-02-14@13-00.csv.gz\n"
     ]
    }
   ],
   "source": [
    "@run('LCPS')\n",
    "def cell():\n",
    "  # laad dataset\n",
    "  df = LCPS.csv('covid-19').rename(columns={\n",
    "    'IC_Bedden_COVID': 'LCPS IC Bedden COVID',\n",
    "    'IC_Bedden_Non_COVID': 'LCPS IC Bedden Non COVID',\n",
    "    'Kliniek_Bedden': 'LCPS Kliniek Bedden COVID',\n",
    "    'IC_Nieuwe_Opnames_COVID': 'LCPS IC Nieuwe Opnames COVID',\n",
    "    'Kliniek_Nieuwe_Opnames_COVID': 'LCPS Kliniek Nieuwe Opnames COVID',\n",
    "  })\n",
    "  # datum naar datetime index voor merge\n",
    "  df['Datum'] = pd.to_datetime(df['Datum'], format='%d-%m-%Y')\n",
    "  df.set_index('Datum', inplace=True)\n",
    "\n",
    "  # sommeer op datum\n",
    "  df = df.groupby(['Datum']).agg({col: 'sum' for col in df.columns})\n",
    "\n",
    "  # toename = waarde - vorige\n",
    "  df['LCPS IC Bedden COVID (toename)'] = (df['LCPS IC Bedden COVID'] - df['LCPS IC Bedden COVID'].shift(1)).fillna(0)\n",
    "  df['LCPS Kliniek Bedden COVID (toename)'] = (df['LCPS Kliniek Bedden COVID'] - df['LCPS Kliniek Bedden COVID'].shift(1)).fillna(0)\n",
    "\n",
    "  global dagoverzicht\n",
    "  # voeg toe aan dagoverzicht\n",
    "  dagoverzicht = dagoverzicht.merge(df, how='left', left_index=True, right_index=True)\n",
    "  for col in df.columns:\n",
    "    # vervang lege waarden door 0\n",
    "    dagoverzicht[col] = dagoverzicht[col].fillna(0).astype(int)"
   ]
  },
  {
   "cell_type": "code",
   "execution_count": 8,
   "id": "mature-lexington",
   "metadata": {
    "execution": {
     "iopub.execute_input": "2021-02-14T17:10:59.120171Z",
     "iopub.status.busy": "2021-02-14T17:10:59.119452Z",
     "iopub.status.idle": "2021-02-14T17:10:59.351683Z",
     "shell.execute_reply": "2021-02-14T17:10:59.351125Z"
    },
    "lines_to_next_cell": 1,
    "papermill": {
     "duration": 0.257457,
     "end_time": "2021-02-14T17:10:59.351824",
     "exception": false,
     "start_time": "2021-02-14T17:10:59.094367",
     "status": "completed"
    },
    "tags": []
   },
   "outputs": [
    {
     "name": "stdout",
     "output_type": "stream",
     "text": [
      "corrections\n",
      "https://api.github.com/repos/mzelst/covid-19/contents/corrections/corrections_perday.csv\n"
     ]
    },
    {
     "name": "stdout",
     "output_type": "stream",
     "text": [
      "github/corrections_perday-2021-02-14@14-23.csv exists\n"
     ]
    }
   ],
   "source": [
    "@run('corrections')\n",
    "def cell():\n",
    "  # laad corrections van mzelst\n",
    "  df = GitHub.csv('mzelst/covid-19/contents/corrections/corrections_perday.csv')\n",
    "  # date naar datetime index voor merge\n",
    "  df['date'] = pd.to_datetime(df.date)\n",
    "  df.set_index('date', inplace=True)\n",
    "  columns =  {\n",
    "    'net.infection': 'Positief getest (toename)',\n",
    "    'net.hospitals': 'Ziekenhuisopnames (toename)',\n",
    "    'net.deaths': 'Overleden (toename)'\n",
    "  }\n",
    "  # rename kolommen naar onze namen\n",
    "  df = df.rename(columns=columns)[list(columns.values())]\n",
    "\n",
    "  global dagoverzicht\n",
    "  # voeg toe aan dagoverxicht\n",
    "  dagoverzicht = dagoverzicht.merge(df, how='left', left_index=True, right_index=True)\n",
    "  for col in columns.values():\n",
    "    # set lege waarden op 0\n",
    "    dagoverzicht[col] = dagoverzicht[col].fillna(0).astype(int)"
   ]
  },
  {
   "cell_type": "code",
   "execution_count": 9,
   "id": "arranged-request",
   "metadata": {
    "execution": {
     "iopub.execute_input": "2021-02-14T17:10:59.393216Z",
     "iopub.status.busy": "2021-02-14T17:10:59.391914Z",
     "iopub.status.idle": "2021-02-14T17:10:59.444679Z",
     "shell.execute_reply": "2021-02-14T17:10:59.445188Z"
    },
    "lines_to_next_cell": 1,
    "papermill": {
     "duration": 0.075186,
     "end_time": "2021-02-14T17:10:59.445353",
     "exception": false,
     "start_time": "2021-02-14T17:10:59.370167",
     "status": "completed"
    },
    "tags": []
   },
   "outputs": [
    {
     "name": "stdout",
     "output_type": "stream",
     "text": [
      "Personen\n"
     ]
    },
    {
     "data": {
      "text/html": [
       "<div>\n",
       "<style scoped>\n",
       "    .dataframe tbody tr th:only-of-type {\n",
       "        vertical-align: middle;\n",
       "    }\n",
       "\n",
       "    .dataframe tbody tr th {\n",
       "        vertical-align: top;\n",
       "    }\n",
       "\n",
       "    .dataframe thead th {\n",
       "        text-align: right;\n",
       "    }\n",
       "</style>\n",
       "<table border=\"1\" class=\"dataframe\">\n",
       "  <thead>\n",
       "    <tr style=\"text-align: right;\">\n",
       "      <th></th>\n",
       "      <th>Datum</th>\n",
       "      <th>LandCode</th>\n",
       "      <th>NICE IC Bedden (intake)</th>\n",
       "      <th>NICE IC Bedden (cumulatief)</th>\n",
       "      <th>NICE IC Bedden</th>\n",
       "      <th>NICE IC Overleden</th>\n",
       "      <th>NICE Ziekenhuis Bedden (intake)</th>\n",
       "      <th>NICE Ziekenhuis Bedden (cumulatief)</th>\n",
       "      <th>NICE Ziekenhuis Bedden</th>\n",
       "      <th>NICE Ziekenhuis Overleden</th>\n",
       "      <th>...</th>\n",
       "      <th>LCPS IC Bedden Non COVID</th>\n",
       "      <th>LCPS Kliniek Bedden COVID</th>\n",
       "      <th>LCPS IC Nieuwe Opnames COVID</th>\n",
       "      <th>LCPS Kliniek Nieuwe Opnames COVID</th>\n",
       "      <th>LCPS IC Bedden COVID (toename)</th>\n",
       "      <th>LCPS Kliniek Bedden COVID (toename)</th>\n",
       "      <th>Positief getest (toename)</th>\n",
       "      <th>Ziekenhuisopnames (toename)</th>\n",
       "      <th>Overleden (toename)</th>\n",
       "      <th>Personen</th>\n",
       "    </tr>\n",
       "    <tr>\n",
       "      <th>Key</th>\n",
       "      <th></th>\n",
       "      <th></th>\n",
       "      <th></th>\n",
       "      <th></th>\n",
       "      <th></th>\n",
       "      <th></th>\n",
       "      <th></th>\n",
       "      <th></th>\n",
       "      <th></th>\n",
       "      <th></th>\n",
       "      <th></th>\n",
       "      <th></th>\n",
       "      <th></th>\n",
       "      <th></th>\n",
       "      <th></th>\n",
       "      <th></th>\n",
       "      <th></th>\n",
       "      <th></th>\n",
       "      <th></th>\n",
       "      <th></th>\n",
       "      <th></th>\n",
       "    </tr>\n",
       "  </thead>\n",
       "  <tbody>\n",
       "    <tr>\n",
       "      <th>2020-02-27</th>\n",
       "      <td>2020-02-27</td>\n",
       "      <td>NL</td>\n",
       "      <td>1</td>\n",
       "      <td>13</td>\n",
       "      <td>13</td>\n",
       "      <td>0</td>\n",
       "      <td>2</td>\n",
       "      <td>65</td>\n",
       "      <td>63</td>\n",
       "      <td>0</td>\n",
       "      <td>...</td>\n",
       "      <td>0</td>\n",
       "      <td>0</td>\n",
       "      <td>0</td>\n",
       "      <td>0</td>\n",
       "      <td>0</td>\n",
       "      <td>0</td>\n",
       "      <td>0</td>\n",
       "      <td>0</td>\n",
       "      <td>0</td>\n",
       "      <td>17474693</td>\n",
       "    </tr>\n",
       "    <tr>\n",
       "      <th>2020-02-28</th>\n",
       "      <td>2020-02-28</td>\n",
       "      <td>NL</td>\n",
       "      <td>0</td>\n",
       "      <td>14</td>\n",
       "      <td>14</td>\n",
       "      <td>0</td>\n",
       "      <td>3</td>\n",
       "      <td>68</td>\n",
       "      <td>66</td>\n",
       "      <td>0</td>\n",
       "      <td>...</td>\n",
       "      <td>0</td>\n",
       "      <td>0</td>\n",
       "      <td>0</td>\n",
       "      <td>0</td>\n",
       "      <td>0</td>\n",
       "      <td>0</td>\n",
       "      <td>0</td>\n",
       "      <td>0</td>\n",
       "      <td>0</td>\n",
       "      <td>17474693</td>\n",
       "    </tr>\n",
       "    <tr>\n",
       "      <th>2020-02-29</th>\n",
       "      <td>2020-02-29</td>\n",
       "      <td>NL</td>\n",
       "      <td>0</td>\n",
       "      <td>15</td>\n",
       "      <td>15</td>\n",
       "      <td>0</td>\n",
       "      <td>1</td>\n",
       "      <td>69</td>\n",
       "      <td>66</td>\n",
       "      <td>0</td>\n",
       "      <td>...</td>\n",
       "      <td>0</td>\n",
       "      <td>0</td>\n",
       "      <td>0</td>\n",
       "      <td>0</td>\n",
       "      <td>0</td>\n",
       "      <td>0</td>\n",
       "      <td>0</td>\n",
       "      <td>0</td>\n",
       "      <td>0</td>\n",
       "      <td>17474693</td>\n",
       "    </tr>\n",
       "    <tr>\n",
       "      <th>2020-03-01</th>\n",
       "      <td>2020-03-01</td>\n",
       "      <td>NL</td>\n",
       "      <td>2</td>\n",
       "      <td>17</td>\n",
       "      <td>17</td>\n",
       "      <td>0</td>\n",
       "      <td>7</td>\n",
       "      <td>77</td>\n",
       "      <td>74</td>\n",
       "      <td>0</td>\n",
       "      <td>...</td>\n",
       "      <td>0</td>\n",
       "      <td>0</td>\n",
       "      <td>0</td>\n",
       "      <td>0</td>\n",
       "      <td>0</td>\n",
       "      <td>0</td>\n",
       "      <td>0</td>\n",
       "      <td>0</td>\n",
       "      <td>0</td>\n",
       "      <td>17474693</td>\n",
       "    </tr>\n",
       "    <tr>\n",
       "      <th>2020-03-02</th>\n",
       "      <td>2020-03-02</td>\n",
       "      <td>NL</td>\n",
       "      <td>0</td>\n",
       "      <td>17</td>\n",
       "      <td>16</td>\n",
       "      <td>0</td>\n",
       "      <td>10</td>\n",
       "      <td>88</td>\n",
       "      <td>85</td>\n",
       "      <td>0</td>\n",
       "      <td>...</td>\n",
       "      <td>0</td>\n",
       "      <td>0</td>\n",
       "      <td>0</td>\n",
       "      <td>0</td>\n",
       "      <td>0</td>\n",
       "      <td>0</td>\n",
       "      <td>0</td>\n",
       "      <td>0</td>\n",
       "      <td>0</td>\n",
       "      <td>17474693</td>\n",
       "    </tr>\n",
       "    <tr>\n",
       "      <th>...</th>\n",
       "      <td>...</td>\n",
       "      <td>...</td>\n",
       "      <td>...</td>\n",
       "      <td>...</td>\n",
       "      <td>...</td>\n",
       "      <td>...</td>\n",
       "      <td>...</td>\n",
       "      <td>...</td>\n",
       "      <td>...</td>\n",
       "      <td>...</td>\n",
       "      <td>...</td>\n",
       "      <td>...</td>\n",
       "      <td>...</td>\n",
       "      <td>...</td>\n",
       "      <td>...</td>\n",
       "      <td>...</td>\n",
       "      <td>...</td>\n",
       "      <td>...</td>\n",
       "      <td>...</td>\n",
       "      <td>...</td>\n",
       "      <td>...</td>\n",
       "    </tr>\n",
       "    <tr>\n",
       "      <th>2021-02-10</th>\n",
       "      <td>2021-02-10</td>\n",
       "      <td>NL</td>\n",
       "      <td>30</td>\n",
       "      <td>8202</td>\n",
       "      <td>551</td>\n",
       "      <td>2361</td>\n",
       "      <td>179</td>\n",
       "      <td>38636</td>\n",
       "      <td>1642</td>\n",
       "      <td>5596</td>\n",
       "      <td>...</td>\n",
       "      <td>511</td>\n",
       "      <td>1457</td>\n",
       "      <td>20</td>\n",
       "      <td>199</td>\n",
       "      <td>-17</td>\n",
       "      <td>-3</td>\n",
       "      <td>3183</td>\n",
       "      <td>66</td>\n",
       "      <td>78</td>\n",
       "      <td>17474693</td>\n",
       "    </tr>\n",
       "    <tr>\n",
       "      <th>2021-02-11</th>\n",
       "      <td>2021-02-11</td>\n",
       "      <td>NL</td>\n",
       "      <td>28</td>\n",
       "      <td>8233</td>\n",
       "      <td>548</td>\n",
       "      <td>2369</td>\n",
       "      <td>154</td>\n",
       "      <td>38785</td>\n",
       "      <td>1623</td>\n",
       "      <td>5621</td>\n",
       "      <td>...</td>\n",
       "      <td>517</td>\n",
       "      <td>1415</td>\n",
       "      <td>23</td>\n",
       "      <td>195</td>\n",
       "      <td>4</td>\n",
       "      <td>-42</td>\n",
       "      <td>4394</td>\n",
       "      <td>72</td>\n",
       "      <td>73</td>\n",
       "      <td>17474693</td>\n",
       "    </tr>\n",
       "    <tr>\n",
       "      <th>2021-02-12</th>\n",
       "      <td>2021-02-12</td>\n",
       "      <td>NL</td>\n",
       "      <td>28</td>\n",
       "      <td>8263</td>\n",
       "      <td>539</td>\n",
       "      <td>2379</td>\n",
       "      <td>143</td>\n",
       "      <td>38929</td>\n",
       "      <td>1604</td>\n",
       "      <td>5642</td>\n",
       "      <td>...</td>\n",
       "      <td>505</td>\n",
       "      <td>1370</td>\n",
       "      <td>32</td>\n",
       "      <td>182</td>\n",
       "      <td>-3</td>\n",
       "      <td>-45</td>\n",
       "      <td>4341</td>\n",
       "      <td>83</td>\n",
       "      <td>65</td>\n",
       "      <td>17474693</td>\n",
       "    </tr>\n",
       "    <tr>\n",
       "      <th>2021-02-13</th>\n",
       "      <td>2021-02-13</td>\n",
       "      <td>NL</td>\n",
       "      <td>15</td>\n",
       "      <td>8280</td>\n",
       "      <td>528</td>\n",
       "      <td>2385</td>\n",
       "      <td>77</td>\n",
       "      <td>39027</td>\n",
       "      <td>1553</td>\n",
       "      <td>5656</td>\n",
       "      <td>...</td>\n",
       "      <td>522</td>\n",
       "      <td>1325</td>\n",
       "      <td>32</td>\n",
       "      <td>182</td>\n",
       "      <td>4</td>\n",
       "      <td>-45</td>\n",
       "      <td>4194</td>\n",
       "      <td>61</td>\n",
       "      <td>66</td>\n",
       "      <td>17474693</td>\n",
       "    </tr>\n",
       "    <tr>\n",
       "      <th>2021-02-14</th>\n",
       "      <td>2021-02-14</td>\n",
       "      <td>NL</td>\n",
       "      <td>8</td>\n",
       "      <td>8291</td>\n",
       "      <td>521</td>\n",
       "      <td>2386</td>\n",
       "      <td>23</td>\n",
       "      <td>39061</td>\n",
       "      <td>1508</td>\n",
       "      <td>5659</td>\n",
       "      <td>...</td>\n",
       "      <td>470</td>\n",
       "      <td>1329</td>\n",
       "      <td>19</td>\n",
       "      <td>135</td>\n",
       "      <td>-8</td>\n",
       "      <td>4</td>\n",
       "      <td>3447</td>\n",
       "      <td>61</td>\n",
       "      <td>23</td>\n",
       "      <td>17474693</td>\n",
       "    </tr>\n",
       "  </tbody>\n",
       "</table>\n",
       "<p>354 rows × 56 columns</p>\n",
       "</div>"
      ],
      "text/plain": [
       "                 Datum LandCode  NICE IC Bedden (intake)  \\\n",
       "Key                                                        \n",
       "2020-02-27  2020-02-27       NL                        1   \n",
       "2020-02-28  2020-02-28       NL                        0   \n",
       "2020-02-29  2020-02-29       NL                        0   \n",
       "2020-03-01  2020-03-01       NL                        2   \n",
       "2020-03-02  2020-03-02       NL                        0   \n",
       "...                ...      ...                      ...   \n",
       "2021-02-10  2021-02-10       NL                       30   \n",
       "2021-02-11  2021-02-11       NL                       28   \n",
       "2021-02-12  2021-02-12       NL                       28   \n",
       "2021-02-13  2021-02-13       NL                       15   \n",
       "2021-02-14  2021-02-14       NL                        8   \n",
       "\n",
       "            NICE IC Bedden (cumulatief)  NICE IC Bedden  NICE IC Overleden  \\\n",
       "Key                                                                          \n",
       "2020-02-27                           13              13                  0   \n",
       "2020-02-28                           14              14                  0   \n",
       "2020-02-29                           15              15                  0   \n",
       "2020-03-01                           17              17                  0   \n",
       "2020-03-02                           17              16                  0   \n",
       "...                                 ...             ...                ...   \n",
       "2021-02-10                         8202             551               2361   \n",
       "2021-02-11                         8233             548               2369   \n",
       "2021-02-12                         8263             539               2379   \n",
       "2021-02-13                         8280             528               2385   \n",
       "2021-02-14                         8291             521               2386   \n",
       "\n",
       "            NICE Ziekenhuis Bedden (intake)  \\\n",
       "Key                                           \n",
       "2020-02-27                                2   \n",
       "2020-02-28                                3   \n",
       "2020-02-29                                1   \n",
       "2020-03-01                                7   \n",
       "2020-03-02                               10   \n",
       "...                                     ...   \n",
       "2021-02-10                              179   \n",
       "2021-02-11                              154   \n",
       "2021-02-12                              143   \n",
       "2021-02-13                               77   \n",
       "2021-02-14                               23   \n",
       "\n",
       "            NICE Ziekenhuis Bedden (cumulatief)  NICE Ziekenhuis Bedden  \\\n",
       "Key                                                                       \n",
       "2020-02-27                                   65                      63   \n",
       "2020-02-28                                   68                      66   \n",
       "2020-02-29                                   69                      66   \n",
       "2020-03-01                                   77                      74   \n",
       "2020-03-02                                   88                      85   \n",
       "...                                         ...                     ...   \n",
       "2021-02-10                                38636                    1642   \n",
       "2021-02-11                                38785                    1623   \n",
       "2021-02-12                                38929                    1604   \n",
       "2021-02-13                                39027                    1553   \n",
       "2021-02-14                                39061                    1508   \n",
       "\n",
       "            NICE Ziekenhuis Overleden  ...  LCPS IC Bedden Non COVID  \\\n",
       "Key                                    ...                             \n",
       "2020-02-27                          0  ...                         0   \n",
       "2020-02-28                          0  ...                         0   \n",
       "2020-02-29                          0  ...                         0   \n",
       "2020-03-01                          0  ...                         0   \n",
       "2020-03-02                          0  ...                         0   \n",
       "...                               ...  ...                       ...   \n",
       "2021-02-10                       5596  ...                       511   \n",
       "2021-02-11                       5621  ...                       517   \n",
       "2021-02-12                       5642  ...                       505   \n",
       "2021-02-13                       5656  ...                       522   \n",
       "2021-02-14                       5659  ...                       470   \n",
       "\n",
       "            LCPS Kliniek Bedden COVID  LCPS IC Nieuwe Opnames COVID  \\\n",
       "Key                                                                   \n",
       "2020-02-27                          0                             0   \n",
       "2020-02-28                          0                             0   \n",
       "2020-02-29                          0                             0   \n",
       "2020-03-01                          0                             0   \n",
       "2020-03-02                          0                             0   \n",
       "...                               ...                           ...   \n",
       "2021-02-10                       1457                            20   \n",
       "2021-02-11                       1415                            23   \n",
       "2021-02-12                       1370                            32   \n",
       "2021-02-13                       1325                            32   \n",
       "2021-02-14                       1329                            19   \n",
       "\n",
       "            LCPS Kliniek Nieuwe Opnames COVID  LCPS IC Bedden COVID (toename)  \\\n",
       "Key                                                                             \n",
       "2020-02-27                                  0                               0   \n",
       "2020-02-28                                  0                               0   \n",
       "2020-02-29                                  0                               0   \n",
       "2020-03-01                                  0                               0   \n",
       "2020-03-02                                  0                               0   \n",
       "...                                       ...                             ...   \n",
       "2021-02-10                                199                             -17   \n",
       "2021-02-11                                195                               4   \n",
       "2021-02-12                                182                              -3   \n",
       "2021-02-13                                182                               4   \n",
       "2021-02-14                                135                              -8   \n",
       "\n",
       "            LCPS Kliniek Bedden COVID (toename)  Positief getest (toename)  \\\n",
       "Key                                                                          \n",
       "2020-02-27                                    0                          0   \n",
       "2020-02-28                                    0                          0   \n",
       "2020-02-29                                    0                          0   \n",
       "2020-03-01                                    0                          0   \n",
       "2020-03-02                                    0                          0   \n",
       "...                                         ...                        ...   \n",
       "2021-02-10                                   -3                       3183   \n",
       "2021-02-11                                  -42                       4394   \n",
       "2021-02-12                                  -45                       4341   \n",
       "2021-02-13                                  -45                       4194   \n",
       "2021-02-14                                    4                       3447   \n",
       "\n",
       "            Ziekenhuisopnames (toename)  Overleden (toename)  Personen  \n",
       "Key                                                                     \n",
       "2020-02-27                            0                    0  17474693  \n",
       "2020-02-28                            0                    0  17474693  \n",
       "2020-02-29                            0                    0  17474693  \n",
       "2020-03-01                            0                    0  17474693  \n",
       "2020-03-02                            0                    0  17474693  \n",
       "...                                 ...                  ...       ...  \n",
       "2021-02-10                           66                   78  17474693  \n",
       "2021-02-11                           72                   73  17474693  \n",
       "2021-02-12                           83                   65  17474693  \n",
       "2021-02-13                           61                   66  17474693  \n",
       "2021-02-14                           61                   23  17474693  \n",
       "\n",
       "[354 rows x 56 columns]"
      ]
     },
     "metadata": {},
     "output_type": "display_data"
    }
   ],
   "source": [
    "@run('Personen')\n",
    "def cell():\n",
    "  global dagoverzicht\n",
    "  dagoverzicht['Personen'] = bevolking.BevolkingOpDeEersteVanDeMaand\n",
    "  display(dagoverzicht)"
   ]
  },
  {
   "cell_type": "code",
   "execution_count": 10,
   "id": "occupied-patient",
   "metadata": {
    "execution": {
     "iopub.execute_input": "2021-02-14T17:10:59.487472Z",
     "iopub.status.busy": "2021-02-14T17:10:59.486868Z",
     "iopub.status.idle": "2021-02-14T17:12:00.122912Z",
     "shell.execute_reply": "2021-02-14T17:12:00.120177Z"
    },
    "lines_to_next_cell": 0,
    "papermill": {
     "duration": 60.65806,
     "end_time": "2021-02-14T17:12:00.123049",
     "exception": false,
     "start_time": "2021-02-14T17:10:59.464989",
     "status": "completed"
    },
    "tags": []
   },
   "outputs": [
    {
     "data": {
      "text/html": [
       "<div>\n",
       "<style scoped>\n",
       "    .dataframe tbody tr th:only-of-type {\n",
       "        vertical-align: middle;\n",
       "    }\n",
       "\n",
       "    .dataframe tbody tr th {\n",
       "        vertical-align: top;\n",
       "    }\n",
       "\n",
       "    .dataframe thead th {\n",
       "        text-align: right;\n",
       "    }\n",
       "</style>\n",
       "<table border=\"1\" class=\"dataframe\">\n",
       "  <thead>\n",
       "    <tr style=\"text-align: right;\">\n",
       "      <th></th>\n",
       "    </tr>\n",
       "    <tr>\n",
       "      <th>Key</th>\n",
       "    </tr>\n",
       "  </thead>\n",
       "  <tbody>\n",
       "  </tbody>\n",
       "</table>\n",
       "</div>"
      ],
      "text/plain": [
       "Empty DataFrame\n",
       "Columns: []\n",
       "Index: []"
      ]
     },
     "metadata": {},
     "output_type": "display_data"
    },
    {
     "data": {
      "text/html": [
       "<div>\n",
       "<style scoped>\n",
       "    .dataframe tbody tr th:only-of-type {\n",
       "        vertical-align: middle;\n",
       "    }\n",
       "\n",
       "    .dataframe tbody tr th {\n",
       "        vertical-align: top;\n",
       "    }\n",
       "\n",
       "    .dataframe thead th {\n",
       "        text-align: right;\n",
       "    }\n",
       "</style>\n",
       "<table border=\"1\" class=\"dataframe\">\n",
       "  <thead>\n",
       "    <tr style=\"text-align: right;\">\n",
       "      <th></th>\n",
       "    </tr>\n",
       "    <tr>\n",
       "      <th>Key</th>\n",
       "    </tr>\n",
       "  </thead>\n",
       "  <tbody>\n",
       "  </tbody>\n",
       "</table>\n",
       "</div>"
      ],
      "text/plain": [
       "Empty DataFrame\n",
       "Columns: []\n",
       "Index: []"
      ]
     },
     "metadata": {},
     "output_type": "display_data"
    },
    {
     "name": "stdout",
     "output_type": "stream",
     "text": [
      "updating knack\n"
     ]
    },
    {
     "name": "stderr",
     "output_type": "stream",
     "text": [
      "\r",
      "  0%|          | 0/354 [00:00<?, ?it/s]"
     ]
    },
    {
     "name": "stderr",
     "output_type": "stream",
     "text": [
      "\r",
      "  0%|          | 1/354 [00:00<04:44,  1.24it/s]"
     ]
    },
    {
     "name": "stderr",
     "output_type": "stream",
     "text": [
      "\r",
      "  1%|          | 2/354 [00:00<02:27,  2.39it/s]"
     ]
    },
    {
     "name": "stderr",
     "output_type": "stream",
     "text": [
      "\r",
      "  1%|▏         | 5/354 [00:01<01:01,  5.71it/s]"
     ]
    },
    {
     "name": "stderr",
     "output_type": "stream",
     "text": [
      "\r",
      "  2%|▏         | 6/354 [00:01<00:57,  6.05it/s]"
     ]
    },
    {
     "name": "stderr",
     "output_type": "stream",
     "text": [
      "\r",
      "  3%|▎         | 9/354 [00:01<00:33, 10.32it/s]"
     ]
    },
    {
     "name": "stderr",
     "output_type": "stream",
     "text": [
      "\r",
      "  3%|▎         | 11/354 [00:01<00:45,  7.50it/s]"
     ]
    },
    {
     "name": "stderr",
     "output_type": "stream",
     "text": [
      "\r",
      "  4%|▎         | 13/354 [00:02<00:44,  7.61it/s]"
     ]
    },
    {
     "name": "stderr",
     "output_type": "stream",
     "text": [
      "\r",
      "  4%|▍         | 15/354 [00:02<00:59,  5.65it/s]"
     ]
    },
    {
     "name": "stderr",
     "output_type": "stream",
     "text": [
      "\r",
      "  5%|▍         | 17/354 [00:02<00:58,  5.79it/s]"
     ]
    },
    {
     "name": "stderr",
     "output_type": "stream",
     "text": [
      "\r",
      "  5%|▌         | 18/354 [00:03<01:01,  5.48it/s]"
     ]
    },
    {
     "name": "stderr",
     "output_type": "stream",
     "text": [
      "\r",
      "  6%|▌         | 20/354 [00:03<00:54,  6.10it/s]"
     ]
    },
    {
     "name": "stderr",
     "output_type": "stream",
     "text": [
      "\r",
      "  6%|▌         | 21/354 [00:03<00:53,  6.25it/s]"
     ]
    },
    {
     "name": "stderr",
     "output_type": "stream",
     "text": [
      "\r",
      "  6%|▌         | 22/354 [00:03<01:06,  4.99it/s]"
     ]
    },
    {
     "name": "stderr",
     "output_type": "stream",
     "text": [
      "\r",
      "  6%|▋         | 23/354 [00:04<01:05,  5.03it/s]"
     ]
    },
    {
     "name": "stderr",
     "output_type": "stream",
     "text": [
      "\r",
      "  7%|▋         | 25/354 [00:04<00:49,  6.62it/s]"
     ]
    },
    {
     "name": "stderr",
     "output_type": "stream",
     "text": [
      "\r",
      "  8%|▊         | 27/354 [00:04<00:58,  5.63it/s]"
     ]
    },
    {
     "name": "stderr",
     "output_type": "stream",
     "text": [
      "\r",
      "  8%|▊         | 28/354 [00:04<00:54,  5.95it/s]"
     ]
    },
    {
     "name": "stderr",
     "output_type": "stream",
     "text": [
      "\r",
      "  8%|▊         | 29/354 [00:05<00:52,  6.22it/s]"
     ]
    },
    {
     "name": "stderr",
     "output_type": "stream",
     "text": [
      "\r",
      "  9%|▉         | 33/354 [00:05<00:33,  9.44it/s]"
     ]
    },
    {
     "name": "stderr",
     "output_type": "stream",
     "text": [
      "\r",
      " 10%|▉         | 34/354 [00:05<00:33,  9.50it/s]"
     ]
    },
    {
     "name": "stderr",
     "output_type": "stream",
     "text": [
      "\r",
      " 10%|█         | 36/354 [00:05<00:30, 10.44it/s]"
     ]
    },
    {
     "name": "stderr",
     "output_type": "stream",
     "text": [
      "\r",
      " 11%|█         | 38/354 [00:06<00:50,  6.25it/s]"
     ]
    },
    {
     "name": "stderr",
     "output_type": "stream",
     "text": [
      "\r",
      " 11%|█         | 39/354 [00:06<00:47,  6.60it/s]"
     ]
    },
    {
     "name": "stderr",
     "output_type": "stream",
     "text": [
      "\r",
      " 11%|█▏        | 40/354 [00:06<00:49,  6.38it/s]"
     ]
    },
    {
     "name": "stderr",
     "output_type": "stream",
     "text": [
      "\r",
      " 12%|█▏        | 41/354 [00:06<00:52,  5.98it/s]"
     ]
    },
    {
     "name": "stderr",
     "output_type": "stream",
     "text": [
      "\r",
      " 12%|█▏        | 42/354 [00:06<00:47,  6.51it/s]"
     ]
    },
    {
     "name": "stderr",
     "output_type": "stream",
     "text": [
      "\r",
      " 12%|█▏        | 43/354 [00:06<00:47,  6.57it/s]"
     ]
    },
    {
     "name": "stderr",
     "output_type": "stream",
     "text": [
      "\r",
      " 13%|█▎        | 45/354 [00:07<00:47,  6.44it/s]"
     ]
    },
    {
     "name": "stderr",
     "output_type": "stream",
     "text": [
      "\r",
      " 13%|█▎        | 46/354 [00:07<00:57,  5.31it/s]"
     ]
    },
    {
     "name": "stderr",
     "output_type": "stream",
     "text": [
      "\r",
      " 14%|█▎        | 48/354 [00:07<00:46,  6.54it/s]"
     ]
    },
    {
     "name": "stderr",
     "output_type": "stream",
     "text": [
      "\r",
      " 14%|█▍        | 49/354 [00:07<00:53,  5.65it/s]"
     ]
    },
    {
     "name": "stderr",
     "output_type": "stream",
     "text": [
      "\r",
      " 14%|█▍        | 51/354 [00:08<00:46,  6.50it/s]"
     ]
    },
    {
     "name": "stderr",
     "output_type": "stream",
     "text": [
      "\r",
      " 15%|█▍        | 53/354 [00:08<00:38,  7.90it/s]"
     ]
    },
    {
     "name": "stderr",
     "output_type": "stream",
     "text": [
      "\r",
      " 16%|█▌        | 55/354 [00:08<00:38,  7.75it/s]"
     ]
    },
    {
     "name": "stderr",
     "output_type": "stream",
     "text": [
      "\r",
      " 16%|█▌        | 56/354 [00:08<00:38,  7.69it/s]"
     ]
    },
    {
     "name": "stderr",
     "output_type": "stream",
     "text": [
      "\r",
      " 16%|█▌        | 57/354 [00:08<00:41,  7.08it/s]"
     ]
    },
    {
     "name": "stderr",
     "output_type": "stream",
     "text": [
      "\r",
      " 16%|█▋        | 58/354 [00:09<00:54,  5.42it/s]"
     ]
    },
    {
     "name": "stderr",
     "output_type": "stream",
     "text": [
      "\r",
      " 17%|█▋        | 60/354 [00:09<00:48,  6.05it/s]"
     ]
    },
    {
     "name": "stderr",
     "output_type": "stream",
     "text": [
      "\r",
      " 18%|█▊        | 62/354 [00:09<00:48,  5.97it/s]"
     ]
    },
    {
     "name": "stderr",
     "output_type": "stream",
     "text": [
      "\r",
      " 18%|█▊        | 63/354 [00:10<00:50,  5.79it/s]"
     ]
    },
    {
     "name": "stderr",
     "output_type": "stream",
     "text": [
      "\r",
      " 18%|█▊        | 64/354 [00:10<00:49,  5.81it/s]"
     ]
    },
    {
     "name": "stderr",
     "output_type": "stream",
     "text": [
      "\r",
      " 19%|█▉        | 67/354 [00:10<00:33,  8.63it/s]"
     ]
    },
    {
     "name": "stderr",
     "output_type": "stream",
     "text": [
      "\r",
      " 19%|█▉        | 69/354 [00:10<00:31,  9.03it/s]"
     ]
    },
    {
     "name": "stderr",
     "output_type": "stream",
     "text": [
      "\r",
      " 20%|█▉        | 70/354 [00:10<00:32,  8.73it/s]"
     ]
    },
    {
     "name": "stderr",
     "output_type": "stream",
     "text": [
      "\r",
      " 20%|██        | 71/354 [00:10<00:35,  8.08it/s]"
     ]
    },
    {
     "name": "stderr",
     "output_type": "stream",
     "text": [
      "\r",
      " 21%|██        | 73/354 [00:11<00:29,  9.62it/s]"
     ]
    },
    {
     "name": "stderr",
     "output_type": "stream",
     "text": [
      "\r",
      " 21%|██        | 74/354 [00:11<00:36,  7.64it/s]"
     ]
    },
    {
     "name": "stderr",
     "output_type": "stream",
     "text": [
      "\r",
      " 21%|██        | 75/354 [00:11<00:41,  6.75it/s]"
     ]
    },
    {
     "name": "stderr",
     "output_type": "stream",
     "text": [
      "\r",
      " 22%|██▏       | 77/354 [00:11<00:33,  8.27it/s]"
     ]
    },
    {
     "name": "stderr",
     "output_type": "stream",
     "text": [
      "\r",
      " 22%|██▏       | 79/354 [00:11<00:39,  6.97it/s]"
     ]
    },
    {
     "name": "stderr",
     "output_type": "stream",
     "text": [
      "\r",
      " 23%|██▎       | 81/354 [00:12<00:31,  8.77it/s]"
     ]
    },
    {
     "name": "stderr",
     "output_type": "stream",
     "text": [
      "\r",
      " 23%|██▎       | 83/354 [00:12<00:37,  7.22it/s]"
     ]
    },
    {
     "name": "stderr",
     "output_type": "stream",
     "text": [
      "\r",
      " 24%|██▍       | 85/354 [00:12<00:43,  6.17it/s]"
     ]
    },
    {
     "name": "stderr",
     "output_type": "stream",
     "text": [
      "\r",
      " 25%|██▍       | 87/354 [00:13<00:36,  7.22it/s]"
     ]
    },
    {
     "name": "stderr",
     "output_type": "stream",
     "text": [
      "\r",
      " 25%|██▍       | 88/354 [00:13<00:38,  6.97it/s]"
     ]
    },
    {
     "name": "stderr",
     "output_type": "stream",
     "text": [
      "\r",
      " 25%|██▌       | 89/354 [00:13<00:45,  5.85it/s]"
     ]
    },
    {
     "name": "stderr",
     "output_type": "stream",
     "text": [
      "\r",
      " 25%|██▌       | 90/354 [00:13<00:46,  5.72it/s]"
     ]
    },
    {
     "name": "stderr",
     "output_type": "stream",
     "text": [
      "\r",
      " 26%|██▌       | 91/354 [00:13<00:48,  5.38it/s]"
     ]
    },
    {
     "name": "stderr",
     "output_type": "stream",
     "text": [
      "\r",
      " 27%|██▋       | 94/354 [00:14<00:32,  8.07it/s]"
     ]
    },
    {
     "name": "stderr",
     "output_type": "stream",
     "text": [
      "\r",
      " 27%|██▋       | 95/354 [00:14<00:35,  7.31it/s]"
     ]
    },
    {
     "name": "stderr",
     "output_type": "stream",
     "text": [
      "\r",
      " 27%|██▋       | 97/354 [00:14<00:37,  6.92it/s]"
     ]
    },
    {
     "name": "stderr",
     "output_type": "stream",
     "text": [
      "\r",
      " 28%|██▊       | 98/354 [00:14<00:40,  6.30it/s]"
     ]
    },
    {
     "name": "stderr",
     "output_type": "stream",
     "text": [
      "\r",
      " 28%|██▊       | 99/354 [00:15<00:41,  6.11it/s]"
     ]
    },
    {
     "name": "stderr",
     "output_type": "stream",
     "text": [
      "\r",
      " 28%|██▊       | 100/354 [00:15<00:43,  5.82it/s]"
     ]
    },
    {
     "name": "stderr",
     "output_type": "stream",
     "text": [
      "\r",
      " 29%|██▉       | 103/354 [00:15<00:29,  8.57it/s]"
     ]
    },
    {
     "name": "stderr",
     "output_type": "stream",
     "text": [
      "\r",
      " 29%|██▉       | 104/354 [00:15<00:29,  8.52it/s]"
     ]
    },
    {
     "name": "stderr",
     "output_type": "stream",
     "text": [
      "\r",
      " 30%|███       | 107/354 [00:15<00:22, 11.07it/s]"
     ]
    },
    {
     "name": "stderr",
     "output_type": "stream",
     "text": [
      "\r",
      " 31%|███       | 109/354 [00:16<00:37,  6.57it/s]"
     ]
    },
    {
     "name": "stderr",
     "output_type": "stream",
     "text": [
      "\r",
      " 31%|███       | 110/354 [00:16<00:35,  6.84it/s]"
     ]
    },
    {
     "name": "stderr",
     "output_type": "stream",
     "text": [
      "\r",
      " 32%|███▏      | 112/354 [00:16<00:31,  7.66it/s]"
     ]
    },
    {
     "name": "stderr",
     "output_type": "stream",
     "text": [
      "\r",
      " 32%|███▏      | 113/354 [00:16<00:37,  6.42it/s]"
     ]
    },
    {
     "name": "stderr",
     "output_type": "stream",
     "text": [
      "\r",
      " 32%|███▏      | 114/354 [00:17<00:42,  5.66it/s]"
     ]
    },
    {
     "name": "stderr",
     "output_type": "stream",
     "text": [
      "\r",
      " 33%|███▎      | 116/354 [00:17<00:33,  7.01it/s]"
     ]
    },
    {
     "name": "stderr",
     "output_type": "stream",
     "text": [
      "\r",
      " 33%|███▎      | 117/354 [00:17<00:33,  7.07it/s]"
     ]
    },
    {
     "name": "stderr",
     "output_type": "stream",
     "text": [
      "\r",
      " 33%|███▎      | 118/354 [00:17<00:46,  5.08it/s]"
     ]
    },
    {
     "name": "stderr",
     "output_type": "stream",
     "text": [
      "\r",
      " 34%|███▎      | 119/354 [00:17<00:43,  5.46it/s]"
     ]
    },
    {
     "name": "stderr",
     "output_type": "stream",
     "text": [
      "\r",
      " 34%|███▍      | 120/354 [00:18<00:40,  5.72it/s]"
     ]
    },
    {
     "name": "stderr",
     "output_type": "stream",
     "text": [
      "\r",
      " 34%|███▍      | 121/354 [00:18<00:37,  6.29it/s]"
     ]
    },
    {
     "name": "stderr",
     "output_type": "stream",
     "text": [
      "\r",
      " 35%|███▍      | 123/354 [00:18<00:29,  7.74it/s]"
     ]
    },
    {
     "name": "stderr",
     "output_type": "stream",
     "text": [
      "\r",
      " 35%|███▌      | 124/354 [00:18<00:32,  7.08it/s]"
     ]
    },
    {
     "name": "stderr",
     "output_type": "stream",
     "text": [
      "\r",
      " 35%|███▌      | 125/354 [00:18<00:31,  7.17it/s]"
     ]
    },
    {
     "name": "stderr",
     "output_type": "stream",
     "text": [
      "\r",
      " 36%|███▌      | 126/354 [00:18<00:30,  7.56it/s]"
     ]
    },
    {
     "name": "stderr",
     "output_type": "stream",
     "text": [
      "\r",
      " 36%|███▌      | 127/354 [00:19<00:32,  6.92it/s]"
     ]
    },
    {
     "name": "stderr",
     "output_type": "stream",
     "text": [
      "\r",
      " 36%|███▋      | 129/354 [00:19<00:24,  9.08it/s]"
     ]
    },
    {
     "name": "stderr",
     "output_type": "stream",
     "text": [
      "\r",
      " 37%|███▋      | 130/354 [00:19<00:26,  8.48it/s]"
     ]
    },
    {
     "name": "stderr",
     "output_type": "stream",
     "text": [
      "\r",
      " 37%|███▋      | 131/354 [00:19<00:26,  8.51it/s]"
     ]
    },
    {
     "name": "stderr",
     "output_type": "stream",
     "text": [
      "\r",
      " 37%|███▋      | 132/354 [00:19<00:34,  6.44it/s]"
     ]
    },
    {
     "name": "stderr",
     "output_type": "stream",
     "text": [
      "\r",
      " 38%|███▊      | 133/354 [00:19<00:35,  6.24it/s]"
     ]
    },
    {
     "name": "stderr",
     "output_type": "stream",
     "text": [
      "\r",
      " 38%|███▊      | 135/354 [00:20<00:33,  6.47it/s]"
     ]
    },
    {
     "name": "stderr",
     "output_type": "stream",
     "text": [
      "\r",
      " 38%|███▊      | 136/354 [00:20<00:36,  6.05it/s]"
     ]
    },
    {
     "name": "stderr",
     "output_type": "stream",
     "text": [
      "\r",
      " 39%|███▉      | 138/354 [00:20<00:31,  6.83it/s]"
     ]
    },
    {
     "name": "stderr",
     "output_type": "stream",
     "text": [
      "\r",
      " 39%|███▉      | 139/354 [00:20<00:33,  6.50it/s]"
     ]
    },
    {
     "name": "stderr",
     "output_type": "stream",
     "text": [
      "\r",
      " 40%|███▉      | 140/354 [00:21<00:39,  5.40it/s]"
     ]
    },
    {
     "name": "stderr",
     "output_type": "stream",
     "text": [
      "\r",
      " 40%|███▉      | 141/354 [00:21<00:40,  5.25it/s]"
     ]
    },
    {
     "name": "stderr",
     "output_type": "stream",
     "text": [
      "\r",
      " 40%|████      | 142/354 [00:21<00:38,  5.53it/s]"
     ]
    },
    {
     "name": "stderr",
     "output_type": "stream",
     "text": [
      "\r",
      " 41%|████      | 145/354 [00:21<00:23,  8.84it/s]"
     ]
    },
    {
     "name": "stderr",
     "output_type": "stream",
     "text": [
      "\r",
      " 42%|████▏     | 147/354 [00:21<00:23,  8.74it/s]"
     ]
    },
    {
     "name": "stderr",
     "output_type": "stream",
     "text": [
      "\r",
      " 42%|████▏     | 148/354 [00:21<00:23,  8.92it/s]"
     ]
    },
    {
     "name": "stderr",
     "output_type": "stream",
     "text": [
      "\r",
      " 42%|████▏     | 150/354 [00:22<00:26,  7.58it/s]"
     ]
    },
    {
     "name": "stderr",
     "output_type": "stream",
     "text": [
      "\r",
      " 43%|████▎     | 151/354 [00:22<00:32,  6.24it/s]"
     ]
    },
    {
     "name": "stderr",
     "output_type": "stream",
     "text": [
      "\r",
      " 43%|████▎     | 152/354 [00:22<00:30,  6.53it/s]"
     ]
    },
    {
     "name": "stderr",
     "output_type": "stream",
     "text": [
      "\r",
      " 43%|████▎     | 153/354 [00:22<00:37,  5.38it/s]"
     ]
    },
    {
     "name": "stderr",
     "output_type": "stream",
     "text": [
      "\r",
      " 44%|████▎     | 154/354 [00:23<00:32,  6.09it/s]"
     ]
    },
    {
     "name": "stderr",
     "output_type": "stream",
     "text": [
      "\r",
      " 44%|████▍     | 157/354 [00:23<00:21,  9.02it/s]"
     ]
    },
    {
     "name": "stderr",
     "output_type": "stream",
     "text": [
      "\r",
      " 45%|████▍     | 159/354 [00:23<00:19,  9.77it/s]"
     ]
    },
    {
     "name": "stderr",
     "output_type": "stream",
     "text": [
      "\r",
      " 45%|████▌     | 161/354 [00:23<00:27,  7.08it/s]"
     ]
    },
    {
     "name": "stderr",
     "output_type": "stream",
     "text": [
      "\r",
      " 46%|████▌     | 162/354 [00:24<00:30,  6.31it/s]"
     ]
    },
    {
     "name": "stderr",
     "output_type": "stream",
     "text": [
      "\r",
      " 46%|████▋     | 164/354 [00:24<00:25,  7.50it/s]"
     ]
    },
    {
     "name": "stderr",
     "output_type": "stream",
     "text": [
      "\r",
      " 47%|████▋     | 166/354 [00:24<00:22,  8.43it/s]"
     ]
    },
    {
     "name": "stderr",
     "output_type": "stream",
     "text": [
      "\r",
      " 47%|████▋     | 167/354 [00:24<00:26,  7.00it/s]"
     ]
    },
    {
     "name": "stderr",
     "output_type": "stream",
     "text": [
      "\r",
      " 47%|████▋     | 168/354 [00:24<00:26,  6.96it/s]"
     ]
    },
    {
     "name": "stderr",
     "output_type": "stream",
     "text": [
      "\r",
      " 48%|████▊     | 170/354 [00:25<00:26,  6.96it/s]"
     ]
    },
    {
     "name": "stderr",
     "output_type": "stream",
     "text": [
      "\r",
      " 49%|████▊     | 172/354 [00:25<00:27,  6.52it/s]"
     ]
    },
    {
     "name": "stderr",
     "output_type": "stream",
     "text": [
      "\r",
      " 49%|████▉     | 175/354 [00:25<00:24,  7.16it/s]"
     ]
    },
    {
     "name": "stderr",
     "output_type": "stream",
     "text": [
      "\r",
      " 50%|████▉     | 176/354 [00:25<00:25,  7.11it/s]"
     ]
    },
    {
     "name": "stderr",
     "output_type": "stream",
     "text": [
      "\r",
      " 50%|█████     | 177/354 [00:26<00:27,  6.41it/s]"
     ]
    },
    {
     "name": "stderr",
     "output_type": "stream",
     "text": [
      "\r",
      " 51%|█████     | 179/354 [00:26<00:25,  6.76it/s]"
     ]
    },
    {
     "name": "stderr",
     "output_type": "stream",
     "text": [
      "\r",
      " 51%|█████     | 181/354 [00:26<00:28,  6.07it/s]"
     ]
    },
    {
     "name": "stderr",
     "output_type": "stream",
     "text": [
      "\r",
      " 52%|█████▏    | 183/354 [00:26<00:22,  7.44it/s]"
     ]
    },
    {
     "name": "stderr",
     "output_type": "stream",
     "text": [
      "\r",
      " 52%|█████▏    | 184/354 [00:27<00:23,  7.35it/s]"
     ]
    },
    {
     "name": "stderr",
     "output_type": "stream",
     "text": [
      "\r",
      " 53%|█████▎    | 186/354 [00:27<00:19,  8.71it/s]"
     ]
    },
    {
     "name": "stderr",
     "output_type": "stream",
     "text": [
      "\r",
      " 53%|█████▎    | 187/354 [00:27<00:23,  7.09it/s]"
     ]
    },
    {
     "name": "stderr",
     "output_type": "stream",
     "text": [
      "\r",
      " 53%|█████▎    | 188/354 [00:27<00:27,  6.11it/s]"
     ]
    },
    {
     "name": "stderr",
     "output_type": "stream",
     "text": [
      "\r",
      " 54%|█████▍    | 191/354 [00:27<00:18,  8.60it/s]"
     ]
    },
    {
     "name": "stderr",
     "output_type": "stream",
     "text": [
      "\r",
      " 54%|█████▍    | 192/354 [00:28<00:38,  4.24it/s]"
     ]
    },
    {
     "name": "stderr",
     "output_type": "stream",
     "text": [
      "\r",
      " 55%|█████▍    | 193/354 [00:28<00:34,  4.69it/s]"
     ]
    },
    {
     "name": "stderr",
     "output_type": "stream",
     "text": [
      "\r",
      " 55%|█████▌    | 196/354 [00:29<00:22,  6.89it/s]"
     ]
    },
    {
     "name": "stderr",
     "output_type": "stream",
     "text": [
      "\r",
      " 56%|█████▌    | 198/354 [00:29<00:19,  8.02it/s]"
     ]
    },
    {
     "name": "stderr",
     "output_type": "stream",
     "text": [
      "\r",
      " 56%|█████▋    | 200/354 [00:29<00:26,  5.88it/s]"
     ]
    },
    {
     "name": "stderr",
     "output_type": "stream",
     "text": [
      "\r",
      " 57%|█████▋    | 202/354 [00:29<00:20,  7.37it/s]"
     ]
    },
    {
     "name": "stderr",
     "output_type": "stream",
     "text": [
      "\r",
      " 58%|█████▊    | 204/354 [00:30<00:29,  5.16it/s]"
     ]
    },
    {
     "name": "stderr",
     "output_type": "stream",
     "text": [
      "\r",
      " 58%|█████▊    | 205/354 [00:30<00:28,  5.22it/s]"
     ]
    },
    {
     "name": "stderr",
     "output_type": "stream",
     "text": [
      "\r",
      " 58%|█████▊    | 207/354 [00:30<00:22,  6.45it/s]"
     ]
    },
    {
     "name": "stderr",
     "output_type": "stream",
     "text": [
      "\r",
      " 59%|█████▉    | 208/354 [00:31<00:22,  6.58it/s]"
     ]
    },
    {
     "name": "stderr",
     "output_type": "stream",
     "text": [
      "\r",
      " 59%|█████▉    | 209/354 [00:31<00:23,  6.09it/s]"
     ]
    },
    {
     "name": "stderr",
     "output_type": "stream",
     "text": [
      "\r",
      " 60%|█████▉    | 212/354 [00:31<00:19,  7.21it/s]"
     ]
    },
    {
     "name": "stderr",
     "output_type": "stream",
     "text": [
      "\r",
      " 61%|██████    | 215/354 [00:31<00:16,  8.50it/s]"
     ]
    },
    {
     "name": "stderr",
     "output_type": "stream",
     "text": [
      "\r",
      " 62%|██████▏   | 218/354 [00:31<00:13, 10.39it/s]"
     ]
    },
    {
     "name": "stderr",
     "output_type": "stream",
     "text": [
      "\r",
      " 62%|██████▏   | 220/354 [00:32<00:14,  9.41it/s]"
     ]
    },
    {
     "name": "stderr",
     "output_type": "stream",
     "text": [
      "\r",
      " 63%|██████▎   | 222/354 [00:32<00:13,  9.62it/s]"
     ]
    },
    {
     "name": "stderr",
     "output_type": "stream",
     "text": [
      "\r",
      " 63%|██████▎   | 224/354 [00:32<00:17,  7.37it/s]"
     ]
    },
    {
     "name": "stderr",
     "output_type": "stream",
     "text": [
      "\r",
      " 64%|██████▎   | 225/354 [00:33<00:19,  6.63it/s]"
     ]
    },
    {
     "name": "stderr",
     "output_type": "stream",
     "text": [
      "\r",
      " 64%|██████▍   | 227/354 [00:33<00:15,  8.23it/s]"
     ]
    },
    {
     "name": "stderr",
     "output_type": "stream",
     "text": [
      "\r",
      " 65%|██████▍   | 229/354 [00:33<00:16,  7.76it/s]"
     ]
    },
    {
     "name": "stderr",
     "output_type": "stream",
     "text": [
      "\r",
      " 65%|██████▍   | 230/354 [00:33<00:17,  7.18it/s]"
     ]
    },
    {
     "name": "stderr",
     "output_type": "stream",
     "text": [
      "\r",
      " 66%|██████▌   | 232/354 [00:34<00:18,  6.69it/s]"
     ]
    },
    {
     "name": "stderr",
     "output_type": "stream",
     "text": [
      "\r",
      " 66%|██████▌   | 233/354 [00:34<00:16,  7.15it/s]"
     ]
    },
    {
     "name": "stderr",
     "output_type": "stream",
     "text": [
      "\r",
      " 66%|██████▋   | 235/354 [00:34<00:17,  6.69it/s]"
     ]
    },
    {
     "name": "stderr",
     "output_type": "stream",
     "text": [
      "\r",
      " 67%|██████▋   | 236/354 [00:34<00:20,  5.80it/s]"
     ]
    },
    {
     "name": "stderr",
     "output_type": "stream",
     "text": [
      "\r",
      " 67%|██████▋   | 238/354 [00:34<00:16,  7.23it/s]"
     ]
    },
    {
     "name": "stderr",
     "output_type": "stream",
     "text": [
      "\r",
      " 68%|██████▊   | 239/354 [00:35<00:15,  7.22it/s]"
     ]
    },
    {
     "name": "stderr",
     "output_type": "stream",
     "text": [
      "\r",
      " 68%|██████▊   | 240/354 [00:35<00:16,  6.93it/s]"
     ]
    },
    {
     "name": "stderr",
     "output_type": "stream",
     "text": [
      "\r",
      " 68%|██████▊   | 241/354 [00:35<00:24,  4.65it/s]"
     ]
    },
    {
     "name": "stderr",
     "output_type": "stream",
     "text": [
      "\r",
      " 68%|██████▊   | 242/354 [00:35<00:23,  4.74it/s]"
     ]
    },
    {
     "name": "stderr",
     "output_type": "stream",
     "text": [
      "\r",
      " 69%|██████▊   | 243/354 [00:36<00:28,  3.92it/s]"
     ]
    },
    {
     "name": "stderr",
     "output_type": "stream",
     "text": [
      "\r",
      " 69%|██████▉   | 245/354 [00:36<00:21,  5.17it/s]"
     ]
    },
    {
     "name": "stderr",
     "output_type": "stream",
     "text": [
      "\r",
      " 70%|███████   | 248/354 [00:36<00:13,  8.15it/s]"
     ]
    },
    {
     "name": "stderr",
     "output_type": "stream",
     "text": [
      "\r",
      " 71%|███████   | 250/354 [00:36<00:14,  7.41it/s]"
     ]
    },
    {
     "name": "stderr",
     "output_type": "stream",
     "text": [
      "\r",
      " 71%|███████   | 252/354 [00:37<00:13,  7.29it/s]"
     ]
    },
    {
     "name": "stderr",
     "output_type": "stream",
     "text": [
      "\r",
      " 71%|███████▏  | 253/354 [00:37<00:13,  7.25it/s]"
     ]
    },
    {
     "name": "stderr",
     "output_type": "stream",
     "text": [
      "\r",
      " 72%|███████▏  | 255/354 [00:37<00:12,  8.07it/s]"
     ]
    },
    {
     "name": "stderr",
     "output_type": "stream",
     "text": [
      "\r",
      " 72%|███████▏  | 256/354 [00:37<00:12,  7.56it/s]"
     ]
    },
    {
     "name": "stderr",
     "output_type": "stream",
     "text": [
      "\r",
      " 73%|███████▎  | 257/354 [00:37<00:15,  6.22it/s]"
     ]
    },
    {
     "name": "stderr",
     "output_type": "stream",
     "text": [
      "\r",
      " 74%|███████▎  | 261/354 [00:38<00:13,  6.76it/s]"
     ]
    },
    {
     "name": "stderr",
     "output_type": "stream",
     "text": [
      "\r",
      " 75%|███████▍  | 264/354 [00:38<00:11,  8.03it/s]"
     ]
    },
    {
     "name": "stderr",
     "output_type": "stream",
     "text": [
      "\r",
      " 75%|███████▍  | 265/354 [00:38<00:10,  8.18it/s]"
     ]
    },
    {
     "name": "stderr",
     "output_type": "stream",
     "text": [
      "\r",
      " 75%|███████▌  | 266/354 [00:38<00:10,  8.24it/s]"
     ]
    },
    {
     "name": "stderr",
     "output_type": "stream",
     "text": [
      "\r",
      " 76%|███████▌  | 268/354 [00:39<00:08,  9.98it/s]"
     ]
    },
    {
     "name": "stderr",
     "output_type": "stream",
     "text": [
      "\r",
      " 76%|███████▋  | 270/354 [00:39<00:15,  5.27it/s]"
     ]
    },
    {
     "name": "stderr",
     "output_type": "stream",
     "text": [
      "\r",
      " 77%|███████▋  | 273/354 [00:40<00:10,  7.53it/s]"
     ]
    },
    {
     "name": "stderr",
     "output_type": "stream",
     "text": [
      "\r",
      " 78%|███████▊  | 275/354 [00:40<00:10,  7.26it/s]"
     ]
    },
    {
     "name": "stderr",
     "output_type": "stream",
     "text": [
      "\r",
      " 78%|███████▊  | 277/354 [00:40<00:12,  6.12it/s]"
     ]
    },
    {
     "name": "stderr",
     "output_type": "stream",
     "text": [
      "\r",
      " 79%|███████▉  | 279/354 [00:40<00:11,  6.79it/s]"
     ]
    },
    {
     "name": "stderr",
     "output_type": "stream",
     "text": [
      "\r",
      " 80%|███████▉  | 282/354 [00:41<00:08,  8.64it/s]"
     ]
    },
    {
     "name": "stderr",
     "output_type": "stream",
     "text": [
      "\r",
      " 80%|████████  | 284/354 [00:41<00:11,  5.88it/s]"
     ]
    },
    {
     "name": "stderr",
     "output_type": "stream",
     "text": [
      "\r",
      " 81%|████████  | 285/354 [00:41<00:11,  6.18it/s]"
     ]
    },
    {
     "name": "stderr",
     "output_type": "stream",
     "text": [
      "\r",
      " 81%|████████  | 286/354 [00:42<00:12,  5.59it/s]"
     ]
    },
    {
     "name": "stderr",
     "output_type": "stream",
     "text": [
      "\r",
      " 81%|████████▏ | 288/354 [00:42<00:09,  6.93it/s]"
     ]
    },
    {
     "name": "stderr",
     "output_type": "stream",
     "text": [
      "\r",
      " 82%|████████▏ | 289/354 [00:42<00:09,  6.88it/s]"
     ]
    },
    {
     "name": "stderr",
     "output_type": "stream",
     "text": [
      "\r",
      " 82%|████████▏ | 290/354 [00:42<00:09,  7.07it/s]"
     ]
    },
    {
     "name": "stderr",
     "output_type": "stream",
     "text": [
      "\r",
      " 82%|████████▏ | 291/354 [00:42<00:08,  7.29it/s]"
     ]
    },
    {
     "name": "stderr",
     "output_type": "stream",
     "text": [
      "\r",
      " 83%|████████▎ | 293/354 [00:42<00:07,  8.16it/s]"
     ]
    },
    {
     "name": "stderr",
     "output_type": "stream",
     "text": [
      "\r",
      " 83%|████████▎ | 295/354 [00:43<00:09,  6.54it/s]"
     ]
    },
    {
     "name": "stderr",
     "output_type": "stream",
     "text": [
      "\r",
      " 84%|████████▎ | 296/354 [00:43<00:09,  6.04it/s]"
     ]
    },
    {
     "name": "stderr",
     "output_type": "stream",
     "text": [
      "\r",
      " 84%|████████▍ | 298/354 [00:43<00:07,  7.03it/s]"
     ]
    },
    {
     "name": "stderr",
     "output_type": "stream",
     "text": [
      "\r",
      " 85%|████████▍ | 300/354 [00:43<00:06,  8.48it/s]"
     ]
    },
    {
     "name": "stderr",
     "output_type": "stream",
     "text": [
      "\r",
      " 85%|████████▌ | 301/354 [00:44<00:06,  8.22it/s]"
     ]
    },
    {
     "name": "stderr",
     "output_type": "stream",
     "text": [
      "\r",
      " 85%|████████▌ | 302/354 [00:44<00:08,  6.30it/s]"
     ]
    },
    {
     "name": "stderr",
     "output_type": "stream",
     "text": [
      "\r",
      " 86%|████████▌ | 303/354 [00:44<00:11,  4.40it/s]"
     ]
    },
    {
     "name": "stderr",
     "output_type": "stream",
     "text": [
      "\r",
      " 86%|████████▌ | 304/354 [00:44<00:10,  4.78it/s]"
     ]
    },
    {
     "name": "stderr",
     "output_type": "stream",
     "text": [
      "\r",
      " 87%|████████▋ | 307/354 [00:45<00:05,  8.31it/s]"
     ]
    },
    {
     "name": "stderr",
     "output_type": "stream",
     "text": [
      "\r",
      " 87%|████████▋ | 309/354 [00:45<00:05,  7.82it/s]"
     ]
    },
    {
     "name": "stderr",
     "output_type": "stream",
     "text": [
      "\r",
      " 88%|████████▊ | 311/354 [00:45<00:05,  8.59it/s]"
     ]
    },
    {
     "name": "stderr",
     "output_type": "stream",
     "text": [
      "\r",
      " 88%|████████▊ | 313/354 [00:46<00:06,  6.05it/s]"
     ]
    },
    {
     "name": "stderr",
     "output_type": "stream",
     "text": [
      "\r",
      " 89%|████████▊ | 314/354 [00:46<00:06,  6.32it/s]"
     ]
    },
    {
     "name": "stderr",
     "output_type": "stream",
     "text": [
      "\r",
      " 90%|████████▉ | 317/354 [00:46<00:04,  8.87it/s]"
     ]
    },
    {
     "name": "stderr",
     "output_type": "stream",
     "text": [
      "\r",
      " 90%|█████████ | 319/354 [00:46<00:04,  7.95it/s]"
     ]
    },
    {
     "name": "stderr",
     "output_type": "stream",
     "text": [
      "\r",
      " 91%|█████████ | 322/354 [00:47<00:03,  8.30it/s]"
     ]
    },
    {
     "name": "stderr",
     "output_type": "stream",
     "text": [
      "\r",
      " 92%|█████████▏| 324/354 [00:47<00:03,  8.53it/s]"
     ]
    },
    {
     "name": "stderr",
     "output_type": "stream",
     "text": [
      "\r",
      " 92%|█████████▏| 325/354 [00:47<00:03,  8.40it/s]"
     ]
    },
    {
     "name": "stderr",
     "output_type": "stream",
     "text": [
      "\r",
      " 92%|█████████▏| 326/354 [00:47<00:03,  7.37it/s]"
     ]
    },
    {
     "name": "stderr",
     "output_type": "stream",
     "text": [
      "\r",
      " 92%|█████████▏| 327/354 [00:47<00:04,  5.66it/s]"
     ]
    },
    {
     "name": "stderr",
     "output_type": "stream",
     "text": [
      "\r",
      " 93%|█████████▎| 329/354 [00:48<00:03,  6.80it/s]"
     ]
    },
    {
     "name": "stderr",
     "output_type": "stream",
     "text": [
      "\r",
      " 93%|█████████▎| 330/354 [00:48<00:03,  6.38it/s]"
     ]
    },
    {
     "name": "stderr",
     "output_type": "stream",
     "text": [
      "\r",
      " 94%|█████████▎| 331/354 [00:48<00:03,  5.82it/s]"
     ]
    },
    {
     "name": "stderr",
     "output_type": "stream",
     "text": [
      "\r",
      " 94%|█████████▍| 332/354 [00:48<00:03,  5.90it/s]"
     ]
    },
    {
     "name": "stderr",
     "output_type": "stream",
     "text": [
      "\r",
      " 95%|█████████▍| 335/354 [00:48<00:02,  8.99it/s]"
     ]
    },
    {
     "name": "stderr",
     "output_type": "stream",
     "text": [
      "\r",
      " 95%|█████████▌| 337/354 [00:49<00:02,  8.32it/s]"
     ]
    },
    {
     "name": "stderr",
     "output_type": "stream",
     "text": [
      "\r",
      " 95%|█████████▌| 338/354 [00:49<00:02,  7.81it/s]"
     ]
    },
    {
     "name": "stderr",
     "output_type": "stream",
     "text": [
      "\r",
      " 96%|█████████▌| 340/354 [00:49<00:02,  5.78it/s]"
     ]
    },
    {
     "name": "stderr",
     "output_type": "stream",
     "text": [
      "\r",
      " 97%|█████████▋| 343/354 [00:50<00:01,  6.97it/s]"
     ]
    },
    {
     "name": "stderr",
     "output_type": "stream",
     "text": [
      "\r",
      " 97%|█████████▋| 344/354 [00:50<00:01,  6.68it/s]"
     ]
    },
    {
     "name": "stderr",
     "output_type": "stream",
     "text": [
      "\r",
      " 97%|█████████▋| 345/354 [00:50<00:01,  6.85it/s]"
     ]
    },
    {
     "name": "stderr",
     "output_type": "stream",
     "text": [
      "\r",
      " 98%|█████████▊| 347/354 [00:50<00:00,  7.28it/s]"
     ]
    },
    {
     "name": "stderr",
     "output_type": "stream",
     "text": [
      "\r",
      " 99%|█████████▊| 349/354 [00:51<00:00,  6.50it/s]"
     ]
    },
    {
     "name": "stderr",
     "output_type": "stream",
     "text": [
      "\r",
      " 99%|█████████▉| 350/354 [00:51<00:00,  6.64it/s]"
     ]
    },
    {
     "name": "stderr",
     "output_type": "stream",
     "text": [
      "\r",
      "100%|█████████▉| 353/354 [00:51<00:00,  7.38it/s]"
     ]
    },
    {
     "name": "stderr",
     "output_type": "stream",
     "text": [
      "\r",
      "100%|██████████| 354/354 [00:52<00:00,  3.14it/s]"
     ]
    },
    {
     "name": "stderr",
     "output_type": "stream",
     "text": [
      "\r",
      "100%|██████████| 354/354 [00:52<00:00,  6.72it/s]"
     ]
    },
    {
     "name": "stderr",
     "output_type": "stream",
     "text": [
      "\n"
     ]
    },
    {
     "name": "stdout",
     "output_type": "stream",
     "text": [
      "\n",
      "rate limit: 7 \n",
      "API calls: create: 0, read: 2, update: 354, delete: 0, backoff: 3\n",
      "errors:\n",
      "  503: Service Unavailable: 2\n"
     ]
    },
    {
     "name": "stderr",
     "output_type": "stream",
     "text": [
      "\r",
      "  0%|          | 0/1 [00:00<?, ?it/s]"
     ]
    },
    {
     "name": "stderr",
     "output_type": "stream",
     "text": [
      "\r",
      "100%|██████████| 1/1 [00:00<00:00,  1.21it/s]"
     ]
    },
    {
     "name": "stderr",
     "output_type": "stream",
     "text": [
      "\r",
      "100%|██████████| 1/1 [00:00<00:00,  1.21it/s]"
     ]
    },
    {
     "name": "stdout",
     "output_type": "stream",
     "text": [
      "\n",
      "rate limit: 7 \n",
      "API calls: create: 0, read: 1, update: 1, delete: 0, backoff: 0\n"
     ]
    },
    {
     "name": "stderr",
     "output_type": "stream",
     "text": [
      "\n"
     ]
    }
   ],
   "source": [
    "async def publish():\n",
    "  global dagoverzicht\n",
    "\n",
    "  m = (dagoverzicht == np.inf)\n",
    "  df = dagoverzicht.loc[m.any(axis=1), m.any(axis=0)]\n",
    "  display(df.head())\n",
    "  m = (dagoverzicht == np.nan)\n",
    "  df = dagoverzicht.loc[m.any(axis=1), m.any(axis=0)]\n",
    "  display(df.head())\n",
    "\n",
    "  os.makedirs('artifacts', exist_ok = True)\n",
    "  dagoverzicht.to_csv('artifacts/DagOverzicht.csv', index=True)\n",
    "\n",
    "  if knack:\n",
    "    print('updating knack')\n",
    "    df = dagoverzicht.assign(Key=dagoverzicht.index.strftime('%Y-%m-%d'))\n",
    "    await knack.update(objectName='Dagoverzicht', df=df)\n",
    "    await knack.timestamps('Dagoverzicht', Cache.timestamps)\n",
    "await publish()"
   ]
  },
  {
   "cell_type": "code",
   "execution_count": null,
   "id": "charming-chemical",
   "metadata": {
    "papermill": {
     "duration": 0.085933,
     "end_time": "2021-02-14T17:12:00.292291",
     "exception": false,
     "start_time": "2021-02-14T17:12:00.206358",
     "status": "completed"
    },
    "tags": []
   },
   "outputs": [],
   "source": []
  }
 ],
 "metadata": {
  "jupytext": {
   "cell_metadata_filter": "-all"
  },
  "kernelspec": {
   "display_name": "Python 3",
   "language": "python",
   "name": "python3"
  },
  "language_info": {
   "codemirror_mode": {
    "name": "ipython",
    "version": 3
   },
   "file_extension": ".py",
   "mimetype": "text/x-python",
   "name": "python",
   "nbconvert_exporter": "python",
   "pygments_lexer": "ipython3",
   "version": "3.9.1"
  },
  "papermill": {
   "default_parameters": {},
   "duration": 76.019482,
   "end_time": "2021-02-14T17:12:00.885885",
   "environment_variables": {},
   "exception": null,
   "input_path": "-",
   "output_path": "DagOverzicht.ipynb",
   "parameters": {},
   "start_time": "2021-02-14T17:10:44.866403",
   "version": "2.3.2"
  }
 },
 "nbformat": 4,
 "nbformat_minor": 5
}