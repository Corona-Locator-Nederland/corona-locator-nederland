{
 "cells": [
  {
   "cell_type": "code",
   "execution_count": null,
   "metadata": {
    "lines_to_next_cell": 1
   },
   "outputs": [],
   "source": [
    "from IPython import get_ipython\n",
    "from IPython.display import clear_output\n",
    "get_ipython().run_line_magic('run', 'setup')\n",
    "import itertools"
   ]
  },
  {
   "cell_type": "code",
   "execution_count": null,
   "metadata": {},
   "outputs": [],
   "source": [
    "@run('regio: load regios en hun basisgegevens')\n",
    "def cell():\n",
    "  df = RIVM.json('COVID-19_prevalentie')\n",
    "  df = RIVM.json('COVID-19_reproductiegetal')\n",
    "  #df = CBS.leeftijdsgroepen_bevolking()\n",
    "  df = LCPS.csv('covid-19')\n",
    "  df = RIVM.csv('COVID-19_casus_landelijk')\n",
    "\n",
    "  df = RIVM.csv('COVID-19_aantallen_gemeente_per_dag')\n",
    "  df = df.rename(columns={\n",
    "    'Total_reported': 'Positief getest',\n",
    "    'Deceased': 'Overleden',\n",
    "    'Date_of_publication': 'Datum',\n",
    "  })\n",
    "\n",
    "  df = (df\n",
    "        .groupby(['Datum'])\n",
    "        .agg({'Positief getest': 'sum', 'Overleden': 'sum'})\n",
    "        .reset_index()\n",
    "  )\n",
    "  df['Key'] = df['Datum']\n",
    "  df['LandCode'] = 'NL'\n",
    "  df['cumsum'] = df['Positief getest'].cumsum()\n",
    "  display(df.head())"
   ]
  },
  {
   "cell_type": "code",
   "execution_count": null,
   "metadata": {},
   "outputs": [],
   "source": []
  }
 ],
 "metadata": {
  "jupytext": {
   "cell_metadata_filter": "-all"
  },
  "kernelspec": {
   "display_name": "Python 3",
   "language": "python",
   "name": "python3"
  }
 },
 "nbformat": 4,
 "nbformat_minor": 4
}
