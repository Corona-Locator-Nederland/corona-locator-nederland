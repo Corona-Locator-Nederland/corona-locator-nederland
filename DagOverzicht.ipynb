{
 "cells": [
  {
   "cell_type": "code",
   "execution_count": 1,
   "id": "strategic-thought",
   "metadata": {
    "execution": {
     "iopub.execute_input": "2021-02-18T14:35:22.164909Z",
     "iopub.status.busy": "2021-02-18T14:35:22.162568Z",
     "iopub.status.idle": "2021-02-18T14:35:27.619034Z",
     "shell.execute_reply": "2021-02-18T14:35:27.618415Z"
    },
    "lines_to_next_cell": 1,
    "papermill": {
     "duration": 5.476667,
     "end_time": "2021-02-18T14:35:27.619179",
     "exception": false,
     "start_time": "2021-02-18T14:35:22.142512",
     "status": "completed"
    },
    "tags": []
   },
   "outputs": [],
   "source": [
    "from IPython import get_ipython\n",
    "from IPython.core.display import display\n",
    "get_ipython().run_line_magic('load_ext', 'autoreload')\n",
    "get_ipython().run_line_magic('autoreload', '2')\n",
    "get_ipython().run_line_magic('run', 'setup')\n",
    "\n",
    "bevolking = CBS.bevolking().iloc[0]\n",
    "#display(bevolking.BevolkingOpDeEersteVanDeMaand)\n",
    "#display(bevolking['per 100k'])\n",
    "\n",
    "def addstats(df):\n",
    "  global dagoverzicht\n",
    "\n",
    "  # de aanname is dat df al gegroepeerd is op datum, en dat de kolommen de dagtotalen zijn\n",
    "  dagoverzicht = dagoverzicht.merge(df, how='left', left_index=True, right_index=True)\n",
    "  for stat in df.columns:\n",
    "    # nieuw = dagtotaal, zet missende dagtotalen op 0\n",
    "    dagoverzicht[f'{stat} (nieuw)'] = dagoverzicht[stat].fillna(0).astype(int)\n",
    "    # kolom met eerder de dagtotalen = cumulatieve som over dagtotalen\n",
    "    dagoverzicht[stat] = dagoverzicht[f'{stat} (nieuw)'].cumsum()\n",
    "    # factor voor 100k\n",
    "    dagoverzicht[f'{stat} per 100.000'] = dagoverzicht[stat] * bevolking['per 100k']\n",
    "    # verschil met 7 dagen terug\n",
    "    dagoverzicht[f'{stat} 7d'] = dagoverzicht[f'{stat} (nieuw)'].rolling(7).sum().fillna(0)\n",
    "    # en weer factor 100 k\n",
    "    dagoverzicht[f'{stat} 7d per 100.000'] = dagoverzicht[f'{stat} 7d'] * bevolking['per 100k']"
   ]
  },
  {
   "cell_type": "code",
   "execution_count": 2,
   "id": "instrumental-terror",
   "metadata": {
    "execution": {
     "iopub.execute_input": "2021-02-18T14:35:27.637465Z",
     "iopub.status.busy": "2021-02-18T14:35:27.636903Z",
     "iopub.status.idle": "2021-02-18T14:35:28.876013Z",
     "shell.execute_reply": "2021-02-18T14:35:28.876799Z"
    },
    "lines_to_next_cell": 1,
    "papermill": {
     "duration": 1.249784,
     "end_time": "2021-02-18T14:35:28.876972",
     "exception": false,
     "start_time": "2021-02-18T14:35:27.627188",
     "status": "completed"
    },
    "tags": []
   },
   "outputs": [
    {
     "name": "stdout",
     "output_type": "stream",
     "text": [
      "set up base frame from ESRI -> NICE\n"
     ]
    },
    {
     "name": "stdout",
     "output_type": "stream",
     "text": [
      "downloading nice/f27f743476a142538e8054f7a7ce12e1_0-2021-02-18@13-28.csv\n"
     ]
    },
    {
     "name": "stdout",
     "output_type": "stream",
     "text": [
      "loading nice/f27f743476a142538e8054f7a7ce12e1_0-2021-02-18@13-28.csv.gz\n"
     ]
    }
   ],
   "source": [
    "@run('set up base frame from ESRI -> NICE')\n",
    "def cell():\n",
    "  df = ArcGIS.nice('f27f743476a142538e8054f7a7ce12e1')\n",
    "\n",
    "  df['date'] = pd.to_datetime(df.date.str.replace(' .*', '', regex=True))\n",
    "  df.set_index('date', inplace=True)\n",
    "\n",
    "  # base date range uit NICE\n",
    "  global dagoverzicht\n",
    "  # maak leeg dataframe met een rij voor elke dag van 2020-02-27 tm Date_of_publication\n",
    "  dagoverzicht = pd.DataFrame(index=pd.date_range(start='2020-02-27', end=df.index.max()))\n",
    "  # noem de index Key\n",
    "  dagoverzicht.index.name='Key'\n",
    "  # vul de datum kolom\n",
    "  dagoverzicht['Datum'] = dagoverzicht.index.strftime('%Y-%m-%d')\n",
    "  # vaste waarde voor LandCode\n",
    "  dagoverzicht['LandCode'] = 'NL'\n",
    "\n",
    "  # the NICE data as prepared by ESRI can just be used as-is, so just rename the columns\n",
    "  for prefix, kind in [ ('ic', 'IC'), ('zkh', 'Ziekenhuis') ]:\n",
    "    df = df.rename(columns={\n",
    "      f'{prefix}NewIntake': f'NICE {kind} Bedden (intake)',\n",
    "      f'{prefix}IntakeCount': f'NICE {kind} Bedden',\n",
    "      f'{prefix}IntakeCumulative': f'NICE {kind} Bedden (cumulatief)',\n",
    "      f'{prefix}DiedCumulative': f'NICE {kind} Overleden',\n",
    "    })\n",
    "\n",
    "  # remove the columns we don't use\n",
    "  df = df[[col for col in df.columns if 'NICE' in col]]\n",
    "  dagoverzicht = dagoverzicht.merge(df, how='left', left_index=True, right_index=True)\n",
    "\n",
    "  # after the merge, dates missing in the ESRI/NICE set will be `nan`, so fill these\n",
    "  for col in df.columns:\n",
    "    # for cumulatief columns, fill-forward from last known value\n",
    "    if 'cumulatief' in col:\n",
    "      dagoverzicht[col] = dagoverzicht[col].ffill()\n",
    "    # for non-cumulative and whatever remains in cumulative after fill forward (which will be leading nan's), fill with 0\n",
    "    dagoverzicht[col] = dagoverzicht[col].fillna(0)\n",
    "\n",
    "  for kind in [ 'IC', 'Ziekenhuis' ]:\n",
    "    dagoverzicht[f'NICE {kind} Bedden (toename)'] = (dagoverzicht[f'NICE {kind} Bedden'] - dagoverzicht[f'NICE {kind} Bedden'].shift(1)).fillna(0)\n",
    "\n",
    "  for window, shift, past in [(3, 1, 'afgelopen '), (7, 0, '')]:\n",
    "    dagoverzicht[f'NICE IC Bedden (intake) {past}{window}d'] = dagoverzicht['NICE IC Bedden (intake)'].shift(shift).rolling(window).sum().fillna(0)\n",
    "\n",
    "  dagoverzicht['NICE IC Bedden (intake) week-1'] = dagoverzicht['NICE IC Bedden (intake) 7d'].shift(7).fillna(0)"
   ]
  },
  {
   "cell_type": "code",
   "execution_count": 3,
   "id": "varied-portuguese",
   "metadata": {
    "execution": {
     "iopub.execute_input": "2021-02-18T14:35:28.901960Z",
     "iopub.status.busy": "2021-02-18T14:35:28.901404Z",
     "iopub.status.idle": "2021-02-18T14:35:29.932219Z",
     "shell.execute_reply": "2021-02-18T14:35:29.932669Z"
    },
    "lines_to_next_cell": 1,
    "papermill": {
     "duration": 1.04704,
     "end_time": "2021-02-18T14:35:29.932836",
     "exception": false,
     "start_time": "2021-02-18T14:35:28.885796",
     "status": "completed"
    },
    "tags": []
   },
   "outputs": [
    {
     "name": "stdout",
     "output_type": "stream",
     "text": [
      "overleden + positief getest\n"
     ]
    },
    {
     "name": "stdout",
     "output_type": "stream",
     "text": [
      "rivm/COVID-19_aantallen_gemeente_per_dag-2021-02-18@14-15.csv exists\n",
      "loading rivm/COVID-19_aantallen_gemeente_per_dag-2021-02-18@14-15.csv.gz\n"
     ]
    },
    {
     "data": {
      "text/html": [
       "<div>\n",
       "<style scoped>\n",
       "    .dataframe tbody tr th:only-of-type {\n",
       "        vertical-align: middle;\n",
       "    }\n",
       "\n",
       "    .dataframe tbody tr th {\n",
       "        vertical-align: top;\n",
       "    }\n",
       "\n",
       "    .dataframe thead th {\n",
       "        text-align: right;\n",
       "    }\n",
       "</style>\n",
       "<table border=\"1\" class=\"dataframe\">\n",
       "  <thead>\n",
       "    <tr style=\"text-align: right;\">\n",
       "      <th></th>\n",
       "      <th>Datum</th>\n",
       "      <th>LandCode</th>\n",
       "      <th>NICE IC Bedden (intake)</th>\n",
       "      <th>NICE IC Bedden (cumulatief)</th>\n",
       "      <th>NICE IC Bedden</th>\n",
       "      <th>NICE IC Overleden</th>\n",
       "      <th>NICE Ziekenhuis Bedden (intake)</th>\n",
       "      <th>NICE Ziekenhuis Bedden (cumulatief)</th>\n",
       "      <th>NICE Ziekenhuis Bedden</th>\n",
       "      <th>NICE Ziekenhuis Overleden</th>\n",
       "      <th>...</th>\n",
       "      <th>Positief getest (nieuw)</th>\n",
       "      <th>Positief getest per 100.000</th>\n",
       "      <th>Positief getest 7d</th>\n",
       "      <th>Positief getest 7d per 100.000</th>\n",
       "      <th>Overleden (nieuw)</th>\n",
       "      <th>Overleden per 100.000</th>\n",
       "      <th>Overleden 7d</th>\n",
       "      <th>Overleden 7d per 100.000</th>\n",
       "      <th>Overleden week-1</th>\n",
       "      <th>Positief getest week-1</th>\n",
       "    </tr>\n",
       "    <tr>\n",
       "      <th>Key</th>\n",
       "      <th></th>\n",
       "      <th></th>\n",
       "      <th></th>\n",
       "      <th></th>\n",
       "      <th></th>\n",
       "      <th></th>\n",
       "      <th></th>\n",
       "      <th></th>\n",
       "      <th></th>\n",
       "      <th></th>\n",
       "      <th></th>\n",
       "      <th></th>\n",
       "      <th></th>\n",
       "      <th></th>\n",
       "      <th></th>\n",
       "      <th></th>\n",
       "      <th></th>\n",
       "      <th></th>\n",
       "      <th></th>\n",
       "      <th></th>\n",
       "      <th></th>\n",
       "    </tr>\n",
       "  </thead>\n",
       "  <tbody>\n",
       "    <tr>\n",
       "      <th>2020-02-27</th>\n",
       "      <td>2020-02-27</td>\n",
       "      <td>NL</td>\n",
       "      <td>1</td>\n",
       "      <td>13</td>\n",
       "      <td>13</td>\n",
       "      <td>0</td>\n",
       "      <td>2</td>\n",
       "      <td>66</td>\n",
       "      <td>63</td>\n",
       "      <td>0</td>\n",
       "      <td>...</td>\n",
       "      <td>0</td>\n",
       "      <td>0.000000</td>\n",
       "      <td>0.0</td>\n",
       "      <td>0.000000</td>\n",
       "      <td>0</td>\n",
       "      <td>0.000000</td>\n",
       "      <td>0.0</td>\n",
       "      <td>0.000000</td>\n",
       "      <td>0.0</td>\n",
       "      <td>0.0</td>\n",
       "    </tr>\n",
       "    <tr>\n",
       "      <th>2020-02-28</th>\n",
       "      <td>2020-02-28</td>\n",
       "      <td>NL</td>\n",
       "      <td>0</td>\n",
       "      <td>14</td>\n",
       "      <td>14</td>\n",
       "      <td>0</td>\n",
       "      <td>3</td>\n",
       "      <td>69</td>\n",
       "      <td>66</td>\n",
       "      <td>0</td>\n",
       "      <td>...</td>\n",
       "      <td>1</td>\n",
       "      <td>0.005723</td>\n",
       "      <td>0.0</td>\n",
       "      <td>0.000000</td>\n",
       "      <td>0</td>\n",
       "      <td>0.000000</td>\n",
       "      <td>0.0</td>\n",
       "      <td>0.000000</td>\n",
       "      <td>0.0</td>\n",
       "      <td>0.0</td>\n",
       "    </tr>\n",
       "    <tr>\n",
       "      <th>2020-02-29</th>\n",
       "      <td>2020-02-29</td>\n",
       "      <td>NL</td>\n",
       "      <td>0</td>\n",
       "      <td>15</td>\n",
       "      <td>15</td>\n",
       "      <td>0</td>\n",
       "      <td>1</td>\n",
       "      <td>70</td>\n",
       "      <td>66</td>\n",
       "      <td>0</td>\n",
       "      <td>...</td>\n",
       "      <td>1</td>\n",
       "      <td>0.011445</td>\n",
       "      <td>0.0</td>\n",
       "      <td>0.000000</td>\n",
       "      <td>0</td>\n",
       "      <td>0.000000</td>\n",
       "      <td>0.0</td>\n",
       "      <td>0.000000</td>\n",
       "      <td>0.0</td>\n",
       "      <td>0.0</td>\n",
       "    </tr>\n",
       "    <tr>\n",
       "      <th>2020-03-01</th>\n",
       "      <td>2020-03-01</td>\n",
       "      <td>NL</td>\n",
       "      <td>2</td>\n",
       "      <td>17</td>\n",
       "      <td>17</td>\n",
       "      <td>0</td>\n",
       "      <td>7</td>\n",
       "      <td>78</td>\n",
       "      <td>74</td>\n",
       "      <td>0</td>\n",
       "      <td>...</td>\n",
       "      <td>3</td>\n",
       "      <td>0.028613</td>\n",
       "      <td>0.0</td>\n",
       "      <td>0.000000</td>\n",
       "      <td>0</td>\n",
       "      <td>0.000000</td>\n",
       "      <td>0.0</td>\n",
       "      <td>0.000000</td>\n",
       "      <td>0.0</td>\n",
       "      <td>0.0</td>\n",
       "    </tr>\n",
       "    <tr>\n",
       "      <th>2020-03-02</th>\n",
       "      <td>2020-03-02</td>\n",
       "      <td>NL</td>\n",
       "      <td>0</td>\n",
       "      <td>17</td>\n",
       "      <td>16</td>\n",
       "      <td>0</td>\n",
       "      <td>10</td>\n",
       "      <td>89</td>\n",
       "      <td>85</td>\n",
       "      <td>0</td>\n",
       "      <td>...</td>\n",
       "      <td>5</td>\n",
       "      <td>0.057226</td>\n",
       "      <td>0.0</td>\n",
       "      <td>0.000000</td>\n",
       "      <td>0</td>\n",
       "      <td>0.000000</td>\n",
       "      <td>0.0</td>\n",
       "      <td>0.000000</td>\n",
       "      <td>0.0</td>\n",
       "      <td>0.0</td>\n",
       "    </tr>\n",
       "    <tr>\n",
       "      <th>2020-03-03</th>\n",
       "      <td>2020-03-03</td>\n",
       "      <td>NL</td>\n",
       "      <td>1</td>\n",
       "      <td>19</td>\n",
       "      <td>18</td>\n",
       "      <td>0</td>\n",
       "      <td>8</td>\n",
       "      <td>97</td>\n",
       "      <td>92</td>\n",
       "      <td>0</td>\n",
       "      <td>...</td>\n",
       "      <td>4</td>\n",
       "      <td>0.080116</td>\n",
       "      <td>0.0</td>\n",
       "      <td>0.000000</td>\n",
       "      <td>0</td>\n",
       "      <td>0.000000</td>\n",
       "      <td>0.0</td>\n",
       "      <td>0.000000</td>\n",
       "      <td>0.0</td>\n",
       "      <td>0.0</td>\n",
       "    </tr>\n",
       "    <tr>\n",
       "      <th>2020-03-04</th>\n",
       "      <td>2020-03-04</td>\n",
       "      <td>NL</td>\n",
       "      <td>3</td>\n",
       "      <td>22</td>\n",
       "      <td>21</td>\n",
       "      <td>0</td>\n",
       "      <td>10</td>\n",
       "      <td>110</td>\n",
       "      <td>104</td>\n",
       "      <td>0</td>\n",
       "      <td>...</td>\n",
       "      <td>10</td>\n",
       "      <td>0.137341</td>\n",
       "      <td>24.0</td>\n",
       "      <td>0.137341</td>\n",
       "      <td>0</td>\n",
       "      <td>0.000000</td>\n",
       "      <td>0.0</td>\n",
       "      <td>0.000000</td>\n",
       "      <td>0.0</td>\n",
       "      <td>0.0</td>\n",
       "    </tr>\n",
       "    <tr>\n",
       "      <th>2020-03-05</th>\n",
       "      <td>2020-03-05</td>\n",
       "      <td>NL</td>\n",
       "      <td>1</td>\n",
       "      <td>24</td>\n",
       "      <td>21</td>\n",
       "      <td>0</td>\n",
       "      <td>12</td>\n",
       "      <td>122</td>\n",
       "      <td>114</td>\n",
       "      <td>0</td>\n",
       "      <td>...</td>\n",
       "      <td>17</td>\n",
       "      <td>0.234625</td>\n",
       "      <td>41.0</td>\n",
       "      <td>0.234625</td>\n",
       "      <td>0</td>\n",
       "      <td>0.000000</td>\n",
       "      <td>0.0</td>\n",
       "      <td>0.000000</td>\n",
       "      <td>0.0</td>\n",
       "      <td>0.0</td>\n",
       "    </tr>\n",
       "    <tr>\n",
       "      <th>2020-03-06</th>\n",
       "      <td>2020-03-06</td>\n",
       "      <td>NL</td>\n",
       "      <td>4</td>\n",
       "      <td>28</td>\n",
       "      <td>24</td>\n",
       "      <td>0</td>\n",
       "      <td>19</td>\n",
       "      <td>139</td>\n",
       "      <td>130</td>\n",
       "      <td>0</td>\n",
       "      <td>...</td>\n",
       "      <td>40</td>\n",
       "      <td>0.463527</td>\n",
       "      <td>80.0</td>\n",
       "      <td>0.457805</td>\n",
       "      <td>0</td>\n",
       "      <td>0.000000</td>\n",
       "      <td>0.0</td>\n",
       "      <td>0.000000</td>\n",
       "      <td>0.0</td>\n",
       "      <td>0.0</td>\n",
       "    </tr>\n",
       "    <tr>\n",
       "      <th>2020-03-07</th>\n",
       "      <td>2020-03-07</td>\n",
       "      <td>NL</td>\n",
       "      <td>3</td>\n",
       "      <td>31</td>\n",
       "      <td>26</td>\n",
       "      <td>0</td>\n",
       "      <td>7</td>\n",
       "      <td>147</td>\n",
       "      <td>138</td>\n",
       "      <td>1</td>\n",
       "      <td>...</td>\n",
       "      <td>50</td>\n",
       "      <td>0.749656</td>\n",
       "      <td>129.0</td>\n",
       "      <td>0.738210</td>\n",
       "      <td>1</td>\n",
       "      <td>0.005723</td>\n",
       "      <td>1.0</td>\n",
       "      <td>0.005723</td>\n",
       "      <td>0.0</td>\n",
       "      <td>0.0</td>\n",
       "    </tr>\n",
       "  </tbody>\n",
       "</table>\n",
       "<p>10 rows × 27 columns</p>\n",
       "</div>"
      ],
      "text/plain": [
       "                 Datum LandCode  NICE IC Bedden (intake)  \\\n",
       "Key                                                        \n",
       "2020-02-27  2020-02-27       NL                        1   \n",
       "2020-02-28  2020-02-28       NL                        0   \n",
       "2020-02-29  2020-02-29       NL                        0   \n",
       "2020-03-01  2020-03-01       NL                        2   \n",
       "2020-03-02  2020-03-02       NL                        0   \n",
       "2020-03-03  2020-03-03       NL                        1   \n",
       "2020-03-04  2020-03-04       NL                        3   \n",
       "2020-03-05  2020-03-05       NL                        1   \n",
       "2020-03-06  2020-03-06       NL                        4   \n",
       "2020-03-07  2020-03-07       NL                        3   \n",
       "\n",
       "            NICE IC Bedden (cumulatief)  NICE IC Bedden  NICE IC Overleden  \\\n",
       "Key                                                                          \n",
       "2020-02-27                           13              13                  0   \n",
       "2020-02-28                           14              14                  0   \n",
       "2020-02-29                           15              15                  0   \n",
       "2020-03-01                           17              17                  0   \n",
       "2020-03-02                           17              16                  0   \n",
       "2020-03-03                           19              18                  0   \n",
       "2020-03-04                           22              21                  0   \n",
       "2020-03-05                           24              21                  0   \n",
       "2020-03-06                           28              24                  0   \n",
       "2020-03-07                           31              26                  0   \n",
       "\n",
       "            NICE Ziekenhuis Bedden (intake)  \\\n",
       "Key                                           \n",
       "2020-02-27                                2   \n",
       "2020-02-28                                3   \n",
       "2020-02-29                                1   \n",
       "2020-03-01                                7   \n",
       "2020-03-02                               10   \n",
       "2020-03-03                                8   \n",
       "2020-03-04                               10   \n",
       "2020-03-05                               12   \n",
       "2020-03-06                               19   \n",
       "2020-03-07                                7   \n",
       "\n",
       "            NICE Ziekenhuis Bedden (cumulatief)  NICE Ziekenhuis Bedden  \\\n",
       "Key                                                                       \n",
       "2020-02-27                                   66                      63   \n",
       "2020-02-28                                   69                      66   \n",
       "2020-02-29                                   70                      66   \n",
       "2020-03-01                                   78                      74   \n",
       "2020-03-02                                   89                      85   \n",
       "2020-03-03                                   97                      92   \n",
       "2020-03-04                                  110                     104   \n",
       "2020-03-05                                  122                     114   \n",
       "2020-03-06                                  139                     130   \n",
       "2020-03-07                                  147                     138   \n",
       "\n",
       "            NICE Ziekenhuis Overleden  ...  Positief getest (nieuw)  \\\n",
       "Key                                    ...                            \n",
       "2020-02-27                          0  ...                        0   \n",
       "2020-02-28                          0  ...                        1   \n",
       "2020-02-29                          0  ...                        1   \n",
       "2020-03-01                          0  ...                        3   \n",
       "2020-03-02                          0  ...                        5   \n",
       "2020-03-03                          0  ...                        4   \n",
       "2020-03-04                          0  ...                       10   \n",
       "2020-03-05                          0  ...                       17   \n",
       "2020-03-06                          0  ...                       40   \n",
       "2020-03-07                          1  ...                       50   \n",
       "\n",
       "            Positief getest per 100.000  Positief getest 7d  \\\n",
       "Key                                                           \n",
       "2020-02-27                     0.000000                 0.0   \n",
       "2020-02-28                     0.005723                 0.0   \n",
       "2020-02-29                     0.011445                 0.0   \n",
       "2020-03-01                     0.028613                 0.0   \n",
       "2020-03-02                     0.057226                 0.0   \n",
       "2020-03-03                     0.080116                 0.0   \n",
       "2020-03-04                     0.137341                24.0   \n",
       "2020-03-05                     0.234625                41.0   \n",
       "2020-03-06                     0.463527                80.0   \n",
       "2020-03-07                     0.749656               129.0   \n",
       "\n",
       "            Positief getest 7d per 100.000  Overleden (nieuw)  \\\n",
       "Key                                                             \n",
       "2020-02-27                        0.000000                  0   \n",
       "2020-02-28                        0.000000                  0   \n",
       "2020-02-29                        0.000000                  0   \n",
       "2020-03-01                        0.000000                  0   \n",
       "2020-03-02                        0.000000                  0   \n",
       "2020-03-03                        0.000000                  0   \n",
       "2020-03-04                        0.137341                  0   \n",
       "2020-03-05                        0.234625                  0   \n",
       "2020-03-06                        0.457805                  0   \n",
       "2020-03-07                        0.738210                  1   \n",
       "\n",
       "            Overleden per 100.000  Overleden 7d  Overleden 7d per 100.000  \\\n",
       "Key                                                                         \n",
       "2020-02-27               0.000000           0.0                  0.000000   \n",
       "2020-02-28               0.000000           0.0                  0.000000   \n",
       "2020-02-29               0.000000           0.0                  0.000000   \n",
       "2020-03-01               0.000000           0.0                  0.000000   \n",
       "2020-03-02               0.000000           0.0                  0.000000   \n",
       "2020-03-03               0.000000           0.0                  0.000000   \n",
       "2020-03-04               0.000000           0.0                  0.000000   \n",
       "2020-03-05               0.000000           0.0                  0.000000   \n",
       "2020-03-06               0.000000           0.0                  0.000000   \n",
       "2020-03-07               0.005723           1.0                  0.005723   \n",
       "\n",
       "            Overleden week-1  Positief getest week-1  \n",
       "Key                                                   \n",
       "2020-02-27               0.0                     0.0  \n",
       "2020-02-28               0.0                     0.0  \n",
       "2020-02-29               0.0                     0.0  \n",
       "2020-03-01               0.0                     0.0  \n",
       "2020-03-02               0.0                     0.0  \n",
       "2020-03-03               0.0                     0.0  \n",
       "2020-03-04               0.0                     0.0  \n",
       "2020-03-05               0.0                     0.0  \n",
       "2020-03-06               0.0                     0.0  \n",
       "2020-03-07               0.0                     0.0  \n",
       "\n",
       "[10 rows x 27 columns]"
      ]
     },
     "metadata": {},
     "output_type": "display_data"
    }
   ],
   "source": [
    "@run('overleden + positief getest')\n",
    "def cell():\n",
    "  df = RIVM.csv('COVID-19_aantallen_gemeente_per_dag').rename(columns={\n",
    "    'Total_reported': 'Positief getest',\n",
    "    'Deceased': 'Overleden',\n",
    "    'Date_of_publication': 'Datum',\n",
    "    'Date_of_report': 'Today',\n",
    "  })\n",
    "  # sloop tijd van de datum en zet om in datetime object\n",
    "  df['Datum'] = pd.to_datetime(df.Datum.str.replace(' .*', '', regex=True))\n",
    "\n",
    "  # sommeer pos en overl op datum en voeg toe aan dagoverzicht\n",
    "  addstats(df.groupby(['Datum']).agg({'Positief getest': 'sum', 'Overleden': 'sum'}))\n",
    "  global dagoverzicht\n",
    "  for col in ['Overleden', 'Positief getest']:\n",
    "    dagoverzicht[f'{col} week-1'] = dagoverzicht[f'{col} 7d'].shift(7).fillna(0)\n",
    "  display(dagoverzicht.head(10))"
   ]
  },
  {
   "cell_type": "code",
   "execution_count": 4,
   "id": "precious-procurement",
   "metadata": {
    "execution": {
     "iopub.execute_input": "2021-02-18T14:35:29.962035Z",
     "iopub.status.busy": "2021-02-18T14:35:29.961053Z",
     "iopub.status.idle": "2021-02-18T14:35:30.795597Z",
     "shell.execute_reply": "2021-02-18T14:35:30.796097Z"
    },
    "lines_to_next_cell": 1,
    "papermill": {
     "duration": 0.85254,
     "end_time": "2021-02-18T14:35:30.796267",
     "exception": false,
     "start_time": "2021-02-18T14:35:29.943727",
     "status": "completed"
    },
    "tags": []
   },
   "outputs": [
    {
     "name": "stdout",
     "output_type": "stream",
     "text": [
      "ziekenhuisopnames\n"
     ]
    },
    {
     "name": "stdout",
     "output_type": "stream",
     "text": [
      "rivm/COVID-19_ziekenhuisopnames-2021-02-18@14-15.csv exists\n",
      "loading rivm/COVID-19_ziekenhuisopnames-2021-02-18@14-15.csv.gz\n"
     ]
    },
    {
     "data": {
      "text/html": [
       "<div>\n",
       "<style scoped>\n",
       "    .dataframe tbody tr th:only-of-type {\n",
       "        vertical-align: middle;\n",
       "    }\n",
       "\n",
       "    .dataframe tbody tr th {\n",
       "        vertical-align: top;\n",
       "    }\n",
       "\n",
       "    .dataframe thead th {\n",
       "        text-align: right;\n",
       "    }\n",
       "</style>\n",
       "<table border=\"1\" class=\"dataframe\">\n",
       "  <thead>\n",
       "    <tr style=\"text-align: right;\">\n",
       "      <th></th>\n",
       "      <th>Datum</th>\n",
       "      <th>LandCode</th>\n",
       "      <th>NICE IC Bedden (intake)</th>\n",
       "      <th>NICE IC Bedden (cumulatief)</th>\n",
       "      <th>NICE IC Bedden</th>\n",
       "      <th>NICE IC Overleden</th>\n",
       "      <th>NICE Ziekenhuis Bedden (intake)</th>\n",
       "      <th>NICE Ziekenhuis Bedden (cumulatief)</th>\n",
       "      <th>NICE Ziekenhuis Bedden</th>\n",
       "      <th>NICE Ziekenhuis Overleden</th>\n",
       "      <th>...</th>\n",
       "      <th>Overleden 7d</th>\n",
       "      <th>Overleden 7d per 100.000</th>\n",
       "      <th>Overleden week-1</th>\n",
       "      <th>Positief getest week-1</th>\n",
       "      <th>Ziekenhuisopnames</th>\n",
       "      <th>Ziekenhuisopnames (nieuw)</th>\n",
       "      <th>Ziekenhuisopnames per 100.000</th>\n",
       "      <th>Ziekenhuisopnames 7d</th>\n",
       "      <th>Ziekenhuisopnames 7d per 100.000</th>\n",
       "      <th>Ziekenhuisopnames week-1</th>\n",
       "    </tr>\n",
       "    <tr>\n",
       "      <th>Key</th>\n",
       "      <th></th>\n",
       "      <th></th>\n",
       "      <th></th>\n",
       "      <th></th>\n",
       "      <th></th>\n",
       "      <th></th>\n",
       "      <th></th>\n",
       "      <th></th>\n",
       "      <th></th>\n",
       "      <th></th>\n",
       "      <th></th>\n",
       "      <th></th>\n",
       "      <th></th>\n",
       "      <th></th>\n",
       "      <th></th>\n",
       "      <th></th>\n",
       "      <th></th>\n",
       "      <th></th>\n",
       "      <th></th>\n",
       "      <th></th>\n",
       "      <th></th>\n",
       "    </tr>\n",
       "  </thead>\n",
       "  <tbody>\n",
       "    <tr>\n",
       "      <th>2020-02-27</th>\n",
       "      <td>2020-02-27</td>\n",
       "      <td>NL</td>\n",
       "      <td>1</td>\n",
       "      <td>13</td>\n",
       "      <td>13</td>\n",
       "      <td>0</td>\n",
       "      <td>2</td>\n",
       "      <td>66</td>\n",
       "      <td>63</td>\n",
       "      <td>0</td>\n",
       "      <td>...</td>\n",
       "      <td>0.0</td>\n",
       "      <td>0.0</td>\n",
       "      <td>0.0</td>\n",
       "      <td>0.0</td>\n",
       "      <td>3</td>\n",
       "      <td>3</td>\n",
       "      <td>0.017168</td>\n",
       "      <td>0.0</td>\n",
       "      <td>0.0</td>\n",
       "      <td>0.0</td>\n",
       "    </tr>\n",
       "    <tr>\n",
       "      <th>2020-02-28</th>\n",
       "      <td>2020-02-28</td>\n",
       "      <td>NL</td>\n",
       "      <td>0</td>\n",
       "      <td>14</td>\n",
       "      <td>14</td>\n",
       "      <td>0</td>\n",
       "      <td>3</td>\n",
       "      <td>69</td>\n",
       "      <td>66</td>\n",
       "      <td>0</td>\n",
       "      <td>...</td>\n",
       "      <td>0.0</td>\n",
       "      <td>0.0</td>\n",
       "      <td>0.0</td>\n",
       "      <td>0.0</td>\n",
       "      <td>6</td>\n",
       "      <td>3</td>\n",
       "      <td>0.034335</td>\n",
       "      <td>0.0</td>\n",
       "      <td>0.0</td>\n",
       "      <td>0.0</td>\n",
       "    </tr>\n",
       "    <tr>\n",
       "      <th>2020-02-29</th>\n",
       "      <td>2020-02-29</td>\n",
       "      <td>NL</td>\n",
       "      <td>0</td>\n",
       "      <td>15</td>\n",
       "      <td>15</td>\n",
       "      <td>0</td>\n",
       "      <td>1</td>\n",
       "      <td>70</td>\n",
       "      <td>66</td>\n",
       "      <td>0</td>\n",
       "      <td>...</td>\n",
       "      <td>0.0</td>\n",
       "      <td>0.0</td>\n",
       "      <td>0.0</td>\n",
       "      <td>0.0</td>\n",
       "      <td>8</td>\n",
       "      <td>2</td>\n",
       "      <td>0.045780</td>\n",
       "      <td>0.0</td>\n",
       "      <td>0.0</td>\n",
       "      <td>0.0</td>\n",
       "    </tr>\n",
       "    <tr>\n",
       "      <th>2020-03-01</th>\n",
       "      <td>2020-03-01</td>\n",
       "      <td>NL</td>\n",
       "      <td>2</td>\n",
       "      <td>17</td>\n",
       "      <td>17</td>\n",
       "      <td>0</td>\n",
       "      <td>7</td>\n",
       "      <td>78</td>\n",
       "      <td>74</td>\n",
       "      <td>0</td>\n",
       "      <td>...</td>\n",
       "      <td>0.0</td>\n",
       "      <td>0.0</td>\n",
       "      <td>0.0</td>\n",
       "      <td>0.0</td>\n",
       "      <td>17</td>\n",
       "      <td>9</td>\n",
       "      <td>0.097284</td>\n",
       "      <td>0.0</td>\n",
       "      <td>0.0</td>\n",
       "      <td>0.0</td>\n",
       "    </tr>\n",
       "    <tr>\n",
       "      <th>2020-03-02</th>\n",
       "      <td>2020-03-02</td>\n",
       "      <td>NL</td>\n",
       "      <td>0</td>\n",
       "      <td>17</td>\n",
       "      <td>16</td>\n",
       "      <td>0</td>\n",
       "      <td>10</td>\n",
       "      <td>89</td>\n",
       "      <td>85</td>\n",
       "      <td>0</td>\n",
       "      <td>...</td>\n",
       "      <td>0.0</td>\n",
       "      <td>0.0</td>\n",
       "      <td>0.0</td>\n",
       "      <td>0.0</td>\n",
       "      <td>27</td>\n",
       "      <td>10</td>\n",
       "      <td>0.154509</td>\n",
       "      <td>0.0</td>\n",
       "      <td>0.0</td>\n",
       "      <td>0.0</td>\n",
       "    </tr>\n",
       "  </tbody>\n",
       "</table>\n",
       "<p>5 rows × 33 columns</p>\n",
       "</div>"
      ],
      "text/plain": [
       "                 Datum LandCode  NICE IC Bedden (intake)  \\\n",
       "Key                                                        \n",
       "2020-02-27  2020-02-27       NL                        1   \n",
       "2020-02-28  2020-02-28       NL                        0   \n",
       "2020-02-29  2020-02-29       NL                        0   \n",
       "2020-03-01  2020-03-01       NL                        2   \n",
       "2020-03-02  2020-03-02       NL                        0   \n",
       "\n",
       "            NICE IC Bedden (cumulatief)  NICE IC Bedden  NICE IC Overleden  \\\n",
       "Key                                                                          \n",
       "2020-02-27                           13              13                  0   \n",
       "2020-02-28                           14              14                  0   \n",
       "2020-02-29                           15              15                  0   \n",
       "2020-03-01                           17              17                  0   \n",
       "2020-03-02                           17              16                  0   \n",
       "\n",
       "            NICE Ziekenhuis Bedden (intake)  \\\n",
       "Key                                           \n",
       "2020-02-27                                2   \n",
       "2020-02-28                                3   \n",
       "2020-02-29                                1   \n",
       "2020-03-01                                7   \n",
       "2020-03-02                               10   \n",
       "\n",
       "            NICE Ziekenhuis Bedden (cumulatief)  NICE Ziekenhuis Bedden  \\\n",
       "Key                                                                       \n",
       "2020-02-27                                   66                      63   \n",
       "2020-02-28                                   69                      66   \n",
       "2020-02-29                                   70                      66   \n",
       "2020-03-01                                   78                      74   \n",
       "2020-03-02                                   89                      85   \n",
       "\n",
       "            NICE Ziekenhuis Overleden  ...  Overleden 7d  \\\n",
       "Key                                    ...                 \n",
       "2020-02-27                          0  ...           0.0   \n",
       "2020-02-28                          0  ...           0.0   \n",
       "2020-02-29                          0  ...           0.0   \n",
       "2020-03-01                          0  ...           0.0   \n",
       "2020-03-02                          0  ...           0.0   \n",
       "\n",
       "            Overleden 7d per 100.000  Overleden week-1  \\\n",
       "Key                                                      \n",
       "2020-02-27                       0.0               0.0   \n",
       "2020-02-28                       0.0               0.0   \n",
       "2020-02-29                       0.0               0.0   \n",
       "2020-03-01                       0.0               0.0   \n",
       "2020-03-02                       0.0               0.0   \n",
       "\n",
       "            Positief getest week-1  Ziekenhuisopnames  \\\n",
       "Key                                                     \n",
       "2020-02-27                     0.0                  3   \n",
       "2020-02-28                     0.0                  6   \n",
       "2020-02-29                     0.0                  8   \n",
       "2020-03-01                     0.0                 17   \n",
       "2020-03-02                     0.0                 27   \n",
       "\n",
       "            Ziekenhuisopnames (nieuw)  Ziekenhuisopnames per 100.000  \\\n",
       "Key                                                                    \n",
       "2020-02-27                          3                       0.017168   \n",
       "2020-02-28                          3                       0.034335   \n",
       "2020-02-29                          2                       0.045780   \n",
       "2020-03-01                          9                       0.097284   \n",
       "2020-03-02                         10                       0.154509   \n",
       "\n",
       "            Ziekenhuisopnames 7d  Ziekenhuisopnames 7d per 100.000  \\\n",
       "Key                                                                  \n",
       "2020-02-27                   0.0                               0.0   \n",
       "2020-02-28                   0.0                               0.0   \n",
       "2020-02-29                   0.0                               0.0   \n",
       "2020-03-01                   0.0                               0.0   \n",
       "2020-03-02                   0.0                               0.0   \n",
       "\n",
       "            Ziekenhuisopnames week-1  \n",
       "Key                                   \n",
       "2020-02-27                       0.0  \n",
       "2020-02-28                       0.0  \n",
       "2020-02-29                       0.0  \n",
       "2020-03-01                       0.0  \n",
       "2020-03-02                       0.0  \n",
       "\n",
       "[5 rows x 33 columns]"
      ]
     },
     "metadata": {},
     "output_type": "display_data"
    }
   ],
   "source": [
    "@run('ziekenhuisopnames')\n",
    "def cell():\n",
    "  df = RIVM.csv('COVID-19_ziekenhuisopnames').rename(columns={\n",
    "    'Hospital_admission': 'Ziekenhuisopnames',\n",
    "    'Date_of_statistics': 'Datum',\n",
    "  })\n",
    "  # datum naar datetime\n",
    "  df['Datum'] = pd.to_datetime(df.Datum.str.replace(' .*', '', regex=True))\n",
    "  # sommeer op datum en voeg toe aan dagoverzicht\n",
    "  addstats(df.groupby(['Datum']).agg({'Ziekenhuisopnames': 'sum'}))\n",
    "  dagoverzicht['Ziekenhuisopnames week-1'] = dagoverzicht['Ziekenhuisopnames 7d'].shift(7).fillna(0)\n",
    "  display(dagoverzicht.head())"
   ]
  },
  {
   "cell_type": "code",
   "execution_count": 5,
   "id": "seven-administration",
   "metadata": {
    "execution": {
     "iopub.execute_input": "2021-02-18T14:35:30.829425Z",
     "iopub.status.busy": "2021-02-18T14:35:30.828820Z",
     "iopub.status.idle": "2021-02-18T14:35:33.023616Z",
     "shell.execute_reply": "2021-02-18T14:35:33.024075Z"
    },
    "lines_to_next_cell": 1,
    "papermill": {
     "duration": 2.215182,
     "end_time": "2021-02-18T14:35:33.024232",
     "exception": false,
     "start_time": "2021-02-18T14:35:30.809050",
     "status": "completed"
    },
    "tags": []
   },
   "outputs": [
    {
     "name": "stdout",
     "output_type": "stream",
     "text": [
      "reproductiegetal en besmettelijkheid\n"
     ]
    },
    {
     "name": "stdout",
     "output_type": "stream",
     "text": [
      "downloading rivm/COVID-19_reproductiegetal-2021-02-18@14-15.json\n"
     ]
    },
    {
     "name": "stdout",
     "output_type": "stream",
     "text": [
      "loading rivm/COVID-19_reproductiegetal-2021-02-18@14-15.json.gz\n"
     ]
    },
    {
     "name": "stdout",
     "output_type": "stream",
     "text": [
      "downloading rivm/COVID-19_prevalentie-2021-02-18@14-15.json\n"
     ]
    },
    {
     "name": "stdout",
     "output_type": "stream",
     "text": [
      "loading rivm/COVID-19_prevalentie-2021-02-18@14-15.json.gz\n"
     ]
    },
    {
     "data": {
      "text/html": [
       "<div>\n",
       "<style scoped>\n",
       "    .dataframe tbody tr th:only-of-type {\n",
       "        vertical-align: middle;\n",
       "    }\n",
       "\n",
       "    .dataframe tbody tr th {\n",
       "        vertical-align: top;\n",
       "    }\n",
       "\n",
       "    .dataframe thead th {\n",
       "        text-align: right;\n",
       "    }\n",
       "</style>\n",
       "<table border=\"1\" class=\"dataframe\">\n",
       "  <thead>\n",
       "    <tr style=\"text-align: right;\">\n",
       "      <th></th>\n",
       "      <th>Datum</th>\n",
       "      <th>LandCode</th>\n",
       "      <th>NICE IC Bedden (intake)</th>\n",
       "      <th>NICE IC Bedden (cumulatief)</th>\n",
       "      <th>NICE IC Bedden</th>\n",
       "      <th>NICE IC Overleden</th>\n",
       "      <th>NICE Ziekenhuis Bedden (intake)</th>\n",
       "      <th>NICE Ziekenhuis Bedden (cumulatief)</th>\n",
       "      <th>NICE Ziekenhuis Bedden</th>\n",
       "      <th>NICE Ziekenhuis Overleden</th>\n",
       "      <th>...</th>\n",
       "      <th>Positief getest week-1</th>\n",
       "      <th>Ziekenhuisopnames</th>\n",
       "      <th>Ziekenhuisopnames (nieuw)</th>\n",
       "      <th>Ziekenhuisopnames per 100.000</th>\n",
       "      <th>Ziekenhuisopnames 7d</th>\n",
       "      <th>Ziekenhuisopnames 7d per 100.000</th>\n",
       "      <th>Ziekenhuisopnames week-1</th>\n",
       "      <th>Reproductiegetal</th>\n",
       "      <th>Besmettelijk</th>\n",
       "      <th>Besmettelijk per 100.000</th>\n",
       "    </tr>\n",
       "    <tr>\n",
       "      <th>Key</th>\n",
       "      <th></th>\n",
       "      <th></th>\n",
       "      <th></th>\n",
       "      <th></th>\n",
       "      <th></th>\n",
       "      <th></th>\n",
       "      <th></th>\n",
       "      <th></th>\n",
       "      <th></th>\n",
       "      <th></th>\n",
       "      <th></th>\n",
       "      <th></th>\n",
       "      <th></th>\n",
       "      <th></th>\n",
       "      <th></th>\n",
       "      <th></th>\n",
       "      <th></th>\n",
       "      <th></th>\n",
       "      <th></th>\n",
       "      <th></th>\n",
       "      <th></th>\n",
       "    </tr>\n",
       "  </thead>\n",
       "  <tbody>\n",
       "    <tr>\n",
       "      <th>2020-02-27</th>\n",
       "      <td>2020-02-27</td>\n",
       "      <td>NL</td>\n",
       "      <td>1</td>\n",
       "      <td>13</td>\n",
       "      <td>13</td>\n",
       "      <td>0</td>\n",
       "      <td>2</td>\n",
       "      <td>66</td>\n",
       "      <td>63</td>\n",
       "      <td>0</td>\n",
       "      <td>...</td>\n",
       "      <td>0.0</td>\n",
       "      <td>3</td>\n",
       "      <td>3</td>\n",
       "      <td>0.017168</td>\n",
       "      <td>0.0</td>\n",
       "      <td>0.000000</td>\n",
       "      <td>0.0</td>\n",
       "      <td>2.06</td>\n",
       "      <td>6808.0</td>\n",
       "      <td>39.0</td>\n",
       "    </tr>\n",
       "    <tr>\n",
       "      <th>2020-02-28</th>\n",
       "      <td>2020-02-28</td>\n",
       "      <td>NL</td>\n",
       "      <td>0</td>\n",
       "      <td>14</td>\n",
       "      <td>14</td>\n",
       "      <td>0</td>\n",
       "      <td>3</td>\n",
       "      <td>69</td>\n",
       "      <td>66</td>\n",
       "      <td>0</td>\n",
       "      <td>...</td>\n",
       "      <td>0.0</td>\n",
       "      <td>6</td>\n",
       "      <td>3</td>\n",
       "      <td>0.034335</td>\n",
       "      <td>0.0</td>\n",
       "      <td>0.000000</td>\n",
       "      <td>0.0</td>\n",
       "      <td>2.10</td>\n",
       "      <td>8500.0</td>\n",
       "      <td>49.0</td>\n",
       "    </tr>\n",
       "    <tr>\n",
       "      <th>2020-02-29</th>\n",
       "      <td>2020-02-29</td>\n",
       "      <td>NL</td>\n",
       "      <td>0</td>\n",
       "      <td>15</td>\n",
       "      <td>15</td>\n",
       "      <td>0</td>\n",
       "      <td>1</td>\n",
       "      <td>70</td>\n",
       "      <td>66</td>\n",
       "      <td>0</td>\n",
       "      <td>...</td>\n",
       "      <td>0.0</td>\n",
       "      <td>8</td>\n",
       "      <td>2</td>\n",
       "      <td>0.045780</td>\n",
       "      <td>0.0</td>\n",
       "      <td>0.000000</td>\n",
       "      <td>0.0</td>\n",
       "      <td>1.99</td>\n",
       "      <td>10568.0</td>\n",
       "      <td>60.0</td>\n",
       "    </tr>\n",
       "    <tr>\n",
       "      <th>2020-03-01</th>\n",
       "      <td>2020-03-01</td>\n",
       "      <td>NL</td>\n",
       "      <td>2</td>\n",
       "      <td>17</td>\n",
       "      <td>17</td>\n",
       "      <td>0</td>\n",
       "      <td>7</td>\n",
       "      <td>78</td>\n",
       "      <td>74</td>\n",
       "      <td>0</td>\n",
       "      <td>...</td>\n",
       "      <td>0.0</td>\n",
       "      <td>17</td>\n",
       "      <td>9</td>\n",
       "      <td>0.097284</td>\n",
       "      <td>0.0</td>\n",
       "      <td>0.000000</td>\n",
       "      <td>0.0</td>\n",
       "      <td>1.83</td>\n",
       "      <td>13044.0</td>\n",
       "      <td>75.0</td>\n",
       "    </tr>\n",
       "    <tr>\n",
       "      <th>2020-03-02</th>\n",
       "      <td>2020-03-02</td>\n",
       "      <td>NL</td>\n",
       "      <td>0</td>\n",
       "      <td>17</td>\n",
       "      <td>16</td>\n",
       "      <td>0</td>\n",
       "      <td>10</td>\n",
       "      <td>89</td>\n",
       "      <td>85</td>\n",
       "      <td>0</td>\n",
       "      <td>...</td>\n",
       "      <td>0.0</td>\n",
       "      <td>27</td>\n",
       "      <td>10</td>\n",
       "      <td>0.154509</td>\n",
       "      <td>0.0</td>\n",
       "      <td>0.000000</td>\n",
       "      <td>0.0</td>\n",
       "      <td>1.79</td>\n",
       "      <td>15996.0</td>\n",
       "      <td>92.0</td>\n",
       "    </tr>\n",
       "    <tr>\n",
       "      <th>...</th>\n",
       "      <td>...</td>\n",
       "      <td>...</td>\n",
       "      <td>...</td>\n",
       "      <td>...</td>\n",
       "      <td>...</td>\n",
       "      <td>...</td>\n",
       "      <td>...</td>\n",
       "      <td>...</td>\n",
       "      <td>...</td>\n",
       "      <td>...</td>\n",
       "      <td>...</td>\n",
       "      <td>...</td>\n",
       "      <td>...</td>\n",
       "      <td>...</td>\n",
       "      <td>...</td>\n",
       "      <td>...</td>\n",
       "      <td>...</td>\n",
       "      <td>...</td>\n",
       "      <td>...</td>\n",
       "      <td>...</td>\n",
       "      <td>...</td>\n",
       "    </tr>\n",
       "    <tr>\n",
       "      <th>2021-02-14</th>\n",
       "      <td>2021-02-14</td>\n",
       "      <td>NL</td>\n",
       "      <td>25</td>\n",
       "      <td>8311</td>\n",
       "      <td>543</td>\n",
       "      <td>2396</td>\n",
       "      <td>134</td>\n",
       "      <td>39163</td>\n",
       "      <td>1505</td>\n",
       "      <td>5705</td>\n",
       "      <td>...</td>\n",
       "      <td>27409.0</td>\n",
       "      <td>43999</td>\n",
       "      <td>136</td>\n",
       "      <td>251.786970</td>\n",
       "      <td>1162.0</td>\n",
       "      <td>6.649616</td>\n",
       "      <td>1173.0</td>\n",
       "      <td>0.00</td>\n",
       "      <td>0.0</td>\n",
       "      <td>0.0</td>\n",
       "    </tr>\n",
       "    <tr>\n",
       "      <th>2021-02-15</th>\n",
       "      <td>2021-02-15</td>\n",
       "      <td>NL</td>\n",
       "      <td>31</td>\n",
       "      <td>8345</td>\n",
       "      <td>554</td>\n",
       "      <td>2402</td>\n",
       "      <td>187</td>\n",
       "      <td>39348</td>\n",
       "      <td>1612</td>\n",
       "      <td>5726</td>\n",
       "      <td>...</td>\n",
       "      <td>26426.0</td>\n",
       "      <td>44191</td>\n",
       "      <td>192</td>\n",
       "      <td>252.885702</td>\n",
       "      <td>1166.0</td>\n",
       "      <td>6.672506</td>\n",
       "      <td>1146.0</td>\n",
       "      <td>0.00</td>\n",
       "      <td>0.0</td>\n",
       "      <td>0.0</td>\n",
       "    </tr>\n",
       "    <tr>\n",
       "      <th>2021-02-16</th>\n",
       "      <td>2021-02-16</td>\n",
       "      <td>NL</td>\n",
       "      <td>38</td>\n",
       "      <td>8385</td>\n",
       "      <td>551</td>\n",
       "      <td>2409</td>\n",
       "      <td>148</td>\n",
       "      <td>39505</td>\n",
       "      <td>1613</td>\n",
       "      <td>5752</td>\n",
       "      <td>...</td>\n",
       "      <td>24627.0</td>\n",
       "      <td>44333</td>\n",
       "      <td>142</td>\n",
       "      <td>253.698305</td>\n",
       "      <td>1122.0</td>\n",
       "      <td>6.420714</td>\n",
       "      <td>1153.0</td>\n",
       "      <td>0.00</td>\n",
       "      <td>0.0</td>\n",
       "      <td>0.0</td>\n",
       "    </tr>\n",
       "    <tr>\n",
       "      <th>2021-02-17</th>\n",
       "      <td>2021-02-17</td>\n",
       "      <td>NL</td>\n",
       "      <td>31</td>\n",
       "      <td>8420</td>\n",
       "      <td>547</td>\n",
       "      <td>2415</td>\n",
       "      <td>101</td>\n",
       "      <td>39618</td>\n",
       "      <td>1577</td>\n",
       "      <td>5769</td>\n",
       "      <td>...</td>\n",
       "      <td>23789.0</td>\n",
       "      <td>44362</td>\n",
       "      <td>29</td>\n",
       "      <td>253.864260</td>\n",
       "      <td>964.0</td>\n",
       "      <td>5.516549</td>\n",
       "      <td>1168.0</td>\n",
       "      <td>0.00</td>\n",
       "      <td>0.0</td>\n",
       "      <td>0.0</td>\n",
       "    </tr>\n",
       "    <tr>\n",
       "      <th>2021-02-18</th>\n",
       "      <td>2021-02-18</td>\n",
       "      <td>NL</td>\n",
       "      <td>5</td>\n",
       "      <td>8426</td>\n",
       "      <td>523</td>\n",
       "      <td>2417</td>\n",
       "      <td>6</td>\n",
       "      <td>39634</td>\n",
       "      <td>1465</td>\n",
       "      <td>5772</td>\n",
       "      <td>...</td>\n",
       "      <td>24012.0</td>\n",
       "      <td>44362</td>\n",
       "      <td>0</td>\n",
       "      <td>253.864260</td>\n",
       "      <td>791.0</td>\n",
       "      <td>4.526546</td>\n",
       "      <td>1155.0</td>\n",
       "      <td>0.00</td>\n",
       "      <td>0.0</td>\n",
       "      <td>0.0</td>\n",
       "    </tr>\n",
       "  </tbody>\n",
       "</table>\n",
       "<p>358 rows × 36 columns</p>\n",
       "</div>"
      ],
      "text/plain": [
       "                 Datum LandCode  NICE IC Bedden (intake)  \\\n",
       "Key                                                        \n",
       "2020-02-27  2020-02-27       NL                        1   \n",
       "2020-02-28  2020-02-28       NL                        0   \n",
       "2020-02-29  2020-02-29       NL                        0   \n",
       "2020-03-01  2020-03-01       NL                        2   \n",
       "2020-03-02  2020-03-02       NL                        0   \n",
       "...                ...      ...                      ...   \n",
       "2021-02-14  2021-02-14       NL                       25   \n",
       "2021-02-15  2021-02-15       NL                       31   \n",
       "2021-02-16  2021-02-16       NL                       38   \n",
       "2021-02-17  2021-02-17       NL                       31   \n",
       "2021-02-18  2021-02-18       NL                        5   \n",
       "\n",
       "            NICE IC Bedden (cumulatief)  NICE IC Bedden  NICE IC Overleden  \\\n",
       "Key                                                                          \n",
       "2020-02-27                           13              13                  0   \n",
       "2020-02-28                           14              14                  0   \n",
       "2020-02-29                           15              15                  0   \n",
       "2020-03-01                           17              17                  0   \n",
       "2020-03-02                           17              16                  0   \n",
       "...                                 ...             ...                ...   \n",
       "2021-02-14                         8311             543               2396   \n",
       "2021-02-15                         8345             554               2402   \n",
       "2021-02-16                         8385             551               2409   \n",
       "2021-02-17                         8420             547               2415   \n",
       "2021-02-18                         8426             523               2417   \n",
       "\n",
       "            NICE Ziekenhuis Bedden (intake)  \\\n",
       "Key                                           \n",
       "2020-02-27                                2   \n",
       "2020-02-28                                3   \n",
       "2020-02-29                                1   \n",
       "2020-03-01                                7   \n",
       "2020-03-02                               10   \n",
       "...                                     ...   \n",
       "2021-02-14                              134   \n",
       "2021-02-15                              187   \n",
       "2021-02-16                              148   \n",
       "2021-02-17                              101   \n",
       "2021-02-18                                6   \n",
       "\n",
       "            NICE Ziekenhuis Bedden (cumulatief)  NICE Ziekenhuis Bedden  \\\n",
       "Key                                                                       \n",
       "2020-02-27                                   66                      63   \n",
       "2020-02-28                                   69                      66   \n",
       "2020-02-29                                   70                      66   \n",
       "2020-03-01                                   78                      74   \n",
       "2020-03-02                                   89                      85   \n",
       "...                                         ...                     ...   \n",
       "2021-02-14                                39163                    1505   \n",
       "2021-02-15                                39348                    1612   \n",
       "2021-02-16                                39505                    1613   \n",
       "2021-02-17                                39618                    1577   \n",
       "2021-02-18                                39634                    1465   \n",
       "\n",
       "            NICE Ziekenhuis Overleden  ...  Positief getest week-1  \\\n",
       "Key                                    ...                           \n",
       "2020-02-27                          0  ...                     0.0   \n",
       "2020-02-28                          0  ...                     0.0   \n",
       "2020-02-29                          0  ...                     0.0   \n",
       "2020-03-01                          0  ...                     0.0   \n",
       "2020-03-02                          0  ...                     0.0   \n",
       "...                               ...  ...                     ...   \n",
       "2021-02-14                       5705  ...                 27409.0   \n",
       "2021-02-15                       5726  ...                 26426.0   \n",
       "2021-02-16                       5752  ...                 24627.0   \n",
       "2021-02-17                       5769  ...                 23789.0   \n",
       "2021-02-18                       5772  ...                 24012.0   \n",
       "\n",
       "            Ziekenhuisopnames  Ziekenhuisopnames (nieuw)  \\\n",
       "Key                                                        \n",
       "2020-02-27                  3                          3   \n",
       "2020-02-28                  6                          3   \n",
       "2020-02-29                  8                          2   \n",
       "2020-03-01                 17                          9   \n",
       "2020-03-02                 27                         10   \n",
       "...                       ...                        ...   \n",
       "2021-02-14              43999                        136   \n",
       "2021-02-15              44191                        192   \n",
       "2021-02-16              44333                        142   \n",
       "2021-02-17              44362                         29   \n",
       "2021-02-18              44362                          0   \n",
       "\n",
       "            Ziekenhuisopnames per 100.000  Ziekenhuisopnames 7d  \\\n",
       "Key                                                               \n",
       "2020-02-27                       0.017168                   0.0   \n",
       "2020-02-28                       0.034335                   0.0   \n",
       "2020-02-29                       0.045780                   0.0   \n",
       "2020-03-01                       0.097284                   0.0   \n",
       "2020-03-02                       0.154509                   0.0   \n",
       "...                                   ...                   ...   \n",
       "2021-02-14                     251.786970                1162.0   \n",
       "2021-02-15                     252.885702                1166.0   \n",
       "2021-02-16                     253.698305                1122.0   \n",
       "2021-02-17                     253.864260                 964.0   \n",
       "2021-02-18                     253.864260                 791.0   \n",
       "\n",
       "            Ziekenhuisopnames 7d per 100.000  Ziekenhuisopnames week-1  \\\n",
       "Key                                                                      \n",
       "2020-02-27                          0.000000                       0.0   \n",
       "2020-02-28                          0.000000                       0.0   \n",
       "2020-02-29                          0.000000                       0.0   \n",
       "2020-03-01                          0.000000                       0.0   \n",
       "2020-03-02                          0.000000                       0.0   \n",
       "...                                      ...                       ...   \n",
       "2021-02-14                          6.649616                    1173.0   \n",
       "2021-02-15                          6.672506                    1146.0   \n",
       "2021-02-16                          6.420714                    1153.0   \n",
       "2021-02-17                          5.516549                    1168.0   \n",
       "2021-02-18                          4.526546                    1155.0   \n",
       "\n",
       "            Reproductiegetal  Besmettelijk  Besmettelijk per 100.000  \n",
       "Key                                                                   \n",
       "2020-02-27              2.06        6808.0                      39.0  \n",
       "2020-02-28              2.10        8500.0                      49.0  \n",
       "2020-02-29              1.99       10568.0                      60.0  \n",
       "2020-03-01              1.83       13044.0                      75.0  \n",
       "2020-03-02              1.79       15996.0                      92.0  \n",
       "...                      ...           ...                       ...  \n",
       "2021-02-14              0.00           0.0                       0.0  \n",
       "2021-02-15              0.00           0.0                       0.0  \n",
       "2021-02-16              0.00           0.0                       0.0  \n",
       "2021-02-17              0.00           0.0                       0.0  \n",
       "2021-02-18              0.00           0.0                       0.0  \n",
       "\n",
       "[358 rows x 36 columns]"
      ]
     },
     "metadata": {},
     "output_type": "display_data"
    }
   ],
   "source": [
    "@run('reproductiegetal en besmettelijkheid')\n",
    "def cell():\n",
    "  global dagoverzicht\n",
    "\n",
    "  datasets = [\n",
    "    ('COVID-19_reproductiegetal', 'Rt_avg', 'Reproductiegetal'),\n",
    "    ('COVID-19_prevalentie', 'prev_avg', 'Besmettelijk'),\n",
    "  ]\n",
    "  for dataset, source, target in datasets:\n",
    "    # laad de dataset\n",
    "    df = RIVM.json(dataset).rename(columns={source: target})\n",
    "    # Date naar datetime index voor de merge\n",
    "    df['Date'] = pd.to_datetime(df['Date'])\n",
    "    df.set_index('Date', inplace=True)\n",
    "    # merge alleen de target kolom\n",
    "    df = df[[target]]\n",
    "    # voeg to aan dagoverzicht\n",
    "    dagoverzicht = dagoverzicht.merge(df, how='left', left_index=True, right_index=True)\n",
    "    # vul lege waarden met 0\n",
    "    dagoverzicht[target] = dagoverzicht[target].fillna(0)\n",
    "  # per 100k factor\n",
    "  dagoverzicht['Besmettelijk per 100.000'] = (dagoverzicht['Besmettelijk']  * bevolking['per 100k']).round(0)\n",
    "  display(dagoverzicht)"
   ]
  },
  {
   "cell_type": "code",
   "execution_count": 6,
   "id": "sealed-algorithm",
   "metadata": {
    "execution": {
     "iopub.execute_input": "2021-02-18T14:35:33.061027Z",
     "iopub.status.busy": "2021-02-18T14:35:33.060251Z",
     "iopub.status.idle": "2021-02-18T14:35:34.972302Z",
     "shell.execute_reply": "2021-02-18T14:35:34.972790Z"
    },
    "lines_to_next_cell": 1,
    "papermill": {
     "duration": 1.934507,
     "end_time": "2021-02-18T14:35:34.972954",
     "exception": false,
     "start_time": "2021-02-18T14:35:33.038447",
     "status": "completed"
    },
    "tags": []
   },
   "outputs": [
    {
     "name": "stdout",
     "output_type": "stream",
     "text": [
      "uitgevoerde testen\n"
     ]
    },
    {
     "name": "stdout",
     "output_type": "stream",
     "text": [
      "downloading rivm/COVID-19_uitgevoerde_testen-2021-02-18@14-15.csv\n"
     ]
    },
    {
     "name": "stdout",
     "output_type": "stream",
     "text": [
      "loading rivm/COVID-19_uitgevoerde_testen-2021-02-18@14-15.csv.gz\n"
     ]
    },
    {
     "data": {
      "text/html": [
       "<div>\n",
       "<style scoped>\n",
       "    .dataframe tbody tr th:only-of-type {\n",
       "        vertical-align: middle;\n",
       "    }\n",
       "\n",
       "    .dataframe tbody tr th {\n",
       "        vertical-align: top;\n",
       "    }\n",
       "\n",
       "    .dataframe thead th {\n",
       "        text-align: right;\n",
       "    }\n",
       "</style>\n",
       "<table border=\"1\" class=\"dataframe\">\n",
       "  <thead>\n",
       "    <tr style=\"text-align: right;\">\n",
       "      <th></th>\n",
       "      <th>GGD getest</th>\n",
       "      <th>GGD getest positief</th>\n",
       "    </tr>\n",
       "    <tr>\n",
       "      <th>Datum</th>\n",
       "      <th></th>\n",
       "      <th></th>\n",
       "    </tr>\n",
       "  </thead>\n",
       "  <tbody>\n",
       "    <tr>\n",
       "      <th>2020-06-01</th>\n",
       "      <td>1552</td>\n",
       "      <td>73</td>\n",
       "    </tr>\n",
       "    <tr>\n",
       "      <th>2020-06-02</th>\n",
       "      <td>6819</td>\n",
       "      <td>203</td>\n",
       "    </tr>\n",
       "    <tr>\n",
       "      <th>2020-06-03</th>\n",
       "      <td>8867</td>\n",
       "      <td>165</td>\n",
       "    </tr>\n",
       "    <tr>\n",
       "      <th>2020-06-04</th>\n",
       "      <td>9339</td>\n",
       "      <td>171</td>\n",
       "    </tr>\n",
       "    <tr>\n",
       "      <th>2020-06-05</th>\n",
       "      <td>9464</td>\n",
       "      <td>135</td>\n",
       "    </tr>\n",
       "    <tr>\n",
       "      <th>...</th>\n",
       "      <td>...</td>\n",
       "      <td>...</td>\n",
       "    </tr>\n",
       "    <tr>\n",
       "      <th>2021-02-12</th>\n",
       "      <td>27670</td>\n",
       "      <td>2935</td>\n",
       "    </tr>\n",
       "    <tr>\n",
       "      <th>2021-02-13</th>\n",
       "      <td>22255</td>\n",
       "      <td>2553</td>\n",
       "    </tr>\n",
       "    <tr>\n",
       "      <th>2021-02-14</th>\n",
       "      <td>21390</td>\n",
       "      <td>2381</td>\n",
       "    </tr>\n",
       "    <tr>\n",
       "      <th>2021-02-15</th>\n",
       "      <td>22707</td>\n",
       "      <td>2076</td>\n",
       "    </tr>\n",
       "    <tr>\n",
       "      <th>2021-02-16</th>\n",
       "      <td>45376</td>\n",
       "      <td>4294</td>\n",
       "    </tr>\n",
       "  </tbody>\n",
       "</table>\n",
       "<p>261 rows × 2 columns</p>\n",
       "</div>"
      ],
      "text/plain": [
       "            GGD getest  GGD getest positief\n",
       "Datum                                      \n",
       "2020-06-01        1552                   73\n",
       "2020-06-02        6819                  203\n",
       "2020-06-03        8867                  165\n",
       "2020-06-04        9339                  171\n",
       "2020-06-05        9464                  135\n",
       "...                ...                  ...\n",
       "2021-02-12       27670                 2935\n",
       "2021-02-13       22255                 2553\n",
       "2021-02-14       21390                 2381\n",
       "2021-02-15       22707                 2076\n",
       "2021-02-16       45376                 4294\n",
       "\n",
       "[261 rows x 2 columns]"
      ]
     },
     "metadata": {},
     "output_type": "display_data"
    },
    {
     "data": {
      "text/html": [
       "<div>\n",
       "<style scoped>\n",
       "    .dataframe tbody tr th:only-of-type {\n",
       "        vertical-align: middle;\n",
       "    }\n",
       "\n",
       "    .dataframe tbody tr th {\n",
       "        vertical-align: top;\n",
       "    }\n",
       "\n",
       "    .dataframe thead th {\n",
       "        text-align: right;\n",
       "    }\n",
       "</style>\n",
       "<table border=\"1\" class=\"dataframe\">\n",
       "  <thead>\n",
       "    <tr style=\"text-align: right;\">\n",
       "      <th></th>\n",
       "      <th>Datum</th>\n",
       "      <th>LandCode</th>\n",
       "      <th>NICE IC Bedden (intake)</th>\n",
       "      <th>NICE IC Bedden (cumulatief)</th>\n",
       "      <th>NICE IC Bedden</th>\n",
       "      <th>NICE IC Overleden</th>\n",
       "      <th>NICE Ziekenhuis Bedden (intake)</th>\n",
       "      <th>NICE Ziekenhuis Bedden (cumulatief)</th>\n",
       "      <th>NICE Ziekenhuis Bedden</th>\n",
       "      <th>NICE Ziekenhuis Overleden</th>\n",
       "      <th>...</th>\n",
       "      <th>Besmettelijk per 100.000</th>\n",
       "      <th>GGD getest</th>\n",
       "      <th>GGD getest positief</th>\n",
       "      <th>GGD percentage positief</th>\n",
       "      <th>GGD getest (7 daags)</th>\n",
       "      <th>GGD getest positief (7 daags)</th>\n",
       "      <th>GGD percentage positief (7 daags)</th>\n",
       "      <th>GGD getest (cumulatief)</th>\n",
       "      <th>GGD getest positief (cumulatief)</th>\n",
       "      <th>GGD percentage positief (cumulatief)</th>\n",
       "    </tr>\n",
       "    <tr>\n",
       "      <th>Key</th>\n",
       "      <th></th>\n",
       "      <th></th>\n",
       "      <th></th>\n",
       "      <th></th>\n",
       "      <th></th>\n",
       "      <th></th>\n",
       "      <th></th>\n",
       "      <th></th>\n",
       "      <th></th>\n",
       "      <th></th>\n",
       "      <th></th>\n",
       "      <th></th>\n",
       "      <th></th>\n",
       "      <th></th>\n",
       "      <th></th>\n",
       "      <th></th>\n",
       "      <th></th>\n",
       "      <th></th>\n",
       "      <th></th>\n",
       "      <th></th>\n",
       "      <th></th>\n",
       "    </tr>\n",
       "  </thead>\n",
       "  <tbody>\n",
       "    <tr>\n",
       "      <th>2020-02-27</th>\n",
       "      <td>2020-02-27</td>\n",
       "      <td>NL</td>\n",
       "      <td>1</td>\n",
       "      <td>13</td>\n",
       "      <td>13</td>\n",
       "      <td>0</td>\n",
       "      <td>2</td>\n",
       "      <td>66</td>\n",
       "      <td>63</td>\n",
       "      <td>0</td>\n",
       "      <td>...</td>\n",
       "      <td>39.0</td>\n",
       "      <td>0.0</td>\n",
       "      <td>0.0</td>\n",
       "      <td>0.0</td>\n",
       "      <td>0.0</td>\n",
       "      <td>0.0</td>\n",
       "      <td>0.0</td>\n",
       "      <td>0.0</td>\n",
       "      <td>0.0</td>\n",
       "      <td>0.0</td>\n",
       "    </tr>\n",
       "    <tr>\n",
       "      <th>2020-02-28</th>\n",
       "      <td>2020-02-28</td>\n",
       "      <td>NL</td>\n",
       "      <td>0</td>\n",
       "      <td>14</td>\n",
       "      <td>14</td>\n",
       "      <td>0</td>\n",
       "      <td>3</td>\n",
       "      <td>69</td>\n",
       "      <td>66</td>\n",
       "      <td>0</td>\n",
       "      <td>...</td>\n",
       "      <td>49.0</td>\n",
       "      <td>0.0</td>\n",
       "      <td>0.0</td>\n",
       "      <td>0.0</td>\n",
       "      <td>0.0</td>\n",
       "      <td>0.0</td>\n",
       "      <td>0.0</td>\n",
       "      <td>0.0</td>\n",
       "      <td>0.0</td>\n",
       "      <td>0.0</td>\n",
       "    </tr>\n",
       "    <tr>\n",
       "      <th>2020-02-29</th>\n",
       "      <td>2020-02-29</td>\n",
       "      <td>NL</td>\n",
       "      <td>0</td>\n",
       "      <td>15</td>\n",
       "      <td>15</td>\n",
       "      <td>0</td>\n",
       "      <td>1</td>\n",
       "      <td>70</td>\n",
       "      <td>66</td>\n",
       "      <td>0</td>\n",
       "      <td>...</td>\n",
       "      <td>60.0</td>\n",
       "      <td>0.0</td>\n",
       "      <td>0.0</td>\n",
       "      <td>0.0</td>\n",
       "      <td>0.0</td>\n",
       "      <td>0.0</td>\n",
       "      <td>0.0</td>\n",
       "      <td>0.0</td>\n",
       "      <td>0.0</td>\n",
       "      <td>0.0</td>\n",
       "    </tr>\n",
       "    <tr>\n",
       "      <th>2020-03-01</th>\n",
       "      <td>2020-03-01</td>\n",
       "      <td>NL</td>\n",
       "      <td>2</td>\n",
       "      <td>17</td>\n",
       "      <td>17</td>\n",
       "      <td>0</td>\n",
       "      <td>7</td>\n",
       "      <td>78</td>\n",
       "      <td>74</td>\n",
       "      <td>0</td>\n",
       "      <td>...</td>\n",
       "      <td>75.0</td>\n",
       "      <td>0.0</td>\n",
       "      <td>0.0</td>\n",
       "      <td>0.0</td>\n",
       "      <td>0.0</td>\n",
       "      <td>0.0</td>\n",
       "      <td>0.0</td>\n",
       "      <td>0.0</td>\n",
       "      <td>0.0</td>\n",
       "      <td>0.0</td>\n",
       "    </tr>\n",
       "    <tr>\n",
       "      <th>2020-03-02</th>\n",
       "      <td>2020-03-02</td>\n",
       "      <td>NL</td>\n",
       "      <td>0</td>\n",
       "      <td>17</td>\n",
       "      <td>16</td>\n",
       "      <td>0</td>\n",
       "      <td>10</td>\n",
       "      <td>89</td>\n",
       "      <td>85</td>\n",
       "      <td>0</td>\n",
       "      <td>...</td>\n",
       "      <td>92.0</td>\n",
       "      <td>0.0</td>\n",
       "      <td>0.0</td>\n",
       "      <td>0.0</td>\n",
       "      <td>0.0</td>\n",
       "      <td>0.0</td>\n",
       "      <td>0.0</td>\n",
       "      <td>0.0</td>\n",
       "      <td>0.0</td>\n",
       "      <td>0.0</td>\n",
       "    </tr>\n",
       "    <tr>\n",
       "      <th>2020-03-03</th>\n",
       "      <td>2020-03-03</td>\n",
       "      <td>NL</td>\n",
       "      <td>1</td>\n",
       "      <td>19</td>\n",
       "      <td>18</td>\n",
       "      <td>0</td>\n",
       "      <td>8</td>\n",
       "      <td>97</td>\n",
       "      <td>92</td>\n",
       "      <td>0</td>\n",
       "      <td>...</td>\n",
       "      <td>111.0</td>\n",
       "      <td>0.0</td>\n",
       "      <td>0.0</td>\n",
       "      <td>0.0</td>\n",
       "      <td>0.0</td>\n",
       "      <td>0.0</td>\n",
       "      <td>0.0</td>\n",
       "      <td>0.0</td>\n",
       "      <td>0.0</td>\n",
       "      <td>0.0</td>\n",
       "    </tr>\n",
       "    <tr>\n",
       "      <th>2020-03-04</th>\n",
       "      <td>2020-03-04</td>\n",
       "      <td>NL</td>\n",
       "      <td>3</td>\n",
       "      <td>22</td>\n",
       "      <td>21</td>\n",
       "      <td>0</td>\n",
       "      <td>10</td>\n",
       "      <td>110</td>\n",
       "      <td>104</td>\n",
       "      <td>0</td>\n",
       "      <td>...</td>\n",
       "      <td>133.0</td>\n",
       "      <td>0.0</td>\n",
       "      <td>0.0</td>\n",
       "      <td>0.0</td>\n",
       "      <td>0.0</td>\n",
       "      <td>0.0</td>\n",
       "      <td>0.0</td>\n",
       "      <td>0.0</td>\n",
       "      <td>0.0</td>\n",
       "      <td>0.0</td>\n",
       "    </tr>\n",
       "    <tr>\n",
       "      <th>2020-03-05</th>\n",
       "      <td>2020-03-05</td>\n",
       "      <td>NL</td>\n",
       "      <td>1</td>\n",
       "      <td>24</td>\n",
       "      <td>21</td>\n",
       "      <td>0</td>\n",
       "      <td>12</td>\n",
       "      <td>122</td>\n",
       "      <td>114</td>\n",
       "      <td>0</td>\n",
       "      <td>...</td>\n",
       "      <td>158.0</td>\n",
       "      <td>0.0</td>\n",
       "      <td>0.0</td>\n",
       "      <td>0.0</td>\n",
       "      <td>0.0</td>\n",
       "      <td>0.0</td>\n",
       "      <td>0.0</td>\n",
       "      <td>0.0</td>\n",
       "      <td>0.0</td>\n",
       "      <td>0.0</td>\n",
       "    </tr>\n",
       "    <tr>\n",
       "      <th>2020-03-06</th>\n",
       "      <td>2020-03-06</td>\n",
       "      <td>NL</td>\n",
       "      <td>4</td>\n",
       "      <td>28</td>\n",
       "      <td>24</td>\n",
       "      <td>0</td>\n",
       "      <td>19</td>\n",
       "      <td>139</td>\n",
       "      <td>130</td>\n",
       "      <td>0</td>\n",
       "      <td>...</td>\n",
       "      <td>186.0</td>\n",
       "      <td>0.0</td>\n",
       "      <td>0.0</td>\n",
       "      <td>0.0</td>\n",
       "      <td>0.0</td>\n",
       "      <td>0.0</td>\n",
       "      <td>0.0</td>\n",
       "      <td>0.0</td>\n",
       "      <td>0.0</td>\n",
       "      <td>0.0</td>\n",
       "    </tr>\n",
       "    <tr>\n",
       "      <th>2020-03-07</th>\n",
       "      <td>2020-03-07</td>\n",
       "      <td>NL</td>\n",
       "      <td>3</td>\n",
       "      <td>31</td>\n",
       "      <td>26</td>\n",
       "      <td>0</td>\n",
       "      <td>7</td>\n",
       "      <td>147</td>\n",
       "      <td>138</td>\n",
       "      <td>1</td>\n",
       "      <td>...</td>\n",
       "      <td>220.0</td>\n",
       "      <td>0.0</td>\n",
       "      <td>0.0</td>\n",
       "      <td>0.0</td>\n",
       "      <td>0.0</td>\n",
       "      <td>0.0</td>\n",
       "      <td>0.0</td>\n",
       "      <td>0.0</td>\n",
       "      <td>0.0</td>\n",
       "      <td>0.0</td>\n",
       "    </tr>\n",
       "  </tbody>\n",
       "</table>\n",
       "<p>10 rows × 45 columns</p>\n",
       "</div>"
      ],
      "text/plain": [
       "                 Datum LandCode  NICE IC Bedden (intake)  \\\n",
       "Key                                                        \n",
       "2020-02-27  2020-02-27       NL                        1   \n",
       "2020-02-28  2020-02-28       NL                        0   \n",
       "2020-02-29  2020-02-29       NL                        0   \n",
       "2020-03-01  2020-03-01       NL                        2   \n",
       "2020-03-02  2020-03-02       NL                        0   \n",
       "2020-03-03  2020-03-03       NL                        1   \n",
       "2020-03-04  2020-03-04       NL                        3   \n",
       "2020-03-05  2020-03-05       NL                        1   \n",
       "2020-03-06  2020-03-06       NL                        4   \n",
       "2020-03-07  2020-03-07       NL                        3   \n",
       "\n",
       "            NICE IC Bedden (cumulatief)  NICE IC Bedden  NICE IC Overleden  \\\n",
       "Key                                                                          \n",
       "2020-02-27                           13              13                  0   \n",
       "2020-02-28                           14              14                  0   \n",
       "2020-02-29                           15              15                  0   \n",
       "2020-03-01                           17              17                  0   \n",
       "2020-03-02                           17              16                  0   \n",
       "2020-03-03                           19              18                  0   \n",
       "2020-03-04                           22              21                  0   \n",
       "2020-03-05                           24              21                  0   \n",
       "2020-03-06                           28              24                  0   \n",
       "2020-03-07                           31              26                  0   \n",
       "\n",
       "            NICE Ziekenhuis Bedden (intake)  \\\n",
       "Key                                           \n",
       "2020-02-27                                2   \n",
       "2020-02-28                                3   \n",
       "2020-02-29                                1   \n",
       "2020-03-01                                7   \n",
       "2020-03-02                               10   \n",
       "2020-03-03                                8   \n",
       "2020-03-04                               10   \n",
       "2020-03-05                               12   \n",
       "2020-03-06                               19   \n",
       "2020-03-07                                7   \n",
       "\n",
       "            NICE Ziekenhuis Bedden (cumulatief)  NICE Ziekenhuis Bedden  \\\n",
       "Key                                                                       \n",
       "2020-02-27                                   66                      63   \n",
       "2020-02-28                                   69                      66   \n",
       "2020-02-29                                   70                      66   \n",
       "2020-03-01                                   78                      74   \n",
       "2020-03-02                                   89                      85   \n",
       "2020-03-03                                   97                      92   \n",
       "2020-03-04                                  110                     104   \n",
       "2020-03-05                                  122                     114   \n",
       "2020-03-06                                  139                     130   \n",
       "2020-03-07                                  147                     138   \n",
       "\n",
       "            NICE Ziekenhuis Overleden  ...  Besmettelijk per 100.000  \\\n",
       "Key                                    ...                             \n",
       "2020-02-27                          0  ...                      39.0   \n",
       "2020-02-28                          0  ...                      49.0   \n",
       "2020-02-29                          0  ...                      60.0   \n",
       "2020-03-01                          0  ...                      75.0   \n",
       "2020-03-02                          0  ...                      92.0   \n",
       "2020-03-03                          0  ...                     111.0   \n",
       "2020-03-04                          0  ...                     133.0   \n",
       "2020-03-05                          0  ...                     158.0   \n",
       "2020-03-06                          0  ...                     186.0   \n",
       "2020-03-07                          1  ...                     220.0   \n",
       "\n",
       "            GGD getest  GGD getest positief  GGD percentage positief  \\\n",
       "Key                                                                    \n",
       "2020-02-27         0.0                  0.0                      0.0   \n",
       "2020-02-28         0.0                  0.0                      0.0   \n",
       "2020-02-29         0.0                  0.0                      0.0   \n",
       "2020-03-01         0.0                  0.0                      0.0   \n",
       "2020-03-02         0.0                  0.0                      0.0   \n",
       "2020-03-03         0.0                  0.0                      0.0   \n",
       "2020-03-04         0.0                  0.0                      0.0   \n",
       "2020-03-05         0.0                  0.0                      0.0   \n",
       "2020-03-06         0.0                  0.0                      0.0   \n",
       "2020-03-07         0.0                  0.0                      0.0   \n",
       "\n",
       "            GGD getest (7 daags)  GGD getest positief (7 daags)  \\\n",
       "Key                                                               \n",
       "2020-02-27                   0.0                            0.0   \n",
       "2020-02-28                   0.0                            0.0   \n",
       "2020-02-29                   0.0                            0.0   \n",
       "2020-03-01                   0.0                            0.0   \n",
       "2020-03-02                   0.0                            0.0   \n",
       "2020-03-03                   0.0                            0.0   \n",
       "2020-03-04                   0.0                            0.0   \n",
       "2020-03-05                   0.0                            0.0   \n",
       "2020-03-06                   0.0                            0.0   \n",
       "2020-03-07                   0.0                            0.0   \n",
       "\n",
       "            GGD percentage positief (7 daags)  GGD getest (cumulatief)  \\\n",
       "Key                                                                      \n",
       "2020-02-27                                0.0                      0.0   \n",
       "2020-02-28                                0.0                      0.0   \n",
       "2020-02-29                                0.0                      0.0   \n",
       "2020-03-01                                0.0                      0.0   \n",
       "2020-03-02                                0.0                      0.0   \n",
       "2020-03-03                                0.0                      0.0   \n",
       "2020-03-04                                0.0                      0.0   \n",
       "2020-03-05                                0.0                      0.0   \n",
       "2020-03-06                                0.0                      0.0   \n",
       "2020-03-07                                0.0                      0.0   \n",
       "\n",
       "            GGD getest positief (cumulatief)  \\\n",
       "Key                                            \n",
       "2020-02-27                               0.0   \n",
       "2020-02-28                               0.0   \n",
       "2020-02-29                               0.0   \n",
       "2020-03-01                               0.0   \n",
       "2020-03-02                               0.0   \n",
       "2020-03-03                               0.0   \n",
       "2020-03-04                               0.0   \n",
       "2020-03-05                               0.0   \n",
       "2020-03-06                               0.0   \n",
       "2020-03-07                               0.0   \n",
       "\n",
       "            GGD percentage positief (cumulatief)  \n",
       "Key                                               \n",
       "2020-02-27                                   0.0  \n",
       "2020-02-28                                   0.0  \n",
       "2020-02-29                                   0.0  \n",
       "2020-03-01                                   0.0  \n",
       "2020-03-02                                   0.0  \n",
       "2020-03-03                                   0.0  \n",
       "2020-03-04                                   0.0  \n",
       "2020-03-05                                   0.0  \n",
       "2020-03-06                                   0.0  \n",
       "2020-03-07                                   0.0  \n",
       "\n",
       "[10 rows x 45 columns]"
      ]
     },
     "metadata": {},
     "output_type": "display_data"
    }
   ],
   "source": [
    "@run('uitgevoerde testen')\n",
    "def cell():\n",
    "  df = RIVM.csv('COVID-19_uitgevoerde_testen').rename(columns={\n",
    "    'Date_of_statistics': 'Datum',\n",
    "    'Tested_with_result': 'GGD getest',\n",
    "    'Tested_positive': 'GGD getest positief',\n",
    "  })\n",
    "  df['Datum'] = pd.to_datetime(df.Datum)\n",
    "  df = df.groupby(['Datum']).agg({'GGD getest': 'sum', 'GGD getest positief': 'sum'})\n",
    "  display(df)\n",
    "\n",
    "  global dagoverzicht\n",
    "  columns = dagoverzicht.columns\n",
    "\n",
    "  dagoverzicht = dagoverzicht.merge(df, how='left', left_index=True, right_index=True)\n",
    "\n",
    "  dagoverzicht['GGD percentage positief'] = (dagoverzicht['GGD getest positief'] / dagoverzicht['GGD getest']).fillna(0)\n",
    "\n",
    "  dagoverzicht['GGD getest (7 daags)'] = dagoverzicht['GGD getest'].rolling(7).sum().fillna(0)\n",
    "  dagoverzicht['GGD getest positief (7 daags)'] = dagoverzicht['GGD getest positief'].rolling(7).sum().fillna(0)\n",
    "\n",
    "  dagoverzicht['GGD percentage positief (7 daags)'] = (dagoverzicht['GGD getest positief (7 daags)'] / dagoverzicht['GGD getest (7 daags)']).fillna(0)\n",
    "\n",
    "  dagoverzicht['GGD getest (cumulatief)'] = dagoverzicht['GGD getest'].cumsum()\n",
    "  dagoverzicht['GGD getest positief (cumulatief)'] = dagoverzicht['GGD getest positief'].cumsum()\n",
    "\n",
    "  dagoverzicht['GGD percentage positief (cumulatief)'] = (dagoverzicht['GGD getest positief (cumulatief)'] / dagoverzicht['GGD getest (cumulatief)']).fillna(0)\n",
    "\n",
    "  # fill 0 *after* the calculations above to prevent summing 'GGD getest (7 daags) from the starting date of the 'GGD getest' series\n",
    "  for col in dagoverzicht.columns:\n",
    "    # only zero out new columns\n",
    "    if col in columns: continue\n",
    "    dagoverzicht[col] = dagoverzicht[col].fillna(0)\n",
    "\n",
    "  display(dagoverzicht.head(10))"
   ]
  },
  {
   "cell_type": "code",
   "execution_count": 7,
   "id": "thick-department",
   "metadata": {
    "execution": {
     "iopub.execute_input": "2021-02-18T14:35:35.013916Z",
     "iopub.status.busy": "2021-02-18T14:35:35.012360Z",
     "iopub.status.idle": "2021-02-18T14:35:35.415873Z",
     "shell.execute_reply": "2021-02-18T14:35:35.416320Z"
    },
    "lines_to_next_cell": 1,
    "papermill": {
     "duration": 0.427296,
     "end_time": "2021-02-18T14:35:35.416476",
     "exception": false,
     "start_time": "2021-02-18T14:35:34.989180",
     "status": "completed"
    },
    "tags": []
   },
   "outputs": [
    {
     "name": "stdout",
     "output_type": "stream",
     "text": [
      "LCPS\n"
     ]
    },
    {
     "name": "stdout",
     "output_type": "stream",
     "text": [
      "lcps/covid-19-2021-02-18@13-00.csv exists\n",
      "loading lcps/covid-19-2021-02-18@13-00.csv.gz\n"
     ]
    }
   ],
   "source": [
    "@run('LCPS')\n",
    "def cell():\n",
    "  # laad dataset\n",
    "  df = LCPS.csv('covid-19').rename(columns={\n",
    "    'IC_Bedden_COVID': 'LCPS IC Bedden COVID',\n",
    "    'IC_Bedden_Non_COVID': 'LCPS IC Bedden Non COVID',\n",
    "    'Kliniek_Bedden': 'LCPS Kliniek Bedden COVID',\n",
    "    'IC_Nieuwe_Opnames_COVID': 'LCPS IC Nieuwe Opnames COVID',\n",
    "    'Kliniek_Nieuwe_Opnames_COVID': 'LCPS Kliniek Nieuwe Opnames COVID',\n",
    "  })\n",
    "  # datum naar datetime index voor merge\n",
    "  df['Datum'] = pd.to_datetime(df['Datum'], format='%d-%m-%Y')\n",
    "  df.set_index('Datum', inplace=True)\n",
    "\n",
    "  # sommeer op datum\n",
    "  df = df.groupby(['Datum']).agg({col: 'sum' for col in df.columns})\n",
    "\n",
    "  # toename = waarde - vorige\n",
    "  df['LCPS IC Bedden COVID (toename)'] = (df['LCPS IC Bedden COVID'] - df['LCPS IC Bedden COVID'].shift(1)).fillna(0)\n",
    "  df['LCPS Kliniek Bedden COVID (toename)'] = (df['LCPS Kliniek Bedden COVID'] - df['LCPS Kliniek Bedden COVID'].shift(1)).fillna(0)\n",
    "\n",
    "  global dagoverzicht\n",
    "  # voeg toe aan dagoverzicht\n",
    "  dagoverzicht = dagoverzicht.merge(df, how='left', left_index=True, right_index=True)\n",
    "  for col in df.columns:\n",
    "    # vervang lege waarden door 0\n",
    "    dagoverzicht[col] = dagoverzicht[col].fillna(0).astype(int)"
   ]
  },
  {
   "cell_type": "code",
   "execution_count": 8,
   "id": "english-staff",
   "metadata": {
    "execution": {
     "iopub.execute_input": "2021-02-18T14:35:35.456012Z",
     "iopub.status.busy": "2021-02-18T14:35:35.455455Z",
     "iopub.status.idle": "2021-02-18T14:35:35.705855Z",
     "shell.execute_reply": "2021-02-18T14:35:35.704804Z"
    },
    "lines_to_next_cell": 1,
    "papermill": {
     "duration": 0.27224,
     "end_time": "2021-02-18T14:35:35.705994",
     "exception": false,
     "start_time": "2021-02-18T14:35:35.433754",
     "status": "completed"
    },
    "tags": []
   },
   "outputs": [
    {
     "name": "stdout",
     "output_type": "stream",
     "text": [
      "corrections\n",
      "https://api.github.com/repos/mzelst/covid-19/contents/corrections/corrections_perday.csv\n",
      "downloading github/corrections_perday-2021-02-18@14-23.csv\n"
     ]
    }
   ],
   "source": [
    "@run('corrections')\n",
    "def cell():\n",
    "  # laad corrections van mzelst\n",
    "  df = GitHub.csv('mzelst/covid-19/contents/corrections/corrections_perday.csv')\n",
    "  # date naar datetime index voor merge\n",
    "  df['date'] = pd.to_datetime(df.date)\n",
    "  df.set_index('date', inplace=True)\n",
    "  columns =  {\n",
    "    'net.infection': 'Positief getest (toename)',\n",
    "    'net.hospitals': 'Ziekenhuisopnames (toename)',\n",
    "    'net.deaths': 'Overleden (toename)'\n",
    "  }\n",
    "  # rename kolommen naar onze namen\n",
    "  df = df.rename(columns=columns)[list(columns.values())]\n",
    "\n",
    "  global dagoverzicht\n",
    "  # voeg toe aan dagoverxicht\n",
    "  dagoverzicht = dagoverzicht.merge(df, how='left', left_index=True, right_index=True)\n",
    "  for col in columns.values():\n",
    "    # set lege waarden op 0\n",
    "    dagoverzicht[col] = dagoverzicht[col].fillna(0).astype(int)"
   ]
  },
  {
   "cell_type": "code",
   "execution_count": 9,
   "id": "occupational-ultimate",
   "metadata": {
    "execution": {
     "iopub.execute_input": "2021-02-18T14:35:35.744436Z",
     "iopub.status.busy": "2021-02-18T14:35:35.743884Z",
     "iopub.status.idle": "2021-02-18T14:35:35.800943Z",
     "shell.execute_reply": "2021-02-18T14:35:35.801402Z"
    },
    "lines_to_next_cell": 1,
    "papermill": {
     "duration": 0.078284,
     "end_time": "2021-02-18T14:35:35.801561",
     "exception": false,
     "start_time": "2021-02-18T14:35:35.723277",
     "status": "completed"
    },
    "tags": []
   },
   "outputs": [
    {
     "name": "stdout",
     "output_type": "stream",
     "text": [
      "Personen\n"
     ]
    },
    {
     "data": {
      "text/html": [
       "<div>\n",
       "<style scoped>\n",
       "    .dataframe tbody tr th:only-of-type {\n",
       "        vertical-align: middle;\n",
       "    }\n",
       "\n",
       "    .dataframe tbody tr th {\n",
       "        vertical-align: top;\n",
       "    }\n",
       "\n",
       "    .dataframe thead th {\n",
       "        text-align: right;\n",
       "    }\n",
       "</style>\n",
       "<table border=\"1\" class=\"dataframe\">\n",
       "  <thead>\n",
       "    <tr style=\"text-align: right;\">\n",
       "      <th></th>\n",
       "      <th>Datum</th>\n",
       "      <th>LandCode</th>\n",
       "      <th>NICE IC Bedden (intake)</th>\n",
       "      <th>NICE IC Bedden (cumulatief)</th>\n",
       "      <th>NICE IC Bedden</th>\n",
       "      <th>NICE IC Overleden</th>\n",
       "      <th>NICE Ziekenhuis Bedden (intake)</th>\n",
       "      <th>NICE Ziekenhuis Bedden (cumulatief)</th>\n",
       "      <th>NICE Ziekenhuis Bedden</th>\n",
       "      <th>NICE Ziekenhuis Overleden</th>\n",
       "      <th>...</th>\n",
       "      <th>LCPS IC Bedden Non COVID</th>\n",
       "      <th>LCPS Kliniek Bedden COVID</th>\n",
       "      <th>LCPS IC Nieuwe Opnames COVID</th>\n",
       "      <th>LCPS Kliniek Nieuwe Opnames COVID</th>\n",
       "      <th>LCPS IC Bedden COVID (toename)</th>\n",
       "      <th>LCPS Kliniek Bedden COVID (toename)</th>\n",
       "      <th>Positief getest (toename)</th>\n",
       "      <th>Ziekenhuisopnames (toename)</th>\n",
       "      <th>Overleden (toename)</th>\n",
       "      <th>Personen</th>\n",
       "    </tr>\n",
       "    <tr>\n",
       "      <th>Key</th>\n",
       "      <th></th>\n",
       "      <th></th>\n",
       "      <th></th>\n",
       "      <th></th>\n",
       "      <th></th>\n",
       "      <th></th>\n",
       "      <th></th>\n",
       "      <th></th>\n",
       "      <th></th>\n",
       "      <th></th>\n",
       "      <th></th>\n",
       "      <th></th>\n",
       "      <th></th>\n",
       "      <th></th>\n",
       "      <th></th>\n",
       "      <th></th>\n",
       "      <th></th>\n",
       "      <th></th>\n",
       "      <th></th>\n",
       "      <th></th>\n",
       "      <th></th>\n",
       "    </tr>\n",
       "  </thead>\n",
       "  <tbody>\n",
       "    <tr>\n",
       "      <th>2020-02-27</th>\n",
       "      <td>2020-02-27</td>\n",
       "      <td>NL</td>\n",
       "      <td>1</td>\n",
       "      <td>13</td>\n",
       "      <td>13</td>\n",
       "      <td>0</td>\n",
       "      <td>2</td>\n",
       "      <td>66</td>\n",
       "      <td>63</td>\n",
       "      <td>0</td>\n",
       "      <td>...</td>\n",
       "      <td>0</td>\n",
       "      <td>1</td>\n",
       "      <td>0</td>\n",
       "      <td>0</td>\n",
       "      <td>0</td>\n",
       "      <td>0</td>\n",
       "      <td>0</td>\n",
       "      <td>0</td>\n",
       "      <td>0</td>\n",
       "      <td>17474693</td>\n",
       "    </tr>\n",
       "    <tr>\n",
       "      <th>2020-02-28</th>\n",
       "      <td>2020-02-28</td>\n",
       "      <td>NL</td>\n",
       "      <td>0</td>\n",
       "      <td>14</td>\n",
       "      <td>14</td>\n",
       "      <td>0</td>\n",
       "      <td>3</td>\n",
       "      <td>69</td>\n",
       "      <td>66</td>\n",
       "      <td>0</td>\n",
       "      <td>...</td>\n",
       "      <td>0</td>\n",
       "      <td>9</td>\n",
       "      <td>0</td>\n",
       "      <td>0</td>\n",
       "      <td>1</td>\n",
       "      <td>8</td>\n",
       "      <td>0</td>\n",
       "      <td>0</td>\n",
       "      <td>0</td>\n",
       "      <td>17474693</td>\n",
       "    </tr>\n",
       "    <tr>\n",
       "      <th>2020-02-29</th>\n",
       "      <td>2020-02-29</td>\n",
       "      <td>NL</td>\n",
       "      <td>0</td>\n",
       "      <td>15</td>\n",
       "      <td>15</td>\n",
       "      <td>0</td>\n",
       "      <td>1</td>\n",
       "      <td>70</td>\n",
       "      <td>66</td>\n",
       "      <td>0</td>\n",
       "      <td>...</td>\n",
       "      <td>0</td>\n",
       "      <td>10</td>\n",
       "      <td>0</td>\n",
       "      <td>0</td>\n",
       "      <td>1</td>\n",
       "      <td>1</td>\n",
       "      <td>0</td>\n",
       "      <td>0</td>\n",
       "      <td>0</td>\n",
       "      <td>17474693</td>\n",
       "    </tr>\n",
       "    <tr>\n",
       "      <th>2020-03-01</th>\n",
       "      <td>2020-03-01</td>\n",
       "      <td>NL</td>\n",
       "      <td>2</td>\n",
       "      <td>17</td>\n",
       "      <td>17</td>\n",
       "      <td>0</td>\n",
       "      <td>7</td>\n",
       "      <td>78</td>\n",
       "      <td>74</td>\n",
       "      <td>0</td>\n",
       "      <td>...</td>\n",
       "      <td>0</td>\n",
       "      <td>20</td>\n",
       "      <td>0</td>\n",
       "      <td>0</td>\n",
       "      <td>2</td>\n",
       "      <td>10</td>\n",
       "      <td>0</td>\n",
       "      <td>0</td>\n",
       "      <td>0</td>\n",
       "      <td>17474693</td>\n",
       "    </tr>\n",
       "    <tr>\n",
       "      <th>2020-03-02</th>\n",
       "      <td>2020-03-02</td>\n",
       "      <td>NL</td>\n",
       "      <td>0</td>\n",
       "      <td>17</td>\n",
       "      <td>16</td>\n",
       "      <td>0</td>\n",
       "      <td>10</td>\n",
       "      <td>89</td>\n",
       "      <td>85</td>\n",
       "      <td>0</td>\n",
       "      <td>...</td>\n",
       "      <td>0</td>\n",
       "      <td>34</td>\n",
       "      <td>0</td>\n",
       "      <td>0</td>\n",
       "      <td>-1</td>\n",
       "      <td>14</td>\n",
       "      <td>0</td>\n",
       "      <td>0</td>\n",
       "      <td>0</td>\n",
       "      <td>17474693</td>\n",
       "    </tr>\n",
       "    <tr>\n",
       "      <th>...</th>\n",
       "      <td>...</td>\n",
       "      <td>...</td>\n",
       "      <td>...</td>\n",
       "      <td>...</td>\n",
       "      <td>...</td>\n",
       "      <td>...</td>\n",
       "      <td>...</td>\n",
       "      <td>...</td>\n",
       "      <td>...</td>\n",
       "      <td>...</td>\n",
       "      <td>...</td>\n",
       "      <td>...</td>\n",
       "      <td>...</td>\n",
       "      <td>...</td>\n",
       "      <td>...</td>\n",
       "      <td>...</td>\n",
       "      <td>...</td>\n",
       "      <td>...</td>\n",
       "      <td>...</td>\n",
       "      <td>...</td>\n",
       "      <td>...</td>\n",
       "    </tr>\n",
       "    <tr>\n",
       "      <th>2021-02-14</th>\n",
       "      <td>2021-02-14</td>\n",
       "      <td>NL</td>\n",
       "      <td>25</td>\n",
       "      <td>8311</td>\n",
       "      <td>543</td>\n",
       "      <td>2396</td>\n",
       "      <td>134</td>\n",
       "      <td>39163</td>\n",
       "      <td>1505</td>\n",
       "      <td>5705</td>\n",
       "      <td>...</td>\n",
       "      <td>470</td>\n",
       "      <td>1329</td>\n",
       "      <td>19</td>\n",
       "      <td>135</td>\n",
       "      <td>-8</td>\n",
       "      <td>4</td>\n",
       "      <td>3447</td>\n",
       "      <td>61</td>\n",
       "      <td>23</td>\n",
       "      <td>17474693</td>\n",
       "    </tr>\n",
       "    <tr>\n",
       "      <th>2021-02-15</th>\n",
       "      <td>2021-02-15</td>\n",
       "      <td>NL</td>\n",
       "      <td>31</td>\n",
       "      <td>8345</td>\n",
       "      <td>554</td>\n",
       "      <td>2402</td>\n",
       "      <td>187</td>\n",
       "      <td>39348</td>\n",
       "      <td>1612</td>\n",
       "      <td>5726</td>\n",
       "      <td>...</td>\n",
       "      <td>499</td>\n",
       "      <td>1386</td>\n",
       "      <td>22</td>\n",
       "      <td>143</td>\n",
       "      <td>6</td>\n",
       "      <td>57</td>\n",
       "      <td>2810</td>\n",
       "      <td>45</td>\n",
       "      <td>27</td>\n",
       "      <td>17474693</td>\n",
       "    </tr>\n",
       "    <tr>\n",
       "      <th>2021-02-16</th>\n",
       "      <td>2021-02-16</td>\n",
       "      <td>NL</td>\n",
       "      <td>38</td>\n",
       "      <td>8385</td>\n",
       "      <td>551</td>\n",
       "      <td>2409</td>\n",
       "      <td>148</td>\n",
       "      <td>39505</td>\n",
       "      <td>1613</td>\n",
       "      <td>5752</td>\n",
       "      <td>...</td>\n",
       "      <td>528</td>\n",
       "      <td>1400</td>\n",
       "      <td>32</td>\n",
       "      <td>209</td>\n",
       "      <td>-10</td>\n",
       "      <td>14</td>\n",
       "      <td>2701</td>\n",
       "      <td>58</td>\n",
       "      <td>86</td>\n",
       "      <td>17474693</td>\n",
       "    </tr>\n",
       "    <tr>\n",
       "      <th>2021-02-17</th>\n",
       "      <td>2021-02-17</td>\n",
       "      <td>NL</td>\n",
       "      <td>31</td>\n",
       "      <td>8420</td>\n",
       "      <td>547</td>\n",
       "      <td>2415</td>\n",
       "      <td>101</td>\n",
       "      <td>39618</td>\n",
       "      <td>1577</td>\n",
       "      <td>5769</td>\n",
       "      <td>...</td>\n",
       "      <td>516</td>\n",
       "      <td>1399</td>\n",
       "      <td>34</td>\n",
       "      <td>177</td>\n",
       "      <td>-6</td>\n",
       "      <td>-1</td>\n",
       "      <td>3361</td>\n",
       "      <td>77</td>\n",
       "      <td>88</td>\n",
       "      <td>17474693</td>\n",
       "    </tr>\n",
       "    <tr>\n",
       "      <th>2021-02-18</th>\n",
       "      <td>2021-02-18</td>\n",
       "      <td>NL</td>\n",
       "      <td>5</td>\n",
       "      <td>8426</td>\n",
       "      <td>523</td>\n",
       "      <td>2417</td>\n",
       "      <td>6</td>\n",
       "      <td>39634</td>\n",
       "      <td>1465</td>\n",
       "      <td>5772</td>\n",
       "      <td>...</td>\n",
       "      <td>511</td>\n",
       "      <td>1408</td>\n",
       "      <td>33</td>\n",
       "      <td>205</td>\n",
       "      <td>3</td>\n",
       "      <td>9</td>\n",
       "      <td>4518</td>\n",
       "      <td>63</td>\n",
       "      <td>72</td>\n",
       "      <td>17474693</td>\n",
       "    </tr>\n",
       "  </tbody>\n",
       "</table>\n",
       "<p>358 rows × 56 columns</p>\n",
       "</div>"
      ],
      "text/plain": [
       "                 Datum LandCode  NICE IC Bedden (intake)  \\\n",
       "Key                                                        \n",
       "2020-02-27  2020-02-27       NL                        1   \n",
       "2020-02-28  2020-02-28       NL                        0   \n",
       "2020-02-29  2020-02-29       NL                        0   \n",
       "2020-03-01  2020-03-01       NL                        2   \n",
       "2020-03-02  2020-03-02       NL                        0   \n",
       "...                ...      ...                      ...   \n",
       "2021-02-14  2021-02-14       NL                       25   \n",
       "2021-02-15  2021-02-15       NL                       31   \n",
       "2021-02-16  2021-02-16       NL                       38   \n",
       "2021-02-17  2021-02-17       NL                       31   \n",
       "2021-02-18  2021-02-18       NL                        5   \n",
       "\n",
       "            NICE IC Bedden (cumulatief)  NICE IC Bedden  NICE IC Overleden  \\\n",
       "Key                                                                          \n",
       "2020-02-27                           13              13                  0   \n",
       "2020-02-28                           14              14                  0   \n",
       "2020-02-29                           15              15                  0   \n",
       "2020-03-01                           17              17                  0   \n",
       "2020-03-02                           17              16                  0   \n",
       "...                                 ...             ...                ...   \n",
       "2021-02-14                         8311             543               2396   \n",
       "2021-02-15                         8345             554               2402   \n",
       "2021-02-16                         8385             551               2409   \n",
       "2021-02-17                         8420             547               2415   \n",
       "2021-02-18                         8426             523               2417   \n",
       "\n",
       "            NICE Ziekenhuis Bedden (intake)  \\\n",
       "Key                                           \n",
       "2020-02-27                                2   \n",
       "2020-02-28                                3   \n",
       "2020-02-29                                1   \n",
       "2020-03-01                                7   \n",
       "2020-03-02                               10   \n",
       "...                                     ...   \n",
       "2021-02-14                              134   \n",
       "2021-02-15                              187   \n",
       "2021-02-16                              148   \n",
       "2021-02-17                              101   \n",
       "2021-02-18                                6   \n",
       "\n",
       "            NICE Ziekenhuis Bedden (cumulatief)  NICE Ziekenhuis Bedden  \\\n",
       "Key                                                                       \n",
       "2020-02-27                                   66                      63   \n",
       "2020-02-28                                   69                      66   \n",
       "2020-02-29                                   70                      66   \n",
       "2020-03-01                                   78                      74   \n",
       "2020-03-02                                   89                      85   \n",
       "...                                         ...                     ...   \n",
       "2021-02-14                                39163                    1505   \n",
       "2021-02-15                                39348                    1612   \n",
       "2021-02-16                                39505                    1613   \n",
       "2021-02-17                                39618                    1577   \n",
       "2021-02-18                                39634                    1465   \n",
       "\n",
       "            NICE Ziekenhuis Overleden  ...  LCPS IC Bedden Non COVID  \\\n",
       "Key                                    ...                             \n",
       "2020-02-27                          0  ...                         0   \n",
       "2020-02-28                          0  ...                         0   \n",
       "2020-02-29                          0  ...                         0   \n",
       "2020-03-01                          0  ...                         0   \n",
       "2020-03-02                          0  ...                         0   \n",
       "...                               ...  ...                       ...   \n",
       "2021-02-14                       5705  ...                       470   \n",
       "2021-02-15                       5726  ...                       499   \n",
       "2021-02-16                       5752  ...                       528   \n",
       "2021-02-17                       5769  ...                       516   \n",
       "2021-02-18                       5772  ...                       511   \n",
       "\n",
       "            LCPS Kliniek Bedden COVID  LCPS IC Nieuwe Opnames COVID  \\\n",
       "Key                                                                   \n",
       "2020-02-27                          1                             0   \n",
       "2020-02-28                          9                             0   \n",
       "2020-02-29                         10                             0   \n",
       "2020-03-01                         20                             0   \n",
       "2020-03-02                         34                             0   \n",
       "...                               ...                           ...   \n",
       "2021-02-14                       1329                            19   \n",
       "2021-02-15                       1386                            22   \n",
       "2021-02-16                       1400                            32   \n",
       "2021-02-17                       1399                            34   \n",
       "2021-02-18                       1408                            33   \n",
       "\n",
       "            LCPS Kliniek Nieuwe Opnames COVID  LCPS IC Bedden COVID (toename)  \\\n",
       "Key                                                                             \n",
       "2020-02-27                                  0                               0   \n",
       "2020-02-28                                  0                               1   \n",
       "2020-02-29                                  0                               1   \n",
       "2020-03-01                                  0                               2   \n",
       "2020-03-02                                  0                              -1   \n",
       "...                                       ...                             ...   \n",
       "2021-02-14                                135                              -8   \n",
       "2021-02-15                                143                               6   \n",
       "2021-02-16                                209                             -10   \n",
       "2021-02-17                                177                              -6   \n",
       "2021-02-18                                205                               3   \n",
       "\n",
       "            LCPS Kliniek Bedden COVID (toename)  Positief getest (toename)  \\\n",
       "Key                                                                          \n",
       "2020-02-27                                    0                          0   \n",
       "2020-02-28                                    8                          0   \n",
       "2020-02-29                                    1                          0   \n",
       "2020-03-01                                   10                          0   \n",
       "2020-03-02                                   14                          0   \n",
       "...                                         ...                        ...   \n",
       "2021-02-14                                    4                       3447   \n",
       "2021-02-15                                   57                       2810   \n",
       "2021-02-16                                   14                       2701   \n",
       "2021-02-17                                   -1                       3361   \n",
       "2021-02-18                                    9                       4518   \n",
       "\n",
       "            Ziekenhuisopnames (toename)  Overleden (toename)  Personen  \n",
       "Key                                                                     \n",
       "2020-02-27                            0                    0  17474693  \n",
       "2020-02-28                            0                    0  17474693  \n",
       "2020-02-29                            0                    0  17474693  \n",
       "2020-03-01                            0                    0  17474693  \n",
       "2020-03-02                            0                    0  17474693  \n",
       "...                                 ...                  ...       ...  \n",
       "2021-02-14                           61                   23  17474693  \n",
       "2021-02-15                           45                   27  17474693  \n",
       "2021-02-16                           58                   86  17474693  \n",
       "2021-02-17                           77                   88  17474693  \n",
       "2021-02-18                           63                   72  17474693  \n",
       "\n",
       "[358 rows x 56 columns]"
      ]
     },
     "metadata": {},
     "output_type": "display_data"
    }
   ],
   "source": [
    "@run('Personen')\n",
    "def cell():\n",
    "  global dagoverzicht\n",
    "  dagoverzicht['Personen'] = bevolking.BevolkingOpDeEersteVanDeMaand\n",
    "  display(dagoverzicht)"
   ]
  },
  {
   "cell_type": "code",
   "execution_count": 10,
   "id": "southeast-qatar",
   "metadata": {
    "execution": {
     "iopub.execute_input": "2021-02-18T14:35:35.844745Z",
     "iopub.status.busy": "2021-02-18T14:35:35.844166Z",
     "iopub.status.idle": "2021-02-18T14:36:45.600599Z",
     "shell.execute_reply": "2021-02-18T14:36:45.598878Z"
    },
    "lines_to_next_cell": 0,
    "papermill": {
     "duration": 69.780638,
     "end_time": "2021-02-18T14:36:45.600730",
     "exception": false,
     "start_time": "2021-02-18T14:35:35.820092",
     "status": "completed"
    },
    "tags": []
   },
   "outputs": [
    {
     "data": {
      "text/html": [
       "<div>\n",
       "<style scoped>\n",
       "    .dataframe tbody tr th:only-of-type {\n",
       "        vertical-align: middle;\n",
       "    }\n",
       "\n",
       "    .dataframe tbody tr th {\n",
       "        vertical-align: top;\n",
       "    }\n",
       "\n",
       "    .dataframe thead th {\n",
       "        text-align: right;\n",
       "    }\n",
       "</style>\n",
       "<table border=\"1\" class=\"dataframe\">\n",
       "  <thead>\n",
       "    <tr style=\"text-align: right;\">\n",
       "      <th></th>\n",
       "    </tr>\n",
       "    <tr>\n",
       "      <th>Key</th>\n",
       "    </tr>\n",
       "  </thead>\n",
       "  <tbody>\n",
       "  </tbody>\n",
       "</table>\n",
       "</div>"
      ],
      "text/plain": [
       "Empty DataFrame\n",
       "Columns: []\n",
       "Index: []"
      ]
     },
     "metadata": {},
     "output_type": "display_data"
    },
    {
     "data": {
      "text/html": [
       "<div>\n",
       "<style scoped>\n",
       "    .dataframe tbody tr th:only-of-type {\n",
       "        vertical-align: middle;\n",
       "    }\n",
       "\n",
       "    .dataframe tbody tr th {\n",
       "        vertical-align: top;\n",
       "    }\n",
       "\n",
       "    .dataframe thead th {\n",
       "        text-align: right;\n",
       "    }\n",
       "</style>\n",
       "<table border=\"1\" class=\"dataframe\">\n",
       "  <thead>\n",
       "    <tr style=\"text-align: right;\">\n",
       "      <th></th>\n",
       "    </tr>\n",
       "    <tr>\n",
       "      <th>Key</th>\n",
       "    </tr>\n",
       "  </thead>\n",
       "  <tbody>\n",
       "  </tbody>\n",
       "</table>\n",
       "</div>"
      ],
      "text/plain": [
       "Empty DataFrame\n",
       "Columns: []\n",
       "Index: []"
      ]
     },
     "metadata": {},
     "output_type": "display_data"
    },
    {
     "name": "stdout",
     "output_type": "stream",
     "text": [
      "updating knack\n"
     ]
    },
    {
     "name": "stderr",
     "output_type": "stream",
     "text": [
      "\r",
      "  0%|          | 0/348 [00:00<?, ?it/s]"
     ]
    },
    {
     "name": "stderr",
     "output_type": "stream",
     "text": [
      "\r",
      "  0%|          | 1/348 [00:00<04:49,  1.20it/s]"
     ]
    },
    {
     "name": "stderr",
     "output_type": "stream",
     "text": [
      "\r",
      "  1%|          | 4/348 [00:00<01:04,  5.36it/s]"
     ]
    },
    {
     "name": "stderr",
     "output_type": "stream",
     "text": [
      "\r",
      "  2%|▏         | 6/348 [00:01<00:46,  7.43it/s]"
     ]
    },
    {
     "name": "stderr",
     "output_type": "stream",
     "text": [
      "\r",
      "  2%|▏         | 8/348 [00:01<00:37,  8.95it/s]"
     ]
    },
    {
     "name": "stderr",
     "output_type": "stream",
     "text": [
      "\r",
      "  3%|▎         | 10/348 [00:01<00:37,  9.01it/s]"
     ]
    },
    {
     "name": "stderr",
     "output_type": "stream",
     "text": [
      "\r",
      "  3%|▎         | 12/348 [00:01<00:49,  6.73it/s]"
     ]
    },
    {
     "name": "stderr",
     "output_type": "stream",
     "text": [
      "\r",
      "  4%|▍         | 14/348 [00:02<00:46,  7.23it/s]"
     ]
    },
    {
     "name": "stderr",
     "output_type": "stream",
     "text": [
      "\r",
      "  4%|▍         | 15/348 [00:02<00:47,  6.95it/s]"
     ]
    },
    {
     "name": "stderr",
     "output_type": "stream",
     "text": [
      "\r",
      "  5%|▍         | 16/348 [00:02<00:49,  6.68it/s]"
     ]
    },
    {
     "name": "stderr",
     "output_type": "stream",
     "text": [
      "\r",
      "  5%|▍         | 17/348 [00:02<00:48,  6.83it/s]"
     ]
    },
    {
     "name": "stderr",
     "output_type": "stream",
     "text": [
      "\r",
      "  5%|▌         | 19/348 [00:02<00:46,  7.14it/s]"
     ]
    },
    {
     "name": "stderr",
     "output_type": "stream",
     "text": [
      "\r",
      "  6%|▌         | 21/348 [00:03<00:39,  8.35it/s]"
     ]
    },
    {
     "name": "stderr",
     "output_type": "stream",
     "text": [
      "\r",
      "  6%|▋         | 22/348 [00:03<00:43,  7.53it/s]"
     ]
    },
    {
     "name": "stderr",
     "output_type": "stream",
     "text": [
      "\r",
      "  7%|▋         | 23/348 [00:03<00:50,  6.42it/s]"
     ]
    },
    {
     "name": "stderr",
     "output_type": "stream",
     "text": [
      "\r",
      "  7%|▋         | 24/348 [00:03<00:57,  5.62it/s]"
     ]
    },
    {
     "name": "stderr",
     "output_type": "stream",
     "text": [
      "\r",
      "  8%|▊         | 27/348 [00:03<00:36,  8.74it/s]"
     ]
    },
    {
     "name": "stderr",
     "output_type": "stream",
     "text": [
      "\r",
      "  8%|▊         | 28/348 [00:04<01:03,  5.06it/s]"
     ]
    },
    {
     "name": "stderr",
     "output_type": "stream",
     "text": [
      "\r",
      "  9%|▉         | 31/348 [00:04<00:40,  7.78it/s]"
     ]
    },
    {
     "name": "stderr",
     "output_type": "stream",
     "text": [
      "\r",
      "  9%|▉         | 33/348 [00:04<00:42,  7.43it/s]"
     ]
    },
    {
     "name": "stderr",
     "output_type": "stream",
     "text": [
      "\r",
      " 10%|█         | 35/348 [00:05<00:38,  8.04it/s]"
     ]
    },
    {
     "name": "stderr",
     "output_type": "stream",
     "text": [
      "\r",
      " 11%|█         | 37/348 [00:05<00:49,  6.25it/s]"
     ]
    },
    {
     "name": "stderr",
     "output_type": "stream",
     "text": [
      "\r",
      " 11%|█         | 38/348 [00:05<00:53,  5.74it/s]"
     ]
    },
    {
     "name": "stderr",
     "output_type": "stream",
     "text": [
      "\r",
      " 11%|█▏        | 40/348 [00:05<00:43,  7.06it/s]"
     ]
    },
    {
     "name": "stderr",
     "output_type": "stream",
     "text": [
      "\r",
      " 12%|█▏        | 41/348 [00:06<00:56,  5.45it/s]"
     ]
    },
    {
     "name": "stderr",
     "output_type": "stream",
     "text": [
      "\r",
      " 12%|█▏        | 42/348 [00:06<00:56,  5.42it/s]"
     ]
    },
    {
     "name": "stderr",
     "output_type": "stream",
     "text": [
      "\r",
      " 13%|█▎        | 44/348 [00:06<00:40,  7.51it/s]"
     ]
    },
    {
     "name": "stderr",
     "output_type": "stream",
     "text": [
      "\r",
      " 13%|█▎        | 46/348 [00:06<00:32,  9.36it/s]"
     ]
    },
    {
     "name": "stderr",
     "output_type": "stream",
     "text": [
      "\r",
      " 14%|█▍        | 48/348 [00:07<00:47,  6.28it/s]"
     ]
    },
    {
     "name": "stderr",
     "output_type": "stream",
     "text": [
      "\r",
      " 14%|█▍        | 50/348 [00:07<00:53,  5.52it/s]"
     ]
    },
    {
     "name": "stderr",
     "output_type": "stream",
     "text": [
      "\r",
      " 15%|█▍        | 52/348 [00:08<00:56,  5.23it/s]"
     ]
    },
    {
     "name": "stderr",
     "output_type": "stream",
     "text": [
      "\r",
      " 15%|█▌        | 53/348 [00:08<00:56,  5.18it/s]"
     ]
    },
    {
     "name": "stderr",
     "output_type": "stream",
     "text": [
      "\r",
      " 16%|█▌        | 56/348 [00:08<00:36,  8.00it/s]"
     ]
    },
    {
     "name": "stderr",
     "output_type": "stream",
     "text": [
      "\r",
      " 17%|█▋        | 58/348 [00:08<00:42,  6.85it/s]"
     ]
    },
    {
     "name": "stderr",
     "output_type": "stream",
     "text": [
      "\r",
      " 17%|█▋        | 60/348 [00:09<00:42,  6.84it/s]"
     ]
    },
    {
     "name": "stderr",
     "output_type": "stream",
     "text": [
      "\r",
      " 18%|█▊        | 62/348 [00:09<00:35,  8.03it/s]"
     ]
    },
    {
     "name": "stderr",
     "output_type": "stream",
     "text": [
      "\r",
      " 18%|█▊        | 64/348 [00:09<00:47,  6.03it/s]"
     ]
    },
    {
     "name": "stderr",
     "output_type": "stream",
     "text": [
      "\r",
      " 19%|█▉        | 66/348 [00:09<00:42,  6.70it/s]"
     ]
    },
    {
     "name": "stderr",
     "output_type": "stream",
     "text": [
      "\r",
      " 19%|█▉        | 67/348 [00:10<00:45,  6.21it/s]"
     ]
    },
    {
     "name": "stderr",
     "output_type": "stream",
     "text": [
      "\r",
      " 20%|█▉        | 68/348 [00:10<00:45,  6.14it/s]"
     ]
    },
    {
     "name": "stderr",
     "output_type": "stream",
     "text": [
      "\r",
      " 20%|█▉        | 69/348 [00:10<00:45,  6.19it/s]"
     ]
    },
    {
     "name": "stderr",
     "output_type": "stream",
     "text": [
      "\r",
      " 20%|██        | 71/348 [00:10<00:37,  7.44it/s]"
     ]
    },
    {
     "name": "stderr",
     "output_type": "stream",
     "text": [
      "\r",
      " 21%|██        | 73/348 [00:11<00:46,  5.91it/s]"
     ]
    },
    {
     "name": "stderr",
     "output_type": "stream",
     "text": [
      "\r",
      " 21%|██▏       | 74/348 [00:11<00:49,  5.59it/s]"
     ]
    },
    {
     "name": "stderr",
     "output_type": "stream",
     "text": [
      "\r",
      " 22%|██▏       | 75/348 [00:11<00:44,  6.12it/s]"
     ]
    },
    {
     "name": "stderr",
     "output_type": "stream",
     "text": [
      "\r",
      " 22%|██▏       | 76/348 [00:11<00:41,  6.60it/s]"
     ]
    },
    {
     "name": "stderr",
     "output_type": "stream",
     "text": [
      "\r",
      " 22%|██▏       | 77/348 [00:11<00:44,  6.15it/s]"
     ]
    },
    {
     "name": "stderr",
     "output_type": "stream",
     "text": [
      "\r",
      " 23%|██▎       | 79/348 [00:11<00:33,  7.95it/s]"
     ]
    },
    {
     "name": "stderr",
     "output_type": "stream",
     "text": [
      "\r",
      " 23%|██▎       | 80/348 [00:12<00:40,  6.64it/s]"
     ]
    },
    {
     "name": "stderr",
     "output_type": "stream",
     "text": [
      "\r",
      " 23%|██▎       | 81/348 [00:12<00:37,  7.21it/s]"
     ]
    },
    {
     "name": "stderr",
     "output_type": "stream",
     "text": [
      "\r",
      " 24%|██▎       | 82/348 [00:12<00:41,  6.38it/s]"
     ]
    },
    {
     "name": "stderr",
     "output_type": "stream",
     "text": [
      "\r",
      " 24%|██▍       | 84/348 [00:12<00:37,  7.00it/s]"
     ]
    },
    {
     "name": "stderr",
     "output_type": "stream",
     "text": [
      "\r",
      " 25%|██▌       | 87/348 [00:13<00:41,  6.28it/s]"
     ]
    },
    {
     "name": "stderr",
     "output_type": "stream",
     "text": [
      "\r",
      " 26%|██▌       | 89/348 [00:13<00:34,  7.57it/s]"
     ]
    },
    {
     "name": "stderr",
     "output_type": "stream",
     "text": [
      "\r",
      " 26%|██▌       | 90/348 [00:13<00:37,  6.95it/s]"
     ]
    },
    {
     "name": "stderr",
     "output_type": "stream",
     "text": [
      "\r",
      " 26%|██▌       | 91/348 [00:13<00:35,  7.15it/s]"
     ]
    },
    {
     "name": "stderr",
     "output_type": "stream",
     "text": [
      "\r",
      " 27%|██▋       | 93/348 [00:14<00:35,  7.19it/s]"
     ]
    },
    {
     "name": "stderr",
     "output_type": "stream",
     "text": [
      "\r",
      " 27%|██▋       | 95/348 [00:14<00:31,  7.93it/s]"
     ]
    },
    {
     "name": "stderr",
     "output_type": "stream",
     "text": [
      "\r",
      " 28%|██▊       | 96/348 [00:14<00:40,  6.16it/s]"
     ]
    },
    {
     "name": "stderr",
     "output_type": "stream",
     "text": [
      "\r",
      " 28%|██▊       | 97/348 [00:14<00:38,  6.60it/s]"
     ]
    },
    {
     "name": "stderr",
     "output_type": "stream",
     "text": [
      "\r",
      " 28%|██▊       | 99/348 [00:14<00:30,  8.22it/s]"
     ]
    },
    {
     "name": "stderr",
     "output_type": "stream",
     "text": [
      "\r",
      " 29%|██▊       | 100/348 [00:14<00:32,  7.74it/s]"
     ]
    },
    {
     "name": "stderr",
     "output_type": "stream",
     "text": [
      "\r",
      " 30%|██▉       | 103/348 [00:15<00:26,  9.15it/s]"
     ]
    },
    {
     "name": "stderr",
     "output_type": "stream",
     "text": [
      "\r",
      " 30%|██▉       | 104/348 [00:15<00:29,  8.41it/s]"
     ]
    },
    {
     "name": "stderr",
     "output_type": "stream",
     "text": [
      "\r",
      " 31%|███       | 107/348 [00:15<00:25,  9.41it/s]"
     ]
    },
    {
     "name": "stderr",
     "output_type": "stream",
     "text": [
      "\r",
      " 31%|███       | 108/348 [00:15<00:29,  8.07it/s]"
     ]
    },
    {
     "name": "stderr",
     "output_type": "stream",
     "text": [
      "\r",
      " 31%|███▏      | 109/348 [00:16<00:35,  6.71it/s]"
     ]
    },
    {
     "name": "stderr",
     "output_type": "stream",
     "text": [
      "\r",
      " 32%|███▏      | 111/348 [00:16<00:33,  6.99it/s]"
     ]
    },
    {
     "name": "stderr",
     "output_type": "stream",
     "text": [
      "\r",
      " 33%|███▎      | 114/348 [00:16<00:27,  8.37it/s]"
     ]
    },
    {
     "name": "stderr",
     "output_type": "stream",
     "text": [
      "\r",
      " 33%|███▎      | 115/348 [00:16<00:28,  8.31it/s]"
     ]
    },
    {
     "name": "stderr",
     "output_type": "stream",
     "text": [
      "\r",
      " 33%|███▎      | 116/348 [00:16<00:27,  8.33it/s]"
     ]
    },
    {
     "name": "stderr",
     "output_type": "stream",
     "text": [
      "\r",
      " 34%|███▎      | 117/348 [00:17<00:51,  4.50it/s]"
     ]
    },
    {
     "name": "stderr",
     "output_type": "stream",
     "text": [
      "\r",
      " 34%|███▍      | 119/348 [00:17<00:36,  6.21it/s]"
     ]
    },
    {
     "name": "stderr",
     "output_type": "stream",
     "text": [
      "\r",
      " 34%|███▍      | 120/348 [00:17<00:36,  6.31it/s]"
     ]
    },
    {
     "name": "stderr",
     "output_type": "stream",
     "text": [
      "\r",
      " 35%|███▌      | 122/348 [00:17<00:27,  8.34it/s]"
     ]
    },
    {
     "name": "stderr",
     "output_type": "stream",
     "text": [
      "\r",
      " 36%|███▌      | 124/348 [00:18<00:31,  7.04it/s]"
     ]
    },
    {
     "name": "stderr",
     "output_type": "stream",
     "text": [
      "\r",
      " 36%|███▌      | 126/348 [00:18<00:26,  8.50it/s]"
     ]
    },
    {
     "name": "stderr",
     "output_type": "stream",
     "text": [
      "\r",
      " 37%|███▋      | 128/348 [00:18<00:24,  8.90it/s]"
     ]
    },
    {
     "name": "stderr",
     "output_type": "stream",
     "text": [
      "\r",
      " 37%|███▋      | 130/348 [00:18<00:28,  7.60it/s]"
     ]
    },
    {
     "name": "stderr",
     "output_type": "stream",
     "text": [
      "\r",
      " 38%|███▊      | 132/348 [00:19<00:22,  9.41it/s]"
     ]
    },
    {
     "name": "stderr",
     "output_type": "stream",
     "text": [
      "\r",
      " 39%|███▊      | 134/348 [00:19<00:21, 10.00it/s]"
     ]
    },
    {
     "name": "stderr",
     "output_type": "stream",
     "text": [
      "\r",
      " 39%|███▉      | 136/348 [00:19<00:24,  8.66it/s]"
     ]
    },
    {
     "name": "stderr",
     "output_type": "stream",
     "text": [
      "\r",
      " 40%|███▉      | 138/348 [00:19<00:32,  6.45it/s]"
     ]
    },
    {
     "name": "stderr",
     "output_type": "stream",
     "text": [
      "\r",
      " 40%|███▉      | 139/348 [00:20<00:31,  6.72it/s]"
     ]
    },
    {
     "name": "stderr",
     "output_type": "stream",
     "text": [
      "\r",
      " 40%|████      | 140/348 [00:20<00:30,  6.85it/s]"
     ]
    },
    {
     "name": "stderr",
     "output_type": "stream",
     "text": [
      "\r",
      " 41%|████      | 142/348 [00:20<00:27,  7.49it/s]"
     ]
    },
    {
     "name": "stderr",
     "output_type": "stream",
     "text": [
      "\r",
      " 41%|████▏     | 144/348 [00:20<00:33,  6.02it/s]"
     ]
    },
    {
     "name": "stderr",
     "output_type": "stream",
     "text": [
      "\r",
      " 42%|████▏     | 146/348 [00:21<00:29,  6.91it/s]"
     ]
    },
    {
     "name": "stderr",
     "output_type": "stream",
     "text": [
      "\r",
      " 42%|████▏     | 147/348 [00:21<00:36,  5.52it/s]"
     ]
    },
    {
     "name": "stderr",
     "output_type": "stream",
     "text": [
      "\r",
      " 43%|████▎     | 148/348 [00:21<00:34,  5.74it/s]"
     ]
    },
    {
     "name": "stderr",
     "output_type": "stream",
     "text": [
      "\r",
      " 43%|████▎     | 150/348 [00:21<00:25,  7.80it/s]"
     ]
    },
    {
     "name": "stderr",
     "output_type": "stream",
     "text": [
      "\r",
      " 44%|████▎     | 152/348 [00:22<00:29,  6.68it/s]"
     ]
    },
    {
     "name": "stderr",
     "output_type": "stream",
     "text": [
      "\r",
      " 44%|████▍     | 153/348 [00:22<00:27,  7.07it/s]"
     ]
    },
    {
     "name": "stderr",
     "output_type": "stream",
     "text": [
      "\r",
      " 44%|████▍     | 154/348 [00:22<00:34,  5.58it/s]"
     ]
    },
    {
     "name": "stderr",
     "output_type": "stream",
     "text": [
      "\r",
      " 45%|████▍     | 155/348 [00:22<00:36,  5.27it/s]"
     ]
    },
    {
     "name": "stderr",
     "output_type": "stream",
     "text": [
      "\r",
      " 45%|████▍     | 156/348 [00:22<00:37,  5.12it/s]"
     ]
    },
    {
     "name": "stderr",
     "output_type": "stream",
     "text": [
      "\r",
      " 45%|████▌     | 157/348 [00:23<00:34,  5.49it/s]"
     ]
    },
    {
     "name": "stderr",
     "output_type": "stream",
     "text": [
      "\r",
      " 46%|████▌     | 159/348 [00:23<00:23,  8.00it/s]"
     ]
    },
    {
     "name": "stderr",
     "output_type": "stream",
     "text": [
      "\r",
      " 47%|████▋     | 162/348 [00:23<00:17, 10.75it/s]"
     ]
    },
    {
     "name": "stderr",
     "output_type": "stream",
     "text": [
      "\r",
      " 47%|████▋     | 164/348 [00:23<00:21,  8.64it/s]"
     ]
    },
    {
     "name": "stderr",
     "output_type": "stream",
     "text": [
      "\r",
      " 48%|████▊     | 166/348 [00:24<00:26,  6.97it/s]"
     ]
    },
    {
     "name": "stderr",
     "output_type": "stream",
     "text": [
      "\r",
      " 48%|████▊     | 168/348 [00:24<00:20,  8.61it/s]"
     ]
    },
    {
     "name": "stderr",
     "output_type": "stream",
     "text": [
      "\r",
      " 49%|████▉     | 171/348 [00:24<00:20,  8.65it/s]"
     ]
    },
    {
     "name": "stderr",
     "output_type": "stream",
     "text": [
      "\r",
      " 50%|████▉     | 173/348 [00:24<00:22,  7.72it/s]"
     ]
    },
    {
     "name": "stderr",
     "output_type": "stream",
     "text": [
      "\r",
      " 50%|█████     | 175/348 [00:25<00:22,  7.60it/s]"
     ]
    },
    {
     "name": "stderr",
     "output_type": "stream",
     "text": [
      "\r",
      " 51%|█████     | 176/348 [00:25<00:22,  7.68it/s]"
     ]
    },
    {
     "name": "stderr",
     "output_type": "stream",
     "text": [
      "\r",
      " 51%|█████     | 177/348 [00:25<00:21,  7.95it/s]"
     ]
    },
    {
     "name": "stderr",
     "output_type": "stream",
     "text": [
      "\r",
      " 51%|█████▏    | 179/348 [00:25<00:28,  5.92it/s]"
     ]
    },
    {
     "name": "stderr",
     "output_type": "stream",
     "text": [
      "\r",
      " 52%|█████▏    | 180/348 [00:26<00:29,  5.79it/s]"
     ]
    },
    {
     "name": "stderr",
     "output_type": "stream",
     "text": [
      "\r",
      " 52%|█████▏    | 182/348 [00:26<00:21,  7.63it/s]"
     ]
    },
    {
     "name": "stderr",
     "output_type": "stream",
     "text": [
      "\r",
      " 53%|█████▎    | 183/348 [00:26<00:32,  5.07it/s]"
     ]
    },
    {
     "name": "stderr",
     "output_type": "stream",
     "text": [
      "\r",
      " 53%|█████▎    | 184/348 [00:26<00:31,  5.24it/s]"
     ]
    },
    {
     "name": "stderr",
     "output_type": "stream",
     "text": [
      "\r",
      " 53%|█████▎    | 185/348 [00:27<00:39,  4.08it/s]"
     ]
    },
    {
     "name": "stderr",
     "output_type": "stream",
     "text": [
      "\r",
      " 53%|█████▎    | 186/348 [00:27<00:34,  4.70it/s]"
     ]
    },
    {
     "name": "stderr",
     "output_type": "stream",
     "text": [
      "\r",
      " 54%|█████▍    | 189/348 [00:27<00:24,  6.36it/s]"
     ]
    },
    {
     "name": "stderr",
     "output_type": "stream",
     "text": [
      "\r",
      " 55%|█████▌    | 192/348 [00:27<00:19,  8.14it/s]"
     ]
    },
    {
     "name": "stderr",
     "output_type": "stream",
     "text": [
      "\r",
      " 55%|█████▌    | 193/348 [00:28<00:23,  6.56it/s]"
     ]
    },
    {
     "name": "stderr",
     "output_type": "stream",
     "text": [
      "\r",
      " 56%|█████▋    | 196/348 [00:28<00:21,  7.18it/s]"
     ]
    },
    {
     "name": "stderr",
     "output_type": "stream",
     "text": [
      "\r",
      " 57%|█████▋    | 197/348 [00:28<00:24,  6.21it/s]"
     ]
    },
    {
     "name": "stderr",
     "output_type": "stream",
     "text": [
      "\r",
      " 57%|█████▋    | 199/348 [00:28<00:20,  7.36it/s]"
     ]
    },
    {
     "name": "stderr",
     "output_type": "stream",
     "text": [
      "\r",
      " 57%|█████▋    | 200/348 [00:29<00:27,  5.35it/s]"
     ]
    },
    {
     "name": "stderr",
     "output_type": "stream",
     "text": [
      "\r",
      " 58%|█████▊    | 202/348 [00:29<00:24,  5.94it/s]"
     ]
    },
    {
     "name": "stderr",
     "output_type": "stream",
     "text": [
      "\r",
      " 58%|█████▊    | 203/348 [00:30<00:29,  4.87it/s]"
     ]
    },
    {
     "name": "stderr",
     "output_type": "stream",
     "text": [
      "\r",
      " 59%|█████▊    | 204/348 [00:30<00:26,  5.34it/s]"
     ]
    },
    {
     "name": "stderr",
     "output_type": "stream",
     "text": [
      "\r",
      " 59%|█████▉    | 207/348 [00:30<00:18,  7.79it/s]"
     ]
    },
    {
     "name": "stderr",
     "output_type": "stream",
     "text": [
      "\r",
      " 61%|██████    | 211/348 [00:30<00:12, 11.22it/s]"
     ]
    },
    {
     "name": "stderr",
     "output_type": "stream",
     "text": [
      "\r",
      " 61%|██████    | 213/348 [00:30<00:16,  8.37it/s]"
     ]
    },
    {
     "name": "stderr",
     "output_type": "stream",
     "text": [
      "\r",
      " 62%|██████▏   | 215/348 [00:31<00:14,  9.13it/s]"
     ]
    },
    {
     "name": "stderr",
     "output_type": "stream",
     "text": [
      "\r",
      " 62%|██████▏   | 217/348 [00:31<00:21,  6.18it/s]"
     ]
    },
    {
     "name": "stderr",
     "output_type": "stream",
     "text": [
      "\r",
      " 63%|██████▎   | 219/348 [00:31<00:17,  7.57it/s]"
     ]
    },
    {
     "name": "stderr",
     "output_type": "stream",
     "text": [
      "\r",
      " 64%|██████▎   | 221/348 [00:32<00:16,  7.57it/s]"
     ]
    },
    {
     "name": "stderr",
     "output_type": "stream",
     "text": [
      "\r",
      " 64%|██████▍   | 224/348 [00:32<00:12,  9.86it/s]"
     ]
    },
    {
     "name": "stderr",
     "output_type": "stream",
     "text": [
      "\r",
      " 65%|██████▍   | 226/348 [00:32<00:12, 10.02it/s]"
     ]
    },
    {
     "name": "stderr",
     "output_type": "stream",
     "text": [
      "\r",
      " 66%|██████▌   | 228/348 [00:33<00:18,  6.50it/s]"
     ]
    },
    {
     "name": "stderr",
     "output_type": "stream",
     "text": [
      "\r",
      " 66%|██████▌   | 229/348 [00:33<00:17,  6.63it/s]"
     ]
    },
    {
     "name": "stderr",
     "output_type": "stream",
     "text": [
      "\r",
      " 66%|██████▌   | 230/348 [00:33<00:19,  5.95it/s]"
     ]
    },
    {
     "name": "stderr",
     "output_type": "stream",
     "text": [
      "\r",
      " 67%|██████▋   | 232/348 [00:33<00:15,  7.59it/s]"
     ]
    },
    {
     "name": "stderr",
     "output_type": "stream",
     "text": [
      "\r",
      " 67%|██████▋   | 233/348 [00:33<00:16,  6.99it/s]"
     ]
    },
    {
     "name": "stderr",
     "output_type": "stream",
     "text": [
      "\r",
      " 67%|██████▋   | 234/348 [00:33<00:16,  6.92it/s]"
     ]
    },
    {
     "name": "stderr",
     "output_type": "stream",
     "text": [
      "\r",
      " 68%|██████▊   | 236/348 [00:34<00:13,  8.54it/s]"
     ]
    },
    {
     "name": "stderr",
     "output_type": "stream",
     "text": [
      "\r",
      " 68%|██████▊   | 237/348 [00:34<00:14,  7.66it/s]"
     ]
    },
    {
     "name": "stderr",
     "output_type": "stream",
     "text": [
      "\r",
      " 68%|██████▊   | 238/348 [00:34<00:17,  6.37it/s]"
     ]
    },
    {
     "name": "stderr",
     "output_type": "stream",
     "text": [
      "\r",
      " 69%|██████▉   | 240/348 [00:34<00:13,  8.09it/s]"
     ]
    },
    {
     "name": "stderr",
     "output_type": "stream",
     "text": [
      "\r",
      " 69%|██████▉   | 241/348 [00:34<00:13,  7.77it/s]"
     ]
    },
    {
     "name": "stderr",
     "output_type": "stream",
     "text": [
      "\r",
      " 70%|██████▉   | 242/348 [00:35<00:18,  5.89it/s]"
     ]
    },
    {
     "name": "stderr",
     "output_type": "stream",
     "text": [
      "\r",
      " 70%|██████▉   | 243/348 [00:35<00:16,  6.49it/s]"
     ]
    },
    {
     "name": "stderr",
     "output_type": "stream",
     "text": [
      "\r",
      " 70%|███████   | 244/348 [00:35<00:18,  5.76it/s]"
     ]
    },
    {
     "name": "stderr",
     "output_type": "stream",
     "text": [
      "\r",
      " 70%|███████   | 245/348 [00:35<00:18,  5.60it/s]"
     ]
    },
    {
     "name": "stderr",
     "output_type": "stream",
     "text": [
      "\r",
      " 71%|███████   | 246/348 [00:35<00:19,  5.14it/s]"
     ]
    },
    {
     "name": "stderr",
     "output_type": "stream",
     "text": [
      "\r",
      " 71%|███████   | 247/348 [00:35<00:16,  5.95it/s]"
     ]
    },
    {
     "name": "stderr",
     "output_type": "stream",
     "text": [
      "\r",
      " 72%|███████▏  | 250/348 [00:36<00:15,  6.38it/s]"
     ]
    },
    {
     "name": "stderr",
     "output_type": "stream",
     "text": [
      "\r",
      " 73%|███████▎  | 253/348 [00:36<00:14,  6.55it/s]"
     ]
    },
    {
     "name": "stderr",
     "output_type": "stream",
     "text": [
      "\r",
      " 73%|███████▎  | 254/348 [00:37<00:17,  5.35it/s]"
     ]
    },
    {
     "name": "stderr",
     "output_type": "stream",
     "text": [
      "\r",
      " 74%|███████▎  | 256/348 [00:37<00:14,  6.43it/s]"
     ]
    },
    {
     "name": "stderr",
     "output_type": "stream",
     "text": [
      "\r",
      " 74%|███████▍  | 257/348 [00:37<00:17,  5.33it/s]"
     ]
    },
    {
     "name": "stderr",
     "output_type": "stream",
     "text": [
      "\r",
      " 74%|███████▍  | 259/348 [00:37<00:15,  5.82it/s]"
     ]
    },
    {
     "name": "stderr",
     "output_type": "stream",
     "text": [
      "\r",
      " 75%|███████▌  | 262/348 [00:38<00:12,  6.83it/s]"
     ]
    },
    {
     "name": "stderr",
     "output_type": "stream",
     "text": [
      "\r",
      " 76%|███████▌  | 264/348 [00:38<00:11,  7.23it/s]"
     ]
    },
    {
     "name": "stderr",
     "output_type": "stream",
     "text": [
      "\r",
      " 77%|███████▋  | 267/348 [00:38<00:08,  9.33it/s]"
     ]
    },
    {
     "name": "stderr",
     "output_type": "stream",
     "text": [
      "\r",
      " 77%|███████▋  | 269/348 [00:38<00:08,  9.24it/s]"
     ]
    },
    {
     "name": "stderr",
     "output_type": "stream",
     "text": [
      "\r",
      " 78%|███████▊  | 271/348 [00:39<00:11,  6.49it/s]"
     ]
    },
    {
     "name": "stderr",
     "output_type": "stream",
     "text": [
      "\r",
      " 79%|███████▊  | 274/348 [00:39<00:08,  8.23it/s]"
     ]
    },
    {
     "name": "stderr",
     "output_type": "stream",
     "text": [
      "\r",
      " 79%|███████▉  | 276/348 [00:39<00:08,  8.79it/s]"
     ]
    },
    {
     "name": "stderr",
     "output_type": "stream",
     "text": [
      "\r",
      " 80%|███████▉  | 278/348 [00:40<00:09,  7.37it/s]"
     ]
    },
    {
     "name": "stderr",
     "output_type": "stream",
     "text": [
      "\r",
      " 80%|████████  | 280/348 [00:40<00:09,  7.20it/s]"
     ]
    },
    {
     "name": "stderr",
     "output_type": "stream",
     "text": [
      "\r",
      " 81%|████████  | 281/348 [00:40<00:12,  5.35it/s]"
     ]
    },
    {
     "name": "stderr",
     "output_type": "stream",
     "text": [
      "\r",
      " 81%|████████  | 282/348 [00:41<00:12,  5.50it/s]"
     ]
    },
    {
     "name": "stderr",
     "output_type": "stream",
     "text": [
      "\r",
      " 82%|████████▏ | 285/348 [00:41<00:07,  8.27it/s]"
     ]
    },
    {
     "name": "stderr",
     "output_type": "stream",
     "text": [
      "\r",
      " 82%|████████▏ | 287/348 [00:41<00:08,  7.57it/s]"
     ]
    },
    {
     "name": "stderr",
     "output_type": "stream",
     "text": [
      "\r",
      " 83%|████████▎ | 289/348 [00:41<00:07,  8.38it/s]"
     ]
    },
    {
     "name": "stderr",
     "output_type": "stream",
     "text": [
      "\r",
      " 84%|████████▎ | 291/348 [00:42<00:08,  6.81it/s]"
     ]
    },
    {
     "name": "stderr",
     "output_type": "stream",
     "text": [
      "\r",
      " 84%|████████▍ | 293/348 [00:42<00:10,  5.42it/s]"
     ]
    },
    {
     "name": "stderr",
     "output_type": "stream",
     "text": [
      "\r",
      " 84%|████████▍ | 294/348 [00:42<00:10,  5.32it/s]"
     ]
    },
    {
     "name": "stderr",
     "output_type": "stream",
     "text": [
      "\r",
      " 85%|████████▍ | 295/348 [00:43<00:09,  5.35it/s]"
     ]
    },
    {
     "name": "stderr",
     "output_type": "stream",
     "text": [
      "\r",
      " 85%|████████▌ | 297/348 [00:43<00:07,  6.46it/s]"
     ]
    },
    {
     "name": "stderr",
     "output_type": "stream",
     "text": [
      "\r",
      " 86%|████████▌ | 298/348 [00:43<00:07,  6.38it/s]"
     ]
    },
    {
     "name": "stderr",
     "output_type": "stream",
     "text": [
      "\r",
      " 86%|████████▌ | 300/348 [00:43<00:06,  7.61it/s]"
     ]
    },
    {
     "name": "stderr",
     "output_type": "stream",
     "text": [
      "\r",
      " 87%|████████▋ | 302/348 [00:43<00:06,  7.16it/s]"
     ]
    },
    {
     "name": "stderr",
     "output_type": "stream",
     "text": [
      "\r",
      " 87%|████████▋ | 304/348 [00:44<00:05,  8.62it/s]"
     ]
    },
    {
     "name": "stderr",
     "output_type": "stream",
     "text": [
      "\r",
      " 88%|████████▊ | 305/348 [00:44<00:05,  7.21it/s]"
     ]
    },
    {
     "name": "stderr",
     "output_type": "stream",
     "text": [
      "\r",
      " 88%|████████▊ | 307/348 [00:44<00:05,  7.94it/s]"
     ]
    },
    {
     "name": "stderr",
     "output_type": "stream",
     "text": [
      "\r",
      " 89%|████████▊ | 308/348 [00:44<00:06,  6.66it/s]"
     ]
    },
    {
     "name": "stderr",
     "output_type": "stream",
     "text": [
      "\r",
      " 89%|████████▉ | 309/348 [00:44<00:05,  7.16it/s]"
     ]
    },
    {
     "name": "stderr",
     "output_type": "stream",
     "text": [
      "\r",
      " 89%|████████▉ | 310/348 [00:45<00:05,  6.90it/s]"
     ]
    },
    {
     "name": "stderr",
     "output_type": "stream",
     "text": [
      "\r",
      " 90%|████████▉ | 312/348 [00:45<00:06,  5.63it/s]"
     ]
    },
    {
     "name": "stderr",
     "output_type": "stream",
     "text": [
      "\r",
      " 90%|█████████ | 314/348 [00:45<00:04,  7.12it/s]"
     ]
    },
    {
     "name": "stderr",
     "output_type": "stream",
     "text": [
      "\r",
      " 91%|█████████ | 317/348 [00:46<00:05,  5.96it/s]"
     ]
    },
    {
     "name": "stderr",
     "output_type": "stream",
     "text": [
      "\r",
      " 92%|█████████▏| 319/348 [00:46<00:04,  6.46it/s]"
     ]
    },
    {
     "name": "stderr",
     "output_type": "stream",
     "text": [
      "\r",
      " 92%|█████████▏| 320/348 [00:46<00:04,  6.50it/s]"
     ]
    },
    {
     "name": "stderr",
     "output_type": "stream",
     "text": [
      "\r",
      " 93%|█████████▎| 322/348 [00:46<00:03,  8.34it/s]"
     ]
    },
    {
     "name": "stderr",
     "output_type": "stream",
     "text": [
      "\r",
      " 93%|█████████▎| 324/348 [00:47<00:03,  6.88it/s]"
     ]
    },
    {
     "name": "stderr",
     "output_type": "stream",
     "text": [
      "\r",
      " 94%|█████████▎| 326/348 [00:47<00:02,  7.94it/s]"
     ]
    },
    {
     "name": "stderr",
     "output_type": "stream",
     "text": [
      "\r",
      " 94%|█████████▍| 327/348 [00:47<00:02,  7.79it/s]"
     ]
    },
    {
     "name": "stderr",
     "output_type": "stream",
     "text": [
      "\r",
      " 94%|█████████▍| 328/348 [00:47<00:02,  6.77it/s]"
     ]
    },
    {
     "name": "stderr",
     "output_type": "stream",
     "text": [
      "\r",
      " 95%|█████████▍| 329/348 [00:47<00:02,  6.67it/s]"
     ]
    },
    {
     "name": "stderr",
     "output_type": "stream",
     "text": [
      "\r",
      " 96%|█████████▌| 333/348 [00:48<00:01,  9.93it/s]"
     ]
    },
    {
     "name": "stderr",
     "output_type": "stream",
     "text": [
      "\r",
      " 96%|█████████▌| 334/348 [00:48<00:01,  8.07it/s]"
     ]
    },
    {
     "name": "stderr",
     "output_type": "stream",
     "text": [
      "\r",
      " 96%|█████████▋| 335/348 [00:48<00:01,  8.13it/s]"
     ]
    },
    {
     "name": "stderr",
     "output_type": "stream",
     "text": [
      "\r",
      " 97%|█████████▋| 337/348 [00:48<00:01,  6.39it/s]"
     ]
    },
    {
     "name": "stderr",
     "output_type": "stream",
     "text": [
      "\r",
      " 97%|█████████▋| 338/348 [00:48<00:01,  6.54it/s]"
     ]
    },
    {
     "name": "stderr",
     "output_type": "stream",
     "text": [
      "\r",
      " 97%|█████████▋| 339/348 [00:49<00:01,  5.46it/s]"
     ]
    },
    {
     "name": "stderr",
     "output_type": "stream",
     "text": [
      "\r",
      " 98%|█████████▊| 340/348 [00:49<00:01,  5.21it/s]"
     ]
    },
    {
     "name": "stderr",
     "output_type": "stream",
     "text": [
      "\r",
      " 98%|█████████▊| 341/348 [00:49<00:01,  5.24it/s]"
     ]
    },
    {
     "name": "stderr",
     "output_type": "stream",
     "text": [
      "\r",
      " 99%|█████████▉| 344/348 [00:49<00:00,  8.07it/s]"
     ]
    },
    {
     "name": "stderr",
     "output_type": "stream",
     "text": [
      "\r",
      " 99%|█████████▉| 345/348 [00:49<00:00,  8.20it/s]"
     ]
    },
    {
     "name": "stderr",
     "output_type": "stream",
     "text": [
      "\r",
      "100%|█████████▉| 347/348 [00:51<00:00,  2.54it/s]"
     ]
    },
    {
     "name": "stderr",
     "output_type": "stream",
     "text": [
      "\r",
      "100%|██████████| 348/348 [00:58<00:00,  1.69s/it]"
     ]
    },
    {
     "name": "stderr",
     "output_type": "stream",
     "text": [
      "\r",
      "100%|██████████| 348/348 [00:58<00:00,  5.96it/s]"
     ]
    },
    {
     "name": "stderr",
     "output_type": "stream",
     "text": [
      "\n"
     ]
    },
    {
     "name": "stdout",
     "output_type": "stream",
     "text": [
      "\n",
      "rate limit: 7 \n",
      "API calls: create: 0, read: 2, update: 348, delete: 0, backoff: 1\n",
      "errors:\n",
      "  503: Service Unavailable: 1\n"
     ]
    },
    {
     "name": "stderr",
     "output_type": "stream",
     "text": [
      "\r",
      "  0%|          | 0/1 [00:00<?, ?it/s]"
     ]
    },
    {
     "name": "stderr",
     "output_type": "stream",
     "text": [
      "\r",
      "100%|██████████| 1/1 [00:00<00:00,  1.28it/s]"
     ]
    },
    {
     "name": "stderr",
     "output_type": "stream",
     "text": [
      "\r",
      "100%|██████████| 1/1 [00:00<00:00,  1.28it/s]"
     ]
    },
    {
     "name": "stdout",
     "output_type": "stream",
     "text": [
      "\n",
      "rate limit: 7 \n",
      "API calls: create: 0, read: 1, update: 1, delete: 0, backoff: 0\n"
     ]
    },
    {
     "name": "stderr",
     "output_type": "stream",
     "text": [
      "\n"
     ]
    }
   ],
   "source": [
    "async def publish():\n",
    "  global dagoverzicht\n",
    "\n",
    "  m = (dagoverzicht == np.inf)\n",
    "  df = dagoverzicht.loc[m.any(axis=1), m.any(axis=0)]\n",
    "  display(df.head())\n",
    "  m = (dagoverzicht == np.nan)\n",
    "  df = dagoverzicht.loc[m.any(axis=1), m.any(axis=0)]\n",
    "  display(df.head())\n",
    "\n",
    "  os.makedirs('artifacts', exist_ok = True)\n",
    "  dagoverzicht.to_csv('artifacts/DagOverzicht.csv', index=True)\n",
    "\n",
    "  if knack:\n",
    "    print('updating knack')\n",
    "    df = dagoverzicht.assign(Key=dagoverzicht.index.strftime('%Y-%m-%d'))\n",
    "    await knack.update(objectName='Dagoverzicht', df=df)\n",
    "    await knack.timestamps('Dagoverzicht', Cache.timestamps)\n",
    "await publish()"
   ]
  },
  {
   "cell_type": "code",
   "execution_count": null,
   "id": "sitting-wisconsin",
   "metadata": {
    "papermill": {
     "duration": 0.075515,
     "end_time": "2021-02-18T14:36:45.762167",
     "exception": false,
     "start_time": "2021-02-18T14:36:45.686652",
     "status": "completed"
    },
    "tags": []
   },
   "outputs": [],
   "source": []
  }
 ],
 "metadata": {
  "jupytext": {
   "cell_metadata_filter": "-all"
  },
  "kernelspec": {
   "display_name": "Python 3",
   "language": "python",
   "name": "python3"
  },
  "language_info": {
   "codemirror_mode": {
    "name": "ipython",
    "version": 3
   },
   "file_extension": ".py",
   "mimetype": "text/x-python",
   "name": "python",
   "nbconvert_exporter": "python",
   "pygments_lexer": "ipython3",
   "version": "3.9.1"
  },
  "papermill": {
   "default_parameters": {},
   "duration": 85.25998,
   "end_time": "2021-02-18T14:36:46.346505",
   "environment_variables": {},
   "exception": null,
   "input_path": "-",
   "output_path": "DagOverzicht.ipynb",
   "parameters": {},
   "start_time": "2021-02-18T14:35:21.086525",
   "version": "2.3.2"
  }
 },
 "nbformat": 4,
 "nbformat_minor": 5
}