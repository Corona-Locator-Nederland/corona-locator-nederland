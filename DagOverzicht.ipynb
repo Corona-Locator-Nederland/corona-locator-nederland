{
 "cells": [
  {
   "cell_type": "code",
   "execution_count": null,
   "id": "automatic-leisure",
   "metadata": {
    "lines_to_next_cell": 1
   },
   "outputs": [],
   "source": [
    "from IPython import get_ipython\n",
    "from IPython.core.display import display\n",
    "get_ipython().run_line_magic('load_ext', 'autoreload')\n",
    "get_ipython().run_line_magic('autoreload', '2')\n",
    "get_ipython().run_line_magic('run', 'setup')\n",
    "\n",
    "bevolking = CBS.bevolking().iloc[0]\n",
    "#display(bevolking.BevolkingOpDeEersteVanDeMaand)\n",
    "#display(bevolking['per 100k'])\n",
    "\n",
    "def addstats(df):\n",
    "  global dagoverzicht\n",
    "\n",
    "  # de aanname is dat df al gegroepeerd is op datum, en dat de kolommen de dagtotalen zijn\n",
    "  dagoverzicht = dagoverzicht.merge(df, how='left', left_index=True, right_index=True)\n",
    "  for stat in df.columns:\n",
    "    # nieuw = dagtotaal, zet missende dagtotalen op 0\n",
    "    dagoverzicht[f'{stat} (nieuw)'] = dagoverzicht[stat].fillna(0).astype(int)\n",
    "    # kolom met eerder de dagtotalen = cumulatieve som over dagtotalen\n",
    "    dagoverzicht[stat] = dagoverzicht[f'{stat} (nieuw)'].cumsum()\n",
    "    # factor voor 100k\n",
    "    dagoverzicht[f'{stat} per 100.000'] = dagoverzicht[stat] * bevolking['per 100k']\n",
    "    # verschil met 7 dagen terug\n",
    "    dagoverzicht[f'{stat} 7d'] = (dagoverzicht[stat] - dagoverzicht[stat].shift(7)).fillna(0).astype(int)\n",
    "    # en weer factor 100 k\n",
    "    dagoverzicht[f'{stat} 7d per 100.000'] = dagoverzicht[f'{stat} 7d'] * bevolking['per 100k']"
   ]
  },
  {
   "cell_type": "code",
   "execution_count": null,
   "id": "oriental-still",
   "metadata": {
    "lines_to_next_cell": 1
   },
   "outputs": [],
   "source": [
    "@run('set up base frame + overleden + positief getest')\n",
    "def cell():\n",
    "  # 2 vliegen in 1 klap -- aantallen pos + overleden, en laatste datum met data voor de datum range\n",
    "  df = RIVM.csv('COVID-19_aantallen_gemeente_per_dag').rename(columns={\n",
    "    'Total_reported': 'Positief getest',\n",
    "    'Deceased': 'Overleden',\n",
    "    'Date_of_publication': 'Datum',\n",
    "    'Date_of_report': 'Today',\n",
    "  })\n",
    "  # sloop tijd van de datum en zet om in datetime object\n",
    "  df['Datum'] = pd.to_datetime(df.Datum.str.replace(' .*', '', regex=True))\n",
    "  df['Today'] = pd.to_datetime(df.Today.str.replace(' .*', '', regex=True))\n",
    "\n",
    "  global dagoverzicht\n",
    "  # maak leeg dataframe met een rij voor elke dag van 2020-02-27 tm Date_of_report\n",
    "  dagoverzicht = pd.DataFrame(index=pd.date_range(start='2020-02-27', end=df.Today.max()))\n",
    "  # noem de index Key\n",
    "  dagoverzicht.index.name='Key'\n",
    "  # vul de datum kolom\n",
    "  dagoverzicht['Datum'] = dagoverzicht.index.strftime('%Y-%m-%d')\n",
    "  # vaste waarde voor LandCode\n",
    "  dagoverzicht['LandCode'] = 'NL'\n",
    "\n",
    "  # sommeer pos en overl op datum en voeg toe aan dagoverzicht\n",
    "  addstats(df.groupby(['Datum']).agg({'Positief getest': 'sum', 'Overleden': 'sum'}))\n",
    "  display(dagoverzicht.head(10))"
   ]
  },
  {
   "cell_type": "code",
   "execution_count": null,
   "id": "continuous-quantity",
   "metadata": {
    "lines_to_next_cell": 1
   },
   "outputs": [],
   "source": [
    "@run('ziekenhuisopnames')\n",
    "def cell():\n",
    "  df = RIVM.csv('COVID-19_ziekenhuisopnames').rename(columns={\n",
    "    'Hospital_admission': 'Ziekenhuisopnames',\n",
    "    'Date_of_statistics': 'Datum',\n",
    "  })\n",
    "  # datum naar datetime\n",
    "  df['Datum'] = pd.to_datetime(df.Datum.str.replace(' .*', '', regex=True))\n",
    "  # sommeer op datum en voeg toe aan dagoverzicht\n",
    "  addstats(df.groupby(['Datum']).agg({'Ziekenhuisopnames': 'sum'}))\n",
    "  display(dagoverzicht.head())"
   ]
  },
  {
   "cell_type": "code",
   "execution_count": null,
   "id": "rental-trance",
   "metadata": {
    "lines_to_next_cell": 1
   },
   "outputs": [],
   "source": [
    "@run('reproductiegetal en besmettelijkheid')\n",
    "def cell():\n",
    "  global dagoverzicht\n",
    "\n",
    "  datasets = [\n",
    "    ('COVID-19_reproductiegetal', 'Rt_avg', 'Reproductiegetal'),\n",
    "    ('COVID-19_prevalentie', 'prev_avg', 'Besmettelijk'),\n",
    "  ]\n",
    "  for dataset, source, target in datasets:\n",
    "    # laad de dataset\n",
    "    df = RIVM.json(dataset).rename(columns={source: target})\n",
    "    # Date naar datetime index voor de merge\n",
    "    df['Date'] = pd.to_datetime(df['Date'])\n",
    "    df.set_index('Date', inplace=True)\n",
    "    # merge alleen de target kolom\n",
    "    df = df[[target]]\n",
    "    # voeg to aan dagoverzicht\n",
    "    dagoverzicht = dagoverzicht.merge(df, how='left', left_index=True, right_index=True)\n",
    "    # vul lege waarden met 0\n",
    "    dagoverzicht[target] = dagoverzicht[target].fillna(0)\n",
    "  # per 100k factor\n",
    "  dagoverzicht['Besmettelijk per 100.000'] = (dagoverzicht['Besmettelijk']  * bevolking['per 100k']).round(0)\n",
    "  display(dagoverzicht)\n",
    "\n",
    "@run('LCPS')\n",
    "def cell():\n",
    "  # laad dataset\n",
    "  df = LCPS.csv('covid-19').rename(columns={\n",
    "    'IC_Bedden_COVID': 'LCPS IC Bedden COVID',\n",
    "    'IC_Bedden_Non_COVID': 'LCPS IC Bedden Non COVID',\n",
    "    'Kliniek_Bedden': 'LCPS Kliniek Bedden COVID',\n",
    "    'IC_Nieuwe_Opnames_COVID': 'LCPS IC Nieuwe Opnames COVID',\n",
    "    'Kliniek_Nieuwe_Opnames_COVID': 'LCPS Kliniek Nieuwe Opnames COVID',\n",
    "  })\n",
    "  # datum naar datetime index voor merge\n",
    "  df['Datum'] = pd.to_datetime(df['Datum'])\n",
    "  df.set_index('Datum', inplace=True)\n",
    "\n",
    "  # sommeer op datum\n",
    "  df = df.groupby(['Datum']).agg({col: 'sum' for col in df.columns})\n",
    "\n",
    "  # toename = waarde - vorige\n",
    "  df['LCPS IC Bedden COVID (toename)'] = (df['LCPS IC Bedden COVID'] - df['LCPS IC Bedden COVID'].shift(1)).fillna(0)\n",
    "  df['LCPS Kliniek Bedden COVID (toename)'] = (df['LCPS Kliniek Bedden COVID'] - df['LCPS Kliniek Bedden COVID'].shift(1)).fillna(0)\n",
    "\n",
    "  global dagoverzicht\n",
    "  # voeg toe aan dagoverzicht\n",
    "  dagoverzicht = dagoverzicht.merge(df, how='left', left_index=True, right_index=True)\n",
    "  for col in df.columns:\n",
    "    # vervang lege waarden door 0\n",
    "    dagoverzicht[col] = dagoverzicht[col].fillna(0).astype(int)"
   ]
  },
  {
   "cell_type": "code",
   "execution_count": null,
   "id": "floating-encoding",
   "metadata": {
    "lines_to_next_cell": 1
   },
   "outputs": [],
   "source": [
    "@run('corrections')\n",
    "def cell():\n",
    "  # laad corrections van mzelst\n",
    "  df = GitHub.csv('mzelst/covid-19/contents/corrections/corrections_perday.csv')\n",
    "  # date naar datetime index voor merge\n",
    "  df['date'] = pd.to_datetime(df.date)\n",
    "  df.set_index('date', inplace=True)\n",
    "  columns =  {\n",
    "    'net.infection': 'Positief getest (toename)',\n",
    "    'net.hospitals': 'Ziekenhuisopnames (toename)',\n",
    "    'net.deaths': 'Overleden (toename)'\n",
    "  }\n",
    "  # rename kolommen naar onze namen\n",
    "  df = df.rename(columns=columns)[list(columns.values())]\n",
    "\n",
    "  global dagoverzicht\n",
    "  # voeg toe aan dagoverxicht\n",
    "  dagoverzicht = dagoverzicht.merge(df, how='left', left_index=True, right_index=True)\n",
    "  for col in columns.values():\n",
    "    # set lege waarden op 0\n",
    "    dagoverzicht[col] = dagoverzicht[col].fillna(0).astype(int)"
   ]
  },
  {
   "cell_type": "code",
   "execution_count": null,
   "id": "orange-recipient",
   "metadata": {
    "lines_to_next_cell": 1
   },
   "outputs": [],
   "source": [
    "@run('uitgevoerde testen')\n",
    "def cell():\n",
    "  df = RIVM.csv('COVID-19_uitgevoerde_testen').rename(columns={\n",
    "    'Date_of_statistics': 'Datum',\n",
    "    'Tested_with_result': 'Getest',\n",
    "    'Tested_positive': 'Positief',\n",
    "  })\n",
    "  df['Datum'] = pd.to_datetime(df.Datum)\n",
    "  df = df.groupby(['Datum']).agg({'Getest': 'sum', 'Positief': 'sum'})\n",
    "  display(df)"
   ]
  },
  {
   "cell_type": "code",
   "execution_count": null,
   "id": "interracial-court",
   "metadata": {},
   "outputs": [],
   "source": [
    "async def publish():\n",
    "  global dagoverzicht\n",
    "\n",
    "  m = (dagoverzicht == np.inf)\n",
    "  df = dagoverzicht.loc[m.any(axis=1), m.any(axis=0)]\n",
    "  display(df.head())\n",
    "\n",
    "  os.makedirs('artifacts', exist_ok = True)\n",
    "  dagoverzicht.to_csv('artifacts/DagOverzicht.csv', index=True)\n",
    "\n",
    "  if knack:\n",
    "    print('updating knack')\n",
    "    df = dagoverzicht.assign(Key=dagoverzicht.index.strftime('%Y-%m-%d'))\n",
    "    await knack.update(objectName='Dagoverzicht', df=df)\n",
    "await publish()"
   ]
  }
 ],
 "metadata": {
  "jupytext": {
   "cell_metadata_filter": "-all"
  },
  "kernelspec": {
   "display_name": "Python 3",
   "language": "python",
   "name": "python3"
  }
 },
 "nbformat": 4,
 "nbformat_minor": 5
}
