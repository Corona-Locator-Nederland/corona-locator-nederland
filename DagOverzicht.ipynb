{
 "cells": [
  {
   "cell_type": "code",
   "execution_count": 1,
   "id": "sophisticated-chosen",
   "metadata": {
    "execution": {
     "iopub.execute_input": "2021-02-24T17:00:27.391326Z",
     "iopub.status.busy": "2021-02-24T17:00:27.390708Z",
     "iopub.status.idle": "2021-02-24T17:00:31.926941Z",
     "shell.execute_reply": "2021-02-24T17:00:31.925859Z"
    },
    "lines_to_next_cell": 1,
    "papermill": {
     "duration": 4.555539,
     "end_time": "2021-02-24T17:00:31.927116",
     "exception": false,
     "start_time": "2021-02-24T17:00:27.371577",
     "status": "completed"
    },
    "tags": [],
    "title": "setup"
   },
   "outputs": [],
   "source": [
    "from IPython import get_ipython\n",
    "from IPython.core.display import display\n",
    "get_ipython().run_line_magic('load_ext', 'autoreload')\n",
    "get_ipython().run_line_magic('autoreload', '2')\n",
    "get_ipython().run_line_magic('run', 'setup')\n",
    "\n",
    "bevolking = CBS.bevolking().iloc[0]\n",
    "#display(bevolking.BevolkingOpDeEersteVanDeMaand)\n",
    "#display(bevolking['per 100k'])\n",
    "\n",
    "def addstats(df):\n",
    "  global dagoverzicht\n",
    "\n",
    "  # de aanname is dat df al gegroepeerd is op datum, en dat de kolommen de dagtotalen zijn\n",
    "  dagoverzicht = dagoverzicht.merge(df, how='left', left_index=True, right_index=True)\n",
    "  for stat in df.columns:\n",
    "    # nieuw = dagtotaal, zet missende dagtotalen op 0\n",
    "    dagoverzicht[f'{stat} (nieuw)'] = dagoverzicht[stat].fillna(0).astype(int)\n",
    "    # kolom met eerder de dagtotalen = cumulatieve som over dagtotalen\n",
    "    dagoverzicht[stat] = dagoverzicht[f'{stat} (nieuw)'].cumsum()\n",
    "    # factor voor 100k\n",
    "    dagoverzicht[f'{stat} per 100.000'] = dagoverzicht[stat] * bevolking['per 100k']\n",
    "    # verschil met 7 dagen terug\n",
    "    dagoverzicht[f'{stat} 7d'] = dagoverzicht[f'{stat} (nieuw)'].rolling(7).sum().fillna(0)\n",
    "    # en weer factor 100 k\n",
    "    dagoverzicht[f'{stat} 7d per 100.000'] = dagoverzicht[f'{stat} 7d'] * bevolking['per 100k']"
   ]
  },
  {
   "cell_type": "code",
   "execution_count": 2,
   "id": "grateful-supply",
   "metadata": {
    "execution": {
     "iopub.execute_input": "2021-02-24T17:00:31.950901Z",
     "iopub.status.busy": "2021-02-24T17:00:31.948381Z",
     "iopub.status.idle": "2021-02-24T17:00:33.697186Z",
     "shell.execute_reply": "2021-02-24T17:00:33.696642Z"
    },
    "lines_to_next_cell": 1,
    "papermill": {
     "duration": 1.762114,
     "end_time": "2021-02-24T17:00:33.697347",
     "exception": false,
     "start_time": "2021-02-24T17:00:31.935233",
     "status": "completed"
    },
    "tags": [],
    "title": "set up base frame from ESRI -> NICE"
   },
   "outputs": [
    {
     "name": "stdout",
     "output_type": "stream",
     "text": [
      "downloading nice/f27f743476a142538e8054f7a7ce12e1_0-2021-02-24@16-06.csv\n"
     ]
    },
    {
     "name": "stdout",
     "output_type": "stream",
     "text": [
      "nice f27f743476a142538e8054f7a7ce12e1_0 zipping nice/f27f743476a142538e8054f7a7ce12e1_0-2021-02-24@16-06.csv\n",
      "removing obsolete nice/f27f743476a142538e8054f7a7ce12e1_0-2021-02-24@13-37.csv.gz\n",
      "1 nice f27f743476a142538e8054f7a7ce12e1_0 files, pruning 0, keeping 1\n",
      "loading nice/f27f743476a142538e8054f7a7ce12e1_0-2021-02-24@16-06.csv.gz\n"
     ]
    }
   ],
   "source": [
    "@run\n",
    "def cell():\n",
    "  df = ArcGIS.nice('f27f743476a142538e8054f7a7ce12e1')\n",
    "\n",
    "  df['date'] = pd.to_datetime(df.date.str.replace(' .*', '', regex=True))\n",
    "  df.set_index('date', inplace=True)\n",
    "\n",
    "  # base date range uit NICE\n",
    "  global dagoverzicht\n",
    "  # maak leeg dataframe met een rij voor elke dag van 2020-02-27 tm Date_of_publication\n",
    "  dagoverzicht = pd.DataFrame(index=pd.date_range(start='2020-02-27', end=df.index.max()))\n",
    "  # noem de index Key\n",
    "  dagoverzicht.index.name='Key'\n",
    "  # vul de datum kolom\n",
    "  dagoverzicht['Datum'] = dagoverzicht.index.strftime('%Y-%m-%d')\n",
    "  # vaste waarde voor LandCode\n",
    "  dagoverzicht['LandCode'] = 'NL'\n",
    "\n",
    "  # the NICE data as prepared by ESRI can just be used as-is, so just rename the columns\n",
    "  for prefix, kind in [ ('ic', 'IC'), ('zkh', 'Ziekenhuis') ]:\n",
    "    df = df.rename(columns={\n",
    "      f'{prefix}NewIntake': f'NICE {kind} Bedden (intake)',\n",
    "      f'{prefix}IntakeCount': f'NICE {kind} Bedden',\n",
    "      f'{prefix}IntakeCumulative': f'NICE {kind} Bedden (cumulatief)',\n",
    "      f'{prefix}DiedCumulative': f'NICE {kind} Overleden',\n",
    "    })\n",
    "\n",
    "  # remove the columns we don't use\n",
    "  df = df[[col for col in df.columns if 'NICE' in col]]\n",
    "  dagoverzicht = dagoverzicht.merge(df, how='left', left_index=True, right_index=True)\n",
    "\n",
    "  # after the merge, dates missing in the ESRI/NICE set will be `nan`, so fill these\n",
    "  for col in df.columns:\n",
    "    # for cumulatief columns, fill-forward from last known value\n",
    "    if 'cumulatief' in col:\n",
    "      dagoverzicht[col] = dagoverzicht[col].ffill()\n",
    "    # for non-cumulative and whatever remains in cumulative after fill forward (which will be leading nan's), fill with 0\n",
    "    dagoverzicht[col] = dagoverzicht[col].fillna(0)\n",
    "\n",
    "  for kind in [ 'IC', 'Ziekenhuis' ]:\n",
    "    dagoverzicht[f'NICE {kind} Bedden (toename)'] = (dagoverzicht[f'NICE {kind} Bedden'] - dagoverzicht[f'NICE {kind} Bedden'].shift(1)).fillna(0)\n",
    "\n",
    "  for window, shift, past in [(3, 1, 'afgelopen '), (7, 0, '')]:\n",
    "    dagoverzicht[f'NICE IC Bedden (intake) {past}{window}d'] = dagoverzicht['NICE IC Bedden (intake)'].shift(shift).rolling(window).sum().fillna(0)\n",
    "\n",
    "  dagoverzicht['NICE IC Bedden (intake) week-1'] = dagoverzicht['NICE IC Bedden (intake) 7d'].shift(7).fillna(0)"
   ]
  },
  {
   "cell_type": "code",
   "execution_count": 3,
   "id": "commercial-leonard",
   "metadata": {
    "execution": {
     "iopub.execute_input": "2021-02-24T17:00:33.722663Z",
     "iopub.status.busy": "2021-02-24T17:00:33.722105Z",
     "iopub.status.idle": "2021-02-24T17:00:34.656425Z",
     "shell.execute_reply": "2021-02-24T17:00:34.656943Z"
    },
    "lines_to_next_cell": 1,
    "papermill": {
     "duration": 0.951398,
     "end_time": "2021-02-24T17:00:34.657112",
     "exception": false,
     "start_time": "2021-02-24T17:00:33.705714",
     "status": "completed"
    },
    "tags": [],
    "title": "overleden + positief getest"
   },
   "outputs": [
    {
     "name": "stdout",
     "output_type": "stream",
     "text": [
      "rivm/COVID-19_aantallen_gemeente_per_dag-2021-02-24@14-15.csv exists\n",
      "loading rivm/COVID-19_aantallen_gemeente_per_dag-2021-02-24@14-15.csv.gz\n"
     ]
    },
    {
     "data": {
      "text/html": [
       "<div>\n",
       "<style scoped>\n",
       "    .dataframe tbody tr th:only-of-type {\n",
       "        vertical-align: middle;\n",
       "    }\n",
       "\n",
       "    .dataframe tbody tr th {\n",
       "        vertical-align: top;\n",
       "    }\n",
       "\n",
       "    .dataframe thead th {\n",
       "        text-align: right;\n",
       "    }\n",
       "</style>\n",
       "<table border=\"1\" class=\"dataframe\">\n",
       "  <thead>\n",
       "    <tr style=\"text-align: right;\">\n",
       "      <th></th>\n",
       "      <th>Datum</th>\n",
       "      <th>LandCode</th>\n",
       "      <th>NICE IC Bedden (intake)</th>\n",
       "      <th>NICE IC Bedden (cumulatief)</th>\n",
       "      <th>NICE IC Bedden</th>\n",
       "      <th>NICE IC Overleden</th>\n",
       "      <th>NICE Ziekenhuis Bedden (intake)</th>\n",
       "      <th>NICE Ziekenhuis Bedden (cumulatief)</th>\n",
       "      <th>NICE Ziekenhuis Bedden</th>\n",
       "      <th>NICE Ziekenhuis Overleden</th>\n",
       "      <th>...</th>\n",
       "      <th>Positief getest (nieuw)</th>\n",
       "      <th>Positief getest per 100.000</th>\n",
       "      <th>Positief getest 7d</th>\n",
       "      <th>Positief getest 7d per 100.000</th>\n",
       "      <th>Overleden (nieuw)</th>\n",
       "      <th>Overleden per 100.000</th>\n",
       "      <th>Overleden 7d</th>\n",
       "      <th>Overleden 7d per 100.000</th>\n",
       "      <th>Overleden week-1</th>\n",
       "      <th>Positief getest week-1</th>\n",
       "    </tr>\n",
       "    <tr>\n",
       "      <th>Key</th>\n",
       "      <th></th>\n",
       "      <th></th>\n",
       "      <th></th>\n",
       "      <th></th>\n",
       "      <th></th>\n",
       "      <th></th>\n",
       "      <th></th>\n",
       "      <th></th>\n",
       "      <th></th>\n",
       "      <th></th>\n",
       "      <th></th>\n",
       "      <th></th>\n",
       "      <th></th>\n",
       "      <th></th>\n",
       "      <th></th>\n",
       "      <th></th>\n",
       "      <th></th>\n",
       "      <th></th>\n",
       "      <th></th>\n",
       "      <th></th>\n",
       "      <th></th>\n",
       "    </tr>\n",
       "  </thead>\n",
       "  <tbody>\n",
       "    <tr>\n",
       "      <th>2020-02-27</th>\n",
       "      <td>2020-02-27</td>\n",
       "      <td>NL</td>\n",
       "      <td>1</td>\n",
       "      <td>13</td>\n",
       "      <td>13</td>\n",
       "      <td>0</td>\n",
       "      <td>2</td>\n",
       "      <td>65</td>\n",
       "      <td>62</td>\n",
       "      <td>0</td>\n",
       "      <td>...</td>\n",
       "      <td>0</td>\n",
       "      <td>0.000000</td>\n",
       "      <td>0.0</td>\n",
       "      <td>0.000000</td>\n",
       "      <td>0</td>\n",
       "      <td>0.000000</td>\n",
       "      <td>0.0</td>\n",
       "      <td>0.000000</td>\n",
       "      <td>0.0</td>\n",
       "      <td>0.0</td>\n",
       "    </tr>\n",
       "    <tr>\n",
       "      <th>2020-02-28</th>\n",
       "      <td>2020-02-28</td>\n",
       "      <td>NL</td>\n",
       "      <td>0</td>\n",
       "      <td>14</td>\n",
       "      <td>14</td>\n",
       "      <td>0</td>\n",
       "      <td>4</td>\n",
       "      <td>69</td>\n",
       "      <td>66</td>\n",
       "      <td>0</td>\n",
       "      <td>...</td>\n",
       "      <td>1</td>\n",
       "      <td>0.005723</td>\n",
       "      <td>0.0</td>\n",
       "      <td>0.000000</td>\n",
       "      <td>0</td>\n",
       "      <td>0.000000</td>\n",
       "      <td>0.0</td>\n",
       "      <td>0.000000</td>\n",
       "      <td>0.0</td>\n",
       "      <td>0.0</td>\n",
       "    </tr>\n",
       "    <tr>\n",
       "      <th>2020-02-29</th>\n",
       "      <td>2020-02-29</td>\n",
       "      <td>NL</td>\n",
       "      <td>0</td>\n",
       "      <td>15</td>\n",
       "      <td>15</td>\n",
       "      <td>0</td>\n",
       "      <td>1</td>\n",
       "      <td>70</td>\n",
       "      <td>66</td>\n",
       "      <td>0</td>\n",
       "      <td>...</td>\n",
       "      <td>1</td>\n",
       "      <td>0.011445</td>\n",
       "      <td>0.0</td>\n",
       "      <td>0.000000</td>\n",
       "      <td>0</td>\n",
       "      <td>0.000000</td>\n",
       "      <td>0.0</td>\n",
       "      <td>0.000000</td>\n",
       "      <td>0.0</td>\n",
       "      <td>0.0</td>\n",
       "    </tr>\n",
       "    <tr>\n",
       "      <th>2020-03-01</th>\n",
       "      <td>2020-03-01</td>\n",
       "      <td>NL</td>\n",
       "      <td>2</td>\n",
       "      <td>17</td>\n",
       "      <td>17</td>\n",
       "      <td>0</td>\n",
       "      <td>7</td>\n",
       "      <td>77</td>\n",
       "      <td>73</td>\n",
       "      <td>0</td>\n",
       "      <td>...</td>\n",
       "      <td>3</td>\n",
       "      <td>0.028613</td>\n",
       "      <td>0.0</td>\n",
       "      <td>0.000000</td>\n",
       "      <td>0</td>\n",
       "      <td>0.000000</td>\n",
       "      <td>0.0</td>\n",
       "      <td>0.000000</td>\n",
       "      <td>0.0</td>\n",
       "      <td>0.0</td>\n",
       "    </tr>\n",
       "    <tr>\n",
       "      <th>2020-03-02</th>\n",
       "      <td>2020-03-02</td>\n",
       "      <td>NL</td>\n",
       "      <td>0</td>\n",
       "      <td>17</td>\n",
       "      <td>16</td>\n",
       "      <td>0</td>\n",
       "      <td>10</td>\n",
       "      <td>88</td>\n",
       "      <td>84</td>\n",
       "      <td>0</td>\n",
       "      <td>...</td>\n",
       "      <td>5</td>\n",
       "      <td>0.057226</td>\n",
       "      <td>0.0</td>\n",
       "      <td>0.000000</td>\n",
       "      <td>0</td>\n",
       "      <td>0.000000</td>\n",
       "      <td>0.0</td>\n",
       "      <td>0.000000</td>\n",
       "      <td>0.0</td>\n",
       "      <td>0.0</td>\n",
       "    </tr>\n",
       "    <tr>\n",
       "      <th>2020-03-03</th>\n",
       "      <td>2020-03-03</td>\n",
       "      <td>NL</td>\n",
       "      <td>1</td>\n",
       "      <td>19</td>\n",
       "      <td>18</td>\n",
       "      <td>0</td>\n",
       "      <td>8</td>\n",
       "      <td>96</td>\n",
       "      <td>91</td>\n",
       "      <td>0</td>\n",
       "      <td>...</td>\n",
       "      <td>4</td>\n",
       "      <td>0.080116</td>\n",
       "      <td>0.0</td>\n",
       "      <td>0.000000</td>\n",
       "      <td>0</td>\n",
       "      <td>0.000000</td>\n",
       "      <td>0.0</td>\n",
       "      <td>0.000000</td>\n",
       "      <td>0.0</td>\n",
       "      <td>0.0</td>\n",
       "    </tr>\n",
       "    <tr>\n",
       "      <th>2020-03-04</th>\n",
       "      <td>2020-03-04</td>\n",
       "      <td>NL</td>\n",
       "      <td>3</td>\n",
       "      <td>22</td>\n",
       "      <td>21</td>\n",
       "      <td>0</td>\n",
       "      <td>10</td>\n",
       "      <td>109</td>\n",
       "      <td>103</td>\n",
       "      <td>0</td>\n",
       "      <td>...</td>\n",
       "      <td>10</td>\n",
       "      <td>0.137341</td>\n",
       "      <td>24.0</td>\n",
       "      <td>0.137341</td>\n",
       "      <td>0</td>\n",
       "      <td>0.000000</td>\n",
       "      <td>0.0</td>\n",
       "      <td>0.000000</td>\n",
       "      <td>0.0</td>\n",
       "      <td>0.0</td>\n",
       "    </tr>\n",
       "    <tr>\n",
       "      <th>2020-03-05</th>\n",
       "      <td>2020-03-05</td>\n",
       "      <td>NL</td>\n",
       "      <td>1</td>\n",
       "      <td>24</td>\n",
       "      <td>21</td>\n",
       "      <td>0</td>\n",
       "      <td>11</td>\n",
       "      <td>120</td>\n",
       "      <td>112</td>\n",
       "      <td>0</td>\n",
       "      <td>...</td>\n",
       "      <td>17</td>\n",
       "      <td>0.234625</td>\n",
       "      <td>41.0</td>\n",
       "      <td>0.234625</td>\n",
       "      <td>0</td>\n",
       "      <td>0.000000</td>\n",
       "      <td>0.0</td>\n",
       "      <td>0.000000</td>\n",
       "      <td>0.0</td>\n",
       "      <td>0.0</td>\n",
       "    </tr>\n",
       "    <tr>\n",
       "      <th>2020-03-06</th>\n",
       "      <td>2020-03-06</td>\n",
       "      <td>NL</td>\n",
       "      <td>4</td>\n",
       "      <td>28</td>\n",
       "      <td>24</td>\n",
       "      <td>0</td>\n",
       "      <td>21</td>\n",
       "      <td>139</td>\n",
       "      <td>130</td>\n",
       "      <td>0</td>\n",
       "      <td>...</td>\n",
       "      <td>40</td>\n",
       "      <td>0.463527</td>\n",
       "      <td>80.0</td>\n",
       "      <td>0.457805</td>\n",
       "      <td>0</td>\n",
       "      <td>0.000000</td>\n",
       "      <td>0.0</td>\n",
       "      <td>0.000000</td>\n",
       "      <td>0.0</td>\n",
       "      <td>0.0</td>\n",
       "    </tr>\n",
       "    <tr>\n",
       "      <th>2020-03-07</th>\n",
       "      <td>2020-03-07</td>\n",
       "      <td>NL</td>\n",
       "      <td>3</td>\n",
       "      <td>31</td>\n",
       "      <td>26</td>\n",
       "      <td>0</td>\n",
       "      <td>7</td>\n",
       "      <td>147</td>\n",
       "      <td>138</td>\n",
       "      <td>1</td>\n",
       "      <td>...</td>\n",
       "      <td>50</td>\n",
       "      <td>0.749656</td>\n",
       "      <td>129.0</td>\n",
       "      <td>0.738210</td>\n",
       "      <td>1</td>\n",
       "      <td>0.005723</td>\n",
       "      <td>1.0</td>\n",
       "      <td>0.005723</td>\n",
       "      <td>0.0</td>\n",
       "      <td>0.0</td>\n",
       "    </tr>\n",
       "  </tbody>\n",
       "</table>\n",
       "<p>10 rows × 27 columns</p>\n",
       "</div>"
      ],
      "text/plain": [
       "                 Datum LandCode  NICE IC Bedden (intake)  \\\n",
       "Key                                                        \n",
       "2020-02-27  2020-02-27       NL                        1   \n",
       "2020-02-28  2020-02-28       NL                        0   \n",
       "2020-02-29  2020-02-29       NL                        0   \n",
       "2020-03-01  2020-03-01       NL                        2   \n",
       "2020-03-02  2020-03-02       NL                        0   \n",
       "2020-03-03  2020-03-03       NL                        1   \n",
       "2020-03-04  2020-03-04       NL                        3   \n",
       "2020-03-05  2020-03-05       NL                        1   \n",
       "2020-03-06  2020-03-06       NL                        4   \n",
       "2020-03-07  2020-03-07       NL                        3   \n",
       "\n",
       "            NICE IC Bedden (cumulatief)  NICE IC Bedden  NICE IC Overleden  \\\n",
       "Key                                                                          \n",
       "2020-02-27                           13              13                  0   \n",
       "2020-02-28                           14              14                  0   \n",
       "2020-02-29                           15              15                  0   \n",
       "2020-03-01                           17              17                  0   \n",
       "2020-03-02                           17              16                  0   \n",
       "2020-03-03                           19              18                  0   \n",
       "2020-03-04                           22              21                  0   \n",
       "2020-03-05                           24              21                  0   \n",
       "2020-03-06                           28              24                  0   \n",
       "2020-03-07                           31              26                  0   \n",
       "\n",
       "            NICE Ziekenhuis Bedden (intake)  \\\n",
       "Key                                           \n",
       "2020-02-27                                2   \n",
       "2020-02-28                                4   \n",
       "2020-02-29                                1   \n",
       "2020-03-01                                7   \n",
       "2020-03-02                               10   \n",
       "2020-03-03                                8   \n",
       "2020-03-04                               10   \n",
       "2020-03-05                               11   \n",
       "2020-03-06                               21   \n",
       "2020-03-07                                7   \n",
       "\n",
       "            NICE Ziekenhuis Bedden (cumulatief)  NICE Ziekenhuis Bedden  \\\n",
       "Key                                                                       \n",
       "2020-02-27                                   65                      62   \n",
       "2020-02-28                                   69                      66   \n",
       "2020-02-29                                   70                      66   \n",
       "2020-03-01                                   77                      73   \n",
       "2020-03-02                                   88                      84   \n",
       "2020-03-03                                   96                      91   \n",
       "2020-03-04                                  109                     103   \n",
       "2020-03-05                                  120                     112   \n",
       "2020-03-06                                  139                     130   \n",
       "2020-03-07                                  147                     138   \n",
       "\n",
       "            NICE Ziekenhuis Overleden  ...  Positief getest (nieuw)  \\\n",
       "Key                                    ...                            \n",
       "2020-02-27                          0  ...                        0   \n",
       "2020-02-28                          0  ...                        1   \n",
       "2020-02-29                          0  ...                        1   \n",
       "2020-03-01                          0  ...                        3   \n",
       "2020-03-02                          0  ...                        5   \n",
       "2020-03-03                          0  ...                        4   \n",
       "2020-03-04                          0  ...                       10   \n",
       "2020-03-05                          0  ...                       17   \n",
       "2020-03-06                          0  ...                       40   \n",
       "2020-03-07                          1  ...                       50   \n",
       "\n",
       "            Positief getest per 100.000  Positief getest 7d  \\\n",
       "Key                                                           \n",
       "2020-02-27                     0.000000                 0.0   \n",
       "2020-02-28                     0.005723                 0.0   \n",
       "2020-02-29                     0.011445                 0.0   \n",
       "2020-03-01                     0.028613                 0.0   \n",
       "2020-03-02                     0.057226                 0.0   \n",
       "2020-03-03                     0.080116                 0.0   \n",
       "2020-03-04                     0.137341                24.0   \n",
       "2020-03-05                     0.234625                41.0   \n",
       "2020-03-06                     0.463527                80.0   \n",
       "2020-03-07                     0.749656               129.0   \n",
       "\n",
       "            Positief getest 7d per 100.000  Overleden (nieuw)  \\\n",
       "Key                                                             \n",
       "2020-02-27                        0.000000                  0   \n",
       "2020-02-28                        0.000000                  0   \n",
       "2020-02-29                        0.000000                  0   \n",
       "2020-03-01                        0.000000                  0   \n",
       "2020-03-02                        0.000000                  0   \n",
       "2020-03-03                        0.000000                  0   \n",
       "2020-03-04                        0.137341                  0   \n",
       "2020-03-05                        0.234625                  0   \n",
       "2020-03-06                        0.457805                  0   \n",
       "2020-03-07                        0.738210                  1   \n",
       "\n",
       "            Overleden per 100.000  Overleden 7d  Overleden 7d per 100.000  \\\n",
       "Key                                                                         \n",
       "2020-02-27               0.000000           0.0                  0.000000   \n",
       "2020-02-28               0.000000           0.0                  0.000000   \n",
       "2020-02-29               0.000000           0.0                  0.000000   \n",
       "2020-03-01               0.000000           0.0                  0.000000   \n",
       "2020-03-02               0.000000           0.0                  0.000000   \n",
       "2020-03-03               0.000000           0.0                  0.000000   \n",
       "2020-03-04               0.000000           0.0                  0.000000   \n",
       "2020-03-05               0.000000           0.0                  0.000000   \n",
       "2020-03-06               0.000000           0.0                  0.000000   \n",
       "2020-03-07               0.005723           1.0                  0.005723   \n",
       "\n",
       "            Overleden week-1  Positief getest week-1  \n",
       "Key                                                   \n",
       "2020-02-27               0.0                     0.0  \n",
       "2020-02-28               0.0                     0.0  \n",
       "2020-02-29               0.0                     0.0  \n",
       "2020-03-01               0.0                     0.0  \n",
       "2020-03-02               0.0                     0.0  \n",
       "2020-03-03               0.0                     0.0  \n",
       "2020-03-04               0.0                     0.0  \n",
       "2020-03-05               0.0                     0.0  \n",
       "2020-03-06               0.0                     0.0  \n",
       "2020-03-07               0.0                     0.0  \n",
       "\n",
       "[10 rows x 27 columns]"
      ]
     },
     "metadata": {},
     "output_type": "display_data"
    }
   ],
   "source": [
    "@run\n",
    "def cell():\n",
    "  df = RIVM.csv('COVID-19_aantallen_gemeente_per_dag').rename(columns={\n",
    "    'Total_reported': 'Positief getest',\n",
    "    'Deceased': 'Overleden',\n",
    "    'Date_of_publication': 'Datum',\n",
    "    'Date_of_report': 'Today',\n",
    "  })\n",
    "  # sloop tijd van de datum en zet om in datetime object\n",
    "  df['Datum'] = pd.to_datetime(df.Datum.str.replace(' .*', '', regex=True))\n",
    "\n",
    "  # sommeer pos en overl op datum en voeg toe aan dagoverzicht\n",
    "  addstats(df.groupby(['Datum']).agg({'Positief getest': 'sum', 'Overleden': 'sum'}))\n",
    "  global dagoverzicht\n",
    "  for col in ['Overleden', 'Positief getest']:\n",
    "    dagoverzicht[f'{col} week-1'] = dagoverzicht[f'{col} 7d'].shift(7).fillna(0)\n",
    "  display(dagoverzicht.head(10))"
   ]
  },
  {
   "cell_type": "code",
   "execution_count": 4,
   "id": "interracial-fraction",
   "metadata": {
    "execution": {
     "iopub.execute_input": "2021-02-24T17:00:34.683076Z",
     "iopub.status.busy": "2021-02-24T17:00:34.682152Z",
     "iopub.status.idle": "2021-02-24T17:00:35.445646Z",
     "shell.execute_reply": "2021-02-24T17:00:35.446109Z"
    },
    "lines_to_next_cell": 1,
    "papermill": {
     "duration": 0.779488,
     "end_time": "2021-02-24T17:00:35.446284",
     "exception": false,
     "start_time": "2021-02-24T17:00:34.666796",
     "status": "completed"
    },
    "tags": [],
    "title": "ziekenhuisopnames"
   },
   "outputs": [
    {
     "name": "stdout",
     "output_type": "stream",
     "text": [
      "rivm/COVID-19_ziekenhuisopnames-2021-02-24@14-15.csv exists\n",
      "loading rivm/COVID-19_ziekenhuisopnames-2021-02-24@14-15.csv.gz\n"
     ]
    },
    {
     "data": {
      "text/html": [
       "<div>\n",
       "<style scoped>\n",
       "    .dataframe tbody tr th:only-of-type {\n",
       "        vertical-align: middle;\n",
       "    }\n",
       "\n",
       "    .dataframe tbody tr th {\n",
       "        vertical-align: top;\n",
       "    }\n",
       "\n",
       "    .dataframe thead th {\n",
       "        text-align: right;\n",
       "    }\n",
       "</style>\n",
       "<table border=\"1\" class=\"dataframe\">\n",
       "  <thead>\n",
       "    <tr style=\"text-align: right;\">\n",
       "      <th></th>\n",
       "      <th>Datum</th>\n",
       "      <th>LandCode</th>\n",
       "      <th>NICE IC Bedden (intake)</th>\n",
       "      <th>NICE IC Bedden (cumulatief)</th>\n",
       "      <th>NICE IC Bedden</th>\n",
       "      <th>NICE IC Overleden</th>\n",
       "      <th>NICE Ziekenhuis Bedden (intake)</th>\n",
       "      <th>NICE Ziekenhuis Bedden (cumulatief)</th>\n",
       "      <th>NICE Ziekenhuis Bedden</th>\n",
       "      <th>NICE Ziekenhuis Overleden</th>\n",
       "      <th>...</th>\n",
       "      <th>Overleden 7d</th>\n",
       "      <th>Overleden 7d per 100.000</th>\n",
       "      <th>Overleden week-1</th>\n",
       "      <th>Positief getest week-1</th>\n",
       "      <th>Ziekenhuisopnames</th>\n",
       "      <th>Ziekenhuisopnames (nieuw)</th>\n",
       "      <th>Ziekenhuisopnames per 100.000</th>\n",
       "      <th>Ziekenhuisopnames 7d</th>\n",
       "      <th>Ziekenhuisopnames 7d per 100.000</th>\n",
       "      <th>Ziekenhuisopnames week-1</th>\n",
       "    </tr>\n",
       "    <tr>\n",
       "      <th>Key</th>\n",
       "      <th></th>\n",
       "      <th></th>\n",
       "      <th></th>\n",
       "      <th></th>\n",
       "      <th></th>\n",
       "      <th></th>\n",
       "      <th></th>\n",
       "      <th></th>\n",
       "      <th></th>\n",
       "      <th></th>\n",
       "      <th></th>\n",
       "      <th></th>\n",
       "      <th></th>\n",
       "      <th></th>\n",
       "      <th></th>\n",
       "      <th></th>\n",
       "      <th></th>\n",
       "      <th></th>\n",
       "      <th></th>\n",
       "      <th></th>\n",
       "      <th></th>\n",
       "    </tr>\n",
       "  </thead>\n",
       "  <tbody>\n",
       "    <tr>\n",
       "      <th>2020-02-27</th>\n",
       "      <td>2020-02-27</td>\n",
       "      <td>NL</td>\n",
       "      <td>1</td>\n",
       "      <td>13</td>\n",
       "      <td>13</td>\n",
       "      <td>0</td>\n",
       "      <td>2</td>\n",
       "      <td>65</td>\n",
       "      <td>62</td>\n",
       "      <td>0</td>\n",
       "      <td>...</td>\n",
       "      <td>0.0</td>\n",
       "      <td>0.0</td>\n",
       "      <td>0.0</td>\n",
       "      <td>0.0</td>\n",
       "      <td>3</td>\n",
       "      <td>3</td>\n",
       "      <td>0.017168</td>\n",
       "      <td>0.0</td>\n",
       "      <td>0.0</td>\n",
       "      <td>0.0</td>\n",
       "    </tr>\n",
       "    <tr>\n",
       "      <th>2020-02-28</th>\n",
       "      <td>2020-02-28</td>\n",
       "      <td>NL</td>\n",
       "      <td>0</td>\n",
       "      <td>14</td>\n",
       "      <td>14</td>\n",
       "      <td>0</td>\n",
       "      <td>4</td>\n",
       "      <td>69</td>\n",
       "      <td>66</td>\n",
       "      <td>0</td>\n",
       "      <td>...</td>\n",
       "      <td>0.0</td>\n",
       "      <td>0.0</td>\n",
       "      <td>0.0</td>\n",
       "      <td>0.0</td>\n",
       "      <td>7</td>\n",
       "      <td>4</td>\n",
       "      <td>0.040058</td>\n",
       "      <td>0.0</td>\n",
       "      <td>0.0</td>\n",
       "      <td>0.0</td>\n",
       "    </tr>\n",
       "    <tr>\n",
       "      <th>2020-02-29</th>\n",
       "      <td>2020-02-29</td>\n",
       "      <td>NL</td>\n",
       "      <td>0</td>\n",
       "      <td>15</td>\n",
       "      <td>15</td>\n",
       "      <td>0</td>\n",
       "      <td>1</td>\n",
       "      <td>70</td>\n",
       "      <td>66</td>\n",
       "      <td>0</td>\n",
       "      <td>...</td>\n",
       "      <td>0.0</td>\n",
       "      <td>0.0</td>\n",
       "      <td>0.0</td>\n",
       "      <td>0.0</td>\n",
       "      <td>9</td>\n",
       "      <td>2</td>\n",
       "      <td>0.051503</td>\n",
       "      <td>0.0</td>\n",
       "      <td>0.0</td>\n",
       "      <td>0.0</td>\n",
       "    </tr>\n",
       "    <tr>\n",
       "      <th>2020-03-01</th>\n",
       "      <td>2020-03-01</td>\n",
       "      <td>NL</td>\n",
       "      <td>2</td>\n",
       "      <td>17</td>\n",
       "      <td>17</td>\n",
       "      <td>0</td>\n",
       "      <td>7</td>\n",
       "      <td>77</td>\n",
       "      <td>73</td>\n",
       "      <td>0</td>\n",
       "      <td>...</td>\n",
       "      <td>0.0</td>\n",
       "      <td>0.0</td>\n",
       "      <td>0.0</td>\n",
       "      <td>0.0</td>\n",
       "      <td>17</td>\n",
       "      <td>8</td>\n",
       "      <td>0.097284</td>\n",
       "      <td>0.0</td>\n",
       "      <td>0.0</td>\n",
       "      <td>0.0</td>\n",
       "    </tr>\n",
       "    <tr>\n",
       "      <th>2020-03-02</th>\n",
       "      <td>2020-03-02</td>\n",
       "      <td>NL</td>\n",
       "      <td>0</td>\n",
       "      <td>17</td>\n",
       "      <td>16</td>\n",
       "      <td>0</td>\n",
       "      <td>10</td>\n",
       "      <td>88</td>\n",
       "      <td>84</td>\n",
       "      <td>0</td>\n",
       "      <td>...</td>\n",
       "      <td>0.0</td>\n",
       "      <td>0.0</td>\n",
       "      <td>0.0</td>\n",
       "      <td>0.0</td>\n",
       "      <td>27</td>\n",
       "      <td>10</td>\n",
       "      <td>0.154509</td>\n",
       "      <td>0.0</td>\n",
       "      <td>0.0</td>\n",
       "      <td>0.0</td>\n",
       "    </tr>\n",
       "  </tbody>\n",
       "</table>\n",
       "<p>5 rows × 33 columns</p>\n",
       "</div>"
      ],
      "text/plain": [
       "                 Datum LandCode  NICE IC Bedden (intake)  \\\n",
       "Key                                                        \n",
       "2020-02-27  2020-02-27       NL                        1   \n",
       "2020-02-28  2020-02-28       NL                        0   \n",
       "2020-02-29  2020-02-29       NL                        0   \n",
       "2020-03-01  2020-03-01       NL                        2   \n",
       "2020-03-02  2020-03-02       NL                        0   \n",
       "\n",
       "            NICE IC Bedden (cumulatief)  NICE IC Bedden  NICE IC Overleden  \\\n",
       "Key                                                                          \n",
       "2020-02-27                           13              13                  0   \n",
       "2020-02-28                           14              14                  0   \n",
       "2020-02-29                           15              15                  0   \n",
       "2020-03-01                           17              17                  0   \n",
       "2020-03-02                           17              16                  0   \n",
       "\n",
       "            NICE Ziekenhuis Bedden (intake)  \\\n",
       "Key                                           \n",
       "2020-02-27                                2   \n",
       "2020-02-28                                4   \n",
       "2020-02-29                                1   \n",
       "2020-03-01                                7   \n",
       "2020-03-02                               10   \n",
       "\n",
       "            NICE Ziekenhuis Bedden (cumulatief)  NICE Ziekenhuis Bedden  \\\n",
       "Key                                                                       \n",
       "2020-02-27                                   65                      62   \n",
       "2020-02-28                                   69                      66   \n",
       "2020-02-29                                   70                      66   \n",
       "2020-03-01                                   77                      73   \n",
       "2020-03-02                                   88                      84   \n",
       "\n",
       "            NICE Ziekenhuis Overleden  ...  Overleden 7d  \\\n",
       "Key                                    ...                 \n",
       "2020-02-27                          0  ...           0.0   \n",
       "2020-02-28                          0  ...           0.0   \n",
       "2020-02-29                          0  ...           0.0   \n",
       "2020-03-01                          0  ...           0.0   \n",
       "2020-03-02                          0  ...           0.0   \n",
       "\n",
       "            Overleden 7d per 100.000  Overleden week-1  \\\n",
       "Key                                                      \n",
       "2020-02-27                       0.0               0.0   \n",
       "2020-02-28                       0.0               0.0   \n",
       "2020-02-29                       0.0               0.0   \n",
       "2020-03-01                       0.0               0.0   \n",
       "2020-03-02                       0.0               0.0   \n",
       "\n",
       "            Positief getest week-1  Ziekenhuisopnames  \\\n",
       "Key                                                     \n",
       "2020-02-27                     0.0                  3   \n",
       "2020-02-28                     0.0                  7   \n",
       "2020-02-29                     0.0                  9   \n",
       "2020-03-01                     0.0                 17   \n",
       "2020-03-02                     0.0                 27   \n",
       "\n",
       "            Ziekenhuisopnames (nieuw)  Ziekenhuisopnames per 100.000  \\\n",
       "Key                                                                    \n",
       "2020-02-27                          3                       0.017168   \n",
       "2020-02-28                          4                       0.040058   \n",
       "2020-02-29                          2                       0.051503   \n",
       "2020-03-01                          8                       0.097284   \n",
       "2020-03-02                         10                       0.154509   \n",
       "\n",
       "            Ziekenhuisopnames 7d  Ziekenhuisopnames 7d per 100.000  \\\n",
       "Key                                                                  \n",
       "2020-02-27                   0.0                               0.0   \n",
       "2020-02-28                   0.0                               0.0   \n",
       "2020-02-29                   0.0                               0.0   \n",
       "2020-03-01                   0.0                               0.0   \n",
       "2020-03-02                   0.0                               0.0   \n",
       "\n",
       "            Ziekenhuisopnames week-1  \n",
       "Key                                   \n",
       "2020-02-27                       0.0  \n",
       "2020-02-28                       0.0  \n",
       "2020-02-29                       0.0  \n",
       "2020-03-01                       0.0  \n",
       "2020-03-02                       0.0  \n",
       "\n",
       "[5 rows x 33 columns]"
      ]
     },
     "metadata": {},
     "output_type": "display_data"
    }
   ],
   "source": [
    "@run\n",
    "def cell():\n",
    "  df = RIVM.csv('COVID-19_ziekenhuisopnames').rename(columns={\n",
    "    'Hospital_admission': 'Ziekenhuisopnames',\n",
    "    'Date_of_statistics': 'Datum',\n",
    "  })\n",
    "  # datum naar datetime\n",
    "  df['Datum'] = pd.to_datetime(df.Datum.str.replace(' .*', '', regex=True))\n",
    "  # sommeer op datum en voeg toe aan dagoverzicht\n",
    "  addstats(df.groupby(['Datum']).agg({'Ziekenhuisopnames': 'sum'}))\n",
    "  dagoverzicht['Ziekenhuisopnames week-1'] = dagoverzicht['Ziekenhuisopnames 7d'].shift(7).fillna(0)\n",
    "  display(dagoverzicht.head())"
   ]
  },
  {
   "cell_type": "code",
   "execution_count": 5,
   "id": "honest-potato",
   "metadata": {
    "execution": {
     "iopub.execute_input": "2021-02-24T17:00:35.473796Z",
     "iopub.status.busy": "2021-02-24T17:00:35.473205Z",
     "iopub.status.idle": "2021-02-24T17:00:36.430018Z",
     "shell.execute_reply": "2021-02-24T17:00:36.429213Z"
    },
    "lines_to_next_cell": 1,
    "papermill": {
     "duration": 0.972641,
     "end_time": "2021-02-24T17:00:36.430179",
     "exception": false,
     "start_time": "2021-02-24T17:00:35.457538",
     "status": "completed"
    },
    "tags": [],
    "title": "reproductiegetal en besmettelijkheid"
   },
   "outputs": [
    {
     "name": "stdout",
     "output_type": "stream",
     "text": [
      "rivm/COVID-19_reproductiegetal-2021-02-24@14-15.json exists\n",
      "loading rivm/COVID-19_reproductiegetal-2021-02-24@14-15.json.gz\n"
     ]
    },
    {
     "name": "stdout",
     "output_type": "stream",
     "text": [
      "rivm/COVID-19_prevalentie-2021-02-24@14-15.json exists\n",
      "loading rivm/COVID-19_prevalentie-2021-02-24@14-15.json.gz\n"
     ]
    },
    {
     "data": {
      "text/html": [
       "<div>\n",
       "<style scoped>\n",
       "    .dataframe tbody tr th:only-of-type {\n",
       "        vertical-align: middle;\n",
       "    }\n",
       "\n",
       "    .dataframe tbody tr th {\n",
       "        vertical-align: top;\n",
       "    }\n",
       "\n",
       "    .dataframe thead th {\n",
       "        text-align: right;\n",
       "    }\n",
       "</style>\n",
       "<table border=\"1\" class=\"dataframe\">\n",
       "  <thead>\n",
       "    <tr style=\"text-align: right;\">\n",
       "      <th></th>\n",
       "      <th>Datum</th>\n",
       "      <th>LandCode</th>\n",
       "      <th>NICE IC Bedden (intake)</th>\n",
       "      <th>NICE IC Bedden (cumulatief)</th>\n",
       "      <th>NICE IC Bedden</th>\n",
       "      <th>NICE IC Overleden</th>\n",
       "      <th>NICE Ziekenhuis Bedden (intake)</th>\n",
       "      <th>NICE Ziekenhuis Bedden (cumulatief)</th>\n",
       "      <th>NICE Ziekenhuis Bedden</th>\n",
       "      <th>NICE Ziekenhuis Overleden</th>\n",
       "      <th>...</th>\n",
       "      <th>Positief getest week-1</th>\n",
       "      <th>Ziekenhuisopnames</th>\n",
       "      <th>Ziekenhuisopnames (nieuw)</th>\n",
       "      <th>Ziekenhuisopnames per 100.000</th>\n",
       "      <th>Ziekenhuisopnames 7d</th>\n",
       "      <th>Ziekenhuisopnames 7d per 100.000</th>\n",
       "      <th>Ziekenhuisopnames week-1</th>\n",
       "      <th>Reproductiegetal</th>\n",
       "      <th>Besmettelijk</th>\n",
       "      <th>Besmettelijk per 100.000</th>\n",
       "    </tr>\n",
       "    <tr>\n",
       "      <th>Key</th>\n",
       "      <th></th>\n",
       "      <th></th>\n",
       "      <th></th>\n",
       "      <th></th>\n",
       "      <th></th>\n",
       "      <th></th>\n",
       "      <th></th>\n",
       "      <th></th>\n",
       "      <th></th>\n",
       "      <th></th>\n",
       "      <th></th>\n",
       "      <th></th>\n",
       "      <th></th>\n",
       "      <th></th>\n",
       "      <th></th>\n",
       "      <th></th>\n",
       "      <th></th>\n",
       "      <th></th>\n",
       "      <th></th>\n",
       "      <th></th>\n",
       "      <th></th>\n",
       "    </tr>\n",
       "  </thead>\n",
       "  <tbody>\n",
       "    <tr>\n",
       "      <th>2020-02-27</th>\n",
       "      <td>2020-02-27</td>\n",
       "      <td>NL</td>\n",
       "      <td>1</td>\n",
       "      <td>13</td>\n",
       "      <td>13</td>\n",
       "      <td>0</td>\n",
       "      <td>2</td>\n",
       "      <td>65</td>\n",
       "      <td>62</td>\n",
       "      <td>0</td>\n",
       "      <td>...</td>\n",
       "      <td>0.0</td>\n",
       "      <td>3</td>\n",
       "      <td>3</td>\n",
       "      <td>0.017168</td>\n",
       "      <td>0.0</td>\n",
       "      <td>0.000000</td>\n",
       "      <td>0.0</td>\n",
       "      <td>2.06</td>\n",
       "      <td>6820.0</td>\n",
       "      <td>39.0</td>\n",
       "    </tr>\n",
       "    <tr>\n",
       "      <th>2020-02-28</th>\n",
       "      <td>2020-02-28</td>\n",
       "      <td>NL</td>\n",
       "      <td>0</td>\n",
       "      <td>14</td>\n",
       "      <td>14</td>\n",
       "      <td>0</td>\n",
       "      <td>4</td>\n",
       "      <td>69</td>\n",
       "      <td>66</td>\n",
       "      <td>0</td>\n",
       "      <td>...</td>\n",
       "      <td>0.0</td>\n",
       "      <td>7</td>\n",
       "      <td>4</td>\n",
       "      <td>0.040058</td>\n",
       "      <td>0.0</td>\n",
       "      <td>0.000000</td>\n",
       "      <td>0.0</td>\n",
       "      <td>2.10</td>\n",
       "      <td>8497.0</td>\n",
       "      <td>49.0</td>\n",
       "    </tr>\n",
       "    <tr>\n",
       "      <th>2020-02-29</th>\n",
       "      <td>2020-02-29</td>\n",
       "      <td>NL</td>\n",
       "      <td>0</td>\n",
       "      <td>15</td>\n",
       "      <td>15</td>\n",
       "      <td>0</td>\n",
       "      <td>1</td>\n",
       "      <td>70</td>\n",
       "      <td>66</td>\n",
       "      <td>0</td>\n",
       "      <td>...</td>\n",
       "      <td>0.0</td>\n",
       "      <td>9</td>\n",
       "      <td>2</td>\n",
       "      <td>0.051503</td>\n",
       "      <td>0.0</td>\n",
       "      <td>0.000000</td>\n",
       "      <td>0.0</td>\n",
       "      <td>1.99</td>\n",
       "      <td>10574.0</td>\n",
       "      <td>61.0</td>\n",
       "    </tr>\n",
       "    <tr>\n",
       "      <th>2020-03-01</th>\n",
       "      <td>2020-03-01</td>\n",
       "      <td>NL</td>\n",
       "      <td>2</td>\n",
       "      <td>17</td>\n",
       "      <td>17</td>\n",
       "      <td>0</td>\n",
       "      <td>7</td>\n",
       "      <td>77</td>\n",
       "      <td>73</td>\n",
       "      <td>0</td>\n",
       "      <td>...</td>\n",
       "      <td>0.0</td>\n",
       "      <td>17</td>\n",
       "      <td>8</td>\n",
       "      <td>0.097284</td>\n",
       "      <td>0.0</td>\n",
       "      <td>0.000000</td>\n",
       "      <td>0.0</td>\n",
       "      <td>1.83</td>\n",
       "      <td>13045.0</td>\n",
       "      <td>75.0</td>\n",
       "    </tr>\n",
       "    <tr>\n",
       "      <th>2020-03-02</th>\n",
       "      <td>2020-03-02</td>\n",
       "      <td>NL</td>\n",
       "      <td>0</td>\n",
       "      <td>17</td>\n",
       "      <td>16</td>\n",
       "      <td>0</td>\n",
       "      <td>10</td>\n",
       "      <td>88</td>\n",
       "      <td>84</td>\n",
       "      <td>0</td>\n",
       "      <td>...</td>\n",
       "      <td>0.0</td>\n",
       "      <td>27</td>\n",
       "      <td>10</td>\n",
       "      <td>0.154509</td>\n",
       "      <td>0.0</td>\n",
       "      <td>0.000000</td>\n",
       "      <td>0.0</td>\n",
       "      <td>1.79</td>\n",
       "      <td>15987.0</td>\n",
       "      <td>91.0</td>\n",
       "    </tr>\n",
       "    <tr>\n",
       "      <th>...</th>\n",
       "      <td>...</td>\n",
       "      <td>...</td>\n",
       "      <td>...</td>\n",
       "      <td>...</td>\n",
       "      <td>...</td>\n",
       "      <td>...</td>\n",
       "      <td>...</td>\n",
       "      <td>...</td>\n",
       "      <td>...</td>\n",
       "      <td>...</td>\n",
       "      <td>...</td>\n",
       "      <td>...</td>\n",
       "      <td>...</td>\n",
       "      <td>...</td>\n",
       "      <td>...</td>\n",
       "      <td>...</td>\n",
       "      <td>...</td>\n",
       "      <td>...</td>\n",
       "      <td>...</td>\n",
       "      <td>...</td>\n",
       "      <td>...</td>\n",
       "    </tr>\n",
       "    <tr>\n",
       "      <th>2021-02-20</th>\n",
       "      <td>2021-02-20</td>\n",
       "      <td>NL</td>\n",
       "      <td>38</td>\n",
       "      <td>8528</td>\n",
       "      <td>543</td>\n",
       "      <td>2440</td>\n",
       "      <td>122</td>\n",
       "      <td>40278</td>\n",
       "      <td>1439</td>\n",
       "      <td>5902</td>\n",
       "      <td>...</td>\n",
       "      <td>24101.0</td>\n",
       "      <td>45292</td>\n",
       "      <td>133</td>\n",
       "      <td>259.186241</td>\n",
       "      <td>1201.0</td>\n",
       "      <td>6.872796</td>\n",
       "      <td>1175.0</td>\n",
       "      <td>0.00</td>\n",
       "      <td>0.0</td>\n",
       "      <td>0.0</td>\n",
       "    </tr>\n",
       "    <tr>\n",
       "      <th>2021-02-21</th>\n",
       "      <td>2021-02-21</td>\n",
       "      <td>NL</td>\n",
       "      <td>35</td>\n",
       "      <td>8565</td>\n",
       "      <td>558</td>\n",
       "      <td>2445</td>\n",
       "      <td>122</td>\n",
       "      <td>40383</td>\n",
       "      <td>1439</td>\n",
       "      <td>5928</td>\n",
       "      <td>...</td>\n",
       "      <td>23613.0</td>\n",
       "      <td>45418</td>\n",
       "      <td>126</td>\n",
       "      <td>259.907284</td>\n",
       "      <td>1188.0</td>\n",
       "      <td>6.798403</td>\n",
       "      <td>1202.0</td>\n",
       "      <td>0.00</td>\n",
       "      <td>0.0</td>\n",
       "      <td>0.0</td>\n",
       "    </tr>\n",
       "    <tr>\n",
       "      <th>2021-02-22</th>\n",
       "      <td>2021-02-22</td>\n",
       "      <td>NL</td>\n",
       "      <td>29</td>\n",
       "      <td>8597</td>\n",
       "      <td>566</td>\n",
       "      <td>2456</td>\n",
       "      <td>199</td>\n",
       "      <td>40599</td>\n",
       "      <td>1578</td>\n",
       "      <td>5949</td>\n",
       "      <td>...</td>\n",
       "      <td>24199.0</td>\n",
       "      <td>45603</td>\n",
       "      <td>185</td>\n",
       "      <td>260.965958</td>\n",
       "      <td>1156.0</td>\n",
       "      <td>6.615281</td>\n",
       "      <td>1220.0</td>\n",
       "      <td>0.00</td>\n",
       "      <td>0.0</td>\n",
       "      <td>0.0</td>\n",
       "    </tr>\n",
       "    <tr>\n",
       "      <th>2021-02-23</th>\n",
       "      <td>2021-02-23</td>\n",
       "      <td>NL</td>\n",
       "      <td>26</td>\n",
       "      <td>8623</td>\n",
       "      <td>555</td>\n",
       "      <td>2461</td>\n",
       "      <td>113</td>\n",
       "      <td>40730</td>\n",
       "      <td>1566</td>\n",
       "      <td>5962</td>\n",
       "      <td>...</td>\n",
       "      <td>25137.0</td>\n",
       "      <td>45637</td>\n",
       "      <td>34</td>\n",
       "      <td>261.160525</td>\n",
       "      <td>1007.0</td>\n",
       "      <td>5.762619</td>\n",
       "      <td>1214.0</td>\n",
       "      <td>0.00</td>\n",
       "      <td>0.0</td>\n",
       "      <td>0.0</td>\n",
       "    </tr>\n",
       "    <tr>\n",
       "      <th>2021-02-24</th>\n",
       "      <td>2021-02-24</td>\n",
       "      <td>NL</td>\n",
       "      <td>8</td>\n",
       "      <td>8631</td>\n",
       "      <td>537</td>\n",
       "      <td>2462</td>\n",
       "      <td>15</td>\n",
       "      <td>40759</td>\n",
       "      <td>1435</td>\n",
       "      <td>5967</td>\n",
       "      <td>...</td>\n",
       "      <td>25332.0</td>\n",
       "      <td>45637</td>\n",
       "      <td>0</td>\n",
       "      <td>261.160525</td>\n",
       "      <td>838.0</td>\n",
       "      <td>4.795506</td>\n",
       "      <td>1190.0</td>\n",
       "      <td>0.00</td>\n",
       "      <td>0.0</td>\n",
       "      <td>0.0</td>\n",
       "    </tr>\n",
       "  </tbody>\n",
       "</table>\n",
       "<p>364 rows × 36 columns</p>\n",
       "</div>"
      ],
      "text/plain": [
       "                 Datum LandCode  NICE IC Bedden (intake)  \\\n",
       "Key                                                        \n",
       "2020-02-27  2020-02-27       NL                        1   \n",
       "2020-02-28  2020-02-28       NL                        0   \n",
       "2020-02-29  2020-02-29       NL                        0   \n",
       "2020-03-01  2020-03-01       NL                        2   \n",
       "2020-03-02  2020-03-02       NL                        0   \n",
       "...                ...      ...                      ...   \n",
       "2021-02-20  2021-02-20       NL                       38   \n",
       "2021-02-21  2021-02-21       NL                       35   \n",
       "2021-02-22  2021-02-22       NL                       29   \n",
       "2021-02-23  2021-02-23       NL                       26   \n",
       "2021-02-24  2021-02-24       NL                        8   \n",
       "\n",
       "            NICE IC Bedden (cumulatief)  NICE IC Bedden  NICE IC Overleden  \\\n",
       "Key                                                                          \n",
       "2020-02-27                           13              13                  0   \n",
       "2020-02-28                           14              14                  0   \n",
       "2020-02-29                           15              15                  0   \n",
       "2020-03-01                           17              17                  0   \n",
       "2020-03-02                           17              16                  0   \n",
       "...                                 ...             ...                ...   \n",
       "2021-02-20                         8528             543               2440   \n",
       "2021-02-21                         8565             558               2445   \n",
       "2021-02-22                         8597             566               2456   \n",
       "2021-02-23                         8623             555               2461   \n",
       "2021-02-24                         8631             537               2462   \n",
       "\n",
       "            NICE Ziekenhuis Bedden (intake)  \\\n",
       "Key                                           \n",
       "2020-02-27                                2   \n",
       "2020-02-28                                4   \n",
       "2020-02-29                                1   \n",
       "2020-03-01                                7   \n",
       "2020-03-02                               10   \n",
       "...                                     ...   \n",
       "2021-02-20                              122   \n",
       "2021-02-21                              122   \n",
       "2021-02-22                              199   \n",
       "2021-02-23                              113   \n",
       "2021-02-24                               15   \n",
       "\n",
       "            NICE Ziekenhuis Bedden (cumulatief)  NICE Ziekenhuis Bedden  \\\n",
       "Key                                                                       \n",
       "2020-02-27                                   65                      62   \n",
       "2020-02-28                                   69                      66   \n",
       "2020-02-29                                   70                      66   \n",
       "2020-03-01                                   77                      73   \n",
       "2020-03-02                                   88                      84   \n",
       "...                                         ...                     ...   \n",
       "2021-02-20                                40278                    1439   \n",
       "2021-02-21                                40383                    1439   \n",
       "2021-02-22                                40599                    1578   \n",
       "2021-02-23                                40730                    1566   \n",
       "2021-02-24                                40759                    1435   \n",
       "\n",
       "            NICE Ziekenhuis Overleden  ...  Positief getest week-1  \\\n",
       "Key                                    ...                           \n",
       "2020-02-27                          0  ...                     0.0   \n",
       "2020-02-28                          0  ...                     0.0   \n",
       "2020-02-29                          0  ...                     0.0   \n",
       "2020-03-01                          0  ...                     0.0   \n",
       "2020-03-02                          0  ...                     0.0   \n",
       "...                               ...  ...                     ...   \n",
       "2021-02-20                       5902  ...                 24101.0   \n",
       "2021-02-21                       5928  ...                 23613.0   \n",
       "2021-02-22                       5949  ...                 24199.0   \n",
       "2021-02-23                       5962  ...                 25137.0   \n",
       "2021-02-24                       5967  ...                 25332.0   \n",
       "\n",
       "            Ziekenhuisopnames  Ziekenhuisopnames (nieuw)  \\\n",
       "Key                                                        \n",
       "2020-02-27                  3                          3   \n",
       "2020-02-28                  7                          4   \n",
       "2020-02-29                  9                          2   \n",
       "2020-03-01                 17                          8   \n",
       "2020-03-02                 27                         10   \n",
       "...                       ...                        ...   \n",
       "2021-02-20              45292                        133   \n",
       "2021-02-21              45418                        126   \n",
       "2021-02-22              45603                        185   \n",
       "2021-02-23              45637                         34   \n",
       "2021-02-24              45637                          0   \n",
       "\n",
       "            Ziekenhuisopnames per 100.000  Ziekenhuisopnames 7d  \\\n",
       "Key                                                               \n",
       "2020-02-27                       0.017168                   0.0   \n",
       "2020-02-28                       0.040058                   0.0   \n",
       "2020-02-29                       0.051503                   0.0   \n",
       "2020-03-01                       0.097284                   0.0   \n",
       "2020-03-02                       0.154509                   0.0   \n",
       "...                                   ...                   ...   \n",
       "2021-02-20                     259.186241                1201.0   \n",
       "2021-02-21                     259.907284                1188.0   \n",
       "2021-02-22                     260.965958                1156.0   \n",
       "2021-02-23                     261.160525                1007.0   \n",
       "2021-02-24                     261.160525                 838.0   \n",
       "\n",
       "            Ziekenhuisopnames 7d per 100.000  Ziekenhuisopnames week-1  \\\n",
       "Key                                                                      \n",
       "2020-02-27                          0.000000                       0.0   \n",
       "2020-02-28                          0.000000                       0.0   \n",
       "2020-02-29                          0.000000                       0.0   \n",
       "2020-03-01                          0.000000                       0.0   \n",
       "2020-03-02                          0.000000                       0.0   \n",
       "...                                      ...                       ...   \n",
       "2021-02-20                          6.872796                    1175.0   \n",
       "2021-02-21                          6.798403                    1202.0   \n",
       "2021-02-22                          6.615281                    1220.0   \n",
       "2021-02-23                          5.762619                    1214.0   \n",
       "2021-02-24                          4.795506                    1190.0   \n",
       "\n",
       "            Reproductiegetal  Besmettelijk  Besmettelijk per 100.000  \n",
       "Key                                                                   \n",
       "2020-02-27              2.06        6820.0                      39.0  \n",
       "2020-02-28              2.10        8497.0                      49.0  \n",
       "2020-02-29              1.99       10574.0                      61.0  \n",
       "2020-03-01              1.83       13045.0                      75.0  \n",
       "2020-03-02              1.79       15987.0                      91.0  \n",
       "...                      ...           ...                       ...  \n",
       "2021-02-20              0.00           0.0                       0.0  \n",
       "2021-02-21              0.00           0.0                       0.0  \n",
       "2021-02-22              0.00           0.0                       0.0  \n",
       "2021-02-23              0.00           0.0                       0.0  \n",
       "2021-02-24              0.00           0.0                       0.0  \n",
       "\n",
       "[364 rows x 36 columns]"
      ]
     },
     "metadata": {},
     "output_type": "display_data"
    }
   ],
   "source": [
    "@run\n",
    "def cell():\n",
    "  global dagoverzicht\n",
    "\n",
    "  datasets = [\n",
    "    ('COVID-19_reproductiegetal', 'Rt_avg', 'Reproductiegetal'),\n",
    "    ('COVID-19_prevalentie', 'prev_avg', 'Besmettelijk'),\n",
    "  ]\n",
    "  for dataset, source, target in datasets:\n",
    "    # laad de dataset\n",
    "    df = RIVM.json(dataset).rename(columns={source: target})\n",
    "    # Date naar datetime index voor de merge\n",
    "    df['Date'] = pd.to_datetime(df['Date'])\n",
    "    df.set_index('Date', inplace=True)\n",
    "    # merge alleen de target kolom\n",
    "    df = df[[target]]\n",
    "    # voeg to aan dagoverzicht\n",
    "    dagoverzicht = dagoverzicht.merge(df, how='left', left_index=True, right_index=True)\n",
    "    # vul lege waarden met 0\n",
    "    dagoverzicht[target] = dagoverzicht[target].fillna(0)\n",
    "  # per 100k factor\n",
    "  dagoverzicht['Besmettelijk per 100.000'] = (dagoverzicht['Besmettelijk']  * bevolking['per 100k']).round(0)\n",
    "  display(dagoverzicht)"
   ]
  },
  {
   "cell_type": "code",
   "execution_count": 6,
   "id": "recorded-retailer",
   "metadata": {
    "execution": {
     "iopub.execute_input": "2021-02-24T17:00:36.461977Z",
     "iopub.status.busy": "2021-02-24T17:00:36.461173Z",
     "iopub.status.idle": "2021-02-24T17:00:36.987525Z",
     "shell.execute_reply": "2021-02-24T17:00:36.988082Z"
    },
    "lines_to_next_cell": 1,
    "papermill": {
     "duration": 0.545453,
     "end_time": "2021-02-24T17:00:36.988273",
     "exception": false,
     "start_time": "2021-02-24T17:00:36.442820",
     "status": "completed"
    },
    "tags": [],
    "title": "uitgevoerde testen"
   },
   "outputs": [
    {
     "name": "stdout",
     "output_type": "stream",
     "text": [
      "rivm/COVID-19_uitgevoerde_testen-2021-02-24@14-15.csv exists\n",
      "loading rivm/COVID-19_uitgevoerde_testen-2021-02-24@14-15.csv.gz\n"
     ]
    },
    {
     "data": {
      "text/html": [
       "<div>\n",
       "<style scoped>\n",
       "    .dataframe tbody tr th:only-of-type {\n",
       "        vertical-align: middle;\n",
       "    }\n",
       "\n",
       "    .dataframe tbody tr th {\n",
       "        vertical-align: top;\n",
       "    }\n",
       "\n",
       "    .dataframe thead th {\n",
       "        text-align: right;\n",
       "    }\n",
       "</style>\n",
       "<table border=\"1\" class=\"dataframe\">\n",
       "  <thead>\n",
       "    <tr style=\"text-align: right;\">\n",
       "      <th></th>\n",
       "      <th>GGD getest</th>\n",
       "      <th>GGD getest positief</th>\n",
       "    </tr>\n",
       "    <tr>\n",
       "      <th>Datum</th>\n",
       "      <th></th>\n",
       "      <th></th>\n",
       "    </tr>\n",
       "  </thead>\n",
       "  <tbody>\n",
       "    <tr>\n",
       "      <th>2020-06-01</th>\n",
       "      <td>1552</td>\n",
       "      <td>73</td>\n",
       "    </tr>\n",
       "    <tr>\n",
       "      <th>2020-06-02</th>\n",
       "      <td>6819</td>\n",
       "      <td>203</td>\n",
       "    </tr>\n",
       "    <tr>\n",
       "      <th>2020-06-03</th>\n",
       "      <td>8867</td>\n",
       "      <td>165</td>\n",
       "    </tr>\n",
       "    <tr>\n",
       "      <th>2020-06-04</th>\n",
       "      <td>9339</td>\n",
       "      <td>171</td>\n",
       "    </tr>\n",
       "    <tr>\n",
       "      <th>2020-06-05</th>\n",
       "      <td>9464</td>\n",
       "      <td>135</td>\n",
       "    </tr>\n",
       "    <tr>\n",
       "      <th>...</th>\n",
       "      <td>...</td>\n",
       "      <td>...</td>\n",
       "    </tr>\n",
       "    <tr>\n",
       "      <th>2021-02-18</th>\n",
       "      <td>41946</td>\n",
       "      <td>4124</td>\n",
       "    </tr>\n",
       "    <tr>\n",
       "      <th>2021-02-19</th>\n",
       "      <td>39794</td>\n",
       "      <td>4071</td>\n",
       "    </tr>\n",
       "    <tr>\n",
       "      <th>2021-02-20</th>\n",
       "      <td>35565</td>\n",
       "      <td>3451</td>\n",
       "    </tr>\n",
       "    <tr>\n",
       "      <th>2021-02-21</th>\n",
       "      <td>31892</td>\n",
       "      <td>3300</td>\n",
       "    </tr>\n",
       "    <tr>\n",
       "      <th>2021-02-22</th>\n",
       "      <td>48073</td>\n",
       "      <td>4549</td>\n",
       "    </tr>\n",
       "  </tbody>\n",
       "</table>\n",
       "<p>267 rows × 2 columns</p>\n",
       "</div>"
      ],
      "text/plain": [
       "            GGD getest  GGD getest positief\n",
       "Datum                                      \n",
       "2020-06-01        1552                   73\n",
       "2020-06-02        6819                  203\n",
       "2020-06-03        8867                  165\n",
       "2020-06-04        9339                  171\n",
       "2020-06-05        9464                  135\n",
       "...                ...                  ...\n",
       "2021-02-18       41946                 4124\n",
       "2021-02-19       39794                 4071\n",
       "2021-02-20       35565                 3451\n",
       "2021-02-21       31892                 3300\n",
       "2021-02-22       48073                 4549\n",
       "\n",
       "[267 rows x 2 columns]"
      ]
     },
     "metadata": {},
     "output_type": "display_data"
    },
    {
     "data": {
      "text/html": [
       "<div>\n",
       "<style scoped>\n",
       "    .dataframe tbody tr th:only-of-type {\n",
       "        vertical-align: middle;\n",
       "    }\n",
       "\n",
       "    .dataframe tbody tr th {\n",
       "        vertical-align: top;\n",
       "    }\n",
       "\n",
       "    .dataframe thead th {\n",
       "        text-align: right;\n",
       "    }\n",
       "</style>\n",
       "<table border=\"1\" class=\"dataframe\">\n",
       "  <thead>\n",
       "    <tr style=\"text-align: right;\">\n",
       "      <th></th>\n",
       "      <th>Datum</th>\n",
       "      <th>LandCode</th>\n",
       "      <th>NICE IC Bedden (intake)</th>\n",
       "      <th>NICE IC Bedden (cumulatief)</th>\n",
       "      <th>NICE IC Bedden</th>\n",
       "      <th>NICE IC Overleden</th>\n",
       "      <th>NICE Ziekenhuis Bedden (intake)</th>\n",
       "      <th>NICE Ziekenhuis Bedden (cumulatief)</th>\n",
       "      <th>NICE Ziekenhuis Bedden</th>\n",
       "      <th>NICE Ziekenhuis Overleden</th>\n",
       "      <th>...</th>\n",
       "      <th>Besmettelijk per 100.000</th>\n",
       "      <th>GGD getest</th>\n",
       "      <th>GGD getest positief</th>\n",
       "      <th>GGD percentage positief</th>\n",
       "      <th>GGD getest (7 daags)</th>\n",
       "      <th>GGD getest positief (7 daags)</th>\n",
       "      <th>GGD percentage positief (7 daags)</th>\n",
       "      <th>GGD getest (cumulatief)</th>\n",
       "      <th>GGD getest positief (cumulatief)</th>\n",
       "      <th>GGD percentage positief (cumulatief)</th>\n",
       "    </tr>\n",
       "    <tr>\n",
       "      <th>Key</th>\n",
       "      <th></th>\n",
       "      <th></th>\n",
       "      <th></th>\n",
       "      <th></th>\n",
       "      <th></th>\n",
       "      <th></th>\n",
       "      <th></th>\n",
       "      <th></th>\n",
       "      <th></th>\n",
       "      <th></th>\n",
       "      <th></th>\n",
       "      <th></th>\n",
       "      <th></th>\n",
       "      <th></th>\n",
       "      <th></th>\n",
       "      <th></th>\n",
       "      <th></th>\n",
       "      <th></th>\n",
       "      <th></th>\n",
       "      <th></th>\n",
       "      <th></th>\n",
       "    </tr>\n",
       "  </thead>\n",
       "  <tbody>\n",
       "    <tr>\n",
       "      <th>2020-02-27</th>\n",
       "      <td>2020-02-27</td>\n",
       "      <td>NL</td>\n",
       "      <td>1</td>\n",
       "      <td>13</td>\n",
       "      <td>13</td>\n",
       "      <td>0</td>\n",
       "      <td>2</td>\n",
       "      <td>65</td>\n",
       "      <td>62</td>\n",
       "      <td>0</td>\n",
       "      <td>...</td>\n",
       "      <td>39.0</td>\n",
       "      <td>0.0</td>\n",
       "      <td>0.0</td>\n",
       "      <td>0.0</td>\n",
       "      <td>0.0</td>\n",
       "      <td>0.0</td>\n",
       "      <td>0.0</td>\n",
       "      <td>0.0</td>\n",
       "      <td>0.0</td>\n",
       "      <td>0.0</td>\n",
       "    </tr>\n",
       "    <tr>\n",
       "      <th>2020-02-28</th>\n",
       "      <td>2020-02-28</td>\n",
       "      <td>NL</td>\n",
       "      <td>0</td>\n",
       "      <td>14</td>\n",
       "      <td>14</td>\n",
       "      <td>0</td>\n",
       "      <td>4</td>\n",
       "      <td>69</td>\n",
       "      <td>66</td>\n",
       "      <td>0</td>\n",
       "      <td>...</td>\n",
       "      <td>49.0</td>\n",
       "      <td>0.0</td>\n",
       "      <td>0.0</td>\n",
       "      <td>0.0</td>\n",
       "      <td>0.0</td>\n",
       "      <td>0.0</td>\n",
       "      <td>0.0</td>\n",
       "      <td>0.0</td>\n",
       "      <td>0.0</td>\n",
       "      <td>0.0</td>\n",
       "    </tr>\n",
       "    <tr>\n",
       "      <th>2020-02-29</th>\n",
       "      <td>2020-02-29</td>\n",
       "      <td>NL</td>\n",
       "      <td>0</td>\n",
       "      <td>15</td>\n",
       "      <td>15</td>\n",
       "      <td>0</td>\n",
       "      <td>1</td>\n",
       "      <td>70</td>\n",
       "      <td>66</td>\n",
       "      <td>0</td>\n",
       "      <td>...</td>\n",
       "      <td>61.0</td>\n",
       "      <td>0.0</td>\n",
       "      <td>0.0</td>\n",
       "      <td>0.0</td>\n",
       "      <td>0.0</td>\n",
       "      <td>0.0</td>\n",
       "      <td>0.0</td>\n",
       "      <td>0.0</td>\n",
       "      <td>0.0</td>\n",
       "      <td>0.0</td>\n",
       "    </tr>\n",
       "    <tr>\n",
       "      <th>2020-03-01</th>\n",
       "      <td>2020-03-01</td>\n",
       "      <td>NL</td>\n",
       "      <td>2</td>\n",
       "      <td>17</td>\n",
       "      <td>17</td>\n",
       "      <td>0</td>\n",
       "      <td>7</td>\n",
       "      <td>77</td>\n",
       "      <td>73</td>\n",
       "      <td>0</td>\n",
       "      <td>...</td>\n",
       "      <td>75.0</td>\n",
       "      <td>0.0</td>\n",
       "      <td>0.0</td>\n",
       "      <td>0.0</td>\n",
       "      <td>0.0</td>\n",
       "      <td>0.0</td>\n",
       "      <td>0.0</td>\n",
       "      <td>0.0</td>\n",
       "      <td>0.0</td>\n",
       "      <td>0.0</td>\n",
       "    </tr>\n",
       "    <tr>\n",
       "      <th>2020-03-02</th>\n",
       "      <td>2020-03-02</td>\n",
       "      <td>NL</td>\n",
       "      <td>0</td>\n",
       "      <td>17</td>\n",
       "      <td>16</td>\n",
       "      <td>0</td>\n",
       "      <td>10</td>\n",
       "      <td>88</td>\n",
       "      <td>84</td>\n",
       "      <td>0</td>\n",
       "      <td>...</td>\n",
       "      <td>91.0</td>\n",
       "      <td>0.0</td>\n",
       "      <td>0.0</td>\n",
       "      <td>0.0</td>\n",
       "      <td>0.0</td>\n",
       "      <td>0.0</td>\n",
       "      <td>0.0</td>\n",
       "      <td>0.0</td>\n",
       "      <td>0.0</td>\n",
       "      <td>0.0</td>\n",
       "    </tr>\n",
       "    <tr>\n",
       "      <th>2020-03-03</th>\n",
       "      <td>2020-03-03</td>\n",
       "      <td>NL</td>\n",
       "      <td>1</td>\n",
       "      <td>19</td>\n",
       "      <td>18</td>\n",
       "      <td>0</td>\n",
       "      <td>8</td>\n",
       "      <td>96</td>\n",
       "      <td>91</td>\n",
       "      <td>0</td>\n",
       "      <td>...</td>\n",
       "      <td>111.0</td>\n",
       "      <td>0.0</td>\n",
       "      <td>0.0</td>\n",
       "      <td>0.0</td>\n",
       "      <td>0.0</td>\n",
       "      <td>0.0</td>\n",
       "      <td>0.0</td>\n",
       "      <td>0.0</td>\n",
       "      <td>0.0</td>\n",
       "      <td>0.0</td>\n",
       "    </tr>\n",
       "    <tr>\n",
       "      <th>2020-03-04</th>\n",
       "      <td>2020-03-04</td>\n",
       "      <td>NL</td>\n",
       "      <td>3</td>\n",
       "      <td>22</td>\n",
       "      <td>21</td>\n",
       "      <td>0</td>\n",
       "      <td>10</td>\n",
       "      <td>109</td>\n",
       "      <td>103</td>\n",
       "      <td>0</td>\n",
       "      <td>...</td>\n",
       "      <td>133.0</td>\n",
       "      <td>0.0</td>\n",
       "      <td>0.0</td>\n",
       "      <td>0.0</td>\n",
       "      <td>0.0</td>\n",
       "      <td>0.0</td>\n",
       "      <td>0.0</td>\n",
       "      <td>0.0</td>\n",
       "      <td>0.0</td>\n",
       "      <td>0.0</td>\n",
       "    </tr>\n",
       "    <tr>\n",
       "      <th>2020-03-05</th>\n",
       "      <td>2020-03-05</td>\n",
       "      <td>NL</td>\n",
       "      <td>1</td>\n",
       "      <td>24</td>\n",
       "      <td>21</td>\n",
       "      <td>0</td>\n",
       "      <td>11</td>\n",
       "      <td>120</td>\n",
       "      <td>112</td>\n",
       "      <td>0</td>\n",
       "      <td>...</td>\n",
       "      <td>158.0</td>\n",
       "      <td>0.0</td>\n",
       "      <td>0.0</td>\n",
       "      <td>0.0</td>\n",
       "      <td>0.0</td>\n",
       "      <td>0.0</td>\n",
       "      <td>0.0</td>\n",
       "      <td>0.0</td>\n",
       "      <td>0.0</td>\n",
       "      <td>0.0</td>\n",
       "    </tr>\n",
       "    <tr>\n",
       "      <th>2020-03-06</th>\n",
       "      <td>2020-03-06</td>\n",
       "      <td>NL</td>\n",
       "      <td>4</td>\n",
       "      <td>28</td>\n",
       "      <td>24</td>\n",
       "      <td>0</td>\n",
       "      <td>21</td>\n",
       "      <td>139</td>\n",
       "      <td>130</td>\n",
       "      <td>0</td>\n",
       "      <td>...</td>\n",
       "      <td>185.0</td>\n",
       "      <td>0.0</td>\n",
       "      <td>0.0</td>\n",
       "      <td>0.0</td>\n",
       "      <td>0.0</td>\n",
       "      <td>0.0</td>\n",
       "      <td>0.0</td>\n",
       "      <td>0.0</td>\n",
       "      <td>0.0</td>\n",
       "      <td>0.0</td>\n",
       "    </tr>\n",
       "    <tr>\n",
       "      <th>2020-03-07</th>\n",
       "      <td>2020-03-07</td>\n",
       "      <td>NL</td>\n",
       "      <td>3</td>\n",
       "      <td>31</td>\n",
       "      <td>26</td>\n",
       "      <td>0</td>\n",
       "      <td>7</td>\n",
       "      <td>147</td>\n",
       "      <td>138</td>\n",
       "      <td>1</td>\n",
       "      <td>...</td>\n",
       "      <td>217.0</td>\n",
       "      <td>0.0</td>\n",
       "      <td>0.0</td>\n",
       "      <td>0.0</td>\n",
       "      <td>0.0</td>\n",
       "      <td>0.0</td>\n",
       "      <td>0.0</td>\n",
       "      <td>0.0</td>\n",
       "      <td>0.0</td>\n",
       "      <td>0.0</td>\n",
       "    </tr>\n",
       "  </tbody>\n",
       "</table>\n",
       "<p>10 rows × 45 columns</p>\n",
       "</div>"
      ],
      "text/plain": [
       "                 Datum LandCode  NICE IC Bedden (intake)  \\\n",
       "Key                                                        \n",
       "2020-02-27  2020-02-27       NL                        1   \n",
       "2020-02-28  2020-02-28       NL                        0   \n",
       "2020-02-29  2020-02-29       NL                        0   \n",
       "2020-03-01  2020-03-01       NL                        2   \n",
       "2020-03-02  2020-03-02       NL                        0   \n",
       "2020-03-03  2020-03-03       NL                        1   \n",
       "2020-03-04  2020-03-04       NL                        3   \n",
       "2020-03-05  2020-03-05       NL                        1   \n",
       "2020-03-06  2020-03-06       NL                        4   \n",
       "2020-03-07  2020-03-07       NL                        3   \n",
       "\n",
       "            NICE IC Bedden (cumulatief)  NICE IC Bedden  NICE IC Overleden  \\\n",
       "Key                                                                          \n",
       "2020-02-27                           13              13                  0   \n",
       "2020-02-28                           14              14                  0   \n",
       "2020-02-29                           15              15                  0   \n",
       "2020-03-01                           17              17                  0   \n",
       "2020-03-02                           17              16                  0   \n",
       "2020-03-03                           19              18                  0   \n",
       "2020-03-04                           22              21                  0   \n",
       "2020-03-05                           24              21                  0   \n",
       "2020-03-06                           28              24                  0   \n",
       "2020-03-07                           31              26                  0   \n",
       "\n",
       "            NICE Ziekenhuis Bedden (intake)  \\\n",
       "Key                                           \n",
       "2020-02-27                                2   \n",
       "2020-02-28                                4   \n",
       "2020-02-29                                1   \n",
       "2020-03-01                                7   \n",
       "2020-03-02                               10   \n",
       "2020-03-03                                8   \n",
       "2020-03-04                               10   \n",
       "2020-03-05                               11   \n",
       "2020-03-06                               21   \n",
       "2020-03-07                                7   \n",
       "\n",
       "            NICE Ziekenhuis Bedden (cumulatief)  NICE Ziekenhuis Bedden  \\\n",
       "Key                                                                       \n",
       "2020-02-27                                   65                      62   \n",
       "2020-02-28                                   69                      66   \n",
       "2020-02-29                                   70                      66   \n",
       "2020-03-01                                   77                      73   \n",
       "2020-03-02                                   88                      84   \n",
       "2020-03-03                                   96                      91   \n",
       "2020-03-04                                  109                     103   \n",
       "2020-03-05                                  120                     112   \n",
       "2020-03-06                                  139                     130   \n",
       "2020-03-07                                  147                     138   \n",
       "\n",
       "            NICE Ziekenhuis Overleden  ...  Besmettelijk per 100.000  \\\n",
       "Key                                    ...                             \n",
       "2020-02-27                          0  ...                      39.0   \n",
       "2020-02-28                          0  ...                      49.0   \n",
       "2020-02-29                          0  ...                      61.0   \n",
       "2020-03-01                          0  ...                      75.0   \n",
       "2020-03-02                          0  ...                      91.0   \n",
       "2020-03-03                          0  ...                     111.0   \n",
       "2020-03-04                          0  ...                     133.0   \n",
       "2020-03-05                          0  ...                     158.0   \n",
       "2020-03-06                          0  ...                     185.0   \n",
       "2020-03-07                          1  ...                     217.0   \n",
       "\n",
       "            GGD getest  GGD getest positief  GGD percentage positief  \\\n",
       "Key                                                                    \n",
       "2020-02-27         0.0                  0.0                      0.0   \n",
       "2020-02-28         0.0                  0.0                      0.0   \n",
       "2020-02-29         0.0                  0.0                      0.0   \n",
       "2020-03-01         0.0                  0.0                      0.0   \n",
       "2020-03-02         0.0                  0.0                      0.0   \n",
       "2020-03-03         0.0                  0.0                      0.0   \n",
       "2020-03-04         0.0                  0.0                      0.0   \n",
       "2020-03-05         0.0                  0.0                      0.0   \n",
       "2020-03-06         0.0                  0.0                      0.0   \n",
       "2020-03-07         0.0                  0.0                      0.0   \n",
       "\n",
       "            GGD getest (7 daags)  GGD getest positief (7 daags)  \\\n",
       "Key                                                               \n",
       "2020-02-27                   0.0                            0.0   \n",
       "2020-02-28                   0.0                            0.0   \n",
       "2020-02-29                   0.0                            0.0   \n",
       "2020-03-01                   0.0                            0.0   \n",
       "2020-03-02                   0.0                            0.0   \n",
       "2020-03-03                   0.0                            0.0   \n",
       "2020-03-04                   0.0                            0.0   \n",
       "2020-03-05                   0.0                            0.0   \n",
       "2020-03-06                   0.0                            0.0   \n",
       "2020-03-07                   0.0                            0.0   \n",
       "\n",
       "            GGD percentage positief (7 daags)  GGD getest (cumulatief)  \\\n",
       "Key                                                                      \n",
       "2020-02-27                                0.0                      0.0   \n",
       "2020-02-28                                0.0                      0.0   \n",
       "2020-02-29                                0.0                      0.0   \n",
       "2020-03-01                                0.0                      0.0   \n",
       "2020-03-02                                0.0                      0.0   \n",
       "2020-03-03                                0.0                      0.0   \n",
       "2020-03-04                                0.0                      0.0   \n",
       "2020-03-05                                0.0                      0.0   \n",
       "2020-03-06                                0.0                      0.0   \n",
       "2020-03-07                                0.0                      0.0   \n",
       "\n",
       "            GGD getest positief (cumulatief)  \\\n",
       "Key                                            \n",
       "2020-02-27                               0.0   \n",
       "2020-02-28                               0.0   \n",
       "2020-02-29                               0.0   \n",
       "2020-03-01                               0.0   \n",
       "2020-03-02                               0.0   \n",
       "2020-03-03                               0.0   \n",
       "2020-03-04                               0.0   \n",
       "2020-03-05                               0.0   \n",
       "2020-03-06                               0.0   \n",
       "2020-03-07                               0.0   \n",
       "\n",
       "            GGD percentage positief (cumulatief)  \n",
       "Key                                               \n",
       "2020-02-27                                   0.0  \n",
       "2020-02-28                                   0.0  \n",
       "2020-02-29                                   0.0  \n",
       "2020-03-01                                   0.0  \n",
       "2020-03-02                                   0.0  \n",
       "2020-03-03                                   0.0  \n",
       "2020-03-04                                   0.0  \n",
       "2020-03-05                                   0.0  \n",
       "2020-03-06                                   0.0  \n",
       "2020-03-07                                   0.0  \n",
       "\n",
       "[10 rows x 45 columns]"
      ]
     },
     "metadata": {},
     "output_type": "display_data"
    }
   ],
   "source": [
    "@run\n",
    "def cell():\n",
    "  df = RIVM.csv('COVID-19_uitgevoerde_testen').rename(columns={\n",
    "    'Date_of_statistics': 'Datum',\n",
    "    'Tested_with_result': 'GGD getest',\n",
    "    'Tested_positive': 'GGD getest positief',\n",
    "  })\n",
    "  df['Datum'] = pd.to_datetime(df.Datum)\n",
    "  df = df.groupby(['Datum']).agg({'GGD getest': 'sum', 'GGD getest positief': 'sum'})\n",
    "  display(df)\n",
    "\n",
    "  global dagoverzicht\n",
    "  columns = dagoverzicht.columns\n",
    "\n",
    "  dagoverzicht = dagoverzicht.merge(df, how='left', left_index=True, right_index=True)\n",
    "\n",
    "  dagoverzicht['GGD percentage positief'] = (dagoverzicht['GGD getest positief'] / dagoverzicht['GGD getest']).fillna(0)\n",
    "\n",
    "  dagoverzicht['GGD getest (7 daags)'] = dagoverzicht['GGD getest'].rolling(7).sum().fillna(0)\n",
    "  dagoverzicht['GGD getest positief (7 daags)'] = dagoverzicht['GGD getest positief'].rolling(7).sum().fillna(0)\n",
    "\n",
    "  dagoverzicht['GGD percentage positief (7 daags)'] = (dagoverzicht['GGD getest positief (7 daags)'] / dagoverzicht['GGD getest (7 daags)']).fillna(0)\n",
    "\n",
    "  dagoverzicht['GGD getest (cumulatief)'] = dagoverzicht['GGD getest'].cumsum()\n",
    "  dagoverzicht['GGD getest positief (cumulatief)'] = dagoverzicht['GGD getest positief'].cumsum()\n",
    "\n",
    "  dagoverzicht['GGD percentage positief (cumulatief)'] = (dagoverzicht['GGD getest positief (cumulatief)'] / dagoverzicht['GGD getest (cumulatief)']).fillna(0)\n",
    "\n",
    "  # fill 0 *after* the calculations above to prevent summing 'GGD getest (7 daags) from the starting date of the 'GGD getest' series\n",
    "  for col in dagoverzicht.columns:\n",
    "    # only zero out new columns\n",
    "    if col in columns: continue\n",
    "    dagoverzicht[col] = dagoverzicht[col].fillna(0)\n",
    "\n",
    "  display(dagoverzicht.head(10))"
   ]
  },
  {
   "cell_type": "code",
   "execution_count": 7,
   "id": "refined-portable",
   "metadata": {
    "execution": {
     "iopub.execute_input": "2021-02-24T17:00:37.023818Z",
     "iopub.status.busy": "2021-02-24T17:00:37.023253Z",
     "iopub.status.idle": "2021-02-24T17:00:37.466993Z",
     "shell.execute_reply": "2021-02-24T17:00:37.467540Z"
    },
    "lines_to_next_cell": 1,
    "papermill": {
     "duration": 0.464938,
     "end_time": "2021-02-24T17:00:37.467786",
     "exception": false,
     "start_time": "2021-02-24T17:00:37.002848",
     "status": "completed"
    },
    "tags": [],
    "title": "LCPS"
   },
   "outputs": [
    {
     "name": "stdout",
     "output_type": "stream",
     "text": [
      "lcps/covid-19-2021-02-24@13-00.csv exists\n",
      "loading lcps/covid-19-2021-02-24@13-00.csv.gz\n"
     ]
    }
   ],
   "source": [
    "@run\n",
    "def cell():\n",
    "  # laad dataset\n",
    "  df = LCPS.csv('covid-19').rename(columns={\n",
    "    'IC_Bedden_COVID': 'LCPS IC Bedden COVID',\n",
    "    'IC_Bedden_Non_COVID': 'LCPS IC Bedden Non COVID',\n",
    "    'Kliniek_Bedden': 'LCPS Kliniek Bedden COVID',\n",
    "    'IC_Nieuwe_Opnames_COVID': 'LCPS IC Nieuwe Opnames COVID',\n",
    "    'Kliniek_Nieuwe_Opnames_COVID': 'LCPS Kliniek Nieuwe Opnames COVID',\n",
    "  })\n",
    "  # datum naar datetime index voor merge\n",
    "  df['Datum'] = pd.to_datetime(df['Datum'], format='%d-%m-%Y')\n",
    "  df.set_index('Datum', inplace=True)\n",
    "\n",
    "  # sommeer op datum\n",
    "  df = df.groupby(['Datum']).agg({col: 'sum' for col in df.columns})\n",
    "\n",
    "  # toename = waarde - vorige\n",
    "  df['LCPS IC Bedden COVID (toename)'] = (df['LCPS IC Bedden COVID'] - df['LCPS IC Bedden COVID'].shift(1)).fillna(0)\n",
    "  df['LCPS Kliniek Bedden COVID (toename)'] = (df['LCPS Kliniek Bedden COVID'] - df['LCPS Kliniek Bedden COVID'].shift(1)).fillna(0)\n",
    "\n",
    "  global dagoverzicht\n",
    "  # voeg toe aan dagoverzicht\n",
    "  dagoverzicht = dagoverzicht.merge(df, how='left', left_index=True, right_index=True)\n",
    "  for col in df.columns:\n",
    "    # vervang lege waarden door 0\n",
    "    dagoverzicht[col] = dagoverzicht[col].fillna(0).astype(int)"
   ]
  },
  {
   "cell_type": "code",
   "execution_count": 8,
   "id": "upper-honey",
   "metadata": {
    "execution": {
     "iopub.execute_input": "2021-02-24T17:00:37.502654Z",
     "iopub.status.busy": "2021-02-24T17:00:37.502073Z",
     "iopub.status.idle": "2021-02-24T17:00:37.739554Z",
     "shell.execute_reply": "2021-02-24T17:00:37.740393Z"
    },
    "lines_to_next_cell": 1,
    "papermill": {
     "duration": 0.257728,
     "end_time": "2021-02-24T17:00:37.740539",
     "exception": false,
     "start_time": "2021-02-24T17:00:37.482811",
     "status": "completed"
    },
    "tags": [],
    "title": "corrections"
   },
   "outputs": [
    {
     "name": "stdout",
     "output_type": "stream",
     "text": [
      "https://api.github.com/repos/mzelst/covid-19/contents/corrections/corrections_perday.csv\n",
      "downloading github/corrections_perday-2021-02-24@14-43.csv\n"
     ]
    },
    {
     "name": "stdout",
     "output_type": "stream",
     "text": [
      "github corrections_perday zipping github/corrections_perday-2021-02-24@14-43.csv\n",
      "removing obsolete github/corrections_perday-2021-02-24@11-24.csv.gz\n",
      "1 github corrections_perday files, pruning 0, keeping 1\n"
     ]
    }
   ],
   "source": [
    "@run\n",
    "def cell():\n",
    "  # laad corrections van mzelst\n",
    "  df = GitHub.csv('mzelst/covid-19/contents/corrections/corrections_perday.csv')\n",
    "  # date naar datetime index voor merge\n",
    "  df['date'] = pd.to_datetime(df.date)\n",
    "  df.set_index('date', inplace=True)\n",
    "  columns =  {\n",
    "    'net.infection': 'Positief getest (toename)',\n",
    "    'net.hospitals': 'Ziekenhuisopnames (toename)',\n",
    "    'net.deaths': 'Overleden (toename)'\n",
    "  }\n",
    "  # rename kolommen naar onze namen\n",
    "  df = df.rename(columns=columns)[list(columns.values())]\n",
    "\n",
    "  global dagoverzicht\n",
    "  # voeg toe aan dagoverxicht\n",
    "  dagoverzicht = dagoverzicht.merge(df, how='left', left_index=True, right_index=True)\n",
    "  for col in columns.values():\n",
    "    # set lege waarden op 0\n",
    "    dagoverzicht[col] = dagoverzicht[col].fillna(0).astype(int)"
   ]
  },
  {
   "cell_type": "code",
   "execution_count": 9,
   "id": "realistic-portfolio",
   "metadata": {
    "execution": {
     "iopub.execute_input": "2021-02-24T17:00:37.780554Z",
     "iopub.status.busy": "2021-02-24T17:00:37.774193Z",
     "iopub.status.idle": "2021-02-24T17:00:37.818713Z",
     "shell.execute_reply": "2021-02-24T17:00:37.819291Z"
    },
    "lines_to_next_cell": 1,
    "papermill": {
     "duration": 0.0637,
     "end_time": "2021-02-24T17:00:37.819505",
     "exception": false,
     "start_time": "2021-02-24T17:00:37.755805",
     "status": "completed"
    },
    "tags": [],
    "title": "Personen"
   },
   "outputs": [
    {
     "data": {
      "text/html": [
       "<div>\n",
       "<style scoped>\n",
       "    .dataframe tbody tr th:only-of-type {\n",
       "        vertical-align: middle;\n",
       "    }\n",
       "\n",
       "    .dataframe tbody tr th {\n",
       "        vertical-align: top;\n",
       "    }\n",
       "\n",
       "    .dataframe thead th {\n",
       "        text-align: right;\n",
       "    }\n",
       "</style>\n",
       "<table border=\"1\" class=\"dataframe\">\n",
       "  <thead>\n",
       "    <tr style=\"text-align: right;\">\n",
       "      <th></th>\n",
       "      <th>Datum</th>\n",
       "      <th>LandCode</th>\n",
       "      <th>NICE IC Bedden (intake)</th>\n",
       "      <th>NICE IC Bedden (cumulatief)</th>\n",
       "      <th>NICE IC Bedden</th>\n",
       "      <th>NICE IC Overleden</th>\n",
       "      <th>NICE Ziekenhuis Bedden (intake)</th>\n",
       "      <th>NICE Ziekenhuis Bedden (cumulatief)</th>\n",
       "      <th>NICE Ziekenhuis Bedden</th>\n",
       "      <th>NICE Ziekenhuis Overleden</th>\n",
       "      <th>...</th>\n",
       "      <th>LCPS IC Bedden Non COVID</th>\n",
       "      <th>LCPS Kliniek Bedden COVID</th>\n",
       "      <th>LCPS IC Nieuwe Opnames COVID</th>\n",
       "      <th>LCPS Kliniek Nieuwe Opnames COVID</th>\n",
       "      <th>LCPS IC Bedden COVID (toename)</th>\n",
       "      <th>LCPS Kliniek Bedden COVID (toename)</th>\n",
       "      <th>Positief getest (toename)</th>\n",
       "      <th>Ziekenhuisopnames (toename)</th>\n",
       "      <th>Overleden (toename)</th>\n",
       "      <th>Personen</th>\n",
       "    </tr>\n",
       "    <tr>\n",
       "      <th>Key</th>\n",
       "      <th></th>\n",
       "      <th></th>\n",
       "      <th></th>\n",
       "      <th></th>\n",
       "      <th></th>\n",
       "      <th></th>\n",
       "      <th></th>\n",
       "      <th></th>\n",
       "      <th></th>\n",
       "      <th></th>\n",
       "      <th></th>\n",
       "      <th></th>\n",
       "      <th></th>\n",
       "      <th></th>\n",
       "      <th></th>\n",
       "      <th></th>\n",
       "      <th></th>\n",
       "      <th></th>\n",
       "      <th></th>\n",
       "      <th></th>\n",
       "      <th></th>\n",
       "    </tr>\n",
       "  </thead>\n",
       "  <tbody>\n",
       "    <tr>\n",
       "      <th>2020-02-27</th>\n",
       "      <td>2020-02-27</td>\n",
       "      <td>NL</td>\n",
       "      <td>1</td>\n",
       "      <td>13</td>\n",
       "      <td>13</td>\n",
       "      <td>0</td>\n",
       "      <td>2</td>\n",
       "      <td>65</td>\n",
       "      <td>62</td>\n",
       "      <td>0</td>\n",
       "      <td>...</td>\n",
       "      <td>0</td>\n",
       "      <td>1</td>\n",
       "      <td>0</td>\n",
       "      <td>0</td>\n",
       "      <td>0</td>\n",
       "      <td>0</td>\n",
       "      <td>0</td>\n",
       "      <td>0</td>\n",
       "      <td>0</td>\n",
       "      <td>17474693</td>\n",
       "    </tr>\n",
       "    <tr>\n",
       "      <th>2020-02-28</th>\n",
       "      <td>2020-02-28</td>\n",
       "      <td>NL</td>\n",
       "      <td>0</td>\n",
       "      <td>14</td>\n",
       "      <td>14</td>\n",
       "      <td>0</td>\n",
       "      <td>4</td>\n",
       "      <td>69</td>\n",
       "      <td>66</td>\n",
       "      <td>0</td>\n",
       "      <td>...</td>\n",
       "      <td>0</td>\n",
       "      <td>9</td>\n",
       "      <td>0</td>\n",
       "      <td>0</td>\n",
       "      <td>1</td>\n",
       "      <td>8</td>\n",
       "      <td>0</td>\n",
       "      <td>0</td>\n",
       "      <td>0</td>\n",
       "      <td>17474693</td>\n",
       "    </tr>\n",
       "    <tr>\n",
       "      <th>2020-02-29</th>\n",
       "      <td>2020-02-29</td>\n",
       "      <td>NL</td>\n",
       "      <td>0</td>\n",
       "      <td>15</td>\n",
       "      <td>15</td>\n",
       "      <td>0</td>\n",
       "      <td>1</td>\n",
       "      <td>70</td>\n",
       "      <td>66</td>\n",
       "      <td>0</td>\n",
       "      <td>...</td>\n",
       "      <td>0</td>\n",
       "      <td>10</td>\n",
       "      <td>0</td>\n",
       "      <td>0</td>\n",
       "      <td>1</td>\n",
       "      <td>1</td>\n",
       "      <td>0</td>\n",
       "      <td>0</td>\n",
       "      <td>0</td>\n",
       "      <td>17474693</td>\n",
       "    </tr>\n",
       "    <tr>\n",
       "      <th>2020-03-01</th>\n",
       "      <td>2020-03-01</td>\n",
       "      <td>NL</td>\n",
       "      <td>2</td>\n",
       "      <td>17</td>\n",
       "      <td>17</td>\n",
       "      <td>0</td>\n",
       "      <td>7</td>\n",
       "      <td>77</td>\n",
       "      <td>73</td>\n",
       "      <td>0</td>\n",
       "      <td>...</td>\n",
       "      <td>0</td>\n",
       "      <td>20</td>\n",
       "      <td>0</td>\n",
       "      <td>0</td>\n",
       "      <td>2</td>\n",
       "      <td>10</td>\n",
       "      <td>0</td>\n",
       "      <td>0</td>\n",
       "      <td>0</td>\n",
       "      <td>17474693</td>\n",
       "    </tr>\n",
       "    <tr>\n",
       "      <th>2020-03-02</th>\n",
       "      <td>2020-03-02</td>\n",
       "      <td>NL</td>\n",
       "      <td>0</td>\n",
       "      <td>17</td>\n",
       "      <td>16</td>\n",
       "      <td>0</td>\n",
       "      <td>10</td>\n",
       "      <td>88</td>\n",
       "      <td>84</td>\n",
       "      <td>0</td>\n",
       "      <td>...</td>\n",
       "      <td>0</td>\n",
       "      <td>34</td>\n",
       "      <td>0</td>\n",
       "      <td>0</td>\n",
       "      <td>-1</td>\n",
       "      <td>14</td>\n",
       "      <td>0</td>\n",
       "      <td>0</td>\n",
       "      <td>0</td>\n",
       "      <td>17474693</td>\n",
       "    </tr>\n",
       "    <tr>\n",
       "      <th>...</th>\n",
       "      <td>...</td>\n",
       "      <td>...</td>\n",
       "      <td>...</td>\n",
       "      <td>...</td>\n",
       "      <td>...</td>\n",
       "      <td>...</td>\n",
       "      <td>...</td>\n",
       "      <td>...</td>\n",
       "      <td>...</td>\n",
       "      <td>...</td>\n",
       "      <td>...</td>\n",
       "      <td>...</td>\n",
       "      <td>...</td>\n",
       "      <td>...</td>\n",
       "      <td>...</td>\n",
       "      <td>...</td>\n",
       "      <td>...</td>\n",
       "      <td>...</td>\n",
       "      <td>...</td>\n",
       "      <td>...</td>\n",
       "      <td>...</td>\n",
       "    </tr>\n",
       "    <tr>\n",
       "      <th>2021-02-20</th>\n",
       "      <td>2021-02-20</td>\n",
       "      <td>NL</td>\n",
       "      <td>38</td>\n",
       "      <td>8528</td>\n",
       "      <td>543</td>\n",
       "      <td>2440</td>\n",
       "      <td>122</td>\n",
       "      <td>40278</td>\n",
       "      <td>1439</td>\n",
       "      <td>5902</td>\n",
       "      <td>...</td>\n",
       "      <td>502</td>\n",
       "      <td>1336</td>\n",
       "      <td>20</td>\n",
       "      <td>156</td>\n",
       "      <td>12</td>\n",
       "      <td>-97</td>\n",
       "      <td>4565</td>\n",
       "      <td>92</td>\n",
       "      <td>62</td>\n",
       "      <td>17474693</td>\n",
       "    </tr>\n",
       "    <tr>\n",
       "      <th>2021-02-21</th>\n",
       "      <td>2021-02-21</td>\n",
       "      <td>NL</td>\n",
       "      <td>35</td>\n",
       "      <td>8565</td>\n",
       "      <td>558</td>\n",
       "      <td>2445</td>\n",
       "      <td>122</td>\n",
       "      <td>40383</td>\n",
       "      <td>1439</td>\n",
       "      <td>5928</td>\n",
       "      <td>...</td>\n",
       "      <td>461</td>\n",
       "      <td>1315</td>\n",
       "      <td>34</td>\n",
       "      <td>123</td>\n",
       "      <td>12</td>\n",
       "      <td>-21</td>\n",
       "      <td>4674</td>\n",
       "      <td>42</td>\n",
       "      <td>17</td>\n",
       "      <td>17474693</td>\n",
       "    </tr>\n",
       "    <tr>\n",
       "      <th>2021-02-22</th>\n",
       "      <td>2021-02-22</td>\n",
       "      <td>NL</td>\n",
       "      <td>29</td>\n",
       "      <td>8597</td>\n",
       "      <td>566</td>\n",
       "      <td>2456</td>\n",
       "      <td>199</td>\n",
       "      <td>40599</td>\n",
       "      <td>1578</td>\n",
       "      <td>5949</td>\n",
       "      <td>...</td>\n",
       "      <td>439</td>\n",
       "      <td>1347</td>\n",
       "      <td>37</td>\n",
       "      <td>122</td>\n",
       "      <td>27</td>\n",
       "      <td>32</td>\n",
       "      <td>4162</td>\n",
       "      <td>65</td>\n",
       "      <td>32</td>\n",
       "      <td>17474693</td>\n",
       "    </tr>\n",
       "    <tr>\n",
       "      <th>2021-02-23</th>\n",
       "      <td>2021-02-23</td>\n",
       "      <td>NL</td>\n",
       "      <td>26</td>\n",
       "      <td>8623</td>\n",
       "      <td>555</td>\n",
       "      <td>2461</td>\n",
       "      <td>113</td>\n",
       "      <td>40730</td>\n",
       "      <td>1566</td>\n",
       "      <td>5962</td>\n",
       "      <td>...</td>\n",
       "      <td>480</td>\n",
       "      <td>1379</td>\n",
       "      <td>31</td>\n",
       "      <td>199</td>\n",
       "      <td>-23</td>\n",
       "      <td>32</td>\n",
       "      <td>3797</td>\n",
       "      <td>59</td>\n",
       "      <td>94</td>\n",
       "      <td>17474693</td>\n",
       "    </tr>\n",
       "    <tr>\n",
       "      <th>2021-02-24</th>\n",
       "      <td>2021-02-24</td>\n",
       "      <td>NL</td>\n",
       "      <td>8</td>\n",
       "      <td>8631</td>\n",
       "      <td>537</td>\n",
       "      <td>2462</td>\n",
       "      <td>15</td>\n",
       "      <td>40759</td>\n",
       "      <td>1435</td>\n",
       "      <td>5967</td>\n",
       "      <td>...</td>\n",
       "      <td>508</td>\n",
       "      <td>1350</td>\n",
       "      <td>20</td>\n",
       "      <td>151</td>\n",
       "      <td>-5</td>\n",
       "      <td>-29</td>\n",
       "      <td>4362</td>\n",
       "      <td>48</td>\n",
       "      <td>63</td>\n",
       "      <td>17474693</td>\n",
       "    </tr>\n",
       "  </tbody>\n",
       "</table>\n",
       "<p>364 rows × 56 columns</p>\n",
       "</div>"
      ],
      "text/plain": [
       "                 Datum LandCode  NICE IC Bedden (intake)  \\\n",
       "Key                                                        \n",
       "2020-02-27  2020-02-27       NL                        1   \n",
       "2020-02-28  2020-02-28       NL                        0   \n",
       "2020-02-29  2020-02-29       NL                        0   \n",
       "2020-03-01  2020-03-01       NL                        2   \n",
       "2020-03-02  2020-03-02       NL                        0   \n",
       "...                ...      ...                      ...   \n",
       "2021-02-20  2021-02-20       NL                       38   \n",
       "2021-02-21  2021-02-21       NL                       35   \n",
       "2021-02-22  2021-02-22       NL                       29   \n",
       "2021-02-23  2021-02-23       NL                       26   \n",
       "2021-02-24  2021-02-24       NL                        8   \n",
       "\n",
       "            NICE IC Bedden (cumulatief)  NICE IC Bedden  NICE IC Overleden  \\\n",
       "Key                                                                          \n",
       "2020-02-27                           13              13                  0   \n",
       "2020-02-28                           14              14                  0   \n",
       "2020-02-29                           15              15                  0   \n",
       "2020-03-01                           17              17                  0   \n",
       "2020-03-02                           17              16                  0   \n",
       "...                                 ...             ...                ...   \n",
       "2021-02-20                         8528             543               2440   \n",
       "2021-02-21                         8565             558               2445   \n",
       "2021-02-22                         8597             566               2456   \n",
       "2021-02-23                         8623             555               2461   \n",
       "2021-02-24                         8631             537               2462   \n",
       "\n",
       "            NICE Ziekenhuis Bedden (intake)  \\\n",
       "Key                                           \n",
       "2020-02-27                                2   \n",
       "2020-02-28                                4   \n",
       "2020-02-29                                1   \n",
       "2020-03-01                                7   \n",
       "2020-03-02                               10   \n",
       "...                                     ...   \n",
       "2021-02-20                              122   \n",
       "2021-02-21                              122   \n",
       "2021-02-22                              199   \n",
       "2021-02-23                              113   \n",
       "2021-02-24                               15   \n",
       "\n",
       "            NICE Ziekenhuis Bedden (cumulatief)  NICE Ziekenhuis Bedden  \\\n",
       "Key                                                                       \n",
       "2020-02-27                                   65                      62   \n",
       "2020-02-28                                   69                      66   \n",
       "2020-02-29                                   70                      66   \n",
       "2020-03-01                                   77                      73   \n",
       "2020-03-02                                   88                      84   \n",
       "...                                         ...                     ...   \n",
       "2021-02-20                                40278                    1439   \n",
       "2021-02-21                                40383                    1439   \n",
       "2021-02-22                                40599                    1578   \n",
       "2021-02-23                                40730                    1566   \n",
       "2021-02-24                                40759                    1435   \n",
       "\n",
       "            NICE Ziekenhuis Overleden  ...  LCPS IC Bedden Non COVID  \\\n",
       "Key                                    ...                             \n",
       "2020-02-27                          0  ...                         0   \n",
       "2020-02-28                          0  ...                         0   \n",
       "2020-02-29                          0  ...                         0   \n",
       "2020-03-01                          0  ...                         0   \n",
       "2020-03-02                          0  ...                         0   \n",
       "...                               ...  ...                       ...   \n",
       "2021-02-20                       5902  ...                       502   \n",
       "2021-02-21                       5928  ...                       461   \n",
       "2021-02-22                       5949  ...                       439   \n",
       "2021-02-23                       5962  ...                       480   \n",
       "2021-02-24                       5967  ...                       508   \n",
       "\n",
       "            LCPS Kliniek Bedden COVID  LCPS IC Nieuwe Opnames COVID  \\\n",
       "Key                                                                   \n",
       "2020-02-27                          1                             0   \n",
       "2020-02-28                          9                             0   \n",
       "2020-02-29                         10                             0   \n",
       "2020-03-01                         20                             0   \n",
       "2020-03-02                         34                             0   \n",
       "...                               ...                           ...   \n",
       "2021-02-20                       1336                            20   \n",
       "2021-02-21                       1315                            34   \n",
       "2021-02-22                       1347                            37   \n",
       "2021-02-23                       1379                            31   \n",
       "2021-02-24                       1350                            20   \n",
       "\n",
       "            LCPS Kliniek Nieuwe Opnames COVID  LCPS IC Bedden COVID (toename)  \\\n",
       "Key                                                                             \n",
       "2020-02-27                                  0                               0   \n",
       "2020-02-28                                  0                               1   \n",
       "2020-02-29                                  0                               1   \n",
       "2020-03-01                                  0                               2   \n",
       "2020-03-02                                  0                              -1   \n",
       "...                                       ...                             ...   \n",
       "2021-02-20                                156                              12   \n",
       "2021-02-21                                123                              12   \n",
       "2021-02-22                                122                              27   \n",
       "2021-02-23                                199                             -23   \n",
       "2021-02-24                                151                              -5   \n",
       "\n",
       "            LCPS Kliniek Bedden COVID (toename)  Positief getest (toename)  \\\n",
       "Key                                                                          \n",
       "2020-02-27                                    0                          0   \n",
       "2020-02-28                                    8                          0   \n",
       "2020-02-29                                    1                          0   \n",
       "2020-03-01                                   10                          0   \n",
       "2020-03-02                                   14                          0   \n",
       "...                                         ...                        ...   \n",
       "2021-02-20                                  -97                       4565   \n",
       "2021-02-21                                  -21                       4674   \n",
       "2021-02-22                                   32                       4162   \n",
       "2021-02-23                                   32                       3797   \n",
       "2021-02-24                                  -29                       4362   \n",
       "\n",
       "            Ziekenhuisopnames (toename)  Overleden (toename)  Personen  \n",
       "Key                                                                     \n",
       "2020-02-27                            0                    0  17474693  \n",
       "2020-02-28                            0                    0  17474693  \n",
       "2020-02-29                            0                    0  17474693  \n",
       "2020-03-01                            0                    0  17474693  \n",
       "2020-03-02                            0                    0  17474693  \n",
       "...                                 ...                  ...       ...  \n",
       "2021-02-20                           92                   62  17474693  \n",
       "2021-02-21                           42                   17  17474693  \n",
       "2021-02-22                           65                   32  17474693  \n",
       "2021-02-23                           59                   94  17474693  \n",
       "2021-02-24                           48                   63  17474693  \n",
       "\n",
       "[364 rows x 56 columns]"
      ]
     },
     "metadata": {},
     "output_type": "display_data"
    }
   ],
   "source": [
    "@run\n",
    "def cell():\n",
    "  global dagoverzicht\n",
    "  dagoverzicht['Personen'] = bevolking.BevolkingOpDeEersteVanDeMaand\n",
    "  display(dagoverzicht)"
   ]
  },
  {
   "cell_type": "code",
   "execution_count": 10,
   "id": "manual-candy",
   "metadata": {
    "execution": {
     "iopub.execute_input": "2021-02-24T17:00:37.856821Z",
     "iopub.status.busy": "2021-02-24T17:00:37.856213Z",
     "iopub.status.idle": "2021-02-24T17:02:16.497082Z",
     "shell.execute_reply": "2021-02-24T17:02:16.495578Z"
    },
    "lines_to_next_cell": 0,
    "papermill": {
     "duration": 98.661409,
     "end_time": "2021-02-24T17:02:16.497276",
     "exception": false,
     "start_time": "2021-02-24T17:00:37.835867",
     "status": "completed"
    },
    "tags": []
   },
   "outputs": [
    {
     "data": {
      "text/html": [
       "<div>\n",
       "<style scoped>\n",
       "    .dataframe tbody tr th:only-of-type {\n",
       "        vertical-align: middle;\n",
       "    }\n",
       "\n",
       "    .dataframe tbody tr th {\n",
       "        vertical-align: top;\n",
       "    }\n",
       "\n",
       "    .dataframe thead th {\n",
       "        text-align: right;\n",
       "    }\n",
       "</style>\n",
       "<table border=\"1\" class=\"dataframe\">\n",
       "  <thead>\n",
       "    <tr style=\"text-align: right;\">\n",
       "      <th></th>\n",
       "    </tr>\n",
       "    <tr>\n",
       "      <th>Key</th>\n",
       "    </tr>\n",
       "  </thead>\n",
       "  <tbody>\n",
       "  </tbody>\n",
       "</table>\n",
       "</div>"
      ],
      "text/plain": [
       "Empty DataFrame\n",
       "Columns: []\n",
       "Index: []"
      ]
     },
     "metadata": {},
     "output_type": "display_data"
    },
    {
     "data": {
      "text/html": [
       "<div>\n",
       "<style scoped>\n",
       "    .dataframe tbody tr th:only-of-type {\n",
       "        vertical-align: middle;\n",
       "    }\n",
       "\n",
       "    .dataframe tbody tr th {\n",
       "        vertical-align: top;\n",
       "    }\n",
       "\n",
       "    .dataframe thead th {\n",
       "        text-align: right;\n",
       "    }\n",
       "</style>\n",
       "<table border=\"1\" class=\"dataframe\">\n",
       "  <thead>\n",
       "    <tr style=\"text-align: right;\">\n",
       "      <th></th>\n",
       "    </tr>\n",
       "    <tr>\n",
       "      <th>Key</th>\n",
       "    </tr>\n",
       "  </thead>\n",
       "  <tbody>\n",
       "  </tbody>\n",
       "</table>\n",
       "</div>"
      ],
      "text/plain": [
       "Empty DataFrame\n",
       "Columns: []\n",
       "Index: []"
      ]
     },
     "metadata": {},
     "output_type": "display_data"
    },
    {
     "name": "stdout",
     "output_type": "stream",
     "text": [
      "updating knack\n"
     ]
    },
    {
     "name": "stderr",
     "output_type": "stream",
     "text": [
      "\r",
      "  0%|          | 0/356 [00:00<?, ?it/s]"
     ]
    },
    {
     "name": "stdout",
     "output_type": "stream",
     "text": [
      "356 knack actions ahead\n"
     ]
    },
    {
     "name": "stderr",
     "output_type": "stream",
     "text": [
      "\r",
      "  0%|          | 1/356 [00:00<05:06,  1.16it/s]"
     ]
    },
    {
     "name": "stderr",
     "output_type": "stream",
     "text": [
      "\r",
      "  1%|          | 3/356 [00:00<01:34,  3.72it/s]"
     ]
    },
    {
     "name": "stderr",
     "output_type": "stream",
     "text": [
      "\r",
      "  1%|▏         | 5/356 [00:01<01:15,  4.64it/s]"
     ]
    },
    {
     "name": "stderr",
     "output_type": "stream",
     "text": [
      "\r",
      "  2%|▏         | 6/356 [00:01<01:29,  3.89it/s]"
     ]
    },
    {
     "name": "stderr",
     "output_type": "stream",
     "text": [
      "\r",
      "  2%|▏         | 7/356 [00:01<01:22,  4.21it/s]"
     ]
    },
    {
     "name": "stderr",
     "output_type": "stream",
     "text": [
      "\r",
      "  2%|▏         | 8/356 [00:02<01:19,  4.40it/s]"
     ]
    },
    {
     "name": "stderr",
     "output_type": "stream",
     "text": [
      "\r",
      "  3%|▎         | 9/356 [00:02<01:12,  4.79it/s]"
     ]
    },
    {
     "name": "stderr",
     "output_type": "stream",
     "text": [
      "\r",
      "  3%|▎         | 11/356 [00:02<01:02,  5.48it/s]"
     ]
    },
    {
     "name": "stderr",
     "output_type": "stream",
     "text": [
      "\r",
      "  3%|▎         | 12/356 [00:02<01:11,  4.83it/s]"
     ]
    },
    {
     "name": "stderr",
     "output_type": "stream",
     "text": [
      "\r",
      "  4%|▎         | 13/356 [00:03<01:10,  4.88it/s]"
     ]
    },
    {
     "name": "stderr",
     "output_type": "stream",
     "text": [
      "\r",
      "  4%|▍         | 14/356 [00:04<02:24,  2.37it/s]"
     ]
    },
    {
     "name": "stderr",
     "output_type": "stream",
     "text": [
      "\r",
      "  4%|▍         | 15/356 [00:04<02:23,  2.38it/s]"
     ]
    },
    {
     "name": "stderr",
     "output_type": "stream",
     "text": [
      "\r",
      "  5%|▍         | 17/356 [00:04<01:37,  3.47it/s]"
     ]
    },
    {
     "name": "stderr",
     "output_type": "stream",
     "text": [
      "\r",
      "  5%|▌         | 18/356 [00:04<01:27,  3.86it/s]"
     ]
    },
    {
     "name": "stderr",
     "output_type": "stream",
     "text": [
      "\r",
      "  5%|▌         | 19/356 [00:05<01:47,  3.14it/s]"
     ]
    },
    {
     "name": "stderr",
     "output_type": "stream",
     "text": [
      "\r",
      "  6%|▌         | 20/356 [00:05<01:46,  3.15it/s]"
     ]
    },
    {
     "name": "stderr",
     "output_type": "stream",
     "text": [
      "\r",
      "  6%|▌         | 21/356 [00:05<01:43,  3.23it/s]"
     ]
    },
    {
     "name": "stderr",
     "output_type": "stream",
     "text": [
      "\r",
      "  6%|▌         | 22/356 [00:06<01:24,  3.96it/s]"
     ]
    },
    {
     "name": "stderr",
     "output_type": "stream",
     "text": [
      "\r",
      "  7%|▋         | 24/356 [00:06<01:01,  5.41it/s]"
     ]
    },
    {
     "name": "stderr",
     "output_type": "stream",
     "text": [
      "\r",
      "  7%|▋         | 25/356 [00:06<00:55,  5.98it/s]"
     ]
    },
    {
     "name": "stderr",
     "output_type": "stream",
     "text": [
      "\r",
      "  7%|▋         | 26/356 [00:06<01:01,  5.35it/s]"
     ]
    },
    {
     "name": "stderr",
     "output_type": "stream",
     "text": [
      "\r",
      "  8%|▊         | 27/356 [00:06<00:57,  5.69it/s]"
     ]
    },
    {
     "name": "stderr",
     "output_type": "stream",
     "text": [
      "\r",
      "  8%|▊         | 28/356 [00:07<01:18,  4.18it/s]"
     ]
    },
    {
     "name": "stderr",
     "output_type": "stream",
     "text": [
      "\r",
      "  8%|▊         | 29/356 [00:07<01:11,  4.58it/s]"
     ]
    },
    {
     "name": "stderr",
     "output_type": "stream",
     "text": [
      "\r",
      "  8%|▊         | 30/356 [00:07<01:18,  4.14it/s]"
     ]
    },
    {
     "name": "stderr",
     "output_type": "stream",
     "text": [
      "\r",
      "  9%|▊         | 31/356 [00:07<01:17,  4.20it/s]"
     ]
    },
    {
     "name": "stderr",
     "output_type": "stream",
     "text": [
      "\r",
      "  9%|▉         | 32/356 [00:08<01:53,  2.86it/s]"
     ]
    },
    {
     "name": "stderr",
     "output_type": "stream",
     "text": [
      "\r",
      "  9%|▉         | 33/356 [00:08<01:56,  2.78it/s]"
     ]
    },
    {
     "name": "stderr",
     "output_type": "stream",
     "text": [
      "\r",
      " 10%|▉         | 34/356 [00:09<02:08,  2.51it/s]"
     ]
    },
    {
     "name": "stderr",
     "output_type": "stream",
     "text": [
      "\r",
      " 10%|▉         | 35/356 [00:09<02:14,  2.39it/s]"
     ]
    },
    {
     "name": "stderr",
     "output_type": "stream",
     "text": [
      "\r",
      " 10%|█         | 36/356 [00:10<02:01,  2.63it/s]"
     ]
    },
    {
     "name": "stderr",
     "output_type": "stream",
     "text": [
      "\r",
      " 10%|█         | 37/356 [00:10<01:39,  3.22it/s]"
     ]
    },
    {
     "name": "stderr",
     "output_type": "stream",
     "text": [
      "\r",
      " 11%|█         | 40/356 [00:10<00:59,  5.31it/s]"
     ]
    },
    {
     "name": "stderr",
     "output_type": "stream",
     "text": [
      "\r",
      " 12%|█▏        | 41/356 [00:10<01:08,  4.60it/s]"
     ]
    },
    {
     "name": "stderr",
     "output_type": "stream",
     "text": [
      "\r",
      " 12%|█▏        | 42/356 [00:11<01:12,  4.33it/s]"
     ]
    },
    {
     "name": "stderr",
     "output_type": "stream",
     "text": [
      "\r",
      " 12%|█▏        | 43/356 [00:11<01:22,  3.78it/s]"
     ]
    },
    {
     "name": "stderr",
     "output_type": "stream",
     "text": [
      "\r",
      " 13%|█▎        | 45/356 [00:11<00:56,  5.54it/s]"
     ]
    },
    {
     "name": "stderr",
     "output_type": "stream",
     "text": [
      "\r",
      " 13%|█▎        | 46/356 [00:12<01:13,  4.22it/s]"
     ]
    },
    {
     "name": "stderr",
     "output_type": "stream",
     "text": [
      "\r",
      " 13%|█▎        | 47/356 [00:12<01:14,  4.15it/s]"
     ]
    },
    {
     "name": "stderr",
     "output_type": "stream",
     "text": [
      "\r",
      " 13%|█▎        | 48/356 [00:12<01:37,  3.16it/s]"
     ]
    },
    {
     "name": "stderr",
     "output_type": "stream",
     "text": [
      "\r",
      " 14%|█▍        | 49/356 [00:13<01:24,  3.62it/s]"
     ]
    },
    {
     "name": "stderr",
     "output_type": "stream",
     "text": [
      "\r",
      " 14%|█▍        | 50/356 [00:13<02:17,  2.22it/s]"
     ]
    },
    {
     "name": "stderr",
     "output_type": "stream",
     "text": [
      "\r",
      " 14%|█▍        | 51/356 [00:14<01:47,  2.83it/s]"
     ]
    },
    {
     "name": "stderr",
     "output_type": "stream",
     "text": [
      "\r",
      " 15%|█▍        | 52/356 [00:14<01:34,  3.20it/s]"
     ]
    },
    {
     "name": "stderr",
     "output_type": "stream",
     "text": [
      "\r",
      " 15%|█▍        | 53/356 [00:14<01:28,  3.41it/s]"
     ]
    },
    {
     "name": "stderr",
     "output_type": "stream",
     "text": [
      "\r",
      " 15%|█▌        | 54/356 [00:14<01:14,  4.03it/s]"
     ]
    },
    {
     "name": "stderr",
     "output_type": "stream",
     "text": [
      "\r",
      " 15%|█▌        | 55/356 [00:14<01:14,  4.06it/s]"
     ]
    },
    {
     "name": "stderr",
     "output_type": "stream",
     "text": [
      "\r",
      " 16%|█▌        | 56/356 [00:15<01:06,  4.50it/s]"
     ]
    },
    {
     "name": "stderr",
     "output_type": "stream",
     "text": [
      "\r",
      " 16%|█▌        | 57/356 [00:15<01:00,  4.94it/s]"
     ]
    },
    {
     "name": "stderr",
     "output_type": "stream",
     "text": [
      "\r",
      " 17%|█▋        | 59/356 [00:15<01:01,  4.80it/s]"
     ]
    },
    {
     "name": "stderr",
     "output_type": "stream",
     "text": [
      "\r",
      " 17%|█▋        | 60/356 [00:15<01:07,  4.40it/s]"
     ]
    },
    {
     "name": "stderr",
     "output_type": "stream",
     "text": [
      "\r",
      " 17%|█▋        | 61/356 [00:16<01:10,  4.16it/s]"
     ]
    },
    {
     "name": "stderr",
     "output_type": "stream",
     "text": [
      "\r",
      " 17%|█▋        | 62/356 [00:16<01:18,  3.72it/s]"
     ]
    },
    {
     "name": "stderr",
     "output_type": "stream",
     "text": [
      "\r",
      " 18%|█▊        | 63/356 [00:16<01:17,  3.77it/s]"
     ]
    },
    {
     "name": "stderr",
     "output_type": "stream",
     "text": [
      "\r",
      " 18%|█▊        | 64/356 [00:16<01:09,  4.19it/s]"
     ]
    },
    {
     "name": "stderr",
     "output_type": "stream",
     "text": [
      "\r",
      " 18%|█▊        | 65/356 [00:17<01:14,  3.89it/s]"
     ]
    },
    {
     "name": "stderr",
     "output_type": "stream",
     "text": [
      "\r",
      " 19%|█▊        | 66/356 [00:17<01:04,  4.46it/s]"
     ]
    },
    {
     "name": "stderr",
     "output_type": "stream",
     "text": [
      "\r",
      " 19%|█▉        | 67/356 [00:17<01:07,  4.29it/s]"
     ]
    },
    {
     "name": "stderr",
     "output_type": "stream",
     "text": [
      "\r",
      " 19%|█▉        | 68/356 [00:17<01:06,  4.33it/s]"
     ]
    },
    {
     "name": "stderr",
     "output_type": "stream",
     "text": [
      "\r",
      " 19%|█▉        | 69/356 [00:18<01:10,  4.06it/s]"
     ]
    },
    {
     "name": "stderr",
     "output_type": "stream",
     "text": [
      "\r",
      " 20%|█▉        | 70/356 [00:18<01:10,  4.04it/s]"
     ]
    },
    {
     "name": "stderr",
     "output_type": "stream",
     "text": [
      "\r",
      " 20%|██        | 72/356 [00:18<00:57,  4.98it/s]"
     ]
    },
    {
     "name": "stderr",
     "output_type": "stream",
     "text": [
      "\r",
      " 21%|██        | 74/356 [00:19<01:11,  3.96it/s]"
     ]
    },
    {
     "name": "stderr",
     "output_type": "stream",
     "text": [
      "\r",
      " 21%|██▏       | 76/356 [00:19<00:59,  4.73it/s]"
     ]
    },
    {
     "name": "stderr",
     "output_type": "stream",
     "text": [
      "\r",
      " 22%|██▏       | 77/356 [00:20<01:17,  3.62it/s]"
     ]
    },
    {
     "name": "stderr",
     "output_type": "stream",
     "text": [
      "\r",
      " 22%|██▏       | 79/356 [00:20<00:54,  5.11it/s]"
     ]
    },
    {
     "name": "stderr",
     "output_type": "stream",
     "text": [
      "\r",
      " 22%|██▏       | 80/356 [00:20<01:16,  3.61it/s]"
     ]
    },
    {
     "name": "stderr",
     "output_type": "stream",
     "text": [
      "\r",
      " 23%|██▎       | 82/356 [00:21<01:01,  4.43it/s]"
     ]
    },
    {
     "name": "stderr",
     "output_type": "stream",
     "text": [
      "\r",
      " 24%|██▎       | 84/356 [00:21<01:08,  3.98it/s]"
     ]
    },
    {
     "name": "stderr",
     "output_type": "stream",
     "text": [
      "\r",
      " 24%|██▍       | 86/356 [00:22<01:05,  4.15it/s]"
     ]
    },
    {
     "name": "stderr",
     "output_type": "stream",
     "text": [
      "\r",
      " 24%|██▍       | 87/356 [00:22<01:08,  3.91it/s]"
     ]
    },
    {
     "name": "stderr",
     "output_type": "stream",
     "text": [
      "\r",
      " 25%|██▍       | 88/356 [00:22<01:11,  3.76it/s]"
     ]
    },
    {
     "name": "stderr",
     "output_type": "stream",
     "text": [
      "\r",
      " 25%|██▌       | 90/356 [00:22<00:52,  5.07it/s]"
     ]
    },
    {
     "name": "stderr",
     "output_type": "stream",
     "text": [
      "\r",
      " 26%|██▌       | 92/356 [00:23<00:50,  5.25it/s]"
     ]
    },
    {
     "name": "stderr",
     "output_type": "stream",
     "text": [
      "\r",
      " 26%|██▌       | 93/356 [00:23<00:59,  4.38it/s]"
     ]
    },
    {
     "name": "stderr",
     "output_type": "stream",
     "text": [
      "\r",
      " 26%|██▋       | 94/356 [00:24<01:07,  3.87it/s]"
     ]
    },
    {
     "name": "stderr",
     "output_type": "stream",
     "text": [
      "\r",
      " 27%|██▋       | 96/356 [00:24<00:54,  4.73it/s]"
     ]
    },
    {
     "name": "stderr",
     "output_type": "stream",
     "text": [
      "\r",
      " 27%|██▋       | 97/356 [00:24<01:07,  3.83it/s]"
     ]
    },
    {
     "name": "stderr",
     "output_type": "stream",
     "text": [
      "\r",
      " 28%|██▊       | 99/356 [00:25<00:58,  4.43it/s]"
     ]
    },
    {
     "name": "stderr",
     "output_type": "stream",
     "text": [
      "\r",
      " 28%|██▊       | 100/356 [00:25<00:52,  4.87it/s]"
     ]
    },
    {
     "name": "stderr",
     "output_type": "stream",
     "text": [
      "\r",
      " 28%|██▊       | 101/356 [00:25<01:08,  3.71it/s]"
     ]
    },
    {
     "name": "stderr",
     "output_type": "stream",
     "text": [
      "\r",
      " 29%|██▊       | 102/356 [00:26<01:12,  3.49it/s]"
     ]
    },
    {
     "name": "stderr",
     "output_type": "stream",
     "text": [
      "\r",
      " 29%|██▉       | 103/356 [00:26<01:07,  3.73it/s]"
     ]
    },
    {
     "name": "stderr",
     "output_type": "stream",
     "text": [
      "\r",
      " 29%|██▉       | 105/356 [00:26<00:57,  4.39it/s]"
     ]
    },
    {
     "name": "stderr",
     "output_type": "stream",
     "text": [
      "\r",
      " 30%|███       | 107/356 [00:26<00:48,  5.13it/s]"
     ]
    },
    {
     "name": "stderr",
     "output_type": "stream",
     "text": [
      "\r",
      " 30%|███       | 108/356 [00:27<01:03,  3.90it/s]"
     ]
    },
    {
     "name": "stderr",
     "output_type": "stream",
     "text": [
      "\r",
      " 31%|███       | 109/356 [00:27<01:05,  3.77it/s]"
     ]
    },
    {
     "name": "stderr",
     "output_type": "stream",
     "text": [
      "\r",
      " 31%|███       | 110/356 [00:27<00:59,  4.16it/s]"
     ]
    },
    {
     "name": "stderr",
     "output_type": "stream",
     "text": [
      "\r",
      " 31%|███▏      | 112/356 [00:28<00:50,  4.86it/s]"
     ]
    },
    {
     "name": "stderr",
     "output_type": "stream",
     "text": [
      "\r",
      " 32%|███▏      | 113/356 [00:28<00:58,  4.13it/s]"
     ]
    },
    {
     "name": "stderr",
     "output_type": "stream",
     "text": [
      "\r",
      " 32%|███▏      | 114/356 [00:28<01:03,  3.80it/s]"
     ]
    },
    {
     "name": "stderr",
     "output_type": "stream",
     "text": [
      "\r",
      " 32%|███▏      | 115/356 [00:29<01:08,  3.54it/s]"
     ]
    },
    {
     "name": "stderr",
     "output_type": "stream",
     "text": [
      "\r",
      " 33%|███▎      | 116/356 [00:29<01:01,  3.91it/s]"
     ]
    },
    {
     "name": "stderr",
     "output_type": "stream",
     "text": [
      "\r",
      " 33%|███▎      | 117/356 [00:29<00:58,  4.06it/s]"
     ]
    },
    {
     "name": "stderr",
     "output_type": "stream",
     "text": [
      "\r",
      " 33%|███▎      | 118/356 [00:29<00:53,  4.49it/s]"
     ]
    },
    {
     "name": "stderr",
     "output_type": "stream",
     "text": [
      "\r",
      " 33%|███▎      | 119/356 [00:30<00:53,  4.41it/s]"
     ]
    },
    {
     "name": "stderr",
     "output_type": "stream",
     "text": [
      "\r",
      " 34%|███▎      | 120/356 [00:30<00:51,  4.62it/s]"
     ]
    },
    {
     "name": "stderr",
     "output_type": "stream",
     "text": [
      "\r",
      " 34%|███▍      | 121/356 [00:30<01:29,  2.62it/s]"
     ]
    },
    {
     "name": "stderr",
     "output_type": "stream",
     "text": [
      "\r",
      " 34%|███▍      | 122/356 [00:31<01:17,  3.01it/s]"
     ]
    },
    {
     "name": "stderr",
     "output_type": "stream",
     "text": [
      "\r",
      " 35%|███▍      | 123/356 [00:31<01:06,  3.51it/s]"
     ]
    },
    {
     "name": "stderr",
     "output_type": "stream",
     "text": [
      "\r",
      " 35%|███▍      | 124/356 [00:31<01:11,  3.24it/s]"
     ]
    },
    {
     "name": "stderr",
     "output_type": "stream",
     "text": [
      "\r",
      " 35%|███▌      | 126/356 [00:32<00:55,  4.14it/s]"
     ]
    },
    {
     "name": "stderr",
     "output_type": "stream",
     "text": [
      "\r",
      " 36%|███▌      | 127/356 [00:32<00:48,  4.75it/s]"
     ]
    },
    {
     "name": "stderr",
     "output_type": "stream",
     "text": [
      "\r",
      " 36%|███▌      | 128/356 [00:32<00:54,  4.16it/s]"
     ]
    },
    {
     "name": "stderr",
     "output_type": "stream",
     "text": [
      "\r",
      " 36%|███▌      | 129/356 [00:32<00:51,  4.37it/s]"
     ]
    },
    {
     "name": "stderr",
     "output_type": "stream",
     "text": [
      "\r",
      " 37%|███▋      | 130/356 [00:33<01:10,  3.23it/s]"
     ]
    },
    {
     "name": "stderr",
     "output_type": "stream",
     "text": [
      "\r",
      " 37%|███▋      | 132/356 [00:33<01:02,  3.60it/s]"
     ]
    },
    {
     "name": "stderr",
     "output_type": "stream",
     "text": [
      "\r",
      " 37%|███▋      | 133/356 [00:33<00:54,  4.13it/s]"
     ]
    },
    {
     "name": "stderr",
     "output_type": "stream",
     "text": [
      "\r",
      " 38%|███▊      | 134/356 [00:33<00:48,  4.55it/s]"
     ]
    },
    {
     "name": "stderr",
     "output_type": "stream",
     "text": [
      "\r",
      " 38%|███▊      | 136/356 [00:34<00:49,  4.48it/s]"
     ]
    },
    {
     "name": "stderr",
     "output_type": "stream",
     "text": [
      "\r",
      " 38%|███▊      | 137/356 [00:34<00:47,  4.60it/s]"
     ]
    },
    {
     "name": "stderr",
     "output_type": "stream",
     "text": [
      "\r",
      " 39%|███▉      | 138/356 [00:35<00:56,  3.85it/s]"
     ]
    },
    {
     "name": "stderr",
     "output_type": "stream",
     "text": [
      "\r",
      " 39%|███▉      | 139/356 [00:35<01:28,  2.47it/s]"
     ]
    },
    {
     "name": "stderr",
     "output_type": "stream",
     "text": [
      "\r",
      " 40%|███▉      | 141/356 [00:36<01:01,  3.49it/s]"
     ]
    },
    {
     "name": "stderr",
     "output_type": "stream",
     "text": [
      "\r",
      " 40%|███▉      | 142/356 [00:36<01:00,  3.55it/s]"
     ]
    },
    {
     "name": "stderr",
     "output_type": "stream",
     "text": [
      "\r",
      " 40%|████      | 143/356 [00:36<01:11,  2.99it/s]"
     ]
    },
    {
     "name": "stderr",
     "output_type": "stream",
     "text": [
      "\r",
      " 40%|████      | 144/356 [00:37<01:11,  2.96it/s]"
     ]
    },
    {
     "name": "stderr",
     "output_type": "stream",
     "text": [
      "\r",
      " 41%|████      | 145/356 [00:37<00:58,  3.59it/s]"
     ]
    },
    {
     "name": "stderr",
     "output_type": "stream",
     "text": [
      "\r",
      " 41%|████      | 146/356 [00:37<00:52,  4.02it/s]"
     ]
    },
    {
     "name": "stderr",
     "output_type": "stream",
     "text": [
      "\r",
      " 41%|████▏     | 147/356 [00:38<01:10,  2.98it/s]"
     ]
    },
    {
     "name": "stderr",
     "output_type": "stream",
     "text": [
      "\r",
      " 42%|████▏     | 148/356 [00:38<00:56,  3.68it/s]"
     ]
    },
    {
     "name": "stderr",
     "output_type": "stream",
     "text": [
      "\r",
      " 42%|████▏     | 150/356 [00:38<00:37,  5.43it/s]"
     ]
    },
    {
     "name": "stderr",
     "output_type": "stream",
     "text": [
      "\r",
      " 42%|████▏     | 151/356 [00:38<00:47,  4.28it/s]"
     ]
    },
    {
     "name": "stderr",
     "output_type": "stream",
     "text": [
      "\r",
      " 43%|████▎     | 153/356 [00:39<00:45,  4.51it/s]"
     ]
    },
    {
     "name": "stderr",
     "output_type": "stream",
     "text": [
      "\r",
      " 43%|████▎     | 154/356 [00:39<00:40,  4.94it/s]"
     ]
    },
    {
     "name": "stderr",
     "output_type": "stream",
     "text": [
      "\r",
      " 44%|████▎     | 155/356 [00:39<00:49,  4.06it/s]"
     ]
    },
    {
     "name": "stderr",
     "output_type": "stream",
     "text": [
      "\r",
      " 44%|████▍     | 157/356 [00:39<00:35,  5.62it/s]"
     ]
    },
    {
     "name": "stderr",
     "output_type": "stream",
     "text": [
      "\r",
      " 44%|████▍     | 158/356 [00:39<00:33,  5.86it/s]"
     ]
    },
    {
     "name": "stderr",
     "output_type": "stream",
     "text": [
      "\r",
      " 45%|████▍     | 159/356 [00:40<00:36,  5.45it/s]"
     ]
    },
    {
     "name": "stderr",
     "output_type": "stream",
     "text": [
      "\r",
      " 45%|████▍     | 160/356 [00:40<00:40,  4.82it/s]"
     ]
    },
    {
     "name": "stderr",
     "output_type": "stream",
     "text": [
      "\r",
      " 45%|████▌     | 161/356 [00:40<00:48,  4.03it/s]"
     ]
    },
    {
     "name": "stderr",
     "output_type": "stream",
     "text": [
      "\r",
      " 46%|████▌     | 163/356 [00:41<00:40,  4.82it/s]"
     ]
    },
    {
     "name": "stderr",
     "output_type": "stream",
     "text": [
      "\r",
      " 46%|████▌     | 164/356 [00:42<01:16,  2.51it/s]"
     ]
    },
    {
     "name": "stderr",
     "output_type": "stream",
     "text": [
      "\r",
      " 47%|████▋     | 166/356 [00:42<01:08,  2.78it/s]"
     ]
    },
    {
     "name": "stderr",
     "output_type": "stream",
     "text": [
      "\r",
      " 47%|████▋     | 167/356 [00:42<00:59,  3.15it/s]"
     ]
    },
    {
     "name": "stderr",
     "output_type": "stream",
     "text": [
      "\r",
      " 47%|████▋     | 168/356 [00:43<01:01,  3.08it/s]"
     ]
    },
    {
     "name": "stderr",
     "output_type": "stream",
     "text": [
      "\r",
      " 47%|████▋     | 169/356 [00:43<00:58,  3.18it/s]"
     ]
    },
    {
     "name": "stderr",
     "output_type": "stream",
     "text": [
      "\r",
      " 48%|████▊     | 170/356 [00:43<00:57,  3.24it/s]"
     ]
    },
    {
     "name": "stderr",
     "output_type": "stream",
     "text": [
      "\r",
      " 48%|████▊     | 171/356 [00:44<00:52,  3.52it/s]"
     ]
    },
    {
     "name": "stderr",
     "output_type": "stream",
     "text": [
      "\r",
      " 48%|████▊     | 172/356 [00:44<00:54,  3.35it/s]"
     ]
    },
    {
     "name": "stderr",
     "output_type": "stream",
     "text": [
      "\r",
      " 49%|████▉     | 174/356 [00:44<00:35,  5.20it/s]"
     ]
    },
    {
     "name": "stderr",
     "output_type": "stream",
     "text": [
      "\r",
      " 49%|████▉     | 175/356 [00:44<00:32,  5.54it/s]"
     ]
    },
    {
     "name": "stderr",
     "output_type": "stream",
     "text": [
      "\r",
      " 50%|████▉     | 177/356 [00:44<00:26,  6.81it/s]"
     ]
    },
    {
     "name": "stderr",
     "output_type": "stream",
     "text": [
      "\r",
      " 50%|█████     | 178/356 [00:45<00:43,  4.09it/s]"
     ]
    },
    {
     "name": "stderr",
     "output_type": "stream",
     "text": [
      "\r",
      " 50%|█████     | 179/356 [00:45<00:38,  4.61it/s]"
     ]
    },
    {
     "name": "stderr",
     "output_type": "stream",
     "text": [
      "\r",
      " 51%|█████     | 180/356 [00:45<00:35,  5.02it/s]"
     ]
    },
    {
     "name": "stderr",
     "output_type": "stream",
     "text": [
      "\r",
      " 51%|█████     | 182/356 [00:45<00:26,  6.52it/s]"
     ]
    },
    {
     "name": "stderr",
     "output_type": "stream",
     "text": [
      "\r",
      " 51%|█████▏    | 183/356 [00:46<00:32,  5.26it/s]"
     ]
    },
    {
     "name": "stderr",
     "output_type": "stream",
     "text": [
      "\r",
      " 52%|█████▏    | 184/356 [00:46<00:39,  4.37it/s]"
     ]
    },
    {
     "name": "stderr",
     "output_type": "stream",
     "text": [
      "\r",
      " 52%|█████▏    | 185/356 [00:46<00:33,  5.06it/s]"
     ]
    },
    {
     "name": "stderr",
     "output_type": "stream",
     "text": [
      "\r",
      " 52%|█████▏    | 186/356 [00:47<00:43,  3.87it/s]"
     ]
    },
    {
     "name": "stderr",
     "output_type": "stream",
     "text": [
      "\r",
      " 53%|█████▎    | 188/356 [00:47<00:41,  4.09it/s]"
     ]
    },
    {
     "name": "stderr",
     "output_type": "stream",
     "text": [
      "\r",
      " 53%|█████▎    | 189/356 [00:47<00:43,  3.86it/s]"
     ]
    },
    {
     "name": "stderr",
     "output_type": "stream",
     "text": [
      "\r",
      " 53%|█████▎    | 190/356 [00:48<00:41,  4.04it/s]"
     ]
    },
    {
     "name": "stderr",
     "output_type": "stream",
     "text": [
      "\r",
      " 54%|█████▎    | 191/356 [00:48<00:46,  3.53it/s]"
     ]
    },
    {
     "name": "stderr",
     "output_type": "stream",
     "text": [
      "\r",
      " 54%|█████▍    | 192/356 [00:48<00:44,  3.69it/s]"
     ]
    },
    {
     "name": "stderr",
     "output_type": "stream",
     "text": [
      "\r",
      " 54%|█████▍    | 193/356 [00:48<00:39,  4.10it/s]"
     ]
    },
    {
     "name": "stderr",
     "output_type": "stream",
     "text": [
      "\r",
      " 54%|█████▍    | 194/356 [00:49<00:39,  4.06it/s]"
     ]
    },
    {
     "name": "stderr",
     "output_type": "stream",
     "text": [
      "\r",
      " 55%|█████▍    | 195/356 [00:49<00:41,  3.86it/s]"
     ]
    },
    {
     "name": "stderr",
     "output_type": "stream",
     "text": [
      "\r",
      " 55%|█████▌    | 197/356 [00:49<00:33,  4.77it/s]"
     ]
    },
    {
     "name": "stderr",
     "output_type": "stream",
     "text": [
      "\r",
      " 56%|█████▌    | 198/356 [00:50<00:45,  3.44it/s]"
     ]
    },
    {
     "name": "stderr",
     "output_type": "stream",
     "text": [
      "\r",
      " 56%|█████▌    | 200/356 [00:50<00:38,  4.07it/s]"
     ]
    },
    {
     "name": "stderr",
     "output_type": "stream",
     "text": [
      "\r",
      " 56%|█████▋    | 201/356 [00:50<00:44,  3.50it/s]"
     ]
    },
    {
     "name": "stderr",
     "output_type": "stream",
     "text": [
      "\r",
      " 57%|█████▋    | 202/356 [00:51<00:39,  3.95it/s]"
     ]
    },
    {
     "name": "stderr",
     "output_type": "stream",
     "text": [
      "\r",
      " 57%|█████▋    | 203/356 [00:51<00:41,  3.72it/s]"
     ]
    },
    {
     "name": "stderr",
     "output_type": "stream",
     "text": [
      "\r",
      " 57%|█████▋    | 204/356 [00:52<00:56,  2.71it/s]"
     ]
    },
    {
     "name": "stderr",
     "output_type": "stream",
     "text": [
      "\r",
      " 58%|█████▊    | 205/356 [00:52<00:44,  3.39it/s]"
     ]
    },
    {
     "name": "stderr",
     "output_type": "stream",
     "text": [
      "\r",
      " 58%|█████▊    | 206/356 [00:52<00:43,  3.41it/s]"
     ]
    },
    {
     "name": "stderr",
     "output_type": "stream",
     "text": [
      "\r",
      " 58%|█████▊    | 208/356 [00:52<00:30,  4.81it/s]"
     ]
    },
    {
     "name": "stderr",
     "output_type": "stream",
     "text": [
      "\r",
      " 59%|█████▊    | 209/356 [00:53<00:36,  4.03it/s]"
     ]
    },
    {
     "name": "stderr",
     "output_type": "stream",
     "text": [
      "\r",
      " 59%|█████▉    | 211/356 [00:53<00:33,  4.36it/s]"
     ]
    },
    {
     "name": "stderr",
     "output_type": "stream",
     "text": [
      "\r",
      " 60%|█████▉    | 212/356 [00:53<00:34,  4.18it/s]"
     ]
    },
    {
     "name": "stderr",
     "output_type": "stream",
     "text": [
      "\r",
      " 60%|█████▉    | 213/356 [00:54<00:43,  3.26it/s]"
     ]
    },
    {
     "name": "stderr",
     "output_type": "stream",
     "text": [
      "\r",
      " 60%|██████    | 214/356 [00:54<00:36,  3.94it/s]"
     ]
    },
    {
     "name": "stderr",
     "output_type": "stream",
     "text": [
      "\r",
      " 60%|██████    | 215/356 [00:54<00:37,  3.73it/s]"
     ]
    },
    {
     "name": "stderr",
     "output_type": "stream",
     "text": [
      "\r",
      " 61%|██████    | 216/356 [00:55<00:39,  3.50it/s]"
     ]
    },
    {
     "name": "stderr",
     "output_type": "stream",
     "text": [
      "\r",
      " 61%|██████    | 217/356 [00:55<00:38,  3.57it/s]"
     ]
    },
    {
     "name": "stderr",
     "output_type": "stream",
     "text": [
      "\r",
      " 61%|██████    | 218/356 [00:55<00:42,  3.27it/s]"
     ]
    },
    {
     "name": "stderr",
     "output_type": "stream",
     "text": [
      "\r",
      " 62%|██████▏   | 219/356 [00:55<00:35,  3.82it/s]"
     ]
    },
    {
     "name": "stderr",
     "output_type": "stream",
     "text": [
      "\r",
      " 62%|██████▏   | 221/356 [00:56<00:33,  4.00it/s]"
     ]
    },
    {
     "name": "stderr",
     "output_type": "stream",
     "text": [
      "\r",
      " 62%|██████▏   | 222/356 [00:56<00:30,  4.34it/s]"
     ]
    },
    {
     "name": "stderr",
     "output_type": "stream",
     "text": [
      "\r",
      " 63%|██████▎   | 223/356 [00:56<00:37,  3.51it/s]"
     ]
    },
    {
     "name": "stderr",
     "output_type": "stream",
     "text": [
      "\r",
      " 63%|██████▎   | 224/356 [00:57<00:33,  3.99it/s]"
     ]
    },
    {
     "name": "stderr",
     "output_type": "stream",
     "text": [
      "\r",
      " 63%|██████▎   | 225/356 [00:57<00:33,  3.90it/s]"
     ]
    },
    {
     "name": "stderr",
     "output_type": "stream",
     "text": [
      "\r",
      " 64%|██████▍   | 227/356 [00:57<00:27,  4.65it/s]"
     ]
    },
    {
     "name": "stderr",
     "output_type": "stream",
     "text": [
      "\r",
      " 64%|██████▍   | 228/356 [00:57<00:26,  4.80it/s]"
     ]
    },
    {
     "name": "stderr",
     "output_type": "stream",
     "text": [
      "\r",
      " 64%|██████▍   | 229/356 [00:57<00:24,  5.11it/s]"
     ]
    },
    {
     "name": "stderr",
     "output_type": "stream",
     "text": [
      "\r",
      " 65%|██████▍   | 230/356 [00:58<00:29,  4.27it/s]"
     ]
    },
    {
     "name": "stderr",
     "output_type": "stream",
     "text": [
      "\r",
      " 65%|██████▍   | 231/356 [00:58<00:31,  3.98it/s]"
     ]
    },
    {
     "name": "stderr",
     "output_type": "stream",
     "text": [
      "\r",
      " 65%|██████▌   | 232/356 [00:58<00:33,  3.70it/s]"
     ]
    },
    {
     "name": "stderr",
     "output_type": "stream",
     "text": [
      "\r",
      " 65%|██████▌   | 233/356 [00:59<00:32,  3.74it/s]"
     ]
    },
    {
     "name": "stderr",
     "output_type": "stream",
     "text": [
      "\r",
      " 66%|██████▌   | 234/356 [00:59<00:27,  4.39it/s]"
     ]
    },
    {
     "name": "stderr",
     "output_type": "stream",
     "text": [
      "\r",
      " 66%|██████▌   | 235/356 [00:59<00:26,  4.63it/s]"
     ]
    },
    {
     "name": "stderr",
     "output_type": "stream",
     "text": [
      "\r",
      " 66%|██████▋   | 236/356 [00:59<00:32,  3.74it/s]"
     ]
    },
    {
     "name": "stderr",
     "output_type": "stream",
     "text": [
      "\r",
      " 67%|██████▋   | 237/356 [01:00<00:29,  4.01it/s]"
     ]
    },
    {
     "name": "stderr",
     "output_type": "stream",
     "text": [
      "\r",
      " 67%|██████▋   | 238/356 [01:00<00:34,  3.39it/s]"
     ]
    },
    {
     "name": "stderr",
     "output_type": "stream",
     "text": [
      "\r",
      " 67%|██████▋   | 240/356 [01:01<00:34,  3.35it/s]"
     ]
    },
    {
     "name": "stderr",
     "output_type": "stream",
     "text": [
      "\r",
      " 68%|██████▊   | 242/356 [01:01<00:31,  3.61it/s]"
     ]
    },
    {
     "name": "stderr",
     "output_type": "stream",
     "text": [
      "\r",
      " 68%|██████▊   | 243/356 [01:01<00:29,  3.85it/s]"
     ]
    },
    {
     "name": "stderr",
     "output_type": "stream",
     "text": [
      "\r",
      " 69%|██████▊   | 244/356 [01:02<00:30,  3.66it/s]"
     ]
    },
    {
     "name": "stderr",
     "output_type": "stream",
     "text": [
      "\r",
      " 69%|██████▉   | 245/356 [01:02<00:32,  3.45it/s]"
     ]
    },
    {
     "name": "stderr",
     "output_type": "stream",
     "text": [
      "\r",
      " 69%|██████▉   | 246/356 [01:02<00:29,  3.75it/s]"
     ]
    },
    {
     "name": "stderr",
     "output_type": "stream",
     "text": [
      "\r",
      " 69%|██████▉   | 247/356 [01:02<00:27,  3.98it/s]"
     ]
    },
    {
     "name": "stderr",
     "output_type": "stream",
     "text": [
      "\r",
      " 70%|██████▉   | 248/356 [01:03<00:36,  2.95it/s]"
     ]
    },
    {
     "name": "stderr",
     "output_type": "stream",
     "text": [
      "\r",
      " 70%|██████▉   | 249/356 [01:03<00:38,  2.78it/s]"
     ]
    },
    {
     "name": "stderr",
     "output_type": "stream",
     "text": [
      "\r",
      " 71%|███████   | 252/356 [01:04<00:23,  4.38it/s]"
     ]
    },
    {
     "name": "stderr",
     "output_type": "stream",
     "text": [
      "\r",
      " 71%|███████   | 253/356 [01:04<00:28,  3.68it/s]"
     ]
    },
    {
     "name": "stderr",
     "output_type": "stream",
     "text": [
      "\r",
      " 71%|███████▏  | 254/356 [01:04<00:25,  3.97it/s]"
     ]
    },
    {
     "name": "stderr",
     "output_type": "stream",
     "text": [
      "\r",
      " 72%|███████▏  | 256/356 [01:05<00:21,  4.67it/s]"
     ]
    },
    {
     "name": "stderr",
     "output_type": "stream",
     "text": [
      "\r",
      " 72%|███████▏  | 258/356 [01:05<00:15,  6.15it/s]"
     ]
    },
    {
     "name": "stderr",
     "output_type": "stream",
     "text": [
      "\r",
      " 73%|███████▎  | 260/356 [01:05<00:18,  5.07it/s]"
     ]
    },
    {
     "name": "stderr",
     "output_type": "stream",
     "text": [
      "\r",
      " 73%|███████▎  | 261/356 [01:06<00:19,  4.85it/s]"
     ]
    },
    {
     "name": "stderr",
     "output_type": "stream",
     "text": [
      "\r",
      " 74%|███████▎  | 262/356 [01:06<00:17,  5.30it/s]"
     ]
    },
    {
     "name": "stderr",
     "output_type": "stream",
     "text": [
      "\r",
      " 74%|███████▍  | 263/356 [01:06<00:16,  5.53it/s]"
     ]
    },
    {
     "name": "stderr",
     "output_type": "stream",
     "text": [
      "\r",
      " 74%|███████▍  | 264/356 [01:06<00:19,  4.74it/s]"
     ]
    },
    {
     "name": "stderr",
     "output_type": "stream",
     "text": [
      "\r",
      " 74%|███████▍  | 265/356 [01:06<00:18,  4.90it/s]"
     ]
    },
    {
     "name": "stderr",
     "output_type": "stream",
     "text": [
      "\r",
      " 75%|███████▍  | 266/356 [01:07<00:23,  3.79it/s]"
     ]
    },
    {
     "name": "stderr",
     "output_type": "stream",
     "text": [
      "\r",
      " 75%|███████▌  | 267/356 [01:07<00:23,  3.81it/s]"
     ]
    },
    {
     "name": "stderr",
     "output_type": "stream",
     "text": [
      "\r",
      " 75%|███████▌  | 268/356 [01:07<00:24,  3.54it/s]"
     ]
    },
    {
     "name": "stderr",
     "output_type": "stream",
     "text": [
      "\r",
      " 76%|███████▌  | 270/356 [01:08<00:19,  4.37it/s]"
     ]
    },
    {
     "name": "stderr",
     "output_type": "stream",
     "text": [
      "\r",
      " 76%|███████▌  | 271/356 [01:08<00:22,  3.70it/s]"
     ]
    },
    {
     "name": "stderr",
     "output_type": "stream",
     "text": [
      "\r",
      " 76%|███████▋  | 272/356 [01:08<00:21,  3.89it/s]"
     ]
    },
    {
     "name": "stderr",
     "output_type": "stream",
     "text": [
      "\r",
      " 77%|███████▋  | 274/356 [01:09<00:19,  4.30it/s]"
     ]
    },
    {
     "name": "stderr",
     "output_type": "stream",
     "text": [
      "\r",
      " 77%|███████▋  | 275/356 [01:09<00:22,  3.54it/s]"
     ]
    },
    {
     "name": "stderr",
     "output_type": "stream",
     "text": [
      "\r",
      " 78%|███████▊  | 276/356 [01:10<00:32,  2.44it/s]"
     ]
    },
    {
     "name": "stderr",
     "output_type": "stream",
     "text": [
      "\r",
      " 78%|███████▊  | 278/356 [01:10<00:21,  3.60it/s]"
     ]
    },
    {
     "name": "stderr",
     "output_type": "stream",
     "text": [
      "\r",
      " 78%|███████▊  | 279/356 [01:10<00:19,  3.95it/s]"
     ]
    },
    {
     "name": "stderr",
     "output_type": "stream",
     "text": [
      "\r",
      " 79%|███████▊  | 280/356 [01:11<00:20,  3.64it/s]"
     ]
    },
    {
     "name": "stderr",
     "output_type": "stream",
     "text": [
      "\r",
      " 79%|███████▉  | 281/356 [01:11<00:22,  3.37it/s]"
     ]
    },
    {
     "name": "stderr",
     "output_type": "stream",
     "text": [
      "\r",
      " 79%|███████▉  | 282/356 [01:11<00:21,  3.41it/s]"
     ]
    },
    {
     "name": "stderr",
     "output_type": "stream",
     "text": [
      "\r",
      " 80%|███████▉  | 284/356 [01:12<00:17,  4.02it/s]"
     ]
    },
    {
     "name": "stderr",
     "output_type": "stream",
     "text": [
      "\r",
      " 80%|████████  | 285/356 [01:12<00:15,  4.64it/s]"
     ]
    },
    {
     "name": "stderr",
     "output_type": "stream",
     "text": [
      "\r",
      " 80%|████████  | 286/356 [01:12<00:13,  5.01it/s]"
     ]
    },
    {
     "name": "stderr",
     "output_type": "stream",
     "text": [
      "\r",
      " 81%|████████  | 287/356 [01:12<00:15,  4.57it/s]"
     ]
    },
    {
     "name": "stderr",
     "output_type": "stream",
     "text": [
      "\r",
      " 81%|████████  | 288/356 [01:13<00:22,  3.04it/s]"
     ]
    },
    {
     "name": "stderr",
     "output_type": "stream",
     "text": [
      "\r",
      " 81%|████████  | 289/356 [01:13<00:19,  3.51it/s]"
     ]
    },
    {
     "name": "stderr",
     "output_type": "stream",
     "text": [
      "\r",
      " 81%|████████▏ | 290/356 [01:13<00:22,  2.87it/s]"
     ]
    },
    {
     "name": "stderr",
     "output_type": "stream",
     "text": [
      "\r",
      " 82%|████████▏ | 292/356 [01:14<00:16,  3.85it/s]"
     ]
    },
    {
     "name": "stderr",
     "output_type": "stream",
     "text": [
      "\r",
      " 82%|████████▏ | 293/356 [01:14<00:15,  4.18it/s]"
     ]
    },
    {
     "name": "stderr",
     "output_type": "stream",
     "text": [
      "\r",
      " 83%|████████▎ | 295/356 [01:14<00:14,  4.34it/s]"
     ]
    },
    {
     "name": "stderr",
     "output_type": "stream",
     "text": [
      "\r",
      " 83%|████████▎ | 296/356 [01:15<00:14,  4.14it/s]"
     ]
    },
    {
     "name": "stderr",
     "output_type": "stream",
     "text": [
      "\r",
      " 84%|████████▎ | 298/356 [01:15<00:16,  3.54it/s]"
     ]
    },
    {
     "name": "stderr",
     "output_type": "stream",
     "text": [
      "\r",
      " 84%|████████▍ | 300/356 [01:16<00:12,  4.42it/s]"
     ]
    },
    {
     "name": "stderr",
     "output_type": "stream",
     "text": [
      "\r",
      " 85%|████████▍ | 301/356 [01:16<00:11,  4.72it/s]"
     ]
    },
    {
     "name": "stderr",
     "output_type": "stream",
     "text": [
      "\r",
      " 85%|████████▍ | 302/356 [01:16<00:11,  4.83it/s]"
     ]
    },
    {
     "name": "stderr",
     "output_type": "stream",
     "text": [
      "\r",
      " 85%|████████▌ | 303/356 [01:16<00:13,  3.94it/s]"
     ]
    },
    {
     "name": "stderr",
     "output_type": "stream",
     "text": [
      "\r",
      " 85%|████████▌ | 304/356 [01:17<00:12,  4.20it/s]"
     ]
    },
    {
     "name": "stderr",
     "output_type": "stream",
     "text": [
      "\r",
      " 86%|████████▌ | 305/356 [01:17<00:12,  4.21it/s]"
     ]
    },
    {
     "name": "stderr",
     "output_type": "stream",
     "text": [
      "\r",
      " 86%|████████▌ | 306/356 [01:17<00:12,  3.87it/s]"
     ]
    },
    {
     "name": "stderr",
     "output_type": "stream",
     "text": [
      "\r",
      " 86%|████████▌ | 307/356 [01:17<00:11,  4.44it/s]"
     ]
    },
    {
     "name": "stderr",
     "output_type": "stream",
     "text": [
      "\r",
      " 87%|████████▋ | 308/356 [01:18<00:14,  3.42it/s]"
     ]
    },
    {
     "name": "stderr",
     "output_type": "stream",
     "text": [
      "\r",
      " 87%|████████▋ | 309/356 [01:18<00:11,  3.98it/s]"
     ]
    },
    {
     "name": "stderr",
     "output_type": "stream",
     "text": [
      "\r",
      " 87%|████████▋ | 310/356 [01:19<00:17,  2.69it/s]"
     ]
    },
    {
     "name": "stderr",
     "output_type": "stream",
     "text": [
      "\r",
      " 88%|████████▊ | 312/356 [01:19<00:10,  4.31it/s]"
     ]
    },
    {
     "name": "stderr",
     "output_type": "stream",
     "text": [
      "\r",
      " 88%|████████▊ | 313/356 [01:19<00:08,  4.83it/s]"
     ]
    },
    {
     "name": "stderr",
     "output_type": "stream",
     "text": [
      "\r",
      " 88%|████████▊ | 314/356 [01:19<00:12,  3.46it/s]"
     ]
    },
    {
     "name": "stderr",
     "output_type": "stream",
     "text": [
      "\r",
      " 88%|████████▊ | 315/356 [01:20<00:12,  3.39it/s]"
     ]
    },
    {
     "name": "stderr",
     "output_type": "stream",
     "text": [
      "\r",
      " 89%|████████▉ | 316/356 [01:20<00:10,  3.76it/s]"
     ]
    },
    {
     "name": "stderr",
     "output_type": "stream",
     "text": [
      "\r",
      " 89%|████████▉ | 318/356 [01:20<00:08,  4.55it/s]"
     ]
    },
    {
     "name": "stderr",
     "output_type": "stream",
     "text": [
      "\r",
      " 90%|████████▉ | 319/356 [01:20<00:09,  4.03it/s]"
     ]
    },
    {
     "name": "stderr",
     "output_type": "stream",
     "text": [
      "\r",
      " 90%|████████▉ | 320/356 [01:21<00:11,  3.20it/s]"
     ]
    },
    {
     "name": "stderr",
     "output_type": "stream",
     "text": [
      "\r",
      " 90%|█████████ | 321/356 [01:21<00:11,  2.99it/s]"
     ]
    },
    {
     "name": "stderr",
     "output_type": "stream",
     "text": [
      "\r",
      " 91%|█████████ | 323/356 [01:22<00:09,  3.56it/s]"
     ]
    },
    {
     "name": "stderr",
     "output_type": "stream",
     "text": [
      "\r",
      " 91%|█████████ | 324/356 [01:23<00:12,  2.48it/s]"
     ]
    },
    {
     "name": "stderr",
     "output_type": "stream",
     "text": [
      "\r",
      " 92%|█████████▏| 327/356 [01:23<00:07,  3.81it/s]"
     ]
    },
    {
     "name": "stderr",
     "output_type": "stream",
     "text": [
      "\r",
      " 92%|█████████▏| 328/356 [01:23<00:06,  4.23it/s]"
     ]
    },
    {
     "name": "stderr",
     "output_type": "stream",
     "text": [
      "\r",
      " 92%|█████████▏| 329/356 [01:23<00:06,  4.01it/s]"
     ]
    },
    {
     "name": "stderr",
     "output_type": "stream",
     "text": [
      "\r",
      " 93%|█████████▎| 331/356 [01:24<00:06,  3.68it/s]"
     ]
    },
    {
     "name": "stderr",
     "output_type": "stream",
     "text": [
      "\r",
      " 94%|█████████▎| 333/356 [01:24<00:05,  4.51it/s]"
     ]
    },
    {
     "name": "stderr",
     "output_type": "stream",
     "text": [
      "\r",
      " 94%|█████████▍| 335/356 [01:24<00:03,  5.80it/s]"
     ]
    },
    {
     "name": "stderr",
     "output_type": "stream",
     "text": [
      "\r",
      " 94%|█████████▍| 336/356 [01:25<00:03,  5.97it/s]"
     ]
    },
    {
     "name": "stderr",
     "output_type": "stream",
     "text": [
      "\r",
      " 95%|█████████▍| 337/356 [01:25<00:04,  4.21it/s]"
     ]
    },
    {
     "name": "stderr",
     "output_type": "stream",
     "text": [
      "\r",
      " 95%|█████████▍| 338/356 [01:25<00:04,  3.79it/s]"
     ]
    },
    {
     "name": "stderr",
     "output_type": "stream",
     "text": [
      "\r",
      " 95%|█████████▌| 339/356 [01:26<00:05,  3.25it/s]"
     ]
    },
    {
     "name": "stderr",
     "output_type": "stream",
     "text": [
      "\r",
      " 96%|█████████▋| 343/356 [01:26<00:02,  4.64it/s]"
     ]
    },
    {
     "name": "stderr",
     "output_type": "stream",
     "text": [
      "\r",
      " 97%|█████████▋| 344/356 [01:27<00:02,  4.98it/s]"
     ]
    },
    {
     "name": "stderr",
     "output_type": "stream",
     "text": [
      "\r",
      " 97%|█████████▋| 345/356 [01:27<00:02,  4.30it/s]"
     ]
    },
    {
     "name": "stderr",
     "output_type": "stream",
     "text": [
      "\r",
      " 97%|█████████▋| 346/356 [01:27<00:02,  4.08it/s]"
     ]
    },
    {
     "name": "stderr",
     "output_type": "stream",
     "text": [
      "\r",
      " 97%|█████████▋| 347/356 [01:27<00:02,  3.97it/s]"
     ]
    },
    {
     "name": "stderr",
     "output_type": "stream",
     "text": [
      "\r",
      " 98%|█████████▊| 348/356 [01:28<00:02,  2.89it/s]"
     ]
    },
    {
     "name": "stderr",
     "output_type": "stream",
     "text": [
      "\r",
      " 98%|█████████▊| 349/356 [01:28<00:01,  3.53it/s]"
     ]
    },
    {
     "name": "stderr",
     "output_type": "stream",
     "text": [
      "\r",
      " 99%|█████████▊| 351/356 [01:28<00:01,  4.61it/s]"
     ]
    },
    {
     "name": "stderr",
     "output_type": "stream",
     "text": [
      "\r",
      " 99%|█████████▉| 352/356 [01:29<00:00,  4.05it/s]"
     ]
    },
    {
     "name": "stderr",
     "output_type": "stream",
     "text": [
      "\r",
      " 99%|█████████▉| 354/356 [01:29<00:00,  4.43it/s]"
     ]
    },
    {
     "name": "stderr",
     "output_type": "stream",
     "text": [
      "\r",
      "100%|█████████▉| 355/356 [01:30<00:00,  2.91it/s]"
     ]
    },
    {
     "name": "stderr",
     "output_type": "stream",
     "text": [
      "\r",
      "100%|██████████| 356/356 [01:30<00:00,  3.46it/s]"
     ]
    },
    {
     "name": "stderr",
     "output_type": "stream",
     "text": [
      "\r",
      "100%|██████████| 356/356 [01:30<00:00,  3.93it/s]"
     ]
    },
    {
     "name": "stderr",
     "output_type": "stream",
     "text": [
      "\n"
     ]
    },
    {
     "name": "stdout",
     "output_type": "stream",
     "text": [
      "\n",
      "rate limit: 4 \n",
      "API calls: create: 0, read: 2, update: 356, delete: 0, backoff: 0\n",
      "errors:\n",
      "  503: Service Unavailable: 3\n",
      "[{'Key': 1, 'Timestamp Dagoverzicht NICE': '2021-02-24 17:06', 'Timestamp Dagoverzicht RIVM': '2021-02-24 15:15', 'Timestamp Dagoverzicht LCPS': '2021-02-24 14:00', 'Timestamp Dagoverzicht GitHub mzelst': '2021-02-24 15:43'}]\n"
     ]
    },
    {
     "name": "stderr",
     "output_type": "stream",
     "text": [
      "\r",
      "  0%|          | 0/1 [00:00<?, ?it/s]"
     ]
    },
    {
     "name": "stdout",
     "output_type": "stream",
     "text": [
      "1 knack actions ahead\n"
     ]
    },
    {
     "name": "stderr",
     "output_type": "stream",
     "text": [
      "\r",
      "100%|██████████| 1/1 [00:01<00:00,  1.16s/it]"
     ]
    },
    {
     "name": "stderr",
     "output_type": "stream",
     "text": [
      "\r",
      "100%|██████████| 1/1 [00:01<00:00,  1.17s/it]"
     ]
    },
    {
     "name": "stdout",
     "output_type": "stream",
     "text": [
      "\n",
      "rate limit: 4 \n",
      "API calls: create: 0, read: 1, update: 1, delete: 0, backoff: 0\n"
     ]
    },
    {
     "name": "stderr",
     "output_type": "stream",
     "text": [
      "\n"
     ]
    }
   ],
   "source": [
    "async def publish():\n",
    "  global dagoverzicht\n",
    "\n",
    "  m = (dagoverzicht == np.inf)\n",
    "  df = dagoverzicht.loc[m.any(axis=1), m.any(axis=0)]\n",
    "  display(df.head())\n",
    "  m = (dagoverzicht == np.nan)\n",
    "  df = dagoverzicht.loc[m.any(axis=1), m.any(axis=0)]\n",
    "  display(df.head())\n",
    "\n",
    "  os.makedirs('artifacts', exist_ok = True)\n",
    "  dagoverzicht.to_csv('artifacts/DagOverzicht.csv', index=True)\n",
    "\n",
    "  if knack:\n",
    "    print('updating knack')\n",
    "    df = dagoverzicht.assign(Key=dagoverzicht.index.strftime('%Y-%m-%d'))\n",
    "    await knack.update(objectName='Dagoverzicht', df=df, slack=Munch(msg='\\n'.join(Cache.actions), emoji=None))\n",
    "    await knack.timestamps('Dagoverzicht', Cache.timestamps)\n",
    "await publish()"
   ]
  },
  {
   "cell_type": "code",
   "execution_count": null,
   "id": "heavy-lebanon",
   "metadata": {
    "papermill": {
     "duration": 0.093509,
     "end_time": "2021-02-24T17:02:16.681403",
     "exception": false,
     "start_time": "2021-02-24T17:02:16.587894",
     "status": "completed"
    },
    "tags": []
   },
   "outputs": [],
   "source": []
  }
 ],
 "metadata": {
  "jupytext": {
   "cell_metadata_filter": "title,-all"
  },
  "kernelspec": {
   "display_name": "Python 3",
   "language": "python",
   "name": "python3"
  },
  "language_info": {
   "codemirror_mode": {
    "name": "ipython",
    "version": 3
   },
   "file_extension": ".py",
   "mimetype": "text/x-python",
   "name": "python",
   "nbconvert_exporter": "python",
   "pygments_lexer": "ipython3",
   "version": "3.9.1"
  },
  "papermill": {
   "default_parameters": {},
   "duration": 110.831002,
   "end_time": "2021-02-24T17:02:17.182931",
   "environment_variables": {},
   "exception": null,
   "input_path": "-",
   "output_path": "DagOverzicht.ipynb",
   "parameters": {},
   "start_time": "2021-02-24T17:00:26.351929",
   "version": "2.3.2"
  }
 },
 "nbformat": 4,
 "nbformat_minor": 5
}