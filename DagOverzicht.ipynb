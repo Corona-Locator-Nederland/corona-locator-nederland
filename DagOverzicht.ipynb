{
 "cells": [
  {
   "cell_type": "code",
   "execution_count": null,
   "id": "smaller-pillow",
   "metadata": {
    "lines_to_next_cell": 1
   },
   "outputs": [],
   "source": [
    "from IPython import get_ipython\n",
    "from IPython.display import clear_output\n",
    "get_ipython().run_line_magic('run', 'setup')\n",
    "import itertools"
   ]
  },
  {
   "cell_type": "code",
   "execution_count": null,
   "id": "regional-exhaust",
   "metadata": {
    "lines_to_next_cell": 1
   },
   "outputs": [],
   "source": [
    "@run('set up base frame + overleden + positief getest')\n",
    "def cell():\n",
    "  #df = RIVM.json('COVID-19_prevalentie')\n",
    "  #df = RIVM.json('COVID-19_reproductiegetal')\n",
    "  #df = CBS.leeftijdsgroepen_bevolking()\n",
    "  #df = LCPS.csv('covid-19')\n",
    "  #df = RIVM.csv('COVID-19_casus_landelijk')\n",
    "\n",
    "  ag = RIVM.csv('COVID-19_aantallen_gemeente_per_dag')\n",
    "  ag = ag.rename(columns={\n",
    "    'Total_reported': 'Positief getest',\n",
    "    'Deceased': 'Overleden',\n",
    "    'Date_of_publication': 'Datum',\n",
    "    'Date_of_report': 'Today',\n",
    "  })\n",
    "  ag['Datum'] = pd.to_datetime(ag.Datum.str.replace(' .*', '', regex=True))\n",
    "  ag['Today'] = pd.to_datetime(ag.Today.str.replace(' .*', '', regex=True))\n",
    "\n",
    "  global dagoverzicht\n",
    "  dagoverzicht = pd.DataFrame(index=pd.date_range(start='2020-02-27', end=ag.Today.max()))\n",
    "  dagoverzicht.index.name='Key'\n",
    "  dagoverzicht['Datum'] = dagoverzicht.index.strftime('%Y-%m-%d')\n",
    "  dagoverzicht['LandCode'] = 'NL'\n",
    "  #display(dagoverzicht)\n",
    "\n",
    "  ag = (ag\n",
    "        .groupby(['Datum'])\n",
    "        .agg({'Positief getest': 'sum', 'Overleden': 'sum'})\n",
    "  )\n",
    "  ag['Positief getest'] = ag['Positief getest'].cumsum()\n",
    "  ag['Overleden'] = ag['Overleden'].cumsum()\n",
    "  dagoverzicht = dagoverzicht.merge(ag, how='left', left_index=True, right_index=True)\n",
    "  display(dagoverzicht)"
   ]
  },
  {
   "cell_type": "code",
   "execution_count": null,
   "id": "optical-chase",
   "metadata": {
    "lines_to_next_cell": 0
   },
   "outputs": [],
   "source": [
    "@run('publish')\n",
    "def cell():\n",
    "  global dagoverzicht\n",
    "\n",
    "  os.makedirs('artifacts', exist_ok = True)\n",
    "  dagoverzicht.to_csv('artifacts/DagOverzicht.csv', index=True)"
   ]
  },
  {
   "cell_type": "code",
   "execution_count": null,
   "id": "relevant-indicator",
   "metadata": {},
   "outputs": [],
   "source": []
  }
 ],
 "metadata": {
  "jupytext": {
   "cell_metadata_filter": "-all"
  },
  "kernelspec": {
   "display_name": "Python 3",
   "language": "python",
   "name": "python3"
  }
 },
 "nbformat": 4,
 "nbformat_minor": 5
}
